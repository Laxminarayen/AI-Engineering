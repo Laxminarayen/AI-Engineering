{
  "nbformat": 4,
  "nbformat_minor": 0,
  "metadata": {
    "colab": {
      "name": "Python Zip Function.ipynb",
      "provenance": [],
      "authorship_tag": "ABX9TyPbrg1+wAsn5YSclpa6cJBs",
      "include_colab_link": true
    },
    "kernelspec": {
      "name": "python3",
      "display_name": "Python 3"
    }
  },
  "cells": [
    {
      "cell_type": "markdown",
      "metadata": {
        "id": "view-in-github",
        "colab_type": "text"
      },
      "source": [
        "<a href=\"https://colab.research.google.com/github/plthiyagu/AI-Engineering/blob/master/05-Python/Python_Zip_Function.ipynb\" target=\"_parent\"><img src=\"https://colab.research.google.com/assets/colab-badge.svg\" alt=\"Open In Colab\"/></a>"
      ]
    },
    {
      "cell_type": "markdown",
      "metadata": {
        "id": "4JFkgKVsZ5Oi"
      },
      "source": [
        "zip() is a built-in Python function that gives us an iterator of tuples."
      ]
    },
    {
      "cell_type": "code",
      "metadata": {
        "colab": {
          "base_uri": "https://localhost:8080/"
        },
        "id": "bEen4Ff2ZnH7",
        "outputId": "defd1d67-b187-4107-9f64-9689ad62e07c"
      },
      "source": [
        "for i in zip([1,2,3],['a','b','c']):\r\n",
        "  print(i)"
      ],
      "execution_count": null,
      "outputs": [
        {
          "output_type": "stream",
          "text": [
            "(1, 'a')\n",
            "(2, 'b')\n",
            "(3, 'c')\n"
          ],
          "name": "stdout"
        }
      ]
    },
    {
      "cell_type": "markdown",
      "metadata": {
        "id": "eWz4xNi4aMTN"
      },
      "source": [
        "What happens when we provide no arguments to zip()?"
      ]
    },
    {
      "cell_type": "code",
      "metadata": {
        "colab": {
          "base_uri": "https://localhost:8080/"
        },
        "id": "_NRpq5BGaAVx",
        "outputId": "fe8d2f34-8f1b-47db-d950-44ede0cf47b4"
      },
      "source": [
        "set(zip())"
      ],
      "execution_count": null,
      "outputs": [
        {
          "output_type": "execute_result",
          "data": {
            "text/plain": [
              "set()"
            ]
          },
          "metadata": {
            "tags": []
          },
          "execution_count": 2
        }
      ]
    },
    {
      "cell_type": "code",
      "metadata": {
        "colab": {
          "base_uri": "https://localhost:8080/"
        },
        "id": "2IovnlL2aRYg",
        "outputId": "6a601214-98e6-4fca-f6d9-182ee7ba4cab"
      },
      "source": [
        "for i in zip([1,2,3]):\r\n",
        "  print(i)\r\n"
      ],
      "execution_count": null,
      "outputs": [
        {
          "output_type": "stream",
          "text": [
            "(1,)\n",
            "(2,)\n",
            "(3,)\n"
          ],
          "name": "stdout"
        }
      ]
    },
    {
      "cell_type": "markdown",
      "metadata": {
        "id": "2R8Mw3w9bwJ8"
      },
      "source": [
        "Multiple arguments of the same lengths"
      ]
    },
    {
      "cell_type": "code",
      "metadata": {
        "colab": {
          "base_uri": "https://localhost:8080/"
        },
        "id": "a8w0VQK7abYU",
        "outputId": "fe2863bb-adf3-4700-848b-963b70c86658"
      },
      "source": [
        "for i in zip([1,2,3],['a','b','c'],['#','*','$']):\r\n",
        "  print(i)"
      ],
      "execution_count": null,
      "outputs": [
        {
          "output_type": "stream",
          "text": [
            "(1, 'a', '#')\n",
            "(2, 'b', '*')\n",
            "(3, 'c', '$')\n"
          ],
          "name": "stdout"
        }
      ]
    },
    {
      "cell_type": "markdown",
      "metadata": {
        "id": "byub7rwlbzzm"
      },
      "source": [
        "Multiple arguments of different lengths\r\n"
      ]
    },
    {
      "cell_type": "code",
      "metadata": {
        "colab": {
          "base_uri": "https://localhost:8080/"
        },
        "id": "SmAgCzHQbsWK",
        "outputId": "4ab99105-abba-4574-9e1e-e4a0e1da44e4"
      },
      "source": [
        "set(zip([1,2],[3,4,5]))"
      ],
      "execution_count": null,
      "outputs": [
        {
          "output_type": "execute_result",
          "data": {
            "text/plain": [
              "{(1, 3), (2, 4)}"
            ]
          },
          "metadata": {
            "tags": []
          },
          "execution_count": 5
        }
      ]
    },
    {
      "cell_type": "code",
      "metadata": {
        "colab": {
          "base_uri": "https://localhost:8080/"
        },
        "id": "w2XJzRpDb6ZN",
        "outputId": "7a7714e2-cc34-48e1-af5a-ce4501146bee"
      },
      "source": [
        "from itertools import zip_longest as zl\r\n",
        "set(zl([1,2],[3,4,5]))"
      ],
      "execution_count": null,
      "outputs": [
        {
          "output_type": "execute_result",
          "data": {
            "text/plain": [
              "{(1, 3), (2, 4), (None, 5)}"
            ]
          },
          "metadata": {
            "tags": []
          },
          "execution_count": 6
        }
      ]
    },
    {
      "cell_type": "markdown",
      "metadata": {
        "id": "gxjMxc33cGW8"
      },
      "source": [
        "Unzipping Values in Python\r\n"
      ]
    },
    {
      "cell_type": "code",
      "metadata": {
        "colab": {
          "base_uri": "https://localhost:8080/"
        },
        "id": "OG1SD1OWcBsM",
        "outputId": "2aa28839-411e-42a7-8cc4-3b3165f6822f"
      },
      "source": [
        "z=zip([1,2,3],['a','b','c'],['#','*','$'])\r\n",
        "a,b,c=zip(*z)\r\n",
        "a,b,c"
      ],
      "execution_count": null,
      "outputs": [
        {
          "output_type": "execute_result",
          "data": {
            "text/plain": [
              "((1, 2, 3), ('a', 'b', 'c'), ('#', '*', '$'))"
            ]
          },
          "metadata": {
            "tags": []
          },
          "execution_count": 7
        }
      ]
    },
    {
      "cell_type": "code",
      "metadata": {
        "colab": {
          "base_uri": "https://localhost:8080/"
        },
        "id": "U0r7ulwicO9w",
        "outputId": "cfb4a5e2-ad1e-4075-d0f5-7fefebce1268"
      },
      "source": [
        "z=zip([1,2],[3,4,5])\r\n",
        "a,b=zip(*z)\r\n",
        "a,b\r\n"
      ],
      "execution_count": null,
      "outputs": [
        {
          "output_type": "execute_result",
          "data": {
            "text/plain": [
              "((1, 2), (3, 4))"
            ]
          },
          "metadata": {
            "tags": []
          },
          "execution_count": 8
        }
      ]
    },
    {
      "cell_type": "code",
      "metadata": {
        "id": "V93QsrYmcaoa"
      },
      "source": [
        ""
      ],
      "execution_count": null,
      "outputs": []
    }
  ]
}