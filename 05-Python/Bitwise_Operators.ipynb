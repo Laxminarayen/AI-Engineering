{
  "cells": [
    {
      "cell_type": "markdown",
      "metadata": {
        "colab_type": "text",
        "id": "view-in-github"
      },
      "source": [
        "<a href=\"https://colab.research.google.com/github/plthiyagu/Personnel/blob/master/Bitwise_Operators.ipynb\" target=\"_parent\"><img src=\"https://colab.research.google.com/assets/colab-badge.svg\" alt=\"Open In Colab\"/></a>"
      ]
    },
    {
      "cell_type": "markdown",
      "metadata": {
        "colab_type": "text",
        "id": "IzpgMoM3WMlH"
      },
      "source": [
        "Convert a Number to Binary"
      ]
    },
    {
      "cell_type": "code",
      "execution_count": 1,
      "metadata": {
        "colab": {
          "base_uri": "https://localhost:8080/",
          "height": 34
        },
        "colab_type": "code",
        "id": "JkljDCCHWORU",
        "outputId": "8634bf7b-a1bc-4b82-ae39-eb470d944446"
      },
      "outputs": [
        {
          "name": "stdout",
          "output_type": "stream",
          "text": [
            "0b1001\n"
          ]
        }
      ],
      "source": [
        "dec_num=9\n",
        "bin_num=bin(dec_num)\n",
        "print(bin_num)"
      ]
    },
    {
      "cell_type": "markdown",
      "metadata": {
        "colab_type": "text",
        "id": "0Gp4ja0vWX3n"
      },
      "source": [
        "ob1001    9 sub 10 = 1001 sub 2"
      ]
    },
    {
      "cell_type": "markdown",
      "metadata": {
        "colab_type": "text",
        "id": "_FMUVu7-Whbg"
      },
      "source": [
        "Left and Right Shift Bits\n",
        "\n",
        "x<<y\n",
        "Returns x with the bits shifted to the left by y places////9and new bits on the right hand side are zeros). This is the same as multiplying x by 2**y\n",
        "\n",
        "x>>y\n",
        "Returns x with the bits shifted to the right by y places. this is the same as dividing (//) x by 2** y"
      ]
    },
    {
      "cell_type": "code",
      "execution_count": 4,
      "metadata": {
        "colab": {
          "base_uri": "https://localhost:8080/",
          "height": 51
        },
        "colab_type": "code",
        "id": "ZZUqBAwjWTgv",
        "outputId": "6d81b42b-580a-457d-ed07-4d8acbd2f371"
      },
      "outputs": [
        {
          "name": "stdout",
          "output_type": "stream",
          "text": [
            "16\n",
            "1\n"
          ]
        }
      ],
      "source": [
        "print(4<<2)\n",
        "#-> 4 * 2*2=16\n",
        "print(4>>2)\n",
        "#-> 4 //2 * 2 =1"
      ]
    },
    {
      "cell_type": "markdown",
      "metadata": {
        "colab_type": "text",
        "id": "EPx3hwKOXY9y"
      },
      "source": [
        "x & y\n",
        "\n",
        "Does a \"bitwise and\" . Each bit of the output is 1 if the corresponding bit of x AND of y is 1 otherwise its 0\n",
        "\n",
        "x|y\n",
        "\n",
        "Does a \"bitwise or\". Each bit if the output is ) is the corresponding bit of x AND of y is 0, otherwise its 1"
      ]
    },
    {
      "cell_type": "code",
      "execution_count": 5,
      "metadata": {
        "colab": {
          "base_uri": "https://localhost:8080/",
          "height": 34
        },
        "colab_type": "code",
        "id": "S5ew7TiWX21i",
        "outputId": "072cefbd-a0d9-4297-dbe2-2461400854e5"
      },
      "outputs": [
        {
          "name": "stdout",
          "output_type": "stream",
          "text": [
            "5\n"
          ]
        }
      ],
      "source": [
        "print(5 & 7)\n",
        "#5\n",
        "#0101 & 0111"
      ]
    },
    {
      "cell_type": "code",
      "execution_count": 6,
      "metadata": {
        "colab": {
          "base_uri": "https://localhost:8080/",
          "height": 34
        },
        "colab_type": "code",
        "id": "94xRhnmxX5Xp",
        "outputId": "b5f06706-cc74-4706-882c-583bbbab949d"
      },
      "outputs": [
        {
          "name": "stdout",
          "output_type": "stream",
          "text": [
            "7\n"
          ]
        }
      ],
      "source": [
        "print(5|7)\n",
        "#7\n",
        "#0101 par= 5"
      ]
    },
    {
      "cell_type": "markdown",
      "metadata": {
        "colab_type": "text",
        "id": "UHvD3SiQYLE0"
      },
      "source": [
        "Bitwise Negation and XOR\n",
        "\n",
        "~X\n",
        "\n",
        "Returns the complement of x - the number you get by switiching each 1 for a 0 and each 0 for a 1. This is the same as -x -1\n",
        "\n",
        "x ^ y\n",
        "\n",
        "Does a \" bitwise exclusive or\". Each bit of the output is the same as the corresponding bit in x if that bit in y is 0, and its the complement of the bit in x if that bit in y is 1\n"
      ]
    },
    {
      "cell_type": "code",
      "execution_count": 8,
      "metadata": {
        "colab": {
          "base_uri": "https://localhost:8080/",
          "height": 51
        },
        "colab_type": "code",
        "id": "876__L-kYtUF",
        "outputId": "b7d5ff2f-7598-400b-d40b-5144621b2b13"
      },
      "outputs": [
        {
          "name": "stdout",
          "output_type": "stream",
          "text": [
            "-8\n",
            "2\n"
          ]
        }
      ],
      "source": [
        "print(~7)\n",
        "#-8\n",
        "#0101 ^ 0111\n",
        "\n",
        "print(5 ^ 7)\n",
        "#2\n",
        "# 0010 par = 2\n",
        "\n"
      ]
    },
    {
      "cell_type": "code",
      "execution_count": 0,
      "metadata": {
        "colab": {},
        "colab_type": "code",
        "id": "LpjQytA3Y9Fr"
      },
      "outputs": [],
      "source": [
        "print(\"Hello\")"
      ]
    },
    {
      "cell_type": "code",
      "execution_count": 0,
      "metadata": {
        "colab": {},
        "colab_type": "code",
        "id": "qgp2CivAXV16"
      },
      "outputs": [],
      "source": []
    },
    {
      "cell_type": "code",
      "execution_count": 0,
      "metadata": {
        "colab": {},
        "colab_type": "code",
        "id": "bcXQYcmxXPN6"
      },
      "outputs": [],
      "source": []
    }
  ],
  "metadata": {
    "colab": {
      "authorship_tag": "ABX9TyNZHZg/YZ3US52Ajp5xdft1",
      "collapsed_sections": [],
      "include_colab_link": true,
      "name": "Bitwise Operators.ipynb",
      "provenance": []
    },
    "kernelspec": {
      "display_name": "Python 3",
      "language": "python",
      "name": "python3"
    },
    "language_info": {
      "version": "3.8.6-final"
    }
  },
  "nbformat": 4,
  "nbformat_minor": 0
}