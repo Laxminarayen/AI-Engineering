{
 "cells": [
  {
   "cell_type": "code",
   "execution_count": 1,
   "metadata": {
    "collapsed": false
   },
   "outputs": [
    {
     "name": "stdout",
     "output_type": "stream",
     "text": [
      "['7383-3-0-0.wav', '1', '15', '2', '.ipynb_checkpoints', '7', '11', '31', '8', '20', '16', '10', '35', '21', '12', '26', '3', '24', '25', '19', '14', '6', '4', '5', '17', '13', '9', '33', 'vidtimit_documentation.pdf', '28', '32', 'Speaker Recognition.ipynb', '7061-6-0-0.wav', '29', '23', '30', '18', '34', '27', '22']\n"
     ]
    }
   ],
   "source": [
    "import librosa\n",
    "import numpy as np\n",
    "import os\n",
    "print(os.listdir(os.getcwd()))\n",
    "import glob"
   ]
  },
  {
   "cell_type": "code",
   "execution_count": 144,
   "metadata": {
    "collapsed": true
   },
   "outputs": [],
   "source": [
    "def extract_feature(file_name):\n",
    "    X, sample_rate = librosa.load(file_name)\n",
    "    stft = np.abs(librosa.stft(X))\n",
    "    mfccs = np.mean(librosa.feature.mfcc(y=X, sr=sample_rate, n_mfcc=40).T,axis=0)\n",
    "    chroma = np.mean(librosa.feature.chroma_stft(S=stft, sr=sample_rate).T,axis=0)\n",
    "    mel = np.mean(librosa.feature.melspectrogram(X, sr=sample_rate).T,axis=0)\n",
    "    contrast = np.mean(librosa.feature.spectral_contrast(S=stft, sr=sample_rate).T,axis=0)\n",
    "    tonnetz = np.mean(librosa.feature.tonnetz(y=librosa.effects.harmonic(X), sr=sample_rate).T,axis=0)\n",
    "    return mfccs,chroma,mel,contrast,tonnetz\n",
    "\n",
    "def parse_audio_files(parent_dir,sub_dirs,file_ext='*.wav'):\n",
    "    features, labels = np.empty((0,193)), np.empty(0)\n",
    "    for label, path in enumerate(parent_dir):\n",
    "        for fn in glob.glob(os.path.join(str(path), sub_dirs, file_ext)):\n",
    "            try:\n",
    "                mfccs, chroma, mel, contrast,tonnetz = extract_feature(fn)\n",
    "                ext_features = np.hstack([mfccs,chroma,mel,contrast,tonnetz])\n",
    "                features = np.vstack([features,ext_features])\n",
    "                labels = np.append(labels,path)\n",
    "            except:\n",
    "                continue\n",
    "    return np.array(features), np.array(labels, dtype = np.int)\n",
    "\n",
    "def one_hot_encode(labels):\n",
    "    n_labels = len(labels)\n",
    "    n_unique_labels = len(np.unique(labels))\n",
    "    one_hot_encode = np.zeros((n_labels,n_unique_labels))\n",
    "    one_hot_encode[np.arange(n_labels), labels] = 1\n",
    "    return one_hot_encode"
   ]
  },
  {
   "cell_type": "code",
   "execution_count": 91,
   "metadata": {
    "collapsed": false
   },
   "outputs": [],
   "source": [
    "#extract_feature(glob.glob(os.path.join('1','audio','*.wav'))[2]())\n",
    "parent_dir=np.arange(1,36,1)\n",
    "sub_dirs='audio'\n",
    "file_ext='*.wav'"
   ]
  },
  {
   "cell_type": "code",
   "execution_count": 92,
   "metadata": {
    "collapsed": false
   },
   "outputs": [],
   "source": [
    "features,labels=parse_audio_files(parent_dir,sub_dirs,file_ext)"
   ]
  },
  {
   "cell_type": "code",
   "execution_count": 2,
   "metadata": {
    "collapsed": false
   },
   "outputs": [
    {
     "name": "stderr",
     "output_type": "stream",
     "text": [
      "/home/akshay/anaconda3/envs/python2/lib/python2.7/site-packages/sklearn/cross_validation.py:44: DeprecationWarning: This module was deprecated in version 0.18 in favor of the model_selection module into which all the refactored classes and functions are moved. Also note that the interface of the new CV iterators are different from that of this module. This module will be removed in 0.20.\n",
      "  \"This module will be removed in 0.20.\", DeprecationWarning)\n"
     ]
    }
   ],
   "source": [
    "import pandas as pd\n",
    "from patsy import dmatrices\n",
    "from sklearn.linear_model import LogisticRegression\n",
    "from sklearn.cross_validation import train_test_split\n",
    "from sklearn import metrics\n",
    "from sklearn.cross_validation import cross_val_score"
   ]
  },
  {
   "cell_type": "code",
   "execution_count": 108,
   "metadata": {
    "collapsed": false
   },
   "outputs": [
    {
     "data": {
      "text/plain": [
       "LogisticRegression(C=1.0, class_weight=None, dual=False, fit_intercept=True,\n",
       "          intercept_scaling=1, max_iter=100, multi_class='ovr', n_jobs=1,\n",
       "          penalty='l2', random_state=None, solver='liblinear', tol=0.0001,\n",
       "          verbose=0, warm_start=False)"
      ]
     },
     "execution_count": 108,
     "metadata": {},
     "output_type": "execute_result"
    }
   ],
   "source": [
    "# evaluate the model by splitting into train and test sets\n",
    "X_train, X_test, y_train, y_test = train_test_split(features, labels, test_size=0.3, random_state=0)\n",
    "model2 = LogisticRegression()\n",
    "model2.fit(X_train, y_train)"
   ]
  },
  {
   "cell_type": "code",
   "execution_count": 109,
   "metadata": {
    "collapsed": false
   },
   "outputs": [
    {
     "name": "stdout",
     "output_type": "stream",
     "text": [
      "[ 1  6 28  5 30 19 20 12 10 26 34  7 23 14 10 14 14 32 22 24 25 28  4 11 16\n",
      "  3  2  9  8 18  8  7  6 12  6 11 22 20  8  3 29 18 20 35 30 11 11 21 18 12\n",
      " 14 35 34  1  7 21 16 27  8  6 26 34  6 25  3 11  4 13 22  7 27 24 31  3 14\n",
      " 31  5 29 29 18 23 21 29  3 27 35  4 23  7 13  2 23 32 29 26  2 17 13 28 22\n",
      " 35  3 31 28 31]\n"
     ]
    }
   ],
   "source": [
    "# predict class labels for the test set\n",
    "predicted = model2.predict(X_test)\n",
    "print predicted"
   ]
  },
  {
   "cell_type": "code",
   "execution_count": 112,
   "metadata": {
    "collapsed": false
   },
   "outputs": [
    {
     "name": "stdout",
     "output_type": "stream",
     "text": [
      "[[  9.21388220e-01   7.26179782e-05   3.99686560e-06 ...,   2.78799587e-05\n",
      "    2.25508741e-04   8.21148060e-04]\n",
      " [  9.86267145e-04   3.75610054e-06   3.62539510e-02 ...,   1.22435431e-04\n",
      "    9.26138445e-05   1.02212546e-04]\n",
      " [  1.37308271e-05   8.69859835e-07   2.85747880e-02 ...,   7.32623516e-02\n",
      "    1.01359881e-04   4.52908532e-06]\n",
      " ..., \n",
      " [  5.27385589e-06   1.02140418e-06   2.05510803e-04 ...,   1.82510302e-05\n",
      "    4.13143123e-04   2.74858765e-08]\n",
      " [  9.63269670e-03   1.39103571e-06   1.00597464e-03 ...,   6.14738255e-04\n",
      "    1.05341994e-06   2.46914162e-08]\n",
      " [  4.39502351e-06   8.36172214e-06   3.07358285e-07 ...,   6.33430378e-06\n",
      "    5.68553885e-03   1.15365919e-08]]\n"
     ]
    }
   ],
   "source": [
    "probs = model2.predict_proba(X_test)\n",
    "print probs"
   ]
  },
  {
   "cell_type": "code",
   "execution_count": 115,
   "metadata": {
    "collapsed": false
   },
   "outputs": [
    {
     "name": "stdout",
     "output_type": "stream",
     "text": [
      "0.933333333333\n"
     ]
    }
   ],
   "source": [
    "print metrics.accuracy_score(y_test, predicted)\n"
   ]
  },
  {
   "cell_type": "code",
   "execution_count": 122,
   "metadata": {
    "collapsed": false
   },
   "outputs": [],
   "source": [
    "#print metrics.confusion_matrix(y_test, predicted)\n",
    "#print metrics.classification_report(y_test, predicted)\n",
    "import time"
   ]
  },
  {
   "cell_type": "code",
   "execution_count": 125,
   "metadata": {
    "collapsed": false
   },
   "outputs": [
    {
     "name": "stdout",
     "output_type": "stream",
     "text": [
      "[ 0.91428571  0.88571429  0.91428571  0.94285714  0.94285714  0.94285714\n",
      "  1.          0.97142857  0.94285714  1.        ]\n",
      "0.945714285714 3.87422990799\n"
     ]
    }
   ],
   "source": [
    "# evaluate the model using 10-fold cross-validation\n",
    "a=time.time()\n",
    "scores = cross_val_score(LogisticRegression(), features, labels, scoring='accuracy', cv=10)\n",
    "print scores\n",
    "print scores.mean(),time.time()-a"
   ]
  },
  {
   "cell_type": "code",
   "execution_count": 124,
   "metadata": {
    "collapsed": false
   },
   "outputs": [],
   "source": [
    "#help(cross_val_score)#2.50632381439,#3.87422990799"
   ]
  }
 ],
 "metadata": {
  "anaconda-cloud": {},
  "kernelspec": {
   "display_name": "Python 3.6.10 64-bit ('tf': conda)",
   "language": "python",
   "name": "python_defaultSpec_1597279529542"
  },
  "language_info": {
   "codemirror_mode": {
    "name": "ipython",
    "version": 2
   },
   "file_extension": ".py",
   "mimetype": "text/x-python",
   "name": "python",
   "nbconvert_exporter": "python",
   "pygments_lexer": "ipython2",
   "version": "3.6.10-final"
  }
 },
 "nbformat": 4,
 "nbformat_minor": 1
}