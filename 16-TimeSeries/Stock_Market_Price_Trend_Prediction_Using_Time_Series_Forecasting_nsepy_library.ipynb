{
  "nbformat": 4,
  "nbformat_minor": 0,
  "metadata": {
    "colab": {
      "name": "Stock Market Price Trend Prediction Using Time Series Forecasting nsepy library.ipynb",
      "provenance": [],
      "authorship_tag": "ABX9TyOYumjHQN0KbLt3TTiuHTEH",
      "include_colab_link": true
    },
    "kernelspec": {
      "name": "python3",
      "display_name": "Python 3"
    },
    "accelerator": "GPU"
  },
  "cells": [
    {
      "cell_type": "markdown",
      "metadata": {
        "id": "view-in-github",
        "colab_type": "text"
      },
      "source": [
        "<a href=\"https://colab.research.google.com/github/plthiyagu/AI-Engineering/blob/master/16-TimeSeries/Stock_Market_Price_Trend_Prediction_Using_Time_Series_Forecasting_nsepy_library.ipynb\" target=\"_parent\"><img src=\"https://colab.research.google.com/assets/colab-badge.svg\" alt=\"Open In Colab\"/></a>"
      ]
    },
    {
      "cell_type": "markdown",
      "metadata": {
        "id": "twwl6-w68dUT"
      },
      "source": [
        "https://www.analyticsvidhya.com/blog/2020/11/stock-market-price-trend-prediction-using-time-series-forecasting/?utm_source=feedburner&utm_medium=email&utm_campaign=Feed%3A+AnalyticsVidhya+%28Analytics+Vidhya%29"
      ]
    },
    {
      "cell_type": "code",
      "metadata": {
        "id": "I4ad99si5RPA"
      },
      "source": [
        "!pip install pmdarima\n",
        "!pip install nsepy"
      ],
      "execution_count": null,
      "outputs": []
    },
    {
      "cell_type": "code",
      "metadata": {
        "id": "ofpVfZ915J_x"
      },
      "source": [
        "import os\n",
        "import warnings\n",
        "warnings.filterwarnings('ignore')\n",
        "from pylab import rcParams\n",
        "rcParams['figure.figsize'] = 10, 6\n",
        "from statsmodels.tsa.stattools import adfuller\n",
        "from statsmodels.tsa.seasonal import seasonal_decompose\n",
        "from statsmodels.tsa.arima_model import ARIMA\n",
        "from pmdarima.arima import auto_arima\n",
        "from sklearn.metrics import mean_squared_error, mean_absolute_error\n",
        "import math\n",
        "import numpy as np\n",
        "from nsepy import get_history\n",
        "from datetime import date\n",
        "import matplotlib.pyplot as plt\n",
        "import seaborn as sns\n",
        "import pandas as pd"
      ],
      "execution_count": 2,
      "outputs": []
    },
    {
      "cell_type": "code",
      "metadata": {
        "id": "X6rip22c5O2k"
      },
      "source": [
        "sbin = get_history(symbol='SBIN',\n",
        "                   start=date(2000,1,1),\n",
        "                   end=date(2020,11,1))\n",
        "sbin.head()"
      ],
      "execution_count": null,
      "outputs": []
    },
    {
      "cell_type": "code",
      "metadata": {
        "id": "i3VtAefA7eGK"
      },
      "source": [
        "plt.figure(figsize=(10,6))\n",
        "plt.grid(True)\n",
        "plt.xlabel('Dates')\n",
        "plt.ylabel('Close Prices')\n",
        "plt.plot(sbin['Close'])\n",
        "plt.title('SBIN closing price')\n",
        "plt.show()"
      ],
      "execution_count": null,
      "outputs": []
    },
    {
      "cell_type": "code",
      "metadata": {
        "id": "Zj5RzQzR7ffr"
      },
      "source": [
        "plt.figure(figsize=(10,6))\n",
        "df_close = sbin['Close']\n",
        "df_close.plot(style='k.')\n",
        "plt.title('Scatter plot of closing price')\n",
        "plt.show()"
      ],
      "execution_count": null,
      "outputs": []
    },
    {
      "cell_type": "code",
      "metadata": {
        "id": "AqkQIXM77lIQ"
      },
      "source": [
        "plt.figure(figsize=(10,6))\n",
        "df_close = sbin['Close']\n",
        "df_close.plot(style='k.',kind='hist')\n",
        "plt.title('Hisogram of closing price')\n",
        "plt.show()"
      ],
      "execution_count": null,
      "outputs": []
    },
    {
      "cell_type": "code",
      "metadata": {
        "id": "ghQee2Zf7pG1"
      },
      "source": [
        "from statsmodels.tsa.stattools import adfuller\n",
        "def test_stationarity(timeseries):\n",
        "    #Determing rolling statistics\n",
        "    rolmean = timeseries.rolling(12).mean()\n",
        "    rolstd = timeseries.rolling(12).std()\n",
        "    #Plot rolling statistics:\n",
        "    plt.plot(timeseries, color='yellow',label='Original')\n",
        "    plt.plot(rolmean, color='red', label='Rolling Mean')\n",
        "    plt.plot(rolstd, color='black', label = 'Rolling Std')\n",
        "    plt.legend(loc='best')\n",
        "    plt.title('Rolling Mean and Standard Deviation')\n",
        "    plt.show(block=False)\n",
        "    print(\"Results of dickey fuller test\")\n",
        "    adft = adfuller(timeseries,autolag='AIC')\n",
        "    # output for dft will give us without defining what the values are.\n",
        "    #hence we manually write what values does it explains using a for loop\n",
        "    output = pd.Series(adft[0:4],index=['Test Statistics','p-value','No. of lags used','Number of observations used'])\n",
        "    for key,values in adft[4].items():\n",
        "        output['critical value (%s)'%key] =  values\n",
        "    print(output)\n",
        "\n",
        "test_stationarity(sbin['Close'])"
      ],
      "execution_count": null,
      "outputs": []
    },
    {
      "cell_type": "code",
      "metadata": {
        "id": "O2HSIoCK7vr8"
      },
      "source": [
        "result = seasonal_decompose(df_close, model='multiplicative', freq = 30)\n",
        "fig = plt.figure()  \n",
        "fig = result.plot()  \n",
        "fig.set_size_inches(16, 9)"
      ],
      "execution_count": null,
      "outputs": []
    },
    {
      "cell_type": "code",
      "metadata": {
        "id": "hPCA7tXT71Lx"
      },
      "source": [
        "from pylab import rcParams\n",
        "rcParams['figure.figsize'] = 10, 6\n",
        "df_log = np.log(sbin['Close'])\n",
        "moving_avg = df_log.rolling(12).mean()\n",
        "std_dev = df_log.rolling(12).std()\n",
        "plt.legend(loc='best')\n",
        "plt.title('Moving Average')\n",
        "plt.plot(std_dev, color =\"black\", label = \"Standard Deviation\")\n",
        "plt.plot(moving_avg, color=\"red\", label = \"Mean\")\n",
        "plt.legend()\n",
        "plt.show()"
      ],
      "execution_count": null,
      "outputs": []
    },
    {
      "cell_type": "code",
      "metadata": {
        "id": "mAAHNfsa781b"
      },
      "source": [
        "train_data, test_data = df_log[3:int(len(df_log)*0.9)], df_log[int(len(df_log)*0.9):]\n",
        "plt.figure(figsize=(10,6))\n",
        "plt.grid(True)\n",
        "plt.xlabel('Dates')\n",
        "plt.ylabel('Closing Prices')\n",
        "plt.plot(df_log, 'green', label='Train data')\n",
        "plt.plot(test_data, 'blue', label='Test data')\n",
        "plt.legend()"
      ],
      "execution_count": null,
      "outputs": []
    },
    {
      "cell_type": "code",
      "metadata": {
        "id": "FLwtgHf18BaN"
      },
      "source": [
        "model_autoARIMA = auto_arima(train_data, start_p=0, start_q=0,\n",
        "test='adf',       # use adftest to find optimal 'd'\n",
        "max_p=3, max_q=3, # maximum p and q\n",
        "m=1,              # frequency of series\n",
        "d=None,           # let model determine 'd'\n",
        "seasonal=False,   # No Seasonality\n",
        "start_P=0, \n",
        "D=0, \n",
        "trace=True,\n",
        "error_action='ignore',  \n",
        "suppress_warnings=True, \n",
        "stepwise=True)\n",
        "print(model_autoARIMA.summary())"
      ],
      "execution_count": null,
      "outputs": []
    },
    {
      "cell_type": "code",
      "metadata": {
        "id": "kygBSBTN8GGE"
      },
      "source": [
        "model_autoARIMA.plot_diagnostics(figsize=(15,8))\n",
        "plt.show()"
      ],
      "execution_count": null,
      "outputs": []
    },
    {
      "cell_type": "code",
      "metadata": {
        "id": "oIPQnF3w8Ke0"
      },
      "source": [
        "model = ARIMA(train_data, order=(3, 1, 2))\n",
        "fitted = model.fit(disp=-1)\n",
        "print(fitted.summary())"
      ],
      "execution_count": null,
      "outputs": []
    },
    {
      "cell_type": "code",
      "metadata": {
        "id": "7tTQJ4O38OVo"
      },
      "source": [
        "# Forecast\n",
        "\n",
        "fc, se, conf = fitted.forecast(519, alpha=0.05)  # 95% confidence"
      ],
      "execution_count": null,
      "outputs": []
    },
    {
      "cell_type": "code",
      "metadata": {
        "id": "-wF7wyPP8UHx"
      },
      "source": [
        "fc_series = pd.Series(fc, index=test_data.index)\n",
        "lower_series = pd.Series(conf[:, 0], index=test_data.index)\n",
        "upper_series = pd.Series(conf[:, 1], index=test_data.index)\n",
        "plt.figure(figsize=(12,5), dpi=100)\n",
        "plt.plot(train_data, label='training')\n",
        "plt.plot(test_data, color = 'blue', label='Actual Stock Price')\n",
        "plt.plot(fc_series, color = 'orange',label='Predicted Stock Price')\n",
        "plt.fill_between(lower_series.index, lower_series, upper_series, \n",
        "                 color='k', alpha=.10)\n",
        "plt.title('SBIN Stock Price Prediction')\n",
        "plt.xlabel('Time')\n",
        "plt.ylabel('Actual Stock Price')\n",
        "plt.legend(loc='upper left', fontsize=8)\n",
        "plt.show()"
      ],
      "execution_count": null,
      "outputs": []
    },
    {
      "cell_type": "code",
      "metadata": {
        "id": "yqAFMKb98YD3"
      },
      "source": [
        ""
      ],
      "execution_count": null,
      "outputs": []
    }
  ]
}