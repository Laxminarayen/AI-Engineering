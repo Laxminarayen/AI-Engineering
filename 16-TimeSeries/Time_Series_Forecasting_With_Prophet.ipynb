{
  "nbformat": 4,
  "nbformat_minor": 0,
  "metadata": {
    "colab": {
      "name": "Time Series Forecasting With Prophet.ipynb",
      "provenance": [],
      "authorship_tag": "ABX9TyPbRYke/nJm5DqUeM6nAj9o",
      "include_colab_link": true
    },
    "kernelspec": {
      "name": "python3",
      "display_name": "Python 3"
    }
  },
  "cells": [
    {
      "cell_type": "markdown",
      "metadata": {
        "id": "view-in-github",
        "colab_type": "text"
      },
      "source": [
        "<a href=\"https://colab.research.google.com/github/plthiyagu/Personnel/blob/master/Time_Series_Forecasting_With_Prophet.ipynb\" target=\"_parent\"><img src=\"https://colab.research.google.com/assets/colab-badge.svg\" alt=\"Open In Colab\"/></a>"
      ]
    },
    {
      "cell_type": "code",
      "metadata": {
        "id": "b7xr0K7p_xZB"
      },
      "source": [
        "import pandas as pd\n",
        "import numpy as np\n",
        "import matplotlib.pyplot as plt\n",
        "import seaborn as sns"
      ],
      "execution_count": 1,
      "outputs": []
    },
    {
      "cell_type": "code",
      "metadata": {
        "id": "_-R4f125_5G_",
        "outputId": "54869efa-e9d0-49c1-a1d0-acf8688a74ab",
        "colab": {
          "base_uri": "https://localhost:8080/"
        }
      },
      "source": [
        "!pip install fbprophet"
      ],
      "execution_count": 6,
      "outputs": [
        {
          "output_type": "stream",
          "text": [
            "Requirement already satisfied: fbprophet in /usr/local/lib/python3.6/dist-packages (0.7.1)\n",
            "Requirement already satisfied: Cython>=0.22 in /usr/local/lib/python3.6/dist-packages (from fbprophet) (0.29.21)\n",
            "Requirement already satisfied: cmdstanpy==0.9.5 in /usr/local/lib/python3.6/dist-packages (from fbprophet) (0.9.5)\n",
            "Requirement already satisfied: pystan>=2.14 in /usr/local/lib/python3.6/dist-packages (from fbprophet) (2.19.1.1)\n",
            "Requirement already satisfied: numpy>=1.15.4 in /usr/local/lib/python3.6/dist-packages (from fbprophet) (1.18.5)\n",
            "Requirement already satisfied: pandas>=1.0.4 in /usr/local/lib/python3.6/dist-packages (from fbprophet) (1.1.3)\n",
            "Requirement already satisfied: matplotlib>=2.0.0 in /usr/local/lib/python3.6/dist-packages (from fbprophet) (3.2.2)\n",
            "Requirement already satisfied: LunarCalendar>=0.0.9 in /usr/local/lib/python3.6/dist-packages (from fbprophet) (0.0.9)\n",
            "Requirement already satisfied: convertdate>=2.1.2 in /usr/local/lib/python3.6/dist-packages (from fbprophet) (2.2.2)\n",
            "Requirement already satisfied: holidays>=0.10.2 in /usr/local/lib/python3.6/dist-packages (from fbprophet) (0.10.3)\n",
            "Requirement already satisfied: setuptools-git>=1.2 in /usr/local/lib/python3.6/dist-packages (from fbprophet) (1.2)\n",
            "Requirement already satisfied: python-dateutil>=2.8.0 in /usr/local/lib/python3.6/dist-packages (from fbprophet) (2.8.1)\n",
            "Requirement already satisfied: tqdm>=4.36.1 in /usr/local/lib/python3.6/dist-packages (from fbprophet) (4.41.1)\n",
            "Requirement already satisfied: pytz>=2017.2 in /usr/local/lib/python3.6/dist-packages (from pandas>=1.0.4->fbprophet) (2018.9)\n",
            "Requirement already satisfied: cycler>=0.10 in /usr/local/lib/python3.6/dist-packages (from matplotlib>=2.0.0->fbprophet) (0.10.0)\n",
            "Requirement already satisfied: pyparsing!=2.0.4,!=2.1.2,!=2.1.6,>=2.0.1 in /usr/local/lib/python3.6/dist-packages (from matplotlib>=2.0.0->fbprophet) (2.4.7)\n",
            "Requirement already satisfied: kiwisolver>=1.0.1 in /usr/local/lib/python3.6/dist-packages (from matplotlib>=2.0.0->fbprophet) (1.2.0)\n",
            "Requirement already satisfied: ephem>=3.7.5.3 in /usr/local/lib/python3.6/dist-packages (from LunarCalendar>=0.0.9->fbprophet) (3.7.7.1)\n",
            "Requirement already satisfied: pymeeus<=1,>=0.3.6 in /usr/local/lib/python3.6/dist-packages (from convertdate>=2.1.2->fbprophet) (0.3.7)\n",
            "Requirement already satisfied: six in /usr/local/lib/python3.6/dist-packages (from holidays>=0.10.2->fbprophet) (1.15.0)\n",
            "Requirement already satisfied: korean-lunar-calendar in /usr/local/lib/python3.6/dist-packages (from holidays>=0.10.2->fbprophet) (0.2.1)\n"
          ],
          "name": "stdout"
        }
      ]
    },
    {
      "cell_type": "code",
      "metadata": {
        "id": "wvOTt2n4ACqk",
        "outputId": "80d2607f-a97a-4eec-e2c3-60b560f92245",
        "colab": {
          "base_uri": "https://localhost:8080/"
        }
      },
      "source": [
        "# check prophet version\n",
        "import fbprophet\n",
        "# print version number\n",
        "print('Prophet %s' % fbprophet.__version__)"
      ],
      "execution_count": 7,
      "outputs": [
        {
          "output_type": "stream",
          "text": [
            "Prophet 0.7.1\n"
          ],
          "name": "stdout"
        }
      ]
    },
    {
      "cell_type": "code",
      "metadata": {
        "id": "Y2NXuBYQ_7Ji",
        "outputId": "ba4df72d-d569-44ce-97ad-c4dab2fc9397",
        "colab": {
          "base_uri": "https://localhost:8080/"
        }
      },
      "source": [
        "# load the car sales dataset\n",
        "from pandas import read_csv\n",
        "# load data\n",
        "path = 'https://raw.githubusercontent.com/jbrownlee/Datasets/master/monthly-car-sales.csv'\n",
        "df = read_csv(path, header=0)\n",
        "# summarize shape\n",
        "print(df.shape)\n",
        "# show first few rows\n",
        "print(df.head())"
      ],
      "execution_count": 3,
      "outputs": [
        {
          "output_type": "stream",
          "text": [
            "(108, 2)\n",
            "     Month  Sales\n",
            "0  1960-01   6550\n",
            "1  1960-02   8728\n",
            "2  1960-03  12026\n",
            "3  1960-04  14395\n",
            "4  1960-05  14587\n"
          ],
          "name": "stdout"
        }
      ]
    },
    {
      "cell_type": "code",
      "metadata": {
        "id": "E_IRpaJpAl8L"
      },
      "source": [
        "# make an out-of-sample forecast\n",
        "from pandas import read_csv\n",
        "from pandas import to_datetime\n",
        "from pandas import DataFrame\n",
        "from fbprophet import Prophet\n",
        "from matplotlib import pyplot"
      ],
      "execution_count": 13,
      "outputs": []
    },
    {
      "cell_type": "code",
      "metadata": {
        "id": "FB2biNAI_8uG",
        "outputId": "6d516992-505e-4923-db39-60d7dab3d7b6",
        "colab": {
          "base_uri": "https://localhost:8080/",
          "height": 577
        }
      },
      "source": [
        "df.columns = ['ds', 'y']\n",
        "df['ds']= to_datetime(df['ds'])\n",
        "# define the model\n",
        "model = Prophet()\n",
        "# fit the model\n",
        "model.fit(df)\n",
        "# define the period for which we want a prediction\n",
        "future = list()\n",
        "for i in range(1, 13):\n",
        "\tdate = '1969-%02d' % i\n",
        "\tfuture.append([date])\n",
        "future = DataFrame(future)\n",
        "future.columns = ['ds']\n",
        "future['ds']= to_datetime(future['ds'])\n",
        "# use the model to make a forecast\n",
        "forecast = model.predict(future)\n",
        "# summarize the forecast\n",
        "print(forecast[['ds', 'yhat', 'yhat_lower', 'yhat_upper']].head())\n",
        "# plot forecast\n",
        "model.plot(forecast)\n",
        "pyplot.show()"
      ],
      "execution_count": 14,
      "outputs": [
        {
          "output_type": "stream",
          "text": [
            "INFO:fbprophet:Disabling weekly seasonality. Run prophet with weekly_seasonality=True to override this.\n",
            "INFO:fbprophet:Disabling daily seasonality. Run prophet with daily_seasonality=True to override this.\n"
          ],
          "name": "stderr"
        },
        {
          "output_type": "stream",
          "text": [
            "          ds          yhat    yhat_lower    yhat_upper\n",
            "0 1969-01-01  15375.960093  13830.120926  16909.590125\n",
            "1 1969-02-01  16142.271673  14550.716940  17706.177047\n",
            "2 1969-03-01  21351.832640  19783.410570  22955.771811\n",
            "3 1969-04-01  23477.889811  21963.010330  25155.734942\n",
            "4 1969-05-01  24988.440907  23390.539860  26466.795202\n"
          ],
          "name": "stdout"
        },
        {
          "output_type": "display_data",
          "data": {
            "image/png": "[encoded data removed]",
            "text/plain": [
              "<Figure size 720x432 with 1 Axes>"
            ]
          },
          "metadata": {
            "tags": []
          }
        }
      ]
    },
    {
      "cell_type": "code",
      "metadata": {
        "id": "SZD-30osA6Qx",
        "outputId": "56009ccb-cee8-4256-cb78-10f09cef52bb",
        "colab": {
          "base_uri": "https://localhost:8080/"
        }
      },
      "source": [
        "# create test dataset, remove last 12 months\n",
        "train = df.drop(df.index[-12:])\n",
        "print(train.tail())"
      ],
      "execution_count": 15,
      "outputs": [
        {
          "output_type": "stream",
          "text": [
            "           ds      y\n",
            "91 1967-08-01  13434\n",
            "92 1967-09-01  13598\n",
            "93 1967-10-01  17187\n",
            "94 1967-11-01  16119\n",
            "95 1967-12-01  13713\n"
          ],
          "name": "stdout"
        }
      ]
    },
    {
      "cell_type": "code",
      "metadata": {
        "id": "hzElc_BWBCf9",
        "outputId": "e375b0b6-79c4-44e7-d6fe-fca2f51c92da",
        "colab": {
          "base_uri": "https://localhost:8080/",
          "height": 214
        }
      },
      "source": [
        "# calculate MAE between expected and predicted values for december\n",
        "y_true = df['y'][-12:].values\n",
        "y_pred = forecast['yhat'].values\n",
        "mae = mean_absolute_error(y_true, y_pred)\n",
        "print('MAE: %.3f' % mae)"
      ],
      "execution_count": 16,
      "outputs": [
        {
          "output_type": "error",
          "ename": "NameError",
          "evalue": "ignored",
          "traceback": [
            "\u001b[0;31m---------------------------------------------------------------------------\u001b[0m",
            "\u001b[0;31mNameError\u001b[0m                                 Traceback (most recent call last)",
            "\u001b[0;32m<ipython-input-16-91a8661dad8a>\u001b[0m in \u001b[0;36m<module>\u001b[0;34m()\u001b[0m\n\u001b[1;32m      2\u001b[0m \u001b[0my_true\u001b[0m \u001b[0;34m=\u001b[0m \u001b[0mdf\u001b[0m\u001b[0;34m[\u001b[0m\u001b[0;34m'y'\u001b[0m\u001b[0;34m]\u001b[0m\u001b[0;34m[\u001b[0m\u001b[0;34m-\u001b[0m\u001b[0;36m12\u001b[0m\u001b[0;34m:\u001b[0m\u001b[0;34m]\u001b[0m\u001b[0;34m.\u001b[0m\u001b[0mvalues\u001b[0m\u001b[0;34m\u001b[0m\u001b[0;34m\u001b[0m\u001b[0m\n\u001b[1;32m      3\u001b[0m \u001b[0my_pred\u001b[0m \u001b[0;34m=\u001b[0m \u001b[0mforecast\u001b[0m\u001b[0;34m[\u001b[0m\u001b[0;34m'yhat'\u001b[0m\u001b[0;34m]\u001b[0m\u001b[0;34m.\u001b[0m\u001b[0mvalues\u001b[0m\u001b[0;34m\u001b[0m\u001b[0;34m\u001b[0m\u001b[0m\n\u001b[0;32m----> 4\u001b[0;31m \u001b[0mmae\u001b[0m \u001b[0;34m=\u001b[0m \u001b[0mmean_absolute_error\u001b[0m\u001b[0;34m(\u001b[0m\u001b[0my_true\u001b[0m\u001b[0;34m,\u001b[0m \u001b[0my_pred\u001b[0m\u001b[0;34m)\u001b[0m\u001b[0;34m\u001b[0m\u001b[0;34m\u001b[0m\u001b[0m\n\u001b[0m\u001b[1;32m      5\u001b[0m \u001b[0mprint\u001b[0m\u001b[0;34m(\u001b[0m\u001b[0;34m'MAE: %.3f'\u001b[0m \u001b[0;34m%\u001b[0m \u001b[0mmae\u001b[0m\u001b[0;34m)\u001b[0m\u001b[0;34m\u001b[0m\u001b[0;34m\u001b[0m\u001b[0m\n",
            "\u001b[0;31mNameError\u001b[0m: name 'mean_absolute_error' is not defined"
          ]
        }
      ]
    },
    {
      "cell_type": "code",
      "metadata": {
        "id": "zKscqi9CBHIp",
        "outputId": "c4a4becd-18fc-4290-c242-498e345157da",
        "colab": {
          "base_uri": "https://localhost:8080/",
          "height": 418
        }
      },
      "source": [
        "# evaluate prophet time series forecasting model on hold out dataset\n",
        "from pandas import read_csv\n",
        "from pandas import to_datetime\n",
        "from pandas import DataFrame\n",
        "from fbprophet import Prophet\n",
        "from sklearn.metrics import mean_absolute_error\n",
        "from matplotlib import pyplot\n",
        "# load data\n",
        "path = 'https://raw.githubusercontent.com/jbrownlee/Datasets/master/monthly-car-sales.csv'\n",
        "df = read_csv(path, header=0)\n",
        "# prepare expected column names\n",
        "df.columns = ['ds', 'y']\n",
        "df['ds']= to_datetime(df['ds'])\n",
        "# create test dataset, remove last 12 months\n",
        "train = df.drop(df.index[-12:])\n",
        "print(train.tail())\n",
        "# define the model\n",
        "model = Prophet()\n",
        "# fit the model\n",
        "model.fit(train)\n",
        "# define the period for which we want a prediction\n",
        "future = list()\n",
        "for i in range(1, 13):\n",
        "\tdate = '1968-%02d' % i\n",
        "\tfuture.append([date])\n",
        "future = DataFrame(future)\n",
        "future.columns = ['ds']\n",
        "future['ds'] = to_datetime(future['ds'])\n",
        "# use the model to make a forecast\n",
        "forecast = model.predict(future)\n",
        "# calculate MAE between expected and predicted values for december\n",
        "y_true = df['y'][-12:].values\n",
        "y_pred = forecast['yhat'].values\n",
        "mae = mean_absolute_error(y_true, y_pred)\n",
        "print('MAE: %.3f' % mae)\n",
        "# plot expected vs actual\n",
        "pyplot.plot(y_true, label='Actual')\n",
        "pyplot.plot(y_pred, label='Predicted')\n",
        "pyplot.legend()\n",
        "pyplot.show()"
      ],
      "execution_count": 17,
      "outputs": [
        {
          "output_type": "stream",
          "text": [
            "INFO:fbprophet:Disabling weekly seasonality. Run prophet with weekly_seasonality=True to override this.\n",
            "INFO:fbprophet:Disabling daily seasonality. Run prophet with daily_seasonality=True to override this.\n"
          ],
          "name": "stderr"
        },
        {
          "output_type": "stream",
          "text": [
            "           ds      y\n",
            "91 1967-08-01  13434\n",
            "92 1967-09-01  13598\n",
            "93 1967-10-01  17187\n",
            "94 1967-11-01  16119\n",
            "95 1967-12-01  13713\n",
            "MAE: 1336.814\n"
          ],
          "name": "stdout"
        },
        {
          "output_type": "display_data",
          "data": {
            "image/png": "[encoded data removed]",
            "text/plain": [
              "<Figure size 432x288 with 1 Axes>"
            ]
          },
          "metadata": {
            "tags": [],
            "needs_background": "light"
          }
        }
      ]
    },
    {
      "cell_type": "code",
      "metadata": {
        "id": "GpDyOILJCQQz"
      },
      "source": [
        ""
      ],
      "execution_count": null,
      "outputs": []
    },
    {
      "cell_type": "code",
      "metadata": {
        "id": "7c8adHPDAifD"
      },
      "source": [
        ""
      ],
      "execution_count": null,
      "outputs": []
    }
  ]
}