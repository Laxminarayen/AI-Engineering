{
  "nbformat": 4,
  "nbformat_minor": 0,
  "metadata": {
    "colab": {
      "name": "Predicting Stock Prices using Reinforcement Learning.ipynb",
      "provenance": [],
      "authorship_tag": "ABX9TyPnInl/fO/jjOJ2+OLsEf7b",
      "include_colab_link": true
    },
    "kernelspec": {
      "name": "python3",
      "display_name": "Python 3"
    }
  },
  "cells": [
    {
      "cell_type": "markdown",
      "metadata": {
        "id": "view-in-github",
        "colab_type": "text"
      },
      "source": [
        "<a href=\"https://colab.research.google.com/github/plthiyagu/Personnel/blob/master/Predicting_Stock_Prices_using_Reinforcement_Learning.ipynb\" target=\"_parent\"><img src=\"https://colab.research.google.com/assets/colab-badge.svg\" alt=\"Open In Colab\"/></a>"
      ]
    },
    {
      "cell_type": "code",
      "metadata": {
        "id": "AZHf4ClJpE0n"
      },
      "source": [
        "import pandas as pd\n",
        "import numpy as np\n",
        "import matplotlib.pyplot as plt\n",
        "import seaborn as sns"
      ],
      "execution_count": 2,
      "outputs": []
    },
    {
      "cell_type": "code",
      "metadata": {
        "id": "RJIGRrc1pOu9"
      },
      "source": [
        "filepath='https://raw.githubusercontent.com/plthiyagu/Personnel/master/Dataset/HDFCBANK%20Stock%20Price.csv'\n",
        "df= pd.read_csv(filepath)"
      ],
      "execution_count": 3,
      "outputs": []
    },
    {
      "cell_type": "code",
      "metadata": {
        "id": "6f1ZhNwOsa9J",
        "outputId": "351bae07-ffc9-41a4-8765-daf5c4be1459",
        "colab": {
          "base_uri": "https://localhost:8080/",
          "height": 204
        }
      },
      "source": [
        "df.head()"
      ],
      "execution_count": 4,
      "outputs": [
        {
          "output_type": "execute_result",
          "data": {
            "text/html": [
              "<div>\n",
              "<style scoped>\n",
              "    .dataframe tbody tr th:only-of-type {\n",
              "        vertical-align: middle;\n",
              "    }\n",
              "\n",
              "    .dataframe tbody tr th {\n",
              "        vertical-align: top;\n",
              "    }\n",
              "\n",
              "    .dataframe thead th {\n",
              "        text-align: right;\n",
              "    }\n",
              "</style>\n",
              "<table border=\"1\" class=\"dataframe\">\n",
              "  <thead>\n",
              "    <tr style=\"text-align: right;\">\n",
              "      <th></th>\n",
              "      <th>Date</th>\n",
              "      <th>Open</th>\n",
              "      <th>High</th>\n",
              "      <th>Low</th>\n",
              "      <th>Close</th>\n",
              "      <th>Adj Close</th>\n",
              "      <th>Volume</th>\n",
              "    </tr>\n",
              "  </thead>\n",
              "  <tbody>\n",
              "    <tr>\n",
              "      <th>0</th>\n",
              "      <td>2015-10-29</td>\n",
              "      <td>555.000000</td>\n",
              "      <td>557.250000</td>\n",
              "      <td>550.000000</td>\n",
              "      <td>551.775024</td>\n",
              "      <td>531.294189</td>\n",
              "      <td>3351184.0</td>\n",
              "    </tr>\n",
              "    <tr>\n",
              "      <th>1</th>\n",
              "      <td>2015-10-30</td>\n",
              "      <td>551.000000</td>\n",
              "      <td>556.000000</td>\n",
              "      <td>545.224976</td>\n",
              "      <td>549.799988</td>\n",
              "      <td>529.392395</td>\n",
              "      <td>4048730.0</td>\n",
              "    </tr>\n",
              "    <tr>\n",
              "      <th>2</th>\n",
              "      <td>2015-11-02</td>\n",
              "      <td>547.525024</td>\n",
              "      <td>547.950012</td>\n",
              "      <td>538.250000</td>\n",
              "      <td>541.549988</td>\n",
              "      <td>521.448669</td>\n",
              "      <td>1578276.0</td>\n",
              "    </tr>\n",
              "    <tr>\n",
              "      <th>3</th>\n",
              "      <td>2015-11-03</td>\n",
              "      <td>545.474976</td>\n",
              "      <td>546.000000</td>\n",
              "      <td>539.599976</td>\n",
              "      <td>542.450012</td>\n",
              "      <td>522.315247</td>\n",
              "      <td>1274296.0</td>\n",
              "    </tr>\n",
              "    <tr>\n",
              "      <th>4</th>\n",
              "      <td>2015-11-04</td>\n",
              "      <td>545.025024</td>\n",
              "      <td>549.049988</td>\n",
              "      <td>539.125000</td>\n",
              "      <td>540.849976</td>\n",
              "      <td>520.774719</td>\n",
              "      <td>1348222.0</td>\n",
              "    </tr>\n",
              "  </tbody>\n",
              "</table>\n",
              "</div>"
            ],
            "text/plain": [
              "         Date        Open        High  ...       Close   Adj Close     Volume\n",
              "0  2015-10-29  555.000000  557.250000  ...  551.775024  531.294189  3351184.0\n",
              "1  2015-10-30  551.000000  556.000000  ...  549.799988  529.392395  4048730.0\n",
              "2  2015-11-02  547.525024  547.950012  ...  541.549988  521.448669  1578276.0\n",
              "3  2015-11-03  545.474976  546.000000  ...  542.450012  522.315247  1274296.0\n",
              "4  2015-11-04  545.025024  549.049988  ...  540.849976  520.774719  1348222.0\n",
              "\n",
              "[5 rows x 7 columns]"
            ]
          },
          "metadata": {
            "tags": []
          },
          "execution_count": 4
        }
      ]
    },
    {
      "cell_type": "code",
      "metadata": {
        "id": "4fFxR6o5scO8"
      },
      "source": [
        "import keras\n",
        "from keras.models  import Sequential\n",
        "from keras.models import load_model\n",
        "from keras.layers import Dense\n",
        "from keras.optimizers import Adam\n",
        "import math\n",
        "import numpy as np\n",
        "import random\n",
        "from collections import deque"
      ],
      "execution_count": 5,
      "outputs": []
    },
    {
      "cell_type": "code",
      "metadata": {
        "id": "r2Cxpu2xs2IP"
      },
      "source": [
        "class Agent:\n",
        "  def __init__(self,state_size, is_eval=False, model_name=\"\"):\n",
        "    self.state_size = state_size # normalized previous days\n",
        "    self.action_size =3\n",
        "    self.memory = deque(maxlen=1000)\n",
        "    self.inventory = []\n",
        "    self.model_name = model_name\n",
        "    self.is_eval = is_eval\n",
        "    self.gamma = 0.95\n",
        "    self.epsilon = 1.0\n",
        "    self.epsilon_min = 0.01\n",
        "    self.epsilon_decay = 0.995\n",
        "    self.model = load_model(model_name) if is_eval else self._model()\n",
        "\n",
        "  def _model(self):\n",
        "    model = Sequential()\n",
        "    model.add(Dense(units=64, input_dim=self.state_size, activation=\"relu\"))\n",
        "    model.add(Dense(units=32, activation=\"relu\"))\n",
        "    model.add(Dense(units=8, activation=\"relu\"))\n",
        "    model.add(Dense(self.action_size, activation=\"linear\"))\n",
        "    model.compile(loss=\"mse\", optimizer=Adam(lr=0.001))\n",
        "    return model\n",
        "\n",
        "  def act(self, state):\n",
        "    if not self.is_eval and random.random()<= self.epsilon:\n",
        "      return random.randrange(self.action_size)\n",
        "    options = self.model.predict(state)\n",
        "    return np.argmax(options[0])\n",
        "\n",
        "\n",
        "  def expReplay(self, batch_size):\n",
        "    mini_batch = []\n",
        "    l = len(self.memory)\n",
        "    for i in range(l - batch_size + 1, l):\n",
        "      mini_batch.append(self.memory[i])\n",
        "    for state, action, reward, next_state, done in mini_batch:\n",
        "      target = reward\n",
        "      if not done:\n",
        "        target = reward + self.gamma * np.amax(self.model.predict(next_state)[0])\n",
        "        target_f = self.model.predict(state)\n",
        "        target_f[0][action] = target\n",
        "        self.model.fit(state, target_f, epochs=1, verbose=0)\n",
        "    if self.epsilon > self.epsilon_min:\n",
        "      self.epsilon *= self.epsilon_decay"
      ],
      "execution_count": 13,
      "outputs": []
    },
    {
      "cell_type": "code",
      "metadata": {
        "id": "pYL16E4GuXxl"
      },
      "source": [
        "def formatPrice(n):\n",
        "  return(\"-Rs.\" if n<0 else \"Rs.\")+\"{0:.2f}\".format(abs(n))\n",
        "\n",
        "\n",
        "def getStockDataVec(key):\n",
        "  vec = []\n",
        "  lines = open(key+\".csv\",\"r\").read().splitlines()\n",
        "  for line in lines[1:]:\n",
        "      #print(line)\n",
        "      #print(float(line.split(\",\")[4]))\n",
        "      vec.append(float(line.split(\",\")[4]))\n",
        "      #print(vec)\n",
        "  return vec \n",
        "def sigmoid(x):\n",
        "  return 1/(1+math.exp(-x))\n",
        "\n",
        "\n",
        "def getState(data, t, n):\n",
        "  d = t - n + 1\n",
        "  block = data[d:t + 1] if d >= 0 else -d * [data[0]] + data[0:t + 1] # pad with t0\n",
        "  res = []\n",
        "  for i in range(n - 1):\n",
        "      res.append(sigmoid(block[i + 1] - block[i]))\n",
        "  return np.array([res])"
      ],
      "execution_count": 10,
      "outputs": []
    },
    {
      "cell_type": "code",
      "metadata": {
        "id": "aG_CpyODuQbC"
      },
      "source": [
        "import sys\n",
        "stock_name = input(\"Enter stock_name, window_size, Episode_count\")\n",
        "window_size = input()\n",
        "episode_count = input()\n",
        "stock_name = str(stock_name)\n",
        "window_size = int(window_size)\n",
        "episode_count = int(episode_count)\n",
        "agent = Agent(window_size)\n",
        "data = getStockDataVec(stock_name)\n",
        "l = len(data) - 1\n",
        "batch_size = 32\n",
        "for e in range(episode_count + 1):\n",
        "  print(\"Episode \" + str(e) + \"/\" + str(episode_count))\n",
        "  state = getState(data, 0, window_size + 1)\n",
        "  total_profit = 0\n",
        "  agent.inventory = []\n",
        "  for t in range(l):\n",
        "      action = agent.act(state)\n",
        "      # sit\n",
        "      next_state = getState(data, t + 1, window_size + 1)\n",
        "      reward = 0\n",
        "      if action == 1: # buy\n",
        "          agent.inventory.append(data[t])\n",
        "          print(\"Buy: \" + formatPrice(data[t]))\n",
        "      elif action == 2 and len(agent.inventory) > 0: # sell\n",
        "          bought_price = window_size_price = agent.inventory.pop(0)\n",
        "          reward = max(data[t] - bought_price, 0)\n",
        "          total_profit += data[t] - bought_price\n",
        "          print(\"Sell: \" + formatPrice(data[t]) + \" | Profit: \" + formatPrice(data[t] - bought_price))\n",
        "      done = True if t == l - 1 else False\n",
        "      agent.memory.append((state, action, reward, next_state, done))\n",
        "      state = next_state\n",
        "      if done:\n",
        "          print(\"--------------------------------\")\n",
        "          print(\"Total Profit: \" + formatPrice(total_profit))\n",
        "          print(\"--------------------------------\")\n",
        "      if len(agent.memory) > batch_size:\n",
        "          agent.expReplay(batch_size)\n",
        "  if e % 10 == 0:\n",
        "      agent.model.save(str(e))"
      ],
      "execution_count": null,
      "outputs": []
    },
    {
      "cell_type": "code",
      "metadata": {
        "id": "1Q7L3VpkvX9x"
      },
      "source": [
        "stock_name = input(\"Enter Stock_name, Model_name\")\n",
        "model_name = input()\n",
        "model = load_model(model_name)\n",
        "window_size = model.layers[0].input.shape.as_list()[1]\n",
        "agent = Agent(window_size, True, model_name)\n",
        "data = getStockDataVec(stock_name)\n",
        "print(data)\n",
        "l = len(data) - 1\n",
        "batch_size = 32\n",
        "state = getState(data, 0, window_size + 1)\n",
        "print(state)\n",
        "total_profit = 0\n",
        "agent.inventory = []\n",
        "print(l)\n",
        "for t in range(l):\n",
        "  action = agent.act(state)\n",
        "  print(action)\n",
        "  # sit\n",
        "  next_state = getState(data, t + 1, window_size + 1)\n",
        "  reward = 0\n",
        "  if action == 1: # buy\n",
        "      agent.inventory.append(data[t])\n",
        "      print(\"Buy: \" + formatPrice(data[t]))\n",
        "  elif action == 2 and len(agent.inventory) > 0: # sell\n",
        "      bought_price = agent.inventory.pop(0)\n",
        "      reward = max(data[t] - bought_price, 0)\n",
        "      total_profit += data[t] - bought_price\n",
        "      print(\"Sell: \" + formatPrice(data[t]) + \" | Profit: \" + formatPrice(data[t] - bought_price))\n",
        "  done = True if t == l - 1 else False\n",
        "  agent.memory.append((state, action, reward, next_state, done))\n",
        "  state = next_state\n",
        "  if done:\n",
        "      print(\"--------------------------------\")\n",
        "      print(stock_name + \" Total Profit: \" + formatPrice(total_profit))\n",
        "      print(\"--------------------------------\")\n",
        "      print (\"Total profit is:\",formatPrice(total_profit))"
      ],
      "execution_count": null,
      "outputs": []
    }
  ]
}