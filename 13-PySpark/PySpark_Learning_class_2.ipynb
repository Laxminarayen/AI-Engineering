{
  "nbformat": 4,
  "nbformat_minor": 0,
  "metadata": {
    "colab": {
      "name": "PySpark Learning class 2.ipynb",
      "provenance": [],
      "collapsed_sections": [],
      "authorship_tag": "ABX9TyMq5wLH8funFLhhsDWv8wyj",
      "include_colab_link": true
    },
    "kernelspec": {
      "name": "python3",
      "display_name": "Python 3"
    }
  },
  "cells": [
    {
      "cell_type": "markdown",
      "metadata": {
        "id": "view-in-github",
        "colab_type": "text"
      },
      "source": [
        "<a href=\"https://colab.research.google.com/github/plthiyagu/AI-Engineering/blob/master/PySpark_Learning_class_2.ipynb\" target=\"_parent\"><img src=\"https://colab.research.google.com/assets/colab-badge.svg\" alt=\"Open In Colab\"/></a>"
      ]
    },
    {
      "cell_type": "code",
      "metadata": {
        "colab": {
          "base_uri": "https://localhost:8080/"
        },
        "id": "eLz90Lw3jyzb",
        "outputId": "74b9a618-9361-41d2-d043-2bec116826e9"
      },
      "source": [
        "from google.colab import drive\n",
        "drive.mount('/content/drive')"
      ],
      "execution_count": null,
      "outputs": [
        {
          "output_type": "stream",
          "text": [
            "Mounted at /content/drive\n"
          ],
          "name": "stdout"
        }
      ]
    },
    {
      "cell_type": "code",
      "metadata": {
        "id": "-hPv9CSoj0R_"
      },
      "source": [
        "!apt-get install openjdk-8-jdk-headless -qq > /dev/null"
      ],
      "execution_count": null,
      "outputs": []
    },
    {
      "cell_type": "code",
      "metadata": {
        "id": "ddcVHoZ6mIEM"
      },
      "source": [
        "!wget -q https://www-us.apache.org/dist/spark/spark-3.0.1/spark-3.0.1-bin-hadoop2.7.tgz"
      ],
      "execution_count": null,
      "outputs": []
    },
    {
      "cell_type": "code",
      "metadata": {
        "id": "aMal9XO0mNTd"
      },
      "source": [
        "!tar xf spark-3.0.1-bin-hadoop2.7.tgz"
      ],
      "execution_count": null,
      "outputs": []
    },
    {
      "cell_type": "code",
      "metadata": {
        "id": "XrzOqC5TmRk6"
      },
      "source": [
        "!pip install -q findspark"
      ],
      "execution_count": null,
      "outputs": []
    },
    {
      "cell_type": "code",
      "metadata": {
        "id": "EzzNzuDBmUaZ"
      },
      "source": [
        "import os\n",
        "os.environ[\"JAVA_HOME\"] = \"/usr/lib/jvm/java-8-openjdk-amd64\"\n",
        "os.environ[\"SPARK_HOME\"] = \"/content/spark-3.0.1-bin-hadoop2.7\""
      ],
      "execution_count": null,
      "outputs": []
    },
    {
      "cell_type": "code",
      "metadata": {
        "id": "kykdagiFmZ42"
      },
      "source": [
        "import findspark\n",
        "findspark.init()"
      ],
      "execution_count": null,
      "outputs": []
    },
    {
      "cell_type": "code",
      "metadata": {
        "colab": {
          "base_uri": "https://localhost:8080/",
          "height": 35
        },
        "id": "AjddCa8Cmc-2",
        "outputId": "5152e6b6-7f38-46c7-a12b-b141571fdfd1"
      },
      "source": [
        "findspark.find()"
      ],
      "execution_count": null,
      "outputs": [
        {
          "output_type": "execute_result",
          "data": {
            "application/vnd.google.colaboratory.intrinsic+json": {
              "type": "string"
            },
            "text/plain": [
              "'/content/spark-3.0.1-bin-hadoop2.7'"
            ]
          },
          "metadata": {
            "tags": []
          },
          "execution_count": 8
        }
      ]
    },
    {
      "cell_type": "code",
      "metadata": {
        "id": "O1_W2I6Ymfsd"
      },
      "source": [
        "from pyspark.sql import SparkSession\n",
        "\n",
        "spark = SparkSession.builder\\\n",
        "        .master(\"local\")\\\n",
        "        .appName(\"Colab\")\\\n",
        "        .config('spark.ui.port', '4050')\\\n",
        "        .getOrCreate()"
      ],
      "execution_count": null,
      "outputs": []
    },
    {
      "cell_type": "code",
      "metadata": {
        "colab": {
          "base_uri": "https://localhost:8080/",
          "height": 216
        },
        "id": "LtS04qIMmmB2",
        "outputId": "0b35726d-e633-4f71-876b-e593ce3a40d7"
      },
      "source": [
        "spark"
      ],
      "execution_count": null,
      "outputs": [
        {
          "output_type": "execute_result",
          "data": {
            "text/html": [
              "\n",
              "            <div>\n",
              "                <p><b>SparkSession - in-memory</b></p>\n",
              "                \n",
              "        <div>\n",
              "            <p><b>SparkContext</b></p>\n",
              "\n",
              "            <p><a href=\"http://fb14956c85a5:4050\">Spark UI</a></p>\n",
              "\n",
              "            <dl>\n",
              "              <dt>Version</dt>\n",
              "                <dd><code>v3.0.1</code></dd>\n",
              "              <dt>Master</dt>\n",
              "                <dd><code>local</code></dd>\n",
              "              <dt>AppName</dt>\n",
              "                <dd><code>Colab</code></dd>\n",
              "            </dl>\n",
              "        </div>\n",
              "        \n",
              "            </div>\n",
              "        "
            ],
            "text/plain": [
              "<pyspark.sql.session.SparkSession at 0x7f1f65ccdba8>"
            ]
          },
          "metadata": {
            "tags": []
          },
          "execution_count": 10
        }
      ]
    },
    {
      "cell_type": "code",
      "metadata": {
        "colab": {
          "base_uri": "https://localhost:8080/",
          "height": 35
        },
        "id": "oNUi7PMrtcL9",
        "outputId": "274a7f70-074c-4ec9-ae29-49b8b9b72e1a"
      },
      "source": [
        "spark.version"
      ],
      "execution_count": 40,
      "outputs": [
        {
          "output_type": "execute_result",
          "data": {
            "application/vnd.google.colaboratory.intrinsic+json": {
              "type": "string"
            },
            "text/plain": [
              "'3.0.1'"
            ]
          },
          "metadata": {
            "tags": []
          },
          "execution_count": 40
        }
      ]
    },
    {
      "cell_type": "code",
      "metadata": {
        "colab": {
          "base_uri": "https://localhost:8080/"
        },
        "id": "4qmp8IiKmrJq",
        "outputId": "5943e95c-a4e6-49a9-f21d-4f662f6e5c3c"
      },
      "source": [
        "!wget https://bin.equinox.io/c/4VmDzA7iaHb/ngrok-stable-linux-amd64.zip\n",
        "!unzip ngrok-stable-linux-amd64.zip\n",
        "get_ipython().system_raw('./ngrok http 4050 &')\n",
        "!curl -s http://localhost:4040/api/tunnels"
      ],
      "execution_count": null,
      "outputs": [
        {
          "output_type": "stream",
          "text": [
            "--2020-11-22 15:39:24--  https://bin.equinox.io/c/4VmDzA7iaHb/ngrok-stable-linux-amd64.zip\n",
            "Resolving bin.equinox.io (bin.equinox.io)... 34.195.187.253, 52.200.34.95, 34.234.81.220, ...\n",
            "Connecting to bin.equinox.io (bin.equinox.io)|34.195.187.253|:443... connected.\n",
            "HTTP request sent, awaiting response... 200 OK\n",
            "Length: 13773305 (13M) [application/octet-stream]\n",
            "Saving to: ‘ngrok-stable-linux-amd64.zip.1’\n",
            "\n",
            "ngrok-stable-linux- 100%[===================>]  13.13M  6.58MB/s    in 2.0s    \n",
            "\n",
            "2020-11-22 15:39:27 (6.58 MB/s) - ‘ngrok-stable-linux-amd64.zip.1’ saved [13773305/13773305]\n",
            "\n",
            "Archive:  ngrok-stable-linux-amd64.zip\n",
            "replace ngrok? [y]es, [n]o, [A]ll, [N]one, [r]ename: A\n",
            "  inflating: ngrok                   \n",
            "{\"tunnels\":[{\"name\":\"command_line (http)\",\"uri\":\"/api/tunnels/command_line%20%28http%29\",\"public_url\":\"http://e61766c2f4d0.ngrok.io\",\"proto\":\"http\",\"config\":{\"addr\":\"http://localhost:4050\",\"inspect\":true},\"metrics\":{\"conns\":{\"count\":0,\"gauge\":0,\"rate1\":0,\"rate5\":0,\"rate15\":0,\"p50\":0,\"p90\":0,\"p95\":0,\"p99\":0},\"http\":{\"count\":0,\"rate1\":0,\"rate5\":0,\"rate15\":0,\"p50\":0,\"p90\":0,\"p95\":0,\"p99\":0}}},{\"name\":\"command_line\",\"uri\":\"/api/tunnels/command_line\",\"public_url\":\"https://e61766c2f4d0.ngrok.io\",\"proto\":\"https\",\"config\":{\"addr\":\"http://localhost:4050\",\"inspect\":true},\"metrics\":{\"conns\":{\"count\":0,\"gauge\":0,\"rate1\":0,\"rate5\":0,\"rate15\":0,\"p50\":0,\"p90\":0,\"p95\":0,\"p99\":0},\"http\":{\"count\":0,\"rate1\":0,\"rate5\":0,\"rate15\":0,\"p50\":0,\"p90\":0,\"p95\":0,\"p99\":0}}}],\"uri\":\"/api/tunnels\"}\n"
          ],
          "name": "stdout"
        }
      ]
    },
    {
      "cell_type": "code",
      "metadata": {
        "colab": {
          "base_uri": "https://localhost:8080/"
        },
        "id": "JgizxCe_nOAZ",
        "outputId": "138d0d8e-ce50-40b9-a239-bf860a3db5af"
      },
      "source": [
        "!ls '/content/drive/MyDrive/Colab Notebooks/Dataset/Black Friday Train.zip'"
      ],
      "execution_count": null,
      "outputs": [
        {
          "output_type": "stream",
          "text": [
            "'/content/drive/MyDrive/Colab Notebooks/Dataset/Black Friday Train.zip'\n"
          ],
          "name": "stdout"
        }
      ]
    },
    {
      "cell_type": "code",
      "metadata": {
        "colab": {
          "base_uri": "https://localhost:8080/"
        },
        "id": "YNUrNW7ToQqe",
        "outputId": "274d8f9c-0eb5-40f0-ab49-d1ccb0e2dd20"
      },
      "source": [
        "!unzip '/content/drive/MyDrive/Colab Notebooks/Dataset/Black Friday Train.zip'"
      ],
      "execution_count": null,
      "outputs": [
        {
          "output_type": "stream",
          "text": [
            "Archive:  /content/drive/MyDrive/Colab Notebooks/Dataset/Black Friday Train.zip\n",
            "  inflating: train.csv               \n"
          ],
          "name": "stdout"
        }
      ]
    },
    {
      "cell_type": "code",
      "metadata": {
        "id": "jms2BYNcnNtO"
      },
      "source": [
        "df = spark.read.csv(\"train.csv\", header=True, inferSchema=True)"
      ],
      "execution_count": null,
      "outputs": []
    },
    {
      "cell_type": "code",
      "metadata": {
        "colab": {
          "base_uri": "https://localhost:8080/"
        },
        "id": "dN3FZwhhmvS6",
        "outputId": "f1df0720-bde1-43ae-cac1-b42bb6645dcf"
      },
      "source": [
        "df.printSchema()"
      ],
      "execution_count": null,
      "outputs": [
        {
          "output_type": "stream",
          "text": [
            "root\n",
            " |-- User_ID: integer (nullable = true)\n",
            " |-- Product_ID: string (nullable = true)\n",
            " |-- Gender: string (nullable = true)\n",
            " |-- Age: string (nullable = true)\n",
            " |-- Occupation: integer (nullable = true)\n",
            " |-- City_Category: string (nullable = true)\n",
            " |-- Stay_In_Current_City_Years: string (nullable = true)\n",
            " |-- Marital_Status: integer (nullable = true)\n",
            " |-- Product_Category_1: integer (nullable = true)\n",
            " |-- Product_Category_2: integer (nullable = true)\n",
            " |-- Product_Category_3: integer (nullable = true)\n",
            " |-- Purchase: integer (nullable = true)\n",
            "\n"
          ],
          "name": "stdout"
        }
      ]
    },
    {
      "cell_type": "code",
      "metadata": {
        "colab": {
          "base_uri": "https://localhost:8080/"
        },
        "id": "JLmYrrkJopxt",
        "outputId": "194dcd97-34da-44ca-f365-679abca2e9c5"
      },
      "source": [
        "df.show(5)"
      ],
      "execution_count": null,
      "outputs": [
        {
          "output_type": "stream",
          "text": [
            "+-------+----------+------+----+----------+-------------+--------------------------+--------------+------------------+------------------+------------------+--------+\n",
            "|User_ID|Product_ID|Gender| Age|Occupation|City_Category|Stay_In_Current_City_Years|Marital_Status|Product_Category_1|Product_Category_2|Product_Category_3|Purchase|\n",
            "+-------+----------+------+----+----------+-------------+--------------------------+--------------+------------------+------------------+------------------+--------+\n",
            "|1000001| P00069042|     F|0-17|        10|            A|                         2|             0|                 3|              null|              null|    8370|\n",
            "|1000001| P00248942|     F|0-17|        10|            A|                         2|             0|                 1|                 6|                14|   15200|\n",
            "|1000001| P00087842|     F|0-17|        10|            A|                         2|             0|                12|              null|              null|    1422|\n",
            "|1000001| P00085442|     F|0-17|        10|            A|                         2|             0|                12|                14|              null|    1057|\n",
            "|1000002| P00285442|     M| 55+|        16|            C|                        4+|             0|                 8|              null|              null|    7969|\n",
            "+-------+----------+------+----+----------+-------------+--------------------------+--------------+------------------+------------------+------------------+--------+\n",
            "only showing top 5 rows\n",
            "\n"
          ],
          "name": "stdout"
        }
      ]
    },
    {
      "cell_type": "code",
      "metadata": {
        "colab": {
          "base_uri": "https://localhost:8080/"
        },
        "id": "1oebYWGyotkk",
        "outputId": "472a4adb-5bd9-4e94-abb9-a492dd9545ed"
      },
      "source": [
        "df.count()"
      ],
      "execution_count": null,
      "outputs": [
        {
          "output_type": "execute_result",
          "data": {
            "text/plain": [
              "550068"
            ]
          },
          "metadata": {
            "tags": []
          },
          "execution_count": 29
        }
      ]
    },
    {
      "cell_type": "code",
      "metadata": {
        "colab": {
          "base_uri": "https://localhost:8080/"
        },
        "id": "Q-P-EZm6qvOt",
        "outputId": "cb365c6a-6ed1-413c-f338-941bbb4b7f86"
      },
      "source": [
        "df.select(\"User_ID\",\"Gender\",\"Age\",\"Occupation\").show(5)"
      ],
      "execution_count": null,
      "outputs": [
        {
          "output_type": "stream",
          "text": [
            "+-------+------+----+----------+\n",
            "|User_ID|Gender| Age|Occupation|\n",
            "+-------+------+----+----------+\n",
            "|1000001|     F|0-17|        10|\n",
            "|1000001|     F|0-17|        10|\n",
            "|1000001|     F|0-17|        10|\n",
            "|1000001|     F|0-17|        10|\n",
            "|1000002|     M| 55+|        16|\n",
            "+-------+------+----+----------+\n",
            "only showing top 5 rows\n",
            "\n"
          ],
          "name": "stdout"
        }
      ]
    },
    {
      "cell_type": "code",
      "metadata": {
        "colab": {
          "base_uri": "https://localhost:8080/"
        },
        "id": "U69RNhXGq0fY",
        "outputId": "3e42fa86-1745-45c9-814b-67d66293c685"
      },
      "source": [
        "df.describe().show(5)"
      ],
      "execution_count": null,
      "outputs": [
        {
          "output_type": "stream",
          "text": [
            "+-------+------------------+----------+------+------+------------------+-------------+--------------------------+-------------------+------------------+------------------+------------------+-----------------+\n",
            "|summary|           User_ID|Product_ID|Gender|   Age|        Occupation|City_Category|Stay_In_Current_City_Years|     Marital_Status|Product_Category_1|Product_Category_2|Product_Category_3|         Purchase|\n",
            "+-------+------------------+----------+------+------+------------------+-------------+--------------------------+-------------------+------------------+------------------+------------------+-----------------+\n",
            "|  count|            550068|    550068|550068|550068|            550068|       550068|                    550068|             550068|            550068|            376430|            166821|           550068|\n",
            "|   mean|1003028.8424013031|      null|  null|  null| 8.076706879876669|         null|         1.468494139793958|0.40965298835780306| 5.404270017525106| 9.842329251122386|12.668243206790512|9263.968712959126|\n",
            "| stddev| 1727.591585530871|      null|  null|  null|6.5226604873418115|         null|         0.989086680757309| 0.4917701263173259| 3.936211369201324| 5.086589648693526| 4.125337631575267|5023.065393820593|\n",
            "|    min|           1000001| P00000142|     F|  0-17|                 0|            A|                         0|                  0|                 1|                 2|                 3|               12|\n",
            "|    max|           1006040|  P0099942|     M|   55+|                20|            C|                        4+|                  1|                20|                18|                18|            23961|\n",
            "+-------+------------------+----------+------+------+------------------+-------------+--------------------------+-------------------+------------------+------------------+------------------+-----------------+\n",
            "\n"
          ],
          "name": "stdout"
        }
      ]
    },
    {
      "cell_type": "code",
      "metadata": {
        "colab": {
          "base_uri": "https://localhost:8080/"
        },
        "id": "oCfoRf_dq45q",
        "outputId": "9939371d-c62e-4b65-d9ea-71c2ab0f1fe7"
      },
      "source": [
        "df.select(\"City_Category\").distinct().show()"
      ],
      "execution_count": null,
      "outputs": [
        {
          "output_type": "stream",
          "text": [
            "+-------------+\n",
            "|City_Category|\n",
            "+-------------+\n",
            "|            B|\n",
            "|            C|\n",
            "|            A|\n",
            "+-------------+\n",
            "\n"
          ],
          "name": "stdout"
        }
      ]
    },
    {
      "cell_type": "code",
      "metadata": {
        "colab": {
          "base_uri": "https://localhost:8080/"
        },
        "id": "trCUA9ZArHP3",
        "outputId": "b618b821-baa4-4ded-d98f-d23b610eb111"
      },
      "source": [
        "from pyspark.sql import functions as F\n",
        "df.groupBy(\"City_Category\").agg(F.sum(\"Purchase\")).show()"
      ],
      "execution_count": null,
      "outputs": [
        {
          "output_type": "stream",
          "text": [
            "+-------------+-------------+\n",
            "|City_Category|sum(Purchase)|\n",
            "+-------------+-------------+\n",
            "|            B|   2115533605|\n",
            "|            C|   1663807476|\n",
            "|            A|   1316471661|\n",
            "+-------------+-------------+\n",
            "\n"
          ],
          "name": "stdout"
        }
      ]
    },
    {
      "cell_type": "code",
      "metadata": {
        "colab": {
          "base_uri": "https://localhost:8080/"
        },
        "id": "Yagci-69rNZr",
        "outputId": "d08ecfba-8af1-4f57-8a23-5636c42d92ae"
      },
      "source": [
        "df.select([F.count(F.when(F.isnull(c), c)).alias(c) for c in df.columns]).show()"
      ],
      "execution_count": null,
      "outputs": [
        {
          "output_type": "stream",
          "text": [
            "+-------+----------+------+---+----------+-------------+--------------------------+--------------+------------------+------------------+------------------+--------+\n",
            "|User_ID|Product_ID|Gender|Age|Occupation|City_Category|Stay_In_Current_City_Years|Marital_Status|Product_Category_1|Product_Category_2|Product_Category_3|Purchase|\n",
            "+-------+----------+------+---+----------+-------------+--------------------------+--------------+------------------+------------------+------------------+--------+\n",
            "|      0|         0|     0|  0|         0|            0|                         0|             0|                 0|            173638|            383247|       0|\n",
            "+-------+----------+------+---+----------+-------------+--------------------------+--------------+------------------+------------------+------------------+--------+\n",
            "\n"
          ],
          "name": "stdout"
        }
      ]
    },
    {
      "cell_type": "code",
      "metadata": {
        "id": "U4jPonWDrWdX"
      },
      "source": [
        "df = df.fillna({'Product_Category_2':0, 'Product_Category_3':0})"
      ],
      "execution_count": null,
      "outputs": []
    },
    {
      "cell_type": "code",
      "metadata": {
        "id": "sMPBa5usra-A"
      },
      "source": [
        "df.write.csv(\"/content/drive/MyDrive/Colab Notebooks/Dataset/BlackFridayTrainProcessed.csv\")"
      ],
      "execution_count": null,
      "outputs": []
    },
    {
      "cell_type": "code",
      "metadata": {
        "colab": {
          "base_uri": "https://localhost:8080/"
        },
        "id": "griEOc6Jrozt",
        "outputId": "ed0f7d92-375e-4873-98fb-d0fa1c2bcefe"
      },
      "source": [
        "df.rdd.getNumPartitions()"
      ],
      "execution_count": null,
      "outputs": [
        {
          "output_type": "execute_result",
          "data": {
            "text/plain": [
              "1"
            ]
          },
          "metadata": {
            "tags": []
          },
          "execution_count": 38
        }
      ]
    },
    {
      "cell_type": "code",
      "metadata": {
        "id": "iXXuHGXpr0Dg"
      },
      "source": [
        "# Spark df to Pandas df\n",
        "df_pd = df.toPandas()\n",
        "\n",
        "# Store result\n",
        "df_pd.to_csv(\"/content/drive/MyDrive/Colab Notebooks/Dataset/BlackFridayTrainPandasProcessed.csv\")"
      ],
      "execution_count": null,
      "outputs": []
    },
    {
      "cell_type": "code",
      "metadata": {
        "id": "WGJcKZjisAxd"
      },
      "source": [
        "data = spark.sparkContext.parallelize(\n",
        "    [('Amber', 22), ('Alfred', 23), ('Skye',4), ('Albert', 12), \n",
        "     ('Amber', 9)])"
      ],
      "execution_count": 43,
      "outputs": []
    },
    {
      "cell_type": "code",
      "metadata": {
        "colab": {
          "base_uri": "https://localhost:8080/"
        },
        "id": "6kLwqux5tpRz",
        "outputId": "c596af8b-fa53-4be5-c4e1-96a5ad6edc8c"
      },
      "source": [
        "data.collect()"
      ],
      "execution_count": 44,
      "outputs": [
        {
          "output_type": "execute_result",
          "data": {
            "text/plain": [
              "[('Amber', 22), ('Alfred', 23), ('Skye', 4), ('Albert', 12), ('Amber', 9)]"
            ]
          },
          "metadata": {
            "tags": []
          },
          "execution_count": 44
        }
      ]
    },
    {
      "cell_type": "code",
      "metadata": {
        "colab": {
          "base_uri": "https://localhost:8080/"
        },
        "id": "iZIYFLUnuBOK",
        "outputId": "07aea73a-93fe-4d51-df3e-462a512ea5f9"
      },
      "source": [
        "!wget http://tomdrabas.com/data/VS14MORT.txt.gz"
      ],
      "execution_count": 45,
      "outputs": [
        {
          "output_type": "stream",
          "text": [
            "--2020-11-22 16:11:33--  http://tomdrabas.com/data/VS14MORT.txt.gz\n",
            "Resolving tomdrabas.com (tomdrabas.com)... 162.241.253.147\n",
            "Connecting to tomdrabas.com (tomdrabas.com)|162.241.253.147|:80... connected.\n",
            "HTTP request sent, awaiting response... 200 OK\n",
            "Length: 93093001 (89M) [application/x-gzip]\n",
            "Saving to: ‘VS14MORT.txt.gz’\n",
            "\n",
            "VS14MORT.txt.gz     100%[===================>]  88.78M  16.6MB/s    in 6.6s    \n",
            "\n",
            "2020-11-22 16:11:41 (13.4 MB/s) - ‘VS14MORT.txt.gz’ saved [93093001/93093001]\n",
            "\n"
          ],
          "name": "stdout"
        }
      ]
    },
    {
      "cell_type": "code",
      "metadata": {
        "id": "jEOTNDRqub5t"
      },
      "source": [
        "data_from_file = spark.sparkContext.textFile(\n",
        "        'VS14MORT.txt.gz', \n",
        "        4)"
      ],
      "execution_count": 52,
      "outputs": []
    },
    {
      "cell_type": "code",
      "metadata": {
        "colab": {
          "base_uri": "https://localhost:8080/"
        },
        "id": "s_Vgd6-3ul7w",
        "outputId": "3d4c7861-aff7-45e6-9b1c-e1daacf1c76f"
      },
      "source": [
        "data_heterogenous = spark.sparkContext.parallelize([('Ferrari', 'fast'), {'Porsche': 100000}, ['Spain','visited', 4504]]).collect()\n",
        "data_heterogenous"
      ],
      "execution_count": 49,
      "outputs": [
        {
          "output_type": "execute_result",
          "data": {
            "text/plain": [
              "[('Ferrari', 'fast'), {'Porsche': 100000}, ['Spain', 'visited', 4504]]"
            ]
          },
          "metadata": {
            "tags": []
          },
          "execution_count": 49
        }
      ]
    },
    {
      "cell_type": "code",
      "metadata": {
        "colab": {
          "base_uri": "https://localhost:8080/"
        },
        "id": "N16_7AfXu386",
        "outputId": "808d065e-c6ec-4f61-9875-9b9bdc69e262"
      },
      "source": [
        "data_heterogenous[1]['Porsche']"
      ],
      "execution_count": 50,
      "outputs": [
        {
          "output_type": "execute_result",
          "data": {
            "text/plain": [
              "100000"
            ]
          },
          "metadata": {
            "tags": []
          },
          "execution_count": 50
        }
      ]
    },
    {
      "cell_type": "code",
      "metadata": {
        "colab": {
          "base_uri": "https://localhost:8080/"
        },
        "id": "d6IhHLcfu7Wt",
        "outputId": "80b25943-02f4-4caa-d214-f6fc810f8d0d"
      },
      "source": [
        "data_from_file.take(1)"
      ],
      "execution_count": 53,
      "outputs": [
        {
          "output_type": "execute_result",
          "data": {
            "text/plain": [
              "['                   1                                          2101  M1087 432311  4M4                2014U7CN                                    I64 238 070   24 0111I64                                                                                                                                                                           01 I64                                                                                                  01  11                                 100 601']"
            ]
          },
          "metadata": {
            "tags": []
          },
          "execution_count": 53
        }
      ]
    },
    {
      "cell_type": "code",
      "metadata": {
        "colab": {
          "base_uri": "https://localhost:8080/"
        },
        "id": "LTu8Jp6Gu-wi",
        "outputId": "52c74837-6e25-4749-9579-d43a04047eb0"
      },
      "source": [
        "rdd1 = spark.sparkContext.parallelize([('a', 1), ('b', 4), ('c',10)])\n",
        "rdd2 = spark.sparkContext.parallelize([('a', 4), ('a', 1), ('b', '6'), ('d', 15)])\n",
        "\n",
        "rdd3 = rdd1.leftOuterJoin(rdd2)\n",
        "rdd3.take(5)"
      ],
      "execution_count": 55,
      "outputs": [
        {
          "output_type": "execute_result",
          "data": {
            "text/plain": [
              "[('b', (4, '6')), ('c', (10, None)), ('a', (1, 4)), ('a', (1, 1))]"
            ]
          },
          "metadata": {
            "tags": []
          },
          "execution_count": 55
        }
      ]
    },
    {
      "cell_type": "code",
      "metadata": {
        "colab": {
          "base_uri": "https://localhost:8080/"
        },
        "id": "V-HQ_eGcupLr",
        "outputId": "11e5afeb-ab20-456d-a7e5-eda070abbe9b"
      },
      "source": [
        "rdd4 = rdd1.join(rdd2)\n",
        "rdd4.collect()"
      ],
      "execution_count": 56,
      "outputs": [
        {
          "output_type": "execute_result",
          "data": {
            "text/plain": [
              "[('b', (4, '6')), ('a', (1, 4)), ('a', (1, 1))]"
            ]
          },
          "metadata": {
            "tags": []
          },
          "execution_count": 56
        }
      ]
    },
    {
      "cell_type": "code",
      "metadata": {
        "colab": {
          "base_uri": "https://localhost:8080/"
        },
        "id": "kbMm9FvA1oeU",
        "outputId": "1a1e9904-8925-4df4-9730-24284edc1371"
      },
      "source": [
        "rdd5 = rdd1.intersection(rdd2)\n",
        "rdd5.collect()"
      ],
      "execution_count": 57,
      "outputs": [
        {
          "output_type": "execute_result",
          "data": {
            "text/plain": [
              "[('a', 1)]"
            ]
          },
          "metadata": {
            "tags": []
          },
          "execution_count": 57
        }
      ]
    },
    {
      "cell_type": "code",
      "metadata": {
        "colab": {
          "base_uri": "https://localhost:8080/"
        },
        "id": "A_JKn0qE1rXu",
        "outputId": "a0fa2307-f40a-4c60-ec04-39138f6ff91e"
      },
      "source": [
        "rdd1 = rdd1.repartition(4)\n",
        "\n",
        "len(rdd1.glom().collect())"
      ],
      "execution_count": 58,
      "outputs": [
        {
          "output_type": "execute_result",
          "data": {
            "text/plain": [
              "4"
            ]
          },
          "metadata": {
            "tags": []
          },
          "execution_count": 58
        }
      ]
    },
    {
      "cell_type": "code",
      "metadata": {
        "id": "jWIQQNPq1vD9"
      },
      "source": [
        "def extractInformation(row):\n",
        "    import re\n",
        "    import numpy as np\n",
        "\n",
        "    selected_indices = [\n",
        "         2,4,5,6,7,9,10,11,12,13,14,15,16,17,18,\n",
        "         19,21,22,23,24,25,27,28,29,30,32,33,34,\n",
        "         36,37,38,39,40,41,42,43,44,45,46,47,48,\n",
        "         49,50,51,52,53,54,55,56,58,60,61,62,63,\n",
        "         64,65,66,67,68,69,70,71,72,73,74,75,76,\n",
        "         77,78,79,81,82,83,84,85,87,89\n",
        "    ]\n",
        "\n",
        "    '''\n",
        "        Input record schema\n",
        "        schema: n-m (o) -- xxx\n",
        "            n - position from\n",
        "            m - position to\n",
        "            o - number of characters\n",
        "            xxx - description\n",
        "        1. 1-19 (19) -- reserved positions\n",
        "        2. 20 (1) -- resident status\n",
        "        3. 21-60 (40) -- reserved positions\n",
        "        4. 61-62 (2) -- education code (1989 revision)\n",
        "        5. 63 (1) -- education code (2003 revision)\n",
        "        6. 64 (1) -- education reporting flag\n",
        "        7. 65-66 (2) -- month of death\n",
        "        8. 67-68 (2) -- reserved positions\n",
        "        9. 69 (1) -- sex\n",
        "        10. 70 (1) -- age: 1-years, 2-months, 4-days, 5-hours, 6-minutes, 9-not stated\n",
        "        11. 71-73 (3) -- number of units (years, months etc)\n",
        "        12. 74 (1) -- age substitution flag (if the age reported in positions 70-74 is calculated using dates of birth and death)\n",
        "        13. 75-76 (2) -- age recoded into 52 categories\n",
        "        14. 77-78 (2) -- age recoded into 27 categories\n",
        "        15. 79-80 (2) -- age recoded into 12 categories\n",
        "        16. 81-82 (2) -- infant age recoded into 22 categories\n",
        "        17. 83 (1) -- place of death\n",
        "        18. 84 (1) -- marital status\n",
        "        19. 85 (1) -- day of the week of death\n",
        "        20. 86-101 (16) -- reserved positions\n",
        "        21. 102-105 (4) -- current year\n",
        "        22. 106 (1) -- injury at work\n",
        "        23. 107 (1) -- manner of death\n",
        "        24. 108 (1) -- manner of disposition\n",
        "        25. 109 (1) -- autopsy\n",
        "        26. 110-143 (34) -- reserved positions\n",
        "        27. 144 (1) -- activity code\n",
        "        28. 145 (1) -- place of injury\n",
        "        29. 146-149 (4) -- ICD code\n",
        "        30. 150-152 (3) -- 358 cause recode\n",
        "        31. 153 (1) -- reserved position\n",
        "        32. 154-156 (3) -- 113 cause recode\n",
        "        33. 157-159 (3) -- 130 infant cause recode\n",
        "        34. 160-161 (2) -- 39 cause recode\n",
        "        35. 162 (1) -- reserved position\n",
        "        36. 163-164 (2) -- number of entity-axis conditions\n",
        "        37-56. 165-304 (140) -- list of up to 20 conditions\n",
        "        57. 305-340 (36) -- reserved positions\n",
        "        58. 341-342 (2) -- number of record axis conditions\n",
        "        59. 343 (1) -- reserved position\n",
        "        60-79. 344-443 (100) -- record axis conditions\n",
        "        80. 444 (1) -- reserve position\n",
        "        81. 445-446 (2) -- race\n",
        "        82. 447 (1) -- bridged race flag\n",
        "        83. 448 (1) -- race imputation flag\n",
        "        84. 449 (1) -- race recode (3 categories)\n",
        "        85. 450 (1) -- race recode (5 categories)\n",
        "        86. 461-483 (33) -- reserved positions\n",
        "        87. 484-486 (3) -- Hispanic origin\n",
        "        88. 487 (1) -- reserved\n",
        "        89. 488 (1) -- Hispanic origin/race recode\n",
        "     '''\n",
        "\n",
        "    record_split = re\\\n",
        "        .compile(\n",
        "            r'([\\s]{19})([0-9]{1})([\\s]{40})([0-9\\s]{2})([0-9\\s]{1})([0-9]{1})([0-9]{2})' + \n",
        "            r'([\\s]{2})([FM]{1})([0-9]{1})([0-9]{3})([0-9\\s]{1})([0-9]{2})([0-9]{2})' + \n",
        "            r'([0-9]{2})([0-9\\s]{2})([0-9]{1})([SMWDU]{1})([0-9]{1})([\\s]{16})([0-9]{4})' +\n",
        "            r'([YNU]{1})([0-9\\s]{1})([BCOU]{1})([YNU]{1})([\\s]{34})([0-9\\s]{1})([0-9\\s]{1})' +\n",
        "            r'([A-Z0-9\\s]{4})([0-9]{3})([\\s]{1})([0-9\\s]{3})([0-9\\s]{3})([0-9\\s]{2})([\\s]{1})' + \n",
        "            r'([0-9\\s]{2})([A-Z0-9\\s]{7})([A-Z0-9\\s]{7})([A-Z0-9\\s]{7})([A-Z0-9\\s]{7})' + \n",
        "            r'([A-Z0-9\\s]{7})([A-Z0-9\\s]{7})([A-Z0-9\\s]{7})([A-Z0-9\\s]{7})([A-Z0-9\\s]{7})' + \n",
        "            r'([A-Z0-9\\s]{7})([A-Z0-9\\s]{7})([A-Z0-9\\s]{7})([A-Z0-9\\s]{7})([A-Z0-9\\s]{7})' + \n",
        "            r'([A-Z0-9\\s]{7})([A-Z0-9\\s]{7})([A-Z0-9\\s]{7})([A-Z0-9\\s]{7})([A-Z0-9\\s]{7})' + \n",
        "            r'([A-Z0-9\\s]{7})([\\s]{36})([A-Z0-9\\s]{2})([\\s]{1})([A-Z0-9\\s]{5})([A-Z0-9\\s]{5})' + \n",
        "            r'([A-Z0-9\\s]{5})([A-Z0-9\\s]{5})([A-Z0-9\\s]{5})([A-Z0-9\\s]{5})([A-Z0-9\\s]{5})' + \n",
        "            r'([A-Z0-9\\s]{5})([A-Z0-9\\s]{5})([A-Z0-9\\s]{5})([A-Z0-9\\s]{5})([A-Z0-9\\s]{5})' + \n",
        "            r'([A-Z0-9\\s]{5})([A-Z0-9\\s]{5})([A-Z0-9\\s]{5})([A-Z0-9\\s]{5})([A-Z0-9\\s]{5})' + \n",
        "            r'([A-Z0-9\\s]{5})([A-Z0-9\\s]{5})([A-Z0-9\\s]{5})([\\s]{1})([0-9\\s]{2})([0-9\\s]{1})' + \n",
        "            r'([0-9\\s]{1})([0-9\\s]{1})([0-9\\s]{1})([\\s]{33})([0-9\\s]{3})([0-9\\s]{1})([0-9\\s]{1})')\n",
        "    try:\n",
        "        rs = np.array(record_split.split(row))[selected_indices]\n",
        "    except:\n",
        "        rs = np.array(['-99'] * len(selected_indices))\n",
        "    return rs\n",
        "#     return record_split.split(row)"
      ],
      "execution_count": 59,
      "outputs": []
    },
    {
      "cell_type": "code",
      "metadata": {
        "colab": {
          "base_uri": "https://localhost:8080/"
        },
        "id": "wQhG4KKQ2Kuv",
        "outputId": "c11b57d9-25b3-4656-8854-eaecca86ed56"
      },
      "source": [
        "data_from_file_conv = data_from_file.map(extractInformation)\n",
        "data_from_file_conv.map(lambda row: row).take(1)"
      ],
      "execution_count": 60,
      "outputs": [
        {
          "output_type": "execute_result",
          "data": {
            "text/plain": [
              "[array(['1', '  ', '2', '1', '01', 'M', '1', '087', ' ', '43', '23', '11',\n",
              "        '  ', '4', 'M', '4', '2014', 'U', '7', 'C', 'N', ' ', ' ', 'I64 ',\n",
              "        '238', '070', '   ', '24', '01', '11I64  ', '       ', '       ',\n",
              "        '       ', '       ', '       ', '       ', '       ', '       ',\n",
              "        '       ', '       ', '       ', '       ', '       ', '       ',\n",
              "        '       ', '       ', '       ', '       ', '       ', '01',\n",
              "        'I64  ', '     ', '     ', '     ', '     ', '     ', '     ',\n",
              "        '     ', '     ', '     ', '     ', '     ', '     ', '     ',\n",
              "        '     ', '     ', '     ', '     ', '     ', '     ', '01', ' ',\n",
              "        ' ', '1', '1', '100', '6'], dtype='<U40')]"
            ]
          },
          "metadata": {
            "tags": []
          },
          "execution_count": 60
        }
      ]
    },
    {
      "cell_type": "code",
      "metadata": {
        "colab": {
          "base_uri": "https://localhost:8080/"
        },
        "id": "HZRE0Qec2Uw9",
        "outputId": "91055b19-999d-49d4-c523-442d31f1c5ef"
      },
      "source": [
        "data_2014 = data_from_file_conv.map(lambda row: int(row[16]))\n",
        "data_2014.take(10)"
      ],
      "execution_count": 61,
      "outputs": [
        {
          "output_type": "execute_result",
          "data": {
            "text/plain": [
              "[2014, 2014, 2014, 2014, 2014, 2014, 2014, 2014, 2014, -99]"
            ]
          },
          "metadata": {
            "tags": []
          },
          "execution_count": 61
        }
      ]
    },
    {
      "cell_type": "code",
      "metadata": {
        "colab": {
          "base_uri": "https://localhost:8080/"
        },
        "id": "QvvkVD_o2bVt",
        "outputId": "c47d556e-7e4d-4201-ca3d-0b489b35106c"
      },
      "source": [
        "data_2014_2 = data_from_file_conv.map(lambda row: (row[16], int(row[16])))\n",
        "data_2014_2.take(10)"
      ],
      "execution_count": 62,
      "outputs": [
        {
          "output_type": "execute_result",
          "data": {
            "text/plain": [
              "[('2014', 2014),\n",
              " ('2014', 2014),\n",
              " ('2014', 2014),\n",
              " ('2014', 2014),\n",
              " ('2014', 2014),\n",
              " ('2014', 2014),\n",
              " ('2014', 2014),\n",
              " ('2014', 2014),\n",
              " ('2014', 2014),\n",
              " ('-99', -99)]"
            ]
          },
          "metadata": {
            "tags": []
          },
          "execution_count": 62
        }
      ]
    },
    {
      "cell_type": "code",
      "metadata": {
        "colab": {
          "base_uri": "https://localhost:8080/"
        },
        "id": "mcpHdUKf2gs4",
        "outputId": "5668d82e-30c4-44a7-bf96-a51c4d72e04e"
      },
      "source": [
        "data_filtered = data_from_file_conv.filter(lambda row: row[5] == 'F' and row[21] == '0')\n",
        "data_filtered.count()"
      ],
      "execution_count": 63,
      "outputs": [
        {
          "output_type": "execute_result",
          "data": {
            "text/plain": [
              "6"
            ]
          },
          "metadata": {
            "tags": []
          },
          "execution_count": 63
        }
      ]
    },
    {
      "cell_type": "code",
      "metadata": {
        "colab": {
          "base_uri": "https://localhost:8080/"
        },
        "id": "aIohvvcj2slM",
        "outputId": "0eb8f8b8-97bd-44b9-8306-e2bfdc6e54f7"
      },
      "source": [
        "data_2014_flat = data_from_file_conv.flatMap(lambda row: (row[16], int(row[16]) + 1))\n",
        "data_2014_flat.take(10)"
      ],
      "execution_count": 64,
      "outputs": [
        {
          "output_type": "execute_result",
          "data": {
            "text/plain": [
              "['2014', 2015, '2014', 2015, '2014', 2015, '2014', 2015, '2014', 2015]"
            ]
          },
          "metadata": {
            "tags": []
          },
          "execution_count": 64
        }
      ]
    },
    {
      "cell_type": "code",
      "metadata": {
        "colab": {
          "base_uri": "https://localhost:8080/"
        },
        "id": "_N6oqn6W2wSs",
        "outputId": "1e94793d-72db-4053-94b3-ca949a37fb4e"
      },
      "source": [
        "distinct_gender = data_from_file_conv.map(lambda row: row[5]).distinct().collect()\n",
        "distinct_gender"
      ],
      "execution_count": 65,
      "outputs": [
        {
          "output_type": "execute_result",
          "data": {
            "text/plain": [
              "['M', 'F', '-99']"
            ]
          },
          "metadata": {
            "tags": []
          },
          "execution_count": 65
        }
      ]
    },
    {
      "cell_type": "code",
      "metadata": {
        "colab": {
          "base_uri": "https://localhost:8080/"
        },
        "id": "VhNOe-I220PX",
        "outputId": "c58e5bea-b050-4b45-ae2b-a05e30d464ab"
      },
      "source": [
        "fraction = 0.1\n",
        "data_sample = data_from_file_conv.sample(False, fraction, 666)\n",
        "\n",
        "data_sample.take(1)"
      ],
      "execution_count": 66,
      "outputs": [
        {
          "output_type": "execute_result",
          "data": {
            "text/plain": [
              "[array(['1', '  ', '5', '1', '01', 'F', '1', '082', ' ', '42', '22', '10',\n",
              "        '  ', '4', 'W', '5', '2014', 'U', '7', 'C', 'N', ' ', ' ', 'I251',\n",
              "        '215', '063', '   ', '21', '02', '11I350 ', '21I251 ', '       ',\n",
              "        '       ', '       ', '       ', '       ', '       ', '       ',\n",
              "        '       ', '       ', '       ', '       ', '       ', '       ',\n",
              "        '       ', '       ', '       ', '       ', '       ', '02',\n",
              "        'I251 ', 'I350 ', '     ', '     ', '     ', '     ', '     ',\n",
              "        '     ', '     ', '     ', '     ', '     ', '     ', '     ',\n",
              "        '     ', '     ', '     ', '     ', '     ', '     ', '28', ' ',\n",
              "        ' ', '2', '4', '100', '8'], dtype='<U40')]"
            ]
          },
          "metadata": {
            "tags": []
          },
          "execution_count": 66
        }
      ]
    },
    {
      "cell_type": "code",
      "metadata": {
        "colab": {
          "base_uri": "https://localhost:8080/"
        },
        "id": "94MMP9ZQ23Us",
        "outputId": "f79e011e-54b0-4e97-d538-df46ba11fa87"
      },
      "source": [
        "print('Original dataset: {0}, sample: {1}'.format(data_from_file_conv.count(), data_sample.count()))"
      ],
      "execution_count": 67,
      "outputs": [
        {
          "output_type": "stream",
          "text": [
            "Original dataset: 2631171, sample: 263247\n"
          ],
          "name": "stdout"
        }
      ]
    },
    {
      "cell_type": "code",
      "metadata": {
        "id": "3XgZdd8T255l"
      },
      "source": [
        ""
      ],
      "execution_count": null,
      "outputs": []
    }
  ]
}