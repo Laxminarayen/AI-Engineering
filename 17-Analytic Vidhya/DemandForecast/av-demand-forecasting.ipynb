{
 "cells": [
  {
   "cell_type": "code",
   "execution_count": 1,
   "metadata": {
    "_cell_guid": "b1076dfc-b9ad-4769-8c92-a6c4dae69d19",
    "_uuid": "8f2839f25d086af736a60e9eeb907d3b93b6e0e5"
   },
   "outputs": [
    {
     "name": "stdout",
     "output_type": "stream",
     "text": [
      "/kaggle/input/demand-forecasting/test_nfaJ3J5.csv\n",
      "/kaggle/input/demand-forecasting/sample_submission_pzljTaX.csv\n",
      "/kaggle/input/demand-forecasting/train_0irEZ2H.csv\n"
     ]
    }
   ],
   "source": [
    "# This Python 3 environment comes with many helpful analytics libraries installed\n",
    "# It is defined by the kaggle/python Docker image: https://github.com/kaggle/docker-python\n",
    "# For example, here's several helpful packages to load\n",
    "\n",
    "import numpy as np # linear algebra\n",
    "import pandas as pd # data processing, CSV file I/O (e.g. pd.read_csv)\n",
    "\n",
    "# Input data files are available in the read-only \"../input/\" directory\n",
    "# For example, running this (by clicking run or pressing Shift+Enter) will list all files under the input directory\n",
    "\n",
    "import os\n",
    "for dirname, _, filenames in os.walk('/kaggle/input'):\n",
    "    for filename in filenames:\n",
    "        print(os.path.join(dirname, filename))\n",
    "\n",
    "# You can write up to 5GB to the current directory (/kaggle/working/) that gets preserved as output when you create a version using \"Save & Run All\" \n",
    "# You can also write temporary files to /kaggle/temp/, but they won't be saved outside of the current session"
   ]
  },
  {
   "cell_type": "code",
   "execution_count": 2,
   "metadata": {},
   "outputs": [],
   "source": [
    "import random\n",
    "random_seed = 0\n",
    "random.seed(random_seed)\n",
    "np.random.seed(random_seed)"
   ]
  },
  {
   "cell_type": "code",
   "execution_count": 3,
   "metadata": {},
   "outputs": [],
   "source": [
    "def RMSLE(actual, predicted):\n",
    "\n",
    "    predicted = np.array([np.log(np.abs(x+1.0)) for x in predicted])  # doing np.abs for handling neg values  \n",
    "    actual = np.array([np.log(np.abs(x+1.0)) for x in actual])\n",
    "    log_err = actual-predicted\n",
    "    \n",
    "    return 1000*np.sqrt(np.mean(log_err**2))"
   ]
  },
  {
   "cell_type": "code",
   "execution_count": 4,
   "metadata": {
    "_cell_guid": "79c7e3d0-c299-4dcb-8224-4455121ee9b0",
    "_uuid": "d629ff2d2480ee46fbb7e2d37f6b5fab8052498a"
   },
   "outputs": [],
   "source": [
    "train = pd.read_csv('/kaggle/input/demand-forecasting/train_0irEZ2H.csv')\n",
    "test = pd.read_csv('/kaggle/input/demand-forecasting/test_nfaJ3J5.csv')\n",
    "submit = pd.read_csv('/kaggle/input/demand-forecasting/sample_submission_pzljTaX.csv')"
   ]
  },
  {
   "cell_type": "code",
   "execution_count": 5,
   "metadata": {},
   "outputs": [
    {
     "data": {
      "text/html": [
       "<div>\n",
       "<style scoped>\n",
       "    .dataframe tbody tr th:only-of-type {\n",
       "        vertical-align: middle;\n",
       "    }\n",
       "\n",
       "    .dataframe tbody tr th {\n",
       "        vertical-align: top;\n",
       "    }\n",
       "\n",
       "    .dataframe thead th {\n",
       "        text-align: right;\n",
       "    }\n",
       "</style>\n",
       "<table border=\"1\" class=\"dataframe\">\n",
       "  <thead>\n",
       "    <tr style=\"text-align: right;\">\n",
       "      <th></th>\n",
       "      <th>record_ID</th>\n",
       "      <th>week</th>\n",
       "      <th>store_id</th>\n",
       "      <th>sku_id</th>\n",
       "      <th>total_price</th>\n",
       "      <th>base_price</th>\n",
       "      <th>is_featured_sku</th>\n",
       "      <th>is_display_sku</th>\n",
       "      <th>units_sold</th>\n",
       "    </tr>\n",
       "  </thead>\n",
       "  <tbody>\n",
       "    <tr>\n",
       "      <th>0</th>\n",
       "      <td>1</td>\n",
       "      <td>17/01/11</td>\n",
       "      <td>8091</td>\n",
       "      <td>216418</td>\n",
       "      <td>99.0375</td>\n",
       "      <td>111.8625</td>\n",
       "      <td>0</td>\n",
       "      <td>0</td>\n",
       "      <td>20</td>\n",
       "    </tr>\n",
       "    <tr>\n",
       "      <th>1</th>\n",
       "      <td>2</td>\n",
       "      <td>17/01/11</td>\n",
       "      <td>8091</td>\n",
       "      <td>216419</td>\n",
       "      <td>99.0375</td>\n",
       "      <td>99.0375</td>\n",
       "      <td>0</td>\n",
       "      <td>0</td>\n",
       "      <td>28</td>\n",
       "    </tr>\n",
       "  </tbody>\n",
       "</table>\n",
       "</div>"
      ],
      "text/plain": [
       "   record_ID      week  store_id  sku_id  total_price  base_price  \\\n",
       "0          1  17/01/11      8091  216418      99.0375    111.8625   \n",
       "1          2  17/01/11      8091  216419      99.0375     99.0375   \n",
       "\n",
       "   is_featured_sku  is_display_sku  units_sold  \n",
       "0                0               0          20  \n",
       "1                0               0          28  "
      ]
     },
     "execution_count": 5,
     "metadata": {},
     "output_type": "execute_result"
    }
   ],
   "source": [
    "train.head(2)"
   ]
  },
  {
   "cell_type": "code",
   "execution_count": 6,
   "metadata": {},
   "outputs": [
    {
     "name": "stdout",
     "output_type": "stream",
     "text": [
      "(150150, 9) (13860, 8) (13860, 2)\n"
     ]
    }
   ],
   "source": [
    "print(train.shape, test.shape, submit.shape)"
   ]
  },
  {
   "cell_type": "markdown",
   "execution_count": null,
   "metadata": {},
   "source": [
    "Since, the data is on (store X sku) level, let's make a separate identifier to pick it later. Below, I have concatenated the store and sku id by making new column `store_sku`. <br>\n",
    "I have also checked if the number of such combinations is same across the train and test set. By making sure it is 0, we can rest assured that no cold-start needs to be done."
   ]
  },
  {
   "cell_type": "code",
   "execution_count": 7,
   "metadata": {},
   "outputs": [
    {
     "data": {
      "text/plain": [
       "0"
      ]
     },
     "execution_count": 7,
     "metadata": {},
     "output_type": "execute_result"
    }
   ],
   "source": [
    "train['store_sku'] = (train['store_id'].astype('str') + \"_\" + train['sku_id'].astype('str'))\n",
    "test['store_sku'] = (test['store_id'].astype('str') + \"_\" + test['sku_id'].astype('str'))\n",
    "len(train['store_sku'].unique()) - len(test['store_sku'].unique()) # checking if the combination of store and sku is same across train and test."
   ]
  },
  {
   "cell_type": "code",
   "execution_count": 8,
   "metadata": {},
   "outputs": [],
   "source": [
    "assert len(np.intersect1d(train['store_sku'].unique(), test['store_sku'].unique())) == len(test['store_sku'].unique())"
   ]
  },
  {
   "cell_type": "code",
   "execution_count": 9,
   "metadata": {},
   "outputs": [
    {
     "name": "stdout",
     "output_type": "stream",
     "text": [
      "<class 'pandas.core.frame.DataFrame'>\n",
      "RangeIndex: 150150 entries, 0 to 150149\n",
      "Data columns (total 10 columns):\n",
      " #   Column           Non-Null Count   Dtype  \n",
      "---  ------           --------------   -----  \n",
      " 0   record_ID        150150 non-null  int64  \n",
      " 1   week             150150 non-null  object \n",
      " 2   store_id         150150 non-null  int64  \n",
      " 3   sku_id           150150 non-null  int64  \n",
      " 4   total_price      150149 non-null  float64\n",
      " 5   base_price       150150 non-null  float64\n",
      " 6   is_featured_sku  150150 non-null  int64  \n",
      " 7   is_display_sku   150150 non-null  int64  \n",
      " 8   units_sold       150150 non-null  int64  \n",
      " 9   store_sku        150150 non-null  object \n",
      "dtypes: float64(2), int64(6), object(2)\n",
      "memory usage: 11.5+ MB\n"
     ]
    }
   ],
   "source": [
    "train.info()"
   ]
  },
  {
   "cell_type": "markdown",
   "execution_count": null,
   "metadata": {},
   "source": [
    "Notice that one entry for `total_price` is null in the train set. Lets replace it with the `base_price` for now."
   ]
  },
  {
   "cell_type": "code",
   "execution_count": 10,
   "metadata": {},
   "outputs": [],
   "source": [
    "temp = train[train['total_price'].isnull()]['base_price']\n",
    "train['total_price'] = train['total_price'].fillna(temp)"
   ]
  },
  {
   "cell_type": "code",
   "execution_count": 11,
   "metadata": {},
   "outputs": [],
   "source": [
    "#Appending train and test together for faster manipulation of data\n",
    "test['units_sold'] = -1\n",
    "data = train.append(test, ignore_index = True)"
   ]
  },
  {
   "cell_type": "code",
   "execution_count": 12,
   "metadata": {},
   "outputs": [
    {
     "name": "stdout",
     "output_type": "stream",
     "text": [
      "<class 'pandas.core.frame.DataFrame'>\n",
      "RangeIndex: 164010 entries, 0 to 164009\n",
      "Data columns (total 10 columns):\n",
      " #   Column           Non-Null Count   Dtype  \n",
      "---  ------           --------------   -----  \n",
      " 0   record_ID        164010 non-null  int64  \n",
      " 1   week             164010 non-null  object \n",
      " 2   store_id         164010 non-null  int64  \n",
      " 3   sku_id           164010 non-null  int64  \n",
      " 4   total_price      164010 non-null  float64\n",
      " 5   base_price       164010 non-null  float64\n",
      " 6   is_featured_sku  164010 non-null  int64  \n",
      " 7   is_display_sku   164010 non-null  int64  \n",
      " 8   units_sold       164010 non-null  int64  \n",
      " 9   store_sku        164010 non-null  object \n",
      "dtypes: float64(2), int64(6), object(2)\n",
      "memory usage: 12.5+ MB\n"
     ]
    }
   ],
   "source": [
    "data.info()"
   ]
  },
  {
   "cell_type": "code",
   "execution_count": 13,
   "metadata": {},
   "outputs": [
    {
     "name": "stdout",
     "output_type": "stream",
     "text": [
      "Checking Data distribution for Train! \n",
      "\n",
      "Distinct entries in record_ID: 150150\n",
      "Common # of record_ID entries in test and train: 0\n",
      "Distinct entries in week: 130\n",
      "Common # of week entries in test and train: 0\n",
      "Distinct entries in store_id: 76\n",
      "Common # of store_id entries in test and train: 76\n",
      "Distinct entries in sku_id: 28\n",
      "Common # of sku_id entries in test and train: 28\n",
      "Distinct entries in total_price: 646\n",
      "Common # of total_price entries in test and train: 440\n",
      "Distinct entries in base_price: 572\n",
      "Common # of base_price entries in test and train: 364\n",
      "Distinct entries in is_featured_sku: 2\n",
      "Common # of is_featured_sku entries in test and train: 2\n",
      "Distinct entries in is_display_sku: 2\n",
      "Common # of is_display_sku entries in test and train: 2\n",
      "Distinct entries in units_sold: 708\n",
      "Common # of units_sold entries in test and train: 0\n",
      "Distinct entries in store_sku: 1155\n",
      "Common # of store_sku entries in test and train: 1155\n"
     ]
    }
   ],
   "source": [
    "print('Checking Data distribution for Train! \\n')\n",
    "for col in train.columns:\n",
    "    print(f'Distinct entries in {col}: {train[col].nunique()}')\n",
    "    print(f'Common # of {col} entries in test and train: {len(np.intersect1d(train[col].unique(), test[col].unique()))}')"
   ]
  },
  {
   "cell_type": "code",
   "execution_count": 14,
   "metadata": {},
   "outputs": [
    {
     "data": {
      "text/html": [
       "<div>\n",
       "<style scoped>\n",
       "    .dataframe tbody tr th:only-of-type {\n",
       "        vertical-align: middle;\n",
       "    }\n",
       "\n",
       "    .dataframe tbody tr th {\n",
       "        vertical-align: top;\n",
       "    }\n",
       "\n",
       "    .dataframe thead th {\n",
       "        text-align: right;\n",
       "    }\n",
       "</style>\n",
       "<table border=\"1\" class=\"dataframe\">\n",
       "  <thead>\n",
       "    <tr style=\"text-align: right;\">\n",
       "      <th></th>\n",
       "      <th>record_ID</th>\n",
       "      <th>store_id</th>\n",
       "      <th>sku_id</th>\n",
       "      <th>total_price</th>\n",
       "      <th>base_price</th>\n",
       "      <th>is_featured_sku</th>\n",
       "      <th>is_display_sku</th>\n",
       "      <th>units_sold</th>\n",
       "    </tr>\n",
       "  </thead>\n",
       "  <tbody>\n",
       "    <tr>\n",
       "      <th>count</th>\n",
       "      <td>164010.000000</td>\n",
       "      <td>164010.000000</td>\n",
       "      <td>164010.000000</td>\n",
       "      <td>164010.000000</td>\n",
       "      <td>164010.000000</td>\n",
       "      <td>164010.000000</td>\n",
       "      <td>164010.000000</td>\n",
       "      <td>164010.000000</td>\n",
       "    </tr>\n",
       "    <tr>\n",
       "      <th>mean</th>\n",
       "      <td>116090.309664</td>\n",
       "      <td>9199.422511</td>\n",
       "      <td>254761.132468</td>\n",
       "      <td>207.098393</td>\n",
       "      <td>219.805933</td>\n",
       "      <td>0.094848</td>\n",
       "      <td>0.133211</td>\n",
       "      <td>47.222864</td>\n",
       "    </tr>\n",
       "    <tr>\n",
       "      <th>std</th>\n",
       "      <td>67059.235114</td>\n",
       "      <td>615.591271</td>\n",
       "      <td>85547.282373</td>\n",
       "      <td>102.501242</td>\n",
       "      <td>110.351869</td>\n",
       "      <td>0.293006</td>\n",
       "      <td>0.339804</td>\n",
       "      <td>59.441654</td>\n",
       "    </tr>\n",
       "    <tr>\n",
       "      <th>min</th>\n",
       "      <td>1.000000</td>\n",
       "      <td>8023.000000</td>\n",
       "      <td>216233.000000</td>\n",
       "      <td>41.325000</td>\n",
       "      <td>61.275000</td>\n",
       "      <td>0.000000</td>\n",
       "      <td>0.000000</td>\n",
       "      <td>-1.000000</td>\n",
       "    </tr>\n",
       "    <tr>\n",
       "      <th>25%</th>\n",
       "      <td>57989.250000</td>\n",
       "      <td>8562.000000</td>\n",
       "      <td>217217.000000</td>\n",
       "      <td>130.387500</td>\n",
       "      <td>133.237500</td>\n",
       "      <td>0.000000</td>\n",
       "      <td>0.000000</td>\n",
       "      <td>16.000000</td>\n",
       "    </tr>\n",
       "    <tr>\n",
       "      <th>50%</th>\n",
       "      <td>116054.500000</td>\n",
       "      <td>9371.000000</td>\n",
       "      <td>222087.000000</td>\n",
       "      <td>198.787500</td>\n",
       "      <td>208.050000</td>\n",
       "      <td>0.000000</td>\n",
       "      <td>0.000000</td>\n",
       "      <td>32.000000</td>\n",
       "    </tr>\n",
       "    <tr>\n",
       "      <th>75%</th>\n",
       "      <td>174176.750000</td>\n",
       "      <td>9731.000000</td>\n",
       "      <td>245338.000000</td>\n",
       "      <td>234.412500</td>\n",
       "      <td>235.837500</td>\n",
       "      <td>0.000000</td>\n",
       "      <td>0.000000</td>\n",
       "      <td>58.000000</td>\n",
       "    </tr>\n",
       "    <tr>\n",
       "      <th>max</th>\n",
       "      <td>232287.000000</td>\n",
       "      <td>9984.000000</td>\n",
       "      <td>679023.000000</td>\n",
       "      <td>562.162500</td>\n",
       "      <td>562.162500</td>\n",
       "      <td>1.000000</td>\n",
       "      <td>1.000000</td>\n",
       "      <td>2876.000000</td>\n",
       "    </tr>\n",
       "  </tbody>\n",
       "</table>\n",
       "</div>"
      ],
      "text/plain": [
       "           record_ID       store_id         sku_id    total_price  \\\n",
       "count  164010.000000  164010.000000  164010.000000  164010.000000   \n",
       "mean   116090.309664    9199.422511  254761.132468     207.098393   \n",
       "std     67059.235114     615.591271   85547.282373     102.501242   \n",
       "min         1.000000    8023.000000  216233.000000      41.325000   \n",
       "25%     57989.250000    8562.000000  217217.000000     130.387500   \n",
       "50%    116054.500000    9371.000000  222087.000000     198.787500   \n",
       "75%    174176.750000    9731.000000  245338.000000     234.412500   \n",
       "max    232287.000000    9984.000000  679023.000000     562.162500   \n",
       "\n",
       "          base_price  is_featured_sku  is_display_sku     units_sold  \n",
       "count  164010.000000    164010.000000   164010.000000  164010.000000  \n",
       "mean      219.805933         0.094848        0.133211      47.222864  \n",
       "std       110.351869         0.293006        0.339804      59.441654  \n",
       "min        61.275000         0.000000        0.000000      -1.000000  \n",
       "25%       133.237500         0.000000        0.000000      16.000000  \n",
       "50%       208.050000         0.000000        0.000000      32.000000  \n",
       "75%       235.837500         0.000000        0.000000      58.000000  \n",
       "max       562.162500         1.000000        1.000000    2876.000000  "
      ]
     },
     "execution_count": 14,
     "metadata": {},
     "output_type": "execute_result"
    }
   ],
   "source": [
    "data.describe()"
   ]
  },
  {
   "cell_type": "code",
   "execution_count": 15,
   "metadata": {},
   "outputs": [
    {
     "data": {
      "text/plain": [
       "count    150150.000000\n",
       "mean         51.674206\n",
       "std          60.207904\n",
       "min           1.000000\n",
       "25%          20.000000\n",
       "50%          35.000000\n",
       "75%          62.000000\n",
       "max        2876.000000\n",
       "Name: units_sold, dtype: float64"
      ]
     },
     "execution_count": 15,
     "metadata": {},
     "output_type": "execute_result"
    }
   ],
   "source": [
    "train.units_sold.describe()"
   ]
  },
  {
   "cell_type": "code",
   "execution_count": 16,
   "metadata": {},
   "outputs": [
    {
     "data": {
      "text/plain": [
       "<matplotlib.axes._subplots.AxesSubplot at 0x7f53c382f890>"
      ]
     },
     "execution_count": 16,
     "metadata": {},
     "output_type": "execute_result"
    },
    {
     "data": {
      "image/png": "[encoded data removed]",
      "text/plain": [
       "<Figure size 432x288 with 1 Axes>"
      ]
     },
     "metadata": {
      "needs_background": "light"
     },
     "output_type": "display_data"
    }
   ],
   "source": [
    "(train[train.units_sold <= 200].units_sold).hist()"
   ]
  },
  {
   "cell_type": "code",
   "execution_count": 17,
   "metadata": {},
   "outputs": [
    {
     "data": {
      "text/plain": [
       "<matplotlib.axes._subplots.AxesSubplot at 0x7f53c808f690>"
      ]
     },
     "execution_count": 17,
     "metadata": {},
     "output_type": "execute_result"
    },
    {
     "data": {
      "image/png": "[encoded data removed]",
      "text/plain": [
       "<Figure size 432x288 with 1 Axes>"
      ]
     },
     "metadata": {
      "needs_background": "light"
     },
     "output_type": "display_data"
    }
   ],
   "source": [
    "train['units_sold'].hist()"
   ]
  },
  {
   "cell_type": "markdown",
   "execution_count": null,
   "metadata": {},
   "source": [
    "Notice that the target data is highly skewed. To make accurate predictions, we must normalise it before using."
   ]
  },
  {
   "cell_type": "code",
   "execution_count": 18,
   "metadata": {},
   "outputs": [
    {
     "data": {
      "text/plain": [
       "<matplotlib.axes._subplots.AxesSubplot at 0x7f53c3dce410>"
      ]
     },
     "execution_count": 18,
     "metadata": {},
     "output_type": "execute_result"
    },
    {
     "data": {
      "image/png": "[encoded data removed]",
      "text/plain": [
       "<Figure size 432x288 with 1 Axes>"
      ]
     },
     "metadata": {
      "needs_background": "light"
     },
     "output_type": "display_data"
    }
   ],
   "source": [
    "np.log1p(train['units_sold']).hist()"
   ]
  },
  {
   "cell_type": "markdown",
   "execution_count": null,
   "metadata": {},
   "source": [
    "Comparing for base and total price. Let's see if we can gain some insights about the target data from these two."
   ]
  },
  {
   "cell_type": "code",
   "execution_count": 19,
   "metadata": {},
   "outputs": [
    {
     "data": {
      "text/plain": [
       "<matplotlib.axes._subplots.AxesSubplot at 0x7f53c3d580d0>"
      ]
     },
     "execution_count": 19,
     "metadata": {},
     "output_type": "execute_result"
    },
    {
     "data": {
      "image/png": "[encoded data removed]",
      "text/plain": [
       "<Figure size 432x288 with 1 Axes>"
      ]
     },
     "metadata": {
      "needs_background": "light"
     },
     "output_type": "display_data"
    }
   ],
   "source": [
    "data[['base_price', 'total_price']].plot.box()"
   ]
  },
  {
   "cell_type": "code",
   "execution_count": 20,
   "metadata": {},
   "outputs": [
    {
     "data": {
      "text/html": [
       "<div>\n",
       "<style scoped>\n",
       "    .dataframe tbody tr th:only-of-type {\n",
       "        vertical-align: middle;\n",
       "    }\n",
       "\n",
       "    .dataframe tbody tr th {\n",
       "        vertical-align: top;\n",
       "    }\n",
       "\n",
       "    .dataframe thead th {\n",
       "        text-align: right;\n",
       "    }\n",
       "</style>\n",
       "<table border=\"1\" class=\"dataframe\">\n",
       "  <thead>\n",
       "    <tr style=\"text-align: right;\">\n",
       "      <th></th>\n",
       "      <th>record_ID</th>\n",
       "      <th>week</th>\n",
       "      <th>store_id</th>\n",
       "      <th>sku_id</th>\n",
       "      <th>total_price</th>\n",
       "      <th>base_price</th>\n",
       "      <th>is_featured_sku</th>\n",
       "      <th>is_display_sku</th>\n",
       "      <th>units_sold</th>\n",
       "      <th>store_sku</th>\n",
       "      <th>diff</th>\n",
       "      <th>relative_diff_base</th>\n",
       "      <th>relative_diff_total</th>\n",
       "    </tr>\n",
       "  </thead>\n",
       "  <tbody>\n",
       "    <tr>\n",
       "      <th>0</th>\n",
       "      <td>1</td>\n",
       "      <td>17/01/11</td>\n",
       "      <td>8091</td>\n",
       "      <td>216418</td>\n",
       "      <td>99.0375</td>\n",
       "      <td>111.8625</td>\n",
       "      <td>0</td>\n",
       "      <td>0</td>\n",
       "      <td>20</td>\n",
       "      <td>8091_216418</td>\n",
       "      <td>12.825</td>\n",
       "      <td>0.11465</td>\n",
       "      <td>0.129496</td>\n",
       "    </tr>\n",
       "    <tr>\n",
       "      <th>1</th>\n",
       "      <td>2</td>\n",
       "      <td>17/01/11</td>\n",
       "      <td>8091</td>\n",
       "      <td>216419</td>\n",
       "      <td>99.0375</td>\n",
       "      <td>99.0375</td>\n",
       "      <td>0</td>\n",
       "      <td>0</td>\n",
       "      <td>28</td>\n",
       "      <td>8091_216419</td>\n",
       "      <td>0.000</td>\n",
       "      <td>0.00000</td>\n",
       "      <td>0.000000</td>\n",
       "    </tr>\n",
       "  </tbody>\n",
       "</table>\n",
       "</div>"
      ],
      "text/plain": [
       "   record_ID      week  store_id  sku_id  total_price  base_price  \\\n",
       "0          1  17/01/11      8091  216418      99.0375    111.8625   \n",
       "1          2  17/01/11      8091  216419      99.0375     99.0375   \n",
       "\n",
       "   is_featured_sku  is_display_sku  units_sold    store_sku    diff  \\\n",
       "0                0               0          20  8091_216418  12.825   \n",
       "1                0               0          28  8091_216419   0.000   \n",
       "\n",
       "   relative_diff_base  relative_diff_total  \n",
       "0             0.11465             0.129496  \n",
       "1             0.00000             0.000000  "
      ]
     },
     "execution_count": 20,
     "metadata": {},
     "output_type": "execute_result"
    }
   ],
   "source": [
    "# Making price based new features\n",
    "\n",
    "train['diff'] = train['base_price'] - train['total_price']\n",
    "\n",
    "train['relative_diff_base'] = train['diff']/train['base_price']\n",
    "train['relative_diff_total'] = train['diff']/train['total_price']\n",
    "\n",
    "train.head(2)"
   ]
  },
  {
   "cell_type": "code",
   "execution_count": 21,
   "metadata": {},
   "outputs": [
    {
     "data": {
      "text/html": [
       "<div>\n",
       "<style scoped>\n",
       "    .dataframe tbody tr th:only-of-type {\n",
       "        vertical-align: middle;\n",
       "    }\n",
       "\n",
       "    .dataframe tbody tr th {\n",
       "        vertical-align: top;\n",
       "    }\n",
       "\n",
       "    .dataframe thead th {\n",
       "        text-align: right;\n",
       "    }\n",
       "</style>\n",
       "<table border=\"1\" class=\"dataframe\">\n",
       "  <thead>\n",
       "    <tr style=\"text-align: right;\">\n",
       "      <th></th>\n",
       "      <th>record_ID</th>\n",
       "      <th>week</th>\n",
       "      <th>store_id</th>\n",
       "      <th>sku_id</th>\n",
       "      <th>total_price</th>\n",
       "      <th>base_price</th>\n",
       "      <th>is_featured_sku</th>\n",
       "      <th>is_display_sku</th>\n",
       "      <th>store_sku</th>\n",
       "      <th>units_sold</th>\n",
       "      <th>diff</th>\n",
       "      <th>relative_diff_base</th>\n",
       "      <th>relative_diff_total</th>\n",
       "    </tr>\n",
       "  </thead>\n",
       "  <tbody>\n",
       "    <tr>\n",
       "      <th>0</th>\n",
       "      <td>212645</td>\n",
       "      <td>16/07/13</td>\n",
       "      <td>8091</td>\n",
       "      <td>216418</td>\n",
       "      <td>108.3000</td>\n",
       "      <td>108.3000</td>\n",
       "      <td>0</td>\n",
       "      <td>0</td>\n",
       "      <td>8091_216418</td>\n",
       "      <td>-1</td>\n",
       "      <td>0.0</td>\n",
       "      <td>0.0</td>\n",
       "      <td>0.0</td>\n",
       "    </tr>\n",
       "    <tr>\n",
       "      <th>1</th>\n",
       "      <td>212646</td>\n",
       "      <td>16/07/13</td>\n",
       "      <td>8091</td>\n",
       "      <td>216419</td>\n",
       "      <td>109.0125</td>\n",
       "      <td>109.0125</td>\n",
       "      <td>0</td>\n",
       "      <td>0</td>\n",
       "      <td>8091_216419</td>\n",
       "      <td>-1</td>\n",
       "      <td>0.0</td>\n",
       "      <td>0.0</td>\n",
       "      <td>0.0</td>\n",
       "    </tr>\n",
       "  </tbody>\n",
       "</table>\n",
       "</div>"
      ],
      "text/plain": [
       "   record_ID      week  store_id  sku_id  total_price  base_price  \\\n",
       "0     212645  16/07/13      8091  216418     108.3000    108.3000   \n",
       "1     212646  16/07/13      8091  216419     109.0125    109.0125   \n",
       "\n",
       "   is_featured_sku  is_display_sku    store_sku  units_sold  diff  \\\n",
       "0                0               0  8091_216418          -1   0.0   \n",
       "1                0               0  8091_216419          -1   0.0   \n",
       "\n",
       "   relative_diff_base  relative_diff_total  \n",
       "0                 0.0                  0.0  \n",
       "1                 0.0                  0.0  "
      ]
     },
     "execution_count": 21,
     "metadata": {},
     "output_type": "execute_result"
    }
   ],
   "source": [
    "test['diff'] = test['base_price'] - test['total_price']\n",
    "test['relative_diff_base'] = test['diff']/test['base_price']\n",
    "test['relative_diff_total'] = test['diff']/test['total_price']\n",
    "test.head(2)"
   ]
  },
  {
   "cell_type": "code",
   "execution_count": 22,
   "metadata": {},
   "outputs": [
    {
     "data": {
      "text/plain": [
       "base_price            -0.140032\n",
       "total_price           -0.235634\n",
       "diff                   0.278283\n",
       "relative_diff_base     0.364841\n",
       "relative_diff_total    0.365690\n",
       "is_featured_sku        0.337751\n",
       "is_display_sku         0.362662\n",
       "units_sold             1.000000\n",
       "Name: units_sold, dtype: float64"
      ]
     },
     "execution_count": 22,
     "metadata": {},
     "output_type": "execute_result"
    }
   ],
   "source": [
    "# Studying correlation between features and the target. This will help us in regression later.\n",
    "cols = ['base_price', 'total_price', 'diff', 'relative_diff_base', 'relative_diff_total'\n",
    "        , 'is_featured_sku', 'is_display_sku', 'units_sold']\n",
    "train[cols].corr().loc['units_sold']"
   ]
  },
  {
   "cell_type": "markdown",
   "execution_count": null,
   "metadata": {},
   "source": [
    "We have good correlation of features with the target variable, hence doing a baseline regression won't be a bad start."
   ]
  },
  {
   "cell_type": "markdown",
   "execution_count": null,
   "metadata": {},
   "source": [
    "# Baseline Regression"
   ]
  },
  {
   "cell_type": "code",
   "execution_count": 23,
   "metadata": {},
   "outputs": [
    {
     "name": "stdout",
     "output_type": "stream",
     "text": [
      "current # of features in cols: 8\n",
      "current # of features to be used: 7\n"
     ]
    }
   ],
   "source": [
    "print(f'current # of features in cols: {len(cols)}')\n",
    "cols.remove('units_sold')\n",
    "print(f'current # of features to be used: {len(cols)}')"
   ]
  },
  {
   "cell_type": "code",
   "execution_count": 24,
   "metadata": {},
   "outputs": [
    {
     "name": "stdout",
     "output_type": "stream",
     "text": [
      "(120120, 7) (120120,) (30030, 7) (30030,)\n"
     ]
    }
   ],
   "source": [
    "from sklearn.model_selection import train_test_split\n",
    "\n",
    "X = train[cols]\n",
    "y = np.log1p(train['units_sold']) # Transforming target into normal via logarithmic operation\n",
    "\n",
    "Xtrain, Xval, ytrain, yval = train_test_split(X, y, test_size = 0.2, random_state = 1)\n",
    "print(Xtrain.shape, ytrain.shape, Xval.shape, yval.shape)"
   ]
  },
  {
   "cell_type": "code",
   "execution_count": 25,
   "metadata": {},
   "outputs": [
    {
     "data": {
      "text/plain": [
       "base_price             0\n",
       "total_price            0\n",
       "diff                   0\n",
       "relative_diff_base     0\n",
       "relative_diff_total    0\n",
       "is_featured_sku        0\n",
       "is_display_sku         0\n",
       "dtype: int64"
      ]
     },
     "execution_count": 25,
     "metadata": {},
     "output_type": "execute_result"
    }
   ],
   "source": [
    "Xtrain.isnull().sum()"
   ]
  },
  {
   "cell_type": "code",
   "execution_count": 26,
   "metadata": {},
   "outputs": [
    {
     "data": {
      "text/plain": [
       "RandomForestRegressor()"
      ]
     },
     "execution_count": 26,
     "metadata": {},
     "output_type": "execute_result"
    }
   ],
   "source": [
    "from sklearn.ensemble import RandomForestRegressor\n",
    "reg = RandomForestRegressor()\n",
    "reg.fit(Xtrain, ytrain)"
   ]
  },
  {
   "cell_type": "code",
   "execution_count": 27,
   "metadata": {},
   "outputs": [
    {
     "name": "stdout",
     "output_type": "stream",
     "text": [
      "The validation RMSLE error for baseline model is: 610.9894658316206\n"
     ]
    }
   ],
   "source": [
    "preds = reg.predict(Xval)\n",
    "print(f'The validation RMSLE error for baseline model is: {RMSLE(np.exp(yval), np.exp(preds))}')"
   ]
  },
  {
   "cell_type": "code",
   "execution_count": 28,
   "metadata": {},
   "outputs": [
    {
     "data": {
      "text/html": [
       "<div>\n",
       "<style scoped>\n",
       "    .dataframe tbody tr th:only-of-type {\n",
       "        vertical-align: middle;\n",
       "    }\n",
       "\n",
       "    .dataframe tbody tr th {\n",
       "        vertical-align: top;\n",
       "    }\n",
       "\n",
       "    .dataframe thead th {\n",
       "        text-align: right;\n",
       "    }\n",
       "</style>\n",
       "<table border=\"1\" class=\"dataframe\">\n",
       "  <thead>\n",
       "    <tr style=\"text-align: right;\">\n",
       "      <th></th>\n",
       "      <th>record_ID</th>\n",
       "      <th>units_sold</th>\n",
       "    </tr>\n",
       "  </thead>\n",
       "  <tbody>\n",
       "    <tr>\n",
       "      <th>0</th>\n",
       "      <td>212645</td>\n",
       "      <td>58.946308</td>\n",
       "    </tr>\n",
       "    <tr>\n",
       "      <th>1</th>\n",
       "      <td>212646</td>\n",
       "      <td>51.196541</td>\n",
       "    </tr>\n",
       "  </tbody>\n",
       "</table>\n",
       "</div>"
      ],
      "text/plain": [
       "   record_ID  units_sold\n",
       "0     212645   58.946308\n",
       "1     212646   51.196541"
      ]
     },
     "execution_count": 28,
     "metadata": {},
     "output_type": "execute_result"
    }
   ],
   "source": [
    "sub_preds = reg.predict(test[cols])\n",
    "submit['units_sold'] = np.exp(sub_preds)\n",
    "submit.head(2)"
   ]
  },
  {
   "cell_type": "code",
   "execution_count": 29,
   "metadata": {},
   "outputs": [],
   "source": [
    "submit.to_csv('sub_baseline_v1.csv', index = False)"
   ]
  },
  {
   "cell_type": "markdown",
   "execution_count": null,
   "metadata": {},
   "source": [
    "#### Leaderboard scores:\n",
    "- Public: 731.0198\n",
    "- Private: ?\n",
    "\n",
    "Not a bad start!\n",
    "The time series data that we have behaves differently for different sku and hence we should try fitting multiple models for each sku/store, i.e., different models for different store_sku combination. Let's try that out and see if that makes any improvement."
   ]
  },
  {
   "cell_type": "markdown",
   "execution_count": null,
   "metadata": {},
   "source": [
    "# SKU level base model fitting"
   ]
  },
  {
   "cell_type": "markdown",
   "execution_count": null,
   "metadata": {},
   "source": [
    "Before fitting the model, we would like to encode our store and sku information. There are multiple ways of doing this:\n",
    "    1. One-hot encoding\n",
    "    2. Label encoding\n",
    "    3. Category encoding\n",
    "Since, the features here have high cardinality, we should go for Category encoding. I'll be using `MEstimateEncoder` for this purpose.\n",
    "You can find its documentation at this link: http://contrib.scikit-learn.org/category_encoders/mestimate.html"
   ]
  },
  {
   "cell_type": "code",
   "execution_count": 30,
   "metadata": {},
   "outputs": [],
   "source": [
    "from category_encoders import TargetEncoder, MEstimateEncoder\n",
    "encoder = MEstimateEncoder()\n",
    "encoder.fit(train['store_id'], train['units_sold'])\n",
    "train['store_encoded'] = encoder.transform(train['store_id'], train['units_sold'])\n",
    "test['store_encoded'] = encoder.transform(test['store_id'], test['units_sold'])"
   ]
  },
  {
   "cell_type": "code",
   "execution_count": 31,
   "metadata": {},
   "outputs": [],
   "source": [
    "encoder.fit(train['sku_id'], train['units_sold'])\n",
    "train['sku_encoded'] = encoder.transform(train['sku_id'], train['units_sold'])\n",
    "test['sku_encoded'] = encoder.transform(test['sku_id'], test['units_sold'])"
   ]
  },
  {
   "cell_type": "code",
   "execution_count": 32,
   "metadata": {},
   "outputs": [
    {
     "name": "stdout",
     "output_type": "stream",
     "text": [
      "[216418 216419]\n"
     ]
    },
    {
     "data": {
      "text/html": [
       "<div>\n",
       "<style scoped>\n",
       "    .dataframe tbody tr th:only-of-type {\n",
       "        vertical-align: middle;\n",
       "    }\n",
       "\n",
       "    .dataframe tbody tr th {\n",
       "        vertical-align: top;\n",
       "    }\n",
       "\n",
       "    .dataframe thead th {\n",
       "        text-align: right;\n",
       "    }\n",
       "</style>\n",
       "<table border=\"1\" class=\"dataframe\">\n",
       "  <thead>\n",
       "    <tr style=\"text-align: right;\">\n",
       "      <th></th>\n",
       "      <th>record_ID</th>\n",
       "      <th>week</th>\n",
       "      <th>store_id</th>\n",
       "      <th>sku_id</th>\n",
       "      <th>total_price</th>\n",
       "      <th>base_price</th>\n",
       "      <th>is_featured_sku</th>\n",
       "      <th>is_display_sku</th>\n",
       "      <th>store_sku</th>\n",
       "      <th>units_sold</th>\n",
       "      <th>diff</th>\n",
       "      <th>relative_diff_base</th>\n",
       "      <th>relative_diff_total</th>\n",
       "      <th>store_encoded</th>\n",
       "      <th>sku_encoded</th>\n",
       "    </tr>\n",
       "  </thead>\n",
       "  <tbody>\n",
       "    <tr>\n",
       "      <th>13858</th>\n",
       "      <td>232286</td>\n",
       "      <td>01/10/13</td>\n",
       "      <td>9984</td>\n",
       "      <td>547934</td>\n",
       "      <td>191.6625</td>\n",
       "      <td>191.6625</td>\n",
       "      <td>0</td>\n",
       "      <td>0</td>\n",
       "      <td>9984_547934</td>\n",
       "      <td>-1</td>\n",
       "      <td>0.0</td>\n",
       "      <td>0.0</td>\n",
       "      <td>0.0</td>\n",
       "      <td>9984</td>\n",
       "      <td>547934</td>\n",
       "    </tr>\n",
       "    <tr>\n",
       "      <th>13859</th>\n",
       "      <td>232287</td>\n",
       "      <td>01/10/13</td>\n",
       "      <td>9984</td>\n",
       "      <td>679023</td>\n",
       "      <td>234.4125</td>\n",
       "      <td>234.4125</td>\n",
       "      <td>0</td>\n",
       "      <td>0</td>\n",
       "      <td>9984_679023</td>\n",
       "      <td>-1</td>\n",
       "      <td>0.0</td>\n",
       "      <td>0.0</td>\n",
       "      <td>0.0</td>\n",
       "      <td>9984</td>\n",
       "      <td>679023</td>\n",
       "    </tr>\n",
       "  </tbody>\n",
       "</table>\n",
       "</div>"
      ],
      "text/plain": [
       "       record_ID      week  store_id  sku_id  total_price  base_price  \\\n",
       "13858     232286  01/10/13      9984  547934     191.6625    191.6625   \n",
       "13859     232287  01/10/13      9984  679023     234.4125    234.4125   \n",
       "\n",
       "       is_featured_sku  is_display_sku    store_sku  units_sold  diff  \\\n",
       "13858                0               0  9984_547934          -1   0.0   \n",
       "13859                0               0  9984_679023          -1   0.0   \n",
       "\n",
       "       relative_diff_base  relative_diff_total  store_encoded  sku_encoded  \n",
       "13858                 0.0                  0.0           9984       547934  \n",
       "13859                 0.0                  0.0           9984       679023  "
      ]
     },
     "execution_count": 32,
     "metadata": {},
     "output_type": "execute_result"
    }
   ],
   "source": [
    "skus = train.sku_id.unique()\n",
    "print(skus[:2])\n",
    "\n",
    "test_preds = test.copy()\n",
    "test_preds.tail(2)"
   ]
  },
  {
   "cell_type": "code",
   "execution_count": 33,
   "metadata": {},
   "outputs": [],
   "source": [
    "def sku_model(sku, cols_to_use, reg):\n",
    "    X = train[train['sku_id'] == sku][cols_to_use]\n",
    "    y = train[train['sku_id'] == sku]['units_sold']\n",
    "    \n",
    "    Xtrain, Xval, ytrain, yval = train_test_split(X, y, test_size = 0.2, random_state = 1)\n",
    "    reg.fit(X,np.log1p(y))\n",
    "    \n",
    "    y_pred = reg.predict(Xval)\n",
    "    err = RMSLE(yval, np.exp(y_pred))\n",
    "    print(f'RMSLE for {sku} is: {err}')\n",
    "    \n",
    "    preds = reg.predict(test[test['sku_id'] == sku][cols_to_use])    \n",
    "    temp_df =  pd.DataFrame.from_dict({'record_ID': test_preds[test_preds['sku_id'] == sku]['record_ID'],\n",
    "                                       'units_sold':  np.exp(preds)})\n",
    "    return err, temp_df"
   ]
  },
  {
   "cell_type": "code",
   "execution_count": 34,
   "metadata": {},
   "outputs": [],
   "source": [
    "cols_to_use = cols + ['store_encoded', 'sku_encoded']"
   ]
  },
  {
   "cell_type": "code",
   "execution_count": 35,
   "metadata": {},
   "outputs": [
    {
     "name": "stdout",
     "output_type": "stream",
     "text": [
      "RMSLE for 216418 is: 250.4987659580474\n",
      "RMSLE for 216419 is: 258.0353713207114\n",
      "RMSLE for 216425 is: 346.6434975892215\n",
      "RMSLE for 216233 is: 296.1346670883805\n",
      "RMSLE for 217390 is: 245.41850879722884\n",
      "RMSLE for 219009 is: 230.05247298242153\n",
      "RMSLE for 219029 is: 313.87562496715077\n",
      "RMSLE for 223245 is: 295.7498915904871\n",
      "RMSLE for 223153 is: 372.28214512570395\n",
      "RMSLE for 300021 is: 331.010100275212\n",
      "RMSLE for 219844 is: 327.1913105617335\n",
      "RMSLE for 222087 is: 217.96534609073692\n",
      "RMSLE for 320485 is: 340.274443481082\n",
      "RMSLE for 378934 is: 388.5441435816927\n",
      "RMSLE for 222765 is: 328.7940645047455\n",
      "RMSLE for 245387 is: 375.61906496621907\n",
      "RMSLE for 245338 is: 354.81432132638844\n",
      "RMSLE for 547934 is: 418.4927864299167\n",
      "RMSLE for 300291 is: 410.0506032501063\n",
      "RMSLE for 217217 is: 360.1444679481536\n",
      "RMSLE for 217777 is: 347.10487222928765\n",
      "RMSLE for 398721 is: 464.81256491657297\n",
      "RMSLE for 679023 is: 437.4374897591102\n",
      "RMSLE for 546789 is: 355.95802950156303\n",
      "RMSLE for 600934 is: 394.82255825194864\n",
      "RMSLE for 545621 is: 268.0452045544203\n",
      "RMSLE for 673209 is: 456.2350474172366\n",
      "RMSLE for 327492 is: 364.1507900356863\n",
      "341.0770769464702\n"
     ]
    }
   ],
   "source": [
    "err = dict() # for documenting error for each sku type\n",
    "sub = pd.DataFrame(None, columns = ['record_ID', 'units_sold'])\n",
    "reg = RandomForestRegressor(random_state = 2288)\n",
    "\n",
    "for sku in skus:\n",
    "    err[sku], temp = sku_model(sku, cols_to_use, reg)\n",
    "    sub = sub.append(temp)\n",
    "\n",
    "print(np.mean(list(err.values())))"
   ]
  },
  {
   "cell_type": "code",
   "execution_count": 36,
   "metadata": {},
   "outputs": [],
   "source": [
    "sub.sort_values(by = ['record_ID']).to_csv('sub_sku_RF_v2.csv', index = False)"
   ]
  },
  {
   "cell_type": "markdown",
   "execution_count": null,
   "metadata": {},
   "source": [
    "Till now we have done:\n",
    "- RF regressor for all data at once: Public LB score `731.0198`\n",
    "- RF regressor for data at sku level: Public LB score `481.0016`\n",
    "\n",
    "Wow! That's a huge improvement. This proves that using data at sku level will certainly help the cause."
   ]
  },
  {
   "cell_type": "markdown",
   "execution_count": null,
   "metadata": {},
   "source": [
    "Now, we would also like to incorporate the `store_id` as one of the defining features of the multiple models that we are building. But as the problem statement defines, there are 76 different models for each one of them across each sku will be a herculean task. \n",
    "Then, how do we do it?\n",
    "\n",
    "We will be using LightGBM's categorical features' input to our rescue. This can be used to provide categorical inputs to the model with a single line of code. Moreover, as the documentation says, it is 8 times faster than one-hot encoding. Find its link here.\n",
    "https://lightgbm.readthedocs.io/en/latest/Parameters.html#categorical_feature"
   ]
  },
  {
   "cell_type": "markdown",
   "execution_count": null,
   "metadata": {},
   "source": [
    "# LightGBM Regressor"
   ]
  },
  {
   "cell_type": "code",
   "execution_count": 37,
   "metadata": {},
   "outputs": [],
   "source": [
    "import lightgbm as lgb\n",
    "from lightgbm import LGBMRegressor\n",
    "from sklearn.model_selection import RepeatedKFold, cross_val_score, KFold, StratifiedKFold"
   ]
  },
  {
   "cell_type": "code",
   "execution_count": 38,
   "metadata": {},
   "outputs": [
    {
     "data": {
      "text/plain": [
       "['base_price',\n",
       " 'total_price',\n",
       " 'diff',\n",
       " 'relative_diff_base',\n",
       " 'relative_diff_total',\n",
       " 'is_featured_sku',\n",
       " 'is_display_sku',\n",
       " 'store_encoded',\n",
       " 'sku_encoded']"
      ]
     },
     "execution_count": 38,
     "metadata": {},
     "output_type": "execute_result"
    }
   ],
   "source": [
    "cols_to_use"
   ]
  },
  {
   "cell_type": "code",
   "execution_count": 39,
   "metadata": {},
   "outputs": [],
   "source": [
    "cols_to_use += ['store_id', 'sku_id']\n",
    "# For defining categorical features to the model, we will build `cat_cols`\n",
    "cat_cols = ['is_featured_sku', 'is_display_sku', 'store_id', 'sku_id']"
   ]
  },
  {
   "cell_type": "code",
   "execution_count": 40,
   "metadata": {},
   "outputs": [
    {
     "name": "stdout",
     "output_type": "stream",
     "text": [
      "(120120, 11) (120120,) (30030, 11) (30030,)\n"
     ]
    }
   ],
   "source": [
    "X = train[cols_to_use]\n",
    "y = np.log1p(train['units_sold']) # Transforming target into normal via logarithmic operation\n",
    "\n",
    "Xtrain, Xval, ytrain, yval = train_test_split(X, y, test_size = 0.2, random_state = 1)\n",
    "print(Xtrain.shape, ytrain.shape, Xval.shape, yval.shape)"
   ]
  },
  {
   "cell_type": "code",
   "execution_count": 41,
   "metadata": {},
   "outputs": [],
   "source": [
    "Xtest = test[cols_to_use]"
   ]
  },
  {
   "cell_type": "code",
   "execution_count": 42,
   "metadata": {},
   "outputs": [],
   "source": [
    "def runLGB(Xtrain, ytrain, Xval, yval, cat_cols, Xtest = None):\n",
    "    params = {\n",
    "    'boosting_type': 'gbdt',\n",
    "    'objective': 'regression',\n",
    "    'metric': 'l1',\n",
    "    #'max_depth': 9, \n",
    "    'learning_rate': 0.1\n",
    "    ,'verbose': 1\n",
    "    , \"min_data_in_leaf\" : 10\n",
    "    }\n",
    "\n",
    "    n_estimators = 800\n",
    "    early_stopping_rounds = 10\n",
    "\n",
    "    d_train = lgb.Dataset(Xtrain.copy(), label=ytrain.copy(), categorical_feature=cat_cols)\n",
    "    d_valid = lgb.Dataset(Xval.copy(), label=yval.copy(), categorical_feature=cat_cols)\n",
    "    watchlist = [d_train, d_valid]\n",
    "\n",
    "    model = lgb.train(params, d_train, n_estimators\n",
    "                      , valid_sets = [d_train, d_valid]\n",
    "                      , verbose_eval=n_estimators\n",
    "                      , early_stopping_rounds=early_stopping_rounds)\n",
    "\n",
    "    preds = model.predict(Xval, num_iteration=model.best_iteration)\n",
    "    err = RMSLE(yval, np.exp(preds))\n",
    "    \n",
    "    preds_test = model.predict(Xtest, num_iteration=model.best_iteration)\n",
    "    return  preds, err, np.exp(preds_test), model"
   ]
  },
  {
   "cell_type": "code",
   "execution_count": 43,
   "metadata": {},
   "outputs": [
    {
     "name": "stderr",
     "output_type": "stream",
     "text": [
      "/opt/conda/lib/python3.7/site-packages/lightgbm/basic.py:1291: UserWarning: Using categorical_feature in Dataset.\n",
      "  warnings.warn('Using categorical_feature in Dataset.')\n"
     ]
    },
    {
     "name": "stdout",
     "output_type": "stream",
     "text": [
      "Training until validation scores don't improve for 10 rounds\n",
      "Early stopping, best iteration is:\n",
      "[588]\ttraining's l1: 0.268272\tvalid_1's l1: 0.286406\n"
     ]
    }
   ],
   "source": [
    "pred_val, err, pred_test,model = runLGB(Xtrain, ytrain, Xval, yval, cat_cols, Xtest)"
   ]
  },
  {
   "cell_type": "markdown",
   "execution_count": null,
   "metadata": {},
   "source": [
    "- Public LB score: 419.7016\n",
    "- Private LB score: ?"
   ]
  },
  {
   "cell_type": "code",
   "execution_count": 44,
   "metadata": {},
   "outputs": [],
   "source": [
    "submit['units_sold'] = pred_test\n",
    "submit.to_csv('lgb_sub_store_sku_v3.csv', index = False)"
   ]
  },
  {
   "cell_type": "code",
   "execution_count": 45,
   "metadata": {},
   "outputs": [
    {
     "data": {
      "text/html": [
       "<div>\n",
       "<style scoped>\n",
       "    .dataframe tbody tr th:only-of-type {\n",
       "        vertical-align: middle;\n",
       "    }\n",
       "\n",
       "    .dataframe tbody tr th {\n",
       "        vertical-align: top;\n",
       "    }\n",
       "\n",
       "    .dataframe thead th {\n",
       "        text-align: right;\n",
       "    }\n",
       "</style>\n",
       "<table border=\"1\" class=\"dataframe\">\n",
       "  <thead>\n",
       "    <tr style=\"text-align: right;\">\n",
       "      <th></th>\n",
       "      <th>feature</th>\n",
       "      <th>importance</th>\n",
       "    </tr>\n",
       "  </thead>\n",
       "  <tbody>\n",
       "    <tr>\n",
       "      <th>9</th>\n",
       "      <td>store_id</td>\n",
       "      <td>4523</td>\n",
       "    </tr>\n",
       "    <tr>\n",
       "      <th>0</th>\n",
       "      <td>base_price</td>\n",
       "      <td>2765</td>\n",
       "    </tr>\n",
       "    <tr>\n",
       "      <th>1</th>\n",
       "      <td>total_price</td>\n",
       "      <td>2674</td>\n",
       "    </tr>\n",
       "    <tr>\n",
       "      <th>10</th>\n",
       "      <td>sku_id</td>\n",
       "      <td>1823</td>\n",
       "    </tr>\n",
       "    <tr>\n",
       "      <th>2</th>\n",
       "      <td>diff</td>\n",
       "      <td>1556</td>\n",
       "    </tr>\n",
       "    <tr>\n",
       "      <th>3</th>\n",
       "      <td>relative_diff_base</td>\n",
       "      <td>1331</td>\n",
       "    </tr>\n",
       "    <tr>\n",
       "      <th>7</th>\n",
       "      <td>store_encoded</td>\n",
       "      <td>1182</td>\n",
       "    </tr>\n",
       "    <tr>\n",
       "      <th>8</th>\n",
       "      <td>sku_encoded</td>\n",
       "      <td>780</td>\n",
       "    </tr>\n",
       "    <tr>\n",
       "      <th>5</th>\n",
       "      <td>is_featured_sku</td>\n",
       "      <td>515</td>\n",
       "    </tr>\n",
       "    <tr>\n",
       "      <th>6</th>\n",
       "      <td>is_display_sku</td>\n",
       "      <td>488</td>\n",
       "    </tr>\n",
       "    <tr>\n",
       "      <th>4</th>\n",
       "      <td>relative_diff_total</td>\n",
       "      <td>3</td>\n",
       "    </tr>\n",
       "  </tbody>\n",
       "</table>\n",
       "</div>"
      ],
      "text/plain": [
       "                feature  importance\n",
       "9              store_id        4523\n",
       "0            base_price        2765\n",
       "1           total_price        2674\n",
       "10               sku_id        1823\n",
       "2                  diff        1556\n",
       "3    relative_diff_base        1331\n",
       "7         store_encoded        1182\n",
       "8           sku_encoded         780\n",
       "5       is_featured_sku         515\n",
       "6        is_display_sku         488\n",
       "4   relative_diff_total           3"
      ]
     },
     "execution_count": 45,
     "metadata": {},
     "output_type": "execute_result"
    }
   ],
   "source": [
    "a =model.feature_importance(importance_type='split')\n",
    "feature = pd.DataFrame(model.feature_name(), columns = ['feature'])\n",
    "feature['importance'] = a\n",
    "feature = feature.sort_values(by = ['importance'], ascending = False)\n",
    "feature.head(11)"
   ]
  },
  {
   "cell_type": "markdown",
   "execution_count": null,
   "metadata": {},
   "source": [
    "Without using any date and time features, we have scored `419.7016` on LB which is a huge improvement.\n",
    "Let's see if we can extract any useful information from the `week` feature.\n",
    "We will try to build numeric features based on the week's start as well as end date. <br>\n",
    "I'll also be using 5-fold CV to strengthen the predictions later."
   ]
  },
  {
   "cell_type": "markdown",
   "execution_count": null,
   "metadata": {},
   "source": [
    "# Extracting datetime features"
   ]
  },
  {
   "cell_type": "code",
   "execution_count": 46,
   "metadata": {},
   "outputs": [],
   "source": [
    "from datetime import datetime\n",
    "train['week'] = train['week'].astype('str')\n",
    "train['week'] = [datetime.strptime(x, '%d/%m/%y') for x in train['week']]"
   ]
  },
  {
   "cell_type": "code",
   "execution_count": 47,
   "metadata": {},
   "outputs": [
    {
     "data": {
      "text/html": [
       "<div>\n",
       "<style scoped>\n",
       "    .dataframe tbody tr th:only-of-type {\n",
       "        vertical-align: middle;\n",
       "    }\n",
       "\n",
       "    .dataframe tbody tr th {\n",
       "        vertical-align: top;\n",
       "    }\n",
       "\n",
       "    .dataframe thead th {\n",
       "        text-align: right;\n",
       "    }\n",
       "</style>\n",
       "<table border=\"1\" class=\"dataframe\">\n",
       "  <thead>\n",
       "    <tr style=\"text-align: right;\">\n",
       "      <th></th>\n",
       "      <th>record_ID</th>\n",
       "      <th>week</th>\n",
       "      <th>store_id</th>\n",
       "      <th>sku_id</th>\n",
       "      <th>total_price</th>\n",
       "      <th>base_price</th>\n",
       "      <th>is_featured_sku</th>\n",
       "      <th>is_display_sku</th>\n",
       "      <th>units_sold</th>\n",
       "      <th>store_sku</th>\n",
       "      <th>diff</th>\n",
       "      <th>relative_diff_base</th>\n",
       "      <th>relative_diff_total</th>\n",
       "      <th>store_encoded</th>\n",
       "      <th>sku_encoded</th>\n",
       "    </tr>\n",
       "  </thead>\n",
       "  <tbody>\n",
       "    <tr>\n",
       "      <th>0</th>\n",
       "      <td>1</td>\n",
       "      <td>2011-01-17</td>\n",
       "      <td>8091</td>\n",
       "      <td>216418</td>\n",
       "      <td>99.0375</td>\n",
       "      <td>111.8625</td>\n",
       "      <td>0</td>\n",
       "      <td>0</td>\n",
       "      <td>20</td>\n",
       "      <td>8091_216418</td>\n",
       "      <td>12.825</td>\n",
       "      <td>0.11465</td>\n",
       "      <td>0.129496</td>\n",
       "      <td>8091</td>\n",
       "      <td>216418</td>\n",
       "    </tr>\n",
       "    <tr>\n",
       "      <th>1</th>\n",
       "      <td>2</td>\n",
       "      <td>2011-01-17</td>\n",
       "      <td>8091</td>\n",
       "      <td>216419</td>\n",
       "      <td>99.0375</td>\n",
       "      <td>99.0375</td>\n",
       "      <td>0</td>\n",
       "      <td>0</td>\n",
       "      <td>28</td>\n",
       "      <td>8091_216419</td>\n",
       "      <td>0.000</td>\n",
       "      <td>0.00000</td>\n",
       "      <td>0.000000</td>\n",
       "      <td>8091</td>\n",
       "      <td>216419</td>\n",
       "    </tr>\n",
       "    <tr>\n",
       "      <th>2</th>\n",
       "      <td>3</td>\n",
       "      <td>2011-01-17</td>\n",
       "      <td>8091</td>\n",
       "      <td>216425</td>\n",
       "      <td>133.9500</td>\n",
       "      <td>133.9500</td>\n",
       "      <td>0</td>\n",
       "      <td>0</td>\n",
       "      <td>19</td>\n",
       "      <td>8091_216425</td>\n",
       "      <td>0.000</td>\n",
       "      <td>0.00000</td>\n",
       "      <td>0.000000</td>\n",
       "      <td>8091</td>\n",
       "      <td>216425</td>\n",
       "    </tr>\n",
       "    <tr>\n",
       "      <th>3</th>\n",
       "      <td>4</td>\n",
       "      <td>2011-01-17</td>\n",
       "      <td>8091</td>\n",
       "      <td>216233</td>\n",
       "      <td>133.9500</td>\n",
       "      <td>133.9500</td>\n",
       "      <td>0</td>\n",
       "      <td>0</td>\n",
       "      <td>44</td>\n",
       "      <td>8091_216233</td>\n",
       "      <td>0.000</td>\n",
       "      <td>0.00000</td>\n",
       "      <td>0.000000</td>\n",
       "      <td>8091</td>\n",
       "      <td>216233</td>\n",
       "    </tr>\n",
       "    <tr>\n",
       "      <th>4</th>\n",
       "      <td>5</td>\n",
       "      <td>2011-01-17</td>\n",
       "      <td>8091</td>\n",
       "      <td>217390</td>\n",
       "      <td>141.0750</td>\n",
       "      <td>141.0750</td>\n",
       "      <td>0</td>\n",
       "      <td>0</td>\n",
       "      <td>52</td>\n",
       "      <td>8091_217390</td>\n",
       "      <td>0.000</td>\n",
       "      <td>0.00000</td>\n",
       "      <td>0.000000</td>\n",
       "      <td>8091</td>\n",
       "      <td>217390</td>\n",
       "    </tr>\n",
       "  </tbody>\n",
       "</table>\n",
       "</div>"
      ],
      "text/plain": [
       "   record_ID       week  store_id  sku_id  total_price  base_price  \\\n",
       "0          1 2011-01-17      8091  216418      99.0375    111.8625   \n",
       "1          2 2011-01-17      8091  216419      99.0375     99.0375   \n",
       "2          3 2011-01-17      8091  216425     133.9500    133.9500   \n",
       "3          4 2011-01-17      8091  216233     133.9500    133.9500   \n",
       "4          5 2011-01-17      8091  217390     141.0750    141.0750   \n",
       "\n",
       "   is_featured_sku  is_display_sku  units_sold    store_sku    diff  \\\n",
       "0                0               0          20  8091_216418  12.825   \n",
       "1                0               0          28  8091_216419   0.000   \n",
       "2                0               0          19  8091_216425   0.000   \n",
       "3                0               0          44  8091_216233   0.000   \n",
       "4                0               0          52  8091_217390   0.000   \n",
       "\n",
       "   relative_diff_base  relative_diff_total  store_encoded  sku_encoded  \n",
       "0             0.11465             0.129496           8091       216418  \n",
       "1             0.00000             0.000000           8091       216419  \n",
       "2             0.00000             0.000000           8091       216425  \n",
       "3             0.00000             0.000000           8091       216233  \n",
       "4             0.00000             0.000000           8091       217390  "
      ]
     },
     "execution_count": 47,
     "metadata": {},
     "output_type": "execute_result"
    }
   ],
   "source": [
    "train.head()"
   ]
  },
  {
   "cell_type": "code",
   "execution_count": 48,
   "metadata": {},
   "outputs": [],
   "source": [
    "test['week'] = test['week'].astype('str')\n",
    "test['week'] = [datetime.strptime(x, '%d/%m/%y') for x in test['week']]"
   ]
  },
  {
   "cell_type": "code",
   "execution_count": 49,
   "metadata": {},
   "outputs": [],
   "source": [
    "import datetime\n",
    "train['weekend_date'] = [x + datetime.timedelta(days=6) for x in train['week']]\n",
    "test['weekend_date'] = [x + datetime.timedelta(days=6) for x in test['week']]"
   ]
  },
  {
   "cell_type": "code",
   "execution_count": 50,
   "metadata": {},
   "outputs": [],
   "source": [
    "current_cols = list(train.columns)"
   ]
  },
  {
   "cell_type": "code",
   "execution_count": 51,
   "metadata": {},
   "outputs": [],
   "source": [
    "import datetime \n",
    "def extract_time_features(df):\n",
    "    \n",
    "    start_date = datetime.datetime(2011,1, 17)\n",
    "    \n",
    "    print('starting basic feature extraction for week start date!')\n",
    "\n",
    "    df['year'] = df['week'].dt.year\n",
    "    df['date'] = [x.day for x in df['week']]\n",
    "    df['month'] = df['week'].dt.month\n",
    "    df['weekday'] = df['week'].dt.dayofweek\n",
    "    df['weeknum'] = df['week'].dt.weekofyear\n",
    "    \n",
    "    df['week_serial']  = [divmod((x-start_date).total_seconds(), 86400)[0]/7 for x in df['week']]\n",
    "    \n",
    "\n",
    "    '''\n",
    "    print('starting month end related feature extraction for week start date!')\n",
    "\n",
    "    df['quarter'] = [x.quarter for x in df['week']]\n",
    "    df['is_month_start'] = [x.is_month_start for x in df['week']]\n",
    "    df['is_month_end'] = [x.is_month_end for x in df['week']]\n",
    "    df['is_month_start'] = df['is_month_start'].astype(int)\n",
    "    df['is_month_end'] = df['is_month_end'].astype(int)\n",
    "    \n",
    "    df['start_week']= df.assign(start_week=pd.cut(df.date,[0,9,15,23,31],labels=[1,2,3,4]))['start_week']\n",
    "    df['start_week'] = df['start_week'].astype(int)\n",
    "    '''\n",
    "\n",
    "    print('Starting basic feature extraction for week end date!')\n",
    "    \n",
    "    df['end_year'] = df['weekend_date'].dt.year\n",
    "    df['end_date'] = [x.day for x in df['weekend_date']]\n",
    "    df['end_month'] = df['weekend_date'].dt.month\n",
    "    df['end_weekday'] = df['weekend_date'].dt.dayofweek\n",
    "    df['end_weeknum'] = df['weekend_date'].dt.weekofyear\n",
    "    df['end_week_serial']  = [divmod((x-start_date).total_seconds(), 86400)[0]/7 for x in df['weekend_date']]\n",
    "\n",
    "    '''\n",
    "    print('starting month end related feature extraction for week start date!')\n",
    "\n",
    "    df['end_quarter'] = [x.quarter for x in df['weekend_date']]\n",
    "    df['end_is_month_start'] = [x.is_month_start for x in df['weekend_date']]\n",
    "    df['end_is_month_end'] = [x.is_month_end for x in df['weekend_date']]\n",
    "    df['end_is_month_start'] = df['end_is_month_start'].astype(int)\n",
    "    df['end_is_month_end'] = df['end_is_month_end'].astype(int)\n",
    "    \n",
    "    df['end_week'] = df.assign(end_week=pd.cut(df.end_date,[0,9,15,23,31],labels=[1,2,3,4]))['end_week']\n",
    "    df['end_week'] = df['end_week'].astype(int)\n",
    "    '''\n",
    "    return df"
   ]
  },
  {
   "cell_type": "code",
   "execution_count": 52,
   "metadata": {},
   "outputs": [
    {
     "name": "stdout",
     "output_type": "stream",
     "text": [
      "starting basic feature extraction for week start date!\n",
      "Starting basic feature extraction for week end date!\n"
     ]
    },
    {
     "data": {
      "text/html": [
       "<div>\n",
       "<style scoped>\n",
       "    .dataframe tbody tr th:only-of-type {\n",
       "        vertical-align: middle;\n",
       "    }\n",
       "\n",
       "    .dataframe tbody tr th {\n",
       "        vertical-align: top;\n",
       "    }\n",
       "\n",
       "    .dataframe thead th {\n",
       "        text-align: right;\n",
       "    }\n",
       "</style>\n",
       "<table border=\"1\" class=\"dataframe\">\n",
       "  <thead>\n",
       "    <tr style=\"text-align: right;\">\n",
       "      <th></th>\n",
       "      <th>record_ID</th>\n",
       "      <th>week</th>\n",
       "      <th>store_id</th>\n",
       "      <th>sku_id</th>\n",
       "      <th>total_price</th>\n",
       "      <th>base_price</th>\n",
       "      <th>is_featured_sku</th>\n",
       "      <th>is_display_sku</th>\n",
       "      <th>units_sold</th>\n",
       "      <th>store_sku</th>\n",
       "      <th>...</th>\n",
       "      <th>month</th>\n",
       "      <th>weekday</th>\n",
       "      <th>weeknum</th>\n",
       "      <th>week_serial</th>\n",
       "      <th>end_year</th>\n",
       "      <th>end_date</th>\n",
       "      <th>end_month</th>\n",
       "      <th>end_weekday</th>\n",
       "      <th>end_weeknum</th>\n",
       "      <th>end_week_serial</th>\n",
       "    </tr>\n",
       "  </thead>\n",
       "  <tbody>\n",
       "    <tr>\n",
       "      <th>150145</th>\n",
       "      <td>212638</td>\n",
       "      <td>2013-07-09</td>\n",
       "      <td>9984</td>\n",
       "      <td>223245</td>\n",
       "      <td>235.8375</td>\n",
       "      <td>235.8375</td>\n",
       "      <td>0</td>\n",
       "      <td>0</td>\n",
       "      <td>38</td>\n",
       "      <td>9984_223245</td>\n",
       "      <td>...</td>\n",
       "      <td>7</td>\n",
       "      <td>1</td>\n",
       "      <td>28</td>\n",
       "      <td>129.142857</td>\n",
       "      <td>2013</td>\n",
       "      <td>15</td>\n",
       "      <td>7</td>\n",
       "      <td>0</td>\n",
       "      <td>29</td>\n",
       "      <td>130.0</td>\n",
       "    </tr>\n",
       "    <tr>\n",
       "      <th>150146</th>\n",
       "      <td>212639</td>\n",
       "      <td>2013-07-09</td>\n",
       "      <td>9984</td>\n",
       "      <td>223153</td>\n",
       "      <td>235.8375</td>\n",
       "      <td>235.8375</td>\n",
       "      <td>0</td>\n",
       "      <td>0</td>\n",
       "      <td>30</td>\n",
       "      <td>9984_223153</td>\n",
       "      <td>...</td>\n",
       "      <td>7</td>\n",
       "      <td>1</td>\n",
       "      <td>28</td>\n",
       "      <td>129.142857</td>\n",
       "      <td>2013</td>\n",
       "      <td>15</td>\n",
       "      <td>7</td>\n",
       "      <td>0</td>\n",
       "      <td>29</td>\n",
       "      <td>130.0</td>\n",
       "    </tr>\n",
       "    <tr>\n",
       "      <th>150147</th>\n",
       "      <td>212642</td>\n",
       "      <td>2013-07-09</td>\n",
       "      <td>9984</td>\n",
       "      <td>245338</td>\n",
       "      <td>357.6750</td>\n",
       "      <td>483.7875</td>\n",
       "      <td>1</td>\n",
       "      <td>1</td>\n",
       "      <td>31</td>\n",
       "      <td>9984_245338</td>\n",
       "      <td>...</td>\n",
       "      <td>7</td>\n",
       "      <td>1</td>\n",
       "      <td>28</td>\n",
       "      <td>129.142857</td>\n",
       "      <td>2013</td>\n",
       "      <td>15</td>\n",
       "      <td>7</td>\n",
       "      <td>0</td>\n",
       "      <td>29</td>\n",
       "      <td>130.0</td>\n",
       "    </tr>\n",
       "    <tr>\n",
       "      <th>150148</th>\n",
       "      <td>212643</td>\n",
       "      <td>2013-07-09</td>\n",
       "      <td>9984</td>\n",
       "      <td>547934</td>\n",
       "      <td>141.7875</td>\n",
       "      <td>191.6625</td>\n",
       "      <td>0</td>\n",
       "      <td>1</td>\n",
       "      <td>12</td>\n",
       "      <td>9984_547934</td>\n",
       "      <td>...</td>\n",
       "      <td>7</td>\n",
       "      <td>1</td>\n",
       "      <td>28</td>\n",
       "      <td>129.142857</td>\n",
       "      <td>2013</td>\n",
       "      <td>15</td>\n",
       "      <td>7</td>\n",
       "      <td>0</td>\n",
       "      <td>29</td>\n",
       "      <td>130.0</td>\n",
       "    </tr>\n",
       "    <tr>\n",
       "      <th>150149</th>\n",
       "      <td>212644</td>\n",
       "      <td>2013-07-09</td>\n",
       "      <td>9984</td>\n",
       "      <td>679023</td>\n",
       "      <td>234.4125</td>\n",
       "      <td>234.4125</td>\n",
       "      <td>0</td>\n",
       "      <td>0</td>\n",
       "      <td>15</td>\n",
       "      <td>9984_679023</td>\n",
       "      <td>...</td>\n",
       "      <td>7</td>\n",
       "      <td>1</td>\n",
       "      <td>28</td>\n",
       "      <td>129.142857</td>\n",
       "      <td>2013</td>\n",
       "      <td>15</td>\n",
       "      <td>7</td>\n",
       "      <td>0</td>\n",
       "      <td>29</td>\n",
       "      <td>130.0</td>\n",
       "    </tr>\n",
       "  </tbody>\n",
       "</table>\n",
       "<p>5 rows × 28 columns</p>\n",
       "</div>"
      ],
      "text/plain": [
       "        record_ID       week  store_id  sku_id  total_price  base_price  \\\n",
       "150145     212638 2013-07-09      9984  223245     235.8375    235.8375   \n",
       "150146     212639 2013-07-09      9984  223153     235.8375    235.8375   \n",
       "150147     212642 2013-07-09      9984  245338     357.6750    483.7875   \n",
       "150148     212643 2013-07-09      9984  547934     141.7875    191.6625   \n",
       "150149     212644 2013-07-09      9984  679023     234.4125    234.4125   \n",
       "\n",
       "        is_featured_sku  is_display_sku  units_sold    store_sku  ...  month  \\\n",
       "150145                0               0          38  9984_223245  ...      7   \n",
       "150146                0               0          30  9984_223153  ...      7   \n",
       "150147                1               1          31  9984_245338  ...      7   \n",
       "150148                0               1          12  9984_547934  ...      7   \n",
       "150149                0               0          15  9984_679023  ...      7   \n",
       "\n",
       "        weekday  weeknum  week_serial  end_year end_date  end_month  \\\n",
       "150145        1       28   129.142857      2013       15          7   \n",
       "150146        1       28   129.142857      2013       15          7   \n",
       "150147        1       28   129.142857      2013       15          7   \n",
       "150148        1       28   129.142857      2013       15          7   \n",
       "150149        1       28   129.142857      2013       15          7   \n",
       "\n",
       "        end_weekday  end_weeknum  end_week_serial  \n",
       "150145            0           29            130.0  \n",
       "150146            0           29            130.0  \n",
       "150147            0           29            130.0  \n",
       "150148            0           29            130.0  \n",
       "150149            0           29            130.0  \n",
       "\n",
       "[5 rows x 28 columns]"
      ]
     },
     "execution_count": 52,
     "metadata": {},
     "output_type": "execute_result"
    }
   ],
   "source": [
    "train = extract_time_features(train)\n",
    "train.tail()"
   ]
  },
  {
   "cell_type": "code",
   "execution_count": 53,
   "metadata": {},
   "outputs": [
    {
     "name": "stdout",
     "output_type": "stream",
     "text": [
      "<class 'pandas.core.frame.DataFrame'>\n",
      "RangeIndex: 150150 entries, 0 to 150149\n",
      "Data columns (total 28 columns):\n",
      " #   Column               Non-Null Count   Dtype         \n",
      "---  ------               --------------   -----         \n",
      " 0   record_ID            150150 non-null  int64         \n",
      " 1   week                 150150 non-null  datetime64[ns]\n",
      " 2   store_id             150150 non-null  int64         \n",
      " 3   sku_id               150150 non-null  int64         \n",
      " 4   total_price          150150 non-null  float64       \n",
      " 5   base_price           150150 non-null  float64       \n",
      " 6   is_featured_sku      150150 non-null  int64         \n",
      " 7   is_display_sku       150150 non-null  int64         \n",
      " 8   units_sold           150150 non-null  int64         \n",
      " 9   store_sku            150150 non-null  object        \n",
      " 10  diff                 150150 non-null  float64       \n",
      " 11  relative_diff_base   150150 non-null  float64       \n",
      " 12  relative_diff_total  150150 non-null  float64       \n",
      " 13  store_encoded        150150 non-null  int64         \n",
      " 14  sku_encoded          150150 non-null  int64         \n",
      " 15  weekend_date         150150 non-null  datetime64[ns]\n",
      " 16  year                 150150 non-null  int64         \n",
      " 17  date                 150150 non-null  int64         \n",
      " 18  month                150150 non-null  int64         \n",
      " 19  weekday              150150 non-null  int64         \n",
      " 20  weeknum              150150 non-null  int64         \n",
      " 21  week_serial          150150 non-null  float64       \n",
      " 22  end_year             150150 non-null  int64         \n",
      " 23  end_date             150150 non-null  int64         \n",
      " 24  end_month            150150 non-null  int64         \n",
      " 25  end_weekday          150150 non-null  int64         \n",
      " 26  end_weeknum          150150 non-null  int64         \n",
      " 27  end_week_serial      150150 non-null  float64       \n",
      "dtypes: datetime64[ns](2), float64(7), int64(18), object(1)\n",
      "memory usage: 32.1+ MB\n"
     ]
    }
   ],
   "source": [
    "train.info()"
   ]
  },
  {
   "cell_type": "code",
   "execution_count": 54,
   "metadata": {},
   "outputs": [
    {
     "name": "stdout",
     "output_type": "stream",
     "text": [
      "starting basic feature extraction for week start date!\n",
      "Starting basic feature extraction for week end date!\n"
     ]
    },
    {
     "data": {
      "text/html": [
       "<div>\n",
       "<style scoped>\n",
       "    .dataframe tbody tr th:only-of-type {\n",
       "        vertical-align: middle;\n",
       "    }\n",
       "\n",
       "    .dataframe tbody tr th {\n",
       "        vertical-align: top;\n",
       "    }\n",
       "\n",
       "    .dataframe thead th {\n",
       "        text-align: right;\n",
       "    }\n",
       "</style>\n",
       "<table border=\"1\" class=\"dataframe\">\n",
       "  <thead>\n",
       "    <tr style=\"text-align: right;\">\n",
       "      <th></th>\n",
       "      <th>record_ID</th>\n",
       "      <th>week</th>\n",
       "      <th>store_id</th>\n",
       "      <th>sku_id</th>\n",
       "      <th>total_price</th>\n",
       "      <th>base_price</th>\n",
       "      <th>is_featured_sku</th>\n",
       "      <th>is_display_sku</th>\n",
       "      <th>store_sku</th>\n",
       "      <th>units_sold</th>\n",
       "      <th>...</th>\n",
       "      <th>month</th>\n",
       "      <th>weekday</th>\n",
       "      <th>weeknum</th>\n",
       "      <th>week_serial</th>\n",
       "      <th>end_year</th>\n",
       "      <th>end_date</th>\n",
       "      <th>end_month</th>\n",
       "      <th>end_weekday</th>\n",
       "      <th>end_weeknum</th>\n",
       "      <th>end_week_serial</th>\n",
       "    </tr>\n",
       "  </thead>\n",
       "  <tbody>\n",
       "    <tr>\n",
       "      <th>13855</th>\n",
       "      <td>232281</td>\n",
       "      <td>2013-10-01</td>\n",
       "      <td>9984</td>\n",
       "      <td>223245</td>\n",
       "      <td>241.5375</td>\n",
       "      <td>241.5375</td>\n",
       "      <td>0</td>\n",
       "      <td>0</td>\n",
       "      <td>9984_223245</td>\n",
       "      <td>-1</td>\n",
       "      <td>...</td>\n",
       "      <td>10</td>\n",
       "      <td>1</td>\n",
       "      <td>40</td>\n",
       "      <td>141.142857</td>\n",
       "      <td>2013</td>\n",
       "      <td>7</td>\n",
       "      <td>10</td>\n",
       "      <td>0</td>\n",
       "      <td>41</td>\n",
       "      <td>142.0</td>\n",
       "    </tr>\n",
       "    <tr>\n",
       "      <th>13856</th>\n",
       "      <td>232282</td>\n",
       "      <td>2013-10-01</td>\n",
       "      <td>9984</td>\n",
       "      <td>223153</td>\n",
       "      <td>240.8250</td>\n",
       "      <td>240.8250</td>\n",
       "      <td>0</td>\n",
       "      <td>0</td>\n",
       "      <td>9984_223153</td>\n",
       "      <td>-1</td>\n",
       "      <td>...</td>\n",
       "      <td>10</td>\n",
       "      <td>1</td>\n",
       "      <td>40</td>\n",
       "      <td>141.142857</td>\n",
       "      <td>2013</td>\n",
       "      <td>7</td>\n",
       "      <td>10</td>\n",
       "      <td>0</td>\n",
       "      <td>41</td>\n",
       "      <td>142.0</td>\n",
       "    </tr>\n",
       "    <tr>\n",
       "      <th>13857</th>\n",
       "      <td>232285</td>\n",
       "      <td>2013-10-01</td>\n",
       "      <td>9984</td>\n",
       "      <td>245338</td>\n",
       "      <td>382.6125</td>\n",
       "      <td>401.8500</td>\n",
       "      <td>1</td>\n",
       "      <td>1</td>\n",
       "      <td>9984_245338</td>\n",
       "      <td>-1</td>\n",
       "      <td>...</td>\n",
       "      <td>10</td>\n",
       "      <td>1</td>\n",
       "      <td>40</td>\n",
       "      <td>141.142857</td>\n",
       "      <td>2013</td>\n",
       "      <td>7</td>\n",
       "      <td>10</td>\n",
       "      <td>0</td>\n",
       "      <td>41</td>\n",
       "      <td>142.0</td>\n",
       "    </tr>\n",
       "    <tr>\n",
       "      <th>13858</th>\n",
       "      <td>232286</td>\n",
       "      <td>2013-10-01</td>\n",
       "      <td>9984</td>\n",
       "      <td>547934</td>\n",
       "      <td>191.6625</td>\n",
       "      <td>191.6625</td>\n",
       "      <td>0</td>\n",
       "      <td>0</td>\n",
       "      <td>9984_547934</td>\n",
       "      <td>-1</td>\n",
       "      <td>...</td>\n",
       "      <td>10</td>\n",
       "      <td>1</td>\n",
       "      <td>40</td>\n",
       "      <td>141.142857</td>\n",
       "      <td>2013</td>\n",
       "      <td>7</td>\n",
       "      <td>10</td>\n",
       "      <td>0</td>\n",
       "      <td>41</td>\n",
       "      <td>142.0</td>\n",
       "    </tr>\n",
       "    <tr>\n",
       "      <th>13859</th>\n",
       "      <td>232287</td>\n",
       "      <td>2013-10-01</td>\n",
       "      <td>9984</td>\n",
       "      <td>679023</td>\n",
       "      <td>234.4125</td>\n",
       "      <td>234.4125</td>\n",
       "      <td>0</td>\n",
       "      <td>0</td>\n",
       "      <td>9984_679023</td>\n",
       "      <td>-1</td>\n",
       "      <td>...</td>\n",
       "      <td>10</td>\n",
       "      <td>1</td>\n",
       "      <td>40</td>\n",
       "      <td>141.142857</td>\n",
       "      <td>2013</td>\n",
       "      <td>7</td>\n",
       "      <td>10</td>\n",
       "      <td>0</td>\n",
       "      <td>41</td>\n",
       "      <td>142.0</td>\n",
       "    </tr>\n",
       "  </tbody>\n",
       "</table>\n",
       "<p>5 rows × 28 columns</p>\n",
       "</div>"
      ],
      "text/plain": [
       "       record_ID       week  store_id  sku_id  total_price  base_price  \\\n",
       "13855     232281 2013-10-01      9984  223245     241.5375    241.5375   \n",
       "13856     232282 2013-10-01      9984  223153     240.8250    240.8250   \n",
       "13857     232285 2013-10-01      9984  245338     382.6125    401.8500   \n",
       "13858     232286 2013-10-01      9984  547934     191.6625    191.6625   \n",
       "13859     232287 2013-10-01      9984  679023     234.4125    234.4125   \n",
       "\n",
       "       is_featured_sku  is_display_sku    store_sku  units_sold  ...  month  \\\n",
       "13855                0               0  9984_223245          -1  ...     10   \n",
       "13856                0               0  9984_223153          -1  ...     10   \n",
       "13857                1               1  9984_245338          -1  ...     10   \n",
       "13858                0               0  9984_547934          -1  ...     10   \n",
       "13859                0               0  9984_679023          -1  ...     10   \n",
       "\n",
       "       weekday  weeknum  week_serial  end_year end_date  end_month  \\\n",
       "13855        1       40   141.142857      2013        7         10   \n",
       "13856        1       40   141.142857      2013        7         10   \n",
       "13857        1       40   141.142857      2013        7         10   \n",
       "13858        1       40   141.142857      2013        7         10   \n",
       "13859        1       40   141.142857      2013        7         10   \n",
       "\n",
       "       end_weekday  end_weeknum  end_week_serial  \n",
       "13855            0           41            142.0  \n",
       "13856            0           41            142.0  \n",
       "13857            0           41            142.0  \n",
       "13858            0           41            142.0  \n",
       "13859            0           41            142.0  \n",
       "\n",
       "[5 rows x 28 columns]"
      ]
     },
     "execution_count": 54,
     "metadata": {},
     "output_type": "execute_result"
    }
   ],
   "source": [
    "test = extract_time_features(test)\n",
    "test.tail()"
   ]
  },
  {
   "cell_type": "code",
   "execution_count": 55,
   "metadata": {},
   "outputs": [
    {
     "data": {
      "text/plain": [
       "['date',\n",
       " 'end_week_serial',\n",
       " 'month',\n",
       " 'week_serial',\n",
       " 'year',\n",
       " 'weekday',\n",
       " 'weeknum',\n",
       " 'end_weekday',\n",
       " 'end_month',\n",
       " 'end_weeknum',\n",
       " 'end_date',\n",
       " 'end_year']"
      ]
     },
     "execution_count": 55,
     "metadata": {},
     "output_type": "execute_result"
    }
   ],
   "source": [
    "def Diff(li1, li2): \n",
    "    return list(set(li1) - set(li2))\n",
    "\n",
    "total_cols = list(test.columns)\n",
    "new_feat = Diff(total_cols, current_cols)\n",
    "new_feat"
   ]
  },
  {
   "cell_type": "code",
   "execution_count": 56,
   "metadata": {},
   "outputs": [
    {
     "name": "stdout",
     "output_type": "stream",
     "text": [
      "<class 'pandas.core.frame.DataFrame'>\n",
      "RangeIndex: 150150 entries, 0 to 150149\n",
      "Data columns (total 12 columns):\n",
      " #   Column           Non-Null Count   Dtype  \n",
      "---  ------           --------------   -----  \n",
      " 0   date             150150 non-null  int64  \n",
      " 1   end_week_serial  150150 non-null  float64\n",
      " 2   month            150150 non-null  int64  \n",
      " 3   week_serial      150150 non-null  float64\n",
      " 4   year             150150 non-null  int64  \n",
      " 5   weekday          150150 non-null  int64  \n",
      " 6   weeknum          150150 non-null  int64  \n",
      " 7   end_weekday      150150 non-null  int64  \n",
      " 8   end_month        150150 non-null  int64  \n",
      " 9   end_weeknum      150150 non-null  int64  \n",
      " 10  end_date         150150 non-null  int64  \n",
      " 11  end_year         150150 non-null  int64  \n",
      "dtypes: float64(2), int64(10)\n",
      "memory usage: 13.7 MB\n"
     ]
    }
   ],
   "source": [
    "train[new_feat].info()"
   ]
  },
  {
   "cell_type": "markdown",
   "execution_count": null,
   "metadata": {},
   "source": [
    "## Training LGB Model with all the date/time features created"
   ]
  },
  {
   "cell_type": "code",
   "execution_count": 57,
   "metadata": {},
   "outputs": [
    {
     "name": "stdout",
     "output_type": "stream",
     "text": [
      "The number of features used before: 11\n",
      "The number of categorical features used before: 4\n"
     ]
    }
   ],
   "source": [
    "print(f'The number of features used before: {len(cols_to_use)}')\n",
    "print(f'The number of categorical features used before: {len(cat_cols)}')"
   ]
  },
  {
   "cell_type": "code",
   "execution_count": 58,
   "metadata": {},
   "outputs": [
    {
     "name": "stdout",
     "output_type": "stream",
     "text": [
      "The number of features to be used now: 23\n",
      "The number of categorical features to be used now: 4\n"
     ]
    }
   ],
   "source": [
    "cols_to_use += new_feat\n",
    "#cat_cols += new_feat\n",
    "\n",
    "print(f'The number of features to be used now: {len(cols_to_use)}')\n",
    "print(f'The number of categorical features to be used now: {len(cat_cols)}')"
   ]
  },
  {
   "cell_type": "code",
   "execution_count": 59,
   "metadata": {},
   "outputs": [
    {
     "data": {
      "text/plain": [
       "['base_price',\n",
       " 'total_price',\n",
       " 'diff',\n",
       " 'relative_diff_base',\n",
       " 'relative_diff_total',\n",
       " 'is_featured_sku',\n",
       " 'is_display_sku',\n",
       " 'store_encoded',\n",
       " 'sku_encoded',\n",
       " 'store_id',\n",
       " 'sku_id',\n",
       " 'date',\n",
       " 'end_week_serial',\n",
       " 'month',\n",
       " 'week_serial',\n",
       " 'year',\n",
       " 'weekday',\n",
       " 'weeknum',\n",
       " 'end_weekday',\n",
       " 'end_month',\n",
       " 'end_weeknum',\n",
       " 'end_date',\n",
       " 'end_year']"
      ]
     },
     "execution_count": 59,
     "metadata": {},
     "output_type": "execute_result"
    }
   ],
   "source": [
    "cols_to_use"
   ]
  },
  {
   "cell_type": "code",
   "execution_count": 60,
   "metadata": {},
   "outputs": [],
   "source": [
    "Xtest = test[cols_to_use]"
   ]
  },
  {
   "cell_type": "code",
   "execution_count": 61,
   "metadata": {},
   "outputs": [
    {
     "name": "stdout",
     "output_type": "stream",
     "text": [
      "(120120, 23) (120120,) (30030, 23) (30030,)\n"
     ]
    }
   ],
   "source": [
    "X = train[cols_to_use]\n",
    "y = np.log1p(train['units_sold']) # Transforming target into normal via logarithmic operation\n",
    "\n",
    "Xtrain, Xval, ytrain, yval = train_test_split(X, y, test_size = 0.2, random_state = 1)\n",
    "print(Xtrain.shape, ytrain.shape, Xval.shape, yval.shape)"
   ]
  },
  {
   "cell_type": "code",
   "execution_count": 62,
   "metadata": {},
   "outputs": [
    {
     "name": "stderr",
     "output_type": "stream",
     "text": [
      "/opt/conda/lib/python3.7/site-packages/lightgbm/basic.py:1291: UserWarning: Using categorical_feature in Dataset.\n",
      "  warnings.warn('Using categorical_feature in Dataset.')\n"
     ]
    },
    {
     "name": "stdout",
     "output_type": "stream",
     "text": [
      "Training until validation scores don't improve for 10 rounds\n",
      "[800]\ttraining's l1: 0.211339\tvalid_1's l1: 0.244047\n",
      "Did not meet early stopping. Best iteration is:\n",
      "[800]\ttraining's l1: 0.211339\tvalid_1's l1: 0.244047\n"
     ]
    }
   ],
   "source": [
    "pred_val, err, pred_test,model = runLGB(Xtrain, ytrain, Xval, yval, cat_cols, Xtest)"
   ]
  },
  {
   "cell_type": "code",
   "execution_count": 63,
   "metadata": {},
   "outputs": [],
   "source": [
    "submit['units_sold'] = pred_test\n",
    "submit.to_csv('lgb_time_store_sku_v4.csv', index = False)"
   ]
  },
  {
   "cell_type": "markdown",
   "execution_count": null,
   "metadata": {},
   "source": [
    "- Public LB score: 377.3146\n",
    "- Private LB score: "
   ]
  },
  {
   "cell_type": "code",
   "execution_count": 64,
   "metadata": {},
   "outputs": [
    {
     "data": {
      "text/html": [
       "<div>\n",
       "<style scoped>\n",
       "    .dataframe tbody tr th:only-of-type {\n",
       "        vertical-align: middle;\n",
       "    }\n",
       "\n",
       "    .dataframe tbody tr th {\n",
       "        vertical-align: top;\n",
       "    }\n",
       "\n",
       "    .dataframe thead th {\n",
       "        text-align: right;\n",
       "    }\n",
       "</style>\n",
       "<table border=\"1\" class=\"dataframe\">\n",
       "  <thead>\n",
       "    <tr style=\"text-align: right;\">\n",
       "      <th></th>\n",
       "      <th>feature</th>\n",
       "      <th>importance</th>\n",
       "    </tr>\n",
       "  </thead>\n",
       "  <tbody>\n",
       "    <tr>\n",
       "      <th>9</th>\n",
       "      <td>store_id</td>\n",
       "      <td>6386</td>\n",
       "    </tr>\n",
       "    <tr>\n",
       "      <th>10</th>\n",
       "      <td>sku_id</td>\n",
       "      <td>3349</td>\n",
       "    </tr>\n",
       "    <tr>\n",
       "      <th>12</th>\n",
       "      <td>end_week_serial</td>\n",
       "      <td>2947</td>\n",
       "    </tr>\n",
       "    <tr>\n",
       "      <th>1</th>\n",
       "      <td>total_price</td>\n",
       "      <td>1841</td>\n",
       "    </tr>\n",
       "    <tr>\n",
       "      <th>0</th>\n",
       "      <td>base_price</td>\n",
       "      <td>1562</td>\n",
       "    </tr>\n",
       "    <tr>\n",
       "      <th>11</th>\n",
       "      <td>date</td>\n",
       "      <td>1353</td>\n",
       "    </tr>\n",
       "    <tr>\n",
       "      <th>2</th>\n",
       "      <td>diff</td>\n",
       "      <td>875</td>\n",
       "    </tr>\n",
       "    <tr>\n",
       "      <th>21</th>\n",
       "      <td>end_date</td>\n",
       "      <td>839</td>\n",
       "    </tr>\n",
       "    <tr>\n",
       "      <th>20</th>\n",
       "      <td>end_weeknum</td>\n",
       "      <td>772</td>\n",
       "    </tr>\n",
       "    <tr>\n",
       "      <th>17</th>\n",
       "      <td>weeknum</td>\n",
       "      <td>770</td>\n",
       "    </tr>\n",
       "    <tr>\n",
       "      <th>8</th>\n",
       "      <td>sku_encoded</td>\n",
       "      <td>767</td>\n",
       "    </tr>\n",
       "    <tr>\n",
       "      <th>3</th>\n",
       "      <td>relative_diff_base</td>\n",
       "      <td>711</td>\n",
       "    </tr>\n",
       "    <tr>\n",
       "      <th>7</th>\n",
       "      <td>store_encoded</td>\n",
       "      <td>700</td>\n",
       "    </tr>\n",
       "    <tr>\n",
       "      <th>13</th>\n",
       "      <td>month</td>\n",
       "      <td>434</td>\n",
       "    </tr>\n",
       "    <tr>\n",
       "      <th>5</th>\n",
       "      <td>is_featured_sku</td>\n",
       "      <td>270</td>\n",
       "    </tr>\n",
       "    <tr>\n",
       "      <th>6</th>\n",
       "      <td>is_display_sku</td>\n",
       "      <td>269</td>\n",
       "    </tr>\n",
       "    <tr>\n",
       "      <th>19</th>\n",
       "      <td>end_month</td>\n",
       "      <td>152</td>\n",
       "    </tr>\n",
       "    <tr>\n",
       "      <th>4</th>\n",
       "      <td>relative_diff_total</td>\n",
       "      <td>3</td>\n",
       "    </tr>\n",
       "    <tr>\n",
       "      <th>14</th>\n",
       "      <td>week_serial</td>\n",
       "      <td>0</td>\n",
       "    </tr>\n",
       "    <tr>\n",
       "      <th>18</th>\n",
       "      <td>end_weekday</td>\n",
       "      <td>0</td>\n",
       "    </tr>\n",
       "  </tbody>\n",
       "</table>\n",
       "</div>"
      ],
      "text/plain": [
       "                feature  importance\n",
       "9              store_id        6386\n",
       "10               sku_id        3349\n",
       "12      end_week_serial        2947\n",
       "1           total_price        1841\n",
       "0            base_price        1562\n",
       "11                 date        1353\n",
       "2                  diff         875\n",
       "21             end_date         839\n",
       "20          end_weeknum         772\n",
       "17              weeknum         770\n",
       "8           sku_encoded         767\n",
       "3    relative_diff_base         711\n",
       "7         store_encoded         700\n",
       "13                month         434\n",
       "5       is_featured_sku         270\n",
       "6        is_display_sku         269\n",
       "19            end_month         152\n",
       "4   relative_diff_total           3\n",
       "14          week_serial           0\n",
       "18          end_weekday           0"
      ]
     },
     "execution_count": 64,
     "metadata": {},
     "output_type": "execute_result"
    }
   ],
   "source": [
    "a =model.feature_importance(importance_type='split')\n",
    "feature = pd.DataFrame(model.feature_name(), columns = ['feature'])\n",
    "feature['importance'] = a\n",
    "feature = feature.sort_values(by = ['importance'], ascending = False)\n",
    "feature.head(20)"
   ]
  },
  {
   "cell_type": "code",
   "execution_count": 65,
   "metadata": {},
   "outputs": [],
   "source": [
    "# making changes in the LGB model to improve the predictions (Tuning!)\n",
    "def runLGB2(Xtrain, ytrain, Xval, yval, cat_cols, Xtest = None):\n",
    "    params = {\n",
    "    'boosting_type': 'dart', #dropout aided regressive trees (DART) # improves accuracy\n",
    "    'objective': 'regression',\n",
    "    'metric': 'l1', \n",
    "    #'max_depth': 10, \n",
    "    'learning_rate': 0.5\n",
    "    ,'verbose': 1\n",
    "    }\n",
    "    \n",
    "    #regularising for overfitting with inf depth\n",
    "    params[\"min_data_in_leaf\"] = 15 \n",
    "    params[\"bagging_fraction\"] = 0.7\n",
    "    params[\"feature_fraction\"] = 0.7\n",
    "    #params[\"bagging_freq\"] = 3\n",
    "    params[\"bagging_seed\"] = 50\n",
    "\n",
    "    n_estimators = 575\n",
    "    early_stopping_rounds = 30\n",
    "\n",
    "    d_train = lgb.Dataset(Xtrain.copy(), label=np.log1p(ytrain.copy()), categorical_feature=cat_cols)\n",
    "    d_valid = lgb.Dataset(Xval.copy(), label=np.log1p(yval.copy()), categorical_feature=cat_cols)\n",
    "    watchlist = [d_train, d_valid]\n",
    "\n",
    "    model = lgb.train(params, d_train, n_estimators\n",
    "                      , valid_sets = [d_train, d_valid]\n",
    "                      , verbose_eval=125\n",
    "                      , early_stopping_rounds=early_stopping_rounds)\n",
    "\n",
    "    preds = model.predict(Xval, num_iteration=model.best_iteration)\n",
    "    err = RMSLE(yval['units_sold'], np.exp(preds))\n",
    "    \n",
    "    preds_test = np.exp(model.predict(Xtest, num_iteration=model.best_iteration))\n",
    "    return  preds, err, preds_test, model"
   ]
  },
  {
   "cell_type": "code",
   "execution_count": 66,
   "metadata": {},
   "outputs": [],
   "source": [
    "encoder.fit(train[new_feat], train['units_sold'])\n",
    "train[new_feat] = encoder.transform(train[new_feat], train['units_sold'])\n",
    "test[new_feat] = encoder.transform(test[new_feat], test['units_sold'])"
   ]
  },
  {
   "cell_type": "code",
   "execution_count": 67,
   "metadata": {},
   "outputs": [
    {
     "name": "stderr",
     "output_type": "stream",
     "text": [
      "/opt/conda/lib/python3.7/site-packages/sklearn/model_selection/_split.py:672: UserWarning: The least populated class in y has only 1 members, which is less than n_splits=10.\n",
      "  % (min_groups, self.n_splits)), UserWarning)\n",
      "/opt/conda/lib/python3.7/site-packages/lightgbm/basic.py:1291: UserWarning: Using categorical_feature in Dataset.\n",
      "  warnings.warn('Using categorical_feature in Dataset.')\n",
      "/opt/conda/lib/python3.7/site-packages/lightgbm/callback.py:188: UserWarning: Early stopping is not available in dart mode\n",
      "  warnings.warn('Early stopping is not available in dart mode')\n"
     ]
    },
    {
     "name": "stdout",
     "output_type": "stream",
     "text": [
      "[125]\ttraining's l1: 0.257508\tvalid_1's l1: 0.265041\n",
      "[250]\ttraining's l1: 0.238582\tvalid_1's l1: 0.250709\n",
      "[375]\ttraining's l1: 0.228277\tvalid_1's l1: 0.245041\n",
      "[500]\ttraining's l1: 0.219221\tvalid_1's l1: 0.241851\n",
      "Mean Error: 327.36714493890435; Split error: 327.36714493890435\n",
      "Total time in seconds for this fold: 64.15344309806824\n",
      "\n",
      "\n",
      "[125]\ttraining's l1: 0.257076\tvalid_1's l1: 0.264194\n",
      "[250]\ttraining's l1: 0.238578\tvalid_1's l1: 0.250141\n",
      "[375]\ttraining's l1: 0.228269\tvalid_1's l1: 0.244139\n",
      "[500]\ttraining's l1: 0.218912\tvalid_1's l1: 0.241\n",
      "Mean Error: 325.19316154913395; Split error: 323.0191781593635\n",
      "Total time in seconds for this fold: 56.12279677391052\n",
      "\n",
      "\n",
      "[125]\ttraining's l1: 0.257214\tvalid_1's l1: 0.266653\n",
      "[250]\ttraining's l1: 0.23843\tvalid_1's l1: 0.252723\n",
      "[375]\ttraining's l1: 0.228223\tvalid_1's l1: 0.246228\n",
      "[500]\ttraining's l1: 0.219286\tvalid_1's l1: 0.244102\n",
      "Mean Error: 326.0740426211264; Split error: 327.8358047651114\n",
      "Total time in seconds for this fold: 57.94218969345093\n",
      "\n",
      "\n",
      "[125]\ttraining's l1: 0.25744\tvalid_1's l1: 0.262053\n",
      "[250]\ttraining's l1: 0.239024\tvalid_1's l1: 0.24956\n",
      "[375]\ttraining's l1: 0.228646\tvalid_1's l1: 0.243366\n",
      "[500]\ttraining's l1: 0.219344\tvalid_1's l1: 0.239617\n",
      "Mean Error: 325.831678494471; Split error: 325.10458611450474\n",
      "Total time in seconds for this fold: 57.25736212730408\n",
      "\n",
      "\n",
      "[125]\ttraining's l1: 0.257086\tvalid_1's l1: 0.267723\n",
      "[250]\ttraining's l1: 0.238569\tvalid_1's l1: 0.253832\n",
      "[375]\ttraining's l1: 0.228156\tvalid_1's l1: 0.247636\n",
      "[500]\ttraining's l1: 0.219307\tvalid_1's l1: 0.244622\n",
      "Mean Error: 326.76829404853135; Split error: 330.51475626477253\n",
      "Total time in seconds for this fold: 58.14994549751282\n",
      "\n",
      "\n",
      "[125]\ttraining's l1: 0.258348\tvalid_1's l1: 0.266801\n",
      "[250]\ttraining's l1: 0.239208\tvalid_1's l1: 0.252335\n",
      "[375]\ttraining's l1: 0.228573\tvalid_1's l1: 0.245028\n",
      "[500]\ttraining's l1: 0.219194\tvalid_1's l1: 0.24147\n",
      "Mean Error: 327.03882367356454; Split error: 328.39147179873055\n",
      "Total time in seconds for this fold: 56.06809973716736\n",
      "\n",
      "\n",
      "[125]\ttraining's l1: 0.256946\tvalid_1's l1: 0.263659\n",
      "[250]\ttraining's l1: 0.238219\tvalid_1's l1: 0.249708\n",
      "[375]\ttraining's l1: 0.228905\tvalid_1's l1: 0.244135\n",
      "[500]\ttraining's l1: 0.219407\tvalid_1's l1: 0.240183\n",
      "Mean Error: 326.93125384504185; Split error: 326.2858348739058\n",
      "Total time in seconds for this fold: 57.57945775985718\n",
      "\n",
      "\n",
      "[125]\ttraining's l1: 0.25747\tvalid_1's l1: 0.26441\n",
      "[250]\ttraining's l1: 0.238777\tvalid_1's l1: 0.250975\n",
      "[375]\ttraining's l1: 0.228474\tvalid_1's l1: 0.24649\n",
      "[500]\ttraining's l1: 0.219168\tvalid_1's l1: 0.243164\n",
      "Mean Error: 327.4025437867705; Split error: 330.701573378871\n",
      "Total time in seconds for this fold: 56.05735754966736\n",
      "\n",
      "\n",
      "[125]\ttraining's l1: 0.257581\tvalid_1's l1: 0.265873\n",
      "[250]\ttraining's l1: 0.238843\tvalid_1's l1: 0.251305\n",
      "[375]\ttraining's l1: 0.228764\tvalid_1's l1: 0.245553\n",
      "[500]\ttraining's l1: 0.218999\tvalid_1's l1: 0.241086\n",
      "Mean Error: 327.53786236737216; Split error: 328.6204110121856\n",
      "Total time in seconds for this fold: 56.41850209236145\n",
      "\n",
      "\n",
      "[125]\ttraining's l1: 0.257183\tvalid_1's l1: 0.26525\n",
      "[250]\ttraining's l1: 0.237582\tvalid_1's l1: 0.250161\n",
      "[375]\ttraining's l1: 0.228389\tvalid_1's l1: 0.244752\n",
      "[500]\ttraining's l1: 0.219316\tvalid_1's l1: 0.241772\n",
      "Mean Error: 327.7648473695833; Split error: 329.80771238948364\n",
      "Total time in seconds for this fold: 56.45853781700134\n",
      "\n",
      "\n"
     ]
    }
   ],
   "source": [
    "import time\n",
    "\n",
    "preds_buff = 0\n",
    "err_buff = []\n",
    "\n",
    "X = train[cols_to_use]\n",
    "y = train[['units_sold']]\n",
    "\n",
    "n_splits = 10\n",
    "kf = StratifiedKFold(n_splits=n_splits, shuffle= True, random_state=22)\n",
    "\n",
    "for dev_index, val_index in kf.split(X, y):\n",
    "    start = time.time()\n",
    "    Xtrain, Xval = X.iloc[dev_index], X.iloc[val_index]\n",
    "    ytrain, yval = y.iloc[dev_index], y.iloc[val_index]    \n",
    "    \n",
    "    pred_val, err, pred_test,model = runLGB2(Xtrain, ytrain, Xval, yval, cat_cols, Xtest)\n",
    "    preds_buff += pred_test\n",
    "    err_buff.append(err)\n",
    "    print(f'Mean Error: {np.mean(err_buff)}; Split error: {err}')\n",
    "    print(f'Total time in seconds for this fold: {time.time()-start}')\n",
    "    print('\\n')\n",
    "\n",
    "preds_buff /= n_splits"
   ]
  },
  {
   "cell_type": "code",
   "execution_count": 68,
   "metadata": {},
   "outputs": [
    {
     "name": "stdout",
     "output_type": "stream",
     "text": [
      "[327.36714493890435, 323.0191781593635, 327.8358047651114, 325.10458611450474, 330.51475626477253, 328.39147179873055, 326.2858348739058, 330.701573378871, 328.6204110121856, 329.80771238948364] 327.7648473695833\n"
     ]
    }
   ],
   "source": [
    "print(err_buff, np.mean(err_buff))"
   ]
  },
  {
   "cell_type": "code",
   "execution_count": 69,
   "metadata": {},
   "outputs": [],
   "source": [
    "submit['units_sold'] = np.abs(preds_buff)\n",
    "submit.to_csv('lgb_time_10cv_v5.csv', index = False)"
   ]
  },
  {
   "cell_type": "markdown",
   "execution_count": null,
   "metadata": {},
   "source": [
    "Leaderboard scores:\n",
    "1. After adding basic time related features\n",
    "    - Public LB score: 363.6342\n",
    "    - Private LB score: ?\n",
    "2. After encoding time related features\n",
    "    - Public LB score: 365.7862\n",
    "    - Private LB score: ?\n",
    "3. After fine-tuning the hyperparameters with 10 fold CV\n",
    "    - Public LB score: 360.7086\n",
    "    - Private LB score: ?"
   ]
  },
  {
   "cell_type": "code",
   "execution_count": 70,
   "metadata": {},
   "outputs": [
    {
     "data": {
      "text/html": [
       "<div>\n",
       "<style scoped>\n",
       "    .dataframe tbody tr th:only-of-type {\n",
       "        vertical-align: middle;\n",
       "    }\n",
       "\n",
       "    .dataframe tbody tr th {\n",
       "        vertical-align: top;\n",
       "    }\n",
       "\n",
       "    .dataframe thead th {\n",
       "        text-align: right;\n",
       "    }\n",
       "</style>\n",
       "<table border=\"1\" class=\"dataframe\">\n",
       "  <thead>\n",
       "    <tr style=\"text-align: right;\">\n",
       "      <th></th>\n",
       "      <th>feature</th>\n",
       "      <th>importance</th>\n",
       "    </tr>\n",
       "  </thead>\n",
       "  <tbody>\n",
       "    <tr>\n",
       "      <th>9</th>\n",
       "      <td>store_id</td>\n",
       "      <td>4283</td>\n",
       "    </tr>\n",
       "    <tr>\n",
       "      <th>10</th>\n",
       "      <td>sku_id</td>\n",
       "      <td>2451</td>\n",
       "    </tr>\n",
       "    <tr>\n",
       "      <th>1</th>\n",
       "      <td>total_price</td>\n",
       "      <td>1576</td>\n",
       "    </tr>\n",
       "    <tr>\n",
       "      <th>12</th>\n",
       "      <td>end_week_serial</td>\n",
       "      <td>1540</td>\n",
       "    </tr>\n",
       "    <tr>\n",
       "      <th>0</th>\n",
       "      <td>base_price</td>\n",
       "      <td>1240</td>\n",
       "    </tr>\n",
       "    <tr>\n",
       "      <th>8</th>\n",
       "      <td>sku_encoded</td>\n",
       "      <td>960</td>\n",
       "    </tr>\n",
       "    <tr>\n",
       "      <th>3</th>\n",
       "      <td>relative_diff_base</td>\n",
       "      <td>603</td>\n",
       "    </tr>\n",
       "    <tr>\n",
       "      <th>11</th>\n",
       "      <td>date</td>\n",
       "      <td>592</td>\n",
       "    </tr>\n",
       "    <tr>\n",
       "      <th>17</th>\n",
       "      <td>weeknum</td>\n",
       "      <td>562</td>\n",
       "    </tr>\n",
       "    <tr>\n",
       "      <th>2</th>\n",
       "      <td>diff</td>\n",
       "      <td>517</td>\n",
       "    </tr>\n",
       "    <tr>\n",
       "      <th>7</th>\n",
       "      <td>store_encoded</td>\n",
       "      <td>454</td>\n",
       "    </tr>\n",
       "    <tr>\n",
       "      <th>14</th>\n",
       "      <td>week_serial</td>\n",
       "      <td>447</td>\n",
       "    </tr>\n",
       "    <tr>\n",
       "      <th>20</th>\n",
       "      <td>end_weeknum</td>\n",
       "      <td>419</td>\n",
       "    </tr>\n",
       "    <tr>\n",
       "      <th>21</th>\n",
       "      <td>end_date</td>\n",
       "      <td>402</td>\n",
       "    </tr>\n",
       "    <tr>\n",
       "      <th>5</th>\n",
       "      <td>is_featured_sku</td>\n",
       "      <td>349</td>\n",
       "    </tr>\n",
       "    <tr>\n",
       "      <th>6</th>\n",
       "      <td>is_display_sku</td>\n",
       "      <td>346</td>\n",
       "    </tr>\n",
       "    <tr>\n",
       "      <th>13</th>\n",
       "      <td>month</td>\n",
       "      <td>191</td>\n",
       "    </tr>\n",
       "    <tr>\n",
       "      <th>4</th>\n",
       "      <td>relative_diff_total</td>\n",
       "      <td>167</td>\n",
       "    </tr>\n",
       "    <tr>\n",
       "      <th>19</th>\n",
       "      <td>end_month</td>\n",
       "      <td>105</td>\n",
       "    </tr>\n",
       "    <tr>\n",
       "      <th>15</th>\n",
       "      <td>year</td>\n",
       "      <td>21</td>\n",
       "    </tr>\n",
       "  </tbody>\n",
       "</table>\n",
       "</div>"
      ],
      "text/plain": [
       "                feature  importance\n",
       "9              store_id        4283\n",
       "10               sku_id        2451\n",
       "1           total_price        1576\n",
       "12      end_week_serial        1540\n",
       "0            base_price        1240\n",
       "8           sku_encoded         960\n",
       "3    relative_diff_base         603\n",
       "11                 date         592\n",
       "17              weeknum         562\n",
       "2                  diff         517\n",
       "7         store_encoded         454\n",
       "14          week_serial         447\n",
       "20          end_weeknum         419\n",
       "21             end_date         402\n",
       "5       is_featured_sku         349\n",
       "6        is_display_sku         346\n",
       "13                month         191\n",
       "4   relative_diff_total         167\n",
       "19            end_month         105\n",
       "15                 year          21"
      ]
     },
     "execution_count": 70,
     "metadata": {},
     "output_type": "execute_result"
    }
   ],
   "source": [
    "a =model.feature_importance(importance_type='split')\n",
    "feature = pd.DataFrame(model.feature_name(), columns = ['feature'])\n",
    "feature['importance'] = a\n",
    "feature = feature.sort_values(by = ['importance'], ascending = False)\n",
    "feature.head(20)"
   ]
  },
  {
   "cell_type": "code",
   "execution_count": 71,
   "metadata": {},
   "outputs": [
    {
     "data": {
      "text/html": [
       "<div>\n",
       "<style scoped>\n",
       "    .dataframe tbody tr th:only-of-type {\n",
       "        vertical-align: middle;\n",
       "    }\n",
       "\n",
       "    .dataframe tbody tr th {\n",
       "        vertical-align: top;\n",
       "    }\n",
       "\n",
       "    .dataframe thead th {\n",
       "        text-align: right;\n",
       "    }\n",
       "</style>\n",
       "<table border=\"1\" class=\"dataframe\">\n",
       "  <thead>\n",
       "    <tr style=\"text-align: right;\">\n",
       "      <th></th>\n",
       "      <th>record_ID</th>\n",
       "      <th>units_sold</th>\n",
       "    </tr>\n",
       "  </thead>\n",
       "  <tbody>\n",
       "    <tr>\n",
       "      <th>0</th>\n",
       "      <td>212645</td>\n",
       "      <td>21.163058</td>\n",
       "    </tr>\n",
       "    <tr>\n",
       "      <th>1</th>\n",
       "      <td>212646</td>\n",
       "      <td>23.675132</td>\n",
       "    </tr>\n",
       "    <tr>\n",
       "      <th>2</th>\n",
       "      <td>212647</td>\n",
       "      <td>34.839319</td>\n",
       "    </tr>\n",
       "    <tr>\n",
       "      <th>3</th>\n",
       "      <td>212648</td>\n",
       "      <td>31.773779</td>\n",
       "    </tr>\n",
       "    <tr>\n",
       "      <th>4</th>\n",
       "      <td>212649</td>\n",
       "      <td>24.315106</td>\n",
       "    </tr>\n",
       "  </tbody>\n",
       "</table>\n",
       "</div>"
      ],
      "text/plain": [
       "   record_ID  units_sold\n",
       "0     212645   21.163058\n",
       "1     212646   23.675132\n",
       "2     212647   34.839319\n",
       "3     212648   31.773779\n",
       "4     212649   24.315106"
      ]
     },
     "execution_count": 71,
     "metadata": {},
     "output_type": "execute_result"
    }
   ],
   "source": [
    "submit.head()"
   ]
  },
  {
   "cell_type": "code",
   "execution_count": null,
   "metadata": {},
   "outputs": [],
   "source": []
  },
  {
   "cell_type": "code",
   "execution_count": null,
   "metadata": {},
   "outputs": [],
   "source": []
  }
 ],
 "metadata": {
  "kernelspec": {
   "display_name": "Python 3",
   "language": "python",
   "name": "python3"
  },
  "language_info": {
   "codemirror_mode": {
    "name": "ipython",
    "version": 3
   },
   "file_extension": ".py",
   "mimetype": "text/x-python",
   "name": "python",
   "nbconvert_exporter": "python",
   "pygments_lexer": "ipython3",
   "version": "3.7.6"
  }
 },
 "nbformat": 4,
 "nbformat_minor": 4
}
