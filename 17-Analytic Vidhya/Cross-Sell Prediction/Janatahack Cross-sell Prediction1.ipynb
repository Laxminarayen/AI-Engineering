{
 "cells": [
  {
   "cell_type": "markdown",
   "metadata": {
    "papermill": {
     "duration": 0.02035,
     "end_time": "2020-09-20T21:22:06.159627",
     "exception": false,
     "start_time": "2020-09-20T21:22:06.139277",
     "status": "completed"
    },
    "tags": []
   },
   "source": [
    "**Public LB: 85.9335 (6th rank)**\n",
    "\n",
    "**Private LB: 86.3685 (7th rank)**\n",
    "\n",
    "Link to LB: https://datahack.analyticsvidhya.com/contest/janatahack-cross-sell-prediction/#LeaderBoard"
   ]
  },
  {
   "cell_type": "markdown",
   "metadata": {
    "papermill": {
     "duration": 0.019007,
     "end_time": "2020-09-20T21:22:06.197784",
     "exception": false,
     "start_time": "2020-09-20T21:22:06.178777",
     "status": "completed"
    },
    "tags": []
   },
   "source": [
    "# **Key takeaways which helped :**"
   ]
  },
  {
   "cell_type": "markdown",
   "metadata": {
    "papermill": {
     "duration": 0.018471,
     "end_time": "2020-09-20T21:22:06.235273",
     "exception": false,
     "start_time": "2020-09-20T21:22:06.216802",
     "status": "completed"
    },
    "tags": []
   },
   "source": [
    "**1) when class imbalance is taken into account different set of prediction probabilities are predicted where as when we don't take class imbalance into account different prediction probabilities are predicted but LB score and my cv score were giving same ROC AUC score in both the cases.**\n",
    "\n",
    "**2) when we take mean or provide weights while blending gives the values between two extremes so i have blended predictions of Catboost and Lightgbm which pushed my score 0.8588 to 0.8593 in public LB** \n",
    "\n",
    "**3) Creating Rank Features boosted my LGBM score. Thanks to @Anil who introduced me to such features**\n",
    "\n",
    "   reference link:https://github.com/AnilBetta/AV-Janata-Hack-healh-Care-2\n",
    "   \n",
    "**4) Creating different set of features for different models really helped in pushing the score.**\n",
    "\n"
   ]
  },
  {
   "cell_type": "markdown",
   "metadata": {
    "papermill": {
     "duration": 0.018647,
     "end_time": "2020-09-20T21:22:06.272836",
     "exception": false,
     "start_time": "2020-09-20T21:22:06.254189",
     "status": "completed"
    },
    "tags": []
   },
   "source": [
    "# **Problem Statement**\n",
    "\n",
    "\n",
    "\n",
    "Your client is an Insurance company that has provided Health Insurance to its customers now they need your help in building a model to predict whether the policyholders (customers) from past year will also be interested in Vehicle Insurance provided by the company.\n",
    "\n",
    "An insurance policy is an arrangement by which a company undertakes to provide a guarantee of compensation for specified loss, damage, illness, or death in return for the payment of a specified premium. A premium is a sum of money that the customer needs to pay regularly to an insurance company for this guarantee.\n",
    "\n",
    "For example, you may pay a premium of Rs. 5000 each year for a health insurance cover of Rs. 200,000/- so that if, God forbid, you fall ill and need to be hospitalised in that year, the insurance provider company will bear the cost of hospitalisation etc. for upto Rs. 200,000. Now if you are wondering how can company bear such high hospitalisation cost when it charges a premium of only Rs. 5000/-, that is where the concept of probabilities comes in picture. For example, like you, there may be 100 customers who would be paying a premium of Rs. 5000 every year, but only a few of them (say 2-3) would get hospitalised that year and not everyone. This way everyone shares the risk of everyone else.\n",
    "\n",
    "Just like medical insurance, there is vehicle insurance where every year customer needs to pay a premium of certain amount to insurance provider company so that in case of unfortunate accident by the vehicle, the insurance provider company will provide a compensation (called ‘sum assured’) to the customer.\n",
    "\n",
    "Building a model to predict whether a customer would be interested in Vehicle Insurance is extremely helpful for the company because it can then accordingly plan its communication strategy to reach out to those customers and optimise its business model and revenue. \n",
    "\n",
    "Now, in order to predict, whether the customer would be interested in Vehicle insurance, you have information about demographics (gender, age, region code type), Vehicles (Vehicle Age, Damage), Policy (Premium, sourcing channel) etc."
   ]
  },
  {
   "cell_type": "code",
   "execution_count": 1,
   "metadata": {
    "_cell_guid": "b1076dfc-b9ad-4769-8c92-a6c4dae69d19",
    "_uuid": "8f2839f25d086af736a60e9eeb907d3b93b6e0e5",
    "execution": {
     "iopub.execute_input": "2020-09-20T21:22:06.322310Z",
     "iopub.status.busy": "2020-09-20T21:22:06.321510Z",
     "iopub.status.idle": "2020-09-20T21:22:14.146052Z",
     "shell.execute_reply": "2020-09-20T21:22:14.145129Z"
    },
    "papermill": {
     "duration": 7.852749,
     "end_time": "2020-09-20T21:22:14.146192",
     "exception": false,
     "start_time": "2020-09-20T21:22:06.293443",
     "status": "completed"
    },
    "tags": []
   },
   "outputs": [],
   "source": [
    "import warnings\n",
    "warnings.filterwarnings('ignore')\n",
    "import numpy as np \n",
    "import pandas as pd \n",
    "import seaborn as sns \n",
    "import matplotlib.pyplot as plt\n",
    "from sklearn.model_selection import KFold,StratifiedKFold,train_test_split\n",
    "from sklearn.preprocessing import LabelEncoder\n",
    "from sklearn.metrics import roc_auc_score\n",
    "from lightgbm import LGBMClassifier\n",
    "import os\n",
    "import eli5\n",
    "from eli5.sklearn import PermutationImportance\n",
    "from catboost import CatBoostClassifier\n",
    "\n",
    "from keras.models import Sequential,load_model\n",
    "from keras.layers import Dense, Dropout\n",
    "from sklearn.preprocessing import StandardScaler\n",
    "from keras.callbacks import ReduceLROnPlateau,ModelCheckpoint\n"
   ]
  },
  {
   "cell_type": "code",
   "execution_count": 2,
   "metadata": {
    "_cell_guid": "79c7e3d0-c299-4dcb-8224-4455121ee9b0",
    "_uuid": "d629ff2d2480ee46fbb7e2d37f6b5fab8052498a",
    "execution": {
     "iopub.execute_input": "2020-09-20T21:22:14.205045Z",
     "iopub.status.busy": "2020-09-20T21:22:14.204274Z",
     "iopub.status.idle": "2020-09-20T21:22:15.003080Z",
     "shell.execute_reply": "2020-09-20T21:22:15.002283Z"
    },
    "papermill": {
     "duration": 0.836709,
     "end_time": "2020-09-20T21:22:15.003221",
     "exception": false,
     "start_time": "2020-09-20T21:22:14.166512",
     "status": "completed"
    },
    "tags": []
   },
   "outputs": [],
   "source": [
    "train_df=pd.read_csv('../input/av-janatahack-crosssell-prediction/train.csv')\n",
    "test_df=pd.read_csv('../input/av-janatahack-crosssell-prediction/test.csv')\n",
    "submission_df=pd.read_csv('../input/av-janatahack-crosssell-prediction/sample.csv')"
   ]
  },
  {
   "cell_type": "markdown",
   "metadata": {
    "papermill": {
     "duration": 0.01961,
     "end_time": "2020-09-20T21:22:15.043458",
     "exception": false,
     "start_time": "2020-09-20T21:22:15.023848",
     "status": "completed"
    },
    "tags": []
   },
   "source": [
    "# **Basic EDA**"
   ]
  },
  {
   "cell_type": "code",
   "execution_count": 3,
   "metadata": {
    "execution": {
     "iopub.execute_input": "2020-09-20T21:22:15.100206Z",
     "iopub.status.busy": "2020-09-20T21:22:15.099113Z",
     "iopub.status.idle": "2020-09-20T21:22:15.113187Z",
     "shell.execute_reply": "2020-09-20T21:22:15.113877Z"
    },
    "papermill": {
     "duration": 0.050968,
     "end_time": "2020-09-20T21:22:15.114048",
     "exception": false,
     "start_time": "2020-09-20T21:22:15.063080",
     "status": "completed"
    },
    "tags": []
   },
   "outputs": [
    {
     "data": {
      "text/html": [
       "<div>\n",
       "<style scoped>\n",
       "    .dataframe tbody tr th:only-of-type {\n",
       "        vertical-align: middle;\n",
       "    }\n",
       "\n",
       "    .dataframe tbody tr th {\n",
       "        vertical-align: top;\n",
       "    }\n",
       "\n",
       "    .dataframe thead th {\n",
       "        text-align: right;\n",
       "    }\n",
       "</style>\n",
       "<table border=\"1\" class=\"dataframe\">\n",
       "  <thead>\n",
       "    <tr style=\"text-align: right;\">\n",
       "      <th></th>\n",
       "      <th>id</th>\n",
       "      <th>Gender</th>\n",
       "      <th>Age</th>\n",
       "      <th>Driving_License</th>\n",
       "      <th>Region_Code</th>\n",
       "      <th>Previously_Insured</th>\n",
       "      <th>Vehicle_Age</th>\n",
       "      <th>Vehicle_Damage</th>\n",
       "      <th>Annual_Premium</th>\n",
       "      <th>Policy_Sales_Channel</th>\n",
       "      <th>Vintage</th>\n",
       "      <th>Response</th>\n",
       "    </tr>\n",
       "  </thead>\n",
       "  <tbody>\n",
       "    <tr>\n",
       "      <th>0</th>\n",
       "      <td>1</td>\n",
       "      <td>Male</td>\n",
       "      <td>44</td>\n",
       "      <td>1</td>\n",
       "      <td>28.0</td>\n",
       "      <td>0</td>\n",
       "      <td>&gt; 2 Years</td>\n",
       "      <td>Yes</td>\n",
       "      <td>40454.0</td>\n",
       "      <td>26.0</td>\n",
       "      <td>217</td>\n",
       "      <td>1</td>\n",
       "    </tr>\n",
       "    <tr>\n",
       "      <th>1</th>\n",
       "      <td>2</td>\n",
       "      <td>Male</td>\n",
       "      <td>76</td>\n",
       "      <td>1</td>\n",
       "      <td>3.0</td>\n",
       "      <td>0</td>\n",
       "      <td>1-2 Year</td>\n",
       "      <td>No</td>\n",
       "      <td>33536.0</td>\n",
       "      <td>26.0</td>\n",
       "      <td>183</td>\n",
       "      <td>0</td>\n",
       "    </tr>\n",
       "    <tr>\n",
       "      <th>2</th>\n",
       "      <td>3</td>\n",
       "      <td>Male</td>\n",
       "      <td>47</td>\n",
       "      <td>1</td>\n",
       "      <td>28.0</td>\n",
       "      <td>0</td>\n",
       "      <td>&gt; 2 Years</td>\n",
       "      <td>Yes</td>\n",
       "      <td>38294.0</td>\n",
       "      <td>26.0</td>\n",
       "      <td>27</td>\n",
       "      <td>1</td>\n",
       "    </tr>\n",
       "    <tr>\n",
       "      <th>3</th>\n",
       "      <td>4</td>\n",
       "      <td>Male</td>\n",
       "      <td>21</td>\n",
       "      <td>1</td>\n",
       "      <td>11.0</td>\n",
       "      <td>1</td>\n",
       "      <td>&lt; 1 Year</td>\n",
       "      <td>No</td>\n",
       "      <td>28619.0</td>\n",
       "      <td>152.0</td>\n",
       "      <td>203</td>\n",
       "      <td>0</td>\n",
       "    </tr>\n",
       "    <tr>\n",
       "      <th>4</th>\n",
       "      <td>5</td>\n",
       "      <td>Female</td>\n",
       "      <td>29</td>\n",
       "      <td>1</td>\n",
       "      <td>41.0</td>\n",
       "      <td>1</td>\n",
       "      <td>&lt; 1 Year</td>\n",
       "      <td>No</td>\n",
       "      <td>27496.0</td>\n",
       "      <td>152.0</td>\n",
       "      <td>39</td>\n",
       "      <td>0</td>\n",
       "    </tr>\n",
       "  </tbody>\n",
       "</table>\n",
       "</div>"
      ],
      "text/plain": [
       "   id  Gender  Age  Driving_License  Region_Code  Previously_Insured  \\\n",
       "0   1    Male   44                1         28.0                   0   \n",
       "1   2    Male   76                1          3.0                   0   \n",
       "2   3    Male   47                1         28.0                   0   \n",
       "3   4    Male   21                1         11.0                   1   \n",
       "4   5  Female   29                1         41.0                   1   \n",
       "\n",
       "  Vehicle_Age Vehicle_Damage  Annual_Premium  Policy_Sales_Channel  Vintage  \\\n",
       "0   > 2 Years            Yes         40454.0                  26.0      217   \n",
       "1    1-2 Year             No         33536.0                  26.0      183   \n",
       "2   > 2 Years            Yes         38294.0                  26.0       27   \n",
       "3    < 1 Year             No         28619.0                 152.0      203   \n",
       "4    < 1 Year             No         27496.0                 152.0       39   \n",
       "\n",
       "   Response  \n",
       "0         1  \n",
       "1         0  \n",
       "2         1  \n",
       "3         0  \n",
       "4         0  "
      ]
     },
     "execution_count": 3,
     "metadata": {},
     "output_type": "execute_result"
    }
   ],
   "source": [
    "train_df.head(5)"
   ]
  },
  {
   "cell_type": "code",
   "execution_count": 4,
   "metadata": {
    "execution": {
     "iopub.execute_input": "2020-09-20T21:22:15.161772Z",
     "iopub.status.busy": "2020-09-20T21:22:15.160888Z",
     "iopub.status.idle": "2020-09-20T21:22:15.639667Z",
     "shell.execute_reply": "2020-09-20T21:22:15.638891Z"
    },
    "papermill": {
     "duration": 0.504646,
     "end_time": "2020-09-20T21:22:15.639802",
     "exception": false,
     "start_time": "2020-09-20T21:22:15.135156",
     "status": "completed"
    },
    "tags": []
   },
   "outputs": [
    {
     "data": {
      "text/plain": [
       "<matplotlib.axes._subplots.AxesSubplot at 0x7f5488e36350>"
      ]
     },
     "execution_count": 4,
     "metadata": {},
     "output_type": "execute_result"
    },
    {
     "data": {
      "image/png": "[encoded data removed]",
      "text/plain": [
       "<Figure size 432x288 with 1 Axes>"
      ]
     },
     "metadata": {
      "needs_background": "light"
     },
     "output_type": "display_data"
    }
   ],
   "source": [
    "sns.distplot(train_df['Annual_Premium'])"
   ]
  },
  {
   "cell_type": "code",
   "execution_count": 5,
   "metadata": {
    "execution": {
     "iopub.execute_input": "2020-09-20T21:22:15.690228Z",
     "iopub.status.busy": "2020-09-20T21:22:15.689457Z",
     "iopub.status.idle": "2020-09-20T21:22:16.124109Z",
     "shell.execute_reply": "2020-09-20T21:22:16.123526Z"
    },
    "papermill": {
     "duration": 0.462115,
     "end_time": "2020-09-20T21:22:16.124232",
     "exception": false,
     "start_time": "2020-09-20T21:22:15.662117",
     "status": "completed"
    },
    "tags": []
   },
   "outputs": [
    {
     "data": {
      "text/plain": [
       "<matplotlib.axes._subplots.AxesSubplot at 0x7f5488be4310>"
      ]
     },
     "execution_count": 5,
     "metadata": {},
     "output_type": "execute_result"
    },
    {
     "data": {
      "image/png": "[encoded data removed]",
      "text/plain": [
       "<Figure size 432x288 with 1 Axes>"
      ]
     },
     "metadata": {
      "needs_background": "light"
     },
     "output_type": "display_data"
    }
   ],
   "source": [
    "train_df['Annual_Premium']=np.log(train_df['Annual_Premium'])\n",
    "sns.distplot(train_df['Annual_Premium'])"
   ]
  },
  {
   "cell_type": "code",
   "execution_count": 6,
   "metadata": {
    "execution": {
     "iopub.execute_input": "2020-09-20T21:22:16.177558Z",
     "iopub.status.busy": "2020-09-20T21:22:16.176193Z",
     "iopub.status.idle": "2020-09-20T21:22:17.007445Z",
     "shell.execute_reply": "2020-09-20T21:22:17.008059Z"
    },
    "papermill": {
     "duration": 0.860617,
     "end_time": "2020-09-20T21:22:17.008218",
     "exception": false,
     "start_time": "2020-09-20T21:22:16.147601",
     "status": "completed"
    },
    "tags": []
   },
   "outputs": [
    {
     "data": {
      "text/plain": [
       "<matplotlib.axes._subplots.AxesSubplot at 0x7f5488a8d290>"
      ]
     },
     "execution_count": 6,
     "metadata": {},
     "output_type": "execute_result"
    },
    {
     "data": {
      "image/png": "[encoded data removed]",
      "text/plain": [
       "<Figure size 720x720 with 2 Axes>"
      ]
     },
     "metadata": {
      "needs_background": "light"
     },
     "output_type": "display_data"
    }
   ],
   "source": [
    "plt.figure(figsize=(10,10))\n",
    "sns.heatmap(train_df.corr(),annot=True)"
   ]
  },
  {
   "cell_type": "code",
   "execution_count": 7,
   "metadata": {
    "execution": {
     "iopub.execute_input": "2020-09-20T21:22:17.068142Z",
     "iopub.status.busy": "2020-09-20T21:22:17.067312Z",
     "iopub.status.idle": "2020-09-20T21:22:17.218189Z",
     "shell.execute_reply": "2020-09-20T21:22:17.217462Z"
    },
    "papermill": {
     "duration": 0.183245,
     "end_time": "2020-09-20T21:22:17.218322",
     "exception": false,
     "start_time": "2020-09-20T21:22:17.035077",
     "status": "completed"
    },
    "tags": []
   },
   "outputs": [
    {
     "data": {
      "text/plain": [
       "<matplotlib.axes._subplots.AxesSubplot at 0x7f54889df090>"
      ]
     },
     "execution_count": 7,
     "metadata": {},
     "output_type": "execute_result"
    },
    {
     "data": {
      "image/png": "[encoded data removed]",
      "text/plain": [
       "<Figure size 432x288 with 1 Axes>"
      ]
     },
     "metadata": {
      "needs_background": "light"
     },
     "output_type": "display_data"
    }
   ],
   "source": [
    "sns.barplot(train_df['Response'],train_df['Response'].value_counts())"
   ]
  },
  {
   "cell_type": "markdown",
   "metadata": {
    "papermill": {
     "duration": 0.026685,
     "end_time": "2020-09-20T21:22:17.272102",
     "exception": false,
     "start_time": "2020-09-20T21:22:17.245417",
     "status": "completed"
    },
    "tags": []
   },
   "source": [
    "# **Adding Features for LGBM**"
   ]
  },
  {
   "cell_type": "code",
   "execution_count": 8,
   "metadata": {
    "execution": {
     "iopub.execute_input": "2020-09-20T21:22:17.370609Z",
     "iopub.status.busy": "2020-09-20T21:22:17.351305Z",
     "iopub.status.idle": "2020-09-20T21:22:20.819686Z",
     "shell.execute_reply": "2020-09-20T21:22:20.818924Z"
    },
    "papermill": {
     "duration": 3.520639,
     "end_time": "2020-09-20T21:22:20.819813",
     "exception": false,
     "start_time": "2020-09-20T21:22:17.299174",
     "status": "completed"
    },
    "tags": []
   },
   "outputs": [
    {
     "data": {
      "text/html": [
       "<div>\n",
       "<style scoped>\n",
       "    .dataframe tbody tr th:only-of-type {\n",
       "        vertical-align: middle;\n",
       "    }\n",
       "\n",
       "    .dataframe tbody tr th {\n",
       "        vertical-align: top;\n",
       "    }\n",
       "\n",
       "    .dataframe thead th {\n",
       "        text-align: right;\n",
       "    }\n",
       "</style>\n",
       "<table border=\"1\" class=\"dataframe\">\n",
       "  <thead>\n",
       "    <tr style=\"text-align: right;\">\n",
       "      <th></th>\n",
       "      <th>id</th>\n",
       "      <th>Gender</th>\n",
       "      <th>Age</th>\n",
       "      <th>Driving_License</th>\n",
       "      <th>Region_Code</th>\n",
       "      <th>Previously_Insured</th>\n",
       "      <th>Vehicle_Age</th>\n",
       "      <th>Vehicle_Damage</th>\n",
       "      <th>Annual_Premium</th>\n",
       "      <th>Policy_Sales_Channel</th>\n",
       "      <th>...</th>\n",
       "      <th>Rank_min_regionwise_premium</th>\n",
       "      <th>Rank_regionwise_diff</th>\n",
       "      <th>Rank_channelwise_premium</th>\n",
       "      <th>Rank_mean_channelwise_premium</th>\n",
       "      <th>Rank_max_channelwise_premium</th>\n",
       "      <th>Rank_min_channelwise_premium</th>\n",
       "      <th>Rank_channelwise_diff</th>\n",
       "      <th>Rank_Channel_wise_Vehicle_Age_Premium</th>\n",
       "      <th>Rank_Region_wise_Vehicle_Age_premium</th>\n",
       "      <th>Rank_Age_wise_premium</th>\n",
       "    </tr>\n",
       "  </thead>\n",
       "  <tbody>\n",
       "    <tr>\n",
       "      <th>0</th>\n",
       "      <td>1</td>\n",
       "      <td>1</td>\n",
       "      <td>44</td>\n",
       "      <td>1</td>\n",
       "      <td>28.0</td>\n",
       "      <td>0</td>\n",
       "      <td>2</td>\n",
       "      <td>1</td>\n",
       "      <td>10.607921</td>\n",
       "      <td>26.0</td>\n",
       "      <td>...</td>\n",
       "      <td>59233.0</td>\n",
       "      <td>5.0</td>\n",
       "      <td>54268.0</td>\n",
       "      <td>54269.0</td>\n",
       "      <td>54270.0</td>\n",
       "      <td>54268.0</td>\n",
       "      <td>2.0</td>\n",
       "      <td>3771.0</td>\n",
       "      <td>4320.0</td>\n",
       "      <td>6187.0</td>\n",
       "    </tr>\n",
       "    <tr>\n",
       "      <th>1</th>\n",
       "      <td>2</td>\n",
       "      <td>1</td>\n",
       "      <td>76</td>\n",
       "      <td>1</td>\n",
       "      <td>3.0</td>\n",
       "      <td>0</td>\n",
       "      <td>1</td>\n",
       "      <td>0</td>\n",
       "      <td>10.420375</td>\n",
       "      <td>26.0</td>\n",
       "      <td>...</td>\n",
       "      <td>7150.0</td>\n",
       "      <td>1.0</td>\n",
       "      <td>36846.0</td>\n",
       "      <td>36848.0</td>\n",
       "      <td>36850.0</td>\n",
       "      <td>36846.0</td>\n",
       "      <td>4.0</td>\n",
       "      <td>31750.0</td>\n",
       "      <td>3554.0</td>\n",
       "      <td>637.0</td>\n",
       "    </tr>\n",
       "    <tr>\n",
       "      <th>2</th>\n",
       "      <td>3</td>\n",
       "      <td>1</td>\n",
       "      <td>47</td>\n",
       "      <td>1</td>\n",
       "      <td>28.0</td>\n",
       "      <td>0</td>\n",
       "      <td>2</td>\n",
       "      <td>1</td>\n",
       "      <td>10.553049</td>\n",
       "      <td>26.0</td>\n",
       "      <td>...</td>\n",
       "      <td>51635.0</td>\n",
       "      <td>1.0</td>\n",
       "      <td>49394.0</td>\n",
       "      <td>49396.5</td>\n",
       "      <td>49399.0</td>\n",
       "      <td>49394.0</td>\n",
       "      <td>5.0</td>\n",
       "      <td>3313.0</td>\n",
       "      <td>3694.0</td>\n",
       "      <td>4905.0</td>\n",
       "    </tr>\n",
       "    <tr>\n",
       "      <th>3</th>\n",
       "      <td>4</td>\n",
       "      <td>1</td>\n",
       "      <td>21</td>\n",
       "      <td>1</td>\n",
       "      <td>11.0</td>\n",
       "      <td>1</td>\n",
       "      <td>0</td>\n",
       "      <td>0</td>\n",
       "      <td>10.261826</td>\n",
       "      <td>152.0</td>\n",
       "      <td>...</td>\n",
       "      <td>4383.0</td>\n",
       "      <td>0.0</td>\n",
       "      <td>53337.0</td>\n",
       "      <td>53339.5</td>\n",
       "      <td>53342.0</td>\n",
       "      <td>53337.0</td>\n",
       "      <td>5.0</td>\n",
       "      <td>49160.0</td>\n",
       "      <td>2519.0</td>\n",
       "      <td>6419.0</td>\n",
       "    </tr>\n",
       "    <tr>\n",
       "      <th>4</th>\n",
       "      <td>5</td>\n",
       "      <td>0</td>\n",
       "      <td>29</td>\n",
       "      <td>1</td>\n",
       "      <td>41.0</td>\n",
       "      <td>1</td>\n",
       "      <td>0</td>\n",
       "      <td>0</td>\n",
       "      <td>10.221796</td>\n",
       "      <td>152.0</td>\n",
       "      <td>...</td>\n",
       "      <td>5920.0</td>\n",
       "      <td>1.0</td>\n",
       "      <td>46026.0</td>\n",
       "      <td>46028.5</td>\n",
       "      <td>46031.0</td>\n",
       "      <td>46026.0</td>\n",
       "      <td>5.0</td>\n",
       "      <td>42321.0</td>\n",
       "      <td>3041.0</td>\n",
       "      <td>3049.0</td>\n",
       "    </tr>\n",
       "  </tbody>\n",
       "</table>\n",
       "<p>5 rows × 44 columns</p>\n",
       "</div>"
      ],
      "text/plain": [
       "   id  Gender  Age  Driving_License  Region_Code  Previously_Insured  \\\n",
       "0   1       1   44                1         28.0                   0   \n",
       "1   2       1   76                1          3.0                   0   \n",
       "2   3       1   47                1         28.0                   0   \n",
       "3   4       1   21                1         11.0                   1   \n",
       "4   5       0   29                1         41.0                   1   \n",
       "\n",
       "   Vehicle_Age  Vehicle_Damage  Annual_Premium  Policy_Sales_Channel  ...  \\\n",
       "0            2               1       10.607921                  26.0  ...   \n",
       "1            1               0       10.420375                  26.0  ...   \n",
       "2            2               1       10.553049                  26.0  ...   \n",
       "3            0               0       10.261826                 152.0  ...   \n",
       "4            0               0       10.221796                 152.0  ...   \n",
       "\n",
       "   Rank_min_regionwise_premium  Rank_regionwise_diff  \\\n",
       "0                      59233.0                   5.0   \n",
       "1                       7150.0                   1.0   \n",
       "2                      51635.0                   1.0   \n",
       "3                       4383.0                   0.0   \n",
       "4                       5920.0                   1.0   \n",
       "\n",
       "   Rank_channelwise_premium  Rank_mean_channelwise_premium  \\\n",
       "0                   54268.0                        54269.0   \n",
       "1                   36846.0                        36848.0   \n",
       "2                   49394.0                        49396.5   \n",
       "3                   53337.0                        53339.5   \n",
       "4                   46026.0                        46028.5   \n",
       "\n",
       "   Rank_max_channelwise_premium  Rank_min_channelwise_premium  \\\n",
       "0                       54270.0                       54268.0   \n",
       "1                       36850.0                       36846.0   \n",
       "2                       49399.0                       49394.0   \n",
       "3                       53342.0                       53337.0   \n",
       "4                       46031.0                       46026.0   \n",
       "\n",
       "   Rank_channelwise_diff  Rank_Channel_wise_Vehicle_Age_Premium  \\\n",
       "0                    2.0                                 3771.0   \n",
       "1                    4.0                                31750.0   \n",
       "2                    5.0                                 3313.0   \n",
       "3                    5.0                                49160.0   \n",
       "4                    5.0                                42321.0   \n",
       "\n",
       "   Rank_Region_wise_Vehicle_Age_premium  Rank_Age_wise_premium  \n",
       "0                                4320.0                 6187.0  \n",
       "1                                3554.0                  637.0  \n",
       "2                                3694.0                 4905.0  \n",
       "3                                2519.0                 6419.0  \n",
       "4                                3041.0                 3049.0  \n",
       "\n",
       "[5 rows x 44 columns]"
      ]
     },
     "execution_count": 8,
     "metadata": {},
     "output_type": "execute_result"
    }
   ],
   "source": [
    "train_df=train_df.drop_duplicates(subset=[ele for ele in list(train_df.columns) if ele not in ['id']])\n",
    "combine_set=pd.concat([train_df,test_df])\n",
    "le=LabelEncoder()\n",
    "combine_set['Gender']=le.fit_transform(combine_set['Gender'])\n",
    "combine_set['Vehicle_Damage']=le.fit_transform(combine_set['Vehicle_Damage'])\n",
    "combine_set['Vehicle_Age']=combine_set['Vehicle_Age'].map({'< 1 Year':0,'1-2 Year':1,'> 2 Years':2})\n",
    "# df=pd.get_dummies(combine_set['Vehicle_Age'],drop_first=True)\n",
    "# combine_set=pd.concat([combine_set,df],axis=1)\n",
    "\n",
    "# fe=combine_set.groupby('Vehicle_Age').size()/len(combine_set)\n",
    "# combine_set['Vehicle_Age']=combine_set['Vehicle_Age'].apply(lambda x: fe[x])\n",
    "combine_set['Customer_term_in_year']=combine_set['Vintage']/365\n",
    "combine_set['Total_premium_Channelwise']=combine_set.groupby(['Policy_Sales_Channel'])['Annual_Premium'].transform('sum')\n",
    "combine_set['Mean_premium_Channelwise']=combine_set.groupby(['Policy_Sales_Channel'])['Annual_Premium'].transform('mean')\n",
    "combine_set['Maximum_premium_Channelwise']=combine_set.groupby(['Policy_Sales_Channel'])['Annual_Premium'].transform('max')\n",
    "combine_set['Min_premium_Channelwise']=combine_set.groupby(['Policy_Sales_Channel'])['Annual_Premium'].transform('min')\n",
    "combine_set['Total_premium_regionwise']=combine_set.groupby(['Region_Code'])['Annual_Premium'].transform('sum')\n",
    "combine_set['Mean_premium_regionwise']=combine_set.groupby(['Region_Code'])['Annual_Premium'].transform('mean')\n",
    "combine_set['Max_premium_regionwise']=combine_set.groupby(['Region_Code'])['Annual_Premium'].transform('max')\n",
    "combine_set['Min_premium_regionwise']=combine_set.groupby(['Region_Code'])['Annual_Premium'].transform('min')\n",
    "combine_set['Age_groups_region_wise']=combine_set.groupby(['Region_Code'])['Age'].transform('nunique')\n",
    "combine_set['regionwise_channels']=combine_set.groupby(['Policy_Sales_Channel'])['Region_Code'].transform('nunique')\n",
    "combine_set['Channelwise_regions']=combine_set.groupby(['Region_Code'])['Policy_Sales_Channel'].transform('nunique')\n",
    "combine_set['Unique_customers_based_Vinatge']=combine_set.groupby(['Region_Code','Policy_Sales_Channel'])['Vintage'].transform('nunique')\n",
    "combine_set['Region_wise_Vehicle_Age_premium']=combine_set.groupby(['Region_Code','Vehicle_Age'])['Annual_Premium'].transform('sum')\n",
    "combine_set['Region_wise_Vehicle_Age_premium_mean']=combine_set.groupby(['Region_Code','Vehicle_Age'])['Annual_Premium'].transform('mean')\n",
    "combine_set['Region_wise_Vehicle_Age_premium_max']=combine_set.groupby(['Region_Code','Vehicle_Age'])['Annual_Premium'].transform('max')\n",
    "combine_set['Channel_wise_Vehicle_Age_premium']=combine_set.groupby(['Policy_Sales_Channel', 'Vehicle_Age'])['Annual_Premium'].transform('sum')\n",
    "combine_set['Channel_wise_Vehicle_Age_premium_mean']=combine_set.groupby(['Policy_Sales_Channel', 'Vehicle_Age'])['Annual_Premium'].transform('mean')\n",
    "combine_set['Channel_wise_Vehicle_Age_premium_max']=combine_set.groupby(['Policy_Sales_Channel', 'Vehicle_Age'])['Annual_Premium'].transform('max')\n",
    "\n",
    "#Rank Features\n",
    "combine_set['Rank_regionwise_premium']=combine_set.groupby(['Region_Code'])['Annual_Premium'].rank(method='first',ascending=True)\n",
    "combine_set['Rank_mean_regionwise_premium']=combine_set.groupby(['Region_Code'])['Annual_Premium'].rank(method='average',ascending=True)\n",
    "combine_set['Rank_max_regionwise_premium']=combine_set.groupby(['Region_Code'])['Annual_Premium'].rank(method='max',ascending=True)\n",
    "combine_set['Rank_min_regionwise_premium']=combine_set.groupby(['Region_Code'])['Annual_Premium'].rank(method='min',ascending=True)\n",
    "combine_set['Rank_regionwise_diff']=combine_set['Rank_max_regionwise_premium']- combine_set['Rank_min_regionwise_premium']\n",
    "combine_set['Rank_channelwise_premium']=combine_set.groupby(['Policy_Sales_Channel'])['Annual_Premium'].rank(method='first',ascending=True)\n",
    "combine_set['Rank_mean_channelwise_premium']=combine_set.groupby(['Policy_Sales_Channel'])['Annual_Premium'].rank(method='average',ascending=True)\n",
    "combine_set['Rank_max_channelwise_premium']=combine_set.groupby(['Policy_Sales_Channel'])['Annual_Premium'].rank(method='max',ascending=True)\n",
    "combine_set['Rank_min_channelwise_premium']=combine_set.groupby(['Policy_Sales_Channel'])['Annual_Premium'].rank(method='min',ascending=True)\n",
    "combine_set['Rank_channelwise_diff']=combine_set['Rank_max_channelwise_premium']- combine_set['Rank_min_channelwise_premium']\n",
    "combine_set['Rank_Channel_wise_Vehicle_Age_Premium']=combine_set.groupby(['Policy_Sales_Channel','Vehicle_Age'])['Annual_Premium'].rank(method='first',ascending=True)\n",
    "combine_set['Rank_Region_wise_Vehicle_Age_premium']=combine_set.groupby(['Region_Code','Vehicle_Age'])['Annual_Premium'].rank(method='first',ascending=True)\n",
    "combine_set['Rank_Age_wise_premium']=combine_set.groupby(['Age'])['Annual_Premium'].rank(method='first',ascending=True)\n",
    "\n",
    "combine_set.head(5)"
   ]
  },
  {
   "cell_type": "markdown",
   "metadata": {
    "papermill": {
     "duration": 0.027664,
     "end_time": "2020-09-20T21:22:20.875618",
     "exception": false,
     "start_time": "2020-09-20T21:22:20.847954",
     "status": "completed"
    },
    "tags": []
   },
   "source": [
    "# **Adding Features for Catboost**"
   ]
  },
  {
   "cell_type": "code",
   "execution_count": 9,
   "metadata": {
    "execution": {
     "iopub.execute_input": "2020-09-20T21:22:20.961025Z",
     "iopub.status.busy": "2020-09-20T21:22:20.946386Z",
     "iopub.status.idle": "2020-09-20T21:22:23.888961Z",
     "shell.execute_reply": "2020-09-20T21:22:23.888298Z"
    },
    "papermill": {
     "duration": 2.985221,
     "end_time": "2020-09-20T21:22:23.889083",
     "exception": false,
     "start_time": "2020-09-20T21:22:20.903862",
     "status": "completed"
    },
    "tags": []
   },
   "outputs": [
    {
     "data": {
      "text/html": [
       "<div>\n",
       "<style scoped>\n",
       "    .dataframe tbody tr th:only-of-type {\n",
       "        vertical-align: middle;\n",
       "    }\n",
       "\n",
       "    .dataframe tbody tr th {\n",
       "        vertical-align: top;\n",
       "    }\n",
       "\n",
       "    .dataframe thead th {\n",
       "        text-align: right;\n",
       "    }\n",
       "</style>\n",
       "<table border=\"1\" class=\"dataframe\">\n",
       "  <thead>\n",
       "    <tr style=\"text-align: right;\">\n",
       "      <th></th>\n",
       "      <th>id</th>\n",
       "      <th>Gender</th>\n",
       "      <th>Age</th>\n",
       "      <th>Driving_License</th>\n",
       "      <th>Region_Code</th>\n",
       "      <th>Previously_Insured</th>\n",
       "      <th>Vehicle_Age</th>\n",
       "      <th>Vehicle_Damage</th>\n",
       "      <th>Annual_Premium</th>\n",
       "      <th>Policy_Sales_Channel</th>\n",
       "      <th>...</th>\n",
       "      <th>RegionwisePreviouslyInsured</th>\n",
       "      <th>RegionwiseVintage</th>\n",
       "      <th>SaleChannelwiseVintage</th>\n",
       "      <th>AvgRegionGenderWisePremium</th>\n",
       "      <th>NoPeoplePrevInsuredRegionGenderWise</th>\n",
       "      <th>NoPeoplePrevInsuredSalesChannelGenderWise</th>\n",
       "      <th>NoPeoplePrevInsuredSalesChannelRegionWise</th>\n",
       "      <th>AvgCustomerDurationRegionGenderWise</th>\n",
       "      <th>InsuranceLicense</th>\n",
       "      <th>InsuranceGender</th>\n",
       "    </tr>\n",
       "  </thead>\n",
       "  <tbody>\n",
       "    <tr>\n",
       "      <th>0</th>\n",
       "      <td>1</td>\n",
       "      <td>1</td>\n",
       "      <td>44</td>\n",
       "      <td>1</td>\n",
       "      <td>28</td>\n",
       "      <td>0</td>\n",
       "      <td>2</td>\n",
       "      <td>1</td>\n",
       "      <td>10.607921</td>\n",
       "      <td>26</td>\n",
       "      <td>...</td>\n",
       "      <td>141857</td>\n",
       "      <td>0</td>\n",
       "      <td>0</td>\n",
       "      <td>9631.001984</td>\n",
       "      <td>80081</td>\n",
       "      <td>65588</td>\n",
       "      <td>50085</td>\n",
       "      <td>0.422864</td>\n",
       "      <td>10</td>\n",
       "      <td>10</td>\n",
       "    </tr>\n",
       "    <tr>\n",
       "      <th>1</th>\n",
       "      <td>2</td>\n",
       "      <td>1</td>\n",
       "      <td>76</td>\n",
       "      <td>1</td>\n",
       "      <td>3</td>\n",
       "      <td>0</td>\n",
       "      <td>1</td>\n",
       "      <td>0</td>\n",
       "      <td>10.420375</td>\n",
       "      <td>26</td>\n",
       "      <td>...</td>\n",
       "      <td>12343</td>\n",
       "      <td>0</td>\n",
       "      <td>0</td>\n",
       "      <td>6115.621828</td>\n",
       "      <td>6875</td>\n",
       "      <td>65588</td>\n",
       "      <td>2240</td>\n",
       "      <td>0.424436</td>\n",
       "      <td>10</td>\n",
       "      <td>10</td>\n",
       "    </tr>\n",
       "    <tr>\n",
       "      <th>2</th>\n",
       "      <td>3</td>\n",
       "      <td>1</td>\n",
       "      <td>47</td>\n",
       "      <td>1</td>\n",
       "      <td>28</td>\n",
       "      <td>0</td>\n",
       "      <td>2</td>\n",
       "      <td>1</td>\n",
       "      <td>10.553049</td>\n",
       "      <td>26</td>\n",
       "      <td>...</td>\n",
       "      <td>141857</td>\n",
       "      <td>0</td>\n",
       "      <td>0</td>\n",
       "      <td>9631.001984</td>\n",
       "      <td>80081</td>\n",
       "      <td>65588</td>\n",
       "      <td>50085</td>\n",
       "      <td>0.422864</td>\n",
       "      <td>10</td>\n",
       "      <td>10</td>\n",
       "    </tr>\n",
       "    <tr>\n",
       "      <th>3</th>\n",
       "      <td>4</td>\n",
       "      <td>1</td>\n",
       "      <td>21</td>\n",
       "      <td>1</td>\n",
       "      <td>11</td>\n",
       "      <td>1</td>\n",
       "      <td>0</td>\n",
       "      <td>0</td>\n",
       "      <td>10.261826</td>\n",
       "      <td>152</td>\n",
       "      <td>...</td>\n",
       "      <td>12325</td>\n",
       "      <td>0</td>\n",
       "      <td>0</td>\n",
       "      <td>6720.150971</td>\n",
       "      <td>6178</td>\n",
       "      <td>77555</td>\n",
       "      <td>6732</td>\n",
       "      <td>0.422356</td>\n",
       "      <td>11</td>\n",
       "      <td>11</td>\n",
       "    </tr>\n",
       "    <tr>\n",
       "      <th>4</th>\n",
       "      <td>5</td>\n",
       "      <td>0</td>\n",
       "      <td>29</td>\n",
       "      <td>1</td>\n",
       "      <td>41</td>\n",
       "      <td>1</td>\n",
       "      <td>0</td>\n",
       "      <td>0</td>\n",
       "      <td>10.221796</td>\n",
       "      <td>152</td>\n",
       "      <td>...</td>\n",
       "      <td>24393</td>\n",
       "      <td>0</td>\n",
       "      <td>0</td>\n",
       "      <td>8033.998890</td>\n",
       "      <td>11425</td>\n",
       "      <td>101864</td>\n",
       "      <td>11498</td>\n",
       "      <td>0.424287</td>\n",
       "      <td>11</td>\n",
       "      <td>01</td>\n",
       "    </tr>\n",
       "  </tbody>\n",
       "</table>\n",
       "<p>5 rows × 31 columns</p>\n",
       "</div>"
      ],
      "text/plain": [
       "   id  Gender  Age  Driving_License  Region_Code  Previously_Insured  \\\n",
       "0   1       1   44                1           28                   0   \n",
       "1   2       1   76                1            3                   0   \n",
       "2   3       1   47                1           28                   0   \n",
       "3   4       1   21                1           11                   1   \n",
       "4   5       0   29                1           41                   1   \n",
       "\n",
       "   Vehicle_Age  Vehicle_Damage  Annual_Premium  Policy_Sales_Channel  ...  \\\n",
       "0            2               1       10.607921                    26  ...   \n",
       "1            1               0       10.420375                    26  ...   \n",
       "2            2               1       10.553049                    26  ...   \n",
       "3            0               0       10.261826                   152  ...   \n",
       "4            0               0       10.221796                   152  ...   \n",
       "\n",
       "   RegionwisePreviouslyInsured  RegionwiseVintage  SaleChannelwiseVintage  \\\n",
       "0                       141857                  0                       0   \n",
       "1                        12343                  0                       0   \n",
       "2                       141857                  0                       0   \n",
       "3                        12325                  0                       0   \n",
       "4                        24393                  0                       0   \n",
       "\n",
       "   AvgRegionGenderWisePremium  NoPeoplePrevInsuredRegionGenderWise  \\\n",
       "0                 9631.001984                                80081   \n",
       "1                 6115.621828                                 6875   \n",
       "2                 9631.001984                                80081   \n",
       "3                 6720.150971                                 6178   \n",
       "4                 8033.998890                                11425   \n",
       "\n",
       "   NoPeoplePrevInsuredSalesChannelGenderWise  \\\n",
       "0                                      65588   \n",
       "1                                      65588   \n",
       "2                                      65588   \n",
       "3                                      77555   \n",
       "4                                     101864   \n",
       "\n",
       "   NoPeoplePrevInsuredSalesChannelRegionWise  \\\n",
       "0                                      50085   \n",
       "1                                       2240   \n",
       "2                                      50085   \n",
       "3                                       6732   \n",
       "4                                      11498   \n",
       "\n",
       "   AvgCustomerDurationRegionGenderWise  InsuranceLicense  InsuranceGender  \n",
       "0                             0.422864                10               10  \n",
       "1                             0.424436                10               10  \n",
       "2                             0.422864                10               10  \n",
       "3                             0.422356                11               11  \n",
       "4                             0.424287                11               01  \n",
       "\n",
       "[5 rows x 31 columns]"
      ]
     },
     "execution_count": 9,
     "metadata": {},
     "output_type": "execute_result"
    }
   ],
   "source": [
    "cat_cols = train_df.select_dtypes(include = 'object')\n",
    "num_cols = train_df.select_dtypes(include=['int64','float64'])\n",
    "combine=pd.concat([train_df,test_df])\n",
    "combine['Vintage'] = combine['Vintage']/365\n",
    "combine['Vehicle_Age']=combine['Vehicle_Age'].replace({'< 1 Year':0,'1-2 Year':1,'> 2 Years':2})\n",
    "combine['Vehicle_Damage']=combine['Vehicle_Damage'].replace({'Yes':1,'No':0})\n",
    "combine['Gender']=combine['Gender'].replace({'Male':1,'Female':0})\n",
    "combine['IsPreviouslyInsuredandVehicleDamaged'] = np.where((combine['Previously_Insured']==0) & (combine['Vehicle_Damage']==1),1,0)\n",
    "combine['IsVehicleDamagedandDrivingLicense'] = np.where((combine['Vehicle_Damage']==1) & (combine['Driving_License']==1),1,0)\n",
    "combine['TotalAmountPaidTillDate'] = combine['Annual_Premium']*combine['Vintage']\n",
    "combine['PremiumperRegion'] = combine.groupby('Region_Code')['Annual_Premium'].transform('mean')\n",
    "combine['PremiumperPolicy_Sales_Channel'] = combine.groupby('Policy_Sales_Channel')['Annual_Premium'].transform('mean')\n",
    "combine['AvgVehicleAgePerRegion'] = combine.groupby('Policy_Sales_Channel')['Annual_Premium'].transform('mean')\n",
    "combine['AvgCustomerAgeRegionWise'] = combine.groupby('Region_Code')['Age'].transform('mean')\n",
    "combine['AvgCustomerAgeSaleChannelWise'] = combine.groupby('Policy_Sales_Channel')['Age'].transform('mean')\n",
    "combine['SaleChannelsPerRegion'] = combine.groupby('Region_Code')['Policy_Sales_Channel'].transform('nunique')\n",
    "combine['RegionwisePreviouslyInsured'] = combine.groupby('Region_Code')['Previously_Insured'].transform('count')\n",
    "combine['RegionwiseVintage'] = combine.groupby('Region_Code')['Vintage'].transform('mean').astype('int')\n",
    "combine['SaleChannelwiseVintage'] = combine.groupby('Policy_Sales_Channel')['Vintage'].transform('mean').astype('int')\n",
    "combine['AvgRegionGenderWisePremium'] = combine.groupby(['Region_Code','Gender'])['Annual_Premium'].transform('mean')\n",
    "combine['NoPeoplePrevInsuredRegionGenderWise'] = combine.groupby(['Region_Code','Gender'])['Previously_Insured'].transform('count')\n",
    "combine['NoPeoplePrevInsuredSalesChannelGenderWise'] = combine.groupby(['Policy_Sales_Channel','Gender'])['Previously_Insured'].transform('count')\n",
    "combine['NoPeoplePrevInsuredSalesChannelRegionWise'] = combine.groupby(['Region_Code','Policy_Sales_Channel'])['Previously_Insured'].transform('count')\n",
    "combine['AvgCustomerDurationRegionGenderWise'] = combine.groupby(['Region_Code','Gender'])['Vintage'].transform('mean')\n",
    "combine['InsuranceLicense'] = combine['Driving_License'].astype('str') + '' + combine['Previously_Insured'].astype('str')\n",
    "combine['InsuranceGender'] = combine['Gender'].astype('str') + '' + combine['Previously_Insured'].astype('str')\n",
    "combine['Region_Code']=combine['Region_Code'].astype(int)\n",
    "combine['Policy_Sales_Channel']=combine['Policy_Sales_Channel'].astype(int)\n",
    "combine.head(5)\n"
   ]
  },
  {
   "cell_type": "markdown",
   "metadata": {
    "papermill": {
     "duration": 0.030233,
     "end_time": "2020-09-20T21:22:23.948609",
     "exception": false,
     "start_time": "2020-09-20T21:22:23.918376",
     "status": "completed"
    },
    "tags": []
   },
   "source": [
    "# **Loading Data....(LGBM)**"
   ]
  },
  {
   "cell_type": "code",
   "execution_count": 10,
   "metadata": {
    "execution": {
     "iopub.execute_input": "2020-09-20T21:22:24.016683Z",
     "iopub.status.busy": "2020-09-20T21:22:24.015842Z",
     "iopub.status.idle": "2020-09-20T21:22:24.370961Z",
     "shell.execute_reply": "2020-09-20T21:22:24.370301Z"
    },
    "papermill": {
     "duration": 0.392692,
     "end_time": "2020-09-20T21:22:24.371095",
     "exception": false,
     "start_time": "2020-09-20T21:22:23.978403",
     "status": "completed"
    },
    "tags": []
   },
   "outputs": [],
   "source": [
    "train_df=combine_set[combine_set['Response'].isnull()==False]\n",
    "test_df=combine_set[combine_set['Response'].isnull()==True]\n",
    "X=train_df.drop(['id','Response'],axis=1)\n",
    "y=train_df['Response'] \n",
    "X_main_test=test_df.drop(['id','Response'],axis=1)\n"
   ]
  },
  {
   "cell_type": "markdown",
   "metadata": {
    "papermill": {
     "duration": 0.029202,
     "end_time": "2020-09-20T21:22:24.429664",
     "exception": false,
     "start_time": "2020-09-20T21:22:24.400462",
     "status": "completed"
    },
    "tags": []
   },
   "source": [
    "# **Loading Data....(Catboost)**"
   ]
  },
  {
   "cell_type": "code",
   "execution_count": 11,
   "metadata": {
    "execution": {
     "iopub.execute_input": "2020-09-20T21:22:24.497687Z",
     "iopub.status.busy": "2020-09-20T21:22:24.496902Z",
     "iopub.status.idle": "2020-09-20T21:22:24.810522Z",
     "shell.execute_reply": "2020-09-20T21:22:24.809865Z"
    },
    "papermill": {
     "duration": 0.350774,
     "end_time": "2020-09-20T21:22:24.810664",
     "exception": false,
     "start_time": "2020-09-20T21:22:24.459890",
     "status": "completed"
    },
    "tags": []
   },
   "outputs": [],
   "source": [
    "cat_col=['Gender','Driving_License', 'Region_Code', 'Previously_Insured', 'Vehicle_Age', 'Vehicle_Damage','Policy_Sales_Channel', 'InsuranceLicense','InsuranceGender']\n",
    "train = combine[combine['Response'].isnull()!= True]\n",
    "test = combine[combine['Response'].isnull()== True]\n",
    "test=test.drop(['id','Response'],axis=1)\n",
    "X_cat = train.drop(['id',\"Response\"], axis=1)\n",
    "Y = train[\"Response\"]"
   ]
  },
  {
   "cell_type": "code",
   "execution_count": 12,
   "metadata": {
    "execution": {
     "iopub.execute_input": "2020-09-20T21:22:24.874995Z",
     "iopub.status.busy": "2020-09-20T21:22:24.874167Z",
     "iopub.status.idle": "2020-09-20T21:22:24.877172Z",
     "shell.execute_reply": "2020-09-20T21:22:24.876473Z"
    },
    "papermill": {
     "duration": 0.036895,
     "end_time": "2020-09-20T21:22:24.877303",
     "exception": false,
     "start_time": "2020-09-20T21:22:24.840408",
     "status": "completed"
    },
    "tags": []
   },
   "outputs": [],
   "source": [
    "# #Check for Permutation Importance of Features\n",
    "# perm = PermutationImportance(lg,random_state=294).fit(X_val, y_val)\n",
    "# eli5.show_weights(perm,feature_names=X_val.columns.tolist())\n"
   ]
  },
  {
   "cell_type": "markdown",
   "metadata": {
    "papermill": {
     "duration": 0.029776,
     "end_time": "2020-09-20T21:22:24.937163",
     "exception": false,
     "start_time": "2020-09-20T21:22:24.907387",
     "status": "completed"
    },
    "tags": []
   },
   "source": [
    "# **KFold (LGBM)**"
   ]
  },
  {
   "cell_type": "code",
   "execution_count": 13,
   "metadata": {
    "execution": {
     "iopub.execute_input": "2020-09-20T21:22:25.013303Z",
     "iopub.status.busy": "2020-09-20T21:22:25.012492Z",
     "iopub.status.idle": "2020-09-20T21:24:52.728393Z",
     "shell.execute_reply": "2020-09-20T21:24:52.729007Z"
    },
    "papermill": {
     "duration": 147.761408,
     "end_time": "2020-09-20T21:24:52.729179",
     "exception": false,
     "start_time": "2020-09-20T21:22:24.967771",
     "status": "completed"
    },
    "tags": []
   },
   "outputs": [
    {
     "name": "stdout",
     "output_type": "stream",
     "text": [
      "\n",
      "Fold: 1\n",
      "\n",
      "0.860836584337104\n",
      "\n",
      "Fold: 2\n",
      "\n",
      "0.8562975486242043\n",
      "\n",
      "Fold: 3\n",
      "\n",
      "0.8566145605506816\n",
      "\n",
      "Fold: 4\n",
      "\n",
      "0.859856522434578\n",
      "\n",
      "Fold: 5\n",
      "\n",
      "0.8591829766483126\n",
      "\n",
      "Fold: 6\n",
      "\n",
      "0.8609477448370201\n",
      "\n",
      "Fold: 7\n",
      "\n",
      "0.8592914315428329\n",
      "\n",
      "Fold: 8\n",
      "\n",
      "0.8577529910910916\n",
      "\n",
      "Fold: 9\n",
      "\n",
      "0.8585657729499221\n",
      "\n",
      "Fold: 10\n",
      "\n",
      "0.8586601564880023\n",
      "mean_score: 0.8588006289503749\n"
     ]
    }
   ],
   "source": [
    "#Kfold\n",
    "kf=StratifiedKFold(n_splits=10,shuffle=True,random_state=294)\n",
    "pred_score=0\n",
    "preds=0\n",
    "\n",
    "for i, (train_idx,val_idx) in enumerate(kf.split(X,y)):\n",
    "    X_train,y_train=X.iloc[train_idx,:],y.iloc[train_idx]\n",
    "    X_val,y_val=X.iloc[val_idx,:],y.iloc[val_idx]\n",
    "    \n",
    "    print('\\nFold: {}\\n'.format(i+1))\n",
    "    \n",
    "    lg=LGBMClassifier(boosting_type='gbdt',n_estimators=500,depth=10,learning_rate=0.04,objective='binary',metric='auc',\n",
    "                 colsample_bytree=0.5,reg_lambda=2,reg_alpha=2,random_state=294,n_jobs=-1)      \n",
    "   \n",
    "\n",
    "    lg.fit(X_train,y_train)\n",
    "    print(roc_auc_score(y_val,lg.predict_proba(X_val)[:,1]))\n",
    "    \n",
    "    pred_score+=roc_auc_score(y_val,lg.predict_proba(X_val)[:,1])\n",
    "    \n",
    "    preds+=lg.predict_proba(X_main_test)[:,1]\n",
    "    \n",
    "print('mean_score: {}'.format(pred_score/10))\n",
    "\n",
    "preds_lg=preds/10\n",
    "\n",
    "    "
   ]
  },
  {
   "cell_type": "markdown",
   "metadata": {
    "papermill": {
     "duration": 0.037837,
     "end_time": "2020-09-20T21:24:52.805314",
     "exception": false,
     "start_time": "2020-09-20T21:24:52.767477",
     "status": "completed"
    },
    "tags": []
   },
   "source": [
    "# **KFold (Catboost)**"
   ]
  },
  {
   "cell_type": "code",
   "execution_count": 14,
   "metadata": {
    "execution": {
     "iopub.execute_input": "2020-09-20T21:24:52.896110Z",
     "iopub.status.busy": "2020-09-20T21:24:52.895277Z",
     "iopub.status.idle": "2020-09-20T21:33:55.409543Z",
     "shell.execute_reply": "2020-09-20T21:33:55.408784Z"
    },
    "papermill": {
     "duration": 542.566213,
     "end_time": "2020-09-20T21:33:55.409669",
     "exception": false,
     "start_time": "2020-09-20T21:24:52.843456",
     "status": "completed"
    },
    "tags": []
   },
   "outputs": [
    {
     "name": "stdout",
     "output_type": "stream",
     "text": [
      "\n",
      "Fold: 1\n",
      "\n",
      "0:\tlearn: 0.6481814\ttest: 0.6483084\tbest: 0.6483084 (0)\ttotal: 508ms\tremaining: 8m 27s\n",
      "100:\tlearn: 0.4202536\ttest: 0.4201356\tbest: 0.4201356 (100)\ttotal: 31.1s\tremaining: 4m 36s\n",
      "200:\tlearn: 0.4173929\ttest: 0.4188417\tbest: 0.4188358 (199)\ttotal: 1m 1s\tremaining: 4m 3s\n",
      "300:\tlearn: 0.4147912\ttest: 0.4183594\tbest: 0.4183356 (298)\ttotal: 1m 32s\tremaining: 3m 34s\n",
      "Stopped by overfitting detector  (30 iterations wait)\n",
      "\n",
      "bestTest = 0.4182746875\n",
      "bestIteration = 336\n",
      "\n",
      "Shrink model to first 337 iterations.\n",
      "Test ROC AUC : 0.8588\n",
      "\n",
      "Fold: 2\n",
      "\n",
      "0:\tlearn: 0.6481023\ttest: 0.6483166\tbest: 0.6483166 (0)\ttotal: 364ms\tremaining: 6m 3s\n",
      "100:\tlearn: 0.4196996\ttest: 0.4219979\tbest: 0.4219979 (100)\ttotal: 31.3s\tremaining: 4m 38s\n",
      "200:\tlearn: 0.4168768\ttest: 0.4207410\tbest: 0.4207410 (200)\ttotal: 1m 1s\tremaining: 4m 3s\n",
      "Stopped by overfitting detector  (30 iterations wait)\n",
      "\n",
      "bestTest = 0.4204972404\n",
      "bestIteration = 245\n",
      "\n",
      "Shrink model to first 246 iterations.\n",
      "Test ROC AUC : 0.8582\n",
      "\n",
      "Fold: 3\n",
      "\n",
      "0:\tlearn: 0.6477042\ttest: 0.6474354\tbest: 0.6474354 (0)\ttotal: 376ms\tremaining: 6m 15s\n",
      "100:\tlearn: 0.4201371\ttest: 0.4200591\tbest: 0.4200591 (100)\ttotal: 31.1s\tremaining: 4m 37s\n",
      "200:\tlearn: 0.4175681\ttest: 0.4189299\tbest: 0.4189147 (198)\ttotal: 1m 1s\tremaining: 4m 2s\n",
      "Stopped by overfitting detector  (30 iterations wait)\n",
      "\n",
      "bestTest = 0.4185933484\n",
      "bestIteration = 260\n",
      "\n",
      "Shrink model to first 261 iterations.\n",
      "Test ROC AUC : 0.8602\n",
      "\n",
      "Fold: 4\n",
      "\n",
      "0:\tlearn: 0.6476046\ttest: 0.6477214\tbest: 0.6477214 (0)\ttotal: 365ms\tremaining: 6m 4s\n",
      "100:\tlearn: 0.4193945\ttest: 0.4230326\tbest: 0.4230326 (100)\ttotal: 31.2s\tremaining: 4m 37s\n",
      "200:\tlearn: 0.4165916\ttest: 0.4213863\tbest: 0.4213863 (200)\ttotal: 1m 1s\tremaining: 4m 3s\n",
      "300:\tlearn: 0.4142125\ttest: 0.4206992\tbest: 0.4206992 (300)\ttotal: 1m 33s\tremaining: 3m 35s\n",
      "Stopped by overfitting detector  (30 iterations wait)\n",
      "\n",
      "bestTest = 0.4205230389\n",
      "bestIteration = 362\n",
      "\n",
      "Shrink model to first 363 iterations.\n",
      "Test ROC AUC : 0.8590\n",
      "\n",
      "Fold: 5\n",
      "\n",
      "0:\tlearn: 0.6471803\ttest: 0.6470303\tbest: 0.6470303 (0)\ttotal: 360ms\tremaining: 5m 59s\n",
      "100:\tlearn: 0.4198395\ttest: 0.4219135\tbest: 0.4219135 (100)\ttotal: 30.7s\tremaining: 4m 33s\n",
      "200:\tlearn: 0.4170117\ttest: 0.4203887\tbest: 0.4203795 (198)\ttotal: 1m\tremaining: 4m 1s\n",
      "300:\tlearn: 0.4147762\ttest: 0.4200016\tbest: 0.4199901 (294)\ttotal: 1m 32s\tremaining: 3m 33s\n",
      "Stopped by overfitting detector  (30 iterations wait)\n",
      "\n",
      "bestTest = 0.4198744618\n",
      "bestIteration = 332\n",
      "\n",
      "Shrink model to first 333 iterations.\n",
      "Test ROC AUC : 0.8591\n",
      "Mean test score: 0.8590630255785452\n"
     ]
    }
   ],
   "source": [
    "kf=StratifiedKFold(n_splits=5,shuffle=True,random_state=294)\n",
    "predictions=[]\n",
    "test_roc_score=[]\n",
    "\n",
    "    \n",
    "for i,(train_idx,val_idx) in enumerate(kf.split(X_cat,Y)):    \n",
    "\n",
    "    X_train, y_train = X_cat.iloc[train_idx,:], Y.iloc[train_idx]\n",
    "\n",
    "    X_val, y_val = X_cat.iloc[val_idx, :], Y.iloc[val_idx]\n",
    "    \n",
    "\n",
    "    print('\\nFold: {}\\n'.format(i+1))\n",
    "\n",
    "    classifier = CatBoostClassifier(learning_rate = 0.055,random_state=42,scale_pos_weight=7, custom_metric=['AUC'])\n",
    "\n",
    "    classifier.fit(X_train,y_train,cat_features=cat_col,eval_set=(X_val, y_val),early_stopping_rounds=30,verbose=100)\n",
    "    \n",
    "    testpred = classifier.predict_proba(X_val)[:,1]\n",
    "    test_roc_score.append(roc_auc_score(y_val, testpred))\n",
    "    print(\"Test ROC AUC : %.4f\"%(roc_auc_score(y_val, testpred)))\n",
    "    predictions.append(classifier.predict_proba(test)[:,1])\n",
    "\n",
    "print(\"Mean test score:\",np.mean(test_roc_score))\n",
    "preds_cb=np.mean(predictions,axis=0)"
   ]
  },
  {
   "cell_type": "code",
   "execution_count": 15,
   "metadata": {
    "execution": {
     "iopub.execute_input": "2020-09-20T21:33:55.520320Z",
     "iopub.status.busy": "2020-09-20T21:33:55.519187Z",
     "iopub.status.idle": "2020-09-20T21:33:56.297071Z",
     "shell.execute_reply": "2020-09-20T21:33:56.296408Z"
    },
    "papermill": {
     "duration": 0.835595,
     "end_time": "2020-09-20T21:33:56.297192",
     "exception": false,
     "start_time": "2020-09-20T21:33:55.461597",
     "status": "completed"
    },
    "tags": []
   },
   "outputs": [
    {
     "data": {
      "text/html": [
       "<div>\n",
       "<style scoped>\n",
       "    .dataframe tbody tr th:only-of-type {\n",
       "        vertical-align: middle;\n",
       "    }\n",
       "\n",
       "    .dataframe tbody tr th {\n",
       "        vertical-align: top;\n",
       "    }\n",
       "\n",
       "    .dataframe thead th {\n",
       "        text-align: right;\n",
       "    }\n",
       "</style>\n",
       "<table border=\"1\" class=\"dataframe\">\n",
       "  <thead>\n",
       "    <tr style=\"text-align: right;\">\n",
       "      <th></th>\n",
       "      <th>id</th>\n",
       "      <th>Response</th>\n",
       "    </tr>\n",
       "  </thead>\n",
       "  <tbody>\n",
       "    <tr>\n",
       "      <th>0</th>\n",
       "      <td>381110</td>\n",
       "      <td>0.001311</td>\n",
       "    </tr>\n",
       "    <tr>\n",
       "      <th>1</th>\n",
       "      <td>381111</td>\n",
       "      <td>0.476620</td>\n",
       "    </tr>\n",
       "    <tr>\n",
       "      <th>2</th>\n",
       "      <td>381112</td>\n",
       "      <td>0.506983</td>\n",
       "    </tr>\n",
       "    <tr>\n",
       "      <th>3</th>\n",
       "      <td>381113</td>\n",
       "      <td>0.014627</td>\n",
       "    </tr>\n",
       "    <tr>\n",
       "      <th>4</th>\n",
       "      <td>381114</td>\n",
       "      <td>0.001286</td>\n",
       "    </tr>\n",
       "  </tbody>\n",
       "</table>\n",
       "</div>"
      ],
      "text/plain": [
       "       id  Response\n",
       "0  381110  0.001311\n",
       "1  381111  0.476620\n",
       "2  381112  0.506983\n",
       "3  381113  0.014627\n",
       "4  381114  0.001286"
      ]
     },
     "execution_count": 15,
     "metadata": {},
     "output_type": "execute_result"
    }
   ],
   "source": [
    "#Submission File\n",
    "submission_df['Response']=preds_lg*0.6+preds_cb*0.4\n",
    "submission_df.to_csv('main_test.csv',index=False)\n",
    "submission_df.head(5)\n",
    "# np.array(lg.predict_proba(X_main_test)[:,1])"
   ]
  },
  {
   "cell_type": "markdown",
   "metadata": {
    "papermill": {
     "duration": 0.052368,
     "end_time": "2020-09-20T21:33:56.402079",
     "exception": false,
     "start_time": "2020-09-20T21:33:56.349711",
     "status": "completed"
    },
    "tags": []
   },
   "source": [
    "# **If you like the notebook please upvote**\n",
    "\n",
    "# **Thank You :)**"
   ]
  }
 ],
 "metadata": {
  "kernelspec": {
   "display_name": "Python 3",
   "language": "python",
   "name": "python3"
  },
  "language_info": {
   "codemirror_mode": {
    "name": "ipython",
    "version": 3
   },
   "file_extension": ".py",
   "mimetype": "text/x-python",
   "name": "python",
   "nbconvert_exporter": "python",
   "pygments_lexer": "ipython3",
   "version": "3.7.6"
  },
  "papermill": {
   "duration": 714.964747,
   "end_time": "2020-09-20T21:33:56.566272",
   "environment_variables": {},
   "exception": null,
   "input_path": "__notebook__.ipynb",
   "output_path": "__notebook__.ipynb",
   "parameters": {},
   "start_time": "2020-09-20T21:22:01.601525",
   "version": "2.1.0"
  }
 },
 "nbformat": 4,
 "nbformat_minor": 4
}
