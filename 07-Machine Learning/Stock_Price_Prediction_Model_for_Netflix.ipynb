{
  "nbformat": 4,
  "nbformat_minor": 0,
  "metadata": {
    "colab": {
      "name": "Stock Price Prediction Model for Netflix.ipynb",
      "provenance": [],
      "authorship_tag": "ABX9TyOqAk82CdHDtgZgT78KCzH0",
      "include_colab_link": true
    },
    "kernelspec": {
      "name": "python3",
      "display_name": "Python 3"
    }
  },
  "cells": [
    {
      "cell_type": "markdown",
      "metadata": {
        "id": "view-in-github",
        "colab_type": "text"
      },
      "source": [
        "<a href=\"https://colab.research.google.com/github/plthiyagu/Personnel/blob/master/Stock_Price_Prediction_Model_for_Netflix.ipynb\" target=\"_parent\"><img src=\"https://colab.research.google.com/assets/colab-badge.svg\" alt=\"Open In Colab\"/></a>"
      ]
    },
    {
      "cell_type": "code",
      "metadata": {
        "id": "FeOmD6HOrciZ",
        "colab_type": "code",
        "colab": {
          "base_uri": "https://localhost:8080/",
          "height": 71
        },
        "outputId": "1bbfd385-2833-440a-fed9-9ca9e3372e26"
      },
      "source": [
        "import pandas as pd\n",
        "from sklearn.linear_model import LinearRegression\n",
        "from sklearn.model_selection import train_test_split\n",
        "import matplotlib.pyplot as plt\n",
        "import numpy as np\n",
        "import pandas_datareader as web"
      ],
      "execution_count": 1,
      "outputs": [
        {
          "output_type": "stream",
          "text": [
            "/usr/local/lib/python3.6/dist-packages/pandas_datareader/compat/__init__.py:7: FutureWarning: pandas.util.testing is deprecated. Use the functions in the public API at pandas.testing instead.\n",
            "  from pandas.util.testing import assert_frame_equal\n"
          ],
          "name": "stderr"
        }
      ]
    },
    {
      "cell_type": "code",
      "metadata": {
        "id": "ZRY2DgyHLahf",
        "colab_type": "code",
        "colab": {
          "base_uri": "https://localhost:8080/",
          "height": 390
        },
        "outputId": "ac288658-5b31-4752-e37f-8de2a9b4c3aa"
      },
      "source": [
        "from datetime import *\n",
        "import pandas_datareader.data as data\n",
        "start = datetime(2012, 1, 1)\n",
        "end = datetime.now()\n",
        "#df = web.DataReader('NFLX', data_source='yahoo', start, end)\n",
        "df = data.DataReader('INPX', 'yahoo', start, end)\n",
        "df.tail(10)"
      ],
      "execution_count": 2,
      "outputs": [
        {
          "output_type": "execute_result",
          "data": {
            "text/html": [
              "<div>\n",
              "<style scoped>\n",
              "    .dataframe tbody tr th:only-of-type {\n",
              "        vertical-align: middle;\n",
              "    }\n",
              "\n",
              "    .dataframe tbody tr th {\n",
              "        vertical-align: top;\n",
              "    }\n",
              "\n",
              "    .dataframe thead th {\n",
              "        text-align: right;\n",
              "    }\n",
              "</style>\n",
              "<table border=\"1\" class=\"dataframe\">\n",
              "  <thead>\n",
              "    <tr style=\"text-align: right;\">\n",
              "      <th></th>\n",
              "      <th>High</th>\n",
              "      <th>Low</th>\n",
              "      <th>Open</th>\n",
              "      <th>Close</th>\n",
              "      <th>Volume</th>\n",
              "      <th>Adj Close</th>\n",
              "    </tr>\n",
              "    <tr>\n",
              "      <th>Date</th>\n",
              "      <th></th>\n",
              "      <th></th>\n",
              "      <th></th>\n",
              "      <th></th>\n",
              "      <th></th>\n",
              "      <th></th>\n",
              "    </tr>\n",
              "  </thead>\n",
              "  <tbody>\n",
              "    <tr>\n",
              "      <th>2020-05-11</th>\n",
              "      <td>1.19</td>\n",
              "      <td>1.06</td>\n",
              "      <td>1.11</td>\n",
              "      <td>1.12</td>\n",
              "      <td>6185600.0</td>\n",
              "      <td>1.12</td>\n",
              "    </tr>\n",
              "    <tr>\n",
              "      <th>2020-05-12</th>\n",
              "      <td>1.44</td>\n",
              "      <td>1.13</td>\n",
              "      <td>1.29</td>\n",
              "      <td>1.24</td>\n",
              "      <td>26776800.0</td>\n",
              "      <td>1.24</td>\n",
              "    </tr>\n",
              "    <tr>\n",
              "      <th>2020-05-13</th>\n",
              "      <td>1.26</td>\n",
              "      <td>1.08</td>\n",
              "      <td>1.26</td>\n",
              "      <td>1.14</td>\n",
              "      <td>4915300.0</td>\n",
              "      <td>1.14</td>\n",
              "    </tr>\n",
              "    <tr>\n",
              "      <th>2020-05-14</th>\n",
              "      <td>1.38</td>\n",
              "      <td>1.10</td>\n",
              "      <td>1.13</td>\n",
              "      <td>1.20</td>\n",
              "      <td>17628500.0</td>\n",
              "      <td>1.20</td>\n",
              "    </tr>\n",
              "    <tr>\n",
              "      <th>2020-05-15</th>\n",
              "      <td>1.24</td>\n",
              "      <td>1.15</td>\n",
              "      <td>1.23</td>\n",
              "      <td>1.17</td>\n",
              "      <td>4602500.0</td>\n",
              "      <td>1.17</td>\n",
              "    </tr>\n",
              "    <tr>\n",
              "      <th>2020-05-18</th>\n",
              "      <td>1.32</td>\n",
              "      <td>1.17</td>\n",
              "      <td>1.17</td>\n",
              "      <td>1.19</td>\n",
              "      <td>14601400.0</td>\n",
              "      <td>1.19</td>\n",
              "    </tr>\n",
              "    <tr>\n",
              "      <th>2020-05-19</th>\n",
              "      <td>1.42</td>\n",
              "      <td>1.23</td>\n",
              "      <td>1.29</td>\n",
              "      <td>1.29</td>\n",
              "      <td>22406600.0</td>\n",
              "      <td>1.29</td>\n",
              "    </tr>\n",
              "    <tr>\n",
              "      <th>2020-05-20</th>\n",
              "      <td>1.58</td>\n",
              "      <td>1.31</td>\n",
              "      <td>1.44</td>\n",
              "      <td>1.44</td>\n",
              "      <td>19017600.0</td>\n",
              "      <td>1.44</td>\n",
              "    </tr>\n",
              "    <tr>\n",
              "      <th>2020-05-21</th>\n",
              "      <td>1.43</td>\n",
              "      <td>1.26</td>\n",
              "      <td>1.43</td>\n",
              "      <td>1.30</td>\n",
              "      <td>7398200.0</td>\n",
              "      <td>1.30</td>\n",
              "    </tr>\n",
              "    <tr>\n",
              "      <th>2020-05-22</th>\n",
              "      <td>1.34</td>\n",
              "      <td>1.25</td>\n",
              "      <td>1.26</td>\n",
              "      <td>1.32</td>\n",
              "      <td>3239600.0</td>\n",
              "      <td>1.32</td>\n",
              "    </tr>\n",
              "  </tbody>\n",
              "</table>\n",
              "</div>"
            ],
            "text/plain": [
              "            High   Low  Open  Close      Volume  Adj Close\n",
              "Date                                                      \n",
              "2020-05-11  1.19  1.06  1.11   1.12   6185600.0       1.12\n",
              "2020-05-12  1.44  1.13  1.29   1.24  26776800.0       1.24\n",
              "2020-05-13  1.26  1.08  1.26   1.14   4915300.0       1.14\n",
              "2020-05-14  1.38  1.10  1.13   1.20  17628500.0       1.20\n",
              "2020-05-15  1.24  1.15  1.23   1.17   4602500.0       1.17\n",
              "2020-05-18  1.32  1.17  1.17   1.19  14601400.0       1.19\n",
              "2020-05-19  1.42  1.23  1.29   1.29  22406600.0       1.29\n",
              "2020-05-20  1.58  1.31  1.44   1.44  19017600.0       1.44\n",
              "2020-05-21  1.43  1.26  1.43   1.30   7398200.0       1.30\n",
              "2020-05-22  1.34  1.25  1.26   1.32   3239600.0       1.32"
            ]
          },
          "metadata": {
            "tags": []
          },
          "execution_count": 2
        }
      ]
    },
    {
      "cell_type": "code",
      "metadata": {
        "id": "3F5MRkPtNemZ",
        "colab_type": "code",
        "colab": {
          "base_uri": "https://localhost:8080/",
          "height": 297
        },
        "outputId": "93b28404-522f-4e17-fde5-65aff94d6d1f"
      },
      "source": [
        "df.reset_index(inplace=True)\n",
        "df.describe()"
      ],
      "execution_count": 3,
      "outputs": [
        {
          "output_type": "execute_result",
          "data": {
            "text/html": [
              "<div>\n",
              "<style scoped>\n",
              "    .dataframe tbody tr th:only-of-type {\n",
              "        vertical-align: middle;\n",
              "    }\n",
              "\n",
              "    .dataframe tbody tr th {\n",
              "        vertical-align: top;\n",
              "    }\n",
              "\n",
              "    .dataframe thead th {\n",
              "        text-align: right;\n",
              "    }\n",
              "</style>\n",
              "<table border=\"1\" class=\"dataframe\">\n",
              "  <thead>\n",
              "    <tr style=\"text-align: right;\">\n",
              "      <th></th>\n",
              "      <th>High</th>\n",
              "      <th>Low</th>\n",
              "      <th>Open</th>\n",
              "      <th>Close</th>\n",
              "      <th>Volume</th>\n",
              "      <th>Adj Close</th>\n",
              "    </tr>\n",
              "  </thead>\n",
              "  <tbody>\n",
              "    <tr>\n",
              "      <th>count</th>\n",
              "      <td>1.963000e+03</td>\n",
              "      <td>1.963000e+03</td>\n",
              "      <td>1.963000e+03</td>\n",
              "      <td>1.963000e+03</td>\n",
              "      <td>1.963000e+03</td>\n",
              "      <td>1.963000e+03</td>\n",
              "    </tr>\n",
              "    <tr>\n",
              "      <th>mean</th>\n",
              "      <td>9.856270e+05</td>\n",
              "      <td>9.066313e+05</td>\n",
              "      <td>9.474865e+05</td>\n",
              "      <td>9.455731e+05</td>\n",
              "      <td>5.851020e+05</td>\n",
              "      <td>9.455731e+05</td>\n",
              "    </tr>\n",
              "    <tr>\n",
              "      <th>std</th>\n",
              "      <td>1.597580e+06</td>\n",
              "      <td>1.443565e+06</td>\n",
              "      <td>1.517082e+06</td>\n",
              "      <td>1.512929e+06</td>\n",
              "      <td>7.488612e+06</td>\n",
              "      <td>1.512929e+06</td>\n",
              "    </tr>\n",
              "    <tr>\n",
              "      <th>min</th>\n",
              "      <td>1.110000e+00</td>\n",
              "      <td>1.010000e+00</td>\n",
              "      <td>1.090000e+00</td>\n",
              "      <td>1.060000e+00</td>\n",
              "      <td>0.000000e+00</td>\n",
              "      <td>1.060000e+00</td>\n",
              "    </tr>\n",
              "    <tr>\n",
              "      <th>25%</th>\n",
              "      <td>6.480000e+02</td>\n",
              "      <td>5.967000e+02</td>\n",
              "      <td>6.336000e+02</td>\n",
              "      <td>6.291000e+02</td>\n",
              "      <td>0.000000e+00</td>\n",
              "      <td>6.291000e+02</td>\n",
              "    </tr>\n",
              "    <tr>\n",
              "      <th>50%</th>\n",
              "      <td>3.240000e+05</td>\n",
              "      <td>3.045600e+05</td>\n",
              "      <td>3.240000e+05</td>\n",
              "      <td>3.240000e+05</td>\n",
              "      <td>0.000000e+00</td>\n",
              "      <td>3.240000e+05</td>\n",
              "    </tr>\n",
              "    <tr>\n",
              "      <th>75%</th>\n",
              "      <td>1.259550e+06</td>\n",
              "      <td>1.166400e+06</td>\n",
              "      <td>1.215000e+06</td>\n",
              "      <td>1.215000e+06</td>\n",
              "      <td>1.000000e+03</td>\n",
              "      <td>1.215000e+06</td>\n",
              "    </tr>\n",
              "    <tr>\n",
              "      <th>max</th>\n",
              "      <td>1.459620e+07</td>\n",
              "      <td>1.053000e+07</td>\n",
              "      <td>1.053000e+07</td>\n",
              "      <td>1.053000e+07</td>\n",
              "      <td>3.200642e+08</td>\n",
              "      <td>1.053000e+07</td>\n",
              "    </tr>\n",
              "  </tbody>\n",
              "</table>\n",
              "</div>"
            ],
            "text/plain": [
              "               High           Low  ...        Volume     Adj Close\n",
              "count  1.963000e+03  1.963000e+03  ...  1.963000e+03  1.963000e+03\n",
              "mean   9.856270e+05  9.066313e+05  ...  5.851020e+05  9.455731e+05\n",
              "std    1.597580e+06  1.443565e+06  ...  7.488612e+06  1.512929e+06\n",
              "min    1.110000e+00  1.010000e+00  ...  0.000000e+00  1.060000e+00\n",
              "25%    6.480000e+02  5.967000e+02  ...  0.000000e+00  6.291000e+02\n",
              "50%    3.240000e+05  3.045600e+05  ...  0.000000e+00  3.240000e+05\n",
              "75%    1.259550e+06  1.166400e+06  ...  1.000000e+03  1.215000e+06\n",
              "max    1.459620e+07  1.053000e+07  ...  3.200642e+08  1.053000e+07\n",
              "\n",
              "[8 rows x 6 columns]"
            ]
          },
          "metadata": {
            "tags": []
          },
          "execution_count": 3
        }
      ]
    },
    {
      "cell_type": "code",
      "metadata": {
        "id": "BYGnxNZ_Njww",
        "colab_type": "code",
        "colab": {}
      },
      "source": [
        ""
      ],
      "execution_count": 0,
      "outputs": []
    },
    {
      "cell_type": "code",
      "metadata": {
        "id": "fjU6ODo8M9oK",
        "colab_type": "code",
        "colab": {
          "base_uri": "https://localhost:8080/",
          "height": 235
        },
        "outputId": "e3bbc5b9-4b7d-4b0e-be18-957396009d1a"
      },
      "source": [
        "corr = df.corr(method='pearson')\n",
        "corr"
      ],
      "execution_count": 4,
      "outputs": [
        {
          "output_type": "execute_result",
          "data": {
            "text/html": [
              "<div>\n",
              "<style scoped>\n",
              "    .dataframe tbody tr th:only-of-type {\n",
              "        vertical-align: middle;\n",
              "    }\n",
              "\n",
              "    .dataframe tbody tr th {\n",
              "        vertical-align: top;\n",
              "    }\n",
              "\n",
              "    .dataframe thead th {\n",
              "        text-align: right;\n",
              "    }\n",
              "</style>\n",
              "<table border=\"1\" class=\"dataframe\">\n",
              "  <thead>\n",
              "    <tr style=\"text-align: right;\">\n",
              "      <th></th>\n",
              "      <th>High</th>\n",
              "      <th>Low</th>\n",
              "      <th>Open</th>\n",
              "      <th>Close</th>\n",
              "      <th>Volume</th>\n",
              "      <th>Adj Close</th>\n",
              "    </tr>\n",
              "  </thead>\n",
              "  <tbody>\n",
              "    <tr>\n",
              "      <th>High</th>\n",
              "      <td>1.000000</td>\n",
              "      <td>0.993373</td>\n",
              "      <td>0.995854</td>\n",
              "      <td>0.995876</td>\n",
              "      <td>-0.048228</td>\n",
              "      <td>0.995876</td>\n",
              "    </tr>\n",
              "    <tr>\n",
              "      <th>Low</th>\n",
              "      <td>0.993373</td>\n",
              "      <td>1.000000</td>\n",
              "      <td>0.996783</td>\n",
              "      <td>0.996908</td>\n",
              "      <td>-0.049096</td>\n",
              "      <td>0.996908</td>\n",
              "    </tr>\n",
              "    <tr>\n",
              "      <th>Open</th>\n",
              "      <td>0.995854</td>\n",
              "      <td>0.996783</td>\n",
              "      <td>1.000000</td>\n",
              "      <td>0.995682</td>\n",
              "      <td>-0.048821</td>\n",
              "      <td>0.995682</td>\n",
              "    </tr>\n",
              "    <tr>\n",
              "      <th>Close</th>\n",
              "      <td>0.995876</td>\n",
              "      <td>0.996908</td>\n",
              "      <td>0.995682</td>\n",
              "      <td>1.000000</td>\n",
              "      <td>-0.048857</td>\n",
              "      <td>1.000000</td>\n",
              "    </tr>\n",
              "    <tr>\n",
              "      <th>Volume</th>\n",
              "      <td>-0.048228</td>\n",
              "      <td>-0.049096</td>\n",
              "      <td>-0.048821</td>\n",
              "      <td>-0.048857</td>\n",
              "      <td>1.000000</td>\n",
              "      <td>-0.048857</td>\n",
              "    </tr>\n",
              "    <tr>\n",
              "      <th>Adj Close</th>\n",
              "      <td>0.995876</td>\n",
              "      <td>0.996908</td>\n",
              "      <td>0.995682</td>\n",
              "      <td>1.000000</td>\n",
              "      <td>-0.048857</td>\n",
              "      <td>1.000000</td>\n",
              "    </tr>\n",
              "  </tbody>\n",
              "</table>\n",
              "</div>"
            ],
            "text/plain": [
              "               High       Low      Open     Close    Volume  Adj Close\n",
              "High       1.000000  0.993373  0.995854  0.995876 -0.048228   0.995876\n",
              "Low        0.993373  1.000000  0.996783  0.996908 -0.049096   0.996908\n",
              "Open       0.995854  0.996783  1.000000  0.995682 -0.048821   0.995682\n",
              "Close      0.995876  0.996908  0.995682  1.000000 -0.048857   1.000000\n",
              "Volume    -0.048228 -0.049096 -0.048821 -0.048857  1.000000  -0.048857\n",
              "Adj Close  0.995876  0.996908  0.995682  1.000000 -0.048857   1.000000"
            ]
          },
          "metadata": {
            "tags": []
          },
          "execution_count": 4
        }
      ]
    },
    {
      "cell_type": "code",
      "metadata": {
        "id": "tGUh_i0_NrqP",
        "colab_type": "code",
        "colab": {
          "base_uri": "https://localhost:8080/",
          "height": 286
        },
        "outputId": "5d9e000c-6918-4d30-cfa1-f7770353ad7f"
      },
      "source": [
        "import seaborn as sb\n",
        "sb.heatmap(corr,xticklabels=corr.columns, yticklabels=corr.columns,\n",
        "            cmap='RdBu_r', annot=True, linewidth=0.5)\n"
      ],
      "execution_count": 5,
      "outputs": [
        {
          "output_type": "execute_result",
          "data": {
            "text/plain": [
              "<matplotlib.axes._subplots.AxesSubplot at 0x7fb551bbfa90>"
            ]
          },
          "metadata": {
            "tags": []
          },
          "execution_count": 5
        },
        {
          "output_type": "display_data",
          "data": {
            "image/png": "[encoded data removed]",
            "text/plain": [
              "<Figure size 432x288 with 2 Axes>"
            ]
          },
          "metadata": {
            "tags": [],
            "needs_background": "light"
          }
        }
      ]
    },
    {
      "cell_type": "code",
      "metadata": {
        "id": "lWXF8fu9OAbK",
        "colab_type": "code",
        "colab": {
          "base_uri": "https://localhost:8080/",
          "height": 521
        },
        "outputId": "2923bbbc-624d-43c3-d2b3-f9ded97341a2"
      },
      "source": [
        "#prepare dataset to work with \n",
        "nflx_df=df[['Date','High','Open','Low','Close']]\n",
        "nflx_df.head(10)\n",
        "plt.figure(figsize=(16,8))\n",
        "plt.title('Netflix Stocks Closing Price History 2012-2020')\n",
        "plt.plot(nflx_df['Date'],nflx_df['Close'])\n",
        "plt.xlabel('Date',fontsize=18)\n",
        "plt.ylabel('Close Price US($)',fontsize=18)\n",
        "plt.style.use('fivethirtyeight')\n",
        "plt.show()"
      ],
      "execution_count": 6,
      "outputs": [
        {
          "output_type": "display_data",
          "data": {
            "image/png": "[encoded data removed]",
            "text/plain": [
              "<Figure size 1152x576 with 1 Axes>"
            ]
          },
          "metadata": {
            "tags": [],
            "needs_background": "light"
          }
        }
      ]
    },
    {
      "cell_type": "code",
      "metadata": {
        "id": "MkeoxwPyOMC0",
        "colab_type": "code",
        "colab": {
          "base_uri": "https://localhost:8080/",
          "height": 519
        },
        "outputId": "6da69baa-c563-4b4f-b2d0-761a1ca91efe"
      },
      "source": [
        "#Plot Open vs Close\n",
        "nflx_df[['Open','Close']].head(20).plot(kind='bar',figsize=(16,8))\n",
        "plt.grid(which='major', linestyle='-', linewidth='0.5', color='green')\n",
        "plt.grid(which='minor', linestyle=':', linewidth='0.5', color='black')\n",
        "plt.show()\n"
      ],
      "execution_count": 7,
      "outputs": [
        {
          "output_type": "display_data",
          "data": {
            "image/png": "[encoded data removed]",
            "text/plain": [
              "<Figure size 1152x576 with 1 Axes>"
            ]
          },
          "metadata": {
            "tags": []
          }
        }
      ]
    },
    {
      "cell_type": "code",
      "metadata": {
        "id": "QBQNihOrOhzN",
        "colab_type": "code",
        "colab": {
          "base_uri": "https://localhost:8080/",
          "height": 519
        },
        "outputId": "88057c32-c4d2-4ba5-b164-ff21922abcaf"
      },
      "source": [
        "#Plot High vs Close\n",
        "nflx_df[['High','Close']].head(20).plot(kind='bar',figsize=(16,8))\n",
        "plt.grid(which='major', linestyle='-', linewidth='0.5', color='green')\n",
        "plt.grid(which='minor', linestyle=':', linewidth='0.5', color='black')\n",
        "plt.show()"
      ],
      "execution_count": 8,
      "outputs": [
        {
          "output_type": "display_data",
          "data": {
            "image/png": "[encoded data removed]",
            "text/plain": [
              "<Figure size 1152x576 with 1 Axes>"
            ]
          },
          "metadata": {
            "tags": []
          }
        }
      ]
    },
    {
      "cell_type": "code",
      "metadata": {
        "id": "yGe5oFAbOlqj",
        "colab_type": "code",
        "colab": {
          "base_uri": "https://localhost:8080/",
          "height": 519
        },
        "outputId": "5c77bc57-1927-4900-ecc8-38ae3c46c8ae"
      },
      "source": [
        "#Plot Low vs Close\n",
        "nflx_df[['Low','Close']].head(20).plot(kind='bar',figsize=(16,8))\n",
        "plt.grid(which='major', linestyle='-', linewidth='0.5', color='green')\n",
        "plt.grid(which='minor', linestyle=':', linewidth='0.5', color='black')\n",
        "plt.show()"
      ],
      "execution_count": 9,
      "outputs": [
        {
          "output_type": "display_data",
          "data": {
            "image/png": "[encoded data removed]",
            "text/plain": [
              "<Figure size 1152x576 with 1 Axes>"
            ]
          },
          "metadata": {
            "tags": []
          }
        }
      ]
    },
    {
      "cell_type": "code",
      "metadata": {
        "id": "xTm9Jx3ZOx5I",
        "colab_type": "code",
        "colab": {
          "base_uri": "https://localhost:8080/",
          "height": 119
        },
        "outputId": "f546b668-7f95-4f05-c998-ad95ece480c3"
      },
      "source": [
        "#Date format is DateTime and it will throw error while training so I have created seperate month, year and date entities\n",
        "nflx_df['Year']=df['Date'].dt.year\n",
        "nflx_df['Month']=df['Date'].dt.month\n",
        "nflx_df['Day']=df['Date'].dt.day\n"
      ],
      "execution_count": 10,
      "outputs": [
        {
          "output_type": "stream",
          "text": [
            "/usr/local/lib/python3.6/dist-packages/ipykernel_launcher.py:2: SettingWithCopyWarning: \n",
            "A value is trying to be set on a copy of a slice from a DataFrame.\n",
            "Try using .loc[row_indexer,col_indexer] = value instead\n",
            "\n",
            "See the caveats in the documentation: https://pandas.pydata.org/pandas-docs/stable/user_guide/indexing.html#returning-a-view-versus-a-copy\n",
            "  \n"
          ],
          "name": "stderr"
        }
      ]
    },
    {
      "cell_type": "code",
      "metadata": {
        "id": "LQKpr83YOvU3",
        "colab_type": "code",
        "colab": {
          "base_uri": "https://localhost:8080/",
          "height": 359
        },
        "outputId": "90863074-90a7-42ea-b5bb-43d4b4ee9f62"
      },
      "source": [
        "nfx_df=nflx_df[['Day','Month','Year','High','Open','Low','Close']]\n",
        "nfx_df.head(10)\n"
      ],
      "execution_count": 11,
      "outputs": [
        {
          "output_type": "execute_result",
          "data": {
            "text/html": [
              "<div>\n",
              "<style scoped>\n",
              "    .dataframe tbody tr th:only-of-type {\n",
              "        vertical-align: middle;\n",
              "    }\n",
              "\n",
              "    .dataframe tbody tr th {\n",
              "        vertical-align: top;\n",
              "    }\n",
              "\n",
              "    .dataframe thead th {\n",
              "        text-align: right;\n",
              "    }\n",
              "</style>\n",
              "<table border=\"1\" class=\"dataframe\">\n",
              "  <thead>\n",
              "    <tr style=\"text-align: right;\">\n",
              "      <th></th>\n",
              "      <th>Day</th>\n",
              "      <th>Month</th>\n",
              "      <th>Year</th>\n",
              "      <th>High</th>\n",
              "      <th>Open</th>\n",
              "      <th>Low</th>\n",
              "      <th>Close</th>\n",
              "    </tr>\n",
              "  </thead>\n",
              "  <tbody>\n",
              "    <tr>\n",
              "      <th>0</th>\n",
              "      <td>3</td>\n",
              "      <td>8</td>\n",
              "      <td>2012</td>\n",
              "      <td>680400.0</td>\n",
              "      <td>680400.0</td>\n",
              "      <td>680400.0</td>\n",
              "      <td>680400.0</td>\n",
              "    </tr>\n",
              "    <tr>\n",
              "      <th>1</th>\n",
              "      <td>6</td>\n",
              "      <td>8</td>\n",
              "      <td>2012</td>\n",
              "      <td>680400.0</td>\n",
              "      <td>680400.0</td>\n",
              "      <td>680400.0</td>\n",
              "      <td>680400.0</td>\n",
              "    </tr>\n",
              "    <tr>\n",
              "      <th>2</th>\n",
              "      <td>7</td>\n",
              "      <td>8</td>\n",
              "      <td>2012</td>\n",
              "      <td>243000.0</td>\n",
              "      <td>243000.0</td>\n",
              "      <td>243000.0</td>\n",
              "      <td>243000.0</td>\n",
              "    </tr>\n",
              "    <tr>\n",
              "      <th>3</th>\n",
              "      <td>8</td>\n",
              "      <td>8</td>\n",
              "      <td>2012</td>\n",
              "      <td>243000.0</td>\n",
              "      <td>243000.0</td>\n",
              "      <td>243000.0</td>\n",
              "      <td>243000.0</td>\n",
              "    </tr>\n",
              "    <tr>\n",
              "      <th>4</th>\n",
              "      <td>9</td>\n",
              "      <td>8</td>\n",
              "      <td>2012</td>\n",
              "      <td>729000.0</td>\n",
              "      <td>729000.0</td>\n",
              "      <td>729000.0</td>\n",
              "      <td>729000.0</td>\n",
              "    </tr>\n",
              "    <tr>\n",
              "      <th>5</th>\n",
              "      <td>10</td>\n",
              "      <td>8</td>\n",
              "      <td>2012</td>\n",
              "      <td>729000.0</td>\n",
              "      <td>729000.0</td>\n",
              "      <td>729000.0</td>\n",
              "      <td>729000.0</td>\n",
              "    </tr>\n",
              "    <tr>\n",
              "      <th>6</th>\n",
              "      <td>13</td>\n",
              "      <td>8</td>\n",
              "      <td>2012</td>\n",
              "      <td>729000.0</td>\n",
              "      <td>729000.0</td>\n",
              "      <td>729000.0</td>\n",
              "      <td>729000.0</td>\n",
              "    </tr>\n",
              "    <tr>\n",
              "      <th>7</th>\n",
              "      <td>14</td>\n",
              "      <td>8</td>\n",
              "      <td>2012</td>\n",
              "      <td>243000.0</td>\n",
              "      <td>243000.0</td>\n",
              "      <td>243000.0</td>\n",
              "      <td>243000.0</td>\n",
              "    </tr>\n",
              "    <tr>\n",
              "      <th>8</th>\n",
              "      <td>15</td>\n",
              "      <td>8</td>\n",
              "      <td>2012</td>\n",
              "      <td>243000.0</td>\n",
              "      <td>243000.0</td>\n",
              "      <td>243000.0</td>\n",
              "      <td>243000.0</td>\n",
              "    </tr>\n",
              "    <tr>\n",
              "      <th>9</th>\n",
              "      <td>16</td>\n",
              "      <td>8</td>\n",
              "      <td>2012</td>\n",
              "      <td>826200.0</td>\n",
              "      <td>826200.0</td>\n",
              "      <td>826200.0</td>\n",
              "      <td>826200.0</td>\n",
              "    </tr>\n",
              "  </tbody>\n",
              "</table>\n",
              "</div>"
            ],
            "text/plain": [
              "   Day  Month  Year      High      Open       Low     Close\n",
              "0    3      8  2012  680400.0  680400.0  680400.0  680400.0\n",
              "1    6      8  2012  680400.0  680400.0  680400.0  680400.0\n",
              "2    7      8  2012  243000.0  243000.0  243000.0  243000.0\n",
              "3    8      8  2012  243000.0  243000.0  243000.0  243000.0\n",
              "4    9      8  2012  729000.0  729000.0  729000.0  729000.0\n",
              "5   10      8  2012  729000.0  729000.0  729000.0  729000.0\n",
              "6   13      8  2012  729000.0  729000.0  729000.0  729000.0\n",
              "7   14      8  2012  243000.0  243000.0  243000.0  243000.0\n",
              "8   15      8  2012  243000.0  243000.0  243000.0  243000.0\n",
              "9   16      8  2012  826200.0  826200.0  826200.0  826200.0"
            ]
          },
          "metadata": {
            "tags": []
          },
          "execution_count": 11
        }
      ]
    },
    {
      "cell_type": "code",
      "metadata": {
        "id": "jdU8aU5dOqWa",
        "colab_type": "code",
        "colab": {
          "base_uri": "https://localhost:8080/",
          "height": 51
        },
        "outputId": "267ec33a-b10d-461f-88a4-9f30dd950e77"
      },
      "source": [
        "#separate Independent and dependent variable\n",
        "X = nfx_df.iloc[:,nfx_df.columns !='Close']\n",
        "Y= nfx_df.iloc[:, 5]\n",
        "print(X.shape)  #output: (2093, 6)\n",
        "print(Y.shape) #output: (2093,)\n"
      ],
      "execution_count": 12,
      "outputs": [
        {
          "output_type": "stream",
          "text": [
            "(1963, 6)\n",
            "(1963,)\n"
          ],
          "name": "stdout"
        }
      ]
    },
    {
      "cell_type": "code",
      "metadata": {
        "id": "ROYVqgXoQlGv",
        "colab_type": "code",
        "colab": {
          "base_uri": "https://localhost:8080/",
          "height": 85
        },
        "outputId": "0ef47620-c83d-4d32-f564-760234c7f05a"
      },
      "source": [
        "from sklearn.model_selection import train_test_split\n",
        "x_train,x_test,y_train,y_test= train_test_split(X,Y,test_size=.25)\n",
        "print(x_train.shape) #output: (1569, 6)\n",
        "print(x_test.shape)  #output: (524, 6)  \n",
        "print(y_train.shape) #output: (1569,)\n",
        "print(y_test.shape)  #output: (524,)\n",
        "#y_test to be evaluated with y_pred for Diff models\n"
      ],
      "execution_count": 13,
      "outputs": [
        {
          "output_type": "stream",
          "text": [
            "(1472, 6)\n",
            "(491, 6)\n",
            "(1472,)\n",
            "(491,)\n"
          ],
          "name": "stdout"
        }
      ]
    },
    {
      "cell_type": "code",
      "metadata": {
        "id": "ZdLDdUFNQqUL",
        "colab_type": "code",
        "colab": {}
      },
      "source": [
        "lr_model=LinearRegression()\n",
        "lr_model.fit(x_train,y_train)\n",
        "y_pred=lr_model.predict(x_test)"
      ],
      "execution_count": 0,
      "outputs": []
    },
    {
      "cell_type": "code",
      "metadata": {
        "id": "7kyswpXaQv4s",
        "colab_type": "code",
        "colab": {
          "base_uri": "https://localhost:8080/",
          "height": 88
        },
        "outputId": "552109b3-b27b-4c79-a2fd-ba1be3ffe9da"
      },
      "source": [
        "from sklearn import model_selection\n",
        "from sklearn.model_selection import KFold\n",
        "kfold = model_selection.KFold(n_splits=20, random_state=100)\n",
        "results_kfold = model_selection.cross_val_score(lr_model, x_test, y_test.astype('int'), cv=kfold)\n",
        "print(\"Accuracy: \", results_kfold.mean()*100)\n"
      ],
      "execution_count": 15,
      "outputs": [
        {
          "output_type": "stream",
          "text": [
            "/usr/local/lib/python3.6/dist-packages/sklearn/model_selection/_split.py:296: FutureWarning: Setting a random_state has no effect since shuffle is False. This will raise an error in 0.24. You should leave random_state to its default (None), or set shuffle=True.\n",
            "  FutureWarning\n"
          ],
          "name": "stderr"
        },
        {
          "output_type": "stream",
          "text": [
            "Accuracy:  99.99999999999719\n"
          ],
          "name": "stdout"
        }
      ]
    },
    {
      "cell_type": "code",
      "metadata": {
        "id": "IILa_eMcQ0k3",
        "colab_type": "code",
        "colab": {
          "base_uri": "https://localhost:8080/",
          "height": 551
        },
        "outputId": "0c127bdd-4856-436c-dd98-67a415e4e2ab"
      },
      "source": [
        "plot_df=pd.DataFrame({'Actual':y_test,'Pred':y_pred})\n",
        "plot_df.head(20).plot(kind='bar',figsize=(16,8))\n",
        "plt.grid(which='major', linestyle='-', linewidth='0.5', color='green')\n",
        "plt.grid(which='minor', linestyle=':', linewidth='0.5', color='black')\n",
        "plt.show()"
      ],
      "execution_count": 16,
      "outputs": [
        {
          "output_type": "display_data",
          "data": {
            "image/png": "[encoded data removed]",
            "text/plain": [
              "<Figure size 1152x576 with 1 Axes>"
            ]
          },
          "metadata": {
            "tags": []
          }
        }
      ]
    },
    {
      "cell_type": "code",
      "metadata": {
        "id": "E5goPmkgQ_a8",
        "colab_type": "code",
        "colab": {}
      },
      "source": [
        "from sklearn.neighbors import KNeighborsRegressor\n",
        "knn_regressor=KNeighborsRegressor(n_neighbors = 5)\n",
        "knn_model=knn_regressor.fit(x_train,y_train)\n",
        "y_knn_pred=knn_model.predict(x_test)"
      ],
      "execution_count": 0,
      "outputs": []
    },
    {
      "cell_type": "code",
      "metadata": {
        "id": "vWAUAQCXRDz9",
        "colab_type": "code",
        "colab": {
          "base_uri": "https://localhost:8080/",
          "height": 88
        },
        "outputId": "b7d9ced6-699e-4f5c-e5ce-3404a7b2bcf2"
      },
      "source": [
        "knn_kfold = model_selection.KFold(n_splits=20, random_state=100)\n",
        "results_kfold = model_selection.cross_val_score(knn_model, x_test, y_test.astype('int'), cv=knn_kfold)\n",
        "print(\"Accuracy: \", results_kfold.mean()*100)"
      ],
      "execution_count": 18,
      "outputs": [
        {
          "output_type": "stream",
          "text": [
            "Accuracy:  98.76618703415929\n"
          ],
          "name": "stdout"
        },
        {
          "output_type": "stream",
          "text": [
            "/usr/local/lib/python3.6/dist-packages/sklearn/model_selection/_split.py:296: FutureWarning: Setting a random_state has no effect since shuffle is False. This will raise an error in 0.24. You should leave random_state to its default (None), or set shuffle=True.\n",
            "  FutureWarning\n"
          ],
          "name": "stderr"
        }
      ]
    },
    {
      "cell_type": "code",
      "metadata": {
        "id": "fBoGTzdERNob",
        "colab_type": "code",
        "colab": {
          "base_uri": "https://localhost:8080/",
          "height": 551
        },
        "outputId": "2084e782-2433-4651-f5c5-79a1beabbd87"
      },
      "source": [
        "plot_knn_df=pd.DataFrame({'Actual':y_test,'Pred':y_knn_pred})\n",
        "plot_knn_df.head(20).plot(kind='bar',figsize=(16,8))\n",
        "plt.grid(which='major', linestyle='-', linewidth='0.5', color='green')\n",
        "plt.grid(which='minor', linestyle=':', linewidth='0.5', color='black')\n",
        "plt.show()\n"
      ],
      "execution_count": 19,
      "outputs": [
        {
          "output_type": "display_data",
          "data": {
            "image/png": "[encoded data removed]",
            "text/plain": [
              "<Figure size 1152x576 with 1 Axes>"
            ]
          },
          "metadata": {
            "tags": []
          }
        }
      ]
    },
    {
      "cell_type": "code",
      "metadata": {
        "id": "tjnmmOFSRuXR",
        "colab_type": "code",
        "colab": {}
      },
      "source": [
        "from sklearn.svm import SVR\n",
        "svm_regressor = SVR(kernel='linear')\n",
        "svm_model=svm_regressor.fit(x_train,y_train)\n",
        "y_svm_pred=svm_model.predict(x_test)"
      ],
      "execution_count": 0,
      "outputs": []
    },
    {
      "cell_type": "code",
      "metadata": {
        "id": "UEHS-9YLR0rE",
        "colab_type": "code",
        "colab": {}
      },
      "source": [
        "plot_svm_df=pd.DataFrame({'Actual':y_test,'Pred':y_svm_pred})\n",
        "plot_svm_df.head(20).plot(kind='bar',figsize=(16,8))\n",
        "plt.grid(which='major', linestyle='-', linewidth='0.5', color='green')\n",
        "plt.grid(which='minor', linestyle=':', linewidth='0.5', color='black')\n",
        "plt.show()"
      ],
      "execution_count": 0,
      "outputs": []
    },
    {
      "cell_type": "code",
      "metadata": {
        "id": "y2waAQVLRra3",
        "colab_type": "code",
        "colab": {}
      },
      "source": [
        "from sklearn.metrics import mean_squared_error , r2_score\n",
        "import math\n",
        "lr_mse=math.sqrt(mean_squared_error(y_test,y_pred))\n",
        "print('Linear Model Root mean square error',lr_mse)\n",
        "knn_mse=math.sqrt(mean_squared_error(y_test,y_knn_pred))\n",
        "print('KNN Model Root mean square error',mse)\n",
        "svm_mse=math.sqrt(mean_squared_error(y_test,y_svm_pred))\n",
        "print('SVM Model Root mean square error SVM',svm_mse)\n"
      ],
      "execution_count": 0,
      "outputs": []
    },
    {
      "cell_type": "code",
      "metadata": {
        "id": "ysKqScgERKJX",
        "colab_type": "code",
        "colab": {}
      },
      "source": [
        "print('Linear R2: ', r2_score(y_test, y_pred))\n",
        "print('KNN R2: ', r2_score(y_test, y_knn_pred))\n",
        "print('SVM R2: ', r2_score(y_test, y_svm_pred))\n"
      ],
      "execution_count": 0,
      "outputs": []
    },
    {
      "cell_type": "code",
      "metadata": {
        "id": "iAt_11PXRGih",
        "colab_type": "code",
        "colab": {}
      },
      "source": [
        "#https://medium.com/towards-artificial-intelligence/netflix-stock-prediction-model-a-comparative-study-of-linear-regression-k-nearest-neighbor-knn-4527ff17939b"
      ],
      "execution_count": 0,
      "outputs": []
    },
    {
      "cell_type": "code",
      "metadata": {
        "id": "S5XVSL5OQ4J7",
        "colab_type": "code",
        "colab": {}
      },
      "source": [
        ""
      ],
      "execution_count": 0,
      "outputs": []
    }
  ]
}