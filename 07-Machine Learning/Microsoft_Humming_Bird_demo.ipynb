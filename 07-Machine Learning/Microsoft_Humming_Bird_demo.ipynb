{
  "nbformat": 4,
  "nbformat_minor": 0,
  "metadata": {
    "colab": {
      "name": "Microsoft Humming Bird demo.ipynb",
      "provenance": [],
      "collapsed_sections": [],
      "authorship_tag": "ABX9TyMRpZaHzq9J2MJMc8XqH3PY",
      "include_colab_link": true
    },
    "kernelspec": {
      "name": "python3",
      "display_name": "Python 3"
    },
    "accelerator": "GPU"
  },
  "cells": [
    {
      "cell_type": "markdown",
      "metadata": {
        "id": "view-in-github",
        "colab_type": "text"
      },
      "source": [
        "<a href=\"https://colab.research.google.com/github/plthiyagu/Personnel/blob/master/Microsoft_Humming_Bird_demo.ipynb\" target=\"_parent\"><img src=\"https://colab.research.google.com/assets/colab-badge.svg\" alt=\"Open In Colab\"/></a>"
      ]
    },
    {
      "cell_type": "code",
      "metadata": {
        "id": "P7AI3HMZLckR",
        "colab_type": "code",
        "colab": {
          "base_uri": "https://localhost:8080/",
          "height": 513
        },
        "outputId": "0a3aa544-b984-4939-926d-2180732442e7"
      },
      "source": [
        "!pip install hummingbird-ml"
      ],
      "execution_count": 1,
      "outputs": [
        {
          "output_type": "stream",
          "text": [
            "Collecting hummingbird-ml\n",
            "  Downloading https://files.pythonhosted.org/packages/c6/15/a30aa78d60338c492ca765b4b764c3606a9768aa3fc8cbae7cfb4433a69f/hummingbird_ml-0.0.2-py2.py3-none-any.whl\n",
            "Requirement already satisfied: Cython in /usr/local/lib/python3.6/dist-packages (from hummingbird-ml) (0.29.19)\n",
            "Collecting scikit-learn==0.21.3\n",
            "\u001b[?25l  Downloading https://files.pythonhosted.org/packages/a0/c5/d2238762d780dde84a20b8c761f563fe882b88c5a5fb03c056547c442a19/scikit_learn-0.21.3-cp36-cp36m-manylinux1_x86_64.whl (6.7MB)\n",
            "\u001b[K     |████████████████████████████████| 6.7MB 10.0MB/s \n",
            "\u001b[?25hRequirement already satisfied: numpy>=1.15 in /usr/local/lib/python3.6/dist-packages (from hummingbird-ml) (1.18.5)\n",
            "Requirement already satisfied: lightgbm>=2.2 in /usr/local/lib/python3.6/dist-packages (from hummingbird-ml) (2.2.3)\n",
            "Requirement already satisfied: torch>=1.4.0 in /usr/local/lib/python3.6/dist-packages (from hummingbird-ml) (1.5.0+cu101)\n",
            "Collecting onnxconverter-common>=1.6.0\n",
            "\u001b[?25l  Downloading https://files.pythonhosted.org/packages/fe/7a/7e30c643cd7d2ad87689188ef34ce93e657bd14da3605f87bcdbc19cd5b1/onnxconverter_common-1.7.0-py2.py3-none-any.whl (64kB)\n",
            "\u001b[K     |████████████████████████████████| 71kB 6.9MB/s \n",
            "\u001b[?25hRequirement already satisfied: xgboost==0.90 in /usr/local/lib/python3.6/dist-packages (from hummingbird-ml) (0.90)\n",
            "Requirement already satisfied: joblib>=0.11 in /usr/local/lib/python3.6/dist-packages (from scikit-learn==0.21.3->hummingbird-ml) (0.15.1)\n",
            "Requirement already satisfied: scipy>=0.17.0 in /usr/local/lib/python3.6/dist-packages (from scikit-learn==0.21.3->hummingbird-ml) (1.4.1)\n",
            "Requirement already satisfied: future in /usr/local/lib/python3.6/dist-packages (from torch>=1.4.0->hummingbird-ml) (0.16.0)\n",
            "Requirement already satisfied: protobuf in /usr/local/lib/python3.6/dist-packages (from onnxconverter-common>=1.6.0->hummingbird-ml) (3.10.0)\n",
            "Collecting onnx\n",
            "\u001b[?25l  Downloading https://files.pythonhosted.org/packages/36/ee/bc7bc88fc8449266add978627e90c363069211584b937fd867b0ccc59f09/onnx-1.7.0-cp36-cp36m-manylinux1_x86_64.whl (7.4MB)\n",
            "\u001b[K     |████████████████████████████████| 7.4MB 21.0MB/s \n",
            "\u001b[?25hRequirement already satisfied: setuptools in /usr/local/lib/python3.6/dist-packages (from protobuf->onnxconverter-common>=1.6.0->hummingbird-ml) (47.1.1)\n",
            "Requirement already satisfied: six>=1.9 in /usr/local/lib/python3.6/dist-packages (from protobuf->onnxconverter-common>=1.6.0->hummingbird-ml) (1.12.0)\n",
            "Requirement already satisfied: typing-extensions>=3.6.2.1 in /usr/local/lib/python3.6/dist-packages (from onnx->onnxconverter-common>=1.6.0->hummingbird-ml) (3.6.6)\n",
            "Installing collected packages: scikit-learn, onnx, onnxconverter-common, hummingbird-ml\n",
            "  Found existing installation: scikit-learn 0.22.2.post1\n",
            "    Uninstalling scikit-learn-0.22.2.post1:\n",
            "      Successfully uninstalled scikit-learn-0.22.2.post1\n",
            "Successfully installed hummingbird-ml-0.0.2 onnx-1.7.0 onnxconverter-common-1.7.0 scikit-learn-0.21.3\n"
          ],
          "name": "stdout"
        }
      ]
    },
    {
      "cell_type": "code",
      "metadata": {
        "id": "GEWiIsMfLfW0",
        "colab_type": "code",
        "colab": {}
      },
      "source": [
        "import matplotlib.pyplot as plt\n",
        "import time\n",
        "import warnings\n",
        "import numpy as np\n",
        "from hummingbird.ml import convert\n",
        "from sklearn import  metrics\n",
        "from sklearn.ensemble import RandomForestClassifier\n",
        "from sklearn.model_selection import train_test_split\n"
      ],
      "execution_count": 0,
      "outputs": []
    },
    {
      "cell_type": "code",
      "metadata": {
        "id": "0xqXB0u8MKfN",
        "colab_type": "code",
        "colab": {}
      },
      "source": [
        "%matplotlib inline\n",
        "warnings.filterwarnings(\"ignore\")"
      ],
      "execution_count": 0,
      "outputs": []
    },
    {
      "cell_type": "code",
      "metadata": {
        "id": "-e2o1BQQMOlT",
        "colab_type": "code",
        "colab": {}
      },
      "source": [
        "def timeit(method):\n",
        "    def timed(*args, **kw):\n",
        "        ts = time.time()\n",
        "        result = method(*args, **kw)\n",
        "        te = time.time()\n",
        "        if 'log_time' in kw:\n",
        "            name = kw.get('log_name', method.__name__.upper())\n",
        "            kw['log_time'][name] = int((te - ts) * 1000)\n",
        "        else:\n",
        "            print('%r  %2.2f ms' % \\\n",
        "                  (method.__name__, (te - ts) * 1000))\n",
        "        return result\n",
        "    return timed"
      ],
      "execution_count": 0,
      "outputs": []
    },
    {
      "cell_type": "code",
      "metadata": {
        "id": "Ua3qU_gUMUBD",
        "colab_type": "code",
        "colab": {}
      },
      "source": [
        "num_classes = 2\n",
        "num_of_samples = 1000000\n",
        "num_of_features = 40"
      ],
      "execution_count": 0,
      "outputs": []
    },
    {
      "cell_type": "code",
      "metadata": {
        "id": "l-2AVFr8MYzN",
        "colab_type": "code",
        "colab": {}
      },
      "source": [
        "X= np.array(np.random.rand(num_of_samples,num_of_features),dtype=np.float32)\n",
        "y = np.random.randint(num_classes, size=num_of_samples)"
      ],
      "execution_count": 0,
      "outputs": []
    },
    {
      "cell_type": "code",
      "metadata": {
        "id": "pHHHzYjaM7UD",
        "colab_type": "code",
        "colab": {
          "base_uri": "https://localhost:8080/",
          "height": 306
        },
        "outputId": "f9c1a78e-7105-45ef-9572-6c58bf813b5b"
      },
      "source": [
        "X[0:2]"
      ],
      "execution_count": 8,
      "outputs": [
        {
          "output_type": "execute_result",
          "data": {
            "text/plain": [
              "array([[0.45861855, 0.23266055, 0.04059868, 0.4976236 , 0.6497032 ,\n",
              "        0.39384216, 0.00889213, 0.53581214, 0.86306274, 0.5132679 ,\n",
              "        0.08944706, 0.8304946 , 0.01597482, 0.8060497 , 0.5976509 ,\n",
              "        0.2386366 , 0.48651057, 0.28253666, 0.39640102, 0.00734672,\n",
              "        0.09255151, 0.41416788, 0.31260893, 0.6261146 , 0.6131707 ,\n",
              "        0.7380063 , 0.3297804 , 0.9274049 , 0.89757377, 0.7121038 ,\n",
              "        0.26566184, 0.6625659 , 0.8220334 , 0.1724677 , 0.60758096,\n",
              "        0.24945095, 0.5782275 , 0.00317984, 0.91224074, 0.97883874],\n",
              "       [0.5339239 , 0.9238719 , 0.35859475, 0.6419494 , 0.477943  ,\n",
              "        0.9252699 , 0.97362036, 0.5445847 , 0.7756915 , 0.07957572,\n",
              "        0.87329537, 0.32850572, 0.8741151 , 0.4551199 , 0.70231193,\n",
              "        0.8686215 , 0.99639934, 0.52349347, 0.13287085, 0.04862236,\n",
              "        0.14408499, 0.29640725, 0.03726227, 0.98582375, 0.48739228,\n",
              "        0.030224  , 0.93420994, 0.3412504 , 0.9201711 , 0.53070325,\n",
              "        0.17753267, 0.0506241 , 0.43257505, 0.7733516 , 0.72652715,\n",
              "        0.5239656 , 0.86512846, 0.5904406 , 0.4818446 , 0.0820988 ]],\n",
              "      dtype=float32)"
            ]
          },
          "metadata": {
            "tags": []
          },
          "execution_count": 8
        }
      ]
    },
    {
      "cell_type": "code",
      "metadata": {
        "id": "gtqOJEZcNCOK",
        "colab_type": "code",
        "colab": {
          "base_uri": "https://localhost:8080/",
          "height": 34
        },
        "outputId": "07860b58-c654-4f2d-be8a-a0b19d8741ee"
      },
      "source": [
        "y[0:2]"
      ],
      "execution_count": 9,
      "outputs": [
        {
          "output_type": "execute_result",
          "data": {
            "text/plain": [
              "array([0, 0])"
            ]
          },
          "metadata": {
            "tags": []
          },
          "execution_count": 9
        }
      ]
    },
    {
      "cell_type": "code",
      "metadata": {
        "id": "jynkyJ7TNIDR",
        "colab_type": "code",
        "colab": {}
      },
      "source": [
        "X_train, X_test, y_train, y_test = train_test_split(X, y, test_size=0.33, random_state=42)"
      ],
      "execution_count": 0,
      "outputs": []
    },
    {
      "cell_type": "code",
      "metadata": {
        "id": "Mcbu0L9WM-MN",
        "colab_type": "code",
        "colab": {
          "base_uri": "https://localhost:8080/",
          "height": 136
        },
        "outputId": "f130a822-3482-4a78-87c5-df9cc53f10ee"
      },
      "source": [
        "skl_model = RandomForestClassifier(n_estimators=10, max_depth=10)\n",
        "skl_model.fit(X_train, y_train)"
      ],
      "execution_count": 11,
      "outputs": [
        {
          "output_type": "execute_result",
          "data": {
            "text/plain": [
              "RandomForestClassifier(bootstrap=True, class_weight=None, criterion='gini',\n",
              "                       max_depth=10, max_features='auto', max_leaf_nodes=None,\n",
              "                       min_impurity_decrease=0.0, min_impurity_split=None,\n",
              "                       min_samples_leaf=1, min_samples_split=2,\n",
              "                       min_weight_fraction_leaf=0.0, n_estimators=10,\n",
              "                       n_jobs=None, oob_score=False, random_state=None,\n",
              "                       verbose=0, warm_start=False)"
            ]
          },
          "metadata": {
            "tags": []
          },
          "execution_count": 11
        }
      ]
    },
    {
      "cell_type": "code",
      "metadata": {
        "id": "BDWwDvy_NPOk",
        "colab_type": "code",
        "colab": {}
      },
      "source": [
        "@timeit\n",
        "def predict_output(inp_model, test_x, test_y, is_humming):\n",
        "  if is_humming == 1:\n",
        "    inp_model.to('cuda')\n",
        "  return inp_model.predict(test_x)\n"
      ],
      "execution_count": 0,
      "outputs": []
    },
    {
      "cell_type": "code",
      "metadata": {
        "id": "i33jjs0uNi4Z",
        "colab_type": "code",
        "colab": {}
      },
      "source": [
        "model = convert(skl_model, 'pytorch')"
      ],
      "execution_count": 0,
      "outputs": []
    },
    {
      "cell_type": "code",
      "metadata": {
        "id": "_UqFM48KNm8-",
        "colab_type": "code",
        "colab": {
          "base_uri": "https://localhost:8080/",
          "height": 34
        },
        "outputId": "b03e0149-3aeb-4530-edf2-9d6bec14f490"
      },
      "source": [
        "y_pred_sklearn = predict_output(skl_model, X_test, y_test, 0)"
      ],
      "execution_count": 14,
      "outputs": [
        {
          "output_type": "stream",
          "text": [
            "'predict_output'  284.42 ms\n"
          ],
          "name": "stdout"
        }
      ]
    },
    {
      "cell_type": "code",
      "metadata": {
        "id": "cOS2AnwrNqae",
        "colab_type": "code",
        "colab": {
          "base_uri": "https://localhost:8080/",
          "height": 34
        },
        "outputId": "13c495fa-0dbb-4423-e336-0cb34cefba1f"
      },
      "source": [
        "y_pred_humming = predict_output(model, X_test, y_test, 1)"
      ],
      "execution_count": 15,
      "outputs": [
        {
          "output_type": "stream",
          "text": [
            "'predict_output'  9560.71 ms\n"
          ],
          "name": "stdout"
        }
      ]
    },
    {
      "cell_type": "code",
      "metadata": {
        "id": "ogQnNgzLNtmu",
        "colab_type": "code",
        "colab": {}
      },
      "source": [
        ""
      ],
      "execution_count": 0,
      "outputs": []
    }
  ]
}