{
  "nbformat": 4,
  "nbformat_minor": 0,
  "metadata": {
    "colab": {
      "name": "Survival Analysis.ipynb",
      "provenance": [],
      "authorship_tag": "ABX9TyMcV1LQZtvgfQQhWviNWmeh",
      "include_colab_link": true
    },
    "kernelspec": {
      "name": "python3",
      "display_name": "Python 3"
    }
  },
  "cells": [
    {
      "cell_type": "markdown",
      "metadata": {
        "id": "view-in-github",
        "colab_type": "text"
      },
      "source": [
        "<a href=\"https://colab.research.google.com/github/plthiyagu/Personnel/blob/master/Survival_Analysis.ipynb\" target=\"_parent\"><img src=\"https://colab.research.google.com/assets/colab-badge.svg\" alt=\"Open In Colab\"/></a>"
      ]
    },
    {
      "cell_type": "code",
      "metadata": {
        "id": "Dg1wgaTc_l2A",
        "colab_type": "code",
        "colab": {
          "base_uri": "https://localhost:8080/",
          "height": 360
        },
        "outputId": "8835540b-3c60-4736-f9ea-6a95bf7085eb"
      },
      "source": [
        "!pip install lifelines"
      ],
      "execution_count": 8,
      "outputs": [
        {
          "output_type": "stream",
          "text": [
            "Collecting lifelines\n",
            "\u001b[?25l  Downloading https://files.pythonhosted.org/packages/30/36/9298632752606a0cfa10c487c4b9db1f843c4cf6860b5d2eb1142ad30ceb/lifelines-0.24.9-py3-none-any.whl (334kB)\n",
            "\r\u001b[K     |█                               | 10kB 12.6MB/s eta 0:00:01\r\u001b[K     |██                              | 20kB 1.7MB/s eta 0:00:01\r\u001b[K     |███                             | 30kB 2.3MB/s eta 0:00:01\r\u001b[K     |████                            | 40kB 2.6MB/s eta 0:00:01\r\u001b[K     |█████                           | 51kB 2.0MB/s eta 0:00:01\r\u001b[K     |█████▉                          | 61kB 2.3MB/s eta 0:00:01\r\u001b[K     |██████▉                         | 71kB 2.6MB/s eta 0:00:01\r\u001b[K     |███████▉                        | 81kB 2.8MB/s eta 0:00:01\r\u001b[K     |████████▉                       | 92kB 2.9MB/s eta 0:00:01\r\u001b[K     |█████████▉                      | 102kB 2.8MB/s eta 0:00:01\r\u001b[K     |██████████▊                     | 112kB 2.8MB/s eta 0:00:01\r\u001b[K     |███████████▊                    | 122kB 2.8MB/s eta 0:00:01\r\u001b[K     |████████████▊                   | 133kB 2.8MB/s eta 0:00:01\r\u001b[K     |█████████████▊                  | 143kB 2.8MB/s eta 0:00:01\r\u001b[K     |██████████████▊                 | 153kB 2.8MB/s eta 0:00:01\r\u001b[K     |███████████████▋                | 163kB 2.8MB/s eta 0:00:01\r\u001b[K     |████████████████▋               | 174kB 2.8MB/s eta 0:00:01\r\u001b[K     |█████████████████▋              | 184kB 2.8MB/s eta 0:00:01\r\u001b[K     |██████████████████▋             | 194kB 2.8MB/s eta 0:00:01\r\u001b[K     |███████████████████▋            | 204kB 2.8MB/s eta 0:00:01\r\u001b[K     |████████████████████▋           | 215kB 2.8MB/s eta 0:00:01\r\u001b[K     |█████████████████████▌          | 225kB 2.8MB/s eta 0:00:01\r\u001b[K     |██████████████████████▌         | 235kB 2.8MB/s eta 0:00:01\r\u001b[K     |███████████████████████▌        | 245kB 2.8MB/s eta 0:00:01\r\u001b[K     |████████████████████████▌       | 256kB 2.8MB/s eta 0:00:01\r\u001b[K     |█████████████████████████▌      | 266kB 2.8MB/s eta 0:00:01\r\u001b[K     |██████████████████████████▍     | 276kB 2.8MB/s eta 0:00:01\r\u001b[K     |███████████████████████████▍    | 286kB 2.8MB/s eta 0:00:01\r\u001b[K     |████████████████████████████▍   | 296kB 2.8MB/s eta 0:00:01\r\u001b[K     |█████████████████████████████▍  | 307kB 2.8MB/s eta 0:00:01\r\u001b[K     |██████████████████████████████▍ | 317kB 2.8MB/s eta 0:00:01\r\u001b[K     |███████████████████████████████▎| 327kB 2.8MB/s eta 0:00:01\r\u001b[K     |████████████████████████████████| 337kB 2.8MB/s \n",
            "\u001b[?25hRequirement already satisfied: scipy>=1.2.0 in /usr/local/lib/python3.6/dist-packages (from lifelines) (1.4.1)\n",
            "Requirement already satisfied: matplotlib>=3.0 in /usr/local/lib/python3.6/dist-packages (from lifelines) (3.2.1)\n",
            "Requirement already satisfied: pandas>=0.23.0 in /usr/local/lib/python3.6/dist-packages (from lifelines) (1.0.4)\n",
            "Requirement already satisfied: autograd>=1.3 in /usr/local/lib/python3.6/dist-packages (from lifelines) (1.3)\n",
            "Requirement already satisfied: numpy>=1.14.0 in /usr/local/lib/python3.6/dist-packages (from lifelines) (1.18.5)\n",
            "Collecting autograd-gamma>=0.3\n",
            "  Downloading https://files.pythonhosted.org/packages/0a/07/d99339c9420b58b723a9189d1373e5c3889758b2202a1a7fe4a3b7a10c5a/autograd_gamma-0.4.2-py2.py3-none-any.whl\n",
            "Requirement already satisfied: kiwisolver>=1.0.1 in /usr/local/lib/python3.6/dist-packages (from matplotlib>=3.0->lifelines) (1.2.0)\n",
            "Requirement already satisfied: pyparsing!=2.0.4,!=2.1.2,!=2.1.6,>=2.0.1 in /usr/local/lib/python3.6/dist-packages (from matplotlib>=3.0->lifelines) (2.4.7)\n",
            "Requirement already satisfied: cycler>=0.10 in /usr/local/lib/python3.6/dist-packages (from matplotlib>=3.0->lifelines) (0.10.0)\n",
            "Requirement already satisfied: python-dateutil>=2.1 in /usr/local/lib/python3.6/dist-packages (from matplotlib>=3.0->lifelines) (2.8.1)\n",
            "Requirement already satisfied: pytz>=2017.2 in /usr/local/lib/python3.6/dist-packages (from pandas>=0.23.0->lifelines) (2018.9)\n",
            "Requirement already satisfied: future>=0.15.2 in /usr/local/lib/python3.6/dist-packages (from autograd>=1.3->lifelines) (0.16.0)\n",
            "Requirement already satisfied: six in /usr/local/lib/python3.6/dist-packages (from cycler>=0.10->matplotlib>=3.0->lifelines) (1.12.0)\n",
            "Installing collected packages: autograd-gamma, lifelines\n",
            "Successfully installed autograd-gamma-0.4.2 lifelines-0.24.9\n"
          ],
          "name": "stdout"
        }
      ]
    },
    {
      "cell_type": "code",
      "metadata": {
        "id": "AYsPhYeKF_lO",
        "colab_type": "code",
        "colab": {
          "base_uri": "https://localhost:8080/",
          "height": 34
        },
        "outputId": "a614355c-b57d-483f-a996-c4c3286c65de"
      },
      "source": [
        "import pandas as pd\n",
        "import numpy as np\n",
        "import matplotlib.pyplot as plt\n",
        "import seaborn as sns\n",
        "\n",
        "\n",
        "from lifelines.plotting import plot_lifetimes     # Lifeline package for the Survival Analysis\n",
        "%pylab inline\n",
        "figsize(12,6)"
      ],
      "execution_count": 9,
      "outputs": [
        {
          "output_type": "stream",
          "text": [
            "Populating the interactive namespace from numpy and matplotlib\n"
          ],
          "name": "stdout"
        }
      ]
    },
    {
      "cell_type": "code",
      "metadata": {
        "id": "-vCtVAQw_ZAM",
        "colab_type": "code",
        "colab": {
          "base_uri": "https://localhost:8080/",
          "height": 405
        },
        "outputId": "4905bc10-f236-4352-9930-7d4201ded139"
      },
      "source": [
        "from lifelines import KaplanMeierFitter\n",
        "\n",
        "## Example Data \n",
        "durations = [5,6,6,2.5,4,4]\n",
        "event_observed = [1, 0, 0, 1, 1, 1]\n",
        "\n",
        "## create an kmf object\n",
        "kmf = KaplanMeierFitter() \n",
        "\n",
        "## Fit the data into the model\n",
        "kmf.fit(durations, event_observed,label='Kaplan Meier Estimate')\n",
        "\n",
        "## Create an estimate\n",
        "kmf.plot(ci_show=False) ## ci_show is meant for Confidence interval, since our data set is too tiny, thus i am not showing it."
      ],
      "execution_count": 10,
      "outputs": [
        {
          "output_type": "execute_result",
          "data": {
            "text/plain": [
              "<matplotlib.axes._subplots.AxesSubplot at 0x7f4519d3ae48>"
            ]
          },
          "metadata": {
            "tags": []
          },
          "execution_count": 10
        },
        {
          "output_type": "display_data",
          "data": {
            "image/png": "[encoded data removed]",
            "text/plain": [
              "<Figure size 864x432 with 1 Axes>"
            ]
          },
          "metadata": {
            "tags": [],
            "needs_background": "light"
          }
        }
      ]
    },
    {
      "cell_type": "code",
      "metadata": {
        "id": "EHKBuAHBDLxA",
        "colab_type": "code",
        "colab": {}
      },
      "source": [
        "filename='https://raw.githubusercontent.com/plthiyagu/Personnel/master/Dataset/WA_Fn-UseC_-Telco-Customer-Churn.csv'\n",
        "df=pd.read_csv(filename)"
      ],
      "execution_count": 0,
      "outputs": []
    },
    {
      "cell_type": "code",
      "metadata": {
        "id": "LVMx7EEaEOUo",
        "colab_type": "code",
        "colab": {
          "base_uri": "https://localhost:8080/",
          "height": 493
        },
        "outputId": "006d5e91-6e85-4dfb-f906-a7fb042acaa2"
      },
      "source": [
        "df.info()"
      ],
      "execution_count": 14,
      "outputs": [
        {
          "output_type": "stream",
          "text": [
            "<class 'pandas.core.frame.DataFrame'>\n",
            "RangeIndex: 7043 entries, 0 to 7042\n",
            "Data columns (total 21 columns):\n",
            " #   Column            Non-Null Count  Dtype  \n",
            "---  ------            --------------  -----  \n",
            " 0   customerID        7043 non-null   object \n",
            " 1   gender            7043 non-null   object \n",
            " 2   SeniorCitizen     7043 non-null   int64  \n",
            " 3   Partner           7043 non-null   object \n",
            " 4   Dependents        7043 non-null   object \n",
            " 5   tenure            7043 non-null   int64  \n",
            " 6   PhoneService      7043 non-null   object \n",
            " 7   MultipleLines     7043 non-null   object \n",
            " 8   InternetService   7043 non-null   object \n",
            " 9   OnlineSecurity    7043 non-null   object \n",
            " 10  OnlineBackup      7043 non-null   object \n",
            " 11  DeviceProtection  7043 non-null   object \n",
            " 12  TechSupport       7043 non-null   object \n",
            " 13  StreamingTV       7043 non-null   object \n",
            " 14  StreamingMovies   7043 non-null   object \n",
            " 15  Contract          7043 non-null   object \n",
            " 16  PaperlessBilling  7043 non-null   object \n",
            " 17  PaymentMethod     7043 non-null   object \n",
            " 18  MonthlyCharges    7043 non-null   float64\n",
            " 19  TotalCharges      7043 non-null   object \n",
            " 20  Churn             7043 non-null   object \n",
            "dtypes: float64(1), int64(2), object(18)\n",
            "memory usage: 1.1+ MB\n"
          ],
          "name": "stdout"
        }
      ]
    },
    {
      "cell_type": "code",
      "metadata": {
        "id": "D9RIkcEaETrj",
        "colab_type": "code",
        "colab": {
          "base_uri": "https://localhost:8080/",
          "height": 34
        },
        "outputId": "e6b54861-6852-4eed-cdd5-e27d1be4f4e2"
      },
      "source": [
        "df.shape"
      ],
      "execution_count": 15,
      "outputs": [
        {
          "output_type": "execute_result",
          "data": {
            "text/plain": [
              "(7043, 21)"
            ]
          },
          "metadata": {
            "tags": []
          },
          "execution_count": 15
        }
      ]
    },
    {
      "cell_type": "code",
      "metadata": {
        "id": "1rjtDfXhEWAc",
        "colab_type": "code",
        "colab": {}
      },
      "source": [
        "df['TotalCharges']=pd.to_numeric(df['TotalCharges'],errors='coerce')\n",
        "## Replace yes and No in the Churn column to 1 and 0. 1 for the event and 0 for the censured data.\n",
        "df['Churn']=df['Churn'].apply(lambda x: 1 if x == 'Yes' else 0 )\n"
      ],
      "execution_count": 0,
      "outputs": []
    },
    {
      "cell_type": "code",
      "metadata": {
        "id": "ZpQiATlFEd_a",
        "colab_type": "code",
        "colab": {}
      },
      "source": [
        "## Impute the null value with the median value\n",
        "df.TotalCharges.fillna(value=df['TotalCharges'].median(),inplace=True)"
      ],
      "execution_count": 0,
      "outputs": []
    },
    {
      "cell_type": "code",
      "metadata": {
        "id": "cjZ9xQYBElqB",
        "colab_type": "code",
        "colab": {}
      },
      "source": [
        "## Create a list of Categorical Columns\n",
        "cat_cols= [i  for i in df.columns if df[i].dtype==object]\n",
        "cat_cols.remove('customerID')  ## customerID has been removed because it is unique for all the rows."
      ],
      "execution_count": 0,
      "outputs": []
    },
    {
      "cell_type": "code",
      "metadata": {
        "id": "gFDYabJcEqh9",
        "colab_type": "code",
        "colab": {
          "base_uri": "https://localhost:8080/",
          "height": 1000
        },
        "outputId": "87c61a44-7a13-4817-c2bb-de73f79e508e"
      },
      "source": [
        "## lets have a look at the categories and their distribution in all the categorical columns.\n",
        "\n",
        "for i in cat_cols:\n",
        "    print('Column Name: ',i)\n",
        "    print(df[i].value_counts())\n",
        "    print('-----------------------------')"
      ],
      "execution_count": 19,
      "outputs": [
        {
          "output_type": "stream",
          "text": [
            "Column Name:  gender\n",
            "Male      3555\n",
            "Female    3488\n",
            "Name: gender, dtype: int64\n",
            "-----------------------------\n",
            "Column Name:  Partner\n",
            "No     3641\n",
            "Yes    3402\n",
            "Name: Partner, dtype: int64\n",
            "-----------------------------\n",
            "Column Name:  Dependents\n",
            "No     4933\n",
            "Yes    2110\n",
            "Name: Dependents, dtype: int64\n",
            "-----------------------------\n",
            "Column Name:  PhoneService\n",
            "Yes    6361\n",
            "No      682\n",
            "Name: PhoneService, dtype: int64\n",
            "-----------------------------\n",
            "Column Name:  MultipleLines\n",
            "No                  3390\n",
            "Yes                 2971\n",
            "No phone service     682\n",
            "Name: MultipleLines, dtype: int64\n",
            "-----------------------------\n",
            "Column Name:  InternetService\n",
            "Fiber optic    3096\n",
            "DSL            2421\n",
            "No             1526\n",
            "Name: InternetService, dtype: int64\n",
            "-----------------------------\n",
            "Column Name:  OnlineSecurity\n",
            "No                     3498\n",
            "Yes                    2019\n",
            "No internet service    1526\n",
            "Name: OnlineSecurity, dtype: int64\n",
            "-----------------------------\n",
            "Column Name:  OnlineBackup\n",
            "No                     3088\n",
            "Yes                    2429\n",
            "No internet service    1526\n",
            "Name: OnlineBackup, dtype: int64\n",
            "-----------------------------\n",
            "Column Name:  DeviceProtection\n",
            "No                     3095\n",
            "Yes                    2422\n",
            "No internet service    1526\n",
            "Name: DeviceProtection, dtype: int64\n",
            "-----------------------------\n",
            "Column Name:  TechSupport\n",
            "No                     3473\n",
            "Yes                    2044\n",
            "No internet service    1526\n",
            "Name: TechSupport, dtype: int64\n",
            "-----------------------------\n",
            "Column Name:  StreamingTV\n",
            "No                     2810\n",
            "Yes                    2707\n",
            "No internet service    1526\n",
            "Name: StreamingTV, dtype: int64\n",
            "-----------------------------\n",
            "Column Name:  StreamingMovies\n",
            "No                     2785\n",
            "Yes                    2732\n",
            "No internet service    1526\n",
            "Name: StreamingMovies, dtype: int64\n",
            "-----------------------------\n",
            "Column Name:  Contract\n",
            "Month-to-month    3875\n",
            "Two year          1695\n",
            "One year          1473\n",
            "Name: Contract, dtype: int64\n",
            "-----------------------------\n",
            "Column Name:  PaperlessBilling\n",
            "Yes    4171\n",
            "No     2872\n",
            "Name: PaperlessBilling, dtype: int64\n",
            "-----------------------------\n",
            "Column Name:  PaymentMethod\n",
            "Electronic check             2365\n",
            "Mailed check                 1612\n",
            "Bank transfer (automatic)    1544\n",
            "Credit card (automatic)      1522\n",
            "Name: PaymentMethod, dtype: int64\n",
            "-----------------------------\n"
          ],
          "name": "stdout"
        }
      ]
    },
    {
      "cell_type": "code",
      "metadata": {
        "id": "CRChCcwkEuUJ",
        "colab_type": "code",
        "colab": {
          "base_uri": "https://localhost:8080/",
          "height": 405
        },
        "outputId": "99a68b70-99ac-4d55-ed6c-d56152403e42"
      },
      "source": [
        "## Lets create an overall KaplanMeier curve, without breaking it into groups of covariates.\n",
        "\n",
        "## Import the library\n",
        "from lifelines import KaplanMeierFitter\n",
        "\n",
        "\n",
        "durations = df['tenure'] ## Time to event data of censored and event data\n",
        "event_observed = df['Churn']  ## It has the churned (1) and censored is (0)\n",
        "\n",
        "## create a kmf object as km\n",
        "km = KaplanMeierFitter() ## instantiate the class to create an object\n",
        "\n",
        "## Fit the data into the model\n",
        "km.fit(durations, event_observed,label='Kaplan Meier Estimate')\n",
        "\n",
        "## Create an estimate\n",
        "km.plot()"
      ],
      "execution_count": 20,
      "outputs": [
        {
          "output_type": "execute_result",
          "data": {
            "text/plain": [
              "<matplotlib.axes._subplots.AxesSubplot at 0x7f4516f78198>"
            ]
          },
          "metadata": {
            "tags": []
          },
          "execution_count": 20
        },
        {
          "output_type": "display_data",
          "data": {
            "image/png": "[encoded data removed]",
            "text/plain": [
              "<Figure size 864x432 with 1 Axes>"
            ]
          },
          "metadata": {
            "tags": [],
            "needs_background": "light"
          }
        }
      ]
    },
    {
      "cell_type": "code",
      "metadata": {
        "id": "l7ewWuvcE3NA",
        "colab_type": "code",
        "colab": {
          "base_uri": "https://localhost:8080/",
          "height": 405
        },
        "outputId": "2c4bc954-99f3-40f3-83d5-2bf83333d0cb"
      },
      "source": [
        "kmf = KaplanMeierFitter() \n",
        "\n",
        "\n",
        "T = df['tenure']     ## time to event\n",
        "E = df['Churn']      ## event occurred or censored\n",
        "\n",
        "\n",
        "groups = df['Contract']             ## Create the cohorts from the 'Contract' column\n",
        "ix1 = (groups == 'Month-to-month')   ## Cohort 1\n",
        "ix2 = (groups == 'Two year')         ## Cohort 2\n",
        "ix3 = (groups == 'One year')         ## Cohort 3\n",
        "\n",
        "\n",
        "kmf.fit(T[ix1], E[ix1], label='Month-to-month')    ## fit the cohort 1 data\n",
        "ax = kmf.plot()\n",
        "\n",
        "\n",
        "kmf.fit(T[ix2], E[ix2], label='Two year')         ## fit the cohort 2 data\n",
        "ax1 = kmf.plot(ax=ax)\n",
        "\n",
        "\n",
        "kmf.fit(T[ix3], E[ix3], label='One year')        ## fit the cohort 3 data\n",
        "kmf.plot(ax=ax1)                                 ## Plot the KM curve for three cohort on same x and y axis"
      ],
      "execution_count": 21,
      "outputs": [
        {
          "output_type": "execute_result",
          "data": {
            "text/plain": [
              "<matplotlib.axes._subplots.AxesSubplot at 0x7f4516e86400>"
            ]
          },
          "metadata": {
            "tags": []
          },
          "execution_count": 21
        },
        {
          "output_type": "display_data",
          "data": {
            "image/png": "[encoded data removed]",
            "text/plain": [
              "<Figure size 864x432 with 1 Axes>"
            ]
          },
          "metadata": {
            "tags": [],
            "needs_background": "light"
          }
        }
      ]
    },
    {
      "cell_type": "code",
      "metadata": {
        "id": "8hUvFWBJE8P4",
        "colab_type": "code",
        "colab": {
          "base_uri": "https://localhost:8080/",
          "height": 405
        },
        "outputId": "8fb4041b-7175-4f7e-c7a5-38317b6b8df0"
      },
      "source": [
        "kmf1 = KaplanMeierFitter() ## instantiate the class to create an object\n",
        "\n",
        "## Two Cohorts are compared. 1. Streaming TV Not Subsribed by Users, 2. Streaming TV subscribed by the users.\n",
        "groups = df['StreamingTV']   \n",
        "i1 = (groups == 'No')      ## group i1 , having the pandas series for the 1st cohort\n",
        "i2 = (groups == 'Yes')     ## group i2 , having the pandas series for the 2nd cohort\n",
        "\n",
        "\n",
        "## fit the model for 1st cohort\n",
        "kmf1.fit(T[i1], E[i1], label='Not Subscribed StreamingTV')\n",
        "a1 = kmf1.plot()\n",
        "\n",
        "## fit the model for 2nd cohort\n",
        "kmf1.fit(T[i2], E[i2], label='Subscribed StreamingTV')\n",
        "kmf1.plot(ax=a1)"
      ],
      "execution_count": 22,
      "outputs": [
        {
          "output_type": "execute_result",
          "data": {
            "text/plain": [
              "<matplotlib.axes._subplots.AxesSubplot at 0x7f4516e82710>"
            ]
          },
          "metadata": {
            "tags": []
          },
          "execution_count": 22
        },
        {
          "output_type": "display_data",
          "data": {
            "image/png": "[encoded data removed]",
            "text/plain": [
              "<Figure size 864x432 with 1 Axes>"
            ]
          },
          "metadata": {
            "tags": [],
            "needs_background": "light"
          }
        }
      ]
    },
    {
      "cell_type": "code",
      "metadata": {
        "id": "5FijgY4dFPqY",
        "colab_type": "code",
        "colab": {}
      },
      "source": [
        "from lifelines import CoxPHFitter"
      ],
      "execution_count": 0,
      "outputs": []
    },
    {
      "cell_type": "code",
      "metadata": {
        "id": "CI6sYSM-FSyu",
        "colab_type": "code",
        "colab": {
          "base_uri": "https://localhost:8080/",
          "height": 204
        },
        "outputId": "6c7718aa-a157-4e69-8d5a-a1dc18088f5c"
      },
      "source": [
        "## My objective here is to introduce you to the implementation of the model.Thus taking subset of the columns to train the model.\n",
        "## Only using the subset of the columns present in the original data\n",
        "df_r= df.loc[:,['tenure','Churn','gender','Partner','Dependents','PhoneService','MonthlyCharges','SeniorCitizen','StreamingTV']]\n",
        "df_r.head() ## have a look at the data"
      ],
      "execution_count": 24,
      "outputs": [
        {
          "output_type": "execute_result",
          "data": {
            "text/html": [
              "<div>\n",
              "<style scoped>\n",
              "    .dataframe tbody tr th:only-of-type {\n",
              "        vertical-align: middle;\n",
              "    }\n",
              "\n",
              "    .dataframe tbody tr th {\n",
              "        vertical-align: top;\n",
              "    }\n",
              "\n",
              "    .dataframe thead th {\n",
              "        text-align: right;\n",
              "    }\n",
              "</style>\n",
              "<table border=\"1\" class=\"dataframe\">\n",
              "  <thead>\n",
              "    <tr style=\"text-align: right;\">\n",
              "      <th></th>\n",
              "      <th>tenure</th>\n",
              "      <th>Churn</th>\n",
              "      <th>gender</th>\n",
              "      <th>Partner</th>\n",
              "      <th>Dependents</th>\n",
              "      <th>PhoneService</th>\n",
              "      <th>MonthlyCharges</th>\n",
              "      <th>SeniorCitizen</th>\n",
              "      <th>StreamingTV</th>\n",
              "    </tr>\n",
              "  </thead>\n",
              "  <tbody>\n",
              "    <tr>\n",
              "      <th>0</th>\n",
              "      <td>1</td>\n",
              "      <td>0</td>\n",
              "      <td>Female</td>\n",
              "      <td>Yes</td>\n",
              "      <td>No</td>\n",
              "      <td>No</td>\n",
              "      <td>29.85</td>\n",
              "      <td>0</td>\n",
              "      <td>No</td>\n",
              "    </tr>\n",
              "    <tr>\n",
              "      <th>1</th>\n",
              "      <td>34</td>\n",
              "      <td>0</td>\n",
              "      <td>Male</td>\n",
              "      <td>No</td>\n",
              "      <td>No</td>\n",
              "      <td>Yes</td>\n",
              "      <td>56.95</td>\n",
              "      <td>0</td>\n",
              "      <td>No</td>\n",
              "    </tr>\n",
              "    <tr>\n",
              "      <th>2</th>\n",
              "      <td>2</td>\n",
              "      <td>1</td>\n",
              "      <td>Male</td>\n",
              "      <td>No</td>\n",
              "      <td>No</td>\n",
              "      <td>Yes</td>\n",
              "      <td>53.85</td>\n",
              "      <td>0</td>\n",
              "      <td>No</td>\n",
              "    </tr>\n",
              "    <tr>\n",
              "      <th>3</th>\n",
              "      <td>45</td>\n",
              "      <td>0</td>\n",
              "      <td>Male</td>\n",
              "      <td>No</td>\n",
              "      <td>No</td>\n",
              "      <td>No</td>\n",
              "      <td>42.30</td>\n",
              "      <td>0</td>\n",
              "      <td>No</td>\n",
              "    </tr>\n",
              "    <tr>\n",
              "      <th>4</th>\n",
              "      <td>2</td>\n",
              "      <td>1</td>\n",
              "      <td>Female</td>\n",
              "      <td>No</td>\n",
              "      <td>No</td>\n",
              "      <td>Yes</td>\n",
              "      <td>70.70</td>\n",
              "      <td>0</td>\n",
              "      <td>No</td>\n",
              "    </tr>\n",
              "  </tbody>\n",
              "</table>\n",
              "</div>"
            ],
            "text/plain": [
              "   tenure  Churn  gender  ... MonthlyCharges SeniorCitizen StreamingTV\n",
              "0       1      0  Female  ...          29.85             0          No\n",
              "1      34      0    Male  ...          56.95             0          No\n",
              "2       2      1    Male  ...          53.85             0          No\n",
              "3      45      0    Male  ...          42.30             0          No\n",
              "4       2      1  Female  ...          70.70             0          No\n",
              "\n",
              "[5 rows x 9 columns]"
            ]
          },
          "metadata": {
            "tags": []
          },
          "execution_count": 24
        }
      ]
    },
    {
      "cell_type": "code",
      "metadata": {
        "id": "ptjCkU0QFVmz",
        "colab_type": "code",
        "colab": {
          "base_uri": "https://localhost:8080/",
          "height": 204
        },
        "outputId": "51d00c65-2aec-459b-f366-cea18776ee58"
      },
      "source": [
        "## Create dummy variables\n",
        "df_dummy = pd.get_dummies(df_r, drop_first=True)\n",
        "df_dummy.head()"
      ],
      "execution_count": 25,
      "outputs": [
        {
          "output_type": "execute_result",
          "data": {
            "text/html": [
              "<div>\n",
              "<style scoped>\n",
              "    .dataframe tbody tr th:only-of-type {\n",
              "        vertical-align: middle;\n",
              "    }\n",
              "\n",
              "    .dataframe tbody tr th {\n",
              "        vertical-align: top;\n",
              "    }\n",
              "\n",
              "    .dataframe thead th {\n",
              "        text-align: right;\n",
              "    }\n",
              "</style>\n",
              "<table border=\"1\" class=\"dataframe\">\n",
              "  <thead>\n",
              "    <tr style=\"text-align: right;\">\n",
              "      <th></th>\n",
              "      <th>tenure</th>\n",
              "      <th>Churn</th>\n",
              "      <th>MonthlyCharges</th>\n",
              "      <th>SeniorCitizen</th>\n",
              "      <th>gender_Male</th>\n",
              "      <th>Partner_Yes</th>\n",
              "      <th>Dependents_Yes</th>\n",
              "      <th>PhoneService_Yes</th>\n",
              "      <th>StreamingTV_No internet service</th>\n",
              "      <th>StreamingTV_Yes</th>\n",
              "    </tr>\n",
              "  </thead>\n",
              "  <tbody>\n",
              "    <tr>\n",
              "      <th>0</th>\n",
              "      <td>1</td>\n",
              "      <td>0</td>\n",
              "      <td>29.85</td>\n",
              "      <td>0</td>\n",
              "      <td>0</td>\n",
              "      <td>1</td>\n",
              "      <td>0</td>\n",
              "      <td>0</td>\n",
              "      <td>0</td>\n",
              "      <td>0</td>\n",
              "    </tr>\n",
              "    <tr>\n",
              "      <th>1</th>\n",
              "      <td>34</td>\n",
              "      <td>0</td>\n",
              "      <td>56.95</td>\n",
              "      <td>0</td>\n",
              "      <td>1</td>\n",
              "      <td>0</td>\n",
              "      <td>0</td>\n",
              "      <td>1</td>\n",
              "      <td>0</td>\n",
              "      <td>0</td>\n",
              "    </tr>\n",
              "    <tr>\n",
              "      <th>2</th>\n",
              "      <td>2</td>\n",
              "      <td>1</td>\n",
              "      <td>53.85</td>\n",
              "      <td>0</td>\n",
              "      <td>1</td>\n",
              "      <td>0</td>\n",
              "      <td>0</td>\n",
              "      <td>1</td>\n",
              "      <td>0</td>\n",
              "      <td>0</td>\n",
              "    </tr>\n",
              "    <tr>\n",
              "      <th>3</th>\n",
              "      <td>45</td>\n",
              "      <td>0</td>\n",
              "      <td>42.30</td>\n",
              "      <td>0</td>\n",
              "      <td>1</td>\n",
              "      <td>0</td>\n",
              "      <td>0</td>\n",
              "      <td>0</td>\n",
              "      <td>0</td>\n",
              "      <td>0</td>\n",
              "    </tr>\n",
              "    <tr>\n",
              "      <th>4</th>\n",
              "      <td>2</td>\n",
              "      <td>1</td>\n",
              "      <td>70.70</td>\n",
              "      <td>0</td>\n",
              "      <td>0</td>\n",
              "      <td>0</td>\n",
              "      <td>0</td>\n",
              "      <td>1</td>\n",
              "      <td>0</td>\n",
              "      <td>0</td>\n",
              "    </tr>\n",
              "  </tbody>\n",
              "</table>\n",
              "</div>"
            ],
            "text/plain": [
              "   tenure  Churn  ...  StreamingTV_No internet service  StreamingTV_Yes\n",
              "0       1      0  ...                                0                0\n",
              "1      34      0  ...                                0                0\n",
              "2       2      1  ...                                0                0\n",
              "3      45      0  ...                                0                0\n",
              "4       2      1  ...                                0                0\n",
              "\n",
              "[5 rows x 10 columns]"
            ]
          },
          "metadata": {
            "tags": []
          },
          "execution_count": 25
        }
      ]
    },
    {
      "cell_type": "code",
      "metadata": {
        "id": "nYVSPniAFZ15",
        "colab_type": "code",
        "colab": {
          "base_uri": "https://localhost:8080/",
          "height": 669
        },
        "outputId": "a32b0945-05de-4620-c104-9623d08fb80a"
      },
      "source": [
        "# Using Cox Proportional Hazards model\n",
        "cph = CoxPHFitter()   ## Instantiate the class to create a cph object\n",
        "cph.fit(df_dummy, 'tenure', event_col='Churn')   ## Fit the data to train the model\n",
        "cph.print_summary()    ## HAve a look at the significance of the features"
      ],
      "execution_count": 26,
      "outputs": [
        {
          "output_type": "display_data",
          "data": {
            "text/html": [
              "<div>\n",
              "<style scoped>\n",
              "    .dataframe tbody tr th:only-of-type {\n",
              "        vertical-align: middle;\n",
              "    }\n",
              "\n",
              "    .dataframe tbody tr th {\n",
              "        vertical-align: top;\n",
              "    }\n",
              "\n",
              "    .dataframe thead th {\n",
              "        text-align: right;\n",
              "    }\n",
              "</style>\n",
              "<table border=\"1\" class=\"dataframe\">\n",
              "  <tbody>\n",
              "    <tr>\n",
              "      <th>model</th>\n",
              "      <td>lifelines.CoxPHFitter</td>\n",
              "    </tr>\n",
              "    <tr>\n",
              "      <th>duration col</th>\n",
              "      <td>'tenure'</td>\n",
              "    </tr>\n",
              "    <tr>\n",
              "      <th>event col</th>\n",
              "      <td>'Churn'</td>\n",
              "    </tr>\n",
              "    <tr>\n",
              "      <th>baseline estimation</th>\n",
              "      <td>breslow</td>\n",
              "    </tr>\n",
              "    <tr>\n",
              "      <th>number of observations</th>\n",
              "      <td>7043</td>\n",
              "    </tr>\n",
              "    <tr>\n",
              "      <th>number of events observed</th>\n",
              "      <td>1869</td>\n",
              "    </tr>\n",
              "    <tr>\n",
              "      <th>partial log-likelihood</th>\n",
              "      <td>-15182.39</td>\n",
              "    </tr>\n",
              "    <tr>\n",
              "      <th>time fit was run</th>\n",
              "      <td>2020-06-14 18:27:04 UTC</td>\n",
              "    </tr>\n",
              "  </tbody>\n",
              "</table>\n",
              "</div><table border=\"1\" class=\"dataframe\">\n",
              "  <thead>\n",
              "    <tr style=\"text-align: right;\">\n",
              "      <th></th>\n",
              "      <th>coef</th>\n",
              "      <th>exp(coef)</th>\n",
              "      <th>se(coef)</th>\n",
              "      <th>coef lower 95%</th>\n",
              "      <th>coef upper 95%</th>\n",
              "      <th>exp(coef) lower 95%</th>\n",
              "      <th>exp(coef) upper 95%</th>\n",
              "      <th>z</th>\n",
              "      <th>p</th>\n",
              "      <th>-log2(p)</th>\n",
              "    </tr>\n",
              "  </thead>\n",
              "  <tbody>\n",
              "    <tr>\n",
              "      <th>MonthlyCharges</th>\n",
              "      <td>-0.01</td>\n",
              "      <td>0.99</td>\n",
              "      <td>0.00</td>\n",
              "      <td>-0.01</td>\n",
              "      <td>-0.01</td>\n",
              "      <td>0.99</td>\n",
              "      <td>0.99</td>\n",
              "      <td>-6.13</td>\n",
              "      <td>&lt;0.005</td>\n",
              "      <td>30.06</td>\n",
              "    </tr>\n",
              "    <tr>\n",
              "      <th>SeniorCitizen</th>\n",
              "      <td>0.40</td>\n",
              "      <td>1.49</td>\n",
              "      <td>0.06</td>\n",
              "      <td>0.29</td>\n",
              "      <td>0.50</td>\n",
              "      <td>1.33</td>\n",
              "      <td>1.66</td>\n",
              "      <td>7.16</td>\n",
              "      <td>&lt;0.005</td>\n",
              "      <td>40.15</td>\n",
              "    </tr>\n",
              "    <tr>\n",
              "      <th>gender_Male</th>\n",
              "      <td>-0.01</td>\n",
              "      <td>0.99</td>\n",
              "      <td>0.05</td>\n",
              "      <td>-0.10</td>\n",
              "      <td>0.08</td>\n",
              "      <td>0.90</td>\n",
              "      <td>1.08</td>\n",
              "      <td>-0.23</td>\n",
              "      <td>0.82</td>\n",
              "      <td>0.29</td>\n",
              "    </tr>\n",
              "    <tr>\n",
              "      <th>Partner_Yes</th>\n",
              "      <td>-0.81</td>\n",
              "      <td>0.45</td>\n",
              "      <td>0.05</td>\n",
              "      <td>-0.92</td>\n",
              "      <td>-0.70</td>\n",
              "      <td>0.40</td>\n",
              "      <td>0.50</td>\n",
              "      <td>-14.93</td>\n",
              "      <td>&lt;0.005</td>\n",
              "      <td>164.98</td>\n",
              "    </tr>\n",
              "    <tr>\n",
              "      <th>Dependents_Yes</th>\n",
              "      <td>-0.36</td>\n",
              "      <td>0.70</td>\n",
              "      <td>0.07</td>\n",
              "      <td>-0.49</td>\n",
              "      <td>-0.22</td>\n",
              "      <td>0.61</td>\n",
              "      <td>0.80</td>\n",
              "      <td>-5.21</td>\n",
              "      <td>&lt;0.005</td>\n",
              "      <td>22.37</td>\n",
              "    </tr>\n",
              "    <tr>\n",
              "      <th>PhoneService_Yes</th>\n",
              "      <td>0.69</td>\n",
              "      <td>2.00</td>\n",
              "      <td>0.10</td>\n",
              "      <td>0.49</td>\n",
              "      <td>0.90</td>\n",
              "      <td>1.63</td>\n",
              "      <td>2.45</td>\n",
              "      <td>6.65</td>\n",
              "      <td>&lt;0.005</td>\n",
              "      <td>34.96</td>\n",
              "    </tr>\n",
              "    <tr>\n",
              "      <th>StreamingTV_No internet service</th>\n",
              "      <td>-2.10</td>\n",
              "      <td>0.12</td>\n",
              "      <td>0.13</td>\n",
              "      <td>-2.36</td>\n",
              "      <td>-1.84</td>\n",
              "      <td>0.09</td>\n",
              "      <td>0.16</td>\n",
              "      <td>-15.79</td>\n",
              "      <td>&lt;0.005</td>\n",
              "      <td>184.09</td>\n",
              "    </tr>\n",
              "    <tr>\n",
              "      <th>StreamingTV_Yes</th>\n",
              "      <td>-0.19</td>\n",
              "      <td>0.83</td>\n",
              "      <td>0.06</td>\n",
              "      <td>-0.31</td>\n",
              "      <td>-0.07</td>\n",
              "      <td>0.73</td>\n",
              "      <td>0.93</td>\n",
              "      <td>-3.10</td>\n",
              "      <td>&lt;0.005</td>\n",
              "      <td>9.03</td>\n",
              "    </tr>\n",
              "  </tbody>\n",
              "</table><div>\n",
              "<style scoped>\n",
              "    .dataframe tbody tr th:only-of-type {\n",
              "        vertical-align: middle;\n",
              "    }\n",
              "\n",
              "    .dataframe tbody tr th {\n",
              "        vertical-align: top;\n",
              "    }\n",
              "\n",
              "    .dataframe thead th {\n",
              "        text-align: right;\n",
              "    }\n",
              "</style>\n",
              "<table border=\"1\" class=\"dataframe\">\n",
              "  <tbody>\n",
              "    <tr>\n",
              "      <th>Concordance</th>\n",
              "      <td>0.71</td>\n",
              "    </tr>\n",
              "    <tr>\n",
              "      <th>Partial AIC</th>\n",
              "      <td>30380.78</td>\n",
              "    </tr>\n",
              "    <tr>\n",
              "      <th>log-likelihood ratio test</th>\n",
              "      <td>941.30 on 8 df</td>\n",
              "    </tr>\n",
              "    <tr>\n",
              "      <th>-log2(p) of ll-ratio test</th>\n",
              "      <td>654.95</td>\n",
              "    </tr>\n",
              "  </tbody>\n",
              "</table>\n",
              "</div>"
            ],
            "text/plain": [
              "<IPython.core.display.HTML object>"
            ]
          },
          "metadata": {
            "tags": []
          }
        }
      ]
    },
    {
      "cell_type": "code",
      "metadata": {
        "id": "FMkXVRz1FcmW",
        "colab_type": "code",
        "colab": {
          "base_uri": "https://localhost:8080/",
          "height": 405
        },
        "outputId": "cc01ca3d-01c4-4f9b-d6d9-c88d2c50b317"
      },
      "source": [
        "cph.plot()"
      ],
      "execution_count": 27,
      "outputs": [
        {
          "output_type": "execute_result",
          "data": {
            "text/plain": [
              "<matplotlib.axes._subplots.AxesSubplot at 0x7f4516dc6dd8>"
            ]
          },
          "metadata": {
            "tags": []
          },
          "execution_count": 27
        },
        {
          "output_type": "display_data",
          "data": {
            "image/png": "[encoded data removed]",
            "text/plain": [
              "<Figure size 864x432 with 1 Axes>"
            ]
          },
          "metadata": {
            "tags": [],
            "needs_background": "light"
          }
        }
      ]
    },
    {
      "cell_type": "code",
      "metadata": {
        "id": "Rwg5AnHmFfiA",
        "colab_type": "code",
        "colab": {
          "base_uri": "https://localhost:8080/",
          "height": 1000
        },
        "outputId": "3df19816-045d-4e36-91a4-0cf03806d1c0"
      },
      "source": [
        "## Check all the methods and attributes associated with the cph object.\n",
        "dir(cph)"
      ],
      "execution_count": 28,
      "outputs": [
        {
          "output_type": "execute_result",
          "data": {
            "text/plain": [
              "['AIC_partial_',\n",
              " '_ALLOWED_RESIDUALS',\n",
              " '_KNOWN_MODEL',\n",
              " '__annotations__',\n",
              " '__class__',\n",
              " '__delattr__',\n",
              " '__dict__',\n",
              " '__dir__',\n",
              " '__doc__',\n",
              " '__eq__',\n",
              " '__format__',\n",
              " '__ge__',\n",
              " '__getattribute__',\n",
              " '__gt__',\n",
              " '__hash__',\n",
              " '__init__',\n",
              " '__init_subclass__',\n",
              " '__le__',\n",
              " '__lt__',\n",
              " '__module__',\n",
              " '__ne__',\n",
              " '__new__',\n",
              " '__reduce__',\n",
              " '__reduce_ex__',\n",
              " '__repr__',\n",
              " '__setattr__',\n",
              " '__sizeof__',\n",
              " '__str__',\n",
              " '__subclasshook__',\n",
              " '__weakref__',\n",
              " '_batch_mode',\n",
              " '_censoring_type',\n",
              " '_check_values_post_fitting',\n",
              " '_check_values_pre_fitting',\n",
              " '_class_name',\n",
              " '_clusters',\n",
              " '_compute_baseline_cumulative_hazard',\n",
              " '_compute_baseline_hazard',\n",
              " '_compute_baseline_hazards',\n",
              " '_compute_baseline_survival',\n",
              " '_compute_confidence_intervals',\n",
              " '_compute_delta_beta',\n",
              " '_compute_deviance',\n",
              " '_compute_martingale',\n",
              " '_compute_p_values',\n",
              " '_compute_sandwich_estimator',\n",
              " '_compute_scale_schoenfeld',\n",
              " '_compute_scaled_schoenfeld',\n",
              " '_compute_schoenfeld',\n",
              " '_compute_schoenfeld_within_strata',\n",
              " '_compute_score',\n",
              " '_compute_score_within_strata',\n",
              " '_compute_standard_errors',\n",
              " '_compute_z_values',\n",
              " '_concordance_index_',\n",
              " '_fit_model',\n",
              " '_fit_model_breslow',\n",
              " '_fit_model_spline',\n",
              " '_get_efron_values_batch',\n",
              " '_get_efron_values_single',\n",
              " '_label',\n",
              " '_ll_null_',\n",
              " '_n_examples',\n",
              " '_newton_rhapson_for_efron_model',\n",
              " '_norm_mean',\n",
              " '_norm_std',\n",
              " '_partition_by_strata',\n",
              " '_partition_by_strata_and_apply',\n",
              " '_predicted_partial_hazards_',\n",
              " '_preprocess_dataframe',\n",
              " '_time_fit_was_called',\n",
              " '_trivial_log_likelihood',\n",
              " 'alpha',\n",
              " 'baseline_cumulative_hazard_',\n",
              " 'baseline_estimation_method',\n",
              " 'baseline_hazard_',\n",
              " 'baseline_survival_',\n",
              " 'check_assumptions',\n",
              " 'cluster_col',\n",
              " 'compute_followup_hazard_ratios',\n",
              " 'compute_residuals',\n",
              " 'concordance_index_',\n",
              " 'confidence_intervals_',\n",
              " 'duration_col',\n",
              " 'durations',\n",
              " 'event_col',\n",
              " 'event_observed',\n",
              " 'fit',\n",
              " 'fit_right_censoring',\n",
              " 'hazard_ratios_',\n",
              " 'l1_ratio',\n",
              " 'log_likelihood_',\n",
              " 'log_likelihood_ratio_test',\n",
              " 'n_baseline_knots',\n",
              " 'params_',\n",
              " 'penalizer',\n",
              " 'plot',\n",
              " 'plot_covariate_groups',\n",
              " 'predict_cumulative_hazard',\n",
              " 'predict_expectation',\n",
              " 'predict_log_partial_hazard',\n",
              " 'predict_median',\n",
              " 'predict_partial_hazard',\n",
              " 'predict_percentile',\n",
              " 'predict_survival_function',\n",
              " 'print_summary',\n",
              " 'robust',\n",
              " 'score',\n",
              " 'standard_errors_',\n",
              " 'strata',\n",
              " 'summary',\n",
              " 'variance_matrix_',\n",
              " 'weights',\n",
              " 'weights_col']"
            ]
          },
          "metadata": {
            "tags": []
          },
          "execution_count": 28
        }
      ]
    },
    {
      "cell_type": "code",
      "metadata": {
        "id": "ePZ81EjJFi1o",
        "colab_type": "code",
        "colab": {
          "base_uri": "https://localhost:8080/",
          "height": 204
        },
        "outputId": "863b064d-9fa4-4892-e263-856435974341"
      },
      "source": [
        "## We want to see the Survival curve at the customer level. Therefore, we have selected 6 customers (rows 5 till 9).\n",
        "\n",
        "tr_rows = df_dummy.iloc[5:10, 2:]\n",
        "tr_rows"
      ],
      "execution_count": 29,
      "outputs": [
        {
          "output_type": "execute_result",
          "data": {
            "text/html": [
              "<div>\n",
              "<style scoped>\n",
              "    .dataframe tbody tr th:only-of-type {\n",
              "        vertical-align: middle;\n",
              "    }\n",
              "\n",
              "    .dataframe tbody tr th {\n",
              "        vertical-align: top;\n",
              "    }\n",
              "\n",
              "    .dataframe thead th {\n",
              "        text-align: right;\n",
              "    }\n",
              "</style>\n",
              "<table border=\"1\" class=\"dataframe\">\n",
              "  <thead>\n",
              "    <tr style=\"text-align: right;\">\n",
              "      <th></th>\n",
              "      <th>MonthlyCharges</th>\n",
              "      <th>SeniorCitizen</th>\n",
              "      <th>gender_Male</th>\n",
              "      <th>Partner_Yes</th>\n",
              "      <th>Dependents_Yes</th>\n",
              "      <th>PhoneService_Yes</th>\n",
              "      <th>StreamingTV_No internet service</th>\n",
              "      <th>StreamingTV_Yes</th>\n",
              "    </tr>\n",
              "  </thead>\n",
              "  <tbody>\n",
              "    <tr>\n",
              "      <th>5</th>\n",
              "      <td>99.65</td>\n",
              "      <td>0</td>\n",
              "      <td>0</td>\n",
              "      <td>0</td>\n",
              "      <td>0</td>\n",
              "      <td>1</td>\n",
              "      <td>0</td>\n",
              "      <td>1</td>\n",
              "    </tr>\n",
              "    <tr>\n",
              "      <th>6</th>\n",
              "      <td>89.10</td>\n",
              "      <td>0</td>\n",
              "      <td>1</td>\n",
              "      <td>0</td>\n",
              "      <td>1</td>\n",
              "      <td>1</td>\n",
              "      <td>0</td>\n",
              "      <td>1</td>\n",
              "    </tr>\n",
              "    <tr>\n",
              "      <th>7</th>\n",
              "      <td>29.75</td>\n",
              "      <td>0</td>\n",
              "      <td>0</td>\n",
              "      <td>0</td>\n",
              "      <td>0</td>\n",
              "      <td>0</td>\n",
              "      <td>0</td>\n",
              "      <td>0</td>\n",
              "    </tr>\n",
              "    <tr>\n",
              "      <th>8</th>\n",
              "      <td>104.80</td>\n",
              "      <td>0</td>\n",
              "      <td>0</td>\n",
              "      <td>1</td>\n",
              "      <td>0</td>\n",
              "      <td>1</td>\n",
              "      <td>0</td>\n",
              "      <td>1</td>\n",
              "    </tr>\n",
              "    <tr>\n",
              "      <th>9</th>\n",
              "      <td>56.15</td>\n",
              "      <td>0</td>\n",
              "      <td>1</td>\n",
              "      <td>0</td>\n",
              "      <td>1</td>\n",
              "      <td>1</td>\n",
              "      <td>0</td>\n",
              "      <td>0</td>\n",
              "    </tr>\n",
              "  </tbody>\n",
              "</table>\n",
              "</div>"
            ],
            "text/plain": [
              "   MonthlyCharges  ...  StreamingTV_Yes\n",
              "5           99.65  ...                1\n",
              "6           89.10  ...                1\n",
              "7           29.75  ...                0\n",
              "8          104.80  ...                1\n",
              "9           56.15  ...                0\n",
              "\n",
              "[5 rows x 8 columns]"
            ]
          },
          "metadata": {
            "tags": []
          },
          "execution_count": 29
        }
      ]
    },
    {
      "cell_type": "code",
      "metadata": {
        "id": "CDeVDjyRFm5p",
        "colab_type": "code",
        "colab": {
          "base_uri": "https://localhost:8080/",
          "height": 391
        },
        "outputId": "f8509d72-f149-4032-80be-989944bed7fb"
      },
      "source": [
        "## Lets predict the survival curve for the selected customers. \n",
        "## Customers can be identified with the help of the number mentioned against each curve.\n",
        "cph.predict_survival_function(tr_rows).plot()"
      ],
      "execution_count": 30,
      "outputs": [
        {
          "output_type": "execute_result",
          "data": {
            "text/plain": [
              "<matplotlib.axes._subplots.AxesSubplot at 0x7f4514508518>"
            ]
          },
          "metadata": {
            "tags": []
          },
          "execution_count": 30
        },
        {
          "output_type": "display_data",
          "data": {
            "image/png": "[encoded data removed]",
            "text/plain": [
              "<Figure size 864x432 with 1 Axes>"
            ]
          },
          "metadata": {
            "tags": [],
            "needs_background": "light"
          }
        }
      ]
    },
    {
      "cell_type": "code",
      "metadata": {
        "id": "dkN5d_NMFp2I",
        "colab_type": "code",
        "colab": {}
      },
      "source": [
        ""
      ],
      "execution_count": 0,
      "outputs": []
    }
  ]
}