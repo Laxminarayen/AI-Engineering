{
  "nbformat": 4,
  "nbformat_minor": 0,
  "metadata": {
    "colab": {
      "name": "Get Start with Colab.ipynb",
      "provenance": [],
      "collapsed_sections": []
    },
    "kernelspec": {
      "name": "python3",
      "display_name": "Python 3"
    }
  },
  "cells": [
    {
      "cell_type": "code",
      "metadata": {
        "id": "amd_27O7GJYJ",
        "colab_type": "code",
        "colab": {
          "base_uri": "https://localhost:8080/",
          "height": 34
        },
        "outputId": "cd7b15d7-1382-4f4b-dc18-f1743b93fc49"
      },
      "source": [
        "!pwd"
      ],
      "execution_count": 1,
      "outputs": [
        {
          "output_type": "stream",
          "text": [
            "/content\n"
          ],
          "name": "stdout"
        }
      ]
    },
    {
      "cell_type": "code",
      "metadata": {
        "id": "NorSixTjGMGu",
        "colab_type": "code",
        "colab": {
          "base_uri": "https://localhost:8080/",
          "height": 34
        },
        "outputId": "7d163883-59f2-4bae-a477-f26cc2d39237"
      },
      "source": [
        "!ls"
      ],
      "execution_count": 2,
      "outputs": [
        {
          "output_type": "stream",
          "text": [
            "sample_data\n"
          ],
          "name": "stdout"
        }
      ]
    },
    {
      "cell_type": "code",
      "metadata": {
        "id": "Rq4_ZUWYGUKj",
        "colab_type": "code",
        "colab": {
          "base_uri": "https://localhost:8080/",
          "height": 34
        },
        "outputId": "d3d7243d-ec64-4a9b-b395-9d663736b69a"
      },
      "source": [
        "cd sample_data/"
      ],
      "execution_count": 3,
      "outputs": [
        {
          "output_type": "stream",
          "text": [
            "/content/sample_data\n"
          ],
          "name": "stdout"
        }
      ]
    },
    {
      "cell_type": "code",
      "metadata": {
        "id": "PFc1xGb7Gb-W",
        "colab_type": "code",
        "colab": {
          "base_uri": "https://localhost:8080/",
          "height": 122
        },
        "outputId": "b4ba8a2c-4e42-4663-e769-1be975a6dc22"
      },
      "source": [
        "from google.colab import drive\n",
        "drive.mount('/content/drive')"
      ],
      "execution_count": 4,
      "outputs": [
        {
          "output_type": "stream",
          "text": [
            "Go to this URL in a browser: https://accounts.google.com/o/oauth2/auth?client_id=947318989803-6bn6qk8qdgf4n4g3pfee6491hc0brc4i.apps.googleusercontent.com&redirect_uri=urn%3aietf%3awg%3aoauth%3a2.0%3aoob&response_type=code&scope=email%20https%3a%2f%2fwww.googleapis.com%2fauth%2fdocs.test%20https%3a%2f%2fwww.googleapis.com%2fauth%2fdrive%20https%3a%2f%2fwww.googleapis.com%2fauth%2fdrive.photos.readonly%20https%3a%2f%2fwww.googleapis.com%2fauth%2fpeopleapi.readonly\n",
            "\n",
            "Enter your authorization code:\n",
            "··········\n",
            "Mounted at /content/drive\n"
          ],
          "name": "stdout"
        }
      ]
    },
    {
      "cell_type": "code",
      "metadata": {
        "id": "H4cxcbw6JvJu",
        "colab_type": "code",
        "colab": {
          "base_uri": "https://localhost:8080/",
          "height": 323
        },
        "outputId": "b8409eea-a5b3-4457-aeac-b060741cd25f"
      },
      "source": [
        "# After executing the cell above, Drive\n",
        "# files will be present in \"/content/drive/My Drive\".\n",
        "!ls \"/content/drive/My Drive\""
      ],
      "execution_count": 5,
      "outputs": [
        {
          "output_type": "stream",
          "text": [
            "'Colab Notebooks'\n",
            " Faq\n",
            " FBAR_Organizer_2018.gsheet\n",
            "'Inceptez PPT'\n",
            " IOT\n",
            "\"Jason's Machine Learning 101.gslides\"\n",
            " Lecture_19_Streaming_Part-I.gdoc\n",
            "'ML DL for everyone'\n",
            "'ML Lecture Notes'\n",
            " mongodb\n",
            " Organic\n",
            " Personel\n",
            " Python\n",
            " sadique\n",
            " Spark\n",
            " Spiritual\n",
            " Statistitics_Confidence_Interval_Hypothesis_Testing.pdf\n",
            " Thiyagu\n"
          ],
          "name": "stdout"
        }
      ]
    },
    {
      "cell_type": "code",
      "metadata": {
        "id": "zK_rNEq4J43m",
        "colab_type": "code",
        "colab": {
          "base_uri": "https://localhost:8080/",
          "height": 34
        },
        "outputId": "e335f276-30ea-46fe-f1cc-b70f2a468cba"
      },
      "source": [
        "!pwd"
      ],
      "execution_count": 6,
      "outputs": [
        {
          "output_type": "stream",
          "text": [
            "/content/sample_data\n"
          ],
          "name": "stdout"
        }
      ]
    },
    {
      "cell_type": "code",
      "metadata": {
        "id": "wGkOOT9BKBrO",
        "colab_type": "code",
        "colab": {
          "base_uri": "https://localhost:8080/",
          "height": 34
        },
        "outputId": "0239f41e-2994-47b8-80ee-725261af2c7e"
      },
      "source": [
        "cd .."
      ],
      "execution_count": 7,
      "outputs": [
        {
          "output_type": "stream",
          "text": [
            "/content\n"
          ],
          "name": "stdout"
        }
      ]
    },
    {
      "cell_type": "code",
      "metadata": {
        "id": "C3MA3TVTKYJU",
        "colab_type": "code",
        "colab": {
          "base_uri": "https://localhost:8080/",
          "height": 34
        },
        "outputId": "95d7cc5f-cade-48e0-9cca-474a461f5f0c"
      },
      "source": [
        "!pwd"
      ],
      "execution_count": 8,
      "outputs": [
        {
          "output_type": "stream",
          "text": [
            "/content\n"
          ],
          "name": "stdout"
        }
      ]
    },
    {
      "cell_type": "code",
      "metadata": {
        "id": "FNPuudhkKbnK",
        "colab_type": "code",
        "colab": {
          "base_uri": "https://localhost:8080/",
          "height": 85
        },
        "outputId": "1db9cdac-f78d-4cda-8499-ea9f71a69795"
      },
      "source": [
        "!git clone https://github.com/anujshah1003/own_data_cnn_implementation_keras.git"
      ],
      "execution_count": 9,
      "outputs": [
        {
          "output_type": "stream",
          "text": [
            "Cloning into 'own_data_cnn_implementation_keras'...\n",
            "remote: Enumerating objects: 51, done.\u001b[K\n",
            "remote: Total 51 (delta 0), reused 0 (delta 0), pack-reused 51\u001b[K\n",
            "Unpacking objects: 100% (51/51), done.\n"
          ],
          "name": "stdout"
        }
      ]
    },
    {
      "cell_type": "code",
      "metadata": {
        "id": "4LMfBcVAK4pN",
        "colab_type": "code",
        "colab": {
          "base_uri": "https://localhost:8080/",
          "height": 34
        },
        "outputId": "21ae55a7-e771-4634-ef75-905a8d7877f0"
      },
      "source": [
        "!ls"
      ],
      "execution_count": 10,
      "outputs": [
        {
          "output_type": "stream",
          "text": [
            "drive  own_data_cnn_implementation_keras  sample_data\n"
          ],
          "name": "stdout"
        }
      ]
    },
    {
      "cell_type": "code",
      "metadata": {
        "id": "KbWWTDQlK7fr",
        "colab_type": "code",
        "colab": {
          "base_uri": "https://localhost:8080/",
          "height": 34
        },
        "outputId": "a89584eb-fec9-4726-9759-319906383035"
      },
      "source": [
        "cd own_data_cnn_implementation_keras/"
      ],
      "execution_count": 11,
      "outputs": [
        {
          "output_type": "stream",
          "text": [
            "/content/own_data_cnn_implementation_keras\n"
          ],
          "name": "stdout"
        }
      ]
    },
    {
      "cell_type": "code",
      "metadata": {
        "id": "vY7quRPLLAQg",
        "colab_type": "code",
        "colab": {
          "base_uri": "https://localhost:8080/",
          "height": 51
        },
        "outputId": "e9282de8-055b-41ff-cdf0-e0c2918ad7ad"
      },
      "source": [
        "!ls"
      ],
      "execution_count": 12,
      "outputs": [
        {
          "output_type": "stream",
          "text": [
            "_config.yml\t    data.zip   updated_custom_data_cnn.py\n",
            "custom_data_cnn.py  README.md\n"
          ],
          "name": "stdout"
        }
      ]
    },
    {
      "cell_type": "code",
      "metadata": {
        "id": "biqIzuDmLCHZ",
        "colab_type": "code",
        "colab": {}
      },
      "source": [
        "!rm -rf updated_custom_data_cnn.py"
      ],
      "execution_count": 0,
      "outputs": []
    },
    {
      "cell_type": "code",
      "metadata": {
        "id": "VbueWwqXLHtP",
        "colab_type": "code",
        "colab": {
          "base_uri": "https://localhost:8080/",
          "height": 34
        },
        "outputId": "3efe047d-f3a1-4fee-dbc7-8d74ab6caafd"
      },
      "source": [
        "!ls"
      ],
      "execution_count": 14,
      "outputs": [
        {
          "output_type": "stream",
          "text": [
            "_config.yml  custom_data_cnn.py  data.zip  README.md\n"
          ],
          "name": "stdout"
        }
      ]
    },
    {
      "cell_type": "code",
      "metadata": {
        "id": "c7P5VdOPLJJ3",
        "colab_type": "code",
        "colab": {}
      },
      "source": [
        "!rm -rf custom_data_cnn.py"
      ],
      "execution_count": 0,
      "outputs": []
    },
    {
      "cell_type": "code",
      "metadata": {
        "id": "ttaetgL1LQpF",
        "colab_type": "code",
        "colab": {}
      },
      "source": [
        "!rm -rf README.md"
      ],
      "execution_count": 0,
      "outputs": []
    },
    {
      "cell_type": "code",
      "metadata": {
        "id": "Zhf-rFCbLVvq",
        "colab_type": "code",
        "colab": {
          "base_uri": "https://localhost:8080/",
          "height": 34
        },
        "outputId": "c673470e-4e40-44a6-ae84-0b1acbeddad9"
      },
      "source": [
        "!ls"
      ],
      "execution_count": 17,
      "outputs": [
        {
          "output_type": "stream",
          "text": [
            "_config.yml  data.zip\n"
          ],
          "name": "stdout"
        }
      ]
    },
    {
      "cell_type": "code",
      "metadata": {
        "id": "UsIirvhgLW-W",
        "colab_type": "code",
        "colab": {}
      },
      "source": [
        "#!unzip data.zip"
      ],
      "execution_count": 0,
      "outputs": []
    },
    {
      "cell_type": "code",
      "metadata": {
        "id": "0qgaDN6TLb0f",
        "colab_type": "code",
        "colab": {
          "base_uri": "https://localhost:8080/",
          "height": 51
        },
        "outputId": "a5b73476-8fab-46bb-e408-0cb638ae9752"
      },
      "source": [
        "from zipfile import ZipFile\n",
        "file_name= \"data.zip\"\n",
        "with ZipFile(file_name,'r') as zip:\n",
        "  print(\"Extracting zip fill now......\")\n",
        "  zip.extractall()\n",
        "  print(\"Done\")\n"
      ],
      "execution_count": 19,
      "outputs": [
        {
          "output_type": "stream",
          "text": [
            "Extracting zip fill now......\n",
            "Done\n"
          ],
          "name": "stdout"
        }
      ]
    },
    {
      "cell_type": "code",
      "metadata": {
        "id": "BvNKc3_AN1Jk",
        "colab_type": "code",
        "colab": {
          "base_uri": "https://localhost:8080/",
          "height": 34
        },
        "outputId": "11fdf5dd-46ab-47a4-a222-89f3b8d183a8"
      },
      "source": [
        "!ls"
      ],
      "execution_count": 20,
      "outputs": [
        {
          "output_type": "stream",
          "text": [
            "_config.yml  data  data.zip\n"
          ],
          "name": "stdout"
        }
      ]
    },
    {
      "cell_type": "code",
      "metadata": {
        "id": "FenPIE7aN4VT",
        "colab_type": "code",
        "colab": {}
      },
      "source": [
        "!rm -rf data.zip"
      ],
      "execution_count": 0,
      "outputs": []
    },
    {
      "cell_type": "code",
      "metadata": {
        "id": "sn9ZRz9mN7Z9",
        "colab_type": "code",
        "colab": {
          "base_uri": "https://localhost:8080/",
          "height": 34
        },
        "outputId": "ea03385a-a69f-4117-fa4e-7168ba6c34f0"
      },
      "source": [
        "!ls"
      ],
      "execution_count": 22,
      "outputs": [
        {
          "output_type": "stream",
          "text": [
            "_config.yml  data\n"
          ],
          "name": "stdout"
        }
      ]
    },
    {
      "cell_type": "code",
      "metadata": {
        "id": "pjEqWtMON9Ai",
        "colab_type": "code",
        "colab": {
          "base_uri": "https://localhost:8080/",
          "height": 34
        },
        "outputId": "891e0a25-69a3-457d-97c9-a4a16b7a1038"
      },
      "source": [
        "cd data/"
      ],
      "execution_count": 23,
      "outputs": [
        {
          "output_type": "stream",
          "text": [
            "/content/own_data_cnn_implementation_keras/data\n"
          ],
          "name": "stdout"
        }
      ]
    },
    {
      "cell_type": "code",
      "metadata": {
        "id": "3egmlIweOVU8",
        "colab_type": "code",
        "colab": {
          "base_uri": "https://localhost:8080/",
          "height": 34
        },
        "outputId": "9bebf834-32ee-4a2f-ecbe-d189c5d65da5"
      },
      "source": [
        "!ls"
      ],
      "execution_count": 24,
      "outputs": [
        {
          "output_type": "stream",
          "text": [
            "cats  dogs  horses  humans\n"
          ],
          "name": "stdout"
        }
      ]
    },
    {
      "cell_type": "code",
      "metadata": {
        "id": "p7KrKpYMOWjk",
        "colab_type": "code",
        "colab": {
          "base_uri": "https://localhost:8080/",
          "height": 34
        },
        "outputId": "ca4ffe61-6876-4780-ee01-9387011d6532"
      },
      "source": [
        "cd cats/"
      ],
      "execution_count": 25,
      "outputs": [
        {
          "output_type": "stream",
          "text": [
            "/content/own_data_cnn_implementation_keras/data/cats\n"
          ],
          "name": "stdout"
        }
      ]
    },
    {
      "cell_type": "code",
      "metadata": {
        "id": "YCsIA4bYOYTb",
        "colab_type": "code",
        "colab": {
          "base_uri": "https://localhost:8080/",
          "height": 595
        },
        "outputId": "b6e13a80-b0f5-4e22-9cfa-4074eaeb5131"
      },
      "source": [
        "!ls"
      ],
      "execution_count": 26,
      "outputs": [
        {
          "output_type": "stream",
          "text": [
            "cat.100.jpg  cat.131.jpg  cat.162.jpg  cat.193.jpg  cat.40.jpg\tcat.71.jpg\n",
            "cat.101.jpg  cat.132.jpg  cat.163.jpg  cat.194.jpg  cat.41.jpg\tcat.72.jpg\n",
            "cat.102.jpg  cat.133.jpg  cat.164.jpg  cat.195.jpg  cat.42.jpg\tcat.73.jpg\n",
            "cat.103.jpg  cat.134.jpg  cat.165.jpg  cat.196.jpg  cat.43.jpg\tcat.74.jpg\n",
            "cat.104.jpg  cat.135.jpg  cat.166.jpg  cat.197.jpg  cat.44.jpg\tcat.75.jpg\n",
            "cat.105.jpg  cat.136.jpg  cat.167.jpg  cat.198.jpg  cat.45.jpg\tcat.76.jpg\n",
            "cat.106.jpg  cat.137.jpg  cat.168.jpg  cat.199.jpg  cat.46.jpg\tcat.77.jpg\n",
            "cat.107.jpg  cat.138.jpg  cat.169.jpg  cat.19.jpg   cat.47.jpg\tcat.78.jpg\n",
            "cat.108.jpg  cat.139.jpg  cat.16.jpg   cat.1.jpg    cat.48.jpg\tcat.79.jpg\n",
            "cat.109.jpg  cat.13.jpg   cat.170.jpg  cat.200.jpg  cat.49.jpg\tcat.7.jpg\n",
            "cat.10.jpg   cat.140.jpg  cat.171.jpg  cat.201.jpg  cat.4.jpg\tcat.80.jpg\n",
            "cat.110.jpg  cat.141.jpg  cat.172.jpg  cat.202.jpg  cat.50.jpg\tcat.81.jpg\n",
            "cat.111.jpg  cat.142.jpg  cat.173.jpg  cat.20.jpg   cat.51.jpg\tcat.82.jpg\n",
            "cat.112.jpg  cat.143.jpg  cat.174.jpg  cat.21.jpg   cat.52.jpg\tcat.83.jpg\n",
            "cat.113.jpg  cat.144.jpg  cat.175.jpg  cat.22.jpg   cat.53.jpg\tcat.84.jpg\n",
            "cat.114.jpg  cat.145.jpg  cat.176.jpg  cat.23.jpg   cat.54.jpg\tcat.85.jpg\n",
            "cat.115.jpg  cat.146.jpg  cat.177.jpg  cat.24.jpg   cat.55.jpg\tcat.86.jpg\n",
            "cat.116.jpg  cat.147.jpg  cat.178.jpg  cat.25.jpg   cat.56.jpg\tcat.87.jpg\n",
            "cat.117.jpg  cat.148.jpg  cat.179.jpg  cat.26.jpg   cat.57.jpg\tcat.88.jpg\n",
            "cat.118.jpg  cat.149.jpg  cat.17.jpg   cat.27.jpg   cat.58.jpg\tcat.89.jpg\n",
            "cat.119.jpg  cat.14.jpg   cat.180.jpg  cat.28.jpg   cat.59.jpg\tcat.8.jpg\n",
            "cat.11.jpg   cat.150.jpg  cat.181.jpg  cat.29.jpg   cat.5.jpg\tcat.90.jpg\n",
            "cat.120.jpg  cat.151.jpg  cat.182.jpg  cat.2.jpg    cat.60.jpg\tcat.91.jpg\n",
            "cat.121.jpg  cat.152.jpg  cat.183.jpg  cat.30.jpg   cat.61.jpg\tcat.92.jpg\n",
            "cat.122.jpg  cat.153.jpg  cat.184.jpg  cat.31.jpg   cat.62.jpg\tcat.93.jpg\n",
            "cat.123.jpg  cat.154.jpg  cat.185.jpg  cat.32.jpg   cat.63.jpg\tcat.94.jpg\n",
            "cat.124.jpg  cat.155.jpg  cat.186.jpg  cat.33.jpg   cat.64.jpg\tcat.95.jpg\n",
            "cat.125.jpg  cat.156.jpg  cat.187.jpg  cat.34.jpg   cat.65.jpg\tcat.96.jpg\n",
            "cat.126.jpg  cat.157.jpg  cat.188.jpg  cat.35.jpg   cat.66.jpg\tcat.97.jpg\n",
            "cat.127.jpg  cat.158.jpg  cat.189.jpg  cat.36.jpg   cat.67.jpg\tcat.98.jpg\n",
            "cat.128.jpg  cat.159.jpg  cat.18.jpg   cat.37.jpg   cat.68.jpg\tcat.99.jpg\n",
            "cat.129.jpg  cat.15.jpg   cat.190.jpg  cat.38.jpg   cat.69.jpg\tcat.9.jpg\n",
            "cat.12.jpg   cat.160.jpg  cat.191.jpg  cat.39.jpg   cat.6.jpg\n",
            "cat.130.jpg  cat.161.jpg  cat.192.jpg  cat.3.jpg    cat.70.jpg\n"
          ],
          "name": "stdout"
        }
      ]
    },
    {
      "cell_type": "code",
      "metadata": {
        "id": "wanB2dlFOZVE",
        "colab_type": "code",
        "colab": {
          "base_uri": "https://localhost:8080/",
          "height": 34
        },
        "outputId": "7e5865ba-196e-4d50-80f8-f2aaa52bee54"
      },
      "source": [
        "cd /"
      ],
      "execution_count": 27,
      "outputs": [
        {
          "output_type": "stream",
          "text": [
            "/\n"
          ],
          "name": "stdout"
        }
      ]
    },
    {
      "cell_type": "code",
      "metadata": {
        "id": "T91y2oW-Qwsd",
        "colab_type": "code",
        "colab": {
          "base_uri": "https://localhost:8080/",
          "height": 136
        },
        "outputId": "465ec662-9dc6-4ecf-95dd-812615eb293b"
      },
      "source": [
        "!ls"
      ],
      "execution_count": 28,
      "outputs": [
        {
          "output_type": "stream",
          "text": [
            "bin\t\t\t\t\t   etc\t  opt\t sys\n",
            "boot\t\t\t\t\t   home   proc\t tensorflow-1.15.2\n",
            "content\t\t\t\t\t   lib\t  root\t tmp\n",
            "datalab\t\t\t\t\t   lib32  run\t tools\n",
            "dev\t\t\t\t\t   lib64  sbin\t usr\n",
            "dlib-19.18.0-cp27-cp27mu-linux_x86_64.whl  media  srv\t var\n",
            "dlib-19.18.0-cp36-cp36m-linux_x86_64.whl   mnt\t  swift\n"
          ],
          "name": "stdout"
        }
      ]
    },
    {
      "cell_type": "code",
      "metadata": {
        "id": "lZYJM6k6U3oh",
        "colab_type": "code",
        "colab": {}
      },
      "source": [
        ""
      ],
      "execution_count": 0,
      "outputs": []
    },
    {
      "cell_type": "code",
      "metadata": {
        "id": "vXVOndLsRYx6",
        "colab_type": "code",
        "colab": {}
      },
      "source": [
        ""
      ],
      "execution_count": 0,
      "outputs": []
    }
  ]
}