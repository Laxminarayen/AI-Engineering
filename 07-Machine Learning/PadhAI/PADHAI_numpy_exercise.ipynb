{
  "nbformat": 4,
  "nbformat_minor": 0,
  "metadata": {
    "colab": {
      "name": "PADHAI numpy exercise.ipynb",
      "provenance": [],
      "collapsed_sections": [],
      "authorship_tag": "ABX9TyOHWBDQSXEOeOApJimSUSDX",
      "include_colab_link": true
    },
    "kernelspec": {
      "name": "python3",
      "display_name": "Python 3"
    }
  },
  "cells": [
    {
      "cell_type": "markdown",
      "metadata": {
        "id": "view-in-github",
        "colab_type": "text"
      },
      "source": [
        "<a href=\"https://colab.research.google.com/github/plthiyagu/Personnel/blob/master/PADHAI_numpy_exercise.ipynb\" target=\"_parent\"><img src=\"https://colab.research.google.com/assets/colab-badge.svg\" alt=\"Open In Colab\"/></a>"
      ]
    },
    {
      "cell_type": "code",
      "metadata": {
        "id": "8Ol9Ue2kXuKe",
        "colab_type": "code",
        "colab": {}
      },
      "source": [
        "import numpy as np"
      ],
      "execution_count": null,
      "outputs": []
    },
    {
      "cell_type": "code",
      "metadata": {
        "id": "SS2NFWjPX1s4",
        "colab_type": "code",
        "colab": {
          "base_uri": "https://localhost:8080/",
          "height": 187
        },
        "outputId": "c6995af3-a7cd-4892-8534-10bf1cc82ec4"
      },
      "source": [
        "!head cric_data-200320-181217.tsv"
      ],
      "execution_count": null,
      "outputs": [
        {
          "output_type": "stream",
          "text": [
            "\tSachin Tendulkar\tRahul Dravid\tIndia\n",
            "0\t100\t78\t342\n",
            "1\t11\t62\t191\n",
            "2\t8\t85\t252\n",
            "3\t71\t24\t307\n",
            "4\t104\t17\t229\n",
            "5\t18\t104\t246\n",
            "6\t8\t76\t226\n",
            "7\t86\t74\t288\n",
            "8\t12\t60\t216\n"
          ],
          "name": "stdout"
        }
      ]
    },
    {
      "cell_type": "code",
      "metadata": {
        "id": "JPFLBr8iX8rc",
        "colab_type": "code",
        "colab": {}
      },
      "source": [
        "cric_data=np.loadtxt(\"cric_data-200320-181217.tsv\",skiprows=1)"
      ],
      "execution_count": null,
      "outputs": []
    },
    {
      "cell_type": "code",
      "metadata": {
        "id": "Og5abBfOa6V7",
        "colab_type": "code",
        "colab": {
          "base_uri": "https://localhost:8080/",
          "height": 34
        },
        "outputId": "0a8b15bc-f864-476f-f336-ba18995d8977"
      },
      "source": [
        "cric_data.shape"
      ],
      "execution_count": null,
      "outputs": [
        {
          "output_type": "execute_result",
          "data": {
            "text/plain": [
              "(225, 4)"
            ]
          },
          "metadata": {
            "tags": []
          },
          "execution_count": 65
        }
      ]
    },
    {
      "cell_type": "code",
      "metadata": {
        "id": "KTIn3Ckla_VK",
        "colab_type": "code",
        "colab": {}
      },
      "source": [
        "cric_data= cric_data[:,[1,2,3]]"
      ],
      "execution_count": null,
      "outputs": []
    },
    {
      "cell_type": "code",
      "metadata": {
        "id": "doOU3o5IY1Hu",
        "colab_type": "code",
        "colab": {
          "base_uri": "https://localhost:8080/",
          "height": 34
        },
        "outputId": "22520498-6efd-4839-d173-2cc9d6d22dd3"
      },
      "source": [
        "cric_data.shape"
      ],
      "execution_count": null,
      "outputs": [
        {
          "output_type": "execute_result",
          "data": {
            "text/plain": [
              "(225, 3)"
            ]
          },
          "metadata": {
            "tags": []
          },
          "execution_count": 67
        }
      ]
    },
    {
      "cell_type": "code",
      "metadata": {
        "id": "0j9Dsb-EY4Cr",
        "colab_type": "code",
        "colab": {}
      },
      "source": [
        "sachin_data= cric_data[:,0]"
      ],
      "execution_count": null,
      "outputs": []
    },
    {
      "cell_type": "code",
      "metadata": {
        "id": "eCgxjy7PZBkf",
        "colab_type": "code",
        "colab": {}
      },
      "source": [
        "rahul_data=cric_data[:,1]"
      ],
      "execution_count": null,
      "outputs": []
    },
    {
      "cell_type": "code",
      "metadata": {
        "id": "iR73chgJZGD5",
        "colab_type": "code",
        "colab": {}
      },
      "source": [
        "india_data= cric_data[:,2]"
      ],
      "execution_count": null,
      "outputs": []
    },
    {
      "cell_type": "code",
      "metadata": {
        "id": "IUgkPkYbZQK6",
        "colab_type": "code",
        "colab": {}
      },
      "source": [
        "def stats(col):\n",
        "  print(\"Mean\",np.mean(col))\n",
        "  print(\"Median\",np.median(col))\n",
        "  print(\"IQR\",np.percentile(col,75)-np.percentile(col,25))\n"
      ],
      "execution_count": null,
      "outputs": []
    },
    {
      "cell_type": "code",
      "metadata": {
        "id": "urfCQ9YoaAfs",
        "colab_type": "code",
        "colab": {
          "base_uri": "https://localhost:8080/",
          "height": 68
        },
        "outputId": "e884ef1b-bbfc-40f4-d657-e959349c0858"
      },
      "source": [
        "stats(sachin_data)"
      ],
      "execution_count": null,
      "outputs": [
        {
          "output_type": "stream",
          "text": [
            "Mean 39.87555555555556\n",
            "Median 27.0\n",
            "IQR 57.0\n"
          ],
          "name": "stdout"
        }
      ]
    },
    {
      "cell_type": "code",
      "metadata": {
        "id": "OIl3p7Poa1uQ",
        "colab_type": "code",
        "colab": {
          "base_uri": "https://localhost:8080/",
          "height": 68
        },
        "outputId": "1cfb53a1-0816-4926-ade3-cd0b30cf57ae"
      },
      "source": [
        "stats(rahul_data)"
      ],
      "execution_count": null,
      "outputs": [
        {
          "output_type": "stream",
          "text": [
            "Mean 32.062222222222225\n",
            "Median 22.0\n",
            "IQR 46.0\n"
          ],
          "name": "stdout"
        }
      ]
    },
    {
      "cell_type": "code",
      "metadata": {
        "id": "Mfn55uMia37I",
        "colab_type": "code",
        "colab": {
          "base_uri": "https://localhost:8080/",
          "height": 68
        },
        "outputId": "dadc404a-a96b-4da4-de30-37012f99c91d"
      },
      "source": [
        "stats(india_data)"
      ],
      "execution_count": null,
      "outputs": [
        {
          "output_type": "stream",
          "text": [
            "Mean 220.79555555555555\n",
            "Median 216.0\n",
            "IQR 98.0\n"
          ],
          "name": "stdout"
        }
      ]
    },
    {
      "cell_type": "code",
      "metadata": {
        "id": "glPeTuv-a6hf",
        "colab_type": "code",
        "colab": {
          "base_uri": "https://localhost:8080/",
          "height": 34
        },
        "outputId": "efa79547-be6e-4709-b470-3b35f899ef05"
      },
      "source": [
        "np.mean(cric_data,axis=0)"
      ],
      "execution_count": null,
      "outputs": [
        {
          "output_type": "execute_result",
          "data": {
            "text/plain": [
              "array([ 39.87555556,  32.06222222, 220.79555556])"
            ]
          },
          "metadata": {
            "tags": []
          },
          "execution_count": 75
        }
      ]
    },
    {
      "cell_type": "code",
      "metadata": {
        "id": "uuR8XQIT1JwG",
        "colab_type": "code",
        "colab": {
          "base_uri": "https://localhost:8080/",
          "height": 34
        },
        "outputId": "2beac769-08aa-40d6-b28b-4aa440d6dcdb"
      },
      "source": [
        "np.median(cric_data,axis=0)"
      ],
      "execution_count": null,
      "outputs": [
        {
          "output_type": "execute_result",
          "data": {
            "text/plain": [
              "array([ 27.,  22., 216.])"
            ]
          },
          "metadata": {
            "tags": []
          },
          "execution_count": 76
        }
      ]
    },
    {
      "cell_type": "code",
      "metadata": {
        "id": "tPKbHRq4ZOoK",
        "colab_type": "code",
        "colab": {
          "base_uri": "https://localhost:8080/",
          "height": 34
        },
        "outputId": "874b17ad-aede-4c88-ef79-5fb2eb1adba7"
      },
      "source": [
        "np.percentile(cric_data,75,axis=0)- np.percentile(cric_data,25,axis=0)"
      ],
      "execution_count": null,
      "outputs": [
        {
          "output_type": "execute_result",
          "data": {
            "text/plain": [
              "array([57., 46., 98.])"
            ]
          },
          "metadata": {
            "tags": []
          },
          "execution_count": 77
        }
      ]
    },
    {
      "cell_type": "code",
      "metadata": {
        "id": "i5bI2x8L2mwh",
        "colab_type": "code",
        "colab": {
          "base_uri": "https://localhost:8080/",
          "height": 68
        },
        "outputId": "4a6d6d34-6795-498d-b413-6e08ffe31003"
      },
      "source": [
        "np.histogram(sachin_data)"
      ],
      "execution_count": null,
      "outputs": [
        {
          "output_type": "execute_result",
          "data": {
            "text/plain": [
              "(array([99, 36, 28, 16, 11, 17,  8,  8,  1,  1]),\n",
              " array([  0. ,  18.6,  37.2,  55.8,  74.4,  93. , 111.6, 130.2, 148.8,\n",
              "        167.4, 186. ]))"
            ]
          },
          "metadata": {
            "tags": []
          },
          "execution_count": 78
        }
      ]
    },
    {
      "cell_type": "code",
      "metadata": {
        "id": "a6OmDlPe22dQ",
        "colab_type": "code",
        "colab": {
          "base_uri": "https://localhost:8080/",
          "height": 34
        },
        "outputId": "759abddf-d625-4a1b-8582-a2b7e8834d93"
      },
      "source": [
        "sachin_data.shape"
      ],
      "execution_count": null,
      "outputs": [
        {
          "output_type": "execute_result",
          "data": {
            "text/plain": [
              "(225,)"
            ]
          },
          "metadata": {
            "tags": []
          },
          "execution_count": 79
        }
      ]
    },
    {
      "cell_type": "code",
      "metadata": {
        "id": "t2697Jo236F3",
        "colab_type": "code",
        "colab": {
          "base_uri": "https://localhost:8080/",
          "height": 34
        },
        "outputId": "d52beb42-385b-4d2a-e358-caaa4a377150"
      },
      "source": [
        "sachin_data.reshape(9,25).shape"
      ],
      "execution_count": null,
      "outputs": [
        {
          "output_type": "execute_result",
          "data": {
            "text/plain": [
              "(9, 25)"
            ]
          },
          "metadata": {
            "tags": []
          },
          "execution_count": 80
        }
      ]
    },
    {
      "cell_type": "code",
      "metadata": {
        "id": "uP_YVA2g4CS7",
        "colab_type": "code",
        "colab": {}
      },
      "source": [
        "sachins_by_25s= sachin_data.reshape(9,25)"
      ],
      "execution_count": null,
      "outputs": []
    },
    {
      "cell_type": "code",
      "metadata": {
        "id": "1SIjVuK3Y-zg",
        "colab_type": "code",
        "colab": {
          "base_uri": "https://localhost:8080/",
          "height": 34
        },
        "outputId": "0c5fce54-610b-4f5b-9186-c4461be0a5d5"
      },
      "source": [
        "np.mean(sachins_by_25s,axis=1)"
      ],
      "execution_count": null,
      "outputs": [
        {
          "output_type": "execute_result",
          "data": {
            "text/plain": [
              "array([33.96, 49.4 , 38.48, 40.16, 39.36, 38.2 , 44.6 , 39.52, 35.2 ])"
            ]
          },
          "metadata": {
            "tags": []
          },
          "execution_count": 82
        }
      ]
    },
    {
      "cell_type": "code",
      "metadata": {
        "id": "KAOAfvAH4hd5",
        "colab_type": "code",
        "colab": {
          "base_uri": "https://localhost:8080/",
          "height": 34
        },
        "outputId": "0d6d5ad3-283f-4215-d85e-91d207365826"
      },
      "source": [
        "np.mean(sachin_data[sachin_data >=100])"
      ],
      "execution_count": null,
      "outputs": [
        {
          "output_type": "execute_result",
          "data": {
            "text/plain": [
              "125.0"
            ]
          },
          "metadata": {
            "tags": []
          },
          "execution_count": 83
        }
      ]
    },
    {
      "cell_type": "code",
      "metadata": {
        "id": "nPbO_if856lY",
        "colab_type": "code",
        "colab": {
          "base_uri": "https://localhost:8080/",
          "height": 34
        },
        "outputId": "d0ae01b4-6d2f-477e-a563-be4c78fc4c2e"
      },
      "source": [
        "np.mean(sachin_data[rahul_data <=10])"
      ],
      "execution_count": null,
      "outputs": [
        {
          "output_type": "execute_result",
          "data": {
            "text/plain": [
              "40.2112676056338"
            ]
          },
          "metadata": {
            "tags": []
          },
          "execution_count": 84
        }
      ]
    },
    {
      "cell_type": "code",
      "metadata": {
        "id": "23xOrSWp6faI",
        "colab_type": "code",
        "colab": {}
      },
      "source": [
        "qrs=np.percentile(india_data,[25,50,75,100])"
      ],
      "execution_count": null,
      "outputs": []
    },
    {
      "cell_type": "code",
      "metadata": {
        "id": "hkMos6wVHzNf",
        "colab_type": "code",
        "colab": {
          "base_uri": "https://localhost:8080/",
          "height": 163
        },
        "outputId": "9c9069f1-d029-42a8-d7ad-8f97b71f455e"
      },
      "source": [
        "india_data <qrs"
      ],
      "execution_count": null,
      "outputs": [
        {
          "output_type": "error",
          "ename": "ValueError",
          "evalue": "ignored",
          "traceback": [
            "\u001b[0;31m---------------------------------------------------------------------------\u001b[0m",
            "\u001b[0;31mValueError\u001b[0m                                Traceback (most recent call last)",
            "\u001b[0;32m<ipython-input-86-ad34d0de3f6e>\u001b[0m in \u001b[0;36m<module>\u001b[0;34m()\u001b[0m\n\u001b[0;32m----> 1\u001b[0;31m \u001b[0mindia_data\u001b[0m \u001b[0;34m<\u001b[0m\u001b[0mqrs\u001b[0m\u001b[0;34m\u001b[0m\u001b[0;34m\u001b[0m\u001b[0m\n\u001b[0m",
            "\u001b[0;31mValueError\u001b[0m: operands could not be broadcast together with shapes (225,) (4,) "
          ]
        }
      ]
    },
    {
      "cell_type": "code",
      "metadata": {
        "id": "zcasyEfmKNXZ",
        "colab_type": "code",
        "colab": {}
      },
      "source": [
        "qrs= qrs.reshape(4,1)"
      ],
      "execution_count": null,
      "outputs": []
    },
    {
      "cell_type": "code",
      "metadata": {
        "id": "7emvregHK9Le",
        "colab_type": "code",
        "colab": {}
      },
      "source": [
        "indices= india_data < qrs"
      ],
      "execution_count": null,
      "outputs": []
    },
    {
      "cell_type": "code",
      "metadata": {
        "id": "TuGh7UtVM2Fr",
        "colab_type": "code",
        "colab": {
          "base_uri": "https://localhost:8080/",
          "height": 34
        },
        "outputId": "a82adc2b-80bc-4967-a7f6-0d081fe558af"
      },
      "source": [
        "indices.shape"
      ],
      "execution_count": null,
      "outputs": [
        {
          "output_type": "execute_result",
          "data": {
            "text/plain": [
              "(4, 225)"
            ]
          },
          "metadata": {
            "tags": []
          },
          "execution_count": 89
        }
      ]
    },
    {
      "cell_type": "code",
      "metadata": {
        "id": "8LzcUNvIM5go",
        "colab_type": "code",
        "colab": {
          "base_uri": "https://localhost:8080/",
          "height": 102
        },
        "outputId": "65c4dd1f-1307-48dc-f4b6-f6e373f974d9"
      },
      "source": [
        "sachin_data[indices[0,:]]"
      ],
      "execution_count": null,
      "outputs": [
        {
          "output_type": "execute_result",
          "data": {
            "text/plain": [
              "array([18., 14.,  0., 62., 46., 65.,  0., 39., 48.,  3., 11., 65., 27.,\n",
              "       28.,  3.,  4., 15., 40.,  5.,  8., 89.,  0.,  0.,  1.,  0.,  0.,\n",
              "       81., 13.,  2., 36., 12., 19.,  0.,  6., 35.,  0., 44.,  3., 47.,\n",
              "       17., 35., 33.,  7.,  9.,  2., 11., 17.,  1., 10.,  0., 23.,  1.,\n",
              "        2., 25.,  0.])"
            ]
          },
          "metadata": {
            "tags": []
          },
          "execution_count": 90
        }
      ]
    },
    {
      "cell_type": "code",
      "metadata": {
        "id": "7uRXCrUqTSNG",
        "colab_type": "code",
        "colab": {
          "base_uri": "https://localhost:8080/",
          "height": 85
        },
        "outputId": "4a6bf18b-c48f-4e79-cb50-fea54cec9379"
      },
      "source": [
        "for i in range(4):\n",
        "  print(i, np.mean(sachin_data[indices[i]]))"
      ],
      "execution_count": null,
      "outputs": [
        {
          "output_type": "stream",
          "text": [
            "0 19.672727272727272\n",
            "1 28.18018018018018\n",
            "2 31.688622754491018\n",
            "3 39.799107142857146\n"
          ],
          "name": "stdout"
        }
      ]
    },
    {
      "cell_type": "code",
      "metadata": {
        "id": "5FBN9CqxTwnK",
        "colab_type": "code",
        "colab": {}
      },
      "source": [
        "snr = cric_data[:,0:2]"
      ],
      "execution_count": null,
      "outputs": []
    },
    {
      "cell_type": "code",
      "metadata": {
        "id": "hJhn_gACUFRN",
        "colab_type": "code",
        "colab": {
          "base_uri": "https://localhost:8080/",
          "height": 34
        },
        "outputId": "78d3ca03-e52d-42ab-b36e-47796284f654"
      },
      "source": [
        "np.argmax([1,2,5,4,1])"
      ],
      "execution_count": null,
      "outputs": [
        {
          "output_type": "execute_result",
          "data": {
            "text/plain": [
              "2"
            ]
          },
          "metadata": {
            "tags": []
          },
          "execution_count": 93
        }
      ]
    },
    {
      "cell_type": "code",
      "metadata": {
        "id": "NfMRy1A1x89N",
        "colab_type": "code",
        "colab": {}
      },
      "source": [
        "is_rahul_higher=np.argmax(snr,axis=1)"
      ],
      "execution_count": null,
      "outputs": []
    },
    {
      "cell_type": "code",
      "metadata": {
        "id": "5vUz0zSlyRfa",
        "colab_type": "code",
        "colab": {
          "base_uri": "https://localhost:8080/",
          "height": 34
        },
        "outputId": "1f3bd28c-b62c-4e1a-ef90-0677e765f1aa"
      },
      "source": [
        "np.sum(is_rahul_higher)/225"
      ],
      "execution_count": null,
      "outputs": [
        {
          "output_type": "execute_result",
          "data": {
            "text/plain": [
              "0.4711111111111111"
            ]
          },
          "metadata": {
            "tags": []
          },
          "execution_count": 98
        }
      ]
    },
    {
      "cell_type": "code",
      "metadata": {
        "id": "XvFB_XpAyqn8",
        "colab_type": "code",
        "colab": {
          "base_uri": "https://localhost:8080/",
          "height": 578
        },
        "outputId": "3e8ed78e-468d-431d-d418-3988e202e1bc"
      },
      "source": [
        "np.where(is_rahul_higher==0,'Sachin','Rahul')"
      ],
      "execution_count": null,
      "outputs": [
        {
          "output_type": "execute_result",
          "data": {
            "text/plain": [
              "array(['Sachin', 'Rahul', 'Rahul', 'Sachin', 'Sachin', 'Rahul', 'Rahul',\n",
              "       'Sachin', 'Rahul', 'Sachin', 'Rahul', 'Rahul', 'Rahul', 'Sachin',\n",
              "       'Sachin', 'Rahul', 'Rahul', 'Sachin', 'Rahul', 'Rahul', 'Sachin',\n",
              "       'Rahul', 'Sachin', 'Sachin', 'Rahul', 'Sachin', 'Sachin', 'Sachin',\n",
              "       'Sachin', 'Sachin', 'Sachin', 'Sachin', 'Rahul', 'Rahul', 'Sachin',\n",
              "       'Rahul', 'Rahul', 'Sachin', 'Rahul', 'Sachin', 'Sachin', 'Sachin',\n",
              "       'Sachin', 'Rahul', 'Sachin', 'Rahul', 'Rahul', 'Sachin', 'Rahul',\n",
              "       'Sachin', 'Rahul', 'Rahul', 'Rahul', 'Rahul', 'Sachin', 'Rahul',\n",
              "       'Sachin', 'Sachin', 'Rahul', 'Rahul', 'Rahul', 'Sachin', 'Rahul',\n",
              "       'Sachin', 'Sachin', 'Sachin', 'Sachin', 'Rahul', 'Sachin', 'Rahul',\n",
              "       'Rahul', 'Sachin', 'Sachin', 'Rahul', 'Rahul', 'Sachin', 'Rahul',\n",
              "       'Rahul', 'Sachin', 'Rahul', 'Rahul', 'Rahul', 'Rahul', 'Rahul',\n",
              "       'Rahul', 'Sachin', 'Sachin', 'Sachin', 'Rahul', 'Sachin', 'Sachin',\n",
              "       'Sachin', 'Sachin', 'Sachin', 'Sachin', 'Rahul', 'Rahul', 'Sachin',\n",
              "       'Rahul', 'Sachin', 'Sachin', 'Rahul', 'Rahul', 'Rahul', 'Rahul',\n",
              "       'Sachin', 'Rahul', 'Rahul', 'Sachin', 'Sachin', 'Sachin', 'Sachin',\n",
              "       'Rahul', 'Sachin', 'Rahul', 'Sachin', 'Sachin', 'Sachin', 'Rahul',\n",
              "       'Sachin', 'Rahul', 'Sachin', 'Sachin', 'Sachin', 'Sachin', 'Rahul',\n",
              "       'Sachin', 'Rahul', 'Rahul', 'Sachin', 'Sachin', 'Rahul', 'Sachin',\n",
              "       'Rahul', 'Sachin', 'Sachin', 'Sachin', 'Sachin', 'Sachin',\n",
              "       'Sachin', 'Rahul', 'Rahul', 'Rahul', 'Sachin', 'Sachin', 'Sachin',\n",
              "       'Sachin', 'Rahul', 'Sachin', 'Rahul', 'Sachin', 'Sachin', 'Sachin',\n",
              "       'Sachin', 'Rahul', 'Rahul', 'Rahul', 'Sachin', 'Rahul', 'Sachin',\n",
              "       'Rahul', 'Sachin', 'Rahul', 'Sachin', 'Sachin', 'Rahul', 'Sachin',\n",
              "       'Rahul', 'Rahul', 'Sachin', 'Sachin', 'Rahul', 'Sachin', 'Sachin',\n",
              "       'Sachin', 'Sachin', 'Rahul', 'Sachin', 'Rahul', 'Rahul', 'Sachin',\n",
              "       'Sachin', 'Sachin', 'Sachin', 'Rahul', 'Rahul', 'Rahul', 'Sachin',\n",
              "       'Rahul', 'Rahul', 'Rahul', 'Rahul', 'Sachin', 'Rahul', 'Rahul',\n",
              "       'Sachin', 'Rahul', 'Rahul', 'Sachin', 'Rahul', 'Sachin', 'Sachin',\n",
              "       'Sachin', 'Rahul', 'Sachin', 'Rahul', 'Rahul', 'Rahul', 'Sachin',\n",
              "       'Sachin', 'Sachin', 'Rahul', 'Rahul', 'Sachin', 'Rahul', 'Sachin',\n",
              "       'Rahul', 'Rahul', 'Rahul', 'Rahul', 'Sachin', 'Sachin', 'Rahul',\n",
              "       'Sachin', 'Sachin'], dtype='<U6')"
            ]
          },
          "metadata": {
            "tags": []
          },
          "execution_count": 99
        }
      ]
    },
    {
      "cell_type": "code",
      "metadata": {
        "id": "5zShEg1s6cCN",
        "colab_type": "code",
        "colab": {}
      },
      "source": [
        "x_arr= np.arange(0,101,5)"
      ],
      "execution_count": null,
      "outputs": []
    },
    {
      "cell_type": "code",
      "metadata": {
        "id": "E70gN7b2zy6k",
        "colab_type": "code",
        "colab": {
          "base_uri": "https://localhost:8080/",
          "height": 163
        },
        "outputId": "aabea584-0f56-410a-b9fb-9085d3020783"
      },
      "source": [
        "sachin_data < x_arr"
      ],
      "execution_count": null,
      "outputs": [
        {
          "output_type": "error",
          "ename": "ValueError",
          "evalue": "ignored",
          "traceback": [
            "\u001b[0;31m---------------------------------------------------------------------------\u001b[0m",
            "\u001b[0;31mValueError\u001b[0m                                Traceback (most recent call last)",
            "\u001b[0;32m<ipython-input-102-bbbc90971d23>\u001b[0m in \u001b[0;36m<module>\u001b[0;34m()\u001b[0m\n\u001b[0;32m----> 1\u001b[0;31m \u001b[0msachin_data\u001b[0m \u001b[0;34m<\u001b[0m \u001b[0mx_arr\u001b[0m\u001b[0;34m\u001b[0m\u001b[0;34m\u001b[0m\u001b[0m\n\u001b[0m",
            "\u001b[0;31mValueError\u001b[0m: operands could not be broadcast together with shapes (225,) (21,) "
          ]
        }
      ]
    },
    {
      "cell_type": "code",
      "metadata": {
        "id": "b8xoNw840Kbj",
        "colab_type": "code",
        "colab": {}
      },
      "source": [
        "x_arr= x_arr.reshape(x_arr.shape[0],1)"
      ],
      "execution_count": null,
      "outputs": []
    },
    {
      "cell_type": "code",
      "metadata": {
        "id": "s4UaZWkh0YqS",
        "colab_type": "code",
        "colab": {}
      },
      "source": [
        "indices=sachin_data >= x_arr"
      ],
      "execution_count": null,
      "outputs": []
    },
    {
      "cell_type": "code",
      "metadata": {
        "id": "Vs0uA3OT1CPc",
        "colab_type": "code",
        "colab": {
          "base_uri": "https://localhost:8080/",
          "height": 34
        },
        "outputId": "d8dfed31-3006-4468-8cae-170d06ac18e4"
      },
      "source": [
        "indices.shape"
      ],
      "execution_count": null,
      "outputs": [
        {
          "output_type": "execute_result",
          "data": {
            "text/plain": [
              "(21, 225)"
            ]
          },
          "metadata": {
            "tags": []
          },
          "execution_count": 106
        }
      ]
    },
    {
      "cell_type": "code",
      "metadata": {
        "id": "24u44vvG1J20",
        "colab_type": "code",
        "colab": {
          "base_uri": "https://localhost:8080/",
          "height": 289
        },
        "outputId": "5c90f933-f241-438e-d9ab-e804bc345e00"
      },
      "source": [
        "sachin_data[indices[1,:]]"
      ],
      "execution_count": null,
      "outputs": [
        {
          "output_type": "execute_result",
          "data": {
            "text/plain": [
              "array([100.,  11.,   8.,  71., 104.,  18.,   8.,  86.,  12.,  85.,  18.,\n",
              "         7.,  37.,  14.,  21.,  62., 138.,  38.,  46.,  65.,  39.,  48.,\n",
              "       141.,  62.,  12.,  41.,  11., 186.,  11.,  27.,  27.,  51.,  18.,\n",
              "        32., 146.,   5.,  45., 141.,  12.,  65.,  27.,   7.,  16.,  28.,\n",
              "         6., 123., 120.,   7.,  81.,  54., 122.,  14., 100.,  15.,  57.,\n",
              "        99.,  37.,  38.,  32.,  21.,  32.,  40.,   5.,   8.,   5.,  50.,\n",
              "        30.,  37.,  89.,  98.,  83.,  93.,  52., 152.,   8.,  93.,  45.,\n",
              "        26.,  16.,  47.,  89.,  53.,  16.,  81.,  14.,  78.,   6., 105.,\n",
              "       122.,   9.,   8.,  28.,  35.,  69.,  13.,  97.,  93.,  36.,  39.,\n",
              "        29.,  12.,  19.,  34., 100.,  44.,  82.,  79.,   6.,   9.,   8.,\n",
              "        23.,  93.,  35.,  63.,  74.,   8., 117.,  39.,  49.,  64.,  43.,\n",
              "        72.,   5.,  17.,  65.,  20., 141.,  28.,  44.,  27.,  60.,  68.,\n",
              "       139.,  31.,  44.,  47.,   6.,  17.,  35.,  88., 114.,   7., 127.,\n",
              "        45.,  33., 110., 146.,   7.,  25.,   9.,  11.,  17.,  14.,  45.,\n",
              "        94.,  28.,  62.,   9.,  67.,  10.,  99.,  55., 101.,  16., 140.,\n",
              "        23., 113.,  10.,  41.,  28.,  22.,  29.,  25., 102.,  27.,  40.])"
            ]
          },
          "metadata": {
            "tags": []
          },
          "execution_count": 109
        }
      ]
    },
    {
      "cell_type": "code",
      "metadata": {
        "id": "H6Zceigt1Wt5",
        "colab_type": "code",
        "colab": {
          "base_uri": "https://localhost:8080/",
          "height": 374
        },
        "outputId": "47669270-52ed-4cd0-e309-7de26ac94323"
      },
      "source": [
        "for i in range(x_arr.shape[0]):\n",
        "  print(x_arr[i,0],np.mean(sachin_data[indices[i,:]])- x_arr[i,0])"
      ],
      "execution_count": null,
      "outputs": [
        {
          "output_type": "stream",
          "text": [
            "0 39.87555555555556\n",
            "5 45.61363636363637\n",
            "10 47.48026315789474\n",
            "15 47.45255474452555\n",
            "20 46.824\n",
            "25 44.10084033613445\n",
            "30 45.13461538461539\n",
            "35 43.24742268041237\n",
            "40 44.05882352941177\n",
            "45 43.41558441558442\n",
            "50 43.98529411764706\n",
            "55 42.317460317460316\n",
            "60 38.67213114754098\n",
            "65 37.654545454545456\n",
            "70 37.08163265306122\n",
            "75 34.347826086956516\n",
            "80 30.75\n",
            "85 28.650000000000006\n",
            "90 27.400000000000006\n",
            "95 26.433333333333337\n",
            "100 25.0\n"
          ],
          "name": "stdout"
        }
      ]
    },
    {
      "cell_type": "code",
      "metadata": {
        "id": "bg6EixDi1zGq",
        "colab_type": "code",
        "colab": {}
      },
      "source": [
        "sachin_cumscores=np.cumsum(sachin_data)"
      ],
      "execution_count": null,
      "outputs": []
    },
    {
      "cell_type": "code",
      "metadata": {
        "id": "8OKh4Fmx2wEK",
        "colab_type": "code",
        "colab": {
          "base_uri": "https://localhost:8080/",
          "height": 51
        },
        "outputId": "04bf3cd1-41a7-4e3c-899a-74bf99b6f151"
      },
      "source": [
        "np.histogram(sachin_cumscores, bins=np.arange(0,10000))"
      ],
      "execution_count": null,
      "outputs": [
        {
          "output_type": "execute_result",
          "data": {
            "text/plain": [
              "(array([0, 0, 0, ..., 0, 0, 0]),\n",
              " array([   0,    1,    2, ..., 9997, 9998, 9999]))"
            ]
          },
          "metadata": {
            "tags": []
          },
          "execution_count": 115
        }
      ]
    },
    {
      "cell_type": "code",
      "metadata": {
        "id": "ynj60AYl3Nr8",
        "colab_type": "code",
        "colab": {
          "base_uri": "https://localhost:8080/",
          "height": 34
        },
        "outputId": "50e6bd89-714e-4fa1-a93d-a27e9f55a1ec"
      },
      "source": [
        "import numpy as np\n",
        "a= np.array([1,2,3,4,5])\n",
        "print(a[::-1])"
      ],
      "execution_count": null,
      "outputs": [
        {
          "output_type": "stream",
          "text": [
            "[5 4 3 2 1]\n"
          ],
          "name": "stdout"
        }
      ]
    },
    {
      "cell_type": "code",
      "metadata": {
        "id": "Zadm2_-94YLy",
        "colab_type": "code",
        "colab": {
          "base_uri": "https://localhost:8080/",
          "height": 34
        },
        "outputId": "95263875-5f5f-4d56-ba11-79ff20f199d4"
      },
      "source": [
        "a=np.arange(10)\n",
        "b= np.where(a%2 ==1, 1, a)\n",
        "print(b)"
      ],
      "execution_count": null,
      "outputs": [
        {
          "output_type": "stream",
          "text": [
            "[0 1 2 1 4 1 6 1 8 1]\n"
          ],
          "name": "stdout"
        }
      ]
    },
    {
      "cell_type": "code",
      "metadata": {
        "id": "y5W981bw40jw",
        "colab_type": "code",
        "colab": {
          "base_uri": "https://localhost:8080/",
          "height": 197
        },
        "outputId": "2c117236-766f-458c-8c90-636ded6b5318"
      },
      "source": [
        "a= np.arange(3)\n",
        "b= a.reshape(2,2)\n",
        "print(b)"
      ],
      "execution_count": null,
      "outputs": [
        {
          "output_type": "error",
          "ename": "ValueError",
          "evalue": "ignored",
          "traceback": [
            "\u001b[0;31m---------------------------------------------------------------------------\u001b[0m",
            "\u001b[0;31mValueError\u001b[0m                                Traceback (most recent call last)",
            "\u001b[0;32m<ipython-input-118-c520a59811ad>\u001b[0m in \u001b[0;36m<module>\u001b[0;34m()\u001b[0m\n\u001b[1;32m      1\u001b[0m \u001b[0ma\u001b[0m\u001b[0;34m=\u001b[0m \u001b[0mnp\u001b[0m\u001b[0;34m.\u001b[0m\u001b[0marange\u001b[0m\u001b[0;34m(\u001b[0m\u001b[0;36m3\u001b[0m\u001b[0;34m)\u001b[0m\u001b[0;34m\u001b[0m\u001b[0;34m\u001b[0m\u001b[0m\n\u001b[0;32m----> 2\u001b[0;31m \u001b[0mb\u001b[0m\u001b[0;34m=\u001b[0m \u001b[0ma\u001b[0m\u001b[0;34m.\u001b[0m\u001b[0mreshape\u001b[0m\u001b[0;34m(\u001b[0m\u001b[0;36m2\u001b[0m\u001b[0;34m,\u001b[0m\u001b[0;36m2\u001b[0m\u001b[0;34m)\u001b[0m\u001b[0;34m\u001b[0m\u001b[0;34m\u001b[0m\u001b[0m\n\u001b[0m\u001b[1;32m      3\u001b[0m \u001b[0mprint\u001b[0m\u001b[0;34m(\u001b[0m\u001b[0mb\u001b[0m\u001b[0;34m)\u001b[0m\u001b[0;34m\u001b[0m\u001b[0;34m\u001b[0m\u001b[0m\n",
            "\u001b[0;31mValueError\u001b[0m: cannot reshape array of size 3 into shape (2,2)"
          ]
        }
      ]
    },
    {
      "cell_type": "code",
      "metadata": {
        "id": "HSYr2hii5FHS",
        "colab_type": "code",
        "colab": {}
      },
      "source": [
        ""
      ],
      "execution_count": null,
      "outputs": []
    },
    {
      "cell_type": "code",
      "metadata": {
        "id": "4Ktj-4w5azeC",
        "colab_type": "code",
        "colab": {}
      },
      "source": [
        ""
      ],
      "execution_count": null,
      "outputs": []
    }
  ]
}