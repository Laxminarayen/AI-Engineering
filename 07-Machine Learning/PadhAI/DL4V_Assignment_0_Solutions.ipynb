{
  "nbformat": 4,
  "nbformat_minor": 0,
  "metadata": {
    "colab": {
      "name": "DL4V_Assignment_0_Solutions.ipynb",
      "provenance": [],
      "collapsed_sections": [],
      "include_colab_link": true
    },
    "kernelspec": {
      "display_name": "Python 3",
      "language": "python",
      "name": "python3"
    },
    "language_info": {
      "codemirror_mode": {
        "name": "ipython",
        "version": 3
      },
      "file_extension": ".py",
      "mimetype": "text/x-python",
      "name": "python",
      "nbconvert_exporter": "python",
      "pygments_lexer": "ipython3",
      "version": "3.7.3"
    }
  },
  "cells": [
    {
      "cell_type": "markdown",
      "metadata": {
        "id": "view-in-github",
        "colab_type": "text"
      },
      "source": [
        "<a href=\"https://colab.research.google.com/github/plthiyagu/Personnel/blob/master/DL4V_Assignment_0_Solutions.ipynb\" target=\"_parent\"><img src=\"https://colab.research.google.com/assets/colab-badge.svg\" alt=\"Open In Colab\"/></a>"
      ]
    },
    {
      "cell_type": "markdown",
      "metadata": {
        "colab_type": "text",
        "id": "Sdf6X2hjDNFA"
      },
      "source": [
        "#### **Welcome to Assignment 0 on Deep Learning for Computer Vision.**\n",
        "In this assignment you will get a chance to understand and work on some of the commonly used functionalities of several Machine Learnign and Data Analysis libraries\n",
        "\n",
        "#### **Instructions**\n",
        "1. Use Python 3.x to run this notebook\n",
        "2. Write your code only in between the lines 'YOUR CODE STARTS HERE' and 'YOUR CODE ENDS HERE'.\n",
        "3. Look up the documentation for each of the Python and Numpy function used.\n",
        "4. This Assignment is just to make you understand several commonly used library functions.\n",
        "5. This assignment is **NOT** evaluated"
      ]
    },
    {
      "cell_type": "code",
      "metadata": {
        "colab_type": "code",
        "id": "9LTkyyoa9Q2K",
        "colab": {}
      },
      "source": [
        "# DO NOT CHANGE THIS CODE\n",
        "import numpy as np\n",
        "np.random.seed(0)"
      ],
      "execution_count": null,
      "outputs": []
    },
    {
      "cell_type": "markdown",
      "metadata": {
        "colab_type": "text",
        "id": "8koNOLdwDSf_"
      },
      "source": [
        "#### Python Basics\n"
      ]
    },
    {
      "cell_type": "code",
      "metadata": {
        "colab_type": "code",
        "id": "SqufR0fDDT9s",
        "colab": {}
      },
      "source": [
        "### Implement recursive fibonacci in the function below\n",
        "def recursive_fibonacci(n):\n",
        "  ## YOUR CODE STARTS HERE\n",
        "   if n <= 1:\n",
        "       return n\n",
        "   else:\n",
        "       return(recursive_fibonacci(n-1) + recursive_fibonacci(n-2))\n",
        "  ## YOUR CODE ENDS HERE"
      ],
      "execution_count": null,
      "outputs": []
    },
    {
      "cell_type": "code",
      "metadata": {
        "colab_type": "code",
        "id": "rncsA0RIDTdJ",
        "colab": {
          "base_uri": "https://localhost:8080/",
          "height": 34
        },
        "outputId": "20de7029-8956-4f09-b736-f85feba07c78"
      },
      "source": [
        "### Test your code using the function call below.\n",
        "recursive_fibonacci(3)"
      ],
      "execution_count": null,
      "outputs": [
        {
          "output_type": "execute_result",
          "data": {
            "text/plain": [
              "2"
            ]
          },
          "metadata": {
            "tags": []
          },
          "execution_count": 3
        }
      ]
    },
    {
      "cell_type": "markdown",
      "metadata": {
        "colab_type": "text",
        "id": "V0vcbpLPDXNw"
      },
      "source": [
        "#### Lambda function"
      ]
    },
    {
      "cell_type": "code",
      "metadata": {
        "colab_type": "code",
        "id": "r0eP5yH9DYum",
        "colab": {}
      },
      "source": [
        "def sigmoid(x):\n",
        "  sigmoid = 1 / (1 + np.exp(-x))\n",
        "  return sigmoid\n",
        "\n",
        "## Implement the above sigmoid function using python lambda functions\n",
        "## YOUR CODE STARTS HERE\n",
        "sigmoid_lambda = lambda x: 1 / (1 + np.exp(-x))\n",
        "## YOUR CODE ENDS HERE"
      ],
      "execution_count": null,
      "outputs": []
    },
    {
      "cell_type": "code",
      "metadata": {
        "colab_type": "code",
        "id": "Wt913eQEKp81",
        "colab": {},
        "outputId": "0f62c6e3-8867-491e-b385-752eedc1f9e6"
      },
      "source": [
        "## Check you implementation by running this cell (should return True)\n",
        "sigmoid(1) == sigmoid_lambda(1)"
      ],
      "execution_count": null,
      "outputs": [
        {
          "output_type": "execute_result",
          "data": {
            "text/plain": [
              "True"
            ]
          },
          "metadata": {
            "tags": []
          },
          "execution_count": 5
        }
      ]
    },
    {
      "cell_type": "markdown",
      "metadata": {
        "colab_type": "text",
        "id": "VpfxvB4pKyrm"
      },
      "source": [
        "#### List Comprehension"
      ]
    },
    {
      "cell_type": "code",
      "metadata": {
        "colab_type": "code",
        "id": "336h3e1fKt1h",
        "colab": {}
      },
      "source": [
        "div_by_four = []\n",
        "for number in range(200):\n",
        "    if number%4 == 0:\n",
        "        div_by_four.append(number)\n",
        "        \n",
        "## Implement the above function using list comprehensions\n",
        "## YOUR CODE STARTS HERE\n",
        "div_by_four_lc = [number for number in range(200) if number%4 == 0]\n",
        "## YOUR CODE ENDS HERE"
      ],
      "execution_count": null,
      "outputs": []
    },
    {
      "cell_type": "code",
      "metadata": {
        "colab_type": "code",
        "id": "sJbe5xkNKvof",
        "colab": {},
        "outputId": "7b7bd200-0795-4da1-dfbe-c906019dd7bf"
      },
      "source": [
        "## Check you implementation by running this cell (should return True)\n",
        "div_by_four == div_by_four_lc"
      ],
      "execution_count": null,
      "outputs": [
        {
          "output_type": "execute_result",
          "data": {
            "text/plain": [
              "True"
            ]
          },
          "metadata": {
            "tags": []
          },
          "execution_count": 7
        }
      ]
    },
    {
      "cell_type": "markdown",
      "metadata": {
        "colab_type": "text",
        "id": "CnmH9QeBDdqo"
      },
      "source": [
        "#### Python map keyword\n",
        "Using the lambda functions and python's map keyword apply sigmoid on a list of numbers from 0 to 99. Store the output in a list and print it. \n",
        "\n",
        "**Observe what happens to the value of sigmoid as the value of x increases. Do you see any trend?**"
      ]
    },
    {
      "cell_type": "code",
      "metadata": {
        "colab_type": "code",
        "id": "O0KFWmM6DcYF",
        "colab": {}
      },
      "source": [
        "## YOUR CODE STARTS HERE\n",
        "out = list(map(lambda x: 1 / (1 + np.exp(-x)), range(100)))\n",
        "## YOUR CODE ENDS HERE"
      ],
      "execution_count": null,
      "outputs": []
    },
    {
      "cell_type": "markdown",
      "metadata": {
        "colab_type": "text",
        "id": "VT3ZYI-I1lnd"
      },
      "source": [
        "# Numpy Basics:\n"
      ]
    },
    {
      "cell_type": "markdown",
      "metadata": {
        "colab_type": "text",
        "id": "xK6sSYVF9fd6"
      },
      "source": [
        "#### Creating a numpy array with particular value"
      ]
    },
    {
      "cell_type": "code",
      "metadata": {
        "colab_type": "code",
        "id": "sSfnCu7z9sLi",
        "colab": {}
      },
      "source": [
        "# Create a numpy array with size 2*2 with all elements as 8.\n",
        "\n",
        "# YOUR CODE STARTS HERE\n",
        "arr = 8 * np.ones((2,2))\n",
        "# YOUR CODE ENDS HERE"
      ],
      "execution_count": null,
      "outputs": []
    },
    {
      "cell_type": "markdown",
      "metadata": {
        "colab_type": "text",
        "id": "GeBrhozVLuAz"
      },
      "source": [
        "#### Basic Numpy operations:"
      ]
    },
    {
      "cell_type": "code",
      "metadata": {
        "colab_type": "code",
        "id": "lGxwXbQ05J9y",
        "colab": {}
      },
      "source": [
        "#Create a numpy array of size 3*3 with random values \n",
        "\n",
        "#YOUR CODE STARTS HERE\n",
        "rand_arr = np.random.randn(3,3) \n",
        "#YOUR CODE ENDS HERE\n",
        "\n"
      ],
      "execution_count": null,
      "outputs": []
    },
    {
      "cell_type": "code",
      "metadata": {
        "colab_type": "code",
        "id": "cZvWczfHkrVe",
        "colab": {}
      },
      "source": [
        "#Find the sum of all the elements, mean, maximum and minimum value of the numpy array defined above\n",
        "\n",
        "#YOUR CODE STARTS HERE\n",
        "arr_sum = np.sum(rand_arr) \n",
        "arr_mean = np.mean(rand_arr) \n",
        "arr_max = np.max(rand_arr) \n",
        "arr_min = np.min(rand_arr)\n",
        "#YOUR CODE ENDS HERE"
      ],
      "execution_count": null,
      "outputs": []
    },
    {
      "cell_type": "markdown",
      "metadata": {
        "colab_type": "text",
        "id": "1h0zn0xPKoZt"
      },
      "source": [
        "#### Reshaping and Indexing of Numpy Array:"
      ]
    },
    {
      "cell_type": "code",
      "metadata": {
        "colab_type": "code",
        "id": "mUmvsP_S6O1o",
        "colab": {}
      },
      "source": [
        "#create a 1D numpy array of shape 35 with values 1,2,3..,35\n",
        "\n",
        "#YOUR CODE STARTS HERE\n",
        "y = np.arange(35)\n",
        "#YOUR CODE ENDS HERE"
      ],
      "execution_count": null,
      "outputs": []
    },
    {
      "cell_type": "code",
      "metadata": {
        "colab_type": "code",
        "id": "afCQdcjgkyMS",
        "colab": {
          "base_uri": "https://localhost:8080/",
          "height": 34
        },
        "outputId": "c3d2014f-0372-4412-decd-171bcc08bcb0"
      },
      "source": [
        "# Reshape it as 2D array of shape (5,7)\n",
        "\n",
        "#YOUR CODE STARTS HERE\n",
        "y = y.reshape(5,7)\n",
        "#YOUR CODE ENDS HERE\n",
        "y.shape"
      ],
      "execution_count": null,
      "outputs": [
        {
          "output_type": "execute_result",
          "data": {
            "text/plain": [
              "(5, 7)"
            ]
          },
          "metadata": {
            "tags": []
          },
          "execution_count": 13
        }
      ]
    },
    {
      "cell_type": "code",
      "metadata": {
        "colab_type": "code",
        "id": "E5Kjphuyk1AW",
        "colab": {}
      },
      "source": [
        "# Extract all the elements from 2nd and 3rd row\n",
        "\n",
        "#YOUR CODE STARTS HERE\n",
        "y_row = y[2:4,:]\n",
        "#YOUR CODE ENDS HERE"
      ],
      "execution_count": null,
      "outputs": []
    },
    {
      "cell_type": "code",
      "metadata": {
        "colab_type": "code",
        "id": "9zpcaEYFk21B",
        "colab": {}
      },
      "source": [
        "# Extract all the elements from 3rd and 5th and 7th column\n",
        "\n",
        "#YOUR CODE STARTS HERE\n",
        "y_column = y[:,2:7:2]\n",
        "#YOUR CODE ENDS HERE"
      ],
      "execution_count": null,
      "outputs": []
    },
    {
      "cell_type": "markdown",
      "metadata": {
        "colab_type": "text",
        "id": "icAVnHAtPuq9"
      },
      "source": [
        "#### Horizontal and vertical stacking of numpy array"
      ]
    },
    {
      "cell_type": "code",
      "metadata": {
        "colab_type": "code",
        "id": "0ExpG_f7OPhB",
        "colab": {}
      },
      "source": [
        "## horizontal and vertical stacking of 1D arrays \n",
        "a = np.array([4.,2.])\n",
        "b = np.array([3.,8.])\n",
        "\n",
        "#YOUR CODE STARTS HERE\n",
        "# Horizontal stacking\n",
        "h_stack = np.hstack((a,b))\n",
        "\n",
        "# Vertical Stacking\n",
        "v_stack = np.vstack((a,b))\n",
        "#YOUR CODE ENDS HERE"
      ],
      "execution_count": null,
      "outputs": []
    },
    {
      "cell_type": "markdown",
      "metadata": {
        "colab_type": "text",
        "id": "v0r_IgoQYW1p"
      },
      "source": [
        "#### `argmin` and `argmax` in numpy array"
      ]
    },
    {
      "cell_type": "code",
      "metadata": {
        "colab_type": "code",
        "id": "rh7FI-uZYWXR",
        "colab": {
          "base_uri": "https://localhost:8080/",
          "height": 68
        },
        "outputId": "2c8d2880-5d2a-4fb8-a444-948c8adea81f"
      },
      "source": [
        "# Define an array\n",
        "arr = np.array([[5,12,51,25] ,[25,29,2,27]])\n",
        "\n",
        "# YOUR CODE STARTS HERE\n",
        "#Find the position of maximum and minimum value of above array\n",
        "max_idx = np.argmax(arr)\n",
        "min_idx = np.argmin(arr)\n",
        "print (max_idx,min_idx)\n",
        "\n",
        "#Find the indices of maximum and minimum value along each of its columns.\n",
        "max_col = np.argmax(arr,axis = 0)\n",
        "min_col = np.argmin(arr,axis = 0)\n",
        "print (max_col,min_col)\n",
        "\n",
        "#Find the indices of maximum and minimum value along each of the its rows.\n",
        "max_row = np.argmax(arr,axis = 1)\n",
        "min_row = np.argmin(arr,axis = 1)\n",
        "print (max_row,min_row)\n",
        "#YOUR CODE ENDS HERE"
      ],
      "execution_count": null,
      "outputs": [
        {
          "output_type": "stream",
          "text": [
            "2 6\n",
            "[1 1 0 1] [0 0 1 0]\n",
            "[2 1] [0 2]\n"
          ],
          "name": "stdout"
        }
      ]
    }
  ]
}