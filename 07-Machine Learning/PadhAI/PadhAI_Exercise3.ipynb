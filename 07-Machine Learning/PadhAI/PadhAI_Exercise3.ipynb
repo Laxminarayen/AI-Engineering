{
  "nbformat": 4,
  "nbformat_minor": 0,
  "metadata": {
    "colab": {
      "name": "PadhAI Exercise3.ipynb",
      "provenance": [],
      "authorship_tag": "ABX9TyNzPoqE0dr+2yADweFlJ4c/",
      "include_colab_link": true
    },
    "kernelspec": {
      "name": "python3",
      "display_name": "Python 3"
    }
  },
  "cells": [
    {
      "cell_type": "markdown",
      "metadata": {
        "id": "view-in-github",
        "colab_type": "text"
      },
      "source": [
        "<a href=\"https://colab.research.google.com/github/plthiyagu/Personnel/blob/master/PadhAI_Exercise3.ipynb\" target=\"_parent\"><img src=\"https://colab.research.google.com/assets/colab-badge.svg\" alt=\"Open In Colab\"/></a>"
      ]
    },
    {
      "cell_type": "code",
      "metadata": {
        "id": "NJ2cJP5l_4fn",
        "colab_type": "code",
        "colab": {
          "base_uri": "https://localhost:8080/",
          "height": 54
        },
        "outputId": "074f67a1-7830-4dad-f97b-97c811bef479"
      },
      "source": [
        "f= open(\"poem.txt\",\"r\")\n",
        "lines = f.readlines()\n",
        "print(lines)\n",
        "f.close()"
      ],
      "execution_count": 3,
      "outputs": [
        {
          "output_type": "stream",
          "text": [
            "['Unending Love\\n', 'I seem to have loved you in numberless forms, numberless times…\\n', 'In life after life, in age after age, forever.\\n', 'My spellbound heart has made and remade the necklace of songs,\\n', 'That you take as a gift, wear round your neck in your many forms,\\n', 'In life after life, in age after age, forever.\\n', '\\n', 'Whenever I hear old chronicles of love, its age-old pain,\\n', 'Its ancient tale of being apart or together.\\n', 'As I stare on and on into the past, in the end you emerge,\\n', 'Clad in the light of a pole-star piercing the darkness of time:\\n', 'You become an image of what is remembered forever.\\n', '\\n', 'You and I have floated here on the stream that brings from the fount.\\n', 'At the heart of time, love of one for another.\\n', 'We have played along side millions of lovers, shared in the same\\n', 'Shy sweetness of meeting, the same distressful tears of farewell-\\n', 'Old love but in shapes that renew and renew forever.\\n', '\\n', 'Today it is heaped at your feet, it has found its end in you\\n', 'The love of all man’s days both past and forever:\\n', 'Universal joy, universal sorrow, universal life.\\n', 'The memories of all loves merging with this one love of ours –\\n', 'And the songs of every poet past and forever.\\n', '\\n', '\\n', 'aws ec2 instance supports decimal values\\n', 'Use the following monitor-instances command to enable detailed monitoring for the specified instances.\\n', 'aws ec2 monitor-instances --instance-ids i-1234567890abcdef0\\n', 'aws 10 gb file se bucket with chunk size update ?\\n', 'How to control the number of output part files created by Spark job upon writing?\\n', 'which of the following is not correct way to perform concatenation of two columns of dataframe\\n', 'for an 8 core executor with a 15 second micro batch duration for 100 rules\\n', 'if your rdd(spark) is so large that all of its elemets noy fit in memory the drive machine\\n', '\\n', '\\n', '\\n']\n"
          ],
          "name": "stdout"
        }
      ]
    },
    {
      "cell_type": "code",
      "metadata": {
        "id": "zPF4EzStBbPW",
        "colab_type": "code",
        "colab": {}
      },
      "source": [
        "for item in lines:\n",
        "  item= item.lower()\n"
      ],
      "execution_count": 4,
      "outputs": []
    },
    {
      "cell_type": "code",
      "metadata": {
        "id": "CpWPgHAuYaJk",
        "colab_type": "code",
        "colab": {
          "base_uri": "https://localhost:8080/",
          "height": 51
        },
        "outputId": "65a3c9c1-6d83-4fbe-fa26-d62dfd4b2a97"
      },
      "source": [
        "print(lines[0])"
      ],
      "execution_count": 5,
      "outputs": [
        {
          "output_type": "stream",
          "text": [
            "Unending Love\n",
            "\n"
          ],
          "name": "stdout"
        }
      ]
    },
    {
      "cell_type": "code",
      "metadata": {
        "id": "QpCcNBWqYcQZ",
        "colab_type": "code",
        "colab": {}
      },
      "source": [
        "length= len(lines)\n",
        "for i in range(length):\n",
        "  lines[i] = lines[i].lower()"
      ],
      "execution_count": 6,
      "outputs": []
    },
    {
      "cell_type": "code",
      "metadata": {
        "id": "-Qiw7z9eZruF",
        "colab_type": "code",
        "colab": {
          "base_uri": "https://localhost:8080/",
          "height": 51
        },
        "outputId": "6b146631-a36d-4ea7-ccd3-a890dc7def03"
      },
      "source": [
        "print(lines[0])"
      ],
      "execution_count": 7,
      "outputs": [
        {
          "output_type": "stream",
          "text": [
            "unending love\n",
            "\n"
          ],
          "name": "stdout"
        }
      ]
    },
    {
      "cell_type": "code",
      "metadata": {
        "id": "uG6ifY9yZuOO",
        "colab_type": "code",
        "colab": {
          "base_uri": "https://localhost:8080/",
          "height": 54
        },
        "outputId": "a81b4d18-140a-4320-eca9-680d23bd4dfd"
      },
      "source": [
        "print(lines)"
      ],
      "execution_count": 8,
      "outputs": [
        {
          "output_type": "stream",
          "text": [
            "['unending love\\n', 'i seem to have loved you in numberless forms, numberless times…\\n', 'in life after life, in age after age, forever.\\n', 'my spellbound heart has made and remade the necklace of songs,\\n', 'that you take as a gift, wear round your neck in your many forms,\\n', 'in life after life, in age after age, forever.\\n', '\\n', 'whenever i hear old chronicles of love, its age-old pain,\\n', 'its ancient tale of being apart or together.\\n', 'as i stare on and on into the past, in the end you emerge,\\n', 'clad in the light of a pole-star piercing the darkness of time:\\n', 'you become an image of what is remembered forever.\\n', '\\n', 'you and i have floated here on the stream that brings from the fount.\\n', 'at the heart of time, love of one for another.\\n', 'we have played along side millions of lovers, shared in the same\\n', 'shy sweetness of meeting, the same distressful tears of farewell-\\n', 'old love but in shapes that renew and renew forever.\\n', '\\n', 'today it is heaped at your feet, it has found its end in you\\n', 'the love of all man’s days both past and forever:\\n', 'universal joy, universal sorrow, universal life.\\n', 'the memories of all loves merging with this one love of ours –\\n', 'and the songs of every poet past and forever.\\n', '\\n', '\\n', 'aws ec2 instance supports decimal values\\n', 'use the following monitor-instances command to enable detailed monitoring for the specified instances.\\n', 'aws ec2 monitor-instances --instance-ids i-1234567890abcdef0\\n', 'aws 10 gb file se bucket with chunk size update ?\\n', 'how to control the number of output part files created by spark job upon writing?\\n', 'which of the following is not correct way to perform concatenation of two columns of dataframe\\n', 'for an 8 core executor with a 15 second micro batch duration for 100 rules\\n', 'if your rdd(spark) is so large that all of its elemets noy fit in memory the drive machine\\n', '\\n', '\\n', '\\n']\n"
          ],
          "name": "stdout"
        }
      ]
    },
    {
      "cell_type": "code",
      "metadata": {
        "id": "6_ITNrXGa4Go",
        "colab_type": "code",
        "colab": {}
      },
      "source": [
        "for i in range(length):\n",
        "  lines[i]= lines[i].replace('\\n',' ')"
      ],
      "execution_count": 9,
      "outputs": []
    },
    {
      "cell_type": "code",
      "metadata": {
        "id": "QBxqUJJibWeM",
        "colab_type": "code",
        "colab": {
          "base_uri": "https://localhost:8080/",
          "height": 54
        },
        "outputId": "6e74be3e-16c2-4ca8-a2d4-e0168262e4a6"
      },
      "source": [
        "print(lines)"
      ],
      "execution_count": 10,
      "outputs": [
        {
          "output_type": "stream",
          "text": [
            "['unending love ', 'i seem to have loved you in numberless forms, numberless times… ', 'in life after life, in age after age, forever. ', 'my spellbound heart has made and remade the necklace of songs, ', 'that you take as a gift, wear round your neck in your many forms, ', 'in life after life, in age after age, forever. ', ' ', 'whenever i hear old chronicles of love, its age-old pain, ', 'its ancient tale of being apart or together. ', 'as i stare on and on into the past, in the end you emerge, ', 'clad in the light of a pole-star piercing the darkness of time: ', 'you become an image of what is remembered forever. ', ' ', 'you and i have floated here on the stream that brings from the fount. ', 'at the heart of time, love of one for another. ', 'we have played along side millions of lovers, shared in the same ', 'shy sweetness of meeting, the same distressful tears of farewell- ', 'old love but in shapes that renew and renew forever. ', ' ', 'today it is heaped at your feet, it has found its end in you ', 'the love of all man’s days both past and forever: ', 'universal joy, universal sorrow, universal life. ', 'the memories of all loves merging with this one love of ours – ', 'and the songs of every poet past and forever. ', ' ', ' ', 'aws ec2 instance supports decimal values ', 'use the following monitor-instances command to enable detailed monitoring for the specified instances. ', 'aws ec2 monitor-instances --instance-ids i-1234567890abcdef0 ', 'aws 10 gb file se bucket with chunk size update ? ', 'how to control the number of output part files created by spark job upon writing? ', 'which of the following is not correct way to perform concatenation of two columns of dataframe ', 'for an 8 core executor with a 15 second micro batch duration for 100 rules ', 'if your rdd(spark) is so large that all of its elemets noy fit in memory the drive machine ', ' ', ' ', ' ']\n"
          ],
          "name": "stdout"
        }
      ]
    },
    {
      "cell_type": "code",
      "metadata": {
        "id": "vzjmfHbjbfAz",
        "colab_type": "code",
        "colab": {}
      },
      "source": [
        "char_to_replace= [\"\\n\",',','\"','(',')','.','?','…']\n",
        "for i in range(length):\n",
        "  for s in char_to_replace:\n",
        "    lines[i]= lines[i].replace(s, ' ')"
      ],
      "execution_count": 11,
      "outputs": []
    },
    {
      "cell_type": "code",
      "metadata": {
        "id": "lS8wK9SfcMDX",
        "colab_type": "code",
        "colab": {
          "base_uri": "https://localhost:8080/",
          "height": 54
        },
        "outputId": "dd19117d-fd56-4577-d699-f2be007e8e9d"
      },
      "source": [
        "print(lines)"
      ],
      "execution_count": 12,
      "outputs": [
        {
          "output_type": "stream",
          "text": [
            "['unending love ', 'i seem to have loved you in numberless forms  numberless times  ', 'in life after life  in age after age  forever  ', 'my spellbound heart has made and remade the necklace of songs  ', 'that you take as a gift  wear round your neck in your many forms  ', 'in life after life  in age after age  forever  ', ' ', 'whenever i hear old chronicles of love  its age-old pain  ', 'its ancient tale of being apart or together  ', 'as i stare on and on into the past  in the end you emerge  ', 'clad in the light of a pole-star piercing the darkness of time: ', 'you become an image of what is remembered forever  ', ' ', 'you and i have floated here on the stream that brings from the fount  ', 'at the heart of time  love of one for another  ', 'we have played along side millions of lovers  shared in the same ', 'shy sweetness of meeting  the same distressful tears of farewell- ', 'old love but in shapes that renew and renew forever  ', ' ', 'today it is heaped at your feet  it has found its end in you ', 'the love of all man’s days both past and forever: ', 'universal joy  universal sorrow  universal life  ', 'the memories of all loves merging with this one love of ours – ', 'and the songs of every poet past and forever  ', ' ', ' ', 'aws ec2 instance supports decimal values ', 'use the following monitor-instances command to enable detailed monitoring for the specified instances  ', 'aws ec2 monitor-instances --instance-ids i-1234567890abcdef0 ', 'aws 10 gb file se bucket with chunk size update   ', 'how to control the number of output part files created by spark job upon writing  ', 'which of the following is not correct way to perform concatenation of two columns of dataframe ', 'for an 8 core executor with a 15 second micro batch duration for 100 rules ', 'if your rdd spark  is so large that all of its elemets noy fit in memory the drive machine ', ' ', ' ', ' ']\n"
          ],
          "name": "stdout"
        }
      ]
    },
    {
      "cell_type": "code",
      "metadata": {
        "id": "skSB7tB4cRn6",
        "colab_type": "code",
        "colab": {}
      },
      "source": [
        "text = \"\"\n",
        "for line in lines:\n",
        "  text += line + \" \""
      ],
      "execution_count": 13,
      "outputs": []
    },
    {
      "cell_type": "code",
      "metadata": {
        "id": "cupamoe-dGB0",
        "colab_type": "code",
        "colab": {
          "base_uri": "https://localhost:8080/",
          "height": 54
        },
        "outputId": "c6561635-8e86-4c12-d26b-5c977441d7b1"
      },
      "source": [
        "print(text)"
      ],
      "execution_count": 14,
      "outputs": [
        {
          "output_type": "stream",
          "text": [
            "unending love  i seem to have loved you in numberless forms  numberless times   in life after life  in age after age  forever   my spellbound heart has made and remade the necklace of songs   that you take as a gift  wear round your neck in your many forms   in life after life  in age after age  forever     whenever i hear old chronicles of love  its age-old pain   its ancient tale of being apart or together   as i stare on and on into the past  in the end you emerge   clad in the light of a pole-star piercing the darkness of time:  you become an image of what is remembered forever     you and i have floated here on the stream that brings from the fount   at the heart of time  love of one for another   we have played along side millions of lovers  shared in the same  shy sweetness of meeting  the same distressful tears of farewell-  old love but in shapes that renew and renew forever     today it is heaped at your feet  it has found its end in you  the love of all man’s days both past and forever:  universal joy  universal sorrow  universal life   the memories of all loves merging with this one love of ours –  and the songs of every poet past and forever       aws ec2 instance supports decimal values  use the following monitor-instances command to enable detailed monitoring for the specified instances   aws ec2 monitor-instances --instance-ids i-1234567890abcdef0  aws 10 gb file se bucket with chunk size update    how to control the number of output part files created by spark job upon writing   which of the following is not correct way to perform concatenation of two columns of dataframe  for an 8 core executor with a 15 second micro batch duration for 100 rules  if your rdd spark  is so large that all of its elemets noy fit in memory the drive machine        \n"
          ],
          "name": "stdout"
        }
      ]
    },
    {
      "cell_type": "code",
      "metadata": {
        "id": "ln2pXXq0dJ0E",
        "colab_type": "code",
        "colab": {}
      },
      "source": [
        "text= \" \".join(lines)"
      ],
      "execution_count": 15,
      "outputs": []
    },
    {
      "cell_type": "code",
      "metadata": {
        "id": "Qvw3sDAweKQe",
        "colab_type": "code",
        "colab": {
          "base_uri": "https://localhost:8080/",
          "height": 54
        },
        "outputId": "fa7f3fe7-7523-4d0f-bb1c-a2c1085de1cb"
      },
      "source": [
        "print(text)"
      ],
      "execution_count": 16,
      "outputs": [
        {
          "output_type": "stream",
          "text": [
            "unending love  i seem to have loved you in numberless forms  numberless times   in life after life  in age after age  forever   my spellbound heart has made and remade the necklace of songs   that you take as a gift  wear round your neck in your many forms   in life after life  in age after age  forever     whenever i hear old chronicles of love  its age-old pain   its ancient tale of being apart or together   as i stare on and on into the past  in the end you emerge   clad in the light of a pole-star piercing the darkness of time:  you become an image of what is remembered forever     you and i have floated here on the stream that brings from the fount   at the heart of time  love of one for another   we have played along side millions of lovers  shared in the same  shy sweetness of meeting  the same distressful tears of farewell-  old love but in shapes that renew and renew forever     today it is heaped at your feet  it has found its end in you  the love of all man’s days both past and forever:  universal joy  universal sorrow  universal life   the memories of all loves merging with this one love of ours –  and the songs of every poet past and forever       aws ec2 instance supports decimal values  use the following monitor-instances command to enable detailed monitoring for the specified instances   aws ec2 monitor-instances --instance-ids i-1234567890abcdef0  aws 10 gb file se bucket with chunk size update    how to control the number of output part files created by spark job upon writing   which of the following is not correct way to perform concatenation of two columns of dataframe  for an 8 core executor with a 15 second micro batch duration for 100 rules  if your rdd spark  is so large that all of its elemets noy fit in memory the drive machine       \n"
          ],
          "name": "stdout"
        }
      ]
    },
    {
      "cell_type": "code",
      "metadata": {
        "id": "_Oi_wsZMeL4g",
        "colab_type": "code",
        "colab": {}
      },
      "source": [
        "words = text.split()"
      ],
      "execution_count": 17,
      "outputs": []
    },
    {
      "cell_type": "code",
      "metadata": {
        "id": "RC-CK-svgv7P",
        "colab_type": "code",
        "colab": {
          "base_uri": "https://localhost:8080/",
          "height": 54
        },
        "outputId": "fbbf6cf9-c122-452f-b10d-975fa3537de1"
      },
      "source": [
        "print(words)"
      ],
      "execution_count": 18,
      "outputs": [
        {
          "output_type": "stream",
          "text": [
            "['unending', 'love', 'i', 'seem', 'to', 'have', 'loved', 'you', 'in', 'numberless', 'forms', 'numberless', 'times', 'in', 'life', 'after', 'life', 'in', 'age', 'after', 'age', 'forever', 'my', 'spellbound', 'heart', 'has', 'made', 'and', 'remade', 'the', 'necklace', 'of', 'songs', 'that', 'you', 'take', 'as', 'a', 'gift', 'wear', 'round', 'your', 'neck', 'in', 'your', 'many', 'forms', 'in', 'life', 'after', 'life', 'in', 'age', 'after', 'age', 'forever', 'whenever', 'i', 'hear', 'old', 'chronicles', 'of', 'love', 'its', 'age-old', 'pain', 'its', 'ancient', 'tale', 'of', 'being', 'apart', 'or', 'together', 'as', 'i', 'stare', 'on', 'and', 'on', 'into', 'the', 'past', 'in', 'the', 'end', 'you', 'emerge', 'clad', 'in', 'the', 'light', 'of', 'a', 'pole-star', 'piercing', 'the', 'darkness', 'of', 'time:', 'you', 'become', 'an', 'image', 'of', 'what', 'is', 'remembered', 'forever', 'you', 'and', 'i', 'have', 'floated', 'here', 'on', 'the', 'stream', 'that', 'brings', 'from', 'the', 'fount', 'at', 'the', 'heart', 'of', 'time', 'love', 'of', 'one', 'for', 'another', 'we', 'have', 'played', 'along', 'side', 'millions', 'of', 'lovers', 'shared', 'in', 'the', 'same', 'shy', 'sweetness', 'of', 'meeting', 'the', 'same', 'distressful', 'tears', 'of', 'farewell-', 'old', 'love', 'but', 'in', 'shapes', 'that', 'renew', 'and', 'renew', 'forever', 'today', 'it', 'is', 'heaped', 'at', 'your', 'feet', 'it', 'has', 'found', 'its', 'end', 'in', 'you', 'the', 'love', 'of', 'all', 'man’s', 'days', 'both', 'past', 'and', 'forever:', 'universal', 'joy', 'universal', 'sorrow', 'universal', 'life', 'the', 'memories', 'of', 'all', 'loves', 'merging', 'with', 'this', 'one', 'love', 'of', 'ours', '–', 'and', 'the', 'songs', 'of', 'every', 'poet', 'past', 'and', 'forever', 'aws', 'ec2', 'instance', 'supports', 'decimal', 'values', 'use', 'the', 'following', 'monitor-instances', 'command', 'to', 'enable', 'detailed', 'monitoring', 'for', 'the', 'specified', 'instances', 'aws', 'ec2', 'monitor-instances', '--instance-ids', 'i-1234567890abcdef0', 'aws', '10', 'gb', 'file', 'se', 'bucket', 'with', 'chunk', 'size', 'update', 'how', 'to', 'control', 'the', 'number', 'of', 'output', 'part', 'files', 'created', 'by', 'spark', 'job', 'upon', 'writing', 'which', 'of', 'the', 'following', 'is', 'not', 'correct', 'way', 'to', 'perform', 'concatenation', 'of', 'two', 'columns', 'of', 'dataframe', 'for', 'an', '8', 'core', 'executor', 'with', 'a', '15', 'second', 'micro', 'batch', 'duration', 'for', '100', 'rules', 'if', 'your', 'rdd', 'spark', 'is', 'so', 'large', 'that', 'all', 'of', 'its', 'elemets', 'noy', 'fit', 'in', 'memory', 'the', 'drive', 'machine']\n"
          ],
          "name": "stdout"
        }
      ]
    },
    {
      "cell_type": "code",
      "metadata": {
        "id": "EgfXqjv9gx7d",
        "colab_type": "code",
        "colab": {
          "base_uri": "https://localhost:8080/",
          "height": 34
        },
        "outputId": "aab389d0-9ceb-4037-c9ef-072b1ecc9048"
      },
      "source": [
        "print(len(words))"
      ],
      "execution_count": 19,
      "outputs": [
        {
          "output_type": "stream",
          "text": [
            "316\n"
          ],
          "name": "stdout"
        }
      ]
    },
    {
      "cell_type": "code",
      "metadata": {
        "id": "aNnzZ0TRhMpw",
        "colab_type": "code",
        "colab": {}
      },
      "source": [
        "word_freq ={}\n",
        "for word in words:\n",
        "  if word in word_freq:\n",
        "    word_freq[word] += 1\n",
        "  else:\n",
        "    word_freq[word]= 1"
      ],
      "execution_count": 20,
      "outputs": []
    },
    {
      "cell_type": "code",
      "metadata": {
        "id": "qnlSO66ejuIJ",
        "colab_type": "code",
        "colab": {
          "base_uri": "https://localhost:8080/",
          "height": 54
        },
        "outputId": "8c152651-d79b-422d-ad5c-4115c7b98e62"
      },
      "source": [
        "print(word_freq)"
      ],
      "execution_count": 21,
      "outputs": [
        {
          "output_type": "stream",
          "text": [
            "{'unending': 1, 'love': 6, 'i': 4, 'seem': 1, 'to': 4, 'have': 3, 'loved': 1, 'you': 6, 'in': 12, 'numberless': 2, 'forms': 2, 'times': 1, 'life': 5, 'after': 4, 'age': 4, 'forever': 5, 'my': 1, 'spellbound': 1, 'heart': 2, 'has': 2, 'made': 1, 'and': 7, 'remade': 1, 'the': 18, 'necklace': 1, 'of': 20, 'songs': 2, 'that': 4, 'take': 1, 'as': 2, 'a': 3, 'gift': 1, 'wear': 1, 'round': 1, 'your': 4, 'neck': 1, 'many': 1, 'whenever': 1, 'hear': 1, 'old': 2, 'chronicles': 1, 'its': 4, 'age-old': 1, 'pain': 1, 'ancient': 1, 'tale': 1, 'being': 1, 'apart': 1, 'or': 1, 'together': 1, 'stare': 1, 'on': 3, 'into': 1, 'past': 3, 'end': 2, 'emerge': 1, 'clad': 1, 'light': 1, 'pole-star': 1, 'piercing': 1, 'darkness': 1, 'time:': 1, 'become': 1, 'an': 2, 'image': 1, 'what': 1, 'is': 4, 'remembered': 1, 'floated': 1, 'here': 1, 'stream': 1, 'brings': 1, 'from': 1, 'fount': 1, 'at': 2, 'time': 1, 'one': 2, 'for': 4, 'another': 1, 'we': 1, 'played': 1, 'along': 1, 'side': 1, 'millions': 1, 'lovers': 1, 'shared': 1, 'same': 2, 'shy': 1, 'sweetness': 1, 'meeting': 1, 'distressful': 1, 'tears': 1, 'farewell-': 1, 'but': 1, 'shapes': 1, 'renew': 2, 'today': 1, 'it': 2, 'heaped': 1, 'feet': 1, 'found': 1, 'all': 3, 'man’s': 1, 'days': 1, 'both': 1, 'forever:': 1, 'universal': 3, 'joy': 1, 'sorrow': 1, 'memories': 1, 'loves': 1, 'merging': 1, 'with': 3, 'this': 1, 'ours': 1, '–': 1, 'every': 1, 'poet': 1, 'aws': 3, 'ec2': 2, 'instance': 1, 'supports': 1, 'decimal': 1, 'values': 1, 'use': 1, 'following': 2, 'monitor-instances': 2, 'command': 1, 'enable': 1, 'detailed': 1, 'monitoring': 1, 'specified': 1, 'instances': 1, '--instance-ids': 1, 'i-1234567890abcdef0': 1, '10': 1, 'gb': 1, 'file': 1, 'se': 1, 'bucket': 1, 'chunk': 1, 'size': 1, 'update': 1, 'how': 1, 'control': 1, 'number': 1, 'output': 1, 'part': 1, 'files': 1, 'created': 1, 'by': 1, 'spark': 2, 'job': 1, 'upon': 1, 'writing': 1, 'which': 1, 'not': 1, 'correct': 1, 'way': 1, 'perform': 1, 'concatenation': 1, 'two': 1, 'columns': 1, 'dataframe': 1, '8': 1, 'core': 1, 'executor': 1, '15': 1, 'second': 1, 'micro': 1, 'batch': 1, 'duration': 1, '100': 1, 'rules': 1, 'if': 1, 'rdd': 1, 'so': 1, 'large': 1, 'elemets': 1, 'noy': 1, 'fit': 1, 'memory': 1, 'drive': 1, 'machine': 1}\n"
          ],
          "name": "stdout"
        }
      ]
    },
    {
      "cell_type": "code",
      "metadata": {
        "id": "h7CieNcWlTiS",
        "colab_type": "code",
        "colab": {
          "base_uri": "https://localhost:8080/",
          "height": 54
        },
        "outputId": "5c0d1352-e96d-496e-bfcf-68a0b86d5963"
      },
      "source": [
        "print(sorted(word_freq))"
      ],
      "execution_count": 22,
      "outputs": [
        {
          "output_type": "stream",
          "text": [
            "['--instance-ids', '10', '100', '15', '8', 'a', 'after', 'age', 'age-old', 'all', 'along', 'an', 'ancient', 'and', 'another', 'apart', 'as', 'at', 'aws', 'batch', 'become', 'being', 'both', 'brings', 'bucket', 'but', 'by', 'chronicles', 'chunk', 'clad', 'columns', 'command', 'concatenation', 'control', 'core', 'correct', 'created', 'darkness', 'dataframe', 'days', 'decimal', 'detailed', 'distressful', 'drive', 'duration', 'ec2', 'elemets', 'emerge', 'enable', 'end', 'every', 'executor', 'farewell-', 'feet', 'file', 'files', 'fit', 'floated', 'following', 'for', 'forever', 'forever:', 'forms', 'found', 'fount', 'from', 'gb', 'gift', 'has', 'have', 'heaped', 'hear', 'heart', 'here', 'how', 'i', 'i-1234567890abcdef0', 'if', 'image', 'in', 'instance', 'instances', 'into', 'is', 'it', 'its', 'job', 'joy', 'large', 'life', 'light', 'love', 'loved', 'lovers', 'loves', 'machine', 'made', 'many', 'man’s', 'meeting', 'memories', 'memory', 'merging', 'micro', 'millions', 'monitor-instances', 'monitoring', 'my', 'neck', 'necklace', 'not', 'noy', 'number', 'numberless', 'of', 'old', 'on', 'one', 'or', 'ours', 'output', 'pain', 'part', 'past', 'perform', 'piercing', 'played', 'poet', 'pole-star', 'rdd', 'remade', 'remembered', 'renew', 'round', 'rules', 'same', 'se', 'second', 'seem', 'shapes', 'shared', 'shy', 'side', 'size', 'so', 'songs', 'sorrow', 'spark', 'specified', 'spellbound', 'stare', 'stream', 'supports', 'sweetness', 'take', 'tale', 'tears', 'that', 'the', 'this', 'time', 'time:', 'times', 'to', 'today', 'together', 'two', 'unending', 'universal', 'update', 'upon', 'use', 'values', 'way', 'we', 'wear', 'what', 'whenever', 'which', 'with', 'writing', 'you', 'your', '–']\n"
          ],
          "name": "stdout"
        }
      ]
    },
    {
      "cell_type": "code",
      "metadata": {
        "id": "cgUmkuXUnaAA",
        "colab_type": "code",
        "colab": {
          "base_uri": "https://localhost:8080/",
          "height": 54
        },
        "outputId": "bffad04f-4d95-4f77-affd-9bf9f89a5659"
      },
      "source": [
        "print(sorted(word_freq.items()))"
      ],
      "execution_count": 23,
      "outputs": [
        {
          "output_type": "stream",
          "text": [
            "[('--instance-ids', 1), ('10', 1), ('100', 1), ('15', 1), ('8', 1), ('a', 3), ('after', 4), ('age', 4), ('age-old', 1), ('all', 3), ('along', 1), ('an', 2), ('ancient', 1), ('and', 7), ('another', 1), ('apart', 1), ('as', 2), ('at', 2), ('aws', 3), ('batch', 1), ('become', 1), ('being', 1), ('both', 1), ('brings', 1), ('bucket', 1), ('but', 1), ('by', 1), ('chronicles', 1), ('chunk', 1), ('clad', 1), ('columns', 1), ('command', 1), ('concatenation', 1), ('control', 1), ('core', 1), ('correct', 1), ('created', 1), ('darkness', 1), ('dataframe', 1), ('days', 1), ('decimal', 1), ('detailed', 1), ('distressful', 1), ('drive', 1), ('duration', 1), ('ec2', 2), ('elemets', 1), ('emerge', 1), ('enable', 1), ('end', 2), ('every', 1), ('executor', 1), ('farewell-', 1), ('feet', 1), ('file', 1), ('files', 1), ('fit', 1), ('floated', 1), ('following', 2), ('for', 4), ('forever', 5), ('forever:', 1), ('forms', 2), ('found', 1), ('fount', 1), ('from', 1), ('gb', 1), ('gift', 1), ('has', 2), ('have', 3), ('heaped', 1), ('hear', 1), ('heart', 2), ('here', 1), ('how', 1), ('i', 4), ('i-1234567890abcdef0', 1), ('if', 1), ('image', 1), ('in', 12), ('instance', 1), ('instances', 1), ('into', 1), ('is', 4), ('it', 2), ('its', 4), ('job', 1), ('joy', 1), ('large', 1), ('life', 5), ('light', 1), ('love', 6), ('loved', 1), ('lovers', 1), ('loves', 1), ('machine', 1), ('made', 1), ('many', 1), ('man’s', 1), ('meeting', 1), ('memories', 1), ('memory', 1), ('merging', 1), ('micro', 1), ('millions', 1), ('monitor-instances', 2), ('monitoring', 1), ('my', 1), ('neck', 1), ('necklace', 1), ('not', 1), ('noy', 1), ('number', 1), ('numberless', 2), ('of', 20), ('old', 2), ('on', 3), ('one', 2), ('or', 1), ('ours', 1), ('output', 1), ('pain', 1), ('part', 1), ('past', 3), ('perform', 1), ('piercing', 1), ('played', 1), ('poet', 1), ('pole-star', 1), ('rdd', 1), ('remade', 1), ('remembered', 1), ('renew', 2), ('round', 1), ('rules', 1), ('same', 2), ('se', 1), ('second', 1), ('seem', 1), ('shapes', 1), ('shared', 1), ('shy', 1), ('side', 1), ('size', 1), ('so', 1), ('songs', 2), ('sorrow', 1), ('spark', 2), ('specified', 1), ('spellbound', 1), ('stare', 1), ('stream', 1), ('supports', 1), ('sweetness', 1), ('take', 1), ('tale', 1), ('tears', 1), ('that', 4), ('the', 18), ('this', 1), ('time', 1), ('time:', 1), ('times', 1), ('to', 4), ('today', 1), ('together', 1), ('two', 1), ('unending', 1), ('universal', 3), ('update', 1), ('upon', 1), ('use', 1), ('values', 1), ('way', 1), ('we', 1), ('wear', 1), ('what', 1), ('whenever', 1), ('which', 1), ('with', 3), ('writing', 1), ('you', 6), ('your', 4), ('–', 1)]\n"
          ],
          "name": "stdout"
        }
      ]
    },
    {
      "cell_type": "code",
      "metadata": {
        "id": "_L68JMsSnhpy",
        "colab_type": "code",
        "colab": {
          "base_uri": "https://localhost:8080/",
          "height": 54
        },
        "outputId": "ef7ee3d6-0af1-4a35-9d34-d65def7454aa"
      },
      "source": [
        "print(sorted(word_freq.items(),key=lambda item : item[0]))"
      ],
      "execution_count": 24,
      "outputs": [
        {
          "output_type": "stream",
          "text": [
            "[('--instance-ids', 1), ('10', 1), ('100', 1), ('15', 1), ('8', 1), ('a', 3), ('after', 4), ('age', 4), ('age-old', 1), ('all', 3), ('along', 1), ('an', 2), ('ancient', 1), ('and', 7), ('another', 1), ('apart', 1), ('as', 2), ('at', 2), ('aws', 3), ('batch', 1), ('become', 1), ('being', 1), ('both', 1), ('brings', 1), ('bucket', 1), ('but', 1), ('by', 1), ('chronicles', 1), ('chunk', 1), ('clad', 1), ('columns', 1), ('command', 1), ('concatenation', 1), ('control', 1), ('core', 1), ('correct', 1), ('created', 1), ('darkness', 1), ('dataframe', 1), ('days', 1), ('decimal', 1), ('detailed', 1), ('distressful', 1), ('drive', 1), ('duration', 1), ('ec2', 2), ('elemets', 1), ('emerge', 1), ('enable', 1), ('end', 2), ('every', 1), ('executor', 1), ('farewell-', 1), ('feet', 1), ('file', 1), ('files', 1), ('fit', 1), ('floated', 1), ('following', 2), ('for', 4), ('forever', 5), ('forever:', 1), ('forms', 2), ('found', 1), ('fount', 1), ('from', 1), ('gb', 1), ('gift', 1), ('has', 2), ('have', 3), ('heaped', 1), ('hear', 1), ('heart', 2), ('here', 1), ('how', 1), ('i', 4), ('i-1234567890abcdef0', 1), ('if', 1), ('image', 1), ('in', 12), ('instance', 1), ('instances', 1), ('into', 1), ('is', 4), ('it', 2), ('its', 4), ('job', 1), ('joy', 1), ('large', 1), ('life', 5), ('light', 1), ('love', 6), ('loved', 1), ('lovers', 1), ('loves', 1), ('machine', 1), ('made', 1), ('many', 1), ('man’s', 1), ('meeting', 1), ('memories', 1), ('memory', 1), ('merging', 1), ('micro', 1), ('millions', 1), ('monitor-instances', 2), ('monitoring', 1), ('my', 1), ('neck', 1), ('necklace', 1), ('not', 1), ('noy', 1), ('number', 1), ('numberless', 2), ('of', 20), ('old', 2), ('on', 3), ('one', 2), ('or', 1), ('ours', 1), ('output', 1), ('pain', 1), ('part', 1), ('past', 3), ('perform', 1), ('piercing', 1), ('played', 1), ('poet', 1), ('pole-star', 1), ('rdd', 1), ('remade', 1), ('remembered', 1), ('renew', 2), ('round', 1), ('rules', 1), ('same', 2), ('se', 1), ('second', 1), ('seem', 1), ('shapes', 1), ('shared', 1), ('shy', 1), ('side', 1), ('size', 1), ('so', 1), ('songs', 2), ('sorrow', 1), ('spark', 2), ('specified', 1), ('spellbound', 1), ('stare', 1), ('stream', 1), ('supports', 1), ('sweetness', 1), ('take', 1), ('tale', 1), ('tears', 1), ('that', 4), ('the', 18), ('this', 1), ('time', 1), ('time:', 1), ('times', 1), ('to', 4), ('today', 1), ('together', 1), ('two', 1), ('unending', 1), ('universal', 3), ('update', 1), ('upon', 1), ('use', 1), ('values', 1), ('way', 1), ('we', 1), ('wear', 1), ('what', 1), ('whenever', 1), ('which', 1), ('with', 3), ('writing', 1), ('you', 6), ('your', 4), ('–', 1)]\n"
          ],
          "name": "stdout"
        }
      ]
    },
    {
      "cell_type": "code",
      "metadata": {
        "id": "tCC-syIopurw",
        "colab_type": "code",
        "colab": {
          "base_uri": "https://localhost:8080/",
          "height": 54
        },
        "outputId": "50dffd3b-6b02-4de3-fcc0-ea5441e43a43"
      },
      "source": [
        "print(sorted(word_freq.items(),key=lambda item : item[1]))"
      ],
      "execution_count": 25,
      "outputs": [
        {
          "output_type": "stream",
          "text": [
            "[('unending', 1), ('seem', 1), ('loved', 1), ('times', 1), ('my', 1), ('spellbound', 1), ('made', 1), ('remade', 1), ('necklace', 1), ('take', 1), ('gift', 1), ('wear', 1), ('round', 1), ('neck', 1), ('many', 1), ('whenever', 1), ('hear', 1), ('chronicles', 1), ('age-old', 1), ('pain', 1), ('ancient', 1), ('tale', 1), ('being', 1), ('apart', 1), ('or', 1), ('together', 1), ('stare', 1), ('into', 1), ('emerge', 1), ('clad', 1), ('light', 1), ('pole-star', 1), ('piercing', 1), ('darkness', 1), ('time:', 1), ('become', 1), ('image', 1), ('what', 1), ('remembered', 1), ('floated', 1), ('here', 1), ('stream', 1), ('brings', 1), ('from', 1), ('fount', 1), ('time', 1), ('another', 1), ('we', 1), ('played', 1), ('along', 1), ('side', 1), ('millions', 1), ('lovers', 1), ('shared', 1), ('shy', 1), ('sweetness', 1), ('meeting', 1), ('distressful', 1), ('tears', 1), ('farewell-', 1), ('but', 1), ('shapes', 1), ('today', 1), ('heaped', 1), ('feet', 1), ('found', 1), ('man’s', 1), ('days', 1), ('both', 1), ('forever:', 1), ('joy', 1), ('sorrow', 1), ('memories', 1), ('loves', 1), ('merging', 1), ('this', 1), ('ours', 1), ('–', 1), ('every', 1), ('poet', 1), ('instance', 1), ('supports', 1), ('decimal', 1), ('values', 1), ('use', 1), ('command', 1), ('enable', 1), ('detailed', 1), ('monitoring', 1), ('specified', 1), ('instances', 1), ('--instance-ids', 1), ('i-1234567890abcdef0', 1), ('10', 1), ('gb', 1), ('file', 1), ('se', 1), ('bucket', 1), ('chunk', 1), ('size', 1), ('update', 1), ('how', 1), ('control', 1), ('number', 1), ('output', 1), ('part', 1), ('files', 1), ('created', 1), ('by', 1), ('job', 1), ('upon', 1), ('writing', 1), ('which', 1), ('not', 1), ('correct', 1), ('way', 1), ('perform', 1), ('concatenation', 1), ('two', 1), ('columns', 1), ('dataframe', 1), ('8', 1), ('core', 1), ('executor', 1), ('15', 1), ('second', 1), ('micro', 1), ('batch', 1), ('duration', 1), ('100', 1), ('rules', 1), ('if', 1), ('rdd', 1), ('so', 1), ('large', 1), ('elemets', 1), ('noy', 1), ('fit', 1), ('memory', 1), ('drive', 1), ('machine', 1), ('numberless', 2), ('forms', 2), ('heart', 2), ('has', 2), ('songs', 2), ('as', 2), ('old', 2), ('end', 2), ('an', 2), ('at', 2), ('one', 2), ('same', 2), ('renew', 2), ('it', 2), ('ec2', 2), ('following', 2), ('monitor-instances', 2), ('spark', 2), ('have', 3), ('a', 3), ('on', 3), ('past', 3), ('all', 3), ('universal', 3), ('with', 3), ('aws', 3), ('i', 4), ('to', 4), ('after', 4), ('age', 4), ('that', 4), ('your', 4), ('its', 4), ('is', 4), ('for', 4), ('life', 5), ('forever', 5), ('love', 6), ('you', 6), ('and', 7), ('in', 12), ('the', 18), ('of', 20)]\n"
          ],
          "name": "stdout"
        }
      ]
    },
    {
      "cell_type": "code",
      "metadata": {
        "id": "FW-73qsfpxho",
        "colab_type": "code",
        "colab": {}
      },
      "source": [
        "sorted_list=sorted(word_freq.items(),key=lambda item : item[1])"
      ],
      "execution_count": 26,
      "outputs": []
    },
    {
      "cell_type": "code",
      "metadata": {
        "id": "GPb21hnZq6Is",
        "colab_type": "code",
        "colab": {
          "base_uri": "https://localhost:8080/",
          "height": 1000
        },
        "outputId": "1593f4b9-ee3d-4245-a1de-ed2c7a19ce3f"
      },
      "source": [
        "sorted_list[:-10]"
      ],
      "execution_count": 27,
      "outputs": [
        {
          "output_type": "execute_result",
          "data": {
            "text/plain": [
              "[('unending', 1),\n",
              " ('seem', 1),\n",
              " ('loved', 1),\n",
              " ('times', 1),\n",
              " ('my', 1),\n",
              " ('spellbound', 1),\n",
              " ('made', 1),\n",
              " ('remade', 1),\n",
              " ('necklace', 1),\n",
              " ('take', 1),\n",
              " ('gift', 1),\n",
              " ('wear', 1),\n",
              " ('round', 1),\n",
              " ('neck', 1),\n",
              " ('many', 1),\n",
              " ('whenever', 1),\n",
              " ('hear', 1),\n",
              " ('chronicles', 1),\n",
              " ('age-old', 1),\n",
              " ('pain', 1),\n",
              " ('ancient', 1),\n",
              " ('tale', 1),\n",
              " ('being', 1),\n",
              " ('apart', 1),\n",
              " ('or', 1),\n",
              " ('together', 1),\n",
              " ('stare', 1),\n",
              " ('into', 1),\n",
              " ('emerge', 1),\n",
              " ('clad', 1),\n",
              " ('light', 1),\n",
              " ('pole-star', 1),\n",
              " ('piercing', 1),\n",
              " ('darkness', 1),\n",
              " ('time:', 1),\n",
              " ('become', 1),\n",
              " ('image', 1),\n",
              " ('what', 1),\n",
              " ('remembered', 1),\n",
              " ('floated', 1),\n",
              " ('here', 1),\n",
              " ('stream', 1),\n",
              " ('brings', 1),\n",
              " ('from', 1),\n",
              " ('fount', 1),\n",
              " ('time', 1),\n",
              " ('another', 1),\n",
              " ('we', 1),\n",
              " ('played', 1),\n",
              " ('along', 1),\n",
              " ('side', 1),\n",
              " ('millions', 1),\n",
              " ('lovers', 1),\n",
              " ('shared', 1),\n",
              " ('shy', 1),\n",
              " ('sweetness', 1),\n",
              " ('meeting', 1),\n",
              " ('distressful', 1),\n",
              " ('tears', 1),\n",
              " ('farewell-', 1),\n",
              " ('but', 1),\n",
              " ('shapes', 1),\n",
              " ('today', 1),\n",
              " ('heaped', 1),\n",
              " ('feet', 1),\n",
              " ('found', 1),\n",
              " ('man’s', 1),\n",
              " ('days', 1),\n",
              " ('both', 1),\n",
              " ('forever:', 1),\n",
              " ('joy', 1),\n",
              " ('sorrow', 1),\n",
              " ('memories', 1),\n",
              " ('loves', 1),\n",
              " ('merging', 1),\n",
              " ('this', 1),\n",
              " ('ours', 1),\n",
              " ('–', 1),\n",
              " ('every', 1),\n",
              " ('poet', 1),\n",
              " ('instance', 1),\n",
              " ('supports', 1),\n",
              " ('decimal', 1),\n",
              " ('values', 1),\n",
              " ('use', 1),\n",
              " ('command', 1),\n",
              " ('enable', 1),\n",
              " ('detailed', 1),\n",
              " ('monitoring', 1),\n",
              " ('specified', 1),\n",
              " ('instances', 1),\n",
              " ('--instance-ids', 1),\n",
              " ('i-1234567890abcdef0', 1),\n",
              " ('10', 1),\n",
              " ('gb', 1),\n",
              " ('file', 1),\n",
              " ('se', 1),\n",
              " ('bucket', 1),\n",
              " ('chunk', 1),\n",
              " ('size', 1),\n",
              " ('update', 1),\n",
              " ('how', 1),\n",
              " ('control', 1),\n",
              " ('number', 1),\n",
              " ('output', 1),\n",
              " ('part', 1),\n",
              " ('files', 1),\n",
              " ('created', 1),\n",
              " ('by', 1),\n",
              " ('job', 1),\n",
              " ('upon', 1),\n",
              " ('writing', 1),\n",
              " ('which', 1),\n",
              " ('not', 1),\n",
              " ('correct', 1),\n",
              " ('way', 1),\n",
              " ('perform', 1),\n",
              " ('concatenation', 1),\n",
              " ('two', 1),\n",
              " ('columns', 1),\n",
              " ('dataframe', 1),\n",
              " ('8', 1),\n",
              " ('core', 1),\n",
              " ('executor', 1),\n",
              " ('15', 1),\n",
              " ('second', 1),\n",
              " ('micro', 1),\n",
              " ('batch', 1),\n",
              " ('duration', 1),\n",
              " ('100', 1),\n",
              " ('rules', 1),\n",
              " ('if', 1),\n",
              " ('rdd', 1),\n",
              " ('so', 1),\n",
              " ('large', 1),\n",
              " ('elemets', 1),\n",
              " ('noy', 1),\n",
              " ('fit', 1),\n",
              " ('memory', 1),\n",
              " ('drive', 1),\n",
              " ('machine', 1),\n",
              " ('numberless', 2),\n",
              " ('forms', 2),\n",
              " ('heart', 2),\n",
              " ('has', 2),\n",
              " ('songs', 2),\n",
              " ('as', 2),\n",
              " ('old', 2),\n",
              " ('end', 2),\n",
              " ('an', 2),\n",
              " ('at', 2),\n",
              " ('one', 2),\n",
              " ('same', 2),\n",
              " ('renew', 2),\n",
              " ('it', 2),\n",
              " ('ec2', 2),\n",
              " ('following', 2),\n",
              " ('monitor-instances', 2),\n",
              " ('spark', 2),\n",
              " ('have', 3),\n",
              " ('a', 3),\n",
              " ('on', 3),\n",
              " ('past', 3),\n",
              " ('all', 3),\n",
              " ('universal', 3),\n",
              " ('with', 3),\n",
              " ('aws', 3),\n",
              " ('i', 4),\n",
              " ('to', 4),\n",
              " ('after', 4),\n",
              " ('age', 4),\n",
              " ('that', 4),\n",
              " ('your', 4),\n",
              " ('its', 4)]"
            ]
          },
          "metadata": {
            "tags": []
          },
          "execution_count": 27
        }
      ]
    },
    {
      "cell_type": "code",
      "metadata": {
        "id": "fwz58B1bq8Vf",
        "colab_type": "code",
        "colab": {}
      },
      "source": [
        "with open(\"most_common_words.txt\",\"w\") as f_out:\n",
        "  for item in sorted_list[-10:]:\n",
        "    f_out.write(item[0])\n",
        "\n"
      ],
      "execution_count": 28,
      "outputs": []
    },
    {
      "cell_type": "code",
      "metadata": {
        "id": "-rMQf6EqsF18",
        "colab_type": "code",
        "colab": {
          "base_uri": "https://localhost:8080/",
          "height": 54
        },
        "outputId": "d3db6958-4300-4116-b485-6063eae963c7"
      },
      "source": [
        "print(words)"
      ],
      "execution_count": 29,
      "outputs": [
        {
          "output_type": "stream",
          "text": [
            "['unending', 'love', 'i', 'seem', 'to', 'have', 'loved', 'you', 'in', 'numberless', 'forms', 'numberless', 'times', 'in', 'life', 'after', 'life', 'in', 'age', 'after', 'age', 'forever', 'my', 'spellbound', 'heart', 'has', 'made', 'and', 'remade', 'the', 'necklace', 'of', 'songs', 'that', 'you', 'take', 'as', 'a', 'gift', 'wear', 'round', 'your', 'neck', 'in', 'your', 'many', 'forms', 'in', 'life', 'after', 'life', 'in', 'age', 'after', 'age', 'forever', 'whenever', 'i', 'hear', 'old', 'chronicles', 'of', 'love', 'its', 'age-old', 'pain', 'its', 'ancient', 'tale', 'of', 'being', 'apart', 'or', 'together', 'as', 'i', 'stare', 'on', 'and', 'on', 'into', 'the', 'past', 'in', 'the', 'end', 'you', 'emerge', 'clad', 'in', 'the', 'light', 'of', 'a', 'pole-star', 'piercing', 'the', 'darkness', 'of', 'time:', 'you', 'become', 'an', 'image', 'of', 'what', 'is', 'remembered', 'forever', 'you', 'and', 'i', 'have', 'floated', 'here', 'on', 'the', 'stream', 'that', 'brings', 'from', 'the', 'fount', 'at', 'the', 'heart', 'of', 'time', 'love', 'of', 'one', 'for', 'another', 'we', 'have', 'played', 'along', 'side', 'millions', 'of', 'lovers', 'shared', 'in', 'the', 'same', 'shy', 'sweetness', 'of', 'meeting', 'the', 'same', 'distressful', 'tears', 'of', 'farewell-', 'old', 'love', 'but', 'in', 'shapes', 'that', 'renew', 'and', 'renew', 'forever', 'today', 'it', 'is', 'heaped', 'at', 'your', 'feet', 'it', 'has', 'found', 'its', 'end', 'in', 'you', 'the', 'love', 'of', 'all', 'man’s', 'days', 'both', 'past', 'and', 'forever:', 'universal', 'joy', 'universal', 'sorrow', 'universal', 'life', 'the', 'memories', 'of', 'all', 'loves', 'merging', 'with', 'this', 'one', 'love', 'of', 'ours', '–', 'and', 'the', 'songs', 'of', 'every', 'poet', 'past', 'and', 'forever', 'aws', 'ec2', 'instance', 'supports', 'decimal', 'values', 'use', 'the', 'following', 'monitor-instances', 'command', 'to', 'enable', 'detailed', 'monitoring', 'for', 'the', 'specified', 'instances', 'aws', 'ec2', 'monitor-instances', '--instance-ids', 'i-1234567890abcdef0', 'aws', '10', 'gb', 'file', 'se', 'bucket', 'with', 'chunk', 'size', 'update', 'how', 'to', 'control', 'the', 'number', 'of', 'output', 'part', 'files', 'created', 'by', 'spark', 'job', 'upon', 'writing', 'which', 'of', 'the', 'following', 'is', 'not', 'correct', 'way', 'to', 'perform', 'concatenation', 'of', 'two', 'columns', 'of', 'dataframe', 'for', 'an', '8', 'core', 'executor', 'with', 'a', '15', 'second', 'micro', 'batch', 'duration', 'for', '100', 'rules', 'if', 'your', 'rdd', 'spark', 'is', 'so', 'large', 'that', 'all', 'of', 'its', 'elemets', 'noy', 'fit', 'in', 'memory', 'the', 'drive', 'machine']\n"
          ],
          "name": "stdout"
        }
      ]
    },
    {
      "cell_type": "code",
      "metadata": {
        "id": "rKGKzeCgN11b",
        "colab_type": "code",
        "colab": {}
      },
      "source": [
        "two_gram_zip= zip(words,words[1:])"
      ],
      "execution_count": 34,
      "outputs": []
    },
    {
      "cell_type": "code",
      "metadata": {
        "id": "8jLqQYf1OQIm",
        "colab_type": "code",
        "colab": {
          "base_uri": "https://localhost:8080/",
          "height": 1000
        },
        "outputId": "d54965c8-2900-4477-a2a5-ce309826471b"
      },
      "source": [
        "for item in two_gram_zip:\n",
        "  print(item)"
      ],
      "execution_count": 31,
      "outputs": [
        {
          "output_type": "stream",
          "text": [
            "('unending', 'love')\n",
            "('love', 'i')\n",
            "('i', 'seem')\n",
            "('seem', 'to')\n",
            "('to', 'have')\n",
            "('have', 'loved')\n",
            "('loved', 'you')\n",
            "('you', 'in')\n",
            "('in', 'numberless')\n",
            "('numberless', 'forms')\n",
            "('forms', 'numberless')\n",
            "('numberless', 'times')\n",
            "('times', 'in')\n",
            "('in', 'life')\n",
            "('life', 'after')\n",
            "('after', 'life')\n",
            "('life', 'in')\n",
            "('in', 'age')\n",
            "('age', 'after')\n",
            "('after', 'age')\n",
            "('age', 'forever')\n",
            "('forever', 'my')\n",
            "('my', 'spellbound')\n",
            "('spellbound', 'heart')\n",
            "('heart', 'has')\n",
            "('has', 'made')\n",
            "('made', 'and')\n",
            "('and', 'remade')\n",
            "('remade', 'the')\n",
            "('the', 'necklace')\n",
            "('necklace', 'of')\n",
            "('of', 'songs')\n",
            "('songs', 'that')\n",
            "('that', 'you')\n",
            "('you', 'take')\n",
            "('take', 'as')\n",
            "('as', 'a')\n",
            "('a', 'gift')\n",
            "('gift', 'wear')\n",
            "('wear', 'round')\n",
            "('round', 'your')\n",
            "('your', 'neck')\n",
            "('neck', 'in')\n",
            "('in', 'your')\n",
            "('your', 'many')\n",
            "('many', 'forms')\n",
            "('forms', 'in')\n",
            "('in', 'life')\n",
            "('life', 'after')\n",
            "('after', 'life')\n",
            "('life', 'in')\n",
            "('in', 'age')\n",
            "('age', 'after')\n",
            "('after', 'age')\n",
            "('age', 'forever')\n",
            "('forever', 'whenever')\n",
            "('whenever', 'i')\n",
            "('i', 'hear')\n",
            "('hear', 'old')\n",
            "('old', 'chronicles')\n",
            "('chronicles', 'of')\n",
            "('of', 'love')\n",
            "('love', 'its')\n",
            "('its', 'age-old')\n",
            "('age-old', 'pain')\n",
            "('pain', 'its')\n",
            "('its', 'ancient')\n",
            "('ancient', 'tale')\n",
            "('tale', 'of')\n",
            "('of', 'being')\n",
            "('being', 'apart')\n",
            "('apart', 'or')\n",
            "('or', 'together')\n",
            "('together', 'as')\n",
            "('as', 'i')\n",
            "('i', 'stare')\n",
            "('stare', 'on')\n",
            "('on', 'and')\n",
            "('and', 'on')\n",
            "('on', 'into')\n",
            "('into', 'the')\n",
            "('the', 'past')\n",
            "('past', 'in')\n",
            "('in', 'the')\n",
            "('the', 'end')\n",
            "('end', 'you')\n",
            "('you', 'emerge')\n",
            "('emerge', 'clad')\n",
            "('clad', 'in')\n",
            "('in', 'the')\n",
            "('the', 'light')\n",
            "('light', 'of')\n",
            "('of', 'a')\n",
            "('a', 'pole-star')\n",
            "('pole-star', 'piercing')\n",
            "('piercing', 'the')\n",
            "('the', 'darkness')\n",
            "('darkness', 'of')\n",
            "('of', 'time:')\n",
            "('time:', 'you')\n",
            "('you', 'become')\n",
            "('become', 'an')\n",
            "('an', 'image')\n",
            "('image', 'of')\n",
            "('of', 'what')\n",
            "('what', 'is')\n",
            "('is', 'remembered')\n",
            "('remembered', 'forever')\n",
            "('forever', 'you')\n",
            "('you', 'and')\n",
            "('and', 'i')\n",
            "('i', 'have')\n",
            "('have', 'floated')\n",
            "('floated', 'here')\n",
            "('here', 'on')\n",
            "('on', 'the')\n",
            "('the', 'stream')\n",
            "('stream', 'that')\n",
            "('that', 'brings')\n",
            "('brings', 'from')\n",
            "('from', 'the')\n",
            "('the', 'fount')\n",
            "('fount', 'at')\n",
            "('at', 'the')\n",
            "('the', 'heart')\n",
            "('heart', 'of')\n",
            "('of', 'time')\n",
            "('time', 'love')\n",
            "('love', 'of')\n",
            "('of', 'one')\n",
            "('one', 'for')\n",
            "('for', 'another')\n",
            "('another', 'we')\n",
            "('we', 'have')\n",
            "('have', 'played')\n",
            "('played', 'along')\n",
            "('along', 'side')\n",
            "('side', 'millions')\n",
            "('millions', 'of')\n",
            "('of', 'lovers')\n",
            "('lovers', 'shared')\n",
            "('shared', 'in')\n",
            "('in', 'the')\n",
            "('the', 'same')\n",
            "('same', 'shy')\n",
            "('shy', 'sweetness')\n",
            "('sweetness', 'of')\n",
            "('of', 'meeting')\n",
            "('meeting', 'the')\n",
            "('the', 'same')\n",
            "('same', 'distressful')\n",
            "('distressful', 'tears')\n",
            "('tears', 'of')\n",
            "('of', 'farewell-')\n",
            "('farewell-', 'old')\n",
            "('old', 'love')\n",
            "('love', 'but')\n",
            "('but', 'in')\n",
            "('in', 'shapes')\n",
            "('shapes', 'that')\n",
            "('that', 'renew')\n",
            "('renew', 'and')\n",
            "('and', 'renew')\n",
            "('renew', 'forever')\n",
            "('forever', 'today')\n",
            "('today', 'it')\n",
            "('it', 'is')\n",
            "('is', 'heaped')\n",
            "('heaped', 'at')\n",
            "('at', 'your')\n",
            "('your', 'feet')\n",
            "('feet', 'it')\n",
            "('it', 'has')\n",
            "('has', 'found')\n",
            "('found', 'its')\n",
            "('its', 'end')\n",
            "('end', 'in')\n",
            "('in', 'you')\n",
            "('you', 'the')\n",
            "('the', 'love')\n",
            "('love', 'of')\n",
            "('of', 'all')\n",
            "('all', 'man’s')\n",
            "('man’s', 'days')\n",
            "('days', 'both')\n",
            "('both', 'past')\n",
            "('past', 'and')\n",
            "('and', 'forever:')\n",
            "('forever:', 'universal')\n",
            "('universal', 'joy')\n",
            "('joy', 'universal')\n",
            "('universal', 'sorrow')\n",
            "('sorrow', 'universal')\n",
            "('universal', 'life')\n",
            "('life', 'the')\n",
            "('the', 'memories')\n",
            "('memories', 'of')\n",
            "('of', 'all')\n",
            "('all', 'loves')\n",
            "('loves', 'merging')\n",
            "('merging', 'with')\n",
            "('with', 'this')\n",
            "('this', 'one')\n",
            "('one', 'love')\n",
            "('love', 'of')\n",
            "('of', 'ours')\n",
            "('ours', '–')\n",
            "('–', 'and')\n",
            "('and', 'the')\n",
            "('the', 'songs')\n",
            "('songs', 'of')\n",
            "('of', 'every')\n",
            "('every', 'poet')\n",
            "('poet', 'past')\n",
            "('past', 'and')\n",
            "('and', 'forever')\n",
            "('forever', 'aws')\n",
            "('aws', 'ec2')\n",
            "('ec2', 'instance')\n",
            "('instance', 'supports')\n",
            "('supports', 'decimal')\n",
            "('decimal', 'values')\n",
            "('values', 'use')\n",
            "('use', 'the')\n",
            "('the', 'following')\n",
            "('following', 'monitor-instances')\n",
            "('monitor-instances', 'command')\n",
            "('command', 'to')\n",
            "('to', 'enable')\n",
            "('enable', 'detailed')\n",
            "('detailed', 'monitoring')\n",
            "('monitoring', 'for')\n",
            "('for', 'the')\n",
            "('the', 'specified')\n",
            "('specified', 'instances')\n",
            "('instances', 'aws')\n",
            "('aws', 'ec2')\n",
            "('ec2', 'monitor-instances')\n",
            "('monitor-instances', '--instance-ids')\n",
            "('--instance-ids', 'i-1234567890abcdef0')\n",
            "('i-1234567890abcdef0', 'aws')\n",
            "('aws', '10')\n",
            "('10', 'gb')\n",
            "('gb', 'file')\n",
            "('file', 'se')\n",
            "('se', 'bucket')\n",
            "('bucket', 'with')\n",
            "('with', 'chunk')\n",
            "('chunk', 'size')\n",
            "('size', 'update')\n",
            "('update', 'how')\n",
            "('how', 'to')\n",
            "('to', 'control')\n",
            "('control', 'the')\n",
            "('the', 'number')\n",
            "('number', 'of')\n",
            "('of', 'output')\n",
            "('output', 'part')\n",
            "('part', 'files')\n",
            "('files', 'created')\n",
            "('created', 'by')\n",
            "('by', 'spark')\n",
            "('spark', 'job')\n",
            "('job', 'upon')\n",
            "('upon', 'writing')\n",
            "('writing', 'which')\n",
            "('which', 'of')\n",
            "('of', 'the')\n",
            "('the', 'following')\n",
            "('following', 'is')\n",
            "('is', 'not')\n",
            "('not', 'correct')\n",
            "('correct', 'way')\n",
            "('way', 'to')\n",
            "('to', 'perform')\n",
            "('perform', 'concatenation')\n",
            "('concatenation', 'of')\n",
            "('of', 'two')\n",
            "('two', 'columns')\n",
            "('columns', 'of')\n",
            "('of', 'dataframe')\n",
            "('dataframe', 'for')\n",
            "('for', 'an')\n",
            "('an', '8')\n",
            "('8', 'core')\n",
            "('core', 'executor')\n",
            "('executor', 'with')\n",
            "('with', 'a')\n",
            "('a', '15')\n",
            "('15', 'second')\n",
            "('second', 'micro')\n",
            "('micro', 'batch')\n",
            "('batch', 'duration')\n",
            "('duration', 'for')\n",
            "('for', '100')\n",
            "('100', 'rules')\n",
            "('rules', 'if')\n",
            "('if', 'your')\n",
            "('your', 'rdd')\n",
            "('rdd', 'spark')\n",
            "('spark', 'is')\n",
            "('is', 'so')\n",
            "('so', 'large')\n",
            "('large', 'that')\n",
            "('that', 'all')\n",
            "('all', 'of')\n",
            "('of', 'its')\n",
            "('its', 'elemets')\n",
            "('elemets', 'noy')\n",
            "('noy', 'fit')\n",
            "('fit', 'in')\n",
            "('in', 'memory')\n",
            "('memory', 'the')\n",
            "('the', 'drive')\n",
            "('drive', 'machine')\n"
          ],
          "name": "stdout"
        }
      ]
    },
    {
      "cell_type": "code",
      "metadata": {
        "id": "WWguTjEuOXL1",
        "colab_type": "code",
        "colab": {}
      },
      "source": [
        "two_gram_list= [item for item in two_gram_zip]"
      ],
      "execution_count": 35,
      "outputs": []
    },
    {
      "cell_type": "code",
      "metadata": {
        "id": "Sb7SzqV_OjOq",
        "colab_type": "code",
        "colab": {
          "base_uri": "https://localhost:8080/",
          "height": 54
        },
        "outputId": "851e1184-290e-4362-d8aa-87e766a57763"
      },
      "source": [
        "print(two_gram_list)"
      ],
      "execution_count": 36,
      "outputs": [
        {
          "output_type": "stream",
          "text": [
            "[('unending', 'love'), ('love', 'i'), ('i', 'seem'), ('seem', 'to'), ('to', 'have'), ('have', 'loved'), ('loved', 'you'), ('you', 'in'), ('in', 'numberless'), ('numberless', 'forms'), ('forms', 'numberless'), ('numberless', 'times'), ('times', 'in'), ('in', 'life'), ('life', 'after'), ('after', 'life'), ('life', 'in'), ('in', 'age'), ('age', 'after'), ('after', 'age'), ('age', 'forever'), ('forever', 'my'), ('my', 'spellbound'), ('spellbound', 'heart'), ('heart', 'has'), ('has', 'made'), ('made', 'and'), ('and', 'remade'), ('remade', 'the'), ('the', 'necklace'), ('necklace', 'of'), ('of', 'songs'), ('songs', 'that'), ('that', 'you'), ('you', 'take'), ('take', 'as'), ('as', 'a'), ('a', 'gift'), ('gift', 'wear'), ('wear', 'round'), ('round', 'your'), ('your', 'neck'), ('neck', 'in'), ('in', 'your'), ('your', 'many'), ('many', 'forms'), ('forms', 'in'), ('in', 'life'), ('life', 'after'), ('after', 'life'), ('life', 'in'), ('in', 'age'), ('age', 'after'), ('after', 'age'), ('age', 'forever'), ('forever', 'whenever'), ('whenever', 'i'), ('i', 'hear'), ('hear', 'old'), ('old', 'chronicles'), ('chronicles', 'of'), ('of', 'love'), ('love', 'its'), ('its', 'age-old'), ('age-old', 'pain'), ('pain', 'its'), ('its', 'ancient'), ('ancient', 'tale'), ('tale', 'of'), ('of', 'being'), ('being', 'apart'), ('apart', 'or'), ('or', 'together'), ('together', 'as'), ('as', 'i'), ('i', 'stare'), ('stare', 'on'), ('on', 'and'), ('and', 'on'), ('on', 'into'), ('into', 'the'), ('the', 'past'), ('past', 'in'), ('in', 'the'), ('the', 'end'), ('end', 'you'), ('you', 'emerge'), ('emerge', 'clad'), ('clad', 'in'), ('in', 'the'), ('the', 'light'), ('light', 'of'), ('of', 'a'), ('a', 'pole-star'), ('pole-star', 'piercing'), ('piercing', 'the'), ('the', 'darkness'), ('darkness', 'of'), ('of', 'time:'), ('time:', 'you'), ('you', 'become'), ('become', 'an'), ('an', 'image'), ('image', 'of'), ('of', 'what'), ('what', 'is'), ('is', 'remembered'), ('remembered', 'forever'), ('forever', 'you'), ('you', 'and'), ('and', 'i'), ('i', 'have'), ('have', 'floated'), ('floated', 'here'), ('here', 'on'), ('on', 'the'), ('the', 'stream'), ('stream', 'that'), ('that', 'brings'), ('brings', 'from'), ('from', 'the'), ('the', 'fount'), ('fount', 'at'), ('at', 'the'), ('the', 'heart'), ('heart', 'of'), ('of', 'time'), ('time', 'love'), ('love', 'of'), ('of', 'one'), ('one', 'for'), ('for', 'another'), ('another', 'we'), ('we', 'have'), ('have', 'played'), ('played', 'along'), ('along', 'side'), ('side', 'millions'), ('millions', 'of'), ('of', 'lovers'), ('lovers', 'shared'), ('shared', 'in'), ('in', 'the'), ('the', 'same'), ('same', 'shy'), ('shy', 'sweetness'), ('sweetness', 'of'), ('of', 'meeting'), ('meeting', 'the'), ('the', 'same'), ('same', 'distressful'), ('distressful', 'tears'), ('tears', 'of'), ('of', 'farewell-'), ('farewell-', 'old'), ('old', 'love'), ('love', 'but'), ('but', 'in'), ('in', 'shapes'), ('shapes', 'that'), ('that', 'renew'), ('renew', 'and'), ('and', 'renew'), ('renew', 'forever'), ('forever', 'today'), ('today', 'it'), ('it', 'is'), ('is', 'heaped'), ('heaped', 'at'), ('at', 'your'), ('your', 'feet'), ('feet', 'it'), ('it', 'has'), ('has', 'found'), ('found', 'its'), ('its', 'end'), ('end', 'in'), ('in', 'you'), ('you', 'the'), ('the', 'love'), ('love', 'of'), ('of', 'all'), ('all', 'man’s'), ('man’s', 'days'), ('days', 'both'), ('both', 'past'), ('past', 'and'), ('and', 'forever:'), ('forever:', 'universal'), ('universal', 'joy'), ('joy', 'universal'), ('universal', 'sorrow'), ('sorrow', 'universal'), ('universal', 'life'), ('life', 'the'), ('the', 'memories'), ('memories', 'of'), ('of', 'all'), ('all', 'loves'), ('loves', 'merging'), ('merging', 'with'), ('with', 'this'), ('this', 'one'), ('one', 'love'), ('love', 'of'), ('of', 'ours'), ('ours', '–'), ('–', 'and'), ('and', 'the'), ('the', 'songs'), ('songs', 'of'), ('of', 'every'), ('every', 'poet'), ('poet', 'past'), ('past', 'and'), ('and', 'forever'), ('forever', 'aws'), ('aws', 'ec2'), ('ec2', 'instance'), ('instance', 'supports'), ('supports', 'decimal'), ('decimal', 'values'), ('values', 'use'), ('use', 'the'), ('the', 'following'), ('following', 'monitor-instances'), ('monitor-instances', 'command'), ('command', 'to'), ('to', 'enable'), ('enable', 'detailed'), ('detailed', 'monitoring'), ('monitoring', 'for'), ('for', 'the'), ('the', 'specified'), ('specified', 'instances'), ('instances', 'aws'), ('aws', 'ec2'), ('ec2', 'monitor-instances'), ('monitor-instances', '--instance-ids'), ('--instance-ids', 'i-1234567890abcdef0'), ('i-1234567890abcdef0', 'aws'), ('aws', '10'), ('10', 'gb'), ('gb', 'file'), ('file', 'se'), ('se', 'bucket'), ('bucket', 'with'), ('with', 'chunk'), ('chunk', 'size'), ('size', 'update'), ('update', 'how'), ('how', 'to'), ('to', 'control'), ('control', 'the'), ('the', 'number'), ('number', 'of'), ('of', 'output'), ('output', 'part'), ('part', 'files'), ('files', 'created'), ('created', 'by'), ('by', 'spark'), ('spark', 'job'), ('job', 'upon'), ('upon', 'writing'), ('writing', 'which'), ('which', 'of'), ('of', 'the'), ('the', 'following'), ('following', 'is'), ('is', 'not'), ('not', 'correct'), ('correct', 'way'), ('way', 'to'), ('to', 'perform'), ('perform', 'concatenation'), ('concatenation', 'of'), ('of', 'two'), ('two', 'columns'), ('columns', 'of'), ('of', 'dataframe'), ('dataframe', 'for'), ('for', 'an'), ('an', '8'), ('8', 'core'), ('core', 'executor'), ('executor', 'with'), ('with', 'a'), ('a', '15'), ('15', 'second'), ('second', 'micro'), ('micro', 'batch'), ('batch', 'duration'), ('duration', 'for'), ('for', '100'), ('100', 'rules'), ('rules', 'if'), ('if', 'your'), ('your', 'rdd'), ('rdd', 'spark'), ('spark', 'is'), ('is', 'so'), ('so', 'large'), ('large', 'that'), ('that', 'all'), ('all', 'of'), ('of', 'its'), ('its', 'elemets'), ('elemets', 'noy'), ('noy', 'fit'), ('fit', 'in'), ('in', 'memory'), ('memory', 'the'), ('the', 'drive'), ('drive', 'machine')]\n"
          ],
          "name": "stdout"
        }
      ]
    },
    {
      "cell_type": "code",
      "metadata": {
        "id": "SFx5lvgMOlOj",
        "colab_type": "code",
        "colab": {}
      },
      "source": [
        "def iterable_counter(iter_obj):\n",
        "  count_dict = {}\n",
        "  for item in iter_obj:\n",
        "    if item in count_dict:\n",
        "      count_dict[item]  += 1\n",
        "    else:\n",
        "      count_dict[item] = 1\n",
        "  return count_dict"
      ],
      "execution_count": 39,
      "outputs": []
    },
    {
      "cell_type": "code",
      "metadata": {
        "id": "DnbDA4Myb5eY",
        "colab_type": "code",
        "colab": {
          "base_uri": "https://localhost:8080/",
          "height": 54
        },
        "outputId": "4b15acdc-5feb-4bef-f7a9-1ecb8053e974"
      },
      "source": [
        "two_grams_freq= iterable_counter(two_gram_list)\n",
        "print(two_grams_freq)"
      ],
      "execution_count": 41,
      "outputs": [
        {
          "output_type": "stream",
          "text": [
            "{('unending', 'love'): 1, ('love', 'i'): 1, ('i', 'seem'): 1, ('seem', 'to'): 1, ('to', 'have'): 1, ('have', 'loved'): 1, ('loved', 'you'): 1, ('you', 'in'): 1, ('in', 'numberless'): 1, ('numberless', 'forms'): 1, ('forms', 'numberless'): 1, ('numberless', 'times'): 1, ('times', 'in'): 1, ('in', 'life'): 2, ('life', 'after'): 2, ('after', 'life'): 2, ('life', 'in'): 2, ('in', 'age'): 2, ('age', 'after'): 2, ('after', 'age'): 2, ('age', 'forever'): 2, ('forever', 'my'): 1, ('my', 'spellbound'): 1, ('spellbound', 'heart'): 1, ('heart', 'has'): 1, ('has', 'made'): 1, ('made', 'and'): 1, ('and', 'remade'): 1, ('remade', 'the'): 1, ('the', 'necklace'): 1, ('necklace', 'of'): 1, ('of', 'songs'): 1, ('songs', 'that'): 1, ('that', 'you'): 1, ('you', 'take'): 1, ('take', 'as'): 1, ('as', 'a'): 1, ('a', 'gift'): 1, ('gift', 'wear'): 1, ('wear', 'round'): 1, ('round', 'your'): 1, ('your', 'neck'): 1, ('neck', 'in'): 1, ('in', 'your'): 1, ('your', 'many'): 1, ('many', 'forms'): 1, ('forms', 'in'): 1, ('forever', 'whenever'): 1, ('whenever', 'i'): 1, ('i', 'hear'): 1, ('hear', 'old'): 1, ('old', 'chronicles'): 1, ('chronicles', 'of'): 1, ('of', 'love'): 1, ('love', 'its'): 1, ('its', 'age-old'): 1, ('age-old', 'pain'): 1, ('pain', 'its'): 1, ('its', 'ancient'): 1, ('ancient', 'tale'): 1, ('tale', 'of'): 1, ('of', 'being'): 1, ('being', 'apart'): 1, ('apart', 'or'): 1, ('or', 'together'): 1, ('together', 'as'): 1, ('as', 'i'): 1, ('i', 'stare'): 1, ('stare', 'on'): 1, ('on', 'and'): 1, ('and', 'on'): 1, ('on', 'into'): 1, ('into', 'the'): 1, ('the', 'past'): 1, ('past', 'in'): 1, ('in', 'the'): 3, ('the', 'end'): 1, ('end', 'you'): 1, ('you', 'emerge'): 1, ('emerge', 'clad'): 1, ('clad', 'in'): 1, ('the', 'light'): 1, ('light', 'of'): 1, ('of', 'a'): 1, ('a', 'pole-star'): 1, ('pole-star', 'piercing'): 1, ('piercing', 'the'): 1, ('the', 'darkness'): 1, ('darkness', 'of'): 1, ('of', 'time:'): 1, ('time:', 'you'): 1, ('you', 'become'): 1, ('become', 'an'): 1, ('an', 'image'): 1, ('image', 'of'): 1, ('of', 'what'): 1, ('what', 'is'): 1, ('is', 'remembered'): 1, ('remembered', 'forever'): 1, ('forever', 'you'): 1, ('you', 'and'): 1, ('and', 'i'): 1, ('i', 'have'): 1, ('have', 'floated'): 1, ('floated', 'here'): 1, ('here', 'on'): 1, ('on', 'the'): 1, ('the', 'stream'): 1, ('stream', 'that'): 1, ('that', 'brings'): 1, ('brings', 'from'): 1, ('from', 'the'): 1, ('the', 'fount'): 1, ('fount', 'at'): 1, ('at', 'the'): 1, ('the', 'heart'): 1, ('heart', 'of'): 1, ('of', 'time'): 1, ('time', 'love'): 1, ('love', 'of'): 3, ('of', 'one'): 1, ('one', 'for'): 1, ('for', 'another'): 1, ('another', 'we'): 1, ('we', 'have'): 1, ('have', 'played'): 1, ('played', 'along'): 1, ('along', 'side'): 1, ('side', 'millions'): 1, ('millions', 'of'): 1, ('of', 'lovers'): 1, ('lovers', 'shared'): 1, ('shared', 'in'): 1, ('the', 'same'): 2, ('same', 'shy'): 1, ('shy', 'sweetness'): 1, ('sweetness', 'of'): 1, ('of', 'meeting'): 1, ('meeting', 'the'): 1, ('same', 'distressful'): 1, ('distressful', 'tears'): 1, ('tears', 'of'): 1, ('of', 'farewell-'): 1, ('farewell-', 'old'): 1, ('old', 'love'): 1, ('love', 'but'): 1, ('but', 'in'): 1, ('in', 'shapes'): 1, ('shapes', 'that'): 1, ('that', 'renew'): 1, ('renew', 'and'): 1, ('and', 'renew'): 1, ('renew', 'forever'): 1, ('forever', 'today'): 1, ('today', 'it'): 1, ('it', 'is'): 1, ('is', 'heaped'): 1, ('heaped', 'at'): 1, ('at', 'your'): 1, ('your', 'feet'): 1, ('feet', 'it'): 1, ('it', 'has'): 1, ('has', 'found'): 1, ('found', 'its'): 1, ('its', 'end'): 1, ('end', 'in'): 1, ('in', 'you'): 1, ('you', 'the'): 1, ('the', 'love'): 1, ('of', 'all'): 2, ('all', 'man’s'): 1, ('man’s', 'days'): 1, ('days', 'both'): 1, ('both', 'past'): 1, ('past', 'and'): 2, ('and', 'forever:'): 1, ('forever:', 'universal'): 1, ('universal', 'joy'): 1, ('joy', 'universal'): 1, ('universal', 'sorrow'): 1, ('sorrow', 'universal'): 1, ('universal', 'life'): 1, ('life', 'the'): 1, ('the', 'memories'): 1, ('memories', 'of'): 1, ('all', 'loves'): 1, ('loves', 'merging'): 1, ('merging', 'with'): 1, ('with', 'this'): 1, ('this', 'one'): 1, ('one', 'love'): 1, ('of', 'ours'): 1, ('ours', '–'): 1, ('–', 'and'): 1, ('and', 'the'): 1, ('the', 'songs'): 1, ('songs', 'of'): 1, ('of', 'every'): 1, ('every', 'poet'): 1, ('poet', 'past'): 1, ('and', 'forever'): 1, ('forever', 'aws'): 1, ('aws', 'ec2'): 2, ('ec2', 'instance'): 1, ('instance', 'supports'): 1, ('supports', 'decimal'): 1, ('decimal', 'values'): 1, ('values', 'use'): 1, ('use', 'the'): 1, ('the', 'following'): 2, ('following', 'monitor-instances'): 1, ('monitor-instances', 'command'): 1, ('command', 'to'): 1, ('to', 'enable'): 1, ('enable', 'detailed'): 1, ('detailed', 'monitoring'): 1, ('monitoring', 'for'): 1, ('for', 'the'): 1, ('the', 'specified'): 1, ('specified', 'instances'): 1, ('instances', 'aws'): 1, ('ec2', 'monitor-instances'): 1, ('monitor-instances', '--instance-ids'): 1, ('--instance-ids', 'i-1234567890abcdef0'): 1, ('i-1234567890abcdef0', 'aws'): 1, ('aws', '10'): 1, ('10', 'gb'): 1, ('gb', 'file'): 1, ('file', 'se'): 1, ('se', 'bucket'): 1, ('bucket', 'with'): 1, ('with', 'chunk'): 1, ('chunk', 'size'): 1, ('size', 'update'): 1, ('update', 'how'): 1, ('how', 'to'): 1, ('to', 'control'): 1, ('control', 'the'): 1, ('the', 'number'): 1, ('number', 'of'): 1, ('of', 'output'): 1, ('output', 'part'): 1, ('part', 'files'): 1, ('files', 'created'): 1, ('created', 'by'): 1, ('by', 'spark'): 1, ('spark', 'job'): 1, ('job', 'upon'): 1, ('upon', 'writing'): 1, ('writing', 'which'): 1, ('which', 'of'): 1, ('of', 'the'): 1, ('following', 'is'): 1, ('is', 'not'): 1, ('not', 'correct'): 1, ('correct', 'way'): 1, ('way', 'to'): 1, ('to', 'perform'): 1, ('perform', 'concatenation'): 1, ('concatenation', 'of'): 1, ('of', 'two'): 1, ('two', 'columns'): 1, ('columns', 'of'): 1, ('of', 'dataframe'): 1, ('dataframe', 'for'): 1, ('for', 'an'): 1, ('an', '8'): 1, ('8', 'core'): 1, ('core', 'executor'): 1, ('executor', 'with'): 1, ('with', 'a'): 1, ('a', '15'): 1, ('15', 'second'): 1, ('second', 'micro'): 1, ('micro', 'batch'): 1, ('batch', 'duration'): 1, ('duration', 'for'): 1, ('for', '100'): 1, ('100', 'rules'): 1, ('rules', 'if'): 1, ('if', 'your'): 1, ('your', 'rdd'): 1, ('rdd', 'spark'): 1, ('spark', 'is'): 1, ('is', 'so'): 1, ('so', 'large'): 1, ('large', 'that'): 1, ('that', 'all'): 1, ('all', 'of'): 1, ('of', 'its'): 1, ('its', 'elemets'): 1, ('elemets', 'noy'): 1, ('noy', 'fit'): 1, ('fit', 'in'): 1, ('in', 'memory'): 1, ('memory', 'the'): 1, ('the', 'drive'): 1, ('drive', 'machine'): 1}\n"
          ],
          "name": "stdout"
        }
      ]
    },
    {
      "cell_type": "code",
      "metadata": {
        "id": "RX04mpdogIlq",
        "colab_type": "code",
        "colab": {}
      },
      "source": [
        "sorted_list_two_grams=sorted(two_grams_freq.items(),key=lambda item : item[1])"
      ],
      "execution_count": 42,
      "outputs": []
    },
    {
      "cell_type": "code",
      "metadata": {
        "id": "gsVkfyRcr_tg",
        "colab_type": "code",
        "colab": {
          "base_uri": "https://localhost:8080/",
          "height": 54
        },
        "outputId": "bb826951-c8de-4cfd-e4ee-0e52f0f09b0c"
      },
      "source": [
        "print(sorted_list_two_grams)"
      ],
      "execution_count": 43,
      "outputs": [
        {
          "output_type": "stream",
          "text": [
            "[(('unending', 'love'), 1), (('love', 'i'), 1), (('i', 'seem'), 1), (('seem', 'to'), 1), (('to', 'have'), 1), (('have', 'loved'), 1), (('loved', 'you'), 1), (('you', 'in'), 1), (('in', 'numberless'), 1), (('numberless', 'forms'), 1), (('forms', 'numberless'), 1), (('numberless', 'times'), 1), (('times', 'in'), 1), (('forever', 'my'), 1), (('my', 'spellbound'), 1), (('spellbound', 'heart'), 1), (('heart', 'has'), 1), (('has', 'made'), 1), (('made', 'and'), 1), (('and', 'remade'), 1), (('remade', 'the'), 1), (('the', 'necklace'), 1), (('necklace', 'of'), 1), (('of', 'songs'), 1), (('songs', 'that'), 1), (('that', 'you'), 1), (('you', 'take'), 1), (('take', 'as'), 1), (('as', 'a'), 1), (('a', 'gift'), 1), (('gift', 'wear'), 1), (('wear', 'round'), 1), (('round', 'your'), 1), (('your', 'neck'), 1), (('neck', 'in'), 1), (('in', 'your'), 1), (('your', 'many'), 1), (('many', 'forms'), 1), (('forms', 'in'), 1), (('forever', 'whenever'), 1), (('whenever', 'i'), 1), (('i', 'hear'), 1), (('hear', 'old'), 1), (('old', 'chronicles'), 1), (('chronicles', 'of'), 1), (('of', 'love'), 1), (('love', 'its'), 1), (('its', 'age-old'), 1), (('age-old', 'pain'), 1), (('pain', 'its'), 1), (('its', 'ancient'), 1), (('ancient', 'tale'), 1), (('tale', 'of'), 1), (('of', 'being'), 1), (('being', 'apart'), 1), (('apart', 'or'), 1), (('or', 'together'), 1), (('together', 'as'), 1), (('as', 'i'), 1), (('i', 'stare'), 1), (('stare', 'on'), 1), (('on', 'and'), 1), (('and', 'on'), 1), (('on', 'into'), 1), (('into', 'the'), 1), (('the', 'past'), 1), (('past', 'in'), 1), (('the', 'end'), 1), (('end', 'you'), 1), (('you', 'emerge'), 1), (('emerge', 'clad'), 1), (('clad', 'in'), 1), (('the', 'light'), 1), (('light', 'of'), 1), (('of', 'a'), 1), (('a', 'pole-star'), 1), (('pole-star', 'piercing'), 1), (('piercing', 'the'), 1), (('the', 'darkness'), 1), (('darkness', 'of'), 1), (('of', 'time:'), 1), (('time:', 'you'), 1), (('you', 'become'), 1), (('become', 'an'), 1), (('an', 'image'), 1), (('image', 'of'), 1), (('of', 'what'), 1), (('what', 'is'), 1), (('is', 'remembered'), 1), (('remembered', 'forever'), 1), (('forever', 'you'), 1), (('you', 'and'), 1), (('and', 'i'), 1), (('i', 'have'), 1), (('have', 'floated'), 1), (('floated', 'here'), 1), (('here', 'on'), 1), (('on', 'the'), 1), (('the', 'stream'), 1), (('stream', 'that'), 1), (('that', 'brings'), 1), (('brings', 'from'), 1), (('from', 'the'), 1), (('the', 'fount'), 1), (('fount', 'at'), 1), (('at', 'the'), 1), (('the', 'heart'), 1), (('heart', 'of'), 1), (('of', 'time'), 1), (('time', 'love'), 1), (('of', 'one'), 1), (('one', 'for'), 1), (('for', 'another'), 1), (('another', 'we'), 1), (('we', 'have'), 1), (('have', 'played'), 1), (('played', 'along'), 1), (('along', 'side'), 1), (('side', 'millions'), 1), (('millions', 'of'), 1), (('of', 'lovers'), 1), (('lovers', 'shared'), 1), (('shared', 'in'), 1), (('same', 'shy'), 1), (('shy', 'sweetness'), 1), (('sweetness', 'of'), 1), (('of', 'meeting'), 1), (('meeting', 'the'), 1), (('same', 'distressful'), 1), (('distressful', 'tears'), 1), (('tears', 'of'), 1), (('of', 'farewell-'), 1), (('farewell-', 'old'), 1), (('old', 'love'), 1), (('love', 'but'), 1), (('but', 'in'), 1), (('in', 'shapes'), 1), (('shapes', 'that'), 1), (('that', 'renew'), 1), (('renew', 'and'), 1), (('and', 'renew'), 1), (('renew', 'forever'), 1), (('forever', 'today'), 1), (('today', 'it'), 1), (('it', 'is'), 1), (('is', 'heaped'), 1), (('heaped', 'at'), 1), (('at', 'your'), 1), (('your', 'feet'), 1), (('feet', 'it'), 1), (('it', 'has'), 1), (('has', 'found'), 1), (('found', 'its'), 1), (('its', 'end'), 1), (('end', 'in'), 1), (('in', 'you'), 1), (('you', 'the'), 1), (('the', 'love'), 1), (('all', 'man’s'), 1), (('man’s', 'days'), 1), (('days', 'both'), 1), (('both', 'past'), 1), (('and', 'forever:'), 1), (('forever:', 'universal'), 1), (('universal', 'joy'), 1), (('joy', 'universal'), 1), (('universal', 'sorrow'), 1), (('sorrow', 'universal'), 1), (('universal', 'life'), 1), (('life', 'the'), 1), (('the', 'memories'), 1), (('memories', 'of'), 1), (('all', 'loves'), 1), (('loves', 'merging'), 1), (('merging', 'with'), 1), (('with', 'this'), 1), (('this', 'one'), 1), (('one', 'love'), 1), (('of', 'ours'), 1), (('ours', '–'), 1), (('–', 'and'), 1), (('and', 'the'), 1), (('the', 'songs'), 1), (('songs', 'of'), 1), (('of', 'every'), 1), (('every', 'poet'), 1), (('poet', 'past'), 1), (('and', 'forever'), 1), (('forever', 'aws'), 1), (('ec2', 'instance'), 1), (('instance', 'supports'), 1), (('supports', 'decimal'), 1), (('decimal', 'values'), 1), (('values', 'use'), 1), (('use', 'the'), 1), (('following', 'monitor-instances'), 1), (('monitor-instances', 'command'), 1), (('command', 'to'), 1), (('to', 'enable'), 1), (('enable', 'detailed'), 1), (('detailed', 'monitoring'), 1), (('monitoring', 'for'), 1), (('for', 'the'), 1), (('the', 'specified'), 1), (('specified', 'instances'), 1), (('instances', 'aws'), 1), (('ec2', 'monitor-instances'), 1), (('monitor-instances', '--instance-ids'), 1), (('--instance-ids', 'i-1234567890abcdef0'), 1), (('i-1234567890abcdef0', 'aws'), 1), (('aws', '10'), 1), (('10', 'gb'), 1), (('gb', 'file'), 1), (('file', 'se'), 1), (('se', 'bucket'), 1), (('bucket', 'with'), 1), (('with', 'chunk'), 1), (('chunk', 'size'), 1), (('size', 'update'), 1), (('update', 'how'), 1), (('how', 'to'), 1), (('to', 'control'), 1), (('control', 'the'), 1), (('the', 'number'), 1), (('number', 'of'), 1), (('of', 'output'), 1), (('output', 'part'), 1), (('part', 'files'), 1), (('files', 'created'), 1), (('created', 'by'), 1), (('by', 'spark'), 1), (('spark', 'job'), 1), (('job', 'upon'), 1), (('upon', 'writing'), 1), (('writing', 'which'), 1), (('which', 'of'), 1), (('of', 'the'), 1), (('following', 'is'), 1), (('is', 'not'), 1), (('not', 'correct'), 1), (('correct', 'way'), 1), (('way', 'to'), 1), (('to', 'perform'), 1), (('perform', 'concatenation'), 1), (('concatenation', 'of'), 1), (('of', 'two'), 1), (('two', 'columns'), 1), (('columns', 'of'), 1), (('of', 'dataframe'), 1), (('dataframe', 'for'), 1), (('for', 'an'), 1), (('an', '8'), 1), (('8', 'core'), 1), (('core', 'executor'), 1), (('executor', 'with'), 1), (('with', 'a'), 1), (('a', '15'), 1), (('15', 'second'), 1), (('second', 'micro'), 1), (('micro', 'batch'), 1), (('batch', 'duration'), 1), (('duration', 'for'), 1), (('for', '100'), 1), (('100', 'rules'), 1), (('rules', 'if'), 1), (('if', 'your'), 1), (('your', 'rdd'), 1), (('rdd', 'spark'), 1), (('spark', 'is'), 1), (('is', 'so'), 1), (('so', 'large'), 1), (('large', 'that'), 1), (('that', 'all'), 1), (('all', 'of'), 1), (('of', 'its'), 1), (('its', 'elemets'), 1), (('elemets', 'noy'), 1), (('noy', 'fit'), 1), (('fit', 'in'), 1), (('in', 'memory'), 1), (('memory', 'the'), 1), (('the', 'drive'), 1), (('drive', 'machine'), 1), (('in', 'life'), 2), (('life', 'after'), 2), (('after', 'life'), 2), (('life', 'in'), 2), (('in', 'age'), 2), (('age', 'after'), 2), (('after', 'age'), 2), (('age', 'forever'), 2), (('the', 'same'), 2), (('of', 'all'), 2), (('past', 'and'), 2), (('aws', 'ec2'), 2), (('the', 'following'), 2), (('in', 'the'), 3), (('love', 'of'), 3)]\n"
          ],
          "name": "stdout"
        }
      ]
    },
    {
      "cell_type": "code",
      "metadata": {
        "id": "Uw3Zzpd-hNvt",
        "colab_type": "code",
        "colab": {
          "base_uri": "https://localhost:8080/",
          "height": 102
        },
        "outputId": "8eb46cc6-bdac-4b6d-a66b-8f5ec3858520"
      },
      "source": [
        "sorted_list_two_grams[-5:]"
      ],
      "execution_count": 44,
      "outputs": [
        {
          "output_type": "execute_result",
          "data": {
            "text/plain": [
              "[(('past', 'and'), 2),\n",
              " (('aws', 'ec2'), 2),\n",
              " (('the', 'following'), 2),\n",
              " (('in', 'the'), 3),\n",
              " (('love', 'of'), 3)]"
            ]
          },
          "metadata": {
            "tags": []
          },
          "execution_count": 44
        }
      ]
    },
    {
      "cell_type": "code",
      "metadata": {
        "id": "JxMLTwsMhZGj",
        "colab_type": "code",
        "colab": {}
      },
      "source": [
        "with open(\"common_two_grams.txt\",\"w\") as f_out:\n",
        "  for item in sorted_list_two_grams[-5:]:\n",
        "    #print(item[0][0]  + \" \" + item[0][1] + \"\\n\")\n",
        "    f_out.write(item[0][0]  + \" \" + item[0][1] + \"\\n\")"
      ],
      "execution_count": 48,
      "outputs": []
    },
    {
      "cell_type": "code",
      "metadata": {
        "id": "EcnlfpwKivSH",
        "colab_type": "code",
        "colab": {
          "base_uri": "https://localhost:8080/",
          "height": 34
        },
        "outputId": "080fea6e-5014-4fe5-f719-1bbeac7b51c9"
      },
      "source": [
        "k = (8,9,0)\n",
        "print(k.index(9))"
      ],
      "execution_count": 49,
      "outputs": [
        {
          "output_type": "stream",
          "text": [
            "1\n"
          ],
          "name": "stdout"
        }
      ]
    },
    {
      "cell_type": "code",
      "metadata": {
        "id": "Ko9NBjjDjejR",
        "colab_type": "code",
        "colab": {
          "base_uri": "https://localhost:8080/",
          "height": 34
        },
        "outputId": "03c1ac1b-3087-4315-92bb-59f4d3b59126"
      },
      "source": [
        "d = {1:\"one\",2:\"two\",3:\"three\",4:\"four\",5:\"five\"}\n",
        "d[1] += \"-hundred\"\n",
        "print(d[1])"
      ],
      "execution_count": 50,
      "outputs": [
        {
          "output_type": "stream",
          "text": [
            "one-hundred\n"
          ],
          "name": "stdout"
        }
      ]
    },
    {
      "cell_type": "code",
      "metadata": {
        "id": "N9bY6mRxjnAr",
        "colab_type": "code",
        "colab": {
          "base_uri": "https://localhost:8080/",
          "height": 180
        },
        "outputId": "69b51136-9279-4281-b459-becc86d70a92"
      },
      "source": [
        "s = set(1,2,3)\n",
        "print(s)"
      ],
      "execution_count": 51,
      "outputs": [
        {
          "output_type": "error",
          "ename": "TypeError",
          "evalue": "ignored",
          "traceback": [
            "\u001b[0;31m---------------------------------------------------------------------------\u001b[0m",
            "\u001b[0;31mTypeError\u001b[0m                                 Traceback (most recent call last)",
            "\u001b[0;32m<ipython-input-51-8384dfe25200>\u001b[0m in \u001b[0;36m<module>\u001b[0;34m()\u001b[0m\n\u001b[0;32m----> 1\u001b[0;31m \u001b[0ms\u001b[0m \u001b[0;34m=\u001b[0m \u001b[0mset\u001b[0m\u001b[0;34m(\u001b[0m\u001b[0;36m1\u001b[0m\u001b[0;34m,\u001b[0m\u001b[0;36m2\u001b[0m\u001b[0;34m,\u001b[0m\u001b[0;36m3\u001b[0m\u001b[0;34m)\u001b[0m\u001b[0;34m\u001b[0m\u001b[0;34m\u001b[0m\u001b[0m\n\u001b[0m\u001b[1;32m      2\u001b[0m \u001b[0mprint\u001b[0m\u001b[0;34m(\u001b[0m\u001b[0ms\u001b[0m\u001b[0;34m)\u001b[0m\u001b[0;34m\u001b[0m\u001b[0;34m\u001b[0m\u001b[0m\n",
            "\u001b[0;31mTypeError\u001b[0m: set expected at most 1 arguments, got 3"
          ]
        }
      ]
    },
    {
      "cell_type": "code",
      "metadata": {
        "id": "7XYoxr5hjuT8",
        "colab_type": "code",
        "colab": {
          "base_uri": "https://localhost:8080/",
          "height": 34
        },
        "outputId": "50db96b8-0bcc-4802-b4a6-8d1c3e2077cf"
      },
      "source": [
        "m =[ [1,2,3,4,5,6,7,8,9,10],\n",
        "     [11,12,13,14,15,16,17,18,19,20] ]\n",
        "print(m[1][1:8:2])"
      ],
      "execution_count": 52,
      "outputs": [
        {
          "output_type": "stream",
          "text": [
            "[12, 14, 16, 18]\n"
          ],
          "name": "stdout"
        }
      ]
    },
    {
      "cell_type": "code",
      "metadata": {
        "id": "1goFqVq9kkfg",
        "colab_type": "code",
        "colab": {
          "base_uri": "https://localhost:8080/",
          "height": 34
        },
        "outputId": "42793570-e3f8-40d6-c3ea-f05ab36681fd"
      },
      "source": [
        "d = [\n",
        "     [1,2,3],\n",
        "     [4,5,6]\n",
        "]\n",
        "print(d[1])\n"
      ],
      "execution_count": 53,
      "outputs": [
        {
          "output_type": "stream",
          "text": [
            "[4, 5, 6]\n"
          ],
          "name": "stdout"
        }
      ]
    },
    {
      "cell_type": "code",
      "metadata": {
        "id": "X-kaKuInkqzN",
        "colab_type": "code",
        "colab": {
          "base_uri": "https://localhost:8080/",
          "height": 34
        },
        "outputId": "8107ebdd-c097-49fe-f935-4a036cc89f93"
      },
      "source": [
        "a =  None\n",
        "if a:\n",
        "    print(\"Orange\") \n",
        "else:\n",
        "    if a == False:\n",
        "        print(\"Apple\")\n",
        "    else:\n",
        "        print(\"Pineapple\")"
      ],
      "execution_count": 54,
      "outputs": [
        {
          "output_type": "stream",
          "text": [
            "Pineapple\n"
          ],
          "name": "stdout"
        }
      ]
    },
    {
      "cell_type": "code",
      "metadata": {
        "id": "XOo4XFUokz8r",
        "colab_type": "code",
        "colab": {
          "base_uri": "https://localhost:8080/",
          "height": 34
        },
        "outputId": "1c96e4ca-cb92-4b99-f6c4-99507d7ad46e"
      },
      "source": [
        "a = \"amoeba\"\n",
        "try:\n",
        "    print(a+1)\n",
        "except:\n",
        "    print(\"Something went wrong\")"
      ],
      "execution_count": 55,
      "outputs": [
        {
          "output_type": "stream",
          "text": [
            "Something went wrong\n"
          ],
          "name": "stdout"
        }
      ]
    },
    {
      "cell_type": "code",
      "metadata": {
        "id": "cWathJHclIv2",
        "colab_type": "code",
        "colab": {
          "base_uri": "https://localhost:8080/",
          "height": 34
        },
        "outputId": "8d90cc4e-0477-4533-b9b5-64e31b5985c6"
      },
      "source": [
        "b = (1,2,3) + (2,2,2)\n",
        "print(b)"
      ],
      "execution_count": 56,
      "outputs": [
        {
          "output_type": "stream",
          "text": [
            "(1, 2, 3, 2, 2, 2)\n"
          ],
          "name": "stdout"
        }
      ]
    },
    {
      "cell_type": "code",
      "metadata": {
        "id": "GmnJ7UYXlVPG",
        "colab_type": "code",
        "colab": {
          "base_uri": "https://localhost:8080/",
          "height": 180
        },
        "outputId": "09d98cbb-5250-496c-c704-2d6bcab9fcbe"
      },
      "source": [
        "s = {1,2}+{1,3}\n",
        "print(s)"
      ],
      "execution_count": 57,
      "outputs": [
        {
          "output_type": "error",
          "ename": "TypeError",
          "evalue": "ignored",
          "traceback": [
            "\u001b[0;31m---------------------------------------------------------------------------\u001b[0m",
            "\u001b[0;31mTypeError\u001b[0m                                 Traceback (most recent call last)",
            "\u001b[0;32m<ipython-input-57-06adaac8393d>\u001b[0m in \u001b[0;36m<module>\u001b[0;34m()\u001b[0m\n\u001b[0;32m----> 1\u001b[0;31m \u001b[0ms\u001b[0m \u001b[0;34m=\u001b[0m \u001b[0;34m{\u001b[0m\u001b[0;36m1\u001b[0m\u001b[0;34m,\u001b[0m\u001b[0;36m2\u001b[0m\u001b[0;34m}\u001b[0m\u001b[0;34m+\u001b[0m\u001b[0;34m{\u001b[0m\u001b[0;36m1\u001b[0m\u001b[0;34m,\u001b[0m\u001b[0;36m3\u001b[0m\u001b[0;34m}\u001b[0m\u001b[0;34m\u001b[0m\u001b[0;34m\u001b[0m\u001b[0m\n\u001b[0m\u001b[1;32m      2\u001b[0m \u001b[0mprint\u001b[0m\u001b[0;34m(\u001b[0m\u001b[0ms\u001b[0m\u001b[0;34m)\u001b[0m\u001b[0;34m\u001b[0m\u001b[0;34m\u001b[0m\u001b[0m\n",
            "\u001b[0;31mTypeError\u001b[0m: unsupported operand type(s) for +: 'set' and 'set'"
          ]
        }
      ]
    },
    {
      "cell_type": "code",
      "metadata": {
        "id": "_HFgV44yliDR",
        "colab_type": "code",
        "colab": {
          "base_uri": "https://localhost:8080/",
          "height": 34
        },
        "outputId": "3541845d-56dd-4f04-a70d-df3ab63834ca"
      },
      "source": [
        "v = (1,2,3)\n",
        "u = list(v)\n",
        "print(u)"
      ],
      "execution_count": 58,
      "outputs": [
        {
          "output_type": "stream",
          "text": [
            "[1, 2, 3]\n"
          ],
          "name": "stdout"
        }
      ]
    },
    {
      "cell_type": "code",
      "metadata": {
        "id": "pCD2z1SEl3DU",
        "colab_type": "code",
        "colab": {
          "base_uri": "https://localhost:8080/",
          "height": 34
        },
        "outputId": "568299a6-fda1-48fc-b616-c3d629c9c0cd"
      },
      "source": [
        "print(type(u))"
      ],
      "execution_count": 59,
      "outputs": [
        {
          "output_type": "stream",
          "text": [
            "<class 'list'>\n"
          ],
          "name": "stdout"
        }
      ]
    },
    {
      "cell_type": "code",
      "metadata": {
        "id": "XqinhbR0l73m",
        "colab_type": "code",
        "colab": {
          "base_uri": "https://localhost:8080/",
          "height": 180
        },
        "outputId": "e462f209-2f39-4115-b52e-3504626fd966"
      },
      "source": [
        "s = set(1,2,3)\n",
        "print(s)\n"
      ],
      "execution_count": 60,
      "outputs": [
        {
          "output_type": "error",
          "ename": "TypeError",
          "evalue": "ignored",
          "traceback": [
            "\u001b[0;31m---------------------------------------------------------------------------\u001b[0m",
            "\u001b[0;31mTypeError\u001b[0m                                 Traceback (most recent call last)",
            "\u001b[0;32m<ipython-input-60-8384dfe25200>\u001b[0m in \u001b[0;36m<module>\u001b[0;34m()\u001b[0m\n\u001b[0;32m----> 1\u001b[0;31m \u001b[0ms\u001b[0m \u001b[0;34m=\u001b[0m \u001b[0mset\u001b[0m\u001b[0;34m(\u001b[0m\u001b[0;36m1\u001b[0m\u001b[0;34m,\u001b[0m\u001b[0;36m2\u001b[0m\u001b[0;34m,\u001b[0m\u001b[0;36m3\u001b[0m\u001b[0;34m)\u001b[0m\u001b[0;34m\u001b[0m\u001b[0;34m\u001b[0m\u001b[0m\n\u001b[0m\u001b[1;32m      2\u001b[0m \u001b[0mprint\u001b[0m\u001b[0;34m(\u001b[0m\u001b[0ms\u001b[0m\u001b[0;34m)\u001b[0m\u001b[0;34m\u001b[0m\u001b[0;34m\u001b[0m\u001b[0m\n",
            "\u001b[0;31mTypeError\u001b[0m: set expected at most 1 arguments, got 3"
          ]
        }
      ]
    },
    {
      "cell_type": "code",
      "metadata": {
        "id": "bjND0kXVmCR-",
        "colab_type": "code",
        "colab": {
          "base_uri": "https://localhost:8080/",
          "height": 34
        },
        "outputId": "1ac194f8-a16f-47fc-e9d0-d251e7b1d073"
      },
      "source": [
        "a = {1,2,3}\n",
        "b = {'1','2','3'}\n",
        "print(a.intersection(b))"
      ],
      "execution_count": 61,
      "outputs": [
        {
          "output_type": "stream",
          "text": [
            "set()\n"
          ],
          "name": "stdout"
        }
      ]
    },
    {
      "cell_type": "code",
      "metadata": {
        "id": "PkvUvBXDmLt3",
        "colab_type": "code",
        "colab": {}
      },
      "source": [
        ""
      ],
      "execution_count": null,
      "outputs": []
    },
    {
      "cell_type": "code",
      "metadata": {
        "id": "hOPOUjPHiL8k",
        "colab_type": "code",
        "colab": {}
      },
      "source": [
        ""
      ],
      "execution_count": null,
      "outputs": []
    },
    {
      "cell_type": "code",
      "metadata": {
        "id": "iD-EI9dwr73J",
        "colab_type": "code",
        "colab": {}
      },
      "source": [
        ""
      ],
      "execution_count": 28,
      "outputs": []
    }
  ]
}