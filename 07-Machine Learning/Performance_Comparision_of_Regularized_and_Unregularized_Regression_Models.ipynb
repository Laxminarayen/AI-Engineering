{
  "nbformat": 4,
  "nbformat_minor": 0,
  "metadata": {
    "colab": {
      "name": "Performance Comparision of Regularized and Unregularized Regression Models.ipynb",
      "provenance": [],
      "collapsed_sections": [],
      "authorship_tag": "ABX9TyMEMpkGm7MSPtQakpyvzazL",
      "include_colab_link": true
    },
    "kernelspec": {
      "name": "python3",
      "display_name": "Python 3"
    },
    "language_info": {
      "name": "python"
    }
  },
  "cells": [
    {
      "cell_type": "markdown",
      "metadata": {
        "id": "view-in-github",
        "colab_type": "text"
      },
      "source": [
        "<a href=\"https://colab.research.google.com/github/plthiyagu/AI-Engineering/blob/master/07-Machine%20Learning/Performance_Comparision_of_Regularized_and_Unregularized_Regression_Models.ipynb\" target=\"_parent\"><img src=\"https://colab.research.google.com/assets/colab-badge.svg\" alt=\"Open In Colab\"/></a>"
      ]
    },
    {
      "cell_type": "code",
      "metadata": {
        "id": "-TH9fZBbJBUH"
      },
      "source": [
        "import numpy as np\n",
        "import pandas as pd\n",
        "import matplotlib as plt\n",
        "from sklearn.model_selection import train_test_split\n",
        "from sklearn.linear_model import LinearRegression\n",
        "from sklearn import metrics\n",
        "import warnings\n",
        "warnings.filterwarnings('ignore')"
      ],
      "execution_count": 2,
      "outputs": []
    },
    {
      "cell_type": "code",
      "metadata": {
        "id": "DY23aqYKldCg"
      },
      "source": [
        "df=pd.read_csv('https://raw.githubusercontent.com/plthiyagu/Personnel/master/Dataset/Fish.csv')"
      ],
      "execution_count": 5,
      "outputs": []
    },
    {
      "cell_type": "code",
      "metadata": {
        "colab": {
          "base_uri": "https://localhost:8080/",
          "height": 204
        },
        "id": "QKB1JluSlt3a",
        "outputId": "bb32580b-0b2c-45f5-cb84-26821750c5fb"
      },
      "source": [
        "df.head()"
      ],
      "execution_count": 6,
      "outputs": [
        {
          "output_type": "execute_result",
          "data": {
            "text/html": [
              "<div>\n",
              "<style scoped>\n",
              "    .dataframe tbody tr th:only-of-type {\n",
              "        vertical-align: middle;\n",
              "    }\n",
              "\n",
              "    .dataframe tbody tr th {\n",
              "        vertical-align: top;\n",
              "    }\n",
              "\n",
              "    .dataframe thead th {\n",
              "        text-align: right;\n",
              "    }\n",
              "</style>\n",
              "<table border=\"1\" class=\"dataframe\">\n",
              "  <thead>\n",
              "    <tr style=\"text-align: right;\">\n",
              "      <th></th>\n",
              "      <th>Species</th>\n",
              "      <th>Weight</th>\n",
              "      <th>Length1</th>\n",
              "      <th>Length2</th>\n",
              "      <th>Length3</th>\n",
              "      <th>Height</th>\n",
              "      <th>Width</th>\n",
              "    </tr>\n",
              "  </thead>\n",
              "  <tbody>\n",
              "    <tr>\n",
              "      <th>0</th>\n",
              "      <td>Bream</td>\n",
              "      <td>242.0</td>\n",
              "      <td>23.2</td>\n",
              "      <td>25.4</td>\n",
              "      <td>30.0</td>\n",
              "      <td>11.5200</td>\n",
              "      <td>4.0200</td>\n",
              "    </tr>\n",
              "    <tr>\n",
              "      <th>1</th>\n",
              "      <td>Bream</td>\n",
              "      <td>290.0</td>\n",
              "      <td>24.0</td>\n",
              "      <td>26.3</td>\n",
              "      <td>31.2</td>\n",
              "      <td>12.4800</td>\n",
              "      <td>4.3056</td>\n",
              "    </tr>\n",
              "    <tr>\n",
              "      <th>2</th>\n",
              "      <td>Bream</td>\n",
              "      <td>340.0</td>\n",
              "      <td>23.9</td>\n",
              "      <td>26.5</td>\n",
              "      <td>31.1</td>\n",
              "      <td>12.3778</td>\n",
              "      <td>4.6961</td>\n",
              "    </tr>\n",
              "    <tr>\n",
              "      <th>3</th>\n",
              "      <td>Bream</td>\n",
              "      <td>363.0</td>\n",
              "      <td>26.3</td>\n",
              "      <td>29.0</td>\n",
              "      <td>33.5</td>\n",
              "      <td>12.7300</td>\n",
              "      <td>4.4555</td>\n",
              "    </tr>\n",
              "    <tr>\n",
              "      <th>4</th>\n",
              "      <td>Bream</td>\n",
              "      <td>430.0</td>\n",
              "      <td>26.5</td>\n",
              "      <td>29.0</td>\n",
              "      <td>34.0</td>\n",
              "      <td>12.4440</td>\n",
              "      <td>5.1340</td>\n",
              "    </tr>\n",
              "  </tbody>\n",
              "</table>\n",
              "</div>"
            ],
            "text/plain": [
              "  Species  Weight  Length1  Length2  Length3   Height   Width\n",
              "0   Bream   242.0     23.2     25.4     30.0  11.5200  4.0200\n",
              "1   Bream   290.0     24.0     26.3     31.2  12.4800  4.3056\n",
              "2   Bream   340.0     23.9     26.5     31.1  12.3778  4.6961\n",
              "3   Bream   363.0     26.3     29.0     33.5  12.7300  4.4555\n",
              "4   Bream   430.0     26.5     29.0     34.0  12.4440  5.1340"
            ]
          },
          "metadata": {
            "tags": []
          },
          "execution_count": 6
        }
      ]
    },
    {
      "cell_type": "code",
      "metadata": {
        "id": "dNqcOcFJlu2z"
      },
      "source": [
        "x = df.drop('Weight', axis = 1)\n",
        "y = df['Weight']\n",
        "y = y.values.reshape(-1,1)"
      ],
      "execution_count": 7,
      "outputs": []
    },
    {
      "cell_type": "code",
      "metadata": {
        "id": "D09DzBjDl0mX"
      },
      "source": [
        "x = pd.get_dummies(x, drop_first = True)"
      ],
      "execution_count": 9,
      "outputs": []
    },
    {
      "cell_type": "code",
      "metadata": {
        "id": "SUSe7yCImG0O"
      },
      "source": [
        "x_train, x_test, y_train, y_test = train_test_split(x, y, test_size = 0.3, random_state = 66)"
      ],
      "execution_count": 10,
      "outputs": []
    },
    {
      "cell_type": "code",
      "metadata": {
        "id": "mGwbUkabmJxF"
      },
      "source": [
        "linreg = LinearRegression()"
      ],
      "execution_count": 11,
      "outputs": []
    },
    {
      "cell_type": "code",
      "metadata": {
        "colab": {
          "base_uri": "https://localhost:8080/"
        },
        "id": "Ar2T7peEmRKD",
        "outputId": "11ec8fea-4799-4057-b5e0-6a43838456bf"
      },
      "source": [
        "linreg.fit(x_train, y_train)"
      ],
      "execution_count": 13,
      "outputs": [
        {
          "output_type": "execute_result",
          "data": {
            "text/plain": [
              "LinearRegression(copy_X=True, fit_intercept=True, n_jobs=None, normalize=False)"
            ]
          },
          "metadata": {
            "tags": []
          },
          "execution_count": 13
        }
      ]
    },
    {
      "cell_type": "code",
      "metadata": {
        "colab": {
          "base_uri": "https://localhost:8080/"
        },
        "id": "aNH0pYbomLj1",
        "outputId": "96ea99e2-9f8e-4358-a54c-b6a8bd6fb1a3"
      },
      "source": [
        "print(\"Train RMSE:\", np.round(np.sqrt(metrics.mean_squared_error(y_train, linreg.predict(x_train))), 5))\n",
        "print(\"Test RMSE:\", np.round(np.sqrt(metrics.mean_squared_error(y_test, linreg.predict(x_test))), 5))"
      ],
      "execution_count": 15,
      "outputs": [
        {
          "output_type": "stream",
          "text": [
            "Train RMSE: 87.57397\n",
            "Test RMSE: 104.03573\n"
          ],
          "name": "stdout"
        }
      ]
    },
    {
      "cell_type": "code",
      "metadata": {
        "colab": {
          "base_uri": "https://localhost:8080/"
        },
        "id": "9sMbQVbwmaWK",
        "outputId": "0f27b5da-9620-401d-dad4-01488d5c0b46"
      },
      "source": [
        "import numpy as np\n",
        "import pandas as pd\n",
        "from sklearn.model_selection import train_test_split\n",
        "from sklearn.linear_model import Lasso\n",
        "from sklearn import metrics\n",
        "import warnings\n",
        "warnings.filterwarnings('ignore')\n",
        "df = pd.read_csv('https://raw.githubusercontent.com/plthiyagu/Personnel/master/Dataset/Fish.csv')\n",
        "x = df.drop('Weight', axis = 1)\n",
        "y = df['Weight']\n",
        "y = y.values.reshape(-1,1)\n",
        "x = pd.get_dummies(x, drop_first = True)\n",
        "x_train, x_test, y_train, y_test = train_test_split(x, y, test_size = 0.3, random_state = 66)\n",
        "lasso = Lasso()\n",
        "lasso.fit(x_train, y_train)\n",
        "print(\"Lasso Train RMSE:\", np.round(np.sqrt(metrics.mean_squared_error(y_train, lasso.predict(x_train))), 5))\n",
        "print(\"Lasso Test RMSE:\", np.round(np.sqrt(metrics.mean_squared_error(y_test, lasso.predict(x_test))), 5))"
      ],
      "execution_count": 17,
      "outputs": [
        {
          "output_type": "stream",
          "text": [
            "Lasso Train RMSE: 91.95956\n",
            "Lasso Test RMSE: 95.98882\n"
          ],
          "name": "stdout"
        }
      ]
    },
    {
      "cell_type": "code",
      "metadata": {
        "colab": {
          "base_uri": "https://localhost:8080/"
        },
        "id": "i2gqKk_4mnZA",
        "outputId": "112ff8f2-ba72-4be8-b83e-1683362f107c"
      },
      "source": [
        "import numpy as np\n",
        "import pandas as pd\n",
        "from sklearn.model_selection import train_test_split\n",
        "from sklearn.linear_model import Ridge\n",
        "from sklearn import metrics\n",
        "import warnings\n",
        "warnings.filterwarnings('ignore')\n",
        "df = pd.read_csv('https://raw.githubusercontent.com/plthiyagu/Personnel/master/Dataset/Fish.csv')\n",
        "x = df.drop('Weight', axis = 1)\n",
        "y = df['Weight']\n",
        "y = y.values.reshape(-1,1)\n",
        "x = pd.get_dummies(x, drop_first = True)\n",
        "x_train, x_test, y_train, y_test = train_test_split(x, y, test_size = 0.3, random_state = 66)\n",
        "ridge = Ridge()\n",
        "ridge.fit(x_train, y_train)\n",
        "print(\"Ridge Train RMSE:\", np.round(np.sqrt(metrics.mean_squared_error(y_train, ridge.predict(x_train))), 5))\n",
        "print(\"Ridge Test RMSE:\", np.round(np.sqrt(metrics.mean_squared_error(y_test, ridge.predict(x_test))), 5))"
      ],
      "execution_count": 19,
      "outputs": [
        {
          "output_type": "stream",
          "text": [
            "Ridge Train RMSE: 92.37122\n",
            "Ridge Test RMSE: 94.09948\n"
          ],
          "name": "stdout"
        }
      ]
    },
    {
      "cell_type": "code",
      "metadata": {
        "colab": {
          "base_uri": "https://localhost:8080/"
        },
        "id": "bI4IkMVJmzGD",
        "outputId": "863d1a1f-ca48-4014-ee59-1ce6e57c1d3f"
      },
      "source": [
        "import numpy as np\n",
        "import pandas as pd\n",
        "from sklearn.model_selection import train_test_split\n",
        "from sklearn.linear_model import ElasticNet\n",
        "from sklearn import metrics\n",
        "import warnings\n",
        "warnings.filterwarnings('ignore')\n",
        "df = pd.read_csv('https://raw.githubusercontent.com/plthiyagu/Personnel/master/Dataset/Fish.csv')\n",
        "x = df.drop('Weight', axis = 1)\n",
        "y = df['Weight']\n",
        "y = y.values.reshape(-1,1)\n",
        "x = pd.get_dummies(x, drop_first = True)\n",
        "x_train, x_test, y_train, y_test = train_test_split(x, y, test_size = 0.3, random_state = 66)\n",
        "enet = ElasticNet()\n",
        "enet.fit(x_train, y_train)\n",
        "print(\"ElasticNet Train RMSE:\", np.round(np.sqrt(metrics.mean_squared_error(y_train, enet.predict(x_train))), 5))\n",
        "print(\"ElasticNet Test RMSE:\", np.round(np.sqrt(metrics.mean_squared_error(y_test, enet.predict(x_test))), 5))"
      ],
      "execution_count": 20,
      "outputs": [
        {
          "output_type": "stream",
          "text": [
            "ElasticNet Train RMSE: 123.10308\n",
            "ElasticNet Test RMSE: 110.42666\n"
          ],
          "name": "stdout"
        }
      ]
    },
    {
      "cell_type": "code",
      "metadata": {
        "id": "bAepIhNJokhP"
      },
      "source": [
        ""
      ],
      "execution_count": null,
      "outputs": []
    }
  ]
}