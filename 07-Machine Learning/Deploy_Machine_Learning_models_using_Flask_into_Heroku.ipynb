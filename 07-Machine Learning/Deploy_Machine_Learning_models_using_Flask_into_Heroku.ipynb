{
  "nbformat": 4,
  "nbformat_minor": 0,
  "metadata": {
    "colab": {
      "name": "Deploy Machine Learning models using Flask into Heroku.ipynb",
      "provenance": [],
      "authorship_tag": "ABX9TyOkAdOPPXQBgXFi9zbbbsgp",
      "include_colab_link": true
    },
    "kernelspec": {
      "name": "python3",
      "display_name": "Python 3"
    }
  },
  "cells": [
    {
      "cell_type": "markdown",
      "metadata": {
        "id": "view-in-github",
        "colab_type": "text"
      },
      "source": [
        "<a href=\"https://colab.research.google.com/github/plthiyagu/Personnel/blob/master/Deploy_Machine_Learning_models_using_Flask_into_Heroku.ipynb\" target=\"_parent\"><img src=\"https://colab.research.google.com/assets/colab-badge.svg\" alt=\"Open In Colab\"/></a>"
      ]
    },
    {
      "cell_type": "code",
      "metadata": {
        "id": "8A6jbBJ_QONP",
        "colab_type": "code",
        "colab": {
          "base_uri": "https://localhost:8080/",
          "height": 207
        },
        "outputId": "f37020a3-2861-4fe8-a200-c1a6ccb347cc"
      },
      "source": [
        "import pandas as pd\n",
        "import numpy as np\n",
        "import pickle\n",
        "from sklearn.linear_model import LogisticRegression\n",
        "from sklearn.model_selection import train_test_split\n",
        "\n",
        "# Reading dataframe and dropping rows with na values\n",
        "filename='https://raw.githubusercontent.com/plthiyagu/Personnel/master/Dataset/framingham.csv'\n",
        "\n",
        "data = pd.read_csv(filename)\n",
        "data.dropna(inplace=True)  # Consists 3658 records\n",
        "\n",
        "# Computing Correlation\n",
        "corr_matrix = data.corr().abs()\n",
        "high_corr_var = np.where(corr_matrix > 0.35)\n",
        "high_corr_var = [(corr_matrix.index[x], corr_matrix.columns[y]) for x, y in zip(*high_corr_var) if x != y and x < y]\n",
        "\n",
        "\"\"\"\n",
        "Variables to consider\n",
        "age: Age of a person (Input a number)\n",
        "smoker: Yes or No\n",
        "Cigs per day: (Input a number)\n",
        "diabaties: Yes or No\n",
        "bmi: weight(Kg) and height(meters) calculate\n",
        "BP: input a number\n",
        "\"\"\"\n",
        "\n",
        "\n",
        "def bmi(weight, height):\n",
        "    return round(float(weight) / (float(height) * float(height)), 2)\n",
        "\n",
        "\n",
        "X_cols = ['male', 'age', 'currentSmoker', 'cigsPerDay', 'diabetes',\n",
        "          'sysBP', 'BMI']\n",
        "Y_col = ['TenYearCHD']\n",
        "\n",
        "X_vars = data[X_cols]\n",
        "Y_var = data[Y_col]\n",
        "\n",
        "# Renaming Columns\n",
        "X_vars.columns = ['Gender', 'Age', 'Smoker', 'Cigarettes_Per_Day',\n",
        "                  'Diabetic', 'BP', 'BMI']\n",
        "Y_var.columns = ['Chances_of_hear_disease']\n",
        "\n",
        "# Splitting data\n",
        "X_train, X_test, y_train, y_test = train_test_split(X_vars, Y_var, test_size=0.25, random_state=0)\n",
        "\n",
        "# Initiate the Model\n",
        "logreg = LogisticRegression()\n",
        "\n",
        "# fit the model with data\n",
        "logreg.fit(X_train, y_train)\n",
        "\n",
        "pickle.dump(logreg, open('model.pkl', 'wb'))\n"
      ],
      "execution_count": 2,
      "outputs": [
        {
          "output_type": "stream",
          "text": [
            "/usr/local/lib/python3.6/dist-packages/sklearn/utils/validation.py:760: DataConversionWarning: A column-vector y was passed when a 1d array was expected. Please change the shape of y to (n_samples, ), for example using ravel().\n",
            "  y = column_or_1d(y, warn=True)\n",
            "/usr/local/lib/python3.6/dist-packages/sklearn/linear_model/_logistic.py:940: ConvergenceWarning: lbfgs failed to converge (status=1):\n",
            "STOP: TOTAL NO. of ITERATIONS REACHED LIMIT.\n",
            "\n",
            "Increase the number of iterations (max_iter) or scale the data as shown in:\n",
            "    https://scikit-learn.org/stable/modules/preprocessing.html\n",
            "Please also refer to the documentation for alternative solver options:\n",
            "    https://scikit-learn.org/stable/modules/linear_model.html#logistic-regression\n",
            "  extra_warning_msg=_LOGISTIC_SOLVER_CONVERGENCE_MSG)\n"
          ],
          "name": "stderr"
        }
      ]
    },
    {
      "cell_type": "code",
      "metadata": {
        "id": "r-Gc1qGFQ1S8",
        "colab_type": "code",
        "colab": {
          "base_uri": "https://localhost:8080/",
          "height": 34
        },
        "outputId": "e167a4ce-553e-4d3b-c781-47f47ae62ef6"
      },
      "source": [
        "!ls"
      ],
      "execution_count": 4,
      "outputs": [
        {
          "output_type": "stream",
          "text": [
            "model.pkl  sample_data\n"
          ],
          "name": "stdout"
        }
      ]
    },
    {
      "cell_type": "code",
      "metadata": {
        "id": "FU6jOAjkQ4Ua",
        "colab_type": "code",
        "colab": {
          "base_uri": "https://localhost:8080/",
          "height": 197
        },
        "outputId": "df2a2d72-a31d-4f20-8889-7b932949481c"
      },
      "source": [
        "# Set the secret key to some random bytes. \n",
        "# Keep this really secret!\n",
        "app.secret_key = b'_5#y2L\"F4Q8z\\n\\xec]/'\n"
      ],
      "execution_count": 5,
      "outputs": [
        {
          "output_type": "error",
          "ename": "NameError",
          "evalue": "ignored",
          "traceback": [
            "\u001b[0;31m---------------------------------------------------------------------------\u001b[0m",
            "\u001b[0;31mNameError\u001b[0m                                 Traceback (most recent call last)",
            "\u001b[0;32m<ipython-input-5-9b74e2e00335>\u001b[0m in \u001b[0;36m<module>\u001b[0;34m()\u001b[0m\n\u001b[1;32m      1\u001b[0m \u001b[0;31m# Set the secret key to some random bytes.\u001b[0m\u001b[0;34m\u001b[0m\u001b[0;34m\u001b[0m\u001b[0;34m\u001b[0m\u001b[0m\n\u001b[1;32m      2\u001b[0m \u001b[0;31m# Keep this really secret!\u001b[0m\u001b[0;34m\u001b[0m\u001b[0;34m\u001b[0m\u001b[0;34m\u001b[0m\u001b[0m\n\u001b[0;32m----> 3\u001b[0;31m \u001b[0mapp\u001b[0m\u001b[0;34m.\u001b[0m\u001b[0msecret_key\u001b[0m \u001b[0;34m=\u001b[0m \u001b[0;34mb'_5#y2L\"F4Q8z\\n\\xec]/'\u001b[0m\u001b[0;34m\u001b[0m\u001b[0;34m\u001b[0m\u001b[0m\n\u001b[0m",
            "\u001b[0;31mNameError\u001b[0m: name 'app' is not defined"
          ]
        }
      ]
    },
    {
      "cell_type": "markdown",
      "metadata": {
        "id": "hoMqatH5RIPh",
        "colab_type": "text"
      },
      "source": [
        "https://dev.to/siddheshshankar/deploy-machine-learning-models-using-flask-into-heroku-4b54"
      ]
    },
    {
      "cell_type": "code",
      "metadata": {
        "id": "MCfWfQgMRD2f",
        "colab_type": "code",
        "colab": {}
      },
      "source": [
        ""
      ],
      "execution_count": null,
      "outputs": []
    }
  ]
}