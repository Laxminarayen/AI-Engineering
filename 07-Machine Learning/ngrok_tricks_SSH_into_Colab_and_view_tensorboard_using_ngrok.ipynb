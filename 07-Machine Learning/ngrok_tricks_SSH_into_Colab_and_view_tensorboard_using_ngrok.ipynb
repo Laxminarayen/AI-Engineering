{
  "nbformat": 4,
  "nbformat_minor": 0,
  "metadata": {
    "colab": {
      "name": "ngrok-tricks - SSH into Colab and view tensorboard using ngrok",
      "provenance": [],
      "collapsed_sections": [],
      "include_colab_link": true
    },
    "kernelspec": {
      "name": "python3",
      "display_name": "Python 3"
    },
    "accelerator": "TPU"
  },
  "cells": [
    {
      "cell_type": "markdown",
      "metadata": {
        "id": "view-in-github",
        "colab_type": "text"
      },
      "source": [
        "<a href=\"https://colab.research.google.com/github/plthiyagu/Personnel/blob/master/ngrok_tricks_SSH_into_Colab_and_view_tensorboard_using_ngrok.ipynb\" target=\"_parent\"><img src=\"https://colab.research.google.com/assets/colab-badge.svg\" alt=\"Open In Colab\"/></a>"
      ]
    },
    {
      "cell_type": "markdown",
      "metadata": {
        "id": "tPGkLrbHf4m8",
        "colab_type": "text"
      },
      "source": [
        "#Mount your google drive & symlink it to `/drive`"
      ]
    },
    {
      "cell_type": "code",
      "metadata": {
        "id": "SAqwoVyIwoj0",
        "colab_type": "code",
        "colab": {
          "base_uri": "https://localhost:8080/",
          "height": 122
        },
        "outputId": "3f22cf5b-4957-44ed-92d2-479bfe3472d1"
      },
      "source": [
        "from google.colab import drive\n",
        "drive.mount('/content/drive', force_remount=True)\n",
        "\n",
        "!mkdir -p /drive\n",
        "#umount /drive\n",
        "!mount --bind /content/drive/My\\ Drive /drive\n",
        "!mkdir -p /drive/ngrok-ssh\n",
        "!mkdir -p ~/.ssh"
      ],
      "execution_count": 1,
      "outputs": [
        {
          "output_type": "stream",
          "text": [
            "Go to this URL in a browser: https://accounts.google.com/o/oauth2/auth?client_id=947318989803-6bn6qk8qdgf4n4g3pfee6491hc0brc4i.apps.googleusercontent.com&redirect_uri=urn%3aietf%3awg%3aoauth%3a2.0%3aoob&response_type=code&scope=email%20https%3a%2f%2fwww.googleapis.com%2fauth%2fdocs.test%20https%3a%2f%2fwww.googleapis.com%2fauth%2fdrive%20https%3a%2f%2fwww.googleapis.com%2fauth%2fdrive.photos.readonly%20https%3a%2f%2fwww.googleapis.com%2fauth%2fpeopleapi.readonly\n",
            "\n",
            "Enter your authorization code:\n",
            "··········\n",
            "Mounted at /content/drive\n"
          ],
          "name": "stdout"
        }
      ]
    },
    {
      "cell_type": "markdown",
      "metadata": {
        "id": "5BfjbdkmgWPz",
        "colab_type": "text"
      },
      "source": [
        "#(optional) If a TPU is attached, print its address\n",
        "\n",
        "This notebook works for all runtime types: CPU, GPU, and TPU.\n",
        "\n",
        "If connected to TPU runtime, this cell prints info about the attached TPU. (This is just for convenience / informational purposes.)"
      ]
    },
    {
      "cell_type": "code",
      "metadata": {
        "id": "2jKgMEagipmt",
        "colab_type": "code",
        "colab": {
          "base_uri": "https://localhost:8080/",
          "height": 248
        },
        "outputId": "8c03a43f-684d-4b1c-f782-b7d3440aab07"
      },
      "source": [
        "import os\n",
        "import pprint\n",
        "import tensorflow as tf\n",
        "\n",
        "if 'COLAB_TPU_ADDR' not in os.environ:\n",
        "  print('Not connected to a TPU runtime')\n",
        "else:\n",
        "  tpu_address = 'grpc://' + os.environ['COLAB_TPU_ADDR']\n",
        "  print ('TPU address is', tpu_address)\n",
        "  with tf.Session(tpu_address) as session:\n",
        "    devices = session.list_devices()\n",
        "  print('TPU devices:')\n",
        "  pprint.pprint(devices)"
      ],
      "execution_count": 2,
      "outputs": [
        {
          "output_type": "stream",
          "text": [
            "TPU address is grpc://10.60.217.186:8470\n"
          ],
          "name": "stdout"
        },
        {
          "output_type": "error",
          "ename": "AttributeError",
          "evalue": "ignored",
          "traceback": [
            "\u001b[0;31m---------------------------------------------------------------------------\u001b[0m",
            "\u001b[0;31mAttributeError\u001b[0m                            Traceback (most recent call last)",
            "\u001b[0;32m<ipython-input-2-5222e392b76c>\u001b[0m in \u001b[0;36m<module>\u001b[0;34m()\u001b[0m\n\u001b[1;32m      8\u001b[0m   \u001b[0mtpu_address\u001b[0m \u001b[0;34m=\u001b[0m \u001b[0;34m'grpc://'\u001b[0m \u001b[0;34m+\u001b[0m \u001b[0mos\u001b[0m\u001b[0;34m.\u001b[0m\u001b[0menviron\u001b[0m\u001b[0;34m[\u001b[0m\u001b[0;34m'COLAB_TPU_ADDR'\u001b[0m\u001b[0;34m]\u001b[0m\u001b[0;34m\u001b[0m\u001b[0;34m\u001b[0m\u001b[0m\n\u001b[1;32m      9\u001b[0m   \u001b[0mprint\u001b[0m \u001b[0;34m(\u001b[0m\u001b[0;34m'TPU address is'\u001b[0m\u001b[0;34m,\u001b[0m \u001b[0mtpu_address\u001b[0m\u001b[0;34m)\u001b[0m\u001b[0;34m\u001b[0m\u001b[0;34m\u001b[0m\u001b[0m\n\u001b[0;32m---> 10\u001b[0;31m   \u001b[0;32mwith\u001b[0m \u001b[0mtf\u001b[0m\u001b[0;34m.\u001b[0m\u001b[0mSession\u001b[0m\u001b[0;34m(\u001b[0m\u001b[0mtpu_address\u001b[0m\u001b[0;34m)\u001b[0m \u001b[0;32mas\u001b[0m \u001b[0msession\u001b[0m\u001b[0;34m:\u001b[0m\u001b[0;34m\u001b[0m\u001b[0;34m\u001b[0m\u001b[0m\n\u001b[0m\u001b[1;32m     11\u001b[0m     \u001b[0mdevices\u001b[0m \u001b[0;34m=\u001b[0m \u001b[0msession\u001b[0m\u001b[0;34m.\u001b[0m\u001b[0mlist_devices\u001b[0m\u001b[0;34m(\u001b[0m\u001b[0;34m)\u001b[0m\u001b[0;34m\u001b[0m\u001b[0;34m\u001b[0m\u001b[0m\n\u001b[1;32m     12\u001b[0m   \u001b[0mprint\u001b[0m\u001b[0;34m(\u001b[0m\u001b[0;34m'TPU devices:'\u001b[0m\u001b[0;34m)\u001b[0m\u001b[0;34m\u001b[0m\u001b[0;34m\u001b[0m\u001b[0m\n",
            "\u001b[0;31mAttributeError\u001b[0m: module 'tensorflow' has no attribute 'Session'"
          ]
        }
      ]
    },
    {
      "cell_type": "markdown",
      "metadata": {
        "id": "q6DkHRhXnAZE",
        "colab_type": "text"
      },
      "source": [
        "# Install `sshd`, `tmux`, and `vim`\n",
        "\n",
        "You can add any other prerequisites you want, e.g. `emacs`. That way, when you ssh into the colab instance, all of these will already be installed.\n",
        "\n",
        "(You'd otherwise have to run `apt-get install emacs` every time you ssh into a fresh colab instance. It's easier just to install all your favorite programs here, ahead of time.)"
      ]
    },
    {
      "cell_type": "code",
      "metadata": {
        "id": "J_WEZOLUyTs2",
        "colab_type": "code",
        "cellView": "code",
        "colab": {
          "base_uri": "https://localhost:8080/",
          "height": 1000
        },
        "outputId": "757d8a6d-2f98-4d94-b94a-b9f3369c6433"
      },
      "source": [
        "!apt-get install ssh tmux vim"
      ],
      "execution_count": 3,
      "outputs": [
        {
          "output_type": "stream",
          "text": [
            "Reading package lists... Done\n",
            "Building dependency tree       \n",
            "Reading state information... Done\n",
            "The following package was automatically installed and is no longer required:\n",
            "  libnvidia-common-440\n",
            "Use 'apt autoremove' to remove it.\n",
            "The following additional packages will be installed:\n",
            "  libevent-2.1-6 libgpm2 libutempter0 ncurses-term openssh-server\n",
            "  openssh-sftp-server python3-certifi python3-chardet python3-idna\n",
            "  python3-pkg-resources python3-requests python3-six python3-urllib3\n",
            "  ssh-import-id vim-common vim-runtime xxd\n",
            "Suggested packages:\n",
            "  gpm molly-guard monkeysphere rssh ssh-askpass ufw python3-setuptools\n",
            "  python3-cryptography python3-openssl python3-socks ctags vim-doc vim-scripts\n",
            "The following NEW packages will be installed:\n",
            "  libevent-2.1-6 libgpm2 libutempter0 ncurses-term openssh-server\n",
            "  openssh-sftp-server python3-certifi python3-chardet python3-idna\n",
            "  python3-pkg-resources python3-requests python3-six python3-urllib3 ssh\n",
            "  ssh-import-id tmux vim vim-common vim-runtime xxd\n",
            "0 upgraded, 20 newly installed, 0 to remove and 35 not upgraded.\n",
            "Need to get 8,267 kB of archives.\n",
            "After this operation, 41.3 MB of additional disk space will be used.\n",
            "Get:1 http://archive.ubuntu.com/ubuntu bionic-updates/main amd64 openssh-sftp-server amd64 1:7.6p1-4ubuntu0.3 [45.6 kB]\n",
            "Get:2 http://archive.ubuntu.com/ubuntu bionic-updates/main amd64 openssh-server amd64 1:7.6p1-4ubuntu0.3 [333 kB]\n",
            "Get:3 http://archive.ubuntu.com/ubuntu bionic-updates/main amd64 ssh all 1:7.6p1-4ubuntu0.3 [5,204 B]\n",
            "Get:4 http://archive.ubuntu.com/ubuntu bionic-updates/main amd64 xxd amd64 2:8.0.1453-1ubuntu1.3 [49.4 kB]\n",
            "Get:5 http://archive.ubuntu.com/ubuntu bionic-updates/main amd64 vim-common all 2:8.0.1453-1ubuntu1.3 [70.6 kB]\n",
            "Get:6 http://archive.ubuntu.com/ubuntu bionic/main amd64 libevent-2.1-6 amd64 2.1.8-stable-4build1 [133 kB]\n",
            "Get:7 http://archive.ubuntu.com/ubuntu bionic/main amd64 libgpm2 amd64 1.20.7-5 [15.1 kB]\n",
            "Get:8 http://archive.ubuntu.com/ubuntu bionic/main amd64 libutempter0 amd64 1.1.6-3 [7,898 B]\n",
            "Get:9 http://archive.ubuntu.com/ubuntu bionic-updates/main amd64 ncurses-term all 6.1-1ubuntu1.18.04 [248 kB]\n",
            "Get:10 http://archive.ubuntu.com/ubuntu bionic/main amd64 python3-certifi all 2018.1.18-2 [144 kB]\n",
            "Get:11 http://archive.ubuntu.com/ubuntu bionic/main amd64 python3-pkg-resources all 39.0.1-2 [98.8 kB]\n",
            "Get:12 http://archive.ubuntu.com/ubuntu bionic/main amd64 python3-chardet all 3.0.4-1 [80.3 kB]\n",
            "Get:13 http://archive.ubuntu.com/ubuntu bionic/main amd64 python3-idna all 2.6-1 [32.5 kB]\n",
            "Get:14 http://archive.ubuntu.com/ubuntu bionic/main amd64 python3-six all 1.11.0-2 [11.4 kB]\n",
            "Get:15 http://archive.ubuntu.com/ubuntu bionic-updates/main amd64 python3-urllib3 all 1.22-1ubuntu0.18.04.1 [86.0 kB]\n",
            "Get:16 http://archive.ubuntu.com/ubuntu bionic-updates/main amd64 python3-requests all 2.18.4-2ubuntu0.1 [58.3 kB]\n",
            "Get:17 http://archive.ubuntu.com/ubuntu bionic-updates/main amd64 tmux amd64 2.6-3ubuntu0.2 [248 kB]\n",
            "Get:18 http://archive.ubuntu.com/ubuntu bionic-updates/main amd64 vim-runtime all 2:8.0.1453-1ubuntu1.3 [5,436 kB]\n",
            "Get:19 http://archive.ubuntu.com/ubuntu bionic-updates/main amd64 vim amd64 2:8.0.1453-1ubuntu1.3 [1,153 kB]\n",
            "Get:20 http://archive.ubuntu.com/ubuntu bionic-updates/main amd64 ssh-import-id all 5.7-0ubuntu1.1 [10.9 kB]\n",
            "Fetched 8,267 kB in 1s (6,510 kB/s)\n",
            "Preconfiguring packages ...\n",
            "Selecting previously unselected package openssh-sftp-server.\n",
            "(Reading database ... 144487 files and directories currently installed.)\n",
            "Preparing to unpack .../00-openssh-sftp-server_1%3a7.6p1-4ubuntu0.3_amd64.deb ...\n",
            "Unpacking openssh-sftp-server (1:7.6p1-4ubuntu0.3) ...\n",
            "Selecting previously unselected package openssh-server.\n",
            "Preparing to unpack .../01-openssh-server_1%3a7.6p1-4ubuntu0.3_amd64.deb ...\n",
            "Unpacking openssh-server (1:7.6p1-4ubuntu0.3) ...\n",
            "Selecting previously unselected package ssh.\n",
            "Preparing to unpack .../02-ssh_1%3a7.6p1-4ubuntu0.3_all.deb ...\n",
            "Unpacking ssh (1:7.6p1-4ubuntu0.3) ...\n",
            "Selecting previously unselected package xxd.\n",
            "Preparing to unpack .../03-xxd_2%3a8.0.1453-1ubuntu1.3_amd64.deb ...\n",
            "Unpacking xxd (2:8.0.1453-1ubuntu1.3) ...\n",
            "Selecting previously unselected package vim-common.\n",
            "Preparing to unpack .../04-vim-common_2%3a8.0.1453-1ubuntu1.3_all.deb ...\n",
            "Unpacking vim-common (2:8.0.1453-1ubuntu1.3) ...\n",
            "Selecting previously unselected package libevent-2.1-6:amd64.\n",
            "Preparing to unpack .../05-libevent-2.1-6_2.1.8-stable-4build1_amd64.deb ...\n",
            "Unpacking libevent-2.1-6:amd64 (2.1.8-stable-4build1) ...\n",
            "Selecting previously unselected package libgpm2:amd64.\n",
            "Preparing to unpack .../06-libgpm2_1.20.7-5_amd64.deb ...\n",
            "Unpacking libgpm2:amd64 (1.20.7-5) ...\n",
            "Selecting previously unselected package libutempter0:amd64.\n",
            "Preparing to unpack .../07-libutempter0_1.1.6-3_amd64.deb ...\n",
            "Unpacking libutempter0:amd64 (1.1.6-3) ...\n",
            "Selecting previously unselected package ncurses-term.\n",
            "Preparing to unpack .../08-ncurses-term_6.1-1ubuntu1.18.04_all.deb ...\n",
            "Unpacking ncurses-term (6.1-1ubuntu1.18.04) ...\n",
            "Selecting previously unselected package python3-certifi.\n",
            "Preparing to unpack .../09-python3-certifi_2018.1.18-2_all.deb ...\n",
            "Unpacking python3-certifi (2018.1.18-2) ...\n",
            "Selecting previously unselected package python3-pkg-resources.\n",
            "Preparing to unpack .../10-python3-pkg-resources_39.0.1-2_all.deb ...\n",
            "Unpacking python3-pkg-resources (39.0.1-2) ...\n",
            "Selecting previously unselected package python3-chardet.\n",
            "Preparing to unpack .../11-python3-chardet_3.0.4-1_all.deb ...\n",
            "Unpacking python3-chardet (3.0.4-1) ...\n",
            "Selecting previously unselected package python3-idna.\n",
            "Preparing to unpack .../12-python3-idna_2.6-1_all.deb ...\n",
            "Unpacking python3-idna (2.6-1) ...\n",
            "Selecting previously unselected package python3-six.\n",
            "Preparing to unpack .../13-python3-six_1.11.0-2_all.deb ...\n",
            "Unpacking python3-six (1.11.0-2) ...\n",
            "Selecting previously unselected package python3-urllib3.\n",
            "Preparing to unpack .../14-python3-urllib3_1.22-1ubuntu0.18.04.1_all.deb ...\n",
            "Unpacking python3-urllib3 (1.22-1ubuntu0.18.04.1) ...\n",
            "Selecting previously unselected package python3-requests.\n",
            "Preparing to unpack .../15-python3-requests_2.18.4-2ubuntu0.1_all.deb ...\n",
            "Unpacking python3-requests (2.18.4-2ubuntu0.1) ...\n",
            "Selecting previously unselected package tmux.\n",
            "Preparing to unpack .../16-tmux_2.6-3ubuntu0.2_amd64.deb ...\n",
            "Unpacking tmux (2.6-3ubuntu0.2) ...\n",
            "Selecting previously unselected package vim-runtime.\n",
            "Preparing to unpack .../17-vim-runtime_2%3a8.0.1453-1ubuntu1.3_all.deb ...\n",
            "Adding 'diversion of /usr/share/vim/vim80/doc/help.txt to /usr/share/vim/vim80/doc/help.txt.vim-tiny by vim-runtime'\n",
            "Adding 'diversion of /usr/share/vim/vim80/doc/tags to /usr/share/vim/vim80/doc/tags.vim-tiny by vim-runtime'\n",
            "Unpacking vim-runtime (2:8.0.1453-1ubuntu1.3) ...\n",
            "Selecting previously unselected package vim.\n",
            "Preparing to unpack .../18-vim_2%3a8.0.1453-1ubuntu1.3_amd64.deb ...\n",
            "Unpacking vim (2:8.0.1453-1ubuntu1.3) ...\n",
            "Selecting previously unselected package ssh-import-id.\n",
            "Preparing to unpack .../19-ssh-import-id_5.7-0ubuntu1.1_all.deb ...\n",
            "Unpacking ssh-import-id (5.7-0ubuntu1.1) ...\n",
            "Setting up ncurses-term (6.1-1ubuntu1.18.04) ...\n",
            "Setting up libevent-2.1-6:amd64 (2.1.8-stable-4build1) ...\n",
            "Setting up xxd (2:8.0.1453-1ubuntu1.3) ...\n",
            "Setting up libgpm2:amd64 (1.20.7-5) ...\n",
            "Setting up python3-idna (2.6-1) ...\n",
            "Setting up python3-six (1.11.0-2) ...\n",
            "Setting up python3-certifi (2018.1.18-2) ...\n",
            "Setting up python3-pkg-resources (39.0.1-2) ...\n",
            "Setting up libutempter0:amd64 (1.1.6-3) ...\n",
            "Setting up openssh-sftp-server (1:7.6p1-4ubuntu0.3) ...\n",
            "Setting up python3-chardet (3.0.4-1) ...\n",
            "Setting up vim-common (2:8.0.1453-1ubuntu1.3) ...\n",
            "Setting up tmux (2.6-3ubuntu0.2) ...\n",
            "Setting up vim-runtime (2:8.0.1453-1ubuntu1.3) ...\n",
            "Setting up python3-urllib3 (1.22-1ubuntu0.18.04.1) ...\n",
            "Setting up vim (2:8.0.1453-1ubuntu1.3) ...\n",
            "update-alternatives: using /usr/bin/vim.basic to provide /usr/bin/vim (vim) in auto mode\n",
            "update-alternatives: using /usr/bin/vim.basic to provide /usr/bin/vimdiff (vimdiff) in auto mode\n",
            "update-alternatives: using /usr/bin/vim.basic to provide /usr/bin/rvim (rvim) in auto mode\n",
            "update-alternatives: using /usr/bin/vim.basic to provide /usr/bin/rview (rview) in auto mode\n",
            "update-alternatives: using /usr/bin/vim.basic to provide /usr/bin/vi (vi) in auto mode\n",
            "update-alternatives: using /usr/bin/vim.basic to provide /usr/bin/view (view) in auto mode\n",
            "update-alternatives: using /usr/bin/vim.basic to provide /usr/bin/ex (ex) in auto mode\n",
            "update-alternatives: using /usr/bin/vim.basic to provide /usr/bin/editor (editor) in auto mode\n",
            "Setting up openssh-server (1:7.6p1-4ubuntu0.3) ...\n",
            "\n",
            "Creating config file /etc/ssh/sshd_config with new version\n",
            "Creating SSH2 RSA key; this may take some time ...\n",
            "2048 SHA256:Vr1nvfUQ5U+z2nnUg3ZpzR4gewkzqjPns0wXwNPXNEg root@d5b24679234c (RSA)\n",
            "Creating SSH2 ECDSA key; this may take some time ...\n",
            "256 SHA256:gRZ9tI8MoLun1NX2DGZ0jRhFlcqnL60xKAW5sUqrE54 root@d5b24679234c (ECDSA)\n",
            "Creating SSH2 ED25519 key; this may take some time ...\n",
            "256 SHA256:5S3HFQ1Bcnt+u2RbHdocjEgUF3o9H89iOed497/hQvY root@d5b24679234c (ED25519)\n",
            "Created symlink /etc/systemd/system/sshd.service → /lib/systemd/system/ssh.service.\n",
            "Created symlink /etc/systemd/system/multi-user.target.wants/ssh.service → /lib/systemd/system/ssh.service.\n",
            "invoke-rc.d: could not determine current runlevel\n",
            "invoke-rc.d: policy-rc.d denied execution of start.\n",
            "Setting up python3-requests (2.18.4-2ubuntu0.1) ...\n",
            "Setting up ssh-import-id (5.7-0ubuntu1.1) ...\n",
            "Setting up ssh (1:7.6p1-4ubuntu0.3) ...\n",
            "Processing triggers for systemd (237-3ubuntu10.41) ...\n",
            "Processing triggers for man-db (2.8.3-2ubuntu0.1) ...\n",
            "Processing triggers for hicolor-icon-theme (0.17-2) ...\n",
            "Processing triggers for mime-support (3.60ubuntu1) ...\n",
            "Processing triggers for libc-bin (2.27-3ubuntu1) ...\n",
            "/sbin/ldconfig.real: /usr/local/lib/python3.6/dist-packages/ideep4py/lib/libmkldnn.so.0 is not a symbolic link\n",
            "\n"
          ],
          "name": "stdout"
        }
      ]
    },
    {
      "cell_type": "markdown",
      "metadata": {
        "id": "aqhQAOrJnvkq",
        "colab_type": "text"
      },
      "source": [
        "# Create an sshd configuration file\n",
        "\n",
        "- Normally, you shouldn't need to modify this next cell; the configuration is designed to work with colab.\n",
        "\n",
        "Simply run this cell:"
      ]
    },
    {
      "cell_type": "code",
      "metadata": {
        "id": "0v5HMu_nfROT",
        "colab_type": "code",
        "cellView": "both",
        "colab": {
          "base_uri": "https://localhost:8080/",
          "height": 34
        },
        "outputId": "f08eaae0-b74e-490c-d33e-2e8bda73652d"
      },
      "source": [
        "#@title\n",
        "%%writefile /drive/ngrok-ssh/sshd_config\n",
        "#\t$OpenBSD: sshd_config,v 1.101 2017/03/14 07:19:07 djm Exp $\n",
        "\n",
        "# This is the sshd server system-wide configuration file.  See\n",
        "# sshd_config(5) for more information.\n",
        "\n",
        "# This sshd was compiled with PATH=/usr/bin:/bin:/usr/sbin:/sbin\n",
        "\n",
        "# The strategy used for options in the default sshd_config shipped with\n",
        "# OpenSSH is to specify options with their default value where\n",
        "# possible, but leave them commented.  Uncommented options override the\n",
        "# default value.\n",
        "\n",
        "#Port 22\n",
        "#AddressFamily any\n",
        "#ListenAddress 0.0.0.0\n",
        "#ListenAddress ::\n",
        "\n",
        "#HostKey /etc/ssh/ssh_host_rsa_key\n",
        "#HostKey /etc/ssh/ssh_host_ecdsa_key\n",
        "#HostKey /etc/ssh/ssh_host_ed25519_key\n",
        "\n",
        "# Ciphers and keying\n",
        "#RekeyLimit default none\n",
        "\n",
        "# Logging\n",
        "#SyslogFacility AUTH\n",
        "#LogLevel INFO\n",
        "\n",
        "# Authentication:\n",
        "\n",
        "#LoginGraceTime 2m\n",
        "#PermitRootLogin prohibit-password\n",
        "#StrictModes yes\n",
        "#MaxAuthTries 6\n",
        "#MaxSessions 10\n",
        "\n",
        "#PubkeyAuthentication yes\n",
        "\n",
        "# Expect .ssh/authorized_keys2 to be disregarded by default in future.\n",
        "#AuthorizedKeysFile\t.ssh/authorized_keys .ssh/authorized_keys2\n",
        "\n",
        "#AuthorizedPrincipalsFile none\n",
        "\n",
        "#AuthorizedKeysCommand none\n",
        "#AuthorizedKeysCommandUser nobody\n",
        "\n",
        "# For this to work you will also need host keys in /etc/ssh/ssh_known_hosts\n",
        "#HostbasedAuthentication no\n",
        "# Change to yes if you don't trust ~/.ssh/known_hosts for\n",
        "# HostbasedAuthentication\n",
        "#IgnoreUserKnownHosts no\n",
        "# Don't read the user's ~/.rhosts and ~/.shosts files\n",
        "#IgnoreRhosts yes\n",
        "\n",
        "# To disable tunneled clear text passwords, change to no here!\n",
        "#PasswordAuthentication yes\n",
        "#PermitEmptyPasswords no\n",
        "\n",
        "# Change to yes to enable challenge-response passwords (beware issues with\n",
        "# some PAM modules and threads)\n",
        "ChallengeResponseAuthentication no\n",
        "\n",
        "# Kerberos options\n",
        "#KerberosAuthentication no\n",
        "#KerberosOrLocalPasswd yes\n",
        "#KerberosTicketCleanup yes\n",
        "#KerberosGetAFSToken no\n",
        "\n",
        "# GSSAPI options\n",
        "#GSSAPIAuthentication no\n",
        "#GSSAPICleanupCredentials yes\n",
        "#GSSAPIStrictAcceptorCheck yes\n",
        "#GSSAPIKeyExchange no\n",
        "\n",
        "# Set this to 'yes' to enable PAM authentication, account processing,\n",
        "# and session processing. If this is enabled, PAM authentication will\n",
        "# be allowed through the ChallengeResponseAuthentication and\n",
        "# PasswordAuthentication.  Depending on your PAM configuration,\n",
        "# PAM authentication via ChallengeResponseAuthentication may bypass\n",
        "# the setting of \"PermitRootLogin without-password\".\n",
        "# If you just want the PAM account and session checks to run without\n",
        "# PAM authentication, then enable this but set PasswordAuthentication\n",
        "# and ChallengeResponseAuthentication to 'no'.\n",
        "UsePAM yes\n",
        "\n",
        "#AllowAgentForwarding yes\n",
        "AllowTcpForwarding yes\n",
        "#GatewayPorts no\n",
        "X11Forwarding yes\n",
        "#X11DisplayOffset 10\n",
        "#X11UseLocalhost yes\n",
        "#PermitTTY yes\n",
        "PrintMotd no\n",
        "#PrintLastLog yes\n",
        "#TCPKeepAlive yes\n",
        "#UseLogin no\n",
        "#PermitUserEnvironment no\n",
        "#Compression delayed\n",
        "#ClientAliveInterval 0\n",
        "#ClientAliveCountMax 3\n",
        "#UseDNS no\n",
        "#PidFile /var/run/sshd.pid\n",
        "#MaxStartups 10:30:100\n",
        "#PermitTunnel no\n",
        "#ChrootDirectory none\n",
        "#VersionAddendum none\n",
        "\n",
        "# no default banner path\n",
        "#Banner none\n",
        "\n",
        "# Allow client to pass locale environment variables\n",
        "AcceptEnv LANG LC_*\n",
        "\n",
        "# override default of no subsystems\n",
        "Subsystem\tsftp\t/usr/lib/openssh/sftp-server\n",
        "\n",
        "# Example of overriding settings on a per-user basis\n",
        "#Match User anoncvs\n",
        "#\tX11Forwarding no\n",
        "#\tAllowTcpForwarding no\n",
        "#\tPermitTTY no\n",
        "#\tForceCommand cvs server"
      ],
      "execution_count": 4,
      "outputs": [
        {
          "output_type": "stream",
          "text": [
            "Writing /drive/ngrok-ssh/sshd_config\n"
          ],
          "name": "stdout"
        }
      ]
    },
    {
      "cell_type": "markdown",
      "metadata": {
        "id": "YbPbsr2lhd6_",
        "colab_type": "text"
      },
      "source": [
        "# Paste the contents of your local `~/.ssh/id_rsa.pub` file into this next cell\n",
        "\n",
        "- If you don't have an `~/.ssh/id_rsa.pub` file, use `ssh-keygen` to make one.\n",
        "\n",
        "- Remember to actually run the cell after you paste your key into it!\n",
        "\n"
      ]
    },
    {
      "cell_type": "code",
      "metadata": {
        "id": "wmyQ60pehfYu",
        "colab_type": "code",
        "colab": {
          "base_uri": "https://localhost:8080/",
          "height": 34
        },
        "outputId": "8b4fabb2-8267-40ed-8df0-f2d938c0e7b9"
      },
      "source": [
        "%%writefile ~/.ssh/authorized_keys\n",
        "REPLACE_THIS_LINE_WITH_YOUR_ID_RSA_PUB_FILE"
      ],
      "execution_count": 5,
      "outputs": [
        {
          "output_type": "stream",
          "text": [
            "Writing /root/.ssh/authorized_keys\n"
          ],
          "name": "stdout"
        }
      ]
    },
    {
      "cell_type": "markdown",
      "metadata": {
        "id": "Uphyo1i2ldXF",
        "colab_type": "text"
      },
      "source": [
        "# Restart sshd"
      ]
    },
    {
      "cell_type": "code",
      "metadata": {
        "id": "CGNbcsZS2EpR",
        "colab_type": "code",
        "colab": {
          "base_uri": "https://localhost:8080/",
          "height": 51
        },
        "outputId": "e21c4108-30bd-42eb-ff13-62afaef6dbff"
      },
      "source": [
        "!cp /drive/ngrok-ssh/sshd_config /etc/ssh/sshd_config\n",
        "!service ssh restart\n",
        "!mkdir -p ~/.ssh"
      ],
      "execution_count": 6,
      "outputs": [
        {
          "output_type": "stream",
          "text": [
            " * Restarting OpenBSD Secure Shell server sshd\n",
            "   ...done.\n"
          ],
          "name": "stdout"
        }
      ]
    },
    {
      "cell_type": "markdown",
      "metadata": {
        "id": "jBqoQ96tf-GR",
        "colab_type": "text"
      },
      "source": [
        "#Install ngrok"
      ]
    },
    {
      "cell_type": "code",
      "metadata": {
        "id": "1B_aC562JbJU",
        "colab_type": "code",
        "colab": {
          "base_uri": "https://localhost:8080/",
          "height": 255
        },
        "outputId": "07b9b626-3b27-4d37-eef2-0e7f8410d291"
      },
      "source": [
        "!mkdir -p /drive/ngrok-ssh\n",
        "%cd /drive/ngrok-ssh\n",
        "!wget https://bin.equinox.io/c/4VmDzA7iaHb/ngrok-stable-linux-amd64.zip -O ngrok-stable-linux-amd64.zip\n",
        "!unzip -u ngrok-stable-linux-amd64.zip\n",
        "!cp /drive/ngrok-ssh/ngrok /ngrok\n",
        "!chmod +x /ngrok"
      ],
      "execution_count": 7,
      "outputs": [
        {
          "output_type": "stream",
          "text": [
            "/drive/ngrok-ssh\n",
            "--2020-08-03 16:45:48--  https://bin.equinox.io/c/4VmDzA7iaHb/ngrok-stable-linux-amd64.zip\n",
            "Resolving bin.equinox.io (bin.equinox.io)... 54.84.169.173, 54.236.185.76, 54.88.63.64, ...\n",
            "Connecting to bin.equinox.io (bin.equinox.io)|54.84.169.173|:443... connected.\n",
            "HTTP request sent, awaiting response... 200 OK\n",
            "Length: 13773305 (13M) [application/octet-stream]\n",
            "Saving to: ‘ngrok-stable-linux-amd64.zip’\n",
            "\n",
            "ngrok-stable-linux- 100%[===================>]  13.13M  31.6MB/s    in 0.4s    \n",
            "\n",
            "2020-08-03 16:45:49 (31.6 MB/s) - ‘ngrok-stable-linux-amd64.zip’ saved [13773305/13773305]\n",
            "\n",
            "Archive:  ngrok-stable-linux-amd64.zip\n",
            "  inflating: ngrok                   \n"
          ],
          "name": "stdout"
        }
      ]
    },
    {
      "cell_type": "markdown",
      "metadata": {
        "id": "UvBwXHZ5jQ1w",
        "colab_type": "text"
      },
      "source": [
        "# Sign-in with ngrok\n",
        "\n",
        "- Sign up for a free ngrok account: https://ngrok.com\n",
        "\n",
        "- Copy your authtoken from https://dashboard.ngrok.com/auth and paste it into the following cell\n",
        "\n",
        "- Run the cell"
      ]
    },
    {
      "cell_type": "code",
      "metadata": {
        "id": "4k-1v9HPhBBG",
        "colab_type": "code",
        "colab": {
          "base_uri": "https://localhost:8080/",
          "height": 34
        },
        "outputId": "4f9bcd88-4f9e-409f-a184-a91d89d38b8b"
      },
      "source": [
        "!/ngrok authtoken 1fax27GJk0gZZLd5mYbwKscD5Lh_3a3xx3tAyezcAm3yraaqN"
      ],
      "execution_count": 8,
      "outputs": [
        {
          "output_type": "stream",
          "text": [
            "Authtoken saved to configuration file: /root/.ngrok2/ngrok.yml\n"
          ],
          "name": "stdout"
        }
      ]
    },
    {
      "cell_type": "markdown",
      "metadata": {
        "id": "cjn_XRvbjtXm",
        "colab_type": "text"
      },
      "source": [
        "# Create various ngrok tunnel configurations\n",
        "\n",
        "Run each of these cells, one by one:"
      ]
    },
    {
      "cell_type": "code",
      "metadata": {
        "id": "RyDVTHD2PnRI",
        "colab_type": "code",
        "colab": {
          "base_uri": "https://localhost:8080/",
          "height": 34
        },
        "outputId": "40dab8d3-84ad-4fdb-c6bd-347c150e7825"
      },
      "source": [
        "%%writefile /drive/ngrok-ssh/ssh.yml\n",
        "tunnels:\n",
        "  ssh:\n",
        "    proto: tcp\n",
        "    addr: 22"
      ],
      "execution_count": null,
      "outputs": [
        {
          "output_type": "stream",
          "text": [
            "Writing /drive/ngrok-ssh/ssh.yml\n"
          ],
          "name": "stdout"
        }
      ]
    },
    {
      "cell_type": "code",
      "metadata": {
        "id": "OewiP50wPzpl",
        "colab_type": "code",
        "colab": {
          "base_uri": "https://localhost:8080/",
          "height": 34
        },
        "outputId": "e6204ba5-97e1-4b78-e35a-1964cab4d03c"
      },
      "source": [
        "%%writefile /drive/ngrok-ssh/tensorboard.yml\n",
        "tunnels:\n",
        "  tensorboard:\n",
        "    proto: http\n",
        "    addr: 6006\n",
        "    inspect: false\n",
        "    bind_tls: true"
      ],
      "execution_count": null,
      "outputs": [
        {
          "output_type": "stream",
          "text": [
            "Overwriting /drive/ngrok-ssh/tensorboard.yml\n"
          ],
          "name": "stdout"
        }
      ]
    },
    {
      "cell_type": "code",
      "metadata": {
        "id": "mcTC95zkRAA7",
        "colab_type": "code",
        "colab": {
          "base_uri": "https://localhost:8080/",
          "height": 34
        },
        "outputId": "c6b36fd0-a1c6-4075-ef1d-40817f876e5c"
      },
      "source": [
        "%%writefile /drive/ngrok-ssh/http8080.yml\n",
        "tunnels:\n",
        "  http8080:\n",
        "    proto: http\n",
        "    addr: 8080\n",
        "    inspect: false\n",
        "    bind_tls: true"
      ],
      "execution_count": null,
      "outputs": [
        {
          "output_type": "stream",
          "text": [
            "Overwriting /drive/ngrok-ssh/http8080.yml\n"
          ],
          "name": "stdout"
        }
      ]
    },
    {
      "cell_type": "code",
      "metadata": {
        "id": "jUBa9tBMTCQK",
        "colab_type": "code",
        "colab": {
          "base_uri": "https://localhost:8080/",
          "height": 34
        },
        "outputId": "5f3b7d71-b539-4af0-eb50-54a65d3c510d"
      },
      "source": [
        "%%writefile /drive/ngrok-ssh/tcp8080.yml\n",
        "tunnels:\n",
        "  tcp8080:\n",
        "    proto: tcp\n",
        "    addr: 8080"
      ],
      "execution_count": null,
      "outputs": [
        {
          "output_type": "stream",
          "text": [
            "Writing /drive/ngrok-ssh/tcp8080.yml\n"
          ],
          "name": "stdout"
        }
      ]
    },
    {
      "cell_type": "code",
      "metadata": {
        "id": "Ui8IvOpCQGAD",
        "colab_type": "code",
        "colab": {
          "base_uri": "https://localhost:8080/",
          "height": 34
        },
        "outputId": "31eaadf7-223b-4fcb-98d6-21c9b7b724f4"
      },
      "source": [
        "import os\n",
        "if 'COLAB_TPU_ADDR' in os.environ:\n",
        "  with open('/drive/ngrok-ssh/tpu.yml', 'w') as f:\n",
        "    f.write(\"\"\"\n",
        "tunnels:\n",
        "  tpu:\n",
        "    proto: tcp\n",
        "    addr: {}\n",
        "\"\"\".format(os.environ['COLAB_TPU_ADDR']).strip())\n",
        "  print('Wrote /drive/ngrok-ssh/tpu.yml')"
      ],
      "execution_count": null,
      "outputs": [
        {
          "output_type": "stream",
          "text": [
            "Wrote /drive/ngrok-ssh/tpu.yml\n"
          ],
          "name": "stdout"
        }
      ]
    },
    {
      "cell_type": "code",
      "metadata": {
        "id": "nT0-i3VoKjco",
        "colab_type": "code",
        "colab": {
          "base_uri": "https://localhost:8080/",
          "height": 34
        },
        "outputId": "41ca301e-66ce-4140-846a-077357ab4813"
      },
      "source": [
        "%%writefile /drive/ngrok-ssh/run_ngrok.sh\n",
        "#!/bin/sh\n",
        "set -x\n",
        "/ngrok start --config ~/.ngrok2/ngrok.yml --config /drive/ngrok-ssh/ssh.yml --log=stdout --config /drive/ngrok-ssh/tensorboard.yml --config /drive/ngrok-ssh/http8080.yml --config /drive/ngrok-ssh/tcp8080.yml --config /drive/ngrok-ssh/tpu.yml \"$@\""
      ],
      "execution_count": null,
      "outputs": [
        {
          "output_type": "stream",
          "text": [
            "Overwriting /drive/ngrok-ssh/run_ngrok.sh\n"
          ],
          "name": "stdout"
        }
      ]
    },
    {
      "cell_type": "markdown",
      "metadata": {
        "id": "oB6qmwwManfJ",
        "colab_type": "text"
      },
      "source": [
        "#Start ngrok"
      ]
    },
    {
      "cell_type": "code",
      "metadata": {
        "id": "Xr4-BRInUcEB",
        "colab_type": "code",
        "colab": {}
      },
      "source": [
        "import os\n",
        "if 'COLAB_TPU_ADDR' in os.environ:\n",
        "  get_ipython().system_raw('bash /drive/ngrok-ssh/run_ngrok.sh ssh tensorboard tcp8080 tpu &')\n",
        "else:\n",
        "  get_ipython().system_raw('bash /drive/ngrok-ssh/run_ngrok.sh ssh tensorboard tcp8080 &')"
      ],
      "execution_count": null,
      "outputs": []
    },
    {
      "cell_type": "code",
      "metadata": {
        "id": "kcj4Q_K9SF4v",
        "colab_type": "code",
        "colab": {
          "base_uri": "https://localhost:8080/",
          "height": 107
        },
        "outputId": "dc772b10-003b-4f6b-dd18-522e70bfee48"
      },
      "source": [
        "!ps aux | grep ngrok"
      ],
      "execution_count": null,
      "outputs": [
        {
          "output_type": "stream",
          "text": [
            "root        2345  0.0  0.0  39192  6660 ?        S    10:32   0:00 bash /drive/ngrok-ssh/run_ngrok.sh ssh tensorboard tcp8080 tpu\n",
            "root        2346  0.2  0.1 122768 19936 ?        Sl   10:32   0:01 /ngrok start --config /root/.ngrok2/ngrok.yml --config /drive/ngrok-ssh/ssh.yml --log=stdout --config /drive/ngrok-ssh/tensorboard.yml --config /drive/ngrok-ssh/http8080.yml --config /drive/ngrok-ssh/tcp8080.yml --config /drive/ngrok-ssh/tpu.yml ssh tensorboard tcp8080 tpu\n",
            "root        2599  0.0  0.0  39196  6620 ?        S    10:43   0:00 /bin/bash -c ps aux | grep ngrok\n",
            "root        2601  0.0  0.0  38568  4876 ?        S    10:43   0:00 grep ngrok\n"
          ],
          "name": "stdout"
        }
      ]
    },
    {
      "cell_type": "markdown",
      "metadata": {
        "id": "hSou5G_7bfpN",
        "colab_type": "text"
      },
      "source": [
        "# Make an ngrok API\n",
        "Let's define some helper functions:\n",
        "\n",
        "- `get_ngrok_info()` - returns a JSON object containing info about all open ngrok tunnels\n",
        "\n",
        "- `get_ngrok_tunnels()` - enumerate over all open ngrok tunnels. Yields `name, info` tuples.\n",
        "\n",
        "- `get_ngrok_tunnel(name)` - get info about a tunnel\n",
        "\n",
        "- `get_ngrok_url(name, local=False)` - get a tunnel's URL. If `local` is `False`, returns a public URL that anyone can access, otherwise returns the local url being forwarded"
      ]
    },
    {
      "cell_type": "code",
      "metadata": {
        "id": "2GOhOETZLfjI",
        "colab_type": "code",
        "colab": {}
      },
      "source": [
        "import requests\n",
        "import urllib.parse\n",
        "\n",
        "def get_ngrok_info():\n",
        "  return requests.get('http://localhost:4040/api/tunnels').json()\n",
        "\n",
        "def get_ngrok_tunnels():\n",
        "  for tunnel in get_ngrok_info()['tunnels']:\n",
        "    name = tunnel['name']\n",
        "    yield name, tunnel\n",
        "\n",
        "def get_ngrok_tunnel(name):\n",
        "  for name1, tunnel in get_ngrok_tunnels():\n",
        "    if name == name1:\n",
        "      return tunnel\n",
        "\n",
        "def get_ngrok_url(name, local=False):\n",
        "  if local:\n",
        "    return get_ngrok_tunnel(name)['config']['addr']\n",
        "  else:\n",
        "    return get_ngrok_tunnel(name)['public_url']"
      ],
      "execution_count": null,
      "outputs": []
    },
    {
      "cell_type": "markdown",
      "metadata": {
        "id": "RS0YENvSbCA2",
        "colab_type": "text"
      },
      "source": [
        "# Skip this section\n",
        "\n",
        "These are various commands for debugging ngrok."
      ]
    },
    {
      "cell_type": "code",
      "metadata": {
        "id": "_Nm37gOgT8Fs",
        "colab_type": "code",
        "colab": {
          "base_uri": "https://localhost:8080/",
          "height": 338
        },
        "outputId": "55e00bd5-64e1-499f-bc51-b670bcf5dcd6"
      },
      "source": [
        "#!bash /drive/ngrok-ssh/run_ngrok.sh ssh tensorboard tcp8080 tpu"
      ],
      "execution_count": null,
      "outputs": [
        {
          "output_type": "stream",
          "text": [
            "+ /ngrok start --config /root/.ngrok2/ngrok.yml --config /drive/ngrok-ssh/ssh.yml --log=stdout --config /drive/ngrok-ssh/tensorboard.yml --config /drive/ngrok-ssh/http8080.yml --config /drive/ngrok-ssh/tcp8080.yml --config /drive/ngrok-ssh/tpu.yml ssh tensorboard tcp8080 tpu\n",
            "\u001b[32mINFO\u001b[0m[11-13|10:31:21] open config file                         \u001b[32mpath\u001b[0m=/root/.ngrok2/ngrok.yml \u001b[32merr\u001b[0m=nil\n",
            "\u001b[32mINFO\u001b[0m[11-13|10:31:21] open config file                         \u001b[32mpath\u001b[0m=/drive/ngrok-ssh/ssh.yml \u001b[32merr\u001b[0m=nil\n",
            "\u001b[32mINFO\u001b[0m[11-13|10:31:21] open config file                         \u001b[32mpath\u001b[0m=/drive/ngrok-ssh/tensorboard.yml \u001b[32merr\u001b[0m=nil\n",
            "\u001b[32mINFO\u001b[0m[11-13|10:31:21] open config file                         \u001b[32mpath\u001b[0m=/drive/ngrok-ssh/http8080.yml \u001b[32merr\u001b[0m=nil\n",
            "\u001b[32mINFO\u001b[0m[11-13|10:31:21] open config file                         \u001b[32mpath\u001b[0m=/drive/ngrok-ssh/tcp8080.yml \u001b[32merr\u001b[0m=nil\n",
            "\u001b[32mINFO\u001b[0m[11-13|10:31:21] open config file                         \u001b[32mpath\u001b[0m=/drive/ngrok-ssh/tpu.yml \u001b[32merr\u001b[0m=nil\n",
            "t=2019-11-13T10:31:21+0000 lvl=info msg=\"starting web service\" obj=web addr=127.0.0.1:4040\n",
            "t=2019-11-13T10:31:21+0000 lvl=info msg=\"tunnel session started\" obj=tunnels.session\n",
            "t=2019-11-13T10:31:21+0000 lvl=info msg=\"client session established\" obj=csess id=b9264609890c\n",
            "t=2019-11-13T10:31:21+0000 lvl=info msg=\"started tunnel\" obj=tunnels name=ssh addr=//localhost:22 url=tcp://0.tcp.ngrok.io:10936\n",
            "t=2019-11-13T10:31:21+0000 lvl=info msg=\"started tunnel\" obj=tunnels name=tpu addr=//10.44.120.90:8470 url=tcp://0.tcp.ngrok.io:18574\n",
            "t=2019-11-13T10:31:21+0000 lvl=info msg=\"started tunnel\" obj=tunnels name=tcp8080 addr=//localhost:8080 url=tcp://0.tcp.ngrok.io:13225\n",
            "t=2019-11-13T10:31:21+0000 lvl=info msg=\"started tunnel\" obj=tunnels name=tensorboard addr=http://localhost:6006 url=https://816fecdb.ngrok.io\n",
            "t=2019-11-13T10:31:35+0000 lvl=info msg=\"received stop request\" obj=app stopReq=\"{err:<nil> restart:false}\"\n",
            "t=2019-11-13T10:31:35+0000 lvl=info msg=\"session closing\" obj=tunnels.session err=nil\n",
            "t=2019-11-13T10:31:35+0000 lvl=info msg=\"accept failed\" obj=csess id=b9264609890c err=\"reconnecting session closed\"\n"
          ],
          "name": "stdout"
        }
      ]
    },
    {
      "cell_type": "code",
      "metadata": {
        "id": "Vr6wsoUyKojz",
        "colab_type": "code",
        "colab": {
          "base_uri": "https://localhost:8080/",
          "height": 34
        },
        "outputId": "3a699985-ca7f-42dc-e5ee-61d5d72b2d6a"
      },
      "source": [
        "#!curl -s http://localhost:4040/api/tunnels  | python3 -c \"import sys, json; url=json.load(sys.stdin)['tunnels'][0]['public_url']; import urllib.parse; print(urllib.parse.urlparse(url).netloc)\""
      ],
      "execution_count": null,
      "outputs": [
        {
          "output_type": "stream",
          "text": [
            "0.tcp.ngrok.io:10596\n"
          ],
          "name": "stdout"
        }
      ]
    },
    {
      "cell_type": "markdown",
      "metadata": {
        "id": "-mEHcV72YTbC",
        "colab_type": "text"
      },
      "source": [
        "#Start Tensorboard"
      ]
    },
    {
      "cell_type": "code",
      "metadata": {
        "id": "NjmwmXijNA55",
        "colab_type": "code",
        "colab": {}
      },
      "source": [
        "LOG_DIR = '/drive/gpt-2-train/checkpoint/run1'\n",
        "get_ipython().system_raw(\n",
        "    'tensorboard --logdir {} --host 0.0.0.0 --port 6006 &'\n",
        "    .format(LOG_DIR)\n",
        ")\n"
      ],
      "execution_count": null,
      "outputs": []
    },
    {
      "cell_type": "code",
      "metadata": {
        "id": "ZnWHZoJLNVbs",
        "colab_type": "code",
        "colab": {
          "base_uri": "https://localhost:8080/",
          "height": 125
        },
        "outputId": "223b8e57-0687-45bb-cde9-0fdfe6ed286c"
      },
      "source": [
        "!ps aux | grep tensorboard"
      ],
      "execution_count": null,
      "outputs": [
        {
          "output_type": "stream",
          "text": [
            "root        1588  0.2  2.2 872976 304868 ?       Sl   10:00   0:06 /usr/bin/python2 /usr/local/bin/tensorboard --logdir /drive/gpt-2-train/checkpoint/run1 --host 0.0.0.0 --port 6006\n",
            "root        2345  0.0  0.0  39192  6660 ?        S    10:32   0:00 bash /drive/ngrok-ssh/run_ngrok.sh ssh tensorboard tcp8080 tpu\n",
            "root        2346  0.2  0.1 122768 19348 ?        Sl   10:32   0:01 /ngrok start --config /root/.ngrok2/ngrok.yml --config /drive/ngrok-ssh/ssh.yml --log=stdout --config /drive/ngrok-ssh/tensorboard.yml --config /drive/ngrok-ssh/http8080.yml --config /drive/ngrok-ssh/tcp8080.yml --config /drive/ngrok-ssh/tpu.yml ssh tensorboard tcp8080 tpu\n",
            "root        2500  0.0  0.0  39192  6624 ?        S    10:39   0:00 /bin/bash -c ps aux | grep tensorboard\n",
            "root        2502  0.0  0.0  38572  5684 ?        S    10:39   0:00 grep tensorboard\n"
          ],
          "name": "stdout"
        }
      ]
    },
    {
      "cell_type": "markdown",
      "metadata": {
        "id": "itCZCppEYd3l",
        "colab_type": "text"
      },
      "source": [
        "# How to view tensorboard"
      ]
    },
    {
      "cell_type": "code",
      "metadata": {
        "id": "cdVQ9TDrZONX",
        "colab_type": "code",
        "colab": {
          "base_uri": "https://localhost:8080/",
          "height": 34
        },
        "outputId": "9cb97925-2b37-464a-ca08-03dc7252e238"
      },
      "source": [
        "print('To view tensorboard, visit', get_ngrok_url('tensorboard'))"
      ],
      "execution_count": null,
      "outputs": [
        {
          "output_type": "stream",
          "text": [
            "To view tensorboard, visit https://1f6310e7.ngrok.io\n"
          ],
          "name": "stdout"
        }
      ]
    },
    {
      "cell_type": "markdown",
      "metadata": {
        "id": "9P8a-UgLZa3_",
        "colab_type": "text"
      },
      "source": [
        "# Display each ngrok URL\n",
        "\n",
        "For each ngrok tunnel, this cell prints its name, its public URL, and the local URL being forwarded to that public URL."
      ]
    },
    {
      "cell_type": "code",
      "metadata": {
        "id": "d28SLwBxZd4F",
        "colab_type": "code",
        "colab": {
          "base_uri": "https://localhost:8080/",
          "height": 87
        },
        "outputId": "3b2af0da-43b6-4c9f-c334-c918b32e94e7"
      },
      "source": [
        "for name, tunnel in get_ngrok_tunnels():\n",
        "  local_url = get_ngrok_url(name, local=True)\n",
        "  public_url = get_ngrok_url(name, local=False)\n",
        "  print('{:12s} {} <-> {}'.format(name, public_url, local_url))"
      ],
      "execution_count": null,
      "outputs": [
        {
          "output_type": "stream",
          "text": [
            "tpu          tcp://0.tcp.ngrok.io:16601 <-> 10.44.120.90:8470\n",
            "ssh          tcp://0.tcp.ngrok.io:10596 <-> localhost:22\n",
            "tcp8080      tcp://0.tcp.ngrok.io:10056 <-> localhost:8080\n",
            "tensorboard  https://1f6310e7.ngrok.io <-> http://localhost:6006\n"
          ],
          "name": "stdout"
        }
      ]
    },
    {
      "cell_type": "markdown",
      "metadata": {
        "id": "Y8_955M4ZGXX",
        "colab_type": "text"
      },
      "source": [
        "# How to SSH into this Colab instance"
      ]
    },
    {
      "cell_type": "code",
      "metadata": {
        "id": "BM-qgXeJWUb4",
        "colab_type": "code",
        "colab": {
          "base_uri": "https://localhost:8080/",
          "height": 87
        },
        "outputId": "9f32ef56-a387-4f6d-8f3a-ac4338b05598"
      },
      "source": [
        "print('')\n",
        "public_url, public_port = urllib.parse.urlparse(get_ngrok_url('ssh')).netloc.split(':')\n",
        "print('To SSH into this colab instance, run the following command on your local machine:')\n",
        "print('')\n",
        "\n",
        "print('  ssh -p {} root@{}'.format(public_port, public_url))"
      ],
      "execution_count": null,
      "outputs": [
        {
          "output_type": "stream",
          "text": [
            "\n",
            "To SSH into this colab instance, run the following command on your local machine:\n",
            "\n",
            "  ssh -p 10596 root@0.tcp.ngrok.io\n"
          ],
          "name": "stdout"
        }
      ]
    }
  ]
}