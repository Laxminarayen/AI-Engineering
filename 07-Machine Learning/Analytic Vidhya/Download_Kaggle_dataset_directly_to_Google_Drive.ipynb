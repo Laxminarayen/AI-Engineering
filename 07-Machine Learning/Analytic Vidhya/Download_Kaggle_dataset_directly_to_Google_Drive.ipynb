{
  "nbformat": 4,
  "nbformat_minor": 0,
  "metadata": {
    "colab": {
      "name": "Download Kaggle dataset directly to Google Drive.ipynb",
      "provenance": [],
      "collapsed_sections": [],
      "authorship_tag": "ABX9TyMzL2eLHBuxkwEkyNrk4+PW",
      "include_colab_link": true
    },
    "kernelspec": {
      "name": "python3",
      "display_name": "Python 3"
    }
  },
  "cells": [
    {
      "cell_type": "markdown",
      "metadata": {
        "id": "view-in-github",
        "colab_type": "text"
      },
      "source": [
        "<a href=\"https://colab.research.google.com/github/plthiyagu/Personnel/blob/master/Download_Kaggle_dataset_directly_to_Google_Drive.ipynb\" target=\"_parent\"><img src=\"https://colab.research.google.com/assets/colab-badge.svg\" alt=\"Open In Colab\"/></a>"
      ]
    },
    {
      "cell_type": "markdown",
      "metadata": {
        "id": "h7O6hEE8qfJY"
      },
      "source": [
        "#Download kaggle dataset directly togoogle Drive\n",
        "\n",
        "\n",
        "Steps to follow\n",
        "\n",
        "step 1 : Get your kaggle API token\n",
        "\n",
        "LogIn to kaggle.com\n",
        "\n",
        "Go to My Account section\n",
        "\n",
        "Scroll Down and find API section\n",
        "\n",
        "Now click on Create New API token and this will download a json file\n",
        "\n",
        "We will use the info from json file to download datasets\n",
        "\n",
        "Step 2: Get the kaggle dataset API to download\n",
        "\n",
        "Go to the dataset or competition whose data you want to download\n",
        "\n",
        "Go to data Section and copy the API command to download dataset\n",
        "\n",
        "save this command, we will use this next.\n",
        "\n",
        "Step 3: Open the notebook in colab and Run the cell and just provide the information\n",
        "\n",
        "information required:\n",
        "\n",
        "Username(from json file)\n",
        "\n",
        "key(from json file)\n",
        "\n",
        "location of project where you want to save data\n",
        "\n",
        "kaggle download data api"
      ]
    },
    {
      "cell_type": "code",
      "metadata": {
        "id": "uU5thAgvqyvt"
      },
      "source": [
        "import os\n",
        "from google.colab import drive\n",
        "drive.mount('/content/gdrive')\n",
        "\n",
        "os.environ['KAGGLE_USERNAME'] = input(\"Enter username from json file\") # username from the json file\n",
        "os.environ['KAGGLE_KEY'] = input(\"Enter key from json file\") # key from the json file\n",
        "\n",
        "path = input(\"Enter the location of project where you want to save data\")\n",
        "path= path.replace(\" \",\"\\ \")\n",
        "kaggle_api = input(\"Enter kaggle download data api\")\n",
        "kaggle = kaggle_api + \" -p \" + path\n",
        "os.system(kaggle)"
      ],
      "execution_count": null,
      "outputs": []
    },
    {
      "cell_type": "code",
      "metadata": {
        "id": "WA0_Fmd1rSgq"
      },
      "source": [
        "#https://github.com/pratikroy311/kaggle-to-drive"
      ],
      "execution_count": null,
      "outputs": []
    }
  ]
}