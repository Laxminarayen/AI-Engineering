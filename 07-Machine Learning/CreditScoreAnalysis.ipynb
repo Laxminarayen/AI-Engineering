{
  "nbformat": 4,
  "nbformat_minor": 0,
  "metadata": {
    "colab": {
      "name": "CreditScoreAnalysis.ipynb",
      "provenance": [],
      "collapsed_sections": []
    },
    "kernelspec": {
      "name": "python3",
      "display_name": "Python 3"
    }
  },
  "cells": [
    {
      "cell_type": "code",
      "metadata": {
        "id": "qGS4HcK6Dk9h",
        "colab_type": "code",
        "colab": {}
      },
      "source": [
        "import pandas as pd\n",
        "import numpy as np\n",
        "import matplotlib.pyplot as plt\n",
        "import itertools\n",
        "from sklearn.metrics import confusion_matrix"
      ],
      "execution_count": 0,
      "outputs": []
    },
    {
      "cell_type": "code",
      "metadata": {
        "id": "UKGsbAdXEj7N",
        "colab_type": "code",
        "outputId": "3ceceb01-e419-4832-fd76-09822da24a3a",
        "colab": {
          "base_uri": "https://localhost:8080/",
          "height": 122
        }
      },
      "source": [
        "from google.colab import drive\n",
        "drive.mount('/content/drive')"
      ],
      "execution_count": 0,
      "outputs": [
        {
          "output_type": "stream",
          "text": [
            "Go to this URL in a browser: https://accounts.google.com/o/oauth2/auth?client_id=947318989803-6bn6qk8qdgf4n4g3pfee6491hc0brc4i.apps.googleusercontent.com&redirect_uri=urn%3aietf%3awg%3aoauth%3a2.0%3aoob&response_type=code&scope=email%20https%3a%2f%2fwww.googleapis.com%2fauth%2fdocs.test%20https%3a%2f%2fwww.googleapis.com%2fauth%2fdrive%20https%3a%2f%2fwww.googleapis.com%2fauth%2fdrive.photos.readonly%20https%3a%2f%2fwww.googleapis.com%2fauth%2fpeopleapi.readonly\n",
            "\n",
            "Enter your authorization code:\n",
            "··········\n",
            "Mounted at /content/drive\n"
          ],
          "name": "stdout"
        }
      ]
    },
    {
      "cell_type": "code",
      "metadata": {
        "id": "xyEFiaMzElDA",
        "colab_type": "code",
        "outputId": "1a78220a-6bc0-440b-f390-bc5b562b8ad2",
        "colab": {
          "base_uri": "https://localhost:8080/",
          "height": 221
        }
      },
      "source": [
        "!ls '/content/drive/My Drive/Colab Notebooks/'"
      ],
      "execution_count": 0,
      "outputs": [
        {
          "output_type": "stream",
          "text": [
            " Coronavirus_Web_Scraping.ipynb\n",
            "'CoronoVirus Dataset Enrichment.ipynb'\n",
            " CreditScoreAnalysis.ipynb\n",
            " hmeq.csv\n",
            " Input\n",
            "'Installing and Running Pyspark in Colab and Local.ipynb'\n",
            " multiThreadingLearning.ipynb\n",
            "'Python Basics.ipynb'\n",
            "'Spark Transformation and Actions.ipynb'\n",
            "'Stastical Thinking-Imputing Missing Value.ipynb'\n",
            "'Twitter Analysis.ipynb'\n",
            " twitter.properties\n"
          ],
          "name": "stdout"
        }
      ]
    },
    {
      "cell_type": "code",
      "metadata": {
        "id": "jB8QiDtmEDF_",
        "colab_type": "code",
        "colab": {}
      },
      "source": [
        "df = pd.read_csv(\"/content/drive/My Drive/Colab Notebooks/hmeq.csv\")\n",
        "df_i = pd.read_csv(\"/content/drive/My Drive/Colab Notebooks/hmeq.csv\")"
      ],
      "execution_count": 0,
      "outputs": []
    },
    {
      "cell_type": "code",
      "metadata": {
        "id": "_MHrpmadE85A",
        "colab_type": "code",
        "outputId": "59c35d76-02d3-4389-a3d0-ee72d49933b2",
        "colab": {
          "base_uri": "https://localhost:8080/",
          "height": 204
        }
      },
      "source": [
        "df.head(5)"
      ],
      "execution_count": 0,
      "outputs": [
        {
          "output_type": "execute_result",
          "data": {
            "text/html": [
              "<div>\n",
              "<style scoped>\n",
              "    .dataframe tbody tr th:only-of-type {\n",
              "        vertical-align: middle;\n",
              "    }\n",
              "\n",
              "    .dataframe tbody tr th {\n",
              "        vertical-align: top;\n",
              "    }\n",
              "\n",
              "    .dataframe thead th {\n",
              "        text-align: right;\n",
              "    }\n",
              "</style>\n",
              "<table border=\"1\" class=\"dataframe\">\n",
              "  <thead>\n",
              "    <tr style=\"text-align: right;\">\n",
              "      <th></th>\n",
              "      <th>BAD</th>\n",
              "      <th>LOAN</th>\n",
              "      <th>MORTDUE</th>\n",
              "      <th>VALUE</th>\n",
              "      <th>REASON</th>\n",
              "      <th>JOB</th>\n",
              "      <th>YOJ</th>\n",
              "      <th>DEROG</th>\n",
              "      <th>DELINQ</th>\n",
              "      <th>CLAGE</th>\n",
              "      <th>NINQ</th>\n",
              "      <th>CLNO</th>\n",
              "      <th>DEBTINC</th>\n",
              "    </tr>\n",
              "  </thead>\n",
              "  <tbody>\n",
              "    <tr>\n",
              "      <th>0</th>\n",
              "      <td>1</td>\n",
              "      <td>1100</td>\n",
              "      <td>25860.0</td>\n",
              "      <td>39025.0</td>\n",
              "      <td>HomeImp</td>\n",
              "      <td>Other</td>\n",
              "      <td>10.5</td>\n",
              "      <td>0.0</td>\n",
              "      <td>0.0</td>\n",
              "      <td>94.366667</td>\n",
              "      <td>1.0</td>\n",
              "      <td>9.0</td>\n",
              "      <td>NaN</td>\n",
              "    </tr>\n",
              "    <tr>\n",
              "      <th>1</th>\n",
              "      <td>1</td>\n",
              "      <td>1300</td>\n",
              "      <td>70053.0</td>\n",
              "      <td>68400.0</td>\n",
              "      <td>HomeImp</td>\n",
              "      <td>Other</td>\n",
              "      <td>7.0</td>\n",
              "      <td>0.0</td>\n",
              "      <td>2.0</td>\n",
              "      <td>121.833333</td>\n",
              "      <td>0.0</td>\n",
              "      <td>14.0</td>\n",
              "      <td>NaN</td>\n",
              "    </tr>\n",
              "    <tr>\n",
              "      <th>2</th>\n",
              "      <td>1</td>\n",
              "      <td>1500</td>\n",
              "      <td>13500.0</td>\n",
              "      <td>16700.0</td>\n",
              "      <td>HomeImp</td>\n",
              "      <td>Other</td>\n",
              "      <td>4.0</td>\n",
              "      <td>0.0</td>\n",
              "      <td>0.0</td>\n",
              "      <td>149.466667</td>\n",
              "      <td>1.0</td>\n",
              "      <td>10.0</td>\n",
              "      <td>NaN</td>\n",
              "    </tr>\n",
              "    <tr>\n",
              "      <th>3</th>\n",
              "      <td>1</td>\n",
              "      <td>1500</td>\n",
              "      <td>NaN</td>\n",
              "      <td>NaN</td>\n",
              "      <td>NaN</td>\n",
              "      <td>NaN</td>\n",
              "      <td>NaN</td>\n",
              "      <td>NaN</td>\n",
              "      <td>NaN</td>\n",
              "      <td>NaN</td>\n",
              "      <td>NaN</td>\n",
              "      <td>NaN</td>\n",
              "      <td>NaN</td>\n",
              "    </tr>\n",
              "    <tr>\n",
              "      <th>4</th>\n",
              "      <td>0</td>\n",
              "      <td>1700</td>\n",
              "      <td>97800.0</td>\n",
              "      <td>112000.0</td>\n",
              "      <td>HomeImp</td>\n",
              "      <td>Office</td>\n",
              "      <td>3.0</td>\n",
              "      <td>0.0</td>\n",
              "      <td>0.0</td>\n",
              "      <td>93.333333</td>\n",
              "      <td>0.0</td>\n",
              "      <td>14.0</td>\n",
              "      <td>NaN</td>\n",
              "    </tr>\n",
              "  </tbody>\n",
              "</table>\n",
              "</div>"
            ],
            "text/plain": [
              "   BAD  LOAN  MORTDUE     VALUE  ...       CLAGE NINQ  CLNO  DEBTINC\n",
              "0    1  1100  25860.0   39025.0  ...   94.366667  1.0   9.0      NaN\n",
              "1    1  1300  70053.0   68400.0  ...  121.833333  0.0  14.0      NaN\n",
              "2    1  1500  13500.0   16700.0  ...  149.466667  1.0  10.0      NaN\n",
              "3    1  1500      NaN       NaN  ...         NaN  NaN   NaN      NaN\n",
              "4    0  1700  97800.0  112000.0  ...   93.333333  0.0  14.0      NaN\n",
              "\n",
              "[5 rows x 13 columns]"
            ]
          },
          "metadata": {
            "tags": []
          },
          "execution_count": 5
        }
      ]
    },
    {
      "cell_type": "code",
      "metadata": {
        "id": "5MLmu17-FNgy",
        "colab_type": "code",
        "outputId": "da2d3963-1b53-49a5-cd30-c5d3e9c17fc5",
        "colab": {
          "base_uri": "https://localhost:8080/",
          "height": 34
        }
      },
      "source": [
        "df.shape"
      ],
      "execution_count": 0,
      "outputs": [
        {
          "output_type": "execute_result",
          "data": {
            "text/plain": [
              "(5960, 13)"
            ]
          },
          "metadata": {
            "tags": []
          },
          "execution_count": 6
        }
      ]
    },
    {
      "cell_type": "code",
      "metadata": {
        "id": "6NdOKHh7FT-g",
        "colab_type": "code",
        "outputId": "6c2078a4-bbc9-4cac-c03b-c21c39cd550d",
        "colab": {
          "base_uri": "https://localhost:8080/",
          "height": 297
        }
      },
      "source": [
        "df.describe()"
      ],
      "execution_count": 0,
      "outputs": [
        {
          "output_type": "execute_result",
          "data": {
            "text/html": [
              "<div>\n",
              "<style scoped>\n",
              "    .dataframe tbody tr th:only-of-type {\n",
              "        vertical-align: middle;\n",
              "    }\n",
              "\n",
              "    .dataframe tbody tr th {\n",
              "        vertical-align: top;\n",
              "    }\n",
              "\n",
              "    .dataframe thead th {\n",
              "        text-align: right;\n",
              "    }\n",
              "</style>\n",
              "<table border=\"1\" class=\"dataframe\">\n",
              "  <thead>\n",
              "    <tr style=\"text-align: right;\">\n",
              "      <th></th>\n",
              "      <th>BAD</th>\n",
              "      <th>LOAN</th>\n",
              "      <th>MORTDUE</th>\n",
              "      <th>VALUE</th>\n",
              "      <th>YOJ</th>\n",
              "      <th>DEROG</th>\n",
              "      <th>DELINQ</th>\n",
              "      <th>CLAGE</th>\n",
              "      <th>NINQ</th>\n",
              "      <th>CLNO</th>\n",
              "      <th>DEBTINC</th>\n",
              "    </tr>\n",
              "  </thead>\n",
              "  <tbody>\n",
              "    <tr>\n",
              "      <th>count</th>\n",
              "      <td>5960.000000</td>\n",
              "      <td>5960.000000</td>\n",
              "      <td>5442.000000</td>\n",
              "      <td>5848.000000</td>\n",
              "      <td>5445.000000</td>\n",
              "      <td>5252.000000</td>\n",
              "      <td>5380.000000</td>\n",
              "      <td>5652.000000</td>\n",
              "      <td>5450.000000</td>\n",
              "      <td>5738.000000</td>\n",
              "      <td>4693.000000</td>\n",
              "    </tr>\n",
              "    <tr>\n",
              "      <th>mean</th>\n",
              "      <td>0.199497</td>\n",
              "      <td>18607.969799</td>\n",
              "      <td>73760.817200</td>\n",
              "      <td>101776.048741</td>\n",
              "      <td>8.922268</td>\n",
              "      <td>0.254570</td>\n",
              "      <td>0.449442</td>\n",
              "      <td>179.766275</td>\n",
              "      <td>1.186055</td>\n",
              "      <td>21.296096</td>\n",
              "      <td>33.779915</td>\n",
              "    </tr>\n",
              "    <tr>\n",
              "      <th>std</th>\n",
              "      <td>0.399656</td>\n",
              "      <td>11207.480417</td>\n",
              "      <td>44457.609458</td>\n",
              "      <td>57385.775334</td>\n",
              "      <td>7.573982</td>\n",
              "      <td>0.846047</td>\n",
              "      <td>1.127266</td>\n",
              "      <td>85.810092</td>\n",
              "      <td>1.728675</td>\n",
              "      <td>10.138933</td>\n",
              "      <td>8.601746</td>\n",
              "    </tr>\n",
              "    <tr>\n",
              "      <th>min</th>\n",
              "      <td>0.000000</td>\n",
              "      <td>1100.000000</td>\n",
              "      <td>2063.000000</td>\n",
              "      <td>8000.000000</td>\n",
              "      <td>0.000000</td>\n",
              "      <td>0.000000</td>\n",
              "      <td>0.000000</td>\n",
              "      <td>0.000000</td>\n",
              "      <td>0.000000</td>\n",
              "      <td>0.000000</td>\n",
              "      <td>0.524499</td>\n",
              "    </tr>\n",
              "    <tr>\n",
              "      <th>25%</th>\n",
              "      <td>0.000000</td>\n",
              "      <td>11100.000000</td>\n",
              "      <td>46276.000000</td>\n",
              "      <td>66075.500000</td>\n",
              "      <td>3.000000</td>\n",
              "      <td>0.000000</td>\n",
              "      <td>0.000000</td>\n",
              "      <td>115.116702</td>\n",
              "      <td>0.000000</td>\n",
              "      <td>15.000000</td>\n",
              "      <td>29.140031</td>\n",
              "    </tr>\n",
              "    <tr>\n",
              "      <th>50%</th>\n",
              "      <td>0.000000</td>\n",
              "      <td>16300.000000</td>\n",
              "      <td>65019.000000</td>\n",
              "      <td>89235.500000</td>\n",
              "      <td>7.000000</td>\n",
              "      <td>0.000000</td>\n",
              "      <td>0.000000</td>\n",
              "      <td>173.466667</td>\n",
              "      <td>1.000000</td>\n",
              "      <td>20.000000</td>\n",
              "      <td>34.818262</td>\n",
              "    </tr>\n",
              "    <tr>\n",
              "      <th>75%</th>\n",
              "      <td>0.000000</td>\n",
              "      <td>23300.000000</td>\n",
              "      <td>91488.000000</td>\n",
              "      <td>119824.250000</td>\n",
              "      <td>13.000000</td>\n",
              "      <td>0.000000</td>\n",
              "      <td>0.000000</td>\n",
              "      <td>231.562278</td>\n",
              "      <td>2.000000</td>\n",
              "      <td>26.000000</td>\n",
              "      <td>39.003141</td>\n",
              "    </tr>\n",
              "    <tr>\n",
              "      <th>max</th>\n",
              "      <td>1.000000</td>\n",
              "      <td>89900.000000</td>\n",
              "      <td>399550.000000</td>\n",
              "      <td>855909.000000</td>\n",
              "      <td>41.000000</td>\n",
              "      <td>10.000000</td>\n",
              "      <td>15.000000</td>\n",
              "      <td>1168.233561</td>\n",
              "      <td>17.000000</td>\n",
              "      <td>71.000000</td>\n",
              "      <td>203.312149</td>\n",
              "    </tr>\n",
              "  </tbody>\n",
              "</table>\n",
              "</div>"
            ],
            "text/plain": [
              "               BAD          LOAN  ...         CLNO      DEBTINC\n",
              "count  5960.000000   5960.000000  ...  5738.000000  4693.000000\n",
              "mean      0.199497  18607.969799  ...    21.296096    33.779915\n",
              "std       0.399656  11207.480417  ...    10.138933     8.601746\n",
              "min       0.000000   1100.000000  ...     0.000000     0.524499\n",
              "25%       0.000000  11100.000000  ...    15.000000    29.140031\n",
              "50%       0.000000  16300.000000  ...    20.000000    34.818262\n",
              "75%       0.000000  23300.000000  ...    26.000000    39.003141\n",
              "max       1.000000  89900.000000  ...    71.000000   203.312149\n",
              "\n",
              "[8 rows x 11 columns]"
            ]
          },
          "metadata": {
            "tags": []
          },
          "execution_count": 7
        }
      ]
    },
    {
      "cell_type": "code",
      "metadata": {
        "id": "mTerzChuFdPF",
        "colab_type": "code",
        "outputId": "45e5fbef-afd4-4a88-a8d9-ea1887dbd169",
        "colab": {
          "base_uri": "https://localhost:8080/",
          "height": 68
        }
      },
      "source": [
        "df.columns"
      ],
      "execution_count": 0,
      "outputs": [
        {
          "output_type": "execute_result",
          "data": {
            "text/plain": [
              "Index(['BAD', 'LOAN', 'MORTDUE', 'VALUE', 'REASON', 'JOB', 'YOJ', 'DEROG',\n",
              "       'DELINQ', 'CLAGE', 'NINQ', 'CLNO', 'DEBTINC'],\n",
              "      dtype='object')"
            ]
          },
          "metadata": {
            "tags": []
          },
          "execution_count": 8
        }
      ]
    },
    {
      "cell_type": "code",
      "metadata": {
        "id": "3gbbL6PIFg3h",
        "colab_type": "code",
        "outputId": "49646a5c-0575-48ee-995f-936636ad0a10",
        "colab": {
          "base_uri": "https://localhost:8080/",
          "height": 255
        }
      },
      "source": [
        "df.dtypes"
      ],
      "execution_count": 0,
      "outputs": [
        {
          "output_type": "execute_result",
          "data": {
            "text/plain": [
              "BAD          int64\n",
              "LOAN         int64\n",
              "MORTDUE    float64\n",
              "VALUE      float64\n",
              "REASON      object\n",
              "JOB         object\n",
              "YOJ        float64\n",
              "DEROG      float64\n",
              "DELINQ     float64\n",
              "CLAGE      float64\n",
              "NINQ       float64\n",
              "CLNO       float64\n",
              "DEBTINC    float64\n",
              "dtype: object"
            ]
          },
          "metadata": {
            "tags": []
          },
          "execution_count": 11
        }
      ]
    },
    {
      "cell_type": "code",
      "metadata": {
        "id": "agpplhU5Vvab",
        "colab_type": "code",
        "outputId": "8affb274-1647-43ed-bf78-7139b0c8fcdd",
        "colab": {
          "base_uri": "https://localhost:8080/",
          "height": 357
        }
      },
      "source": [
        "df.info()"
      ],
      "execution_count": 0,
      "outputs": [
        {
          "output_type": "stream",
          "text": [
            "<class 'pandas.core.frame.DataFrame'>\n",
            "RangeIndex: 5960 entries, 0 to 5959\n",
            "Data columns (total 13 columns):\n",
            " #   Column   Non-Null Count  Dtype  \n",
            "---  ------   --------------  -----  \n",
            " 0   BAD      5960 non-null   int64  \n",
            " 1   LOAN     5960 non-null   int64  \n",
            " 2   MORTDUE  5442 non-null   float64\n",
            " 3   VALUE    5848 non-null   float64\n",
            " 4   REASON   5708 non-null   object \n",
            " 5   JOB      5681 non-null   object \n",
            " 6   YOJ      5445 non-null   float64\n",
            " 7   DEROG    5252 non-null   float64\n",
            " 8   DELINQ   5380 non-null   float64\n",
            " 9   CLAGE    5652 non-null   float64\n",
            " 10  NINQ     5450 non-null   float64\n",
            " 11  CLNO     5738 non-null   float64\n",
            " 12  DEBTINC  4693 non-null   float64\n",
            "dtypes: float64(9), int64(2), object(2)\n",
            "memory usage: 605.4+ KB\n"
          ],
          "name": "stdout"
        }
      ]
    },
    {
      "cell_type": "code",
      "metadata": {
        "id": "sv1ubX4bFi4D",
        "colab_type": "code",
        "outputId": "38ea5ddc-9a5d-42cc-8fbf-6e3778746c1e",
        "colab": {
          "base_uri": "https://localhost:8080/",
          "height": 68
        }
      },
      "source": [
        "print(df[\"BAD\"].value_counts())"
      ],
      "execution_count": 0,
      "outputs": [
        {
          "output_type": "stream",
          "text": [
            "0    4771\n",
            "1    1189\n",
            "Name: BAD, dtype: int64\n"
          ],
          "name": "stdout"
        }
      ]
    },
    {
      "cell_type": "code",
      "metadata": {
        "id": "-yu7jMzyF2fE",
        "colab_type": "code",
        "outputId": "360d5851-ca68-44dd-9fb9-b2aba0ab529d",
        "colab": {
          "base_uri": "https://localhost:8080/",
          "height": 282
        }
      },
      "source": [
        "df[\"BAD\"].value_counts().plot(kind='bar')"
      ],
      "execution_count": 0,
      "outputs": [
        {
          "output_type": "execute_result",
          "data": {
            "text/plain": [
              "<matplotlib.axes._subplots.AxesSubplot at 0x7f65e04e0630>"
            ]
          },
          "metadata": {
            "tags": []
          },
          "execution_count": 18
        },
        {
          "output_type": "display_data",
          "data": {
            "image/png": "[encoded data removed]",
            "text/plain": [
              "<Figure size 432x288 with 1 Axes>"
            ]
          },
          "metadata": {
            "tags": [],
            "needs_background": "light"
          }
        }
      ]
    },
    {
      "cell_type": "code",
      "metadata": {
        "id": "XeYTxoK1aM83",
        "colab_type": "code",
        "outputId": "5006a243-713c-4276-eb30-c2fe4d270fe0",
        "colab": {
          "base_uri": "https://localhost:8080/",
          "height": 136
        }
      },
      "source": [
        "print(df[\"JOB\"].value_counts())"
      ],
      "execution_count": 0,
      "outputs": [
        {
          "output_type": "stream",
          "text": [
            "Other      2388\n",
            "ProfExe    1276\n",
            "Office      948\n",
            "Mgr         767\n",
            "Self        193\n",
            "Sales       109\n",
            "Name: JOB, dtype: int64\n"
          ],
          "name": "stdout"
        }
      ]
    },
    {
      "cell_type": "code",
      "metadata": {
        "id": "tmakKmNZaOa7",
        "colab_type": "code",
        "outputId": "727bfc11-32b9-452b-9c81-fead5f88d3dd",
        "colab": {
          "base_uri": "https://localhost:8080/",
          "height": 473
        }
      },
      "source": [
        "df[\"LOAN\"].plot.hist(bins = 20,figsize=(15,7.5))"
      ],
      "execution_count": 0,
      "outputs": [
        {
          "output_type": "execute_result",
          "data": {
            "text/plain": [
              "<matplotlib.axes._subplots.AxesSubplot at 0x7f65e0445470>"
            ]
          },
          "metadata": {
            "tags": []
          },
          "execution_count": 20
        },
        {
          "output_type": "display_data",
          "data": {
            "image/png": "[encoded data removed]",
            "text/plain": [
              "<Figure size 1080x540 with 1 Axes>"
            ]
          },
          "metadata": {
            "tags": [],
            "needs_background": "light"
          }
        }
      ]
    },
    {
      "cell_type": "code",
      "metadata": {
        "id": "IpheP2MQa5Fz",
        "colab_type": "code",
        "outputId": "6acc42f1-2260-4578-fb0d-8ea1b2428514",
        "colab": {
          "base_uri": "https://localhost:8080/",
          "height": 337
        }
      },
      "source": [
        "df[\"DEBTINC\"].plot.hist(bins = 20,figsize=(15,5))"
      ],
      "execution_count": 0,
      "outputs": [
        {
          "output_type": "execute_result",
          "data": {
            "text/plain": [
              "<matplotlib.axes._subplots.AxesSubplot at 0x7f65e055b978>"
            ]
          },
          "metadata": {
            "tags": []
          },
          "execution_count": 21
        },
        {
          "output_type": "display_data",
          "data": {
            "image/png": "[encoded data removed]",
            "text/plain": [
              "<Figure size 1080x360 with 1 Axes>"
            ]
          },
          "metadata": {
            "tags": [],
            "needs_background": "light"
          }
        }
      ]
    },
    {
      "cell_type": "code",
      "metadata": {
        "id": "T7r8xVOYa9-w",
        "colab_type": "code",
        "outputId": "024ad642-3465-4d5b-aeba-756e99b399ae",
        "colab": {
          "base_uri": "https://localhost:8080/",
          "height": 473
        }
      },
      "source": [
        "df[\"CLAGE\"].plot.hist(bins = 20,figsize=(15,7.5))"
      ],
      "execution_count": 0,
      "outputs": [
        {
          "output_type": "execute_result",
          "data": {
            "text/plain": [
              "<matplotlib.axes._subplots.AxesSubplot at 0x7f65e0366828>"
            ]
          },
          "metadata": {
            "tags": []
          },
          "execution_count": 22
        },
        {
          "output_type": "display_data",
          "data": {
            "image/png": "[encoded data removed]",
            "text/plain": [
              "<Figure size 1080x540 with 1 Axes>"
            ]
          },
          "metadata": {
            "tags": [],
            "needs_background": "light"
          }
        }
      ]
    },
    {
      "cell_type": "code",
      "metadata": {
        "id": "XXQ9Zsc7bBHr",
        "colab_type": "code",
        "outputId": "fed644a9-2a8b-424a-e735-7196fda0230b",
        "colab": {
          "base_uri": "https://localhost:8080/",
          "height": 337
        }
      },
      "source": [
        "df[\"CLNO\"].plot.hist(bins = 20,figsize=(15,5))"
      ],
      "execution_count": 0,
      "outputs": [
        {
          "output_type": "execute_result",
          "data": {
            "text/plain": [
              "<matplotlib.axes._subplots.AxesSubplot at 0x7f65e02f3b38>"
            ]
          },
          "metadata": {
            "tags": []
          },
          "execution_count": 23
        },
        {
          "output_type": "display_data",
          "data": {
            "image/png": "[encoded data removed]",
            "text/plain": [
              "<Figure size 1080x360 with 1 Axes>"
            ]
          },
          "metadata": {
            "tags": [],
            "needs_background": "light"
          }
        }
      ]
    },
    {
      "cell_type": "code",
      "metadata": {
        "id": "lsww3WuJbEE1",
        "colab_type": "code",
        "outputId": "f24f7198-ec95-424b-9d22-8a6385933578",
        "colab": {
          "base_uri": "https://localhost:8080/",
          "height": 473
        }
      },
      "source": [
        "df[\"VALUE\"].plot.hist(bins = 80,figsize=(15,7.5))"
      ],
      "execution_count": 0,
      "outputs": [
        {
          "output_type": "execute_result",
          "data": {
            "text/plain": [
              "<matplotlib.axes._subplots.AxesSubplot at 0x7f65e02e6588>"
            ]
          },
          "metadata": {
            "tags": []
          },
          "execution_count": 24
        },
        {
          "output_type": "display_data",
          "data": {
            "image/png": "[encoded data removed]",
            "text/plain": [
              "<Figure size 1080x540 with 1 Axes>"
            ]
          },
          "metadata": {
            "tags": [],
            "needs_background": "light"
          }
        }
      ]
    },
    {
      "cell_type": "code",
      "metadata": {
        "id": "C90ywHDVbHCO",
        "colab_type": "code",
        "outputId": "366fdfc0-f223-4b70-d043-89825710d0f6",
        "colab": {
          "base_uri": "https://localhost:8080/",
          "height": 473
        }
      },
      "source": [
        "df[\"MORTDUE\"].plot.hist(bins = 40,figsize=(15,7.5))"
      ],
      "execution_count": 0,
      "outputs": [
        {
          "output_type": "execute_result",
          "data": {
            "text/plain": [
              "<matplotlib.axes._subplots.AxesSubplot at 0x7f65e01cb400>"
            ]
          },
          "metadata": {
            "tags": []
          },
          "execution_count": 25
        },
        {
          "output_type": "display_data",
          "data": {
            "image/png": "[encoded data removed]",
            "text/plain": [
              "<Figure size 1080x540 with 1 Axes>"
            ]
          },
          "metadata": {
            "tags": [],
            "needs_background": "light"
          }
        }
      ]
    },
    {
      "cell_type": "code",
      "metadata": {
        "id": "GAX6Fj3mbKFn",
        "colab_type": "code",
        "outputId": "c9d6b608-d3ed-478c-8bc3-69825e3af780",
        "colab": {
          "base_uri": "https://localhost:8080/",
          "height": 473
        }
      },
      "source": [
        "df[\"YOJ\"].plot.hist(bins = 40,figsize=(15,7.5))\n"
      ],
      "execution_count": 0,
      "outputs": [
        {
          "output_type": "execute_result",
          "data": {
            "text/plain": [
              "<matplotlib.axes._subplots.AxesSubplot at 0x7f65e001c940>"
            ]
          },
          "metadata": {
            "tags": []
          },
          "execution_count": 26
        },
        {
          "output_type": "display_data",
          "data": {
            "image/png": "[encoded data removed]",
            "text/plain": [
              "<Figure size 1080x540 with 1 Axes>"
            ]
          },
          "metadata": {
            "tags": [],
            "needs_background": "light"
          }
        }
      ]
    },
    {
      "cell_type": "code",
      "metadata": {
        "id": "nnbH4bE2bM4B",
        "colab_type": "code",
        "outputId": "3743a236-8bc8-4442-ccc1-4eaad2bab547",
        "colab": {
          "base_uri": "https://localhost:8080/",
          "height": 221
        }
      },
      "source": [
        "df[\"DEROG\"].value_counts()"
      ],
      "execution_count": 0,
      "outputs": [
        {
          "output_type": "execute_result",
          "data": {
            "text/plain": [
              "0.0     4527\n",
              "1.0      435\n",
              "2.0      160\n",
              "3.0       58\n",
              "4.0       23\n",
              "6.0       15\n",
              "5.0       15\n",
              "7.0        8\n",
              "8.0        6\n",
              "9.0        3\n",
              "10.0       2\n",
              "Name: DEROG, dtype: int64"
            ]
          },
          "metadata": {
            "tags": []
          },
          "execution_count": 27
        }
      ]
    },
    {
      "cell_type": "code",
      "metadata": {
        "id": "Cl8IQl_ybPiq",
        "colab_type": "code",
        "outputId": "e28a0f42-e0bd-41f0-d3a0-e73fb50a7600",
        "colab": {
          "base_uri": "https://localhost:8080/",
          "height": 272
        }
      },
      "source": [
        "df[\"DELINQ\"].value_counts()"
      ],
      "execution_count": 0,
      "outputs": [
        {
          "output_type": "execute_result",
          "data": {
            "text/plain": [
              "0.0     4179\n",
              "1.0      654\n",
              "2.0      250\n",
              "3.0      129\n",
              "4.0       78\n",
              "5.0       38\n",
              "6.0       27\n",
              "7.0       13\n",
              "8.0        5\n",
              "11.0       2\n",
              "10.0       2\n",
              "13.0       1\n",
              "12.0       1\n",
              "15.0       1\n",
              "Name: DELINQ, dtype: int64"
            ]
          },
          "metadata": {
            "tags": []
          },
          "execution_count": 28
        }
      ]
    },
    {
      "cell_type": "code",
      "metadata": {
        "id": "Yrjt7KUKbSMV",
        "colab_type": "code",
        "outputId": "80db7fa6-c2f2-4d79-81b4-eb4f993c7556",
        "colab": {
          "base_uri": "https://localhost:8080/",
          "height": 306
        }
      },
      "source": [
        "df[\"NINQ\"].value_counts()"
      ],
      "execution_count": 0,
      "outputs": [
        {
          "output_type": "execute_result",
          "data": {
            "text/plain": [
              "0.0     2531\n",
              "1.0     1339\n",
              "2.0      780\n",
              "3.0      392\n",
              "4.0      156\n",
              "5.0       75\n",
              "6.0       56\n",
              "7.0       44\n",
              "10.0      28\n",
              "8.0       22\n",
              "9.0       11\n",
              "11.0      10\n",
              "13.0       2\n",
              "12.0       2\n",
              "17.0       1\n",
              "14.0       1\n",
              "Name: NINQ, dtype: int64"
            ]
          },
          "metadata": {
            "tags": []
          },
          "execution_count": 29
        }
      ]
    },
    {
      "cell_type": "code",
      "metadata": {
        "id": "FxKsvwQqbUtU",
        "colab_type": "code",
        "outputId": "0267c66a-febc-4d0c-f426-6aa4113a9806",
        "colab": {
          "base_uri": "https://localhost:8080/",
          "height": 255
        }
      },
      "source": [
        "df.isnull().sum()"
      ],
      "execution_count": 0,
      "outputs": [
        {
          "output_type": "execute_result",
          "data": {
            "text/plain": [
              "BAD           0\n",
              "LOAN          0\n",
              "MORTDUE     518\n",
              "VALUE       112\n",
              "REASON      252\n",
              "JOB         279\n",
              "YOJ         515\n",
              "DEROG       708\n",
              "DELINQ      580\n",
              "CLAGE       308\n",
              "NINQ        510\n",
              "CLNO        222\n",
              "DEBTINC    1267\n",
              "dtype: int64"
            ]
          },
          "metadata": {
            "tags": []
          },
          "execution_count": 30
        }
      ]
    },
    {
      "cell_type": "code",
      "metadata": {
        "id": "PBIbiXOLbaLd",
        "colab_type": "code",
        "colab": {}
      },
      "source": [
        "df[\"REASON\"].fillna(value = \"DebtCon\",inplace = True)\n",
        "df[\"JOB\"].fillna(value = \"Other\",inplace = True)"
      ],
      "execution_count": 0,
      "outputs": []
    },
    {
      "cell_type": "code",
      "metadata": {
        "id": "x9kDbUu1bnf4",
        "colab_type": "code",
        "colab": {}
      },
      "source": [
        "df[\"DEROG\"].fillna(value=0,inplace=True)\n",
        "df[\"DELINQ\"].fillna(value=0,inplace=True)"
      ],
      "execution_count": 0,
      "outputs": []
    },
    {
      "cell_type": "code",
      "metadata": {
        "id": "6TzdYS23bqjy",
        "colab_type": "code",
        "colab": {}
      },
      "source": [
        "df.fillna(value=df.mean(),inplace=True)"
      ],
      "execution_count": 0,
      "outputs": []
    },
    {
      "cell_type": "code",
      "metadata": {
        "id": "luw9IfZVbv0k",
        "colab_type": "code",
        "outputId": "0381c7dd-8ed0-41e5-ef9c-100ce0bb9bbe",
        "colab": {
          "base_uri": "https://localhost:8080/",
          "height": 255
        }
      },
      "source": [
        "df.isnull().sum()"
      ],
      "execution_count": 0,
      "outputs": [
        {
          "output_type": "execute_result",
          "data": {
            "text/plain": [
              "BAD        0\n",
              "LOAN       0\n",
              "MORTDUE    0\n",
              "VALUE      0\n",
              "REASON     0\n",
              "JOB        0\n",
              "YOJ        0\n",
              "DEROG      0\n",
              "DELINQ     0\n",
              "CLAGE      0\n",
              "NINQ       0\n",
              "CLNO       0\n",
              "DEBTINC    0\n",
              "dtype: int64"
            ]
          },
          "metadata": {
            "tags": []
          },
          "execution_count": 34
        }
      ]
    },
    {
      "cell_type": "code",
      "metadata": {
        "id": "kqFpYIMAcD1x",
        "colab_type": "code",
        "outputId": "98a1f0b9-0a7e-4ab3-e677-b7f97bc379a6",
        "colab": {
          "base_uri": "https://localhost:8080/",
          "height": 275
        }
      },
      "source": [
        "from sklearn.model_selection import train_test_split\n",
        "from sklearn.linear_model import LogisticRegression\n",
        "\n",
        "# removing the features BAD,JOB,REASON from the input features set\n",
        "x_basic = df.drop(columns=[\"BAD\",\"JOB\",\"REASON\"])\n",
        "y = df[\"BAD\"]\n",
        "\n",
        "# Spliting the data into test and train sets\n",
        "x_basic_tr,x_basic_te,y_tr,y_te = train_test_split(x_basic,y,test_size =.33,random_state=1)\n",
        "logreg_basic = LogisticRegression()\n",
        "\n",
        "# Training the basic logistic regression model with training set \n",
        "logreg_basic.fit(x_basic_tr,y_tr)\n",
        "\n",
        "# Printing the coefficients\n",
        "print(\"intercept \")\n",
        "print(logreg_basic.intercept_)\n",
        "print(\"\")\n",
        "print(\"coefficients \")\n",
        "print(logreg_basic.coef_)\n",
        "\n",
        "# Predicting the output of the test cases using the algorithm created above\n",
        "y_pre = logreg_basic.predict(x_basic_te)\n",
        "\n",
        "# Validating the algorithm using various Performance metrics\n",
        "from sklearn.metrics import accuracy_score, f1_score, precision_score, recall_score\n",
        "print(\"\")\n",
        "a1 = accuracy_score(y_te,y_pre)\n",
        "f1 = f1_score(y_te, y_pre, average=\"macro\")\n",
        "p1 = precision_score(y_te, y_pre, average=\"macro\")\n",
        "r1 = recall_score(y_te, y_pre, average=\"macro\")\n",
        "print(\"accuracy score : \",a1)\n",
        "print(\"f1 score : \",f1)\n",
        "print(\"precision score : \",p1)\n",
        "print(\"recall score : \",r1)"
      ],
      "execution_count": 0,
      "outputs": [
        {
          "output_type": "stream",
          "text": [
            "intercept \n",
            "[-1.59627066e-05]\n",
            "\n",
            "coefficients \n",
            "[[-1.74585580e-05 -4.03509497e-06  2.41619806e-06 -2.45188332e-04\n",
            "   6.35257531e-05  9.45516742e-05 -6.12407301e-03  6.99725625e-05\n",
            "  -2.10155129e-04 -1.50331853e-04]]\n",
            "\n",
            "accuracy score :  0.7935943060498221\n",
            "f1 score :  0.44246031746031744\n",
            "precision score :  0.39679715302491103\n",
            "recall score :  0.5\n"
          ],
          "name": "stdout"
        },
        {
          "output_type": "stream",
          "text": [
            "/usr/local/lib/python3.6/dist-packages/sklearn/metrics/_classification.py:1272: UndefinedMetricWarning: Precision is ill-defined and being set to 0.0 in labels with no predicted samples. Use `zero_division` parameter to control this behavior.\n",
            "  _warn_prf(average, modifier, msg_start, len(result))\n"
          ],
          "name": "stderr"
        }
      ]
    },
    {
      "cell_type": "code",
      "metadata": {
        "id": "OgpqwugYcN81",
        "colab_type": "code",
        "colab": {}
      },
      "source": [
        "def plot_confusion_matrix(cm, classes,\n",
        "                          normalize=False,\n",
        "                          title='Confusion matrix',\n",
        "                          cmap=plt.cm.Blues):\n",
        "    \"\"\"\n",
        "    This function prints and plots the confusion matrix.\n",
        "    Normalization can be applied by setting `normalize=True`.\n",
        "    \"\"\"\n",
        "    if normalize:\n",
        "        cm = cm.astype('float') / cm.sum(axis=1)[:, np.newaxis]\n",
        "        print(\"Normalized confusion matrix\")\n",
        "    else:\n",
        "        print('Confusion matrix, without normalization')\n",
        "\n",
        "    print(cm)\n",
        "\n",
        "    plt.imshow(cm, interpolation='nearest', cmap=cmap)\n",
        "    plt.title(title)\n",
        "    plt.colorbar()\n",
        "    tick_marks = np.arange(len(classes))\n",
        "    plt.xticks(tick_marks, classes, rotation=45)\n",
        "    plt.yticks(tick_marks, classes)\n",
        "\n",
        "    fmt = '.2f' if normalize else 'd'\n",
        "    thresh = cm.max() / 2.\n",
        "    for i, j in itertools.product(range(cm.shape[0]), range(cm.shape[1])):\n",
        "        plt.text(j, i, format(cm[i, j], fmt),\n",
        "                 horizontalalignment=\"center\",\n",
        "                 color=\"white\" if cm[i, j] > thresh else \"black\")\n",
        "\n",
        "    plt.tight_layout()\n",
        "    plt.ylabel('True label')\n",
        "    plt.xlabel('Predicted label')\n",
        "    #plt.show()\n"
      ],
      "execution_count": 0,
      "outputs": []
    },
    {
      "cell_type": "code",
      "metadata": {
        "id": "F-IA3TexcXLM",
        "colab_type": "code",
        "outputId": "8dd7705f-a892-4d12-95dc-dcc9fb016cfd",
        "colab": {
          "base_uri": "https://localhost:8080/",
          "height": 362
        }
      },
      "source": [
        "cnf_matrix = confusion_matrix(y_te, y_pre)\n",
        "np.set_printoptions(precision=2)\n",
        "\n",
        "# Plot non-normalized confusion matrix\n",
        "plt.figure()\n",
        "plot_confusion_matrix(cnf_matrix, classes=[\"BAD\"],\n",
        "                      title='Confusion matrix - Logistic Regression Algorithm')\n",
        "\n",
        "plt.show()"
      ],
      "execution_count": 0,
      "outputs": [
        {
          "output_type": "stream",
          "text": [
            "Confusion matrix, without normalization\n",
            "[[1561    0]\n",
            " [ 406    0]]\n"
          ],
          "name": "stdout"
        },
        {
          "output_type": "display_data",
          "data": {
            "image/png": "[encoded data removed]",
            "text/plain": [
              "<Figure size 432x288 with 2 Axes>"
            ]
          },
          "metadata": {
            "tags": [],
            "needs_background": "light"
          }
        }
      ]
    },
    {
      "cell_type": "code",
      "metadata": {
        "id": "iVKWSNe5ckhL",
        "colab_type": "code",
        "outputId": "aada0806-4d7d-4b3a-de6f-1b3e15b0aed9",
        "colab": {
          "base_uri": "https://localhost:8080/",
          "height": 430
        }
      },
      "source": [
        "from sklearn.model_selection import train_test_split\n",
        "from sklearn.tree import DecisionTreeClassifier\n",
        "\n",
        "dectree_basic = DecisionTreeClassifier()\n",
        "dectree_basic.max_depth = 100\n",
        "# Training the basic Decision Tree model with training set \n",
        "dectree_basic.fit(x_basic_tr,y_tr)\n",
        "\n",
        "# Predicting the output of the test cases using the algorithm created above\n",
        "y_pre = dectree_basic.predict(x_basic_te)\n",
        "\n",
        "# Validating the algorithm using various Performance metrics\n",
        "\n",
        "a2 = accuracy_score(y_te,y_pre)\n",
        "f2 = f1_score(y_te, y_pre, average=\"macro\")\n",
        "p2 = precision_score(y_te, y_pre, average=\"macro\")\n",
        "r2 = recall_score(y_te, y_pre, average=\"macro\")\n",
        "print(\"accuracy score : \",a2)\n",
        "print(\"f1 score : \",f2)\n",
        "print(\"precision score : \",p2)\n",
        "print(\"recall score : \",r2)\n",
        "\n",
        "# Computing Confusion matrix for the above algorithm\n",
        "\n",
        "cnf_matrix = confusion_matrix(y_te, y_pre)\n",
        "np.set_printoptions(precision=2)\n",
        "\n",
        "# Plot non-normalized confusion matrix\n",
        "plt.figure()\n",
        "plot_confusion_matrix(cnf_matrix, classes=[\"BAD\"],\n",
        "                      title='Confusion matrix,Decision Tree Algorithm')\n",
        "\n",
        "plt.show()"
      ],
      "execution_count": 0,
      "outputs": [
        {
          "output_type": "stream",
          "text": [
            "accuracy score :  0.8627351296390442\n",
            "f1 score :  0.7802747465520152\n",
            "precision score :  0.7958470208328974\n",
            "recall score :  0.7677218405531379\n",
            "Confusion matrix, without normalization\n",
            "[[1451  110]\n",
            " [ 160  246]]\n"
          ],
          "name": "stdout"
        },
        {
          "output_type": "display_data",
          "data": {
            "image/png": "[encoded data removed]",
            "text/plain": [
              "<Figure size 432x288 with 2 Axes>"
            ]
          },
          "metadata": {
            "tags": [],
            "needs_background": "light"
          }
        }
      ]
    },
    {
      "cell_type": "code",
      "metadata": {
        "id": "uWI9NobacsSI",
        "colab_type": "code",
        "colab": {}
      },
      "source": [
        ""
      ],
      "execution_count": 0,
      "outputs": []
    }
  ]
}