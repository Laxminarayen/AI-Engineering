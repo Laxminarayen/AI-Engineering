{
  "nbformat": 4,
  "nbformat_minor": 0,
  "metadata": {
    "colab": {
      "name": "Monte Carlo Simulation.ipynb",
      "provenance": [],
      "authorship_tag": "ABX9TyOUIVIR5MPKHekrpTYDJllQ",
      "include_colab_link": true
    },
    "kernelspec": {
      "name": "python3",
      "display_name": "Python 3"
    }
  },
  "cells": [
    {
      "cell_type": "markdown",
      "metadata": {
        "id": "view-in-github",
        "colab_type": "text"
      },
      "source": [
        "<a href=\"https://colab.research.google.com/github/plthiyagu/Personnel/blob/master/Monte_Carlo_Simulation.ipynb\" target=\"_parent\"><img src=\"https://colab.research.google.com/assets/colab-badge.svg\" alt=\"Open In Colab\"/></a>"
      ]
    },
    {
      "cell_type": "code",
      "metadata": {
        "id": "kCFoJWvPaVIa"
      },
      "source": [
        ""
      ],
      "execution_count": null,
      "outputs": []
    },
    {
      "cell_type": "markdown",
      "metadata": {
        "id": "7ov9qNWZaV1x"
      },
      "source": [
        "Monte Carlo Simulation\n",
        "Problem Statement\n",
        "Imagine you are the marketing manager for a firm that is planning to introduce a new product. You need to estimate the first year net profit for this product, which will depend on:\n",
        "\n",
        "Sales volume in units\n",
        "Price per unit\n",
        "Unit cost\n",
        "Fixed costs\n",
        "Net profit will be calculated as: Net Profit = Sales Volume* (Selling Price - Unit cost) - Fixed costs\n",
        "\n",
        "Fixed costs (for overhead, advertising, etc.) are known to be $120,000. But the other factors all involve some uncertainty. Sales volume (in units) can cover quite a range, and the selling price per unit will depend on competitor actions. Unit costs will also vary depending on vendor prices and production experience.\n",
        "\n",
        "So, here we have 3 unknown variables in the equation, which can take any possible values.\n",
        "\n",
        "1. Sales and Price:\n",
        "\n",
        "Based on your market research, you believe that there are equal chances that the market will be Slow, OK, or Hot.\n",
        "\n",
        "In the \"Slow market\" scenario, you expect to sell 50,000 units at an average selling price of $11.00 per unit.\n",
        "In the \"OK market\" scenario, you expect to sell 75,000 units, but you'll likely realize a lower average selling price of $10.00 per unit.\n",
        "In the \"Hot market\" scenario, you expect to sell 100,000 units, but this will bring in competitors who will drive down the average selling price to $8.00 per unit.\n",
        "As a result, you expect to sell 75,000 units (i.e.,(50,000+75,000+100,000)/3 = 75,000) at an average selling price of $9.67 per unit (i.e.,(11+10+8)/3 = 9.67).\n",
        "\n",
        "2. Unit Cost:\n",
        "\n",
        "Another uncertain variable is Unit Cost. Your firm’s production manager advises you that unit costs may be anywhere from 5.50 to 7.50, with a most likely cost of $6.50. In this case, the most likely cost is also the average cost.\n",
        "\n",
        "The Average Model\n",
        "With the above information at hand, one might think it will be a good idea to use the average values for each of the variables and estimate the net profit.\n",
        "\n",
        "So, let's go ahead and try that to see how it works.\n",
        "\n"
      ]
    },
    {
      "cell_type": "markdown",
      "metadata": {
        "id": "65CceAf2acX0"
      },
      "source": [
        "https://github.com/hariharan2305/DailyKnowledge/blob/master/Monte%20Carlo%20Simulation/Monte%20Carlo%20Simulation.ipynb"
      ]
    },
    {
      "cell_type": "code",
      "metadata": {
        "id": "mbObM5cSaaRn"
      },
      "source": [
        "# Function to calculate the Net Profit\n",
        "def Profit(Sales, Price, Cost, Fixed_Cost):\n",
        "    profit = (Price - Cost) * Sales - Fixed_Cost\n",
        "    \n",
        "    return profit\n"
      ],
      "execution_count": 1,
      "outputs": []
    },
    {
      "cell_type": "code",
      "metadata": {
        "id": "KGW6DcXragkm",
        "outputId": "3e8b0d5e-ca24-46ea-b31f-9fb60ef571c5",
        "colab": {
          "base_uri": "https://localhost:8080/"
        }
      },
      "source": [
        "# Average Model\n",
        "fixed_cost = 120000 #given in the problem statement\n",
        "sales_v_avg = 75000\n",
        "price_avg = 9.67\n",
        "unit_cost = 6.50\n",
        "\n",
        "# Net Profit\n",
        "Net_Profit_Avg = Profit(sales_v_avg, price_avg, unit_cost,fixed_cost)\n",
        "print(f\"The Net Profit for an Average model: {Net_Profit_Avg}\")\n"
      ],
      "execution_count": 2,
      "outputs": [
        {
          "output_type": "stream",
          "text": [
            "The Net Profit for an Average model: 117750.0\n"
          ],
          "name": "stdout"
        }
      ]
    },
    {
      "cell_type": "markdown",
      "metadata": {
        "id": "Znub_7XdaneE"
      },
      "source": [
        "The Net Profit for an Average model: 117750.0\n",
        "But can you be sure that your estimate for the net profit is 117K? Does this number makes sense? Will you be able to present this finding to your manager in the next meeting that the net profit for the yet-to-be-launched product would be 117K? - Well, most of you might say NO!\n",
        "\n",
        "And you are right. It's always better to report the range of values the net profit could take in different scenarios rather than a single point estimate of the average value. But we how to do that?\n",
        "\n",
        "That's where Monte Carlo Simulation comes in.\n",
        "\n",
        "The idea of Monte Carlo Simulation is to test various outcome possibilities. In reality, only one of the outcome possibilities will play out, but in terms of risk assessment, any of the possibilities could have occurred!\n",
        "\n",
        "Monte Carlo Simulation Model\n",
        "In our problem, we have 3 unknown variables (Sales, Price, Unit Cost), that are needed to calculate the Net Profit.\n",
        "\n",
        "What we are going to do is, we will randomly plug in values for these 3 variables and calculate the multiple possible outcomes for the Net Profit. Finally, if you check the distribution of the Net Profit estimates, you can get a sense of how much extreme the values could go, what could be the average value and many useful statistics.\n",
        "\n",
        "But the important thing to consider here is the distribution of the unknown variables.\n",
        "\n",
        "Market Scenario: The Sales volume and Price of the product depends upon the Market Scenario. So, here we need to consider how likely it is for each of the different market scenario to happen. Here, there is an equal chance that all the three scenarios could happen. Hence, we can use \"Uniform distribution\".\n"
      ]
    },
    {
      "cell_type": "code",
      "metadata": {
        "id": "aZUI5iwKaj4b"
      },
      "source": [
        "# Function to model the market scenario and select sales volume and price per unit\n",
        "import numpy as np\n",
        "\n",
        "def Market_Scenario():\n",
        "    market_condition = np.random.choice([1, 2, 3],size=1)[0]\n",
        "    \n",
        "    # Selecting the Sales volume and price per unit based on the market condition\n",
        "    # Hot Market\n",
        "    if market_condition == 1:\n",
        "        sales_v = 100000\n",
        "        unit_price = 8\n",
        "    \n",
        "    # OK Market\n",
        "    elif market_condition == 2:\n",
        "        sales_v = 75000\n",
        "        unit_price = 10\n",
        "    \n",
        "    # Slow Market\n",
        "    else:\n",
        "        sales_v = 50000\n",
        "        unit_price = 11\n",
        "    \n",
        "    return market_condition, sales_v, unit_price\n"
      ],
      "execution_count": 3,
      "outputs": []
    },
    {
      "cell_type": "markdown",
      "metadata": {
        "id": "hEIlbczDauRX"
      },
      "source": [
        "Unit Cost: It is given in the problem statement that, the unit cost lies between 5.50 and 7.50 with a mean of $6.50. Note that the unit cost could take any values between 5.50 and 7.50, so we can use \"Normal distirbution\" to sample the values for this variable. For the Normal distirbution: mean = 6.50 and standard_deviation = (upper level - lower level)/3.29. [The value of 3.29 is obtained from the z-table, it is nothing but the z-score for a 95% confidence interval]\n"
      ]
    },
    {
      "cell_type": "code",
      "metadata": {
        "id": "yqeDSOC7bcz5"
      },
      "source": [
        "# Function to model the Unit cost for making the product\n",
        "def UnitCost():\n",
        "    unit_cost = np.random.normal(loc = 6.50, scale = (7.5 - 5.5)/3.29) #For 90% confidence, z-score = 3.29\n",
        "    return unit_cost\n"
      ],
      "execution_count": 5,
      "outputs": []
    },
    {
      "cell_type": "code",
      "metadata": {
        "id": "9Pez18drar1m"
      },
      "source": [
        "# Simulation\n",
        "import matplotlib.pyplot as plt\n",
        "import seaborn as sns\n",
        "sns.set()\n",
        "\n",
        "#number of simulations\n",
        "num_simulations = 10000  \n",
        "\n",
        "# create an empty list to store the simulation estiamtes\n",
        "profit_estimates = [] \n",
        "\n",
        "for i in range(num_simulations):\n",
        "    \n",
        "    # Get the market scenario\n",
        "    market, sales, price = Market_Scenario()\n",
        "    \n",
        "    # Find the unit cost\n",
        "    cost = UnitCost()\n",
        "    \n",
        "    # Calculate the Net Profit\n",
        "    p = Profit(sales, price, cost, fixed_cost)\n",
        "    profit_estimates.append(p)\n"
      ],
      "execution_count": 6,
      "outputs": []
    },
    {
      "cell_type": "code",
      "metadata": {
        "id": "ivTUyZicbYfT",
        "outputId": "37090a35-7dd9-428a-85f0-628bb9a06565",
        "colab": {
          "base_uri": "https://localhost:8080/",
          "height": 303
        }
      },
      "source": [
        "# let's plot the outcome\n",
        "plt.hist(profit_estimates, bins=30)\n",
        "plt.axvline(x=0, c='r')\n",
        "plt.xlabel(\"Net Profit\")\n",
        "plt.title(\"Distribution of the Estimated Net Profit\", size=15)\n",
        "plt.show()"
      ],
      "execution_count": 7,
      "outputs": [
        {
          "output_type": "display_data",
          "data": {
            "image/png": "[encoded data removed]",
            "text/plain": [
              "<Figure size 432x288 with 1 Axes>"
            ]
          },
          "metadata": {
            "tags": []
          }
        }
      ]
    },
    {
      "cell_type": "code",
      "metadata": {
        "id": "EALNb3m2bhw3",
        "outputId": "b53b14da-6ec1-44b1-93b2-7636934a3c33",
        "colab": {
          "base_uri": "https://localhost:8080/"
        }
      },
      "source": [
        "# Summary stats of the simulation result\n",
        "negative_profits = [1 if x < 0 else 0 for x in profit_estimates]\n",
        "\n",
        "print(f\"Minimum Net Profit could be: ${round(min(profit_estimates),3)}\")\n",
        "print(f\"Maximum Net Profit could be: ${round(max(profit_estimates),3)}\")\n",
        "print(f\"Average Net Profit could be: ${round(np.mean(profit_estimates),3)}\")\n",
        "print(f\"Probability of Loss: {round(np.mean(negative_profits)*100,3)}%\")"
      ],
      "execution_count": 8,
      "outputs": [
        {
          "output_type": "stream",
          "text": [
            "Minimum Net Profit could be: $-198469.621\n",
            "Maximum Net Profit could be: $326633.664\n",
            "Average Net Profit could be: $91707.12\n",
            "Probability of Loss: 10.89%\n"
          ],
          "name": "stdout"
        }
      ]
    },
    {
      "cell_type": "code",
      "metadata": {
        "id": "DBvoRPeMbj88"
      },
      "source": [
        ""
      ],
      "execution_count": null,
      "outputs": []
    }
  ]
}