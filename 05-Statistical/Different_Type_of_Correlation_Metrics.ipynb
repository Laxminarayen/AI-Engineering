{
  "nbformat": 4,
  "nbformat_minor": 0,
  "metadata": {
    "colab": {
      "name": "Different Type of Correlation Metrics.ipynb",
      "provenance": [],
      "authorship_tag": "ABX9TyNL0maOAaU8WmI6sdt6hR8N",
      "include_colab_link": true
    },
    "kernelspec": {
      "name": "python3",
      "display_name": "Python 3"
    },
    "language_info": {
      "name": "python"
    }
  },
  "cells": [
    {
      "cell_type": "markdown",
      "metadata": {
        "id": "view-in-github",
        "colab_type": "text"
      },
      "source": [
        "<a href=\"https://colab.research.google.com/github/plthiyagu/AI-Engineering/blob/master/05-Statistical/Different_Type_of_Correlation_Metrics.ipynb\" target=\"_parent\"><img src=\"https://colab.research.google.com/assets/colab-badge.svg\" alt=\"Open In Colab\"/></a>"
      ]
    },
    {
      "cell_type": "markdown",
      "metadata": {
        "id": "4YGQ9uI7LW1b"
      },
      "source": [
        "https://www.analyticsvidhya.com/blog/2021/09/different-type-of-correlation-metrics-used-by-data-scientist/?utm_source=feedburner&utm_medium=email&utm_campaign=Feed%3A+AnalyticsVidhya+%28Analytics+Vidhya%29"
      ]
    },
    {
      "cell_type": "code",
      "metadata": {
        "id": "D5LfRSYCFjQT"
      },
      "source": [
        "import numpy as np\n",
        "from scipy.stats import kendalltau\n",
        "from scipy.stats import spearmanr\n",
        "from scipy.stats import pearsonr\n",
        "from scipy.stats import pointbiserialr"
      ],
      "execution_count": 9,
      "outputs": []
    },
    {
      "cell_type": "code",
      "metadata": {
        "id": "DXLtfOMmFmKw"
      },
      "source": [
        "a = np.random.rand(10)\n",
        "b = np.random.rand(10)"
      ],
      "execution_count": 2,
      "outputs": []
    },
    {
      "cell_type": "code",
      "metadata": {
        "colab": {
          "base_uri": "https://localhost:8080/"
        },
        "id": "dwEKm-ewFndv",
        "outputId": "5004c0c0-fc2e-4c8b-946c-df67817259a7"
      },
      "source": [
        "np.cov(a,b)"
      ],
      "execution_count": 3,
      "outputs": [
        {
          "output_type": "execute_result",
          "data": {
            "text/plain": [
              "array([[0.07436782, 0.00376916],\n",
              "       [0.00376916, 0.10883507]])"
            ]
          },
          "metadata": {},
          "execution_count": 3
        }
      ]
    },
    {
      "cell_type": "markdown",
      "metadata": {
        "id": "xqfFg8I6Fuff"
      },
      "source": [
        "Perfectly Positive Correlation: When correlation value is exactly 1.\n",
        "\n",
        "Positive Correlation: When correlation value falls between 0 to 1.\n",
        "\n",
        "No Correlation: When correlation value is 0.\n",
        "\n",
        "Negative Correlation: When correlation value falls between -1 to 0.\n",
        "\n",
        "Perfectly Negative Correlation: When correlation value is exactly -1.\n"
      ]
    },
    {
      "cell_type": "code",
      "metadata": {
        "id": "FZIGUF7JF7Qh"
      },
      "source": [
        "a = np.random.normal(size=10)\n",
        "b = np.random.normal(size=10)"
      ],
      "execution_count": 5,
      "outputs": []
    },
    {
      "cell_type": "code",
      "metadata": {
        "colab": {
          "base_uri": "https://localhost:8080/"
        },
        "id": "WqLwTlukF9wT",
        "outputId": "1e1ced06-bf2c-4bbd-8d4a-6e12287010cc"
      },
      "source": [
        "pearsonr(a,b)"
      ],
      "execution_count": 6,
      "outputs": [
        {
          "output_type": "execute_result",
          "data": {
            "text/plain": [
              "(0.008060050387183179, 0.9823697851443456)"
            ]
          },
          "metadata": {},
          "execution_count": 6
        }
      ]
    },
    {
      "cell_type": "code",
      "metadata": {
        "colab": {
          "base_uri": "https://localhost:8080/"
        },
        "id": "erzprzK2GBHe",
        "outputId": "11c11e7e-c2d3-4ef5-b465-30d3f3193bb8"
      },
      "source": [
        "spearmanr(a,b)"
      ],
      "execution_count": 8,
      "outputs": [
        {
          "output_type": "execute_result",
          "data": {
            "text/plain": [
              "SpearmanrResult(correlation=-0.09090909090909088, pvalue=0.8027717312071619)"
            ]
          },
          "metadata": {},
          "execution_count": 8
        }
      ]
    },
    {
      "cell_type": "code",
      "metadata": {
        "colab": {
          "base_uri": "https://localhost:8080/"
        },
        "id": "CyN0hBCoK46I",
        "outputId": "b5433c63-dbe2-4fad-d28c-501b0361daa8"
      },
      "source": [
        "kendalltau(a,b)"
      ],
      "execution_count": 10,
      "outputs": [
        {
          "output_type": "execute_result",
          "data": {
            "text/plain": [
              "KendalltauResult(correlation=-0.1111111111111111, pvalue=0.7274895282186948)"
            ]
          },
          "metadata": {},
          "execution_count": 10
        }
      ]
    },
    {
      "cell_type": "code",
      "metadata": {
        "id": "uBPynQR5LJvC"
      },
      "source": [
        ""
      ],
      "execution_count": null,
      "outputs": []
    }
  ]
}