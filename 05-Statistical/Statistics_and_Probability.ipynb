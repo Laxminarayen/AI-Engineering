{
  "nbformat": 4,
  "nbformat_minor": 0,
  "metadata": {
    "colab": {
      "name": "Statistics and Probability.ipynb",
      "provenance": [],
      "authorship_tag": "ABX9TyMW2UH/7+5NZc4sWAF53ZmH",
      "include_colab_link": true
    },
    "kernelspec": {
      "name": "python3",
      "display_name": "Python 3"
    }
  },
  "cells": [
    {
      "cell_type": "markdown",
      "metadata": {
        "id": "view-in-github",
        "colab_type": "text"
      },
      "source": [
        "<a href=\"https://colab.research.google.com/github/plthiyagu/Personnel/blob/master/Statistics_and_Probability.ipynb\" target=\"_parent\"><img src=\"https://colab.research.google.com/assets/colab-badge.svg\" alt=\"Open In Colab\"/></a>"
      ]
    },
    {
      "cell_type": "code",
      "metadata": {
        "id": "fi98Azqy209P"
      },
      "source": [
        "import numpy as np\n",
        "import pandas as pd\n",
        "import statistics"
      ],
      "execution_count": 6,
      "outputs": []
    },
    {
      "cell_type": "code",
      "metadata": {
        "id": "vh9AVCEOGm83"
      },
      "source": [
        "data=np.array([1,5,4,5,8,1,2,3,4])"
      ],
      "execution_count": 2,
      "outputs": []
    },
    {
      "cell_type": "code",
      "metadata": {
        "id": "d5SFknHwGq_B",
        "outputId": "a280d91f-fef9-44db-8550-7f5360e16055",
        "colab": {
          "base_uri": "https://localhost:8080/",
          "height": 34
        }
      },
      "source": [
        "print(\"The mean of the data point is \",data.mean())"
      ],
      "execution_count": 3,
      "outputs": [
        {
          "output_type": "stream",
          "text": [
            "The mean of the data point is  3.6666666666666665\n"
          ],
          "name": "stdout"
        }
      ]
    },
    {
      "cell_type": "code",
      "metadata": {
        "id": "5JUP-wqqGt2v"
      },
      "source": [
        "data=np.array([1,5,4,5,8,1,2,3,4,50])"
      ],
      "execution_count": 4,
      "outputs": []
    },
    {
      "cell_type": "code",
      "metadata": {
        "id": "NOgfq2fAQj8E",
        "outputId": "ff065f93-cdd0-4bdd-8dab-54d5cb78a459",
        "colab": {
          "base_uri": "https://localhost:8080/",
          "height": 34
        }
      },
      "source": [
        "print(\"The mean of the data point is \",data.mean())"
      ],
      "execution_count": 5,
      "outputs": [
        {
          "output_type": "stream",
          "text": [
            "The mean of the data point is  8.3\n"
          ],
          "name": "stdout"
        }
      ]
    },
    {
      "cell_type": "code",
      "metadata": {
        "id": "ZL2Bj-0tQ0DX",
        "outputId": "7e4123b8-9018-4760-c766-f9d582921801",
        "colab": {
          "base_uri": "https://localhost:8080/",
          "height": 34
        }
      },
      "source": [
        "data=np.array([1,5,4,8,1,2,3,9])\n",
        "print(\"The mean of the data point is \",statistics.mode(data))"
      ],
      "execution_count": 8,
      "outputs": [
        {
          "output_type": "stream",
          "text": [
            "The mean of the data point is  1\n"
          ],
          "name": "stdout"
        }
      ]
    },
    {
      "cell_type": "code",
      "metadata": {
        "id": "OQYPhNXDRIlF"
      },
      "source": [
        "data=np.array([1,5,4,8,1,2,3,9,7])"
      ],
      "execution_count": 9,
      "outputs": []
    },
    {
      "cell_type": "code",
      "metadata": {
        "id": "3YbVyNINRm4t",
        "outputId": "d7c43627-070e-4dbe-9f11-1a57e47dc242",
        "colab": {
          "base_uri": "https://localhost:8080/",
          "height": 34
        }
      },
      "source": [
        "print(\"The mode of the data point is \",statistics.median(data))"
      ],
      "execution_count": 10,
      "outputs": [
        {
          "output_type": "stream",
          "text": [
            "The mode of the data point is  4\n"
          ],
          "name": "stdout"
        }
      ]
    },
    {
      "cell_type": "code",
      "metadata": {
        "id": "8U7lck_DRw_2"
      },
      "source": [
        "data=np.array([1,5,4,8,1,2,3,9])"
      ],
      "execution_count": 11,
      "outputs": []
    },
    {
      "cell_type": "code",
      "metadata": {
        "id": "9ylHuhfiTjZV",
        "outputId": "ca527403-9441-4301-804f-3b09b0277418",
        "colab": {
          "base_uri": "https://localhost:8080/",
          "height": 34
        }
      },
      "source": [
        "print(\"The mode of the data point is \",statistics.median(data))"
      ],
      "execution_count": 12,
      "outputs": [
        {
          "output_type": "stream",
          "text": [
            "The mode of the data point is  3.5\n"
          ],
          "name": "stdout"
        }
      ]
    },
    {
      "cell_type": "code",
      "metadata": {
        "id": "2ketEIXqTmmq",
        "outputId": "36371f5c-7ffc-4f21-d50a-1177386d94a5",
        "colab": {
          "base_uri": "https://localhost:8080/",
          "height": 34
        }
      },
      "source": [
        "X=np.array([3,8,6,10,12,9,11,10,12,7])\n",
        "print(\"The variance is: \",statistics.variance(X))"
      ],
      "execution_count": 14,
      "outputs": [
        {
          "output_type": "stream",
          "text": [
            "The variance is:  8\n"
          ],
          "name": "stdout"
        }
      ]
    },
    {
      "cell_type": "code",
      "metadata": {
        "id": "Ty8c6OJ4WNUT",
        "outputId": "34ee3a0b-d336-48a7-876d-3b0fab0c1bc1",
        "colab": {
          "base_uri": "https://localhost:8080/",
          "height": 34
        }
      },
      "source": [
        "X=np.array([3,8,6,10,12,9,11,10,12,7])\n",
        "print(\"The variance is: \",statistics.stdev(X))"
      ],
      "execution_count": 15,
      "outputs": [
        {
          "output_type": "stream",
          "text": [
            "The variance is:  2.8284271247461903\n"
          ],
          "name": "stdout"
        }
      ]
    },
    {
      "cell_type": "code",
      "metadata": {
        "id": "Um3_XqirWWWC",
        "outputId": "3e4cdecb-cae0-46c9-87e2-4d1bac1eb5db",
        "colab": {
          "base_uri": "https://localhost:8080/",
          "height": 34
        }
      },
      "source": [
        "x=np.array([4,6,9,3,7])\n",
        "print(\"The range is: \",max(x)-min(x))\n"
      ],
      "execution_count": 16,
      "outputs": [
        {
          "output_type": "stream",
          "text": [
            "The range is:  6\n"
          ],
          "name": "stdout"
        }
      ]
    },
    {
      "cell_type": "code",
      "metadata": {
        "id": "mJ3-qs5Vtyau",
        "outputId": "a51d6856-a002-496b-ccac-797a9c870ab4",
        "colab": {
          "base_uri": "https://localhost:8080/",
          "height": 34
        }
      },
      "source": [
        "x=np.array([4,6,9,3,7])\n",
        "print(\"The midrange is: \",(max(x)+min(x))/2)"
      ],
      "execution_count": 17,
      "outputs": [
        {
          "output_type": "stream",
          "text": [
            "The midrange is:  6.0\n"
          ],
          "name": "stdout"
        }
      ]
    },
    {
      "cell_type": "code",
      "metadata": {
        "id": "8pu96Fezt7Tf",
        "outputId": "e8ad5d4f-2fc4-4791-c1e6-c3507ee0dab5",
        "colab": {
          "base_uri": "https://localhost:8080/",
          "height": 119
        }
      },
      "source": [
        "data=range(0,101)\n",
        "print(\"1st percentile of data is: \",np.percentile(data,1))\n",
        "print(\"5th percentile of data is: \",np.percentile(data,5))\n",
        "print(\"25th percentile of data is: \",np.percentile(data,25))\n",
        "print(\"50th percentile of data is: \",np.percentile(data,50))\n",
        "print(\"75th percentile of data is: \",np.percentile(data,75))\n",
        "print(\"100th percentile of data is: \",np.percentile(data,100))"
      ],
      "execution_count": 18,
      "outputs": [
        {
          "output_type": "stream",
          "text": [
            "1st percentile of data is:  1.0\n",
            "5th percentile of data is:  5.0\n",
            "25th percentile of data is:  25.0\n",
            "50th percentile of data is:  50.0\n",
            "75th percentile of data is:  75.0\n",
            "100th percentile of data is:  100.0\n"
          ],
          "name": "stdout"
        }
      ]
    },
    {
      "cell_type": "code",
      "metadata": {
        "id": "HtQCwvZDuSlg",
        "outputId": "3925cb0e-ebae-4483-e20a-0927f3facb56",
        "colab": {
          "base_uri": "https://localhost:8080/",
          "height": 119
        }
      },
      "source": [
        "data=range(0,501)\n",
        "print(\"1st percentile of data is: \",np.percentile(data,1))\n",
        "print(\"5th percentile of data is: \",np.percentile(data,5))\n",
        "print(\"25th percentile of data is: \",np.percentile(data,25))\n",
        "print(\"50th percentile of data is: \",np.percentile(data,50))\n",
        "print(\"75th percentile of data is: \",np.percentile(data,75))\n",
        "print(\"100th percentile of data is: \",np.percentile(data,100))"
      ],
      "execution_count": 19,
      "outputs": [
        {
          "output_type": "stream",
          "text": [
            "1st percentile of data is:  5.0\n",
            "5th percentile of data is:  25.0\n",
            "25th percentile of data is:  125.0\n",
            "50th percentile of data is:  250.0\n",
            "75th percentile of data is:  375.0\n",
            "100th percentile of data is:  500.0\n"
          ],
          "name": "stdout"
        }
      ]
    },
    {
      "cell_type": "code",
      "metadata": {
        "id": "Kn1gxvD5uYr_",
        "outputId": "39c52f5f-a701-4ec4-f6db-f11f51ae0cbe",
        "colab": {
          "base_uri": "https://localhost:8080/",
          "height": 85
        }
      },
      "source": [
        "data=range(0,101)\n",
        "print(\"Q1 of data is: \",np.quantile(data,0.25))\n",
        "print(\"Q1 of data is: \",np.quantile(data,0.50))\n",
        "print(\"Q1 of data is: \",np.quantile(data,0.75))\n",
        "print(\"Q1 of data is: \",np.quantile(data,0.1))\n"
      ],
      "execution_count": 20,
      "outputs": [
        {
          "output_type": "stream",
          "text": [
            "Q1 of data is:  25.0\n",
            "Q1 of data is:  50.0\n",
            "Q1 of data is:  75.0\n",
            "Q1 of data is:  10.0\n"
          ],
          "name": "stdout"
        }
      ]
    },
    {
      "cell_type": "code",
      "metadata": {
        "id": "H8tEWPRZuvZD",
        "outputId": "6780ba23-00b0-40ee-b37d-84bd2bb92489",
        "colab": {
          "base_uri": "https://localhost:8080/",
          "height": 85
        }
      },
      "source": [
        "data=range(0,501)\n",
        "print(\"Q1 of data is: \",np.quantile(data,0.25))\n",
        "print(\"Q1 of data is: \",np.quantile(data,0.50))\n",
        "print(\"Q1 of data is: \",np.quantile(data,0.75))\n",
        "print(\"Q1 of data is: \",np.quantile(data,0.1))"
      ],
      "execution_count": 21,
      "outputs": [
        {
          "output_type": "stream",
          "text": [
            "Q1 of data is:  125.0\n",
            "Q1 of data is:  250.0\n",
            "Q1 of data is:  375.0\n",
            "Q1 of data is:  50.0\n"
          ],
          "name": "stdout"
        }
      ]
    },
    {
      "cell_type": "code",
      "metadata": {
        "id": "CTrFsCtkwyf2",
        "outputId": "7dc05521-1fe5-44db-bf48-f3cfe116af60",
        "colab": {
          "base_uri": "https://localhost:8080/",
          "height": 34
        }
      },
      "source": [
        "from scipy import stats\n",
        "data = [32, 36, 46, 47, 56, 69, 75, 79, 79, 88, 89, 91, 92, 93, 96, 97, 101, 105, 112, 116]\n",
        "IQR = stats.iqr(data)\n",
        "print(IQR)\n"
      ],
      "execution_count": 22,
      "outputs": [
        {
          "output_type": "stream",
          "text": [
            "30.5\n"
          ],
          "name": "stdout"
        }
      ]
    },
    {
      "cell_type": "code",
      "metadata": {
        "id": "ksFPP-V-w-lR",
        "outputId": "d8676cd2-bd4a-4414-fe6d-382ac8c0456f",
        "colab": {
          "base_uri": "https://localhost:8080/",
          "height": 336
        }
      },
      "source": [
        "import seaborn as sns\n",
        "s=np.random.normal(5,2,1000) #mean 5,standarad deviation 2,size 1000\n",
        "sns.distplot(s)"
      ],
      "execution_count": 23,
      "outputs": [
        {
          "output_type": "stream",
          "text": [
            "/usr/local/lib/python3.6/dist-packages/seaborn/distributions.py:2551: FutureWarning: `distplot` is a deprecated function and will be removed in a future version. Please adapt your code to use either `displot` (a figure-level function with similar flexibility) or `histplot` (an axes-level function for histograms).\n",
            "  warnings.warn(msg, FutureWarning)\n"
          ],
          "name": "stderr"
        },
        {
          "output_type": "execute_result",
          "data": {
            "text/plain": [
              "<matplotlib.axes._subplots.AxesSubplot at 0x7f179a849be0>"
            ]
          },
          "metadata": {
            "tags": []
          },
          "execution_count": 23
        },
        {
          "output_type": "display_data",
          "data": {
            "image/png": "[encoded data removed]",
            "text/plain": [
              "<Figure size 432x288 with 1 Axes>"
            ]
          },
          "metadata": {
            "tags": [],
            "needs_background": "light"
          }
        }
      ]
    },
    {
      "cell_type": "code",
      "metadata": {
        "id": "GWcK4K0by7G8",
        "outputId": "5bebc416-a640-43be-9e94-fea63187f216",
        "colab": {
          "base_uri": "https://localhost:8080/",
          "height": 336
        }
      },
      "source": [
        "data=np.random.normal(0,1,1000) #mean 0,standarad deviation 1,size 1000\n",
        "sns.distplot(data)\n"
      ],
      "execution_count": 24,
      "outputs": [
        {
          "output_type": "stream",
          "text": [
            "/usr/local/lib/python3.6/dist-packages/seaborn/distributions.py:2551: FutureWarning: `distplot` is a deprecated function and will be removed in a future version. Please adapt your code to use either `displot` (a figure-level function with similar flexibility) or `histplot` (an axes-level function for histograms).\n",
            "  warnings.warn(msg, FutureWarning)\n"
          ],
          "name": "stderr"
        },
        {
          "output_type": "execute_result",
          "data": {
            "text/plain": [
              "<matplotlib.axes._subplots.AxesSubplot at 0x7f179942fe10>"
            ]
          },
          "metadata": {
            "tags": []
          },
          "execution_count": 24
        },
        {
          "output_type": "display_data",
          "data": {
            "image/png": "[encoded data removed]",
            "text/plain": [
              "<Figure size 432x288 with 1 Axes>"
            ]
          },
          "metadata": {
            "tags": [],
            "needs_background": "light"
          }
        }
      ]
    },
    {
      "cell_type": "code",
      "metadata": {
        "id": "3zb20bwZzGcG",
        "outputId": "0edee73e-019e-416a-f37b-e44674f789b1",
        "colab": {
          "base_uri": "https://localhost:8080/",
          "height": 336
        }
      },
      "source": [
        "from scipy.stats import skew\n",
        "a=[1,2,3,4,5,6,7,8,9,10,11,100,102]\n",
        "sns.distplot(a)\n",
        "print(\"Skewness of the data is:\",skew(a))"
      ],
      "execution_count": 25,
      "outputs": [
        {
          "output_type": "stream",
          "text": [
            "Skewness of the data is: 1.8896904721397088\n"
          ],
          "name": "stdout"
        },
        {
          "output_type": "stream",
          "text": [
            "/usr/local/lib/python3.6/dist-packages/seaborn/distributions.py:2551: FutureWarning: `distplot` is a deprecated function and will be removed in a future version. Please adapt your code to use either `displot` (a figure-level function with similar flexibility) or `histplot` (an axes-level function for histograms).\n",
            "  warnings.warn(msg, FutureWarning)\n"
          ],
          "name": "stderr"
        },
        {
          "output_type": "display_data",
          "data": {
            "image/png": "[encoded data removed]",
            "text/plain": [
              "<Figure size 432x288 with 1 Axes>"
            ]
          },
          "metadata": {
            "tags": [],
            "needs_background": "light"
          }
        }
      ]
    },
    {
      "cell_type": "code",
      "metadata": {
        "id": "0tTCgI_gz947",
        "outputId": "3b697ac2-23ae-4ff5-8174-b2a226bb8e6b",
        "colab": {
          "base_uri": "https://localhost:8080/",
          "height": 336
        }
      },
      "source": [
        "a=[1,2,3,4,5,80,80,82,82,82,83,83,83,83,84,84,84,84,84,85,85,85,85,85,85,86,86,86,87]\n",
        "sns.distplot(a)\n",
        "print(\"Skewness of the data is:\",skew(a))"
      ],
      "execution_count": 26,
      "outputs": [
        {
          "output_type": "stream",
          "text": [
            "/usr/local/lib/python3.6/dist-packages/seaborn/distributions.py:2551: FutureWarning: `distplot` is a deprecated function and will be removed in a future version. Please adapt your code to use either `displot` (a figure-level function with similar flexibility) or `histplot` (an axes-level function for histograms).\n",
            "  warnings.warn(msg, FutureWarning)\n"
          ],
          "name": "stderr"
        },
        {
          "output_type": "stream",
          "text": [
            "Skewness of the data is: -1.7250964422584605\n"
          ],
          "name": "stdout"
        },
        {
          "output_type": "display_data",
          "data": {
            "image/png": "[encoded data removed]",
            "text/plain": [
              "<Figure size 432x288 with 1 Axes>"
            ]
          },
          "metadata": {
            "tags": [],
            "needs_background": "light"
          }
        }
      ]
    },
    {
      "cell_type": "code",
      "metadata": {
        "id": "H18dlK0o0KBO",
        "outputId": "7f444fee-0959-410d-8795-46a59c738f95",
        "colab": {
          "base_uri": "https://localhost:8080/",
          "height": 336
        }
      },
      "source": [
        "a=np.random.normal(0,2,1000)\n",
        "sns.distplot(a)\n",
        "print(\"Skewness of the data is:\",skew(a))"
      ],
      "execution_count": 27,
      "outputs": [
        {
          "output_type": "stream",
          "text": [
            "/usr/local/lib/python3.6/dist-packages/seaborn/distributions.py:2551: FutureWarning: `distplot` is a deprecated function and will be removed in a future version. Please adapt your code to use either `displot` (a figure-level function with similar flexibility) or `histplot` (an axes-level function for histograms).\n",
            "  warnings.warn(msg, FutureWarning)\n"
          ],
          "name": "stderr"
        },
        {
          "output_type": "stream",
          "text": [
            "Skewness of the data is: 0.025459478091704024\n"
          ],
          "name": "stdout"
        },
        {
          "output_type": "display_data",
          "data": {
            "image/png": "[encoded data removed]",
            "text/plain": [
              "<Figure size 432x288 with 1 Axes>"
            ]
          },
          "metadata": {
            "tags": [],
            "needs_background": "light"
          }
        }
      ]
    },
    {
      "cell_type": "code",
      "metadata": {
        "id": "aoMOq6IQ0Stk",
        "outputId": "236623c3-dc37-4136-e563-0d8bc59802ce",
        "colab": {
          "base_uri": "https://localhost:8080/",
          "height": 34
        }
      },
      "source": [
        "from scipy.stats import kurtosis\n",
        "Data=[1,2,3,4,5,80,80,82,82,82,83,83,83,83,84,84,84,84,84,85,85,85,85,85,85,86,86,86,87]\n",
        "print(\"Kurtosis for the Data is: \",kurtosis(Data))"
      ],
      "execution_count": 28,
      "outputs": [
        {
          "output_type": "stream",
          "text": [
            "Kurtosis for the Data is:  0.9972558983082314\n"
          ],
          "name": "stdout"
        }
      ]
    },
    {
      "cell_type": "code",
      "metadata": {
        "id": "ht3g7o4Z05x2",
        "outputId": "297d52b3-3d9f-4389-d2b7-a520b711c3a6",
        "colab": {
          "base_uri": "https://localhost:8080/",
          "height": 336
        }
      },
      "source": [
        "from sklearn.preprocessing import StandardScaler\n",
        "data=np.random.normal(10,2,1000) #create a normal distributon with mean is 10 and standard deviation is 1\n",
        "sns.distplot(data)"
      ],
      "execution_count": 29,
      "outputs": [
        {
          "output_type": "stream",
          "text": [
            "/usr/local/lib/python3.6/dist-packages/seaborn/distributions.py:2551: FutureWarning: `distplot` is a deprecated function and will be removed in a future version. Please adapt your code to use either `displot` (a figure-level function with similar flexibility) or `histplot` (an axes-level function for histograms).\n",
            "  warnings.warn(msg, FutureWarning)\n"
          ],
          "name": "stderr"
        },
        {
          "output_type": "execute_result",
          "data": {
            "text/plain": [
              "<matplotlib.axes._subplots.AxesSubplot at 0x7f1798e3de10>"
            ]
          },
          "metadata": {
            "tags": []
          },
          "execution_count": 29
        },
        {
          "output_type": "display_data",
          "data": {
            "image/png": "[encoded data removed]",
            "text/plain": [
              "<Figure size 432x288 with 1 Axes>"
            ]
          },
          "metadata": {
            "tags": [],
            "needs_background": "light"
          }
        }
      ]
    },
    {
      "cell_type": "code",
      "metadata": {
        "id": "R0AL8Dtb2yBI",
        "outputId": "45026bdf-ea9a-463c-fc86-500f7545d965",
        "colab": {
          "base_uri": "https://localhost:8080/",
          "height": 340
        }
      },
      "source": [
        "data=np.random.normal(10,2,1000).reshape(-1,1)\n",
        "scaler=StandardScaler()\n",
        "datascaled=scaler.fit_transform(data) #applying standarization on data\n",
        "sns.distplot(datascaled)"
      ],
      "execution_count": 30,
      "outputs": [
        {
          "output_type": "stream",
          "text": [
            "/usr/local/lib/python3.6/dist-packages/seaborn/distributions.py:2551: FutureWarning: `distplot` is a deprecated function and will be removed in a future version. Please adapt your code to use either `displot` (a figure-level function with similar flexibility) or `histplot` (an axes-level function for histograms).\n",
            "  warnings.warn(msg, FutureWarning)\n"
          ],
          "name": "stderr"
        },
        {
          "output_type": "execute_result",
          "data": {
            "text/plain": [
              "<matplotlib.axes._subplots.AxesSubplot at 0x7f17978f7160>"
            ]
          },
          "metadata": {
            "tags": []
          },
          "execution_count": 30
        },
        {
          "output_type": "display_data",
          "data": {
            "image/png": "[encoded data removed]",
            "text/plain": [
              "<Figure size 432x288 with 1 Axes>"
            ]
          },
          "metadata": {
            "tags": [],
            "needs_background": "light"
          }
        }
      ]
    },
    {
      "cell_type": "code",
      "metadata": {
        "id": "XrDJQmfZ2_rx",
        "outputId": "9c40a635-383b-48cf-8d3e-0b8790c46b8b",
        "colab": {
          "base_uri": "https://localhost:8080/",
          "height": 1000
        }
      },
      "source": [
        "import pylab\n",
        "import numpy as np\n",
        "import scipy.stats as stats\n",
        "std_normal=np.random.normal(loc=0,scale=1,size=1000)\n",
        "for i in range(1,101):\n",
        "  print(i,np.percentile(std_normal,i))"
      ],
      "execution_count": 2,
      "outputs": [
        {
          "output_type": "stream",
          "text": [
            "1 -2.4040027867884475\n",
            "2 -2.0747278175078256\n",
            "3 -1.8587660616526243\n",
            "4 -1.75112328125908\n",
            "5 -1.638009120842458\n",
            "6 -1.5286375776073071\n",
            "7 -1.4650243296772294\n",
            "8 -1.3669250017472843\n",
            "9 -1.2970842618923677\n",
            "10 -1.2546534818764603\n",
            "11 -1.1809117409964927\n",
            "12 -1.1340687446518074\n",
            "13 -1.090563839490094\n",
            "14 -1.0454301507733157\n",
            "15 -1.017217608847442\n",
            "16 -0.993577075211659\n",
            "17 -0.9517661542523314\n",
            "18 -0.8993440033076598\n",
            "19 -0.8577614960163605\n",
            "20 -0.8236984835234059\n",
            "21 -0.795938238333045\n",
            "22 -0.7663017845988693\n",
            "23 -0.7302205487389305\n",
            "24 -0.6785858639423482\n",
            "25 -0.6360392142439985\n",
            "26 -0.6085132489574969\n",
            "27 -0.5809550282297371\n",
            "28 -0.5564395744645985\n",
            "29 -0.5281269166865726\n",
            "30 -0.49810865899488943\n",
            "31 -0.47733803276812675\n",
            "32 -0.44476372588421753\n",
            "33 -0.41994970144607413\n",
            "34 -0.3988923366012498\n",
            "35 -0.37408739797167895\n",
            "36 -0.34491227075280656\n",
            "37 -0.31556339085503166\n",
            "38 -0.2844608430111373\n",
            "39 -0.2510749621376209\n",
            "40 -0.22632943940459865\n",
            "41 -0.1859685252276356\n",
            "42 -0.15275010335348427\n",
            "43 -0.12084529961430815\n",
            "44 -0.0979773431201939\n",
            "45 -0.075833518840848\n",
            "46 -0.06045797531816448\n",
            "47 -0.03001113699797322\n",
            "48 -0.004633706162677973\n",
            "49 0.03187954687888457\n",
            "50 0.05114285054386663\n",
            "51 0.08366642318174215\n",
            "52 0.10423467321667083\n",
            "53 0.12874669487549176\n",
            "54 0.15428944424975227\n",
            "55 0.17748672088731723\n",
            "56 0.2158053718363434\n",
            "57 0.23989077520594154\n",
            "58 0.2690569404743222\n",
            "59 0.29538891365516173\n",
            "60 0.3286517302678812\n",
            "61 0.35453241545379244\n",
            "62 0.36988923334165247\n",
            "63 0.3839297354725223\n",
            "64 0.40283388501368617\n",
            "65 0.42900793579368574\n",
            "66 0.4629230067628416\n",
            "67 0.49693969750277744\n",
            "68 0.5300661265657696\n",
            "69 0.5533146258878313\n",
            "70 0.5951873277916873\n",
            "71 0.6383207824078025\n",
            "72 0.6663733683793385\n",
            "73 0.6912713209780013\n",
            "74 0.7163243427914383\n",
            "75 0.734683032071429\n",
            "76 0.7508099236199877\n",
            "77 0.7887518813306458\n",
            "78 0.8117111221428158\n",
            "79 0.8356443856366538\n",
            "80 0.8602942916242193\n",
            "81 0.9063041291914224\n",
            "82 0.9361432513043636\n",
            "83 0.9920513143413021\n",
            "84 1.0262082991434216\n",
            "85 1.091496327977127\n",
            "86 1.149155315168999\n",
            "87 1.1875917099237545\n",
            "88 1.2329125671824548\n",
            "89 1.2791181685655597\n",
            "90 1.3190681053273385\n",
            "91 1.3732827277788575\n",
            "92 1.4295812495312716\n",
            "93 1.5135555382482706\n",
            "94 1.5756179184075392\n",
            "95 1.6791285146298065\n",
            "96 1.803473156312319\n",
            "97 1.8508312677715844\n",
            "98 2.009895621000697\n",
            "99 2.186160983352339\n",
            "100 2.99286394883473\n"
          ],
          "name": "stdout"
        }
      ]
    },
    {
      "cell_type": "code",
      "metadata": {
        "id": "2CqcIz9_JGcF",
        "outputId": "a07a297e-0789-4ccf-e801-a45303dec521",
        "colab": {
          "base_uri": "https://localhost:8080/",
          "height": 295
        }
      },
      "source": [
        "stats.probplot(std_normal,dist=\"norm\",plot=pylab)\n",
        "pylab.show()"
      ],
      "execution_count": 3,
      "outputs": [
        {
          "output_type": "display_data",
          "data": {
            "image/png": "[encoded data removed]",
            "text/plain": [
              "<Figure size 432x288 with 1 Axes>"
            ]
          },
          "metadata": {
            "tags": [],
            "needs_background": "light"
          }
        }
      ]
    },
    {
      "cell_type": "code",
      "metadata": {
        "id": "qDtBbOM-Jezj",
        "outputId": "76807a72-5b40-48d2-bba5-35c8692ca469",
        "colab": {
          "base_uri": "https://localhost:8080/",
          "height": 295
        }
      },
      "source": [
        "measurements = np.random.uniform(low=-1, high=1, size=10000)\n",
        "stats.probplot(measurements, dist=\"norm\", plot=pylab)\n",
        "pylab.show()"
      ],
      "execution_count": 4,
      "outputs": [
        {
          "output_type": "display_data",
          "data": {
            "image/png": "[encoded data removed]",
            "text/plain": [
              "<Figure size 432x288 with 1 Axes>"
            ]
          },
          "metadata": {
            "tags": [],
            "needs_background": "light"
          }
        }
      ]
    },
    {
      "cell_type": "code",
      "metadata": {
        "id": "ACaqblBYJm0S",
        "outputId": "e72f746c-4c35-4ee1-8d05-f3bcd9ae24fb",
        "colab": {
          "base_uri": "https://localhost:8080/",
          "height": 350
        }
      },
      "source": [
        "import seaborn as sns\n",
        "from scipy.stats import uniform\n",
        "data_uniform = uniform.rvs(size=10000, loc = 10, scale=20)\n",
        "ax = sns.distplot(data_uniform,bins=100,kde=True,color='skyblue',hist_kws={\"linewidth\": 15,'alpha':1})\n",
        "ax.set(xlabel='Uniform Distribution ', ylabel='Frequency')"
      ],
      "execution_count": 6,
      "outputs": [
        {
          "output_type": "stream",
          "text": [
            "/usr/local/lib/python3.6/dist-packages/seaborn/distributions.py:2551: FutureWarning: `distplot` is a deprecated function and will be removed in a future version. Please adapt your code to use either `displot` (a figure-level function with similar flexibility) or `histplot` (an axes-level function for histograms).\n",
            "  warnings.warn(msg, FutureWarning)\n"
          ],
          "name": "stderr"
        },
        {
          "output_type": "execute_result",
          "data": {
            "text/plain": [
              "[Text(0, 0.5, 'Frequency'), Text(0.5, 0, 'Uniform Distribution ')]"
            ]
          },
          "metadata": {
            "tags": []
          },
          "execution_count": 6
        },
        {
          "output_type": "display_data",
          "data": {
            "image/png": "[encoded data removed]",
            "text/plain": [
              "<Figure size 432x288 with 1 Axes>"
            ]
          },
          "metadata": {
            "tags": [],
            "needs_background": "light"
          }
        }
      ]
    },
    {
      "cell_type": "code",
      "metadata": {
        "id": "9ZTQIDExJ0RZ"
      },
      "source": [
        ""
      ],
      "execution_count": null,
      "outputs": []
    },
    {
      "cell_type": "code",
      "metadata": {
        "id": "fq4lgZC-JC0k"
      },
      "source": [
        ""
      ],
      "execution_count": null,
      "outputs": []
    },
    {
      "cell_type": "code",
      "metadata": {
        "id": "Frwmp3AIWKad"
      },
      "source": [
        ""
      ],
      "execution_count": null,
      "outputs": []
    }
  ]
}