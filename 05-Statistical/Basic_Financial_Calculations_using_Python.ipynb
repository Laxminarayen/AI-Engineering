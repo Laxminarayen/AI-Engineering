{
  "nbformat": 4,
  "nbformat_minor": 0,
  "metadata": {
    "colab": {
      "name": "Basic Financial Calculations using Python.ipynb",
      "provenance": [],
      "authorship_tag": "ABX9TyNIVgBn+76ynHVMKOjXsQ51",
      "include_colab_link": true
    },
    "kernelspec": {
      "name": "python3",
      "display_name": "Python 3"
    },
    "language_info": {
      "name": "python"
    }
  },
  "cells": [
    {
      "cell_type": "markdown",
      "metadata": {
        "id": "view-in-github",
        "colab_type": "text"
      },
      "source": [
        "<a href=\"https://colab.research.google.com/github/plthiyagu/AI-Engineering/blob/master/05-Statistical/Basic_Financial_Calculations_using_Python.ipynb\" target=\"_parent\"><img src=\"https://colab.research.google.com/assets/colab-badge.svg\" alt=\"Open In Colab\"/></a>"
      ]
    },
    {
      "cell_type": "markdown",
      "metadata": {
        "id": "-7XEKQlGDA-F"
      },
      "source": [
        "Simple interest is something which everyone has studied in school. It is used to calculate the interest accrued on a loan or a savings deposit. Suppose, you deposit some amount in your bank, and want to calculate what will be the amount your bank will finally give you after adding interest, we can calculate that using simple interest.\n",
        "\n",
        "To calculate the simple interest we need three things, the principal amount, rate of interest, and time period. For the implementation here, we denote the principal as ‘p’, rate as ‘r’, and time as ‘t’.\n",
        "\n",
        "The function is implemented in the following way. A point to be noted is that here we are considering yearly interest, so the time and rate are taken yearly.\n",
        "\n"
      ]
    },
    {
      "cell_type": "code",
      "metadata": {
        "id": "PyiD7m3pCIPH"
      },
      "source": [
        "import numpy as np\n",
        "import math\n",
        "#simple interest\n",
        "def simple_interest(p, r, t):\n",
        "    print('Amount: ', p)\n",
        "    print(\"Rate of Interest (Per Annum)\", r)\n",
        "    print(\"Time (In Years): \",t)\n",
        "    si=(p*r*t)/100\n",
        "    a= p+si\n",
        "    print(\"Final Amount: \", a)\n",
        "    print(\"Simple Interest: \", si)"
      ],
      "execution_count": 1,
      "outputs": []
    },
    {
      "cell_type": "code",
      "metadata": {
        "colab": {
          "base_uri": "https://localhost:8080/"
        },
        "id": "URoFKicOCRhU",
        "outputId": "74d0e985-b378-47c6-aa3d-70390cd42cb0"
      },
      "source": [
        "simple_interest(1000, 5, 3)"
      ],
      "execution_count": 3,
      "outputs": [
        {
          "output_type": "stream",
          "text": [
            "Amount:  1000\n",
            "Rate of Interest (Per Annum) 5\n",
            "Time (In Years):  3\n",
            "Final Amount:  1150.0\n",
            "Simple Interest:  150.0\n"
          ],
          "name": "stdout"
        }
      ]
    },
    {
      "cell_type": "markdown",
      "metadata": {
        "id": "YPSx5ampDLvh"
      },
      "source": [
        "Compound Interest\n",
        "In the case of compound interest, the principle of compounding is used. The compound interest formula calculates the interest earned on the amount where interest from the previous investment cycle is also added as principal. As the interest earned is reinvested, the investment will earn more money due to compounding.\n",
        "\n",
        "The interest on the original balance would only count as simple interest, but as the additional amount is also added, we get CI.\n",
        "\n",
        "The code implementation is simple. The point to be noted here is that the rate is yearly and time is also taken in years.\n",
        "\n"
      ]
    },
    {
      "cell_type": "code",
      "metadata": {
        "id": "4uZAs_l_CJUk"
      },
      "source": [
        "#compound interest\n",
        "def compound_interest(p,r,t):\n",
        "    print('Amount: ', p)\n",
        "    print(\"Rate of Interest (Per Annum)\", r)\n",
        "    print(\"Time (In Years): \",t)\n",
        "    a= p*((1+r/100)**t)\n",
        "    ci= a-p\n",
        "    print(\"Final Amount: \", a)\n",
        "    print(\"Compound Interest: \", ci)"
      ],
      "execution_count": 2,
      "outputs": []
    },
    {
      "cell_type": "code",
      "metadata": {
        "colab": {
          "base_uri": "https://localhost:8080/"
        },
        "id": "IJvKoCgdCOOE",
        "outputId": "a844c296-6b4f-4b30-e794-fd3a356b274d"
      },
      "source": [
        "compound_interest(1000,10, 2)"
      ],
      "execution_count": 4,
      "outputs": [
        {
          "output_type": "stream",
          "text": [
            "Amount:  1000\n",
            "Rate of Interest (Per Annum) 10\n",
            "Time (In Years):  2\n",
            "Final Amount:  1210.0000000000002\n",
            "Compound Interest:  210.00000000000023\n"
          ],
          "name": "stdout"
        }
      ]
    },
    {
      "cell_type": "markdown",
      "metadata": {
        "id": "UbZq7NvrDSCe"
      },
      "source": [
        "Purchasing Power\n",
        "We all have heard about inflation in some way or the other. Be it our mother complaining about how the prices of groceries and vegetables are increasing, or be it the fact that bus and taxi fares have increased. Inflation reduces purchasing power. The same 100 INR we have today was more valuable 10 years ago, and similarly, the same 100 INR will be less valuable 10 years from now. Inflation reduces the purchasing power of money.\n",
        "\n",
        "To calculate the net purchasing of an amount, we need the inflation rate and the time period. The rates are taken yearly here and the time is also yearly. Calculation of purchasing power can help us compare it against the investment to see if we are gaining money on the investment.\n",
        "\n"
      ]
    },
    {
      "cell_type": "code",
      "metadata": {
        "id": "QEsJSVh8CZ4t"
      },
      "source": [
        "# Purchasing power\n",
        "def pur_power(p,r,t):\n",
        "    print(\"Initial Amount: \",p)\n",
        "    print(\"Annual Inflation Rate: \",r)\n",
        "    print(\"Time in years:\", t)\n",
        "    a= p* ((100/(100+r))**t)\n",
        "    print(\"Final amount after\",t,\"years of inflation: \", a)"
      ],
      "execution_count": 5,
      "outputs": []
    },
    {
      "cell_type": "code",
      "metadata": {
        "colab": {
          "base_uri": "https://localhost:8080/"
        },
        "id": "RkdpZNHaCaki",
        "outputId": "8fc4c14b-1944-4056-98d9-9da2e5401505"
      },
      "source": [
        "pur_power(10000,5,10)"
      ],
      "execution_count": 6,
      "outputs": [
        {
          "output_type": "stream",
          "text": [
            "Initial Amount:  10000\n",
            "Annual Inflation Rate:  5\n",
            "Time in years: 10\n",
            "Final amount after 10 years of inflation:  6139.13253540759\n"
          ],
          "name": "stdout"
        }
      ]
    },
    {
      "cell_type": "markdown",
      "metadata": {
        "id": "LbAlZ1kWDjal"
      },
      "source": [
        "Compound Annual Growth Rate\n",
        "We often invest in mutual funds and other bonds, where the interest rates vary with time. And people usually invest in them for a long time. The usual investment in bonds and mutual funds is for a period of 5 years or more. But, as the rates vary, the calculation of interest rates can be difficult. The compound annual growth rate formula helps in such cases to calculate the annual growth rate.\n",
        "\n",
        "To calculate CAGR, we need the initial amount, final amount, and the time period in years. The code implementation is simple. CAGR calculation helps us in calculating the performance of a fund or bond in comparison to other investment options.\n",
        "\n"
      ]
    },
    {
      "cell_type": "code",
      "metadata": {
        "id": "wzl_XmTXCclT"
      },
      "source": [
        "#compound annual growth rate\n",
        "def CAGR(p,a, t ):\n",
        "    print(\"Initial value of money: \",p)\n",
        "    print('Final value of money: ',a)\n",
        "    print(\"Time in years: \", t)\n",
        "    t_inv=1/t\n",
        "    cagr_rate= (((a/p)**t_inv)  -1)*100\n",
        "    print(\"Compound Annual Growth Rate (CAGR): \", cagr_rate)"
      ],
      "execution_count": 7,
      "outputs": []
    },
    {
      "cell_type": "code",
      "metadata": {
        "colab": {
          "base_uri": "https://localhost:8080/"
        },
        "id": "-o0ZPgCcChlY",
        "outputId": "ab1b7157-1fde-4a08-8886-09463da1bf1b"
      },
      "source": [
        "CAGR(10000,50000,10 )"
      ],
      "execution_count": 8,
      "outputs": [
        {
          "output_type": "stream",
          "text": [
            "Initial value of money:  10000\n",
            "Final value of money:  50000\n",
            "Time in years:  10\n",
            "Compound Annual Growth Rate (CAGR):  17.461894308801895\n"
          ],
          "name": "stdout"
        }
      ]
    },
    {
      "cell_type": "markdown",
      "metadata": {
        "id": "Z4JiV7YfDpfc"
      },
      "source": [
        "Monthly EMI\n",
        "We all have heard about loans and EMIs etc. People take loans for various reasons, like education, house construction, purchase of car, property etc. The payments on loans are usually made on a monthly basis.\n",
        "\n",
        "EMI stands for Equated Monthly Installment. It is the fixed amount to be paid by the borrower to the lender each month to complete the repayment of the loan. The benefit for EMI for borrowers is that they will be knowing exactly how much they have to pay back to the lender each month. The lender can be your bank or any other financial company.\n",
        "\n",
        "The EMI is dependent on various factors like the principal borrowed, rate of interest, tenure of loan, etc. Let us look at the implementation of the calculation of monthly EMI. EMIs are adjusted in such a way that the borrower is able to pay back the amount per month without any delay or problem.\n",
        "\n"
      ]
    },
    {
      "cell_type": "code",
      "metadata": {
        "id": "7T3u650QCjuC"
      },
      "source": [
        "#monthly EMI calculation\n",
        "def EMI(p,r,n):\n",
        "    print(\"Total Loan Amount: \",p)\n",
        "    print(\"Rate of Interest: \",r)\n",
        "    print(\"Number of installments: \",n)\n",
        "    r_mon=  r/(12*100)\n",
        "    emi = p * r_mon * ((1+r_mon)**n)/((1+r_mon)**n - 1)\n",
        "    print(\"EMI for\",n,\"months: \",emi )"
      ],
      "execution_count": 9,
      "outputs": []
    },
    {
      "cell_type": "code",
      "metadata": {
        "colab": {
          "base_uri": "https://localhost:8080/"
        },
        "id": "7ryVrm7LCobL",
        "outputId": "90f5475b-1e23-428c-f40b-aa56103191ac"
      },
      "source": [
        "EMI(500000,8, 24)"
      ],
      "execution_count": 10,
      "outputs": [
        {
          "output_type": "stream",
          "text": [
            "Total Loan Amount:  500000\n",
            "Rate of Interest:  8\n",
            "Number of installments:  24\n",
            "EMI for 24 months:  22613.645728092295\n"
          ],
          "name": "stdout"
        }
      ]
    },
    {
      "cell_type": "markdown",
      "metadata": {
        "id": "eBt-iatTDvM9"
      },
      "source": [
        "Double Time Calculation\n",
        "The doubling time formula is used in finance to calculate how much time it will require to double our investment based on the interest rate. It is a very important metric to determine if an investment is worth the effort and time. The doubling time formula takes only the interest rate as an input. The logarithmic function is used for the calculation. Often, many bonds and funds are invested till they are doubled. The funds/ bonds have a CAGR rate associated with them. With the rate, we can calculate the doubling time. \n"
      ]
    },
    {
      "cell_type": "code",
      "metadata": {
        "id": "tsZo6L-OCq58"
      },
      "source": [
        "#doubling time calculation\n",
        "def double(r):\n",
        "    print(\"Rate of Interest: \",r)\n",
        "    t= math.log(2)/math.log(1+ (r/100))\n",
        "    print(\"Time taken in years to double money at\",r,\"percent PA: \", t)"
      ],
      "execution_count": 11,
      "outputs": []
    },
    {
      "cell_type": "code",
      "metadata": {
        "colab": {
          "base_uri": "https://localhost:8080/"
        },
        "id": "k2hti6P7Cu1p",
        "outputId": "4d079961-0a36-42b1-c36d-6a9cb85ec8ba"
      },
      "source": [
        "double(8)"
      ],
      "execution_count": 12,
      "outputs": [
        {
          "output_type": "stream",
          "text": [
            "Rate of Interest:  8\n",
            "Time taken in years to double money at 8 percent PA:  9.006468342000588\n"
          ],
          "name": "stdout"
        }
      ]
    },
    {
      "cell_type": "markdown",
      "metadata": {
        "id": "h-ZxySo1D1bi"
      },
      "source": [
        "Weighted Average\n",
        "The weighted average is used to calculate the average of a set of numbers with each having its different weights. The ratio of the importance of each value is called its weight. All weights should add up to be 1 or 100%.\n",
        "\n",
        "The concept of the weighted average is used in mathematical calculations a lot. In finance, it has many applications. One of the most important applications is the weighted average cost of capital.\n",
        "\n",
        "Let us implement the WA calculation. The rates taken are the various items. The rates can be assumed to be rates of interest of various investments a person holds. The ratio of each investment principal is in the ratio list. The WA formula gives the net rate of interest."
      ]
    },
    {
      "cell_type": "code",
      "metadata": {
        "id": "mqvz_GgSCx1U"
      },
      "source": [
        "ratio=[0.20, 0.25, 0.35,0.10, 0.10]\n",
        "rates=[7.5, 8.5, 8, 5, 6]\n",
        "def weighted_average(ratio,rates):\n",
        "    wa=0\n",
        "    for i in range(len(ratio)):\n",
        "        wa= wa+ ratio[i]*rates[i]\n",
        "    print(\"Weighted Average returns: \",wa)"
      ],
      "execution_count": 13,
      "outputs": []
    },
    {
      "cell_type": "code",
      "metadata": {
        "colab": {
          "base_uri": "https://localhost:8080/"
        },
        "id": "OkHDEzgUC1wF",
        "outputId": "59f73346-0a9f-40a6-f373-ae7c931a1406"
      },
      "source": [
        "weighted_average(ratio,rates)"
      ],
      "execution_count": 14,
      "outputs": [
        {
          "output_type": "stream",
          "text": [
            "Weighted Average returns:  7.525\n"
          ],
          "name": "stdout"
        }
      ]
    },
    {
      "cell_type": "code",
      "metadata": {
        "id": "piCAqnHfC36z"
      },
      "source": [
        ""
      ],
      "execution_count": null,
      "outputs": []
    }
  ]
}