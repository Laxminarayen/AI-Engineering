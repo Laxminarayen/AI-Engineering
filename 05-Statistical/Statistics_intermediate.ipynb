{
  "nbformat": 4,
  "nbformat_minor": 0,
  "metadata": {
    "colab": {
      "name": "Statistics intermediate.ipynb",
      "provenance": [],
      "authorship_tag": "ABX9TyPCyIHfadfHhMCaEgUGAxVm",
      "include_colab_link": true
    },
    "kernelspec": {
      "name": "python3",
      "display_name": "Python 3"
    },
    "language_info": {
      "name": "python"
    }
  },
  "cells": [
    {
      "cell_type": "markdown",
      "metadata": {
        "id": "view-in-github",
        "colab_type": "text"
      },
      "source": [
        "<a href=\"https://colab.research.google.com/github/plthiyagu/AI-Engineering/blob/master/05-Statistical/Statistics_intermediate.ipynb\" target=\"_parent\"><img src=\"https://colab.research.google.com/assets/colab-badge.svg\" alt=\"Open In Colab\"/></a>"
      ]
    },
    {
      "cell_type": "code",
      "metadata": {
        "colab": {
          "base_uri": "https://localhost:8080/"
        },
        "id": "QMZrU2gct8Gk",
        "outputId": "fcdc3487-15bd-4dc8-ae22-33ebd698e478"
      },
      "source": [
        "import numpy as np\n",
        "import scipy.stats as stat\n",
        "arr = np.array([6, 7, 7, 12, 13, 13, 15, 16, 19, 22])\n",
        "print(stat.zscore(arr, axis=0))"
      ],
      "execution_count": 1,
      "outputs": [
        {
          "output_type": "stream",
          "text": [
            "[-1.39443338 -1.19522861 -1.19522861 -0.19920477  0.          0.\n",
            "  0.39840954  0.5976143   1.19522861  1.79284291]\n"
          ],
          "name": "stdout"
        }
      ]
    },
    {
      "cell_type": "code",
      "metadata": {
        "colab": {
          "base_uri": "https://localhost:8080/"
        },
        "id": "y7cQqG_Bt9zy",
        "outputId": "27bb7886-86d5-448d-b884-9b5d1d6f5112"
      },
      "source": [
        "import scipy.stats as stat\n",
        "np.random.seed(10)\n",
        "data = np.random.randint(10, 30, 50)\n",
        "#create 95% confidence interval for population mean weight\n",
        "conf_interval = stat.norm.interval(alpha=0.95, loc=np.mean(data), scale=stat.sem(data))\n",
        "print(conf_interval)"
      ],
      "execution_count": 2,
      "outputs": [
        {
          "output_type": "stream",
          "text": [
            "(18.936862441586825, 22.103137558413174)\n"
          ],
          "name": "stdout"
        }
      ]
    },
    {
      "cell_type": "code",
      "metadata": {
        "colab": {
          "base_uri": "https://localhost:8080/"
        },
        "id": "TPV0e1QruA5Q",
        "outputId": "fa9bd624-e895-4fef-9627-febd6dd7b114"
      },
      "source": [
        "stat.chi2.pdf(3.84, 1)"
      ],
      "execution_count": 3,
      "outputs": [
        {
          "output_type": "execute_result",
          "data": {
            "text/plain": [
              "0.029846887483060566"
            ]
          },
          "metadata": {
            "tags": []
          },
          "execution_count": 3
        }
      ]
    },
    {
      "cell_type": "code",
      "metadata": {
        "id": "fSHlLepxuIAi"
      },
      "source": [
        ""
      ],
      "execution_count": null,
      "outputs": []
    }
  ]
}