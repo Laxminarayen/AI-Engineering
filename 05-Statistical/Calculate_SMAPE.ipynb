{
  "nbformat": 4,
  "nbformat_minor": 0,
  "metadata": {
    "colab": {
      "name": "Calculate SMAPE.ipynb",
      "provenance": [],
      "authorship_tag": "ABX9TyOrp8NIKGdRnTXs80mN9Gh8",
      "include_colab_link": true
    },
    "kernelspec": {
      "name": "python3",
      "display_name": "Python 3"
    },
    "language_info": {
      "name": "python"
    }
  },
  "cells": [
    {
      "cell_type": "markdown",
      "metadata": {
        "id": "view-in-github",
        "colab_type": "text"
      },
      "source": [
        "<a href=\"https://colab.research.google.com/github/plthiyagu/AI-Engineering/blob/master/05-Statistical/Calculate_SMAPE.ipynb\" target=\"_parent\"><img src=\"https://colab.research.google.com/assets/colab-badge.svg\" alt=\"Open In Colab\"/></a>"
      ]
    },
    {
      "cell_type": "markdown",
      "metadata": {
        "id": "glQmXaKcX1fJ"
      },
      "source": [
        "https://vedexcel.com/how-to-calculate-smape-in-python/"
      ]
    },
    {
      "cell_type": "code",
      "metadata": {
        "colab": {
          "base_uri": "https://localhost:8080/"
        },
        "id": "welq8U17Xqfp",
        "outputId": "f31d0c5d-7103-46f7-e21b-1664b4d8ab03"
      },
      "source": [
        "import numpy as np\n",
        "def smape(act,forc):\n",
        "    return 100/len(act) * np.sum(2 * np.abs(forc - act) / (np.abs(act) + np.abs(forc)))\n",
        "#define Actual and forecast data array\n",
        "actual = np.array([10,11,12,12,14,18,20])\n",
        "forecast = np.array([9,10,13,14,17,16,18])\n",
        "# Calculate SMAPE\n",
        "result = smape(actual,forecast)\n",
        "# print the result\n",
        "print(\"SMAPE :\",result)"
      ],
      "execution_count": 1,
      "outputs": [
        {
          "output_type": "stream",
          "name": "stdout",
          "text": [
            "SMAPE : 12.154371582771807\n"
          ]
        }
      ]
    }
  ]
}