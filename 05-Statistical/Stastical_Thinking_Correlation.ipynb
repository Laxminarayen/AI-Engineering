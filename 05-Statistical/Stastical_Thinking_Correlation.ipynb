{
  "nbformat": 4,
  "nbformat_minor": 0,
  "metadata": {
    "colab": {
      "name": "Stastical Thinking Correlation.ipynb",
      "provenance": [],
      "collapsed_sections": [],
      "authorship_tag": "ABX9TyMNWZ8pSP7nydBuVLU8Qvnv",
      "include_colab_link": true
    },
    "kernelspec": {
      "name": "python3",
      "display_name": "Python 3"
    }
  },
  "cells": [
    {
      "cell_type": "markdown",
      "metadata": {
        "id": "view-in-github",
        "colab_type": "text"
      },
      "source": [
        "<a href=\"https://colab.research.google.com/github/plthiyagu/Personnel/blob/master/Stastical_Thinking_Correlation.ipynb\" target=\"_parent\"><img src=\"https://colab.research.google.com/assets/colab-badge.svg\" alt=\"Open In Colab\"/></a>"
      ]
    },
    {
      "cell_type": "code",
      "metadata": {
        "id": "YS1koQ2DQ-6W",
        "colab_type": "code",
        "colab": {}
      },
      "source": [
        "import warnings\n",
        "warnings.simplefilter(action='ignore', category=FutureWarning)\n",
        "warnings.simplefilter(action='ignore', category=Warning)"
      ],
      "execution_count": 0,
      "outputs": []
    },
    {
      "cell_type": "code",
      "metadata": {
        "id": "tzmp1y09RfXd",
        "colab_type": "code",
        "colab": {}
      },
      "source": [
        "import pandas as pd\n",
        "import numpy as np\n",
        "import seaborn as sns\n",
        "\n",
        "import matplotlib.pyplot as plt\n",
        "%matplotlib inline"
      ],
      "execution_count": 0,
      "outputs": []
    },
    {
      "cell_type": "code",
      "metadata": {
        "id": "snKU2qgHRjz8",
        "colab_type": "code",
        "colab": {}
      },
      "source": [
        "loan_df =pd.read_csv(\"https://raw.githubusercontent.com/plthiyagu/Personnel/master/Dataset/loan_analysis_summary.csv\")"
      ],
      "execution_count": 0,
      "outputs": []
    },
    {
      "cell_type": "code",
      "metadata": {
        "id": "vNN70UpISx8C",
        "colab_type": "code",
        "colab": {
          "base_uri": "https://localhost:8080/",
          "height": 204
        },
        "outputId": "760b1d90-2aff-4d1a-ec70-7c3a7452f835"
      },
      "source": [
        "loan_df.head()"
      ],
      "execution_count": 4,
      "outputs": [
        {
          "output_type": "execute_result",
          "data": {
            "text/html": [
              "<div>\n",
              "<style scoped>\n",
              "    .dataframe tbody tr th:only-of-type {\n",
              "        vertical-align: middle;\n",
              "    }\n",
              "\n",
              "    .dataframe tbody tr th {\n",
              "        vertical-align: top;\n",
              "    }\n",
              "\n",
              "    .dataframe thead th {\n",
              "        text-align: right;\n",
              "    }\n",
              "</style>\n",
              "<table border=\"1\" class=\"dataframe\">\n",
              "  <thead>\n",
              "    <tr style=\"text-align: right;\">\n",
              "      <th></th>\n",
              "      <th>fico_score</th>\n",
              "      <th>loan_total</th>\n",
              "      <th>default_total</th>\n",
              "      <th>dti</th>\n",
              "      <th>avg_loan_amnt</th>\n",
              "      <th>median_annual_inc</th>\n",
              "      <th>avg_annual_inc</th>\n",
              "      <th>int_rate</th>\n",
              "      <th>default_rate</th>\n",
              "      <th>actual_default_rate</th>\n",
              "    </tr>\n",
              "  </thead>\n",
              "  <tbody>\n",
              "    <tr>\n",
              "      <th>0</th>\n",
              "      <td>500</td>\n",
              "      <td>3585</td>\n",
              "      <td>3183</td>\n",
              "      <td>19.737013</td>\n",
              "      <td>13660.71827</td>\n",
              "      <td>55000</td>\n",
              "      <td>63396.10292</td>\n",
              "      <td>15.352285</td>\n",
              "      <td>2.463470</td>\n",
              "      <td>0.520266</td>\n",
              "    </tr>\n",
              "    <tr>\n",
              "      <th>1</th>\n",
              "      <td>510</td>\n",
              "      <td>8223</td>\n",
              "      <td>7191</td>\n",
              "      <td>19.747810</td>\n",
              "      <td>13889.67226</td>\n",
              "      <td>56000</td>\n",
              "      <td>65446.52263</td>\n",
              "      <td>15.440212</td>\n",
              "      <td>5.565445</td>\n",
              "      <td>1.175378</td>\n",
              "    </tr>\n",
              "    <tr>\n",
              "      <th>2</th>\n",
              "      <td>520</td>\n",
              "      <td>9792</td>\n",
              "      <td>8370</td>\n",
              "      <td>20.085761</td>\n",
              "      <td>14186.13920</td>\n",
              "      <td>58728</td>\n",
              "      <td>68261.38708</td>\n",
              "      <td>15.312451</td>\n",
              "      <td>6.477927</td>\n",
              "      <td>1.368087</td>\n",
              "    </tr>\n",
              "    <tr>\n",
              "      <th>3</th>\n",
              "      <td>530</td>\n",
              "      <td>10984</td>\n",
              "      <td>9254</td>\n",
              "      <td>20.253199</td>\n",
              "      <td>14487.00838</td>\n",
              "      <td>60000</td>\n",
              "      <td>69041.52340</td>\n",
              "      <td>15.449011</td>\n",
              "      <td>7.162095</td>\n",
              "      <td>1.512578</td>\n",
              "    </tr>\n",
              "    <tr>\n",
              "      <th>4</th>\n",
              "      <td>540</td>\n",
              "      <td>12333</td>\n",
              "      <td>10127</td>\n",
              "      <td>20.770446</td>\n",
              "      <td>14756.36706</td>\n",
              "      <td>60000</td>\n",
              "      <td>69948.95243</td>\n",
              "      <td>15.271022</td>\n",
              "      <td>7.837750</td>\n",
              "      <td>1.655271</td>\n",
              "    </tr>\n",
              "  </tbody>\n",
              "</table>\n",
              "</div>"
            ],
            "text/plain": [
              "   fico_score  loan_total  ...  default_rate  actual_default_rate\n",
              "0         500        3585  ...      2.463470             0.520266\n",
              "1         510        8223  ...      5.565445             1.175378\n",
              "2         520        9792  ...      6.477927             1.368087\n",
              "3         530       10984  ...      7.162095             1.512578\n",
              "4         540       12333  ...      7.837750             1.655271\n",
              "\n",
              "[5 rows x 10 columns]"
            ]
          },
          "metadata": {
            "tags": []
          },
          "execution_count": 4
        }
      ]
    },
    {
      "cell_type": "code",
      "metadata": {
        "id": "xYbKh5LkS0Ql",
        "colab_type": "code",
        "colab": {
          "base_uri": "https://localhost:8080/",
          "height": 297
        },
        "outputId": "08672d69-2355-47aa-a6d0-ac311bca53fe"
      },
      "source": [
        "loan_df.describe()"
      ],
      "execution_count": 5,
      "outputs": [
        {
          "output_type": "execute_result",
          "data": {
            "text/html": [
              "<div>\n",
              "<style scoped>\n",
              "    .dataframe tbody tr th:only-of-type {\n",
              "        vertical-align: middle;\n",
              "    }\n",
              "\n",
              "    .dataframe tbody tr th {\n",
              "        vertical-align: top;\n",
              "    }\n",
              "\n",
              "    .dataframe thead th {\n",
              "        text-align: right;\n",
              "    }\n",
              "</style>\n",
              "<table border=\"1\" class=\"dataframe\">\n",
              "  <thead>\n",
              "    <tr style=\"text-align: right;\">\n",
              "      <th></th>\n",
              "      <th>fico_score</th>\n",
              "      <th>loan_total</th>\n",
              "      <th>default_total</th>\n",
              "      <th>dti</th>\n",
              "      <th>avg_loan_amnt</th>\n",
              "      <th>median_annual_inc</th>\n",
              "      <th>avg_annual_inc</th>\n",
              "      <th>int_rate</th>\n",
              "      <th>default_rate</th>\n",
              "      <th>actual_default_rate</th>\n",
              "    </tr>\n",
              "  </thead>\n",
              "  <tbody>\n",
              "    <tr>\n",
              "      <th>count</th>\n",
              "      <td>36.000000</td>\n",
              "      <td>36.000000</td>\n",
              "      <td>36.000000</td>\n",
              "      <td>36.000000</td>\n",
              "      <td>36.000000</td>\n",
              "      <td>36.000000</td>\n",
              "      <td>36.000000</td>\n",
              "      <td>36.000000</td>\n",
              "      <td>36.000000</td>\n",
              "      <td>36.000000</td>\n",
              "    </tr>\n",
              "    <tr>\n",
              "      <th>mean</th>\n",
              "      <td>675.000000</td>\n",
              "      <td>16994.527778</td>\n",
              "      <td>3589.111111</td>\n",
              "      <td>18.790417</td>\n",
              "      <td>15088.569697</td>\n",
              "      <td>65678.583333</td>\n",
              "      <td>77391.960108</td>\n",
              "      <td>12.520384</td>\n",
              "      <td>2.777778</td>\n",
              "      <td>0.586645</td>\n",
              "    </tr>\n",
              "    <tr>\n",
              "      <th>std</th>\n",
              "      <td>105.356538</td>\n",
              "      <td>11917.752515</td>\n",
              "      <td>3512.765608</td>\n",
              "      <td>1.690671</td>\n",
              "      <td>1633.584599</td>\n",
              "      <td>6846.614297</td>\n",
              "      <td>8038.473538</td>\n",
              "      <td>2.560128</td>\n",
              "      <td>2.718690</td>\n",
              "      <td>0.574166</td>\n",
              "    </tr>\n",
              "    <tr>\n",
              "      <th>min</th>\n",
              "      <td>500.000000</td>\n",
              "      <td>124.000000</td>\n",
              "      <td>3.000000</td>\n",
              "      <td>14.676210</td>\n",
              "      <td>12994.231600</td>\n",
              "      <td>55000.000000</td>\n",
              "      <td>63396.102920</td>\n",
              "      <td>7.585562</td>\n",
              "      <td>0.002322</td>\n",
              "      <td>0.000490</td>\n",
              "    </tr>\n",
              "    <tr>\n",
              "      <th>25%</th>\n",
              "      <td>587.500000</td>\n",
              "      <td>10452.750000</td>\n",
              "      <td>214.250000</td>\n",
              "      <td>17.650570</td>\n",
              "      <td>14038.181180</td>\n",
              "      <td>61297.500000</td>\n",
              "      <td>72364.301710</td>\n",
              "      <td>10.453639</td>\n",
              "      <td>0.165818</td>\n",
              "      <td>0.035019</td>\n",
              "    </tr>\n",
              "    <tr>\n",
              "      <th>50%</th>\n",
              "      <td>675.000000</td>\n",
              "      <td>12519.500000</td>\n",
              "      <td>2886.500000</td>\n",
              "      <td>19.083851</td>\n",
              "      <td>14857.024775</td>\n",
              "      <td>63000.000000</td>\n",
              "      <td>74919.065440</td>\n",
              "      <td>13.556549</td>\n",
              "      <td>2.233995</td>\n",
              "      <td>0.471802</td>\n",
              "    </tr>\n",
              "    <tr>\n",
              "      <th>75%</th>\n",
              "      <td>762.500000</td>\n",
              "      <td>23774.500000</td>\n",
              "      <td>6123.750000</td>\n",
              "      <td>20.165171</td>\n",
              "      <td>15353.673887</td>\n",
              "      <td>68250.000000</td>\n",
              "      <td>80706.824483</td>\n",
              "      <td>14.732548</td>\n",
              "      <td>4.739451</td>\n",
              "      <td>1.000935</td>\n",
              "    </tr>\n",
              "    <tr>\n",
              "      <th>max</th>\n",
              "      <td>850.000000</td>\n",
              "      <td>40444.000000</td>\n",
              "      <td>10164.000000</td>\n",
              "      <td>20.974137</td>\n",
              "      <td>20082.459680</td>\n",
              "      <td>83750.000000</td>\n",
              "      <td>98683.805750</td>\n",
              "      <td>15.449011</td>\n",
              "      <td>7.866386</td>\n",
              "      <td>1.661319</td>\n",
              "    </tr>\n",
              "  </tbody>\n",
              "</table>\n",
              "</div>"
            ],
            "text/plain": [
              "       fico_score    loan_total  ...  default_rate  actual_default_rate\n",
              "count   36.000000     36.000000  ...     36.000000            36.000000\n",
              "mean   675.000000  16994.527778  ...      2.777778             0.586645\n",
              "std    105.356538  11917.752515  ...      2.718690             0.574166\n",
              "min    500.000000    124.000000  ...      0.002322             0.000490\n",
              "25%    587.500000  10452.750000  ...      0.165818             0.035019\n",
              "50%    675.000000  12519.500000  ...      2.233995             0.471802\n",
              "75%    762.500000  23774.500000  ...      4.739451             1.000935\n",
              "max    850.000000  40444.000000  ...      7.866386             1.661319\n",
              "\n",
              "[8 rows x 10 columns]"
            ]
          },
          "metadata": {
            "tags": []
          },
          "execution_count": 5
        }
      ]
    },
    {
      "cell_type": "code",
      "metadata": {
        "id": "-u__K5IAxK32",
        "colab_type": "code",
        "colab": {
          "base_uri": "https://localhost:8080/",
          "height": 306
        },
        "outputId": "106eca10-4f8a-4446-9453-30c2b3315f3d"
      },
      "source": [
        "loan_df.info()"
      ],
      "execution_count": 6,
      "outputs": [
        {
          "output_type": "stream",
          "text": [
            "<class 'pandas.core.frame.DataFrame'>\n",
            "RangeIndex: 36 entries, 0 to 35\n",
            "Data columns (total 10 columns):\n",
            " #   Column               Non-Null Count  Dtype  \n",
            "---  ------               --------------  -----  \n",
            " 0   fico_score           36 non-null     int64  \n",
            " 1   loan_total           36 non-null     int64  \n",
            " 2   default_total        36 non-null     int64  \n",
            " 3   dti                  36 non-null     float64\n",
            " 4   avg_loan_amnt        36 non-null     float64\n",
            " 5   median_annual_inc    36 non-null     int64  \n",
            " 6   avg_annual_inc       36 non-null     float64\n",
            " 7   int_rate             36 non-null     float64\n",
            " 8   default_rate         36 non-null     float64\n",
            " 9   actual_default_rate  36 non-null     float64\n",
            "dtypes: float64(6), int64(4)\n",
            "memory usage: 2.9 KB\n"
          ],
          "name": "stdout"
        }
      ]
    },
    {
      "cell_type": "code",
      "metadata": {
        "id": "hpPe5m6axNpX",
        "colab_type": "code",
        "colab": {
          "base_uri": "https://localhost:8080/",
          "height": 204
        },
        "outputId": "46dc004b-d3c3-4586-ebae-8a412a35c99c"
      },
      "source": [
        "loan_df.dtypes"
      ],
      "execution_count": 7,
      "outputs": [
        {
          "output_type": "execute_result",
          "data": {
            "text/plain": [
              "fico_score               int64\n",
              "loan_total               int64\n",
              "default_total            int64\n",
              "dti                    float64\n",
              "avg_loan_amnt          float64\n",
              "median_annual_inc        int64\n",
              "avg_annual_inc         float64\n",
              "int_rate               float64\n",
              "default_rate           float64\n",
              "actual_default_rate    float64\n",
              "dtype: object"
            ]
          },
          "metadata": {
            "tags": []
          },
          "execution_count": 7
        }
      ]
    },
    {
      "cell_type": "code",
      "metadata": {
        "id": "kOdjGhshxQDY",
        "colab_type": "code",
        "colab": {
          "base_uri": "https://localhost:8080/",
          "height": 34
        },
        "outputId": "fbea77ae-ae68-4eb1-ba49-63bb28032317"
      },
      "source": [
        "loan_df.shape"
      ],
      "execution_count": 8,
      "outputs": [
        {
          "output_type": "execute_result",
          "data": {
            "text/plain": [
              "(36, 10)"
            ]
          },
          "metadata": {
            "tags": []
          },
          "execution_count": 8
        }
      ]
    },
    {
      "cell_type": "code",
      "metadata": {
        "id": "_4O388ZixSJ0",
        "colab_type": "code",
        "colab": {
          "base_uri": "https://localhost:8080/",
          "height": 34
        },
        "outputId": "08cd6caa-7c97-4416-f24d-150641765690"
      },
      "source": [
        "loan_df.shape[0]"
      ],
      "execution_count": 9,
      "outputs": [
        {
          "output_type": "execute_result",
          "data": {
            "text/plain": [
              "36"
            ]
          },
          "metadata": {
            "tags": []
          },
          "execution_count": 9
        }
      ]
    },
    {
      "cell_type": "code",
      "metadata": {
        "id": "XFhuSMOHxZMe",
        "colab_type": "code",
        "colab": {
          "base_uri": "https://localhost:8080/",
          "height": 187
        },
        "outputId": "c09e75f3-bd30-4805-8ca8-62f950e7e03a"
      },
      "source": [
        "loan_df.columns.to_list()"
      ],
      "execution_count": 10,
      "outputs": [
        {
          "output_type": "execute_result",
          "data": {
            "text/plain": [
              "['fico_score',\n",
              " 'loan_total',\n",
              " 'default_total',\n",
              " 'dti',\n",
              " 'avg_loan_amnt',\n",
              " 'median_annual_inc',\n",
              " 'avg_annual_inc',\n",
              " 'int_rate',\n",
              " 'default_rate',\n",
              " 'actual_default_rate']"
            ]
          },
          "metadata": {
            "tags": []
          },
          "execution_count": 10
        }
      ]
    },
    {
      "cell_type": "code",
      "metadata": {
        "id": "x8NJR5mQxdmT",
        "colab_type": "code",
        "colab": {
          "base_uri": "https://localhost:8080/",
          "height": 204
        },
        "outputId": "a0c38daf-f667-4bed-aed4-d6fa0dacdf69"
      },
      "source": [
        "loan_df.dtypes"
      ],
      "execution_count": 11,
      "outputs": [
        {
          "output_type": "execute_result",
          "data": {
            "text/plain": [
              "fico_score               int64\n",
              "loan_total               int64\n",
              "default_total            int64\n",
              "dti                    float64\n",
              "avg_loan_amnt          float64\n",
              "median_annual_inc        int64\n",
              "avg_annual_inc         float64\n",
              "int_rate               float64\n",
              "default_rate           float64\n",
              "actual_default_rate    float64\n",
              "dtype: object"
            ]
          },
          "metadata": {
            "tags": []
          },
          "execution_count": 11
        }
      ]
    },
    {
      "cell_type": "code",
      "metadata": {
        "id": "hdffj3w2xg5b",
        "colab_type": "code",
        "colab": {
          "base_uri": "https://localhost:8080/",
          "height": 379
        },
        "outputId": "bf863d03-bd59-4af9-961f-158720503b33"
      },
      "source": [
        "loan_df.cov()"
      ],
      "execution_count": 12,
      "outputs": [
        {
          "output_type": "execute_result",
          "data": {
            "text/html": [
              "<div>\n",
              "<style scoped>\n",
              "    .dataframe tbody tr th:only-of-type {\n",
              "        vertical-align: middle;\n",
              "    }\n",
              "\n",
              "    .dataframe tbody tr th {\n",
              "        vertical-align: top;\n",
              "    }\n",
              "\n",
              "    .dataframe thead th {\n",
              "        text-align: right;\n",
              "    }\n",
              "</style>\n",
              "<table border=\"1\" class=\"dataframe\">\n",
              "  <thead>\n",
              "    <tr style=\"text-align: right;\">\n",
              "      <th></th>\n",
              "      <th>fico_score</th>\n",
              "      <th>loan_total</th>\n",
              "      <th>default_total</th>\n",
              "      <th>dti</th>\n",
              "      <th>avg_loan_amnt</th>\n",
              "      <th>median_annual_inc</th>\n",
              "      <th>avg_annual_inc</th>\n",
              "      <th>int_rate</th>\n",
              "      <th>default_rate</th>\n",
              "      <th>actual_default_rate</th>\n",
              "    </tr>\n",
              "  </thead>\n",
              "  <tbody>\n",
              "    <tr>\n",
              "      <th>fico_score</th>\n",
              "      <td>11100.000000</td>\n",
              "      <td>8.431757e+04</td>\n",
              "      <td>-3.281917e+05</td>\n",
              "      <td>-164.562715</td>\n",
              "      <td>1.179751e+05</td>\n",
              "      <td>6.540867e+05</td>\n",
              "      <td>7.851304e+05</td>\n",
              "      <td>-261.372425</td>\n",
              "      <td>-254.002627</td>\n",
              "      <td>-53.643365</td>\n",
              "    </tr>\n",
              "    <tr>\n",
              "      <th>loan_total</th>\n",
              "      <td>84317.571429</td>\n",
              "      <td>1.420328e+08</td>\n",
              "      <td>-6.117364e+06</td>\n",
              "      <td>2841.802408</td>\n",
              "      <td>-9.263903e+06</td>\n",
              "      <td>-1.233279e+07</td>\n",
              "      <td>-9.045332e+06</td>\n",
              "      <td>3454.737681</td>\n",
              "      <td>-4734.508923</td>\n",
              "      <td>-999.891190</td>\n",
              "    </tr>\n",
              "    <tr>\n",
              "      <th>default_total</th>\n",
              "      <td>-328191.714286</td>\n",
              "      <td>-6.117364e+06</td>\n",
              "      <td>1.233952e+07</td>\n",
              "      <td>5018.669412</td>\n",
              "      <td>-2.542762e+06</td>\n",
              "      <td>-1.726291e+07</td>\n",
              "      <td>-2.094780e+07</td>\n",
              "      <td>7646.662485</td>\n",
              "      <td>9550.122450</td>\n",
              "      <td>2016.911035</td>\n",
              "    </tr>\n",
              "    <tr>\n",
              "      <th>dti</th>\n",
              "      <td>-164.562715</td>\n",
              "      <td>2.841802e+03</td>\n",
              "      <td>5.018669e+03</td>\n",
              "      <td>2.858369</td>\n",
              "      <td>-2.164641e+03</td>\n",
              "      <td>-1.040763e+04</td>\n",
              "      <td>-1.219916e+04</td>\n",
              "      <td>4.167275</td>\n",
              "      <td>3.884179</td>\n",
              "      <td>0.820308</td>\n",
              "    </tr>\n",
              "    <tr>\n",
              "      <th>avg_loan_amnt</th>\n",
              "      <td>117975.085123</td>\n",
              "      <td>-9.263903e+06</td>\n",
              "      <td>-2.542762e+06</td>\n",
              "      <td>-2164.640693</td>\n",
              "      <td>2.668599e+06</td>\n",
              "      <td>9.564547e+06</td>\n",
              "      <td>1.092982e+07</td>\n",
              "      <td>-3359.878600</td>\n",
              "      <td>-1967.960087</td>\n",
              "      <td>-415.617751</td>\n",
              "    </tr>\n",
              "    <tr>\n",
              "      <th>median_annual_inc</th>\n",
              "      <td>654086.714286</td>\n",
              "      <td>-1.233279e+07</td>\n",
              "      <td>-1.726291e+07</td>\n",
              "      <td>-10407.631551</td>\n",
              "      <td>9.564547e+06</td>\n",
              "      <td>4.687613e+07</td>\n",
              "      <td>5.457827e+07</td>\n",
              "      <td>-16564.670539</td>\n",
              "      <td>-13360.560742</td>\n",
              "      <td>-2821.645746</td>\n",
              "    </tr>\n",
              "    <tr>\n",
              "      <th>avg_annual_inc</th>\n",
              "      <td>785130.353840</td>\n",
              "      <td>-9.045332e+06</td>\n",
              "      <td>-2.094780e+07</td>\n",
              "      <td>-12199.161949</td>\n",
              "      <td>1.092982e+07</td>\n",
              "      <td>5.457827e+07</td>\n",
              "      <td>6.461706e+07</td>\n",
              "      <td>-19471.216732</td>\n",
              "      <td>-16212.465719</td>\n",
              "      <td>-3423.945732</td>\n",
              "    </tr>\n",
              "    <tr>\n",
              "      <th>int_rate</th>\n",
              "      <td>-261.372425</td>\n",
              "      <td>3.454738e+03</td>\n",
              "      <td>7.646662e+03</td>\n",
              "      <td>4.167275</td>\n",
              "      <td>-3.359879e+03</td>\n",
              "      <td>-1.656467e+04</td>\n",
              "      <td>-1.947122e+04</td>\n",
              "      <td>6.554256</td>\n",
              "      <td>5.918103</td>\n",
              "      <td>1.249857</td>\n",
              "    </tr>\n",
              "    <tr>\n",
              "      <th>default_rate</th>\n",
              "      <td>-254.002627</td>\n",
              "      <td>-4.734509e+03</td>\n",
              "      <td>9.550122e+03</td>\n",
              "      <td>3.884179</td>\n",
              "      <td>-1.967960e+03</td>\n",
              "      <td>-1.336056e+04</td>\n",
              "      <td>-1.621247e+04</td>\n",
              "      <td>5.918103</td>\n",
              "      <td>7.391278</td>\n",
              "      <td>1.560980</td>\n",
              "    </tr>\n",
              "    <tr>\n",
              "      <th>actual_default_rate</th>\n",
              "      <td>-53.643365</td>\n",
              "      <td>-9.998912e+02</td>\n",
              "      <td>2.016911e+03</td>\n",
              "      <td>0.820308</td>\n",
              "      <td>-4.156178e+02</td>\n",
              "      <td>-2.821646e+03</td>\n",
              "      <td>-3.423946e+03</td>\n",
              "      <td>1.249857</td>\n",
              "      <td>1.560980</td>\n",
              "      <td>0.329667</td>\n",
              "    </tr>\n",
              "  </tbody>\n",
              "</table>\n",
              "</div>"
            ],
            "text/plain": [
              "                        fico_score  ...  actual_default_rate\n",
              "fico_score            11100.000000  ...           -53.643365\n",
              "loan_total            84317.571429  ...          -999.891190\n",
              "default_total       -328191.714286  ...          2016.911035\n",
              "dti                    -164.562715  ...             0.820308\n",
              "avg_loan_amnt        117975.085123  ...          -415.617751\n",
              "median_annual_inc    654086.714286  ...         -2821.645746\n",
              "avg_annual_inc       785130.353840  ...         -3423.945732\n",
              "int_rate               -261.372425  ...             1.249857\n",
              "default_rate           -254.002627  ...             1.560980\n",
              "actual_default_rate     -53.643365  ...             0.329667\n",
              "\n",
              "[10 rows x 10 columns]"
            ]
          },
          "metadata": {
            "tags": []
          },
          "execution_count": 12
        }
      ]
    },
    {
      "cell_type": "code",
      "metadata": {
        "id": "Ifli6xe7xl1-",
        "colab_type": "code",
        "colab": {
          "base_uri": "https://localhost:8080/",
          "height": 379
        },
        "outputId": "33927cd8-b9e9-45da-cecd-cd488ae0917d"
      },
      "source": [
        "loan_df.corr()"
      ],
      "execution_count": 13,
      "outputs": [
        {
          "output_type": "execute_result",
          "data": {
            "text/html": [
              "<div>\n",
              "<style scoped>\n",
              "    .dataframe tbody tr th:only-of-type {\n",
              "        vertical-align: middle;\n",
              "    }\n",
              "\n",
              "    .dataframe tbody tr th {\n",
              "        vertical-align: top;\n",
              "    }\n",
              "\n",
              "    .dataframe thead th {\n",
              "        text-align: right;\n",
              "    }\n",
              "</style>\n",
              "<table border=\"1\" class=\"dataframe\">\n",
              "  <thead>\n",
              "    <tr style=\"text-align: right;\">\n",
              "      <th></th>\n",
              "      <th>fico_score</th>\n",
              "      <th>loan_total</th>\n",
              "      <th>default_total</th>\n",
              "      <th>dti</th>\n",
              "      <th>avg_loan_amnt</th>\n",
              "      <th>median_annual_inc</th>\n",
              "      <th>avg_annual_inc</th>\n",
              "      <th>int_rate</th>\n",
              "      <th>default_rate</th>\n",
              "      <th>actual_default_rate</th>\n",
              "    </tr>\n",
              "  </thead>\n",
              "  <tbody>\n",
              "    <tr>\n",
              "      <th>fico_score</th>\n",
              "      <td>1.000000</td>\n",
              "      <td>0.067153</td>\n",
              "      <td>-0.886782</td>\n",
              "      <td>-0.923870</td>\n",
              "      <td>0.685468</td>\n",
              "      <td>0.906772</td>\n",
              "      <td>0.927058</td>\n",
              "      <td>-0.969029</td>\n",
              "      <td>-0.886782</td>\n",
              "      <td>-0.886782</td>\n",
              "    </tr>\n",
              "    <tr>\n",
              "      <th>loan_total</th>\n",
              "      <td>0.067153</td>\n",
              "      <td>1.000000</td>\n",
              "      <td>-0.146124</td>\n",
              "      <td>0.141039</td>\n",
              "      <td>-0.475837</td>\n",
              "      <td>-0.151144</td>\n",
              "      <td>-0.094418</td>\n",
              "      <td>0.113229</td>\n",
              "      <td>-0.146124</td>\n",
              "      <td>-0.146124</td>\n",
              "    </tr>\n",
              "    <tr>\n",
              "      <th>default_total</th>\n",
              "      <td>-0.886782</td>\n",
              "      <td>-0.146124</td>\n",
              "      <td>1.000000</td>\n",
              "      <td>0.845046</td>\n",
              "      <td>-0.443113</td>\n",
              "      <td>-0.717776</td>\n",
              "      <td>-0.741849</td>\n",
              "      <td>0.850278</td>\n",
              "      <td>1.000000</td>\n",
              "      <td>1.000000</td>\n",
              "    </tr>\n",
              "    <tr>\n",
              "      <th>dti</th>\n",
              "      <td>-0.923870</td>\n",
              "      <td>0.141039</td>\n",
              "      <td>0.845046</td>\n",
              "      <td>1.000000</td>\n",
              "      <td>-0.783764</td>\n",
              "      <td>-0.899118</td>\n",
              "      <td>-0.897630</td>\n",
              "      <td>0.962789</td>\n",
              "      <td>0.845046</td>\n",
              "      <td>0.845046</td>\n",
              "    </tr>\n",
              "    <tr>\n",
              "      <th>avg_loan_amnt</th>\n",
              "      <td>0.685468</td>\n",
              "      <td>-0.475837</td>\n",
              "      <td>-0.443113</td>\n",
              "      <td>-0.783764</td>\n",
              "      <td>1.000000</td>\n",
              "      <td>0.855159</td>\n",
              "      <td>0.832335</td>\n",
              "      <td>-0.803379</td>\n",
              "      <td>-0.443113</td>\n",
              "      <td>-0.443113</td>\n",
              "    </tr>\n",
              "    <tr>\n",
              "      <th>median_annual_inc</th>\n",
              "      <td>0.906772</td>\n",
              "      <td>-0.151144</td>\n",
              "      <td>-0.717776</td>\n",
              "      <td>-0.899118</td>\n",
              "      <td>0.855159</td>\n",
              "      <td>1.000000</td>\n",
              "      <td>0.991677</td>\n",
              "      <td>-0.945029</td>\n",
              "      <td>-0.717776</td>\n",
              "      <td>-0.717776</td>\n",
              "    </tr>\n",
              "    <tr>\n",
              "      <th>avg_annual_inc</th>\n",
              "      <td>0.927058</td>\n",
              "      <td>-0.094418</td>\n",
              "      <td>-0.741849</td>\n",
              "      <td>-0.897630</td>\n",
              "      <td>0.832335</td>\n",
              "      <td>0.991677</td>\n",
              "      <td>1.000000</td>\n",
              "      <td>-0.946145</td>\n",
              "      <td>-0.741849</td>\n",
              "      <td>-0.741849</td>\n",
              "    </tr>\n",
              "    <tr>\n",
              "      <th>int_rate</th>\n",
              "      <td>-0.969029</td>\n",
              "      <td>0.113229</td>\n",
              "      <td>0.850278</td>\n",
              "      <td>0.962789</td>\n",
              "      <td>-0.803379</td>\n",
              "      <td>-0.945029</td>\n",
              "      <td>-0.946145</td>\n",
              "      <td>1.000000</td>\n",
              "      <td>0.850278</td>\n",
              "      <td>0.850278</td>\n",
              "    </tr>\n",
              "    <tr>\n",
              "      <th>default_rate</th>\n",
              "      <td>-0.886782</td>\n",
              "      <td>-0.146124</td>\n",
              "      <td>1.000000</td>\n",
              "      <td>0.845046</td>\n",
              "      <td>-0.443113</td>\n",
              "      <td>-0.717776</td>\n",
              "      <td>-0.741849</td>\n",
              "      <td>0.850278</td>\n",
              "      <td>1.000000</td>\n",
              "      <td>1.000000</td>\n",
              "    </tr>\n",
              "    <tr>\n",
              "      <th>actual_default_rate</th>\n",
              "      <td>-0.886782</td>\n",
              "      <td>-0.146124</td>\n",
              "      <td>1.000000</td>\n",
              "      <td>0.845046</td>\n",
              "      <td>-0.443113</td>\n",
              "      <td>-0.717776</td>\n",
              "      <td>-0.741849</td>\n",
              "      <td>0.850278</td>\n",
              "      <td>1.000000</td>\n",
              "      <td>1.000000</td>\n",
              "    </tr>\n",
              "  </tbody>\n",
              "</table>\n",
              "</div>"
            ],
            "text/plain": [
              "                     fico_score  loan_total  ...  default_rate  actual_default_rate\n",
              "fico_score             1.000000    0.067153  ...     -0.886782            -0.886782\n",
              "loan_total             0.067153    1.000000  ...     -0.146124            -0.146124\n",
              "default_total         -0.886782   -0.146124  ...      1.000000             1.000000\n",
              "dti                   -0.923870    0.141039  ...      0.845046             0.845046\n",
              "avg_loan_amnt          0.685468   -0.475837  ...     -0.443113            -0.443113\n",
              "median_annual_inc      0.906772   -0.151144  ...     -0.717776            -0.717776\n",
              "avg_annual_inc         0.927058   -0.094418  ...     -0.741849            -0.741849\n",
              "int_rate              -0.969029    0.113229  ...      0.850278             0.850278\n",
              "default_rate          -0.886782   -0.146124  ...      1.000000             1.000000\n",
              "actual_default_rate   -0.886782   -0.146124  ...      1.000000             1.000000\n",
              "\n",
              "[10 rows x 10 columns]"
            ]
          },
          "metadata": {
            "tags": []
          },
          "execution_count": 13
        }
      ]
    },
    {
      "cell_type": "code",
      "metadata": {
        "id": "ysw9fwM50TPQ",
        "colab_type": "code",
        "colab": {
          "base_uri": "https://localhost:8080/",
          "height": 379
        },
        "outputId": "3fa9086c-05c7-4317-9514-cd1a8ce41121"
      },
      "source": [
        "loan_df.corr(method='spearman')"
      ],
      "execution_count": 14,
      "outputs": [
        {
          "output_type": "execute_result",
          "data": {
            "text/html": [
              "<div>\n",
              "<style scoped>\n",
              "    .dataframe tbody tr th:only-of-type {\n",
              "        vertical-align: middle;\n",
              "    }\n",
              "\n",
              "    .dataframe tbody tr th {\n",
              "        vertical-align: top;\n",
              "    }\n",
              "\n",
              "    .dataframe thead th {\n",
              "        text-align: right;\n",
              "    }\n",
              "</style>\n",
              "<table border=\"1\" class=\"dataframe\">\n",
              "  <thead>\n",
              "    <tr style=\"text-align: right;\">\n",
              "      <th></th>\n",
              "      <th>fico_score</th>\n",
              "      <th>loan_total</th>\n",
              "      <th>default_total</th>\n",
              "      <th>dti</th>\n",
              "      <th>avg_loan_amnt</th>\n",
              "      <th>median_annual_inc</th>\n",
              "      <th>avg_annual_inc</th>\n",
              "      <th>int_rate</th>\n",
              "      <th>default_rate</th>\n",
              "      <th>actual_default_rate</th>\n",
              "    </tr>\n",
              "  </thead>\n",
              "  <tbody>\n",
              "    <tr>\n",
              "      <th>fico_score</th>\n",
              "      <td>1.000000</td>\n",
              "      <td>0.043243</td>\n",
              "      <td>-0.939511</td>\n",
              "      <td>-0.936422</td>\n",
              "      <td>0.661261</td>\n",
              "      <td>0.956772</td>\n",
              "      <td>0.966281</td>\n",
              "      <td>-0.997169</td>\n",
              "      <td>-0.939511</td>\n",
              "      <td>-0.939511</td>\n",
              "    </tr>\n",
              "    <tr>\n",
              "      <th>loan_total</th>\n",
              "      <td>0.043243</td>\n",
              "      <td>1.000000</td>\n",
              "      <td>0.077992</td>\n",
              "      <td>0.029344</td>\n",
              "      <td>-0.344916</td>\n",
              "      <td>0.035934</td>\n",
              "      <td>0.048649</td>\n",
              "      <td>-0.035006</td>\n",
              "      <td>0.077992</td>\n",
              "      <td>0.077992</td>\n",
              "    </tr>\n",
              "    <tr>\n",
              "      <th>default_total</th>\n",
              "      <td>-0.939511</td>\n",
              "      <td>0.077992</td>\n",
              "      <td>1.000000</td>\n",
              "      <td>0.967310</td>\n",
              "      <td>-0.601544</td>\n",
              "      <td>-0.889429</td>\n",
              "      <td>-0.899871</td>\n",
              "      <td>0.950322</td>\n",
              "      <td>1.000000</td>\n",
              "      <td>1.000000</td>\n",
              "    </tr>\n",
              "    <tr>\n",
              "      <th>dti</th>\n",
              "      <td>-0.936422</td>\n",
              "      <td>0.029344</td>\n",
              "      <td>0.967310</td>\n",
              "      <td>1.000000</td>\n",
              "      <td>-0.576577</td>\n",
              "      <td>-0.877666</td>\n",
              "      <td>-0.890862</td>\n",
              "      <td>0.937709</td>\n",
              "      <td>0.967310</td>\n",
              "      <td>0.967310</td>\n",
              "    </tr>\n",
              "    <tr>\n",
              "      <th>avg_loan_amnt</th>\n",
              "      <td>0.661261</td>\n",
              "      <td>-0.344916</td>\n",
              "      <td>-0.601544</td>\n",
              "      <td>-0.576577</td>\n",
              "      <td>1.000000</td>\n",
              "      <td>0.750476</td>\n",
              "      <td>0.711969</td>\n",
              "      <td>-0.656371</td>\n",
              "      <td>-0.601544</td>\n",
              "      <td>-0.601544</td>\n",
              "    </tr>\n",
              "    <tr>\n",
              "      <th>median_annual_inc</th>\n",
              "      <td>0.956772</td>\n",
              "      <td>0.035934</td>\n",
              "      <td>-0.889429</td>\n",
              "      <td>-0.877666</td>\n",
              "      <td>0.750476</td>\n",
              "      <td>1.000000</td>\n",
              "      <td>0.979263</td>\n",
              "      <td>-0.955868</td>\n",
              "      <td>-0.889429</td>\n",
              "      <td>-0.889429</td>\n",
              "    </tr>\n",
              "    <tr>\n",
              "      <th>avg_annual_inc</th>\n",
              "      <td>0.966281</td>\n",
              "      <td>0.048649</td>\n",
              "      <td>-0.899871</td>\n",
              "      <td>-0.890862</td>\n",
              "      <td>0.711969</td>\n",
              "      <td>0.979263</td>\n",
              "      <td>1.000000</td>\n",
              "      <td>-0.966795</td>\n",
              "      <td>-0.899871</td>\n",
              "      <td>-0.899871</td>\n",
              "    </tr>\n",
              "    <tr>\n",
              "      <th>int_rate</th>\n",
              "      <td>-0.997169</td>\n",
              "      <td>-0.035006</td>\n",
              "      <td>0.950322</td>\n",
              "      <td>0.937709</td>\n",
              "      <td>-0.656371</td>\n",
              "      <td>-0.955868</td>\n",
              "      <td>-0.966795</td>\n",
              "      <td>1.000000</td>\n",
              "      <td>0.950322</td>\n",
              "      <td>0.950322</td>\n",
              "    </tr>\n",
              "    <tr>\n",
              "      <th>default_rate</th>\n",
              "      <td>-0.939511</td>\n",
              "      <td>0.077992</td>\n",
              "      <td>1.000000</td>\n",
              "      <td>0.967310</td>\n",
              "      <td>-0.601544</td>\n",
              "      <td>-0.889429</td>\n",
              "      <td>-0.899871</td>\n",
              "      <td>0.950322</td>\n",
              "      <td>1.000000</td>\n",
              "      <td>1.000000</td>\n",
              "    </tr>\n",
              "    <tr>\n",
              "      <th>actual_default_rate</th>\n",
              "      <td>-0.939511</td>\n",
              "      <td>0.077992</td>\n",
              "      <td>1.000000</td>\n",
              "      <td>0.967310</td>\n",
              "      <td>-0.601544</td>\n",
              "      <td>-0.889429</td>\n",
              "      <td>-0.899871</td>\n",
              "      <td>0.950322</td>\n",
              "      <td>1.000000</td>\n",
              "      <td>1.000000</td>\n",
              "    </tr>\n",
              "  </tbody>\n",
              "</table>\n",
              "</div>"
            ],
            "text/plain": [
              "                     fico_score  loan_total  ...  default_rate  actual_default_rate\n",
              "fico_score             1.000000    0.043243  ...     -0.939511            -0.939511\n",
              "loan_total             0.043243    1.000000  ...      0.077992             0.077992\n",
              "default_total         -0.939511    0.077992  ...      1.000000             1.000000\n",
              "dti                   -0.936422    0.029344  ...      0.967310             0.967310\n",
              "avg_loan_amnt          0.661261   -0.344916  ...     -0.601544            -0.601544\n",
              "median_annual_inc      0.956772    0.035934  ...     -0.889429            -0.889429\n",
              "avg_annual_inc         0.966281    0.048649  ...     -0.899871            -0.899871\n",
              "int_rate              -0.997169   -0.035006  ...      0.950322             0.950322\n",
              "default_rate          -0.939511    0.077992  ...      1.000000             1.000000\n",
              "actual_default_rate   -0.939511    0.077992  ...      1.000000             1.000000\n",
              "\n",
              "[10 rows x 10 columns]"
            ]
          },
          "metadata": {
            "tags": []
          },
          "execution_count": 14
        }
      ]
    },
    {
      "cell_type": "code",
      "metadata": {
        "id": "1vZEcvQv7k8M",
        "colab_type": "code",
        "colab": {
          "base_uri": "https://localhost:8080/",
          "height": 297
        },
        "outputId": "dd52f40a-3d5f-4116-f63e-9f8f8c884254"
      },
      "source": [
        "sns.distplot(loan_df['median_annual_inc'],hist=True)"
      ],
      "execution_count": 15,
      "outputs": [
        {
          "output_type": "execute_result",
          "data": {
            "text/plain": [
              "<matplotlib.axes._subplots.AxesSubplot at 0x7f59a29c8da0>"
            ]
          },
          "metadata": {
            "tags": []
          },
          "execution_count": 15
        },
        {
          "output_type": "display_data",
          "data": {
            "image/png": "[encoded data removed]",
            "text/plain": [
              "<Figure size 432x288 with 1 Axes>"
            ]
          },
          "metadata": {
            "tags": [],
            "needs_background": "light"
          }
        }
      ]
    },
    {
      "cell_type": "code",
      "metadata": {
        "id": "cOPiJaK4BEEB",
        "colab_type": "code",
        "colab": {
          "base_uri": "https://localhost:8080/",
          "height": 111
        },
        "outputId": "9041bea4-6807-4575-989e-749afc55d7ed"
      },
      "source": [
        "loan_df[['fico_score','avg_annual_inc']].corr('spearman')"
      ],
      "execution_count": 16,
      "outputs": [
        {
          "output_type": "execute_result",
          "data": {
            "text/html": [
              "<div>\n",
              "<style scoped>\n",
              "    .dataframe tbody tr th:only-of-type {\n",
              "        vertical-align: middle;\n",
              "    }\n",
              "\n",
              "    .dataframe tbody tr th {\n",
              "        vertical-align: top;\n",
              "    }\n",
              "\n",
              "    .dataframe thead th {\n",
              "        text-align: right;\n",
              "    }\n",
              "</style>\n",
              "<table border=\"1\" class=\"dataframe\">\n",
              "  <thead>\n",
              "    <tr style=\"text-align: right;\">\n",
              "      <th></th>\n",
              "      <th>fico_score</th>\n",
              "      <th>avg_annual_inc</th>\n",
              "    </tr>\n",
              "  </thead>\n",
              "  <tbody>\n",
              "    <tr>\n",
              "      <th>fico_score</th>\n",
              "      <td>1.000000</td>\n",
              "      <td>0.966281</td>\n",
              "    </tr>\n",
              "    <tr>\n",
              "      <th>avg_annual_inc</th>\n",
              "      <td>0.966281</td>\n",
              "      <td>1.000000</td>\n",
              "    </tr>\n",
              "  </tbody>\n",
              "</table>\n",
              "</div>"
            ],
            "text/plain": [
              "                fico_score  avg_annual_inc\n",
              "fico_score        1.000000        0.966281\n",
              "avg_annual_inc    0.966281        1.000000"
            ]
          },
          "metadata": {
            "tags": []
          },
          "execution_count": 16
        }
      ]
    },
    {
      "cell_type": "code",
      "metadata": {
        "id": "360V8wHyfYZa",
        "colab_type": "code",
        "colab": {
          "base_uri": "https://localhost:8080/",
          "height": 299
        },
        "outputId": "633fbd8e-31e8-4e39-f8e3-504b421f35d9"
      },
      "source": [
        "sns.regplot(x='fico_score',y='avg_annual_inc',data=loan_df)"
      ],
      "execution_count": 17,
      "outputs": [
        {
          "output_type": "execute_result",
          "data": {
            "text/plain": [
              "<matplotlib.axes._subplots.AxesSubplot at 0x7f59a292e7f0>"
            ]
          },
          "metadata": {
            "tags": []
          },
          "execution_count": 17
        },
        {
          "output_type": "display_data",
          "data": {
            "image/png": "[encoded data removed]",
            "text/plain": [
              "<Figure size 432x288 with 1 Axes>"
            ]
          },
          "metadata": {
            "tags": [],
            "needs_background": "light"
          }
        }
      ]
    },
    {
      "cell_type": "code",
      "metadata": {
        "id": "cymrbuwGfuAV",
        "colab_type": "code",
        "colab": {
          "base_uri": "https://localhost:8080/",
          "height": 111
        },
        "outputId": "50b406a2-a088-4037-a909-fde7c21f0867"
      },
      "source": [
        "loan_df[['fico_score','dti']].corr('spearman')"
      ],
      "execution_count": 18,
      "outputs": [
        {
          "output_type": "execute_result",
          "data": {
            "text/html": [
              "<div>\n",
              "<style scoped>\n",
              "    .dataframe tbody tr th:only-of-type {\n",
              "        vertical-align: middle;\n",
              "    }\n",
              "\n",
              "    .dataframe tbody tr th {\n",
              "        vertical-align: top;\n",
              "    }\n",
              "\n",
              "    .dataframe thead th {\n",
              "        text-align: right;\n",
              "    }\n",
              "</style>\n",
              "<table border=\"1\" class=\"dataframe\">\n",
              "  <thead>\n",
              "    <tr style=\"text-align: right;\">\n",
              "      <th></th>\n",
              "      <th>fico_score</th>\n",
              "      <th>dti</th>\n",
              "    </tr>\n",
              "  </thead>\n",
              "  <tbody>\n",
              "    <tr>\n",
              "      <th>fico_score</th>\n",
              "      <td>1.000000</td>\n",
              "      <td>-0.936422</td>\n",
              "    </tr>\n",
              "    <tr>\n",
              "      <th>dti</th>\n",
              "      <td>-0.936422</td>\n",
              "      <td>1.000000</td>\n",
              "    </tr>\n",
              "  </tbody>\n",
              "</table>\n",
              "</div>"
            ],
            "text/plain": [
              "            fico_score       dti\n",
              "fico_score    1.000000 -0.936422\n",
              "dti          -0.936422  1.000000"
            ]
          },
          "metadata": {
            "tags": []
          },
          "execution_count": 18
        }
      ]
    },
    {
      "cell_type": "code",
      "metadata": {
        "id": "J_5jWl5dgaXh",
        "colab_type": "code",
        "colab": {
          "base_uri": "https://localhost:8080/",
          "height": 297
        },
        "outputId": "8a53f91a-dc41-4de2-9006-cf072b36911f"
      },
      "source": [
        "sns.regplot(x='fico_score',y='dti',data=loan_df)"
      ],
      "execution_count": 19,
      "outputs": [
        {
          "output_type": "execute_result",
          "data": {
            "text/plain": [
              "<matplotlib.axes._subplots.AxesSubplot at 0x7f599fc6ad30>"
            ]
          },
          "metadata": {
            "tags": []
          },
          "execution_count": 19
        },
        {
          "output_type": "display_data",
          "data": {
            "image/png": "[encoded data removed]",
            "text/plain": [
              "<Figure size 432x288 with 1 Axes>"
            ]
          },
          "metadata": {
            "tags": [],
            "needs_background": "light"
          }
        }
      ]
    },
    {
      "cell_type": "code",
      "metadata": {
        "id": "VkurGj2cgeAj",
        "colab_type": "code",
        "colab": {
          "base_uri": "https://localhost:8080/",
          "height": 297
        },
        "outputId": "95a75535-e199-4732-b604-89f1f4d3d657"
      },
      "source": [
        "sns.distplot(loan_df['int_rate'],hist=True)"
      ],
      "execution_count": 20,
      "outputs": [
        {
          "output_type": "execute_result",
          "data": {
            "text/plain": [
              "<matplotlib.axes._subplots.AxesSubplot at 0x7f599fbe00b8>"
            ]
          },
          "metadata": {
            "tags": []
          },
          "execution_count": 20
        },
        {
          "output_type": "display_data",
          "data": {
            "image/png": "[encoded data removed]",
            "text/plain": [
              "<Figure size 432x288 with 1 Axes>"
            ]
          },
          "metadata": {
            "tags": [],
            "needs_background": "light"
          }
        }
      ]
    },
    {
      "cell_type": "code",
      "metadata": {
        "id": "1pI2l3QMigDD",
        "colab_type": "code",
        "colab": {
          "base_uri": "https://localhost:8080/",
          "height": 584
        },
        "outputId": "f9c6b6b8-c288-47df-8f46-c712b67e0e39"
      },
      "source": [
        "import scipy.stats as stats\n",
        "stats.probplot(loan_df['int_rate'],dist='norm',plot=plt)"
      ],
      "execution_count": 21,
      "outputs": [
        {
          "output_type": "execute_result",
          "data": {
            "text/plain": [
              "((array([-2.07334886, -1.68217954, -1.44830429, -1.27437681, -1.13225357,\n",
              "         -1.00993636, -0.90112151, -0.80205412, -0.71029762, -0.62416759,\n",
              "         -0.54243995, -0.46418751, -0.38868208, -0.31533241, -0.24364313,\n",
              "         -0.17318609, -0.10357945, -0.03447167,  0.03447167,  0.10357945,\n",
              "          0.17318609,  0.24364313,  0.31533241,  0.38868208,  0.46418751,\n",
              "          0.54243995,  0.62416759,  0.71029762,  0.80205412,  0.90112151,\n",
              "          1.00993636,  1.13225357,  1.27437681,  1.44830429,  1.68217954,\n",
              "          2.07334886]),\n",
              "  array([ 7.58556196,  7.96854839,  8.00050755,  8.40436779,  8.81612608,\n",
              "          9.17925418,  9.54207879,  9.94439109, 10.17342593, 10.54704384,\n",
              "         10.83639354, 11.07060021, 11.40585966, 11.84989813, 12.19602541,\n",
              "         12.64158738, 12.99737662, 13.36212073, 13.75097687, 13.84232878,\n",
              "         13.93910593, 13.99130432, 14.13094166, 14.38872081, 14.45885661,\n",
              "         14.56445333, 14.71287103, 14.79158065, 14.83095961, 14.93735761,\n",
              "         15.04821175, 15.27102165, 15.31245098, 15.35228452, 15.4402116 ,\n",
              "         15.44901129])),\n",
              " (2.5196349375983393, 12.520383785694445, 0.9516744621680466))"
            ]
          },
          "metadata": {
            "tags": []
          },
          "execution_count": 21
        },
        {
          "output_type": "display_data",
          "data": {
            "image/png": "[encoded data removed]",
            "text/plain": [
              "<Figure size 432x288 with 1 Axes>"
            ]
          },
          "metadata": {
            "tags": [],
            "needs_background": "light"
          }
        }
      ]
    },
    {
      "cell_type": "code",
      "metadata": {
        "id": "7EAppxJsjJcI",
        "colab_type": "code",
        "colab": {
          "base_uri": "https://localhost:8080/",
          "height": 111
        },
        "outputId": "b7ec05dc-9655-4944-b64e-e5743b6b058f"
      },
      "source": [
        "loan_df[['fico_score','loan_total']].corr('spearman')"
      ],
      "execution_count": 22,
      "outputs": [
        {
          "output_type": "execute_result",
          "data": {
            "text/html": [
              "<div>\n",
              "<style scoped>\n",
              "    .dataframe tbody tr th:only-of-type {\n",
              "        vertical-align: middle;\n",
              "    }\n",
              "\n",
              "    .dataframe tbody tr th {\n",
              "        vertical-align: top;\n",
              "    }\n",
              "\n",
              "    .dataframe thead th {\n",
              "        text-align: right;\n",
              "    }\n",
              "</style>\n",
              "<table border=\"1\" class=\"dataframe\">\n",
              "  <thead>\n",
              "    <tr style=\"text-align: right;\">\n",
              "      <th></th>\n",
              "      <th>fico_score</th>\n",
              "      <th>loan_total</th>\n",
              "    </tr>\n",
              "  </thead>\n",
              "  <tbody>\n",
              "    <tr>\n",
              "      <th>fico_score</th>\n",
              "      <td>1.000000</td>\n",
              "      <td>0.043243</td>\n",
              "    </tr>\n",
              "    <tr>\n",
              "      <th>loan_total</th>\n",
              "      <td>0.043243</td>\n",
              "      <td>1.000000</td>\n",
              "    </tr>\n",
              "  </tbody>\n",
              "</table>\n",
              "</div>"
            ],
            "text/plain": [
              "            fico_score  loan_total\n",
              "fico_score    1.000000    0.043243\n",
              "loan_total    0.043243    1.000000"
            ]
          },
          "metadata": {
            "tags": []
          },
          "execution_count": 22
        }
      ]
    },
    {
      "cell_type": "code",
      "metadata": {
        "id": "-V5CsjLTjY5s",
        "colab_type": "code",
        "colab": {
          "base_uri": "https://localhost:8080/",
          "height": 297
        },
        "outputId": "e1816d05-f8aa-4fdf-b5c7-d4dad09d6fce"
      },
      "source": [
        "sns.regplot(x='fico_score',y='loan_total',data=loan_df)"
      ],
      "execution_count": 23,
      "outputs": [
        {
          "output_type": "execute_result",
          "data": {
            "text/plain": [
              "<matplotlib.axes._subplots.AxesSubplot at 0x7f599fabe5f8>"
            ]
          },
          "metadata": {
            "tags": []
          },
          "execution_count": 23
        },
        {
          "output_type": "display_data",
          "data": {
            "image/png": "[encoded data removed]",
            "text/plain": [
              "<Figure size 432x288 with 1 Axes>"
            ]
          },
          "metadata": {
            "tags": [],
            "needs_background": "light"
          }
        }
      ]
    },
    {
      "cell_type": "code",
      "metadata": {
        "id": "sjPfCCCsjm-g",
        "colab_type": "code",
        "colab": {
          "base_uri": "https://localhost:8080/",
          "height": 111
        },
        "outputId": "b4b76582-33e5-4ccf-ee65-340f8d95a147"
      },
      "source": [
        "loan_df[['fico_score','default_rate']].corr()"
      ],
      "execution_count": 24,
      "outputs": [
        {
          "output_type": "execute_result",
          "data": {
            "text/html": [
              "<div>\n",
              "<style scoped>\n",
              "    .dataframe tbody tr th:only-of-type {\n",
              "        vertical-align: middle;\n",
              "    }\n",
              "\n",
              "    .dataframe tbody tr th {\n",
              "        vertical-align: top;\n",
              "    }\n",
              "\n",
              "    .dataframe thead th {\n",
              "        text-align: right;\n",
              "    }\n",
              "</style>\n",
              "<table border=\"1\" class=\"dataframe\">\n",
              "  <thead>\n",
              "    <tr style=\"text-align: right;\">\n",
              "      <th></th>\n",
              "      <th>fico_score</th>\n",
              "      <th>default_rate</th>\n",
              "    </tr>\n",
              "  </thead>\n",
              "  <tbody>\n",
              "    <tr>\n",
              "      <th>fico_score</th>\n",
              "      <td>1.000000</td>\n",
              "      <td>-0.886782</td>\n",
              "    </tr>\n",
              "    <tr>\n",
              "      <th>default_rate</th>\n",
              "      <td>-0.886782</td>\n",
              "      <td>1.000000</td>\n",
              "    </tr>\n",
              "  </tbody>\n",
              "</table>\n",
              "</div>"
            ],
            "text/plain": [
              "              fico_score  default_rate\n",
              "fico_score      1.000000     -0.886782\n",
              "default_rate   -0.886782      1.000000"
            ]
          },
          "metadata": {
            "tags": []
          },
          "execution_count": 24
        }
      ]
    },
    {
      "cell_type": "code",
      "metadata": {
        "id": "2jvamFbb0Skz",
        "colab_type": "code",
        "colab": {
          "base_uri": "https://localhost:8080/",
          "height": 297
        },
        "outputId": "5c33b82d-f693-4610-9886-14826eef262d"
      },
      "source": [
        "sns.regplot(x='fico_score',y='default_rate',data=loan_df)"
      ],
      "execution_count": 25,
      "outputs": [
        {
          "output_type": "execute_result",
          "data": {
            "text/plain": [
              "<matplotlib.axes._subplots.AxesSubplot at 0x7f599faeb0b8>"
            ]
          },
          "metadata": {
            "tags": []
          },
          "execution_count": 25
        },
        {
          "output_type": "display_data",
          "data": {
            "image/png": "[encoded data removed]",
            "text/plain": [
              "<Figure size 432x288 with 1 Axes>"
            ]
          },
          "metadata": {
            "tags": [],
            "needs_background": "light"
          }
        }
      ]
    },
    {
      "cell_type": "code",
      "metadata": {
        "id": "Gl9FHROP0nyU",
        "colab_type": "code",
        "colab": {}
      },
      "source": [
        ""
      ],
      "execution_count": 0,
      "outputs": []
    },
    {
      "cell_type": "code",
      "metadata": {
        "id": "7q00u05-jzzc",
        "colab_type": "code",
        "colab": {
          "base_uri": "https://localhost:8080/",
          "height": 111
        },
        "outputId": "a24b5c13-5d52-4743-924a-9d9f965528dc"
      },
      "source": [
        "loan_df[['fico_score','default_rate']].corr('spearman')"
      ],
      "execution_count": 26,
      "outputs": [
        {
          "output_type": "execute_result",
          "data": {
            "text/html": [
              "<div>\n",
              "<style scoped>\n",
              "    .dataframe tbody tr th:only-of-type {\n",
              "        vertical-align: middle;\n",
              "    }\n",
              "\n",
              "    .dataframe tbody tr th {\n",
              "        vertical-align: top;\n",
              "    }\n",
              "\n",
              "    .dataframe thead th {\n",
              "        text-align: right;\n",
              "    }\n",
              "</style>\n",
              "<table border=\"1\" class=\"dataframe\">\n",
              "  <thead>\n",
              "    <tr style=\"text-align: right;\">\n",
              "      <th></th>\n",
              "      <th>fico_score</th>\n",
              "      <th>default_rate</th>\n",
              "    </tr>\n",
              "  </thead>\n",
              "  <tbody>\n",
              "    <tr>\n",
              "      <th>fico_score</th>\n",
              "      <td>1.000000</td>\n",
              "      <td>-0.939511</td>\n",
              "    </tr>\n",
              "    <tr>\n",
              "      <th>default_rate</th>\n",
              "      <td>-0.939511</td>\n",
              "      <td>1.000000</td>\n",
              "    </tr>\n",
              "  </tbody>\n",
              "</table>\n",
              "</div>"
            ],
            "text/plain": [
              "              fico_score  default_rate\n",
              "fico_score      1.000000     -0.939511\n",
              "default_rate   -0.939511      1.000000"
            ]
          },
          "metadata": {
            "tags": []
          },
          "execution_count": 26
        }
      ]
    },
    {
      "cell_type": "code",
      "metadata": {
        "id": "Jq5emte_0whS",
        "colab_type": "code",
        "colab": {
          "base_uri": "https://localhost:8080/",
          "height": 111
        },
        "outputId": "2baaccb8-1ba8-490c-8db5-30f2ae88b87d"
      },
      "source": [
        "loan_df[['median_annual_inc','loan_total']].corr('spearman')"
      ],
      "execution_count": 27,
      "outputs": [
        {
          "output_type": "execute_result",
          "data": {
            "text/html": [
              "<div>\n",
              "<style scoped>\n",
              "    .dataframe tbody tr th:only-of-type {\n",
              "        vertical-align: middle;\n",
              "    }\n",
              "\n",
              "    .dataframe tbody tr th {\n",
              "        vertical-align: top;\n",
              "    }\n",
              "\n",
              "    .dataframe thead th {\n",
              "        text-align: right;\n",
              "    }\n",
              "</style>\n",
              "<table border=\"1\" class=\"dataframe\">\n",
              "  <thead>\n",
              "    <tr style=\"text-align: right;\">\n",
              "      <th></th>\n",
              "      <th>median_annual_inc</th>\n",
              "      <th>loan_total</th>\n",
              "    </tr>\n",
              "  </thead>\n",
              "  <tbody>\n",
              "    <tr>\n",
              "      <th>median_annual_inc</th>\n",
              "      <td>1.000000</td>\n",
              "      <td>0.035934</td>\n",
              "    </tr>\n",
              "    <tr>\n",
              "      <th>loan_total</th>\n",
              "      <td>0.035934</td>\n",
              "      <td>1.000000</td>\n",
              "    </tr>\n",
              "  </tbody>\n",
              "</table>\n",
              "</div>"
            ],
            "text/plain": [
              "                   median_annual_inc  loan_total\n",
              "median_annual_inc           1.000000    0.035934\n",
              "loan_total                  0.035934    1.000000"
            ]
          },
          "metadata": {
            "tags": []
          },
          "execution_count": 27
        }
      ]
    },
    {
      "cell_type": "code",
      "metadata": {
        "id": "uZFD5a2N3J2J",
        "colab_type": "code",
        "colab": {
          "base_uri": "https://localhost:8080/",
          "height": 297
        },
        "outputId": "7bb879a0-d712-43e0-d700-31ad6e7fc25a"
      },
      "source": [
        "sns.regplot(x='median_annual_inc',y='loan_total',data=loan_df)"
      ],
      "execution_count": 29,
      "outputs": [
        {
          "output_type": "execute_result",
          "data": {
            "text/plain": [
              "<matplotlib.axes._subplots.AxesSubplot at 0x7f599fb47198>"
            ]
          },
          "metadata": {
            "tags": []
          },
          "execution_count": 29
        },
        {
          "output_type": "display_data",
          "data": {
            "image/png": "[encoded data removed]",
            "text/plain": [
              "<Figure size 432x288 with 1 Axes>"
            ]
          },
          "metadata": {
            "tags": [],
            "needs_background": "light"
          }
        }
      ]
    },
    {
      "cell_type": "code",
      "metadata": {
        "id": "UDhrk2hL1B4D",
        "colab_type": "code",
        "colab": {}
      },
      "source": [
        ""
      ],
      "execution_count": 0,
      "outputs": []
    },
    {
      "cell_type": "code",
      "metadata": {
        "id": "Xf5emwZE0vJl",
        "colab_type": "code",
        "colab": {
          "base_uri": "https://localhost:8080/",
          "height": 111
        },
        "outputId": "162fef2b-2963-4df8-b87b-66abe3c0de4e"
      },
      "source": [
        "loan_df[['dti','loan_total']].corr('spearman')"
      ],
      "execution_count": 30,
      "outputs": [
        {
          "output_type": "execute_result",
          "data": {
            "text/html": [
              "<div>\n",
              "<style scoped>\n",
              "    .dataframe tbody tr th:only-of-type {\n",
              "        vertical-align: middle;\n",
              "    }\n",
              "\n",
              "    .dataframe tbody tr th {\n",
              "        vertical-align: top;\n",
              "    }\n",
              "\n",
              "    .dataframe thead th {\n",
              "        text-align: right;\n",
              "    }\n",
              "</style>\n",
              "<table border=\"1\" class=\"dataframe\">\n",
              "  <thead>\n",
              "    <tr style=\"text-align: right;\">\n",
              "      <th></th>\n",
              "      <th>dti</th>\n",
              "      <th>loan_total</th>\n",
              "    </tr>\n",
              "  </thead>\n",
              "  <tbody>\n",
              "    <tr>\n",
              "      <th>dti</th>\n",
              "      <td>1.000000</td>\n",
              "      <td>0.029344</td>\n",
              "    </tr>\n",
              "    <tr>\n",
              "      <th>loan_total</th>\n",
              "      <td>0.029344</td>\n",
              "      <td>1.000000</td>\n",
              "    </tr>\n",
              "  </tbody>\n",
              "</table>\n",
              "</div>"
            ],
            "text/plain": [
              "                 dti  loan_total\n",
              "dti         1.000000    0.029344\n",
              "loan_total  0.029344    1.000000"
            ]
          },
          "metadata": {
            "tags": []
          },
          "execution_count": 30
        }
      ]
    },
    {
      "cell_type": "code",
      "metadata": {
        "id": "QKoT7YAy3Cki",
        "colab_type": "code",
        "colab": {
          "base_uri": "https://localhost:8080/",
          "height": 296
        },
        "outputId": "34c2a55c-3444-43c5-b86c-a9ccb7045aab"
      },
      "source": [
        "sns.regplot(x='dti',y='loan_total',data=loan_df)"
      ],
      "execution_count": 31,
      "outputs": [
        {
          "output_type": "execute_result",
          "data": {
            "text/plain": [
              "<matplotlib.axes._subplots.AxesSubplot at 0x7f599f96b668>"
            ]
          },
          "metadata": {
            "tags": []
          },
          "execution_count": 31
        },
        {
          "output_type": "display_data",
          "data": {
            "image/png": "[encoded data removed]",
            "text/plain": [
              "<Figure size 432x288 with 1 Axes>"
            ]
          },
          "metadata": {
            "tags": [],
            "needs_background": "light"
          }
        }
      ]
    }
  ]
}