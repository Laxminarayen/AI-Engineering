{
  "nbformat": 4,
  "nbformat_minor": 0,
  "metadata": {
    "colab": {
      "name": "Basic Statisctics.ipynb",
      "provenance": [],
      "collapsed_sections": [],
      "authorship_tag": "ABX9TyMolFQhGovy359NM1YuGWaF",
      "include_colab_link": true
    },
    "kernelspec": {
      "name": "python3",
      "display_name": "Python 3"
    },
    "language_info": {
      "name": "python"
    }
  },
  "cells": [
    {
      "cell_type": "markdown",
      "metadata": {
        "id": "view-in-github",
        "colab_type": "text"
      },
      "source": [
        "<a href=\"https://colab.research.google.com/github/plthiyagu/AI-Engineering/blob/master/05-Statistical/Basic_Statisctics.ipynb\" target=\"_parent\"><img src=\"https://colab.research.google.com/assets/colab-badge.svg\" alt=\"Open In Colab\"/></a>"
      ]
    },
    {
      "cell_type": "code",
      "metadata": {
        "colab": {
          "base_uri": "https://localhost:8080/"
        },
        "id": "wkNoOSpm0Rpa",
        "outputId": "ceafcd30-c398-4849-aa47-4b79e193ddbf"
      },
      "source": [
        "import pandas as pd\n",
        "import statistics\n",
        "import numpy as np\n",
        "data = [['fred', 20, 90], ['ron', 18, 85], ['bill', 28, 95], ['george',20, 89]]\n",
        "# Create the pandas DataFrame\n",
        "df = pd.DataFrame(data, columns = ['Name', 'Age', 'Mark'])\n",
        "print('Count',len(df))\n",
        "print('Mean',statistics.mean(df['Age']))\n",
        "print('Median',statistics.median(df['Age']))\n",
        "print('Mode',statistics.mode(df['Age']))\n",
        "print('Std',statistics.stdev(df['Age']))\n",
        "print('Variance',statistics.variance(df['Age']))\n",
        "print('Covariance',df.cov())\n",
        "print('Correlation',df.corr())"
      ],
      "execution_count": 1,
      "outputs": [
        {
          "output_type": "stream",
          "text": [
            "Count 4\n",
            "Mean 21.5\n",
            "Median 20.0\n",
            "Mode 20\n",
            "Std 4.43471156521669\n",
            "Variance 19.666666666666668\n",
            "Covariance             Age       Mark\n",
            "Age   19.666667  17.166667\n",
            "Mark  17.166667  16.916667\n",
            "Correlation            Age      Mark\n",
            "Age   1.000000  0.941159\n",
            "Mark  0.941159  1.000000\n"
          ],
          "name": "stdout"
        }
      ]
    },
    {
      "cell_type": "code",
      "metadata": {
        "id": "nr3gg03E0Ss4"
      },
      "source": [
        ""
      ],
      "execution_count": null,
      "outputs": []
    }
  ]
}