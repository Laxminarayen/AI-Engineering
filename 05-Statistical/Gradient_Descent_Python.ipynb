{
  "nbformat": 4,
  "nbformat_minor": 0,
  "metadata": {
    "colab": {
      "name": "Gradient Descent Python.ipynb",
      "provenance": [],
      "collapsed_sections": [],
      "authorship_tag": "ABX9TyMRrQZawqjW9KlxJf8kbjWB",
      "include_colab_link": true
    },
    "kernelspec": {
      "name": "python3",
      "display_name": "Python 3"
    },
    "language_info": {
      "name": "python"
    }
  },
  "cells": [
    {
      "cell_type": "markdown",
      "metadata": {
        "id": "view-in-github",
        "colab_type": "text"
      },
      "source": [
        "<a href=\"https://colab.research.google.com/github/plthiyagu/AI-Engineering/blob/master/05-Statistical/Gradient_Descent_Python.ipynb\" target=\"_parent\"><img src=\"https://colab.research.google.com/assets/colab-badge.svg\" alt=\"Open In Colab\"/></a>"
      ]
    },
    {
      "cell_type": "markdown",
      "metadata": {
        "id": "EEKqt-Wp3b1D"
      },
      "source": [
        "https://www.analyticsvidhya.com/blog/2021/07/an-intuitive-way-to-understand-gradient-descent-with-some-python-code/?utm_source=feedburner&utm_medium=email&utm_campaign=Feed%3A+AnalyticsVidhya+%28Analytics+Vidhya%29"
      ]
    },
    {
      "cell_type": "code",
      "metadata": {
        "id": "6Thhnr0c3JtR"
      },
      "source": [
        "import numpy as np\n",
        "import pandas as pd\n",
        "from scipy.misc import derivative"
      ],
      "execution_count": 1,
      "outputs": []
    },
    {
      "cell_type": "code",
      "metadata": {
        "colab": {
          "base_uri": "https://localhost:8080/"
        },
        "id": "1UVvx9Um3OnO",
        "outputId": "df8a16af-037a-4e8c-f1d6-b6bf15651462"
      },
      "source": [
        "#define function which returns our f(x)\n",
        "def f(x):\n",
        "    return 5*x**2 + 3*x-4\n",
        "#store successive derivative values in a list\n",
        "derivative_list =[]\n",
        "#inital value of x =4\n",
        "i=4\n",
        "#store all successive values of x in a list called x_list\n",
        "x_list = [4]\n",
        "# initialize eta\n",
        "eta =0.001\n",
        "Flag=True\n",
        "#loop to find derivative and corresponding x\n",
        "while Flag:\n",
        "  #using scipy estimate derivate at a given x\n",
        "  result = derivative(f,i, dx=1e-6)\n",
        "  derivative_list.append(result)\n",
        "  i=i-(eta*result)# get new value of x\n",
        "  #if derivative is 0 ,time to break loop\n",
        "  if result ==0:\n",
        "    Flag=False\n",
        "    break\n",
        "  x_list.append(i)\n",
        "gradient_descent_df = pd.DataFrame({'x_values':x_list,'first_derivatives':derivative_list})\n",
        "print(gradient_descent_df.head())"
      ],
      "execution_count": 2,
      "outputs": [
        {
          "output_type": "stream",
          "text": [
            "   x_values  first_derivatives\n",
            "0  4.000000          43.000000\n",
            "1  3.957000          42.570000\n",
            "2  3.914430          42.144300\n",
            "3  3.872286          41.722857\n",
            "4  3.830563          41.305628\n"
          ],
          "name": "stdout"
        }
      ]
    },
    {
      "cell_type": "code",
      "metadata": {
        "colab": {
          "base_uri": "https://localhost:8080/",
          "height": 295
        },
        "id": "3AoQ4lzs3Trz",
        "outputId": "c0ace9c5-030d-4ad4-f0f4-939180fde681"
      },
      "source": [
        "# plot the loss function and gradient descent approach\n",
        "def calculate_function(x):\n",
        "  return 5*x**2+3*x-4\n",
        "gradient_descent_df['Function_values'] = gradient_descent_df['x_values'].apply(calculate_function)\n",
        "import matplotlib.pyplot as plt\n",
        "plot_x = np.arange(-5,5,0.2)\n",
        "plot_y = calculate_function(plot_x)\n",
        "plt.plot(plot_x,plot_y,color='red',label='cost_function')\n",
        "plt.plot(gradient_descent_df['x_values'],gradient_descent_df['Function_values'],label='Approach to Minimum')\n",
        "plt.title('GRADIENT DESCENT OPTIMIZATION TECHNIQUE FOR LOSS FUNCTION 5*X**2+3*X-4')\n",
        "plt.xlabel('Parameter')\n",
        "plt.ylabel('Loss Function')\n",
        "plt.legend()\n",
        "plt.show()"
      ],
      "execution_count": 3,
      "outputs": [
        {
          "output_type": "display_data",
          "data": {
            "image/png": "[encoded data removed]",
            "text/plain": [
              "<Figure size 432x288 with 1 Axes>"
            ]
          },
          "metadata": {
            "tags": [],
            "needs_background": "light"
          }
        }
      ]
    },
    {
      "cell_type": "code",
      "metadata": {
        "id": "6E9-JoY53YBQ"
      },
      "source": [
        ""
      ],
      "execution_count": null,
      "outputs": []
    }
  ]
}