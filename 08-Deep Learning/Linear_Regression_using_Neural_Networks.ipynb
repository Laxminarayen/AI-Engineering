{
  "nbformat": 4,
  "nbformat_minor": 0,
  "metadata": {
    "colab": {
      "name": "Linear Regression using Neural Networks.ipynb",
      "provenance": [],
      "collapsed_sections": [],
      "authorship_tag": "ABX9TyMxAawviu4xQGG6q71tfr8q",
      "include_colab_link": true
    },
    "kernelspec": {
      "name": "python3",
      "display_name": "Python 3"
    },
    "language_info": {
      "name": "python"
    }
  },
  "cells": [
    {
      "cell_type": "markdown",
      "metadata": {
        "id": "view-in-github",
        "colab_type": "text"
      },
      "source": [
        "<a href=\"https://colab.research.google.com/github/plthiyagu/AI-Engineering/blob/master/08-Deep%20Learning/Linear_Regression_using_Neural_Networks.ipynb\" target=\"_parent\"><img src=\"https://colab.research.google.com/assets/colab-badge.svg\" alt=\"Open In Colab\"/></a>"
      ]
    },
    {
      "cell_type": "markdown",
      "metadata": {
        "id": "5plRdFIf4FJm"
      },
      "source": [
        "https://www.analyticsvidhya.com/blog/2021/06/linear-regression-using-neural-networks/?utm_source=feedburner&utm_medium=email&utm_campaign=Feed%3A+AnalyticsVidhya+%28Analytics+Vidhya%29"
      ]
    },
    {
      "cell_type": "code",
      "metadata": {
        "id": "39wVj-Z4FDfV"
      },
      "source": [
        "import numpy as np\n",
        "import matplotlib.pyplot as plt\n",
        "import tensorflow as tf"
      ],
      "execution_count": null,
      "outputs": []
    },
    {
      "cell_type": "code",
      "metadata": {
        "id": "b11chEPcFNmB"
      },
      "source": [
        "observations=1000\n",
        "xs=np.random.uniform(-10,10,(observations,1))\n",
        "zs=np.random.uniform(-10,10,(observations,1))\n",
        "generated_inputs=np.column_stack((xs,zs))\n",
        "noise=np.random.uniform(-10,10,(observations,1))\n",
        "generated_target=2*xs-3*zs+5+noise"
      ],
      "execution_count": null,
      "outputs": []
    },
    {
      "cell_type": "code",
      "metadata": {
        "id": "3FwT_XfjJu16"
      },
      "source": [
        "np.savez('TF_intro',input=generated_inputs,targets=generated_target)\n",
        "training_data=np.load('TF_intro.npz')"
      ],
      "execution_count": null,
      "outputs": []
    },
    {
      "cell_type": "code",
      "metadata": {
        "colab": {
          "base_uri": "https://localhost:8080/"
        },
        "id": "_90hOQK6J1Gv",
        "outputId": "f32e58d5-26f1-4787-fbc0-4e0f85099faf"
      },
      "source": [
        "input_size=2\n",
        "output_size=1\n",
        "models = tf.keras.Sequential([\n",
        "                             tf.keras.layers.Dense(output_size)\n",
        "                            ])\n",
        "custom_optimizer=tf.keras.optimizers.SGD(learning_rate=0.02)\n",
        "models.compile(optimizer=custom_optimizer,loss='mean_squared_error')\n",
        "models.fit(training_data['input'],training_data['targets'],epochs=100,verbose=1)"
      ],
      "execution_count": null,
      "outputs": [
        {
          "output_type": "stream",
          "text": [
            "Epoch 1/100\n",
            "32/32 [==============================] - 1s 960us/step - loss: 79.9739\n",
            "Epoch 2/100\n",
            "32/32 [==============================] - 0s 967us/step - loss: 38.7075\n",
            "Epoch 3/100\n",
            "32/32 [==============================] - 0s 940us/step - loss: 41.3510\n",
            "Epoch 4/100\n",
            "32/32 [==============================] - 0s 1ms/step - loss: 37.6805\n",
            "Epoch 5/100\n",
            "32/32 [==============================] - 0s 982us/step - loss: 39.0647\n",
            "Epoch 6/100\n",
            "32/32 [==============================] - 0s 963us/step - loss: 37.9016\n",
            "Epoch 7/100\n",
            "32/32 [==============================] - 0s 1ms/step - loss: 39.9924\n",
            "Epoch 8/100\n",
            "32/32 [==============================] - 0s 923us/step - loss: 38.3282\n",
            "Epoch 9/100\n",
            "32/32 [==============================] - 0s 1ms/step - loss: 38.5496\n",
            "Epoch 10/100\n",
            "32/32 [==============================] - 0s 927us/step - loss: 44.9952\n",
            "Epoch 11/100\n",
            "32/32 [==============================] - 0s 1ms/step - loss: 41.1043\n",
            "Epoch 12/100\n",
            "32/32 [==============================] - 0s 937us/step - loss: 40.2964\n",
            "Epoch 13/100\n",
            "32/32 [==============================] - 0s 1ms/step - loss: 41.9360\n",
            "Epoch 14/100\n",
            "32/32 [==============================] - 0s 1ms/step - loss: 40.9234\n",
            "Epoch 15/100\n",
            "32/32 [==============================] - 0s 930us/step - loss: 40.8784\n",
            "Epoch 16/100\n",
            "32/32 [==============================] - 0s 1ms/step - loss: 41.2730\n",
            "Epoch 17/100\n",
            "32/32 [==============================] - 0s 1ms/step - loss: 42.4668\n",
            "Epoch 18/100\n",
            "32/32 [==============================] - 0s 1ms/step - loss: 41.1139\n",
            "Epoch 19/100\n",
            "32/32 [==============================] - 0s 1ms/step - loss: 40.1468\n",
            "Epoch 20/100\n",
            "32/32 [==============================] - 0s 1ms/step - loss: 40.6983\n",
            "Epoch 21/100\n",
            "32/32 [==============================] - 0s 1ms/step - loss: 43.1963\n",
            "Epoch 22/100\n",
            "32/32 [==============================] - 0s 1ms/step - loss: 41.2803\n",
            "Epoch 23/100\n",
            "32/32 [==============================] - 0s 1ms/step - loss: 40.1563\n",
            "Epoch 24/100\n",
            "32/32 [==============================] - 0s 1ms/step - loss: 38.4552\n",
            "Epoch 25/100\n",
            "32/32 [==============================] - 0s 954us/step - loss: 39.2086\n",
            "Epoch 26/100\n",
            "32/32 [==============================] - 0s 1ms/step - loss: 40.2176\n",
            "Epoch 27/100\n",
            "32/32 [==============================] - 0s 1ms/step - loss: 38.0091\n",
            "Epoch 28/100\n",
            "32/32 [==============================] - 0s 1ms/step - loss: 41.0073\n",
            "Epoch 29/100\n",
            "32/32 [==============================] - 0s 941us/step - loss: 39.4064\n",
            "Epoch 30/100\n",
            "32/32 [==============================] - 0s 1ms/step - loss: 42.6157\n",
            "Epoch 31/100\n",
            "32/32 [==============================] - 0s 1ms/step - loss: 39.4059\n",
            "Epoch 32/100\n",
            "32/32 [==============================] - 0s 985us/step - loss: 38.0429\n",
            "Epoch 33/100\n",
            "32/32 [==============================] - 0s 975us/step - loss: 38.3481\n",
            "Epoch 34/100\n",
            "32/32 [==============================] - 0s 1ms/step - loss: 43.3524\n",
            "Epoch 35/100\n",
            "32/32 [==============================] - 0s 1ms/step - loss: 39.1977\n",
            "Epoch 36/100\n",
            "32/32 [==============================] - 0s 954us/step - loss: 38.4400\n",
            "Epoch 37/100\n",
            "32/32 [==============================] - 0s 893us/step - loss: 39.4049\n",
            "Epoch 38/100\n",
            "32/32 [==============================] - 0s 1ms/step - loss: 37.0395\n",
            "Epoch 39/100\n",
            "32/32 [==============================] - 0s 1ms/step - loss: 37.6617\n",
            "Epoch 40/100\n",
            "32/32 [==============================] - 0s 1ms/step - loss: 38.0491\n",
            "Epoch 41/100\n",
            "32/32 [==============================] - 0s 1ms/step - loss: 42.0058\n",
            "Epoch 42/100\n",
            "32/32 [==============================] - 0s 1ms/step - loss: 49.1824\n",
            "Epoch 43/100\n",
            "32/32 [==============================] - 0s 1ms/step - loss: 43.0060\n",
            "Epoch 44/100\n",
            "32/32 [==============================] - 0s 953us/step - loss: 40.5804\n",
            "Epoch 45/100\n",
            "32/32 [==============================] - 0s 1ms/step - loss: 42.5400\n",
            "Epoch 46/100\n",
            "32/32 [==============================] - 0s 1ms/step - loss: 41.7193\n",
            "Epoch 47/100\n",
            "32/32 [==============================] - 0s 956us/step - loss: 39.7407\n",
            "Epoch 48/100\n",
            "32/32 [==============================] - 0s 947us/step - loss: 40.0004\n",
            "Epoch 49/100\n",
            "32/32 [==============================] - 0s 1ms/step - loss: 43.2803\n",
            "Epoch 50/100\n",
            "32/32 [==============================] - 0s 998us/step - loss: 39.3896\n",
            "Epoch 51/100\n",
            "32/32 [==============================] - 0s 1ms/step - loss: 39.5351\n",
            "Epoch 52/100\n",
            "32/32 [==============================] - 0s 979us/step - loss: 39.0599\n",
            "Epoch 53/100\n",
            "32/32 [==============================] - 0s 1ms/step - loss: 44.1588\n",
            "Epoch 54/100\n",
            "32/32 [==============================] - 0s 1ms/step - loss: 43.1997\n",
            "Epoch 55/100\n",
            "32/32 [==============================] - 0s 1ms/step - loss: 37.6621\n",
            "Epoch 56/100\n",
            "32/32 [==============================] - 0s 1ms/step - loss: 44.1533\n",
            "Epoch 57/100\n",
            "32/32 [==============================] - 0s 909us/step - loss: 40.0155\n",
            "Epoch 58/100\n",
            "32/32 [==============================] - 0s 1ms/step - loss: 41.9781\n",
            "Epoch 59/100\n",
            "32/32 [==============================] - 0s 1ms/step - loss: 42.9384\n",
            "Epoch 60/100\n",
            "32/32 [==============================] - 0s 1ms/step - loss: 43.5287\n",
            "Epoch 61/100\n",
            "32/32 [==============================] - 0s 1ms/step - loss: 41.3641\n",
            "Epoch 62/100\n",
            "32/32 [==============================] - 0s 1ms/step - loss: 38.8062\n",
            "Epoch 63/100\n",
            "32/32 [==============================] - 0s 1ms/step - loss: 40.4694\n",
            "Epoch 64/100\n",
            "32/32 [==============================] - 0s 1ms/step - loss: 40.3400\n",
            "Epoch 65/100\n",
            "32/32 [==============================] - 0s 1ms/step - loss: 40.2486\n",
            "Epoch 66/100\n",
            "32/32 [==============================] - 0s 1ms/step - loss: 39.5677\n",
            "Epoch 67/100\n",
            "32/32 [==============================] - 0s 1ms/step - loss: 37.5778\n",
            "Epoch 68/100\n",
            "32/32 [==============================] - 0s 1ms/step - loss: 40.6036\n",
            "Epoch 69/100\n",
            "32/32 [==============================] - 0s 1ms/step - loss: 39.1650\n",
            "Epoch 70/100\n",
            "32/32 [==============================] - 0s 1ms/step - loss: 39.9339\n",
            "Epoch 71/100\n",
            "32/32 [==============================] - 0s 1ms/step - loss: 39.7432\n",
            "Epoch 72/100\n",
            "32/32 [==============================] - 0s 945us/step - loss: 39.1813\n",
            "Epoch 73/100\n",
            "32/32 [==============================] - 0s 1ms/step - loss: 39.1413\n",
            "Epoch 74/100\n",
            "32/32 [==============================] - 0s 1ms/step - loss: 39.6467\n",
            "Epoch 75/100\n",
            "32/32 [==============================] - 0s 1ms/step - loss: 39.5479\n",
            "Epoch 76/100\n",
            "32/32 [==============================] - 0s 1ms/step - loss: 36.7070\n",
            "Epoch 77/100\n",
            "32/32 [==============================] - 0s 1ms/step - loss: 39.4498\n",
            "Epoch 78/100\n",
            "32/32 [==============================] - 0s 1ms/step - loss: 41.9152\n",
            "Epoch 79/100\n",
            "32/32 [==============================] - 0s 984us/step - loss: 37.5659\n",
            "Epoch 80/100\n",
            "32/32 [==============================] - 0s 1ms/step - loss: 38.9858\n",
            "Epoch 81/100\n",
            "32/32 [==============================] - 0s 1ms/step - loss: 41.3114\n",
            "Epoch 82/100\n",
            "32/32 [==============================] - 0s 1ms/step - loss: 39.2619\n",
            "Epoch 83/100\n",
            "32/32 [==============================] - 0s 1ms/step - loss: 39.2751\n",
            "Epoch 84/100\n",
            "32/32 [==============================] - 0s 1ms/step - loss: 41.3773\n",
            "Epoch 85/100\n",
            "32/32 [==============================] - 0s 1ms/step - loss: 37.7222\n",
            "Epoch 86/100\n",
            "32/32 [==============================] - 0s 933us/step - loss: 38.8542\n",
            "Epoch 87/100\n",
            "32/32 [==============================] - 0s 969us/step - loss: 41.7949\n",
            "Epoch 88/100\n",
            "32/32 [==============================] - 0s 1ms/step - loss: 38.9557\n",
            "Epoch 89/100\n",
            "32/32 [==============================] - 0s 959us/step - loss: 38.1384\n",
            "Epoch 90/100\n",
            "32/32 [==============================] - 0s 1ms/step - loss: 38.0906\n",
            "Epoch 91/100\n",
            "32/32 [==============================] - 0s 1ms/step - loss: 48.6711\n",
            "Epoch 92/100\n",
            "32/32 [==============================] - 0s 1ms/step - loss: 39.2111\n",
            "Epoch 93/100\n",
            "32/32 [==============================] - 0s 1ms/step - loss: 38.7780\n",
            "Epoch 94/100\n",
            "32/32 [==============================] - 0s 1ms/step - loss: 41.4096\n",
            "Epoch 95/100\n",
            "32/32 [==============================] - 0s 1ms/step - loss: 40.1615\n",
            "Epoch 96/100\n",
            "32/32 [==============================] - 0s 1ms/step - loss: 40.5262\n",
            "Epoch 97/100\n",
            "32/32 [==============================] - 0s 1ms/step - loss: 41.7016\n",
            "Epoch 98/100\n",
            "32/32 [==============================] - 0s 1ms/step - loss: 43.5783\n",
            "Epoch 99/100\n",
            "32/32 [==============================] - 0s 1ms/step - loss: 37.7783\n",
            "Epoch 100/100\n",
            "32/32 [==============================] - 0s 1ms/step - loss: 39.1954\n"
          ],
          "name": "stdout"
        },
        {
          "output_type": "execute_result",
          "data": {
            "text/plain": [
              "<tensorflow.python.keras.callbacks.History at 0x7f343353cf90>"
            ]
          },
          "metadata": {
            "tags": []
          },
          "execution_count": 4
        }
      ]
    },
    {
      "cell_type": "code",
      "metadata": {
        "colab": {
          "base_uri": "https://localhost:8080/"
        },
        "id": "_FkYej4KJ5sP",
        "outputId": "a3d148ba-d9e2-4387-c357-30c13b29931a"
      },
      "source": [
        "models.layers[0].get_weights()"
      ],
      "execution_count": null,
      "outputs": [
        {
          "output_type": "execute_result",
          "data": {
            "text/plain": [
              "[array([[ 1.7728912],\n",
              "        [-3.1506658]], dtype=float32), array([4.99796], dtype=float32)]"
            ]
          },
          "metadata": {
            "tags": []
          },
          "execution_count": 5
        }
      ]
    },
    {
      "cell_type": "code",
      "metadata": {
        "id": "OqMVWA0LJ-ix"
      },
      "source": [
        "weights=models.layers[0].get_weights()[0]\n",
        "bias=models.layers[0].get_weights()[1]"
      ],
      "execution_count": null,
      "outputs": []
    },
    {
      "cell_type": "code",
      "metadata": {
        "colab": {
          "base_uri": "https://localhost:8080/"
        },
        "id": "RfHXBHf_KDaW",
        "outputId": "5f28d3c4-4bb9-4080-e277-90b9e0e9a79c"
      },
      "source": [
        "out=training_data['targets'].round(1)\n",
        "from sklearn.metrics import mean_squared_error\n",
        "mean_squared_error(generated_target, out, squared=False)"
      ],
      "execution_count": null,
      "outputs": [
        {
          "output_type": "execute_result",
          "data": {
            "text/plain": [
              "0.028858629248893816"
            ]
          },
          "metadata": {
            "tags": []
          },
          "execution_count": 7
        }
      ]
    },
    {
      "cell_type": "code",
      "metadata": {
        "colab": {
          "base_uri": "https://localhost:8080/",
          "height": 279
        },
        "id": "nnpCC-ULKHTi",
        "outputId": "c0961a00-9aff-4c05-ea11-05aa4afdc5fe"
      },
      "source": [
        "plt.scatter(np.squeeze(models.predict_on_batch(training_data['input'])),np.squeeze(training_data['targets']),c='#88c999')\n",
        "plt.xlabel('Input')\n",
        "plt.ylabel('Predicted Output')\n",
        "plt.show()"
      ],
      "execution_count": null,
      "outputs": [
        {
          "output_type": "display_data",
          "data": {
            "image/png": "[encoded data removed]",
            "text/plain": [
              "<Figure size 432x288 with 1 Axes>"
            ]
          },
          "metadata": {
            "tags": [],
            "needs_background": "light"
          }
        }
      ]
    },
    {
      "cell_type": "code",
      "metadata": {
        "id": "TGFy66wEKtQS"
      },
      "source": [
        ""
      ],
      "execution_count": null,
      "outputs": []
    }
  ]
}