{
  "nbformat": 4,
  "nbformat_minor": 0,
  "metadata": {
    "colab": {
      "name": "Hands-On Project with Keras.ipynb",
      "provenance": [],
      "authorship_tag": "ABX9TyPm58EEbsJ1SwyvrrrgRH9I",
      "include_colab_link": true
    },
    "kernelspec": {
      "name": "python3",
      "display_name": "Python 3"
    },
    "language_info": {
      "name": "python"
    }
  },
  "cells": [
    {
      "cell_type": "markdown",
      "metadata": {
        "id": "view-in-github",
        "colab_type": "text"
      },
      "source": [
        "<a href=\"https://colab.research.google.com/github/plthiyagu/AI-Engineering/blob/master/08-Deep%20Learning/Hands_On_Project_with_Keras.ipynb\" target=\"_parent\"><img src=\"https://colab.research.google.com/assets/colab-badge.svg\" alt=\"Open In Colab\"/></a>"
      ]
    },
    {
      "cell_type": "markdown",
      "metadata": {
        "id": "8gvUAwiIa0s0"
      },
      "source": [
        "https://www.analyticsvidhya.com/blog/2021/07/practicing-your-deep-learning-skills-a-hands-on-project-with-keras/?utm_source=feedburner&utm_medium=email&utm_campaign=Feed%3A+AnalyticsVidhya+%28Analytics+Vidhya%29"
      ]
    },
    {
      "cell_type": "code",
      "metadata": {
        "id": "Oe8KIfnbaMu9"
      },
      "source": [
        "import numpy\n",
        "import matplotlib.pyplot as plt\n",
        "from tensorflow.keras.models import Sequential\n",
        "from tensorflow.keras.layers import Dense\n",
        "from tensorflow.keras.utils import to_categorical\n",
        "from tensorflow.keras.datasets import mnist"
      ],
      "execution_count": 1,
      "outputs": []
    },
    {
      "cell_type": "code",
      "metadata": {
        "colab": {
          "base_uri": "https://localhost:8080/"
        },
        "id": "UWBZL9-OatQ0",
        "outputId": "f259361b-1409-4ed3-afb4-da575b1013dd"
      },
      "source": [
        "(X_train, y_train), (X_test, y_test) = mnist.load_data()"
      ],
      "execution_count": 2,
      "outputs": [
        {
          "output_type": "stream",
          "text": [
            "Downloading data from https://storage.googleapis.com/tensorflow/tf-keras-datasets/mnist.npz\n",
            "11493376/11490434 [==============================] - 0s 0us/step\n"
          ],
          "name": "stdout"
        }
      ]
    },
    {
      "cell_type": "code",
      "metadata": {
        "colab": {
          "base_uri": "https://localhost:8080/"
        },
        "id": "i7nw0hu1bFi8",
        "outputId": "0ac58d9a-9f22-4d12-d02e-ecf5ca578100"
      },
      "source": [
        "X_train.shape\n",
        "y_train.shape\n",
        "X_test.shape\n",
        "y_test.shape"
      ],
      "execution_count": 3,
      "outputs": [
        {
          "output_type": "execute_result",
          "data": {
            "text/plain": [
              "(10000,)"
            ]
          },
          "metadata": {
            "tags": []
          },
          "execution_count": 3
        }
      ]
    },
    {
      "cell_type": "code",
      "metadata": {
        "colab": {
          "base_uri": "https://localhost:8080/",
          "height": 268
        },
        "id": "f9sbRrqebJgc",
        "outputId": "6d86f07a-7e75-459f-9d0c-4df590fe19ae"
      },
      "source": [
        "# Plot 4 images as gray scale\n",
        "plt.subplot(221)\n",
        "plt.imshow(X_train[0], cmap=plt.get_cmap('gray'))\n",
        "plt.subplot(222)\n",
        "plt.imshow(X_train[1], cmap=plt.get_cmap('gray'))\n",
        "plt.subplot(223)\n",
        "plt.imshow(X_train[2], cmap=plt.get_cmap('gray'))\n",
        "plt.subplot(224)\n",
        "plt.imshow(X_train[3], cmap=plt.get_cmap('gray'))\n",
        "# Show the plot\n",
        "plt.show()"
      ],
      "execution_count": 4,
      "outputs": [
        {
          "output_type": "display_data",
          "data": {
            "image/png": "[encoded data removed]",
            "text/plain": [
              "<Figure size 432x288 with 4 Axes>"
            ]
          },
          "metadata": {
            "tags": [],
            "needs_background": "light"
          }
        }
      ]
    },
    {
      "cell_type": "code",
      "metadata": {
        "colab": {
          "base_uri": "https://localhost:8080/"
        },
        "id": "5wKj-4c5bPyM",
        "outputId": "87202cd7-798f-405f-ccc4-8ecf410701d4"
      },
      "source": [
        "num_pixels = X_train.shape[1] * X_train.shape[2]"
      ],
      "execution_count": 5,
      "outputs": [
        {
          "output_type": "execute_result",
          "data": {
            "text/plain": [
              "784"
            ]
          },
          "metadata": {
            "tags": []
          },
          "execution_count": 5
        }
      ]
    },
    {
      "cell_type": "code",
      "metadata": {
        "id": "oynjAWXdgR8p"
      },
      "source": [
        "X_train = X_train.reshape(X_train.shape[0], num_pixels).astype('float32')\n",
        "X_test = X_test.reshape(X_test.shape[0], num_pixels).astype('float32')\n",
        "X_train = X_train / 255 \n",
        "X_test = X_test / 255\n",
        "y_train = to_categorical(y_train) \n",
        "y_test = to_categorical(y_test)\n",
        "num_classes = y_test.shape[1]"
      ],
      "execution_count": 6,
      "outputs": []
    },
    {
      "cell_type": "code",
      "metadata": {
        "colab": {
          "base_uri": "https://localhost:8080/"
        },
        "id": "_DlBmMGYhoe3",
        "outputId": "57498a80-1c70-423e-f7e5-5d9d2753ff1e"
      },
      "source": [
        "X_train.shape\n",
        "y_train.shape\n",
        "X_test.shape\n",
        "y_test.shape"
      ],
      "execution_count": 7,
      "outputs": [
        {
          "output_type": "execute_result",
          "data": {
            "text/plain": [
              "(10000, 10)"
            ]
          },
          "metadata": {
            "tags": []
          },
          "execution_count": 7
        }
      ]
    },
    {
      "cell_type": "code",
      "metadata": {
        "id": "kCzhEuHAhsDm"
      },
      "source": [
        "# create model\n",
        "model = Sequential()  \n",
        "model.add(Dense(num_classes, input_dim=num_pixels, activation='softmax'))"
      ],
      "execution_count": 8,
      "outputs": []
    },
    {
      "cell_type": "code",
      "metadata": {
        "id": "RS11b6jIh2b0"
      },
      "source": [
        "# Compile model\n",
        "model.compile(loss='categorical_crossentropy', optimizer='sgd', metrics=['accuracy'])"
      ],
      "execution_count": 9,
      "outputs": []
    },
    {
      "cell_type": "code",
      "metadata": {
        "colab": {
          "base_uri": "https://localhost:8080/"
        },
        "id": "ZQ8YOKyKh5zY",
        "outputId": "76def666-8fc9-4e26-c6d9-f7b8ce0df12d"
      },
      "source": [
        "# Training model\n",
        "model.fit(X_train, y_train, validation_data=(X_test, y_test), epochs=10, batch_size=200)"
      ],
      "execution_count": 10,
      "outputs": [
        {
          "output_type": "stream",
          "text": [
            "Epoch 1/10\n",
            "300/300 [==============================] - 1s 3ms/step - loss: 1.4939 - accuracy: 0.6313 - val_loss: 1.0016 - val_accuracy: 0.7987\n",
            "Epoch 2/10\n",
            "300/300 [==============================] - 1s 3ms/step - loss: 0.8669 - accuracy: 0.8182 - val_loss: 0.7302 - val_accuracy: 0.8414\n",
            "Epoch 3/10\n",
            "300/300 [==============================] - 1s 2ms/step - loss: 0.6940 - accuracy: 0.8436 - val_loss: 0.6185 - val_accuracy: 0.8583\n",
            "Epoch 4/10\n",
            "300/300 [==============================] - 1s 2ms/step - loss: 0.6105 - accuracy: 0.8561 - val_loss: 0.5565 - val_accuracy: 0.8693\n",
            "Epoch 5/10\n",
            "300/300 [==============================] - 1s 3ms/step - loss: 0.5600 - accuracy: 0.8640 - val_loss: 0.5159 - val_accuracy: 0.8753\n",
            "Epoch 6/10\n",
            "300/300 [==============================] - 1s 3ms/step - loss: 0.5254 - accuracy: 0.8693 - val_loss: 0.4872 - val_accuracy: 0.8800\n",
            "Epoch 7/10\n",
            "300/300 [==============================] - 1s 2ms/step - loss: 0.4999 - accuracy: 0.8736 - val_loss: 0.4657 - val_accuracy: 0.8822\n",
            "Epoch 8/10\n",
            "300/300 [==============================] - 1s 2ms/step - loss: 0.4803 - accuracy: 0.8765 - val_loss: 0.4487 - val_accuracy: 0.8858\n",
            "Epoch 9/10\n",
            "300/300 [==============================] - 1s 2ms/step - loss: 0.4644 - accuracy: 0.8794 - val_loss: 0.4347 - val_accuracy: 0.8896\n",
            "Epoch 10/10\n",
            "300/300 [==============================] - 1s 3ms/step - loss: 0.4514 - accuracy: 0.8819 - val_loss: 0.4232 - val_accuracy: 0.8917\n"
          ],
          "name": "stdout"
        },
        {
          "output_type": "execute_result",
          "data": {
            "text/plain": [
              "<tensorflow.python.keras.callbacks.History at 0x7efe02216e90>"
            ]
          },
          "metadata": {
            "tags": []
          },
          "execution_count": 10
        }
      ]
    },
    {
      "cell_type": "code",
      "metadata": {
        "colab": {
          "base_uri": "https://localhost:8080/"
        },
        "id": "uf9ptKhfiHD5",
        "outputId": "0be45af3-f3e3-4f66-9858-6ac397323fd5"
      },
      "source": [
        "# Final evaluation of the model\n",
        "scores = model.evaluate(X_test, y_test)\n",
        "print(\"Baseline Error: %.2f%%\" % (100-scores[1]*100))"
      ],
      "execution_count": 11,
      "outputs": [
        {
          "output_type": "stream",
          "text": [
            "313/313 [==============================] - 1s 2ms/step - loss: 0.4232 - accuracy: 0.8917\n",
            "Baseline Error: 10.83%\n"
          ],
          "name": "stdout"
        }
      ]
    },
    {
      "cell_type": "markdown",
      "metadata": {
        "id": "gshvNVhWiRRD"
      },
      "source": [
        "Defining a Multi-Layer Neural Network Model"
      ]
    },
    {
      "cell_type": "code",
      "metadata": {
        "id": "qt5J0rE_iM5Q"
      },
      "source": [
        "model = Sequential()\n",
        "model.add(Dense(500, input_dim=num_pixels, activation='relu'))\n",
        "model.add(Dense(100, activation='relu'))\n",
        "model.add(Dense(num_classes, activation='softmax'))"
      ],
      "execution_count": 12,
      "outputs": []
    },
    {
      "cell_type": "code",
      "metadata": {
        "id": "cv-RyTUIiU0p"
      },
      "source": [
        "# Compile model\n",
        "model.compile(loss='categorical_crossentropy', optimizer='adam', metrics=['accuracy'])"
      ],
      "execution_count": 13,
      "outputs": []
    },
    {
      "cell_type": "code",
      "metadata": {
        "colab": {
          "base_uri": "https://localhost:8080/"
        },
        "id": "2tbhgerOjuwx",
        "outputId": "84d3307b-ac5d-47ae-dbff-83fb781c19dc"
      },
      "source": [
        "# Training model\n",
        "model.fit(X_train, y_train, validation_data=(X_test, y_test), epochs=10, batch_size=200)"
      ],
      "execution_count": 14,
      "outputs": [
        {
          "output_type": "stream",
          "text": [
            "Epoch 1/10\n",
            "300/300 [==============================] - 4s 14ms/step - loss: 0.2800 - accuracy: 0.9200 - val_loss: 0.1322 - val_accuracy: 0.9617\n",
            "Epoch 2/10\n",
            "300/300 [==============================] - 4s 13ms/step - loss: 0.1026 - accuracy: 0.9701 - val_loss: 0.0900 - val_accuracy: 0.9727\n",
            "Epoch 3/10\n",
            "300/300 [==============================] - 4s 13ms/step - loss: 0.0648 - accuracy: 0.9809 - val_loss: 0.0738 - val_accuracy: 0.9762\n",
            "Epoch 4/10\n",
            "300/300 [==============================] - 4s 13ms/step - loss: 0.0454 - accuracy: 0.9864 - val_loss: 0.0654 - val_accuracy: 0.9788\n",
            "Epoch 5/10\n",
            "300/300 [==============================] - 4s 13ms/step - loss: 0.0321 - accuracy: 0.9902 - val_loss: 0.0651 - val_accuracy: 0.9796\n",
            "Epoch 6/10\n",
            "300/300 [==============================] - 4s 13ms/step - loss: 0.0249 - accuracy: 0.9927 - val_loss: 0.0619 - val_accuracy: 0.9819\n",
            "Epoch 7/10\n",
            "300/300 [==============================] - 4s 13ms/step - loss: 0.0184 - accuracy: 0.9946 - val_loss: 0.0708 - val_accuracy: 0.9784\n",
            "Epoch 8/10\n",
            "300/300 [==============================] - 4s 13ms/step - loss: 0.0139 - accuracy: 0.9961 - val_loss: 0.0699 - val_accuracy: 0.9804\n",
            "Epoch 9/10\n",
            "300/300 [==============================] - 4s 13ms/step - loss: 0.0134 - accuracy: 0.9959 - val_loss: 0.0729 - val_accuracy: 0.9797\n",
            "Epoch 10/10\n",
            "300/300 [==============================] - 4s 13ms/step - loss: 0.0118 - accuracy: 0.9962 - val_loss: 0.0771 - val_accuracy: 0.9799\n"
          ],
          "name": "stdout"
        },
        {
          "output_type": "execute_result",
          "data": {
            "text/plain": [
              "<tensorflow.python.keras.callbacks.History at 0x7efdfea12790>"
            ]
          },
          "metadata": {
            "tags": []
          },
          "execution_count": 14
        }
      ]
    },
    {
      "cell_type": "code",
      "metadata": {
        "colab": {
          "base_uri": "https://localhost:8080/"
        },
        "id": "NXzfunGrjy04",
        "outputId": "b0e80c35-8725-4dc6-cd4f-e521e756af30"
      },
      "source": [
        "# Final evaluation of the model\n",
        "scores = model.evaluate(X_test, y_test)\n",
        "print(\"Baseline Error: %.2f%%\" % (100-scores[1]*100))"
      ],
      "execution_count": 15,
      "outputs": [
        {
          "output_type": "stream",
          "text": [
            "313/313 [==============================] - 1s 3ms/step - loss: 0.0771 - accuracy: 0.9799\n",
            "Baseline Error: 2.01%\n"
          ],
          "name": "stdout"
        }
      ]
    },
    {
      "cell_type": "markdown",
      "metadata": {
        "id": "PqCs2XrqkBJR"
      },
      "source": [
        "Defining a deep Neural Network Model"
      ]
    },
    {
      "cell_type": "code",
      "metadata": {
        "id": "p8h9ifDij18I"
      },
      "source": [
        "model = Sequential()  \n",
        "model.add(Dense(500, input_dim=num_pixels, activation='sigmoid'))\n",
        "model.add(Dense(100, activation='sigmoid'))\n",
        "model.add(Dense(50, activation = 'sigmoid'))\n",
        "model.add(Dense(num_classes, activation='softmax'))"
      ],
      "execution_count": 16,
      "outputs": []
    },
    {
      "cell_type": "code",
      "metadata": {
        "id": "-JLeXJ15j6Ph"
      },
      "source": [
        "# Compile model\n",
        "model.compile(loss='categorical_crossentropy', optimizer='adam', metrics=['accuracy'])"
      ],
      "execution_count": 17,
      "outputs": []
    },
    {
      "cell_type": "code",
      "metadata": {
        "colab": {
          "base_uri": "https://localhost:8080/"
        },
        "id": "Vo0KBuSCkLom",
        "outputId": "5a78f21b-fffa-4303-8be5-cace9bf474d4"
      },
      "source": [
        "# Final evaluation of the model\n",
        "scores = model.evaluate(X_test, y_test)\n",
        "print(\"Baseline Error: %.2f%%\" % (100-scores[1]*100))"
      ],
      "execution_count": 18,
      "outputs": [
        {
          "output_type": "stream",
          "text": [
            "313/313 [==============================] - 1s 3ms/step - loss: 2.4914 - accuracy: 0.1009\n",
            "Baseline Error: 89.91%\n"
          ],
          "name": "stdout"
        }
      ]
    },
    {
      "cell_type": "code",
      "metadata": {
        "colab": {
          "base_uri": "https://localhost:8080/"
        },
        "id": "K8S6pWlrkOzy",
        "outputId": "c1771466-e722-480a-b5ff-29dc668b3874"
      },
      "source": [
        "model.summary()"
      ],
      "execution_count": 19,
      "outputs": [
        {
          "output_type": "stream",
          "text": [
            "Model: \"sequential_2\"\n",
            "_________________________________________________________________\n",
            "Layer (type)                 Output Shape              Param #   \n",
            "=================================================================\n",
            "dense_4 (Dense)              (None, 500)               392500    \n",
            "_________________________________________________________________\n",
            "dense_5 (Dense)              (None, 100)               50100     \n",
            "_________________________________________________________________\n",
            "dense_6 (Dense)              (None, 50)                5050      \n",
            "_________________________________________________________________\n",
            "dense_7 (Dense)              (None, 10)                510       \n",
            "=================================================================\n",
            "Total params: 448,160\n",
            "Trainable params: 448,160\n",
            "Non-trainable params: 0\n",
            "_________________________________________________________________\n"
          ],
          "name": "stdout"
        }
      ]
    },
    {
      "cell_type": "markdown",
      "metadata": {
        "id": "tUY8wWPkkd1s"
      },
      "source": [
        "Save the Model"
      ]
    },
    {
      "cell_type": "code",
      "metadata": {
        "colab": {
          "base_uri": "https://localhost:8080/"
        },
        "id": "YKlZPF9SkSa5",
        "outputId": "ae24614c-2d83-474f-b039-6509d7108d4b"
      },
      "source": [
        "import h5py\n",
        "# Compile the model\n",
        "model.compile(loss='categorical_crossentropy', optimizer='adam', metrics=['accuracy'])\n",
        "# Training model\n",
        "model.fit(X_train, y_train, validation_data=(X_test, y_test), epochs=10, batch_size=200)\n",
        "model.save_weights('FC.h5')\n",
        "# Final evaluation of the model\n",
        "scores = model.evaluate(X_test, y_test)\n",
        "print(\"Baseline Error: %.2f%%\" % (100-scores[1]*100))"
      ],
      "execution_count": 20,
      "outputs": [
        {
          "output_type": "stream",
          "text": [
            "Epoch 1/10\n",
            "300/300 [==============================] - 5s 14ms/step - loss: 0.9940 - accuracy: 0.7497 - val_loss: 0.3611 - val_accuracy: 0.9088\n",
            "Epoch 2/10\n",
            "300/300 [==============================] - 4s 14ms/step - loss: 0.2879 - accuracy: 0.9238 - val_loss: 0.2206 - val_accuracy: 0.9370\n",
            "Epoch 3/10\n",
            "300/300 [==============================] - 4s 14ms/step - loss: 0.1973 - accuracy: 0.9458 - val_loss: 0.1706 - val_accuracy: 0.9520\n",
            "Epoch 4/10\n",
            "300/300 [==============================] - 4s 14ms/step - loss: 0.1490 - accuracy: 0.9579 - val_loss: 0.1417 - val_accuracy: 0.9593\n",
            "Epoch 5/10\n",
            "300/300 [==============================] - 4s 14ms/step - loss: 0.1167 - accuracy: 0.9671 - val_loss: 0.1214 - val_accuracy: 0.9639\n",
            "Epoch 6/10\n",
            "300/300 [==============================] - 4s 14ms/step - loss: 0.0953 - accuracy: 0.9733 - val_loss: 0.1067 - val_accuracy: 0.9678\n",
            "Epoch 7/10\n",
            "300/300 [==============================] - 4s 14ms/step - loss: 0.0766 - accuracy: 0.9780 - val_loss: 0.0967 - val_accuracy: 0.9713\n",
            "Epoch 8/10\n",
            "300/300 [==============================] - 4s 14ms/step - loss: 0.0626 - accuracy: 0.9816 - val_loss: 0.0886 - val_accuracy: 0.9736\n",
            "Epoch 9/10\n",
            "300/300 [==============================] - 4s 14ms/step - loss: 0.0517 - accuracy: 0.9857 - val_loss: 0.0829 - val_accuracy: 0.9740\n",
            "Epoch 10/10\n",
            "300/300 [==============================] - 4s 14ms/step - loss: 0.0430 - accuracy: 0.9880 - val_loss: 0.0786 - val_accuracy: 0.9756\n",
            "313/313 [==============================] - 1s 3ms/step - loss: 0.0786 - accuracy: 0.9756\n",
            "Baseline Error: 2.44%\n"
          ],
          "name": "stdout"
        }
      ]
    },
    {
      "cell_type": "markdown",
      "metadata": {
        "id": "gUMoeZbokgEk"
      },
      "source": [
        "Loading the saved Model\n"
      ]
    },
    {
      "cell_type": "code",
      "metadata": {
        "colab": {
          "base_uri": "https://localhost:8080/"
        },
        "id": "VlAZpe4LkYGQ",
        "outputId": "b5643d75-3d43-483b-ee8e-f733b523b34e"
      },
      "source": [
        "model = Sequential()\n",
        "model.add(Dense(500, input_dim=num_pixels, activation='sigmoid'))\n",
        "model.add(Dense(100, activation='sigmoid'))\n",
        "model.add(Dense(50, activation = 'sigmoid'))\n",
        "model.add(Dense(num_classes, activation='softmax'))\n",
        "# Compile model\n",
        "model.compile(loss='categorical_crossentropy', optimizer='adam', metrics=['accuracy'])\n",
        "# Final evaluation of the model\n",
        "scores = model.evaluate(X_test, y_test)\n",
        "print(\"Baseline Error: %.2f%%\" % (100-scores[1]*100))"
      ],
      "execution_count": 21,
      "outputs": [
        {
          "output_type": "stream",
          "text": [
            "313/313 [==============================] - 1s 3ms/step - loss: 2.5498 - accuracy: 0.1009\n",
            "Baseline Error: 89.91%\n"
          ],
          "name": "stdout"
        }
      ]
    },
    {
      "cell_type": "code",
      "metadata": {
        "colab": {
          "base_uri": "https://localhost:8080/"
        },
        "id": "qz8Y87KLk0w-",
        "outputId": "4c3251c0-51dc-4d36-f81c-f6f2b0fc0e3a"
      },
      "source": [
        "model.load_weights('FC.h5')\n",
        "# Final evaluation of the model\n",
        "scores = model.evaluate(X_test, y_test)\n",
        "print(\"Baseline Error: %.2f%%\" % (100-scores[1]*100))"
      ],
      "execution_count": 22,
      "outputs": [
        {
          "output_type": "stream",
          "text": [
            "313/313 [==============================] - 1s 3ms/step - loss: 0.0786 - accuracy: 0.9756\n",
            "Baseline Error: 2.44%\n"
          ],
          "name": "stdout"
        }
      ]
    },
    {
      "cell_type": "markdown",
      "metadata": {
        "id": "y2t_ak6hlGDA"
      },
      "source": [
        "Creating checkpoints of Model"
      ]
    },
    {
      "cell_type": "code",
      "metadata": {
        "colab": {
          "base_uri": "https://localhost:8080/"
        },
        "id": "QKA9R-AklBFF",
        "outputId": "fa05a56f-58c3-45f7-9440-4258ff2ae9f0"
      },
      "source": [
        "from tensorflow.keras.callbacks import ModelCheckpoint\n",
        "filepath='FC.h5'\n",
        "checkpoint = ModelCheckpoint(filepath, monitor='val_accuracy', save_best_only=True, mode='max')\n",
        "callbacks_list = [checkpoint]\n",
        "model.fit(X_train, y_train, validation_data=(X_test, y_test), epochs=10, batch_size=200, callbacks=callbacks_list)"
      ],
      "execution_count": 23,
      "outputs": [
        {
          "output_type": "stream",
          "text": [
            "Epoch 1/10\n",
            "300/300 [==============================] - 5s 14ms/step - loss: 0.0364 - accuracy: 0.9901 - val_loss: 0.0778 - val_accuracy: 0.9755\n",
            "Epoch 2/10\n",
            "300/300 [==============================] - 4s 13ms/step - loss: 0.0292 - accuracy: 0.9922 - val_loss: 0.0742 - val_accuracy: 0.9787\n",
            "Epoch 3/10\n",
            "300/300 [==============================] - 4s 13ms/step - loss: 0.0227 - accuracy: 0.9941 - val_loss: 0.0731 - val_accuracy: 0.9777\n",
            "Epoch 4/10\n",
            "300/300 [==============================] - 4s 13ms/step - loss: 0.0191 - accuracy: 0.9952 - val_loss: 0.0737 - val_accuracy: 0.9787\n",
            "Epoch 5/10\n",
            "300/300 [==============================] - 4s 13ms/step - loss: 0.0156 - accuracy: 0.9961 - val_loss: 0.0786 - val_accuracy: 0.9765\n",
            "Epoch 6/10\n",
            "300/300 [==============================] - 4s 13ms/step - loss: 0.0133 - accuracy: 0.9962 - val_loss: 0.0731 - val_accuracy: 0.9790\n",
            "Epoch 7/10\n",
            "300/300 [==============================] - 4s 14ms/step - loss: 0.0094 - accuracy: 0.9978 - val_loss: 0.0743 - val_accuracy: 0.9793\n",
            "Epoch 8/10\n",
            "300/300 [==============================] - 4s 13ms/step - loss: 0.0079 - accuracy: 0.9985 - val_loss: 0.0763 - val_accuracy: 0.9796\n",
            "Epoch 9/10\n",
            "300/300 [==============================] - 4s 13ms/step - loss: 0.0063 - accuracy: 0.9986 - val_loss: 0.0717 - val_accuracy: 0.9806\n",
            "Epoch 10/10\n",
            "300/300 [==============================] - 4s 13ms/step - loss: 0.0045 - accuracy: 0.9992 - val_loss: 0.0779 - val_accuracy: 0.9796\n"
          ],
          "name": "stdout"
        },
        {
          "output_type": "execute_result",
          "data": {
            "text/plain": [
              "<tensorflow.python.keras.callbacks.History at 0x7efdfdd24c10>"
            ]
          },
          "metadata": {
            "tags": []
          },
          "execution_count": 23
        }
      ]
    },
    {
      "cell_type": "markdown",
      "metadata": {
        "id": "LoFkSAEJlZTf"
      },
      "source": [
        "Defining Learning Rate Decay and Other Parameters of Optimizer"
      ]
    },
    {
      "cell_type": "code",
      "metadata": {
        "colab": {
          "base_uri": "https://localhost:8080/"
        },
        "id": "__6mdNTglK9K",
        "outputId": "8df60843-a4ab-4e0d-a843-d97458d5cdeb"
      },
      "source": [
        "from tensorflow.keras.optimizers import SGD, Adam\n",
        "sgd = SGD(lr = 0.001, momentum = 0.0005, decay = 0.0005)   # 0.001  to 0.000001\n",
        "adam = Adam(lr=0.001, beta_1=0.9, beta_2=0.999, epsilon=None, decay=0.0005)\n",
        "model.compile(loss='categorical_crossentropy', optimizer=adam, metrics=['accuracy'])\n",
        "# model.compile(loss='categorical_crossentropy', optimizer=sgd, metrics=['accuracy'])\n",
        "model.fit(X_train, y_train, validation_data=(X_test, y_test), epochs=10, batch_size=200)\n",
        "# Final evaluation of the model\n",
        "scores = model.evaluate(X_test, y_test)\n",
        "print(\"Baseline Error: %.2f%%\" % (100-scores[1]*100))"
      ],
      "execution_count": 24,
      "outputs": [
        {
          "output_type": "stream",
          "text": [
            "/usr/local/lib/python3.7/dist-packages/tensorflow/python/keras/optimizer_v2/optimizer_v2.py:375: UserWarning: The `lr` argument is deprecated, use `learning_rate` instead.\n",
            "  \"The `lr` argument is deprecated, use `learning_rate` instead.\")\n"
          ],
          "name": "stderr"
        },
        {
          "output_type": "stream",
          "text": [
            "Epoch 1/10\n",
            "300/300 [==============================] - 5s 14ms/step - loss: 0.0055 - accuracy: 0.9987 - val_loss: 0.0791 - val_accuracy: 0.9800\n",
            "Epoch 2/10\n",
            "300/300 [==============================] - 4s 13ms/step - loss: 0.0027 - accuracy: 0.9996 - val_loss: 0.0774 - val_accuracy: 0.9818\n",
            "Epoch 3/10\n",
            "300/300 [==============================] - 4s 13ms/step - loss: 0.0019 - accuracy: 0.9998 - val_loss: 0.0783 - val_accuracy: 0.9820\n",
            "Epoch 4/10\n",
            "300/300 [==============================] - 4s 13ms/step - loss: 0.0014 - accuracy: 0.9999 - val_loss: 0.0800 - val_accuracy: 0.9812\n",
            "Epoch 5/10\n",
            "300/300 [==============================] - 4s 13ms/step - loss: 0.0016 - accuracy: 0.9997 - val_loss: 0.0806 - val_accuracy: 0.9817\n",
            "Epoch 6/10\n",
            "300/300 [==============================] - 4s 13ms/step - loss: 8.2868e-04 - accuracy: 1.0000 - val_loss: 0.0800 - val_accuracy: 0.9818\n",
            "Epoch 7/10\n",
            "300/300 [==============================] - 4s 13ms/step - loss: 5.4221e-04 - accuracy: 1.0000 - val_loss: 0.0808 - val_accuracy: 0.9819\n",
            "Epoch 8/10\n",
            "300/300 [==============================] - 4s 13ms/step - loss: 4.0871e-04 - accuracy: 1.0000 - val_loss: 0.0814 - val_accuracy: 0.9824\n",
            "Epoch 9/10\n",
            "300/300 [==============================] - 4s 13ms/step - loss: 3.5636e-04 - accuracy: 1.0000 - val_loss: 0.0831 - val_accuracy: 0.9821\n",
            "Epoch 10/10\n",
            "300/300 [==============================] - 4s 13ms/step - loss: 3.1329e-04 - accuracy: 1.0000 - val_loss: 0.0831 - val_accuracy: 0.9820\n",
            "313/313 [==============================] - 1s 3ms/step - loss: 0.0831 - accuracy: 0.9820\n",
            "Baseline Error: 1.80%\n"
          ],
          "name": "stdout"
        }
      ]
    },
    {
      "cell_type": "markdown",
      "metadata": {
        "id": "xq-0UufplhMT"
      },
      "source": [
        "Defining Regularizers for the Model"
      ]
    },
    {
      "cell_type": "code",
      "metadata": {
        "colab": {
          "base_uri": "https://localhost:8080/"
        },
        "id": "d0b4X7csldlu",
        "outputId": "bf1dd7cd-6084-44cf-d2fb-19b927b7d33b"
      },
      "source": [
        "from tensorflow.keras import regularizers\n",
        "from tensorflow.keras.layers import Dropout\n",
        "model = Sequential() \n",
        "model.add(Dense(500, input_dim=num_pixels, activation='sigmoid', kernel_regularizer=regularizers.l2(1e-4)))\n",
        "model.add(Dropout(0.3))\n",
        "model.add(Dense(100, activation='sigmoid', kernel_regularizer=regularizers.l2(1e-4)))\n",
        "model.add(Dropout(0.25))\n",
        "model.add(Dense(50, activation = 'sigmoid', kernel_regularizer=regularizers.l2(1e-4)))\n",
        "model.add(Dropout(0.3))\n",
        "model.add(Dense(num_classes, activation='softmax', kernel_regularizer=regularizers.l2(1e-4)))\n",
        "# Compile model\n",
        "from tensorflow.keras.callbacks import ModelCheckpoint\n",
        "model.compile(loss='categorical_crossentropy', optimizer='adam', metrics=['accuracy'])\n",
        "# Training model\n",
        "model.fit(X_train, y_train, validation_data=(X_test, y_test), epochs=10, batch_size=200)\n",
        "# Final evaluation of the model\n",
        "scores = model.evaluate(X_test, y_test)\n",
        "print(\"Baseline Error: %.2f%%\" % (100-scores[1]*100))"
      ],
      "execution_count": 25,
      "outputs": [
        {
          "output_type": "stream",
          "text": [
            "Epoch 1/10\n",
            "300/300 [==============================] - 6s 17ms/step - loss: 1.3472 - accuracy: 0.6180 - val_loss: 0.6000 - val_accuracy: 0.8855\n",
            "Epoch 2/10\n",
            "300/300 [==============================] - 5s 16ms/step - loss: 0.6338 - accuracy: 0.8686 - val_loss: 0.4327 - val_accuracy: 0.9186\n",
            "Epoch 3/10\n",
            "300/300 [==============================] - 5s 16ms/step - loss: 0.5194 - accuracy: 0.8985 - val_loss: 0.3783 - val_accuracy: 0.9328\n",
            "Epoch 4/10\n",
            "300/300 [==============================] - 5s 16ms/step - loss: 0.4699 - accuracy: 0.9121 - val_loss: 0.3498 - val_accuracy: 0.9412\n",
            "Epoch 5/10\n",
            "300/300 [==============================] - 5s 16ms/step - loss: 0.4401 - accuracy: 0.9208 - val_loss: 0.3271 - val_accuracy: 0.9491\n",
            "Epoch 6/10\n",
            "300/300 [==============================] - 5s 16ms/step - loss: 0.4221 - accuracy: 0.9266 - val_loss: 0.3218 - val_accuracy: 0.9516\n",
            "Epoch 7/10\n",
            "300/300 [==============================] - 5s 16ms/step - loss: 0.4027 - accuracy: 0.9313 - val_loss: 0.3118 - val_accuracy: 0.9553\n",
            "Epoch 8/10\n",
            "300/300 [==============================] - 5s 16ms/step - loss: 0.3947 - accuracy: 0.9358 - val_loss: 0.3029 - val_accuracy: 0.9580\n",
            "Epoch 9/10\n",
            "300/300 [==============================] - 5s 16ms/step - loss: 0.3883 - accuracy: 0.9363 - val_loss: 0.2997 - val_accuracy: 0.9611\n",
            "Epoch 10/10\n",
            "300/300 [==============================] - 5s 16ms/step - loss: 0.3823 - accuracy: 0.9386 - val_loss: 0.2936 - val_accuracy: 0.9621\n",
            "313/313 [==============================] - 1s 4ms/step - loss: 0.2936 - accuracy: 0.9621\n",
            "Baseline Error: 3.79%\n"
          ],
          "name": "stdout"
        }
      ]
    },
    {
      "cell_type": "markdown",
      "metadata": {
        "id": "ohLwXlT4lrSJ"
      },
      "source": [
        "Defining Initialization for the Model\n"
      ]
    },
    {
      "cell_type": "code",
      "metadata": {
        "colab": {
          "base_uri": "https://localhost:8080/"
        },
        "id": "jZ-cIV9OlnY2",
        "outputId": "e85002ae-383a-42c8-a4ff-ead4099cfc01"
      },
      "source": [
        "from tensorflow.keras import initializers\n",
        "from tensorflow.keras.layers import Dropout\n",
        "model = Sequential()\n",
        "model.add(Dense(500, input_dim=num_pixels, activation='sigmoid', kernel_initializer=initializers.GlorotNormal()))\n",
        "model.add(Dense(100, activation='sigmoid', kernel_initializer=initializers.GlorotNormal()))\n",
        "model.add(Dense(50, activation = 'sigmoid', kernel_initializer=initializers.GlorotNormal()))\n",
        "model.add(Dense(num_classes, activation='softmax', kernel_initializer=initializers.GlorotNormal()))\n",
        "# Compile model\n",
        "from tensorflow.keras.callbacks import ModelCheckpoint\n",
        "model.compile(loss='categorical_crossentropy', optimizer='adam', metrics=['accuracy'])\n",
        "# Training model\n",
        "model.fit(X_train, y_train, validation_data=(X_test, y_test), epochs=10, batch_size=200)\n",
        "# Final evaluation of the model\n",
        "scores = model.evaluate(X_test, y_test)\n",
        "print(\"Baseline Error: %.2f%%\" % (100-scores[1]*100))"
      ],
      "execution_count": 26,
      "outputs": [
        {
          "output_type": "stream",
          "text": [
            "Epoch 1/10\n",
            "300/300 [==============================] - 4s 14ms/step - loss: 1.0050 - accuracy: 0.7615 - val_loss: 0.3758 - val_accuracy: 0.9103\n",
            "Epoch 2/10\n",
            "300/300 [==============================] - 4s 13ms/step - loss: 0.2944 - accuracy: 0.9234 - val_loss: 0.2283 - val_accuracy: 0.9365\n",
            "Epoch 3/10\n",
            "300/300 [==============================] - 4s 13ms/step - loss: 0.1950 - accuracy: 0.9465 - val_loss: 0.1666 - val_accuracy: 0.9533\n",
            "Epoch 4/10\n",
            "300/300 [==============================] - 4s 13ms/step - loss: 0.1454 - accuracy: 0.9592 - val_loss: 0.1337 - val_accuracy: 0.9610\n",
            "Epoch 5/10\n",
            "300/300 [==============================] - 4s 13ms/step - loss: 0.1139 - accuracy: 0.9681 - val_loss: 0.1171 - val_accuracy: 0.9655\n",
            "Epoch 6/10\n",
            "300/300 [==============================] - 4s 13ms/step - loss: 0.0923 - accuracy: 0.9737 - val_loss: 0.1014 - val_accuracy: 0.9692\n",
            "Epoch 7/10\n",
            "300/300 [==============================] - 4s 13ms/step - loss: 0.0763 - accuracy: 0.9782 - val_loss: 0.0900 - val_accuracy: 0.9733\n",
            "Epoch 8/10\n",
            "300/300 [==============================] - 4s 13ms/step - loss: 0.0632 - accuracy: 0.9823 - val_loss: 0.0880 - val_accuracy: 0.9749\n",
            "Epoch 9/10\n",
            "300/300 [==============================] - 4s 13ms/step - loss: 0.0510 - accuracy: 0.9860 - val_loss: 0.0783 - val_accuracy: 0.9752\n",
            "Epoch 10/10\n",
            "300/300 [==============================] - 4s 13ms/step - loss: 0.0428 - accuracy: 0.9883 - val_loss: 0.0745 - val_accuracy: 0.9769\n",
            "313/313 [==============================] - 1s 3ms/step - loss: 0.0745 - accuracy: 0.9769\n",
            "Baseline Error: 2.31%\n"
          ],
          "name": "stdout"
        }
      ]
    },
    {
      "cell_type": "code",
      "metadata": {
        "id": "uonxfO_hlxLd"
      },
      "source": [
        ""
      ],
      "execution_count": null,
      "outputs": []
    }
  ]
}