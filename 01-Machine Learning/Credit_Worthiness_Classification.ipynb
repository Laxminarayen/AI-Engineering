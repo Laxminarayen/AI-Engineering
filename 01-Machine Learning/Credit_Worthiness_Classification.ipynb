{
  "nbformat": 4,
  "nbformat_minor": 0,
  "metadata": {
    "colab": {
      "name": "Credit Worthiness Classification.ipynb",
      "provenance": [],
      "authorship_tag": "ABX9TyPKARKZ7Zud+SfYnIUGbzHz",
      "include_colab_link": true
    },
    "kernelspec": {
      "name": "python3",
      "display_name": "Python 3"
    }
  },
  "cells": [
    {
      "cell_type": "markdown",
      "metadata": {
        "id": "view-in-github",
        "colab_type": "text"
      },
      "source": [
        "<a href=\"https://colab.research.google.com/github/plthiyagu/AI-Engineering/blob/master/01-Machine%20Learning/Credit_Worthiness_Classification.ipynb\" target=\"_parent\"><img src=\"https://colab.research.google.com/assets/colab-badge.svg\" alt=\"Open In Colab\"/></a>"
      ]
    },
    {
      "cell_type": "code",
      "metadata": {
        "id": "wuWTXIn_ZAmJ"
      },
      "source": [
        "!pip install shap"
      ],
      "execution_count": null,
      "outputs": []
    },
    {
      "cell_type": "code",
      "metadata": {
        "id": "4y6QcA9eYrSQ"
      },
      "source": [
        "### Necessary imports\r\n",
        "import pandas as pd\r\n",
        "\r\n",
        "from sklearn.preprocessing import LabelEncoder\r\n",
        "from sklearn.model_selection import train_test_split\r\n",
        "\r\n",
        "from sklearn.linear_model import LogisticRegression\r\n",
        "from sklearn.tree import DecisionTreeClassifier\r\n",
        "from sklearn.ensemble import RandomForestClassifier\r\n",
        "\r\n",
        "from sklearn.metrics import fbeta_score\r\n",
        "\r\n",
        "import matplotlib.pyplot as plt\r\n",
        "\r\n",
        "from sklearn.model_selection import cross_val_score\r\n",
        "import shap\r\n",
        "\r\n",
        "import warnings\r\n",
        "warnings.filterwarnings(\"ignore\")\r\n",
        "\r\n",
        "from IPython.core.interactiveshell import InteractiveShell\r\n",
        "InteractiveShell.ast_node_interactivity = \"all\""
      ],
      "execution_count": 3,
      "outputs": []
    },
    {
      "cell_type": "code",
      "metadata": {
        "id": "NNS_3h1uY1rT"
      },
      "source": [
        "filepath='https://raw.githubusercontent.com/plthiyagu/Personnel/master/Dataset/german_credit.csv'\r\n",
        "df_credit= pd.read_csv(filepath)"
      ],
      "execution_count": 4,
      "outputs": []
    },
    {
      "cell_type": "code",
      "metadata": {
        "colab": {
          "base_uri": "https://localhost:8080/"
        },
        "id": "BKfi885pZTSo",
        "outputId": "fcb17922-2bd2-4cb2-b523-013a148d7cb4"
      },
      "source": [
        "y = df_credit['Risk']\r\n",
        "X = df_credit.drop(columns = ['Risk'])\r\n",
        "X_train, X_test, y_train, y_test = train_test_split(X,y, test_size = 0.1)\r\n",
        "\r\n",
        "df_train = pd.concat([X_train, y_train], axis = 1)\r\n",
        "df_test = pd.concat([X_test, y_test], axis = 1)\r\n",
        "\r\n",
        "print(df_train.shape, df_test.shape)"
      ],
      "execution_count": 5,
      "outputs": [
        {
          "output_type": "stream",
          "text": [
            "(900, 10) (100, 10)\n"
          ],
          "name": "stdout"
        }
      ]
    },
    {
      "cell_type": "code",
      "metadata": {
        "colab": {
          "base_uri": "https://localhost:8080/",
          "height": 204
        },
        "id": "H6MM6fN7ZY2L",
        "outputId": "66ab6777-2527-44b5-80cc-0ddfa5967da7"
      },
      "source": [
        "df_train.head()"
      ],
      "execution_count": 6,
      "outputs": [
        {
          "output_type": "execute_result",
          "data": {
            "text/html": [
              "<div>\n",
              "<style scoped>\n",
              "    .dataframe tbody tr th:only-of-type {\n",
              "        vertical-align: middle;\n",
              "    }\n",
              "\n",
              "    .dataframe tbody tr th {\n",
              "        vertical-align: top;\n",
              "    }\n",
              "\n",
              "    .dataframe thead th {\n",
              "        text-align: right;\n",
              "    }\n",
              "</style>\n",
              "<table border=\"1\" class=\"dataframe\">\n",
              "  <thead>\n",
              "    <tr style=\"text-align: right;\">\n",
              "      <th></th>\n",
              "      <th>Credit History</th>\n",
              "      <th>Age</th>\n",
              "      <th>Gender</th>\n",
              "      <th>Job</th>\n",
              "      <th>Housing</th>\n",
              "      <th>Saving accounts</th>\n",
              "      <th>Credit amount</th>\n",
              "      <th>Duration</th>\n",
              "      <th>Purpose</th>\n",
              "      <th>Risk</th>\n",
              "    </tr>\n",
              "  </thead>\n",
              "  <tbody>\n",
              "    <tr>\n",
              "      <th>900</th>\n",
              "      <td>4</td>\n",
              "      <td>43</td>\n",
              "      <td>male</td>\n",
              "      <td>2</td>\n",
              "      <td>rent</td>\n",
              "      <td>little</td>\n",
              "      <td>2625</td>\n",
              "      <td>16</td>\n",
              "      <td>car</td>\n",
              "      <td>bad</td>\n",
              "    </tr>\n",
              "    <tr>\n",
              "      <th>326</th>\n",
              "      <td>4</td>\n",
              "      <td>49</td>\n",
              "      <td>male</td>\n",
              "      <td>2</td>\n",
              "      <td>rent</td>\n",
              "      <td>NaN</td>\n",
              "      <td>5801</td>\n",
              "      <td>12</td>\n",
              "      <td>furniture/equipment</td>\n",
              "      <td>good</td>\n",
              "    </tr>\n",
              "    <tr>\n",
              "      <th>913</th>\n",
              "      <td>2</td>\n",
              "      <td>28</td>\n",
              "      <td>male</td>\n",
              "      <td>2</td>\n",
              "      <td>own</td>\n",
              "      <td>rich</td>\n",
              "      <td>2142</td>\n",
              "      <td>11</td>\n",
              "      <td>business</td>\n",
              "      <td>good</td>\n",
              "    </tr>\n",
              "    <tr>\n",
              "      <th>868</th>\n",
              "      <td>2</td>\n",
              "      <td>37</td>\n",
              "      <td>male</td>\n",
              "      <td>2</td>\n",
              "      <td>own</td>\n",
              "      <td>NaN</td>\n",
              "      <td>7409</td>\n",
              "      <td>36</td>\n",
              "      <td>business</td>\n",
              "      <td>good</td>\n",
              "    </tr>\n",
              "    <tr>\n",
              "      <th>580</th>\n",
              "      <td>4</td>\n",
              "      <td>30</td>\n",
              "      <td>male</td>\n",
              "      <td>2</td>\n",
              "      <td>own</td>\n",
              "      <td>little</td>\n",
              "      <td>1056</td>\n",
              "      <td>18</td>\n",
              "      <td>car</td>\n",
              "      <td>bad</td>\n",
              "    </tr>\n",
              "  </tbody>\n",
              "</table>\n",
              "</div>"
            ],
            "text/plain": [
              "     Credit History  Age Gender  ...  Duration              Purpose  Risk\n",
              "900               4   43   male  ...        16                  car   bad\n",
              "326               4   49   male  ...        12  furniture/equipment  good\n",
              "913               2   28   male  ...        11             business  good\n",
              "868               2   37   male  ...        36             business  good\n",
              "580               4   30   male  ...        18                  car   bad\n",
              "\n",
              "[5 rows x 10 columns]"
            ]
          },
          "metadata": {
            "tags": []
          },
          "execution_count": 6
        }
      ]
    },
    {
      "cell_type": "markdown",
      "metadata": {
        "id": "Fd7SaPteZfz9"
      },
      "source": [
        "Train and Test Distribution comparison\r\n",
        "\r\n"
      ]
    },
    {
      "cell_type": "code",
      "metadata": {
        "colab": {
          "base_uri": "https://localhost:8080/",
          "height": 316
        },
        "id": "I4H0l1lvZb0c",
        "outputId": "9a2dcd5f-6e44-488f-db93-0cfc9238defe"
      },
      "source": [
        "df_train.loc[:, 'Credit History'].hist(alpha=0.5, label='Train', density=True)    \r\n",
        "df_test.loc[:, 'Credit History'].hist(alpha=0.5, label='Test', density=True)\r\n",
        "plt.xlabel('Credit History')\r\n",
        "plt.legend()\r\n"
      ],
      "execution_count": 7,
      "outputs": [
        {
          "output_type": "execute_result",
          "data": {
            "text/plain": [
              "<matplotlib.axes._subplots.AxesSubplot at 0x7fe008736a58>"
            ]
          },
          "metadata": {
            "tags": []
          },
          "execution_count": 7
        },
        {
          "output_type": "execute_result",
          "data": {
            "text/plain": [
              "<matplotlib.axes._subplots.AxesSubplot at 0x7fe008736a58>"
            ]
          },
          "metadata": {
            "tags": []
          },
          "execution_count": 7
        },
        {
          "output_type": "execute_result",
          "data": {
            "text/plain": [
              "Text(0.5, 0, 'Credit History')"
            ]
          },
          "metadata": {
            "tags": []
          },
          "execution_count": 7
        },
        {
          "output_type": "execute_result",
          "data": {
            "text/plain": [
              "<matplotlib.legend.Legend at 0x7fe0086aff98>"
            ]
          },
          "metadata": {
            "tags": []
          },
          "execution_count": 7
        },
        {
          "output_type": "display_data",
          "data": {
            "image/png": "[encoded data removed]",
            "text/plain": [
              "<Figure size 432x288 with 1 Axes>"
            ]
          },
          "metadata": {
            "tags": [],
            "needs_background": "light"
          }
        }
      ]
    },
    {
      "cell_type": "code",
      "metadata": {
        "colab": {
          "base_uri": "https://localhost:8080/",
          "height": 296
        },
        "id": "0XW_kqyuZpkx",
        "outputId": "6f8feef8-0fa3-4abb-9294-6ebb6add48e2"
      },
      "source": [
        "df_train.loc[:, 'Age'].hist(alpha=0.5, label='Train', density=True)    \r\n",
        "df_test.loc[:, 'Age'].hist(alpha=0.5, label='Test', density=True)  \r\n",
        "plt.xlabel('Age')"
      ],
      "execution_count": 8,
      "outputs": [
        {
          "output_type": "execute_result",
          "data": {
            "text/plain": [
              "<matplotlib.axes._subplots.AxesSubplot at 0x7fe008655b38>"
            ]
          },
          "metadata": {
            "tags": []
          },
          "execution_count": 8
        },
        {
          "output_type": "execute_result",
          "data": {
            "text/plain": [
              "<matplotlib.axes._subplots.AxesSubplot at 0x7fe008655b38>"
            ]
          },
          "metadata": {
            "tags": []
          },
          "execution_count": 8
        },
        {
          "output_type": "execute_result",
          "data": {
            "text/plain": [
              "Text(0.5, 0, 'Age')"
            ]
          },
          "metadata": {
            "tags": []
          },
          "execution_count": 8
        },
        {
          "output_type": "display_data",
          "data": {
            "image/png": "[encoded data removed]",
            "text/plain": [
              "<Figure size 432x288 with 1 Axes>"
            ]
          },
          "metadata": {
            "tags": [],
            "needs_background": "light"
          }
        }
      ]
    },
    {
      "cell_type": "code",
      "metadata": {
        "colab": {
          "base_uri": "https://localhost:8080/",
          "height": 313
        },
        "id": "bjQi0RNWZwmJ",
        "outputId": "402bba5c-ea44-4cfd-b5ed-79a29949ca92"
      },
      "source": [
        "df_train.loc[:, 'Job'].hist(alpha=0.5, label='Train', density=True)    \r\n",
        "df_test.loc[:, 'Job'].hist(alpha=0.5, label='Test', density=True)\r\n",
        "plt.xlabel('Job')\r\n",
        "plt.legend()"
      ],
      "execution_count": 9,
      "outputs": [
        {
          "output_type": "execute_result",
          "data": {
            "text/plain": [
              "<matplotlib.axes._subplots.AxesSubplot at 0x7fe0081474a8>"
            ]
          },
          "metadata": {
            "tags": []
          },
          "execution_count": 9
        },
        {
          "output_type": "execute_result",
          "data": {
            "text/plain": [
              "<matplotlib.axes._subplots.AxesSubplot at 0x7fe0081474a8>"
            ]
          },
          "metadata": {
            "tags": []
          },
          "execution_count": 9
        },
        {
          "output_type": "execute_result",
          "data": {
            "text/plain": [
              "Text(0.5, 0, 'Job')"
            ]
          },
          "metadata": {
            "tags": []
          },
          "execution_count": 9
        },
        {
          "output_type": "execute_result",
          "data": {
            "text/plain": [
              "<matplotlib.legend.Legend at 0x7fe00816d400>"
            ]
          },
          "metadata": {
            "tags": []
          },
          "execution_count": 9
        },
        {
          "output_type": "display_data",
          "data": {
            "image/png": "[encoded data removed]",
            "text/plain": [
              "<Figure size 432x288 with 1 Axes>"
            ]
          },
          "metadata": {
            "tags": [],
            "needs_background": "light"
          }
        }
      ]
    },
    {
      "cell_type": "code",
      "metadata": {
        "colab": {
          "base_uri": "https://localhost:8080/",
          "height": 313
        },
        "id": "ihIEX9gJZ0u7",
        "outputId": "62bd508a-0dec-47b1-b2d7-f0c328af67a0"
      },
      "source": [
        "df_train.loc[:, 'Duration'].hist(alpha=0.5, label='Train', density=True)    \r\n",
        "df_test.loc[:, 'Duration'].hist(alpha=0.5, label='Test', density=True)\r\n",
        "plt.xlabel('Duration')\r\n",
        "plt.legend()"
      ],
      "execution_count": 10,
      "outputs": [
        {
          "output_type": "execute_result",
          "data": {
            "text/plain": [
              "<matplotlib.axes._subplots.AxesSubplot at 0x7fe008147b38>"
            ]
          },
          "metadata": {
            "tags": []
          },
          "execution_count": 10
        },
        {
          "output_type": "execute_result",
          "data": {
            "text/plain": [
              "<matplotlib.axes._subplots.AxesSubplot at 0x7fe008147b38>"
            ]
          },
          "metadata": {
            "tags": []
          },
          "execution_count": 10
        },
        {
          "output_type": "execute_result",
          "data": {
            "text/plain": [
              "Text(0.5, 0, 'Duration')"
            ]
          },
          "metadata": {
            "tags": []
          },
          "execution_count": 10
        },
        {
          "output_type": "execute_result",
          "data": {
            "text/plain": [
              "<matplotlib.legend.Legend at 0x7fe00801a6a0>"
            ]
          },
          "metadata": {
            "tags": []
          },
          "execution_count": 10
        },
        {
          "output_type": "display_data",
          "data": {
            "image/png": "[encoded data removed]",
            "text/plain": [
              "<Figure size 432x288 with 1 Axes>"
            ]
          },
          "metadata": {
            "tags": [],
            "needs_background": "light"
          }
        }
      ]
    },
    {
      "cell_type": "code",
      "metadata": {
        "colab": {
          "base_uri": "https://localhost:8080/",
          "height": 313
        },
        "id": "z1B-qJ1yZ4db",
        "outputId": "d5c305e5-e86a-4873-d5c8-1753f48ef2fb"
      },
      "source": [
        "df_train.loc[:, 'Credit amount'].hist(alpha=0.5, label='Train', density=True)    \r\n",
        "df_test.loc[:, 'Credit amount'].hist(alpha=0.5, label='Test', density=True)\r\n",
        "plt.xlabel('Credit amount')\r\n",
        "plt.legend()"
      ],
      "execution_count": 11,
      "outputs": [
        {
          "output_type": "execute_result",
          "data": {
            "text/plain": [
              "<matplotlib.axes._subplots.AxesSubplot at 0x7fe007fd1fd0>"
            ]
          },
          "metadata": {
            "tags": []
          },
          "execution_count": 11
        },
        {
          "output_type": "execute_result",
          "data": {
            "text/plain": [
              "<matplotlib.axes._subplots.AxesSubplot at 0x7fe007fd1fd0>"
            ]
          },
          "metadata": {
            "tags": []
          },
          "execution_count": 11
        },
        {
          "output_type": "execute_result",
          "data": {
            "text/plain": [
              "Text(0.5, 0, 'Credit amount')"
            ]
          },
          "metadata": {
            "tags": []
          },
          "execution_count": 11
        },
        {
          "output_type": "execute_result",
          "data": {
            "text/plain": [
              "<matplotlib.legend.Legend at 0x7fe007f80e48>"
            ]
          },
          "metadata": {
            "tags": []
          },
          "execution_count": 11
        },
        {
          "output_type": "display_data",
          "data": {
            "image/png": "[encoded data removed]",
            "text/plain": [
              "<Figure size 432x288 with 1 Axes>"
            ]
          },
          "metadata": {
            "tags": [],
            "needs_background": "light"
          }
        }
      ]
    },
    {
      "cell_type": "code",
      "metadata": {
        "colab": {
          "base_uri": "https://localhost:8080/",
          "height": 313
        },
        "id": "v1BKuoyxZ8kP",
        "outputId": "dd3daf58-96c0-401b-842b-9945c16181e4"
      },
      "source": [
        "df_train.loc[:, 'Saving accounts'].hist(alpha=0.5, label='Train', density=True)    \r\n",
        "df_test.loc[:, 'Saving accounts'].hist(alpha=0.5, label='Test', density=True)\r\n",
        "plt.xlabel('Saving accounts')\r\n",
        "plt.legend()"
      ],
      "execution_count": 12,
      "outputs": [
        {
          "output_type": "execute_result",
          "data": {
            "text/plain": [
              "<matplotlib.axes._subplots.AxesSubplot at 0x7fe007f45e80>"
            ]
          },
          "metadata": {
            "tags": []
          },
          "execution_count": 12
        },
        {
          "output_type": "execute_result",
          "data": {
            "text/plain": [
              "<matplotlib.axes._subplots.AxesSubplot at 0x7fe007f45e80>"
            ]
          },
          "metadata": {
            "tags": []
          },
          "execution_count": 12
        },
        {
          "output_type": "execute_result",
          "data": {
            "text/plain": [
              "Text(0.5, 0, 'Saving accounts')"
            ]
          },
          "metadata": {
            "tags": []
          },
          "execution_count": 12
        },
        {
          "output_type": "execute_result",
          "data": {
            "text/plain": [
              "<matplotlib.legend.Legend at 0x7fe007ef36d8>"
            ]
          },
          "metadata": {
            "tags": []
          },
          "execution_count": 12
        },
        {
          "output_type": "display_data",
          "data": {
            "image/png": "[encoded data removed]",
            "text/plain": [
              "<Figure size 432x288 with 1 Axes>"
            ]
          },
          "metadata": {
            "tags": [],
            "needs_background": "light"
          }
        }
      ]
    },
    {
      "cell_type": "code",
      "metadata": {
        "colab": {
          "base_uri": "https://localhost:8080/"
        },
        "id": "yRDA_09MaOio",
        "outputId": "c5ac5c38-cbdf-4227-85c6-acb3b65a1bde"
      },
      "source": [
        "from scipy.stats import ks_2samp\r\n",
        "ks_2samp(df_train['Duration'], df_test['Duration'])"
      ],
      "execution_count": 14,
      "outputs": [
        {
          "output_type": "execute_result",
          "data": {
            "text/plain": [
              "Ks_2sampResult(statistic=0.06666666666666667, pvalue=0.7989499641283465)"
            ]
          },
          "metadata": {
            "tags": []
          },
          "execution_count": 14
        }
      ]
    },
    {
      "cell_type": "code",
      "metadata": {
        "colab": {
          "base_uri": "https://localhost:8080/"
        },
        "id": "7Cqwyha0aAds",
        "outputId": "673bf3d8-5369-40ad-cc6d-5ecb7f63d8f9"
      },
      "source": [
        "ks_2samp(df_train['Age'], df_test['Age'])"
      ],
      "execution_count": 15,
      "outputs": [
        {
          "output_type": "execute_result",
          "data": {
            "text/plain": [
              "Ks_2sampResult(statistic=0.10777777777777778, pvalue=0.23308782418433838)"
            ]
          },
          "metadata": {
            "tags": []
          },
          "execution_count": 15
        }
      ]
    },
    {
      "cell_type": "markdown",
      "metadata": {
        "id": "o-bDUZylaVW4"
      },
      "source": [
        "Preliminary data analysis"
      ]
    },
    {
      "cell_type": "code",
      "metadata": {
        "colab": {
          "base_uri": "https://localhost:8080/",
          "height": 204
        },
        "id": "ls6QEaHmaVCT",
        "outputId": "ee3c0da2-ef53-4351-df06-e49d9b2c4210"
      },
      "source": [
        "df_train.head()"
      ],
      "execution_count": 16,
      "outputs": [
        {
          "output_type": "execute_result",
          "data": {
            "text/html": [
              "<div>\n",
              "<style scoped>\n",
              "    .dataframe tbody tr th:only-of-type {\n",
              "        vertical-align: middle;\n",
              "    }\n",
              "\n",
              "    .dataframe tbody tr th {\n",
              "        vertical-align: top;\n",
              "    }\n",
              "\n",
              "    .dataframe thead th {\n",
              "        text-align: right;\n",
              "    }\n",
              "</style>\n",
              "<table border=\"1\" class=\"dataframe\">\n",
              "  <thead>\n",
              "    <tr style=\"text-align: right;\">\n",
              "      <th></th>\n",
              "      <th>Credit History</th>\n",
              "      <th>Age</th>\n",
              "      <th>Gender</th>\n",
              "      <th>Job</th>\n",
              "      <th>Housing</th>\n",
              "      <th>Saving accounts</th>\n",
              "      <th>Credit amount</th>\n",
              "      <th>Duration</th>\n",
              "      <th>Purpose</th>\n",
              "      <th>Risk</th>\n",
              "    </tr>\n",
              "  </thead>\n",
              "  <tbody>\n",
              "    <tr>\n",
              "      <th>900</th>\n",
              "      <td>4</td>\n",
              "      <td>43</td>\n",
              "      <td>male</td>\n",
              "      <td>2</td>\n",
              "      <td>rent</td>\n",
              "      <td>little</td>\n",
              "      <td>2625</td>\n",
              "      <td>16</td>\n",
              "      <td>car</td>\n",
              "      <td>bad</td>\n",
              "    </tr>\n",
              "    <tr>\n",
              "      <th>326</th>\n",
              "      <td>4</td>\n",
              "      <td>49</td>\n",
              "      <td>male</td>\n",
              "      <td>2</td>\n",
              "      <td>rent</td>\n",
              "      <td>NaN</td>\n",
              "      <td>5801</td>\n",
              "      <td>12</td>\n",
              "      <td>furniture/equipment</td>\n",
              "      <td>good</td>\n",
              "    </tr>\n",
              "    <tr>\n",
              "      <th>913</th>\n",
              "      <td>2</td>\n",
              "      <td>28</td>\n",
              "      <td>male</td>\n",
              "      <td>2</td>\n",
              "      <td>own</td>\n",
              "      <td>rich</td>\n",
              "      <td>2142</td>\n",
              "      <td>11</td>\n",
              "      <td>business</td>\n",
              "      <td>good</td>\n",
              "    </tr>\n",
              "    <tr>\n",
              "      <th>868</th>\n",
              "      <td>2</td>\n",
              "      <td>37</td>\n",
              "      <td>male</td>\n",
              "      <td>2</td>\n",
              "      <td>own</td>\n",
              "      <td>NaN</td>\n",
              "      <td>7409</td>\n",
              "      <td>36</td>\n",
              "      <td>business</td>\n",
              "      <td>good</td>\n",
              "    </tr>\n",
              "    <tr>\n",
              "      <th>580</th>\n",
              "      <td>4</td>\n",
              "      <td>30</td>\n",
              "      <td>male</td>\n",
              "      <td>2</td>\n",
              "      <td>own</td>\n",
              "      <td>little</td>\n",
              "      <td>1056</td>\n",
              "      <td>18</td>\n",
              "      <td>car</td>\n",
              "      <td>bad</td>\n",
              "    </tr>\n",
              "  </tbody>\n",
              "</table>\n",
              "</div>"
            ],
            "text/plain": [
              "     Credit History  Age Gender  ...  Duration              Purpose  Risk\n",
              "900               4   43   male  ...        16                  car   bad\n",
              "326               4   49   male  ...        12  furniture/equipment  good\n",
              "913               2   28   male  ...        11             business  good\n",
              "868               2   37   male  ...        36             business  good\n",
              "580               4   30   male  ...        18                  car   bad\n",
              "\n",
              "[5 rows x 10 columns]"
            ]
          },
          "metadata": {
            "tags": []
          },
          "execution_count": 16
        }
      ]
    },
    {
      "cell_type": "code",
      "metadata": {
        "colab": {
          "base_uri": "https://localhost:8080/"
        },
        "id": "Bh9Nw4R5aZoY",
        "outputId": "f8b3707f-adc8-4d3b-bdf6-57e640d86fb1"
      },
      "source": [
        "df_train.nunique()"
      ],
      "execution_count": 17,
      "outputs": [
        {
          "output_type": "execute_result",
          "data": {
            "text/plain": [
              "Credit History       5\n",
              "Age                 53\n",
              "Gender               2\n",
              "Job                  4\n",
              "Housing              3\n",
              "Saving accounts      4\n",
              "Credit amount      837\n",
              "Duration            32\n",
              "Purpose              8\n",
              "Risk                 2\n",
              "dtype: int64"
            ]
          },
          "metadata": {
            "tags": []
          },
          "execution_count": 17
        }
      ]
    },
    {
      "cell_type": "code",
      "metadata": {
        "colab": {
          "base_uri": "https://localhost:8080/"
        },
        "id": "vDkd65Z_a833",
        "outputId": "4e94e526-bdb2-446b-b7d9-f038c35c185e"
      },
      "source": [
        "df_train.Risk.value_counts() ### Good = 1 (credit worthy), Bad = 0 (not worthy)"
      ],
      "execution_count": 18,
      "outputs": [
        {
          "output_type": "execute_result",
          "data": {
            "text/plain": [
              "good    636\n",
              "bad     264\n",
              "Name: Risk, dtype: int64"
            ]
          },
          "metadata": {
            "tags": []
          },
          "execution_count": 18
        }
      ]
    },
    {
      "cell_type": "code",
      "metadata": {
        "colab": {
          "base_uri": "https://localhost:8080/",
          "height": 297
        },
        "id": "W1JiLY8pbDJ4",
        "outputId": "b82dd6ff-b762-4484-f151-7e1558c31f18"
      },
      "source": [
        "df_train_summ = df_train.describe()\r\n",
        "df_train_summ"
      ],
      "execution_count": 19,
      "outputs": [
        {
          "output_type": "execute_result",
          "data": {
            "text/html": [
              "<div>\n",
              "<style scoped>\n",
              "    .dataframe tbody tr th:only-of-type {\n",
              "        vertical-align: middle;\n",
              "    }\n",
              "\n",
              "    .dataframe tbody tr th {\n",
              "        vertical-align: top;\n",
              "    }\n",
              "\n",
              "    .dataframe thead th {\n",
              "        text-align: right;\n",
              "    }\n",
              "</style>\n",
              "<table border=\"1\" class=\"dataframe\">\n",
              "  <thead>\n",
              "    <tr style=\"text-align: right;\">\n",
              "      <th></th>\n",
              "      <th>Credit History</th>\n",
              "      <th>Age</th>\n",
              "      <th>Job</th>\n",
              "      <th>Credit amount</th>\n",
              "      <th>Duration</th>\n",
              "    </tr>\n",
              "  </thead>\n",
              "  <tbody>\n",
              "    <tr>\n",
              "      <th>count</th>\n",
              "      <td>900.000000</td>\n",
              "      <td>900.000000</td>\n",
              "      <td>900.000000</td>\n",
              "      <td>900.000000</td>\n",
              "      <td>900.000000</td>\n",
              "    </tr>\n",
              "    <tr>\n",
              "      <th>mean</th>\n",
              "      <td>2.532222</td>\n",
              "      <td>35.755556</td>\n",
              "      <td>1.910000</td>\n",
              "      <td>3284.276667</td>\n",
              "      <td>20.818889</td>\n",
              "    </tr>\n",
              "    <tr>\n",
              "      <th>std</th>\n",
              "      <td>1.075599</td>\n",
              "      <td>11.460442</td>\n",
              "      <td>0.651609</td>\n",
              "      <td>2872.686362</td>\n",
              "      <td>12.099857</td>\n",
              "    </tr>\n",
              "    <tr>\n",
              "      <th>min</th>\n",
              "      <td>0.000000</td>\n",
              "      <td>19.000000</td>\n",
              "      <td>0.000000</td>\n",
              "      <td>250.000000</td>\n",
              "      <td>4.000000</td>\n",
              "    </tr>\n",
              "    <tr>\n",
              "      <th>25%</th>\n",
              "      <td>2.000000</td>\n",
              "      <td>27.000000</td>\n",
              "      <td>2.000000</td>\n",
              "      <td>1364.000000</td>\n",
              "      <td>12.000000</td>\n",
              "    </tr>\n",
              "    <tr>\n",
              "      <th>50%</th>\n",
              "      <td>2.000000</td>\n",
              "      <td>33.000000</td>\n",
              "      <td>2.000000</td>\n",
              "      <td>2300.000000</td>\n",
              "      <td>18.000000</td>\n",
              "    </tr>\n",
              "    <tr>\n",
              "      <th>75%</th>\n",
              "      <td>4.000000</td>\n",
              "      <td>42.000000</td>\n",
              "      <td>2.000000</td>\n",
              "      <td>3959.000000</td>\n",
              "      <td>24.000000</td>\n",
              "    </tr>\n",
              "    <tr>\n",
              "      <th>max</th>\n",
              "      <td>4.000000</td>\n",
              "      <td>75.000000</td>\n",
              "      <td>3.000000</td>\n",
              "      <td>18424.000000</td>\n",
              "      <td>72.000000</td>\n",
              "    </tr>\n",
              "  </tbody>\n",
              "</table>\n",
              "</div>"
            ],
            "text/plain": [
              "       Credit History         Age         Job  Credit amount    Duration\n",
              "count      900.000000  900.000000  900.000000     900.000000  900.000000\n",
              "mean         2.532222   35.755556    1.910000    3284.276667   20.818889\n",
              "std          1.075599   11.460442    0.651609    2872.686362   12.099857\n",
              "min          0.000000   19.000000    0.000000     250.000000    4.000000\n",
              "25%          2.000000   27.000000    2.000000    1364.000000   12.000000\n",
              "50%          2.000000   33.000000    2.000000    2300.000000   18.000000\n",
              "75%          4.000000   42.000000    2.000000    3959.000000   24.000000\n",
              "max          4.000000   75.000000    3.000000   18424.000000   72.000000"
            ]
          },
          "metadata": {
            "tags": []
          },
          "execution_count": 19
        }
      ]
    },
    {
      "cell_type": "code",
      "metadata": {
        "colab": {
          "base_uri": "https://localhost:8080/",
          "height": 349
        },
        "id": "QZFd7rvAbJOo",
        "outputId": "85658c4e-12f4-49ed-dbf4-df635c0849ff"
      },
      "source": [
        "plt.hist(df_train['Credit amount'])\r\n",
        "plt.title('Credit amount distribution')"
      ],
      "execution_count": 20,
      "outputs": [
        {
          "output_type": "execute_result",
          "data": {
            "text/plain": [
              "(array([405., 263.,  82.,  70.,  36.,  17.,  13.,   8.,   5.,   1.]),\n",
              " array([  250. ,  2067.4,  3884.8,  5702.2,  7519.6,  9337. , 11154.4,\n",
              "        12971.8, 14789.2, 16606.6, 18424. ]),\n",
              " <a list of 10 Patch objects>)"
            ]
          },
          "metadata": {
            "tags": []
          },
          "execution_count": 20
        },
        {
          "output_type": "execute_result",
          "data": {
            "text/plain": [
              "Text(0.5, 1.0, 'Credit amount distribution')"
            ]
          },
          "metadata": {
            "tags": []
          },
          "execution_count": 20
        },
        {
          "output_type": "display_data",
          "data": {
            "image/png": "[encoded data removed]",
            "text/plain": [
              "<Figure size 432x288 with 1 Axes>"
            ]
          },
          "metadata": {
            "tags": [],
            "needs_background": "light"
          }
        }
      ]
    },
    {
      "cell_type": "code",
      "metadata": {
        "colab": {
          "base_uri": "https://localhost:8080/"
        },
        "id": "vVlj0B4sbOxL",
        "outputId": "2f2bc4b4-546d-422a-e333-541fccc5422c"
      },
      "source": [
        "### the credit amount is highly skewed distribution, lets analyse the extreme values beyond 3 sigma\r\n",
        "def extreme_count(sig_factor, feat):\r\n",
        "    sig_cutoff = df_train_summ[feat]['mean'] + sig_factor*df_train_summ[feat]['std'] \r\n",
        "    sig_count = len(df_train[df_train[feat] > sig_cutoff])\r\n",
        "    print(\"instances of {} greater than {} sigma ({} cutoff) are {}\".format(feat, sig_factor, sig_cutoff, sig_count))\r\n",
        "    return\r\n",
        "\r\n",
        "extreme_count(3, feat = 'Credit amount')"
      ],
      "execution_count": 21,
      "outputs": [
        {
          "output_type": "stream",
          "text": [
            "instances of Credit amount greater than 3 sigma (11902.335753866473 cutoff) are 22\n"
          ],
          "name": "stdout"
        }
      ]
    },
    {
      "cell_type": "code",
      "metadata": {
        "colab": {
          "base_uri": "https://localhost:8080/",
          "height": 332
        },
        "id": "L_nN-2bBbj8Y",
        "outputId": "19648669-84d1-4f1e-a23c-174e784c13b0"
      },
      "source": [
        "plt.hist(df_train['Age'])\r\n",
        "plt.title('Age distribution')\r\n",
        "extreme_count(3, feat = 'Age')"
      ],
      "execution_count": 22,
      "outputs": [
        {
          "output_type": "execute_result",
          "data": {
            "text/plain": [
              "(array([131., 230., 161., 142.,  81.,  65.,  38.,  26.,  20.,   6.]),\n",
              " array([19. , 24.6, 30.2, 35.8, 41.4, 47. , 52.6, 58.2, 63.8, 69.4, 75. ]),\n",
              " <a list of 10 Patch objects>)"
            ]
          },
          "metadata": {
            "tags": []
          },
          "execution_count": 22
        },
        {
          "output_type": "execute_result",
          "data": {
            "text/plain": [
              "Text(0.5, 1.0, 'Age distribution')"
            ]
          },
          "metadata": {
            "tags": []
          },
          "execution_count": 22
        },
        {
          "output_type": "stream",
          "text": [
            "instances of Age greater than 3 sigma (70.13688245838982 cutoff) are 5\n"
          ],
          "name": "stdout"
        },
        {
          "output_type": "display_data",
          "data": {
            "image/png": "[encoded data removed]",
            "text/plain": [
              "<Figure size 432x288 with 1 Axes>"
            ]
          },
          "metadata": {
            "tags": [],
            "needs_background": "light"
          }
        }
      ]
    },
    {
      "cell_type": "code",
      "metadata": {
        "colab": {
          "base_uri": "https://localhost:8080/",
          "height": 332
        },
        "id": "q9nTK6Xjcudt",
        "outputId": "0ff4ef9d-31df-4e6c-e6d3-e75831a54987"
      },
      "source": [
        "plt.hist(df_train['Duration'])\r\n",
        "plt.title('Duration distribution')\r\n",
        "extreme_count(3, feat = 'Duration')"
      ],
      "execution_count": 23,
      "outputs": [
        {
          "output_type": "execute_result",
          "data": {
            "text/plain": [
              "(array([159., 235., 298.,  53.,  77.,  16.,  47.,   2.,  12.,   1.]),\n",
              " array([ 4. , 10.8, 17.6, 24.4, 31.2, 38. , 44.8, 51.6, 58.4, 65.2, 72. ]),\n",
              " <a list of 10 Patch objects>)"
            ]
          },
          "metadata": {
            "tags": []
          },
          "execution_count": 23
        },
        {
          "output_type": "execute_result",
          "data": {
            "text/plain": [
              "Text(0.5, 1.0, 'Duration distribution')"
            ]
          },
          "metadata": {
            "tags": []
          },
          "execution_count": 23
        },
        {
          "output_type": "stream",
          "text": [
            "instances of Duration greater than 3 sigma (57.11845988198104 cutoff) are 13\n"
          ],
          "name": "stdout"
        },
        {
          "output_type": "display_data",
          "data": {
            "image/png": "[encoded data removed]",
            "text/plain": [
              "<Figure size 432x288 with 1 Axes>"
            ]
          },
          "metadata": {
            "tags": [],
            "needs_background": "light"
          }
        }
      ]
    },
    {
      "cell_type": "code",
      "metadata": {
        "colab": {
          "base_uri": "https://localhost:8080/",
          "height": 52
        },
        "id": "D8QWOBYCc0xc",
        "outputId": "3bc6a43b-b3e1-4416-a5c6-8144860f9429"
      },
      "source": [
        "''' Even if there are certain instances where the above features are beyond 3sigma of their mean value, they dont appear to be \r\n",
        "outliers, as its legible to have certain certain loans with high credit value, or loan duration is longer, or older population \r\n",
        "is seeking loan. Hence, I am not eliminating these rows'''"
      ],
      "execution_count": 24,
      "outputs": [
        {
          "output_type": "execute_result",
          "data": {
            "application/vnd.google.colaboratory.intrinsic+json": {
              "type": "string"
            },
            "text/plain": [
              "' Even if there are certain instances where the above features are beyond 3sigma of their mean value, they dont appear to be \\noutliers, as its legible to have certain certain loans with high credit value, or loan duration is longer, or older population \\nis seeking loan. Hence, I am not eliminating these rows'"
            ]
          },
          "metadata": {
            "tags": []
          },
          "execution_count": 24
        }
      ]
    },
    {
      "cell_type": "markdown",
      "metadata": {
        "id": "LSmqG-qQc9J_"
      },
      "source": [
        "Finding Missing values, checking if they are legitimate and applying apt transformation"
      ]
    },
    {
      "cell_type": "code",
      "metadata": {
        "colab": {
          "base_uri": "https://localhost:8080/"
        },
        "id": "1pQY3ocZc5k5",
        "outputId": "172c1204-be6e-4b42-9def-906545b90813"
      },
      "source": [
        "df_train.isnull().sum()"
      ],
      "execution_count": 25,
      "outputs": [
        {
          "output_type": "execute_result",
          "data": {
            "text/plain": [
              "Credit History       0\n",
              "Age                  0\n",
              "Gender               0\n",
              "Job                  0\n",
              "Housing              0\n",
              "Saving accounts    170\n",
              "Credit amount        0\n",
              "Duration             0\n",
              "Purpose              0\n",
              "Risk                 0\n",
              "dtype: int64"
            ]
          },
          "metadata": {
            "tags": []
          },
          "execution_count": 25
        }
      ]
    },
    {
      "cell_type": "code",
      "metadata": {
        "colab": {
          "base_uri": "https://localhost:8080/"
        },
        "id": "j8_cW_-vdBcW",
        "outputId": "bbab97a1-bc24-40ad-b0a0-9e823fab64d3"
      },
      "source": [
        "### NaN is a valid field here implying no saving account\r\n",
        "\r\n",
        "df_train['Saving accounts'].value_counts()\r\n",
        "df_train['Saving accounts'].unique()\r\n",
        "\r\n",
        "### So, replacing NaN with 'no account'\r\n",
        "df_train.loc[df_train['Saving accounts'].isnull(), 'Saving accounts'] = 'no account'\r\n",
        "\r\n",
        "### Replaced in df\r\n",
        "df_train['Saving accounts'].value_counts()\r\n",
        "df_train['Saving accounts'].unique()\r\n",
        "\r\n",
        "### No NaNs anymore\r\n",
        "df_train.isnull().sum()"
      ],
      "execution_count": 26,
      "outputs": [
        {
          "output_type": "execute_result",
          "data": {
            "text/plain": [
              "little        533\n",
              "moderate       95\n",
              "quite rich     57\n",
              "rich           45\n",
              "Name: Saving accounts, dtype: int64"
            ]
          },
          "metadata": {
            "tags": []
          },
          "execution_count": 26
        },
        {
          "output_type": "execute_result",
          "data": {
            "text/plain": [
              "array(['little', nan, 'rich', 'moderate', 'quite rich'], dtype=object)"
            ]
          },
          "metadata": {
            "tags": []
          },
          "execution_count": 26
        },
        {
          "output_type": "execute_result",
          "data": {
            "text/plain": [
              "little        533\n",
              "no account    170\n",
              "moderate       95\n",
              "quite rich     57\n",
              "rich           45\n",
              "Name: Saving accounts, dtype: int64"
            ]
          },
          "metadata": {
            "tags": []
          },
          "execution_count": 26
        },
        {
          "output_type": "execute_result",
          "data": {
            "text/plain": [
              "array(['little', 'no account', 'rich', 'moderate', 'quite rich'],\n",
              "      dtype=object)"
            ]
          },
          "metadata": {
            "tags": []
          },
          "execution_count": 26
        },
        {
          "output_type": "execute_result",
          "data": {
            "text/plain": [
              "Credit History     0\n",
              "Age                0\n",
              "Gender             0\n",
              "Job                0\n",
              "Housing            0\n",
              "Saving accounts    0\n",
              "Credit amount      0\n",
              "Duration           0\n",
              "Purpose            0\n",
              "Risk               0\n",
              "dtype: int64"
            ]
          },
          "metadata": {
            "tags": []
          },
          "execution_count": 26
        }
      ]
    },
    {
      "cell_type": "markdown",
      "metadata": {
        "id": "FaYaLPh1dL9j"
      },
      "source": [
        "Checking data types and categorical states of features for encoding"
      ]
    },
    {
      "cell_type": "code",
      "metadata": {
        "colab": {
          "base_uri": "https://localhost:8080/"
        },
        "id": "rzUinvi_dH8B",
        "outputId": "3e6dca25-b8c6-4d2d-bb90-285a4bab7416"
      },
      "source": [
        "df_train.dtypes"
      ],
      "execution_count": 27,
      "outputs": [
        {
          "output_type": "execute_result",
          "data": {
            "text/plain": [
              "Credit History      int64\n",
              "Age                 int64\n",
              "Gender             object\n",
              "Job                 int64\n",
              "Housing            object\n",
              "Saving accounts    object\n",
              "Credit amount       int64\n",
              "Duration            int64\n",
              "Purpose            object\n",
              "Risk               object\n",
              "dtype: object"
            ]
          },
          "metadata": {
            "tags": []
          },
          "execution_count": 27
        }
      ]
    },
    {
      "cell_type": "code",
      "metadata": {
        "colab": {
          "base_uri": "https://localhost:8080/"
        },
        "id": "iZRPuWmQdQhi",
        "outputId": "f9c4a320-b3cd-417c-c1b6-324c05b608c0"
      },
      "source": [
        "df_train.nunique()"
      ],
      "execution_count": 28,
      "outputs": [
        {
          "output_type": "execute_result",
          "data": {
            "text/plain": [
              "Credit History       5\n",
              "Age                 53\n",
              "Gender               2\n",
              "Job                  4\n",
              "Housing              3\n",
              "Saving accounts      5\n",
              "Credit amount      837\n",
              "Duration            32\n",
              "Purpose              8\n",
              "Risk                 2\n",
              "dtype: int64"
            ]
          },
          "metadata": {
            "tags": []
          },
          "execution_count": 28
        }
      ]
    },
    {
      "cell_type": "markdown",
      "metadata": {
        "id": "PBp0jvVmdZEv"
      },
      "source": [
        "Feature Selection for label and one hot encoding"
      ]
    },
    {
      "cell_type": "code",
      "metadata": {
        "colab": {
          "base_uri": "https://localhost:8080/"
        },
        "id": "tE56p-CsdVTf",
        "outputId": "11e4a5fc-8fd7-4549-fd67-b75074ac1e7b"
      },
      "source": [
        "#df_count = (pd.DataFrame(df_train.nunique(), columns=['count'])).reset_index()\r\n",
        "#le_list = df_count[df_count['count'] == 2]['index'].values.tolist()\r\n",
        "df_dtypes = pd.DataFrame((df_credit.dtypes == 'object'), columns = ['obj_type'])\r\n",
        "obj_list = df_dtypes[(df_dtypes.obj_type == True)].index\r\n",
        "#print(obj_list)\r\n",
        "#ohe_list = list(obj_list.difference(le_list))\r\n",
        "print(\"Features for label encoding:\", obj_list)\r\n",
        "#print(\"Features for OHE:\", ohe_list)"
      ],
      "execution_count": 29,
      "outputs": [
        {
          "output_type": "stream",
          "text": [
            "Features for label encoding: Index(['Gender', 'Housing', 'Saving accounts', 'Purpose', 'Risk'], dtype='object')\n"
          ],
          "name": "stdout"
        }
      ]
    },
    {
      "cell_type": "markdown",
      "metadata": {
        "id": "3spHqCk2dmtg"
      },
      "source": [
        "Label Encoding"
      ]
    },
    {
      "cell_type": "code",
      "metadata": {
        "id": "nasweN7Sdd9O"
      },
      "source": [
        "le_obj = LabelEncoder()\r\n",
        "for feat in obj_list:\r\n",
        "    df_train[feat] = le_obj.fit_transform(df_train[feat])"
      ],
      "execution_count": 30,
      "outputs": []
    },
    {
      "cell_type": "code",
      "metadata": {
        "colab": {
          "base_uri": "https://localhost:8080/",
          "height": 419
        },
        "id": "jVuWTT87dr_t",
        "outputId": "dceeb128-95ee-4355-aaa3-e556937bcb54"
      },
      "source": [
        "df_train"
      ],
      "execution_count": 32,
      "outputs": [
        {
          "output_type": "execute_result",
          "data": {
            "text/html": [
              "<div>\n",
              "<style scoped>\n",
              "    .dataframe tbody tr th:only-of-type {\n",
              "        vertical-align: middle;\n",
              "    }\n",
              "\n",
              "    .dataframe tbody tr th {\n",
              "        vertical-align: top;\n",
              "    }\n",
              "\n",
              "    .dataframe thead th {\n",
              "        text-align: right;\n",
              "    }\n",
              "</style>\n",
              "<table border=\"1\" class=\"dataframe\">\n",
              "  <thead>\n",
              "    <tr style=\"text-align: right;\">\n",
              "      <th></th>\n",
              "      <th>Credit History</th>\n",
              "      <th>Age</th>\n",
              "      <th>Gender</th>\n",
              "      <th>Job</th>\n",
              "      <th>Housing</th>\n",
              "      <th>Saving accounts</th>\n",
              "      <th>Credit amount</th>\n",
              "      <th>Duration</th>\n",
              "      <th>Purpose</th>\n",
              "      <th>Risk</th>\n",
              "    </tr>\n",
              "  </thead>\n",
              "  <tbody>\n",
              "    <tr>\n",
              "      <th>900</th>\n",
              "      <td>4</td>\n",
              "      <td>43</td>\n",
              "      <td>1</td>\n",
              "      <td>2</td>\n",
              "      <td>2</td>\n",
              "      <td>0</td>\n",
              "      <td>2625</td>\n",
              "      <td>16</td>\n",
              "      <td>1</td>\n",
              "      <td>0</td>\n",
              "    </tr>\n",
              "    <tr>\n",
              "      <th>326</th>\n",
              "      <td>4</td>\n",
              "      <td>49</td>\n",
              "      <td>1</td>\n",
              "      <td>2</td>\n",
              "      <td>2</td>\n",
              "      <td>2</td>\n",
              "      <td>5801</td>\n",
              "      <td>12</td>\n",
              "      <td>4</td>\n",
              "      <td>1</td>\n",
              "    </tr>\n",
              "    <tr>\n",
              "      <th>913</th>\n",
              "      <td>2</td>\n",
              "      <td>28</td>\n",
              "      <td>1</td>\n",
              "      <td>2</td>\n",
              "      <td>1</td>\n",
              "      <td>4</td>\n",
              "      <td>2142</td>\n",
              "      <td>11</td>\n",
              "      <td>0</td>\n",
              "      <td>1</td>\n",
              "    </tr>\n",
              "    <tr>\n",
              "      <th>868</th>\n",
              "      <td>2</td>\n",
              "      <td>37</td>\n",
              "      <td>1</td>\n",
              "      <td>2</td>\n",
              "      <td>1</td>\n",
              "      <td>2</td>\n",
              "      <td>7409</td>\n",
              "      <td>36</td>\n",
              "      <td>0</td>\n",
              "      <td>1</td>\n",
              "    </tr>\n",
              "    <tr>\n",
              "      <th>580</th>\n",
              "      <td>4</td>\n",
              "      <td>30</td>\n",
              "      <td>1</td>\n",
              "      <td>2</td>\n",
              "      <td>1</td>\n",
              "      <td>0</td>\n",
              "      <td>1056</td>\n",
              "      <td>18</td>\n",
              "      <td>1</td>\n",
              "      <td>0</td>\n",
              "    </tr>\n",
              "    <tr>\n",
              "      <th>...</th>\n",
              "      <td>...</td>\n",
              "      <td>...</td>\n",
              "      <td>...</td>\n",
              "      <td>...</td>\n",
              "      <td>...</td>\n",
              "      <td>...</td>\n",
              "      <td>...</td>\n",
              "      <td>...</td>\n",
              "      <td>...</td>\n",
              "      <td>...</td>\n",
              "    </tr>\n",
              "    <tr>\n",
              "      <th>718</th>\n",
              "      <td>4</td>\n",
              "      <td>31</td>\n",
              "      <td>1</td>\n",
              "      <td>2</td>\n",
              "      <td>1</td>\n",
              "      <td>2</td>\n",
              "      <td>3148</td>\n",
              "      <td>24</td>\n",
              "      <td>5</td>\n",
              "      <td>1</td>\n",
              "    </tr>\n",
              "    <tr>\n",
              "      <th>727</th>\n",
              "      <td>2</td>\n",
              "      <td>25</td>\n",
              "      <td>0</td>\n",
              "      <td>2</td>\n",
              "      <td>2</td>\n",
              "      <td>0</td>\n",
              "      <td>1882</td>\n",
              "      <td>18</td>\n",
              "      <td>5</td>\n",
              "      <td>0</td>\n",
              "    </tr>\n",
              "    <tr>\n",
              "      <th>183</th>\n",
              "      <td>4</td>\n",
              "      <td>50</td>\n",
              "      <td>1</td>\n",
              "      <td>2</td>\n",
              "      <td>1</td>\n",
              "      <td>4</td>\n",
              "      <td>3777</td>\n",
              "      <td>24</td>\n",
              "      <td>4</td>\n",
              "      <td>1</td>\n",
              "    </tr>\n",
              "    <tr>\n",
              "      <th>906</th>\n",
              "      <td>2</td>\n",
              "      <td>24</td>\n",
              "      <td>1</td>\n",
              "      <td>1</td>\n",
              "      <td>1</td>\n",
              "      <td>2</td>\n",
              "      <td>3763</td>\n",
              "      <td>21</td>\n",
              "      <td>1</td>\n",
              "      <td>1</td>\n",
              "    </tr>\n",
              "    <tr>\n",
              "      <th>694</th>\n",
              "      <td>2</td>\n",
              "      <td>28</td>\n",
              "      <td>1</td>\n",
              "      <td>2</td>\n",
              "      <td>1</td>\n",
              "      <td>0</td>\n",
              "      <td>2284</td>\n",
              "      <td>24</td>\n",
              "      <td>5</td>\n",
              "      <td>1</td>\n",
              "    </tr>\n",
              "  </tbody>\n",
              "</table>\n",
              "<p>900 rows × 10 columns</p>\n",
              "</div>"
            ],
            "text/plain": [
              "     Credit History  Age  Gender  Job  ...  Credit amount  Duration  Purpose  Risk\n",
              "900               4   43       1    2  ...           2625        16        1     0\n",
              "326               4   49       1    2  ...           5801        12        4     1\n",
              "913               2   28       1    2  ...           2142        11        0     1\n",
              "868               2   37       1    2  ...           7409        36        0     1\n",
              "580               4   30       1    2  ...           1056        18        1     0\n",
              "..              ...  ...     ...  ...  ...            ...       ...      ...   ...\n",
              "718               4   31       1    2  ...           3148        24        5     1\n",
              "727               2   25       0    2  ...           1882        18        5     0\n",
              "183               4   50       1    2  ...           3777        24        4     1\n",
              "906               2   24       1    1  ...           3763        21        1     1\n",
              "694               2   28       1    2  ...           2284        24        5     1\n",
              "\n",
              "[900 rows x 10 columns]"
            ]
          },
          "metadata": {
            "tags": []
          },
          "execution_count": 32
        }
      ]
    },
    {
      "cell_type": "code",
      "metadata": {
        "colab": {
          "base_uri": "https://localhost:8080/"
        },
        "id": "YZwVzRx4fO-3",
        "outputId": "acad8ab8-02cf-48fc-f19c-5392b4da74c4"
      },
      "source": [
        "df_train.Risk.value_counts()"
      ],
      "execution_count": 33,
      "outputs": [
        {
          "output_type": "execute_result",
          "data": {
            "text/plain": [
              "1    636\n",
              "0    264\n",
              "Name: Risk, dtype: int64"
            ]
          },
          "metadata": {
            "tags": []
          },
          "execution_count": 33
        }
      ]
    },
    {
      "cell_type": "code",
      "metadata": {
        "colab": {
          "base_uri": "https://localhost:8080/"
        },
        "id": "0Gum5Rh4fQYY",
        "outputId": "6f8b8b2a-01df-4be9-96a2-7a795cb141d0"
      },
      "source": [
        "279/621"
      ],
      "execution_count": 34,
      "outputs": [
        {
          "output_type": "execute_result",
          "data": {
            "text/plain": [
              "0.4492753623188406"
            ]
          },
          "metadata": {
            "tags": []
          },
          "execution_count": 34
        }
      ]
    },
    {
      "cell_type": "code",
      "metadata": {
        "colab": {
          "base_uri": "https://localhost:8080/",
          "height": 359
        },
        "id": "g76v-PwkfTRk",
        "outputId": "2bb326e3-7b87-4b24-d35d-543c98c981c5"
      },
      "source": [
        "df_train.corr()\r\n",
        "### Credit amount and Duration have high correlation relatively and can be considered in feature selection step to drop 'Duration'"
      ],
      "execution_count": 35,
      "outputs": [
        {
          "output_type": "execute_result",
          "data": {
            "text/html": [
              "<div>\n",
              "<style scoped>\n",
              "    .dataframe tbody tr th:only-of-type {\n",
              "        vertical-align: middle;\n",
              "    }\n",
              "\n",
              "    .dataframe tbody tr th {\n",
              "        vertical-align: top;\n",
              "    }\n",
              "\n",
              "    .dataframe thead th {\n",
              "        text-align: right;\n",
              "    }\n",
              "</style>\n",
              "<table border=\"1\" class=\"dataframe\">\n",
              "  <thead>\n",
              "    <tr style=\"text-align: right;\">\n",
              "      <th></th>\n",
              "      <th>Credit History</th>\n",
              "      <th>Age</th>\n",
              "      <th>Gender</th>\n",
              "      <th>Job</th>\n",
              "      <th>Housing</th>\n",
              "      <th>Saving accounts</th>\n",
              "      <th>Credit amount</th>\n",
              "      <th>Duration</th>\n",
              "      <th>Purpose</th>\n",
              "      <th>Risk</th>\n",
              "    </tr>\n",
              "  </thead>\n",
              "  <tbody>\n",
              "    <tr>\n",
              "      <th>Credit History</th>\n",
              "      <td>1.000000</td>\n",
              "      <td>0.136538</td>\n",
              "      <td>0.080412</td>\n",
              "      <td>0.022394</td>\n",
              "      <td>-0.062165</td>\n",
              "      <td>0.054310</td>\n",
              "      <td>-0.056475</td>\n",
              "      <td>-0.071302</td>\n",
              "      <td>0.039189</td>\n",
              "      <td>0.230438</td>\n",
              "    </tr>\n",
              "    <tr>\n",
              "      <th>Age</th>\n",
              "      <td>0.136538</td>\n",
              "      <td>1.000000</td>\n",
              "      <td>0.167529</td>\n",
              "      <td>0.028927</td>\n",
              "      <td>-0.307736</td>\n",
              "      <td>0.075580</td>\n",
              "      <td>0.029644</td>\n",
              "      <td>-0.046452</td>\n",
              "      <td>-0.050766</td>\n",
              "      <td>0.104501</td>\n",
              "    </tr>\n",
              "    <tr>\n",
              "      <th>Gender</th>\n",
              "      <td>0.080412</td>\n",
              "      <td>0.167529</td>\n",
              "      <td>1.000000</td>\n",
              "      <td>0.064810</td>\n",
              "      <td>-0.216433</td>\n",
              "      <td>0.004507</td>\n",
              "      <td>0.097625</td>\n",
              "      <td>0.069116</td>\n",
              "      <td>-0.039540</td>\n",
              "      <td>0.101438</td>\n",
              "    </tr>\n",
              "    <tr>\n",
              "      <th>Job</th>\n",
              "      <td>0.022394</td>\n",
              "      <td>0.028927</td>\n",
              "      <td>0.064810</td>\n",
              "      <td>1.000000</td>\n",
              "      <td>-0.124638</td>\n",
              "      <td>-0.024301</td>\n",
              "      <td>0.286562</td>\n",
              "      <td>0.208566</td>\n",
              "      <td>-0.033296</td>\n",
              "      <td>-0.025332</td>\n",
              "    </tr>\n",
              "    <tr>\n",
              "      <th>Housing</th>\n",
              "      <td>-0.062165</td>\n",
              "      <td>-0.307736</td>\n",
              "      <td>-0.216433</td>\n",
              "      <td>-0.124638</td>\n",
              "      <td>1.000000</td>\n",
              "      <td>0.019072</td>\n",
              "      <td>-0.145950</td>\n",
              "      <td>-0.149182</td>\n",
              "      <td>0.022534</td>\n",
              "      <td>-0.037741</td>\n",
              "    </tr>\n",
              "    <tr>\n",
              "      <th>Saving accounts</th>\n",
              "      <td>0.054310</td>\n",
              "      <td>0.075580</td>\n",
              "      <td>0.004507</td>\n",
              "      <td>-0.024301</td>\n",
              "      <td>0.019072</td>\n",
              "      <td>1.000000</td>\n",
              "      <td>-0.027649</td>\n",
              "      <td>-0.012181</td>\n",
              "      <td>-0.041830</td>\n",
              "      <td>0.196480</td>\n",
              "    </tr>\n",
              "    <tr>\n",
              "      <th>Credit amount</th>\n",
              "      <td>-0.056475</td>\n",
              "      <td>0.029644</td>\n",
              "      <td>0.097625</td>\n",
              "      <td>0.286562</td>\n",
              "      <td>-0.145950</td>\n",
              "      <td>-0.027649</td>\n",
              "      <td>1.000000</td>\n",
              "      <td>0.628590</td>\n",
              "      <td>-0.157396</td>\n",
              "      <td>-0.154026</td>\n",
              "    </tr>\n",
              "    <tr>\n",
              "      <th>Duration</th>\n",
              "      <td>-0.071302</td>\n",
              "      <td>-0.046452</td>\n",
              "      <td>0.069116</td>\n",
              "      <td>0.208566</td>\n",
              "      <td>-0.149182</td>\n",
              "      <td>-0.012181</td>\n",
              "      <td>0.628590</td>\n",
              "      <td>1.000000</td>\n",
              "      <td>-0.093293</td>\n",
              "      <td>-0.219929</td>\n",
              "    </tr>\n",
              "    <tr>\n",
              "      <th>Purpose</th>\n",
              "      <td>0.039189</td>\n",
              "      <td>-0.050766</td>\n",
              "      <td>-0.039540</td>\n",
              "      <td>-0.033296</td>\n",
              "      <td>0.022534</td>\n",
              "      <td>-0.041830</td>\n",
              "      <td>-0.157396</td>\n",
              "      <td>-0.093293</td>\n",
              "      <td>1.000000</td>\n",
              "      <td>0.062599</td>\n",
              "    </tr>\n",
              "    <tr>\n",
              "      <th>Risk</th>\n",
              "      <td>0.230438</td>\n",
              "      <td>0.104501</td>\n",
              "      <td>0.101438</td>\n",
              "      <td>-0.025332</td>\n",
              "      <td>-0.037741</td>\n",
              "      <td>0.196480</td>\n",
              "      <td>-0.154026</td>\n",
              "      <td>-0.219929</td>\n",
              "      <td>0.062599</td>\n",
              "      <td>1.000000</td>\n",
              "    </tr>\n",
              "  </tbody>\n",
              "</table>\n",
              "</div>"
            ],
            "text/plain": [
              "                 Credit History       Age  ...   Purpose      Risk\n",
              "Credit History         1.000000  0.136538  ...  0.039189  0.230438\n",
              "Age                    0.136538  1.000000  ... -0.050766  0.104501\n",
              "Gender                 0.080412  0.167529  ... -0.039540  0.101438\n",
              "Job                    0.022394  0.028927  ... -0.033296 -0.025332\n",
              "Housing               -0.062165 -0.307736  ...  0.022534 -0.037741\n",
              "Saving accounts        0.054310  0.075580  ... -0.041830  0.196480\n",
              "Credit amount         -0.056475  0.029644  ... -0.157396 -0.154026\n",
              "Duration              -0.071302 -0.046452  ... -0.093293 -0.219929\n",
              "Purpose                0.039189 -0.050766  ...  1.000000  0.062599\n",
              "Risk                   0.230438  0.104501  ...  0.062599  1.000000\n",
              "\n",
              "[10 rows x 10 columns]"
            ]
          },
          "metadata": {
            "tags": []
          },
          "execution_count": 35
        }
      ]
    },
    {
      "cell_type": "markdown",
      "metadata": {
        "id": "fuybD-5Qfde3"
      },
      "source": [
        "Ques1 : More credit history is equivalent to credit worthiness"
      ]
    },
    {
      "cell_type": "code",
      "metadata": {
        "colab": {
          "base_uri": "https://localhost:8080/",
          "height": 333
        },
        "id": "IggAZ6dHfYgk",
        "outputId": "45e4297c-f63b-4479-ac7d-fee51c860af8"
      },
      "source": [
        "plt.hist([df_train.loc[df_train['Risk'] == 0, 'Credit History'].values, df_train.loc[df_train['Risk'] == 1, 'Credit History'].values], alpha=0.5, label=['Bad Risk', 'Good Risk'])\r\n",
        "plt.legend(loc='upper right')"
      ],
      "execution_count": 36,
      "outputs": [
        {
          "output_type": "execute_result",
          "data": {
            "text/plain": [
              "(array([[ 21.,   0.,  25.,   0.,   0., 153.,   0.,  24.,   0.,  41.],\n",
              "        [ 14.,   0.,  20.,   0.,   0., 331.,   0.,  54.,   0., 217.]]),\n",
              " array([0. , 0.4, 0.8, 1.2, 1.6, 2. , 2.4, 2.8, 3.2, 3.6, 4. ]),\n",
              " <a list of 2 Lists of Patches objects>)"
            ]
          },
          "metadata": {
            "tags": []
          },
          "execution_count": 36
        },
        {
          "output_type": "execute_result",
          "data": {
            "text/plain": [
              "<matplotlib.legend.Legend at 0x7fe00723bb38>"
            ]
          },
          "metadata": {
            "tags": []
          },
          "execution_count": 36
        },
        {
          "output_type": "display_data",
          "data": {
            "image/png": "[encoded data removed]",
            "text/plain": [
              "<Figure size 432x288 with 1 Axes>"
            ]
          },
          "metadata": {
            "tags": [],
            "needs_background": "light"
          }
        }
      ]
    },
    {
      "cell_type": "code",
      "metadata": {
        "colab": {
          "base_uri": "https://localhost:8080/"
        },
        "id": "tvIqfon8gM-o",
        "outputId": "14a466d8-32fe-4df0-bb4a-49d609a1376b"
      },
      "source": [
        "df_train[df_train['Risk'] == 0]['Credit History'].value_counts()"
      ],
      "execution_count": 37,
      "outputs": [
        {
          "output_type": "execute_result",
          "data": {
            "text/plain": [
              "2    153\n",
              "4     41\n",
              "1     25\n",
              "3     24\n",
              "0     21\n",
              "Name: Credit History, dtype: int64"
            ]
          },
          "metadata": {
            "tags": []
          },
          "execution_count": 37
        }
      ]
    },
    {
      "cell_type": "code",
      "metadata": {
        "colab": {
          "base_uri": "https://localhost:8080/"
        },
        "id": "jks-kU5HgQvI",
        "outputId": "17b88880-8ba0-4411-a08d-6c10d27843bc"
      },
      "source": [
        "df_train[df_train['Risk'] == 1]['Credit History'].value_counts()"
      ],
      "execution_count": 38,
      "outputs": [
        {
          "output_type": "execute_result",
          "data": {
            "text/plain": [
              "2    331\n",
              "4    217\n",
              "3     54\n",
              "1     20\n",
              "0     14\n",
              "Name: Credit History, dtype: int64"
            ]
          },
          "metadata": {
            "tags": []
          },
          "execution_count": 38
        }
      ]
    },
    {
      "cell_type": "markdown",
      "metadata": {
        "id": "WweTtH6PgaJ7"
      },
      "source": [
        "Conclusion: As the credit history increases, the good risk increases proportionately i..e credit worthiness improves sharply\r\n",
        "\r\n",
        "Ques2 : Are young people more credit worthy? Yes\r\n",
        "\r\n"
      ]
    },
    {
      "cell_type": "code",
      "metadata": {
        "colab": {
          "base_uri": "https://localhost:8080/",
          "height": 336
        },
        "id": "cPQhfvE8gVRM",
        "outputId": "d1632351-a2ad-4189-bcea-0e61e380e133"
      },
      "source": [
        "plt.hist([df_train.loc[df_train['Risk'] == 0, 'Age'].values, df_train.loc[df_train['Risk'] == 1, 'Age'].values], alpha=0.5, label=['Bad Risk', 'Good Risk'])\r\n",
        "plt.legend(loc='upper right')"
      ],
      "execution_count": 39,
      "outputs": [
        {
          "output_type": "execute_result",
          "data": {
            "text/plain": [
              "(array([[ 55.,  77.,  43.,  31.,  21.,  11.,  12.,   8.,   5.,   1.],\n",
              "        [ 76., 153., 118., 111.,  60.,  54.,  26.,  18.,  15.,   5.]]),\n",
              " array([19. , 24.6, 30.2, 35.8, 41.4, 47. , 52.6, 58.2, 63.8, 69.4, 75. ]),\n",
              " <a list of 2 Lists of Patches objects>)"
            ]
          },
          "metadata": {
            "tags": []
          },
          "execution_count": 39
        },
        {
          "output_type": "execute_result",
          "data": {
            "text/plain": [
              "<matplotlib.legend.Legend at 0x7fe00723b7b8>"
            ]
          },
          "metadata": {
            "tags": []
          },
          "execution_count": 39
        },
        {
          "output_type": "display_data",
          "data": {
            "image/png": "[encoded data removed]",
            "text/plain": [
              "<Figure size 432x288 with 1 Axes>"
            ]
          },
          "metadata": {
            "tags": [],
            "needs_background": "light"
          }
        }
      ]
    },
    {
      "cell_type": "code",
      "metadata": {
        "id": "lle-8Wzbgidi"
      },
      "source": [
        "df_train.Age[df_train.Age <= 30] = 0\r\n",
        "df_train.Age[(df_train.Age > 30) & (df_train.Age < 45)] = 1\r\n",
        "df_train.Age[(df_train.Age >= 45)] = 2"
      ],
      "execution_count": 40,
      "outputs": []
    },
    {
      "cell_type": "code",
      "metadata": {
        "colab": {
          "base_uri": "https://localhost:8080/"
        },
        "id": "HCnfdp50gnBH",
        "outputId": "2c6adde4-ad38-4060-d068-13630c97e049"
      },
      "source": [
        "df_train[df_train['Risk'] == 0]['Age'].value_counts()\r\n",
        "df_train[df_train['Risk'] == 1]['Age'].value_counts()"
      ],
      "execution_count": 41,
      "outputs": [
        {
          "output_type": "execute_result",
          "data": {
            "text/plain": [
              "0    132\n",
              "1     89\n",
              "2     43\n",
              "Name: Age, dtype: int64"
            ]
          },
          "metadata": {
            "tags": []
          },
          "execution_count": 41
        },
        {
          "output_type": "execute_result",
          "data": {
            "text/plain": [
              "1    264\n",
              "0    229\n",
              "2    143\n",
              "Name: Age, dtype: int64"
            ]
          },
          "metadata": {
            "tags": []
          },
          "execution_count": 41
        }
      ]
    },
    {
      "cell_type": "markdown",
      "metadata": {
        "id": "hZdqGjP7gyj9"
      },
      "source": [
        "More credit accounts equivalent to more credit worthy? Inconclusive\r\n",
        "\r\n"
      ]
    },
    {
      "cell_type": "code",
      "metadata": {
        "colab": {
          "base_uri": "https://localhost:8080/",
          "height": 333
        },
        "id": "LHXAfB9cgrAK",
        "outputId": "f1e0511f-e50b-43f5-fd24-ae12c5bb80c9"
      },
      "source": [
        "plt.hist([df_train.loc[df_train['Risk'] == 0, 'Saving accounts'].values, df_train.loc[df_train['Risk'] == 1, 'Saving accounts'].values], alpha=0.5, label=['Bad Risk', 'Good Risk'])\r\n",
        "plt.legend(loc='upper right')"
      ],
      "execution_count": 42,
      "outputs": [
        {
          "output_type": "execute_result",
          "data": {
            "text/plain": [
              "(array([[191.,   0.,  31.,   0.,   0.,  28.,   0.,  10.,   0.,   4.],\n",
              "        [342.,   0.,  64.,   0.,   0., 142.,   0.,  47.,   0.,  41.]]),\n",
              " array([0. , 0.4, 0.8, 1.2, 1.6, 2. , 2.4, 2.8, 3.2, 3.6, 4. ]),\n",
              " <a list of 2 Lists of Patches objects>)"
            ]
          },
          "metadata": {
            "tags": []
          },
          "execution_count": 42
        },
        {
          "output_type": "execute_result",
          "data": {
            "text/plain": [
              "<matplotlib.legend.Legend at 0x7fe00723ba58>"
            ]
          },
          "metadata": {
            "tags": []
          },
          "execution_count": 42
        },
        {
          "output_type": "display_data",
          "data": {
            "image/png": "[encoded data removed]",
            "text/plain": [
              "<Figure size 432x288 with 1 Axes>"
            ]
          },
          "metadata": {
            "tags": [],
            "needs_background": "light"
          }
        }
      ]
    },
    {
      "cell_type": "code",
      "metadata": {
        "colab": {
          "base_uri": "https://localhost:8080/"
        },
        "id": "6I8iRh_Xg4mM",
        "outputId": "79214e28-7222-48a1-e91a-95045455cd6f"
      },
      "source": [
        "df_train[df_train['Risk'] == 0]['Saving accounts'].value_counts()\r\n",
        "df_train[df_train['Risk'] == 1]['Saving accounts'].value_counts()"
      ],
      "execution_count": 43,
      "outputs": [
        {
          "output_type": "execute_result",
          "data": {
            "text/plain": [
              "0    191\n",
              "1     31\n",
              "2     28\n",
              "3     10\n",
              "4      4\n",
              "Name: Saving accounts, dtype: int64"
            ]
          },
          "metadata": {
            "tags": []
          },
          "execution_count": 43
        },
        {
          "output_type": "execute_result",
          "data": {
            "text/plain": [
              "0    342\n",
              "2    142\n",
              "1     64\n",
              "3     47\n",
              "4     41\n",
              "Name: Saving accounts, dtype: int64"
            ]
          },
          "metadata": {
            "tags": []
          },
          "execution_count": 43
        }
      ]
    },
    {
      "cell_type": "markdown",
      "metadata": {
        "id": "B4dNFNgPhDI4"
      },
      "source": [
        "Modelling\r\n",
        "\r\n",
        "X_train, y_train prep\r\n",
        "\r\n"
      ]
    },
    {
      "cell_type": "code",
      "metadata": {
        "id": "r0aOI5aUg-Ta"
      },
      "source": [
        "y_train = df_train['Risk']\r\n",
        "X_train = df_train.drop(columns = ['Risk'])"
      ],
      "execution_count": 44,
      "outputs": []
    },
    {
      "cell_type": "markdown",
      "metadata": {
        "id": "pji1-MP_hKsB"
      },
      "source": [
        "Test data prep\r\n",
        "\r\n"
      ]
    },
    {
      "cell_type": "code",
      "metadata": {
        "colab": {
          "base_uri": "https://localhost:8080/"
        },
        "id": "I5W5YNJZhHy2",
        "outputId": "e29333e4-c944-4603-dccb-febbe71b1c43"
      },
      "source": [
        "df_test.isnull().sum()\r\n",
        "### So, replacing NaN with 'no account'\r\n",
        "df_test.loc[df_test['Saving accounts'].isnull(), 'Saving accounts'] = 'no account'\r\n",
        "df_test.isnull().sum()"
      ],
      "execution_count": 45,
      "outputs": [
        {
          "output_type": "execute_result",
          "data": {
            "text/plain": [
              "Credit History      0\n",
              "Age                 0\n",
              "Gender              0\n",
              "Job                 0\n",
              "Housing             0\n",
              "Saving accounts    13\n",
              "Credit amount       0\n",
              "Duration            0\n",
              "Purpose             0\n",
              "Risk                0\n",
              "dtype: int64"
            ]
          },
          "metadata": {
            "tags": []
          },
          "execution_count": 45
        },
        {
          "output_type": "execute_result",
          "data": {
            "text/plain": [
              "Credit History     0\n",
              "Age                0\n",
              "Gender             0\n",
              "Job                0\n",
              "Housing            0\n",
              "Saving accounts    0\n",
              "Credit amount      0\n",
              "Duration           0\n",
              "Purpose            0\n",
              "Risk               0\n",
              "dtype: int64"
            ]
          },
          "metadata": {
            "tags": []
          },
          "execution_count": 45
        }
      ]
    },
    {
      "cell_type": "code",
      "metadata": {
        "id": "hYURtEgGhOx9"
      },
      "source": [
        "le_obj = LabelEncoder()\r\n",
        "for feat in obj_list:\r\n",
        "    df_test[feat] = le_obj.fit_transform(df_test[feat])\r\n"
      ],
      "execution_count": 46,
      "outputs": []
    },
    {
      "cell_type": "code",
      "metadata": {
        "colab": {
          "base_uri": "https://localhost:8080/",
          "height": 204
        },
        "id": "xUqsOSr4hUXV",
        "outputId": "a2cd438f-4bd2-4f8b-9c21-46c859a83043"
      },
      "source": [
        "df_test.head()"
      ],
      "execution_count": 47,
      "outputs": [
        {
          "output_type": "execute_result",
          "data": {
            "text/html": [
              "<div>\n",
              "<style scoped>\n",
              "    .dataframe tbody tr th:only-of-type {\n",
              "        vertical-align: middle;\n",
              "    }\n",
              "\n",
              "    .dataframe tbody tr th {\n",
              "        vertical-align: top;\n",
              "    }\n",
              "\n",
              "    .dataframe thead th {\n",
              "        text-align: right;\n",
              "    }\n",
              "</style>\n",
              "<table border=\"1\" class=\"dataframe\">\n",
              "  <thead>\n",
              "    <tr style=\"text-align: right;\">\n",
              "      <th></th>\n",
              "      <th>Credit History</th>\n",
              "      <th>Age</th>\n",
              "      <th>Gender</th>\n",
              "      <th>Job</th>\n",
              "      <th>Housing</th>\n",
              "      <th>Saving accounts</th>\n",
              "      <th>Credit amount</th>\n",
              "      <th>Duration</th>\n",
              "      <th>Purpose</th>\n",
              "      <th>Risk</th>\n",
              "    </tr>\n",
              "  </thead>\n",
              "  <tbody>\n",
              "    <tr>\n",
              "      <th>746</th>\n",
              "      <td>2</td>\n",
              "      <td>23</td>\n",
              "      <td>0</td>\n",
              "      <td>2</td>\n",
              "      <td>2</td>\n",
              "      <td>0</td>\n",
              "      <td>2511</td>\n",
              "      <td>15</td>\n",
              "      <td>1</td>\n",
              "      <td>1</td>\n",
              "    </tr>\n",
              "    <tr>\n",
              "      <th>826</th>\n",
              "      <td>4</td>\n",
              "      <td>33</td>\n",
              "      <td>0</td>\n",
              "      <td>2</td>\n",
              "      <td>2</td>\n",
              "      <td>0</td>\n",
              "      <td>3966</td>\n",
              "      <td>18</td>\n",
              "      <td>1</td>\n",
              "      <td>0</td>\n",
              "    </tr>\n",
              "    <tr>\n",
              "      <th>506</th>\n",
              "      <td>4</td>\n",
              "      <td>36</td>\n",
              "      <td>1</td>\n",
              "      <td>2</td>\n",
              "      <td>1</td>\n",
              "      <td>3</td>\n",
              "      <td>2360</td>\n",
              "      <td>15</td>\n",
              "      <td>1</td>\n",
              "      <td>1</td>\n",
              "    </tr>\n",
              "    <tr>\n",
              "      <th>922</th>\n",
              "      <td>2</td>\n",
              "      <td>22</td>\n",
              "      <td>0</td>\n",
              "      <td>2</td>\n",
              "      <td>2</td>\n",
              "      <td>0</td>\n",
              "      <td>1366</td>\n",
              "      <td>9</td>\n",
              "      <td>5</td>\n",
              "      <td>0</td>\n",
              "    </tr>\n",
              "    <tr>\n",
              "      <th>650</th>\n",
              "      <td>2</td>\n",
              "      <td>50</td>\n",
              "      <td>1</td>\n",
              "      <td>3</td>\n",
              "      <td>0</td>\n",
              "      <td>0</td>\n",
              "      <td>7476</td>\n",
              "      <td>48</td>\n",
              "      <td>3</td>\n",
              "      <td>1</td>\n",
              "    </tr>\n",
              "  </tbody>\n",
              "</table>\n",
              "</div>"
            ],
            "text/plain": [
              "     Credit History  Age  Gender  Job  ...  Credit amount  Duration  Purpose  Risk\n",
              "746               2   23       0    2  ...           2511        15        1     1\n",
              "826               4   33       0    2  ...           3966        18        1     0\n",
              "506               4   36       1    2  ...           2360        15        1     1\n",
              "922               2   22       0    2  ...           1366         9        5     0\n",
              "650               2   50       1    3  ...           7476        48        3     1\n",
              "\n",
              "[5 rows x 10 columns]"
            ]
          },
          "metadata": {
            "tags": []
          },
          "execution_count": 47
        }
      ]
    },
    {
      "cell_type": "code",
      "metadata": {
        "id": "jfAzOpI4hXbe"
      },
      "source": [
        "train_cols = df_train.columns.tolist()\r\n",
        "test_cols = df_test.columns.tolist()"
      ],
      "execution_count": 48,
      "outputs": []
    },
    {
      "cell_type": "code",
      "metadata": {
        "id": "3GarpmKiha3v"
      },
      "source": [
        "delta_cols = list(set(train_cols).difference(test_cols))"
      ],
      "execution_count": 49,
      "outputs": []
    },
    {
      "cell_type": "code",
      "metadata": {
        "colab": {
          "base_uri": "https://localhost:8080/"
        },
        "id": "jt29lxYIhd87",
        "outputId": "7f9c8cb0-93c3-474d-d49d-febff893d754"
      },
      "source": [
        "delta_cols"
      ],
      "execution_count": 50,
      "outputs": [
        {
          "output_type": "execute_result",
          "data": {
            "text/plain": [
              "[]"
            ]
          },
          "metadata": {
            "tags": []
          },
          "execution_count": 50
        }
      ]
    },
    {
      "cell_type": "code",
      "metadata": {
        "id": "j-d5mRuBhgRw"
      },
      "source": [
        "y_test = df_test['Risk']\r\n",
        "X_test = df_test.drop(columns = ['Risk'])"
      ],
      "execution_count": 51,
      "outputs": []
    },
    {
      "cell_type": "code",
      "metadata": {
        "id": "ka1kIShohj_a"
      },
      "source": [
        "import numpy as np\r\n",
        "from sklearn.metrics import fbeta_score, make_scorer\r\n",
        "ftwo_scorer = make_scorer(fbeta_score, beta=1/5)"
      ],
      "execution_count": 52,
      "outputs": []
    },
    {
      "cell_type": "code",
      "metadata": {
        "id": "tU74Di71hoty"
      },
      "source": [
        "### As it is bad to classify a customer as good when they are bad i.e. objective is to reduce FP, we want better precision \r\n",
        "### Hence, applying beta = 1/5 and selecting fbeta_score as evaluation metric\r\n",
        "fbeta_mu_score, fbeta_sigma_score = [], []\r\n",
        "model_list = [DecisionTreeClassifier(), RandomForestClassifier(), LogisticRegression()]\r\n",
        "for model in model_list:\r\n",
        "    obj = model\r\n",
        "    scores = cross_val_score(obj, X_train, y_train, cv=5, scoring = ftwo_scorer)\r\n",
        "    fbeta_mu_score.append(np.mean(scores))\r\n",
        "    fbeta_sigma_score.append(np.std(scores))\r\n"
      ],
      "execution_count": 53,
      "outputs": []
    },
    {
      "cell_type": "code",
      "metadata": {
        "colab": {
          "base_uri": "https://localhost:8080/"
        },
        "id": "hZt687Q-hstU",
        "outputId": "84ee58ea-ab39-4b87-8cdd-584fe259b558"
      },
      "source": [
        "fbeta_mu_score\r\n",
        "fbeta_sigma_score"
      ],
      "execution_count": 54,
      "outputs": [
        {
          "output_type": "execute_result",
          "data": {
            "text/plain": [
              "[0.7767785847867104, 0.7741690644279738, 0.7654426622285098]"
            ]
          },
          "metadata": {
            "tags": []
          },
          "execution_count": 54
        },
        {
          "output_type": "execute_result",
          "data": {
            "text/plain": [
              "[0.02955797587432625, 0.016996706656754183, 0.021309056788594273]"
            ]
          },
          "metadata": {
            "tags": []
          },
          "execution_count": 54
        }
      ]
    },
    {
      "cell_type": "code",
      "metadata": {
        "colab": {
          "base_uri": "https://localhost:8080/"
        },
        "id": "WPGcVGJyhv9H",
        "outputId": "226ebccc-2de4-4e1e-996b-85b933f0b045"
      },
      "source": [
        "model_index = fbeta_mu_score.index(max(fbeta_mu_score))\r\n",
        "selected_model = model_list[model_index]\r\n",
        "selected_model"
      ],
      "execution_count": 55,
      "outputs": [
        {
          "output_type": "execute_result",
          "data": {
            "text/plain": [
              "DecisionTreeClassifier(ccp_alpha=0.0, class_weight=None, criterion='gini',\n",
              "                       max_depth=None, max_features=None, max_leaf_nodes=None,\n",
              "                       min_impurity_decrease=0.0, min_impurity_split=None,\n",
              "                       min_samples_leaf=1, min_samples_split=2,\n",
              "                       min_weight_fraction_leaf=0.0, presort='deprecated',\n",
              "                       random_state=None, splitter='best')"
            ]
          },
          "metadata": {
            "tags": []
          },
          "execution_count": 55
        }
      ]
    },
    {
      "cell_type": "code",
      "metadata": {
        "colab": {
          "base_uri": "https://localhost:8080/"
        },
        "id": "aXNt9fMQhz8U",
        "outputId": "e7a33c22-2662-46a2-fd2d-fb0f5666c1c3"
      },
      "source": [
        "selected_model = RandomForestClassifier(max_depth=3, min_samples_leaf=50)\r\n",
        "selected_model.fit(X_train, y_train)\r\n",
        "y_pred = selected_model.predict(X_test)\r\n",
        "fbeta_score(y_test, y_pred, beta=1/5)"
      ],
      "execution_count": 56,
      "outputs": [
        {
          "output_type": "execute_result",
          "data": {
            "text/plain": [
              "RandomForestClassifier(bootstrap=True, ccp_alpha=0.0, class_weight=None,\n",
              "                       criterion='gini', max_depth=3, max_features='auto',\n",
              "                       max_leaf_nodes=None, max_samples=None,\n",
              "                       min_impurity_decrease=0.0, min_impurity_split=None,\n",
              "                       min_samples_leaf=50, min_samples_split=2,\n",
              "                       min_weight_fraction_leaf=0.0, n_estimators=100,\n",
              "                       n_jobs=None, oob_score=False, random_state=None,\n",
              "                       verbose=0, warm_start=False)"
            ]
          },
          "metadata": {
            "tags": []
          },
          "execution_count": 56
        },
        {
          "output_type": "execute_result",
          "data": {
            "text/plain": [
              "0.6489859594383776"
            ]
          },
          "metadata": {
            "tags": []
          },
          "execution_count": 56
        }
      ]
    },
    {
      "cell_type": "code",
      "metadata": {
        "id": "HGPUfVKCh5Ih"
      },
      "source": [
        "df_feat = pd.DataFrame()\r\n",
        "df_feat['cols'] = X_train.columns\r\n",
        "if str(selected_model)[:3] == 'Log' :\r\n",
        "    df_feat['importance'] = np.abs(selected_model.coef_[0])\r\n",
        "else:\r\n",
        "    df_feat['importance'] = selected_model.feature_importances_\r\n"
      ],
      "execution_count": 57,
      "outputs": []
    },
    {
      "cell_type": "code",
      "metadata": {
        "colab": {
          "base_uri": "https://localhost:8080/"
        },
        "id": "kRHwfMJwh9i7",
        "outputId": "e67a82e4-3c80-4b9b-a4a6-d594031f9ae6"
      },
      "source": [
        "top_3 = list(df_feat.sort_values(by = 'importance', ascending = False).head(3)['cols'].values)\r\n",
        "print(\"top 3 features:\", top_3)\r\n",
        "print(\"Top 3 features' cumulative importance:\", np.round(100*df_feat.sort_values(by = 'importance', ascending = False).head(3)['importance'].sum()))"
      ],
      "execution_count": 58,
      "outputs": [
        {
          "output_type": "stream",
          "text": [
            "top 3 features: ['Duration', 'Credit History', 'Saving accounts']\n",
            "Top 3 features' cumulative importance: 71.0\n"
          ],
          "name": "stdout"
        }
      ]
    },
    {
      "cell_type": "code",
      "metadata": {
        "colab": {
          "base_uri": "https://localhost:8080/",
          "height": 204
        },
        "id": "lPGkZIiriBEX",
        "outputId": "91c0ef5e-e831-4005-f233-51407fe91958"
      },
      "source": [
        "df_test.head()"
      ],
      "execution_count": 59,
      "outputs": [
        {
          "output_type": "execute_result",
          "data": {
            "text/html": [
              "<div>\n",
              "<style scoped>\n",
              "    .dataframe tbody tr th:only-of-type {\n",
              "        vertical-align: middle;\n",
              "    }\n",
              "\n",
              "    .dataframe tbody tr th {\n",
              "        vertical-align: top;\n",
              "    }\n",
              "\n",
              "    .dataframe thead th {\n",
              "        text-align: right;\n",
              "    }\n",
              "</style>\n",
              "<table border=\"1\" class=\"dataframe\">\n",
              "  <thead>\n",
              "    <tr style=\"text-align: right;\">\n",
              "      <th></th>\n",
              "      <th>Credit History</th>\n",
              "      <th>Age</th>\n",
              "      <th>Gender</th>\n",
              "      <th>Job</th>\n",
              "      <th>Housing</th>\n",
              "      <th>Saving accounts</th>\n",
              "      <th>Credit amount</th>\n",
              "      <th>Duration</th>\n",
              "      <th>Purpose</th>\n",
              "      <th>Risk</th>\n",
              "    </tr>\n",
              "  </thead>\n",
              "  <tbody>\n",
              "    <tr>\n",
              "      <th>746</th>\n",
              "      <td>2</td>\n",
              "      <td>23</td>\n",
              "      <td>0</td>\n",
              "      <td>2</td>\n",
              "      <td>2</td>\n",
              "      <td>0</td>\n",
              "      <td>2511</td>\n",
              "      <td>15</td>\n",
              "      <td>1</td>\n",
              "      <td>1</td>\n",
              "    </tr>\n",
              "    <tr>\n",
              "      <th>826</th>\n",
              "      <td>4</td>\n",
              "      <td>33</td>\n",
              "      <td>0</td>\n",
              "      <td>2</td>\n",
              "      <td>2</td>\n",
              "      <td>0</td>\n",
              "      <td>3966</td>\n",
              "      <td>18</td>\n",
              "      <td>1</td>\n",
              "      <td>0</td>\n",
              "    </tr>\n",
              "    <tr>\n",
              "      <th>506</th>\n",
              "      <td>4</td>\n",
              "      <td>36</td>\n",
              "      <td>1</td>\n",
              "      <td>2</td>\n",
              "      <td>1</td>\n",
              "      <td>3</td>\n",
              "      <td>2360</td>\n",
              "      <td>15</td>\n",
              "      <td>1</td>\n",
              "      <td>1</td>\n",
              "    </tr>\n",
              "    <tr>\n",
              "      <th>922</th>\n",
              "      <td>2</td>\n",
              "      <td>22</td>\n",
              "      <td>0</td>\n",
              "      <td>2</td>\n",
              "      <td>2</td>\n",
              "      <td>0</td>\n",
              "      <td>1366</td>\n",
              "      <td>9</td>\n",
              "      <td>5</td>\n",
              "      <td>0</td>\n",
              "    </tr>\n",
              "    <tr>\n",
              "      <th>650</th>\n",
              "      <td>2</td>\n",
              "      <td>50</td>\n",
              "      <td>1</td>\n",
              "      <td>3</td>\n",
              "      <td>0</td>\n",
              "      <td>0</td>\n",
              "      <td>7476</td>\n",
              "      <td>48</td>\n",
              "      <td>3</td>\n",
              "      <td>1</td>\n",
              "    </tr>\n",
              "  </tbody>\n",
              "</table>\n",
              "</div>"
            ],
            "text/plain": [
              "     Credit History  Age  Gender  Job  ...  Credit amount  Duration  Purpose  Risk\n",
              "746               2   23       0    2  ...           2511        15        1     1\n",
              "826               4   33       0    2  ...           3966        18        1     0\n",
              "506               4   36       1    2  ...           2360        15        1     1\n",
              "922               2   22       0    2  ...           1366         9        5     0\n",
              "650               2   50       1    3  ...           7476        48        3     1\n",
              "\n",
              "[5 rows x 10 columns]"
            ]
          },
          "metadata": {
            "tags": []
          },
          "execution_count": 59
        }
      ]
    },
    {
      "cell_type": "code",
      "metadata": {
        "colab": {
          "base_uri": "https://localhost:8080/"
        },
        "id": "yWyQxpWfiFAr",
        "outputId": "d687b72c-1786-4e07-fe1a-9c2b91b3043d"
      },
      "source": [
        "# Interpretibility\r\n",
        "### Supply the index of specific test row\r\n",
        "\r\n",
        "row_idx = 45\r\n",
        "max_display  = 300\r\n",
        "\r\n",
        "data_for_prediction = X_test.iloc[row_idx]\r\n",
        "data_for_prediction = np.array(data_for_prediction).reshape(1,-1)\r\n",
        "\r\n",
        "# Calculate Shap values\r\n",
        "explainer = shap.TreeExplainer(selected_model)\r\n",
        "shap_values = explainer.shap_values(data_for_prediction)\r\n",
        "\r\n",
        "pred_probability = selected_model.predict_proba(data_for_prediction)\r\n",
        "prediction = np.argmax(pred_probability)\r\n",
        "print(\"prediction: \", prediction, pred_probability)\r\n",
        "\r\n",
        "shap_value = shap_values[prediction]\r\n",
        "\r\n",
        "feature_order = np.argsort(np.sum(np.abs(shap_value), axis=0))\r\n",
        "feature_order = np.flip(feature_order[-min(max_display, len(feature_order)):], 0)\r\n",
        "\r\n",
        "top_shape_vals = [shap_value[0][i] for i in feature_order]\r\n",
        "\r\n",
        "top_feature_names = [train_cols[i] for i in feature_order]"
      ],
      "execution_count": 69,
      "outputs": [
        {
          "output_type": "stream",
          "text": [
            "prediction:  1 [[0.33144518 0.66855482]]\n"
          ],
          "name": "stdout"
        }
      ]
    },
    {
      "cell_type": "code",
      "metadata": {
        "colab": {
          "base_uri": "https://localhost:8080/",
          "height": 642
        },
        "id": "x70i_g-OiKH9",
        "outputId": "19478685-696d-4316-853c-92e12211fc7e"
      },
      "source": [
        "fig = plt.figure(figsize=(8,5))\r\n",
        "y_pos = np.arange(len(top_feature_names))\r\n",
        "\r\n",
        "values = np.flip(top_shape_vals)\r\n",
        "features = np.flip(top_feature_names)\r\n",
        "\r\n",
        "plt.barh(y_pos, values, 0.7, align='center')\r\n",
        "plt.yticks(y_pos, fontsize=13)\r\n",
        "plt.gca().set_yticklabels(features)\r\n",
        "plt.title(\"Feature Importance\")"
      ],
      "execution_count": 70,
      "outputs": [
        {
          "output_type": "execute_result",
          "data": {
            "text/plain": [
              "<BarContainer object of 9 artists>"
            ]
          },
          "metadata": {
            "tags": []
          },
          "execution_count": 70
        },
        {
          "output_type": "execute_result",
          "data": {
            "text/plain": [
              "([<matplotlib.axis.YTick at 0x7fdfff48ab00>,\n",
              "  <matplotlib.axis.YTick at 0x7fdfff48ab70>,\n",
              "  <matplotlib.axis.YTick at 0x7fdfff48aeb8>,\n",
              "  <matplotlib.axis.YTick at 0x7fdfff31a160>,\n",
              "  <matplotlib.axis.YTick at 0x7fdfff31a5c0>,\n",
              "  <matplotlib.axis.YTick at 0x7fdfff31aa20>,\n",
              "  <matplotlib.axis.YTick at 0x7fdfff31aeb8>,\n",
              "  <matplotlib.axis.YTick at 0x7fdfff320390>,\n",
              "  <matplotlib.axis.YTick at 0x7fdfff320828>],\n",
              " <a list of 9 Text major ticklabel objects>)"
            ]
          },
          "metadata": {
            "tags": []
          },
          "execution_count": 70
        },
        {
          "output_type": "execute_result",
          "data": {
            "text/plain": [
              "[Text(0, 0, 'Job'),\n",
              " Text(0, 0, 'Gender'),\n",
              " Text(0, 0, 'Housing'),\n",
              " Text(0, 0, 'Purpose'),\n",
              " Text(0, 0, 'Credit amount'),\n",
              " Text(0, 0, 'Age'),\n",
              " Text(0, 0, 'Saving accounts'),\n",
              " Text(0, 0, 'Credit History'),\n",
              " Text(0, 0, 'Duration')]"
            ]
          },
          "metadata": {
            "tags": []
          },
          "execution_count": 70
        },
        {
          "output_type": "execute_result",
          "data": {
            "text/plain": [
              "Text(0.5, 1.0, 'Feature Importance')"
            ]
          },
          "metadata": {
            "tags": []
          },
          "execution_count": 70
        },
        {
          "output_type": "display_data",
          "data": {
            "image/png": "[encoded data removed]",
            "text/plain": [
              "<Figure size 576x360 with 1 Axes>"
            ]
          },
          "metadata": {
            "tags": [],
            "needs_background": "light"
          }
        }
      ]
    },
    {
      "cell_type": "code",
      "metadata": {
        "id": "nBJwR2gSix42"
      },
      "source": [
        ""
      ],
      "execution_count": null,
      "outputs": []
    },
    {
      "cell_type": "code",
      "metadata": {
        "id": "jgxTyURZaEbZ"
      },
      "source": [
        ""
      ],
      "execution_count": null,
      "outputs": []
    }
  ]
}