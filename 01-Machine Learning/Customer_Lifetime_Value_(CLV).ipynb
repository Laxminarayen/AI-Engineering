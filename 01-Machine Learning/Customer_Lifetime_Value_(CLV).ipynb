{
  "nbformat": 4,
  "nbformat_minor": 0,
  "metadata": {
    "colab": {
      "name": "Customer Lifetime Value (CLV).ipynb",
      "provenance": [],
      "collapsed_sections": [],
      "authorship_tag": "ABX9TyM5iAHDZxueq2zvkPZpT1sM",
      "include_colab_link": true
    },
    "kernelspec": {
      "name": "python3",
      "display_name": "Python 3"
    }
  },
  "cells": [
    {
      "cell_type": "markdown",
      "metadata": {
        "id": "view-in-github",
        "colab_type": "text"
      },
      "source": [
        "<a href=\"https://colab.research.google.com/github/plthiyagu/Personnel/blob/master/Customer_Lifetime_Value_(CLV).ipynb\" target=\"_parent\"><img src=\"https://colab.research.google.com/assets/colab-badge.svg\" alt=\"Open In Colab\"/></a>"
      ]
    },
    {
      "cell_type": "markdown",
      "metadata": {
        "id": "58UxZhpaZn06"
      },
      "source": [
        "https://www.analyticsvidhya.com/blog/2020/10/a-definitive-guide-for-predicting-customer-lifetime-value-clv/?utm_source=feedburner&utm_medium=email&utm_campaign=Feed%3A+AnalyticsVidhya+%28Analytics+Vidhya%29\n",
        "\n",
        "https://github.com/hariharan2305/DailyKnowledge/blob/master/Customer%20Lifetime%20Value/Customer%20Lifetime%20Value%20(CLV).ipynb"
      ]
    },
    {
      "cell_type": "markdown",
      "metadata": {
        "id": "ws6W2LQIUolx"
      },
      "source": [
        "Customer Lifetime Value (CLV) - A Case Study\n",
        "In this case study, we are going to work with the online-retail dataset from UCI Machine Learning repository.\n",
        "\n",
        "Dataset Information:\n",
        "\n",
        "This is a transnational data set which contains all the transactions occurring between 01/12/2010 and 09/12/2011 for a UK-based and registered non-store online retail.The company mainly sells unique all-occasion gifts. Many customers of the company are wholesalers.\n",
        "\n",
        "Attribute Information:\n",
        "\n",
        "InvoiceNo: Invoice number. Nominal, a 6-digit integral number uniquely assigned to each transaction. If this code starts with letter 'c', it indicates a cancellation.\n",
        "\n",
        "StockCode: Product (item) code. Nominal, a 5-digit integral number uniquely assigned to each distinct product.\n",
        "\n",
        "Description: Product (item) name. Nominal.\n",
        "\n",
        "Quantity: The quantities of each product (item) per transaction. Numeric.\n",
        "\n",
        "InvoiceDate: Invoice Date and time. Numeric, the day and time when each transaction was generated.\n",
        "\n",
        "UnitPrice: Unit price. Numeric, Product price per unit in sterling.\n",
        "\n",
        "CustomerID: Customer number. Nominal, a 5-digit integral number uniquely assigned to each customer.\n",
        "\n",
        "Country: Country name. Nominal, the name of the country where each customer resides.\n",
        "\n"
      ]
    },
    {
      "cell_type": "code",
      "metadata": {
        "id": "XHAEuYYzUlbI"
      },
      "source": [
        "# Importing necessary libraries\n",
        "import pandas as pd\n",
        "import numpy as np\n",
        "\n",
        "import matplotlib.pyplot as plt\n",
        "import seaborn as sns\n",
        "sns.set()\n",
        "\n",
        "import warnings\n",
        "warnings.filterwarnings('ignore')"
      ],
      "execution_count": 17,
      "outputs": []
    },
    {
      "cell_type": "code",
      "metadata": {
        "id": "ujrog-K1VDgr"
      },
      "source": [
        "filepath='https://raw.githubusercontent.com/plthiyagu/Personnel/master/Dataset/Online%20Retail.xlsx'\n",
        "data= pd.read_excel(filepath,parse_dates=['InvoiceDate'])"
      ],
      "execution_count": 18,
      "outputs": []
    },
    {
      "cell_type": "code",
      "metadata": {
        "id": "zR_3MGWIXoYx",
        "outputId": "864154c2-0770-40e2-b352-5ac90ebed6e0",
        "colab": {
          "base_uri": "https://localhost:8080/",
          "height": 204
        }
      },
      "source": [
        "data.head()"
      ],
      "execution_count": 19,
      "outputs": [
        {
          "output_type": "execute_result",
          "data": {
            "text/html": [
              "<div>\n",
              "<style scoped>\n",
              "    .dataframe tbody tr th:only-of-type {\n",
              "        vertical-align: middle;\n",
              "    }\n",
              "\n",
              "    .dataframe tbody tr th {\n",
              "        vertical-align: top;\n",
              "    }\n",
              "\n",
              "    .dataframe thead th {\n",
              "        text-align: right;\n",
              "    }\n",
              "</style>\n",
              "<table border=\"1\" class=\"dataframe\">\n",
              "  <thead>\n",
              "    <tr style=\"text-align: right;\">\n",
              "      <th></th>\n",
              "      <th>InvoiceNo</th>\n",
              "      <th>StockCode</th>\n",
              "      <th>Description</th>\n",
              "      <th>Quantity</th>\n",
              "      <th>InvoiceDate</th>\n",
              "      <th>UnitPrice</th>\n",
              "      <th>CustomerID</th>\n",
              "      <th>Country</th>\n",
              "    </tr>\n",
              "  </thead>\n",
              "  <tbody>\n",
              "    <tr>\n",
              "      <th>0</th>\n",
              "      <td>536365</td>\n",
              "      <td>85123A</td>\n",
              "      <td>WHITE HANGING HEART T-LIGHT HOLDER</td>\n",
              "      <td>6</td>\n",
              "      <td>2010-12-01 08:26:00</td>\n",
              "      <td>2.55</td>\n",
              "      <td>17850.0</td>\n",
              "      <td>United Kingdom</td>\n",
              "    </tr>\n",
              "    <tr>\n",
              "      <th>1</th>\n",
              "      <td>536365</td>\n",
              "      <td>71053</td>\n",
              "      <td>WHITE METAL LANTERN</td>\n",
              "      <td>6</td>\n",
              "      <td>2010-12-01 08:26:00</td>\n",
              "      <td>3.39</td>\n",
              "      <td>17850.0</td>\n",
              "      <td>United Kingdom</td>\n",
              "    </tr>\n",
              "    <tr>\n",
              "      <th>2</th>\n",
              "      <td>536365</td>\n",
              "      <td>84406B</td>\n",
              "      <td>CREAM CUPID HEARTS COAT HANGER</td>\n",
              "      <td>8</td>\n",
              "      <td>2010-12-01 08:26:00</td>\n",
              "      <td>2.75</td>\n",
              "      <td>17850.0</td>\n",
              "      <td>United Kingdom</td>\n",
              "    </tr>\n",
              "    <tr>\n",
              "      <th>3</th>\n",
              "      <td>536365</td>\n",
              "      <td>84029G</td>\n",
              "      <td>KNITTED UNION FLAG HOT WATER BOTTLE</td>\n",
              "      <td>6</td>\n",
              "      <td>2010-12-01 08:26:00</td>\n",
              "      <td>3.39</td>\n",
              "      <td>17850.0</td>\n",
              "      <td>United Kingdom</td>\n",
              "    </tr>\n",
              "    <tr>\n",
              "      <th>4</th>\n",
              "      <td>536365</td>\n",
              "      <td>84029E</td>\n",
              "      <td>RED WOOLLY HOTTIE WHITE HEART.</td>\n",
              "      <td>6</td>\n",
              "      <td>2010-12-01 08:26:00</td>\n",
              "      <td>3.39</td>\n",
              "      <td>17850.0</td>\n",
              "      <td>United Kingdom</td>\n",
              "    </tr>\n",
              "  </tbody>\n",
              "</table>\n",
              "</div>"
            ],
            "text/plain": [
              "  InvoiceNo StockCode  ... CustomerID         Country\n",
              "0    536365    85123A  ...    17850.0  United Kingdom\n",
              "1    536365     71053  ...    17850.0  United Kingdom\n",
              "2    536365    84406B  ...    17850.0  United Kingdom\n",
              "3    536365    84029G  ...    17850.0  United Kingdom\n",
              "4    536365    84029E  ...    17850.0  United Kingdom\n",
              "\n",
              "[5 rows x 8 columns]"
            ]
          },
          "metadata": {
            "tags": []
          },
          "execution_count": 19
        }
      ]
    },
    {
      "cell_type": "code",
      "metadata": {
        "id": "qpgK9vrQYvAG",
        "outputId": "a975d9a3-fe64-41c1-f2f9-43d707f7323c",
        "colab": {
          "base_uri": "https://localhost:8080/",
          "height": 221
        }
      },
      "source": [
        "features = ['CustomerID', 'InvoiceNo', 'InvoiceDate', 'Quantity', 'UnitPrice']\n",
        "data_clv = data[features]\n",
        "data_clv['TotalSales'] = data_clv['Quantity'].multiply(data_clv['UnitPrice'])\n",
        "print(data_clv.shape)\n",
        "data_clv.head()"
      ],
      "execution_count": 20,
      "outputs": [
        {
          "output_type": "stream",
          "text": [
            "(541909, 6)\n"
          ],
          "name": "stdout"
        },
        {
          "output_type": "execute_result",
          "data": {
            "text/html": [
              "<div>\n",
              "<style scoped>\n",
              "    .dataframe tbody tr th:only-of-type {\n",
              "        vertical-align: middle;\n",
              "    }\n",
              "\n",
              "    .dataframe tbody tr th {\n",
              "        vertical-align: top;\n",
              "    }\n",
              "\n",
              "    .dataframe thead th {\n",
              "        text-align: right;\n",
              "    }\n",
              "</style>\n",
              "<table border=\"1\" class=\"dataframe\">\n",
              "  <thead>\n",
              "    <tr style=\"text-align: right;\">\n",
              "      <th></th>\n",
              "      <th>CustomerID</th>\n",
              "      <th>InvoiceNo</th>\n",
              "      <th>InvoiceDate</th>\n",
              "      <th>Quantity</th>\n",
              "      <th>UnitPrice</th>\n",
              "      <th>TotalSales</th>\n",
              "    </tr>\n",
              "  </thead>\n",
              "  <tbody>\n",
              "    <tr>\n",
              "      <th>0</th>\n",
              "      <td>17850.0</td>\n",
              "      <td>536365</td>\n",
              "      <td>2010-12-01 08:26:00</td>\n",
              "      <td>6</td>\n",
              "      <td>2.55</td>\n",
              "      <td>15.30</td>\n",
              "    </tr>\n",
              "    <tr>\n",
              "      <th>1</th>\n",
              "      <td>17850.0</td>\n",
              "      <td>536365</td>\n",
              "      <td>2010-12-01 08:26:00</td>\n",
              "      <td>6</td>\n",
              "      <td>3.39</td>\n",
              "      <td>20.34</td>\n",
              "    </tr>\n",
              "    <tr>\n",
              "      <th>2</th>\n",
              "      <td>17850.0</td>\n",
              "      <td>536365</td>\n",
              "      <td>2010-12-01 08:26:00</td>\n",
              "      <td>8</td>\n",
              "      <td>2.75</td>\n",
              "      <td>22.00</td>\n",
              "    </tr>\n",
              "    <tr>\n",
              "      <th>3</th>\n",
              "      <td>17850.0</td>\n",
              "      <td>536365</td>\n",
              "      <td>2010-12-01 08:26:00</td>\n",
              "      <td>6</td>\n",
              "      <td>3.39</td>\n",
              "      <td>20.34</td>\n",
              "    </tr>\n",
              "    <tr>\n",
              "      <th>4</th>\n",
              "      <td>17850.0</td>\n",
              "      <td>536365</td>\n",
              "      <td>2010-12-01 08:26:00</td>\n",
              "      <td>6</td>\n",
              "      <td>3.39</td>\n",
              "      <td>20.34</td>\n",
              "    </tr>\n",
              "  </tbody>\n",
              "</table>\n",
              "</div>"
            ],
            "text/plain": [
              "   CustomerID InvoiceNo         InvoiceDate  Quantity  UnitPrice  TotalSales\n",
              "0     17850.0    536365 2010-12-01 08:26:00         6       2.55       15.30\n",
              "1     17850.0    536365 2010-12-01 08:26:00         6       3.39       20.34\n",
              "2     17850.0    536365 2010-12-01 08:26:00         8       2.75       22.00\n",
              "3     17850.0    536365 2010-12-01 08:26:00         6       3.39       20.34\n",
              "4     17850.0    536365 2010-12-01 08:26:00         6       3.39       20.34"
            ]
          },
          "metadata": {
            "tags": []
          },
          "execution_count": 20
        }
      ]
    },
    {
      "cell_type": "code",
      "metadata": {
        "id": "xdZgLzKSbM4E",
        "outputId": "cd631ff1-f203-4b86-d20d-4a0a18d558d1",
        "colab": {
          "base_uri": "https://localhost:8080/",
          "height": 297
        }
      },
      "source": [
        "data_clv.describe()"
      ],
      "execution_count": 21,
      "outputs": [
        {
          "output_type": "execute_result",
          "data": {
            "text/html": [
              "<div>\n",
              "<style scoped>\n",
              "    .dataframe tbody tr th:only-of-type {\n",
              "        vertical-align: middle;\n",
              "    }\n",
              "\n",
              "    .dataframe tbody tr th {\n",
              "        vertical-align: top;\n",
              "    }\n",
              "\n",
              "    .dataframe thead th {\n",
              "        text-align: right;\n",
              "    }\n",
              "</style>\n",
              "<table border=\"1\" class=\"dataframe\">\n",
              "  <thead>\n",
              "    <tr style=\"text-align: right;\">\n",
              "      <th></th>\n",
              "      <th>CustomerID</th>\n",
              "      <th>Quantity</th>\n",
              "      <th>UnitPrice</th>\n",
              "      <th>TotalSales</th>\n",
              "    </tr>\n",
              "  </thead>\n",
              "  <tbody>\n",
              "    <tr>\n",
              "      <th>count</th>\n",
              "      <td>406829.000000</td>\n",
              "      <td>541909.000000</td>\n",
              "      <td>541909.000000</td>\n",
              "      <td>541909.000000</td>\n",
              "    </tr>\n",
              "    <tr>\n",
              "      <th>mean</th>\n",
              "      <td>15287.690570</td>\n",
              "      <td>9.552250</td>\n",
              "      <td>4.611114</td>\n",
              "      <td>17.987795</td>\n",
              "    </tr>\n",
              "    <tr>\n",
              "      <th>std</th>\n",
              "      <td>1713.600303</td>\n",
              "      <td>218.081158</td>\n",
              "      <td>96.759853</td>\n",
              "      <td>378.810824</td>\n",
              "    </tr>\n",
              "    <tr>\n",
              "      <th>min</th>\n",
              "      <td>12346.000000</td>\n",
              "      <td>-80995.000000</td>\n",
              "      <td>-11062.060000</td>\n",
              "      <td>-168469.600000</td>\n",
              "    </tr>\n",
              "    <tr>\n",
              "      <th>25%</th>\n",
              "      <td>13953.000000</td>\n",
              "      <td>1.000000</td>\n",
              "      <td>1.250000</td>\n",
              "      <td>3.400000</td>\n",
              "    </tr>\n",
              "    <tr>\n",
              "      <th>50%</th>\n",
              "      <td>15152.000000</td>\n",
              "      <td>3.000000</td>\n",
              "      <td>2.080000</td>\n",
              "      <td>9.750000</td>\n",
              "    </tr>\n",
              "    <tr>\n",
              "      <th>75%</th>\n",
              "      <td>16791.000000</td>\n",
              "      <td>10.000000</td>\n",
              "      <td>4.130000</td>\n",
              "      <td>17.400000</td>\n",
              "    </tr>\n",
              "    <tr>\n",
              "      <th>max</th>\n",
              "      <td>18287.000000</td>\n",
              "      <td>80995.000000</td>\n",
              "      <td>38970.000000</td>\n",
              "      <td>168469.600000</td>\n",
              "    </tr>\n",
              "  </tbody>\n",
              "</table>\n",
              "</div>"
            ],
            "text/plain": [
              "          CustomerID       Quantity      UnitPrice     TotalSales\n",
              "count  406829.000000  541909.000000  541909.000000  541909.000000\n",
              "mean    15287.690570       9.552250       4.611114      17.987795\n",
              "std      1713.600303     218.081158      96.759853     378.810824\n",
              "min     12346.000000  -80995.000000  -11062.060000 -168469.600000\n",
              "25%     13953.000000       1.000000       1.250000       3.400000\n",
              "50%     15152.000000       3.000000       2.080000       9.750000\n",
              "75%     16791.000000      10.000000       4.130000      17.400000\n",
              "max     18287.000000   80995.000000   38970.000000  168469.600000"
            ]
          },
          "metadata": {
            "tags": []
          },
          "execution_count": 21
        }
      ]
    },
    {
      "cell_type": "code",
      "metadata": {
        "id": "-suF3oLCbX5u",
        "outputId": "664da4b9-9ed2-4db3-de31-c9f53ca0935e",
        "colab": {
          "base_uri": "https://localhost:8080/",
          "height": 297
        }
      },
      "source": [
        "data_clv = data_clv[data_clv['TotalSales'] > 0]\n",
        "data_clv.describe()"
      ],
      "execution_count": 22,
      "outputs": [
        {
          "output_type": "execute_result",
          "data": {
            "text/html": [
              "<div>\n",
              "<style scoped>\n",
              "    .dataframe tbody tr th:only-of-type {\n",
              "        vertical-align: middle;\n",
              "    }\n",
              "\n",
              "    .dataframe tbody tr th {\n",
              "        vertical-align: top;\n",
              "    }\n",
              "\n",
              "    .dataframe thead th {\n",
              "        text-align: right;\n",
              "    }\n",
              "</style>\n",
              "<table border=\"1\" class=\"dataframe\">\n",
              "  <thead>\n",
              "    <tr style=\"text-align: right;\">\n",
              "      <th></th>\n",
              "      <th>CustomerID</th>\n",
              "      <th>Quantity</th>\n",
              "      <th>UnitPrice</th>\n",
              "      <th>TotalSales</th>\n",
              "    </tr>\n",
              "  </thead>\n",
              "  <tbody>\n",
              "    <tr>\n",
              "      <th>count</th>\n",
              "      <td>397884.000000</td>\n",
              "      <td>530104.000000</td>\n",
              "      <td>530104.000000</td>\n",
              "      <td>530104.000000</td>\n",
              "    </tr>\n",
              "    <tr>\n",
              "      <th>mean</th>\n",
              "      <td>15294.423453</td>\n",
              "      <td>10.542037</td>\n",
              "      <td>3.907625</td>\n",
              "      <td>20.121871</td>\n",
              "    </tr>\n",
              "    <tr>\n",
              "      <th>std</th>\n",
              "      <td>1713.141560</td>\n",
              "      <td>155.524124</td>\n",
              "      <td>35.915681</td>\n",
              "      <td>270.356743</td>\n",
              "    </tr>\n",
              "    <tr>\n",
              "      <th>min</th>\n",
              "      <td>12346.000000</td>\n",
              "      <td>1.000000</td>\n",
              "      <td>0.001000</td>\n",
              "      <td>0.001000</td>\n",
              "    </tr>\n",
              "    <tr>\n",
              "      <th>25%</th>\n",
              "      <td>13969.000000</td>\n",
              "      <td>1.000000</td>\n",
              "      <td>1.250000</td>\n",
              "      <td>3.750000</td>\n",
              "    </tr>\n",
              "    <tr>\n",
              "      <th>50%</th>\n",
              "      <td>15159.000000</td>\n",
              "      <td>3.000000</td>\n",
              "      <td>2.080000</td>\n",
              "      <td>9.900000</td>\n",
              "    </tr>\n",
              "    <tr>\n",
              "      <th>75%</th>\n",
              "      <td>16795.000000</td>\n",
              "      <td>10.000000</td>\n",
              "      <td>4.130000</td>\n",
              "      <td>17.700000</td>\n",
              "    </tr>\n",
              "    <tr>\n",
              "      <th>max</th>\n",
              "      <td>18287.000000</td>\n",
              "      <td>80995.000000</td>\n",
              "      <td>13541.330000</td>\n",
              "      <td>168469.600000</td>\n",
              "    </tr>\n",
              "  </tbody>\n",
              "</table>\n",
              "</div>"
            ],
            "text/plain": [
              "          CustomerID       Quantity      UnitPrice     TotalSales\n",
              "count  397884.000000  530104.000000  530104.000000  530104.000000\n",
              "mean    15294.423453      10.542037       3.907625      20.121871\n",
              "std      1713.141560     155.524124      35.915681     270.356743\n",
              "min     12346.000000       1.000000       0.001000       0.001000\n",
              "25%     13969.000000       1.000000       1.250000       3.750000\n",
              "50%     15159.000000       3.000000       2.080000       9.900000\n",
              "75%     16795.000000      10.000000       4.130000      17.700000\n",
              "max     18287.000000   80995.000000   13541.330000  168469.600000"
            ]
          },
          "metadata": {
            "tags": []
          },
          "execution_count": 22
        }
      ]
    },
    {
      "cell_type": "code",
      "metadata": {
        "id": "to1x6tcxbgoZ",
        "outputId": "9ceb12a4-8933-4fa0-9350-6af3f9f34620",
        "colab": {
          "base_uri": "https://localhost:8080/",
          "height": 235
        }
      },
      "source": [
        "pd.DataFrame(zip(data_clv.isnull().sum(), data_clv.isnull().sum()/len(data_clv)), columns=['Count', 'Proportion'], index=data_clv.columns)"
      ],
      "execution_count": 23,
      "outputs": [
        {
          "output_type": "execute_result",
          "data": {
            "text/html": [
              "<div>\n",
              "<style scoped>\n",
              "    .dataframe tbody tr th:only-of-type {\n",
              "        vertical-align: middle;\n",
              "    }\n",
              "\n",
              "    .dataframe tbody tr th {\n",
              "        vertical-align: top;\n",
              "    }\n",
              "\n",
              "    .dataframe thead th {\n",
              "        text-align: right;\n",
              "    }\n",
              "</style>\n",
              "<table border=\"1\" class=\"dataframe\">\n",
              "  <thead>\n",
              "    <tr style=\"text-align: right;\">\n",
              "      <th></th>\n",
              "      <th>Count</th>\n",
              "      <th>Proportion</th>\n",
              "    </tr>\n",
              "  </thead>\n",
              "  <tbody>\n",
              "    <tr>\n",
              "      <th>CustomerID</th>\n",
              "      <td>132220</td>\n",
              "      <td>0.249423</td>\n",
              "    </tr>\n",
              "    <tr>\n",
              "      <th>InvoiceNo</th>\n",
              "      <td>0</td>\n",
              "      <td>0.000000</td>\n",
              "    </tr>\n",
              "    <tr>\n",
              "      <th>InvoiceDate</th>\n",
              "      <td>0</td>\n",
              "      <td>0.000000</td>\n",
              "    </tr>\n",
              "    <tr>\n",
              "      <th>Quantity</th>\n",
              "      <td>0</td>\n",
              "      <td>0.000000</td>\n",
              "    </tr>\n",
              "    <tr>\n",
              "      <th>UnitPrice</th>\n",
              "      <td>0</td>\n",
              "      <td>0.000000</td>\n",
              "    </tr>\n",
              "    <tr>\n",
              "      <th>TotalSales</th>\n",
              "      <td>0</td>\n",
              "      <td>0.000000</td>\n",
              "    </tr>\n",
              "  </tbody>\n",
              "</table>\n",
              "</div>"
            ],
            "text/plain": [
              "              Count  Proportion\n",
              "CustomerID   132220    0.249423\n",
              "InvoiceNo         0    0.000000\n",
              "InvoiceDate       0    0.000000\n",
              "Quantity          0    0.000000\n",
              "UnitPrice         0    0.000000\n",
              "TotalSales        0    0.000000"
            ]
          },
          "metadata": {
            "tags": []
          },
          "execution_count": 23
        }
      ]
    },
    {
      "cell_type": "code",
      "metadata": {
        "id": "wzzmjyiCb0Vn",
        "outputId": "efeea784-1c17-42fe-8b33-633ecc62a0d7",
        "colab": {
          "base_uri": "https://localhost:8080/"
        }
      },
      "source": [
        "data_clv.shape"
      ],
      "execution_count": 24,
      "outputs": [
        {
          "output_type": "execute_result",
          "data": {
            "text/plain": [
              "(530104, 6)"
            ]
          },
          "metadata": {
            "tags": []
          },
          "execution_count": 24
        }
      ]
    },
    {
      "cell_type": "code",
      "metadata": {
        "id": "pAWYtBbJbpM7",
        "outputId": "666c9f7c-7983-46ef-e9fc-4f284212f6a8",
        "colab": {
          "base_uri": "https://localhost:8080/",
          "height": 235
        }
      },
      "source": [
        "data_clv = data_clv[pd.notnull(data_clv['CustomerID'])]\n",
        "pd.DataFrame(zip(data_clv.isnull().sum(), data_clv.isnull().sum()/len(data_clv)), columns=['Count', 'Proportion'], index=data_clv.columns)"
      ],
      "execution_count": 25,
      "outputs": [
        {
          "output_type": "execute_result",
          "data": {
            "text/html": [
              "<div>\n",
              "<style scoped>\n",
              "    .dataframe tbody tr th:only-of-type {\n",
              "        vertical-align: middle;\n",
              "    }\n",
              "\n",
              "    .dataframe tbody tr th {\n",
              "        vertical-align: top;\n",
              "    }\n",
              "\n",
              "    .dataframe thead th {\n",
              "        text-align: right;\n",
              "    }\n",
              "</style>\n",
              "<table border=\"1\" class=\"dataframe\">\n",
              "  <thead>\n",
              "    <tr style=\"text-align: right;\">\n",
              "      <th></th>\n",
              "      <th>Count</th>\n",
              "      <th>Proportion</th>\n",
              "    </tr>\n",
              "  </thead>\n",
              "  <tbody>\n",
              "    <tr>\n",
              "      <th>CustomerID</th>\n",
              "      <td>0</td>\n",
              "      <td>0.0</td>\n",
              "    </tr>\n",
              "    <tr>\n",
              "      <th>InvoiceNo</th>\n",
              "      <td>0</td>\n",
              "      <td>0.0</td>\n",
              "    </tr>\n",
              "    <tr>\n",
              "      <th>InvoiceDate</th>\n",
              "      <td>0</td>\n",
              "      <td>0.0</td>\n",
              "    </tr>\n",
              "    <tr>\n",
              "      <th>Quantity</th>\n",
              "      <td>0</td>\n",
              "      <td>0.0</td>\n",
              "    </tr>\n",
              "    <tr>\n",
              "      <th>UnitPrice</th>\n",
              "      <td>0</td>\n",
              "      <td>0.0</td>\n",
              "    </tr>\n",
              "    <tr>\n",
              "      <th>TotalSales</th>\n",
              "      <td>0</td>\n",
              "      <td>0.0</td>\n",
              "    </tr>\n",
              "  </tbody>\n",
              "</table>\n",
              "</div>"
            ],
            "text/plain": [
              "             Count  Proportion\n",
              "CustomerID       0         0.0\n",
              "InvoiceNo        0         0.0\n",
              "InvoiceDate      0         0.0\n",
              "Quantity         0         0.0\n",
              "UnitPrice        0         0.0\n",
              "TotalSales       0         0.0"
            ]
          },
          "metadata": {
            "tags": []
          },
          "execution_count": 25
        }
      ]
    },
    {
      "cell_type": "code",
      "metadata": {
        "id": "Uz41wAoVWW9y",
        "outputId": "e488c809-bd0c-4b25-a82e-d0f649bf4491",
        "colab": {
          "base_uri": "https://localhost:8080/"
        }
      },
      "source": [
        "data_clv.shape"
      ],
      "execution_count": 26,
      "outputs": [
        {
          "output_type": "execute_result",
          "data": {
            "text/plain": [
              "(397884, 6)"
            ]
          },
          "metadata": {
            "tags": []
          },
          "execution_count": 26
        }
      ]
    },
    {
      "cell_type": "code",
      "metadata": {
        "id": "uE9Hk4cYV3YY",
        "outputId": "c288f35f-9b39-4c05-c89d-94665f0f4191",
        "colab": {
          "base_uri": "https://localhost:8080/"
        }
      },
      "source": [
        "maxdate = data_clv['InvoiceDate'].dt.date.max()\n",
        "mindate = data_clv['InvoiceDate'].dt.date.min()\n",
        "unique_cust = data_clv['CustomerID'].nunique()\n",
        "tot_quantity = data_clv['Quantity'].sum()\n",
        "tot_sales = data_clv['TotalSales'].sum()\n",
        "\n",
        "print(f\"The Time range of transactions is: {mindate} to {maxdate}\")\n",
        "print(f\"Total number of unique customers: {unique_cust}\")\n",
        "print(f\"Total Quantity Sold: {tot_quantity}\")\n",
        "print(f\"Total Sales for the period: {tot_sales}\")"
      ],
      "execution_count": 27,
      "outputs": [
        {
          "output_type": "stream",
          "text": [
            "The Time range of transactions is: 2010-12-01 to 2011-12-09\n",
            "Total number of unique customers: 4338\n",
            "Total Quantity Sold: 5167812\n",
            "Total Sales for the period: 8911407.904\n"
          ],
          "name": "stdout"
        }
      ]
    },
    {
      "cell_type": "code",
      "metadata": {
        "id": "mkBGygFLefuI",
        "outputId": "fec06518-5631-44fd-c756-e3e090d4bd1a",
        "colab": {
          "base_uri": "https://localhost:8080/",
          "height": 235
        }
      },
      "source": [
        "# Transforming the data to customer level for the analysis\n",
        "customer = data_clv.groupby('CustomerID').agg({'InvoiceDate':lambda x: (x.max() - x.min()).days, \n",
        "                                                   'InvoiceNo': lambda x: len(x),\n",
        "                                                  'TotalSales': lambda x: sum(x)})\n",
        "\n",
        "customer.columns = ['Age', 'Frequency', 'TotalSales']\n",
        "customer.head()"
      ],
      "execution_count": 28,
      "outputs": [
        {
          "output_type": "execute_result",
          "data": {
            "text/html": [
              "<div>\n",
              "<style scoped>\n",
              "    .dataframe tbody tr th:only-of-type {\n",
              "        vertical-align: middle;\n",
              "    }\n",
              "\n",
              "    .dataframe tbody tr th {\n",
              "        vertical-align: top;\n",
              "    }\n",
              "\n",
              "    .dataframe thead th {\n",
              "        text-align: right;\n",
              "    }\n",
              "</style>\n",
              "<table border=\"1\" class=\"dataframe\">\n",
              "  <thead>\n",
              "    <tr style=\"text-align: right;\">\n",
              "      <th></th>\n",
              "      <th>Age</th>\n",
              "      <th>Frequency</th>\n",
              "      <th>TotalSales</th>\n",
              "    </tr>\n",
              "    <tr>\n",
              "      <th>CustomerID</th>\n",
              "      <th></th>\n",
              "      <th></th>\n",
              "      <th></th>\n",
              "    </tr>\n",
              "  </thead>\n",
              "  <tbody>\n",
              "    <tr>\n",
              "      <th>12346.0</th>\n",
              "      <td>0</td>\n",
              "      <td>1</td>\n",
              "      <td>77183.60</td>\n",
              "    </tr>\n",
              "    <tr>\n",
              "      <th>12347.0</th>\n",
              "      <td>365</td>\n",
              "      <td>182</td>\n",
              "      <td>4310.00</td>\n",
              "    </tr>\n",
              "    <tr>\n",
              "      <th>12348.0</th>\n",
              "      <td>282</td>\n",
              "      <td>31</td>\n",
              "      <td>1797.24</td>\n",
              "    </tr>\n",
              "    <tr>\n",
              "      <th>12349.0</th>\n",
              "      <td>0</td>\n",
              "      <td>73</td>\n",
              "      <td>1757.55</td>\n",
              "    </tr>\n",
              "    <tr>\n",
              "      <th>12350.0</th>\n",
              "      <td>0</td>\n",
              "      <td>17</td>\n",
              "      <td>334.40</td>\n",
              "    </tr>\n",
              "  </tbody>\n",
              "</table>\n",
              "</div>"
            ],
            "text/plain": [
              "            Age  Frequency  TotalSales\n",
              "CustomerID                            \n",
              "12346.0       0          1    77183.60\n",
              "12347.0     365        182     4310.00\n",
              "12348.0     282         31     1797.24\n",
              "12349.0       0         73     1757.55\n",
              "12350.0       0         17      334.40"
            ]
          },
          "metadata": {
            "tags": []
          },
          "execution_count": 28
        }
      ]
    },
    {
      "cell_type": "code",
      "metadata": {
        "id": "7mHIoGWxsGR-",
        "outputId": "18b27aa8-7eb0-4fe7-f15f-a55bbcae7888",
        "colab": {
          "base_uri": "https://localhost:8080/"
        }
      },
      "source": [
        "Average_sales = round(np.mean(customer['TotalSales']),2)\n",
        "print(f\"Average sales: ${Average_sales}\")\n",
        "\n",
        "Purchase_freq = round(np.mean(customer['Frequency']), 2)\n",
        "print(f\"Purchase Frequency: {Purchase_freq}\")\n",
        "\n",
        "Retention_rate = customer[customer['Frequency']>1].shape[0]/customer.shape[0]\n",
        "churn = round(1 - Retention_rate, 2)\n",
        "print(f\"Churn: {churn}%\")"
      ],
      "execution_count": 29,
      "outputs": [
        {
          "output_type": "stream",
          "text": [
            "Average sales: $2054.27\n",
            "Purchase Frequency: 91.72\n",
            "Churn: 0.02%\n"
          ],
          "name": "stdout"
        }
      ]
    },
    {
      "cell_type": "code",
      "metadata": {
        "id": "H_Rj_WWB95Yi",
        "outputId": "029af1d8-19de-4025-9c0d-588c1ab0fca4",
        "colab": {
          "base_uri": "https://localhost:8080/"
        }
      },
      "source": [
        "# Calculating the CLV\n",
        "Profit_margin = 0.05 \n",
        "\n",
        "CLV = round(((Average_sales * Purchase_freq/churn)) * Profit_margin, 2)\n",
        "print(f\"The Customer Lifetime Value (CLV) for each customer is: ${CLV}\")"
      ],
      "execution_count": 30,
      "outputs": [
        {
          "output_type": "stream",
          "text": [
            "The Customer Lifetime Value (CLV) for each customer is: $471044.11\n"
          ],
          "name": "stdout"
        }
      ]
    },
    {
      "cell_type": "code",
      "metadata": {
        "id": "-ifepUXx--DW",
        "outputId": "772edc21-a415-428c-e32a-3f8d7fd7e908",
        "colab": {
          "base_uri": "https://localhost:8080/"
        }
      },
      "source": [
        "customer['TotalSales'].describe()"
      ],
      "execution_count": 32,
      "outputs": [
        {
          "output_type": "execute_result",
          "data": {
            "text/plain": [
              "count      4338.000000\n",
              "mean       2054.266460\n",
              "std        8989.230441\n",
              "min           3.750000\n",
              "25%         307.415000\n",
              "50%         674.485000\n",
              "75%        1661.740000\n",
              "max      280206.020000\n",
              "Name: TotalSales, dtype: float64"
            ]
          },
          "metadata": {
            "tags": []
          },
          "execution_count": 32
        }
      ]
    },
    {
      "cell_type": "code",
      "metadata": {
        "id": "lp09dSJk_DFw",
        "outputId": "83b53381-3b78-4ba1-fdee-1a82cd5461bb",
        "colab": {
          "base_uri": "https://localhost:8080/",
          "height": 235
        }
      },
      "source": [
        "customer = data_clv.groupby('CustomerID').agg({'InvoiceDate':lambda x: x.min().month, \n",
        "                                                   'InvoiceNo': lambda x: len(x),\n",
        "                                                  'TotalSales': lambda x: np.sum(x)})\n",
        "\n",
        "customer.columns = ['Start_Month', 'Frequency', 'TotalSales']\n",
        "customer.head()"
      ],
      "execution_count": 33,
      "outputs": [
        {
          "output_type": "execute_result",
          "data": {
            "text/html": [
              "<div>\n",
              "<style scoped>\n",
              "    .dataframe tbody tr th:only-of-type {\n",
              "        vertical-align: middle;\n",
              "    }\n",
              "\n",
              "    .dataframe tbody tr th {\n",
              "        vertical-align: top;\n",
              "    }\n",
              "\n",
              "    .dataframe thead th {\n",
              "        text-align: right;\n",
              "    }\n",
              "</style>\n",
              "<table border=\"1\" class=\"dataframe\">\n",
              "  <thead>\n",
              "    <tr style=\"text-align: right;\">\n",
              "      <th></th>\n",
              "      <th>Start_Month</th>\n",
              "      <th>Frequency</th>\n",
              "      <th>TotalSales</th>\n",
              "    </tr>\n",
              "    <tr>\n",
              "      <th>CustomerID</th>\n",
              "      <th></th>\n",
              "      <th></th>\n",
              "      <th></th>\n",
              "    </tr>\n",
              "  </thead>\n",
              "  <tbody>\n",
              "    <tr>\n",
              "      <th>12346.0</th>\n",
              "      <td>1</td>\n",
              "      <td>1</td>\n",
              "      <td>77183.60</td>\n",
              "    </tr>\n",
              "    <tr>\n",
              "      <th>12347.0</th>\n",
              "      <td>12</td>\n",
              "      <td>182</td>\n",
              "      <td>4310.00</td>\n",
              "    </tr>\n",
              "    <tr>\n",
              "      <th>12348.0</th>\n",
              "      <td>12</td>\n",
              "      <td>31</td>\n",
              "      <td>1797.24</td>\n",
              "    </tr>\n",
              "    <tr>\n",
              "      <th>12349.0</th>\n",
              "      <td>11</td>\n",
              "      <td>73</td>\n",
              "      <td>1757.55</td>\n",
              "    </tr>\n",
              "    <tr>\n",
              "      <th>12350.0</th>\n",
              "      <td>2</td>\n",
              "      <td>17</td>\n",
              "      <td>334.40</td>\n",
              "    </tr>\n",
              "  </tbody>\n",
              "</table>\n",
              "</div>"
            ],
            "text/plain": [
              "            Start_Month  Frequency  TotalSales\n",
              "CustomerID                                    \n",
              "12346.0               1          1    77183.60\n",
              "12347.0              12        182     4310.00\n",
              "12348.0              12         31     1797.24\n",
              "12349.0              11         73     1757.55\n",
              "12350.0               2         17      334.40"
            ]
          },
          "metadata": {
            "tags": []
          },
          "execution_count": 33
        }
      ]
    },
    {
      "cell_type": "code",
      "metadata": {
        "id": "N-TAsQBv_IbU"
      },
      "source": [
        "# Calculating CLV for each cohort\n",
        "months = ['Jan', 'Feb', 'March', 'Apr', 'May', 'Jun', 'Jul', 'Aug', 'Sep', 'Oct', 'Nov', 'Dec']\n",
        "Monthly_CLV = []\n",
        "\n",
        "for i in range(1, 13):\n",
        "    customer_m = customer[customer['Start_Month']==i]\n",
        "    \n",
        "    Average_sales = round(np.mean(customer_m['TotalSales']),2)\n",
        "    \n",
        "    Purchase_freq = round(np.mean(customer_m['Frequency']), 2)\n",
        "    \n",
        "    Retention_rate = customer_m[customer_m['Frequency']>1].shape[0]/customer_m.shape[0]\n",
        "    churn = round(1 - Retention_rate, 2)\n",
        "    \n",
        "    CLV = round(((Average_sales * Purchase_freq/churn)) * Profit_margin, 2)\n",
        "    \n",
        "    Monthly_CLV.append(CLV)\n"
      ],
      "execution_count": 34,
      "outputs": []
    },
    {
      "cell_type": "code",
      "metadata": {
        "id": "jodF5tMOAZ4H",
        "outputId": "733d4ffa-fb20-4c43-bd04-ceccc6746f25",
        "colab": {
          "base_uri": "https://localhost:8080/",
          "height": 292
        }
      },
      "source": [
        "monthly_clv = pd.DataFrame(zip(months, Monthly_CLV), columns=['Months', 'CLV'])\n",
        "display(monthly_clv.style.background_gradient())"
      ],
      "execution_count": 35,
      "outputs": [
        {
          "output_type": "display_data",
          "data": {
            "text/html": [
              "<style  type=\"text/css\" >\n",
              "#T_099f423a_1ae7_11eb_ab31_0242ac1c0002row0_col1{\n",
              "            background-color:  #b3c3de;\n",
              "            color:  #000000;\n",
              "        }#T_099f423a_1ae7_11eb_ab31_0242ac1c0002row1_col1{\n",
              "            background-color:  #f6eff7;\n",
              "            color:  #000000;\n",
              "        }#T_099f423a_1ae7_11eb_ab31_0242ac1c0002row2_col1{\n",
              "            background-color:  #eee9f3;\n",
              "            color:  #000000;\n",
              "        }#T_099f423a_1ae7_11eb_ab31_0242ac1c0002row3_col1{\n",
              "            background-color:  #f5eef6;\n",
              "            color:  #000000;\n",
              "        }#T_099f423a_1ae7_11eb_ab31_0242ac1c0002row4_col1,#T_099f423a_1ae7_11eb_ab31_0242ac1c0002row7_col1,#T_099f423a_1ae7_11eb_ab31_0242ac1c0002row9_col1{\n",
              "            background-color:  #fcf4fa;\n",
              "            color:  #000000;\n",
              "        }#T_099f423a_1ae7_11eb_ab31_0242ac1c0002row5_col1{\n",
              "            background-color:  #f5eff6;\n",
              "            color:  #000000;\n",
              "        }#T_099f423a_1ae7_11eb_ab31_0242ac1c0002row6_col1{\n",
              "            background-color:  #fef6fb;\n",
              "            color:  #000000;\n",
              "        }#T_099f423a_1ae7_11eb_ab31_0242ac1c0002row8_col1{\n",
              "            background-color:  #faf3f9;\n",
              "            color:  #000000;\n",
              "        }#T_099f423a_1ae7_11eb_ab31_0242ac1c0002row10_col1{\n",
              "            background-color:  #fff7fb;\n",
              "            color:  #000000;\n",
              "        }#T_099f423a_1ae7_11eb_ab31_0242ac1c0002row11_col1{\n",
              "            background-color:  #023858;\n",
              "            color:  #f1f1f1;\n",
              "        }</style><table id=\"T_099f423a_1ae7_11eb_ab31_0242ac1c0002\" ><thead>    <tr>        <th class=\"blank level0\" ></th>        <th class=\"col_heading level0 col0\" >Months</th>        <th class=\"col_heading level0 col1\" >CLV</th>    </tr></thead><tbody>\n",
              "                <tr>\n",
              "                        <th id=\"T_099f423a_1ae7_11eb_ab31_0242ac1c0002level0_row0\" class=\"row_heading level0 row0\" >0</th>\n",
              "                        <td id=\"T_099f423a_1ae7_11eb_ab31_0242ac1c0002row0_col0\" class=\"data row0 col0\" >Jan</td>\n",
              "                        <td id=\"T_099f423a_1ae7_11eb_ab31_0242ac1c0002row0_col1\" class=\"data row0 col1\" >1546537.090000</td>\n",
              "            </tr>\n",
              "            <tr>\n",
              "                        <th id=\"T_099f423a_1ae7_11eb_ab31_0242ac1c0002level0_row1\" class=\"row_heading level0 row1\" >1</th>\n",
              "                        <td id=\"T_099f423a_1ae7_11eb_ab31_0242ac1c0002row1_col0\" class=\"data row1 col0\" >Feb</td>\n",
              "                        <td id=\"T_099f423a_1ae7_11eb_ab31_0242ac1c0002row1_col1\" class=\"data row1 col1\" >313073.920000</td>\n",
              "            </tr>\n",
              "            <tr>\n",
              "                        <th id=\"T_099f423a_1ae7_11eb_ab31_0242ac1c0002level0_row2\" class=\"row_heading level0 row2\" >2</th>\n",
              "                        <td id=\"T_099f423a_1ae7_11eb_ab31_0242ac1c0002row2_col0\" class=\"data row2 col0\" >March</td>\n",
              "                        <td id=\"T_099f423a_1ae7_11eb_ab31_0242ac1c0002row2_col1\" class=\"data row2 col1\" >539933.180000</td>\n",
              "            </tr>\n",
              "            <tr>\n",
              "                        <th id=\"T_099f423a_1ae7_11eb_ab31_0242ac1c0002level0_row3\" class=\"row_heading level0 row3\" >3</th>\n",
              "                        <td id=\"T_099f423a_1ae7_11eb_ab31_0242ac1c0002row3_col0\" class=\"data row3 col0\" >Apr</td>\n",
              "                        <td id=\"T_099f423a_1ae7_11eb_ab31_0242ac1c0002row3_col1\" class=\"data row3 col1\" >349213.350000</td>\n",
              "            </tr>\n",
              "            <tr>\n",
              "                        <th id=\"T_099f423a_1ae7_11eb_ab31_0242ac1c0002level0_row4\" class=\"row_heading level0 row4\" >4</th>\n",
              "                        <td id=\"T_099f423a_1ae7_11eb_ab31_0242ac1c0002row4_col0\" class=\"data row4 col0\" >May</td>\n",
              "                        <td id=\"T_099f423a_1ae7_11eb_ab31_0242ac1c0002row4_col1\" class=\"data row4 col1\" >147597.490000</td>\n",
              "            </tr>\n",
              "            <tr>\n",
              "                        <th id=\"T_099f423a_1ae7_11eb_ab31_0242ac1c0002level0_row5\" class=\"row_heading level0 row5\" >5</th>\n",
              "                        <td id=\"T_099f423a_1ae7_11eb_ab31_0242ac1c0002row5_col0\" class=\"data row5 col0\" >Jun</td>\n",
              "                        <td id=\"T_099f423a_1ae7_11eb_ab31_0242ac1c0002row5_col1\" class=\"data row5 col1\" >323795.770000</td>\n",
              "            </tr>\n",
              "            <tr>\n",
              "                        <th id=\"T_099f423a_1ae7_11eb_ab31_0242ac1c0002level0_row6\" class=\"row_heading level0 row6\" >6</th>\n",
              "                        <td id=\"T_099f423a_1ae7_11eb_ab31_0242ac1c0002row6_col0\" class=\"data row6 col0\" >Jul</td>\n",
              "                        <td id=\"T_099f423a_1ae7_11eb_ab31_0242ac1c0002row6_col1\" class=\"data row6 col1\" >71760.420000</td>\n",
              "            </tr>\n",
              "            <tr>\n",
              "                        <th id=\"T_099f423a_1ae7_11eb_ab31_0242ac1c0002level0_row7\" class=\"row_heading level0 row7\" >7</th>\n",
              "                        <td id=\"T_099f423a_1ae7_11eb_ab31_0242ac1c0002row7_col0\" class=\"data row7 col0\" >Aug</td>\n",
              "                        <td id=\"T_099f423a_1ae7_11eb_ab31_0242ac1c0002row7_col1\" class=\"data row7 col1\" >148834.420000</td>\n",
              "            </tr>\n",
              "            <tr>\n",
              "                        <th id=\"T_099f423a_1ae7_11eb_ab31_0242ac1c0002level0_row8\" class=\"row_heading level0 row8\" >8</th>\n",
              "                        <td id=\"T_099f423a_1ae7_11eb_ab31_0242ac1c0002row8_col0\" class=\"data row8 col0\" >Sep</td>\n",
              "                        <td id=\"T_099f423a_1ae7_11eb_ab31_0242ac1c0002row8_col1\" class=\"data row8 col1\" >185155.700000</td>\n",
              "            </tr>\n",
              "            <tr>\n",
              "                        <th id=\"T_099f423a_1ae7_11eb_ab31_0242ac1c0002level0_row9\" class=\"row_heading level0 row9\" >9</th>\n",
              "                        <td id=\"T_099f423a_1ae7_11eb_ab31_0242ac1c0002row9_col0\" class=\"data row9 col0\" >Oct</td>\n",
              "                        <td id=\"T_099f423a_1ae7_11eb_ab31_0242ac1c0002row9_col1\" class=\"data row9 col1\" >144042.950000</td>\n",
              "            </tr>\n",
              "            <tr>\n",
              "                        <th id=\"T_099f423a_1ae7_11eb_ab31_0242ac1c0002level0_row10\" class=\"row_heading level0 row10\" >10</th>\n",
              "                        <td id=\"T_099f423a_1ae7_11eb_ab31_0242ac1c0002row10_col0\" class=\"data row10 col0\" >Nov</td>\n",
              "                        <td id=\"T_099f423a_1ae7_11eb_ab31_0242ac1c0002row10_col1\" class=\"data row10 col1\" >44869.790000</td>\n",
              "            </tr>\n",
              "            <tr>\n",
              "                        <th id=\"T_099f423a_1ae7_11eb_ab31_0242ac1c0002level0_row11\" class=\"row_heading level0 row11\" >11</th>\n",
              "                        <td id=\"T_099f423a_1ae7_11eb_ab31_0242ac1c0002row11_col0\" class=\"data row11 col0\" >Dec</td>\n",
              "                        <td id=\"T_099f423a_1ae7_11eb_ab31_0242ac1c0002row11_col1\" class=\"data row11 col1\" >4507588.120000</td>\n",
              "            </tr>\n",
              "    </tbody></table>"
            ],
            "text/plain": [
              "<pandas.io.formats.style.Styler at 0x7fbbbd972860>"
            ]
          },
          "metadata": {
            "tags": []
          }
        }
      ]
    },
    {
      "cell_type": "code",
      "metadata": {
        "id": "AJ0XIqdBAcp1",
        "outputId": "6caeb5f8-107e-486d-f8da-18089af5c67b",
        "colab": {
          "base_uri": "https://localhost:8080/"
        }
      },
      "source": [
        "!pip install lifetimes\n",
        "# Importing the lifetimes package\n",
        "import lifetimes"
      ],
      "execution_count": 37,
      "outputs": [
        {
          "output_type": "stream",
          "text": [
            "Collecting lifetimes\n",
            "\u001b[?25l  Downloading https://files.pythonhosted.org/packages/c5/1f/ee6a471dcb5cb2f4dbc219023e07991f3b917875f9c8a5f5d77c00ddabca/Lifetimes-0.11.3-py3-none-any.whl (584kB)\n",
            "\r\u001b[K     |▋                               | 10kB 17.5MB/s eta 0:00:01\r\u001b[K     |█▏                              | 20kB 3.6MB/s eta 0:00:01\r\u001b[K     |█▊                              | 30kB 4.4MB/s eta 0:00:01\r\u001b[K     |██▎                             | 40kB 4.9MB/s eta 0:00:01\r\u001b[K     |██▉                             | 51kB 3.9MB/s eta 0:00:01\r\u001b[K     |███▍                            | 61kB 4.6MB/s eta 0:00:01\r\u001b[K     |████                            | 71kB 4.8MB/s eta 0:00:01\r\u001b[K     |████▌                           | 81kB 5.2MB/s eta 0:00:01\r\u001b[K     |█████                           | 92kB 5.6MB/s eta 0:00:01\r\u001b[K     |█████▋                          | 102kB 5.3MB/s eta 0:00:01\r\u001b[K     |██████▏                         | 112kB 5.3MB/s eta 0:00:01\r\u001b[K     |██████▊                         | 122kB 5.3MB/s eta 0:00:01\r\u001b[K     |███████▎                        | 133kB 5.3MB/s eta 0:00:01\r\u001b[K     |███████▉                        | 143kB 5.3MB/s eta 0:00:01\r\u001b[K     |████████▍                       | 153kB 5.3MB/s eta 0:00:01\r\u001b[K     |█████████                       | 163kB 5.3MB/s eta 0:00:01\r\u001b[K     |█████████▌                      | 174kB 5.3MB/s eta 0:00:01\r\u001b[K     |██████████                      | 184kB 5.3MB/s eta 0:00:01\r\u001b[K     |██████████▋                     | 194kB 5.3MB/s eta 0:00:01\r\u001b[K     |███████████▏                    | 204kB 5.3MB/s eta 0:00:01\r\u001b[K     |███████████▉                    | 215kB 5.3MB/s eta 0:00:01\r\u001b[K     |████████████▍                   | 225kB 5.3MB/s eta 0:00:01\r\u001b[K     |█████████████                   | 235kB 5.3MB/s eta 0:00:01\r\u001b[K     |█████████████▌                  | 245kB 5.3MB/s eta 0:00:01\r\u001b[K     |██████████████                  | 256kB 5.3MB/s eta 0:00:01\r\u001b[K     |██████████████▋                 | 266kB 5.3MB/s eta 0:00:01\r\u001b[K     |███████████████▏                | 276kB 5.3MB/s eta 0:00:01\r\u001b[K     |███████████████▊                | 286kB 5.3MB/s eta 0:00:01\r\u001b[K     |████████████████▎               | 296kB 5.3MB/s eta 0:00:01\r\u001b[K     |████████████████▉               | 307kB 5.3MB/s eta 0:00:01\r\u001b[K     |█████████████████▍              | 317kB 5.3MB/s eta 0:00:01\r\u001b[K     |██████████████████              | 327kB 5.3MB/s eta 0:00:01\r\u001b[K     |██████████████████▌             | 337kB 5.3MB/s eta 0:00:01\r\u001b[K     |███████████████████             | 348kB 5.3MB/s eta 0:00:01\r\u001b[K     |███████████████████▋            | 358kB 5.3MB/s eta 0:00:01\r\u001b[K     |████████████████████▏           | 368kB 5.3MB/s eta 0:00:01\r\u001b[K     |████████████████████▊           | 378kB 5.3MB/s eta 0:00:01\r\u001b[K     |█████████████████████▎          | 389kB 5.3MB/s eta 0:00:01\r\u001b[K     |█████████████████████▉          | 399kB 5.3MB/s eta 0:00:01\r\u001b[K     |██████████████████████▍         | 409kB 5.3MB/s eta 0:00:01\r\u001b[K     |███████████████████████         | 419kB 5.3MB/s eta 0:00:01\r\u001b[K     |███████████████████████▋        | 430kB 5.3MB/s eta 0:00:01\r\u001b[K     |████████████████████████▏       | 440kB 5.3MB/s eta 0:00:01\r\u001b[K     |████████████████████████▊       | 450kB 5.3MB/s eta 0:00:01\r\u001b[K     |█████████████████████████▎      | 460kB 5.3MB/s eta 0:00:01\r\u001b[K     |█████████████████████████▉      | 471kB 5.3MB/s eta 0:00:01\r\u001b[K     |██████████████████████████▍     | 481kB 5.3MB/s eta 0:00:01\r\u001b[K     |███████████████████████████     | 491kB 5.3MB/s eta 0:00:01\r\u001b[K     |███████████████████████████▌    | 501kB 5.3MB/s eta 0:00:01\r\u001b[K     |████████████████████████████    | 512kB 5.3MB/s eta 0:00:01\r\u001b[K     |████████████████████████████▋   | 522kB 5.3MB/s eta 0:00:01\r\u001b[K     |█████████████████████████████▏  | 532kB 5.3MB/s eta 0:00:01\r\u001b[K     |█████████████████████████████▊  | 542kB 5.3MB/s eta 0:00:01\r\u001b[K     |██████████████████████████████▎ | 552kB 5.3MB/s eta 0:00:01\r\u001b[K     |██████████████████████████████▉ | 563kB 5.3MB/s eta 0:00:01\r\u001b[K     |███████████████████████████████▍| 573kB 5.3MB/s eta 0:00:01\r\u001b[K     |████████████████████████████████| 583kB 5.3MB/s eta 0:00:01\r\u001b[K     |████████████████████████████████| 593kB 5.3MB/s \n",
            "\u001b[?25hRequirement already satisfied: numpy>=1.10.0 in /usr/local/lib/python3.6/dist-packages (from lifetimes) (1.18.5)\n",
            "Requirement already satisfied: autograd>=1.2.0 in /usr/local/lib/python3.6/dist-packages (from lifetimes) (1.3)\n",
            "Requirement already satisfied: pandas>=0.24.0 in /usr/local/lib/python3.6/dist-packages (from lifetimes) (1.1.3)\n",
            "Requirement already satisfied: dill>=0.2.6 in /usr/local/lib/python3.6/dist-packages (from lifetimes) (0.3.2)\n",
            "Requirement already satisfied: scipy>=1.0.0 in /usr/local/lib/python3.6/dist-packages (from lifetimes) (1.4.1)\n",
            "Requirement already satisfied: future>=0.15.2 in /usr/local/lib/python3.6/dist-packages (from autograd>=1.2.0->lifetimes) (0.16.0)\n",
            "Requirement already satisfied: pytz>=2017.2 in /usr/local/lib/python3.6/dist-packages (from pandas>=0.24.0->lifetimes) (2018.9)\n",
            "Requirement already satisfied: python-dateutil>=2.7.3 in /usr/local/lib/python3.6/dist-packages (from pandas>=0.24.0->lifetimes) (2.8.1)\n",
            "Requirement already satisfied: six>=1.5 in /usr/local/lib/python3.6/dist-packages (from python-dateutil>=2.7.3->pandas>=0.24.0->lifetimes) (1.15.0)\n",
            "Installing collected packages: lifetimes\n",
            "Successfully installed lifetimes-0.11.3\n"
          ],
          "name": "stdout"
        }
      ]
    },
    {
      "cell_type": "code",
      "metadata": {
        "id": "6NyB2iMtAi8I",
        "outputId": "9eee0cda-496b-4ec1-9fbe-e43834449f6a",
        "colab": {
          "base_uri": "https://localhost:8080/",
          "height": 204
        }
      },
      "source": [
        "# Creating the summary data using summary_data_from_transaction_data function\n",
        "summary = lifetimes.utils.summary_data_from_transaction_data(data_clv, 'CustomerID', 'InvoiceDate', 'TotalSales' )\n",
        "summary = summary.reset_index()\n",
        "summary.head()"
      ],
      "execution_count": 38,
      "outputs": [
        {
          "output_type": "execute_result",
          "data": {
            "text/html": [
              "<div>\n",
              "<style scoped>\n",
              "    .dataframe tbody tr th:only-of-type {\n",
              "        vertical-align: middle;\n",
              "    }\n",
              "\n",
              "    .dataframe tbody tr th {\n",
              "        vertical-align: top;\n",
              "    }\n",
              "\n",
              "    .dataframe thead th {\n",
              "        text-align: right;\n",
              "    }\n",
              "</style>\n",
              "<table border=\"1\" class=\"dataframe\">\n",
              "  <thead>\n",
              "    <tr style=\"text-align: right;\">\n",
              "      <th></th>\n",
              "      <th>CustomerID</th>\n",
              "      <th>frequency</th>\n",
              "      <th>recency</th>\n",
              "      <th>T</th>\n",
              "      <th>monetary_value</th>\n",
              "    </tr>\n",
              "  </thead>\n",
              "  <tbody>\n",
              "    <tr>\n",
              "      <th>0</th>\n",
              "      <td>12346.0</td>\n",
              "      <td>0.0</td>\n",
              "      <td>0.0</td>\n",
              "      <td>325.0</td>\n",
              "      <td>0.000000</td>\n",
              "    </tr>\n",
              "    <tr>\n",
              "      <th>1</th>\n",
              "      <td>12347.0</td>\n",
              "      <td>6.0</td>\n",
              "      <td>365.0</td>\n",
              "      <td>367.0</td>\n",
              "      <td>599.701667</td>\n",
              "    </tr>\n",
              "    <tr>\n",
              "      <th>2</th>\n",
              "      <td>12348.0</td>\n",
              "      <td>3.0</td>\n",
              "      <td>283.0</td>\n",
              "      <td>358.0</td>\n",
              "      <td>301.480000</td>\n",
              "    </tr>\n",
              "    <tr>\n",
              "      <th>3</th>\n",
              "      <td>12349.0</td>\n",
              "      <td>0.0</td>\n",
              "      <td>0.0</td>\n",
              "      <td>18.0</td>\n",
              "      <td>0.000000</td>\n",
              "    </tr>\n",
              "    <tr>\n",
              "      <th>4</th>\n",
              "      <td>12350.0</td>\n",
              "      <td>0.0</td>\n",
              "      <td>0.0</td>\n",
              "      <td>310.0</td>\n",
              "      <td>0.000000</td>\n",
              "    </tr>\n",
              "  </tbody>\n",
              "</table>\n",
              "</div>"
            ],
            "text/plain": [
              "   CustomerID  frequency  recency      T  monetary_value\n",
              "0     12346.0        0.0      0.0  325.0        0.000000\n",
              "1     12347.0        6.0    365.0  367.0      599.701667\n",
              "2     12348.0        3.0    283.0  358.0      301.480000\n",
              "3     12349.0        0.0      0.0   18.0        0.000000\n",
              "4     12350.0        0.0      0.0  310.0        0.000000"
            ]
          },
          "metadata": {
            "tags": []
          },
          "execution_count": 38
        }
      ]
    },
    {
      "cell_type": "code",
      "metadata": {
        "id": "gaOB6eqBAsnA",
        "outputId": "e4ac2d16-826d-4412-b253-c26d87f72d16",
        "colab": {
          "base_uri": "https://localhost:8080/",
          "height": 455
        }
      },
      "source": [
        "# Create a distribution of frequency to understand the customer frequence level\n",
        "summary['frequency'].plot(kind='hist', bins=50)\n",
        "print(summary['frequency'].describe())\n",
        "print(\"---------------------------------------\")\n",
        "one_time_buyers = round(sum(summary['frequency'] == 0)/float(len(summary))*(100),2)\n",
        "print(\"Percentage of customers purchase the item only once:\", one_time_buyers ,\"%\")"
      ],
      "execution_count": 39,
      "outputs": [
        {
          "output_type": "stream",
          "text": [
            "count    4338.000000\n",
            "mean        2.864223\n",
            "std         5.949000\n",
            "min         0.000000\n",
            "25%         0.000000\n",
            "50%         1.000000\n",
            "75%         3.000000\n",
            "max       131.000000\n",
            "Name: frequency, dtype: float64\n",
            "---------------------------------------\n",
            "Percentage of customers purchase the item only once: 35.68 %\n"
          ],
          "name": "stdout"
        },
        {
          "output_type": "display_data",
          "data": {
            "image/png": "[encoded data removed]",
            "text/plain": [
              "<Figure size 432x288 with 1 Axes>"
            ]
          },
          "metadata": {
            "tags": []
          }
        }
      ]
    },
    {
      "cell_type": "code",
      "metadata": {
        "id": "lwWREN9tAxBQ",
        "outputId": "69d1d97e-718c-42ab-ad01-dc3054555680",
        "colab": {
          "base_uri": "https://localhost:8080/"
        }
      },
      "source": [
        "# Fitting the BG/NBD model\n",
        "bgf = lifetimes.BetaGeoFitter(penalizer_coef=0.0)\n",
        "bgf.fit(summary['frequency'], summary['recency'], summary['T'])"
      ],
      "execution_count": 40,
      "outputs": [
        {
          "output_type": "execute_result",
          "data": {
            "text/plain": [
              "<lifetimes.BetaGeoFitter: fitted with 4338 subjects, a: 0.00, alpha: 68.91, b: 6.75, r: 0.83>"
            ]
          },
          "metadata": {
            "tags": []
          },
          "execution_count": 40
        }
      ]
    },
    {
      "cell_type": "code",
      "metadata": {
        "id": "dG1Bp1l-A0Ip",
        "outputId": "962ef26d-ae9c-4597-c98a-7084a136d2dc",
        "colab": {
          "base_uri": "https://localhost:8080/",
          "height": 359
        }
      },
      "source": [
        "# Compute the customer alive probability\n",
        "summary['probability_alive'] = bgf.conditional_probability_alive(summary['frequency'], summary['recency'], summary['T'])\n",
        "summary.head(10)"
      ],
      "execution_count": 41,
      "outputs": [
        {
          "output_type": "execute_result",
          "data": {
            "text/html": [
              "<div>\n",
              "<style scoped>\n",
              "    .dataframe tbody tr th:only-of-type {\n",
              "        vertical-align: middle;\n",
              "    }\n",
              "\n",
              "    .dataframe tbody tr th {\n",
              "        vertical-align: top;\n",
              "    }\n",
              "\n",
              "    .dataframe thead th {\n",
              "        text-align: right;\n",
              "    }\n",
              "</style>\n",
              "<table border=\"1\" class=\"dataframe\">\n",
              "  <thead>\n",
              "    <tr style=\"text-align: right;\">\n",
              "      <th></th>\n",
              "      <th>CustomerID</th>\n",
              "      <th>frequency</th>\n",
              "      <th>recency</th>\n",
              "      <th>T</th>\n",
              "      <th>monetary_value</th>\n",
              "      <th>probability_alive</th>\n",
              "    </tr>\n",
              "  </thead>\n",
              "  <tbody>\n",
              "    <tr>\n",
              "      <th>0</th>\n",
              "      <td>12346.0</td>\n",
              "      <td>0.0</td>\n",
              "      <td>0.0</td>\n",
              "      <td>325.0</td>\n",
              "      <td>0.000000</td>\n",
              "      <td>1.000000</td>\n",
              "    </tr>\n",
              "    <tr>\n",
              "      <th>1</th>\n",
              "      <td>12347.0</td>\n",
              "      <td>6.0</td>\n",
              "      <td>365.0</td>\n",
              "      <td>367.0</td>\n",
              "      <td>599.701667</td>\n",
              "      <td>0.999698</td>\n",
              "    </tr>\n",
              "    <tr>\n",
              "      <th>2</th>\n",
              "      <td>12348.0</td>\n",
              "      <td>3.0</td>\n",
              "      <td>283.0</td>\n",
              "      <td>358.0</td>\n",
              "      <td>301.480000</td>\n",
              "      <td>0.999177</td>\n",
              "    </tr>\n",
              "    <tr>\n",
              "      <th>3</th>\n",
              "      <td>12349.0</td>\n",
              "      <td>0.0</td>\n",
              "      <td>0.0</td>\n",
              "      <td>18.0</td>\n",
              "      <td>0.000000</td>\n",
              "      <td>1.000000</td>\n",
              "    </tr>\n",
              "    <tr>\n",
              "      <th>4</th>\n",
              "      <td>12350.0</td>\n",
              "      <td>0.0</td>\n",
              "      <td>0.0</td>\n",
              "      <td>310.0</td>\n",
              "      <td>0.000000</td>\n",
              "      <td>1.000000</td>\n",
              "    </tr>\n",
              "    <tr>\n",
              "      <th>5</th>\n",
              "      <td>12352.0</td>\n",
              "      <td>6.0</td>\n",
              "      <td>260.0</td>\n",
              "      <td>296.0</td>\n",
              "      <td>368.256667</td>\n",
              "      <td>0.999406</td>\n",
              "    </tr>\n",
              "    <tr>\n",
              "      <th>6</th>\n",
              "      <td>12353.0</td>\n",
              "      <td>0.0</td>\n",
              "      <td>0.0</td>\n",
              "      <td>204.0</td>\n",
              "      <td>0.000000</td>\n",
              "      <td>1.000000</td>\n",
              "    </tr>\n",
              "    <tr>\n",
              "      <th>7</th>\n",
              "      <td>12354.0</td>\n",
              "      <td>0.0</td>\n",
              "      <td>0.0</td>\n",
              "      <td>232.0</td>\n",
              "      <td>0.000000</td>\n",
              "      <td>1.000000</td>\n",
              "    </tr>\n",
              "    <tr>\n",
              "      <th>8</th>\n",
              "      <td>12355.0</td>\n",
              "      <td>0.0</td>\n",
              "      <td>0.0</td>\n",
              "      <td>214.0</td>\n",
              "      <td>0.000000</td>\n",
              "      <td>1.000000</td>\n",
              "    </tr>\n",
              "    <tr>\n",
              "      <th>9</th>\n",
              "      <td>12356.0</td>\n",
              "      <td>2.0</td>\n",
              "      <td>303.0</td>\n",
              "      <td>325.0</td>\n",
              "      <td>269.905000</td>\n",
              "      <td>0.999478</td>\n",
              "    </tr>\n",
              "  </tbody>\n",
              "</table>\n",
              "</div>"
            ],
            "text/plain": [
              "   CustomerID  frequency  recency      T  monetary_value  probability_alive\n",
              "0     12346.0        0.0      0.0  325.0        0.000000           1.000000\n",
              "1     12347.0        6.0    365.0  367.0      599.701667           0.999698\n",
              "2     12348.0        3.0    283.0  358.0      301.480000           0.999177\n",
              "3     12349.0        0.0      0.0   18.0        0.000000           1.000000\n",
              "4     12350.0        0.0      0.0  310.0        0.000000           1.000000\n",
              "5     12352.0        6.0    260.0  296.0      368.256667           0.999406\n",
              "6     12353.0        0.0      0.0  204.0        0.000000           1.000000\n",
              "7     12354.0        0.0      0.0  232.0        0.000000           1.000000\n",
              "8     12355.0        0.0      0.0  214.0        0.000000           1.000000\n",
              "9     12356.0        2.0    303.0  325.0      269.905000           0.999478"
            ]
          },
          "metadata": {
            "tags": []
          },
          "execution_count": 41
        }
      ]
    },
    {
      "cell_type": "code",
      "metadata": {
        "id": "Ti6O0E5SA3Hy",
        "outputId": "537c7f0a-37af-45da-c4aa-a99cbb3c88b1",
        "colab": {
          "base_uri": "https://localhost:8080/",
          "height": 359
        }
      },
      "source": [
        "#Predict future transaction for the next 30 days based on historical dataa\n",
        "t = 30\n",
        "summary['pred_num_txn'] = round(bgf.conditional_expected_number_of_purchases_up_to_time(t, summary['frequency'], summary['recency'], summary['T']),2)\n",
        "summary.sort_values(by='pred_num_txn', ascending=False).head(10).reset_index()"
      ],
      "execution_count": 42,
      "outputs": [
        {
          "output_type": "execute_result",
          "data": {
            "text/html": [
              "<div>\n",
              "<style scoped>\n",
              "    .dataframe tbody tr th:only-of-type {\n",
              "        vertical-align: middle;\n",
              "    }\n",
              "\n",
              "    .dataframe tbody tr th {\n",
              "        vertical-align: top;\n",
              "    }\n",
              "\n",
              "    .dataframe thead th {\n",
              "        text-align: right;\n",
              "    }\n",
              "</style>\n",
              "<table border=\"1\" class=\"dataframe\">\n",
              "  <thead>\n",
              "    <tr style=\"text-align: right;\">\n",
              "      <th></th>\n",
              "      <th>index</th>\n",
              "      <th>CustomerID</th>\n",
              "      <th>frequency</th>\n",
              "      <th>recency</th>\n",
              "      <th>T</th>\n",
              "      <th>monetary_value</th>\n",
              "      <th>probability_alive</th>\n",
              "      <th>pred_num_txn</th>\n",
              "    </tr>\n",
              "  </thead>\n",
              "  <tbody>\n",
              "    <tr>\n",
              "      <th>0</th>\n",
              "      <td>1879</td>\n",
              "      <td>14911.0</td>\n",
              "      <td>131.0</td>\n",
              "      <td>372.0</td>\n",
              "      <td>373.0</td>\n",
              "      <td>1093.661679</td>\n",
              "      <td>0.999966</td>\n",
              "      <td>8.95</td>\n",
              "    </tr>\n",
              "    <tr>\n",
              "      <th>1</th>\n",
              "      <td>326</td>\n",
              "      <td>12748.0</td>\n",
              "      <td>112.0</td>\n",
              "      <td>373.0</td>\n",
              "      <td>373.0</td>\n",
              "      <td>301.024821</td>\n",
              "      <td>0.999971</td>\n",
              "      <td>7.66</td>\n",
              "    </tr>\n",
              "    <tr>\n",
              "      <th>2</th>\n",
              "      <td>4010</td>\n",
              "      <td>17841.0</td>\n",
              "      <td>111.0</td>\n",
              "      <td>372.0</td>\n",
              "      <td>373.0</td>\n",
              "      <td>364.452162</td>\n",
              "      <td>0.999962</td>\n",
              "      <td>7.59</td>\n",
              "    </tr>\n",
              "    <tr>\n",
              "      <th>3</th>\n",
              "      <td>2176</td>\n",
              "      <td>15311.0</td>\n",
              "      <td>89.0</td>\n",
              "      <td>373.0</td>\n",
              "      <td>373.0</td>\n",
              "      <td>677.729438</td>\n",
              "      <td>0.999964</td>\n",
              "      <td>6.10</td>\n",
              "    </tr>\n",
              "    <tr>\n",
              "      <th>4</th>\n",
              "      <td>1661</td>\n",
              "      <td>14606.0</td>\n",
              "      <td>88.0</td>\n",
              "      <td>372.0</td>\n",
              "      <td>373.0</td>\n",
              "      <td>135.890114</td>\n",
              "      <td>0.999955</td>\n",
              "      <td>6.03</td>\n",
              "    </tr>\n",
              "    <tr>\n",
              "      <th>5</th>\n",
              "      <td>481</td>\n",
              "      <td>12971.0</td>\n",
              "      <td>70.0</td>\n",
              "      <td>369.0</td>\n",
              "      <td>372.0</td>\n",
              "      <td>159.211286</td>\n",
              "      <td>0.999926</td>\n",
              "      <td>4.82</td>\n",
              "    </tr>\n",
              "    <tr>\n",
              "      <th>6</th>\n",
              "      <td>562</td>\n",
              "      <td>13089.0</td>\n",
              "      <td>65.0</td>\n",
              "      <td>367.0</td>\n",
              "      <td>369.0</td>\n",
              "      <td>893.714308</td>\n",
              "      <td>0.999934</td>\n",
              "      <td>4.51</td>\n",
              "    </tr>\n",
              "    <tr>\n",
              "      <th>7</th>\n",
              "      <td>1602</td>\n",
              "      <td>14527.0</td>\n",
              "      <td>53.0</td>\n",
              "      <td>367.0</td>\n",
              "      <td>369.0</td>\n",
              "      <td>155.016415</td>\n",
              "      <td>0.999925</td>\n",
              "      <td>3.69</td>\n",
              "    </tr>\n",
              "    <tr>\n",
              "      <th>8</th>\n",
              "      <td>1069</td>\n",
              "      <td>13798.0</td>\n",
              "      <td>52.0</td>\n",
              "      <td>371.0</td>\n",
              "      <td>372.0</td>\n",
              "      <td>706.650962</td>\n",
              "      <td>0.999933</td>\n",
              "      <td>3.59</td>\n",
              "    </tr>\n",
              "    <tr>\n",
              "      <th>9</th>\n",
              "      <td>2990</td>\n",
              "      <td>16422.0</td>\n",
              "      <td>47.0</td>\n",
              "      <td>352.0</td>\n",
              "      <td>369.0</td>\n",
              "      <td>702.472340</td>\n",
              "      <td>0.999567</td>\n",
              "      <td>3.27</td>\n",
              "    </tr>\n",
              "  </tbody>\n",
              "</table>\n",
              "</div>"
            ],
            "text/plain": [
              "   index  CustomerID  ...  probability_alive  pred_num_txn\n",
              "0   1879     14911.0  ...           0.999966          8.95\n",
              "1    326     12748.0  ...           0.999971          7.66\n",
              "2   4010     17841.0  ...           0.999962          7.59\n",
              "3   2176     15311.0  ...           0.999964          6.10\n",
              "4   1661     14606.0  ...           0.999955          6.03\n",
              "5    481     12971.0  ...           0.999926          4.82\n",
              "6    562     13089.0  ...           0.999934          4.51\n",
              "7   1602     14527.0  ...           0.999925          3.69\n",
              "8   1069     13798.0  ...           0.999933          3.59\n",
              "9   2990     16422.0  ...           0.999567          3.27\n",
              "\n",
              "[10 rows x 8 columns]"
            ]
          },
          "metadata": {
            "tags": []
          },
          "execution_count": 42
        }
      ]
    },
    {
      "cell_type": "code",
      "metadata": {
        "id": "5cZTpfJlA9_j",
        "outputId": "b60a467d-c508-4961-b670-c78022974155",
        "colab": {
          "base_uri": "https://localhost:8080/",
          "height": 221
        }
      },
      "source": [
        "# Checking the relationship between frequency and monetary_value\n",
        "return_customers_summary = summary[summary['frequency']>0]\n",
        "print(return_customers_summary.shape)\n",
        "return_customers_summary.head()"
      ],
      "execution_count": 43,
      "outputs": [
        {
          "output_type": "stream",
          "text": [
            "(2790, 7)\n"
          ],
          "name": "stdout"
        },
        {
          "output_type": "execute_result",
          "data": {
            "text/html": [
              "<div>\n",
              "<style scoped>\n",
              "    .dataframe tbody tr th:only-of-type {\n",
              "        vertical-align: middle;\n",
              "    }\n",
              "\n",
              "    .dataframe tbody tr th {\n",
              "        vertical-align: top;\n",
              "    }\n",
              "\n",
              "    .dataframe thead th {\n",
              "        text-align: right;\n",
              "    }\n",
              "</style>\n",
              "<table border=\"1\" class=\"dataframe\">\n",
              "  <thead>\n",
              "    <tr style=\"text-align: right;\">\n",
              "      <th></th>\n",
              "      <th>CustomerID</th>\n",
              "      <th>frequency</th>\n",
              "      <th>recency</th>\n",
              "      <th>T</th>\n",
              "      <th>monetary_value</th>\n",
              "      <th>probability_alive</th>\n",
              "      <th>pred_num_txn</th>\n",
              "    </tr>\n",
              "  </thead>\n",
              "  <tbody>\n",
              "    <tr>\n",
              "      <th>1</th>\n",
              "      <td>12347.0</td>\n",
              "      <td>6.0</td>\n",
              "      <td>365.0</td>\n",
              "      <td>367.0</td>\n",
              "      <td>599.701667</td>\n",
              "      <td>0.999698</td>\n",
              "      <td>0.47</td>\n",
              "    </tr>\n",
              "    <tr>\n",
              "      <th>2</th>\n",
              "      <td>12348.0</td>\n",
              "      <td>3.0</td>\n",
              "      <td>283.0</td>\n",
              "      <td>358.0</td>\n",
              "      <td>301.480000</td>\n",
              "      <td>0.999177</td>\n",
              "      <td>0.27</td>\n",
              "    </tr>\n",
              "    <tr>\n",
              "      <th>5</th>\n",
              "      <td>12352.0</td>\n",
              "      <td>6.0</td>\n",
              "      <td>260.0</td>\n",
              "      <td>296.0</td>\n",
              "      <td>368.256667</td>\n",
              "      <td>0.999406</td>\n",
              "      <td>0.56</td>\n",
              "    </tr>\n",
              "    <tr>\n",
              "      <th>9</th>\n",
              "      <td>12356.0</td>\n",
              "      <td>2.0</td>\n",
              "      <td>303.0</td>\n",
              "      <td>325.0</td>\n",
              "      <td>269.905000</td>\n",
              "      <td>0.999478</td>\n",
              "      <td>0.22</td>\n",
              "    </tr>\n",
              "    <tr>\n",
              "      <th>11</th>\n",
              "      <td>12358.0</td>\n",
              "      <td>1.0</td>\n",
              "      <td>149.0</td>\n",
              "      <td>150.0</td>\n",
              "      <td>683.200000</td>\n",
              "      <td>0.999486</td>\n",
              "      <td>0.25</td>\n",
              "    </tr>\n",
              "  </tbody>\n",
              "</table>\n",
              "</div>"
            ],
            "text/plain": [
              "    CustomerID  frequency  ...  probability_alive  pred_num_txn\n",
              "1      12347.0        6.0  ...           0.999698          0.47\n",
              "2      12348.0        3.0  ...           0.999177          0.27\n",
              "5      12352.0        6.0  ...           0.999406          0.56\n",
              "9      12356.0        2.0  ...           0.999478          0.22\n",
              "11     12358.0        1.0  ...           0.999486          0.25\n",
              "\n",
              "[5 rows x 7 columns]"
            ]
          },
          "metadata": {
            "tags": []
          },
          "execution_count": 43
        }
      ]
    },
    {
      "cell_type": "code",
      "metadata": {
        "id": "4UhpZFLIBC8W",
        "outputId": "9878c62d-b9b1-4701-b9dc-ae72c2ef02b1",
        "colab": {
          "base_uri": "https://localhost:8080/",
          "height": 111
        }
      },
      "source": [
        "# Checking the relationship between frequency and monetary_value\n",
        "return_customers_summary[['frequency', 'monetary_value']].corr()"
      ],
      "execution_count": 44,
      "outputs": [
        {
          "output_type": "execute_result",
          "data": {
            "text/html": [
              "<div>\n",
              "<style scoped>\n",
              "    .dataframe tbody tr th:only-of-type {\n",
              "        vertical-align: middle;\n",
              "    }\n",
              "\n",
              "    .dataframe tbody tr th {\n",
              "        vertical-align: top;\n",
              "    }\n",
              "\n",
              "    .dataframe thead th {\n",
              "        text-align: right;\n",
              "    }\n",
              "</style>\n",
              "<table border=\"1\" class=\"dataframe\">\n",
              "  <thead>\n",
              "    <tr style=\"text-align: right;\">\n",
              "      <th></th>\n",
              "      <th>frequency</th>\n",
              "      <th>monetary_value</th>\n",
              "    </tr>\n",
              "  </thead>\n",
              "  <tbody>\n",
              "    <tr>\n",
              "      <th>frequency</th>\n",
              "      <td>1.000000</td>\n",
              "      <td>0.015906</td>\n",
              "    </tr>\n",
              "    <tr>\n",
              "      <th>monetary_value</th>\n",
              "      <td>0.015906</td>\n",
              "      <td>1.000000</td>\n",
              "    </tr>\n",
              "  </tbody>\n",
              "</table>\n",
              "</div>"
            ],
            "text/plain": [
              "                frequency  monetary_value\n",
              "frequency        1.000000        0.015906\n",
              "monetary_value   0.015906        1.000000"
            ]
          },
          "metadata": {
            "tags": []
          },
          "execution_count": 44
        }
      ]
    },
    {
      "cell_type": "code",
      "metadata": {
        "id": "2dSsbl9oBFZZ",
        "outputId": "a7a930dd-84ea-4d70-d3e7-44befba397f0",
        "colab": {
          "base_uri": "https://localhost:8080/"
        }
      },
      "source": [
        "# Modeling the monetary value using Gamma-Gamma Model\n",
        "ggf = lifetimes.GammaGammaFitter(penalizer_coef=0.001)\n",
        "ggf.fit(return_customers_summary['frequency'],\n",
        "       return_customers_summary['monetary_value'])\n"
      ],
      "execution_count": 45,
      "outputs": [
        {
          "output_type": "execute_result",
          "data": {
            "text/plain": [
              "<lifetimes.GammaGammaFitter: fitted with 2790 subjects, p: 11.13, q: 0.84, v: 11.29>"
            ]
          },
          "metadata": {
            "tags": []
          },
          "execution_count": 45
        }
      ]
    },
    {
      "cell_type": "code",
      "metadata": {
        "id": "vRpes2H3BJAz",
        "outputId": "4bf0e92e-015a-4e71-8356-304dcdf24ed4",
        "colab": {
          "base_uri": "https://localhost:8080/",
          "height": 142
        }
      },
      "source": [
        "# Summary of the fitted parameters\n",
        "ggf.summary"
      ],
      "execution_count": 46,
      "outputs": [
        {
          "output_type": "execute_result",
          "data": {
            "text/html": [
              "<div>\n",
              "<style scoped>\n",
              "    .dataframe tbody tr th:only-of-type {\n",
              "        vertical-align: middle;\n",
              "    }\n",
              "\n",
              "    .dataframe tbody tr th {\n",
              "        vertical-align: top;\n",
              "    }\n",
              "\n",
              "    .dataframe thead th {\n",
              "        text-align: right;\n",
              "    }\n",
              "</style>\n",
              "<table border=\"1\" class=\"dataframe\">\n",
              "  <thead>\n",
              "    <tr style=\"text-align: right;\">\n",
              "      <th></th>\n",
              "      <th>coef</th>\n",
              "      <th>se(coef)</th>\n",
              "      <th>lower 95% bound</th>\n",
              "      <th>upper 95% bound</th>\n",
              "    </tr>\n",
              "  </thead>\n",
              "  <tbody>\n",
              "    <tr>\n",
              "      <th>p</th>\n",
              "      <td>11.125568</td>\n",
              "      <td>0.269274</td>\n",
              "      <td>10.597792</td>\n",
              "      <td>11.653344</td>\n",
              "    </tr>\n",
              "    <tr>\n",
              "      <th>q</th>\n",
              "      <td>0.838782</td>\n",
              "      <td>0.019731</td>\n",
              "      <td>0.800110</td>\n",
              "      <td>0.877455</td>\n",
              "    </tr>\n",
              "    <tr>\n",
              "      <th>v</th>\n",
              "      <td>11.292978</td>\n",
              "      <td>0.281539</td>\n",
              "      <td>10.741162</td>\n",
              "      <td>11.844795</td>\n",
              "    </tr>\n",
              "  </tbody>\n",
              "</table>\n",
              "</div>"
            ],
            "text/plain": [
              "        coef  se(coef)  lower 95% bound  upper 95% bound\n",
              "p  11.125568  0.269274        10.597792        11.653344\n",
              "q   0.838782  0.019731         0.800110         0.877455\n",
              "v  11.292978  0.281539        10.741162        11.844795"
            ]
          },
          "metadata": {
            "tags": []
          },
          "execution_count": 46
        }
      ]
    },
    {
      "cell_type": "code",
      "metadata": {
        "id": "yPpW6OXJBP1z",
        "outputId": "1a830379-1c11-43fa-bf82-93d4dfabf807",
        "colab": {
          "base_uri": "https://localhost:8080/",
          "height": 204
        }
      },
      "source": [
        "# Calculating the conditional expected average profit for each customer per transaction\n",
        "summary = summary[summary['monetary_value'] >0]\n",
        "summary['exp_avg_sales'] = ggf.conditional_expected_average_profit(summary['frequency'],\n",
        "                                       summary['monetary_value'])\n",
        "summary.head()"
      ],
      "execution_count": 47,
      "outputs": [
        {
          "output_type": "execute_result",
          "data": {
            "text/html": [
              "<div>\n",
              "<style scoped>\n",
              "    .dataframe tbody tr th:only-of-type {\n",
              "        vertical-align: middle;\n",
              "    }\n",
              "\n",
              "    .dataframe tbody tr th {\n",
              "        vertical-align: top;\n",
              "    }\n",
              "\n",
              "    .dataframe thead th {\n",
              "        text-align: right;\n",
              "    }\n",
              "</style>\n",
              "<table border=\"1\" class=\"dataframe\">\n",
              "  <thead>\n",
              "    <tr style=\"text-align: right;\">\n",
              "      <th></th>\n",
              "      <th>CustomerID</th>\n",
              "      <th>frequency</th>\n",
              "      <th>recency</th>\n",
              "      <th>T</th>\n",
              "      <th>monetary_value</th>\n",
              "      <th>probability_alive</th>\n",
              "      <th>pred_num_txn</th>\n",
              "      <th>exp_avg_sales</th>\n",
              "    </tr>\n",
              "  </thead>\n",
              "  <tbody>\n",
              "    <tr>\n",
              "      <th>1</th>\n",
              "      <td>12347.0</td>\n",
              "      <td>6.0</td>\n",
              "      <td>365.0</td>\n",
              "      <td>367.0</td>\n",
              "      <td>599.701667</td>\n",
              "      <td>0.999698</td>\n",
              "      <td>0.47</td>\n",
              "      <td>603.040247</td>\n",
              "    </tr>\n",
              "    <tr>\n",
              "      <th>2</th>\n",
              "      <td>12348.0</td>\n",
              "      <td>3.0</td>\n",
              "      <td>283.0</td>\n",
              "      <td>358.0</td>\n",
              "      <td>301.480000</td>\n",
              "      <td>0.999177</td>\n",
              "      <td>0.27</td>\n",
              "      <td>306.725889</td>\n",
              "    </tr>\n",
              "    <tr>\n",
              "      <th>5</th>\n",
              "      <td>12352.0</td>\n",
              "      <td>6.0</td>\n",
              "      <td>260.0</td>\n",
              "      <td>296.0</td>\n",
              "      <td>368.256667</td>\n",
              "      <td>0.999406</td>\n",
              "      <td>0.56</td>\n",
              "      <td>371.034926</td>\n",
              "    </tr>\n",
              "    <tr>\n",
              "      <th>9</th>\n",
              "      <td>12356.0</td>\n",
              "      <td>2.0</td>\n",
              "      <td>303.0</td>\n",
              "      <td>325.0</td>\n",
              "      <td>269.905000</td>\n",
              "      <td>0.999478</td>\n",
              "      <td>0.22</td>\n",
              "      <td>277.562534</td>\n",
              "    </tr>\n",
              "    <tr>\n",
              "      <th>11</th>\n",
              "      <td>12358.0</td>\n",
              "      <td>1.0</td>\n",
              "      <td>149.0</td>\n",
              "      <td>150.0</td>\n",
              "      <td>683.200000</td>\n",
              "      <td>0.999486</td>\n",
              "      <td>0.25</td>\n",
              "      <td>704.704679</td>\n",
              "    </tr>\n",
              "  </tbody>\n",
              "</table>\n",
              "</div>"
            ],
            "text/plain": [
              "    CustomerID  frequency  ...  pred_num_txn  exp_avg_sales\n",
              "1      12347.0        6.0  ...          0.47     603.040247\n",
              "2      12348.0        3.0  ...          0.27     306.725889\n",
              "5      12352.0        6.0  ...          0.56     371.034926\n",
              "9      12356.0        2.0  ...          0.22     277.562534\n",
              "11     12358.0        1.0  ...          0.25     704.704679\n",
              "\n",
              "[5 rows x 8 columns]"
            ]
          },
          "metadata": {
            "tags": []
          },
          "execution_count": 47
        }
      ]
    },
    {
      "cell_type": "code",
      "metadata": {
        "id": "CPMCpke0BLv4",
        "outputId": "fb158ef3-e57f-4fec-ec01-3564b6c9224a",
        "colab": {
          "base_uri": "https://localhost:8080/"
        }
      },
      "source": [
        "# Checking the expected average value and the actual average value in the data to make sure the values are good\n",
        "print(f\"Expected Average Sales: {summary['exp_avg_sales'].mean()}\")\n",
        "print(f\"Actual Average Sales: {summary['monetary_value'].mean()}\")"
      ],
      "execution_count": 48,
      "outputs": [
        {
          "output_type": "stream",
          "text": [
            "Expected Average Sales: 486.90902215126806\n",
            "Actual Average Sales: 477.3803385139518\n"
          ],
          "name": "stdout"
        }
      ]
    },
    {
      "cell_type": "code",
      "metadata": {
        "id": "cj_MLHTUBUip",
        "outputId": "12fb88b5-5914-4974-a0d4-af4c6990b475",
        "colab": {
          "base_uri": "https://localhost:8080/",
          "height": 204
        }
      },
      "source": [
        "# Predicting Customer Lifetime Value for the next 30 days\n",
        "summary['predicted_clv'] =      ggf.customer_lifetime_value(bgf,\n",
        "                                                               summary['frequency'],\n",
        "                                                               summary['recency'],\n",
        "                                                               summary['T'],\n",
        "                                                               summary['monetary_value'],\n",
        "                                                               time=1,     # lifetime in months\n",
        "                                                               freq='D',   # frequency in which the data is present(T)      \n",
        "                                                               discount_rate=0.01) # discount rate\n",
        "summary.head()\n"
      ],
      "execution_count": 49,
      "outputs": [
        {
          "output_type": "execute_result",
          "data": {
            "text/html": [
              "<div>\n",
              "<style scoped>\n",
              "    .dataframe tbody tr th:only-of-type {\n",
              "        vertical-align: middle;\n",
              "    }\n",
              "\n",
              "    .dataframe tbody tr th {\n",
              "        vertical-align: top;\n",
              "    }\n",
              "\n",
              "    .dataframe thead th {\n",
              "        text-align: right;\n",
              "    }\n",
              "</style>\n",
              "<table border=\"1\" class=\"dataframe\">\n",
              "  <thead>\n",
              "    <tr style=\"text-align: right;\">\n",
              "      <th></th>\n",
              "      <th>CustomerID</th>\n",
              "      <th>frequency</th>\n",
              "      <th>recency</th>\n",
              "      <th>T</th>\n",
              "      <th>monetary_value</th>\n",
              "      <th>probability_alive</th>\n",
              "      <th>pred_num_txn</th>\n",
              "      <th>exp_avg_sales</th>\n",
              "      <th>predicted_clv</th>\n",
              "    </tr>\n",
              "  </thead>\n",
              "  <tbody>\n",
              "    <tr>\n",
              "      <th>1</th>\n",
              "      <td>12347.0</td>\n",
              "      <td>6.0</td>\n",
              "      <td>365.0</td>\n",
              "      <td>367.0</td>\n",
              "      <td>599.701667</td>\n",
              "      <td>0.999698</td>\n",
              "      <td>0.47</td>\n",
              "      <td>603.040247</td>\n",
              "      <td>280.409518</td>\n",
              "    </tr>\n",
              "    <tr>\n",
              "      <th>2</th>\n",
              "      <td>12348.0</td>\n",
              "      <td>3.0</td>\n",
              "      <td>283.0</td>\n",
              "      <td>358.0</td>\n",
              "      <td>301.480000</td>\n",
              "      <td>0.999177</td>\n",
              "      <td>0.27</td>\n",
              "      <td>306.725889</td>\n",
              "      <td>81.591026</td>\n",
              "    </tr>\n",
              "    <tr>\n",
              "      <th>5</th>\n",
              "      <td>12352.0</td>\n",
              "      <td>6.0</td>\n",
              "      <td>260.0</td>\n",
              "      <td>296.0</td>\n",
              "      <td>368.256667</td>\n",
              "      <td>0.999406</td>\n",
              "      <td>0.56</td>\n",
              "      <td>371.034926</td>\n",
              "      <td>206.034640</td>\n",
              "    </tr>\n",
              "    <tr>\n",
              "      <th>9</th>\n",
              "      <td>12356.0</td>\n",
              "      <td>2.0</td>\n",
              "      <td>303.0</td>\n",
              "      <td>325.0</td>\n",
              "      <td>269.905000</td>\n",
              "      <td>0.999478</td>\n",
              "      <td>0.22</td>\n",
              "      <td>277.562534</td>\n",
              "      <td>59.125290</td>\n",
              "    </tr>\n",
              "    <tr>\n",
              "      <th>11</th>\n",
              "      <td>12358.0</td>\n",
              "      <td>1.0</td>\n",
              "      <td>149.0</td>\n",
              "      <td>150.0</td>\n",
              "      <td>683.200000</td>\n",
              "      <td>0.999486</td>\n",
              "      <td>0.25</td>\n",
              "      <td>704.704679</td>\n",
              "      <td>174.550478</td>\n",
              "    </tr>\n",
              "  </tbody>\n",
              "</table>\n",
              "</div>"
            ],
            "text/plain": [
              "    CustomerID  frequency  recency  ...  pred_num_txn  exp_avg_sales  predicted_clv\n",
              "1      12347.0        6.0    365.0  ...          0.47     603.040247     280.409518\n",
              "2      12348.0        3.0    283.0  ...          0.27     306.725889      81.591026\n",
              "5      12352.0        6.0    260.0  ...          0.56     371.034926     206.034640\n",
              "9      12356.0        2.0    303.0  ...          0.22     277.562534      59.125290\n",
              "11     12358.0        1.0    149.0  ...          0.25     704.704679     174.550478\n",
              "\n",
              "[5 rows x 9 columns]"
            ]
          },
          "metadata": {
            "tags": []
          },
          "execution_count": 49
        }
      ]
    },
    {
      "cell_type": "code",
      "metadata": {
        "id": "WhcClQoZBYMG",
        "outputId": "4b36d111-eec4-4e7c-b9e9-d6bcca1f45f1",
        "colab": {
          "base_uri": "https://localhost:8080/",
          "height": 204
        }
      },
      "source": [
        "summary['manual_predicted_clv'] = summary['pred_num_txn'] * summary['exp_avg_sales']\n",
        "summary.head()"
      ],
      "execution_count": 50,
      "outputs": [
        {
          "output_type": "execute_result",
          "data": {
            "text/html": [
              "<div>\n",
              "<style scoped>\n",
              "    .dataframe tbody tr th:only-of-type {\n",
              "        vertical-align: middle;\n",
              "    }\n",
              "\n",
              "    .dataframe tbody tr th {\n",
              "        vertical-align: top;\n",
              "    }\n",
              "\n",
              "    .dataframe thead th {\n",
              "        text-align: right;\n",
              "    }\n",
              "</style>\n",
              "<table border=\"1\" class=\"dataframe\">\n",
              "  <thead>\n",
              "    <tr style=\"text-align: right;\">\n",
              "      <th></th>\n",
              "      <th>CustomerID</th>\n",
              "      <th>frequency</th>\n",
              "      <th>recency</th>\n",
              "      <th>T</th>\n",
              "      <th>monetary_value</th>\n",
              "      <th>probability_alive</th>\n",
              "      <th>pred_num_txn</th>\n",
              "      <th>exp_avg_sales</th>\n",
              "      <th>predicted_clv</th>\n",
              "      <th>manual_predicted_clv</th>\n",
              "    </tr>\n",
              "  </thead>\n",
              "  <tbody>\n",
              "    <tr>\n",
              "      <th>1</th>\n",
              "      <td>12347.0</td>\n",
              "      <td>6.0</td>\n",
              "      <td>365.0</td>\n",
              "      <td>367.0</td>\n",
              "      <td>599.701667</td>\n",
              "      <td>0.999698</td>\n",
              "      <td>0.47</td>\n",
              "      <td>603.040247</td>\n",
              "      <td>280.409518</td>\n",
              "      <td>283.428916</td>\n",
              "    </tr>\n",
              "    <tr>\n",
              "      <th>2</th>\n",
              "      <td>12348.0</td>\n",
              "      <td>3.0</td>\n",
              "      <td>283.0</td>\n",
              "      <td>358.0</td>\n",
              "      <td>301.480000</td>\n",
              "      <td>0.999177</td>\n",
              "      <td>0.27</td>\n",
              "      <td>306.725889</td>\n",
              "      <td>81.591026</td>\n",
              "      <td>82.815990</td>\n",
              "    </tr>\n",
              "    <tr>\n",
              "      <th>5</th>\n",
              "      <td>12352.0</td>\n",
              "      <td>6.0</td>\n",
              "      <td>260.0</td>\n",
              "      <td>296.0</td>\n",
              "      <td>368.256667</td>\n",
              "      <td>0.999406</td>\n",
              "      <td>0.56</td>\n",
              "      <td>371.034926</td>\n",
              "      <td>206.034640</td>\n",
              "      <td>207.779558</td>\n",
              "    </tr>\n",
              "    <tr>\n",
              "      <th>9</th>\n",
              "      <td>12356.0</td>\n",
              "      <td>2.0</td>\n",
              "      <td>303.0</td>\n",
              "      <td>325.0</td>\n",
              "      <td>269.905000</td>\n",
              "      <td>0.999478</td>\n",
              "      <td>0.22</td>\n",
              "      <td>277.562534</td>\n",
              "      <td>59.125290</td>\n",
              "      <td>61.063757</td>\n",
              "    </tr>\n",
              "    <tr>\n",
              "      <th>11</th>\n",
              "      <td>12358.0</td>\n",
              "      <td>1.0</td>\n",
              "      <td>149.0</td>\n",
              "      <td>150.0</td>\n",
              "      <td>683.200000</td>\n",
              "      <td>0.999486</td>\n",
              "      <td>0.25</td>\n",
              "      <td>704.704679</td>\n",
              "      <td>174.550478</td>\n",
              "      <td>176.176170</td>\n",
              "    </tr>\n",
              "  </tbody>\n",
              "</table>\n",
              "</div>"
            ],
            "text/plain": [
              "    CustomerID  frequency  ...  predicted_clv  manual_predicted_clv\n",
              "1      12347.0        6.0  ...     280.409518            283.428916\n",
              "2      12348.0        3.0  ...      81.591026             82.815990\n",
              "5      12352.0        6.0  ...     206.034640            207.779558\n",
              "9      12356.0        2.0  ...      59.125290             61.063757\n",
              "11     12358.0        1.0  ...     174.550478            176.176170\n",
              "\n",
              "[5 rows x 10 columns]"
            ]
          },
          "metadata": {
            "tags": []
          },
          "execution_count": 50
        }
      ]
    },
    {
      "cell_type": "code",
      "metadata": {
        "id": "c8B2FBgOBcb0",
        "outputId": "aa0aa4d8-183b-4c92-b20f-61205a9c9d6f",
        "colab": {
          "base_uri": "https://localhost:8080/",
          "height": 204
        }
      },
      "source": [
        "# CLV in terms of profit (profit margin is 5%)\n",
        "profit_margin = 0.05\n",
        "summary['CLV'] = summary['predicted_clv'] * profit_margin\n",
        "summary.head()"
      ],
      "execution_count": 51,
      "outputs": [
        {
          "output_type": "execute_result",
          "data": {
            "text/html": [
              "<div>\n",
              "<style scoped>\n",
              "    .dataframe tbody tr th:only-of-type {\n",
              "        vertical-align: middle;\n",
              "    }\n",
              "\n",
              "    .dataframe tbody tr th {\n",
              "        vertical-align: top;\n",
              "    }\n",
              "\n",
              "    .dataframe thead th {\n",
              "        text-align: right;\n",
              "    }\n",
              "</style>\n",
              "<table border=\"1\" class=\"dataframe\">\n",
              "  <thead>\n",
              "    <tr style=\"text-align: right;\">\n",
              "      <th></th>\n",
              "      <th>CustomerID</th>\n",
              "      <th>frequency</th>\n",
              "      <th>recency</th>\n",
              "      <th>T</th>\n",
              "      <th>monetary_value</th>\n",
              "      <th>probability_alive</th>\n",
              "      <th>pred_num_txn</th>\n",
              "      <th>exp_avg_sales</th>\n",
              "      <th>predicted_clv</th>\n",
              "      <th>manual_predicted_clv</th>\n",
              "      <th>CLV</th>\n",
              "    </tr>\n",
              "  </thead>\n",
              "  <tbody>\n",
              "    <tr>\n",
              "      <th>1</th>\n",
              "      <td>12347.0</td>\n",
              "      <td>6.0</td>\n",
              "      <td>365.0</td>\n",
              "      <td>367.0</td>\n",
              "      <td>599.701667</td>\n",
              "      <td>0.999698</td>\n",
              "      <td>0.47</td>\n",
              "      <td>603.040247</td>\n",
              "      <td>280.409518</td>\n",
              "      <td>283.428916</td>\n",
              "      <td>14.020476</td>\n",
              "    </tr>\n",
              "    <tr>\n",
              "      <th>2</th>\n",
              "      <td>12348.0</td>\n",
              "      <td>3.0</td>\n",
              "      <td>283.0</td>\n",
              "      <td>358.0</td>\n",
              "      <td>301.480000</td>\n",
              "      <td>0.999177</td>\n",
              "      <td>0.27</td>\n",
              "      <td>306.725889</td>\n",
              "      <td>81.591026</td>\n",
              "      <td>82.815990</td>\n",
              "      <td>4.079551</td>\n",
              "    </tr>\n",
              "    <tr>\n",
              "      <th>5</th>\n",
              "      <td>12352.0</td>\n",
              "      <td>6.0</td>\n",
              "      <td>260.0</td>\n",
              "      <td>296.0</td>\n",
              "      <td>368.256667</td>\n",
              "      <td>0.999406</td>\n",
              "      <td>0.56</td>\n",
              "      <td>371.034926</td>\n",
              "      <td>206.034640</td>\n",
              "      <td>207.779558</td>\n",
              "      <td>10.301732</td>\n",
              "    </tr>\n",
              "    <tr>\n",
              "      <th>9</th>\n",
              "      <td>12356.0</td>\n",
              "      <td>2.0</td>\n",
              "      <td>303.0</td>\n",
              "      <td>325.0</td>\n",
              "      <td>269.905000</td>\n",
              "      <td>0.999478</td>\n",
              "      <td>0.22</td>\n",
              "      <td>277.562534</td>\n",
              "      <td>59.125290</td>\n",
              "      <td>61.063757</td>\n",
              "      <td>2.956265</td>\n",
              "    </tr>\n",
              "    <tr>\n",
              "      <th>11</th>\n",
              "      <td>12358.0</td>\n",
              "      <td>1.0</td>\n",
              "      <td>149.0</td>\n",
              "      <td>150.0</td>\n",
              "      <td>683.200000</td>\n",
              "      <td>0.999486</td>\n",
              "      <td>0.25</td>\n",
              "      <td>704.704679</td>\n",
              "      <td>174.550478</td>\n",
              "      <td>176.176170</td>\n",
              "      <td>8.727524</td>\n",
              "    </tr>\n",
              "  </tbody>\n",
              "</table>\n",
              "</div>"
            ],
            "text/plain": [
              "    CustomerID  frequency  ...  manual_predicted_clv        CLV\n",
              "1      12347.0        6.0  ...            283.428916  14.020476\n",
              "2      12348.0        3.0  ...             82.815990   4.079551\n",
              "5      12352.0        6.0  ...            207.779558  10.301732\n",
              "9      12356.0        2.0  ...             61.063757   2.956265\n",
              "11     12358.0        1.0  ...            176.176170   8.727524\n",
              "\n",
              "[5 rows x 11 columns]"
            ]
          },
          "metadata": {
            "tags": []
          },
          "execution_count": 51
        }
      ]
    },
    {
      "cell_type": "code",
      "metadata": {
        "id": "Y-eDOj4jBfJI",
        "outputId": "68939fb2-4b7a-42a1-e751-0b7094d6f152",
        "colab": {
          "base_uri": "https://localhost:8080/"
        }
      },
      "source": [
        "# Distribution of CLV for the business in the next 30 days\n",
        "summary['CLV'].describe()"
      ],
      "execution_count": 52,
      "outputs": [
        {
          "output_type": "execute_result",
          "data": {
            "text/plain": [
              "count    2790.000000\n",
              "mean       12.312040\n",
              "std        49.327361\n",
              "min         0.136205\n",
              "25%         2.826065\n",
              "50%         5.668581\n",
              "75%        10.967735\n",
              "max      1692.149403\n",
              "Name: CLV, dtype: float64"
            ]
          },
          "metadata": {
            "tags": []
          },
          "execution_count": 52
        }
      ]
    },
    {
      "cell_type": "code",
      "metadata": {
        "id": "gga_lpfiBuG3"
      },
      "source": [
        ""
      ],
      "execution_count": null,
      "outputs": []
    }
  ]
}