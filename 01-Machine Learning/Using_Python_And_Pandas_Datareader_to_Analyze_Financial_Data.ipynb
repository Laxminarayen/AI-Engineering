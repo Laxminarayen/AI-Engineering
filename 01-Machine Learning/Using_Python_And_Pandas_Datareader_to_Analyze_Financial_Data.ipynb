{
  "nbformat": 4,
  "nbformat_minor": 0,
  "metadata": {
    "colab": {
      "name": "Using Python And Pandas Datareader to Analyze Financial Data.ipynb",
      "provenance": [],
      "authorship_tag": "ABX9TyOdvwK5NraWxWaTE5weVATb",
      "include_colab_link": true
    },
    "kernelspec": {
      "name": "python3",
      "display_name": "Python 3"
    }
  },
  "cells": [
    {
      "cell_type": "markdown",
      "metadata": {
        "id": "view-in-github",
        "colab_type": "text"
      },
      "source": [
        "<a href=\"https://colab.research.google.com/github/plthiyagu/AI-Engineering/blob/master/01-Machine%20Learning/Using_Python_And_Pandas_Datareader_to_Analyze_Financial_Data.ipynb\" target=\"_parent\"><img src=\"https://colab.research.google.com/assets/colab-badge.svg\" alt=\"Open In Colab\"/></a>"
      ]
    },
    {
      "cell_type": "markdown",
      "metadata": {
        "id": "7w-rYUY6uBfz"
      },
      "source": [
        "Using Python And Pandas Datareader to Analyze Financial Data\r\n",
        "Finance and economics are becoming more and more interesting for all kinds of people, regardless of their career or profession. This is because we are all affected by economic data, or at least we are increasingly interested in being up-to-date, and we have a lot of information at hand.\r\n",
        "\r\n",
        "Every day billions of bytes of financial data are sent over the Internet. Whether it is the price of a share, an e-commerce transaction, or even information on a country's GDP. All this data, when properly organized and managed can be used to build some amazing and insightful software applications.\r\n",
        "\r\n",
        "We will use Python to access public financial data, organize it and combine it to gain new insights into how money makes the world go round. We will focus mainly on two Python modules:\r\n",
        "\r\n",
        "Pandas - used to organize and format complex data in table structures called DataFrames.\r\n",
        "Pandas-datareader - used to access public financial data from the Internet and import it into Python as a DataFrame.\r\n",
        "We will use these modules to import data from some of the largest financial organizations in the world, as well as data stored locally on our computers. By the end of the notebook, you should feel comfortable importing financial data, either from a public source or from a local file, into Python, organizing that data and combining it with each other\r\n",
        "\r\n",
        "Importing data via Datareader\r\n",
        "Many financial institutions, stock markets and global banks provide the public with large amounts of the data they publicly store. Most of this data is well organized, updated live and accessible through the use of an application programming interface (API), which offers programming languages such as Python a way to download and import it.\r\n",
        "\r\n",
        "The pandas-datareader module is specifically designed to interface with some of the world's most popular financial data APIs, and import their data into an easily digestible pandas DataFrame. Each financial API is accessed by a different function exposed by pandas-datareader. Generally, accessing each API requires a different set of arguments and information to be provided by the programmer.\r\n",
        "\r\n",
        "We will import data from several of these APIs and play with them. For a complete list of all data that the pandas-datareader can access, you can consult the official documentation.\r\n",
        "\r\n"
      ]
    },
    {
      "cell_type": "code",
      "metadata": {
        "colab": {
          "base_uri": "https://localhost:8080/"
        },
        "id": "EJ91C1fsuFQm",
        "outputId": "5b024411-7847-4d95-ab75-3c0f835f9d6b"
      },
      "source": [
        "!pip3 install pandas_datareader"
      ],
      "execution_count": 1,
      "outputs": [
        {
          "output_type": "stream",
          "text": [
            "Requirement already satisfied: pandas_datareader in /usr/local/lib/python3.6/dist-packages (0.9.0)\n",
            "Requirement already satisfied: lxml in /usr/local/lib/python3.6/dist-packages (from pandas_datareader) (4.2.6)\n",
            "Requirement already satisfied: pandas>=0.23 in /usr/local/lib/python3.6/dist-packages (from pandas_datareader) (1.1.5)\n",
            "Requirement already satisfied: requests>=2.19.0 in /usr/local/lib/python3.6/dist-packages (from pandas_datareader) (2.23.0)\n",
            "Requirement already satisfied: numpy>=1.15.4 in /usr/local/lib/python3.6/dist-packages (from pandas>=0.23->pandas_datareader) (1.19.4)\n",
            "Requirement already satisfied: python-dateutil>=2.7.3 in /usr/local/lib/python3.6/dist-packages (from pandas>=0.23->pandas_datareader) (2.8.1)\n",
            "Requirement already satisfied: pytz>=2017.2 in /usr/local/lib/python3.6/dist-packages (from pandas>=0.23->pandas_datareader) (2018.9)\n",
            "Requirement already satisfied: certifi>=2017.4.17 in /usr/local/lib/python3.6/dist-packages (from requests>=2.19.0->pandas_datareader) (2020.12.5)\n",
            "Requirement already satisfied: chardet<4,>=3.0.2 in /usr/local/lib/python3.6/dist-packages (from requests>=2.19.0->pandas_datareader) (3.0.4)\n",
            "Requirement already satisfied: idna<3,>=2.5 in /usr/local/lib/python3.6/dist-packages (from requests>=2.19.0->pandas_datareader) (2.10)\n",
            "Requirement already satisfied: urllib3!=1.25.0,!=1.25.1,<1.26,>=1.21.1 in /usr/local/lib/python3.6/dist-packages (from requests>=2.19.0->pandas_datareader) (1.24.3)\n",
            "Requirement already satisfied: six>=1.5 in /usr/local/lib/python3.6/dist-packages (from python-dateutil>=2.7.3->pandas>=0.23->pandas_datareader) (1.15.0)\n"
          ],
          "name": "stdout"
        }
      ]
    },
    {
      "cell_type": "code",
      "metadata": {
        "id": "yrdZqDHvuJm6"
      },
      "source": [
        "from pandas_datareader import wb\r\n",
        "from datetime import datetime"
      ],
      "execution_count": 2,
      "outputs": []
    },
    {
      "cell_type": "code",
      "metadata": {
        "id": "ZQimO-ZruR0r"
      },
      "source": [
        "start = datetime(2005, 1, 1)\r\n",
        "end = datetime(2008, 1, 1)\r\n",
        "indicator_id = 'NY.GDP.PCAP.KD'"
      ],
      "execution_count": 3,
      "outputs": []
    },
    {
      "cell_type": "code",
      "metadata": {
        "id": "aBB0Ct3suVbv"
      },
      "source": [
        "gdp_per_capita = wb.download(indicator=indicator_id, start=start, end=end, country=['US', 'CA', 'MX'])"
      ],
      "execution_count": 4,
      "outputs": []
    },
    {
      "cell_type": "code",
      "metadata": {
        "colab": {
          "base_uri": "https://localhost:8080/",
          "height": 452
        },
        "id": "kawTM6k1uXbz",
        "outputId": "58ae8fcb-aea9-4400-f9af-00e529857f77"
      },
      "source": [
        "gdp_per_capita"
      ],
      "execution_count": 5,
      "outputs": [
        {
          "output_type": "execute_result",
          "data": {
            "text/html": [
              "<div>\n",
              "<style scoped>\n",
              "    .dataframe tbody tr th:only-of-type {\n",
              "        vertical-align: middle;\n",
              "    }\n",
              "\n",
              "    .dataframe tbody tr th {\n",
              "        vertical-align: top;\n",
              "    }\n",
              "\n",
              "    .dataframe thead th {\n",
              "        text-align: right;\n",
              "    }\n",
              "</style>\n",
              "<table border=\"1\" class=\"dataframe\">\n",
              "  <thead>\n",
              "    <tr style=\"text-align: right;\">\n",
              "      <th></th>\n",
              "      <th></th>\n",
              "      <th>NY.GDP.PCAP.KD</th>\n",
              "    </tr>\n",
              "    <tr>\n",
              "      <th>country</th>\n",
              "      <th>year</th>\n",
              "      <th></th>\n",
              "    </tr>\n",
              "  </thead>\n",
              "  <tbody>\n",
              "    <tr>\n",
              "      <th rowspan=\"4\" valign=\"top\">Canada</th>\n",
              "      <th>2008</th>\n",
              "      <td>48495.204040</td>\n",
              "    </tr>\n",
              "    <tr>\n",
              "      <th>2007</th>\n",
              "      <td>48534.174477</td>\n",
              "    </tr>\n",
              "    <tr>\n",
              "      <th>2006</th>\n",
              "      <td>45857.996552</td>\n",
              "    </tr>\n",
              "    <tr>\n",
              "      <th>2005</th>\n",
              "      <td>44471.080060</td>\n",
              "    </tr>\n",
              "    <tr>\n",
              "      <th rowspan=\"4\" valign=\"top\">Mexico</th>\n",
              "      <th>2008</th>\n",
              "      <td>9587.636339</td>\n",
              "    </tr>\n",
              "    <tr>\n",
              "      <th>2007</th>\n",
              "      <td>9622.047957</td>\n",
              "    </tr>\n",
              "    <tr>\n",
              "      <th>2006</th>\n",
              "      <td>9547.333571</td>\n",
              "    </tr>\n",
              "    <tr>\n",
              "      <th>2005</th>\n",
              "      <td>9270.656542</td>\n",
              "    </tr>\n",
              "    <tr>\n",
              "      <th rowspan=\"4\" valign=\"top\">United States</th>\n",
              "      <th>2008</th>\n",
              "      <td>49319.478865</td>\n",
              "    </tr>\n",
              "    <tr>\n",
              "      <th>2007</th>\n",
              "      <td>49856.281490</td>\n",
              "    </tr>\n",
              "    <tr>\n",
              "      <th>2006</th>\n",
              "      <td>49405.767296</td>\n",
              "    </tr>\n",
              "    <tr>\n",
              "      <th>2005</th>\n",
              "      <td>48499.812374</td>\n",
              "    </tr>\n",
              "  </tbody>\n",
              "</table>\n",
              "</div>"
            ],
            "text/plain": [
              "                    NY.GDP.PCAP.KD\n",
              "country       year                \n",
              "Canada        2008    48495.204040\n",
              "              2007    48534.174477\n",
              "              2006    45857.996552\n",
              "              2005    44471.080060\n",
              "Mexico        2008     9587.636339\n",
              "              2007     9622.047957\n",
              "              2006     9547.333571\n",
              "              2005     9270.656542\n",
              "United States 2008    49319.478865\n",
              "              2007    49856.281490\n",
              "              2006    49405.767296\n",
              "              2005    48499.812374"
            ]
          },
          "metadata": {
            "tags": []
          },
          "execution_count": 5
        }
      ]
    },
    {
      "cell_type": "markdown",
      "metadata": {
        "id": "KnFM5EBHyvhR"
      },
      "source": [
        "Getting the NASDAQ Symbols\r\n",
        "\r\n",
        "The NASDAQ Stock Exchange identifies each of its shares with a unique symbol:\r\n",
        "\r\n",
        "Apple - APPL\r\n",
        "\r\n",
        "Google - GOOGL\r\n",
        "\r\n",
        "Tesla - TSLA\r\n",
        "\r\n",
        "It also provides a useful API for accessing the symbols currently traded on it. Pandas-datareader provides several functions to import data from the NASDAQ API through its nasdaq_trader sub-module.\r\n",
        "\r\n"
      ]
    },
    {
      "cell_type": "code",
      "metadata": {
        "id": "2QJZi5Q0u-DL"
      },
      "source": [
        "from pandas_datareader.nasdaq_trader import get_nasdaq_symbols"
      ],
      "execution_count": 6,
      "outputs": []
    },
    {
      "cell_type": "markdown",
      "metadata": {
        "id": "rooEDnFay4_g"
      },
      "source": [
        "To import the list of stock symbols, we want to use the function get_nasdaq_symbols from nasdaq_trader. It is done in this way\r\n",
        "\r\n"
      ]
    },
    {
      "cell_type": "code",
      "metadata": {
        "id": "wI6P6kJUy2Z2"
      },
      "source": [
        "symbols = get_nasdaq_symbols()"
      ],
      "execution_count": 7,
      "outputs": []
    },
    {
      "cell_type": "markdown",
      "metadata": {
        "id": "0UojYHF7y_NN"
      },
      "source": [
        "When called, it will go to the NASDAQ API, and import the list of symbols currently being traded. The advantage of using pandas-datareader is that all the logic to interact with the NASDAQ API or any other API is encapsulated in easy-to-use sub-modules and functions like the ones above.\r\n",
        "\r\n"
      ]
    },
    {
      "cell_type": "code",
      "metadata": {
        "colab": {
          "base_uri": "https://localhost:8080/",
          "height": 569
        },
        "id": "1y2itaUCy8JH",
        "outputId": "14faa3f8-9fe1-4e7d-9043-89986b8b624c"
      },
      "source": [
        "symbols"
      ],
      "execution_count": 8,
      "outputs": [
        {
          "output_type": "execute_result",
          "data": {
            "text/html": [
              "<div>\n",
              "<style scoped>\n",
              "    .dataframe tbody tr th:only-of-type {\n",
              "        vertical-align: middle;\n",
              "    }\n",
              "\n",
              "    .dataframe tbody tr th {\n",
              "        vertical-align: top;\n",
              "    }\n",
              "\n",
              "    .dataframe thead th {\n",
              "        text-align: right;\n",
              "    }\n",
              "</style>\n",
              "<table border=\"1\" class=\"dataframe\">\n",
              "  <thead>\n",
              "    <tr style=\"text-align: right;\">\n",
              "      <th></th>\n",
              "      <th>Nasdaq Traded</th>\n",
              "      <th>Security Name</th>\n",
              "      <th>Listing Exchange</th>\n",
              "      <th>Market Category</th>\n",
              "      <th>ETF</th>\n",
              "      <th>Round Lot Size</th>\n",
              "      <th>Test Issue</th>\n",
              "      <th>Financial Status</th>\n",
              "      <th>CQS Symbol</th>\n",
              "      <th>NASDAQ Symbol</th>\n",
              "      <th>NextShares</th>\n",
              "    </tr>\n",
              "    <tr>\n",
              "      <th>Symbol</th>\n",
              "      <th></th>\n",
              "      <th></th>\n",
              "      <th></th>\n",
              "      <th></th>\n",
              "      <th></th>\n",
              "      <th></th>\n",
              "      <th></th>\n",
              "      <th></th>\n",
              "      <th></th>\n",
              "      <th></th>\n",
              "      <th></th>\n",
              "    </tr>\n",
              "  </thead>\n",
              "  <tbody>\n",
              "    <tr>\n",
              "      <th>A</th>\n",
              "      <td>True</td>\n",
              "      <td>Agilent Technologies, Inc. Common Stock</td>\n",
              "      <td>N</td>\n",
              "      <td></td>\n",
              "      <td>False</td>\n",
              "      <td>100.0</td>\n",
              "      <td>False</td>\n",
              "      <td>NaN</td>\n",
              "      <td>A</td>\n",
              "      <td>A</td>\n",
              "      <td>False</td>\n",
              "    </tr>\n",
              "    <tr>\n",
              "      <th>AA</th>\n",
              "      <td>True</td>\n",
              "      <td>Alcoa Corporation Common Stock</td>\n",
              "      <td>N</td>\n",
              "      <td></td>\n",
              "      <td>False</td>\n",
              "      <td>100.0</td>\n",
              "      <td>False</td>\n",
              "      <td>NaN</td>\n",
              "      <td>AA</td>\n",
              "      <td>AA</td>\n",
              "      <td>False</td>\n",
              "    </tr>\n",
              "    <tr>\n",
              "      <th>AAA</th>\n",
              "      <td>True</td>\n",
              "      <td>Listed Funds Trust AAF First Priority CLO Bond...</td>\n",
              "      <td>P</td>\n",
              "      <td></td>\n",
              "      <td>True</td>\n",
              "      <td>100.0</td>\n",
              "      <td>False</td>\n",
              "      <td>NaN</td>\n",
              "      <td>AAA</td>\n",
              "      <td>AAA</td>\n",
              "      <td>False</td>\n",
              "    </tr>\n",
              "    <tr>\n",
              "      <th>AAAU</th>\n",
              "      <td>True</td>\n",
              "      <td>Goldman Sachs Physical Gold ETF Shares</td>\n",
              "      <td>P</td>\n",
              "      <td></td>\n",
              "      <td>True</td>\n",
              "      <td>100.0</td>\n",
              "      <td>False</td>\n",
              "      <td>NaN</td>\n",
              "      <td>AAAU</td>\n",
              "      <td>AAAU</td>\n",
              "      <td>False</td>\n",
              "    </tr>\n",
              "    <tr>\n",
              "      <th>AACG</th>\n",
              "      <td>True</td>\n",
              "      <td>ATA Creativity Global - American Depositary Sh...</td>\n",
              "      <td>Q</td>\n",
              "      <td>G</td>\n",
              "      <td>False</td>\n",
              "      <td>100.0</td>\n",
              "      <td>False</td>\n",
              "      <td>N</td>\n",
              "      <td>NaN</td>\n",
              "      <td>AACG</td>\n",
              "      <td>False</td>\n",
              "    </tr>\n",
              "    <tr>\n",
              "      <th>...</th>\n",
              "      <td>...</td>\n",
              "      <td>...</td>\n",
              "      <td>...</td>\n",
              "      <td>...</td>\n",
              "      <td>...</td>\n",
              "      <td>...</td>\n",
              "      <td>...</td>\n",
              "      <td>...</td>\n",
              "      <td>...</td>\n",
              "      <td>...</td>\n",
              "      <td>...</td>\n",
              "    </tr>\n",
              "    <tr>\n",
              "      <th>ZXYZ.A</th>\n",
              "      <td>True</td>\n",
              "      <td>Nasdaq Symbology Test Common Stock</td>\n",
              "      <td>Q</td>\n",
              "      <td>Q</td>\n",
              "      <td>False</td>\n",
              "      <td>100.0</td>\n",
              "      <td>True</td>\n",
              "      <td>N</td>\n",
              "      <td>NaN</td>\n",
              "      <td>ZXYZ.A</td>\n",
              "      <td>False</td>\n",
              "    </tr>\n",
              "    <tr>\n",
              "      <th>ZXZZT</th>\n",
              "      <td>True</td>\n",
              "      <td>NASDAQ TEST STOCK</td>\n",
              "      <td>Q</td>\n",
              "      <td>G</td>\n",
              "      <td>False</td>\n",
              "      <td>100.0</td>\n",
              "      <td>True</td>\n",
              "      <td>N</td>\n",
              "      <td>NaN</td>\n",
              "      <td>ZXZZT</td>\n",
              "      <td>False</td>\n",
              "    </tr>\n",
              "    <tr>\n",
              "      <th>ZYME</th>\n",
              "      <td>True</td>\n",
              "      <td>Zymeworks Inc. Common Shares</td>\n",
              "      <td>N</td>\n",
              "      <td></td>\n",
              "      <td>False</td>\n",
              "      <td>100.0</td>\n",
              "      <td>False</td>\n",
              "      <td>NaN</td>\n",
              "      <td>ZYME</td>\n",
              "      <td>ZYME</td>\n",
              "      <td>False</td>\n",
              "    </tr>\n",
              "    <tr>\n",
              "      <th>ZYNE</th>\n",
              "      <td>True</td>\n",
              "      <td>Zynerba Pharmaceuticals, Inc. - Common Stock</td>\n",
              "      <td>Q</td>\n",
              "      <td>G</td>\n",
              "      <td>False</td>\n",
              "      <td>100.0</td>\n",
              "      <td>False</td>\n",
              "      <td>N</td>\n",
              "      <td>NaN</td>\n",
              "      <td>ZYNE</td>\n",
              "      <td>False</td>\n",
              "    </tr>\n",
              "    <tr>\n",
              "      <th>ZYXI</th>\n",
              "      <td>True</td>\n",
              "      <td>Zynex, Inc. - Common Stock</td>\n",
              "      <td>Q</td>\n",
              "      <td>S</td>\n",
              "      <td>False</td>\n",
              "      <td>100.0</td>\n",
              "      <td>False</td>\n",
              "      <td>N</td>\n",
              "      <td>NaN</td>\n",
              "      <td>ZYXI</td>\n",
              "      <td>False</td>\n",
              "    </tr>\n",
              "  </tbody>\n",
              "</table>\n",
              "<p>9502 rows × 11 columns</p>\n",
              "</div>"
            ],
            "text/plain": [
              "        Nasdaq Traded  ... NextShares\n",
              "Symbol                 ...           \n",
              "A                True  ...      False\n",
              "AA               True  ...      False\n",
              "AAA              True  ...      False\n",
              "AAAU             True  ...      False\n",
              "AACG             True  ...      False\n",
              "...               ...  ...        ...\n",
              "ZXYZ.A           True  ...      False\n",
              "ZXZZT            True  ...      False\n",
              "ZYME             True  ...      False\n",
              "ZYNE             True  ...      False\n",
              "ZYXI             True  ...      False\n",
              "\n",
              "[9502 rows x 11 columns]"
            ]
          },
          "metadata": {
            "tags": []
          },
          "execution_count": 8
        }
      ]
    },
    {
      "cell_type": "code",
      "metadata": {
        "colab": {
          "base_uri": "https://localhost:8080/"
        },
        "id": "ToguuMsGzC6v",
        "outputId": "f37f7fca-b019-4fda-cd54-62cb02f7a760"
      },
      "source": [
        "symbols.loc['IBM']"
      ],
      "execution_count": 9,
      "outputs": [
        {
          "output_type": "execute_result",
          "data": {
            "text/plain": [
              "Nasdaq Traded                                                    True\n",
              "Security Name       International Business Machines Corporation Co...\n",
              "Listing Exchange                                                    N\n",
              "Market Category                                                      \n",
              "ETF                                                             False\n",
              "Round Lot Size                                                    100\n",
              "Test Issue                                                      False\n",
              "Financial Status                                                  NaN\n",
              "CQS Symbol                                                        IBM\n",
              "NASDAQ Symbol                                                     IBM\n",
              "NextShares                                                      False\n",
              "Name: IBM, dtype: object"
            ]
          },
          "metadata": {
            "tags": []
          },
          "execution_count": 9
        }
      ]
    },
    {
      "cell_type": "markdown",
      "metadata": {
        "id": "GmkSfssszdJe"
      },
      "source": [
        "Technical Analysis in Finance\r\n",
        "\r\n",
        "Technical analysis in finance is the type of analysis performed by means of statistics and charts on stocks (or indices in our case). Let's see how to do something very simple with 'Plotly' a Python library for charting. In this case we'll access to Microsoft daily quotes. Let's do it!\r\n",
        "\r\n"
      ]
    },
    {
      "cell_type": "code",
      "metadata": {
        "colab": {
          "base_uri": "https://localhost:8080/"
        },
        "id": "uri9aTbLzGBl",
        "outputId": "3cd61501-c288-4b65-9977-46832006f018"
      },
      "source": [
        "!pip3 install plotly"
      ],
      "execution_count": 10,
      "outputs": [
        {
          "output_type": "stream",
          "text": [
            "Requirement already satisfied: plotly in /usr/local/lib/python3.6/dist-packages (4.4.1)\n",
            "Requirement already satisfied: six in /usr/local/lib/python3.6/dist-packages (from plotly) (1.15.0)\n",
            "Requirement already satisfied: retrying>=1.3.3 in /usr/local/lib/python3.6/dist-packages (from plotly) (1.3.3)\n"
          ],
          "name": "stdout"
        }
      ]
    },
    {
      "cell_type": "code",
      "metadata": {
        "id": "3MK_6abTzciv"
      },
      "source": [
        "import plotly.graph_objects as go"
      ],
      "execution_count": 11,
      "outputs": []
    },
    {
      "cell_type": "code",
      "metadata": {
        "id": "g_yJD3QTzkOy"
      },
      "source": [
        "import pandas_datareader.data as web\r\n",
        "\r\n",
        "stock = 'MSFT'\r\n",
        "start = datetime(2019, 1, 1)\r\n",
        "\r\n",
        "df = web.DataReader(stock, data_source='yahoo', start=start)"
      ],
      "execution_count": 12,
      "outputs": []
    },
    {
      "cell_type": "code",
      "metadata": {
        "colab": {
          "base_uri": "https://localhost:8080/",
          "height": 450
        },
        "id": "txA58dFJzm4U",
        "outputId": "df0d2226-4bc9-44a6-acf3-e89228724c98"
      },
      "source": [
        "df"
      ],
      "execution_count": 13,
      "outputs": [
        {
          "output_type": "execute_result",
          "data": {
            "text/html": [
              "<div>\n",
              "<style scoped>\n",
              "    .dataframe tbody tr th:only-of-type {\n",
              "        vertical-align: middle;\n",
              "    }\n",
              "\n",
              "    .dataframe tbody tr th {\n",
              "        vertical-align: top;\n",
              "    }\n",
              "\n",
              "    .dataframe thead th {\n",
              "        text-align: right;\n",
              "    }\n",
              "</style>\n",
              "<table border=\"1\" class=\"dataframe\">\n",
              "  <thead>\n",
              "    <tr style=\"text-align: right;\">\n",
              "      <th></th>\n",
              "      <th>High</th>\n",
              "      <th>Low</th>\n",
              "      <th>Open</th>\n",
              "      <th>Close</th>\n",
              "      <th>Volume</th>\n",
              "      <th>Adj Close</th>\n",
              "    </tr>\n",
              "    <tr>\n",
              "      <th>Date</th>\n",
              "      <th></th>\n",
              "      <th></th>\n",
              "      <th></th>\n",
              "      <th></th>\n",
              "      <th></th>\n",
              "      <th></th>\n",
              "    </tr>\n",
              "  </thead>\n",
              "  <tbody>\n",
              "    <tr>\n",
              "      <th>2019-01-02</th>\n",
              "      <td>101.750000</td>\n",
              "      <td>98.940002</td>\n",
              "      <td>99.550003</td>\n",
              "      <td>101.120003</td>\n",
              "      <td>35329300.0</td>\n",
              "      <td>98.602066</td>\n",
              "    </tr>\n",
              "    <tr>\n",
              "      <th>2019-01-03</th>\n",
              "      <td>100.190002</td>\n",
              "      <td>97.199997</td>\n",
              "      <td>100.099998</td>\n",
              "      <td>97.400002</td>\n",
              "      <td>42579100.0</td>\n",
              "      <td>94.974693</td>\n",
              "    </tr>\n",
              "    <tr>\n",
              "      <th>2019-01-04</th>\n",
              "      <td>102.510002</td>\n",
              "      <td>98.930000</td>\n",
              "      <td>99.720001</td>\n",
              "      <td>101.930000</td>\n",
              "      <td>44060600.0</td>\n",
              "      <td>99.391899</td>\n",
              "    </tr>\n",
              "    <tr>\n",
              "      <th>2019-01-07</th>\n",
              "      <td>103.269997</td>\n",
              "      <td>100.980003</td>\n",
              "      <td>101.639999</td>\n",
              "      <td>102.059998</td>\n",
              "      <td>35656100.0</td>\n",
              "      <td>99.518669</td>\n",
              "    </tr>\n",
              "    <tr>\n",
              "      <th>2019-01-08</th>\n",
              "      <td>103.970001</td>\n",
              "      <td>101.709999</td>\n",
              "      <td>103.040001</td>\n",
              "      <td>102.800003</td>\n",
              "      <td>31514400.0</td>\n",
              "      <td>100.240234</td>\n",
              "    </tr>\n",
              "    <tr>\n",
              "      <th>...</th>\n",
              "      <td>...</td>\n",
              "      <td>...</td>\n",
              "      <td>...</td>\n",
              "      <td>...</td>\n",
              "      <td>...</td>\n",
              "      <td>...</td>\n",
              "    </tr>\n",
              "    <tr>\n",
              "      <th>2020-12-18</th>\n",
              "      <td>219.690002</td>\n",
              "      <td>216.020004</td>\n",
              "      <td>218.589996</td>\n",
              "      <td>218.589996</td>\n",
              "      <td>63354900.0</td>\n",
              "      <td>218.589996</td>\n",
              "    </tr>\n",
              "    <tr>\n",
              "      <th>2020-12-21</th>\n",
              "      <td>224.000000</td>\n",
              "      <td>217.279999</td>\n",
              "      <td>217.550003</td>\n",
              "      <td>222.589996</td>\n",
              "      <td>37181900.0</td>\n",
              "      <td>222.589996</td>\n",
              "    </tr>\n",
              "    <tr>\n",
              "      <th>2020-12-22</th>\n",
              "      <td>225.630005</td>\n",
              "      <td>221.850006</td>\n",
              "      <td>222.690002</td>\n",
              "      <td>223.940002</td>\n",
              "      <td>22612200.0</td>\n",
              "      <td>223.940002</td>\n",
              "    </tr>\n",
              "    <tr>\n",
              "      <th>2020-12-23</th>\n",
              "      <td>223.559998</td>\n",
              "      <td>220.800003</td>\n",
              "      <td>223.110001</td>\n",
              "      <td>221.020004</td>\n",
              "      <td>18699600.0</td>\n",
              "      <td>221.020004</td>\n",
              "    </tr>\n",
              "    <tr>\n",
              "      <th>2020-12-24</th>\n",
              "      <td>223.610001</td>\n",
              "      <td>221.199997</td>\n",
              "      <td>221.419998</td>\n",
              "      <td>222.750000</td>\n",
              "      <td>10550600.0</td>\n",
              "      <td>222.750000</td>\n",
              "    </tr>\n",
              "  </tbody>\n",
              "</table>\n",
              "<p>501 rows × 6 columns</p>\n",
              "</div>"
            ],
            "text/plain": [
              "                  High         Low  ...      Volume   Adj Close\n",
              "Date                                ...                        \n",
              "2019-01-02  101.750000   98.940002  ...  35329300.0   98.602066\n",
              "2019-01-03  100.190002   97.199997  ...  42579100.0   94.974693\n",
              "2019-01-04  102.510002   98.930000  ...  44060600.0   99.391899\n",
              "2019-01-07  103.269997  100.980003  ...  35656100.0   99.518669\n",
              "2019-01-08  103.970001  101.709999  ...  31514400.0  100.240234\n",
              "...                ...         ...  ...         ...         ...\n",
              "2020-12-18  219.690002  216.020004  ...  63354900.0  218.589996\n",
              "2020-12-21  224.000000  217.279999  ...  37181900.0  222.589996\n",
              "2020-12-22  225.630005  221.850006  ...  22612200.0  223.940002\n",
              "2020-12-23  223.559998  220.800003  ...  18699600.0  221.020004\n",
              "2020-12-24  223.610001  221.199997  ...  10550600.0  222.750000\n",
              "\n",
              "[501 rows x 6 columns]"
            ]
          },
          "metadata": {
            "tags": []
          },
          "execution_count": 13
        }
      ]
    },
    {
      "cell_type": "markdown",
      "metadata": {
        "id": "RiPnlRlJzrfF"
      },
      "source": [
        "We have accessed the data of MSFT. We did this by importing .data from datareader and giving it the web alias. Under the hood we are using Yahoo Finance to import the data from an API, but in this case pandas.datareader allowed us to do it in a very simple way. Now we are going to plot the result to make Technical Analysis.\r\n",
        "\r\n"
      ]
    },
    {
      "cell_type": "code",
      "metadata": {
        "id": "7qNIRO6zznnM"
      },
      "source": [
        "graph = {\r\n",
        "    'x': df.index,\r\n",
        "    'open': df.Open,\r\n",
        "    'close': df.Close,\r\n",
        "    'high': df.High,\r\n",
        "    'low': df.Low,\r\n",
        "    'type': 'candlestick',\r\n",
        "    'name': 'MSFT',\r\n",
        "    'showlegend': True\r\n",
        "}"
      ],
      "execution_count": 14,
      "outputs": []
    },
    {
      "cell_type": "code",
      "metadata": {
        "id": "ngIclKxczu1n"
      },
      "source": [
        "layout = go.Figure(\r\n",
        "    data = [graph],\r\n",
        "    layout_title=\"Microsoft Stock\"\r\n",
        ")"
      ],
      "execution_count": 15,
      "outputs": []
    },
    {
      "cell_type": "code",
      "metadata": {
        "colab": {
          "base_uri": "https://localhost:8080/",
          "height": 542
        },
        "id": "NGWr5L-zzyAY",
        "outputId": "69ab040e-7b59-42a6-ad69-465a43265df0"
      },
      "source": [
        "layout"
      ],
      "execution_count": 16,
      "outputs": [
        {
          "output_type": "display_data",
          "data": {
            "text/html": [
              "<html>\n",
              "<head><meta charset=\"utf-8\" /></head>\n",
              "<body>\n",
              "    <div>\n",
              "            <script src=\"https://cdnjs.cloudflare.com/ajax/libs/mathjax/2.7.5/MathJax.js?config=TeX-AMS-MML_SVG\"></script><script type=\"text/javascript\">if (window.MathJax) {MathJax.Hub.Config({SVG: {font: \"STIX-Web\"}});}</script>\n",
              "                <script type=\"text/javascript\">window.PlotlyConfig = {MathJaxConfig: 'local'};</script>\n",
              "        <script src=\"https://cdn.plot.ly/plotly-latest.min.js\"></script>    \n",
              "            <div id=\"33490c3f-1a4a-4621-8f38-287a809f7acb\" class=\"plotly-graph-div\" style=\"height:525px; width:100%;\"></div>\n",
              "            <script type=\"text/javascript\">\n",
              "                \n",
              "                    window.PLOTLYENV=window.PLOTLYENV || {};\n",
              "                    \n",
              "                if (document.getElementById(\"33490c3f-1a4a-4621-8f38-287a809f7acb\")) {\n",
              "                    Plotly.newPlot(\n",
              "                        '33490c3f-1a4a-4621-8f38-287a809f7acb',\n",
              "                        [{\"close\": [101.12000274658203, 97.4000015258789, 101.93000030517578, 102.05999755859375, 102.80000305175781, 104.2699966430664, 103.5999984741211, 102.80000305175781, 102.05000305175781, 105.01000213623047, 105.37999725341797, 106.12000274658203, 107.70999908447266, 105.68000030517578, 106.70999908447266, 106.19999694824219, 107.16999816894531, 105.08000183105469, 102.94000244140625, 106.37999725341797, 104.43000030517578, 102.77999877929688, 105.73999786376953, 107.22000122070312, 106.02999877929688, 105.2699966430664, 105.66999816894531, 105.25, 106.88999938964844, 106.80999755859375, 106.9000015258789, 108.22000122070312, 108.16999816894531, 107.1500015258789, 109.41000366210938, 110.97000122070312, 111.58999633789062, 112.36000061035156, 112.16999816894531, 112.02999877929688, 112.52999877929688, 112.26000213623047, 111.69999694824219, 111.75, 110.38999938964844, 110.51000213623047, 112.83000183105469, 113.62000274658203, 114.5, 114.58999633789062, 115.91000366210938, 117.56999969482422, 117.6500015258789, 117.5199966430664, 120.22000122070312, 117.05000305175781, 117.66000366210938, 117.91000366210938, 116.7699966430664, 116.93000030517578, 117.94000244140625, 119.0199966430664, 119.19000244140625, 119.97000122070312, 119.36000061035156, 119.88999938964844, 119.93000030517578, 119.27999877929688, 120.19000244140625, 120.33000183105469, 120.94999694824219, 121.05000305175781, 120.7699966430664, 121.7699966430664, 123.37000274658203, 123.76000213623047, 125.44000244140625, 125.01000213623047, 129.14999389648438, 129.88999938964844, 129.77000427246094, 130.60000610351562, 127.87999725341797, 126.20999908447266, 128.89999389648438, 128.14999389648438, 125.5199966430664, 125.51000213623047, 125.5, 127.12999725341797, 123.3499984741211, 124.7300033569336, 126.0199966430664, 128.92999267578125, 128.07000732421875, 126.22000122070312, 126.9000015258789, 127.66999816894531, 126.18000030517578, 126.23999786376953, 126.16000366210938, 124.94000244140625, 125.7300033569336, 123.68000030517578, 119.83999633789062, 123.16000366210938, 125.83000183105469, 127.81999969482422, 131.39999389648438, 132.60000610351562, 132.10000610351562, 131.49000549316406, 132.32000732421875, 132.4499969482422, 132.85000610351562, 135.16000366210938, 135.69000244140625, 136.9499969482422, 136.97000122070312, 137.77999877929688, 133.42999267578125, 133.92999267578125, 134.14999389648438, 133.9600067138672, 135.67999267578125, 136.5800018310547, 137.4600067138672, 137.05999755859375, 136.9600067138672, 136.4600067138672, 137.85000610351562, 138.39999389648438, 138.89999389648438, 138.89999389648438, 137.0800018310547, 136.27000427246094, 136.4199981689453, 136.6199951171875, 138.42999267578125, 139.2899932861328, 140.72000122070312, 140.19000244140625, 141.33999633789062, 141.02999877929688, 140.35000610351562, 136.27000427246094, 138.05999755859375, 136.89999389648438, 132.2100067138672, 134.69000244140625, 135.27999877929688, 138.88999938964844, 137.7100067138672, 135.7899932861328, 138.60000610351562, 133.97999572753906, 133.67999267578125, 136.1300048828125, 138.41000366210938, 137.25999450683594, 138.7899932861328, 137.77999877929688, 133.38999938964844, 135.4499969482422, 135.74000549316406, 135.55999755859375, 138.1199951171875, 137.86000061035156, 136.0399932861328, 137.6300048828125, 140.0500030517578, 139.10000610351562, 137.52000427246094, 136.0800018310547, 136.1199951171875, 137.52000427246094, 137.32000732421875, 136.3300018310547, 137.38999938964844, 138.52000427246094, 141.07000732421875, 139.44000244140625, 139.13999938964844, 137.3800048828125, 139.36000061035156, 139.5399932861328, 137.72999572753906, 139.02999877929688, 137.07000732421875, 134.64999389648438, 136.27999877929688, 138.1199951171875, 137.1199951171875, 135.6699981689453, 138.24000549316406, 139.10000610351562, 139.67999267578125, 139.5500030517578, 141.57000732421875, 140.41000366210938, 139.69000244140625, 137.41000366210938, 138.42999267578125, 136.3699951171875, 137.24000549316406, 139.94000244140625, 140.72999572753906, 144.19000244140625, 142.8300018310547, 144.61000061035156, 143.3699951171875, 143.72000122070312, 144.5500030517578, 144.4600067138672, 144.05999755859375, 144.25999450683594, 145.9600067138672, 146.11000061035156, 147.07000732421875, 147.30999755859375, 148.05999755859375, 149.97000122070312, 150.33999633789062, 150.38999938964844, 149.6199951171875, 149.47999572753906, 149.58999633789062, 151.22999572753906, 152.02999877929688, 152.32000732421875, 151.3800048828125, 149.5500030517578, 149.30999755859375, 149.85000610351562, 149.92999267578125, 151.75, 151.36000061035156, 151.1300048828125, 151.6999969482422, 153.24000549316406, 154.52999877929688, 155.52999877929688, 154.69000244140625, 154.3699951171875, 155.7100067138672, 157.41000366210938, 157.41000366210938, 157.3800048828125, 158.6699981689453, 158.9600067138672, 157.58999633789062, 157.6999969482422, 160.6199951171875, 158.6199951171875, 159.02999877929688, 157.5800018310547, 160.08999633789062, 162.08999633789062, 161.33999633789062, 163.27999877929688, 162.1300048828125, 163.17999267578125, 166.1699981689453, 167.10000610351562, 166.5, 165.6999969482422, 166.72000122070312, 165.0399932861328, 162.27999877929688, 165.4600067138672, 168.0399932861328, 172.77999877929688, 170.22999572753906, 174.3800048828125, 180.1199951171875, 179.89999389648438, 183.6300048828125, 183.88999938964844, 188.6999969482422, 184.44000244140625, 184.7100067138672, 183.7100067138672, 185.35000610351562, 187.22999572753906, 187.27999877929688, 184.4199981689453, 178.58999633789062, 170.88999938964844, 168.07000732421875, 170.1699981689453, 158.17999267578125, 162.00999450683594, 172.7899932861328, 164.50999450683594, 170.5500030517578, 166.27000427246094, 161.57000732421875, 150.6199951171875, 160.9199981689453, 153.6300048828125, 139.05999755859375, 158.8300018310547, 135.4199981689453, 146.57000732421875, 140.39999389648438, 142.7100067138672, 137.35000610351562, 135.97999572753906, 148.33999633789062, 146.9199981689453, 156.11000061035156, 149.6999969482422, 160.22999572753906, 157.7100067138672, 152.11000061035156, 155.25999450683594, 153.8300018310547, 165.27000427246094, 163.49000549316406, 165.1300048828125, 165.13999938964844, 165.50999450683594, 173.6999969482422, 171.8800048828125, 177.0399932861328, 178.60000610351562, 175.05999755859375, 167.82000732421875, 173.52000427246094, 171.4199981689453, 174.5500030517578, 174.0500030517578, 169.80999755859375, 177.42999267578125, 179.2100067138672, 174.57000732421875, 178.83999633789062, 180.75999450683594, 182.5399932861328, 183.60000610351562, 184.67999267578125, 186.74000549316406, 182.50999450683594, 179.75, 180.52999877929688, 183.16000366210938, 184.91000366210938, 183.6300048828125, 185.66000366210938, 183.42999267578125, 183.50999450683594, 181.57000732421875, 181.80999755859375, 181.39999389648438, 183.25, 182.8300018310547, 184.91000366210938, 185.36000061035156, 182.9199981689453, 187.1999969482422, 188.36000061035156, 189.8000030517578, 196.83999633789062, 186.27000427246094, 187.74000549316406, 188.94000244140625, 193.57000732421875, 194.24000549316406, 196.32000732421875, 195.14999389648438, 200.57000732421875, 201.91000366210938, 197.83999633789062, 200.33999633789062, 196.3300018310547, 198.44000244140625, 203.50999450683594, 204.6999969482422, 206.25999450683594, 210.6999969482422, 208.25, 212.8300018310547, 214.32000732421875, 213.6699981689453, 207.07000732421875, 208.35000610351562, 208.0399932861328, 203.9199981689453, 202.8800048828125, 211.60000610351562, 208.75, 211.75, 202.5399932861328, 201.3000030517578, 203.85000610351562, 202.02000427246094, 204.05999755859375, 203.89999389648438, 205.00999450683594, 216.5399932861328, 213.2899932861328, 212.94000244140625, 216.35000610351562, 212.47999572753906, 208.25, 203.3800048828125, 209.19000244140625, 208.6999969482422, 208.89999389648438, 210.27999877929688, 211.49000549316406, 209.6999969482422, 214.5800018310547, 213.02000427246094, 213.69000244140625, 216.47000122070312, 221.14999389648438, 226.5800018310547, 228.91000366210938, 225.52999877929688, 227.27000427246094, 231.64999389648438, 217.3000030517578, 214.25, 202.66000366210938, 211.2899932861328, 205.3699951171875, 204.02999877929688, 205.41000366210938, 208.77999877929688, 205.0500030517578, 202.91000366210938, 200.38999938964844, 202.5399932861328, 207.4199981689453, 200.58999633789062, 203.19000244140625, 207.82000732421875, 209.44000244140625, 207.25999450683594, 210.3300018310547, 212.4600067138672, 206.19000244140625, 210.3800048828125, 205.91000366210938, 209.8300018310547, 210.5800018310547, 215.80999755859375, 221.39999389648438, 222.86000061035156, 220.86000061035156, 219.66000366210938, 219.66000366210938, 214.22000122070312, 214.64999389648438, 214.8000030517578, 214.88999938964844, 216.22999572753906, 210.0800018310547, 213.25, 202.67999267578125, 204.72000122070312, 202.47000122070312, 202.3300018310547, 206.42999267578125, 216.38999938964844, 223.2899932861328, 223.72000122070312, 218.38999938964844, 211.00999450683594, 216.5500030517578, 215.44000244140625, 216.50999450683594, 217.22999572753906, 214.4600067138672, 211.0800018310547, 212.4199981689453, 210.38999938964844, 210.11000061035156, 213.86000061035156, 213.8699951171875, 215.22999572753906, 214.07000732421875, 216.2100067138672, 215.3699951171875, 214.24000549316406, 214.36000061035156, 214.2899932861328, 216.00999450683594, 211.8000030517578, 210.52000427246094, 213.25999450683594, 214.1999969482422, 214.1300048828125, 219.27999877929688, 219.4199981689453, 218.58999633789062, 222.58999633789062, 223.94000244140625, 221.02000427246094, 222.75], \"high\": [101.75, 100.19000244140625, 102.51000213623047, 103.2699966430664, 103.97000122070312, 104.87999725341797, 103.75, 103.44000244140625, 102.87000274658203, 105.05000305175781, 106.26000213623047, 106.62999725341797, 107.9000015258789, 107.0999984741211, 107.04000091552734, 107.0, 107.87999725341797, 106.4800033569336, 104.97000122070312, 106.37999725341797, 105.22000122070312, 104.0999984741211, 105.80000305175781, 107.2699966430664, 107.0, 105.58999633789062, 105.77999877929688, 106.58000183105469, 107.13999938964844, 107.77999877929688, 107.29000091552734, 108.30000305175781, 108.66000366210938, 107.94000244140625, 109.4800033569336, 111.19999694824219, 112.18000030517578, 113.23999786376953, 112.36000061035156, 112.87999725341797, 113.0199966430664, 113.25, 112.38999938964844, 112.66000366210938, 111.55000305175781, 110.70999908447266, 112.94999694824219, 113.98999786376953, 115.0, 115.19999694824219, 117.25, 117.61000061035156, 118.44000244140625, 118.75, 120.81999969482422, 119.58999633789062, 118.01000213623047, 118.70999908447266, 118.20999908447266, 117.58000183105469, 118.31999969482422, 119.11000061035156, 119.4800033569336, 120.43000030517578, 120.2300033569336, 120.2300033569336, 120.0199966430664, 119.54000091552734, 120.3499984741211, 120.8499984741211, 120.9800033569336, 121.58000183105469, 121.6500015258789, 121.8499984741211, 123.5199966430664, 124.0, 125.58000183105469, 125.8499984741211, 131.3699951171875, 130.52000427246094, 130.17999267578125, 130.6999969482422, 130.64999389648438, 128.0, 129.42999267578125, 128.55999755859375, 127.18000030517578, 126.37000274658203, 125.79000091552734, 127.93000030517578, 125.55000305175781, 125.87999725341797, 126.70999908447266, 129.3800048828125, 130.4600067138672, 127.58999633789062, 127.52999877929688, 128.24000549316406, 126.29000091552734, 127.41999816894531, 128.0, 125.38999938964844, 125.76000213623047, 124.62000274658203, 124.37000274658203, 123.27999877929688, 125.87000274658203, 127.97000122070312, 132.25, 134.0800018310547, 134.24000549316406, 131.97000122070312, 133.0, 133.7899932861328, 133.72999572753906, 135.24000549316406, 135.92999267578125, 137.66000366210938, 137.72999572753906, 138.39999389648438, 137.58999633789062, 135.74000549316406, 134.7100067138672, 134.60000610351562, 136.6999969482422, 136.58999633789062, 137.74000549316406, 137.3300018310547, 137.10000610351562, 136.97000122070312, 138.5800018310547, 139.22000122070312, 139.1300048828125, 139.5399932861328, 139.0500030517578, 137.92999267578125, 136.6199951171875, 140.6699981689453, 139.19000244140625, 139.99000549316406, 140.74000549316406, 140.61000061035156, 141.67999267578125, 141.50999450683594, 141.22000122070312, 140.49000549316406, 140.94000244140625, 138.32000732421875, 133.92999267578125, 135.67999267578125, 135.64999389648438, 138.99000549316406, 139.3800048828125, 137.86000061035156, 138.8000030517578, 136.9199981689453, 134.5800018310547, 136.4600067138672, 138.5500030517578, 138.7100067138672, 139.49000549316406, 139.1999969482422, 138.35000610351562, 135.55999755859375, 136.72000122070312, 135.75999450683594, 138.44000244140625, 139.17999267578125, 137.1999969482422, 137.69000244140625, 140.3800048828125, 140.17999267578125, 139.75, 136.88999938964844, 136.27000427246094, 138.4199981689453, 138.05999755859375, 136.6999969482422, 137.52000427246094, 138.6699981689453, 142.3699951171875, 141.64999389648438, 139.6300048828125, 140.69000244140625, 139.9600067138672, 140.17999267578125, 140.36000061035156, 139.22000122070312, 140.25, 136.3699951171875, 136.75, 138.25, 138.17999267578125, 137.75999450683594, 138.6999969482422, 139.6699981689453, 141.02999877929688, 140.2899932861328, 141.7899932861328, 140.99000549316406, 141.4199981689453, 140.0, 138.5, 140.00999450683594, 137.4499969482422, 140.4199981689453, 141.13999938964844, 145.6699981689453, 144.5, 145.0, 144.92999267578125, 144.4199981689453, 145.0, 145.02000427246094, 144.52000427246094, 144.8800048828125, 145.99000549316406, 146.4199981689453, 147.57000732421875, 147.4600067138672, 148.41000366210938, 149.99000549316406, 150.5500030517578, 151.3300018310547, 150.83999633789062, 149.8000030517578, 150.3000030517578, 151.35000610351562, 152.4199981689453, 152.5, 152.3000030517578, 151.8300018310547, 149.42999267578125, 150.17999267578125, 150.32000732421875, 151.8699951171875, 152.2100067138672, 151.88999938964844, 151.8699951171875, 153.44000244140625, 154.88999938964844, 155.89999389648438, 155.7100067138672, 155.47999572753906, 155.77000427246094, 158.49000549316406, 158.1199951171875, 157.7100067138672, 158.72999572753906, 159.5500030517578, 159.02000427246094, 157.77000427246094, 160.72999572753906, 159.9499969482422, 159.10000610351562, 159.6699981689453, 160.8000030517578, 162.22000122070312, 163.22000122070312, 163.30999755859375, 163.60000610351562, 163.94000244140625, 166.24000549316406, 167.47000122070312, 168.19000244140625, 167.49000549316406, 166.8000030517578, 167.52999877929688, 163.3800048828125, 165.75999450683594, 168.75, 174.0500030517578, 172.39999389648438, 174.5, 180.63999938964844, 184.1999969482422, 183.82000732421875, 185.6300048828125, 188.83999633789062, 190.6999969482422, 185.85000610351562, 186.22999572753906, 185.41000366210938, 187.6999969482422, 188.17999267578125, 187.25, 183.5, 174.5500030517578, 174.83999633789062, 173.25999450683594, 167.02999877929688, 163.7100067138672, 172.9199981689453, 175.0, 170.6999969482422, 170.8699951171875, 163.11000061035156, 157.75, 161.02999877929688, 157.6999969482422, 153.47000122070312, 161.91000366210938, 149.35000610351562, 147.5, 146.0, 150.14999389648438, 147.10000610351562, 140.57000732421875, 149.60000610351562, 154.3300018310547, 156.66000366210938, 154.88999938964844, 160.60000610351562, 164.77999877929688, 157.75, 155.47999572753906, 157.3800048828125, 166.5, 170.0, 166.6699981689453, 167.3699951171875, 165.57000732421875, 173.75, 173.57000732421875, 177.27999877929688, 180.0, 178.75, 173.6699981689453, 174.0, 175.05999755859375, 174.55999755859375, 176.89999389648438, 175.6699981689453, 177.67999267578125, 180.39999389648438, 178.63999938964844, 179.0, 183.64999389648438, 184.1999969482422, 184.5500030517578, 185.0, 187.50999450683594, 187.0399932861328, 184.0500030517578, 180.69000244140625, 187.05999755859375, 186.1999969482422, 186.60000610351562, 185.85000610351562, 186.6699981689453, 184.4600067138672, 186.5, 181.99000549316406, 184.14999389648438, 184.27000427246094, 183.0, 185.0, 185.94000244140625, 185.83999633789062, 187.72999572753906, 188.5500030517578, 190.6999969482422, 198.52000427246094, 195.75999450683594, 191.72000122070312, 190.82000732421875, 195.5800018310547, 196.32000732421875, 196.49000549316406, 199.2899932861328, 200.75999450683594, 203.9499969482422, 203.25, 200.61000061035156, 199.88999938964844, 198.52999877929688, 204.39999389648438, 206.35000610351562, 208.02000427246094, 211.1300048828125, 214.6699981689453, 213.25999450683594, 216.3800048828125, 214.0800018310547, 215.8000030517578, 208.85000610351562, 211.3300018310547, 205.6999969482422, 205.0399932861328, 212.3000030517578, 213.94000244140625, 212.3000030517578, 210.9199981689453, 202.86000061035156, 203.97000122070312, 204.6999969482422, 204.64999389648438, 204.4600067138672, 205.10000610351562, 217.63999938964844, 214.77000427246094, 215.0, 216.3699951171875, 215.6999969482422, 211.8800048828125, 207.64999389648438, 210.27999877929688, 211.35000610351562, 209.58999633789062, 211.19000244140625, 212.36000061035156, 212.10000610351562, 215.0, 216.25, 215.52000427246094, 216.61000061035156, 222.08999633789062, 231.14999389648438, 230.63999938964844, 228.6999969482422, 227.4499969482422, 232.86000061035156, 229.30999755859375, 218.36000061035156, 210.02999877929688, 214.83999633789062, 214.74000549316406, 208.6300048828125, 209.1999969482422, 209.77999877929688, 210.64999389648438, 204.3300018310547, 203.64999389648438, 202.7100067138672, 208.10000610351562, 208.10000610351562, 205.57000732421875, 209.0399932861328, 212.57000732421875, 210.07000732421875, 211.97999572753906, 213.99000549316406, 210.99000549316406, 210.41000366210938, 210.17999267578125, 210.11000061035156, 211.19000244140625, 215.86000061035156, 223.86000061035156, 225.2100067138672, 224.22000122070312, 220.36000061035156, 222.2899932861328, 222.3000030517578, 217.3699951171875, 216.9199981689453, 216.05999755859375, 216.27999877929688, 216.33999633789062, 214.6699981689453, 208.83999633789062, 207.36000061035156, 204.2899932861328, 205.27999877929688, 208.1199951171875, 218.32000732421875, 224.1199951171875, 224.36000061035156, 228.1199951171875, 216.5, 218.0399932861328, 219.11000061035156, 217.4199981689453, 217.74000549316406, 217.67999267578125, 215.1699981689453, 213.02999877929688, 213.2899932861328, 212.2899932861328, 214.25, 215.2899932861328, 216.27000427246094, 214.75999450683594, 217.32000732421875, 215.47000122070312, 216.3800048828125, 215.3800048828125, 215.5399932861328, 216.9499969482422, 215.22999572753906, 213.0800018310547, 213.32000732421875, 216.2100067138672, 215.4199981689453, 220.11000061035156, 220.88999938964844, 219.69000244140625, 224.0, 225.6300048828125, 223.55999755859375, 223.61000061035156], \"low\": [98.94000244140625, 97.19999694824219, 98.93000030517578, 100.9800033569336, 101.70999908447266, 103.23999786376953, 102.37999725341797, 101.63999938964844, 101.26000213623047, 101.87999725341797, 104.95999908447266, 104.76000213623047, 105.91000366210938, 104.86000061035156, 105.33999633789062, 105.33999633789062, 106.19999694824219, 104.66000366210938, 102.16999816894531, 104.33000183105469, 103.18000030517578, 102.3499984741211, 102.7699966430664, 105.95999908447266, 105.52999877929688, 104.29000091552734, 104.26000213623047, 104.97000122070312, 105.4800033569336, 106.70999908447266, 105.66000366210938, 107.36000061035156, 107.77999877929688, 106.29000091552734, 106.87000274658203, 109.81999969482422, 111.26000213623047, 111.16999816894531, 110.87999725341797, 111.7300033569336, 111.66999816894531, 110.80000305175781, 111.2300033569336, 111.43000030517578, 109.87000274658203, 108.80000305175781, 110.9800033569336, 112.6500015258789, 113.77999877929688, 114.33000183105469, 114.58999633789062, 116.05000305175781, 116.98999786376953, 116.70999908447266, 117.08999633789062, 117.04000091552734, 116.31999969482422, 116.8499984741211, 115.5199966430664, 116.12999725341797, 116.95999908447266, 118.0999984741211, 118.5199966430664, 119.1500015258789, 118.37999725341797, 119.37000274658203, 118.63999938964844, 118.58000183105469, 119.54000091552734, 119.91999816894531, 120.37000274658203, 120.56999969482422, 120.0999984741211, 120.54000091552734, 121.30000305175781, 122.56999969482422, 123.83000183105469, 124.5199966430664, 128.8300018310547, 129.02000427246094, 129.35000610351562, 129.38999938964844, 127.69999694824219, 125.5199966430664, 127.25, 126.11000061035156, 124.22000122070312, 124.75, 123.56999969482422, 123.81999969482422, 123.04000091552734, 123.69999694824219, 123.69999694824219, 126.45999908447266, 127.91999816894531, 125.76000213623047, 126.58000183105469, 126.5199966430664, 124.73999786376953, 125.97000122070312, 126.05000305175781, 124.04000091552734, 124.77999877929688, 123.31999969482422, 119.01000213623047, 120.6500015258789, 124.20999908447266, 125.5999984741211, 128.25999450683594, 132.0, 131.27999877929688, 130.7100067138672, 131.55999755859375, 131.63999938964844, 132.52999877929688, 133.57000732421875, 133.80999755859375, 135.72000122070312, 136.4600067138672, 137.0, 132.72999572753906, 133.60000610351562, 133.50999450683594, 133.16000366210938, 134.97000122070312, 135.33999633789062, 136.2899932861328, 135.72000122070312, 135.3699951171875, 135.8000030517578, 137.02000427246094, 137.8699951171875, 138.00999450683594, 138.4600067138672, 136.52000427246094, 136.22000122070312, 134.6699981689453, 136.4499969482422, 137.3300018310547, 138.02999877929688, 138.85000610351562, 139.32000732421875, 140.3000030517578, 139.3699951171875, 139.8000030517578, 135.0800018310547, 136.92999267578125, 135.25999450683594, 130.77999877929688, 133.2100067138672, 131.8300018310547, 135.92999267578125, 136.4600067138672, 135.24000549316406, 135.0, 133.6699981689453, 132.25, 134.72000122070312, 136.88999938964844, 137.24000549316406, 138.0, 136.2899932861328, 132.8000030517578, 133.89999389648438, 134.66000366210938, 133.5500030517578, 136.91000366210938, 136.27000427246094, 135.6999969482422, 136.47999572753906, 138.75999450683594, 138.1999969482422, 136.4600067138672, 134.50999450683594, 135.08999633789062, 136.8699951171875, 136.57000732421875, 135.66000366210938, 136.42999267578125, 136.52999877929688, 140.07000732421875, 138.25, 138.44000244140625, 136.8800048828125, 136.02999877929688, 138.44000244140625, 136.64999389648438, 137.77999877929688, 137.0, 133.5800018310547, 133.22000122070312, 136.4199981689453, 137.02000427246094, 135.6199951171875, 136.97000122070312, 138.25, 139.5, 139.52000427246094, 139.80999755859375, 139.52999877929688, 139.02000427246094, 136.55999755859375, 137.00999450683594, 136.25999450683594, 135.61000061035156, 138.6699981689453, 139.1999969482422, 143.50999450683594, 142.64999389648438, 142.7899932861328, 142.99000549316406, 142.97000122070312, 144.16000366210938, 143.91000366210938, 143.1999969482422, 143.77000427246094, 143.75999450683594, 144.72999572753906, 146.05999755859375, 146.27999877929688, 147.0, 148.27000427246094, 148.97999572753906, 150.1999969482422, 148.4600067138672, 148.5, 148.82000732421875, 149.9199981689453, 151.32000732421875, 151.52000427246094, 151.27999877929688, 148.32000732421875, 146.64999389648438, 149.1999969482422, 149.47999572753906, 150.27000427246094, 150.91000366210938, 150.75999450683594, 150.3300018310547, 151.02000427246094, 152.8300018310547, 154.82000732421875, 154.4499969482422, 154.17999267578125, 153.75, 156.2899932861328, 157.27000427246094, 157.1199951171875, 157.39999389648438, 158.22000122070312, 156.72999572753906, 156.4499969482422, 158.3300018310547, 158.05999755859375, 156.50999450683594, 157.32000732421875, 157.9499969482422, 161.02999877929688, 161.17999267578125, 161.25999450683594, 161.72000122070312, 162.57000732421875, 164.02999877929688, 165.42999267578125, 166.42999267578125, 165.67999267578125, 165.27000427246094, 164.4499969482422, 160.1999969482422, 163.07000732421875, 165.69000244140625, 170.7899932861328, 169.5800018310547, 170.39999389648438, 176.30999755859375, 178.41000366210938, 180.05999755859375, 182.47999572753906, 183.25, 183.5, 181.85000610351562, 182.8699951171875, 182.64999389648438, 185.5, 186.47000122070312, 181.10000610351562, 177.25, 163.22999572753906, 167.64999389648438, 168.2100067138672, 157.97999572753906, 152.0, 162.30999755859375, 162.25999450683594, 165.6199951171875, 165.69000244140625, 156.0, 150.0, 152.5800018310547, 151.14999389648438, 138.5800018310547, 140.72999572753906, 135.0, 135.0, 135.02000427246094, 139.0, 135.86000061035156, 132.52000427246094, 141.27000427246094, 144.44000244140625, 148.3699951171875, 149.1999969482422, 150.00999450683594, 156.55999755859375, 150.82000732421875, 150.36000061035156, 152.19000244140625, 157.5800018310547, 163.25999450683594, 163.5, 163.3300018310547, 162.3000030517578, 168.0, 169.24000549316406, 172.89999389648438, 175.8699951171875, 174.99000549316406, 166.11000061035156, 170.82000732421875, 170.91000366210938, 170.7100067138672, 173.3000030517578, 169.38999938964844, 171.8800048828125, 176.22999572753906, 174.00999450683594, 173.8000030517578, 179.89999389648438, 181.6300048828125, 182.5800018310547, 183.36000061035156, 182.85000610351562, 182.3000030517578, 176.5399932861328, 175.67999267578125, 177.0, 183.9600067138672, 183.49000549316406, 183.94000244140625, 183.2899932861328, 182.5399932861328, 181.10000610351562, 176.60000610351562, 180.3800048828125, 180.41000366210938, 181.4600067138672, 181.35000610351562, 183.5800018310547, 182.3000030517578, 182.00999450683594, 184.44000244140625, 187.25999450683594, 191.00999450683594, 186.07000732421875, 185.17999267578125, 184.00999450683594, 191.4600067138672, 193.69000244140625, 194.0, 194.3699951171875, 195.22999572753906, 201.42999267578125, 196.55999755859375, 195.47000122070312, 194.8800048828125, 193.5500030517578, 197.74000549316406, 201.77000427246094, 205.0, 208.08999633789062, 207.99000549316406, 208.69000244140625, 211.47000122070312, 211.0800018310547, 206.5, 202.02999877929688, 205.02999877929688, 202.30999755859375, 201.38999938964844, 203.00999450683594, 208.02999877929688, 208.38999938964844, 202.14999389648438, 197.50999450683594, 200.86000061035156, 201.74000549316406, 202.00999450683594, 199.57000732421875, 199.00999450683594, 210.44000244140625, 210.30999755859375, 211.57000732421875, 211.5500030517578, 210.92999267578125, 206.35000610351562, 203.13999938964844, 204.75, 208.14999389648438, 207.50999450683594, 208.9199981689453, 209.2100067138672, 209.25, 208.91000366210938, 212.85000610351562, 212.42999267578125, 213.10000610351562, 217.36000061035156, 219.39999389648438, 226.5800018310547, 224.30999755859375, 224.42999267578125, 227.35000610351562, 214.9600067138672, 205.19000244140625, 202.1999969482422, 206.6999969482422, 204.11000061035156, 201.24000549316406, 204.02999877929688, 206.92999267578125, 204.63999938964844, 199.9600067138672, 196.25, 196.3800048828125, 202.0800018310547, 200.02999877929688, 199.1999969482422, 202.5399932861328, 208.05999755859375, 206.80999755859375, 206.5399932861328, 211.32000732421875, 205.5399932861328, 206.97999572753906, 204.82000732421875, 206.72000122070312, 208.32000732421875, 211.22999572753906, 216.80999755859375, 220.42999267578125, 219.1300048828125, 216.00999450683594, 219.32000732421875, 213.72000122070312, 213.08999633789062, 213.1199951171875, 211.6999969482422, 213.16000366210938, 208.10000610351562, 210.3300018310547, 202.10000610351562, 203.3699951171875, 199.6199951171875, 200.1199951171875, 203.1199951171875, 212.4199981689453, 221.14999389648438, 218.02999877929688, 217.8800048828125, 209.72000122070312, 212.1999969482422, 214.4600067138672, 214.16000366210938, 214.52000427246094, 214.0800018310547, 210.92999267578125, 209.92999267578125, 210.0, 208.16000366210938, 208.86000061035156, 212.4600067138672, 214.0399932861328, 210.83999633789062, 213.35000610351562, 212.8000030517578, 213.64999389648438, 213.17999267578125, 212.99000549316406, 212.88999938964844, 211.2100067138672, 210.36000061035156, 209.11000061035156, 212.8800048828125, 212.24000549316406, 214.72000122070312, 217.9199981689453, 216.02000427246094, 217.27999877929688, 221.85000610351562, 220.8000030517578, 221.1999969482422], \"name\": \"MSFT\", \"open\": [99.55000305175781, 100.0999984741211, 99.72000122070312, 101.63999938964844, 103.04000091552734, 103.86000061035156, 103.22000122070312, 103.19000244140625, 101.9000015258789, 102.51000213623047, 105.26000213623047, 105.0, 107.45999908447266, 106.75, 106.12000274658203, 106.86000061035156, 107.23999786376953, 106.26000213623047, 104.87999725341797, 104.62000274658203, 103.80000305175781, 103.77999877929688, 102.87000274658203, 106.05999755859375, 107.0, 105.19000244140625, 104.38999938964844, 106.19999694824219, 106.13999938964844, 107.5, 106.30999755859375, 107.91000366210938, 107.79000091552734, 107.86000061035156, 106.9000015258789, 110.05000305175781, 111.76000213623047, 111.26000213623047, 111.69000244140625, 112.04000091552734, 112.88999938964844, 113.0199966430664, 112.25, 111.87000274658203, 111.4000015258789, 109.16000366210938, 110.98999786376953, 112.81999969482422, 114.12999725341797, 114.54000091552734, 115.33999633789062, 116.16999816894531, 118.08999633789062, 117.38999938964844, 117.13999938964844, 119.5, 116.55999755859375, 118.62000274658203, 117.87999725341797, 117.44000244140625, 118.06999969482422, 118.94999694824219, 119.05999755859375, 119.86000061035156, 120.0999984741211, 119.38999938964844, 119.80999755859375, 118.62999725341797, 119.76000213623047, 120.54000091552734, 120.63999938964844, 120.94000244140625, 121.63999938964844, 121.23999786376953, 122.19000244140625, 122.62000274658203, 124.0999984741211, 125.79000091552734, 130.05999755859375, 129.6999969482422, 129.89999389648438, 129.80999755859375, 130.52999877929688, 127.9800033569336, 127.36000061035156, 126.38999938964844, 126.45999908447266, 125.44000244140625, 124.29000091552734, 124.91000366210938, 124.11000061035156, 123.87000274658203, 124.26000213623047, 126.75, 128.30999755859375, 126.5199966430664, 127.43000030517578, 126.62000274658203, 126.19999694824219, 126.91000366210938, 126.9800033569336, 125.37999725341797, 125.26000213623047, 124.2300033569336, 123.8499984741211, 121.27999877929688, 124.94999694824219, 126.44000244140625, 129.19000244140625, 132.39999389648438, 133.8800048828125, 131.39999389648438, 131.97999572753906, 132.25999450683594, 132.6300048828125, 134.19000244140625, 135.0, 137.4499969482422, 136.5800018310547, 137.0, 137.25, 134.35000610351562, 134.13999938964844, 134.57000732421875, 136.6300048828125, 136.1199951171875, 136.8000030517578, 135.94000244140625, 136.39999389648438, 136.0, 137.1300048828125, 138.1999969482422, 138.85000610351562, 139.44000244140625, 138.9600067138672, 137.6999969482422, 135.5500030517578, 140.22000122070312, 137.41000366210938, 139.75999450683594, 138.89999389648438, 140.42999267578125, 140.3699951171875, 141.5, 140.13999938964844, 140.3300018310547, 137.0, 138.08999633789062, 133.3000030517578, 133.8000030517578, 133.7899932861328, 136.60000610351562, 138.61000061035156, 137.07000732421875, 136.0500030517578, 136.36000061035156, 134.38999938964844, 134.8800048828125, 137.85000610351562, 138.2100067138672, 138.5500030517578, 138.66000366210938, 137.19000244140625, 134.99000549316406, 136.38999938964844, 134.8800048828125, 137.25, 139.14999389648438, 136.61000061035156, 137.3000030517578, 139.11000061035156, 140.02999877929688, 139.58999633789062, 136.8000030517578, 135.91000366210938, 137.85000610351562, 137.77999877929688, 135.8300018310547, 136.9600067138672, 137.36000061035156, 140.3000030517578, 141.00999450683594, 139.22999572753906, 140.36000061035156, 137.5, 139.44000244140625, 140.14999389648438, 138.0500030517578, 139.66000366210938, 136.25, 134.9499969482422, 136.75, 137.13999938964844, 137.0800018310547, 137.4600067138672, 138.49000549316406, 140.1199951171875, 139.69000244140625, 140.05999755859375, 140.7899932861328, 140.9499969482422, 139.75999450683594, 138.4499969482422, 138.97000122070312, 136.8800048828125, 139.38999938964844, 139.33999633789062, 144.39999389648438, 144.0800018310547, 143.52000427246094, 144.89999389648438, 144.25999450683594, 144.8300018310547, 144.97000122070312, 144.3699951171875, 143.83999633789062, 143.97999572753906, 145.33999633789062, 146.27999877929688, 146.74000549316406, 147.02000427246094, 148.92999267578125, 150.07000732421875, 150.8800048828125, 150.30999755859375, 149.39999389648438, 150.07000732421875, 150.0, 151.36000061035156, 152.3300018310547, 152.10000610351562, 151.80999755859375, 147.49000549316406, 150.13999938964844, 150.0500030517578, 150.99000549316406, 151.07000732421875, 151.2899932861328, 151.5399932861328, 151.64999389648438, 153.0, 155.11000061035156, 155.4499969482422, 154.3000030517578, 154.0, 157.35000610351562, 158.1199951171875, 157.47999572753906, 157.55999755859375, 159.4499969482422, 158.99000549316406, 156.77000427246094, 158.77999877929688, 158.32000732421875, 157.0800018310547, 159.32000732421875, 158.92999267578125, 161.83999633789062, 162.82000732421875, 161.75999450683594, 163.38999938964844, 162.6199951171875, 164.35000610351562, 167.4199981689453, 166.67999267578125, 167.39999389648438, 166.19000244140625, 167.50999450683594, 161.14999389648438, 163.77999877929688, 167.83999633789062, 174.0500030517578, 172.2100067138672, 170.42999267578125, 177.13999938964844, 184.02999877929688, 180.97000122070312, 182.85000610351562, 183.5800018310547, 190.64999389648438, 185.5800018310547, 183.0800018310547, 183.25, 185.61000061035156, 188.05999755859375, 186.9499969482422, 183.1699981689453, 167.77000427246094, 174.1999969482422, 169.7100067138672, 163.32000732421875, 152.41000366210938, 165.30999755859375, 173.8000030517578, 168.49000549316406, 166.0500030517578, 162.61000061035156, 151.0, 158.16000366210938, 157.1300048828125, 145.3000030517578, 147.5, 140.0, 140.0, 138.0, 142.77000427246094, 146.0, 137.00999450683594, 143.75, 148.91000366210938, 148.39999389648438, 151.75, 152.44000244140625, 159.39999389648438, 153.0, 151.86000061035156, 155.10000610351562, 160.32000732421875, 169.58999633789062, 165.6699981689453, 166.36000061035156, 164.35000610351562, 169.0, 171.1999969482422, 174.3000030517578, 179.5, 176.6300048828125, 173.5, 171.38999938964844, 174.11000061035156, 172.05999755859375, 176.58999633789062, 175.58999633789062, 173.22000122070312, 180.0, 175.8000030517578, 174.49000549316406, 180.6199951171875, 182.0800018310547, 184.1699981689453, 184.97999572753906, 183.14999389648438, 186.8000030517578, 182.5500030517578, 177.5399932861328, 179.05999755859375, 185.75, 185.02999877929688, 184.80999755859375, 185.39999389648438, 183.19000244140625, 186.33999633789062, 180.1999969482422, 180.74000549316406, 182.72999572753906, 182.5399932861328, 184.25, 184.82000732421875, 184.3000030517578, 182.6199951171875, 185.94000244140625, 188.0, 191.1300048828125, 193.1300048828125, 190.5399932861328, 184.5800018310547, 192.88999938964844, 195.02999877929688, 194.0, 198.58999633789062, 195.7899932861328, 202.08999633789062, 201.60000610351562, 197.8000030517578, 199.72999572753906, 195.77999877929688, 197.8800048828125, 203.13999938964844, 205.67999267578125, 208.8300018310547, 210.4499969482422, 210.07000732421875, 216.3300018310547, 213.6199951171875, 214.47999572753906, 206.1300048828125, 209.55999755859375, 205.39999389648438, 204.47000122070312, 205.0, 213.66000366210938, 209.1999969482422, 207.19000244140625, 200.4199981689453, 201.47000122070312, 203.61000061035156, 202.5, 201.0, 204.39999389648438, 211.52000427246094, 214.1699981689453, 214.89999389648438, 212.33999633789062, 214.85000610351562, 211.6699981689453, 207.16000366210938, 205.2899932861328, 209.44000244140625, 208.75999450683594, 209.60000610351562, 210.52999877929688, 211.49000549316406, 209.5399932861328, 213.86000061035156, 214.7899932861328, 213.10000610351562, 217.8800048828125, 222.88999938964844, 228.17999267578125, 227.0, 225.50999450683594, 227.97000122070312, 229.27000427246094, 215.10000610351562, 206.5, 207.60000610351562, 213.39999389648438, 207.1999969482422, 204.24000549316406, 208.4199981689453, 210.6199951171875, 200.0500030517578, 202.8000030517578, 197.19000244140625, 205.05999755859375, 207.89999389648438, 199.85000610351562, 203.5500030517578, 210.8800048828125, 209.35000610351562, 207.72999572753906, 213.49000549316406, 208.0, 207.22000122070312, 208.82000732421875, 207.05999755859375, 210.50999450683594, 211.22999572753906, 218.7899932861328, 222.72000122070312, 223.0, 217.10000610351562, 220.14999389648438, 220.4199981689453, 215.8000030517578, 213.1199951171875, 213.92999267578125, 215.02999877929688, 213.85000610351562, 211.58999633789062, 207.6699981689453, 204.07000732421875, 203.5, 204.2899932861328, 203.88999938964844, 214.02000427246094, 222.0399932861328, 222.25999450683594, 224.44000244140625, 214.5, 212.38999938964844, 217.2100067138672, 216.36000061035156, 214.8699951171875, 216.10000610351562, 213.64999389648438, 211.3800048828125, 212.1999969482422, 210.9499969482422, 209.58999633789062, 215.11000061035156, 214.85000610351562, 214.10000610351562, 214.50999450683594, 214.8800048828125, 214.61000061035156, 214.22000122070312, 214.3699951171875, 213.97000122070312, 215.16000366210938, 211.77000427246094, 210.0500030517578, 213.10000610351562, 215.1699981689453, 214.75, 219.8699951171875, 218.58999633789062, 217.5500030517578, 222.69000244140625, 223.11000061035156, 221.4199981689453], \"showlegend\": true, \"type\": \"candlestick\", \"x\": [\"2019-01-02T00:00:00\", \"2019-01-03T00:00:00\", \"2019-01-04T00:00:00\", \"2019-01-07T00:00:00\", \"2019-01-08T00:00:00\", \"2019-01-09T00:00:00\", \"2019-01-10T00:00:00\", \"2019-01-11T00:00:00\", \"2019-01-14T00:00:00\", \"2019-01-15T00:00:00\", \"2019-01-16T00:00:00\", \"2019-01-17T00:00:00\", \"2019-01-18T00:00:00\", \"2019-01-22T00:00:00\", \"2019-01-23T00:00:00\", \"2019-01-24T00:00:00\", \"2019-01-25T00:00:00\", \"2019-01-28T00:00:00\", \"2019-01-29T00:00:00\", \"2019-01-30T00:00:00\", \"2019-01-31T00:00:00\", \"2019-02-01T00:00:00\", \"2019-02-04T00:00:00\", \"2019-02-05T00:00:00\", \"2019-02-06T00:00:00\", \"2019-02-07T00:00:00\", \"2019-02-08T00:00:00\", \"2019-02-11T00:00:00\", \"2019-02-12T00:00:00\", \"2019-02-13T00:00:00\", \"2019-02-14T00:00:00\", \"2019-02-15T00:00:00\", \"2019-02-19T00:00:00\", \"2019-02-20T00:00:00\", \"2019-02-21T00:00:00\", \"2019-02-22T00:00:00\", \"2019-02-25T00:00:00\", \"2019-02-26T00:00:00\", \"2019-02-27T00:00:00\", \"2019-02-28T00:00:00\", \"2019-03-01T00:00:00\", \"2019-03-04T00:00:00\", \"2019-03-05T00:00:00\", \"2019-03-06T00:00:00\", \"2019-03-07T00:00:00\", \"2019-03-08T00:00:00\", \"2019-03-11T00:00:00\", \"2019-03-12T00:00:00\", \"2019-03-13T00:00:00\", \"2019-03-14T00:00:00\", \"2019-03-15T00:00:00\", \"2019-03-18T00:00:00\", \"2019-03-19T00:00:00\", \"2019-03-20T00:00:00\", \"2019-03-21T00:00:00\", \"2019-03-22T00:00:00\", \"2019-03-25T00:00:00\", \"2019-03-26T00:00:00\", \"2019-03-27T00:00:00\", \"2019-03-28T00:00:00\", \"2019-03-29T00:00:00\", \"2019-04-01T00:00:00\", \"2019-04-02T00:00:00\", \"2019-04-03T00:00:00\", \"2019-04-04T00:00:00\", \"2019-04-05T00:00:00\", \"2019-04-08T00:00:00\", \"2019-04-09T00:00:00\", \"2019-04-10T00:00:00\", \"2019-04-11T00:00:00\", \"2019-04-12T00:00:00\", \"2019-04-15T00:00:00\", \"2019-04-16T00:00:00\", \"2019-04-17T00:00:00\", \"2019-04-18T00:00:00\", \"2019-04-22T00:00:00\", \"2019-04-23T00:00:00\", \"2019-04-24T00:00:00\", \"2019-04-25T00:00:00\", \"2019-04-26T00:00:00\", \"2019-04-29T00:00:00\", \"2019-04-30T00:00:00\", \"2019-05-01T00:00:00\", \"2019-05-02T00:00:00\", \"2019-05-03T00:00:00\", \"2019-05-06T00:00:00\", \"2019-05-07T00:00:00\", \"2019-05-08T00:00:00\", \"2019-05-09T00:00:00\", \"2019-05-10T00:00:00\", \"2019-05-13T00:00:00\", \"2019-05-14T00:00:00\", \"2019-05-15T00:00:00\", \"2019-05-16T00:00:00\", \"2019-05-17T00:00:00\", \"2019-05-20T00:00:00\", \"2019-05-21T00:00:00\", \"2019-05-22T00:00:00\", \"2019-05-23T00:00:00\", \"2019-05-24T00:00:00\", \"2019-05-28T00:00:00\", \"2019-05-29T00:00:00\", \"2019-05-30T00:00:00\", \"2019-05-31T00:00:00\", \"2019-06-03T00:00:00\", \"2019-06-04T00:00:00\", \"2019-06-05T00:00:00\", \"2019-06-06T00:00:00\", \"2019-06-07T00:00:00\", \"2019-06-10T00:00:00\", \"2019-06-11T00:00:00\", \"2019-06-12T00:00:00\", \"2019-06-13T00:00:00\", \"2019-06-14T00:00:00\", \"2019-06-17T00:00:00\", \"2019-06-18T00:00:00\", \"2019-06-19T00:00:00\", \"2019-06-20T00:00:00\", \"2019-06-21T00:00:00\", \"2019-06-24T00:00:00\", \"2019-06-25T00:00:00\", \"2019-06-26T00:00:00\", \"2019-06-27T00:00:00\", \"2019-06-28T00:00:00\", \"2019-07-01T00:00:00\", \"2019-07-02T00:00:00\", \"2019-07-03T00:00:00\", \"2019-07-05T00:00:00\", \"2019-07-08T00:00:00\", \"2019-07-09T00:00:00\", \"2019-07-10T00:00:00\", \"2019-07-11T00:00:00\", \"2019-07-12T00:00:00\", \"2019-07-15T00:00:00\", \"2019-07-16T00:00:00\", \"2019-07-17T00:00:00\", \"2019-07-18T00:00:00\", \"2019-07-19T00:00:00\", \"2019-07-22T00:00:00\", \"2019-07-23T00:00:00\", \"2019-07-24T00:00:00\", \"2019-07-25T00:00:00\", \"2019-07-26T00:00:00\", \"2019-07-29T00:00:00\", \"2019-07-30T00:00:00\", \"2019-07-31T00:00:00\", \"2019-08-01T00:00:00\", \"2019-08-02T00:00:00\", \"2019-08-05T00:00:00\", \"2019-08-06T00:00:00\", \"2019-08-07T00:00:00\", \"2019-08-08T00:00:00\", \"2019-08-09T00:00:00\", \"2019-08-12T00:00:00\", \"2019-08-13T00:00:00\", \"2019-08-14T00:00:00\", \"2019-08-15T00:00:00\", \"2019-08-16T00:00:00\", \"2019-08-19T00:00:00\", \"2019-08-20T00:00:00\", \"2019-08-21T00:00:00\", \"2019-08-22T00:00:00\", \"2019-08-23T00:00:00\", \"2019-08-26T00:00:00\", \"2019-08-27T00:00:00\", \"2019-08-28T00:00:00\", \"2019-08-29T00:00:00\", \"2019-08-30T00:00:00\", \"2019-09-03T00:00:00\", \"2019-09-04T00:00:00\", \"2019-09-05T00:00:00\", \"2019-09-06T00:00:00\", \"2019-09-09T00:00:00\", \"2019-09-10T00:00:00\", \"2019-09-11T00:00:00\", \"2019-09-12T00:00:00\", \"2019-09-13T00:00:00\", \"2019-09-16T00:00:00\", \"2019-09-17T00:00:00\", \"2019-09-18T00:00:00\", \"2019-09-19T00:00:00\", \"2019-09-20T00:00:00\", \"2019-09-23T00:00:00\", \"2019-09-24T00:00:00\", \"2019-09-25T00:00:00\", \"2019-09-26T00:00:00\", \"2019-09-27T00:00:00\", \"2019-09-30T00:00:00\", \"2019-10-01T00:00:00\", \"2019-10-02T00:00:00\", \"2019-10-03T00:00:00\", \"2019-10-04T00:00:00\", \"2019-10-07T00:00:00\", \"2019-10-08T00:00:00\", \"2019-10-09T00:00:00\", \"2019-10-10T00:00:00\", \"2019-10-11T00:00:00\", \"2019-10-14T00:00:00\", \"2019-10-15T00:00:00\", \"2019-10-16T00:00:00\", \"2019-10-17T00:00:00\", \"2019-10-18T00:00:00\", \"2019-10-21T00:00:00\", \"2019-10-22T00:00:00\", \"2019-10-23T00:00:00\", \"2019-10-24T00:00:00\", \"2019-10-25T00:00:00\", \"2019-10-28T00:00:00\", \"2019-10-29T00:00:00\", \"2019-10-30T00:00:00\", \"2019-10-31T00:00:00\", \"2019-11-01T00:00:00\", \"2019-11-04T00:00:00\", \"2019-11-05T00:00:00\", \"2019-11-06T00:00:00\", \"2019-11-07T00:00:00\", \"2019-11-08T00:00:00\", \"2019-11-11T00:00:00\", \"2019-11-12T00:00:00\", \"2019-11-13T00:00:00\", \"2019-11-14T00:00:00\", \"2019-11-15T00:00:00\", \"2019-11-18T00:00:00\", \"2019-11-19T00:00:00\", \"2019-11-20T00:00:00\", \"2019-11-21T00:00:00\", \"2019-11-22T00:00:00\", \"2019-11-25T00:00:00\", \"2019-11-26T00:00:00\", \"2019-11-27T00:00:00\", \"2019-11-29T00:00:00\", \"2019-12-02T00:00:00\", \"2019-12-03T00:00:00\", \"2019-12-04T00:00:00\", \"2019-12-05T00:00:00\", \"2019-12-06T00:00:00\", \"2019-12-09T00:00:00\", \"2019-12-10T00:00:00\", \"2019-12-11T00:00:00\", \"2019-12-12T00:00:00\", \"2019-12-13T00:00:00\", \"2019-12-16T00:00:00\", \"2019-12-17T00:00:00\", \"2019-12-18T00:00:00\", \"2019-12-19T00:00:00\", \"2019-12-20T00:00:00\", \"2019-12-23T00:00:00\", \"2019-12-24T00:00:00\", \"2019-12-26T00:00:00\", \"2019-12-27T00:00:00\", \"2019-12-30T00:00:00\", \"2019-12-31T00:00:00\", \"2020-01-02T00:00:00\", \"2020-01-03T00:00:00\", \"2020-01-06T00:00:00\", \"2020-01-07T00:00:00\", \"2020-01-08T00:00:00\", \"2020-01-09T00:00:00\", \"2020-01-10T00:00:00\", \"2020-01-13T00:00:00\", \"2020-01-14T00:00:00\", \"2020-01-15T00:00:00\", \"2020-01-16T00:00:00\", \"2020-01-17T00:00:00\", \"2020-01-21T00:00:00\", \"2020-01-22T00:00:00\", \"2020-01-23T00:00:00\", \"2020-01-24T00:00:00\", \"2020-01-27T00:00:00\", \"2020-01-28T00:00:00\", \"2020-01-29T00:00:00\", \"2020-01-30T00:00:00\", \"2020-01-31T00:00:00\", \"2020-02-03T00:00:00\", \"2020-02-04T00:00:00\", \"2020-02-05T00:00:00\", \"2020-02-06T00:00:00\", \"2020-02-07T00:00:00\", \"2020-02-10T00:00:00\", \"2020-02-11T00:00:00\", \"2020-02-12T00:00:00\", \"2020-02-13T00:00:00\", \"2020-02-14T00:00:00\", \"2020-02-18T00:00:00\", \"2020-02-19T00:00:00\", \"2020-02-20T00:00:00\", \"2020-02-21T00:00:00\", \"2020-02-24T00:00:00\", \"2020-02-25T00:00:00\", \"2020-02-26T00:00:00\", \"2020-02-27T00:00:00\", \"2020-02-28T00:00:00\", \"2020-03-02T00:00:00\", \"2020-03-03T00:00:00\", \"2020-03-04T00:00:00\", \"2020-03-05T00:00:00\", \"2020-03-06T00:00:00\", \"2020-03-09T00:00:00\", \"2020-03-10T00:00:00\", \"2020-03-11T00:00:00\", \"2020-03-12T00:00:00\", \"2020-03-13T00:00:00\", \"2020-03-16T00:00:00\", \"2020-03-17T00:00:00\", \"2020-03-18T00:00:00\", \"2020-03-19T00:00:00\", \"2020-03-20T00:00:00\", \"2020-03-23T00:00:00\", \"2020-03-24T00:00:00\", \"2020-03-25T00:00:00\", \"2020-03-26T00:00:00\", \"2020-03-27T00:00:00\", \"2020-03-30T00:00:00\", \"2020-03-31T00:00:00\", \"2020-04-01T00:00:00\", \"2020-04-02T00:00:00\", \"2020-04-03T00:00:00\", \"2020-04-06T00:00:00\", \"2020-04-07T00:00:00\", \"2020-04-08T00:00:00\", \"2020-04-09T00:00:00\", \"2020-04-13T00:00:00\", \"2020-04-14T00:00:00\", \"2020-04-15T00:00:00\", \"2020-04-16T00:00:00\", \"2020-04-17T00:00:00\", \"2020-04-20T00:00:00\", \"2020-04-21T00:00:00\", \"2020-04-22T00:00:00\", \"2020-04-23T00:00:00\", \"2020-04-24T00:00:00\", \"2020-04-27T00:00:00\", \"2020-04-28T00:00:00\", \"2020-04-29T00:00:00\", \"2020-04-30T00:00:00\", \"2020-05-01T00:00:00\", \"2020-05-04T00:00:00\", \"2020-05-05T00:00:00\", \"2020-05-06T00:00:00\", \"2020-05-07T00:00:00\", \"2020-05-08T00:00:00\", \"2020-05-11T00:00:00\", \"2020-05-12T00:00:00\", \"2020-05-13T00:00:00\", \"2020-05-14T00:00:00\", \"2020-05-15T00:00:00\", \"2020-05-18T00:00:00\", \"2020-05-19T00:00:00\", \"2020-05-20T00:00:00\", \"2020-05-21T00:00:00\", \"2020-05-22T00:00:00\", \"2020-05-26T00:00:00\", \"2020-05-27T00:00:00\", \"2020-05-28T00:00:00\", \"2020-05-29T00:00:00\", \"2020-06-01T00:00:00\", \"2020-06-02T00:00:00\", \"2020-06-03T00:00:00\", \"2020-06-04T00:00:00\", \"2020-06-05T00:00:00\", \"2020-06-08T00:00:00\", \"2020-06-09T00:00:00\", \"2020-06-10T00:00:00\", \"2020-06-11T00:00:00\", \"2020-06-12T00:00:00\", \"2020-06-15T00:00:00\", \"2020-06-16T00:00:00\", \"2020-06-17T00:00:00\", \"2020-06-18T00:00:00\", \"2020-06-19T00:00:00\", \"2020-06-22T00:00:00\", \"2020-06-23T00:00:00\", \"2020-06-24T00:00:00\", \"2020-06-25T00:00:00\", \"2020-06-26T00:00:00\", \"2020-06-29T00:00:00\", \"2020-06-30T00:00:00\", \"2020-07-01T00:00:00\", \"2020-07-02T00:00:00\", \"2020-07-06T00:00:00\", \"2020-07-07T00:00:00\", \"2020-07-08T00:00:00\", \"2020-07-09T00:00:00\", \"2020-07-10T00:00:00\", \"2020-07-13T00:00:00\", \"2020-07-14T00:00:00\", \"2020-07-15T00:00:00\", \"2020-07-16T00:00:00\", \"2020-07-17T00:00:00\", \"2020-07-20T00:00:00\", \"2020-07-21T00:00:00\", \"2020-07-22T00:00:00\", \"2020-07-23T00:00:00\", \"2020-07-24T00:00:00\", \"2020-07-27T00:00:00\", \"2020-07-28T00:00:00\", \"2020-07-29T00:00:00\", \"2020-07-30T00:00:00\", \"2020-07-31T00:00:00\", \"2020-08-03T00:00:00\", \"2020-08-04T00:00:00\", \"2020-08-05T00:00:00\", \"2020-08-06T00:00:00\", \"2020-08-07T00:00:00\", \"2020-08-10T00:00:00\", \"2020-08-11T00:00:00\", \"2020-08-12T00:00:00\", \"2020-08-13T00:00:00\", \"2020-08-14T00:00:00\", \"2020-08-17T00:00:00\", \"2020-08-18T00:00:00\", \"2020-08-19T00:00:00\", \"2020-08-20T00:00:00\", \"2020-08-21T00:00:00\", \"2020-08-24T00:00:00\", \"2020-08-25T00:00:00\", \"2020-08-26T00:00:00\", \"2020-08-27T00:00:00\", \"2020-08-28T00:00:00\", \"2020-08-31T00:00:00\", \"2020-09-01T00:00:00\", \"2020-09-02T00:00:00\", \"2020-09-03T00:00:00\", \"2020-09-04T00:00:00\", \"2020-09-08T00:00:00\", \"2020-09-09T00:00:00\", \"2020-09-10T00:00:00\", \"2020-09-11T00:00:00\", \"2020-09-14T00:00:00\", \"2020-09-15T00:00:00\", \"2020-09-16T00:00:00\", \"2020-09-17T00:00:00\", \"2020-09-18T00:00:00\", \"2020-09-21T00:00:00\", \"2020-09-22T00:00:00\", \"2020-09-23T00:00:00\", \"2020-09-24T00:00:00\", \"2020-09-25T00:00:00\", \"2020-09-28T00:00:00\", \"2020-09-29T00:00:00\", \"2020-09-30T00:00:00\", \"2020-10-01T00:00:00\", \"2020-10-02T00:00:00\", \"2020-10-05T00:00:00\", \"2020-10-06T00:00:00\", \"2020-10-07T00:00:00\", \"2020-10-08T00:00:00\", \"2020-10-09T00:00:00\", \"2020-10-12T00:00:00\", \"2020-10-13T00:00:00\", \"2020-10-14T00:00:00\", \"2020-10-15T00:00:00\", \"2020-10-16T00:00:00\", \"2020-10-19T00:00:00\", \"2020-10-20T00:00:00\", \"2020-10-21T00:00:00\", \"2020-10-22T00:00:00\", \"2020-10-23T00:00:00\", \"2020-10-26T00:00:00\", \"2020-10-27T00:00:00\", \"2020-10-28T00:00:00\", \"2020-10-29T00:00:00\", \"2020-10-30T00:00:00\", \"2020-11-02T00:00:00\", \"2020-11-03T00:00:00\", \"2020-11-04T00:00:00\", \"2020-11-05T00:00:00\", \"2020-11-06T00:00:00\", \"2020-11-09T00:00:00\", \"2020-11-10T00:00:00\", \"2020-11-11T00:00:00\", \"2020-11-12T00:00:00\", \"2020-11-13T00:00:00\", \"2020-11-16T00:00:00\", \"2020-11-17T00:00:00\", \"2020-11-18T00:00:00\", \"2020-11-19T00:00:00\", \"2020-11-20T00:00:00\", \"2020-11-23T00:00:00\", \"2020-11-24T00:00:00\", \"2020-11-25T00:00:00\", \"2020-11-27T00:00:00\", \"2020-11-30T00:00:00\", \"2020-12-01T00:00:00\", \"2020-12-02T00:00:00\", \"2020-12-03T00:00:00\", \"2020-12-04T00:00:00\", \"2020-12-07T00:00:00\", \"2020-12-08T00:00:00\", \"2020-12-09T00:00:00\", \"2020-12-10T00:00:00\", \"2020-12-11T00:00:00\", \"2020-12-14T00:00:00\", \"2020-12-15T00:00:00\", \"2020-12-16T00:00:00\", \"2020-12-17T00:00:00\", \"2020-12-18T00:00:00\", \"2020-12-21T00:00:00\", \"2020-12-22T00:00:00\", \"2020-12-23T00:00:00\", \"2020-12-24T00:00:00\"]}],\n",
              "                        {\"template\": {\"data\": {\"bar\": [{\"error_x\": {\"color\": \"#2a3f5f\"}, \"error_y\": {\"color\": \"#2a3f5f\"}, \"marker\": {\"line\": {\"color\": \"#E5ECF6\", \"width\": 0.5}}, \"type\": \"bar\"}], \"barpolar\": [{\"marker\": {\"line\": {\"color\": \"#E5ECF6\", \"width\": 0.5}}, \"type\": \"barpolar\"}], \"carpet\": [{\"aaxis\": {\"endlinecolor\": \"#2a3f5f\", \"gridcolor\": \"white\", \"linecolor\": \"white\", \"minorgridcolor\": \"white\", \"startlinecolor\": \"#2a3f5f\"}, \"baxis\": {\"endlinecolor\": \"#2a3f5f\", \"gridcolor\": \"white\", \"linecolor\": \"white\", \"minorgridcolor\": \"white\", \"startlinecolor\": \"#2a3f5f\"}, \"type\": \"carpet\"}], \"choropleth\": [{\"colorbar\": {\"outlinewidth\": 0, \"ticks\": \"\"}, \"type\": \"choropleth\"}], \"contour\": [{\"colorbar\": {\"outlinewidth\": 0, \"ticks\": \"\"}, \"colorscale\": [[0.0, \"#0d0887\"], [0.1111111111111111, \"#46039f\"], [0.2222222222222222, \"#7201a8\"], [0.3333333333333333, \"#9c179e\"], [0.4444444444444444, \"#bd3786\"], [0.5555555555555556, \"#d8576b\"], [0.6666666666666666, \"#ed7953\"], [0.7777777777777778, \"#fb9f3a\"], [0.8888888888888888, \"#fdca26\"], [1.0, \"#f0f921\"]], \"type\": \"contour\"}], \"contourcarpet\": [{\"colorbar\": {\"outlinewidth\": 0, \"ticks\": \"\"}, \"type\": \"contourcarpet\"}], \"heatmap\": [{\"colorbar\": {\"outlinewidth\": 0, \"ticks\": \"\"}, \"colorscale\": [[0.0, \"#0d0887\"], [0.1111111111111111, \"#46039f\"], [0.2222222222222222, \"#7201a8\"], [0.3333333333333333, \"#9c179e\"], [0.4444444444444444, \"#bd3786\"], [0.5555555555555556, \"#d8576b\"], [0.6666666666666666, \"#ed7953\"], [0.7777777777777778, \"#fb9f3a\"], [0.8888888888888888, \"#fdca26\"], [1.0, \"#f0f921\"]], \"type\": \"heatmap\"}], \"heatmapgl\": [{\"colorbar\": {\"outlinewidth\": 0, \"ticks\": \"\"}, \"colorscale\": [[0.0, \"#0d0887\"], [0.1111111111111111, \"#46039f\"], [0.2222222222222222, \"#7201a8\"], [0.3333333333333333, \"#9c179e\"], [0.4444444444444444, \"#bd3786\"], [0.5555555555555556, \"#d8576b\"], [0.6666666666666666, \"#ed7953\"], [0.7777777777777778, \"#fb9f3a\"], [0.8888888888888888, \"#fdca26\"], [1.0, \"#f0f921\"]], \"type\": \"heatmapgl\"}], \"histogram\": [{\"marker\": {\"colorbar\": {\"outlinewidth\": 0, \"ticks\": \"\"}}, \"type\": \"histogram\"}], \"histogram2d\": [{\"colorbar\": {\"outlinewidth\": 0, \"ticks\": \"\"}, \"colorscale\": [[0.0, \"#0d0887\"], [0.1111111111111111, \"#46039f\"], [0.2222222222222222, \"#7201a8\"], [0.3333333333333333, \"#9c179e\"], [0.4444444444444444, \"#bd3786\"], [0.5555555555555556, \"#d8576b\"], [0.6666666666666666, \"#ed7953\"], [0.7777777777777778, \"#fb9f3a\"], [0.8888888888888888, \"#fdca26\"], [1.0, \"#f0f921\"]], \"type\": \"histogram2d\"}], \"histogram2dcontour\": [{\"colorbar\": {\"outlinewidth\": 0, \"ticks\": \"\"}, \"colorscale\": [[0.0, \"#0d0887\"], [0.1111111111111111, \"#46039f\"], [0.2222222222222222, \"#7201a8\"], [0.3333333333333333, \"#9c179e\"], [0.4444444444444444, \"#bd3786\"], [0.5555555555555556, \"#d8576b\"], [0.6666666666666666, \"#ed7953\"], [0.7777777777777778, \"#fb9f3a\"], [0.8888888888888888, \"#fdca26\"], [1.0, \"#f0f921\"]], \"type\": \"histogram2dcontour\"}], \"mesh3d\": [{\"colorbar\": {\"outlinewidth\": 0, \"ticks\": \"\"}, \"type\": \"mesh3d\"}], \"parcoords\": [{\"line\": {\"colorbar\": {\"outlinewidth\": 0, \"ticks\": \"\"}}, \"type\": \"parcoords\"}], \"pie\": [{\"automargin\": true, \"type\": \"pie\"}], \"scatter\": [{\"marker\": {\"colorbar\": {\"outlinewidth\": 0, \"ticks\": \"\"}}, \"type\": \"scatter\"}], \"scatter3d\": [{\"line\": {\"colorbar\": {\"outlinewidth\": 0, \"ticks\": \"\"}}, \"marker\": {\"colorbar\": {\"outlinewidth\": 0, \"ticks\": \"\"}}, \"type\": \"scatter3d\"}], \"scattercarpet\": [{\"marker\": {\"colorbar\": {\"outlinewidth\": 0, \"ticks\": \"\"}}, \"type\": \"scattercarpet\"}], \"scattergeo\": [{\"marker\": {\"colorbar\": {\"outlinewidth\": 0, \"ticks\": \"\"}}, \"type\": \"scattergeo\"}], \"scattergl\": [{\"marker\": {\"colorbar\": {\"outlinewidth\": 0, \"ticks\": \"\"}}, \"type\": \"scattergl\"}], \"scattermapbox\": [{\"marker\": {\"colorbar\": {\"outlinewidth\": 0, \"ticks\": \"\"}}, \"type\": \"scattermapbox\"}], \"scatterpolar\": [{\"marker\": {\"colorbar\": {\"outlinewidth\": 0, \"ticks\": \"\"}}, \"type\": \"scatterpolar\"}], \"scatterpolargl\": [{\"marker\": {\"colorbar\": {\"outlinewidth\": 0, \"ticks\": \"\"}}, \"type\": \"scatterpolargl\"}], \"scatterternary\": [{\"marker\": {\"colorbar\": {\"outlinewidth\": 0, \"ticks\": \"\"}}, \"type\": \"scatterternary\"}], \"surface\": [{\"colorbar\": {\"outlinewidth\": 0, \"ticks\": \"\"}, \"colorscale\": [[0.0, \"#0d0887\"], [0.1111111111111111, \"#46039f\"], [0.2222222222222222, \"#7201a8\"], [0.3333333333333333, \"#9c179e\"], [0.4444444444444444, \"#bd3786\"], [0.5555555555555556, \"#d8576b\"], [0.6666666666666666, \"#ed7953\"], [0.7777777777777778, \"#fb9f3a\"], [0.8888888888888888, \"#fdca26\"], [1.0, \"#f0f921\"]], \"type\": \"surface\"}], \"table\": [{\"cells\": {\"fill\": {\"color\": \"#EBF0F8\"}, \"line\": {\"color\": \"white\"}}, \"header\": {\"fill\": {\"color\": \"#C8D4E3\"}, \"line\": {\"color\": \"white\"}}, \"type\": \"table\"}]}, \"layout\": {\"annotationdefaults\": {\"arrowcolor\": \"#2a3f5f\", \"arrowhead\": 0, \"arrowwidth\": 1}, \"coloraxis\": {\"colorbar\": {\"outlinewidth\": 0, \"ticks\": \"\"}}, \"colorscale\": {\"diverging\": [[0, \"#8e0152\"], [0.1, \"#c51b7d\"], [0.2, \"#de77ae\"], [0.3, \"#f1b6da\"], [0.4, \"#fde0ef\"], [0.5, \"#f7f7f7\"], [0.6, \"#e6f5d0\"], [0.7, \"#b8e186\"], [0.8, \"#7fbc41\"], [0.9, \"#4d9221\"], [1, \"#276419\"]], \"sequential\": [[0.0, \"#0d0887\"], [0.1111111111111111, \"#46039f\"], [0.2222222222222222, \"#7201a8\"], [0.3333333333333333, \"#9c179e\"], [0.4444444444444444, \"#bd3786\"], [0.5555555555555556, \"#d8576b\"], [0.6666666666666666, \"#ed7953\"], [0.7777777777777778, \"#fb9f3a\"], [0.8888888888888888, \"#fdca26\"], [1.0, \"#f0f921\"]], \"sequentialminus\": [[0.0, \"#0d0887\"], [0.1111111111111111, \"#46039f\"], [0.2222222222222222, \"#7201a8\"], [0.3333333333333333, \"#9c179e\"], [0.4444444444444444, \"#bd3786\"], [0.5555555555555556, \"#d8576b\"], [0.6666666666666666, \"#ed7953\"], [0.7777777777777778, \"#fb9f3a\"], [0.8888888888888888, \"#fdca26\"], [1.0, \"#f0f921\"]]}, \"colorway\": [\"#636efa\", \"#EF553B\", \"#00cc96\", \"#ab63fa\", \"#FFA15A\", \"#19d3f3\", \"#FF6692\", \"#B6E880\", \"#FF97FF\", \"#FECB52\"], \"font\": {\"color\": \"#2a3f5f\"}, \"geo\": {\"bgcolor\": \"white\", \"lakecolor\": \"white\", \"landcolor\": \"#E5ECF6\", \"showlakes\": true, \"showland\": true, \"subunitcolor\": \"white\"}, \"hoverlabel\": {\"align\": \"left\"}, \"hovermode\": \"closest\", \"mapbox\": {\"style\": \"light\"}, \"paper_bgcolor\": \"white\", \"plot_bgcolor\": \"#E5ECF6\", \"polar\": {\"angularaxis\": {\"gridcolor\": \"white\", \"linecolor\": \"white\", \"ticks\": \"\"}, \"bgcolor\": \"#E5ECF6\", \"radialaxis\": {\"gridcolor\": \"white\", \"linecolor\": \"white\", \"ticks\": \"\"}}, \"scene\": {\"xaxis\": {\"backgroundcolor\": \"#E5ECF6\", \"gridcolor\": \"white\", \"gridwidth\": 2, \"linecolor\": \"white\", \"showbackground\": true, \"ticks\": \"\", \"zerolinecolor\": \"white\"}, \"yaxis\": {\"backgroundcolor\": \"#E5ECF6\", \"gridcolor\": \"white\", \"gridwidth\": 2, \"linecolor\": \"white\", \"showbackground\": true, \"ticks\": \"\", \"zerolinecolor\": \"white\"}, \"zaxis\": {\"backgroundcolor\": \"#E5ECF6\", \"gridcolor\": \"white\", \"gridwidth\": 2, \"linecolor\": \"white\", \"showbackground\": true, \"ticks\": \"\", \"zerolinecolor\": \"white\"}}, \"shapedefaults\": {\"line\": {\"color\": \"#2a3f5f\"}}, \"ternary\": {\"aaxis\": {\"gridcolor\": \"white\", \"linecolor\": \"white\", \"ticks\": \"\"}, \"baxis\": {\"gridcolor\": \"white\", \"linecolor\": \"white\", \"ticks\": \"\"}, \"bgcolor\": \"#E5ECF6\", \"caxis\": {\"gridcolor\": \"white\", \"linecolor\": \"white\", \"ticks\": \"\"}}, \"title\": {\"x\": 0.05}, \"xaxis\": {\"automargin\": true, \"gridcolor\": \"white\", \"linecolor\": \"white\", \"ticks\": \"\", \"title\": {\"standoff\": 15}, \"zerolinecolor\": \"white\", \"zerolinewidth\": 2}, \"yaxis\": {\"automargin\": true, \"gridcolor\": \"white\", \"linecolor\": \"white\", \"ticks\": \"\", \"title\": {\"standoff\": 15}, \"zerolinecolor\": \"white\", \"zerolinewidth\": 2}}}, \"title\": {\"text\": \"Microsoft Stock\"}},\n",
              "                        {\"responsive\": true}\n",
              "                    ).then(function(){\n",
              "                            \n",
              "var gd = document.getElementById('33490c3f-1a4a-4621-8f38-287a809f7acb');\n",
              "var x = new MutationObserver(function (mutations, observer) {{\n",
              "        var display = window.getComputedStyle(gd).display;\n",
              "        if (!display || display === 'none') {{\n",
              "            console.log([gd, 'removed!']);\n",
              "            Plotly.purge(gd);\n",
              "            observer.disconnect();\n",
              "        }}\n",
              "}});\n",
              "\n",
              "// Listen for the removal of the full notebook cells\n",
              "var notebookContainer = gd.closest('#notebook-container');\n",
              "if (notebookContainer) {{\n",
              "    x.observe(notebookContainer, {childList: true});\n",
              "}}\n",
              "\n",
              "// Listen for the clearing of the current output cell\n",
              "var outputEl = gd.closest('.output');\n",
              "if (outputEl) {{\n",
              "    x.observe(outputEl, {childList: true});\n",
              "}}\n",
              "\n",
              "                        })\n",
              "                };\n",
              "                \n",
              "            </script>\n",
              "        </div>\n",
              "</body>\n",
              "</html>"
            ]
          },
          "metadata": {
            "tags": []
          }
        }
      ]
    },
    {
      "cell_type": "markdown",
      "metadata": {
        "id": "HuAy7jsUz3FQ"
      },
      "source": [
        "We just did something very interesting and it was to chart MSFT's acicon with the updated data! Today is November 20, 2020, so the last data of my graph is that date, you can do the same, place the mouse at the end of the graph and see the last quote of the stock! You could in this case access your investment portfolio and run the code daily and make a technical analysis on those tickets!\r\n",
        "\r\n",
        "Data filtering by date\r\n",
        "\r\n",
        "Many of the APIs that the pandas-datareader connects to allow us to filter the data we get by date. Financial institutions tend to keep track of data that goes back several decades, and when we import that data, it is useful to be able to specify exactly when we want it to come from\r\n",
        "\r\n",
        "An API that does just that is the Federal Reserve Bank of San Luis (FRED), which we can access by first importing the pandas_datareader.data sub-module and then calling its DataReader function:\r\n",
        "\r\n"
      ]
    },
    {
      "cell_type": "code",
      "metadata": {
        "id": "XOPLFEpdzzNt"
      },
      "source": [
        "import pandas_datareader.data as web\r\n",
        "\r\n",
        "start = datetime(2019, 1, 1)\r\n",
        "end = datetime(2019, 2, 1)"
      ],
      "execution_count": 17,
      "outputs": []
    },
    {
      "cell_type": "code",
      "metadata": {
        "id": "ingeUaiXz9Nc"
      },
      "source": [
        "sap_data = web.DataReader('SP500', 'fred', start, end)"
      ],
      "execution_count": 18,
      "outputs": []
    },
    {
      "cell_type": "code",
      "metadata": {
        "colab": {
          "base_uri": "https://localhost:8080/",
          "height": 824
        },
        "id": "2VFqCUr8z_ra",
        "outputId": "0073b732-d185-447a-c588-ff6ccfe72dea"
      },
      "source": [
        "sap_data"
      ],
      "execution_count": 19,
      "outputs": [
        {
          "output_type": "execute_result",
          "data": {
            "text/html": [
              "<div>\n",
              "<style scoped>\n",
              "    .dataframe tbody tr th:only-of-type {\n",
              "        vertical-align: middle;\n",
              "    }\n",
              "\n",
              "    .dataframe tbody tr th {\n",
              "        vertical-align: top;\n",
              "    }\n",
              "\n",
              "    .dataframe thead th {\n",
              "        text-align: right;\n",
              "    }\n",
              "</style>\n",
              "<table border=\"1\" class=\"dataframe\">\n",
              "  <thead>\n",
              "    <tr style=\"text-align: right;\">\n",
              "      <th></th>\n",
              "      <th>SP500</th>\n",
              "    </tr>\n",
              "    <tr>\n",
              "      <th>DATE</th>\n",
              "      <th></th>\n",
              "    </tr>\n",
              "  </thead>\n",
              "  <tbody>\n",
              "    <tr>\n",
              "      <th>2019-01-01</th>\n",
              "      <td>NaN</td>\n",
              "    </tr>\n",
              "    <tr>\n",
              "      <th>2019-01-02</th>\n",
              "      <td>2510.03</td>\n",
              "    </tr>\n",
              "    <tr>\n",
              "      <th>2019-01-03</th>\n",
              "      <td>2447.89</td>\n",
              "    </tr>\n",
              "    <tr>\n",
              "      <th>2019-01-04</th>\n",
              "      <td>2531.94</td>\n",
              "    </tr>\n",
              "    <tr>\n",
              "      <th>2019-01-07</th>\n",
              "      <td>2549.69</td>\n",
              "    </tr>\n",
              "    <tr>\n",
              "      <th>2019-01-08</th>\n",
              "      <td>2574.41</td>\n",
              "    </tr>\n",
              "    <tr>\n",
              "      <th>2019-01-09</th>\n",
              "      <td>2584.96</td>\n",
              "    </tr>\n",
              "    <tr>\n",
              "      <th>2019-01-10</th>\n",
              "      <td>2596.64</td>\n",
              "    </tr>\n",
              "    <tr>\n",
              "      <th>2019-01-11</th>\n",
              "      <td>2596.26</td>\n",
              "    </tr>\n",
              "    <tr>\n",
              "      <th>2019-01-14</th>\n",
              "      <td>2582.61</td>\n",
              "    </tr>\n",
              "    <tr>\n",
              "      <th>2019-01-15</th>\n",
              "      <td>2610.30</td>\n",
              "    </tr>\n",
              "    <tr>\n",
              "      <th>2019-01-16</th>\n",
              "      <td>2616.10</td>\n",
              "    </tr>\n",
              "    <tr>\n",
              "      <th>2019-01-17</th>\n",
              "      <td>2635.96</td>\n",
              "    </tr>\n",
              "    <tr>\n",
              "      <th>2019-01-18</th>\n",
              "      <td>2670.71</td>\n",
              "    </tr>\n",
              "    <tr>\n",
              "      <th>2019-01-21</th>\n",
              "      <td>NaN</td>\n",
              "    </tr>\n",
              "    <tr>\n",
              "      <th>2019-01-22</th>\n",
              "      <td>2632.90</td>\n",
              "    </tr>\n",
              "    <tr>\n",
              "      <th>2019-01-23</th>\n",
              "      <td>2638.70</td>\n",
              "    </tr>\n",
              "    <tr>\n",
              "      <th>2019-01-24</th>\n",
              "      <td>2642.33</td>\n",
              "    </tr>\n",
              "    <tr>\n",
              "      <th>2019-01-25</th>\n",
              "      <td>2664.76</td>\n",
              "    </tr>\n",
              "    <tr>\n",
              "      <th>2019-01-28</th>\n",
              "      <td>2643.85</td>\n",
              "    </tr>\n",
              "    <tr>\n",
              "      <th>2019-01-29</th>\n",
              "      <td>2640.00</td>\n",
              "    </tr>\n",
              "    <tr>\n",
              "      <th>2019-01-30</th>\n",
              "      <td>2681.05</td>\n",
              "    </tr>\n",
              "    <tr>\n",
              "      <th>2019-01-31</th>\n",
              "      <td>2704.10</td>\n",
              "    </tr>\n",
              "    <tr>\n",
              "      <th>2019-02-01</th>\n",
              "      <td>2706.53</td>\n",
              "    </tr>\n",
              "  </tbody>\n",
              "</table>\n",
              "</div>"
            ],
            "text/plain": [
              "              SP500\n",
              "DATE               \n",
              "2019-01-01      NaN\n",
              "2019-01-02  2510.03\n",
              "2019-01-03  2447.89\n",
              "2019-01-04  2531.94\n",
              "2019-01-07  2549.69\n",
              "2019-01-08  2574.41\n",
              "2019-01-09  2584.96\n",
              "2019-01-10  2596.64\n",
              "2019-01-11  2596.26\n",
              "2019-01-14  2582.61\n",
              "2019-01-15  2610.30\n",
              "2019-01-16  2616.10\n",
              "2019-01-17  2635.96\n",
              "2019-01-18  2670.71\n",
              "2019-01-21      NaN\n",
              "2019-01-22  2632.90\n",
              "2019-01-23  2638.70\n",
              "2019-01-24  2642.33\n",
              "2019-01-25  2664.76\n",
              "2019-01-28  2643.85\n",
              "2019-01-29  2640.00\n",
              "2019-01-30  2681.05\n",
              "2019-01-31  2704.10\n",
              "2019-02-01  2706.53"
            ]
          },
          "metadata": {
            "tags": []
          },
          "execution_count": 19
        }
      ]
    },
    {
      "cell_type": "code",
      "metadata": {
        "id": "_suHZG_p0Avr"
      },
      "source": [
        "The DataReader function takes 4 arguments:\r\n",
        "\r\n",
        "SP500 - An identifier provided by the API that specifies the data we want to retrieve, in this case data from the SP500\r\n",
        "\"fred\" - The name of the API we want to access\r\n",
        "start_date, end_date - The range of dates we want the data to be\r\n",
        "By changing the start and end dates, you can easily filter the data you receive\r\n",
        "\r\n",
        "Using the Shift() operation\r\n",
        "\r\n",
        "Once we've imported a DataFrame full of financial data, there are some pretty cool ways to manipulate it. In this exercise we will see the shift() operation, a DataFrame function that moves all the rows in a column up or down\r\n",
        "\r\n"
      ],
      "execution_count": null,
      "outputs": []
    },
    {
      "cell_type": "code",
      "metadata": {
        "id": "CO8nKaDC0HIi"
      },
      "source": [
        "start = datetime(2008, 1, 1)\r\n",
        "end = datetime(2018, 1, 1)"
      ],
      "execution_count": 20,
      "outputs": []
    },
    {
      "cell_type": "code",
      "metadata": {
        "colab": {
          "base_uri": "https://localhost:8080/",
          "height": 235
        },
        "id": "-bCQ45Y90K5s",
        "outputId": "92ca4ce4-84f4-4bf9-a4d6-9befdc1f3d5b"
      },
      "source": [
        "gdp = web.DataReader('GDP', 'fred', start, end)\r\n",
        "gdp.head()"
      ],
      "execution_count": 21,
      "outputs": [
        {
          "output_type": "execute_result",
          "data": {
            "text/html": [
              "<div>\n",
              "<style scoped>\n",
              "    .dataframe tbody tr th:only-of-type {\n",
              "        vertical-align: middle;\n",
              "    }\n",
              "\n",
              "    .dataframe tbody tr th {\n",
              "        vertical-align: top;\n",
              "    }\n",
              "\n",
              "    .dataframe thead th {\n",
              "        text-align: right;\n",
              "    }\n",
              "</style>\n",
              "<table border=\"1\" class=\"dataframe\">\n",
              "  <thead>\n",
              "    <tr style=\"text-align: right;\">\n",
              "      <th></th>\n",
              "      <th>GDP</th>\n",
              "    </tr>\n",
              "    <tr>\n",
              "      <th>DATE</th>\n",
              "      <th></th>\n",
              "    </tr>\n",
              "  </thead>\n",
              "  <tbody>\n",
              "    <tr>\n",
              "      <th>2008-01-01</th>\n",
              "      <td>14651.039</td>\n",
              "    </tr>\n",
              "    <tr>\n",
              "      <th>2008-04-01</th>\n",
              "      <td>14805.611</td>\n",
              "    </tr>\n",
              "    <tr>\n",
              "      <th>2008-07-01</th>\n",
              "      <td>14835.187</td>\n",
              "    </tr>\n",
              "    <tr>\n",
              "      <th>2008-10-01</th>\n",
              "      <td>14559.543</td>\n",
              "    </tr>\n",
              "    <tr>\n",
              "      <th>2009-01-01</th>\n",
              "      <td>14394.547</td>\n",
              "    </tr>\n",
              "  </tbody>\n",
              "</table>\n",
              "</div>"
            ],
            "text/plain": [
              "                  GDP\n",
              "DATE                 \n",
              "2008-01-01  14651.039\n",
              "2008-04-01  14805.611\n",
              "2008-07-01  14835.187\n",
              "2008-10-01  14559.543\n",
              "2009-01-01  14394.547"
            ]
          },
          "metadata": {
            "tags": []
          },
          "execution_count": 21
        }
      ]
    },
    {
      "cell_type": "markdown",
      "metadata": {
        "id": "MGZ73SHd0ROQ"
      },
      "source": [
        "We have imported the GDP from the FRED, now we will create a new column called Growth where we can do the math of the difference (in absolute values) between the different days\r\n",
        "\r\n"
      ]
    },
    {
      "cell_type": "code",
      "metadata": {
        "id": "nuxkcEaY0N6Q"
      },
      "source": [
        "gdp['Growth'] = gdp['GDP'] - gdp['GDP'].shift(1)"
      ],
      "execution_count": 22,
      "outputs": []
    },
    {
      "cell_type": "code",
      "metadata": {
        "colab": {
          "base_uri": "https://localhost:8080/",
          "height": 235
        },
        "id": "Of2V9Wge0TlJ",
        "outputId": "3af5d323-1b18-46ab-ea4e-35029c4551a4"
      },
      "source": [
        "gdp.head()"
      ],
      "execution_count": 23,
      "outputs": [
        {
          "output_type": "execute_result",
          "data": {
            "text/html": [
              "<div>\n",
              "<style scoped>\n",
              "    .dataframe tbody tr th:only-of-type {\n",
              "        vertical-align: middle;\n",
              "    }\n",
              "\n",
              "    .dataframe tbody tr th {\n",
              "        vertical-align: top;\n",
              "    }\n",
              "\n",
              "    .dataframe thead th {\n",
              "        text-align: right;\n",
              "    }\n",
              "</style>\n",
              "<table border=\"1\" class=\"dataframe\">\n",
              "  <thead>\n",
              "    <tr style=\"text-align: right;\">\n",
              "      <th></th>\n",
              "      <th>GDP</th>\n",
              "      <th>Growth</th>\n",
              "    </tr>\n",
              "    <tr>\n",
              "      <th>DATE</th>\n",
              "      <th></th>\n",
              "      <th></th>\n",
              "    </tr>\n",
              "  </thead>\n",
              "  <tbody>\n",
              "    <tr>\n",
              "      <th>2008-01-01</th>\n",
              "      <td>14651.039</td>\n",
              "      <td>NaN</td>\n",
              "    </tr>\n",
              "    <tr>\n",
              "      <th>2008-04-01</th>\n",
              "      <td>14805.611</td>\n",
              "      <td>154.572</td>\n",
              "    </tr>\n",
              "    <tr>\n",
              "      <th>2008-07-01</th>\n",
              "      <td>14835.187</td>\n",
              "      <td>29.576</td>\n",
              "    </tr>\n",
              "    <tr>\n",
              "      <th>2008-10-01</th>\n",
              "      <td>14559.543</td>\n",
              "      <td>-275.644</td>\n",
              "    </tr>\n",
              "    <tr>\n",
              "      <th>2009-01-01</th>\n",
              "      <td>14394.547</td>\n",
              "      <td>-164.996</td>\n",
              "    </tr>\n",
              "  </tbody>\n",
              "</table>\n",
              "</div>"
            ],
            "text/plain": [
              "                  GDP   Growth\n",
              "DATE                          \n",
              "2008-01-01  14651.039      NaN\n",
              "2008-04-01  14805.611  154.572\n",
              "2008-07-01  14835.187   29.576\n",
              "2008-10-01  14559.543 -275.644\n",
              "2009-01-01  14394.547 -164.996"
            ]
          },
          "metadata": {
            "tags": []
          },
          "execution_count": 23
        }
      ]
    },
    {
      "cell_type": "markdown",
      "metadata": {
        "id": "zZFIZ80e0aGp"
      },
      "source": [
        "We can now see the absolute differences in this new column. An important clarification: the first row of growth column is now 'NaN' because it has no one to do the calculation with, it is the first row of the dataset\r\n",
        "\r\n",
        "Calculating basic financial statistics\r\n",
        "\r\n",
        "Two useful calculations that can be made with financial data are variance and covariance. To illustrate these concepts, let's use the example of a DataFrame that measures stock and bond prices over time\r\n",
        "\r\n"
      ]
    },
    {
      "cell_type": "markdown",
      "metadata": {
        "id": "eD4vnV0E0fsA"
      },
      "source": [
        "Variance\r\n",
        "\r\n",
        "Variance measures how far a set of numbers is from its average. In finance, it is used to determine the volatility of investments.\r\n",
        "\r\n",
        "dataframe['stocks'].var() # 106427\r\n",
        "dataframe['bonds'].var() # 2272\r\n",
        "In the above variance calculations, stocks are greater in value than bonds (106427 vs 2272). That's because stock prices are more dispersed than bond prices, indicating that stocks are a more volatile investment.\r\n",
        "\r\n",
        "Covariance\r\n",
        "\r\n",
        "Covariance, in a financial context, describes the relationship between the returns of two different investments over a period of time, and can be used to help balance a portfolio. Calling our stock and bond columns cov() produces an array that defines the covariance values between each pair of columns in the DataFrame. Covariance is also known as a correlation in finance. In our example data, when stock prices go up, bonds go down. We can use the covariance function to see this numerically.\r\n",
        "\r\n",
        "dataframe.cov()\r\n"
      ]
    },
    {
      "cell_type": "code",
      "metadata": {
        "id": "jx0npNjY0Vrb"
      },
      "source": [
        "import numpy as np\r\n",
        "\r\n",
        "def log_return(prices):\r\n",
        "  return np.log(prices / prices.shift(1))"
      ],
      "execution_count": 24,
      "outputs": []
    },
    {
      "cell_type": "code",
      "metadata": {
        "id": "Q2ILRosU0n9J"
      },
      "source": [
        "start = datetime(1999, 1, 1)\r\n",
        "end = datetime(2019, 1, 1)\r\n",
        "\r\n",
        "nasdaq_data = web.DataReader(\"NASDAQ100\", \"fred\", start, end)\r\n",
        "sap_data = web.DataReader(\"SP500\", \"fred\", start, end)\r\n",
        "gdp_data = wb.download(indicator='NY.GDP.MKTP.CD', country=['US'], start=start, end=end)\r\n",
        "export_data = wb.download(indicator='NE.EXP.GNFS.CN', country=['US'], start=start, end=end)"
      ],
      "execution_count": 25,
      "outputs": []
    },
    {
      "cell_type": "code",
      "metadata": {
        "id": "AOpwTvwK0qiP"
      },
      "source": [
        "nasdaq_returns = log_return(nasdaq_data['NASDAQ100'])"
      ],
      "execution_count": 26,
      "outputs": []
    },
    {
      "cell_type": "code",
      "metadata": {
        "colab": {
          "base_uri": "https://localhost:8080/"
        },
        "id": "fdebO0Tp0toR",
        "outputId": "92fb8c06-1dbd-4928-c3ba-0627d495ad8c"
      },
      "source": [
        "nasdaq_returns"
      ],
      "execution_count": 27,
      "outputs": [
        {
          "output_type": "execute_result",
          "data": {
            "text/plain": [
              "DATE\n",
              "1999-01-01         NaN\n",
              "1999-01-04         NaN\n",
              "1999-01-05    0.025876\n",
              "1999-01-06    0.031526\n",
              "1999-01-07    0.001221\n",
              "                ...   \n",
              "2018-12-26         NaN\n",
              "2018-12-27    0.004069\n",
              "2018-12-28   -0.000483\n",
              "2018-12-31    0.007087\n",
              "2019-01-01         NaN\n",
              "Name: NASDAQ100, Length: 5218, dtype: float64"
            ]
          },
          "metadata": {
            "tags": []
          },
          "execution_count": 27
        }
      ]
    },
    {
      "cell_type": "code",
      "metadata": {
        "id": "g-2v-N8G0vmk"
      },
      "source": [
        "sap_returns = log_return(sap_data['SP500'])"
      ],
      "execution_count": 28,
      "outputs": []
    },
    {
      "cell_type": "code",
      "metadata": {
        "colab": {
          "base_uri": "https://localhost:8080/"
        },
        "id": "YRDqVpyC0ytn",
        "outputId": "16d11579-22fd-442c-ba17-74be2c3c5c04"
      },
      "source": [
        "sap_returns"
      ],
      "execution_count": 29,
      "outputs": [
        {
          "output_type": "execute_result",
          "data": {
            "text/plain": [
              "DATE\n",
              "2010-12-27         NaN\n",
              "2010-12-28    0.000771\n",
              "2010-12-29    0.001009\n",
              "2010-12-30   -0.001509\n",
              "2010-12-31   -0.000191\n",
              "                ...   \n",
              "2018-12-26         NaN\n",
              "2018-12-27    0.008526\n",
              "2018-12-28   -0.001242\n",
              "2018-12-31    0.008457\n",
              "2019-01-01         NaN\n",
              "Name: SP500, Length: 2092, dtype: float64"
            ]
          },
          "metadata": {
            "tags": []
          },
          "execution_count": 29
        }
      ]
    },
    {
      "cell_type": "code",
      "metadata": {
        "id": "DG5bteeG00o8"
      },
      "source": [
        "gdp_returns = log_return(gdp_data['NY.GDP.MKTP.CD'])"
      ],
      "execution_count": 30,
      "outputs": []
    },
    {
      "cell_type": "code",
      "metadata": {
        "colab": {
          "base_uri": "https://localhost:8080/"
        },
        "id": "hkfd_7ZE03id",
        "outputId": "38d3726d-aff3-4fba-bb4e-24633853d668"
      },
      "source": [
        "gdp_returns"
      ],
      "execution_count": 31,
      "outputs": [
        {
          "output_type": "execute_result",
          "data": {
            "text/plain": [
              "country        year\n",
              "United States  2019         NaN\n",
              "               2018   -0.040615\n",
              "               2017   -0.052921\n",
              "               2016   -0.042083\n",
              "               2015   -0.026545\n",
              "               2014   -0.039026\n",
              "               2013   -0.043275\n",
              "               2012   -0.035650\n",
              "               2011   -0.041243\n",
              "               2010   -0.036063\n",
              "               2009   -0.036900\n",
              "               2008    0.018100\n",
              "               2007   -0.017898\n",
              "               2006   -0.045096\n",
              "               2005   -0.057963\n",
              "               2004   -0.065203\n",
              "               2003   -0.063851\n",
              "               2002   -0.046611\n",
              "               2001   -0.032961\n",
              "               2000   -0.031631\n",
              "               1999   -0.062554\n",
              "Name: NY.GDP.MKTP.CD, dtype: float64"
            ]
          },
          "metadata": {
            "tags": []
          },
          "execution_count": 31
        }
      ]
    },
    {
      "cell_type": "code",
      "metadata": {
        "id": "UjCcmM-v05kU"
      },
      "source": [
        "export_returns = log_return(export_data['NE.EXP.GNFS.CN'])"
      ],
      "execution_count": 32,
      "outputs": []
    },
    {
      "cell_type": "code",
      "metadata": {
        "colab": {
          "base_uri": "https://localhost:8080/"
        },
        "id": "XszKrtAh09Ff",
        "outputId": "8e34a27a-86fb-4f45-eee1-1d45a7b5c975"
      },
      "source": [
        "export_returns"
      ],
      "execution_count": 33,
      "outputs": [
        {
          "output_type": "execute_result",
          "data": {
            "text/plain": [
              "country        year\n",
              "United States  2019         NaN\n",
              "               2018    0.005533\n",
              "               2017   -0.062895\n",
              "               2016   -0.064079\n",
              "               2015    0.017222\n",
              "               2014    0.045653\n",
              "               2013   -0.042320\n",
              "               2012   -0.036803\n",
              "               2011   -0.041123\n",
              "               2010   -0.130190\n",
              "               2009   -0.154485\n",
              "               2008    0.149476\n",
              "               2007   -0.100832\n",
              "               2006   -0.120293\n",
              "               2005   -0.120663\n",
              "               2004   -0.102871\n",
              "               2003   -0.127967\n",
              "               2002   -0.036798\n",
              "               2001    0.025597\n",
              "               2000    0.067562\n",
              "               1999   -0.099148\n",
              "Name: NE.EXP.GNFS.CN, dtype: float64"
            ]
          },
          "metadata": {
            "tags": []
          },
          "execution_count": 33
        }
      ]
    },
    {
      "cell_type": "code",
      "metadata": {
        "colab": {
          "base_uri": "https://localhost:8080/"
        },
        "id": "yGe0AUe90_Eg",
        "outputId": "f0961851-0485-4bc5-9212-c7dff31c1d84"
      },
      "source": [
        "print('nasdaq_returns:', nasdaq_returns.var())"
      ],
      "execution_count": 34,
      "outputs": [
        {
          "output_type": "stream",
          "text": [
            "nasdaq_returns: 0.0003178379833057235\n"
          ],
          "name": "stdout"
        }
      ]
    },
    {
      "cell_type": "code",
      "metadata": {
        "colab": {
          "base_uri": "https://localhost:8080/"
        },
        "id": "bEwl-S9B1HZt",
        "outputId": "1c51ec5a-f61c-487b-e63b-5e6f736e1816"
      },
      "source": [
        "print('sap_returns:', sap_returns.var())"
      ],
      "execution_count": 35,
      "outputs": [
        {
          "output_type": "stream",
          "text": [
            "sap_returns: 8.401972356103525e-05\n"
          ],
          "name": "stdout"
        }
      ]
    },
    {
      "cell_type": "code",
      "metadata": {
        "colab": {
          "base_uri": "https://localhost:8080/"
        },
        "id": "Kcvhk0q71Jc4",
        "outputId": "dde88176-5aca-486e-8c85-6d25a9098dec"
      },
      "source": [
        "print('gdp_returns:', gdp_returns.var())"
      ],
      "execution_count": 36,
      "outputs": [
        {
          "output_type": "stream",
          "text": [
            "gdp_returns: 0.000342043019210802\n"
          ],
          "name": "stdout"
        }
      ]
    },
    {
      "cell_type": "code",
      "metadata": {
        "colab": {
          "base_uri": "https://localhost:8080/"
        },
        "id": "skcm6B2f1Lb-",
        "outputId": "fdb03c24-c20b-436a-cc2c-cdb1d9a0b531"
      },
      "source": [
        "print('export_returns:', export_returns.var())"
      ],
      "execution_count": 37,
      "outputs": [
        {
          "output_type": "stream",
          "text": [
            "export_returns: 0.006201903531105135\n"
          ],
          "name": "stdout"
        }
      ]
    },
    {
      "cell_type": "code",
      "metadata": {
        "id": "X4VzINSA1Nhv"
      },
      "source": [
        ""
      ],
      "execution_count": null,
      "outputs": []
    }
  ]
}