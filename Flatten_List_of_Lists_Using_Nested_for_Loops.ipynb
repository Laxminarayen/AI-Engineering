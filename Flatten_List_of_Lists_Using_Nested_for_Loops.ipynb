{
  "nbformat": 4,
  "nbformat_minor": 0,
  "metadata": {
    "colab": {
      "name": "Flatten List of Lists Using Nested for Loops.ipynb",
      "provenance": [],
      "authorship_tag": "ABX9TyOW4TWbje3l3aAAzDd1zrmS",
      "include_colab_link": true
    },
    "kernelspec": {
      "name": "python3",
      "display_name": "Python 3"
    }
  },
  "cells": [
    {
      "cell_type": "markdown",
      "metadata": {
        "id": "view-in-github",
        "colab_type": "text"
      },
      "source": [
        "<a href=\"https://colab.research.google.com/github/plthiyagu/Personnel/blob/master/Flatten_List_of_Lists_Using_Nested_for_Loops.ipynb\" target=\"_parent\"><img src=\"https://colab.research.google.com/assets/colab-badge.svg\" alt=\"Open In Colab\"/></a>"
      ]
    },
    {
      "cell_type": "code",
      "metadata": {
        "id": "RThy-QiionmF"
      },
      "source": [
        "def flatten_list(_2d_list):\n",
        "  flat_list =[]\n",
        "  # Iterate through the outer list\n",
        "\n",
        "  for element in _2d_list:\n",
        "    # If the element is of type list, iterate through the sublist\n",
        "    if type(element) is list:\n",
        "      for item in element:\n",
        "        flat_list.append(item)\n",
        "    else:\n",
        "      flat_list.append(element)\n",
        "\n",
        "  return flat_list\n"
      ],
      "execution_count": 1,
      "outputs": []
    },
    {
      "cell_type": "code",
      "metadata": {
        "id": "-ClUgghIpYoI",
        "outputId": "b98a06ad-43a7-4ce4-f437-0ef2550f9682",
        "colab": {
          "base_uri": "https://localhost:8080/"
        }
      },
      "source": [
        "nested_list = [[1, 2, 3, 4], [5, 6, 7], [8, 9, 10]]\n",
        "print('Original List', nested_list)\n",
        "print('Transformed Flat List', flatten_list(nested_list))"
      ],
      "execution_count": 2,
      "outputs": [
        {
          "output_type": "stream",
          "text": [
            "Original List [[1, 2, 3, 4], [5, 6, 7], [8, 9, 10]]\n",
            "Transformed Flat List [1, 2, 3, 4, 5, 6, 7, 8, 9, 10]\n"
          ],
          "name": "stdout"
        }
      ]
    },
    {
      "cell_type": "code",
      "metadata": {
        "id": "4UzU9xDtpcbU"
      },
      "source": [
        ""
      ],
      "execution_count": null,
      "outputs": []
    }
  ]
}