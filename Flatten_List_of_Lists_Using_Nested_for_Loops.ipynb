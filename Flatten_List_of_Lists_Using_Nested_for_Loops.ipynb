{
  "nbformat": 4,
  "nbformat_minor": 0,
  "metadata": {
    "colab": {
      "name": "Flatten List of Lists Using Nested for Loops.ipynb",
      "provenance": [],
      "authorship_tag": "ABX9TyN6Acu5uc0lNV2ziHFlJqTh",
      "include_colab_link": true
    },
    "kernelspec": {
      "name": "python3",
      "display_name": "Python 3"
    }
  },
  "cells": [
    {
      "cell_type": "markdown",
      "metadata": {
        "id": "view-in-github",
        "colab_type": "text"
      },
      "source": [
        "<a href=\"https://colab.research.google.com/github/plthiyagu/AI-Engineering/blob/master/Flatten_List_of_Lists_Using_Nested_for_Loops.ipynb\" target=\"_parent\"><img src=\"https://colab.research.google.com/assets/colab-badge.svg\" alt=\"Open In Colab\"/></a>"
      ]
    },
    {
      "cell_type": "code",
      "metadata": {
        "id": "RThy-QiionmF"
      },
      "source": [
        "def flatten_list(_2d_list):\n",
        "  flat_list =[]\n",
        "  # Iterate through the outer list\n",
        "\n",
        "  for element in _2d_list:\n",
        "    # If the element is of type list, iterate through the sublist\n",
        "    if type(element) is list:\n",
        "      for item in element:\n",
        "        flat_list.append(item)\n",
        "    else:\n",
        "      flat_list.append(element)\n",
        "\n",
        "  return flat_list\n"
      ],
      "execution_count": 1,
      "outputs": []
    },
    {
      "cell_type": "code",
      "metadata": {
        "id": "-ClUgghIpYoI",
        "outputId": "b98a06ad-43a7-4ce4-f437-0ef2550f9682",
        "colab": {
          "base_uri": "https://localhost:8080/"
        }
      },
      "source": [
        "nested_list = [[1, 2, 3, 4], [5, 6, 7], [8, 9, 10]]\n",
        "print('Original List', nested_list)\n",
        "print('Transformed Flat List', flatten_list(nested_list))"
      ],
      "execution_count": 2,
      "outputs": [
        {
          "output_type": "stream",
          "text": [
            "Original List [[1, 2, 3, 4], [5, 6, 7], [8, 9, 10]]\n",
            "Transformed Flat List [1, 2, 3, 4, 5, 6, 7, 8, 9, 10]\n"
          ],
          "name": "stdout"
        }
      ]
    },
    {
      "cell_type": "code",
      "metadata": {
        "id": "4UzU9xDtpcbU",
        "outputId": "053a308d-ec75-4183-e9e8-b30a1eab5711",
        "colab": {
          "base_uri": "https://localhost:8080/"
        }
      },
      "source": [
        "regular_list = [[1, 2, 3, 4], [5, 6, 7], [8, 9]]\n",
        "flat_list=[item for sublist in regular_list for item in sublist]\n",
        "print('Original list', regular_list)\n",
        "print('Transformed list', flat_list)\n"
      ],
      "execution_count": 3,
      "outputs": [
        {
          "output_type": "stream",
          "text": [
            "Original list [[1, 2, 3, 4], [5, 6, 7], [8, 9]]\n",
            "Transformed list [1, 2, 3, 4, 5, 6, 7, 8, 9]\n"
          ],
          "name": "stdout"
        }
      ]
    },
    {
      "cell_type": "markdown",
      "metadata": {
        "id": "Y28lCskrvrhO"
      },
      "source": [
        "Flatten List of Lists Recursively\n"
      ]
    },
    {
      "cell_type": "code",
      "metadata": {
        "id": "aBgjHk6DvnxR",
        "outputId": "3b19d25d-dc6b-4c5d-f61e-a48dfcdbfd36",
        "colab": {
          "base_uri": "https://localhost:8080/"
        }
      },
      "source": [
        "def flatten(list_of_lists):\n",
        "    if len(list_of_lists) == 0:\n",
        "        return list_of_lists\n",
        "    if isinstance(list_of_lists[0], list):\n",
        "        return flatten(list_of_lists[0]) + flatten(list_of_lists[1:])\n",
        "    return list_of_lists[:1] + flatten(list_of_lists[1:])\n",
        "\n",
        "\n",
        "print(flatten([[1, 2, 3, 4], [5, 6, 7], [8, 9], 10]))\n"
      ],
      "execution_count": 4,
      "outputs": [
        {
          "output_type": "stream",
          "text": [
            "[1, 2, 3, 4, 5, 6, 7, 8, 9, 10]\n"
          ],
          "name": "stdout"
        }
      ]
    },
    {
      "cell_type": "markdown",
      "metadata": {
        "id": "7ruPvhYHv5S2"
      },
      "source": [
        "Flatten List of Lists Using functools (reduce() and iconcat())\n"
      ]
    },
    {
      "cell_type": "code",
      "metadata": {
        "id": "dA9mYszCvz8G",
        "outputId": "e36353d9-0df4-4912-d4cd-88446e638a22",
        "colab": {
          "base_uri": "https://localhost:8080/"
        }
      },
      "source": [
        "import functools\n",
        "import operator\n",
        "regular_list = []\n",
        "\n",
        "# Transform irregular 2D list into a regular one.\n",
        "def transform(nested_list):\n",
        "    for ele in nested_list:\n",
        "        if type(ele) is list:\n",
        "            regular_list.append(ele)\n",
        "        else:\n",
        "            regular_list.append([ele])\n",
        "    return regular_list\n",
        "\n",
        "\n",
        "irregular_list = [[1, 2, 3, 4], [5, 6, 7], [8, 9, 10], 11]\n",
        "regular_2D_list = transform(irregular_list)\n",
        "print('Original list', irregular_list)\n",
        "print('Transformed list', functools.reduce(operator.iconcat, regular_2D_list, []))\n"
      ],
      "execution_count": 5,
      "outputs": [
        {
          "output_type": "stream",
          "text": [
            "Original list [[1, 2, 3, 4], [5, 6, 7], [8, 9, 10], 11]\n",
            "Transformed list [1, 2, 3, 4, 5, 6, 7, 8, 9, 10, 11]\n"
          ],
          "name": "stdout"
        }
      ]
    },
    {
      "cell_type": "markdown",
      "metadata": {
        "id": "1zXAz_apxBwA"
      },
      "source": [
        "Flatten List of Lists Using itertools (chain())\n"
      ]
    },
    {
      "cell_type": "code",
      "metadata": {
        "id": "G5SMEVoPw8Oo",
        "outputId": "d8882073-5131-4ec9-a13f-4d925a74c80b",
        "colab": {
          "base_uri": "https://localhost:8080/"
        }
      },
      "source": [
        "import itertools\n",
        "\n",
        "regular_list = [[1, 2, 3, 4], [5, 6, 7], [8, 9, 10]]\n",
        "flat_list = list(itertools.chain(*regular_list))\n",
        "\n",
        "print('Original list', regular_list)\n",
        "print('Transformed list', flat_list)"
      ],
      "execution_count": 6,
      "outputs": [
        {
          "output_type": "stream",
          "text": [
            "Original list [[1, 2, 3, 4], [5, 6, 7], [8, 9, 10]]\n",
            "Transformed list [1, 2, 3, 4, 5, 6, 7, 8, 9, 10]\n"
          ],
          "name": "stdout"
        }
      ]
    },
    {
      "cell_type": "markdown",
      "metadata": {
        "id": "cGC8m-MDxIOs"
      },
      "source": [
        "Flatten List of Lists Using numpy (concatenate() and flat())\n"
      ]
    },
    {
      "cell_type": "code",
      "metadata": {
        "id": "240XsevqxFr_",
        "outputId": "bcf465c0-967c-4da8-e0e9-11fd88ce5d6e",
        "colab": {
          "base_uri": "https://localhost:8080/"
        }
      },
      "source": [
        "import numpy\n",
        "\n",
        "regular_list = [[1, 2, 3, 4], [5, 6, 7], [8, 9]]\n",
        "\n",
        "flat_list = list(numpy.concatenate(regular_list).flat)\n",
        "\n",
        "print('Original list', regular_list)\n",
        "print('Transformed list', flat_list)"
      ],
      "execution_count": 7,
      "outputs": [
        {
          "output_type": "stream",
          "text": [
            "Original list [[1, 2, 3, 4], [5, 6, 7], [8, 9]]\n",
            "Transformed list [1, 2, 3, 4, 5, 6, 7, 8, 9]\n"
          ],
          "name": "stdout"
        }
      ]
    },
    {
      "cell_type": "markdown",
      "metadata": {
        "id": "JLAehrm8xQGX"
      },
      "source": [
        "Using Built-In Functions\n"
      ]
    },
    {
      "cell_type": "code",
      "metadata": {
        "id": "YbYCav5xxM1W",
        "outputId": "3ddb1edb-7d17-4188-d798-69874c1121d6",
        "colab": {
          "base_uri": "https://localhost:8080/"
        }
      },
      "source": [
        "regular_list = [[1, 2, 3, 4], [5, 6, 7], [8, 9]]\n",
        "\n",
        "flat_list = sum(regular_list, [])\n",
        "\n",
        "print('Original list', regular_list)\n",
        "print('Transformed list', flat_list)"
      ],
      "execution_count": 8,
      "outputs": [
        {
          "output_type": "stream",
          "text": [
            "Original list [[1, 2, 3, 4], [5, 6, 7], [8, 9]]\n",
            "Transformed list [1, 2, 3, 4, 5, 6, 7, 8, 9]\n"
          ],
          "name": "stdout"
        }
      ]
    },
    {
      "cell_type": "markdown",
      "metadata": {
        "id": "u3YFivcNxYVO"
      },
      "source": [
        "Flatten List of Lists Using Lambda\n"
      ]
    },
    {
      "cell_type": "code",
      "metadata": {
        "id": "1QmwzZVexTYn",
        "outputId": "818eed77-df00-41f9-c758-5f31c79ba753",
        "colab": {
          "base_uri": "https://localhost:8080/"
        }
      },
      "source": [
        "irregular_list = [[1, 2, 3], [3, 6, 7], [7, 5, 4],7]\n",
        "\n",
        "# Using lambda arguments: expression\n",
        "flatten_list = lambda irregular_list:[element for item in irregular_list for element in flatten_list(item)] if type(irregular_list) is list else [irregular_list]\n",
        "\n",
        "print(\"Original list \", irregular_list)\n",
        "print(\"Transformed List \", flatten_list(irregular_list))"
      ],
      "execution_count": 9,
      "outputs": [
        {
          "output_type": "stream",
          "text": [
            "Original list  [[1, 2, 3], [3, 6, 7], [7, 5, 4], 7]\n",
            "Transformed List  [1, 2, 3, 3, 6, 7, 7, 5, 4, 7]\n"
          ],
          "name": "stdout"
        }
      ]
    },
    {
      "cell_type": "code",
      "metadata": {
        "id": "QTxL0_uXxbWu"
      },
      "source": [
        ""
      ],
      "execution_count": null,
      "outputs": []
    }
  ]
}