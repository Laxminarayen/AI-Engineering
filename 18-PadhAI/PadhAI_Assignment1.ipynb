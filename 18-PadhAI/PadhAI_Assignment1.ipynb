{
  "nbformat": 4,
  "nbformat_minor": 0,
  "metadata": {
    "colab": {
      "name": "PadhAI Assignment1.ipynb",
      "provenance": [],
      "collapsed_sections": [],
      "authorship_tag": "ABX9TyO+w2cqAsRTVGhvOtXyMXUA",
      "include_colab_link": true
    },
    "kernelspec": {
      "name": "python3",
      "display_name": "Python 3"
    }
  },
  "cells": [
    {
      "cell_type": "markdown",
      "metadata": {
        "id": "view-in-github",
        "colab_type": "text"
      },
      "source": [
        "<a href=\"https://colab.research.google.com/github/plthiyagu/Personnel/blob/master/PadhAI_Assignment1.ipynb\" target=\"_parent\"><img src=\"https://colab.research.google.com/assets/colab-badge.svg\" alt=\"Open In Colab\"/></a>"
      ]
    },
    {
      "cell_type": "code",
      "metadata": {
        "id": "K9H5Zei4Y_FI",
        "colab_type": "code",
        "outputId": "307656a6-59f4-4f84-b0b2-4ca312d5d9ac",
        "colab": {
          "base_uri": "https://localhost:8080/",
          "height": 85
        }
      },
      "source": [
        "weight=input(\"Please your weight(in Kgs)\")\n",
        "height=input('What is your preference unit of heights?\"F\" for feet or \"M\" for meter')\n",
        "if height =='F':\n",
        "  feet=input(\"You will enter height given as feet and inches \")\n",
        "  inches=input(\"Now you enter the inches \")\n",
        "  meters = (feet + inches/12) * 0.3048\n",
        "elif height=='M':\n",
        "  feet=input(\"What is your height in meters \")\n",
        "else:\n",
        "  print(\"invalid height Format type\")"
      ],
      "execution_count": 0,
      "outputs": [
        {
          "output_type": "stream",
          "text": [
            "Please your weight(in Kgs)72\n",
            "What is your preference unit of heights?\"F\" for feet or \"M\" for meterF\n",
            "You will enter height given as feet and inches 6\n",
            "Now you enter the inches 0\n"
          ],
          "name": "stdout"
        }
      ]
    },
    {
      "cell_type": "code",
      "metadata": {
        "id": "fk7iuZ01bhA5",
        "colab_type": "code",
        "colab": {}
      },
      "source": [
        "def input_single_integer(prompt):\n",
        "  return int(input(prompt))"
      ],
      "execution_count": 0,
      "outputs": []
    },
    {
      "cell_type": "code",
      "metadata": {
        "id": "Wj3jDRbWhSeM",
        "colab_type": "code",
        "colab": {}
      },
      "source": [
        "def input_single_float(prompt):\n",
        "  return float(input(prompt))"
      ],
      "execution_count": 0,
      "outputs": []
    },
    {
      "cell_type": "code",
      "metadata": {
        "id": "iaUBX3YLbtig",
        "colab_type": "code",
        "outputId": "843a91c5-d1b7-4773-e7ed-13f8eb379424",
        "colab": {
          "base_uri": "https://localhost:8080/",
          "height": 136
        }
      },
      "source": [
        "weight=input_single_float(\"Please your weight(in Kgs)\")\n",
        "height=input('What is your preference unit of heights?\"F\" for feet or \"M\" for meter')\n",
        "if height =='F':\n",
        "  feet=input_single_integer(\"You will enter height given as feet and inches \")\n",
        "  inches=input_single_integer(\"Now you enter the inches \")\n",
        "  meters = (feet + inches/12) * 0.3048\n",
        "  print(meters)\n",
        "elif height=='M':\n",
        "  feet=input_single_float(\"What is your height in meters \")\n",
        "else:\n",
        "  print(\"invalid height Format type\")\n",
        "\n",
        "BMI = (weight)/ (meters **2)\n",
        "print(BMI)\n",
        "if BMI < 18.5:\n",
        "  print(\"UNDERWEIGHT\")\n",
        "elif BMI >=18.5 and BMI <25:\n",
        "  print(\"NORMAL\")\n",
        "elif BMI >=25 and BMI <30:\n",
        "  print(\"OVERWEIGHT\")\n",
        "else:\n",
        "  print(\"UNKNOWN CATEGORY\")\n"
      ],
      "execution_count": 0,
      "outputs": [
        {
          "output_type": "stream",
          "text": [
            "Please your weight(in Kgs)75\n",
            "What is your preference unit of heights?\"F\" for feet or \"M\" for meterF\n",
            "You will enter height given as feet and inches 6\n",
            "Now you enter the inches 0\n",
            "1.8288000000000002\n",
            "22.424813368145248\n",
            "NORMAL\n"
          ],
          "name": "stdout"
        }
      ]
    },
    {
      "cell_type": "code",
      "metadata": {
        "id": "NvFoIskUi5I3",
        "colab_type": "code",
        "colab": {}
      },
      "source": [
        "def factorial(n):\n",
        "  if n==0:\n",
        "    return 1\n",
        "  p=1\n",
        "  for k in range(1,n+1):\n",
        "    #print(i,p)\n",
        "    p*=k\n",
        "  return p"
      ],
      "execution_count": 0,
      "outputs": []
    },
    {
      "cell_type": "code",
      "metadata": {
        "id": "jgieoswIlMbZ",
        "colab_type": "code",
        "outputId": "46a4c904-a6d3-4a1f-991a-c9ad92a9537d",
        "colab": {
          "base_uri": "https://localhost:8080/",
          "height": 34
        }
      },
      "source": [
        "num= factorial(3)\n",
        "print(num)"
      ],
      "execution_count": 0,
      "outputs": [
        {
          "output_type": "stream",
          "text": [
            "6\n"
          ],
          "name": "stdout"
        }
      ]
    },
    {
      "cell_type": "code",
      "metadata": {
        "id": "vbS2ZjTGiqVD",
        "colab_type": "code",
        "colab": {}
      },
      "source": [
        "def factorial_recursive(n):\n",
        "\n",
        "  if n==1:\n",
        "    return 1\n",
        "  else:\n",
        "    return n * factorial_recursive(n-1)"
      ],
      "execution_count": 0,
      "outputs": []
    },
    {
      "cell_type": "code",
      "metadata": {
        "id": "DEBQRw_smJlI",
        "colab_type": "code",
        "outputId": "9119f15a-cf97-4ea2-d9f6-fb9d37e0c2d1",
        "colab": {
          "base_uri": "https://localhost:8080/",
          "height": 34
        }
      },
      "source": [
        "num=factorial_recursive(5)\n",
        "print(num)"
      ],
      "execution_count": 0,
      "outputs": [
        {
          "output_type": "stream",
          "text": [
            "120\n"
          ],
          "name": "stdout"
        }
      ]
    },
    {
      "cell_type": "code",
      "metadata": {
        "id": "980BQV8ZmSHg",
        "colab_type": "code",
        "colab": {}
      },
      "source": [
        "def compute_ratio(x,n):\n",
        "  ratio= x**n/factorial(n)\n",
        "  return ratio"
      ],
      "execution_count": 0,
      "outputs": []
    },
    {
      "cell_type": "code",
      "metadata": {
        "id": "qIrqDZkECjL7",
        "colab_type": "code",
        "outputId": "8a5e39ab-05a5-45d9-f42a-42f2c36145ad",
        "colab": {
          "base_uri": "https://localhost:8080/",
          "height": 34
        }
      },
      "source": [
        "print(compute_ratio(2,3))"
      ],
      "execution_count": 0,
      "outputs": [
        {
          "output_type": "stream",
          "text": [
            "1.3333333333333333\n"
          ],
          "name": "stdout"
        }
      ]
    },
    {
      "cell_type": "code",
      "metadata": {
        "id": "AYW7GT9kpUcu",
        "colab_type": "code",
        "colab": {}
      },
      "source": [
        "def compute_sum(x,N):\n",
        "  sum=1\n",
        "  for i in range(1,N+1):\n",
        "    sum += compute_ratio(x,i)\n",
        "  return sum\n"
      ],
      "execution_count": 0,
      "outputs": []
    },
    {
      "cell_type": "code",
      "metadata": {
        "id": "8N5tDJgSw3FI",
        "colab_type": "code",
        "colab": {
          "base_uri": "https://localhost:8080/",
          "height": 34
        },
        "outputId": "aac3e1e6-2832-4816-ff30-63ee5b4c3a52"
      },
      "source": [
        "print(compute_sum(2,3))"
      ],
      "execution_count": 75,
      "outputs": [
        {
          "output_type": "stream",
          "text": [
            "6.333333333333333\n"
          ],
          "name": "stdout"
        }
      ]
    },
    {
      "cell_type": "code",
      "metadata": {
        "id": "el0PNUf1xNkh",
        "colab_type": "code",
        "colab": {}
      },
      "source": [
        "def compute_sum_epsilon(x,episolon):\n",
        "  sum=1\n",
        "  var= episolon\n",
        "  i=1\n",
        "  while var >= episolon:\n",
        "    var= compute_ratio(x,i)\n",
        "    sum += var\n",
        "    i+=1\n",
        "  return sum\n"
      ],
      "execution_count": 0,
      "outputs": []
    },
    {
      "cell_type": "code",
      "metadata": {
        "id": "C3UePALS0jtm",
        "colab_type": "code",
        "colab": {
          "base_uri": "https://localhost:8080/",
          "height": 34
        },
        "outputId": "e61bc4a5-c8aa-47ca-cdc6-1c48726c75fa"
      },
      "source": [
        "print(compute_sum_epsilon(2,0.01))"
      ],
      "execution_count": 86,
      "outputs": [
        {
          "output_type": "stream",
          "text": [
            "7.387301587301587\n"
          ],
          "name": "stdout"
        }
      ]
    },
    {
      "cell_type": "code",
      "metadata": {
        "id": "n5z9YrSp0r0k",
        "colab_type": "code",
        "colab": {
          "base_uri": "https://localhost:8080/",
          "height": 34
        },
        "outputId": "baa8eecc-c63e-47d6-9249-5883d1ef0d92"
      },
      "source": [
        "print(compute_sum(2,100))"
      ],
      "execution_count": 82,
      "outputs": [
        {
          "output_type": "stream",
          "text": [
            "7.389056098930649\n"
          ],
          "name": "stdout"
        }
      ]
    },
    {
      "cell_type": "code",
      "metadata": {
        "id": "9e-WC0Op1DqA",
        "colab_type": "code",
        "colab": {}
      },
      "source": [
        "def compute_sum_epsilon(x,episolon):\n",
        "  sum=1\n",
        "  i=1\n",
        "  while True:\n",
        "    var= compute_ratio(x,i)\n",
        "    sum += var\n",
        "    i+=1\n",
        "    if var <episolon:\n",
        "      break\n",
        "  return sum\n"
      ],
      "execution_count": 0,
      "outputs": []
    },
    {
      "cell_type": "code",
      "metadata": {
        "id": "5JAqXUZd0xao",
        "colab_type": "code",
        "colab": {
          "base_uri": "https://localhost:8080/",
          "height": 34
        },
        "outputId": "d1bf038f-b413-4509-bcfa-b6e72ffddce7"
      },
      "source": [
        "print(compute_sum_epsilon(2,0.01))"
      ],
      "execution_count": 89,
      "outputs": [
        {
          "output_type": "stream",
          "text": [
            "7.387301587301587\n"
          ],
          "name": "stdout"
        }
      ]
    },
    {
      "cell_type": "code",
      "metadata": {
        "id": "tjBr-1Qr1zgr",
        "colab_type": "code",
        "colab": {
          "base_uri": "https://localhost:8080/",
          "height": 34
        },
        "outputId": "c1a9a86e-b469-4a61-c315-7c8390b8d1bf"
      },
      "source": [
        "p=2.1\n",
        "q=1.3\n",
        "v1= compute_sum(p,100) * compute_sum(q,100)\n",
        "v2= compute_sum(p+q,100) \n",
        "print(v1,v2,v2-v1)"
      ],
      "execution_count": 90,
      "outputs": [
        {
          "output_type": "stream",
          "text": [
            "29.964100047397018 29.96410004739703 1.0658141036401503e-14\n"
          ],
          "name": "stdout"
        }
      ]
    },
    {
      "cell_type": "code",
      "metadata": {
        "id": "DC7nlsu22XCK",
        "colab_type": "code",
        "colab": {}
      },
      "source": [
        ""
      ],
      "execution_count": 0,
      "outputs": []
    },
    {
      "cell_type": "code",
      "metadata": {
        "id": "4969EtqzCqZn",
        "colab_type": "code",
        "outputId": "2e1d89e9-1075-407e-d270-32c8d0d89144",
        "colab": {
          "base_uri": "https://localhost:8080/",
          "height": 34
        }
      },
      "source": [
        "\"a\" + \"b\""
      ],
      "execution_count": 0,
      "outputs": [
        {
          "output_type": "execute_result",
          "data": {
            "text/plain": [
              "'ab'"
            ]
          },
          "metadata": {
            "tags": []
          },
          "execution_count": 11
        }
      ]
    },
    {
      "cell_type": "code",
      "metadata": {
        "id": "aLx6PjuaCt5-",
        "colab_type": "code",
        "outputId": "3fd01311-e94b-4ca6-a2f8-fa74c0287b3f",
        "colab": {
          "base_uri": "https://localhost:8080/",
          "height": 163
        }
      },
      "source": [
        "\"a\" - \"b\""
      ],
      "execution_count": 0,
      "outputs": [
        {
          "output_type": "error",
          "ename": "TypeError",
          "evalue": "ignored",
          "traceback": [
            "\u001b[0;31m---------------------------------------------------------------------------\u001b[0m",
            "\u001b[0;31mTypeError\u001b[0m                                 Traceback (most recent call last)",
            "\u001b[0;32m<ipython-input-12-08911320bbc9>\u001b[0m in \u001b[0;36m<module>\u001b[0;34m()\u001b[0m\n\u001b[0;32m----> 1\u001b[0;31m \u001b[0;34m\"a\"\u001b[0m \u001b[0;34m-\u001b[0m \u001b[0;34m\"b\"\u001b[0m\u001b[0;34m\u001b[0m\u001b[0;34m\u001b[0m\u001b[0m\n\u001b[0m",
            "\u001b[0;31mTypeError\u001b[0m: unsupported operand type(s) for -: 'str' and 'str'"
          ]
        }
      ]
    },
    {
      "cell_type": "code",
      "metadata": {
        "id": "m4K8nKmrCwjH",
        "colab_type": "code",
        "outputId": "f335f568-b1ba-4bea-e710-fe25a38192e3",
        "colab": {
          "base_uri": "https://localhost:8080/",
          "height": 34
        }
      },
      "source": [
        "def temp(a):\n",
        "  a=10\n",
        "  return test(a*a)\n",
        "\n",
        "def test(b):\n",
        "  return b+1\n",
        "print(temp(5))"
      ],
      "execution_count": 0,
      "outputs": [
        {
          "output_type": "stream",
          "text": [
            "101\n"
          ],
          "name": "stdout"
        }
      ]
    },
    {
      "cell_type": "code",
      "metadata": {
        "id": "zu7FhUztDEGx",
        "colab_type": "code",
        "outputId": "740fa69d-d690-4351-aab0-e340fd6218c9",
        "colab": {
          "base_uri": "https://localhost:8080/",
          "height": 34
        }
      },
      "source": [
        "a= int(10.333)\n",
        "b=5\n",
        "c=a/b\n",
        "print(type(c))"
      ],
      "execution_count": 0,
      "outputs": [
        {
          "output_type": "stream",
          "text": [
            "<class 'float'>\n"
          ],
          "name": "stdout"
        }
      ]
    },
    {
      "cell_type": "code",
      "metadata": {
        "id": "WqbHH5SnDbW6",
        "colab_type": "code",
        "colab": {}
      },
      "source": [
        "d=1\n",
        "while d<1:\n",
        "  print(\"Viola\")\n",
        "  d= d-1\n",
        "  #Conditional check in `while` fails, so No output."
      ],
      "execution_count": 0,
      "outputs": []
    },
    {
      "cell_type": "code",
      "metadata": {
        "id": "8-lhgk72DnJP",
        "colab_type": "code",
        "outputId": "4c0f7abd-4fa3-46e0-a3d2-5920ad8efff8",
        "colab": {
          "base_uri": "https://localhost:8080/",
          "height": 34
        }
      },
      "source": [
        "def temp(a = 10, b = 10):\n",
        "    return a*b\n",
        "\n",
        "c = temp(5)\n",
        "print(c)\n"
      ],
      "execution_count": 0,
      "outputs": [
        {
          "output_type": "stream",
          "text": [
            "50\n"
          ],
          "name": "stdout"
        }
      ]
    },
    {
      "cell_type": "code",
      "metadata": {
        "id": "j1XuIw2_DvDV",
        "colab_type": "code",
        "outputId": "1e6ad5e1-259a-42e3-8590-77f978907f9c",
        "colab": {
          "base_uri": "https://localhost:8080/",
          "height": 34
        }
      },
      "source": [
        "a = \"HelloWorld\"\n",
        "print(a.find(\"llo\"))\n",
        "#Prints the position of starting of string “llo” in HelloWorld. (indexing starts from 0)"
      ],
      "execution_count": 0,
      "outputs": [
        {
          "output_type": "stream",
          "text": [
            "2\n"
          ],
          "name": "stdout"
        }
      ]
    },
    {
      "cell_type": "code",
      "metadata": {
        "id": "mqCmI9rgD0J2",
        "colab_type": "code",
        "outputId": "553e3103-c879-465c-de0c-c99f196bb45d",
        "colab": {
          "base_uri": "https://localhost:8080/",
          "height": 119
        }
      },
      "source": [
        "for i in range(10):\n",
        "    if ( i < 9):\n",
        "        print(i)\n",
        "        if (i > 4):\n",
        "            break\n",
        "#Prints 0 to 5. When iterating `i` becomes 5 and prints it then `if (i>4)` becomes true which invokes `break`, which breaks the nearest loop (i.e `for`)"
      ],
      "execution_count": 0,
      "outputs": [
        {
          "output_type": "stream",
          "text": [
            "0\n",
            "1\n",
            "2\n",
            "3\n",
            "4\n",
            "5\n"
          ],
          "name": "stdout"
        }
      ]
    },
    {
      "cell_type": "code",
      "metadata": {
        "id": "HtjvYMBmEExr",
        "colab_type": "code",
        "outputId": "e2395ddb-c33e-40ed-e3d4-cb503eef66fb",
        "colab": {
          "base_uri": "https://localhost:8080/",
          "height": 34
        }
      },
      "source": [
        "a=0\n",
        "for j in range(1, 10000, 7):\n",
        "    a = a+j\n",
        "print(a)\n"
      ],
      "execution_count": 0,
      "outputs": [
        {
          "output_type": "stream",
          "text": [
            "7143571\n"
          ],
          "name": "stdout"
        }
      ]
    },
    {
      "cell_type": "code",
      "metadata": {
        "id": "9bVT3IjUEFht",
        "colab_type": "code",
        "outputId": "d5337ff7-3c62-4a22-e7a2-0621cce65a52",
        "colab": {
          "base_uri": "https://localhost:8080/",
          "height": 34
        }
      },
      "source": [
        "print( True and False or True and (not 10 and False))\n",
        "#Decreasing order of precedence brackets, not, and, or. `not` operation on any non-zero number will give False. Kindly read on the web, regarding the order of precedence in Python.\n"
      ],
      "execution_count": 0,
      "outputs": [
        {
          "output_type": "stream",
          "text": [
            "False\n"
          ],
          "name": "stdout"
        }
      ]
    },
    {
      "cell_type": "code",
      "metadata": {
        "id": "w_32UREZEX3M",
        "colab_type": "code",
        "outputId": "a71545ad-9bb2-44fb-f403-55c53ec3072c",
        "colab": {
          "base_uri": "https://localhost:8080/",
          "height": 34
        }
      },
      "source": [
        "def temp():\n",
        "    return b*b\n",
        "\n",
        "b = 2\n",
        "a = temp()\n",
        "print(a)\n",
        "#The variable `b` is defined globally before invoking the function `temp()`. Thus the `b` inside `temp()` takes the value of `b` as 2. Python is a dynamically typed language.\n",
        "\n",
        "\n",
        "\n"
      ],
      "execution_count": 0,
      "outputs": [
        {
          "output_type": "stream",
          "text": [
            "4\n"
          ],
          "name": "stdout"
        }
      ]
    },
    {
      "cell_type": "code",
      "metadata": {
        "id": "mo78Jnz2EYkI",
        "colab_type": "code",
        "outputId": "b18a639e-edfa-4cc9-fe69-badf5d7545ec",
        "colab": {
          "base_uri": "https://localhost:8080/",
          "height": 34
        }
      },
      "source": [
        "a = int(10.333)\n",
        "b = 5\n",
        "c = a/b\n",
        "print(type(c))   \n"
      ],
      "execution_count": 0,
      "outputs": [
        {
          "output_type": "stream",
          "text": [
            "<class 'float'>\n"
          ],
          "name": "stdout"
        }
      ]
    },
    {
      "cell_type": "code",
      "metadata": {
        "id": "dqzA7bLuEiAm",
        "colab_type": "code",
        "outputId": "9c798e40-7e7a-47d6-914a-0a7860529999",
        "colab": {
          "base_uri": "https://localhost:8080/",
          "height": 34
        }
      },
      "source": [
        "a = int(10.333)\n",
        "a"
      ],
      "execution_count": 0,
      "outputs": [
        {
          "output_type": "execute_result",
          "data": {
            "text/plain": [
              "10"
            ]
          },
          "metadata": {
            "tags": []
          },
          "execution_count": 25
        }
      ]
    },
    {
      "cell_type": "code",
      "metadata": {
        "id": "LDHveJOMEotN",
        "colab_type": "code",
        "outputId": "5ffe4d16-fb01-4bea-bdc9-2d86eb314c61",
        "colab": {
          "base_uri": "https://localhost:8080/",
          "height": 34
        }
      },
      "source": [
        "type(a)"
      ],
      "execution_count": 0,
      "outputs": [
        {
          "output_type": "execute_result",
          "data": {
            "text/plain": [
              "int"
            ]
          },
          "metadata": {
            "tags": []
          },
          "execution_count": 26
        }
      ]
    },
    {
      "cell_type": "code",
      "metadata": {
        "id": "5mJ5lerpEsFx",
        "colab_type": "code",
        "outputId": "8a36c6ac-7c00-471e-9ca1-e715148bbb10",
        "colab": {
          "base_uri": "https://localhost:8080/",
          "height": 34
        }
      },
      "source": [
        "b=5\n",
        "type(b)"
      ],
      "execution_count": 0,
      "outputs": [
        {
          "output_type": "execute_result",
          "data": {
            "text/plain": [
              "int"
            ]
          },
          "metadata": {
            "tags": []
          },
          "execution_count": 27
        }
      ]
    },
    {
      "cell_type": "code",
      "metadata": {
        "id": "3f31Ic0OEumh",
        "colab_type": "code",
        "colab": {}
      },
      "source": [
        "#In python the default return type of `/` is floating point.\n"
      ],
      "execution_count": 0,
      "outputs": []
    },
    {
      "cell_type": "code",
      "metadata": {
        "id": "ZyTdh_nrE0yF",
        "colab_type": "code",
        "outputId": "c63bb104-c830-4686-a8c9-e3d89e5647d1",
        "colab": {
          "base_uri": "https://localhost:8080/",
          "height": 34
        }
      },
      "source": [
        "print(\"datam\" > \"datan\")\n",
        "#Comparison operator on a string works with lexicographical ordering. The output is false, characters `d`, `a`, `t`, `a` are same in both words but for last letters `m` < `n`\n"
      ],
      "execution_count": 0,
      "outputs": [
        {
          "output_type": "stream",
          "text": [
            "False\n"
          ],
          "name": "stdout"
        }
      ]
    },
    {
      "cell_type": "code",
      "metadata": {
        "id": "goGuhrXnE72k",
        "colab_type": "code",
        "outputId": "b3416872-3c5d-4b24-b36b-52a58ae5b1ad",
        "colab": {
          "base_uri": "https://localhost:8080/",
          "height": 34
        }
      },
      "source": [
        "data = 0 or 1\n",
        "if data:\n",
        "    print(\"Hello world\")\n",
        "else:\n",
        "    print(\"Good Morning\")\n",
        "#Usage of `if` is valid. Variable data will have True as result of `or` operation. Thus “Hello World” is printed"
      ],
      "execution_count": 0,
      "outputs": [
        {
          "output_type": "stream",
          "text": [
            "Hello world\n"
          ],
          "name": "stdout"
        }
      ]
    },
    {
      "cell_type": "code",
      "metadata": {
        "id": "5PGRVVQ5FYgx",
        "colab_type": "code",
        "outputId": "af1469df-f4ac-4896-a5b5-fac1ad4e7726",
        "colab": {
          "base_uri": "https://localhost:8080/",
          "height": 51
        }
      },
      "source": [
        "a = 10\n",
        "if a < 11:\n",
        "    print(\"Greater Number\")\n",
        "print(\"Lesser Number\")\n",
        "#`if` condition is true inner `print` executes and control moves outside the block and next `print` gets executed."
      ],
      "execution_count": 0,
      "outputs": [
        {
          "output_type": "stream",
          "text": [
            "Greater Number\n",
            "Lesser Number\n"
          ],
          "name": "stdout"
        }
      ]
    },
    {
      "cell_type": "code",
      "metadata": {
        "id": "7I2K55QBFsQJ",
        "colab_type": "code",
        "outputId": "5214a43d-d90b-4616-d3ef-bc69fc366ab2",
        "colab": {
          "base_uri": "https://localhost:8080/",
          "height": 34
        }
      },
      "source": [
        "def temp(a):\n",
        "    a = 10\n",
        "    return test(a*a)\n",
        "\n",
        "def test(b):\n",
        "    return b+1\n",
        "\n",
        "print(temp(5))\n",
        "#The value of `a` set inside the `temp()` is taken and used for computing thus 100 is passed to `test()` 1 gets added, returning 101\n",
        "\n"
      ],
      "execution_count": 0,
      "outputs": [
        {
          "output_type": "stream",
          "text": [
            "101\n"
          ],
          "name": "stdout"
        }
      ]
    },
    {
      "cell_type": "code",
      "metadata": {
        "id": "TVtBH2T_IKgO",
        "colab_type": "code",
        "outputId": "f5464045-bf80-4621-e25d-4a950e315e21",
        "colab": {
          "base_uri": "https://localhost:8080/",
          "height": 34
        }
      },
      "source": [
        "a = \"HelloWorld\"\n",
        "print(a[-5])\n",
        "#-1 points to last letter, thus last 5th character is “W”"
      ],
      "execution_count": 0,
      "outputs": [
        {
          "output_type": "stream",
          "text": [
            "W\n"
          ],
          "name": "stdout"
        }
      ]
    },
    {
      "cell_type": "code",
      "metadata": {
        "id": "A39JEIceIaS8",
        "colab_type": "code",
        "outputId": "e3f7ceea-f7e8-4f8f-b918-2abb99498119",
        "colab": {
          "base_uri": "https://localhost:8080/",
          "height": 34
        }
      },
      "source": [
        "a = \"HelloWorld\"\n",
        "print(a[0:10:2])\n",
        "#The third value mentioned `2` is the step, which determines increment between each index. So one character is skipped for each character taken\n"
      ],
      "execution_count": 0,
      "outputs": [
        {
          "output_type": "stream",
          "text": [
            "Hlool\n"
          ],
          "name": "stdout"
        }
      ]
    },
    {
      "cell_type": "code",
      "metadata": {
        "id": "-FPfzPfjIk-J",
        "colab_type": "code",
        "colab": {}
      },
      "source": [
        ""
      ],
      "execution_count": 0,
      "outputs": []
    }
  ]
}