{
  "nbformat": 4,
  "nbformat_minor": 0,
  "metadata": {
    "colab": {
      "name": "Incremental Learning With NLP and creme retrain.ipynb",
      "provenance": [],
      "collapsed_sections": [],
      "authorship_tag": "ABX9TyNyauCLUVEGOPBvY7GQsXyc",
      "include_colab_link": true
    },
    "kernelspec": {
      "name": "python3",
      "display_name": "Python 3"
    }
  },
  "cells": [
    {
      "cell_type": "markdown",
      "metadata": {
        "id": "view-in-github",
        "colab_type": "text"
      },
      "source": [
        "<a href=\"https://colab.research.google.com/github/plthiyagu/Personnel/blob/master/Incremental_Learning_With_NLP_and_creme_retrain.ipynb\" target=\"_parent\"><img src=\"https://colab.research.google.com/assets/colab-badge.svg\" alt=\"Open In Colab\"/></a>"
      ]
    },
    {
      "cell_type": "code",
      "metadata": {
        "id": "zHWKDqxyPtwb"
      },
      "source": [
        "import pandas as pd"
      ],
      "execution_count": 2,
      "outputs": []
    },
    {
      "cell_type": "code",
      "metadata": {
        "id": "tvc-BXfSPuKt",
        "outputId": "55e99310-a2fe-4522-ce4b-b3093e49a51a",
        "colab": {
          "base_uri": "https://localhost:8080/",
          "height": 204
        }
      },
      "source": [
        "messages=pd.read_csv('https://raw.githubusercontent.com/plthiyagu/Personnel/master/Dataset/smsspamcollection/SMSSpamCollection',sep='\\t',names=[\"label\", \"message\"])\n",
        "messages.head()"
      ],
      "execution_count": 11,
      "outputs": [
        {
          "output_type": "execute_result",
          "data": {
            "text/html": [
              "<div>\n",
              "<style scoped>\n",
              "    .dataframe tbody tr th:only-of-type {\n",
              "        vertical-align: middle;\n",
              "    }\n",
              "\n",
              "    .dataframe tbody tr th {\n",
              "        vertical-align: top;\n",
              "    }\n",
              "\n",
              "    .dataframe thead th {\n",
              "        text-align: right;\n",
              "    }\n",
              "</style>\n",
              "<table border=\"1\" class=\"dataframe\">\n",
              "  <thead>\n",
              "    <tr style=\"text-align: right;\">\n",
              "      <th></th>\n",
              "      <th>label</th>\n",
              "      <th>message</th>\n",
              "    </tr>\n",
              "  </thead>\n",
              "  <tbody>\n",
              "    <tr>\n",
              "      <th>0</th>\n",
              "      <td>ham</td>\n",
              "      <td>Go until jurong point, crazy.. Available only ...</td>\n",
              "    </tr>\n",
              "    <tr>\n",
              "      <th>1</th>\n",
              "      <td>ham</td>\n",
              "      <td>Ok lar... Joking wif u oni...</td>\n",
              "    </tr>\n",
              "    <tr>\n",
              "      <th>2</th>\n",
              "      <td>spam</td>\n",
              "      <td>Free entry in 2 a wkly comp to win FA Cup fina...</td>\n",
              "    </tr>\n",
              "    <tr>\n",
              "      <th>3</th>\n",
              "      <td>ham</td>\n",
              "      <td>U dun say so early hor... U c already then say...</td>\n",
              "    </tr>\n",
              "    <tr>\n",
              "      <th>4</th>\n",
              "      <td>ham</td>\n",
              "      <td>Nah I don't think he goes to usf, he lives aro...</td>\n",
              "    </tr>\n",
              "  </tbody>\n",
              "</table>\n",
              "</div>"
            ],
            "text/plain": [
              "  label                                            message\n",
              "0   ham  Go until jurong point, crazy.. Available only ...\n",
              "1   ham                      Ok lar... Joking wif u oni...\n",
              "2  spam  Free entry in 2 a wkly comp to win FA Cup fina...\n",
              "3   ham  U dun say so early hor... U c already then say...\n",
              "4   ham  Nah I don't think he goes to usf, he lives aro..."
            ]
          },
          "metadata": {
            "tags": []
          },
          "execution_count": 11
        }
      ]
    },
    {
      "cell_type": "code",
      "metadata": {
        "id": "bRzmMKJiQHE0",
        "outputId": "c3a9ed74-7c4f-4ab2-c279-f59638bd67e9",
        "colab": {
          "base_uri": "https://localhost:8080/",
          "height": 34
        }
      },
      "source": [
        "messages.shape"
      ],
      "execution_count": 14,
      "outputs": [
        {
          "output_type": "execute_result",
          "data": {
            "text/plain": [
              "(5572, 2)"
            ]
          },
          "metadata": {
            "tags": []
          },
          "execution_count": 14
        }
      ]
    },
    {
      "cell_type": "code",
      "metadata": {
        "id": "8YWkz18aRAkR"
      },
      "source": [
        "from sklearn.model_selection import train_test_split\n",
        "message_train,message_test=train_test_split(messages)"
      ],
      "execution_count": 15,
      "outputs": []
    },
    {
      "cell_type": "code",
      "metadata": {
        "id": "z-qIX0NpRgoD",
        "outputId": "ca01471c-9510-4031-f84e-f1f5f3ead213",
        "colab": {
          "base_uri": "https://localhost:8080/",
          "height": 419
        }
      },
      "source": [
        "message_train"
      ],
      "execution_count": 16,
      "outputs": [
        {
          "output_type": "execute_result",
          "data": {
            "text/html": [
              "<div>\n",
              "<style scoped>\n",
              "    .dataframe tbody tr th:only-of-type {\n",
              "        vertical-align: middle;\n",
              "    }\n",
              "\n",
              "    .dataframe tbody tr th {\n",
              "        vertical-align: top;\n",
              "    }\n",
              "\n",
              "    .dataframe thead th {\n",
              "        text-align: right;\n",
              "    }\n",
              "</style>\n",
              "<table border=\"1\" class=\"dataframe\">\n",
              "  <thead>\n",
              "    <tr style=\"text-align: right;\">\n",
              "      <th></th>\n",
              "      <th>label</th>\n",
              "      <th>message</th>\n",
              "    </tr>\n",
              "  </thead>\n",
              "  <tbody>\n",
              "    <tr>\n",
              "      <th>2251</th>\n",
              "      <td>ham</td>\n",
              "      <td>I am getting threats from your sales executive...</td>\n",
              "    </tr>\n",
              "    <tr>\n",
              "      <th>85</th>\n",
              "      <td>ham</td>\n",
              "      <td>I call you later, don't have network. If urgnt...</td>\n",
              "    </tr>\n",
              "    <tr>\n",
              "      <th>4302</th>\n",
              "      <td>ham</td>\n",
              "      <td>Are there TA jobs available? Let me know pleas...</td>\n",
              "    </tr>\n",
              "    <tr>\n",
              "      <th>2578</th>\n",
              "      <td>ham</td>\n",
              "      <td>Hey whats up? U sleeping all morning?</td>\n",
              "    </tr>\n",
              "    <tr>\n",
              "      <th>383</th>\n",
              "      <td>ham</td>\n",
              "      <td>Hey leave it. not a big deal:-) take care.</td>\n",
              "    </tr>\n",
              "    <tr>\n",
              "      <th>...</th>\n",
              "      <td>...</td>\n",
              "      <td>...</td>\n",
              "    </tr>\n",
              "    <tr>\n",
              "      <th>1547</th>\n",
              "      <td>ham</td>\n",
              "      <td>Shant disturb u anymore... Jia you...</td>\n",
              "    </tr>\n",
              "    <tr>\n",
              "      <th>5236</th>\n",
              "      <td>ham</td>\n",
              "      <td>Your opinion about me? 1. Over 2. Jada 3. Kusr...</td>\n",
              "    </tr>\n",
              "    <tr>\n",
              "      <th>680</th>\n",
              "      <td>ham</td>\n",
              "      <td>Missed your call cause I was yelling at scrapp...</td>\n",
              "    </tr>\n",
              "    <tr>\n",
              "      <th>1796</th>\n",
              "      <td>ham</td>\n",
              "      <td>I hope your alright babe? I worry that you mig...</td>\n",
              "    </tr>\n",
              "    <tr>\n",
              "      <th>1125</th>\n",
              "      <td>ham</td>\n",
              "      <td>Aiyar sorry lor forgot 2 tell u...</td>\n",
              "    </tr>\n",
              "  </tbody>\n",
              "</table>\n",
              "<p>4179 rows × 2 columns</p>\n",
              "</div>"
            ],
            "text/plain": [
              "     label                                            message\n",
              "2251   ham  I am getting threats from your sales executive...\n",
              "85     ham  I call you later, don't have network. If urgnt...\n",
              "4302   ham  Are there TA jobs available? Let me know pleas...\n",
              "2578   ham              Hey whats up? U sleeping all morning?\n",
              "383    ham         Hey leave it. not a big deal:-) take care.\n",
              "...    ...                                                ...\n",
              "1547   ham              Shant disturb u anymore... Jia you...\n",
              "5236   ham  Your opinion about me? 1. Over 2. Jada 3. Kusr...\n",
              "680    ham  Missed your call cause I was yelling at scrapp...\n",
              "1796   ham  I hope your alright babe? I worry that you mig...\n",
              "1125   ham                 Aiyar sorry lor forgot 2 tell u...\n",
              "\n",
              "[4179 rows x 2 columns]"
            ]
          },
          "metadata": {
            "tags": []
          },
          "execution_count": 16
        }
      ]
    },
    {
      "cell_type": "code",
      "metadata": {
        "id": "FfwW7-7rRkWs"
      },
      "source": [
        "# Convert dataframe to list of tuples\n",
        "messages_train = message_train.to_records(index=False)\n",
        "messages_test=message_test.to_records(index=False)"
      ],
      "execution_count": 17,
      "outputs": []
    },
    {
      "cell_type": "code",
      "metadata": {
        "id": "jjCxoqZKRoQd",
        "outputId": "2b1c8983-f36a-487a-aa6e-213f144aa025",
        "colab": {
          "base_uri": "https://localhost:8080/",
          "height": 419
        }
      },
      "source": [
        "message_train"
      ],
      "execution_count": 18,
      "outputs": [
        {
          "output_type": "execute_result",
          "data": {
            "text/html": [
              "<div>\n",
              "<style scoped>\n",
              "    .dataframe tbody tr th:only-of-type {\n",
              "        vertical-align: middle;\n",
              "    }\n",
              "\n",
              "    .dataframe tbody tr th {\n",
              "        vertical-align: top;\n",
              "    }\n",
              "\n",
              "    .dataframe thead th {\n",
              "        text-align: right;\n",
              "    }\n",
              "</style>\n",
              "<table border=\"1\" class=\"dataframe\">\n",
              "  <thead>\n",
              "    <tr style=\"text-align: right;\">\n",
              "      <th></th>\n",
              "      <th>label</th>\n",
              "      <th>message</th>\n",
              "    </tr>\n",
              "  </thead>\n",
              "  <tbody>\n",
              "    <tr>\n",
              "      <th>2251</th>\n",
              "      <td>ham</td>\n",
              "      <td>I am getting threats from your sales executive...</td>\n",
              "    </tr>\n",
              "    <tr>\n",
              "      <th>85</th>\n",
              "      <td>ham</td>\n",
              "      <td>I call you later, don't have network. If urgnt...</td>\n",
              "    </tr>\n",
              "    <tr>\n",
              "      <th>4302</th>\n",
              "      <td>ham</td>\n",
              "      <td>Are there TA jobs available? Let me know pleas...</td>\n",
              "    </tr>\n",
              "    <tr>\n",
              "      <th>2578</th>\n",
              "      <td>ham</td>\n",
              "      <td>Hey whats up? U sleeping all morning?</td>\n",
              "    </tr>\n",
              "    <tr>\n",
              "      <th>383</th>\n",
              "      <td>ham</td>\n",
              "      <td>Hey leave it. not a big deal:-) take care.</td>\n",
              "    </tr>\n",
              "    <tr>\n",
              "      <th>...</th>\n",
              "      <td>...</td>\n",
              "      <td>...</td>\n",
              "    </tr>\n",
              "    <tr>\n",
              "      <th>1547</th>\n",
              "      <td>ham</td>\n",
              "      <td>Shant disturb u anymore... Jia you...</td>\n",
              "    </tr>\n",
              "    <tr>\n",
              "      <th>5236</th>\n",
              "      <td>ham</td>\n",
              "      <td>Your opinion about me? 1. Over 2. Jada 3. Kusr...</td>\n",
              "    </tr>\n",
              "    <tr>\n",
              "      <th>680</th>\n",
              "      <td>ham</td>\n",
              "      <td>Missed your call cause I was yelling at scrapp...</td>\n",
              "    </tr>\n",
              "    <tr>\n",
              "      <th>1796</th>\n",
              "      <td>ham</td>\n",
              "      <td>I hope your alright babe? I worry that you mig...</td>\n",
              "    </tr>\n",
              "    <tr>\n",
              "      <th>1125</th>\n",
              "      <td>ham</td>\n",
              "      <td>Aiyar sorry lor forgot 2 tell u...</td>\n",
              "    </tr>\n",
              "  </tbody>\n",
              "</table>\n",
              "<p>4179 rows × 2 columns</p>\n",
              "</div>"
            ],
            "text/plain": [
              "     label                                            message\n",
              "2251   ham  I am getting threats from your sales executive...\n",
              "85     ham  I call you later, don't have network. If urgnt...\n",
              "4302   ham  Are there TA jobs available? Let me know pleas...\n",
              "2578   ham              Hey whats up? U sleeping all morning?\n",
              "383    ham         Hey leave it. not a big deal:-) take care.\n",
              "...    ...                                                ...\n",
              "1547   ham              Shant disturb u anymore... Jia you...\n",
              "5236   ham  Your opinion about me? 1. Over 2. Jada 3. Kusr...\n",
              "680    ham  Missed your call cause I was yelling at scrapp...\n",
              "1796   ham  I hope your alright babe? I worry that you mig...\n",
              "1125   ham                 Aiyar sorry lor forgot 2 tell u...\n",
              "\n",
              "[4179 rows x 2 columns]"
            ]
          },
          "metadata": {
            "tags": []
          },
          "execution_count": 18
        }
      ]
    },
    {
      "cell_type": "code",
      "metadata": {
        "id": "Xtv5K35KR0h2",
        "outputId": "076b9875-78c9-4169-b0d4-0bfa278a069f",
        "colab": {
          "base_uri": "https://localhost:8080/",
          "height": 343
        }
      },
      "source": [
        "!pip install creme"
      ],
      "execution_count": 21,
      "outputs": [
        {
          "output_type": "stream",
          "text": [
            "Collecting creme\n",
            "\u001b[?25l  Downloading https://files.pythonhosted.org/packages/ce/8f/95044edac0127f71251a187ae1be0fe0e9bab24050cd6ab29210f078b179/creme-0.6.1-cp36-cp36m-manylinux2010_x86_64.whl (1.1MB)\n",
            "\u001b[K     |████████████████████████████████| 1.1MB 2.6MB/s \n",
            "\u001b[?25hRequirement already satisfied: numpy>=1.18.1 in /usr/local/lib/python3.6/dist-packages (from creme) (1.18.5)\n",
            "Collecting mmh3==2.5.1\n",
            "  Downloading https://files.pythonhosted.org/packages/fa/7e/3ddcab0a9fcea034212c02eb411433db9330e34d626360b97333368b4052/mmh3-2.5.1.tar.gz\n",
            "Requirement already satisfied: pandas>=1.0.1 in /usr/local/lib/python3.6/dist-packages (from creme) (1.1.2)\n",
            "Requirement already satisfied: scipy>=1.4.1 in /usr/local/lib/python3.6/dist-packages (from creme) (1.4.1)\n",
            "Requirement already satisfied: pytz>=2017.2 in /usr/local/lib/python3.6/dist-packages (from pandas>=1.0.1->creme) (2018.9)\n",
            "Requirement already satisfied: python-dateutil>=2.7.3 in /usr/local/lib/python3.6/dist-packages (from pandas>=1.0.1->creme) (2.8.1)\n",
            "Requirement already satisfied: six>=1.5 in /usr/local/lib/python3.6/dist-packages (from python-dateutil>=2.7.3->pandas>=1.0.1->creme) (1.15.0)\n",
            "Building wheels for collected packages: mmh3\n",
            "  Building wheel for mmh3 (setup.py) ... \u001b[?25l\u001b[?25hdone\n",
            "  Created wheel for mmh3: filename=mmh3-2.5.1-cp36-cp36m-linux_x86_64.whl size=37860 sha256=560ae1c45c2a2f4f6a24eb36d5dade716350f0e91591c00302b993c37e6a1b0d\n",
            "  Stored in directory: /root/.cache/pip/wheels/38/b4/ea/6e4e321c625d3320c0c496bf4088371546d8fce5f1dd71b219\n",
            "Successfully built mmh3\n",
            "Installing collected packages: mmh3, creme\n",
            "Successfully installed creme-0.6.1 mmh3-2.5.1\n"
          ],
          "name": "stdout"
        }
      ]
    },
    {
      "cell_type": "code",
      "metadata": {
        "id": "2cJrrioGRqpT"
      },
      "source": [
        "# Creating the pipeline\n",
        "# 1st function is creating the TFIDF\n",
        "# 2nd function is the naive bayes predictor\n",
        "import math\n",
        "from creme import compose\n",
        "from creme import feature_extraction\n",
        "from creme import naive_bayes\n",
        "import creme\n",
        "model = compose.Pipeline(\n",
        "    ('tokenize', feature_extraction.TFIDF(lowercase=False)),\n",
        "    ('nb', naive_bayes.MultinomialNB(alpha=1)))\n"
      ],
      "execution_count": 22,
      "outputs": []
    },
    {
      "cell_type": "code",
      "metadata": {
        "id": "DBYrTcgsRvXQ"
      },
      "source": [
        "from creme import metrics\n",
        "metric=metrics.Accuracy()\n",
        "# Training the model row by row\n",
        "for label,sentence in messages_train:\n",
        "    model = model.fit_one(sentence, label)\n",
        "    y_pred = model.predict_one(sentence)\n",
        "    metric = metric.update(label, y_pred)"
      ],
      "execution_count": 23,
      "outputs": []
    },
    {
      "cell_type": "code",
      "metadata": {
        "id": "GwwJeK99R_Ae",
        "outputId": "2756fcce-0181-4277-fcfc-78813f7e58f7",
        "colab": {
          "base_uri": "https://localhost:8080/",
          "height": 34
        }
      },
      "source": [
        "### Training Data Accuracy\n",
        "metric"
      ],
      "execution_count": 24,
      "outputs": [
        {
          "output_type": "execute_result",
          "data": {
            "text/plain": [
              "Accuracy: 95.86%"
            ]
          },
          "metadata": {
            "tags": []
          },
          "execution_count": 24
        }
      ]
    },
    {
      "cell_type": "code",
      "metadata": {
        "id": "8jH50ZPZSBd0"
      },
      "source": [
        "### test Data Accuracy\n",
        "test_metric=metrics.Accuracy()\n",
        "for label,sentence in messages_test:\n",
        "    y_pred = model.predict_one(sentence)\n",
        "    test_metric = metric.update(label, y_pred)"
      ],
      "execution_count": 25,
      "outputs": []
    },
    {
      "cell_type": "code",
      "metadata": {
        "id": "lw2YW7aESEen",
        "outputId": "97cd4c04-b612-49f9-d837-d2e728c37261",
        "colab": {
          "base_uri": "https://localhost:8080/",
          "height": 34
        }
      },
      "source": [
        "### test Metric\n",
        "test_metric"
      ],
      "execution_count": 26,
      "outputs": [
        {
          "output_type": "execute_result",
          "data": {
            "text/plain": [
              "Accuracy: 95.80%"
            ]
          },
          "metadata": {
            "tags": []
          },
          "execution_count": 26
        }
      ]
    },
    {
      "cell_type": "code",
      "metadata": {
        "id": "hLIQSYAmSG7g",
        "outputId": "ecf41353-c723-4157-fda3-9f40563787e1",
        "colab": {
          "base_uri": "https://localhost:8080/",
          "height": 255
        }
      },
      "source": [
        "model.fit_one(\"This guy is neutral\", \"ham\")\n",
        "model.fit_one(\"Everybody is neutral \", \"ham\")"
      ],
      "execution_count": 27,
      "outputs": [
        {
          "output_type": "execute_result",
          "data": {
            "text/plain": [
              "Pipeline (\n",
              "  TFIDF (\n",
              "    normalize=True\n",
              "    on=None\n",
              "    strip_accents=True\n",
              "    lowercase=False\n",
              "    preprocessor=None\n",
              "    tokenizer=<built-in method findall of _sre.SRE_Pattern object at 0x7f6460afca58>\n",
              "    ngram_range=(1, 1)\n",
              "  ),\n",
              "  MultinomialNB (\n",
              "    alpha=1\n",
              "  )\n",
              ")"
            ]
          },
          "metadata": {
            "tags": []
          },
          "execution_count": 27
        }
      ]
    },
    {
      "cell_type": "code",
      "metadata": {
        "id": "yQ_z7c7JSI2O"
      },
      "source": [
        "import math\n",
        "from creme import compose\n",
        "from creme import feature_extraction\n",
        "from creme import naive_bayes\n",
        "import creme"
      ],
      "execution_count": 28,
      "outputs": []
    },
    {
      "cell_type": "code",
      "metadata": {
        "id": "g8ch6qReSP3_"
      },
      "source": [
        "docs = [   ('Chinese Beijing Chinese', 'yes'),\n",
        " ('Chinese Chinese Shanghai', 'yes'),\n",
        "('Chinese Macao', 'yes'),\n",
        "('Tokyo Japan Chinese', 'no')\n",
        "]"
      ],
      "execution_count": 29,
      "outputs": []
    },
    {
      "cell_type": "code",
      "metadata": {
        "id": "JoaVbgqxSSRK",
        "outputId": "a2d828a7-d9d6-4e5c-c55a-a79e5a9b38c7",
        "colab": {
          "base_uri": "https://localhost:8080/",
          "height": 85
        }
      },
      "source": [
        "### This is just an example\n",
        "corpus = [\n",
        "         'This is the first document.',\n",
        "        'This document is the second document.',\n",
        "        'And this is the third one.',\n",
        "        'Is this the first document?',\n",
        "    ]\n",
        "bow = creme.feature_extraction.TFIDF()\n",
        "for sentence in corpus:\n",
        "    print(bow.transform_one(sentence))"
      ],
      "execution_count": 30,
      "outputs": [
        {
          "output_type": "stream",
          "text": [
            "{'this': 0.4472135954999579, 'is': 0.4472135954999579, 'the': 0.4472135954999579, 'first': 0.4472135954999579, 'document': 0.4472135954999579}\n",
            "{'this': 0.35355339059327373, 'document': 0.7071067811865475, 'is': 0.35355339059327373, 'the': 0.35355339059327373, 'second': 0.35355339059327373}\n",
            "{'and': 0.408248290463863, 'this': 0.408248290463863, 'is': 0.408248290463863, 'the': 0.408248290463863, 'third': 0.408248290463863, 'one': 0.408248290463863}\n",
            "{'is': 0.4472135954999579, 'this': 0.4472135954999579, 'the': 0.4472135954999579, 'first': 0.4472135954999579, 'document': 0.4472135954999579}\n"
          ],
          "name": "stdout"
        }
      ]
    },
    {
      "cell_type": "code",
      "metadata": {
        "id": "Fr-pqH62SVYS"
      },
      "source": [
        "model = compose.Pipeline(\n",
        "    ('tokenize', feature_extraction.BagOfWords(lowercase=False)),\n",
        "    ('nb', naive_bayes.MultinomialNB(alpha=1)))"
      ],
      "execution_count": 31,
      "outputs": []
    },
    {
      "cell_type": "code",
      "metadata": {
        "id": "efqX4yVIScHk",
        "outputId": "3bf4b424-fd4f-4ffa-af8e-f6dd3a976aa2",
        "colab": {
          "base_uri": "https://localhost:8080/",
          "height": 51
        }
      },
      "source": [
        "%%time\n",
        "for sentence, label in docs:\n",
        "     model = model.fit_one(sentence, label)"
      ],
      "execution_count": 32,
      "outputs": [
        {
          "output_type": "stream",
          "text": [
            "CPU times: user 160 µs, sys: 24 µs, total: 184 µs\n",
            "Wall time: 188 µs\n"
          ],
          "name": "stdout"
        }
      ]
    },
    {
      "cell_type": "code",
      "metadata": {
        "id": "B3VHHbTSSe9t"
      },
      "source": [
        "new_unseen_text = 'Tokyo india'"
      ],
      "execution_count": 33,
      "outputs": []
    },
    {
      "cell_type": "markdown",
      "metadata": {
        "id": "XJkBMSvhSkOP"
      },
      "source": [
        "Training on a new data and new category¶\n"
      ]
    },
    {
      "cell_type": "code",
      "metadata": {
        "id": "Fmm9rEo9Shl_",
        "outputId": "7323ce1a-4965-4339-bb94-d1013d4c4338",
        "colab": {
          "base_uri": "https://localhost:8080/",
          "height": 238
        }
      },
      "source": [
        "model.fit_one('India USA','may be')"
      ],
      "execution_count": 34,
      "outputs": [
        {
          "output_type": "execute_result",
          "data": {
            "text/plain": [
              "Pipeline (\n",
              "  BagOfWords (\n",
              "    on=None\n",
              "    strip_accents=True\n",
              "    lowercase=False\n",
              "    preprocessor=None\n",
              "    tokenizer=<built-in method findall of _sre.SRE_Pattern object at 0x7f6460afca58>\n",
              "    ngram_range=(1, 1)\n",
              "  ),\n",
              "  MultinomialNB (\n",
              "    alpha=1\n",
              "  )\n",
              ")"
            ]
          },
          "metadata": {
            "tags": []
          },
          "execution_count": 34
        }
      ]
    },
    {
      "cell_type": "code",
      "metadata": {
        "id": "wnAX1QF7Sm31",
        "outputId": "22fb1023-fb2f-4de5-cf75-51eaa96fdc1f",
        "colab": {
          "base_uri": "https://localhost:8080/",
          "height": 35
        }
      },
      "source": [
        "model.predict_one(\"India Germany\")"
      ],
      "execution_count": 35,
      "outputs": [
        {
          "output_type": "execute_result",
          "data": {
            "application/vnd.google.colaboratory.intrinsic+json": {
              "type": "string"
            },
            "text/plain": [
              "'may be'"
            ]
          },
          "metadata": {
            "tags": []
          },
          "execution_count": 35
        }
      ]
    },
    {
      "cell_type": "markdown",
      "metadata": {
        "id": "GEje5hubSrV0"
      },
      "source": [
        "Creme With Logistic Regression¶\n"
      ]
    },
    {
      "cell_type": "code",
      "metadata": {
        "id": "Qm3NR0V5SpX7",
        "outputId": "29cc4a79-bdf0-4c5b-877d-1d851989be23",
        "colab": {
          "base_uri": "https://localhost:8080/",
          "height": 34
        }
      },
      "source": [
        "from creme import compose\n",
        "from creme import datasets\n",
        "from creme import linear_model\n",
        "from creme import metrics\n",
        "from creme import preprocessing\n",
        "\n",
        "X_y = datasets.Phishing()\n",
        "\n",
        "model = compose.Pipeline(\n",
        "   preprocessing.StandardScaler(),\n",
        " linear_model.LogisticRegression()\n",
        ")\n",
        "metric = metrics.Accuracy()\n",
        "\n",
        "\n",
        "for x, y in X_y:\n",
        "    y_pred = model.predict_one(x)      # make a prediction\n",
        "    metric = metric.update(y, y_pred)  # update the metric\n",
        "    model = model.fit_one(x, y)        # make the model learn\n",
        "\n",
        "metric"
      ],
      "execution_count": 36,
      "outputs": [
        {
          "output_type": "execute_result",
          "data": {
            "text/plain": [
              "Accuracy: 89.20%"
            ]
          },
          "metadata": {
            "tags": []
          },
          "execution_count": 36
        }
      ]
    },
    {
      "cell_type": "code",
      "metadata": {
        "id": "bVU30T0QSuem"
      },
      "source": [
        ""
      ],
      "execution_count": null,
      "outputs": []
    }
  ]
}