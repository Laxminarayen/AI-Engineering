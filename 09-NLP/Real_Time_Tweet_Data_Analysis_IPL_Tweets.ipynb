{
  "nbformat": 4,
  "nbformat_minor": 0,
  "metadata": {
    "colab": {
      "name": "Real Time Tweet Data Analysis -IPL Tweets.ipynb",
      "provenance": [],
      "collapsed_sections": [],
      "authorship_tag": "ABX9TyNqsqO8pPMt/TBWe0izQc88",
      "include_colab_link": true
    },
    "kernelspec": {
      "name": "python3",
      "display_name": "Python 3"
    }
  },
  "cells": [
    {
      "cell_type": "markdown",
      "metadata": {
        "id": "view-in-github",
        "colab_type": "text"
      },
      "source": [
        "<a href=\"https://colab.research.google.com/github/plthiyagu/Personnel/blob/master/Real_Time_Tweet_Data_Analysis_IPL_Tweets.ipynb\" target=\"_parent\"><img src=\"https://colab.research.google.com/assets/colab-badge.svg\" alt=\"Open In Colab\"/></a>"
      ]
    },
    {
      "cell_type": "code",
      "metadata": {
        "id": "UOy4Kx5w6GcQ",
        "colab_type": "code",
        "colab": {
          "base_uri": "https://localhost:8080/",
          "height": 34
        },
        "outputId": "1b8c25c7-d319-47e8-fa1c-6ac8db3a3f48"
      },
      "source": [
        "from google.colab import drive\n",
        "drive.mount('/content/drive',force_remount=True)"
      ],
      "execution_count": 21,
      "outputs": [
        {
          "output_type": "stream",
          "text": [
            "Mounted at /content/drive\n"
          ],
          "name": "stdout"
        }
      ]
    },
    {
      "cell_type": "code",
      "metadata": {
        "id": "JmEuXuAP7P4m",
        "colab_type": "code",
        "colab": {
          "base_uri": "https://localhost:8080/",
          "height": 34
        },
        "outputId": "6829276e-5f2b-4207-fb1c-73b8cb5dba45"
      },
      "source": [
        "!pip install ConfigParser"
      ],
      "execution_count": 22,
      "outputs": [
        {
          "output_type": "stream",
          "text": [
            "Requirement already satisfied: ConfigParser in /usr/local/lib/python3.6/dist-packages (5.0.0)\n"
          ],
          "name": "stdout"
        }
      ]
    },
    {
      "cell_type": "code",
      "metadata": {
        "id": "mBHuJxWT94Za",
        "colab_type": "code",
        "colab": {
          "base_uri": "https://localhost:8080/",
          "height": 34
        },
        "outputId": "afcfac55-5821-41e9-c809-49a4777ea1a8"
      },
      "source": [
        "!ls '/content/drive/My Drive/Colab Notebooks/Config'"
      ],
      "execution_count": 27,
      "outputs": [
        {
          "output_type": "stream",
          "text": [
            "plthiyagu-9fb426ddb927.json\n"
          ],
          "name": "stdout"
        }
      ]
    },
    {
      "cell_type": "code",
      "metadata": {
        "id": "Hbzafie4AfMA",
        "colab_type": "code",
        "colab": {}
      },
      "source": [
        "import configparser\n",
        "config =configparser.RawConfigParser()\n",
        "config.read('/content/drive/My Drive/Colab Notebooks/Config/twitter.properties')"
      ],
      "execution_count": null,
      "outputs": []
    },
    {
      "cell_type": "code",
      "metadata": {
        "id": "1u-xh9Ltewfn",
        "colab_type": "code",
        "colab": {}
      },
      "source": [
        "import os\n",
        "import tweepy as tw"
      ],
      "execution_count": 25,
      "outputs": []
    },
    {
      "cell_type": "code",
      "metadata": {
        "id": "iNUuE6G3hXoB",
        "colab_type": "code",
        "colab": {}
      },
      "source": [
        "accesstoken= config.get('twitter','accesstoken')\n",
        "accesstokensecret = config.get('twitter','accesstokensecret')\n",
        "api= tw.API(auth,wait_on_rate_limit=True)"
      ],
      "execution_count": null,
      "outputs": []
    },
    {
      "cell_type": "code",
      "metadata": {
        "id": "2_d5EIVKh6eS",
        "colab_type": "code",
        "colab": {}
      },
      "source": [
        "search_words=[\"ipl2020\",\"DCvKXIP\"]\n",
        "date_since=\"2020-09-20\""
      ],
      "execution_count": 29,
      "outputs": []
    },
    {
      "cell_type": "code",
      "metadata": {
        "id": "PHMDld27kKmC",
        "colab_type": "code",
        "colab": {}
      },
      "source": [
        "tweets= tw.Cursor(api.search,\n",
        "                  q=search_words,\n",
        "                  since=date_since\n",
        "                  ).items(1000)"
      ],
      "execution_count": 28,
      "outputs": []
    },
    {
      "cell_type": "code",
      "metadata": {
        "id": "-DlpxOspkK85",
        "colab_type": "code",
        "colab": {}
      },
      "source": [
        "tweets"
      ],
      "execution_count": 28,
      "outputs": []
    },
    {
      "cell_type": "code",
      "metadata": {
        "id": "2uY-js0VkLAs",
        "colab_type": "code",
        "colab": {}
      },
      "source": [
        "tweet_details=[[tweet.geo,tweet.text,tweet.user.screen_name,tweet.user.location] for tweet in tweets]"
      ],
      "execution_count": 28,
      "outputs": []
    },
    {
      "cell_type": "code",
      "metadata": {
        "id": "j4G991vFkLGT",
        "colab_type": "code",
        "colab": {}
      },
      "source": [
        "import pandas as pd"
      ],
      "execution_count": 1,
      "outputs": []
    },
    {
      "cell_type": "code",
      "metadata": {
        "id": "7QeAO_WMkLKC",
        "colab_type": "code",
        "colab": {}
      },
      "source": [
        "tweet_df=pd.DataFrame(data=tweet_details,columns=['geo','text','user',\"location\"])"
      ],
      "execution_count": 28,
      "outputs": []
    },
    {
      "cell_type": "code",
      "metadata": {
        "id": "ySGG0aYPkLPQ",
        "colab_type": "code",
        "colab": {}
      },
      "source": [
        "pd.set_option('max_colwidth',800)\n",
        "tweet_df.head(20)"
      ],
      "execution_count": 28,
      "outputs": []
    },
    {
      "cell_type": "code",
      "metadata": {
        "id": "QDxbS45qkLUk",
        "colab_type": "code",
        "colab": {}
      },
      "source": [
        "tweet_df.value_counts()"
      ],
      "execution_count": 28,
      "outputs": []
    },
    {
      "cell_type": "code",
      "metadata": {
        "id": "0-GzVtkGkLY5",
        "colab_type": "code",
        "colab": {}
      },
      "source": [
        ""
      ],
      "execution_count": null,
      "outputs": []
    },
    {
      "cell_type": "code",
      "metadata": {
        "id": "NdeWW1T2cxAY",
        "colab_type": "code",
        "colab": {}
      },
      "source": [
        "import re\n",
        "def clean_tweet(text):\n",
        "  text = re.sub(\"RT @[\\w]*:\",\"\",text)\n",
        "  text= re.sub(\"@[\\w]*\",\"\",text)\n",
        "  text = re.sub(\"http?://[A-Za-z0-9./]*\",\"\",text)\n",
        "  text= re.sub(\"\\n\",\"\",text)\n",
        "  return text\n"
      ],
      "execution_count": null,
      "outputs": []
    },
    {
      "cell_type": "code",
      "metadata": {
        "id": "w3wFFZUOcw0O",
        "colab_type": "code",
        "colab": {}
      },
      "source": [
        "tweet_df['text']=tweet_df['text'].apply(lambda x:clean_tweets(x))"
      ],
      "execution_count": null,
      "outputs": []
    },
    {
      "cell_type": "code",
      "metadata": {
        "id": "fcxi1rfJxmkT",
        "colab_type": "code",
        "colab": {}
      },
      "source": [
        "tweet_df.head()"
      ],
      "execution_count": null,
      "outputs": []
    },
    {
      "cell_type": "code",
      "metadata": {
        "id": "T5MdPu00xpPS",
        "colab_type": "code",
        "colab": {}
      },
      "source": [
        "tweet_df.to_csv(\"tweets_ipl.csv\")"
      ],
      "execution_count": null,
      "outputs": []
    },
    {
      "cell_type": "code",
      "metadata": {
        "id": "nZnYZPFmxpDO",
        "colab_type": "code",
        "colab": {}
      },
      "source": [
        "import spacy\n",
        "\n",
        "nlp= spacy_load(\"en_core_web_sm\")"
      ],
      "execution_count": null,
      "outputs": []
    },
    {
      "cell_type": "code",
      "metadata": {
        "id": "mhQjBgvax8o0",
        "colab_type": "code",
        "colab": {}
      },
      "source": [
        "tweet_df['text'].apply(lambda x: [print(\"\\tText  :  {}, Entity: {}\".format(ent.text,ent.label_)) if (not ent.text.startswith('#')) else \"\" for ent in nlp(x).ents])"
      ],
      "execution_count": null,
      "outputs": []
    },
    {
      "cell_type": "code",
      "metadata": {
        "id": "uqvbE8I2x89K",
        "colab_type": "code",
        "colab": {}
      },
      "source": [
        "tweet_df['entities'].apply(lambda x: [print(\"\\tText  :  {}, Entity: {}\".format(ent.text,ent.label_)) if (not ent.text.startswith('#')) else \"\" for ent in nlp(x).ents])"
      ],
      "execution_count": null,
      "outputs": []
    },
    {
      "cell_type": "code",
      "metadata": {
        "id": "joCfynDfx9op",
        "colab_type": "code",
        "colab": {}
      },
      "source": [
        "tweet_df.head()"
      ],
      "execution_count": null,
      "outputs": []
    },
    {
      "cell_type": "code",
      "metadata": {
        "id": "ny04CQtZx9VJ",
        "colab_type": "code",
        "colab": {
          "base_uri": "https://localhost:8080/",
          "height": 51
        },
        "outputId": "a77ec6d3-1524-427b-97ee-7ab0493cf7a1"
      },
      "source": [
        "import nltk\n",
        "from nltk.sentiment.vader import SentimentIntensityAnalyzer\n",
        "nltk.download('vader_lexicon')"
      ],
      "execution_count": 1,
      "outputs": [
        {
          "output_type": "stream",
          "text": [
            "[nltk_data] Downloading package vader_lexicon to /root/nltk_data...\n"
          ],
          "name": "stdout"
        },
        {
          "output_type": "execute_result",
          "data": {
            "text/plain": [
              "True"
            ]
          },
          "metadata": {
            "tags": []
          },
          "execution_count": 1
        }
      ]
    },
    {
      "cell_type": "code",
      "metadata": {
        "id": "35taF00R05J9",
        "colab_type": "code",
        "colab": {}
      },
      "source": [
        "sid= SentimentIntensityAnalyzer()"
      ],
      "execution_count": 2,
      "outputs": []
    },
    {
      "cell_type": "code",
      "metadata": {
        "id": "Hn1OPjXg08ll",
        "colab_type": "code",
        "colab": {}
      },
      "source": [
        "tweet_df['sentiment'] = tweet_df['text'].apply(lambad x: sid.polarity_scores(x))"
      ],
      "execution_count": null,
      "outputs": []
    },
    {
      "cell_type": "code",
      "metadata": {
        "id": "btdmggIV1NXE",
        "colab_type": "code",
        "colab": {}
      },
      "source": [
        "tweet_df.head()"
      ],
      "execution_count": null,
      "outputs": []
    },
    {
      "cell_type": "code",
      "metadata": {
        "id": "scgyLKlMx8vy",
        "colab_type": "code",
        "colab": {
          "base_uri": "https://localhost:8080/",
          "height": 275
        },
        "outputId": "f813412d-dfb2-47bf-b225-96747e9f18ea"
      },
      "source": [
        "!pip install googlemaps"
      ],
      "execution_count": 3,
      "outputs": [
        {
          "output_type": "stream",
          "text": [
            "Collecting googlemaps\n",
            "  Downloading https://files.pythonhosted.org/packages/00/fa/508909813a3f0ff969d341695ee0b90cb0e954b4b536f17f15cc19b5c304/googlemaps-4.4.2.tar.gz\n",
            "Requirement already satisfied: requests<3.0,>=2.20.0 in /usr/local/lib/python3.6/dist-packages (from googlemaps) (2.23.0)\n",
            "Requirement already satisfied: chardet<4,>=3.0.2 in /usr/local/lib/python3.6/dist-packages (from requests<3.0,>=2.20.0->googlemaps) (3.0.4)\n",
            "Requirement already satisfied: idna<3,>=2.5 in /usr/local/lib/python3.6/dist-packages (from requests<3.0,>=2.20.0->googlemaps) (2.10)\n",
            "Requirement already satisfied: urllib3!=1.25.0,!=1.25.1,<1.26,>=1.21.1 in /usr/local/lib/python3.6/dist-packages (from requests<3.0,>=2.20.0->googlemaps) (1.24.3)\n",
            "Requirement already satisfied: certifi>=2017.4.17 in /usr/local/lib/python3.6/dist-packages (from requests<3.0,>=2.20.0->googlemaps) (2020.6.20)\n",
            "Building wheels for collected packages: googlemaps\n",
            "  Building wheel for googlemaps (setup.py) ... \u001b[?25l\u001b[?25hdone\n",
            "  Created wheel for googlemaps: filename=googlemaps-4.4.2-cp36-none-any.whl size=37858 sha256=91c7f85f6afd252cb797c92705d2feb491811233924c0a9492e820a2dde4b429\n",
            "  Stored in directory: /root/.cache/pip/wheels/f4/21/41/0c84572e21d52bb322f6c299f38ac7cd8ad6d4d6ce23dc3631\n",
            "Successfully built googlemaps\n",
            "Installing collected packages: googlemaps\n",
            "Successfully installed googlemaps-4.4.2\n"
          ],
          "name": "stdout"
        }
      ]
    },
    {
      "cell_type": "code",
      "metadata": {
        "id": "Gw1bpdK_x8ji",
        "colab_type": "code",
        "colab": {}
      },
      "source": [
        "import googlemaps\n",
        "gmaps = googlemaps.Client(key=config.get('twitter','googleapikey'))\n",
        "\n",
        "google_result = gmaps.geocode(tweets_df['location'][-1])\n",
        "\n",
        "print(google_result)"
      ],
      "execution_count": null,
      "outputs": []
    },
    {
      "cell_type": "code",
      "metadata": {
        "id": "qLAikCzM2Kr4",
        "colab_type": "code",
        "colab": {}
      },
      "source": [
        "def get_country(input):\n",
        "  try:\n",
        "    output.maps.geocode(input)[0]['formatted_address'].split(\",\")[-1].strip()\n",
        "  except:\n",
        "    output=\"Error\"\n",
        "  return output"
      ],
      "execution_count": 4,
      "outputs": []
    },
    {
      "cell_type": "code",
      "metadata": {
        "id": "ElEfGTkJ4QT6",
        "colab_type": "code",
        "colab": {}
      },
      "source": [
        "tweet_df['country']=tweet_df['location'].apply(lamda x: \"\" if (not x.strip()) else get_country(x))"
      ],
      "execution_count": null,
      "outputs": []
    },
    {
      "cell_type": "code",
      "metadata": {
        "id": "HsH7wzRz4oT8",
        "colab_type": "code",
        "colab": {}
      },
      "source": [
        "tweet_df['country'].value_counts()"
      ],
      "execution_count": null,
      "outputs": []
    },
    {
      "cell_type": "code",
      "metadata": {
        "id": "g1411fdk4ob0",
        "colab_type": "code",
        "colab": {}
      },
      "source": [
        "tweet_df.head()"
      ],
      "execution_count": null,
      "outputs": []
    },
    {
      "cell_type": "code",
      "metadata": {
        "id": "gEwUo_qS4ox6",
        "colab_type": "code",
        "colab": {}
      },
      "source": [
        "tweet_df.dtypes"
      ],
      "execution_count": null,
      "outputs": []
    },
    {
      "cell_type": "code",
      "metadata": {
        "id": "EqNB8NeC4oYa",
        "colab_type": "code",
        "colab": {}
      },
      "source": [
        "tweet_df.to_csv(\"tweets.csv\")"
      ],
      "execution_count": null,
      "outputs": []
    },
    {
      "cell_type": "code",
      "metadata": {
        "id": "13us8Va94oJK",
        "colab_type": "code",
        "colab": {}
      },
      "source": [
        ""
      ],
      "execution_count": null,
      "outputs": []
    }
  ]
}