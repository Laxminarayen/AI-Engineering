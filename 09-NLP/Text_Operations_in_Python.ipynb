{
  "nbformat": 4,
  "nbformat_minor": 0,
  "metadata": {
    "colab": {
      "name": "Text Operations in Python.ipynb",
      "provenance": [],
      "collapsed_sections": [],
      "authorship_tag": "ABX9TyM6hc0t/T6UvEhfwBdk0hG1",
      "include_colab_link": true
    },
    "kernelspec": {
      "name": "python3",
      "display_name": "Python 3"
    },
    "language_info": {
      "name": "python"
    }
  },
  "cells": [
    {
      "cell_type": "markdown",
      "metadata": {
        "id": "view-in-github",
        "colab_type": "text"
      },
      "source": [
        "<a href=\"https://colab.research.google.com/github/plthiyagu/AI-Engineering/blob/master/09-NLP/Text_Operations_in_Python.ipynb\" target=\"_parent\"><img src=\"https://colab.research.google.com/assets/colab-badge.svg\" alt=\"Open In Colab\"/></a>"
      ]
    },
    {
      "cell_type": "code",
      "metadata": {
        "colab": {
          "base_uri": "https://localhost:8080/"
        },
        "id": "gCrF6I6jkpts",
        "outputId": "1adc13b1-de45-46bf-f0fc-1d8c34397d72"
      },
      "source": [
        "w=\"London is a big city.\"\n",
        "l1=list(w)\n",
        "print(l1)"
      ],
      "execution_count": 1,
      "outputs": [
        {
          "output_type": "stream",
          "text": [
            "['L', 'o', 'n', 'd', 'o', 'n', ' ', 'i', 's', ' ', 'a', ' ', 'b', 'i', 'g', ' ', 'c', 'i', 't', 'y', '.']\n"
          ],
          "name": "stdout"
        }
      ]
    },
    {
      "cell_type": "code",
      "metadata": {
        "colab": {
          "base_uri": "https://localhost:8080/"
        },
        "id": "g91A5AATktwj",
        "outputId": "b966030a-0903-4115-e5d8-781a0320eb61"
      },
      "source": [
        "t=\"London is a big city\"\n",
        "print(\"Text Length:\", len(t))\n",
        "print(\"List Length:\", len(list(t)))"
      ],
      "execution_count": 2,
      "outputs": [
        {
          "output_type": "stream",
          "text": [
            "Text Length: 20\n",
            "List Length: 20\n"
          ],
          "name": "stdout"
        }
      ]
    },
    {
      "cell_type": "code",
      "metadata": {
        "colab": {
          "base_uri": "https://localhost:8080/"
        },
        "id": "30v5wPCakxUc",
        "outputId": "3d29c849-b578-418f-8659-bc075d280366"
      },
      "source": [
        "s= \"London\"\n",
        "t=\"Lo\"\n",
        "print(s.startswith(t))"
      ],
      "execution_count": 3,
      "outputs": [
        {
          "output_type": "stream",
          "text": [
            "True\n"
          ],
          "name": "stdout"
        }
      ]
    },
    {
      "cell_type": "code",
      "metadata": {
        "colab": {
          "base_uri": "https://localhost:8080/"
        },
        "id": "MWP7oRikk0dc",
        "outputId": "83e47bf3-2acc-41d5-86ac-f1a36e095082"
      },
      "source": [
        "s= \"London\"\n",
        "print(s.startswith(\"Ne\"))"
      ],
      "execution_count": 4,
      "outputs": [
        {
          "output_type": "stream",
          "text": [
            "False\n"
          ],
          "name": "stdout"
        }
      ]
    },
    {
      "cell_type": "code",
      "metadata": {
        "colab": {
          "base_uri": "https://localhost:8080/"
        },
        "id": "ospVujmPk4hf",
        "outputId": "cd9d402e-09d4-4ef3-98fa-ec328bfcdbf5"
      },
      "source": [
        "s= \"London\"\n",
        "print(s.endswith(\"on\"))"
      ],
      "execution_count": 5,
      "outputs": [
        {
          "output_type": "stream",
          "text": [
            "True\n"
          ],
          "name": "stdout"
        }
      ]
    },
    {
      "cell_type": "code",
      "metadata": {
        "colab": {
          "base_uri": "https://localhost:8080/"
        },
        "id": "Q_BAlvSPk7Mu",
        "outputId": "bd4083a4-1b71-46fa-b541-b19731f6150c"
      },
      "source": [
        "w=\"BERLIN\"\n",
        "print(w.isupper())"
      ],
      "execution_count": 6,
      "outputs": [
        {
          "output_type": "stream",
          "text": [
            "True\n"
          ],
          "name": "stdout"
        }
      ]
    },
    {
      "cell_type": "code",
      "metadata": {
        "colab": {
          "base_uri": "https://localhost:8080/"
        },
        "id": "bhCtFq8nlFND",
        "outputId": "9d666c28-adca-4b0e-a17a-e0da9fe54cd5"
      },
      "source": [
        "w=\"BERLIN\"\n",
        "print(w.islower())"
      ],
      "execution_count": 7,
      "outputs": [
        {
          "output_type": "stream",
          "text": [
            "False\n"
          ],
          "name": "stdout"
        }
      ]
    },
    {
      "cell_type": "code",
      "metadata": {
        "colab": {
          "base_uri": "https://localhost:8080/"
        },
        "id": "gWhevhXLlIoP",
        "outputId": "2ef09dcd-60de-4989-c6ba-ae7620c80fda"
      },
      "source": [
        "s=\"Berlin is the capital of Germany\"\n",
        "print(\"Berlin\" in s)"
      ],
      "execution_count": 8,
      "outputs": [
        {
          "output_type": "stream",
          "text": [
            "True\n"
          ],
          "name": "stdout"
        }
      ]
    },
    {
      "cell_type": "code",
      "metadata": {
        "colab": {
          "base_uri": "https://localhost:8080/"
        },
        "id": "Ayxgbe4mlMIN",
        "outputId": "183462cb-e2a3-4eba-e33d-4a9ece75c50a"
      },
      "source": [
        "s=\"New York\"\n",
        "print(s.istitle())"
      ],
      "execution_count": 9,
      "outputs": [
        {
          "output_type": "stream",
          "text": [
            "True\n"
          ],
          "name": "stdout"
        }
      ]
    },
    {
      "cell_type": "code",
      "metadata": {
        "colab": {
          "base_uri": "https://localhost:8080/"
        },
        "id": "4y95rBfilPMj",
        "outputId": "41c7ee59-6840-46c8-d27f-d4db07d3c9ea"
      },
      "source": [
        "print(\"roMe\".istitle())"
      ],
      "execution_count": 10,
      "outputs": [
        {
          "output_type": "stream",
          "text": [
            "False\n"
          ],
          "name": "stdout"
        }
      ]
    },
    {
      "cell_type": "code",
      "metadata": {
        "colab": {
          "base_uri": "https://localhost:8080/"
        },
        "id": "57KPler7lRd_",
        "outputId": "d73a0b40-1321-4bb6-a772-8809be1fd58d"
      },
      "source": [
        "s=\"dsnlmls\"\n",
        "print(s.isalpha())"
      ],
      "execution_count": 11,
      "outputs": [
        {
          "output_type": "stream",
          "text": [
            "True\n"
          ],
          "name": "stdout"
        }
      ]
    },
    {
      "cell_type": "code",
      "metadata": {
        "colab": {
          "base_uri": "https://localhost:8080/"
        },
        "id": "I0YXA8HllUU1",
        "outputId": "e4769e19-c983-4da5-9df3-700675f2b73c"
      },
      "source": [
        "s=\"56700#\"\n",
        "print(s.isalpha())"
      ],
      "execution_count": 12,
      "outputs": [
        {
          "output_type": "stream",
          "text": [
            "False\n"
          ],
          "name": "stdout"
        }
      ]
    },
    {
      "cell_type": "code",
      "metadata": {
        "colab": {
          "base_uri": "https://localhost:8080/"
        },
        "id": "7hLtxcK-lWsY",
        "outputId": "5fe065f5-1855-4d66-eba9-61b9fffb1806"
      },
      "source": [
        "s=\"2021\"\n",
        "print(s.isdigit())"
      ],
      "execution_count": 13,
      "outputs": [
        {
          "output_type": "stream",
          "text": [
            "True\n"
          ],
          "name": "stdout"
        }
      ]
    },
    {
      "cell_type": "code",
      "metadata": {
        "colab": {
          "base_uri": "https://localhost:8080/"
        },
        "id": "GAdVWUJIlaXn",
        "outputId": "73a60edb-3a8b-4f91-f24c-b2abfbb4abef"
      },
      "source": [
        "s= \"jan2021\"\n",
        "print(s.isalnum())"
      ],
      "execution_count": 14,
      "outputs": [
        {
          "output_type": "stream",
          "text": [
            "True\n"
          ],
          "name": "stdout"
        }
      ]
    },
    {
      "cell_type": "code",
      "metadata": {
        "colab": {
          "base_uri": "https://localhost:8080/"
        },
        "id": "FIUSF-XsleM1",
        "outputId": "494445c6-d4c3-4752-b50e-1c6f90c34854"
      },
      "source": [
        "s=\"@1234\"\n",
        "print(s.isalnum())"
      ],
      "execution_count": 15,
      "outputs": [
        {
          "output_type": "stream",
          "text": [
            "False\n"
          ],
          "name": "stdout"
        }
      ]
    },
    {
      "cell_type": "code",
      "metadata": {
        "colab": {
          "base_uri": "https://localhost:8080/"
        },
        "id": "zy30a8kWlgoJ",
        "outputId": "7e5e1df6-f37f-4603-a0a6-c8b87bd854bf"
      },
      "source": [
        "s=\"KOLKATA\"\n",
        "print(s.lower())"
      ],
      "execution_count": 16,
      "outputs": [
        {
          "output_type": "stream",
          "text": [
            "kolkata\n"
          ],
          "name": "stdout"
        }
      ]
    },
    {
      "cell_type": "code",
      "metadata": {
        "colab": {
          "base_uri": "https://localhost:8080/"
        },
        "id": "Y54ckgEnljxw",
        "outputId": "e311f90e-7e88-4a02-8e7b-7a4246454a8a"
      },
      "source": [
        "s='Kolkata'\n",
        "print(s.upper())"
      ],
      "execution_count": 17,
      "outputs": [
        {
          "output_type": "stream",
          "text": [
            "KOLKATA\n"
          ],
          "name": "stdout"
        }
      ]
    },
    {
      "cell_type": "code",
      "metadata": {
        "colab": {
          "base_uri": "https://localhost:8080/"
        },
        "id": "406kHe4Llnd4",
        "outputId": "4647b6d9-5718-4a34-963d-aa51f570bed2"
      },
      "source": [
        "s=\"kolKata is a bIg city\"\n",
        "print(s.title())"
      ],
      "execution_count": 18,
      "outputs": [
        {
          "output_type": "stream",
          "text": [
            "Kolkata Is A Big City\n"
          ],
          "name": "stdout"
        }
      ]
    },
    {
      "cell_type": "code",
      "metadata": {
        "colab": {
          "base_uri": "https://localhost:8080/"
        },
        "id": "-n6nPw2Dlqf5",
        "outputId": "9d85ab78-94b2-48e8-ec83-0ef566334f28"
      },
      "source": [
        "s=\"Mumbai is the financial capital of India\"\n",
        "print(s.split(\" \"))"
      ],
      "execution_count": 19,
      "outputs": [
        {
          "output_type": "stream",
          "text": [
            "['Mumbai', 'is', 'the', 'financial', 'capital', 'of', 'India']\n"
          ],
          "name": "stdout"
        }
      ]
    },
    {
      "cell_type": "code",
      "metadata": {
        "colab": {
          "base_uri": "https://localhost:8080/"
        },
        "id": "2BYw46gIluE2",
        "outputId": "4166aece-78b8-4c80-8aa6-c548dd16b0ed"
      },
      "source": [
        "s=\"Mumbai is the financial capital of India\"\n",
        "s_split= s.split(\" \")\n",
        "res= \" \".join(s_split)\n",
        "print(res)"
      ],
      "execution_count": 20,
      "outputs": [
        {
          "output_type": "stream",
          "text": [
            "Mumbai is the financial capital of India\n"
          ],
          "name": "stdout"
        }
      ]
    },
    {
      "cell_type": "code",
      "metadata": {
        "colab": {
          "base_uri": "https://localhost:8080/"
        },
        "id": "UfEfMQlDlxuF",
        "outputId": "d0a0f266-e7e0-4dd2-896b-a87537d09ffe"
      },
      "source": [
        "s=[\"Ram\",\",\", \"Shyam\",\",\",\"Ravi\",\",\",\"Hari\"]\n",
        "res= \"\".join(s)\n",
        "print(res)"
      ],
      "execution_count": 21,
      "outputs": [
        {
          "output_type": "stream",
          "text": [
            "Ram,Shyam,Ravi,Hari\n"
          ],
          "name": "stdout"
        }
      ]
    },
    {
      "cell_type": "code",
      "metadata": {
        "colab": {
          "base_uri": "https://localhost:8080/",
          "height": 35
        },
        "id": "I57_Wiprl0lp",
        "outputId": "f392df30-c3c6-4a39-dd8c-da5fcd00b3dc"
      },
      "source": [
        "s= \"    London\"\n",
        "s.strip()"
      ],
      "execution_count": 22,
      "outputs": [
        {
          "output_type": "execute_result",
          "data": {
            "application/vnd.google.colaboratory.intrinsic+json": {
              "type": "string"
            },
            "text/plain": [
              "'London'"
            ]
          },
          "metadata": {
            "tags": []
          },
          "execution_count": 22
        }
      ]
    },
    {
      "cell_type": "code",
      "metadata": {
        "colab": {
          "base_uri": "https://localhost:8080/",
          "height": 35
        },
        "id": "AzHduxzZl3b_",
        "outputId": "73d0a84c-440c-46ab-ef4c-6961f0b8c97f"
      },
      "source": [
        "s= \"    London  \"\n",
        "s.strip()"
      ],
      "execution_count": 23,
      "outputs": [
        {
          "output_type": "execute_result",
          "data": {
            "application/vnd.google.colaboratory.intrinsic+json": {
              "type": "string"
            },
            "text/plain": [
              "'London'"
            ]
          },
          "metadata": {
            "tags": []
          },
          "execution_count": 23
        }
      ]
    },
    {
      "cell_type": "code",
      "metadata": {
        "colab": {
          "base_uri": "https://localhost:8080/",
          "height": 35
        },
        "id": "ejvDK9irl5xV",
        "outputId": "a1c35ce7-189b-4188-bdf3-62a241365323"
      },
      "source": [
        "s= \" London   \"\n",
        "s.rstrip()"
      ],
      "execution_count": 24,
      "outputs": [
        {
          "output_type": "execute_result",
          "data": {
            "application/vnd.google.colaboratory.intrinsic+json": {
              "type": "string"
            },
            "text/plain": [
              "' London'"
            ]
          },
          "metadata": {
            "tags": []
          },
          "execution_count": 24
        }
      ]
    },
    {
      "cell_type": "code",
      "metadata": {
        "colab": {
          "base_uri": "https://localhost:8080/"
        },
        "id": "wK-lctIRl8pb",
        "outputId": "aff08d9f-d1f6-4535-e185-320c508448c2"
      },
      "source": [
        "s=\"London is the capital of UK\"\n",
        "s.find(\"is\")"
      ],
      "execution_count": 25,
      "outputs": [
        {
          "output_type": "execute_result",
          "data": {
            "text/plain": [
              "7"
            ]
          },
          "metadata": {
            "tags": []
          },
          "execution_count": 25
        }
      ]
    },
    {
      "cell_type": "code",
      "metadata": {
        "colab": {
          "base_uri": "https://localhost:8080/"
        },
        "id": "C80yUEEgmAIF",
        "outputId": "3bfe3263-f4b2-439e-a657-981dc8ef8968"
      },
      "source": [
        "s=\"London is the capital of UK\"\n",
        "s=s.replace(\"London\", \"Rome\")\n",
        "s=s.replace(\"UK\", \"Italy\")\n",
        "print(s)"
      ],
      "execution_count": 26,
      "outputs": [
        {
          "output_type": "stream",
          "text": [
            "Rome is the capital of Italy\n"
          ],
          "name": "stdout"
        }
      ]
    },
    {
      "cell_type": "code",
      "metadata": {
        "colab": {
          "base_uri": "https://localhost:8080/"
        },
        "id": "fFi1Ik8EmDLU",
        "outputId": "a7c5c663-ef22-4c39-c63c-105d6d281cf2"
      },
      "source": [
        "t=\"Germany is the capital of Germany. n London is the capital of UK. n Paris is the capital of France.\"\n",
        "t.splitlines()"
      ],
      "execution_count": 27,
      "outputs": [
        {
          "output_type": "execute_result",
          "data": {
            "text/plain": [
              "['Germany is the capital of Germany. n London is the capital of UK. n Paris is the capital of France.']"
            ]
          },
          "metadata": {
            "tags": []
          },
          "execution_count": 27
        }
      ]
    },
    {
      "cell_type": "code",
      "metadata": {
        "id": "qO1__kKfmGeV"
      },
      "source": [
        ""
      ],
      "execution_count": null,
      "outputs": []
    }
  ]
}