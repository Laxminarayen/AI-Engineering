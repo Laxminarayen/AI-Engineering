{
  "nbformat": 4,
  "nbformat_minor": 0,
  "metadata": {
    "colab": {
      "name": "TF IDF and Count Vectorizer.ipynb",
      "provenance": [],
      "collapsed_sections": [],
      "authorship_tag": "ABX9TyNuAf+HkDx7VhGL8Wm1piAG",
      "include_colab_link": true
    },
    "kernelspec": {
      "name": "python3",
      "display_name": "Python 3"
    }
  },
  "cells": [
    {
      "cell_type": "markdown",
      "metadata": {
        "id": "view-in-github",
        "colab_type": "text"
      },
      "source": [
        "<a href=\"https://colab.research.google.com/github/plthiyagu/Personnel/blob/master/TF_IDF_and_Count_Vectorizer.ipynb\" target=\"_parent\"><img src=\"https://colab.research.google.com/assets/colab-badge.svg\" alt=\"Open In Colab\"/></a>"
      ]
    },
    {
      "cell_type": "code",
      "metadata": {
        "id": "pu57-VrlDdc8",
        "colab_type": "code",
        "colab": {}
      },
      "source": [
        "import numpy as np\n",
        "import pandas as pd\n",
        "import matplotlib.pyplot as plt\n",
        "from sklearn.feature_extraction.text import TfidfVectorizer,CountVectorizer"
      ],
      "execution_count": 12,
      "outputs": []
    },
    {
      "cell_type": "code",
      "metadata": {
        "id": "mv1dqMbREb1s",
        "colab_type": "code",
        "colab": {}
      },
      "source": [
        "sentence = ['I have a credit card account','My account card , debit card is lost','My credit card stopped working']"
      ],
      "execution_count": 13,
      "outputs": []
    },
    {
      "cell_type": "code",
      "metadata": {
        "id": "MnmjyA9BF-1-",
        "colab_type": "code",
        "colab": {}
      },
      "source": [
        "vectorizer = CountVectorizer()"
      ],
      "execution_count": 14,
      "outputs": []
    },
    {
      "cell_type": "code",
      "metadata": {
        "id": "T-3RH3GQWfSb",
        "colab_type": "code",
        "colab": {}
      },
      "source": [
        "countvec= vectorizer.fit_transform(sentence)"
      ],
      "execution_count": 15,
      "outputs": []
    },
    {
      "cell_type": "code",
      "metadata": {
        "id": "MwFYcBGWWmxv",
        "colab_type": "code",
        "colab": {
          "base_uri": "https://localhost:8080/",
          "height": 68
        },
        "outputId": "a83b93e9-ad39-4e64-cdb8-8d8a8694e0fc"
      },
      "source": [
        "countvec.A"
      ],
      "execution_count": 16,
      "outputs": [
        {
          "output_type": "execute_result",
          "data": {
            "text/plain": [
              "array([[1, 1, 1, 0, 1, 0, 0, 0, 0, 0],\n",
              "       [1, 2, 0, 1, 0, 1, 1, 1, 0, 0],\n",
              "       [0, 1, 1, 0, 0, 0, 0, 1, 1, 1]])"
            ]
          },
          "metadata": {
            "tags": []
          },
          "execution_count": 16
        }
      ]
    },
    {
      "cell_type": "code",
      "metadata": {
        "id": "D2_athhtWpCU",
        "colab_type": "code",
        "colab": {
          "base_uri": "https://localhost:8080/",
          "height": 187
        },
        "outputId": "6e4d05a1-7bdf-484d-e8d5-066b0d356b38"
      },
      "source": [
        "vectorizer.get_feature_names()"
      ],
      "execution_count": 17,
      "outputs": [
        {
          "output_type": "execute_result",
          "data": {
            "text/plain": [
              "['account',\n",
              " 'card',\n",
              " 'credit',\n",
              " 'debit',\n",
              " 'have',\n",
              " 'is',\n",
              " 'lost',\n",
              " 'my',\n",
              " 'stopped',\n",
              " 'working']"
            ]
          },
          "metadata": {
            "tags": []
          },
          "execution_count": 17
        }
      ]
    },
    {
      "cell_type": "code",
      "metadata": {
        "id": "Pgz3XABKWrvK",
        "colab_type": "code",
        "colab": {}
      },
      "source": [
        "vectorizer = CountVectorizer(max_features=4)\n",
        "countvec=vectorizer.fit_transform(sentence)"
      ],
      "execution_count": 22,
      "outputs": []
    },
    {
      "cell_type": "code",
      "metadata": {
        "id": "hyX6_WDMW24U",
        "colab_type": "code",
        "colab": {
          "base_uri": "https://localhost:8080/",
          "height": 85
        },
        "outputId": "90d80d9c-7d73-40f2-f618-df905c490b43"
      },
      "source": [
        "print(countvec.A)\n",
        "print(vectorizer.get_feature_names())"
      ],
      "execution_count": 23,
      "outputs": [
        {
          "output_type": "stream",
          "text": [
            "[[1 1 1 0]\n",
            " [1 2 0 1]\n",
            " [0 1 1 1]]\n",
            "['account', 'card', 'credit', 'my']\n"
          ],
          "name": "stdout"
        }
      ]
    },
    {
      "cell_type": "code",
      "metadata": {
        "id": "lwHjhC6tW42q",
        "colab_type": "code",
        "colab": {}
      },
      "source": [
        "vectorizer = CountVectorizer(max_features=4,stop_words='english')\n",
        "countvec=vectorizer.fit_transform(sentence)"
      ],
      "execution_count": 24,
      "outputs": []
    },
    {
      "cell_type": "code",
      "metadata": {
        "id": "qBoAg-UPs6ZX",
        "colab_type": "code",
        "colab": {
          "base_uri": "https://localhost:8080/",
          "height": 85
        },
        "outputId": "7893ba19-cbaf-490d-c4ae-150ffdc17c26"
      },
      "source": [
        "print(countvec.A)\n",
        "print(vectorizer.get_feature_names())"
      ],
      "execution_count": 25,
      "outputs": [
        {
          "output_type": "stream",
          "text": [
            "[[1 1 1 0]\n",
            " [1 2 0 1]\n",
            " [0 1 1 0]]\n",
            "['account', 'card', 'credit', 'debit']\n"
          ],
          "name": "stdout"
        }
      ]
    },
    {
      "cell_type": "code",
      "metadata": {
        "id": "4SUwxfFCtD-4",
        "colab_type": "code",
        "colab": {}
      },
      "source": [
        "vectorizer = CountVectorizer(max_features=6,ngram_range=(1,2))\n",
        "countvec=vectorizer.fit_transform(sentence)"
      ],
      "execution_count": 26,
      "outputs": []
    },
    {
      "cell_type": "code",
      "metadata": {
        "id": "osDy6pXFtS2w",
        "colab_type": "code",
        "colab": {
          "base_uri": "https://localhost:8080/",
          "height": 85
        },
        "outputId": "3bb663b9-3c29-43aa-fd54-29670bcb908e"
      },
      "source": [
        "print(countvec.A)\n",
        "print(vectorizer.get_feature_names())"
      ],
      "execution_count": 27,
      "outputs": [
        {
          "output_type": "stream",
          "text": [
            "[[1 1 1 1 0 0]\n",
            " [1 2 0 0 1 0]\n",
            " [0 1 1 1 1 1]]\n",
            "['account', 'card', 'credit', 'credit card', 'my', 'stopped']\n"
          ],
          "name": "stdout"
        }
      ]
    },
    {
      "cell_type": "markdown",
      "metadata": {
        "id": "CSGthb0St3pD",
        "colab_type": "text"
      },
      "source": [
        "TF= (#occurences of term t in document)/(#of words in documnet)"
      ]
    },
    {
      "cell_type": "code",
      "metadata": {
        "id": "QOSfXnujtVzK",
        "colab_type": "code",
        "colab": {}
      },
      "source": [
        "vectorizer = TfidfVectorizer(use_idf=False,norm='l1')\n",
        "tfvec= vectorizer.fit_transform(sentence)"
      ],
      "execution_count": 28,
      "outputs": []
    },
    {
      "cell_type": "code",
      "metadata": {
        "id": "uQhmprp-uQbc",
        "colab_type": "code",
        "colab": {
          "base_uri": "https://localhost:8080/",
          "height": 136
        },
        "outputId": "ea9bbd16-b538-4a5b-c399-8a2fd495465a"
      },
      "source": [
        "print(tfvec.A)\n",
        "print(vectorizer.get_feature_names())"
      ],
      "execution_count": 29,
      "outputs": [
        {
          "output_type": "stream",
          "text": [
            "[[0.25       0.25       0.25       0.         0.25       0.\n",
            "  0.         0.         0.         0.        ]\n",
            " [0.14285714 0.28571429 0.         0.14285714 0.         0.14285714\n",
            "  0.14285714 0.14285714 0.         0.        ]\n",
            " [0.         0.2        0.2        0.         0.         0.\n",
            "  0.         0.2        0.2        0.2       ]]\n",
            "['account', 'card', 'credit', 'debit', 'have', 'is', 'lost', 'my', 'stopped', 'working']\n"
          ],
          "name": "stdout"
        }
      ]
    },
    {
      "cell_type": "code",
      "metadata": {
        "id": "ABmsOp1buWpR",
        "colab_type": "code",
        "colab": {}
      },
      "source": [
        "vectorizer = TfidfVectorizer(use_idf=False,norm='l2')\n",
        "tfvec= vectorizer.fit_transform(sentence)"
      ],
      "execution_count": 30,
      "outputs": []
    },
    {
      "cell_type": "code",
      "metadata": {
        "id": "9XGsbhVFvd_X",
        "colab_type": "code",
        "colab": {
          "base_uri": "https://localhost:8080/",
          "height": 136
        },
        "outputId": "1a33230f-0040-4939-8960-bb0996fffe4c"
      },
      "source": [
        "print(tfvec.A)\n",
        "print(vectorizer.get_feature_names())"
      ],
      "execution_count": 31,
      "outputs": [
        {
          "output_type": "stream",
          "text": [
            "[[0.5        0.5        0.5        0.         0.5        0.\n",
            "  0.         0.         0.         0.        ]\n",
            " [0.33333333 0.66666667 0.         0.33333333 0.         0.33333333\n",
            "  0.33333333 0.33333333 0.         0.        ]\n",
            " [0.         0.4472136  0.4472136  0.         0.         0.\n",
            "  0.         0.4472136  0.4472136  0.4472136 ]]\n",
            "['account', 'card', 'credit', 'debit', 'have', 'is', 'lost', 'my', 'stopped', 'working']\n"
          ],
          "name": "stdout"
        }
      ]
    },
    {
      "cell_type": "code",
      "metadata": {
        "id": "Rw0QT0L2veo5",
        "colab_type": "code",
        "colab": {
          "base_uri": "https://localhost:8080/",
          "height": 34
        },
        "outputId": "a6a45e48-e7df-49e3-d3a1-f94731bb9591"
      },
      "source": [
        "print(1/np.sqrt(4))"
      ],
      "execution_count": 32,
      "outputs": [
        {
          "output_type": "stream",
          "text": [
            "0.5\n"
          ],
          "name": "stdout"
        }
      ]
    },
    {
      "cell_type": "code",
      "metadata": {
        "id": "ac61MvNBv3yi",
        "colab_type": "code",
        "colab": {}
      },
      "source": [
        "vectorizer = TfidfVectorizer(use_idf=False,norm=False)\n",
        "tfvec= vectorizer.fit_transform(sentence)"
      ],
      "execution_count": 33,
      "outputs": []
    },
    {
      "cell_type": "code",
      "metadata": {
        "id": "AVkrAzSMwBuS",
        "colab_type": "code",
        "colab": {
          "base_uri": "https://localhost:8080/",
          "height": 85
        },
        "outputId": "d2fdb5ff-974e-48a3-ae03-954ff3112677"
      },
      "source": [
        "print(tfvec.A)\n",
        "print(vectorizer.get_feature_names())"
      ],
      "execution_count": 34,
      "outputs": [
        {
          "output_type": "stream",
          "text": [
            "[[1. 1. 1. 0. 1. 0. 0. 0. 0. 0.]\n",
            " [1. 2. 0. 1. 0. 1. 1. 1. 0. 0.]\n",
            " [0. 1. 1. 0. 0. 0. 0. 1. 1. 1.]]\n",
            "['account', 'card', 'credit', 'debit', 'have', 'is', 'lost', 'my', 'stopped', 'working']\n"
          ],
          "name": "stdout"
        }
      ]
    },
    {
      "cell_type": "markdown",
      "metadata": {
        "id": "cdxnxo2Cwpzt",
        "colab_type": "text"
      },
      "source": [
        "IDF =log(# of documents/# documents with term t in it)"
      ]
    },
    {
      "cell_type": "code",
      "metadata": {
        "id": "Mp4yy_wvwDjg",
        "colab_type": "code",
        "colab": {}
      },
      "source": [
        "vectorizer_idf = TfidfVectorizer(smooth_idf=False)\n",
        "tfidfvec= vectorizer_idf.fit_transform(sentence)"
      ],
      "execution_count": 39,
      "outputs": []
    },
    {
      "cell_type": "code",
      "metadata": {
        "id": "1jdHTM9kw_Uj",
        "colab_type": "code",
        "colab": {
          "base_uri": "https://localhost:8080/",
          "height": 68
        },
        "outputId": "5e3c98e6-18ce-4906-e638-a9bf57bc83e1"
      },
      "source": [
        "print(vectorizer_idf.idf_)\n",
        "print(vectorizer_idf.get_feature_names())"
      ],
      "execution_count": 42,
      "outputs": [
        {
          "output_type": "stream",
          "text": [
            "[1.40546511 1.         1.40546511 2.09861229 2.09861229 2.09861229\n",
            " 2.09861229 1.40546511 2.09861229 2.09861229]\n",
            "['account', 'card', 'credit', 'debit', 'have', 'is', 'lost', 'my', 'stopped', 'working']\n"
          ],
          "name": "stdout"
        }
      ]
    },
    {
      "cell_type": "code",
      "metadata": {
        "id": "yRQ4qNGCxGuL",
        "colab_type": "code",
        "colab": {
          "base_uri": "https://localhost:8080/",
          "height": 34
        },
        "outputId": "fcf5409c-b098-42f8-c60b-8187e8098ad9"
      },
      "source": [
        "print(np.log(3/2)+1)"
      ],
      "execution_count": 41,
      "outputs": [
        {
          "output_type": "stream",
          "text": [
            "1.4054651081081644\n"
          ],
          "name": "stdout"
        }
      ]
    },
    {
      "cell_type": "code",
      "metadata": {
        "id": "LAL8lyd9xc2W",
        "colab_type": "code",
        "colab": {
          "base_uri": "https://localhost:8080/",
          "height": 119
        },
        "outputId": "51beb1fd-e9e3-4b8d-a86d-e69976228fd9"
      },
      "source": [
        "tfidfvec.A"
      ],
      "execution_count": 43,
      "outputs": [
        {
          "output_type": "execute_result",
          "data": {
            "text/plain": [
              "array([[0.45951737, 0.3269504 , 0.45951737, 0.        , 0.68614212,\n",
              "        0.        , 0.        , 0.        , 0.        , 0.        ],\n",
              "       [0.3055129 , 0.43474989, 0.        , 0.45618573, 0.        ,\n",
              "        0.45618573, 0.45618573, 0.3055129 , 0.        , 0.        ],\n",
              "       [0.        , 0.26959162, 0.37890161, 0.        , 0.        ,\n",
              "        0.        , 0.        , 0.37890161, 0.56576828, 0.56576828]])"
            ]
          },
          "metadata": {
            "tags": []
          },
          "execution_count": 43
        }
      ]
    },
    {
      "cell_type": "code",
      "metadata": {
        "id": "hM-8h3p5yHiF",
        "colab_type": "code",
        "colab": {}
      },
      "source": [
        ""
      ],
      "execution_count": null,
      "outputs": []
    }
  ]
}