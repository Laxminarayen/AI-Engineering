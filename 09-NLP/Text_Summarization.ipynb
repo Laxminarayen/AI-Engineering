{
  "nbformat": 4,
  "nbformat_minor": 0,
  "metadata": {
    "colab": {
      "name": "Text Summarization.ipynb",
      "provenance": [],
      "authorship_tag": "ABX9TyM+wkKSjcMN1Fh2p875y6is",
      "include_colab_link": true
    },
    "kernelspec": {
      "name": "python3",
      "display_name": "Python 3"
    }
  },
  "cells": [
    {
      "cell_type": "markdown",
      "metadata": {
        "id": "view-in-github",
        "colab_type": "text"
      },
      "source": [
        "<a href=\"https://colab.research.google.com/github/plthiyagu/Personnel/blob/master/Text_Summarization.ipynb\" target=\"_parent\"><img src=\"https://colab.research.google.com/assets/colab-badge.svg\" alt=\"Open In Colab\"/></a>"
      ]
    },
    {
      "cell_type": "markdown",
      "metadata": {
        "id": "0xU4uXCL63AW",
        "colab_type": "text"
      },
      "source": [
        "https://blog.floydhub.com/gentle-introduction-to-text-summarization-in-machine-learning/"
      ]
    },
    {
      "cell_type": "code",
      "metadata": {
        "id": "-BMb0s1Q4NHx",
        "colab_type": "code",
        "colab": {}
      },
      "source": [
        "import bs4 as BeautifulSoup\n",
        "import urllib.request"
      ],
      "execution_count": 44,
      "outputs": []
    },
    {
      "cell_type": "code",
      "metadata": {
        "id": "ZQEBMscA4ON0",
        "colab_type": "code",
        "colab": {}
      },
      "source": [
        "# Fetching the content from the URL\n",
        "fetched_data = urllib.request.urlopen('https://en.wikipedia.org/wiki/20th_century')\n"
      ],
      "execution_count": 45,
      "outputs": []
    },
    {
      "cell_type": "code",
      "metadata": {
        "id": "AVJv51UY4ogw",
        "colab_type": "code",
        "colab": {}
      },
      "source": [
        "article_read=  fetched_data.read()"
      ],
      "execution_count": 46,
      "outputs": []
    },
    {
      "cell_type": "code",
      "metadata": {
        "id": "-GFmCcOV4taJ",
        "colab_type": "code",
        "colab": {}
      },
      "source": [
        "# Parsing the URL content and storing in a variable\n",
        "article_parsed= BeautifulSoup.BeautifulSoup(article_read,'html.parser')\n",
        "#print(article_parsed)"
      ],
      "execution_count": 47,
      "outputs": []
    },
    {
      "cell_type": "code",
      "metadata": {
        "id": "-n34Pz4I4_3B",
        "colab_type": "code",
        "colab": {}
      },
      "source": [
        "# Returning <p> tags\n",
        "paragraphs= article_parsed.find_all('p')"
      ],
      "execution_count": 48,
      "outputs": []
    },
    {
      "cell_type": "code",
      "metadata": {
        "id": "b9YNV45U6V9S",
        "colab_type": "code",
        "colab": {}
      },
      "source": [
        "article_content= ''"
      ],
      "execution_count": 49,
      "outputs": []
    },
    {
      "cell_type": "code",
      "metadata": {
        "id": "3Xtk00MO6Yyt",
        "colab_type": "code",
        "colab": {}
      },
      "source": [
        "for p in paragraphs:\n",
        "  article_content += p.text\n",
        "#print(article_content)"
      ],
      "execution_count": 50,
      "outputs": []
    },
    {
      "cell_type": "code",
      "metadata": {
        "id": "qvx2CmOF6uF8",
        "colab_type": "code",
        "colab": {}
      },
      "source": [
        "from nltk.corpus import stopwords\n",
        "from nltk.stem.porter import PorterStemmer"
      ],
      "execution_count": 51,
      "outputs": []
    },
    {
      "cell_type": "code",
      "metadata": {
        "id": "G8oIraGs7D4P",
        "colab_type": "code",
        "colab": {}
      },
      "source": [
        "def create_dictionary_table(text_string)-> dict:\n",
        "\n",
        "  #Removing stop words\n",
        "  stop_words=set(stopwords.words('english'))\n",
        "  words = word_tokenize(text_string)\n",
        "  # Reducing words to their root form\n",
        "  stem= PorterStemmer()\n",
        "  # Creating dictionary for the word frequency table\n",
        "  frequency_table = dict()\n",
        "  for wd in words:\n",
        "    wd= stem.stem(wd)\n",
        "    if wd in stop_words:\n",
        "      continue\n",
        "    if wd in frequency_table:\n",
        "      frequency_table[wd] += 1\n",
        "    else:\n",
        "      frequency_table[wd] = 1\n",
        "  return frequency_table"
      ],
      "execution_count": 60,
      "outputs": []
    },
    {
      "cell_type": "code",
      "metadata": {
        "id": "LY9j6QI989_l",
        "colab_type": "code",
        "colab": {
          "base_uri": "https://localhost:8080/",
          "height": 102
        },
        "outputId": "f04abd49-56f9-4005-a700-f96013f4b577"
      },
      "source": [
        "import nltk\n",
        "nltk.download('punkt')\n",
        "nltk.download('stopwords')"
      ],
      "execution_count": 53,
      "outputs": [
        {
          "output_type": "stream",
          "text": [
            "[nltk_data] Downloading package punkt to /root/nltk_data...\n",
            "[nltk_data]   Package punkt is already up-to-date!\n",
            "[nltk_data] Downloading package stopwords to /root/nltk_data...\n",
            "[nltk_data]   Package stopwords is already up-to-date!\n"
          ],
          "name": "stdout"
        },
        {
          "output_type": "execute_result",
          "data": {
            "text/plain": [
              "True"
            ]
          },
          "metadata": {
            "tags": []
          },
          "execution_count": 53
        }
      ]
    },
    {
      "cell_type": "code",
      "metadata": {
        "id": "liCDEOMC8Wnh",
        "colab_type": "code",
        "colab": {}
      },
      "source": [
        "from nltk.tokenize import  word_tokenize, sent_tokenize\n",
        "sentences = sent_tokenize(article_content)"
      ],
      "execution_count": 54,
      "outputs": []
    },
    {
      "cell_type": "code",
      "metadata": {
        "id": "0KF1s4Qs8mgI",
        "colab_type": "code",
        "colab": {}
      },
      "source": [
        "def calculate_sentence_scores(sentences, frequency_table) -> dict:\n",
        "  # Algorithm for scoring a sentence by its words\n",
        "  sentence_weight = dict()\n",
        "\n",
        "  for sentence in sentences:\n",
        "    sentence_wordcount= (len(word_tokenize(sentence)))\n",
        "    sentence_wordcount_without_stop_words=0\n",
        "    for word_weight in frequency_table:\n",
        "      if word_weight in sentence.lower():\n",
        "        sentence_wordcount_without_stop_words += 1\n",
        "        if sentence[:7] in sentence_weight:\n",
        "          sentence_weight[sentence[:7]] +=  frequency_table[word_weight]\n",
        "        else:\n",
        "          sentence_weight[sentence[:7]] = frequency_table[word_weight]\n",
        "    sentence_weight[sentence[:7]] = sentence_weight[sentence[:7]]/sentence_wordcount_without_stop_words\n",
        "\n",
        "  return sentence_weight"
      ],
      "execution_count": 55,
      "outputs": []
    },
    {
      "cell_type": "code",
      "metadata": {
        "id": "bTI0LkAzvzL4",
        "colab_type": "code",
        "colab": {}
      },
      "source": [
        "def calculate_average_score(sentence_weight) -> int:\n",
        "  # Calculating the average score for the sentences\n",
        "  sum_values=0\n",
        "  for entry in sentence_weight:\n",
        "    sum_values += sentence_weight[entry]\n",
        "  average_score=(sum_values/len(sentence_weight))\n",
        "\n",
        "  return average_score"
      ],
      "execution_count": 56,
      "outputs": []
    },
    {
      "cell_type": "code",
      "metadata": {
        "id": "LDxY5YOZ0jBW",
        "colab_type": "code",
        "colab": {}
      },
      "source": [
        "def get_article_summary(sentences, sentence_weight, threshold):\n",
        "    sentence_counter = 0\n",
        "    article_summary = ''\n",
        "\n",
        "    for sentence in sentences:\n",
        "        if sentence[:7] in sentence_weight and sentence_weight[sentence[:7]] >= (threshold):\n",
        "            article_summary += \" \" + sentence\n",
        "            sentence_counter += 1\n",
        "\n",
        "    return article_summary"
      ],
      "execution_count": 57,
      "outputs": []
    },
    {
      "cell_type": "code",
      "metadata": {
        "id": "oL4D5YVT08LL",
        "colab_type": "code",
        "colab": {}
      },
      "source": [
        "def run_article_summary(article):\n",
        "  #creating a dictionary for the word frequency table\n",
        "  frequency_table = create_dictionary_table(article)\n",
        "\n",
        "  #tokenizing the sentences\n",
        "  sentences = sent_tokenize(article)\n",
        "\n",
        "  #algorithm for scoring a sentence by its words\n",
        "  sentence_scores = calculate_sentence_scores(sentences, frequency_table)\n",
        "\n",
        "  #getting the threshold\n",
        "  threshold = calculate_average_score(sentence_scores)\n",
        "\n",
        "  #producing the summary\n",
        "  article_summary = get_article_summary(sentences, sentence_scores, 1.5 * threshold)\n",
        "\n",
        "  return article_summary"
      ],
      "execution_count": 58,
      "outputs": []
    },
    {
      "cell_type": "code",
      "metadata": {
        "id": "QKzv-t-30n3y",
        "colab_type": "code",
        "colab": {
          "base_uri": "https://localhost:8080/",
          "height": 54
        },
        "outputId": "8c56a75c-699d-4ada-e16d-1be51aca2c3c"
      },
      "source": [
        "summary_results = run_article_summary(article_content)\n",
        "print(summary_results)"
      ],
      "execution_count": 61,
      "outputs": [
        {
          "output_type": "stream",
          "text": [
            " Humans explored space for the first time, taking their first footsteps on the Moon. However, these same wars resulted in the destruction of the imperial system. The victorious Bolsheviks then established the Soviet Union, the world's first communist state. At the beginning of the period, the British Empire was the world's most powerful nation,[15] having acted as the world's policeman for the past century. In total, World War II left some 60 million people dead. At the beginning of the century, strong discrimination based on race and sex was significant in general society. During the century, the social taboo of sexism fell. Communications and information technology, transportation technology, and medical advances had radically altered daily lives. Since the US was in a dominant position, a major part of the process was Americanization. Terrorism, dictatorship, and the spread of nuclear weapons were pressing global issues. Millions were infected with HIV, the virus which causes AIDS. This includes deaths caused by wars, genocide, politicide and mass murders. Prior to the 20th century, music was generally only experienced in live performances. Later in the 20th century, the development of computers led to the establishment of a theory of computation.\n"
          ],
          "name": "stdout"
        }
      ]
    },
    {
      "cell_type": "code",
      "metadata": {
        "id": "JVSG4XXk0xW9",
        "colab_type": "code",
        "colab": {}
      },
      "source": [
        ""
      ],
      "execution_count": null,
      "outputs": []
    }
  ]
}