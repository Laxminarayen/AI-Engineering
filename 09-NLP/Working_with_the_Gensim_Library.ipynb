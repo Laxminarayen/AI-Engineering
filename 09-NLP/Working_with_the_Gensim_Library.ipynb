{
  "nbformat": 4,
  "nbformat_minor": 0,
  "metadata": {
    "colab": {
      "name": "Working with the Gensim Library.ipynb",
      "provenance": [],
      "collapsed_sections": [],
      "authorship_tag": "ABX9TyPdnuKWyXsgltRzAr/xbNq4",
      "include_colab_link": true
    },
    "kernelspec": {
      "name": "python3",
      "display_name": "Python 3"
    }
  },
  "cells": [
    {
      "cell_type": "markdown",
      "metadata": {
        "id": "view-in-github",
        "colab_type": "text"
      },
      "source": [
        "<a href=\"https://colab.research.google.com/github/plthiyagu/Personnel/blob/master/Working_with_the_Gensim_Library.ipynb\" target=\"_parent\"><img src=\"https://colab.research.google.com/assets/colab-badge.svg\" alt=\"Open In Colab\"/></a>"
      ]
    },
    {
      "cell_type": "markdown",
      "metadata": {
        "id": "aFY2D6V3XP7m"
      },
      "source": [
        "https://stackabuse.com/python-for-nlp-working-with-the-gensim-library-part-1/"
      ]
    },
    {
      "cell_type": "code",
      "metadata": {
        "id": "4xIh3VLb78rY",
        "outputId": "981d1f84-303b-456a-a73b-a27371db39cb",
        "colab": {
          "base_uri": "https://localhost:8080/",
          "height": 207
        }
      },
      "source": [
        "! pip install gensim"
      ],
      "execution_count": 26,
      "outputs": [
        {
          "output_type": "stream",
          "text": [
            "Requirement already satisfied: gensim in /usr/local/lib/python3.6/dist-packages (3.6.0)\n",
            "Requirement already satisfied: six>=1.5.0 in /usr/local/lib/python3.6/dist-packages (from gensim) (1.15.0)\n",
            "Requirement already satisfied: smart-open>=1.2.1 in /usr/local/lib/python3.6/dist-packages (from gensim) (2.2.0)\n",
            "Requirement already satisfied: scipy>=0.18.1 in /usr/local/lib/python3.6/dist-packages (from gensim) (1.4.1)\n",
            "Requirement already satisfied: numpy>=1.11.3 in /usr/local/lib/python3.6/dist-packages (from gensim) (1.18.5)\n",
            "Requirement already satisfied: requests in /usr/local/lib/python3.6/dist-packages (from smart-open>=1.2.1->gensim) (2.23.0)\n",
            "Requirement already satisfied: certifi>=2017.4.17 in /usr/local/lib/python3.6/dist-packages (from requests->smart-open>=1.2.1->gensim) (2020.6.20)\n",
            "Requirement already satisfied: chardet<4,>=3.0.2 in /usr/local/lib/python3.6/dist-packages (from requests->smart-open>=1.2.1->gensim) (3.0.4)\n",
            "Requirement already satisfied: urllib3!=1.25.0,!=1.25.1,<1.26,>=1.21.1 in /usr/local/lib/python3.6/dist-packages (from requests->smart-open>=1.2.1->gensim) (1.24.3)\n",
            "Requirement already satisfied: idna<3,>=2.5 in /usr/local/lib/python3.6/dist-packages (from requests->smart-open>=1.2.1->gensim) (2.10)\n"
          ],
          "name": "stdout"
        }
      ]
    },
    {
      "cell_type": "markdown",
      "metadata": {
        "id": "NSZ9HvRW8GO3"
      },
      "source": [
        "Gensim was primarily developed for topic modeling. However, it now supports a variety of other NLP tasks such as converting words to vectors (word2vec), document to vectors (doc2vec), finding text similarity, and text summarization."
      ]
    },
    {
      "cell_type": "code",
      "metadata": {
        "id": "d-E355Sc7_lW",
        "outputId": "5ca24504-788b-4e3f-9635-730e2a037c69",
        "colab": {
          "base_uri": "https://localhost:8080/",
          "height": 816
        }
      },
      "source": [
        "import gensim\n",
        "from gensim import corpora\n",
        "from pprint import pprint\n",
        "\n",
        "text = [\"\"\"In computer science, artificial intelligence (AI),\n",
        "             sometimes called machine intelligence, is intelligence\n",
        "             demonstrated by machines, in contrast to the natural intelligence\n",
        "             displayed by humans and animals. Computer science defines\n",
        "             AI research as the study of intelligent agents: any device that\n",
        "             perceives its environment and takes actions that maximize its chance\n",
        "             of successfully achieving its goals.\"\"\"]\n",
        "\n",
        "tokens = [[token for token in sentence.split()] for sentence in text]\n",
        "gensim_dictionary = corpora.Dictionary(tokens)\n",
        "\n",
        "print(\"The dictionary has: \" +str(len(gensim_dictionary)) + \" tokens\")\n",
        "\n",
        "for k, v in gensim_dictionary.token2id.items():\n",
        "    print(f'{k:{15}} {v:{10}}')"
      ],
      "execution_count": 35,
      "outputs": [
        {
          "output_type": "stream",
          "text": [
            "The dictionary has: 46 tokens\n",
            "(AI),                    0\n",
            "AI                       1\n",
            "Computer                 2\n",
            "In                       3\n",
            "achieving                4\n",
            "actions                  5\n",
            "agents:                  6\n",
            "and                      7\n",
            "animals.                 8\n",
            "any                      9\n",
            "artificial              10\n",
            "as                      11\n",
            "by                      12\n",
            "called                  13\n",
            "chance                  14\n",
            "computer                15\n",
            "contrast                16\n",
            "defines                 17\n",
            "demonstrated            18\n",
            "device                  19\n",
            "displayed               20\n",
            "environment             21\n",
            "goals.                  22\n",
            "humans                  23\n",
            "in                      24\n",
            "intelligence            25\n",
            "intelligence,           26\n",
            "intelligent             27\n",
            "is                      28\n",
            "its                     29\n",
            "machine                 30\n",
            "machines,               31\n",
            "maximize                32\n",
            "natural                 33\n",
            "of                      34\n",
            "perceives               35\n",
            "research                36\n",
            "science                 37\n",
            "science,                38\n",
            "sometimes               39\n",
            "study                   40\n",
            "successfully            41\n",
            "takes                   42\n",
            "that                    43\n",
            "the                     44\n",
            "to                      45\n"
          ],
          "name": "stdout"
        }
      ]
    },
    {
      "cell_type": "code",
      "metadata": {
        "id": "riiq3D6C8-Vy",
        "outputId": "a8ea7084-9da8-48a4-a96f-6cc2e1c8bcb3",
        "colab": {
          "base_uri": "https://localhost:8080/",
          "height": 34
        }
      },
      "source": [
        "print(gensim_dictionary.token2id[\"study\"])"
      ],
      "execution_count": 36,
      "outputs": [
        {
          "output_type": "stream",
          "text": [
            "40\n"
          ],
          "name": "stdout"
        }
      ]
    },
    {
      "cell_type": "code",
      "metadata": {
        "id": "NL6xcFPR9Hpi",
        "outputId": "78a712bd-938f-42a9-e82f-6261e52db71d",
        "colab": {
          "base_uri": "https://localhost:8080/",
          "height": 34
        }
      },
      "source": [
        "print(list(gensim_dictionary.token2id.keys())[list(gensim_dictionary.token2id.values()).index(40)])"
      ],
      "execution_count": 37,
      "outputs": [
        {
          "output_type": "stream",
          "text": [
            "study\n"
          ],
          "name": "stdout"
        }
      ]
    },
    {
      "cell_type": "code",
      "metadata": {
        "id": "pfrl6Nvu9LC6",
        "outputId": "81b535a4-f710-43f1-a52d-ca0e819e2b4c",
        "colab": {
          "base_uri": "https://localhost:8080/",
          "height": 54
        }
      },
      "source": [
        "print(gensim_dictionary.token2id)"
      ],
      "execution_count": 38,
      "outputs": [
        {
          "output_type": "stream",
          "text": [
            "{'(AI),': 0, 'AI': 1, 'Computer': 2, 'In': 3, 'achieving': 4, 'actions': 5, 'agents:': 6, 'and': 7, 'animals.': 8, 'any': 9, 'artificial': 10, 'as': 11, 'by': 12, 'called': 13, 'chance': 14, 'computer': 15, 'contrast': 16, 'defines': 17, 'demonstrated': 18, 'device': 19, 'displayed': 20, 'environment': 21, 'goals.': 22, 'humans': 23, 'in': 24, 'intelligence': 25, 'intelligence,': 26, 'intelligent': 27, 'is': 28, 'its': 29, 'machine': 30, 'machines,': 31, 'maximize': 32, 'natural': 33, 'of': 34, 'perceives': 35, 'research': 36, 'science': 37, 'science,': 38, 'sometimes': 39, 'study': 40, 'successfully': 41, 'takes': 42, 'that': 43, 'the': 44, 'to': 45}\n"
          ],
          "name": "stdout"
        }
      ]
    },
    {
      "cell_type": "code",
      "metadata": {
        "id": "nqkpE-2a9OrB",
        "outputId": "8108b86b-774c-4b93-e0d7-23158ca0dc19",
        "colab": {
          "base_uri": "https://localhost:8080/",
          "height": 71
        }
      },
      "source": [
        "text = [\"\"\"Colloquially, the term \"artificial intelligence\" is used to\n",
        "           describe machines that mimic \"cognitive\" functions that humans\n",
        "           associate with other human minds, such as \"learning\" and \"problem solving\"\"\"]\n",
        "\n",
        "tokens = [[token for token in sentence.split()] for sentence in text]\n",
        "gensim_dictionary.add_documents(tokens)\n",
        "\n",
        "print(\"The dictionary has: \" + str(len(gensim_dictionary)) + \" tokens\")\n",
        "print(gensim_dictionary.token2id)"
      ],
      "execution_count": 39,
      "outputs": [
        {
          "output_type": "stream",
          "text": [
            "The dictionary has: 65 tokens\n",
            "{'(AI),': 0, 'AI': 1, 'Computer': 2, 'In': 3, 'achieving': 4, 'actions': 5, 'agents:': 6, 'and': 7, 'animals.': 8, 'any': 9, 'artificial': 10, 'as': 11, 'by': 12, 'called': 13, 'chance': 14, 'computer': 15, 'contrast': 16, 'defines': 17, 'demonstrated': 18, 'device': 19, 'displayed': 20, 'environment': 21, 'goals.': 22, 'humans': 23, 'in': 24, 'intelligence': 25, 'intelligence,': 26, 'intelligent': 27, 'is': 28, 'its': 29, 'machine': 30, 'machines,': 31, 'maximize': 32, 'natural': 33, 'of': 34, 'perceives': 35, 'research': 36, 'science': 37, 'science,': 38, 'sometimes': 39, 'study': 40, 'successfully': 41, 'takes': 42, 'that': 43, 'the': 44, 'to': 45, '\"artificial': 46, '\"cognitive\"': 47, '\"learning\"': 48, '\"problem': 49, 'Colloquially,': 50, 'associate': 51, 'describe': 52, 'functions': 53, 'human': 54, 'intelligence\"': 55, 'machines': 56, 'mimic': 57, 'minds,': 58, 'other': 59, 'solving': 60, 'such': 61, 'term': 62, 'used': 63, 'with': 64}\n"
          ],
          "name": "stdout"
        }
      ]
    },
    {
      "cell_type": "markdown",
      "metadata": {
        "id": "gkSno4gOZQy5"
      },
      "source": [
        "Creating Dictionaries using Text Files\n"
      ]
    },
    {
      "cell_type": "code",
      "metadata": {
        "id": "AGgC5c0c9T6Z",
        "outputId": "6828ff0d-f397-4322-b6ac-330ce7ed8a50",
        "colab": {
          "base_uri": "https://localhost:8080/",
          "height": 241
        }
      },
      "source": [
        "from gensim.utils import simple_preprocess\n",
        "from smart_open import smart_open\n",
        "import os\n",
        "!wget https://raw.githubusercontent.com/plthiyagu/Personnel/master/Dataset/file1.txt\n",
        "\n",
        "gensim_dictionary = corpora.Dictionary(simple_preprocess(sentence, deacc=True) for sentence in open(r'file1.txt', encoding='utf-8'))\n",
        "\n",
        "print(gensim_dictionary.token2id)\n"
      ],
      "execution_count": 40,
      "outputs": [
        {
          "output_type": "stream",
          "text": [
            "--2020-10-04 04:37:04--  https://raw.githubusercontent.com/plthiyagu/Personnel/master/Dataset/file1.txt\n",
            "Resolving raw.githubusercontent.com (raw.githubusercontent.com)... 151.101.0.133, 151.101.64.133, 151.101.128.133, ...\n",
            "Connecting to raw.githubusercontent.com (raw.githubusercontent.com)|151.101.0.133|:443... connected.\n",
            "HTTP request sent, awaiting response... 200 OK\n",
            "Length: 463 [text/plain]\n",
            "Saving to: ‘file1.txt.1’\n",
            "\n",
            "file1.txt.1         100%[===================>]     463  --.-KB/s    in 0s      \n",
            "\n",
            "2020-10-04 04:37:04 (18.6 MB/s) - ‘file1.txt.1’ saved [463/463]\n",
            "\n",
            "{'air': 0, 'also': 1, 'an': 2, 'and': 3, 'aspect': 4, 'average': 5, 'by': 6, 'caused': 7, 'change': 8, 'climate': 9, 'commonly': 10, 'continuing': 11, 'earlier': 12, 'earth': 13, 'economy': 14, 'effects': 15, 'emissions': 16, 'episodes': 17, 'experienced': 18, 'gasses': 19, 'geological': 20, 'global': 21, 'greenhouse': 22, 'in': 23, 'increase': 24, 'industrial': 25, 'is': 26, 'long': 27, 'mainly': 28, 'measurements': 29, 'modern': 30, 'multiple': 31, 'observed': 32, 'ocean': 33, 'of': 34, 'periods': 35, 'refers': 36, 'rise': 37, 'shown': 38, 'since': 39, 'system': 40, 'temperature': 41, 'temperatures': 42, 'term': 43, 'the': 44, 'though': 45, 'to': 46, 'warming': 47}\n"
          ],
          "name": "stdout"
        }
      ]
    },
    {
      "cell_type": "code",
      "metadata": {
        "id": "zlURXmFTTHy6",
        "outputId": "4109e16e-e072-45bd-bbca-77554f5ad6c3",
        "colab": {
          "base_uri": "https://localhost:8080/",
          "height": 34
        }
      },
      "source": [
        "!pwd"
      ],
      "execution_count": 8,
      "outputs": [
        {
          "output_type": "stream",
          "text": [
            "/content\n"
          ],
          "name": "stdout"
        }
      ]
    },
    {
      "cell_type": "markdown",
      "metadata": {
        "id": "Hqea1D_c7v7_"
      },
      "source": [
        "Creating Dictionaries using Text Files\n"
      ]
    },
    {
      "cell_type": "code",
      "metadata": {
        "id": "hWqlKxiPSqk0",
        "outputId": "69fdf177-4bd4-43ee-a83f-02aedf3466d8",
        "colab": {
          "base_uri": "https://localhost:8080/",
          "height": 54
        }
      },
      "source": [
        "from gensim.utils import simple_preprocess\n",
        "from smart_open import smart_open\n",
        "import os\n",
        "\n",
        "class ReturnTokens(object):\n",
        "    def __init__(self, dir_path):\n",
        "        self.dir_path = dir_path\n",
        "\n",
        "    def __iter__(self):\n",
        "        for file_name in os.listdir(self.dir_path):\n",
        "          if file_name.endswith('.txt'):\n",
        "            for sentence in open(os.path.join(self.dir_path, file_name), encoding='utf-8'):\n",
        "                yield simple_preprocess(sentence)\n",
        "\n",
        "path_to_text_directory = r\"/content/\"\n",
        "gensim_dictionary = corpora.Dictionary(ReturnTokens(path_to_text_directory))\n",
        "\n",
        "print(gensim_dictionary.token2id)\n"
      ],
      "execution_count": 44,
      "outputs": [
        {
          "output_type": "stream",
          "text": [
            "{'air': 0, 'also': 1, 'an': 2, 'and': 3, 'aspect': 4, 'average': 5, 'by': 6, 'caused': 7, 'change': 8, 'climate': 9, 'commonly': 10, 'continuing': 11, 'earlier': 12, 'earth': 13, 'economy': 14, 'effects': 15, 'emissions': 16, 'episodes': 17, 'experienced': 18, 'gasses': 19, 'geological': 20, 'global': 21, 'greenhouse': 22, 'in': 23, 'increase': 24, 'industrial': 25, 'is': 26, 'long': 27, 'mainly': 28, 'measurements': 29, 'modern': 30, 'multiple': 31, 'observed': 32, 'ocean': 33, 'of': 34, 'periods': 35, 'refers': 36, 'rise': 37, 'shown': 38, 'since': 39, 'system': 40, 'temperature': 41, 'temperatures': 42, 'term': 43, 'the': 44, 'though': 45, 'to': 46, 'warming': 47}\n"
          ],
          "name": "stdout"
        }
      ]
    },
    {
      "cell_type": "markdown",
      "metadata": {
        "id": "9_cEDrHvZZzi"
      },
      "source": [
        "Creating Bag of Words Corpus\n"
      ]
    },
    {
      "cell_type": "code",
      "metadata": {
        "id": "h1hZ2cu-TM4E",
        "outputId": "24c31100-fb3a-4ad7-c2b8-90ea867a7305",
        "colab": {
          "base_uri": "https://localhost:8080/",
          "height": 54
        }
      },
      "source": [
        "import gensim\n",
        "from gensim import corpora\n",
        "from pprint import pprint\n",
        "\n",
        "text = [\"\"\"In computer science, artificial intelligence (AI),\n",
        "           sometimes called machine intelligence, is intelligence\n",
        "           demonstrated by machines, in contrast to the natural intelligence\n",
        "           displayed by humans and animals. Computer science defines\n",
        "           AI research as the study of intelligent agents: any device that\n",
        "           perceives its environment and takes actions that maximize its chance\n",
        "           of successfully achieving its goals.\"\"\"]\n",
        "\n",
        "tokens = [[token for token in sentence.split()] for sentence in text]\n",
        "\n",
        "gensim_dictionary = corpora.Dictionary()\n",
        "gensim_corpus = [gensim_dictionary.doc2bow(token, allow_update=True) for token in tokens]\n",
        "\n",
        "print(gensim_corpus)"
      ],
      "execution_count": 10,
      "outputs": [
        {
          "output_type": "stream",
          "text": [
            "[[(0, 1), (1, 1), (2, 1), (3, 1), (4, 1), (5, 1), (6, 1), (7, 2), (8, 1), (9, 1), (10, 1), (11, 1), (12, 2), (13, 1), (14, 1), (15, 1), (16, 1), (17, 1), (18, 1), (19, 1), (20, 1), (21, 1), (22, 1), (23, 1), (24, 1), (25, 3), (26, 1), (27, 1), (28, 1), (29, 3), (30, 1), (31, 1), (32, 1), (33, 1), (34, 2), (35, 1), (36, 1), (37, 1), (38, 1), (39, 1), (40, 1), (41, 1), (42, 1), (43, 2), (44, 2), (45, 1)]]\n"
          ],
          "name": "stdout"
        }
      ]
    },
    {
      "cell_type": "code",
      "metadata": {
        "id": "OzC2oAZWZfbm"
      },
      "source": [
        "word_frequencies = [[(gensim_dictionary[id], frequence) for id, frequence in couple] for couple in gensim_corpus]\n",
        "print(word_frequencies)"
      ],
      "execution_count": null,
      "outputs": []
    },
    {
      "cell_type": "markdown",
      "metadata": {
        "id": "CC__5ttuZtbK"
      },
      "source": [
        "Creating Bag of Words Corpus from Text Files\n"
      ]
    },
    {
      "cell_type": "code",
      "metadata": {
        "id": "TufSS25cZqMs",
        "outputId": "e406ac50-4603-49de-96b3-709479185b88",
        "colab": {
          "base_uri": "https://localhost:8080/",
          "height": 54
        }
      },
      "source": [
        "from gensim.utils import simple_preprocess\n",
        "from smart_open import smart_open\n",
        "import os\n",
        "#!wget https://raw.githubusercontent.com/plthiyagu/Personnel/master/Dataset/file1.txt\n",
        "\n",
        "tokens = [simple_preprocess(sentence, deacc=True) for sentence in open(r'file1.txt', encoding='utf-8')]\n",
        "\n",
        "gensim_dictionary = corpora.Dictionary()\n",
        "gensim_corpus = [gensim_dictionary.doc2bow(token, allow_update=True) for token in tokens]\n",
        "word_frequencies = [[(gensim_dictionary[id], frequence) for id, frequence in couple] for couple in gensim_corpus]\n",
        "\n",
        "print(word_frequencies)\n"
      ],
      "execution_count": 49,
      "outputs": [
        {
          "output_type": "stream",
          "text": [
            "[[('air', 1), ('also', 1), ('an', 1), ('and', 3), ('aspect', 1), ('average', 2), ('by', 3), ('caused', 1), ('change', 1), ('climate', 2), ('commonly', 1), ('continuing', 1), ('earlier', 1), ('earth', 1), ('economy', 1), ('effects', 1), ('emissions', 1), ('episodes', 1), ('experienced', 1), ('gasses', 1), ('geological', 1), ('global', 1), ('greenhouse', 1), ('in', 3), ('increase', 1), ('industrial', 1), ('is', 1), ('long', 1), ('mainly', 1), ('measurements', 1), ('modern', 1), ('multiple', 1), ('observed', 1), ('ocean', 1), ('of', 5), ('periods', 1), ('refers', 1), ('rise', 1), ('shown', 1), ('since', 1), ('system', 1), ('temperature', 2), ('temperatures', 1), ('term', 2), ('the', 6), ('though', 1), ('to', 1), ('warming', 3)]]\n"
          ],
          "name": "stdout"
        }
      ]
    },
    {
      "cell_type": "code",
      "metadata": {
        "id": "VEPeCHyuZ3a8",
        "outputId": "8b77a9b4-50df-4014-ce55-c3acc8105d20",
        "colab": {
          "base_uri": "https://localhost:8080/",
          "height": 54
        }
      },
      "source": [
        "from gensim.utils import simple_preprocess\n",
        "from smart_open import smart_open\n",
        "import os\n",
        "\n",
        "class ReturnTokens(object):\n",
        "    def __init__(self, dir_path):\n",
        "        self.dir_path = dir_path\n",
        "\n",
        "    def __iter__(self):\n",
        "        for file_name in os.listdir(self.dir_path):\n",
        "          if file_name.endswith('.txt'):\n",
        "            for sentence in open(os.path.join(self.dir_path, file_name), encoding='utf-8'):\n",
        "                yield simple_preprocess(sentence)\n",
        "\n",
        "path_to_text_directory = r\"/content/\"\n",
        "\n",
        "gensim_dictionary = corpora.Dictionary()\n",
        "gensim_corpus = [gensim_dictionary.doc2bow(token, allow_update=True) for token in ReturnTokens(path_to_text_directory)]\n",
        "word_frequencies = [[(gensim_dictionary[id], frequence) for id, frequence in couple] for couple in gensim_corpus]\n",
        "\n",
        "print(word_frequencies)\n"
      ],
      "execution_count": 50,
      "outputs": [
        {
          "output_type": "stream",
          "text": [
            "[[('air', 1), ('also', 1), ('an', 1), ('and', 3), ('aspect', 1), ('average', 2), ('by', 3), ('caused', 1), ('change', 1), ('climate', 2), ('commonly', 1), ('continuing', 1), ('earlier', 1), ('earth', 1), ('economy', 1), ('effects', 1), ('emissions', 1), ('episodes', 1), ('experienced', 1), ('gasses', 1), ('geological', 1), ('global', 1), ('greenhouse', 1), ('in', 3), ('increase', 1), ('industrial', 1), ('is', 1), ('long', 1), ('mainly', 1), ('measurements', 1), ('modern', 1), ('multiple', 1), ('observed', 1), ('ocean', 1), ('of', 5), ('periods', 1), ('refers', 1), ('rise', 1), ('shown', 1), ('since', 1), ('system', 1), ('temperature', 2), ('temperatures', 1), ('term', 2), ('the', 6), ('though', 1), ('to', 1), ('warming', 3)]]\n"
          ],
          "name": "stdout"
        }
      ]
    },
    {
      "cell_type": "markdown",
      "metadata": {
        "id": "uj4H0jM1Z_1L"
      },
      "source": [
        "Creating TF-IDF Corpus\n"
      ]
    },
    {
      "cell_type": "markdown",
      "metadata": {
        "id": "6iVxzyH-aIho"
      },
      "source": [
        "Term frequency = (Frequency of the word in a document)/(Total words in the document)\n"
      ]
    },
    {
      "cell_type": "markdown",
      "metadata": {
        "id": "v3fwVvXuaJ_u"
      },
      "source": [
        "IDF(word) = Log((Total number of documents)/(Number of documents containing the word))\n"
      ]
    },
    {
      "cell_type": "code",
      "metadata": {
        "id": "sBdLQgWqZ8sO"
      },
      "source": [
        "import gensim\n",
        "from gensim import corpora\n",
        "from pprint import pprint\n",
        "\n",
        "text = [\"I like to play Football\",\n",
        "       \"Football is the best game\",\n",
        "       \"Which game do you like to play ?\"]\n",
        "\n",
        "tokens = [[token for token in sentence.split()] for sentence in text]\n",
        "\n",
        "gensim_dictionary = corpora.Dictionary()\n",
        "gensim_corpus = [gensim_dictionary.doc2bow(token, allow_update=True) for token in tokens]\n",
        "\n",
        "from gensim import models\n",
        "import numpy as np\n",
        "\n",
        "tfidf = models.TfidfModel(gensim_corpus, smartirs='ntc')\n",
        "\n",
        "for sent in tfidf[gensim_corpus]:\n",
        "    print([[gensim_dictionary[id], np.around(frequency, decimals=2)] for id, frequency in sent])"
      ],
      "execution_count": null,
      "outputs": []
    },
    {
      "cell_type": "markdown",
      "metadata": {
        "id": "7CWRsq43d2Jt"
      },
      "source": [
        "Downloading Built-In Gensim Models and Datasets\n"
      ]
    },
    {
      "cell_type": "code",
      "metadata": {
        "id": "7i_L-nhXaRcx",
        "outputId": "ba8ed746-67ef-4229-f898-4e7ec6c1c899",
        "colab": {
          "base_uri": "https://localhost:8080/",
          "height": 88
        }
      },
      "source": [
        "import gensim.downloader as api\n",
        "\n",
        "w2v_embedding = api.load(\"glove-wiki-gigaword-100\")"
      ],
      "execution_count": 51,
      "outputs": [
        {
          "output_type": "stream",
          "text": [
            "[================================================--] 96.9% 124.2/128.1MB downloaded\n"
          ],
          "name": "stdout"
        },
        {
          "output_type": "stream",
          "text": [
            "/usr/local/lib/python3.6/dist-packages/smart_open/smart_open_lib.py:252: UserWarning: This function is deprecated, use smart_open.open instead. See the migration notes for details: https://github.com/RaRe-Technologies/smart_open/blob/master/README.rst#migrating-to-the-new-open-function\n",
            "  'See the migration notes for details: %s' % _MIGRATION_NOTES_URL\n"
          ],
          "name": "stderr"
        }
      ]
    },
    {
      "cell_type": "code",
      "metadata": {
        "id": "4BNIatXtd6bp",
        "outputId": "a914bc38-f17e-4beb-dd15-93f382b022e1",
        "colab": {
          "base_uri": "https://localhost:8080/",
          "height": 241
        }
      },
      "source": [
        "w2v_embedding.most_similar('toyota')"
      ],
      "execution_count": 52,
      "outputs": [
        {
          "output_type": "stream",
          "text": [
            "/usr/local/lib/python3.6/dist-packages/gensim/matutils.py:737: FutureWarning: Conversion of the second argument of issubdtype from `int` to `np.signedinteger` is deprecated. In future, it will be treated as `np.int64 == np.dtype(int).type`.\n",
            "  if np.issubdtype(vec.dtype, np.int):\n"
          ],
          "name": "stderr"
        },
        {
          "output_type": "execute_result",
          "data": {
            "text/plain": [
              "[('honda', 0.8739858865737915),\n",
              " ('nissan', 0.8108116984367371),\n",
              " ('automaker', 0.7918164134025574),\n",
              " ('mazda', 0.7687169313430786),\n",
              " ('bmw', 0.7616021633148193),\n",
              " ('ford', 0.7547588348388672),\n",
              " ('motors', 0.7539199590682983),\n",
              " ('volkswagen', 0.7176680564880371),\n",
              " ('prius', 0.7156583070755005),\n",
              " ('chrysler', 0.7085399031639099)]"
            ]
          },
          "metadata": {
            "tags": []
          },
          "execution_count": 52
        }
      ]
    },
    {
      "cell_type": "code",
      "metadata": {
        "id": "AaxW4JPOVoCn",
        "outputId": "84c10e7a-00b9-4dd3-f737-a522ccb945d9",
        "colab": {
          "base_uri": "https://localhost:8080/",
          "height": 156
        }
      },
      "source": [
        "!pip install wikipedia"
      ],
      "execution_count": 54,
      "outputs": [
        {
          "output_type": "stream",
          "text": [
            "Requirement already satisfied: wikipedia in /usr/local/lib/python3.6/dist-packages (1.4.0)\n",
            "Requirement already satisfied: requests<3.0.0,>=2.0.0 in /usr/local/lib/python3.6/dist-packages (from wikipedia) (2.23.0)\n",
            "Requirement already satisfied: beautifulsoup4 in /usr/local/lib/python3.6/dist-packages (from wikipedia) (4.6.3)\n",
            "Requirement already satisfied: urllib3!=1.25.0,!=1.25.1,<1.26,>=1.21.1 in /usr/local/lib/python3.6/dist-packages (from requests<3.0.0,>=2.0.0->wikipedia) (1.24.3)\n",
            "Requirement already satisfied: chardet<4,>=3.0.2 in /usr/local/lib/python3.6/dist-packages (from requests<3.0.0,>=2.0.0->wikipedia) (3.0.4)\n",
            "Requirement already satisfied: certifi>=2017.4.17 in /usr/local/lib/python3.6/dist-packages (from requests<3.0.0,>=2.0.0->wikipedia) (2020.6.20)\n",
            "Requirement already satisfied: idna<3,>=2.5 in /usr/local/lib/python3.6/dist-packages (from requests<3.0.0,>=2.0.0->wikipedia) (2.10)\n"
          ],
          "name": "stdout"
        }
      ]
    },
    {
      "cell_type": "code",
      "metadata": {
        "id": "I1vD77TuW9PQ",
        "outputId": "67a71e81-1032-4c6f-d56a-154647f61d7a",
        "colab": {
          "base_uri": "https://localhost:8080/",
          "height": 374
        }
      },
      "source": [
        "!pip install pyLDAvis"
      ],
      "execution_count": 53,
      "outputs": [
        {
          "output_type": "stream",
          "text": [
            "Requirement already satisfied: pyLDAvis in /usr/local/lib/python3.6/dist-packages (2.1.2)\n",
            "Requirement already satisfied: joblib>=0.8.4 in /usr/local/lib/python3.6/dist-packages (from pyLDAvis) (0.16.0)\n",
            "Requirement already satisfied: pytest in /usr/local/lib/python3.6/dist-packages (from pyLDAvis) (3.6.4)\n",
            "Requirement already satisfied: future in /usr/local/lib/python3.6/dist-packages (from pyLDAvis) (0.16.0)\n",
            "Requirement already satisfied: wheel>=0.23.0 in /usr/local/lib/python3.6/dist-packages (from pyLDAvis) (0.35.1)\n",
            "Requirement already satisfied: jinja2>=2.7.2 in /usr/local/lib/python3.6/dist-packages (from pyLDAvis) (2.11.2)\n",
            "Requirement already satisfied: scipy>=0.18.0 in /usr/local/lib/python3.6/dist-packages (from pyLDAvis) (1.4.1)\n",
            "Requirement already satisfied: numexpr in /usr/local/lib/python3.6/dist-packages (from pyLDAvis) (2.7.1)\n",
            "Requirement already satisfied: funcy in /usr/local/lib/python3.6/dist-packages (from pyLDAvis) (1.15)\n",
            "Requirement already satisfied: pandas>=0.17.0 in /usr/local/lib/python3.6/dist-packages (from pyLDAvis) (1.1.2)\n",
            "Requirement already satisfied: numpy>=1.9.2 in /usr/local/lib/python3.6/dist-packages (from pyLDAvis) (1.18.5)\n",
            "Requirement already satisfied: atomicwrites>=1.0 in /usr/local/lib/python3.6/dist-packages (from pytest->pyLDAvis) (1.4.0)\n",
            "Requirement already satisfied: attrs>=17.4.0 in /usr/local/lib/python3.6/dist-packages (from pytest->pyLDAvis) (20.2.0)\n",
            "Requirement already satisfied: py>=1.5.0 in /usr/local/lib/python3.6/dist-packages (from pytest->pyLDAvis) (1.9.0)\n",
            "Requirement already satisfied: more-itertools>=4.0.0 in /usr/local/lib/python3.6/dist-packages (from pytest->pyLDAvis) (8.5.0)\n",
            "Requirement already satisfied: pluggy<0.8,>=0.5 in /usr/local/lib/python3.6/dist-packages (from pytest->pyLDAvis) (0.7.1)\n",
            "Requirement already satisfied: setuptools in /usr/local/lib/python3.6/dist-packages (from pytest->pyLDAvis) (50.3.0)\n",
            "Requirement already satisfied: six>=1.10.0 in /usr/local/lib/python3.6/dist-packages (from pytest->pyLDAvis) (1.15.0)\n",
            "Requirement already satisfied: MarkupSafe>=0.23 in /usr/local/lib/python3.6/dist-packages (from jinja2>=2.7.2->pyLDAvis) (1.1.1)\n",
            "Requirement already satisfied: pytz>=2017.2 in /usr/local/lib/python3.6/dist-packages (from pandas>=0.17.0->pyLDAvis) (2018.9)\n",
            "Requirement already satisfied: python-dateutil>=2.7.3 in /usr/local/lib/python3.6/dist-packages (from pandas>=0.17.0->pyLDAvis) (2.8.1)\n"
          ],
          "name": "stdout"
        }
      ]
    },
    {
      "cell_type": "code",
      "metadata": {
        "id": "Y20F1lsXXBpP",
        "outputId": "aae7c9ec-5644-4d30-b326-4d810047ab75",
        "colab": {
          "base_uri": "https://localhost:8080/",
          "height": 51
        }
      },
      "source": [
        "import wikipedia\n",
        "import nltk\n",
        "\n",
        "nltk.download('stopwords')\n",
        "en_stop = set(nltk.corpus.stopwords.words('english'))\n",
        "\n",
        "global_warming = wikipedia.page(\"Climate_change\")\n",
        "artificial_intelligence = wikipedia.page(\"Artificial Intelligence\")\n",
        "mona_lisa = wikipedia.page(\"Mona Lisa\")\n",
        "eiffel_tower = wikipedia.page(\"Eiffel Tower\")\n",
        "\n",
        "corpus = [global_warming.content, artificial_intelligence.content, mona_lisa.content, eiffel_tower.content]"
      ],
      "execution_count": 55,
      "outputs": [
        {
          "output_type": "stream",
          "text": [
            "[nltk_data] Downloading package stopwords to /root/nltk_data...\n",
            "[nltk_data]   Package stopwords is already up-to-date!\n"
          ],
          "name": "stdout"
        }
      ]
    },
    {
      "cell_type": "markdown",
      "metadata": {
        "id": "TzRyxpB982RW"
      },
      "source": [
        "Data Preprocessing\n"
      ]
    },
    {
      "cell_type": "code",
      "metadata": {
        "id": "-mIErjEJXHgH"
      },
      "source": [
        "import re\n",
        "from nltk.stem import WordNetLemmatizer\n",
        "\n",
        "stemmer = WordNetLemmatizer()\n",
        "\n",
        "def preprocess_text(document):\n",
        "        # Remove all the special characters\n",
        "        document = re.sub(r'\\W', ' ', str(document))\n",
        "\n",
        "        # remove all single characters\n",
        "        document = re.sub(r'\\s+[a-zA-Z]\\s+', ' ', document)\n",
        "\n",
        "        # Remove single characters from the start\n",
        "        document = re.sub(r'\\^[a-zA-Z]\\s+', ' ', document)\n",
        "\n",
        "        # Substituting multiple spaces with single space\n",
        "        document = re.sub(r'\\s+', ' ', document, flags=re.I)\n",
        "\n",
        "        # Removing prefixed 'b'\n",
        "        document = re.sub(r'^b\\s+', '', document)\n",
        "\n",
        "        # Converting to Lowercase\n",
        "        document = document.lower()\n",
        "\n",
        "        # Lemmatization\n",
        "        tokens = document.split()\n",
        "        tokens = [stemmer.lemmatize(word) for word in tokens]\n",
        "        tokens = [word for word in tokens if word not in en_stop]\n",
        "        tokens = [word for word in tokens if len(word)  > 5]\n",
        "\n",
        "        return tokens"
      ],
      "execution_count": 57,
      "outputs": []
    },
    {
      "cell_type": "code",
      "metadata": {
        "id": "7URsBNTyXqr5",
        "outputId": "e81277da-f7c0-40fd-d235-652609f7b4fb",
        "colab": {
          "base_uri": "https://localhost:8080/",
          "height": 51
        }
      },
      "source": [
        "  import nltk\n",
        "  nltk.download('wordnet')\n",
        "\n",
        "processed_data = [];\n",
        "for doc in corpus:\n",
        "    tokens = preprocess_text(doc)\n",
        "    processed_data.append(tokens)"
      ],
      "execution_count": 59,
      "outputs": [
        {
          "output_type": "stream",
          "text": [
            "[nltk_data] Downloading package wordnet to /root/nltk_data...\n",
            "[nltk_data]   Package wordnet is already up-to-date!\n"
          ],
          "name": "stdout"
        }
      ]
    },
    {
      "cell_type": "code",
      "metadata": {
        "id": "COkkyuIlXwY_"
      },
      "source": [
        "from gensim import corpora\n",
        "\n",
        "gensim_dictionary = corpora.Dictionary(processed_data)\n",
        "gensim_corpus = [gensim_dictionary.doc2bow(token, allow_update=True) for token in processed_data]"
      ],
      "execution_count": 60,
      "outputs": []
    },
    {
      "cell_type": "code",
      "metadata": {
        "id": "fulbQYfdX9eJ",
        "outputId": "78c58fc2-1b1e-4d88-a3f5-991cfece17e6",
        "colab": {
          "base_uri": "https://localhost:8080/",
          "height": 71
        }
      },
      "source": [
        "import pickle\n",
        "\n",
        "pickle.dump(gensim_corpus, open('gensim_corpus_corpus.pkl', 'wb'))\n",
        "gensim_dictionary.save('gensim_dictionary.gensim')"
      ],
      "execution_count": 61,
      "outputs": [
        {
          "output_type": "stream",
          "text": [
            "/usr/local/lib/python3.6/dist-packages/smart_open/smart_open_lib.py:252: UserWarning: This function is deprecated, use smart_open.open instead. See the migration notes for details: https://github.com/RaRe-Technologies/smart_open/blob/master/README.rst#migrating-to-the-new-open-function\n",
            "  'See the migration notes for details: %s' % _MIGRATION_NOTES_URL\n"
          ],
          "name": "stderr"
        }
      ]
    },
    {
      "cell_type": "code",
      "metadata": {
        "id": "-GB96aEZYA4H",
        "outputId": "06118ba8-78cf-4399-eba4-515217b7e2b7",
        "colab": {
          "base_uri": "https://localhost:8080/",
          "height": 71
        }
      },
      "source": [
        "import gensim\n",
        "\n",
        "lda_model = gensim.models.ldamodel.LdaModel(gensim_corpus, num_topics=4, id2word=gensim_dictionary, passes=20)\n",
        "lda_model.save('gensim_model.gensim')"
      ],
      "execution_count": 62,
      "outputs": [
        {
          "output_type": "stream",
          "text": [
            "/usr/local/lib/python3.6/dist-packages/smart_open/smart_open_lib.py:252: UserWarning: This function is deprecated, use smart_open.open instead. See the migration notes for details: https://github.com/RaRe-Technologies/smart_open/blob/master/README.rst#migrating-to-the-new-open-function\n",
            "  'See the migration notes for details: %s' % _MIGRATION_NOTES_URL\n"
          ],
          "name": "stderr"
        }
      ]
    },
    {
      "cell_type": "code",
      "metadata": {
        "id": "lhlSoLYtYEWU",
        "outputId": "7d440280-6312-4831-d6c9-7d77801586dc",
        "colab": {
          "base_uri": "https://localhost:8080/",
          "height": 105
        }
      },
      "source": [
        "topics = lda_model.print_topics(num_words=10)\n",
        "for topic in topics:\n",
        "    print(topic)\n"
      ],
      "execution_count": 63,
      "outputs": [
        {
          "output_type": "stream",
          "text": [
            "(0, '0.032*\"climate\" + 0.024*\"change\" + 0.018*\"warming\" + 0.015*\"emission\" + 0.014*\"global\" + 0.013*\"greenhouse\" + 0.009*\"energy\" + 0.008*\"temperature\" + 0.008*\"effect\" + 0.008*\"carbon\"')\n",
            "(1, '0.000*\"intelligence\" + 0.000*\"system\" + 0.000*\"artificial\" + 0.000*\"machine\" + 0.000*\"climate\" + 0.000*\"research\" + 0.000*\"painting\" + 0.000*\"change\" + 0.000*\"problem\" + 0.000*\"eiffel\"')\n",
            "(2, '0.019*\"intelligence\" + 0.015*\"machine\" + 0.013*\"artificial\" + 0.011*\"problem\" + 0.011*\"system\" + 0.008*\"knowledge\" + 0.008*\"research\" + 0.007*\"approach\" + 0.006*\"computer\" + 0.006*\"learning\"')\n",
            "(3, '0.021*\"painting\" + 0.017*\"eiffel\" + 0.010*\"leonardo\" + 0.007*\"french\" + 0.006*\"second\" + 0.006*\"louvre\" + 0.005*\"portrait\" + 0.005*\"century\" + 0.005*\"original\" + 0.004*\"museum\"')\n"
          ],
          "name": "stdout"
        }
      ]
    },
    {
      "cell_type": "code",
      "metadata": {
        "id": "yBuGu4A6YHLT",
        "outputId": "61c68381-7f66-45cd-f69c-c493d2895231",
        "colab": {
          "base_uri": "https://localhost:8080/",
          "height": 207
        }
      },
      "source": [
        "lda_model = gensim.models.ldamodel.LdaModel(gensim_corpus, num_topics=8, id2word=gensim_dictionary, passes=15)\n",
        "lda_model.save('gensim_model.gensim')\n",
        "topics = lda_model.print_topics(num_words=5)\n",
        "for topic in topics:\n",
        "    print(topic)"
      ],
      "execution_count": 64,
      "outputs": [
        {
          "output_type": "stream",
          "text": [
            "(0, '0.045*\"painting\" + 0.021*\"leonardo\" + 0.012*\"portrait\" + 0.012*\"louvre\" + 0.008*\"century\"')\n",
            "(1, '0.000*\"painting\" + 0.000*\"leonardo\" + 0.000*\"louvre\" + 0.000*\"eiffel\" + 0.000*\"climate\"')\n",
            "(2, '0.000*\"climate\" + 0.000*\"intelligence\" + 0.000*\"machine\" + 0.000*\"change\" + 0.000*\"eiffel\"')\n",
            "(3, '0.000*\"climate\" + 0.000*\"change\" + 0.000*\"global\" + 0.000*\"warming\" + 0.000*\"greenhouse\"')\n",
            "(4, '0.000*\"climate\" + 0.000*\"change\" + 0.000*\"warming\" + 0.000*\"global\" + 0.000*\"intelligence\"')\n",
            "(5, '0.000*\"climate\" + 0.000*\"intelligence\" + 0.000*\"painting\" + 0.000*\"system\" + 0.000*\"machine\"')\n",
            "(6, '0.031*\"eiffel\" + 0.009*\"second\" + 0.007*\"structure\" + 0.007*\"french\" + 0.007*\"exposition\"')\n",
            "(7, '0.018*\"climate\" + 0.014*\"change\" + 0.012*\"intelligence\" + 0.010*\"warming\" + 0.009*\"machine\"')\n"
          ],
          "name": "stdout"
        },
        {
          "output_type": "stream",
          "text": [
            "/usr/local/lib/python3.6/dist-packages/smart_open/smart_open_lib.py:252: UserWarning: This function is deprecated, use smart_open.open instead. See the migration notes for details: https://github.com/RaRe-Technologies/smart_open/blob/master/README.rst#migrating-to-the-new-open-function\n",
            "  'See the migration notes for details: %s' % _MIGRATION_NOTES_URL\n"
          ],
          "name": "stderr"
        }
      ]
    },
    {
      "cell_type": "markdown",
      "metadata": {
        "id": "00CQMAH9YPBc"
      },
      "source": [
        "https://stackabuse.com/python-for-nlp-working-with-the-gensim-library-part-2/"
      ]
    },
    {
      "cell_type": "code",
      "metadata": {
        "id": "Pl01xAI-YLdT",
        "outputId": "d57ab412-9522-4ea7-a124-5a575f8f4892",
        "colab": {
          "base_uri": "https://localhost:8080/",
          "height": 139
        }
      },
      "source": [
        "lda_model = gensim.models.ldamodel.LdaModel(gensim_corpus, num_topics=4, id2word=gensim_dictionary, passes=20)\n",
        "lda_model.save('gensim_model.gensim')\n",
        "topics = lda_model.print_topics(num_words=10)\n",
        "for topic in topics:\n",
        "    print(topic)\n"
      ],
      "execution_count": 65,
      "outputs": [
        {
          "output_type": "stream",
          "text": [
            "(0, '0.032*\"climate\" + 0.024*\"change\" + 0.018*\"warming\" + 0.015*\"emission\" + 0.014*\"global\" + 0.013*\"greenhouse\" + 0.009*\"energy\" + 0.008*\"temperature\" + 0.008*\"effect\" + 0.008*\"carbon\"')\n",
            "(1, '0.021*\"painting\" + 0.017*\"eiffel\" + 0.010*\"leonardo\" + 0.007*\"french\" + 0.006*\"second\" + 0.006*\"louvre\" + 0.005*\"portrait\" + 0.005*\"century\" + 0.005*\"original\" + 0.004*\"museum\"')\n",
            "(2, '0.000*\"climate\" + 0.000*\"change\" + 0.000*\"warming\" + 0.000*\"intelligence\" + 0.000*\"global\" + 0.000*\"problem\" + 0.000*\"machine\" + 0.000*\"artificial\" + 0.000*\"emission\" + 0.000*\"knowledge\"')\n",
            "(3, '0.019*\"intelligence\" + 0.015*\"machine\" + 0.013*\"artificial\" + 0.011*\"problem\" + 0.011*\"system\" + 0.008*\"research\" + 0.008*\"knowledge\" + 0.007*\"approach\" + 0.006*\"computer\" + 0.006*\"learning\"')\n"
          ],
          "name": "stdout"
        },
        {
          "output_type": "stream",
          "text": [
            "/usr/local/lib/python3.6/dist-packages/smart_open/smart_open_lib.py:252: UserWarning: This function is deprecated, use smart_open.open instead. See the migration notes for details: https://github.com/RaRe-Technologies/smart_open/blob/master/README.rst#migrating-to-the-new-open-function\n",
            "  'See the migration notes for details: %s' % _MIGRATION_NOTES_URL\n"
          ],
          "name": "stderr"
        }
      ]
    },
    {
      "cell_type": "code",
      "metadata": {
        "id": "JSiJK3O19fZT",
        "outputId": "0e52cab1-a6e5-4a8b-9eb3-90d39d213496",
        "colab": {
          "base_uri": "https://localhost:8080/",
          "height": 34
        }
      },
      "source": [
        "test_doc = 'Great structures are build to remember an event happened in the history.'\n",
        "test_doc = preprocess_text(test_doc)\n",
        "bow_test_doc = gensim_dictionary.doc2bow(test_doc)\n",
        "\n",
        "print(lda_model.get_document_topics(bow_test_doc))"
      ],
      "execution_count": 66,
      "outputs": [
        {
          "output_type": "stream",
          "text": [
            "[(0, 0.08403021), (1, 0.7484379), (2, 0.083368815), (3, 0.08416306)]\n"
          ],
          "name": "stdout"
        }
      ]
    },
    {
      "cell_type": "code",
      "metadata": {
        "id": "FZbyeMmz9l8d",
        "outputId": "c0f0e3c9-2df8-44cc-93f5-eff83eff7bd7",
        "colab": {
          "base_uri": "https://localhost:8080/",
          "height": 85
        }
      },
      "source": [
        "print('\\nPerplexity:', lda_model.log_perplexity(gensim_corpus))\n",
        "\n",
        "from gensim.models import CoherenceModel\n",
        "\n",
        "coherence_score_lda = CoherenceModel(model=lda_model, texts=processed_data, dictionary=gensim_dictionary, coherence='c_v')\n",
        "coherence_score = coherence_score_lda.get_coherence()\n",
        "\n",
        "print('\\nCoherence Score:', coherence_score)"
      ],
      "execution_count": 67,
      "outputs": [
        {
          "output_type": "stream",
          "text": [
            "\n",
            "Perplexity: -7.537522110617259\n",
            "\n",
            "Coherence Score: 0.5983808903271268\n"
          ],
          "name": "stdout"
        }
      ]
    },
    {
      "cell_type": "markdown",
      "metadata": {
        "id": "z7DxDIgp9xGp"
      },
      "source": [
        "Visualizing the LDA\n"
      ]
    },
    {
      "cell_type": "code",
      "metadata": {
        "id": "MyquAEyi9tgb",
        "outputId": "c30e5115-ca28-4be3-a106-d9d887633a12",
        "colab": {
          "base_uri": "https://localhost:8080/",
          "height": 915
        }
      },
      "source": [
        "gensim_dictionary = gensim.corpora.Dictionary.load('gensim_dictionary.gensim')\n",
        "gensim_corpus = pickle.load(open('gensim_corpus_corpus.pkl', 'rb'))\n",
        "lda_model = gensim.models.ldamodel.LdaModel.load('gensim_model.gensim')\n",
        "\n",
        "import pyLDAvis.gensim\n",
        "\n",
        "lda_visualization = pyLDAvis.gensim.prepare(lda_model, gensim_corpus, gensim_dictionary, sort_topics=False)\n",
        "pyLDAvis.display(lda_visualization)"
      ],
      "execution_count": 68,
      "outputs": [
        {
          "output_type": "stream",
          "text": [
            "/usr/local/lib/python3.6/dist-packages/smart_open/smart_open_lib.py:252: UserWarning: This function is deprecated, use smart_open.open instead. See the migration notes for details: https://github.com/RaRe-Technologies/smart_open/blob/master/README.rst#migrating-to-the-new-open-function\n",
            "  'See the migration notes for details: %s' % _MIGRATION_NOTES_URL\n"
          ],
          "name": "stderr"
        },
        {
          "output_type": "execute_result",
          "data": {
            "text/html": [
              "\n",
              "<link rel=\"stylesheet\" type=\"text/css\" href=\"https://cdn.rawgit.com/bmabey/pyLDAvis/files/ldavis.v1.0.0.css\">\n",
              "\n",
              "\n",
              "<div id=\"ldavis_el1031399355783814323928730453\"></div>\n",
              "<script type=\"text/javascript\">\n",
              "\n",
              "var ldavis_el1031399355783814323928730453_data = {\"mdsDat\": {\"x\": [0.15001090654632696, -0.1621586202983773, -0.028152182718473983, 0.04029989647052428], \"y\": [-0.11061617675916231, -0.060789983253279584, 0.002507409021430346, 0.16889875099101137], \"topics\": [1, 2, 3, 4], \"cluster\": [1, 1, 1, 1], \"Freq\": [32.640916517822575, 31.807844252966277, 0.008601497773139843, 35.542637731438006]}, \"tinfo\": {\"Term\": [\"climate\", \"painting\", \"intelligence\", \"change\", \"warming\", \"eiffel\", \"machine\", \"emission\", \"artificial\", \"global\", \"greenhouse\", \"leonardo\", \"problem\", \"knowledge\", \"energy\", \"french\", \"carbon\", \"temperature\", \"learning\", \"surface\", \"intelligent\", \"louvre\", \"portrait\", \"approach\", \"feedback\", \"atmosphere\", \"research\", \"researcher\", \"symbolic\", \"second\", \"warming\", \"emission\", \"greenhouse\", \"feedback\", \"atmosphere\", \"climate\", \"global\", \"fossil\", \"arctic\", \"aerosol\", \"sunlight\", \"concentration\", \"forest\", \"cooling\", \"rising\", \"renewable\", \"population\", \"methane\", \"growth\", \"deforestation\", \"environmental\", \"electricity\", \"energy\", \"carbon\", \"impact\", \"dioxide\", \"health\", \"ecosystem\", \"weather\", \"protocol\", \"change\", \"surface\", \"temperature\", \"country\", \"increased\", \"increase\", \"scenario\", \"mitigation\", \"effect\", \"region\", \"observed\", \"industrial\", \"significant\", \"adaptation\", \"reduce\", \"future\", \"century\", \"include\", \"current\", \"system\", \"amount\", \"painting\", \"eiffel\", \"leonardo\", \"french\", \"louvre\", \"portrait\", \"museum\", \"france\", \"exposition\", \"tallest\", \"engineer\", \"visitor\", \"italian\", \"giocondo\", \"restaurant\", \"hydraulic\", \"monument\", \"completed\", \"height\", \"vasari\", \"minute\", \"gustave\", \"aerial\", \"television\", \"pillar\", \"drawing\", \"famous\", \"sketch\", \"october\", \"renaissance\", \"structure\", \"second\", \"original\", \"design\", \"construction\", \"installed\", \"display\", \"artist\", \"painted\", \"million\", \"subject\", \"century\", \"picture\", \"public\", \"building\", \"company\", \"architectural\", \"incorporating\", \"jacques\", \"unworried\", \"bunker\", \"complement\", \"deadline\", \"admirable\", \"airship\", \"compagnie\", \"committee\", \"judging\", \"humiliated\", \"emphasising\", \"endless\", \"hideous\", \"surrounding\", \"featured\", \"indeed\", \"illegal\", \"bourdelle\", \"darker\", \"arlington\", \"drilling\", \"seasonal\", \"lacking\", \"integral\", \"listed\", \"germany\", \"thierry\", \"emitted\", \"reflection\", \"footprint\", \"mobilizing\", \"obstructs\", \"labeled\", \"hazard\", \"b\\u00e9n\\u00e9dict\", \"trading\", \"accounting\", \"diarrhea\", \"notified\", \"tyndall\", \"reinforced\", \"advice\", \"adopting\", \"timescale\", \"declaration\", \"ethnicity\", \"monsoon\", \"intense\", \"saharan\", \"avoided\", \"unavoidable\", \"thermometer\", \"organism\", \"strengthen\", \"confounded\", \"intensity\", \"shorter\", \"climate\", \"change\", \"warming\", \"global\", \"feigenbaum\", \"intelligence\", \"problem\", \"machine\", \"artificial\", \"emission\", \"knowledge\", \"greenhouse\", \"energy\", \"research\", \"system\", \"eiffel\", \"temperature\", \"example\", \"increase\", \"learning\", \"include\", \"surface\", \"intelligent\", \"computer\", \"effect\", \"carbon\", \"century\", \"researcher\", \"current\", \"increased\", \"natural\", \"intelligence\", \"machine\", \"artificial\", \"knowledge\", \"learning\", \"intelligent\", \"symbolic\", \"algorithm\", \"network\", \"neural\", \"behavior\", \"processing\", \"program\", \"decision\", \"software\", \"difficult\", \"computational\", \"robotics\", \"solving\", \"statistical\", \"commonsense\", \"researcher\", \"computing\", \"autonomous\", \"specific\", \"cognitive\", \"concept\", \"narrow\", \"turing\", \"perception\", \"theory\", \"problem\", \"approach\", \"reasoning\", \"language\", \"computer\", \"research\", \"function\", \"system\", \"example\", \"general\", \"application\", \"technology\", \"development\", \"people\", \"whether\", \"described\", \"natural\", \"include\"], \"Freq\": [125.0, 78.0, 80.0, 97.0, 67.0, 62.0, 62.0, 56.0, 55.0, 53.0, 48.0, 37.0, 51.0, 34.0, 34.0, 26.0, 31.0, 33.0, 26.0, 27.0, 24.0, 21.0, 20.0, 29.0, 19.0, 19.0, 39.0, 23.0, 20.0, 25.0, 66.9030174218969, 55.65527310192923, 47.61843239356292, 19.488633016126432, 19.48784870645205, 123.1639404739176, 52.437238114778395, 14.666712186847578, 13.86334626600753, 12.255306946461676, 12.255273307897763, 9.844958665162922, 9.04133160283987, 8.237515102288466, 8.23740002299087, 8.237563789683604, 7.433862368429796, 7.433488803325293, 6.630175553394531, 6.630281337825782, 6.630380925679471, 6.630107391041339, 32.346687258704065, 29.936944471555737, 17.88034317780196, 5.826610014234423, 5.826527245662691, 5.826681274876395, 5.826410838527045, 5.826392248794357, 90.21147579266936, 25.917904459616295, 30.740244000493323, 20.292830163585265, 19.489091562866083, 24.311487758166543, 13.059411145257068, 9.844501003648638, 29.937758878892566, 11.452240231795377, 11.452308394148568, 11.452392490558351, 11.452006532298721, 10.64887431095533, 10.64847950044204, 13.060960289647781, 15.472138912339956, 13.060797408180413, 12.257214607125666, 13.066884217797865, 11.452907691721434, 78.51495406053034, 61.76847208808571, 36.952157630655236, 26.582448956198103, 20.977533207457643, 20.17881846257568, 15.385058342492055, 14.589283448664368, 13.792647647749774, 12.193812067252729, 12.192810551092514, 10.593483270155051, 10.589198575264621, 10.58837648663354, 9.794575295626327, 8.995544827303675, 7.396384897042425, 7.396259815351442, 6.596804500595624, 6.591926314647289, 5.796998957105053, 5.796863092509676, 5.796666843649684, 5.796761733208362, 5.79663967073061, 5.796502080870528, 5.79519044837991, 5.795226247622502, 5.794938559733241, 5.792460216987076, 13.79247857180886, 22.58719827449676, 16.986949366778493, 11.393535957814358, 8.995568981009521, 8.994729639731407, 8.193179422309713, 8.193108686456881, 8.192397014766804, 14.590846538485478, 10.589985295969287, 18.58083343757732, 8.989696179959783, 12.191812485461705, 9.794852200611192, 8.995403355598013, 0.00026978613477909966, 0.00026977872834238524, 0.0002697730714576506, 0.00026977108863207355, 0.00026976881421449984, 0.00026976808523450824, 0.0002697657524985352, 0.00026976467360814764, 0.0002697639154689564, 0.00026976374051375845, 0.00026976365303615945, 0.0002697611745041881, 0.00026976003729540127, 0.00026975994981780227, 0.00026975939579300867, 0.00026975916251941134, 0.00026975907504181234, 0.00026975863765381743, 0.00026975852101701874, 0.0002697583752210205, 0.0002697577628778275, 0.0002697572963306329, 0.0002697572963306329, 0.00026975712137543496, 0.00026975694642023695, 0.000269756596509841, 0.0002697563632362437, 0.0002697561299626464, 0.0002697557508930508, 0.0002697557217338511, 0.0002698443948600264, 0.00026984235371605, 0.00026984040004967257, 0.00026983512223453354, 0.000269834218299344, 0.00026983346016015274, 0.0002698305150809868, 0.0002698286197330087, 0.0002698266952258309, 0.00026982628699703565, 0.0002698259662458394, 0.00026982415837546026, 0.00026982305032587306, 0.00026982188395788655, 0.0002698215923658899, 0.00026982068843070035, 0.0002698171018491418, 0.00026981628539155125, 0.00026981619791395224, 0.0002698159354811553, 0.0002698157605259573, 0.00026981517734196405, 0.00026981511902356473, 0.00026981476911316877, 0.00026981447752117213, 0.0002698138068595799, 0.0002698132528347863, 0.0002698129904019893, 0.00026981301956118897, 0.00026981293208358997, 0.0002892022835811229, 0.0002863820641081139, 0.00028208504780897104, 0.0002802391246743029, 0.0002698419454872547, 0.0002804979708897116, 0.00027852228931654296, 0.00027824341073096574, 0.00027701752881793227, 0.00027667111752593547, 0.00027665368032453696, 0.00027583862237555597, 0.000275760563198058, 0.0002756754766534413, 0.00027562328168604446, 0.0002752704262109221, 0.00027506389159970886, 0.0002750320205944772, 0.0002749881943173837, 0.0002742576397290261, 0.0002741354918416377, 0.0002740797686110816, 0.00027401346059104787, 0.00027401226506386167, 0.0002739710047963385, 0.00027384958588894164, 0.0002735437350436761, 0.0002734397241784781, 0.00027334002887483016, 0.0002731949910157063, 0.00027318175273905923, 80.22835749652995, 62.263927690045236, 54.91437412864995, 33.68365000673282, 26.333843898199216, 23.885303000164225, 19.801521309357963, 16.5356029228719, 10.819705469150959, 10.003061524105462, 10.002752105665003, 9.186885080441966, 9.18677230175806, 8.370052207002917, 8.36995195928389, 8.3700801606938, 8.36989508798175, 7.553534053566392, 7.553383681987851, 7.55352634220339, 7.5532737950650715, 22.25301565942275, 6.7368414305419435, 6.736770582394362, 6.73671419305241, 6.736758051429484, 6.736719976574661, 5.920380630367746, 5.920194593735321, 5.920223993306767, 16.537326412502868, 45.93447263430822, 27.151398747999334, 13.269441628451274, 13.27002190851718, 26.335758244064483, 33.686780820111665, 11.636427491746852, 43.48499287782772, 21.437255629361367, 14.087640377062067, 9.1874721079505, 14.08866309658022, 12.453163009228, 14.090711427377649, 9.187954068138131, 10.006480549676514, 10.003490468672453, 10.004851524242323], \"Total\": [125.0, 78.0, 80.0, 97.0, 67.0, 62.0, 62.0, 56.0, 55.0, 53.0, 48.0, 37.0, 51.0, 34.0, 34.0, 26.0, 31.0, 33.0, 26.0, 27.0, 24.0, 21.0, 20.0, 29.0, 19.0, 19.0, 39.0, 23.0, 20.0, 25.0, 67.31731977663203, 56.067180485755834, 48.02910669521305, 19.895951510946603, 19.895934698582025, 125.99940091200462, 53.64886405834024, 15.073350214088705, 14.2699736012061, 12.661877525317161, 12.66184626254282, 10.250847659775992, 9.447115589435462, 8.643160609353062, 8.64310587189909, 8.643346049482885, 7.839347276433426, 7.839071028262737, 7.035518637768401, 7.0356708087178905, 7.035803743023597, 7.035607632024547, 34.372321983157256, 31.94513305772174, 19.105057158564126, 6.231838290024802, 6.231823029687834, 6.231989424444642, 6.231711199836827, 6.231708887169982, 97.89287026620292, 27.925616206302987, 33.56493041127525, 22.31653583404464, 21.52935130321882, 30.418460818283158, 15.09916619312753, 11.067282334106823, 40.096545029368166, 13.457665272603798, 13.457804523366155, 13.491859618137127, 13.491563478889525, 12.68820965293841, 12.6879598438889, 21.616538444101522, 35.9058843477681, 25.665688865602064, 21.595011486052638, 62.35480148659917, 17.54152730437151, 78.98742003317159, 62.187521637769436, 37.3971736936114, 26.998534032902683, 21.400619003435953, 20.600636795087308, 15.801405216249702, 15.00129740938251, 14.201562275067115, 12.601945148531804, 12.602070827491794, 11.002384017855736, 11.002910498327347, 11.002969953269789, 10.202620171646885, 9.402817790443626, 7.803305672153342, 7.8032549849361255, 7.003707184847866, 7.003943137869858, 6.2037177955392195, 6.203723289030257, 6.203733975100581, 6.203862069900277, 6.203764009672348, 6.203722168599296, 6.203879127017063, 6.20405057676905, 6.203973820980603, 6.20412960374451, 15.004829593665796, 25.436201459570643, 19.03458189533758, 12.618721165761333, 10.206555649606694, 10.206874918595833, 9.420154958066696, 9.420116160795576, 9.420073398646576, 19.046200185423714, 13.440074607052297, 35.9058843477681, 11.85369048281601, 23.880991974815984, 18.292437210914255, 13.460594521871833, 1.4051308050782778, 1.405135840127559, 1.4051400992230823, 1.4051418599215593, 1.4051434157474616, 1.4051440926088656, 1.4051457486756422, 1.4051467649506624, 1.4051471971613994, 1.405147552939137, 1.4051475212847462, 1.4051496864662318, 1.4051501554071086, 1.4051506055909941, 1.4051502338859418, 1.4051508704872224, 1.4051508194486297, 1.4051506811778955, 1.405151230466022, 1.4051506205012145, 1.4051517955927653, 1.405152204176944, 1.4051522071651457, 1.405152342500631, 1.4051521642765674, 1.4051532270803198, 1.4051522342812226, 1.4051532954622215, 1.4051533616355287, 1.4051534099043894, 1.4091348179877425, 1.4091362106545195, 1.4091375896740315, 1.4091415253393733, 1.409142572089463, 1.4091428162926383, 1.4091448540969136, 1.4091462468611953, 1.4091479240598128, 1.409148063017781, 1.409148270764805, 1.4091496865568833, 1.4091503937516616, 1.4091513637883177, 1.4091513643601943, 1.4091524914307427, 1.409154849204889, 1.4091554651941998, 1.4091561718444128, 1.4091559879136466, 1.4091558477470667, 1.4091566733085408, 1.4091566062246514, 1.4091564844940416, 1.4091570407648057, 1.4091576168880375, 1.409157989935125, 1.409158068667616, 1.4091583424393708, 1.409158257190608, 125.99940091200462, 97.89287026620292, 67.31731977663203, 53.64886405834024, 1.4221185959227913, 80.64884918089699, 51.16173865713913, 62.679782109333594, 55.32901440466352, 56.067180485755834, 34.09114260308209, 48.02910669521305, 34.372321983157256, 39.70686087107976, 62.35480148659917, 62.187521637769436, 33.56493041127525, 29.866148962930787, 30.418460818283158, 26.74123838449156, 25.665688865602064, 27.925616206302987, 24.29088674726652, 29.9528778181367, 40.096545029368166, 31.94513305772174, 35.9058843477681, 23.457448484566694, 21.595011486052638, 21.52935130321882, 20.047388195748425, 80.64884918089699, 62.679782109333594, 55.32901440466352, 34.09114260308209, 26.74123838449156, 24.29088674726652, 20.207512319068385, 16.940574714025605, 11.223308738405729, 10.406664829536759, 10.406467987914935, 9.589924006972769, 9.589915753231034, 8.773044019308395, 8.772957814227034, 8.773200962115665, 8.773037005792446, 7.956046700106433, 7.9560741347566255, 7.95639217403535, 7.956275419377988, 23.457448484566694, 7.1393310963998315, 7.139468391815515, 7.139411240873188, 7.139491238825165, 7.139461785259029, 6.322835421606428, 6.322640945011503, 6.32268513058704, 17.74094953376023, 51.16173865713913, 29.970517640402747, 14.473134417838123, 14.477282975991276, 29.9528778181367, 39.70686087107976, 12.843763959994975, 62.35480148659917, 29.866148962930787, 17.689400422528163, 10.389421681365066, 21.716748536111975, 19.286685009693407, 28.118986724773187, 11.19327022995627, 18.40825458752071, 20.047388195748425, 25.665688865602064], \"Category\": [\"Default\", \"Default\", \"Default\", \"Default\", \"Default\", \"Default\", \"Default\", \"Default\", \"Default\", \"Default\", \"Default\", \"Default\", \"Default\", \"Default\", \"Default\", \"Default\", \"Default\", \"Default\", \"Default\", \"Default\", \"Default\", \"Default\", \"Default\", \"Default\", \"Default\", \"Default\", \"Default\", \"Default\", \"Default\", \"Default\", \"Topic1\", \"Topic1\", \"Topic1\", \"Topic1\", \"Topic1\", \"Topic1\", \"Topic1\", \"Topic1\", \"Topic1\", \"Topic1\", \"Topic1\", \"Topic1\", \"Topic1\", \"Topic1\", \"Topic1\", \"Topic1\", \"Topic1\", \"Topic1\", \"Topic1\", \"Topic1\", \"Topic1\", \"Topic1\", \"Topic1\", \"Topic1\", \"Topic1\", \"Topic1\", \"Topic1\", \"Topic1\", \"Topic1\", \"Topic1\", \"Topic1\", \"Topic1\", \"Topic1\", \"Topic1\", \"Topic1\", \"Topic1\", \"Topic1\", \"Topic1\", \"Topic1\", \"Topic1\", \"Topic1\", \"Topic1\", \"Topic1\", \"Topic1\", \"Topic1\", \"Topic1\", \"Topic1\", \"Topic1\", \"Topic1\", \"Topic1\", \"Topic1\", \"Topic2\", \"Topic2\", \"Topic2\", \"Topic2\", \"Topic2\", \"Topic2\", \"Topic2\", \"Topic2\", \"Topic2\", \"Topic2\", \"Topic2\", \"Topic2\", \"Topic2\", \"Topic2\", \"Topic2\", \"Topic2\", \"Topic2\", \"Topic2\", \"Topic2\", \"Topic2\", \"Topic2\", \"Topic2\", \"Topic2\", \"Topic2\", \"Topic2\", \"Topic2\", \"Topic2\", \"Topic2\", \"Topic2\", \"Topic2\", \"Topic2\", \"Topic2\", \"Topic2\", \"Topic2\", \"Topic2\", \"Topic2\", \"Topic2\", \"Topic2\", \"Topic2\", \"Topic2\", \"Topic2\", \"Topic2\", \"Topic2\", \"Topic2\", \"Topic2\", \"Topic2\", \"Topic3\", \"Topic3\", \"Topic3\", \"Topic3\", \"Topic3\", \"Topic3\", \"Topic3\", \"Topic3\", \"Topic3\", \"Topic3\", \"Topic3\", \"Topic3\", \"Topic3\", \"Topic3\", \"Topic3\", \"Topic3\", \"Topic3\", \"Topic3\", \"Topic3\", \"Topic3\", \"Topic3\", \"Topic3\", \"Topic3\", \"Topic3\", \"Topic3\", \"Topic3\", \"Topic3\", \"Topic3\", \"Topic3\", \"Topic3\", \"Topic3\", \"Topic3\", \"Topic3\", \"Topic3\", \"Topic3\", \"Topic3\", \"Topic3\", \"Topic3\", \"Topic3\", \"Topic3\", \"Topic3\", \"Topic3\", \"Topic3\", \"Topic3\", \"Topic3\", \"Topic3\", \"Topic3\", \"Topic3\", \"Topic3\", \"Topic3\", \"Topic3\", \"Topic3\", \"Topic3\", \"Topic3\", \"Topic3\", \"Topic3\", \"Topic3\", \"Topic3\", \"Topic3\", \"Topic3\", \"Topic3\", \"Topic3\", \"Topic3\", \"Topic3\", \"Topic3\", \"Topic3\", \"Topic3\", \"Topic3\", \"Topic3\", \"Topic3\", \"Topic3\", \"Topic3\", \"Topic3\", \"Topic3\", \"Topic3\", \"Topic3\", \"Topic3\", \"Topic3\", \"Topic3\", \"Topic3\", \"Topic3\", \"Topic3\", \"Topic3\", \"Topic3\", \"Topic3\", \"Topic3\", \"Topic3\", \"Topic3\", \"Topic3\", \"Topic3\", \"Topic3\", \"Topic4\", \"Topic4\", \"Topic4\", \"Topic4\", \"Topic4\", \"Topic4\", \"Topic4\", \"Topic4\", \"Topic4\", \"Topic4\", \"Topic4\", \"Topic4\", \"Topic4\", \"Topic4\", \"Topic4\", \"Topic4\", \"Topic4\", \"Topic4\", \"Topic4\", \"Topic4\", \"Topic4\", \"Topic4\", \"Topic4\", \"Topic4\", \"Topic4\", \"Topic4\", \"Topic4\", \"Topic4\", \"Topic4\", \"Topic4\", \"Topic4\", \"Topic4\", \"Topic4\", \"Topic4\", \"Topic4\", \"Topic4\", \"Topic4\", \"Topic4\", \"Topic4\", \"Topic4\", \"Topic4\", \"Topic4\", \"Topic4\", \"Topic4\", \"Topic4\", \"Topic4\", \"Topic4\", \"Topic4\", \"Topic4\"], \"logprob\": [30.0, 29.0, 28.0, 27.0, 26.0, 25.0, 24.0, 23.0, 22.0, 21.0, 20.0, 19.0, 18.0, 17.0, 16.0, 15.0, 14.0, 13.0, 12.0, 11.0, 10.0, 9.0, 8.0, 7.0, 6.0, 5.0, 4.0, 3.0, 2.0, 1.0, -4.039999961853027, -4.224100112915039, -4.380099773406982, -5.273499965667725, -5.273499965667725, -3.429800033569336, -4.283699989318848, -5.557700157165527, -5.613999843597412, -5.737299919128418, -5.737299919128418, -5.956299781799316, -6.041500091552734, -6.1346001625061035, -6.1346001625061035, -6.1346001625061035, -6.237199783325195, -6.237299919128418, -6.3516998291015625, -6.351600170135498, -6.351600170135498, -6.3516998291015625, -4.7667999267578125, -4.844200134277344, -5.359600067138672, -6.480899810791016, -6.480899810791016, -6.480800151824951, -6.480899810791016, -6.480899810791016, -3.7411000728607178, -4.988399982452393, -4.817699909210205, -5.232999801635742, -5.273399829864502, -5.052299976348877, -5.673799991607666, -5.956399917602539, -4.844200134277344, -5.805099964141846, -5.805099964141846, -5.805099964141846, -5.805099964141846, -5.877799987792969, -5.877900123596191, -5.673699855804443, -5.504199981689453, -5.673699855804443, -5.737199783325195, -5.6732001304626465, -5.804999828338623, -3.854099988937378, -4.093999862670898, -4.607800006866455, -4.93720006942749, -5.173999786376953, -5.212800025939941, -5.484000205993652, -5.537099838256836, -5.593299865722656, -5.7164998054504395, -5.716599941253662, -5.8572001457214355, -5.857600212097168, -5.857699871063232, -5.9355998039245605, -6.020699977874756, -6.216400146484375, -6.2164998054504395, -6.3308000564575195, -6.331600189208984, -6.460100173950195, -6.460100173950195, -6.460100173950195, -6.460100173950195, -6.46019983291626, -6.46019983291626, -6.460400104522705, -6.460400104522705, -6.460400104522705, -6.460899829864502, -5.593299865722656, -5.099999904632568, -5.385000228881836, -5.78439998626709, -6.020699977874756, -6.0208001136779785, -6.114099979400635, -6.114099979400635, -6.114200115203857, -5.5370001792907715, -5.857500076293945, -5.295300006866455, -6.021399974822998, -5.716700077056885, -5.9355998039245605, -6.020699977874756, -8.219799995422363, -8.219799995422363, -8.219799995422363, -8.219799995422363, -8.219799995422363, -8.219799995422363, -8.219900131225586, -8.219900131225586, -8.219900131225586, -8.219900131225586, -8.219900131225586, -8.219900131225586, -8.219900131225586, -8.219900131225586, -8.219900131225586, -8.219900131225586, -8.219900131225586, -8.219900131225586, -8.219900131225586, -8.219900131225586, -8.219900131225586, -8.219900131225586, -8.219900131225586, -8.219900131225586, -8.219900131225586, -8.219900131225586, -8.219900131225586, -8.219900131225586, -8.219900131225586, -8.219900131225586, -8.219599723815918, -8.219599723815918, -8.219599723815918, -8.219599723815918, -8.219599723815918, -8.219599723815918, -8.219599723815918, -8.219599723815918, -8.219599723815918, -8.219599723815918, -8.219599723815918, -8.219599723815918, -8.219599723815918, -8.219599723815918, -8.219599723815918, -8.21969985961914, -8.21969985961914, -8.21969985961914, -8.21969985961914, -8.21969985961914, -8.21969985961914, -8.21969985961914, -8.21969985961914, -8.21969985961914, -8.21969985961914, -8.21969985961914, -8.21969985961914, -8.21969985961914, -8.21969985961914, -8.21969985961914, -8.150300025939941, -8.160099983215332, -8.175200462341309, -8.18179988861084, -8.219599723815918, -8.180800437927246, -8.187899589538574, -8.188899993896484, -8.193300247192383, -8.194600105285645, -8.194600105285645, -8.197600364685059, -8.19789981842041, -8.198200225830078, -8.198399543762207, -8.199700355529785, -8.200400352478027, -8.200499534606934, -8.200699806213379, -8.203300476074219, -8.203800201416016, -8.204000473022461, -8.20419979095459, -8.20419979095459, -8.204400062561035, -8.20479965209961, -8.206000328063965, -8.206299781799316, -8.206700325012207, -8.207200050354004, -8.207300186157227, -3.9435999393463135, -4.1971001625061035, -4.322700023651123, -4.811399936676025, -5.057600021362305, -5.155200004577637, -5.342700004577637, -5.522900104522705, -5.9471001625061035, -6.025599956512451, -6.025599956512451, -6.1107001304626465, -6.1107001304626465, -6.203800201416016, -6.203800201416016, -6.203800201416016, -6.203800201416016, -6.306399822235107, -6.30649995803833, -6.306399822235107, -6.30649995803833, -5.22599983215332, -6.420899868011475, -6.420899868011475, -6.420899868011475, -6.420899868011475, -6.420899868011475, -6.550099849700928, -6.550099849700928, -6.550099849700928, -5.522799968719482, -4.501200199127197, -5.0269999504089355, -5.743000030517578, -5.7428998947143555, -5.057499885559082, -4.811299800872803, -5.874300003051758, -4.556000232696533, -5.263299942016602, -5.683199882507324, -6.110599994659424, -5.68310022354126, -5.80649995803833, -5.6828999519348145, -6.110599994659424, -6.025199890136719, -6.0254998207092285, -6.025400161743164], \"loglift\": [30.0, 29.0, 28.0, 27.0, 26.0, 25.0, 24.0, 23.0, 22.0, 21.0, 20.0, 19.0, 18.0, 17.0, 16.0, 15.0, 14.0, 13.0, 12.0, 11.0, 10.0, 9.0, 8.0, 7.0, 6.0, 5.0, 4.0, 3.0, 2.0, 1.0, 1.1134, 1.1122, 1.111, 1.0989, 1.0989, 1.0968, 1.0968, 1.0923, 1.0907, 1.087, 1.087, 1.0792, 1.0757, 1.0715, 1.0715, 1.0715, 1.0665, 1.0665, 1.0603, 1.0603, 1.0603, 1.0602, 1.0589, 1.0547, 1.0534, 1.0524, 1.0524, 1.0524, 1.0524, 1.0524, 1.0379, 1.045, 1.0317, 1.0245, 1.02, 0.8955, 0.9745, 1.0025, 0.8274, 0.9582, 0.9582, 0.9557, 0.9557, 0.9444, 0.9444, 0.6158, 0.2777, 0.4441, 0.5533, -0.4432, 0.6933, 1.1395, 1.1387, 1.1335, 1.1299, 1.1255, 1.1248, 1.1188, 1.1176, 1.1162, 1.1125, 1.1124, 1.1076, 1.1071, 1.107, 1.1046, 1.1012, 1.0919, 1.0919, 1.0856, 1.0848, 1.0776, 1.0776, 1.0776, 1.0776, 1.0776, 1.0776, 1.0773, 1.0773, 1.0773, 1.0768, 1.0612, 1.0267, 1.0316, 1.0433, 1.0192, 1.019, 1.0059, 1.0059, 1.0058, 0.879, 0.9071, 0.4867, 0.8689, 0.4731, 0.5208, 0.7424, 0.803, 0.8029, 0.8029, 0.8029, 0.8029, 0.8029, 0.8029, 0.8029, 0.8029, 0.8029, 0.8029, 0.8029, 0.8029, 0.8029, 0.8029, 0.8029, 0.8029, 0.8029, 0.8029, 0.8029, 0.8029, 0.8029, 0.8029, 0.8029, 0.8029, 0.8029, 0.8029, 0.8029, 0.8028, 0.8028, 0.8003, 0.8003, 0.8003, 0.8003, 0.8003, 0.8003, 0.8003, 0.8003, 0.8003, 0.8003, 0.8003, 0.8003, 0.8003, 0.8003, 0.8003, 0.8002, 0.8002, 0.8002, 0.8002, 0.8002, 0.8002, 0.8002, 0.8002, 0.8002, 0.8002, 0.8002, 0.8002, 0.8002, 0.8002, 0.8002, -3.6237, -3.3811, -3.0217, -2.8013, 0.7912, -3.2081, -2.76, -2.9641, -2.8437, -2.8582, -2.3608, -2.7065, -2.3722, -2.5168, -2.9683, -2.9669, -2.351, -2.2344, -2.2528, -2.1267, -2.0861, -2.1706, -2.0314, -2.241, -2.5328, -2.306, -2.424, -1.9986, -1.9163, -1.9138, -1.8425, 1.0292, 1.0278, 1.0269, 1.0224, 1.0191, 1.0176, 1.0141, 1.0102, 0.9978, 0.9949, 0.9949, 0.9915, 0.9915, 0.9874, 0.9874, 0.9874, 0.9874, 0.9825, 0.9825, 0.9825, 0.9825, 0.9817, 0.9764, 0.9764, 0.9764, 0.9764, 0.9764, 0.9687, 0.9687, 0.9687, 0.9642, 0.9267, 0.9357, 0.9476, 0.9474, 0.9057, 0.87, 0.9357, 0.674, 0.7028, 0.8068, 0.9115, 0.6017, 0.597, 0.3435, 0.837, 0.4249, 0.3393, 0.0924]}, \"token.table\": {\"Topic\": [1, 1, 4, 2, 1, 1, 2, 1, 2, 4, 1, 2, 4, 2, 4, 1, 4, 2, 1, 2, 4, 2, 4, 1, 4, 1, 4, 2, 1, 2, 4, 2, 1, 1, 2, 1, 2, 4, 1, 2, 4, 1, 2, 4, 4, 2, 4, 2, 1, 2, 4, 2, 2, 4, 1, 2, 4, 4, 1, 4, 1, 1, 2, 1, 1, 2, 4, 1, 2, 4, 2, 2, 4, 1, 1, 1, 2, 4, 2, 4, 1, 4, 1, 4, 1, 2, 4, 2, 2, 1, 1, 2, 4, 2, 1, 1, 1, 2, 2, 1, 2, 4, 2, 1, 1, 1, 2, 4, 2, 2, 2, 1, 4, 1, 1, 1, 2, 2, 1, 4, 1, 2, 4, 2, 4, 2, 2, 1, 2, 1, 1, 2, 1, 1, 2, 2, 2, 2, 2, 1, 4, 1, 2, 4, 2, 1, 2, 4, 1, 4, 2, 1, 4, 1, 2, 2, 4, 4, 1, 1, 2, 2, 2, 4, 1, 2, 1, 4, 4, 2, 2, 2, 4, 1, 1, 2, 4, 2, 1, 4, 1, 1, 2, 2, 4, 1, 2, 4, 4, 4, 1, 1, 2, 1, 2, 1, 2, 4, 2, 4, 2, 1, 2, 4, 4, 2, 4, 2, 1, 2, 1, 2, 4, 4, 4, 1, 1, 2, 4, 2, 4, 1, 4, 1, 1, 2, 1, 2, 1, 1, 2, 4, 2, 4, 2, 1, 4, 1, 1, 4, 2, 1, 2, 4, 1, 1, 4, 2, 4, 4, 4, 4, 1, 1, 2, 1, 2, 4, 1, 1, 2, 2, 4, 1, 2, 4, 2, 1, 2, 4, 2, 1, 2, 4, 2, 4, 1, 2, 1, 1, 4, 1, 1, 2, 2, 2, 1, 1, 1, 2, 4], \"Freq\": [0.7096486354020427, 0.8669465827633575, 0.15762665141151955, 0.7116694319366078, 0.7096464052550329, 0.7096469728459839, 0.9671594597836897, 0.9477267471594358, 0.7116692130334421, 1.0035078671755566, 0.627083366752147, 0.11401515759129946, 0.22803031518259892, 0.09625174823673247, 0.8662657341305922, 0.100098371205833, 0.9008853408524969, 0.7116775152789362, 0.9810810020571249, 0.7116666756105172, 0.9940534923998974, 0.8492464279043836, 0.10615580348804796, 0.9549689566157514, 0.9804651573252432, 0.7096443330590165, 0.9609408313765085, 0.7116668840594184, 0.27333700492445756, 0.5466740098489151, 0.16400220295467452, 0.7116711282229174, 0.7096495500218316, 0.9391101907696839, 0.06260734605131227, 0.41775882344845783, 0.5291611763680466, 0.05570117645979438, 0.91937236854186, 0.040860994157416, 0.030645745618062, 0.9761951176728266, 0.0158730913442736, 0.0079365456721368, 0.9804620197491666, 0.7116690488737338, 1.0054956092288507, 0.7116690328416451, 0.14858184731367122, 0.6686183129115205, 0.22287277097050684, 0.7116707854091651, 0.8970615484837062, 0.9118849031091464, 0.10015732104991518, 0.03338577368330506, 0.8680301157659315, 0.9804840125050241, 0.9755290812914613, 0.9804660646063015, 0.7096435965807, 0.09797624530059117, 0.8817862077053205, 0.9255873356492906, 0.8961964414516932, 0.04480982207258466, 0.04480982207258466, 0.5556838905943775, 0.13892097264859438, 0.3241489361800536, 0.7116666771239502, 0.7116699466532248, 0.9118841741125406, 0.7096449076768028, 0.9949300060097055, 0.05432345555878602, 0.3802641889115021, 0.5432345555878602, 0.8717206645192029, 0.07924733313810936, 0.3629446945642462, 0.6221909049672792, 0.7096485307804105, 0.9118678615189038, 0.962797768614134, 0.8492429302502519, 0.10615536628128149, 0.9671613004156675, 0.7116666070672341, 0.9627744194278194, 0.7481941393710334, 0.07481941393710334, 0.1995184371656089, 0.9969845777282826, 0.9949389400479827, 0.9988017859080162, 0.7096553056775712, 0.7116674867598329, 0.7116676750175679, 0.9309816199115173, 0.029093175622234915, 0.029093175622234915, 0.952224452970193, 0.9949112078262419, 0.7096445518108347, 0.2008963394459416, 0.1004481697229708, 0.7031371880607956, 0.985807035087894, 0.9671368311917624, 0.7116674484772908, 0.9549681496532771, 0.7031762349968534, 0.7096539098295751, 0.9526717350706004, 0.9951337816048256, 0.999913513521724, 1.000054298025794, 0.07785879615311704, 0.9343055538374044, 0.6013913852866343, 0.046260875791279556, 0.37008700633023645, 0.16959308559601485, 0.7914343994480693, 0.7116660909070094, 0.9997300771262303, 0.9692656296217719, 0.018639723646572535, 0.9993939780017613, 0.9949515253107669, 0.9671611257403291, 0.7096502514220765, 0.9628001262899395, 0.999470682489998, 0.7116673525977034, 0.7116677147648138, 0.9571598855342042, 0.7116674792082446, 0.9421589190028271, 0.052342162166823726, 0.5065128026788712, 0.11688756984897028, 0.3896252328299009, 0.7116749651117144, 0.7889945564101221, 0.03287477318375509, 0.16437386591877542, 0.8825161395902968, 0.09289643574634704, 0.711667170279136, 0.8153064374619406, 0.1482375340839892, 0.09797318062339601, 0.8817586256105641, 0.7116666618770527, 0.9919546380700163, 0.9880248609162342, 0.7096447150248016, 0.7096434587109043, 0.9997354792327184, 0.7116728079662029, 0.7116679522698179, 0.9973265019555593, 0.7096512776688838, 0.7116661590550075, 0.06907373446097394, 0.8979585479926613, 0.9722810748764187, 0.9893795799419128, 0.7116661244217148, 0.9812800273033396, 0.9891546829542605, 0.892962951191847, 0.1575117330907787, 0.7875586654538935, 0.10500782206051913, 0.9671619821769291, 0.9035641902061445, 0.09035641902061445, 0.7096519277999157, 0.7096446444375328, 0.8970557215232519, 0.9492826615555964, 0.9489413530355015, 0.4489362859700939, 0.049881809552232655, 0.4988180955223266, 0.9801031279090118, 0.9609226552216287, 0.7096478177867678, 0.817369577697552, 0.14861265049046402, 0.7096514006508295, 0.9671220693596733, 0.7096438240942734, 0.8931112904646494, 0.10507191652525287, 0.8492502830338239, 0.10615628537922799, 1.0001592654478793, 0.24894211404257005, 0.24894211404257005, 0.4978842280851401, 0.948963909490606, 0.7592572130213007, 0.2530857376737669, 0.9671547774295319, 0.8929314843652016, 0.9708437753132688, 0.07818342583714828, 0.01954585645928707, 0.8991093971272053, 0.938485017551355, 0.9384858252761731, 0.9628177613291546, 0.4187430744311473, 0.5024916893173768, 0.08374861488622945, 0.06909353365553636, 0.8982159375219727, 0.8669636517882031, 0.1576297548705824, 0.7096546043164395, 0.8173780352817256, 0.148614188233041, 0.7096469731339803, 0.9670977853813196, 0.9255674774792367, 0.07555369359820209, 0.07555369359820209, 0.856275194112957, 0.04263038244154848, 0.9378684137140666, 0.9801403788205341, 0.9255931974650468, 1.0055245150701515, 0.7096442992759016, 0.8609746944779655, 0.13245764530430237, 0.7116666973322728, 0.039314046226180496, 0.9042230632021513, 0.07862809245236099, 0.7096435016416586, 0.8153243334037514, 0.14824078789159117, 0.9671101042384932, 0.9118931344941001, 1.0055210477553849, 0.9804730059426949, 1.0054808542629357, 0.709643636229915, 0.06664520871480901, 0.9330329220073262, 0.07440434887729555, 0.818447837650251, 0.1488086977545911, 0.9477290871473664, 0.9310448087491668, 0.07161883144224361, 0.7116673784472418, 0.9897309319528376, 0.2084843458734106, 0.09622354424926644, 0.6896020671197428, 0.9522339494866049, 0.2762844534495034, 0.09209481781650113, 0.6446637247155079, 0.9671394902718149, 0.9235830260975715, 0.05958600168371429, 0.029793000841857147, 0.05636676876268911, 0.9582350689657149, 0.7096441142268005, 0.7116660664603467, 0.7096452178866266, 0.7096487053814472, 0.9489705412947634, 0.7096474616436382, 0.709644394361958, 0.7116719162119504, 0.9994370117243617, 0.9997833180652606, 0.9952862089922038, 0.9628174040153058, 0.08933939585624628, 0.08933939585624628, 0.8040545627062166], \"Term\": [\"accounting\", \"adaptation\", \"adaptation\", \"admirable\", \"adopting\", \"advice\", \"aerial\", \"aerosol\", \"airship\", \"algorithm\", \"amount\", \"amount\", \"amount\", \"application\", \"application\", \"approach\", \"approach\", \"architectural\", \"arctic\", \"arlington\", \"artificial\", \"artist\", \"artist\", \"atmosphere\", \"autonomous\", \"avoided\", \"behavior\", \"bourdelle\", \"building\", \"building\", \"building\", \"bunker\", \"b\\u00e9n\\u00e9dict\", \"carbon\", \"carbon\", \"century\", \"century\", \"century\", \"change\", \"change\", \"change\", \"climate\", \"climate\", \"climate\", \"cognitive\", \"committee\", \"commonsense\", \"compagnie\", \"company\", \"company\", \"company\", \"complement\", \"completed\", \"computational\", \"computer\", \"computer\", \"computer\", \"computing\", \"concentration\", \"concept\", \"confounded\", \"construction\", \"construction\", \"cooling\", \"country\", \"country\", \"country\", \"current\", \"current\", \"current\", \"darker\", \"deadline\", \"decision\", \"declaration\", \"deforestation\", \"described\", \"described\", \"described\", \"design\", \"design\", \"development\", \"development\", \"diarrhea\", \"difficult\", \"dioxide\", \"display\", \"display\", \"drawing\", \"drilling\", \"ecosystem\", \"effect\", \"effect\", \"effect\", \"eiffel\", \"electricity\", \"emission\", \"emitted\", \"emphasising\", \"endless\", \"energy\", \"energy\", \"energy\", \"engineer\", \"environmental\", \"ethnicity\", \"example\", \"example\", \"example\", \"exposition\", \"famous\", \"featured\", \"feedback\", \"feigenbaum\", \"footprint\", \"forest\", \"fossil\", \"france\", \"french\", \"function\", \"function\", \"future\", \"future\", \"future\", \"general\", \"general\", \"germany\", \"giocondo\", \"global\", \"global\", \"greenhouse\", \"growth\", \"gustave\", \"hazard\", \"health\", \"height\", \"hideous\", \"humiliated\", \"hydraulic\", \"illegal\", \"impact\", \"impact\", \"include\", \"include\", \"include\", \"incorporating\", \"increase\", \"increase\", \"increase\", \"increased\", \"increased\", \"indeed\", \"industrial\", \"industrial\", \"installed\", \"installed\", \"integral\", \"intelligence\", \"intelligent\", \"intense\", \"intensity\", \"italian\", \"jacques\", \"judging\", \"knowledge\", \"labeled\", \"lacking\", \"language\", \"language\", \"learning\", \"leonardo\", \"listed\", \"louvre\", \"machine\", \"methane\", \"million\", \"million\", \"million\", \"minute\", \"mitigation\", \"mitigation\", \"mobilizing\", \"monsoon\", \"monument\", \"museum\", \"narrow\", \"natural\", \"natural\", \"natural\", \"network\", \"neural\", \"notified\", \"observed\", \"observed\", \"obstructs\", \"october\", \"organism\", \"original\", \"original\", \"painted\", \"painted\", \"painting\", \"people\", \"people\", \"people\", \"perception\", \"picture\", \"picture\", \"pillar\", \"population\", \"portrait\", \"problem\", \"problem\", \"problem\", \"processing\", \"program\", \"protocol\", \"public\", \"public\", \"public\", \"reasoning\", \"reasoning\", \"reduce\", \"reduce\", \"reflection\", \"region\", \"region\", \"reinforced\", \"renaissance\", \"renewable\", \"research\", \"research\", \"research\", \"researcher\", \"researcher\", \"restaurant\", \"rising\", \"robotics\", \"saharan\", \"scenario\", \"scenario\", \"seasonal\", \"second\", \"second\", \"second\", \"shorter\", \"significant\", \"significant\", \"sketch\", \"software\", \"solving\", \"specific\", \"statistical\", \"strengthen\", \"structure\", \"structure\", \"subject\", \"subject\", \"subject\", \"sunlight\", \"surface\", \"surface\", \"surrounding\", \"symbolic\", \"system\", \"system\", \"system\", \"tallest\", \"technology\", \"technology\", \"technology\", \"television\", \"temperature\", \"temperature\", \"temperature\", \"theory\", \"theory\", \"thermometer\", \"thierry\", \"timescale\", \"trading\", \"turing\", \"tyndall\", \"unavoidable\", \"unworried\", \"vasari\", \"visitor\", \"warming\", \"weather\", \"whether\", \"whether\", \"whether\"]}, \"R\": 30, \"lambda.step\": 0.01, \"plot.opts\": {\"xlab\": \"PC1\", \"ylab\": \"PC2\"}, \"topic.order\": [1, 2, 3, 4]};\n",
              "\n",
              "function LDAvis_load_lib(url, callback){\n",
              "  var s = document.createElement('script');\n",
              "  s.src = url;\n",
              "  s.async = true;\n",
              "  s.onreadystatechange = s.onload = callback;\n",
              "  s.onerror = function(){console.warn(\"failed to load library \" + url);};\n",
              "  document.getElementsByTagName(\"head\")[0].appendChild(s);\n",
              "}\n",
              "\n",
              "if(typeof(LDAvis) !== \"undefined\"){\n",
              "   // already loaded: just create the visualization\n",
              "   !function(LDAvis){\n",
              "       new LDAvis(\"#\" + \"ldavis_el1031399355783814323928730453\", ldavis_el1031399355783814323928730453_data);\n",
              "   }(LDAvis);\n",
              "}else if(typeof define === \"function\" && define.amd){\n",
              "   // require.js is available: use it to load d3/LDAvis\n",
              "   require.config({paths: {d3: \"https://cdnjs.cloudflare.com/ajax/libs/d3/3.5.5/d3.min\"}});\n",
              "   require([\"d3\"], function(d3){\n",
              "      window.d3 = d3;\n",
              "      LDAvis_load_lib(\"https://cdn.rawgit.com/bmabey/pyLDAvis/files/ldavis.v1.0.0.js\", function(){\n",
              "        new LDAvis(\"#\" + \"ldavis_el1031399355783814323928730453\", ldavis_el1031399355783814323928730453_data);\n",
              "      });\n",
              "    });\n",
              "}else{\n",
              "    // require.js not available: dynamically load d3 & LDAvis\n",
              "    LDAvis_load_lib(\"https://cdnjs.cloudflare.com/ajax/libs/d3/3.5.5/d3.min.js\", function(){\n",
              "         LDAvis_load_lib(\"https://cdn.rawgit.com/bmabey/pyLDAvis/files/ldavis.v1.0.0.js\", function(){\n",
              "                 new LDAvis(\"#\" + \"ldavis_el1031399355783814323928730453\", ldavis_el1031399355783814323928730453_data);\n",
              "            })\n",
              "         });\n",
              "}\n",
              "</script>"
            ],
            "text/plain": [
              "<IPython.core.display.HTML object>"
            ]
          },
          "metadata": {
            "tags": []
          },
          "execution_count": 68
        }
      ]
    },
    {
      "cell_type": "markdown",
      "metadata": {
        "id": "njQHPTan99VG"
      },
      "source": [
        "Topic Modeling via LSI\n",
        "Latent Semantic Indexing (LSI)"
      ]
    },
    {
      "cell_type": "code",
      "metadata": {
        "id": "q9-D4yBK93OY",
        "outputId": "cf70bc55-391e-4259-ed46-1e9786176e4c",
        "colab": {
          "base_uri": "https://localhost:8080/",
          "height": 105
        }
      },
      "source": [
        "from gensim.models import LsiModel\n",
        "\n",
        "lsi_model = LsiModel(gensim_corpus, num_topics=4, id2word=gensim_dictionary)\n",
        "topics = lsi_model.print_topics(num_words=10)\n",
        "for topic in topics:\n",
        "    print(topic)"
      ],
      "execution_count": 69,
      "outputs": [
        {
          "output_type": "stream",
          "text": [
            "(0, '0.518*\"climate\" + 0.382*\"change\" + 0.280*\"warming\" + 0.233*\"emission\" + 0.220*\"global\" + 0.199*\"greenhouse\" + 0.136*\"energy\" + 0.133*\"effect\" + 0.129*\"temperature\" + 0.125*\"carbon\"')\n",
            "(1, '-0.428*\"intelligence\" + -0.332*\"machine\" + -0.293*\"artificial\" + -0.240*\"problem\" + -0.216*\"system\" + -0.179*\"knowledge\" + -0.175*\"research\" + 0.162*\"climate\" + -0.141*\"approach\" + -0.140*\"learning\"')\n",
            "(2, '-0.690*\"painting\" + -0.326*\"leonardo\" + -0.181*\"eiffel\" + -0.180*\"louvre\" + -0.177*\"portrait\" + -0.153*\"french\" + -0.132*\"century\" + -0.121*\"museum\" + -0.096*\"original\" + -0.092*\"italian\"')\n",
            "(3, '-0.657*\"eiffel\" + 0.268*\"painting\" + -0.181*\"second\" + -0.145*\"exposition\" + -0.145*\"structure\" + 0.131*\"leonardo\" + -0.128*\"tallest\" + -0.117*\"engineer\" + -0.108*\"design\" + -0.102*\"restaurant\"')\n"
          ],
          "name": "stdout"
        }
      ]
    },
    {
      "cell_type": "code",
      "metadata": {
        "id": "XHpQVmLJ-Gid"
      },
      "source": [
        ""
      ],
      "execution_count": null,
      "outputs": []
    },
    {
      "cell_type": "code",
      "metadata": {
        "id": "f1PtAdvHVn_V"
      },
      "source": [
        ""
      ],
      "execution_count": null,
      "outputs": []
    }
  ]
}