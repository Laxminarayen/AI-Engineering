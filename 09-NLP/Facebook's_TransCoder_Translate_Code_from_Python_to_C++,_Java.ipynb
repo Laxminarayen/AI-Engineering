{
  "nbformat": 4,
  "nbformat_minor": 0,
  "metadata": {
    "colab": {
      "name": "Facebook's TransCoder : Translate Code from Python to C++, Java.ipynb",
      "provenance": [],
      "authorship_tag": "ABX9TyOeNkSGSCs1tvmpmR+qGHj8",
      "include_colab_link": true
    },
    "kernelspec": {
      "name": "python3",
      "display_name": "Python 3"
    },
    "accelerator": "GPU"
  },
  "cells": [
    {
      "cell_type": "markdown",
      "metadata": {
        "id": "view-in-github",
        "colab_type": "text"
      },
      "source": [
        "<a href=\"https://colab.research.google.com/github/plthiyagu/Personnel/blob/master/Facebook's_TransCoder_Translate_Code_from_Python_to_C%2B%2B%2C_Java.ipynb\" target=\"_parent\"><img src=\"https://colab.research.google.com/assets/colab-badge.svg\" alt=\"Open In Colab\"/></a>"
      ]
    },
    {
      "cell_type": "code",
      "metadata": {
        "id": "7xip9Y2Be9ID",
        "colab_type": "code",
        "colab": {}
      },
      "source": [
        "import os"
      ],
      "execution_count": 19,
      "outputs": []
    },
    {
      "cell_type": "code",
      "metadata": {
        "id": "RGBf12ALfOPM",
        "colab_type": "code",
        "colab": {
          "base_uri": "https://localhost:8080/",
          "height": 68
        },
        "outputId": "c828398c-1a20-4929-8c16-13c3d778e9ef"
      },
      "source": [
        "!pip install six\n",
        "!pip install sacrebleu==\"1.2.11\""
      ],
      "execution_count": 18,
      "outputs": [
        {
          "output_type": "stream",
          "text": [
            "Requirement already satisfied: six in /usr/local/lib/python3.6/dist-packages (1.15.0)\n",
            "Requirement already satisfied: sacrebleu==1.2.11 in /usr/local/lib/python3.6/dist-packages (1.2.11)\n",
            "Requirement already satisfied: typing in /usr/local/lib/python3.6/dist-packages (from sacrebleu==1.2.11) (3.7.4.3)\n"
          ],
          "name": "stdout"
        }
      ]
    },
    {
      "cell_type": "code",
      "metadata": {
        "id": "Y3VKZvJQfU4o",
        "colab_type": "code",
        "colab": {
          "base_uri": "https://localhost:8080/",
          "height": 85
        },
        "outputId": "82eb8e67-5b6e-4a73-c115-67dc937221a0"
      },
      "source": [
        "!pip install submitit\n",
        "!pip install clang"
      ],
      "execution_count": 20,
      "outputs": [
        {
          "output_type": "stream",
          "text": [
            "Requirement already satisfied: submitit in /usr/local/lib/python3.6/dist-packages (1.0.0)\n",
            "Requirement already satisfied: typing-extensions>=3.7.4.2 in /usr/local/lib/python3.6/dist-packages (from submitit) (3.7.4.2)\n",
            "Requirement already satisfied: cloudpickle>=1.2.1 in /usr/local/lib/python3.6/dist-packages (from submitit) (1.3.0)\n",
            "Requirement already satisfied: clang in /usr/local/lib/python3.6/dist-packages (6.0.0.2)\n"
          ],
          "name": "stdout"
        }
      ]
    },
    {
      "cell_type": "code",
      "metadata": {
        "id": "4yzAk5qPfb0f",
        "colab_type": "code",
        "colab": {
          "base_uri": "https://localhost:8080/",
          "height": 34
        },
        "outputId": "aeaa7335-9cd5-4afa-df1f-6b7e0309f026"
      },
      "source": [
        "# !sudo pip install clang\n",
        "! cd /usr/lib/x86_64-linux-gnu/\n",
        "! sudo ln -s libclang-6.0.so.1 libclang.so\n",
        "# ! cp libclang-6.0.so.1 libclang.so"
      ],
      "execution_count": 21,
      "outputs": [
        {
          "output_type": "stream",
          "text": [
            "ln: failed to create symbolic link 'libclang.so': File exists\n"
          ],
          "name": "stdout"
        }
      ]
    },
    {
      "cell_type": "code",
      "metadata": {
        "id": "8hVBRk4-fuDk",
        "colab_type": "code",
        "colab": {
          "base_uri": "https://localhost:8080/",
          "height": 34
        },
        "outputId": "bdcff030-0419-4ad1-d73a-c095ec5f548d"
      },
      "source": [
        "!git clone https://github.com/glample/fastBPE"
      ],
      "execution_count": 10,
      "outputs": [
        {
          "output_type": "stream",
          "text": [
            "fatal: destination path 'fastBPE' already exists and is not an empty directory.\n"
          ],
          "name": "stdout"
        }
      ]
    },
    {
      "cell_type": "code",
      "metadata": {
        "id": "X-z1MPbJfx8-",
        "colab_type": "code",
        "colab": {
          "base_uri": "https://localhost:8080/",
          "height": 34
        },
        "outputId": "9def32a6-fee3-4723-a71e-f7ae268d4f65"
      },
      "source": [
        "!ls"
      ],
      "execution_count": 11,
      "outputs": [
        {
          "output_type": "stream",
          "text": [
            "apex  fastBPE  libclang.so  model_2.pth  sample_data  TransCoder\n"
          ],
          "name": "stdout"
        }
      ]
    },
    {
      "cell_type": "code",
      "metadata": {
        "id": "LvG8YY3jfzXC",
        "colab_type": "code",
        "colab": {
          "base_uri": "https://localhost:8080/",
          "height": 51
        },
        "outputId": "ef3c296a-216f-4707-dbd7-61a52d8aea8e"
      },
      "source": [
        "!ls fastBPE/"
      ],
      "execution_count": 5,
      "outputs": [
        {
          "output_type": "stream",
          "text": [
            "build  fastBPE\t\t LICENSE      README.md\n",
            "dist   fastBPE.egg-info  MANIFEST.in  setup.py\n"
          ],
          "name": "stdout"
        }
      ]
    },
    {
      "cell_type": "code",
      "metadata": {
        "id": "l-ezVL_Xf1yJ",
        "colab_type": "code",
        "colab": {
          "base_uri": "https://localhost:8080/",
          "height": 34
        },
        "outputId": "b7778cf5-3d61-4d46-9fbb-1069492fb2a8"
      },
      "source": [
        "!ls fastBPE/fastBPE"
      ],
      "execution_count": 6,
      "outputs": [
        {
          "output_type": "stream",
          "text": [
            "fastBPE.cpp  fastBPE.hpp  fastBPE.pyx  main.cc\n"
          ],
          "name": "stdout"
        }
      ]
    },
    {
      "cell_type": "code",
      "metadata": {
        "id": "Arto4ahWf6RG",
        "colab_type": "code",
        "colab": {}
      },
      "source": [
        "os.chdir(\"fastBPE\")"
      ],
      "execution_count": null,
      "outputs": []
    },
    {
      "cell_type": "code",
      "metadata": {
        "id": "S7PcmZCigA7Y",
        "colab_type": "code",
        "colab": {
          "base_uri": "https://localhost:8080/",
          "height": 34
        },
        "outputId": "114f79d9-54e2-4b86-8d00-2626e30177c4"
      },
      "source": [
        "!python setup.py install"
      ],
      "execution_count": 12,
      "outputs": [
        {
          "output_type": "stream",
          "text": [
            "python3: can't open file 'setup.py': [Errno 2] No such file or directory\n"
          ],
          "name": "stdout"
        }
      ]
    },
    {
      "cell_type": "code",
      "metadata": {
        "id": "uVNatU-jgDv4",
        "colab_type": "code",
        "colab": {}
      },
      "source": [
        "os.chdir(\"..\")"
      ],
      "execution_count": null,
      "outputs": []
    },
    {
      "cell_type": "code",
      "metadata": {
        "id": "YiV3tKbUgLZV",
        "colab_type": "code",
        "colab": {
          "base_uri": "https://localhost:8080/",
          "height": 34
        },
        "outputId": "886e8c98-1ada-47c4-f1b7-1ada3c77e649"
      },
      "source": [
        "!pwd"
      ],
      "execution_count": 13,
      "outputs": [
        {
          "output_type": "stream",
          "text": [
            "/content\n"
          ],
          "name": "stdout"
        }
      ]
    },
    {
      "cell_type": "code",
      "metadata": {
        "id": "DMXwQqN8gM6L",
        "colab_type": "code",
        "colab": {}
      },
      "source": [
        "!git clone https://github.com/NVIDIA/apex"
      ],
      "execution_count": null,
      "outputs": []
    },
    {
      "cell_type": "code",
      "metadata": {
        "id": "B1YAsY7ngR4S",
        "colab_type": "code",
        "colab": {}
      },
      "source": [
        "os.chdir(\"apex\")\n",
        "!pip install -v --no-cache-dir ./\n"
      ],
      "execution_count": null,
      "outputs": []
    },
    {
      "cell_type": "code",
      "metadata": {
        "id": "8xb12pRkgesT",
        "colab_type": "code",
        "colab": {}
      },
      "source": [
        "os.chdir(\"..\")"
      ],
      "execution_count": null,
      "outputs": []
    },
    {
      "cell_type": "code",
      "metadata": {
        "id": "WGOb_cY1gkt_",
        "colab_type": "code",
        "colab": {}
      },
      "source": [
        "!git clone https://github.com/facebookresearch/TransCoder.git"
      ],
      "execution_count": null,
      "outputs": []
    },
    {
      "cell_type": "code",
      "metadata": {
        "id": "QZXWDBiFgmz5",
        "colab_type": "code",
        "colab": {}
      },
      "source": [
        "!ls"
      ],
      "execution_count": null,
      "outputs": []
    },
    {
      "cell_type": "code",
      "metadata": {
        "id": "s7T79bUMgqAB",
        "colab_type": "code",
        "colab": {}
      },
      "source": [
        "!wget https://dl.fbaipublicfiles.com/transcoder/model_2.pth"
      ],
      "execution_count": null,
      "outputs": []
    },
    {
      "cell_type": "code",
      "metadata": {
        "id": "-aHaRSa-gtQe",
        "colab_type": "code",
        "colab": {
          "base_uri": "https://localhost:8080/",
          "height": 462
        },
        "outputId": "d9fa8c3d-1677-4275-837c-b85f41b56320"
      },
      "source": [
        "!python TransCoder/translate.py --src_lang python --tgt_lang java \\\\\n",
        "--BPE_path TransCoder/data/BPE_with_comments_codes --model_path model_2.pth < max_inp.py"
      ],
      "execution_count": 15,
      "outputs": [
        {
          "output_type": "stream",
          "text": [
            "Traceback (most recent call last):\n",
            "  File \"/usr/local/lib/python3.6/dist-packages/clang/cindex.py\", line 4129, in get_cindex_library\n",
            "    library = cdll.LoadLibrary(self.get_filename())\n",
            "  File \"/usr/lib/python3.6/ctypes/__init__.py\", line 426, in LoadLibrary\n",
            "    return self._dlltype(name)\n",
            "  File \"/usr/lib/python3.6/ctypes/__init__.py\", line 348, in __init__\n",
            "    self._handle = _dlopen(self._name, mode)\n",
            "OSError: /usr/lib/llvm-7/lib//libclang.so: cannot open shared object file: No such file or directory\n",
            "\n",
            "During handling of the above exception, another exception occurred:\n",
            "\n",
            "Traceback (most recent call last):\n",
            "  File \"TransCoder/translate.py\", line 24, in <module>\n",
            "    import preprocessing.src.code_tokenizer as code_tokenizer\n",
            "  File \"/content/TransCoder/preprocessing/src/code_tokenizer.py\", line 29, in <module>\n",
            "    idx = clang.cindex.Index.create()\n",
            "  File \"/usr/local/lib/python3.6/dist-packages/clang/cindex.py\", line 2666, in create\n",
            "    return Index(conf.lib.clang_createIndex(excludeDecls, 0))\n",
            "  File \"/usr/local/lib/python3.6/dist-packages/clang/cindex.py\", line 198, in __get__\n",
            "    value = self.wrapped(instance)\n",
            "  File \"/usr/local/lib/python3.6/dist-packages/clang/cindex.py\", line 4103, in lib\n",
            "    lib = self.get_cindex_library()\n",
            "  File \"/usr/local/lib/python3.6/dist-packages/clang/cindex.py\", line 4134, in get_cindex_library\n",
            "    raise LibclangError(msg)\n",
            "clang.cindex.LibclangError: /usr/lib/llvm-7/lib//libclang.so: cannot open shared object file: No such file or directory. To provide a path to libclang use Config.set_library_path() or Config.set_library_file().\n"
          ],
          "name": "stdout"
        }
      ]
    },
    {
      "cell_type": "code",
      "metadata": {
        "id": "9KxAMRfLiepg",
        "colab_type": "code",
        "colab": {
          "base_uri": "https://localhost:8080/",
          "height": 462
        },
        "outputId": "1d88c6b8-b3fb-4805-ba54-5c629cbf95b3"
      },
      "source": [
        "!python TransCoder/translate.py --src_lang python --tgt_lang java \\\\\n",
        "--BPE_path TransCoder/data/BPE_with_comments_codes --model_path model_2.pth < fibo.py"
      ],
      "execution_count": 16,
      "outputs": [
        {
          "output_type": "stream",
          "text": [
            "Traceback (most recent call last):\n",
            "  File \"/usr/local/lib/python3.6/dist-packages/clang/cindex.py\", line 4129, in get_cindex_library\n",
            "    library = cdll.LoadLibrary(self.get_filename())\n",
            "  File \"/usr/lib/python3.6/ctypes/__init__.py\", line 426, in LoadLibrary\n",
            "    return self._dlltype(name)\n",
            "  File \"/usr/lib/python3.6/ctypes/__init__.py\", line 348, in __init__\n",
            "    self._handle = _dlopen(self._name, mode)\n",
            "OSError: /usr/lib/llvm-7/lib//libclang.so: cannot open shared object file: No such file or directory\n",
            "\n",
            "During handling of the above exception, another exception occurred:\n",
            "\n",
            "Traceback (most recent call last):\n",
            "  File \"TransCoder/translate.py\", line 24, in <module>\n",
            "    import preprocessing.src.code_tokenizer as code_tokenizer\n",
            "  File \"/content/TransCoder/preprocessing/src/code_tokenizer.py\", line 29, in <module>\n",
            "    idx = clang.cindex.Index.create()\n",
            "  File \"/usr/local/lib/python3.6/dist-packages/clang/cindex.py\", line 2666, in create\n",
            "    return Index(conf.lib.clang_createIndex(excludeDecls, 0))\n",
            "  File \"/usr/local/lib/python3.6/dist-packages/clang/cindex.py\", line 198, in __get__\n",
            "    value = self.wrapped(instance)\n",
            "  File \"/usr/local/lib/python3.6/dist-packages/clang/cindex.py\", line 4103, in lib\n",
            "    lib = self.get_cindex_library()\n",
            "  File \"/usr/local/lib/python3.6/dist-packages/clang/cindex.py\", line 4134, in get_cindex_library\n",
            "    raise LibclangError(msg)\n",
            "clang.cindex.LibclangError: /usr/lib/llvm-7/lib//libclang.so: cannot open shared object file: No such file or directory. To provide a path to libclang use Config.set_library_path() or Config.set_library_file().\n"
          ],
          "name": "stdout"
        }
      ]
    },
    {
      "cell_type": "code",
      "metadata": {
        "id": "DX3wK7nWiemC",
        "colab_type": "code",
        "colab": {}
      },
      "source": [
        ""
      ],
      "execution_count": null,
      "outputs": []
    }
  ]
}