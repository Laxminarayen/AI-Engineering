{
  "nbformat": 4,
  "nbformat_minor": 0,
  "metadata": {
    "colab": {
      "name": "Textblob Translate Learning.ipynb",
      "provenance": [],
      "authorship_tag": "ABX9TyN3MYJ3gb5TtydtFPPVbZH7",
      "include_colab_link": true
    },
    "kernelspec": {
      "name": "python3",
      "display_name": "Python 3"
    }
  },
  "cells": [
    {
      "cell_type": "markdown",
      "metadata": {
        "id": "view-in-github",
        "colab_type": "text"
      },
      "source": [
        "<a href=\"https://colab.research.google.com/github/plthiyagu/Personnel/blob/master/Textblob_Translate_Learning.ipynb\" target=\"_parent\"><img src=\"https://colab.research.google.com/assets/colab-badge.svg\" alt=\"Open In Colab\"/></a>"
      ]
    },
    {
      "cell_type": "code",
      "metadata": {
        "id": "4IqN2kjK58f9",
        "outputId": "78a7631d-1058-4474-aa78-e9122a50ef3a",
        "colab": {
          "base_uri": "https://localhost:8080/",
          "height": 306
        }
      },
      "source": [
        "!pip install -U textblob\n",
        "!python -m textblob.download_corpora"
      ],
      "execution_count": 2,
      "outputs": [
        {
          "output_type": "stream",
          "text": [
            "Requirement already up-to-date: textblob in /usr/local/lib/python3.6/dist-packages (0.15.3)\n",
            "Requirement already satisfied, skipping upgrade: nltk>=3.1 in /usr/local/lib/python3.6/dist-packages (from textblob) (3.2.5)\n",
            "Requirement already satisfied, skipping upgrade: six in /usr/local/lib/python3.6/dist-packages (from nltk>=3.1->textblob) (1.15.0)\n",
            "[nltk_data] Downloading package brown to /root/nltk_data...\n",
            "[nltk_data]   Unzipping corpora/brown.zip.\n",
            "[nltk_data] Downloading package punkt to /root/nltk_data...\n",
            "[nltk_data]   Unzipping tokenizers/punkt.zip.\n",
            "[nltk_data] Downloading package wordnet to /root/nltk_data...\n",
            "[nltk_data]   Unzipping corpora/wordnet.zip.\n",
            "[nltk_data] Downloading package averaged_perceptron_tagger to\n",
            "[nltk_data]     /root/nltk_data...\n",
            "[nltk_data]   Unzipping taggers/averaged_perceptron_tagger.zip.\n",
            "[nltk_data] Downloading package conll2000 to /root/nltk_data...\n",
            "[nltk_data]   Unzipping corpora/conll2000.zip.\n",
            "[nltk_data] Downloading package movie_reviews to /root/nltk_data...\n",
            "[nltk_data]   Unzipping corpora/movie_reviews.zip.\n",
            "Finished.\n"
          ],
          "name": "stdout"
        }
      ]
    },
    {
      "cell_type": "markdown",
      "metadata": {
        "id": "sNB8o6gT6Qqr"
      },
      "source": [
        "TextBlob is a text-processing library written in Python. According to its documentation, it can be used for part-of-speech tagging, parsing, sentiment analysis, spelling correction, translation, and more. In this article, we'll focus on text translation.\n",
        "\n"
      ]
    },
    {
      "cell_type": "code",
      "metadata": {
        "id": "19DYKE9E5_kz",
        "outputId": "7639ae03-92ce-4d8e-aeaf-297f70dc9b11",
        "colab": {
          "base_uri": "https://localhost:8080/",
          "height": 34
        }
      },
      "source": [
        "from textblob import TextBlob\n",
        "\n",
        "blob = TextBlob(\"Buongiorno!\")\n",
        "print(blob.translate(to='en'))"
      ],
      "execution_count": 3,
      "outputs": [
        {
          "output_type": "stream",
          "text": [
            "Good morning!\n"
          ],
          "name": "stdout"
        }
      ]
    },
    {
      "cell_type": "markdown",
      "metadata": {
        "id": "5GiP5l3q6doK"
      },
      "source": [
        "Sentence Translation From English into Hindi\n"
      ]
    },
    {
      "cell_type": "code",
      "metadata": {
        "id": "1RZj4HGo6KdC",
        "outputId": "353f366d-3b70-446c-b49a-44011a444876",
        "colab": {
          "base_uri": "https://localhost:8080/",
          "height": 34
        }
      },
      "source": [
        "blob = TextBlob('TextBlob is a great tool for developers')\n",
        "print(blob.translate(to='hi'))"
      ],
      "execution_count": 4,
      "outputs": [
        {
          "output_type": "stream",
          "text": [
            "TextBlob डेवलपर्स के लिए एक बढ़िया टूल है\n"
          ],
          "name": "stdout"
        }
      ]
    },
    {
      "cell_type": "markdown",
      "metadata": {
        "id": "MCLgDeGK6gv4"
      },
      "source": [
        "Translating Russian Poetry into Croatian\n"
      ]
    },
    {
      "cell_type": "markdown",
      "metadata": {
        "id": "YksvFkov6jvC"
      },
      "source": [
        "https://stackabuse.com/translating-strings-in-python-with-textblob/"
      ]
    },
    {
      "cell_type": "code",
      "metadata": {
        "id": "MM9I9xS26qPx",
        "outputId": "1305cbcf-af40-4b05-f274-2971c94fe988",
        "colab": {
          "base_uri": "https://localhost:8080/",
          "height": 34
        }
      },
      "source": [
        "from textblob import TextBlob\n",
        "\n",
        "poem = 'Послушайте! Ведь, если звезды зажигают - значит - это кому-нибудь нужно? Значит - кто-то хочет, чтобы они были? Значит - кто-то называет эти плевочки жемчужиной?'\n",
        "\n",
        "blob = TextBlob(poem)\n",
        "print(blob.translate(to='hr'))"
      ],
      "execution_count": 6,
      "outputs": [
        {
          "output_type": "stream",
          "text": [
            "Slušati! Napokon, ako zvijezde svijetle, znači da je nekome potrebna? Dakle - netko želi da to budu? Dakle - netko ove pljuvačke naziva biserom?\n"
          ],
          "name": "stdout"
        }
      ]
    },
    {
      "cell_type": "markdown",
      "metadata": {
        "id": "_eAf94tX64Yn"
      },
      "source": [
        "Translating Array of German Words into English"
      ]
    },
    {
      "cell_type": "code",
      "metadata": {
        "id": "hknOnjJ96yEm",
        "outputId": "4599f013-cbcf-4ecc-df1c-55d0ebb06410",
        "colab": {
          "base_uri": "https://localhost:8080/",
          "height": 187
        }
      },
      "source": [
        "from textblob import TextBlob\n",
        "\n",
        "worter =  ['einer',  'zwei',  'drei',  'vier',  'fünf',  'sechs',  'sieben',  'acht',  'neun',  'zehn']\n",
        "\n",
        "for w in worter:\n",
        "\tblob = TextBlob(w)\n",
        "\tprint(blob.translate(to='en'))"
      ],
      "execution_count": 7,
      "outputs": [
        {
          "output_type": "stream",
          "text": [
            "one\n",
            "two\n",
            "three\n",
            "four\n",
            "five\n",
            "six\n",
            "seven\n",
            "eight\n",
            "nine\n",
            "ten\n"
          ],
          "name": "stdout"
        }
      ]
    },
    {
      "cell_type": "markdown",
      "metadata": {
        "id": "AUU-jOld7CCF"
      },
      "source": [
        "Translating Food from English into French\n"
      ]
    },
    {
      "cell_type": "code",
      "metadata": {
        "id": "pYCDehHb689s",
        "outputId": "110b4e11-ec96-4b2a-e9ce-1b612b0539f7",
        "colab": {
          "base_uri": "https://localhost:8080/",
          "height": 34
        }
      },
      "source": [
        "from textblob import TextBlob\n",
        "\n",
        "blob = TextBlob('An apple')\n",
        "print(blob.translate(to='fr'))"
      ],
      "execution_count": 8,
      "outputs": [
        {
          "output_type": "stream",
          "text": [
            "Une pomme\n"
          ],
          "name": "stdout"
        }
      ]
    },
    {
      "cell_type": "markdown",
      "metadata": {
        "id": "5nGhgyMc7LJB"
      },
      "source": [
        "Translation is an interesting but difficult computer problem. Deep learning and other AI methods are becoming increasingly good at understanding language and performing automated language translation. TextBlob is one of the tools available to developers that can be used for performing such automated language translations.\n",
        "\n"
      ]
    },
    {
      "cell_type": "code",
      "metadata": {
        "id": "rRqEY_TD7Fa3"
      },
      "source": [
        ""
      ],
      "execution_count": null,
      "outputs": []
    }
  ]
}