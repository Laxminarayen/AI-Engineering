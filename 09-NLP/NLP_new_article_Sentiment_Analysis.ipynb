{
  "nbformat": 4,
  "nbformat_minor": 0,
  "metadata": {
    "colab": {
      "name": "NLP new article  Sentiment Analysis.ipynb",
      "provenance": [],
      "authorship_tag": "ABX9TyPupCzvnZpNLQGh46b4N1Vb",
      "include_colab_link": true
    },
    "kernelspec": {
      "name": "python3",
      "display_name": "Python 3"
    }
  },
  "cells": [
    {
      "cell_type": "markdown",
      "metadata": {
        "id": "view-in-github",
        "colab_type": "text"
      },
      "source": [
        "<a href=\"https://colab.research.google.com/github/plthiyagu/Personnel/blob/master/NLP_new_article_Sentiment_Analysis.ipynb\" target=\"_parent\"><img src=\"https://colab.research.google.com/assets/colab-badge.svg\" alt=\"Open In Colab\"/></a>"
      ]
    },
    {
      "cell_type": "code",
      "metadata": {
        "id": "ZOEgJsEavJzM",
        "colab_type": "code",
        "colab": {
          "base_uri": "https://localhost:8080/",
          "height": 887
        },
        "outputId": "7317dad1-2b85-4f5d-ea52-056963af8a75"
      },
      "source": [
        "#installing packages\n",
        "%pip install nltk\n",
        "%pip install newspaper3k"
      ],
      "execution_count": 1,
      "outputs": [
        {
          "output_type": "stream",
          "text": [
            "Requirement already satisfied: nltk in /usr/local/lib/python3.6/dist-packages (3.2.5)\n",
            "Requirement already satisfied: six in /usr/local/lib/python3.6/dist-packages (from nltk) (1.15.0)\n",
            "Collecting newspaper3k\n",
            "\u001b[?25l  Downloading https://files.pythonhosted.org/packages/d7/b9/51afecb35bb61b188a4b44868001de348a0e8134b4dfa00ffc191567c4b9/newspaper3k-0.2.8-py3-none-any.whl (211kB)\n",
            "\u001b[K     |████████████████████████████████| 215kB 2.8MB/s \n",
            "\u001b[?25hRequirement already satisfied: python-dateutil>=2.5.3 in /usr/local/lib/python3.6/dist-packages (from newspaper3k) (2.8.1)\n",
            "Requirement already satisfied: beautifulsoup4>=4.4.1 in /usr/local/lib/python3.6/dist-packages (from newspaper3k) (4.6.3)\n",
            "Collecting tinysegmenter==0.3\n",
            "  Downloading https://files.pythonhosted.org/packages/17/82/86982e4b6d16e4febc79c2a1d68ee3b707e8a020c5d2bc4af8052d0f136a/tinysegmenter-0.3.tar.gz\n",
            "Collecting jieba3k>=0.35.1\n",
            "\u001b[?25l  Downloading https://files.pythonhosted.org/packages/a9/cb/2c8332bcdc14d33b0bedd18ae0a4981a069c3513e445120da3c3f23a8aaa/jieba3k-0.35.1.zip (7.4MB)\n",
            "\u001b[K     |████████████████████████████████| 7.4MB 6.6MB/s \n",
            "\u001b[?25hRequirement already satisfied: PyYAML>=3.11 in /usr/local/lib/python3.6/dist-packages (from newspaper3k) (3.13)\n",
            "Collecting feedfinder2>=0.0.4\n",
            "  Downloading https://files.pythonhosted.org/packages/35/82/1251fefec3bb4b03fd966c7e7f7a41c9fc2bb00d823a34c13f847fd61406/feedfinder2-0.0.4.tar.gz\n",
            "Requirement already satisfied: nltk>=3.2.1 in /usr/local/lib/python3.6/dist-packages (from newspaper3k) (3.2.5)\n",
            "Collecting tldextract>=2.0.1\n",
            "\u001b[?25l  Downloading https://files.pythonhosted.org/packages/12/cf/d0ff82625e53bd245d6173ce6333d190abbfcd94e4c30e54b4e16b474216/tldextract-2.2.3-py2.py3-none-any.whl (48kB)\n",
            "\u001b[K     |████████████████████████████████| 51kB 6.7MB/s \n",
            "\u001b[?25hRequirement already satisfied: requests>=2.10.0 in /usr/local/lib/python3.6/dist-packages (from newspaper3k) (2.23.0)\n",
            "Requirement already satisfied: lxml>=3.6.0 in /usr/local/lib/python3.6/dist-packages (from newspaper3k) (4.2.6)\n",
            "Collecting cssselect>=0.9.2\n",
            "  Downloading https://files.pythonhosted.org/packages/3b/d4/3b5c17f00cce85b9a1e6f91096e1cc8e8ede2e1be8e96b87ce1ed09e92c5/cssselect-1.1.0-py2.py3-none-any.whl\n",
            "Collecting feedparser>=5.2.1\n",
            "\u001b[?25l  Downloading https://files.pythonhosted.org/packages/91/d8/7d37fec71ff7c9dbcdd80d2b48bcdd86d6af502156fc93846fb0102cb2c4/feedparser-5.2.1.tar.bz2 (192kB)\n",
            "\u001b[K     |████████████████████████████████| 194kB 42.4MB/s \n",
            "\u001b[?25hRequirement already satisfied: Pillow>=3.3.0 in /usr/local/lib/python3.6/dist-packages (from newspaper3k) (7.0.0)\n",
            "Requirement already satisfied: six>=1.5 in /usr/local/lib/python3.6/dist-packages (from python-dateutil>=2.5.3->newspaper3k) (1.15.0)\n",
            "Requirement already satisfied: idna in /usr/local/lib/python3.6/dist-packages (from tldextract>=2.0.1->newspaper3k) (2.10)\n",
            "Collecting requests-file>=1.4\n",
            "  Downloading https://files.pythonhosted.org/packages/77/86/cdb5e8eaed90796aa83a6d9f75cfbd37af553c47a291cd47bc410ef9bdb2/requests_file-1.5.1-py2.py3-none-any.whl\n",
            "Requirement already satisfied: chardet<4,>=3.0.2 in /usr/local/lib/python3.6/dist-packages (from requests>=2.10.0->newspaper3k) (3.0.4)\n",
            "Requirement already satisfied: urllib3!=1.25.0,!=1.25.1,<1.26,>=1.21.1 in /usr/local/lib/python3.6/dist-packages (from requests>=2.10.0->newspaper3k) (1.24.3)\n",
            "Requirement already satisfied: certifi>=2017.4.17 in /usr/local/lib/python3.6/dist-packages (from requests>=2.10.0->newspaper3k) (2020.6.20)\n",
            "Building wheels for collected packages: tinysegmenter, jieba3k, feedfinder2, feedparser\n",
            "  Building wheel for tinysegmenter (setup.py) ... \u001b[?25l\u001b[?25hdone\n",
            "  Created wheel for tinysegmenter: filename=tinysegmenter-0.3-cp36-none-any.whl size=13539 sha256=76487d6d9e6a53cc34100d8593512030fdd97b24ca1c52e9fd916b8d3fb7ae84\n",
            "  Stored in directory: /root/.cache/pip/wheels/81/2b/43/a02ede72324dd40cdd7ca53aad718c7710628e91b8b0dc0f02\n",
            "  Building wheel for jieba3k (setup.py) ... \u001b[?25l\u001b[?25hdone\n",
            "  Created wheel for jieba3k: filename=jieba3k-0.35.1-cp36-none-any.whl size=7398406 sha256=fb1732040bfa5f85b05855fac89e0e572b583a487764dbf09da4f711fd03ba6f\n",
            "  Stored in directory: /root/.cache/pip/wheels/83/15/9c/a3f1f67e7f7181170ad37d32e503c35da20627c013f438ed34\n",
            "  Building wheel for feedfinder2 (setup.py) ... \u001b[?25l\u001b[?25hdone\n",
            "  Created wheel for feedfinder2: filename=feedfinder2-0.0.4-cp36-none-any.whl size=3357 sha256=644f93bf57f31f9ab9faf78c8c9db151b952626918bd4e80a3382966a1ac06ef\n",
            "  Stored in directory: /root/.cache/pip/wheels/de/03/ca/778e3a7a627e3d98836cc890e7cb40c7575424cfd3340f40ed\n",
            "  Building wheel for feedparser (setup.py) ... \u001b[?25l\u001b[?25hdone\n",
            "  Created wheel for feedparser: filename=feedparser-5.2.1-cp36-none-any.whl size=44940 sha256=9f2fa8b926c751b1424ecce898783781d60ca5c2382477f90b079508b8265231\n",
            "  Stored in directory: /root/.cache/pip/wheels/8c/69/b7/f52763c41c5471df57703a0ef718a32a5e81ee35dcf6d4f97f\n",
            "Successfully built tinysegmenter jieba3k feedfinder2 feedparser\n",
            "Installing collected packages: tinysegmenter, jieba3k, feedfinder2, requests-file, tldextract, cssselect, feedparser, newspaper3k\n",
            "Successfully installed cssselect-1.1.0 feedfinder2-0.0.4 feedparser-5.2.1 jieba3k-0.35.1 newspaper3k-0.2.8 requests-file-1.5.1 tinysegmenter-0.3 tldextract-2.2.3\n"
          ],
          "name": "stdout"
        }
      ]
    },
    {
      "cell_type": "code",
      "metadata": {
        "id": "fxksc9E4vR3T",
        "colab_type": "code",
        "colab": {}
      },
      "source": [
        "import nltk\n",
        "from newspaper import Article"
      ],
      "execution_count": 2,
      "outputs": []
    },
    {
      "cell_type": "code",
      "metadata": {
        "id": "IZg68Uo8xITv",
        "colab_type": "code",
        "colab": {}
      },
      "source": [
        "#Store the urls of the articles\n",
        "url0 = 'https://www.scientificamerican.com/article/how-the-environment-has-changed-since-the-first-earth-day-50-years-ago/'\n",
        "url1 = 'https://www.newscientist.com/article/2242855-climate-change-has-already-made-parts-of-the-world-too-hot-for-humans/'\n",
        "url2 = 'https://www.nytimes.com/2020/05/09/world/europe/will-the-coronavirus-crisis-trump-the-climate-crisis.html'\n",
        "url3 = 'https://phys.org/news/2020-05-wetter-climate-global.html'\n",
        "url4 = 'https://www.bbc.com/future/article/20200504-which-trees-reduce-air-pollution-best'\n",
        "url5 = 'https://www.deccanherald.com/science-and-environment/coronavirus-lockdown-air-pollution-in-india-lowest-in-20-years-says-nasa-study-828832.html'\n",
        "url6 = 'https://www.weforum.org/agenda/2020/04/the-deadly-link-between-covid-19-and-air-pollution/'\n",
        "url7 = 'https://economictimes.indiatimes.com/news/politics-and-nation/delhi-breathes-better-amid-lockdown-pollution-drops-to-record-low/articleshow/75311591.cms'\n",
        "url8 = 'https://www.thejakartapost.com/news/2020/05/08/plastic-recycling-company-looks-to-expand-as-circular-economy-blooms.html'\n",
        "url9 = 'https://www.history.com/news/recycling-history-america'"
      ],
      "execution_count": 3,
      "outputs": []
    },
    {
      "cell_type": "code",
      "metadata": {
        "id": "sb3260iCxM7f",
        "colab_type": "code",
        "colab": {}
      },
      "source": [
        "# Get the articles\n",
        "article0 = Article(url0)\n",
        "article1 = Article(url1)\n",
        "article2 = Article(url2)\n",
        "article3 = Article(url3)\n",
        "article4 = Article(url4)\n",
        "article5 = Article(url5)\n",
        "article6 = Article(url6)\n",
        "article7 = Article(url7)\n",
        "article8 = Article(url8)\n",
        "article9 = Article(url9)"
      ],
      "execution_count": 4,
      "outputs": []
    },
    {
      "cell_type": "code",
      "metadata": {
        "id": "4lOJl0TPxRMF",
        "colab_type": "code",
        "colab": {
          "base_uri": "https://localhost:8080/",
          "height": 51
        },
        "outputId": "943b7742-ac32-42f1-80c7-6fa989ca9d98"
      },
      "source": [
        "article0.download()\n",
        "article0.parse()\n",
        "nltk.download('punkt')\n",
        "article0.nlp()\n",
        "\n",
        "article1.download()\n",
        "article1.parse()\n",
        "#nltk.download('punkt')\n",
        "article1.nlp()\n",
        "\n",
        "article2.download()\n",
        "article2.parse()\n",
        "#nltk.download('punkt')\n",
        "article2.nlp()\n",
        "\n",
        "article3.download()\n",
        "article3.parse()\n",
        "#nltk.download('punkt')\n",
        "article3.nlp()\n",
        "\n",
        "article4.download()\n",
        "article4.parse()\n",
        "#nltk.download('punkt')\n",
        "article4.nlp()\n",
        "\n",
        "article5.download()\n",
        "article5.parse()\n",
        "#nltk.download('punkt')\n",
        "article5.nlp()\n",
        "\n",
        "article6.download()\n",
        "article6.parse()\n",
        "#nltk.download('punkt')\n",
        "article6.nlp()\n",
        "\n",
        "article7.download()\n",
        "article7.parse()\n",
        "#nltk.download('punkt')\n",
        "article7.nlp()\n",
        "\n",
        "article8.download()\n",
        "article8.parse()\n",
        "#nltk.download('punkt')\n",
        "article8.nlp()\n",
        "\n",
        "article9.download()\n",
        "article9.parse()\n",
        "#nltk.download('punkt')\n",
        "article9.nlp()\n"
      ],
      "execution_count": 6,
      "outputs": [
        {
          "output_type": "stream",
          "text": [
            "[nltk_data] Downloading package punkt to /root/nltk_data...\n",
            "[nltk_data]   Package punkt is already up-to-date!\n"
          ],
          "name": "stdout"
        }
      ]
    },
    {
      "cell_type": "code",
      "metadata": {
        "id": "ApPPaOZ51_QR",
        "colab_type": "code",
        "colab": {
          "base_uri": "https://localhost:8080/",
          "height": 103
        },
        "outputId": "0bb2db0a-ea8c-4b44-ac4c-9b993252d11b"
      },
      "source": [
        "article1.summary"
      ],
      "execution_count": 7,
      "outputs": [
        {
          "output_type": "execute_result",
          "data": {
            "application/vnd.google.colaboratory.intrinsic+json": {
              "type": "string"
            },
            "text/plain": [
              "'Climate change is already making some places unliveable AKHTAR SOOMRO/Reuters/PA ImagesGlobal warming has already made parts of the world hotter than the human body can withstand, decades earlier than climate models expected.\\nWet bulb temperature (TW) is a measure of heat and humidity, taken from a thermometer covered in a water-soaked cloth.\\nBeyond a TW threshold of 35°C, the body is unable to cool itself by sweating.\\nEven if they could, it would require huge amounts of energy for cooling, possibly further exacerbating climate change.\\n“It is difficult to link a wet bulb temperature threshold to specific health outcomes, and for different population groups,” she says.'"
            ]
          },
          "metadata": {
            "tags": []
          },
          "execution_count": 7
        }
      ]
    },
    {
      "cell_type": "code",
      "metadata": {
        "id": "mLbhqb4u2E_u",
        "colab_type": "code",
        "colab": {
          "base_uri": "https://localhost:8080/",
          "height": 35
        },
        "outputId": "311c4d7c-8398-4b7c-a0b3-8ed80092828b"
      },
      "source": [
        "article9.title"
      ],
      "execution_count": 8,
      "outputs": [
        {
          "output_type": "execute_result",
          "data": {
            "application/vnd.google.colaboratory.intrinsic+json": {
              "type": "string"
            },
            "text/plain": [
              "'When Did Americans Start Recycling?'"
            ]
          },
          "metadata": {
            "tags": []
          },
          "execution_count": 8
        }
      ]
    },
    {
      "cell_type": "code",
      "metadata": {
        "id": "L90VLlpp2Htd",
        "colab_type": "code",
        "colab": {
          "base_uri": "https://localhost:8080/",
          "height": 187
        },
        "outputId": "65307579-9aa4-4cf9-d5fb-f9462fdf99f2"
      },
      "source": [
        "list_articles = [article0, article1 , article2 , article3 , article4 , article5 , article6 , article7 , article8 , article9]\n",
        "for article in list_articles:\n",
        "  print(\"'\" + article.title + \"'\")"
      ],
      "execution_count": 9,
      "outputs": [
        {
          "output_type": "stream",
          "text": [
            "'How the Environment Has Changed since the First Earth Day 50 Years Ago'\n",
            "'Climate change has already made parts of the world too hot for humans'\n",
            "'Will the Coronavirus Crisis Trump the Climate Crisis?'\n",
            "'Study shows wetter climate is likely to intensify global warming'\n",
            "'The best trees to reduce air pollution'\n",
            "'Coronavirus lockdown: Air pollution in India lowest in 20 years, says NASA study'\n",
            "'COVID-19 and air pollution: a deadly connection'\n",
            "'Delhi breathes better amid lockdown, pollution drops to record low'\n",
            "'Plastic recycling company looks to expand as circular economy blooms'\n",
            "'When Did Americans Start Recycling?'\n"
          ],
          "name": "stdout"
        }
      ]
    },
    {
      "cell_type": "code",
      "metadata": {
        "id": "TYH5mcIj2NDl",
        "colab_type": "code",
        "colab": {}
      },
      "source": [
        ""
      ],
      "execution_count": null,
      "outputs": []
    }
  ]
}