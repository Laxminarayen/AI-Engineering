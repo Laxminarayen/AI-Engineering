{
  "nbformat": 4,
  "nbformat_minor": 0,
  "metadata": {
    "colab": {
      "name": "Cleaning Text.ipynb",
      "provenance": [],
      "authorship_tag": "ABX9TyMVGAq04dp2lbOv59SnRMjs",
      "include_colab_link": true
    },
    "kernelspec": {
      "name": "python3",
      "display_name": "Python 3"
    },
    "language_info": {
      "name": "python"
    }
  },
  "cells": [
    {
      "cell_type": "markdown",
      "metadata": {
        "id": "view-in-github",
        "colab_type": "text"
      },
      "source": [
        "<a href=\"https://colab.research.google.com/github/plthiyagu/AI-Engineering/blob/master/09-NLP/Cleaning_Text.ipynb\" target=\"_parent\"><img src=\"https://colab.research.google.com/assets/colab-badge.svg\" alt=\"Open In Colab\"/></a>"
      ]
    },
    {
      "cell_type": "code",
      "metadata": {
        "id": "YKTVSppYGviD"
      },
      "source": [
        "raw_docs = [\"Here are some very simple basic sentences.\",\n",
        "\"They won't be very interesting, I'm afraid.\",\n",
        "\"The point of these examples is to _learn how basic text cleaning works_ on *very simple* data.\"]"
      ],
      "execution_count": 1,
      "outputs": []
    },
    {
      "cell_type": "code",
      "metadata": {
        "colab": {
          "base_uri": "https://localhost:8080/"
        },
        "id": "8LnG6yyvLsIY",
        "outputId": "6cb8d5bd-6b65-4157-ccf0-124f631df1d9"
      },
      "source": [
        "import nltk\n",
        "nltk.download('punkt')\n",
        "nltk.download('stopwords')"
      ],
      "execution_count": 8,
      "outputs": [
        {
          "output_type": "stream",
          "text": [
            "[nltk_data] Downloading package punkt to /root/nltk_data...\n",
            "[nltk_data]   Package punkt is already up-to-date!\n",
            "[nltk_data] Downloading package stopwords to /root/nltk_data...\n",
            "[nltk_data]   Unzipping corpora/stopwords.zip.\n"
          ],
          "name": "stdout"
        },
        {
          "output_type": "execute_result",
          "data": {
            "text/plain": [
              "True"
            ]
          },
          "metadata": {
            "tags": []
          },
          "execution_count": 8
        }
      ]
    },
    {
      "cell_type": "code",
      "metadata": {
        "colab": {
          "base_uri": "https://localhost:8080/"
        },
        "id": "vyZ71rnyLc8n",
        "outputId": "2a5c0aba-f18d-49ff-aa4e-33d013741feb"
      },
      "source": [
        "# Tokenizing text into bags of words\n",
        "from nltk.tokenize import word_tokenize\n",
        "tokenized_docs = [word_tokenize(doc) for doc in raw_docs]\n",
        "print(tokenized_docs)"
      ],
      "execution_count": 5,
      "outputs": [
        {
          "output_type": "stream",
          "text": [
            "[['Here', 'are', 'some', 'very', 'simple', 'basic', 'sentences', '.'], ['They', 'wo', \"n't\", 'be', 'very', 'interesting', ',', 'I', \"'m\", 'afraid', '.'], ['The', 'point', 'of', 'these', 'examples', 'is', 'to', '_learn', 'how', 'basic', 'text', 'cleaning', 'works_', 'on', '*very', 'simple*', 'data', '.']]\n"
          ],
          "name": "stdout"
        }
      ]
    },
    {
      "cell_type": "code",
      "metadata": {
        "colab": {
          "base_uri": "https://localhost:8080/"
        },
        "id": "PHEbFgJ6Lx5H",
        "outputId": "f56d9f06-310d-4fab-8c6e-6003cf3bfad0"
      },
      "source": [
        "# Removing punctuation\n",
        "import re\n",
        "import string\n",
        "regex = re.compile('[%s]' % re.escape(string.punctuation)) #see documentation here: http://docs.python.org/2/library/string.html\n",
        "\n",
        "tokenized_docs_no_punctuation = []\n",
        "\n",
        "for review in tokenized_docs:\n",
        "    new_review = []\n",
        "    for token in review:\n",
        "        new_token = regex.sub(u'', token)\n",
        "        if not new_token == u'':\n",
        "            new_review.append(new_token)\n",
        "    \n",
        "    tokenized_docs_no_punctuation.append(new_review)\n",
        "    \n",
        "print(tokenized_docs_no_punctuation)"
      ],
      "execution_count": 6,
      "outputs": [
        {
          "output_type": "stream",
          "text": [
            "[['Here', 'are', 'some', 'very', 'simple', 'basic', 'sentences'], ['They', 'wo', 'nt', 'be', 'very', 'interesting', 'I', 'm', 'afraid'], ['The', 'point', 'of', 'these', 'examples', 'is', 'to', 'learn', 'how', 'basic', 'text', 'cleaning', 'works', 'on', 'very', 'simple', 'data']]\n"
          ],
          "name": "stdout"
        }
      ]
    },
    {
      "cell_type": "code",
      "metadata": {
        "colab": {
          "base_uri": "https://localhost:8080/"
        },
        "id": "LNd0vlVgWrwt",
        "outputId": "9ef03eb5-6b19-4270-8972-94c8a4d7212e"
      },
      "source": [
        "# Cleaning text of stopwords\n",
        "from nltk.corpus import stopwords\n",
        "\n",
        "tokenized_docs_no_stopwords = []\n",
        "\n",
        "for doc in tokenized_docs_no_punctuation:\n",
        "    new_term_vector = []\n",
        "    for word in doc:\n",
        "        if not word in stopwords.words('english'):\n",
        "            new_term_vector.append(word)\n",
        "    \n",
        "    tokenized_docs_no_stopwords.append(new_term_vector)\n",
        "\n",
        "print(tokenized_docs_no_stopwords)"
      ],
      "execution_count": 9,
      "outputs": [
        {
          "output_type": "stream",
          "text": [
            "[['Here', 'simple', 'basic', 'sentences'], ['They', 'wo', 'nt', 'interesting', 'I', 'afraid'], ['The', 'point', 'examples', 'learn', 'basic', 'text', 'cleaning', 'works', 'simple', 'data']]\n"
          ],
          "name": "stdout"
        }
      ]
    },
    {
      "cell_type": "code",
      "metadata": {
        "colab": {
          "base_uri": "https://localhost:8080/"
        },
        "id": "NNz9b6bbWvYL",
        "outputId": "543703cf-3640-4e7d-82fc-8c949532de18"
      },
      "source": [
        "# Stemming and Lemmatizing\n",
        "from nltk.stem.porter import PorterStemmer\n",
        "from nltk.stem.snowball import SnowballStemmer\n",
        "from nltk.stem.wordnet import WordNetLemmatizer\n",
        "\n",
        "porter = PorterStemmer()\n",
        "snowball = SnowballStemmer('english')\n",
        "wordnet = WordNetLemmatizer()\n",
        "\n",
        "preprocessed_docs = []\n",
        "\n",
        "for doc in tokenized_docs_no_stopwords:\n",
        "    final_doc = []\n",
        "    for word in doc:\n",
        "        final_doc.append(porter.stem(word))\n",
        "        #final_doc.append(snowball.stem(word))\n",
        "        #final_doc.append(wordnet.lemmatize(word))\n",
        "    \n",
        "    preprocessed_docs.append(final_doc)\n",
        "\n",
        "print(preprocessed_docs)"
      ],
      "execution_count": 10,
      "outputs": [
        {
          "output_type": "stream",
          "text": [
            "[['here', 'simpl', 'basic', 'sentenc'], ['they', 'wo', 'nt', 'interest', 'I', 'afraid'], ['the', 'point', 'exampl', 'learn', 'basic', 'text', 'clean', 'work', 'simpl', 'data']]\n"
          ],
          "name": "stdout"
        }
      ]
    },
    {
      "cell_type": "code",
      "metadata": {
        "id": "QMzsaIV-W6bP"
      },
      "source": [
        ""
      ],
      "execution_count": null,
      "outputs": []
    },
    {
      "cell_type": "code",
      "metadata": {
        "id": "xChBFtpqLn_T"
      },
      "source": [
        ""
      ],
      "execution_count": null,
      "outputs": []
    }
  ]
}