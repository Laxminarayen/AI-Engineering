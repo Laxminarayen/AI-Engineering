{
  "nbformat": 4,
  "nbformat_minor": 0,
  "metadata": {
    "colab": {
      "name": "How to Iterate over Rows in a Pandas DataFrame.ipynb",
      "provenance": [],
      "authorship_tag": "ABX9TyMntyfV9MKSxnzGhwaowrpn",
      "include_colab_link": true
    },
    "kernelspec": {
      "name": "python3",
      "display_name": "Python 3"
    }
  },
  "cells": [
    {
      "cell_type": "markdown",
      "metadata": {
        "id": "view-in-github",
        "colab_type": "text"
      },
      "source": [
        "<a href=\"https://colab.research.google.com/github/plthiyagu/AI-Engineering/blob/master/How_to_Iterate_over_Rows_in_a_Pandas_DataFrame.ipynb\" target=\"_parent\"><img src=\"https://colab.research.google.com/assets/colab-badge.svg\" alt=\"Open In Colab\"/></a>"
      ]
    },
    {
      "cell_type": "code",
      "metadata": {
        "id": "Maqdt1zdYxec"
      },
      "source": [
        "import pandas as pd\n",
        "\n",
        "df = pd.DataFrame({\n",
        "    'first_name': ['John', 'Jane', 'Marry', 'Victoria', 'Gabriel', 'Layla'],\n",
        "    'last_name': ['Smith', 'Doe', 'Jackson', 'Smith', 'Brown', 'Martinez'],\n",
        "    'age': [34, 29, 37, 52, 26, 32]},\n",
        "    index=['id001', 'id002', 'id003', 'id004', 'id005', 'id006'])"
      ],
      "execution_count": 1,
      "outputs": []
    },
    {
      "cell_type": "code",
      "metadata": {
        "id": "TRsVXswcYy7p",
        "outputId": "0f357884-cfdb-4711-e895-c3dd4650e374",
        "colab": {
          "base_uri": "https://localhost:8080/"
        }
      },
      "source": [
        "print(df.to_string())"
      ],
      "execution_count": 2,
      "outputs": [
        {
          "output_type": "stream",
          "text": [
            "      first_name last_name  age\n",
            "id001       John     Smith   34\n",
            "id002       Jane       Doe   29\n",
            "id003      Marry   Jackson   37\n",
            "id004   Victoria     Smith   52\n",
            "id005    Gabriel     Brown   26\n",
            "id006      Layla  Martinez   32\n"
          ],
          "name": "stdout"
        }
      ]
    },
    {
      "cell_type": "code",
      "metadata": {
        "id": "dbKqyCjuY4IR",
        "outputId": "bffccb7f-5096-403b-f3bc-376e64ee7be4",
        "colab": {
          "base_uri": "https://localhost:8080/"
        }
      },
      "source": [
        "df.items()"
      ],
      "execution_count": 3,
      "outputs": [
        {
          "output_type": "execute_result",
          "data": {
            "text/plain": [
              "<generator object DataFrame.items at 0x7ffb45ac4b48>"
            ]
          },
          "metadata": {
            "tags": []
          },
          "execution_count": 3
        }
      ]
    },
    {
      "cell_type": "code",
      "metadata": {
        "id": "MmZdheJRY74Q",
        "outputId": "2ee8b852-1955-4b64-aedf-b871a822ab6b",
        "colab": {
          "base_uri": "https://localhost:8080/"
        }
      },
      "source": [
        "for col_name, data in df.items():\n",
        "  print(\"col_name:\",col_name, \"\\ndata:\",data)"
      ],
      "execution_count": 5,
      "outputs": [
        {
          "output_type": "stream",
          "text": [
            "col_name: first_name \n",
            "data: id001        John\n",
            "id002        Jane\n",
            "id003       Marry\n",
            "id004    Victoria\n",
            "id005     Gabriel\n",
            "id006       Layla\n",
            "Name: first_name, dtype: object\n",
            "col_name: last_name \n",
            "data: id001       Smith\n",
            "id002         Doe\n",
            "id003     Jackson\n",
            "id004       Smith\n",
            "id005       Brown\n",
            "id006    Martinez\n",
            "Name: last_name, dtype: object\n",
            "col_name: age \n",
            "data: id001    34\n",
            "id002    29\n",
            "id003    37\n",
            "id004    52\n",
            "id005    26\n",
            "id006    32\n",
            "Name: age, dtype: int64\n"
          ],
          "name": "stdout"
        }
      ]
    },
    {
      "cell_type": "code",
      "metadata": {
        "id": "I_xfYNKBZe8W",
        "outputId": "9f3eef5b-e99d-4108-b698-ba70033b910a",
        "colab": {
          "base_uri": "https://localhost:8080/"
        }
      },
      "source": [
        "for col_name, data in df.items():\n",
        "\tprint(\"col_name:\",col_name, \"\\ndata:\",data[1])"
      ],
      "execution_count": 6,
      "outputs": [
        {
          "output_type": "stream",
          "text": [
            "col_name: first_name \n",
            "data: Jane\n",
            "col_name: last_name \n",
            "data: Doe\n",
            "col_name: age \n",
            "data: 29\n"
          ],
          "name": "stdout"
        }
      ]
    },
    {
      "cell_type": "code",
      "metadata": {
        "id": "GF57ZqHxZvb8",
        "outputId": "1483b7c7-c147-4f23-cd0c-b2499e34566f",
        "colab": {
          "base_uri": "https://localhost:8080/"
        }
      },
      "source": [
        "for col_name, data in df.items():\n",
        "\tprint(\"col_name:\",col_name, \"\\ndata:\",data['id002'])"
      ],
      "execution_count": 7,
      "outputs": [
        {
          "output_type": "stream",
          "text": [
            "col_name: first_name \n",
            "data: Jane\n",
            "col_name: last_name \n",
            "data: Doe\n",
            "col_name: age \n",
            "data: 29\n"
          ],
          "name": "stdout"
        }
      ]
    },
    {
      "cell_type": "code",
      "metadata": {
        "id": "dIGDhrEHZ4cD",
        "outputId": "9709c3b6-dde7-48ad-f7a5-108781de7692",
        "colab": {
          "base_uri": "https://localhost:8080/"
        }
      },
      "source": [
        "for i, row in df.iterrows():\n",
        "\tprint(f\"Index: {i}\")\n",
        "\tprint(f\"{row}\\n\")"
      ],
      "execution_count": 8,
      "outputs": [
        {
          "output_type": "stream",
          "text": [
            "Index: id001\n",
            "first_name     John\n",
            "last_name     Smith\n",
            "age              34\n",
            "Name: id001, dtype: object\n",
            "\n",
            "Index: id002\n",
            "first_name    Jane\n",
            "last_name      Doe\n",
            "age             29\n",
            "Name: id002, dtype: object\n",
            "\n",
            "Index: id003\n",
            "first_name      Marry\n",
            "last_name     Jackson\n",
            "age                37\n",
            "Name: id003, dtype: object\n",
            "\n",
            "Index: id004\n",
            "first_name    Victoria\n",
            "last_name        Smith\n",
            "age                 52\n",
            "Name: id004, dtype: object\n",
            "\n",
            "Index: id005\n",
            "first_name    Gabriel\n",
            "last_name       Brown\n",
            "age                26\n",
            "Name: id005, dtype: object\n",
            "\n",
            "Index: id006\n",
            "first_name       Layla\n",
            "last_name     Martinez\n",
            "age                 32\n",
            "Name: id006, dtype: object\n",
            "\n"
          ],
          "name": "stdout"
        }
      ]
    },
    {
      "cell_type": "code",
      "metadata": {
        "id": "BKNxp9bpaFQU",
        "outputId": "93fc0194-a3a6-4e38-bca7-636ed6212712",
        "colab": {
          "base_uri": "https://localhost:8080/"
        }
      },
      "source": [
        "for i, row in df.iterrows():\n",
        "\tprint(f\"Index: {i}\")\n",
        "\tprint(f\"{row[0]}\")"
      ],
      "execution_count": 13,
      "outputs": [
        {
          "output_type": "stream",
          "text": [
            "Index: id001\n",
            "John\n",
            "Index: id002\n",
            "Jane\n",
            "Index: id003\n",
            "Marry\n",
            "Index: id004\n",
            "Victoria\n",
            "Index: id005\n",
            "Gabriel\n",
            "Index: id006\n",
            "Layla\n"
          ],
          "name": "stdout"
        }
      ]
    },
    {
      "cell_type": "code",
      "metadata": {
        "id": "GkpjPGXeaKIR",
        "outputId": "d6c8aa8e-c09e-4d9e-eb5f-8cd66488602a",
        "colab": {
          "base_uri": "https://localhost:8080/"
        }
      },
      "source": [
        "for i, row in df.iterrows():\n",
        "\tprint(f\"Index: {i}\")\n",
        "\tprint(f\"{row['first_name']}\")"
      ],
      "execution_count": 10,
      "outputs": [
        {
          "output_type": "stream",
          "text": [
            "Index: id001\n",
            "John\n",
            "Index: id002\n",
            "Jane\n",
            "Index: id003\n",
            "Marry\n",
            "Index: id004\n",
            "Victoria\n",
            "Index: id005\n",
            "Gabriel\n",
            "Index: id006\n",
            "Layla\n"
          ],
          "name": "stdout"
        }
      ]
    },
    {
      "cell_type": "code",
      "metadata": {
        "id": "XRBCHExNaP_K",
        "outputId": "a1cd4de9-d401-4c48-9d3a-9cbf1596aaa9",
        "colab": {
          "base_uri": "https://localhost:8080/"
        }
      },
      "source": [
        "for row in df.itertuples():\n",
        "    print(row)"
      ],
      "execution_count": 11,
      "outputs": [
        {
          "output_type": "stream",
          "text": [
            "Pandas(Index='id001', first_name='John', last_name='Smith', age=34)\n",
            "Pandas(Index='id002', first_name='Jane', last_name='Doe', age=29)\n",
            "Pandas(Index='id003', first_name='Marry', last_name='Jackson', age=37)\n",
            "Pandas(Index='id004', first_name='Victoria', last_name='Smith', age=52)\n",
            "Pandas(Index='id005', first_name='Gabriel', last_name='Brown', age=26)\n",
            "Pandas(Index='id006', first_name='Layla', last_name='Martinez', age=32)\n"
          ],
          "name": "stdout"
        }
      ]
    },
    {
      "cell_type": "code",
      "metadata": {
        "id": "O0IYlzvGaqUz",
        "outputId": "6dc18c19-0674-47d5-8c6c-7df35b7b7a2e",
        "colab": {
          "base_uri": "https://localhost:8080/"
        }
      },
      "source": [
        "for row in df.itertuples(index=False):\n",
        "    print(row)"
      ],
      "execution_count": 14,
      "outputs": [
        {
          "output_type": "stream",
          "text": [
            "Pandas(first_name='John', last_name='Smith', age=34)\n",
            "Pandas(first_name='Jane', last_name='Doe', age=29)\n",
            "Pandas(first_name='Marry', last_name='Jackson', age=37)\n",
            "Pandas(first_name='Victoria', last_name='Smith', age=52)\n",
            "Pandas(first_name='Gabriel', last_name='Brown', age=26)\n",
            "Pandas(first_name='Layla', last_name='Martinez', age=32)\n"
          ],
          "name": "stdout"
        }
      ]
    },
    {
      "cell_type": "code",
      "metadata": {
        "id": "sQkGbjTpa4zr",
        "outputId": "74fec038-0e05-4f71-d0fc-e6a199359c00",
        "colab": {
          "base_uri": "https://localhost:8080/"
        }
      },
      "source": [
        "for row in df.itertuples(index=False, name='People'):\n",
        "    print(row)"
      ],
      "execution_count": 15,
      "outputs": [
        {
          "output_type": "stream",
          "text": [
            "People(first_name='John', last_name='Smith', age=34)\n",
            "People(first_name='Jane', last_name='Doe', age=29)\n",
            "People(first_name='Marry', last_name='Jackson', age=37)\n",
            "People(first_name='Victoria', last_name='Smith', age=52)\n",
            "People(first_name='Gabriel', last_name='Brown', age=26)\n",
            "People(first_name='Layla', last_name='Martinez', age=32)\n"
          ],
          "name": "stdout"
        }
      ]
    },
    {
      "cell_type": "code",
      "metadata": {
        "id": "L4tkRvJIa9mZ"
      },
      "source": [
        ""
      ],
      "execution_count": null,
      "outputs": []
    }
  ]
}