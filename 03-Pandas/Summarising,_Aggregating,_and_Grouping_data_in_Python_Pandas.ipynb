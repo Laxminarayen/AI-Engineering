{
  "nbformat": 4,
  "nbformat_minor": 0,
  "metadata": {
    "colab": {
      "name": "Summarising, Aggregating, and Grouping data in Python Pandas.ipynb",
      "provenance": [],
      "authorship_tag": "ABX9TyNPMzu+V6xoha0HW4UM5J2I",
      "include_colab_link": true
    },
    "kernelspec": {
      "name": "python3",
      "display_name": "Python 3"
    }
  },
  "cells": [
    {
      "cell_type": "markdown",
      "metadata": {
        "id": "view-in-github",
        "colab_type": "text"
      },
      "source": [
        "<a href=\"https://colab.research.google.com/github/plthiyagu/Personnel/blob/master/Summarising%2C_Aggregating%2C_and_Grouping_data_in_Python_Pandas.ipynb\" target=\"_parent\"><img src=\"https://colab.research.google.com/assets/colab-badge.svg\" alt=\"Open In Colab\"/></a>"
      ]
    },
    {
      "cell_type": "code",
      "metadata": {
        "id": "zDh8Wxga-FkK",
        "colab_type": "code",
        "colab": {}
      },
      "source": [
        "import pandas as pd\n",
        "import numpy as np\n",
        "import matplotlib.pyplot as plt\n",
        "import dateutil"
      ],
      "execution_count": 1,
      "outputs": []
    },
    {
      "cell_type": "code",
      "metadata": {
        "id": "ZhHS41bmBZgW",
        "colab_type": "code",
        "colab": {
          "base_uri": "https://localhost:8080/",
          "height": 204
        },
        "outputId": "1d1d4377-cf1c-4da2-90a9-3fe145442984"
      },
      "source": [
        "df =pd.read_csv(\"https://raw.githubusercontent.com/plthiyagu/Personnel/master/Dataset/phone_data.csv\")\n",
        "df.tail()"
      ],
      "execution_count": 2,
      "outputs": [
        {
          "output_type": "execute_result",
          "data": {
            "text/html": [
              "<div>\n",
              "<style scoped>\n",
              "    .dataframe tbody tr th:only-of-type {\n",
              "        vertical-align: middle;\n",
              "    }\n",
              "\n",
              "    .dataframe tbody tr th {\n",
              "        vertical-align: top;\n",
              "    }\n",
              "\n",
              "    .dataframe thead th {\n",
              "        text-align: right;\n",
              "    }\n",
              "</style>\n",
              "<table border=\"1\" class=\"dataframe\">\n",
              "  <thead>\n",
              "    <tr style=\"text-align: right;\">\n",
              "      <th></th>\n",
              "      <th>index</th>\n",
              "      <th>date</th>\n",
              "      <th>duration</th>\n",
              "      <th>item</th>\n",
              "      <th>month</th>\n",
              "      <th>network</th>\n",
              "      <th>network_type</th>\n",
              "    </tr>\n",
              "  </thead>\n",
              "  <tbody>\n",
              "    <tr>\n",
              "      <th>825</th>\n",
              "      <td>825</td>\n",
              "      <td>13/03/15 00:38</td>\n",
              "      <td>1.000</td>\n",
              "      <td>sms</td>\n",
              "      <td>2015-03</td>\n",
              "      <td>world</td>\n",
              "      <td>world</td>\n",
              "    </tr>\n",
              "    <tr>\n",
              "      <th>826</th>\n",
              "      <td>826</td>\n",
              "      <td>13/03/15 00:39</td>\n",
              "      <td>1.000</td>\n",
              "      <td>sms</td>\n",
              "      <td>2015-03</td>\n",
              "      <td>Vodafone</td>\n",
              "      <td>mobile</td>\n",
              "    </tr>\n",
              "    <tr>\n",
              "      <th>827</th>\n",
              "      <td>827</td>\n",
              "      <td>13/03/15 06:58</td>\n",
              "      <td>34.429</td>\n",
              "      <td>data</td>\n",
              "      <td>2015-03</td>\n",
              "      <td>data</td>\n",
              "      <td>data</td>\n",
              "    </tr>\n",
              "    <tr>\n",
              "      <th>828</th>\n",
              "      <td>828</td>\n",
              "      <td>14/03/15 00:13</td>\n",
              "      <td>1.000</td>\n",
              "      <td>sms</td>\n",
              "      <td>2015-03</td>\n",
              "      <td>world</td>\n",
              "      <td>world</td>\n",
              "    </tr>\n",
              "    <tr>\n",
              "      <th>829</th>\n",
              "      <td>829</td>\n",
              "      <td>14/03/15 00:16</td>\n",
              "      <td>1.000</td>\n",
              "      <td>sms</td>\n",
              "      <td>2015-03</td>\n",
              "      <td>world</td>\n",
              "      <td>world</td>\n",
              "    </tr>\n",
              "  </tbody>\n",
              "</table>\n",
              "</div>"
            ],
            "text/plain": [
              "     index            date  duration  item    month   network network_type\n",
              "825    825  13/03/15 00:38     1.000   sms  2015-03     world        world\n",
              "826    826  13/03/15 00:39     1.000   sms  2015-03  Vodafone       mobile\n",
              "827    827  13/03/15 06:58    34.429  data  2015-03      data         data\n",
              "828    828  14/03/15 00:13     1.000   sms  2015-03     world        world\n",
              "829    829  14/03/15 00:16     1.000   sms  2015-03     world        world"
            ]
          },
          "metadata": {
            "tags": []
          },
          "execution_count": 2
        }
      ]
    },
    {
      "cell_type": "code",
      "metadata": {
        "id": "hZE8kJN6EvLt",
        "colab_type": "code",
        "colab": {
          "base_uri": "https://localhost:8080/",
          "height": 153
        },
        "outputId": "fbc735b6-951e-4c22-c639-1d6f29cb13b6"
      },
      "source": [
        "df.dtypes"
      ],
      "execution_count": 3,
      "outputs": [
        {
          "output_type": "execute_result",
          "data": {
            "text/plain": [
              "index             int64\n",
              "date             object\n",
              "duration        float64\n",
              "item             object\n",
              "month            object\n",
              "network          object\n",
              "network_type     object\n",
              "dtype: object"
            ]
          },
          "metadata": {
            "tags": []
          },
          "execution_count": 3
        }
      ]
    },
    {
      "cell_type": "code",
      "metadata": {
        "id": "9t-Ez4CwBij3",
        "colab_type": "code",
        "colab": {}
      },
      "source": [
        "# Convert date from string to date times\n",
        "df['date'] = df['date'].apply(dateutil.parser.parse, dayfirst=True)"
      ],
      "execution_count": 4,
      "outputs": []
    },
    {
      "cell_type": "code",
      "metadata": {
        "id": "G1UFjiOVEqMa",
        "colab_type": "code",
        "colab": {
          "base_uri": "https://localhost:8080/",
          "height": 204
        },
        "outputId": "d9db3356-a3d3-4987-f7d5-073e215f645d"
      },
      "source": [
        "df.head()"
      ],
      "execution_count": 5,
      "outputs": [
        {
          "output_type": "execute_result",
          "data": {
            "text/html": [
              "<div>\n",
              "<style scoped>\n",
              "    .dataframe tbody tr th:only-of-type {\n",
              "        vertical-align: middle;\n",
              "    }\n",
              "\n",
              "    .dataframe tbody tr th {\n",
              "        vertical-align: top;\n",
              "    }\n",
              "\n",
              "    .dataframe thead th {\n",
              "        text-align: right;\n",
              "    }\n",
              "</style>\n",
              "<table border=\"1\" class=\"dataframe\">\n",
              "  <thead>\n",
              "    <tr style=\"text-align: right;\">\n",
              "      <th></th>\n",
              "      <th>index</th>\n",
              "      <th>date</th>\n",
              "      <th>duration</th>\n",
              "      <th>item</th>\n",
              "      <th>month</th>\n",
              "      <th>network</th>\n",
              "      <th>network_type</th>\n",
              "    </tr>\n",
              "  </thead>\n",
              "  <tbody>\n",
              "    <tr>\n",
              "      <th>0</th>\n",
              "      <td>0</td>\n",
              "      <td>2014-10-15 06:58:00</td>\n",
              "      <td>34.429</td>\n",
              "      <td>data</td>\n",
              "      <td>2014-11</td>\n",
              "      <td>data</td>\n",
              "      <td>data</td>\n",
              "    </tr>\n",
              "    <tr>\n",
              "      <th>1</th>\n",
              "      <td>1</td>\n",
              "      <td>2014-10-15 06:58:00</td>\n",
              "      <td>13.000</td>\n",
              "      <td>call</td>\n",
              "      <td>2014-11</td>\n",
              "      <td>Vodafone</td>\n",
              "      <td>mobile</td>\n",
              "    </tr>\n",
              "    <tr>\n",
              "      <th>2</th>\n",
              "      <td>2</td>\n",
              "      <td>2014-10-15 14:46:00</td>\n",
              "      <td>23.000</td>\n",
              "      <td>call</td>\n",
              "      <td>2014-11</td>\n",
              "      <td>Meteor</td>\n",
              "      <td>mobile</td>\n",
              "    </tr>\n",
              "    <tr>\n",
              "      <th>3</th>\n",
              "      <td>3</td>\n",
              "      <td>2014-10-15 14:48:00</td>\n",
              "      <td>4.000</td>\n",
              "      <td>call</td>\n",
              "      <td>2014-11</td>\n",
              "      <td>Tesco</td>\n",
              "      <td>mobile</td>\n",
              "    </tr>\n",
              "    <tr>\n",
              "      <th>4</th>\n",
              "      <td>4</td>\n",
              "      <td>2014-10-15 17:27:00</td>\n",
              "      <td>4.000</td>\n",
              "      <td>call</td>\n",
              "      <td>2014-11</td>\n",
              "      <td>Tesco</td>\n",
              "      <td>mobile</td>\n",
              "    </tr>\n",
              "  </tbody>\n",
              "</table>\n",
              "</div>"
            ],
            "text/plain": [
              "   index                date  duration  item    month   network network_type\n",
              "0      0 2014-10-15 06:58:00    34.429  data  2014-11      data         data\n",
              "1      1 2014-10-15 06:58:00    13.000  call  2014-11  Vodafone       mobile\n",
              "2      2 2014-10-15 14:46:00    23.000  call  2014-11    Meteor       mobile\n",
              "3      3 2014-10-15 14:48:00     4.000  call  2014-11     Tesco       mobile\n",
              "4      4 2014-10-15 17:27:00     4.000  call  2014-11     Tesco       mobile"
            ]
          },
          "metadata": {
            "tags": []
          },
          "execution_count": 5
        }
      ]
    },
    {
      "cell_type": "code",
      "metadata": {
        "id": "HGhCq54dEWQn",
        "colab_type": "code",
        "colab": {
          "base_uri": "https://localhost:8080/",
          "height": 153
        },
        "outputId": "5984f0fd-305e-41cb-d304-587ed3748790"
      },
      "source": [
        "df.dtypes"
      ],
      "execution_count": 6,
      "outputs": [
        {
          "output_type": "execute_result",
          "data": {
            "text/plain": [
              "index                    int64\n",
              "date            datetime64[ns]\n",
              "duration               float64\n",
              "item                    object\n",
              "month                   object\n",
              "network                 object\n",
              "network_type            object\n",
              "dtype: object"
            ]
          },
          "metadata": {
            "tags": []
          },
          "execution_count": 6
        }
      ]
    },
    {
      "cell_type": "code",
      "metadata": {
        "id": "IX9wV9wOE1Gm",
        "colab_type": "code",
        "colab": {
          "base_uri": "https://localhost:8080/",
          "height": 34
        },
        "outputId": "6469050c-1a3e-4ce4-b62a-aee3816c19bc"
      },
      "source": [
        "# How many rows the dataset\n",
        "df['item'].count()"
      ],
      "execution_count": 7,
      "outputs": [
        {
          "output_type": "execute_result",
          "data": {
            "text/plain": [
              "830"
            ]
          },
          "metadata": {
            "tags": []
          },
          "execution_count": 7
        }
      ]
    },
    {
      "cell_type": "code",
      "metadata": {
        "id": "eVh_ZgpsE_S4",
        "colab_type": "code",
        "colab": {
          "base_uri": "https://localhost:8080/",
          "height": 34
        },
        "outputId": "9b3dec92-896c-4262-e533-8979bfa19ae4"
      },
      "source": [
        "# What was the longest phone call / data entry?\n",
        "df['duration'][df['item'] == 'call'].sum()"
      ],
      "execution_count": 8,
      "outputs": [
        {
          "output_type": "execute_result",
          "data": {
            "text/plain": [
              "92321.0"
            ]
          },
          "metadata": {
            "tags": []
          },
          "execution_count": 8
        }
      ]
    },
    {
      "cell_type": "code",
      "metadata": {
        "id": "qIj4RCMhcvhw",
        "colab_type": "code",
        "colab": {
          "base_uri": "https://localhost:8080/",
          "height": 34
        },
        "outputId": "fe7ed754-30ce-4429-b013-8b60ab0e5043"
      },
      "source": [
        "# What was the longest phone call / data entry?\n",
        "df['duration'].max()"
      ],
      "execution_count": 9,
      "outputs": [
        {
          "output_type": "execute_result",
          "data": {
            "text/plain": [
              "10528.0"
            ]
          },
          "metadata": {
            "tags": []
          },
          "execution_count": 9
        }
      ]
    },
    {
      "cell_type": "code",
      "metadata": {
        "id": "0CuxPYzuFKNk",
        "colab_type": "code",
        "colab": {
          "base_uri": "https://localhost:8080/",
          "height": 119
        },
        "outputId": "0d121e84-0529-4b91-89a3-fa072d960a2b"
      },
      "source": [
        "# How many entries are there for each month?\n",
        "df['month'].value_counts()"
      ],
      "execution_count": 10,
      "outputs": [
        {
          "output_type": "execute_result",
          "data": {
            "text/plain": [
              "2014-11    230\n",
              "2015-01    205\n",
              "2014-12    157\n",
              "2015-02    137\n",
              "2015-03    101\n",
              "Name: month, dtype: int64"
            ]
          },
          "metadata": {
            "tags": []
          },
          "execution_count": 10
        }
      ]
    },
    {
      "cell_type": "code",
      "metadata": {
        "id": "mo-iDyuQFiwW",
        "colab_type": "code",
        "colab": {
          "base_uri": "https://localhost:8080/",
          "height": 34
        },
        "outputId": "53db8773-4ccb-48b3-ad08-a61893f70017"
      },
      "source": [
        "# Number of non-null unique network entries\n",
        "df['network'].nunique()"
      ],
      "execution_count": 11,
      "outputs": [
        {
          "output_type": "execute_result",
          "data": {
            "text/plain": [
              "9"
            ]
          },
          "metadata": {
            "tags": []
          },
          "execution_count": 11
        }
      ]
    },
    {
      "cell_type": "code",
      "metadata": {
        "id": "8X9BdHuEFrUA",
        "colab_type": "code",
        "colab": {
          "base_uri": "https://localhost:8080/",
          "height": 34
        },
        "outputId": "e1a0f7e3-60f9-420f-b90c-3879dd04798f"
      },
      "source": [
        "df.groupby(['month']).groups.keys()"
      ],
      "execution_count": 14,
      "outputs": [
        {
          "output_type": "execute_result",
          "data": {
            "text/plain": [
              "dict_keys(['2014-11', '2014-12', '2015-01', '2015-02', '2015-03'])"
            ]
          },
          "metadata": {
            "tags": []
          },
          "execution_count": 14
        }
      ]
    },
    {
      "cell_type": "code",
      "metadata": {
        "id": "nnkctYCWfGhC",
        "colab_type": "code",
        "colab": {
          "base_uri": "https://localhost:8080/",
          "height": 34
        },
        "outputId": "c30c29d3-9e3d-49fd-b536-52a549e93572"
      },
      "source": [
        "len(df.groupby(['month']).groups['2014-11'])"
      ],
      "execution_count": 13,
      "outputs": [
        {
          "output_type": "execute_result",
          "data": {
            "text/plain": [
              "230"
            ]
          },
          "metadata": {
            "tags": []
          },
          "execution_count": 13
        }
      ]
    },
    {
      "cell_type": "code",
      "metadata": {
        "id": "QPlzfZaYF06l",
        "colab_type": "code",
        "colab": {
          "base_uri": "https://localhost:8080/",
          "height": 235
        },
        "outputId": "f57fbcd3-f329-4c89-d9ed-4daf8b8eecea"
      },
      "source": [
        "# Get the first entry for each month\n",
        "df.groupby('month').first()"
      ],
      "execution_count": 16,
      "outputs": [
        {
          "output_type": "execute_result",
          "data": {
            "text/html": [
              "<div>\n",
              "<style scoped>\n",
              "    .dataframe tbody tr th:only-of-type {\n",
              "        vertical-align: middle;\n",
              "    }\n",
              "\n",
              "    .dataframe tbody tr th {\n",
              "        vertical-align: top;\n",
              "    }\n",
              "\n",
              "    .dataframe thead th {\n",
              "        text-align: right;\n",
              "    }\n",
              "</style>\n",
              "<table border=\"1\" class=\"dataframe\">\n",
              "  <thead>\n",
              "    <tr style=\"text-align: right;\">\n",
              "      <th></th>\n",
              "      <th>index</th>\n",
              "      <th>date</th>\n",
              "      <th>duration</th>\n",
              "      <th>item</th>\n",
              "      <th>network</th>\n",
              "      <th>network_type</th>\n",
              "    </tr>\n",
              "    <tr>\n",
              "      <th>month</th>\n",
              "      <th></th>\n",
              "      <th></th>\n",
              "      <th></th>\n",
              "      <th></th>\n",
              "      <th></th>\n",
              "      <th></th>\n",
              "    </tr>\n",
              "  </thead>\n",
              "  <tbody>\n",
              "    <tr>\n",
              "      <th>2014-11</th>\n",
              "      <td>0</td>\n",
              "      <td>2014-10-15 06:58:00</td>\n",
              "      <td>34.429</td>\n",
              "      <td>data</td>\n",
              "      <td>data</td>\n",
              "      <td>data</td>\n",
              "    </tr>\n",
              "    <tr>\n",
              "      <th>2014-12</th>\n",
              "      <td>228</td>\n",
              "      <td>2014-11-13 06:58:00</td>\n",
              "      <td>34.429</td>\n",
              "      <td>data</td>\n",
              "      <td>data</td>\n",
              "      <td>data</td>\n",
              "    </tr>\n",
              "    <tr>\n",
              "      <th>2015-01</th>\n",
              "      <td>381</td>\n",
              "      <td>2014-12-13 06:58:00</td>\n",
              "      <td>34.429</td>\n",
              "      <td>data</td>\n",
              "      <td>data</td>\n",
              "      <td>data</td>\n",
              "    </tr>\n",
              "    <tr>\n",
              "      <th>2015-02</th>\n",
              "      <td>577</td>\n",
              "      <td>2015-01-13 06:58:00</td>\n",
              "      <td>34.429</td>\n",
              "      <td>data</td>\n",
              "      <td>data</td>\n",
              "      <td>data</td>\n",
              "    </tr>\n",
              "    <tr>\n",
              "      <th>2015-03</th>\n",
              "      <td>729</td>\n",
              "      <td>2015-02-12 20:15:00</td>\n",
              "      <td>69.000</td>\n",
              "      <td>call</td>\n",
              "      <td>landline</td>\n",
              "      <td>landline</td>\n",
              "    </tr>\n",
              "  </tbody>\n",
              "</table>\n",
              "</div>"
            ],
            "text/plain": [
              "         index                date  duration  item   network network_type\n",
              "month                                                                    \n",
              "2014-11      0 2014-10-15 06:58:00    34.429  data      data         data\n",
              "2014-12    228 2014-11-13 06:58:00    34.429  data      data         data\n",
              "2015-01    381 2014-12-13 06:58:00    34.429  data      data         data\n",
              "2015-02    577 2015-01-13 06:58:00    34.429  data      data         data\n",
              "2015-03    729 2015-02-12 20:15:00    69.000  call  landline     landline"
            ]
          },
          "metadata": {
            "tags": []
          },
          "execution_count": 16
        }
      ]
    },
    {
      "cell_type": "code",
      "metadata": {
        "id": "F2-SBuwIF-y6",
        "colab_type": "code",
        "colab": {
          "base_uri": "https://localhost:8080/",
          "height": 136
        },
        "outputId": "8c02fd16-f16d-4924-bb66-49fdfe3579f8"
      },
      "source": [
        "# Get the sum of the durations per month\n",
        "df.groupby('month')['duration'].sum()"
      ],
      "execution_count": 17,
      "outputs": [
        {
          "output_type": "execute_result",
          "data": {
            "text/plain": [
              "month\n",
              "2014-11    26639.441\n",
              "2014-12    14641.870\n",
              "2015-01    18223.299\n",
              "2015-02    15522.299\n",
              "2015-03    22750.441\n",
              "Name: duration, dtype: float64"
            ]
          },
          "metadata": {
            "tags": []
          },
          "execution_count": 17
        }
      ]
    },
    {
      "cell_type": "code",
      "metadata": {
        "id": "b9iHhy9tGO_g",
        "colab_type": "code",
        "colab": {
          "base_uri": "https://localhost:8080/",
          "height": 136
        },
        "outputId": "05dcaca7-b22c-4c4c-ea2c-1683b5e62c8b"
      },
      "source": [
        "# Get the number of dates / entries in each month\n",
        "df.groupby('month')['date'].count()"
      ],
      "execution_count": 18,
      "outputs": [
        {
          "output_type": "execute_result",
          "data": {
            "text/plain": [
              "month\n",
              "2014-11    230\n",
              "2014-12    157\n",
              "2015-01    205\n",
              "2015-02    137\n",
              "2015-03    101\n",
              "Name: date, dtype: int64"
            ]
          },
          "metadata": {
            "tags": []
          },
          "execution_count": 18
        }
      ]
    },
    {
      "cell_type": "code",
      "metadata": {
        "id": "lZ53LWjgGsDB",
        "colab_type": "code",
        "colab": {
          "base_uri": "https://localhost:8080/",
          "height": 153
        },
        "outputId": "e884edef-bcaa-4db9-d3e3-6b636c090a24"
      },
      "source": [
        "# What is the sum of durations, for calls only, to each network\n",
        "df[df['item'] == 'call'].groupby('network')['duration'].sum()"
      ],
      "execution_count": 19,
      "outputs": [
        {
          "output_type": "execute_result",
          "data": {
            "text/plain": [
              "network\n",
              "Meteor        7200.0\n",
              "Tesco        13828.0\n",
              "Three        36464.0\n",
              "Vodafone     14621.0\n",
              "landline     18433.0\n",
              "voicemail     1775.0\n",
              "Name: duration, dtype: float64"
            ]
          },
          "metadata": {
            "tags": []
          },
          "execution_count": 19
        }
      ]
    },
    {
      "cell_type": "code",
      "metadata": {
        "id": "-vHb4cqFGzyF",
        "colab_type": "code",
        "colab": {
          "base_uri": "https://localhost:8080/",
          "height": 306
        },
        "outputId": "4eff15e3-4103-4a23-eb1a-911e94d7fbda"
      },
      "source": [
        "# How many calls, sms, and data entries are in each month?\n",
        "df.groupby(['month', 'item'])['date'].count()"
      ],
      "execution_count": 20,
      "outputs": [
        {
          "output_type": "execute_result",
          "data": {
            "text/plain": [
              "month    item\n",
              "2014-11  call    107\n",
              "         data     29\n",
              "         sms      94\n",
              "2014-12  call     79\n",
              "         data     30\n",
              "         sms      48\n",
              "2015-01  call     88\n",
              "         data     31\n",
              "         sms      86\n",
              "2015-02  call     67\n",
              "         data     31\n",
              "         sms      39\n",
              "2015-03  call     47\n",
              "         data     29\n",
              "         sms      25\n",
              "Name: date, dtype: int64"
            ]
          },
          "metadata": {
            "tags": []
          },
          "execution_count": 20
        }
      ]
    },
    {
      "cell_type": "code",
      "metadata": {
        "id": "-eavG3hXHZEQ",
        "colab_type": "code",
        "colab": {
          "base_uri": "https://localhost:8080/",
          "height": 459
        },
        "outputId": "9be48783-1c42-47e5-a07a-f9214ebe6446"
      },
      "source": [
        "# How many calls, texts, and data are sent per month, split by network_type?\n",
        "df.groupby(['month', 'network_type'])['date'].count()"
      ],
      "execution_count": 21,
      "outputs": [
        {
          "output_type": "execute_result",
          "data": {
            "text/plain": [
              "month    network_type\n",
              "2014-11  data             29\n",
              "         landline          5\n",
              "         mobile          189\n",
              "         special           1\n",
              "         voicemail         6\n",
              "2014-12  data             30\n",
              "         landline          7\n",
              "         mobile          108\n",
              "         voicemail         8\n",
              "         world             4\n",
              "2015-01  data             31\n",
              "         landline         11\n",
              "         mobile          160\n",
              "         voicemail         3\n",
              "2015-02  data             31\n",
              "         landline          8\n",
              "         mobile           90\n",
              "         special           2\n",
              "         voicemail         6\n",
              "2015-03  data             29\n",
              "         landline         11\n",
              "         mobile           54\n",
              "         voicemail         4\n",
              "         world             3\n",
              "Name: date, dtype: int64"
            ]
          },
          "metadata": {
            "tags": []
          },
          "execution_count": 21
        }
      ]
    },
    {
      "cell_type": "code",
      "metadata": {
        "id": "QKPAND02Hnua",
        "colab_type": "code",
        "colab": {
          "base_uri": "https://localhost:8080/",
          "height": 235
        },
        "outputId": "76d23854-3b55-490c-c31e-42c0859703d9"
      },
      "source": [
        "# produces Pandas Series\n",
        "df.groupby('month')['duration'].sum() \n",
        "# Produces Pandas DataFrame\n",
        "df.groupby('month')[['duration']].sum()"
      ],
      "execution_count": 22,
      "outputs": [
        {
          "output_type": "execute_result",
          "data": {
            "text/html": [
              "<div>\n",
              "<style scoped>\n",
              "    .dataframe tbody tr th:only-of-type {\n",
              "        vertical-align: middle;\n",
              "    }\n",
              "\n",
              "    .dataframe tbody tr th {\n",
              "        vertical-align: top;\n",
              "    }\n",
              "\n",
              "    .dataframe thead th {\n",
              "        text-align: right;\n",
              "    }\n",
              "</style>\n",
              "<table border=\"1\" class=\"dataframe\">\n",
              "  <thead>\n",
              "    <tr style=\"text-align: right;\">\n",
              "      <th></th>\n",
              "      <th>duration</th>\n",
              "    </tr>\n",
              "    <tr>\n",
              "      <th>month</th>\n",
              "      <th></th>\n",
              "    </tr>\n",
              "  </thead>\n",
              "  <tbody>\n",
              "    <tr>\n",
              "      <th>2014-11</th>\n",
              "      <td>26639.441</td>\n",
              "    </tr>\n",
              "    <tr>\n",
              "      <th>2014-12</th>\n",
              "      <td>14641.870</td>\n",
              "    </tr>\n",
              "    <tr>\n",
              "      <th>2015-01</th>\n",
              "      <td>18223.299</td>\n",
              "    </tr>\n",
              "    <tr>\n",
              "      <th>2015-02</th>\n",
              "      <td>15522.299</td>\n",
              "    </tr>\n",
              "    <tr>\n",
              "      <th>2015-03</th>\n",
              "      <td>22750.441</td>\n",
              "    </tr>\n",
              "  </tbody>\n",
              "</table>\n",
              "</div>"
            ],
            "text/plain": [
              "          duration\n",
              "month             \n",
              "2014-11  26639.441\n",
              "2014-12  14641.870\n",
              "2015-01  18223.299\n",
              "2015-02  15522.299\n",
              "2015-03  22750.441"
            ]
          },
          "metadata": {
            "tags": []
          },
          "execution_count": 22
        }
      ]
    },
    {
      "cell_type": "code",
      "metadata": {
        "id": "9QGfsgZ9H_dQ",
        "colab_type": "code",
        "colab": {
          "base_uri": "https://localhost:8080/",
          "height": 204
        },
        "outputId": "bbbc7aeb-7640-4ff7-8883-ebe3ea83b296"
      },
      "source": [
        "df.groupby('month', as_index=False).agg({\"duration\": \"sum\"})"
      ],
      "execution_count": 23,
      "outputs": [
        {
          "output_type": "execute_result",
          "data": {
            "text/html": [
              "<div>\n",
              "<style scoped>\n",
              "    .dataframe tbody tr th:only-of-type {\n",
              "        vertical-align: middle;\n",
              "    }\n",
              "\n",
              "    .dataframe tbody tr th {\n",
              "        vertical-align: top;\n",
              "    }\n",
              "\n",
              "    .dataframe thead th {\n",
              "        text-align: right;\n",
              "    }\n",
              "</style>\n",
              "<table border=\"1\" class=\"dataframe\">\n",
              "  <thead>\n",
              "    <tr style=\"text-align: right;\">\n",
              "      <th></th>\n",
              "      <th>month</th>\n",
              "      <th>duration</th>\n",
              "    </tr>\n",
              "  </thead>\n",
              "  <tbody>\n",
              "    <tr>\n",
              "      <th>0</th>\n",
              "      <td>2014-11</td>\n",
              "      <td>26639.441</td>\n",
              "    </tr>\n",
              "    <tr>\n",
              "      <th>1</th>\n",
              "      <td>2014-12</td>\n",
              "      <td>14641.870</td>\n",
              "    </tr>\n",
              "    <tr>\n",
              "      <th>2</th>\n",
              "      <td>2015-01</td>\n",
              "      <td>18223.299</td>\n",
              "    </tr>\n",
              "    <tr>\n",
              "      <th>3</th>\n",
              "      <td>2015-02</td>\n",
              "      <td>15522.299</td>\n",
              "    </tr>\n",
              "    <tr>\n",
              "      <th>4</th>\n",
              "      <td>2015-03</td>\n",
              "      <td>22750.441</td>\n",
              "    </tr>\n",
              "  </tbody>\n",
              "</table>\n",
              "</div>"
            ],
            "text/plain": [
              "     month   duration\n",
              "0  2014-11  26639.441\n",
              "1  2014-12  14641.870\n",
              "2  2015-01  18223.299\n",
              "3  2015-02  15522.299\n",
              "4  2015-03  22750.441"
            ]
          },
          "metadata": {
            "tags": []
          },
          "execution_count": 23
        }
      ]
    },
    {
      "cell_type": "code",
      "metadata": {
        "id": "tv6szzT9IHeH",
        "colab_type": "code",
        "colab": {
          "base_uri": "https://localhost:8080/",
          "height": 545
        },
        "outputId": "12d67ecb-d698-44c0-b870-5d72a2e951d8"
      },
      "source": [
        "# Group the data frame by month and item and extract a number of stats from each group\n",
        "df.groupby(\n",
        "   ['month', 'item']\n",
        ").agg(\n",
        "    {\n",
        "         'duration':sum,    # Sum duration per group\n",
        "         'network_type': \"count\",  # get the count of networks\n",
        "         'date': 'first'  # get the first date per group\n",
        "    }\n",
        ")\n"
      ],
      "execution_count": 30,
      "outputs": [
        {
          "output_type": "execute_result",
          "data": {
            "text/html": [
              "<div>\n",
              "<style scoped>\n",
              "    .dataframe tbody tr th:only-of-type {\n",
              "        vertical-align: middle;\n",
              "    }\n",
              "\n",
              "    .dataframe tbody tr th {\n",
              "        vertical-align: top;\n",
              "    }\n",
              "\n",
              "    .dataframe thead th {\n",
              "        text-align: right;\n",
              "    }\n",
              "</style>\n",
              "<table border=\"1\" class=\"dataframe\">\n",
              "  <thead>\n",
              "    <tr style=\"text-align: right;\">\n",
              "      <th></th>\n",
              "      <th></th>\n",
              "      <th>duration</th>\n",
              "      <th>network_type</th>\n",
              "      <th>date</th>\n",
              "    </tr>\n",
              "    <tr>\n",
              "      <th>month</th>\n",
              "      <th>item</th>\n",
              "      <th></th>\n",
              "      <th></th>\n",
              "      <th></th>\n",
              "    </tr>\n",
              "  </thead>\n",
              "  <tbody>\n",
              "    <tr>\n",
              "      <th rowspan=\"3\" valign=\"top\">2014-11</th>\n",
              "      <th>call</th>\n",
              "      <td>25547.000</td>\n",
              "      <td>107</td>\n",
              "      <td>15/10/14 06:58</td>\n",
              "    </tr>\n",
              "    <tr>\n",
              "      <th>data</th>\n",
              "      <td>998.441</td>\n",
              "      <td>29</td>\n",
              "      <td>15/10/14 06:58</td>\n",
              "    </tr>\n",
              "    <tr>\n",
              "      <th>sms</th>\n",
              "      <td>94.000</td>\n",
              "      <td>94</td>\n",
              "      <td>16/10/14 22:18</td>\n",
              "    </tr>\n",
              "    <tr>\n",
              "      <th rowspan=\"3\" valign=\"top\">2014-12</th>\n",
              "      <th>call</th>\n",
              "      <td>13561.000</td>\n",
              "      <td>79</td>\n",
              "      <td>14/11/14 17:24</td>\n",
              "    </tr>\n",
              "    <tr>\n",
              "      <th>data</th>\n",
              "      <td>1032.870</td>\n",
              "      <td>30</td>\n",
              "      <td>13/11/14 06:58</td>\n",
              "    </tr>\n",
              "    <tr>\n",
              "      <th>sms</th>\n",
              "      <td>48.000</td>\n",
              "      <td>48</td>\n",
              "      <td>14/11/14 17:28</td>\n",
              "    </tr>\n",
              "    <tr>\n",
              "      <th rowspan=\"3\" valign=\"top\">2015-01</th>\n",
              "      <th>call</th>\n",
              "      <td>17070.000</td>\n",
              "      <td>88</td>\n",
              "      <td>15/12/14 20:03</td>\n",
              "    </tr>\n",
              "    <tr>\n",
              "      <th>data</th>\n",
              "      <td>1067.299</td>\n",
              "      <td>31</td>\n",
              "      <td>13/12/14 06:58</td>\n",
              "    </tr>\n",
              "    <tr>\n",
              "      <th>sms</th>\n",
              "      <td>86.000</td>\n",
              "      <td>86</td>\n",
              "      <td>15/12/14 19:56</td>\n",
              "    </tr>\n",
              "    <tr>\n",
              "      <th rowspan=\"3\" valign=\"top\">2015-02</th>\n",
              "      <th>call</th>\n",
              "      <td>14416.000</td>\n",
              "      <td>67</td>\n",
              "      <td>15/01/15 10:36</td>\n",
              "    </tr>\n",
              "    <tr>\n",
              "      <th>data</th>\n",
              "      <td>1067.299</td>\n",
              "      <td>31</td>\n",
              "      <td>13/01/15 06:58</td>\n",
              "    </tr>\n",
              "    <tr>\n",
              "      <th>sms</th>\n",
              "      <td>39.000</td>\n",
              "      <td>39</td>\n",
              "      <td>15/01/15 12:23</td>\n",
              "    </tr>\n",
              "    <tr>\n",
              "      <th rowspan=\"3\" valign=\"top\">2015-03</th>\n",
              "      <th>call</th>\n",
              "      <td>21727.000</td>\n",
              "      <td>47</td>\n",
              "      <td>12/02/15 20:15</td>\n",
              "    </tr>\n",
              "    <tr>\n",
              "      <th>data</th>\n",
              "      <td>998.441</td>\n",
              "      <td>29</td>\n",
              "      <td>13/02/15 06:58</td>\n",
              "    </tr>\n",
              "    <tr>\n",
              "      <th>sms</th>\n",
              "      <td>25.000</td>\n",
              "      <td>25</td>\n",
              "      <td>19/02/15 18:46</td>\n",
              "    </tr>\n",
              "  </tbody>\n",
              "</table>\n",
              "</div>"
            ],
            "text/plain": [
              "               duration  network_type            date\n",
              "month   item                                         \n",
              "2014-11 call  25547.000           107  15/10/14 06:58\n",
              "        data    998.441            29  15/10/14 06:58\n",
              "        sms      94.000            94  16/10/14 22:18\n",
              "2014-12 call  13561.000            79  14/11/14 17:24\n",
              "        data   1032.870            30  13/11/14 06:58\n",
              "        sms      48.000            48  14/11/14 17:28\n",
              "2015-01 call  17070.000            88  15/12/14 20:03\n",
              "        data   1067.299            31  13/12/14 06:58\n",
              "        sms      86.000            86  15/12/14 19:56\n",
              "2015-02 call  14416.000            67  15/01/15 10:36\n",
              "        data   1067.299            31  13/01/15 06:58\n",
              "        sms      39.000            39  15/01/15 12:23\n",
              "2015-03 call  21727.000            47  12/02/15 20:15\n",
              "        data    998.441            29  13/02/15 06:58\n",
              "        sms      25.000            25  19/02/15 18:46"
            ]
          },
          "metadata": {
            "tags": []
          },
          "execution_count": 30
        }
      ]
    },
    {
      "cell_type": "code",
      "metadata": {
        "id": "L6Ou_MJeKF88",
        "colab_type": "code",
        "colab": {
          "base_uri": "https://localhost:8080/",
          "height": 235
        },
        "outputId": "25d8cd6a-120c-4c29-f085-e92b24930e38"
      },
      "source": [
        "# Define the aggregation procedure outside of the groupby operation\n",
        "from datetime import datetime, timedelta\n",
        "aggregations = {\n",
        "    'duration':'sum',\n",
        "    'date': lambda x: max(x) - timedelta(days=1)\n",
        "}\n",
        "df.groupby('month').agg(aggregations)"
      ],
      "execution_count": 32,
      "outputs": [
        {
          "output_type": "execute_result",
          "data": {
            "text/html": [
              "<div>\n",
              "<style scoped>\n",
              "    .dataframe tbody tr th:only-of-type {\n",
              "        vertical-align: middle;\n",
              "    }\n",
              "\n",
              "    .dataframe tbody tr th {\n",
              "        vertical-align: top;\n",
              "    }\n",
              "\n",
              "    .dataframe thead th {\n",
              "        text-align: right;\n",
              "    }\n",
              "</style>\n",
              "<table border=\"1\" class=\"dataframe\">\n",
              "  <thead>\n",
              "    <tr style=\"text-align: right;\">\n",
              "      <th></th>\n",
              "      <th>duration</th>\n",
              "      <th>date</th>\n",
              "    </tr>\n",
              "    <tr>\n",
              "      <th>month</th>\n",
              "      <th></th>\n",
              "      <th></th>\n",
              "    </tr>\n",
              "  </thead>\n",
              "  <tbody>\n",
              "    <tr>\n",
              "      <th>2014-11</th>\n",
              "      <td>26639.441</td>\n",
              "      <td>2014-11-12 22:31:00</td>\n",
              "    </tr>\n",
              "    <tr>\n",
              "      <th>2014-12</th>\n",
              "      <td>14641.870</td>\n",
              "      <td>2014-12-13 19:54:00</td>\n",
              "    </tr>\n",
              "    <tr>\n",
              "      <th>2015-01</th>\n",
              "      <td>18223.299</td>\n",
              "      <td>2015-01-13 23:36:00</td>\n",
              "    </tr>\n",
              "    <tr>\n",
              "      <th>2015-02</th>\n",
              "      <td>15522.299</td>\n",
              "      <td>2015-02-11 06:58:00</td>\n",
              "    </tr>\n",
              "    <tr>\n",
              "      <th>2015-03</th>\n",
              "      <td>22750.441</td>\n",
              "      <td>2015-03-13 00:16:00</td>\n",
              "    </tr>\n",
              "  </tbody>\n",
              "</table>\n",
              "</div>"
            ],
            "text/plain": [
              "          duration                date\n",
              "month                                 \n",
              "2014-11  26639.441 2014-11-12 22:31:00\n",
              "2014-12  14641.870 2014-12-13 19:54:00\n",
              "2015-01  18223.299 2015-01-13 23:36:00\n",
              "2015-02  15522.299 2015-02-11 06:58:00\n",
              "2015-03  22750.441 2015-03-13 00:16:00"
            ]
          },
          "metadata": {
            "tags": []
          },
          "execution_count": 32
        }
      ]
    },
    {
      "cell_type": "code",
      "metadata": {
        "id": "-mnM-Pc7Fy26",
        "colab_type": "code",
        "colab": {
          "base_uri": "https://localhost:8080/",
          "height": 576
        },
        "outputId": "292fc848-51ec-4671-af0e-dbcb96e65128"
      },
      "source": [
        "# Group the data frame by month and item and extract a number of stats from each group\n",
        "df.groupby(\n",
        "    ['month', 'item']\n",
        ").agg(\n",
        "    {\n",
        "        # Find the min, max, and sum of the duration column\n",
        "        'duration': [min, max, sum],\n",
        "        # find the number of network type entries\n",
        "        'network_type': \"count\",\n",
        "        # minimum, first, and number of unique dates\n",
        "        'date': [min, 'first', 'nunique']\n",
        "    }\n",
        ")"
      ],
      "execution_count": 27,
      "outputs": [
        {
          "output_type": "execute_result",
          "data": {
            "text/html": [
              "<div>\n",
              "<style scoped>\n",
              "    .dataframe tbody tr th:only-of-type {\n",
              "        vertical-align: middle;\n",
              "    }\n",
              "\n",
              "    .dataframe tbody tr th {\n",
              "        vertical-align: top;\n",
              "    }\n",
              "\n",
              "    .dataframe thead tr th {\n",
              "        text-align: left;\n",
              "    }\n",
              "\n",
              "    .dataframe thead tr:last-of-type th {\n",
              "        text-align: right;\n",
              "    }\n",
              "</style>\n",
              "<table border=\"1\" class=\"dataframe\">\n",
              "  <thead>\n",
              "    <tr>\n",
              "      <th></th>\n",
              "      <th></th>\n",
              "      <th colspan=\"3\" halign=\"left\">duration</th>\n",
              "      <th>network_type</th>\n",
              "      <th colspan=\"3\" halign=\"left\">date</th>\n",
              "    </tr>\n",
              "    <tr>\n",
              "      <th></th>\n",
              "      <th></th>\n",
              "      <th>min</th>\n",
              "      <th>max</th>\n",
              "      <th>sum</th>\n",
              "      <th>count</th>\n",
              "      <th>min</th>\n",
              "      <th>first</th>\n",
              "      <th>nunique</th>\n",
              "    </tr>\n",
              "    <tr>\n",
              "      <th>month</th>\n",
              "      <th>item</th>\n",
              "      <th></th>\n",
              "      <th></th>\n",
              "      <th></th>\n",
              "      <th></th>\n",
              "      <th></th>\n",
              "      <th></th>\n",
              "      <th></th>\n",
              "    </tr>\n",
              "  </thead>\n",
              "  <tbody>\n",
              "    <tr>\n",
              "      <th rowspan=\"3\" valign=\"top\">2014-11</th>\n",
              "      <th>call</th>\n",
              "      <td>1.000</td>\n",
              "      <td>1940.000</td>\n",
              "      <td>25547.000</td>\n",
              "      <td>107</td>\n",
              "      <td>2014-10-15 06:58:00</td>\n",
              "      <td>2014-10-15 06:58:00</td>\n",
              "      <td>104</td>\n",
              "    </tr>\n",
              "    <tr>\n",
              "      <th>data</th>\n",
              "      <td>34.429</td>\n",
              "      <td>34.429</td>\n",
              "      <td>998.441</td>\n",
              "      <td>29</td>\n",
              "      <td>2014-10-15 06:58:00</td>\n",
              "      <td>2014-10-15 06:58:00</td>\n",
              "      <td>29</td>\n",
              "    </tr>\n",
              "    <tr>\n",
              "      <th>sms</th>\n",
              "      <td>1.000</td>\n",
              "      <td>1.000</td>\n",
              "      <td>94.000</td>\n",
              "      <td>94</td>\n",
              "      <td>2014-10-16 22:18:00</td>\n",
              "      <td>2014-10-16 22:18:00</td>\n",
              "      <td>79</td>\n",
              "    </tr>\n",
              "    <tr>\n",
              "      <th rowspan=\"3\" valign=\"top\">2014-12</th>\n",
              "      <th>call</th>\n",
              "      <td>2.000</td>\n",
              "      <td>2120.000</td>\n",
              "      <td>13561.000</td>\n",
              "      <td>79</td>\n",
              "      <td>2014-11-14 17:24:00</td>\n",
              "      <td>2014-11-14 17:24:00</td>\n",
              "      <td>76</td>\n",
              "    </tr>\n",
              "    <tr>\n",
              "      <th>data</th>\n",
              "      <td>34.429</td>\n",
              "      <td>34.429</td>\n",
              "      <td>1032.870</td>\n",
              "      <td>30</td>\n",
              "      <td>2014-11-13 06:58:00</td>\n",
              "      <td>2014-11-13 06:58:00</td>\n",
              "      <td>30</td>\n",
              "    </tr>\n",
              "    <tr>\n",
              "      <th>sms</th>\n",
              "      <td>1.000</td>\n",
              "      <td>1.000</td>\n",
              "      <td>48.000</td>\n",
              "      <td>48</td>\n",
              "      <td>2014-11-14 17:28:00</td>\n",
              "      <td>2014-11-14 17:28:00</td>\n",
              "      <td>41</td>\n",
              "    </tr>\n",
              "    <tr>\n",
              "      <th rowspan=\"3\" valign=\"top\">2015-01</th>\n",
              "      <th>call</th>\n",
              "      <td>2.000</td>\n",
              "      <td>1859.000</td>\n",
              "      <td>17070.000</td>\n",
              "      <td>88</td>\n",
              "      <td>2014-12-15 20:03:00</td>\n",
              "      <td>2014-12-15 20:03:00</td>\n",
              "      <td>84</td>\n",
              "    </tr>\n",
              "    <tr>\n",
              "      <th>data</th>\n",
              "      <td>34.429</td>\n",
              "      <td>34.429</td>\n",
              "      <td>1067.299</td>\n",
              "      <td>31</td>\n",
              "      <td>2014-12-13 06:58:00</td>\n",
              "      <td>2014-12-13 06:58:00</td>\n",
              "      <td>31</td>\n",
              "    </tr>\n",
              "    <tr>\n",
              "      <th>sms</th>\n",
              "      <td>1.000</td>\n",
              "      <td>1.000</td>\n",
              "      <td>86.000</td>\n",
              "      <td>86</td>\n",
              "      <td>2014-12-15 19:56:00</td>\n",
              "      <td>2014-12-15 19:56:00</td>\n",
              "      <td>58</td>\n",
              "    </tr>\n",
              "    <tr>\n",
              "      <th rowspan=\"3\" valign=\"top\">2015-02</th>\n",
              "      <th>call</th>\n",
              "      <td>1.000</td>\n",
              "      <td>1863.000</td>\n",
              "      <td>14416.000</td>\n",
              "      <td>67</td>\n",
              "      <td>2015-01-15 10:36:00</td>\n",
              "      <td>2015-01-15 10:36:00</td>\n",
              "      <td>67</td>\n",
              "    </tr>\n",
              "    <tr>\n",
              "      <th>data</th>\n",
              "      <td>34.429</td>\n",
              "      <td>34.429</td>\n",
              "      <td>1067.299</td>\n",
              "      <td>31</td>\n",
              "      <td>2015-01-13 06:58:00</td>\n",
              "      <td>2015-01-13 06:58:00</td>\n",
              "      <td>31</td>\n",
              "    </tr>\n",
              "    <tr>\n",
              "      <th>sms</th>\n",
              "      <td>1.000</td>\n",
              "      <td>1.000</td>\n",
              "      <td>39.000</td>\n",
              "      <td>39</td>\n",
              "      <td>2015-01-15 12:23:00</td>\n",
              "      <td>2015-01-15 12:23:00</td>\n",
              "      <td>27</td>\n",
              "    </tr>\n",
              "    <tr>\n",
              "      <th rowspan=\"3\" valign=\"top\">2015-03</th>\n",
              "      <th>call</th>\n",
              "      <td>2.000</td>\n",
              "      <td>10528.000</td>\n",
              "      <td>21727.000</td>\n",
              "      <td>47</td>\n",
              "      <td>2015-02-12 20:15:00</td>\n",
              "      <td>2015-02-12 20:15:00</td>\n",
              "      <td>47</td>\n",
              "    </tr>\n",
              "    <tr>\n",
              "      <th>data</th>\n",
              "      <td>34.429</td>\n",
              "      <td>34.429</td>\n",
              "      <td>998.441</td>\n",
              "      <td>29</td>\n",
              "      <td>2015-02-13 06:58:00</td>\n",
              "      <td>2015-02-13 06:58:00</td>\n",
              "      <td>29</td>\n",
              "    </tr>\n",
              "    <tr>\n",
              "      <th>sms</th>\n",
              "      <td>1.000</td>\n",
              "      <td>1.000</td>\n",
              "      <td>25.000</td>\n",
              "      <td>25</td>\n",
              "      <td>2015-02-19 18:46:00</td>\n",
              "      <td>2015-02-19 18:46:00</td>\n",
              "      <td>17</td>\n",
              "    </tr>\n",
              "  </tbody>\n",
              "</table>\n",
              "</div>"
            ],
            "text/plain": [
              "             duration             ...                date        \n",
              "                  min        max  ...               first nunique\n",
              "month   item                      ...                            \n",
              "2014-11 call    1.000   1940.000  ... 2014-10-15 06:58:00     104\n",
              "        data   34.429     34.429  ... 2014-10-15 06:58:00      29\n",
              "        sms     1.000      1.000  ... 2014-10-16 22:18:00      79\n",
              "2014-12 call    2.000   2120.000  ... 2014-11-14 17:24:00      76\n",
              "        data   34.429     34.429  ... 2014-11-13 06:58:00      30\n",
              "        sms     1.000      1.000  ... 2014-11-14 17:28:00      41\n",
              "2015-01 call    2.000   1859.000  ... 2014-12-15 20:03:00      84\n",
              "        data   34.429     34.429  ... 2014-12-13 06:58:00      31\n",
              "        sms     1.000      1.000  ... 2014-12-15 19:56:00      58\n",
              "2015-02 call    1.000   1863.000  ... 2015-01-15 10:36:00      67\n",
              "        data   34.429     34.429  ... 2015-01-13 06:58:00      31\n",
              "        sms     1.000      1.000  ... 2015-01-15 12:23:00      27\n",
              "2015-03 call    2.000  10528.000  ... 2015-02-12 20:15:00      47\n",
              "        data   34.429     34.429  ... 2015-02-13 06:58:00      29\n",
              "        sms     1.000      1.000  ... 2015-02-19 18:46:00      17\n",
              "\n",
              "[15 rows x 7 columns]"
            ]
          },
          "metadata": {
            "tags": []
          },
          "execution_count": 27
        }
      ]
    },
    {
      "cell_type": "code",
      "metadata": {
        "id": "HqRVJFzLRlmy",
        "colab_type": "code",
        "colab": {
          "base_uri": "https://localhost:8080/",
          "height": 576
        },
        "outputId": "e1e224e2-16aa-4ee5-e626-bb7963ec6b8e"
      },
      "source": [
        "# Group the data frame by month and item and extract a number of stats from each group\n",
        "df.groupby(\n",
        "    ['month', 'item']\n",
        ").agg(\n",
        "    {\n",
        "        # Find the min, max, and sum of the duration column\n",
        "        'duration': [min, max, sum],\n",
        "        # find the number of network type entries\n",
        "        'network_type': \"count\",\n",
        "        # minimum, first, and number of unique dates\n",
        "        'date': [min, 'first', 'nunique']\n",
        "    }\n",
        ")\n"
      ],
      "execution_count": 34,
      "outputs": [
        {
          "output_type": "execute_result",
          "data": {
            "text/html": [
              "<div>\n",
              "<style scoped>\n",
              "    .dataframe tbody tr th:only-of-type {\n",
              "        vertical-align: middle;\n",
              "    }\n",
              "\n",
              "    .dataframe tbody tr th {\n",
              "        vertical-align: top;\n",
              "    }\n",
              "\n",
              "    .dataframe thead tr th {\n",
              "        text-align: left;\n",
              "    }\n",
              "\n",
              "    .dataframe thead tr:last-of-type th {\n",
              "        text-align: right;\n",
              "    }\n",
              "</style>\n",
              "<table border=\"1\" class=\"dataframe\">\n",
              "  <thead>\n",
              "    <tr>\n",
              "      <th></th>\n",
              "      <th></th>\n",
              "      <th colspan=\"3\" halign=\"left\">duration</th>\n",
              "      <th>network_type</th>\n",
              "      <th colspan=\"3\" halign=\"left\">date</th>\n",
              "    </tr>\n",
              "    <tr>\n",
              "      <th></th>\n",
              "      <th></th>\n",
              "      <th>min</th>\n",
              "      <th>max</th>\n",
              "      <th>sum</th>\n",
              "      <th>count</th>\n",
              "      <th>min</th>\n",
              "      <th>first</th>\n",
              "      <th>nunique</th>\n",
              "    </tr>\n",
              "    <tr>\n",
              "      <th>month</th>\n",
              "      <th>item</th>\n",
              "      <th></th>\n",
              "      <th></th>\n",
              "      <th></th>\n",
              "      <th></th>\n",
              "      <th></th>\n",
              "      <th></th>\n",
              "      <th></th>\n",
              "    </tr>\n",
              "  </thead>\n",
              "  <tbody>\n",
              "    <tr>\n",
              "      <th rowspan=\"3\" valign=\"top\">2014-11</th>\n",
              "      <th>call</th>\n",
              "      <td>1.000</td>\n",
              "      <td>1940.000</td>\n",
              "      <td>25547.000</td>\n",
              "      <td>107</td>\n",
              "      <td>2014-10-15 06:58:00</td>\n",
              "      <td>2014-10-15 06:58:00</td>\n",
              "      <td>104</td>\n",
              "    </tr>\n",
              "    <tr>\n",
              "      <th>data</th>\n",
              "      <td>34.429</td>\n",
              "      <td>34.429</td>\n",
              "      <td>998.441</td>\n",
              "      <td>29</td>\n",
              "      <td>2014-10-15 06:58:00</td>\n",
              "      <td>2014-10-15 06:58:00</td>\n",
              "      <td>29</td>\n",
              "    </tr>\n",
              "    <tr>\n",
              "      <th>sms</th>\n",
              "      <td>1.000</td>\n",
              "      <td>1.000</td>\n",
              "      <td>94.000</td>\n",
              "      <td>94</td>\n",
              "      <td>2014-10-16 22:18:00</td>\n",
              "      <td>2014-10-16 22:18:00</td>\n",
              "      <td>79</td>\n",
              "    </tr>\n",
              "    <tr>\n",
              "      <th rowspan=\"3\" valign=\"top\">2014-12</th>\n",
              "      <th>call</th>\n",
              "      <td>2.000</td>\n",
              "      <td>2120.000</td>\n",
              "      <td>13561.000</td>\n",
              "      <td>79</td>\n",
              "      <td>2014-11-14 17:24:00</td>\n",
              "      <td>2014-11-14 17:24:00</td>\n",
              "      <td>76</td>\n",
              "    </tr>\n",
              "    <tr>\n",
              "      <th>data</th>\n",
              "      <td>34.429</td>\n",
              "      <td>34.429</td>\n",
              "      <td>1032.870</td>\n",
              "      <td>30</td>\n",
              "      <td>2014-11-13 06:58:00</td>\n",
              "      <td>2014-11-13 06:58:00</td>\n",
              "      <td>30</td>\n",
              "    </tr>\n",
              "    <tr>\n",
              "      <th>sms</th>\n",
              "      <td>1.000</td>\n",
              "      <td>1.000</td>\n",
              "      <td>48.000</td>\n",
              "      <td>48</td>\n",
              "      <td>2014-11-14 17:28:00</td>\n",
              "      <td>2014-11-14 17:28:00</td>\n",
              "      <td>41</td>\n",
              "    </tr>\n",
              "    <tr>\n",
              "      <th rowspan=\"3\" valign=\"top\">2015-01</th>\n",
              "      <th>call</th>\n",
              "      <td>2.000</td>\n",
              "      <td>1859.000</td>\n",
              "      <td>17070.000</td>\n",
              "      <td>88</td>\n",
              "      <td>2014-12-15 20:03:00</td>\n",
              "      <td>2014-12-15 20:03:00</td>\n",
              "      <td>84</td>\n",
              "    </tr>\n",
              "    <tr>\n",
              "      <th>data</th>\n",
              "      <td>34.429</td>\n",
              "      <td>34.429</td>\n",
              "      <td>1067.299</td>\n",
              "      <td>31</td>\n",
              "      <td>2014-12-13 06:58:00</td>\n",
              "      <td>2014-12-13 06:58:00</td>\n",
              "      <td>31</td>\n",
              "    </tr>\n",
              "    <tr>\n",
              "      <th>sms</th>\n",
              "      <td>1.000</td>\n",
              "      <td>1.000</td>\n",
              "      <td>86.000</td>\n",
              "      <td>86</td>\n",
              "      <td>2014-12-15 19:56:00</td>\n",
              "      <td>2014-12-15 19:56:00</td>\n",
              "      <td>58</td>\n",
              "    </tr>\n",
              "    <tr>\n",
              "      <th rowspan=\"3\" valign=\"top\">2015-02</th>\n",
              "      <th>call</th>\n",
              "      <td>1.000</td>\n",
              "      <td>1863.000</td>\n",
              "      <td>14416.000</td>\n",
              "      <td>67</td>\n",
              "      <td>2015-01-15 10:36:00</td>\n",
              "      <td>2015-01-15 10:36:00</td>\n",
              "      <td>67</td>\n",
              "    </tr>\n",
              "    <tr>\n",
              "      <th>data</th>\n",
              "      <td>34.429</td>\n",
              "      <td>34.429</td>\n",
              "      <td>1067.299</td>\n",
              "      <td>31</td>\n",
              "      <td>2015-01-13 06:58:00</td>\n",
              "      <td>2015-01-13 06:58:00</td>\n",
              "      <td>31</td>\n",
              "    </tr>\n",
              "    <tr>\n",
              "      <th>sms</th>\n",
              "      <td>1.000</td>\n",
              "      <td>1.000</td>\n",
              "      <td>39.000</td>\n",
              "      <td>39</td>\n",
              "      <td>2015-01-15 12:23:00</td>\n",
              "      <td>2015-01-15 12:23:00</td>\n",
              "      <td>27</td>\n",
              "    </tr>\n",
              "    <tr>\n",
              "      <th rowspan=\"3\" valign=\"top\">2015-03</th>\n",
              "      <th>call</th>\n",
              "      <td>2.000</td>\n",
              "      <td>10528.000</td>\n",
              "      <td>21727.000</td>\n",
              "      <td>47</td>\n",
              "      <td>2015-02-12 20:15:00</td>\n",
              "      <td>2015-02-12 20:15:00</td>\n",
              "      <td>47</td>\n",
              "    </tr>\n",
              "    <tr>\n",
              "      <th>data</th>\n",
              "      <td>34.429</td>\n",
              "      <td>34.429</td>\n",
              "      <td>998.441</td>\n",
              "      <td>29</td>\n",
              "      <td>2015-02-13 06:58:00</td>\n",
              "      <td>2015-02-13 06:58:00</td>\n",
              "      <td>29</td>\n",
              "    </tr>\n",
              "    <tr>\n",
              "      <th>sms</th>\n",
              "      <td>1.000</td>\n",
              "      <td>1.000</td>\n",
              "      <td>25.000</td>\n",
              "      <td>25</td>\n",
              "      <td>2015-02-19 18:46:00</td>\n",
              "      <td>2015-02-19 18:46:00</td>\n",
              "      <td>17</td>\n",
              "    </tr>\n",
              "  </tbody>\n",
              "</table>\n",
              "</div>"
            ],
            "text/plain": [
              "             duration             ...                date        \n",
              "                  min        max  ...               first nunique\n",
              "month   item                      ...                            \n",
              "2014-11 call    1.000   1940.000  ... 2014-10-15 06:58:00     104\n",
              "        data   34.429     34.429  ... 2014-10-15 06:58:00      29\n",
              "        sms     1.000      1.000  ... 2014-10-16 22:18:00      79\n",
              "2014-12 call    2.000   2120.000  ... 2014-11-14 17:24:00      76\n",
              "        data   34.429     34.429  ... 2014-11-13 06:58:00      30\n",
              "        sms     1.000      1.000  ... 2014-11-14 17:28:00      41\n",
              "2015-01 call    2.000   1859.000  ... 2014-12-15 20:03:00      84\n",
              "        data   34.429     34.429  ... 2014-12-13 06:58:00      31\n",
              "        sms     1.000      1.000  ... 2014-12-15 19:56:00      58\n",
              "2015-02 call    1.000   1863.000  ... 2015-01-15 10:36:00      67\n",
              "        data   34.429     34.429  ... 2015-01-13 06:58:00      31\n",
              "        sms     1.000      1.000  ... 2015-01-15 12:23:00      27\n",
              "2015-03 call    2.000  10528.000  ... 2015-02-12 20:15:00      47\n",
              "        data   34.429     34.429  ... 2015-02-13 06:58:00      29\n",
              "        sms     1.000      1.000  ... 2015-02-19 18:46:00      17\n",
              "\n",
              "[15 rows x 7 columns]"
            ]
          },
          "metadata": {
            "tags": []
          },
          "execution_count": 34
        }
      ]
    },
    {
      "cell_type": "code",
      "metadata": {
        "id": "n9U0hhZWYcze",
        "colab_type": "code",
        "colab": {
          "base_uri": "https://localhost:8080/",
          "height": 235
        },
        "outputId": "60bd77d7-8e34-43fb-db47-3f9c0633680c"
      },
      "source": [
        "df[df['item'] == 'call'].groupby('month').agg(\n",
        "    # Get max of the duration column for each group\n",
        "    max_duration=('duration', max),\n",
        "    # Get min of the duration column for each group\n",
        "    min_duration=('duration', min),\n",
        "    # Get sum of the duration column for each group\n",
        "    total_duration=('duration', sum),\n",
        "    # Apply a lambda to date column\n",
        "    num_days=(\"date\", lambda x: (max(x) - min(x)).days)    \n",
        ")\n"
      ],
      "execution_count": 35,
      "outputs": [
        {
          "output_type": "execute_result",
          "data": {
            "text/html": [
              "<div>\n",
              "<style scoped>\n",
              "    .dataframe tbody tr th:only-of-type {\n",
              "        vertical-align: middle;\n",
              "    }\n",
              "\n",
              "    .dataframe tbody tr th {\n",
              "        vertical-align: top;\n",
              "    }\n",
              "\n",
              "    .dataframe thead th {\n",
              "        text-align: right;\n",
              "    }\n",
              "</style>\n",
              "<table border=\"1\" class=\"dataframe\">\n",
              "  <thead>\n",
              "    <tr style=\"text-align: right;\">\n",
              "      <th></th>\n",
              "      <th>max_duration</th>\n",
              "      <th>min_duration</th>\n",
              "      <th>total_duration</th>\n",
              "      <th>num_days</th>\n",
              "    </tr>\n",
              "    <tr>\n",
              "      <th>month</th>\n",
              "      <th></th>\n",
              "      <th></th>\n",
              "      <th></th>\n",
              "      <th></th>\n",
              "    </tr>\n",
              "  </thead>\n",
              "  <tbody>\n",
              "    <tr>\n",
              "      <th>2014-11</th>\n",
              "      <td>1940.0</td>\n",
              "      <td>1.0</td>\n",
              "      <td>25547.0</td>\n",
              "      <td>28</td>\n",
              "    </tr>\n",
              "    <tr>\n",
              "      <th>2014-12</th>\n",
              "      <td>2120.0</td>\n",
              "      <td>2.0</td>\n",
              "      <td>13561.0</td>\n",
              "      <td>30</td>\n",
              "    </tr>\n",
              "    <tr>\n",
              "      <th>2015-01</th>\n",
              "      <td>1859.0</td>\n",
              "      <td>2.0</td>\n",
              "      <td>17070.0</td>\n",
              "      <td>30</td>\n",
              "    </tr>\n",
              "    <tr>\n",
              "      <th>2015-02</th>\n",
              "      <td>1863.0</td>\n",
              "      <td>1.0</td>\n",
              "      <td>14416.0</td>\n",
              "      <td>25</td>\n",
              "    </tr>\n",
              "    <tr>\n",
              "      <th>2015-03</th>\n",
              "      <td>10528.0</td>\n",
              "      <td>2.0</td>\n",
              "      <td>21727.0</td>\n",
              "      <td>19</td>\n",
              "    </tr>\n",
              "  </tbody>\n",
              "</table>\n",
              "</div>"
            ],
            "text/plain": [
              "         max_duration  min_duration  total_duration  num_days\n",
              "month                                                        \n",
              "2014-11        1940.0           1.0         25547.0        28\n",
              "2014-12        2120.0           2.0         13561.0        30\n",
              "2015-01        1859.0           2.0         17070.0        30\n",
              "2015-02        1863.0           1.0         14416.0        25\n",
              "2015-03       10528.0           2.0         21727.0        19"
            ]
          },
          "metadata": {
            "tags": []
          },
          "execution_count": 35
        }
      ]
    },
    {
      "cell_type": "code",
      "metadata": {
        "id": "hUa2IJ_1FPm1",
        "colab_type": "code",
        "colab": {
          "base_uri": "https://localhost:8080/",
          "height": 235
        },
        "outputId": "751491dc-ba60-4e6f-8d6f-bc3edfc79610"
      },
      "source": [
        "df[df['item'] == 'call'].groupby('month').agg(\n",
        "    max_duration=pd.NamedAgg(column='duration', aggfunc=max),\n",
        "    min_duration=pd.NamedAgg(column='duration', aggfunc=min),\n",
        "    total_duration=pd.NamedAgg(column='duration', aggfunc=sum),\n",
        "    num_days=pd.NamedAgg(\n",
        "        column=\"date\", \n",
        "        aggfunc=lambda x: (max(x) - min(x)).days)    \n",
        ")"
      ],
      "execution_count": 36,
      "outputs": [
        {
          "output_type": "execute_result",
          "data": {
            "text/html": [
              "<div>\n",
              "<style scoped>\n",
              "    .dataframe tbody tr th:only-of-type {\n",
              "        vertical-align: middle;\n",
              "    }\n",
              "\n",
              "    .dataframe tbody tr th {\n",
              "        vertical-align: top;\n",
              "    }\n",
              "\n",
              "    .dataframe thead th {\n",
              "        text-align: right;\n",
              "    }\n",
              "</style>\n",
              "<table border=\"1\" class=\"dataframe\">\n",
              "  <thead>\n",
              "    <tr style=\"text-align: right;\">\n",
              "      <th></th>\n",
              "      <th>max_duration</th>\n",
              "      <th>min_duration</th>\n",
              "      <th>total_duration</th>\n",
              "      <th>num_days</th>\n",
              "    </tr>\n",
              "    <tr>\n",
              "      <th>month</th>\n",
              "      <th></th>\n",
              "      <th></th>\n",
              "      <th></th>\n",
              "      <th></th>\n",
              "    </tr>\n",
              "  </thead>\n",
              "  <tbody>\n",
              "    <tr>\n",
              "      <th>2014-11</th>\n",
              "      <td>1940.0</td>\n",
              "      <td>1.0</td>\n",
              "      <td>25547.0</td>\n",
              "      <td>28</td>\n",
              "    </tr>\n",
              "    <tr>\n",
              "      <th>2014-12</th>\n",
              "      <td>2120.0</td>\n",
              "      <td>2.0</td>\n",
              "      <td>13561.0</td>\n",
              "      <td>30</td>\n",
              "    </tr>\n",
              "    <tr>\n",
              "      <th>2015-01</th>\n",
              "      <td>1859.0</td>\n",
              "      <td>2.0</td>\n",
              "      <td>17070.0</td>\n",
              "      <td>30</td>\n",
              "    </tr>\n",
              "    <tr>\n",
              "      <th>2015-02</th>\n",
              "      <td>1863.0</td>\n",
              "      <td>1.0</td>\n",
              "      <td>14416.0</td>\n",
              "      <td>25</td>\n",
              "    </tr>\n",
              "    <tr>\n",
              "      <th>2015-03</th>\n",
              "      <td>10528.0</td>\n",
              "      <td>2.0</td>\n",
              "      <td>21727.0</td>\n",
              "      <td>19</td>\n",
              "    </tr>\n",
              "  </tbody>\n",
              "</table>\n",
              "</div>"
            ],
            "text/plain": [
              "         max_duration  min_duration  total_duration  num_days\n",
              "month                                                        \n",
              "2014-11        1940.0           1.0         25547.0        28\n",
              "2014-12        2120.0           2.0         13561.0        30\n",
              "2015-01        1859.0           2.0         17070.0        30\n",
              "2015-02        1863.0           1.0         14416.0        25\n",
              "2015-03       10528.0           2.0         21727.0        19"
            ]
          },
          "metadata": {
            "tags": []
          },
          "execution_count": 36
        }
      ]
    },
    {
      "cell_type": "code",
      "metadata": {
        "id": "A2ZPctOGYuyo",
        "colab_type": "code",
        "colab": {
          "base_uri": "https://localhost:8080/",
          "height": 129
        },
        "outputId": "1000a535-6371-45e7-bcc1-47b52fa99473"
      },
      "source": [
        "grouped = df.groupby('month').agg(\"duration\": [min, max, mean])\n",
        "\n",
        "grouped.columns = grouped.columns.droplevel(level=0)\n",
        "grouped.rename(columns={\n",
        "    \"min\": \"min_duration\", \"max\": \"max_duration\", \"mean\": \"mean_duration\"\n",
        "})\n",
        "grouped.head()\n"
      ],
      "execution_count": 39,
      "outputs": [
        {
          "output_type": "error",
          "ename": "SyntaxError",
          "evalue": "ignored",
          "traceback": [
            "\u001b[0;36m  File \u001b[0;32m\"<ipython-input-39-40d992ff8a39>\"\u001b[0;36m, line \u001b[0;32m1\u001b[0m\n\u001b[0;31m    grouped = df.groupby('month').agg(\"duration\": [min, max, mean])\u001b[0m\n\u001b[0m                                                ^\u001b[0m\n\u001b[0;31mSyntaxError\u001b[0m\u001b[0;31m:\u001b[0m invalid syntax\n"
          ]
        }
      ]
    },
    {
      "cell_type": "code",
      "metadata": {
        "id": "oIpza1hLZZsv",
        "colab_type": "code",
        "colab": {
          "base_uri": "https://localhost:8080/",
          "height": 340
        },
        "outputId": "9cb4c766-aca8-4d52-99d0-623dda509260"
      },
      "source": [
        "# Define the aggregation calculations\n",
        "aggregations = {\n",
        "    # work on the \"duration\" column\n",
        "    'duration': { \n",
        "        # get the sum, and call this result 'total_duration'\n",
        "        'total_duration': 'sum',  \n",
        "        # get mean, call result 'average_duration'\n",
        "        'average_duration': 'mean', \n",
        "        'num_calls': 'count'\n",
        "    },\n",
        "    # Now work on the \"date\" column\n",
        "    'date': {     \n",
        "        # Find the max, call the result \"max_date\" \n",
        "        'max_date': 'max',           \n",
        "        'min_date': 'min',\n",
        "        # Calculate the date range per group\n",
        "        'num_days': lambda x: max(x) - min(x)  \n",
        "    },\n",
        "     # Calculate two results for the 'network' column with a list\n",
        "    'network': [\"count\", \"max\"] \n",
        "}\n",
        "# Perform groupby aggregation by \"month\", \n",
        "# but only on the rows that are of type \"call\"\n",
        "df[df['item'] == 'call'].groupby('month').agg(aggregations)\n"
      ],
      "execution_count": 40,
      "outputs": [
        {
          "output_type": "error",
          "ename": "SpecificationError",
          "evalue": "ignored",
          "traceback": [
            "\u001b[0;31m---------------------------------------------------------------------------\u001b[0m",
            "\u001b[0;31mSpecificationError\u001b[0m                        Traceback (most recent call last)",
            "\u001b[0;32m<ipython-input-40-fbd521873554>\u001b[0m in \u001b[0;36m<module>\u001b[0;34m()\u001b[0m\n\u001b[1;32m     22\u001b[0m \u001b[0;31m# Perform groupby aggregation by \"month\",\u001b[0m\u001b[0;34m\u001b[0m\u001b[0;34m\u001b[0m\u001b[0;34m\u001b[0m\u001b[0m\n\u001b[1;32m     23\u001b[0m \u001b[0;31m# but only on the rows that are of type \"call\"\u001b[0m\u001b[0;34m\u001b[0m\u001b[0;34m\u001b[0m\u001b[0;34m\u001b[0m\u001b[0m\n\u001b[0;32m---> 24\u001b[0;31m \u001b[0mdf\u001b[0m\u001b[0;34m[\u001b[0m\u001b[0mdf\u001b[0m\u001b[0;34m[\u001b[0m\u001b[0;34m'item'\u001b[0m\u001b[0;34m]\u001b[0m \u001b[0;34m==\u001b[0m \u001b[0;34m'call'\u001b[0m\u001b[0;34m]\u001b[0m\u001b[0;34m.\u001b[0m\u001b[0mgroupby\u001b[0m\u001b[0;34m(\u001b[0m\u001b[0;34m'month'\u001b[0m\u001b[0;34m)\u001b[0m\u001b[0;34m.\u001b[0m\u001b[0magg\u001b[0m\u001b[0;34m(\u001b[0m\u001b[0maggregations\u001b[0m\u001b[0;34m)\u001b[0m\u001b[0;34m\u001b[0m\u001b[0;34m\u001b[0m\u001b[0m\n\u001b[0m",
            "\u001b[0;32m/usr/local/lib/python3.6/dist-packages/pandas/core/groupby/generic.py\u001b[0m in \u001b[0;36maggregate\u001b[0;34m(self, func, *args, **kwargs)\u001b[0m\n\u001b[1;32m    926\u001b[0m         \u001b[0mfunc\u001b[0m \u001b[0;34m=\u001b[0m \u001b[0m_maybe_mangle_lambdas\u001b[0m\u001b[0;34m(\u001b[0m\u001b[0mfunc\u001b[0m\u001b[0;34m)\u001b[0m\u001b[0;34m\u001b[0m\u001b[0;34m\u001b[0m\u001b[0m\n\u001b[1;32m    927\u001b[0m \u001b[0;34m\u001b[0m\u001b[0m\n\u001b[0;32m--> 928\u001b[0;31m         \u001b[0mresult\u001b[0m\u001b[0;34m,\u001b[0m \u001b[0mhow\u001b[0m \u001b[0;34m=\u001b[0m \u001b[0mself\u001b[0m\u001b[0;34m.\u001b[0m\u001b[0m_aggregate\u001b[0m\u001b[0;34m(\u001b[0m\u001b[0mfunc\u001b[0m\u001b[0;34m,\u001b[0m \u001b[0;34m*\u001b[0m\u001b[0margs\u001b[0m\u001b[0;34m,\u001b[0m \u001b[0;34m**\u001b[0m\u001b[0mkwargs\u001b[0m\u001b[0;34m)\u001b[0m\u001b[0;34m\u001b[0m\u001b[0;34m\u001b[0m\u001b[0m\n\u001b[0m\u001b[1;32m    929\u001b[0m         \u001b[0;32mif\u001b[0m \u001b[0mhow\u001b[0m \u001b[0;32mis\u001b[0m \u001b[0;32mNone\u001b[0m\u001b[0;34m:\u001b[0m\u001b[0;34m\u001b[0m\u001b[0;34m\u001b[0m\u001b[0m\n\u001b[1;32m    930\u001b[0m             \u001b[0;32mreturn\u001b[0m \u001b[0mresult\u001b[0m\u001b[0;34m\u001b[0m\u001b[0;34m\u001b[0m\u001b[0m\n",
            "\u001b[0;32m/usr/local/lib/python3.6/dist-packages/pandas/core/base.py\u001b[0m in \u001b[0;36m_aggregate\u001b[0;34m(self, arg, *args, **kwargs)\u001b[0m\n\u001b[1;32m    340\u001b[0m                     \u001b[0;31m# {'ra' : { 'A' : 'mean' }}\u001b[0m\u001b[0;34m\u001b[0m\u001b[0;34m\u001b[0m\u001b[0;34m\u001b[0m\u001b[0m\n\u001b[1;32m    341\u001b[0m                     \u001b[0;32mif\u001b[0m \u001b[0misinstance\u001b[0m\u001b[0;34m(\u001b[0m\u001b[0mv\u001b[0m\u001b[0;34m,\u001b[0m \u001b[0mdict\u001b[0m\u001b[0;34m)\u001b[0m\u001b[0;34m:\u001b[0m\u001b[0;34m\u001b[0m\u001b[0;34m\u001b[0m\u001b[0m\n\u001b[0;32m--> 342\u001b[0;31m                         \u001b[0;32mraise\u001b[0m \u001b[0mSpecificationError\u001b[0m\u001b[0;34m(\u001b[0m\u001b[0;34m\"nested renamer is not supported\"\u001b[0m\u001b[0;34m)\u001b[0m\u001b[0;34m\u001b[0m\u001b[0;34m\u001b[0m\u001b[0m\n\u001b[0m\u001b[1;32m    343\u001b[0m                     \u001b[0;32melif\u001b[0m \u001b[0misinstance\u001b[0m\u001b[0;34m(\u001b[0m\u001b[0mobj\u001b[0m\u001b[0;34m,\u001b[0m \u001b[0mABCSeries\u001b[0m\u001b[0;34m)\u001b[0m\u001b[0;34m:\u001b[0m\u001b[0;34m\u001b[0m\u001b[0;34m\u001b[0m\u001b[0m\n\u001b[1;32m    344\u001b[0m                         \u001b[0;32mraise\u001b[0m \u001b[0mSpecificationError\u001b[0m\u001b[0;34m(\u001b[0m\u001b[0;34m\"nested renamer is not supported\"\u001b[0m\u001b[0;34m)\u001b[0m\u001b[0;34m\u001b[0m\u001b[0;34m\u001b[0m\u001b[0m\n",
            "\u001b[0;31mSpecificationError\u001b[0m: nested renamer is not supported"
          ]
        }
      ]
    },
    {
      "cell_type": "code",
      "metadata": {
        "id": "5qiu7BxMY2Hn",
        "colab_type": "code",
        "colab": {}
      },
      "source": [
        ""
      ],
      "execution_count": null,
      "outputs": []
    }
  ]
}