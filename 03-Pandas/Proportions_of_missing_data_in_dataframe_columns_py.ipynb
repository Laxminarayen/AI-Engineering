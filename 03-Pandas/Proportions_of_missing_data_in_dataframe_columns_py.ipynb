{
  "nbformat": 4,
  "nbformat_minor": 0,
  "metadata": {
    "colab": {
      "name": "Proportions of missing data in dataframe columns.py.ipynb",
      "provenance": [],
      "authorship_tag": "ABX9TyMOcPt551xQjhcl7jwm/FTk",
      "include_colab_link": true
    },
    "kernelspec": {
      "name": "python3",
      "display_name": "Python 3"
    }
  },
  "cells": [
    {
      "cell_type": "markdown",
      "metadata": {
        "id": "view-in-github",
        "colab_type": "text"
      },
      "source": [
        "<a href=\"https://colab.research.google.com/github/plthiyagu/Personnel/blob/master/Proportions_of_missing_data_in_dataframe_columns_py.ipynb\" target=\"_parent\"><img src=\"https://colab.research.google.com/assets/colab-badge.svg\" alt=\"Open In Colab\"/></a>"
      ]
    },
    {
      "cell_type": "code",
      "metadata": {
        "id": "oQv7GZ7blSaI",
        "colab_type": "code",
        "colab": {
          "base_uri": "https://localhost:8080/",
          "height": 71
        },
        "outputId": "4eef7874-f7bf-4093-f05a-64f852021550"
      },
      "source": [
        "import numpy as np\n",
        "import pandas as pd\n",
        "import matplotlib.pyplot as plt\n",
        "import seaborn as sns"
      ],
      "execution_count": 2,
      "outputs": [
        {
          "output_type": "stream",
          "text": [
            "/usr/local/lib/python3.6/dist-packages/statsmodels/tools/_testing.py:19: FutureWarning: pandas.util.testing is deprecated. Use the functions in the public API at pandas.testing instead.\n",
            "  import pandas.util.testing as tm\n"
          ],
          "name": "stderr"
        }
      ]
    },
    {
      "cell_type": "code",
      "metadata": {
        "id": "X6LYzlwQiAPE",
        "colab_type": "code",
        "colab": {}
      },
      "source": [
        "def missing_values_table(df):\n",
        "        mis_val = df.isnull().sum()\n",
        "        mis_val_percent = 100 * df.isnull().sum() / len(df)\n",
        "        mis_val_table = pd.concat([mis_val, mis_val_percent], axis=1)\n",
        "        mis_val_table_ren_columns = mis_val_table.rename(\n",
        "        columns = {0 : 'Missing Values', 1 : '% of Total Values'})\n",
        "        mis_val_table_ren_columns = mis_val_table_ren_columns[\n",
        "            mis_val_table_ren_columns.iloc[:,1] != 0].sort_values(\n",
        "        '% of Total Values', ascending=False).round(1)\n",
        "        print (\"Your selected dataframe has \" + str(df.shape[1]) + \" columns.\\n\"      \n",
        "            \"There are \" + str(mis_val_table_ren_columns.shape[0]) +\n",
        "              \" columns that have missing values.\")\n",
        "        return mis_val_table_ren_columns"
      ],
      "execution_count": 1,
      "outputs": []
    },
    {
      "cell_type": "markdown",
      "metadata": {
        "id": "wbLc-NazlgNe",
        "colab_type": "text"
      },
      "source": [
        "You can use following function, which will give you output in Dataframe\n",
        "\n",
        "Zero Values\n",
        "Missing Values\n",
        "% of Total Values\n",
        "Total Zero Missing Values\n",
        "% Total Zero Missing Values\n",
        "Data Type\n",
        "Just copy and paste following function and call it by passing your pandas Dataframe\n",
        "\n"
      ]
    },
    {
      "cell_type": "code",
      "metadata": {
        "id": "IoBY1YsElQbw",
        "colab_type": "code",
        "colab": {}
      },
      "source": [
        "def missing_zero_values_table(df):\n",
        "        zero_val = (df == 0.00).astype(int).sum(axis=0)\n",
        "        mis_val = df.isnull().sum()\n",
        "        mis_val_percent = 100 * df.isnull().sum() / len(df)\n",
        "        mz_table = pd.concat([zero_val, mis_val, mis_val_percent], axis=1)\n",
        "        mz_table = mz_table.rename(\n",
        "        columns = {0 : 'Zero Values', 1 : 'Missing Values', 2 : '% of Total Values'})\n",
        "        mz_table['Total Zero Missing Values'] = mz_table['Zero Values'] + mz_table['Missing Values']\n",
        "        mz_table['% Total Zero Missing Values'] = 100 * mz_table['Total Zero Missing Values'] / len(df)\n",
        "        mz_table['Data Type'] = df.dtypes\n",
        "        mz_table = mz_table[\n",
        "            mz_table.iloc[:,1] != 0].sort_values(\n",
        "        '% of Total Values', ascending=False).round(1)\n",
        "        print (\"Your selected dataframe has \" + str(df.shape[1]) + \" columns and \" + str(df.shape[0]) + \" Rows.\\n\"      \n",
        "            \"There are \" + str(mz_table.shape[0]) +\n",
        "              \" columns that have missing values.\")\n",
        "#         mz_table.to_excel('D:/sampledata/missing_and_zero_values.xlsx', freeze_panes=(1,0), index = False)\n",
        "        return mz_table"
      ],
      "execution_count": 3,
      "outputs": []
    },
    {
      "cell_type": "code",
      "metadata": {
        "id": "7rYbJSWVlktN",
        "colab_type": "code",
        "colab": {}
      },
      "source": [
        "def PercentageMissin(Dataset):\n",
        "    \"\"\"this function will return the percentage of missing values in a dataset \"\"\"\n",
        "    if isinstance(Dataset,pd.DataFrame):\n",
        "        adict={} #a dictionary conatin keys columns names and values percentage of missin value in the columns\n",
        "        for col in Dataset.columns:\n",
        "            adict[col]=(np.count_nonzero(Dataset[col].isnull())*100)/len(Dataset[col])\n",
        "        return pd.DataFrame(adict,index=['% of missing'],columns=adict.keys())\n",
        "    else:\n",
        "        raise TypeError(\"can only be used with panda dataframe\")\n"
      ],
      "execution_count": 4,
      "outputs": []
    },
    {
      "cell_type": "markdown",
      "metadata": {
        "id": "UBnL95oDmf6O",
        "colab_type": "text"
      },
      "source": [
        "How to count the number of missing values in each row in Pandas dataframe?\n"
      ]
    },
    {
      "cell_type": "code",
      "metadata": {
        "id": "SM11d1KJl3aI",
        "colab_type": "code",
        "colab": {}
      },
      "source": [
        "test_df['full_count'] = test_df.apply(lambda x: x.count(), axis=1)\n",
        "test_df.apply(lambda x: x.count(), axis=1)\n"
      ],
      "execution_count": null,
      "outputs": []
    },
    {
      "cell_type": "markdown",
      "metadata": {
        "id": "Dey_9oKSmwrP",
        "colab_type": "text"
      },
      "source": [
        "blank values along the column,\n",
        "\n"
      ]
    },
    {
      "cell_type": "code",
      "metadata": {
        "id": "0DWPIrQzmvCR",
        "colab_type": "code",
        "colab": {}
      },
      "source": [
        "c = (df == '').sum(axis=0)"
      ],
      "execution_count": null,
      "outputs": []
    },
    {
      "cell_type": "markdown",
      "metadata": {
        "id": "7DoTKYsCm0Dy",
        "colab_type": "text"
      },
      "source": [
        "null values along the row,\n",
        "\n"
      ]
    },
    {
      "cell_type": "code",
      "metadata": {
        "id": "ezXcsLqlm2_Y",
        "colab_type": "code",
        "colab": {}
      },
      "source": [
        "df.isnull().sum(axis=1)\n"
      ],
      "execution_count": null,
      "outputs": []
    },
    {
      "cell_type": "markdown",
      "metadata": {
        "id": "b1haFyitm7S2",
        "colab_type": "text"
      },
      "source": [
        "blank values along the row,\n"
      ]
    },
    {
      "cell_type": "code",
      "metadata": {
        "id": "Lx5On8Bkm6O3",
        "colab_type": "code",
        "colab": {}
      },
      "source": [
        "c = (df == '').sum(axis=1)"
      ],
      "execution_count": null,
      "outputs": []
    },
    {
      "cell_type": "code",
      "metadata": {
        "id": "xJ7gIGrMm6Cp",
        "colab_type": "code",
        "colab": {}
      },
      "source": [
        ""
      ],
      "execution_count": null,
      "outputs": []
    }
  ]
}