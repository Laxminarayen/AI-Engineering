{
  "nbformat": 4,
  "nbformat_minor": 0,
  "metadata": {
    "colab": {
      "name": "Pandas Version.ipynb",
      "provenance": [],
      "authorship_tag": "ABX9TyMdIB7aao6jTIjR2RniZyHj",
      "include_colab_link": true
    },
    "kernelspec": {
      "name": "python3",
      "display_name": "Python 3"
    }
  },
  "cells": [
    {
      "cell_type": "markdown",
      "metadata": {
        "id": "view-in-github",
        "colab_type": "text"
      },
      "source": [
        "<a href=\"https://colab.research.google.com/github/plthiyagu/AI-Engineering/blob/master/03-Pandas/Pandas_Version.ipynb\" target=\"_parent\"><img src=\"https://colab.research.google.com/assets/colab-badge.svg\" alt=\"Open In Colab\"/></a>"
      ]
    },
    {
      "cell_type": "code",
      "metadata": {
        "colab": {
          "base_uri": "https://localhost:8080/"
        },
        "id": "4OqeXZ7XBWt1",
        "outputId": "eab0d996-7d7c-47ae-c974-f83bc14f7fa5"
      },
      "source": [
        "import numpy as np  # optional\r\n",
        "import pandas as pd\r\n",
        "print(pd.__version__)\r\n",
        "print(pd.show_versions(as_json=True))"
      ],
      "execution_count": 1,
      "outputs": [
        {
          "output_type": "stream",
          "text": [
            "1.1.5\n"
          ],
          "name": "stdout"
        },
        {
          "output_type": "stream",
          "text": [
            "/usr/local/lib/python3.6/dist-packages/psycopg2/__init__.py:144: UserWarning: The psycopg2 wheel package will be renamed from release 2.8; in order to keep installing from binary please use \"pip install psycopg2-binary\" instead. For details see: <http://initd.org/psycopg/docs/install.html#binary-install-from-pypi>.\n",
            "  \"\"\")\n"
          ],
          "name": "stderr"
        },
        {
          "output_type": "stream",
          "text": [
            "{'system': {'commit': 'b5958ee1999e9aead1938c0bba2b674378807b3d', 'python': '3.6.9.final.0', 'python-bits': 64, 'OS': 'Linux', 'OS-release': '4.19.112+', 'Version': '#1 SMP Thu Jul 23 08:00:38 PDT 2020', 'machine': 'x86_64', 'processor': 'x86_64', 'byteorder': 'little', 'LC_ALL': None, 'LANG': 'en_US.UTF-8', 'LOCALE': {'language-code': 'en_US', 'encoding': 'UTF-8'}}, 'dependencies': {'pandas': '1.1.5', 'numpy': '1.19.5', 'pytz': '2018.9', 'dateutil': '2.8.1', 'pip': '19.3.1', 'setuptools': '53.0.0', 'Cython': '0.29.21', 'pytest': '3.6.4', 'hypothesis': None, 'sphinx': '1.8.5', 'blosc': None, 'feather': '0.4.1', 'xlsxwriter': None, 'lxml.etree': '4.2.6', 'html5lib': '1.0.1', 'pymysql': None, 'psycopg2': '2.7.6.1 (dt dec pq3 ext lo64)', 'jinja2': '2.11.2', 'IPython': '5.5.0', 'pandas_datareader': '0.9.0', 'bs4': '4.6.3', 'bottleneck': '1.3.2', 'fsspec': None, 'fastparquet': None, 'gcsfs': None, 'matplotlib': '3.2.2', 'numexpr': '2.7.2', 'odfpy': None, 'openpyxl': '2.5.9', 'pandas_gbq': '0.13.3', 'pyarrow': '0.14.1', 'pytables': None, 'pyxlsb': None, 's3fs': None, 'scipy': '1.4.1', 'sqlalchemy': '1.3.22', 'tables': '3.4.4', 'tabulate': '0.8.7', 'xarray': '0.15.1', 'xlrd': '1.1.0', 'xlwt': '1.3.0', 'numba': '0.51.2'}}\n",
            "None\n"
          ],
          "name": "stdout"
        }
      ]
    },
    {
      "cell_type": "code",
      "metadata": {
        "id": "4GU1BBAMBXvs"
      },
      "source": [
        ""
      ],
      "execution_count": null,
      "outputs": []
    }
  ]
}