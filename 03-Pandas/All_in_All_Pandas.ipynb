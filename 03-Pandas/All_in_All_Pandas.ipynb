{
  "nbformat": 4,
  "nbformat_minor": 0,
  "metadata": {
    "colab": {
      "name": "All in All Pandas.ipynb",
      "provenance": [],
      "collapsed_sections": [],
      "authorship_tag": "ABX9TyPRoXqFTHUWxv9XEvHFK3TW",
      "include_colab_link": true
    },
    "kernelspec": {
      "name": "python3",
      "display_name": "Python 3"
    }
  },
  "cells": [
    {
      "cell_type": "markdown",
      "metadata": {
        "id": "view-in-github",
        "colab_type": "text"
      },
      "source": [
        "<a href=\"https://colab.research.google.com/github/plthiyagu/Personnel/blob/master/All_in_All_Pandas.ipynb\" target=\"_parent\"><img src=\"https://colab.research.google.com/assets/colab-badge.svg\" alt=\"Open In Colab\"/></a>"
      ]
    },
    {
      "cell_type": "code",
      "metadata": {
        "id": "2rkAgFe3SGnL",
        "colab_type": "code",
        "colab": {}
      },
      "source": [
        "import pandas as pd\n",
        "import numpy as np\n",
        "import matplotlib.pyplot as plt\n"
      ],
      "execution_count": 1,
      "outputs": []
    },
    {
      "cell_type": "code",
      "metadata": {
        "id": "OhuiezUWUXnA",
        "colab_type": "code",
        "colab": {}
      },
      "source": [
        "s= pd.Series([1,3,5,np.nan,6,8])"
      ],
      "execution_count": 2,
      "outputs": []
    },
    {
      "cell_type": "code",
      "metadata": {
        "id": "b1Mvjq7dUt_1",
        "colab_type": "code",
        "colab": {
          "base_uri": "https://localhost:8080/",
          "height": 136
        },
        "outputId": "bd3b78d0-5e7d-4d1d-ff01-c1866dae47f9"
      },
      "source": [
        "s"
      ],
      "execution_count": 3,
      "outputs": [
        {
          "output_type": "execute_result",
          "data": {
            "text/plain": [
              "0    1.0\n",
              "1    3.0\n",
              "2    5.0\n",
              "3    NaN\n",
              "4    6.0\n",
              "5    8.0\n",
              "dtype: float64"
            ]
          },
          "metadata": {
            "tags": []
          },
          "execution_count": 3
        }
      ]
    },
    {
      "cell_type": "code",
      "metadata": {
        "id": "m4qXTqxtUzmO",
        "colab_type": "code",
        "colab": {}
      },
      "source": [
        "dates= pd.date_range(20130101,periods=6)"
      ],
      "execution_count": 4,
      "outputs": []
    },
    {
      "cell_type": "code",
      "metadata": {
        "id": "C7g5zq1PU8wv",
        "colab_type": "code",
        "colab": {
          "base_uri": "https://localhost:8080/",
          "height": 136
        },
        "outputId": "89c9894f-470b-45fe-9924-0e12bcc28ebf"
      },
      "source": [
        "dates"
      ],
      "execution_count": 5,
      "outputs": [
        {
          "output_type": "execute_result",
          "data": {
            "text/plain": [
              "DatetimeIndex(['1970-01-01 00:00:00.020130101',\n",
              "               '1970-01-02 00:00:00.020130101',\n",
              "               '1970-01-03 00:00:00.020130101',\n",
              "               '1970-01-04 00:00:00.020130101',\n",
              "               '1970-01-05 00:00:00.020130101',\n",
              "               '1970-01-06 00:00:00.020130101'],\n",
              "              dtype='datetime64[ns]', freq='D')"
            ]
          },
          "metadata": {
            "tags": []
          },
          "execution_count": 5
        }
      ]
    },
    {
      "cell_type": "code",
      "metadata": {
        "id": "Xi7goWeqU9zh",
        "colab_type": "code",
        "colab": {}
      },
      "source": [
        "df = pd.DataFrame(np.random.randn(6,4), index=dates, columns=list('ABCD'))"
      ],
      "execution_count": 6,
      "outputs": []
    },
    {
      "cell_type": "code",
      "metadata": {
        "id": "a2EA_qvGVE-x",
        "colab_type": "code",
        "colab": {
          "base_uri": "https://localhost:8080/",
          "height": 235
        },
        "outputId": "b1213355-d3b4-4149-c41c-b559e7eddd4f"
      },
      "source": [
        "df"
      ],
      "execution_count": 7,
      "outputs": [
        {
          "output_type": "execute_result",
          "data": {
            "text/html": [
              "<div>\n",
              "<style scoped>\n",
              "    .dataframe tbody tr th:only-of-type {\n",
              "        vertical-align: middle;\n",
              "    }\n",
              "\n",
              "    .dataframe tbody tr th {\n",
              "        vertical-align: top;\n",
              "    }\n",
              "\n",
              "    .dataframe thead th {\n",
              "        text-align: right;\n",
              "    }\n",
              "</style>\n",
              "<table border=\"1\" class=\"dataframe\">\n",
              "  <thead>\n",
              "    <tr style=\"text-align: right;\">\n",
              "      <th></th>\n",
              "      <th>A</th>\n",
              "      <th>B</th>\n",
              "      <th>C</th>\n",
              "      <th>D</th>\n",
              "    </tr>\n",
              "  </thead>\n",
              "  <tbody>\n",
              "    <tr>\n",
              "      <th>1970-01-01 00:00:00.020130101</th>\n",
              "      <td>-0.065195</td>\n",
              "      <td>0.595063</td>\n",
              "      <td>0.900961</td>\n",
              "      <td>-1.118223</td>\n",
              "    </tr>\n",
              "    <tr>\n",
              "      <th>1970-01-02 00:00:00.020130101</th>\n",
              "      <td>-1.669334</td>\n",
              "      <td>-0.520929</td>\n",
              "      <td>0.412577</td>\n",
              "      <td>-1.156328</td>\n",
              "    </tr>\n",
              "    <tr>\n",
              "      <th>1970-01-03 00:00:00.020130101</th>\n",
              "      <td>-0.895461</td>\n",
              "      <td>0.221512</td>\n",
              "      <td>-0.543341</td>\n",
              "      <td>1.117244</td>\n",
              "    </tr>\n",
              "    <tr>\n",
              "      <th>1970-01-04 00:00:00.020130101</th>\n",
              "      <td>0.281467</td>\n",
              "      <td>0.250920</td>\n",
              "      <td>-1.631912</td>\n",
              "      <td>-0.066120</td>\n",
              "    </tr>\n",
              "    <tr>\n",
              "      <th>1970-01-05 00:00:00.020130101</th>\n",
              "      <td>-0.255642</td>\n",
              "      <td>1.039339</td>\n",
              "      <td>-1.698611</td>\n",
              "      <td>0.595765</td>\n",
              "    </tr>\n",
              "    <tr>\n",
              "      <th>1970-01-06 00:00:00.020130101</th>\n",
              "      <td>-1.120623</td>\n",
              "      <td>0.503826</td>\n",
              "      <td>0.351673</td>\n",
              "      <td>-1.894680</td>\n",
              "    </tr>\n",
              "  </tbody>\n",
              "</table>\n",
              "</div>"
            ],
            "text/plain": [
              "                                      A         B         C         D\n",
              "1970-01-01 00:00:00.020130101 -0.065195  0.595063  0.900961 -1.118223\n",
              "1970-01-02 00:00:00.020130101 -1.669334 -0.520929  0.412577 -1.156328\n",
              "1970-01-03 00:00:00.020130101 -0.895461  0.221512 -0.543341  1.117244\n",
              "1970-01-04 00:00:00.020130101  0.281467  0.250920 -1.631912 -0.066120\n",
              "1970-01-05 00:00:00.020130101 -0.255642  1.039339 -1.698611  0.595765\n",
              "1970-01-06 00:00:00.020130101 -1.120623  0.503826  0.351673 -1.894680"
            ]
          },
          "metadata": {
            "tags": []
          },
          "execution_count": 7
        }
      ]
    },
    {
      "cell_type": "markdown",
      "metadata": {
        "id": "8c-Oug6jgxNM",
        "colab_type": "text"
      },
      "source": [
        "Create an empty DataFrame\n"
      ]
    },
    {
      "cell_type": "code",
      "metadata": {
        "id": "lCzJtoLoVFvU",
        "colab_type": "code",
        "colab": {
          "base_uri": "https://localhost:8080/",
          "height": 68
        },
        "outputId": "4f40544a-e10c-45bf-f305-9b8fe0816b27"
      },
      "source": [
        "df= pd.DataFrame()\n",
        "print(df)"
      ],
      "execution_count": 8,
      "outputs": [
        {
          "output_type": "stream",
          "text": [
            "Empty DataFrame\n",
            "Columns: []\n",
            "Index: []\n"
          ],
          "name": "stdout"
        }
      ]
    },
    {
      "cell_type": "markdown",
      "metadata": {
        "id": "JpCf0VKmg83J",
        "colab_type": "text"
      },
      "source": [
        "Create a DataFrame from List of Lists. Specify values for each row"
      ]
    },
    {
      "cell_type": "code",
      "metadata": {
        "id": "2mJjhhM8g22M",
        "colab_type": "code",
        "colab": {
          "base_uri": "https://localhost:8080/",
          "height": 85
        },
        "outputId": "99714b8b-cb14-4f48-d348-a364062ba41e"
      },
      "source": [
        "data = [['Alex', 10], ['Bob', 12], ['Clarke', 13]]\n",
        "df= pd.DataFrame(data, columns=['name','age'])\n",
        "print(df)"
      ],
      "execution_count": 9,
      "outputs": [
        {
          "output_type": "stream",
          "text": [
            "     name  age\n",
            "0    Alex   10\n",
            "1     Bob   12\n",
            "2  Clarke   13\n"
          ],
          "name": "stdout"
        }
      ]
    },
    {
      "cell_type": "markdown",
      "metadata": {
        "id": "JNtex1X4hOKO",
        "colab_type": "text"
      },
      "source": [
        "Create a DataFrame from a Dictionary of Lists. Specify values for each column"
      ]
    },
    {
      "cell_type": "code",
      "metadata": {
        "id": "goozNt1ghLLJ",
        "colab_type": "code",
        "colab": {
          "base_uri": "https://localhost:8080/",
          "height": 173
        },
        "outputId": "2ce53eac-b4eb-454b-b2e1-30c1dff7cc16"
      },
      "source": [
        "data = {'Name': ['Tom', 'Jack', 'Steve', 'Ricky'], 'Age': [28, 34, 29, 42]}\n",
        "df= pd.DataFrame(data)\n",
        "df"
      ],
      "execution_count": 16,
      "outputs": [
        {
          "output_type": "execute_result",
          "data": {
            "text/html": [
              "<div>\n",
              "<style scoped>\n",
              "    .dataframe tbody tr th:only-of-type {\n",
              "        vertical-align: middle;\n",
              "    }\n",
              "\n",
              "    .dataframe tbody tr th {\n",
              "        vertical-align: top;\n",
              "    }\n",
              "\n",
              "    .dataframe thead th {\n",
              "        text-align: right;\n",
              "    }\n",
              "</style>\n",
              "<table border=\"1\" class=\"dataframe\">\n",
              "  <thead>\n",
              "    <tr style=\"text-align: right;\">\n",
              "      <th></th>\n",
              "      <th>Name</th>\n",
              "      <th>Age</th>\n",
              "    </tr>\n",
              "  </thead>\n",
              "  <tbody>\n",
              "    <tr>\n",
              "      <th>0</th>\n",
              "      <td>Tom</td>\n",
              "      <td>28</td>\n",
              "    </tr>\n",
              "    <tr>\n",
              "      <th>1</th>\n",
              "      <td>Jack</td>\n",
              "      <td>34</td>\n",
              "    </tr>\n",
              "    <tr>\n",
              "      <th>2</th>\n",
              "      <td>Steve</td>\n",
              "      <td>29</td>\n",
              "    </tr>\n",
              "    <tr>\n",
              "      <th>3</th>\n",
              "      <td>Ricky</td>\n",
              "      <td>42</td>\n",
              "    </tr>\n",
              "  </tbody>\n",
              "</table>\n",
              "</div>"
            ],
            "text/plain": [
              "    Name  Age\n",
              "0    Tom   28\n",
              "1   Jack   34\n",
              "2  Steve   29\n",
              "3  Ricky   42"
            ]
          },
          "metadata": {
            "tags": []
          },
          "execution_count": 16
        }
      ]
    },
    {
      "cell_type": "markdown",
      "metadata": {
        "id": "hpgaVMUZxsNa",
        "colab_type": "text"
      },
      "source": [
        "Lowercase DataFrame columns names\n"
      ]
    },
    {
      "cell_type": "code",
      "metadata": {
        "id": "9HiQXHbIxrZr",
        "colab_type": "code",
        "colab": {
          "base_uri": "https://localhost:8080/",
          "height": 173
        },
        "outputId": "1c9dac7b-baca-437e-ef7c-e20c4b96d035"
      },
      "source": [
        "df.columns = [x.lower() for x in df.columns]\n",
        "# or\n",
        "#df.columns = map(str.lower, df.columns)\n",
        "df"
      ],
      "execution_count": 17,
      "outputs": [
        {
          "output_type": "execute_result",
          "data": {
            "text/html": [
              "<div>\n",
              "<style scoped>\n",
              "    .dataframe tbody tr th:only-of-type {\n",
              "        vertical-align: middle;\n",
              "    }\n",
              "\n",
              "    .dataframe tbody tr th {\n",
              "        vertical-align: top;\n",
              "    }\n",
              "\n",
              "    .dataframe thead th {\n",
              "        text-align: right;\n",
              "    }\n",
              "</style>\n",
              "<table border=\"1\" class=\"dataframe\">\n",
              "  <thead>\n",
              "    <tr style=\"text-align: right;\">\n",
              "      <th></th>\n",
              "      <th>name</th>\n",
              "      <th>age</th>\n",
              "    </tr>\n",
              "  </thead>\n",
              "  <tbody>\n",
              "    <tr>\n",
              "      <th>0</th>\n",
              "      <td>Tom</td>\n",
              "      <td>28</td>\n",
              "    </tr>\n",
              "    <tr>\n",
              "      <th>1</th>\n",
              "      <td>Jack</td>\n",
              "      <td>34</td>\n",
              "    </tr>\n",
              "    <tr>\n",
              "      <th>2</th>\n",
              "      <td>Steve</td>\n",
              "      <td>29</td>\n",
              "    </tr>\n",
              "    <tr>\n",
              "      <th>3</th>\n",
              "      <td>Ricky</td>\n",
              "      <td>42</td>\n",
              "    </tr>\n",
              "  </tbody>\n",
              "</table>\n",
              "</div>"
            ],
            "text/plain": [
              "    name  age\n",
              "0    Tom   28\n",
              "1   Jack   34\n",
              "2  Steve   29\n",
              "3  Ricky   42"
            ]
          },
          "metadata": {
            "tags": []
          },
          "execution_count": 17
        }
      ]
    },
    {
      "cell_type": "markdown",
      "metadata": {
        "id": "FxcvO0Yni_K2",
        "colab_type": "text"
      },
      "source": [
        "Create a DataFrame with index"
      ]
    },
    {
      "cell_type": "code",
      "metadata": {
        "id": "YiUpNprnhV98",
        "colab_type": "code",
        "colab": {
          "base_uri": "https://localhost:8080/",
          "height": 142
        },
        "outputId": "5e2d23b7-97e9-46fa-c898-fb4f5183ccf6"
      },
      "source": [
        "data = [['Alex', 10], ['Bob', 12], ['Clarke', 13]]\n",
        "df= pd.DataFrame(data,index=['a','b','c'])\n",
        "df"
      ],
      "execution_count": 63,
      "outputs": [
        {
          "output_type": "execute_result",
          "data": {
            "text/html": [
              "<div>\n",
              "<style scoped>\n",
              "    .dataframe tbody tr th:only-of-type {\n",
              "        vertical-align: middle;\n",
              "    }\n",
              "\n",
              "    .dataframe tbody tr th {\n",
              "        vertical-align: top;\n",
              "    }\n",
              "\n",
              "    .dataframe thead th {\n",
              "        text-align: right;\n",
              "    }\n",
              "</style>\n",
              "<table border=\"1\" class=\"dataframe\">\n",
              "  <thead>\n",
              "    <tr style=\"text-align: right;\">\n",
              "      <th></th>\n",
              "      <th>0</th>\n",
              "      <th>1</th>\n",
              "    </tr>\n",
              "  </thead>\n",
              "  <tbody>\n",
              "    <tr>\n",
              "      <th>a</th>\n",
              "      <td>Alex</td>\n",
              "      <td>10</td>\n",
              "    </tr>\n",
              "    <tr>\n",
              "      <th>b</th>\n",
              "      <td>Bob</td>\n",
              "      <td>12</td>\n",
              "    </tr>\n",
              "    <tr>\n",
              "      <th>c</th>\n",
              "      <td>Clarke</td>\n",
              "      <td>13</td>\n",
              "    </tr>\n",
              "  </tbody>\n",
              "</table>\n",
              "</div>"
            ],
            "text/plain": [
              "        0   1\n",
              "a    Alex  10\n",
              "b     Bob  12\n",
              "c  Clarke  13"
            ]
          },
          "metadata": {
            "tags": []
          },
          "execution_count": 63
        }
      ]
    },
    {
      "cell_type": "markdown",
      "metadata": {
        "id": "yhQwAtN2jSP3",
        "colab_type": "text"
      },
      "source": [
        "Generate a random DataFrame"
      ]
    },
    {
      "cell_type": "code",
      "metadata": {
        "id": "oVEmT-BsjLpi",
        "colab_type": "code",
        "colab": {
          "base_uri": "https://localhost:8080/",
          "height": 1000
        },
        "outputId": "1c2c2fca-7edd-4b68-b8a3-2e79889dac14"
      },
      "source": [
        "df = pd.DataFrame(np.random.rand(50, 5))\n",
        "df"
      ],
      "execution_count": 12,
      "outputs": [
        {
          "output_type": "execute_result",
          "data": {
            "text/html": [
              "<div>\n",
              "<style scoped>\n",
              "    .dataframe tbody tr th:only-of-type {\n",
              "        vertical-align: middle;\n",
              "    }\n",
              "\n",
              "    .dataframe tbody tr th {\n",
              "        vertical-align: top;\n",
              "    }\n",
              "\n",
              "    .dataframe thead th {\n",
              "        text-align: right;\n",
              "    }\n",
              "</style>\n",
              "<table border=\"1\" class=\"dataframe\">\n",
              "  <thead>\n",
              "    <tr style=\"text-align: right;\">\n",
              "      <th></th>\n",
              "      <th>0</th>\n",
              "      <th>1</th>\n",
              "      <th>2</th>\n",
              "      <th>3</th>\n",
              "      <th>4</th>\n",
              "    </tr>\n",
              "  </thead>\n",
              "  <tbody>\n",
              "    <tr>\n",
              "      <th>0</th>\n",
              "      <td>0.019528</td>\n",
              "      <td>0.273417</td>\n",
              "      <td>0.345335</td>\n",
              "      <td>0.606843</td>\n",
              "      <td>0.379111</td>\n",
              "    </tr>\n",
              "    <tr>\n",
              "      <th>1</th>\n",
              "      <td>0.350631</td>\n",
              "      <td>0.107791</td>\n",
              "      <td>0.695129</td>\n",
              "      <td>0.485942</td>\n",
              "      <td>0.057987</td>\n",
              "    </tr>\n",
              "    <tr>\n",
              "      <th>2</th>\n",
              "      <td>0.312483</td>\n",
              "      <td>0.924513</td>\n",
              "      <td>0.479051</td>\n",
              "      <td>0.297287</td>\n",
              "      <td>0.704104</td>\n",
              "    </tr>\n",
              "    <tr>\n",
              "      <th>3</th>\n",
              "      <td>0.710936</td>\n",
              "      <td>0.438379</td>\n",
              "      <td>0.228676</td>\n",
              "      <td>0.913393</td>\n",
              "      <td>0.948597</td>\n",
              "    </tr>\n",
              "    <tr>\n",
              "      <th>4</th>\n",
              "      <td>0.350950</td>\n",
              "      <td>0.735264</td>\n",
              "      <td>0.234319</td>\n",
              "      <td>0.578735</td>\n",
              "      <td>0.269562</td>\n",
              "    </tr>\n",
              "    <tr>\n",
              "      <th>5</th>\n",
              "      <td>0.433441</td>\n",
              "      <td>0.562359</td>\n",
              "      <td>0.936612</td>\n",
              "      <td>0.305148</td>\n",
              "      <td>0.230789</td>\n",
              "    </tr>\n",
              "    <tr>\n",
              "      <th>6</th>\n",
              "      <td>0.326786</td>\n",
              "      <td>0.398726</td>\n",
              "      <td>0.127071</td>\n",
              "      <td>0.568933</td>\n",
              "      <td>0.083353</td>\n",
              "    </tr>\n",
              "    <tr>\n",
              "      <th>7</th>\n",
              "      <td>0.727180</td>\n",
              "      <td>0.403250</td>\n",
              "      <td>0.454428</td>\n",
              "      <td>0.375665</td>\n",
              "      <td>0.026898</td>\n",
              "    </tr>\n",
              "    <tr>\n",
              "      <th>8</th>\n",
              "      <td>0.760602</td>\n",
              "      <td>0.746704</td>\n",
              "      <td>0.554760</td>\n",
              "      <td>0.608154</td>\n",
              "      <td>0.245743</td>\n",
              "    </tr>\n",
              "    <tr>\n",
              "      <th>9</th>\n",
              "      <td>0.338016</td>\n",
              "      <td>0.476864</td>\n",
              "      <td>0.391530</td>\n",
              "      <td>0.919175</td>\n",
              "      <td>0.482276</td>\n",
              "    </tr>\n",
              "    <tr>\n",
              "      <th>10</th>\n",
              "      <td>0.224573</td>\n",
              "      <td>0.366236</td>\n",
              "      <td>0.577894</td>\n",
              "      <td>0.140256</td>\n",
              "      <td>0.187397</td>\n",
              "    </tr>\n",
              "    <tr>\n",
              "      <th>11</th>\n",
              "      <td>0.331821</td>\n",
              "      <td>0.640024</td>\n",
              "      <td>0.348365</td>\n",
              "      <td>0.365229</td>\n",
              "      <td>0.600517</td>\n",
              "    </tr>\n",
              "    <tr>\n",
              "      <th>12</th>\n",
              "      <td>0.072212</td>\n",
              "      <td>0.776457</td>\n",
              "      <td>0.516580</td>\n",
              "      <td>0.139717</td>\n",
              "      <td>0.512600</td>\n",
              "    </tr>\n",
              "    <tr>\n",
              "      <th>13</th>\n",
              "      <td>0.183566</td>\n",
              "      <td>0.124375</td>\n",
              "      <td>0.492059</td>\n",
              "      <td>0.171093</td>\n",
              "      <td>0.595278</td>\n",
              "    </tr>\n",
              "    <tr>\n",
              "      <th>14</th>\n",
              "      <td>0.857035</td>\n",
              "      <td>0.739112</td>\n",
              "      <td>0.207053</td>\n",
              "      <td>0.474095</td>\n",
              "      <td>0.866079</td>\n",
              "    </tr>\n",
              "    <tr>\n",
              "      <th>15</th>\n",
              "      <td>0.342054</td>\n",
              "      <td>0.314530</td>\n",
              "      <td>0.159282</td>\n",
              "      <td>0.249925</td>\n",
              "      <td>0.790376</td>\n",
              "    </tr>\n",
              "    <tr>\n",
              "      <th>16</th>\n",
              "      <td>0.325425</td>\n",
              "      <td>0.749782</td>\n",
              "      <td>0.341868</td>\n",
              "      <td>0.612829</td>\n",
              "      <td>0.118888</td>\n",
              "    </tr>\n",
              "    <tr>\n",
              "      <th>17</th>\n",
              "      <td>0.408828</td>\n",
              "      <td>0.100321</td>\n",
              "      <td>0.592710</td>\n",
              "      <td>0.968681</td>\n",
              "      <td>0.604193</td>\n",
              "    </tr>\n",
              "    <tr>\n",
              "      <th>18</th>\n",
              "      <td>0.760908</td>\n",
              "      <td>0.517090</td>\n",
              "      <td>0.089612</td>\n",
              "      <td>0.908859</td>\n",
              "      <td>0.004493</td>\n",
              "    </tr>\n",
              "    <tr>\n",
              "      <th>19</th>\n",
              "      <td>0.523183</td>\n",
              "      <td>0.087147</td>\n",
              "      <td>0.537269</td>\n",
              "      <td>0.991615</td>\n",
              "      <td>0.911761</td>\n",
              "    </tr>\n",
              "    <tr>\n",
              "      <th>20</th>\n",
              "      <td>0.905555</td>\n",
              "      <td>0.237470</td>\n",
              "      <td>0.779732</td>\n",
              "      <td>0.479370</td>\n",
              "      <td>0.020645</td>\n",
              "    </tr>\n",
              "    <tr>\n",
              "      <th>21</th>\n",
              "      <td>0.206488</td>\n",
              "      <td>0.742779</td>\n",
              "      <td>0.163500</td>\n",
              "      <td>0.683329</td>\n",
              "      <td>0.793725</td>\n",
              "    </tr>\n",
              "    <tr>\n",
              "      <th>22</th>\n",
              "      <td>0.460948</td>\n",
              "      <td>0.717479</td>\n",
              "      <td>0.286647</td>\n",
              "      <td>0.618618</td>\n",
              "      <td>0.194338</td>\n",
              "    </tr>\n",
              "    <tr>\n",
              "      <th>23</th>\n",
              "      <td>0.280484</td>\n",
              "      <td>0.074754</td>\n",
              "      <td>0.977410</td>\n",
              "      <td>0.709579</td>\n",
              "      <td>0.863827</td>\n",
              "    </tr>\n",
              "    <tr>\n",
              "      <th>24</th>\n",
              "      <td>0.677899</td>\n",
              "      <td>0.094040</td>\n",
              "      <td>0.670777</td>\n",
              "      <td>0.872438</td>\n",
              "      <td>0.559959</td>\n",
              "    </tr>\n",
              "    <tr>\n",
              "      <th>25</th>\n",
              "      <td>0.527219</td>\n",
              "      <td>0.099781</td>\n",
              "      <td>0.680611</td>\n",
              "      <td>0.024860</td>\n",
              "      <td>0.807179</td>\n",
              "    </tr>\n",
              "    <tr>\n",
              "      <th>26</th>\n",
              "      <td>0.616446</td>\n",
              "      <td>0.534516</td>\n",
              "      <td>0.414803</td>\n",
              "      <td>0.939613</td>\n",
              "      <td>0.157179</td>\n",
              "    </tr>\n",
              "    <tr>\n",
              "      <th>27</th>\n",
              "      <td>0.684419</td>\n",
              "      <td>0.164724</td>\n",
              "      <td>0.515236</td>\n",
              "      <td>0.503126</td>\n",
              "      <td>0.111553</td>\n",
              "    </tr>\n",
              "    <tr>\n",
              "      <th>28</th>\n",
              "      <td>0.205053</td>\n",
              "      <td>0.677316</td>\n",
              "      <td>0.488246</td>\n",
              "      <td>0.010423</td>\n",
              "      <td>0.762852</td>\n",
              "    </tr>\n",
              "    <tr>\n",
              "      <th>29</th>\n",
              "      <td>0.768158</td>\n",
              "      <td>0.391738</td>\n",
              "      <td>0.292464</td>\n",
              "      <td>0.130283</td>\n",
              "      <td>0.767301</td>\n",
              "    </tr>\n",
              "    <tr>\n",
              "      <th>30</th>\n",
              "      <td>0.305312</td>\n",
              "      <td>0.119182</td>\n",
              "      <td>0.532049</td>\n",
              "      <td>0.031842</td>\n",
              "      <td>0.209152</td>\n",
              "    </tr>\n",
              "    <tr>\n",
              "      <th>31</th>\n",
              "      <td>0.292272</td>\n",
              "      <td>0.994473</td>\n",
              "      <td>0.321568</td>\n",
              "      <td>0.135466</td>\n",
              "      <td>0.418683</td>\n",
              "    </tr>\n",
              "    <tr>\n",
              "      <th>32</th>\n",
              "      <td>0.946506</td>\n",
              "      <td>0.949908</td>\n",
              "      <td>0.575881</td>\n",
              "      <td>0.653123</td>\n",
              "      <td>0.291696</td>\n",
              "    </tr>\n",
              "    <tr>\n",
              "      <th>33</th>\n",
              "      <td>0.220314</td>\n",
              "      <td>0.504507</td>\n",
              "      <td>0.013666</td>\n",
              "      <td>0.485264</td>\n",
              "      <td>0.863077</td>\n",
              "    </tr>\n",
              "    <tr>\n",
              "      <th>34</th>\n",
              "      <td>0.671729</td>\n",
              "      <td>0.938245</td>\n",
              "      <td>0.789295</td>\n",
              "      <td>0.207059</td>\n",
              "      <td>0.997466</td>\n",
              "    </tr>\n",
              "    <tr>\n",
              "      <th>35</th>\n",
              "      <td>0.820399</td>\n",
              "      <td>0.076197</td>\n",
              "      <td>0.842438</td>\n",
              "      <td>0.303398</td>\n",
              "      <td>0.096656</td>\n",
              "    </tr>\n",
              "    <tr>\n",
              "      <th>36</th>\n",
              "      <td>0.139209</td>\n",
              "      <td>0.919718</td>\n",
              "      <td>0.176846</td>\n",
              "      <td>0.807011</td>\n",
              "      <td>0.424107</td>\n",
              "    </tr>\n",
              "    <tr>\n",
              "      <th>37</th>\n",
              "      <td>0.411197</td>\n",
              "      <td>0.643162</td>\n",
              "      <td>0.802515</td>\n",
              "      <td>0.899828</td>\n",
              "      <td>0.256445</td>\n",
              "    </tr>\n",
              "    <tr>\n",
              "      <th>38</th>\n",
              "      <td>0.942030</td>\n",
              "      <td>0.786816</td>\n",
              "      <td>0.788690</td>\n",
              "      <td>0.496682</td>\n",
              "      <td>0.671376</td>\n",
              "    </tr>\n",
              "    <tr>\n",
              "      <th>39</th>\n",
              "      <td>0.135319</td>\n",
              "      <td>0.075111</td>\n",
              "      <td>0.701746</td>\n",
              "      <td>0.604084</td>\n",
              "      <td>0.127780</td>\n",
              "    </tr>\n",
              "    <tr>\n",
              "      <th>40</th>\n",
              "      <td>0.069309</td>\n",
              "      <td>0.584964</td>\n",
              "      <td>0.662833</td>\n",
              "      <td>0.509458</td>\n",
              "      <td>0.182922</td>\n",
              "    </tr>\n",
              "    <tr>\n",
              "      <th>41</th>\n",
              "      <td>0.147447</td>\n",
              "      <td>0.591817</td>\n",
              "      <td>0.238633</td>\n",
              "      <td>0.765125</td>\n",
              "      <td>0.429613</td>\n",
              "    </tr>\n",
              "    <tr>\n",
              "      <th>42</th>\n",
              "      <td>0.859934</td>\n",
              "      <td>0.645034</td>\n",
              "      <td>0.411895</td>\n",
              "      <td>0.485594</td>\n",
              "      <td>0.200909</td>\n",
              "    </tr>\n",
              "    <tr>\n",
              "      <th>43</th>\n",
              "      <td>0.216192</td>\n",
              "      <td>0.520633</td>\n",
              "      <td>0.197247</td>\n",
              "      <td>0.879840</td>\n",
              "      <td>0.438972</td>\n",
              "    </tr>\n",
              "    <tr>\n",
              "      <th>44</th>\n",
              "      <td>0.599310</td>\n",
              "      <td>0.489665</td>\n",
              "      <td>0.631951</td>\n",
              "      <td>0.732061</td>\n",
              "      <td>0.691379</td>\n",
              "    </tr>\n",
              "    <tr>\n",
              "      <th>45</th>\n",
              "      <td>0.189322</td>\n",
              "      <td>0.709576</td>\n",
              "      <td>0.095098</td>\n",
              "      <td>0.179378</td>\n",
              "      <td>0.841101</td>\n",
              "    </tr>\n",
              "    <tr>\n",
              "      <th>46</th>\n",
              "      <td>0.320311</td>\n",
              "      <td>0.999949</td>\n",
              "      <td>0.390177</td>\n",
              "      <td>0.485392</td>\n",
              "      <td>0.601368</td>\n",
              "    </tr>\n",
              "    <tr>\n",
              "      <th>47</th>\n",
              "      <td>0.361083</td>\n",
              "      <td>0.362998</td>\n",
              "      <td>0.165454</td>\n",
              "      <td>0.579175</td>\n",
              "      <td>0.748922</td>\n",
              "    </tr>\n",
              "    <tr>\n",
              "      <th>48</th>\n",
              "      <td>0.676248</td>\n",
              "      <td>0.706316</td>\n",
              "      <td>0.445922</td>\n",
              "      <td>0.708159</td>\n",
              "      <td>0.993373</td>\n",
              "    </tr>\n",
              "    <tr>\n",
              "      <th>49</th>\n",
              "      <td>0.028647</td>\n",
              "      <td>0.280712</td>\n",
              "      <td>0.824687</td>\n",
              "      <td>0.163749</td>\n",
              "      <td>0.653819</td>\n",
              "    </tr>\n",
              "  </tbody>\n",
              "</table>\n",
              "</div>"
            ],
            "text/plain": [
              "           0         1         2         3         4\n",
              "0   0.019528  0.273417  0.345335  0.606843  0.379111\n",
              "1   0.350631  0.107791  0.695129  0.485942  0.057987\n",
              "2   0.312483  0.924513  0.479051  0.297287  0.704104\n",
              "3   0.710936  0.438379  0.228676  0.913393  0.948597\n",
              "4   0.350950  0.735264  0.234319  0.578735  0.269562\n",
              "5   0.433441  0.562359  0.936612  0.305148  0.230789\n",
              "6   0.326786  0.398726  0.127071  0.568933  0.083353\n",
              "7   0.727180  0.403250  0.454428  0.375665  0.026898\n",
              "8   0.760602  0.746704  0.554760  0.608154  0.245743\n",
              "9   0.338016  0.476864  0.391530  0.919175  0.482276\n",
              "10  0.224573  0.366236  0.577894  0.140256  0.187397\n",
              "11  0.331821  0.640024  0.348365  0.365229  0.600517\n",
              "12  0.072212  0.776457  0.516580  0.139717  0.512600\n",
              "13  0.183566  0.124375  0.492059  0.171093  0.595278\n",
              "14  0.857035  0.739112  0.207053  0.474095  0.866079\n",
              "15  0.342054  0.314530  0.159282  0.249925  0.790376\n",
              "16  0.325425  0.749782  0.341868  0.612829  0.118888\n",
              "17  0.408828  0.100321  0.592710  0.968681  0.604193\n",
              "18  0.760908  0.517090  0.089612  0.908859  0.004493\n",
              "19  0.523183  0.087147  0.537269  0.991615  0.911761\n",
              "20  0.905555  0.237470  0.779732  0.479370  0.020645\n",
              "21  0.206488  0.742779  0.163500  0.683329  0.793725\n",
              "22  0.460948  0.717479  0.286647  0.618618  0.194338\n",
              "23  0.280484  0.074754  0.977410  0.709579  0.863827\n",
              "24  0.677899  0.094040  0.670777  0.872438  0.559959\n",
              "25  0.527219  0.099781  0.680611  0.024860  0.807179\n",
              "26  0.616446  0.534516  0.414803  0.939613  0.157179\n",
              "27  0.684419  0.164724  0.515236  0.503126  0.111553\n",
              "28  0.205053  0.677316  0.488246  0.010423  0.762852\n",
              "29  0.768158  0.391738  0.292464  0.130283  0.767301\n",
              "30  0.305312  0.119182  0.532049  0.031842  0.209152\n",
              "31  0.292272  0.994473  0.321568  0.135466  0.418683\n",
              "32  0.946506  0.949908  0.575881  0.653123  0.291696\n",
              "33  0.220314  0.504507  0.013666  0.485264  0.863077\n",
              "34  0.671729  0.938245  0.789295  0.207059  0.997466\n",
              "35  0.820399  0.076197  0.842438  0.303398  0.096656\n",
              "36  0.139209  0.919718  0.176846  0.807011  0.424107\n",
              "37  0.411197  0.643162  0.802515  0.899828  0.256445\n",
              "38  0.942030  0.786816  0.788690  0.496682  0.671376\n",
              "39  0.135319  0.075111  0.701746  0.604084  0.127780\n",
              "40  0.069309  0.584964  0.662833  0.509458  0.182922\n",
              "41  0.147447  0.591817  0.238633  0.765125  0.429613\n",
              "42  0.859934  0.645034  0.411895  0.485594  0.200909\n",
              "43  0.216192  0.520633  0.197247  0.879840  0.438972\n",
              "44  0.599310  0.489665  0.631951  0.732061  0.691379\n",
              "45  0.189322  0.709576  0.095098  0.179378  0.841101\n",
              "46  0.320311  0.999949  0.390177  0.485392  0.601368\n",
              "47  0.361083  0.362998  0.165454  0.579175  0.748922\n",
              "48  0.676248  0.706316  0.445922  0.708159  0.993373\n",
              "49  0.028647  0.280712  0.824687  0.163749  0.653819"
            ]
          },
          "metadata": {
            "tags": []
          },
          "execution_count": 12
        }
      ]
    },
    {
      "cell_type": "markdown",
      "metadata": {
        "id": "LWLGdXsez7aj",
        "colab_type": "text"
      },
      "source": [
        "Set a column as the dataframe index"
      ]
    },
    {
      "cell_type": "code",
      "metadata": {
        "id": "Ten_EOYfjWZ7",
        "colab_type": "code",
        "colab": {
          "base_uri": "https://localhost:8080/",
          "height": 34
        },
        "outputId": "39284355-07e1-4591-dac6-1c95b8a0e0f9"
      },
      "source": [
        "df.columns"
      ],
      "execution_count": 19,
      "outputs": [
        {
          "output_type": "execute_result",
          "data": {
            "text/plain": [
              "Index(['name', 'age'], dtype='object')"
            ]
          },
          "metadata": {
            "tags": []
          },
          "execution_count": 19
        }
      ]
    },
    {
      "cell_type": "code",
      "metadata": {
        "id": "UzCY6yQc0OLJ",
        "colab_type": "code",
        "colab": {}
      },
      "source": [
        "df = df.set_index('age')"
      ],
      "execution_count": 20,
      "outputs": []
    },
    {
      "cell_type": "markdown",
      "metadata": {
        "id": "HoFvGUeg0XTQ",
        "colab_type": "text"
      },
      "source": [
        "Reset the dataframe index to the default integer index\n"
      ]
    },
    {
      "cell_type": "code",
      "metadata": {
        "id": "QMprbZJm0Trb",
        "colab_type": "code",
        "colab": {}
      },
      "source": [
        "df = df.reset_index()"
      ],
      "execution_count": 21,
      "outputs": []
    },
    {
      "cell_type": "markdown",
      "metadata": {
        "id": "7aFQFsl00hA5",
        "colab_type": "text"
      },
      "source": [
        "Reset the dataframe index without inserting it into dataframe columns"
      ]
    },
    {
      "cell_type": "code",
      "metadata": {
        "id": "H4SM6d1n0cNJ",
        "colab_type": "code",
        "colab": {}
      },
      "source": [
        "df = df.reset_index(drop=True)"
      ],
      "execution_count": 22,
      "outputs": []
    },
    {
      "cell_type": "markdown",
      "metadata": {
        "id": "l4OayGr60rKi",
        "colab_type": "text"
      },
      "source": [
        "Rename several DataFrame columns"
      ]
    },
    {
      "cell_type": "code",
      "metadata": {
        "id": "BlZAP9oW0kpD",
        "colab_type": "code",
        "colab": {
          "base_uri": "https://localhost:8080/",
          "height": 173
        },
        "outputId": "6b86c0ed-761a-4843-a25f-433caf8eeba3"
      },
      "source": [
        "df = df.rename(columns = {'name':'name_new', 'age':'age_new'})\n",
        "df\n",
        "# or\n",
        "#df.rename(columns = {'col1_old':'col1_new', 'col2_old':'col2_new', 'col1_old':'col2_new'}, inplace = True)"
      ],
      "execution_count": 24,
      "outputs": [
        {
          "output_type": "execute_result",
          "data": {
            "text/html": [
              "<div>\n",
              "<style scoped>\n",
              "    .dataframe tbody tr th:only-of-type {\n",
              "        vertical-align: middle;\n",
              "    }\n",
              "\n",
              "    .dataframe tbody tr th {\n",
              "        vertical-align: top;\n",
              "    }\n",
              "\n",
              "    .dataframe thead th {\n",
              "        text-align: right;\n",
              "    }\n",
              "</style>\n",
              "<table border=\"1\" class=\"dataframe\">\n",
              "  <thead>\n",
              "    <tr style=\"text-align: right;\">\n",
              "      <th></th>\n",
              "      <th>age_new</th>\n",
              "      <th>name_new</th>\n",
              "    </tr>\n",
              "  </thead>\n",
              "  <tbody>\n",
              "    <tr>\n",
              "      <th>0</th>\n",
              "      <td>28</td>\n",
              "      <td>Tom</td>\n",
              "    </tr>\n",
              "    <tr>\n",
              "      <th>1</th>\n",
              "      <td>34</td>\n",
              "      <td>Jack</td>\n",
              "    </tr>\n",
              "    <tr>\n",
              "      <th>2</th>\n",
              "      <td>29</td>\n",
              "      <td>Steve</td>\n",
              "    </tr>\n",
              "    <tr>\n",
              "      <th>3</th>\n",
              "      <td>42</td>\n",
              "      <td>Ricky</td>\n",
              "    </tr>\n",
              "  </tbody>\n",
              "</table>\n",
              "</div>"
            ],
            "text/plain": [
              "   age_new name_new\n",
              "0       28      Tom\n",
              "1       34     Jack\n",
              "2       29    Steve\n",
              "3       42    Ricky"
            ]
          },
          "metadata": {
            "tags": []
          },
          "execution_count": 24
        }
      ]
    },
    {
      "cell_type": "markdown",
      "metadata": {
        "id": "o4KVoDSq0x_m",
        "colab_type": "text"
      },
      "source": [
        "Replace all column names\n"
      ]
    },
    {
      "cell_type": "code",
      "metadata": {
        "id": "1VjnsU_b0Jjf",
        "colab_type": "code",
        "colab": {
          "base_uri": "https://localhost:8080/",
          "height": 173
        },
        "outputId": "42727c0e-3c9a-4840-aae4-328817f4180d"
      },
      "source": [
        "new_cols_names = ['name', 'age']\n",
        "df.columns = new_cols_names\n",
        "df"
      ],
      "execution_count": 26,
      "outputs": [
        {
          "output_type": "execute_result",
          "data": {
            "text/html": [
              "<div>\n",
              "<style scoped>\n",
              "    .dataframe tbody tr th:only-of-type {\n",
              "        vertical-align: middle;\n",
              "    }\n",
              "\n",
              "    .dataframe tbody tr th {\n",
              "        vertical-align: top;\n",
              "    }\n",
              "\n",
              "    .dataframe thead th {\n",
              "        text-align: right;\n",
              "    }\n",
              "</style>\n",
              "<table border=\"1\" class=\"dataframe\">\n",
              "  <thead>\n",
              "    <tr style=\"text-align: right;\">\n",
              "      <th></th>\n",
              "      <th>name</th>\n",
              "      <th>age</th>\n",
              "    </tr>\n",
              "  </thead>\n",
              "  <tbody>\n",
              "    <tr>\n",
              "      <th>0</th>\n",
              "      <td>28</td>\n",
              "      <td>Tom</td>\n",
              "    </tr>\n",
              "    <tr>\n",
              "      <th>1</th>\n",
              "      <td>34</td>\n",
              "      <td>Jack</td>\n",
              "    </tr>\n",
              "    <tr>\n",
              "      <th>2</th>\n",
              "      <td>29</td>\n",
              "      <td>Steve</td>\n",
              "    </tr>\n",
              "    <tr>\n",
              "      <th>3</th>\n",
              "      <td>42</td>\n",
              "      <td>Ricky</td>\n",
              "    </tr>\n",
              "  </tbody>\n",
              "</table>\n",
              "</div>"
            ],
            "text/plain": [
              "   name    age\n",
              "0    28    Tom\n",
              "1    34   Jack\n",
              "2    29  Steve\n",
              "3    42  Ricky"
            ]
          },
          "metadata": {
            "tags": []
          },
          "execution_count": 26
        }
      ]
    },
    {
      "cell_type": "markdown",
      "metadata": {
        "id": "-7u4PWz41Rfa",
        "colab_type": "text"
      },
      "source": [
        "Remove/drop one column"
      ]
    },
    {
      "cell_type": "code",
      "metadata": {
        "id": "eyUj2qzE1Hcr",
        "colab_type": "code",
        "colab": {}
      },
      "source": [
        "df = df.drop('column_x', axis = 1)"
      ],
      "execution_count": null,
      "outputs": []
    },
    {
      "cell_type": "markdown",
      "metadata": {
        "id": "AvwMNU9d1YGV",
        "colab_type": "text"
      },
      "source": [
        "Remove/drop several columns"
      ]
    },
    {
      "cell_type": "code",
      "metadata": {
        "id": "4CNUZAuR1XLX",
        "colab_type": "code",
        "colab": {}
      },
      "source": [
        "df = df.drop(['column_x', 'column_y'], axis = 1)\n",
        "# or\n",
        "df = df.drop(columns = ['column_x', 'column_y'])"
      ],
      "execution_count": null,
      "outputs": []
    },
    {
      "cell_type": "markdown",
      "metadata": {
        "id": "uhQcI6V-1gCK",
        "colab_type": "text"
      },
      "source": [
        "Remove/drop rows by index\n"
      ]
    },
    {
      "cell_type": "code",
      "metadata": {
        "id": "6OhsH-oj1fiN",
        "colab_type": "code",
        "colab": {}
      },
      "source": [
        "# drop rows 0 and 1\n",
        "df = df.drop([0, 1])"
      ],
      "execution_count": null,
      "outputs": []
    },
    {
      "cell_type": "markdown",
      "metadata": {
        "id": "gcqcZ3cz1oZC",
        "colab_type": "text"
      },
      "source": [
        "Remove/drop first two rows"
      ]
    },
    {
      "cell_type": "code",
      "metadata": {
        "id": "FAPY2i_h1n7K",
        "colab_type": "code",
        "colab": {}
      },
      "source": [
        "df = df.drop(df.index[:2])\n"
      ],
      "execution_count": null,
      "outputs": []
    },
    {
      "cell_type": "markdown",
      "metadata": {
        "id": "WmFbwI6L1wz5",
        "colab_type": "text"
      },
      "source": [
        "Remove/drop last two rows\n"
      ]
    },
    {
      "cell_type": "code",
      "metadata": {
        "id": "fJNGc_LA1wQz",
        "colab_type": "code",
        "colab": {}
      },
      "source": [
        "df = df.drop(df.index[-2:])"
      ],
      "execution_count": null,
      "outputs": []
    },
    {
      "cell_type": "markdown",
      "metadata": {
        "id": "V4-5GYZY11or",
        "colab_type": "text"
      },
      "source": [
        "Remove/drop rows by names"
      ]
    },
    {
      "cell_type": "code",
      "metadata": {
        "id": "Qkc5DCg111TV",
        "colab_type": "code",
        "colab": {
          "base_uri": "https://localhost:8080/",
          "height": 85
        },
        "outputId": "59146817-1ccc-4ae1-d18d-6ff1f309eaff"
      },
      "source": [
        "data = [['Alex', 10], ['Bob', 12], ['Clarke', 13]]\n",
        "df = pd.DataFrame(data, columns=['Name', 'Age'], index = ['a', 'b', 'c'])\n",
        "print(df)\n"
      ],
      "execution_count": 27,
      "outputs": [
        {
          "output_type": "stream",
          "text": [
            "     Name  Age\n",
            "a    Alex   10\n",
            "b     Bob   12\n",
            "c  Clarke   13\n"
          ],
          "name": "stdout"
        }
      ]
    },
    {
      "cell_type": "code",
      "metadata": {
        "id": "KPa5fX4x18LK",
        "colab_type": "code",
        "colab": {
          "base_uri": "https://localhost:8080/",
          "height": 51
        },
        "outputId": "c414262b-8f21-4a07-9bec-eb5488bcb4f5"
      },
      "source": [
        "df = df.drop(['b', 'c'])\n",
        "print(df)"
      ],
      "execution_count": 28,
      "outputs": [
        {
          "output_type": "stream",
          "text": [
            "   Name  Age\n",
            "a  Alex   10\n"
          ],
          "name": "stdout"
        }
      ]
    },
    {
      "cell_type": "markdown",
      "metadata": {
        "id": "e3HeMzsn2Dmc",
        "colab_type": "text"
      },
      "source": [
        "Add column with all values a constant"
      ]
    },
    {
      "cell_type": "code",
      "metadata": {
        "id": "mQrc9pOf1-wf",
        "colab_type": "code",
        "colab": {}
      },
      "source": [
        "df['column_new'] = 7"
      ],
      "execution_count": null,
      "outputs": []
    },
    {
      "cell_type": "markdown",
      "metadata": {
        "id": "UCp-r77Y2I3e",
        "colab_type": "text"
      },
      "source": [
        "Add column on specific position (as second column)"
      ]
    },
    {
      "cell_type": "code",
      "metadata": {
        "id": "OjjitlHW2IaO",
        "colab_type": "code",
        "colab": {}
      },
      "source": [
        "df.insert(1, 'column_new', 7)"
      ],
      "execution_count": null,
      "outputs": []
    },
    {
      "cell_type": "markdown",
      "metadata": {
        "id": "Tg6dvyHT2WC1",
        "colab_type": "text"
      },
      "source": [
        "Add column based on values of other columns"
      ]
    },
    {
      "cell_type": "code",
      "metadata": {
        "id": "YkEuMQfS2Qo_",
        "colab_type": "code",
        "colab": {}
      },
      "source": [
        "df['column_new'] = df.column_x + df.column_y"
      ],
      "execution_count": null,
      "outputs": []
    },
    {
      "cell_type": "markdown",
      "metadata": {
        "id": "MBhCqjnX2gy9",
        "colab_type": "text"
      },
      "source": [
        "Add column with values from list"
      ]
    },
    {
      "cell_type": "code",
      "metadata": {
        "id": "dGNQHWf22P1C",
        "colab_type": "code",
        "colab": {
          "base_uri": "https://localhost:8080/",
          "height": 85
        },
        "outputId": "091dde1c-58d4-4580-a3f8-a18cf91298f8"
      },
      "source": [
        "data = [['Alex', 10], ['Bob', 12], ['Marie', 13]]\n",
        "df = pd.DataFrame(data, columns=['Name', 'Age'])\n",
        "df['column_new'] = ['boy', 'boy', 'girl']\n",
        "print(df)\n"
      ],
      "execution_count": 29,
      "outputs": [
        {
          "output_type": "stream",
          "text": [
            "    Name  Age column_new\n",
            "0   Alex   10        boy\n",
            "1    Bob   12        boy\n",
            "2  Marie   13       girl\n"
          ],
          "name": "stdout"
        }
      ]
    },
    {
      "cell_type": "markdown",
      "metadata": {
        "id": "g64RTxpD2naP",
        "colab_type": "text"
      },
      "source": [
        "Add new column based on values of other column and where condition"
      ]
    },
    {
      "cell_type": "code",
      "metadata": {
        "id": "JJEYMLLw2jwG",
        "colab_type": "code",
        "colab": {}
      },
      "source": [
        "df['colummn_new'] = 'yes'\n",
        "df['colummn_new'] = df['colummn_new'].where(df['column_x']>=50, 'no')\n",
        "\n",
        "# equivalent with and more intuitive\n",
        "#df['colummn_new'] = np.where(df['column_x']>=50, 'yes', 'no')\n"
      ],
      "execution_count": null,
      "outputs": []
    },
    {
      "cell_type": "markdown",
      "metadata": {
        "id": "s99OZETQ2y3i",
        "colab_type": "text"
      },
      "source": [
        "Add new column based on values of other columns and where condition\n"
      ]
    },
    {
      "cell_type": "code",
      "metadata": {
        "id": "q654txLv2PSG",
        "colab_type": "code",
        "colab": {}
      },
      "source": [
        "data = [['Alex', 10], ['Bob', 12], ['Marie', 21], ['Tina', 35]]\n",
        "df = pd.DataFrame(data, columns=['Name', 'Age'])\n",
        "df['Adult'] = 'yes'\n",
        "df['Adult'] = df['Adult'].where(df['Age']>=18, 'no')\n",
        "\n",
        "# or\n",
        "import numpy as np\n",
        "df['Adult'] = np.where(df['Age']>=18, 'yes', 'no')"
      ],
      "execution_count": null,
      "outputs": []
    },
    {
      "cell_type": "markdown",
      "metadata": {
        "id": "F4PZV3Su29vB",
        "colab_type": "text"
      },
      "source": [
        "Flatten/collapse the hierarchical index in columns"
      ]
    },
    {
      "cell_type": "code",
      "metadata": {
        "id": "5oaPnPGw274o",
        "colab_type": "code",
        "colab": {}
      },
      "source": [
        "df.columns = ['_'.join(col).strip() for col in df.columns.values]"
      ],
      "execution_count": null,
      "outputs": []
    },
    {
      "cell_type": "markdown",
      "metadata": {
        "id": "ViXMLm9G3FQl",
        "colab_type": "text"
      },
      "source": [
        "Iterate over DataFrame rows (slow operation)\n"
      ]
    },
    {
      "cell_type": "code",
      "metadata": {
        "id": "15fe7S6628l-",
        "colab_type": "code",
        "colab": {}
      },
      "source": [
        "# pandas vectorized functions should be used instead of rows iteration\n",
        "for index, row in df.iterrows():\n",
        "    # row is a Series object\n",
        "    print(index, row['column_x'])\n",
        "\n",
        "# or faster method\n",
        "for row in df.itertuples():\n",
        "    # row is a named tuple with associated column names\n",
        "    print(row.Index, row.column_x, row.column_y)\n",
        "    print(row[0], row[1], row[2])\n"
      ],
      "execution_count": null,
      "outputs": []
    },
    {
      "cell_type": "markdown",
      "metadata": {
        "id": "4fx6_a-x3aaK",
        "colab_type": "text"
      },
      "source": [
        "Show the first 30 and last 30 rows\n"
      ]
    },
    {
      "cell_type": "code",
      "metadata": {
        "id": "0nKpeua53Xfa",
        "colab_type": "code",
        "colab": {
          "base_uri": "https://localhost:8080/",
          "height": 142
        },
        "outputId": "94aa0a6d-83d7-4cee-b3d5-7bebe0f219e9"
      },
      "source": [
        "df"
      ],
      "execution_count": 30,
      "outputs": [
        {
          "output_type": "execute_result",
          "data": {
            "text/html": [
              "<div>\n",
              "<style scoped>\n",
              "    .dataframe tbody tr th:only-of-type {\n",
              "        vertical-align: middle;\n",
              "    }\n",
              "\n",
              "    .dataframe tbody tr th {\n",
              "        vertical-align: top;\n",
              "    }\n",
              "\n",
              "    .dataframe thead th {\n",
              "        text-align: right;\n",
              "    }\n",
              "</style>\n",
              "<table border=\"1\" class=\"dataframe\">\n",
              "  <thead>\n",
              "    <tr style=\"text-align: right;\">\n",
              "      <th></th>\n",
              "      <th>Name</th>\n",
              "      <th>Age</th>\n",
              "      <th>column_new</th>\n",
              "    </tr>\n",
              "  </thead>\n",
              "  <tbody>\n",
              "    <tr>\n",
              "      <th>0</th>\n",
              "      <td>Alex</td>\n",
              "      <td>10</td>\n",
              "      <td>boy</td>\n",
              "    </tr>\n",
              "    <tr>\n",
              "      <th>1</th>\n",
              "      <td>Bob</td>\n",
              "      <td>12</td>\n",
              "      <td>boy</td>\n",
              "    </tr>\n",
              "    <tr>\n",
              "      <th>2</th>\n",
              "      <td>Marie</td>\n",
              "      <td>13</td>\n",
              "      <td>girl</td>\n",
              "    </tr>\n",
              "  </tbody>\n",
              "</table>\n",
              "</div>"
            ],
            "text/plain": [
              "    Name  Age column_new\n",
              "0   Alex   10        boy\n",
              "1    Bob   12        boy\n",
              "2  Marie   13       girl"
            ]
          },
          "metadata": {
            "tags": []
          },
          "execution_count": 30
        }
      ]
    },
    {
      "cell_type": "markdown",
      "metadata": {
        "id": "PlpRm43m3d_V",
        "colab_type": "text"
      },
      "source": [
        "Show info on index, data types, memory usage\n"
      ]
    },
    {
      "cell_type": "code",
      "metadata": {
        "id": "sjs94eQo3blu",
        "colab_type": "code",
        "colab": {
          "base_uri": "https://localhost:8080/",
          "height": 187
        },
        "outputId": "b650189f-985d-43e8-f9d4-64fbeb127e45"
      },
      "source": [
        "df.info()"
      ],
      "execution_count": 31,
      "outputs": [
        {
          "output_type": "stream",
          "text": [
            "<class 'pandas.core.frame.DataFrame'>\n",
            "RangeIndex: 3 entries, 0 to 2\n",
            "Data columns (total 3 columns):\n",
            " #   Column      Non-Null Count  Dtype \n",
            "---  ------      --------------  ----- \n",
            " 0   Name        3 non-null      object\n",
            " 1   Age         3 non-null      int64 \n",
            " 2   column_new  3 non-null      object\n",
            "dtypes: int64(1), object(2)\n",
            "memory usage: 200.0+ bytes\n"
          ],
          "name": "stdout"
        }
      ]
    },
    {
      "cell_type": "markdown",
      "metadata": {
        "id": "zRDGoabe3lCg",
        "colab_type": "text"
      },
      "source": [
        "Show type of df object\n"
      ]
    },
    {
      "cell_type": "code",
      "metadata": {
        "id": "QbzOq_Tw3fYF",
        "colab_type": "code",
        "colab": {
          "base_uri": "https://localhost:8080/",
          "height": 34
        },
        "outputId": "0d10f908-58a4-4b75-e73b-09330e06eaa0"
      },
      "source": [
        "type(df)"
      ],
      "execution_count": 32,
      "outputs": [
        {
          "output_type": "execute_result",
          "data": {
            "text/plain": [
              "pandas.core.frame.DataFrame"
            ]
          },
          "metadata": {
            "tags": []
          },
          "execution_count": 32
        }
      ]
    },
    {
      "cell_type": "markdown",
      "metadata": {
        "id": "3_8hvmZg3qQN",
        "colab_type": "text"
      },
      "source": [
        "Show the first 5 rows\n"
      ]
    },
    {
      "cell_type": "code",
      "metadata": {
        "id": "o0wf4q3d3mzD",
        "colab_type": "code",
        "colab": {
          "base_uri": "https://localhost:8080/",
          "height": 142
        },
        "outputId": "f5a1f4d4-cfae-415a-8b83-6aec7bee285f"
      },
      "source": [
        "df.head()"
      ],
      "execution_count": 33,
      "outputs": [
        {
          "output_type": "execute_result",
          "data": {
            "text/html": [
              "<div>\n",
              "<style scoped>\n",
              "    .dataframe tbody tr th:only-of-type {\n",
              "        vertical-align: middle;\n",
              "    }\n",
              "\n",
              "    .dataframe tbody tr th {\n",
              "        vertical-align: top;\n",
              "    }\n",
              "\n",
              "    .dataframe thead th {\n",
              "        text-align: right;\n",
              "    }\n",
              "</style>\n",
              "<table border=\"1\" class=\"dataframe\">\n",
              "  <thead>\n",
              "    <tr style=\"text-align: right;\">\n",
              "      <th></th>\n",
              "      <th>Name</th>\n",
              "      <th>Age</th>\n",
              "      <th>column_new</th>\n",
              "    </tr>\n",
              "  </thead>\n",
              "  <tbody>\n",
              "    <tr>\n",
              "      <th>0</th>\n",
              "      <td>Alex</td>\n",
              "      <td>10</td>\n",
              "      <td>boy</td>\n",
              "    </tr>\n",
              "    <tr>\n",
              "      <th>1</th>\n",
              "      <td>Bob</td>\n",
              "      <td>12</td>\n",
              "      <td>boy</td>\n",
              "    </tr>\n",
              "    <tr>\n",
              "      <th>2</th>\n",
              "      <td>Marie</td>\n",
              "      <td>13</td>\n",
              "      <td>girl</td>\n",
              "    </tr>\n",
              "  </tbody>\n",
              "</table>\n",
              "</div>"
            ],
            "text/plain": [
              "    Name  Age column_new\n",
              "0   Alex   10        boy\n",
              "1    Bob   12        boy\n",
              "2  Marie   13       girl"
            ]
          },
          "metadata": {
            "tags": []
          },
          "execution_count": 33
        }
      ]
    },
    {
      "cell_type": "markdown",
      "metadata": {
        "id": "oNTikdSg3vJe",
        "colab_type": "text"
      },
      "source": [
        "Show the first 10 rows\n"
      ]
    },
    {
      "cell_type": "code",
      "metadata": {
        "id": "BeAjqgtH3XoC",
        "colab_type": "code",
        "colab": {}
      },
      "source": [
        "df.head(10)"
      ],
      "execution_count": null,
      "outputs": []
    },
    {
      "cell_type": "markdown",
      "metadata": {
        "id": "0zSpgPuk36qq",
        "colab_type": "text"
      },
      "source": [
        "Show “the index” (aka “the labels”)\n"
      ]
    },
    {
      "cell_type": "code",
      "metadata": {
        "id": "GbBgJ2j73X54",
        "colab_type": "code",
        "colab": {
          "base_uri": "https://localhost:8080/",
          "height": 34
        },
        "outputId": "d66ba20c-950e-4db2-bf24-dbe8c91b6d45"
      },
      "source": [
        "df.columns\n",
        "type(df.columns)"
      ],
      "execution_count": 34,
      "outputs": [
        {
          "output_type": "execute_result",
          "data": {
            "text/plain": [
              "pandas.core.indexes.base.Index"
            ]
          },
          "metadata": {
            "tags": []
          },
          "execution_count": 34
        }
      ]
    },
    {
      "cell_type": "markdown",
      "metadata": {
        "id": "9Mc9FVGB4ARz",
        "colab_type": "text"
      },
      "source": [
        "Show data types of each column\n"
      ]
    },
    {
      "cell_type": "code",
      "metadata": {
        "id": "P9sDbbvN39zo",
        "colab_type": "code",
        "colab": {}
      },
      "source": [
        "df.dtypes"
      ],
      "execution_count": null,
      "outputs": []
    },
    {
      "cell_type": "markdown",
      "metadata": {
        "id": "KIHyYvUz4HPO",
        "colab_type": "text"
      },
      "source": [
        "Show number of rows and columns\n"
      ]
    },
    {
      "cell_type": "code",
      "metadata": {
        "id": "qYJ2UNXq4F5-",
        "colab_type": "code",
        "colab": {
          "base_uri": "https://localhost:8080/",
          "height": 34
        },
        "outputId": "5c4dbe6f-e0f2-4580-cfb6-447b169ebabe"
      },
      "source": [
        "df.shape"
      ],
      "execution_count": 35,
      "outputs": [
        {
          "output_type": "execute_result",
          "data": {
            "text/plain": [
              "(3, 3)"
            ]
          },
          "metadata": {
            "tags": []
          },
          "execution_count": 35
        }
      ]
    },
    {
      "cell_type": "markdown",
      "metadata": {
        "id": "jlioi5BB4Oy5",
        "colab_type": "text"
      },
      "source": [
        "Show number of rows only\n"
      ]
    },
    {
      "cell_type": "code",
      "metadata": {
        "id": "SlxFDUDT4LSZ",
        "colab_type": "code",
        "colab": {
          "base_uri": "https://localhost:8080/",
          "height": 34
        },
        "outputId": "668cd36e-883b-4ca4-e348-975557965490"
      },
      "source": [
        "df.shape[0]"
      ],
      "execution_count": 36,
      "outputs": [
        {
          "output_type": "execute_result",
          "data": {
            "text/plain": [
              "3"
            ]
          },
          "metadata": {
            "tags": []
          },
          "execution_count": 36
        }
      ]
    },
    {
      "cell_type": "markdown",
      "metadata": {
        "id": "G-0Io_7D4UER",
        "colab_type": "text"
      },
      "source": [
        "Show number of columns only\n"
      ]
    },
    {
      "cell_type": "code",
      "metadata": {
        "id": "bXDhRKIz4Ra5",
        "colab_type": "code",
        "colab": {
          "base_uri": "https://localhost:8080/",
          "height": 34
        },
        "outputId": "348f499e-f993-47c3-84d3-ed52a0217c8d"
      },
      "source": [
        "df.shape[1]"
      ],
      "execution_count": 37,
      "outputs": [
        {
          "output_type": "execute_result",
          "data": {
            "text/plain": [
              "3"
            ]
          },
          "metadata": {
            "tags": []
          },
          "execution_count": 37
        }
      ]
    },
    {
      "cell_type": "markdown",
      "metadata": {
        "id": "LSn-4q6D4aXi",
        "colab_type": "text"
      },
      "source": [
        "Get DataFrame values as numpy array"
      ]
    },
    {
      "cell_type": "code",
      "metadata": {
        "id": "U4XM3wtI4XKo",
        "colab_type": "code",
        "colab": {
          "base_uri": "https://localhost:8080/",
          "height": 68
        },
        "outputId": "7037a4e7-2cce-4815-f16d-2ac04a10a8fc"
      },
      "source": [
        "df.values"
      ],
      "execution_count": 38,
      "outputs": [
        {
          "output_type": "execute_result",
          "data": {
            "text/plain": [
              "array([['Alex', 10, 'boy'],\n",
              "       ['Bob', 12, 'boy'],\n",
              "       ['Marie', 13, 'girl']], dtype=object)"
            ]
          },
          "metadata": {
            "tags": []
          },
          "execution_count": 38
        }
      ]
    },
    {
      "cell_type": "markdown",
      "metadata": {
        "id": "GjvExBtk4fdx",
        "colab_type": "text"
      },
      "source": [
        "Show info on rows and columns indexes\n"
      ]
    },
    {
      "cell_type": "code",
      "metadata": {
        "id": "Z6wmDZC64dQM",
        "colab_type": "code",
        "colab": {
          "base_uri": "https://localhost:8080/",
          "height": 51
        },
        "outputId": "c8d7ced4-2deb-43e7-886e-9d433ebeaa19"
      },
      "source": [
        "df.axes"
      ],
      "execution_count": 39,
      "outputs": [
        {
          "output_type": "execute_result",
          "data": {
            "text/plain": [
              "[RangeIndex(start=0, stop=3, step=1),\n",
              " Index(['Name', 'Age', 'column_new'], dtype='object')]"
            ]
          },
          "metadata": {
            "tags": []
          },
          "execution_count": 39
        }
      ]
    },
    {
      "cell_type": "markdown",
      "metadata": {
        "id": "gpnBbF4X4lfH",
        "colab_type": "text"
      },
      "source": [
        "Get a concise summary of a DataFrame\n"
      ]
    },
    {
      "cell_type": "code",
      "metadata": {
        "id": "B617Ko0p4hHn",
        "colab_type": "code",
        "colab": {
          "base_uri": "https://localhost:8080/",
          "height": 170
        },
        "outputId": "3b214130-869b-4a13-f19b-ff56dc1c9684"
      },
      "source": [
        "import pandas as pd\n",
        "data = [['Alex', 10], ['Bob', 12], ['Clarke', 13]]\n",
        "df = pd.DataFrame(data, columns=['Name', 'Age'], index = ['a', 'b', 'c'])\n",
        "\n",
        "df.info()\n"
      ],
      "execution_count": 40,
      "outputs": [
        {
          "output_type": "stream",
          "text": [
            "<class 'pandas.core.frame.DataFrame'>\n",
            "Index: 3 entries, a to c\n",
            "Data columns (total 2 columns):\n",
            " #   Column  Non-Null Count  Dtype \n",
            "---  ------  --------------  ----- \n",
            " 0   Name    3 non-null      object\n",
            " 1   Age     3 non-null      int64 \n",
            "dtypes: int64(1), object(1)\n",
            "memory usage: 72.0+ bytes\n"
          ],
          "name": "stdout"
        }
      ]
    },
    {
      "cell_type": "markdown",
      "metadata": {
        "id": "2IocmDYU4tCb",
        "colab_type": "text"
      },
      "source": [
        "Get memory usage by column\n"
      ]
    },
    {
      "cell_type": "code",
      "metadata": {
        "id": "1C9qEKci3YOY",
        "colab_type": "code",
        "colab": {
          "base_uri": "https://localhost:8080/",
          "height": 85
        },
        "outputId": "ec39e743-c3a2-40fd-d1a4-15bb9e9faa7a"
      },
      "source": [
        "df.memory_usage()"
      ],
      "execution_count": 41,
      "outputs": [
        {
          "output_type": "execute_result",
          "data": {
            "text/plain": [
              "Index    104\n",
              "Name      24\n",
              "Age       24\n",
              "dtype: int64"
            ]
          },
          "metadata": {
            "tags": []
          },
          "execution_count": 41
        }
      ]
    },
    {
      "cell_type": "markdown",
      "metadata": {
        "id": "I36lf8Cj40im",
        "colab_type": "text"
      },
      "source": [
        "Set maximum number of rows and columns printed to unlimited\n"
      ]
    },
    {
      "cell_type": "code",
      "metadata": {
        "id": "DcHX6NzH4w3Z",
        "colab_type": "code",
        "colab": {}
      },
      "source": [
        "# default is 60 rows\n",
        "pd.set_option('max_rows', None)\n",
        "# default is 20 columns\n",
        "pd.set_option('max_columns', None)"
      ],
      "execution_count": 42,
      "outputs": []
    },
    {
      "cell_type": "markdown",
      "metadata": {
        "id": "e_Jx5eAe45oL",
        "colab_type": "text"
      },
      "source": [
        "Reset maximum number of rows and columns printed to default\n"
      ]
    },
    {
      "cell_type": "code",
      "metadata": {
        "id": "aOc9tFZT44_I",
        "colab_type": "code",
        "colab": {}
      },
      "source": [
        "pd.reset_option('max_rows')\n",
        "pd.reset_option('max_columns')"
      ],
      "execution_count": 43,
      "outputs": []
    },
    {
      "cell_type": "markdown",
      "metadata": {
        "id": "DiCQ9t-35Bzm",
        "colab_type": "text"
      },
      "source": [
        "Suppress scientific notation\n"
      ]
    },
    {
      "cell_type": "code",
      "metadata": {
        "id": "962-1YPb4-jN",
        "colab_type": "code",
        "colab": {}
      },
      "source": [
        "# display all floats with commas and two decimal places\n",
        "pd.set_option('display.float_format', lambda x: '{:,.2f}'.format(x))\n",
        "# or\n",
        "pd.options.display.float_format = \"{:,.2f}\".format\n"
      ],
      "execution_count": null,
      "outputs": []
    },
    {
      "cell_type": "markdown",
      "metadata": {
        "id": "d4Yz98HM5JJk",
        "colab_type": "text"
      },
      "source": [
        "Reset floats display\n"
      ]
    },
    {
      "cell_type": "code",
      "metadata": {
        "id": "6uXDketT3Xwo",
        "colab_type": "code",
        "colab": {}
      },
      "source": [
        "pd.reset_option('display.float_format')"
      ],
      "execution_count": null,
      "outputs": []
    },
    {
      "cell_type": "markdown",
      "metadata": {
        "id": "pXa-gCG75Q3E",
        "colab_type": "text"
      },
      "source": [
        "Change float format to two decimal places\n"
      ]
    },
    {
      "cell_type": "code",
      "metadata": {
        "id": "eMk7roIM3XlD",
        "colab_type": "code",
        "colab": {}
      },
      "source": [
        "# using rounding\n",
        "df['col_x'].round(2)\n",
        "# using apply\n",
        "df['col_x'].apply(lambda x: '{:.2f}'.format(x))"
      ],
      "execution_count": null,
      "outputs": []
    },
    {
      "cell_type": "markdown",
      "metadata": {
        "id": "0tJrbNPz5XbR",
        "colab_type": "text"
      },
      "source": [
        "Set maximum number of rows and columns printed to unlimited temporary\n"
      ]
    },
    {
      "cell_type": "code",
      "metadata": {
        "id": "y6EdfSwi5Yyq",
        "colab_type": "code",
        "colab": {}
      },
      "source": [
        "# settings are restored when you exit the 'with' block\n",
        "with pd.option_context('max_rows', None, 'max_columns', None):\n",
        "    print(df)\n"
      ],
      "execution_count": null,
      "outputs": []
    },
    {
      "cell_type": "markdown",
      "metadata": {
        "id": "o112QYDj5rcT",
        "colab_type": "text"
      },
      "source": [
        "Sort dataframe by one column values ascending\n"
      ]
    },
    {
      "cell_type": "code",
      "metadata": {
        "id": "eAt8z3kg3XVK",
        "colab_type": "code",
        "colab": {}
      },
      "source": [
        "df = df.sort_values('col_x')\n"
      ],
      "execution_count": 43,
      "outputs": []
    },
    {
      "cell_type": "markdown",
      "metadata": {
        "id": "B01FOpQE5zRk",
        "colab_type": "text"
      },
      "source": [
        "Sort the dataframe by one column values descending\n"
      ]
    },
    {
      "cell_type": "code",
      "metadata": {
        "id": "23frXIg35qMw",
        "colab_type": "code",
        "colab": {}
      },
      "source": [
        "df = df.sort_values('col_x', ascending=False)"
      ],
      "execution_count": 43,
      "outputs": []
    },
    {
      "cell_type": "markdown",
      "metadata": {
        "id": "sm-lx-PT53ep",
        "colab_type": "text"
      },
      "source": [
        "Sort the dataframe by one column values ascending, inplace\n"
      ]
    },
    {
      "cell_type": "code",
      "metadata": {
        "id": "PQ4qVTcH5qUf",
        "colab_type": "code",
        "colab": {}
      },
      "source": [
        "df.sort_values('col_x', inplace=True)\n"
      ],
      "execution_count": 43,
      "outputs": []
    },
    {
      "cell_type": "markdown",
      "metadata": {
        "id": "MCT0pLh659Q_",
        "colab_type": "text"
      },
      "source": [
        "Sort the dataframe by multiple columns values\n"
      ]
    },
    {
      "cell_type": "code",
      "metadata": {
        "id": "rIhjaCBX5qYs",
        "colab_type": "code",
        "colab": {}
      },
      "source": [
        "df = df.sort_values(['col_x','col_y','col_z'], ascending=[True, True, False])"
      ],
      "execution_count": 43,
      "outputs": []
    },
    {
      "cell_type": "markdown",
      "metadata": {
        "id": "TDk7g1mB6B1o",
        "colab_type": "text"
      },
      "source": [
        "Sort the dataframe based on the index labels ascending\n"
      ]
    },
    {
      "cell_type": "code",
      "metadata": {
        "id": "1XBRuIrw5qcK",
        "colab_type": "code",
        "colab": {}
      },
      "source": [
        "df = df.sort_index()"
      ],
      "execution_count": 43,
      "outputs": []
    },
    {
      "cell_type": "markdown",
      "metadata": {
        "id": "QJMIQ-3H6HjS",
        "colab_type": "text"
      },
      "source": [
        "Sort the dataframe based on the columns labels ascending\n"
      ]
    },
    {
      "cell_type": "code",
      "metadata": {
        "id": "H7Rmyz8x5qwi",
        "colab_type": "code",
        "colab": {}
      },
      "source": [
        "df = df.sort_index(axis=1)\n"
      ],
      "execution_count": null,
      "outputs": []
    },
    {
      "cell_type": "markdown",
      "metadata": {
        "id": "QivA-iWu6M2c",
        "colab_type": "text"
      },
      "source": [
        "Sort the dataframe based on the columns labels ascending\n"
      ]
    },
    {
      "cell_type": "code",
      "metadata": {
        "id": "9-w3ZebI27ZE",
        "colab_type": "code",
        "colab": {}
      },
      "source": [
        "import pandas as pd\n",
        "data = {'Name': ['Tom', 'Jack', 'Steve', 'Ricky'], 'Age': [28, 34, 29, 42]}\n",
        "df = pd.DataFrame(data)\n"
      ],
      "execution_count": 58,
      "outputs": []
    },
    {
      "cell_type": "code",
      "metadata": {
        "id": "omCb_fYO62OM",
        "colab_type": "code",
        "colab": {
          "base_uri": "https://localhost:8080/",
          "height": 173
        },
        "outputId": "5a386a3f-2a27-4289-bdd0-d37a3da4d316"
      },
      "source": [
        "df"
      ],
      "execution_count": 45,
      "outputs": [
        {
          "output_type": "execute_result",
          "data": {
            "text/html": [
              "<div>\n",
              "<style scoped>\n",
              "    .dataframe tbody tr th:only-of-type {\n",
              "        vertical-align: middle;\n",
              "    }\n",
              "\n",
              "    .dataframe tbody tr th {\n",
              "        vertical-align: top;\n",
              "    }\n",
              "\n",
              "    .dataframe thead th {\n",
              "        text-align: right;\n",
              "    }\n",
              "</style>\n",
              "<table border=\"1\" class=\"dataframe\">\n",
              "  <thead>\n",
              "    <tr style=\"text-align: right;\">\n",
              "      <th></th>\n",
              "      <th>Name</th>\n",
              "      <th>Age</th>\n",
              "    </tr>\n",
              "  </thead>\n",
              "  <tbody>\n",
              "    <tr>\n",
              "      <th>0</th>\n",
              "      <td>Tom</td>\n",
              "      <td>28</td>\n",
              "    </tr>\n",
              "    <tr>\n",
              "      <th>1</th>\n",
              "      <td>Jack</td>\n",
              "      <td>34</td>\n",
              "    </tr>\n",
              "    <tr>\n",
              "      <th>2</th>\n",
              "      <td>Steve</td>\n",
              "      <td>29</td>\n",
              "    </tr>\n",
              "    <tr>\n",
              "      <th>3</th>\n",
              "      <td>Ricky</td>\n",
              "      <td>42</td>\n",
              "    </tr>\n",
              "  </tbody>\n",
              "</table>\n",
              "</div>"
            ],
            "text/plain": [
              "    Name  Age\n",
              "0    Tom   28\n",
              "1   Jack   34\n",
              "2  Steve   29\n",
              "3  Ricky   42"
            ]
          },
          "metadata": {
            "tags": []
          },
          "execution_count": 45
        }
      ]
    },
    {
      "cell_type": "code",
      "metadata": {
        "id": "uiFumFYY62sY",
        "colab_type": "code",
        "colab": {}
      },
      "source": [
        "df = df.sort_index(axis=1)"
      ],
      "execution_count": 46,
      "outputs": []
    },
    {
      "cell_type": "code",
      "metadata": {
        "id": "oLoVLOZl65M0",
        "colab_type": "code",
        "colab": {
          "base_uri": "https://localhost:8080/",
          "height": 173
        },
        "outputId": "194e3544-8211-48fb-babc-b91497776e08"
      },
      "source": [
        "df"
      ],
      "execution_count": 47,
      "outputs": [
        {
          "output_type": "execute_result",
          "data": {
            "text/html": [
              "<div>\n",
              "<style scoped>\n",
              "    .dataframe tbody tr th:only-of-type {\n",
              "        vertical-align: middle;\n",
              "    }\n",
              "\n",
              "    .dataframe tbody tr th {\n",
              "        vertical-align: top;\n",
              "    }\n",
              "\n",
              "    .dataframe thead th {\n",
              "        text-align: right;\n",
              "    }\n",
              "</style>\n",
              "<table border=\"1\" class=\"dataframe\">\n",
              "  <thead>\n",
              "    <tr style=\"text-align: right;\">\n",
              "      <th></th>\n",
              "      <th>Age</th>\n",
              "      <th>Name</th>\n",
              "    </tr>\n",
              "  </thead>\n",
              "  <tbody>\n",
              "    <tr>\n",
              "      <th>0</th>\n",
              "      <td>28</td>\n",
              "      <td>Tom</td>\n",
              "    </tr>\n",
              "    <tr>\n",
              "      <th>1</th>\n",
              "      <td>34</td>\n",
              "      <td>Jack</td>\n",
              "    </tr>\n",
              "    <tr>\n",
              "      <th>2</th>\n",
              "      <td>29</td>\n",
              "      <td>Steve</td>\n",
              "    </tr>\n",
              "    <tr>\n",
              "      <th>3</th>\n",
              "      <td>42</td>\n",
              "      <td>Ricky</td>\n",
              "    </tr>\n",
              "  </tbody>\n",
              "</table>\n",
              "</div>"
            ],
            "text/plain": [
              "   Age   Name\n",
              "0   28    Tom\n",
              "1   34   Jack\n",
              "2   29  Steve\n",
              "3   42  Ricky"
            ]
          },
          "metadata": {
            "tags": []
          },
          "execution_count": 47
        }
      ]
    },
    {
      "cell_type": "markdown",
      "metadata": {
        "id": "CuAxW6cm7AkR",
        "colab_type": "text"
      },
      "source": [
        "Read csv file\n"
      ]
    },
    {
      "cell_type": "code",
      "metadata": {
        "id": "fIuKLUnn65s6",
        "colab_type": "code",
        "colab": {}
      },
      "source": [
        "df = pd.read_csv('local_path/file.csv')\n"
      ],
      "execution_count": 47,
      "outputs": []
    },
    {
      "cell_type": "markdown",
      "metadata": {
        "id": "vJO8V2F77FNB",
        "colab_type": "text"
      },
      "source": [
        "Read csv file with | as fields separator\n"
      ]
    },
    {
      "cell_type": "code",
      "metadata": {
        "id": "pfmThwzF692L",
        "colab_type": "code",
        "colab": {}
      },
      "source": [
        "df = pd.read_csv('local_path/file.csv', sep='|')"
      ],
      "execution_count": 47,
      "outputs": []
    },
    {
      "cell_type": "markdown",
      "metadata": {
        "id": "pOpbv-BD7KS1",
        "colab_type": "text"
      },
      "source": [
        "Read only 10 rows of csv file\n"
      ]
    },
    {
      "cell_type": "code",
      "metadata": {
        "id": "GXLc3xi2696P",
        "colab_type": "code",
        "colab": {}
      },
      "source": [
        "pd.read_csv('local_path/file.csv', nrows = 10)\n"
      ],
      "execution_count": 47,
      "outputs": []
    },
    {
      "cell_type": "markdown",
      "metadata": {
        "id": "pgXKtaek7Oub",
        "colab_type": "text"
      },
      "source": [
        "Read csv file and skip first 3 rows\n"
      ]
    },
    {
      "cell_type": "code",
      "metadata": {
        "id": "3XWe6DHE69-e",
        "colab_type": "code",
        "colab": {}
      },
      "source": [
        "df = pd.read_csv('local_path/file.csv', skiprows = 3)\n"
      ],
      "execution_count": 47,
      "outputs": []
    },
    {
      "cell_type": "markdown",
      "metadata": {
        "id": "tKC7Aszw7T9D",
        "colab_type": "text"
      },
      "source": [
        "Read csv file and parse/treat columns as dates\n"
      ]
    },
    {
      "cell_type": "code",
      "metadata": {
        "id": "ex9f-k7N6-Es",
        "colab_type": "code",
        "colab": {}
      },
      "source": [
        "df = pd.read_csv('local_path/file.csv', parse_dates = ['column_x_date', 'column_y_date'])\n"
      ],
      "execution_count": 47,
      "outputs": []
    },
    {
      "cell_type": "markdown",
      "metadata": {
        "id": "XKR-y1dV7YS2",
        "colab_type": "text"
      },
      "source": [
        "Read csv file while specifying column names\n"
      ]
    },
    {
      "cell_type": "code",
      "metadata": {
        "id": "yh-G69E16-Iz",
        "colab_type": "code",
        "colab": {}
      },
      "source": [
        "df = pd.read_csv('local_path/file.csv', names = ['column_1', 'column_2'])\n"
      ],
      "execution_count": 47,
      "outputs": []
    },
    {
      "cell_type": "markdown",
      "metadata": {
        "id": "v1DqUO257cd4",
        "colab_type": "text"
      },
      "source": [
        "Read csv file and set the index as column_id\n"
      ]
    },
    {
      "cell_type": "code",
      "metadata": {
        "id": "JeZawNyr6-MA",
        "colab_type": "code",
        "colab": {}
      },
      "source": [
        "df = pd.read_csv('local_path/file.csv', index_col = 'column_id')"
      ],
      "execution_count": 47,
      "outputs": []
    },
    {
      "cell_type": "markdown",
      "metadata": {
        "id": "NRGDaVrO7h_k",
        "colab_type": "text"
      },
      "source": [
        "Read csv file and set the index as multi columns\n"
      ]
    },
    {
      "cell_type": "code",
      "metadata": {
        "id": "77l5YEX76-PP",
        "colab_type": "code",
        "colab": {}
      },
      "source": [
        "df = pd.read_csv('local_path/file.csv', index_col = ['column_id1', 'column_id2'])\n"
      ],
      "execution_count": 47,
      "outputs": []
    },
    {
      "cell_type": "markdown",
      "metadata": {
        "id": "-NiljBby7nRE",
        "colab_type": "text"
      },
      "source": [
        "Read csv file and set “.” as missing values\n"
      ]
    },
    {
      "cell_type": "code",
      "metadata": {
        "id": "t_87CAMH6-Sf",
        "colab_type": "code",
        "colab": {}
      },
      "source": [
        "df = pd.read_csv('local_path/file.csv', na_values = ['.'])\n"
      ],
      "execution_count": 47,
      "outputs": []
    },
    {
      "cell_type": "markdown",
      "metadata": {
        "id": "qi4UFd6V7rau",
        "colab_type": "text"
      },
      "source": [
        "Read csv file and set different missing values on columns\n"
      ]
    },
    {
      "cell_type": "code",
      "metadata": {
        "id": "qTF_Q7We6-Vo",
        "colab_type": "code",
        "colab": {}
      },
      "source": [
        "# `column_x` missing values to be set as `nope`\n",
        "# `column_y` missing values to be set as `.`\n",
        "missings = {'column_x': ['nope'], 'column_y': ['.']}\n",
        "df = pd.read_csv('local_path/file.csv', na_values = missings)\n"
      ],
      "execution_count": 47,
      "outputs": []
    },
    {
      "cell_type": "markdown",
      "metadata": {
        "id": "yri_moGJ7xiO",
        "colab_type": "text"
      },
      "source": [
        "Read csv file and prevent pandas from interpreting “NA” as NaN in a string\n"
      ]
    },
    {
      "cell_type": "code",
      "metadata": {
        "id": "YoCZ31vZ6-YX",
        "colab_type": "code",
        "colab": {}
      },
      "source": [
        "# The default NaN recognized values are ['-1.#IND', '1.#QNAN', '1.#IND',\n",
        "# '-1.#QNAN', '#N/A N/A', '#N/A', 'N/A', 'n/a', 'NA', '#NA', 'NULL',\n",
        "# 'null', 'NaN', '-NaN', 'nan', '-nan', ''].\n",
        "df = pd.read_csv('local_path/file.csv', keep_default_na = False)"
      ],
      "execution_count": 47,
      "outputs": []
    },
    {
      "cell_type": "markdown",
      "metadata": {
        "id": "Q01IpO1G9B6K",
        "colab_type": "text"
      },
      "source": [
        "Read csv file and ignore missing value markers\n"
      ]
    },
    {
      "cell_type": "code",
      "metadata": {
        "id": "BxEBDJVD6-dt",
        "colab_type": "code",
        "colab": {}
      },
      "source": [
        "# improve performance of reading a large file in data without any NAs\n",
        "df = pd.read_csv('local_path/file.csv', header = 0, na_filter = False)\n"
      ],
      "execution_count": 47,
      "outputs": []
    },
    {
      "cell_type": "markdown",
      "metadata": {
        "id": "QftZVfK09bfb",
        "colab_type": "text"
      },
      "source": [
        "Read csv file and change the data type of a column\n"
      ]
    },
    {
      "cell_type": "code",
      "metadata": {
        "id": "TKCfsMMY6-h-",
        "colab_type": "code",
        "colab": {}
      },
      "source": [
        "pd.read_csv('local_path/file.csv', dtype = {'column_x': float})\n"
      ],
      "execution_count": 47,
      "outputs": []
    },
    {
      "cell_type": "markdown",
      "metadata": {
        "id": "Ls12TSiJ9ios",
        "colab_type": "text"
      },
      "source": [
        "Write csv file\n"
      ]
    },
    {
      "cell_type": "code",
      "metadata": {
        "id": "wdwCzMpt6-l8",
        "colab_type": "code",
        "colab": {}
      },
      "source": [
        "df.to_csv('local_path/file.csv')\n"
      ],
      "execution_count": 47,
      "outputs": []
    },
    {
      "cell_type": "markdown",
      "metadata": {
        "id": "WcZonPxd9vZo",
        "colab_type": "text"
      },
      "source": [
        "Write csv file with | as fields separator\n"
      ]
    },
    {
      "cell_type": "code",
      "metadata": {
        "id": "Po0znCGT6-or",
        "colab_type": "code",
        "colab": {}
      },
      "source": [
        "df = df.to_csv('local_path/file.csv', sep = '|')\n"
      ],
      "execution_count": 47,
      "outputs": []
    },
    {
      "cell_type": "markdown",
      "metadata": {
        "id": "JZy9A5wz91A4",
        "colab_type": "text"
      },
      "source": [
        "Write csv file but not save the DataFrame index\n"
      ]
    },
    {
      "cell_type": "code",
      "metadata": {
        "id": "kmE_nC_g6_DP",
        "colab_type": "code",
        "colab": {}
      },
      "source": [
        "df.to_csv('local_path/file.csv', index = False)"
      ],
      "execution_count": null,
      "outputs": []
    },
    {
      "cell_type": "markdown",
      "metadata": {
        "id": "oLlo0D_V-AAq",
        "colab_type": "text"
      },
      "source": [
        "Write csv file but not save the DataFrame header\n"
      ]
    },
    {
      "cell_type": "code",
      "metadata": {
        "id": "pJE9i-Pf971O",
        "colab_type": "code",
        "colab": {}
      },
      "source": [
        "df.to_csv('local_path/file.csv', header = False)\n"
      ],
      "execution_count": null,
      "outputs": []
    },
    {
      "cell_type": "markdown",
      "metadata": {
        "id": "z_8x1i42-FPf",
        "colab_type": "text"
      },
      "source": [
        "Write csv file but only specific columns\n"
      ]
    },
    {
      "cell_type": "code",
      "metadata": {
        "id": "JiuixR1k6_G7",
        "colab_type": "code",
        "colab": {}
      },
      "source": [
        "df.to_csv('local_path/file.csv', columns = ['column_x', 'column_y'])"
      ],
      "execution_count": 47,
      "outputs": []
    },
    {
      "cell_type": "markdown",
      "metadata": {
        "id": "O-H1YPfe-MJy",
        "colab_type": "text"
      },
      "source": [
        "Write csv file; don’t use quotes and use backslash as escape character\n"
      ]
    },
    {
      "cell_type": "code",
      "metadata": {
        "id": "O-Xn5u_K6_J_",
        "colab_type": "code",
        "colab": {}
      },
      "source": [
        "df.to_csv('local_path/file.csv', quoting = csv.QUOTE_NONE, escapechar = '\\\\')"
      ],
      "execution_count": 47,
      "outputs": []
    },
    {
      "cell_type": "markdown",
      "metadata": {
        "id": "qJ9YN1k9-Rky",
        "colab_type": "text"
      },
      "source": [
        "Append DataFrame to csv file\n"
      ]
    },
    {
      "cell_type": "code",
      "metadata": {
        "id": "1WmAkY8N6_MH",
        "colab_type": "code",
        "colab": {}
      },
      "source": [
        "df.to_csv('local_path/file.csv', mode = 'a')"
      ],
      "execution_count": 47,
      "outputs": []
    },
    {
      "cell_type": "markdown",
      "metadata": {
        "id": "43DUjSi3-mtq",
        "colab_type": "text"
      },
      "source": [
        "Drop a row if ANY values are missing\n"
      ]
    },
    {
      "cell_type": "code",
      "metadata": {
        "id": "2aLV1JT86_OZ",
        "colab_type": "code",
        "colab": {}
      },
      "source": [
        "df = df.dropna()"
      ],
      "execution_count": 47,
      "outputs": []
    },
    {
      "cell_type": "markdown",
      "metadata": {
        "id": "rBpBaR8T-tPr",
        "colab_type": "text"
      },
      "source": [
        "Drop a row only if ALL values are missing\n"
      ]
    },
    {
      "cell_type": "code",
      "metadata": {
        "id": "vQwwjzlj6_UF",
        "colab_type": "code",
        "colab": {}
      },
      "source": [
        "df = df.dropna(how='all')"
      ],
      "execution_count": 49,
      "outputs": []
    },
    {
      "cell_type": "markdown",
      "metadata": {
        "id": "ZFZbp7z1-3BL",
        "colab_type": "text"
      },
      "source": [
        "Drop a column if ANY values are missing\n"
      ]
    },
    {
      "cell_type": "code",
      "metadata": {
        "id": "pTlRyNGi-ydv",
        "colab_type": "code",
        "colab": {}
      },
      "source": [
        "df = df.dropna(axis = 1)"
      ],
      "execution_count": 49,
      "outputs": []
    },
    {
      "cell_type": "markdown",
      "metadata": {
        "id": "bjLdYe5u-79m",
        "colab_type": "text"
      },
      "source": [
        "Drop a column only if ALL values are missing\n"
      ]
    },
    {
      "cell_type": "code",
      "metadata": {
        "id": "QQDBqbQV-yjG",
        "colab_type": "code",
        "colab": {}
      },
      "source": [
        "df = df.dropna(how='all', axis = 1)"
      ],
      "execution_count": 49,
      "outputs": []
    },
    {
      "cell_type": "markdown",
      "metadata": {
        "id": "gqQ6b6-j_Byn",
        "colab_type": "text"
      },
      "source": [
        "Drop duplicate rows keeping first occurrence\n"
      ]
    },
    {
      "cell_type": "code",
      "metadata": {
        "id": "Pt8g_peO-yoB",
        "colab_type": "code",
        "colab": {}
      },
      "source": [
        "df = df.drop_duplicates()"
      ],
      "execution_count": 49,
      "outputs": []
    },
    {
      "cell_type": "markdown",
      "metadata": {
        "id": "z1D436UX_Ga_",
        "colab_type": "text"
      },
      "source": [
        "Drop duplicate rows keeping last occurrence\n"
      ]
    },
    {
      "cell_type": "code",
      "metadata": {
        "id": "lX8au3fG-ywp",
        "colab_type": "code",
        "colab": {}
      },
      "source": [
        "df = df.drop_duplicates(keep='last')\n"
      ],
      "execution_count": 49,
      "outputs": []
    },
    {
      "cell_type": "markdown",
      "metadata": {
        "id": "0-R4QvM0_QAn",
        "colab_type": "text"
      },
      "source": [
        "Drop all duplicates\n"
      ]
    },
    {
      "cell_type": "code",
      "metadata": {
        "id": "mtzO_rtv-y5v",
        "colab_type": "code",
        "colab": {}
      },
      "source": [
        "df = df.drop_duplicates(keep=False)\n"
      ],
      "execution_count": 49,
      "outputs": []
    },
    {
      "cell_type": "markdown",
      "metadata": {
        "id": "jcMCDLhg_VNr",
        "colab_type": "text"
      },
      "source": [
        "Drop duplicate rows identifying duplicates on the giving columns\n"
      ]
    },
    {
      "cell_type": "code",
      "metadata": {
        "id": "PPLb4Anv_IUX",
        "colab_type": "code",
        "colab": {}
      },
      "source": [
        "df = df.drop_duplicates(subset=['column_x', 'column_y'])\n"
      ],
      "execution_count": 49,
      "outputs": []
    },
    {
      "cell_type": "markdown",
      "metadata": {
        "id": "-53bPOB-_Z9z",
        "colab_type": "text"
      },
      "source": [
        "Find duplicates based on giving columns\n"
      ]
    },
    {
      "cell_type": "code",
      "metadata": {
        "id": "VNpuXC_m_Iac",
        "colab_type": "code",
        "colab": {}
      },
      "source": [
        "dup_df = df[df.duplicated(subset=['column_x', 'column_y'], keep=False)]"
      ],
      "execution_count": 49,
      "outputs": []
    },
    {
      "cell_type": "markdown",
      "metadata": {
        "id": "lnzq7iZU_e8R",
        "colab_type": "text"
      },
      "source": [
        "Count duplicates rows\n"
      ]
    },
    {
      "cell_type": "code",
      "metadata": {
        "id": "Yxcv6XkV_IgB",
        "colab_type": "code",
        "colab": {}
      },
      "source": [
        "df.duplicated().sum()"
      ],
      "execution_count": 49,
      "outputs": []
    },
    {
      "cell_type": "markdown",
      "metadata": {
        "id": "hZUF2rx8_j5L",
        "colab_type": "text"
      },
      "source": [
        "Count duplicates on column\n"
      ]
    },
    {
      "cell_type": "code",
      "metadata": {
        "id": "STSv3L7n_Ikm",
        "colab_type": "code",
        "colab": {}
      },
      "source": [
        "df.column_x.duplicated().sum()"
      ],
      "execution_count": 49,
      "outputs": []
    },
    {
      "cell_type": "markdown",
      "metadata": {
        "id": "KUYrl0Gy_rES",
        "colab_type": "text"
      },
      "source": [
        "Replace all missing values with 0\n"
      ]
    },
    {
      "cell_type": "code",
      "metadata": {
        "id": "r09mTb1p_IpM",
        "colab_type": "code",
        "colab": {}
      },
      "source": [
        "df = df.fillna(value = 0)"
      ],
      "execution_count": 49,
      "outputs": []
    },
    {
      "cell_type": "markdown",
      "metadata": {
        "id": "zB8nanw2_y2O",
        "colab_type": "text"
      },
      "source": [
        "Replace missing values with 0 on one column\n"
      ]
    },
    {
      "cell_type": "code",
      "metadata": {
        "id": "wfYu_iwo_Is3",
        "colab_type": "code",
        "colab": {}
      },
      "source": [
        "df.column_x = df.column_x.fillna(value = 0)"
      ],
      "execution_count": null,
      "outputs": []
    },
    {
      "cell_type": "markdown",
      "metadata": {
        "id": "SJJaBqCq_9nt",
        "colab_type": "text"
      },
      "source": [
        "Replace missing values on multiple columns\n"
      ]
    },
    {
      "cell_type": "code",
      "metadata": {
        "id": "J1FCZOGW_3PT",
        "colab_type": "code",
        "colab": {}
      },
      "source": [
        "df = df.fillna({\n",
        "    'col1': 'missing',\n",
        "    'col2': '99.999',\n",
        "    'col3': '999',\n",
        "    'col4': 'missing',\n",
        "    'col5': 'missing',\n",
        "    'col6': '99'\n",
        "})\n"
      ],
      "execution_count": 50,
      "outputs": []
    },
    {
      "cell_type": "markdown",
      "metadata": {
        "id": "PEvlJafJAEzF",
        "colab_type": "text"
      },
      "source": [
        "Replace missing values with forward fill (propagate non-null values forward)\n"
      ]
    },
    {
      "cell_type": "code",
      "metadata": {
        "id": "sBP3Lhc9_3YB",
        "colab_type": "code",
        "colab": {}
      },
      "source": [
        "import pandas as pd\n",
        "import numpy as np\n",
        "df = pd.DataFrame([[np.nan, 2, np.nan, 0],\n",
        "                  [3, 4, np.nan, 1],\n",
        "                  [np.nan, np.nan, np.nan, 5],\n",
        "                  [np.nan, 3, np.nan, 4]],\n",
        "                  columns=list('ABCD'))\n",
        "\n",
        "df_filled = df.fillna(method='ffill')\n",
        "\n"
      ],
      "execution_count": 51,
      "outputs": []
    },
    {
      "cell_type": "code",
      "metadata": {
        "id": "C8ci1UORAKlD",
        "colab_type": "code",
        "colab": {
          "base_uri": "https://localhost:8080/",
          "height": 173
        },
        "outputId": "3c96cac2-9555-4173-bafa-527bd9cfaaa1"
      },
      "source": [
        "df"
      ],
      "execution_count": 52,
      "outputs": [
        {
          "output_type": "execute_result",
          "data": {
            "text/html": [
              "<div>\n",
              "<style scoped>\n",
              "    .dataframe tbody tr th:only-of-type {\n",
              "        vertical-align: middle;\n",
              "    }\n",
              "\n",
              "    .dataframe tbody tr th {\n",
              "        vertical-align: top;\n",
              "    }\n",
              "\n",
              "    .dataframe thead th {\n",
              "        text-align: right;\n",
              "    }\n",
              "</style>\n",
              "<table border=\"1\" class=\"dataframe\">\n",
              "  <thead>\n",
              "    <tr style=\"text-align: right;\">\n",
              "      <th></th>\n",
              "      <th>A</th>\n",
              "      <th>B</th>\n",
              "      <th>C</th>\n",
              "      <th>D</th>\n",
              "    </tr>\n",
              "  </thead>\n",
              "  <tbody>\n",
              "    <tr>\n",
              "      <th>0</th>\n",
              "      <td>NaN</td>\n",
              "      <td>2.0</td>\n",
              "      <td>NaN</td>\n",
              "      <td>0</td>\n",
              "    </tr>\n",
              "    <tr>\n",
              "      <th>1</th>\n",
              "      <td>3.0</td>\n",
              "      <td>4.0</td>\n",
              "      <td>NaN</td>\n",
              "      <td>1</td>\n",
              "    </tr>\n",
              "    <tr>\n",
              "      <th>2</th>\n",
              "      <td>NaN</td>\n",
              "      <td>NaN</td>\n",
              "      <td>NaN</td>\n",
              "      <td>5</td>\n",
              "    </tr>\n",
              "    <tr>\n",
              "      <th>3</th>\n",
              "      <td>NaN</td>\n",
              "      <td>3.0</td>\n",
              "      <td>NaN</td>\n",
              "      <td>4</td>\n",
              "    </tr>\n",
              "  </tbody>\n",
              "</table>\n",
              "</div>"
            ],
            "text/plain": [
              "     A    B   C  D\n",
              "0  NaN  2.0 NaN  0\n",
              "1  3.0  4.0 NaN  1\n",
              "2  NaN  NaN NaN  5\n",
              "3  NaN  3.0 NaN  4"
            ]
          },
          "metadata": {
            "tags": []
          },
          "execution_count": 52
        }
      ]
    },
    {
      "cell_type": "code",
      "metadata": {
        "id": "6sbt29cEANI4",
        "colab_type": "code",
        "colab": {
          "base_uri": "https://localhost:8080/",
          "height": 173
        },
        "outputId": "dd9462e7-28d9-40da-a92b-2ce04965fd17"
      },
      "source": [
        "df_filled"
      ],
      "execution_count": 53,
      "outputs": [
        {
          "output_type": "execute_result",
          "data": {
            "text/html": [
              "<div>\n",
              "<style scoped>\n",
              "    .dataframe tbody tr th:only-of-type {\n",
              "        vertical-align: middle;\n",
              "    }\n",
              "\n",
              "    .dataframe tbody tr th {\n",
              "        vertical-align: top;\n",
              "    }\n",
              "\n",
              "    .dataframe thead th {\n",
              "        text-align: right;\n",
              "    }\n",
              "</style>\n",
              "<table border=\"1\" class=\"dataframe\">\n",
              "  <thead>\n",
              "    <tr style=\"text-align: right;\">\n",
              "      <th></th>\n",
              "      <th>A</th>\n",
              "      <th>B</th>\n",
              "      <th>C</th>\n",
              "      <th>D</th>\n",
              "    </tr>\n",
              "  </thead>\n",
              "  <tbody>\n",
              "    <tr>\n",
              "      <th>0</th>\n",
              "      <td>NaN</td>\n",
              "      <td>2.0</td>\n",
              "      <td>NaN</td>\n",
              "      <td>0</td>\n",
              "    </tr>\n",
              "    <tr>\n",
              "      <th>1</th>\n",
              "      <td>3.0</td>\n",
              "      <td>4.0</td>\n",
              "      <td>NaN</td>\n",
              "      <td>1</td>\n",
              "    </tr>\n",
              "    <tr>\n",
              "      <th>2</th>\n",
              "      <td>3.0</td>\n",
              "      <td>4.0</td>\n",
              "      <td>NaN</td>\n",
              "      <td>5</td>\n",
              "    </tr>\n",
              "    <tr>\n",
              "      <th>3</th>\n",
              "      <td>3.0</td>\n",
              "      <td>3.0</td>\n",
              "      <td>NaN</td>\n",
              "      <td>4</td>\n",
              "    </tr>\n",
              "  </tbody>\n",
              "</table>\n",
              "</div>"
            ],
            "text/plain": [
              "     A    B   C  D\n",
              "0  NaN  2.0 NaN  0\n",
              "1  3.0  4.0 NaN  1\n",
              "2  3.0  4.0 NaN  5\n",
              "3  3.0  3.0 NaN  4"
            ]
          },
          "metadata": {
            "tags": []
          },
          "execution_count": 53
        }
      ]
    },
    {
      "cell_type": "markdown",
      "metadata": {
        "id": "jrQWrgOxAUOY",
        "colab_type": "text"
      },
      "source": [
        "Replace missing values with backward fill (propagate non-null values backward)\n"
      ]
    },
    {
      "cell_type": "code",
      "metadata": {
        "id": "AIjTk_pBAQCI",
        "colab_type": "code",
        "colab": {}
      },
      "source": [
        "import numpy as np\n",
        "df = pd.DataFrame([[np.nan, 2, np.nan, 0],\n",
        "                  [3, 4, np.nan, 1],\n",
        "                  [np.nan, np.nan, np.nan, 5],\n",
        "                  [np.nan, 3, np.nan, 4]],\n",
        "                  columns=list('ABCD'))\n",
        "\n",
        "# use NEXT valid observation to fill gap/NAN\n",
        "df_filled = df.fillna(method='bfill')"
      ],
      "execution_count": 54,
      "outputs": []
    },
    {
      "cell_type": "code",
      "metadata": {
        "id": "K-jy0sQ0AYDt",
        "colab_type": "code",
        "colab": {
          "base_uri": "https://localhost:8080/",
          "height": 173
        },
        "outputId": "6277c717-469d-4fea-b9ac-393fe83adf34"
      },
      "source": [
        "df"
      ],
      "execution_count": 55,
      "outputs": [
        {
          "output_type": "execute_result",
          "data": {
            "text/html": [
              "<div>\n",
              "<style scoped>\n",
              "    .dataframe tbody tr th:only-of-type {\n",
              "        vertical-align: middle;\n",
              "    }\n",
              "\n",
              "    .dataframe tbody tr th {\n",
              "        vertical-align: top;\n",
              "    }\n",
              "\n",
              "    .dataframe thead th {\n",
              "        text-align: right;\n",
              "    }\n",
              "</style>\n",
              "<table border=\"1\" class=\"dataframe\">\n",
              "  <thead>\n",
              "    <tr style=\"text-align: right;\">\n",
              "      <th></th>\n",
              "      <th>A</th>\n",
              "      <th>B</th>\n",
              "      <th>C</th>\n",
              "      <th>D</th>\n",
              "    </tr>\n",
              "  </thead>\n",
              "  <tbody>\n",
              "    <tr>\n",
              "      <th>0</th>\n",
              "      <td>NaN</td>\n",
              "      <td>2.0</td>\n",
              "      <td>NaN</td>\n",
              "      <td>0</td>\n",
              "    </tr>\n",
              "    <tr>\n",
              "      <th>1</th>\n",
              "      <td>3.0</td>\n",
              "      <td>4.0</td>\n",
              "      <td>NaN</td>\n",
              "      <td>1</td>\n",
              "    </tr>\n",
              "    <tr>\n",
              "      <th>2</th>\n",
              "      <td>NaN</td>\n",
              "      <td>NaN</td>\n",
              "      <td>NaN</td>\n",
              "      <td>5</td>\n",
              "    </tr>\n",
              "    <tr>\n",
              "      <th>3</th>\n",
              "      <td>NaN</td>\n",
              "      <td>3.0</td>\n",
              "      <td>NaN</td>\n",
              "      <td>4</td>\n",
              "    </tr>\n",
              "  </tbody>\n",
              "</table>\n",
              "</div>"
            ],
            "text/plain": [
              "     A    B   C  D\n",
              "0  NaN  2.0 NaN  0\n",
              "1  3.0  4.0 NaN  1\n",
              "2  NaN  NaN NaN  5\n",
              "3  NaN  3.0 NaN  4"
            ]
          },
          "metadata": {
            "tags": []
          },
          "execution_count": 55
        }
      ]
    },
    {
      "cell_type": "code",
      "metadata": {
        "id": "v-IHRhW1AYoc",
        "colab_type": "code",
        "colab": {
          "base_uri": "https://localhost:8080/",
          "height": 173
        },
        "outputId": "c27cd896-9b36-42dd-ca4f-0fcf126392d0"
      },
      "source": [
        "df_filled"
      ],
      "execution_count": 56,
      "outputs": [
        {
          "output_type": "execute_result",
          "data": {
            "text/html": [
              "<div>\n",
              "<style scoped>\n",
              "    .dataframe tbody tr th:only-of-type {\n",
              "        vertical-align: middle;\n",
              "    }\n",
              "\n",
              "    .dataframe tbody tr th {\n",
              "        vertical-align: top;\n",
              "    }\n",
              "\n",
              "    .dataframe thead th {\n",
              "        text-align: right;\n",
              "    }\n",
              "</style>\n",
              "<table border=\"1\" class=\"dataframe\">\n",
              "  <thead>\n",
              "    <tr style=\"text-align: right;\">\n",
              "      <th></th>\n",
              "      <th>A</th>\n",
              "      <th>B</th>\n",
              "      <th>C</th>\n",
              "      <th>D</th>\n",
              "    </tr>\n",
              "  </thead>\n",
              "  <tbody>\n",
              "    <tr>\n",
              "      <th>0</th>\n",
              "      <td>3.0</td>\n",
              "      <td>2.0</td>\n",
              "      <td>NaN</td>\n",
              "      <td>0</td>\n",
              "    </tr>\n",
              "    <tr>\n",
              "      <th>1</th>\n",
              "      <td>3.0</td>\n",
              "      <td>4.0</td>\n",
              "      <td>NaN</td>\n",
              "      <td>1</td>\n",
              "    </tr>\n",
              "    <tr>\n",
              "      <th>2</th>\n",
              "      <td>NaN</td>\n",
              "      <td>3.0</td>\n",
              "      <td>NaN</td>\n",
              "      <td>5</td>\n",
              "    </tr>\n",
              "    <tr>\n",
              "      <th>3</th>\n",
              "      <td>NaN</td>\n",
              "      <td>3.0</td>\n",
              "      <td>NaN</td>\n",
              "      <td>4</td>\n",
              "    </tr>\n",
              "  </tbody>\n",
              "</table>\n",
              "</div>"
            ],
            "text/plain": [
              "     A    B   C  D\n",
              "0  3.0  2.0 NaN  0\n",
              "1  3.0  4.0 NaN  1\n",
              "2  NaN  3.0 NaN  5\n",
              "3  NaN  3.0 NaN  4"
            ]
          },
          "metadata": {
            "tags": []
          },
          "execution_count": 56
        }
      ]
    },
    {
      "cell_type": "markdown",
      "metadata": {
        "id": "upkARfciAd2V",
        "colab_type": "text"
      },
      "source": [
        "Replace all instances of a value in a column\n"
      ]
    },
    {
      "cell_type": "code",
      "metadata": {
        "id": "o9m4DL2eAaMa",
        "colab_type": "code",
        "colab": {}
      },
      "source": [
        "df.column_y = df.column_y.replace('old_string', 'new_string')"
      ],
      "execution_count": null,
      "outputs": []
    },
    {
      "cell_type": "markdown",
      "metadata": {
        "id": "x4CsINRFAjfK",
        "colab_type": "text"
      },
      "source": [
        "Count missing values in data\n"
      ]
    },
    {
      "cell_type": "code",
      "metadata": {
        "id": "EQ6V88s7_3ik",
        "colab_type": "code",
        "colab": {}
      },
      "source": [
        "df.isnull().sum().sum()"
      ],
      "execution_count": 50,
      "outputs": []
    },
    {
      "cell_type": "markdown",
      "metadata": {
        "id": "2Ri_duXbArPx",
        "colab_type": "text"
      },
      "source": [
        "Count missing values on each column / return Series\n"
      ]
    },
    {
      "cell_type": "code",
      "metadata": {
        "id": "uX4Na9tZ_3no",
        "colab_type": "code",
        "colab": {}
      },
      "source": [
        "df.isnull().sum()\n"
      ],
      "execution_count": 50,
      "outputs": []
    },
    {
      "cell_type": "markdown",
      "metadata": {
        "id": "2cNoOw9UFO88",
        "colab_type": "text"
      },
      "source": [
        "Count missing values on specific column\n"
      ]
    },
    {
      "cell_type": "code",
      "metadata": {
        "id": "c4RmnrQ5_3rK",
        "colab_type": "code",
        "colab": {}
      },
      "source": [
        "df.column_x.isnull().sum()"
      ],
      "execution_count": 50,
      "outputs": []
    },
    {
      "cell_type": "markdown",
      "metadata": {
        "id": "hjrvSKnjFTeG",
        "colab_type": "text"
      },
      "source": [
        "Percentage of missing values in data\n"
      ]
    },
    {
      "cell_type": "code",
      "metadata": {
        "id": "HKhER2Yv_3vY",
        "colab_type": "code",
        "colab": {}
      },
      "source": [
        "# count of missing diveded by total data cells\n",
        "(df.isnull().sum().sum()) / (df.shape[0] * df.shape[1]) * 100\n"
      ],
      "execution_count": 50,
      "outputs": []
    },
    {
      "cell_type": "markdown",
      "metadata": {
        "id": "zQXPcwBBFXjS",
        "colab_type": "text"
      },
      "source": [
        "Show rows with missing values on column\n"
      ]
    },
    {
      "cell_type": "code",
      "metadata": {
        "id": "hVHlW_pu_317",
        "colab_type": "code",
        "colab": {}
      },
      "source": [
        "df[df.column_x.isnull()]\n",
        "# or\n",
        "df[pd.isnull(df.column_x)]\n"
      ],
      "execution_count": 50,
      "outputs": []
    },
    {
      "cell_type": "markdown",
      "metadata": {
        "id": "U-2erJ8fFejC",
        "colab_type": "text"
      },
      "source": [
        "Show rows with no missing values on column\n"
      ]
    },
    {
      "cell_type": "code",
      "metadata": {
        "id": "DOXz5AkE_35-",
        "colab_type": "code",
        "colab": {}
      },
      "source": [
        "df[df.column_x.notnull()]"
      ],
      "execution_count": 50,
      "outputs": []
    },
    {
      "cell_type": "markdown",
      "metadata": {
        "id": "e8u0bJY8Fjyg",
        "colab_type": "text"
      },
      "source": [
        "Convert all NaNs to None\n"
      ]
    },
    {
      "cell_type": "code",
      "metadata": {
        "id": "q47O-2RY_4DH",
        "colab_type": "code",
        "colab": {}
      },
      "source": [
        "df = df.where(pd.notnull(df), None)"
      ],
      "execution_count": 50,
      "outputs": []
    },
    {
      "cell_type": "markdown",
      "metadata": {
        "id": "F3FohnBPFqZh",
        "colab_type": "text"
      },
      "source": [
        "Convert column to numeric (will error if column has non-numeric values)\n"
      ]
    },
    {
      "cell_type": "code",
      "metadata": {
        "id": "7vS4T__X_4JF",
        "colab_type": "code",
        "colab": {}
      },
      "source": [
        "df.column_x = pd.to_numeric(df.column_x)\n",
        "# to avoid error and convert non-numeric to NaN\n",
        "pd.to_numeric(df.column_x, errors='coerce')"
      ],
      "execution_count": 56,
      "outputs": []
    },
    {
      "cell_type": "markdown",
      "metadata": {
        "id": "4LaGSLMZFxEM",
        "colab_type": "text"
      },
      "source": [
        "Change data type of DataFrame column\n"
      ]
    },
    {
      "cell_type": "code",
      "metadata": {
        "id": "dzwuWGbfFpay",
        "colab_type": "code",
        "colab": {}
      },
      "source": [
        "df.column_x = df.column_x.astype('int64')\n",
        "#to ignore errors\n",
        "df.column_x = df.column_x.astype('int64', errors='ignore')\n",
        "# pandas dtypes: float64 (float), int64 (integer), datetime64 (datetime), object (string)\n"
      ],
      "execution_count": 56,
      "outputs": []
    },
    {
      "cell_type": "markdown",
      "metadata": {
        "id": "fNVyYOq3F1s6",
        "colab_type": "text"
      },
      "source": [
        "Convert column to datetime (will error if column has datetime values)\n"
      ]
    },
    {
      "cell_type": "code",
      "metadata": {
        "id": "CETTWNuaFpfb",
        "colab_type": "code",
        "colab": {}
      },
      "source": [
        "df.column_x = pd.to_datetime(df.column_x)\n",
        "# to avoid error and convert non-datetime to NaT\n",
        "df.column_x = pd.to_datetime(df.column_x, errors='coerce')\n",
        "# specify format of input data\n",
        "# format can be any code of strftime directive: http://strftime.org/\n",
        "df.column_x = pd.to_datetime(df.column_x, errors='coerce', format='%Y%m%d')\n"
      ],
      "execution_count": 56,
      "outputs": []
    },
    {
      "cell_type": "markdown",
      "metadata": {
        "id": "H9QU_FNdF55W",
        "colab_type": "text"
      },
      "source": [
        "Split delimited values in a DataFrame column into two new columns\n"
      ]
    },
    {
      "cell_type": "code",
      "metadata": {
        "id": "qJ7C6bNoFpmP",
        "colab_type": "code",
        "colab": {}
      },
      "source": [
        "# `col` column may look like `string1:string2`\n",
        "df['new_c1'], df['new_c2'] = zip(*df['col'].apply(lambda x: x.split(':', 2)))\n"
      ],
      "execution_count": 56,
      "outputs": []
    },
    {
      "cell_type": "markdown",
      "metadata": {
        "id": "a_7mA9bgGckZ",
        "colab_type": "text"
      },
      "source": [
        "Basic descriptive statistics for numeric columns\n"
      ]
    },
    {
      "cell_type": "code",
      "metadata": {
        "id": "dwjovC0_FpuL",
        "colab_type": "code",
        "colab": {}
      },
      "source": [
        "# count, mean, std, min, max, percentiles\n",
        "df.describe()\n"
      ],
      "execution_count": 56,
      "outputs": []
    },
    {
      "cell_type": "markdown",
      "metadata": {
        "id": "PEpD2zlzGjI7",
        "colab_type": "text"
      },
      "source": [
        "Basic descriptive statistics for “object” columns (e.g. strings or timestamps)\n"
      ]
    },
    {
      "cell_type": "code",
      "metadata": {
        "id": "Ae7v6HvzGaRs",
        "colab_type": "code",
        "colab": {}
      },
      "source": [
        "# count, unique, top, and freq\n",
        "df.describe(include = ['object'])\n"
      ],
      "execution_count": 56,
      "outputs": []
    },
    {
      "cell_type": "markdown",
      "metadata": {
        "id": "4RSGiAQrGoFe",
        "colab_type": "text"
      },
      "source": [
        "Basic descriptive statistics for all columns\n"
      ]
    },
    {
      "cell_type": "code",
      "metadata": {
        "id": "maS__7g_GaV6",
        "colab_type": "code",
        "colab": {}
      },
      "source": [
        "df.describe(include = 'all')"
      ],
      "execution_count": 56,
      "outputs": []
    },
    {
      "cell_type": "markdown",
      "metadata": {
        "id": "WAMpdVMPGtU6",
        "colab_type": "text"
      },
      "source": [
        "Basic descriptive statistics for only one column\n"
      ]
    },
    {
      "cell_type": "code",
      "metadata": {
        "id": "WHMO_m2DGaY2",
        "colab_type": "code",
        "colab": {}
      },
      "source": [
        "df.column_x.describe()\n",
        "# or if column name has spaces\n",
        "df['column x'].describe()\n"
      ],
      "execution_count": 56,
      "outputs": []
    },
    {
      "cell_type": "markdown",
      "metadata": {
        "id": "ckTvEmNeGyqp",
        "colab_type": "text"
      },
      "source": [
        "Count the number of occurrences of each value (excludes missing values)\n"
      ]
    },
    {
      "cell_type": "code",
      "metadata": {
        "id": "_kIVWFROGafR",
        "colab_type": "code",
        "colab": {}
      },
      "source": [
        "df.column_x.value_counts()"
      ],
      "execution_count": 56,
      "outputs": []
    },
    {
      "cell_type": "markdown",
      "metadata": {
        "id": "_NVB8r9dG4uB",
        "colab_type": "text"
      },
      "source": [
        "Count the number of occurrences of each value (includes missing values)\n"
      ]
    },
    {
      "cell_type": "code",
      "metadata": {
        "id": "SXADL0XcGakj",
        "colab_type": "code",
        "colab": {}
      },
      "source": [
        "df.column_x.value_counts(dropna = False)\n"
      ],
      "execution_count": 56,
      "outputs": []
    },
    {
      "cell_type": "markdown",
      "metadata": {
        "id": "WQ6P7xW5G-hO",
        "colab_type": "text"
      },
      "source": [
        "Show the 3 most frequent occurances of column_x\n"
      ]
    },
    {
      "cell_type": "code",
      "metadata": {
        "id": "hzdn_AjqGan7",
        "colab_type": "code",
        "colab": {}
      },
      "source": [
        "df.column_x.value_counts()[0:3]\n"
      ],
      "execution_count": 56,
      "outputs": []
    },
    {
      "cell_type": "markdown",
      "metadata": {
        "id": "nVmCtYsRHCAQ",
        "colab_type": "text"
      },
      "source": [
        "Count number of rows in a DataFrame\n"
      ]
    },
    {
      "cell_type": "code",
      "metadata": {
        "id": "ulWlqVFvGarH",
        "colab_type": "code",
        "colab": {}
      },
      "source": [
        "# quicker\n",
        "len(df.index)\n",
        "# or\n",
        "len(df)\n",
        "# or\n",
        "df.shape[0]"
      ],
      "execution_count": 56,
      "outputs": []
    },
    {
      "cell_type": "markdown",
      "metadata": {
        "id": "ZEWMcgYpHKTL",
        "colab_type": "text"
      },
      "source": [
        "Count number of distinct values in a column\n"
      ]
    },
    {
      "cell_type": "code",
      "metadata": {
        "id": "iRowmnO3Gatv",
        "colab_type": "code",
        "colab": {}
      },
      "source": [
        "df.column_x.nunique()"
      ],
      "execution_count": 56,
      "outputs": []
    },
    {
      "cell_type": "markdown",
      "metadata": {
        "id": "mMHGOigWHPYb",
        "colab_type": "text"
      },
      "source": [
        "Get distinct values in a column\n"
      ]
    },
    {
      "cell_type": "code",
      "metadata": {
        "id": "b2eDW3IGGaw3",
        "colab_type": "code",
        "colab": {}
      },
      "source": [
        "df.column_x.unique()\n"
      ],
      "execution_count": 56,
      "outputs": []
    },
    {
      "cell_type": "markdown",
      "metadata": {
        "id": "cd12zc1sHTFC",
        "colab_type": "text"
      },
      "source": [
        "Randomly select 30% of rows without replacement\n"
      ]
    },
    {
      "cell_type": "code",
      "metadata": {
        "id": "E-fP_O4wGa3P",
        "colab_type": "code",
        "colab": {}
      },
      "source": [
        "df.sample(frac=0.3)"
      ],
      "execution_count": 56,
      "outputs": []
    },
    {
      "cell_type": "markdown",
      "metadata": {
        "id": "bBC0iK24HYMf",
        "colab_type": "text"
      },
      "source": [
        "Randomly select 30% of rows with replacement\n"
      ]
    },
    {
      "cell_type": "code",
      "metadata": {
        "id": "S4yqJGIWGa7n",
        "colab_type": "code",
        "colab": {}
      },
      "source": [
        "df.sample(frac=0.3, replace=True)"
      ],
      "execution_count": 56,
      "outputs": []
    },
    {
      "cell_type": "markdown",
      "metadata": {
        "id": "n-LJrAEAHc4l",
        "colab_type": "text"
      },
      "source": [
        "Randomly select 10 rows\n"
      ]
    },
    {
      "cell_type": "code",
      "metadata": {
        "id": "Zq59QHpLGbAm",
        "colab_type": "code",
        "colab": {}
      },
      "source": [
        "df.sample(n=10)\n"
      ],
      "execution_count": 56,
      "outputs": []
    },
    {
      "cell_type": "markdown",
      "metadata": {
        "id": "UzeElgYFHilE",
        "colab_type": "text"
      },
      "source": [
        "Randomly split a DataFrame into train/test\n"
      ]
    },
    {
      "cell_type": "code",
      "metadata": {
        "id": "W5HSdIcrGbEk",
        "colab_type": "code",
        "colab": {}
      },
      "source": [
        "# will contain 75% of the rows\n",
        "df_train = df.sample(frac=0.75)\n",
        "# will contain the other 25% of rows\n",
        "df_test = df[~df.index.isin(df_train.index)]\n"
      ],
      "execution_count": 56,
      "outputs": []
    },
    {
      "cell_type": "markdown",
      "metadata": {
        "id": "xLVgMCKiMC-P",
        "colab_type": "text"
      },
      "source": [
        "Get first 7 rows ordered by the given columns in descending order\n"
      ]
    },
    {
      "cell_type": "code",
      "metadata": {
        "id": "1hZx1AUKGbIb",
        "colab_type": "code",
        "colab": {}
      },
      "source": [
        "# better performance\n",
        "df.nlargest(7, ['column_x', 'column_y'])\n",
        "# equivalent with\n",
        "df.sort_values(['column_x', 'column_y'], ascending=False).head(7)"
      ],
      "execution_count": 56,
      "outputs": []
    },
    {
      "cell_type": "markdown",
      "metadata": {
        "id": "-La8OctmMKMu",
        "colab_type": "text"
      },
      "source": [
        "Get first 7 rows ordered by the given columns in ascending order\n"
      ]
    },
    {
      "cell_type": "code",
      "metadata": {
        "id": "GcMt9ZbsGbKu",
        "colab_type": "code",
        "colab": {}
      },
      "source": [
        "# better performance\n",
        "df.nsmallest(7, ['column_x', 'column_y'])\n",
        "# equivalent with\n",
        "df.sort_values(['column_x', 'column_y'], ascending=True).head(7)"
      ],
      "execution_count": 56,
      "outputs": []
    },
    {
      "cell_type": "markdown",
      "metadata": {
        "id": "x4OeYkLQMTOz",
        "colab_type": "text"
      },
      "source": [
        ".loc selection by index/labels and columns\n"
      ]
    },
    {
      "cell_type": "code",
      "metadata": {
        "id": "ygjOhAYqGbO4",
        "colab_type": "code",
        "colab": {}
      },
      "source": [
        "df.loc[<row selection>, <column selection>]"
      ],
      "execution_count": 56,
      "outputs": []
    },
    {
      "cell_type": "markdown",
      "metadata": {
        "id": "kKCz27ZUMaYd",
        "colab_type": "text"
      },
      "source": [
        ".loc select all rows and some columns by index/labels\n"
      ]
    },
    {
      "cell_type": "code",
      "metadata": {
        "id": "RUWZmTReMUwP",
        "colab_type": "code",
        "colab": {}
      },
      "source": [
        "df.loc[:, ['column1', 'column2', 'column3']]"
      ],
      "execution_count": 56,
      "outputs": []
    },
    {
      "cell_type": "markdown",
      "metadata": {
        "id": "LU2bZ1fnMf9t",
        "colab_type": "text"
      },
      "source": [
        ".loc select some rows and all columns by index/labels\n"
      ]
    },
    {
      "cell_type": "code",
      "metadata": {
        "id": "rCycDJ5qMUz7",
        "colab_type": "code",
        "colab": {}
      },
      "source": [
        "df.loc[['row1', 'row2'], :]\n",
        "# or ommiting the colon for columns labels\n",
        "df.loc[['row1', 'row2']]\n"
      ],
      "execution_count": 56,
      "outputs": []
    },
    {
      "cell_type": "markdown",
      "metadata": {
        "id": "DFSoMrvAO9RP",
        "colab_type": "text"
      },
      "source": [
        ".loc select some rows and some columns by index/labels\n"
      ]
    },
    {
      "cell_type": "code",
      "metadata": {
        "id": "919igwxKMU5x",
        "colab_type": "code",
        "colab": {}
      },
      "source": [
        "df.loc[['row1', 'row2'], ['column1', 'column2', 'column3']]\n"
      ],
      "execution_count": 56,
      "outputs": []
    },
    {
      "cell_type": "markdown",
      "metadata": {
        "id": "h87QZ0pcPCDm",
        "colab_type": "text"
      },
      "source": [
        "Select rows whose column values equal some value/scalar\n"
      ]
    },
    {
      "cell_type": "code",
      "metadata": {
        "id": "-NuyUTbtMU95",
        "colab_type": "code",
        "colab": {}
      },
      "source": [
        "df.loc[df['column_x'] == some_value]\n"
      ],
      "execution_count": 56,
      "outputs": []
    },
    {
      "cell_type": "markdown",
      "metadata": {
        "id": "lNrKyHHPPIU2",
        "colab_type": "text"
      },
      "source": [
        "Select rows whose column values do not equal some_value/scalar\n"
      ]
    },
    {
      "cell_type": "code",
      "metadata": {
        "id": "ndHXH8L6MVBx",
        "colab_type": "code",
        "colab": {}
      },
      "source": [
        "df.loc[df['column_x'] != some_value]"
      ],
      "execution_count": 56,
      "outputs": []
    },
    {
      "cell_type": "markdown",
      "metadata": {
        "id": "rCoCsOfgPPgu",
        "colab_type": "text"
      },
      "source": [
        "Select rows whose column values are in a list\n"
      ]
    },
    {
      "cell_type": "code",
      "metadata": {
        "id": "6Lc0g9WaMVHy",
        "colab_type": "code",
        "colab": {}
      },
      "source": [
        "df.loc[df['column_x'].isin(['A', 'B', 'C'])]\n"
      ],
      "execution_count": 56,
      "outputs": []
    },
    {
      "cell_type": "markdown",
      "metadata": {
        "id": "NLeycEdMPSBy",
        "colab_type": "text"
      },
      "source": [
        "Select rows whose column values are not in a list\n"
      ]
    },
    {
      "cell_type": "code",
      "metadata": {
        "id": "T8In8qyTMVL7",
        "colab_type": "code",
        "colab": {}
      },
      "source": [
        "df.loc[~df['column_x'].isin(['A', 'B', 'C'])]"
      ],
      "execution_count": 56,
      "outputs": []
    },
    {
      "cell_type": "markdown",
      "metadata": {
        "id": "md0qiU3HPY7o",
        "colab_type": "text"
      },
      "source": [
        "Select rows that satisfy multiple and (&) boolean conditions\n"
      ]
    },
    {
      "cell_type": "code",
      "metadata": {
        "id": "y-m6881NMVP4",
        "colab_type": "code",
        "colab": {}
      },
      "source": [
        "# note the parentheses due to python operators precedence!\n",
        "df.loc[(df['column_x'] >= A) & (df['column_y'] <= B)]"
      ],
      "execution_count": 56,
      "outputs": []
    },
    {
      "cell_type": "markdown",
      "metadata": {
        "id": "I-79FsNiPeUW",
        "colab_type": "text"
      },
      "source": [
        "Select rows that satisfy multiple or (|) boolean conditions\n"
      ]
    },
    {
      "cell_type": "code",
      "metadata": {
        "id": "2aXdkC9fMVUk",
        "colab_type": "code",
        "colab": {}
      },
      "source": [
        "# note the parentheses due to python operators precedence!\n",
        "df.loc[(df['column_x'] >= A) | (df['column_y'] <= B)]"
      ],
      "execution_count": null,
      "outputs": []
    },
    {
      "cell_type": "markdown",
      "metadata": {
        "id": "n682ZJ-tPisB",
        "colab_type": "text"
      },
      "source": [
        "Update column values based on rows condition\n"
      ]
    },
    {
      "cell_type": "code",
      "metadata": {
        "id": "SuuOcAo4GbTC",
        "colab_type": "code",
        "colab": {}
      },
      "source": [
        "df.loc[df['column_x'] >= A, 'column_y'] = new_value"
      ],
      "execution_count": 56,
      "outputs": []
    },
    {
      "cell_type": "markdown",
      "metadata": {
        "id": "m_PFsUbcPpLW",
        "colab_type": "text"
      },
      "source": [
        "Update multiple columns values based on rows condition\n"
      ]
    },
    {
      "cell_type": "code",
      "metadata": {
        "id": "CnTrgUvjGbVQ",
        "colab_type": "code",
        "colab": {}
      },
      "source": [
        "df.loc[df['column_x'] >= A, ['column_y', 'column_z']] = [new_value_y, new_value_z]\n"
      ],
      "execution_count": 56,
      "outputs": []
    },
    {
      "cell_type": "markdown",
      "metadata": {
        "id": "amGRg_bFPttm",
        "colab_type": "text"
      },
      "source": [
        ".loc selection for single label, all columns / returns a Series\n"
      ]
    },
    {
      "cell_type": "code",
      "metadata": {
        "id": "liQSUdQrGbae",
        "colab_type": "code",
        "colab": {
          "base_uri": "https://localhost:8080/",
          "height": 68
        },
        "outputId": "60bbf099-b6fb-440b-89f6-46453fb185b4"
      },
      "source": [
        "df.loc['a']"
      ],
      "execution_count": 80,
      "outputs": [
        {
          "output_type": "execute_result",
          "data": {
            "text/plain": [
              "Name    Alex\n",
              "Age       10\n",
              "Name: a, dtype: object"
            ]
          },
          "metadata": {
            "tags": []
          },
          "execution_count": 80
        }
      ]
    },
    {
      "cell_type": "markdown",
      "metadata": {
        "id": "phinNMelP-i3",
        "colab_type": "text"
      },
      "source": [
        ".loc selection for list of label, all columns / returns a DataFrame\n"
      ]
    },
    {
      "cell_type": "code",
      "metadata": {
        "id": "0g0U9tlgP3P9",
        "colab_type": "code",
        "colab": {
          "base_uri": "https://localhost:8080/",
          "height": 142
        },
        "outputId": "bb5ec6ea-6a3a-480b-ecda-6e24ace2089f"
      },
      "source": [
        "df"
      ],
      "execution_count": 78,
      "outputs": [
        {
          "output_type": "execute_result",
          "data": {
            "text/html": [
              "<div>\n",
              "<style scoped>\n",
              "    .dataframe tbody tr th:only-of-type {\n",
              "        vertical-align: middle;\n",
              "    }\n",
              "\n",
              "    .dataframe tbody tr th {\n",
              "        vertical-align: top;\n",
              "    }\n",
              "\n",
              "    .dataframe thead th {\n",
              "        text-align: right;\n",
              "    }\n",
              "</style>\n",
              "<table border=\"1\" class=\"dataframe\">\n",
              "  <thead>\n",
              "    <tr style=\"text-align: right;\">\n",
              "      <th></th>\n",
              "      <th>Name</th>\n",
              "      <th>Age</th>\n",
              "    </tr>\n",
              "  </thead>\n",
              "  <tbody>\n",
              "    <tr>\n",
              "      <th>a</th>\n",
              "      <td>Alex</td>\n",
              "      <td>10</td>\n",
              "    </tr>\n",
              "    <tr>\n",
              "      <th>b</th>\n",
              "      <td>Bob</td>\n",
              "      <td>12</td>\n",
              "    </tr>\n",
              "    <tr>\n",
              "      <th>c</th>\n",
              "      <td>Clarke</td>\n",
              "      <td>13</td>\n",
              "    </tr>\n",
              "  </tbody>\n",
              "</table>\n",
              "</div>"
            ],
            "text/plain": [
              "     Name  Age\n",
              "a    Alex   10\n",
              "b     Bob   12\n",
              "c  Clarke   13"
            ]
          },
          "metadata": {
            "tags": []
          },
          "execution_count": 78
        }
      ]
    },
    {
      "cell_type": "code",
      "metadata": {
        "id": "7lQuYmARhT-8",
        "colab_type": "code",
        "colab": {
          "base_uri": "https://localhost:8080/",
          "height": 111
        },
        "outputId": "6e12bd25-8e2c-490c-ff68-ebd8aa004a40"
      },
      "source": [
        "df.loc[['a', 'b']]"
      ],
      "execution_count": 79,
      "outputs": [
        {
          "output_type": "execute_result",
          "data": {
            "text/html": [
              "<div>\n",
              "<style scoped>\n",
              "    .dataframe tbody tr th:only-of-type {\n",
              "        vertical-align: middle;\n",
              "    }\n",
              "\n",
              "    .dataframe tbody tr th {\n",
              "        vertical-align: top;\n",
              "    }\n",
              "\n",
              "    .dataframe thead th {\n",
              "        text-align: right;\n",
              "    }\n",
              "</style>\n",
              "<table border=\"1\" class=\"dataframe\">\n",
              "  <thead>\n",
              "    <tr style=\"text-align: right;\">\n",
              "      <th></th>\n",
              "      <th>Name</th>\n",
              "      <th>Age</th>\n",
              "    </tr>\n",
              "  </thead>\n",
              "  <tbody>\n",
              "    <tr>\n",
              "      <th>a</th>\n",
              "      <td>Alex</td>\n",
              "      <td>10</td>\n",
              "    </tr>\n",
              "    <tr>\n",
              "      <th>b</th>\n",
              "      <td>Bob</td>\n",
              "      <td>12</td>\n",
              "    </tr>\n",
              "  </tbody>\n",
              "</table>\n",
              "</div>"
            ],
            "text/plain": [
              "   Name  Age\n",
              "a  Alex   10\n",
              "b   Bob   12"
            ]
          },
          "metadata": {
            "tags": []
          },
          "execution_count": 79
        }
      ]
    },
    {
      "cell_type": "code",
      "metadata": {
        "id": "GDztZxa3hU6h",
        "colab_type": "code",
        "colab": {}
      },
      "source": [
        ""
      ],
      "execution_count": null,
      "outputs": []
    },
    {
      "cell_type": "markdown",
      "metadata": {
        "id": "Ybh4nAFpQIFK",
        "colab_type": "text"
      },
      "source": [
        "https://www.allthesnippets.com/browse/pandas/df_selection.html"
      ]
    },
    {
      "cell_type": "markdown",
      "metadata": {
        "id": "xvu6zFzyQJon",
        "colab_type": "text"
      },
      "source": [
        ".loc selection for all label, single column / returns a Series\n"
      ]
    },
    {
      "cell_type": "code",
      "metadata": {
        "id": "UmT8xKlPPugk",
        "colab_type": "code",
        "colab": {
          "base_uri": "https://localhost:8080/",
          "height": 142
        },
        "outputId": "6da41376-5414-4e60-97be-f6cc3ac85b6f"
      },
      "source": [
        "# giving DataFrame df\n",
        "df"
      ],
      "execution_count": 77,
      "outputs": [
        {
          "output_type": "execute_result",
          "data": {
            "text/html": [
              "<div>\n",
              "<style scoped>\n",
              "    .dataframe tbody tr th:only-of-type {\n",
              "        vertical-align: middle;\n",
              "    }\n",
              "\n",
              "    .dataframe tbody tr th {\n",
              "        vertical-align: top;\n",
              "    }\n",
              "\n",
              "    .dataframe thead th {\n",
              "        text-align: right;\n",
              "    }\n",
              "</style>\n",
              "<table border=\"1\" class=\"dataframe\">\n",
              "  <thead>\n",
              "    <tr style=\"text-align: right;\">\n",
              "      <th></th>\n",
              "      <th>Name</th>\n",
              "      <th>Age</th>\n",
              "    </tr>\n",
              "  </thead>\n",
              "  <tbody>\n",
              "    <tr>\n",
              "      <th>a</th>\n",
              "      <td>Alex</td>\n",
              "      <td>10</td>\n",
              "    </tr>\n",
              "    <tr>\n",
              "      <th>b</th>\n",
              "      <td>Bob</td>\n",
              "      <td>12</td>\n",
              "    </tr>\n",
              "    <tr>\n",
              "      <th>c</th>\n",
              "      <td>Clarke</td>\n",
              "      <td>13</td>\n",
              "    </tr>\n",
              "  </tbody>\n",
              "</table>\n",
              "</div>"
            ],
            "text/plain": [
              "     Name  Age\n",
              "a    Alex   10\n",
              "b     Bob   12\n",
              "c  Clarke   13"
            ]
          },
          "metadata": {
            "tags": []
          },
          "execution_count": 77
        }
      ]
    },
    {
      "cell_type": "code",
      "metadata": {
        "id": "FMLWQAsEgPED",
        "colab_type": "code",
        "colab": {
          "base_uri": "https://localhost:8080/",
          "height": 85
        },
        "outputId": "fabb100a-d02c-49bf-e6b0-a7f6957deb34"
      },
      "source": [
        "df.loc[:, 'Age']"
      ],
      "execution_count": 76,
      "outputs": [
        {
          "output_type": "execute_result",
          "data": {
            "text/plain": [
              "a    10\n",
              "b    12\n",
              "c    13\n",
              "Name: Age, dtype: int64"
            ]
          },
          "metadata": {
            "tags": []
          },
          "execution_count": 76
        }
      ]
    },
    {
      "cell_type": "markdown",
      "metadata": {
        "id": "B5fNw4e3fxPV",
        "colab_type": "text"
      },
      "source": [
        ".loc selection for multiple labels, multiple columns / returns a DataFrame\n"
      ]
    },
    {
      "cell_type": "code",
      "metadata": {
        "id": "mzOQ-TNgPukp",
        "colab_type": "code",
        "colab": {
          "base_uri": "https://localhost:8080/",
          "height": 142
        },
        "outputId": "f8f04f41-0df7-4c52-caec-4f1b3d7fc586"
      },
      "source": [
        "df"
      ],
      "execution_count": 72,
      "outputs": [
        {
          "output_type": "execute_result",
          "data": {
            "text/html": [
              "<div>\n",
              "<style scoped>\n",
              "    .dataframe tbody tr th:only-of-type {\n",
              "        vertical-align: middle;\n",
              "    }\n",
              "\n",
              "    .dataframe tbody tr th {\n",
              "        vertical-align: top;\n",
              "    }\n",
              "\n",
              "    .dataframe thead th {\n",
              "        text-align: right;\n",
              "    }\n",
              "</style>\n",
              "<table border=\"1\" class=\"dataframe\">\n",
              "  <thead>\n",
              "    <tr style=\"text-align: right;\">\n",
              "      <th></th>\n",
              "      <th>name</th>\n",
              "      <th>age</th>\n",
              "    </tr>\n",
              "  </thead>\n",
              "  <tbody>\n",
              "    <tr>\n",
              "      <th>a</th>\n",
              "      <td>Alex</td>\n",
              "      <td>10</td>\n",
              "    </tr>\n",
              "    <tr>\n",
              "      <th>b</th>\n",
              "      <td>Bob</td>\n",
              "      <td>12</td>\n",
              "    </tr>\n",
              "    <tr>\n",
              "      <th>c</th>\n",
              "      <td>Clarke</td>\n",
              "      <td>13</td>\n",
              "    </tr>\n",
              "  </tbody>\n",
              "</table>\n",
              "</div>"
            ],
            "text/plain": [
              "     name  age\n",
              "a    Alex   10\n",
              "b     Bob   12\n",
              "c  Clarke   13"
            ]
          },
          "metadata": {
            "tags": []
          },
          "execution_count": 72
        }
      ]
    },
    {
      "cell_type": "code",
      "metadata": {
        "id": "_V1Mu-MOgotK",
        "colab_type": "code",
        "colab": {}
      },
      "source": [
        "df=df.rename(columns = {'name':'Name','age':'Age'})"
      ],
      "execution_count": 74,
      "outputs": []
    },
    {
      "cell_type": "code",
      "metadata": {
        "id": "ppuLMf-KhCnx",
        "colab_type": "code",
        "colab": {
          "base_uri": "https://localhost:8080/",
          "height": 142
        },
        "outputId": "d5914cad-3f63-42aa-ab60-040b8d3daab9"
      },
      "source": [
        "df"
      ],
      "execution_count": 70,
      "outputs": [
        {
          "output_type": "execute_result",
          "data": {
            "text/html": [
              "<div>\n",
              "<style scoped>\n",
              "    .dataframe tbody tr th:only-of-type {\n",
              "        vertical-align: middle;\n",
              "    }\n",
              "\n",
              "    .dataframe tbody tr th {\n",
              "        vertical-align: top;\n",
              "    }\n",
              "\n",
              "    .dataframe thead th {\n",
              "        text-align: right;\n",
              "    }\n",
              "</style>\n",
              "<table border=\"1\" class=\"dataframe\">\n",
              "  <thead>\n",
              "    <tr style=\"text-align: right;\">\n",
              "      <th></th>\n",
              "      <th>name</th>\n",
              "      <th>age</th>\n",
              "    </tr>\n",
              "  </thead>\n",
              "  <tbody>\n",
              "    <tr>\n",
              "      <th>a</th>\n",
              "      <td>Alex</td>\n",
              "      <td>10</td>\n",
              "    </tr>\n",
              "    <tr>\n",
              "      <th>b</th>\n",
              "      <td>Bob</td>\n",
              "      <td>12</td>\n",
              "    </tr>\n",
              "    <tr>\n",
              "      <th>c</th>\n",
              "      <td>Clarke</td>\n",
              "      <td>13</td>\n",
              "    </tr>\n",
              "  </tbody>\n",
              "</table>\n",
              "</div>"
            ],
            "text/plain": [
              "     name  age\n",
              "a    Alex   10\n",
              "b     Bob   12\n",
              "c  Clarke   13"
            ]
          },
          "metadata": {
            "tags": []
          },
          "execution_count": 70
        }
      ]
    },
    {
      "cell_type": "code",
      "metadata": {
        "id": "9ghElHa3gUrk",
        "colab_type": "code",
        "colab": {
          "base_uri": "https://localhost:8080/",
          "height": 111
        },
        "outputId": "d66dcc70-0893-4a59-b6ad-860b5dfe5274"
      },
      "source": [
        "df.loc[['a', 'c'], ['Age', 'Name']]"
      ],
      "execution_count": 75,
      "outputs": [
        {
          "output_type": "execute_result",
          "data": {
            "text/html": [
              "<div>\n",
              "<style scoped>\n",
              "    .dataframe tbody tr th:only-of-type {\n",
              "        vertical-align: middle;\n",
              "    }\n",
              "\n",
              "    .dataframe tbody tr th {\n",
              "        vertical-align: top;\n",
              "    }\n",
              "\n",
              "    .dataframe thead th {\n",
              "        text-align: right;\n",
              "    }\n",
              "</style>\n",
              "<table border=\"1\" class=\"dataframe\">\n",
              "  <thead>\n",
              "    <tr style=\"text-align: right;\">\n",
              "      <th></th>\n",
              "      <th>Age</th>\n",
              "      <th>Name</th>\n",
              "    </tr>\n",
              "  </thead>\n",
              "  <tbody>\n",
              "    <tr>\n",
              "      <th>a</th>\n",
              "      <td>10</td>\n",
              "      <td>Alex</td>\n",
              "    </tr>\n",
              "    <tr>\n",
              "      <th>c</th>\n",
              "      <td>13</td>\n",
              "      <td>Clarke</td>\n",
              "    </tr>\n",
              "  </tbody>\n",
              "</table>\n",
              "</div>"
            ],
            "text/plain": [
              "   Age    Name\n",
              "a   10    Alex\n",
              "c   13  Clarke"
            ]
          },
          "metadata": {
            "tags": []
          },
          "execution_count": 75
        }
      ]
    },
    {
      "cell_type": "markdown",
      "metadata": {
        "id": "231idFlNf8B6",
        "colab_type": "text"
      },
      "source": [
        ".loc selection for slice of labels for row, all columns / returns a DataFrame\n",
        "\n",
        "\n",
        "---\n",
        "\n"
      ]
    },
    {
      "cell_type": "code",
      "metadata": {
        "id": "VIdEks7sPuoR",
        "colab_type": "code",
        "colab": {
          "base_uri": "https://localhost:8080/",
          "height": 142
        },
        "outputId": "9d5e2b4f-106f-4f05-f596-4e26c1599ce9"
      },
      "source": [
        "df"
      ],
      "execution_count": 84,
      "outputs": [
        {
          "output_type": "execute_result",
          "data": {
            "text/html": [
              "<div>\n",
              "<style scoped>\n",
              "    .dataframe tbody tr th:only-of-type {\n",
              "        vertical-align: middle;\n",
              "    }\n",
              "\n",
              "    .dataframe tbody tr th {\n",
              "        vertical-align: top;\n",
              "    }\n",
              "\n",
              "    .dataframe thead th {\n",
              "        text-align: right;\n",
              "    }\n",
              "</style>\n",
              "<table border=\"1\" class=\"dataframe\">\n",
              "  <thead>\n",
              "    <tr style=\"text-align: right;\">\n",
              "      <th></th>\n",
              "      <th>Name</th>\n",
              "      <th>Age</th>\n",
              "      <th>Occupation</th>\n",
              "    </tr>\n",
              "  </thead>\n",
              "  <tbody>\n",
              "    <tr>\n",
              "      <th>a</th>\n",
              "      <td>Alex</td>\n",
              "      <td>10</td>\n",
              "      <td>Student</td>\n",
              "    </tr>\n",
              "    <tr>\n",
              "      <th>b</th>\n",
              "      <td>Bob</td>\n",
              "      <td>12</td>\n",
              "      <td>Teacher</td>\n",
              "    </tr>\n",
              "    <tr>\n",
              "      <th>c</th>\n",
              "      <td>Clarke</td>\n",
              "      <td>13</td>\n",
              "      <td>Engineer</td>\n",
              "    </tr>\n",
              "  </tbody>\n",
              "</table>\n",
              "</div>"
            ],
            "text/plain": [
              "     Name  Age Occupation\n",
              "a    Alex   10    Student\n",
              "b     Bob   12    Teacher\n",
              "c  Clarke   13   Engineer"
            ]
          },
          "metadata": {
            "tags": []
          },
          "execution_count": 84
        }
      ]
    },
    {
      "cell_type": "code",
      "metadata": {
        "id": "fzC_mnHyh10L",
        "colab_type": "code",
        "colab": {}
      },
      "source": [
        "df['Occupation'] =['Student','Teacher','Engineer']"
      ],
      "execution_count": 83,
      "outputs": []
    },
    {
      "cell_type": "code",
      "metadata": {
        "id": "xjeZxNKbhvZv",
        "colab_type": "code",
        "colab": {
          "base_uri": "https://localhost:8080/",
          "height": 142
        },
        "outputId": "765901f6-eef7-41f6-af87-2d7239f2d156"
      },
      "source": [
        "df.loc[:, 'Age':'Occupation']"
      ],
      "execution_count": 85,
      "outputs": [
        {
          "output_type": "execute_result",
          "data": {
            "text/html": [
              "<div>\n",
              "<style scoped>\n",
              "    .dataframe tbody tr th:only-of-type {\n",
              "        vertical-align: middle;\n",
              "    }\n",
              "\n",
              "    .dataframe tbody tr th {\n",
              "        vertical-align: top;\n",
              "    }\n",
              "\n",
              "    .dataframe thead th {\n",
              "        text-align: right;\n",
              "    }\n",
              "</style>\n",
              "<table border=\"1\" class=\"dataframe\">\n",
              "  <thead>\n",
              "    <tr style=\"text-align: right;\">\n",
              "      <th></th>\n",
              "      <th>Age</th>\n",
              "      <th>Occupation</th>\n",
              "    </tr>\n",
              "  </thead>\n",
              "  <tbody>\n",
              "    <tr>\n",
              "      <th>a</th>\n",
              "      <td>10</td>\n",
              "      <td>Student</td>\n",
              "    </tr>\n",
              "    <tr>\n",
              "      <th>b</th>\n",
              "      <td>12</td>\n",
              "      <td>Teacher</td>\n",
              "    </tr>\n",
              "    <tr>\n",
              "      <th>c</th>\n",
              "      <td>13</td>\n",
              "      <td>Engineer</td>\n",
              "    </tr>\n",
              "  </tbody>\n",
              "</table>\n",
              "</div>"
            ],
            "text/plain": [
              "   Age Occupation\n",
              "a   10    Student\n",
              "b   12    Teacher\n",
              "c   13   Engineer"
            ]
          },
          "metadata": {
            "tags": []
          },
          "execution_count": 85
        }
      ]
    },
    {
      "cell_type": "markdown",
      "metadata": {
        "id": "L2FTKTrKiQAr",
        "colab_type": "text"
      },
      "source": [
        ".loc selection for rows and columns with boolean conditions"
      ]
    },
    {
      "cell_type": "code",
      "metadata": {
        "id": "FwwfBSjJPusf",
        "colab_type": "code",
        "colab": {}
      },
      "source": [
        "# length of boolean arrays must match dataframe size\n",
        "# select rows 1 and 3 and first column\n",
        "df.loc[[True, False, True], [True]]"
      ],
      "execution_count": 56,
      "outputs": []
    },
    {
      "cell_type": "code",
      "metadata": {
        "id": "eAx8wHRsPuv4",
        "colab_type": "code",
        "colab": {
          "base_uri": "https://localhost:8080/",
          "height": 142
        },
        "outputId": "2ed9711e-416b-47ab-9831-91e860b7b89d"
      },
      "source": [
        "df"
      ],
      "execution_count": 86,
      "outputs": [
        {
          "output_type": "execute_result",
          "data": {
            "text/html": [
              "<div>\n",
              "<style scoped>\n",
              "    .dataframe tbody tr th:only-of-type {\n",
              "        vertical-align: middle;\n",
              "    }\n",
              "\n",
              "    .dataframe tbody tr th {\n",
              "        vertical-align: top;\n",
              "    }\n",
              "\n",
              "    .dataframe thead th {\n",
              "        text-align: right;\n",
              "    }\n",
              "</style>\n",
              "<table border=\"1\" class=\"dataframe\">\n",
              "  <thead>\n",
              "    <tr style=\"text-align: right;\">\n",
              "      <th></th>\n",
              "      <th>Name</th>\n",
              "      <th>Age</th>\n",
              "      <th>Occupation</th>\n",
              "    </tr>\n",
              "  </thead>\n",
              "  <tbody>\n",
              "    <tr>\n",
              "      <th>a</th>\n",
              "      <td>Alex</td>\n",
              "      <td>10</td>\n",
              "      <td>Student</td>\n",
              "    </tr>\n",
              "    <tr>\n",
              "      <th>b</th>\n",
              "      <td>Bob</td>\n",
              "      <td>12</td>\n",
              "      <td>Teacher</td>\n",
              "    </tr>\n",
              "    <tr>\n",
              "      <th>c</th>\n",
              "      <td>Clarke</td>\n",
              "      <td>13</td>\n",
              "      <td>Engineer</td>\n",
              "    </tr>\n",
              "  </tbody>\n",
              "</table>\n",
              "</div>"
            ],
            "text/plain": [
              "     Name  Age Occupation\n",
              "a    Alex   10    Student\n",
              "b     Bob   12    Teacher\n",
              "c  Clarke   13   Engineer"
            ]
          },
          "metadata": {
            "tags": []
          },
          "execution_count": 86
        }
      ]
    },
    {
      "cell_type": "markdown",
      "metadata": {
        "id": "qLwXNSWEidTZ",
        "colab_type": "text"
      },
      "source": [
        "Select rows 1 and 3, and second column with boolean conditions\n"
      ]
    },
    {
      "cell_type": "code",
      "metadata": {
        "id": "FTg2JiqkiWUi",
        "colab_type": "code",
        "colab": {}
      },
      "source": [
        "df.loc[[True, False, True], [False, True]]"
      ],
      "execution_count": null,
      "outputs": []
    },
    {
      "cell_type": "markdown",
      "metadata": {
        "id": "DMgfZuP0iiah",
        "colab_type": "text"
      },
      "source": [
        "Select rows whose column values equals a scalar\n"
      ]
    },
    {
      "cell_type": "code",
      "metadata": {
        "id": "ILkyh79qiZKo",
        "colab_type": "code",
        "colab": {}
      },
      "source": [
        "df\n",
        "     Name  Age Occupation\n",
        "a    Alex   10   Student\n",
        "b     Bob   12   Teacher\n",
        "c  Clarke   13  Engineer\n",
        "\n",
        "df.loc[df['Name'] == 'Alex']\n"
      ],
      "execution_count": null,
      "outputs": []
    },
    {
      "cell_type": "markdown",
      "metadata": {
        "id": "2zbrtnWiKrsr",
        "colab_type": "text"
      },
      "source": [
        "Select rows that satisfy multiple boolean conditions; keep selected columns\n"
      ]
    },
    {
      "cell_type": "code",
      "metadata": {
        "id": "tR1g0ZSpPu0S",
        "colab_type": "code",
        "colab": {}
      },
      "source": [
        ">>> df\n",
        "     Name  Age Occupation\n",
        "a    Alex   10   Student\n",
        "b     Bob   12   Teacher\n",
        "c  Clarke   13  Engineer\n",
        "\n",
        "df.loc[(df['Name'] == 'Alex') | (df['Age'] == 12), ['Name', 'Occupation']]\n"
      ],
      "execution_count": 56,
      "outputs": []
    },
    {
      "cell_type": "markdown",
      "metadata": {
        "id": "JMb8Y-_FMyD6",
        "colab_type": "text"
      },
      "source": [
        "Update column values based on rows condition\n"
      ]
    },
    {
      "cell_type": "code",
      "metadata": {
        "id": "5bm3dtmNPu34",
        "colab_type": "code",
        "colab": {}
      },
      "source": [
        "# giving DataFrame df\n",
        ">>> df\n",
        "     Name  Age Occupation\n",
        "a    Alex   10   Student\n",
        "b     Bob   12   Teacher\n",
        "c  Clarke   13  Engineer\n",
        "\n",
        "# update Alex Occupation to Grad Student\n",
        "df.loc[(df['Name'] == 'Alex'), ['Occupation']] = 'Grad Student'\n"
      ],
      "execution_count": 56,
      "outputs": []
    },
    {
      "cell_type": "markdown",
      "metadata": {
        "id": "Y1X7UoebM5z8",
        "colab_type": "text"
      },
      "source": [
        "Update multiple columns values based on rows condition\n"
      ]
    },
    {
      "cell_type": "code",
      "metadata": {
        "id": "C28Xcl8kPu7c",
        "colab_type": "code",
        "colab": {}
      },
      "source": [
        ">>> df\n",
        "     Name  Age Occupation\n",
        "a    Alex   10   Student\n",
        "b     Bob   12   Teacher\n",
        "c  Clarke   13  Engineer\n",
        "\n",
        "# update Alex Age and Occupation to 20 years and Grad Student\n",
        "df.loc[(df['Name'] == 'Alex'), ['Age', 'Occupation']] = [20, 'Grad Student']\n"
      ],
      "execution_count": 56,
      "outputs": []
    },
    {
      "cell_type": "markdown",
      "metadata": {
        "id": "prc6edxFNB39",
        "colab_type": "text"
      },
      "source": [
        ".iloc position based selection (from 0 to length-1 of the axis)\n"
      ]
    },
    {
      "cell_type": "code",
      "metadata": {
        "id": "UHF_e-8JPu_P",
        "colab_type": "code",
        "colab": {}
      },
      "source": [
        "df.iloc[<row selection>, <column selection>]\n"
      ],
      "execution_count": 56,
      "outputs": []
    },
    {
      "cell_type": "markdown",
      "metadata": {
        "id": "k2BFJ1JLNH6d",
        "colab_type": "text"
      },
      "source": [
        ".iloc single row selections, all columns\n"
      ]
    },
    {
      "cell_type": "code",
      "metadata": {
        "id": "ScQEv_w1PvDG",
        "colab_type": "code",
        "colab": {}
      },
      "source": [
        "# return Series object\n",
        "df.iloc[0]  # first row of dataframe\n",
        "df.iloc[1]  # second row of dataframe\n",
        "df.iloc[-1] # last row of data frame\n"
      ],
      "execution_count": 56,
      "outputs": []
    },
    {
      "cell_type": "markdown",
      "metadata": {
        "id": "bItYQFrmNNeX",
        "colab_type": "text"
      },
      "source": [
        ".iloc single column selections, all rows\n"
      ]
    },
    {
      "cell_type": "code",
      "metadata": {
        "id": "G3mLz6EGPvGq",
        "colab_type": "code",
        "colab": {}
      },
      "source": [
        "# return Series object\n",
        "df.iloc[:, 0]  # first column of dataframe\n",
        "df.iloc[:, 1]  # second column of dataframe\n",
        "df.iloc[:, -1] # last column of data frame\n"
      ],
      "execution_count": 56,
      "outputs": []
    },
    {
      "cell_type": "markdown",
      "metadata": {
        "id": "zifz4giNNVBx",
        "colab_type": "text"
      },
      "source": [
        ".iloc multiple row and column selections\n"
      ]
    },
    {
      "cell_type": "code",
      "metadata": {
        "id": "jZ50gt02PvKW",
        "colab_type": "code",
        "colab": {}
      },
      "source": [
        "# return DataFrame object\n",
        "df.iloc[0:3]             # first three rows of dataframe, all columns\n",
        "df.iloc[:, 0:3]          # first three columns of dataframe, all rows\n",
        "df.iloc[0:5, 4:7]        # first five rows, column 4th, 5th and 6th of dataframe\n",
        "df.iloc [[3, 4], [1, 2]] # retrieve rows 4th & 5th, columns 2nd & 3rd with lists\n"
      ],
      "execution_count": 56,
      "outputs": []
    },
    {
      "cell_type": "markdown",
      "metadata": {
        "id": "nlvfhKmHNZjV",
        "colab_type": "text"
      },
      "source": [
        ".iloc selection for rows and columns with boolean conditions\n"
      ]
    },
    {
      "cell_type": "code",
      "metadata": {
        "id": "fEJEFMsSPvOb",
        "colab_type": "code",
        "colab": {}
      },
      "source": [
        "# length of boolean arrays must match dataframe size\n",
        "# select rows 1 and 3 and first column\n",
        "df.iloc[[True, False, True], [True]]\n"
      ],
      "execution_count": 56,
      "outputs": []
    },
    {
      "cell_type": "markdown",
      "metadata": {
        "id": "dxNnCbSoNhiO",
        "colab_type": "text"
      },
      "source": [
        "Select the rows whose index label is an even number\n"
      ]
    },
    {
      "cell_type": "code",
      "metadata": {
        "id": "JJeBnLUNPvR2",
        "colab_type": "code",
        "colab": {}
      },
      "source": [
        "df.iloc[lambda x: x.index % 2 == 0]"
      ],
      "execution_count": 56,
      "outputs": []
    },
    {
      "cell_type": "markdown",
      "metadata": {
        "id": "ccOYRpjQNnAI",
        "colab_type": "text"
      },
      "source": [
        "Select slice of rows with .iloc\n"
      ]
    },
    {
      "cell_type": "code",
      "metadata": {
        "id": "b7shocmUPvVZ",
        "colab_type": "code",
        "colab": {}
      },
      "source": [
        "# start_pos is the index of the first row to retrieve\n",
        "# stop_pos is the index of the row to stop (last row retrieved will have the index of `stop_pos -1`)\n",
        "df.iloc[start_pos:stop_pos]\n"
      ],
      "execution_count": 56,
      "outputs": []
    },
    {
      "cell_type": "markdown",
      "metadata": {
        "id": "9hIjg9MSNsaM",
        "colab_type": "text"
      },
      "source": [
        "Update/set column values based on rows condition with .iloc\n"
      ]
    },
    {
      "cell_type": "code",
      "metadata": {
        "id": "Gv3AHD6kPvZX",
        "colab_type": "code",
        "colab": {}
      },
      "source": [
        "# set column 4 values to `new_value` for first two rows of data frame\n",
        "df.iloc[0:2, 3] = 'new_value'\n",
        "\n",
        "# set all column values to `new_value` for first two rows of data frame\n",
        "df.iloc[0:2] = 'new_value'\n"
      ],
      "execution_count": 56,
      "outputs": []
    },
    {
      "cell_type": "markdown",
      "metadata": {
        "id": "jGa3qs_QNzmJ",
        "colab_type": "text"
      },
      "source": [
        "Concatenate two DataFrames together, rows of df1 followed by rows of df2\n"
      ]
    },
    {
      "cell_type": "code",
      "metadata": {
        "id": "AoMDSrebPvgl",
        "colab_type": "code",
        "colab": {}
      },
      "source": [
        "df = pd.concat([df1, df2])"
      ],
      "execution_count": 56,
      "outputs": []
    },
    {
      "cell_type": "markdown",
      "metadata": {
        "id": "buloTHN5OH2w",
        "colab_type": "text"
      },
      "source": [
        "Concatenate two DataFrames together, df2 to the right side of df1\n"
      ]
    },
    {
      "cell_type": "code",
      "metadata": {
        "id": "KI3EvcY3Pvkq",
        "colab_type": "code",
        "colab": {}
      },
      "source": [
        "df = pd.concat([df1, df2], axis=1)"
      ],
      "execution_count": 56,
      "outputs": []
    },
    {
      "cell_type": "markdown",
      "metadata": {
        "id": "-D_QV976ONON",
        "colab_type": "text"
      },
      "source": [
        "Concatenate multiple DataFrames together, appending rows horizontally\n"
      ]
    },
    {
      "cell_type": "code",
      "metadata": {
        "id": "Y_f1aJMmPvoD",
        "colab_type": "code",
        "colab": {}
      },
      "source": [
        "frames = [ process_input_file(f) for f in files ]\n",
        "df = pd.concat(frames)"
      ],
      "execution_count": 56,
      "outputs": []
    },
    {
      "cell_type": "markdown",
      "metadata": {
        "id": "WzWwa4kEOVLn",
        "colab_type": "text"
      },
      "source": [
        "Append a single row to a DataFrame by passing a Series\n"
      ]
    },
    {
      "cell_type": "code",
      "metadata": {
        "id": "5vljj5xRPvrG",
        "colab_type": "code",
        "colab": {}
      },
      "source": [
        "df_new = df.append(s1, ignore_index=True)"
      ],
      "execution_count": 56,
      "outputs": []
    },
    {
      "cell_type": "code",
      "metadata": {
        "id": "Yl8j29lzPvt7",
        "colab_type": "code",
        "colab": {
          "base_uri": "https://localhost:8080/",
          "height": 142
        },
        "outputId": "31d9bba1-3b57-475b-b9ea-836b1acbd0ea"
      },
      "source": [
        "data = [['Alex', 10], ['Bob', 12], ['Clarke', 13]]\n",
        "df = pd.DataFrame(data, columns=['Name', 'Age'])\n",
        "df"
      ],
      "execution_count": 5,
      "outputs": [
        {
          "output_type": "execute_result",
          "data": {
            "text/html": [
              "<div>\n",
              "<style scoped>\n",
              "    .dataframe tbody tr th:only-of-type {\n",
              "        vertical-align: middle;\n",
              "    }\n",
              "\n",
              "    .dataframe tbody tr th {\n",
              "        vertical-align: top;\n",
              "    }\n",
              "\n",
              "    .dataframe thead th {\n",
              "        text-align: right;\n",
              "    }\n",
              "</style>\n",
              "<table border=\"1\" class=\"dataframe\">\n",
              "  <thead>\n",
              "    <tr style=\"text-align: right;\">\n",
              "      <th></th>\n",
              "      <th>Name</th>\n",
              "      <th>Age</th>\n",
              "    </tr>\n",
              "  </thead>\n",
              "  <tbody>\n",
              "    <tr>\n",
              "      <th>0</th>\n",
              "      <td>Alex</td>\n",
              "      <td>10</td>\n",
              "    </tr>\n",
              "    <tr>\n",
              "      <th>1</th>\n",
              "      <td>Bob</td>\n",
              "      <td>12</td>\n",
              "    </tr>\n",
              "    <tr>\n",
              "      <th>2</th>\n",
              "      <td>Clarke</td>\n",
              "      <td>13</td>\n",
              "    </tr>\n",
              "  </tbody>\n",
              "</table>\n",
              "</div>"
            ],
            "text/plain": [
              "     Name  Age\n",
              "0    Alex   10\n",
              "1     Bob   12\n",
              "2  Clarke   13"
            ]
          },
          "metadata": {
            "tags": []
          },
          "execution_count": 5
        }
      ]
    },
    {
      "cell_type": "code",
      "metadata": {
        "id": "zfC57VFlObVT",
        "colab_type": "code",
        "colab": {
          "base_uri": "https://localhost:8080/",
          "height": 68
        },
        "outputId": "9fee20dd-afcd-4511-c59f-cf0fd6497f1a"
      },
      "source": [
        "s1 = pd.Series(['X0', '100'], index=['Name', 'Age'])\n",
        "s1"
      ],
      "execution_count": 6,
      "outputs": [
        {
          "output_type": "execute_result",
          "data": {
            "text/plain": [
              "Name     X0\n",
              "Age     100\n",
              "dtype: object"
            ]
          },
          "metadata": {
            "tags": []
          },
          "execution_count": 6
        }
      ]
    },
    {
      "cell_type": "code",
      "metadata": {
        "id": "o0KpAJn-OiwD",
        "colab_type": "code",
        "colab": {
          "base_uri": "https://localhost:8080/",
          "height": 173
        },
        "outputId": "eea02213-6d0a-42b0-b269-622bf1ef5261"
      },
      "source": [
        "df_new = df.append(s1, ignore_index=True)\n",
        "df_new"
      ],
      "execution_count": 7,
      "outputs": [
        {
          "output_type": "execute_result",
          "data": {
            "text/html": [
              "<div>\n",
              "<style scoped>\n",
              "    .dataframe tbody tr th:only-of-type {\n",
              "        vertical-align: middle;\n",
              "    }\n",
              "\n",
              "    .dataframe tbody tr th {\n",
              "        vertical-align: top;\n",
              "    }\n",
              "\n",
              "    .dataframe thead th {\n",
              "        text-align: right;\n",
              "    }\n",
              "</style>\n",
              "<table border=\"1\" class=\"dataframe\">\n",
              "  <thead>\n",
              "    <tr style=\"text-align: right;\">\n",
              "      <th></th>\n",
              "      <th>Name</th>\n",
              "      <th>Age</th>\n",
              "    </tr>\n",
              "  </thead>\n",
              "  <tbody>\n",
              "    <tr>\n",
              "      <th>0</th>\n",
              "      <td>Alex</td>\n",
              "      <td>10</td>\n",
              "    </tr>\n",
              "    <tr>\n",
              "      <th>1</th>\n",
              "      <td>Bob</td>\n",
              "      <td>12</td>\n",
              "    </tr>\n",
              "    <tr>\n",
              "      <th>2</th>\n",
              "      <td>Clarke</td>\n",
              "      <td>13</td>\n",
              "    </tr>\n",
              "    <tr>\n",
              "      <th>3</th>\n",
              "      <td>X0</td>\n",
              "      <td>100</td>\n",
              "    </tr>\n",
              "  </tbody>\n",
              "</table>\n",
              "</div>"
            ],
            "text/plain": [
              "     Name  Age\n",
              "0    Alex   10\n",
              "1     Bob   12\n",
              "2  Clarke   13\n",
              "3      X0  100"
            ]
          },
          "metadata": {
            "tags": []
          },
          "execution_count": 7
        }
      ]
    },
    {
      "cell_type": "markdown",
      "metadata": {
        "id": "S7wYD5bxOtak",
        "colab_type": "text"
      },
      "source": [
        "Append a single row to a DataFrame by passing a dict\n"
      ]
    },
    {
      "cell_type": "code",
      "metadata": {
        "id": "vPCFmMtHOqJz",
        "colab_type": "code",
        "colab": {}
      },
      "source": [
        "df_new = df.append(dict1, ignore_index=True)"
      ],
      "execution_count": null,
      "outputs": []
    },
    {
      "cell_type": "markdown",
      "metadata": {
        "id": "iElOBmlDOyZo",
        "colab_type": "text"
      },
      "source": [
        "Append a single row to a DataFrame by passing a dict\n"
      ]
    },
    {
      "cell_type": "code",
      "metadata": {
        "id": "vs5ACEkRPvwu",
        "colab_type": "code",
        "colab": {
          "base_uri": "https://localhost:8080/",
          "height": 142
        },
        "outputId": "62ee2c73-592b-4286-84f0-9756cfcb8d41"
      },
      "source": [
        "data = [['Alex', 10], ['Bob', 12], ['Clarke', 13]]\n",
        "df = pd.DataFrame(data, columns=['Name', 'Age'])\n",
        "df"
      ],
      "execution_count": 8,
      "outputs": [
        {
          "output_type": "execute_result",
          "data": {
            "text/html": [
              "<div>\n",
              "<style scoped>\n",
              "    .dataframe tbody tr th:only-of-type {\n",
              "        vertical-align: middle;\n",
              "    }\n",
              "\n",
              "    .dataframe tbody tr th {\n",
              "        vertical-align: top;\n",
              "    }\n",
              "\n",
              "    .dataframe thead th {\n",
              "        text-align: right;\n",
              "    }\n",
              "</style>\n",
              "<table border=\"1\" class=\"dataframe\">\n",
              "  <thead>\n",
              "    <tr style=\"text-align: right;\">\n",
              "      <th></th>\n",
              "      <th>Name</th>\n",
              "      <th>Age</th>\n",
              "    </tr>\n",
              "  </thead>\n",
              "  <tbody>\n",
              "    <tr>\n",
              "      <th>0</th>\n",
              "      <td>Alex</td>\n",
              "      <td>10</td>\n",
              "    </tr>\n",
              "    <tr>\n",
              "      <th>1</th>\n",
              "      <td>Bob</td>\n",
              "      <td>12</td>\n",
              "    </tr>\n",
              "    <tr>\n",
              "      <th>2</th>\n",
              "      <td>Clarke</td>\n",
              "      <td>13</td>\n",
              "    </tr>\n",
              "  </tbody>\n",
              "</table>\n",
              "</div>"
            ],
            "text/plain": [
              "     Name  Age\n",
              "0    Alex   10\n",
              "1     Bob   12\n",
              "2  Clarke   13"
            ]
          },
          "metadata": {
            "tags": []
          },
          "execution_count": 8
        }
      ]
    },
    {
      "cell_type": "code",
      "metadata": {
        "id": "HuHLSbFaO29y",
        "colab_type": "code",
        "colab": {
          "base_uri": "https://localhost:8080/",
          "height": 34
        },
        "outputId": "5b38c7b9-3b62-4410-bfb7-3a3489481bbf"
      },
      "source": [
        "dicts = [{'Name': 'X1', 'Age': 100},\n",
        "         {'Name': 'X2', 'Age': 200}]\n",
        "dicts"
      ],
      "execution_count": 9,
      "outputs": [
        {
          "output_type": "execute_result",
          "data": {
            "text/plain": [
              "[{'Age': 100, 'Name': 'X1'}, {'Age': 200, 'Name': 'X2'}]"
            ]
          },
          "metadata": {
            "tags": []
          },
          "execution_count": 9
        }
      ]
    },
    {
      "cell_type": "code",
      "metadata": {
        "id": "lEFzz4qJO8FK",
        "colab_type": "code",
        "colab": {
          "base_uri": "https://localhost:8080/",
          "height": 204
        },
        "outputId": "6bd69041-5fdd-4d91-c97b-12b747cc519d"
      },
      "source": [
        "df_new = df.append(dicts, ignore_index=True, sort=False)\n",
        "df_new"
      ],
      "execution_count": 11,
      "outputs": [
        {
          "output_type": "execute_result",
          "data": {
            "text/html": [
              "<div>\n",
              "<style scoped>\n",
              "    .dataframe tbody tr th:only-of-type {\n",
              "        vertical-align: middle;\n",
              "    }\n",
              "\n",
              "    .dataframe tbody tr th {\n",
              "        vertical-align: top;\n",
              "    }\n",
              "\n",
              "    .dataframe thead th {\n",
              "        text-align: right;\n",
              "    }\n",
              "</style>\n",
              "<table border=\"1\" class=\"dataframe\">\n",
              "  <thead>\n",
              "    <tr style=\"text-align: right;\">\n",
              "      <th></th>\n",
              "      <th>Name</th>\n",
              "      <th>Age</th>\n",
              "    </tr>\n",
              "  </thead>\n",
              "  <tbody>\n",
              "    <tr>\n",
              "      <th>0</th>\n",
              "      <td>Alex</td>\n",
              "      <td>10</td>\n",
              "    </tr>\n",
              "    <tr>\n",
              "      <th>1</th>\n",
              "      <td>Bob</td>\n",
              "      <td>12</td>\n",
              "    </tr>\n",
              "    <tr>\n",
              "      <th>2</th>\n",
              "      <td>Clarke</td>\n",
              "      <td>13</td>\n",
              "    </tr>\n",
              "    <tr>\n",
              "      <th>3</th>\n",
              "      <td>X1</td>\n",
              "      <td>100</td>\n",
              "    </tr>\n",
              "    <tr>\n",
              "      <th>4</th>\n",
              "      <td>X2</td>\n",
              "      <td>200</td>\n",
              "    </tr>\n",
              "  </tbody>\n",
              "</table>\n",
              "</div>"
            ],
            "text/plain": [
              "     Name  Age\n",
              "0    Alex   10\n",
              "1     Bob   12\n",
              "2  Clarke   13\n",
              "3      X1  100\n",
              "4      X2  200"
            ]
          },
          "metadata": {
            "tags": []
          },
          "execution_count": 11
        }
      ]
    },
    {
      "cell_type": "markdown",
      "metadata": {
        "id": "8vXMT7KCPODW",
        "colab_type": "text"
      },
      "source": [
        "Inner Join two DataFrames on common key column\n"
      ]
    },
    {
      "cell_type": "code",
      "metadata": {
        "id": "v7BPGL2HPBWT",
        "colab_type": "code",
        "colab": {}
      },
      "source": [
        "# Use intersection of keys from both frames\n",
        "df = pd.merge(df_left df_right, on='column_id')\n",
        "\n",
        "# identical with\n",
        "df = pd.merge(df_left df_right, left_on='column_id', right_on='column_id')"
      ],
      "execution_count": null,
      "outputs": []
    },
    {
      "cell_type": "markdown",
      "metadata": {
        "id": "F839kuvCP9Gp",
        "colab_type": "text"
      },
      "source": [
        "Left Join two DataFrames\n"
      ]
    },
    {
      "cell_type": "code",
      "metadata": {
        "id": "FTXY4wlJO_zs",
        "colab_type": "code",
        "colab": {}
      },
      "source": [
        "# Use keys from left frame only\n",
        "df = pd.merge(df_left df_right, left_on='column_x', right_on='column_y', how='left')\n"
      ],
      "execution_count": null,
      "outputs": []
    },
    {
      "cell_type": "markdown",
      "metadata": {
        "id": "x7BEiMl6QB8j",
        "colab_type": "text"
      },
      "source": [
        "Right Join two DataFrames\n"
      ]
    },
    {
      "cell_type": "code",
      "metadata": {
        "id": "E_GILUGnPvzk",
        "colab_type": "code",
        "colab": {}
      },
      "source": [
        "# Use keys from right frame only\n",
        "df = pd.merge(df_left df_right, left_on='column_x', right_on='column_y', how='right')\n"
      ],
      "execution_count": 56,
      "outputs": []
    },
    {
      "cell_type": "markdown",
      "metadata": {
        "id": "6oYgWsp8QIkM",
        "colab_type": "text"
      },
      "source": [
        "Full Outer Join two DataFrames on common key column"
      ]
    },
    {
      "cell_type": "code",
      "metadata": {
        "id": "OSkooM5PPv2q",
        "colab_type": "code",
        "colab": {}
      },
      "source": [
        "# Use union of keys from both frames\n",
        "df = pd.merge(df_left df_right, on='column_id', how='outer')"
      ],
      "execution_count": 56,
      "outputs": []
    },
    {
      "cell_type": "markdown",
      "metadata": {
        "id": "7N_Rv1a0QN6m",
        "colab_type": "text"
      },
      "source": [
        "Inner Join two DataFrames on index\n"
      ]
    },
    {
      "cell_type": "code",
      "metadata": {
        "id": "yqd7TR3SPv6Q",
        "colab_type": "code",
        "colab": {}
      },
      "source": [
        "df = pd.merge(df_left df_right, left_index=True, right_index=True)"
      ],
      "execution_count": 56,
      "outputs": []
    },
    {
      "cell_type": "markdown",
      "metadata": {
        "id": "dzr1afvfQWZI",
        "colab_type": "text"
      },
      "source": [
        "Join two DataFrames on nearest key (asof merge)\n"
      ]
    },
    {
      "cell_type": "code",
      "metadata": {
        "id": "F1_0Q_3sPv9g",
        "colab_type": "code",
        "colab": {}
      },
      "source": [
        "# This is similar to a left-join except that we match on nearest key rather than equal keys.\n",
        "# Both DataFrames must be sorted by the key.\n",
        "df = pd.merge_asof(df_left df_right, on='column_id', by='column_to_match')\n"
      ],
      "execution_count": 56,
      "outputs": []
    },
    {
      "cell_type": "markdown",
      "metadata": {
        "id": "kQ0Kf8pqQl8h",
        "colab_type": "text"
      },
      "source": [
        "Join two DataFrames on nearest key (asof merge)\n"
      ]
    },
    {
      "cell_type": "code",
      "metadata": {
        "id": "KTva_mmwPwAa",
        "colab_type": "code",
        "colab": {}
      },
      "source": [
        "df_merge_asof = pd.merge_asof(trades, quotes, on='time', by='ticker')\n"
      ],
      "execution_count": 56,
      "outputs": []
    },
    {
      "cell_type": "markdown",
      "metadata": {
        "id": "uRLfM-L0QrvP",
        "colab_type": "text"
      },
      "source": [
        "Transpose data frame (rows become columns, columns become rows)\n"
      ]
    },
    {
      "cell_type": "code",
      "metadata": {
        "id": "HMUG8RJ5PwDK",
        "colab_type": "code",
        "colab": {}
      },
      "source": [
        "df.T"
      ],
      "execution_count": 11,
      "outputs": []
    },
    {
      "cell_type": "markdown",
      "metadata": {
        "id": "-Yw-dyufQxhc",
        "colab_type": "text"
      },
      "source": [
        "Group by one column, one column aggregated, one aggregation\n"
      ]
    },
    {
      "cell_type": "code",
      "metadata": {
        "id": "44tKLHNYQoFr",
        "colab_type": "code",
        "colab": {}
      },
      "source": [
        "# returns series because we aggregate one column\n",
        "df.groupby('col_grp_1')['col_agg_1'].min()"
      ],
      "execution_count": 11,
      "outputs": []
    },
    {
      "cell_type": "markdown",
      "metadata": {
        "id": "an1ssiLaQ3YT",
        "colab_type": "text"
      },
      "source": [
        "Group by two columns, one column aggregated, one aggregation\n"
      ]
    },
    {
      "cell_type": "code",
      "metadata": {
        "id": "cBpePrNpQoKj",
        "colab_type": "code",
        "colab": {}
      },
      "source": [
        "# returns series because we aggregate one column\n",
        "df.groupby(['col_grp_1', 'col_grp_2'])['col_agg_1'].min()"
      ],
      "execution_count": 11,
      "outputs": []
    },
    {
      "cell_type": "markdown",
      "metadata": {
        "id": "HCl7SFWwQ9xZ",
        "colab_type": "text"
      },
      "source": [
        "Group by two columns, multiple columns aggregated, one aggregation\n"
      ]
    },
    {
      "cell_type": "code",
      "metadata": {
        "id": "GT-2p0y2QoPN",
        "colab_type": "code",
        "colab": {}
      },
      "source": [
        "# returns data frame because we aggregate multiple columns, one aggregation\n",
        "df.groupby(['col_grp_1', 'col_grp_2'])['col_agg_1', 'col_agg_2'].min()\n"
      ],
      "execution_count": 11,
      "outputs": []
    },
    {
      "cell_type": "markdown",
      "metadata": {
        "id": "AQNeDvP5RKdE",
        "colab_type": "text"
      },
      "source": [
        "Group by one column, one column aggregated, multiple aggregations\n"
      ]
    },
    {
      "cell_type": "code",
      "metadata": {
        "id": "qhRVT_2fQoSx",
        "colab_type": "code",
        "colab": {}
      },
      "source": [
        "# returns data frame because of multiple aggregations\n",
        "df.groupby('col_grp_1')['col_agg_1'].agg(['min', 'max', 'mean'])\n"
      ],
      "execution_count": 11,
      "outputs": []
    },
    {
      "cell_type": "markdown",
      "metadata": {
        "id": "w3hFDoHuYkyK",
        "colab_type": "text"
      },
      "source": [
        "Group by one column, multiple columns aggregated, multiple aggregations\n"
      ]
    },
    {
      "cell_type": "code",
      "metadata": {
        "id": "ntnH0OfwQoWU",
        "colab_type": "code",
        "colab": {}
      },
      "source": [
        "# returns data frame with hierarchical index in columns\n",
        "df1 = df.groupby('col_grp_1')['col_agg_1', 'col_agg_2'].agg(['min', 'max', 'mean', 'count'])\n",
        "# flatten the hierarchical index in columns\n",
        "df1.columns = ['_'.join(col).strip() for col in df1.columns.values]\n"
      ],
      "execution_count": 11,
      "outputs": []
    },
    {
      "cell_type": "markdown",
      "metadata": {
        "id": "v8YzQRLIYzXZ",
        "colab_type": "text"
      },
      "source": [
        "Group by named aggregation: group by one column, multiple columns aggregated, multiple aggregations\n"
      ]
    },
    {
      "cell_type": "code",
      "metadata": {
        "id": "3E0aayReQodE",
        "colab_type": "code",
        "colab": {}
      },
      "source": [
        "# from pandas version >= 0.25.0\n",
        "df.groupby('col_grp_1').agg(new_col1_name=('col_agg_1', 'mean'), new_col2_name=('col_agg_2', 'count'))\n"
      ],
      "execution_count": null,
      "outputs": []
    },
    {
      "cell_type": "markdown",
      "metadata": {
        "id": "hbrmLDryZIM2",
        "colab_type": "text"
      },
      "source": [
        "Group by one column, one column aggregated, one aggregation\n"
      ]
    },
    {
      "cell_type": "code",
      "metadata": {
        "id": "5dZwyl_9Y4ig",
        "colab_type": "code",
        "colab": {}
      },
      "source": [
        "# returns series because we aggregate one column\n",
        "df.groupby('kind')['weight'].min()\n"
      ],
      "execution_count": null,
      "outputs": []
    },
    {
      "cell_type": "markdown",
      "metadata": {
        "id": "voB7KkoAZYOx",
        "colab_type": "text"
      },
      "source": [
        "Group by two columns, one column aggregated, one aggregation\n"
      ]
    },
    {
      "cell_type": "code",
      "metadata": {
        "id": "8QfBIqdlZOBK",
        "colab_type": "code",
        "colab": {}
      },
      "source": [
        "# returns series because we aggregate one column\n",
        "df.groupby(['kind', 'breed'])['weight'].min()\n"
      ],
      "execution_count": 13,
      "outputs": []
    },
    {
      "cell_type": "markdown",
      "metadata": {
        "id": "--d89v3LtGA2",
        "colab_type": "text"
      },
      "source": [
        "Group by two columns, multiple columns aggregated, one aggregation\n"
      ]
    },
    {
      "cell_type": "code",
      "metadata": {
        "id": "1KRTenD8ZOKG",
        "colab_type": "code",
        "colab": {}
      },
      "source": [
        "df\n",
        "  kind      breed  height  weight\n",
        "0  cat    siamese     9.1     7.9\n",
        "1  dog  chihuahua     6.0     7.5\n",
        "2  cat    persian     9.5     9.9\n",
        "3  dog   labrador    34.0   198.0\n",
        "4  dog  chihuahua     3.5     5.5\n",
        "\n",
        "# returns data frame because we aggregate multiple columns, one aggregation\n",
        "df.groupby(['kind', 'breed'])['height', 'weight'].min()\n",
        "\n",
        "                height  weight\n",
        "kind breed\n",
        "cat  persian       9.5     9.9\n",
        "     siamese       9.1     7.9\n",
        "dog  chihuahua     3.5     5.5\n",
        "     labrador     34.0   198.0\n"
      ],
      "execution_count": 13,
      "outputs": []
    },
    {
      "cell_type": "markdown",
      "metadata": {
        "id": "1VkPvSddtPpG",
        "colab_type": "text"
      },
      "source": [
        "Group by one column, one column aggregated, multiple aggregations\n"
      ]
    },
    {
      "cell_type": "code",
      "metadata": {
        "id": "YnQTabDQZONq",
        "colab_type": "code",
        "colab": {}
      },
      "source": [
        "# giving DataFrame df\n",
        ">>> df\n",
        "  kind      breed  height  weight\n",
        "0  cat    siamese     9.1     7.9\n",
        "1  dog  chihuahua     6.0     7.5\n",
        "2  cat    persian     9.5     9.9\n",
        "3  dog   labrador    34.0   198.0\n",
        "4  dog  chihuahua     3.5     5.5\n",
        "\n",
        "df.groupby('kind')['weight'].agg(['min', 'max', 'mean'])\n",
        "\n",
        "# returns data frame because of multiple aggregations\n",
        "      min    max       mean\n",
        "kind\n",
        "cat   7.9    9.9   8.900000\n",
        "dog   5.5  198.0  70.333333\n"
      ],
      "execution_count": 13,
      "outputs": []
    },
    {
      "cell_type": "markdown",
      "metadata": {
        "id": "WCbOJilVtUJ-",
        "colab_type": "text"
      },
      "source": [
        "Group by one column, multiple columns aggregated, multiple aggregations\n"
      ]
    },
    {
      "cell_type": "code",
      "metadata": {
        "id": "YxnALioCZOQn",
        "colab_type": "code",
        "colab": {}
      },
      "source": [
        "# giving DataFrame df\n",
        ">>> df\n",
        "  kind      breed  height  weight\n",
        "0  cat    siamese     9.1     7.9\n",
        "1  dog  chihuahua     6.0     7.5\n",
        "2  cat    persian     9.5     9.9\n",
        "3  dog   labrador    34.0   198.0\n",
        "4  dog  chihuahua     3.5     5.5\n",
        "\n",
        "# returns data frame with hierarchical index in columns\n",
        "df1 = df.groupby('kind')['weight', 'height'].agg(['min', 'max', 'count'])\n",
        "# flatten the hierarchical index in columns\n",
        "df1.columns = ['_'.join(col).strip() for col in df1.columns.values]\n",
        "print(df1)\n",
        "\n",
        "      weight_min  weight_max  weight_count  height_min  height_max  height_count\n",
        "kind\n",
        "cat          7.9         9.9             2         9.1         9.5             2\n",
        "dog          5.5       198.0             3         3.5        34.0             3\n"
      ],
      "execution_count": 13,
      "outputs": []
    },
    {
      "cell_type": "markdown",
      "metadata": {
        "id": "k2ptIVMeta29",
        "colab_type": "text"
      },
      "source": [
        "Filter (within a GroupBy), filters the rows on a property of the group they belong to\n"
      ]
    },
    {
      "cell_type": "code",
      "metadata": {
        "id": "UFkcm6T3ZOUr",
        "colab_type": "code",
        "colab": {}
      },
      "source": [
        "# will return a subset DataFrame of rows belonging to the groups satisfying condition\n",
        "df1 = df.groupby('col_grp').filter(lambda x : x['col'].mean() > 20)"
      ],
      "execution_count": 13,
      "outputs": []
    },
    {
      "cell_type": "markdown",
      "metadata": {
        "id": "PKcaZL3SvPoi",
        "colab_type": "text"
      },
      "source": [
        "Transform (within a GroupBy), calculates a new value for each row based on a property of the group\n"
      ]
    },
    {
      "cell_type": "code",
      "metadata": {
        "id": "ZMHaQ5qpZOXB",
        "colab_type": "code",
        "colab": {}
      },
      "source": [
        "df['grp_mean'] = df.groupby('col_grp')['col'].transform(lambda x : x.mean())\n"
      ],
      "execution_count": 13,
      "outputs": []
    },
    {
      "cell_type": "markdown",
      "metadata": {
        "id": "4qTiuK1dvUWA",
        "colab_type": "text"
      },
      "source": [
        "Center the data by subtracting the group-wise mean\n"
      ]
    },
    {
      "cell_type": "code",
      "metadata": {
        "id": "AdQqp883ZOwB",
        "colab_type": "code",
        "colab": {}
      },
      "source": [
        "# will return a new DataFrame with same size as the original\n",
        "df_new = df.groupby('col_grp').transform(lambda x: x - x.mean())"
      ],
      "execution_count": 13,
      "outputs": []
    },
    {
      "cell_type": "markdown",
      "metadata": {
        "id": "8Ubcbb9CvcFj",
        "colab_type": "text"
      },
      "source": [
        "Apply (within a GroupBy), applies an arbitrary function to the group results\n"
      ]
    },
    {
      "cell_type": "code",
      "metadata": {
        "id": "Tx6JwtYJZO1X",
        "colab_type": "code",
        "colab": {}
      },
      "source": [
        "def func_normalize(x):\n",
        "  # x is a DataFrame of group values\n",
        "  x['col1'] = x['col1'] / x['col2'].sum()\n",
        "\n",
        "  return x\n",
        "\n",
        "# normalizes the first column by the sum of the second:\n",
        "df = df.groupby('col_grp').apply(func_normalize)\n"
      ],
      "execution_count": 13,
      "outputs": []
    },
    {
      "cell_type": "markdown",
      "metadata": {
        "id": "fxSaxuZAvlD2",
        "colab_type": "text"
      },
      "source": [
        "Get top n rows for each group of columns in a sorted dataframe\n"
      ]
    },
    {
      "cell_type": "code",
      "metadata": {
        "id": "YEMzjQ4fZO5R",
        "colab_type": "code",
        "colab": {}
      },
      "source": [
        "# sort DataFrame first by some columns\n",
        "df = df.sort_values(['col_x','col_y'])\n",
        "df_top_5 = df.groupby('col_x').head(5)\n"
      ],
      "execution_count": 13,
      "outputs": []
    },
    {
      "cell_type": "markdown",
      "metadata": {
        "id": "V_vRMP7lvtzb",
        "colab_type": "text"
      },
      "source": [
        "Get bottom n rows for each group of columns in a sorted dataframe\n"
      ]
    },
    {
      "cell_type": "code",
      "metadata": {
        "id": "D7mYOWFcZO8_",
        "colab_type": "code",
        "colab": {}
      },
      "source": [
        "# sort DataFrame first by some columns\n",
        "df = df.sort_values(['col_x','col_y'])\n",
        "df_bottom_5 = df.groupby('col_x').tail(5)\n"
      ],
      "execution_count": 13,
      "outputs": []
    },
    {
      "cell_type": "code",
      "metadata": {
        "id": "HiBDoFxVZPAz",
        "colab_type": "code",
        "colab": {}
      },
      "source": [
        "https://www.allthesnippets.com/search/index.html?refinementList%5Bcategory%5D%5B0%5D=Reshape%20Data&refinementList%5Bcategory%5D%5B1%5D=DataFrame%20Basics&refinementList%5Bsubject%5D%5B0%5D=Pandas"
      ],
      "execution_count": 13,
      "outputs": []
    },
    {
      "cell_type": "code",
      "metadata": {
        "id": "WTRn_GQMZPDc",
        "colab_type": "code",
        "colab": {}
      },
      "source": [
        ""
      ],
      "execution_count": 13,
      "outputs": []
    },
    {
      "cell_type": "code",
      "metadata": {
        "id": "v0BJzDCiZPHM",
        "colab_type": "code",
        "colab": {}
      },
      "source": [
        ""
      ],
      "execution_count": 13,
      "outputs": []
    },
    {
      "cell_type": "code",
      "metadata": {
        "id": "MaXwIGqPZPJb",
        "colab_type": "code",
        "colab": {}
      },
      "source": [
        ""
      ],
      "execution_count": null,
      "outputs": []
    },
    {
      "cell_type": "code",
      "metadata": {
        "id": "fJPZxIrgY4mv",
        "colab_type": "code",
        "colab": {}
      },
      "source": [
        ""
      ],
      "execution_count": 12,
      "outputs": []
    },
    {
      "cell_type": "code",
      "metadata": {
        "id": "me-QsOtIY4qw",
        "colab_type": "code",
        "colab": {}
      },
      "source": [
        ""
      ],
      "execution_count": 12,
      "outputs": []
    },
    {
      "cell_type": "code",
      "metadata": {
        "id": "LV2yo3nXY4xC",
        "colab_type": "code",
        "colab": {}
      },
      "source": [
        ""
      ],
      "execution_count": 12,
      "outputs": []
    },
    {
      "cell_type": "code",
      "metadata": {
        "id": "CdNyOKlNY42G",
        "colab_type": "code",
        "colab": {}
      },
      "source": [
        ""
      ],
      "execution_count": 12,
      "outputs": []
    },
    {
      "cell_type": "code",
      "metadata": {
        "id": "ca6x_GpNY46C",
        "colab_type": "code",
        "colab": {}
      },
      "source": [
        ""
      ],
      "execution_count": null,
      "outputs": []
    }
  ]
}