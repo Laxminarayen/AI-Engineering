{
  "nbformat": 4,
  "nbformat_minor": 0,
  "metadata": {
    "colab": {
      "name": "Random Number Generators.ipynb",
      "provenance": [],
      "collapsed_sections": [],
      "authorship_tag": "ABX9TyP0V7h3FUNVkKl9dvsC/zWF",
      "include_colab_link": true
    },
    "kernelspec": {
      "name": "python3",
      "display_name": "Python 3"
    }
  },
  "cells": [
    {
      "cell_type": "markdown",
      "metadata": {
        "id": "view-in-github",
        "colab_type": "text"
      },
      "source": [
        "<a href=\"https://colab.research.google.com/github/plthiyagu/Personnel/blob/master/Random_Number_Generators.ipynb\" target=\"_parent\"><img src=\"https://colab.research.google.com/assets/colab-badge.svg\" alt=\"Open In Colab\"/></a>"
      ]
    },
    {
      "cell_type": "code",
      "metadata": {
        "id": "3TlPeZcdRe8_",
        "colab_type": "code",
        "colab": {}
      },
      "source": [
        "import random\n",
        "import pandas as pd"
      ],
      "execution_count": 0,
      "outputs": []
    },
    {
      "cell_type": "code",
      "metadata": {
        "id": "OXWoJ0FOpJUo",
        "colab_type": "code",
        "outputId": "19c720ee-603c-4c81-aa81-066235c0dffa",
        "colab": {
          "base_uri": "https://localhost:8080/",
          "height": 51
        }
      },
      "source": [
        "print('Random Number 1=>',random.random())\n",
        "print('Random Number 2=>',random.random())"
      ],
      "execution_count": 0,
      "outputs": [
        {
          "output_type": "stream",
          "text": [
            "Random Number 1=> 0.5312077341108623\n",
            "Random Number 2=> 0.32440695930328667\n"
          ],
          "name": "stdout"
        }
      ]
    },
    {
      "cell_type": "code",
      "metadata": {
        "id": "d3N8SnxwpOhG",
        "colab_type": "code",
        "outputId": "c5aa6d9d-fb66-4551-c44a-ee79ea11e1c2",
        "colab": {
          "base_uri": "https://localhost:8080/",
          "height": 51
        }
      },
      "source": [
        "random.seed(42)\n",
        "print('Random Number 1=>',random.random())\n",
        "\n",
        "random.seed(42)\n",
        "print('Random Number 2=>',random.random())"
      ],
      "execution_count": 0,
      "outputs": [
        {
          "output_type": "stream",
          "text": [
            "Random Number 1=> 0.6394267984578837\n",
            "Random Number 2=> 0.6394267984578837\n"
          ],
          "name": "stdout"
        }
      ]
    },
    {
      "cell_type": "code",
      "metadata": {
        "id": "RCt7wNbWpblW",
        "colab_type": "code",
        "outputId": "e6e389ec-87b9-45b2-836f-ec69b62256bb",
        "colab": {
          "base_uri": "https://localhost:8080/",
          "height": 34
        }
      },
      "source": [
        "print('Random Number in range(2,8)=>', random.uniform(2,8))"
      ],
      "execution_count": 0,
      "outputs": [
        {
          "output_type": "stream",
          "text": [
            "Random Number in range(2,8)=> 2.1500645313360014\n"
          ],
          "name": "stdout"
        }
      ]
    },
    {
      "cell_type": "code",
      "metadata": {
        "id": "BPTvufnepokk",
        "colab_type": "code",
        "outputId": "056ee317-da4e-4376-d659-94cfa394aa1f",
        "colab": {
          "base_uri": "https://localhost:8080/",
          "height": 34
        }
      },
      "source": [
        "print('Random Number in a range(2,8)=>', random.randint(2,8))"
      ],
      "execution_count": 0,
      "outputs": [
        {
          "output_type": "stream",
          "text": [
            "Random Number in a range(2,8)=> 4\n"
          ],
          "name": "stdout"
        }
      ]
    },
    {
      "cell_type": "code",
      "metadata": {
        "id": "q8nMnLyZpuBJ",
        "colab_type": "code",
        "outputId": "48cd8745-6d8c-4392-cad7-fb9641d8b25c",
        "colab": {
          "base_uri": "https://localhost:8080/",
          "height": 51
        }
      },
      "source": [
        "a=[5, 9, 20, 10, 2, 8]\n",
        "print('Randomly picked number=>',random.choice(a))\n",
        "print('Randomly picked number=>',random.choices(a,k=3))"
      ],
      "execution_count": 0,
      "outputs": [
        {
          "output_type": "stream",
          "text": [
            "Randomly picked number=> 9\n",
            "Randomly picked number=> [9, 2, 2]\n"
          ],
          "name": "stdout"
        }
      ]
    },
    {
      "cell_type": "code",
      "metadata": {
        "id": "O8F38zVqp0ib",
        "colab_type": "code",
        "outputId": "7929e8dc-1ebe-4465-c9c6-db985b310ce0",
        "colab": {
          "base_uri": "https://localhost:8080/",
          "height": 102
        }
      },
      "source": [
        "for _ in range(5):\n",
        "   print('Randomly picked number=>',random.choices(a,weights=[1,1,1,3,1,1],k=3))"
      ],
      "execution_count": 0,
      "outputs": [
        {
          "output_type": "stream",
          "text": [
            "Randomly picked number=> [8, 5, 10]\n",
            "Randomly picked number=> [5, 9, 10]\n",
            "Randomly picked number=> [5, 9, 10]\n",
            "Randomly picked number=> [10, 9, 10]\n",
            "Randomly picked number=> [2, 5, 2]\n"
          ],
          "name": "stdout"
        }
      ]
    },
    {
      "cell_type": "code",
      "metadata": {
        "id": "mN35HBRGqA-n",
        "colab_type": "code",
        "outputId": "9f94ef7f-0fc7-482b-9271-951660ddf2fc",
        "colab": {
          "base_uri": "https://localhost:8080/",
          "height": 51
        }
      },
      "source": [
        "print('Original list=>',a)\n",
        "random.shuffle(a)\n",
        "print('Shuffled list=>',a)"
      ],
      "execution_count": 0,
      "outputs": [
        {
          "output_type": "stream",
          "text": [
            "Original list=> [5, 9, 20, 10, 2, 8]\n",
            "Shuffled list=> [2, 5, 9, 20, 10, 8]\n"
          ],
          "name": "stdout"
        }
      ]
    },
    {
      "cell_type": "code",
      "metadata": {
        "id": "czcyxnzuqKQx",
        "colab_type": "code",
        "outputId": "de4f50a0-affc-48a7-b2c8-61625e4636a2",
        "colab": {
          "base_uri": "https://localhost:8080/",
          "height": 102
        }
      },
      "source": [
        "for _ in range(5):\n",
        "   print(random.gauss(0,1))"
      ],
      "execution_count": 0,
      "outputs": [
        {
          "output_type": "stream",
          "text": [
            "0.3671625953860221\n",
            "1.6579373095121808\n",
            "0.7828943687073867\n",
            "0.5855881735548409\n",
            "-0.580720955479652\n"
          ],
          "name": "stdout"
        }
      ]
    },
    {
      "cell_type": "code",
      "metadata": {
        "id": "A4s168oZqR4p",
        "colab_type": "code",
        "outputId": "71cea68c-69e5-4750-98e9-6fd66bfc7f9c",
        "colab": {
          "base_uri": "https://localhost:8080/",
          "height": 34
        }
      },
      "source": [
        "print('Random number from exponential distribution=>',random.expovariate(10))"
      ],
      "execution_count": 0,
      "outputs": [
        {
          "output_type": "stream",
          "text": [
            "Random number from exponential distribution=> 0.030723311082104677\n"
          ],
          "name": "stdout"
        }
      ]
    },
    {
      "cell_type": "code",
      "metadata": {
        "id": "mR5BHHIzxtZC",
        "colab_type": "code",
        "colab": {}
      },
      "source": [
        ""
      ],
      "execution_count": 0,
      "outputs": []
    }
  ]
}