{
  "nbformat": 4,
  "nbformat_minor": 0,
  "metadata": {
    "colab": {
      "name": "Bulls and Cows LeetCode 299.ipynb",
      "provenance": [],
      "collapsed_sections": [],
      "authorship_tag": "ABX9TyP/HJBGDR76vKh4hOuc8TlF",
      "include_colab_link": true
    },
    "kernelspec": {
      "name": "python3",
      "display_name": "Python 3"
    },
    "language_info": {
      "name": "python"
    }
  },
  "cells": [
    {
      "cell_type": "markdown",
      "metadata": {
        "id": "view-in-github",
        "colab_type": "text"
      },
      "source": [
        "<a href=\"https://colab.research.google.com/github/plthiyagu/AI-Engineering/blob/master/15-LeetCode%5CBulls_and_Cows_LeetCode_299.ipynb\" target=\"_parent\"><img src=\"https://colab.research.google.com/assets/colab-badge.svg\" alt=\"Open In Colab\"/></a>"
      ]
    },
    {
      "cell_type": "code",
      "metadata": {
        "id": "n7yY3bBu4IlW"
      },
      "source": [
        "from collections import defaultdict \n",
        "def getHint( secret, guess):\n",
        "    \"\"\"\n",
        "    :type secret: str\n",
        "    :type guess: str\n",
        "    :rtype: str\n",
        "    \"\"\"\n",
        "    s1, s2 = defaultdict(int), defaultdict(int)\n",
        "    A = B = 0\n",
        "    for s, g in zip(secret, guess):\n",
        "        if s == g:\n",
        "            A += 1\n",
        "        else:\n",
        "            s1[s] += 1\n",
        "            s2[g] += 1\n",
        "    for k in s1.keys():\n",
        "        if k in s2:\n",
        "            B += min(s1[k], s2[k])\n",
        "    return \"%sA%sB\" % (A, B)"
      ],
      "execution_count": null,
      "outputs": []
    },
    {
      "cell_type": "code",
      "metadata": {
        "colab": {
          "base_uri": "https://localhost:8080/",
          "height": 35
        },
        "id": "3MJmdoqa4Xv9",
        "outputId": "be3304df-119f-4c5a-c404-a0a462a8b3eb"
      },
      "source": [
        "secret=\"1807\"\n",
        "guess=\"7810\"\n",
        "getHint( secret, guess)"
      ],
      "execution_count": null,
      "outputs": [
        {
          "output_type": "execute_result",
          "data": {
            "application/vnd.google.colaboratory.intrinsic+json": {
              "type": "string"
            },
            "text/plain": [
              "'1A3B'"
            ]
          },
          "metadata": {
            "tags": []
          },
          "execution_count": 6
        }
      ]
    },
    {
      "cell_type": "code",
      "metadata": {
        "id": "_fhSzJWB4njU"
      },
      "source": [
        ""
      ],
      "execution_count": null,
      "outputs": []
    },
    {
      "cell_type": "code",
      "metadata": {
        "id": "Yj3FulOg4iBV"
      },
      "source": [
        ""
      ],
      "execution_count": null,
      "outputs": []
    }
  ]
}