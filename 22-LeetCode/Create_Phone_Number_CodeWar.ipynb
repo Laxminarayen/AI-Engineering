{
  "nbformat": 4,
  "nbformat_minor": 0,
  "metadata": {
    "colab": {
      "name": "Create Phone Number CodeWar.ipynb",
      "provenance": [],
      "collapsed_sections": [],
      "authorship_tag": "ABX9TyOUvQHYY1ivfYKmIlt00Wq7",
      "include_colab_link": true
    },
    "kernelspec": {
      "name": "python3",
      "display_name": "Python 3"
    },
    "language_info": {
      "name": "python"
    }
  },
  "cells": [
    {
      "cell_type": "markdown",
      "metadata": {
        "id": "view-in-github",
        "colab_type": "text"
      },
      "source": [
        "<a href=\"https://colab.research.google.com/github/plthiyagu/AI-Engineering/blob/master/22-LeetCode/Create_Phone_Number_CodeWar.ipynb\" target=\"_parent\"><img src=\"https://colab.research.google.com/assets/colab-badge.svg\" alt=\"Open In Colab\"/></a>"
      ]
    },
    {
      "cell_type": "code",
      "metadata": {
        "id": "NcGK-rI0ER9b"
      },
      "source": [
        "def create_phone_number(n):\n",
        "    return \"({}{}{}) {}{}{}-{}{}{}{}\".format(*n)"
      ],
      "execution_count": null,
      "outputs": []
    },
    {
      "cell_type": "code",
      "metadata": {
        "id": "36JiUHacESxH",
        "colab": {
          "base_uri": "https://localhost:8080/",
          "height": 35
        },
        "outputId": "fe2e06ce-2ae4-4ec5-9498-eaf02d047b4f"
      },
      "source": [
        "create_phone_number([1, 2, 3, 4, 5, 6, 7, 8, 9, 0])"
      ],
      "execution_count": null,
      "outputs": [
        {
          "output_type": "execute_result",
          "data": {
            "application/vnd.google.colaboratory.intrinsic+json": {
              "type": "string"
            },
            "text/plain": [
              "'(123) 456-7890'"
            ]
          },
          "metadata": {
            "tags": []
          },
          "execution_count": 15
        }
      ]
    },
    {
      "cell_type": "code",
      "metadata": {
        "id": "L9PjpNg3AGPI"
      },
      "source": [
        "def create_phone_number(n):\n",
        "    #your code here\n",
        "    s = \"\".join([str(i) for i in n])\n",
        "    return f\"({s[:3]}) {s[3:6]}-{s[6:]}\" "
      ],
      "execution_count": null,
      "outputs": []
    },
    {
      "cell_type": "code",
      "metadata": {
        "colab": {
          "base_uri": "https://localhost:8080/",
          "height": 35
        },
        "id": "9O244wd7C5h9",
        "outputId": "9f197d9b-8155-41b7-b086-5415eed53c43"
      },
      "source": [
        "create_phone_number([1, 2, 3, 4, 5, 6, 7, 8, 9, 0])"
      ],
      "execution_count": null,
      "outputs": [
        {
          "output_type": "execute_result",
          "data": {
            "application/vnd.google.colaboratory.intrinsic+json": {
              "type": "string"
            },
            "text/plain": [
              "'(123) 456-7890'"
            ]
          },
          "metadata": {
            "tags": []
          },
          "execution_count": 3
        }
      ]
    },
    {
      "cell_type": "code",
      "metadata": {
        "id": "55Xjnsu8DCbj"
      },
      "source": [
        "def create_phone_number(n):\n",
        "    #your code here\n",
        "    str1 = \"\"\n",
        "    str2 = \"\"\n",
        "    str3 = \"\"\n",
        "    for i in range(len(n)):\n",
        "        if 0 <= i < 3:\n",
        "            str1 += str(n[i])\n",
        "        elif 3 <= i < 6:\n",
        "            str2 += str(n[i])\n",
        "        else:\n",
        "            str3 += str(n[i])\n",
        "    return \"(\"+str1+\") \"+str2+\"-\"+str3\n"
      ],
      "execution_count": null,
      "outputs": []
    },
    {
      "cell_type": "code",
      "metadata": {
        "colab": {
          "base_uri": "https://localhost:8080/",
          "height": 35
        },
        "id": "1IKfgG61DIVN",
        "outputId": "a790a751-ddb3-4753-bd3a-dc0b0a0b49ac"
      },
      "source": [
        "create_phone_number([1, 2, 3, 4, 5, 6, 7, 8, 9, 0])"
      ],
      "execution_count": 16,
      "outputs": [
        {
          "output_type": "execute_result",
          "data": {
            "application/vnd.google.colaboratory.intrinsic+json": {
              "type": "string"
            },
            "text/plain": [
              "'(123) 456-7890'"
            ]
          },
          "metadata": {
            "tags": []
          },
          "execution_count": 16
        }
      ]
    },
    {
      "cell_type": "code",
      "metadata": {
        "id": "Ef2bEggwFqIx"
      },
      "source": [
        "def create_phone_number(n):\n",
        "    n = ''.join(map(str,n))\n",
        "    return '(%s) %s-%s'%(n[:3], n[3:6], n[6:])"
      ],
      "execution_count": 17,
      "outputs": []
    },
    {
      "cell_type": "code",
      "metadata": {
        "colab": {
          "base_uri": "https://localhost:8080/",
          "height": 35
        },
        "id": "ooB3mYFVFu_n",
        "outputId": "b4bf9dfe-7edb-4bb1-d705-870ea3876eaf"
      },
      "source": [
        "create_phone_number([1, 2, 3, 4, 5, 6, 7, 8, 9, 0])"
      ],
      "execution_count": 18,
      "outputs": [
        {
          "output_type": "execute_result",
          "data": {
            "application/vnd.google.colaboratory.intrinsic+json": {
              "type": "string"
            },
            "text/plain": [
              "'(123) 456-7890'"
            ]
          },
          "metadata": {
            "tags": []
          },
          "execution_count": 18
        }
      ]
    },
    {
      "cell_type": "code",
      "metadata": {
        "id": "U7h-4UxiFvyS"
      },
      "source": [
        "def create_phone_number(n):\n",
        "  str1 =  ''.join(str(x) for x in n[0:3])\n",
        "  str2 =  ''.join(str(x) for x in n[3:6])\n",
        "  str3 =  ''.join(str(x) for x in n[6:10])\n",
        "\n",
        "\n",
        "  return '({}) {}-{}'.format(str1, str2, str3)"
      ],
      "execution_count": 19,
      "outputs": []
    },
    {
      "cell_type": "code",
      "metadata": {
        "colab": {
          "base_uri": "https://localhost:8080/",
          "height": 35
        },
        "id": "FpSwkopLFzcg",
        "outputId": "f5d8f154-d35d-4bf4-f063-6f76455f8a09"
      },
      "source": [
        "create_phone_number([1, 2, 3, 4, 5, 6, 7, 8, 9, 0])"
      ],
      "execution_count": 20,
      "outputs": [
        {
          "output_type": "execute_result",
          "data": {
            "application/vnd.google.colaboratory.intrinsic+json": {
              "type": "string"
            },
            "text/plain": [
              "'(123) 456-7890'"
            ]
          },
          "metadata": {
            "tags": []
          },
          "execution_count": 20
        }
      ]
    },
    {
      "cell_type": "code",
      "metadata": {
        "id": "uZ4jQ7CWF1aV"
      },
      "source": [
        "def create_phone_number(n):\n",
        "    n = \"\".join([str(x) for x in n] )\n",
        "    return(\"(\" + str(n[0:3]) + \")\" + \" \" + str(n[3:6]) + \"-\" + str(n[6:]))"
      ],
      "execution_count": 21,
      "outputs": []
    },
    {
      "cell_type": "code",
      "metadata": {
        "colab": {
          "base_uri": "https://localhost:8080/",
          "height": 35
        },
        "id": "szLTT6lnF8BT",
        "outputId": "bd27d3d0-869f-4388-d679-86ca3bb0a02e"
      },
      "source": [
        "create_phone_number([1, 2, 3, 4, 5, 6, 7, 8, 9, 0])"
      ],
      "execution_count": 22,
      "outputs": [
        {
          "output_type": "execute_result",
          "data": {
            "application/vnd.google.colaboratory.intrinsic+json": {
              "type": "string"
            },
            "text/plain": [
              "'(123) 456-7890'"
            ]
          },
          "metadata": {
            "tags": []
          },
          "execution_count": 22
        }
      ]
    },
    {
      "cell_type": "code",
      "metadata": {
        "id": "2eZICGQLF9nd"
      },
      "source": [
        "create_phone_number = lambda n: f\"({n[0]}{n[1]}{n[2]}) {n[3]}{n[4]}{n[5]}-{n[6]}{n[7]}{n[8]}{n[9]}\""
      ],
      "execution_count": 23,
      "outputs": []
    },
    {
      "cell_type": "code",
      "metadata": {
        "colab": {
          "base_uri": "https://localhost:8080/",
          "height": 35
        },
        "id": "RrrxLVnjGBSi",
        "outputId": "93850953-da3a-4efb-96b5-d32adef79340"
      },
      "source": [
        "create_phone_number([1, 2, 3, 4, 5, 6, 7, 8, 9, 0])"
      ],
      "execution_count": 24,
      "outputs": [
        {
          "output_type": "execute_result",
          "data": {
            "application/vnd.google.colaboratory.intrinsic+json": {
              "type": "string"
            },
            "text/plain": [
              "'(123) 456-7890'"
            ]
          },
          "metadata": {
            "tags": []
          },
          "execution_count": 24
        }
      ]
    },
    {
      "cell_type": "code",
      "metadata": {
        "id": "vebZ6K9WGCug"
      },
      "source": [
        ""
      ],
      "execution_count": null,
      "outputs": []
    }
  ]
}