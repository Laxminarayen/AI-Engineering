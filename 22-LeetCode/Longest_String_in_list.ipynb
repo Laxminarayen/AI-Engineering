{
  "nbformat": 4,
  "nbformat_minor": 0,
  "metadata": {
    "colab": {
      "name": "Longest String in list.ipynb",
      "provenance": [],
      "authorship_tag": "ABX9TyOuvDUR3OQgCnTVUdrINtLl",
      "include_colab_link": true
    },
    "kernelspec": {
      "name": "python3",
      "display_name": "Python 3"
    }
  },
  "cells": [
    {
      "cell_type": "markdown",
      "metadata": {
        "id": "view-in-github",
        "colab_type": "text"
      },
      "source": [
        "<a href=\"https://colab.research.google.com/github/plthiyagu/Personnel/blob/master/Longest_String_in_list.ipynb\" target=\"_parent\"><img src=\"https://colab.research.google.com/assets/colab-badge.svg\" alt=\"Open In Colab\"/></a>"
      ]
    },
    {
      "cell_type": "code",
      "metadata": {
        "id": "n-426j0Y0szT",
        "colab_type": "code",
        "colab": {}
      },
      "source": [
        "test_list = ['gfg', 'is', 'best', 'for', 'geeks'] "
      ],
      "execution_count": 0,
      "outputs": []
    },
    {
      "cell_type": "code",
      "metadata": {
        "id": "4FmSsq8d0ybF",
        "colab_type": "code",
        "colab": {
          "base_uri": "https://localhost:8080/",
          "height": 34
        },
        "outputId": "9d910a52-dc81-411d-b47b-164c9165c2fb"
      },
      "source": [
        "print(\"The original list : \" + str(test_list)) "
      ],
      "execution_count": 2,
      "outputs": [
        {
          "output_type": "stream",
          "text": [
            "The original list : ['gfg', 'is', 'best', 'for', 'geeks']\n"
          ],
          "name": "stdout"
        }
      ]
    },
    {
      "cell_type": "code",
      "metadata": {
        "id": "eVEeXxX701io",
        "colab_type": "code",
        "colab": {
          "base_uri": "https://localhost:8080/",
          "height": 34
        },
        "outputId": "a7f73762-8cb4-43c9-9fd3-b57d0d1f3146"
      },
      "source": [
        "max_len = -1\n",
        "for ele in test_list: \n",
        "    if len(ele) > max_len: \n",
        "        max_len = len(ele) \n",
        "        res = ele \n",
        "  \n",
        "# printing result \n",
        "print(\"Maximum length string is : \" + res) \n"
      ],
      "execution_count": 3,
      "outputs": [
        {
          "output_type": "stream",
          "text": [
            "Maximum length string is : geeks\n"
          ],
          "name": "stdout"
        }
      ]
    },
    {
      "cell_type": "code",
      "metadata": {
        "id": "K6gUts6T1BvN",
        "colab_type": "code",
        "colab": {}
      },
      "source": [
        ""
      ],
      "execution_count": 0,
      "outputs": []
    }
  ]
}