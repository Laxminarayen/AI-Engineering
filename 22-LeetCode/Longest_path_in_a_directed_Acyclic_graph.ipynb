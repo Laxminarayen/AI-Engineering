{
  "nbformat": 4,
  "nbformat_minor": 0,
  "metadata": {
    "colab": {
      "name": "Longest path in a directed Acyclic graph.ipynb",
      "provenance": [],
      "authorship_tag": "ABX9TyNDNXYPbADW+om9iObFoQWj",
      "include_colab_link": true
    },
    "kernelspec": {
      "name": "python3",
      "display_name": "Python 3"
    }
  },
  "cells": [
    {
      "cell_type": "markdown",
      "metadata": {
        "id": "view-in-github",
        "colab_type": "text"
      },
      "source": [
        "<a href=\"https://colab.research.google.com/github/plthiyagu/Personnel/blob/master/Longest_path_in_a_directed_Acyclic_graph.ipynb\" target=\"_parent\"><img src=\"https://colab.research.google.com/assets/colab-badge.svg\" alt=\"Open In Colab\"/></a>"
      ]
    },
    {
      "cell_type": "code",
      "metadata": {
        "id": "i8iuf7vXPrSU",
        "colab_type": "code",
        "colab": {}
      },
      "source": [
        "def dfs(node, adj, dp, vis):\n",
        "  vis[node]= True\n",
        "  for i in range (0, len(adj[node])):\n",
        "    if not vis[adj[node][i]]:\n",
        "      dfs(adj[node][i], adj, dp, vis)\n",
        "    dp[node] = max(dp[node], 1 + dp[adj[node][i]])\n",
        "\n",
        "    \n",
        "def addEdge(adj, u, v):\n",
        "  adj[u].append(v)\n",
        "\n",
        "def findLongestPath(adj, n):\n",
        "  dp = [0] * (n + 1)\n",
        "  vis = [False] * (n + 1)\n",
        "  for i in range(1, n + 1):\n",
        "    if not vis[i]:\n",
        "      dfs(i, adj, dp, vis)\n",
        "  ans = 0 \n",
        "    \n",
        "  # Traverse and find the maximum of all dp[i]  \n",
        "  for i in range(1, n + 1):\n",
        "    ans = max(ans, dp[i])\n",
        "  return ans\n",
        "\n",
        "\n",
        "\n",
        "\n"
      ],
      "execution_count": 0,
      "outputs": []
    },
    {
      "cell_type": "code",
      "metadata": {
        "id": "27V_rDCucMTL",
        "colab_type": "code",
        "colab": {
          "base_uri": "https://localhost:8080/",
          "height": 34
        },
        "outputId": "b42aaefe-bd02-482e-a363-ad9d4db0fef6"
      },
      "source": [
        "n = 5 \n",
        "adj = [[] for i in range(n + 1)] \n",
        "# Example-1  \n",
        "addEdge(adj, 1, 2)  \n",
        "addEdge(adj, 1, 3)  \n",
        "addEdge(adj, 3, 2)  \n",
        "addEdge(adj, 2, 4)  \n",
        "addEdge(adj, 3, 4)  \n",
        "print(findLongestPath(adj, n)) \n"
      ],
      "execution_count": 7,
      "outputs": [
        {
          "output_type": "stream",
          "text": [
            "3\n"
          ],
          "name": "stdout"
        }
      ]
    },
    {
      "cell_type": "code",
      "metadata": {
        "id": "xd5_RLNUca7m",
        "colab_type": "code",
        "colab": {}
      },
      "source": [
        ""
      ],
      "execution_count": 0,
      "outputs": []
    }
  ]
}