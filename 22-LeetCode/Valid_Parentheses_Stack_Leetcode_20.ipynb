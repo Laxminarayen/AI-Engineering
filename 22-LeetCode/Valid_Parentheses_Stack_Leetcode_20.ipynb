{
  "nbformat": 4,
  "nbformat_minor": 0,
  "metadata": {
    "colab": {
      "name": "Valid Parentheses - Stack - Leetcode 20.ipynb",
      "provenance": [],
      "collapsed_sections": [],
      "authorship_tag": "ABX9TyM1NI2w2qiA2HfH3I4zoqDe",
      "include_colab_link": true
    },
    "kernelspec": {
      "name": "python3",
      "display_name": "Python 3"
    },
    "language_info": {
      "name": "python"
    }
  },
  "cells": [
    {
      "cell_type": "markdown",
      "metadata": {
        "id": "view-in-github",
        "colab_type": "text"
      },
      "source": [
        "<a href=\"https://colab.research.google.com/github/plthiyagu/AI-Engineering/blob/master/22-LeetCode/Valid_Parentheses_Stack_Leetcode_20.ipynb\" target=\"_parent\"><img src=\"https://colab.research.google.com/assets/colab-badge.svg\" alt=\"Open In Colab\"/></a>"
      ]
    },
    {
      "cell_type": "code",
      "metadata": {
        "id": "AQPq1oqImxAh"
      },
      "source": [
        "def isValid( s):\n",
        "    \"\"\"\n",
        "    :type s: str\n",
        "    :rtype: bool\n",
        "    \"\"\"\n",
        "    \n",
        "    stack= []\n",
        "    closeToOpen={\"(\": \")\", \"[\": \"]\", \"{\": \"}\"}\n",
        "    for c in s:\n",
        "        if c in closeToOpen:\n",
        "            stack.append(c)\n",
        "        else:\n",
        "            if not stack or closeToOpen[stack.pop()] != c:  \n",
        "                return False\n",
        "    return not stack"
      ],
      "execution_count": 3,
      "outputs": []
    },
    {
      "cell_type": "code",
      "metadata": {
        "colab": {
          "base_uri": "https://localhost:8080/"
        },
        "id": "nJeEyf3QG58J",
        "outputId": "457ed979-5b58-45b3-88dc-46457c89f8bf"
      },
      "source": [
        "s = \"()[]{}\"\n",
        "isValid( s)"
      ],
      "execution_count": 4,
      "outputs": [
        {
          "output_type": "execute_result",
          "data": {
            "text/plain": [
              "True"
            ]
          },
          "metadata": {
            "tags": []
          },
          "execution_count": 4
        }
      ]
    },
    {
      "cell_type": "code",
      "metadata": {
        "id": "Qc4oeJCLHAib"
      },
      "source": [
        ""
      ],
      "execution_count": null,
      "outputs": []
    },
    {
      "cell_type": "code",
      "metadata": {
        "id": "RA1CXbfGqE2z"
      },
      "source": [
        ""
      ],
      "execution_count": null,
      "outputs": []
    }
  ]
}