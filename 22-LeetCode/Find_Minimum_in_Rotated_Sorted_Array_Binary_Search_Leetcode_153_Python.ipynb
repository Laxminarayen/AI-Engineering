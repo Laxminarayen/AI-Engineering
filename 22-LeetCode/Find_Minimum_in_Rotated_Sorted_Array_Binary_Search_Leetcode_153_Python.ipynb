{
  "nbformat": 4,
  "nbformat_minor": 0,
  "metadata": {
    "colab": {
      "name": "Find Minimum in Rotated Sorted Array - Binary Search - Leetcode 153 - Python.ipynb",
      "provenance": [],
      "authorship_tag": "ABX9TyPJGwZHGZlIoXbfwFCLTnzd",
      "include_colab_link": true
    },
    "kernelspec": {
      "name": "python3",
      "display_name": "Python 3"
    },
    "language_info": {
      "name": "python"
    }
  },
  "cells": [
    {
      "cell_type": "markdown",
      "metadata": {
        "id": "view-in-github",
        "colab_type": "text"
      },
      "source": [
        "<a href=\"https://colab.research.google.com/github/plthiyagu/AI-Engineering/blob/master/22-LeetCode/Find_Minimum_in_Rotated_Sorted_Array_Binary_Search_Leetcode_153_Python.ipynb\" target=\"_parent\"><img src=\"https://colab.research.google.com/assets/colab-badge.svg\" alt=\"Open In Colab\"/></a>"
      ]
    },
    {
      "cell_type": "code",
      "metadata": {
        "id": "H0iF8b77jqTT"
      },
      "source": [
        "def findMin(nums):\n",
        "  \"\"\"\n",
        "  :type nums: List[int]\n",
        "  :rtype: int\n",
        "  \"\"\"\n",
        "  res= nums[0]\n",
        "  l,r=0,len(nums)-1\n",
        "  \n",
        "  \n",
        "  while l <=r:\n",
        "      if nums[l] < nums[r]:\n",
        "          res= min(res, nums[l])\n",
        "          break\n",
        "      m= (l+r)//2\n",
        "      res= min(res,nums[m])\n",
        "      \n",
        "      if nums[m] >= nums[l]:\n",
        "          l= m+1\n",
        "      else:\n",
        "          r= m-1\n",
        "  return res        "
      ],
      "execution_count": 8,
      "outputs": []
    },
    {
      "cell_type": "code",
      "metadata": {
        "colab": {
          "base_uri": "https://localhost:8080/"
        },
        "id": "vGYug8yl2hrG",
        "outputId": "7c5cee6d-6ced-41af-855c-f0dde941ba15"
      },
      "source": [
        "nums= [3,4,5,1,2]\n",
        "findMin(nums)"
      ],
      "execution_count": 10,
      "outputs": [
        {
          "output_type": "execute_result",
          "data": {
            "text/plain": [
              "1"
            ]
          },
          "metadata": {
            "tags": []
          },
          "execution_count": 10
        }
      ]
    },
    {
      "cell_type": "code",
      "metadata": {
        "id": "z55Zw4612nCn"
      },
      "source": [
        ""
      ],
      "execution_count": null,
      "outputs": []
    }
  ]
}