{
  "nbformat": 4,
  "nbformat_minor": 0,
  "metadata": {
    "colab": {
      "name": "Complete Fibonacci Series CodeWar.ipynb",
      "provenance": [],
      "authorship_tag": "ABX9TyObhzc6koBAnN9xYCAwteiH",
      "include_colab_link": true
    },
    "kernelspec": {
      "name": "python3",
      "display_name": "Python 3"
    },
    "language_info": {
      "name": "python"
    }
  },
  "cells": [
    {
      "cell_type": "markdown",
      "metadata": {
        "id": "view-in-github",
        "colab_type": "text"
      },
      "source": [
        "<a href=\"https://colab.research.google.com/github/plthiyagu/AI-Engineering/blob/master/22-LeetCode/Complete_Fibonacci_Series_CodeWar.ipynb\" target=\"_parent\"><img src=\"https://colab.research.google.com/assets/colab-badge.svg\" alt=\"Open In Colab\"/></a>"
      ]
    },
    {
      "cell_type": "code",
      "metadata": {
        "id": "T4ohJ-t3NWF4"
      },
      "source": [
        "def fibonacci(n):\n",
        "    if n <= 0:\n",
        "        return []\n",
        "    elif n == 1:\n",
        "        return [0]\n",
        "    elif n == 2:\n",
        "        return [0, 1]\n",
        "    D = {0: 0}\n",
        "    result = [0, 1]\n",
        "    for i in range(1, n):\n",
        "        result.append(result[-1] + result[-2])\n",
        "        D[i] = result[i]\n",
        "    return list(D.values())"
      ],
      "execution_count": 1,
      "outputs": []
    },
    {
      "cell_type": "code",
      "metadata": {
        "colab": {
          "base_uri": "https://localhost:8080/"
        },
        "id": "w8yOpMk1NXhc",
        "outputId": "ffd0e61d-03f8-43da-a4f8-7c469c44a625"
      },
      "source": [
        "fibonacci(4)"
      ],
      "execution_count": 2,
      "outputs": [
        {
          "output_type": "execute_result",
          "data": {
            "text/plain": [
              "[0, 1, 1, 2]"
            ]
          },
          "metadata": {
            "tags": []
          },
          "execution_count": 2
        }
      ]
    },
    {
      "cell_type": "code",
      "metadata": {
        "id": "Q8oH4dILNe0I"
      },
      "source": [
        "def fibonacci(n):\n",
        "    if n<=0:\n",
        "      return []\n",
        "    a = 0\n",
        "    b = 1\n",
        "    l = [0]\n",
        "    for i in range(n):\n",
        "        a,b = b, a+b\n",
        "        l.append(a)\n",
        "    return l[0:n]"
      ],
      "execution_count": 3,
      "outputs": []
    },
    {
      "cell_type": "code",
      "metadata": {
        "id": "KzhiPrRgNsF0"
      },
      "source": [
        "fib = [0, 1]\n",
        "\n",
        "def fibonacci(n):\n",
        "    for _ in range(n - len(fib)):\n",
        "        fib.append(fib[-1] + fib[-2])\n",
        "    return fib[:max(0, n)]"
      ],
      "execution_count": 4,
      "outputs": []
    },
    {
      "cell_type": "code",
      "metadata": {
        "id": "OADjnCWcNvOA"
      },
      "source": [
        ""
      ],
      "execution_count": null,
      "outputs": []
    }
  ]
}