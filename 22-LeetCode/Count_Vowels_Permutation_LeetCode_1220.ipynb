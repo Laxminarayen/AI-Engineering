{
  "nbformat": 4,
  "nbformat_minor": 0,
  "metadata": {
    "colab": {
      "name": "Count Vowels Permutation LeetCode 1220.ipynb",
      "provenance": [],
      "collapsed_sections": [],
      "authorship_tag": "ABX9TyP9eyPP0y8pCzAIPGngan07",
      "include_colab_link": true
    },
    "kernelspec": {
      "name": "python3",
      "display_name": "Python 3"
    },
    "language_info": {
      "name": "python"
    }
  },
  "cells": [
    {
      "cell_type": "markdown",
      "metadata": {
        "id": "view-in-github",
        "colab_type": "text"
      },
      "source": [
        "<a href=\"https://colab.research.google.com/github/plthiyagu/AI-Engineering/blob/master/22-LeetCode/Count_Vowels_Permutation_LeetCode_1220.ipynb\" target=\"_parent\"><img src=\"https://colab.research.google.com/assets/colab-badge.svg\" alt=\"Open In Colab\"/></a>"
      ]
    },
    {
      "cell_type": "code",
      "metadata": {
        "id": "JfVVq1CzxqOV"
      },
      "source": [
        "def countVowelPermutation(n):\n",
        "    \"\"\"\n",
        "    :type n: int\n",
        "    :rtype: int\n",
        "    \"\"\"\n",
        "    \n",
        "    def dp(i,lastChar):\n",
        "        if i ==n:\n",
        "            return 1\n",
        "        \n",
        "        ans =0\n",
        "\n",
        "        if lastChar == 'a':\n",
        "            ans +=  dp(i+1,'e')\n",
        "        elif lastChar == 'e':\n",
        "            ans += dp(i+1,'a') + dp(i+1,'i')\n",
        "        elif lastChar == 'i':\n",
        "            ans += dp(i+1,'a') + dp(i+1,'e')+dp(i+1,'o')+dp(i+1,'u')\n",
        "        elif lastChar == 'o':\n",
        "            ans += dp(i+1,'i') + dp(i+1,'u')\n",
        "        elif lastChar == 'u':\n",
        "            ans += dp(i+1,'a')\n",
        "        \n",
        "        return ans % mod\n",
        "    \n",
        "    mod= 10**9+7\n",
        "    \n",
        "    return (dp(1,'a')+dp(1,'e')+dp(1,'i')+dp(1,'o')+dp(1,'u'))%mod"
      ],
      "execution_count": 6,
      "outputs": []
    },
    {
      "cell_type": "code",
      "metadata": {
        "colab": {
          "base_uri": "https://localhost:8080/"
        },
        "id": "NRLJJyOKxvCM",
        "outputId": "0afdfac8-818c-4003-b8ed-36effdfdfc01"
      },
      "source": [
        "n=5\n",
        "countVowelPermutation(n)"
      ],
      "execution_count": 7,
      "outputs": [
        {
          "output_type": "execute_result",
          "data": {
            "text/plain": [
              "68"
            ]
          },
          "metadata": {
            "tags": []
          },
          "execution_count": 7
        }
      ]
    },
    {
      "cell_type": "code",
      "metadata": {
        "id": "zjOFyhZex6Xe"
      },
      "source": [
        ""
      ],
      "execution_count": null,
      "outputs": []
    }
  ]
}