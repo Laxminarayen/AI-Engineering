{
  "nbformat": 4,
  "nbformat_minor": 0,
  "metadata": {
    "colab": {
      "name": "Two Sum II - Input array is sorted 167 LeetCode.ipynb",
      "provenance": [],
      "collapsed_sections": [],
      "authorship_tag": "ABX9TyPJP7TclCUqsr0E/ZTHVc7a",
      "include_colab_link": true
    },
    "kernelspec": {
      "name": "python3",
      "display_name": "Python 3"
    },
    "language_info": {
      "name": "python"
    }
  },
  "cells": [
    {
      "cell_type": "markdown",
      "metadata": {
        "id": "view-in-github",
        "colab_type": "text"
      },
      "source": [
        "<a href=\"https://colab.research.google.com/github/plthiyagu/AI-Engineering/blob/master/22-LeetCode/Two_Sum_II_Input_array_is_sorted_167_LeetCode.ipynb\" target=\"_parent\"><img src=\"https://colab.research.google.com/assets/colab-badge.svg\" alt=\"Open In Colab\"/></a>"
      ]
    },
    {
      "cell_type": "markdown",
      "metadata": {
        "id": "xu6iG-w8VH0L"
      },
      "source": [
        "https://www.youtube.com/watch?v=cQ1Oz4ckceM"
      ]
    },
    {
      "cell_type": "code",
      "metadata": {
        "id": "IRduIMwlj8d0"
      },
      "source": [
        "def twoSum(numbers, target):\n",
        "  \"\"\"\n",
        "  :type numbers: List[int]\n",
        "  :type target: int\n",
        "  :rtype: List[int]\n",
        "  \"\"\"\n",
        "  l,r =0, len(numbers)-1\n",
        "  \n",
        "  \n",
        "  while l < r:\n",
        "      curSum= numbers[l] + numbers[r]\n",
        "      \n",
        "      if curSum > target:\n",
        "          r -=1\n",
        "      elif curSum <target:\n",
        "          l += 1\n",
        "      else:\n",
        "          return [l+1, r+1]\n",
        "  return []\n"
      ],
      "execution_count": 5,
      "outputs": []
    },
    {
      "cell_type": "code",
      "metadata": {
        "colab": {
          "base_uri": "https://localhost:8080/"
        },
        "id": "gARtAA9AVPhO",
        "outputId": "5404f853-be6b-4809-cb12-d16fd3227784"
      },
      "source": [
        "numbers=[2,7,11,15]\n",
        "target=9\n",
        "twoSum(numbers, target)"
      ],
      "execution_count": 6,
      "outputs": [
        {
          "output_type": "execute_result",
          "data": {
            "text/plain": [
              "[1, 2]"
            ]
          },
          "metadata": {
            "tags": []
          },
          "execution_count": 6
        }
      ]
    },
    {
      "cell_type": "code",
      "metadata": {
        "id": "iU74w7iLVhrF"
      },
      "source": [
        ""
      ],
      "execution_count": null,
      "outputs": []
    }
  ]
}