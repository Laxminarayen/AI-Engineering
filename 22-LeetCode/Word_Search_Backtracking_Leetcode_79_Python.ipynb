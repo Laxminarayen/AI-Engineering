{
  "nbformat": 4,
  "nbformat_minor": 0,
  "metadata": {
    "colab": {
      "name": "Word Search - Backtracking - Leetcode 79 - Python.ipynb",
      "provenance": [],
      "authorship_tag": "ABX9TyOYzKAMrei4JFprCGCginEb",
      "include_colab_link": true
    },
    "kernelspec": {
      "name": "python3",
      "display_name": "Python 3"
    },
    "language_info": {
      "name": "python"
    }
  },
  "cells": [
    {
      "cell_type": "markdown",
      "metadata": {
        "id": "view-in-github",
        "colab_type": "text"
      },
      "source": [
        "<a href=\"https://colab.research.google.com/github/plthiyagu/AI-Engineering/blob/master/22-LeetCode/Word_Search_Backtracking_Leetcode_79_Python.ipynb\" target=\"_parent\"><img src=\"https://colab.research.google.com/assets/colab-badge.svg\" alt=\"Open In Colab\"/></a>"
      ]
    },
    {
      "cell_type": "code",
      "metadata": {
        "id": "oKY__MPQ6Awu"
      },
      "source": [
        "def exist(board, word):\n",
        "      \"\"\"\n",
        "      :type board: List[List[str]]\n",
        "      :type word: str\n",
        "      :rtype: bool\n",
        "      \"\"\"\n",
        "      row, col = len(board), len(board[0])\n",
        "      path= set()\n",
        "      \n",
        "      def dfs(r,c,i):\n",
        "          if i == len(word):\n",
        "              return True\n",
        "          if (r <0 or c <0 or \n",
        "              r >=row or c >=col or\n",
        "              word[i] != board[r][c] or\n",
        "              (r,c) in path):\n",
        "              return False\n",
        "          path.add((r,c))\n",
        "          res= (dfs(r+1, c,i+1) or\n",
        "                dfs(r-1, c,i+1) or\n",
        "                dfs(r, c+1,i+1) or\n",
        "                dfs(r, c-1,i+1) )\n",
        "          path.remove((r,c))\n",
        "          return res\n",
        "      for r in range(row):\n",
        "          for c in range(col):\n",
        "              if dfs(r,c,0): return True\n",
        "      return False"
      ],
      "execution_count": 7,
      "outputs": []
    },
    {
      "cell_type": "code",
      "metadata": {
        "colab": {
          "base_uri": "https://localhost:8080/"
        },
        "id": "UZdg22_o6e0j",
        "outputId": "e360559b-a936-4d8a-df48-9f299a0c4ed2"
      },
      "source": [
        "board=[[\"A\",\"B\",\"C\",\"E\"],[\"S\",\"F\",\"C\",\"S\"],[\"A\",\"D\",\"E\",\"E\"]]\n",
        "word =\"ABCCED\"\n",
        "exist(board,word)"
      ],
      "execution_count": 8,
      "outputs": [
        {
          "output_type": "execute_result",
          "data": {
            "text/plain": [
              "True"
            ]
          },
          "metadata": {
            "tags": []
          },
          "execution_count": 8
        }
      ]
    },
    {
      "cell_type": "markdown",
      "metadata": {
        "id": "vxNNMpb37Sq_"
      },
      "source": [
        "https://www.youtube.com/watch?v=pfiQ_PS1g8E"
      ]
    },
    {
      "cell_type": "code",
      "metadata": {
        "id": "sQ4vLYWa6vlQ"
      },
      "source": [
        ""
      ],
      "execution_count": null,
      "outputs": []
    }
  ]
}