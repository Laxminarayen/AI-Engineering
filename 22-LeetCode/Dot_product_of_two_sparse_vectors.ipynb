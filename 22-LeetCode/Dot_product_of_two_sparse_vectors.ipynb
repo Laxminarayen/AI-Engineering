{
  "nbformat": 4,
  "nbformat_minor": 0,
  "metadata": {
    "colab": {
      "name": "Dot product of two sparse vectors.ipynb",
      "provenance": [],
      "collapsed_sections": [],
      "authorship_tag": "ABX9TyPq8LVmIync3FHPVRm45lhg",
      "include_colab_link": true
    },
    "kernelspec": {
      "name": "python3",
      "display_name": "Python 3"
    }
  },
  "cells": [
    {
      "cell_type": "markdown",
      "metadata": {
        "id": "view-in-github",
        "colab_type": "text"
      },
      "source": [
        "<a href=\"https://colab.research.google.com/github/plthiyagu/Personnel/blob/master/Dot_product_of_two_sparse_vectors.ipynb\" target=\"_parent\"><img src=\"https://colab.research.google.com/assets/colab-badge.svg\" alt=\"Open In Colab\"/></a>"
      ]
    },
    {
      "cell_type": "code",
      "metadata": {
        "id": "WSbsWbvv0G67",
        "colab_type": "code",
        "colab": {}
      },
      "source": [
        "def sparse_dot_product(vec1, vec2):\n",
        "  \"\"\"\n",
        "    input: vec1 and vec2 list of tuples\n",
        "           representing sparse vectors\n",
        "\n",
        "    outut: the dot product of the two vectors.\n",
        "  \"\"\"\n",
        "  len1 = len(vec1)\n",
        "  len2 = len(vec2)\n",
        "  if (len1==0) or (len2==0):\n",
        "    raise ValueError('One of the vectors is empty!')\n",
        "\n",
        "  pointer1 = 0\n",
        "  pointer2 = 0\n",
        "  product = 0\n",
        "  while(pointer1 < len1) and (pointer2 < len2):\n",
        "    if vec1[pointer1][0] == vec2[pointer2][0]:\n",
        "      product += (vec1[pointer1][1] * vec2[pointer2][1])\n",
        "      pointer1 += 1\n",
        "      pointer2 += 1\n",
        "    elif vec1[pointer1][0] < vec2[pointer2][0]:\n",
        "      pointer1 += 1\n",
        "    elif vec2[pointer2][0] < vec1[pointer1][0]:\n",
        "      pointer2 += 1\n",
        "  return product\n",
        "\n"
      ],
      "execution_count": 0,
      "outputs": []
    },
    {
      "cell_type": "code",
      "metadata": {
        "id": "q6Jg1MJ1qsPM",
        "colab_type": "code",
        "colab": {}
      },
      "source": [
        "import numpy as np\n",
        "from scipy.sparse import csc_matrix\n",
        "a=csc_matrix((3, 4), dtype=np.int8).toarray()\n",
        "b=csc_matrix((3, 4), dtype=np.int8).toarray()\n"
      ],
      "execution_count": 0,
      "outputs": []
    },
    {
      "cell_type": "code",
      "metadata": {
        "id": "C_ZXEpCnsQD2",
        "colab_type": "code",
        "colab": {
          "base_uri": "https://localhost:8080/",
          "height": 68
        },
        "outputId": "101044a3-4d0a-47b1-aa1e-b72aa2611dd0"
      },
      "source": [
        "a"
      ],
      "execution_count": 8,
      "outputs": [
        {
          "output_type": "execute_result",
          "data": {
            "text/plain": [
              "array([[0, 0, 0, 0],\n",
              "       [0, 0, 0, 0],\n",
              "       [0, 0, 0, 0]], dtype=int8)"
            ]
          },
          "metadata": {
            "tags": []
          },
          "execution_count": 8
        }
      ]
    },
    {
      "cell_type": "code",
      "metadata": {
        "id": "PGosRkuYsz2w",
        "colab_type": "code",
        "colab": {
          "base_uri": "https://localhost:8080/",
          "height": 68
        },
        "outputId": "1fc68128-d628-4b5b-f8b3-7aa1ba7349a2"
      },
      "source": [
        "b"
      ],
      "execution_count": 16,
      "outputs": [
        {
          "output_type": "execute_result",
          "data": {
            "text/plain": [
              "array([[0, 0, 0, 0],\n",
              "       [0, 0, 0, 0],\n",
              "       [0, 0, 0, 0]], dtype=int8)"
            ]
          },
          "metadata": {
            "tags": []
          },
          "execution_count": 16
        }
      ]
    },
    {
      "cell_type": "code",
      "metadata": {
        "id": "lzGlOe6PvD4_",
        "colab_type": "code",
        "colab": {
          "base_uri": "https://localhost:8080/",
          "height": 68
        },
        "outputId": "e72d978c-3031-4c47-9cab-3ef73f7cc5d9"
      },
      "source": [
        "# create dense matrix\n",
        "from numpy import array\n",
        "A = array([[1, 0, 0, 1, 0, 0], [0, 0, 2, 0, 0, 1], [0, 0, 0, 2, 0, 0]])\n",
        "A"
      ],
      "execution_count": 20,
      "outputs": [
        {
          "output_type": "execute_result",
          "data": {
            "text/plain": [
              "array([[1, 0, 0, 1, 0, 0],\n",
              "       [0, 0, 2, 0, 0, 1],\n",
              "       [0, 0, 0, 2, 0, 0]])"
            ]
          },
          "metadata": {
            "tags": []
          },
          "execution_count": 20
        }
      ]
    },
    {
      "cell_type": "code",
      "metadata": {
        "id": "x_x9sabGsRMP",
        "colab_type": "code",
        "colab": {
          "base_uri": "https://localhost:8080/",
          "height": 34
        },
        "outputId": "35fc6541-7713-464d-8a21-99e730667cc6"
      },
      "source": [
        "c=sparse_dot_product(a,b)\n",
        "c"
      ],
      "execution_count": 21,
      "outputs": [
        {
          "output_type": "execute_result",
          "data": {
            "text/plain": [
              "0"
            ]
          },
          "metadata": {
            "tags": []
          },
          "execution_count": 21
        }
      ]
    }
  ]
}