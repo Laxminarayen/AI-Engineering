{
  "nbformat": 4,
  "nbformat_minor": 0,
  "metadata": {
    "colab": {
      "name": "Binary Tree Maximum Path Sum LeetCode 124.ipynb",
      "provenance": [],
      "collapsed_sections": [],
      "authorship_tag": "ABX9TyM8JqceXJ1uwh3/XZUaNOsP",
      "include_colab_link": true
    },
    "kernelspec": {
      "name": "python3",
      "display_name": "Python 3"
    },
    "language_info": {
      "name": "python"
    }
  },
  "cells": [
    {
      "cell_type": "markdown",
      "metadata": {
        "id": "view-in-github",
        "colab_type": "text"
      },
      "source": [
        "<a href=\"https://colab.research.google.com/github/plthiyagu/AI-Engineering/blob/master/22-LeetCode/Binary_Tree_Maximum_Path_Sum_LeetCode_124.ipynb\" target=\"_parent\"><img src=\"https://colab.research.google.com/assets/colab-badge.svg\" alt=\"Open In Colab\"/></a>"
      ]
    },
    {
      "cell_type": "markdown",
      "metadata": {
        "id": "CRPN9Ff-NY6S"
      },
      "source": [
        "https://www.youtube.com/watch?v=_wUz0XKQ5JM"
      ]
    },
    {
      "cell_type": "code",
      "metadata": {
        "id": "Ubu-6Kf3MZUa"
      },
      "source": [
        "# Definition for a binary tree node.\n",
        "class Node(object):\n",
        "  def __init__(self, val=0, left=None, right=None):\n",
        "        self.val = val\n",
        "        self.left = left\n",
        "        self.right = right\n",
        "class Solution(object):\n",
        "    \n",
        "    def maxPathSum(self, root):\n",
        "        \"\"\"\n",
        "        :type root: TreeNode\n",
        "        :rtype: int\n",
        "        \"\"\"\n",
        "        self.maximum = float(\"-inf\")\n",
        "        \n",
        "        def dfs(root):\n",
        "                 \n",
        "            if root is None:\n",
        "                return 0\n",
        "\n",
        "            left_max = max(0,dfs(root.left))\n",
        "            right_max = max(0,dfs(root.right))\n",
        "\n",
        "            self.maximum = max(self.maximum, left_max+right_max+ root.val)\n",
        "            \n",
        "            return max(left_max,right_max)+root.val\n",
        "        dfs(root)\n",
        "        return self.maximum    "
      ],
      "execution_count": 4,
      "outputs": []
    },
    {
      "cell_type": "code",
      "metadata": {
        "colab": {
          "base_uri": "https://localhost:8080/"
        },
        "id": "MALZ8iyRMqsl",
        "outputId": "d5a92171-155e-4aee-eb7a-536c9876ab3c"
      },
      "source": [
        "root = Node(10)\n",
        "root.left = Node(2)\n",
        "root.right   = Node(10)\n",
        "root.left.left  = Node(20)\n",
        "root.left.right = Node(1)\n",
        "root.right.right = Node(-25)\n",
        "root.right.right.left   = Node(3)\n",
        "root.right.right.right  = Node(4)\n",
        "obj = Solution()\n",
        "print (\"Max path sum is \" ,obj.maxPathSum(root))"
      ],
      "execution_count": 6,
      "outputs": [
        {
          "output_type": "stream",
          "text": [
            "Max path sum is  42\n"
          ],
          "name": "stdout"
        }
      ]
    },
    {
      "cell_type": "code",
      "metadata": {
        "id": "bVNh0oauM6DG"
      },
      "source": [
        ""
      ],
      "execution_count": null,
      "outputs": []
    },
    {
      "cell_type": "code",
      "metadata": {
        "id": "4K7B8S82M3o7"
      },
      "source": [
        ""
      ],
      "execution_count": null,
      "outputs": []
    }
  ]
}