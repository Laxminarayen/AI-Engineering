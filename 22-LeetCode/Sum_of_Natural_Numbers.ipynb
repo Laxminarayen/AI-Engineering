{
  "nbformat": 4,
  "nbformat_minor": 0,
  "metadata": {
    "colab": {
      "name": "Sum of Natural Numbers.ipynb",
      "provenance": [],
      "authorship_tag": "ABX9TyOMfJtl5dRGjkYp4twlwcnl",
      "include_colab_link": true
    },
    "kernelspec": {
      "name": "python3",
      "display_name": "Python 3"
    }
  },
  "cells": [
    {
      "cell_type": "markdown",
      "metadata": {
        "id": "view-in-github",
        "colab_type": "text"
      },
      "source": [
        "<a href=\"https://colab.research.google.com/github/plthiyagu/Personnel/blob/master/Sum_of_Natural_Numbers.ipynb\" target=\"_parent\"><img src=\"https://colab.research.google.com/assets/colab-badge.svg\" alt=\"Open In Colab\"/></a>"
      ]
    },
    {
      "cell_type": "code",
      "metadata": {
        "id": "08DaQogcVBNS",
        "colab_type": "code",
        "colab": {}
      },
      "source": [
        "def add_natural(x):\n",
        "  if(x==1):\n",
        "    return 1\n",
        "  return (x+add_natural(x-1))"
      ],
      "execution_count": 0,
      "outputs": []
    },
    {
      "cell_type": "code",
      "metadata": {
        "id": "37uorQEjVU8K",
        "colab_type": "code",
        "colab": {
          "base_uri": "https://localhost:8080/",
          "height": 51
        },
        "outputId": "506088b2-88ab-4f31-d99a-29ac85c6af2c"
      },
      "source": [
        "num= int(input(\"sum of how many natural numbers :\"))\n",
        "sum= add_natural(num)\n",
        "print(\"sum is\",sum)"
      ],
      "execution_count": 2,
      "outputs": [
        {
          "output_type": "stream",
          "text": [
            "sum of how many natural numbers :5\n",
            "sum is 15\n"
          ],
          "name": "stdout"
        }
      ]
    },
    {
      "cell_type": "markdown",
      "metadata": {
        "id": "4S63otO6VrR5",
        "colab_type": "text"
      },
      "source": [
        "5 + add_natural(4) : First Iteration\n",
        "4+ add_natural(3) : Second Iteration\n",
        "3 + add_natural(2) : Third Iteration\n",
        "2 + add_natural(1) : Fourth Iteration\n",
        "                   :(stopping condition met)\n",
        "\n",
        "Hence (5+4+3+2+1) 15 is returned"
      ]
    }
  ]
}