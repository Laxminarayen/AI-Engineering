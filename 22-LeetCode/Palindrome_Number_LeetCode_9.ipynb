{
  "nbformat": 4,
  "nbformat_minor": 0,
  "metadata": {
    "colab": {
      "name": " Palindrome Number LeetCode 9.ipynb",
      "provenance": [],
      "authorship_tag": "ABX9TyMS/uehHYl14XzfB2fK5X5Z",
      "include_colab_link": true
    },
    "kernelspec": {
      "name": "python3",
      "display_name": "Python 3"
    },
    "language_info": {
      "name": "python"
    }
  },
  "cells": [
    {
      "cell_type": "markdown",
      "metadata": {
        "id": "view-in-github",
        "colab_type": "text"
      },
      "source": [
        "<a href=\"https://colab.research.google.com/github/plthiyagu/AI-Engineering/blob/master/22-LeetCode/Palindrome_Number_LeetCode_9.ipynb\" target=\"_parent\"><img src=\"https://colab.research.google.com/assets/colab-badge.svg\" alt=\"Open In Colab\"/></a>"
      ]
    },
    {
      "cell_type": "code",
      "metadata": {
        "id": "8ttQIboqf-r7"
      },
      "source": [
        "def isPalindrome( x):\n",
        "    \"\"\"\n",
        "    :type x: int\n",
        "    :rtype: bool\n",
        "    \"\"\"\n",
        "    \n",
        "    if x < 0:\n",
        "        return False\n",
        "\n",
        "    reverse = 0\n",
        "    original = x\n",
        "    \n",
        "    while x > 0:\n",
        "        reverse = reverse * 10 + x % 10\n",
        "        x = x // 10\n",
        "        \n",
        "    return reverse == original"
      ],
      "execution_count": 2,
      "outputs": []
    },
    {
      "cell_type": "code",
      "metadata": {
        "colab": {
          "base_uri": "https://localhost:8080/"
        },
        "id": "OTPPJeDqgDX_",
        "outputId": "1192a6af-ba2d-4688-e14b-0c15663e53de"
      },
      "source": [
        "x=121\n",
        "isPalindrome( x)"
      ],
      "execution_count": 3,
      "outputs": [
        {
          "output_type": "execute_result",
          "data": {
            "text/plain": [
              "True"
            ]
          },
          "metadata": {
            "tags": []
          },
          "execution_count": 3
        }
      ]
    },
    {
      "cell_type": "code",
      "metadata": {
        "id": "WOg0j8RsgKRo"
      },
      "source": [
        ""
      ],
      "execution_count": null,
      "outputs": []
    }
  ]
}