{
  "nbformat": 4,
  "nbformat_minor": 0,
  "metadata": {
    "colab": {
      "name": "Count Characters.ipynb",
      "provenance": [],
      "authorship_tag": "ABX9TyMNuZUeCWCbAQfcIUawLYy5",
      "include_colab_link": true
    },
    "kernelspec": {
      "name": "python3",
      "display_name": "Python 3"
    },
    "language_info": {
      "name": "python"
    }
  },
  "cells": [
    {
      "cell_type": "markdown",
      "metadata": {
        "id": "view-in-github",
        "colab_type": "text"
      },
      "source": [
        "<a href=\"https://colab.research.google.com/github/plthiyagu/AI-Engineering/blob/master/22-LeetCode/Count_Characters.ipynb\" target=\"_parent\"><img src=\"https://colab.research.google.com/assets/colab-badge.svg\" alt=\"Open In Colab\"/></a>"
      ]
    },
    {
      "cell_type": "code",
      "metadata": {
        "id": "ytESITdD8qON"
      },
      "source": [
        "def count_characters(s):\n",
        "  count= {}\n",
        "  for i in s:\n",
        "    if i in count:\n",
        "      count[i] +=1\n",
        "    else:\n",
        "      count[i] = 1\n",
        "  print(count)"
      ],
      "execution_count": 4,
      "outputs": []
    },
    {
      "cell_type": "code",
      "metadata": {
        "colab": {
          "base_uri": "https://localhost:8080/"
        },
        "id": "yyquGmkn9Azv",
        "outputId": "85c91d2a-1fc7-4307-abad-31810a5c2df9"
      },
      "source": [
        "print(count_characters(\"Thiyagarajan Palaniyappan\"))"
      ],
      "execution_count": 5,
      "outputs": [
        {
          "output_type": "stream",
          "text": [
            "{'T': 1, 'h': 1, 'i': 2, 'y': 2, 'a': 8, 'g': 1, 'r': 1, 'j': 1, 'n': 3, ' ': 1, 'P': 1, 'l': 1, 'p': 2}\n",
            "None\n"
          ],
          "name": "stdout"
        }
      ]
    },
    {
      "cell_type": "code",
      "metadata": {
        "id": "GZP9YwuP9Wjo"
      },
      "source": [
        ""
      ],
      "execution_count": null,
      "outputs": []
    },
    {
      "cell_type": "code",
      "metadata": {
        "id": "BSZbtSHU9NME"
      },
      "source": [
        ""
      ],
      "execution_count": null,
      "outputs": []
    }
  ]
}