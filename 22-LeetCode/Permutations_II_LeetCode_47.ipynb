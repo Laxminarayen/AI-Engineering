{
  "nbformat": 4,
  "nbformat_minor": 0,
  "metadata": {
    "colab": {
      "name": "Permutations II LeetCode 47.ipynb",
      "provenance": [],
      "collapsed_sections": [],
      "authorship_tag": "ABX9TyN3qTdg4akFdnNhPdoE9p/M",
      "include_colab_link": true
    },
    "kernelspec": {
      "name": "python3",
      "display_name": "Python 3"
    },
    "language_info": {
      "name": "python"
    }
  },
  "cells": [
    {
      "cell_type": "markdown",
      "metadata": {
        "id": "view-in-github",
        "colab_type": "text"
      },
      "source": [
        "<a href=\"https://colab.research.google.com/github/plthiyagu/AI-Engineering/blob/master/22-LeetCode/Permutations_II_LeetCode_47.ipynb\" target=\"_parent\"><img src=\"https://colab.research.google.com/assets/colab-badge.svg\" alt=\"Open In Colab\"/></a>"
      ]
    },
    {
      "cell_type": "code",
      "metadata": {
        "id": "B5YFgUZQicKJ"
      },
      "source": [
        "def permuteUnique(nums):\n",
        "    \"\"\"\n",
        "    :type nums: List[int]\n",
        "    :rtype: List[List[int]]\n",
        "    \"\"\"\n",
        "    \n",
        "    results=[]\n",
        "    nums= sorted(nums)        \n",
        "    visited = set()\n",
        "    \n",
        "    helper(results, nums, [], 0, visited)\n",
        "            \n",
        "    return results\n",
        "\n",
        "def helper(results, nums, permutation, start, visited):\n",
        "    if len(permutation) == len(nums) and permutation not in results:\n",
        "        results.append(list(permutation))\n",
        "        return\n",
        "    \n",
        "    for i in range(len(nums)):\n",
        "        if i in visited:\n",
        "            continue\n",
        "        \n",
        "        visited.add(i)\n",
        "        permutation.append(nums[i])\n",
        "        \n",
        "        helper(results, nums, permutation, start, visited)\n",
        "        \n",
        "        permutation.pop()\n",
        "        visited.remove(i)"
      ],
      "execution_count": 1,
      "outputs": []
    },
    {
      "cell_type": "code",
      "metadata": {
        "colab": {
          "base_uri": "https://localhost:8080/"
        },
        "id": "1-BW5_3FioZY",
        "outputId": "0525e82c-8304-4dd4-974e-babe7c5b80ae"
      },
      "source": [
        "nums=[1,1,2]\n",
        "permuteUnique(nums)"
      ],
      "execution_count": 2,
      "outputs": [
        {
          "output_type": "execute_result",
          "data": {
            "text/plain": [
              "[[1, 1, 2], [1, 2, 1], [2, 1, 1]]"
            ]
          },
          "metadata": {
            "tags": []
          },
          "execution_count": 2
        }
      ]
    },
    {
      "cell_type": "code",
      "metadata": {
        "id": "OlRcQbR3iyl2"
      },
      "source": [
        ""
      ],
      "execution_count": null,
      "outputs": []
    }
  ]
}