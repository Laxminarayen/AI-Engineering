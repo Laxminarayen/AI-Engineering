{
  "nbformat": 4,
  "nbformat_minor": 0,
  "metadata": {
    "colab": {
      "name": "Daily Temperatures - Monotonic Stack - Leetcode 739 .ipynb",
      "provenance": [],
      "collapsed_sections": [],
      "authorship_tag": "ABX9TyNJKE38uKpc/XFZF9/XIR6p",
      "include_colab_link": true
    },
    "kernelspec": {
      "name": "python3",
      "display_name": "Python 3"
    },
    "language_info": {
      "name": "python"
    }
  },
  "cells": [
    {
      "cell_type": "markdown",
      "metadata": {
        "id": "view-in-github",
        "colab_type": "text"
      },
      "source": [
        "<a href=\"https://colab.research.google.com/github/plthiyagu/AI-Engineering/blob/master/22-LeetCode/Daily_Temperatures_Monotonic_Stack_Leetcode_739_.ipynb\" target=\"_parent\"><img src=\"https://colab.research.google.com/assets/colab-badge.svg\" alt=\"Open In Colab\"/></a>"
      ]
    },
    {
      "cell_type": "markdown",
      "metadata": {
        "id": "8XDx2fiy44EW"
      },
      "source": [
        "https://www.youtube.com/watch?v=cTBiBSnjO3c"
      ]
    },
    {
      "cell_type": "code",
      "metadata": {
        "id": "L-5kKoEr2GJm"
      },
      "source": [
        "def dailyTemperatures( temperatures):\n",
        "    \"\"\"\n",
        "    :type temperatures: List[int]\n",
        "    :rtype: List[int]\n",
        "    \"\"\"\n",
        "    \n",
        "    res= [0]* len(temperatures)\n",
        "    stack = []\n",
        "    \n",
        "    \n",
        "    for i, t in enumerate(temperatures):\n",
        "        while stack and t > stack[-1][0]:\n",
        "            stackT,stackInd= stack.pop()\n",
        "            res[stackInd]= (i - stackInd)\n",
        "        stack.append([t,i])\n",
        "    return res"
      ],
      "execution_count": 3,
      "outputs": []
    },
    {
      "cell_type": "code",
      "metadata": {
        "colab": {
          "base_uri": "https://localhost:8080/"
        },
        "id": "3mBEyXdQBrIJ",
        "outputId": "53e54a96-70e8-4b61-9b37-df5fcb0e3156"
      },
      "source": [
        "temperatures=[73,74,75,71,69,72,76,73]\n",
        "dailyTemperatures( temperatures)"
      ],
      "execution_count": 4,
      "outputs": [
        {
          "output_type": "execute_result",
          "data": {
            "text/plain": [
              "[1, 1, 4, 2, 1, 1, 0, 0]"
            ]
          },
          "metadata": {
            "tags": []
          },
          "execution_count": 4
        }
      ]
    },
    {
      "cell_type": "code",
      "metadata": {
        "id": "97u3AdAPBylW"
      },
      "source": [
        ""
      ],
      "execution_count": null,
      "outputs": []
    },
    {
      "cell_type": "code",
      "metadata": {
        "id": "NLarwTu7BpxH"
      },
      "source": [
        ""
      ],
      "execution_count": null,
      "outputs": []
    }
  ]
}