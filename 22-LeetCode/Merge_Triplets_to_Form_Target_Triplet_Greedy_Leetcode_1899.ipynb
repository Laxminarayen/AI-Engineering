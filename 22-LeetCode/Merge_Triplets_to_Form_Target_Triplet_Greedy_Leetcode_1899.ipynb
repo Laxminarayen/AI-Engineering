{
  "nbformat": 4,
  "nbformat_minor": 0,
  "metadata": {
    "colab": {
      "name": "Merge Triplets to Form Target Triplet - Greedy - Leetcode 1899.ipynb",
      "provenance": [],
      "collapsed_sections": [],
      "authorship_tag": "ABX9TyMyH6kx7fNMfEogipp3l9PP",
      "include_colab_link": true
    },
    "kernelspec": {
      "name": "python3",
      "display_name": "Python 3"
    },
    "language_info": {
      "name": "python"
    }
  },
  "cells": [
    {
      "cell_type": "markdown",
      "metadata": {
        "id": "view-in-github",
        "colab_type": "text"
      },
      "source": [
        "<a href=\"https://colab.research.google.com/github/plthiyagu/AI-Engineering/blob/master/22-LeetCode/Merge_Triplets_to_Form_Target_Triplet_Greedy_Leetcode_1899.ipynb\" target=\"_parent\"><img src=\"https://colab.research.google.com/assets/colab-badge.svg\" alt=\"Open In Colab\"/></a>"
      ]
    },
    {
      "cell_type": "markdown",
      "metadata": {
        "id": "qzrN0Z3TzSyz"
      },
      "source": [
        "https://www.youtube.com/watch?v=kShkQLQZ9K4"
      ]
    },
    {
      "cell_type": "code",
      "metadata": {
        "id": "zb31D3u3zPx8"
      },
      "source": [
        "def mergeTriplets( triplets, target):\n",
        "    \"\"\"\n",
        "    :type triplets: List[List[int]]\n",
        "    :type target: List[int]\n",
        "    :rtype: bool\n",
        "    \"\"\"\n",
        "    \n",
        "    good=set()\n",
        "    \n",
        "    for t in triplets:\n",
        "        \n",
        "        if t[0] > target[0] or t[1] > target[1] or t[2] > target[2]:\n",
        "            continue\n",
        "        for i,v in enumerate(t):\n",
        "            if v == target[i]:\n",
        "                good.add(i)\n",
        "    return len(good)==3"
      ],
      "execution_count": 3,
      "outputs": []
    },
    {
      "cell_type": "code",
      "metadata": {
        "colab": {
          "base_uri": "https://localhost:8080/"
        },
        "id": "NXKRQot9zahF",
        "outputId": "e9d16239-9f44-44ca-cceb-4c39973eda64"
      },
      "source": [
        "triplets=[[2,5,3],[1,8,4],[1,7,5]]\n",
        "target=[2,7,5]\n",
        "mergeTriplets( triplets, target)"
      ],
      "execution_count": 4,
      "outputs": [
        {
          "output_type": "execute_result",
          "data": {
            "text/plain": [
              "True"
            ]
          },
          "metadata": {
            "tags": []
          },
          "execution_count": 4
        }
      ]
    },
    {
      "cell_type": "code",
      "metadata": {
        "id": "aR6viLhCzkaM"
      },
      "source": [
        ""
      ],
      "execution_count": null,
      "outputs": []
    }
  ]
}