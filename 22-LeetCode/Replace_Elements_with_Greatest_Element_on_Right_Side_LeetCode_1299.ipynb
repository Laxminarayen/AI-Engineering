{
  "nbformat": 4,
  "nbformat_minor": 0,
  "metadata": {
    "colab": {
      "name": " Replace Elements with Greatest Element on Right Side LeetCode 1299.ipynb",
      "provenance": [],
      "authorship_tag": "ABX9TyOqIHRHL+y2n4Q9tN5bzBIa",
      "include_colab_link": true
    },
    "kernelspec": {
      "name": "python3",
      "display_name": "Python 3"
    },
    "language_info": {
      "name": "python"
    }
  },
  "cells": [
    {
      "cell_type": "markdown",
      "metadata": {
        "id": "view-in-github",
        "colab_type": "text"
      },
      "source": [
        "<a href=\"https://colab.research.google.com/github/plthiyagu/AI-Engineering/blob/master/22-LeetCode/Replace_Elements_with_Greatest_Element_on_Right_Side_LeetCode_1299.ipynb\" target=\"_parent\"><img src=\"https://colab.research.google.com/assets/colab-badge.svg\" alt=\"Open In Colab\"/></a>"
      ]
    },
    {
      "cell_type": "code",
      "metadata": {
        "id": "9IdTSPcm7Z3D"
      },
      "source": [
        "def replaceElements(arr):\n",
        "    \"\"\"\n",
        "    :type arr: List[int]\n",
        "    :rtype: List[int]\n",
        "    \"\"\"\n",
        "    rightMax=-1\n",
        "    \n",
        "    for i in range(len(arr)-1,-1,-1):\n",
        "        newMax=max(rightMax,arr[i])\n",
        "        arr[i]=rightMax\n",
        "        rightMax=newMax\n",
        "    return arr"
      ],
      "execution_count": 1,
      "outputs": []
    },
    {
      "cell_type": "code",
      "metadata": {
        "colab": {
          "base_uri": "https://localhost:8080/"
        },
        "id": "Z8SbH7Fh-iOJ",
        "outputId": "f0ff7e05-6d23-4db2-cf5d-268e8f9dc108"
      },
      "source": [
        "arr=[17,18,5,4,6,1]\n",
        "replaceElements(arr)"
      ],
      "execution_count": 2,
      "outputs": [
        {
          "output_type": "execute_result",
          "data": {
            "text/plain": [
              "[18, 6, 6, 6, 1, -1]"
            ]
          },
          "metadata": {
            "tags": []
          },
          "execution_count": 2
        }
      ]
    },
    {
      "cell_type": "code",
      "metadata": {
        "id": "oKYn1TIj-usv"
      },
      "source": [
        ""
      ],
      "execution_count": null,
      "outputs": []
    }
  ]
}