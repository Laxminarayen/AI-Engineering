{
  "nbformat": 4,
  "nbformat_minor": 0,
  "metadata": {
    "colab": {
      "name": "List Filtering CodeWar.ipynb",
      "provenance": [],
      "collapsed_sections": [],
      "authorship_tag": "ABX9TyOzlG47KbX6utsmXbFcPbvz",
      "include_colab_link": true
    },
    "kernelspec": {
      "name": "python3",
      "display_name": "Python 3"
    },
    "language_info": {
      "name": "python"
    }
  },
  "cells": [
    {
      "cell_type": "markdown",
      "metadata": {
        "id": "view-in-github",
        "colab_type": "text"
      },
      "source": [
        "<a href=\"https://colab.research.google.com/github/plthiyagu/AI-Engineering/blob/master/22-LeetCode/List_Filtering_CodeWar.ipynb\" target=\"_parent\"><img src=\"https://colab.research.google.com/assets/colab-badge.svg\" alt=\"Open In Colab\"/></a>"
      ]
    },
    {
      "cell_type": "code",
      "metadata": {
        "id": "n8CPSc4WHFp5"
      },
      "source": [
        "def filter_list(l):\n",
        "  'return a new list with the strings filtered out'\n",
        "  return [i for i in l if not isinstance(i, str)]"
      ],
      "execution_count": 3,
      "outputs": []
    },
    {
      "cell_type": "code",
      "metadata": {
        "colab": {
          "base_uri": "https://localhost:8080/"
        },
        "id": "03eEqB7MHGo5",
        "outputId": "688b3d5c-b5dc-4a46-fa01-f9fd3a344b81"
      },
      "source": [
        "filter_list([1,2,'a','b'])"
      ],
      "execution_count": 10,
      "outputs": [
        {
          "output_type": "execute_result",
          "data": {
            "text/plain": [
              "[1, 2]"
            ]
          },
          "metadata": {
            "tags": []
          },
          "execution_count": 10
        }
      ]
    },
    {
      "cell_type": "code",
      "metadata": {
        "id": "_lJke4_sHhZt"
      },
      "source": [
        "def filter_list(l):\n",
        "  return filter(lambda x: not isinstance(x, basestring), l)"
      ],
      "execution_count": 11,
      "outputs": []
    },
    {
      "cell_type": "code",
      "metadata": {
        "id": "erJ6_zQAHVhb"
      },
      "source": [
        "def filter_list(l):\n",
        "    return filter(lambda x: not type(x) is str, l)"
      ],
      "execution_count": 8,
      "outputs": []
    },
    {
      "cell_type": "code",
      "metadata": {
        "id": "rZz6kGXgHcWs"
      },
      "source": [
        "def filter_list(l):\n",
        "  'return a new list with the strings filtered out'\n",
        "  return [e for e in l if type(e) is int]"
      ],
      "execution_count": 9,
      "outputs": []
    },
    {
      "cell_type": "code",
      "metadata": {
        "id": "Xh5xLuLmGxdp"
      },
      "source": [
        "def filter_list(l):\n",
        "    new_list = []\n",
        "    for x in l:\n",
        "        if type(x) == int:\n",
        "            new_list.append(x)\n",
        "    return new_list"
      ],
      "execution_count": 1,
      "outputs": []
    },
    {
      "cell_type": "code",
      "metadata": {
        "colab": {
          "base_uri": "https://localhost:8080/"
        },
        "id": "EOECRgwUGz2q",
        "outputId": "4b84f721-d6c3-4b91-8a4e-898cb40fb348"
      },
      "source": [
        "filter_list([1,2,'a','b'])"
      ],
      "execution_count": 2,
      "outputs": [
        {
          "output_type": "execute_result",
          "data": {
            "text/plain": [
              "[1, 2]"
            ]
          },
          "metadata": {
            "tags": []
          },
          "execution_count": 2
        }
      ]
    },
    {
      "cell_type": "code",
      "metadata": {
        "id": "-2OhDNpAG7n-"
      },
      "source": [
        "def filter_list(l):\n",
        "  'return a new list with the strings filtered out'\n",
        "  return [x for x in l if type(x) is not str]"
      ],
      "execution_count": 5,
      "outputs": []
    },
    {
      "cell_type": "code",
      "metadata": {
        "id": "J2aQwW0gHN3S"
      },
      "source": [
        "def filter_list(l):\n",
        "  'return a new list with the strings filtered out'\n",
        "  return [e for e in l if isinstance(e, int)]"
      ],
      "execution_count": 6,
      "outputs": []
    },
    {
      "cell_type": "code",
      "metadata": {
        "id": "iYNwUZtvHQo6"
      },
      "source": [
        ""
      ],
      "execution_count": null,
      "outputs": []
    }
  ]
}