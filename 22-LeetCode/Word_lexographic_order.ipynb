{
  "nbformat": 4,
  "nbformat_minor": 0,
  "metadata": {
    "colab": {
      "name": "Word lexographic order.ipynb",
      "provenance": [],
      "collapsed_sections": [],
      "authorship_tag": "ABX9TyO0WZHYjoEv/XfYYzxIUXTz",
      "include_colab_link": true
    },
    "kernelspec": {
      "name": "python3",
      "display_name": "Python 3"
    }
  },
  "cells": [
    {
      "cell_type": "markdown",
      "metadata": {
        "id": "view-in-github",
        "colab_type": "text"
      },
      "source": [
        "<a href=\"https://colab.research.google.com/github/plthiyagu/Personnel/blob/master/Word_lexographic_order.ipynb\" target=\"_parent\"><img src=\"https://colab.research.google.com/assets/colab-badge.svg\" alt=\"Open In Colab\"/></a>"
      ]
    },
    {
      "cell_type": "markdown",
      "metadata": {
        "id": "JYocZD9z0mhU",
        "colab_type": "text"
      },
      "source": [
        "Given two sets words [\"cat\", \"bat\", \"mat\" ) ordering  = [c,b,a,t] Return TRUE when the words in words[] are sorted in lexographic order as in ordering[]\n"
      ]
    },
    {
      "cell_type": "code",
      "metadata": {
        "id": "6vlb7xsI0oqi",
        "colab_type": "code",
        "colab": {}
      },
      "source": [
        "word = \"cat\"\n",
        "ordering = ['c', 'b', 'a', 't']"
      ],
      "execution_count": 0,
      "outputs": []
    },
    {
      "cell_type": "code",
      "metadata": {
        "id": "8GRNAsFy0zlM",
        "colab_type": "code",
        "colab": {}
      },
      "source": [
        "def check_ordering(word, ordering):\n",
        "  \"\"\"Recursive approach O(len(ordering))\"\"\"\n",
        "  # Base cases\n",
        "  if not word:\n",
        "    return True\n",
        "    # Recursion\n",
        "  else:\n",
        "    letter = word.pop(0)\n",
        "    print(letter)\n",
        "    for char in ordering:\n",
        "      if letter == char:\n",
        "        index = ordering.index(char)\n",
        "        print(ordering[index:])\n",
        "        return check_ordering(word, ordering[index:])\n",
        "  return False\n"
      ],
      "execution_count": 0,
      "outputs": []
    },
    {
      "cell_type": "code",
      "metadata": {
        "id": "wiiBtmg31e0F",
        "colab_type": "code",
        "colab": {
          "base_uri": "https://localhost:8080/",
          "height": 136
        },
        "outputId": "cbc3d8ef-a359-4e9c-ff33-9e1bcc67943c"
      },
      "source": [
        "print(check_ordering(list(word), ordering))"
      ],
      "execution_count": 7,
      "outputs": [
        {
          "output_type": "stream",
          "text": [
            "c\n",
            "['c', 'b', 'a', 't']\n",
            "a\n",
            "['a', 't']\n",
            "t\n",
            "['t']\n",
            "True\n"
          ],
          "name": "stdout"
        }
      ]
    },
    {
      "cell_type": "code",
      "metadata": {
        "id": "8_RCwAtr1hQS",
        "colab_type": "code",
        "colab": {}
      },
      "source": [
        ""
      ],
      "execution_count": 0,
      "outputs": []
    }
  ]
}