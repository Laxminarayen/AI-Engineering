{
  "nbformat": 4,
  "nbformat_minor": 0,
  "metadata": {
    "colab": {
      "name": "11 Container With Most Water LeetCode.ipynb",
      "provenance": [],
      "authorship_tag": "ABX9TyOyYLi9tqgzDpH82HKT9MP7",
      "include_colab_link": true
    },
    "kernelspec": {
      "name": "python3",
      "display_name": "Python 3"
    },
    "language_info": {
      "name": "python"
    }
  },
  "cells": [
    {
      "cell_type": "markdown",
      "metadata": {
        "id": "view-in-github",
        "colab_type": "text"
      },
      "source": [
        "<a href=\"https://colab.research.google.com/github/plthiyagu/AI-Engineering/blob/master/15-LeetCode/11_Container_With_Most_Water_LeetCode.ipynb\" target=\"_parent\"><img src=\"https://colab.research.google.com/assets/colab-badge.svg\" alt=\"Open In Colab\"/></a>"
      ]
    },
    {
      "cell_type": "code",
      "metadata": {
        "id": "4GSG_C04IAR_"
      },
      "source": [
        "def maxArea( height):\n",
        "    \"\"\"\n",
        "    :type height: List[int]\n",
        "    :rtype: int\n",
        "    \"\"\"\n",
        "    max_area, i, j = 0, 0, len(height) - 1\n",
        "    while i < j:\n",
        "        max_area = max(max_area, min(height[i], height[j]) * (j - i))\n",
        "        if height[i] < height[j]:\n",
        "            i += 1\n",
        "        else:\n",
        "            j -= 1\n",
        "    return max_area"
      ],
      "execution_count": 2,
      "outputs": []
    },
    {
      "cell_type": "code",
      "metadata": {
        "colab": {
          "base_uri": "https://localhost:8080/"
        },
        "id": "5NmT202kIHoe",
        "outputId": "7a9912dd-d15e-4144-e1ba-0189129941f0"
      },
      "source": [
        "height =[1,8,6,2,5,4,8,3,7]\n",
        "maxArea( height)"
      ],
      "execution_count": 3,
      "outputs": [
        {
          "output_type": "execute_result",
          "data": {
            "text/plain": [
              "49"
            ]
          },
          "metadata": {
            "tags": []
          },
          "execution_count": 3
        }
      ]
    },
    {
      "cell_type": "code",
      "metadata": {
        "id": "eHTgSj0DIOxs"
      },
      "source": [
        ""
      ],
      "execution_count": null,
      "outputs": []
    }
  ]
}