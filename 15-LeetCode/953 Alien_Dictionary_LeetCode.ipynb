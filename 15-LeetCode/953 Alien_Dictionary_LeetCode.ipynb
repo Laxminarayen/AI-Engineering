{
  "nbformat": 4,
  "nbformat_minor": 0,
  "metadata": {
    "colab": {
      "name": "953 Alien Dictionary LeetCode .ipynb",
      "provenance": [],
      "authorship_tag": "ABX9TyND8USsAiv5wt3bk77qiWzq",
      "include_colab_link": true
    },
    "kernelspec": {
      "name": "python3",
      "display_name": "Python 3"
    },
    "language_info": {
      "name": "python"
    }
  },
  "cells": [
    {
      "cell_type": "markdown",
      "metadata": {
        "id": "view-in-github",
        "colab_type": "text"
      },
      "source": [
        "<a href=\"https://colab.research.google.com/github/plthiyagu/AI-Engineering/blob/master/15-LeetCode/953%20Alien_Dictionary_LeetCode.ipynb\" target=\"_parent\"><img src=\"https://colab.research.google.com/assets/colab-badge.svg\" alt=\"Open In Colab\"/></a>"
      ]
    },
    {
      "cell_type": "code",
      "metadata": {
        "id": "LmBJvrIGOj9Y"
      },
      "source": [
        "def isAlienSorted(words, order):\n",
        "    dic = {c: i for i, c in enumerate(order)}\n",
        "    for i in range(len(words) - 1):\n",
        "        word1 = words[i]\n",
        "        word2 = words[i + 1]\n",
        "        for k in range(min(len(word1), len(word2))):\n",
        "            if word1[k] != word2[k]:\n",
        "                if dic[word1[k]] > dic[word2[k]]:\n",
        "                    return False\n",
        "                break\n",
        "        else:\n",
        "            if len(word1) > len(word2):\n",
        "                return False\n",
        "    return True"
      ],
      "execution_count": 1,
      "outputs": []
    },
    {
      "cell_type": "code",
      "metadata": {
        "id": "2O_guPyXOsWc"
      },
      "source": [
        "\n",
        "isAlienSorted(words, order)"
      ],
      "execution_count": null,
      "outputs": []
    }
  ]
}