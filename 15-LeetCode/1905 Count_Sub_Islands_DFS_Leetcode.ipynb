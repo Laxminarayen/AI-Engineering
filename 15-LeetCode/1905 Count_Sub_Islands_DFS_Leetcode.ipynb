{
  "nbformat": 4,
  "nbformat_minor": 0,
  "metadata": {
    "colab": {
      "name": "Count Sub Islands - DFS - Leetcode 1905 - Python.ipynb",
      "provenance": [],
      "collapsed_sections": [],
      "authorship_tag": "ABX9TyN68MTOH21KyfNHtMk6TpOe",
      "include_colab_link": true
    },
    "kernelspec": {
      "name": "python3",
      "display_name": "Python 3"
    },
    "language_info": {
      "name": "python"
    }
  },
  "cells": [
    {
      "cell_type": "markdown",
      "metadata": {
        "id": "view-in-github",
        "colab_type": "text"
      },
      "source": [
        "<a href=\"https://colab.research.google.com/github/plthiyagu/AI-Engineering/blob/master/22-LeetCode/Count_Sub_Islands_DFS_Leetcode_1905_Python.ipynb\" target=\"_parent\"><img src=\"https://colab.research.google.com/assets/colab-badge.svg\" alt=\"Open In Colab\"/></a>"
      ]
    },
    {
      "cell_type": "code",
      "metadata": {
        "id": "wq_Fruqt_Vg-"
      },
      "source": [
        "def countSubIslands( grid1, grid2):\n",
        "  \"\"\"\n",
        "  :type grid1: List[List[int]]\n",
        "  :type grid2: List[List[int]]\n",
        "  :rtype: int\n",
        "  \"\"\"\n",
        "\n",
        "  ROWS,COLS= len(grid1), len(grid1[0])\n",
        "  visit = set()\n",
        "\n",
        "  def dfs(r,c):\n",
        "      if (r<0 or c <0 or r ==ROWS or c== COLS or \n",
        "          grid2[r][c]==0 or (r,c) in visit):\n",
        "          return True\n",
        "      \n",
        "      visit.add((r,c))\n",
        "      res= True\n",
        "      if grid1[r][c]==0:\n",
        "          res= False\n",
        "      res = dfs(r-1,c) and res\n",
        "      res = dfs(r+1,c) and res\n",
        "      res = dfs(r,c-1) and res\n",
        "      res = dfs(r,c+1) and res\n",
        "      \n",
        "      return res               \n",
        "      \n",
        "  count=0\n",
        "  for r in range(ROWS):\n",
        "      for c in range(COLS):\n",
        "          if grid2[r][c] and(r,c) not in visit and dfs(r,c):\n",
        "              count +=1\n",
        "  return count       "
      ],
      "execution_count": 2,
      "outputs": []
    },
    {
      "cell_type": "code",
      "metadata": {
        "colab": {
          "base_uri": "https://localhost:8080/"
        },
        "id": "ibxww1yNPyk1",
        "outputId": "108ce199-6e0d-4785-cf61-1e86b2174907"
      },
      "source": [
        "grid1=[[1,1,1,0,0],[0,1,1,1,1],[0,0,0,0,0],[1,0,0,0,0],[1,1,0,1,1]]\n",
        "grid2=[[1,1,1,0,0],[0,0,1,1,1],[0,1,0,0,0],[1,0,1,1,0],[0,1,0,1,0]]\n",
        "countSubIslands(grid1,grid2)"
      ],
      "execution_count": 4,
      "outputs": [
        {
          "output_type": "execute_result",
          "data": {
            "text/plain": [
              "3"
            ]
          },
          "metadata": {
            "tags": []
          },
          "execution_count": 4
        }
      ]
    },
    {
      "cell_type": "code",
      "metadata": {
        "id": "PX0_gv08QDy-"
      },
      "source": [
        ""
      ],
      "execution_count": null,
      "outputs": []
    },
    {
      "cell_type": "code",
      "metadata": {
        "id": "s4ojMIJ8PsUZ"
      },
      "source": [
        ""
      ],
      "execution_count": null,
      "outputs": []
    }
  ]
}