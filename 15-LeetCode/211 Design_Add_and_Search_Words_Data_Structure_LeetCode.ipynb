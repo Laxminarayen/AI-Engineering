{
  "nbformat": 4,
  "nbformat_minor": 0,
  "metadata": {
    "colab": {
      "name": "211 Design Add and Search Words Data Structure LeetCode.ipynb",
      "provenance": [],
      "authorship_tag": "ABX9TyOxWa/ttOirrvaMef+3Nlo2",
      "include_colab_link": true
    },
    "kernelspec": {
      "name": "python3",
      "display_name": "Python 3"
    },
    "language_info": {
      "name": "python"
    }
  },
  "cells": [
    {
      "cell_type": "markdown",
      "metadata": {
        "id": "view-in-github",
        "colab_type": "text"
      },
      "source": [
        "<a href=\"https://colab.research.google.com/github/plthiyagu/AI-Engineering/blob/master/15-LeetCode/211%20Design_Add_and_Search_Words_Data_Structure_LeetCode.ipynb\" target=\"_parent\"><img src=\"https://colab.research.google.com/assets/colab-badge.svg\" alt=\"Open In Colab\"/></a>"
      ]
    },
    {
      "cell_type": "code",
      "metadata": {
        "id": "Vvlm1Ubr5NJf"
      },
      "source": [
        "class WordDictionary(object):\n",
        "\n",
        "    def __init__(self):\n",
        "        \"\"\"\n",
        "        Initialize your data structure here.\n",
        "        \"\"\"\n",
        "        self.trie = {}\n",
        "\n",
        "\n",
        "    def addWord(self, word):\n",
        "        \"\"\"\n",
        "        :type word: str\n",
        "        :rtype: None\n",
        "        \"\"\"\n",
        "        cur = self.trie\n",
        "        for c in word:\n",
        "            if c not in cur:\n",
        "                cur[c] = {}\n",
        "            cur = cur[c]\n",
        "        cur['#'] = True\n",
        "\n",
        "\n",
        "    def search(self, word):\n",
        "        \"\"\"\n",
        "        :type word: str\n",
        "        :rtype: bool\n",
        "        \"\"\"\n",
        "        return self.dfs(self.trie, word, 0)\n",
        "    \n",
        "    def dfs(self, node, word, i):\n",
        "        if i == len(word):\n",
        "            return '#' in node\n",
        "        if word[i] == '.':\n",
        "            for child in node:\n",
        "                if child != '#' and self.dfs(node[child], word, i + 1):\n",
        "                    return True\n",
        "            return False\n",
        "        \n",
        "        if word[i] not in node:\n",
        "            return False\n",
        "        return self.dfs(node[word[i]], word, i + 1)\n",
        "\n",
        "\n",
        "\n",
        "# Your WordDictionary object will be instantiated and called as such:\n",
        "# obj = WordDictionary()\n",
        "# obj.addWord(word)\n",
        "# param_2 = obj.search(word)"
      ],
      "execution_count": 1,
      "outputs": []
    },
    {
      "cell_type": "code",
      "metadata": {
        "id": "ENY_WFbl5VhG"
      },
      "source": [
        "[\"WordDictionary\",\"addWord\",\"addWord\",\"addWord\",\"search\",\"search\",\"search\",\"search\"]\n",
        "[[],[\"bad\"],[\"dad\"],[\"mad\"],[\"pad\"],[\"bad\"],[\".ad\"],[\"b..\"]]"
      ],
      "execution_count": null,
      "outputs": []
    }
  ]
}