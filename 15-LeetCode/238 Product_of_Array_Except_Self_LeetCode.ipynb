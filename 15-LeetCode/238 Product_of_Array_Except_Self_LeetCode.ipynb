{
  "nbformat": 4,
  "nbformat_minor": 0,
  "metadata": {
    "colab": {
      "name": "Product of Array Except Self LeetCode 238.ipynb",
      "provenance": [],
      "authorship_tag": "ABX9TyOWMm2UvjUADH0pwLyabHnU",
      "include_colab_link": true
    },
    "kernelspec": {
      "name": "python3",
      "display_name": "Python 3"
    },
    "language_info": {
      "name": "python"
    }
  },
  "cells": [
    {
      "cell_type": "markdown",
      "metadata": {
        "id": "view-in-github",
        "colab_type": "text"
      },
      "source": [
        "<a href=\"https://colab.research.google.com/github/plthiyagu/AI-Engineering/blob/master/15-LeetCode/Product_of_Array_Except_Self_LeetCode_238.ipynb\" target=\"_parent\"><img src=\"https://colab.research.google.com/assets/colab-badge.svg\" alt=\"Open In Colab\"/></a>"
      ]
    },
    {
      "cell_type": "code",
      "metadata": {
        "id": "7QlwZeDe2YZA"
      },
      "source": [
        "def productExceptSelf( nums):\n",
        "    \"\"\"\n",
        "    :type nums: List[int]\n",
        "    :rtype: List[int]\n",
        "    \"\"\"\n",
        "    res = [1]\n",
        "    for num in nums:\n",
        "        res.append(res[-1]*num)\n",
        "    b = 1   \n",
        "    for i in range(len(nums)):\n",
        "        res[len(nums)-i-1] = res[len(nums)-i-1] * b\n",
        "        b = b* nums[len(nums)-i-1]\n",
        "        \n",
        "    return res[0:-1]\n"
      ],
      "execution_count": null,
      "outputs": []
    },
    {
      "cell_type": "code",
      "metadata": {
        "colab": {
          "base_uri": "https://localhost:8080/"
        },
        "id": "9TjLKLRa2bsK",
        "outputId": "e0a3f738-1262-49ac-f76d-3a6a967026d4"
      },
      "source": [
        "nums=[1,2,3,4]\n",
        "productExceptSelf( nums)"
      ],
      "execution_count": null,
      "outputs": [
        {
          "output_type": "execute_result",
          "data": {
            "text/plain": [
              "[24, 12, 8, 6]"
            ]
          },
          "metadata": {
            "tags": []
          },
          "execution_count": 2
        }
      ]
    },
    {
      "cell_type": "code",
      "metadata": {
        "id": "7N0NMnqN2iCh"
      },
      "source": [
        ""
      ],
      "execution_count": null,
      "outputs": []
    }
  ]
}