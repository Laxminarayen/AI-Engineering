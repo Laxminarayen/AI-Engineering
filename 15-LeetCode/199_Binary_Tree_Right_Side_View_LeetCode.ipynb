{
  "nbformat": 4,
  "nbformat_minor": 0,
  "metadata": {
    "colab": {
      "name": "199 Binary Tree Right Side View LeetCode.ipynb",
      "provenance": [],
      "authorship_tag": "ABX9TyNO8/zCAEgJohmSjdy4bRY7",
      "include_colab_link": true
    },
    "kernelspec": {
      "name": "python3",
      "display_name": "Python 3"
    },
    "language_info": {
      "name": "python"
    }
  },
  "cells": [
    {
      "cell_type": "markdown",
      "metadata": {
        "id": "view-in-github",
        "colab_type": "text"
      },
      "source": [
        "<a href=\"https://colab.research.google.com/github/plthiyagu/AI-Engineering/blob/master/15-LeetCode/199_Binary_Tree_Right_Side_View_LeetCode.ipynb\" target=\"_parent\"><img src=\"https://colab.research.google.com/assets/colab-badge.svg\" alt=\"Open In Colab\"/></a>"
      ]
    },
    {
      "cell_type": "code",
      "metadata": {
        "id": "MN__3iwfzNz_"
      },
      "source": [
        "# Definition for a binary tree node.\n",
        "# class TreeNode:\n",
        "#     def __init__(self, val=0, left=None, right=None):\n",
        "#         self.val = val\n",
        "#         self.left = left\n",
        "#         self.right = right\n",
        "class Solution:\n",
        "    def rightSideView(self, root: Optional[TreeNode]) -> List[int]:\n",
        "        def dfs(root, result_list, level):\n",
        "            if not root:\n",
        "                return\n",
        "            if root and level == len(result_list):\n",
        "                result_list.append(root.val)\n",
        "            dfs(root.right, result_list, level+1)\n",
        "            dfs(root.left, result_list, level+1)\n",
        "            return result_list\n",
        "        return dfs(root, [], 0)\n",
        "\n",
        "        "
      ],
      "execution_count": null,
      "outputs": []
    }
  ]
}