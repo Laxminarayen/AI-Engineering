{
  "nbformat": 4,
  "nbformat_minor": 0,
  "metadata": {
    "colab": {
      "name": "355 Design Twitter LeetCode.ipynb",
      "provenance": [],
      "collapsed_sections": [],
      "authorship_tag": "ABX9TyMSXdBf0enWfyIUJDe5tUYZ",
      "include_colab_link": true
    },
    "kernelspec": {
      "name": "python3",
      "display_name": "Python 3"
    },
    "language_info": {
      "name": "python"
    }
  },
  "cells": [
    {
      "cell_type": "markdown",
      "metadata": {
        "id": "view-in-github",
        "colab_type": "text"
      },
      "source": [
        "<a href=\"https://colab.research.google.com/github/plthiyagu/AI-Engineering/blob/master/15-LeetCode/355_Design_Twitter_LeetCode.ipynb\" target=\"_parent\"><img src=\"https://colab.research.google.com/assets/colab-badge.svg\" alt=\"Open In Colab\"/></a>"
      ]
    },
    {
      "cell_type": "code",
      "metadata": {
        "id": "hPMyE0v_mX4G"
      },
      "source": [
        "class Twitter:\n",
        "    feedSize = 10\n",
        "\n",
        "    def __init__(self):\n",
        "        self.followeeMap = defaultdict(set) # maps a person P to the set { Q | P follows Q }\n",
        "        self.tweetRankMap = defaultdict(list) # maps a person to the list of tweet ranks of him\n",
        "        self.tweetRankToID = dict() # maps a rank to the tweet id. Need this because higher tweet id does not guarantee it's later\n",
        "        self.nextTweetRank = 0\n",
        "\n",
        "        \n",
        "\n",
        "    def postTweet(self, userId: int, tweetId: int) -> None:\n",
        "        self.tweetRankMap[ userId ].append( self.nextTweetRank )\n",
        "        self.tweetRankToID[ self.nextTweetRank ] = tweetId\n",
        "        self.nextTweetRank += 1\n",
        "\n",
        "        # just to save time, not absolutely necessary\n",
        "        if len(self.tweetRankMap[ userId ]) > 2 * self.feedSize:\n",
        "            self.tweetRankMap[userId] = self.tweetRankMap[ userId ][-self.feedSize:]\n",
        "\n",
        "        \n",
        "\n",
        "    def getNewsFeed(self, userId: int) -> List[int]:\n",
        "        allTweetRanks = self.tweetRankMap[ userId ][-self.feedSize:]\n",
        "        for followeeId in self.followeeMap[ userId ]:\n",
        "            allTweetRanks.extend( self.tweetRankMap[ followeeId ][-self.feedSize:] )\n",
        "        allTweetRanks.sort()\n",
        "        newTweetRanks = allTweetRanks[-1:-self.feedSize-1:-1]\n",
        "\n",
        "        return [ self.tweetRankToID[r] for r in newTweetRanks ]\n",
        "\n",
        "        \n",
        "\n",
        "        \n",
        "\n",
        "    def follow(self, followerId: int, followeeId: int) -> None:\n",
        "        if followerId != followeeId:\n",
        "            self.followeeMap[ followerId ].add( followeeId )\n",
        "\n",
        "    def unfollow(self, followerId: int, followeeId: int) -> None:\n",
        "        if followeeId in self.followeeMap[ followerId ]:\n",
        "            self.followeeMap[ followerId ].remove( followeeId )\n",
        "\n",
        "        \n",
        "\n",
        "\n",
        "# Your Twitter object will be instantiated and called as such:\n",
        "# obj = Twitter()\n",
        "# obj.postTweet(userId,tweetId)\n",
        "# param_2 = obj.getNewsFeed(userId)\n",
        "# obj.follow(followerId,followeeId)\n",
        "# obj.unfollow(followerId,followeeId)"
      ],
      "execution_count": null,
      "outputs": []
    }
  ]
}