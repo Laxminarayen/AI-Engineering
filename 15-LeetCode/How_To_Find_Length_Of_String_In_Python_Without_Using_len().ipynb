{
  "nbformat": 4,
  "nbformat_minor": 0,
  "metadata": {
    "colab": {
      "name": "How To Find Length Of String In Python Without Using len().ipynb",
      "provenance": [],
      "authorship_tag": "ABX9TyPdLmfFFGktZAtqzah/Xlx6",
      "include_colab_link": true
    },
    "kernelspec": {
      "name": "python3",
      "display_name": "Python 3"
    },
    "language_info": {
      "name": "python"
    }
  },
  "cells": [
    {
      "cell_type": "markdown",
      "metadata": {
        "id": "view-in-github",
        "colab_type": "text"
      },
      "source": [
        "<a href=\"https://colab.research.google.com/github/plthiyagu/AI-Engineering/blob/master/AI-Engineering/How_To_Find_Length_Of_String_In_Python_Without_Using_len().ipynb\" target=\"_parent\"><img src=\"https://colab.research.google.com/assets/colab-badge.svg\" alt=\"Open In Colab\"/></a>"
      ]
    },
    {
      "cell_type": "code",
      "metadata": {
        "colab": {
          "base_uri": "https://localhost:8080/"
        },
        "id": "q238nGsCdJwr",
        "outputId": "1ef90198-6374-4de8-9279-12cd39df3655"
      },
      "source": [
        "msg = 'Hello'\n",
        "length = 0\n",
        "for i in msg:\n",
        "    length += 1\n",
        "print(length)"
      ],
      "execution_count": 1,
      "outputs": [
        {
          "output_type": "stream",
          "name": "stdout",
          "text": [
            "5\n"
          ]
        }
      ]
    },
    {
      "cell_type": "code",
      "metadata": {
        "id": "4ij9OL3DdObE"
      },
      "source": [
        ""
      ],
      "execution_count": null,
      "outputs": []
    }
  ]
}