{
  "nbformat": 4,
  "nbformat_minor": 0,
  "metadata": {
    "colab": {
      "name": "Word Break LeetCode 139.ipynb",
      "provenance": [],
      "collapsed_sections": [],
      "authorship_tag": "ABX9TyOXkHjgCHbmE6n5dIv1f/AC",
      "include_colab_link": true
    },
    "kernelspec": {
      "name": "python3",
      "display_name": "Python 3"
    },
    "language_info": {
      "name": "python"
    }
  },
  "cells": [
    {
      "cell_type": "markdown",
      "metadata": {
        "id": "view-in-github",
        "colab_type": "text"
      },
      "source": [
        "<a href=\"https://colab.research.google.com/github/plthiyagu/AI-Engineering/blob/master/22-LeetCode/Word_Break_LeetCode_139.ipynb\" target=\"_parent\"><img src=\"https://colab.research.google.com/assets/colab-badge.svg\" alt=\"Open In Colab\"/></a>"
      ]
    },
    {
      "cell_type": "code",
      "metadata": {
        "id": "sj3ED24sfXoL"
      },
      "source": [
        "def wordBreak(s, wordDict):\n",
        "  f = [False for i in range(len(s) + 1)]\n",
        "  f[0] = True\n",
        "\n",
        "  for i in range(len(s)):\n",
        "    for j in range(i, len(s)):\n",
        "        if f[i] and s[i:j + 1] in wordDict:\n",
        "            f[j + 1] = True\n",
        "\n",
        "  return f[len(s)]"
      ],
      "execution_count": 3,
      "outputs": []
    },
    {
      "cell_type": "code",
      "metadata": {
        "colab": {
          "base_uri": "https://localhost:8080/"
        },
        "id": "KExQmQLEfepa",
        "outputId": "4e7eecf9-e65e-4205-85a0-39ba27ec089f"
      },
      "source": [
        "s=\"leetcode\"\n",
        "wordDict=[\"leet\",\"code\"]\n",
        "wordBreak(s, wordDict)"
      ],
      "execution_count": 4,
      "outputs": [
        {
          "output_type": "execute_result",
          "data": {
            "text/plain": [
              "True"
            ]
          },
          "metadata": {
            "tags": []
          },
          "execution_count": 4
        }
      ]
    }
  ]
}