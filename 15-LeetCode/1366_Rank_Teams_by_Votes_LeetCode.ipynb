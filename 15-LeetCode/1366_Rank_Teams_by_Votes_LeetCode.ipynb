{
  "nbformat": 4,
  "nbformat_minor": 0,
  "metadata": {
    "colab": {
      "name": "1366 Rank Teams by Votes LeetCode.ipynb",
      "provenance": [],
      "authorship_tag": "ABX9TyOP/T3N/Ul0/Y0NRMzZHfwE",
      "include_colab_link": true
    },
    "kernelspec": {
      "name": "python3",
      "display_name": "Python 3"
    },
    "language_info": {
      "name": "python"
    }
  },
  "cells": [
    {
      "cell_type": "markdown",
      "metadata": {
        "id": "view-in-github",
        "colab_type": "text"
      },
      "source": [
        "<a href=\"https://colab.research.google.com/github/plthiyagu/AI-Engineering/blob/master/15-LeetCode/1366_Rank_Teams_by_Votes_LeetCode.ipynb\" target=\"_parent\"><img src=\"https://colab.research.google.com/assets/colab-badge.svg\" alt=\"Open In Colab\"/></a>"
      ]
    },
    {
      "cell_type": "code",
      "metadata": {
        "id": "1zOZXVQV7OTJ"
      },
      "source": [
        "from typing import List"
      ],
      "execution_count": 2,
      "outputs": []
    },
    {
      "cell_type": "code",
      "metadata": {
        "id": "60szbUFI6-3o"
      },
      "source": [
        "def rankTeams(votes: List[str]) -> str:\n",
        "    n = len(votes[0])\n",
        "    # create score[26][n+1]\n",
        "    score = [[0 for i in range(n+1)] for x in range(26)]\n",
        "    for vote in votes:\n",
        "        for i, v in enumerate(vote):\n",
        "            score[ord(v) - ord(\"A\")][i] += 1\n",
        "            score[ord(v) - ord(\"A\")][-1] = ord(\"Z\") - ord(v) + 1  # A:26 B:25 ··· sort based on it\n",
        "    score.sort(reverse=True)\n",
        "    ans = \"\"\n",
        "    for i in range(26):\n",
        "        if score[i][-1] != 0:\n",
        "            ans += chr(26 - score[i][-1] + 65)  # int to char\n",
        "    return ans"
      ],
      "execution_count": 3,
      "outputs": []
    },
    {
      "cell_type": "code",
      "metadata": {
        "colab": {
          "base_uri": "https://localhost:8080/",
          "height": 35
        },
        "id": "P5dXyHkS7DfA",
        "outputId": "15596dff-c2f3-4561-c1a3-1faa48c9e1c1"
      },
      "source": [
        "votes = [\"ABC\",\"ACB\",\"ABC\",\"ACB\",\"ACB\"]\n",
        "rankTeams(votes)"
      ],
      "execution_count": 4,
      "outputs": [
        {
          "output_type": "execute_result",
          "data": {
            "application/vnd.google.colaboratory.intrinsic+json": {
              "type": "string"
            },
            "text/plain": [
              "'ACB'"
            ]
          },
          "metadata": {},
          "execution_count": 4
        }
      ]
    },
    {
      "cell_type": "code",
      "metadata": {
        "id": "V_G2c5zH7Xs4"
      },
      "source": [
        ""
      ],
      "execution_count": null,
      "outputs": []
    }
  ]
}