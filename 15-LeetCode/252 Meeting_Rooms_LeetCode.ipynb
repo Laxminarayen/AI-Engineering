{
  "nbformat": 4,
  "nbformat_minor": 0,
  "metadata": {
    "colab": {
      "name": "252 Meeting Rooms LeetCode.ipynb",
      "provenance": [],
      "collapsed_sections": [],
      "authorship_tag": "ABX9TyN/mMSOsma5oAt/dkq57ZcQ",
      "include_colab_link": true
    },
    "kernelspec": {
      "name": "python3",
      "display_name": "Python 3"
    },
    "language_info": {
      "name": "python"
    }
  },
  "cells": [
    {
      "cell_type": "markdown",
      "metadata": {
        "id": "view-in-github",
        "colab_type": "text"
      },
      "source": [
        "<a href=\"https://colab.research.google.com/github/plthiyagu/AI-Engineering/blob/master/15-LeetCode/252%20Meeting_Rooms_LeetCode.ipynb\" target=\"_parent\"><img src=\"https://colab.research.google.com/assets/colab-badge.svg\" alt=\"Open In Colab\"/></a>"
      ]
    },
    {
      "cell_type": "code",
      "metadata": {
        "id": "SDGED--ZhgZH"
      },
      "source": [
        "def canAttendMeetings( intervals):\n",
        "        new_intervals = sorted(intervals, key=lambda x: x[0])\n",
        "        for i in range(1,len(new_intervals)):\n",
        "            if new_intervals[i-1][1] > new_intervals[i][0]:return False\n",
        "        return True"
      ],
      "execution_count": 1,
      "outputs": []
    },
    {
      "cell_type": "code",
      "metadata": {
        "colab": {
          "base_uri": "https://localhost:8080/"
        },
        "id": "KpWBg4VciVj2",
        "outputId": "619df27a-0bee-4471-fc98-2bd74b583518"
      },
      "source": [
        "intervals= [[0,30],[5,10],[15,20]]\n",
        "canAttendMeetings( intervals)"
      ],
      "execution_count": 2,
      "outputs": [
        {
          "output_type": "execute_result",
          "data": {
            "text/plain": [
              "False"
            ]
          },
          "metadata": {
            "tags": []
          },
          "execution_count": 2
        }
      ]
    },
    {
      "cell_type": "code",
      "metadata": {
        "colab": {
          "base_uri": "https://localhost:8080/"
        },
        "id": "shWNhsOLicaw",
        "outputId": "d65409dd-9806-439a-b3d0-792f84379162"
      },
      "source": [
        "intervals= [[7,10],[2,4]]\n",
        "canAttendMeetings( intervals)"
      ],
      "execution_count": 3,
      "outputs": [
        {
          "output_type": "execute_result",
          "data": {
            "text/plain": [
              "True"
            ]
          },
          "metadata": {
            "tags": []
          },
          "execution_count": 3
        }
      ]
    },
    {
      "cell_type": "markdown",
      "metadata": {
        "id": "fH-HSk2_ivSv"
      },
      "source": [
        "https://zhenyu0519.github.io/2020/07/12/lc252/"
      ]
    },
    {
      "cell_type": "markdown",
      "metadata": {
        "id": "stJ3Or_QivHm"
      },
      "source": [
        ""
      ]
    },
    {
      "cell_type": "code",
      "metadata": {
        "id": "CnPMFPeHinAW"
      },
      "source": [
        ""
      ],
      "execution_count": null,
      "outputs": []
    }
  ]
}