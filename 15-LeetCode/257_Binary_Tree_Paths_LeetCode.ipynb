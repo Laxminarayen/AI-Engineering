{
  "nbformat": 4,
  "nbformat_minor": 0,
  "metadata": {
    "colab": {
      "name": "257 Binary Tree Paths LeetCode.ipynb",
      "provenance": [],
      "authorship_tag": "ABX9TyM1F/zagJfnLNNbV2mKoTLd",
      "include_colab_link": true
    },
    "kernelspec": {
      "name": "python3",
      "display_name": "Python 3"
    },
    "language_info": {
      "name": "python"
    }
  },
  "cells": [
    {
      "cell_type": "markdown",
      "metadata": {
        "id": "view-in-github",
        "colab_type": "text"
      },
      "source": [
        "<a href=\"https://colab.research.google.com/github/plthiyagu/AI-Engineering/blob/master/15-LeetCode/257_Binary_Tree_Paths_LeetCode.ipynb\" target=\"_parent\"><img src=\"https://colab.research.google.com/assets/colab-badge.svg\" alt=\"Open In Colab\"/></a>"
      ]
    },
    {
      "cell_type": "code",
      "metadata": {
        "id": "9HoQlvtHrknw"
      },
      "source": [
        "# Definition for a binary tree node.\n",
        "# class TreeNode:\n",
        "#     def __init__(self, val=0, left=None, right=None):\n",
        "#         self.val = val\n",
        "#         self.left = left\n",
        "#         self.right = right\n",
        "class Solution:\n",
        "    def binaryTreePaths(self, root: Optional[TreeNode]) -> List[str]:\n",
        "        if root is None: return\n",
        "        if root.left is None and root.right is None:\n",
        "            return [str(root.val)]\n",
        "        l_path = self.binaryTreePaths(root.left)\n",
        "        r_path = self.binaryTreePaths(root.right)\n",
        "        left = [str(root.val)+\"->\"+node.val for node in l_path]\n",
        "        right = [str(root.val)+\"->\"+node.val for node in r_path]\n",
        "        return left+right"
      ],
      "execution_count": null,
      "outputs": []
    }
  ]
}