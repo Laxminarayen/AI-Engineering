{
  "nbformat": 4,
  "nbformat_minor": 0,
  "metadata": {
    "colab": {
      "name": "257 Binary Tree Paths LeetCode.ipynb",
      "provenance": [],
      "authorship_tag": "ABX9TyOGg9ax6IfVa6dhYBxOq7rH",
      "include_colab_link": true
    },
    "kernelspec": {
      "name": "python3",
      "display_name": "Python 3"
    },
    "language_info": {
      "name": "python"
    }
  },
  "cells": [
    {
      "cell_type": "markdown",
      "metadata": {
        "id": "view-in-github",
        "colab_type": "text"
      },
      "source": [
        "<a href=\"https://colab.research.google.com/github/plthiyagu/AI-Engineering/blob/master/15-LeetCode/257_Binary_Tree_Paths_LeetCode.ipynb\" target=\"_parent\"><img src=\"https://colab.research.google.com/assets/colab-badge.svg\" alt=\"Open In Colab\"/></a>"
      ]
    },
    {
      "cell_type": "code",
      "metadata": {
        "id": "9HoQlvtHrknw"
      },
      "source": [
        "# Definition for a binary tree node.\n",
        "# class TreeNode:\n",
        "#     def __init__(self, val=0, left=None, right=None):\n",
        "#         self.val = val\n",
        "#         self.left = left\n",
        "#         self.right = right\n",
        "class Solution:\n",
        "    def binaryTreePaths(self, root: Optional[TreeNode]) -> List[str]:\n",
        "        def paths(root, path, result):\n",
        "            if root.left is None and root.right is None:\n",
        "                result.append(path + str(root.val))\n",
        "            if root.left is not None:\n",
        "                paths(root.left, path + str(root.val) + '->', result)\n",
        "            if root.right is not None:\n",
        "                paths(root.right, path + str(root.val) + '->', result)\n",
        "\n",
        "        result = []\n",
        "        if root is not None:\n",
        "            paths(root, '', result)\n",
        "        return result"
      ],
      "execution_count": null,
      "outputs": []
    }
  ]
}