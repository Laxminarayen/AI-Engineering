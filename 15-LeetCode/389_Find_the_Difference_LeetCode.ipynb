{
  "nbformat": 4,
  "nbformat_minor": 0,
  "metadata": {
    "colab": {
      "name": "389  Find the Difference LeetCode.ipynb",
      "provenance": [],
      "authorship_tag": "ABX9TyPztRSCpjebHJCbDjpIeuUS",
      "include_colab_link": true
    },
    "kernelspec": {
      "name": "python3",
      "display_name": "Python 3"
    },
    "language_info": {
      "name": "python"
    }
  },
  "cells": [
    {
      "cell_type": "markdown",
      "metadata": {
        "id": "view-in-github",
        "colab_type": "text"
      },
      "source": [
        "<a href=\"https://colab.research.google.com/github/plthiyagu/AI-Engineering/blob/master/15-LeetCode/389_Find_the_Difference_LeetCode.ipynb\" target=\"_parent\"><img src=\"https://colab.research.google.com/assets/colab-badge.svg\" alt=\"Open In Colab\"/></a>"
      ]
    },
    {
      "cell_type": "code",
      "metadata": {
        "id": "OSg0nnV1tCvS"
      },
      "source": [
        "def findTheDifference( s: str, t: str) -> str:\n",
        "    result_ord = 0\n",
        "    for item in s:\n",
        "        result_ord ^= ord(item)\n",
        "    for item in t:\n",
        "        result_ord ^= ord(item)\n",
        "    return chr(result_ord)    "
      ],
      "execution_count": 5,
      "outputs": []
    },
    {
      "cell_type": "code",
      "metadata": {
        "colab": {
          "base_uri": "https://localhost:8080/",
          "height": 35
        },
        "id": "s9sXchOH102Z",
        "outputId": "6cbca304-128d-4eb9-fa6e-14bbdf769fbc"
      },
      "source": [
        "s = \"abcd\"\n",
        "t = \"abcde\"\n",
        "findTheDifference(s,t)"
      ],
      "execution_count": 6,
      "outputs": [
        {
          "output_type": "execute_result",
          "data": {
            "application/vnd.google.colaboratory.intrinsic+json": {
              "type": "string"
            },
            "text/plain": [
              "'e'"
            ]
          },
          "metadata": {},
          "execution_count": 6
        }
      ]
    },
    {
      "cell_type": "code",
      "metadata": {
        "id": "14ARXyQStGSr"
      },
      "source": [
        "from collections import Counter\n",
        "def findTheDifference(s: str, t: str) -> str:\n",
        "\n",
        "    cnt_s = Counter(list(s))\n",
        "    cnt_t = Counter(list(t))\n",
        "\n",
        "    s_keys = list(cnt_s.keys())\n",
        "\n",
        "    for key in s_keys:\n",
        "        cnt_t[key] = cnt_t[key] - cnt_s[key]\n",
        "        \n",
        "    t_items = [item[0] for item in cnt_t.items() if item[1] != 0]\n",
        "\n",
        "    answer = \"\".join(t_items)      \n",
        "\n",
        "        \n",
        "    return answer\n",
        "\n",
        "\n"
      ],
      "execution_count": 2,
      "outputs": []
    },
    {
      "cell_type": "code",
      "metadata": {
        "id": "eyJ4MDNQ1ze-"
      },
      "source": [
        ""
      ],
      "execution_count": null,
      "outputs": []
    }
  ]
}