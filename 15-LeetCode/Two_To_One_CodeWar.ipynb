{
  "nbformat": 4,
  "nbformat_minor": 0,
  "metadata": {
    "colab": {
      "name": "Two To One Code War.ipynb",
      "provenance": [],
      "authorship_tag": "ABX9TyPpcfL6nkwYpgzvvybFyjA1",
      "include_colab_link": true
    },
    "kernelspec": {
      "name": "python3",
      "display_name": "Python 3"
    },
    "language_info": {
      "name": "python"
    }
  },
  "cells": [
    {
      "cell_type": "markdown",
      "metadata": {
        "id": "view-in-github",
        "colab_type": "text"
      },
      "source": [
        "<a href=\"https://colab.research.google.com/github/plthiyagu/AI-Engineering/blob/master/22-LeetCode/Two_To_One_Code_War.ipynb\" target=\"_parent\"><img src=\"https://colab.research.google.com/assets/colab-badge.svg\" alt=\"Open In Colab\"/></a>"
      ]
    },
    {
      "cell_type": "markdown",
      "metadata": {
        "id": "k_yxnQF7UeNu"
      },
      "source": [
        "a = \"xyaabbbccccdefww\"\n",
        "b = \"xxxxyyyyabklmopq\"\n",
        "longest(a, b) -> \"abcdefklmopqwxy\"\n",
        "\n",
        "a = \"abcdefghijklmnopqrstuvwxyz\"\n",
        "longest(a, a) -> \"abcdefghijklmnopqrstuvwxyz\"\n"
      ]
    },
    {
      "cell_type": "code",
      "metadata": {
        "id": "QiD_nUYiTuQx"
      },
      "source": [
        "def longest(a1, a2):\n",
        "    # your code\n",
        "    return ''.join(sorted((set(a1 + a2))))"
      ],
      "execution_count": 1,
      "outputs": []
    },
    {
      "cell_type": "code",
      "metadata": {
        "colab": {
          "base_uri": "https://localhost:8080/",
          "height": 35
        },
        "id": "7_I9hBjIUhUg",
        "outputId": "89e508f3-4d65-4ae0-b6ee-b7b121324c7a"
      },
      "source": [
        "longest(\"aretheyhere\", \"yestheyarehere\")"
      ],
      "execution_count": 2,
      "outputs": [
        {
          "output_type": "execute_result",
          "data": {
            "application/vnd.google.colaboratory.intrinsic+json": {
              "type": "string"
            },
            "text/plain": [
              "'aehrsty'"
            ]
          },
          "metadata": {
            "tags": []
          },
          "execution_count": 2
        }
      ]
    },
    {
      "cell_type": "code",
      "metadata": {
        "id": "pWmkFfiFUnAI"
      },
      "source": [
        ""
      ],
      "execution_count": null,
      "outputs": []
    }
  ]
}