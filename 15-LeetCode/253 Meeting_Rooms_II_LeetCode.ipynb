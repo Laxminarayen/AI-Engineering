{
  "nbformat": 4,
  "nbformat_minor": 0,
  "metadata": {
    "colab": {
      "name": "253 Meeting Rooms II LeetCode.ipynb",
      "provenance": [],
      "collapsed_sections": [],
      "authorship_tag": "ABX9TyOzf9fcculNyYMcxFqYN+pw",
      "include_colab_link": true
    },
    "kernelspec": {
      "name": "python3",
      "display_name": "Python 3"
    },
    "language_info": {
      "name": "python"
    }
  },
  "cells": [
    {
      "cell_type": "markdown",
      "metadata": {
        "id": "view-in-github",
        "colab_type": "text"
      },
      "source": [
        "<a href=\"https://colab.research.google.com/github/plthiyagu/AI-Engineering/blob/master/15-LeetCode/253%20Meeting_Rooms_II_LeetCode.ipynb\" target=\"_parent\"><img src=\"https://colab.research.google.com/assets/colab-badge.svg\" alt=\"Open In Colab\"/></a>"
      ]
    },
    {
      "cell_type": "code",
      "metadata": {
        "id": "qMQvkJHryFp8"
      },
      "source": [
        "def minMeetingRooms(intervals):\n",
        "        size = len(intervals)\n",
        "        if size<=1: return size\n",
        "        heap = []\n",
        "        for interval in sorted(intervals):\n",
        "            if heap and interval[0]>=heap[0]:\n",
        "                heapq.heappushpop(heap,interval[1])\n",
        "            else:\n",
        "                heapq.heappush(heap,interval[1])\n",
        "        return len(heap)"
      ],
      "execution_count": 1,
      "outputs": []
    },
    {
      "cell_type": "code",
      "metadata": {
        "id": "2T4chQGeyKrb"
      },
      "source": [
        ""
      ],
      "execution_count": null,
      "outputs": []
    }
  ]
}