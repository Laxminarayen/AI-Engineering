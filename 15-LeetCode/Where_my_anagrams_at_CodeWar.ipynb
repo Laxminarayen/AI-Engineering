{
  "nbformat": 4,
  "nbformat_minor": 0,
  "metadata": {
    "colab": {
      "name": "Where my anagrams at CodeWar.ipynb",
      "provenance": [],
      "authorship_tag": "ABX9TyMdS1DcdLjHpXLqkfhGqGk0",
      "include_colab_link": true
    },
    "kernelspec": {
      "name": "python3",
      "display_name": "Python 3"
    },
    "language_info": {
      "name": "python"
    }
  },
  "cells": [
    {
      "cell_type": "markdown",
      "metadata": {
        "id": "view-in-github",
        "colab_type": "text"
      },
      "source": [
        "<a href=\"https://colab.research.google.com/github/plthiyagu/AI-Engineering/blob/master/15-LeetCode/Where_my_anagrams_at_CodeWar.ipynb\" target=\"_parent\"><img src=\"https://colab.research.google.com/assets/colab-badge.svg\" alt=\"Open In Colab\"/></a>"
      ]
    },
    {
      "cell_type": "code",
      "metadata": {
        "id": "Jo4VGfGHhq4B"
      },
      "source": [
        "def anagrams(word, words):\n",
        "    #your code here\n",
        "    return [w for w in words if sorted(w) == sorted(word)]"
      ],
      "execution_count": 1,
      "outputs": []
    },
    {
      "cell_type": "code",
      "metadata": {
        "colab": {
          "base_uri": "https://localhost:8080/"
        },
        "id": "WV5LdVp1hwz8",
        "outputId": "c59eb2e5-8fd1-4879-d765-78960e0695fe"
      },
      "source": [
        "word ='abba' \n",
        "words ='baab'\n",
        "anagrams(word, words)"
      ],
      "execution_count": 5,
      "outputs": [
        {
          "output_type": "execute_result",
          "data": {
            "text/plain": [
              "[]"
            ]
          },
          "metadata": {
            "tags": []
          },
          "execution_count": 5
        }
      ]
    },
    {
      "cell_type": "code",
      "metadata": {
        "id": "drUON-Qth4wb"
      },
      "source": [
        "from collections import Counter\n",
        "\n",
        "def anagrams(word, words):\n",
        "    counts = Counter(word)\n",
        "    return [w for w in words if Counter(w) == counts]"
      ],
      "execution_count": 4,
      "outputs": []
    },
    {
      "cell_type": "code",
      "metadata": {
        "id": "7yhlKQPtiWjI"
      },
      "source": [
        ""
      ],
      "execution_count": null,
      "outputs": []
    }
  ]
}