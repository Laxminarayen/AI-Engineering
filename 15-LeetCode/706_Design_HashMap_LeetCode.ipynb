{
  "nbformat": 4,
  "nbformat_minor": 0,
  "metadata": {
    "colab": {
      "name": "706 Design HashMap LeetCode.ipynb",
      "provenance": [],
      "authorship_tag": "ABX9TyNle7G0wxLI7iOUBE5UEUKG",
      "include_colab_link": true
    },
    "kernelspec": {
      "name": "python3",
      "display_name": "Python 3"
    },
    "language_info": {
      "name": "python"
    }
  },
  "cells": [
    {
      "cell_type": "markdown",
      "metadata": {
        "id": "view-in-github",
        "colab_type": "text"
      },
      "source": [
        "<a href=\"https://colab.research.google.com/github/plthiyagu/AI-Engineering/blob/master/15-LeetCode/706_Design_HashMap_LeetCode.ipynb\" target=\"_parent\"><img src=\"https://colab.research.google.com/assets/colab-badge.svg\" alt=\"Open In Colab\"/></a>"
      ]
    },
    {
      "cell_type": "code",
      "metadata": {
        "id": "6AnLGPGELGJz"
      },
      "source": [
        "class MyHashMap:\n",
        "\n",
        "    def __init__(self):\n",
        "        self.a = [-1]*1000010\n",
        "\n",
        "\n",
        "    def put(self, key: int, value: int) -> None:\n",
        "        self.a[key] = value\n",
        "        \n",
        "\n",
        "    def get(self, key: int) -> int:\n",
        "        return self.a[key]\n",
        "\n",
        "        \n",
        "\n",
        "    def remove(self, key: int) -> None:\n",
        "        self.a[key] = -1\n",
        "\n",
        "        \n",
        "\n",
        "\n",
        "# Your MyHashMap object will be instantiated and called as such:\n",
        "# obj = MyHashMap()\n",
        "# obj.put(key,value)\n",
        "# param_2 = obj.get(key)\n",
        "# obj.remove(key)"
      ],
      "execution_count": null,
      "outputs": []
    }
  ]
}