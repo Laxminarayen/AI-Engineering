{
  "nbformat": 4,
  "nbformat_minor": 0,
  "metadata": {
    "colab": {
      "name": "Course Schedule LeetCode 207.ipynb",
      "provenance": [],
      "collapsed_sections": [],
      "authorship_tag": "ABX9TyOcpLRKrTWhBi3ZPnoaVd+0",
      "include_colab_link": true
    },
    "kernelspec": {
      "name": "python3",
      "display_name": "Python 3"
    },
    "language_info": {
      "name": "python"
    }
  },
  "cells": [
    {
      "cell_type": "markdown",
      "metadata": {
        "id": "view-in-github",
        "colab_type": "text"
      },
      "source": [
        "<a href=\"https://colab.research.google.com/github/plthiyagu/AI-Engineering/blob/master/22-LeetCode/Course_Schedule_LeetCode_207.ipynb\" target=\"_parent\"><img src=\"https://colab.research.google.com/assets/colab-badge.svg\" alt=\"Open In Colab\"/></a>"
      ]
    },
    {
      "cell_type": "markdown",
      "metadata": {
        "id": "8fd41IAiqUHf"
      },
      "source": [
        "https://www.youtube.com/watch?v=L05HDfyDHjg"
      ]
    },
    {
      "cell_type": "code",
      "metadata": {
        "id": "A0AxmjIOqq4w"
      },
      "source": [
        "import collections"
      ],
      "execution_count": 8,
      "outputs": []
    },
    {
      "cell_type": "code",
      "metadata": {
        "id": "OOA2DB7lqJYN"
      },
      "source": [
        "def canFinish(numCourses, prerequisites):\n",
        "    \"\"\"\n",
        "    :type numCourses: int\n",
        "    :type prerequisites: List[List[int]]\n",
        "    :rtype: bool\n",
        "    \"\"\"\n",
        "    \n",
        "    indegree = collections.defaultdict(set)\n",
        "    outdegree= collections.defaultdict(set)\n",
        "    \n",
        "    for x,y in prerequisites:\n",
        "        outdegree[y].add(x)\n",
        "        indegree[x].add(y)\n",
        "        \n",
        "    connection_removed=0\n",
        "    indegree_zero=[]\n",
        "    \n",
        "    for i in range(numCourses):\n",
        "        if not indegree[i]:\n",
        "            indegree_zero.append(i)\n",
        "            connection_removed  += 1\n",
        "    while indegree_zero:\n",
        "        node= indegree_zero.pop()\n",
        "        for x in outdegree[node]:\n",
        "            indegree[x].remove(node)\n",
        "            if not indegree[x]:\n",
        "                indegree_zero.append(x)\n",
        "                connection_removed +=1\n",
        "    return connection_removed == numCourses"
      ],
      "execution_count": 9,
      "outputs": []
    },
    {
      "cell_type": "code",
      "metadata": {
        "colab": {
          "base_uri": "https://localhost:8080/"
        },
        "id": "9c3bXFN8qOSk",
        "outputId": "3cbd17ff-b355-4c89-8cb4-714cf09ed16c"
      },
      "source": [
        "numCourses=2\n",
        "prerequisites=[[1,0]]\n",
        "canFinish(numCourses, prerequisites)"
      ],
      "execution_count": 10,
      "outputs": [
        {
          "output_type": "execute_result",
          "data": {
            "text/plain": [
              "True"
            ]
          },
          "metadata": {
            "tags": []
          },
          "execution_count": 10
        }
      ]
    },
    {
      "cell_type": "code",
      "metadata": {
        "id": "9dBV9nYDqmW5"
      },
      "source": [
        ""
      ],
      "execution_count": null,
      "outputs": []
    }
  ]
}