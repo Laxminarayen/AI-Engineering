{
  "nbformat": 4,
  "nbformat_minor": 0,
  "metadata": {
    "colab": {
      "name": "919 Meeting Rooms II  LeetCode.ipynb",
      "provenance": [],
      "authorship_tag": "ABX9TyOBnk7nsJ67DHdICEMelGxA",
      "include_colab_link": true
    },
    "kernelspec": {
      "name": "python3",
      "display_name": "Python 3"
    },
    "language_info": {
      "name": "python"
    }
  },
  "cells": [
    {
      "cell_type": "markdown",
      "metadata": {
        "id": "view-in-github",
        "colab_type": "text"
      },
      "source": [
        "<a href=\"https://colab.research.google.com/github/plthiyagu/AI-Engineering/blob/master/15-LeetCode/919%20Meeting_Rooms_II_LeetCode.ipynb\" target=\"_parent\"><img src=\"https://colab.research.google.com/assets/colab-badge.svg\" alt=\"Open In Colab\"/></a>"
      ]
    },
    {
      "cell_type": "code",
      "metadata": {
        "id": "F5T3YmPjhSkD"
      },
      "source": [
        "import heapq"
      ],
      "execution_count": 5,
      "outputs": []
    },
    {
      "cell_type": "code",
      "metadata": {
        "id": "ubQ6wFbueBUb"
      },
      "source": [
        "def minMeetingRooms(intervals):\n",
        "        size = len(intervals)\n",
        "        if size<=1: return size\n",
        "        sorted_intervals = sorted(intervals)\n",
        "        rooms=[[sorted_intervals[0][1]]]\n",
        "        for i in range(1,size):\n",
        "            booked = False\n",
        "            for room in rooms:\n",
        "                if sorted_intervals[i][0]>=room[-1]:\n",
        "                    room.append(sorted_intervals[i][1])\n",
        "                    booked = True\n",
        "                    break\n",
        "            if not booked:rooms.append([sorted_intervals[i][1]])\n",
        "        return len(rooms)\n"
      ],
      "execution_count": 1,
      "outputs": []
    },
    {
      "cell_type": "code",
      "metadata": {
        "id": "_b75QcTpg1bU"
      },
      "source": [
        "def minMeetingRooms( intervals):\n",
        "        size = len(intervals)\n",
        "        if size<=1: return size\n",
        "        heap = []\n",
        "        for interval in sorted(intervals):\n",
        "            if heap and interval[0]>=heap[0]:\n",
        "                heapq.heappushpop(heap,interval[1])\n",
        "            else:\n",
        "                heapq.heappush(heap,interval[1])\n",
        "        return len(heap)\n"
      ],
      "execution_count": 3,
      "outputs": []
    },
    {
      "cell_type": "code",
      "metadata": {
        "colab": {
          "base_uri": "https://localhost:8080/"
        },
        "id": "cAhhG9N6hDB5",
        "outputId": "b360fc11-fec1-4a2c-9065-d2790fdb7c9c"
      },
      "source": [
        "intervals = [(0,30),(5,10),(15,20)]\n",
        "minMeetingRooms( intervals)"
      ],
      "execution_count": 6,
      "outputs": [
        {
          "output_type": "execute_result",
          "data": {
            "text/plain": [
              "2"
            ]
          },
          "metadata": {
            "tags": []
          },
          "execution_count": 6
        }
      ]
    },
    {
      "cell_type": "code",
      "metadata": {
        "id": "ECvBv4VvhMQv"
      },
      "source": [
        ""
      ],
      "execution_count": null,
      "outputs": []
    },
    {
      "cell_type": "code",
      "metadata": {
        "id": "Gtq9-yJwhCBV"
      },
      "source": [
        ""
      ],
      "execution_count": null,
      "outputs": []
    }
  ]
}