{
  "nbformat": 4,
  "nbformat_minor": 0,
  "metadata": {
    "colab": {
      "name": "658 Find K Closest Elements LeetCode.ipynb",
      "provenance": [],
      "authorship_tag": "ABX9TyMvVv4MgAzjJ0d7Z1AuV/SI",
      "include_colab_link": true
    },
    "kernelspec": {
      "name": "python3",
      "display_name": "Python 3"
    },
    "language_info": {
      "name": "python"
    }
  },
  "cells": [
    {
      "cell_type": "markdown",
      "metadata": {
        "id": "view-in-github",
        "colab_type": "text"
      },
      "source": [
        "<a href=\"https://colab.research.google.com/github/plthiyagu/AI-Engineering/blob/master/15-LeetCode/658_Find_K_Closest_Elements_LeetCode.ipynb\" target=\"_parent\"><img src=\"https://colab.research.google.com/assets/colab-badge.svg\" alt=\"Open In Colab\"/></a>"
      ]
    },
    {
      "cell_type": "code",
      "metadata": {
        "id": "-hKA0Sr6AGsO"
      },
      "source": [
        "from typing import List\n",
        "def findClosestElements( arr: List[int], k: int, x: int) -> List[int]:\n",
        "    left = 0\n",
        "    right = len(arr) - k\n",
        "\n",
        "    while left < right:\n",
        "        mid = left + (right - left) // 2\n",
        "\n",
        "        # mid + k is closer to x, discard mid by assigning left = mid + 1\n",
        "        if x - arr[mid] > arr[mid + k] - x:\n",
        "            left = mid + 1\n",
        "\n",
        "        # mid is equal or closer to x than mid + k, remains mid as candidate\n",
        "        else:\n",
        "            right = mid\n",
        "\n",
        "    # left == right, which makes both left and left + k have same diff with x\n",
        "    return arr[left : left + k]"
      ],
      "execution_count": 2,
      "outputs": []
    },
    {
      "cell_type": "code",
      "metadata": {
        "colab": {
          "base_uri": "https://localhost:8080/"
        },
        "id": "I7-2z80iAKvb",
        "outputId": "44a47261-9d81-4a5f-cea5-46a87bebc632"
      },
      "source": [
        "arr = [1,2,3,4,5]\n",
        "k = 4\n",
        "x = 3\n",
        "findClosestElements(arr,k,x)"
      ],
      "execution_count": 5,
      "outputs": [
        {
          "output_type": "execute_result",
          "data": {
            "text/plain": [
              "[1, 2, 3, 4]"
            ]
          },
          "metadata": {},
          "execution_count": 5
        }
      ]
    },
    {
      "cell_type": "code",
      "metadata": {
        "id": "KOCMi8b4AYiI"
      },
      "source": [
        ""
      ],
      "execution_count": null,
      "outputs": []
    }
  ]
}