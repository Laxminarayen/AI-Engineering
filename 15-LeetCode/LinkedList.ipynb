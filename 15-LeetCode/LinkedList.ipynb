{
  "nbformat": 4,
  "nbformat_minor": 0,
  "metadata": {
    "colab": {
      "name": "LinkedList.ipynb",
      "provenance": [],
      "authorship_tag": "ABX9TyNBd56gU+o1V35DCNETwyLS",
      "include_colab_link": true
    },
    "kernelspec": {
      "name": "python3",
      "display_name": "Python 3"
    },
    "language_info": {
      "name": "python"
    }
  },
  "cells": [
    {
      "cell_type": "markdown",
      "metadata": {
        "id": "view-in-github",
        "colab_type": "text"
      },
      "source": [
        "<a href=\"https://colab.research.google.com/github/plthiyagu/AI-Engineering/blob/master/15-LeetCode/LinkedList.ipynb\" target=\"_parent\"><img src=\"https://colab.research.google.com/assets/colab-badge.svg\" alt=\"Open In Colab\"/></a>"
      ]
    },
    {
      "cell_type": "code",
      "metadata": {
        "colab": {
          "base_uri": "https://localhost:8080/"
        },
        "id": "nCOQXzD5HL7p",
        "outputId": "acdd28ee-745a-447d-a0ad-101f17a359c7"
      },
      "source": [
        "\"\"\"The LinkedList code from before is provided below.\n",
        "Add three functions to the LinkedList.\n",
        "\"get_position\" returns the element at a certain position.\n",
        "The \"insert\" function will add an element to a particular\n",
        "spot in the list.\n",
        "\"delete\" will delete the first element with that\n",
        "particular value.\n",
        "Then, use \"Test Run\" and \"Submit\" to run the test cases\n",
        "at the bottom.\"\"\"\n",
        "\n",
        "class Element(object):\n",
        "    def __init__(self, value):\n",
        "        self.value = value\n",
        "        self.next = None\n",
        "        \n",
        "class LinkedList(object):\n",
        "    def __init__(self, head=None):\n",
        "        self.head = head\n",
        "        \n",
        "    def append(self, new_element):\n",
        "        current = self.head\n",
        "        if self.head:\n",
        "            while current.next:\n",
        "                current = current.next\n",
        "            current.next = new_element\n",
        "        else:\n",
        "            self.head = new_element\n",
        "            \n",
        "    def get_position(self, position):\n",
        "        \"\"\"Get an element from a particular position.\n",
        "        Assume the first position is \"1\".\n",
        "        Return \"None\" if position is not in the list.\"\"\"\n",
        "        counter = 1\n",
        "        current = self.head\n",
        "        if position < 1:\n",
        "            return None\n",
        "        while current and counter <= position:\n",
        "            if counter == position:\n",
        "                return current\n",
        "            current = current.next\n",
        "            counter += 1\n",
        "        return None\n",
        "\n",
        "    \n",
        "    def insert(self, new_element, position):\n",
        "        \"\"\"Insert a new node at the given position.\n",
        "        Assume the first position is \"1\".\n",
        "        Inserting at position 3 means between\n",
        "        the 2nd and 3rd elements.\"\"\"\n",
        "        counter = 1\n",
        "        current = self.head\n",
        "        if position > 1:\n",
        "            while current and counter < position:\n",
        "                if counter == position - 1:\n",
        "                    new_element.next = current.next\n",
        "                    current.next = new_element\n",
        "                current = current.next\n",
        "                counter += 1\n",
        "        elif position == 1:\n",
        "            new_element.next = self.head\n",
        "            self.head = new_element\n",
        "\n",
        "    \n",
        "    \n",
        "    def delete(self, value):\n",
        "        \"\"\"Delete the first node with a given value.\"\"\"\n",
        "        current = self.head\n",
        "        previous = None\n",
        "        while current.value != value and current.next:\n",
        "            previous = current\n",
        "            current = current.next\n",
        "        if current.value == value:\n",
        "            if previous:\n",
        "                previous.next = current.next\n",
        "            else:\n",
        "                self.head = current.next\n",
        "\n",
        "\n",
        "# Test cases\n",
        "# Set up some Elements\n",
        "e1 = Element(1)\n",
        "e2 = Element(2)\n",
        "e3 = Element(3)\n",
        "e4 = Element(4)\n",
        "\n",
        "# Start setting up a LinkedList\n",
        "ll = LinkedList(e1)\n",
        "ll.append(e2)\n",
        "ll.append(e3)\n",
        "\n",
        "# Test get_position\n",
        "# Should print 3\n",
        "print (ll.head.next.next.value)\n",
        "# Should also print 3\n",
        "print (ll.get_position(3).value)\n",
        "\n",
        "# Test insert\n",
        "ll.insert(e4,3)\n",
        "# Should print 4 now\n",
        "print (ll.get_position(3).value)\n",
        "\n",
        "# Test delete\n",
        "ll.delete(1)\n",
        "# Should print 2 now\n",
        "print (ll.get_position(1).value)\n",
        "# Should print 4 now\n",
        "print(ll.get_position(2).value)\n",
        "# Should print 3 now\n",
        "print(ll.get_position(3).value)"
      ],
      "execution_count": 11,
      "outputs": [
        {
          "output_type": "stream",
          "text": [
            "3\n",
            "3\n",
            "4\n",
            "2\n",
            "4\n",
            "3\n"
          ],
          "name": "stdout"
        }
      ]
    },
    {
      "cell_type": "code",
      "metadata": {
        "id": "hbAX11b-I-t9"
      },
      "source": [
        ""
      ],
      "execution_count": null,
      "outputs": []
    },
    {
      "cell_type": "code",
      "metadata": {
        "id": "aBrFch5u0K53"
      },
      "source": [
        ""
      ],
      "execution_count": null,
      "outputs": []
    },
    {
      "cell_type": "code",
      "metadata": {
        "id": "FRQ7AjPxzVf1"
      },
      "source": [
        ""
      ],
      "execution_count": null,
      "outputs": []
    }
  ]
}