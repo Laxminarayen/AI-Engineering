{
  "nbformat": 4,
  "nbformat_minor": 0,
  "metadata": {
    "colab": {
      "name": "1492 The kth Factor of n LeetCode.ipynb",
      "provenance": [],
      "authorship_tag": "ABX9TyOWSMSnQWrs2g+uKR8Hgyzu",
      "include_colab_link": true
    },
    "kernelspec": {
      "name": "python3",
      "display_name": "Python 3"
    },
    "language_info": {
      "name": "python"
    }
  },
  "cells": [
    {
      "cell_type": "markdown",
      "metadata": {
        "id": "view-in-github",
        "colab_type": "text"
      },
      "source": [
        "<a href=\"https://colab.research.google.com/github/plthiyagu/AI-Engineering/blob/master/15-LeetCode/1492_The_kth_Factor_of_n_LeetCode.ipynb\" target=\"_parent\"><img src=\"https://colab.research.google.com/assets/colab-badge.svg\" alt=\"Open In Colab\"/></a>"
      ]
    },
    {
      "cell_type": "code",
      "metadata": {
        "id": "nB0xQIGgJD1F"
      },
      "source": [
        "def kthFactor( n: int, k: int) -> int:\n",
        "    loop_num = n // 2\n",
        "    \n",
        "    if n == 1:\n",
        "        divisors = [1]\n",
        "    else:\n",
        "        divisors = []\n",
        "\n",
        "        for i in range(1, loop_num+1):\n",
        "            if n % i == 0:\n",
        "                divisors.append(i)\n",
        "                divisors.append(n // i)\n",
        "\n",
        "        divisors = sorted(list(set(divisors)))\n",
        "    \n",
        "    \n",
        "    if len(divisors) < k:\n",
        "        return -1\n",
        "    \n",
        "    return divisors[k-1]"
      ],
      "execution_count": 1,
      "outputs": []
    },
    {
      "cell_type": "code",
      "metadata": {
        "colab": {
          "base_uri": "https://localhost:8080/"
        },
        "id": "I3hInBg9JHnq",
        "outputId": "db7a9211-7b8d-42e3-c492-3a6b42e0ae68"
      },
      "source": [
        "n = 12\n",
        "k = 3\n",
        "kthFactor(n,k)"
      ],
      "execution_count": 2,
      "outputs": [
        {
          "output_type": "execute_result",
          "data": {
            "text/plain": [
              "3"
            ]
          },
          "metadata": {},
          "execution_count": 2
        }
      ]
    },
    {
      "cell_type": "code",
      "metadata": {
        "id": "1Hl-NDuhJN9C"
      },
      "source": [
        ""
      ],
      "execution_count": null,
      "outputs": []
    }
  ]
}