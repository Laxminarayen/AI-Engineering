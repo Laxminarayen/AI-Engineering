{
  "nbformat": 4,
  "nbformat_minor": 0,
  "metadata": {
    "colab": {
      "name": "105 Construct Binary Tree from Preorder and Inorder Traversal LeetCode.ipynb",
      "provenance": [],
      "authorship_tag": "ABX9TyMoHFh09av7Vzc0R7ite2mT",
      "include_colab_link": true
    },
    "kernelspec": {
      "name": "python3",
      "display_name": "Python 3"
    },
    "language_info": {
      "name": "python"
    }
  },
  "cells": [
    {
      "cell_type": "markdown",
      "metadata": {
        "id": "view-in-github",
        "colab_type": "text"
      },
      "source": [
        "<a href=\"https://colab.research.google.com/github/plthiyagu/AI-Engineering/blob/master/15-LeetCode/105%20Construct_Binary_Tree_from_Preorder_and_Inorder_Traversal_LeetCode.ipynb\" target=\"_parent\"><img src=\"https://colab.research.google.com/assets/colab-badge.svg\" alt=\"Open In Colab\"/></a>"
      ]
    },
    {
      "cell_type": "code",
      "metadata": {
        "id": "CWfb9d3i1NFG"
      },
      "source": [
        "# Definition for a binary tree node.\n",
        "class TreeNode(object):\n",
        "    def __init__(self, val=0, left=None, right=None):\n",
        "        self.val = val\n",
        "        self.left = left\n",
        "        self.right = right\n",
        "class Solution(object):\n",
        "    def buildTree(self, preorder, inorder):\n",
        "        \"\"\"\n",
        "        :type preorder: List[int]\n",
        "        :type inorder: List[int]\n",
        "        :rtype: TreeNode\n",
        "        \"\"\"\n",
        "        if not preorder or not inorder:\n",
        "            return None\n",
        "        root = TreeNode(preorder[0])\n",
        "        preorder_left_node_amount = inorder_root_index = inorder.index(preorder[0])\n",
        "        root.left = self.buildTree(preorder[1:preorder_left_node_amount+1], inorder[:inorder_root_index])\n",
        "        root.right = self.buildTree(preorder[preorder_left_node_amount+1:],inorder[inorder_root_index+1:])\n",
        "        return root\n"
      ],
      "execution_count": 1,
      "outputs": []
    },
    {
      "cell_type": "code",
      "metadata": {
        "id": "mjbLGmyG1QDr"
      },
      "source": [
        "preorder = [3,9,20,15,7]\n",
        "inorder = [9,3,15,20,7]\n"
      ],
      "execution_count": null,
      "outputs": []
    }
  ]
}