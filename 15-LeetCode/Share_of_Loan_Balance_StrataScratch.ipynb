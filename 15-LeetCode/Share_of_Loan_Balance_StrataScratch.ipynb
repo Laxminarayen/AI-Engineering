{
  "nbformat": 4,
  "nbformat_minor": 0,
  "metadata": {
    "colab": {
      "name": "Share of Loan Balance StrataScratch.ipynb",
      "provenance": [],
      "authorship_tag": "ABX9TyNWyyoGwoNH5xNQ9YJYXrXJ",
      "include_colab_link": true
    },
    "kernelspec": {
      "name": "python3",
      "display_name": "Python 3"
    },
    "language_info": {
      "name": "python"
    }
  },
  "cells": [
    {
      "cell_type": "markdown",
      "metadata": {
        "id": "view-in-github",
        "colab_type": "text"
      },
      "source": [
        "<a href=\"https://colab.research.google.com/github/plthiyagu/AI-Engineering/blob/master/15-LeetCode/Share_of_Loan_Balance_StrataScratch.ipynb\" target=\"_parent\"><img src=\"https://colab.research.google.com/assets/colab-badge.svg\" alt=\"Open In Colab\"/></a>"
      ]
    },
    {
      "cell_type": "markdown",
      "metadata": {
        "id": "e67J0MA90Fdu"
      },
      "source": [
        "1. Share of Loan Balance\n",
        "Group each submission’s total balance based on rate_type and report the rate_type, loan_id and balance of each loan type. Also calculate the percentage of the submission’s total balance each loan constitutes.\n"
      ]
    },
    {
      "cell_type": "code",
      "metadata": {
        "id": "km4zV4R80AHu"
      },
      "source": [
        "# Import your libraries\n",
        "import pandas as pd\n",
        " \n",
        "# Get sum loan balances by loan type\n",
        "loan_summ = submissions[['rate_type', 'balance']].groupby(['rate_type'], \n",
        "as_index = False).sum().rename(columns = ({'balance': 'total_balance'}))\n",
        " \n",
        "# Merge with the full dataset\n",
        "output_df = pd.merge(submissions, loan_summ, on = 'rate_type', how = 'left')\n",
        " \n",
        "# Calculate the share\n",
        "output_df['loan_share'] = output_df['balance'] / output_df['total_balance']\n",
        " \n",
        "# Keep relevant columns\n",
        "output_df = output_df[['loan_id', 'rate_type', 'balance', 'loan_share']]\n",
        " \n",
        "# Submit\n",
        "output_df\n"
      ],
      "execution_count": null,
      "outputs": []
    }
  ]
}