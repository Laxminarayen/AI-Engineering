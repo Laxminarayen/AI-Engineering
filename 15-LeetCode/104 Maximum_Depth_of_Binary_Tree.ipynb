{
  "nbformat": 4,
  "nbformat_minor": 0,
  "metadata": {
    "colab": {
      "name": "104 Maximum Depth of Binary Tree.ipynb",
      "provenance": [],
      "collapsed_sections": [],
      "authorship_tag": "ABX9TyMXUQahcg1+MVPv8xOKP8vy",
      "include_colab_link": true
    },
    "kernelspec": {
      "name": "python3",
      "display_name": "Python 3"
    },
    "language_info": {
      "name": "python"
    }
  },
  "cells": [
    {
      "cell_type": "markdown",
      "metadata": {
        "id": "view-in-github",
        "colab_type": "text"
      },
      "source": [
        "<a href=\"https://colab.research.google.com/github/plthiyagu/AI-Engineering/blob/master/15-LeetCode/104%20Maximum_Depth_of_Binary_Tree.ipynb\" target=\"_parent\"><img src=\"https://colab.research.google.com/assets/colab-badge.svg\" alt=\"Open In Colab\"/></a>"
      ]
    },
    {
      "cell_type": "code",
      "metadata": {
        "id": "dYDDNHBui3dh"
      },
      "source": [
        "# Definition for a binary tree node.\n",
        "class TreeNode(object):\n",
        "    def __init__(self, val=0, left=None, right=None):\n",
        "        self.val = val\n",
        "        self.left = left\n",
        "        self.right = right\n",
        "class Solution(object):\n",
        "    def maxDepth(self, root):\n",
        "        \"\"\"\n",
        "        :type root: TreeNode\n",
        "        :rtype: int\n",
        "        \"\"\"\n",
        "        return max(self.maxDepth(root.left), self.maxDepth(root.right)) + 1 if root else 0\n"
      ],
      "execution_count": 2,
      "outputs": []
    },
    {
      "cell_type": "code",
      "metadata": {
        "id": "diPwy4P9jKkE"
      },
      "source": [
        "# Definition for a binary tree node.\n",
        "# class TreeNode(object):\n",
        "#     def __init__(self, val=0, left=None, right=None):\n",
        "#         self.val = val\n",
        "#         self.left = left\n",
        "#         self.right = right\n",
        "class Solution(object):\n",
        "    def maxDepth(self, root):\n",
        "        \"\"\"\n",
        "        :type root: TreeNode\n",
        "        :rtype: int\n",
        "        \"\"\"\n",
        "        if not root:\n",
        "            return 0\n",
        "        q = [root]\n",
        "        res = 0\n",
        "        while q:\n",
        "            tq = []\n",
        "            for n in q:\n",
        "                if n.left:\n",
        "                    tq.append(n.left)\n",
        "                if n.right:\n",
        "                    tq.append(n.right)\n",
        "            q = tq\n",
        "            res += 1\n",
        "        return res"
      ],
      "execution_count": 3,
      "outputs": []
    },
    {
      "cell_type": "code",
      "metadata": {
        "id": "Smplje_7jE98"
      },
      "source": [
        "root = [3,9,20,null,null,15,7]"
      ],
      "execution_count": null,
      "outputs": []
    }
  ]
}