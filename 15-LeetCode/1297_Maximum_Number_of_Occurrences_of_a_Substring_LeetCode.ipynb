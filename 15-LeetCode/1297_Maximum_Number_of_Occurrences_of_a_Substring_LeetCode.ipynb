{
  "nbformat": 4,
  "nbformat_minor": 0,
  "metadata": {
    "colab": {
      "name": "1297 Maximum Number of Occurrences of a Substring LeetCode.ipynb",
      "provenance": [],
      "authorship_tag": "ABX9TyPAnuGszZmJzpoEao5DQi0b",
      "include_colab_link": true
    },
    "kernelspec": {
      "name": "python3",
      "display_name": "Python 3"
    },
    "language_info": {
      "name": "python"
    }
  },
  "cells": [
    {
      "cell_type": "markdown",
      "metadata": {
        "id": "view-in-github",
        "colab_type": "text"
      },
      "source": [
        "<a href=\"https://colab.research.google.com/github/plthiyagu/AI-Engineering/blob/master/15-LeetCode/1297_Maximum_Number_of_Occurrences_of_a_Substring_LeetCode.ipynb\" target=\"_parent\"><img src=\"https://colab.research.google.com/assets/colab-badge.svg\" alt=\"Open In Colab\"/></a>"
      ]
    },
    {
      "cell_type": "code",
      "metadata": {
        "id": "T27fW4x_Dwuy"
      },
      "source": [
        "def maxFreq( s: str, maxLetters: int, minSize: int, maxSize: int) -> int:\n",
        "    cnt,res={},0\n",
        "    for i in range(0,len(s)-minSize+1):\n",
        "        sub=s[i:i+minSize]\n",
        "        if len(set(sub))<=maxLetters:\n",
        "            cnt[sub]=cnt.get(sub,0)+1\n",
        "            res=max(res,cnt[sub])\n",
        "            \n",
        "    return res    "
      ],
      "execution_count": 1,
      "outputs": []
    },
    {
      "cell_type": "code",
      "metadata": {
        "id": "8sOsdSM2D3DP"
      },
      "source": [
        ""
      ],
      "execution_count": null,
      "outputs": []
    }
  ]
}