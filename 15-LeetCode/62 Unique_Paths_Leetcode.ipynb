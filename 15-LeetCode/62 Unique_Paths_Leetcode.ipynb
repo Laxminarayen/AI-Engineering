{
  "nbformat": 4,
  "nbformat_minor": 0,
  "metadata": {
    "colab": {
      "name": "Unique Paths Leetcode 62.ipynb",
      "provenance": [],
      "collapsed_sections": [],
      "authorship_tag": "ABX9TyO9cCKNni+OkRTSb0NmFERA",
      "include_colab_link": true
    },
    "kernelspec": {
      "name": "python3",
      "display_name": "Python 3"
    },
    "language_info": {
      "name": "python"
    }
  },
  "cells": [
    {
      "cell_type": "markdown",
      "metadata": {
        "id": "view-in-github",
        "colab_type": "text"
      },
      "source": [
        "<a href=\"https://colab.research.google.com/github/plthiyagu/AI-Engineering/blob/master/22-LeetCode/Unique_Paths_Leetcode_62.ipynb\" target=\"_parent\"><img src=\"https://colab.research.google.com/assets/colab-badge.svg\" alt=\"Open In Colab\"/></a>"
      ]
    },
    {
      "cell_type": "code",
      "metadata": {
        "id": "U3EB-wM7_TKy"
      },
      "source": [
        "def uniquePaths(m, n):\n",
        "    \"\"\"\n",
        "    :type m: int\n",
        "    :type n: int\n",
        "    :rtype: int\n",
        "    \"\"\"\n",
        "    dp = [[0 for j in range(0, n)] for i in range(0, m)]\n",
        "        \n",
        "    for i in range(0, m):\n",
        "        dp[i][0] = 1\n",
        "    \n",
        "    for j in range(0, n):\n",
        "        dp[0][j] = 1\n",
        "        \n",
        "    for i in range(1, m):            \n",
        "        for j in range(1, n):\n",
        "            dp[i][j] = dp[i - 1][j] + dp[i][j - 1]\n",
        "            \n",
        "    \n",
        "    return dp[m - 1][n - 1]"
      ],
      "execution_count": 1,
      "outputs": []
    },
    {
      "cell_type": "code",
      "metadata": {
        "colab": {
          "base_uri": "https://localhost:8080/"
        },
        "id": "dLTmEj_n_Xv7",
        "outputId": "8dbb94e5-cc52-456b-9b8b-1de49d3cb592"
      },
      "source": [
        "m=3\n",
        "n=7\n",
        "uniquePaths(m, n)"
      ],
      "execution_count": 2,
      "outputs": [
        {
          "output_type": "execute_result",
          "data": {
            "text/plain": [
              "28"
            ]
          },
          "metadata": {
            "tags": []
          },
          "execution_count": 2
        }
      ]
    },
    {
      "cell_type": "code",
      "metadata": {
        "id": "UdxyfLaA_xQg"
      },
      "source": [
        "def uniquePaths(self, m, n):\n",
        "    \"\"\"\n",
        "    :type m: int\n",
        "    :type n: int\n",
        "    :rtype: int\n",
        "    \"\"\"\n",
        "    \n",
        "    row =[1] *n\n",
        "    \n",
        "    for i in range(m-1):\n",
        "        newRow= [1] * n\n",
        "        for j in range(n-2,-1,-1):\n",
        "            newRow[j] = newRow[j+1] + row[j]\n",
        "        row = newRow\n",
        "    return row[0]"
      ],
      "execution_count": null,
      "outputs": []
    }
  ]
}