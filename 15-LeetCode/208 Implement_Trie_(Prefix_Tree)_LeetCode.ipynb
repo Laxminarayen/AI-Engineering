{
  "nbformat": 4,
  "nbformat_minor": 0,
  "metadata": {
    "colab": {
      "name": "208 Implement Trie (Prefix Tree) LeetCode.ipynb",
      "provenance": [],
      "authorship_tag": "ABX9TyOpqo6NxPZQvSieZv0Yu+25",
      "include_colab_link": true
    },
    "kernelspec": {
      "name": "python3",
      "display_name": "Python 3"
    },
    "language_info": {
      "name": "python"
    }
  },
  "cells": [
    {
      "cell_type": "markdown",
      "metadata": {
        "id": "view-in-github",
        "colab_type": "text"
      },
      "source": [
        "<a href=\"https://colab.research.google.com/github/plthiyagu/AI-Engineering/blob/master/15-LeetCode/208%20Implement_Trie_(Prefix_Tree)_LeetCode.ipynb\" target=\"_parent\"><img src=\"https://colab.research.google.com/assets/colab-badge.svg\" alt=\"Open In Colab\"/></a>"
      ]
    },
    {
      "cell_type": "code",
      "metadata": {
        "id": "1X9YFqKV4SP5"
      },
      "source": [
        "class Trie(object):\n",
        "\n",
        "    def __init__(self):\n",
        "        \"\"\"\n",
        "        Initialize your data structure here.\n",
        "        \"\"\"\n",
        "        self.dic = {}\n",
        "\n",
        "        \n",
        "\n",
        "    def insert(self, word):\n",
        "        \"\"\"\n",
        "        Inserts a word into the trie.\n",
        "        :type word: str\n",
        "        :rtype: None\n",
        "        \"\"\"\n",
        "        cur = self.dic\n",
        "        for c in word:\n",
        "            if c not in cur:\n",
        "                cur[c] = {}\n",
        "            cur = cur[c]\n",
        "        cur['#'] = True\n",
        "\n",
        "        \n",
        "\n",
        "    def search(self, word):\n",
        "        \"\"\"\n",
        "        Returns if the word is in the trie.\n",
        "        :type word: str\n",
        "        :rtype: bool\n",
        "        \"\"\"\n",
        "        cur = self.dic\n",
        "        for c in word:\n",
        "            if c not in cur:\n",
        "                return False\n",
        "            cur = cur[c]\n",
        "        return '#' in cur\n",
        "\n",
        "\n",
        "    def startsWith(self, prefix):\n",
        "        \"\"\"\n",
        "        Returns if there is any word in the trie that starts with the given prefix.\n",
        "        :type prefix: str\n",
        "        :rtype: bool\n",
        "        \"\"\"\n",
        "        cur = self.dic\n",
        "        for c in prefix:\n",
        "            if c not in cur:\n",
        "                return False\n",
        "            cur = cur[c]\n",
        "        return True\n",
        "\n",
        "\n",
        "\n",
        "# Your Trie object will be instantiated and called as such:\n",
        "# obj = Trie()\n",
        "# obj.insert(word)\n",
        "# param_2 = obj.search(word)\n",
        "# param_3 = obj.startsWith(prefix)"
      ],
      "execution_count": 2,
      "outputs": []
    },
    {
      "cell_type": "code",
      "metadata": {
        "id": "UjGpFB184nat"
      },
      "source": [
        "[\"Trie\", \"insert\", \"search\", \"search\", \"startsWith\", \"insert\", \"search\"]\n",
        "[[], [\"apple\"], [\"apple\"], [\"app\"], [\"app\"], [\"app\"], [\"app\"]]\n"
      ],
      "execution_count": null,
      "outputs": []
    },
    {
      "cell_type": "code",
      "metadata": {
        "id": "FaayGQL34TaF"
      },
      "source": [
        ""
      ],
      "execution_count": null,
      "outputs": []
    }
  ]
}