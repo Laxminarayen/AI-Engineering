{
  "nbformat": 4,
  "nbformat_minor": 0,
  "metadata": {
    "colab": {
      "name": "128 Longest Consecutive Sequence LeetCode.ipynb",
      "provenance": [],
      "collapsed_sections": [],
      "authorship_tag": "ABX9TyNiFC7YgotxQIC1N34uqIJO",
      "include_colab_link": true
    },
    "kernelspec": {
      "name": "python3",
      "display_name": "Python 3"
    },
    "language_info": {
      "name": "python"
    }
  },
  "cells": [
    {
      "cell_type": "markdown",
      "metadata": {
        "id": "view-in-github",
        "colab_type": "text"
      },
      "source": [
        "<a href=\"https://colab.research.google.com/github/plthiyagu/AI-Engineering/blob/master/15-LeetCode/128%20Longest_Consecutive_Sequence_LeetCode.ipynb\" target=\"_parent\"><img src=\"https://colab.research.google.com/assets/colab-badge.svg\" alt=\"Open In Colab\"/></a>"
      ]
    },
    {
      "cell_type": "code",
      "metadata": {
        "id": "w3OdfFs_NJ0x"
      },
      "source": [
        "def longestConsecutive( nums):\n",
        "    \"\"\"\n",
        "    :type nums: List[int]\n",
        "    :rtype: int\n",
        "    \"\"\"\n",
        "    res, nums = 0, set(nums)\n",
        "    if not nums: return 0\n",
        "    for cur in nums:\n",
        "        if cur - 1 not in nums:\n",
        "            cnt, nxt = 1, cur + 1\n",
        "            while nxt in nums:\n",
        "                cnt += 1\n",
        "                nxt += 1\n",
        "            res = max(res, cnt)\n",
        "    return res"
      ],
      "execution_count": 3,
      "outputs": []
    },
    {
      "cell_type": "code",
      "metadata": {
        "colab": {
          "base_uri": "https://localhost:8080/"
        },
        "id": "i1kvycmsNwD-",
        "outputId": "08cbbd3d-16a0-44ad-ca39-abe4637a4842"
      },
      "source": [
        "nums = [100,4,200,1,3,2]\n",
        "longestConsecutive( nums)"
      ],
      "execution_count": 5,
      "outputs": [
        {
          "output_type": "execute_result",
          "data": {
            "text/plain": [
              "4"
            ]
          },
          "metadata": {
            "tags": []
          },
          "execution_count": 5
        }
      ]
    }
  ]
}