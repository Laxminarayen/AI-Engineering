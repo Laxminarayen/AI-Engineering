{
  "nbformat": 4,
  "nbformat_minor": 0,
  "metadata": {
    "colab": {
      "name": "80. Remove Duplicates from Sorted Array II.ipynb",
      "provenance": [],
      "authorship_tag": "ABX9TyMkwg5Zzr5Sum2Xw6Nq6VCn",
      "include_colab_link": true
    },
    "kernelspec": {
      "name": "python3",
      "display_name": "Python 3"
    },
    "language_info": {
      "name": "python"
    }
  },
  "cells": [
    {
      "cell_type": "markdown",
      "metadata": {
        "id": "view-in-github",
        "colab_type": "text"
      },
      "source": [
        "<a href=\"https://colab.research.google.com/github/plthiyagu/AI-Engineering/blob/master/22-LeetCode/80_Remove_Duplicates_from_Sorted_Array_II.ipynb\" target=\"_parent\"><img src=\"https://colab.research.google.com/assets/colab-badge.svg\" alt=\"Open In Colab\"/></a>"
      ]
    },
    {
      "cell_type": "code",
      "metadata": {
        "id": "z40I1p7qEKvc"
      },
      "source": [
        "  def removeDuplicates( nums):\n",
        "        \"\"\"\n",
        "        :type nums: List[int]\n",
        "        :rtype: int\n",
        "        \"\"\"\n",
        "        cnt=2\n",
        "        \n",
        "        if len(nums)==0:\n",
        "            return 0\n",
        "        for i in range(2,len(nums)):\n",
        "            if nums[cnt-2] != nums[i]:\n",
        "                nums[cnt]=nums[i]\n",
        "                cnt +=1\n",
        "        return cnt\n",
        "        \n",
        "  "
      ],
      "execution_count": 1,
      "outputs": []
    },
    {
      "cell_type": "code",
      "metadata": {
        "colab": {
          "base_uri": "https://localhost:8080/"
        },
        "id": "X-wTthACEMjb",
        "outputId": "3c6eac43-a82f-4fa5-8f59-70704ed3f3f7"
      },
      "source": [
        "nums=[1,1,1,2,2,3]\n",
        "removeDuplicates(nums)"
      ],
      "execution_count": 2,
      "outputs": [
        {
          "output_type": "execute_result",
          "data": {
            "text/plain": [
              "5"
            ]
          },
          "metadata": {
            "tags": []
          },
          "execution_count": 2
        }
      ]
    },
    {
      "cell_type": "code",
      "metadata": {
        "id": "QAmb-K_FESxy"
      },
      "source": [
        ""
      ],
      "execution_count": null,
      "outputs": []
    }
  ]
}