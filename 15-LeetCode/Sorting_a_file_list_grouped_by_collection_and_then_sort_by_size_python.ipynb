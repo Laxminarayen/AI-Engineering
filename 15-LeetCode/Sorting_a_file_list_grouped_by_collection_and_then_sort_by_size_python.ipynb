{
  "nbformat": 4,
  "nbformat_minor": 0,
  "metadata": {
    "colab": {
      "name": "Sorting a file list grouped by collection and then sort by size python.ipynb",
      "provenance": [],
      "authorship_tag": "ABX9TyOJ14GKQYPFevGf/Vc9KRP8",
      "include_colab_link": true
    },
    "kernelspec": {
      "name": "python3",
      "display_name": "Python 3"
    },
    "language_info": {
      "name": "python"
    }
  },
  "cells": [
    {
      "cell_type": "markdown",
      "metadata": {
        "id": "view-in-github",
        "colab_type": "text"
      },
      "source": [
        "<a href=\"https://colab.research.google.com/github/plthiyagu/AI-Engineering/blob/master/15-LeetCode/Sorting_a_file_list_grouped_by_collection_and_then_sort_by_size_python.ipynb\" target=\"_parent\"><img src=\"https://colab.research.google.com/assets/colab-badge.svg\" alt=\"Open In Colab\"/></a>"
      ]
    },
    {
      "cell_type": "code",
      "metadata": {
        "id": "7DFE7skv4mP-"
      },
      "source": [
        "import glob\n",
        "import os\n",
        "dir_name = '/content/sample_data'\n",
        "# Get a list of files (file paths) in the given directory \n",
        "list_of_files = filter( os.path.isfile,\n",
        "                        glob.glob(dir_name + '*') )\n",
        "# Sort list of files in directory by size \n",
        "list_of_files = sorted( list_of_files,\n",
        "                        key =  lambda x: os.stat(x).st_size)\n",
        "# Iterate over sorted list of files in directory and \n",
        "# print them one by one along with size\n",
        "for elem in list_of_files:\n",
        "    file_size  = os.stat(elem).st_size \n",
        "    print(file_size, ' -->', elem)   \n"
      ],
      "execution_count": 2,
      "outputs": []
    },
    {
      "cell_type": "code",
      "metadata": {
        "id": "27Iet_r_4svQ"
      },
      "source": [
        "import os, operator, sys\n",
        "dirpath = os.path.abspath(sys.argv[0])\n",
        "# make a generator for all file paths within dirpath\n",
        "all_files = ( os.path.join(basedir, filename) for basedir, dirs, files in os.walk(dirpath) for filename in files   )\n"
      ],
      "execution_count": 3,
      "outputs": []
    },
    {
      "cell_type": "code",
      "metadata": {
        "id": "-E2elYjd5KoY"
      },
      "source": [
        "import os\n",
        "\n",
        "file_paths = [os.path.join(files_dir, file_name) for file_name in os.listdir(files_dir)]\n",
        "file_sizes = [os.path.getsize(file_path) for file_path in file_paths]\n"
      ],
      "execution_count": null,
      "outputs": []
    }
  ]
}