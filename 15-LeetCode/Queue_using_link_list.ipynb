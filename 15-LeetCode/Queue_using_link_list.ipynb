{
  "nbformat": 4,
  "nbformat_minor": 0,
  "metadata": {
    "colab": {
      "name": "Queue using link list.ipynb",
      "provenance": [],
      "authorship_tag": "ABX9TyN1g2tWi2YYVge/eUk4F/eW",
      "include_colab_link": true
    },
    "kernelspec": {
      "name": "python3",
      "display_name": "Python 3"
    },
    "language_info": {
      "name": "python"
    }
  },
  "cells": [
    {
      "cell_type": "markdown",
      "metadata": {
        "id": "view-in-github",
        "colab_type": "text"
      },
      "source": [
        "<a href=\"https://colab.research.google.com/github/plthiyagu/AI-Engineering/blob/master/15-LeetCode/Queue_using_link_list.ipynb\" target=\"_parent\"><img src=\"https://colab.research.google.com/assets/colab-badge.svg\" alt=\"Open In Colab\"/></a>"
      ]
    },
    {
      "cell_type": "code",
      "metadata": {
        "colab": {
          "base_uri": "https://localhost:8080/"
        },
        "id": "f_z1OyXax4ni",
        "outputId": "5bd64167-7bc4-457b-b11a-a8b39e978054"
      },
      "source": [
        "\"\"\"Make a Queue class using a list!\n",
        "Hint: You can use any Python list method\n",
        "you'd like! Try to write each one in as \n",
        "few lines as possible.\n",
        "Make sure you pass the test cases too!\"\"\"\n",
        "\n",
        "class Queue:\n",
        "    def __init__(self, head=None):\n",
        "        self.storage = [head]\n",
        "\n",
        "    def enqueue(self, new_element):\n",
        "        self.storage.append(new_element)\n",
        "\n",
        "\n",
        "    def peek(self):\n",
        "        return self.storage[0]\n",
        " \n",
        "\n",
        "    def dequeue(self):\n",
        "         return self.storage.pop(0)\n",
        "    \n",
        "# Setup\n",
        "q = Queue(1)\n",
        "q.enqueue(2)\n",
        "q.enqueue(3)\n",
        "\n",
        "# Test peek\n",
        "# Should be 1\n",
        "print (q.peek())\n",
        "\n",
        "# Test dequeue\n",
        "# Should be 1\n",
        "print (q.dequeue())\n",
        "\n",
        "# Test enqueue\n",
        "q.enqueue(4)\n",
        "# Should be 2\n",
        "print (q.dequeue())\n",
        "# Should be 3\n",
        "print (q.dequeue())\n",
        "# Should be 4\n",
        "print(q.dequeue())\n",
        "q.enqueue(5)\n",
        "# Should be 5\n",
        "print (q.peek())"
      ],
      "execution_count": 1,
      "outputs": [
        {
          "output_type": "stream",
          "text": [
            "1\n",
            "1\n",
            "2\n",
            "3\n",
            "4\n",
            "5\n"
          ],
          "name": "stdout"
        }
      ]
    },
    {
      "cell_type": "code",
      "metadata": {
        "id": "6OVxIP_lyDZr"
      },
      "source": [
        ""
      ],
      "execution_count": null,
      "outputs": []
    }
  ]
}