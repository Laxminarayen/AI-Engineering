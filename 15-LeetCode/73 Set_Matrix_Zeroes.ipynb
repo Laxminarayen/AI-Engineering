{
  "nbformat": 4,
  "nbformat_minor": 0,
  "metadata": {
    "colab": {
      "name": "73  Set Matrix Zeroes.ipynb",
      "provenance": [],
      "authorship_tag": "ABX9TyMFV8TQm2Pg/lBMX7CGXCgM",
      "include_colab_link": true
    },
    "kernelspec": {
      "name": "python3",
      "display_name": "Python 3"
    },
    "language_info": {
      "name": "python"
    }
  },
  "cells": [
    {
      "cell_type": "markdown",
      "metadata": {
        "id": "view-in-github",
        "colab_type": "text"
      },
      "source": [
        "<a href=\"https://colab.research.google.com/github/plthiyagu/AI-Engineering/blob/master/15-LeetCode/73%20Set_Matrix_Zeroes.ipynb\" target=\"_parent\"><img src=\"https://colab.research.google.com/assets/colab-badge.svg\" alt=\"Open In Colab\"/></a>"
      ]
    },
    {
      "cell_type": "code",
      "metadata": {
        "id": "z19DNIFCI5qK"
      },
      "source": [
        "def setZeroes( matrix):\n",
        "    \"\"\"\n",
        "    :type matrix: List[List[int]]\n",
        "    :rtype: None Do not return anything, modify matrix in-place instead.\n",
        "    \"\"\"\n",
        "    zero_rows = set()\n",
        "    zero_columns = set()\n",
        "    \n",
        "    for i in range(0, len(matrix)):\n",
        "        for j in range(0, len(matrix[0])):                \n",
        "            if matrix[i][j] == 0:\n",
        "                zero_rows.add(i)\n",
        "                zero_columns.add(j)                    \n",
        "                \n",
        "    \n",
        "    for i in range(0, len(matrix)):\n",
        "        for j in range(0, len(matrix[0])):                \n",
        "            if i in zero_rows or j in zero_columns:\n",
        "                matrix[i][j] = 0"
      ],
      "execution_count": 1,
      "outputs": []
    },
    {
      "cell_type": "code",
      "metadata": {
        "id": "8xczFsfUI7f6"
      },
      "source": [
        "matrix = [[1,1,1],[1,0,1],[1,1,1]]\n",
        "setZeroes( matrix)"
      ],
      "execution_count": 2,
      "outputs": []
    },
    {
      "cell_type": "code",
      "metadata": {
        "id": "69lYQ49PJGX6"
      },
      "source": [
        ""
      ],
      "execution_count": null,
      "outputs": []
    }
  ]
}