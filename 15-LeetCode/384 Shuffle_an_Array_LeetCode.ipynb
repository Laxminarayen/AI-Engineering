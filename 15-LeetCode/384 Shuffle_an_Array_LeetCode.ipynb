{
  "nbformat": 4,
  "nbformat_minor": 0,
  "metadata": {
    "colab": {
      "name": "384 Shuffle an Array LeetCode.ipynb",
      "provenance": [],
      "collapsed_sections": [],
      "authorship_tag": "ABX9TyMDGxeNeFV3AA+U3MCArpJm",
      "include_colab_link": true
    },
    "kernelspec": {
      "name": "python3",
      "display_name": "Python 3"
    },
    "language_info": {
      "name": "python"
    }
  },
  "cells": [
    {
      "cell_type": "markdown",
      "metadata": {
        "id": "view-in-github",
        "colab_type": "text"
      },
      "source": [
        "<a href=\"https://colab.research.google.com/github/plthiyagu/AI-Engineering/blob/master/22-LeetCode/384_Shuffle_an_Array_LeetCode.ipynb\" target=\"_parent\"><img src=\"https://colab.research.google.com/assets/colab-badge.svg\" alt=\"Open In Colab\"/></a>"
      ]
    },
    {
      "cell_type": "code",
      "metadata": {
        "id": "79q6XEte42zA"
      },
      "source": [
        "import random\n",
        "\n",
        "class Solution(object):\n",
        "    def __init__(self, nums):\n",
        "        \"\"\"\n",
        "        :type nums: List[int]\n",
        "        :type size: int\n",
        "        \"\"\"\n",
        "        self.nums = nums\n",
        "\n",
        "    def reset(self):\n",
        "        \"\"\"\n",
        "        Resets the array to its original configuration and return it.\n",
        "        :rtype: List[int]\n",
        "        \"\"\"\n",
        "        return self.nums\n",
        "\n",
        "    def shuffle(self):\n",
        "        \"\"\"\n",
        "        Returns a random shuffling of the array.\n",
        "        :rtype: List[int]\n",
        "        \"\"\"\n",
        "        ret = list(self.nums)\n",
        "        random.shuffle(ret)\n",
        "        return ret"
      ],
      "execution_count": 1,
      "outputs": []
    },
    {
      "cell_type": "code",
      "metadata": {
        "colab": {
          "base_uri": "https://localhost:8080/"
        },
        "id": "ElOb_64M6VBt",
        "outputId": "762a2f1c-a1da-4104-fd49-734ba84dbaa6"
      },
      "source": [
        "#Your Solution object will be instantiated and called as such:\n",
        "nums=[1,3,4,5,2]\n",
        "obj = Solution(nums)\n",
        "param_1 = obj.reset()\n",
        "param_2 = obj.shuffle()\n",
        "param_2"
      ],
      "execution_count": 5,
      "outputs": [
        {
          "output_type": "execute_result",
          "data": {
            "text/plain": [
              "[5, 3, 1, 4, 2]"
            ]
          },
          "metadata": {
            "tags": []
          },
          "execution_count": 5
        }
      ]
    },
    {
      "cell_type": "code",
      "metadata": {
        "id": "usdz54aC6tdz"
      },
      "source": [
        ""
      ],
      "execution_count": null,
      "outputs": []
    },
    {
      "cell_type": "code",
      "metadata": {
        "id": "pxHgJ_lp6htO"
      },
      "source": [
        ""
      ],
      "execution_count": null,
      "outputs": []
    }
  ]
}