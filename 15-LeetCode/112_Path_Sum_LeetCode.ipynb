{
  "nbformat": 4,
  "nbformat_minor": 0,
  "metadata": {
    "colab": {
      "name": "112  Path Sum LeetCode.ipynb",
      "provenance": [],
      "authorship_tag": "ABX9TyNujrVikVGC0AEHtmCskaxw",
      "include_colab_link": true
    },
    "kernelspec": {
      "name": "python3",
      "display_name": "Python 3"
    },
    "language_info": {
      "name": "python"
    }
  },
  "cells": [
    {
      "cell_type": "markdown",
      "metadata": {
        "id": "view-in-github",
        "colab_type": "text"
      },
      "source": [
        "<a href=\"https://colab.research.google.com/github/plthiyagu/AI-Engineering/blob/master/15-LeetCode/112_Path_Sum_LeetCode.ipynb\" target=\"_parent\"><img src=\"https://colab.research.google.com/assets/colab-badge.svg\" alt=\"Open In Colab\"/></a>"
      ]
    },
    {
      "cell_type": "code",
      "metadata": {
        "id": "NRYaZDDGH1Wp"
      },
      "source": [
        "# Definition for a binary tree node.\n",
        "# class TreeNode:\n",
        "#     def __init__(self, val=0, left=None, right=None):\n",
        "#         self.val = val\n",
        "#         self.left = left\n",
        "#         self.right = right\n",
        "class Solution:\n",
        "    def hasPathSum(self, root: Optional[TreeNode], targetSum: int) -> bool:\n",
        "        if root is None: return False\n",
        "        if root.left is None and root.right is None and targetSum == root.val:\n",
        "            return True\n",
        "        return self.hasPathSum(root.left, targetSum-root.val) or self.hasPathSum(root.right, targetSum-root.val)\n",
        "        "
      ],
      "execution_count": null,
      "outputs": []
    },
    {
      "cell_type": "code",
      "metadata": {
        "id": "ntX2VfBWH3Do"
      },
      "source": [
        "root = [5,4,8,11,null,13,4,7,2,null,null,null,1]\n",
        "targetSum = 22\n"
      ],
      "execution_count": null,
      "outputs": []
    }
  ]
}