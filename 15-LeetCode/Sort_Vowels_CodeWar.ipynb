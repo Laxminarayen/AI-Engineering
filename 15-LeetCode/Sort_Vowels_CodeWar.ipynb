{
  "nbformat": 4,
  "nbformat_minor": 0,
  "metadata": {
    "colab": {
      "name": "Sort Vowels CodeWar.ipynb",
      "provenance": [],
      "authorship_tag": "ABX9TyMMrh/Zo/LvF3pnx991F43a",
      "include_colab_link": true
    },
    "kernelspec": {
      "name": "python3",
      "display_name": "Python 3"
    },
    "language_info": {
      "name": "python"
    }
  },
  "cells": [
    {
      "cell_type": "markdown",
      "metadata": {
        "id": "view-in-github",
        "colab_type": "text"
      },
      "source": [
        "<a href=\"https://colab.research.google.com/github/plthiyagu/AI-Engineering/blob/master/15-LeetCode/Sort_Vowels_CodeWar.ipynb\" target=\"_parent\"><img src=\"https://colab.research.google.com/assets/colab-badge.svg\" alt=\"Open In Colab\"/></a>"
      ]
    },
    {
      "cell_type": "code",
      "metadata": {
        "id": "H4etcNhNqeoK"
      },
      "source": [
        "def sort_vowels(s):\n",
        "    #code\n",
        "    if type(s) == int or s == None:\n",
        "        return ''\n",
        "    \n",
        "    output = ''\n",
        "    for letter in s:\n",
        "        if letter.lower() in 'aeiou':\n",
        "            letter = '|' + letter\n",
        "        else:\n",
        "            letter += '|'\n",
        "        output += letter +'\\n'\n",
        "    return output.strip('\\n')"
      ],
      "execution_count": 1,
      "outputs": []
    },
    {
      "cell_type": "code",
      "metadata": {
        "colab": {
          "base_uri": "https://localhost:8080/",
          "height": 35
        },
        "id": "y0587nZPqnAM",
        "outputId": "32cb0343-0727-4886-919a-64f77eb079c6"
      },
      "source": [
        "s='C|\\n|o\\nd|\\n|e\\nw|\\n|a\\nr|\\ns|'\n",
        "sort_vowels(s)"
      ],
      "execution_count": 2,
      "outputs": [
        {
          "output_type": "execute_result",
          "data": {
            "application/vnd.google.colaboratory.intrinsic+json": {
              "type": "string"
            },
            "text/plain": [
              "'C|\\n||\\n\\n|\\n||\\n|o\\n\\n|\\nd|\\n||\\n\\n|\\n||\\n|e\\n\\n|\\nw|\\n||\\n\\n|\\n||\\n|a\\n\\n|\\nr|\\n||\\n\\n|\\ns|\\n||'"
            ]
          },
          "metadata": {
            "tags": []
          },
          "execution_count": 2
        }
      ]
    },
    {
      "cell_type": "code",
      "metadata": {
        "id": "oVGWID_zqyAZ"
      },
      "source": [
        "def sort_vowels(s):\n",
        "    try:\n",
        "        return '\\n'.join('|' + i  if i.lower() in 'aioue' else i + '|' for i in s)\n",
        "    except:\n",
        "        return ''"
      ],
      "execution_count": 3,
      "outputs": []
    },
    {
      "cell_type": "code",
      "metadata": {
        "id": "50NPP5TFr67b"
      },
      "source": [
        ""
      ],
      "execution_count": null,
      "outputs": []
    }
  ]
}