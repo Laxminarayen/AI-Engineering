{
  "nbformat": 4,
  "nbformat_minor": 0,
  "metadata": {
    "colab": {
      "name": "Alan Partridge II - Apple Turnover CodeWar.ipynb",
      "provenance": [],
      "authorship_tag": "ABX9TyNrafkDdF01aE7At3TBUNkM",
      "include_colab_link": true
    },
    "kernelspec": {
      "name": "python3",
      "display_name": "Python 3"
    },
    "language_info": {
      "name": "python"
    }
  },
  "cells": [
    {
      "cell_type": "markdown",
      "metadata": {
        "id": "view-in-github",
        "colab_type": "text"
      },
      "source": [
        "<a href=\"https://colab.research.google.com/github/plthiyagu/AI-Engineering/blob/master/15-LeetCode/Alan_Partridge_II_Apple_Turnover_CodeWar.ipynb\" target=\"_parent\"><img src=\"https://colab.research.google.com/assets/colab-badge.svg\" alt=\"Open In Colab\"/></a>"
      ]
    },
    {
      "cell_type": "code",
      "metadata": {
        "id": "vhccWf1_rdVI"
      },
      "source": [
        "def apple(x):\n",
        "    return \"It's hotter than the sun!!\" if int(x)**2 > 1000 else \"Help yourself to a honeycomb Yorkie for the glovebox.\""
      ],
      "execution_count": 1,
      "outputs": []
    },
    {
      "cell_type": "code",
      "metadata": {
        "id": "M4p953tirejM"
      },
      "source": [
        "def apple(x):\n",
        "    if int(x)**2 > 1000:\n",
        "        return \"It's hotter than the sun!!\"\n",
        "    else:\n",
        "        return \"Help yourself to a honeycomb Yorkie for the glovebox.\""
      ],
      "execution_count": 2,
      "outputs": []
    },
    {
      "cell_type": "code",
      "metadata": {
        "id": "BYyxkTQRrtiT"
      },
      "source": [
        ""
      ],
      "execution_count": null,
      "outputs": []
    }
  ]
}