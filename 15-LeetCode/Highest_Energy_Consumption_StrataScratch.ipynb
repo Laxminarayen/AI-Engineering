{
  "nbformat": 4,
  "nbformat_minor": 0,
  "metadata": {
    "colab": {
      "name": "Highest Energy Consumption StrataScratch.ipynb",
      "provenance": [],
      "authorship_tag": "ABX9TyOwl2dGdiHTIi6da7CWzkBq",
      "include_colab_link": true
    },
    "kernelspec": {
      "name": "python3",
      "display_name": "Python 3"
    },
    "language_info": {
      "name": "python"
    }
  },
  "cells": [
    {
      "cell_type": "markdown",
      "metadata": {
        "id": "view-in-github",
        "colab_type": "text"
      },
      "source": [
        "<a href=\"https://colab.research.google.com/github/plthiyagu/AI-Engineering/blob/master/15-LeetCode/Highest_Energy_Consumption_StrataScratch.ipynb\" target=\"_parent\"><img src=\"https://colab.research.google.com/assets/colab-badge.svg\" alt=\"Open In Colab\"/></a>"
      ]
    },
    {
      "cell_type": "code",
      "metadata": {
        "id": "SSCfLdB4l4cG"
      },
      "source": [
        "# Import your libraries\n",
        "import pandas as pd\n",
        "\n",
        "# Start writing code\n",
        "fb_eu_energy.head()\n",
        "union= pd.concat([fb_eu_energy, fb_asia_energy, fb_na_energy])\n",
        "union.head()\n",
        "union= union.groupby('date').sum().reset_index()\n",
        "union[union['consumption']==union['consumption'].max()][['date', 'consumption']]"
      ],
      "execution_count": null,
      "outputs": []
    }
  ]
}