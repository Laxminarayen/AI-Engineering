{
  "nbformat": 4,
  "nbformat_minor": 0,
  "metadata": {
    "colab": {
      "name": "Rock Paper Scissor game.ipynb",
      "provenance": [],
      "authorship_tag": "ABX9TyNmvX1c6AXY6ER0Lay9BOEg",
      "include_colab_link": true
    },
    "kernelspec": {
      "name": "python3",
      "display_name": "Python 3"
    },
    "language_info": {
      "name": "python"
    }
  },
  "cells": [
    {
      "cell_type": "markdown",
      "metadata": {
        "id": "view-in-github",
        "colab_type": "text"
      },
      "source": [
        "<a href=\"https://colab.research.google.com/github/plthiyagu/AI-Engineering/blob/master/15-LeetCode/Rock_Paper_Scissor_game.ipynb\" target=\"_parent\"><img src=\"https://colab.research.google.com/assets/colab-badge.svg\" alt=\"Open In Colab\"/></a>"
      ]
    },
    {
      "cell_type": "code",
      "metadata": {
        "colab": {
          "base_uri": "https://localhost:8080/"
        },
        "id": "mw51NbcPzbsI",
        "outputId": "a2bb16d8-fddc-44cf-9548-5a188a89b3b4"
      },
      "source": [
        "# import random module\n",
        "import random\n",
        "\n",
        "# Print multiline instruction\n",
        "# performstring concatenation of string\n",
        "print(\"Winning Rules of the Rock paper scissor game as follows: \\n\"\n",
        "\t\t\t\t\t\t\t\t+\"Rock vs paper->paper wins \\n\"\n",
        "\t\t\t\t\t\t\t\t+ \"Rock vs scissor->Rock wins \\n\"\n",
        "\t\t\t\t\t\t\t\t+\"paper vs scissor->scissor wins \\n\")\n",
        "\n",
        "while True:\n",
        "\tprint(\"Enter choice \\n 1. Rock \\n 2. paper \\n 3. scissor \\n\")\n",
        "\t\n",
        "\t# take the input from user\n",
        "\tchoice = int(input(\"User turn: \"))\n",
        "\n",
        "\t# OR is the short-circuit operator\n",
        "\t# if any one of the condition is true\n",
        "\t# then it return True value\n",
        "\t\n",
        "\t# looping until user enter invalid input\n",
        "\twhile choice > 3 or choice < 1:\n",
        "\t\tchoice = int(input(\"enter valid input: \"))\n",
        "\t\t\n",
        "\n",
        "\t# initialize value of choice_name variable\n",
        "\t# corresponding to the choice value\n",
        "\tif choice == 1:\n",
        "\t\tchoice_name = 'Rock'\n",
        "\telif choice == 2:\n",
        "\t\tchoice_name = 'paper'\n",
        "\telse:\n",
        "\t\tchoice_name = 'scissor'\n",
        "\t\t\n",
        "\t# print user choice\n",
        "\tprint(\"user choice is: \" + choice_name)\n",
        "\tprint(\"\\nNow its computer turn.......\")\n",
        "\n",
        "\t# Computer chooses randomly any number\n",
        "\t# among 1 , 2 and 3. Using randint method\n",
        "\t# of random module\n",
        "\tcomp_choice = random.randint(1, 3)\n",
        "\t\n",
        "\t# looping until comp_choice value\n",
        "\t# is equal to the choice value\n",
        "\twhile comp_choice == choice:\n",
        "\t\tcomp_choice = random.randint(1, 3)\n",
        "\n",
        "\t# initialize value of comp_choice_name\n",
        "\t# variable corresponding to the choice value\n",
        "\tif comp_choice == 1:\n",
        "\t\tcomp_choice_name = 'Rock'\n",
        "\telif comp_choice == 2:\n",
        "\t\tcomp_choice_name = 'paper'\n",
        "\telse:\n",
        "\t\tcomp_choice_name = 'scissor'\n",
        "\t\t\n",
        "\tprint(\"Computer choice is: \" + comp_choice_name)\n",
        "\n",
        "\tprint(choice_name + \" V/s \" + comp_choice_name)\n",
        "\n",
        "\t# condition for winning\n",
        "\tif((choice == 1 and comp_choice == 2) or\n",
        "\t(choice == 2 and comp_choice ==1 )):\n",
        "\t\tprint(\"paper wins => \", end = \"\")\n",
        "\t\tresult = \"paper\"\n",
        "\t\t\n",
        "\telif((choice == 1 and comp_choice == 3) or\n",
        "\t\t(choice == 3 and comp_choice == 1)):\n",
        "\t\tprint(\"Rock wins =>\", end = \"\")\n",
        "\t\tresult = \"Rock\"\n",
        "\telse:\n",
        "\t\tprint(\"scissor wins =>\", end = \"\")\n",
        "\t\tresult = \"scissor\"\n",
        "\n",
        "\t# Printing either user or computer wins\n",
        "\tif result == choice_name:\n",
        "\t\tprint(\"<== User wins ==>\")\n",
        "\telse:\n",
        "\t\tprint(\"<== Computer wins ==>\")\n",
        "\t\t\n",
        "\tprint(\"Do you want to play again? (Y/N)\")\n",
        "\tans = input()\n",
        "\n",
        "\n",
        "\t# if user input n or N then condition is True\n",
        "\tif ans == 'n' or ans == 'N':\n",
        "\t\tbreak\n",
        "\t\n",
        "# after coming out of the while loop\n",
        "# we print thanks for playing\n",
        "print(\"\\nThanks for playing\")"
      ],
      "execution_count": 1,
      "outputs": [
        {
          "output_type": "stream",
          "name": "stdout",
          "text": [
            "Winning Rules of the Rock paper scissor game as follows: \n",
            "Rock vs paper->paper wins \n",
            "Rock vs scissor->Rock wins \n",
            "paper vs scissor->scissor wins \n",
            "\n",
            "Enter choice \n",
            " 1. Rock \n",
            " 2. paper \n",
            " 3. scissor \n",
            "\n",
            "User turn: 1\n",
            "user choice is: Rock\n",
            "\n",
            "Now its computer turn.......\n",
            "Computer choice is: paper\n",
            "Rock V/s paper\n",
            "paper wins => <== Computer wins ==>\n",
            "Do you want to play again? (Y/N)\n",
            "N\n",
            "\n",
            "Thanks for playing\n"
          ]
        }
      ]
    },
    {
      "cell_type": "code",
      "metadata": {
        "id": "2R62SNStzcqE"
      },
      "source": [
        ""
      ],
      "execution_count": null,
      "outputs": []
    }
  ]
}