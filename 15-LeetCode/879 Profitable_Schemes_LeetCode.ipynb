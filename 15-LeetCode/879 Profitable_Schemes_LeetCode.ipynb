{
  "nbformat": 4,
  "nbformat_minor": 0,
  "metadata": {
    "colab": {
      "name": "Profitable Schemes LeetCode 879.ipynb",
      "provenance": [],
      "collapsed_sections": [],
      "authorship_tag": "ABX9TyPVsHtGZnCVHIlwqnMhTjzP",
      "include_colab_link": true
    },
    "kernelspec": {
      "name": "python3",
      "display_name": "Python 3"
    },
    "language_info": {
      "name": "python"
    }
  },
  "cells": [
    {
      "cell_type": "markdown",
      "metadata": {
        "id": "view-in-github",
        "colab_type": "text"
      },
      "source": [
        "<a href=\"https://colab.research.google.com/github/plthiyagu/AI-Engineering/blob/master/15-LeetCode/Profitable_Schemes_LeetCode_879.ipynb\" target=\"_parent\"><img src=\"https://colab.research.google.com/assets/colab-badge.svg\" alt=\"Open In Colab\"/></a>"
      ]
    },
    {
      "cell_type": "code",
      "metadata": {
        "id": "Px5tk13D4ymr"
      },
      "source": [
        "def profitableSchemes(n, minProfit, group, profit):\n",
        "    \"\"\"\n",
        "    :type n: int\n",
        "    :type minProfit: int\n",
        "    :type group: List[int]\n",
        "    :type profit: List[int]\n",
        "    :rtype: int\n",
        "    \"\"\"\n",
        "    dp = [[0]*(n+1) for i in range(minProfit+1)]\n",
        "    dp[0][0] = 1\n",
        "    for g, p in zip(group, profit):\n",
        "        for i in range(minProfit, -1, -1):\n",
        "            for j in range(n-g, -1, -1):\n",
        "                dp[min(minProfit, i+p)][j+g] += dp[i][j] \n",
        "    return sum(dp[minProfit])%(10**9+7)\n"
      ],
      "execution_count": 1,
      "outputs": []
    },
    {
      "cell_type": "code",
      "metadata": {
        "colab": {
          "base_uri": "https://localhost:8080/"
        },
        "id": "MRMkD5jN416w",
        "outputId": "0db9eaf3-c0b0-4d22-eee5-f089107ea8b9"
      },
      "source": [
        "n = 5\n",
        "minProfit = 3\n",
        "group = [2,2]\n",
        "profit = [2,3]\n",
        "profitableSchemes(n, minProfit, group, profit)"
      ],
      "execution_count": 3,
      "outputs": [
        {
          "output_type": "execute_result",
          "data": {
            "text/plain": [
              "2"
            ]
          },
          "metadata": {
            "tags": []
          },
          "execution_count": 3
        }
      ]
    },
    {
      "cell_type": "code",
      "metadata": {
        "id": "Fdad22AM5GRQ"
      },
      "source": [
        ""
      ],
      "execution_count": null,
      "outputs": []
    },
    {
      "cell_type": "code",
      "metadata": {
        "id": "X12UW1Dt5BdY"
      },
      "source": [
        ""
      ],
      "execution_count": null,
      "outputs": []
    }
  ]
}