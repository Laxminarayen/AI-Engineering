{
  "nbformat": 4,
  "nbformat_minor": 0,
  "metadata": {
    "colab": {
      "name": "103 Binary Tree Zigzag Level Order Traversal LeetCode.ipynb",
      "provenance": [],
      "authorship_tag": "ABX9TyMctZF/HcXLsE4BQ7EpOp9O",
      "include_colab_link": true
    },
    "kernelspec": {
      "name": "python3",
      "display_name": "Python 3"
    },
    "language_info": {
      "name": "python"
    }
  },
  "cells": [
    {
      "cell_type": "markdown",
      "metadata": {
        "id": "view-in-github",
        "colab_type": "text"
      },
      "source": [
        "<a href=\"https://colab.research.google.com/github/plthiyagu/AI-Engineering/blob/master/15-LeetCode/103_Binary_Tree_Zigzag_Level_Order_Traversal_LeetCode.ipynb\" target=\"_parent\"><img src=\"https://colab.research.google.com/assets/colab-badge.svg\" alt=\"Open In Colab\"/></a>"
      ]
    },
    {
      "cell_type": "code",
      "metadata": {
        "id": "U-YWNF1TcSNQ"
      },
      "source": [
        "# Definition for a binary tree node.\n",
        "# class TreeNode:\n",
        "#     def __init__(self, val=0, left=None, right=None):\n",
        "#         self.val = val\n",
        "#         self.left = left\n",
        "#         self.right = right\n",
        "class Solution:\n",
        "    def zigzagLevelOrder(self, root: Optional[TreeNode]) -> List[List[int]]:\n",
        "        if root is None:\n",
        "            return []\n",
        "        queue = collections.deque([root])\n",
        "        res = []\n",
        "        flag = True #left->right\n",
        "        while queue:\n",
        "            tmp = []\n",
        "            for _ in range(len(queue)):\n",
        "                if flag:\n",
        "                    node = queue.popleft()\n",
        "                    tmp.append(node.val)\n",
        "                    if node.left:\n",
        "                        queue.append(node.left)\n",
        "                    if node.right:\n",
        "                        queue.append(node.right)\n",
        "                else:\n",
        "                    node = queue.pop()\n",
        "                    tmp.append(node.val)\n",
        "                    if node.right:\n",
        "                        queue.appendleft(node.right)\n",
        "                    if node.left:\n",
        "                        queue.appendleft(node.left)\n",
        "            flag = not flag\n",
        "            res.append(tmp)\n",
        "        return res\n",
        "\n",
        "        "
      ],
      "execution_count": null,
      "outputs": []
    }
  ]
}