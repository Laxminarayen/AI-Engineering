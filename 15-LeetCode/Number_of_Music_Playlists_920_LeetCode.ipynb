{
  "nbformat": 4,
  "nbformat_minor": 0,
  "metadata": {
    "colab": {
      "name": "Number of Music Playlists 920 LeetCode.ipynb",
      "provenance": [],
      "collapsed_sections": [],
      "authorship_tag": "ABX9TyNQT19SyYqUyxgK5kVjJ9eK",
      "include_colab_link": true
    },
    "kernelspec": {
      "name": "python3",
      "display_name": "Python 3"
    },
    "language_info": {
      "name": "python"
    }
  },
  "cells": [
    {
      "cell_type": "markdown",
      "metadata": {
        "id": "view-in-github",
        "colab_type": "text"
      },
      "source": [
        "<a href=\"https://colab.research.google.com/github/plthiyagu/AI-Engineering/blob/master/22-LeetCode/Number_of_Music_Playlists_920_LeetCode.ipynb\" target=\"_parent\"><img src=\"https://colab.research.google.com/assets/colab-badge.svg\" alt=\"Open In Colab\"/></a>"
      ]
    },
    {
      "cell_type": "markdown",
      "metadata": {
        "id": "uUZmuyVmxaEf"
      },
      "source": [
        "Your music player contains n different songs. You want to listen to goal songs (not necessarily different) during your trip. To avoid boredom, you will create a playlist so that:\n",
        "\n",
        "Every song is played at least once.\n",
        "A song can only be played again only if k other songs have been played.\n",
        "Given n, goal, and k, return the number of possible playlists that you can create. Since the answer can be very large, return it modulo 109 + 7.\n",
        "\n"
      ]
    },
    {
      "cell_type": "code",
      "metadata": {
        "id": "MbyU6HUlw8RI"
      },
      "source": [
        "def numMusicPlaylists(n, goal, k):\n",
        "    \"\"\"\n",
        "    :type n: int\n",
        "    :type goal: int\n",
        "    :type k: int\n",
        "    :rtype: int\n",
        "    \"\"\"\n",
        "    \n",
        "    m = 10**9+7\n",
        "    dp = [[0] * (n+1) for i in range(goal+1)] \n",
        "    dp[0][0] = 1 \n",
        "    for i in range(1, goal+1):\n",
        "        for j in range(1, n+1):\n",
        "            dp[i][j] += dp[i-1][j-1] * (n-j+1) % m \n",
        "            if j > k:             \n",
        "                dp[i][j] += dp[i-1][j] * (j-k) % m\n",
        "    return dp[goal][n] % m"
      ],
      "execution_count": 3,
      "outputs": []
    },
    {
      "cell_type": "code",
      "metadata": {
        "colab": {
          "base_uri": "https://localhost:8080/"
        },
        "id": "RIE8yXlOxCKr",
        "outputId": "93ea2a77-33db-4940-fe1d-fdb3bcfda0a2"
      },
      "source": [
        "n = 3\n",
        "goal = 3\n",
        "k = 1\n",
        "numMusicPlaylists(n, goal, k)"
      ],
      "execution_count": 5,
      "outputs": [
        {
          "output_type": "execute_result",
          "data": {
            "text/plain": [
              "6"
            ]
          },
          "metadata": {
            "tags": []
          },
          "execution_count": 5
        }
      ]
    },
    {
      "cell_type": "code",
      "metadata": {
        "id": "GSqKs1BbxN4R"
      },
      "source": [
        ""
      ],
      "execution_count": null,
      "outputs": []
    },
    {
      "cell_type": "code",
      "metadata": {
        "id": "nF3WNjSDxK-3"
      },
      "source": [
        ""
      ],
      "execution_count": null,
      "outputs": []
    },
    {
      "cell_type": "code",
      "metadata": {
        "id": "7EaK0R6MxBaf"
      },
      "source": [
        ""
      ],
      "execution_count": null,
      "outputs": []
    },
    {
      "cell_type": "code",
      "metadata": {
        "id": "az73re-5w_n6"
      },
      "source": [
        ""
      ],
      "execution_count": null,
      "outputs": []
    }
  ]
}