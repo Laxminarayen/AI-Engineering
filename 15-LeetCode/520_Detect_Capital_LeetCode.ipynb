{
  "nbformat": 4,
  "nbformat_minor": 0,
  "metadata": {
    "colab": {
      "name": "520 Detect Capital LeetCode.ipynb",
      "provenance": [],
      "authorship_tag": "ABX9TyOshyv8ouckAYc/2fvWkWvg",
      "include_colab_link": true
    },
    "kernelspec": {
      "name": "python3",
      "display_name": "Python 3"
    },
    "language_info": {
      "name": "python"
    }
  },
  "cells": [
    {
      "cell_type": "markdown",
      "metadata": {
        "id": "view-in-github",
        "colab_type": "text"
      },
      "source": [
        "<a href=\"https://colab.research.google.com/github/plthiyagu/AI-Engineering/blob/master/15-LeetCode/520_Detect_Capital_LeetCode.ipynb\" target=\"_parent\"><img src=\"https://colab.research.google.com/assets/colab-badge.svg\" alt=\"Open In Colab\"/></a>"
      ]
    },
    {
      "cell_type": "code",
      "metadata": {
        "id": "L7pWN1NJTd7C"
      },
      "source": [
        "def detectCapitalUse(word: str) -> bool:\n",
        "  upper_count = 0\n",
        "  for c in word:\n",
        "      \n",
        "      if ord(c) >= ord('A') and ord(c) <= ord('Z'):\n",
        "          upper_count += 1\n",
        "\n",
        "  if upper_count == 0:\n",
        "      return True\n",
        "                      \n",
        "  if upper_count == len(word):\n",
        "      return True\n",
        "  \n",
        "  if upper_count == 1 and ord(word[0]) >= ord('A') and ord(word[0]) <= ord('Z'):\n",
        "      return True\n",
        "  \n",
        "  return False"
      ],
      "execution_count": 1,
      "outputs": []
    },
    {
      "cell_type": "code",
      "metadata": {
        "colab": {
          "base_uri": "https://localhost:8080/"
        },
        "id": "NDiWb9nKTqgy",
        "outputId": "8a2d4f46-5b00-46a8-92a6-c2656d930a8e"
      },
      "source": [
        "word = \"FlaG\"\n",
        "detectCapitalUse(word)"
      ],
      "execution_count": 2,
      "outputs": [
        {
          "output_type": "execute_result",
          "data": {
            "text/plain": [
              "False"
            ]
          },
          "metadata": {},
          "execution_count": 2
        }
      ]
    },
    {
      "cell_type": "code",
      "metadata": {
        "id": "Sqkx3gOdTyBP"
      },
      "source": [
        ""
      ],
      "execution_count": null,
      "outputs": []
    }
  ]
}