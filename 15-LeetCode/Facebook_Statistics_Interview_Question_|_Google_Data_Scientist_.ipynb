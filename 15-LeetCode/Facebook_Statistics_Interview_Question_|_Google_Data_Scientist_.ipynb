{
  "nbformat": 4,
  "nbformat_minor": 0,
  "metadata": {
    "colab": {
      "name": "Facebook Statistics Interview Question | Google Data Scientist .ipynb",
      "provenance": [],
      "collapsed_sections": [],
      "include_colab_link": true
    },
    "kernelspec": {
      "name": "python3",
      "display_name": "Python 3"
    },
    "language_info": {
      "name": "python"
    }
  },
  "cells": [
    {
      "cell_type": "markdown",
      "metadata": {
        "id": "view-in-github",
        "colab_type": "text"
      },
      "source": [
        "<a href=\"https://colab.research.google.com/github/plthiyagu/AI-Engineering/blob/master/15-LeetCode/Facebook_Statistics_Interview_Question_%7C_Google_Data_Scientist_.ipynb\" target=\"_parent\"><img src=\"https://colab.research.google.com/assets/colab-badge.svg\" alt=\"Open In Colab\"/></a>"
      ]
    },
    {
      "cell_type": "markdown",
      "metadata": {
        "id": "WR06TMKxS7eJ"
      },
      "source": [
        "# Facebook Statistics Interview Question | Google Data Scientist \n",
        "\n",
        "\n",
        "\n",
        "**Instruction**:\n",
        "\n",
        "We will walkthrough the following Colab to demonstrate the solution to this question below.\n",
        "\n",
        "An interviewer at **Facebook** asked:\n",
        "\n",
        "> *If you sample 10,000 users multiple times, what would be the distribution of false positives?*\n",
        "\n",
        "\n",
        "\n"
      ]
    },
    {
      "cell_type": "code",
      "metadata": {
        "id": "MrZjOMSAS8BO"
      },
      "source": [
        "# Load libraries\n",
        "import numpy as np\n",
        "import matplotlib.pyplot as plt\n",
        "import seaborn as sns\n",
        "import tqdm\n",
        "from warnings import filterwarnings\n",
        "\n",
        "# Let's ignore warnings for now, if any.\n",
        "filterwarnings('ignore')"
      ],
      "execution_count": null,
      "outputs": []
    },
    {
      "cell_type": "code",
      "metadata": {
        "id": "_TyLGFs2Q-nv",
        "cellView": "form"
      },
      "source": [
        "#@title Set Parameters for a Simulation\n",
        "#@markdown <b>Population_distribution</b> is the distribution of the raw data with true negatives and false positives. Select one from the dropdown. </br><b>False_positive_rate</b> is the same as alpha, the significance level, of a statistical test. <br><b>Sample_size</b> is the number of observations sampled from a population distribution. <br> <b>Iterations</b> is the number of samples gathered for the simulation step below.\n",
        "\n",
        "population_distribution = \"Exponential\"  #@param ['Normal', 'Exponential', 'Uniform']\n",
        "false_positive_rate = 0.05  #@param {type: \"number\"}\n",
        "sample_size = 10000 #@param {type: \"number\"}\n",
        "iterations = 1000 #@param {type: \"number\"}"
      ],
      "execution_count": null,
      "outputs": []
    },
    {
      "cell_type": "code",
      "metadata": {
        "id": "IF5zHrY87ncI",
        "colab": {
          "base_uri": "https://localhost:8080/",
          "height": 368
        },
        "cellView": "form",
        "outputId": "53a1e403-ad8e-44df-9af9-6e8cb623a736"
      },
      "source": [
        "#@title Step 1 - Generate Population Data\n",
        "#@markdown Display the distribution of the population data (blue) and the location of the false positive threshold where the region to the right <br> of the distribution is the false_positive_rate, or alpha. (red)\n",
        "\n",
        "pop_size = 1000000\n",
        "\n",
        "# Generate population data\n",
        "pop_data = None\n",
        "if population_distribution == 'Normal': \n",
        "  pop_data = np.random.normal(size=pop_size)\n",
        "elif population_distribution == 'Exponential':\n",
        "  pop_data = np.random.exponential(size=pop_size)\n",
        "else: \n",
        "  pop_data = np.random.uniform(size=pop_size)\n",
        "\n",
        "alpha_threshold = np.quantile(pop_data, 1 - false_positive_rate)\n",
        "\n",
        "print(f'[INFO] The location of the rejection threshold where alpha = {false_positive_rate} is on {alpha_threshold}.')\n",
        "\n",
        "# Plot the population distribution\n",
        "f, ax = plt.subplots(figsize=(10, 5))\n",
        "ax.hist(pop_data, bins=100, label='observations') \n",
        "ax.axvline(alpha_threshold, color='red', linestyle=('--'), alpha=0.5, label='Alpha Threshold')\n",
        "plt.legend()\n",
        "plt.title('Distribution of Population Data')\n",
        "plt.xlabel('Values')\n",
        "plt.ylabel('Counts')\n",
        "plt.show() "
      ],
      "execution_count": null,
      "outputs": [
        {
          "output_type": "stream",
          "name": "stdout",
          "text": [
            "[INFO] The location of the rejection threshold where alpha = 0.05 is on 2.991418909779145.\n"
          ]
        },
        {
          "output_type": "display_data",
          "data": {
            "image/png": "[encoded data removed]",
            "text/plain": [
              "<Figure size 720x360 with 1 Axes>"
            ]
          },
          "metadata": {
            "needs_background": "light"
          }
        }
      ]
    },
    {
      "cell_type": "code",
      "metadata": {
        "colab": {
          "base_uri": "https://localhost:8080/",
          "height": 349
        },
        "id": "ZKPRr9HDBKvN",
        "outputId": "86a59b27-1630-4da9-ff1c-083932b4c01e"
      },
      "source": [
        "#@title Step 2 - Display False Positive Counts\n",
        "#@markdown The following is a binomial distribution of a single sample of 10,0000 users with \"1\" (False-Positive) and \"0\" (True-Negative).\n",
        "\n",
        "sample_data = np.random.choice(pop_data, size=sample_size, replace=False)\n",
        "false_positives = [1 if x > alpha_threshold else 0 for x in sample_data]\n",
        "\n",
        "print(f'[INFO] Sample size: {sample_size}')\n",
        "print(f'[INFO] Proportion of false-positives: {np.mean(false_positives)}')\n",
        "print(f'[INFO] # of false-positives: {np.sum(false_positives)}')\n",
        "\n",
        "sns.countplot(false_positives)\n",
        "plt.title('Count Distribution of False Positives | 1 = False Positive | 0 = True Negative')\n",
        "plt.xlabel('Labels')\n",
        "plt.show()"
      ],
      "execution_count": null,
      "outputs": [
        {
          "output_type": "stream",
          "name": "stdout",
          "text": [
            "[INFO] Sample size: 10000\n",
            "[INFO] Proportion of false-positives: 0.0492\n",
            "[INFO] # of false-positives: 492\n"
          ]
        },
        {
          "output_type": "display_data",
          "data": {
            "image/png": "[encoded data removed]",
            "text/plain": [
              "<Figure size 432x288 with 1 Axes>"
            ]
          },
          "metadata": {
            "needs_background": "light"
          }
        }
      ]
    },
    {
      "cell_type": "code",
      "metadata": {
        "colab": {
          "base_uri": "https://localhost:8080/",
          "height": 404
        },
        "id": "ofELdU0lBfJ8",
        "cellView": "form",
        "outputId": "3b5b9dbe-b325-477d-e8b6-5d7531e417de"
      },
      "source": [
        "#@title Step 3 - Plot the Sampled Proportions\n",
        "\n",
        "#@markdown Draw sampled multiple times as set by the iteration parameter. Note that each sample is a proportion drawn from 10000 observations <br> labeled as either false positive or true negative. Given the Central Limit Theorem (CLT), ultimately the distribution of the false positive <br> proportions converges toward a normal distribution.\n",
        "\n",
        "sampling_data = []\n",
        "for i in tqdm.tqdm(range(iterations)):\n",
        "  sample_data = np.random.choice(pop_data, size=sample_size, replace=False)\n",
        "  false_positives = [1 if x > alpha_threshold else 0 for x in sample_data]\n",
        "  sample_proportion = np.mean(false_positives)\n",
        "  sampling_data.append(sample_proportion)\n",
        "\n",
        "print(f'[INFO] Mean: {np.mean(sampling_data)}')\n",
        "print(f'[INFO] Variance: {np.var(sampling_data)}')\n",
        "\n",
        "# Plot the distribution of sampled proportions\n",
        "f, ax = plt.subplots(figsize=(10, 5))\n",
        "ax.hist(sampling_data, bins=100, label='sampled_proportions') \n",
        "plt.legend()\n",
        "plt.title('Distribution of Sampled Proportions')\n",
        "plt.xlabel('Proportions')\n",
        "plt.ylabel('Counts')\n",
        "plt.show()"
      ],
      "execution_count": null,
      "outputs": [
        {
          "output_type": "stream",
          "name": "stderr",
          "text": [
            "100%|██████████| 1000/1000 [00:37<00:00, 26.93it/s]\n"
          ]
        },
        {
          "output_type": "stream",
          "name": "stdout",
          "text": [
            "[INFO] Mean: 0.0499155\n",
            "[INFO] Variance: 4.7201897500000004e-06\n"
          ]
        },
        {
          "output_type": "display_data",
          "data": {
            "image/png": "[encoded data removed]",
            "text/plain": [
              "<Figure size 720x360 with 1 Axes>"
            ]
          },
          "metadata": {
            "needs_background": "light"
          }
        }
      ]
    }
  ]
}