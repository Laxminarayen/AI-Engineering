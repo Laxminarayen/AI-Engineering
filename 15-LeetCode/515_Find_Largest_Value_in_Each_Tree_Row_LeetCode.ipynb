{
  "nbformat": 4,
  "nbformat_minor": 0,
  "metadata": {
    "colab": {
      "name": "515 Find Largest Value in Each Tree Row LeetCode.ipynb",
      "provenance": [],
      "authorship_tag": "ABX9TyNDy2ynA6p0G50JTZWG48Ye",
      "include_colab_link": true
    },
    "kernelspec": {
      "name": "python3",
      "display_name": "Python 3"
    },
    "language_info": {
      "name": "python"
    }
  },
  "cells": [
    {
      "cell_type": "markdown",
      "metadata": {
        "id": "view-in-github",
        "colab_type": "text"
      },
      "source": [
        "<a href=\"https://colab.research.google.com/github/plthiyagu/AI-Engineering/blob/master/15-LeetCode/515_Find_Largest_Value_in_Each_Tree_Row_LeetCode.ipynb\" target=\"_parent\"><img src=\"https://colab.research.google.com/assets/colab-badge.svg\" alt=\"Open In Colab\"/></a>"
      ]
    },
    {
      "cell_type": "code",
      "metadata": {
        "id": "RyfoQS-al0vS"
      },
      "source": [
        "# Definition for a binary tree node.\n",
        "# class TreeNode:\n",
        "#     def __init__(self, val=0, left=None, right=None):\n",
        "#         self.val = val\n",
        "#         self.left = left\n",
        "#         self.right = right\n",
        "class Solution:\n",
        "    def largestValues(self, root: Optional[TreeNode]) -> List[int]:\n",
        "        if not root: return []\n",
        "        res = []\n",
        "        queue = collections.deque([root])\n",
        "        while queue:\n",
        "            largest = -float('inf')\n",
        "            for _ in range(len(queue)):\n",
        "                node = queue.popleft()\n",
        "                if node.val > largest:\n",
        "                    largest = node.val\n",
        "                if node.left:\n",
        "                    queue.append(node.left)\n",
        "                if node.right:\n",
        "                    queue.append(node.right)\n",
        "            res.append(largest)\n",
        "        return res\n",
        "\n",
        "        "
      ],
      "execution_count": null,
      "outputs": []
    }
  ]
}