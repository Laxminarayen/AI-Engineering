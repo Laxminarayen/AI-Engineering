{
  "nbformat": 4,
  "nbformat_minor": 0,
  "metadata": {
    "colab": {
      "name": "133 Clone Graph LeetCode.ipynb",
      "provenance": [],
      "authorship_tag": "ABX9TyPM5f1fA+mJU4hL0esvtc01",
      "include_colab_link": true
    },
    "kernelspec": {
      "name": "python3",
      "display_name": "Python 3"
    },
    "language_info": {
      "name": "python"
    }
  },
  "cells": [
    {
      "cell_type": "markdown",
      "metadata": {
        "id": "view-in-github",
        "colab_type": "text"
      },
      "source": [
        "<a href=\"https://colab.research.google.com/github/plthiyagu/AI-Engineering/blob/master/15-LeetCode/133%20Clone_Graph_LeetCode.ipynb\" target=\"_parent\"><img src=\"https://colab.research.google.com/assets/colab-badge.svg\" alt=\"Open In Colab\"/></a>"
      ]
    },
    {
      "cell_type": "code",
      "metadata": {
        "id": "ZS5RBODSIR5l"
      },
      "source": [
        "\"\"\"\n",
        "# Definition for a Node.\n",
        "class Node(object):\n",
        "    def __init__(self, val = 0, neighbors = None):\n",
        "        self.val = val\n",
        "        self.neighbors = neighbors if neighbors is not None else []\n",
        "\"\"\"\n",
        "\n",
        "class Solution(object):\n",
        "    def cloneGraph(self, node):\n",
        "        \"\"\"\n",
        "        :type node: Node\n",
        "        :rtype: Node\n",
        "        \"\"\"\n",
        "        node_copy = self.dfs(node, dict())\n",
        "        return node_copy\n",
        "    \n",
        "    def dfs(self, node, hashd):\n",
        "        if not node: return None\n",
        "        if node in hashd: return hashd[node]\n",
        "        node_copy = Node(node.val, [])\n",
        "        hashd[node] = node_copy\n",
        "        for n in node.neighbors:\n",
        "            n_copy = self.dfs(n, hashd)\n",
        "            if n_copy:\n",
        "                node_copy.neighbors.append(n_copy)\n",
        "        return node_copy\n"
      ],
      "execution_count": 1,
      "outputs": []
    },
    {
      "cell_type": "code",
      "metadata": {
        "id": "zF6hE2DZJ-MB"
      },
      "source": [
        "adjList = [[2,4],[1,3],[2,4],[1,3]]"
      ],
      "execution_count": 2,
      "outputs": []
    },
    {
      "cell_type": "code",
      "metadata": {
        "id": "j0IzQnFpKF5G"
      },
      "source": [
        ""
      ],
      "execution_count": null,
      "outputs": []
    }
  ]
}