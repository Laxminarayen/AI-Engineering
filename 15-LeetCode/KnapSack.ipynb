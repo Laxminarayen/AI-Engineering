{
  "nbformat": 4,
  "nbformat_minor": 0,
  "metadata": {
    "colab": {
      "name": "KnapSack.ipynb",
      "provenance": [],
      "authorship_tag": "ABX9TyNknGSyXAD7y3W6+5+EpZ8S",
      "include_colab_link": true
    },
    "kernelspec": {
      "name": "python3",
      "display_name": "Python 3"
    },
    "language_info": {
      "name": "python"
    }
  },
  "cells": [
    {
      "cell_type": "markdown",
      "metadata": {
        "id": "view-in-github",
        "colab_type": "text"
      },
      "source": [
        "<a href=\"https://colab.research.google.com/github/plthiyagu/AI-Engineering/blob/master/15-LeetCode/KnapSack.ipynb\" target=\"_parent\"><img src=\"https://colab.research.google.com/assets/colab-badge.svg\" alt=\"Open In Colab\"/></a>"
      ]
    },
    {
      "cell_type": "code",
      "metadata": {
        "colab": {
          "base_uri": "https://localhost:8080/"
        },
        "id": "tJsreF46ZG4P",
        "outputId": "b19896c6-d499-4703-dec6-5a080acbaef2"
      },
      "source": [
        "# A naive recursive implementation of 0-1 Knapsack Problem\n",
        "\n",
        "# Returns the maximum value that can be put in a knapsack of\n",
        "# capacity W\n",
        "def knapSack(W, wt, val, n):\n",
        "\n",
        "\t# Base Case\n",
        "\tif n == 0 or W == 0 :\n",
        "\t\treturn 0\n",
        "\n",
        "\t# If weight of the nth item is more than Knapsack of capacity\n",
        "\t# W, then this item cannot be included in the optimal solution\n",
        "\tif (wt[n-1] > W):\n",
        "\t\treturn knapSack(W, wt, val, n-1)\n",
        "\n",
        "\t# return the maximum of two cases:\n",
        "\t# (1) nth item included\n",
        "\t# (2) not included\n",
        "\telse:\n",
        "\t\treturn max(val[n-1] + knapSack(W-wt[n-1], wt, val, n-1),\n",
        "\t\t\t\tknapSack(W, wt, val, n-1))\n",
        "\n",
        "# end of function knapSack"
      ],
      "execution_count": 2,
      "outputs": [
        {
          "output_type": "stream",
          "name": "stdout",
          "text": [
            "220\n"
          ]
        }
      ]
    },
    {
      "cell_type": "code",
      "metadata": {
        "colab": {
          "base_uri": "https://localhost:8080/"
        },
        "id": "tqm944AXZJyY",
        "outputId": "1488352f-6670-441f-f23c-9b09fb9fcce7"
      },
      "source": [
        "# A Dynamic Programming based Python\n",
        "# Program for 0-1 Knapsack problem\n",
        "# Returns the maximum value that can\n",
        "# be put in a knapsack of capacity W\n",
        "def knapSack(W, wt, val, n):\n",
        "\tK = [[0 for x in range(W + 1)] for x in range(n + 1)]\n",
        "\n",
        "\t# Build table K[][] in bottom up manner\n",
        "\tfor i in range(n + 1):\n",
        "\t\tfor w in range(W + 1):\n",
        "\t\t\tif i == 0 or w == 0:\n",
        "\t\t\t\tK[i][w] = 0\n",
        "\t\t\telif wt[i-1] <= w:\n",
        "\t\t\t\tK[i][w] = max(val[i-1] + K[i-1][w-wt[i-1]], K[i-1][w])\n",
        "\t\t\telse:\n",
        "\t\t\t\tK[i][w] = K[i-1][w]\n",
        "\n",
        "\treturn K[n][W]\n"
      ],
      "execution_count": 3,
      "outputs": [
        {
          "output_type": "stream",
          "name": "stdout",
          "text": [
            "220\n"
          ]
        }
      ]
    },
    {
      "cell_type": "code",
      "metadata": {
        "colab": {
          "base_uri": "https://localhost:8080/"
        },
        "id": "hjpnacJiZRKj",
        "outputId": "8c1e999e-7bad-4690-f441-4c9e4eee0989"
      },
      "source": [
        "# Driver program to test above function\n",
        "val = [60, 100, 120]\n",
        "wt = [10, 20, 30]\n",
        "W = 50\n",
        "n = len(val)\n",
        "print(knapSack(W, wt, val, n))"
      ],
      "execution_count": 4,
      "outputs": [
        {
          "output_type": "stream",
          "name": "stdout",
          "text": [
            "220\n"
          ]
        }
      ]
    }
  ]
}