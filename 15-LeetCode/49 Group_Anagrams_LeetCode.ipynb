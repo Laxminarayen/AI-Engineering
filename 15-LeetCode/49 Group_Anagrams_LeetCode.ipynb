{
  "nbformat": 4,
  "nbformat_minor": 0,
  "metadata": {
    "colab": {
      "name": "Group Anagrams 49 LeetCode.ipynb",
      "provenance": [],
      "collapsed_sections": [],
      "authorship_tag": "ABX9TyNrtbK8zDFrNQk3hc4eEcsK",
      "include_colab_link": true
    },
    "kernelspec": {
      "name": "python3",
      "display_name": "Python 3"
    },
    "language_info": {
      "name": "python"
    }
  },
  "cells": [
    {
      "cell_type": "markdown",
      "metadata": {
        "id": "view-in-github",
        "colab_type": "text"
      },
      "source": [
        "<a href=\"https://colab.research.google.com/github/plthiyagu/AI-Engineering/blob/master/22-LeetCode/Group_Anagrams_49_LeetCode.ipynb\" target=\"_parent\"><img src=\"https://colab.research.google.com/assets/colab-badge.svg\" alt=\"Open In Colab\"/></a>"
      ]
    },
    {
      "cell_type": "markdown",
      "metadata": {
        "id": "PvJ9KRkewAuG"
      },
      "source": [
        "https://www.youtube.com/watch?v=n3V-wvCXDCs"
      ]
    },
    {
      "cell_type": "code",
      "metadata": {
        "id": "kwZHP6QRvpAL"
      },
      "source": [
        "def groupAnagrams(strs):\n",
        "    \"\"\"\n",
        "    :type strs: List[str]\n",
        "    :rtype: List[List[str]]\n",
        "    \"\"\"\n",
        "    result = []\n",
        "    \n",
        "    groups = {}\n",
        "    \n",
        "    for word in strs:\n",
        "        sorted_word= \" \".join(sorted(word))\n",
        "        if sorted_word in groups:\n",
        "            groups[sorted_word].append(word)\n",
        "        else:\n",
        "            groups[sorted_word] = [word]\n",
        "    for key, value in groups.items():\n",
        "        result.append(value)\n",
        "        \n",
        "    return result   "
      ],
      "execution_count": 2,
      "outputs": []
    },
    {
      "cell_type": "code",
      "metadata": {
        "colab": {
          "base_uri": "https://localhost:8080/"
        },
        "id": "imYfV55Qvulo",
        "outputId": "779d6128-8937-4864-9ca5-cbb22fc76818"
      },
      "source": [
        "strs=[\"eat\",\"tea\",\"tan\",\"ate\",\"nat\",\"bat\"]\n",
        "groupAnagrams(strs)"
      ],
      "execution_count": 3,
      "outputs": [
        {
          "output_type": "execute_result",
          "data": {
            "text/plain": [
              "[['eat', 'tea', 'ate'], ['tan', 'nat'], ['bat']]"
            ]
          },
          "metadata": {
            "tags": []
          },
          "execution_count": 3
        }
      ]
    },
    {
      "cell_type": "code",
      "metadata": {
        "id": "P_mWmVDCv3aU"
      },
      "source": [
        ""
      ],
      "execution_count": null,
      "outputs": []
    }
  ]
}