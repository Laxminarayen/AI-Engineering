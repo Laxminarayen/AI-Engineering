{
  "nbformat": 4,
  "nbformat_minor": 0,
  "metadata": {
    "colab": {
      "name": "LeapYear CodeWar.ipynb",
      "provenance": [],
      "collapsed_sections": [],
      "authorship_tag": "ABX9TyNp31Ug348y3CkQY0tVPa17",
      "include_colab_link": true
    },
    "kernelspec": {
      "name": "python3",
      "display_name": "Python 3"
    },
    "language_info": {
      "name": "python"
    }
  },
  "cells": [
    {
      "cell_type": "markdown",
      "metadata": {
        "id": "view-in-github",
        "colab_type": "text"
      },
      "source": [
        "<a href=\"https://colab.research.google.com/github/plthiyagu/AI-Engineering/blob/master/22-LeetCode/LeapYear_CodeWar.ipynb\" target=\"_parent\"><img src=\"https://colab.research.google.com/assets/colab-badge.svg\" alt=\"Open In Colab\"/></a>"
      ]
    },
    {
      "cell_type": "code",
      "metadata": {
        "id": "etoOOiQJWr4v"
      },
      "source": [
        "def isLeapYear(year):\n",
        "    return (year % 100 != 0 and year % 4 == 0) or year % 400 == 0"
      ],
      "execution_count": 4,
      "outputs": []
    },
    {
      "cell_type": "code",
      "metadata": {
        "id": "lCCPv_70VLIx"
      },
      "source": [
        "def isLeapYear(year):\n",
        "    #your code here. Try to do it in one line.\n",
        "    if(str(year).isdigit() == True):\n",
        "        if( int(year) % 4 == 0 and int(year) %100 != 0 or int(year) % 400 == 0 ):\n",
        "            return True\n",
        "        else:\n",
        "            return False"
      ],
      "execution_count": 1,
      "outputs": []
    },
    {
      "cell_type": "code",
      "metadata": {
        "colab": {
          "base_uri": "https://localhost:8080/"
        },
        "id": "1gTreMi3Wgah",
        "outputId": "5e7a3934-8715-4465-82b8-694eda18f467"
      },
      "source": [
        "isLeapYear(1984)"
      ],
      "execution_count": 5,
      "outputs": [
        {
          "output_type": "execute_result",
          "data": {
            "text/plain": [
              "True"
            ]
          },
          "metadata": {
            "tags": []
          },
          "execution_count": 5
        }
      ]
    },
    {
      "cell_type": "code",
      "metadata": {
        "id": "PWR20x64WnM6"
      },
      "source": [
        ""
      ],
      "execution_count": null,
      "outputs": []
    }
  ]
}