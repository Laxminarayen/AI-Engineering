{
  "nbformat": 4,
  "nbformat_minor": 0,
  "metadata": {
    "colab": {
      "name": "Consecutive numbers sum.ipynb",
      "provenance": [],
      "authorship_tag": "ABX9TyOSoYMHESnVMF/13MgBqTqP",
      "include_colab_link": true
    },
    "kernelspec": {
      "name": "python3",
      "display_name": "Python 3"
    }
  },
  "cells": [
    {
      "cell_type": "markdown",
      "metadata": {
        "id": "view-in-github",
        "colab_type": "text"
      },
      "source": [
        "<a href=\"https://colab.research.google.com/github/plthiyagu/Personnel/blob/master/Consecutive_numbers_sum.ipynb\" target=\"_parent\"><img src=\"https://colab.research.google.com/assets/colab-badge.svg\" alt=\"Open In Colab\"/></a>"
      ]
    },
    {
      "cell_type": "code",
      "metadata": {
        "id": "Ko5H-RMyfFGh",
        "colab_type": "code",
        "colab": {}
      },
      "source": [
        "def consectivenum(N):\n",
        "  result =1\n",
        "  while N % 2==0:\n",
        "    N /=2\n",
        "  i=3\n",
        "  while i * i <= N:\n",
        "    count=0\n",
        "    while N % i == 0:\n",
        "      N /= i\n",
        "      count += 1\n",
        "    result *= count +1\n",
        "    i +=2\n",
        "    if N>1:\n",
        "      result *= 2\n",
        "    return result\n",
        "\n"
      ],
      "execution_count": 0,
      "outputs": []
    },
    {
      "cell_type": "code",
      "metadata": {
        "id": "Eent-4UQkv46",
        "colab_type": "code",
        "colab": {
          "base_uri": "https://localhost:8080/",
          "height": 34
        },
        "outputId": "59b279e7-e74b-46a2-c8e2-3f493bad1296"
      },
      "source": [
        "sum=consectivenum(1122)\n",
        "print(sum)"
      ],
      "execution_count": 20,
      "outputs": [
        {
          "output_type": "stream",
          "text": [
            "4\n"
          ],
          "name": "stdout"
        }
      ]
    }
  ]
}