{
  "nbformat": 4,
  "nbformat_minor": 0,
  "metadata": {
    "colab": {
      "name": "256 Paint House LeetCode.ipynb",
      "provenance": [],
      "authorship_tag": "ABX9TyM2E0RYZzSDQzIfjoujPNCI",
      "include_colab_link": true
    },
    "kernelspec": {
      "name": "python3",
      "display_name": "Python 3"
    },
    "language_info": {
      "name": "python"
    }
  },
  "cells": [
    {
      "cell_type": "markdown",
      "metadata": {
        "id": "view-in-github",
        "colab_type": "text"
      },
      "source": [
        "<a href=\"https://colab.research.google.com/github/plthiyagu/AI-Engineering/blob/master/15-LeetCode/256_Paint_House_LeetCode.ipynb\" target=\"_parent\"><img src=\"https://colab.research.google.com/assets/colab-badge.svg\" alt=\"Open In Colab\"/></a>"
      ]
    },
    {
      "cell_type": "code",
      "metadata": {
        "id": "WBArFEezz2if"
      },
      "source": [
        "from typing import List\n",
        "def minCost( costs: List[List[int]]) -> int:\n",
        "        size=len(costs)\n",
        "        if size == 0: return 0\n",
        "        if size == 1: return min(costs[0])\n",
        "        for i in range(1,size):\n",
        "            costs[i][0]+=min(costs[i-1][1],costs[i-1][2])\n",
        "            costs[i][1]+=min(costs[i-1][0],costs[i-1][2])\n",
        "            costs[i][2]+=min(costs[i-1][1],costs[i-1][0])\n",
        "        return min(costs[-1])"
      ],
      "execution_count": 6,
      "outputs": []
    },
    {
      "cell_type": "code",
      "metadata": {
        "id": "DBTFNdRlz2_B"
      },
      "source": [
        "def minCost( costs: List[List[int]]) -> int:\n",
        "        red, blue, green = 0,0,0\n",
        "        for r, b, g in costs:\n",
        "          red, blue, green = min(blue, green) + r, min(red, green) + b, min(red, blue) + g\n",
        "        return min(red, blue, green)\n"
      ],
      "execution_count": 7,
      "outputs": []
    },
    {
      "cell_type": "code",
      "metadata": {
        "colab": {
          "base_uri": "https://localhost:8080/"
        },
        "id": "eWPJLF1n0BH4",
        "outputId": "397396ad-ffe2-4a3c-d47b-0b69d30cc57e"
      },
      "source": [
        "costs= [[17,2,17],[16,16,5],[14,3,19]]\n",
        "minCost(costs)"
      ],
      "execution_count": 8,
      "outputs": [
        {
          "output_type": "execute_result",
          "data": {
            "text/plain": [
              "10"
            ]
          },
          "metadata": {},
          "execution_count": 8
        }
      ]
    },
    {
      "cell_type": "code",
      "metadata": {
        "id": "RhLYs48_0Utd"
      },
      "source": [
        ""
      ],
      "execution_count": null,
      "outputs": []
    }
  ]
}