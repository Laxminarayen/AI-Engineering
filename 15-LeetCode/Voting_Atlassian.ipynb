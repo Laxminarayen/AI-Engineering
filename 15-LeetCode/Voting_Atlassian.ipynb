{
  "nbformat": 4,
  "nbformat_minor": 0,
  "metadata": {
    "colab": {
      "name": "Voting Atlassian.ipynb",
      "provenance": [],
      "authorship_tag": "ABX9TyNpF+cNnFj3/I7us7H2i72n",
      "include_colab_link": true
    },
    "kernelspec": {
      "name": "python3",
      "display_name": "Python 3"
    },
    "language_info": {
      "name": "python"
    }
  },
  "cells": [
    {
      "cell_type": "markdown",
      "metadata": {
        "id": "view-in-github",
        "colab_type": "text"
      },
      "source": [
        "<a href=\"https://colab.research.google.com/github/plthiyagu/AI-Engineering/blob/master/15-LeetCode/Voting_Atlassian.ipynb\" target=\"_parent\"><img src=\"https://colab.research.google.com/assets/colab-badge.svg\" alt=\"Open In Colab\"/></a>"
      ]
    },
    {
      "cell_type": "code",
      "metadata": {
        "colab": {
          "base_uri": "https://localhost:8080/"
        },
        "id": "rEEfv9YiJYTb",
        "outputId": "0c42d5d9-64ae-4498-e58c-b23a3b7f4d24"
      },
      "source": [
        "# Python3 program to find winner in an election.\n",
        "from collections import defaultdict\n",
        "\n",
        "''' We have four Candidates with name as 'John',\n",
        "'Johnny', 'jamie', 'jackie'.\n",
        "The votes in String array are as per the\n",
        "votes casted. Print the name of candidates\n",
        "received Max vote. '''\n",
        "def findWinner(votes):\n",
        "\n",
        "\t# Insert all votes in a hashmap\n",
        "\tmapObj = defaultdict(int)\n",
        "\t\n",
        "\tfor st in votes:\n",
        "\t\tmapObj[st] += 1\n",
        "\n",
        "\t# Traverse through map to find the\n",
        "\t# candidate with maximum votes.\n",
        "\tmaxValueInMap = 0\n",
        "\twinner = \"\"\n",
        "\t\n",
        "\tfor entry in mapObj:\n",
        "\t\tkey = entry\n",
        "\t\tval = mapObj[entry]\n",
        "\t\t\n",
        "\t\tif (val > maxValueInMap):\n",
        "\t\t\tmaxValueInMap = val\n",
        "\t\t\twinner = key\n",
        "\n",
        "\t\t# If there is a tie, pick lexicographically\n",
        "\t\t# smaller.\n",
        "\t\telif (val == maxValueInMap and\n",
        "\t\t\twinner > key):\n",
        "\t\t\twinner = key\n",
        "\n",
        "\tprint(winner)\n",
        "\n",
        "# Driver code\n",
        "if __name__ == \"__main__\":\n",
        "\n",
        "\tvotes = [ \"john\", \"johnny\", \"jackie\",\n",
        "\t\t\t\"johnny\", \"john\", \"jackie\",\n",
        "\t\t\t\"jamie\", \"jamie\", \"john\",\n",
        "\t\t\t\"johnny\", \"jamie\", \"johnny\",\n",
        "\t\t\t\"john\" ]\n",
        "\n",
        "\tfindWinner(votes)\n"
      ],
      "execution_count": 1,
      "outputs": [
        {
          "output_type": "stream",
          "name": "stdout",
          "text": [
            "john\n"
          ]
        }
      ]
    },
    {
      "cell_type": "code",
      "metadata": {
        "id": "m1u4hUcRJbwh"
      },
      "source": [
        ""
      ],
      "execution_count": null,
      "outputs": []
    }
  ]
}