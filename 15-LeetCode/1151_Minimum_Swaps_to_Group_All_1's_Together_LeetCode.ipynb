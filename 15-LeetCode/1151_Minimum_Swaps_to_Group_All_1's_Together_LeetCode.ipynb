{
  "nbformat": 4,
  "nbformat_minor": 0,
  "metadata": {
    "colab": {
      "name": "1151 Minimum Swaps to Group All 1's Together LeetCode.ipynb",
      "provenance": [],
      "authorship_tag": "ABX9TyNZYMvpIOT9iXAAdCoKnd/a",
      "include_colab_link": true
    },
    "kernelspec": {
      "name": "python3",
      "display_name": "Python 3"
    },
    "language_info": {
      "name": "python"
    }
  },
  "cells": [
    {
      "cell_type": "markdown",
      "metadata": {
        "id": "view-in-github",
        "colab_type": "text"
      },
      "source": [
        "<a href=\"https://colab.research.google.com/github/plthiyagu/AI-Engineering/blob/master/15-LeetCode/1151_Minimum_Swaps_to_Group_All_1's_Together_LeetCode.ipynb\" target=\"_parent\"><img src=\"https://colab.research.google.com/assets/colab-badge.svg\" alt=\"Open In Colab\"/></a>"
      ]
    },
    {
      "cell_type": "code",
      "metadata": {
        "id": "wgfxa-B6L7jA"
      },
      "source": [
        "# Time:  O(n)\n",
        "# Space: O(1)\n",
        "\n",
        "def minSwaps(data):\n",
        "    \"\"\"\n",
        "    :type data: List[int]\n",
        "    :rtype: int\n",
        "    \"\"\"\n",
        "    total_count = sum(data)\n",
        "    result, count, left = 0, 0, 0\n",
        "    for i in range(len(data)):\n",
        "        count += data[i]\n",
        "        if i-left+1 > total_count: \n",
        "            count -= data[left]\n",
        "            left += 1\n",
        "        result = max(result, count)\n",
        "    return total_count-result"
      ],
      "execution_count": 3,
      "outputs": []
    },
    {
      "cell_type": "code",
      "metadata": {
        "colab": {
          "base_uri": "https://localhost:8080/"
        },
        "id": "6b2RMabFMArW",
        "outputId": "76513bf5-93f7-4028-c250-e456743e44df"
      },
      "source": [
        "data=[1,0,1,0,1]\n",
        "minSwaps(data)"
      ],
      "execution_count": 4,
      "outputs": [
        {
          "output_type": "execute_result",
          "data": {
            "text/plain": [
              "1"
            ]
          },
          "metadata": {},
          "execution_count": 4
        }
      ]
    },
    {
      "cell_type": "code",
      "metadata": {
        "id": "bX5mw2rFMV7z"
      },
      "source": [
        ""
      ],
      "execution_count": null,
      "outputs": []
    }
  ]
}