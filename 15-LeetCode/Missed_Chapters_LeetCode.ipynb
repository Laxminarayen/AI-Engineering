{
  "nbformat": 4,
  "nbformat_minor": 0,
  "metadata": {
    "colab": {
      "name": "Missed Chapters LeetCode.ipynb",
      "provenance": [],
      "authorship_tag": "ABX9TyPsF5W5PP6KrFfjUqK2U6WC",
      "include_colab_link": true
    },
    "kernelspec": {
      "name": "python3",
      "display_name": "Python 3"
    },
    "language_info": {
      "name": "python"
    }
  },
  "cells": [
    {
      "cell_type": "markdown",
      "metadata": {
        "id": "view-in-github",
        "colab_type": "text"
      },
      "source": [
        "<a href=\"https://colab.research.google.com/github/plthiyagu/AI-Engineering/blob/master/15-LeetCode/Missed_Chapters_LeetCode.ipynb\" target=\"_parent\"><img src=\"https://colab.research.google.com/assets/colab-badge.svg\" alt=\"Open In Colab\"/></a>"
      ]
    },
    {
      "cell_type": "code",
      "metadata": {
        "colab": {
          "base_uri": "https://localhost:8080/"
        },
        "id": "F1nFnoFTBIPz",
        "outputId": "60ba086d-6d9a-4da8-87e6-1078dd50962a"
      },
      "source": [
        "def sol( num_chapters, start, end):\n",
        "  missed_lec = set()\n",
        "  for i in range(start, end+1):\n",
        "    missed_lec.add(i % num_chapters)\n",
        "  return len(missed_lec)\n",
        "\n",
        "\n",
        "print(sol(5,5,6))\n",
        "print(sol(3,5,6))\n",
        "print(sol(6,5,6))\n",
        "print(sol(10,5,6))\n",
        "print(\"----\")\n",
        "print(sol(5,6,6))\n",
        "#print(a.sol(3,6,9))\n",
        "#print(a.sol(6,1,6))\n",
        "\n",
        "print(sol(10,9,10))\n"
      ],
      "execution_count": 4,
      "outputs": [
        {
          "output_type": "stream",
          "name": "stdout",
          "text": [
            "2\n",
            "2\n",
            "2\n",
            "2\n",
            "----\n",
            "1\n",
            "2\n"
          ]
        }
      ]
    },
    {
      "cell_type": "code",
      "metadata": {
        "id": "_GdKu3xQBLlY"
      },
      "source": [
        ""
      ],
      "execution_count": null,
      "outputs": []
    }
  ]
}