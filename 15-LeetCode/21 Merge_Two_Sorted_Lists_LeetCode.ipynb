{
  "nbformat": 4,
  "nbformat_minor": 0,
  "metadata": {
    "colab": {
      "name": "21 Merge Two Sorted Lists LeetCode.ipynb",
      "provenance": [],
      "authorship_tag": "ABX9TyO7mCCy9Smh9klA0HrG1TVi",
      "include_colab_link": true
    },
    "kernelspec": {
      "name": "python3",
      "display_name": "Python 3"
    },
    "language_info": {
      "name": "python"
    }
  },
  "cells": [
    {
      "cell_type": "markdown",
      "metadata": {
        "id": "view-in-github",
        "colab_type": "text"
      },
      "source": [
        "<a href=\"https://colab.research.google.com/github/plthiyagu/AI-Engineering/blob/master/15-LeetCode/21%20Merge_Two_Sorted_Lists_LeetCode.ipynb\" target=\"_parent\"><img src=\"https://colab.research.google.com/assets/colab-badge.svg\" alt=\"Open In Colab\"/></a>"
      ]
    },
    {
      "cell_type": "code",
      "metadata": {
        "id": "zju9kOl_GSTc"
      },
      "source": [
        "# Definition for singly-linked list.\n",
        "class ListNode(object):\n",
        "    def __init__(self, val=0, next=None):\n",
        "        self.val = val\n",
        "        self.next = next\n",
        "class Solution(object):\n",
        "    def mergeTwoLists(self, l1, l2):\n",
        "        \"\"\"\n",
        "        :type l1: ListNode\n",
        "        :type l2: ListNode\n",
        "        :rtype: ListNode\n",
        "        \"\"\"\n",
        "        dummy = ListNode(0)\n",
        "        pre = dummy\n",
        "        while l1 and l2:\n",
        "            if l1.val < l2.val:\n",
        "                pre.next = l1\n",
        "                l1 = l1.next\n",
        "            else:\n",
        "                pre.next = l2\n",
        "                l2 = l2.next\n",
        "            pre = pre.next\n",
        "        pre.next = l1 if l1 is not None else l2\n",
        "        return dummy.next\n"
      ],
      "execution_count": 1,
      "outputs": []
    },
    {
      "cell_type": "code",
      "metadata": {
        "id": "SntKZBJyGVCQ"
      },
      "source": [
        "l1 = []\n",
        "l2 = []\n"
      ],
      "execution_count": 2,
      "outputs": []
    },
    {
      "cell_type": "code",
      "metadata": {
        "id": "SPZs4nQTGfxi"
      },
      "source": [
        ""
      ],
      "execution_count": null,
      "outputs": []
    }
  ]
}