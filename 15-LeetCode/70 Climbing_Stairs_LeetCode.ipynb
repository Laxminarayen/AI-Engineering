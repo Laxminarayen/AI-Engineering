{
  "nbformat": 4,
  "nbformat_minor": 0,
  "metadata": {
    "colab": {
      "name": "70 Climbing Stairs LeetCode.ipynb",
      "provenance": [],
      "authorship_tag": "ABX9TyN36JPTZvdEIsrVOCseKm5m",
      "include_colab_link": true
    },
    "kernelspec": {
      "name": "python3",
      "display_name": "Python 3"
    },
    "language_info": {
      "name": "python"
    }
  },
  "cells": [
    {
      "cell_type": "markdown",
      "metadata": {
        "id": "view-in-github",
        "colab_type": "text"
      },
      "source": [
        "<a href=\"https://colab.research.google.com/github/plthiyagu/AI-Engineering/blob/master/15-LeetCode/70%20Climbing_Stairs_LeetCode.ipynb\" target=\"_parent\"><img src=\"https://colab.research.google.com/assets/colab-badge.svg\" alt=\"Open In Colab\"/></a>"
      ]
    },
    {
      "cell_type": "code",
      "metadata": {
        "id": "gfT_L1fKPcLH"
      },
      "source": [
        "def climbStairs( n):\n",
        "    \"\"\"\n",
        "    :type n: int\n",
        "    :rtype: int\n",
        "    \"\"\"\n",
        "    dp1, dp2 = 1, 2\n",
        "    for i in range(n - 1):\n",
        "        dp1, dp2 = dp2, dp1 + dp2\n",
        "    return dp1"
      ],
      "execution_count": 2,
      "outputs": []
    },
    {
      "cell_type": "code",
      "metadata": {
        "colab": {
          "base_uri": "https://localhost:8080/"
        },
        "id": "DRyBflcBPkpr",
        "outputId": "bbe88dde-9e8f-42c1-d8c9-2185a6249c9b"
      },
      "source": [
        "n = 3\n",
        "climbStairs( n)"
      ],
      "execution_count": 3,
      "outputs": [
        {
          "output_type": "execute_result",
          "data": {
            "text/plain": [
              "3"
            ]
          },
          "metadata": {
            "tags": []
          },
          "execution_count": 3
        }
      ]
    },
    {
      "cell_type": "code",
      "metadata": {
        "id": "5V3Lq4dPPvy1"
      },
      "source": [
        ""
      ],
      "execution_count": null,
      "outputs": []
    }
  ]
}