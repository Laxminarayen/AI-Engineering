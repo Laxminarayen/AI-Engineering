{
  "nbformat": 4,
  "nbformat_minor": 0,
  "metadata": {
    "colab": {
      "name": "15 3Sum LeetCode.ipynb",
      "provenance": [],
      "authorship_tag": "ABX9TyNNElWHXIrl5rv8axNYuA0n",
      "include_colab_link": true
    },
    "kernelspec": {
      "name": "python3",
      "display_name": "Python 3"
    },
    "language_info": {
      "name": "python"
    }
  },
  "cells": [
    {
      "cell_type": "markdown",
      "metadata": {
        "id": "view-in-github",
        "colab_type": "text"
      },
      "source": [
        "<a href=\"https://colab.research.google.com/github/plthiyagu/AI-Engineering/blob/master/15-LeetCode/15%203Sum_LeetCode.ipynb\" target=\"_parent\"><img src=\"https://colab.research.google.com/assets/colab-badge.svg\" alt=\"Open In Colab\"/></a>"
      ]
    },
    {
      "cell_type": "code",
      "metadata": {
        "id": "ZVZTXYKBJ4Rc"
      },
      "source": [
        "def threeSum( nums):\n",
        "    \"\"\"\n",
        "    :type nums: List[int]\n",
        "    :rtype: List[List[int]]\n",
        "    \"\"\"\n",
        "    n = len(nums)\n",
        "    nums.sort()\n",
        "    res = []\n",
        "    \n",
        "    for i in range(n - 2):\n",
        "        if nums[i] > 0:\n",
        "            break\n",
        "        if i > 0 and nums[i] == nums[i - 1]:\n",
        "            continue\n",
        "        j, k = i + 1, n - 1\n",
        "        while j < k:                \n",
        "            cur = nums[i] + nums[j] + nums[k] \n",
        "            if cur < 0:\n",
        "                j += 1\n",
        "            elif cur > 0:\n",
        "                k -= 1\n",
        "            else:\n",
        "                res.append([nums[i], nums[j], nums[k]])\n",
        "                while j + 1 < k and nums[j] == nums[j + 1]:\n",
        "                    j += 1\n",
        "                while k - 1 > j and nums[k] == nums[k - 1]:\n",
        "                    k -= 1\n",
        "                j += 1\n",
        "                k -= 1\n",
        "    return res"
      ],
      "execution_count": 1,
      "outputs": []
    },
    {
      "cell_type": "code",
      "metadata": {
        "colab": {
          "base_uri": "https://localhost:8080/"
        },
        "id": "GIwuYHQ9KDNA",
        "outputId": "4e1c1ed0-976e-4901-91b4-02a4fcadef86"
      },
      "source": [
        "nums =[-1,0,1,2,-1,-4]\n",
        "threeSum( nums)"
      ],
      "execution_count": 2,
      "outputs": [
        {
          "output_type": "execute_result",
          "data": {
            "text/plain": [
              "[[-1, -1, 2], [-1, 0, 1]]"
            ]
          },
          "metadata": {
            "tags": []
          },
          "execution_count": 2
        }
      ]
    },
    {
      "cell_type": "code",
      "metadata": {
        "id": "8XHDB6JKKIpr"
      },
      "source": [
        ""
      ],
      "execution_count": null,
      "outputs": []
    }
  ]
}