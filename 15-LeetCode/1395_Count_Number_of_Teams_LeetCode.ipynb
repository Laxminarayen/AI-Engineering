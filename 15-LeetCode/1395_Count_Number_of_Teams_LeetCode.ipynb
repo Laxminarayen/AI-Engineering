{
  "nbformat": 4,
  "nbformat_minor": 0,
  "metadata": {
    "colab": {
      "name": "1395 Count Number of Teams LeetCode.ipynb",
      "provenance": [],
      "authorship_tag": "ABX9TyOZPcxqNsoU0r5xjcySQY07",
      "include_colab_link": true
    },
    "kernelspec": {
      "name": "python3",
      "display_name": "Python 3"
    },
    "language_info": {
      "name": "python"
    }
  },
  "cells": [
    {
      "cell_type": "markdown",
      "metadata": {
        "id": "view-in-github",
        "colab_type": "text"
      },
      "source": [
        "<a href=\"https://colab.research.google.com/github/plthiyagu/AI-Engineering/blob/master/15-LeetCode/1395_Count_Number_of_Teams_LeetCode.ipynb\" target=\"_parent\"><img src=\"https://colab.research.google.com/assets/colab-badge.svg\" alt=\"Open In Colab\"/></a>"
      ]
    },
    {
      "cell_type": "code",
      "metadata": {
        "id": "eVY6vyAB1PR9"
      },
      "source": [
        "from typing import List\n",
        "def numTeams( rating: List[int]) -> int:\n",
        "    n = len(rating)\n",
        "    dp_g, dp_l = [0] * n, [0] * n\n",
        "    res = 0\n",
        "    for i, r in enumerate(rating):\n",
        "        for j in range(i):\n",
        "            if r > rating[j]:\n",
        "                dp_g[i] += 1\n",
        "                res += dp_g[j]\n",
        "            elif r < rating[j]:\n",
        "                dp_l[i] += 1\n",
        "                res += dp_l[j]\n",
        "    return res\n",
        "    "
      ],
      "execution_count": 1,
      "outputs": []
    },
    {
      "cell_type": "code",
      "metadata": {
        "colab": {
          "base_uri": "https://localhost:8080/"
        },
        "id": "jbk8I4Bh1Z8e",
        "outputId": "b91b9628-7a82-4735-bfaa-159db2012858"
      },
      "source": [
        "rating = [2,5,3,4,1]\n",
        "numTeams(rating)"
      ],
      "execution_count": 2,
      "outputs": [
        {
          "output_type": "execute_result",
          "data": {
            "text/plain": [
              "3"
            ]
          },
          "metadata": {},
          "execution_count": 2
        }
      ]
    },
    {
      "cell_type": "code",
      "metadata": {
        "id": "YNbTWMxB1fEh"
      },
      "source": [
        ""
      ],
      "execution_count": null,
      "outputs": []
    }
  ]
}