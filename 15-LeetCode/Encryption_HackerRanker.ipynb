{
  "nbformat": 4,
  "nbformat_minor": 0,
  "metadata": {
    "colab": {
      "name": "Encryption HackerRanker.ipynb",
      "provenance": [],
      "authorship_tag": "ABX9TyO+XEGvB1Zl0HiE3Fn7SEGP",
      "include_colab_link": true
    },
    "kernelspec": {
      "name": "python3",
      "display_name": "Python 3"
    },
    "language_info": {
      "name": "python"
    }
  },
  "cells": [
    {
      "cell_type": "markdown",
      "metadata": {
        "id": "view-in-github",
        "colab_type": "text"
      },
      "source": [
        "<a href=\"https://colab.research.google.com/github/plthiyagu/AI-Engineering/blob/master/15-LeetCode/Encryption_HackerRanker.ipynb\" target=\"_parent\"><img src=\"https://colab.research.google.com/assets/colab-badge.svg\" alt=\"Open In Colab\"/></a>"
      ]
    },
    {
      "cell_type": "code",
      "metadata": {
        "id": "z-J2FsGm9uv6"
      },
      "source": [
        "import math\n",
        "import os\n",
        "\n",
        "# complete the encryption function below.\n",
        "def encryption(s):\n",
        "    L = len(s)\n",
        "    rows = int(math.floor(L**(0.5)))\n",
        "    columns = int(math.ceil(L**(0.5)))\n",
        "    output = \"\"\n",
        "    for i in range(columns):\n",
        "        k = i\n",
        "        for j in range(k,L,columns):\n",
        "            output+=s[j]\n",
        "        output+=\" \"\n",
        "    return output\n"
      ],
      "execution_count": 1,
      "outputs": []
    },
    {
      "cell_type": "code",
      "metadata": {
        "colab": {
          "base_uri": "https://localhost:8080/"
        },
        "id": "g2YqjsTB9v1k",
        "outputId": "9536f941-d595-4106-ddd3-f61a1baa8de4"
      },
      "source": [
        "s = input()\n",
        "result = encryption(s)\n",
        "print(result)"
      ],
      "execution_count": 3,
      "outputs": [
        {
          "name": "stdout",
          "output_type": "stream",
          "text": [
            "Hello\n"
          ]
        }
      ]
    },
    {
      "cell_type": "code",
      "metadata": {
        "colab": {
          "base_uri": "https://localhost:8080/"
        },
        "id": "0DUJmYnc903-",
        "outputId": "d85802e5-d245-4cda-a7a6-2199035a0cc7"
      },
      "source": [
        ""
      ],
      "execution_count": 4,
      "outputs": [
        {
          "output_type": "stream",
          "name": "stdout",
          "text": [
            "Hl eo l \n"
          ]
        }
      ]
    },
    {
      "cell_type": "code",
      "metadata": {
        "id": "6IW4HC87946W"
      },
      "source": [
        ""
      ],
      "execution_count": null,
      "outputs": []
    },
    {
      "cell_type": "code",
      "metadata": {
        "id": "UDcpV-T-9zTm"
      },
      "source": [
        ""
      ],
      "execution_count": null,
      "outputs": []
    }
  ]
}