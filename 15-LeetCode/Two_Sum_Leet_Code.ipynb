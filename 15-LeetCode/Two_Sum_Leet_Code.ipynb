{
  "nbformat": 4,
  "nbformat_minor": 0,
  "metadata": {
    "colab": {
      "name": "Two Sum Leet Code.ipynb",
      "provenance": [],
      "collapsed_sections": [],
      "authorship_tag": "ABX9TyPi5g6TOq+jgWuItIQLgVO8",
      "include_colab_link": true
    },
    "kernelspec": {
      "name": "python3",
      "display_name": "Python 3"
    },
    "language_info": {
      "name": "python"
    }
  },
  "cells": [
    {
      "cell_type": "markdown",
      "metadata": {
        "id": "view-in-github",
        "colab_type": "text"
      },
      "source": [
        "<a href=\"https://colab.research.google.com/github/plthiyagu/AI-Engineering/blob/master/22-LeetCode/Two_Sum_Leet_Code.ipynb\" target=\"_parent\"><img src=\"https://colab.research.google.com/assets/colab-badge.svg\" alt=\"Open In Colab\"/></a>"
      ]
    },
    {
      "cell_type": "markdown",
      "metadata": {
        "id": "7d4k-3PVGlbH"
      },
      "source": [
        "https://www.youtube.com/watch?v=KLlXCFG5TnA"
      ]
    },
    {
      "cell_type": "code",
      "metadata": {
        "id": "2LTdKc9EGpG5"
      },
      "source": [
        " def twoSum(nums, target):\n",
        "    \"\"\"\n",
        "    :type nums: List[int]\n",
        "    :type target: int\n",
        "    :rtype: List[int]\n",
        "    \"\"\"\n",
        "    mapping = dict()\n",
        "    for i in range(len(nums)):\n",
        "        x= nums[i]\n",
        "        if target -x in mapping:\n",
        "            return [mapping[target-x],i]\n",
        "        mapping[x]=i"
      ],
      "execution_count": 1,
      "outputs": []
    },
    {
      "cell_type": "code",
      "metadata": {
        "id": "hSKcQI7DKmgT"
      },
      "source": [
        "def twoSum1(nums, target):\n",
        "    \"\"\"\n",
        "    :type nums: List[int]\n",
        "    :type target: int\n",
        "    :rtype: List[int]\n",
        "    \"\"\"\n",
        "    \n",
        "    prevMap={}\n",
        "    \n",
        "    for i,n in enumerate(nums):\n",
        "        diff= target-n\n",
        "        if diff in prevMap:\n",
        "            return [prevMap[diff],i]\n",
        "        prevMap[n]=i"
      ],
      "execution_count": 2,
      "outputs": []
    },
    {
      "cell_type": "code",
      "metadata": {
        "colab": {
          "base_uri": "https://localhost:8080/"
        },
        "id": "HIi5sgPNLbb-",
        "outputId": "134f4269-1d15-4515-aeb2-42a6dfd6093e"
      },
      "source": [
        "nums = [2,7,11,15]\n",
        "target=9\n",
        "twoSum(nums,target)"
      ],
      "execution_count": 4,
      "outputs": [
        {
          "output_type": "execute_result",
          "data": {
            "text/plain": [
              "[0, 1]"
            ]
          },
          "metadata": {
            "tags": []
          },
          "execution_count": 4
        }
      ]
    },
    {
      "cell_type": "code",
      "metadata": {
        "colab": {
          "base_uri": "https://localhost:8080/"
        },
        "id": "04Es6-6zLmIV",
        "outputId": "bde1ab71-401c-4ad9-93cf-1d59c2d97e84"
      },
      "source": [
        "twoSum1(nums,target)"
      ],
      "execution_count": 5,
      "outputs": [
        {
          "output_type": "execute_result",
          "data": {
            "text/plain": [
              "[0, 1]"
            ]
          },
          "metadata": {
            "tags": []
          },
          "execution_count": 5
        }
      ]
    },
    {
      "cell_type": "code",
      "metadata": {
        "id": "w4TDaFMvLthT"
      },
      "source": [
        ""
      ],
      "execution_count": null,
      "outputs": []
    }
  ]
}