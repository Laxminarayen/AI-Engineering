{
  "nbformat": 4,
  "nbformat_minor": 0,
  "metadata": {
    "colab": {
      "name": "572 Subtree of Another Tree LeetCode.ipynb",
      "provenance": [],
      "authorship_tag": "ABX9TyP08ounbDkltLd2/b7fAtdO",
      "include_colab_link": true
    },
    "kernelspec": {
      "name": "python3",
      "display_name": "Python 3"
    },
    "language_info": {
      "name": "python"
    }
  },
  "cells": [
    {
      "cell_type": "markdown",
      "metadata": {
        "id": "view-in-github",
        "colab_type": "text"
      },
      "source": [
        "<a href=\"https://colab.research.google.com/github/plthiyagu/AI-Engineering/blob/master/15-LeetCode/572%20Subtree_of_Another_Tree_LeetCode.ipynb\" target=\"_parent\"><img src=\"https://colab.research.google.com/assets/colab-badge.svg\" alt=\"Open In Colab\"/></a>"
      ]
    },
    {
      "cell_type": "code",
      "metadata": {
        "id": "ZwUXyfmUmIGw"
      },
      "source": [
        "# Definition for a binary tree node.\n",
        "# class TreeNode(object):\n",
        "#     def __init__(self, val=0, left=None, right=None):\n",
        "#         self.val = val\n",
        "#         self.left = left\n",
        "#         self.right = right\n",
        "class Solution(object):\n",
        "    def isSubtree(self, root, subRoot):\n",
        "        \"\"\"\n",
        "        :type root: TreeNode\n",
        "        :type subRoot: TreeNode\n",
        "        :rtype: bool\n",
        "        \"\"\"\n",
        "        if not root and not subRoot:\n",
        "            return True\n",
        "        if not root or not subRoot:\n",
        "            return False\n",
        "        return self.isSameTree(root, subRoot) or self.isSubtree(root.left, subRoot) or self.isSubtree(root.right, subRoot)\n",
        "    def isSameTree(self, root, subRoot):\n",
        "        if not root and not subRoot:\n",
        "            return True\n",
        "        if not root or not subRoot:\n",
        "            return False\n",
        "        return root.val == subRoot.val and self.isSameTree(root.left, subRoot.left) and self.isSameTree(root.right, subRoot.right)"
      ],
      "execution_count": 1,
      "outputs": []
    },
    {
      "cell_type": "code",
      "metadata": {
        "id": "9VCPpvebrUPX"
      },
      "source": [
        "root = [3,4,5,1,2,null,null,null,null,0]\n",
        "subRoot = [4,1,2]\n"
      ],
      "execution_count": null,
      "outputs": []
    },
    {
      "cell_type": "code",
      "metadata": {
        "id": "c9G6LxfxrYmQ"
      },
      "source": [
        ""
      ],
      "execution_count": null,
      "outputs": []
    }
  ]
}