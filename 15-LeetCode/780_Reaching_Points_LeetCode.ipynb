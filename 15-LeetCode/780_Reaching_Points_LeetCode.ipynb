{
  "nbformat": 4,
  "nbformat_minor": 0,
  "metadata": {
    "colab": {
      "name": "780 Reaching Points LeetCode.ipynb",
      "provenance": [],
      "authorship_tag": "ABX9TyPEdSsDZwo8xJL9mI8Hpnx2",
      "include_colab_link": true
    },
    "kernelspec": {
      "name": "python3",
      "display_name": "Python 3"
    },
    "language_info": {
      "name": "python"
    }
  },
  "cells": [
    {
      "cell_type": "markdown",
      "metadata": {
        "id": "view-in-github",
        "colab_type": "text"
      },
      "source": [
        "<a href=\"https://colab.research.google.com/github/plthiyagu/AI-Engineering/blob/master/15-LeetCode/780_Reaching_Points_LeetCode.ipynb\" target=\"_parent\"><img src=\"https://colab.research.google.com/assets/colab-badge.svg\" alt=\"Open In Colab\"/></a>"
      ]
    },
    {
      "cell_type": "code",
      "metadata": {
        "id": "Ib_eBouXFO1y"
      },
      "source": [
        "def reachingPoints(sx: int, sy: int, tx: int, ty: int) -> bool:\n",
        "    while tx >= sx and ty >= sy:\n",
        "        if tx < ty:\n",
        "            sx, sy = sy, sx\n",
        "            tx, ty = ty, tx\n",
        "        if ty > sy:\n",
        "            tx %= ty\n",
        "        else:\n",
        "            return (tx - sx) % ty == 0\n",
        "\n",
        "    return False\n",
        "    "
      ],
      "execution_count": 1,
      "outputs": []
    },
    {
      "cell_type": "code",
      "metadata": {
        "colab": {
          "base_uri": "https://localhost:8080/"
        },
        "id": "M8uMlBekFShj",
        "outputId": "6e1758cb-d7d7-459f-b030-00a09fbafc19"
      },
      "source": [
        "sx = 1\n",
        "sy = 1\n",
        "tx = 3\n",
        "ty = 5\n",
        "reachingPoints(sx, sy, tx, ty)"
      ],
      "execution_count": 2,
      "outputs": [
        {
          "output_type": "execute_result",
          "data": {
            "text/plain": [
              "True"
            ]
          },
          "metadata": {},
          "execution_count": 2
        }
      ]
    },
    {
      "cell_type": "code",
      "metadata": {
        "id": "CKBkwp6HFfgA"
      },
      "source": [
        ""
      ],
      "execution_count": null,
      "outputs": []
    }
  ]
}