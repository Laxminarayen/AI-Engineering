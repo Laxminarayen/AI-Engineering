{
  "nbformat": 4,
  "nbformat_minor": 0,
  "metadata": {
    "colab": {
      "name": "102 Binary Tree Level Order Traversal LeetCode.ipynb",
      "provenance": [],
      "authorship_tag": "ABX9TyMD5hYuEIMvWEjZzkrB8rTm",
      "include_colab_link": true
    },
    "kernelspec": {
      "name": "python3",
      "display_name": "Python 3"
    },
    "language_info": {
      "name": "python"
    }
  },
  "cells": [
    {
      "cell_type": "markdown",
      "metadata": {
        "id": "view-in-github",
        "colab_type": "text"
      },
      "source": [
        "<a href=\"https://colab.research.google.com/github/plthiyagu/AI-Engineering/blob/master/15-LeetCode/102_Binary_Tree_Level_Order_Traversal_LeetCode.ipynb\" target=\"_parent\"><img src=\"https://colab.research.google.com/assets/colab-badge.svg\" alt=\"Open In Colab\"/></a>"
      ]
    },
    {
      "cell_type": "code",
      "metadata": {
        "id": "x5FvKkrvDmOX"
      },
      "source": [
        "# Definition for a binary tree node.\n",
        "# class TreeNode:\n",
        "#     def __init__(self, val=0, left=None, right=None):\n",
        "#         self.val = val\n",
        "#         self.left = left\n",
        "#         self.right = right\n",
        "class Solution:\n",
        "    def levelOrder(self, root: Optional[TreeNode]) -> List[List[int]]:\n",
        "        if root is None: return []\n",
        "        queue, res = collections.deque([root]),[]\n",
        "        while queue:\n",
        "            size = len(queue)\n",
        "            tmp=[]\n",
        "            while size>0: \n",
        "                node = queue.popleft()\n",
        "                tmp.append(node.val)\n",
        "                if node.left:\n",
        "                    queue.append(node.left)\n",
        "                if node.right:\n",
        "                    queue.append(node.right)\n",
        "                size-=1\n",
        "            res.append(tmp)\n",
        "        return res\n"
      ],
      "execution_count": null,
      "outputs": []
    }
  ]
}