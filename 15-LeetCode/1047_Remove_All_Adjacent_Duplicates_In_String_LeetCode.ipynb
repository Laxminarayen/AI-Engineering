{
  "nbformat": 4,
  "nbformat_minor": 0,
  "metadata": {
    "colab": {
      "name": "1047 Remove All Adjacent Duplicates In String LeetCode.ipynb",
      "provenance": [],
      "authorship_tag": "ABX9TyOWrFtu4G3L89XUcVWaVQ6Z",
      "include_colab_link": true
    },
    "kernelspec": {
      "name": "python3",
      "display_name": "Python 3"
    },
    "language_info": {
      "name": "python"
    }
  },
  "cells": [
    {
      "cell_type": "markdown",
      "metadata": {
        "id": "view-in-github",
        "colab_type": "text"
      },
      "source": [
        "<a href=\"https://colab.research.google.com/github/plthiyagu/AI-Engineering/blob/master/15-LeetCode/1047_Remove_All_Adjacent_Duplicates_In_String_LeetCode.ipynb\" target=\"_parent\"><img src=\"https://colab.research.google.com/assets/colab-badge.svg\" alt=\"Open In Colab\"/></a>"
      ]
    },
    {
      "cell_type": "code",
      "metadata": {
        "id": "QjvQS7pJBOZW"
      },
      "source": [
        "def removeDuplicates(s: str) -> str:\n",
        "    res = []\n",
        "    for c in s:\n",
        "        if res and res[-1] == c:\n",
        "            res.pop()\n",
        "        else:\n",
        "            res.append(c)\n",
        "    return \"\".join(res)"
      ],
      "execution_count": 1,
      "outputs": []
    },
    {
      "cell_type": "code",
      "metadata": {
        "colab": {
          "base_uri": "https://localhost:8080/",
          "height": 35
        },
        "id": "LglHjnhPBTgm",
        "outputId": "84280519-c869-486d-cb8b-32852f2a83b6"
      },
      "source": [
        "s = \"abbaca\"\n",
        "removeDuplicates(s)"
      ],
      "execution_count": 2,
      "outputs": [
        {
          "output_type": "execute_result",
          "data": {
            "application/vnd.google.colaboratory.intrinsic+json": {
              "type": "string"
            },
            "text/plain": [
              "'ca'"
            ]
          },
          "metadata": {},
          "execution_count": 2
        }
      ]
    },
    {
      "cell_type": "code",
      "metadata": {
        "id": "PFBkCrRFBYTi"
      },
      "source": [
        ""
      ],
      "execution_count": null,
      "outputs": []
    }
  ]
}