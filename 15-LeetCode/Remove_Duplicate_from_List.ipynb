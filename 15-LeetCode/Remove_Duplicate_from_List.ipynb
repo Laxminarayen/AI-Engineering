{
  "nbformat": 4,
  "nbformat_minor": 0,
  "metadata": {
    "colab": {
      "name": "Remove Duplicate from List.ipynb",
      "provenance": [],
      "authorship_tag": "ABX9TyPOoPyQSj5QDAr75pU9pr0Y",
      "include_colab_link": true
    },
    "kernelspec": {
      "name": "python3",
      "display_name": "Python 3"
    }
  },
  "cells": [
    {
      "cell_type": "markdown",
      "metadata": {
        "id": "view-in-github",
        "colab_type": "text"
      },
      "source": [
        "<a href=\"https://colab.research.google.com/github/plthiyagu/Personnel/blob/master/Remove_Duplicate_from_List.ipynb\" target=\"_parent\"><img src=\"https://colab.research.google.com/assets/colab-badge.svg\" alt=\"Open In Colab\"/></a>"
      ]
    },
    {
      "cell_type": "code",
      "metadata": {
        "id": "S2qShz-L2k9R",
        "colab_type": "code",
        "colab": {}
      },
      "source": [
        "def remove_duplicates(lista):\n",
        "  lista2=[]\n",
        "  if lista:\n",
        "    for item in lista:\n",
        "      if item not in lista2:\n",
        "        #is item in lista already???\n",
        "        lista2.append(item)\n",
        "      \n",
        "  else:\n",
        "    return lista\n",
        "  return lista2\n",
        "  \n"
      ],
      "execution_count": 1,
      "outputs": []
    },
    {
      "cell_type": "code",
      "metadata": {
        "id": "auGay17v3QTb",
        "colab_type": "code",
        "colab": {
          "base_uri": "https://localhost:8080/",
          "height": 34
        },
        "outputId": "7e1088f8-3492-4e65-c8ac-498a3063e829"
      },
      "source": [
        "print (remove_duplicates([\"priya\",\"ram\",\"priya\",\"lakshmi\"]))"
      ],
      "execution_count": 2,
      "outputs": [
        {
          "output_type": "stream",
          "text": [
            "['priya', 'ram', 'lakshmi']\n"
          ],
          "name": "stdout"
        }
      ]
    },
    {
      "cell_type": "code",
      "metadata": {
        "id": "LHv-q6KP3Yof",
        "colab_type": "code",
        "colab": {}
      },
      "source": [
        ""
      ],
      "execution_count": null,
      "outputs": []
    }
  ]
}