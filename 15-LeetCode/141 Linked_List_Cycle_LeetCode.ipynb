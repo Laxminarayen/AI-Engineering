{
  "nbformat": 4,
  "nbformat_minor": 0,
  "metadata": {
    "colab": {
      "name": "141 Linked List Cycle LeetCode.ipynb",
      "provenance": [],
      "authorship_tag": "ABX9TyMcEN4r9LpLCwDLPdFA8Fuu",
      "include_colab_link": true
    },
    "kernelspec": {
      "name": "python3",
      "display_name": "Python 3"
    },
    "language_info": {
      "name": "python"
    }
  },
  "cells": [
    {
      "cell_type": "markdown",
      "metadata": {
        "id": "view-in-github",
        "colab_type": "text"
      },
      "source": [
        "<a href=\"https://colab.research.google.com/github/plthiyagu/AI-Engineering/blob/master/15-LeetCode/141%20Linked_List_Cycle_LeetCode.ipynb\" target=\"_parent\"><img src=\"https://colab.research.google.com/assets/colab-badge.svg\" alt=\"Open In Colab\"/></a>"
      ]
    },
    {
      "cell_type": "code",
      "metadata": {
        "id": "OJZJklom1FEX"
      },
      "source": [
        "# Definition for singly-linked list.\n",
        "class ListNode(object):\n",
        "    def __init__(self, x):\n",
        "        self.val = x\n",
        "        self.next = None\n",
        "\n",
        "class Solution(object):\n",
        "    def hasCycle(self, head):\n",
        "        \"\"\"\n",
        "        :type head: ListNode\n",
        "        :rtype: bool\n",
        "        \"\"\"\n",
        "        fast = slow = head\n",
        "        while fast and fast.next:\n",
        "            fast = fast.next.next\n",
        "            slow = slow.next\n",
        "            if slow == fast:\n",
        "                return True\n",
        "        return False\n"
      ],
      "execution_count": 1,
      "outputs": []
    },
    {
      "cell_type": "code",
      "metadata": {
        "id": "4LU2FXHX1Hw7"
      },
      "source": [
        "head = [3,2,0,-4]\n",
        "pos = 1\n"
      ],
      "execution_count": 2,
      "outputs": []
    }
  ]
}