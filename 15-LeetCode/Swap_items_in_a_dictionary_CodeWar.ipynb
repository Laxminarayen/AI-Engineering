{
  "nbformat": 4,
  "nbformat_minor": 0,
  "metadata": {
    "colab": {
      "name": "Swap items in a dictionary CodeWar.ipynb",
      "provenance": [],
      "authorship_tag": "ABX9TyNP5eE8A1DoNZNAe979K+4Z",
      "include_colab_link": true
    },
    "kernelspec": {
      "name": "python3",
      "display_name": "Python 3"
    },
    "language_info": {
      "name": "python"
    }
  },
  "cells": [
    {
      "cell_type": "markdown",
      "metadata": {
        "id": "view-in-github",
        "colab_type": "text"
      },
      "source": [
        "<a href=\"https://colab.research.google.com/github/plthiyagu/AI-Engineering/blob/master/15-LeetCode/Swap_items_in_a_dictionary_CodeWar.ipynb\" target=\"_parent\"><img src=\"https://colab.research.google.com/assets/colab-badge.svg\" alt=\"Open In Colab\"/></a>"
      ]
    },
    {
      "cell_type": "code",
      "metadata": {
        "id": "0NgJIBPLn0Hk"
      },
      "source": [
        "dic={'Ice': 'Cream', 'Age': '21', 'Light': 'Cream', 'Double': 'Cream'}"
      ],
      "execution_count": 3,
      "outputs": []
    },
    {
      "cell_type": "code",
      "metadata": {
        "id": "XrNFEJVXo1pw"
      },
      "source": [
        "def switch_dict(dic):\n",
        "    # Your code here:\n",
        "    new = {}\n",
        "    for k,v in dic.items():\n",
        "        if v in new:\n",
        "            new[v] = new[v] + [k]\n",
        "        else:\n",
        "            new[v] = [k]\n",
        "    return new"
      ],
      "execution_count": 4,
      "outputs": []
    },
    {
      "cell_type": "code",
      "metadata": {
        "colab": {
          "base_uri": "https://localhost:8080/"
        },
        "id": "MwP7loYqo49J",
        "outputId": "cf195d3c-b6a1-4976-8e36-9a93dc7f8a5e"
      },
      "source": [
        "switch_dict(dic)"
      ],
      "execution_count": 5,
      "outputs": [
        {
          "output_type": "execute_result",
          "data": {
            "text/plain": [
              "{'21': ['Age'], 'Cream': ['Ice', 'Light', 'Double']}"
            ]
          },
          "metadata": {
            "tags": []
          },
          "execution_count": 5
        }
      ]
    },
    {
      "cell_type": "code",
      "metadata": {
        "id": "cDQYlIgVo8op"
      },
      "source": [
        "def switch_dict(dic):\n",
        "    result = {}\n",
        "    for key, value in dic.items():\n",
        "        result.setdefault(value, []).append(key)\n",
        "    return result"
      ],
      "execution_count": 6,
      "outputs": []
    },
    {
      "cell_type": "code",
      "metadata": {
        "id": "eALMFAsYpFvV"
      },
      "source": [
        "def switch_dict(dct):\n",
        "    revDct = defaultdict(list)\n",
        "    for k,v in dct.items(): revDct[v].append(k)\n",
        "    return revDct"
      ],
      "execution_count": 7,
      "outputs": []
    },
    {
      "cell_type": "code",
      "metadata": {
        "id": "XdlqxwFgpJ3K"
      },
      "source": [
        "def switch_dict(dic):\n",
        "    res = defaultdict(list)\n",
        "    for k, v in dic.items():\n",
        "        res[v].append(k)\n",
        "    return res"
      ],
      "execution_count": 8,
      "outputs": []
    },
    {
      "cell_type": "code",
      "metadata": {
        "id": "hlOK05IapNJy"
      },
      "source": [
        ""
      ],
      "execution_count": null,
      "outputs": []
    }
  ]
}