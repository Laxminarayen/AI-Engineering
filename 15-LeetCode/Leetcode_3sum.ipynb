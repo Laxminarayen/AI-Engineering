{
  "nbformat": 4,
  "nbformat_minor": 0,
  "metadata": {
    "colab": {
      "name": "3sum-Leetcode.ipynb",
      "provenance": [],
      "collapsed_sections": [],
      "authorship_tag": "ABX9TyPF+O6oic6h5j6s5/Mb4zZg",
      "include_colab_link": true
    },
    "kernelspec": {
      "name": "python3",
      "display_name": "Python 3"
    },
    "language_info": {
      "name": "python"
    }
  },
  "cells": [
    {
      "cell_type": "markdown",
      "metadata": {
        "id": "view-in-github",
        "colab_type": "text"
      },
      "source": [
        "<a href=\"https://colab.research.google.com/github/plthiyagu/AI-Engineering/blob/master/22-LeetCode/3sum_Leetcode.ipynb\" target=\"_parent\"><img src=\"https://colab.research.google.com/assets/colab-badge.svg\" alt=\"Open In Colab\"/></a>"
      ]
    },
    {
      "cell_type": "code",
      "metadata": {
        "id": "YMhFpgIEsDTz"
      },
      "source": [
        "from typing import List"
      ],
      "execution_count": null,
      "outputs": []
    },
    {
      "cell_type": "code",
      "metadata": {
        "id": "5MKagOjZryXk"
      },
      "source": [
        "def threeSum(nums: List[int]) -> List[List[int]]:\n",
        "    # Sort the given array\n",
        "    nums.sort()\n",
        "    # Length of the array\n",
        "    n = len(nums)\n",
        "    # Resultant list\n",
        "    triplets = list()\n",
        "    # Loop for each character in the array\n",
        "    for i in range(0, n):\n",
        "        # Avoid duplicates due to i\n",
        "        if i > 0 and nums[i] == nums[i - 1]:\n",
        "            continue\n",
        "        # Left and right pointers\n",
        "        j = i + 1\n",
        "        k = n - 1\n",
        "        # Loop for remaining pairs\n",
        "        while j < k:\n",
        "            if nums[i] + nums[j] + nums[k] == 0:\n",
        "                triplets.append([nums[i], nums[j], nums[k]])\n",
        "                j += 1\n",
        "                # Avoid duplicates for j\n",
        "                while j < k and nums[j] == nums[j - 1]:\n",
        "                    j += 1\n",
        "            elif nums[i] + nums[j] + nums[k] < 0:\n",
        "                j += 1\n",
        "            else:\n",
        "                k -= 1\n",
        "    return triplets"
      ],
      "execution_count": null,
      "outputs": []
    },
    {
      "cell_type": "code",
      "metadata": {
        "colab": {
          "base_uri": "https://localhost:8080/"
        },
        "id": "zBUpm40csEso",
        "outputId": "ef0c8f1f-b3b6-4632-8a18-660c5f91fc7f"
      },
      "source": [
        "nums=[-1,0,1,2,-1,-4]\n",
        "print(threeSum(nums))"
      ],
      "execution_count": null,
      "outputs": [
        {
          "output_type": "stream",
          "text": [
            "[[-1, -1, 2], [-1, 0, 1]]\n"
          ],
          "name": "stdout"
        }
      ]
    },
    {
      "cell_type": "code",
      "metadata": {
        "id": "bOhFocSVscRh"
      },
      "source": [
        ""
      ],
      "execution_count": null,
      "outputs": []
    },
    {
      "cell_type": "code",
      "metadata": {
        "id": "pfH3XO54r2nz"
      },
      "source": [
        ""
      ],
      "execution_count": null,
      "outputs": []
    }
  ]
}