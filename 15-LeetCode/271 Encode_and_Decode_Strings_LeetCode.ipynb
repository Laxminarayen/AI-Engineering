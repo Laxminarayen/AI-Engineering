{
  "nbformat": 4,
  "nbformat_minor": 0,
  "metadata": {
    "colab": {
      "name": "271 Encode and Decode Strings LeetCode.ipynb",
      "provenance": [],
      "authorship_tag": "ABX9TyODqhxzW4Q0la5wjsP6fKGW",
      "include_colab_link": true
    },
    "kernelspec": {
      "name": "python3",
      "display_name": "Python 3"
    },
    "language_info": {
      "name": "python"
    }
  },
  "cells": [
    {
      "cell_type": "markdown",
      "metadata": {
        "id": "view-in-github",
        "colab_type": "text"
      },
      "source": [
        "<a href=\"https://colab.research.google.com/github/plthiyagu/AI-Engineering/blob/master/15-LeetCode/271%20Encode_and_Decode_Strings_LeetCode.ipynb\" target=\"_parent\"><img src=\"https://colab.research.google.com/assets/colab-badge.svg\" alt=\"Open In Colab\"/></a>"
      ]
    },
    {
      "cell_type": "code",
      "metadata": {
        "id": "AImeKaFtUV5i"
      },
      "source": [
        "class Codec:\n",
        "\n",
        "    def encode(self, strs):\n",
        "        \"\"\"Encodes a list of strings to a single string.\n",
        "\n",
        "        :type strs: List[str]\n",
        "        :rtype: str\n",
        "        \"\"\"\n",
        "        if len(strs) == 0:\n",
        "            return \"\"\n",
        "        else:\n",
        "            return \"//\".join([s.replace(\"/\", \"#/#\") for s in strs]) + \"//\"\n",
        "\n",
        "\n",
        "    def decode(self, s):\n",
        "        \"\"\"Decodes a single string to a list of strings.\n",
        "\n",
        "        :type s: str\n",
        "        :rtype: List[str]\n",
        "        \"\"\"\n",
        "        if len(s) == 0:\n",
        "            return []\n",
        "        return [seg.replace(\"#/#\", \"/\") for seg in s.split(\"//\")][:-1]"
      ],
      "execution_count": 1,
      "outputs": []
    },
    {
      "cell_type": "code",
      "metadata": {
        "id": "x3WhA86KUZ0c"
      },
      "source": [
        "# Your Codec object will be instantiated and called as such:\n",
        "codec = Codec()\n",
        "codec.decode(codec.encode(strs))\n"
      ],
      "execution_count": null,
      "outputs": []
    }
  ]
}