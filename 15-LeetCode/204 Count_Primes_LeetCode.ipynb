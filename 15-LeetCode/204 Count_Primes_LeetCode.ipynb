{
  "nbformat": 4,
  "nbformat_minor": 0,
  "metadata": {
    "colab": {
      "name": "204 Count Primes LeetCode.ipynb",
      "provenance": [],
      "authorship_tag": "ABX9TyPDairOLmxGMWH+4/q0gfSg",
      "include_colab_link": true
    },
    "kernelspec": {
      "name": "python3",
      "display_name": "Python 3"
    },
    "language_info": {
      "name": "python"
    }
  },
  "cells": [
    {
      "cell_type": "markdown",
      "metadata": {
        "id": "view-in-github",
        "colab_type": "text"
      },
      "source": [
        "<a href=\"https://colab.research.google.com/github/plthiyagu/AI-Engineering/blob/master/15-LeetCode/204%20Count_Primes_LeetCode.ipynb\" target=\"_parent\"><img src=\"https://colab.research.google.com/assets/colab-badge.svg\" alt=\"Open In Colab\"/></a>"
      ]
    },
    {
      "cell_type": "code",
      "metadata": {
        "id": "rnSGMUE--WQb"
      },
      "source": [
        "def countPrimes( n):\n",
        "    \"\"\"\n",
        "    :type n: int\n",
        "    :rtype: int\n",
        "    \"\"\"\n",
        "    if n<2: return 0\n",
        "    prime=[True]*n\n",
        "    prime[0]=prime[1]=False\n",
        "    for i in range(2,n):\n",
        "        if prime[i]:\n",
        "            for j in range(i+i, n, i):\n",
        "                prime[j]=False\n",
        "    return prime.count(True)"
      ],
      "execution_count": 1,
      "outputs": []
    },
    {
      "cell_type": "code",
      "metadata": {
        "colab": {
          "base_uri": "https://localhost:8080/"
        },
        "id": "kN_-iV-Z-ZU1",
        "outputId": "fe5a4fc8-eb81-4188-d38f-8f30f7ef0be6"
      },
      "source": [
        "n = 10\n",
        "countPrimes( n)"
      ],
      "execution_count": 2,
      "outputs": [
        {
          "output_type": "execute_result",
          "data": {
            "text/plain": [
              "4"
            ]
          },
          "metadata": {
            "tags": []
          },
          "execution_count": 2
        }
      ]
    },
    {
      "cell_type": "code",
      "metadata": {
        "id": "wepkBTB9-evm"
      },
      "source": [
        ""
      ],
      "execution_count": null,
      "outputs": []
    }
  ]
}