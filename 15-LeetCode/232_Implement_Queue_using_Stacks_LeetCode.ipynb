{
  "nbformat": 4,
  "nbformat_minor": 0,
  "metadata": {
    "colab": {
      "name": "232 Implement Queue using Stacks LeetCode.ipynb",
      "provenance": [],
      "authorship_tag": "ABX9TyMDazQMh0FXfqZBXR7zmC8X",
      "include_colab_link": true
    },
    "kernelspec": {
      "name": "python3",
      "display_name": "Python 3"
    },
    "language_info": {
      "name": "python"
    }
  },
  "cells": [
    {
      "cell_type": "markdown",
      "metadata": {
        "id": "view-in-github",
        "colab_type": "text"
      },
      "source": [
        "<a href=\"https://colab.research.google.com/github/plthiyagu/AI-Engineering/blob/master/15-LeetCode/232_Implement_Queue_using_Stacks_LeetCode.ipynb\" target=\"_parent\"><img src=\"https://colab.research.google.com/assets/colab-badge.svg\" alt=\"Open In Colab\"/></a>"
      ]
    },
    {
      "cell_type": "code",
      "metadata": {
        "id": "FD52NOkt94DT"
      },
      "source": [
        "class MyQueue:\n",
        "\n",
        "    def __init__(self):\n",
        "        self.push_stack = []\n",
        "        self.pop_stack = []\n",
        "\n",
        "        \n",
        "\n",
        "    def push(self, x: int) -> None:\n",
        "        self.push_stack.append(x)\n",
        "\n",
        "        \n",
        "\n",
        "    def pop(self) -> int:\n",
        "        if self.empty(): return\n",
        "        if len(self.pop_stack):\n",
        "            return self.pop_stack.pop()\n",
        "        else:\n",
        "            while len(self.push_stack):\n",
        "                self.pop_stack.append(self.push_stack.pop())\n",
        "        return self.pop_stack.pop()\n",
        "\n",
        "        \n",
        "\n",
        "    def peek(self) -> int:\n",
        "        if self.empty(): return\n",
        "        if len(self.pop_stack):\n",
        "            return self.pop_stack[-1]\n",
        "        else:\n",
        "            while len(self.push_stack):\n",
        "                self.pop_stack.append(self.push_stack.pop())\n",
        "        return self.pop_stack[-1]\n",
        "\n",
        "        \n",
        "\n",
        "    def empty(self) -> bool:\n",
        "        return len(self.push_stack)==False and len(self.pop_stack) == False\n",
        "\n",
        "        \n",
        "\n",
        "\n",
        "# Your MyQueue object will be instantiated and called as such:\n",
        "# obj = MyQueue()\n",
        "# obj.push(x)\n",
        "# param_2 = obj.pop()\n",
        "# param_3 = obj.peek()\n",
        "# param_4 = obj.empty()"
      ],
      "execution_count": 1,
      "outputs": []
    },
    {
      "cell_type": "code",
      "metadata": {
        "id": "3pwr_5TirKk7"
      },
      "source": [
        "[\"MyQueue\", \"push\", \"push\", \"peek\", \"pop\", \"empty\"]\n",
        "[[], [1], [2], [], [], []]"
      ],
      "execution_count": null,
      "outputs": []
    }
  ]
}