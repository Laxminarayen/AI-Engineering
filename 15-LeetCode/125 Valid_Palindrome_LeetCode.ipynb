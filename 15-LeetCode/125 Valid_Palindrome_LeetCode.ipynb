{
  "nbformat": 4,
  "nbformat_minor": 0,
  "metadata": {
    "colab": {
      "name": "125 Valid Palindrome LeetCode.ipynb",
      "provenance": []
    },
    "kernelspec": {
      "name": "python3",
      "display_name": "Python 3"
    },
    "language_info": {
      "name": "python"
    }
  },
  "cells": [
    {
      "cell_type": "code",
      "metadata": {
        "id": "4sQvuifCGT63"
      },
      "source": [
        "def isPalindrome( s):\n",
        "    \"\"\"\n",
        "    :type s: str\n",
        "    :rtype: bool\n",
        "    \"\"\"\n",
        "    l, r = 0, len(s) - 1\n",
        "    while l < r:\n",
        "        while l < r and not s[l].isalnum():\n",
        "            l += 1\n",
        "        while l < r and not s[r].isalnum():\n",
        "            r -= 1\n",
        "        if l < r:\n",
        "            if s[l].lower() != s[r].lower():\n",
        "                return False\n",
        "            l += 1\n",
        "            r -= 1\n",
        "    return True\n"
      ],
      "execution_count": null,
      "outputs": []
    },
    {
      "cell_type": "code",
      "metadata": {
        "colab": {
          "base_uri": "https://localhost:8080/"
        },
        "id": "Jo6hyfKTGhF4",
        "outputId": "437e7e32-4770-41ba-b174-6f88860de90a"
      },
      "source": [
        "s = \"A man, a plan, a canal: Panama\"\n",
        "isPalindrome(s)"
      ],
      "execution_count": null,
      "outputs": [
        {
          "output_type": "execute_result",
          "data": {
            "text/plain": [
              "True"
            ]
          },
          "metadata": {
            "tags": []
          },
          "execution_count": 2
        }
      ]
    },
    {
      "cell_type": "code",
      "metadata": {
        "colab": {
          "base_uri": "https://localhost:8080/"
        },
        "id": "PhkCJH8vGl91",
        "outputId": "b7dc88c4-e864-41b9-bd5a-627d9b6a7a86"
      },
      "source": [
        "s = \"race a car\"\n",
        "isPalindrome(s)"
      ],
      "execution_count": null,
      "outputs": [
        {
          "output_type": "execute_result",
          "data": {
            "text/plain": [
              "False"
            ]
          },
          "metadata": {
            "tags": []
          },
          "execution_count": 3
        }
      ]
    }
  ]
}