{
  "nbformat": 4,
  "nbformat_minor": 0,
  "metadata": {
    "colab": {
      "name": "921 Minimum Add to Make Parentheses Valid LeetCode.ipynb",
      "provenance": [],
      "authorship_tag": "ABX9TyNC0SsOXnvXt08cZelDGDMh",
      "include_colab_link": true
    },
    "kernelspec": {
      "name": "python3",
      "display_name": "Python 3"
    },
    "language_info": {
      "name": "python"
    }
  },
  "cells": [
    {
      "cell_type": "markdown",
      "metadata": {
        "id": "view-in-github",
        "colab_type": "text"
      },
      "source": [
        "<a href=\"https://colab.research.google.com/github/plthiyagu/AI-Engineering/blob/master/15-LeetCode/921_Minimum_Add_to_Make_Parentheses_Valid_LeetCode.ipynb\" target=\"_parent\"><img src=\"https://colab.research.google.com/assets/colab-badge.svg\" alt=\"Open In Colab\"/></a>"
      ]
    },
    {
      "cell_type": "code",
      "metadata": {
        "id": "WoPYTYVo6NBS"
      },
      "source": [
        "def minAddToMakeValid(s: str) -> int:\n",
        "    stack = []\n",
        "    for c in s:\n",
        "        if stack and c==')' and stack[-1]=='(': stack.pop()\n",
        "        else: stack.append(c)\n",
        "    return len(stack)"
      ],
      "execution_count": 1,
      "outputs": []
    },
    {
      "cell_type": "code",
      "metadata": {
        "colab": {
          "base_uri": "https://localhost:8080/"
        },
        "id": "vwMgiDMw6iEA",
        "outputId": "95558d92-c247-4de4-c1f6-f8937bfc1fb5"
      },
      "source": [
        "s = \"())\"\n",
        "minAddToMakeValid(s)"
      ],
      "execution_count": 2,
      "outputs": [
        {
          "output_type": "execute_result",
          "data": {
            "text/plain": [
              "1"
            ]
          },
          "metadata": {},
          "execution_count": 2
        }
      ]
    },
    {
      "cell_type": "code",
      "metadata": {
        "id": "_7nsClx76nx4"
      },
      "source": [
        ""
      ],
      "execution_count": null,
      "outputs": []
    }
  ]
}