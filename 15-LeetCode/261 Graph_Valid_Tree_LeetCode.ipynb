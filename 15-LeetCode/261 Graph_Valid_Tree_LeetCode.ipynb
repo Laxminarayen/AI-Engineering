{
  "nbformat": 4,
  "nbformat_minor": 0,
  "metadata": {
    "colab": {
      "name": "261 Graph Valid Tree LeetCode.ipynb",
      "provenance": [],
      "authorship_tag": "ABX9TyPPz5JMNv9UyyibPjeoa/NI",
      "include_colab_link": true
    },
    "kernelspec": {
      "name": "python3",
      "display_name": "Python 3"
    },
    "language_info": {
      "name": "python"
    }
  },
  "cells": [
    {
      "cell_type": "markdown",
      "metadata": {
        "id": "view-in-github",
        "colab_type": "text"
      },
      "source": [
        "<a href=\"https://colab.research.google.com/github/plthiyagu/AI-Engineering/blob/master/15-LeetCode/261%20Graph_Valid_Tree_LeetCode.ipynb\" target=\"_parent\"><img src=\"https://colab.research.google.com/assets/colab-badge.svg\" alt=\"Open In Colab\"/></a>"
      ]
    },
    {
      "cell_type": "code",
      "metadata": {
        "id": "tUYeQPv5iRhr"
      },
      "source": [
        "def validTree(n, edges):\n",
        "    if len(edges) != n- 1: # Check number of edges.\n",
        "        return False\n",
        "\n",
        "    # init node's neighbors in dict\n",
        "    neighbors= collections.defaultdict(list)\n",
        "    for u, v in edges:\n",
        "        neighbors[u].append(v)\n",
        "        neighbors[v].append(u)\n",
        "\n",
        "    # BFS to check whether the graph is valid tree.\n",
        "    visited= {}\n",
        "    q= collections.deque([0])\n",
        "    while q:\n",
        "        curr= q.popleft()\n",
        "        visited[curr]= True\n",
        "        for node in neighbors[curr]:\n",
        "            if nodenot in visited:\n",
        "                visited[node]= True\n",
        "                q.append(node)\n",
        "\n",
        "    return len(visited)== n"
      ],
      "execution_count": 3,
      "outputs": []
    },
    {
      "cell_type": "code",
      "metadata": {
        "id": "hddJ-UlKiVT-"
      },
      "source": [
        ""
      ],
      "execution_count": null,
      "outputs": []
    }
  ]
}