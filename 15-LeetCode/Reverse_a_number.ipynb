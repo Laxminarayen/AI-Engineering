{
  "nbformat": 4,
  "nbformat_minor": 0,
  "metadata": {
    "colab": {
      "name": "Reverse a number.ipynb",
      "provenance": [],
      "authorship_tag": "ABX9TyNSAMelQds0/2AloMqVfi9Y",
      "include_colab_link": true
    },
    "kernelspec": {
      "name": "python3",
      "display_name": "Python 3"
    },
    "language_info": {
      "name": "python"
    }
  },
  "cells": [
    {
      "cell_type": "markdown",
      "metadata": {
        "id": "view-in-github",
        "colab_type": "text"
      },
      "source": [
        "<a href=\"https://colab.research.google.com/github/plthiyagu/AI-Engineering/blob/master/15-LeetCode/Reverse_a_number.ipynb\" target=\"_parent\"><img src=\"https://colab.research.google.com/assets/colab-badge.svg\" alt=\"Open In Colab\"/></a>"
      ]
    },
    {
      "cell_type": "code",
      "metadata": {
        "colab": {
          "base_uri": "https://localhost:8080/"
        },
        "id": "9wYqdwH48S9G",
        "outputId": "d72ec0ee-d15e-45e5-8d97-6c8adae23863"
      },
      "source": [
        "n=int(input(\"Enter the number\"))\n",
        "print(\"before reverse your numeber is : %d\" %n)\n",
        "reverse =0\n",
        "while n!=0:\n",
        "  reverse = reverse*10 + n%10\n",
        "  n= n//10\n",
        "print(\"After reverse : %d\" %reverse) \n"
      ],
      "execution_count": 4,
      "outputs": [
        {
          "output_type": "stream",
          "name": "stdout",
          "text": [
            "Enter the number3456\n",
            "before reverse your numeber is : 3456\n",
            "After reverse : 6543\n"
          ]
        }
      ]
    },
    {
      "cell_type": "code",
      "metadata": {
        "id": "RVHk549183Qh"
      },
      "source": [
        ""
      ],
      "execution_count": null,
      "outputs": []
    },
    {
      "cell_type": "code",
      "metadata": {
        "id": "o0T6_tbn8xgM"
      },
      "source": [
        ""
      ],
      "execution_count": null,
      "outputs": []
    }
  ]
}