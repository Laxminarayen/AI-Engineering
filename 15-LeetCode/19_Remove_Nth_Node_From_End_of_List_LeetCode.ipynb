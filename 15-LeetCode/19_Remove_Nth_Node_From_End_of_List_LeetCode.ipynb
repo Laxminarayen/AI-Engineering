{
  "nbformat": 4,
  "nbformat_minor": 0,
  "metadata": {
    "colab": {
      "name": "19 Remove Nth Node From End of List LeetCode.ipynb",
      "provenance": [],
      "authorship_tag": "ABX9TyPFgnkRhNkwyxDg8rdKGa1T",
      "include_colab_link": true
    },
    "kernelspec": {
      "name": "python3",
      "display_name": "Python 3"
    },
    "language_info": {
      "name": "python"
    }
  },
  "cells": [
    {
      "cell_type": "markdown",
      "metadata": {
        "id": "view-in-github",
        "colab_type": "text"
      },
      "source": [
        "<a href=\"https://colab.research.google.com/github/plthiyagu/AI-Engineering/blob/master/15-LeetCode/19_Remove_Nth_Node_From_End_of_List_LeetCode.ipynb\" target=\"_parent\"><img src=\"https://colab.research.google.com/assets/colab-badge.svg\" alt=\"Open In Colab\"/></a>"
      ]
    },
    {
      "cell_type": "code",
      "metadata": {
        "id": "q4D33ppzcKW8"
      },
      "source": [
        "# Definition for singly-linked list.\n",
        "# class ListNode:\n",
        "#     def __init__(self, val=0, next=None):\n",
        "#         self.val = val\n",
        "#         self.next = next\n",
        "class Solution:\n",
        "    def removeNthFromEnd(self, head: Optional[ListNode], n: int) -> Optional[ListNode]:\n",
        "        fast = slow = head\n",
        "        for _ in range(n):\n",
        "            fast = fast.next\n",
        "        if not fast:\n",
        "            return head.next\n",
        "        while fast.next:\n",
        "            fast = fast.next\n",
        "            slow = slow.next\n",
        "        slow.next = slow.next.next\n",
        "        return head\n"
      ],
      "execution_count": null,
      "outputs": []
    },
    {
      "cell_type": "code",
      "metadata": {
        "id": "XNBfr_kGcMoC"
      },
      "source": [
        "Input: head = [1,2,3,4,5], n = 2\n"
      ],
      "execution_count": null,
      "outputs": []
    }
  ]
}