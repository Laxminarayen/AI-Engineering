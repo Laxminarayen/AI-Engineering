{
  "nbformat": 4,
  "nbformat_minor": 0,
  "metadata": {
    "colab": {
      "name": "Playing with digits Codewar.ipynb",
      "provenance": [],
      "authorship_tag": "ABX9TyPoXo+nXuMjBk4rEMvgidel",
      "include_colab_link": true
    },
    "kernelspec": {
      "name": "python3",
      "display_name": "Python 3"
    },
    "language_info": {
      "name": "python"
    }
  },
  "cells": [
    {
      "cell_type": "markdown",
      "metadata": {
        "id": "view-in-github",
        "colab_type": "text"
      },
      "source": [
        "<a href=\"https://colab.research.google.com/github/plthiyagu/AI-Engineering/blob/master/15-LeetCode/Playing_with_digits_Codewar.ipynb\" target=\"_parent\"><img src=\"https://colab.research.google.com/assets/colab-badge.svg\" alt=\"Open In Colab\"/></a>"
      ]
    },
    {
      "cell_type": "code",
      "metadata": {
        "id": "s176QRJdemTW"
      },
      "source": [
        "def dig_pow(n, p):\n",
        "    num = str(n)\n",
        "    total = sum([int(num[i]) ** (p + i) for i in range(len(num))])\n",
        "    return total / n if (total % n) == 0 else -1"
      ],
      "execution_count": 1,
      "outputs": []
    },
    {
      "cell_type": "code",
      "metadata": {
        "colab": {
          "base_uri": "https://localhost:8080/"
        },
        "id": "wH6MYsF6erSr",
        "outputId": "fa1a21a5-8a3c-4eba-c668-fd8f6cd3f7ce"
      },
      "source": [
        "n=46288\n",
        "p=3\n",
        "dig_pow(n, p)"
      ],
      "execution_count": 2,
      "outputs": [
        {
          "output_type": "execute_result",
          "data": {
            "text/plain": [
              "51.0"
            ]
          },
          "metadata": {
            "tags": []
          },
          "execution_count": 2
        }
      ]
    },
    {
      "cell_type": "code",
      "metadata": {
        "id": "s4IZuvEPe1ah"
      },
      "source": [
        "def dig_pow(n, p):\n",
        "  s = 0\n",
        "  for i,c in enumerate(str(n)):\n",
        "     s += pow(int(c),p+i)\n",
        "  return s/n if s%n==0 else -1"
      ],
      "execution_count": 3,
      "outputs": []
    }
  ]
}