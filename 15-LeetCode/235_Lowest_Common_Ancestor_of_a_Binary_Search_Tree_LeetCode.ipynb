{
  "nbformat": 4,
  "nbformat_minor": 0,
  "metadata": {
    "colab": {
      "name": "235 Lowest Common Ancestor of a Binary Search Tree LeetCode.ipynb",
      "provenance": [],
      "authorship_tag": "ABX9TyP9yC+Av2NoJmknr+3PU3qg",
      "include_colab_link": true
    },
    "kernelspec": {
      "name": "python3",
      "display_name": "Python 3"
    },
    "language_info": {
      "name": "python"
    }
  },
  "cells": [
    {
      "cell_type": "markdown",
      "metadata": {
        "id": "view-in-github",
        "colab_type": "text"
      },
      "source": [
        "<a href=\"https://colab.research.google.com/github/plthiyagu/AI-Engineering/blob/master/15-LeetCode/235_Lowest_Common_Ancestor_of_a_Binary_Search_Tree_LeetCode.ipynb\" target=\"_parent\"><img src=\"https://colab.research.google.com/assets/colab-badge.svg\" alt=\"Open In Colab\"/></a>"
      ]
    },
    {
      "cell_type": "code",
      "metadata": {
        "id": "yPwtkqRzWkKD"
      },
      "source": [
        "# Definition for a binary tree node.\n",
        "# class TreeNode:\n",
        "#     def __init__(self, x):\n",
        "#         self.val = x\n",
        "#         self.left = None\n",
        "#         self.right = None\n",
        "\n",
        "class Solution:\n",
        "    def lowestCommonAncestor(self, root: 'TreeNode', p: 'TreeNode', q: 'TreeNode') -> 'TreeNode':\n",
        "        current = root\n",
        "        while root:\n",
        "            if root.val > p.val and root.val > q.val:\n",
        "                root = root.left\n",
        "            elif root.val < p.val and root.val < q.val:\n",
        "                root = root.right\n",
        "            else: break\n",
        "\n",
        "        return root\n"
      ],
      "execution_count": null,
      "outputs": []
    },
    {
      "cell_type": "code",
      "metadata": {
        "id": "-ajkxWBZWmOP"
      },
      "source": [
        "Input: root = [6,2,8,0,4,7,9,null,null,3,5], p = 2, q = 4"
      ],
      "execution_count": null,
      "outputs": []
    }
  ]
}