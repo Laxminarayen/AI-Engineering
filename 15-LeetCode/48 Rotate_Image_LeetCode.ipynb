{
  "nbformat": 4,
  "nbformat_minor": 0,
  "metadata": {
    "colab": {
      "name": "48 Rotate Image LeetCode.ipynb",
      "provenance": [],
      "authorship_tag": "ABX9TyOYmy5TlipEIXqrERSuorfs",
      "include_colab_link": true
    },
    "kernelspec": {
      "name": "python3",
      "display_name": "Python 3"
    },
    "language_info": {
      "name": "python"
    }
  },
  "cells": [
    {
      "cell_type": "markdown",
      "metadata": {
        "id": "view-in-github",
        "colab_type": "text"
      },
      "source": [
        "<a href=\"https://colab.research.google.com/github/plthiyagu/AI-Engineering/blob/master/15-LeetCode/48%20Rotate_Image_LeetCode.ipynb\" target=\"_parent\"><img src=\"https://colab.research.google.com/assets/colab-badge.svg\" alt=\"Open In Colab\"/></a>"
      ]
    },
    {
      "cell_type": "code",
      "metadata": {
        "id": "ULaracMaIua7"
      },
      "source": [
        "def rotate( matrix):\n",
        "    \"\"\"\n",
        "    :type matrix: List[List[int]]\n",
        "    :rtype: None Do not return anything, modify matrix in-place instead.\n",
        "    \n",
        "    Do not return anything, modify matrix in-place instead. \"\"\"\n",
        "    matrix.reverse()\n",
        "    for i in range(len(matrix)):\n",
        "        for j in range(i):\n",
        "            matrix[i][j], matrix[j][i] = matrix[j][i], matrix[i][j]"
      ],
      "execution_count": 1,
      "outputs": []
    },
    {
      "cell_type": "code",
      "metadata": {
        "id": "JClDKVHKI4O7"
      },
      "source": [
        "matrix = [[5,1,9,11],[2,4,8,10],[13,3,6,7],[15,14,12,16]]\n",
        "rotate( matrix)"
      ],
      "execution_count": 2,
      "outputs": []
    },
    {
      "cell_type": "code",
      "metadata": {
        "id": "DXt37uJVJB7Y"
      },
      "source": [
        ""
      ],
      "execution_count": null,
      "outputs": []
    }
  ]
}