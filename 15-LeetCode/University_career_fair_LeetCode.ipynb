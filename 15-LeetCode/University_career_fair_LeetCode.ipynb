{
  "nbformat": 4,
  "nbformat_minor": 0,
  "metadata": {
    "colab": {
      "name": "University career fair LeetCode.ipynb",
      "provenance": [],
      "collapsed_sections": [],
      "authorship_tag": "ABX9TyOZ35NPHLxPs0GsL6wRurUA",
      "include_colab_link": true
    },
    "kernelspec": {
      "name": "python3",
      "display_name": "Python 3"
    },
    "language_info": {
      "name": "python"
    }
  },
  "cells": [
    {
      "cell_type": "markdown",
      "metadata": {
        "id": "view-in-github",
        "colab_type": "text"
      },
      "source": [
        "<a href=\"https://colab.research.google.com/github/plthiyagu/AI-Engineering/blob/master/15-LeetCode/University_career_fair_LeetCode.ipynb\" target=\"_parent\"><img src=\"https://colab.research.google.com/assets/colab-badge.svg\" alt=\"Open In Colab\"/></a>"
      ]
    },
    {
      "cell_type": "code",
      "metadata": {
        "colab": {
          "base_uri": "https://localhost:8080/"
        },
        "id": "iH04nULJ3Enj",
        "outputId": "eb7d68d3-62ac-46b5-e2e2-15b24a48a174"
      },
      "source": [
        "def universityCareerFair(arrival, duration):\n",
        "    aux = sorted(\n",
        "        list(zip(arrival, duration)),\n",
        "        key=lambda p: (sum(p), p[1])\n",
        "    )\n",
        "    ans, end = 0, -float('inf')\n",
        "    for arr, dur in aux:\n",
        "        if arr >= end:\n",
        "            ans, end = ans + 1, arr + dur\n",
        "    return ans\n",
        "    \n",
        "\n",
        "print(universityCareerFair([1, 3, 3, 5, 7], [2, 2, 1, 2, 1])) # 4\n",
        "print(universityCareerFair([1, 2], [7, 3])) # 1"
      ],
      "execution_count": null,
      "outputs": [
        {
          "output_type": "stream",
          "name": "stdout",
          "text": [
            "4\n",
            "1\n"
          ]
        }
      ]
    },
    {
      "cell_type": "code",
      "metadata": {
        "id": "edv6l2D03Fnu"
      },
      "source": [
        "def careerFair(arrival, duration):\n",
        "    interval = [[arrival[i], arrival[i] + duration[i]] for i in range(len(arrival))]\n",
        "    interval.sort(key = lambda x : (x[0], x[1]))\n",
        "    not_working = []\n",
        "    prev = interval[0][1]\n",
        "    for i in range(1, len(interval)):\n",
        "        if interval[i][0] < prev:\n",
        "            not_working.append(1)\n",
        "        else:\n",
        "            prev = interval[i][1]\n",
        "    return len(arrival) - len(not_working)\n",
        "\n",
        "print(careerFair([1, 3, 3, 5, 7], [2, 2, 1, 2, 1])) #4\n",
        "print(careerFair([1, 2], [7, 3])) #1\n",
        "print(careerFair([1, 3, 4, 6], [4, 3, 3, 2])) #2"
      ],
      "execution_count": null,
      "outputs": []
    }
  ]
}