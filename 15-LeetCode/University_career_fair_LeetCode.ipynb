{
  "nbformat": 4,
  "nbformat_minor": 0,
  "metadata": {
    "colab": {
      "name": "University career fair LeetCode.ipynb",
      "provenance": [],
      "authorship_tag": "ABX9TyPYM98G8yCxKAfcpAGb++Av",
      "include_colab_link": true
    },
    "kernelspec": {
      "name": "python3",
      "display_name": "Python 3"
    },
    "language_info": {
      "name": "python"
    }
  },
  "cells": [
    {
      "cell_type": "markdown",
      "metadata": {
        "id": "view-in-github",
        "colab_type": "text"
      },
      "source": [
        "<a href=\"https://colab.research.google.com/github/plthiyagu/AI-Engineering/blob/master/15-LeetCode/University_career_fair_LeetCode.ipynb\" target=\"_parent\"><img src=\"https://colab.research.google.com/assets/colab-badge.svg\" alt=\"Open In Colab\"/></a>"
      ]
    },
    {
      "cell_type": "code",
      "metadata": {
        "colab": {
          "base_uri": "https://localhost:8080/"
        },
        "id": "iH04nULJ3Enj",
        "outputId": "eb7d68d3-62ac-46b5-e2e2-15b24a48a174"
      },
      "source": [
        "def universityCareerFair(arrival, duration):\n",
        "    aux = sorted(\n",
        "        list(zip(arrival, duration)),\n",
        "        key=lambda p: (sum(p), p[1])\n",
        "    )\n",
        "    ans, end = 0, -float('inf')\n",
        "    for arr, dur in aux:\n",
        "        if arr >= end:\n",
        "            ans, end = ans + 1, arr + dur\n",
        "    return ans\n",
        "    \n",
        "\n",
        "print(universityCareerFair([1, 3, 3, 5, 7], [2, 2, 1, 2, 1])) # 4\n",
        "print(universityCareerFair([1, 2], [7, 3])) # 1"
      ],
      "execution_count": 1,
      "outputs": [
        {
          "output_type": "stream",
          "name": "stdout",
          "text": [
            "4\n",
            "1\n"
          ]
        }
      ]
    },
    {
      "cell_type": "code",
      "metadata": {
        "id": "edv6l2D03Fnu"
      },
      "source": [
        ""
      ],
      "execution_count": null,
      "outputs": []
    }
  ]
}