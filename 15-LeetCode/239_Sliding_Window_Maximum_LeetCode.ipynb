{
  "nbformat": 4,
  "nbformat_minor": 0,
  "metadata": {
    "colab": {
      "name": "239 Sliding Window Maximum LeetCode.ipynb",
      "provenance": [],
      "collapsed_sections": [],
      "authorship_tag": "ABX9TyOJtS9YXblUZK9DYOXBsWyZ",
      "include_colab_link": true
    },
    "kernelspec": {
      "name": "python3",
      "display_name": "Python 3"
    },
    "language_info": {
      "name": "python"
    }
  },
  "cells": [
    {
      "cell_type": "markdown",
      "metadata": {
        "id": "view-in-github",
        "colab_type": "text"
      },
      "source": [
        "<a href=\"https://colab.research.google.com/github/plthiyagu/AI-Engineering/blob/master/15-LeetCode/239_Sliding_Window_Maximum_LeetCode.ipynb\" target=\"_parent\"><img src=\"https://colab.research.google.com/assets/colab-badge.svg\" alt=\"Open In Colab\"/></a>"
      ]
    },
    {
      "cell_type": "code",
      "metadata": {
        "id": "_kvMk_Xft66p"
      },
      "source": [
        "from typing import List\n",
        "from collections import deque\n",
        "def maxSlidingWindow( nums: List[int], k: int) -> List[int]:\n",
        "    que = deque()\n",
        "    res =[]\n",
        "    for i,num in enumerate (nums):\n",
        "        if que and i -que[0][0] >=k:\n",
        "            que.popleft()\n",
        "        while que and que[-1][1] <=num:\n",
        "            que.pop()\n",
        "        que.append([i,num])\n",
        "        if i >=k-1:\n",
        "            res.append(que[0][1])\n",
        "    return res"
      ],
      "execution_count": 4,
      "outputs": []
    },
    {
      "cell_type": "code",
      "metadata": {
        "colab": {
          "base_uri": "https://localhost:8080/"
        },
        "id": "gBHAWByGt_wA",
        "outputId": "ab22d0cd-c3d7-459d-e516-cea8a6cdb4a0"
      },
      "source": [
        "nums = [1,3,-1,-3,5,3,6,7]\n",
        "k = 3\n",
        "maxSlidingWindow(nums,k)"
      ],
      "execution_count": 5,
      "outputs": [
        {
          "output_type": "execute_result",
          "data": {
            "text/plain": [
              "[3, 3, 5, 5, 6, 7]"
            ]
          },
          "metadata": {},
          "execution_count": 5
        }
      ]
    },
    {
      "cell_type": "code",
      "metadata": {
        "id": "f3QIIqdYuPRp"
      },
      "source": [
        ""
      ],
      "execution_count": null,
      "outputs": []
    }
  ]
}