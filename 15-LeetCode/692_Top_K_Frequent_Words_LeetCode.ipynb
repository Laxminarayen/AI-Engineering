{
  "nbformat": 4,
  "nbformat_minor": 0,
  "metadata": {
    "colab": {
      "name": "692 Top K Frequent Words LeetCode.ipynb",
      "provenance": [],
      "collapsed_sections": [],
      "authorship_tag": "ABX9TyNQfZV+sxe9CNz28xycg20K",
      "include_colab_link": true
    },
    "kernelspec": {
      "name": "python3",
      "display_name": "Python 3"
    },
    "language_info": {
      "name": "python"
    }
  },
  "cells": [
    {
      "cell_type": "markdown",
      "metadata": {
        "id": "view-in-github",
        "colab_type": "text"
      },
      "source": [
        "<a href=\"https://colab.research.google.com/github/plthiyagu/AI-Engineering/blob/master/15-LeetCode/692_Top_K_Frequent_Words_LeetCode.ipynb\" target=\"_parent\"><img src=\"https://colab.research.google.com/assets/colab-badge.svg\" alt=\"Open In Colab\"/></a>"
      ]
    },
    {
      "cell_type": "code",
      "metadata": {
        "id": "sZLyYeoUIdVn"
      },
      "source": [
        "from typing import  List\n",
        "import heapq"
      ],
      "execution_count": 7,
      "outputs": []
    },
    {
      "cell_type": "code",
      "metadata": {
        "id": "6vpRIYmoIK0J"
      },
      "source": [
        "def topKFrequent( words: List[str], k: int) -> List[str]:\n",
        "    results = []\n",
        "    \n",
        "    count = {}\n",
        "    for word in words:\n",
        "        count[word] = count.get(word, 0) + 1\n",
        "    \n",
        "\n",
        "    heap = []\n",
        "    for key, value in count.items():\n",
        "        heapq.heappush(heap, (-value, key))        \n",
        "\n",
        "    for i in range(k):\n",
        "        results.append(heapq.heappop(heap)[1])\n",
        "    \n",
        "    \n",
        "    return results   "
      ],
      "execution_count": 8,
      "outputs": []
    },
    {
      "cell_type": "code",
      "metadata": {
        "colab": {
          "base_uri": "https://localhost:8080/"
        },
        "id": "H17KOFBvIiQ1",
        "outputId": "aeb0954c-059b-41aa-f330-32ec2db8877f"
      },
      "source": [
        "words = [\"i\",\"love\",\"leetcode\",\"i\",\"love\",\"coding\"]\n",
        "k = 2\n",
        "topKFrequent(words, k)\n"
      ],
      "execution_count": 9,
      "outputs": [
        {
          "output_type": "execute_result",
          "data": {
            "text/plain": [
              "['i', 'love']"
            ]
          },
          "metadata": {},
          "execution_count": 9
        }
      ]
    },
    {
      "cell_type": "code",
      "metadata": {
        "id": "I1BqvxWoI0XT"
      },
      "source": [
        ""
      ],
      "execution_count": null,
      "outputs": []
    },
    {
      "cell_type": "code",
      "metadata": {
        "id": "gUWL4-9XIPik"
      },
      "source": [
        ""
      ],
      "execution_count": null,
      "outputs": []
    }
  ]
}