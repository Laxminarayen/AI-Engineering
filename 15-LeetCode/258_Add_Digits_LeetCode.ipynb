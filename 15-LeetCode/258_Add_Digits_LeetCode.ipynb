{
  "nbformat": 4,
  "nbformat_minor": 0,
  "metadata": {
    "colab": {
      "name": "258  Add Digits LeetCode.ipynb",
      "provenance": [],
      "authorship_tag": "ABX9TyP1qaFyEetyd2Kj6nPJ5oVz",
      "include_colab_link": true
    },
    "kernelspec": {
      "name": "python3",
      "display_name": "Python 3"
    },
    "language_info": {
      "name": "python"
    }
  },
  "cells": [
    {
      "cell_type": "markdown",
      "metadata": {
        "id": "view-in-github",
        "colab_type": "text"
      },
      "source": [
        "<a href=\"https://colab.research.google.com/github/plthiyagu/AI-Engineering/blob/master/15-LeetCode/258_Add_Digits_LeetCode.ipynb\" target=\"_parent\"><img src=\"https://colab.research.google.com/assets/colab-badge.svg\" alt=\"Open In Colab\"/></a>"
      ]
    },
    {
      "cell_type": "code",
      "metadata": {
        "id": "oHkIvWOmckiY"
      },
      "source": [
        "def addDigits( num: int) -> int:\n",
        "    return (num - 1) % 9 + 1 if num else 0\n",
        "    "
      ],
      "execution_count": 1,
      "outputs": []
    },
    {
      "cell_type": "code",
      "metadata": {
        "colab": {
          "base_uri": "https://localhost:8080/"
        },
        "id": "MQb5IsfecolX",
        "outputId": "3b34dd9c-272a-4a45-8dba-8eb1fad2cefa"
      },
      "source": [
        "num=38\n",
        "addDigits(num)"
      ],
      "execution_count": 2,
      "outputs": [
        {
          "output_type": "execute_result",
          "data": {
            "text/plain": [
              "2"
            ]
          },
          "metadata": {},
          "execution_count": 2
        }
      ]
    },
    {
      "cell_type": "code",
      "metadata": {
        "id": "szG8pzwUctbH"
      },
      "source": [
        "def addDigits(num: int) -> int:\n",
        "    if num <= 9:\n",
        "        return num\n",
        "    tmp = 0\n",
        "    while num > 0:\n",
        "        tmp += num % 10\n",
        "        num //= 10\n",
        "    return addDigits(tmp)"
      ],
      "execution_count": 5,
      "outputs": []
    },
    {
      "cell_type": "code",
      "metadata": {
        "colab": {
          "base_uri": "https://localhost:8080/"
        },
        "id": "NFYsgC7bc2t3",
        "outputId": "d7185a4b-12f3-411f-84c9-9d19d30cc0ae"
      },
      "source": [
        "num=38\n",
        "addDigits(num)"
      ],
      "execution_count": 6,
      "outputs": [
        {
          "output_type": "execute_result",
          "data": {
            "text/plain": [
              "2"
            ]
          },
          "metadata": {},
          "execution_count": 6
        }
      ]
    },
    {
      "cell_type": "code",
      "metadata": {
        "id": "AmuboqjOc5ht"
      },
      "source": [
        ""
      ],
      "execution_count": null,
      "outputs": []
    }
  ]
}