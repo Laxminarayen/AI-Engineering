{
  "nbformat": 4,
  "nbformat_minor": 0,
  "metadata": {
    "colab": {
      "name": "A very big sum- HackerRank.ipynb",
      "provenance": [],
      "authorship_tag": "ABX9TyNEin2ReUtvyRVjcZTwhsQd",
      "include_colab_link": true
    },
    "kernelspec": {
      "name": "python3",
      "display_name": "Python 3"
    }
  },
  "cells": [
    {
      "cell_type": "markdown",
      "metadata": {
        "id": "view-in-github",
        "colab_type": "text"
      },
      "source": [
        "<a href=\"https://colab.research.google.com/github/plthiyagu/Personnel/blob/master/A_very_big_sum_HackerRank.ipynb\" target=\"_parent\"><img src=\"https://colab.research.google.com/assets/colab-badge.svg\" alt=\"Open In Colab\"/></a>"
      ]
    },
    {
      "cell_type": "code",
      "metadata": {
        "id": "AT-HI3afrtEC"
      },
      "source": [
        "import math\n",
        "import os\n",
        "import random\n",
        "import re\n",
        "import sys"
      ],
      "execution_count": 1,
      "outputs": []
    },
    {
      "cell_type": "code",
      "metadata": {
        "id": "EfCc5ZbovPXE"
      },
      "source": [
        "# Complete the aVeryBigSum function below.\n",
        "def aVeryBigSum(ar):\n",
        "  sum= 0\n",
        "  for i in range(len(ar)):\n",
        "    sum+=ar[i]\n",
        "  return sum"
      ],
      "execution_count": 8,
      "outputs": []
    },
    {
      "cell_type": "code",
      "metadata": {
        "id": "Xwds7zcsv_im"
      },
      "source": [
        "ar_count = int(input())\n",
        "ar = list(map(int, input().rstrip().split()))\n",
        "with open('test.txt','w') as fptr:\n",
        "  result = aVeryBigSum(ar)\n",
        "  fptr.write(str(result) + '\\n')"
      ],
      "execution_count": null,
      "outputs": []
    },
    {
      "cell_type": "code",
      "metadata": {
        "id": "sdN64OUH3E-r"
      },
      "source": [
        ""
      ],
      "execution_count": null,
      "outputs": []
    },
    {
      "cell_type": "code",
      "metadata": {
        "id": "UboRtezK23em"
      },
      "source": [
        ""
      ],
      "execution_count": null,
      "outputs": []
    },
    {
      "cell_type": "code",
      "metadata": {
        "id": "DFZ09uSa2mTB"
      },
      "source": [
        ""
      ],
      "execution_count": null,
      "outputs": []
    }
  ]
}