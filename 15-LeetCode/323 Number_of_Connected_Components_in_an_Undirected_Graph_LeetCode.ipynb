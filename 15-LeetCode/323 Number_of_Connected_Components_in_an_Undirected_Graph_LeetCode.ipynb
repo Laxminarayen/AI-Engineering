{
  "nbformat": 4,
  "nbformat_minor": 0,
  "metadata": {
    "colab": {
      "name": "323 Number of Connected Components in an Undirected Graph LeetCode.ipynb",
      "provenance": [],
      "authorship_tag": "ABX9TyPLDwdFw2vFrO4c/SEHdcI6",
      "include_colab_link": true
    },
    "kernelspec": {
      "name": "python3",
      "display_name": "Python 3"
    },
    "language_info": {
      "name": "python"
    }
  },
  "cells": [
    {
      "cell_type": "markdown",
      "metadata": {
        "id": "view-in-github",
        "colab_type": "text"
      },
      "source": [
        "<a href=\"https://colab.research.google.com/github/plthiyagu/AI-Engineering/blob/master/15-LeetCode/323%20Number_of_Connected_Components_in_an_Undirected_Graph_LeetCode.ipynb\" target=\"_parent\"><img src=\"https://colab.research.google.com/assets/colab-badge.svg\" alt=\"Open In Colab\"/></a>"
      ]
    },
    {
      "cell_type": "code",
      "metadata": {
        "id": "NSNLfGxRjJvA"
      },
      "source": [
        "def countComponents(n, edges):\n",
        "        \n",
        "        count = 0\n",
        "        \n",
        "        visited = set()\n",
        "\n",
        "        adjacency_list = []\n",
        "        \n",
        "        for i in range(n):\n",
        "            adjacency_list.append([])\n",
        "            \n",
        "        for edge in edges:\n",
        "            adjacency_list[edge[0]].append(edge[1])\n",
        "            adjacency_list[edge[1]].append(edge[0])\n",
        "            \n",
        "        \n",
        "        for vertice in range(n):            \n",
        "            if vertice not in visited:\n",
        "                self.dfs(vertice, adjacency_list, visited)\n",
        "                count += 1\n",
        "        \n",
        "        return count\n",
        "    \n",
        "    \n",
        "def dfs(self, vertice, adjacency_list, visited):        \n",
        "    visited.add(vertice)\n",
        "    \n",
        "    for adj_vertice in adjacency_list[vertice]:\n",
        "        if adj_vertice not in visited:\n",
        "            self.dfs(adj_vertice, adjacency_list, visited)   "
      ],
      "execution_count": 2,
      "outputs": []
    },
    {
      "cell_type": "code",
      "metadata": {
        "id": "csoWl3vOjPof"
      },
      "source": [
        ""
      ],
      "execution_count": null,
      "outputs": []
    }
  ]
}