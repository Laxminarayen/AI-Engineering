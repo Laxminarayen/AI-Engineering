{
  "nbformat": 4,
  "nbformat_minor": 0,
  "metadata": {
    "colab": {
      "name": "451 Sort Characters By Frequency LeetCode.ipynb",
      "provenance": [],
      "authorship_tag": "ABX9TyO2m021bxCVuZaz94XHoO7e",
      "include_colab_link": true
    },
    "kernelspec": {
      "name": "python3",
      "display_name": "Python 3"
    },
    "language_info": {
      "name": "python"
    }
  },
  "cells": [
    {
      "cell_type": "markdown",
      "metadata": {
        "id": "view-in-github",
        "colab_type": "text"
      },
      "source": [
        "<a href=\"https://colab.research.google.com/github/plthiyagu/AI-Engineering/blob/master/15-LeetCode/451_Sort_Characters_By_Frequency_LeetCode.ipynb\" target=\"_parent\"><img src=\"https://colab.research.google.com/assets/colab-badge.svg\" alt=\"Open In Colab\"/></a>"
      ]
    },
    {
      "cell_type": "code",
      "metadata": {
        "id": "JU3Y0EBJq_mx"
      },
      "source": [
        "import typing from str"
      ],
      "execution_count": null,
      "outputs": []
    },
    {
      "cell_type": "code",
      "metadata": {
        "id": "TsxyJqHmqz8o"
      },
      "source": [
        "def frequencySort(s: str) -> str:\n",
        "    cnt = {}\n",
        "    \n",
        "    for c in s:\n",
        "        cnt[c] = cnt[c] + 1 if c in cnt else 1\n",
        "    sorted_list = sorted(cnt.items(), key=lambda char_cnt: -char_cnt[1])\n",
        "    \n",
        "    return \"\".join([char_cnt[0] * char_cnt[1] for char_cnt in sorted_list])\n",
        "    "
      ],
      "execution_count": 1,
      "outputs": []
    },
    {
      "cell_type": "code",
      "metadata": {
        "colab": {
          "base_uri": "https://localhost:8080/",
          "height": 35
        },
        "id": "pZuzhqW6q-X8",
        "outputId": "738079dd-83b9-45d2-9976-2fc5d8f6a1c3"
      },
      "source": [
        "s = \"tree\"\n",
        "frequencySort(s)"
      ],
      "execution_count": 2,
      "outputs": [
        {
          "output_type": "execute_result",
          "data": {
            "application/vnd.google.colaboratory.intrinsic+json": {
              "type": "string"
            },
            "text/plain": [
              "'eetr'"
            ]
          },
          "metadata": {},
          "execution_count": 2
        }
      ]
    },
    {
      "cell_type": "code",
      "metadata": {
        "id": "ZMdVM6KbrMhl"
      },
      "source": [
        ""
      ],
      "execution_count": null,
      "outputs": []
    }
  ]
}