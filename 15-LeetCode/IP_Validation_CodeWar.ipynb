{
  "nbformat": 4,
  "nbformat_minor": 0,
  "metadata": {
    "colab": {
      "name": "IP Validation CodeWar.ipynb",
      "provenance": [],
      "authorship_tag": "ABX9TyPHTtMrSB1C2Na2vJTDS/9Q",
      "include_colab_link": true
    },
    "kernelspec": {
      "name": "python3",
      "display_name": "Python 3"
    },
    "language_info": {
      "name": "python"
    }
  },
  "cells": [
    {
      "cell_type": "markdown",
      "metadata": {
        "id": "view-in-github",
        "colab_type": "text"
      },
      "source": [
        "<a href=\"https://colab.research.google.com/github/plthiyagu/AI-Engineering/blob/master/22-LeetCode/IP_Validation_CodeWar.ipynb\" target=\"_parent\"><img src=\"https://colab.research.google.com/assets/colab-badge.svg\" alt=\"Open In Colab\"/></a>"
      ]
    },
    {
      "cell_type": "code",
      "metadata": {
        "id": "YJ51f38qOPcY"
      },
      "source": [
        "def is_valid_IP(strng):\n",
        "  lst = strng.split('.')\n",
        "  passed = 0\n",
        "  for sect in lst:\n",
        "    if sect.isdigit():\n",
        "      if sect[0] != '0':\n",
        "        if 0 < int(sect) <= 255:\n",
        "          passed += 1\n",
        "  return passed == 4"
      ],
      "execution_count": 3,
      "outputs": []
    },
    {
      "cell_type": "code",
      "metadata": {
        "colab": {
          "base_uri": "https://localhost:8080/"
        },
        "id": "oPnMneLtOQgb",
        "outputId": "7016489f-dbb2-4e63-bccd-9ba0e8520814"
      },
      "source": [
        "strng=\"123.45.67.89\"\n",
        "is_valid_IP(strng)"
      ],
      "execution_count": 5,
      "outputs": [
        {
          "output_type": "execute_result",
          "data": {
            "text/plain": [
              "True"
            ]
          },
          "metadata": {
            "tags": []
          },
          "execution_count": 5
        }
      ]
    },
    {
      "cell_type": "code",
      "metadata": {
        "id": "uxW3SjV5MaFj"
      },
      "source": [
        "def is_valid_IP(strng):\n",
        "    octets = strng.split('.')\n",
        "    if len(octets) != 4: return False\n",
        "    for octet in octets:\n",
        "        if not is_valid_octet(octet):\n",
        "            return False\n",
        "    return True\n",
        "\n",
        "def is_valid_octet(octet):\n",
        "    if not octet.isdigit():\n",
        "        return False\n",
        "    if len(octet) > 1 and octet[0] == '0':\n",
        "        return False\n",
        "    octet = int(octet)\n",
        "    if octet >= 0 and octet <= 255:\n",
        "        return True\n",
        "    else:\n",
        "        return False"
      ],
      "execution_count": 1,
      "outputs": []
    },
    {
      "cell_type": "code",
      "metadata": {
        "id": "AyhiIGopNyzX"
      },
      "source": [
        ""
      ],
      "execution_count": null,
      "outputs": []
    },
    {
      "cell_type": "code",
      "metadata": {
        "id": "PGJrcYnUMdMO"
      },
      "source": [
        "import re\n",
        "def is_valid_IP(strng):\n",
        "    return bool(re.match(r'^((\\d{1,2}|1\\d{2}|2[0-4]\\d|25[0-5])(\\.(?!$)|$)){4}(?=$)',strng))"
      ],
      "execution_count": 2,
      "outputs": []
    },
    {
      "cell_type": "code",
      "metadata": {
        "id": "5dJc-00DNzzS"
      },
      "source": [
        ""
      ],
      "execution_count": null,
      "outputs": []
    }
  ]
}