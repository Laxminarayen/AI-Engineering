{
  "nbformat": 4,
  "nbformat_minor": 0,
  "metadata": {
    "colab": {
      "name": "Copy of 297. Serialize and Deserialize Binary Tree.ipynb",
      "provenance": [],
      "authorship_tag": "ABX9TyNj4AzzLejPdcvTnNf1x5yU",
      "include_colab_link": true
    },
    "kernelspec": {
      "name": "python3",
      "display_name": "Python 3"
    },
    "language_info": {
      "name": "python"
    }
  },
  "cells": [
    {
      "cell_type": "markdown",
      "metadata": {
        "id": "view-in-github",
        "colab_type": "text"
      },
      "source": [
        "<a href=\"https://colab.research.google.com/github/plthiyagu/AI-Engineering/blob/master/15-LeetCode/297%20Serialize_and_Deserialize_Binary_Tree%20LeetCode.ipynb\" target=\"_parent\"><img src=\"https://colab.research.google.com/assets/colab-badge.svg\" alt=\"Open In Colab\"/></a>"
      ]
    },
    {
      "cell_type": "code",
      "metadata": {
        "id": "DVx_0mM5lCKF"
      },
      "source": [
        "# Definition for a binary tree node.\n",
        "# class TreeNode(object):\n",
        "#     def __init__(self, x):\n",
        "#         self.val = x\n",
        "#         self.left = None\n",
        "#         self.right = None\n",
        "\n",
        "class Codec:\n",
        "\n",
        "    def serialize(self, root):\n",
        "        \"\"\"Encodes a tree to a single string.\n",
        "        \n",
        "        :type root: TreeNode\n",
        "        :rtype: str\n",
        "        \"\"\"\n",
        "        if root == None:\n",
        "            return 'null,'\n",
        "        left_serialize = self.serialize(root.left)\n",
        "        right_serialize = self.serialize(root.right)\n",
        "        return str(root.val) + ',' + left_serialize + right_serialize\n",
        "\n",
        "        \n",
        "\n",
        "    def deserialize(self, data):\n",
        "        \"\"\"Decodes your encoded data to tree.\n",
        "        \n",
        "        :type data: str\n",
        "        :rtype: TreeNode\n",
        "        \"\"\"\n",
        "        \n",
        "        def dfs(queue):\n",
        "            val = queue.popleft()\n",
        "            if val == 'null':\n",
        "                return None\n",
        "            node =  TreeNode(val)\n",
        "            node.left = dfs(queue)\n",
        "            node.right = dfs(queue)\n",
        "            return node\n",
        "        \n",
        "        from collections import deque\n",
        "\n",
        "        queue = deque(data.split(','))\n",
        "\n",
        "        return dfs(queue)\n",
        "\n",
        "        \n",
        "\n",
        "# Your Codec object will be instantiated and called as such:\n",
        "# ser = Codec()\n",
        "# deser = Codec()\n",
        "# ans = deser.deserialize(ser.serialize(root))"
      ],
      "execution_count": null,
      "outputs": []
    },
    {
      "cell_type": "code",
      "metadata": {
        "id": "9TIzWh-XlhJ2"
      },
      "source": [
        "root = [1,2,3,None,None,4,5]"
      ],
      "execution_count": null,
      "outputs": []
    },
    {
      "cell_type": "code",
      "metadata": {
        "id": "Mevf2cDglupW"
      },
      "source": [
        ""
      ],
      "execution_count": null,
      "outputs": []
    }
  ]
}