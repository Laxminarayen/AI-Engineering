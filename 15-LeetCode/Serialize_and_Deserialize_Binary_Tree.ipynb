{
  "nbformat": 4,
  "nbformat_minor": 0,
  "metadata": {
    "colab": {
      "name": "Serialize and Deserialize Binary Tree.ipynb",
      "provenance": [],
      "collapsed_sections": [],
      "authorship_tag": "ABX9TyMrpwpGi2knLDnjPw4A0Lfm",
      "include_colab_link": true
    },
    "kernelspec": {
      "name": "python3",
      "display_name": "Python 3"
    }
  },
  "cells": [
    {
      "cell_type": "markdown",
      "metadata": {
        "id": "view-in-github",
        "colab_type": "text"
      },
      "source": [
        "<a href=\"https://colab.research.google.com/github/plthiyagu/Personnel/blob/master/Serialize_and_Deserialize_Binary_Tree.ipynb\" target=\"_parent\"><img src=\"https://colab.research.google.com/assets/colab-badge.svg\" alt=\"Open In Colab\"/></a>"
      ]
    },
    {
      "cell_type": "code",
      "metadata": {
        "id": "BzjbGsR87F1f",
        "colab_type": "code",
        "colab": {}
      },
      "source": [
        "import collections\n",
        "class TreeNode(object):\n",
        "  def __init__(self, x):\n",
        "    self.val = x\n",
        "    self.left = None\n",
        "    self.right = None"
      ],
      "execution_count": 0,
      "outputs": []
    },
    {
      "cell_type": "code",
      "metadata": {
        "id": "G9TZrYUvEaFC",
        "colab_type": "code",
        "colab": {}
      },
      "source": [
        "a = TreeNode(1)\n",
        "b = TreeNode(2)\n",
        "c = TreeNode(3)\n",
        "d = TreeNode(4)\n",
        "e = TreeNode(5)\n",
        "\n",
        "a.left = b\n",
        "a.right = c\n",
        "c.left = d\n",
        "c.right = e"
      ],
      "execution_count": 0,
      "outputs": []
    },
    {
      "cell_type": "code",
      "metadata": {
        "id": "Zqm3ONJB7WWD",
        "colab_type": "code",
        "colab": {}
      },
      "source": [
        "class Codec:\n",
        "  def serialize(self, root):\n",
        "    \"\"\"Encodes a tree to a single string.\n",
        "\n",
        "        :type root: TreeNode\n",
        "        :rtype: str\n",
        "    \"\"\"\n",
        "    def doit(node):\n",
        "      if node:\n",
        "        vals.append(str(node.val))\n",
        "        doit(node.left)\n",
        "        doit(node.right)\n",
        "      else:\n",
        "        vals.append('#')\n",
        "      vals = []\n",
        "      doit(root)\n",
        "      n = len(vals) - 1\n",
        "      while vals[n] == '#':\n",
        "          n -= 1\n",
        "      return ','.join(vals[0:n + 1])\n",
        "  def deserialize(self, data):\n",
        "    \"\"\"Decodes your encoded data to tree.\n",
        "\n",
        "        :type data: str\n",
        "        :rtype: TreeNode\n",
        "    \"\"\"\n",
        "    def doit():\n",
        "      try:\n",
        "        val = next(vals)\n",
        "        if val == '#':\n",
        "          return None\n",
        "        node = TreeNode(int(val))\n",
        "        node.left = doit()\n",
        "        node.right = doit()\n",
        "        return node\n",
        "      except StopIteration:\n",
        "        pass\n",
        "\n",
        "      vals = iter(data.split(','))\n",
        "      return doit()\n",
        "\n"
      ],
      "execution_count": 0,
      "outputs": []
    },
    {
      "cell_type": "code",
      "metadata": {
        "id": "t7bi2gOwDZSe",
        "colab_type": "code",
        "colab": {
          "base_uri": "https://localhost:8080/",
          "height": 68
        },
        "outputId": "1408e468-862f-423c-885e-d0165c5986c8"
      },
      "source": [
        "s = Codec()\n",
        "data = \"1,2,3,#,#,4,5\"\n",
        "root = s.deserialize(data)\n",
        "ret = s.serialize(root)\n",
        "print(data)\n",
        "print(root)\n",
        "print(ret)"
      ],
      "execution_count": 9,
      "outputs": [
        {
          "output_type": "stream",
          "text": [
            "1,2,3,#,#,4,5\n",
            "None\n",
            "None\n"
          ],
          "name": "stdout"
        }
      ]
    },
    {
      "cell_type": "code",
      "metadata": {
        "id": "gOUICEqz8RGe",
        "colab_type": "code",
        "colab": {}
      },
      "source": [
        "class Test(unittest.TestCase):\n",
        "  s = Codec()\n",
        "  def test_case1(self):\n",
        "    data = \"1,2,3,#,#,4,5\"\n",
        "    root = self.s.deserialize(data)\n",
        "    ret = self.s.serialize(root)\n",
        "    print(data,root,ret)\n",
        "    self.assertEquals(ret, data)\n",
        "\n",
        "  def test_case2(self):\n",
        "    data = \"1,2,3,#,#,4\"\n",
        "    root = self.s.deserialize(data)\n",
        "    ret = self.s.serialize(root)\n",
        "    self.assertEquals(ret, data)\n",
        "\n",
        "  def test_case3(self):\n",
        "    data = \"5,2,3,#,#,2,4,3,1\"\n",
        "    ret = self.s.serialize(self.s.deserialize(data))\n",
        "    self.assertEquals(ret, data)\n"
      ],
      "execution_count": 0,
      "outputs": []
    },
    {
      "cell_type": "code",
      "metadata": {
        "id": "5aqUFoO6EvrL",
        "colab_type": "code",
        "colab": {
          "base_uri": "https://localhost:8080/",
          "height": 51
        },
        "outputId": "d9e3ff0e-c006-41d6-c63f-2b18546fc22c"
      },
      "source": [
        "codec = Codec()\n",
        "s = codec.serialize(a)\n",
        "print(s)\n",
        "root = codec.deserialize(s)\n",
        "print(codec.serialize(root))\n"
      ],
      "execution_count": 13,
      "outputs": [
        {
          "output_type": "stream",
          "text": [
            "None\n",
            "None\n"
          ],
          "name": "stdout"
        }
      ]
    }
  ]
}