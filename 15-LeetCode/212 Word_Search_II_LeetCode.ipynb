{
  "nbformat": 4,
  "nbformat_minor": 0,
  "metadata": {
    "colab": {
      "name": "212 Word Search II LeetCode.ipynb",
      "provenance": [],
      "authorship_tag": "ABX9TyMICtLYwUFqIxNX0NKgqNcJ",
      "include_colab_link": true
    },
    "kernelspec": {
      "name": "python3",
      "display_name": "Python 3"
    },
    "language_info": {
      "name": "python"
    }
  },
  "cells": [
    {
      "cell_type": "markdown",
      "metadata": {
        "id": "view-in-github",
        "colab_type": "text"
      },
      "source": [
        "<a href=\"https://colab.research.google.com/github/plthiyagu/AI-Engineering/blob/master/15-LeetCode/212%20Word_Search_II_LeetCode.ipynb\" target=\"_parent\"><img src=\"https://colab.research.google.com/assets/colab-badge.svg\" alt=\"Open In Colab\"/></a>"
      ]
    },
    {
      "cell_type": "code",
      "metadata": {
        "id": "ktT4MJ8j5mJK"
      },
      "source": [
        "class Solution(object):\n",
        "    def findWords(self, board, words):\n",
        "        \"\"\"\n",
        "        :type board: List[List[str]]\n",
        "        :type words: List[str]\n",
        "        :rtype: List[str]\n",
        "        \"\"\"\n",
        "        def dfs(x, y, root):\n",
        "            letter = board[x][y]\n",
        "            cur = root[letter]\n",
        "            word = cur.pop('#', False)\n",
        "            if word:\n",
        "                res.append(word)\n",
        "            board[x][y] = '*'\n",
        "            for dirx, diry in [(0, 1), (0, -1), (1, 0), (-1, 0)]:\n",
        "                curx, cury = x + dirx, y + diry\n",
        "                if 0 <= curx < m and 0 <= cury < n and board[curx][cury] in cur:\n",
        "                    dfs(curx, cury, cur)\n",
        "            board[x][y] = letter\n",
        "            if not cur:\n",
        "                root.pop(letter)\n",
        "                \n",
        "        trie = {}\n",
        "        for word in words:\n",
        "            cur = trie\n",
        "            for letter in word:\n",
        "                cur = cur.setdefault(letter, {})\n",
        "            cur['#'] = word\n",
        "        m, n = len(board), len(board[0])\n",
        "        res = []\n",
        "        for i in range(m):\n",
        "            for j in range(n):\n",
        "                if board[i][j] in trie:\n",
        "                    dfs(i, j, trie)\n",
        "        return res"
      ],
      "execution_count": 2,
      "outputs": []
    },
    {
      "cell_type": "code",
      "metadata": {
        "id": "0ePFyDaR5wuS"
      },
      "source": [
        "Input: board = [[\"o\",\"a\",\"a\",\"n\"],[\"e\",\"t\",\"a\",\"e\"],[\"i\",\"h\",\"k\",\"r\"],[\"i\",\"f\",\"l\",\"v\"]]\n",
        "words = [\"oath\",\"pea\",\"eat\",\"rain\"]"
      ],
      "execution_count": null,
      "outputs": []
    }
  ]
}