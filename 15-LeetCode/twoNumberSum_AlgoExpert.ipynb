{
  "nbformat": 4,
  "nbformat_minor": 0,
  "metadata": {
    "colab": {
      "name": "twoNumberSum AlgoExpert.ipynb",
      "provenance": [],
      "authorship_tag": "ABX9TyNBDEcmkb3d4uxEdU22Ge9T",
      "include_colab_link": true
    },
    "kernelspec": {
      "name": "python3",
      "display_name": "Python 3"
    },
    "language_info": {
      "name": "python"
    }
  },
  "cells": [
    {
      "cell_type": "markdown",
      "metadata": {
        "id": "view-in-github",
        "colab_type": "text"
      },
      "source": [
        "<a href=\"https://colab.research.google.com/github/plthiyagu/AI-Engineering/blob/master/15-LeetCode/twoNumberSum_AlgoExpert.ipynb\" target=\"_parent\"><img src=\"https://colab.research.google.com/assets/colab-badge.svg\" alt=\"Open In Colab\"/></a>"
      ]
    },
    {
      "cell_type": "code",
      "metadata": {
        "id": "hZTbpL46Kg-X"
      },
      "source": [
        "def twoSum(nums, target):\n",
        "    \"\"\"\n",
        "    :type nums: List[int]\n",
        "    :type target: int\n",
        "    :rtype: List[int]\n",
        "    \"\"\"\n",
        "    container ={}\n",
        "    \n",
        "    \n",
        "    for i, num in enumerate ( nums):\n",
        "        if (target - num) in container:\n",
        "            return [container[target-num],num]\n",
        "        container[num] = num\n",
        "    return"
      ],
      "execution_count": 7,
      "outputs": []
    },
    {
      "cell_type": "code",
      "metadata": {
        "colab": {
          "base_uri": "https://localhost:8080/"
        },
        "id": "KT_9IHRdKiR1",
        "outputId": "c53093c9-56b1-461c-87a3-cb72d201b581"
      },
      "source": [
        "nums=[2,7,11,15]\n",
        "target=9\n",
        "twoSum(nums, target)"
      ],
      "execution_count": 8,
      "outputs": [
        {
          "output_type": "execute_result",
          "data": {
            "text/plain": [
              "[2, 7]"
            ]
          },
          "metadata": {},
          "execution_count": 8
        }
      ]
    },
    {
      "cell_type": "code",
      "metadata": {
        "id": "g-jRbp0YKmYv"
      },
      "source": [
        ""
      ],
      "execution_count": null,
      "outputs": []
    }
  ]
}