{
  "nbformat": 4,
  "nbformat_minor": 0,
  "metadata": {
    "colab": {
      "name": "114. Flatten Binary Tree to Linked List.ipynb",
      "provenance": [],
      "authorship_tag": "ABX9TyPRgc8SEw2TGpdJ7CV14eb3",
      "include_colab_link": true
    },
    "kernelspec": {
      "name": "python3",
      "display_name": "Python 3"
    },
    "language_info": {
      "name": "python"
    }
  },
  "cells": [
    {
      "cell_type": "markdown",
      "metadata": {
        "id": "view-in-github",
        "colab_type": "text"
      },
      "source": [
        "<a href=\"https://colab.research.google.com/github/plthiyagu/AI-Engineering/blob/master/15-LeetCode/114_Flatten_Binary_Tree_to_Linked_List.ipynb\" target=\"_parent\"><img src=\"https://colab.research.google.com/assets/colab-badge.svg\" alt=\"Open In Colab\"/></a>"
      ]
    },
    {
      "cell_type": "code",
      "metadata": {
        "id": "4hl_b9wyjxAp"
      },
      "source": [
        "# Definition for a binary tree node.\n",
        "# class TreeNode:\n",
        "#     def __init__(self, val=0, left=None, right=None):\n",
        "#         self.val = val\n",
        "#         self.left = left\n",
        "#         self.right = right\n",
        "class Solution:\n",
        "    def flatten(self, root: Optional[TreeNode]) -> None:\n",
        "        \"\"\"\n",
        "        Do not return anything, modify root in-place instead.\n",
        "        \"\"\"\n",
        "        def dfs(root, tmp):\n",
        "            if root is None:\n",
        "                return\n",
        "            dfs(root.right,tmp)\n",
        "            dfs(root.left,tmp)\n",
        "            root.right = tmp.pop()\n",
        "            root.left = None\n",
        "            tmp.append(root)\n",
        "            return root\n",
        "        return dfs(root, [None])\n",
        "\n",
        "        "
      ],
      "execution_count": null,
      "outputs": []
    },
    {
      "cell_type": "code",
      "metadata": {
        "id": "XQ3rWT_Jjyb-"
      },
      "source": [
        "[1,2,5,3,4,null,6]"
      ],
      "execution_count": null,
      "outputs": []
    }
  ]
}