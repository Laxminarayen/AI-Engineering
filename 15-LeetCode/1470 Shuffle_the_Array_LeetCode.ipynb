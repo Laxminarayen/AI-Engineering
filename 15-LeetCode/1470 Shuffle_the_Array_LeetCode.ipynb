{
  "nbformat": 4,
  "nbformat_minor": 0,
  "metadata": {
    "colab": {
      "name": " Shuffle the Array LeetCode 1470.ipynb",
      "provenance": [],
      "authorship_tag": "ABX9TyNC24MGArhsJ7yUS2tGWWD2",
      "include_colab_link": true
    },
    "kernelspec": {
      "name": "python3",
      "display_name": "Python 3"
    },
    "language_info": {
      "name": "python"
    }
  },
  "cells": [
    {
      "cell_type": "markdown",
      "metadata": {
        "id": "view-in-github",
        "colab_type": "text"
      },
      "source": [
        "<a href=\"https://colab.research.google.com/github/plthiyagu/AI-Engineering/blob/master/22-LeetCode/Shuffle_the_Array_LeetCode_1470.ipynb\" target=\"_parent\"><img src=\"https://colab.research.google.com/assets/colab-badge.svg\" alt=\"Open In Colab\"/></a>"
      ]
    },
    {
      "cell_type": "code",
      "metadata": {
        "id": "yNClock5fcvZ"
      },
      "source": [
        "def shuffle( nums, n):\n",
        "    \"\"\"\n",
        "    :type nums: List[int]\n",
        "    :type n: int\n",
        "    :rtype: List[int]\n",
        "    \"\"\"\n",
        "    \n",
        "    \n",
        "    result=[]\n",
        "    for i in range(n):\n",
        "        result+=[nums[i]]+[nums[i+n]]\n",
        "    return result"
      ],
      "execution_count": 2,
      "outputs": []
    },
    {
      "cell_type": "code",
      "metadata": {
        "id": "Qaj7nMVs3_DS"
      },
      "source": [
        "nums =[2,5,1,3,4,7]\n",
        "n=3\n"
      ],
      "execution_count": 3,
      "outputs": []
    },
    {
      "cell_type": "code",
      "metadata": {
        "colab": {
          "base_uri": "https://localhost:8080/"
        },
        "id": "hmdmmb8O4ECD",
        "outputId": "2557f5f1-6bc1-4842-9948-cac6c80ba51e"
      },
      "source": [
        "shuffle( nums, n)"
      ],
      "execution_count": 4,
      "outputs": [
        {
          "output_type": "execute_result",
          "data": {
            "text/plain": [
              "[2, 3, 5, 4, 1, 7]"
            ]
          },
          "metadata": {
            "tags": []
          },
          "execution_count": 4
        }
      ]
    },
    {
      "cell_type": "code",
      "metadata": {
        "id": "F0HdBU6R4Gt8"
      },
      "source": [
        ""
      ],
      "execution_count": null,
      "outputs": []
    },
    {
      "cell_type": "code",
      "metadata": {
        "id": "p7UTh_yz384G"
      },
      "source": [
        ""
      ],
      "execution_count": null,
      "outputs": []
    }
  ]
}