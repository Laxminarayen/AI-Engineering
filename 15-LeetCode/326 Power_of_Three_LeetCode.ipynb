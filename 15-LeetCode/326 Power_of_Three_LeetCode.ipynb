{
  "nbformat": 4,
  "nbformat_minor": 0,
  "metadata": {
    "colab": {
      "name": "326 Power of Three LeetCode.ipynb",
      "provenance": [],
      "authorship_tag": "ABX9TyMXw8ndJm35MRw6YrK5MNhb",
      "include_colab_link": true
    },
    "kernelspec": {
      "name": "python3",
      "display_name": "Python 3"
    },
    "language_info": {
      "name": "python"
    }
  },
  "cells": [
    {
      "cell_type": "markdown",
      "metadata": {
        "id": "view-in-github",
        "colab_type": "text"
      },
      "source": [
        "<a href=\"https://colab.research.google.com/github/plthiyagu/AI-Engineering/blob/master/15-LeetCode/326%20Power_of_Three_LeetCode.ipynb\" target=\"_parent\"><img src=\"https://colab.research.google.com/assets/colab-badge.svg\" alt=\"Open In Colab\"/></a>"
      ]
    },
    {
      "cell_type": "code",
      "metadata": {
        "id": "3dVWZA1W73yw"
      },
      "source": [
        "def isPowerOfThree( n):\n",
        "    \"\"\"\n",
        "    :type n: int\n",
        "    :rtype: bool\n",
        "    \"\"\"\n",
        "    return n > 0 and 3**20 % n == 0"
      ],
      "execution_count": 1,
      "outputs": []
    },
    {
      "cell_type": "code",
      "metadata": {
        "id": "xRyp-tib8EIt"
      },
      "source": [
        "def isPowerOfThree(n):\n",
        "    if n <= 0:\n",
        "        return False\n",
        "    t = math.log(n, 3)\n",
        "    return math.fabs(t - round(t)) < 0.0000000001"
      ],
      "execution_count": 2,
      "outputs": []
    },
    {
      "cell_type": "code",
      "metadata": {
        "id": "PSGKYZYi8hxl"
      },
      "source": [
        "def isPowerOfThree(n):\n",
        "    if n == 0:\n",
        "        return False\n",
        "    while n % 3 == 0:\n",
        "        n /= 3\n",
        "    return n == 1"
      ],
      "execution_count": null,
      "outputs": []
    }
  ]
}