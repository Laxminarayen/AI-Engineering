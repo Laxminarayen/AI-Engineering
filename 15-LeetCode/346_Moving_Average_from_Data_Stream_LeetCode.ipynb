{
  "nbformat": 4,
  "nbformat_minor": 0,
  "metadata": {
    "colab": {
      "name": "346 Moving Average from Data Stream LeetCode.ipynb",
      "provenance": [],
      "collapsed_sections": [],
      "authorship_tag": "ABX9TyPJPEBNV7U7mQ/0JrzzkpUB",
      "include_colab_link": true
    },
    "kernelspec": {
      "name": "python3",
      "display_name": "Python 3"
    },
    "language_info": {
      "name": "python"
    }
  },
  "cells": [
    {
      "cell_type": "markdown",
      "metadata": {
        "id": "view-in-github",
        "colab_type": "text"
      },
      "source": [
        "<a href=\"https://colab.research.google.com/github/plthiyagu/AI-Engineering/blob/master/15-LeetCode/346_Moving_Average_from_Data_Stream_LeetCode.ipynb\" target=\"_parent\"><img src=\"https://colab.research.google.com/assets/colab-badge.svg\" alt=\"Open In Colab\"/></a>"
      ]
    },
    {
      "cell_type": "code",
      "metadata": {
        "id": "qxoTHwPU6gdE"
      },
      "source": [
        "class MovingAverage:\n",
        "    def __init__(self, size):\n",
        "        \"\"\"\n",
        "        Initialize your data structure here.\n",
        "        :type size: int\n",
        "        \"\"\"\n",
        "        self._size = size\n",
        "        self._array = []\n",
        "        self._sum = 0\n",
        "    def next(self, val):\n",
        "        \"\"\"\n",
        "        :type val: int\n",
        "        :rtype: float\n",
        "        \"\"\"\n",
        "        self._sum += val\n",
        "        self._array.append(val)\n",
        "        if len(self._array) > self._size:\n",
        "            self._sum -= self._array.pop(0)\n",
        "        return self._sum / len(self._array)\n",
        "        \n",
        "# Your MovingAverage object will be instantiated and called as such:\n",
        "# obj = MovingAverage(size)\n",
        "# param_1 = obj.next(val)"
      ],
      "execution_count": 2,
      "outputs": []
    },
    {
      "cell_type": "code",
      "metadata": {
        "id": "aTmPQl0Q6kia"
      },
      "source": [
        ""
      ],
      "execution_count": null,
      "outputs": []
    }
  ]
}