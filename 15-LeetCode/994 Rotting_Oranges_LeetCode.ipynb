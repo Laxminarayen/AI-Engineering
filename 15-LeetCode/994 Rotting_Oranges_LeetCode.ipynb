{
  "nbformat": 4,
  "nbformat_minor": 0,
  "metadata": {
    "colab": {
      "name": "Rotting Oranges LeetCode 994.ipynb",
      "provenance": [],
      "authorship_tag": "ABX9TyOhtrk8R+/eQexF6ByHDn6X",
      "include_colab_link": true
    },
    "kernelspec": {
      "name": "python3",
      "display_name": "Python 3"
    },
    "language_info": {
      "name": "python"
    }
  },
  "cells": [
    {
      "cell_type": "markdown",
      "metadata": {
        "id": "view-in-github",
        "colab_type": "text"
      },
      "source": [
        "<a href=\"https://colab.research.google.com/github/plthiyagu/AI-Engineering/blob/master/15-LeetCode/Rotting_Oranges_LeetCode_994.ipynb\" target=\"_parent\"><img src=\"https://colab.research.google.com/assets/colab-badge.svg\" alt=\"Open In Colab\"/></a>"
      ]
    },
    {
      "cell_type": "code",
      "metadata": {
        "id": "DMNLMTskKDee"
      },
      "source": [
        "def orangesRotting( grid):\n",
        "    \"\"\"\n",
        "    :type grid: List[List[int]]\n",
        "    :rtype: int\n",
        "    \"\"\"\n",
        "    n, m = len(grid), len(grid[0])\n",
        "    fresh = 0\n",
        "    q = []\n",
        "\n",
        "    # count fresh oranges and enqueue rotten oranges\n",
        "    for i in range(n):\n",
        "        for j in range(m):\n",
        "            if grid[i][j] == 1:\n",
        "                fresh += 1\n",
        "            elif grid[i][j] == 2:\n",
        "                q.append((i, j))\n",
        "    \n",
        "    if fresh == 0:\n",
        "        return 0\n",
        "    dirs = [(0, 1), (0, -1), (-1, 0), (1, 0)]\n",
        "    minute = 0\n",
        "    \n",
        "    # bfs\n",
        "    while q:\n",
        "        if fresh == 0:\n",
        "            return minute\n",
        "            \n",
        "        size = len(q)\n",
        "        for i in range(size):\n",
        "            x, y = q.pop(0)\n",
        "            for d in dirs:\n",
        "                nx, ny = x + d[0], y + d[1]\n",
        "                if nx < 0 or nx >= n or ny < 0 or ny >= m or grid[nx][ny] != 1:\n",
        "                    continue\n",
        "                grid[nx][ny] = 2\n",
        "                q.append((nx, ny))\n",
        "                fresh -= 1\n",
        "        minute += 1\n",
        "\n",
        "    if fresh != 0:\n",
        "        return -1"
      ],
      "execution_count": 1,
      "outputs": []
    },
    {
      "cell_type": "code",
      "metadata": {
        "colab": {
          "base_uri": "https://localhost:8080/"
        },
        "id": "ErnquOeUKKss",
        "outputId": "a9faf271-6e93-49e5-a337-4d585963854f"
      },
      "source": [
        "grid=[[2,1,1],[1,1,0],[0,1,1]]\n",
        "orangesRotting( grid)"
      ],
      "execution_count": 2,
      "outputs": [
        {
          "output_type": "execute_result",
          "data": {
            "text/plain": [
              "4"
            ]
          },
          "metadata": {
            "tags": []
          },
          "execution_count": 2
        }
      ]
    },
    {
      "cell_type": "code",
      "metadata": {
        "id": "0OB3iN1yKULm"
      },
      "source": [
        ""
      ],
      "execution_count": null,
      "outputs": []
    }
  ]
}