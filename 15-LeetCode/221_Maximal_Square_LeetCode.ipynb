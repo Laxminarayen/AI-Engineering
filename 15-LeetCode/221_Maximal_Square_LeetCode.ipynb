{
  "nbformat": 4,
  "nbformat_minor": 0,
  "metadata": {
    "colab": {
      "name": "221 Maximal Square LeetCode.ipynb",
      "provenance": [],
      "authorship_tag": "ABX9TyOdsUdj9rFusLFDzvuiCNpk",
      "include_colab_link": true
    },
    "kernelspec": {
      "name": "python3",
      "display_name": "Python 3"
    },
    "language_info": {
      "name": "python"
    }
  },
  "cells": [
    {
      "cell_type": "markdown",
      "metadata": {
        "id": "view-in-github",
        "colab_type": "text"
      },
      "source": [
        "<a href=\"https://colab.research.google.com/github/plthiyagu/AI-Engineering/blob/master/15-LeetCode/221_Maximal_Square_LeetCode.ipynb\" target=\"_parent\"><img src=\"https://colab.research.google.com/assets/colab-badge.svg\" alt=\"Open In Colab\"/></a>"
      ]
    },
    {
      "cell_type": "code",
      "metadata": {
        "id": "CD-rPI4bIRB7"
      },
      "source": [
        "from typing import List\n",
        "def maximalSquare( matrix: List[List[str]]) -> int:\n",
        "    if not matrix: return 0\n",
        "    R = len(matrix)\n",
        "    C = len(matrix[0])\n",
        "    dp = [[0]*C for _ in range(R)]\n",
        "    mx_count = 0\n",
        "    for i in range(R):\n",
        "        for j in range(C):\n",
        "            dp[i][j] = int(matrix[i][j])\n",
        "            if dp[i][j]: mx_count = 1\n",
        "    for i in range(1,R):\n",
        "        for j in range(1,C):\n",
        "            if dp[i][j] and dp[i-1][j] and dp[i][j-1] and dp[i-1][j-1]:\n",
        "                dp[i][j] = min(dp[i-1][j-1],dp[i-1][j],dp[i][j-1])+1\n",
        "                mx_count = dp[i][j] if dp[i][j]>mx_count else mx_count\n",
        "    return mx_count**2\n"
      ],
      "execution_count": 1,
      "outputs": []
    },
    {
      "cell_type": "code",
      "metadata": {
        "colab": {
          "base_uri": "https://localhost:8080/"
        },
        "id": "Lfce1Je3IXE0",
        "outputId": "c8ac7229-833f-44c1-fe1b-9b126f2f88b8"
      },
      "source": [
        "matrix = [[\"0\",\"1\"],[\"1\",\"0\"]]\n",
        "maximalSquare(matrix)"
      ],
      "execution_count": 2,
      "outputs": [
        {
          "output_type": "execute_result",
          "data": {
            "text/plain": [
              "1"
            ]
          },
          "metadata": {},
          "execution_count": 2
        }
      ]
    },
    {
      "cell_type": "code",
      "metadata": {
        "id": "32uYxUi1Id4V"
      },
      "source": [
        ""
      ],
      "execution_count": null,
      "outputs": []
    }
  ]
}