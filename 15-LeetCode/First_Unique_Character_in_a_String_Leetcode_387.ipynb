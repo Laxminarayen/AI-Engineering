{
  "nbformat": 4,
  "nbformat_minor": 0,
  "metadata": {
    "colab": {
      "name": " First Unique Character in a String Leetcode 387.ipynb",
      "provenance": [],
      "collapsed_sections": [],
      "authorship_tag": "ABX9TyMkBBKGGIRxkxPJTD363DZo",
      "include_colab_link": true
    },
    "kernelspec": {
      "name": "python3",
      "display_name": "Python 3"
    },
    "language_info": {
      "name": "python"
    }
  },
  "cells": [
    {
      "cell_type": "markdown",
      "metadata": {
        "id": "view-in-github",
        "colab_type": "text"
      },
      "source": [
        "<a href=\"https://colab.research.google.com/github/plthiyagu/AI-Engineering/blob/master/22-LeetCode/First_Unique_Character_in_a_String_Leetcode_387.ipynb\" target=\"_parent\"><img src=\"https://colab.research.google.com/assets/colab-badge.svg\" alt=\"Open In Colab\"/></a>"
      ]
    },
    {
      "cell_type": "markdown",
      "metadata": {
        "id": "S_Xuc0CqElY4"
      },
      "source": [
        "https://www.youtube.com/watch?v=Sh2QlIKY0GU"
      ]
    },
    {
      "cell_type": "code",
      "metadata": {
        "id": "t1k_qMgEEOTl"
      },
      "source": [
        "def firstUniqChar(s):\n",
        "    \"\"\"\n",
        "    :type s: str\n",
        "    :rtype: int\n",
        "    \"\"\"\n",
        "    \n",
        "    d={}\n",
        "    for i in range(len(s)):\n",
        "        if s[i] not in d:\n",
        "            d[s[i]] =1\n",
        "        else:\n",
        "            d[s[i]] +=1\n",
        "    for i in range(len(s)):\n",
        "        if d[s[i]] ==1:\n",
        "            return i\n",
        "    return -1   "
      ],
      "execution_count": 1,
      "outputs": []
    },
    {
      "cell_type": "code",
      "metadata": {
        "colab": {
          "base_uri": "https://localhost:8080/"
        },
        "id": "CUNdXyqXEUKA",
        "outputId": "afe69a9e-1aa0-4858-9d38-6313785ff5d9"
      },
      "source": [
        "s=\"leetcode\"\n",
        "firstUniqChar(s)"
      ],
      "execution_count": 2,
      "outputs": [
        {
          "output_type": "execute_result",
          "data": {
            "text/plain": [
              "0"
            ]
          },
          "metadata": {
            "tags": []
          },
          "execution_count": 2
        }
      ]
    },
    {
      "cell_type": "code",
      "metadata": {
        "id": "OnvLBb29EbzU"
      },
      "source": [
        ""
      ],
      "execution_count": null,
      "outputs": []
    }
  ]
}