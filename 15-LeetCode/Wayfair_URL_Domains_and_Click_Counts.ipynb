{
  "nbformat": 4,
  "nbformat_minor": 0,
  "metadata": {
    "colab": {
      "name": "Wayfair URL Domains and Click Counts.ipynb",
      "provenance": [],
      "authorship_tag": "ABX9TyMZ4yZvnobH1oTOiOZBs8hd",
      "include_colab_link": true
    },
    "kernelspec": {
      "name": "python3",
      "display_name": "Python 3"
    },
    "language_info": {
      "name": "python"
    }
  },
  "cells": [
    {
      "cell_type": "markdown",
      "metadata": {
        "id": "view-in-github",
        "colab_type": "text"
      },
      "source": [
        "<a href=\"https://colab.research.google.com/github/plthiyagu/AI-Engineering/blob/master/15-LeetCode/Wayfair_URL_Domains_and_Click_Counts.ipynb\" target=\"_parent\"><img src=\"https://colab.research.google.com/assets/colab-badge.svg\" alt=\"Open In Colab\"/></a>"
      ]
    },
    {
      "cell_type": "code",
      "metadata": {
        "id": "yC0gOvOkyxyh"
      },
      "source": [
        "counts = [\n",
        "\"900,google.com\",\n",
        "\"60,mail.yahoo.com\",\n",
        "\"10,mobile.sports.yahoo.com\",\n",
        "\"40,sports.yahoo.com\",\n",
        "\"300,yahoo.com\",\n",
        "\"10,stackoverflow.com\",\n",
        "\"20,overflow.com\",\n",
        "\"5,com.com\",\n",
        "\"2,en.wikipedia.org\",\n",
        "\"1,m.wikipedia.org\",\n",
        "\"1,mobile.sports\",\n",
        "\"1,google.co.uk\"\n",
        "]"
      ],
      "execution_count": 2,
      "outputs": []
    },
    {
      "cell_type": "markdown",
      "metadata": {
        "id": "_m3opA_FzLMr"
      },
      "source": [
        "For each item in counts:\n",
        "     Create a stack to hold each segment of the domain\n",
        "     Split by \",\" (comma) to get the count and domain\n",
        "     Split domain by  \".\" (period) to get an array/list (\"mobile.sports.yahoo.com\" -> \"mobile\", \"sports\", \"yahoo\", \"com\")\n",
        "     For each of the items in the array, push to the stack\n",
        "     Create a string/stringbuilder to hold the current domain\n",
        "     Pop from the stack to get the top level domain and assign to the current domain\n",
        "     hashtable[currentDomain] += count\n",
        "     While the stack is not empty:\n",
        "          Prepend to the string the top of stack and a period (i.e. if we have \"com\" prepend \"yahoo.\" to get \"yahoo.com\"\n",
        "          hashtable[currentDomain] += count\n",
        "\n",
        "\n",
        "Return hashtable\n",
        "Runtime: O(N*M) where N is number of items in counts and M is the number of segments in each domain\n",
        "\n",
        "Can easily be solved without using a stack, just what I found the most intuitive.\n",
        "\n"
      ]
    },
    {
      "cell_type": "code",
      "metadata": {
        "id": "CakPemubyzW_"
      },
      "source": [
        "from collections import defaultdict\n",
        "\n",
        "def findClicks(counts):\n",
        "    result = defaultdict(int)\n",
        "    \n",
        "    for i in counts:\n",
        "        count, domain = i.split(',')\n",
        "        result[domain] += int(count)\n",
        "        split = domain.split('.')\n",
        "        substring = ''\n",
        "        for j in range(len(split)-1, 0, -1):\n",
        "            substring = split[j] + \".\" + substring if substring else split[j]\n",
        "            result[substring] += int(count)\n",
        "    \n",
        "    return result"
      ],
      "execution_count": 3,
      "outputs": []
    },
    {
      "cell_type": "code",
      "metadata": {
        "colab": {
          "base_uri": "https://localhost:8080/"
        },
        "id": "gW1ChAEpzZu5",
        "outputId": "ac8920ff-090e-4610-e6df-1d53c1f24201"
      },
      "source": [
        "findClicks(counts)"
      ],
      "execution_count": 4,
      "outputs": [
        {
          "output_type": "execute_result",
          "data": {
            "text/plain": [
              "defaultdict(int,\n",
              "            {'co.uk': 1,\n",
              "             'com': 1345,\n",
              "             'com.com': 5,\n",
              "             'en.wikipedia.org': 2,\n",
              "             'google.co.uk': 1,\n",
              "             'google.com': 900,\n",
              "             'm.wikipedia.org': 1,\n",
              "             'mail.yahoo.com': 60,\n",
              "             'mobile.sports': 1,\n",
              "             'mobile.sports.yahoo.com': 10,\n",
              "             'org': 3,\n",
              "             'overflow.com': 20,\n",
              "             'sports': 1,\n",
              "             'sports.yahoo.com': 50,\n",
              "             'stackoverflow.com': 10,\n",
              "             'uk': 1,\n",
              "             'wikipedia.org': 3,\n",
              "             'yahoo.com': 410})"
            ]
          },
          "metadata": {
            "tags": []
          },
          "execution_count": 4
        }
      ]
    },
    {
      "cell_type": "code",
      "metadata": {
        "id": "CzBXsPurze1i"
      },
      "source": [
        ""
      ],
      "execution_count": null,
      "outputs": []
    }
  ]
}