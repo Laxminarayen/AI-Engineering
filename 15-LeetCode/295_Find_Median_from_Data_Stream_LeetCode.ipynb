{
  "nbformat": 4,
  "nbformat_minor": 0,
  "metadata": {
    "colab": {
      "name": "295 Find Median from Data Stream LeetCode.ipynb",
      "provenance": [],
      "authorship_tag": "ABX9TyMnQVfLlDrs/9Pa1sC9O+gu",
      "include_colab_link": true
    },
    "kernelspec": {
      "name": "python3",
      "display_name": "Python 3"
    },
    "language_info": {
      "name": "python"
    }
  },
  "cells": [
    {
      "cell_type": "markdown",
      "metadata": {
        "id": "view-in-github",
        "colab_type": "text"
      },
      "source": [
        "<a href=\"https://colab.research.google.com/github/plthiyagu/AI-Engineering/blob/master/15-LeetCode/295_Find_Median_from_Data_Stream_LeetCode.ipynb\" target=\"_parent\"><img src=\"https://colab.research.google.com/assets/colab-badge.svg\" alt=\"Open In Colab\"/></a>"
      ]
    },
    {
      "cell_type": "markdown",
      "metadata": {
        "id": "H-h-MlbtK06G"
      },
      "source": [
        "https://ttzztt.gitbooks.io/lc/content/find-median-from-data-stream.html"
      ]
    },
    {
      "cell_type": "code",
      "metadata": {
        "id": "6-oYd8h6Kyj5"
      },
      "source": [
        "class MedianFinder:\n",
        "\n",
        "    def __init__(self):\n",
        "        self.heaps = [], []\n",
        "\n",
        "        \n",
        "\n",
        "    def addNum(self, num: int) -> None:\n",
        "        \"\"\"\n",
        "        :type num: int\n",
        "        :rtype: void\n",
        "        \"\"\"\n",
        "        left, right = self.heaps # min heap\n",
        "        heappush(left, -heappushpop(right, num))\n",
        "        if len(right) < len(left):\n",
        "            heappush(right, -heappop(left))\n",
        "\n",
        "        \n",
        "\n",
        "    def findMedian(self) -> float:\n",
        "        \"\"\"\n",
        "        :rtype: float\n",
        "        \"\"\"\n",
        "        left, right = self.heaps\n",
        "        if len(right) > len(left):\n",
        "            return float(right[0])\n",
        "        return (right[0] - left[0])/2.0        \n",
        "\n",
        "        \n",
        "\n",
        "\n",
        "# Your MedianFinder object will be instantiated and called as such:\n",
        "# obj = MedianFinder()\n",
        "# obj.addNum(num)\n",
        "# param_2 = obj.findMedian()"
      ],
      "execution_count": null,
      "outputs": []
    }
  ]
}