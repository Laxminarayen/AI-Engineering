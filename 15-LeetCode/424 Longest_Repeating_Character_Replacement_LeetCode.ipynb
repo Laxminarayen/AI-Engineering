{
  "nbformat": 4,
  "nbformat_minor": 0,
  "metadata": {
    "colab": {
      "name": "424 Longest Repeating Character Replacement LeetCode.ipynb",
      "provenance": [],
      "authorship_tag": "ABX9TyOGidE7ijMYKU7FXY3N0tUb",
      "include_colab_link": true
    },
    "kernelspec": {
      "name": "python3",
      "display_name": "Python 3"
    },
    "language_info": {
      "name": "python"
    }
  },
  "cells": [
    {
      "cell_type": "markdown",
      "metadata": {
        "id": "view-in-github",
        "colab_type": "text"
      },
      "source": [
        "<a href=\"https://colab.research.google.com/github/plthiyagu/AI-Engineering/blob/master/15-LeetCode/424%20Longest_Repeating_Character_Replacement_LeetCode.ipynb\" target=\"_parent\"><img src=\"https://colab.research.google.com/assets/colab-badge.svg\" alt=\"Open In Colab\"/></a>"
      ]
    },
    {
      "cell_type": "code",
      "metadata": {
        "id": "cxtVRI1nO0at"
      },
      "source": [
        "from collections import Counter\n",
        "import collections\n",
        "def characterReplacement(s, k):\n",
        "    \"\"\"\n",
        "    :type s: str\n",
        "    :type k: int\n",
        "    :rtype: int\n",
        "    \"\"\"\n",
        "    N = len(s)\n",
        "    left, right = 0, 0 # [left, right] 都包含\n",
        "    counter = collections.Counter()\n",
        "    res = 0\n",
        "    while right < N:\n",
        "        counter[s[right]] += 1\n",
        "        while right - left + 1 - counter.most_common(1)[0][1] > k:\n",
        "            counter[s[left]] -= 1\n",
        "            left += 1\n",
        "        res = max(res, right - left + 1)\n",
        "        right += 1\n",
        "    return res"
      ],
      "execution_count": 7,
      "outputs": []
    },
    {
      "cell_type": "code",
      "metadata": {
        "colab": {
          "base_uri": "https://localhost:8080/"
        },
        "id": "ldpJUVTIO_JE",
        "outputId": "7f812e3a-4ebe-4499-c932-88e694eeb670"
      },
      "source": [
        "s = \"ABAB\"\n",
        "k = 2\n",
        "characterReplacement(s, k)"
      ],
      "execution_count": 8,
      "outputs": [
        {
          "output_type": "execute_result",
          "data": {
            "text/plain": [
              "4"
            ]
          },
          "metadata": {
            "tags": []
          },
          "execution_count": 8
        }
      ]
    },
    {
      "cell_type": "code",
      "metadata": {
        "id": "-RgLuICdPFxl"
      },
      "source": [
        ""
      ],
      "execution_count": null,
      "outputs": []
    }
  ]
}