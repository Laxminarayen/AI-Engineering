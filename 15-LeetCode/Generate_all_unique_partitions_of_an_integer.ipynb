{
  "nbformat": 4,
  "nbformat_minor": 0,
  "metadata": {
    "colab": {
      "name": "Generate all unique partitions of an integer.ipynb",
      "provenance": [],
      "authorship_tag": "ABX9TyM20Lny0GVbfo98QWxrDiSN",
      "include_colab_link": true
    },
    "kernelspec": {
      "name": "python3",
      "display_name": "Python 3"
    },
    "language_info": {
      "name": "python"
    }
  },
  "cells": [
    {
      "cell_type": "markdown",
      "metadata": {
        "id": "view-in-github",
        "colab_type": "text"
      },
      "source": [
        "<a href=\"https://colab.research.google.com/github/plthiyagu/AI-Engineering/blob/master/15-LeetCode/Generate_all_unique_partitions_of_an_integer.ipynb\" target=\"_parent\"><img src=\"https://colab.research.google.com/assets/colab-badge.svg\" alt=\"Open In Colab\"/></a>"
      ]
    },
    {
      "cell_type": "code",
      "metadata": {
        "colab": {
          "base_uri": "https://localhost:8080/"
        },
        "id": "7BKJ-yYnxC7I",
        "outputId": "be51240c-eafd-42b7-eaca-5b10e9b01763"
      },
      "source": [
        "# A utility function to print an\n",
        "# array p[] of size 'n'\n",
        "def printArray(p, n):\n",
        "\tfor i in range(0, n):\n",
        "\t\tprint(p[i], end = \" \")\n",
        "\tprint()\n",
        "\n",
        "def printAllUniqueParts(n):\n",
        "\tp = [0] * n\t # An array to store a partition\n",
        "\tk = 0\t\t # Index of last element in a partition\n",
        "\tp[k] = n\t # Initialize first partition\n",
        "\t\t\t\t# as number itself\n",
        "\n",
        "\t# This loop first prints current partition,\n",
        "\t# then generates next partition.The loop\n",
        "\t# stops when the current partition has all 1s\n",
        "\twhile True:\n",
        "\t\t\n",
        "\t\t\t# print current partition\n",
        "\t\t\tprintArray(p, k + 1)\n",
        "\n",
        "\t\t\t# Generate next partition\n",
        "\n",
        "\t\t\t# Find the rightmost non-one value in p[].\n",
        "\t\t\t# Also, update the rem_val so that we know\n",
        "\t\t\t# how much value can be accommodated\n",
        "\t\t\trem_val = 0\n",
        "\t\t\twhile k >= 0 and p[k] == 1:\n",
        "\t\t\t\trem_val += p[k]\n",
        "\t\t\t\tk -= 1\n",
        "\n",
        "\t\t\t# if k < 0, all the values are 1 so\n",
        "\t\t\t# there are no more partitions\n",
        "\t\t\tif k < 0:\n",
        "\t\t\t\tprint()\n",
        "\t\t\t\treturn\n",
        "\n",
        "\t\t\t# Decrease the p[k] found above\n",
        "\t\t\t# and adjust the rem_val\n",
        "\t\t\tp[k] -= 1\n",
        "\t\t\trem_val += 1\n",
        "\n",
        "\t\t\t# If rem_val is more, then the sorted\n",
        "\t\t\t# order is violated. Divide rem_val in\n",
        "\t\t\t# different values of size p[k] and copy\n",
        "\t\t\t# these values at different positions after p[k]\n",
        "\t\t\twhile rem_val > p[k]:\n",
        "\t\t\t\tp[k + 1] = p[k]\n",
        "\t\t\t\trem_val = rem_val - p[k]\n",
        "\t\t\t\tk += 1\n",
        "\n",
        "\t\t\t# Copy rem_val to next position\n",
        "\t\t\t# and increment position\n",
        "\t\t\tp[k + 1] = rem_val\n",
        "\t\t\tk += 1\n",
        "\n",
        "# Driver Code\n",
        "print('All Unique Partitions of 2')\n",
        "printAllUniqueParts(2)\n",
        "\n",
        "print('All Unique Partitions of 3')\n",
        "printAllUniqueParts(3)\n",
        "\n",
        "print('All Unique Partitions of 4')\n",
        "printAllUniqueParts(4)"
      ],
      "execution_count": 1,
      "outputs": [
        {
          "output_type": "stream",
          "name": "stdout",
          "text": [
            "All Unique Partitions of 2\n",
            "2 \n",
            "1 1 \n",
            "\n",
            "All Unique Partitions of 3\n",
            "3 \n",
            "2 1 \n",
            "1 1 1 \n",
            "\n",
            "All Unique Partitions of 4\n",
            "4 \n",
            "3 1 \n",
            "2 2 \n",
            "2 1 1 \n",
            "1 1 1 1 \n",
            "\n"
          ]
        }
      ]
    },
    {
      "cell_type": "code",
      "metadata": {
        "id": "eg8EcGBNxFEU"
      },
      "source": [
        ""
      ],
      "execution_count": null,
      "outputs": []
    }
  ]
}