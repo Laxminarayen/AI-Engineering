{
  "nbformat": 4,
  "nbformat_minor": 0,
  "metadata": {
    "colab": {
      "name": "532 K-diff Pairs in an Array LeetCode.ipynb",
      "provenance": [],
      "authorship_tag": "ABX9TyPQVUt7Lf/VkFVBJWGJYjXv",
      "include_colab_link": true
    },
    "kernelspec": {
      "name": "python3",
      "display_name": "Python 3"
    },
    "language_info": {
      "name": "python"
    }
  },
  "cells": [
    {
      "cell_type": "markdown",
      "metadata": {
        "id": "view-in-github",
        "colab_type": "text"
      },
      "source": [
        "<a href=\"https://colab.research.google.com/github/plthiyagu/AI-Engineering/blob/master/15-LeetCode/532_K_diff_Pairs_in_an_Array_LeetCode.ipynb\" target=\"_parent\"><img src=\"https://colab.research.google.com/assets/colab-badge.svg\" alt=\"Open In Colab\"/></a>"
      ]
    },
    {
      "cell_type": "code",
      "metadata": {
        "id": "u-pB8nI1GOVi"
      },
      "source": [
        "from typing import List\n",
        "from collections import Counter\n",
        "def findPairs(nums: List[int], k: int) -> int:\n",
        "    ct = Counter(nums)\n",
        "    res = 0\n",
        "    if k == 0:\n",
        "        for v in ct.values():\n",
        "            res += v > 1\n",
        "    else:\n",
        "        for n in ct:\n",
        "            res += k + n in ct\n",
        "    return res   "
      ],
      "execution_count": 4,
      "outputs": []
    },
    {
      "cell_type": "code",
      "metadata": {
        "colab": {
          "base_uri": "https://localhost:8080/"
        },
        "id": "MXsttLqjGV5p",
        "outputId": "bee72cb9-bd40-4380-e6af-cb7879360c40"
      },
      "source": [
        "nums = [3,1,4,1,5]\n",
        "k = 2\n",
        "findPairs(nums,k)"
      ],
      "execution_count": 5,
      "outputs": [
        {
          "output_type": "execute_result",
          "data": {
            "text/plain": [
              "2"
            ]
          },
          "metadata": {},
          "execution_count": 5
        }
      ]
    },
    {
      "cell_type": "code",
      "metadata": {
        "id": "SLvzNgt4GcsH"
      },
      "source": [
        ""
      ],
      "execution_count": null,
      "outputs": []
    },
    {
      "cell_type": "code",
      "metadata": {
        "id": "KtLZzXvGGSIK"
      },
      "source": [
        ""
      ],
      "execution_count": null,
      "outputs": []
    }
  ]
}