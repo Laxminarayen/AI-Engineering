{
  "nbformat": 4,
  "nbformat_minor": 0,
  "metadata": {
    "colab": {
      "name": "435 Non-overlapping Intervals LeetCode.ipynb",
      "provenance": [],
      "authorship_tag": "ABX9TyNb/RZfSHLbeB2ab6ibHqAT",
      "include_colab_link": true
    },
    "kernelspec": {
      "name": "python3",
      "display_name": "Python 3"
    },
    "language_info": {
      "name": "python"
    }
  },
  "cells": [
    {
      "cell_type": "markdown",
      "metadata": {
        "id": "view-in-github",
        "colab_type": "text"
      },
      "source": [
        "<a href=\"https://colab.research.google.com/github/plthiyagu/AI-Engineering/blob/master/15-LeetCode/435%20Non_overlapping_Intervals_LeetCode.ipynb\" target=\"_parent\"><img src=\"https://colab.research.google.com/assets/colab-badge.svg\" alt=\"Open In Colab\"/></a>"
      ]
    },
    {
      "cell_type": "code",
      "metadata": {
        "id": "lko1xQkVxMfP"
      },
      "source": [
        "def eraseOverlapIntervals( intervals):\n",
        "    \"\"\"\n",
        "    :type intervals: List[List[int]]\n",
        "    :rtype: int\n",
        "    \"\"\"\n",
        "    if len(intervals) == 0:\n",
        "        return 0\n",
        "    intervals.sort()\n",
        "    now = intervals[0][1]\n",
        "    res = 0\n",
        "    for i in intervals[1:]:\n",
        "        if i[0] < now:\n",
        "            now = min(i[1], now)\n",
        "            res += 1\n",
        "        else:\n",
        "            now = i[1]\n",
        "    return res"
      ],
      "execution_count": 1,
      "outputs": []
    },
    {
      "cell_type": "code",
      "metadata": {
        "colab": {
          "base_uri": "https://localhost:8080/"
        },
        "id": "f9Bo0Kz3xR7u",
        "outputId": "d53e37e5-337c-4365-9941-870940551c38"
      },
      "source": [
        "intervals = [[1,2],[2,3],[3,4],[1,3]]\n",
        "eraseOverlapIntervals( intervals)"
      ],
      "execution_count": 2,
      "outputs": [
        {
          "output_type": "execute_result",
          "data": {
            "text/plain": [
              "1"
            ]
          },
          "metadata": {
            "tags": []
          },
          "execution_count": 2
        }
      ]
    },
    {
      "cell_type": "code",
      "metadata": {
        "id": "0Yh-4il2xauL"
      },
      "source": [
        ""
      ],
      "execution_count": null,
      "outputs": []
    }
  ]
}