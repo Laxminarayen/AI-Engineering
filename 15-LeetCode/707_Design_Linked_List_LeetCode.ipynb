{
  "nbformat": 4,
  "nbformat_minor": 0,
  "metadata": {
    "colab": {
      "name": "707 Design Linked List LeetCode.ipynb",
      "provenance": [],
      "authorship_tag": "ABX9TyPFwVmh3gcgIuh1oj4NV2Sn",
      "include_colab_link": true
    },
    "kernelspec": {
      "name": "python3",
      "display_name": "Python 3"
    },
    "language_info": {
      "name": "python"
    }
  },
  "cells": [
    {
      "cell_type": "markdown",
      "metadata": {
        "id": "view-in-github",
        "colab_type": "text"
      },
      "source": [
        "<a href=\"https://colab.research.google.com/github/plthiyagu/AI-Engineering/blob/master/15-LeetCode/707_Design_Linked_List_LeetCode.ipynb\" target=\"_parent\"><img src=\"https://colab.research.google.com/assets/colab-badge.svg\" alt=\"Open In Colab\"/></a>"
      ]
    },
    {
      "cell_type": "code",
      "metadata": {
        "id": "t_qY12LDjIYU"
      },
      "source": [
        "class MyLinkedList:\n",
        "\n",
        "    def __init__(self):\n",
        "        self.head = None\n",
        "        self.size = 0\n",
        "\n",
        "\n",
        "    def get(self, index: int) -> int:\n",
        "        if index < 0 or index >= self.size:\n",
        "            return -1\n",
        "        \n",
        "        current = self.head\n",
        "        \n",
        "        for i in range(0, index):            \n",
        "            current = current.next\n",
        "\n",
        "        return current.val\n",
        "\n",
        "        \n",
        "\n",
        "    def addAtHead(self, val: int) -> None:\n",
        "        self.addAtIndex(0, val)\n",
        "\n",
        "\n",
        "    def addAtTail(self, val: int) -> None:\n",
        "        self.addAtIndex(self.size, val)\n",
        "\n",
        "        \n",
        "\n",
        "    def addAtIndex(self, index: int, val: int) -> None:\n",
        "        if index > self.size:\n",
        "            return\n",
        "        \n",
        "        current = self.head\n",
        "        newNode = ListNode(val)\n",
        "                \n",
        "        if index <= 0:\n",
        "            newNode.next = current\n",
        "            self.head = newNode\n",
        "        else:                        \n",
        "            for i in range(index - 1):\n",
        "                current = current.next\n",
        "            newNode.next = current.next\n",
        "            current.next = newNode    \n",
        "            \n",
        "        self.size += 1\n",
        "\n",
        "        \n",
        "\n",
        "    def deleteAtIndex(self, index: int) -> None:\n",
        "        if index < 0 or index >= self.size:\n",
        "            return\n",
        "        \n",
        "        current = self.head\n",
        "        \n",
        "        if index == 0:\n",
        "            self.head = self.head.next\n",
        "        else:\n",
        "            for i in range(0, index - 1):\n",
        "                current = current.next\n",
        "            current.next = current.next.next              \n",
        "\n",
        "        self.size -= 1\n",
        "\n",
        "        \n",
        "\n",
        "\n",
        "# Your MyLinkedList object will be instantiated and called as such:\n",
        "# obj = MyLinkedList()\n",
        "# param_1 = obj.get(index)\n",
        "# obj.addAtHead(val)\n",
        "# obj.addAtTail(val)\n",
        "# obj.addAtIndex(index,val)\n",
        "# obj.deleteAtIndex(index)"
      ],
      "execution_count": null,
      "outputs": []
    }
  ]
}