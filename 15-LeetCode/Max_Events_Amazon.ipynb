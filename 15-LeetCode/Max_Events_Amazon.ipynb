{
  "nbformat": 4,
  "nbformat_minor": 0,
  "metadata": {
    "colab": {
      "name": "Max Events Amazon.ipynb",
      "provenance": [],
      "authorship_tag": "ABX9TyP6IM6oNZBkFp/VbMLs/Jpo",
      "include_colab_link": true
    },
    "kernelspec": {
      "name": "python3",
      "display_name": "Python 3"
    },
    "language_info": {
      "name": "python"
    }
  },
  "cells": [
    {
      "cell_type": "markdown",
      "metadata": {
        "id": "view-in-github",
        "colab_type": "text"
      },
      "source": [
        "<a href=\"https://colab.research.google.com/github/plthiyagu/AI-Engineering/blob/master/15-LeetCode/Max_Events_Amazon.ipynb\" target=\"_parent\"><img src=\"https://colab.research.google.com/assets/colab-badge.svg\" alt=\"Open In Colab\"/></a>"
      ]
    },
    {
      "cell_type": "markdown",
      "metadata": {
        "id": "Um_xuOZV5jHg"
      },
      "source": [
        "  A special event coordinator for Amazon Web Services is planning to host a series of presenations by different companies for a Day 1\n",
        "  Orientation. The coordinator has a list of companies along with their respective arrival times and their duration\n",
        "  of stay. Only one company can be presentation at any time. Given each company's arrival time and the diartion they\n",
        "  will stay, determine the maximum number of presentations that can be hosted during the orientation\n",
        "  example \n",
        "  n = 5\n",
        "  arrival = [1,3,3,5,7]\n",
        "  duration = [2,2,1,2,1]\n",
        "  The first company arrives at time 1 and stays for 2 hours. At time 3, two companies arrive, but only 1 can stay for either \n",
        "  1 or 2 hours. The next companies arrive at time 5 and 7 and do not conflict with any others. In total, there can be a maximum of 4\n",
        "  promotional events.\n"
      ]
    },
    {
      "cell_type": "code",
      "metadata": {
        "id": "AbX3rERr4T61"
      },
      "source": [
        "def maxEvents(arrival, duration):\n",
        "    counter = 1\n",
        "    for i in range(len(arrival)):\n",
        "      tempDuration = (arrival[i - 1] + duration[i - 1]) - 1\n",
        "      if tempDuration <= arrival[i]:\n",
        "        counter += 1    \n",
        "    return counter"
      ],
      "execution_count": 6,
      "outputs": []
    },
    {
      "cell_type": "code",
      "metadata": {
        "colab": {
          "base_uri": "https://localhost:8080/"
        },
        "id": "ey1bcDkQ5KiX",
        "outputId": "17893be2-41ed-4916-99e4-a55b3c1773e6"
      },
      "source": [
        "  n = 5\n",
        "  arrival = [1,3,3,5,7]\n",
        "  duration = [2,2,1,2,1]\n",
        "maxEvents(arrival,duration)"
      ],
      "execution_count": 7,
      "outputs": [
        {
          "output_type": "execute_result",
          "data": {
            "text/plain": [
              "4"
            ]
          },
          "metadata": {},
          "execution_count": 7
        }
      ]
    },
    {
      "cell_type": "code",
      "metadata": {
        "id": "DFpyff5k5bz4"
      },
      "source": [
        ""
      ],
      "execution_count": null,
      "outputs": []
    }
  ]
}