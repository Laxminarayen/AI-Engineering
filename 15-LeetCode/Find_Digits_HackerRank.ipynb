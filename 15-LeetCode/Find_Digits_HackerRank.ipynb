{
  "nbformat": 4,
  "nbformat_minor": 0,
  "metadata": {
    "colab": {
      "name": "Find Digits HackerRank.ipynb",
      "provenance": [],
      "authorship_tag": "ABX9TyN5wk62qfL9508zoqSaeVNM",
      "include_colab_link": true
    },
    "kernelspec": {
      "name": "python3",
      "display_name": "Python 3"
    },
    "language_info": {
      "name": "python"
    }
  },
  "cells": [
    {
      "cell_type": "markdown",
      "metadata": {
        "id": "view-in-github",
        "colab_type": "text"
      },
      "source": [
        "<a href=\"https://colab.research.google.com/github/plthiyagu/AI-Engineering/blob/master/15-LeetCode/Find_Digits_HackerRank.ipynb\" target=\"_parent\"><img src=\"https://colab.research.google.com/assets/colab-badge.svg\" alt=\"Open In Colab\"/></a>"
      ]
    },
    {
      "cell_type": "code",
      "metadata": {
        "id": "Xv94FwYh-j8i"
      },
      "source": [
        "import math\n",
        "import os\n",
        "import random\n",
        "import re\n",
        "import sys\n",
        "\n",
        "# Complete the findDigits function below.\n",
        "def findDigits(n):\n",
        "    count = 0\n",
        "    print(list(str(n)))\n",
        "    for i in list(str(n)):\n",
        "        if int(i) != 0 and n % int(i) == 0:\n",
        "            count += 1\n",
        "    return count"
      ],
      "execution_count": 3,
      "outputs": []
    },
    {
      "cell_type": "code",
      "metadata": {
        "colab": {
          "base_uri": "https://localhost:8080/"
        },
        "id": "rj_cTNjB-lD4",
        "outputId": "ea9a7447-226d-4890-b00a-2cd8ced2fcff"
      },
      "source": [
        "t = int(input())\n",
        "for t_itr in range(t):\n",
        "  n = int(input())\n",
        "  result = findDigits(n)\n",
        "print(result)"
      ],
      "execution_count": 8,
      "outputs": [
        {
          "output_type": "stream",
          "name": "stdout",
          "text": [
            "1\n",
            "5\n",
            "['5']\n",
            "1\n"
          ]
        }
      ]
    },
    {
      "cell_type": "code",
      "metadata": {
        "id": "88lbmLkh-xmv"
      },
      "source": [
        ""
      ],
      "execution_count": null,
      "outputs": []
    }
  ]
}