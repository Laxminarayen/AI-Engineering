{
  "nbformat": 4,
  "nbformat_minor": 0,
  "metadata": {
    "colab": {
      "name": "54 Spiral Matrix LeetCode.ipynb",
      "provenance": [],
      "authorship_tag": "ABX9TyO66GFEo04RuCbqUSmNk5Mm",
      "include_colab_link": true
    },
    "kernelspec": {
      "name": "python3",
      "display_name": "Python 3"
    },
    "language_info": {
      "name": "python"
    }
  },
  "cells": [
    {
      "cell_type": "markdown",
      "metadata": {
        "id": "view-in-github",
        "colab_type": "text"
      },
      "source": [
        "<a href=\"https://colab.research.google.com/github/plthiyagu/AI-Engineering/blob/master/15-LeetCode/54_Spiral_Matrix_LeetCode.ipynb\" target=\"_parent\"><img src=\"https://colab.research.google.com/assets/colab-badge.svg\" alt=\"Open In Colab\"/></a>"
      ]
    },
    {
      "cell_type": "code",
      "metadata": {
        "id": "IqOAhRmiJ7GF"
      },
      "source": [
        "def spiralOrder( matrix):\n",
        "    \"\"\"\n",
        "    :type matrix: List[List[int]]\n",
        "    :rtype: List[int]\n",
        "    \"\"\"\n",
        "    if not matrix or not matrix[0]: return []\n",
        "    M, N = len(matrix), len(matrix[0])\n",
        "    left, right, up, down = 0, N - 1, 0, M - 1\n",
        "    res = []\n",
        "    x, y = 0, 0\n",
        "    dirs = [(0, 1), (1, 0), (0, -1), (-1, 0)]\n",
        "    cur_d = 0\n",
        "    while len(res) != M * N:\n",
        "        res.append(matrix[x][y])\n",
        "        if cur_d == 0 and y == right:\n",
        "            cur_d += 1\n",
        "            up += 1\n",
        "        elif cur_d == 1 and x == down:\n",
        "            cur_d += 1\n",
        "            right -= 1\n",
        "        elif cur_d == 2 and y == left:\n",
        "            cur_d += 1\n",
        "            down -= 1\n",
        "        elif cur_d == 3 and x == up:\n",
        "            cur_d += 1\n",
        "            left += 1\n",
        "        cur_d %= 4\n",
        "        x += dirs[cur_d][0]\n",
        "        y += dirs[cur_d][1]\n",
        "    return res"
      ],
      "execution_count": 2,
      "outputs": []
    },
    {
      "cell_type": "code",
      "metadata": {
        "colab": {
          "base_uri": "https://localhost:8080/"
        },
        "id": "cJtwTjx_J_CZ",
        "outputId": "d180770e-de88-40e1-ba88-edb7b853b927"
      },
      "source": [
        "matrix = [[1,2,3],[4,5,6],[7,8,9]]\n",
        "spiralOrder( matrix)"
      ],
      "execution_count": 3,
      "outputs": [
        {
          "output_type": "execute_result",
          "data": {
            "text/plain": [
              "[1, 2, 3, 6, 9, 8, 7, 4, 5]"
            ]
          },
          "metadata": {
            "tags": []
          },
          "execution_count": 3
        }
      ]
    },
    {
      "cell_type": "code",
      "metadata": {
        "id": "yHz_X0LjKFdq"
      },
      "source": [
        ""
      ],
      "execution_count": null,
      "outputs": []
    },
    {
      "cell_type": "code",
      "metadata": {
        "id": "enLdVnJQJ8EC"
      },
      "source": [
        ""
      ],
      "execution_count": null,
      "outputs": []
    }
  ]
}