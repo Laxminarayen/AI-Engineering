{
  "nbformat": 4,
  "nbformat_minor": 0,
  "metadata": {
    "colab": {
      "name": "Anagram Solution.ipynb",
      "provenance": [],
      "authorship_tag": "ABX9TyP+wQC5CyCSGqV3PZ3vKbt5",
      "include_colab_link": true
    },
    "kernelspec": {
      "name": "python3",
      "display_name": "Python 3"
    }
  },
  "cells": [
    {
      "cell_type": "markdown",
      "metadata": {
        "id": "view-in-github",
        "colab_type": "text"
      },
      "source": [
        "<a href=\"https://colab.research.google.com/github/plthiyagu/Personnel/blob/master/Anagram_Solution.ipynb\" target=\"_parent\"><img src=\"https://colab.research.google.com/assets/colab-badge.svg\" alt=\"Open In Colab\"/></a>"
      ]
    },
    {
      "cell_type": "code",
      "metadata": {
        "id": "OKgwHddzC7J5",
        "colab_type": "code",
        "colab": {
          "base_uri": "https://localhost:8080/",
          "height": 34
        },
        "outputId": "e1282960-a06b-4bf2-e47f-2a90461bd70c"
      },
      "source": [
        "from typing import List, TypeVar, Tuple, Any, Generator\n",
        "class Solution:\n",
        "  def groupAnagrams(self,strs: List[str]) -> List[List[str]]:\n",
        "    # Approach one\n",
        "    dic = {}\n",
        "    for i in strs:\n",
        "      ii = ''.join(sorted(i))\n",
        "      if dic.get(ii,0) != 0:\n",
        "        dic[ii].append(i)\n",
        "      else:\n",
        "        dic[ii] = [i]\n",
        "    return [i for i in dic.values()]\n",
        "\n",
        "sol = Solution()\n",
        "\n",
        "\n",
        "input=[\"eat\", \"tea\", \"tan\", \"ate\", \"nat\", \"bat\"]\n",
        "sol.groupAnagrams(input)"
      ],
      "execution_count": 7,
      "outputs": [
        {
          "output_type": "execute_result",
          "data": {
            "text/plain": [
              "[['eat', 'tea', 'ate'], ['tan', 'nat'], ['bat']]"
            ]
          },
          "metadata": {
            "tags": []
          },
          "execution_count": 7
        }
      ]
    }
  ]
}