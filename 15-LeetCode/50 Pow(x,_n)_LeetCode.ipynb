{
  "nbformat": 4,
  "nbformat_minor": 0,
  "metadata": {
    "colab": {
      "name": "50 Pow(x, n) LeetCode.ipynb",
      "provenance": [],
      "authorship_tag": "ABX9TyNHN4jqIMQuLcIijYFrGBZD",
      "include_colab_link": true
    },
    "kernelspec": {
      "name": "python3",
      "display_name": "Python 3"
    },
    "language_info": {
      "name": "python"
    }
  },
  "cells": [
    {
      "cell_type": "markdown",
      "metadata": {
        "id": "view-in-github",
        "colab_type": "text"
      },
      "source": [
        "<a href=\"https://colab.research.google.com/github/plthiyagu/AI-Engineering/blob/master/15-LeetCode/50%20Pow(x%2C_n)_LeetCode.ipynb\" target=\"_parent\"><img src=\"https://colab.research.google.com/assets/colab-badge.svg\" alt=\"Open In Colab\"/></a>"
      ]
    },
    {
      "cell_type": "code",
      "metadata": {
        "id": "j30nPs5_66g1"
      },
      "source": [
        "def myPow(x, n):\n",
        "    \"\"\"\n",
        "    :type x: float\n",
        "    :type n: int\n",
        "    :rtype: float\n",
        "    \"\"\"\n",
        "    #return x**n\n",
        "    if n < 0:\n",
        "        x = 1 / x\n",
        "        n = -n\n",
        "    res = 1\n",
        "    while n > 0:\n",
        "        if n % 2:\n",
        "            res *= x\n",
        "        n //= 2\n",
        "        x *= x\n",
        "    return res\n"
      ],
      "execution_count": 1,
      "outputs": []
    },
    {
      "cell_type": "code",
      "metadata": {
        "colab": {
          "base_uri": "https://localhost:8080/"
        },
        "id": "VTfKISDC69cT",
        "outputId": "a00de923-d133-4b52-edce-a1a31a375c13"
      },
      "source": [
        "x = 2.10000\n",
        "n = 3\n",
        "myPow(x, n)"
      ],
      "execution_count": 2,
      "outputs": [
        {
          "output_type": "execute_result",
          "data": {
            "text/plain": [
              "9.261000000000001"
            ]
          },
          "metadata": {
            "tags": []
          },
          "execution_count": 2
        }
      ]
    },
    {
      "cell_type": "code",
      "metadata": {
        "id": "pv_tUUCu7E-Y"
      },
      "source": [
        ""
      ],
      "execution_count": null,
      "outputs": []
    }
  ]
}