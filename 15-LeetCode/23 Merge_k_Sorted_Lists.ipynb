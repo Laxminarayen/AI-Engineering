{
  "nbformat": 4,
  "nbformat_minor": 0,
  "metadata": {
    "colab": {
      "name": "23. Merge k Sorted Lists.ipynb",
      "provenance": [],
      "authorship_tag": "ABX9TyP0DG+08YGT7HnlTl99JDBH",
      "include_colab_link": true
    },
    "kernelspec": {
      "name": "python3",
      "display_name": "Python 3"
    },
    "language_info": {
      "name": "python"
    }
  },
  "cells": [
    {
      "cell_type": "markdown",
      "metadata": {
        "id": "view-in-github",
        "colab_type": "text"
      },
      "source": [
        "<a href=\"https://colab.research.google.com/github/plthiyagu/AI-Engineering/blob/master/15-LeetCode/23%20Merge_k_Sorted_Lists.ipynb\" target=\"_parent\"><img src=\"https://colab.research.google.com/assets/colab-badge.svg\" alt=\"Open In Colab\"/></a>"
      ]
    },
    {
      "cell_type": "code",
      "metadata": {
        "id": "HrUZPMbkG95S"
      },
      "source": [
        "# Definition for singly-linked list.\n",
        "class ListNode(object):\n",
        "    def __init__(self, val=0, next=None):\n",
        "        self.val = val\n",
        "        self.next = next\n",
        "class Solution(object):\n",
        "    def mergeKLists(self, lists):\n",
        "        \"\"\"\n",
        "        :type lists: List[ListNode]\n",
        "        :rtype: ListNode\n",
        "        \"\"\"\n",
        "        q = []\n",
        "        for i in range(len(lists)):\n",
        "            if lists[i]:\n",
        "                heapq.heappush(q, (lists[i].val, i))\n",
        "                lists[i] = lists[i].next\n",
        "        res = ListNode()\n",
        "        cur = res\n",
        "        while q:\n",
        "            val, i = heapq.heappop(q)\n",
        "            cur.next = ListNode(val)\n",
        "            cur = cur.next\n",
        "            if lists[i]:\n",
        "                heapq.heappush(q, (lists[i].val, i))\n",
        "                lists[i] = lists[i].next\n",
        "        return res.next\n"
      ],
      "execution_count": 1,
      "outputs": []
    },
    {
      "cell_type": "code",
      "metadata": {
        "id": "kagdl75OHDA_"
      },
      "source": [
        "lists = [[1,4,5],[1,3,4],[2,6]]"
      ],
      "execution_count": 2,
      "outputs": []
    },
    {
      "cell_type": "code",
      "metadata": {
        "id": "Ve3onAWrHGHf"
      },
      "source": [
        ""
      ],
      "execution_count": null,
      "outputs": []
    }
  ]
}