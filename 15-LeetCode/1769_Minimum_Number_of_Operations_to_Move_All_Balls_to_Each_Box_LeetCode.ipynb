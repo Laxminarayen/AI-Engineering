{
  "nbformat": 4,
  "nbformat_minor": 0,
  "metadata": {
    "colab": {
      "name": "1769 Minimum Number of Operations to Move All Balls to Each Box LeetCode.ipynb",
      "provenance": [],
      "authorship_tag": "ABX9TyMcN3aAU5QBU2E8BNZX5pLv",
      "include_colab_link": true
    },
    "kernelspec": {
      "name": "python3",
      "display_name": "Python 3"
    },
    "language_info": {
      "name": "python"
    }
  },
  "cells": [
    {
      "cell_type": "markdown",
      "metadata": {
        "id": "view-in-github",
        "colab_type": "text"
      },
      "source": [
        "<a href=\"https://colab.research.google.com/github/plthiyagu/AI-Engineering/blob/master/15-LeetCode/1769_Minimum_Number_of_Operations_to_Move_All_Balls_to_Each_Box_LeetCode.ipynb\" target=\"_parent\"><img src=\"https://colab.research.google.com/assets/colab-badge.svg\" alt=\"Open In Colab\"/></a>"
      ]
    },
    {
      "cell_type": "code",
      "metadata": {
        "id": "kzJKQmE4S_Ox"
      },
      "source": [
        "class Solution:\n",
        "    def minOperations(self, boxes: str) -> List[int]:\n",
        "        balls = 0\n",
        "        operations = 0\n",
        "        min_operations = [0] * len(boxes)\n",
        "        for i, v in enumerate(boxes):\n",
        "            min_operations[i] += operations\n",
        "            if v == '1':\n",
        "                balls += 1\n",
        "            operations += balls\n",
        "\n",
        "        balls = 0\n",
        "        operations = 0\n",
        "        for i in range(len(boxes) - 1, -1, -1):\n",
        "            v = boxes[i]\n",
        "            min_operations[i] += operations\n",
        "            if v == '1':\n",
        "                balls += 1\n",
        "            operations += balls\n",
        "        return min_operations\n"
      ],
      "execution_count": null,
      "outputs": []
    }
  ]
}