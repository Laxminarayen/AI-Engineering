{
  "nbformat": 4,
  "nbformat_minor": 0,
  "metadata": {
    "colab": {
      "name": "501 Find Mode in Binary Search Tree LeetCode.ipynb",
      "provenance": [],
      "authorship_tag": "ABX9TyPgBmbjvT+C6ziPFlRcyVt3",
      "include_colab_link": true
    },
    "kernelspec": {
      "name": "python3",
      "display_name": "Python 3"
    },
    "language_info": {
      "name": "python"
    }
  },
  "cells": [
    {
      "cell_type": "markdown",
      "metadata": {
        "id": "view-in-github",
        "colab_type": "text"
      },
      "source": [
        "<a href=\"https://colab.research.google.com/github/plthiyagu/AI-Engineering/blob/master/15-LeetCode/501_Find_Mode_in_Binary_Search_Tree_LeetCode.ipynb\" target=\"_parent\"><img src=\"https://colab.research.google.com/assets/colab-badge.svg\" alt=\"Open In Colab\"/></a>"
      ]
    },
    {
      "cell_type": "code",
      "metadata": {
        "id": "j_fxOMt3-ETH"
      },
      "source": [
        "# Definition for a binary tree node.\n",
        "# class TreeNode:\n",
        "#     def __init__(self, val=0, left=None, right=None):\n",
        "#         self.val = val\n",
        "#         self.left = left\n",
        "#         self.right = right\n",
        "class Solution:\n",
        "    def findMode(self, root: Optional[TreeNode]) -> List[int]:\n",
        "        results = []\n",
        "        \n",
        "        counter = {}\n",
        "        self.traverse(root, counter)        \n",
        "        \n",
        "        max_value = max(counter.values())\n",
        "        \n",
        "        for key, value in counter.items():            \n",
        "            if value == max_value:\n",
        "                results.append(key)\n",
        "                \n",
        "                \n",
        "        return results\n",
        "                \n",
        "            \n",
        "    def traverse(self, root, counter):\n",
        "        \n",
        "        if not root:\n",
        "            return\n",
        "        \n",
        "        \n",
        "        counter[root.val] = counter.get(root.val, 0) + 1\n",
        "        \n",
        "        self.traverse(root.left, counter)\n",
        "        self.traverse(root.right, counter)\n",
        "\n",
        "        "
      ],
      "execution_count": null,
      "outputs": []
    }
  ]
}