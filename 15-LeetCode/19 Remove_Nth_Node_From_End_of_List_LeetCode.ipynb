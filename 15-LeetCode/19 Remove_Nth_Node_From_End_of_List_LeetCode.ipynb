{
  "nbformat": 4,
  "nbformat_minor": 0,
  "metadata": {
    "colab": {
      "name": "19 Remove Nth Node From End of List LeetCode.ipynb",
      "provenance": [],
      "authorship_tag": "ABX9TyM8p6EDw56M+RApYZFmHYTG",
      "include_colab_link": true
    },
    "kernelspec": {
      "name": "python3",
      "display_name": "Python 3"
    },
    "language_info": {
      "name": "python"
    }
  },
  "cells": [
    {
      "cell_type": "markdown",
      "metadata": {
        "id": "view-in-github",
        "colab_type": "text"
      },
      "source": [
        "<a href=\"https://colab.research.google.com/github/plthiyagu/AI-Engineering/blob/master/15-LeetCode/19%20Remove_Nth_Node_From_End_of_List_LeetCode.ipynb\" target=\"_parent\"><img src=\"https://colab.research.google.com/assets/colab-badge.svg\" alt=\"Open In Colab\"/></a>"
      ]
    },
    {
      "cell_type": "code",
      "metadata": {
        "id": "O8zzzEVjHgrO"
      },
      "source": [
        "# Definition for singly-linked list.\n",
        "class ListNode(object):\n",
        "    def __init__(self, val=0, next=None):\n",
        "        self.val = val\n",
        "        self.next = next\n",
        "class Solution(object):\n",
        "    def removeNthFromEnd(self, head, n):\n",
        "        \"\"\"\n",
        "        :type head: ListNode\n",
        "        :type n: int\n",
        "        :rtype: ListNode\n",
        "        \"\"\"\n",
        "        first = ListNode(0)\n",
        "        second = ListNode(0)\n",
        "        first.next = head\n",
        "        second.next = head\n",
        "        for i in range(n):\n",
        "            first = first.next\n",
        "        if first.next == None:\n",
        "            return head.next\n",
        "        while first.next != None:\n",
        "            first = first.next\n",
        "            second = second.next\n",
        "        second.next = second.next.next\n",
        "        return head\n"
      ],
      "execution_count": 1,
      "outputs": []
    },
    {
      "cell_type": "code",
      "metadata": {
        "id": "EbROeuLeHjPx"
      },
      "source": [
        "head = [1,2,3,4,5]\n",
        "n = 2\n"
      ],
      "execution_count": 2,
      "outputs": []
    },
    {
      "cell_type": "code",
      "metadata": {
        "id": "MGjrVV4rHoJ6"
      },
      "source": [
        ""
      ],
      "execution_count": null,
      "outputs": []
    }
  ]
}