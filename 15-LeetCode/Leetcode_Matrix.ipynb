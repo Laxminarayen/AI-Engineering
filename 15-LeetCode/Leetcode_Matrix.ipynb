{
  "nbformat": 4,
  "nbformat_minor": 0,
  "metadata": {
    "colab": {
      "name": "Leetcode Matrix.ipynb",
      "provenance": [],
      "authorship_tag": "ABX9TyPVkSPvQJmU9CEMSGULawnu",
      "include_colab_link": true
    },
    "kernelspec": {
      "name": "python3",
      "display_name": "Python 3"
    }
  },
  "cells": [
    {
      "cell_type": "markdown",
      "metadata": {
        "id": "view-in-github",
        "colab_type": "text"
      },
      "source": [
        "<a href=\"https://colab.research.google.com/github/plthiyagu/Personnel/blob/master/Leetcode_Matrix.ipynb\" target=\"_parent\"><img src=\"https://colab.research.google.com/assets/colab-badge.svg\" alt=\"Open In Colab\"/></a>"
      ]
    },
    {
      "cell_type": "code",
      "metadata": {
        "id": "g4P83QUFe2GT"
      },
      "source": [
        "import collections"
      ],
      "execution_count": 2,
      "outputs": []
    },
    {
      "cell_type": "code",
      "metadata": {
        "id": "3GV3Gv38fG8b"
      },
      "source": [
        "class Solution(object):\n",
        "  def updateMatrix(self, matrix):\n",
        "    \"\"\"\n",
        "    :type matrix: List[List[int]]\n",
        "    :rtype: List[List[int]]\n",
        "    \"\"\"\n",
        "\n",
        "    queue = collections.deque()\n",
        "    for i in range(len(matrix)):\n",
        "      for j in range(len(matrix[0])):\n",
        "        if matrix[i][j] == 0:\n",
        "          queue.append((i,j))\n",
        "        else:\n",
        "          matrix[i][j]= float(\"inf\")\n",
        "    dir=[(-1,0),(1,0),(0,-1),(0,1)]\n",
        "    while queue:\n",
        "      cell = queue.popleft()\n",
        "      for dir in dirs:\n",
        "        i,j = cell[0]+dir[0],cell[1]+ dir[1]\n",
        "        if not (0 <= i < len(matrix)) or not (0 <= j < len(matrix[0])) or \\\n",
        "                   matrix[i][j] <= matrix[cell[0]][cell[1]]+1:\n",
        "                        continue\n",
        "        queue.append((i,j))\n",
        "        matrix[i][j] = matrix[cell[0]][cell[1]] +1\n",
        "    return matrix\n",
        "\n"
      ],
      "execution_count": 14,
      "outputs": []
    },
    {
      "cell_type": "code",
      "metadata": {
        "id": "LaNG0mwLunEo"
      },
      "source": [
        ""
      ],
      "execution_count": null,
      "outputs": []
    }
  ]
}