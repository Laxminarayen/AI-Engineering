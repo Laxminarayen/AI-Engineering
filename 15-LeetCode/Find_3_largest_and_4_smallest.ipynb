{
  "nbformat": 4,
  "nbformat_minor": 0,
  "metadata": {
    "colab": {
      "name": "Find 3 largest and 4 smallest.ipynb",
      "provenance": [],
      "authorship_tag": "ABX9TyOlnDPTIhSaSO1KEJfD4F9G",
      "include_colab_link": true
    },
    "kernelspec": {
      "name": "python3",
      "display_name": "Python 3"
    },
    "language_info": {
      "name": "python"
    }
  },
  "cells": [
    {
      "cell_type": "markdown",
      "metadata": {
        "id": "view-in-github",
        "colab_type": "text"
      },
      "source": [
        "<a href=\"https://colab.research.google.com/github/plthiyagu/AI-Engineering/blob/master/15-LeetCode/Find_3_largest_and_4_smallest.ipynb\" target=\"_parent\"><img src=\"https://colab.research.google.com/assets/colab-badge.svg\" alt=\"Open In Colab\"/></a>"
      ]
    },
    {
      "cell_type": "code",
      "metadata": {
        "colab": {
          "base_uri": "https://localhost:8080/"
        },
        "id": "aLknC7EDuGv1",
        "outputId": "5c71cb83-f8b3-4189-d891-3fb6b9811a7f"
      },
      "source": [
        "import heapq\n",
        " \n",
        "grades = [110, 25, 38, 49, 20, 95, 33, 87, 80, 90]\n",
        "print(heapq.nlargest(3, grades))\n",
        "print(heapq.nsmallest(4, grades))"
      ],
      "execution_count": 1,
      "outputs": [
        {
          "output_type": "stream",
          "text": [
            "[110, 95, 90]\n",
            "[20, 25, 33, 38]\n"
          ],
          "name": "stdout"
        }
      ]
    },
    {
      "cell_type": "code",
      "metadata": {
        "id": "tQRBAhCvuLiM"
      },
      "source": [
        ""
      ],
      "execution_count": null,
      "outputs": []
    }
  ]
}