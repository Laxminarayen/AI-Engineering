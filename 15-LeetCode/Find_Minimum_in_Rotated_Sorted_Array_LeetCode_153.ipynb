{
  "nbformat": 4,
  "nbformat_minor": 0,
  "metadata": {
    "colab": {
      "name": "Find Minimum in Rotated Sorted Array LeetCode 153.ipynb",
      "provenance": [],
      "collapsed_sections": [],
      "authorship_tag": "ABX9TyMGTzgIEcPPZ/NEolhxBwMd",
      "include_colab_link": true
    },
    "kernelspec": {
      "name": "python3",
      "display_name": "Python 3"
    },
    "language_info": {
      "name": "python"
    }
  },
  "cells": [
    {
      "cell_type": "markdown",
      "metadata": {
        "id": "view-in-github",
        "colab_type": "text"
      },
      "source": [
        "<a href=\"https://colab.research.google.com/github/plthiyagu/AI-Engineering/blob/master/15-LeetCode/Find_Minimum_in_Rotated_Sorted_Array_LeetCode_153.ipynb\" target=\"_parent\"><img src=\"https://colab.research.google.com/assets/colab-badge.svg\" alt=\"Open In Colab\"/></a>"
      ]
    },
    {
      "cell_type": "code",
      "metadata": {
        "id": "0or6ienA-fO3"
      },
      "source": [
        "def findMin( nums):\n",
        "    \"\"\"\n",
        "    :type nums: List[int]\n",
        "    :rtype: int\n",
        "    \"\"\"\n",
        "    l, r = 0, len(nums) - 1\n",
        "    while l < r:\n",
        "        m = (l + r) // 2\n",
        "        if nums[m] < nums[r]:\n",
        "            r = m\n",
        "        elif nums[m] > nums[r]:\n",
        "            l = m + 1\n",
        "        else:\n",
        "            r -= 1\n",
        "    return nums[l]   "
      ],
      "execution_count": 1,
      "outputs": []
    },
    {
      "cell_type": "code",
      "metadata": {
        "colab": {
          "base_uri": "https://localhost:8080/"
        },
        "id": "zj-ocGl2-if_",
        "outputId": "1d821f45-7eed-4dba-9dcc-3a7b3ff60652"
      },
      "source": [
        "nums=[3,4,5,1,2]\n",
        "findMin( nums)"
      ],
      "execution_count": 2,
      "outputs": [
        {
          "output_type": "execute_result",
          "data": {
            "text/plain": [
              "1"
            ]
          },
          "metadata": {
            "tags": []
          },
          "execution_count": 2
        }
      ]
    },
    {
      "cell_type": "code",
      "metadata": {
        "id": "UDuezjM5-tUC"
      },
      "source": [
        ""
      ],
      "execution_count": null,
      "outputs": []
    }
  ]
}