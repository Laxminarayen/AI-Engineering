{
  "nbformat": 4,
  "nbformat_minor": 0,
  "metadata": {
    "colab": {
      "name": "981 Time Based Key-Value Store LeetCode.ipynb",
      "provenance": [],
      "authorship_tag": "ABX9TyNjJu+FfukY114NNj8bRfNk",
      "include_colab_link": true
    },
    "kernelspec": {
      "name": "python3",
      "display_name": "Python 3"
    },
    "language_info": {
      "name": "python"
    }
  },
  "cells": [
    {
      "cell_type": "markdown",
      "metadata": {
        "id": "view-in-github",
        "colab_type": "text"
      },
      "source": [
        "<a href=\"https://colab.research.google.com/github/plthiyagu/AI-Engineering/blob/master/15-LeetCode/981_Time_Based_Key_Value_Store_LeetCode.ipynb\" target=\"_parent\"><img src=\"https://colab.research.google.com/assets/colab-badge.svg\" alt=\"Open In Colab\"/></a>"
      ]
    },
    {
      "cell_type": "code",
      "metadata": {
        "id": "4eAw15EHxRqr"
      },
      "source": [
        "class TimeMap:\n",
        "\n",
        "    def __init__(self):\n",
        "        self.values = defaultdict(list)\n",
        "        self.timestamps = defaultdict(list)\n",
        "\n",
        "        \n",
        "\n",
        "    def set(self, key: str, value: str, timestamp: int) -> None:\n",
        "        self.values[key].append(value)\n",
        "        self.timestamps[key].append(timestamp)\n",
        "\n",
        "        \n",
        "\n",
        "    def get(self, key: str, timestamp: int) -> str:\n",
        "        if key not in self.timestamps:\n",
        "            return ''\n",
        "        i = bisect.bisect(self.timestamps[key], timestamp)\n",
        "        return self.values[key][i - 1] if i > 0 else ''\n",
        "\n",
        "        \n",
        "\n",
        "\n",
        "# Your TimeMap object will be instantiated and called as such:\n",
        "# obj = TimeMap()\n",
        "# obj.set(key,value,timestamp)\n",
        "# param_2 = obj.get(key,timestamp)"
      ],
      "execution_count": null,
      "outputs": []
    }
  ]
}