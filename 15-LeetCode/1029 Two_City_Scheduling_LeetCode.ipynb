{
  "nbformat": 4,
  "nbformat_minor": 0,
  "metadata": {
    "colab": {
      "name": "1029 Two City Scheduling LeetCode.ipynb",
      "provenance": [],
      "authorship_tag": "ABX9TyOxn/BcXMhjCsBPeVkigRuH",
      "include_colab_link": true
    },
    "kernelspec": {
      "name": "python3",
      "display_name": "Python 3"
    },
    "language_info": {
      "name": "python"
    }
  },
  "cells": [
    {
      "cell_type": "markdown",
      "metadata": {
        "id": "view-in-github",
        "colab_type": "text"
      },
      "source": [
        "<a href=\"https://colab.research.google.com/github/plthiyagu/AI-Engineering/blob/master/15-LeetCode/1029%20Two_City_Scheduling_LeetCode.ipynb\" target=\"_parent\"><img src=\"https://colab.research.google.com/assets/colab-badge.svg\" alt=\"Open In Colab\"/></a>"
      ]
    },
    {
      "cell_type": "code",
      "metadata": {
        "id": "fRsjpOO9m88E"
      },
      "source": [
        "import heapq\n",
        "def twoCitySchedCost(costs):\n",
        "    \"\"\"\n",
        "    :type costs: List[List[int]]\n",
        "    :rtype: int\n",
        "    \"\"\"\n",
        "    n = len(costs) // 2\n",
        "    res = 0\n",
        "    q = []\n",
        "    for i in range(n):\n",
        "        res += costs[i][0]\n",
        "        heapq.heappush(q, costs[i][1] - costs[i][0])\n",
        "    for i in range(n, 2 * n):\n",
        "        res += costs[i][0]\n",
        "        res += heapq.heappushpop(q, costs[i][1] - costs[i][0])\n",
        "    return res"
      ],
      "execution_count": 3,
      "outputs": []
    },
    {
      "cell_type": "code",
      "metadata": {
        "colab": {
          "base_uri": "https://localhost:8080/"
        },
        "id": "wSerEadrnA54",
        "outputId": "e340ad9f-db26-4ee6-feab-1c358147d885"
      },
      "source": [
        "costs = [[10,20],[30,200],[400,50],[30,20]]\n",
        "twoCitySchedCost(costs)"
      ],
      "execution_count": 4,
      "outputs": [
        {
          "output_type": "execute_result",
          "data": {
            "text/plain": [
              "110"
            ]
          },
          "metadata": {
            "tags": []
          },
          "execution_count": 4
        }
      ]
    },
    {
      "cell_type": "code",
      "metadata": {
        "id": "64s5aIV9nHxY"
      },
      "source": [
        ""
      ],
      "execution_count": null,
      "outputs": []
    }
  ]
}