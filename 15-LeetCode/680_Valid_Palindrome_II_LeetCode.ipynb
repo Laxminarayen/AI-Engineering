{
  "nbformat": 4,
  "nbformat_minor": 0,
  "metadata": {
    "colab": {
      "name": "680 Valid Palindrome II LeetCode.ipynb",
      "provenance": [],
      "authorship_tag": "ABX9TyMsrHhAiJnKhCxNbnFPXaJn",
      "include_colab_link": true
    },
    "kernelspec": {
      "name": "python3",
      "display_name": "Python 3"
    },
    "language_info": {
      "name": "python"
    }
  },
  "cells": [
    {
      "cell_type": "markdown",
      "metadata": {
        "id": "view-in-github",
        "colab_type": "text"
      },
      "source": [
        "<a href=\"https://colab.research.google.com/github/plthiyagu/AI-Engineering/blob/master/15-LeetCode/680_Valid_Palindrome_II_LeetCode.ipynb\" target=\"_parent\"><img src=\"https://colab.research.google.com/assets/colab-badge.svg\" alt=\"Open In Colab\"/></a>"
      ]
    },
    {
      "cell_type": "code",
      "metadata": {
        "id": "aFY6PkTUMtXE"
      },
      "source": [
        "def validPalindrome( s: str) -> bool:\n",
        "    isPalindrome = lambda x: x ==x[::-1]\n",
        "    left,right =0,len(s)-1\n",
        "    \n",
        "    while left <= right:\n",
        "        if s[left] ==s[right]:\n",
        "            left += 1\n",
        "            right -= 1\n",
        "        else:\n",
        "            return isPalindrome(s[left+1:right+1] ) or isPalindrome(s[left:right])\n",
        "        \n",
        "    return True\n",
        "            \n",
        "    "
      ],
      "execution_count": 1,
      "outputs": []
    },
    {
      "cell_type": "code",
      "metadata": {
        "colab": {
          "base_uri": "https://localhost:8080/"
        },
        "id": "2kbTxaVFMxok",
        "outputId": "493ff3c3-99cb-4cde-d337-e023b403e7b5"
      },
      "source": [
        "s=\"aba\"\n",
        "validPalindrome(s)"
      ],
      "execution_count": 3,
      "outputs": [
        {
          "output_type": "execute_result",
          "data": {
            "text/plain": [
              "True"
            ]
          },
          "metadata": {},
          "execution_count": 3
        }
      ]
    },
    {
      "cell_type": "code",
      "metadata": {
        "id": "pRp7UE0TM01b"
      },
      "source": [
        ""
      ],
      "execution_count": null,
      "outputs": []
    }
  ]
}