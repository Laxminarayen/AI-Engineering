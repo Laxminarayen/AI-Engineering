{
  "nbformat": 4,
  "nbformat_minor": 0,
  "metadata": {
    "colab": {
      "name": "442 Find All Duplicates in an Array LeetCode.ipynb",
      "provenance": [],
      "collapsed_sections": [],
      "authorship_tag": "ABX9TyOIf73BH6xL3ewCt/y3AzND",
      "include_colab_link": true
    },
    "kernelspec": {
      "name": "python3",
      "display_name": "Python 3"
    },
    "language_info": {
      "name": "python"
    }
  },
  "cells": [
    {
      "cell_type": "markdown",
      "metadata": {
        "id": "view-in-github",
        "colab_type": "text"
      },
      "source": [
        "<a href=\"https://colab.research.google.com/github/plthiyagu/AI-Engineering/blob/master/15-LeetCode/442%20Find_All_Duplicates_in_an_Array_LeetCode.ipynb\" target=\"_parent\"><img src=\"https://colab.research.google.com/assets/colab-badge.svg\" alt=\"Open In Colab\"/></a>"
      ]
    },
    {
      "cell_type": "code",
      "metadata": {
        "id": "HxlFX9ct6mv9"
      },
      "source": [
        "def findDuplicates( nums):\n",
        "    \"\"\"\n",
        "    :type nums: List[int]\n",
        "    :rtype: List[int]\n",
        "    \"\"\"\n",
        "    res = []\n",
        "    for i in range(len(nums)):\n",
        "        ind = abs(nums[i]) - 1\n",
        "        if nums[ind] < 0:\n",
        "            res.append(ind + 1)\n",
        "        else:\n",
        "            nums[ind] *= -1\n",
        "    return res"
      ],
      "execution_count": 1,
      "outputs": []
    },
    {
      "cell_type": "code",
      "metadata": {
        "colab": {
          "base_uri": "https://localhost:8080/"
        },
        "id": "9b68XLsF6p7K",
        "outputId": "8e211470-fac8-4939-ada6-16393211a75b"
      },
      "source": [
        "nums = [4,3,2,7,8,2,3,1]\n",
        "findDuplicates( nums)"
      ],
      "execution_count": 2,
      "outputs": [
        {
          "output_type": "execute_result",
          "data": {
            "text/plain": [
              "[2, 3]"
            ]
          },
          "metadata": {
            "tags": []
          },
          "execution_count": 2
        }
      ]
    },
    {
      "cell_type": "code",
      "metadata": {
        "id": "ZetVYM1h62dW"
      },
      "source": [
        ""
      ],
      "execution_count": null,
      "outputs": []
    }
  ]
}