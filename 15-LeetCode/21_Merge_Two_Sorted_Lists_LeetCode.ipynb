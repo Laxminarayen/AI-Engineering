{
  "nbformat": 4,
  "nbformat_minor": 0,
  "metadata": {
    "colab": {
      "name": "21 Merge Two Sorted Lists LeetCode.ipynb",
      "provenance": [],
      "authorship_tag": "ABX9TyMsGKs21A3j6QaV6gwzemNz",
      "include_colab_link": true
    },
    "kernelspec": {
      "name": "python3",
      "display_name": "Python 3"
    },
    "language_info": {
      "name": "python"
    }
  },
  "cells": [
    {
      "cell_type": "markdown",
      "metadata": {
        "id": "view-in-github",
        "colab_type": "text"
      },
      "source": [
        "<a href=\"https://colab.research.google.com/github/plthiyagu/AI-Engineering/blob/master/15-LeetCode/21_Merge_Two_Sorted_Lists_LeetCode.ipynb\" target=\"_parent\"><img src=\"https://colab.research.google.com/assets/colab-badge.svg\" alt=\"Open In Colab\"/></a>"
      ]
    },
    {
      "cell_type": "code",
      "metadata": {
        "id": "jNDe-8FxA75A"
      },
      "source": [
        "# Definition for singly-linked list.\n",
        "class ListNode:\n",
        "    def __init__(self, val=0, next=None):\n",
        "        self.val = val\n",
        "        self.next = next\n",
        "class Solution:\n",
        "    def mergeTwoLists(self, l1: Optional[ListNode], l2: Optional[ListNode]) -> Optional[ListNode]:\n",
        "        \n",
        "        head = new_list = ListNode(0)\n",
        "        \n",
        "        while(l1 and l2):\n",
        "            if (l1.val < l2.val):\n",
        "                new_list.next = l1\n",
        "                l1 = l1.next  \n",
        "            else:\n",
        "                new_list.next = l2\n",
        "                l2 = l2.next\n",
        "            new_list = new_list.next\n",
        "\n",
        "        new_list.next = l1 or l2\n",
        "        return head.next"
      ],
      "execution_count": null,
      "outputs": []
    },
    {
      "cell_type": "code",
      "metadata": {
        "id": "p8v2vWedBBLZ"
      },
      "source": [
        ""
      ],
      "execution_count": null,
      "outputs": []
    }
  ]
}