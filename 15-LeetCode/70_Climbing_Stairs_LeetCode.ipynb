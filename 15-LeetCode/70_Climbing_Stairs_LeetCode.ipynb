{
  "nbformat": 4,
  "nbformat_minor": 0,
  "metadata": {
    "colab": {
      "name": "70 Climbing Stairs LeetCode.ipynb",
      "provenance": [],
      "authorship_tag": "ABX9TyPS1CAYG95RPmz0WumHm4jR",
      "include_colab_link": true
    },
    "kernelspec": {
      "name": "python3",
      "display_name": "Python 3"
    },
    "language_info": {
      "name": "python"
    }
  },
  "cells": [
    {
      "cell_type": "markdown",
      "metadata": {
        "id": "view-in-github",
        "colab_type": "text"
      },
      "source": [
        "<a href=\"https://colab.research.google.com/github/plthiyagu/AI-Engineering/blob/master/15-LeetCode/70_Climbing_Stairs_LeetCode.ipynb\" target=\"_parent\"><img src=\"https://colab.research.google.com/assets/colab-badge.svg\" alt=\"Open In Colab\"/></a>"
      ]
    },
    {
      "cell_type": "code",
      "metadata": {
        "id": "o4KPU_vVdcaN"
      },
      "source": [
        "def climbStairs(n: int) -> int:\n",
        "    if n == 1 or n == 2:\n",
        "        return n\n",
        "\n",
        "    prevPrev = 1\n",
        "    prev = 2\n",
        "    current = 0\n",
        "\n",
        "    for step in range(3, n+1):\n",
        "        # Calculate Number of Ways to Reach Current Step\n",
        "        current = prevPrev + prev\n",
        "        # Update Pointers for Next Step\n",
        "        prevPrev = prev\n",
        "        prev = current\n",
        "    return current"
      ],
      "execution_count": 1,
      "outputs": []
    },
    {
      "cell_type": "code",
      "metadata": {
        "colab": {
          "base_uri": "https://localhost:8080/"
        },
        "id": "LEFkY4cQAjFF",
        "outputId": "b996cdb4-f1b2-45ba-beea-abf615530420"
      },
      "source": [
        "n=3\n",
        "climbStairs(3)"
      ],
      "execution_count": 2,
      "outputs": [
        {
          "output_type": "execute_result",
          "data": {
            "text/plain": [
              "3"
            ]
          },
          "metadata": {},
          "execution_count": 2
        }
      ]
    },
    {
      "cell_type": "code",
      "metadata": {
        "id": "YFrDyte_Aobu"
      },
      "source": [
        ""
      ],
      "execution_count": null,
      "outputs": []
    }
  ]
}