{
  "nbformat": 4,
  "nbformat_minor": 0,
  "metadata": {
    "colab": {
      "name": "Leetcode Maximal Rectangle 85.ipynb",
      "provenance": [],
      "authorship_tag": "ABX9TyOVqX3mc6mofjPZFnhemkBS",
      "include_colab_link": true
    },
    "kernelspec": {
      "name": "python3",
      "display_name": "Python 3"
    },
    "language_info": {
      "name": "python"
    }
  },
  "cells": [
    {
      "cell_type": "markdown",
      "metadata": {
        "id": "view-in-github",
        "colab_type": "text"
      },
      "source": [
        "<a href=\"https://colab.research.google.com/github/plthiyagu/AI-Engineering/blob/master/15-LeetCode/Leetcode_Maximal_Rectangle_85.ipynb\" target=\"_parent\"><img src=\"https://colab.research.google.com/assets/colab-badge.svg\" alt=\"Open In Colab\"/></a>"
      ]
    },
    {
      "cell_type": "code",
      "metadata": {
        "id": "Cs80spKDhVMg"
      },
      "source": [
        "def largestRectangleArea(heights):\n",
        "    \"\"\"\n",
        "    :type heights: List[int]\n",
        "    :rtype: int\n",
        "    \"\"\"\n",
        "    stack = []\n",
        "    i = 0\n",
        "    area = 0\n",
        "\n",
        "    while i < len(heights):\n",
        "        if stack == [] or heights[i] > heights[stack[len(stack) - 1]]:\n",
        "            stack.append(i)\n",
        "        else:\n",
        "            cur = stack.pop()\n",
        "            if stack == []:\n",
        "                width = i\n",
        "            else:\n",
        "                width = i - stack[len(stack) - 1] - 1\n",
        "            area = max(area, width * heights[cur])\n",
        "            i -= 1\n",
        "        i += 1\n",
        "\n",
        "    while stack != []:\n",
        "        cur = stack.pop()\n",
        "        if stack == []:\n",
        "            width = i\n",
        "        else:\n",
        "            width = len(heights) - stack[len(stack) - 1] - 1\n",
        "        area = max(area, width * heights[cur])\n",
        "\n",
        "    return area\n",
        "\n",
        "def maximalRectangle( matrix):\n",
        "    \"\"\"\n",
        "    :type matrix: List[List[str]]\n",
        "    :rtype: int\n",
        "    \"\"\"\n",
        "    if matrix == []:\n",
        "        return 0\n",
        "    a = [0 for i in range(len(matrix[0]))]\n",
        "    maxArea = 0\n",
        "    for i in range(len(matrix)):\n",
        "        for j in range(len(matrix[i])):\n",
        "            if matrix[i][j] == '1':\n",
        "                a[j] = a[j] + 1\n",
        "            else:\n",
        "                a[j] = 0\n",
        "        maxArea = max(maxArea, largestRectangleArea(a))\n",
        "    return maxArea"
      ],
      "execution_count": 5,
      "outputs": []
    },
    {
      "cell_type": "code",
      "metadata": {
        "colab": {
          "base_uri": "https://localhost:8080/"
        },
        "id": "gpnyRlKojhPQ",
        "outputId": "746e66a0-6f7a-46a0-efd3-7bc504f3329b"
      },
      "source": [
        "matrix=[[\"1\",\"0\",\"1\",\"0\",\"0\"],[\"1\",\"0\",\"1\",\"1\",\"1\"],[\"1\",\"1\",\"1\",\"1\",\"1\"],[\"1\",\"0\",\"0\",\"1\",\"0\"]]\n",
        "maximalRectangle( matrix)"
      ],
      "execution_count": 6,
      "outputs": [
        {
          "output_type": "execute_result",
          "data": {
            "text/plain": [
              "6"
            ]
          },
          "metadata": {
            "tags": []
          },
          "execution_count": 6
        }
      ]
    },
    {
      "cell_type": "code",
      "metadata": {
        "id": "P0Zl4XRbjo2d"
      },
      "source": [
        ""
      ],
      "execution_count": null,
      "outputs": []
    }
  ]
}