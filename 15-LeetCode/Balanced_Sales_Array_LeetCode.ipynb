{
  "nbformat": 4,
  "nbformat_minor": 0,
  "metadata": {
    "colab": {
      "name": "Balanced Sales Array LeetCode.ipynb",
      "provenance": [],
      "authorship_tag": "ABX9TyMNqZE7HKG1ier81iG7Q53O",
      "include_colab_link": true
    },
    "kernelspec": {
      "name": "python3",
      "display_name": "Python 3"
    },
    "language_info": {
      "name": "python"
    }
  },
  "cells": [
    {
      "cell_type": "markdown",
      "metadata": {
        "id": "view-in-github",
        "colab_type": "text"
      },
      "source": [
        "<a href=\"https://colab.research.google.com/github/plthiyagu/AI-Engineering/blob/master/15-LeetCode/Balanced_Sales_Array_LeetCode.ipynb\" target=\"_parent\"><img src=\"https://colab.research.google.com/assets/colab-badge.svg\" alt=\"Open In Colab\"/></a>"
      ]
    },
    {
      "cell_type": "code",
      "metadata": {
        "id": "pSlgWnoC4Xdv"
      },
      "source": [
        "def balancedSalesAray(arr):\n",
        "    ls=0\n",
        "    ls_arr=[] \n",
        "    rs_arr=[] \n",
        "    ts=sum(arr)\n",
        "\n",
        "    for i in range(len(arr)):\n",
        "        ls+=arr[i]\n",
        "        ls_arr.append(ls-arr[i])\n",
        "        rs_arr.append(ts-ls_arr[i]-arr[i])\n",
        "        \n",
        "    for i in range(len(arr)):\n",
        "        if(ls_arr[i]==rs_arr[i]):\n",
        "            return(i)\n",
        "            break"
      ],
      "execution_count": 1,
      "outputs": []
    },
    {
      "cell_type": "code",
      "metadata": {
        "colab": {
          "base_uri": "https://localhost:8080/"
        },
        "id": "ueubM7Mp4hOc",
        "outputId": "d9ecb02d-c6d0-469d-dae6-564c24849377"
      },
      "source": [
        "balancedSalesAray([1,2,3,3])"
      ],
      "execution_count": 2,
      "outputs": [
        {
          "output_type": "execute_result",
          "data": {
            "text/plain": [
              "2"
            ]
          },
          "metadata": {},
          "execution_count": 2
        }
      ]
    },
    {
      "cell_type": "code",
      "metadata": {
        "id": "21sHmCP84m4y"
      },
      "source": [
        ""
      ],
      "execution_count": null,
      "outputs": []
    }
  ]
}