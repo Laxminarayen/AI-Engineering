{
  "nbformat": 4,
  "nbformat_minor": 0,
  "metadata": {
    "colab": {
      "name": "242 Valid Anagram LeetCode.ipynb",
      "provenance": [],
      "authorship_tag": "ABX9TyOmWKitgfGfCMM/45lo4R0I",
      "include_colab_link": true
    },
    "kernelspec": {
      "name": "python3",
      "display_name": "Python 3"
    },
    "language_info": {
      "name": "python"
    }
  },
  "cells": [
    {
      "cell_type": "markdown",
      "metadata": {
        "id": "view-in-github",
        "colab_type": "text"
      },
      "source": [
        "<a href=\"https://colab.research.google.com/github/plthiyagu/AI-Engineering/blob/master/15-LeetCode/242%20Valid_Anagram_LeetCode.ipynb\" target=\"_parent\"><img src=\"https://colab.research.google.com/assets/colab-badge.svg\" alt=\"Open In Colab\"/></a>"
      ]
    },
    {
      "cell_type": "code",
      "metadata": {
        "id": "L8Cv0UA5SthA"
      },
      "source": [
        "def isAnagram(s, t):\n",
        "    \"\"\"\n",
        "    :type s: str\n",
        "    :type t: str\n",
        "    :rtype: bool\n",
        "    \"\"\"\n",
        "    if len(s) != len(t):\n",
        "        return False\n",
        "    \n",
        "    counter = {}\n",
        "    \n",
        "    for char in s:\n",
        "        if char not in counter:\n",
        "            counter[char] = 1\n",
        "        else:\n",
        "            counter[char] += 1\n",
        "        \n",
        "    for char in t:\n",
        "        if char not in counter:\n",
        "            return False\n",
        "        else:\n",
        "            counter[char] -= 1\n",
        "    \n",
        "    for key, value in counter.items():\n",
        "        if value != 0:\n",
        "            return False            \n",
        "    \n",
        "    return True"
      ],
      "execution_count": 2,
      "outputs": []
    },
    {
      "cell_type": "code",
      "metadata": {
        "colab": {
          "base_uri": "https://localhost:8080/"
        },
        "id": "VROV8Z5JSxJx",
        "outputId": "d47370e9-0e28-492b-c03f-6f256c6cb46f"
      },
      "source": [
        "s = \"anagram\"\n",
        "t = \"nagaram\"\n",
        "isAnagram(s, t)"
      ],
      "execution_count": 3,
      "outputs": [
        {
          "output_type": "execute_result",
          "data": {
            "text/plain": [
              "True"
            ]
          },
          "metadata": {
            "tags": []
          },
          "execution_count": 3
        }
      ]
    },
    {
      "cell_type": "code",
      "metadata": {
        "id": "hBcq4ugRS7py"
      },
      "source": [
        ""
      ],
      "execution_count": null,
      "outputs": []
    }
  ]
}