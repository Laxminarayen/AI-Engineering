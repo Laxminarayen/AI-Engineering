{
  "nbformat": 4,
  "nbformat_minor": 0,
  "metadata": {
    "colab": {
      "name": " Reorder Data in Log Files 937 Leetcode.ipynb",
      "provenance": [],
      "authorship_tag": "ABX9TyNSMlgbZ66uDUbQfyudDIxj",
      "include_colab_link": true
    },
    "kernelspec": {
      "name": "python3",
      "display_name": "Python 3"
    },
    "language_info": {
      "name": "python"
    }
  },
  "cells": [
    {
      "cell_type": "markdown",
      "metadata": {
        "id": "view-in-github",
        "colab_type": "text"
      },
      "source": [
        "<a href=\"https://colab.research.google.com/github/plthiyagu/AI-Engineering/blob/master/22-LeetCode/Reorder_Data_in_Log_Files_937_Leetcode.ipynb\" target=\"_parent\"><img src=\"https://colab.research.google.com/assets/colab-badge.svg\" alt=\"Open In Colab\"/></a>"
      ]
    },
    {
      "cell_type": "code",
      "metadata": {
        "id": "2fnxlQ1BU6j2"
      },
      "source": [
        "def reorderLogFiles(logs):\n",
        "    \"\"\"\n",
        "    :type logs: List[str]\n",
        "    :rtype: List[str]\n",
        "    \"\"\"\n",
        "    \n",
        "    res1,res2=[],[]\n",
        "    \n",
        "    for log in logs:\n",
        "        if (log.split()[1]).isdigit():\n",
        "            res2.append(log)\n",
        "        else:\n",
        "            res1.append(log.split())\n",
        "    res1.sort(key= lambda x: x[0])\n",
        "    res1.sort(key= lambda x: x[1:])\n",
        "    \n",
        "    \n",
        "    for i in range(len(res1)):\n",
        "        res1[i]=(\" \".join(res1[i]))\n",
        "    res1.extend(res2)\n",
        "    \n",
        "    return res1"
      ],
      "execution_count": 3,
      "outputs": []
    },
    {
      "cell_type": "code",
      "metadata": {
        "colab": {
          "base_uri": "https://localhost:8080/"
        },
        "id": "T3w4LuftVADC",
        "outputId": "aeb58484-6af7-4266-80a4-a8a7edbcc365"
      },
      "source": [
        "logs=[\"dig1 8 1 5 1\",\"let1 art can\",\"dig2 3 6\",\"let2 own kit dig\",\"let3 art zero\"]\n",
        "reorderLogFiles(logs)"
      ],
      "execution_count": 4,
      "outputs": [
        {
          "output_type": "execute_result",
          "data": {
            "text/plain": [
              "['let1 art can',\n",
              " 'let3 art zero',\n",
              " 'let2 own kit dig',\n",
              " 'dig1 8 1 5 1',\n",
              " 'dig2 3 6']"
            ]
          },
          "metadata": {
            "tags": []
          },
          "execution_count": 4
        }
      ]
    },
    {
      "cell_type": "code",
      "metadata": {
        "id": "IuUWQ8eLVRv-"
      },
      "source": [
        ""
      ],
      "execution_count": null,
      "outputs": []
    }
  ]
}