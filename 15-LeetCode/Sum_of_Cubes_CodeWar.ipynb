{
  "nbformat": 4,
  "nbformat_minor": 0,
  "metadata": {
    "colab": {
      "name": "Sum of Cubes CodeWar.ipynb",
      "provenance": [],
      "authorship_tag": "ABX9TyP6iVpgibWwftIVLqzmapFa",
      "include_colab_link": true
    },
    "kernelspec": {
      "name": "python3",
      "display_name": "Python 3"
    },
    "language_info": {
      "name": "python"
    }
  },
  "cells": [
    {
      "cell_type": "markdown",
      "metadata": {
        "id": "view-in-github",
        "colab_type": "text"
      },
      "source": [
        "<a href=\"https://colab.research.google.com/github/plthiyagu/AI-Engineering/blob/master/15-LeetCode/Sum_of_Cubes_CodeWar.ipynb\" target=\"_parent\"><img src=\"https://colab.research.google.com/assets/colab-badge.svg\" alt=\"Open In Colab\"/></a>"
      ]
    },
    {
      "cell_type": "code",
      "metadata": {
        "id": "aER98GdEmMrl"
      },
      "source": [
        "def sum_cubes(n):\n",
        "    # your code here\n",
        "    return sum(map(lambda x: x**3, range(1, n+1)))"
      ],
      "execution_count": 1,
      "outputs": []
    },
    {
      "cell_type": "code",
      "metadata": {
        "colab": {
          "base_uri": "https://localhost:8080/"
        },
        "id": "7MVgmk_jmNyV",
        "outputId": "004f1692-9bdb-4df9-8ff9-eed4f0830950"
      },
      "source": [
        "sum_cubes(3)"
      ],
      "execution_count": 3,
      "outputs": [
        {
          "output_type": "execute_result",
          "data": {
            "text/plain": [
              "36"
            ]
          },
          "metadata": {
            "tags": []
          },
          "execution_count": 3
        }
      ]
    },
    {
      "cell_type": "code",
      "metadata": {
        "id": "uOj9cIbJmQXK"
      },
      "source": [
        "def sum_cubes(n):\n",
        "    return sum(i**3 for i in range(0,n+1))"
      ],
      "execution_count": 4,
      "outputs": []
    },
    {
      "cell_type": "code",
      "metadata": {
        "id": "PgKhlUNqmZlK"
      },
      "source": [
        "def sum_cubes(n):\n",
        "    return (n*(n+1)/2)**2"
      ],
      "execution_count": 5,
      "outputs": []
    },
    {
      "cell_type": "code",
      "metadata": {
        "id": "eJAOEyhVmcnu"
      },
      "source": [
        "def sum_cubes(n):\n",
        "    return sum(x ** 3 for x in range(n+1))"
      ],
      "execution_count": 6,
      "outputs": []
    },
    {
      "cell_type": "code",
      "metadata": {
        "id": "KH4CaIammf2h"
      },
      "source": [
        ""
      ],
      "execution_count": null,
      "outputs": []
    }
  ]
}