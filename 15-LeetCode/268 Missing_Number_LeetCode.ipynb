{
  "nbformat": 4,
  "nbformat_minor": 0,
  "metadata": {
    "colab": {
      "name": "268 Missing_Number_LeetCode.ipynb",
      "provenance": [],
      "authorship_tag": "ABX9TyM3qGvx+PDAKQeaKRtCKNiG",
      "include_colab_link": true
    },
    "kernelspec": {
      "name": "python3",
      "display_name": "Python 3"
    },
    "language_info": {
      "name": "python"
    }
  },
  "cells": [
    {
      "cell_type": "markdown",
      "metadata": {
        "id": "view-in-github",
        "colab_type": "text"
      },
      "source": [
        "<a href=\"https://colab.research.google.com/github/plthiyagu/AI-Engineering/blob/master/15-LeetCode/268%20Missing_Number_LeetCode.ipynb\" target=\"_parent\"><img src=\"https://colab.research.google.com/assets/colab-badge.svg\" alt=\"Open In Colab\"/></a>"
      ]
    },
    {
      "cell_type": "code",
      "metadata": {
        "id": "TW8V89XwOKnR"
      },
      "source": [
        "def missingNumber( nums):\n",
        "    return (len(nums) + 1) * len(nums) // 2 - sum(nums)"
      ],
      "execution_count": 2,
      "outputs": []
    },
    {
      "cell_type": "code",
      "metadata": {
        "colab": {
          "base_uri": "https://localhost:8080/"
        },
        "id": "l3J5jMThOw7f",
        "outputId": "4c00a4fd-68d0-492e-85d2-b6c355346426"
      },
      "source": [
        "nums = [3,0,1]\n",
        "missingNumber( nums)"
      ],
      "execution_count": 3,
      "outputs": [
        {
          "output_type": "execute_result",
          "data": {
            "text/plain": [
              "2"
            ]
          },
          "metadata": {
            "tags": []
          },
          "execution_count": 3
        }
      ]
    },
    {
      "cell_type": "code",
      "metadata": {
        "id": "37F_68hMOMjN"
      },
      "source": [
        "def missingNumber( nums):\n",
        "    \"\"\"\n",
        "    :type nums: List[int]\n",
        "    :rtype: int\n",
        "    \"\"\"\n",
        "    res =len(nums)\n",
        "    for i in range(len(nums)):\n",
        "        res += (i- nums[i])\n",
        "    return res"
      ],
      "execution_count": null,
      "outputs": []
    }
  ]
}