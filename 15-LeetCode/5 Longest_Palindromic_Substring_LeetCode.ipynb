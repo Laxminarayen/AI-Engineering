{
  "nbformat": 4,
  "nbformat_minor": 0,
  "metadata": {
    "colab": {
      "name": "5 Longest Palindromic Substring LeetCode.ipynb",
      "provenance": [],
      "authorship_tag": "ABX9TyOYwuUiYFrfOOZoOaAOiyKI",
      "include_colab_link": true
    },
    "kernelspec": {
      "name": "python3",
      "display_name": "Python 3"
    },
    "language_info": {
      "name": "python"
    }
  },
  "cells": [
    {
      "cell_type": "markdown",
      "metadata": {
        "id": "view-in-github",
        "colab_type": "text"
      },
      "source": [
        "<a href=\"https://colab.research.google.com/github/plthiyagu/AI-Engineering/blob/master/15-LeetCode/5%20Longest_Palindromic_Substring_LeetCode.ipynb\" target=\"_parent\"><img src=\"https://colab.research.google.com/assets/colab-badge.svg\" alt=\"Open In Colab\"/></a>"
      ]
    },
    {
      "cell_type": "code",
      "metadata": {
        "id": "k5083fhhTl98"
      },
      "source": [
        "def longestPalindrome( s):\n",
        "    \"\"\"\n",
        "    :type s: str\n",
        "    :rtype: str\n",
        "    \"\"\"\n",
        "    l = len(s)\n",
        "    if l < 2:\n",
        "        return s\n",
        "    i = st = maxl = 0\n",
        "    while i < l:\n",
        "        if l - i <= maxl / 2:\n",
        "            break\n",
        "        j = k = i\n",
        "        while k < l - 1 and s[k + 1] == s[k]:\n",
        "            k += 1\n",
        "        i = k + 1\n",
        "        while k < l - 1 and j > 0 and s[k + 1] == s[j - 1]:\n",
        "            k += 1\n",
        "            j -= 1\n",
        "        tmp = k - j + 1\n",
        "        if tmp > maxl:\n",
        "            st = j\n",
        "            maxl = tmp\n",
        "    return s[st: st + maxl]\n"
      ],
      "execution_count": 1,
      "outputs": []
    },
    {
      "cell_type": "code",
      "metadata": {
        "colab": {
          "base_uri": "https://localhost:8080/",
          "height": 35
        },
        "id": "Ta79LjufTpU2",
        "outputId": "4e5f2ede-a523-4977-d4c8-591a7560e45e"
      },
      "source": [
        "s = \"babad\"\n",
        "longestPalindrome( s)"
      ],
      "execution_count": 2,
      "outputs": [
        {
          "output_type": "execute_result",
          "data": {
            "application/vnd.google.colaboratory.intrinsic+json": {
              "type": "string"
            },
            "text/plain": [
              "'bab'"
            ]
          },
          "metadata": {
            "tags": []
          },
          "execution_count": 2
        }
      ]
    },
    {
      "cell_type": "code",
      "metadata": {
        "id": "ZcYVYuYbTu0N"
      },
      "source": [
        ""
      ],
      "execution_count": null,
      "outputs": []
    }
  ]
}