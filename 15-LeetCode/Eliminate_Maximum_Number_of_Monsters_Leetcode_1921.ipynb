{
  "nbformat": 4,
  "nbformat_minor": 0,
  "metadata": {
    "colab": {
      "name": "Eliminate Maximum Number of Monsters - Leetcode 1921.ipynb",
      "provenance": [],
      "authorship_tag": "ABX9TyMfr+K07ydS/9AtuB7tfL8h",
      "include_colab_link": true
    },
    "kernelspec": {
      "name": "python3",
      "display_name": "Python 3"
    },
    "language_info": {
      "name": "python"
    }
  },
  "cells": [
    {
      "cell_type": "markdown",
      "metadata": {
        "id": "view-in-github",
        "colab_type": "text"
      },
      "source": [
        "<a href=\"https://colab.research.google.com/github/plthiyagu/AI-Engineering/blob/master/22-LeetCode/Eliminate_Maximum_Number_of_Monsters_Leetcode_1921.ipynb\" target=\"_parent\"><img src=\"https://colab.research.google.com/assets/colab-badge.svg\" alt=\"Open In Colab\"/></a>"
      ]
    },
    {
      "cell_type": "markdown",
      "metadata": {
        "id": "ghkgY6_iWhd9"
      },
      "source": [
        "https://www.youtube.com/watch?v=6QQRayzOTD4"
      ]
    },
    {
      "cell_type": "code",
      "metadata": {
        "id": "gVdOY215whDR"
      },
      "source": [
        "import math\n",
        "def eliminateMaximum(dist, speed):\n",
        "    \"\"\"\n",
        "    :type dist: List[int]\n",
        "    :type speed: List[int]\n",
        "    :rtype: int\n",
        "    \"\"\"\n",
        "    \n",
        "    minReach =[]\n",
        "    \n",
        "    for d,s in zip(dist,speed):\n",
        "        mintue= math.ceil(d/s)\n",
        "        minReach.append(mintue)\n",
        "        \n",
        "    minReach.sort()\n",
        "    res=0\n",
        "    for mintue in range(len(minReach)):\n",
        "        if mintue >= minReach[mintue]:\n",
        "            return res\n",
        "        res +=1\n",
        "    return res"
      ],
      "execution_count": 3,
      "outputs": []
    },
    {
      "cell_type": "code",
      "metadata": {
        "colab": {
          "base_uri": "https://localhost:8080/"
        },
        "id": "BjiCK0oJWB9x",
        "outputId": "f760cce8-6e57-4c83-db5c-9a3669202730"
      },
      "source": [
        "dist=[1,3,4]\n",
        "speed=[1,1,1]\n",
        "eliminateMaximum(dist, speed)"
      ],
      "execution_count": 4,
      "outputs": [
        {
          "output_type": "execute_result",
          "data": {
            "text/plain": [
              "3"
            ]
          },
          "metadata": {
            "tags": []
          },
          "execution_count": 4
        }
      ]
    },
    {
      "cell_type": "code",
      "metadata": {
        "id": "q5FcpqSCWbGc"
      },
      "source": [
        ""
      ],
      "execution_count": null,
      "outputs": []
    }
  ]
}