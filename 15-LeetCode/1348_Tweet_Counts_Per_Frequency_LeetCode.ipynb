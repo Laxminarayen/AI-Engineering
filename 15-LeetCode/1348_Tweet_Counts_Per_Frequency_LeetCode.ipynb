{
  "nbformat": 4,
  "nbformat_minor": 0,
  "metadata": {
    "colab": {
      "name": "1348 Tweet Counts Per Frequency LeetCode.ipynb",
      "provenance": [],
      "authorship_tag": "ABX9TyMSjxpNiRud9tUwAhYzavvw",
      "include_colab_link": true
    },
    "kernelspec": {
      "name": "python3",
      "display_name": "Python 3"
    },
    "language_info": {
      "name": "python"
    }
  },
  "cells": [
    {
      "cell_type": "markdown",
      "metadata": {
        "id": "view-in-github",
        "colab_type": "text"
      },
      "source": [
        "<a href=\"https://colab.research.google.com/github/plthiyagu/AI-Engineering/blob/master/15-LeetCode/1348_Tweet_Counts_Per_Frequency_LeetCode.ipynb\" target=\"_parent\"><img src=\"https://colab.research.google.com/assets/colab-badge.svg\" alt=\"Open In Colab\"/></a>"
      ]
    },
    {
      "cell_type": "code",
      "metadata": {
        "id": "rdJZaFaf-SX0"
      },
      "source": [
        "class TweetCounts:\n",
        "    MAP = {\n",
        "            'minute': 60,\n",
        "            'hour': 60 * 60,\n",
        "            'day': 24 * 60 * 60\n",
        "            }\n",
        "\n",
        "\n",
        "    def __init__(self):\n",
        "        self.data = defaultdict(list)\n",
        "\n",
        "        \n",
        "\n",
        "    def recordTweet(self, tweetName: str, time: int) -> None:\n",
        "        self.data[tweetName].append(time)\n",
        "        self.data[tweetName].sort()\n",
        "\n",
        "        \n",
        "\n",
        "    def getTweetCountsPerFrequency(self, freq: str, tweetName: str, startTime: int, endTime: int) -> List[int]:\n",
        "        data = self.data[tweetName]\n",
        "        index = 0\n",
        "\n",
        "        while index < len(data) and data[index] < startTime:\n",
        "            index += 1\n",
        "\n",
        "        ans = []\n",
        "        tmp = 0\n",
        "        k = 0\n",
        "        delta = self.MAP[freq]\n",
        "        while startTime + k * delta <= endTime:\n",
        "            end = min(startTime + delta * (k + 1), endTime + 1)\n",
        "            if index >= len(data) or data[index] >= end:\n",
        "                ans.append(tmp)\n",
        "                tmp = 0\n",
        "                k += 1\n",
        "            else:\n",
        "                tmp += 1\n",
        "                index += 1\n",
        "        return ans\n",
        "\n",
        "        \n",
        "\n",
        "\n",
        "# Your TweetCounts object will be instantiated and called as such:\n",
        "# obj = TweetCounts()\n",
        "# obj.recordTweet(tweetName,time)\n",
        "# param_2 = obj.getTweetCountsPerFrequency(freq,tweetName,startTime,endTime)"
      ],
      "execution_count": null,
      "outputs": []
    }
  ]
}