{
  "nbformat": 4,
  "nbformat_minor": 0,
  "metadata": {
    "colab": {
      "name": "300 Longest Increasing Subsequence LeetCode.ipynb",
      "provenance": [],
      "authorship_tag": "ABX9TyOB15Fcv8z3Tg/cGZaksQFv",
      "include_colab_link": true
    },
    "kernelspec": {
      "name": "python3",
      "display_name": "Python 3"
    },
    "language_info": {
      "name": "python"
    }
  },
  "cells": [
    {
      "cell_type": "markdown",
      "metadata": {
        "id": "view-in-github",
        "colab_type": "text"
      },
      "source": [
        "<a href=\"https://colab.research.google.com/github/plthiyagu/AI-Engineering/blob/master/15-LeetCode/300%20Longest_Increasing_Subsequence_LeetCode.ipynb\" target=\"_parent\"><img src=\"https://colab.research.google.com/assets/colab-badge.svg\" alt=\"Open In Colab\"/></a>"
      ]
    },
    {
      "cell_type": "code",
      "metadata": {
        "id": "LJQ3QphGv_al"
      },
      "source": [
        "def lengthOfLIS(nums):\n",
        "    \"\"\"\n",
        "    :type nums: List[int]\n",
        "    :rtype: int\n",
        "    \"\"\"\n",
        "    if not nums: return 0\n",
        "    L = len(nums)\n",
        "    dp=[1]*L\n",
        "    pre_max = nums[0]\n",
        "    for i in range(1,L):\n",
        "        pre_max = nums[i-1] if nums[i-1]>pre_max else pre_max\n",
        "        for j in range(i-1,-1,-1):\n",
        "            if nums[j]<nums[i]:\n",
        "                if nums[j] == pre_max:\n",
        "                    dp[i] = max(dp[i],dp[j]+1)\n",
        "                    break\n",
        "                dp[i] = max(dp[i],dp[j]+1)\n",
        "    return max(dp)"
      ],
      "execution_count": 1,
      "outputs": []
    },
    {
      "cell_type": "code",
      "metadata": {
        "colab": {
          "base_uri": "https://localhost:8080/"
        },
        "id": "E7AQ5i7QwH4s",
        "outputId": "b11dd1dc-608d-4007-bae0-39c2e7d9d5ef"
      },
      "source": [
        "nums = [10,9,2,5,3,7,101,18]\n",
        "lengthOfLIS(nums)"
      ],
      "execution_count": 2,
      "outputs": [
        {
          "output_type": "execute_result",
          "data": {
            "text/plain": [
              "4"
            ]
          },
          "metadata": {
            "tags": []
          },
          "execution_count": 2
        }
      ]
    },
    {
      "cell_type": "code",
      "metadata": {
        "id": "DgGBaqj5wOFT"
      },
      "source": [
        ""
      ],
      "execution_count": null,
      "outputs": []
    }
  ]
}