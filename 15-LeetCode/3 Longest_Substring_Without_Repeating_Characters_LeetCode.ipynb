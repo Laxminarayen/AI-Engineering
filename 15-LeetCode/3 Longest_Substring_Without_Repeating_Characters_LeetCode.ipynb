{
  "nbformat": 4,
  "nbformat_minor": 0,
  "metadata": {
    "colab": {
      "name": "3 Longest Substring Without Repeating Characters LeetCode.ipynb",
      "provenance": [],
      "authorship_tag": "ABX9TyMhX35TOkikxXDZJmhZn7Ja",
      "include_colab_link": true
    },
    "kernelspec": {
      "name": "python3",
      "display_name": "Python 3"
    },
    "language_info": {
      "name": "python"
    }
  },
  "cells": [
    {
      "cell_type": "markdown",
      "metadata": {
        "id": "view-in-github",
        "colab_type": "text"
      },
      "source": [
        "<a href=\"https://colab.research.google.com/github/plthiyagu/AI-Engineering/blob/master/15-LeetCode/3%20Longest_Substring_Without_Repeating_Characters_LeetCode.ipynb\" target=\"_parent\"><img src=\"https://colab.research.google.com/assets/colab-badge.svg\" alt=\"Open In Colab\"/></a>"
      ]
    },
    {
      "cell_type": "code",
      "metadata": {
        "id": "XaRuSa3AKrtZ"
      },
      "source": [
        "def lengthOfLongestSubstring( s):\n",
        "    \"\"\"\n",
        "    :type s: str\n",
        "    :rtype: int\n",
        "    \"\"\"\n",
        "    tmp = {}\n",
        "    start = res = 0\n",
        "    for i, c in enumerate(s):\n",
        "        if c in tmp and start <= tmp[c]:\n",
        "            start = tmp[c] + 1\n",
        "        else:\n",
        "            res = max(res, i - start + 1)\n",
        "        tmp[c] = i\n",
        "    return res\n"
      ],
      "execution_count": 1,
      "outputs": []
    },
    {
      "cell_type": "code",
      "metadata": {
        "colab": {
          "base_uri": "https://localhost:8080/"
        },
        "id": "Bv7a2JWlLc2i",
        "outputId": "19158f4c-7f66-48e7-f54b-53abefd6711e"
      },
      "source": [
        "s = \"abcabcbb\"\n",
        "lengthOfLongestSubstring( s)"
      ],
      "execution_count": 2,
      "outputs": [
        {
          "output_type": "execute_result",
          "data": {
            "text/plain": [
              "3"
            ]
          },
          "metadata": {
            "tags": []
          },
          "execution_count": 2
        }
      ]
    },
    {
      "cell_type": "code",
      "metadata": {
        "id": "HkO_6UjaLidA"
      },
      "source": [
        ""
      ],
      "execution_count": null,
      "outputs": []
    }
  ]
}