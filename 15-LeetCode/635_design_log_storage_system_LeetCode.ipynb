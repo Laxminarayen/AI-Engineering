{
  "nbformat": 4,
  "nbformat_minor": 0,
  "metadata": {
    "colab": {
      "name": "635 design-log-storage-system LeetCode.ipynb",
      "provenance": [],
      "authorship_tag": "ABX9TyMR69+UR7i95nbsEyIR3rXF",
      "include_colab_link": true
    },
    "kernelspec": {
      "name": "python3",
      "display_name": "Python 3"
    },
    "language_info": {
      "name": "python"
    }
  },
  "cells": [
    {
      "cell_type": "markdown",
      "metadata": {
        "id": "view-in-github",
        "colab_type": "text"
      },
      "source": [
        "<a href=\"https://colab.research.google.com/github/plthiyagu/AI-Engineering/blob/master/15-LeetCode/635_design_log_storage_system_LeetCode.ipynb\" target=\"_parent\"><img src=\"https://colab.research.google.com/assets/colab-badge.svg\" alt=\"Open In Colab\"/></a>"
      ]
    },
    {
      "cell_type": "code",
      "metadata": {
        "id": "aiDg3n4A_MIC"
      },
      "source": [
        "# Time:  put:      O(1)\n",
        "#        retrieve: O(n + dlogd), n is the size of the total logs\n",
        "#                              , d is the size of the found logs\n",
        "# Space: O(n)\n",
        "\n",
        "class LogSystem(object):\n",
        "\n",
        "    def __init__(self):\n",
        "        self.__logs = []\n",
        "        self.__granularity = {'Year': 4, 'Month': 7, 'Day': 10, \\\n",
        "                              'Hour': 13, 'Minute': 16, 'Second': 19}\n",
        "\n",
        "\n",
        "    def put(self, id, timestamp):\n",
        "        \"\"\"\n",
        "        :type id: int\n",
        "        :type timestamp: str\n",
        "        :rtype: void\n",
        "        \"\"\"\n",
        "        self.__logs.append((id, timestamp))\n",
        "\n",
        "\n",
        "    def retrieve(self, s, e, gra):\n",
        "        \"\"\"\n",
        "        :type s: str\n",
        "        :type e: str\n",
        "        :type gra: str\n",
        "        :rtype: List[int]\n",
        "        \"\"\"\n",
        "        i = self.__granularity[gra]\n",
        "        begin = s[:i]\n",
        "        end = e[:i]\n",
        "        return sorted(id for id, timestamp in self.__logs \\\n",
        "                      if begin <= timestamp[:i] <= end)\n"
      ],
      "execution_count": null,
      "outputs": []
    }
  ]
}