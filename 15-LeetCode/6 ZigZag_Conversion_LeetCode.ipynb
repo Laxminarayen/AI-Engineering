{
  "nbformat": 4,
  "nbformat_minor": 0,
  "metadata": {
    "colab": {
      "name": "6 ZigZag Conversion LeetCode.ipynb",
      "provenance": [],
      "authorship_tag": "ABX9TyMJLfrqxG+l1MGMMY3fqewv",
      "include_colab_link": true
    },
    "kernelspec": {
      "name": "python3",
      "display_name": "Python 3"
    },
    "language_info": {
      "name": "python"
    }
  },
  "cells": [
    {
      "cell_type": "markdown",
      "metadata": {
        "id": "view-in-github",
        "colab_type": "text"
      },
      "source": [
        "<a href=\"https://colab.research.google.com/github/plthiyagu/AI-Engineering/blob/master/15-LeetCode/6%20ZigZag_Conversion_LeetCode.ipynb\" target=\"_parent\"><img src=\"https://colab.research.google.com/assets/colab-badge.svg\" alt=\"Open In Colab\"/></a>"
      ]
    },
    {
      "cell_type": "code",
      "metadata": {
        "id": "rQmi7R983tJQ"
      },
      "source": [
        "def convert(s, numRows):\n",
        "    \"\"\"\n",
        "    :type s: str\n",
        "    :type numRows: int\n",
        "    :rtype: str\n",
        "    \"\"\"\n",
        "    if numRows == 1: return s\n",
        "    ans = \"\"\n",
        "    interval = 2 * (numRows - 1)\n",
        "    for i in range(0, len(s), interval):\n",
        "        ans += s[i]\n",
        "    for row in range(1, numRows - 1):\n",
        "        inter = 2 * row\n",
        "        i = row\n",
        "        while i < len(s):\n",
        "            ans += s[i]\n",
        "            inter = interval - inter\n",
        "            i += inter\n",
        "    print(ans)\n",
        "    for i in range(numRows - 1, len(s), interval):\n",
        "        ans += s[i]\n",
        "    return ans"
      ],
      "execution_count": 1,
      "outputs": []
    },
    {
      "cell_type": "code",
      "metadata": {
        "id": "By9lICET3w6e"
      },
      "source": [
        "s = \"PAYPALISHIRING\"\n",
        "numRows = 3\n"
      ],
      "execution_count": null,
      "outputs": []
    }
  ]
}