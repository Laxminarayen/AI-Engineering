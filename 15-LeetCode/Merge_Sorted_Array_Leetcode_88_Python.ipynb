{
  "nbformat": 4,
  "nbformat_minor": 0,
  "metadata": {
    "colab": {
      "name": "Merge Sorted Array - Leetcode 88 - Python.ipynb",
      "provenance": [],
      "collapsed_sections": [],
      "authorship_tag": "ABX9TyORDIM5BpCPkG8xkQX7WPdc",
      "include_colab_link": true
    },
    "kernelspec": {
      "name": "python3",
      "display_name": "Python 3"
    },
    "language_info": {
      "name": "python"
    }
  },
  "cells": [
    {
      "cell_type": "markdown",
      "metadata": {
        "id": "view-in-github",
        "colab_type": "text"
      },
      "source": [
        "<a href=\"https://colab.research.google.com/github/plthiyagu/AI-Engineering/blob/master/22-LeetCode/Merge_Sorted_Array_Leetcode_88_Python.ipynb\" target=\"_parent\"><img src=\"https://colab.research.google.com/assets/colab-badge.svg\" alt=\"Open In Colab\"/></a>"
      ]
    },
    {
      "cell_type": "markdown",
      "metadata": {
        "id": "BCuaN2_mRAN-"
      },
      "source": [
        "https://www.youtube.com/watch?v=P1Ic85RarKY"
      ]
    },
    {
      "cell_type": "code",
      "metadata": {
        "id": "xTyAMnrT38Nv"
      },
      "source": [
        "def merge(nums1, m, nums2, n):\n",
        "  \"\"\"\n",
        "  :type nums1: List[int]\n",
        "  :type m: int\n",
        "  :type nums2: List[int]\n",
        "  :type n: int\n",
        "  :rtype: None Do not return anything, modify nums1 in-place instead.\n",
        "  \"\"\"\n",
        "  #last index nums1\n",
        "  last = m +n -1\n",
        "  while m>0 and n > 0:\n",
        "      if nums1[m-1] > nums2[n-1]:\n",
        "          nums1[last]= nums1[m-1]\n",
        "          m -= 1\n",
        "      else:\n",
        "          nums1[last]= nums2[n-1]\n",
        "          n -= 1\n",
        "      last -= 1\n",
        "  # fill nums1 with leftover  nums2 elements\n",
        "  \n",
        "  while n>0:\n",
        "      \n",
        "      nums1[last]=nums2[n-1]\n",
        "      n,last = n-1,last-1\n",
        "            \n",
        "            \n",
        "        "
      ],
      "execution_count": 1,
      "outputs": []
    },
    {
      "cell_type": "code",
      "metadata": {
        "id": "DzEiljyFQaxb"
      },
      "source": [
        "nums1=[1,2,3,0,0,0]\n",
        "m=3\n",
        "nums2=[2,5,6]\n",
        "n=3\n",
        "merge(nums1, m, nums2, n)"
      ],
      "execution_count": 2,
      "outputs": []
    },
    {
      "cell_type": "code",
      "metadata": {
        "id": "F5nSSFD2QydC"
      },
      "source": [
        ""
      ],
      "execution_count": null,
      "outputs": []
    }
  ]
}