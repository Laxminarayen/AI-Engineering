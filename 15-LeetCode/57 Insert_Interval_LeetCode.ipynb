{
  "nbformat": 4,
  "nbformat_minor": 0,
  "metadata": {
    "colab": {
      "name": "57 Insert Interval LeetCode.ipynb",
      "provenance": [],
      "authorship_tag": "ABX9TyNM8q5rsPJbpqU0foNv7eMF",
      "include_colab_link": true
    },
    "kernelspec": {
      "name": "python3",
      "display_name": "Python 3"
    },
    "language_info": {
      "name": "python"
    }
  },
  "cells": [
    {
      "cell_type": "markdown",
      "metadata": {
        "id": "view-in-github",
        "colab_type": "text"
      },
      "source": [
        "<a href=\"https://colab.research.google.com/github/plthiyagu/AI-Engineering/blob/master/15-LeetCode/57%20Insert_Interval_LeetCode.ipynb\" target=\"_parent\"><img src=\"https://colab.research.google.com/assets/colab-badge.svg\" alt=\"Open In Colab\"/></a>"
      ]
    },
    {
      "cell_type": "code",
      "metadata": {
        "id": "9ggMzcZEj8_K"
      },
      "source": [
        "def insert(intervals, newInterval):\n",
        "    \"\"\"\n",
        "    :type intervals: List[List[int]]\n",
        "    :type newInterval: List[int]\n",
        "    :rtype: List[List[int]]\n",
        "    \"\"\"\n",
        "    n = len(intervals)\n",
        "    if n == 0:\n",
        "        return [newInterval]\n",
        "    res = []\n",
        "    i = 0\n",
        "    while i < n and intervals[i][1] < newInterval[0]:\n",
        "        res.append(intervals[i])\n",
        "        i += 1\n",
        "    l, r = newInterval\n",
        "    while i < n and intervals[i][0] <= newInterval[1]:\n",
        "        l = min(l, intervals[i][0])\n",
        "        r = max(r, intervals[i][1])\n",
        "        i += 1\n",
        "    res.append([l, r])\n",
        "    res.extend(intervals[i:])\n",
        "    return res"
      ],
      "execution_count": 1,
      "outputs": []
    },
    {
      "cell_type": "code",
      "metadata": {
        "colab": {
          "base_uri": "https://localhost:8080/"
        },
        "id": "Pyu3acCJkAMr",
        "outputId": "80017729-209b-47e9-8085-af93e6859688"
      },
      "source": [
        "intervals = [[1,3],[6,9]]\n",
        "newInterval = [2,5]\n",
        "insert(intervals, newInterval)"
      ],
      "execution_count": 2,
      "outputs": [
        {
          "output_type": "execute_result",
          "data": {
            "text/plain": [
              "[[1, 5], [6, 9]]"
            ]
          },
          "metadata": {
            "tags": []
          },
          "execution_count": 2
        }
      ]
    },
    {
      "cell_type": "code",
      "metadata": {
        "id": "QB_GvOVCkHEE"
      },
      "source": [
        ""
      ],
      "execution_count": null,
      "outputs": []
    }
  ]
}