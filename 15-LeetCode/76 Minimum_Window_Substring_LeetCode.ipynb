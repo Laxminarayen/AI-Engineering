{
  "nbformat": 4,
  "nbformat_minor": 0,
  "metadata": {
    "colab": {
      "name": "76 Minimum Window Substring LeetCode.ipynb",
      "provenance": [],
      "authorship_tag": "ABX9TyMnHBH0NH7UetdeX6gfKxuO",
      "include_colab_link": true
    },
    "kernelspec": {
      "name": "python3",
      "display_name": "Python 3"
    },
    "language_info": {
      "name": "python"
    }
  },
  "cells": [
    {
      "cell_type": "markdown",
      "metadata": {
        "id": "view-in-github",
        "colab_type": "text"
      },
      "source": [
        "<a href=\"https://colab.research.google.com/github/plthiyagu/AI-Engineering/blob/master/15-LeetCode/76%20Minimum_Window_Substring_LeetCode.ipynb\" target=\"_parent\"><img src=\"https://colab.research.google.com/assets/colab-badge.svg\" alt=\"Open In Colab\"/></a>"
      ]
    },
    {
      "cell_type": "code",
      "metadata": {
        "id": "oPWmtdRKRokX"
      },
      "source": [
        "import collections\n",
        "from collections import Counter\n",
        "def minWindow(s, t):\n",
        "    \"\"\"\n",
        "    :type s: str\n",
        "    :type t: str\n",
        "    :rtype: str\n",
        "    \"\"\"\n",
        "    if not t or not s:\n",
        "        return \"\"\n",
        "\n",
        "    dict_t = Counter(t)\n",
        "\n",
        "    required = len(dict_t)\n",
        "\n",
        "    # Filter all the characters from s into a new list along with their index.\n",
        "    # The filtering criteria is that the character should be present in t.\n",
        "    filtered_s = []\n",
        "    for i, char in enumerate(s):\n",
        "        if char in dict_t:\n",
        "            filtered_s.append((i, char))\n",
        "\n",
        "    l, r = 0, 0\n",
        "    formed = 0\n",
        "    window_counts = {}\n",
        "\n",
        "    ans = float(\"inf\"), None, None\n",
        "\n",
        "    # Look for the characters only in the filtered list instead of entire s. This helps to reduce our search.\n",
        "    # Hence, we follow the sliding window approach on as small list.\n",
        "    while r < len(filtered_s):\n",
        "        character = filtered_s[r][1]\n",
        "        window_counts[character] = window_counts.get(character, 0) + 1\n",
        "\n",
        "        if window_counts[character] == dict_t[character]:\n",
        "            formed += 1\n",
        "\n",
        "        # If the current window has all the characters in desired frequencies i.e. t is present in the window\n",
        "        while l <= r and formed == required:\n",
        "            character = filtered_s[l][1]\n",
        "\n",
        "            # Save the smallest window until now.\n",
        "            end = filtered_s[r][0]\n",
        "            start = filtered_s[l][0]\n",
        "            if end - start + 1 < ans[0]:\n",
        "                ans = (end - start + 1, start, end)\n",
        "\n",
        "            window_counts[character] -= 1\n",
        "            if window_counts[character] < dict_t[character]:\n",
        "                formed -= 1\n",
        "            l += 1    \n",
        "\n",
        "        r += 1    \n",
        "    return \"\" if ans[0] == float(\"inf\") else s[ans[1] : ans[2] + 1]"
      ],
      "execution_count": 5,
      "outputs": []
    },
    {
      "cell_type": "code",
      "metadata": {
        "colab": {
          "base_uri": "https://localhost:8080/",
          "height": 35
        },
        "id": "9EW4TtHgRufI",
        "outputId": "a35671f5-ed3c-4b3f-9791-32a2e499d0ca"
      },
      "source": [
        "s = \"ADOBECODEBANC\"\n",
        "t = \"ABC\"\n",
        "minWindow(s, t)"
      ],
      "execution_count": 6,
      "outputs": [
        {
          "output_type": "execute_result",
          "data": {
            "application/vnd.google.colaboratory.intrinsic+json": {
              "type": "string"
            },
            "text/plain": [
              "'BANC'"
            ]
          },
          "metadata": {
            "tags": []
          },
          "execution_count": 6
        }
      ]
    },
    {
      "cell_type": "code",
      "metadata": {
        "id": "KW-7kF6cR4Po"
      },
      "source": [
        ""
      ],
      "execution_count": null,
      "outputs": []
    }
  ]
}