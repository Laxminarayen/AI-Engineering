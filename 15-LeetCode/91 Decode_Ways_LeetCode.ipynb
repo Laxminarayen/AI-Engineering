{
  "nbformat": 4,
  "nbformat_minor": 0,
  "metadata": {
    "colab": {
      "name": "91 Decode Ways LeetCode.ipynb",
      "provenance": [],
      "authorship_tag": "ABX9TyPpQf5aGbcA6Nc8+jNHRwPI",
      "include_colab_link": true
    },
    "kernelspec": {
      "name": "python3",
      "display_name": "Python 3"
    },
    "language_info": {
      "name": "python"
    }
  },
  "cells": [
    {
      "cell_type": "markdown",
      "metadata": {
        "id": "view-in-github",
        "colab_type": "text"
      },
      "source": [
        "<a href=\"https://colab.research.google.com/github/plthiyagu/AI-Engineering/blob/master/15-LeetCode/91%20Decode_Ways_LeetCode.ipynb\" target=\"_parent\"><img src=\"https://colab.research.google.com/assets/colab-badge.svg\" alt=\"Open In Colab\"/></a>"
      ]
    },
    {
      "cell_type": "code",
      "metadata": {
        "id": "kDjvAm8qGANP"
      },
      "source": [
        "def numDecodings( s):\n",
        "    \"\"\"\n",
        "    :type s: str\n",
        "    :rtype: int\n",
        "    \"\"\"\n",
        "    dp = [0] * (len(s) + 1)\n",
        "    dp[0] = 1\n",
        "    for i in range(1, len(dp)):\n",
        "        if int(s[i-1]) != 0:\n",
        "            dp[i] = dp[i-1]\n",
        "        if i != 1 and '09' < s[i-2:i] < '27':\n",
        "            dp[i] += dp[i-2]\n",
        "    return dp[-1]"
      ],
      "execution_count": 1,
      "outputs": []
    },
    {
      "cell_type": "code",
      "metadata": {
        "colab": {
          "base_uri": "https://localhost:8080/"
        },
        "id": "dSHN6g3sGkOB",
        "outputId": "be709a1f-4f43-4275-c05c-3c3f70613062"
      },
      "source": [
        "s = \"12\"\n",
        "numDecodings( s)"
      ],
      "execution_count": 2,
      "outputs": [
        {
          "output_type": "execute_result",
          "data": {
            "text/plain": [
              "2"
            ]
          },
          "metadata": {
            "tags": []
          },
          "execution_count": 2
        }
      ]
    },
    {
      "cell_type": "code",
      "metadata": {
        "id": "-FgSi-J9GrWM"
      },
      "source": [
        ""
      ],
      "execution_count": null,
      "outputs": []
    }
  ]
}