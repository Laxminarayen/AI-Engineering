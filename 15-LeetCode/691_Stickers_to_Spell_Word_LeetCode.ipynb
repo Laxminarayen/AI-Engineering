{
  "nbformat": 4,
  "nbformat_minor": 0,
  "metadata": {
    "colab": {
      "name": "691 Stickers to Spell Word LeetCode.ipynb",
      "provenance": [],
      "authorship_tag": "ABX9TyMW/jRLIcVcDjusG4WgyUEU",
      "include_colab_link": true
    },
    "kernelspec": {
      "name": "python3",
      "display_name": "Python 3"
    },
    "language_info": {
      "name": "python"
    }
  },
  "cells": [
    {
      "cell_type": "markdown",
      "metadata": {
        "id": "view-in-github",
        "colab_type": "text"
      },
      "source": [
        "<a href=\"https://colab.research.google.com/github/plthiyagu/AI-Engineering/blob/master/15-LeetCode/691_Stickers_to_Spell_Word_LeetCode.ipynb\" target=\"_parent\"><img src=\"https://colab.research.google.com/assets/colab-badge.svg\" alt=\"Open In Colab\"/></a>"
      ]
    },
    {
      "cell_type": "code",
      "metadata": {
        "id": "HsjeUU1sB8Cn"
      },
      "source": [
        "class Solution:\n",
        "    def minStickers(self, stickers: List[str], target: str) -> int:\n",
        "        n = len(stickers)\n",
        "        dic = {'':0}\n",
        "        count = [self.getCounter(sticker) for sticker in stickers]\n",
        "        res = self.dfs(count,target,dic)\n",
        "        return res if res!=float('inf') else -1\n",
        "\n",
        "    def dfs(self,count,target,dic):\n",
        "        if target in dic:\n",
        "            return dic[target]\n",
        "        tar = self.getCounter(target)\n",
        "        dic[target]  = float('inf')\n",
        "        for i in range(len(count)):\n",
        "            if count[i][ord(target[0])-ord('a')]==0:continue\n",
        "            rest = ''\n",
        "            for j in range(26):\n",
        "                if tar[j] - count[i][j] > 0:\n",
        "                    rest += chr(ord('a')+j) * (tar[j] - count[i][j])\n",
        "            dic[target] = min(dic[target],1+self.dfs(count,rest,dic))\n",
        "        return dic[target]\n",
        "\n",
        "    def getCounter(self,s):\n",
        "        res = [0 for _ in range(26)]\n",
        "        for ch in s:\n",
        "            res[ord(ch)-ord('a')]+=1\n",
        "        return res\n",
        "\n",
        "        "
      ],
      "execution_count": null,
      "outputs": []
    }
  ]
}