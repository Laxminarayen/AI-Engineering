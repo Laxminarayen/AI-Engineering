{
  "nbformat": 4,
  "nbformat_minor": 0,
  "metadata": {
    "colab": {
      "name": "1518 Water Bottles Leet Code.ipynb",
      "provenance": [],
      "authorship_tag": "ABX9TyMzDUTs5quhtA/yR/yCjjO9",
      "include_colab_link": true
    },
    "kernelspec": {
      "name": "python3",
      "display_name": "Python 3"
    },
    "language_info": {
      "name": "python"
    }
  },
  "cells": [
    {
      "cell_type": "markdown",
      "metadata": {
        "id": "view-in-github",
        "colab_type": "text"
      },
      "source": [
        "<a href=\"https://colab.research.google.com/github/plthiyagu/AI-Engineering/blob/master/15-LeetCode/1518_Water_Bottles_Leet_Code.ipynb\" target=\"_parent\"><img src=\"https://colab.research.google.com/assets/colab-badge.svg\" alt=\"Open In Colab\"/></a>"
      ]
    },
    {
      "cell_type": "code",
      "metadata": {
        "id": "uGudkY-XwGuy"
      },
      "source": [
        "def numWaterBottles( numBottles: int, numExchange: int) -> int:\n",
        "    count = 0\n",
        "    \n",
        "    empty_bottles = 0\n",
        "    while numBottles + empty_bottles >= numExchange:\n",
        "        count += numBottles \n",
        "        empty_bottles += numBottles\n",
        "        numBottles = empty_bottles // numExchange\n",
        "        empty_bottles = empty_bottles % numExchange\n",
        "        \n",
        "    \n",
        "    count += numBottles \n",
        "            \n",
        "    return count"
      ],
      "execution_count": 3,
      "outputs": []
    },
    {
      "cell_type": "code",
      "metadata": {
        "colab": {
          "base_uri": "https://localhost:8080/"
        },
        "id": "sGNkU_e4wLvD",
        "outputId": "c4a4475c-eebd-438f-9556-8223d1b3fbc7"
      },
      "source": [
        "numBottles = 5\n",
        "numExchange = 3\n",
        "\n",
        "numWaterBottles(numBottles,numExchange)"
      ],
      "execution_count": 6,
      "outputs": [
        {
          "output_type": "execute_result",
          "data": {
            "text/plain": [
              "7"
            ]
          },
          "metadata": {},
          "execution_count": 6
        }
      ]
    },
    {
      "cell_type": "code",
      "metadata": {
        "id": "eeRdWlI-wcgI"
      },
      "source": [
        ""
      ],
      "execution_count": null,
      "outputs": []
    },
    {
      "cell_type": "code",
      "metadata": {
        "id": "bTsENh6IwKNR"
      },
      "source": [
        ""
      ],
      "execution_count": null,
      "outputs": []
    }
  ]
}