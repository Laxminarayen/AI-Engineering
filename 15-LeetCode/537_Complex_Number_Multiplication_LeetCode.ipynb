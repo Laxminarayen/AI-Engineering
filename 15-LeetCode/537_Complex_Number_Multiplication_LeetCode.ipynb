{
  "nbformat": 4,
  "nbformat_minor": 0,
  "metadata": {
    "colab": {
      "name": "537 Complex Number Multiplication LeetCode.ipynb",
      "provenance": [],
      "authorship_tag": "ABX9TyMeL5aHJdH/0q2Rr152ZQ47",
      "include_colab_link": true
    },
    "kernelspec": {
      "name": "python3",
      "display_name": "Python 3"
    },
    "language_info": {
      "name": "python"
    }
  },
  "cells": [
    {
      "cell_type": "markdown",
      "metadata": {
        "id": "view-in-github",
        "colab_type": "text"
      },
      "source": [
        "<a href=\"https://colab.research.google.com/github/plthiyagu/AI-Engineering/blob/master/15-LeetCode/537_Complex_Number_Multiplication_LeetCode.ipynb\" target=\"_parent\"><img src=\"https://colab.research.google.com/assets/colab-badge.svg\" alt=\"Open In Colab\"/></a>"
      ]
    },
    {
      "cell_type": "code",
      "metadata": {
        "id": "DQ0gHrQgvB-I"
      },
      "source": [
        "def complexNumberMultiply( num1: str, num2: str) -> str:\n",
        "    a1, b1 = map(int, num1[:-1].split('+'))\n",
        "    a2, b2 = map(int, num2[:-1].split('+'))\n",
        "    return '%d+%di' % (a1 * a2 - b1 * b2, a1 * b2 + a2 * b1)"
      ],
      "execution_count": 1,
      "outputs": []
    },
    {
      "cell_type": "code",
      "metadata": {
        "colab": {
          "base_uri": "https://localhost:8080/",
          "height": 35
        },
        "id": "FBPZgAXzvGDR",
        "outputId": "a1f9d8ea-ab48-4eb8-98e4-9a63c04ae8f6"
      },
      "source": [
        "num1 = \"1+1i\"\n",
        "num2 = \"1+1i\"\n",
        "complexNumberMultiply( num1, num2)"
      ],
      "execution_count": 2,
      "outputs": [
        {
          "output_type": "execute_result",
          "data": {
            "application/vnd.google.colaboratory.intrinsic+json": {
              "type": "string"
            },
            "text/plain": [
              "'0+2i'"
            ]
          },
          "metadata": {},
          "execution_count": 2
        }
      ]
    },
    {
      "cell_type": "code",
      "metadata": {
        "id": "XzSkWWbfvONb"
      },
      "source": [
        ""
      ],
      "execution_count": null,
      "outputs": []
    }
  ]
}