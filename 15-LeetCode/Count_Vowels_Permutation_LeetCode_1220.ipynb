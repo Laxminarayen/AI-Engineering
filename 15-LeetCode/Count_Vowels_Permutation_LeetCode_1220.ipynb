{
  "nbformat": 4,
  "nbformat_minor": 0,
  "metadata": {
    "colab": {
      "name": "Count Vowels Permutation LeetCode 1220.ipynb",
      "provenance": [],
      "collapsed_sections": [],
      "authorship_tag": "ABX9TyMjLIYmFMhasCbbf3DC0XKn",
      "include_colab_link": true
    },
    "kernelspec": {
      "name": "python3",
      "display_name": "Python 3"
    },
    "language_info": {
      "name": "python"
    }
  },
  "cells": [
    {
      "cell_type": "markdown",
      "metadata": {
        "id": "view-in-github",
        "colab_type": "text"
      },
      "source": [
        "<a href=\"https://colab.research.google.com/github/plthiyagu/AI-Engineering/blob/master/22-LeetCode/Count_Vowels_Permutation_LeetCode_1220.ipynb\" target=\"_parent\"><img src=\"https://colab.research.google.com/assets/colab-badge.svg\" alt=\"Open In Colab\"/></a>"
      ]
    },
    {
      "cell_type": "markdown",
      "metadata": {
        "id": "T4HJ0kPQ0Huc"
      },
      "source": [
        "https://www.geeksforgeeks.org/count-all-possible-n-length-vowel-permutations-that-can-be-generated-based-on-the-given-conditions/"
      ]
    },
    {
      "cell_type": "code",
      "metadata": {
        "id": "JfVVq1CzxqOV"
      },
      "source": [
        "def countVowelPermutation(n):\n",
        "    \"\"\"\n",
        "    :type n: int\n",
        "    :rtype: int\n",
        "    \"\"\"\n",
        "    \n",
        "    def dp(i,lastChar):\n",
        "        if i ==n:\n",
        "            return 1\n",
        "        \n",
        "        ans =0\n",
        "\n",
        "        if lastChar == 'a':\n",
        "            ans +=  dp(i+1,'e')\n",
        "        elif lastChar == 'e':\n",
        "            ans += dp(i+1,'a') + dp(i+1,'i')\n",
        "        elif lastChar == 'i':\n",
        "            ans += dp(i+1,'a') + dp(i+1,'e')+dp(i+1,'o')+dp(i+1,'u')\n",
        "        elif lastChar == 'o':\n",
        "            ans += dp(i+1,'i') + dp(i+1,'u')\n",
        "        elif lastChar == 'u':\n",
        "            ans += dp(i+1,'a')\n",
        "        \n",
        "        return ans % mod\n",
        "    \n",
        "    mod= 10**9+7\n",
        "    \n",
        "    return (dp(1,'a')+dp(1,'e')+dp(1,'i')+dp(1,'o')+dp(1,'u'))%mod"
      ],
      "execution_count": 6,
      "outputs": []
    },
    {
      "cell_type": "code",
      "metadata": {
        "colab": {
          "base_uri": "https://localhost:8080/"
        },
        "id": "NRLJJyOKxvCM",
        "outputId": "0afdfac8-818c-4003-b8ed-36effdfdfc01"
      },
      "source": [
        "n=5\n",
        "countVowelPermutation(n)"
      ],
      "execution_count": 7,
      "outputs": [
        {
          "output_type": "execute_result",
          "data": {
            "text/plain": [
              "68"
            ]
          },
          "metadata": {
            "tags": []
          },
          "execution_count": 7
        }
      ]
    },
    {
      "cell_type": "code",
      "metadata": {
        "id": "zjOFyhZex6Xe"
      },
      "source": [
        "def countVowelPermutation(n):\n",
        "    # To avoid the large output value\n",
        "    MOD =  1e9 + 7\n",
        " \n",
        "    # Initialize 2D dp array\n",
        "    dp = [[0 for i in range(5)] for j in range(n + 1)]\n",
        "     \n",
        "    # Initialize dp[1][i] as 1 since\n",
        "    # string of length 1 will consist\n",
        "    # of only one vowel in the string\n",
        "    for i in range(5):\n",
        "        dp[1][i] = 1\n",
        "     \n",
        "    # Directed graph using the\n",
        "    # adjacency matrix\n",
        "    relation = [[1],[0, 2], [0, 1, 3, 4], [2, 4],[0]]\n",
        " \n",
        "    # Iterate over the range [1, N]\n",
        "    for i in range(1, n, 1):\n",
        "       \n",
        "        # Traverse the directed graph\n",
        "        for u in range(5):\n",
        "            dp[i + 1][u] = 0\n",
        " \n",
        "            # Traversing the list\n",
        "            for v in relation[u]:\n",
        "               \n",
        "                # Update dp[i + 1][u]\n",
        "                dp[i + 1][u] += dp[i][v] % MOD\n",
        " \n",
        "    # Stores total count of permutations\n",
        "    ans = 0\n",
        "    for i in range(5):\n",
        "        ans = (ans + dp[n][i]) % MOD\n",
        " \n",
        "    # Return count of permutations\n",
        "    return int(ans)"
      ],
      "execution_count": 8,
      "outputs": []
    },
    {
      "cell_type": "code",
      "metadata": {
        "id": "OLzOKVuw0Bzr"
      },
      "source": [
        ""
      ],
      "execution_count": null,
      "outputs": []
    }
  ]
}