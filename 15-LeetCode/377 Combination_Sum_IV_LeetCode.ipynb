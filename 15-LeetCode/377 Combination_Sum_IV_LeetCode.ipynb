{
  "nbformat": 4,
  "nbformat_minor": 0,
  "metadata": {
    "colab": {
      "name": "377 Combination Sum IV LeetCode.ipynb",
      "provenance": [],
      "authorship_tag": "ABX9TyMNQ2T+JTGU7Puf3yTpWWjw",
      "include_colab_link": true
    },
    "kernelspec": {
      "name": "python3",
      "display_name": "Python 3"
    },
    "language_info": {
      "name": "python"
    }
  },
  "cells": [
    {
      "cell_type": "markdown",
      "metadata": {
        "id": "view-in-github",
        "colab_type": "text"
      },
      "source": [
        "<a href=\"https://colab.research.google.com/github/plthiyagu/AI-Engineering/blob/master/15-LeetCode/377%20Combination_Sum_IV_LeetCode.ipynb\" target=\"_parent\"><img src=\"https://colab.research.google.com/assets/colab-badge.svg\" alt=\"Open In Colab\"/></a>"
      ]
    },
    {
      "cell_type": "code",
      "metadata": {
        "id": "QHpQYD2NCV9W"
      },
      "source": [
        "def combinationSum4( nums, target):\n",
        "    \"\"\"\n",
        "    :type nums: List[int]\n",
        "    :type target: int\n",
        "    :rtype: int\n",
        "    \"\"\"\n",
        "    dp = [1]\n",
        "    for i in range(1, target + 1):\n",
        "        dp.append(sum([dp[i - n] for n in nums if n <= i]))\n",
        "    return dp[target]\n"
      ],
      "execution_count": 1,
      "outputs": []
    },
    {
      "cell_type": "code",
      "metadata": {
        "colab": {
          "base_uri": "https://localhost:8080/"
        },
        "id": "McwD5KRyCtlT",
        "outputId": "096b62c3-1c55-4398-b083-dc3bd60e945a"
      },
      "source": [
        "nums = [1,2,3]\n",
        "target = 4\n",
        "\n",
        "combinationSum4( nums, target)"
      ],
      "execution_count": 2,
      "outputs": [
        {
          "output_type": "execute_result",
          "data": {
            "text/plain": [
              "7"
            ]
          },
          "metadata": {
            "tags": []
          },
          "execution_count": 2
        }
      ]
    },
    {
      "cell_type": "code",
      "metadata": {
        "id": "QRSNjgCGCzUq"
      },
      "source": [
        ""
      ],
      "execution_count": null,
      "outputs": []
    }
  ]
}