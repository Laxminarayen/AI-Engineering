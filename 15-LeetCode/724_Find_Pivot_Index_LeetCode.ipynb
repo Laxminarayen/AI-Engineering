{
  "nbformat": 4,
  "nbformat_minor": 0,
  "metadata": {
    "colab": {
      "name": "724 Find Pivot Index LeetCode.ipynb",
      "provenance": [],
      "authorship_tag": "ABX9TyPn0oF+9dkqho7hQ+U9EXU9",
      "include_colab_link": true
    },
    "kernelspec": {
      "name": "python3",
      "display_name": "Python 3"
    },
    "language_info": {
      "name": "python"
    }
  },
  "cells": [
    {
      "cell_type": "markdown",
      "metadata": {
        "id": "view-in-github",
        "colab_type": "text"
      },
      "source": [
        "<a href=\"https://colab.research.google.com/github/plthiyagu/AI-Engineering/blob/master/15-LeetCode/724_Find_Pivot_Index_LeetCode.ipynb\" target=\"_parent\"><img src=\"https://colab.research.google.com/assets/colab-badge.svg\" alt=\"Open In Colab\"/></a>"
      ]
    },
    {
      "cell_type": "code",
      "metadata": {
        "id": "IA3jQkVILH2_"
      },
      "source": [
        "from typing import List\n",
        "def pivotIndex( nums: List[int]) -> int:\n",
        "    summ = sum(nums)\n",
        "    prefix = 0\n",
        "\n",
        "    for i, num in enumerate(nums):\n",
        "      if prefix == summ - prefix - num:\n",
        "        return i\n",
        "      prefix += num\n",
        "\n",
        "    return -1"
      ],
      "execution_count": 2,
      "outputs": []
    },
    {
      "cell_type": "code",
      "metadata": {
        "colab": {
          "base_uri": "https://localhost:8080/"
        },
        "id": "sq3RZpzYLM-d",
        "outputId": "6a0d62ae-1eba-4118-99c3-9bf10441fc54"
      },
      "source": [
        "nums = [1,7,3,6,5,6]\n",
        "pivotIndex(nums)"
      ],
      "execution_count": 3,
      "outputs": [
        {
          "output_type": "execute_result",
          "data": {
            "text/plain": [
              "3"
            ]
          },
          "metadata": {},
          "execution_count": 3
        }
      ]
    },
    {
      "cell_type": "code",
      "metadata": {
        "id": "cwhZfwAeLcBx"
      },
      "source": [
        ""
      ],
      "execution_count": null,
      "outputs": []
    }
  ]
}