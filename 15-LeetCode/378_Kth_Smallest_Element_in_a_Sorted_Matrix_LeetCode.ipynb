{
  "nbformat": 4,
  "nbformat_minor": 0,
  "metadata": {
    "colab": {
      "name": "378 Kth Smallest Element in a Sorted Matrix LeetCode.ipynb",
      "provenance": [],
      "authorship_tag": "ABX9TyMBnezImECyOglv1+09TWnK",
      "include_colab_link": true
    },
    "kernelspec": {
      "name": "python3",
      "display_name": "Python 3"
    },
    "language_info": {
      "name": "python"
    }
  },
  "cells": [
    {
      "cell_type": "markdown",
      "metadata": {
        "id": "view-in-github",
        "colab_type": "text"
      },
      "source": [
        "<a href=\"https://colab.research.google.com/github/plthiyagu/AI-Engineering/blob/master/15-LeetCode/378_Kth_Smallest_Element_in_a_Sorted_Matrix_LeetCode.ipynb\" target=\"_parent\"><img src=\"https://colab.research.google.com/assets/colab-badge.svg\" alt=\"Open In Colab\"/></a>"
      ]
    },
    {
      "cell_type": "code",
      "metadata": {
        "id": "wPyKv4GAv3Cw"
      },
      "source": [
        "from typing import List\n",
        "import heapq\n",
        "\n",
        "def kthSmallest(matrix: List[List[int]], k: int) -> int:\n",
        "    maxHeap = []\n",
        "    for x in matrix:\n",
        "        for y in x:\n",
        "            if len(maxHeap)<k:\n",
        "                heapq.heappush(maxHeap, -y)\n",
        "            else:\n",
        "                heapq.heappushpop(maxHeap, -y)\n",
        "    return -maxHeap[0]"
      ],
      "execution_count": 3,
      "outputs": []
    },
    {
      "cell_type": "code",
      "metadata": {
        "colab": {
          "base_uri": "https://localhost:8080/"
        },
        "id": "FGOeJfpTv_Nx",
        "outputId": "9613be9a-1b2e-4020-a879-207595fc5d68"
      },
      "source": [
        "matrix = [[1,5,9],[10,11,13],[12,13,15]]\n",
        "k = 8\n",
        "\n",
        "kthSmallest(matrix,k)"
      ],
      "execution_count": 4,
      "outputs": [
        {
          "output_type": "execute_result",
          "data": {
            "text/plain": [
              "13"
            ]
          },
          "metadata": {},
          "execution_count": 4
        }
      ]
    },
    {
      "cell_type": "code",
      "metadata": {
        "id": "_JTR7_g_wHYI"
      },
      "source": [
        ""
      ],
      "execution_count": null,
      "outputs": []
    }
  ]
}