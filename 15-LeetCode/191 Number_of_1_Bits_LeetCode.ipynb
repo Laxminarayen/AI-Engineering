{
  "nbformat": 4,
  "nbformat_minor": 0,
  "metadata": {
    "colab": {
      "name": "191 Number of 1 Bits LeetCode.ipynb",
      "provenance": [],
      "authorship_tag": "ABX9TyNHlVq+1Q40n/vxR9ScPQeg",
      "include_colab_link": true
    },
    "kernelspec": {
      "name": "python3",
      "display_name": "Python 3"
    },
    "language_info": {
      "name": "python"
    }
  },
  "cells": [
    {
      "cell_type": "markdown",
      "metadata": {
        "id": "view-in-github",
        "colab_type": "text"
      },
      "source": [
        "<a href=\"https://colab.research.google.com/github/plthiyagu/AI-Engineering/blob/master/15-LeetCode/191%20Number_of_1_Bits_LeetCode.ipynb\" target=\"_parent\"><img src=\"https://colab.research.google.com/assets/colab-badge.svg\" alt=\"Open In Colab\"/></a>"
      ]
    },
    {
      "cell_type": "code",
      "metadata": {
        "id": "KfiwCUm0qPJx"
      },
      "source": [
        "def hammingWeight( n):\n",
        "    \"\"\"\n",
        "    :type n: int\n",
        "    :rtype: int\n",
        "    \"\"\"\n",
        "    res = 0\n",
        "    while n:\n",
        "        res += n & 1\n",
        "        n >>= 1\n",
        "    return res"
      ],
      "execution_count": 1,
      "outputs": []
    },
    {
      "cell_type": "code",
      "metadata": {
        "colab": {
          "base_uri": "https://localhost:8080/",
          "height": 129
        },
        "id": "c9r3OmZtqe_x",
        "outputId": "1ff77ec9-60f4-4323-96a8-557397cd105d"
      },
      "source": [
        "n = 00000000000000000000000000001011\n",
        "hammingWeight( n)"
      ],
      "execution_count": 2,
      "outputs": [
        {
          "output_type": "error",
          "ename": "SyntaxError",
          "evalue": "ignored",
          "traceback": [
            "\u001b[0;36m  File \u001b[0;32m\"<ipython-input-2-e74461097395>\"\u001b[0;36m, line \u001b[0;32m1\u001b[0m\n\u001b[0;31m    n = 00000000000000000000000000001011\u001b[0m\n\u001b[0m                                       ^\u001b[0m\n\u001b[0;31mSyntaxError\u001b[0m\u001b[0;31m:\u001b[0m invalid token\n"
          ]
        }
      ]
    },
    {
      "cell_type": "code",
      "metadata": {
        "id": "QvhEH4iiqlXn"
      },
      "source": [
        ""
      ],
      "execution_count": null,
      "outputs": []
    }
  ]
}