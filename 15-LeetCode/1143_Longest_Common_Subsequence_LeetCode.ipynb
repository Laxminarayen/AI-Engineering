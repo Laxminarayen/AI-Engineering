{
  "nbformat": 4,
  "nbformat_minor": 0,
  "metadata": {
    "colab": {
      "name": "1143 Longest Common Subsequence LeetCode.ipynb",
      "provenance": [],
      "authorship_tag": "ABX9TyOwST2CVBNkZB6nph398Xcs",
      "include_colab_link": true
    },
    "kernelspec": {
      "name": "python3",
      "display_name": "Python 3"
    },
    "language_info": {
      "name": "python"
    }
  },
  "cells": [
    {
      "cell_type": "markdown",
      "metadata": {
        "id": "view-in-github",
        "colab_type": "text"
      },
      "source": [
        "<a href=\"https://colab.research.google.com/github/plthiyagu/AI-Engineering/blob/master/15-LeetCode/1143_Longest_Common_Subsequence_LeetCode.ipynb\" target=\"_parent\"><img src=\"https://colab.research.google.com/assets/colab-badge.svg\" alt=\"Open In Colab\"/></a>"
      ]
    },
    {
      "cell_type": "code",
      "metadata": {
        "id": "o8FN-ePiwYGi"
      },
      "source": [
        "def longestCommonSubsequence( text1, text2):\n",
        "    \"\"\"\n",
        "    :type text1: str\n",
        "    :type text2: str\n",
        "    :rtype: int\n",
        "    \"\"\"\n",
        "    l1, l2 = len(text1), len(text2)\n",
        "    #dp = [[0] * (l2 + 1) for _ in range(l1 + 1)]         \n",
        "    dp1 = [0] * (l2 + 1)\n",
        "    dp2 = [0] * (l2 + 1)\n",
        "    for i in range(1, l1 + 1):\n",
        "        for j in range(1, l2 + 1):\n",
        "            if text1[i - 1] == text2[j - 1]:\n",
        "                # dp[i][j] = dp[i - 1][j - 1] + 1                     \n",
        "                dp2[j] = dp1[j - 1] + 1\n",
        "            else:\n",
        "                # dp[i][j] = max(dp[i - 1][j], dp[i][j - 1])                     \n",
        "                dp2[j] = max(dp1[j], dp2[j - 1])\n",
        "        dp1 = dp2[:]\n",
        "    return dp1[-1]"
      ],
      "execution_count": 2,
      "outputs": []
    },
    {
      "cell_type": "code",
      "metadata": {
        "colab": {
          "base_uri": "https://localhost:8080/"
        },
        "id": "_3Ac8gFh8Bje",
        "outputId": "953d9a33-dd83-4df4-811e-f203e6e84bef"
      },
      "source": [
        "text1 = \"abcde\"\n",
        "text2 = \"ace\"\n",
        "longestCommonSubsequence( text1, text2)"
      ],
      "execution_count": 4,
      "outputs": [
        {
          "output_type": "execute_result",
          "data": {
            "text/plain": [
              "3"
            ]
          },
          "metadata": {
            "tags": []
          },
          "execution_count": 4
        }
      ]
    },
    {
      "cell_type": "code",
      "metadata": {
        "id": "x7QBqrle8T_o"
      },
      "source": [
        ""
      ],
      "execution_count": null,
      "outputs": []
    },
    {
      "cell_type": "code",
      "metadata": {
        "id": "e1uF9vAo8On6"
      },
      "source": [
        ""
      ],
      "execution_count": null,
      "outputs": []
    },
    {
      "cell_type": "code",
      "metadata": {
        "id": "H5VmwLo5xfFo"
      },
      "source": [
        ""
      ],
      "execution_count": null,
      "outputs": []
    }
  ]
}