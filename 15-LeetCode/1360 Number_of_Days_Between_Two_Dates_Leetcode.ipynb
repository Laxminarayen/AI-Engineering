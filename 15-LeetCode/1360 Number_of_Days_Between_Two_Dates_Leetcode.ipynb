{
  "nbformat": 4,
  "nbformat_minor": 0,
  "metadata": {
    "colab": {
      "name": " Number of Days Between Two Dates Leetcode 1360.ipynb",
      "provenance": [],
      "collapsed_sections": [],
      "authorship_tag": "ABX9TyN2Ub+gqLCReD9PXhymvy7R",
      "include_colab_link": true
    },
    "kernelspec": {
      "name": "python3",
      "display_name": "Python 3"
    },
    "language_info": {
      "name": "python"
    }
  },
  "cells": [
    {
      "cell_type": "markdown",
      "metadata": {
        "id": "view-in-github",
        "colab_type": "text"
      },
      "source": [
        "<a href=\"https://colab.research.google.com/github/plthiyagu/AI-Engineering/blob/master/22-LeetCode/Number_of_Days_Between_Two_Dates_Leetcode_1360.ipynb\" target=\"_parent\"><img src=\"https://colab.research.google.com/assets/colab-badge.svg\" alt=\"Open In Colab\"/></a>"
      ]
    },
    {
      "cell_type": "markdown",
      "metadata": {
        "id": "BLRLMn2xfCuv"
      },
      "source": [
        "https://www.youtube.com/watch?v=yJYRchAAqI4"
      ]
    },
    {
      "cell_type": "code",
      "metadata": {
        "id": "lw7fEFiXfFc1"
      },
      "source": [
        "import datetime\n",
        "def daysBetweenDates( date1, date2):\n",
        "    \"\"\"\n",
        "    :type date1: str\n",
        "    :type date2: str\n",
        "    :rtype: int\n",
        "    \"\"\"\n",
        "    \n",
        "    s1 = date1.split(\"-\")\n",
        "    s2 = date2.split(\"-\")\n",
        "    d1 = datetime.datetime(int(s1[0]), int(s1[1]) , int(s1[2]))\n",
        "    d2 = datetime.datetime(int(s2[0]), int(s2[1]) , int(s2[2]))\n",
        "    return abs((d1 - d2).days)"
      ],
      "execution_count": 9,
      "outputs": []
    },
    {
      "cell_type": "code",
      "metadata": {
        "colab": {
          "base_uri": "https://localhost:8080/"
        },
        "id": "Ieb74Iihh7dM",
        "outputId": "a73ff025-e951-41d9-cf0e-116477563b70"
      },
      "source": [
        "date1=\"2019-06-29\"\n",
        "date2=\"2019-06-30\"\n",
        "daysBetweenDates( date1, date2)"
      ],
      "execution_count": 10,
      "outputs": [
        {
          "output_type": "execute_result",
          "data": {
            "text/plain": [
              "1"
            ]
          },
          "metadata": {
            "tags": []
          },
          "execution_count": 10
        }
      ]
    },
    {
      "cell_type": "code",
      "metadata": {
        "id": "ZYJ4XI43iGxD"
      },
      "source": [
        "def daysBetweenDates1(date1: str, date2: str) -> int:\n",
        "    # solution one: datetime\n",
        "    import datetime\n",
        "    year1, month1, day1 = date1[0:4], date1[5:7], date1[8:10]\n",
        "    year2, month2, day2 = date2[0:4], date2[5:7], date2[8:10]\n",
        "    d1 = datetime.datetime(int(year1), int(month1) , int(day1))   # date1\n",
        "    d2 = datetime.datetime(int(year2), int(month2) , int(day2))   # date2\n",
        "    return abs((d1 - d2).days)\n"
      ],
      "execution_count": 11,
      "outputs": []
    },
    {
      "cell_type": "code",
      "metadata": {
        "id": "xd3rw9GPjJom"
      },
      "source": [
        "def daysBetweenDates( date1: str, date2: str) -> int:\n",
        "    # solution two: manual calculation\n",
        "    y1, m1, d1 = map(int, date1.split('-'))\n",
        "    y2, m2, d2 = map(int, date2.split('-'))\n",
        "    months = [0,31,28,31,30,31,30,31,31,30,31,30,31]\n",
        "    \n",
        "    # get days from 1971\n",
        "    def getDays(y, m, d):\n",
        "        ans = 0\n",
        "        # calculate years\n",
        "        for i in range(1971, y):\n",
        "            if (i % 4 == 0 and i % 100 != 0) or i % 400 == 0:  # leap year\n",
        "                ans += 366\n",
        "            else:\n",
        "                ans += 365\n",
        "        # calculate months\n",
        "        for i in range(1, m):\n",
        "            if i == 2:  # February\n",
        "                ans += 29 if (y % 4 == 0 and y % 100 != 0) or y % 400 == 0 else 28\n",
        "            else:\n",
        "                ans += months[i]\n",
        "        return ans + d  # calculate days\n",
        "    \n",
        "    days1 = getDays(y1, m1, d1)\n",
        "    days2 = getDays(y2, m2, d2)\n",
        "    return abs(days1 - days2)\n"
      ],
      "execution_count": 12,
      "outputs": []
    },
    {
      "cell_type": "code",
      "metadata": {
        "id": "GUGqCjN6jPeX"
      },
      "source": [
        ""
      ],
      "execution_count": null,
      "outputs": []
    }
  ]
}