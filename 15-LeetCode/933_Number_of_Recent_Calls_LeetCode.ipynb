{
  "nbformat": 4,
  "nbformat_minor": 0,
  "metadata": {
    "colab": {
      "name": "933 Number of Recent Calls LeetCode.ipynb",
      "provenance": [],
      "authorship_tag": "ABX9TyNQORrvZTxb0axITU4YzUj9",
      "include_colab_link": true
    },
    "kernelspec": {
      "name": "python3",
      "display_name": "Python 3"
    },
    "language_info": {
      "name": "python"
    }
  },
  "cells": [
    {
      "cell_type": "markdown",
      "metadata": {
        "id": "view-in-github",
        "colab_type": "text"
      },
      "source": [
        "<a href=\"https://colab.research.google.com/github/plthiyagu/AI-Engineering/blob/master/15-LeetCode/933_Number_of_Recent_Calls_LeetCode.ipynb\" target=\"_parent\"><img src=\"https://colab.research.google.com/assets/colab-badge.svg\" alt=\"Open In Colab\"/></a>"
      ]
    },
    {
      "cell_type": "code",
      "metadata": {
        "id": "sQa8vTpy7Oqj"
      },
      "source": [
        "class RecentCounter:\n",
        "\n",
        "    def __init__(self):\n",
        "        self.q = collections.deque()\n",
        "\n",
        "        \n",
        "\n",
        "    def ping(self, t: int) -> int:\n",
        "        self.q.append(t)\n",
        "        while self.q[0] < t - 3000:\n",
        "            self.q.popleft()\n",
        "        return len(self.q)"
      ],
      "execution_count": 1,
      "outputs": []
    },
    {
      "cell_type": "code",
      "metadata": {
        "id": "qgY7hcAq7SQV"
      },
      "source": [
        "t=[\"RecentCounter\", \"ping\", \"ping\", \"ping\", \"ping\"]\n",
        "[[], [1], [100], [3001], [3002]]\n",
        "\n",
        "\n",
        "# Your RecentCounter object will be instantiated and called as such:\n",
        "obj = RecentCounter()\n",
        "param_1 = obj.ping(t)"
      ],
      "execution_count": null,
      "outputs": []
    }
  ]
}