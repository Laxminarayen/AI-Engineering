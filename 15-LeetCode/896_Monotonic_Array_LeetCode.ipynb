{
  "nbformat": 4,
  "nbformat_minor": 0,
  "metadata": {
    "colab": {
      "name": "896 Monotonic Array LeetCode.ipynb",
      "provenance": [],
      "authorship_tag": "ABX9TyN8njHlJpL8niKzxoo5VqwC",
      "include_colab_link": true
    },
    "kernelspec": {
      "name": "python3",
      "display_name": "Python 3"
    },
    "language_info": {
      "name": "python"
    }
  },
  "cells": [
    {
      "cell_type": "markdown",
      "metadata": {
        "id": "view-in-github",
        "colab_type": "text"
      },
      "source": [
        "<a href=\"https://colab.research.google.com/github/plthiyagu/AI-Engineering/blob/master/15-LeetCode/896_Monotonic_Array_LeetCode.ipynb\" target=\"_parent\"><img src=\"https://colab.research.google.com/assets/colab-badge.svg\" alt=\"Open In Colab\"/></a>"
      ]
    },
    {
      "cell_type": "code",
      "metadata": {
        "id": "48aIKBIzt49l"
      },
      "source": [
        "from typing import List\n",
        "def isMonotonic( nums: List[int]) -> bool:\n",
        "    inc = True;\n",
        "    dec = True;\n",
        "\n",
        "    for i in range(1, len(nums)):\n",
        "      inc = inc and nums[i] >= nums[i - 1]\n",
        "      dec = dec and nums[i] <= nums[i - 1]    \n",
        "\n",
        "    return inc or dec\n"
      ],
      "execution_count": 1,
      "outputs": []
    },
    {
      "cell_type": "code",
      "metadata": {
        "colab": {
          "base_uri": "https://localhost:8080/"
        },
        "id": "CsmOr4iPuAZb",
        "outputId": "4590d7f0-a0a0-4b69-b2d2-1ec091887540"
      },
      "source": [
        "nums = [1,2,2,3]\n",
        "isMonotonic(nums)"
      ],
      "execution_count": 2,
      "outputs": [
        {
          "output_type": "execute_result",
          "data": {
            "text/plain": [
              "True"
            ]
          },
          "metadata": {},
          "execution_count": 2
        }
      ]
    },
    {
      "cell_type": "code",
      "metadata": {
        "id": "2kh_C-AOuFTw"
      },
      "source": [
        ""
      ],
      "execution_count": null,
      "outputs": []
    }
  ]
}