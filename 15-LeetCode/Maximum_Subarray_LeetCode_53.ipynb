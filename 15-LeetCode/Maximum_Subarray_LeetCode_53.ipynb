{
  "nbformat": 4,
  "nbformat_minor": 0,
  "metadata": {
    "colab": {
      "name": "Maximum Subarray LeetCode 53.ipynb",
      "provenance": [],
      "authorship_tag": "ABX9TyM2zhktzuEGtKLj347vRfVU",
      "include_colab_link": true
    },
    "kernelspec": {
      "name": "python3",
      "display_name": "Python 3"
    },
    "language_info": {
      "name": "python"
    }
  },
  "cells": [
    {
      "cell_type": "markdown",
      "metadata": {
        "id": "view-in-github",
        "colab_type": "text"
      },
      "source": [
        "<a href=\"https://colab.research.google.com/github/plthiyagu/AI-Engineering/blob/master/15-LeetCode/Maximum_Subarray_LeetCode_53.ipynb\" target=\"_parent\"><img src=\"https://colab.research.google.com/assets/colab-badge.svg\" alt=\"Open In Colab\"/></a>"
      ]
    },
    {
      "cell_type": "code",
      "metadata": {
        "id": "CInuFsOi9Pd-"
      },
      "source": [
        "def maxSubArray( nums):\n",
        "    \"\"\"\n",
        "    :type nums: List[int]\n",
        "    :rtype: int\n",
        "    \"\"\"\n",
        "    res = cur = nums[0]\n",
        "    for n in nums[1:]:\n",
        "        cur = max(cur + n, n)\n",
        "        res = max(res, cur)\n",
        "    return res"
      ],
      "execution_count": 1,
      "outputs": []
    },
    {
      "cell_type": "code",
      "metadata": {
        "colab": {
          "base_uri": "https://localhost:8080/"
        },
        "id": "WprsMYvo9gAp",
        "outputId": "f8e309c4-800c-47a1-d221-244548f24642"
      },
      "source": [
        "nums=[-2,1,-3,4,-1,2,1,-5,4]\n",
        "maxSubArray( nums)"
      ],
      "execution_count": 2,
      "outputs": [
        {
          "output_type": "execute_result",
          "data": {
            "text/plain": [
              "6"
            ]
          },
          "metadata": {
            "tags": []
          },
          "execution_count": 2
        }
      ]
    },
    {
      "cell_type": "code",
      "metadata": {
        "id": "LFRkOwdp9mFQ"
      },
      "source": [
        ""
      ],
      "execution_count": null,
      "outputs": []
    }
  ]
}