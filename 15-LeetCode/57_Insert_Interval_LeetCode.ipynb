{
  "nbformat": 4,
  "nbformat_minor": 0,
  "metadata": {
    "colab": {
      "name": "57 Insert Interval LeetCode.ipynb",
      "provenance": [],
      "authorship_tag": "ABX9TyNjNWMxyn0gG023VNA2mW36",
      "include_colab_link": true
    },
    "kernelspec": {
      "name": "python3",
      "display_name": "Python 3"
    },
    "language_info": {
      "name": "python"
    }
  },
  "cells": [
    {
      "cell_type": "markdown",
      "metadata": {
        "id": "view-in-github",
        "colab_type": "text"
      },
      "source": [
        "<a href=\"https://colab.research.google.com/github/plthiyagu/AI-Engineering/blob/master/15-LeetCode/57_Insert_Interval_LeetCode.ipynb\" target=\"_parent\"><img src=\"https://colab.research.google.com/assets/colab-badge.svg\" alt=\"Open In Colab\"/></a>"
      ]
    },
    {
      "cell_type": "code",
      "metadata": {
        "id": "04I9bo4MCgEf"
      },
      "source": [
        "from typing import List\n",
        "def insert( intervals: List[List[int]], newInterval: List[int]) -> List[List[int]]:\n",
        "    n = len(intervals)\n",
        "    if n == 0:\n",
        "        return [newInterval]\n",
        "    res = []\n",
        "    i = 0\n",
        "    while i < n and intervals[i][1] < newInterval[0]:\n",
        "        res.append(intervals[i])\n",
        "        i += 1\n",
        "    l, r = newInterval\n",
        "    while i < n and intervals[i][0] <= newInterval[1]:\n",
        "        l = min(l, intervals[i][0])\n",
        "        r = max(r, intervals[i][1])\n",
        "        i += 1\n",
        "    res.append([l, r])\n",
        "    res.extend(intervals[i:])\n",
        "    return res   "
      ],
      "execution_count": 2,
      "outputs": []
    },
    {
      "cell_type": "code",
      "metadata": {
        "colab": {
          "base_uri": "https://localhost:8080/"
        },
        "id": "1eMYtHKKCofX",
        "outputId": "81adb98b-da0b-4c20-e01d-f5f21dbd29cf"
      },
      "source": [
        "intervals = [[1,3],[6,9]]\n",
        "newInterval = [2,5]\n",
        "insert(intervals,newInterval)"
      ],
      "execution_count": 3,
      "outputs": [
        {
          "output_type": "execute_result",
          "data": {
            "text/plain": [
              "[[1, 5], [6, 9]]"
            ]
          },
          "metadata": {},
          "execution_count": 3
        }
      ]
    },
    {
      "cell_type": "code",
      "metadata": {
        "id": "86geG8hsCwQE"
      },
      "source": [
        ""
      ],
      "execution_count": null,
      "outputs": []
    },
    {
      "cell_type": "code",
      "metadata": {
        "id": "dkfr-mkeCkBj"
      },
      "source": [
        ""
      ],
      "execution_count": null,
      "outputs": []
    }
  ]
}