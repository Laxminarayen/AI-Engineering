{
  "nbformat": 4,
  "nbformat_minor": 0,
  "metadata": {
    "colab": {
      "name": "169 Majority Element LeetCode.ipynb",
      "provenance": [],
      "authorship_tag": "ABX9TyOKEPSq5mgQefazXn/5dXeC",
      "include_colab_link": true
    },
    "kernelspec": {
      "name": "python3",
      "display_name": "Python 3"
    },
    "language_info": {
      "name": "python"
    }
  },
  "cells": [
    {
      "cell_type": "markdown",
      "metadata": {
        "id": "view-in-github",
        "colab_type": "text"
      },
      "source": [
        "<a href=\"https://colab.research.google.com/github/plthiyagu/AI-Engineering/blob/master/15-LeetCode/169_Majority_Element_LeetCode.ipynb\" target=\"_parent\"><img src=\"https://colab.research.google.com/assets/colab-badge.svg\" alt=\"Open In Colab\"/></a>"
      ]
    },
    {
      "cell_type": "code",
      "metadata": {
        "id": "ZaGBkw4-3bpk"
      },
      "source": [
        "def majorityElement(num):\n",
        "    dict = {}\n",
        "    for n in num:\n",
        "        dict[n] = dict.get(n,0) +1\n",
        "        if dict[n] > len(num)/2:\n",
        "            return n"
      ],
      "execution_count": 1,
      "outputs": []
    },
    {
      "cell_type": "code",
      "metadata": {
        "colab": {
          "base_uri": "https://localhost:8080/"
        },
        "id": "RtZrS6Kf3jJU",
        "outputId": "1282a0be-a577-4a58-aa37-461d6d567458"
      },
      "source": [
        "num = [3,2,3]\n",
        "majorityElement(num)"
      ],
      "execution_count": 3,
      "outputs": [
        {
          "output_type": "execute_result",
          "data": {
            "text/plain": [
              "3"
            ]
          },
          "metadata": {},
          "execution_count": 3
        }
      ]
    },
    {
      "cell_type": "code",
      "metadata": {
        "id": "ysJIEbup3oPz"
      },
      "source": [
        ""
      ],
      "execution_count": null,
      "outputs": []
    }
  ]
}