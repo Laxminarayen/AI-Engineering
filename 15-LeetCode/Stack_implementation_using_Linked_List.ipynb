{
  "nbformat": 4,
  "nbformat_minor": 0,
  "metadata": {
    "colab": {
      "name": "Stack implementation using Linked List.ipynb",
      "provenance": [],
      "authorship_tag": "ABX9TyPkwPinLbc5vWhMNlvOsfpy",
      "include_colab_link": true
    },
    "kernelspec": {
      "name": "python3",
      "display_name": "Python 3"
    },
    "language_info": {
      "name": "python"
    }
  },
  "cells": [
    {
      "cell_type": "markdown",
      "metadata": {
        "id": "view-in-github",
        "colab_type": "text"
      },
      "source": [
        "<a href=\"https://colab.research.google.com/github/plthiyagu/AI-Engineering/blob/master/15-LeetCode/Stack_implementation_using_Linked_List.ipynb\" target=\"_parent\"><img src=\"https://colab.research.google.com/assets/colab-badge.svg\" alt=\"Open In Colab\"/></a>"
      ]
    },
    {
      "cell_type": "code",
      "metadata": {
        "id": "KOJ62GwKYSjD",
        "colab": {
          "base_uri": "https://localhost:8080/"
        },
        "outputId": "109bafe9-5095-42b3-8d9c-b395f927e0a9"
      },
      "source": [
        "\"\"\"Add a couple methods to our LinkedList class,\n",
        "and use that to implement a Stack.\n",
        "You have 4 functions below to fill in:\n",
        "insert_first, delete_first, push, and pop.\n",
        "Think about this while you're implementing:\n",
        "why is it easier to add an \"insert_first\"\n",
        "function than just use \"append\"?\"\"\"\n",
        "\n",
        "class Element(object):\n",
        "    def __init__(self, value):\n",
        "        self.value = value\n",
        "        self.next = None\n",
        "        \n",
        "class LinkedList(object):\n",
        "    def __init__(self, head=None):\n",
        "        self.head = head\n",
        "        \n",
        "    def append(self, new_element):\n",
        "        current = self.head\n",
        "        if self.head:\n",
        "            while current.next:\n",
        "                current = current.next\n",
        "            current.next = new_element\n",
        "        else:\n",
        "            self.head = new_element\n",
        "\n",
        "    def insert_first(self, new_element):\n",
        "        \"Insert new element as the head of the LinkedList\"\n",
        "        new_element.next = self.head\n",
        "        self.head = new_element\n",
        "\n",
        "    def delete_first(self):\n",
        "        \"Delete the first (head) element in the LinkedList as return it\"\n",
        "        if self.head:\n",
        "            deleted_element = self.head\n",
        "            temp = deleted_element.next\n",
        "            self.head = temp\n",
        "            return deleted_element\n",
        "        else:\n",
        "            return None\n",
        "\n",
        "\n",
        "class Stack(object):\n",
        "    def __init__(self,top=None):\n",
        "        self.ll = LinkedList(top)\n",
        "\n",
        "    def push(self, new_element):\n",
        "        \"Push (add) a new element onto the top of the stack\"\n",
        "        self.ll.insert_first(new_element)\n",
        "\n",
        "\n",
        "    def pop(self):\n",
        "        \"Pop (remove) the first element off the top of the stack and return it\"\n",
        "        return self.ll.delete_first()\n",
        "    \n",
        "# Test cases\n",
        "# Set up some Elements\n",
        "e1 = Element(1)\n",
        "e2 = Element(2)\n",
        "e3 = Element(3)\n",
        "e4 = Element(4)\n",
        "\n",
        "# Start setting up a Stack\n",
        "stack = Stack(e1)\n",
        "\n",
        "# Test stack functionality\n",
        "stack.push(e2)\n",
        "stack.push(e3)\n",
        "print (stack.pop().value)\n",
        "print (stack.pop().value)\n",
        "print (stack.pop().value)\n",
        "print (stack.pop())\n",
        "stack.push(e4)\n",
        "print( stack.pop().value)"
      ],
      "execution_count": 2,
      "outputs": [
        {
          "output_type": "stream",
          "text": [
            "3\n",
            "2\n",
            "1\n",
            "None\n",
            "4\n"
          ],
          "name": "stdout"
        }
      ]
    },
    {
      "cell_type": "code",
      "metadata": {
        "id": "Sa4CKpsYsR9f"
      },
      "source": [
        ""
      ],
      "execution_count": null,
      "outputs": []
    },
    {
      "cell_type": "code",
      "metadata": {
        "id": "jx050eCDZCzF"
      },
      "source": [
        "\n",
        "def generateData():\n",
        "  #sample from three different 2d normal distributions\n",
        "  mean1 = [1,3]\n",
        "  cov1 = [[1,0.5],[0.5,1]]\n",
        "  x1,y1 = random.multivariate_normal(mean1,cov1,100).T\n",
        "  mean2 = [7,4]\n",
        "  cov2 = [[1,2],[2,2]]\n",
        "  x2,y2 = random.multivariate_normal(mean2,cov2,100).T\n",
        "  mean3 = [-2,-3]\n",
        "  cov3 = [[0.2,1],[1,0.9]]\n",
        "  x3,y3 = random.multivariate_normal(mean3,cov3,100).T\n",
        "  x=hstack((x1,x2,x3))\n",
        "  y=hstack((y1,y2,y3))\n",
        "  pl.scatter(x,y)\n",
        "  pl.show()\n",
        "  return vstack((x,y)).T"
      ],
      "execution_count": null,
      "outputs": []
    },
    {
      "cell_type": "code",
      "metadata": {
        "colab": {
          "base_uri": "https://localhost:8080/",
          "height": 530
        },
        "id": "wGUHfPAWYdy6",
        "outputId": "66f291b6-a428-410e-fd86-eb7b4fb5371d"
      },
      "source": [
        "#generate data\n",
        "data=generateData()\n",
        "#run k-means algorithm\n",
        "kmeans = KMeans(init='random', k=3, n_init=10)\n",
        "kmeans.fit(data)\n"
      ],
      "execution_count": null,
      "outputs": [
        {
          "output_type": "stream",
          "text": [
            "/usr/local/lib/python3.7/dist-packages/ipykernel_launcher.py:9: RuntimeWarning: covariance is not positive-semidefinite.\n",
            "  if __name__ == '__main__':\n",
            "/usr/local/lib/python3.7/dist-packages/ipykernel_launcher.py:12: RuntimeWarning: covariance is not positive-semidefinite.\n",
            "  if sys.path[0] == '':\n"
          ],
          "name": "stderr"
        },
        {
          "output_type": "display_data",
          "data": {
            "image/png": "[encoded data removed]",
            "text/plain": [
              "<Figure size 432x288 with 1 Axes>"
            ]
          },
          "metadata": {
            "needs_background": "light"
          }
        },
        {
          "output_type": "error",
          "ename": "TypeError",
          "evalue": "ignored",
          "traceback": [
            "\u001b[0;31m---------------------------------------------------------------------------\u001b[0m",
            "\u001b[0;31mTypeError\u001b[0m                                 Traceback (most recent call last)",
            "\u001b[0;32m<ipython-input-8-339e5e7cd13f>\u001b[0m in \u001b[0;36m<module>\u001b[0;34m()\u001b[0m\n\u001b[1;32m      2\u001b[0m \u001b[0mdata\u001b[0m\u001b[0;34m=\u001b[0m\u001b[0mgenerateData\u001b[0m\u001b[0;34m(\u001b[0m\u001b[0;34m)\u001b[0m\u001b[0;34m\u001b[0m\u001b[0;34m\u001b[0m\u001b[0m\n\u001b[1;32m      3\u001b[0m \u001b[0;31m#run k-means algorithm\u001b[0m\u001b[0;34m\u001b[0m\u001b[0;34m\u001b[0m\u001b[0;34m\u001b[0m\u001b[0m\n\u001b[0;32m----> 4\u001b[0;31m \u001b[0mkmeans\u001b[0m \u001b[0;34m=\u001b[0m \u001b[0mKMeans\u001b[0m\u001b[0;34m(\u001b[0m\u001b[0minit\u001b[0m\u001b[0;34m=\u001b[0m\u001b[0;34m'random'\u001b[0m\u001b[0;34m,\u001b[0m \u001b[0mk\u001b[0m\u001b[0;34m=\u001b[0m\u001b[0;36m3\u001b[0m\u001b[0;34m,\u001b[0m \u001b[0mn_init\u001b[0m\u001b[0;34m=\u001b[0m\u001b[0;36m10\u001b[0m\u001b[0;34m)\u001b[0m\u001b[0;34m\u001b[0m\u001b[0;34m\u001b[0m\u001b[0m\n\u001b[0m\u001b[1;32m      5\u001b[0m \u001b[0mkmeans\u001b[0m\u001b[0;34m.\u001b[0m\u001b[0mfit\u001b[0m\u001b[0;34m(\u001b[0m\u001b[0mdata\u001b[0m\u001b[0;34m)\u001b[0m\u001b[0;34m\u001b[0m\u001b[0;34m\u001b[0m\u001b[0m\n",
            "\u001b[0;31mTypeError\u001b[0m: __init__() got an unexpected keyword argument 'k'"
          ]
        }
      ]
    },
    {
      "cell_type": "code",
      "metadata": {
        "colab": {
          "base_uri": "https://localhost:8080/",
          "height": 231
        },
        "id": "rsSYjm0KYxql",
        "outputId": "0ed1c177-8ced-4991-9827-abb1f32b744e"
      },
      "source": [
        ""
      ],
      "execution_count": null,
      "outputs": [
        {
          "output_type": "error",
          "ename": "NameError",
          "evalue": "ignored",
          "traceback": [
            "\u001b[0;31m---------------------------------------------------------------------------\u001b[0m",
            "\u001b[0;31mNameError\u001b[0m                                 Traceback (most recent call last)",
            "\u001b[0;32m<ipython-input-9-873f9138c249>\u001b[0m in \u001b[0;36m<module>\u001b[0;34m()\u001b[0m\n\u001b[1;32m      4\u001b[0m \u001b[0my_min\u001b[0m\u001b[0;34m,\u001b[0m \u001b[0my_max\u001b[0m \u001b[0;34m=\u001b[0m \u001b[0mdata\u001b[0m\u001b[0;34m[\u001b[0m\u001b[0;34m:\u001b[0m\u001b[0;34m,\u001b[0m \u001b[0;36m1\u001b[0m\u001b[0;34m]\u001b[0m\u001b[0;34m.\u001b[0m\u001b[0mmin\u001b[0m\u001b[0;34m(\u001b[0m\u001b[0;34m)\u001b[0m \u001b[0;34m+\u001b[0m \u001b[0;36m1\u001b[0m\u001b[0;34m,\u001b[0m \u001b[0mdata\u001b[0m\u001b[0;34m[\u001b[0m\u001b[0;34m:\u001b[0m\u001b[0;34m,\u001b[0m \u001b[0;36m1\u001b[0m\u001b[0;34m]\u001b[0m\u001b[0;34m.\u001b[0m\u001b[0mmax\u001b[0m\u001b[0;34m(\u001b[0m\u001b[0;34m)\u001b[0m \u001b[0;34m-\u001b[0m \u001b[0;36m1\u001b[0m\u001b[0;34m\u001b[0m\u001b[0;34m\u001b[0m\u001b[0m\n\u001b[1;32m      5\u001b[0m \u001b[0mxx\u001b[0m\u001b[0;34m,\u001b[0m \u001b[0myy\u001b[0m \u001b[0;34m=\u001b[0m \u001b[0mmeshgrid\u001b[0m\u001b[0;34m(\u001b[0m\u001b[0marange\u001b[0m\u001b[0;34m(\u001b[0m\u001b[0mx_min\u001b[0m\u001b[0;34m,\u001b[0m \u001b[0mx_max\u001b[0m\u001b[0;34m,\u001b[0m \u001b[0mh\u001b[0m\u001b[0;34m)\u001b[0m\u001b[0;34m,\u001b[0m \u001b[0marange\u001b[0m\u001b[0;34m(\u001b[0m\u001b[0my_min\u001b[0m\u001b[0;34m,\u001b[0m \u001b[0my_max\u001b[0m\u001b[0;34m,\u001b[0m \u001b[0mh\u001b[0m\u001b[0;34m)\u001b[0m\u001b[0;34m)\u001b[0m\u001b[0;34m\u001b[0m\u001b[0;34m\u001b[0m\u001b[0m\n\u001b[0;32m----> 6\u001b[0;31m \u001b[0mZ\u001b[0m \u001b[0;34m=\u001b[0m \u001b[0mkmeans\u001b[0m\u001b[0;34m.\u001b[0m\u001b[0mpredict\u001b[0m\u001b[0;34m(\u001b[0m\u001b[0mc_\u001b[0m\u001b[0;34m[\u001b[0m\u001b[0mxx\u001b[0m\u001b[0;34m.\u001b[0m\u001b[0mravel\u001b[0m\u001b[0;34m(\u001b[0m\u001b[0;34m)\u001b[0m\u001b[0;34m,\u001b[0m \u001b[0myy\u001b[0m\u001b[0;34m.\u001b[0m\u001b[0mravel\u001b[0m\u001b[0;34m(\u001b[0m\u001b[0;34m)\u001b[0m\u001b[0;34m]\u001b[0m\u001b[0;34m)\u001b[0m\u001b[0;34m\u001b[0m\u001b[0;34m\u001b[0m\u001b[0m\n\u001b[0m\u001b[1;32m      7\u001b[0m \u001b[0mZ\u001b[0m \u001b[0;34m=\u001b[0m \u001b[0mZ\u001b[0m\u001b[0;34m.\u001b[0m\u001b[0mreshape\u001b[0m\u001b[0;34m(\u001b[0m\u001b[0mxx\u001b[0m\u001b[0;34m.\u001b[0m\u001b[0mshape\u001b[0m\u001b[0;34m)\u001b[0m\u001b[0;34m\u001b[0m\u001b[0;34m\u001b[0m\u001b[0m\n\u001b[1;32m      8\u001b[0m \u001b[0mpl\u001b[0m\u001b[0;34m.\u001b[0m\u001b[0mfigure\u001b[0m\u001b[0;34m(\u001b[0m\u001b[0;36m1\u001b[0m\u001b[0;34m)\u001b[0m\u001b[0;34m\u001b[0m\u001b[0;34m\u001b[0m\u001b[0m\n",
            "\u001b[0;31mNameError\u001b[0m: name 'kmeans' is not defined"
          ]
        }
      ]
    }
  ]
}