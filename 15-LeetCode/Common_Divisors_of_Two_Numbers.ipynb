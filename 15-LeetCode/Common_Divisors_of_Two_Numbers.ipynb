{
  "nbformat": 4,
  "nbformat_minor": 0,
  "metadata": {
    "colab": {
      "name": "Common Divisors of Two Numbers.ipynb",
      "provenance": [],
      "authorship_tag": "ABX9TyObkYKdiOmxrBcF49peICQ6",
      "include_colab_link": true
    },
    "kernelspec": {
      "name": "python3",
      "display_name": "Python 3"
    },
    "language_info": {
      "name": "python"
    }
  },
  "cells": [
    {
      "cell_type": "markdown",
      "metadata": {
        "id": "view-in-github",
        "colab_type": "text"
      },
      "source": [
        "<a href=\"https://colab.research.google.com/github/plthiyagu/AI-Engineering/blob/master/AI-Engineering/Common_Divisors_of_Two_Numbers.ipynb\" target=\"_parent\"><img src=\"https://colab.research.google.com/assets/colab-badge.svg\" alt=\"Open In Colab\"/></a>"
      ]
    },
    {
      "cell_type": "markdown",
      "metadata": {
        "id": "0uPpHTgS4N8S"
      },
      "source": [
        "Input : a = 12, b = 24\n",
        "Output: 6\n",
        "// all common divisors are 1, 2, 3, \n",
        "// 4, 6 and 12\n",
        "\n",
        "Input : a = 3, b = 17\n",
        "Output: 1\n",
        "// all common divisors are 1\n",
        "\n",
        "Input : a = 20, b = 36\n",
        "Output: 3\n",
        "// all common divisors are 1, 2, 4\n"
      ]
    },
    {
      "cell_type": "code",
      "metadata": {
        "id": "K1Dc_NIN4Qnh"
      },
      "source": [
        "from math import sqrt\n",
        " \n",
        " \n",
        "# Function to calculate gcd of two numbers\n",
        "def gcd(a, b):\n",
        "     \n",
        "    if a == 0:\n",
        "        return b\n",
        "    return gcd(b % a, a)\n",
        "   \n",
        "# Function to calculate all common divisors\n",
        "# of two given numbers\n",
        "# a, b --> input integer numbers\n",
        "def commDiv(a, b):\n",
        "     \n",
        "    # find GCD of a, b\n",
        "    n = gcd(a, b)\n",
        " \n",
        "    # Count divisors of n\n",
        "    result = 0\n",
        "    for i in range(1,int(sqrt(n))+1):\n",
        " \n",
        "        # if i is a factor of n\n",
        "        if n % i == 0:\n",
        " \n",
        "            # check if divisors are equal\n",
        "            if n/i == i:\n",
        "                result += 1\n",
        "            else:\n",
        "                result += 2\n",
        "                 \n",
        "    return result\n"
      ],
      "execution_count": 1,
      "outputs": []
    },
    {
      "cell_type": "code",
      "metadata": {
        "colab": {
          "base_uri": "https://localhost:8080/"
        },
        "id": "L9IQbObR4irs",
        "outputId": "fd6ac653-fa97-48e7-b838-294e5a3158a5"
      },
      "source": [
        "# Driver program to run the case\n",
        "if __name__ == \"__main__\":\n",
        "    a = 12\n",
        "    b = 24;\n",
        "    print(commDiv(a, b))"
      ],
      "execution_count": 2,
      "outputs": [
        {
          "output_type": "stream",
          "text": [
            "6\n"
          ],
          "name": "stdout"
        }
      ]
    },
    {
      "cell_type": "code",
      "metadata": {
        "id": "qbV7GLmU4m1J"
      },
      "source": [
        ""
      ],
      "execution_count": null,
      "outputs": []
    }
  ]
}