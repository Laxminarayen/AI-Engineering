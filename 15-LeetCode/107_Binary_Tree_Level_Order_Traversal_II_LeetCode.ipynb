{
  "nbformat": 4,
  "nbformat_minor": 0,
  "metadata": {
    "colab": {
      "name": "107 Binary Tree Level Order Traversal II LeetCode.ipynb",
      "provenance": [],
      "authorship_tag": "ABX9TyMwMuZqevUrl6TFFpO2QEt6",
      "include_colab_link": true
    },
    "kernelspec": {
      "name": "python3",
      "display_name": "Python 3"
    },
    "language_info": {
      "name": "python"
    }
  },
  "cells": [
    {
      "cell_type": "markdown",
      "metadata": {
        "id": "view-in-github",
        "colab_type": "text"
      },
      "source": [
        "<a href=\"https://colab.research.google.com/github/plthiyagu/AI-Engineering/blob/master/15-LeetCode/107_Binary_Tree_Level_Order_Traversal_II_LeetCode.ipynb\" target=\"_parent\"><img src=\"https://colab.research.google.com/assets/colab-badge.svg\" alt=\"Open In Colab\"/></a>"
      ]
    },
    {
      "cell_type": "code",
      "metadata": {
        "id": "J_of_1HbTUge"
      },
      "source": [
        "# Definition for a binary tree node.\n",
        "# class TreeNode:\n",
        "#     def __init__(self, val=0, left=None, right=None):\n",
        "#         self.val = val\n",
        "#         self.left = left\n",
        "#         self.right = right\n",
        "class Solution:\n",
        "    def levelOrderBottom(self, root: Optional[TreeNode]) -> List[List[int]]:\n",
        "        if not root:\n",
        "            return None\n",
        "        res, q = [], [root]\n",
        "        while q:\n",
        "            val, tmp = [], []\n",
        "            for node in q:\n",
        "                val.append(node.val)\n",
        "                if node.left:\n",
        "                    tmp.append(node.left)\n",
        "                if node.right:\n",
        "                    tmp.append(node.right)\n",
        "            res.append(val)\n",
        "            q = tmp\n",
        "        return res[::-1]\n",
        "\n",
        "        "
      ],
      "execution_count": null,
      "outputs": []
    }
  ]
}