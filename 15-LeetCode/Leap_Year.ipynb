{
  "nbformat": 4,
  "nbformat_minor": 0,
  "metadata": {
    "colab": {
      "name": "Leap Year.ipynb",
      "provenance": [],
      "authorship_tag": "ABX9TyMB/MtiaG5s7+GNXhC5EL3B",
      "include_colab_link": true
    },
    "kernelspec": {
      "name": "python3",
      "display_name": "Python 3"
    }
  },
  "cells": [
    {
      "cell_type": "markdown",
      "metadata": {
        "id": "view-in-github",
        "colab_type": "text"
      },
      "source": [
        "<a href=\"https://colab.research.google.com/github/plthiyagu/Personnel/blob/master/Leap_Year.ipynb\" target=\"_parent\"><img src=\"https://colab.research.google.com/assets/colab-badge.svg\" alt=\"Open In Colab\"/></a>"
      ]
    },
    {
      "cell_type": "code",
      "metadata": {
        "id": "5diTfmxXxTWE",
        "colab_type": "code",
        "colab": {}
      },
      "source": [
        "def LeapYear(year):\n",
        "  if (year % 4) == 0:\n",
        "    if (year % 100) == 0:\n",
        "      if (year % 400) == 0:\n",
        "        print(\"{0} is a leap year\".format(year))\n",
        "      else:\n",
        "        print(\"{0} is not a leap year\".format(year))\n",
        "    else:\n",
        "      print(\"{0} is a leap year\".format(year))\n",
        "  else:\n",
        "    print(\"{0} is not a leap year\".format(year))\n"
      ],
      "execution_count": 0,
      "outputs": []
    },
    {
      "cell_type": "code",
      "metadata": {
        "id": "lWnRX94hxUiL",
        "colab_type": "code",
        "colab": {
          "base_uri": "https://localhost:8080/",
          "height": 34
        },
        "outputId": "eeb199e1-733f-4bec-e264-7f6604d7cb8e"
      },
      "source": [
        "num=2013\n",
        "LeapYear(num)"
      ],
      "execution_count": 2,
      "outputs": [
        {
          "output_type": "stream",
          "text": [
            "2013 is not a leap year\n"
          ],
          "name": "stdout"
        }
      ]
    },
    {
      "cell_type": "code",
      "metadata": {
        "id": "NvPpdGpJxaw7",
        "colab_type": "code",
        "colab": {
          "base_uri": "https://localhost:8080/",
          "height": 34
        },
        "outputId": "cd9efaec-a2f1-4f89-b1ce-d6a6a037357c"
      },
      "source": [
        "num=2000\n",
        "LeapYear(num)"
      ],
      "execution_count": 3,
      "outputs": [
        {
          "output_type": "stream",
          "text": [
            "2000 is a leap year\n"
          ],
          "name": "stdout"
        }
      ]
    },
    {
      "cell_type": "code",
      "metadata": {
        "id": "1xp1YYRyxdrj",
        "colab_type": "code",
        "colab": {
          "base_uri": "https://localhost:8080/",
          "height": 34
        },
        "outputId": "9ff847c7-9e9f-45a0-9dbe-8782cec5d2a8"
      },
      "source": [
        "num=2012\n",
        "LeapYear(num)"
      ],
      "execution_count": 4,
      "outputs": [
        {
          "output_type": "stream",
          "text": [
            "2012 is a leap year\n"
          ],
          "name": "stdout"
        }
      ]
    }
  ]
}