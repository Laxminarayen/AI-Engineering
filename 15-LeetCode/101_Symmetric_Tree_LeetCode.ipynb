{
  "nbformat": 4,
  "nbformat_minor": 0,
  "metadata": {
    "colab": {
      "name": "101 Symmetric Tree LeetCode.ipynb",
      "provenance": [],
      "authorship_tag": "ABX9TyNOCEHKJvqK8brEcnmk/t/G",
      "include_colab_link": true
    },
    "kernelspec": {
      "name": "python3",
      "display_name": "Python 3"
    },
    "language_info": {
      "name": "python"
    }
  },
  "cells": [
    {
      "cell_type": "markdown",
      "metadata": {
        "id": "view-in-github",
        "colab_type": "text"
      },
      "source": [
        "<a href=\"https://colab.research.google.com/github/plthiyagu/AI-Engineering/blob/master/15-LeetCode/101_Symmetric_Tree_LeetCode.ipynb\" target=\"_parent\"><img src=\"https://colab.research.google.com/assets/colab-badge.svg\" alt=\"Open In Colab\"/></a>"
      ]
    },
    {
      "cell_type": "code",
      "metadata": {
        "id": "yZ8aUT2Hr2OV"
      },
      "source": [
        "# Definition for a binary tree node.\n",
        "class TreeNode:\n",
        "    def __init__(self, val=0, left=None, right=None):\n",
        "        self.val = val\n",
        "        self.left = left\n",
        "        self.right = right\n",
        "class Solution:\n",
        "    def checkSysmmetric(self, left, right):\n",
        "        if None == left and None == right:\n",
        "            return True\n",
        "        elif None == left or None == right:\n",
        "            return False\n",
        "        elif left.val != right.val:\n",
        "            return False\n",
        "        return self.checkSysmmetric(left.left, right.right) and     self.checkSysmmetric(left.right, right.left)\n",
        "\n",
        "    def isSymmetric(self, root: Optional[TreeNode]) -> bool:\n",
        "        if None == root:\n",
        "            return True\n",
        "        return self.checkSysmmetric(root.left, root.right)"
      ],
      "execution_count": null,
      "outputs": []
    },
    {
      "cell_type": "code",
      "metadata": {
        "id": "Swr2rIRYr6jQ"
      },
      "source": [
        ""
      ],
      "execution_count": null,
      "outputs": []
    }
  ]
}