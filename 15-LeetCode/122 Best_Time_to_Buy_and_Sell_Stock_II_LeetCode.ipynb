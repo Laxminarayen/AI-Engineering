{
  "nbformat": 4,
  "nbformat_minor": 0,
  "metadata": {
    "colab": {
      "name": "Best Time to Buy and Sell Stock II LeetCode 122.ipynb",
      "provenance": [],
      "collapsed_sections": [],
      "authorship_tag": "ABX9TyOYKmZW7VZLCJdw4g5Ks7Lp",
      "include_colab_link": true
    },
    "kernelspec": {
      "name": "python3",
      "display_name": "Python 3"
    },
    "language_info": {
      "name": "python"
    }
  },
  "cells": [
    {
      "cell_type": "markdown",
      "metadata": {
        "id": "view-in-github",
        "colab_type": "text"
      },
      "source": [
        "<a href=\"https://colab.research.google.com/github/plthiyagu/AI-Engineering/blob/master/22-LeetCode/Best_Time_to_Buy_and_Sell_Stock_II_LeetCode_122.ipynb\" target=\"_parent\"><img src=\"https://colab.research.google.com/assets/colab-badge.svg\" alt=\"Open In Colab\"/></a>"
      ]
    },
    {
      "cell_type": "markdown",
      "metadata": {
        "id": "IG1itlrYLDIW"
      },
      "source": [
        "https://www.youtube.com/watch?v=3SJ3pUkPQMc"
      ]
    },
    {
      "cell_type": "code",
      "metadata": {
        "id": "rStWSgQ1Bic-"
      },
      "source": [
        "def maxProfit(prices):\n",
        "    \"\"\"\n",
        "    :type prices: List[int]\n",
        "    :rtype: int\n",
        "    \"\"\"\n",
        "    \n",
        "    profit =0\n",
        "    \n",
        "    for i in range(1, len(prices)):\n",
        "        if prices[i] >  prices[i-1]:\n",
        "            profit += (prices[i]- prices[i-1])\n",
        "    return profit\n",
        "    "
      ],
      "execution_count": 2,
      "outputs": []
    },
    {
      "cell_type": "code",
      "metadata": {
        "colab": {
          "base_uri": "https://localhost:8080/"
        },
        "id": "KGEiGUE8LCkY",
        "outputId": "c55caf7e-56e8-4ad9-bdb2-d2da536e2b95"
      },
      "source": [
        "prices=[7,1,5,3,6,4]\n",
        "maxProfit(prices)"
      ],
      "execution_count": 3,
      "outputs": [
        {
          "output_type": "execute_result",
          "data": {
            "text/plain": [
              "7"
            ]
          },
          "metadata": {
            "tags": []
          },
          "execution_count": 3
        }
      ]
    },
    {
      "cell_type": "code",
      "metadata": {
        "id": "BeEyFPTBLOIg"
      },
      "source": [
        ""
      ],
      "execution_count": null,
      "outputs": []
    }
  ]
}