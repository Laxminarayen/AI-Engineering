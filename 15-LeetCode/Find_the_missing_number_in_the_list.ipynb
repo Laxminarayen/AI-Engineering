{
  "nbformat": 4,
  "nbformat_minor": 0,
  "metadata": {
    "colab": {
      "name": "Find the missing number in the list.ipynb",
      "provenance": [],
      "authorship_tag": "ABX9TyOOGlSFqYpHvGP+N5/Cexl9",
      "include_colab_link": true
    },
    "kernelspec": {
      "name": "python3",
      "display_name": "Python 3"
    }
  },
  "cells": [
    {
      "cell_type": "markdown",
      "metadata": {
        "id": "view-in-github",
        "colab_type": "text"
      },
      "source": [
        "<a href=\"https://colab.research.google.com/github/plthiyagu/Personnel/blob/master/Find_the_missing_number_in_the_list.ipynb\" target=\"_parent\"><img src=\"https://colab.research.google.com/assets/colab-badge.svg\" alt=\"Open In Colab\"/></a>"
      ]
    },
    {
      "cell_type": "markdown",
      "metadata": {
        "id": "gGgCoqh-3s7g"
      },
      "source": [
        "Find the missing Number"
      ]
    },
    {
      "cell_type": "code",
      "metadata": {
        "id": "QSktV0xhqNAd",
        "outputId": "71339bc1-3247-4841-8fb4-b97660af32fc",
        "colab": {
          "base_uri": "https://localhost:8080/",
          "height": 34
        }
      },
      "source": [
        "#getMissingNo takes list as argument\n",
        "\n",
        "def getMissingNo(A):\n",
        "  n= len(A)\n",
        "  total = (n+1) * (n+2)/2\n",
        "  sum_of_A = sum(A)\n",
        "  return total-sum_of_A\n",
        "\n",
        "A= [1,2,3,4,5,6,7,9,10]\n",
        "miss = getMissingNo(A)\n",
        "print(miss)"
      ],
      "execution_count": 1,
      "outputs": [
        {
          "output_type": "stream",
          "text": [
            "8.0\n"
          ],
          "name": "stdout"
        }
      ]
    },
    {
      "cell_type": "code",
      "metadata": {
        "id": "-UvfFNwF4Ppn"
      },
      "source": [
        ""
      ],
      "execution_count": null,
      "outputs": []
    }
  ]
}