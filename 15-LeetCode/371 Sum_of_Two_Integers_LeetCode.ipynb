{
  "nbformat": 4,
  "nbformat_minor": 0,
  "metadata": {
    "colab": {
      "name": "371 Sum of Two Integers LeetCode.ipynb",
      "provenance": [],
      "authorship_tag": "ABX9TyM3XEwsA8Kqdniyy3mF1gvZ",
      "include_colab_link": true
    },
    "kernelspec": {
      "name": "python3",
      "display_name": "Python 3"
    },
    "language_info": {
      "name": "python"
    }
  },
  "cells": [
    {
      "cell_type": "markdown",
      "metadata": {
        "id": "view-in-github",
        "colab_type": "text"
      },
      "source": [
        "<a href=\"https://colab.research.google.com/github/plthiyagu/AI-Engineering/blob/master/15-LeetCode/371%20Sum_of_Two_Integers_LeetCode.ipynb\" target=\"_parent\"><img src=\"https://colab.research.google.com/assets/colab-badge.svg\" alt=\"Open In Colab\"/></a>"
      ]
    },
    {
      "cell_type": "code",
      "metadata": {
        "id": "5eZvO0WmM1E5"
      },
      "source": [
        "def getSum( a, b):\n",
        "    \"\"\"\n",
        "    :type a: int\n",
        "    :type b: int\n",
        "    :rtype: int\n",
        "    \"\"\"\n",
        "    MAX = 0x7FFFFFFF\n",
        "    # 0 to the maximum value of the sign bit\n",
        "    Mask = 0xFFFFFFFF\n",
        "    #The maximum value of the sign bit # 1\n",
        "\n",
        "        \n",
        "    while b!=0:\n",
        "        suma=(a^b)&Mask\n",
        "        carry=((a&b)<<1)&Mask\n",
        "        a=suma\n",
        "        b=carry\n",
        "    \n",
        "    return a if a<=MAX else ~(a^Mask)"
      ],
      "execution_count": 1,
      "outputs": []
    },
    {
      "cell_type": "code",
      "metadata": {
        "colab": {
          "base_uri": "https://localhost:8080/"
        },
        "id": "WCQzP2lxM6ii",
        "outputId": "2d1da4a9-baca-4a4a-834f-dbbfc322dae4"
      },
      "source": [
        "a = 2\n",
        "b = 3\n",
        "getSum( a, b)"
      ],
      "execution_count": 3,
      "outputs": [
        {
          "output_type": "execute_result",
          "data": {
            "text/plain": [
              "5"
            ]
          },
          "metadata": {
            "tags": []
          },
          "execution_count": 3
        }
      ]
    },
    {
      "cell_type": "code",
      "metadata": {
        "id": "RYnAj0VoNYiP"
      },
      "source": [
        ""
      ],
      "execution_count": null,
      "outputs": []
    }
  ]
}