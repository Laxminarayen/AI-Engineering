{
  "nbformat": 4,
  "nbformat_minor": 0,
  "metadata": {
    "colab": {
      "name": "33 Search in Rotated Sorted Array LeetCode.ipynb",
      "provenance": [],
      "authorship_tag": "ABX9TyO+XAp9aqAsbpD7RO8W+K0l",
      "include_colab_link": true
    },
    "kernelspec": {
      "name": "python3",
      "display_name": "Python 3"
    },
    "language_info": {
      "name": "python"
    }
  },
  "cells": [
    {
      "cell_type": "markdown",
      "metadata": {
        "id": "view-in-github",
        "colab_type": "text"
      },
      "source": [
        "<a href=\"https://colab.research.google.com/github/plthiyagu/AI-Engineering/blob/master/15-LeetCode/33%20Search_in_Rotated_Sorted_Array_LeetCode.ipynb\" target=\"_parent\"><img src=\"https://colab.research.google.com/assets/colab-badge.svg\" alt=\"Open In Colab\"/></a>"
      ]
    },
    {
      "cell_type": "code",
      "metadata": {
        "id": "yf91Gg3ldOt-"
      },
      "source": [
        "def search( nums, target):\n",
        "    \"\"\"\n",
        "    :type nums: List[int]\n",
        "    :type target: int\n",
        "    :rtype: int\n",
        "    \"\"\"\n",
        "    l, r = 0, len(nums) - 1\n",
        "    while l <= r:\n",
        "        m = (l + r) // 2\n",
        "        if nums[m] == target:\n",
        "            return m\n",
        "        elif nums[l] <= nums[m] < target or \\\n",
        "            target < nums[l] <= nums[m] or \\\n",
        "            nums[m] < target < nums[l]:\n",
        "            l = m + 1\n",
        "        else:\n",
        "            r = m - 1\n",
        "    return -1"
      ],
      "execution_count": 1,
      "outputs": []
    },
    {
      "cell_type": "code",
      "metadata": {
        "colab": {
          "base_uri": "https://localhost:8080/"
        },
        "id": "UMko2CSedZU4",
        "outputId": "04d192c8-d16e-4ef7-efc5-c8482e48650f"
      },
      "source": [
        "nums = [4,5,6,7,0,1,2]\n",
        "target = 0\n",
        "search( nums, target)"
      ],
      "execution_count": 2,
      "outputs": [
        {
          "output_type": "execute_result",
          "data": {
            "text/plain": [
              "4"
            ]
          },
          "metadata": {
            "tags": []
          },
          "execution_count": 2
        }
      ]
    },
    {
      "cell_type": "code",
      "metadata": {
        "id": "ku4Soload0Ff"
      },
      "source": [
        ""
      ],
      "execution_count": null,
      "outputs": []
    }
  ]
}