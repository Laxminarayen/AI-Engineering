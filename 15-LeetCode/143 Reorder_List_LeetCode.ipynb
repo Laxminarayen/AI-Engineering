{
  "nbformat": 4,
  "nbformat_minor": 0,
  "metadata": {
    "colab": {
      "name": "143 Reorder List LeetCode.ipynb",
      "provenance": [],
      "authorship_tag": "ABX9TyOW5hIW+vr96LMAgHuBn8SX",
      "include_colab_link": true
    },
    "kernelspec": {
      "name": "python3",
      "display_name": "Python 3"
    },
    "language_info": {
      "name": "python"
    }
  },
  "cells": [
    {
      "cell_type": "markdown",
      "metadata": {
        "id": "view-in-github",
        "colab_type": "text"
      },
      "source": [
        "<a href=\"https://colab.research.google.com/github/plthiyagu/AI-Engineering/blob/master/15-LeetCode/143%20Reorder_List_LeetCode.ipynb\" target=\"_parent\"><img src=\"https://colab.research.google.com/assets/colab-badge.svg\" alt=\"Open In Colab\"/></a>"
      ]
    },
    {
      "cell_type": "code",
      "metadata": {
        "id": "PHnCWejrH_QO"
      },
      "source": [
        "# Definition for singly-linked list.\n",
        "class ListNode(object):\n",
        "    def __init__(self, val=0, next=None):\n",
        "        self.val = val\n",
        "        self.next = next\n",
        "class Solution(object):\n",
        "    def reorderList(self, head):\n",
        "        \"\"\"\n",
        "        :type head: ListNode\n",
        "        :rtype: None Do not return anything, modify head in-place instead.\n",
        "        \"\"\"\n",
        "        if not head or not head.next or not head.next.next:\n",
        "            return\n",
        "        slow, fast = head, head\n",
        "        while fast.next and fast.next.next:\n",
        "            slow = slow.next\n",
        "            fast = fast.next.next\n",
        "        head2 = slow.next\n",
        "        slow.next = None\n",
        "        dummy = ListNode(0, None)\n",
        "        while head2:\n",
        "            tmp = head2.next\n",
        "            head2.next = dummy.next\n",
        "            dummy.next = head2\n",
        "            head2 = tmp\n",
        "        head1 = head\n",
        "        head2 = dummy.next\n",
        "        while head1 and head2:\n",
        "            tmp = head2\n",
        "            head2 = head2.next\n",
        "            tmp.next = head1.next\n",
        "            head1.next = tmp\n",
        "            head1 = head1.next.next"
      ],
      "execution_count": 1,
      "outputs": []
    },
    {
      "cell_type": "code",
      "metadata": {
        "id": "3n7tT_JJIPj9"
      },
      "source": [
        "head = [1,2,3,4]"
      ],
      "execution_count": 2,
      "outputs": []
    },
    {
      "cell_type": "code",
      "metadata": {
        "id": "9X9nh2M3ITW1"
      },
      "source": [
        ""
      ],
      "execution_count": null,
      "outputs": []
    }
  ]
}