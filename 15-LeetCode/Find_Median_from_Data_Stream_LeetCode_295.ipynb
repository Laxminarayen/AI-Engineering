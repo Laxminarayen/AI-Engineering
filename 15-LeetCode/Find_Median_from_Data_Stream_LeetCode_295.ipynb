{
  "nbformat": 4,
  "nbformat_minor": 0,
  "metadata": {
    "colab": {
      "name": "Find Median from Data Stream LeetCode 295.ipynb",
      "provenance": [],
      "collapsed_sections": [],
      "authorship_tag": "ABX9TyMsT5GGPGSW8bZn+9gXTXUk",
      "include_colab_link": true
    },
    "kernelspec": {
      "name": "python3",
      "display_name": "Python 3"
    },
    "language_info": {
      "name": "python"
    }
  },
  "cells": [
    {
      "cell_type": "markdown",
      "metadata": {
        "id": "view-in-github",
        "colab_type": "text"
      },
      "source": [
        "<a href=\"https://colab.research.google.com/github/plthiyagu/AI-Engineering/blob/master/22-LeetCode/Find_Median_from_Data_Stream_LeetCode_295.ipynb\" target=\"_parent\"><img src=\"https://colab.research.google.com/assets/colab-badge.svg\" alt=\"Open In Colab\"/></a>"
      ]
    },
    {
      "cell_type": "code",
      "metadata": {
        "id": "WfGi7SWDLCXt"
      },
      "source": [
        "import heapq\n",
        "#from heapq import heappush, heappop\n"
      ],
      "execution_count": 14,
      "outputs": []
    },
    {
      "cell_type": "code",
      "metadata": {
        "id": "P_e5gJHxKxq0"
      },
      "source": [
        "import heapq\n",
        "class MedianFinder(object):\n",
        "\n",
        "    def __init__(self):\n",
        "        \"\"\"\n",
        "        initialize your data structure here.\n",
        "        \"\"\"\n",
        "        self.__max_heap = []\n",
        "        self.__min_heap = []\n",
        "\n",
        "\n",
        "    def addNum(self, num):\n",
        "        \"\"\"\n",
        "        :type num: int\n",
        "        :rtype: None\n",
        "        \"\"\"\n",
        "                # Balance smaller half and larger half.\n",
        "        if not self.__max_heap or num > -self.__max_heap[0]:\n",
        "            heapq.heappush(self.__min_heap, num)\n",
        "            if len(self.__min_heap) > len(self.__max_heap) + 1:\n",
        "                heapq.heappush(self.__max_heap, -heapq.heappop(self.__min_heap))\n",
        "        else:\n",
        "            heappush(self.__max_heap, -num)\n",
        "            if len(self.__max_heap) > len(self.__min_heap):\n",
        "                heapq.heappush(self.__min_heap, -heapq.heappop(self.__max_heap))\n",
        "\n",
        "\n",
        "    def findMedian(self):\n",
        "        \"\"\"\n",
        "        :rtype: float\n",
        "        \"\"\"\n",
        "        return (-self.__max_heap[0] + self.__min_heap[0]) / 2.0 \\\n",
        "               if len(self.__min_heap) == len(self.__max_heap) \\\n",
        "               else self.__min_heap[0]\n",
        "\n",
        "# Your MedianFinder object will be instantiated and called as such:\n",
        "# obj = MedianFinder()\n",
        "# obj.addNum(num)\n",
        "# param_2 = obj.findMedian()"
      ],
      "execution_count": 17,
      "outputs": []
    },
    {
      "cell_type": "code",
      "metadata": {
        "colab": {
          "base_uri": "https://localhost:8080/"
        },
        "id": "s_WNyZuPKyf7",
        "outputId": "6d0e1d40-ab30-4942-d4e5-9d6e9cef4d06"
      },
      "source": [
        "#Your MedianFinder object will be instantiated and called as such:\n",
        "num =[[],[1],[2],[],[3],[]]\n",
        "obj = MedianFinder()\n",
        "obj.addNum(num)\n",
        "param_2 = obj.findMedian()\n",
        "print(param_2)"
      ],
      "execution_count": 18,
      "outputs": [
        {
          "output_type": "stream",
          "text": [
            "[[], [1], [2], [], [3], []]\n"
          ],
          "name": "stdout"
        }
      ]
    },
    {
      "cell_type": "code",
      "metadata": {
        "id": "GOaQbDuOK3zC"
      },
      "source": [
        ""
      ],
      "execution_count": null,
      "outputs": []
    },
    {
      "cell_type": "code",
      "metadata": {
        "id": "a0uvr2YIE3Jt"
      },
      "source": [
        "import heapq\n",
        "class MedianFinder(object):\n",
        "\n",
        "    def __init__(self):\n",
        "        \"\"\"\n",
        "        initialize your data structure here.\n",
        "        \"\"\"\n",
        "        self.small,self.large =[],[]\n",
        "\n",
        "    def addNum(self, num):\n",
        "        \"\"\"\n",
        "        :type num: int\n",
        "        :rtype: None\n",
        "        \"\"\"\n",
        "        heapq.heappush(self.small,-1*num)\n",
        "        if (self.small and self.large and \n",
        "            (-1 *self.small[0]) > self.large[0]):\n",
        "            val= -1 * heapq.heappop(self.small)\n",
        "            heapq.heappush(self.large, val)\n",
        "        if len(self.small) > len(self.large) +1:\n",
        "            val= -1 * heapq.heappop(self.small)\n",
        "            heapq.heappush(self.large, val)\n",
        "        if len(self.large) > len(self.small) +1:\n",
        "            val=  heapq.heappop(self.large)\n",
        "            heapq.heappush(self.small, -1 * val)\n",
        "          \n",
        "        \n",
        "        \n",
        "\n",
        "    def findMedian(self):\n",
        "        \"\"\"\n",
        "        :rtype: float\n",
        "        \"\"\"\n",
        "        if len(self.small) > len(self.large):\n",
        "            return -1 * self.small[0]\n",
        "        if len(self.large) > len(self.small):\n",
        "            return self.large[0]\n",
        "        \n",
        "        return (-1 *self.small[0]+self.large[0])/2"
      ],
      "execution_count": 3,
      "outputs": []
    },
    {
      "cell_type": "code",
      "metadata": {
        "colab": {
          "base_uri": "https://localhost:8080/"
        },
        "id": "mCVOKDU5E7YP",
        "outputId": "40d75a21-7bc6-42c3-aadd-ad62bbae53a8"
      },
      "source": [
        "#Your MedianFinder object will be instantiated and called as such:\n",
        "num =[[],[1],[2],[],[3],[]]\n",
        "obj = MedianFinder()\n",
        "obj.addNum(num)\n",
        "param_2 = obj.findMedian()\n",
        "print(param_2)"
      ],
      "execution_count": 7,
      "outputs": [
        {
          "output_type": "stream",
          "text": [
            "[[], [1], [2], [], [3], []]\n"
          ],
          "name": "stdout"
        }
      ]
    },
    {
      "cell_type": "code",
      "metadata": {
        "id": "8py7sT1vFfld"
      },
      "source": [
        "class MedianFinder:\n",
        "\n",
        "    def __init__(self):\n",
        "        \"\"\"\n",
        "        initialize your data structure here.\n",
        "        \"\"\"\n",
        "        self.nums = []\n",
        "\n",
        "    def addNum(self, num: int) -> None:\n",
        "        heapq.heappush(self.nums, num)\n",
        "\n",
        "    def findMedian(self) -> float:\n",
        "        self.nums = sorted(self.nums)\n",
        "        size = len(self.nums)\n",
        "        \n",
        "        if size % 2 != 0:           \n",
        "            n = size // 2\n",
        "            return self.nums[n]\n",
        "        else:\n",
        "            n1 = self.nums[size // 2 - 1]\n",
        "            n2 = self.nums[size // 2]\n",
        "            \n",
        "            print (n1, n2)\n",
        "            return (n1 + n2) / 2"
      ],
      "execution_count": 6,
      "outputs": []
    },
    {
      "cell_type": "code",
      "metadata": {
        "id": "GUIwWejBFvvR"
      },
      "source": [
        "class MedianFinder(object):\n",
        "\n",
        "    def __init__(self):\n",
        "        \"\"\"\n",
        "        initialize your data structure here.\n",
        "        \"\"\"\n",
        "        self.small,self.large =[],[]\n",
        "\n",
        "    def addNum(self, num):\n",
        "        \"\"\"\n",
        "        :type num: int\n",
        "        :rtype: None\n",
        "        \"\"\"\n",
        "        heapq.heappush(self.small,-1 * num)\n",
        "        \n",
        "        if (self.small and self.large and \n",
        "            (-1 * self.small[0]) > self.large[0]):            \n",
        "            val= -1 * heapq.heappop(self.small)\n",
        "            heapq.heappush(self.large, val)\n",
        "            \n",
        "        if len(self.small) > len(self.large) + 1:\n",
        "            val= -1 * heapq.heappop(self.small)\n",
        "            heapq.heappush(self.large, val)\n",
        "            \n",
        "        if len(self.large) > len(self.small) + 1:\n",
        "            val=  heapq.heappop(self.large)\n",
        "            heapq.heappush(self.small, -1 * val)\n",
        "          \n",
        "        \n",
        "        \n",
        "\n",
        "    def findMedian(self):\n",
        "        \"\"\"\n",
        "        :rtype: float\n",
        "        \"\"\"\n",
        "        if len(self.small) > len(self.large):\n",
        "            return -1 * self.small[0]\n",
        "        \n",
        "        if len(self.large) > len(self.small):\n",
        "            return self.large[0]\n",
        "        \n",
        "        return ((-1 * self.small[0])+ self.large[0]) / 2\n",
        "        \n",
        "\n",
        "\n",
        "# Your MedianFinder object will be instantiated and called as such:\n",
        "# obj = MedianFinder()\n",
        "# obj.addNum(num)\n",
        "# param_2 = obj.findMedian()"
      ],
      "execution_count": null,
      "outputs": []
    }
  ]
}