{
  "nbformat": 4,
  "nbformat_minor": 0,
  "metadata": {
    "colab": {
      "name": "43 Multiply Strings LeetCode.ipynb",
      "provenance": [],
      "authorship_tag": "ABX9TyMvmV2pmA4BKUHZVpbVP7Eh",
      "include_colab_link": true
    },
    "kernelspec": {
      "name": "python3",
      "display_name": "Python 3"
    },
    "language_info": {
      "name": "python"
    }
  },
  "cells": [
    {
      "cell_type": "markdown",
      "metadata": {
        "id": "view-in-github",
        "colab_type": "text"
      },
      "source": [
        "<a href=\"https://colab.research.google.com/github/plthiyagu/AI-Engineering/blob/master/15-LeetCode/43%20Multiply_Strings_LeetCode.ipynb\" target=\"_parent\"><img src=\"https://colab.research.google.com/assets/colab-badge.svg\" alt=\"Open In Colab\"/></a>"
      ]
    },
    {
      "cell_type": "markdown",
      "metadata": {
        "id": "ggala2Ao55aI"
      },
      "source": [
        "https://programmerah.com/python-leetcode-43-multiply-strings-13473/"
      ]
    },
    {
      "cell_type": "code",
      "metadata": {
        "id": "cwvrZbt-5vk7"
      },
      "source": [
        "def multiply(num1, num2):\n",
        "    \"\"\"\n",
        "    :type num1: str\n",
        "    :type num2: str\n",
        "    :rtype: str\n",
        "    \"\"\"\n",
        "    res = [0] * (len(num1) + len(num2))  # Initialization, array to hold the product.\n",
        "    pos = len(res) - 1\n",
        "\n",
        "    for n1 in reversed(num1):\n",
        "        tempPos = pos\n",
        "        for n2 in reversed(num2):\n",
        "            res[tempPos] += int(n1) * int(n2)\n",
        "            res[tempPos - 1] += res[tempPos] // 10  # Offset\n",
        "            res[tempPos] %= 10  # fractional remainder\n",
        "            tempPos -= 1\n",
        "        pos -= 1\n",
        "\n",
        "    st = 0\n",
        "    while st < len(res) - 1 and res[st] == 0:  # How many zeros are in front of a statistic?\n",
        "        st += 1\n",
        "    return ''.join(map(str, res[st:])) # Remove the 0, then turn it into a string, and return\n"
      ],
      "execution_count": 1,
      "outputs": []
    },
    {
      "cell_type": "code",
      "metadata": {
        "colab": {
          "base_uri": "https://localhost:8080/",
          "height": 35
        },
        "id": "tCDOSQUz57TN",
        "outputId": "76f8ea22-83bd-4554-9cbf-efe15dfb95b8"
      },
      "source": [
        "num1 = \"123\"\n",
        "num2 = \"456\"\n",
        "multiply(num1, num2)"
      ],
      "execution_count": 2,
      "outputs": [
        {
          "output_type": "execute_result",
          "data": {
            "application/vnd.google.colaboratory.intrinsic+json": {
              "type": "string"
            },
            "text/plain": [
              "'56088'"
            ]
          },
          "metadata": {
            "tags": []
          },
          "execution_count": 2
        }
      ]
    },
    {
      "cell_type": "code",
      "metadata": {
        "id": "9O4kng5u6Cbh"
      },
      "source": [
        ""
      ],
      "execution_count": null,
      "outputs": []
    }
  ]
}