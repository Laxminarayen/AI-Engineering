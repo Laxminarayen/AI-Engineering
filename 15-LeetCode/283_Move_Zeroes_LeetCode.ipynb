{
  "nbformat": 4,
  "nbformat_minor": 0,
  "metadata": {
    "colab": {
      "name": "283 Move Zeroes LeetCode.ipynb",
      "provenance": [],
      "authorship_tag": "ABX9TyOlOVQ5rNr9mCrcK7jCaOGx",
      "include_colab_link": true
    },
    "kernelspec": {
      "name": "python3",
      "display_name": "Python 3"
    },
    "language_info": {
      "name": "python"
    }
  },
  "cells": [
    {
      "cell_type": "markdown",
      "metadata": {
        "id": "view-in-github",
        "colab_type": "text"
      },
      "source": [
        "<a href=\"https://colab.research.google.com/github/plthiyagu/AI-Engineering/blob/master/15-LeetCode/283_Move_Zeroes_LeetCode.ipynb\" target=\"_parent\"><img src=\"https://colab.research.google.com/assets/colab-badge.svg\" alt=\"Open In Colab\"/></a>"
      ]
    },
    {
      "cell_type": "code",
      "metadata": {
        "id": "xD5L69QDdFxP"
      },
      "source": [
        "from  typing import List\n",
        "def moveZeroes(nums: List[int]) -> None:\n",
        "    \"\"\"\n",
        "    Do not return anything, modify nums in-place instead.\n",
        "    \"\"\"\n",
        "    l, r, n = 0, 0, len(nums)\n",
        "    while r < n:\n",
        "        if nums[r] != 0:\n",
        "            nums[l] = nums[r]\n",
        "            l += 1\n",
        "        r += 1\n",
        "    while l < n:\n",
        "        nums[l] = 0\n",
        "        l += 1"
      ],
      "execution_count": 2,
      "outputs": []
    },
    {
      "cell_type": "code",
      "metadata": {
        "colab": {
          "base_uri": "https://localhost:8080/"
        },
        "id": "s2zIfyeEdPob",
        "outputId": "19122b4e-f2df-4c1f-ef1b-852f267a7332"
      },
      "source": [
        "nums = [0,1,0,3,12]\n",
        "moveZeroes(nums)\n",
        "print(nums)"
      ],
      "execution_count": 6,
      "outputs": [
        {
          "output_type": "stream",
          "name": "stdout",
          "text": [
            "[1, 3, 12, 0, 0]\n"
          ]
        }
      ]
    },
    {
      "cell_type": "code",
      "metadata": {
        "id": "wdLGyptEdh9l"
      },
      "source": [
        ""
      ],
      "execution_count": null,
      "outputs": []
    }
  ]
}