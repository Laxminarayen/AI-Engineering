{
  "nbformat": 4,
  "nbformat_minor": 0,
  "metadata": {
    "colab": {
      "name": "206 Reverse Linked List LeetCode.ipynb",
      "provenance": [],
      "authorship_tag": "ABX9TyO6JnawIsA8TxSzNptZHaij",
      "include_colab_link": true
    },
    "kernelspec": {
      "name": "python3",
      "display_name": "Python 3"
    },
    "language_info": {
      "name": "python"
    }
  },
  "cells": [
    {
      "cell_type": "markdown",
      "metadata": {
        "id": "view-in-github",
        "colab_type": "text"
      },
      "source": [
        "<a href=\"https://colab.research.google.com/github/plthiyagu/AI-Engineering/blob/master/15-LeetCode/206_Reverse_Linked_List_LeetCode.ipynb\" target=\"_parent\"><img src=\"https://colab.research.google.com/assets/colab-badge.svg\" alt=\"Open In Colab\"/></a>"
      ]
    },
    {
      "cell_type": "code",
      "metadata": {
        "id": "jdJWmHXY0Qzi"
      },
      "source": [
        "# Definition for singly-linked list.\n",
        "class ListNode(object):\n",
        "     def __init__(self, val=0, next=None):\n",
        "       self.val = val\n",
        "       self.next = next\n",
        "class Solution(object):\n",
        "    def reverseList(self, head):\n",
        "        \"\"\"\n",
        "        :type head: ListNode\n",
        "        :rtype: ListNode\n",
        "        \"\"\"\n",
        "        return self.reverse(head)\n",
        "\n",
        "    def reverse(self, node, prev=None):\n",
        "        if not node:\n",
        "            return prev\n",
        "        n = node.next\n",
        "        node.next = prev\n",
        "\n",
        "        return self.reverse(n, node)"
      ],
      "execution_count": 1,
      "outputs": []
    },
    {
      "cell_type": "code",
      "metadata": {
        "id": "c_l-fi3c0Zm_"
      },
      "source": [
        "head = [1,2,3,4,5]\n"
      ],
      "execution_count": null,
      "outputs": []
    }
  ]
}