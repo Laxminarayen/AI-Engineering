{
  "nbformat": 4,
  "nbformat_minor": 0,
  "metadata": {
    "colab": {
      "name": "Best Time to Buy and Sell Stock LeetCode 121.ipynb",
      "provenance": [],
      "authorship_tag": "ABX9TyMZxhbrpT16jNsJSMUCKNnO",
      "include_colab_link": true
    },
    "kernelspec": {
      "name": "python3",
      "display_name": "Python 3"
    },
    "language_info": {
      "name": "python"
    }
  },
  "cells": [
    {
      "cell_type": "markdown",
      "metadata": {
        "id": "view-in-github",
        "colab_type": "text"
      },
      "source": [
        "<a href=\"https://colab.research.google.com/github/plthiyagu/AI-Engineering/blob/master/15-LeetCode/Best_Time_to_Buy_and_Sell_Stock_LeetCode_121.ipynb\" target=\"_parent\"><img src=\"https://colab.research.google.com/assets/colab-badge.svg\" alt=\"Open In Colab\"/></a>"
      ]
    },
    {
      "cell_type": "code",
      "metadata": {
        "id": "3xWGPgbAUO0Q"
      },
      "source": [
        "def maxProfit( prices):\n",
        "    \"\"\"\n",
        "    :type prices: List[int]\n",
        "    :rtype: int\n",
        "    \"\"\"\n",
        "    max_profit, min_price = 0, float(\"inf\")\n",
        "    for price in prices:\n",
        "        min_price = min(price, min_price)\n",
        "        max_profit = max(max_profit, price-min_price)\n",
        "    return max_profit"
      ],
      "execution_count": 1,
      "outputs": []
    },
    {
      "cell_type": "code",
      "metadata": {
        "colab": {
          "base_uri": "https://localhost:8080/"
        },
        "id": "COMHa5p7UY_6",
        "outputId": "455f0c8d-efb4-4681-c0f3-fcef8251e350"
      },
      "source": [
        "prices=[7,1,5,3,6,4]\n",
        "maxProfit( prices)"
      ],
      "execution_count": 2,
      "outputs": [
        {
          "output_type": "execute_result",
          "data": {
            "text/plain": [
              "5"
            ]
          },
          "metadata": {
            "tags": []
          },
          "execution_count": 2
        }
      ]
    },
    {
      "cell_type": "code",
      "metadata": {
        "id": "LnKRgc74UiW8"
      },
      "source": [
        ""
      ],
      "execution_count": null,
      "outputs": []
    }
  ]
}