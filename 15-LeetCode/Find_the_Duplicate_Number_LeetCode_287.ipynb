{
  "nbformat": 4,
  "nbformat_minor": 0,
  "metadata": {
    "colab": {
      "name": "Find the Duplicate Number LeetCode 287.ipynb",
      "provenance": [],
      "authorship_tag": "ABX9TyMoLqwHN81od8bi7JuTeo6t",
      "include_colab_link": true
    },
    "kernelspec": {
      "name": "python3",
      "display_name": "Python 3"
    },
    "language_info": {
      "name": "python"
    }
  },
  "cells": [
    {
      "cell_type": "markdown",
      "metadata": {
        "id": "view-in-github",
        "colab_type": "text"
      },
      "source": [
        "<a href=\"https://colab.research.google.com/github/plthiyagu/AI-Engineering/blob/master/22-LeetCode/Find_the_Duplicate_Number_LeetCode_287.ipynb\" target=\"_parent\"><img src=\"https://colab.research.google.com/assets/colab-badge.svg\" alt=\"Open In Colab\"/></a>"
      ]
    },
    {
      "cell_type": "code",
      "metadata": {
        "id": "zyu2DbqqH3zx"
      },
      "source": [
        " def findDuplicate( nums):\n",
        "      \"\"\"\n",
        "      :type nums: List[int]\n",
        "      :rtype: int\n",
        "      \"\"\"\n",
        "      count = [0 for i in range(len(nums) + 1)]\n",
        "      \n",
        "      \n",
        "      for num in nums:\n",
        "          count[num] += 1\n",
        "          \n",
        "          if count[num] > 1:\n",
        "              return num\n"
      ],
      "execution_count": 1,
      "outputs": []
    },
    {
      "cell_type": "code",
      "metadata": {
        "colab": {
          "base_uri": "https://localhost:8080/"
        },
        "id": "Kc9c3dbbH8uI",
        "outputId": "aea4eb72-496f-43f6-8aae-41fae83ed6a6"
      },
      "source": [
        "nums=[1,3,4,2,2]\n",
        "findDuplicate( nums)"
      ],
      "execution_count": 2,
      "outputs": [
        {
          "output_type": "execute_result",
          "data": {
            "text/plain": [
              "2"
            ]
          },
          "metadata": {
            "tags": []
          },
          "execution_count": 2
        }
      ]
    },
    {
      "cell_type": "code",
      "metadata": {
        "id": "xN9nNxcPIEwg"
      },
      "source": [
        ""
      ],
      "execution_count": null,
      "outputs": []
    }
  ]
}