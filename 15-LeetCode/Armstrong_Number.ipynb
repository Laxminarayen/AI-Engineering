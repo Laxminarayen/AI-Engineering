{
  "nbformat": 4,
  "nbformat_minor": 0,
  "metadata": {
    "colab": {
      "name": "Armstrong Number.ipynb",
      "provenance": [],
      "authorship_tag": "ABX9TyNliYD35iSQrtj9Q2nPbCIo",
      "include_colab_link": true
    },
    "kernelspec": {
      "name": "python3",
      "display_name": "Python 3"
    },
    "language_info": {
      "name": "python"
    }
  },
  "cells": [
    {
      "cell_type": "markdown",
      "metadata": {
        "id": "view-in-github",
        "colab_type": "text"
      },
      "source": [
        "<a href=\"https://colab.research.google.com/github/plthiyagu/AI-Engineering/blob/master/15-LeetCode/Armstrong_Number.ipynb\" target=\"_parent\"><img src=\"https://colab.research.google.com/assets/colab-badge.svg\" alt=\"Open In Colab\"/></a>"
      ]
    },
    {
      "cell_type": "markdown",
      "metadata": {
        "id": "rJl2sqxe_te0"
      },
      "source": [
        "First calculate the cube of its each digits\n",
        "\n",
        "  1^3 = (1*1*1) = 1\n",
        "\n",
        "  5^3 = (5*5*5) = 125\n",
        "\n",
        "  3^3= (3*3*3) = 27\n",
        "\n",
        "Now add the cube \n",
        "\n",
        "  1+125+27 = 153\n",
        "\n",
        "It means 153 is an Armstrong number.\n",
        "\n"
      ]
    },
    {
      "cell_type": "code",
      "metadata": {
        "colab": {
          "base_uri": "https://localhost:8080/"
        },
        "id": "kUVfprxZ9kSZ",
        "outputId": "34f80bee-4f8a-4871-86ee-5e12417e141d"
      },
      "source": [
        "i=0\n",
        "result=0\n",
        "n = int(input(\"please give a number : \"))\n",
        "number1 = n\n",
        "temp = n\n",
        "while n != 0:\n",
        "  n = (n//10)\n",
        "  i = i+1\n",
        "while number1 !=0:\n",
        "  n =number1 %10\n",
        "  result = result+ pow(n,i)\n",
        "  number1 = number1 //10\n",
        "\n",
        "if temp ==result:\n",
        "      print(\"number is armstrong\")\n",
        "else:\n",
        "    print(\"number is not armstrong\") "
      ],
      "execution_count": 3,
      "outputs": [
        {
          "output_type": "stream",
          "name": "stdout",
          "text": [
            "please give a number : 153\n",
            "number is armstrong\n"
          ]
        }
      ]
    },
    {
      "cell_type": "code",
      "metadata": {
        "id": "3NjYuEAQ_orM"
      },
      "source": [
        ""
      ],
      "execution_count": null,
      "outputs": []
    },
    {
      "cell_type": "code",
      "metadata": {
        "id": "98MawntB9vo9"
      },
      "source": [
        ""
      ],
      "execution_count": null,
      "outputs": []
    },
    {
      "cell_type": "code",
      "metadata": {
        "id": "sqPDDQ6Q9sGN"
      },
      "source": [
        ""
      ],
      "execution_count": null,
      "outputs": []
    }
  ]
}