{
  "nbformat": 4,
  "nbformat_minor": 0,
  "metadata": {
    "colab": {
      "name": "688 Knight Probability in Chessboard.ipynb",
      "provenance": [],
      "authorship_tag": "ABX9TyPk0H3JNK8R2RMn6/BwiSDn",
      "include_colab_link": true
    },
    "kernelspec": {
      "name": "python3",
      "display_name": "Python 3"
    },
    "language_info": {
      "name": "python"
    }
  },
  "cells": [
    {
      "cell_type": "markdown",
      "metadata": {
        "id": "view-in-github",
        "colab_type": "text"
      },
      "source": [
        "<a href=\"https://colab.research.google.com/github/plthiyagu/AI-Engineering/blob/master/15-LeetCode/688%20Knight_Probability_in_Chessboard.ipynb\" target=\"_parent\"><img src=\"https://colab.research.google.com/assets/colab-badge.svg\" alt=\"Open In Colab\"/></a>"
      ]
    },
    {
      "cell_type": "code",
      "metadata": {
        "id": "vqlCjZonrFyO"
      },
      "source": [
        "def knightProbability(n, k, row, column):\n",
        "    \"\"\"\n",
        "    :type n: int\n",
        "    :type k: int\n",
        "    :type row: int\n",
        "    :type column: int\n",
        "    :rtype: float\n",
        "    \"\"\"\n",
        "    dp = [[0 for i in range(n)] for j in range(n)]\n",
        "    dp[row][column] = 1\n",
        "    directions = [(1, 2), (1, -2), (2, 1), (2, -1), (-2, 1), (-2, -1), (-1, 2), (-1, -2)]\n",
        "    for K in range(k):\n",
        "        new_dp = [[0 for i in range(n)] for j in range(n)]\n",
        "        for i in range(n):\n",
        "            for j in range(n):\n",
        "                for d in directions:\n",
        "                    x, y = i + d[0], j + d[1]\n",
        "                    if x < 0 or x >= n or y < 0 or y >= n:\n",
        "                        continue\n",
        "                    new_dp[i][j] += dp[x][y]\n",
        "        dp = new_dp\n",
        "    return sum(map(sum, dp)) / float(8 ** k)"
      ],
      "execution_count": 2,
      "outputs": []
    },
    {
      "cell_type": "code",
      "metadata": {
        "colab": {
          "base_uri": "https://localhost:8080/"
        },
        "id": "8AY0496Tr0qX",
        "outputId": "a0e15a8f-9477-42e5-bb3b-3c11908f3b31"
      },
      "source": [
        "n = 3\n",
        "k = 2\n",
        "row = 0\n",
        "column = 0\n",
        "\n",
        "knightProbability(n, k, row, column)"
      ],
      "execution_count": 3,
      "outputs": [
        {
          "output_type": "execute_result",
          "data": {
            "text/plain": [
              "0.0625"
            ]
          },
          "metadata": {
            "tags": []
          },
          "execution_count": 3
        }
      ]
    },
    {
      "cell_type": "code",
      "metadata": {
        "id": "YJTQkl3urJnI"
      },
      "source": [
        ""
      ],
      "execution_count": null,
      "outputs": []
    }
  ]
}