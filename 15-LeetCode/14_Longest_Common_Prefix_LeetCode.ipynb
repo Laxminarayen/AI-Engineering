{
  "nbformat": 4,
  "nbformat_minor": 0,
  "metadata": {
    "colab": {
      "name": "14 Longest Common Prefix LeetCode.ipynb",
      "provenance": [],
      "collapsed_sections": [],
      "authorship_tag": "ABX9TyO16sT3DqJvrQS4buHVAp5l",
      "include_colab_link": true
    },
    "kernelspec": {
      "name": "python3",
      "display_name": "Python 3"
    },
    "language_info": {
      "name": "python"
    }
  },
  "cells": [
    {
      "cell_type": "markdown",
      "metadata": {
        "id": "view-in-github",
        "colab_type": "text"
      },
      "source": [
        "<a href=\"https://colab.research.google.com/github/plthiyagu/AI-Engineering/blob/master/15-LeetCode/14_Longest_Common_Prefix_LeetCode.ipynb\" target=\"_parent\"><img src=\"https://colab.research.google.com/assets/colab-badge.svg\" alt=\"Open In Colab\"/></a>"
      ]
    },
    {
      "cell_type": "code",
      "metadata": {
        "id": "Uozm7WO_it5b"
      },
      "source": [
        "from typing import List"
      ],
      "execution_count": 3,
      "outputs": []
    },
    {
      "cell_type": "code",
      "metadata": {
        "id": "f4cT13QPh9uC"
      },
      "source": [
        "def longestCommonPrefix(strs: List[str]) -> str:\n",
        "    if len(strs) == 0:\n",
        "        return \"\"\n",
        "    if len(strs) == 1:\n",
        "        return strs[0]\n",
        "\n",
        "    i = len(strs[0])\n",
        "    for j in range(1, len(strs)):\n",
        "        i = min(i, len(strs[j]))\n",
        "        while i > 0 and strs[0][0:i] != strs[j][0:i]:\n",
        "            i -= 1\n",
        "        if i == 0:\n",
        "            return \"\"\n",
        "    return strs[0][0:i]"
      ],
      "execution_count": 4,
      "outputs": []
    },
    {
      "cell_type": "code",
      "metadata": {
        "colab": {
          "base_uri": "https://localhost:8080/",
          "height": 35
        },
        "id": "iQhyvkDViCJn",
        "outputId": "2b2c5089-a8b8-4e9d-90b3-dfde76831ab5"
      },
      "source": [
        "strs = [\"flower\",\"flow\",\"flight\"]\n",
        "longestCommonPrefix(strs)"
      ],
      "execution_count": 5,
      "outputs": [
        {
          "output_type": "execute_result",
          "data": {
            "application/vnd.google.colaboratory.intrinsic+json": {
              "type": "string"
            },
            "text/plain": [
              "'fl'"
            ]
          },
          "metadata": {},
          "execution_count": 5
        }
      ]
    },
    {
      "cell_type": "code",
      "metadata": {
        "id": "NjHtczFLi2js"
      },
      "source": [
        ""
      ],
      "execution_count": null,
      "outputs": []
    }
  ]
}