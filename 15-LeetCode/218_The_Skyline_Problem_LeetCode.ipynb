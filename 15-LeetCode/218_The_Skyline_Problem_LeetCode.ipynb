{
  "nbformat": 4,
  "nbformat_minor": 0,
  "metadata": {
    "colab": {
      "name": "218 The Skyline Problem LeetCode.ipynb",
      "provenance": [],
      "collapsed_sections": [],
      "authorship_tag": "ABX9TyP0rVlUwPdvxHw+/n7O/kft",
      "include_colab_link": true
    },
    "kernelspec": {
      "name": "python3",
      "display_name": "Python 3"
    },
    "language_info": {
      "name": "python"
    }
  },
  "cells": [
    {
      "cell_type": "markdown",
      "metadata": {
        "id": "view-in-github",
        "colab_type": "text"
      },
      "source": [
        "<a href=\"https://colab.research.google.com/github/plthiyagu/AI-Engineering/blob/master/15-LeetCode/218_The_Skyline_Problem_LeetCode.ipynb\" target=\"_parent\"><img src=\"https://colab.research.google.com/assets/colab-badge.svg\" alt=\"Open In Colab\"/></a>"
      ]
    },
    {
      "cell_type": "code",
      "metadata": {
        "id": "Zognw7LYOHx9"
      },
      "source": [
        "from heapq import heappush, heappop\n",
        "from typing import List\n",
        "class Solution:\n",
        "    def getSkyline(self, buildings: List[List[int]]) -> List[List[int]]:\n",
        "        def cmp(x, y):\n",
        "            if x[0] != y[0]:\n",
        "                return x[0] - y[0]\n",
        "            else:\n",
        "                return x[1] - y[1]\n",
        "\n",
        "        nodes = []\n",
        "        result = []\n",
        "        if len(buildings) == 0:\n",
        "            return result\n",
        "\n",
        "        for i in buildings:\n",
        "            nodes.append([i[0], -i[2]])\n",
        "            nodes.append([i[1], i[2]])\n",
        "\n",
        "        nodes = sorted(nodes, key=functools.cmp_to_key(cmp))\n",
        "\n",
        "        peak = 0\n",
        "        peaks = [0]\n",
        "\n",
        "        for i in nodes:\n",
        "            if i[1] < 0:\n",
        "                peaks.append(-i[1])\n",
        "                peaks = sorted(peaks)\n",
        "            else:\n",
        "                peaks.remove(i[1])\n",
        "            current = peaks[-1]\n",
        "            if current != peak:\n",
        "                result.append([i[0], current])\n",
        "                peak = current\n",
        "\n",
        "        return result\n"
      ],
      "execution_count": null,
      "outputs": []
    },
    {
      "cell_type": "code",
      "metadata": {
        "colab": {
          "base_uri": "https://localhost:8080/"
        },
        "id": "gi5YNW0TPFV8",
        "outputId": "6f42b06c-587b-4e41-e68e-539979fe7056"
      },
      "source": [
        "buildings=[[0,2,3],[2,5,3]]\n",
        "getSkyline(buildings)"
      ],
      "execution_count": null,
      "outputs": [
        {
          "output_type": "execute_result",
          "data": {
            "text/plain": [
              "[[0, 3], [5, 0]]"
            ]
          },
          "metadata": {},
          "execution_count": 5
        }
      ]
    },
    {
      "cell_type": "code",
      "metadata": {
        "id": "4ADKWbDzOSPP"
      },
      "source": [
        ""
      ],
      "execution_count": null,
      "outputs": []
    }
  ]
}