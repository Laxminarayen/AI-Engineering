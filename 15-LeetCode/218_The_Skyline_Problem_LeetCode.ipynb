{
  "nbformat": 4,
  "nbformat_minor": 0,
  "metadata": {
    "colab": {
      "name": "218 The Skyline Problem LeetCode.ipynb",
      "provenance": [],
      "authorship_tag": "ABX9TyPvuufAyFoZjhSU0dpoBAeU",
      "include_colab_link": true
    },
    "kernelspec": {
      "name": "python3",
      "display_name": "Python 3"
    },
    "language_info": {
      "name": "python"
    }
  },
  "cells": [
    {
      "cell_type": "markdown",
      "metadata": {
        "id": "view-in-github",
        "colab_type": "text"
      },
      "source": [
        "<a href=\"https://colab.research.google.com/github/plthiyagu/AI-Engineering/blob/master/15-LeetCode/218_The_Skyline_Problem_LeetCode.ipynb\" target=\"_parent\"><img src=\"https://colab.research.google.com/assets/colab-badge.svg\" alt=\"Open In Colab\"/></a>"
      ]
    },
    {
      "cell_type": "code",
      "metadata": {
        "id": "Zognw7LYOHx9"
      },
      "source": [
        "from heapq import heappush, heappop\n",
        "from typing import List\n",
        "def getSkyline( buildings: List[List[int]]) -> List[List[int]]:\n",
        "    if len(buildings) == 0:\n",
        "        return []\n",
        "    import heapq\n",
        "    h = []\n",
        "    arr = []\n",
        "    lower = buildings[0][0]\n",
        "    def get_height():\n",
        "        return 0 if len(h) == 0 else -h[0][0]\n",
        "    for x1, x2, y in buildings:\n",
        "        if y == 0:\n",
        "            continue\n",
        "        while h and h[0][1] < x1:\n",
        "            a, b = heapq.heappop(h)\n",
        "            if b > lower:\n",
        "                arr.append([lower, -a])\n",
        "                lower = b\n",
        "        if lower < x1 and get_height() < y:\n",
        "            arr.append([lower, get_height()])\n",
        "            lower = x1\n",
        "        while get_height() == y:\n",
        "            x2 = max(x2, heapq.heappop(h)[1])\n",
        "        heapq.heappush(h, (-y, x2))\n",
        "    while h:\n",
        "        a, b = heapq.heappop(h)\n",
        "        if b > lower:\n",
        "            arr.append([lower, -a])\n",
        "            lower = b\n",
        "    arr.append([lower, 0])\n",
        "    return arr\n"
      ],
      "execution_count": 4,
      "outputs": []
    },
    {
      "cell_type": "code",
      "metadata": {
        "colab": {
          "base_uri": "https://localhost:8080/"
        },
        "id": "gi5YNW0TPFV8",
        "outputId": "6f42b06c-587b-4e41-e68e-539979fe7056"
      },
      "source": [
        "buildings=[[0,2,3],[2,5,3]]\n",
        "getSkyline(buildings)"
      ],
      "execution_count": 5,
      "outputs": [
        {
          "output_type": "execute_result",
          "data": {
            "text/plain": [
              "[[0, 3], [5, 0]]"
            ]
          },
          "metadata": {},
          "execution_count": 5
        }
      ]
    },
    {
      "cell_type": "code",
      "metadata": {
        "id": "4ADKWbDzOSPP"
      },
      "source": [
        ""
      ],
      "execution_count": null,
      "outputs": []
    }
  ]
}