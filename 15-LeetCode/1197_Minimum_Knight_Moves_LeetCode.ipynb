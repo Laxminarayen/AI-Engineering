{
  "nbformat": 4,
  "nbformat_minor": 0,
  "metadata": {
    "colab": {
      "name": "1197 Minimum Knight Moves LeetCode.ipynb",
      "provenance": [],
      "authorship_tag": "ABX9TyO9k+xg/OSKMPn6NsUlqL92",
      "include_colab_link": true
    },
    "kernelspec": {
      "name": "python3",
      "display_name": "Python 3"
    },
    "language_info": {
      "name": "python"
    }
  },
  "cells": [
    {
      "cell_type": "markdown",
      "metadata": {
        "id": "view-in-github",
        "colab_type": "text"
      },
      "source": [
        "<a href=\"https://colab.research.google.com/github/plthiyagu/AI-Engineering/blob/master/15-LeetCode/1197_Minimum_Knight_Moves_LeetCode.ipynb\" target=\"_parent\"><img src=\"https://colab.research.google.com/assets/colab-badge.svg\" alt=\"Open In Colab\"/></a>"
      ]
    },
    {
      "cell_type": "code",
      "metadata": {
        "id": "OXfuqEbtRGop"
      },
      "source": [
        "from  collections import deque\n",
        "def minKnightMoves(x: int, y: int) -> int:\n",
        "        # 8 directions\n",
        "        directions = {(2,1),(2,-1),(-2,1),(-2,-1),(1,2),(1,-2),(-1,2),(-1,-2)}\n",
        "        queue = collections.deque()\n",
        "        visited = set()\n",
        "        x,y = abs(x), abs(y)\n",
        "        if x == 1 and y == 1: return 2\n",
        "        # (x,y,steps)\n",
        "        queue=deque([(0,0,0)])\n",
        "        while queue:\n",
        "            cur_x,cur_y,steps=queue.popleft()\n",
        "            if [cur_x,cur_y]==[x,y]: return steps\n",
        "            \n",
        "            for dx, dy in directions:\n",
        "                if 0<=cur_x+dx<=300 and 0<=cur_y+dy<=300 and (cur_x+dx,cur_y+dy) not in visited:\n",
        "                    visited.add((cur_x+dx,cur_y+dy))\n",
        "                    queue.append((cur_x+dx,cur_y+dy,steps+1))\n"
      ],
      "execution_count": 5,
      "outputs": []
    },
    {
      "cell_type": "code",
      "metadata": {
        "colab": {
          "base_uri": "https://localhost:8080/"
        },
        "id": "tXQALfYnRJMm",
        "outputId": "574db9c5-71ef-426e-822f-917297a73712"
      },
      "source": [
        "x = 5\n",
        "y = 5\n",
        "minKnightMoves(x,y)"
      ],
      "execution_count": 6,
      "outputs": [
        {
          "output_type": "execute_result",
          "data": {
            "text/plain": [
              "4"
            ]
          },
          "metadata": {},
          "execution_count": 6
        }
      ]
    },
    {
      "cell_type": "code",
      "metadata": {
        "id": "-5TsO5GQRTAU"
      },
      "source": [
        ""
      ],
      "execution_count": null,
      "outputs": []
    }
  ]
}