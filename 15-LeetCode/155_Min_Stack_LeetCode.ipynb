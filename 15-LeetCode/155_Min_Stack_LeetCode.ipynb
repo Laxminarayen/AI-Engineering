{
  "nbformat": 4,
  "nbformat_minor": 0,
  "metadata": {
    "colab": {
      "name": "155 Min Stack LeetCode.ipynb",
      "provenance": [],
      "authorship_tag": "ABX9TyNXd5RN8LHKI3Z3Vrzm4gCd",
      "include_colab_link": true
    },
    "kernelspec": {
      "name": "python3",
      "display_name": "Python 3"
    },
    "language_info": {
      "name": "python"
    }
  },
  "cells": [
    {
      "cell_type": "markdown",
      "metadata": {
        "id": "view-in-github",
        "colab_type": "text"
      },
      "source": [
        "<a href=\"https://colab.research.google.com/github/plthiyagu/AI-Engineering/blob/master/15-LeetCode/155_Min_Stack_LeetCode.ipynb\" target=\"_parent\"><img src=\"https://colab.research.google.com/assets/colab-badge.svg\" alt=\"Open In Colab\"/></a>"
      ]
    },
    {
      "cell_type": "code",
      "metadata": {
        "id": "1Rb1g6cHfEkn"
      },
      "source": [
        "class MinStack:\n",
        "\n",
        "    def __init__(self):\n",
        "        \"\"\" initialize your data structure here. \"\"\"\n",
        "        self.stack = []\n",
        "        self.min_stack = [float('inf')]\n",
        "\n",
        "        \n",
        "\n",
        "    def push(self, val: int) -> None:\n",
        "        self.stack.append(val)\n",
        "        if val <= self.min_stack[-1]:\n",
        "            self.min_stack.append(val)\n",
        "\n",
        "        \n",
        "\n",
        "    def pop(self) -> None:\n",
        "        if self.stack[-1] == self.min_stack[-1]:\n",
        "            self.min_stack.pop()\n",
        "        self.stack.pop()\n",
        "\n",
        "        \n",
        "\n",
        "    def top(self) -> int:\n",
        "        return self.stack[-1]\n",
        "\n",
        "        \n",
        "\n",
        "    def getMin(self) -> int:\n",
        "        return self.min_stack[-1]\n",
        "\n",
        "        \n",
        "\n",
        "\n",
        "# Your MinStack object will be instantiated and called as such:\n",
        "# obj = MinStack()\n",
        "# obj.push(val)\n",
        "# obj.pop()\n",
        "# param_3 = obj.top()\n",
        "# param_4 = obj.getMin()"
      ],
      "execution_count": null,
      "outputs": []
    }
  ]
}