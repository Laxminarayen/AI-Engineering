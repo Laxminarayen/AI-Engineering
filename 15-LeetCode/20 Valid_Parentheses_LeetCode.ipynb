{
  "nbformat": 4,
  "nbformat_minor": 0,
  "metadata": {
    "colab": {
      "name": "20  Valid Parentheses LeetCode.ipynb",
      "provenance": [],
      "authorship_tag": "ABX9TyMmv2mAla4igXh82/WZdLcs",
      "include_colab_link": true
    },
    "kernelspec": {
      "name": "python3",
      "display_name": "Python 3"
    },
    "language_info": {
      "name": "python"
    }
  },
  "cells": [
    {
      "cell_type": "markdown",
      "metadata": {
        "id": "view-in-github",
        "colab_type": "text"
      },
      "source": [
        "<a href=\"https://colab.research.google.com/github/plthiyagu/AI-Engineering/blob/master/15-LeetCode/20%20Valid_Parentheses_LeetCode.ipynb\" target=\"_parent\"><img src=\"https://colab.research.google.com/assets/colab-badge.svg\" alt=\"Open In Colab\"/></a>"
      ]
    },
    {
      "cell_type": "code",
      "metadata": {
        "id": "_IngV1IPLGzp"
      },
      "source": [
        "def isValid( s):\n",
        "    \"\"\"\n",
        "    :type s: str\n",
        "    :rtype: bool\n",
        "    \"\"\"\n",
        "    stack = []\n",
        "    dic = {']':'[', ')':'(', '}':'{'}\n",
        "    for c in s:\n",
        "        if c not in dic:\n",
        "            stack.append(c)\n",
        "        else:\n",
        "            if not stack or stack.pop() != dic[c]:\n",
        "                return False\n",
        "    return stack == []"
      ],
      "execution_count": 2,
      "outputs": []
    },
    {
      "cell_type": "code",
      "metadata": {
        "colab": {
          "base_uri": "https://localhost:8080/"
        },
        "id": "Y0a55_G_LPtq",
        "outputId": "c2b26e88-e8c1-4f9f-c0ba-84906cf4d1e6"
      },
      "source": [
        "s = \"()[]{}\"\n",
        "isValid( s)"
      ],
      "execution_count": 3,
      "outputs": [
        {
          "output_type": "execute_result",
          "data": {
            "text/plain": [
              "True"
            ]
          },
          "metadata": {
            "tags": []
          },
          "execution_count": 3
        }
      ]
    },
    {
      "cell_type": "code",
      "metadata": {
        "id": "h9WuOV6CLOh8"
      },
      "source": [
        ""
      ],
      "execution_count": null,
      "outputs": []
    }
  ]
}