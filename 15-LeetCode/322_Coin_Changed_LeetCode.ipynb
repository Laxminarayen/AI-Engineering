{
  "nbformat": 4,
  "nbformat_minor": 0,
  "metadata": {
    "colab": {
      "name": "322 Coin Changed LeetCode.ipynb",
      "provenance": [],
      "authorship_tag": "ABX9TyMCGaZFX7qQES+BU25JXFka",
      "include_colab_link": true
    },
    "kernelspec": {
      "name": "python3",
      "display_name": "Python 3"
    },
    "language_info": {
      "name": "python"
    }
  },
  "cells": [
    {
      "cell_type": "markdown",
      "metadata": {
        "id": "view-in-github",
        "colab_type": "text"
      },
      "source": [
        "<a href=\"https://colab.research.google.com/github/plthiyagu/AI-Engineering/blob/master/15-LeetCode/322_Coin_Changed_LeetCode.ipynb\" target=\"_parent\"><img src=\"https://colab.research.google.com/assets/colab-badge.svg\" alt=\"Open In Colab\"/></a>"
      ]
    },
    {
      "cell_type": "code",
      "metadata": {
        "id": "q3ZDkm-oV5ef"
      },
      "source": [
        "from typing import List\n",
        "def coinChange( coins: List[int], amount: int) -> int:\n",
        "    new_coins = sorted(coins)\n",
        "    dp = [amount for _ in range(amount+1)]\n",
        "    dp[0] = 0\n",
        "    #dp[11]=5 means 5 coins will get 11 \n",
        "    for each_amo in range(1,amount+1):\n",
        "        for coin in new_coins:\n",
        "            if coin <= each_amo:\n",
        "                dp[each_amo] = min(dp[each_amo], 1+dp[each_amo-coin])\n",
        "            else:\n",
        "                break\n",
        "    return dp[amount] if dp[amount]<=amount else -1    "
      ],
      "execution_count": 2,
      "outputs": []
    },
    {
      "cell_type": "code",
      "metadata": {
        "colab": {
          "base_uri": "https://localhost:8080/"
        },
        "id": "oIfm71p8V9xj",
        "outputId": "0d5d9ae5-8a3b-42a7-faeb-85e928f35daf"
      },
      "source": [
        "coins = [1,2,5]\n",
        "amount = 11\n",
        "coinChange(coins,amount)"
      ],
      "execution_count": 3,
      "outputs": [
        {
          "output_type": "execute_result",
          "data": {
            "text/plain": [
              "3"
            ]
          },
          "metadata": {},
          "execution_count": 3
        }
      ]
    },
    {
      "cell_type": "code",
      "metadata": {
        "id": "X6D8RtppWLPV"
      },
      "source": [
        ""
      ],
      "execution_count": null,
      "outputs": []
    }
  ]
}