{
  "nbformat": 4,
  "nbformat_minor": 0,
  "metadata": {
    "colab": {
      "name": "628 Maximum Product of Three Numbers LeetCode.ipynb",
      "provenance": [],
      "authorship_tag": "ABX9TyMi97Vrb8bB2s58njIK9yfP",
      "include_colab_link": true
    },
    "kernelspec": {
      "name": "python3",
      "display_name": "Python 3"
    },
    "language_info": {
      "name": "python"
    }
  },
  "cells": [
    {
      "cell_type": "markdown",
      "metadata": {
        "id": "view-in-github",
        "colab_type": "text"
      },
      "source": [
        "<a href=\"https://colab.research.google.com/github/plthiyagu/AI-Engineering/blob/master/15-LeetCode/628_Maximum_Product_of_Three_Numbers_LeetCode.ipynb\" target=\"_parent\"><img src=\"https://colab.research.google.com/assets/colab-badge.svg\" alt=\"Open In Colab\"/></a>"
      ]
    },
    {
      "cell_type": "code",
      "metadata": {
        "id": "qOf1Es61J-tE"
      },
      "source": [
        "from typing import List\n",
        "def maximumProduct(nums: List[int]) -> int:\n",
        "        if len(nums) <= 3:\n",
        "            product = 1\n",
        "            \n",
        "            for num in nums:\n",
        "                product *= num\n",
        "                \n",
        "        \n",
        "        nums = sorted(nums)\n",
        "        \n",
        "        return max(nums[0] * nums[1] * nums[2], nums[-3] * nums[-2] * nums[-1], nums[0] * nums[1] * nums[-1])\n"
      ],
      "execution_count": 3,
      "outputs": []
    },
    {
      "cell_type": "code",
      "metadata": {
        "colab": {
          "base_uri": "https://localhost:8080/"
        },
        "id": "8VJUgEbAKKXe",
        "outputId": "56858396-d9e0-4855-f62a-7f3ee1e27f36"
      },
      "source": [
        "nums = [1,2,3]\n",
        "maximumProduct(nums)"
      ],
      "execution_count": 4,
      "outputs": [
        {
          "output_type": "execute_result",
          "data": {
            "text/plain": [
              "6"
            ]
          },
          "metadata": {},
          "execution_count": 4
        }
      ]
    },
    {
      "cell_type": "code",
      "metadata": {
        "id": "rTq15KMNKNUi"
      },
      "source": [
        ""
      ],
      "execution_count": null,
      "outputs": []
    },
    {
      "cell_type": "code",
      "metadata": {
        "id": "ovHG78o5KBRj"
      },
      "source": [
        ""
      ],
      "execution_count": null,
      "outputs": []
    }
  ]
}