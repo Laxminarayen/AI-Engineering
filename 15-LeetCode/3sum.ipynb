{
  "nbformat": 4,
  "nbformat_minor": 0,
  "metadata": {
    "colab": {
      "name": "3sum.ipynb",
      "provenance": [],
      "collapsed_sections": [],
      "authorship_tag": "ABX9TyOtdUT/KqzZwMpP1FyjJtlI",
      "include_colab_link": true
    },
    "kernelspec": {
      "name": "python3",
      "display_name": "Python 3"
    }
  },
  "cells": [
    {
      "cell_type": "markdown",
      "metadata": {
        "id": "view-in-github",
        "colab_type": "text"
      },
      "source": [
        "<a href=\"https://colab.research.google.com/github/plthiyagu/Personnel/blob/master/3sum.ipynb\" target=\"_parent\"><img src=\"https://colab.research.google.com/assets/colab-badge.svg\" alt=\"Open In Colab\"/></a>"
      ]
    },
    {
      "cell_type": "code",
      "metadata": {
        "id": "b2wvM9t_HI5t",
        "colab_type": "code",
        "colab": {}
      },
      "source": [
        "from __future__ import division\n",
        "import random\n"
      ],
      "execution_count": 0,
      "outputs": []
    },
    {
      "cell_type": "markdown",
      "metadata": {
        "id": "xz9tkxavHT4u",
        "colab_type": "text"
      },
      "source": [
        "'''\n",
        "Leetcode: 3Sum\n",
        "Given an array S of n integers, are there elements a, b, c in S such that a + b + c = 0? Find all unique triplets in the array which gives the sum of zero.\n",
        "Note:\n",
        "Elements in a triplet (a,b,c) must be in non-descending order. (ie, a ? b ? c)\n",
        "The solution set must not contain duplicate triplets.\n",
        "    For example, given array S = {-1 0 1 2 -1 -4},\n",
        "    A solution set is:\n",
        "    (-1, 0, 1)\n",
        "    (-1, -1, 2)\n",
        "http://leetcode.com/2010/04/finding-all-unique-triplets-that-sums.html\n",
        "'''\n",
        "# ~ O(n^2)\n"
      ]
    },
    {
      "cell_type": "code",
      "metadata": {
        "id": "BF9fJtDIHYWq",
        "colab_type": "code",
        "colab": {}
      },
      "source": [
        "def three_sum(s):\n",
        "  s= sorted(s) #O(nlogn)\n",
        "  output = set()\n",
        "  for k in range(len(s)):\n",
        "    target = -s[k]\n",
        "    i,j= k+1,len(s)-1\n",
        "    while i < j:\n",
        "      sum_two = s[i]+s[j]\n",
        "      if sum_two < target:\n",
        "        i += 1\n",
        "      elif sum_two > target:\n",
        "        j -= 1\n",
        "      else:\n",
        "        output.add((s[k],s[i],s[j]))\n",
        "        i +=1\n",
        "        j -= 1\n",
        "  return output\n"
      ],
      "execution_count": 0,
      "outputs": []
    },
    {
      "cell_type": "code",
      "metadata": {
        "id": "JQr_2NluTJvQ",
        "colab_type": "code",
        "colab": {
          "base_uri": "https://localhost:8080/",
          "height": 34
        },
        "outputId": "a1baeb9d-26e2-4c08-805b-86ead80a8152"
      },
      "source": [
        "S = {-1,0,1,2,-1,-4}\n",
        "three_sum(S)"
      ],
      "execution_count": 12,
      "outputs": [
        {
          "output_type": "execute_result",
          "data": {
            "text/plain": [
              "{(-1, 0, 1)}"
            ]
          },
          "metadata": {
            "tags": []
          },
          "execution_count": 12
        }
      ]
    },
    {
      "cell_type": "markdown",
      "metadata": {
        "id": "NIWlRolM5eM2",
        "colab_type": "text"
      },
      "source": [
        "'''\n",
        "Leetcode: Two sum\n",
        "Given an array of integers, find two numbers such that they add up to a specific target number.\n",
        "The function twoSum should return indices of the two numbers such that they add up to the target, where index1 must be less than index2. Please note that your returned answers (both index1 and index2) are not zero-based.\n",
        "You may assume that each input would have exactly one solution.\n",
        "Input: numbers={2, 7, 11, 15}, target=9\n",
        "Output: index1=1, index2=2\n",
        "'''\n"
      ]
    },
    {
      "cell_type": "code",
      "metadata": {
        "id": "bN9jGjR-5dZj",
        "colab_type": "code",
        "colab": {}
      },
      "source": [
        "def sum_two(L, target):\n",
        "  L = sorted(L)\n",
        "  i=0\n",
        "  j = len(L)-1\n",
        "  while i < j:\n",
        "    if L[i] + L[j] == target:\n",
        "      return i +1, j+1\n",
        "    elif L[i] + L [j] > target:\n",
        "      j -= 1\n",
        "    else:\n",
        "      i += 1\n",
        "    return -i,-j\n",
        "\n",
        "# O(n^(k-1))\n",
        "def k_sum(s, k, target):\n",
        "  s= sorted(s)\n",
        "  if k ==0 :\n",
        "    yield []\n",
        "\n",
        "  elif k ==1:\n",
        "    if target in set(s) : yield[target]\n",
        "  elif k == 2:\n",
        "    i= 0\n",
        "    j= len(s)-1\n",
        "    while i <j:\n",
        "      sum_two = s[i] + s[j]\n",
        "      if  sum_two < target:\n",
        "        i += 1\n",
        "      elif sum_two > target:\n",
        "        j -= 1\n",
        "      else:\n",
        "        yield [s[i],s[j]]\n",
        "  else:\n",
        "    for i in range(len(s)):\n",
        "      next_target = target - s[i]\n",
        "      for p in k_sum(s[i+1:], k-1, next_target):\n",
        "        yield [s[i]] + p    \n"
      ],
      "execution_count": 0,
      "outputs": []
    },
    {
      "cell_type": "code",
      "metadata": {
        "id": "InY71pxgAa7o",
        "colab_type": "code",
        "colab": {
          "base_uri": "https://localhost:8080/",
          "height": 34
        },
        "outputId": "d10176fe-5f4b-4f34-a05b-e1e301f8a0a4"
      },
      "source": [
        "sum_two([2, 7, 11, 15, 3], 13)"
      ],
      "execution_count": 20,
      "outputs": [
        {
          "output_type": "execute_result",
          "data": {
            "text/plain": [
              "(0, -3)"
            ]
          },
          "metadata": {
            "tags": []
          },
          "execution_count": 20
        }
      ]
    },
    {
      "cell_type": "code",
      "metadata": {
        "id": "t_wbdkul63yy",
        "colab_type": "code",
        "colab": {
          "base_uri": "https://localhost:8080/",
          "height": 34
        },
        "outputId": "16613336-b28a-44a1-d00f-03ae2ab358b9"
      },
      "source": [
        "numbers={2, 7, 11, 15}\n",
        "target=9\n",
        "sum_two(numbers,target)"
      ],
      "execution_count": 16,
      "outputs": [
        {
          "output_type": "execute_result",
          "data": {
            "text/plain": [
              "(0, -2)"
            ]
          },
          "metadata": {
            "tags": []
          },
          "execution_count": 16
        }
      ]
    },
    {
      "cell_type": "code",
      "metadata": {
        "id": "e9OrZOlW7IfG",
        "colab_type": "code",
        "colab": {}
      },
      "source": [
        ""
      ],
      "execution_count": 0,
      "outputs": []
    }
  ]
}