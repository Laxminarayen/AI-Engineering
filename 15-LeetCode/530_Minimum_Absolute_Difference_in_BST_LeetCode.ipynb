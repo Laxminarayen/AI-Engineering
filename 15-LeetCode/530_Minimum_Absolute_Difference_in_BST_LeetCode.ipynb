{
  "nbformat": 4,
  "nbformat_minor": 0,
  "metadata": {
    "colab": {
      "name": "530 Minimum Absolute Difference in BST LeetCode.ipynb",
      "provenance": [],
      "authorship_tag": "ABX9TyO2jMYe8erBsJbazfT/5IES",
      "include_colab_link": true
    },
    "kernelspec": {
      "name": "python3",
      "display_name": "Python 3"
    },
    "language_info": {
      "name": "python"
    }
  },
  "cells": [
    {
      "cell_type": "markdown",
      "metadata": {
        "id": "view-in-github",
        "colab_type": "text"
      },
      "source": [
        "<a href=\"https://colab.research.google.com/github/plthiyagu/AI-Engineering/blob/master/15-LeetCode/530_Minimum_Absolute_Difference_in_BST_LeetCode.ipynb\" target=\"_parent\"><img src=\"https://colab.research.google.com/assets/colab-badge.svg\" alt=\"Open In Colab\"/></a>"
      ]
    },
    {
      "cell_type": "code",
      "metadata": {
        "id": "jDylXyGwngg9"
      },
      "source": [
        "# Definition for a binary tree node.\n",
        "# class TreeNode:\n",
        "#     def __init__(self, val=0, left=None, right=None):\n",
        "#         self.val = val\n",
        "#         self.left = left\n",
        "#         self.right = right\n",
        "class Solution:\n",
        "    def getMinimumDifference(self, root: Optional[TreeNode]) -> int:\n",
        "        self.node_vals = []\n",
        "        self.inorder(root)\n",
        "\n",
        "        min_diff = None\n",
        "        pre = None\n",
        "        for v in self.node_vals:\n",
        "            if pre is not None:\n",
        "                diff = v - pre\n",
        "                if min_diff is None:\n",
        "                    min_diff = diff\n",
        "                else:\n",
        "                    min_diff = min(min_diff, diff)\n",
        "            pre = v\n",
        "\n",
        "        return min_diff\n",
        "\n",
        "\n",
        "    def inorder(self, root):\n",
        "        if root is None:\n",
        "            return\n",
        "\n",
        "        self.inorder(root.left)\n",
        "        self.node_vals.append(root.val)\n",
        "        self.inorder(root.right)\n",
        "\n"
      ],
      "execution_count": null,
      "outputs": []
    }
  ]
}