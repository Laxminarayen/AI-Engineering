{
  "nbformat": 4,
  "nbformat_minor": 0,
  "metadata": {
    "colab": {
      "name": "429 N-ary Tree Level Order Traversal LeetCode.ipynb",
      "provenance": [],
      "authorship_tag": "ABX9TyPvfAx4cVMDQLJ0F9iijtUH",
      "include_colab_link": true
    },
    "kernelspec": {
      "name": "python3",
      "display_name": "Python 3"
    },
    "language_info": {
      "name": "python"
    }
  },
  "cells": [
    {
      "cell_type": "markdown",
      "metadata": {
        "id": "view-in-github",
        "colab_type": "text"
      },
      "source": [
        "<a href=\"https://colab.research.google.com/github/plthiyagu/AI-Engineering/blob/master/15-LeetCode/429_N_ary_Tree_Level_Order_Traversal_LeetCode.ipynb\" target=\"_parent\"><img src=\"https://colab.research.google.com/assets/colab-badge.svg\" alt=\"Open In Colab\"/></a>"
      ]
    },
    {
      "cell_type": "code",
      "metadata": {
        "id": "aWOZyK2gc_8l"
      },
      "source": [
        "\"\"\"\n",
        "# Definition for a Node.\n",
        "class Node:\n",
        "    def __init__(self, val=None, children=None):\n",
        "        self.val = val\n",
        "        self.children = children\n",
        "\"\"\"\n",
        "\n",
        "class Solution:\n",
        "    def levelOrder(self, root: 'Node') -> List[List[int]]:\n",
        "        if not root: return []\n",
        "        q = collections.deque([root])\n",
        "        res = []\n",
        "        while q:\n",
        "            temp = []\n",
        "            size = len(q)\n",
        "            for i in range(size):\n",
        "                node = q.popleft()\n",
        "                temp.append(node.val)\n",
        "                for child in node.children:\n",
        "                    q.append(child)\n",
        "            res.append(temp)\n",
        "        return res\n"
      ],
      "execution_count": null,
      "outputs": []
    }
  ]
}