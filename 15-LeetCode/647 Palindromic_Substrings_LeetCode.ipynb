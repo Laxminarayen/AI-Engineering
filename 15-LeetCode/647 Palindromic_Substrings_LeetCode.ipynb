{
  "nbformat": 4,
  "nbformat_minor": 0,
  "metadata": {
    "colab": {
      "name": "647  Palindromic Substrings LeetCode.ipynb",
      "provenance": [],
      "authorship_tag": "ABX9TyM4v2MpVHQr1TwSnTkC3Rjs",
      "include_colab_link": true
    },
    "kernelspec": {
      "name": "python3",
      "display_name": "Python 3"
    },
    "language_info": {
      "name": "python"
    }
  },
  "cells": [
    {
      "cell_type": "markdown",
      "metadata": {
        "id": "view-in-github",
        "colab_type": "text"
      },
      "source": [
        "<a href=\"https://colab.research.google.com/github/plthiyagu/AI-Engineering/blob/master/15-LeetCode/647%20Palindromic_Substrings_LeetCode.ipynb\" target=\"_parent\"><img src=\"https://colab.research.google.com/assets/colab-badge.svg\" alt=\"Open In Colab\"/></a>"
      ]
    },
    {
      "cell_type": "code",
      "metadata": {
        "id": "syCWxrYPE3nN"
      },
      "source": [
        "def countSubstrings( s):\n",
        "    \"\"\"\n",
        "    :type s: str\n",
        "    :rtype: int\n",
        "    \"\"\"\n",
        "    res = 0\n",
        "    l = len(s)\n",
        "    for mid in range(l * 2 - 1):\n",
        "        left = mid // 2\n",
        "        right = left + mid % 2\n",
        "        while left >= 0 and right < l and s[left] == s[right]:\n",
        "            res += 1\n",
        "            left -= 1\n",
        "            right += 1\n",
        "    return res"
      ],
      "execution_count": 2,
      "outputs": []
    },
    {
      "cell_type": "code",
      "metadata": {
        "colab": {
          "base_uri": "https://localhost:8080/"
        },
        "id": "QNqfUHcaFB_n",
        "outputId": "141e532f-79b1-4f72-deb3-8430f946f607"
      },
      "source": [
        "s = \"abc\"\n",
        "countSubstrings( s)"
      ],
      "execution_count": 4,
      "outputs": [
        {
          "output_type": "execute_result",
          "data": {
            "text/plain": [
              "3"
            ]
          },
          "metadata": {
            "tags": []
          },
          "execution_count": 4
        }
      ]
    },
    {
      "cell_type": "code",
      "metadata": {
        "colab": {
          "base_uri": "https://localhost:8080/"
        },
        "id": "71jmhv9hFJ0U",
        "outputId": "f5a59e63-bbb9-463e-cd14-4cff8e36563f"
      },
      "source": [
        "s = \"aaa\"\n",
        "countSubstrings( s)"
      ],
      "execution_count": 5,
      "outputs": [
        {
          "output_type": "execute_result",
          "data": {
            "text/plain": [
              "6"
            ]
          },
          "metadata": {
            "tags": []
          },
          "execution_count": 5
        }
      ]
    },
    {
      "cell_type": "code",
      "metadata": {
        "id": "BD_NCSDQFM4p"
      },
      "source": [
        ""
      ],
      "execution_count": null,
      "outputs": []
    },
    {
      "cell_type": "code",
      "metadata": {
        "id": "iG1ElvcfFAxG"
      },
      "source": [
        ""
      ],
      "execution_count": null,
      "outputs": []
    }
  ]
}