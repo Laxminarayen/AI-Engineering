{
  "nbformat": 4,
  "nbformat_minor": 0,
  "metadata": {
    "colab": {
      "name": " Reverse Integer LeetCode 7.ipynb",
      "provenance": [],
      "collapsed_sections": [],
      "authorship_tag": "ABX9TyNARc6H5imrWwnhLIarV0JH",
      "include_colab_link": true
    },
    "kernelspec": {
      "name": "python3",
      "display_name": "Python 3"
    },
    "language_info": {
      "name": "python"
    }
  },
  "cells": [
    {
      "cell_type": "markdown",
      "metadata": {
        "id": "view-in-github",
        "colab_type": "text"
      },
      "source": [
        "<a href=\"https://colab.research.google.com/github/plthiyagu/AI-Engineering/blob/master/22-LeetCode/Reverse_Integer_LeetCode_7.ipynb\" target=\"_parent\"><img src=\"https://colab.research.google.com/assets/colab-badge.svg\" alt=\"Open In Colab\"/></a>"
      ]
    },
    {
      "cell_type": "code",
      "metadata": {
        "id": "WMMRCtVnbbRY"
      },
      "source": [
        ""
      ],
      "execution_count": null,
      "outputs": []
    },
    {
      "cell_type": "markdown",
      "metadata": {
        "id": "So0HprRWcTL9"
      },
      "source": [
        "https://www.youtube.com/watch?v=oTZnrkGTV2w&t=1s"
      ]
    },
    {
      "cell_type": "code",
      "metadata": {
        "id": "W2cWoy4hbcEM"
      },
      "source": [
        "def reverse(x):\n",
        "    \"\"\"\n",
        "    :type x: int\n",
        "    :rtype: int\n",
        "    \"\"\"\n",
        "    result = 0\n",
        "    \n",
        "    is_negative = False\n",
        "    if x < 0:\n",
        "        is_negative = True\n",
        "        x = -x\n",
        "    \n",
        "    while x > 0:            \n",
        "        result = result * 10 + x % 10\n",
        "        x = x // 10\n",
        "    \n",
        "    if result > 2**31 - 1 or result < -2**31:\n",
        "        return 0\n",
        "    \n",
        "    if is_negative:\n",
        "        result = -result\n",
        "    \n",
        "    return result\n"
      ],
      "execution_count": 2,
      "outputs": []
    },
    {
      "cell_type": "code",
      "metadata": {
        "colab": {
          "base_uri": "https://localhost:8080/"
        },
        "id": "piVHJPU9bgup",
        "outputId": "2b1eeb32-ae57-457c-ef67-af1c4f54bc8b"
      },
      "source": [
        "x=123\n",
        "reverse(x)"
      ],
      "execution_count": 5,
      "outputs": [
        {
          "output_type": "execute_result",
          "data": {
            "text/plain": [
              "321"
            ]
          },
          "metadata": {
            "tags": []
          },
          "execution_count": 5
        }
      ]
    },
    {
      "cell_type": "code",
      "metadata": {
        "id": "Wkc-LYZZcdj4"
      },
      "source": [
        ""
      ],
      "execution_count": null,
      "outputs": []
    }
  ]
}