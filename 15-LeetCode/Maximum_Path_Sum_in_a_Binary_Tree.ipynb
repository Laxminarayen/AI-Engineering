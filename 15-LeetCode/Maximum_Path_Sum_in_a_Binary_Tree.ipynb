{
  "nbformat": 4,
  "nbformat_minor": 0,
  "metadata": {
    "colab": {
      "name": "Maximum Path Sum in a Binary Tree.ipynb",
      "provenance": [],
      "collapsed_sections": [],
      "authorship_tag": "ABX9TyMOxj5Ql+P7BUCSRd1+017S",
      "include_colab_link": true
    },
    "kernelspec": {
      "name": "python3",
      "display_name": "Python 3"
    }
  },
  "cells": [
    {
      "cell_type": "markdown",
      "metadata": {
        "id": "view-in-github",
        "colab_type": "text"
      },
      "source": [
        "<a href=\"https://colab.research.google.com/github/plthiyagu/Personnel/blob/master/Maximum_Path_Sum_in_a_Binary_Tree.ipynb\" target=\"_parent\"><img src=\"https://colab.research.google.com/assets/colab-badge.svg\" alt=\"Open In Colab\"/></a>"
      ]
    },
    {
      "cell_type": "code",
      "metadata": {
        "id": "OYoYDLOd6dxn",
        "colab_type": "code",
        "colab": {}
      },
      "source": [
        "class Node:\n",
        "\n",
        "  def __init__(self, data):\n",
        "    self.data=data\n",
        "    self.left=None\n",
        "    self.right=None \n"
      ],
      "execution_count": 0,
      "outputs": []
    },
    {
      "cell_type": "code",
      "metadata": {
        "id": "jjN3BKxDCUqO",
        "colab_type": "code",
        "colab": {}
      },
      "source": [
        "# This function returns overall maximum path sum in 'res' \n",
        "  # And returns max path sum going through root \n",
        "\n",
        "def findMaxUtil(root):\n",
        "  if root is None:\n",
        "    return 0\n",
        "  l = findMaxUtil(root.left)\n",
        "  r= findMaxUtil(root.right)\n",
        "\n",
        "\n",
        "  max_single = max(max(l,r)+root.data, root.data)\n",
        "  max_top = max(max_single, l+r+ root.data)\n",
        "  findMaxUtil.res = max(findMaxUtil.res, max_top)\n",
        "  return max_single\n",
        "\n",
        "\n",
        "def findMaxSum(root): \n",
        "  findMaxUtil.res = float(\"-inf\")\n",
        "  findMaxUtil(root)\n",
        "  return findMaxUtil.res   "
      ],
      "execution_count": 0,
      "outputs": []
    },
    {
      "cell_type": "code",
      "metadata": {
        "id": "l2HzuaQGBZfl",
        "colab_type": "code",
        "colab": {}
      },
      "source": [
        "root = Node(10) \n",
        "root.left = Node(2) \n",
        "root.right   = Node(10)\n",
        "root.left.left  = Node(20)\n",
        "root.left.right = Node(1) \n",
        "root.right.right = Node(-25) \n",
        "root.right.right.left   = Node(3)\n",
        "root.right.right.right  = Node(4) \n"
      ],
      "execution_count": 0,
      "outputs": []
    },
    {
      "cell_type": "code",
      "metadata": {
        "id": "vpJg9Do_Bm2S",
        "colab_type": "code",
        "colab": {
          "base_uri": "https://localhost:8080/",
          "height": 34
        },
        "outputId": "6f77231f-45a2-4f93-f31e-605ed4454dc3"
      },
      "source": [
        "print(\"Max path sum is \" ,findMaxSum(root))"
      ],
      "execution_count": 15,
      "outputs": [
        {
          "output_type": "stream",
          "text": [
            "Max path sum is  42\n"
          ],
          "name": "stdout"
        }
      ]
    }
  ]
}