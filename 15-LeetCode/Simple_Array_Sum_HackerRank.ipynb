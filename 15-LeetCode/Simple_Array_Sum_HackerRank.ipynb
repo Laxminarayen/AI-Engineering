{
  "nbformat": 4,
  "nbformat_minor": 0,
  "metadata": {
    "colab": {
      "name": "Simple Array Sum HackerRank.ipynb",
      "provenance": [],
      "authorship_tag": "ABX9TyPUvuCuzBn/Va4QhV7yKkJv",
      "include_colab_link": true
    },
    "kernelspec": {
      "name": "python3",
      "display_name": "Python 3"
    },
    "language_info": {
      "name": "python"
    }
  },
  "cells": [
    {
      "cell_type": "markdown",
      "metadata": {
        "id": "view-in-github",
        "colab_type": "text"
      },
      "source": [
        "<a href=\"https://colab.research.google.com/github/plthiyagu/AI-Engineering/blob/master/15-LeetCode/Simple_Array_Sum_HackerRank.ipynb\" target=\"_parent\"><img src=\"https://colab.research.google.com/assets/colab-badge.svg\" alt=\"Open In Colab\"/></a>"
      ]
    },
    {
      "cell_type": "code",
      "metadata": {
        "id": "IdJ-lzCjH9aL"
      },
      "source": [
        "import os\n",
        "import sys\n",
        "\n",
        "def simpleArraySum(ar):\n",
        "    sum=0;\n",
        "    for i in range(len(ar)):\n",
        "        sum+=ar[i]\n",
        "    return (sum)"
      ],
      "execution_count": 1,
      "outputs": []
    },
    {
      "cell_type": "code",
      "metadata": {
        "colab": {
          "base_uri": "https://localhost:8080/"
        },
        "id": "LsRqqFICH-YG",
        "outputId": "623485be-ded9-4cb2-c7f1-2edb95ee5532"
      },
      "source": [
        "ar_count = int(input())\n",
        "ar = list(map(int, input().rstrip().split()))\n",
        "result = simpleArraySum(ar)\n",
        "print(result)"
      ],
      "execution_count": 5,
      "outputs": [
        {
          "output_type": "stream",
          "name": "stdout",
          "text": [
            "1\n",
            "5\n",
            "5\n"
          ]
        }
      ]
    },
    {
      "cell_type": "code",
      "metadata": {
        "id": "pVgC6KCcIFB2"
      },
      "source": [
        ""
      ],
      "execution_count": null,
      "outputs": []
    }
  ]
}