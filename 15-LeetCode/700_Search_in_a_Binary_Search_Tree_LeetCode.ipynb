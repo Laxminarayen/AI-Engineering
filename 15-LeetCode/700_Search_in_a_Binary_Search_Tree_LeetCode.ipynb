{
  "nbformat": 4,
  "nbformat_minor": 0,
  "metadata": {
    "colab": {
      "name": "700 Search in a Binary Search Tree LeetCode.ipynb",
      "provenance": [],
      "authorship_tag": "ABX9TyNiGNA7xHlRlz2sR5ph6+7t",
      "include_colab_link": true
    },
    "kernelspec": {
      "name": "python3",
      "display_name": "Python 3"
    },
    "language_info": {
      "name": "python"
    }
  },
  "cells": [
    {
      "cell_type": "markdown",
      "metadata": {
        "id": "view-in-github",
        "colab_type": "text"
      },
      "source": [
        "<a href=\"https://colab.research.google.com/github/plthiyagu/AI-Engineering/blob/master/15-LeetCode/700_Search_in_a_Binary_Search_Tree_LeetCode.ipynb\" target=\"_parent\"><img src=\"https://colab.research.google.com/assets/colab-badge.svg\" alt=\"Open In Colab\"/></a>"
      ]
    },
    {
      "cell_type": "code",
      "metadata": {
        "id": "GD7jvsuzky4r"
      },
      "source": [
        "# Definition for a binary tree node.\n",
        "# class TreeNode:\n",
        "#     def __init__(self, val=0, left=None, right=None):\n",
        "#         self.val = val\n",
        "#         self.left = left\n",
        "#         self.right = right\n",
        "class Solution:\n",
        "    def searchBST(self, root: Optional[TreeNode], val: int) -> Optional[TreeNode]:\n",
        "        if not root:\n",
        "            return root       \n",
        "        if root.val == val:            \n",
        "            return root        \n",
        "        if val < root.val:            \n",
        "            return self.searchBST(root.left, val)        \n",
        "        else:            \n",
        "            return self.searchBST(root.right, val)\n",
        "        "
      ],
      "execution_count": null,
      "outputs": []
    },
    {
      "cell_type": "code",
      "metadata": {
        "id": "R5wKECwekzw8"
      },
      "source": [
        "# Definition for a binary tree node.\n",
        "# class TreeNode(object):\n",
        "#     def __init__(self, x):\n",
        "#         self.val = x\n",
        "#         self.left = None\n",
        "#         self.right = None\n",
        "\n",
        "class Solution(object):\n",
        "    def searchBST(self, root, val):\n",
        "        \"\"\"\n",
        "        :type root: TreeNode\n",
        "        :type val: int\n",
        "        :rtype: TreeNode\n",
        "        \"\"\"\n",
        "        while(root):\n",
        "            if root.val == val:\n",
        "                return root\n",
        "            elif val < root.val:\n",
        "                root = root.left\n",
        "            else:\n",
        "                root = root.right\n",
        "        return root"
      ],
      "execution_count": null,
      "outputs": []
    }
  ]
}