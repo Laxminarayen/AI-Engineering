{
  "nbformat": 4,
  "nbformat_minor": 0,
  "metadata": {
    "colab": {
      "name": "338  Counting Bits LeetCode.ipynb",
      "provenance": [],
      "authorship_tag": "ABX9TyPD/fwTz76eppLzG7tjLvPx",
      "include_colab_link": true
    },
    "kernelspec": {
      "name": "python3",
      "display_name": "Python 3"
    },
    "language_info": {
      "name": "python"
    }
  },
  "cells": [
    {
      "cell_type": "markdown",
      "metadata": {
        "id": "view-in-github",
        "colab_type": "text"
      },
      "source": [
        "<a href=\"https://colab.research.google.com/github/plthiyagu/AI-Engineering/blob/master/15-LeetCode/338%20Counting_Bits_LeetCode.ipynb\" target=\"_parent\"><img src=\"https://colab.research.google.com/assets/colab-badge.svg\" alt=\"Open In Colab\"/></a>"
      ]
    },
    {
      "cell_type": "code",
      "metadata": {
        "id": "viagQIIvo5_3"
      },
      "source": [
        "def countBits( n):\n",
        "    \"\"\"\n",
        "    :type n: int\n",
        "    :rtype: List[int]\n",
        "    \"\"\"\n",
        "    res = [0] * (n + 1)\n",
        "    for i in range(n + 1):\n",
        "        res[i] = res[i >> 1] + (i & 1)\n",
        "    return res\n"
      ],
      "execution_count": 1,
      "outputs": []
    },
    {
      "cell_type": "code",
      "metadata": {
        "colab": {
          "base_uri": "https://localhost:8080/"
        },
        "id": "jqTDYKS7pA-l",
        "outputId": "e24711c6-288a-44ec-d36c-4f091271302c"
      },
      "source": [
        "n = 5\n",
        "countBits( n)"
      ],
      "execution_count": 2,
      "outputs": [
        {
          "output_type": "execute_result",
          "data": {
            "text/plain": [
              "[0, 1, 1, 2, 1, 2]"
            ]
          },
          "metadata": {
            "tags": []
          },
          "execution_count": 2
        }
      ]
    },
    {
      "cell_type": "code",
      "metadata": {
        "id": "GiEh4j9XpGk7"
      },
      "source": [
        ""
      ],
      "execution_count": null,
      "outputs": []
    }
  ]
}