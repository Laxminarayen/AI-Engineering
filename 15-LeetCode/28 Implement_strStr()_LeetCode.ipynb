{
  "nbformat": 4,
  "nbformat_minor": 0,
  "metadata": {
    "colab": {
      "name": "28 Implement strStr() LeetCode.ipynb",
      "provenance": [],
      "authorship_tag": "ABX9TyNleQDTK7F4s4d6R9Iih5un",
      "include_colab_link": true
    },
    "kernelspec": {
      "name": "python3",
      "display_name": "Python 3"
    },
    "language_info": {
      "name": "python"
    }
  },
  "cells": [
    {
      "cell_type": "markdown",
      "metadata": {
        "id": "view-in-github",
        "colab_type": "text"
      },
      "source": [
        "<a href=\"https://colab.research.google.com/github/plthiyagu/AI-Engineering/blob/master/15-LeetCode/28%20Implement_strStr()_LeetCode.ipynb\" target=\"_parent\"><img src=\"https://colab.research.google.com/assets/colab-badge.svg\" alt=\"Open In Colab\"/></a>"
      ]
    },
    {
      "cell_type": "code",
      "metadata": {
        "id": "_-9HdbIc_TEz"
      },
      "source": [
        "def strStr(haystack, needle):\n",
        "    \"\"\"\n",
        "    :type haystack: str\n",
        "    :type needle: str\n",
        "    :rtype: int\n",
        "    \"\"\"\n",
        "    # Base conditions\n",
        "    if haystack is None or needle is None:\n",
        "        return -1\n",
        "    # Special case\n",
        "    if haystack == needle:\n",
        "        return 0\n",
        "    # Length of the needle\n",
        "    needleLength = len(needle)\n",
        "    # Loop through the haystack and slide the window\n",
        "    for i in range(len(haystack) - needleLength + 1):\n",
        "        if haystack[i:i + needleLength] == needle:\n",
        "            return i\n",
        "    return -1"
      ],
      "execution_count": 1,
      "outputs": []
    },
    {
      "cell_type": "code",
      "metadata": {
        "colab": {
          "base_uri": "https://localhost:8080/"
        },
        "id": "oLvPTm9e_Wu0",
        "outputId": "d82b414d-1540-40f9-c9f9-d4c2b77ba8c2"
      },
      "source": [
        "haystack = \"hello\"\n",
        "needle = \"ll\"\n",
        "strStr(haystack, needle)"
      ],
      "execution_count": 2,
      "outputs": [
        {
          "output_type": "execute_result",
          "data": {
            "text/plain": [
              "2"
            ]
          },
          "metadata": {
            "tags": []
          },
          "execution_count": 2
        }
      ]
    },
    {
      "cell_type": "code",
      "metadata": {
        "id": "hSELHhDp_dpp"
      },
      "source": [
        ""
      ],
      "execution_count": null,
      "outputs": []
    }
  ]
}