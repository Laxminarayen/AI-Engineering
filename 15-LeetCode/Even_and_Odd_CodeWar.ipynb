{
  "nbformat": 4,
  "nbformat_minor": 0,
  "metadata": {
    "colab": {
      "name": "Even and Odd  CodeWar.ipynb",
      "provenance": [],
      "authorship_tag": "ABX9TyM8zSfkrBI4A6f6LEeKblMt",
      "include_colab_link": true
    },
    "kernelspec": {
      "name": "python3",
      "display_name": "Python 3"
    },
    "language_info": {
      "name": "python"
    }
  },
  "cells": [
    {
      "cell_type": "markdown",
      "metadata": {
        "id": "view-in-github",
        "colab_type": "text"
      },
      "source": [
        "<a href=\"https://colab.research.google.com/github/plthiyagu/AI-Engineering/blob/master/15-LeetCode/Even_and_Odd_CodeWar.ipynb\" target=\"_parent\"><img src=\"https://colab.research.google.com/assets/colab-badge.svg\" alt=\"Open In Colab\"/></a>"
      ]
    },
    {
      "cell_type": "code",
      "metadata": {
        "id": "l6raO5xadsFG"
      },
      "source": [
        "def even_and_odd(n): \n",
        "    return int(''.join(i for i in str(n) if not int(i)%2) or 0),int(''.join(i for i in str(n) if int(i)%2) or 0)"
      ],
      "execution_count": 1,
      "outputs": []
    },
    {
      "cell_type": "code",
      "metadata": {
        "id": "FYSyzNkwdvAa"
      },
      "source": [
        "def even_and_odd(n): \n",
        "    even_res = ''.join(num for num in str(n) if int(num) % 2 == 0)\n",
        "    odd_res = ''.join(num for num in str(n) if int(num) % 2 != 0)\n",
        "    even_res = int(even_res) if even_res  != '' else 0\n",
        "    odd_res = int(odd_res) if odd_res  != '' else 0\n",
        "    return even_res, odd_res"
      ],
      "execution_count": 2,
      "outputs": []
    },
    {
      "cell_type": "code",
      "metadata": {
        "id": "FLCEoPzVdxr-"
      },
      "source": [
        "def even_and_odd(n): \n",
        "    ne = \"\".join(x for x in str(n) if x in \"02468\")\n",
        "    no = \"\".join(y for y in str(n) if int(y) % 2)\n",
        "    return tuple(0 if not a else int(a) for a in (ne, no))"
      ],
      "execution_count": 3,
      "outputs": []
    },
    {
      "cell_type": "code",
      "metadata": {
        "colab": {
          "base_uri": "https://localhost:8080/"
        },
        "id": "WvAUx_gTd0yQ",
        "outputId": "610b5ba8-bf5c-4611-af43-3f1aa8e22aba"
      },
      "source": [
        "n=126453\n",
        "even_and_odd(n)"
      ],
      "execution_count": 4,
      "outputs": [
        {
          "output_type": "execute_result",
          "data": {
            "text/plain": [
              "(264, 153)"
            ]
          },
          "metadata": {
            "tags": []
          },
          "execution_count": 4
        }
      ]
    },
    {
      "cell_type": "code",
      "metadata": {
        "id": "Qpe_fUzHeDxB"
      },
      "source": [
        ""
      ],
      "execution_count": null,
      "outputs": []
    }
  ]
}