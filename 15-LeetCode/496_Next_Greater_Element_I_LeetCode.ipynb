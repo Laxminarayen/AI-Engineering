{
  "nbformat": 4,
  "nbformat_minor": 0,
  "metadata": {
    "colab": {
      "name": "496 Next Greater Element I LeetCode.ipynb",
      "provenance": [],
      "authorship_tag": "ABX9TyO0/vzNF7s23pPHhfFExkbn",
      "include_colab_link": true
    },
    "kernelspec": {
      "name": "python3",
      "display_name": "Python 3"
    },
    "language_info": {
      "name": "python"
    }
  },
  "cells": [
    {
      "cell_type": "markdown",
      "metadata": {
        "id": "view-in-github",
        "colab_type": "text"
      },
      "source": [
        "<a href=\"https://colab.research.google.com/github/plthiyagu/AI-Engineering/blob/master/15-LeetCode/496_Next_Greater_Element_I_LeetCode.ipynb\" target=\"_parent\"><img src=\"https://colab.research.google.com/assets/colab-badge.svg\" alt=\"Open In Colab\"/></a>"
      ]
    },
    {
      "cell_type": "code",
      "metadata": {
        "id": "27rz1SeHzLhe"
      },
      "source": [
        "from typing import List"
      ],
      "execution_count": 2,
      "outputs": []
    },
    {
      "cell_type": "code",
      "metadata": {
        "id": "Og_TFJAdzAyE"
      },
      "source": [
        "def nextGreaterElement( nums1: List[int], nums2: List[int]) -> List[int]:\n",
        "    hash_map = dict()\n",
        "    stack = nums2[0:1]\n",
        "    \n",
        "    for num in nums2[1:]:\n",
        "        while stack and stack[-1] < num:\n",
        "            hash_map[stack.pop()] = num\n",
        "        stack.append(num)\n",
        "    return [hash_map.get(num, -1) for num in nums1]"
      ],
      "execution_count": 3,
      "outputs": []
    },
    {
      "cell_type": "code",
      "metadata": {
        "colab": {
          "base_uri": "https://localhost:8080/"
        },
        "id": "buA26JtVzJQW",
        "outputId": "25a4511b-17f0-4538-c1c8-ca6cde0a5820"
      },
      "source": [
        "nums1 = [4,1,2]\n",
        "nums2 = [1,3,4,2]\n",
        "nextGreaterElement(nums1,nums2)"
      ],
      "execution_count": 4,
      "outputs": [
        {
          "output_type": "execute_result",
          "data": {
            "text/plain": [
              "[-1, 3, -1]"
            ]
          },
          "metadata": {},
          "execution_count": 4
        }
      ]
    },
    {
      "cell_type": "code",
      "metadata": {
        "id": "18ycqootzcwK"
      },
      "source": [
        ""
      ],
      "execution_count": null,
      "outputs": []
    }
  ]
}