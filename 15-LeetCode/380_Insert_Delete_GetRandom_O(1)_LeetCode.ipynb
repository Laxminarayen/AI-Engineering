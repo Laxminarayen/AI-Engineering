{
  "nbformat": 4,
  "nbformat_minor": 0,
  "metadata": {
    "colab": {
      "name": "380 Insert Delete GetRandom O(1) LeetCode.ipynb",
      "provenance": [],
      "authorship_tag": "ABX9TyNvg3ukzRIDGUvHoqnqiG6L",
      "include_colab_link": true
    },
    "kernelspec": {
      "name": "python3",
      "display_name": "Python 3"
    },
    "language_info": {
      "name": "python"
    }
  },
  "cells": [
    {
      "cell_type": "markdown",
      "metadata": {
        "id": "view-in-github",
        "colab_type": "text"
      },
      "source": [
        "<a href=\"https://colab.research.google.com/github/plthiyagu/AI-Engineering/blob/master/15-LeetCode/380_Insert_Delete_GetRandom_O(1)_LeetCode.ipynb\" target=\"_parent\"><img src=\"https://colab.research.google.com/assets/colab-badge.svg\" alt=\"Open In Colab\"/></a>"
      ]
    },
    {
      "cell_type": "code",
      "metadata": {
        "id": "eoP5fCkCEk_L"
      },
      "source": [
        "class RandomizedSet:\n",
        "\n",
        "    def __init__(self):\n",
        "        self.list = []\n",
        "        self.dic = {}\n",
        "\n",
        "        \n",
        "\n",
        "    def insert(self, val: int) -> bool:\n",
        "        if val in self.dic:\n",
        "            return False\n",
        "        self.dic[val] = len(self.list)\n",
        "        self.list.append(val)\n",
        "        return True\n",
        "\n",
        "        \n",
        "\n",
        "    def remove(self, val: int) -> bool:\n",
        "        if val not in self.dic:\n",
        "            return False\n",
        "        last, idx = self.list[-1], self.dic[val]\n",
        "        self.list[idx], self.dic[last] = last, idx\n",
        "        del self.list[-1]\n",
        "        del self.dic[val]\n",
        "        return True\n",
        "\n",
        "        \n",
        "\n",
        "    def getRandom(self) -> int:\n",
        "        return random.choice(self.list)\n",
        "\n",
        "        \n",
        "\n",
        "\n",
        "# Your RandomizedSet object will be instantiated and called as such:\n",
        "# obj = RandomizedSet()\n",
        "# param_1 = obj.insert(val)\n",
        "# param_2 = obj.remove(val)\n",
        "# param_3 = obj.getRandom()"
      ],
      "execution_count": null,
      "outputs": []
    }
  ]
}