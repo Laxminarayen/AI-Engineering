{
  "nbformat": 4,
  "nbformat_minor": 0,
  "metadata": {
    "colab": {
      "name": "count the number of occurrences.ipynb",
      "provenance": [],
      "authorship_tag": "ABX9TyM/iwzW/szw3lR0y1emy+t6",
      "include_colab_link": true
    },
    "kernelspec": {
      "name": "python3",
      "display_name": "Python 3"
    }
  },
  "cells": [
    {
      "cell_type": "markdown",
      "metadata": {
        "id": "view-in-github",
        "colab_type": "text"
      },
      "source": [
        "<a href=\"https://colab.research.google.com/github/plthiyagu/Personnel/blob/master/count_the_number_of_occurrences.ipynb\" target=\"_parent\"><img src=\"https://colab.research.google.com/assets/colab-badge.svg\" alt=\"Open In Colab\"/></a>"
      ]
    },
    {
      "cell_type": "code",
      "metadata": {
        "id": "ZuRt0xtAvwsp",
        "colab_type": "code",
        "colab": {
          "base_uri": "https://localhost:8080/",
          "height": 34
        },
        "outputId": "241159c0-1986-4d69-d025-1c11bb15ece9"
      },
      "source": [
        "def countX(lst, x): \n",
        "    count = 0\n",
        "    for ele in lst: \n",
        "        if (ele == x): \n",
        "            count = count + 1\n",
        "    return count \n",
        "  \n",
        "# Driver Code \n",
        "lst = [8, 6, 8, 10, 8, 20, 10, 8, 8] \n",
        "x = 8\n",
        "print('{} has occurred {} times'.format(x, countX(lst, x))) "
      ],
      "execution_count": 1,
      "outputs": [
        {
          "output_type": "stream",
          "text": [
            "8 has occurred 5 times\n"
          ],
          "name": "stdout"
        }
      ]
    },
    {
      "cell_type": "code",
      "metadata": {
        "id": "9zfI2o62v4uX",
        "colab_type": "code",
        "colab": {
          "base_uri": "https://localhost:8080/",
          "height": 68
        },
        "outputId": "1cba7dcf-f1dd-4767-d13d-b88ce59cf582"
      },
      "source": [
        "test_list1 = [5, 7, 8, 9, 10, 11] \n",
        "test_list2 = [8, 10, 11] \n",
        "  \n",
        "# printing original lists \n",
        "print(\"The original list 1 is : \" + str(test_list1)) \n",
        "print(\"The original list 2 is : \" + str(test_list2)) \n",
        "  \n",
        "# Indices list of matching element from other list \n",
        "# Using loop + count() \n",
        "res = [] \n",
        "i = 0\n",
        "while (i < len(test_list1)): \n",
        "    if (test_list2.count(test_list1[i]) > 0): \n",
        "        res.append(i) \n",
        "    i += 1\n",
        "  \n",
        "# printing result  \n",
        "print(\"The matching element Indices list : \" + str(res)) \n"
      ],
      "execution_count": 3,
      "outputs": [
        {
          "output_type": "stream",
          "text": [
            "The original list 1 is : [5, 7, 8, 9, 10, 11]\n",
            "The original list 2 is : [8, 10, 11]\n",
            "The matching element Indices list : [2, 4, 5]\n"
          ],
          "name": "stdout"
        }
      ]
    },
    {
      "cell_type": "code",
      "metadata": {
        "id": "Q5bV1oGczR49",
        "colab_type": "code",
        "colab": {}
      },
      "source": [
        ""
      ],
      "execution_count": 0,
      "outputs": []
    },
    {
      "cell_type": "code",
      "metadata": {
        "id": "CYl6F7gqzMor",
        "colab_type": "code",
        "colab": {}
      },
      "source": [
        ""
      ],
      "execution_count": 0,
      "outputs": []
    }
  ]
}