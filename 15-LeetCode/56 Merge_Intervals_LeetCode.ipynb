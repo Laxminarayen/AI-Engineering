{
  "nbformat": 4,
  "nbformat_minor": 0,
  "metadata": {
    "colab": {
      "name": "56 Merge Intervals LeetCode.ipynb",
      "provenance": [],
      "collapsed_sections": [],
      "authorship_tag": "ABX9TyM0y86hUhvG8vIzwAU8aN7A",
      "include_colab_link": true
    },
    "kernelspec": {
      "name": "python3",
      "display_name": "Python 3"
    },
    "language_info": {
      "name": "python"
    }
  },
  "cells": [
    {
      "cell_type": "markdown",
      "metadata": {
        "id": "view-in-github",
        "colab_type": "text"
      },
      "source": [
        "<a href=\"https://colab.research.google.com/github/plthiyagu/AI-Engineering/blob/master/15-LeetCode/56%20Merge_Intervals_LeetCode.ipynb\" target=\"_parent\"><img src=\"https://colab.research.google.com/assets/colab-badge.svg\" alt=\"Open In Colab\"/></a>"
      ]
    },
    {
      "cell_type": "code",
      "metadata": {
        "id": "otL9f2giwa65"
      },
      "source": [
        "def merge(intervals):\n",
        "    \"\"\"\n",
        "    :type intervals: List[List[int]]\n",
        "    :rtype: List[List[int]]\n",
        "    \"\"\"\n",
        "    intervals.sort(key=lambda x: x[0])\n",
        "    res = [intervals[0]]\n",
        "    for interval in intervals[1:]:\n",
        "        if res[-1][1] >= interval[0]:\n",
        "            res[-1][1] = max(interval[1], res[-1][1])\n",
        "        else:\n",
        "            res.append(interval)\n",
        "    return res\n"
      ],
      "execution_count": 1,
      "outputs": []
    },
    {
      "cell_type": "code",
      "metadata": {
        "colab": {
          "base_uri": "https://localhost:8080/"
        },
        "id": "X4-V7dssweOs",
        "outputId": "4e12ad71-1036-4686-8543-adbe3ad310a0"
      },
      "source": [
        "intervals = [[1,3],[2,6],[8,10],[15,18]]\n",
        "merge(intervals)"
      ],
      "execution_count": 2,
      "outputs": [
        {
          "output_type": "execute_result",
          "data": {
            "text/plain": [
              "[[1, 6], [8, 10], [15, 18]]"
            ]
          },
          "metadata": {
            "tags": []
          },
          "execution_count": 2
        }
      ]
    },
    {
      "cell_type": "code",
      "metadata": {
        "id": "2bXDU6GawoDm"
      },
      "source": [
        ""
      ],
      "execution_count": null,
      "outputs": []
    }
  ]
}