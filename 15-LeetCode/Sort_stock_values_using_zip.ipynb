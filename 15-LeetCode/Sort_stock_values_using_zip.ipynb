{
  "nbformat": 4,
  "nbformat_minor": 0,
  "metadata": {
    "colab": {
      "name": "Sort stock values using zip.ipynb",
      "provenance": [],
      "authorship_tag": "ABX9TyNJS+CUcY5dFatT8BLv4sUI",
      "include_colab_link": true
    },
    "kernelspec": {
      "name": "python3",
      "display_name": "Python 3"
    },
    "language_info": {
      "name": "python"
    }
  },
  "cells": [
    {
      "cell_type": "markdown",
      "metadata": {
        "id": "view-in-github",
        "colab_type": "text"
      },
      "source": [
        "<a href=\"https://colab.research.google.com/github/plthiyagu/AI-Engineering/blob/master/15-LeetCode/Sort_stock_values_using_zip.ipynb\" target=\"_parent\"><img src=\"https://colab.research.google.com/assets/colab-badge.svg\" alt=\"Open In Colab\"/></a>"
      ]
    },
    {
      "cell_type": "code",
      "metadata": {
        "colab": {
          "base_uri": "https://localhost:8080/"
        },
        "id": "n1-Ad02Quf1t",
        "outputId": "b932b1f5-b746-477f-cb08-2642af0667ee"
      },
      "source": [
        "import heapq\n",
        " \n",
        "stocks = {\n",
        "    'Goog' : 520.54,\n",
        "    'FB' : 76.45,\n",
        "    'yhoo' : 39.28,\n",
        "    'AMZN' : 306.21,\n",
        "    'APPL' : 99.76\n",
        "    }\n",
        " \n",
        "zipped_1 = zip(stocks.values(), stocks.keys())\n",
        " \n",
        "# sorting according to values\n",
        "print(sorted(zipped_1))\n",
        " \n",
        "zipped_2 = zip(stocks.keys(), stocks.values())\n",
        "print(sorted(zipped_2))"
      ],
      "execution_count": 1,
      "outputs": [
        {
          "output_type": "stream",
          "text": [
            "[(39.28, 'yhoo'), (76.45, 'FB'), (99.76, 'APPL'), (306.21, 'AMZN'), (520.54, 'Goog')]\n",
            "[('AMZN', 306.21), ('APPL', 99.76), ('FB', 76.45), ('Goog', 520.54), ('yhoo', 39.28)]\n"
          ],
          "name": "stdout"
        }
      ]
    },
    {
      "cell_type": "code",
      "metadata": {
        "id": "mhptbsQduhgX"
      },
      "source": [
        ""
      ],
      "execution_count": null,
      "outputs": []
    }
  ]
}