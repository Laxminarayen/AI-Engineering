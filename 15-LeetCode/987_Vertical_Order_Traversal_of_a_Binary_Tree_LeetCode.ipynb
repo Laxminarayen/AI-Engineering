{
  "nbformat": 4,
  "nbformat_minor": 0,
  "metadata": {
    "colab": {
      "name": "987 Vertical Order Traversal of a Binary Tree LeetCode.ipynb",
      "provenance": [],
      "authorship_tag": "ABX9TyOh0/vFrNMr6ULFIid2+paV",
      "include_colab_link": true
    },
    "kernelspec": {
      "name": "python3",
      "display_name": "Python 3"
    },
    "language_info": {
      "name": "python"
    }
  },
  "cells": [
    {
      "cell_type": "markdown",
      "metadata": {
        "id": "view-in-github",
        "colab_type": "text"
      },
      "source": [
        "<a href=\"https://colab.research.google.com/github/plthiyagu/AI-Engineering/blob/master/15-LeetCode/987_Vertical_Order_Traversal_of_a_Binary_Tree_LeetCode.ipynb\" target=\"_parent\"><img src=\"https://colab.research.google.com/assets/colab-badge.svg\" alt=\"Open In Colab\"/></a>"
      ]
    },
    {
      "cell_type": "code",
      "metadata": {
        "id": "6kt2OZcp_E1K"
      },
      "source": [
        "# Definition for a binary tree node.\n",
        "# class TreeNode:\n",
        "#     def __init__(self, val=0, left=None, right=None):\n",
        "#         self.val = val\n",
        "#         self.left = left\n",
        "#         self.right = right\n",
        "class Solution:\n",
        "    def verticalTraversal(self, root: Optional[TreeNode]) -> List[List[int]]:\n",
        "        if not root: return []    \n",
        "        vals = []\n",
        "        def preorder(root, x, y):\n",
        "          if not root: return\n",
        "          vals.append((x, y, root.val))\n",
        "          preorder(root.left, x - 1, y + 1)\n",
        "          preorder(root.right, x + 1, y + 1)\n",
        "        preorder(root, 0, 0)    \n",
        "        ans = []\n",
        "        last_x = -1000\n",
        "        for x, y, val in sorted(vals):\n",
        "          if x != last_x:\n",
        "            ans.append([])\n",
        "            last_x = x\n",
        "          ans[-1].append(val)\n",
        "        return ans\n"
      ],
      "execution_count": null,
      "outputs": []
    }
  ]
}