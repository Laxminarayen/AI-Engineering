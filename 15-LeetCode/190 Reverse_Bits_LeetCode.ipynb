{
  "nbformat": 4,
  "nbformat_minor": 0,
  "metadata": {
    "colab": {
      "name": "190 Reverse Bits LeetCode.ipynb",
      "provenance": [],
      "authorship_tag": "ABX9TyOy0iEFtoaLkjli6ePp+lci",
      "include_colab_link": true
    },
    "kernelspec": {
      "name": "python3",
      "display_name": "Python 3"
    },
    "language_info": {
      "name": "python"
    }
  },
  "cells": [
    {
      "cell_type": "markdown",
      "metadata": {
        "id": "view-in-github",
        "colab_type": "text"
      },
      "source": [
        "<a href=\"https://colab.research.google.com/github/plthiyagu/AI-Engineering/blob/master/15-LeetCode/190%20Reverse_Bits_LeetCode.ipynb\" target=\"_parent\"><img src=\"https://colab.research.google.com/assets/colab-badge.svg\" alt=\"Open In Colab\"/></a>"
      ]
    },
    {
      "cell_type": "code",
      "metadata": {
        "id": "1wFd0OpStwig"
      },
      "source": [
        "# param n, an integer\n",
        "# return an integer\n",
        "def reverseBits(n):\n",
        "    res, power = 0, 31\n",
        "    while n:\n",
        "        res += (n & 1) << power\n",
        "        n >>= 1\n",
        "        power -= 1\n",
        "    return res\n"
      ],
      "execution_count": 1,
      "outputs": []
    },
    {
      "cell_type": "code",
      "metadata": {
        "id": "Ljx4plEduc9Y"
      },
      "source": [
        "n = 11111111111111111111111111111101\n",
        "reverseBits(n)"
      ],
      "execution_count": null,
      "outputs": []
    },
    {
      "cell_type": "code",
      "metadata": {
        "id": "ltrqNdKFukbb"
      },
      "source": [
        "def reverseBits( n):\n",
        "    return int(bin(n)[2:].zfill(32)[::-1], 2)"
      ],
      "execution_count": 3,
      "outputs": []
    },
    {
      "cell_type": "code",
      "metadata": {
        "id": "wjRluYM5usNQ"
      },
      "source": [
        ""
      ],
      "execution_count": null,
      "outputs": []
    }
  ]
}