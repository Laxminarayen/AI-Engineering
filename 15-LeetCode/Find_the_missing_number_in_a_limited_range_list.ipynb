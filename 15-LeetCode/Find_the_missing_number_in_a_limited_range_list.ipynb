{
  "nbformat": 4,
  "nbformat_minor": 0,
  "metadata": {
    "colab": {
      "name": "Find the missing number in a limited range list.ipynb",
      "provenance": [],
      "authorship_tag": "ABX9TyNlosMPwNj/ckcJWwQuzQat",
      "include_colab_link": true
    },
    "kernelspec": {
      "name": "python3",
      "display_name": "Python 3"
    },
    "language_info": {
      "name": "python"
    }
  },
  "cells": [
    {
      "cell_type": "markdown",
      "metadata": {
        "id": "view-in-github",
        "colab_type": "text"
      },
      "source": [
        "<a href=\"https://colab.research.google.com/github/plthiyagu/AI-Engineering/blob/master/15-LeetCode/Find_the_missing_number_in_a_limited_range_list.ipynb\" target=\"_parent\"><img src=\"https://colab.research.google.com/assets/colab-badge.svg\" alt=\"Open In Colab\"/></a>"
      ]
    },
    {
      "cell_type": "code",
      "metadata": {
        "id": "Rw8KyqqOZKYN"
      },
      "source": [
        "# Find the missing number in a limited range list `arr[1…n+1]`\n",
        "def findMissingElement(arr):\n",
        "  n= len(arr)\n",
        "  total= sum(arr)\n",
        "  return (n+1) + n * (n+1) //2- total"
      ],
      "execution_count": 1,
      "outputs": []
    },
    {
      "cell_type": "code",
      "metadata": {
        "colab": {
          "base_uri": "https://localhost:8080/"
        },
        "id": "kYeLq0rOZ5FV",
        "outputId": "1b120ed3-7984-4372-b637-2501e58673b3"
      },
      "source": [
        "arr = [3, 2, 4, 6, 1]\n",
        "findMissingElement(arr)"
      ],
      "execution_count": 2,
      "outputs": [
        {
          "output_type": "execute_result",
          "data": {
            "text/plain": [
              "5"
            ]
          },
          "metadata": {},
          "execution_count": 2
        }
      ]
    },
    {
      "cell_type": "code",
      "metadata": {
        "id": "RixvIstKbvdL"
      },
      "source": [
        ""
      ],
      "execution_count": null,
      "outputs": []
    }
  ]
}