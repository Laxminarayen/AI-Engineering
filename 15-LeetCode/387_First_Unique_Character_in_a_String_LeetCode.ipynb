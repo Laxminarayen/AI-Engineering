{
  "nbformat": 4,
  "nbformat_minor": 0,
  "metadata": {
    "colab": {
      "name": "387  First Unique Character in a String LeetCode.ipynb",
      "provenance": [],
      "authorship_tag": "ABX9TyO99t3IPYIXlbEwWYA3KrPT",
      "include_colab_link": true
    },
    "kernelspec": {
      "name": "python3",
      "display_name": "Python 3"
    },
    "language_info": {
      "name": "python"
    }
  },
  "cells": [
    {
      "cell_type": "markdown",
      "metadata": {
        "id": "view-in-github",
        "colab_type": "text"
      },
      "source": [
        "<a href=\"https://colab.research.google.com/github/plthiyagu/AI-Engineering/blob/master/15-LeetCode/387_First_Unique_Character_in_a_String_LeetCode.ipynb\" target=\"_parent\"><img src=\"https://colab.research.google.com/assets/colab-badge.svg\" alt=\"Open In Colab\"/></a>"
      ]
    },
    {
      "cell_type": "code",
      "metadata": {
        "id": "Qqz48S-layqC"
      },
      "source": [
        "from collections import Counter\n",
        "def firstUniqChar( s: str) -> int:\n",
        "    ct = Counter(s)\n",
        "    for i, c in enumerate(s):\n",
        "        if ct[c] == 1:\n",
        "            return i\n",
        "    return -1"
      ],
      "execution_count": 3,
      "outputs": []
    },
    {
      "cell_type": "code",
      "metadata": {
        "colab": {
          "base_uri": "https://localhost:8080/"
        },
        "id": "VhPQZaKja4jW",
        "outputId": "c842c457-a642-435c-ec62-c6428b609421"
      },
      "source": [
        "s = \"loveleetcode\"\n",
        "firstUniqChar( s)"
      ],
      "execution_count": 4,
      "outputs": [
        {
          "output_type": "execute_result",
          "data": {
            "text/plain": [
              "2"
            ]
          },
          "metadata": {},
          "execution_count": 4
        }
      ]
    },
    {
      "cell_type": "code",
      "metadata": {
        "id": "oPp1Y3R5a-yU"
      },
      "source": [
        ""
      ],
      "execution_count": null,
      "outputs": []
    }
  ]
}