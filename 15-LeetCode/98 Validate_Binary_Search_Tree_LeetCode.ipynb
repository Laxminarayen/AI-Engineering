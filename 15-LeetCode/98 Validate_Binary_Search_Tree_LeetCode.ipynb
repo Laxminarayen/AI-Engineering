{
  "nbformat": 4,
  "nbformat_minor": 0,
  "metadata": {
    "colab": {
      "name": "98 Validate Binary Search Tree LeetCode.ipynb",
      "provenance": [],
      "authorship_tag": "ABX9TyNImStUSvKic4PCSiXwTIHp",
      "include_colab_link": true
    },
    "kernelspec": {
      "name": "python3",
      "display_name": "Python 3"
    },
    "language_info": {
      "name": "python"
    }
  },
  "cells": [
    {
      "cell_type": "markdown",
      "metadata": {
        "id": "view-in-github",
        "colab_type": "text"
      },
      "source": [
        "<a href=\"https://colab.research.google.com/github/plthiyagu/AI-Engineering/blob/master/15-LeetCode/98%20Validate_Binary_Search_Tree_LeetCode.ipynb\" target=\"_parent\"><img src=\"https://colab.research.google.com/assets/colab-badge.svg\" alt=\"Open In Colab\"/></a>"
      ]
    },
    {
      "cell_type": "code",
      "metadata": {
        "id": "Blla8oKH18gI"
      },
      "source": [
        "# Definition for a binary tree node.\n",
        "class TreeNode(object):\n",
        "    def __init__(self, val=0, left=None, right=None):\n",
        "        self.val = val\n",
        "        self.left = left\n",
        "        self.right = right\n",
        "class Solution(object):\n",
        "    def isValidBST(self, root):\n",
        "        \"\"\"\n",
        "        :type root: TreeNode\n",
        "        :rtype: bool\n",
        "        \"\"\"\n",
        "        def check(root, l, r):\n",
        "            if root == None:\n",
        "                return True\n",
        "            val = root.val\n",
        "            if val <= l or val >= r:\n",
        "                return False\n",
        "            return check(root.left, l, val) and check(root.right, val, r)\n",
        "        return check(root, float('-inf'), float('inf'))\n"
      ],
      "execution_count": 1,
      "outputs": []
    },
    {
      "cell_type": "code",
      "metadata": {
        "id": "FcY_jUUF2CgQ"
      },
      "source": [
        "root = [5,1,4,null,null,3,6]"
      ],
      "execution_count": null,
      "outputs": []
    },
    {
      "cell_type": "code",
      "metadata": {
        "id": "ETVfCj2f2F88"
      },
      "source": [
        ""
      ],
      "execution_count": null,
      "outputs": []
    }
  ]
}