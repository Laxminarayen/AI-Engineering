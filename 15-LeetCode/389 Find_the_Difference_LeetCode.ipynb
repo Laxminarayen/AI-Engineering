{
  "nbformat": 4,
  "nbformat_minor": 0,
  "metadata": {
    "colab": {
      "name": "389 Find the Difference LeetCode.ipynb",
      "provenance": [],
      "authorship_tag": "ABX9TyPyvyX2KcKfFzaWGN/x2z/d",
      "include_colab_link": true
    },
    "kernelspec": {
      "name": "python3",
      "display_name": "Python 3"
    },
    "language_info": {
      "name": "python"
    }
  },
  "cells": [
    {
      "cell_type": "markdown",
      "metadata": {
        "id": "view-in-github",
        "colab_type": "text"
      },
      "source": [
        "<a href=\"https://colab.research.google.com/github/plthiyagu/AI-Engineering/blob/master/15-LeetCode/389%20Find_the_Difference_LeetCode.ipynb\" target=\"_parent\"><img src=\"https://colab.research.google.com/assets/colab-badge.svg\" alt=\"Open In Colab\"/></a>"
      ]
    },
    {
      "cell_type": "code",
      "metadata": {
        "id": "rFqNvLCevLaw"
      },
      "source": [
        "import functools\n",
        "import operator\n",
        "def findTheDifference(s, t):\n",
        "    return chr(functools.reduce(operator.xor, map(ord, s + t)))"
      ],
      "execution_count": 3,
      "outputs": []
    },
    {
      "cell_type": "code",
      "metadata": {
        "colab": {
          "base_uri": "https://localhost:8080/",
          "height": 35
        },
        "id": "DfXpsDCXvOiB",
        "outputId": "ad997c12-7b34-4a3f-8ddf-b79e19546b0e"
      },
      "source": [
        "s = \"abcd\"\n",
        "t = \"abcde\"\n",
        "findTheDifference(s,t)"
      ],
      "execution_count": 4,
      "outputs": [
        {
          "output_type": "execute_result",
          "data": {
            "application/vnd.google.colaboratory.intrinsic+json": {
              "type": "string"
            },
            "text/plain": [
              "'e'"
            ]
          },
          "metadata": {
            "tags": []
          },
          "execution_count": 4
        }
      ]
    },
    {
      "cell_type": "code",
      "metadata": {
        "id": "TbCVDQFQvUBD"
      },
      "source": [
        ""
      ],
      "execution_count": null,
      "outputs": []
    }
  ]
}