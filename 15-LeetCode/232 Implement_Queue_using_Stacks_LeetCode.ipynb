{
  "nbformat": 4,
  "nbformat_minor": 0,
  "metadata": {
    "colab": {
      "name": "232 Implement Queue using Stacks LeetCode.ipynb",
      "provenance": [],
      "authorship_tag": "ABX9TyO/e9c3XPv0sDHTIt8l99jT",
      "include_colab_link": true
    },
    "kernelspec": {
      "name": "python3",
      "display_name": "Python 3"
    },
    "language_info": {
      "name": "python"
    }
  },
  "cells": [
    {
      "cell_type": "markdown",
      "metadata": {
        "id": "view-in-github",
        "colab_type": "text"
      },
      "source": [
        "<a href=\"https://colab.research.google.com/github/plthiyagu/AI-Engineering/blob/master/15-LeetCode/232%20Implement_Queue_using_Stacks_LeetCode.ipynb\" target=\"_parent\"><img src=\"https://colab.research.google.com/assets/colab-badge.svg\" alt=\"Open In Colab\"/></a>"
      ]
    },
    {
      "cell_type": "code",
      "metadata": {
        "id": "FXmhk0My5gMH"
      },
      "source": [
        "class MyQueue(object):\n",
        "\n",
        "    def __init__(self):\n",
        "        \"\"\"\n",
        "        Initialize your data structure here.\n",
        "        \"\"\"\n",
        "        self.push_stack = []\n",
        "        self.pop_stack = []\n",
        "\n",
        "\n",
        "\n",
        "    def push(self, x):\n",
        "        \"\"\"\n",
        "        Push element x to the back of queue.\n",
        "        :type x: int\n",
        "        :rtype: None\n",
        "        \"\"\"\n",
        "        self.push_stack.append(x)\n",
        "\n",
        "        \n",
        "\n",
        "    def pop(self):\n",
        "        \"\"\"\n",
        "        Removes the element from in front of queue and returns that element.\n",
        "        :rtype: int\n",
        "        \"\"\"\n",
        "        if self.empty(): return\n",
        "        if len(self.pop_stack):\n",
        "            return self.pop_stack.pop()\n",
        "        else:\n",
        "            while len(self.push_stack):\n",
        "                self.pop_stack.append(self.push_stack.pop())\n",
        "        return self.pop_stack.pop()\n",
        "\n",
        "\n",
        "    def peek(self):\n",
        "        \"\"\"\n",
        "        Get the front element.\n",
        "        :rtype: int\n",
        "        \"\"\"\n",
        "        if self.empty(): return\n",
        "        if len(self.pop_stack):\n",
        "            return self.pop_stack[-1]\n",
        "        else:\n",
        "            while len(self.push_stack):\n",
        "                self.pop_stack.append(self.push_stack.pop())\n",
        "        return self.pop_stack[-1]\n",
        "\n",
        "\n",
        "\n",
        "    def empty(self):\n",
        "        \"\"\"\n",
        "        Returns whether the queue is empty.\n",
        "        :rtype: bool\n",
        "        \"\"\"\n",
        "        return len(self.push_stack)==False and len(self.pop_stack) == False\n",
        "\n",
        "        \n",
        "\n",
        "\n",
        "# Your MyQueue object will be instantiated and called as such:\n",
        "# obj = MyQueue()\n",
        "# obj.push(x)\n",
        "# param_2 = obj.pop()\n",
        "# param_3 = obj.peek()\n",
        "# param_4 = obj.empty()"
      ],
      "execution_count": 1,
      "outputs": []
    },
    {
      "cell_type": "code",
      "metadata": {
        "id": "M_xJakyH5hQN"
      },
      "source": [
        "[\"MyQueue\", \"push\", \"push\", \"peek\", \"pop\", \"empty\"]\n",
        "[[], [1], [2], [], [], []]"
      ],
      "execution_count": null,
      "outputs": []
    }
  ]
}