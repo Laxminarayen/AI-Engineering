{
  "nbformat": 4,
  "nbformat_minor": 0,
  "metadata": {
    "colab": {
      "name": "347 Top K Frequent Elements LeetCode.ipynb",
      "provenance": [],
      "authorship_tag": "ABX9TyOTdJS2XxYluIqNOWmea2+N",
      "include_colab_link": true
    },
    "kernelspec": {
      "name": "python3",
      "display_name": "Python 3"
    },
    "language_info": {
      "name": "python"
    }
  },
  "cells": [
    {
      "cell_type": "markdown",
      "metadata": {
        "id": "view-in-github",
        "colab_type": "text"
      },
      "source": [
        "<a href=\"https://colab.research.google.com/github/plthiyagu/AI-Engineering/blob/master/15-LeetCode/347%20Top_K_Frequent_Elements_LeetCode.ipynb\" target=\"_parent\"><img src=\"https://colab.research.google.com/assets/colab-badge.svg\" alt=\"Open In Colab\"/></a>"
      ]
    },
    {
      "cell_type": "code",
      "metadata": {
        "id": "uRX5ABJz7Fc3"
      },
      "source": [
        "from collections import Counter\n",
        "from heapq import heappush\n",
        "from heapq import heappushpop\n",
        "\n",
        "\n",
        "def topKFrequent( nums, k):\n",
        "    \"\"\"\n",
        "    :type nums: List[int]\n",
        "    :type k: int\n",
        "    :rtype: List[int]\n",
        "    \"\"\"\n",
        "    q = []\n",
        "    for num, freq in Counter(nums).items():\n",
        "        if len(q) == k:\n",
        "            heappushpop(q, (freq, num))\n",
        "        else:\n",
        "            heappush(q, (freq, num))\n",
        "    return [x[1] for x in q]\n"
      ],
      "execution_count": 9,
      "outputs": []
    },
    {
      "cell_type": "code",
      "metadata": {
        "colab": {
          "base_uri": "https://localhost:8080/"
        },
        "id": "s4Z2-InP7Ibk",
        "outputId": "239bd96a-ea4e-443f-9732-4fdcf34db3fa"
      },
      "source": [
        "nums = [1,1,1,2,2,3]\n",
        "k = 2\n",
        "topKFrequent( nums, k)"
      ],
      "execution_count": 10,
      "outputs": [
        {
          "output_type": "execute_result",
          "data": {
            "text/plain": [
              "[2, 1]"
            ]
          },
          "metadata": {
            "tags": []
          },
          "execution_count": 10
        }
      ]
    },
    {
      "cell_type": "code",
      "metadata": {
        "id": "0lSNnaKP7R6W"
      },
      "source": [
        ""
      ],
      "execution_count": null,
      "outputs": []
    }
  ]
}