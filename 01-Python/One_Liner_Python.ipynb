{
  "nbformat": 4,
  "nbformat_minor": 0,
  "metadata": {
    "colab": {
      "name": "One Liner Python.ipynb",
      "provenance": [],
      "authorship_tag": "ABX9TyMDQaqzpYTNdZkNYIWmpgy9",
      "include_colab_link": true
    },
    "kernelspec": {
      "name": "python3",
      "display_name": "Python 3"
    }
  },
  "cells": [
    {
      "cell_type": "markdown",
      "metadata": {
        "id": "view-in-github",
        "colab_type": "text"
      },
      "source": [
        "<a href=\"https://colab.research.google.com/github/plthiyagu/Personnel/blob/master/One_Liner_Python.ipynb\" target=\"_parent\"><img src=\"https://colab.research.google.com/assets/colab-badge.svg\" alt=\"Open In Colab\"/></a>"
      ]
    },
    {
      "cell_type": "markdown",
      "metadata": {
        "id": "8vFoIej89I7I",
        "colab_type": "text"
      },
      "source": [
        "IF/ ELSE Blocks"
      ]
    },
    {
      "cell_type": "code",
      "metadata": {
        "id": "tAr5iakP9gwF",
        "colab_type": "code",
        "colab": {}
      },
      "source": [
        "bar=120"
      ],
      "execution_count": 0,
      "outputs": []
    },
    {
      "cell_type": "code",
      "metadata": {
        "id": "IWAacjkj9E0f",
        "colab_type": "code",
        "colab": {
          "base_uri": "https://localhost:8080/",
          "height": 34
        },
        "outputId": "1522ca46-99e8-4b12-b528-7bb56699fbb6"
      },
      "source": [
        "if bar >100:\n",
        "  foo=2\n",
        "elif bar >10:\n",
        "  foo=1\n",
        "else:\n",
        "  foo=0\n",
        "\n",
        "print(foo)"
      ],
      "execution_count": 2,
      "outputs": [
        {
          "output_type": "stream",
          "text": [
            "2\n"
          ],
          "name": "stdout"
        }
      ]
    },
    {
      "cell_type": "markdown",
      "metadata": {
        "id": "uhVIAwpZ9tZi",
        "colab_type": "text"
      },
      "source": [
        "List Comprehension"
      ]
    },
    {
      "cell_type": "code",
      "metadata": {
        "id": "fCeXz7_a9qKd",
        "colab_type": "code",
        "colab": {
          "base_uri": "https://localhost:8080/",
          "height": 34
        },
        "outputId": "d04d8520-6b13-4c9b-e0f9-954fede07a8f"
      },
      "source": [
        "lst= [0,1,2]\n",
        "doubled=[]\n",
        "for item in lst:\n",
        "  doubled.append(item * 2)\n",
        "\n",
        "print(doubled)"
      ],
      "execution_count": 3,
      "outputs": [
        {
          "output_type": "stream",
          "text": [
            "[0, 2, 4]\n"
          ],
          "name": "stdout"
        }
      ]
    },
    {
      "cell_type": "code",
      "metadata": {
        "id": "_nXSH-Xf9-SI",
        "colab_type": "code",
        "colab": {
          "base_uri": "https://localhost:8080/",
          "height": 34
        },
        "outputId": "8346d71b-ccc7-4f1d-9b66-cf0437a211e6"
      },
      "source": [
        "doubledlst=[item *2 for item in lst]\n",
        "doubledlst"
      ],
      "execution_count": 4,
      "outputs": [
        {
          "output_type": "execute_result",
          "data": {
            "text/plain": [
              "[0, 2, 4]"
            ]
          },
          "metadata": {
            "tags": []
          },
          "execution_count": 4
        }
      ]
    },
    {
      "cell_type": "markdown",
      "metadata": {
        "id": "hopJn7Bm-J3Q",
        "colab_type": "text"
      },
      "source": [
        "Quick List Reversal"
      ]
    },
    {
      "cell_type": "code",
      "metadata": {
        "id": "8kPQiVTe-HbL",
        "colab_type": "code",
        "colab": {
          "base_uri": "https://localhost:8080/",
          "height": 34
        },
        "outputId": "72c8b074-c093-4351-b467-270e42949451"
      },
      "source": [
        "lst=[0,1,2]\n",
        "reversed=[]\n",
        "for i in range(len(lst)-1,-1,-1):\n",
        "  reversed.append(lst[i])\n",
        "reversed"
      ],
      "execution_count": 6,
      "outputs": [
        {
          "output_type": "execute_result",
          "data": {
            "text/plain": [
              "[2, 1, 0]"
            ]
          },
          "metadata": {
            "tags": []
          },
          "execution_count": 6
        }
      ]
    },
    {
      "cell_type": "code",
      "metadata": {
        "id": "2nYlRPKO-fVd",
        "colab_type": "code",
        "colab": {
          "base_uri": "https://localhost:8080/",
          "height": 34
        },
        "outputId": "a57f90fd-0fdf-4964-b599-89da901c24b2"
      },
      "source": [
        "reversednew=lst[::-1]\n",
        "reversednew"
      ],
      "execution_count": 8,
      "outputs": [
        {
          "output_type": "execute_result",
          "data": {
            "text/plain": [
              "[2, 1, 0]"
            ]
          },
          "metadata": {
            "tags": []
          },
          "execution_count": 8
        }
      ]
    },
    {
      "cell_type": "code",
      "metadata": {
        "id": "jedCZ4o3-n-h",
        "colab_type": "code",
        "colab": {
          "base_uri": "https://localhost:8080/",
          "height": 34
        },
        "outputId": "717aaecc-e26d-4653-b4ea-1e90182f0f5d"
      },
      "source": [
        "lst= [0,1,2,3,4,5]\n",
        "everyOtherElem=[]\n",
        "for i in range(len(lst)):\n",
        "  if i % 2 == 0:\n",
        "    everyOtherElem.append(lst[i])\n",
        "summed= sum(everyOtherElem)\n",
        "summed"
      ],
      "execution_count": 11,
      "outputs": [
        {
          "output_type": "execute_result",
          "data": {
            "text/plain": [
              "6"
            ]
          },
          "metadata": {
            "tags": []
          },
          "execution_count": 11
        }
      ]
    },
    {
      "cell_type": "code",
      "metadata": {
        "id": "bNpaTCPg_LvM",
        "colab_type": "code",
        "colab": {
          "base_uri": "https://localhost:8080/",
          "height": 34
        },
        "outputId": "2f41e498-e685-488b-88c5-ee81587ed36b"
      },
      "source": [
        "summmednew= sum(lst[::2])\n",
        "summmednew"
      ],
      "execution_count": 13,
      "outputs": [
        {
          "output_type": "execute_result",
          "data": {
            "text/plain": [
              "6"
            ]
          },
          "metadata": {
            "tags": []
          },
          "execution_count": 13
        }
      ]
    },
    {
      "cell_type": "code",
      "metadata": {
        "id": "dFpfiuP9_W_M",
        "colab_type": "code",
        "colab": {}
      },
      "source": [
        ""
      ],
      "execution_count": 0,
      "outputs": []
    }
  ]
}