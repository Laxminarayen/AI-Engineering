{
  "nbformat": 4,
  "nbformat_minor": 0,
  "metadata": {
    "colab": {
      "name": "Python Basic Learning.ipynb",
      "provenance": [],
      "collapsed_sections": [],
      "authorship_tag": "ABX9TyNCBtusAId+eTGxE5UDSxeE",
      "include_colab_link": true
    },
    "kernelspec": {
      "name": "python3",
      "display_name": "Python 3"
    }
  },
  "cells": [
    {
      "cell_type": "markdown",
      "metadata": {
        "id": "view-in-github",
        "colab_type": "text"
      },
      "source": [
        "<a href=\"https://colab.research.google.com/github/plthiyagu/Personnel/blob/master/Python_Basic_Learning.ipynb\" target=\"_parent\"><img src=\"https://colab.research.google.com/assets/colab-badge.svg\" alt=\"Open In Colab\"/></a>"
      ]
    },
    {
      "cell_type": "code",
      "metadata": {
        "id": "dF4_F3f6W2ai",
        "colab_type": "code",
        "colab": {
          "base_uri": "https://localhost:8080/",
          "height": 34
        },
        "outputId": "2adf4537-0e48-4b5a-d0e5-cecca7a914eb"
      },
      "source": [
        "42"
      ],
      "execution_count": 1,
      "outputs": [
        {
          "output_type": "execute_result",
          "data": {
            "text/plain": [
              "42"
            ]
          },
          "metadata": {
            "tags": []
          },
          "execution_count": 1
        }
      ]
    },
    {
      "cell_type": "code",
      "metadata": {
        "id": "CD52Nhbbl6ku",
        "colab_type": "code",
        "colab": {
          "base_uri": "https://localhost:8080/",
          "height": 34
        },
        "outputId": "d4afbe94-8c8e-4c73-aa8f-31e5040ccaad"
      },
      "source": [
        "4+2"
      ],
      "execution_count": 2,
      "outputs": [
        {
          "output_type": "execute_result",
          "data": {
            "text/plain": [
              "6"
            ]
          },
          "metadata": {
            "tags": []
          },
          "execution_count": 2
        }
      ]
    },
    {
      "cell_type": "code",
      "metadata": {
        "id": "4sVZlx-CmAZi",
        "colab_type": "code",
        "colab": {
          "base_uri": "https://localhost:8080/",
          "height": 34
        },
        "outputId": "23f763d7-53c2-421d-afbe-c554abb94dd4"
      },
      "source": [
        "print(\"Hello, World!\")"
      ],
      "execution_count": 3,
      "outputs": [
        {
          "output_type": "stream",
          "text": [
            "Hello, World!\n"
          ],
          "name": "stdout"
        }
      ]
    },
    {
      "cell_type": "code",
      "metadata": {
        "id": "TQI4h2WdmFWb",
        "colab_type": "code",
        "colab": {
          "base_uri": "https://localhost:8080/",
          "height": 34
        },
        "outputId": "db49a41f-ccc4-455e-df78-7d4d7813cd1b"
      },
      "source": [
        "x=4\n",
        "x"
      ],
      "execution_count": 4,
      "outputs": [
        {
          "output_type": "execute_result",
          "data": {
            "text/plain": [
              "4"
            ]
          },
          "metadata": {
            "tags": []
          },
          "execution_count": 4
        }
      ]
    },
    {
      "cell_type": "code",
      "metadata": {
        "id": "lEC8jpTnmQKc",
        "colab_type": "code",
        "colab": {
          "base_uri": "https://localhost:8080/",
          "height": 34
        },
        "outputId": "c4fbff2e-dc7b-4163-a24f-2a4db23daa43"
      },
      "source": [
        "x*x"
      ],
      "execution_count": 5,
      "outputs": [
        {
          "output_type": "execute_result",
          "data": {
            "text/plain": [
              "16"
            ]
          },
          "metadata": {
            "tags": []
          },
          "execution_count": 5
        }
      ]
    },
    {
      "cell_type": "markdown",
      "metadata": {
        "id": "VmRFd6vimf3a",
        "colab_type": "text"
      },
      "source": [
        "If you try to use a name that is not associated with any value, python gives an error message."
      ]
    },
    {
      "cell_type": "code",
      "metadata": {
        "id": "arxn8XuOmRTZ",
        "colab_type": "code",
        "colab": {
          "base_uri": "https://localhost:8080/",
          "height": 163
        },
        "outputId": "dc4d28f3-8138-456c-a672-99e4bfedfdd4"
      },
      "source": [
        "foo"
      ],
      "execution_count": 6,
      "outputs": [
        {
          "output_type": "error",
          "ename": "NameError",
          "evalue": "ignored",
          "traceback": [
            "\u001b[0;31m---------------------------------------------------------------------------\u001b[0m",
            "\u001b[0;31mNameError\u001b[0m                                 Traceback (most recent call last)",
            "\u001b[0;32m<ipython-input-6-f1d2d2f924e9>\u001b[0m in \u001b[0;36m<module>\u001b[0;34m()\u001b[0m\n\u001b[0;32m----> 1\u001b[0;31m \u001b[0mfoo\u001b[0m\u001b[0;34m\u001b[0m\u001b[0;34m\u001b[0m\u001b[0m\n\u001b[0m",
            "\u001b[0;31mNameError\u001b[0m: name 'foo' is not defined"
          ]
        }
      ]
    },
    {
      "cell_type": "code",
      "metadata": {
        "id": "ltSFEW2EmUsj",
        "colab_type": "code",
        "colab": {
          "base_uri": "https://localhost:8080/",
          "height": 34
        },
        "outputId": "b33d2106-f66a-4910-8081-fbfbbcd1a822"
      },
      "source": [
        "foo=4\n",
        "foo"
      ],
      "execution_count": 7,
      "outputs": [
        {
          "output_type": "execute_result",
          "data": {
            "text/plain": [
              "4"
            ]
          },
          "metadata": {
            "tags": []
          },
          "execution_count": 7
        }
      ]
    },
    {
      "cell_type": "markdown",
      "metadata": {
        "id": "fgoB1UxZmjXd",
        "colab_type": "text"
      },
      "source": [
        "If you re-assign a different value to an existing variable, the new value overwrites the old value."
      ]
    },
    {
      "cell_type": "code",
      "metadata": {
        "id": "G_p0D5FDmYgy",
        "colab_type": "code",
        "colab": {
          "base_uri": "https://localhost:8080/",
          "height": 34
        },
        "outputId": "ae5aca36-8d4f-4b4a-d161-6818ecde6cff"
      },
      "source": [
        "x=4\n",
        "x"
      ],
      "execution_count": 8,
      "outputs": [
        {
          "output_type": "execute_result",
          "data": {
            "text/plain": [
              "4"
            ]
          },
          "metadata": {
            "tags": []
          },
          "execution_count": 8
        }
      ]
    },
    {
      "cell_type": "code",
      "metadata": {
        "id": "0McG-0nymn8l",
        "colab_type": "code",
        "colab": {
          "base_uri": "https://localhost:8080/",
          "height": 34
        },
        "outputId": "13f3c769-87fb-4d3b-ee4e-0445f95fbce6"
      },
      "source": [
        "x= \"hello world\"\n",
        "x"
      ],
      "execution_count": 9,
      "outputs": [
        {
          "output_type": "execute_result",
          "data": {
            "text/plain": [
              "'hello world'"
            ]
          },
          "metadata": {
            "tags": []
          },
          "execution_count": 9
        }
      ]
    },
    {
      "cell_type": "markdown",
      "metadata": {
        "id": "m98PrwyhmuJB",
        "colab_type": "text"
      },
      "source": [
        "It is possible to do multiple assignments at once."
      ]
    },
    {
      "cell_type": "code",
      "metadata": {
        "id": "dg-DNlHVmrR-",
        "colab_type": "code",
        "colab": {
          "base_uri": "https://localhost:8080/",
          "height": 34
        },
        "outputId": "5fb09923-c681-44d3-d389-e0ab6acb057b"
      },
      "source": [
        "a,b= 1,2\n",
        "a,b"
      ],
      "execution_count": 10,
      "outputs": [
        {
          "output_type": "execute_result",
          "data": {
            "text/plain": [
              "(1, 2)"
            ]
          },
          "metadata": {
            "tags": []
          },
          "execution_count": 10
        }
      ]
    },
    {
      "cell_type": "code",
      "metadata": {
        "id": "X8S__i6mm1MQ",
        "colab_type": "code",
        "colab": {
          "base_uri": "https://localhost:8080/",
          "height": 34
        },
        "outputId": "8ab3416b-d057-4020-fed9-c2747201c906"
      },
      "source": [
        "a+b"
      ],
      "execution_count": 11,
      "outputs": [
        {
          "output_type": "execute_result",
          "data": {
            "text/plain": [
              "3"
            ]
          },
          "metadata": {
            "tags": []
          },
          "execution_count": 11
        }
      ]
    },
    {
      "cell_type": "markdown",
      "metadata": {
        "id": "z-1i4kFam9jO",
        "colab_type": "text"
      },
      "source": [
        "Swapping values of 2 variables in python is very simple."
      ]
    },
    {
      "cell_type": "code",
      "metadata": {
        "id": "vf7anZmem4L4",
        "colab_type": "code",
        "colab": {
          "base_uri": "https://localhost:8080/",
          "height": 51
        },
        "outputId": "8f518e3c-b7a8-4a4a-d6fa-f1a94d461433"
      },
      "source": [
        "a,b=1,2\n",
        "print(a,b)\n",
        "a,b=b,a\n",
        "print(a,b)"
      ],
      "execution_count": 12,
      "outputs": [
        {
          "output_type": "stream",
          "text": [
            "1 2\n",
            "2 1\n"
          ],
          "name": "stdout"
        }
      ]
    },
    {
      "cell_type": "markdown",
      "metadata": {
        "id": "XbxCKQGenSsn",
        "colab_type": "text"
      },
      "source": [
        "When executing assignments, python evaluates the right hand side first and then assigns those values to the variables specified in the left hand side."
      ]
    },
    {
      "cell_type": "code",
      "metadata": {
        "id": "rAW8G9k4nFVU",
        "colab_type": "code",
        "colab": {
          "base_uri": "https://localhost:8080/",
          "height": 34
        },
        "outputId": "58894b2b-6c2f-45d6-c383-17e9dfd78713"
      },
      "source": [
        "x=4\n",
        "y= x+1\n",
        "x=2\n",
        "print(x,y)"
      ],
      "execution_count": 13,
      "outputs": [
        {
          "output_type": "stream",
          "text": [
            "2 5\n"
          ],
          "name": "stdout"
        }
      ]
    },
    {
      "cell_type": "markdown",
      "metadata": {
        "id": "ODezhL0n32BY",
        "colab_type": "text"
      },
      "source": [
        "Python also supports decimal numbers."
      ]
    },
    {
      "cell_type": "code",
      "metadata": {
        "id": "gbl8CVOgnbC_",
        "colab_type": "code",
        "colab": {
          "base_uri": "https://localhost:8080/",
          "height": 34
        },
        "outputId": "4cc639eb-3a3a-4f4c-8b10-12684688f674"
      },
      "source": [
        "4.2+6.3"
      ],
      "execution_count": 14,
      "outputs": [
        {
          "output_type": "execute_result",
          "data": {
            "text/plain": [
              "10.5"
            ]
          },
          "metadata": {
            "tags": []
          },
          "execution_count": 14
        }
      ]
    },
    {
      "cell_type": "markdown",
      "metadata": {
        "id": "0wvHSv8V3_yt",
        "colab_type": "text"
      },
      "source": [
        "Python supports the following operators on numbers.\n",
        "• + addition\n",
        "• - subtraction\n",
        "• * multiplication\n",
        "• / division\n",
        "• ** exponent\n",
        "• % remainder"
      ]
    },
    {
      "cell_type": "code",
      "metadata": {
        "id": "ZfRVjirb34TD",
        "colab_type": "code",
        "colab": {
          "base_uri": "https://localhost:8080/",
          "height": 119
        },
        "outputId": "5e77073e-85b5-467d-a608-e4eeaed03c53"
      },
      "source": [
        "print(\"Addition 7 + 2\",7+2)\n",
        "print(\"subtraction 7 - 2\",7-2)\n",
        "print(\"Multiplication 7 * 2\",7*2)\n",
        "print(\"division 7 / 2\",7/2)\n",
        "print(\"exponent 7 ** 2\",7**2)\n",
        "print(\"remainder 7 % 2\",7%2)"
      ],
      "execution_count": 15,
      "outputs": [
        {
          "output_type": "stream",
          "text": [
            "Addition 7 + 2 9\n",
            "subtraction 7 - 2 5\n",
            "Multiplication 7 * 2 14\n",
            "division 7 / 2 3.5\n",
            "exponent 7 ** 2 49\n",
            "remainder 7 % 2 1\n"
          ],
          "name": "stdout"
        }
      ]
    },
    {
      "cell_type": "markdown",
      "metadata": {
        "id": "QStOiRsU5-tj",
        "colab_type": "text"
      },
      "source": [
        "The operators can be combined."
      ]
    },
    {
      "cell_type": "code",
      "metadata": {
        "id": "tixo9a9CmyZX",
        "colab_type": "code",
        "colab": {
          "base_uri": "https://localhost:8080/",
          "height": 34
        },
        "outputId": "a10cded1-6b65-4005-c77c-e9ca91f6ba73"
      },
      "source": [
        "7 + 2 + 3 -5"
      ],
      "execution_count": 16,
      "outputs": [
        {
          "output_type": "execute_result",
          "data": {
            "text/plain": [
              "7"
            ]
          },
          "metadata": {
            "tags": []
          },
          "execution_count": 16
        }
      ]
    },
    {
      "cell_type": "markdown",
      "metadata": {
        "id": "3jCPr00oI8Mn",
        "colab_type": "text"
      },
      "source": [
        "When we compute 2 + 3 * 4, 3 * 4 is computed first as the precedence of * is higher than + and then the\n",
        "result is added to 2."
      ]
    },
    {
      "cell_type": "code",
      "metadata": {
        "id": "BC-APjTBIzWa",
        "colab_type": "code",
        "colab": {
          "base_uri": "https://localhost:8080/",
          "height": 34
        },
        "outputId": "10e067ac-18e0-4db2-ffea-48bd8871200d"
      },
      "source": [
        "2 + 3 * 4"
      ],
      "execution_count": 17,
      "outputs": [
        {
          "output_type": "execute_result",
          "data": {
            "text/plain": [
              "14"
            ]
          },
          "metadata": {
            "tags": []
          },
          "execution_count": 17
        }
      ]
    },
    {
      "cell_type": "code",
      "metadata": {
        "id": "ANtrLMNCJJUc",
        "colab_type": "code",
        "colab": {
          "base_uri": "https://localhost:8080/",
          "height": 34
        },
        "outputId": "6fed95ed-a3ec-4956-ff9b-72e02a0f6b90"
      },
      "source": [
        "#We can use parenthesis to specify the explicit groups.\n",
        "(2+3)*4"
      ],
      "execution_count": 18,
      "outputs": [
        {
          "output_type": "execute_result",
          "data": {
            "text/plain": [
              "20"
            ]
          },
          "metadata": {
            "tags": []
          },
          "execution_count": 18
        }
      ]
    },
    {
      "cell_type": "code",
      "metadata": {
        "id": "GcpbDMhGJQ8R",
        "colab_type": "code",
        "colab": {
          "base_uri": "https://localhost:8080/",
          "height": 34
        },
        "outputId": "2feb6b09-4c79-43f3-adfa-9a8e58171f20"
      },
      "source": [
        "1 + 2 + 3 * 4 + 5"
      ],
      "execution_count": 19,
      "outputs": [
        {
          "output_type": "execute_result",
          "data": {
            "text/plain": [
              "20"
            ]
          },
          "metadata": {
            "tags": []
          },
          "execution_count": 19
        }
      ]
    },
    {
      "cell_type": "markdown",
      "metadata": {
        "id": "AX6cc2_oKd3H",
        "colab_type": "text"
      },
      "source": [
        "There is difference between single quotes and double quotes, they can used interchangebly.\n",
        "Multi-line strings can be written using three single quotes or three double quotes."
      ]
    },
    {
      "cell_type": "code",
      "metadata": {
        "id": "ghv5M3BFKRuA",
        "colab_type": "code",
        "colab": {
          "base_uri": "https://localhost:8080/",
          "height": 34
        },
        "outputId": "253087da-8c4b-487f-f4cf-8648766153af"
      },
      "source": [
        "\n",
        "x = \"\"\"This is a multi-line string\n",
        "written in\n",
        "three lines.\"\"\"\n",
        "x"
      ],
      "execution_count": 20,
      "outputs": [
        {
          "output_type": "execute_result",
          "data": {
            "text/plain": [
              "'This is a multi-line string\\nwritten in\\nthree lines.'"
            ]
          },
          "metadata": {
            "tags": []
          },
          "execution_count": 20
        }
      ]
    },
    {
      "cell_type": "code",
      "metadata": {
        "id": "ZIB7TAodmOFr",
        "colab_type": "code",
        "colab": {
          "base_uri": "https://localhost:8080/",
          "height": 34
        },
        "outputId": "2e126bc8-7e27-4ebd-dda3-fd50e8ef9810"
      },
      "source": [
        "y = '''multi-line strings can be written\n",
        "using three single quote characters as well.\n",
        "The string can contain 'single quotes' or \"double quotes\"\n",
        "in side it.'''\n",
        "y"
      ],
      "execution_count": 21,
      "outputs": [
        {
          "output_type": "execute_result",
          "data": {
            "text/plain": [
              "'multi-line strings can be written\\nusing three single quote characters as well.\\nThe string can contain \\'single quotes\\' or \"double quotes\"\\nin side it.'"
            ]
          },
          "metadata": {
            "tags": []
          },
          "execution_count": 21
        }
      ]
    },
    {
      "cell_type": "code",
      "metadata": {
        "id": "pSnfs2iaK9cT",
        "colab_type": "code",
        "colab": {
          "base_uri": "https://localhost:8080/",
          "height": 34
        },
        "outputId": "dd593a8d-5793-41de-ed96-cf86f008359c"
      },
      "source": [
        "def square(x):\n",
        "  return x* x\n",
        "\n",
        "square(5)"
      ],
      "execution_count": 22,
      "outputs": [
        {
          "output_type": "execute_result",
          "data": {
            "text/plain": [
              "25"
            ]
          },
          "metadata": {
            "tags": []
          },
          "execution_count": 22
        }
      ]
    },
    {
      "cell_type": "markdown",
      "metadata": {
        "id": "i76QdranLP1m",
        "colab_type": "text"
      },
      "source": [
        "The functions can be used in any expressions."
      ]
    },
    {
      "cell_type": "code",
      "metadata": {
        "id": "2vGgG6lYLJlI",
        "colab_type": "code",
        "colab": {
          "base_uri": "https://localhost:8080/",
          "height": 34
        },
        "outputId": "61906ed2-0936-4d16-e874-fd51d2bd471b"
      },
      "source": [
        "square(3) + square(2)"
      ],
      "execution_count": 23,
      "outputs": [
        {
          "output_type": "execute_result",
          "data": {
            "text/plain": [
              "13"
            ]
          },
          "metadata": {
            "tags": []
          },
          "execution_count": 23
        }
      ]
    },
    {
      "cell_type": "markdown",
      "metadata": {
        "id": "5hzLbVhmLaXg",
        "colab_type": "text"
      },
      "source": [
        "Existing functions can be used in creating new functions."
      ]
    },
    {
      "cell_type": "code",
      "metadata": {
        "id": "Nq96xJlAXQKP",
        "colab_type": "code",
        "outputId": "44544cd3-34de-46c1-8e5a-779b5e316586",
        "colab": {
          "base_uri": "https://localhost:8080/",
          "height": 34
        }
      },
      "source": [
        " def sum_of_squares(x,y):\n",
        "   return square(x) + square(y)\n",
        "\n",
        "sum_of_squares(3,5)"
      ],
      "execution_count": 24,
      "outputs": [
        {
          "output_type": "execute_result",
          "data": {
            "text/plain": [
              "34"
            ]
          },
          "metadata": {
            "tags": []
          },
          "execution_count": 24
        }
      ]
    },
    {
      "cell_type": "markdown",
      "metadata": {
        "id": "_AiccFopRGau",
        "colab_type": "text"
      },
      "source": [
        "Functions are just like other values, they can assigned, passed as arguments to other functions etc."
      ]
    },
    {
      "cell_type": "code",
      "metadata": {
        "id": "jAV7cr6zLu_J",
        "colab_type": "code",
        "colab": {
          "base_uri": "https://localhost:8080/",
          "height": 34
        },
        "outputId": "8054aa69-152f-4b9b-ff24-ab9a10a6a339"
      },
      "source": [
        "f=square\n",
        "f(4)"
      ],
      "execution_count": 25,
      "outputs": [
        {
          "output_type": "execute_result",
          "data": {
            "text/plain": [
              "16"
            ]
          },
          "metadata": {
            "tags": []
          },
          "execution_count": 25
        }
      ]
    },
    {
      "cell_type": "code",
      "metadata": {
        "id": "6tUu3I7wRNfC",
        "colab_type": "code",
        "colab": {
          "base_uri": "https://localhost:8080/",
          "height": 34
        },
        "outputId": "c6d8b725-f216-4f79-e3ad-d4eafdf7705e"
      },
      "source": [
        "def fxy(f,x,y):\n",
        "  return f(x) + f(y)\n",
        "fxy(square, 2, 3)"
      ],
      "execution_count": 26,
      "outputs": [
        {
          "output_type": "execute_result",
          "data": {
            "text/plain": [
              "13"
            ]
          },
          "metadata": {
            "tags": []
          },
          "execution_count": 26
        }
      ]
    },
    {
      "cell_type": "code",
      "metadata": {
        "id": "is-mI0dARMFr",
        "colab_type": "code",
        "colab": {
          "base_uri": "https://localhost:8080/",
          "height": 170
        },
        "outputId": "d7dc0fe7-73a3-493b-cdf6-563d0df96e1e"
      },
      "source": [
        "help(round)"
      ],
      "execution_count": 27,
      "outputs": [
        {
          "output_type": "stream",
          "text": [
            "Help on built-in function round in module builtins:\n",
            "\n",
            "round(...)\n",
            "    round(number[, ndigits]) -> number\n",
            "    \n",
            "    Round a number to a given precision in decimal digits (default 0 digits).\n",
            "    This returns an int when called with one argument, otherwise the\n",
            "    same type as the number. ndigits may be negative.\n",
            "\n"
          ],
          "name": "stdout"
        }
      ]
    },
    {
      "cell_type": "code",
      "metadata": {
        "id": "KkKTKg37tHsG",
        "colab_type": "code",
        "colab": {}
      },
      "source": [
        "def least_difference(a, b, c):\n",
        "  diff1 = abs(a - b)\n",
        "  diff2 = abs(b - c)\n",
        "  diff3 = abs(a - c)\n",
        "  return min(diff1, diff2, diff3)"
      ],
      "execution_count": 0,
      "outputs": []
    },
    {
      "cell_type": "code",
      "metadata": {
        "id": "3RjUEOM1t8TO",
        "colab_type": "code",
        "colab": {
          "base_uri": "https://localhost:8080/",
          "height": 85
        },
        "outputId": "5a594bb3-2b56-498a-bbba-0c9e4c50f4ae"
      },
      "source": [
        "help(least_difference)"
      ],
      "execution_count": 29,
      "outputs": [
        {
          "output_type": "stream",
          "text": [
            "Help on function least_difference in module __main__:\n",
            "\n",
            "least_difference(a, b, c)\n",
            "\n"
          ],
          "name": "stdout"
        }
      ]
    },
    {
      "cell_type": "code",
      "metadata": {
        "id": "fOyRSh6huBfF",
        "colab_type": "code",
        "colab": {
          "base_uri": "https://localhost:8080/",
          "height": 34
        },
        "outputId": "4c2c04e0-a791-40ae-e4f0-5c3b266de360"
      },
      "source": [
        "print(\n",
        "    least_difference(1, 10, 100),\n",
        "    least_difference(1, 10, 10),\n",
        "    least_difference(5, 6, 7), # Python allows trailing commas in argument lists. How nice is that?\n",
        ")\n"
      ],
      "execution_count": 30,
      "outputs": [
        {
          "output_type": "stream",
          "text": [
            "9 0 1\n"
          ],
          "name": "stdout"
        }
      ]
    },
    {
      "cell_type": "markdown",
      "metadata": {
        "id": "m_k-yHa7uam2",
        "colab_type": "text"
      },
      "source": [
        "But if we don't specify a value, sep is treated as having a default value of ' ' (a single space)."
      ]
    },
    {
      "cell_type": "code",
      "metadata": {
        "id": "CMfLnTBAuK80",
        "colab_type": "code",
        "colab": {
          "base_uri": "https://localhost:8080/",
          "height": 34
        },
        "outputId": "07029f20-9762-4cbd-f41e-5f5d13efe7f8"
      },
      "source": [
        "print(1, 2, 3, sep=' < ')"
      ],
      "execution_count": 31,
      "outputs": [
        {
          "output_type": "stream",
          "text": [
            "1 < 2 < 3\n"
          ],
          "name": "stdout"
        }
      ]
    },
    {
      "cell_type": "markdown",
      "metadata": {
        "id": "M6BFRnIp3MHC",
        "colab_type": "text"
      },
      "source": [
        "It is important to understand, the scope of the variables used in functions."
      ]
    },
    {
      "cell_type": "code",
      "metadata": {
        "id": "NkENoNL4uVaA",
        "colab_type": "code",
        "colab": {
          "base_uri": "https://localhost:8080/",
          "height": 34
        },
        "outputId": "b26e5786-9442-4dd6-83b6-68c1532d9961"
      },
      "source": [
        "x=0\n",
        "y=0\n",
        "def incr(x):\n",
        "  y= x+1\n",
        "  return y\n",
        "\n",
        "incr(5)\n",
        "print(x,y)"
      ],
      "execution_count": 32,
      "outputs": [
        {
          "output_type": "stream",
          "text": [
            "0 0\n"
          ],
          "name": "stdout"
        }
      ]
    },
    {
      "cell_type": "markdown",
      "metadata": {
        "id": "Bil6IJFxAMYF",
        "colab_type": "text"
      },
      "source": [
        "There is another way of creating functions, using the lambda operator."
      ]
    },
    {
      "cell_type": "markdown",
      "metadata": {
        "id": "NBj6wNxBAnsA",
        "colab_type": "text"
      },
      "source": [
        "Notice that unlike function defination, lambda doesn’t need a return. The body of the lambda is a single expression"
      ]
    },
    {
      "cell_type": "code",
      "metadata": {
        "id": "LkGEQ9Xk3dqX",
        "colab_type": "code",
        "colab": {
          "base_uri": "https://localhost:8080/",
          "height": 34
        },
        "outputId": "f3f31e01-a219-4b06-9be9-4b38a1ab42d3"
      },
      "source": [
        "cube = lambda x: x ** 3\n",
        "\n",
        "fxy(cube, 2,3)"
      ],
      "execution_count": 33,
      "outputs": [
        {
          "output_type": "execute_result",
          "data": {
            "text/plain": [
              "35"
            ]
          },
          "metadata": {
            "tags": []
          },
          "execution_count": 33
        }
      ]
    },
    {
      "cell_type": "code",
      "metadata": {
        "id": "PIvy6FfMB0ps",
        "colab_type": "code",
        "colab": {
          "base_uri": "https://localhost:8080/",
          "height": 34
        },
        "outputId": "274ce703-db90-45a6-e9dc-b2533709b628"
      },
      "source": [
        "fxy(lambda x: x ** 3, 2, 3)"
      ],
      "execution_count": 34,
      "outputs": [
        {
          "output_type": "execute_result",
          "data": {
            "text/plain": [
              "35"
            ]
          },
          "metadata": {
            "tags": []
          },
          "execution_count": 34
        }
      ]
    },
    {
      "cell_type": "code",
      "metadata": {
        "id": "mHcNMg3MB2gD",
        "colab_type": "code",
        "colab": {
          "base_uri": "https://localhost:8080/",
          "height": 34
        },
        "outputId": "e46cd5b7-8405-4842-bd4b-c7357906f915"
      },
      "source": [
        "min(2,3)"
      ],
      "execution_count": 35,
      "outputs": [
        {
          "output_type": "execute_result",
          "data": {
            "text/plain": [
              "2"
            ]
          },
          "metadata": {
            "tags": []
          },
          "execution_count": 35
        }
      ]
    },
    {
      "cell_type": "code",
      "metadata": {
        "id": "dmLYPMKSB7jI",
        "colab_type": "code",
        "colab": {
          "base_uri": "https://localhost:8080/",
          "height": 34
        },
        "outputId": "acc75ea8-fa40-429a-f67f-5ae11eb39340"
      },
      "source": [
        "max(10,25)"
      ],
      "execution_count": 36,
      "outputs": [
        {
          "output_type": "execute_result",
          "data": {
            "text/plain": [
              "25"
            ]
          },
          "metadata": {
            "tags": []
          },
          "execution_count": 36
        }
      ]
    },
    {
      "cell_type": "code",
      "metadata": {
        "id": "IRUhgc-lB-Ts",
        "colab_type": "code",
        "colab": {
          "base_uri": "https://localhost:8080/",
          "height": 34
        },
        "outputId": "a5045575-3a9b-42da-98e9-c51584e19fa1"
      },
      "source": [
        "len(\"Hello World\")"
      ],
      "execution_count": 37,
      "outputs": [
        {
          "output_type": "execute_result",
          "data": {
            "text/plain": [
              "11"
            ]
          },
          "metadata": {
            "tags": []
          },
          "execution_count": 37
        }
      ]
    },
    {
      "cell_type": "markdown",
      "metadata": {
        "id": "e-EuCMlXCMts",
        "colab_type": "text"
      },
      "source": [
        "The built-in function int converts string to ingeter and built-in function str converts integers and other type of\n",
        "objects to strings"
      ]
    },
    {
      "cell_type": "code",
      "metadata": {
        "id": "pATfyBp1CMDh",
        "colab_type": "code",
        "colab": {
          "base_uri": "https://localhost:8080/",
          "height": 34
        },
        "outputId": "0a8a5522-972e-42a4-abf7-f1a63fad59e0"
      },
      "source": [
        "int(\"50\")"
      ],
      "execution_count": 38,
      "outputs": [
        {
          "output_type": "execute_result",
          "data": {
            "text/plain": [
              "50"
            ]
          },
          "metadata": {
            "tags": []
          },
          "execution_count": 38
        }
      ]
    },
    {
      "cell_type": "code",
      "metadata": {
        "id": "AfFIyIDPCR13",
        "colab_type": "code",
        "colab": {
          "base_uri": "https://localhost:8080/",
          "height": 34
        },
        "outputId": "79171a31-5fcb-41dd-8654-c6eacd771b44"
      },
      "source": [
        "str(123)"
      ],
      "execution_count": 39,
      "outputs": [
        {
          "output_type": "execute_result",
          "data": {
            "text/plain": [
              "'123'"
            ]
          },
          "metadata": {
            "tags": []
          },
          "execution_count": 39
        }
      ]
    },
    {
      "cell_type": "code",
      "metadata": {
        "id": "dg67EnuVCZn0",
        "colab_type": "code",
        "colab": {
          "base_uri": "https://localhost:8080/",
          "height": 34
        },
        "outputId": "f2807687-713e-4667-86bc-efc7c5e7ed70"
      },
      "source": [
        "x=\"hello\"\n",
        "x.upper()"
      ],
      "execution_count": 40,
      "outputs": [
        {
          "output_type": "execute_result",
          "data": {
            "text/plain": [
              "'HELLO'"
            ]
          },
          "metadata": {
            "tags": []
          },
          "execution_count": 40
        }
      ]
    },
    {
      "cell_type": "code",
      "metadata": {
        "id": "SpUKw3W9ClKe",
        "colab_type": "code",
        "colab": {
          "base_uri": "https://localhost:8080/",
          "height": 34
        },
        "outputId": "b9d4a2a6-9238-4b57-be7f-75365c4f819f"
      },
      "source": [
        "x= [1,2,3]\n",
        "x"
      ],
      "execution_count": 41,
      "outputs": [
        {
          "output_type": "execute_result",
          "data": {
            "text/plain": [
              "[1, 2, 3]"
            ]
          },
          "metadata": {
            "tags": []
          },
          "execution_count": 41
        }
      ]
    },
    {
      "cell_type": "code",
      "metadata": {
        "id": "DSVeE88OHzUt",
        "colab_type": "code",
        "colab": {
          "base_uri": "https://localhost:8080/",
          "height": 34
        },
        "outputId": "8b4d576c-b5c5-4082-e14f-90d9ca71534e"
      },
      "source": [
        "len(x)"
      ],
      "execution_count": 42,
      "outputs": [
        {
          "output_type": "execute_result",
          "data": {
            "text/plain": [
              "3"
            ]
          },
          "metadata": {
            "tags": []
          },
          "execution_count": 42
        }
      ]
    },
    {
      "cell_type": "code",
      "metadata": {
        "id": "FupRI0V4H1cW",
        "colab_type": "code",
        "colab": {
          "base_uri": "https://localhost:8080/",
          "height": 34
        },
        "outputId": "6eb4e032-ca0c-49ab-8d75-4f287a6c8524"
      },
      "source": [
        "x[1]"
      ],
      "execution_count": 43,
      "outputs": [
        {
          "output_type": "execute_result",
          "data": {
            "text/plain": [
              "2"
            ]
          },
          "metadata": {
            "tags": []
          },
          "execution_count": 43
        }
      ]
    },
    {
      "cell_type": "markdown",
      "metadata": {
        "id": "HqSuKpxaICFE",
        "colab_type": "text"
      },
      "source": [
        "The sys module provides access to the list of arguments passed to the program, among the other things.\n",
        "The sys.argv variable contains the list of arguments passed to the program. As a convention, the first element of that list is the name of the program"
      ]
    },
    {
      "cell_type": "code",
      "metadata": {
        "id": "uqCtldxOH5JV",
        "colab_type": "code",
        "colab": {
          "base_uri": "https://localhost:8080/",
          "height": 34
        },
        "outputId": "276ab5fc-3939-46c2-88bd-49e3b4bf8a27"
      },
      "source": [
        "import sys\n",
        "print(sys.argv[1])"
      ],
      "execution_count": 44,
      "outputs": [
        {
          "output_type": "stream",
          "text": [
            "-f\n"
          ],
          "name": "stdout"
        }
      ]
    },
    {
      "cell_type": "markdown",
      "metadata": {
        "id": "I6aYxe5kInIg",
        "colab_type": "text"
      },
      "source": [
        "Presence of a key in a list can be tested using in operator."
      ]
    },
    {
      "cell_type": "code",
      "metadata": {
        "id": "3nYrGxh-IPwZ",
        "colab_type": "code",
        "colab": {
          "base_uri": "https://localhost:8080/",
          "height": 34
        },
        "outputId": "3c6629f8-b1a2-4e6f-d7ad-aca7d85e6ef1"
      },
      "source": [
        "x=[1,2,3,4]\n",
        "2 in x"
      ],
      "execution_count": 45,
      "outputs": [
        {
          "output_type": "execute_result",
          "data": {
            "text/plain": [
              "True"
            ]
          },
          "metadata": {
            "tags": []
          },
          "execution_count": 45
        }
      ]
    },
    {
      "cell_type": "code",
      "metadata": {
        "id": "6ZT4whtOIvJc",
        "colab_type": "code",
        "colab": {
          "base_uri": "https://localhost:8080/",
          "height": 34
        },
        "outputId": "ea149c4b-9acc-44f6-8c8e-58ce9f94f0c3"
      },
      "source": [
        "10 in x"
      ],
      "execution_count": 46,
      "outputs": [
        {
          "output_type": "execute_result",
          "data": {
            "text/plain": [
              "False"
            ]
          },
          "metadata": {
            "tags": []
          },
          "execution_count": 46
        }
      ]
    },
    {
      "cell_type": "markdown",
      "metadata": {
        "id": "TfSqdDU0I-si",
        "colab_type": "text"
      },
      "source": [
        "The built-in function zip takes two lists and returns list of pairs."
      ]
    },
    {
      "cell_type": "code",
      "metadata": {
        "id": "tDj2fabiIx8V",
        "colab_type": "code",
        "colab": {
          "base_uri": "https://localhost:8080/",
          "height": 34
        },
        "outputId": "aed419f4-8a7a-4c52-f008-aa68402e90cb"
      },
      "source": [
        "list(zip([\"a\", \"b\", \"c\"], [1, 2, 3]))"
      ],
      "execution_count": 47,
      "outputs": [
        {
          "output_type": "execute_result",
          "data": {
            "text/plain": [
              "[('a', 1), ('b', 2), ('c', 3)]"
            ]
          },
          "metadata": {
            "tags": []
          },
          "execution_count": 47
        }
      ]
    },
    {
      "cell_type": "markdown",
      "metadata": {
        "id": "Gt9DsabAKSgJ",
        "colab_type": "text"
      },
      "source": [
        "The sort method sorts a list in place."
      ]
    },
    {
      "cell_type": "code",
      "metadata": {
        "id": "pd6sUDzaJBRq",
        "colab_type": "code",
        "colab": {
          "base_uri": "https://localhost:8080/",
          "height": 34
        },
        "outputId": "350cb352-0c77-47f2-9f6d-79fb9bb80946"
      },
      "source": [
        "a = [2, 10, 4, 3, 7]\n",
        "a.sort()\n",
        "a"
      ],
      "execution_count": 48,
      "outputs": [
        {
          "output_type": "execute_result",
          "data": {
            "text/plain": [
              "[2, 3, 4, 7, 10]"
            ]
          },
          "metadata": {
            "tags": []
          },
          "execution_count": 48
        }
      ]
    },
    {
      "cell_type": "markdown",
      "metadata": {
        "id": "hgmOoQbnKhST",
        "colab_type": "text"
      },
      "source": [
        "The built-in function sorted returns a new sorted list without modifying the source list."
      ]
    },
    {
      "cell_type": "code",
      "metadata": {
        "id": "nFXkrcYOKchP",
        "colab_type": "code",
        "colab": {
          "base_uri": "https://localhost:8080/",
          "height": 51
        },
        "outputId": "86844c37-2d71-4b04-acba-a704e37d4af3"
      },
      "source": [
        "a = [2, 10, 4, 3, 7]\n",
        "print(sorted(a))\n",
        "print(a)"
      ],
      "execution_count": 49,
      "outputs": [
        {
          "output_type": "stream",
          "text": [
            "[2, 3, 4, 7, 10]\n",
            "[2, 10, 4, 3, 7]\n"
          ],
          "name": "stdout"
        }
      ]
    },
    {
      "cell_type": "markdown",
      "metadata": {
        "id": "mfDJG4CiK-_0",
        "colab_type": "text"
      },
      "source": [
        "We can optionally specify a function as sort key."
      ]
    },
    {
      "cell_type": "code",
      "metadata": {
        "id": "BQeeMKKnKcx0",
        "colab_type": "code",
        "colab": {
          "base_uri": "https://localhost:8080/",
          "height": 34
        },
        "outputId": "ae97f49b-be2c-4a19-fa6b-51659879824d"
      },
      "source": [
        "a = [[2, 3], [4, 6], [6, 1]]\n",
        "a.sort(key=lambda x: x[1])\n",
        "a"
      ],
      "execution_count": 50,
      "outputs": [
        {
          "output_type": "execute_result",
          "data": {
            "text/plain": [
              "[[6, 1], [2, 3], [4, 6]]"
            ]
          },
          "metadata": {
            "tags": []
          },
          "execution_count": 50
        }
      ]
    },
    {
      "cell_type": "markdown",
      "metadata": {
        "id": "miRNUuExLVL7",
        "colab_type": "text"
      },
      "source": [
        "Tuple is a sequence type just like list, but it is immutable. A tuple consists of a number of values separated by\n",
        "commas"
      ]
    },
    {
      "cell_type": "code",
      "metadata": {
        "id": "MpgxXz7CLIHQ",
        "colab_type": "code",
        "colab": {
          "base_uri": "https://localhost:8080/",
          "height": 34
        },
        "outputId": "c947ece0-a641-431e-fdc8-de46f0fe9363"
      },
      "source": [
        "a=(1,2,3)\n",
        "a"
      ],
      "execution_count": 51,
      "outputs": [
        {
          "output_type": "execute_result",
          "data": {
            "text/plain": [
              "(1, 2, 3)"
            ]
          },
          "metadata": {
            "tags": []
          },
          "execution_count": 51
        }
      ]
    },
    {
      "cell_type": "markdown",
      "metadata": {
        "id": "LtZnqZ5jLhuh",
        "colab_type": "text"
      },
      "source": [
        "Sets are unordered collection of unique elements."
      ]
    },
    {
      "cell_type": "code",
      "metadata": {
        "id": "7iiRwzFFLaQD",
        "colab_type": "code",
        "colab": {
          "base_uri": "https://localhost:8080/",
          "height": 34
        },
        "outputId": "cda6ab80-ab0f-431f-a81a-a3c426943deb"
      },
      "source": [
        "x=set([1,2,4,1])\n",
        "x"
      ],
      "execution_count": 52,
      "outputs": [
        {
          "output_type": "execute_result",
          "data": {
            "text/plain": [
              "{1, 2, 4}"
            ]
          },
          "metadata": {
            "tags": []
          },
          "execution_count": 52
        }
      ]
    },
    {
      "cell_type": "code",
      "metadata": {
        "id": "YiYf2Oy6Lv4T",
        "colab_type": "code",
        "colab": {
          "base_uri": "https://localhost:8080/",
          "height": 34
        },
        "outputId": "292127bc-e2de-4b59-9ba5-927b59135ff0"
      },
      "source": [
        "x={1,2,3,4,1,2}\n",
        "x"
      ],
      "execution_count": 53,
      "outputs": [
        {
          "output_type": "execute_result",
          "data": {
            "text/plain": [
              "{1, 2, 3, 4}"
            ]
          },
          "metadata": {
            "tags": []
          },
          "execution_count": 53
        }
      ]
    },
    {
      "cell_type": "code",
      "metadata": {
        "id": "FCoexzFiL1vh",
        "colab_type": "code",
        "colab": {
          "base_uri": "https://localhost:8080/",
          "height": 34
        },
        "outputId": "8bcd5caa-4ca2-4040-8265-ae5a7e276a26"
      },
      "source": [
        "#New elements can be added to a set using the add method.\n",
        "x.add(5)\n",
        "x"
      ],
      "execution_count": 54,
      "outputs": [
        {
          "output_type": "execute_result",
          "data": {
            "text/plain": [
              "{1, 2, 3, 4, 5}"
            ]
          },
          "metadata": {
            "tags": []
          },
          "execution_count": 54
        }
      ]
    },
    {
      "cell_type": "code",
      "metadata": {
        "id": "IX0il9hfL0wi",
        "colab_type": "code",
        "colab": {}
      },
      "source": [
        "a= range(10)\n",
        "#list(a)\n"
      ],
      "execution_count": 0,
      "outputs": []
    },
    {
      "cell_type": "code",
      "metadata": {
        "id": "6yA9WAgrC-tL",
        "colab_type": "code",
        "colab": {
          "base_uri": "https://localhost:8080/",
          "height": 34
        },
        "outputId": "33b18e08-4e5c-4a62-df2e-2618feafe17d"
      },
      "source": [
        "[x for x in a]"
      ],
      "execution_count": 65,
      "outputs": [
        {
          "output_type": "execute_result",
          "data": {
            "text/plain": [
              "[0, 1, 2, 3, 4, 5, 6, 7, 8, 9]"
            ]
          },
          "metadata": {
            "tags": []
          },
          "execution_count": 65
        }
      ]
    },
    {
      "cell_type": "code",
      "metadata": {
        "id": "bIS0qcLVC9Zs",
        "colab_type": "code",
        "colab": {
          "base_uri": "https://localhost:8080/",
          "height": 34
        },
        "outputId": "6c31c156-9e63-4c7e-991c-047067488acf"
      },
      "source": [
        "[x * x for x in a]"
      ],
      "execution_count": 66,
      "outputs": [
        {
          "output_type": "execute_result",
          "data": {
            "text/plain": [
              "[0, 1, 4, 9, 16, 25, 36, 49, 64, 81]"
            ]
          },
          "metadata": {
            "tags": []
          },
          "execution_count": 66
        }
      ]
    },
    {
      "cell_type": "code",
      "metadata": {
        "id": "qNOpqzp7Dk8L",
        "colab_type": "code",
        "colab": {
          "base_uri": "https://localhost:8080/",
          "height": 34
        },
        "outputId": "c74f17e3-d1ed-41de-a4f2-fb4315938cdf"
      },
      "source": [
        "[x+1 for x in a]"
      ],
      "execution_count": 69,
      "outputs": [
        {
          "output_type": "execute_result",
          "data": {
            "text/plain": [
              "[1, 2, 3, 4, 5, 6, 7, 8, 9, 10]"
            ]
          },
          "metadata": {
            "tags": []
          },
          "execution_count": 69
        }
      ]
    },
    {
      "cell_type": "code",
      "metadata": {
        "id": "vLrfuM7kGofr",
        "colab_type": "code",
        "colab": {
          "base_uri": "https://localhost:8080/",
          "height": 34
        },
        "outputId": "8b61cbac-e36b-4cbe-d900-3f06c0579521"
      },
      "source": [
        "a= range(10)\n",
        "[x for x in a if x % 2 ==0 ]"
      ],
      "execution_count": 80,
      "outputs": [
        {
          "output_type": "execute_result",
          "data": {
            "text/plain": [
              "[0, 2, 4, 6, 8]"
            ]
          },
          "metadata": {
            "tags": []
          },
          "execution_count": 80
        }
      ]
    },
    {
      "cell_type": "code",
      "metadata": {
        "id": "ZDdpU3x9H0qG",
        "colab_type": "code",
        "colab": {}
      },
      "source": [
        "x = range(2000, 3201)\n",
        "num = [n for n in x if n % 7 == 0 and n % 5 != 0]"
      ],
      "execution_count": 0,
      "outputs": []
    },
    {
      "cell_type": "code",
      "metadata": {
        "id": "bI9T8vi1HWZw",
        "colab_type": "code",
        "colab": {
          "base_uri": "https://localhost:8080/",
          "height": 34
        },
        "outputId": "8272f6e2-d0e7-42df-ef78-e255441c11ec"
      },
      "source": [
        "n=25\n",
        "[(x, y, z) for x in range(1, n) for y in range(x, n) for z in range(y, n) if x*x + y*y == z*z]"
      ],
      "execution_count": 76,
      "outputs": [
        {
          "output_type": "execute_result",
          "data": {
            "text/plain": [
              "[(3, 4, 5), (5, 12, 13), (6, 8, 10), (8, 15, 17), (9, 12, 15), (12, 16, 20)]"
            ]
          },
          "metadata": {
            "tags": []
          },
          "execution_count": 76
        }
      ]
    },
    {
      "cell_type": "code",
      "metadata": {
        "id": "vqpvkYWuHZmi",
        "colab_type": "code",
        "colab": {
          "base_uri": "https://localhost:8080/",
          "height": 34
        },
        "outputId": "6f97a3dd-baeb-47f7-bb33-265b9404104b"
      },
      "source": [
        "def square(x):\n",
        "  return x * x\n",
        "\n",
        "list(map(square,range(5)))"
      ],
      "execution_count": 83,
      "outputs": [
        {
          "output_type": "execute_result",
          "data": {
            "text/plain": [
              "[0, 1, 4, 9, 16]"
            ]
          },
          "metadata": {
            "tags": []
          },
          "execution_count": 83
        }
      ]
    },
    {
      "cell_type": "code",
      "metadata": {
        "id": "6ey4VIOgJ-8w",
        "colab_type": "code",
        "colab": {
          "base_uri": "https://localhost:8080/",
          "height": 34
        },
        "outputId": "54a4feb0-4b3a-49df-a51e-27fbf1d263b9"
      },
      "source": [
        "def even(x):\n",
        "  return x % 2 == 0\n",
        "\n",
        "list(filter(even, range(10)))"
      ],
      "execution_count": 87,
      "outputs": [
        {
          "output_type": "execute_result",
          "data": {
            "text/plain": [
              "[0, 2, 4, 6, 8]"
            ]
          },
          "metadata": {
            "tags": []
          },
          "execution_count": 87
        }
      ]
    },
    {
      "cell_type": "code",
      "metadata": {
        "id": "gbo5vXklKVsT",
        "colab_type": "code",
        "colab": {
          "base_uri": "https://localhost:8080/",
          "height": 85
        },
        "outputId": "34d1411a-e3db-4f41-f640-22c4ffadc94d"
      },
      "source": [
        "print(list(enumerate([\"a\",\"b\",\"c\"])))\n",
        "\n",
        "for index, value in enumerate([\"a\",\"b\",\"c\"]):\n",
        "  print(index,value)"
      ],
      "execution_count": 94,
      "outputs": [
        {
          "output_type": "stream",
          "text": [
            "[(0, 'a'), (1, 'b'), (2, 'c')]\n",
            "0 a\n",
            "1 b\n",
            "2 c\n"
          ],
          "name": "stdout"
        }
      ]
    },
    {
      "cell_type": "code",
      "metadata": {
        "id": "liNNVPb0Unqy",
        "colab_type": "code",
        "colab": {
          "base_uri": "https://localhost:8080/",
          "height": 34
        },
        "outputId": "5163fe20-8c8b-421b-dd31-65022853ec41"
      },
      "source": [
        "d = {'x': 1, 'y': 2, 'z': 3}\n",
        "d.get('x',5)"
      ],
      "execution_count": 97,
      "outputs": [
        {
          "output_type": "execute_result",
          "data": {
            "text/plain": [
              "1"
            ]
          },
          "metadata": {
            "tags": []
          },
          "execution_count": 97
        }
      ]
    },
    {
      "cell_type": "code",
      "metadata": {
        "id": "HYBg_CUqVNei",
        "colab_type": "code",
        "colab": {
          "base_uri": "https://localhost:8080/",
          "height": 34
        },
        "outputId": "243edde6-1e42-49a7-a14b-e88371e88c19"
      },
      "source": [
        "d.setdefault('x', 0)\n",
        "d"
      ],
      "execution_count": 98,
      "outputs": [
        {
          "output_type": "execute_result",
          "data": {
            "text/plain": [
              "{'x': 1, 'y': 2, 'z': 3}"
            ]
          },
          "metadata": {
            "tags": []
          },
          "execution_count": 98
        }
      ]
    },
    {
      "cell_type": "markdown",
      "metadata": {
        "id": "fwxyW35bWQaO",
        "colab_type": "text"
      },
      "source": [
        "Word Character frequency"
      ]
    },
    {
      "cell_type": "code",
      "metadata": {
        "id": "jErpTiR8VVR9",
        "colab_type": "code",
        "colab": {
          "base_uri": "https://localhost:8080/",
          "height": 34
        },
        "outputId": "c0784a76-485b-4bce-fd73-defbf52d7969"
      },
      "source": [
        "def word_frequency(words):\n",
        "  frequency = {}\n",
        "  for w in words:\n",
        "    frequency[w]= frequency.get(w,0)+1\n",
        "  return frequency\n",
        "\n",
        "word_frequency('welcome')"
      ],
      "execution_count": 100,
      "outputs": [
        {
          "output_type": "execute_result",
          "data": {
            "text/plain": [
              "{'c': 1, 'e': 2, 'l': 1, 'm': 1, 'o': 1, 'w': 1}"
            ]
          },
          "metadata": {
            "tags": []
          },
          "execution_count": 100
        }
      ]
    },
    {
      "cell_type": "code",
      "metadata": {
        "id": "6EHGTfabWDeT",
        "colab_type": "code",
        "colab": {
          "base_uri": "https://localhost:8080/",
          "height": 1000
        },
        "outputId": "fb5e64cf-e3e9-464f-a195-7a7f3088e580"
      },
      "source": [
        "globals()"
      ],
      "execution_count": 101,
      "outputs": [
        {
          "output_type": "execute_result",
          "data": {
            "text/plain": [
              "{'In': ['',\n",
              "  '42',\n",
              "  '4+2',\n",
              "  'print(\"Hello, World!\")',\n",
              "  'x=4\\nx',\n",
              "  'x*x',\n",
              "  'foo',\n",
              "  'foo=4\\nfoo',\n",
              "  'x=4\\nx',\n",
              "  'x= \"hello world\"\\nx',\n",
              "  'a,b= 1,2\\na,b',\n",
              "  'a+b',\n",
              "  'a,b=1,2\\nprint(a,b)\\na,b=b,a\\nprint(a,b)',\n",
              "  'x=4\\ny= x+1\\nx=2\\nprint(x,y)',\n",
              "  '4.2+6.3',\n",
              "  'print(\"Addition 7 + 2\",7+2)\\nprint(\"subtraction 7 - 2\",7-2)\\nprint(\"Multiplication 7 * 2\",7*2)\\nprint(\"division 7 / 2\",7/2)\\nprint(\"exponent 7 ** 2\",7**2)\\nprint(\"remainder 7 % 2\",7%2)',\n",
              "  '7 + 2 + 3 -5',\n",
              "  '2 + 3 * 4',\n",
              "  '#We can use parenthesis to specify the explicit groups.\\n(2+3)*4',\n",
              "  '1 + 2 + 3 * 4 + 5',\n",
              "  '\\nx = \"\"\"This is a multi-line string\\nwritten in\\nthree lines.\"\"\"\\nx',\n",
              "  'y = \\'\\'\\'multi-line strings can be written\\nusing three single quote characters as well.\\nThe string can contain \\'single quotes\\' or \"double quotes\"\\nin side it.\\'\\'\\'\\ny',\n",
              "  'def square(x):\\n  return x* x\\n\\nsquare(5)',\n",
              "  'square(3) + square(2)',\n",
              "  'def sum_of_squares(x,y):\\n  return square(x) + square(y)\\n\\nsum_of_squares(3,5)',\n",
              "  'f=square\\nf(4)',\n",
              "  'def fxy(f,x,y):\\n  return f(x) + f(y)\\nfxy(square, 2, 3)',\n",
              "  'help(round)',\n",
              "  'def least_difference(a, b, c):\\n  diff1 = abs(a - b)\\n  diff2 = abs(b - c)\\n  diff3 = abs(a - c)\\n  return min(diff1, diff2, diff3)',\n",
              "  'help(least_difference)',\n",
              "  'print(\\n    least_difference(1, 10, 100),\\n    least_difference(1, 10, 10),\\n    least_difference(5, 6, 7), # Python allows trailing commas in argument lists. How nice is that?\\n)',\n",
              "  \"print(1, 2, 3, sep=' < ')\",\n",
              "  'x=0\\ny=0\\ndef incr(x):\\n  y= x+1\\n  return y\\n\\nincr(5)\\nprint(x,y)',\n",
              "  'cube = lambda x: x ** 3\\n\\nfxy(cube, 2,3)',\n",
              "  'fxy(lambda x: x ** 3, 2, 3)',\n",
              "  'min(2,3)',\n",
              "  'max(10,25)',\n",
              "  'len(\"Hello World\")',\n",
              "  'int(\"50\")',\n",
              "  'str(123)',\n",
              "  'x=\"hello\"\\nx.upper()',\n",
              "  'x= [1,2,3]\\nx',\n",
              "  'len(x)',\n",
              "  'x[1]',\n",
              "  'import sys\\nprint(sys.argv[1])',\n",
              "  'x=[1,2,3,4]\\n2 in x',\n",
              "  '10 in x',\n",
              "  'list(zip([\"a\", \"b\", \"c\"], [1, 2, 3]))',\n",
              "  'a = [2, 10, 4, 3, 7]\\na.sort()\\na',\n",
              "  'a = [2, 10, 4, 3, 7]\\nprint(sorted(a))\\nprint(a)',\n",
              "  'a = [[2, 3], [4, 6], [6, 1]]\\na.sort(key=lambda x: x[1])\\na',\n",
              "  'a=(1,2,3)\\na',\n",
              "  'x=set([1,2,4,1])\\nx',\n",
              "  'x={1,2,3,4,1,2}\\nx',\n",
              "  '#New elements can be added to a set using the add method.\\nx.add(5)\\nx',\n",
              "  'a= range(10)',\n",
              "  'a= range(10)\\na',\n",
              "  'a= range(10)\\nlist(a)',\n",
              "  '[x for c in a]',\n",
              "  'a= range(10)\\n#list(a)',\n",
              "  'a= range(10)\\n#list(a)\\nx',\n",
              "  'a= range(10)\\n#list(a)\\nx=0',\n",
              "  '[x for c in a]',\n",
              "  'a= range(10)\\n#list(a)',\n",
              "  '[x for c in a]',\n",
              "  '[x for x in a]',\n",
              "  '[x * x for x in a]',\n",
              "  '[x+1 for x in a]',\n",
              "  '[x+1 for x in a]',\n",
              "  '[x+1 for x in a]',\n",
              "  'a= range(10)\\n\\n[x for x in a if a %2 ==0]',\n",
              "  'a= range(10)\\n[x for x in a if a % 2 ==0 ]',\n",
              "  'a= list(range(10))\\n[x for x in a if a % 2 ==0 ]',\n",
              "  'a= int(range(10))\\n[x for x in a if a % 2 ==0 ]',\n",
              "  'a= range(10)\\n[x for x in a if a % 2 ==0 ]',\n",
              "  'a= range(10)\\n[x for x in a if a % 2 ==0 ]',\n",
              "  'n=25\\n[(x, y, z) for x in range(1, n) for y in range(x, n) for z in range(y, n) if x*x + y*y == z*z]',\n",
              "  'a= range(10)\\n[x for x in range(10) if a % 2 ==0 ]',\n",
              "  'a= range(10)\\n[x for x in range(10) if a % 2 ==0 ]',\n",
              "  'x = range(2000, 3201)\\nnum = [n for n in x if n % 7 == 0 and n % 5 != 0]',\n",
              "  'a= range(10)\\n[x for x in a if x % 2 ==0 ]',\n",
              "  'def square(x):\\n  return x * x\\n\\nmap(square,range(5))',\n",
              "  'def square(x):\\n  return x * x\\n\\nlist(map(square,range(5)))',\n",
              "  'def square(x):\\n  return x * x\\n\\nlist(map(square,range(5)))',\n",
              "  'def evev(x):\\n  return x % 2\\n\\nfilter(even, range(10))',\n",
              "  'def even(x):\\n  return x % 2\\n\\nfilter(even, range(10))',\n",
              "  'def even(x):\\n  return x % 2\\n\\nlist(filter(even, range(10)))',\n",
              "  'def even(x):\\n  return x % 2 == 0\\n\\nlist(filter(even, range(10)))',\n",
              "  'enumerate([\"a\",\"b\",\"c\"],[(0,\"a\"),(1,\"b\"),(2,\"c\")])\\n\\nfor index, value in in enumerate([\"a\",\"b\",\"c\"]):\\n  print(index,value)',\n",
              "  'enumerate([\"a\",\"b\",\"c\"],[(0,\"a\"),(1,\"b\"),(2,\"c\")])\\n\\nfor index, value in in enumerate([\"a\",\"b\",\"c\"]):\\n  print(index,value)',\n",
              "  'enumerate([\"a\",\"b\",\"c\"],[(0,\"a\"),(1,\"b\"),(2,\"c\")])\\n\\nfor index, value in enumerate([\"a\",\"b\",\"c\"]):\\n  print(index,value)',\n",
              "  '#enumerate([\"a\",\"b\",\"c\"],[(0,\"a\"),(1,\"b\"),(2,\"c\")])\\n\\nfor index, value in enumerate([\"a\",\"b\",\"c\"]):\\n  print(index,value)',\n",
              "  'enumerate([\"a\",\"b\",\"c\"])\\n\\nfor index, value in enumerate([\"a\",\"b\",\"c\"]):\\n  print(index,value)',\n",
              "  'print(enumerate([\"a\",\"b\",\"c\"]))\\n\\nfor index, value in enumerate([\"a\",\"b\",\"c\"]):\\n  print(index,value)',\n",
              "  'print(list(enumerate([\"a\",\"b\",\"c\"])))\\n\\nfor index, value in enumerate([\"a\",\"b\",\"c\"]):\\n  print(index,value)',\n",
              "  'a= array(2,3)\\na',\n",
              "  'from numpy import array\\na= array(2,3)\\na',\n",
              "  \"d = {'x': 1, 'y': 2, 'z': 3}\\nd.get('x',5)\",\n",
              "  \"d.setdefault('x', 0)\\nd\",\n",
              "  \"def word_frequency(words):\\n  frequency = {}\\n  for w in words:\\n    frequency[w]= frequency.get(w,0)+1\\n  return frequency\\n\\nword_frequency('words words welcome heloo')\",\n",
              "  \"def word_frequency(words):\\n  frequency = {}\\n  for w in words:\\n    frequency[w]= frequency.get(w,0)+1\\n  return frequency\\n\\nword_frequency('welcome')\",\n",
              "  'globals()'],\n",
              " 'Out': {1: 42,\n",
              "  2: 6,\n",
              "  4: 4,\n",
              "  5: 16,\n",
              "  7: 4,\n",
              "  8: 4,\n",
              "  9: 'hello world',\n",
              "  10: (1, 2),\n",
              "  11: 3,\n",
              "  14: 10.5,\n",
              "  16: 7,\n",
              "  17: 14,\n",
              "  18: 20,\n",
              "  19: 20,\n",
              "  20: 'This is a multi-line string\\nwritten in\\nthree lines.',\n",
              "  21: 'multi-line strings can be written\\nusing three single quote characters as well.\\nThe string can contain \\'single quotes\\' or \"double quotes\"\\nin side it.',\n",
              "  22: 25,\n",
              "  23: 13,\n",
              "  24: 34,\n",
              "  25: 16,\n",
              "  26: 13,\n",
              "  33: 35,\n",
              "  34: 35,\n",
              "  35: 2,\n",
              "  36: 25,\n",
              "  37: 11,\n",
              "  38: 50,\n",
              "  39: '123',\n",
              "  40: 'HELLO',\n",
              "  41: [1, 2, 3],\n",
              "  42: 3,\n",
              "  43: 2,\n",
              "  45: True,\n",
              "  46: False,\n",
              "  47: [('a', 1), ('b', 2), ('c', 3)],\n",
              "  48: [2, 3, 4, 7, 10],\n",
              "  50: [[6, 1], [2, 3], [4, 6]],\n",
              "  51: (1, 2, 3),\n",
              "  52: {1, 2, 4},\n",
              "  53: {1, 2, 3, 4, 5},\n",
              "  54: {1, 2, 3, 4, 5},\n",
              "  56: range(0, 10),\n",
              "  57: [0, 1, 2, 3, 4, 5, 6, 7, 8, 9],\n",
              "  58: [{1, 2, 3, 4, 5},\n",
              "   {1, 2, 3, 4, 5},\n",
              "   {1, 2, 3, 4, 5},\n",
              "   {1, 2, 3, 4, 5},\n",
              "   {1, 2, 3, 4, 5},\n",
              "   {1, 2, 3, 4, 5},\n",
              "   {1, 2, 3, 4, 5},\n",
              "   {1, 2, 3, 4, 5},\n",
              "   {1, 2, 3, 4, 5},\n",
              "   {1, 2, 3, 4, 5}],\n",
              "  60: {1, 2, 3, 4, 5},\n",
              "  62: [0, 0, 0, 0, 0, 0, 0, 0, 0, 0],\n",
              "  64: [0, 0, 0, 0, 0, 0, 0, 0, 0, 0],\n",
              "  65: [0, 1, 2, 3, 4, 5, 6, 7, 8, 9],\n",
              "  66: [0, 1, 4, 9, 16, 25, 36, 49, 64, 81],\n",
              "  67: [1, 2, 3, 4, 5, 6, 7, 8, 9, 10],\n",
              "  68: [1, 2, 3, 4, 5, 6, 7, 8, 9, 10],\n",
              "  69: [1, 2, 3, 4, 5, 6, 7, 8, 9, 10],\n",
              "  76: [(3, 4, 5),\n",
              "   (5, 12, 13),\n",
              "   (6, 8, 10),\n",
              "   (8, 15, 17),\n",
              "   (9, 12, 15),\n",
              "   (12, 16, 20)],\n",
              "  80: [0, 2, 4, 6, 8],\n",
              "  81: <map at 0x7f0279ffde10>,\n",
              "  82: [0, 1, 4, 9, 16],\n",
              "  83: [0, 1, 4, 9, 16],\n",
              "  85: <filter at 0x7f0279ffd080>,\n",
              "  86: [1, 3, 5, 7, 9],\n",
              "  87: [0, 2, 4, 6, 8],\n",
              "  97: 1,\n",
              "  98: {'x': 1, 'y': 2, 'z': 3},\n",
              "  99: {' ': 3,\n",
              "   'c': 1,\n",
              "   'd': 2,\n",
              "   'e': 3,\n",
              "   'h': 1,\n",
              "   'l': 2,\n",
              "   'm': 1,\n",
              "   'o': 5,\n",
              "   'r': 2,\n",
              "   's': 2,\n",
              "   'w': 3},\n",
              "  100: {'c': 1, 'e': 2, 'l': 1, 'm': 1, 'o': 1, 'w': 1}},\n",
              " '_': {'c': 1, 'e': 2, 'l': 1, 'm': 1, 'o': 1, 'w': 1},\n",
              " '_1': 42,\n",
              " '_10': (1, 2),\n",
              " '_100': {'c': 1, 'e': 2, 'l': 1, 'm': 1, 'o': 1, 'w': 1},\n",
              " '_11': 3,\n",
              " '_14': 10.5,\n",
              " '_16': 7,\n",
              " '_17': 14,\n",
              " '_18': 20,\n",
              " '_19': 20,\n",
              " '_2': 6,\n",
              " '_20': 'This is a multi-line string\\nwritten in\\nthree lines.',\n",
              " '_21': 'multi-line strings can be written\\nusing three single quote characters as well.\\nThe string can contain \\'single quotes\\' or \"double quotes\"\\nin side it.',\n",
              " '_22': 25,\n",
              " '_23': 13,\n",
              " '_24': 34,\n",
              " '_25': 16,\n",
              " '_26': 13,\n",
              " '_33': 35,\n",
              " '_34': 35,\n",
              " '_35': 2,\n",
              " '_36': 25,\n",
              " '_37': 11,\n",
              " '_38': 50,\n",
              " '_39': '123',\n",
              " '_4': 4,\n",
              " '_40': 'HELLO',\n",
              " '_41': [1, 2, 3],\n",
              " '_42': 3,\n",
              " '_43': 2,\n",
              " '_45': True,\n",
              " '_46': False,\n",
              " '_47': [('a', 1), ('b', 2), ('c', 3)],\n",
              " '_48': [2, 3, 4, 7, 10],\n",
              " '_5': 16,\n",
              " '_50': [[6, 1], [2, 3], [4, 6]],\n",
              " '_51': (1, 2, 3),\n",
              " '_52': {1, 2, 4},\n",
              " '_53': {1, 2, 3, 4, 5},\n",
              " '_54': {1, 2, 3, 4, 5},\n",
              " '_56': range(0, 10),\n",
              " '_57': [0, 1, 2, 3, 4, 5, 6, 7, 8, 9],\n",
              " '_58': [{1, 2, 3, 4, 5},\n",
              "  {1, 2, 3, 4, 5},\n",
              "  {1, 2, 3, 4, 5},\n",
              "  {1, 2, 3, 4, 5},\n",
              "  {1, 2, 3, 4, 5},\n",
              "  {1, 2, 3, 4, 5},\n",
              "  {1, 2, 3, 4, 5},\n",
              "  {1, 2, 3, 4, 5},\n",
              "  {1, 2, 3, 4, 5},\n",
              "  {1, 2, 3, 4, 5}],\n",
              " '_60': {1, 2, 3, 4, 5},\n",
              " '_62': [0, 0, 0, 0, 0, 0, 0, 0, 0, 0],\n",
              " '_64': [0, 0, 0, 0, 0, 0, 0, 0, 0, 0],\n",
              " '_65': [0, 1, 2, 3, 4, 5, 6, 7, 8, 9],\n",
              " '_66': [0, 1, 4, 9, 16, 25, 36, 49, 64, 81],\n",
              " '_67': [1, 2, 3, 4, 5, 6, 7, 8, 9, 10],\n",
              " '_68': [1, 2, 3, 4, 5, 6, 7, 8, 9, 10],\n",
              " '_69': [1, 2, 3, 4, 5, 6, 7, 8, 9, 10],\n",
              " '_7': 4,\n",
              " '_76': [(3, 4, 5),\n",
              "  (5, 12, 13),\n",
              "  (6, 8, 10),\n",
              "  (8, 15, 17),\n",
              "  (9, 12, 15),\n",
              "  (12, 16, 20)],\n",
              " '_8': 4,\n",
              " '_80': [0, 2, 4, 6, 8],\n",
              " '_81': <map at 0x7f0279ffde10>,\n",
              " '_82': [0, 1, 4, 9, 16],\n",
              " '_83': [0, 1, 4, 9, 16],\n",
              " '_85': <filter at 0x7f0279ffd080>,\n",
              " '_86': [1, 3, 5, 7, 9],\n",
              " '_87': [0, 2, 4, 6, 8],\n",
              " '_9': 'hello world',\n",
              " '_97': 1,\n",
              " '_98': {'x': 1, 'y': 2, 'z': 3},\n",
              " '_99': {' ': 3,\n",
              "  'c': 1,\n",
              "  'd': 2,\n",
              "  'e': 3,\n",
              "  'h': 1,\n",
              "  'l': 2,\n",
              "  'm': 1,\n",
              "  'o': 5,\n",
              "  'r': 2,\n",
              "  's': 2,\n",
              "  'w': 3},\n",
              " '__': {' ': 3,\n",
              "  'c': 1,\n",
              "  'd': 2,\n",
              "  'e': 3,\n",
              "  'h': 1,\n",
              "  'l': 2,\n",
              "  'm': 1,\n",
              "  'o': 5,\n",
              "  'r': 2,\n",
              "  's': 2,\n",
              "  'w': 3},\n",
              " '___': {'x': 1, 'y': 2, 'z': 3},\n",
              " '__builtin__': <module 'builtins' (built-in)>,\n",
              " '__builtins__': <module 'builtins' (built-in)>,\n",
              " '__doc__': 'Automatically created module for IPython interactive environment',\n",
              " '__loader__': None,\n",
              " '__name__': '__main__',\n",
              " '__package__': None,\n",
              " '__spec__': None,\n",
              " '_dh': ['/content'],\n",
              " '_i': \"def word_frequency(words):\\n  frequency = {}\\n  for w in words:\\n    frequency[w]= frequency.get(w,0)+1\\n  return frequency\\n\\nword_frequency('welcome')\",\n",
              " '_i1': '42',\n",
              " '_i10': 'a,b= 1,2\\na,b',\n",
              " '_i100': \"def word_frequency(words):\\n  frequency = {}\\n  for w in words:\\n    frequency[w]= frequency.get(w,0)+1\\n  return frequency\\n\\nword_frequency('welcome')\",\n",
              " '_i101': 'globals()',\n",
              " '_i11': 'a+b',\n",
              " '_i12': 'a,b=1,2\\nprint(a,b)\\na,b=b,a\\nprint(a,b)',\n",
              " '_i13': 'x=4\\ny= x+1\\nx=2\\nprint(x,y)',\n",
              " '_i14': '4.2+6.3',\n",
              " '_i15': 'print(\"Addition 7 + 2\",7+2)\\nprint(\"subtraction 7 - 2\",7-2)\\nprint(\"Multiplication 7 * 2\",7*2)\\nprint(\"division 7 / 2\",7/2)\\nprint(\"exponent 7 ** 2\",7**2)\\nprint(\"remainder 7 % 2\",7%2)',\n",
              " '_i16': '7 + 2 + 3 -5',\n",
              " '_i17': '2 + 3 * 4',\n",
              " '_i18': '#We can use parenthesis to specify the explicit groups.\\n(2+3)*4',\n",
              " '_i19': '1 + 2 + 3 * 4 + 5',\n",
              " '_i2': '4+2',\n",
              " '_i20': '\\nx = \"\"\"This is a multi-line string\\nwritten in\\nthree lines.\"\"\"\\nx',\n",
              " '_i21': 'y = \\'\\'\\'multi-line strings can be written\\nusing three single quote characters as well.\\nThe string can contain \\'single quotes\\' or \"double quotes\"\\nin side it.\\'\\'\\'\\ny',\n",
              " '_i22': 'def square(x):\\n  return x* x\\n\\nsquare(5)',\n",
              " '_i23': 'square(3) + square(2)',\n",
              " '_i24': ' def sum_of_squares(x,y):\\n   return square(x) + square(y)\\n\\nsum_of_squares(3,5)',\n",
              " '_i25': 'f=square\\nf(4)',\n",
              " '_i26': 'def fxy(f,x,y):\\n  return f(x) + f(y)\\nfxy(square, 2, 3)',\n",
              " '_i27': 'help(round)',\n",
              " '_i28': 'def least_difference(a, b, c):\\n  diff1 = abs(a - b)\\n  diff2 = abs(b - c)\\n  diff3 = abs(a - c)\\n  return min(diff1, diff2, diff3)',\n",
              " '_i29': 'help(least_difference)',\n",
              " '_i3': 'print(\"Hello, World!\")',\n",
              " '_i30': 'print(\\n    least_difference(1, 10, 100),\\n    least_difference(1, 10, 10),\\n    least_difference(5, 6, 7), # Python allows trailing commas in argument lists. How nice is that?\\n)',\n",
              " '_i31': \"print(1, 2, 3, sep=' < ')\",\n",
              " '_i32': 'x=0\\ny=0\\ndef incr(x):\\n  y= x+1\\n  return y\\n\\nincr(5)\\nprint(x,y)',\n",
              " '_i33': 'cube = lambda x: x ** 3\\n\\nfxy(cube, 2,3)',\n",
              " '_i34': 'fxy(lambda x: x ** 3, 2, 3)',\n",
              " '_i35': 'min(2,3)',\n",
              " '_i36': 'max(10,25)',\n",
              " '_i37': 'len(\"Hello World\")',\n",
              " '_i38': 'int(\"50\")',\n",
              " '_i39': 'str(123)',\n",
              " '_i4': 'x=4\\nx',\n",
              " '_i40': 'x=\"hello\"\\nx.upper()',\n",
              " '_i41': 'x= [1,2,3]\\nx',\n",
              " '_i42': 'len(x)',\n",
              " '_i43': 'x[1]',\n",
              " '_i44': 'import sys\\nprint(sys.argv[1])',\n",
              " '_i45': 'x=[1,2,3,4]\\n2 in x',\n",
              " '_i46': '10 in x',\n",
              " '_i47': 'list(zip([\"a\", \"b\", \"c\"], [1, 2, 3]))',\n",
              " '_i48': 'a = [2, 10, 4, 3, 7]\\na.sort()\\na',\n",
              " '_i49': 'a = [2, 10, 4, 3, 7]\\nprint(sorted(a))\\nprint(a)',\n",
              " '_i5': 'x*x',\n",
              " '_i50': 'a = [[2, 3], [4, 6], [6, 1]]\\na.sort(key=lambda x: x[1])\\na',\n",
              " '_i51': 'a=(1,2,3)\\na',\n",
              " '_i52': 'x=set([1,2,4,1])\\nx',\n",
              " '_i53': 'x={1,2,3,4,1,2}\\nx',\n",
              " '_i54': '#New elements can be added to a set using the add method.\\nx.add(5)\\nx',\n",
              " '_i55': 'a= range(10)',\n",
              " '_i56': 'a= range(10)\\na',\n",
              " '_i57': 'a= range(10)\\nlist(a)',\n",
              " '_i58': '[x for c in a]',\n",
              " '_i59': 'a= range(10)\\n#list(a)',\n",
              " '_i6': 'foo',\n",
              " '_i60': 'a= range(10)\\n#list(a)\\nx',\n",
              " '_i61': 'a= range(10)\\n#list(a)\\nx=0',\n",
              " '_i62': '[x for c in a]',\n",
              " '_i63': 'a= range(10)\\n#list(a)',\n",
              " '_i64': '[x for c in a]',\n",
              " '_i65': '[x for x in a]',\n",
              " '_i66': '[x * x for x in a]',\n",
              " '_i67': '[x+1 for x in a]',\n",
              " '_i68': '[x+1 for x in a]',\n",
              " '_i69': '[x+1 for x in a]',\n",
              " '_i7': 'foo=4\\nfoo',\n",
              " '_i70': 'a= range(10)\\n\\n[x for x in a if a %2 ==0]',\n",
              " '_i71': 'a= range(10)\\n[x for x in a if a % 2 ==0 ]',\n",
              " '_i72': 'a= list(range(10))\\n[x for x in a if a % 2 ==0 ]',\n",
              " '_i73': 'a= int(range(10))\\n[x for x in a if a % 2 ==0 ]',\n",
              " '_i74': 'a= range(10)\\n[x for x in a if a % 2 ==0 ]',\n",
              " '_i75': 'a= range(10)\\n[x for x in a if a % 2 ==0 ]',\n",
              " '_i76': 'n=25\\n[(x, y, z) for x in range(1, n) for y in range(x, n) for z in range(y, n) if x*x + y*y == z*z]',\n",
              " '_i77': 'a= range(10)\\n[x for x in range(10) if a % 2 ==0 ]',\n",
              " '_i78': 'a= range(10)\\n[x for x in range(10) if a % 2 ==0 ]',\n",
              " '_i79': 'x = range(2000, 3201)\\nnum = [n for n in x if n % 7 == 0 and n % 5 != 0]',\n",
              " '_i8': 'x=4\\nx',\n",
              " '_i80': 'a= range(10)\\n[x for x in a if x % 2 ==0 ]',\n",
              " '_i81': 'def square(x):\\n  return x * x\\n\\nmap(square,range(5))',\n",
              " '_i82': 'def square(x):\\n  return x * x\\n\\nlist(map(square,range(5)))',\n",
              " '_i83': 'def square(x):\\n  return x * x\\n\\nlist(map(square,range(5)))',\n",
              " '_i84': 'def evev(x):\\n  return x % 2\\n\\nfilter(even, range(10))',\n",
              " '_i85': 'def even(x):\\n  return x % 2\\n\\nfilter(even, range(10))',\n",
              " '_i86': 'def even(x):\\n  return x % 2\\n\\nlist(filter(even, range(10)))',\n",
              " '_i87': 'def even(x):\\n  return x % 2 == 0\\n\\nlist(filter(even, range(10)))',\n",
              " '_i88': 'enumerate([\"a\",\"b\",\"c\"],[(0,\"a\"),(1,\"b\"),(2,\"c\")])\\n\\nfor index, value in in enumerate([\"a\",\"b\",\"c\"]):\\n  print(index,value)',\n",
              " '_i89': 'enumerate([\"a\",\"b\",\"c\"],[(0,\"a\"),(1,\"b\"),(2,\"c\")])\\n\\nfor index, value in in enumerate([\"a\",\"b\",\"c\"]):\\n  print(index,value)',\n",
              " '_i9': 'x= \"hello world\"\\nx',\n",
              " '_i90': 'enumerate([\"a\",\"b\",\"c\"],[(0,\"a\"),(1,\"b\"),(2,\"c\")])\\n\\nfor index, value in enumerate([\"a\",\"b\",\"c\"]):\\n  print(index,value)',\n",
              " '_i91': '#enumerate([\"a\",\"b\",\"c\"],[(0,\"a\"),(1,\"b\"),(2,\"c\")])\\n\\nfor index, value in enumerate([\"a\",\"b\",\"c\"]):\\n  print(index,value)',\n",
              " '_i92': 'enumerate([\"a\",\"b\",\"c\"])\\n\\nfor index, value in enumerate([\"a\",\"b\",\"c\"]):\\n  print(index,value)',\n",
              " '_i93': 'print(enumerate([\"a\",\"b\",\"c\"]))\\n\\nfor index, value in enumerate([\"a\",\"b\",\"c\"]):\\n  print(index,value)',\n",
              " '_i94': 'print(list(enumerate([\"a\",\"b\",\"c\"])))\\n\\nfor index, value in enumerate([\"a\",\"b\",\"c\"]):\\n  print(index,value)',\n",
              " '_i95': 'a= array(2,3)\\na',\n",
              " '_i96': 'from numpy import array\\na= array(2,3)\\na',\n",
              " '_i97': \"d = {'x': 1, 'y': 2, 'z': 3}\\nd.get('x',5)\",\n",
              " '_i98': \"d.setdefault('x', 0)\\nd\",\n",
              " '_i99': \"def word_frequency(words):\\n  frequency = {}\\n  for w in words:\\n    frequency[w]= frequency.get(w,0)+1\\n  return frequency\\n\\nword_frequency('words words welcome heloo')\",\n",
              " '_ih': ['',\n",
              "  '42',\n",
              "  '4+2',\n",
              "  'print(\"Hello, World!\")',\n",
              "  'x=4\\nx',\n",
              "  'x*x',\n",
              "  'foo',\n",
              "  'foo=4\\nfoo',\n",
              "  'x=4\\nx',\n",
              "  'x= \"hello world\"\\nx',\n",
              "  'a,b= 1,2\\na,b',\n",
              "  'a+b',\n",
              "  'a,b=1,2\\nprint(a,b)\\na,b=b,a\\nprint(a,b)',\n",
              "  'x=4\\ny= x+1\\nx=2\\nprint(x,y)',\n",
              "  '4.2+6.3',\n",
              "  'print(\"Addition 7 + 2\",7+2)\\nprint(\"subtraction 7 - 2\",7-2)\\nprint(\"Multiplication 7 * 2\",7*2)\\nprint(\"division 7 / 2\",7/2)\\nprint(\"exponent 7 ** 2\",7**2)\\nprint(\"remainder 7 % 2\",7%2)',\n",
              "  '7 + 2 + 3 -5',\n",
              "  '2 + 3 * 4',\n",
              "  '#We can use parenthesis to specify the explicit groups.\\n(2+3)*4',\n",
              "  '1 + 2 + 3 * 4 + 5',\n",
              "  '\\nx = \"\"\"This is a multi-line string\\nwritten in\\nthree lines.\"\"\"\\nx',\n",
              "  'y = \\'\\'\\'multi-line strings can be written\\nusing three single quote characters as well.\\nThe string can contain \\'single quotes\\' or \"double quotes\"\\nin side it.\\'\\'\\'\\ny',\n",
              "  'def square(x):\\n  return x* x\\n\\nsquare(5)',\n",
              "  'square(3) + square(2)',\n",
              "  'def sum_of_squares(x,y):\\n  return square(x) + square(y)\\n\\nsum_of_squares(3,5)',\n",
              "  'f=square\\nf(4)',\n",
              "  'def fxy(f,x,y):\\n  return f(x) + f(y)\\nfxy(square, 2, 3)',\n",
              "  'help(round)',\n",
              "  'def least_difference(a, b, c):\\n  diff1 = abs(a - b)\\n  diff2 = abs(b - c)\\n  diff3 = abs(a - c)\\n  return min(diff1, diff2, diff3)',\n",
              "  'help(least_difference)',\n",
              "  'print(\\n    least_difference(1, 10, 100),\\n    least_difference(1, 10, 10),\\n    least_difference(5, 6, 7), # Python allows trailing commas in argument lists. How nice is that?\\n)',\n",
              "  \"print(1, 2, 3, sep=' < ')\",\n",
              "  'x=0\\ny=0\\ndef incr(x):\\n  y= x+1\\n  return y\\n\\nincr(5)\\nprint(x,y)',\n",
              "  'cube = lambda x: x ** 3\\n\\nfxy(cube, 2,3)',\n",
              "  'fxy(lambda x: x ** 3, 2, 3)',\n",
              "  'min(2,3)',\n",
              "  'max(10,25)',\n",
              "  'len(\"Hello World\")',\n",
              "  'int(\"50\")',\n",
              "  'str(123)',\n",
              "  'x=\"hello\"\\nx.upper()',\n",
              "  'x= [1,2,3]\\nx',\n",
              "  'len(x)',\n",
              "  'x[1]',\n",
              "  'import sys\\nprint(sys.argv[1])',\n",
              "  'x=[1,2,3,4]\\n2 in x',\n",
              "  '10 in x',\n",
              "  'list(zip([\"a\", \"b\", \"c\"], [1, 2, 3]))',\n",
              "  'a = [2, 10, 4, 3, 7]\\na.sort()\\na',\n",
              "  'a = [2, 10, 4, 3, 7]\\nprint(sorted(a))\\nprint(a)',\n",
              "  'a = [[2, 3], [4, 6], [6, 1]]\\na.sort(key=lambda x: x[1])\\na',\n",
              "  'a=(1,2,3)\\na',\n",
              "  'x=set([1,2,4,1])\\nx',\n",
              "  'x={1,2,3,4,1,2}\\nx',\n",
              "  '#New elements can be added to a set using the add method.\\nx.add(5)\\nx',\n",
              "  'a= range(10)',\n",
              "  'a= range(10)\\na',\n",
              "  'a= range(10)\\nlist(a)',\n",
              "  '[x for c in a]',\n",
              "  'a= range(10)\\n#list(a)',\n",
              "  'a= range(10)\\n#list(a)\\nx',\n",
              "  'a= range(10)\\n#list(a)\\nx=0',\n",
              "  '[x for c in a]',\n",
              "  'a= range(10)\\n#list(a)',\n",
              "  '[x for c in a]',\n",
              "  '[x for x in a]',\n",
              "  '[x * x for x in a]',\n",
              "  '[x+1 for x in a]',\n",
              "  '[x+1 for x in a]',\n",
              "  '[x+1 for x in a]',\n",
              "  'a= range(10)\\n\\n[x for x in a if a %2 ==0]',\n",
              "  'a= range(10)\\n[x for x in a if a % 2 ==0 ]',\n",
              "  'a= list(range(10))\\n[x for x in a if a % 2 ==0 ]',\n",
              "  'a= int(range(10))\\n[x for x in a if a % 2 ==0 ]',\n",
              "  'a= range(10)\\n[x for x in a if a % 2 ==0 ]',\n",
              "  'a= range(10)\\n[x for x in a if a % 2 ==0 ]',\n",
              "  'n=25\\n[(x, y, z) for x in range(1, n) for y in range(x, n) for z in range(y, n) if x*x + y*y == z*z]',\n",
              "  'a= range(10)\\n[x for x in range(10) if a % 2 ==0 ]',\n",
              "  'a= range(10)\\n[x for x in range(10) if a % 2 ==0 ]',\n",
              "  'x = range(2000, 3201)\\nnum = [n for n in x if n % 7 == 0 and n % 5 != 0]',\n",
              "  'a= range(10)\\n[x for x in a if x % 2 ==0 ]',\n",
              "  'def square(x):\\n  return x * x\\n\\nmap(square,range(5))',\n",
              "  'def square(x):\\n  return x * x\\n\\nlist(map(square,range(5)))',\n",
              "  'def square(x):\\n  return x * x\\n\\nlist(map(square,range(5)))',\n",
              "  'def evev(x):\\n  return x % 2\\n\\nfilter(even, range(10))',\n",
              "  'def even(x):\\n  return x % 2\\n\\nfilter(even, range(10))',\n",
              "  'def even(x):\\n  return x % 2\\n\\nlist(filter(even, range(10)))',\n",
              "  'def even(x):\\n  return x % 2 == 0\\n\\nlist(filter(even, range(10)))',\n",
              "  'enumerate([\"a\",\"b\",\"c\"],[(0,\"a\"),(1,\"b\"),(2,\"c\")])\\n\\nfor index, value in in enumerate([\"a\",\"b\",\"c\"]):\\n  print(index,value)',\n",
              "  'enumerate([\"a\",\"b\",\"c\"],[(0,\"a\"),(1,\"b\"),(2,\"c\")])\\n\\nfor index, value in in enumerate([\"a\",\"b\",\"c\"]):\\n  print(index,value)',\n",
              "  'enumerate([\"a\",\"b\",\"c\"],[(0,\"a\"),(1,\"b\"),(2,\"c\")])\\n\\nfor index, value in enumerate([\"a\",\"b\",\"c\"]):\\n  print(index,value)',\n",
              "  '#enumerate([\"a\",\"b\",\"c\"],[(0,\"a\"),(1,\"b\"),(2,\"c\")])\\n\\nfor index, value in enumerate([\"a\",\"b\",\"c\"]):\\n  print(index,value)',\n",
              "  'enumerate([\"a\",\"b\",\"c\"])\\n\\nfor index, value in enumerate([\"a\",\"b\",\"c\"]):\\n  print(index,value)',\n",
              "  'print(enumerate([\"a\",\"b\",\"c\"]))\\n\\nfor index, value in enumerate([\"a\",\"b\",\"c\"]):\\n  print(index,value)',\n",
              "  'print(list(enumerate([\"a\",\"b\",\"c\"])))\\n\\nfor index, value in enumerate([\"a\",\"b\",\"c\"]):\\n  print(index,value)',\n",
              "  'a= array(2,3)\\na',\n",
              "  'from numpy import array\\na= array(2,3)\\na',\n",
              "  \"d = {'x': 1, 'y': 2, 'z': 3}\\nd.get('x',5)\",\n",
              "  \"d.setdefault('x', 0)\\nd\",\n",
              "  \"def word_frequency(words):\\n  frequency = {}\\n  for w in words:\\n    frequency[w]= frequency.get(w,0)+1\\n  return frequency\\n\\nword_frequency('words words welcome heloo')\",\n",
              "  \"def word_frequency(words):\\n  frequency = {}\\n  for w in words:\\n    frequency[w]= frequency.get(w,0)+1\\n  return frequency\\n\\nword_frequency('welcome')\",\n",
              "  'globals()'],\n",
              " '_ii': \"def word_frequency(words):\\n  frequency = {}\\n  for w in words:\\n    frequency[w]= frequency.get(w,0)+1\\n  return frequency\\n\\nword_frequency('words words welcome heloo')\",\n",
              " '_iii': \"d.setdefault('x', 0)\\nd\",\n",
              " '_oh': {1: 42,\n",
              "  2: 6,\n",
              "  4: 4,\n",
              "  5: 16,\n",
              "  7: 4,\n",
              "  8: 4,\n",
              "  9: 'hello world',\n",
              "  10: (1, 2),\n",
              "  11: 3,\n",
              "  14: 10.5,\n",
              "  16: 7,\n",
              "  17: 14,\n",
              "  18: 20,\n",
              "  19: 20,\n",
              "  20: 'This is a multi-line string\\nwritten in\\nthree lines.',\n",
              "  21: 'multi-line strings can be written\\nusing three single quote characters as well.\\nThe string can contain \\'single quotes\\' or \"double quotes\"\\nin side it.',\n",
              "  22: 25,\n",
              "  23: 13,\n",
              "  24: 34,\n",
              "  25: 16,\n",
              "  26: 13,\n",
              "  33: 35,\n",
              "  34: 35,\n",
              "  35: 2,\n",
              "  36: 25,\n",
              "  37: 11,\n",
              "  38: 50,\n",
              "  39: '123',\n",
              "  40: 'HELLO',\n",
              "  41: [1, 2, 3],\n",
              "  42: 3,\n",
              "  43: 2,\n",
              "  45: True,\n",
              "  46: False,\n",
              "  47: [('a', 1), ('b', 2), ('c', 3)],\n",
              "  48: [2, 3, 4, 7, 10],\n",
              "  50: [[6, 1], [2, 3], [4, 6]],\n",
              "  51: (1, 2, 3),\n",
              "  52: {1, 2, 4},\n",
              "  53: {1, 2, 3, 4, 5},\n",
              "  54: {1, 2, 3, 4, 5},\n",
              "  56: range(0, 10),\n",
              "  57: [0, 1, 2, 3, 4, 5, 6, 7, 8, 9],\n",
              "  58: [{1, 2, 3, 4, 5},\n",
              "   {1, 2, 3, 4, 5},\n",
              "   {1, 2, 3, 4, 5},\n",
              "   {1, 2, 3, 4, 5},\n",
              "   {1, 2, 3, 4, 5},\n",
              "   {1, 2, 3, 4, 5},\n",
              "   {1, 2, 3, 4, 5},\n",
              "   {1, 2, 3, 4, 5},\n",
              "   {1, 2, 3, 4, 5},\n",
              "   {1, 2, 3, 4, 5}],\n",
              "  60: {1, 2, 3, 4, 5},\n",
              "  62: [0, 0, 0, 0, 0, 0, 0, 0, 0, 0],\n",
              "  64: [0, 0, 0, 0, 0, 0, 0, 0, 0, 0],\n",
              "  65: [0, 1, 2, 3, 4, 5, 6, 7, 8, 9],\n",
              "  66: [0, 1, 4, 9, 16, 25, 36, 49, 64, 81],\n",
              "  67: [1, 2, 3, 4, 5, 6, 7, 8, 9, 10],\n",
              "  68: [1, 2, 3, 4, 5, 6, 7, 8, 9, 10],\n",
              "  69: [1, 2, 3, 4, 5, 6, 7, 8, 9, 10],\n",
              "  76: [(3, 4, 5),\n",
              "   (5, 12, 13),\n",
              "   (6, 8, 10),\n",
              "   (8, 15, 17),\n",
              "   (9, 12, 15),\n",
              "   (12, 16, 20)],\n",
              "  80: [0, 2, 4, 6, 8],\n",
              "  81: <map at 0x7f0279ffde10>,\n",
              "  82: [0, 1, 4, 9, 16],\n",
              "  83: [0, 1, 4, 9, 16],\n",
              "  85: <filter at 0x7f0279ffd080>,\n",
              "  86: [1, 3, 5, 7, 9],\n",
              "  87: [0, 2, 4, 6, 8],\n",
              "  97: 1,\n",
              "  98: {'x': 1, 'y': 2, 'z': 3},\n",
              "  99: {' ': 3,\n",
              "   'c': 1,\n",
              "   'd': 2,\n",
              "   'e': 3,\n",
              "   'h': 1,\n",
              "   'l': 2,\n",
              "   'm': 1,\n",
              "   'o': 5,\n",
              "   'r': 2,\n",
              "   's': 2,\n",
              "   'w': 3},\n",
              "  100: {'c': 1, 'e': 2, 'l': 1, 'm': 1, 'o': 1, 'w': 1}},\n",
              " '_sh': <module 'IPython.core.shadowns' from '/usr/local/lib/python3.6/dist-packages/IPython/core/shadowns.py'>,\n",
              " 'a': range(0, 10),\n",
              " 'array': <function numpy.array>,\n",
              " 'b': 1,\n",
              " 'cube': <function __main__.<lambda>>,\n",
              " 'd': {'x': 1, 'y': 2, 'z': 3},\n",
              " 'even': <function __main__.even>,\n",
              " 'evev': <function __main__.evev>,\n",
              " 'exit': <IPython.core.autocall.ZMQExitAutocall at 0x7f0287381978>,\n",
              " 'f': <function __main__.square>,\n",
              " 'foo': 4,\n",
              " 'fxy': <function __main__.fxy>,\n",
              " 'get_ipython': <bound method InteractiveShell.get_ipython of <google.colab._shell.Shell object at 0x7f02873648d0>>,\n",
              " 'incr': <function __main__.incr>,\n",
              " 'index': 2,\n",
              " 'least_difference': <function __main__.least_difference>,\n",
              " 'n': 25,\n",
              " 'num': [2002,\n",
              "  2009,\n",
              "  2016,\n",
              "  2023,\n",
              "  2037,\n",
              "  2044,\n",
              "  2051,\n",
              "  2058,\n",
              "  2072,\n",
              "  2079,\n",
              "  2086,\n",
              "  2093,\n",
              "  2107,\n",
              "  2114,\n",
              "  2121,\n",
              "  2128,\n",
              "  2142,\n",
              "  2149,\n",
              "  2156,\n",
              "  2163,\n",
              "  2177,\n",
              "  2184,\n",
              "  2191,\n",
              "  2198,\n",
              "  2212,\n",
              "  2219,\n",
              "  2226,\n",
              "  2233,\n",
              "  2247,\n",
              "  2254,\n",
              "  2261,\n",
              "  2268,\n",
              "  2282,\n",
              "  2289,\n",
              "  2296,\n",
              "  2303,\n",
              "  2317,\n",
              "  2324,\n",
              "  2331,\n",
              "  2338,\n",
              "  2352,\n",
              "  2359,\n",
              "  2366,\n",
              "  2373,\n",
              "  2387,\n",
              "  2394,\n",
              "  2401,\n",
              "  2408,\n",
              "  2422,\n",
              "  2429,\n",
              "  2436,\n",
              "  2443,\n",
              "  2457,\n",
              "  2464,\n",
              "  2471,\n",
              "  2478,\n",
              "  2492,\n",
              "  2499,\n",
              "  2506,\n",
              "  2513,\n",
              "  2527,\n",
              "  2534,\n",
              "  2541,\n",
              "  2548,\n",
              "  2562,\n",
              "  2569,\n",
              "  2576,\n",
              "  2583,\n",
              "  2597,\n",
              "  2604,\n",
              "  2611,\n",
              "  2618,\n",
              "  2632,\n",
              "  2639,\n",
              "  2646,\n",
              "  2653,\n",
              "  2667,\n",
              "  2674,\n",
              "  2681,\n",
              "  2688,\n",
              "  2702,\n",
              "  2709,\n",
              "  2716,\n",
              "  2723,\n",
              "  2737,\n",
              "  2744,\n",
              "  2751,\n",
              "  2758,\n",
              "  2772,\n",
              "  2779,\n",
              "  2786,\n",
              "  2793,\n",
              "  2807,\n",
              "  2814,\n",
              "  2821,\n",
              "  2828,\n",
              "  2842,\n",
              "  2849,\n",
              "  2856,\n",
              "  2863,\n",
              "  2877,\n",
              "  2884,\n",
              "  2891,\n",
              "  2898,\n",
              "  2912,\n",
              "  2919,\n",
              "  2926,\n",
              "  2933,\n",
              "  2947,\n",
              "  2954,\n",
              "  2961,\n",
              "  2968,\n",
              "  2982,\n",
              "  2989,\n",
              "  2996,\n",
              "  3003,\n",
              "  3017,\n",
              "  3024,\n",
              "  3031,\n",
              "  3038,\n",
              "  3052,\n",
              "  3059,\n",
              "  3066,\n",
              "  3073,\n",
              "  3087,\n",
              "  3094,\n",
              "  3101,\n",
              "  3108,\n",
              "  3122,\n",
              "  3129,\n",
              "  3136,\n",
              "  3143,\n",
              "  3157,\n",
              "  3164,\n",
              "  3171,\n",
              "  3178,\n",
              "  3192,\n",
              "  3199],\n",
              " 'quit': <IPython.core.autocall.ZMQExitAutocall at 0x7f0287381978>,\n",
              " 'square': <function __main__.square>,\n",
              " 'sum_of_squares': <function __main__.sum_of_squares>,\n",
              " 'sys': <module 'sys' (built-in)>,\n",
              " 'value': 'c',\n",
              " 'word_frequency': <function __main__.word_frequency>,\n",
              " 'x': range(2000, 3201),\n",
              " 'y': 0}"
            ]
          },
          "metadata": {
            "tags": []
          },
          "execution_count": 101
        }
      ]
    },
    {
      "cell_type": "markdown",
      "metadata": {
        "id": "VasC1SmAWpaG",
        "colab_type": "text"
      },
      "source": [
        "Global() Python stores the variables we use as a dictionary. The globals() function returns all the globals variables in\n",
        "the current environment."
      ]
    },
    {
      "cell_type": "code",
      "metadata": {
        "id": "5i9ijRTRWh-r",
        "colab_type": "code",
        "colab": {
          "base_uri": "https://localhost:8080/",
          "height": 34
        },
        "outputId": "b37de822-4302-4dfa-a4c7-33d29a8a55d0"
      },
      "source": [
        "import os\n",
        "print(os.getcwd())"
      ],
      "execution_count": 102,
      "outputs": [
        {
          "output_type": "stream",
          "text": [
            "/content\n"
          ],
          "name": "stdout"
        }
      ]
    },
    {
      "cell_type": "markdown",
      "metadata": {
        "id": "xAAjwTtqXL_y",
        "colab_type": "text"
      },
      "source": [
        "The urllib module provides functionality to download webpages."
      ]
    },
    {
      "cell_type": "code",
      "metadata": {
        "id": "BRc7eQJzXBXT",
        "colab_type": "code",
        "colab": {
          "base_uri": "https://localhost:8080/",
          "height": 340
        },
        "outputId": "964800d6-7de2-4ff5-a21d-28fedcad02d6"
      },
      "source": [
        "import urllib.request\n",
        "response = urllib.request.urlopen(\"http://python.org/\")\n",
        "print(response.headers)"
      ],
      "execution_count": 104,
      "outputs": [
        {
          "output_type": "stream",
          "text": [
            "Connection: close\n",
            "Content-Length: 48990\n",
            "Server: nginx\n",
            "Content-Type: text/html; charset=utf-8\n",
            "X-Frame-Options: DENY\n",
            "Via: 1.1 vegur\n",
            "Via: 1.1 varnish\n",
            "Accept-Ranges: bytes\n",
            "Date: Mon, 25 May 2020 15:05:31 GMT\n",
            "Via: 1.1 varnish\n",
            "Age: 3570\n",
            "X-Served-By: cache-bwi5128-BWI, cache-sea4443-SEA\n",
            "X-Cache: HIT, HIT\n",
            "X-Cache-Hits: 1, 22\n",
            "X-Timer: S1590419131.282239,VS0,VE0\n",
            "Vary: Cookie\n",
            "Strict-Transport-Security: max-age=63072000; includeSubDomains\n",
            "\n",
            "\n"
          ],
          "name": "stdout"
        }
      ]
    },
    {
      "cell_type": "code",
      "metadata": {
        "id": "g-Q0TI7OXVp6",
        "colab_type": "code",
        "colab": {}
      },
      "source": [
        "class BankAccount:\n",
        "  def __init__(self):\n",
        "    self.balance =0\n",
        "  def withdraw(self ,amount):\n",
        "     self.balance -= amount\n",
        "     return self.balance\n",
        "  def deposit(self, amount):\n",
        "    self.balance += amount\n",
        "    return self.balance\n"
      ],
      "execution_count": 0,
      "outputs": []
    },
    {
      "cell_type": "code",
      "metadata": {
        "id": "oWY8TsI8whcv",
        "colab_type": "code",
        "colab": {
          "base_uri": "https://localhost:8080/",
          "height": 34
        },
        "outputId": "ca5eb344-2b84-4b57-ab42-cd3a4a9776ac"
      },
      "source": [
        "a= BankAccount()\n",
        "a.deposit(1000)"
      ],
      "execution_count": 107,
      "outputs": [
        {
          "output_type": "execute_result",
          "data": {
            "text/plain": [
              "1000"
            ]
          },
          "metadata": {
            "tags": []
          },
          "execution_count": 107
        }
      ]
    },
    {
      "cell_type": "code",
      "metadata": {
        "id": "GDZVMHEHwj3x",
        "colab_type": "code",
        "colab": {
          "base_uri": "https://localhost:8080/",
          "height": 34
        },
        "outputId": "0aca0551-5305-4e75-d93c-70e818db00b4"
      },
      "source": [
        "a.withdraw(500)"
      ],
      "execution_count": 108,
      "outputs": [
        {
          "output_type": "execute_result",
          "data": {
            "text/plain": [
              "500"
            ]
          },
          "metadata": {
            "tags": []
          },
          "execution_count": 108
        }
      ]
    },
    {
      "cell_type": "code",
      "metadata": {
        "id": "4taZvLQAwmHW",
        "colab_type": "code",
        "colab": {}
      },
      "source": [
        "class MinimumBalanceAccount(BankAccount):\n",
        "  def __init__(self, minimum_balance):\n",
        "    BankAccount.__init__(self)\n",
        "    self.minimum_balance= minimum_balance\n",
        "  def withdraw(self, amount):\n",
        "    if self.balance -amount < self.minimum_balance:\n",
        "      print('Sorry, minimum balance must be maintained.')\n",
        "    else:\n",
        "      BankAccount.withdraw(self, amount)\n"
      ],
      "execution_count": 0,
      "outputs": []
    },
    {
      "cell_type": "code",
      "metadata": {
        "id": "YDsU1emBw_KN",
        "colab_type": "code",
        "colab": {}
      },
      "source": [
        "class A:\n",
        "  def f(self):\n",
        "    return self.g()\n",
        "  def g(Self):\n",
        "    return 'A'\n",
        "\n",
        "class B(A):\n",
        "  def g(Self):\n",
        "    return 'B'"
      ],
      "execution_count": 0,
      "outputs": []
    },
    {
      "cell_type": "code",
      "metadata": {
        "id": "dfUMw2kCBhrg",
        "colab_type": "code",
        "colab": {
          "base_uri": "https://localhost:8080/",
          "height": 51
        },
        "outputId": "0f1905a4-6850-49d2-f141-ccd0a25cec08"
      },
      "source": [
        "a= A()\n",
        "b = B()\n",
        "print(a.f(),b.f())\n",
        "print(a.g(),b.g())"
      ],
      "execution_count": 115,
      "outputs": [
        {
          "output_type": "stream",
          "text": [
            "A B\n",
            "A B\n"
          ],
          "name": "stdout"
        }
      ]
    },
    {
      "cell_type": "code",
      "metadata": {
        "id": "kTWvhVK0Bsrk",
        "colab_type": "code",
        "colab": {}
      },
      "source": [
        "class Canvas:\n",
        "  def __init__(self, width, height):\n",
        "    self.width= width\n",
        "    self.height= height\n",
        "    self.data = [[' '] * width for i in range(height)]\n",
        "  def setpixel(self, row, col):\n",
        "    self.data[row][col] = '*'\n",
        "  def getpixel(self, row, col):\n",
        "    return self.data[row][col]\n",
        "  def display(self):\n",
        "    print(\"\\n\".join([\"\".join(row) for row in self.data]))\n",
        "\n",
        "class Shape:\n",
        "  def paint(self, canvas): pass\n",
        "\n",
        "class Rectangle(Shape):\n",
        "  def __init__(self, x, y, w, h):\n",
        "    self.x = x\n",
        "    self.y = y\n",
        "    self.w = w\n",
        "    self.h = h\n",
        "  def hline(self, x, y, w):\n",
        "    pass\n",
        "  def vline(self, x, y, h):\n",
        "    pass\n",
        "  def paint(self, canvas):\n",
        "    hline(self.x, self.y, self.w)\n",
        "    hline(self.x, self.y + self.h, self.w)\n",
        "    vline(self.x, self.y, self.h)\n",
        "    vline(self.x + self.w, self.y, self.h)\n",
        "class Square(Rectangle):\n",
        "  def __init__(self, x, y, size):\n",
        "    Rectangle.__init__(self, x, y, size, size)\n",
        "class CompoundShape(Shape):\n",
        "  def __init__(self, shapes):\n",
        "    self.shapes = shapes\n",
        "  def paint(self, canvas):\n",
        "    for s in self.shapes:\n",
        "      s.paint(canvas)\n"
      ],
      "execution_count": 0,
      "outputs": []
    },
    {
      "cell_type": "code",
      "metadata": {
        "id": "V_psDRxfDkyB",
        "colab_type": "code",
        "colab": {
          "base_uri": "https://localhost:8080/",
          "height": 163
        },
        "outputId": "ef345bc3-bcda-4e04-fa0d-67ce8625a933"
      },
      "source": [
        "foo1"
      ],
      "execution_count": 118,
      "outputs": [
        {
          "output_type": "error",
          "ename": "NameError",
          "evalue": "ignored",
          "traceback": [
            "\u001b[0;31m---------------------------------------------------------------------------\u001b[0m",
            "\u001b[0;31mNameError\u001b[0m                                 Traceback (most recent call last)",
            "\u001b[0;32m<ipython-input-118-58851ae2166b>\u001b[0m in \u001b[0;36m<module>\u001b[0;34m()\u001b[0m\n\u001b[0;32m----> 1\u001b[0;31m \u001b[0mfoo1\u001b[0m\u001b[0;34m\u001b[0m\u001b[0;34m\u001b[0m\u001b[0m\n\u001b[0m",
            "\u001b[0;31mNameError\u001b[0m: name 'foo1' is not defined"
          ]
        }
      ]
    },
    {
      "cell_type": "code",
      "metadata": {
        "id": "Kb-XSfzdD5BV",
        "colab_type": "code",
        "colab": {
          "base_uri": "https://localhost:8080/",
          "height": 163
        },
        "outputId": "bbd84f83-a9e1-4ddc-c53b-833b26319de8"
      },
      "source": [
        "\"foo\"+ 2"
      ],
      "execution_count": 120,
      "outputs": [
        {
          "output_type": "error",
          "ename": "TypeError",
          "evalue": "ignored",
          "traceback": [
            "\u001b[0;31m---------------------------------------------------------------------------\u001b[0m",
            "\u001b[0;31mTypeError\u001b[0m                                 Traceback (most recent call last)",
            "\u001b[0;32m<ipython-input-120-a21fcabe829b>\u001b[0m in \u001b[0;36m<module>\u001b[0;34m()\u001b[0m\n\u001b[0;32m----> 1\u001b[0;31m \u001b[0;34m\"foo\"\u001b[0m\u001b[0;34m+\u001b[0m \u001b[0;36m2\u001b[0m\u001b[0;34m\u001b[0m\u001b[0;34m\u001b[0m\u001b[0m\n\u001b[0m",
            "\u001b[0;31mTypeError\u001b[0m: must be str, not int"
          ]
        }
      ]
    },
    {
      "cell_type": "code",
      "metadata": {
        "id": "ypzLTEcGD-W4",
        "colab_type": "code",
        "colab": {
          "base_uri": "https://localhost:8080/",
          "height": 163
        },
        "outputId": "967307e6-030b-46a8-c9ba-07c8b883de53"
      },
      "source": [
        "2/0"
      ],
      "execution_count": 121,
      "outputs": [
        {
          "output_type": "error",
          "ename": "ZeroDivisionError",
          "evalue": "ignored",
          "traceback": [
            "\u001b[0;31m---------------------------------------------------------------------------\u001b[0m",
            "\u001b[0;31mZeroDivisionError\u001b[0m                         Traceback (most recent call last)",
            "\u001b[0;32m<ipython-input-121-e8326a161779>\u001b[0m in \u001b[0;36m<module>\u001b[0;34m()\u001b[0m\n\u001b[0;32m----> 1\u001b[0;31m \u001b[0;36m2\u001b[0m\u001b[0;34m/\u001b[0m\u001b[0;36m0\u001b[0m\u001b[0;34m\u001b[0m\u001b[0;34m\u001b[0m\u001b[0m\n\u001b[0m",
            "\u001b[0;31mZeroDivisionError\u001b[0m: division by zero"
          ]
        }
      ]
    },
    {
      "cell_type": "code",
      "metadata": {
        "id": "8uZjr-BpEF10",
        "colab_type": "code",
        "colab": {
          "base_uri": "https://localhost:8080/",
          "height": 163
        },
        "outputId": "32c95287-a89a-413f-d16a-3ff07c607bb1"
      },
      "source": [
        "open(\"not-there.txt\")"
      ],
      "execution_count": 122,
      "outputs": [
        {
          "output_type": "error",
          "ename": "FileNotFoundError",
          "evalue": "ignored",
          "traceback": [
            "\u001b[0;31m---------------------------------------------------------------------------\u001b[0m",
            "\u001b[0;31mFileNotFoundError\u001b[0m                         Traceback (most recent call last)",
            "\u001b[0;32m<ipython-input-122-3920bbae1c50>\u001b[0m in \u001b[0;36m<module>\u001b[0;34m()\u001b[0m\n\u001b[0;32m----> 1\u001b[0;31m \u001b[0mopen\u001b[0m\u001b[0;34m(\u001b[0m\u001b[0;34m\"not-there.txt\"\u001b[0m\u001b[0;34m)\u001b[0m\u001b[0;34m\u001b[0m\u001b[0;34m\u001b[0m\u001b[0m\n\u001b[0m",
            "\u001b[0;31mFileNotFoundError\u001b[0m: [Errno 2] No such file or directory: 'not-there.txt'"
          ]
        }
      ]
    },
    {
      "cell_type": "code",
      "metadata": {
        "id": "5RcOLQS3EK38",
        "colab_type": "code",
        "colab": {}
      },
      "source": [
        ""
      ],
      "execution_count": 0,
      "outputs": []
    },
    {
      "cell_type": "markdown",
      "metadata": {
        "id": "uj-JNL1EEaRi",
        "colab_type": "text"
      },
      "source": [
        "Exception is raised using the raised keyword.\n",
        "raise Exception(\"error message\")\n",
        "All the exceptions are extended from the built-in Exception class.\n",
        "class ParseError(Exception): pass"
      ]
    },
    {
      "cell_type": "code",
      "metadata": {
        "id": "bjuOEjA2D4Bo",
        "colab_type": "code",
        "colab": {
          "base_uri": "https://localhost:8080/",
          "height": 68
        },
        "outputId": "bcce4d72-2577-45b6-8bc2-ecd8b8c62b79"
      },
      "source": [
        "try:\n",
        "  print( \"a\")\n",
        "  raise Exception(\"doom\")\n",
        "except:\n",
        "  print(\"b\")\n",
        "else:\n",
        "  print(\"c\")\n",
        "finally:\n",
        "  print(\"d\")\n"
      ],
      "execution_count": 123,
      "outputs": [
        {
          "output_type": "stream",
          "text": [
            "a\n",
            "b\n",
            "d\n"
          ],
          "name": "stdout"
        }
      ]
    },
    {
      "cell_type": "code",
      "metadata": {
        "id": "Pqs-hj1RE2hM",
        "colab_type": "code",
        "colab": {
          "base_uri": "https://localhost:8080/",
          "height": 51
        },
        "outputId": "3035973f-45f4-488d-a7c7-cba0bbe2ec2e"
      },
      "source": [
        "def f():\n",
        "  try:\n",
        "    print(\"a\")\n",
        "    return\n",
        "  except:\n",
        "    print(\"b\")\n",
        "  else:\n",
        "    print(\"c\")\n",
        "  finally:\n",
        "    print(\"d\")\n",
        "  \n",
        "f()"
      ],
      "execution_count": 124,
      "outputs": [
        {
          "output_type": "stream",
          "text": [
            "a\n",
            "d\n"
          ],
          "name": "stdout"
        }
      ]
    },
    {
      "cell_type": "code",
      "metadata": {
        "id": "fC7NPaaNFLx3",
        "colab_type": "code",
        "colab": {
          "base_uri": "https://localhost:8080/",
          "height": 85
        },
        "outputId": "4f089a7e-fc7c-43e2-8dde-3da33d1b06e5"
      },
      "source": [
        "for i in [1,2,3,4]:\n",
        "  print(i)"
      ],
      "execution_count": 125,
      "outputs": [
        {
          "output_type": "stream",
          "text": [
            "1\n",
            "2\n",
            "3\n",
            "4\n"
          ],
          "name": "stdout"
        }
      ]
    },
    {
      "cell_type": "code",
      "metadata": {
        "id": "CTJ6w7IAGHmc",
        "colab_type": "code",
        "colab": {
          "base_uri": "https://localhost:8080/",
          "height": 119
        },
        "outputId": "2f0a5486-3049-4bf8-fe68-644fa2847a08"
      },
      "source": [
        "for c in \"python\":\n",
        "  print(c)"
      ],
      "execution_count": 126,
      "outputs": [
        {
          "output_type": "stream",
          "text": [
            "p\n",
            "y\n",
            "t\n",
            "h\n",
            "o\n",
            "n\n"
          ],
          "name": "stdout"
        }
      ]
    },
    {
      "cell_type": "markdown",
      "metadata": {
        "id": "4Tw9xiRYGZH4",
        "colab_type": "text"
      },
      "source": [
        "The built-in function iter takes an iterable object and returns an iterator."
      ]
    },
    {
      "cell_type": "code",
      "metadata": {
        "id": "chjTxGJsGLH7",
        "colab_type": "code",
        "colab": {
          "base_uri": "https://localhost:8080/",
          "height": 34
        },
        "outputId": "268a5a29-9da2-4c56-b058-0aae4841f0ee"
      },
      "source": [
        "x = iter([1, 2, 3])\n",
        "x"
      ],
      "execution_count": 127,
      "outputs": [
        {
          "output_type": "execute_result",
          "data": {
            "text/plain": [
              "<list_iterator at 0x7f0279f9b3c8>"
            ]
          },
          "metadata": {
            "tags": []
          },
          "execution_count": 127
        }
      ]
    },
    {
      "cell_type": "markdown",
      "metadata": {
        "id": "UEJJrIGBG4SS",
        "colab_type": "text"
      },
      "source": [
        "Generators simplifies creation of iterators. A generator is a function that produces a sequence of results instead of\n",
        "a single value."
      ]
    },
    {
      "cell_type": "code",
      "metadata": {
        "id": "VjvbLwGEGe9-",
        "colab_type": "code",
        "colab": {}
      },
      "source": [
        "def yrange(n):\n",
        "  i = 0\n",
        "  while i < n:\n",
        "    yield i\n",
        "    i += 1"
      ],
      "execution_count": 0,
      "outputs": []
    },
    {
      "cell_type": "code",
      "metadata": {
        "id": "C0wf3fK9G-2Q",
        "colab_type": "code",
        "colab": {
          "base_uri": "https://localhost:8080/",
          "height": 34
        },
        "outputId": "1e4cb659-f130-4f60-bbcf-e53feaf5c9f9"
      },
      "source": [
        "y= yrange(3)\n",
        "y"
      ],
      "execution_count": 130,
      "outputs": [
        {
          "output_type": "execute_result",
          "data": {
            "text/plain": [
              "<generator object yrange at 0x7f0279f836d0>"
            ]
          },
          "metadata": {
            "tags": []
          },
          "execution_count": 130
        }
      ]
    },
    {
      "cell_type": "markdown",
      "metadata": {
        "id": "NQ6fLb3QHVZL",
        "colab_type": "text"
      },
      "source": [
        "When a generator function is called, it returns a generator object without even beginning execution of the function.\n",
        "When next method is called for the first time, the function starts executing until it reaches yield statement.\n",
        "The yielded value is returned by the next call."
      ]
    },
    {
      "cell_type": "code",
      "metadata": {
        "id": "ssOBouR3HDrT",
        "colab_type": "code",
        "colab": {}
      },
      "source": [
        "def foo():\n",
        "  print(\"begin\")\n",
        "  for i in range(3):\n",
        "    print(\"before yield\", i)\n",
        "    yield i\n",
        "    print(\"after yield\", i)\n",
        "  print(\"end\")"
      ],
      "execution_count": 0,
      "outputs": []
    },
    {
      "cell_type": "code",
      "metadata": {
        "id": "Dko-mY2THqJM",
        "colab_type": "code",
        "colab": {}
      },
      "source": [
        "f=foo()"
      ],
      "execution_count": 0,
      "outputs": []
    },
    {
      "cell_type": "markdown",
      "metadata": {
        "id": "Y0W2BW9oIH7J",
        "colab_type": "text"
      },
      "source": [
        "Reading multiple files"
      ]
    },
    {
      "cell_type": "code",
      "metadata": {
        "id": "srHzk1N2Ht6S",
        "colab_type": "code",
        "colab": {}
      },
      "source": [
        "def cat(filenames):\n",
        "  for f in filenames:\n",
        "    for line in open(f):\n",
        "      print(line)"
      ],
      "execution_count": 0,
      "outputs": []
    },
    {
      "cell_type": "code",
      "metadata": {
        "id": "YqP2CKQMIQMP",
        "colab_type": "code",
        "colab": {}
      },
      "source": [
        "#Now, lets say we want to print only the line which has a particular substring, like grep command in unix.\n",
        "def grep(pattern, filenames):\n",
        "  for f in filenames:\n",
        "    for line in open(f):\n",
        "      if pattern in line:\n",
        "        print(line)"
      ],
      "execution_count": 0,
      "outputs": []
    },
    {
      "cell_type": "code",
      "metadata": {
        "id": "YVFqleCqIcgU",
        "colab_type": "code",
        "colab": {}
      },
      "source": [
        ""
      ],
      "execution_count": 0,
      "outputs": []
    },
    {
      "cell_type": "code",
      "metadata": {
        "id": "qD5moqj0Hvc-",
        "colab_type": "code",
        "colab": {}
      },
      "source": [
        ""
      ],
      "execution_count": 0,
      "outputs": []
    },
    {
      "cell_type": "code",
      "metadata": {
        "id": "ws_G1fSCGgXJ",
        "colab_type": "code",
        "colab": {}
      },
      "source": [
        ""
      ],
      "execution_count": 0,
      "outputs": []
    }
  ]
}