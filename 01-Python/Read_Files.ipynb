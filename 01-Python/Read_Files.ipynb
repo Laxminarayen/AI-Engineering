{
  "nbformat": 4,
  "nbformat_minor": 0,
  "metadata": {
    "colab": {
      "name": "Read Files.ipynb",
      "provenance": [],
      "collapsed_sections": [],
      "authorship_tag": "ABX9TyNk7MvgfPIKW6HYbzZXt8Gx",
      "include_colab_link": true
    },
    "kernelspec": {
      "name": "python3",
      "display_name": "Python 3"
    }
  },
  "cells": [
    {
      "cell_type": "markdown",
      "metadata": {
        "id": "view-in-github",
        "colab_type": "text"
      },
      "source": [
        "<a href=\"https://colab.research.google.com/github/plthiyagu/Personnel/blob/master/Read_Files.ipynb\" target=\"_parent\"><img src=\"https://colab.research.google.com/assets/colab-badge.svg\" alt=\"Open In Colab\"/></a>"
      ]
    },
    {
      "cell_type": "code",
      "metadata": {
        "id": "cMgH5KD2Zq4r",
        "colab_type": "code",
        "colab": {}
      },
      "source": [
        "import time\n",
        "import os\n",
        "from glob import glob\n",
        "from pathlib import Path"
      ],
      "execution_count": null,
      "outputs": []
    },
    {
      "cell_type": "code",
      "metadata": {
        "id": "KBl35F5sZrij",
        "colab_type": "code",
        "colab": {}
      },
      "source": [
        "def run_os_walk():\n",
        "    a = time.time_ns()\n",
        "    for i in range(RUNS):\n",
        "        fu = [x[0] for x in os.walk(directory)]\n",
        "    print(f\"os.walk\\t\\t\\ttook {(time.time_ns() - a) / 1000 / 1000 / RUNS:.0f} ms. Found dirs: {len(fu)}\")\n",
        "\n",
        "\n",
        "def run_glob():\n",
        "    a = time.time_ns()\n",
        "    for i in range(RUNS):\n",
        "        fu = glob(directory + \"/*/\")\n",
        "    print(f\"glob.glob\\t\\ttook {(time.time_ns() - a) / 1000 / 1000 / RUNS:.0f} ms. Found dirs: {len(fu)}\")\n",
        "\n",
        "\n",
        "def run_pathlib_iterdir():\n",
        "    a = time.time_ns()\n",
        "    for i in range(RUNS):\n",
        "        dirname = Path(directory)\n",
        "        fu = [f for f in dirname.iterdir() if f.is_dir()]\n",
        "    print(f\"pathlib.iterdir\\ttook {(time.time_ns() - a) / 1000 / 1000 / RUNS:.0f} ms. Found dirs: {len(fu)}\")\n",
        "\n",
        "\n",
        "def run_os_listdir():\n",
        "    a = time.time_ns()\n",
        "    for i in range(RUNS):\n",
        "        dirname = Path(directory)\n",
        "        fu = [os.path.join(directory, o) for o in os.listdir(directory) if os.path.isdir(os.path.join(directory, o))]\n",
        "    print(f\"os.listdir\\t\\ttook {(time.time_ns() - a) / 1000 / 1000 / RUNS:.0f} ms. Found dirs: {len(fu)}\")\n",
        "\n",
        "\n",
        "def run_os_scandir():\n",
        "    a = time.time_ns()\n",
        "    for i in range(RUNS):\n",
        "        fu = [f.path for f in os.scandir(directory) if f.is_dir()]\n",
        "    print(f\"os.scandir\\t\\ttook {(time.time_ns() - a) / 1000 / 1000 / RUNS:.0f} ms.\\tFound dirs: {len(fu)}\")\n"
      ],
      "execution_count": null,
      "outputs": []
    },
    {
      "cell_type": "code",
      "metadata": {
        "id": "Xy1NduuYZ8Fk",
        "colab_type": "code",
        "colab": {}
      },
      "source": [
        "run_os_scandir()\n",
        "run_os_walk()\n",
        "run_glob()\n",
        "run_pathlib_iterdir()\n",
        "run_os_listdir()\n"
      ],
      "execution_count": null,
      "outputs": []
    }
  ]
}