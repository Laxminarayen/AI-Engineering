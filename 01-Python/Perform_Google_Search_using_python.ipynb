{
  "nbformat": 4,
  "nbformat_minor": 0,
  "metadata": {
    "colab": {
      "name": "Perform Google Search using python.ipynb",
      "provenance": [],
      "authorship_tag": "ABX9TyMgM/abZnpr3Z8AT6xlG9zK",
      "include_colab_link": true
    },
    "kernelspec": {
      "name": "python3",
      "display_name": "Python 3"
    }
  },
  "cells": [
    {
      "cell_type": "markdown",
      "metadata": {
        "id": "view-in-github",
        "colab_type": "text"
      },
      "source": [
        "<a href=\"https://colab.research.google.com/github/plthiyagu/Personnel/blob/master/Perform_Google_Search_using_python.ipynb\" target=\"_parent\"><img src=\"https://colab.research.google.com/assets/colab-badge.svg\" alt=\"Open In Colab\"/></a>"
      ]
    },
    {
      "cell_type": "code",
      "metadata": {
        "id": "Qgz9_-MJbh5c",
        "colab_type": "code",
        "colab": {
          "base_uri": "https://localhost:8080/",
          "height": 51
        },
        "outputId": "297c3389-45a5-4f9f-d93a-cebc6b8bd616"
      },
      "source": [
        "!pip install google"
      ],
      "execution_count": 1,
      "outputs": [
        {
          "output_type": "stream",
          "text": [
            "Requirement already satisfied: google in /usr/local/lib/python3.6/dist-packages (2.0.3)\n",
            "Requirement already satisfied: beautifulsoup4 in /usr/local/lib/python3.6/dist-packages (from google) (4.6.3)\n"
          ],
          "name": "stdout"
        }
      ]
    },
    {
      "cell_type": "code",
      "metadata": {
        "id": "9FM30z6Tbnj_",
        "colab_type": "code",
        "colab": {}
      },
      "source": [
        "from googlesearch import  search"
      ],
      "execution_count": 2,
      "outputs": []
    },
    {
      "cell_type": "markdown",
      "metadata": {
        "id": "0l9mBkYecmNz",
        "colab_type": "text"
      },
      "source": [
        "query = query string that we want to search for\n",
        "tld: tld stands for top level domain which means we want to search our resulton google.com or google.co.in\n",
        "num: Number of Results we want\n",
        "stop: Last result to retrive. Use None to keep searching forever.\n",
        "Pause: lapse to wait between http request."
      ]
    },
    {
      "cell_type": "code",
      "metadata": {
        "id": "nUXjrIDEbuBk",
        "colab_type": "code",
        "colab": {
          "base_uri": "https://localhost:8080/",
          "height": 187
        },
        "outputId": "3e7b622b-7e86-404f-8849-ac5e9793a3bc"
      },
      "source": [
        "query=\"digitalsummary\"\n",
        "\n",
        "for i in search(query, tld=\"co.in\",num=10,stop=10,pause=2):\n",
        "  print(i)"
      ],
      "execution_count": 3,
      "outputs": [
        {
          "output_type": "stream",
          "text": [
            "https://digitalsynopsis.com/\n",
            "https://digitalsynopsis.com/tag/funny/\n",
            "https://digitalsynopsis.com/tag/colors/\n",
            "https://digitalsynopsis.com/tag/logos/\n",
            "https://digitalsynopsis.com/tag/trends/\n",
            "https://www.sakipsabancimuzesi.org/en/page/digital-summary\n",
            "https://www.ncbi.nlm.nih.gov/pubmed/16729221\n",
            "https://www.slideshare.net/ramadd1951/leading-digital-summary\n",
            "https://www.currenttrack.com/digital-summary/\n",
            "https://www.ledsmagazine.com/resources/event/14174945/lps-digital-summary-event\n"
          ],
          "name": "stdout"
        }
      ]
    },
    {
      "cell_type": "code",
      "metadata": {
        "id": "GRtdyHNyb--Z",
        "colab_type": "code",
        "colab": {}
      },
      "source": [
        ""
      ],
      "execution_count": null,
      "outputs": []
    }
  ]
}