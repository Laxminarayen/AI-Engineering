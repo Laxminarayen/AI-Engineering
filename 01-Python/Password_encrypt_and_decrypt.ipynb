{
  "nbformat": 4,
  "nbformat_minor": 0,
  "metadata": {
    "colab": {
      "name": "Password encrypt and decrypt.ipynb",
      "provenance": [],
      "collapsed_sections": [],
      "authorship_tag": "ABX9TyPSKb43eG1WZogown6YKwWI",
      "include_colab_link": true
    },
    "kernelspec": {
      "name": "python3",
      "display_name": "Python 3"
    }
  },
  "cells": [
    {
      "cell_type": "markdown",
      "metadata": {
        "id": "view-in-github",
        "colab_type": "text"
      },
      "source": [
        "<a href=\"https://colab.research.google.com/github/plthiyagu/Personnel/blob/master/Password_encrypt_and_decrypt.ipynb\" target=\"_parent\"><img src=\"https://colab.research.google.com/assets/colab-badge.svg\" alt=\"Open In Colab\"/></a>"
      ]
    },
    {
      "cell_type": "code",
      "metadata": {
        "id": "xOkKqXgK056g",
        "colab_type": "code",
        "colab": {
          "base_uri": "https://localhost:8080/",
          "height": 255
        },
        "outputId": "da4b5cee-d214-488f-e34b-387ddb61aa88",
        "tags": []
      },
      "source": [
        "!pip install Fernet"
      ],
      "execution_count": 1,
      "outputs": [
        {
          "output_type": "stream",
          "name": "stdout",
          "text": "Collecting Fernet\n  Downloading https://files.pythonhosted.org/packages/70/ab/59678e91d691a6121b98b3272d563da84160e03d865a236df93fb2910684/fernet-1.0.1.tar.gz\nCollecting pyaes\n  Downloading https://files.pythonhosted.org/packages/44/66/2c17bae31c906613795711fc78045c285048168919ace2220daa372c7d72/pyaes-1.6.1.tar.gz\nBuilding wheels for collected packages: Fernet, pyaes\n  Building wheel for Fernet (setup.py): started\n  Building wheel for Fernet (setup.py): finished with status &#39;done&#39;\n  Created wheel for Fernet: filename=fernet-1.0.1-cp38-none-any.whl size=2247 sha256=28251b1c5a5e1e9f28f196bd85eeaf18d1d782165bf4c8d84f361115d927b5a0\n  Stored in directory: C:\\Users\\plthi\\AppData\\Local\\pip\\Cache\\wheels\\f3\\43\\c3\\8ceadf7f614a43784db0955f4c8957af6a083a060c564b5242\n  Building wheel for pyaes (setup.py): started\n  Building wheel for pyaes (setup.py): finished with status &#39;done&#39;\n  Created wheel for pyaes: filename=pyaes-1.6.1-cp38-none-any.whl size=26350 sha256=bd75c7bf03d33b58dfe88a1912f6ace3fa786d4f618e3a432ee0e87231fd1c01\n  Stored in directory: C:\\Users\\plthi\\AppData\\Local\\pip\\Cache\\wheels\\bd\\cf\\7b\\ced9e8f28c50ed666728e8ab178ffedeb9d06f6a10f85d6432\nSuccessfully built Fernet pyaes\nInstalling collected packages: pyaes, Fernet\nSuccessfully installed Fernet-1.0.1 pyaes-1.6.1\n"
        }
      ]
    },
    {
      "cell_type": "code",
      "metadata": {
        "id": "ZLzJ5OZS1JqM",
        "colab_type": "code",
        "colab": {}
      },
      "source": [
        "import secrets\n",
        "from base64 import urlsafe_b64encode as b64e, urlsafe_b64decode as b64d\n",
        "\n",
        "from cryptography.fernet import Fernet\n",
        "from cryptography.hazmat.backends import default_backend\n",
        "from cryptography.hazmat.primitives import hashes\n",
        "from cryptography.hazmat.primitives.kdf.pbkdf2 import PBKDF2HMAC\n",
        "\n",
        "backend = default_backend()\n",
        "iterations = 100_000\n",
        "\n",
        "def _derive_key(password: bytes, salt: bytes, iterations: int = iterations) -> bytes:\n",
        "    \"\"\"Derive a secret key from a given password and salt\"\"\"\n",
        "    kdf = PBKDF2HMAC(\n",
        "        algorithm=hashes.SHA256(), length=32, salt=salt,\n",
        "        iterations=iterations, backend=backend)\n",
        "    return b64e(kdf.derive(password))\n",
        "\n",
        "def password_encrypt(message: bytes, password: str, iterations: int = iterations) -> bytes:\n",
        "    salt = secrets.token_bytes(16)\n",
        "    key = _derive_key(password.encode(), salt, iterations)\n",
        "    return b64e(\n",
        "        b'%b%b%b' % (\n",
        "            salt,\n",
        "            iterations.to_bytes(4, 'big'),\n",
        "            b64d(Fernet(key).encrypt(message)),\n",
        "        )\n",
        "    )\n",
        "\n",
        "def password_decrypt(token: bytes, password: str) -> bytes:\n",
        "    decoded = b64d(token)\n",
        "    salt, iter, token = decoded[:16], decoded[16:20], b64e(decoded[20:])\n",
        "    iterations = int.from_bytes(iter, 'big')\n",
        "    key = _derive_key(password.encode(), salt, iterations)\n",
        "    return Fernet(key).decrypt(token)\n"
      ],
      "execution_count": 2,
      "outputs": [
        {
          "output_type": "error",
          "ename": "ModuleNotFoundError",
          "evalue": "No module named &#39;cryptography&#39;",
          "traceback": [
            "\u001b[1;31m---------------------------------------------------------------------------\u001b[0m",
            "\u001b[1;31mModuleNotFoundError\u001b[0m                       Traceback (most recent call last)",
            "\u001b[1;32m&lt;ipython-input-2-b0bcfad13618&gt;\u001b[0m in \u001b[0;36m&lt;module&gt;\u001b[1;34m\u001b[0m\n\u001b[0;32m      2\u001b[0m \u001b[1;32mfrom\u001b[0m \u001b[0mbase64\u001b[0m \u001b[1;32mimport\u001b[0m \u001b[0murlsafe_b64encode\u001b[0m \u001b[1;32mas\u001b[0m \u001b[0mb64e\u001b[0m\u001b[1;33m,\u001b[0m \u001b[0murlsafe_b64decode\u001b[0m \u001b[1;32mas\u001b[0m \u001b[0mb64d\u001b[0m\u001b[1;33m\u001b[0m\u001b[1;33m\u001b[0m\u001b[0m\n\u001b[0;32m      3\u001b[0m \u001b[1;33m\u001b[0m\u001b[0m\n\u001b[1;32m----&gt; 4\u001b[1;33m \u001b[1;32mfrom\u001b[0m \u001b[0mcryptography\u001b[0m\u001b[1;33m.\u001b[0m\u001b[0mfernet\u001b[0m \u001b[1;32mimport\u001b[0m \u001b[0mFernet\u001b[0m\u001b[1;33m\u001b[0m\u001b[1;33m\u001b[0m\u001b[0m\n\u001b[0m\u001b[0;32m      5\u001b[0m \u001b[1;32mfrom\u001b[0m \u001b[0mcryptography\u001b[0m\u001b[1;33m.\u001b[0m\u001b[0mhazmat\u001b[0m\u001b[1;33m.\u001b[0m\u001b[0mbackends\u001b[0m \u001b[1;32mimport\u001b[0m \u001b[0mdefault_backend\u001b[0m\u001b[1;33m\u001b[0m\u001b[1;33m\u001b[0m\u001b[0m\n\u001b[0;32m      6\u001b[0m \u001b[1;32mfrom\u001b[0m \u001b[0mcryptography\u001b[0m\u001b[1;33m.\u001b[0m\u001b[0mhazmat\u001b[0m\u001b[1;33m.\u001b[0m\u001b[0mprimitives\u001b[0m \u001b[1;32mimport\u001b[0m \u001b[0mhashes\u001b[0m\u001b[1;33m\u001b[0m\u001b[1;33m\u001b[0m\u001b[0m\n",
            "\u001b[1;31mModuleNotFoundError\u001b[0m: No module named &#39;cryptography&#39;"
          ]
        }
      ]
    },
    {
      "cell_type": "code",
      "metadata": {
        "id": "iPATLk2_1bvX",
        "colab_type": "code",
        "colab": {
          "base_uri": "https://localhost:8080/",
          "height": 35
        },
        "outputId": "b0934188-ca2e-41e2-ef6e-cca803b7dc6e"
      },
      "source": [
        "message = 'John Doe'\n",
        "password = 'mypass'\n",
        "password_encrypt(message.encode(), password)\n",
        "token = '9Ljs-w8IRM3XT1NDBbSBuQABhqCAAAAAAFyJdhiCPXms2vQHO7o81xZJn5r8_PAtro8Qpw48kdKrq4vt-551BCUbcErb_GyYRz8SVsu8hxTXvvKOn9QdewRGDfwx'\n",
        "password_decrypt(token, password).decode()\n"
      ],
      "execution_count": 6,
      "outputs": [
        {
          "output_type": "execute_result",
          "data": {
            "application/vnd.google.colaboratory.intrinsic+json": {
              "type": "string"
            },
            "text/plain": [
              "'John Doe'"
            ]
          },
          "metadata": {
            "tags": []
          },
          "execution_count": 6
        }
      ]
    },
    {
      "cell_type": "code",
      "metadata": {
        "id": "wWF1HAfD10ea",
        "colab_type": "code",
        "colab": {}
      },
      "source": [
        ""
      ],
      "execution_count": null,
      "outputs": []
    }
  ]
}