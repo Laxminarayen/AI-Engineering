{
  "nbformat": 4,
  "nbformat_minor": 0,
  "metadata": {
    "colab": {
      "name": "Garbage Collection.ipynb",
      "provenance": [],
      "authorship_tag": "ABX9TyOB58mgQxe0xEUzMimzmXuV",
      "include_colab_link": true
    },
    "kernelspec": {
      "name": "python3",
      "display_name": "Python 3"
    }
  },
  "cells": [
    {
      "cell_type": "markdown",
      "metadata": {
        "id": "view-in-github",
        "colab_type": "text"
      },
      "source": [
        "<a href=\"https://colab.research.google.com/github/plthiyagu/Personnel/blob/master/Garbage_Collection.ipynb\" target=\"_parent\"><img src=\"https://colab.research.google.com/assets/colab-badge.svg\" alt=\"Open In Colab\"/></a>"
      ]
    },
    {
      "cell_type": "code",
      "metadata": {
        "id": "NO9g0IjaS2u7"
      },
      "source": [
        "import gc"
      ],
      "execution_count": 1,
      "outputs": []
    },
    {
      "cell_type": "code",
      "metadata": {
        "id": "J6TnGEhNS33c",
        "outputId": "63906610-d2fd-4bbf-994c-b564297695ad",
        "colab": {
          "base_uri": "https://localhost:8080/",
          "height": 408
        }
      },
      "source": [
        "i=0\n",
        "def refcycle(): \n",
        "    x = { } \n",
        "    x[i] = x \n",
        "    print(x) \n",
        "  \n",
        "\n",
        "collected = gc.collect()\n",
        "print( \"Garbage collector: collected %d objects.\" % (collected)) \n",
        "#***************************************************************** \n",
        "print( \"Creating cycles...\")\n",
        "for i in range(20): \n",
        "    refcycle() \n",
        "  \n",
        "collected = gc.collect() \n",
        "  \n",
        "print( \"Garbage collector: collected %d objects.\" % (collected))"
      ],
      "execution_count": 2,
      "outputs": [
        {
          "output_type": "stream",
          "text": [
            "Garbage collector: collected 230 objects.\n",
            "Creating cycles...\n",
            "{0: {...}}\n",
            "{1: {...}}\n",
            "{2: {...}}\n",
            "{3: {...}}\n",
            "{4: {...}}\n",
            "{5: {...}}\n",
            "{6: {...}}\n",
            "{7: {...}}\n",
            "{8: {...}}\n",
            "{9: {...}}\n",
            "{10: {...}}\n",
            "{11: {...}}\n",
            "{12: {...}}\n",
            "{13: {...}}\n",
            "{14: {...}}\n",
            "{15: {...}}\n",
            "{16: {...}}\n",
            "{17: {...}}\n",
            "{18: {...}}\n",
            "{19: {...}}\n",
            "Garbage collector: collected 20 objects.\n"
          ],
          "name": "stdout"
        }
      ]
    },
    {
      "cell_type": "code",
      "metadata": {
        "id": "ytPRgQdcTTaT"
      },
      "source": [
        ""
      ],
      "execution_count": null,
      "outputs": []
    }
  ]
}