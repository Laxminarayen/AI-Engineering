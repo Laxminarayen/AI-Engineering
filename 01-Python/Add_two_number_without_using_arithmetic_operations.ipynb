{
  "nbformat": 4,
  "nbformat_minor": 0,
  "metadata": {
    "colab": {
      "name": "Add two number  without using arithmetic operations.ipynb",
      "provenance": [],
      "authorship_tag": "ABX9TyNaLVRjKex6NEQzt9D6SGDt",
      "include_colab_link": true
    },
    "kernelspec": {
      "name": "python3",
      "display_name": "Python 3"
    }
  },
  "cells": [
    {
      "cell_type": "markdown",
      "metadata": {
        "id": "view-in-github",
        "colab_type": "text"
      },
      "source": [
        "<a href=\"https://colab.research.google.com/github/plthiyagu/Personnel/blob/master/Add_two_number_without_using_arithmetic_operations.ipynb\" target=\"_parent\"><img src=\"https://colab.research.google.com/assets/colab-badge.svg\" alt=\"Open In Colab\"/></a>"
      ]
    },
    {
      "cell_type": "code",
      "metadata": {
        "id": "p7lUoMxdU4fX",
        "colab_type": "code",
        "colab": {}
      },
      "source": [
        "#program to add two numbers\n",
        "#using arithmetic operations \"-\" & \"+\"\n",
        "\n",
        "\n",
        "def add(a,b):\n",
        "  if a != b:\n",
        "    #when a is not equal to b\n",
        "    return (a*a-b*b)/(a-b)\n",
        "  else:\n",
        "    return 2*a\n",
        "    #we way also write  2*b\n",
        "    \n"
      ],
      "execution_count": 1,
      "outputs": []
    },
    {
      "cell_type": "code",
      "metadata": {
        "id": "mVutiozKTtVV",
        "colab_type": "code",
        "colab": {
          "base_uri": "https://localhost:8080/",
          "height": 68
        },
        "outputId": "1cb5ac34-e401-4e39-d8b4-0f3f08d752fb"
      },
      "source": [
        "a= int(input(\"Enter 1st no \"))\n",
        "b= int(input(\"Enter 1st no \"))\n",
        "print(\"Sum is\",int(add(a,b)))"
      ],
      "execution_count": 2,
      "outputs": [
        {
          "output_type": "stream",
          "text": [
            "Enter 1st no 4\n",
            "Enter 1st no 8\n",
            "Sum is 12\n"
          ],
          "name": "stdout"
        }
      ]
    },
    {
      "cell_type": "code",
      "metadata": {
        "id": "S33ZrUSAUGNp",
        "colab_type": "code",
        "colab": {}
      },
      "source": [
        "#program to add two numbers\n",
        "#using without arithmetic operations \"-\" & \"+\"\n",
        "def add1(a,b):\n",
        "  #Ieration is continued till carry dimishes\n",
        "  while( b!= 0):\n",
        "    #carry containing common set bits in a and b\n",
        "    carry= a & b # and operator\n",
        "    #Sum of bits of a and b only where at least\n",
        "    #one of the bits in them is not set\n",
        "    a= a ^ b # xor operator\n",
        "    #Carry gets shifted by one so that after\n",
        "    #adding it to gives the required sum\n",
        "    b= carry <<1\n",
        "  return a"
      ],
      "execution_count": 4,
      "outputs": []
    },
    {
      "cell_type": "code",
      "metadata": {
        "id": "QH-6h40aWWuH",
        "colab_type": "code",
        "colab": {
          "base_uri": "https://localhost:8080/",
          "height": 68
        },
        "outputId": "faf156f4-9327-4aac-88ef-dd70ddc2a142"
      },
      "source": [
        "a= int(input(\"Enter 1st no \"))\n",
        "b= int(input(\"Enter 1st no \"))\n",
        "print(\"Sum is\",int(add1(a,b)))"
      ],
      "execution_count": 5,
      "outputs": [
        {
          "output_type": "stream",
          "text": [
            "Enter 1st no 5\n",
            "Enter 1st no 6\n",
            "Sum is 11\n"
          ],
          "name": "stdout"
        }
      ]
    },
    {
      "cell_type": "code",
      "metadata": {
        "id": "5eDtXBQnViSU",
        "colab_type": "code",
        "colab": {}
      },
      "source": [
        ""
      ],
      "execution_count": null,
      "outputs": []
    }
  ]
}