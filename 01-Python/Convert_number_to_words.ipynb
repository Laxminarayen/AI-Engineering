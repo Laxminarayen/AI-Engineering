{
  "nbformat": 4,
  "nbformat_minor": 0,
  "metadata": {
    "colab": {
      "name": "Convert_number_to_words.ipynb",
      "provenance": [],
      "authorship_tag": "ABX9TyMs8FaHaBbPrw4AxgPCDEdC",
      "include_colab_link": true
    },
    "kernelspec": {
      "name": "python3",
      "display_name": "Python 3"
    },
    "language_info": {
      "name": "python"
    }
  },
  "cells": [
    {
      "cell_type": "markdown",
      "metadata": {
        "id": "view-in-github",
        "colab_type": "text"
      },
      "source": [
        "<a href=\"https://colab.research.google.com/github/plthiyagu/AI-Engineering/blob/master/01-Python/Convert_number_to_words.ipynb\" target=\"_parent\"><img src=\"https://colab.research.google.com/assets/colab-badge.svg\" alt=\"Open In Colab\"/></a>"
      ]
    },
    {
      "cell_type": "code",
      "metadata": {
        "colab": {
          "base_uri": "https://localhost:8080/"
        },
        "id": "oo70O-J_fC1n",
        "outputId": "09a3a4f0-46f1-42db-b4b1-2ce5d2cd3322"
      },
      "source": [
        "!pip install num2words"
      ],
      "execution_count": 2,
      "outputs": [
        {
          "output_type": "stream",
          "text": [
            "Collecting num2words\n",
            "  Downloading num2words-0.5.10-py3-none-any.whl (101 kB)\n",
            "\u001b[?25l\r\u001b[K     |███▎                            | 10 kB 22.9 MB/s eta 0:00:01\r\u001b[K     |██████▌                         | 20 kB 28.2 MB/s eta 0:00:01\r\u001b[K     |█████████▊                      | 30 kB 32.3 MB/s eta 0:00:01\r\u001b[K     |█████████████                   | 40 kB 20.2 MB/s eta 0:00:01\r\u001b[K     |████████████████▏               | 51 kB 8.4 MB/s eta 0:00:01\r\u001b[K     |███████████████████▍            | 61 kB 9.0 MB/s eta 0:00:01\r\u001b[K     |██████████████████████▋         | 71 kB 7.3 MB/s eta 0:00:01\r\u001b[K     |█████████████████████████▉      | 81 kB 8.2 MB/s eta 0:00:01\r\u001b[K     |█████████████████████████████   | 92 kB 8.3 MB/s eta 0:00:01\r\u001b[K     |████████████████████████████████| 101 kB 3.5 MB/s \n",
            "\u001b[?25hRequirement already satisfied: docopt>=0.6.2 in /usr/local/lib/python3.7/dist-packages (from num2words) (0.6.2)\n",
            "Installing collected packages: num2words\n",
            "Successfully installed num2words-0.5.10\n"
          ],
          "name": "stdout"
        }
      ]
    },
    {
      "cell_type": "code",
      "metadata": {
        "colab": {
          "base_uri": "https://localhost:8080/"
        },
        "id": "Z4kAsS5JfAkB",
        "outputId": "23055499-d8d3-47ed-bec0-c15115fdea4c"
      },
      "source": [
        "# pip install num2words\n",
        "from num2words import num2words\n",
        "\n",
        "print(num2words(105))\n",
        "# one hundred and five\n",
        "\n",
        "print(num2words(105, to='ordinal'))\n",
        "# one hundred and fifth\n",
        "\n",
        "print(num2words(105, lang='vi'))\n",
        "# một trăm lẻ năm\n",
        "\n",
        "print(num2words(105, lang='es'))\n",
        "# ciento cinco"
      ],
      "execution_count": 3,
      "outputs": [
        {
          "output_type": "stream",
          "text": [
            "one hundred and five\n",
            "one hundred and fifth\n",
            "một trăm lẻ năm\n",
            "ciento cinco\n"
          ],
          "name": "stdout"
        }
      ]
    },
    {
      "cell_type": "code",
      "metadata": {
        "id": "FcGcWrSffBep"
      },
      "source": [
        ""
      ],
      "execution_count": null,
      "outputs": []
    }
  ]
}