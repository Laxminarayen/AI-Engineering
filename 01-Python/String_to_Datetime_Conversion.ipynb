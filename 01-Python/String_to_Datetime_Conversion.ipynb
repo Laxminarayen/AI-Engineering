{
  "nbformat": 4,
  "nbformat_minor": 0,
  "metadata": {
    "colab": {
      "name": "String to Datetime Conversion.ipynb",
      "provenance": [],
      "authorship_tag": "ABX9TyOAHDp02LuOIIH5DV+P9JUE",
      "include_colab_link": true
    },
    "kernelspec": {
      "name": "python3",
      "display_name": "Python 3"
    }
  },
  "cells": [
    {
      "cell_type": "markdown",
      "metadata": {
        "id": "view-in-github",
        "colab_type": "text"
      },
      "source": [
        "<a href=\"https://colab.research.google.com/github/plthiyagu/Personnel/blob/master/String_to_Datetime_Conversion.ipynb\" target=\"_parent\"><img src=\"https://colab.research.google.com/assets/colab-badge.svg\" alt=\"Open In Colab\"/></a>"
      ]
    },
    {
      "cell_type": "code",
      "metadata": {
        "id": "YC7Ssa277vAe",
        "colab_type": "code",
        "colab": {}
      },
      "source": [
        "import datetime\n",
        "import pytz\n",
        "from pytz import timezone\n",
        "import dateutil.parser\n"
      ],
      "execution_count": 47,
      "outputs": []
    },
    {
      "cell_type": "code",
      "metadata": {
        "id": "V1jffkyLjwfa",
        "colab_type": "code",
        "colab": {
          "base_uri": "https://localhost:8080/",
          "height": 51
        },
        "outputId": "4a451eff-abd5-4e80-c436-b780fbdcfb97"
      },
      "source": [
        "naive = datetime.datetime.now()\n",
        "naive\n",
        "utc_now = pytz.utc.localize(datetime.datetime.utcnow())\n",
        "print(utc_now)\n",
        "pst_now = utc_now.astimezone(pytz.timezone(\"America/Los_Angeles\"))\n",
        "print(pst_now)\n",
        "pytz."
      ],
      "execution_count": 49,
      "outputs": [
        {
          "output_type": "stream",
          "text": [
            "2020-07-08 17:54:10.058771+00:00\n",
            "2020-07-08 10:54:10.058771-07:00\n"
          ],
          "name": "stdout"
        }
      ]
    },
    {
      "cell_type": "code",
      "metadata": {
        "id": "tlNyY7OukEON",
        "colab_type": "code",
        "colab": {}
      },
      "source": [
        ""
      ],
      "execution_count": null,
      "outputs": []
    },
    {
      "cell_type": "code",
      "metadata": {
        "id": "LoYfnv_b8Rx8",
        "colab_type": "code",
        "colab": {
          "base_uri": "https://localhost:8080/",
          "height": 51
        },
        "outputId": "dbf2a88c-03f6-42aa-c836-ebd823780a31"
      },
      "source": [
        "datestring= \"2020-03-02T11:21:33.7489989-08:00\"\n",
        "#convert to March 2,2020 11:21 am PST \n",
        "d = dateutil.parser.parse(datestring)\n",
        "#d = datetime.datetime.strptime(datestring, format) #3.2+'''\n",
        "print(d)\n",
        "date_format = '%b-%d-%YT%H:%M %p %Z'\n",
        "d = d.astimezone(timezone('US/Pacific'))\n",
        "d=d.strftime(date_format)\n",
        "print(d)\n"
      ],
      "execution_count": 57,
      "outputs": [
        {
          "output_type": "stream",
          "text": [
            "2020-03-02 11:21:33.748998-08:00\n",
            "Mar-02-2020T11:21 AM PST\n"
          ],
          "name": "stdout"
        }
      ]
    },
    {
      "cell_type": "code",
      "metadata": {
        "id": "_hh0TCyu-X9e",
        "colab_type": "code",
        "colab": {}
      },
      "source": [
        "datestring= \"2020-03-02T11:21:33.7489989-08:00\"\n",
        "#datetimeObj=datetime.datetime.strptime(datestring, '%Y-%m-%dT%H:%M:%S.%f%Z')\n",
        "dt_new = datetime.datetime.strptime(str(datestring), '%Y-%m-%dT%H:%M:%S.%f-%z')\n",
        "print(dt_new)\n"
      ],
      "execution_count": null,
      "outputs": []
    }
  ]
}