{
  "nbformat": 4,
  "nbformat_minor": 0,
  "metadata": {
    "colab": {
      "name": "Instagram Scrap.ipynb",
      "provenance": [],
      "authorship_tag": "ABX9TyOdjMGPoxPgWrBd1vh4ZLrz",
      "include_colab_link": true
    },
    "kernelspec": {
      "name": "python3",
      "display_name": "Python 3"
    }
  },
  "cells": [
    {
      "cell_type": "markdown",
      "metadata": {
        "id": "view-in-github",
        "colab_type": "text"
      },
      "source": [
        "<a href=\"https://colab.research.google.com/github/plthiyagu/Personnel/blob/master/Instagram_Scrap.ipynb\" target=\"_parent\"><img src=\"https://colab.research.google.com/assets/colab-badge.svg\" alt=\"Open In Colab\"/></a>"
      ]
    },
    {
      "cell_type": "code",
      "metadata": {
        "id": "W5ptcEft8U2B",
        "colab_type": "code",
        "colab": {
          "base_uri": "https://localhost:8080/",
          "height": 68
        },
        "outputId": "953097e5-4480-4cff-a16e-11d79fc1005a"
      },
      "source": [
        "from bs4 import BeautifulSoup\n",
        "import requests\n",
        "URL = \"https://www.instagram.com/{}/\"\n",
        "def parse_data(s):\n",
        "  data= {}\n",
        "  s= s.split(\"-\")[0]\n",
        "  s= s.split(\" \")\n",
        "  data['Followers'] = s[0]\n",
        "  data['Following'] = s[2]\n",
        "  data['Posts']=s[4]\n",
        "  return data\n",
        "\n",
        "def scarpe_data(username):\n",
        "  r= requests.get(URL.format(username))\n",
        "  s= BeautifulSoup(r.text,\"html.parser\")\n",
        "  meta= s.find(\"meta\",property=\"og:description\")\n",
        "  return parse_data(meta.attrs['content'])\n",
        "\n",
        "username = \"python.hub\"\n",
        "data= scarpe_data(username)\n",
        "print(\"This accounthas \", data[\"Followers\"],\"followers\")\n",
        "print(\"This accounthas \", data[\"Following\"],\"following\")\n",
        "print(\"This accounthas \", data[\"Posts\"],\"posts\")"
      ],
      "execution_count": 1,
      "outputs": [
        {
          "output_type": "stream",
          "text": [
            "This accounthas  143k followers\n",
            "This accounthas  38 following\n",
            "This accounthas  421 posts\n"
          ],
          "name": "stdout"
        }
      ]
    }
  ]
}