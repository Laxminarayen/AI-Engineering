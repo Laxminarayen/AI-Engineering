{
  "nbformat": 4,
  "nbformat_minor": 0,
  "metadata": {
    "colab": {
      "name": "Check Any City Waether using its name.ipynb",
      "provenance": [],
      "authorship_tag": "ABX9TyPzhrrWyt999pQ+xJSBhs5S",
      "include_colab_link": true
    },
    "kernelspec": {
      "name": "python3",
      "display_name": "Python 3"
    }
  },
  "cells": [
    {
      "cell_type": "markdown",
      "metadata": {
        "id": "view-in-github",
        "colab_type": "text"
      },
      "source": [
        "<a href=\"https://colab.research.google.com/github/plthiyagu/Personnel/blob/master/Check_Any_City_Waether_using_its_name.ipynb\" target=\"_parent\"><img src=\"https://colab.research.google.com/assets/colab-badge.svg\" alt=\"Open In Colab\"/></a>"
      ]
    },
    {
      "cell_type": "code",
      "metadata": {
        "id": "6kJQvGdqylEp",
        "colab_type": "code",
        "colab": {
          "base_uri": "https://localhost:8080/",
          "height": 34
        },
        "outputId": "dc5e5f55-f53f-4efb-a2c3-90299f931077"
      },
      "source": [
        "import requests\n",
        "from bs4 import BeautifulSoup\n",
        "search = \"weather in New york\"\n",
        "url = f\"https://www.google.com/search?&q={search}\"\n",
        "r= requests.get(url)\n",
        "s= BeautifulSoup(r.text,\"html.parser\")\n",
        "update= s.find(\"div\",class_=\"BNeawe\").text\n",
        "print(update)"
      ],
      "execution_count": 5,
      "outputs": [
        {
          "output_type": "stream",
          "text": [
            "65°F\n"
          ],
          "name": "stdout"
        }
      ]
    },
    {
      "cell_type": "code",
      "metadata": {
        "id": "w2DHyVdf6j6b",
        "colab_type": "code",
        "colab": {}
      },
      "source": [
        ""
      ],
      "execution_count": 0,
      "outputs": []
    }
  ]
}