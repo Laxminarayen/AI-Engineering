{
  "nbformat": 4,
  "nbformat_minor": 0,
  "metadata": {
    "colab": {
      "name": "Simple Mathematical Equation.ipynb",
      "provenance": [],
      "authorship_tag": "ABX9TyMfUkRDv+/xJ+n+VUEhjsFQ",
      "include_colab_link": true
    },
    "kernelspec": {
      "name": "python3",
      "display_name": "Python 3"
    }
  },
  "cells": [
    {
      "cell_type": "markdown",
      "metadata": {
        "id": "view-in-github",
        "colab_type": "text"
      },
      "source": [
        "<a href=\"https://colab.research.google.com/github/plthiyagu/Personnel/blob/master/Simple_Mathematical_Equation.ipynb\" target=\"_parent\"><img src=\"https://colab.research.google.com/assets/colab-badge.svg\" alt=\"Open In Colab\"/></a>"
      ]
    },
    {
      "cell_type": "markdown",
      "metadata": {
        "id": "SUtIu31SS7tU",
        "colab_type": "text"
      },
      "source": [
        "Mathematical Equation\n",
        "y= x1 + (2 * x2) + (3 * x3)"
      ]
    },
    {
      "cell_type": "code",
      "metadata": {
        "id": "P06tLLwqStQE",
        "colab_type": "code",
        "colab": {
          "base_uri": "https://localhost:8080/",
          "height": 54
        },
        "outputId": "54511b73-fcf2-4ea5-c358-8c013499da1f"
      },
      "source": [
        "from random import randint\n",
        "train_set_limit =1000\n",
        "train_set_count =100\n",
        "\n",
        "\n",
        "train_input= list()\n",
        "train_output = list()\n",
        "for num in range(train_set_count):\n",
        "  x1=randint(0,train_set_limit)\n",
        "  x2=randint(0,train_set_limit)\n",
        "  x3=randint(0,train_set_limit)\n",
        "  eq= x1 + (2 *x2) + (3 * x3)\n",
        "  train_input.append([x1,x2,x3])\n",
        "  train_output.append(eq)\n",
        "print(train_input)\n"
      ],
      "execution_count": 6,
      "outputs": [
        {
          "output_type": "stream",
          "text": [
            "[[382, 176, 849], [411, 948, 122], [847, 23, 241], [113, 593, 632], [394, 833, 799], [439, 450, 52], [819, 749, 91], [96, 198, 756], [767, 461, 743], [256, 128, 301], [353, 994, 27], [417, 666, 942], [334, 11, 846], [6, 926, 479], [465, 862, 533], [244, 523, 435], [84, 206, 916], [762, 650, 847], [480, 387, 201], [993, 488, 193], [169, 711, 38], [449, 895, 233], [627, 510, 798], [270, 151, 931], [282, 15, 564], [600, 347, 31], [450, 179, 53], [539, 463, 349], [101, 722, 91], [572, 273, 383], [10, 325, 475], [333, 463, 535], [761, 416, 213], [785, 311, 213], [327, 763, 257], [263, 848, 412], [246, 381, 350], [841, 500, 242], [724, 444, 356], [271, 439, 753], [549, 379, 969], [5, 821, 897], [477, 38, 581], [651, 164, 520], [779, 36, 638], [841, 63, 614], [781, 731, 136], [888, 578, 8], [690, 824, 938], [426, 309, 253], [610, 426, 490], [875, 618, 102], [721, 339, 699], [702, 878, 373], [971, 236, 785], [880, 252, 827], [17, 396, 693], [109, 348, 71], [534, 94, 181], [465, 569, 270], [821, 880, 190], [727, 72, 994], [253, 804, 227], [418, 301, 965], [401, 841, 455], [785, 512, 555], [787, 276, 418], [246, 114, 893], [754, 93, 617], [231, 576, 483], [842, 951, 953], [901, 404, 901], [857, 724, 341], [644, 859, 106], [716, 602, 516], [924, 805, 893], [516, 285, 141], [891, 431, 823], [9, 416, 776], [360, 801, 458], [750, 514, 338], [35, 700, 303], [742, 730, 565], [258, 810, 56], [280, 258, 489], [721, 18, 916], [520, 338, 476], [398, 397, 984], [758, 221, 564], [360, 983, 522], [193, 412, 811], [47, 474, 756], [208, 637, 100], [947, 516, 108], [851, 74, 956], [570, 98, 584], [875, 880, 112], [672, 167, 719], [638, 663, 103], [192, 261, 368]]\n"
          ],
          "name": "stdout"
        }
      ]
    },
    {
      "cell_type": "code",
      "metadata": {
        "id": "7dVgXi3uUNKV",
        "colab_type": "code",
        "colab": {
          "base_uri": "https://localhost:8080/",
          "height": 54
        },
        "outputId": "c6f3908f-d49b-49d1-b3d4-fe36f4c43804"
      },
      "source": [
        "print(train_output)"
      ],
      "execution_count": 5,
      "outputs": [
        {
          "output_type": "stream",
          "text": [
            "[3412, 4292, 2175, 3911, 1938, 3797, 827, 3888, 4147, 3648, 3073, 4283, 4307, 2851, 3739, 3678, 1547, 2758, 2967, 3395, 830, 4508, 2209, 892, 3561, 2207, 1658, 2246, 1818, 1123, 3933, 4427, 2857, 2126, 2983, 3832, 3412, 1657, 4266, 2225, 2675, 2177, 2346, 4876, 1391, 4424, 2210, 3981, 2348, 2731, 3134, 3504, 2177, 2951, 1136, 2615, 2811, 2738, 2271, 2765, 2723, 2524, 4232, 3219, 1889, 2337, 3045, 2288, 5167, 1039, 3240, 2556, 2121, 2095, 5099, 1642, 3241, 2694, 1946, 3258, 4007, 3521, 5391, 2604, 3428, 3662, 5468, 2912, 1286, 3828, 3582, 5064, 2404, 2483, 2693, 2953, 1766, 4885, 2035, 4415]\n"
          ],
          "name": "stdout"
        }
      ]
    },
    {
      "cell_type": "code",
      "metadata": {
        "id": "EE35pzEiUE2e",
        "colab_type": "code",
        "colab": {}
      },
      "source": [
        ""
      ],
      "execution_count": 0,
      "outputs": []
    }
  ]
}