{
  "nbformat": 4,
  "nbformat_minor": 0,
  "metadata": {
    "colab": {
      "name": "Time Excercise.ipynb",
      "provenance": [],
      "authorship_tag": "ABX9TyMFSoc+Dkxr9T/YSH0mKOmK",
      "include_colab_link": true
    },
    "kernelspec": {
      "name": "python3",
      "display_name": "Python 3"
    }
  },
  "cells": [
    {
      "cell_type": "markdown",
      "metadata": {
        "id": "view-in-github",
        "colab_type": "text"
      },
      "source": [
        "<a href=\"https://colab.research.google.com/github/plthiyagu/Personnel/blob/master/Time_Excercise.ipynb\" target=\"_parent\"><img src=\"https://colab.research.google.com/assets/colab-badge.svg\" alt=\"Open In Colab\"/></a>"
      ]
    },
    {
      "cell_type": "code",
      "metadata": {
        "id": "AEaxLX6juzcw",
        "colab_type": "code",
        "colab": {
          "base_uri": "https://localhost:8080/",
          "height": 34
        },
        "outputId": "06064dfa-d500-419f-c9e6-5f9fb9764510"
      },
      "source": [
        "from time import time\n",
        "start= time()\n",
        "result=sum([x for x in range(10000000)])\n",
        "end=time()\n",
        "total= end-start\n",
        "print(f\"Time elasped: {total:.2f} seconds.\")\n"
      ],
      "execution_count": 2,
      "outputs": [
        {
          "output_type": "stream",
          "text": [
            "Time elasped: 0.87 seconds.\n"
          ],
          "name": "stdout"
        }
      ]
    },
    {
      "cell_type": "markdown",
      "metadata": {
        "id": "bwVFP4XlQLHf",
        "colab_type": "text"
      },
      "source": [
        "Machine and OS and not an accruate time!There is also a garbage\n",
        "collector which can screw up results! We cant rely on this!\n",
        "\n",
        "The alternate is the timeit module."
      ]
    },
    {
      "cell_type": "code",
      "metadata": {
        "id": "4nn9RwlgQAae",
        "colab_type": "code",
        "colab": {}
      },
      "source": [
        "from timeit import timeit\n",
        "statement= \"sum([x for x in range(100000000)])\""
      ],
      "execution_count": 0,
      "outputs": []
    },
    {
      "cell_type": "code",
      "metadata": {
        "id": "VwoJXYe3RB_O",
        "colab_type": "code",
        "colab": {
          "base_uri": "https://localhost:8080/",
          "height": 34
        },
        "outputId": "f23015c9-251f-468a-a76b-9573f7c3d4a8"
      },
      "source": [
        "result= timeit(statement,number=1)\n",
        "print(f\"Time elasped: {result:.2f} seconds.\")"
      ],
      "execution_count": 6,
      "outputs": [
        {
          "output_type": "stream",
          "text": [
            "Time elasped: 10.62 seconds.\n"
          ],
          "name": "stdout"
        }
      ]
    },
    {
      "cell_type": "code",
      "metadata": {
        "id": "-mYdkqcORRfe",
        "colab_type": "code",
        "colab": {}
      },
      "source": [
        ""
      ],
      "execution_count": 0,
      "outputs": []
    }
  ]
}