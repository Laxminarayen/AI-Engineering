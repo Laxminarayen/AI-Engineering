{
  "nbformat": 4,
  "nbformat_minor": 0,
  "metadata": {
    "colab": {
      "name": "100 Python Challenging programming excercise.ipynb",
      "provenance": [],
      "collapsed_sections": [],
      "authorship_tag": "ABX9TyORBIp1XcCco5iuwULS5kOF",
      "include_colab_link": true
    },
    "kernelspec": {
      "name": "python3",
      "display_name": "Python 3"
    }
  },
  "cells": [
    {
      "cell_type": "markdown",
      "metadata": {
        "id": "view-in-github",
        "colab_type": "text"
      },
      "source": [
        "<a href=\"https://colab.research.google.com/github/plthiyagu/Personnel/blob/master/100_Python_Challenging_programming_excercise.ipynb\" target=\"_parent\"><img src=\"https://colab.research.google.com/assets/colab-badge.svg\" alt=\"Open In Colab\"/></a>"
      ]
    },
    {
      "cell_type": "markdown",
      "metadata": {
        "id": "hF9Ake67z7ss"
      },
      "source": [
        "Write a program which will find all such numbers which are\n",
        "divisible by 7 but are not a multiple of 5,\n",
        "between 2000 and 3200 (both included).\n",
        "The numbers obtained should be printed in a comma-separated\n",
        "sequence on a single line."
      ]
    },
    {
      "cell_type": "code",
      "metadata": {
        "id": "YPnQtLhbz63R",
        "outputId": "f9683cc7-3dad-4d1c-b7c1-50e920b25cff",
        "colab": {
          "base_uri": "https://localhost:8080/",
          "height": 54
        }
      },
      "source": [
        "l=[]\n",
        "for i in range(2000,3200):\n",
        "  if (i%7 ==0) and (i%5 !=0) :\n",
        "    l.append(str(i))\n",
        "\n",
        "\n",
        "print(\",\".join(l))\n"
      ],
      "execution_count": null,
      "outputs": [
        {
          "output_type": "stream",
          "text": [
            "2002,2009,2016,2023,2037,2044,2051,2058,2072,2079,2086,2093,2107,2114,2121,2128,2142,2149,2156,2163,2177,2184,2191,2198,2212,2219,2226,2233,2247,2254,2261,2268,2282,2289,2296,2303,2317,2324,2331,2338,2352,2359,2366,2373,2387,2394,2401,2408,2422,2429,2436,2443,2457,2464,2471,2478,2492,2499,2506,2513,2527,2534,2541,2548,2562,2569,2576,2583,2597,2604,2611,2618,2632,2639,2646,2653,2667,2674,2681,2688,2702,2709,2716,2723,2737,2744,2751,2758,2772,2779,2786,2793,2807,2814,2821,2828,2842,2849,2856,2863,2877,2884,2891,2898,2912,2919,2926,2933,2947,2954,2961,2968,2982,2989,2996,3003,3017,3024,3031,3038,3052,3059,3066,3073,3087,3094,3101,3108,3122,3129,3136,3143,3157,3164,3171,3178,3192,3199\n"
          ],
          "name": "stdout"
        }
      ]
    },
    {
      "cell_type": "markdown",
      "metadata": {
        "id": "OUq_9KtG1aXd"
      },
      "source": [
        "Write a program which can compute the factorial of a given\n",
        "numbers.\n",
        "The results should be printed in a comma-separated sequence on a\n",
        "single line.\n",
        "Suppose the following input is supplied to the program:\n",
        "8T\n",
        "hen, the output should be:\n",
        "40320\n",
        "Hints:\n",
        "In case of input data being supplied to the question, it should\n",
        "be assumed to be a console input."
      ]
    },
    {
      "cell_type": "code",
      "metadata": {
        "id": "xM2XByN31RsS",
        "outputId": "04e99896-b038-4e65-83bd-0cc0b327bbd8",
        "colab": {
          "base_uri": "https://localhost:8080/",
          "height": 51
        }
      },
      "source": [
        "def fact( num):\n",
        "  if num==0:\n",
        "    return 1\n",
        "  else:\n",
        "    return num * fact(num-1)\n",
        "\n",
        "num= int(input())\n",
        "print(fact(num))"
      ],
      "execution_count": null,
      "outputs": [
        {
          "output_type": "stream",
          "text": [
            "5\n",
            "120\n"
          ],
          "name": "stdout"
        }
      ]
    },
    {
      "cell_type": "markdown",
      "metadata": {
        "id": "jhH260ua5sKw"
      },
      "source": [
        "With a given integral number n, write a program to generate a\n",
        "dictionary that contains (i, i*i) such that is an integral number\n",
        "between 1 and n (both included). and then the program should\n",
        "print the dictionary.\n",
        "Suppose the following input is supplied to the program:\n",
        "8T\n",
        "hen, the output should be:\n",
        "{1: 1, 2: 4, 3: 9, 4: 16, 5: 25, 6: 36, 7: 49, 8: 64}"
      ]
    },
    {
      "cell_type": "code",
      "metadata": {
        "id": "wX3g68o82FDn"
      },
      "source": [
        "n= int(input())\n",
        "d= dict()\n",
        "for i in range(1,n+1):\n",
        "  d[i] = i*i\n",
        "\n",
        "print(d)"
      ],
      "execution_count": null,
      "outputs": []
    },
    {
      "cell_type": "markdown",
      "metadata": {
        "id": "zMtuMO8hDaTq"
      },
      "source": [
        "Write a program which accepts a sequence of comma-separated\n",
        "numbers from console and generate a list and a tuple which\n",
        "contains every number.\n",
        "Suppose the following input is supplied to the program:\n",
        "34,67,55,33,12,98\n",
        "Then, the output should be:\n",
        "['34', '67', '55', '33', '12', '98']\n",
        "('34', '67', '55', '33', '12', '98')\n",
        "Hints:\n",
        "In case of input data being supplied to the question, it should\n",
        "be assumed to be a console input.\n",
        "tuple() method can convert list to tuple"
      ]
    },
    {
      "cell_type": "code",
      "metadata": {
        "id": "BNOXCYeTBAgS"
      },
      "source": [
        "values= input()\n",
        "l= values.split(\",\")\n",
        "t = tuple(l)\n",
        "print(l)\n",
        "print(t)"
      ],
      "execution_count": null,
      "outputs": []
    },
    {
      "cell_type": "markdown",
      "metadata": {
        "id": "PCSEa_sjEMOl"
      },
      "source": [
        "Define a class which has at least two methods:\n",
        "getString: to get a string from console input\n",
        "printString: to print the string in upper case.\n",
        "Also please include simple test function to test the class\n",
        "methods.\n",
        "Hints:\n",
        "Use __init__ method to construct some parameters"
      ]
    },
    {
      "cell_type": "code",
      "metadata": {
        "id": "ZXlX0-g9D3fg"
      },
      "source": [
        "class InputOutString(object):\n",
        "  def __init__(self):\n",
        "    self.s=\"\"\n",
        "\n",
        "  def getString(self):\n",
        "    self.s=input()\n",
        "  def printString(self):\n",
        "    print(self.s.upper())\n",
        "\n",
        "strObj= InputOutString()\n",
        "strObj.getString()\n",
        "strObj.printString()"
      ],
      "execution_count": null,
      "outputs": []
    },
    {
      "cell_type": "markdown",
      "metadata": {
        "id": "F8pzkSAyFdxS"
      },
      "source": [
        "Write a program that calculates and prints the value according to\n",
        "the given formula:\n",
        "Q = Square root of [(2 * C * D)/H]\n",
        "Following are the fixed values of C and H:\n",
        "C is 50. H is 30.\n",
        "D is the variable whose values should be input to your program in\n",
        "a comma-separated sequence.\n",
        "Example\n",
        "Let us assume the following comma separated input sequence is\n",
        "given to the program:\n",
        "100,150,180\n",
        "The output of the program should be:\n",
        "18,22,24\n",
        "Hints:\n",
        "If the output received is in decimal form, it should be rounded\n",
        "off to its nearest value (for example, if the output received is\n",
        "26.0, it should be printed as 26)\n",
        "In case of input data being supplied to the question, it should\n",
        "be assumed to be a console input."
      ]
    },
    {
      "cell_type": "code",
      "metadata": {
        "id": "5KSJmyqtFMY5"
      },
      "source": [
        "import math\n",
        "c=50\n",
        "h=30\n",
        "value=[]\n",
        "item= [x for x in input().split(\",\")]\n",
        "\n",
        "for d in item:\n",
        "  value.append(str(int(round(math.sqrt(2*c*float(d)/h)))))\n",
        "\n",
        "print(','.join(value))"
      ],
      "execution_count": null,
      "outputs": []
    },
    {
      "cell_type": "markdown",
      "metadata": {
        "id": "fajm1uH0HhpD"
      },
      "source": [
        "Write a program which takes 2 digits, X,Y as input and generates\n",
        "4\n",
        "a 2-dimensional array. The element value in the i-th row and j-th\n",
        "column of the array should be i*j.\n",
        "Note: i=0,1.., X-1; j=0,1,¡Y-1.\n",
        "Example\n",
        "Suppose the following inputs are given to the program:\n",
        "3,5\n",
        "Then, the output of the program should be:\n",
        "[[0, 0, 0, 0, 0], [0, 1, 2, 3, 4], [0, 2, 4, 6, 8]]\n",
        "Hints:\n",
        "Note: In case of input data being supplied to the question, it\n",
        "should be assumed to be a console input in a comma-separated\n",
        "form."
      ]
    },
    {
      "cell_type": "code",
      "metadata": {
        "id": "TYEvusrYHO-r"
      },
      "source": [
        "input_str= input()\n",
        "dimensions= [int(x)for x in input_str.split(\",\")]\n",
        "row_num= dimensions[0]\n",
        "col_num=dimensions[1]\n",
        "multilist=[[0 for col in range(col_num)] for row in range(row_num)]\n",
        "for row in range(row_num):\n",
        "  for col in range(col_num):\n",
        "    multilist[row] [col]= row * col\n",
        "print(multilist)"
      ],
      "execution_count": null,
      "outputs": []
    },
    {
      "cell_type": "markdown",
      "metadata": {
        "id": "q1hL2vjmOAVq"
      },
      "source": [
        "Write a program that accepts a comma separated sequence of words\n",
        "as input and prints the words in a comma-separated sequence after\n",
        "sorting them alphabetically.\n",
        "Suppose the following input is supplied to the program:\n",
        "without,hello,bag,world\n",
        "Then, the output should be:\n",
        "bag,hello,without,world\n",
        "Hints:\n",
        "In case of input data being supplied to the question, it should\n",
        "be assumed to be a console input."
      ]
    },
    {
      "cell_type": "code",
      "metadata": {
        "id": "uDWRhIG9L2eU"
      },
      "source": [
        "items= [x for x in input().split(',')]\n",
        "items.sort()\n",
        "print(','.join(items))"
      ],
      "execution_count": null,
      "outputs": []
    },
    {
      "cell_type": "markdown",
      "metadata": {
        "id": "kNnGZ70aahzh"
      },
      "source": [
        "Write a program that accepts sequence of lines as input and\n",
        "prints the lines after making all characters in the sentence\n",
        "capitalized.\n",
        "Suppose the following input is supplied to the program:\n",
        "Hello world\n",
        "Practice makes perfect\n",
        "Then, the output should be:\n",
        "HELLO WORLD\n",
        "PRACTICE MAKES PERFECT\n",
        "Hints:\n",
        "In case of input data being supplied to the question, it should\n",
        "be assumed to be a console input."
      ]
    },
    {
      "cell_type": "code",
      "metadata": {
        "id": "O1OURYZ6Q1s2"
      },
      "source": [
        "lines=list()\n",
        "while True:\n",
        "  s= input()\n",
        "  if s:\n",
        "    lines.append(s.upper())\n",
        "  else:\n",
        "    break\n",
        "for sentence in lines:\n",
        "  print(sentence)\n"
      ],
      "execution_count": null,
      "outputs": []
    },
    {
      "cell_type": "markdown",
      "metadata": {
        "id": "kmEZ51N6bT-o"
      },
      "source": [
        "Write a program that accepts a sequence of whitespace separated\n",
        "words as input and prints the words after removing all duplicate\n",
        "words and sorting them alphanumerically.\n",
        "Suppose the following input is supplied to the program:\n",
        "hello world and practice makes perfect and hello world again\n",
        "Then, the output should be:\n",
        "again and hello makes perfect practice world\n",
        "Hints:\n",
        "In case of input data being supplied to the question, it should\n",
        "be assumed to be a console input.\n",
        "We use set container to remove duplicated data automatically and\n",
        "then use sorted() to sort the data."
      ]
    },
    {
      "cell_type": "code",
      "metadata": {
        "id": "zBxBkZv9a8BS"
      },
      "source": [
        "s= input()\n",
        "words = [word for word in s.split(\" \")]\n",
        "print(\" \".join(sorted(list(set(words)))))"
      ],
      "execution_count": null,
      "outputs": []
    },
    {
      "cell_type": "markdown",
      "metadata": {
        "id": "H-YRnTKvn5zo"
      },
      "source": [
        "Question:\n",
        "Write a program which accepts a sequence of comma separated 4\n",
        "digit binary numbers as its input and then check whether they are\n",
        "divisible by 5 or not. The numbers that are divisible by 5 are to\n",
        "be printed in a comma separated sequence.\n",
        "Example:\n",
        "0100,0011,1010,1001\n",
        "Then the output should be:\n",
        "1010\n",
        "Notes: Assume the data is input by console.\n",
        "Hints:\n",
        "In case of input data being supplied to the question, it should\n",
        "be assumed to be a console input."
      ]
    },
    {
      "cell_type": "code",
      "metadata": {
        "id": "m7N3bl7ybnuk",
        "outputId": "26851a93-b930-44fa-c9d7-fb750a8ef8fe",
        "colab": {
          "base_uri": "https://localhost:8080/",
          "height": 51
        }
      },
      "source": [
        "value=[]\n",
        "items=[x for x in input().split(',')]\n",
        "for p in items:\n",
        "  intp = int(p,2)\n",
        "  if not intp%5:\n",
        "    value.append(p)\n",
        "print(\",\".join(value))"
      ],
      "execution_count": null,
      "outputs": [
        {
          "output_type": "stream",
          "text": [
            "0100,0011,1010,1001\n",
            "1010\n"
          ],
          "name": "stdout"
        }
      ]
    },
    {
      "cell_type": "markdown",
      "metadata": {
        "id": "8ga5LQcNHrIM"
      },
      "source": [
        "Write a program, which will find all such numbers between 1000\n",
        "and 3000 (both included) such that each digit of the number is an\n",
        "even number.\n",
        "The numbers obtained should be printed in a comma-separated\n",
        "sequence on a single line.\n",
        "Hints:\n",
        "In case of input data being supplied to the question, it should\n",
        "be assumed to be a console input."
      ]
    },
    {
      "cell_type": "code",
      "metadata": {
        "id": "OT9QHYQyHWuP",
        "outputId": "53c6afe0-8ea4-4f40-ed64-8e618e1535d6",
        "colab": {
          "base_uri": "https://localhost:8080/",
          "height": 54
        }
      },
      "source": [
        "values=[]\n",
        "\n",
        "for i in range(1000,3001):\n",
        "  s= str(i)\n",
        "  if (int(s[0]) %2==0) and (int(s[1])%2==0) and ( int(s[2])%2==0) and (int(s[3])%2==0):\n",
        "    values.append(s)\n",
        "\n",
        "print(\",\".join(values))\n"
      ],
      "execution_count": null,
      "outputs": [
        {
          "output_type": "stream",
          "text": [
            "2000,2002,2004,2006,2008,2020,2022,2024,2026,2028,2040,2042,2044,2046,2048,2060,2062,2064,2066,2068,2080,2082,2084,2086,2088,2200,2202,2204,2206,2208,2220,2222,2224,2226,2228,2240,2242,2244,2246,2248,2260,2262,2264,2266,2268,2280,2282,2284,2286,2288,2400,2402,2404,2406,2408,2420,2422,2424,2426,2428,2440,2442,2444,2446,2448,2460,2462,2464,2466,2468,2480,2482,2484,2486,2488,2600,2602,2604,2606,2608,2620,2622,2624,2626,2628,2640,2642,2644,2646,2648,2660,2662,2664,2666,2668,2680,2682,2684,2686,2688,2800,2802,2804,2806,2808,2820,2822,2824,2826,2828,2840,2842,2844,2846,2848,2860,2862,2864,2866,2868,2880,2882,2884,2886,2888\n"
          ],
          "name": "stdout"
        }
      ]
    },
    {
      "cell_type": "markdown",
      "metadata": {
        "id": "IwS0ga7rOy7_"
      },
      "source": [
        "Write a program that accepts a sentence and calculate the number\n",
        "of letters and digits.\n",
        "Suppose the following input is supplied to the program:\n",
        "hello world! 123\n",
        "Then, the output should be:\n",
        "LETTERS 10\n",
        "DIGITS 3\n",
        "Hints:\n",
        "In case of input data being supplied to the question, it should\n",
        "be assumed to be a console input."
      ]
    },
    {
      "cell_type": "code",
      "metadata": {
        "id": "vphFjUU2IfEh"
      },
      "source": [
        ""
      ],
      "execution_count": null,
      "outputs": []
    },
    {
      "cell_type": "code",
      "metadata": {
        "id": "Z3UtzGJPQsNC",
        "outputId": "a9c92a8d-ec05-49b6-86df-0284bed767fb",
        "colab": {
          "base_uri": "https://localhost:8080/",
          "height": 68
        }
      },
      "source": [
        "s=input()\n",
        "d= {\"DIGITS\":0,\"LETTERS\":0}\n",
        "\n",
        "for c in s:\n",
        "  if c.isdigit():\n",
        "    d[\"DIGITS\"]+=1\n",
        "  elif c.isalpha():\n",
        "    d[\"LETTERS\"]+=1\n",
        "  else:\n",
        "    pass\n",
        "\n",
        "print(\"LETTERS\",d[\"LETTERS\"])\n",
        "print( \"DIGITS\", d[\"DIGITS\"])"
      ],
      "execution_count": null,
      "outputs": [
        {
          "output_type": "stream",
          "text": [
            "hello world 123 !\n",
            "LETTERS 10\n",
            "DIGITS 3\n"
          ],
          "name": "stdout"
        }
      ]
    },
    {
      "cell_type": "markdown",
      "metadata": {
        "id": "7Qb3C6k6dl_q"
      },
      "source": [
        "Question:\n",
        "Write a program that accepts a sentence and calculate the number\n",
        "of upper case letters and lower case letters.\n",
        "Suppose the following input is supplied to the program:\n",
        "Hello world!\n",
        "Then, the output should be:\n",
        "UPPER CASE 1\n",
        "LOWER CASE 9\n",
        "8\n",
        "Hints:\n",
        "In case of input data being supplied to the question, it should\n",
        "be assumed to be a console input."
      ]
    },
    {
      "cell_type": "code",
      "metadata": {
        "id": "GP0gHRZMQDIX",
        "outputId": "0d85e043-8975-4840-aad1-a2092edcad57",
        "colab": {
          "base_uri": "https://localhost:8080/",
          "height": 68
        }
      },
      "source": [
        "s=input()\n",
        "d={\"UPPER CASE\":0, \"LOWER CASE\":0}\n",
        "for c in s:\n",
        "  if c.isupper():\n",
        "    d[\"UPPER CASE\"] += 1\n",
        "  elif c.islower():\n",
        "    d[\"LOWER CASE\"] +=1\n",
        "  else:\n",
        "    pass\n",
        "\n",
        "print(\"UPPER CASE\", d[\"UPPER CASE\"])\n",
        "print(\"LOWER CASE\", d[\"LOWER CASE\"])\n"
      ],
      "execution_count": null,
      "outputs": [
        {
          "output_type": "stream",
          "text": [
            "Hello Woorld!\n",
            "UPPER CASE 2\n",
            "LOWER CASE 9\n"
          ],
          "name": "stdout"
        }
      ]
    },
    {
      "cell_type": "markdown",
      "metadata": {
        "id": "SnHldaZIecYC"
      },
      "source": [
        "Write a program that computes the value of a+aa+aaa+aaaa with a\n",
        "given digit as the value of a.\n",
        "Suppose the following input is supplied to the program:\n",
        "9T\n",
        "hen, the output should be:\n",
        "11106\n",
        "Hints:\n",
        "In case of input data being supplied to the question, it should\n",
        "be assumed to be a console input."
      ]
    },
    {
      "cell_type": "code",
      "metadata": {
        "id": "jf9-bR7eeT3Q",
        "outputId": "bba2c91d-5cf1-4cff-dfe7-53f1c95f279d",
        "colab": {
          "base_uri": "https://localhost:8080/",
          "height": 51
        }
      },
      "source": [
        "a= input()\n",
        "n1=int(\"%s\" %a)\n",
        "n2 = int( \"%s%s\" % (a,a) )\n",
        "n3 = int( \"%s%s%s\" % (a,a,a) )\n",
        "n4 = int( \"%s%s%s%s\" % (a,a,a,a) )\n",
        "print(n1+n2+n3+n4)"
      ],
      "execution_count": null,
      "outputs": [
        {
          "output_type": "stream",
          "text": [
            "9\n",
            "11106\n"
          ],
          "name": "stdout"
        }
      ]
    },
    {
      "cell_type": "markdown",
      "metadata": {
        "id": "bCs15OwzkPHl"
      },
      "source": [
        "Use a list comprehension to square each odd number in a list. The\n",
        "list is input by a sequence of comma-separated numbers.\n",
        "Suppose the following input is supplied to the program:\n",
        "1,2,3,4,5,6,7,8,9\n",
        "9\n",
        "Then, the output should be:\n",
        "1,3,5,7,9\n",
        "Hints:\n",
        "In case of input data being supplied to the question, it should\n",
        "be assumed to be a console input."
      ]
    },
    {
      "cell_type": "code",
      "metadata": {
        "id": "ZeS0Fdqrh-sQ",
        "outputId": "c90c7934-9a64-4f21-9c10-185bcdeb391d",
        "colab": {
          "base_uri": "https://localhost:8080/",
          "height": 51
        }
      },
      "source": [
        "values= input()\n",
        "numbers = [x for x in values.split(\",\") if int(x) %2 !=0]\n",
        "print(\",\".join(numbers))"
      ],
      "execution_count": null,
      "outputs": [
        {
          "output_type": "stream",
          "text": [
            "1,2,3,4,5,6,7,8,9\n",
            "1,3,5,7,9\n"
          ],
          "name": "stdout"
        }
      ]
    },
    {
      "cell_type": "markdown",
      "metadata": {
        "id": "MClyB9aBlrba"
      },
      "source": [
        "Write a program that computes the net amount of a bank account\n",
        "based a transaction log from console input. The transaction log\n",
        "format is shown as following:\n",
        "D 100\n",
        "W 200\n",
        "D means deposit while W means withdrawal.\n",
        "Suppose the following input is supplied to the program:\n",
        "D 300\n",
        "D 300\n",
        "W 200\n",
        "D 100\n",
        "Then, the output should be:\n",
        "500"
      ]
    },
    {
      "cell_type": "code",
      "metadata": {
        "id": "IjcBef-pkz61",
        "outputId": "307d97a1-6ebb-4bd1-b540-fde60685cc74",
        "colab": {
          "base_uri": "https://localhost:8080/",
          "height": 85
        }
      },
      "source": [
        "net_amount=0\n",
        "while True:\n",
        "  s=input()\n",
        "  if not s:\n",
        "    break\n",
        "  values=s.split(\",\")\n",
        "  operation= values[0]\n",
        "  amount=int(values[1])\n",
        "  if operation == \"D\":\n",
        "    net_amount += amount\n",
        "  elif operation == \"W\":\n",
        "    net_amount -= amount\n",
        "  else:\n",
        "    pass\n",
        "print(net_amount)"
      ],
      "execution_count": null,
      "outputs": [
        {
          "output_type": "stream",
          "text": [
            "D,100\n",
            "W,300\n",
            "\n",
            "-200\n"
          ],
          "name": "stdout"
        }
      ]
    },
    {
      "cell_type": "markdown",
      "metadata": {
        "id": "5eE22UG0p72r"
      },
      "source": [
        "A website requires the users to input username and password to\n",
        "register. Write a program to check the validity of password input\n",
        "by users.\n",
        "Following are the criteria for checking the password:\n",
        "1. At least 1 letter between [a-z]\n",
        "2. At least 1 number between [0-9]\n",
        "1. At least 1 letter between [A-Z]\n",
        "3. At least 1 character from [$#@]\n",
        "4. Minimum length of transaction password: 6\n",
        "5. Maximum length of transaction password: 12\n",
        "Your program should accept a sequence of comma separated\n",
        "passwords and will check them according to the above criteria.\n",
        "Passwords that match the criteria are to be printed, each\n",
        "separated by a comma.\n",
        "Example\n",
        "If the following passwords are given as input to the program:\n",
        "ABd1234@1,a F1#,2w3E*,2We3345\n",
        "Then, the output of the program should be:\n",
        "ABd1234@1"
      ]
    },
    {
      "cell_type": "code",
      "metadata": {
        "id": "p80Ixxh6pixN",
        "outputId": "e76c7fb5-c303-4a2b-bf0b-a7fcf7780386",
        "colab": {
          "base_uri": "https://localhost:8080/",
          "height": 51
        }
      },
      "source": [
        "import re\n",
        "value = []\n",
        "items = [x for x in input().split(\",\")]\n",
        "for p in items:\n",
        "  if len(p) < 6 or len(p) >12:\n",
        "    continue\n",
        "  else:\n",
        "    pass\n",
        "  if not re.search(\"[a-z]\",p):\n",
        "    continue\n",
        "  elif not re.search(\"[0-9]\",p):\n",
        "    continue\n",
        "  elif not re.search(\"[A-Z]\",p):\n",
        "    continue\n",
        "  elif not re.search(\"[$#@]\",p):\n",
        "    continue\n",
        "  elif re.search(\"\\s\",p):\n",
        "    continue\n",
        "  else:\n",
        "    pass\n",
        "  value.append(p)\n",
        "\n",
        "print(\",\".join(value))\n"
      ],
      "execution_count": null,
      "outputs": [
        {
          "output_type": "stream",
          "text": [
            "ABd1234@1,a F1#,2w3E*,2We3345\n",
            "ABd1234@1\n"
          ],
          "name": "stdout"
        }
      ]
    },
    {
      "cell_type": "markdown",
      "metadata": {
        "id": "QFus1D3eFynV"
      },
      "source": [
        "You are required to write a program to sort the (name, age,\n",
        "height) tuples by ascending order where name is string, age and\n",
        "height are numbers. The tuples are input by console. The sort\n",
        "criteria is:\n",
        "1: Sort based on name;\n",
        "2: Then sort based on age;\n",
        "3: Then sort by score.\n",
        "The priority is that name > age > score.\n",
        "If the following tuples are given as input to the program:\n",
        "Tom,19,80\n",
        "John,20,90\n",
        "Jony,17,91\n",
        "Jony,17,93\n",
        "Json,21,85\n",
        "Then, the output of the program should be:\n",
        "[('John', '20', '90'), ('Jony', '17', '91'), ('Jony', '17',\n",
        "'93'), ('Json', '21', '85'), ('Tom', '19', '80')]"
      ]
    },
    {
      "cell_type": "code",
      "metadata": {
        "id": "4C6F3fDwtSkZ",
        "outputId": "4a28e1d7-a0e5-4905-e438-360afab4197b",
        "colab": {
          "base_uri": "https://localhost:8080/",
          "height": 85
        }
      },
      "source": [
        "import operator\n",
        "l =[]\n",
        "while True:\n",
        "  s = input()\n",
        "  if not s:\n",
        "    break\n",
        "  l.append(tuple(s.split(\",\")))\n",
        "print( sorted(l, key=operator.itemgetter(0,1,2)))"
      ],
      "execution_count": null,
      "outputs": [
        {
          "output_type": "stream",
          "text": [
            "Json,21,85\n",
            "Tom,19,80\n",
            "\n",
            "[('Json', '21', '85'), ('Tom', '19', '80')]\n"
          ],
          "name": "stdout"
        }
      ]
    },
    {
      "cell_type": "markdown",
      "metadata": {
        "id": "IOGyvbo0NZHn"
      },
      "source": [
        "Define a class with a generator which can iterate the numbers,\n",
        "which are divisible by 7, between a given range 0 and n.\n",
        "12\n",
        "Hints:\n",
        "Consider use yield"
      ]
    },
    {
      "cell_type": "code",
      "metadata": {
        "id": "_LGk5euwKSKV",
        "outputId": "c71f6bdd-6d34-495f-ffbc-c8b43f2b3c93",
        "colab": {
          "base_uri": "https://localhost:8080/",
          "height": 272
        }
      },
      "source": [
        "def put_numbers(n):\n",
        "  i=0\n",
        "  while i<n:\n",
        "    j=i\n",
        "    i=i+1\n",
        "    if j %7 ==0:\n",
        "      yield j\n",
        "for i in put_numbers(100):\n",
        "  print(i)"
      ],
      "execution_count": null,
      "outputs": [
        {
          "output_type": "stream",
          "text": [
            "0\n",
            "7\n",
            "14\n",
            "21\n",
            "28\n",
            "35\n",
            "42\n",
            "49\n",
            "56\n",
            "63\n",
            "70\n",
            "77\n",
            "84\n",
            "91\n",
            "98\n"
          ],
          "name": "stdout"
        }
      ]
    },
    {
      "cell_type": "markdown",
      "metadata": {
        "id": "_eQafTBjSNaB"
      },
      "source": [
        "A robot moves in a plane starting from the original point (0,0).\n",
        "The robot can move toward UP, DOWN, LEFT and RIGHT with a given\n",
        "steps. The trace of robot movement is shown as the following:\n",
        "UP 5\n",
        "DOWN 3\n",
        "LEFT 3\n",
        "RIGHT 2\n",
        "¡T\n",
        "he numbers after the direction are steps. Please write a program\n",
        "to compute the distance from current position after a sequence of\n",
        "movement and original point. If the distance is a float, then\n",
        "just print the nearest integer.\n",
        "Example:\n",
        "If the following tuples are given as input to the program:\n",
        "UP 5\n",
        "DOWN 3\n",
        "LEFT 3\n",
        "RIGHT 2\n",
        "Then, the output of the program should be:\n",
        "2"
      ]
    },
    {
      "cell_type": "code",
      "metadata": {
        "id": "ZhCS3A6MQ9jK",
        "outputId": "593a7dcd-d84d-4e04-e081-af12aa92ae55",
        "colab": {
          "base_uri": "https://localhost:8080/",
          "height": 119
        }
      },
      "source": [
        "import math\n",
        "pos = [0,0]\n",
        "while True:\n",
        "  s= input()\n",
        "  if not s:\n",
        "    break\n",
        "  movement= s.split(\" \")\n",
        "  direction = movement[0]\n",
        "  steps = int(movement[1])\n",
        "  if direction == \"UP\":\n",
        "    pos[0] += steps\n",
        "  elif direction == \"DOWN\":\n",
        "    pos[0] -= steps\n",
        "  elif direction == \"LEFT\":\n",
        "    pos[1] -= steps\n",
        "  elif direction == \"RIGHT\":\n",
        "    pos[1] += steps\n",
        "  else:\n",
        "    pass\n",
        "print(int(round(math.sqrt(pos[1]**2+pos[0]**2))))    "
      ],
      "execution_count": null,
      "outputs": [
        {
          "output_type": "stream",
          "text": [
            "UP 5\n",
            "DOWN 3\n",
            "LEFT 3\n",
            "RIGHT 2\n",
            "\n",
            "2\n"
          ],
          "name": "stdout"
        }
      ]
    },
    {
      "cell_type": "markdown",
      "metadata": {
        "id": "ABOMkEnDMDdv"
      },
      "source": [
        "Write a program to compute the frequency of the words from the\n",
        "input. The output should output after sorting the key\n",
        "alphanumerically.\n",
        "Suppose the following input is supplied to the program:\n",
        "New to Python or choosing between Python 2 and Python 3? Read\n",
        "Python 2 or Python 3.\n",
        "Then, the output should be:\n",
        "2:2\n",
        "3.:1\n",
        "3?:1\n",
        "New:1\n",
        "Python:5\n",
        "Read:1\n",
        "and:1\n",
        "between:1\n",
        "choosing:1\n",
        "or:2\n",
        "to:1"
      ]
    },
    {
      "cell_type": "code",
      "metadata": {
        "id": "1eCs3JEIK7hU"
      },
      "source": [
        "freq= {}\n",
        "line= input()\n",
        "for word in line.split():\n",
        "  freq[word]= freq.get(word,0) +1\n",
        "words= freq.keys()\n",
        "print(words)\n",
        "words=sorted(words)\n",
        "for w in words:\n",
        "  print(\"%s:%d\" % (w,freq[w]))"
      ],
      "execution_count": null,
      "outputs": []
    },
    {
      "cell_type": "markdown",
      "metadata": {
        "id": "o5qwOxwfjf8f"
      },
      "source": [
        "Question:\n",
        "Write a method which can calculate square value of number"
      ]
    },
    {
      "cell_type": "code",
      "metadata": {
        "id": "rCagrXaYjAGz",
        "outputId": "538951d8-64c9-4310-deb9-c4959bb38d3e",
        "colab": {
          "base_uri": "https://localhost:8080/",
          "height": 51
        }
      },
      "source": [
        "def square(num):\n",
        "  return num ** 2\n",
        "print(square(5))\n",
        "print(square(6))"
      ],
      "execution_count": null,
      "outputs": [
        {
          "output_type": "stream",
          "text": [
            "25\n",
            "36\n"
          ],
          "name": "stdout"
        }
      ]
    },
    {
      "cell_type": "markdown",
      "metadata": {
        "id": "8mG646LF0X9y"
      },
      "source": [
        "Question:\n",
        "Python has many built-in functions, and if you do not know\n",
        "how to use it, you can read document online or find some books.\n",
        "But Python has a built-in document function for every built-in\n",
        "functions.\n",
        "Please write a program to print some Python built-in\n",
        "functions documents, such as abs(), int(), raw_input()\n",
        "And add document for your own function"
      ]
    },
    {
      "cell_type": "code",
      "metadata": {
        "id": "LybQN7bEj6gk",
        "outputId": "1ce38b32-5e96-4544-aafc-e93c0987ca9d",
        "colab": {
          "base_uri": "https://localhost:8080/",
          "height": 442
        }
      },
      "source": [
        "print (abs.__doc__)\n",
        "print (int.__doc__)\n",
        "print (input.__doc__)\n",
        "def square(num):\n",
        "  '''Return the square value of the input number.\n",
        "  The input number must be integer.\n",
        "  '''\n",
        "  return num ** 2\n",
        "print (square(2))\n",
        "print (square.__doc__)"
      ],
      "execution_count": null,
      "outputs": [
        {
          "output_type": "stream",
          "text": [
            "Return the absolute value of the argument.\n",
            "int(x=0) -> integer\n",
            "int(x, base=10) -> integer\n",
            "\n",
            "Convert a number or string to an integer, or return 0 if no arguments\n",
            "are given.  If x is a number, return x.__int__().  For floating point\n",
            "numbers, this truncates towards zero.\n",
            "\n",
            "If x is not a number or if base is given, then x must be a string,\n",
            "bytes, or bytearray instance representing an integer literal in the\n",
            "given base.  The literal can be preceded by '+' or '-' and be surrounded\n",
            "by whitespace.  The base defaults to 10.  Valid bases are 0 and 2-36.\n",
            "Base 0 means to interpret the base from the string as an integer literal.\n",
            ">>> int('0b100', base=0)\n",
            "4\n",
            "Forward raw_input to frontends\n",
            "\n",
            "        Raises\n",
            "        ------\n",
            "        StdinNotImplentedError if active frontend doesn't support stdin.\n",
            "        \n",
            "4\n",
            "Return the square value of the input number.\n",
            "  The input number must be integer.\n",
            "  \n"
          ],
          "name": "stdout"
        }
      ]
    },
    {
      "cell_type": "code",
      "metadata": {
        "id": "uRbpDhev0uQp",
        "outputId": "9d82d5ca-46a5-4a24-e9a7-b891b285972c",
        "colab": {
          "base_uri": "https://localhost:8080/",
          "height": 153
        }
      },
      "source": [
        "help(sorted)"
      ],
      "execution_count": null,
      "outputs": [
        {
          "output_type": "stream",
          "text": [
            "Help on built-in function sorted in module builtins:\n",
            "\n",
            "sorted(iterable, /, *, key=None, reverse=False)\n",
            "    Return a new list containing all items from the iterable in ascending order.\n",
            "    \n",
            "    A custom key function can be supplied to customize the sort order, and the\n",
            "    reverse flag can be set to request the result in descending order.\n",
            "\n"
          ],
          "name": "stdout"
        }
      ]
    },
    {
      "cell_type": "markdown",
      "metadata": {
        "id": "9JLNwzRZ1D8O"
      },
      "source": [
        "Question:\n",
        "Define a class, which have a class parameter and have a same\n",
        "instance parameter.\n",
        "Hints:\n",
        "Define a instance parameter, need add it in __init__ method\n",
        "You can init a object with construct parameter or set the\n",
        "value later"
      ]
    },
    {
      "cell_type": "code",
      "metadata": {
        "id": "vs4aYcf_0zYT",
        "outputId": "3c6426ac-2146-4459-93e6-797eae383431",
        "colab": {
          "base_uri": "https://localhost:8080/",
          "height": 51
        }
      },
      "source": [
        "class Person:\n",
        "  # Define the class parameter \"name\"\n",
        "  name= \"Person\"\n",
        "  def __init__(self, name = None):\n",
        "    # self.name is the instance parameter\n",
        "    self.name = name\n",
        "jeffrey = Person(\"Jeffrey\")\n",
        "print(\"%s name is %s\" % (Person.name, jeffrey.name))\n",
        "nico = Person()\n",
        "nico.name = \"Nico\"\n",
        "print(\"%s name is %s\" % (Person.name, nico.name))"
      ],
      "execution_count": null,
      "outputs": [
        {
          "output_type": "stream",
          "text": [
            "Person name is Jeffrey\n",
            "Person name is Nico\n"
          ],
          "name": "stdout"
        }
      ]
    },
    {
      "cell_type": "markdown",
      "metadata": {
        "id": "Ezf6XYyI4KhR"
      },
      "source": [
        "Question:\n",
        "Define a function which can compute the sum of two numbers."
      ]
    },
    {
      "cell_type": "code",
      "metadata": {
        "id": "mgmn22KI4CyO",
        "outputId": "8bb3537b-c20a-476a-cbdd-c481aa938a56",
        "colab": {
          "base_uri": "https://localhost:8080/",
          "height": 34
        }
      },
      "source": [
        "def sum_function(number1,number2):\n",
        "  return number1+ number2\n",
        "print(sum_function(2,4))"
      ],
      "execution_count": null,
      "outputs": [
        {
          "output_type": "stream",
          "text": [
            "6\n"
          ],
          "name": "stdout"
        }
      ]
    },
    {
      "cell_type": "markdown",
      "metadata": {
        "id": "0GLUKhoA5l_2"
      },
      "source": [
        "Define a function that can convert a integer into a string and\n",
        "print it in console."
      ]
    },
    {
      "cell_type": "code",
      "metadata": {
        "id": "D8YD2PyT4YpZ",
        "outputId": "74cac671-71cb-483f-f798-ca3c7efada83",
        "colab": {
          "base_uri": "https://localhost:8080/",
          "height": 34
        }
      },
      "source": [
        "def print_value(n):\n",
        "  print(str(n))\n",
        "print_value(\"55\")"
      ],
      "execution_count": null,
      "outputs": [
        {
          "output_type": "stream",
          "text": [
            "55\n"
          ],
          "name": "stdout"
        }
      ]
    },
    {
      "cell_type": "markdown",
      "metadata": {
        "id": "fvllFLw357-F"
      },
      "source": [
        "Define a function that can receive two integral numbers in string\n",
        "form and compute their sum and then print it in console."
      ]
    },
    {
      "cell_type": "code",
      "metadata": {
        "id": "i6L08VPh5v72",
        "outputId": "cdf1ae0e-4c6a-40af-c236-df8bc1429456",
        "colab": {
          "base_uri": "https://localhost:8080/",
          "height": 34
        }
      },
      "source": [
        "def print_values(s1 ,s2):\n",
        "  print(int(s1),int(s2))\n",
        "\n",
        "print_values(\"3\",\"4\")\n"
      ],
      "execution_count": null,
      "outputs": [
        {
          "output_type": "stream",
          "text": [
            "3 4\n"
          ],
          "name": "stdout"
        }
      ]
    },
    {
      "cell_type": "markdown",
      "metadata": {
        "id": "5zVL_CXodBiZ"
      },
      "source": [
        "Define a function that can accept two strings as input and print\n",
        "the string with maximum length in console. If two strings have\n",
        "the same length, then the function should print al l strings line\n",
        "by line."
      ]
    },
    {
      "cell_type": "code",
      "metadata": {
        "id": "hcQ7RIqX6Onp",
        "outputId": "3e4c2780-d2a9-4bc3-e2ea-5e427e9b71e7",
        "colab": {
          "base_uri": "https://localhost:8080/",
          "height": 34
        }
      },
      "source": [
        "def printValue(s1,s2):\n",
        "  len1=len(s1)\n",
        "  len2=len(s2)\n",
        "  if len1>len2:\n",
        "    print(s1)\n",
        "  elif len2 > len1:\n",
        "    print(s2)\n",
        "  else:\n",
        "    print(s1)\n",
        "    print(s2)\n",
        "printValue(\"one\",\"three\")"
      ],
      "execution_count": null,
      "outputs": [
        {
          "output_type": "stream",
          "text": [
            "three\n"
          ],
          "name": "stdout"
        }
      ]
    },
    {
      "cell_type": "markdown",
      "metadata": {
        "id": "S4Tjz9Iiw2Cg"
      },
      "source": [
        "Define a function that can accept an integer number as input and\n",
        "print the \"It is an even number\" if the number is even, otherwise\n",
        "print \"It is an odd number\"."
      ]
    },
    {
      "cell_type": "code",
      "metadata": {
        "id": "v8BPUpcSwRgg",
        "outputId": "b2048ae3-6c2d-403c-8156-ffd69e50762b",
        "colab": {
          "base_uri": "https://localhost:8080/",
          "height": 34
        }
      },
      "source": [
        "def check_value(n):\n",
        "  if n%2 ==0:\n",
        "    print(\"Its an Even number\")\n",
        "  else:\n",
        "    print(\"Its an Odd number\")\n",
        "\n",
        "check_value(10)"
      ],
      "execution_count": null,
      "outputs": [
        {
          "output_type": "stream",
          "text": [
            "Its an Even number\n"
          ],
          "name": "stdout"
        }
      ]
    },
    {
      "cell_type": "markdown",
      "metadata": {
        "id": "18Vw-QoJxTAG"
      },
      "source": [
        "Define a function which can print a dictionary where the keys are\n",
        "numbers between 1 and 3 (both included) and the values are square\n",
        "of keys."
      ]
    },
    {
      "cell_type": "code",
      "metadata": {
        "id": "0O7vvaJuxNzo",
        "outputId": "a2a3bc1e-2f27-45d6-dbc5-0cde7f2f5db3",
        "colab": {
          "base_uri": "https://localhost:8080/",
          "height": 34
        }
      },
      "source": [
        "def printDict():\n",
        "  d= dict()\n",
        "  d[1]= 1\n",
        "  d[2]= 2**2\n",
        "  d[3]= 3 ** 3\n",
        "  print(d)\n",
        "\n",
        "printDict()"
      ],
      "execution_count": null,
      "outputs": [
        {
          "output_type": "stream",
          "text": [
            "{1: 1, 2: 4, 3: 27}\n"
          ],
          "name": "stdout"
        }
      ]
    },
    {
      "cell_type": "markdown",
      "metadata": {
        "id": "0F2o6TVMzCQA"
      },
      "source": [
        "Define a function which can print a dictionary where the keys are\n",
        "numbers between 1 and 20 (both included) and the values are\n",
        "square of keys."
      ]
    },
    {
      "cell_type": "code",
      "metadata": {
        "id": "Ypb3auu0x3av",
        "outputId": "e62da225-aa5b-4304-da12-f3caaf10248c",
        "colab": {
          "base_uri": "https://localhost:8080/",
          "height": 34
        }
      },
      "source": [
        "def printDict():\n",
        "  d=dict()\n",
        "  for i in range(1,21):    \n",
        "    d[i]=i **2\n",
        "  print(d)\n",
        "printDict()"
      ],
      "execution_count": null,
      "outputs": [
        {
          "output_type": "stream",
          "text": [
            "{1: 1, 2: 4, 3: 9, 4: 16, 5: 25, 6: 36, 7: 49, 8: 64, 9: 81, 10: 100, 11: 121, 12: 144, 13: 169, 14: 196, 15: 225, 16: 256, 17: 289, 18: 324, 19: 361, 20: 400}\n"
          ],
          "name": "stdout"
        }
      ]
    },
    {
      "cell_type": "markdown",
      "metadata": {
        "id": "pvr4EKhT0iaO"
      },
      "source": [
        "Define a function which can generate a dictionary where the keys\n",
        "are numbers between 1 and 20 (both included) and the values are\n",
        "square of keys. The function should just print the values only."
      ]
    },
    {
      "cell_type": "code",
      "metadata": {
        "id": "4i_8w41Czws4",
        "outputId": "b81d42b5-125d-483b-dcc3-2370391f1946",
        "colab": {
          "base_uri": "https://localhost:8080/",
          "height": 357
        }
      },
      "source": [
        "def printDict():\n",
        "  d= dict()\n",
        "  for i in range(1,21):\n",
        "    d[i] =i **2\n",
        "  #print(d)\n",
        "  for k in d.keys():\n",
        "    print(k)\n",
        "printDict()"
      ],
      "execution_count": null,
      "outputs": [
        {
          "output_type": "stream",
          "text": [
            "1\n",
            "2\n",
            "3\n",
            "4\n",
            "5\n",
            "6\n",
            "7\n",
            "8\n",
            "9\n",
            "10\n",
            "11\n",
            "12\n",
            "13\n",
            "14\n",
            "15\n",
            "16\n",
            "17\n",
            "18\n",
            "19\n",
            "20\n"
          ],
          "name": "stdout"
        }
      ]
    },
    {
      "cell_type": "markdown",
      "metadata": {
        "id": "mLWVkW4q309Y"
      },
      "source": [
        "Define a function which can generate and print a list where the\n",
        "values are square of numbers between 1 and 20 (both included)."
      ]
    },
    {
      "cell_type": "code",
      "metadata": {
        "id": "QpRj1xxa08tt",
        "outputId": "6a08785d-57f4-42bf-b5bf-e1104ae117e5",
        "colab": {
          "base_uri": "https://localhost:8080/",
          "height": 34
        }
      },
      "source": [
        "def printList():\n",
        "\n",
        "  li = list()\n",
        "  for i in range(1,21):\n",
        "    li.append(i**2)\n",
        "  print(li)\n",
        "\n",
        "printList()"
      ],
      "execution_count": null,
      "outputs": [
        {
          "output_type": "stream",
          "text": [
            "[1, 4, 9, 16, 25, 36, 49, 64, 81, 100, 121, 144, 169, 196, 225, 256, 289, 324, 361, 400]\n"
          ],
          "name": "stdout"
        }
      ]
    },
    {
      "cell_type": "markdown",
      "metadata": {
        "id": "WNGXPyTp4Sw7"
      },
      "source": [
        "Define a function which can generate a list where the values are\n",
        "square of numbers between 1 and 20 (both included). Then the\n",
        "function needs to print the first 5 elements in the list."
      ]
    },
    {
      "cell_type": "code",
      "metadata": {
        "id": "e3RiXgQS4JiW",
        "outputId": "bbb1f4af-d0ce-4e07-f3c6-e58a3935372f",
        "colab": {
          "base_uri": "https://localhost:8080/",
          "height": 34
        }
      },
      "source": [
        "def printList():\n",
        "  li= list()\n",
        "  for i in range(1,21):\n",
        "    li.append(i ** 2)\n",
        "  print(li[:5])\n",
        "printList()"
      ],
      "execution_count": null,
      "outputs": [
        {
          "output_type": "stream",
          "text": [
            "[1, 4, 9, 16, 25]\n"
          ],
          "name": "stdout"
        }
      ]
    },
    {
      "cell_type": "markdown",
      "metadata": {
        "id": "QQGK55N44sgr"
      },
      "source": [
        "Define a function which can generate a list where the values are\n",
        "square of numbers between 1 and 20 (both included). Then the\n",
        "function needs to print the last 5 elements in the list."
      ]
    },
    {
      "cell_type": "code",
      "metadata": {
        "id": "J33ho1g94nHc",
        "outputId": "e5fcd855-09c8-499e-8514-482002249819",
        "colab": {
          "base_uri": "https://localhost:8080/",
          "height": 34
        }
      },
      "source": [
        "def printList():\n",
        "  li= list()\n",
        "  for i in range(1,21):\n",
        "    li.append(i ** 2)\n",
        "  print(li[-5:])\n",
        "printList()"
      ],
      "execution_count": null,
      "outputs": [
        {
          "output_type": "stream",
          "text": [
            "[256, 289, 324, 361, 400]\n"
          ],
          "name": "stdout"
        }
      ]
    },
    {
      "cell_type": "markdown",
      "metadata": {
        "id": "IoM4FhpD7OO4"
      },
      "source": [
        "Define a function which can generate a list where the values are\n",
        "square of numbers between 1 and 20 (both included). Then the\n",
        "function needs to print all values except the first 5 elements in\n",
        "the list."
      ]
    },
    {
      "cell_type": "code",
      "metadata": {
        "id": "w9EPElgZ4wPI",
        "outputId": "c278e1cc-6721-4e63-a0d0-a3bb86e298c9",
        "colab": {
          "base_uri": "https://localhost:8080/",
          "height": 34
        }
      },
      "source": [
        "def printList():\n",
        "  li= list()\n",
        "  for i in range(1,21):\n",
        "    li.append(i ** 2)\n",
        "  print(li[5:])\n",
        "printList()"
      ],
      "execution_count": null,
      "outputs": [
        {
          "output_type": "stream",
          "text": [
            "[36, 49, 64, 81, 100, 121, 144, 169, 196, 225, 256, 289, 324, 361, 400]\n"
          ],
          "name": "stdout"
        }
      ]
    },
    {
      "cell_type": "markdown",
      "metadata": {
        "id": "F9AOD0yW7aXj"
      },
      "source": [
        "Define a function which can generate and print a tuple where the\n",
        "value are square of numbers between 1 and 20 (both included)."
      ]
    },
    {
      "cell_type": "code",
      "metadata": {
        "id": "K743Yt987UuB",
        "outputId": "4dd4d0f0-4587-4ab0-c299-82a235714182",
        "colab": {
          "base_uri": "https://localhost:8080/",
          "height": 34
        }
      },
      "source": [
        "def printTuple():\n",
        "  li= list()\n",
        "  for i in range(1,21):\n",
        "    li.append(i ** 2)\n",
        "  print(tuple(li))\n",
        "printList()"
      ],
      "execution_count": null,
      "outputs": [
        {
          "output_type": "stream",
          "text": [
            "[36, 49, 64, 81, 100, 121, 144, 169, 196, 225, 256, 289, 324, 361, 400]\n"
          ],
          "name": "stdout"
        }
      ]
    },
    {
      "cell_type": "markdown",
      "metadata": {
        "id": "hhFZdJle84oY"
      },
      "source": [
        "With a given tuple (1,2,3,4,5,6,7,8,9,10), write a program to\n",
        "print the first half values in one line and the last half values\n",
        "in one line."
      ]
    },
    {
      "cell_type": "code",
      "metadata": {
        "id": "Ois3j-Zr8dsN",
        "outputId": "3bbe23fc-7c2d-4abd-88ea-37add243c3af",
        "colab": {
          "base_uri": "https://localhost:8080/",
          "height": 51
        }
      },
      "source": [
        "tp=(1,2,3,4,5,6,7,8,9,10)\n",
        "tp1= tp[:5]\n",
        "tp2 = tp[5:]\n",
        "print(tp1)\n",
        "print(tp2)"
      ],
      "execution_count": null,
      "outputs": [
        {
          "output_type": "stream",
          "text": [
            "(1, 2, 3, 4, 5)\n",
            "(6, 7, 8, 9, 10)\n"
          ],
          "name": "stdout"
        }
      ]
    },
    {
      "cell_type": "markdown",
      "metadata": {
        "id": "wfcEr15eDJK3"
      },
      "source": [
        "Write a program to generate and print another tuple whose values\n",
        "are even numbers in the given tuple (1,2,3,4,5,6,7,8,9,10)."
      ]
    },
    {
      "cell_type": "code",
      "metadata": {
        "id": "kgLy-Hnh9NQ-",
        "outputId": "f63c5473-28bd-480c-9ad5-44ac6f40a5f6",
        "colab": {
          "base_uri": "https://localhost:8080/",
          "height": 401
        }
      },
      "source": [
        "tp=(1,2,3,4,5,6,7,8,9,10)\n",
        "li= list()\n",
        "for i in tp:\n",
        "  print(i)\n",
        "  if tp[i]%2 ==0:\n",
        "    li.append(tp[i])\n",
        "\n",
        "tp2= tuple(li)\n",
        "print(tp2)\n"
      ],
      "execution_count": null,
      "outputs": [
        {
          "output_type": "stream",
          "text": [
            "1\n",
            "2\n",
            "3\n",
            "4\n",
            "5\n",
            "6\n",
            "7\n",
            "8\n",
            "9\n",
            "10\n"
          ],
          "name": "stdout"
        },
        {
          "output_type": "error",
          "ename": "IndexError",
          "evalue": "ignored",
          "traceback": [
            "\u001b[0;31m---------------------------------------------------------------------------\u001b[0m",
            "\u001b[0;31mIndexError\u001b[0m                                Traceback (most recent call last)",
            "\u001b[0;32m<ipython-input-37-cfb102ae86d5>\u001b[0m in \u001b[0;36m<module>\u001b[0;34m()\u001b[0m\n\u001b[1;32m      3\u001b[0m \u001b[0;32mfor\u001b[0m \u001b[0mi\u001b[0m \u001b[0;32min\u001b[0m \u001b[0mtp\u001b[0m\u001b[0;34m:\u001b[0m\u001b[0;34m\u001b[0m\u001b[0;34m\u001b[0m\u001b[0m\n\u001b[1;32m      4\u001b[0m   \u001b[0mprint\u001b[0m\u001b[0;34m(\u001b[0m\u001b[0mi\u001b[0m\u001b[0;34m)\u001b[0m\u001b[0;34m\u001b[0m\u001b[0;34m\u001b[0m\u001b[0m\n\u001b[0;32m----> 5\u001b[0;31m   \u001b[0;32mif\u001b[0m \u001b[0mtp\u001b[0m\u001b[0;34m[\u001b[0m\u001b[0mi\u001b[0m\u001b[0;34m]\u001b[0m\u001b[0;34m%\u001b[0m\u001b[0;36m2\u001b[0m \u001b[0;34m==\u001b[0m\u001b[0;36m0\u001b[0m\u001b[0;34m:\u001b[0m\u001b[0;34m\u001b[0m\u001b[0;34m\u001b[0m\u001b[0m\n\u001b[0m\u001b[1;32m      6\u001b[0m     \u001b[0mli\u001b[0m\u001b[0;34m.\u001b[0m\u001b[0mappend\u001b[0m\u001b[0;34m(\u001b[0m\u001b[0mtp\u001b[0m\u001b[0;34m[\u001b[0m\u001b[0mi\u001b[0m\u001b[0;34m]\u001b[0m\u001b[0;34m)\u001b[0m\u001b[0;34m\u001b[0m\u001b[0;34m\u001b[0m\u001b[0m\n\u001b[1;32m      7\u001b[0m \u001b[0;34m\u001b[0m\u001b[0m\n",
            "\u001b[0;31mIndexError\u001b[0m: tuple index out of range"
          ]
        }
      ]
    },
    {
      "cell_type": "markdown",
      "metadata": {
        "id": "T0cuxdK8Fo0v"
      },
      "source": [
        "Write a program which accepts a string as input to print \"Yes\" if\n",
        "the string is \"yes\" or \"YES\" or \"Yes\", otherwise print \"No\"."
      ]
    },
    {
      "cell_type": "code",
      "metadata": {
        "id": "1OdH3rGtFSK0",
        "outputId": "c6acd91d-af00-4c1f-c0be-ecc3de469934",
        "colab": {
          "base_uri": "https://localhost:8080/",
          "height": 51
        }
      },
      "source": [
        "s= input()\n",
        "if s == \"yes\" or s== \"YES\" or s==\"Yes\":\n",
        "  print(\"yes\")\n",
        "else:\n",
        "  print(\"no\")"
      ],
      "execution_count": null,
      "outputs": [
        {
          "output_type": "stream",
          "text": [
            "yes\n",
            "yes\n"
          ],
          "name": "stdout"
        }
      ]
    },
    {
      "cell_type": "markdown",
      "metadata": {
        "id": "psATMhKah8_7"
      },
      "source": [
        "Write a program which can filter even numbers in a list by using\n",
        "filter function. The list is: [1,2,3,4,5,6,7,8,9,10]."
      ]
    },
    {
      "cell_type": "code",
      "metadata": {
        "id": "1G5GwMw8GDF6",
        "outputId": "aaa4294c-117f-4a02-8dc4-00b714e22418",
        "colab": {
          "base_uri": "https://localhost:8080/",
          "height": 34
        }
      },
      "source": [
        "li = [1,2,3,4,5,6,7,8,9,10]\n",
        "even_numbers= filter(lambda x: x%2 ==0, li)\n",
        "print(list(even_numbers))"
      ],
      "execution_count": null,
      "outputs": [
        {
          "output_type": "stream",
          "text": [
            "[2, 4, 6, 8, 10]\n"
          ],
          "name": "stdout"
        }
      ]
    },
    {
      "cell_type": "markdown",
      "metadata": {
        "id": "tHSB1OjtiWDT"
      },
      "source": [
        "Write a program which can map() to make a list whose elements are\n",
        "square of elements in [1,2,3,4,5,6,7,8,9,10]."
      ]
    },
    {
      "cell_type": "code",
      "metadata": {
        "id": "N3JFnPm0iOJI",
        "outputId": "7d6cf763-89b2-4fd2-cdc6-2c551d518e7f",
        "colab": {
          "base_uri": "https://localhost:8080/",
          "height": 34
        }
      },
      "source": [
        "li = [1,2,3,4,5,6,7,8,9,10]\n",
        "squaredNumbers= map(lambda x: x**2,li)\n",
        "print(list(squaredNumbers))"
      ],
      "execution_count": null,
      "outputs": [
        {
          "output_type": "stream",
          "text": [
            "[1, 4, 9, 16, 25, 36, 49, 64, 81, 100]\n"
          ],
          "name": "stdout"
        }
      ]
    },
    {
      "cell_type": "markdown",
      "metadata": {
        "id": "RrD2A5Af1gNK"
      },
      "source": [
        "Write a program which can filter() to make a list whose elements\n",
        "are even number between 1 and 20 (both included)."
      ]
    },
    {
      "cell_type": "code",
      "metadata": {
        "id": "vuYZcDuPqZYZ",
        "outputId": "d308b889-d81f-4ec7-b190-70f9633ac512",
        "colab": {
          "base_uri": "https://localhost:8080/",
          "height": 34
        }
      },
      "source": [
        "evenNumbers = filter(lambda x: x%2==0, range(1,21))\n",
        "print (list(evenNumbers))\n"
      ],
      "execution_count": null,
      "outputs": [
        {
          "output_type": "stream",
          "text": [
            "[2, 4, 6, 8, 10, 12, 14, 16, 18, 20]\n"
          ],
          "name": "stdout"
        }
      ]
    },
    {
      "cell_type": "markdown",
      "metadata": {
        "id": "p8tcyGmkHVvK"
      },
      "source": [
        "Write a program which can map() to make a list whose elements are\n",
        "square of numbers between 1 and 20 (both included)."
      ]
    },
    {
      "cell_type": "code",
      "metadata": {
        "id": "fCBPS0FkGt89",
        "outputId": "9facfe1a-9fa4-469c-e28a-d3d672e45e11",
        "colab": {
          "base_uri": "https://localhost:8080/",
          "height": 34
        }
      },
      "source": [
        "squaredNumbers = map(lambda x: x**2, range(1,21))\n",
        "print(list(squaredNumbers))"
      ],
      "execution_count": null,
      "outputs": [
        {
          "output_type": "stream",
          "text": [
            "[1, 4, 9, 16, 25, 36, 49, 64, 81, 100, 121, 144, 169, 196, 225, 256, 289, 324, 361, 400]\n"
          ],
          "name": "stdout"
        }
      ]
    },
    {
      "cell_type": "markdown",
      "metadata": {
        "id": "BG0JXuOGIZ1F"
      },
      "source": [
        "Define a class named American which has a static method called\n",
        "printNationality."
      ]
    },
    {
      "cell_type": "code",
      "metadata": {
        "id": "ZzuK-UQmHcBb"
      },
      "source": [
        ""
      ],
      "execution_count": null,
      "outputs": []
    },
    {
      "cell_type": "code",
      "metadata": {
        "id": "efZXcJpK11L3",
        "outputId": "5655e68c-79d1-414d-f1db-f035ddac0615",
        "colab": {
          "base_uri": "https://localhost:8080/",
          "height": 51
        }
      },
      "source": [
        "class American(object):\n",
        "  @staticmethod\n",
        "  def printNationality():\n",
        "    print (\"America\")\n",
        "anAmerican = American()\n",
        "anAmerican.printNationality()\n",
        "American.printNationality()"
      ],
      "execution_count": null,
      "outputs": [
        {
          "output_type": "stream",
          "text": [
            "America\n",
            "America\n"
          ],
          "name": "stdout"
        }
      ]
    },
    {
      "cell_type": "markdown",
      "metadata": {
        "id": "kea6o4_lIumP"
      },
      "source": [
        "Define a class named American and its subclass NewYorker."
      ]
    },
    {
      "cell_type": "code",
      "metadata": {
        "id": "s_y4XYNiImkE",
        "outputId": "88e23250-a047-469d-820b-b176424e105e",
        "colab": {
          "base_uri": "https://localhost:8080/",
          "height": 51
        }
      },
      "source": [
        "class American(object):\n",
        "  pass\n",
        "\n",
        "class NewYorker(object):\n",
        "  pass\n",
        "\n",
        "anAmerican = American()\n",
        "aNewYorker = NewYorker()\n",
        "print(anAmerican)\n",
        "print(aNewYorker)\n"
      ],
      "execution_count": null,
      "outputs": [
        {
          "output_type": "stream",
          "text": [
            "<__main__.American object at 0x7f9b4ae5d3c8>\n",
            "<__main__.NewYorker object at 0x7f9b4ae5d390>\n"
          ],
          "name": "stdout"
        }
      ]
    },
    {
      "cell_type": "markdown",
      "metadata": {
        "id": "iqzY6UkSLohT"
      },
      "source": [
        "Define a class named Circle which can be constructed by a radius.\n",
        "The Circle class has a method which can compute the area."
      ]
    },
    {
      "cell_type": "code",
      "metadata": {
        "id": "9xnbWyQDqUIO",
        "outputId": "6bcc90ea-3b0c-41f3-99b6-5accf901febc",
        "colab": {
          "base_uri": "https://localhost:8080/",
          "height": 34
        }
      },
      "source": [
        "class Circle(object):\n",
        "  def __init__(self,r):\n",
        "    self.radius =r\n",
        "  def area(self):\n",
        "    return self.radius**2*3.14\n",
        "\n",
        "aCircle= Circle(2)\n",
        "print(aCircle.area())"
      ],
      "execution_count": null,
      "outputs": [
        {
          "output_type": "stream",
          "text": [
            "12.56\n"
          ],
          "name": "stdout"
        }
      ]
    },
    {
      "cell_type": "markdown",
      "metadata": {
        "id": "059XqtNYN47q"
      },
      "source": [
        "Define a class named Rectangle which can be constructed by a\n",
        "length and width. The Rectangle class has a method which can\n",
        "compute the area."
      ]
    },
    {
      "cell_type": "code",
      "metadata": {
        "id": "XnnnlP1tMOC5",
        "outputId": "8faddb39-7f88-4916-8cd3-8c8d33c9bd3c",
        "colab": {
          "base_uri": "https://localhost:8080/",
          "height": 34
        }
      },
      "source": [
        "class Rectangle(object):\n",
        "  def __init__(self,l,w):\n",
        "    self.length=l\n",
        "    self.width = w\n",
        "  def area(self):\n",
        "    return self.length* self.width\n",
        "\n",
        "aRectangle = Rectangle(2,10)\n",
        "print( aRectangle.area())"
      ],
      "execution_count": null,
      "outputs": [
        {
          "output_type": "stream",
          "text": [
            "20\n"
          ],
          "name": "stdout"
        }
      ]
    },
    {
      "cell_type": "markdown",
      "metadata": {
        "id": "5ZWf44_OOZTM"
      },
      "source": [
        "class has an init function which takes a length as argument. Both\n",
        "classes have a area function which can print the area of the\n",
        "shape where Shape's area is 0 by default."
      ]
    },
    {
      "cell_type": "code",
      "metadata": {
        "id": "_1IWfTW1OU6m",
        "outputId": "c8fc2bb1-afc1-4bca-e97a-34b307e9ae24",
        "colab": {
          "base_uri": "https://localhost:8080/",
          "height": 34
        }
      },
      "source": [
        "class Shape(object):\n",
        "\n",
        "  def __init__(self):\n",
        "    pass\n",
        "  def area(self):\n",
        "    return 0\n",
        "class Square(object):\n",
        "\n",
        "  def __init__(self,l):\n",
        "    self.length= l\n",
        "  def area(self):\n",
        "    return self.length * self.length\n",
        "\n",
        "aSquare = Square(3)\n",
        "print(aSquare.area())\n"
      ],
      "execution_count": null,
      "outputs": [
        {
          "output_type": "stream",
          "text": [
            "9\n"
          ],
          "name": "stdout"
        }
      ]
    },
    {
      "cell_type": "markdown",
      "metadata": {
        "id": "myiwoDSYP6wv"
      },
      "source": [
        "Please raise a RuntimeError exception."
      ]
    },
    {
      "cell_type": "code",
      "metadata": {
        "id": "7NCtYpESP15a",
        "outputId": "04c8bf89-ea61-4bb7-8a79-7673370b41ea",
        "colab": {
          "base_uri": "https://localhost:8080/",
          "height": 163
        }
      },
      "source": [
        "raise RuntimeError('something wrong')"
      ],
      "execution_count": null,
      "outputs": [
        {
          "output_type": "error",
          "ename": "RuntimeError",
          "evalue": "ignored",
          "traceback": [
            "\u001b[0;31m---------------------------------------------------------------------------\u001b[0m",
            "\u001b[0;31mRuntimeError\u001b[0m                              Traceback (most recent call last)",
            "\u001b[0;32m<ipython-input-10-53fba0153627>\u001b[0m in \u001b[0;36m<module>\u001b[0;34m()\u001b[0m\n\u001b[0;32m----> 1\u001b[0;31m \u001b[0;32mraise\u001b[0m \u001b[0mRuntimeError\u001b[0m\u001b[0;34m(\u001b[0m\u001b[0;34m'something wrong'\u001b[0m\u001b[0;34m)\u001b[0m\u001b[0;34m\u001b[0m\u001b[0;34m\u001b[0m\u001b[0m\n\u001b[0m",
            "\u001b[0;31mRuntimeError\u001b[0m: something wrong"
          ]
        }
      ]
    },
    {
      "cell_type": "markdown",
      "metadata": {
        "id": "sAEkcAY5QE0j"
      },
      "source": [
        "Write a function to compute 5/0 and use try/except to catch the\n",
        "exceptions."
      ]
    },
    {
      "cell_type": "code",
      "metadata": {
        "id": "idZKH65oP93N",
        "outputId": "b2c0c20f-3762-446a-e5a2-1289192ed4fa",
        "colab": {
          "base_uri": "https://localhost:8080/",
          "height": 51
        }
      },
      "source": [
        "def throws():\n",
        "  return 5/0\n",
        "\n",
        "try:\n",
        "  throws()\n",
        "except ZeroDivisionError:\n",
        "  print(\"Zero Division Error\")\n",
        "finally:\n",
        "  print(\"In Finally block for cleanup\")\n"
      ],
      "execution_count": null,
      "outputs": [
        {
          "output_type": "stream",
          "text": [
            "Zero Division Error\n",
            "In Finally block for cleanup\n"
          ],
          "name": "stdout"
        }
      ]
    },
    {
      "cell_type": "markdown",
      "metadata": {
        "id": "ZHzV1Ie4RYWc"
      },
      "source": [
        "Define a custom exception class which takes a string message as\n",
        "attribute."
      ]
    },
    {
      "cell_type": "code",
      "metadata": {
        "id": "FeSKIJBuQeIe",
        "outputId": "1ce16b60-5537-4dff-8813-583634005380",
        "colab": {
          "base_uri": "https://localhost:8080/",
          "height": 34
        }
      },
      "source": [
        "class myError(Exception):\n",
        "  \"\"\" My own exception class\n",
        "  Attributes:\n",
        "    msg  -- explanation of the error\n",
        "  \"\"\"\n",
        "  def __init__(self,msg):\n",
        "    self.msg= msg\n",
        "    print(msg)\n",
        "  \n",
        "error = myError(\"Something Wrong\")"
      ],
      "execution_count": null,
      "outputs": [
        {
          "output_type": "stream",
          "text": [
            "Something Wrong\n"
          ],
          "name": "stdout"
        }
      ]
    },
    {
      "cell_type": "markdown",
      "metadata": {
        "id": "P4A7XbrDTZE-"
      },
      "source": [
        "Assuming that we have some email addresses in the\n",
        "\"username@companyname.com\" format, please write program to print\n",
        "the user name of a given email address. Both user names and\n",
        "company names are composed of letters only."
      ]
    },
    {
      "cell_type": "code",
      "metadata": {
        "id": "NIpv9MVdTSTe",
        "outputId": "96daa64c-645f-4bba-9c91-0fc1e8f116ef",
        "colab": {
          "base_uri": "https://localhost:8080/",
          "height": 51
        }
      },
      "source": [
        "import re\n",
        "emailaddress= input()\n",
        "pat2 = \"(\\w+)@(\\w+)\\.(com)\"\n",
        "r2= re.match(pat2,emailaddress)\n",
        "print(r2.group(2))"
      ],
      "execution_count": 2,
      "outputs": [
        {
          "output_type": "stream",
          "text": [
            "plthiyagu@google.com\n",
            "google\n"
          ],
          "name": "stdout"
        }
      ]
    },
    {
      "cell_type": "markdown",
      "metadata": {
        "id": "eQD5SoqukBJR"
      },
      "source": [
        "Write a program which accepts a sequence of words separated by\n",
        "whitespace as input to print the words composed of digits only."
      ]
    },
    {
      "cell_type": "code",
      "metadata": {
        "id": "mv36oB2oiX4O",
        "outputId": "073dab2a-5386-400b-ffbd-5ae3c61cdbe9",
        "colab": {
          "base_uri": "https://localhost:8080/",
          "height": 51
        }
      },
      "source": [
        "import re\n",
        "s= input()\n",
        "print(re.findall(\"\\d+\",s))"
      ],
      "execution_count": 4,
      "outputs": [
        {
          "output_type": "stream",
          "text": [
            "2 and 6 and 6 only\n",
            "['2', '6', '6']\n"
          ],
          "name": "stdout"
        }
      ]
    },
    {
      "cell_type": "markdown",
      "metadata": {
        "id": "u_uEQKwGkXq1"
      },
      "source": [
        "Print a unicode string \"hello world\"."
      ]
    },
    {
      "cell_type": "code",
      "metadata": {
        "id": "1TfzN8eWkUJM",
        "outputId": "cfb8846b-f851-49df-a35b-355d569ae4ab",
        "colab": {
          "base_uri": "https://localhost:8080/",
          "height": 34
        }
      },
      "source": [
        "unicodeString = u\"hello world!\"\n",
        "print(unicodeString)"
      ],
      "execution_count": 5,
      "outputs": [
        {
          "output_type": "stream",
          "text": [
            "hello world!\n"
          ],
          "name": "stdout"
        }
      ]
    },
    {
      "cell_type": "markdown",
      "metadata": {
        "id": "DdeNJSe5nWQG"
      },
      "source": [
        "Write a program to read an ASCII string and to convert it to a\n",
        "32 unicode string encoded by utf-8."
      ]
    },
    {
      "cell_type": "code",
      "metadata": {
        "id": "BhOi-FiWmZHT"
      },
      "source": [
        "s= input()\n",
        "u= s.decode('utf-8')\n",
        "print(u)"
      ],
      "execution_count": null,
      "outputs": []
    },
    {
      "cell_type": "markdown",
      "metadata": {
        "id": "OF5SRnFzpf9J"
      },
      "source": [
        "Write a special comment to indicate a Python source code file is\n",
        "in unicode"
      ]
    },
    {
      "cell_type": "code",
      "metadata": {
        "id": "HLNc1lFenvkI"
      },
      "source": [
        "# -*- coding: utf-8 -*-"
      ],
      "execution_count": 9,
      "outputs": []
    },
    {
      "cell_type": "markdown",
      "metadata": {
        "id": "KM752hzspn2o"
      },
      "source": [
        "Write a program to compute 1/2+2/3+3/4+...+n/n+1 with a given n\n",
        "input by console (n>0)."
      ]
    },
    {
      "cell_type": "code",
      "metadata": {
        "id": "swqxIMkAnhkI",
        "outputId": "d48a1b4a-5cca-4e8e-c9ca-a0855afc03fb",
        "colab": {
          "base_uri": "https://localhost:8080/",
          "height": 51
        }
      },
      "source": [
        "n=int(input())\n",
        "sum=0.0\n",
        "for i in range(1,n+1):\n",
        "  sum += float(float(i)/(i+1))\n",
        "print(sum)"
      ],
      "execution_count": 11,
      "outputs": [
        {
          "output_type": "stream",
          "text": [
            "10\n",
            "7.980122655122655\n"
          ],
          "name": "stdout"
        }
      ]
    },
    {
      "cell_type": "markdown",
      "metadata": {
        "id": "ojyW85A32Muf"
      },
      "source": [
        "Write a program to compute:\n",
        "f(n)=f(n-1)+100 when n>0\n",
        "and f(0)=1\n",
        "with a given n input by console (n>0)."
      ]
    },
    {
      "cell_type": "code",
      "metadata": {
        "id": "0xdiZ_Rf-5Fv",
        "outputId": "00dcd194-b938-4116-d574-c09737a2fb6d",
        "colab": {
          "base_uri": "https://localhost:8080/",
          "height": 51
        }
      },
      "source": [
        "def f(n):\n",
        "  if n==0:\n",
        "    return 0\n",
        "  else:\n",
        "    return f(n-1)+100\n",
        "n=int(input())\n",
        "print(f(n))"
      ],
      "execution_count": 1,
      "outputs": [
        {
          "output_type": "stream",
          "text": [
            "10\n",
            "1000\n"
          ],
          "name": "stdout"
        }
      ]
    },
    {
      "cell_type": "markdown",
      "metadata": {
        "id": "N93QgqYvSzNI"
      },
      "source": [
        "The Fibonacci Sequence is computed based on the following\n",
        "formula:\n",
        "f(n)=0 if n=0\n",
        "f(n)=1 if n=1\n",
        "f(n)=f(n-1)+f(n-2) if n>1\n",
        "Please write a program to compute the value of f(n) with a given n input by console."
      ]
    },
    {
      "cell_type": "code",
      "metadata": {
        "id": "irnYs2NK2ltj",
        "outputId": "e809fe1c-7412-43d7-b2f6-f486cca36d73",
        "colab": {
          "base_uri": "https://localhost:8080/",
          "height": 51
        }
      },
      "source": [
        "def f(n):\n",
        "  if n==0: return 0\n",
        "  if n==1: return 1\n",
        "  else: return f(n-1) + f(n-2)\n",
        "\n",
        "n= int(input())\n",
        "f(n)"
      ],
      "execution_count": 1,
      "outputs": [
        {
          "output_type": "stream",
          "text": [
            "7\n"
          ],
          "name": "stdout"
        },
        {
          "output_type": "execute_result",
          "data": {
            "text/plain": [
              "13"
            ]
          },
          "metadata": {
            "tags": []
          },
          "execution_count": 1
        }
      ]
    },
    {
      "cell_type": "markdown",
      "metadata": {
        "id": "umEtPrdDY-i5"
      },
      "source": [
        "The Fibonacci Sequence is computed based on the following\n",
        "formula:\n",
        "f(n)=0 if n=0\n",
        "f(n)=1 if n=1\n",
        "f(n)=f(n-1)+f(n-2) if n>1\n",
        "Please write a program using list comprehension to print the\n",
        "Fibonacci Sequence in comma separated form with a given n input\n",
        "by console"
      ]
    },
    {
      "cell_type": "code",
      "metadata": {
        "id": "AcOqICPhTS59",
        "outputId": "ec4b3496-83db-419e-d39b-e4fc449cdd17",
        "colab": {
          "base_uri": "https://localhost:8080/",
          "height": 51
        }
      },
      "source": [
        "def f(n):\n",
        "  if n==0: return 0\n",
        "  elif n==1: return 1\n",
        "  else: return f(n-1) + f(n-2)\n",
        "\n",
        "\n",
        "n= int(input())\n",
        "values= [str(f(x)) for x in range (0,n+1)]\n",
        "print(\",\".join(values))"
      ],
      "execution_count": 5,
      "outputs": [
        {
          "output_type": "stream",
          "text": [
            "5\n",
            "0,1,1,2,3,5\n"
          ],
          "name": "stdout"
        }
      ]
    },
    {
      "cell_type": "markdown",
      "metadata": {
        "id": "5h-EkK1zZ26j"
      },
      "source": [
        "Please write a program using generator to print the even numbers\n",
        "between 0 and n in comma separated form while n is input by\n",
        "console."
      ]
    },
    {
      "cell_type": "code",
      "metadata": {
        "id": "f4Vx3F4XZhQz",
        "outputId": "81ea570a-970c-45a5-f879-8b71ba7b5a7e",
        "colab": {
          "base_uri": "https://localhost:8080/",
          "height": 51
        }
      },
      "source": [
        "def EvenGenerator(n):\n",
        "  i=0\n",
        "  while i<=n:\n",
        "    if i %2 ==0:\n",
        "      yield i\n",
        "    i += 1\n",
        "n= int(input())\n",
        "values = []\n",
        "for i in EvenGenerator(n):\n",
        "  values.append(str(i))\n",
        "\n",
        "print(\",\".join(values))"
      ],
      "execution_count": 2,
      "outputs": [
        {
          "output_type": "stream",
          "text": [
            "5\n",
            "0,2,4\n"
          ],
          "name": "stdout"
        }
      ]
    },
    {
      "cell_type": "markdown",
      "metadata": {
        "id": "27Rky3wBN209"
      },
      "source": [
        "Please write a program using generator to print the numbers which\n",
        "can be divisible by 5 and 7 between 0 and n in comma separated\n",
        "form while n is input by console."
      ]
    },
    {
      "cell_type": "code",
      "metadata": {
        "id": "WHgJoWeJNrik",
        "outputId": "acf8aa91-975b-4c0c-c8f4-a88c747834ea",
        "colab": {
          "base_uri": "https://localhost:8080/",
          "height": 51
        }
      },
      "source": [
        "def NumGenerator(n):\n",
        "  for i in range(n+1):\n",
        "    if i % 5 ==0 and i % 7 ==0:\n",
        "      yield i\n",
        "\n",
        "n= int(input())\n",
        "values =[]\n",
        "for i in NumGenerator(n):\n",
        "  values.append(str(i))\n",
        "\n",
        "print(\",\".join(values))\n"
      ],
      "execution_count": 7,
      "outputs": [
        {
          "output_type": "stream",
          "text": [
            "100\n",
            "0,35,70\n"
          ],
          "name": "stdout"
        }
      ]
    },
    {
      "cell_type": "markdown",
      "metadata": {
        "id": "dPPnnDoAOtvS"
      },
      "source": [
        "Please write assert statements to verify that every number in the\n",
        "list [2,4,6,8] is even."
      ]
    },
    {
      "cell_type": "code",
      "metadata": {
        "id": "g1R33cK_OaxD"
      },
      "source": [
        "li =[2,4,6,8]\n",
        "for i in li:\n",
        "  assert i % 2 == 0"
      ],
      "execution_count": 8,
      "outputs": []
    },
    {
      "cell_type": "markdown",
      "metadata": {
        "id": "ySAKHFhbnSoX"
      },
      "source": [
        "Please write a program which accepts basic mathematic expression\n",
        "from console and print the evaluation result."
      ]
    },
    {
      "cell_type": "code",
      "metadata": {
        "id": "7Jcg2JbtnMqC",
        "outputId": "c969db83-e914-4a79-d9ac-9caa8a7474dd",
        "colab": {
          "base_uri": "https://localhost:8080/",
          "height": 51
        }
      },
      "source": [
        "expression = input()\n",
        "print(eval(expression))"
      ],
      "execution_count": 11,
      "outputs": [
        {
          "output_type": "stream",
          "text": [
            "35+3\n",
            "38\n"
          ],
          "name": "stdout"
        }
      ]
    },
    {
      "cell_type": "markdown",
      "metadata": {
        "id": "_sGRAO2kpPAM"
      },
      "source": [
        "Please write a binary search function which searches an item in a\n",
        "sorted list. The function should return the index of element to\n",
        "be searched in the list."
      ]
    },
    {
      "cell_type": "code",
      "metadata": {
        "id": "5d2Ws22kna2f",
        "outputId": "9c3fb9e3-2e1b-447f-f56d-7dce18feceea",
        "colab": {
          "base_uri": "https://localhost:8080/",
          "height": 51
        }
      },
      "source": [
        "import math\n",
        "def bin_search(li, element):\n",
        "  bottom =0\n",
        "  top= len(li)-1\n",
        "  index= -1\n",
        "  while top>=bottom and index==-1:\n",
        "    mid = int(math.floor((top+bottom)/2.0))\n",
        "    if li[mid] == element:\n",
        "      index= mid\n",
        "    elif li[mid] >element:\n",
        "      top =mid -1\n",
        "    else:\n",
        "      bottom = mid+1\n",
        "  return index\n",
        "li=[2,5,7,9,11,17,222]\n",
        "print (bin_search(li,11))\n",
        "print(bin_search(li,12))\n"
      ],
      "execution_count": 13,
      "outputs": [
        {
          "output_type": "stream",
          "text": [
            "4\n",
            "-1\n"
          ],
          "name": "stdout"
        }
      ]
    },
    {
      "cell_type": "markdown",
      "metadata": {
        "id": "2WN8WAk72NUv"
      },
      "source": [
        "Please write a binary search function which searches an item in a\n",
        "sorted list. The function should return the index of element to\n",
        "be searched in the list."
      ]
    },
    {
      "cell_type": "code",
      "metadata": {
        "id": "VU03s9rvOXlU"
      },
      "source": [
        "import math\n",
        "def bin_search(li, element):\n",
        "  bottom =0\n",
        "  top= len(li)-1\n",
        "  index= -1\n",
        "  while top>=bottom and index==-1:\n",
        "    mid = int(math.floor((top+bottom)/2.0))\n",
        "    if li[mid] == element:\n",
        "      index= mid\n",
        "    elif li[mid] >element:\n",
        "      top =mid -1\n",
        "    else:\n",
        "      bottom = mid+1\n",
        "  return index\n",
        "li=[2,5,7,9,11,17,222]\n",
        "print (bin_search(li,11))\n",
        "print(bin_search(li,12))"
      ],
      "execution_count": null,
      "outputs": []
    },
    {
      "cell_type": "code",
      "metadata": {
        "id": "lfxzHMber3Tx",
        "outputId": "3cb3f366-d211-41a1-f0bf-9568ad8f30c6",
        "colab": {
          "base_uri": "https://localhost:8080/",
          "height": 34
        }
      },
      "source": [
        "import random\n",
        "print(random.random()*100)"
      ],
      "execution_count": 14,
      "outputs": [
        {
          "output_type": "stream",
          "text": [
            "65.25631587636772\n"
          ],
          "name": "stdout"
        }
      ]
    },
    {
      "cell_type": "markdown",
      "metadata": {
        "id": "qK-neUQS21ks"
      },
      "source": [
        "Please generate a random float where the value is between 5 and\n",
        "95 using Python math module."
      ]
    },
    {
      "cell_type": "code",
      "metadata": {
        "id": "Yg3Z7yoJkM9j",
        "outputId": "6a33cec7-7b52-4d83-9c69-cbb8f83d71ea",
        "colab": {
          "base_uri": "https://localhost:8080/",
          "height": 34
        }
      },
      "source": [
        "import random\n",
        "print(random.random()*100-5)"
      ],
      "execution_count": 15,
      "outputs": [
        {
          "output_type": "stream",
          "text": [
            "34.6215748838296\n"
          ],
          "name": "stdout"
        }
      ]
    },
    {
      "cell_type": "markdown",
      "metadata": {
        "id": "gNXsjuxAlQLC"
      },
      "source": [
        "Please write a program to output a random even number between 0\n",
        "and 10 inclusive using random module and list comprehension"
      ]
    },
    {
      "cell_type": "code",
      "metadata": {
        "id": "CFc7zJZ2282G",
        "outputId": "c16823d2-8481-4b6d-c679-5271c615d89a",
        "colab": {
          "base_uri": "https://localhost:8080/",
          "height": 34
        }
      },
      "source": [
        "import random\n",
        "print(random.choice([i for i in range(11) if i %2 ==0]))"
      ],
      "execution_count": 1,
      "outputs": [
        {
          "output_type": "stream",
          "text": [
            "8\n"
          ],
          "name": "stdout"
        }
      ]
    },
    {
      "cell_type": "markdown",
      "metadata": {
        "id": "PEG1ZfdHljJH"
      },
      "source": [
        "Please write a program to output a random number, which is\n",
        "divisible by 5 and 7, between 0 and 10 inclusive using random\n",
        "module and list comprehension."
      ]
    },
    {
      "cell_type": "code",
      "metadata": {
        "id": "TF6jXPNDlbZo",
        "outputId": "00c47444-6954-4630-d08d-fb81167859b6",
        "colab": {
          "base_uri": "https://localhost:8080/",
          "height": 34
        }
      },
      "source": [
        "import random\n",
        "print(random.choice([i for i in range (201) if i % 5 ==0 and i %7 ==0]))"
      ],
      "execution_count": 2,
      "outputs": [
        {
          "output_type": "stream",
          "text": [
            "105\n"
          ],
          "name": "stdout"
        }
      ]
    },
    {
      "cell_type": "markdown",
      "metadata": {
        "id": "L6brLlFel2zj"
      },
      "source": [
        "Please write a program to generate a list with 5 random numbers\n",
        "between 100 and 200 inclusive."
      ]
    },
    {
      "cell_type": "code",
      "metadata": {
        "id": "ENv9sRhBlySO",
        "outputId": "7cae21fd-5f77-4dc2-f4fb-249dff9fbe40",
        "colab": {
          "base_uri": "https://localhost:8080/",
          "height": 34
        }
      },
      "source": [
        "print(random.sample(range(100),5))"
      ],
      "execution_count": 6,
      "outputs": [
        {
          "output_type": "stream",
          "text": [
            "[0, 16, 13, 19, 28]\n"
          ],
          "name": "stdout"
        }
      ]
    },
    {
      "cell_type": "markdown",
      "metadata": {
        "id": "l9KNjIN4mJIF"
      },
      "source": [
        "Please write a program to randomly generate a list with 5\n",
        "numbers, which are divisible by 5 and 7 , between 1 and 1000\n",
        "inclusive."
      ]
    },
    {
      "cell_type": "code",
      "metadata": {
        "id": "BulnsPUCl9Lc",
        "outputId": "f477ff9b-2eba-4b18-8adb-be7a0cb18b3a",
        "colab": {
          "base_uri": "https://localhost:8080/",
          "height": 34
        }
      },
      "source": [
        "import random\n",
        "print(random.sample([i for i in range(1,1001) if i % 5 ==0 and i %7 == 0],5))"
      ],
      "execution_count": 9,
      "outputs": [
        {
          "output_type": "stream",
          "text": [
            "[280, 595, 735, 665, 770]\n"
          ],
          "name": "stdout"
        }
      ]
    },
    {
      "cell_type": "markdown",
      "metadata": {
        "id": "GZaMiOUsoJ5O"
      },
      "source": [
        "Please write a program to randomly print a integer number between\n",
        "7 and 15 inclusive."
      ]
    },
    {
      "cell_type": "code",
      "metadata": {
        "id": "n2-fEBI0mc9J",
        "outputId": "c6b2e99e-c7f0-4e63-962f-366e5310442e",
        "colab": {
          "base_uri": "https://localhost:8080/",
          "height": 34
        }
      },
      "source": [
        "import random\n",
        "print(random.randrange(7,16))\n"
      ],
      "execution_count": 10,
      "outputs": [
        {
          "output_type": "stream",
          "text": [
            "13\n"
          ],
          "name": "stdout"
        }
      ]
    },
    {
      "cell_type": "markdown",
      "metadata": {
        "id": "2K91siZpsnpI"
      },
      "source": [
        "Please write a program to compress and decompress the string\n",
        "\"hello world!hello world!hello world!hello world!\"."
      ]
    },
    {
      "cell_type": "code",
      "metadata": {
        "id": "i-0wpTCmskIS",
        "outputId": "786fd3c0-a245-4bdb-9950-4108c308a88b",
        "colab": {
          "base_uri": "https://localhost:8080/",
          "height": 231
        }
      },
      "source": [
        "import zlib\n",
        "s= 'hello world!hello world!hello world!hello world!hello world!'\n",
        "t=zlib.compress(s)\n",
        "print(t)\n",
        "print(zlib.decompress(t))"
      ],
      "execution_count": 11,
      "outputs": [
        {
          "output_type": "error",
          "ename": "TypeError",
          "evalue": "ignored",
          "traceback": [
            "\u001b[0;31m---------------------------------------------------------------------------\u001b[0m",
            "\u001b[0;31mTypeError\u001b[0m                                 Traceback (most recent call last)",
            "\u001b[0;32m<ipython-input-11-80390fc8caca>\u001b[0m in \u001b[0;36m<module>\u001b[0;34m()\u001b[0m\n\u001b[1;32m      1\u001b[0m \u001b[0;32mimport\u001b[0m \u001b[0mzlib\u001b[0m\u001b[0;34m\u001b[0m\u001b[0;34m\u001b[0m\u001b[0m\n\u001b[1;32m      2\u001b[0m \u001b[0ms\u001b[0m\u001b[0;34m=\u001b[0m \u001b[0;34m'hello world!hello world!hello world!hello world!hello world!'\u001b[0m\u001b[0;34m\u001b[0m\u001b[0;34m\u001b[0m\u001b[0m\n\u001b[0;32m----> 3\u001b[0;31m \u001b[0mt\u001b[0m\u001b[0;34m=\u001b[0m\u001b[0mzlib\u001b[0m\u001b[0;34m.\u001b[0m\u001b[0mcompress\u001b[0m\u001b[0;34m(\u001b[0m\u001b[0ms\u001b[0m\u001b[0;34m)\u001b[0m\u001b[0;34m\u001b[0m\u001b[0;34m\u001b[0m\u001b[0m\n\u001b[0m\u001b[1;32m      4\u001b[0m \u001b[0mprint\u001b[0m\u001b[0;34m(\u001b[0m\u001b[0mt\u001b[0m\u001b[0;34m)\u001b[0m\u001b[0;34m\u001b[0m\u001b[0;34m\u001b[0m\u001b[0m\n\u001b[1;32m      5\u001b[0m \u001b[0mprint\u001b[0m\u001b[0;34m(\u001b[0m\u001b[0mzlib\u001b[0m\u001b[0;34m.\u001b[0m\u001b[0mdecompress\u001b[0m\u001b[0;34m(\u001b[0m\u001b[0mt\u001b[0m\u001b[0;34m)\u001b[0m\u001b[0;34m)\u001b[0m\u001b[0;34m\u001b[0m\u001b[0;34m\u001b[0m\u001b[0m\n",
            "\u001b[0;31mTypeError\u001b[0m: a bytes-like object is required, not 'str'"
          ]
        }
      ]
    },
    {
      "cell_type": "markdown",
      "metadata": {
        "id": "2BaQmvnXQ_58"
      },
      "source": [
        "Please write a program to print the running time of execution of\n",
        "\"1+1\" for 100 times."
      ]
    },
    {
      "cell_type": "markdown",
      "metadata": {
        "id": "m4Ynv2lt-lx_"
      },
      "source": [
        "Please write a program to print the running time of execution of\n",
        "\"1+1\" for 100 times."
      ]
    },
    {
      "cell_type": "code",
      "metadata": {
        "id": "UFiy-iAdtBaX",
        "outputId": "a7f082ee-a0d8-428a-c0fe-04135f31ae00",
        "colab": {
          "base_uri": "https://localhost:8080/",
          "height": 34
        }
      },
      "source": [
        "from timeit import Timer\n",
        "t= Timer(\"for i in range(100): 1+1\")\n",
        "print(t.timeit())"
      ],
      "execution_count": 1,
      "outputs": [
        {
          "output_type": "stream",
          "text": [
            "1.7437062220000143\n"
          ],
          "name": "stdout"
        }
      ]
    },
    {
      "cell_type": "markdown",
      "metadata": {
        "id": "CHEAV-kB-sF9"
      },
      "source": [
        "Please write a program to shuffle and print the list [3,6,7,8]."
      ]
    },
    {
      "cell_type": "code",
      "metadata": {
        "id": "MdCCMOj1-omJ",
        "outputId": "7416a915-e031-4b2c-94aa-fa37b7bcbabb",
        "colab": {
          "base_uri": "https://localhost:8080/",
          "height": 34
        }
      },
      "source": [
        "from random import shuffle\n",
        "li =[3,6,7,8]\n",
        "shuffle(li)\n",
        "print(li)"
      ],
      "execution_count": 2,
      "outputs": [
        {
          "output_type": "stream",
          "text": [
            "[3, 7, 8, 6]\n"
          ],
          "name": "stdout"
        }
      ]
    },
    {
      "cell_type": "markdown",
      "metadata": {
        "id": "2RDYH_er-4Ki"
      },
      "source": [
        "Please write a program to generate all sentences where subject is\n",
        "in [\"I\", \"You\"] and verb is in [\"Play\", \"Love\"] and the object is\n",
        "in [\"Hockey\",\"Football\"]."
      ]
    },
    {
      "cell_type": "code",
      "metadata": {
        "id": "Z6ohg3U7-ykU",
        "outputId": "a9ba4f74-c868-4d54-c809-c8cc2f8e500e",
        "colab": {
          "base_uri": "https://localhost:8080/",
          "height": 153
        }
      },
      "source": [
        "subjects =[\"I\",\"You\"]\n",
        "verbs= [\"Play\",\"Love\"]\n",
        "objects = [\"Hockey\",\"FootBall\"]\n",
        "for i in range (len(subjects)):\n",
        "  for j in range(len(verbs)):\n",
        "    for k in range(len(objects)):\n",
        "      sentence= \"%s %s %s.\" % (subjects[i],verbs[j],objects[k])\n",
        "      print(sentence)"
      ],
      "execution_count": 3,
      "outputs": [
        {
          "output_type": "stream",
          "text": [
            "I Play Hockey.\n",
            "I Play FootBall.\n",
            "I Love Hockey.\n",
            "I Love FootBall.\n",
            "You Play Hockey.\n",
            "You Play FootBall.\n",
            "You Love Hockey.\n",
            "You Love FootBall.\n"
          ],
          "name": "stdout"
        }
      ]
    },
    {
      "cell_type": "markdown",
      "metadata": {
        "id": "c6gl7jad-_zP"
      },
      "source": [
        "Please write a program to print the list after removing delete\n",
        "even numbers in [5,6,77,45,22,12,24]."
      ]
    },
    {
      "cell_type": "code",
      "metadata": {
        "id": "A-_uyeiA-7Eu",
        "outputId": "e9ec833a-e03f-407f-8f38-7751284f1858",
        "colab": {
          "base_uri": "https://localhost:8080/",
          "height": 34
        }
      },
      "source": [
        "li =[5,6,77,45,22,12,24]\n",
        "li = [x for x in li if x%2 !=0]\n",
        "print(li)"
      ],
      "execution_count": 4,
      "outputs": [
        {
          "output_type": "stream",
          "text": [
            "[5, 77, 45]\n"
          ],
          "name": "stdout"
        }
      ]
    },
    {
      "cell_type": "markdown",
      "metadata": {
        "id": "gdtDPg0t_G6s"
      },
      "source": [
        "By using list comprehension, please write a program to print the\n",
        "list after removing delete numbers which are divisible by 5 and 7\n",
        "in [12,24,35,70,88,120,155]."
      ]
    },
    {
      "cell_type": "code",
      "metadata": {
        "id": "QSuoAlm9_DAd",
        "outputId": "dfbf9bfe-4311-4313-8930-63ef0b67ab27",
        "colab": {
          "base_uri": "https://localhost:8080/",
          "height": 34
        }
      },
      "source": [
        "li=[12,24,35,70,88,120,155]\n",
        "li = [x for x in li if x % 5 !=0 and x% 7 !=0]\n",
        "print(li)"
      ],
      "execution_count": 5,
      "outputs": [
        {
          "output_type": "stream",
          "text": [
            "[12, 24, 88]\n"
          ],
          "name": "stdout"
        }
      ]
    },
    {
      "cell_type": "markdown",
      "metadata": {
        "id": "gjiNAvgr_Oxb"
      },
      "source": [
        "By using list comprehension, please write a program to print the\n",
        "list after removing the 0th, 2nd, 4th,6th numbers in\n",
        "[12,24,35,70,88,120,155]."
      ]
    },
    {
      "cell_type": "code",
      "metadata": {
        "id": "VvKTc8du_JqS",
        "outputId": "fd000a61-884e-4dc0-fad7-d2762e30a77f",
        "colab": {
          "base_uri": "https://localhost:8080/",
          "height": 34
        }
      },
      "source": [
        "li = [12,24,35,70,88,120,155]\n",
        "li = [x for (i,x) in enumerate(li) if i%2!=0]\n",
        "print(li)"
      ],
      "execution_count": 6,
      "outputs": [
        {
          "output_type": "stream",
          "text": [
            "[24, 70, 120]\n"
          ],
          "name": "stdout"
        }
      ]
    },
    {
      "cell_type": "markdown",
      "metadata": {
        "id": "g9qXNse2_SA0"
      },
      "source": [
        "\n",
        "By using list comprehension, please write a program generate a 3*\n",
        "45\n",
        "5*8 3D array whose each element is 0."
      ]
    },
    {
      "cell_type": "code",
      "metadata": {
        "id": "L2Hfw8Bt_RWU",
        "outputId": "0303b94e-2cef-47ac-9791-f1401712ac15",
        "colab": {
          "base_uri": "https://localhost:8080/",
          "height": 54
        }
      },
      "source": [
        "array =[[[0 for col in range (8)] for col in range(5)] for row in range(3)]\n",
        "print(array)"
      ],
      "execution_count": 7,
      "outputs": [
        {
          "output_type": "stream",
          "text": [
            "[[[0, 0, 0, 0, 0, 0, 0, 0], [0, 0, 0, 0, 0, 0, 0, 0], [0, 0, 0, 0, 0, 0, 0, 0], [0, 0, 0, 0, 0, 0, 0, 0], [0, 0, 0, 0, 0, 0, 0, 0]], [[0, 0, 0, 0, 0, 0, 0, 0], [0, 0, 0, 0, 0, 0, 0, 0], [0, 0, 0, 0, 0, 0, 0, 0], [0, 0, 0, 0, 0, 0, 0, 0], [0, 0, 0, 0, 0, 0, 0, 0]], [[0, 0, 0, 0, 0, 0, 0, 0], [0, 0, 0, 0, 0, 0, 0, 0], [0, 0, 0, 0, 0, 0, 0, 0], [0, 0, 0, 0, 0, 0, 0, 0], [0, 0, 0, 0, 0, 0, 0, 0]]]\n"
          ],
          "name": "stdout"
        }
      ]
    },
    {
      "cell_type": "markdown",
      "metadata": {
        "id": "9PubRl2e_eyF"
      },
      "source": [
        "By using list comprehension, please write a program to print the\n",
        "list after removing the 0th,4th,5th numbers in\n",
        "[12,24,35,70,88,120,155]."
      ]
    },
    {
      "cell_type": "code",
      "metadata": {
        "id": "MM-IILQY_b5D",
        "outputId": "48f69ac3-e4ec-4dc8-bf15-ac610315347d",
        "colab": {
          "base_uri": "https://localhost:8080/",
          "height": 34
        }
      },
      "source": [
        "li = [12,24,35,70,88,120,155]\n",
        "li = [x for (i,x) in enumerate(li) if i not in (0,4,5)]\n",
        "print(li)"
      ],
      "execution_count": 8,
      "outputs": [
        {
          "output_type": "stream",
          "text": [
            "[24, 35, 70, 155]\n"
          ],
          "name": "stdout"
        }
      ]
    },
    {
      "cell_type": "markdown",
      "metadata": {
        "id": "95DVR8SVBT8k"
      },
      "source": [
        "By using list comprehension, please write a program to print the\n",
        "list after removing the value 24 in [12,24,35,24,88,120,155]."
      ]
    },
    {
      "cell_type": "code",
      "metadata": {
        "id": "pZLhIHmaA0wW",
        "outputId": "8a64b1df-cd88-4483-99cc-8203d08a6b5b",
        "colab": {
          "base_uri": "https://localhost:8080/",
          "height": 34
        }
      },
      "source": [
        "li = [12,24,35,24,88,120,155]\n",
        "li = [x for x in li if x!=24]\n",
        "print(li)"
      ],
      "execution_count": 9,
      "outputs": [
        {
          "output_type": "stream",
          "text": [
            "[12, 35, 88, 120, 155]\n"
          ],
          "name": "stdout"
        }
      ]
    },
    {
      "cell_type": "markdown",
      "metadata": {
        "id": "_cXg_7HSBcdd"
      },
      "source": [
        "\n",
        "With a given list [12,24,35,24,88,120,155,88,120,155], write a\n",
        "program to print this list after removing all duplicate values\n",
        "with original order reserved."
      ]
    },
    {
      "cell_type": "code",
      "metadata": {
        "id": "UN7ytFSpBYuD",
        "outputId": "bd5cae9b-36de-407e-c6a4-f7c034f244c9",
        "colab": {
          "base_uri": "https://localhost:8080/",
          "height": 34
        }
      },
      "source": [
        "def removeDuplicate(li):\n",
        "  newli=[]\n",
        "  seen= set()\n",
        "  for item in li:\n",
        "    if item not in seen:\n",
        "      seen.add(item)\n",
        "      newli.append(item)\n",
        "  return newli\n",
        "li=[12,24,35,24,88,120,155,88,120,155]\n",
        "print(removeDuplicate(li))\n"
      ],
      "execution_count": 11,
      "outputs": [
        {
          "output_type": "stream",
          "text": [
            "[12, 24, 35, 88, 120, 155]\n"
          ],
          "name": "stdout"
        }
      ]
    },
    {
      "cell_type": "markdown",
      "metadata": {
        "id": "uylFLuAZCQnA"
      },
      "source": [
        "Define a class Person and its two child classes: Male and Female.\n",
        "All classes have a method \"getGender\" which can print \"Male\" for\n",
        "Male class and \"Female\" for Female class."
      ]
    },
    {
      "cell_type": "code",
      "metadata": {
        "id": "HKzBB-hlCLYY",
        "outputId": "6a3d78e8-4e87-421f-d7df-2df1e86a7c77",
        "colab": {
          "base_uri": "https://localhost:8080/",
          "height": 51
        }
      },
      "source": [
        "class Person(object):\n",
        "\n",
        "  def getGender(self):\n",
        "    return \"Unknown\"\n",
        "\n",
        "class Male(object):\n",
        "\n",
        "  def getGender(self):\n",
        "    return \"Male\"\n",
        "\n",
        "class Female(object):\n",
        "\n",
        "  def getGender(self):\n",
        "    return \"Female\"\n",
        "\n",
        "aMale= Male()\n",
        "aFemale = Female()\n",
        "\n",
        "print(aMale.getGender())\n",
        "print(aFemale.getGender())\n",
        "\n"
      ],
      "execution_count": 13,
      "outputs": [
        {
          "output_type": "stream",
          "text": [
            "Male\n",
            "Female\n"
          ],
          "name": "stdout"
        }
      ]
    },
    {
      "cell_type": "markdown",
      "metadata": {
        "id": "CAduKU13cMk0"
      },
      "source": [
        "Please write a program which count and print the numbers of each\n",
        "character in a string input by console."
      ]
    },
    {
      "cell_type": "code",
      "metadata": {
        "id": "CCbgEEI4ZjvC",
        "outputId": "698e9db3-ad5a-4dd2-efd3-6315f9b49109",
        "colab": {
          "base_uri": "https://localhost:8080/",
          "height": 153
        }
      },
      "source": [
        "dic = {}\n",
        "s= input()\n",
        "for s in s:\n",
        "  dic[s]= dic.get(s,0) +1\n",
        "print(\"\\n\".join(['%s %s' % (k,v) for k,v in dic.items()]))"
      ],
      "execution_count": 16,
      "outputs": [
        {
          "output_type": "stream",
          "text": [
            "abcdefgabc\n",
            "a 2\n",
            "b 2\n",
            "c 2\n",
            "d 1\n",
            "e 1\n",
            "f 1\n",
            "g 1\n"
          ],
          "name": "stdout"
        }
      ]
    },
    {
      "cell_type": "markdown",
      "metadata": {
        "id": "ddWQIyN4dGsG"
      },
      "source": [
        "Please write a program which accepts a string from console and\n",
        "print it in reverse order."
      ]
    },
    {
      "cell_type": "code",
      "metadata": {
        "id": "2KnGXznrcyUe",
        "outputId": "ed92bbd5-070f-44c9-c0c0-a7a1111d975b",
        "colab": {
          "base_uri": "https://localhost:8080/",
          "height": 51
        }
      },
      "source": [
        "s = input()\n",
        "s= s[::-1]\n",
        "print(s)"
      ],
      "execution_count": 18,
      "outputs": [
        {
          "output_type": "stream",
          "text": [
            "Hello\n",
            "olleH\n"
          ],
          "name": "stdout"
        }
      ]
    },
    {
      "cell_type": "markdown",
      "metadata": {
        "id": "dQ6UoBeqfzga"
      },
      "source": [
        "Please write a program which accepts a string from console and\n",
        "print the characters that have even indexes."
      ]
    },
    {
      "cell_type": "code",
      "metadata": {
        "id": "_zTOMm0gdQO4",
        "outputId": "bf6728c3-0a60-453e-9cf1-9bc14956d3aa",
        "colab": {
          "base_uri": "https://localhost:8080/",
          "height": 51
        }
      },
      "source": [
        "s=input()\n",
        "s = s[::2]\n",
        "print (s)"
      ],
      "execution_count": 19,
      "outputs": [
        {
          "output_type": "stream",
          "text": [
            "H1e2l3l4o5w6o7r8l9d\n",
            "Helloworld\n"
          ],
          "name": "stdout"
        }
      ]
    },
    {
      "cell_type": "markdown",
      "metadata": {
        "id": "Q3RODbM1gDhb"
      },
      "source": [
        "Please write a program which prints all permutations of [1,2,3]"
      ]
    },
    {
      "cell_type": "code",
      "metadata": {
        "id": "KN6Z0qdBf6Sj",
        "outputId": "c862c0f9-8e00-4685-9b80-51be41171ce8",
        "colab": {
          "base_uri": "https://localhost:8080/",
          "height": 34
        }
      },
      "source": [
        "import itertools\n",
        "print (list(itertools.permutations([1,2,3])))"
      ],
      "execution_count": 20,
      "outputs": [
        {
          "output_type": "stream",
          "text": [
            "[(1, 2, 3), (1, 3, 2), (2, 1, 3), (2, 3, 1), (3, 1, 2), (3, 2, 1)]\n"
          ],
          "name": "stdout"
        }
      ]
    },
    {
      "cell_type": "markdown",
      "metadata": {
        "id": "l6WmNVf1gMcO"
      },
      "source": [
        "Write a program to solve a classic ancient Chinese puzzle:\n",
        "We count 35 heads and 94 legs among the chickens and rabbits in a\n",
        "farm. How many rabbits and how many chickens do we have?"
      ]
    },
    {
      "cell_type": "code",
      "metadata": {
        "id": "G_yI_BMSgHxO",
        "outputId": "01604300-de9a-436d-c8c7-63b36779cdba",
        "colab": {
          "base_uri": "https://localhost:8080/",
          "height": 34
        }
      },
      "source": [
        "def solve(numheads,numlegs):\n",
        "  ns='No solutions!'\n",
        "  for i in range(numheads+1):\n",
        "    j=numheads-i\n",
        "    if 2*i+4*j==numlegs:\n",
        "      return i,j\n",
        "  return ns,ns\n",
        "numheads=35\n",
        "numlegs=94\n",
        "solutions=solve(numheads,numlegs)\n",
        "print( solutions)"
      ],
      "execution_count": 21,
      "outputs": [
        {
          "output_type": "stream",
          "text": [
            "(23, 12)\n"
          ],
          "name": "stdout"
        }
      ]
    },
    {
      "cell_type": "code",
      "metadata": {
        "id": "Lrz_X9lrgZ5W"
      },
      "source": [
        ""
      ],
      "execution_count": null,
      "outputs": []
    },
    {
      "cell_type": "code",
      "metadata": {
        "id": "DYJy-WBLCMDG"
      },
      "source": [
        ""
      ],
      "execution_count": 11,
      "outputs": []
    },
    {
      "cell_type": "code",
      "metadata": {
        "id": "sKWbswsSCMRd"
      },
      "source": [
        ""
      ],
      "execution_count": null,
      "outputs": []
    },
    {
      "cell_type": "code",
      "metadata": {
        "id": "2KCf5diOBh2l"
      },
      "source": [
        ""
      ],
      "execution_count": null,
      "outputs": []
    },
    {
      "cell_type": "code",
      "metadata": {
        "id": "9-O23F8oh8Fa"
      },
      "source": [
        ""
      ],
      "execution_count": null,
      "outputs": []
    }
  ]
}