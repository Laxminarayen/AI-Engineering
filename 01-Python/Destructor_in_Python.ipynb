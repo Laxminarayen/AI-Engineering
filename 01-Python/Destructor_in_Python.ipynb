{
  "nbformat": 4,
  "nbformat_minor": 0,
  "metadata": {
    "colab": {
      "name": "Destructor in Python.ipynb",
      "provenance": [],
      "collapsed_sections": [],
      "authorship_tag": "ABX9TyPy54o4CqpWLcZq5Ui5SJ+Y",
      "include_colab_link": true
    },
    "kernelspec": {
      "name": "python3",
      "display_name": "Python 3"
    }
  },
  "cells": [
    {
      "cell_type": "markdown",
      "metadata": {
        "id": "view-in-github",
        "colab_type": "text"
      },
      "source": [
        "<a href=\"https://colab.research.google.com/github/plthiyagu/Personnel/blob/master/Destructor_in_Python.ipynb\" target=\"_parent\"><img src=\"https://colab.research.google.com/assets/colab-badge.svg\" alt=\"Open In Colab\"/></a>"
      ]
    },
    {
      "cell_type": "markdown",
      "metadata": {
        "id": "o2flbxOSZfOg",
        "colab_type": "text"
      },
      "source": [
        "Destructor in Python\n",
        "del () method known as destructor method in python\n",
        "destructors are called when a object needs to be destroyed"
      ]
    },
    {
      "cell_type": "code",
      "metadata": {
        "id": "h2VITKiCYmfO",
        "colab_type": "code",
        "colab": {
          "base_uri": "https://localhost:8080/",
          "height": 34
        },
        "outputId": "b5f6fa9f-6be7-4c68-bbd1-8606c020264a"
      },
      "source": [
        "class Point:\n",
        "  def __init__(self):\n",
        "    self.x=3\n",
        "    self.y=4\n",
        "  def __del__(self):\n",
        "    class_name=self.__class__.__name__\n",
        "    print(\"Object is now destroyed\")\n",
        "\n",
        "obj=Point()\n",
        "del obj"
      ],
      "execution_count": 1,
      "outputs": [
        {
          "output_type": "stream",
          "text": [
            "Object is now destroyed\n"
          ],
          "name": "stdout"
        }
      ]
    },
    {
      "cell_type": "code",
      "metadata": {
        "id": "r6FDWq-WZZqk",
        "colab_type": "code",
        "colab": {}
      },
      "source": [
        ""
      ],
      "execution_count": 0,
      "outputs": []
    },
    {
      "cell_type": "markdown",
      "metadata": {
        "id": "r5jN6N9LZeOq",
        "colab_type": "text"
      },
      "source": [
        ""
      ]
    }
  ]
}