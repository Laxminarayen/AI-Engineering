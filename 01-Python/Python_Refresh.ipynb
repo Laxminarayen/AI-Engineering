{
  "nbformat": 4,
  "nbformat_minor": 0,
  "metadata": {
    "colab": {
      "name": "Python Refresh.ipynb",
      "provenance": [],
      "collapsed_sections": [],
      "authorship_tag": "ABX9TyNZGjYHGehQRghRMN0HXH/z",
      "include_colab_link": true
    },
    "kernelspec": {
      "name": "python3",
      "display_name": "Python 3"
    }
  },
  "cells": [
    {
      "cell_type": "markdown",
      "metadata": {
        "id": "view-in-github",
        "colab_type": "text"
      },
      "source": [
        "<a href=\"https://colab.research.google.com/github/plthiyagu/Personnel/blob/master/Python_Refresh.ipynb\" target=\"_parent\"><img src=\"https://colab.research.google.com/assets/colab-badge.svg\" alt=\"Open In Colab\"/></a>"
      ]
    },
    {
      "cell_type": "code",
      "metadata": {
        "id": "haU0ROgdo1FW",
        "colab_type": "code",
        "outputId": "e8b7f158-4ffc-45c3-8d04-804318213a11",
        "colab": {
          "base_uri": "https://localhost:8080/",
          "height": 34
        }
      },
      "source": [
        "print(\"Hello World\")"
      ],
      "execution_count": 1,
      "outputs": [
        {
          "output_type": "stream",
          "text": [
            "Hello World\n"
          ],
          "name": "stdout"
        }
      ]
    },
    {
      "cell_type": "markdown",
      "metadata": {
        "id": "85BRYw_9FI8S",
        "colab_type": "text"
      },
      "source": [
        "Hello world with a variable"
      ]
    },
    {
      "cell_type": "code",
      "metadata": {
        "id": "rvF_8eO_E91i",
        "colab_type": "code",
        "outputId": "93e6e680-b114-4e9d-86e9-c2bd44374bd9",
        "colab": {
          "base_uri": "https://localhost:8080/",
          "height": 34
        }
      },
      "source": [
        "msg = \"Hello World\"\n",
        "print(msg)"
      ],
      "execution_count": 2,
      "outputs": [
        {
          "output_type": "stream",
          "text": [
            "Hello World\n"
          ],
          "name": "stdout"
        }
      ]
    },
    {
      "cell_type": "markdown",
      "metadata": {
        "id": "3-cfR6gLFLyi",
        "colab_type": "text"
      },
      "source": [
        "Concatenation (combining strings)"
      ]
    },
    {
      "cell_type": "code",
      "metadata": {
        "id": "OobqE50qFEma",
        "colab_type": "code",
        "outputId": "3d1ce482-aed0-40c7-9f14-682123a6fea3",
        "colab": {
          "base_uri": "https://localhost:8080/",
          "height": 34
        }
      },
      "source": [
        "firstname ='Albert'\n",
        "lastname = 'Einstein'\n",
        "fullname = firstname + ' ' + lastname\n",
        "print(fullname)"
      ],
      "execution_count": 3,
      "outputs": [
        {
          "output_type": "stream",
          "text": [
            "Albert Einstein\n"
          ],
          "name": "stdout"
        }
      ]
    },
    {
      "cell_type": "markdown",
      "metadata": {
        "id": "-jHiUjyYGOzG",
        "colab_type": "text"
      },
      "source": [
        "A list stores a series of items in a particular order. You access items using an index, or within a loop.\n"
      ]
    },
    {
      "cell_type": "markdown",
      "metadata": {
        "id": "0DdXI4yVGhCA",
        "colab_type": "text"
      },
      "source": [
        "Make a list"
      ]
    },
    {
      "cell_type": "code",
      "metadata": {
        "id": "pHh2WCqWFc0J",
        "colab_type": "code",
        "colab": {}
      },
      "source": [
        "bikes = ['trek','redline','giant']"
      ],
      "execution_count": 0,
      "outputs": []
    },
    {
      "cell_type": "markdown",
      "metadata": {
        "id": "ep08SeSuGooK",
        "colab_type": "text"
      },
      "source": [
        "Get the first item in a list"
      ]
    },
    {
      "cell_type": "code",
      "metadata": {
        "id": "d-Xt1XDrSgYV",
        "colab_type": "code",
        "outputId": "df48e1ff-4277-4685-f023-25bd14ad512e",
        "colab": {
          "base_uri": "https://localhost:8080/",
          "height": 34
        }
      },
      "source": [
        "bikes[0]"
      ],
      "execution_count": 5,
      "outputs": [
        {
          "output_type": "execute_result",
          "data": {
            "text/plain": [
              "'trek'"
            ]
          },
          "metadata": {
            "tags": []
          },
          "execution_count": 5
        }
      ]
    },
    {
      "cell_type": "markdown",
      "metadata": {
        "id": "AHOZrpOVGvo4",
        "colab_type": "text"
      },
      "source": [
        "Get the last item in a list"
      ]
    },
    {
      "cell_type": "code",
      "metadata": {
        "id": "5z2sjU3_Gs0t",
        "colab_type": "code",
        "outputId": "0ac37f67-62f3-4144-f932-d37b7cf19b44",
        "colab": {
          "base_uri": "https://localhost:8080/",
          "height": 34
        }
      },
      "source": [
        "bikes[-1]"
      ],
      "execution_count": 6,
      "outputs": [
        {
          "output_type": "execute_result",
          "data": {
            "text/plain": [
              "'giant'"
            ]
          },
          "metadata": {
            "tags": []
          },
          "execution_count": 6
        }
      ]
    },
    {
      "cell_type": "markdown",
      "metadata": {
        "id": "Ypn22fgzG19C",
        "colab_type": "text"
      },
      "source": [
        "Adding items to a list\n",
        "\n"
      ]
    },
    {
      "cell_type": "code",
      "metadata": {
        "id": "PyfAPAgdG0ws",
        "colab_type": "code",
        "outputId": "14c1680a-9805-498f-f12f-7168297fdc3c",
        "colab": {
          "base_uri": "https://localhost:8080/",
          "height": 34
        }
      },
      "source": [
        "bikes.append('cycle')\n",
        "bikes"
      ],
      "execution_count": 7,
      "outputs": [
        {
          "output_type": "execute_result",
          "data": {
            "text/plain": [
              "['trek', 'redline', 'giant', 'cycle']"
            ]
          },
          "metadata": {
            "tags": []
          },
          "execution_count": 7
        }
      ]
    },
    {
      "cell_type": "markdown",
      "metadata": {
        "id": "Gz014QH7bs2k",
        "colab_type": "text"
      },
      "source": [
        "Remove an item by value"
      ]
    },
    {
      "cell_type": "code",
      "metadata": {
        "id": "DhLKgkp7boeK",
        "colab_type": "code",
        "outputId": "444551e8-5c82-4375-ee2d-a542c987322f",
        "colab": {
          "base_uri": "https://localhost:8080/",
          "height": 34
        }
      },
      "source": [
        "bikes.remove('cycle')\n",
        "bikes"
      ],
      "execution_count": 8,
      "outputs": [
        {
          "output_type": "execute_result",
          "data": {
            "text/plain": [
              "['trek', 'redline', 'giant']"
            ]
          },
          "metadata": {
            "tags": []
          },
          "execution_count": 8
        }
      ]
    },
    {
      "cell_type": "code",
      "metadata": {
        "id": "nKD0z7EhcHQt",
        "colab_type": "code",
        "outputId": "87b59821-d48a-4b54-cbd1-20b503f1f731",
        "colab": {
          "base_uri": "https://localhost:8080/",
          "height": 34
        }
      },
      "source": [
        "print([s for s in bikes if s.endswith('e')])"
      ],
      "execution_count": 9,
      "outputs": [
        {
          "output_type": "stream",
          "text": [
            "['redline']\n"
          ],
          "name": "stdout"
        }
      ]
    },
    {
      "cell_type": "markdown",
      "metadata": {
        "id": "xZ2dHDVAeJ9G",
        "colab_type": "text"
      },
      "source": [
        "Reverse the List"
      ]
    },
    {
      "cell_type": "code",
      "metadata": {
        "id": "DUwazg9Pd7D-",
        "colab_type": "code",
        "outputId": "d791d0cb-e358-41c2-c8ba-4bf355784152",
        "colab": {
          "base_uri": "https://localhost:8080/",
          "height": 51
        }
      },
      "source": [
        "newstr = bikes[::-1]\n",
        "print(bikes)\n",
        "print(newstr)"
      ],
      "execution_count": 10,
      "outputs": [
        {
          "output_type": "stream",
          "text": [
            "['trek', 'redline', 'giant']\n",
            "['giant', 'redline', 'trek']\n"
          ],
          "name": "stdout"
        }
      ]
    },
    {
      "cell_type": "markdown",
      "metadata": {
        "id": "8xU4NnxsHF1F",
        "colab_type": "text"
      },
      "source": [
        "Making numerical lists"
      ]
    },
    {
      "cell_type": "code",
      "metadata": {
        "id": "sNa6WWR9HAzn",
        "colab_type": "code",
        "outputId": "d182f645-07dd-43d3-e388-8240478571a6",
        "colab": {
          "base_uri": "https://localhost:8080/",
          "height": 34
        }
      },
      "source": [
        "squares=[]\n",
        "for x in range(1,11):\n",
        "  squares.append(x**2)\n",
        "squares"
      ],
      "execution_count": 11,
      "outputs": [
        {
          "output_type": "execute_result",
          "data": {
            "text/plain": [
              "[1, 4, 9, 16, 25, 36, 49, 64, 81, 100]"
            ]
          },
          "metadata": {
            "tags": []
          },
          "execution_count": 11
        }
      ]
    },
    {
      "cell_type": "markdown",
      "metadata": {
        "id": "BWBuW3I_KatS",
        "colab_type": "text"
      },
      "source": [
        "List comprehensions"
      ]
    },
    {
      "cell_type": "code",
      "metadata": {
        "id": "NC07ghI9JKsR",
        "colab_type": "code",
        "outputId": "ca0c5193-80a3-4c78-b13d-3fac0570eead",
        "colab": {
          "base_uri": "https://localhost:8080/",
          "height": 34
        }
      },
      "source": [
        "squares=[x**2 for x in range(1,11)]\n",
        "squares"
      ],
      "execution_count": 12,
      "outputs": [
        {
          "output_type": "execute_result",
          "data": {
            "text/plain": [
              "[1, 4, 9, 16, 25, 36, 49, 64, 81, 100]"
            ]
          },
          "metadata": {
            "tags": []
          },
          "execution_count": 12
        }
      ]
    },
    {
      "cell_type": "markdown",
      "metadata": {
        "id": "eYc-KUzVKpXD",
        "colab_type": "text"
      },
      "source": [
        "Slicing a list"
      ]
    },
    {
      "cell_type": "code",
      "metadata": {
        "id": "Qzazpx3pKm5E",
        "colab_type": "code",
        "outputId": "4c05ae26-61d2-4e5c-823a-7abc995a2f9d",
        "colab": {
          "base_uri": "https://localhost:8080/",
          "height": 34
        }
      },
      "source": [
        "finishers = ['sam', 'bob', 'ada', 'bea']\n",
        "firsttwo= finishers[:2]\n",
        "firsttwo"
      ],
      "execution_count": 13,
      "outputs": [
        {
          "output_type": "execute_result",
          "data": {
            "text/plain": [
              "['sam', 'bob']"
            ]
          },
          "metadata": {
            "tags": []
          },
          "execution_count": 13
        }
      ]
    },
    {
      "cell_type": "markdown",
      "metadata": {
        "id": "bDzO-K_wRRS2",
        "colab_type": "text"
      },
      "source": [
        "Copying a list"
      ]
    },
    {
      "cell_type": "code",
      "metadata": {
        "id": "Jz-3j8J-K0W9",
        "colab_type": "code",
        "outputId": "4f642596-80d8-4ce7-e9c6-7fb5671aa593",
        "colab": {
          "base_uri": "https://localhost:8080/",
          "height": 34
        }
      },
      "source": [
        "copyofbikes= bikes[:]\n",
        "copyofbikes"
      ],
      "execution_count": 14,
      "outputs": [
        {
          "output_type": "execute_result",
          "data": {
            "text/plain": [
              "['trek', 'redline', 'giant']"
            ]
          },
          "metadata": {
            "tags": []
          },
          "execution_count": 14
        }
      ]
    },
    {
      "cell_type": "markdown",
      "metadata": {
        "id": "aa2L6YjTRcdc",
        "colab_type": "text"
      },
      "source": [
        "Tuples are similar to lists, but the items in a tuple can't be \n",
        "modified.\n"
      ]
    },
    {
      "cell_type": "markdown",
      "metadata": {
        "id": "yJ3iFJ8sRh7J",
        "colab_type": "text"
      },
      "source": [
        "Making a tuple"
      ]
    },
    {
      "cell_type": "code",
      "metadata": {
        "id": "H7v-u-HYRYkO",
        "colab_type": "code",
        "outputId": "b021b54e-5aaf-414a-b35e-e9fd68f80032",
        "colab": {
          "base_uri": "https://localhost:8080/",
          "height": 34
        }
      },
      "source": [
        "dimensions = (1920, 1080)\n",
        "dimensions"
      ],
      "execution_count": 15,
      "outputs": [
        {
          "output_type": "execute_result",
          "data": {
            "text/plain": [
              "(1920, 1080)"
            ]
          },
          "metadata": {
            "tags": []
          },
          "execution_count": 15
        }
      ]
    },
    {
      "cell_type": "markdown",
      "metadata": {
        "id": "tNLgwQG2tn7G",
        "colab_type": "text"
      },
      "source": [
        "If statements are used to test for particular conditions and respond appropriately.\n"
      ]
    },
    {
      "cell_type": "markdown",
      "metadata": {
        "id": "0lfSVyiku4r0",
        "colab_type": "text"
      },
      "source": [
        "Conditional test with lists"
      ]
    },
    {
      "cell_type": "code",
      "metadata": {
        "id": "TumQ2X87Rm8i",
        "colab_type": "code",
        "outputId": "74c0d828-27a7-4196-ca9a-b45bcd50f795",
        "colab": {
          "base_uri": "https://localhost:8080/",
          "height": 34
        }
      },
      "source": [
        "if('trek' in bikes):\n",
        "  print(bikes)"
      ],
      "execution_count": 16,
      "outputs": [
        {
          "output_type": "stream",
          "text": [
            "['trek', 'redline', 'giant']\n"
          ],
          "name": "stdout"
        }
      ]
    },
    {
      "cell_type": "code",
      "metadata": {
        "id": "jNXr76YGKiUO",
        "colab_type": "code",
        "outputId": "293701c5-c3f3-4918-f976-9c96f0b7594a",
        "colab": {
          "base_uri": "https://localhost:8080/",
          "height": 34
        }
      },
      "source": [
        "if('surly' not in bikes):\n",
        "  print('surly')"
      ],
      "execution_count": 17,
      "outputs": [
        {
          "output_type": "stream",
          "text": [
            "surly\n"
          ],
          "name": "stdout"
        }
      ]
    },
    {
      "cell_type": "markdown",
      "metadata": {
        "id": "CiKmisWfu7lk",
        "colab_type": "text"
      },
      "source": [
        "A simple if test"
      ]
    },
    {
      "cell_type": "code",
      "metadata": {
        "id": "bATqRO7TuP0b",
        "colab_type": "code",
        "outputId": "b51c8872-9287-4f6c-d69d-68cb72681a3e",
        "colab": {
          "base_uri": "https://localhost:8080/",
          "height": 34
        }
      },
      "source": [
        "age=21\n",
        "if(age >=18):\n",
        "  print(\"You can vote!\")"
      ],
      "execution_count": 18,
      "outputs": [
        {
          "output_type": "stream",
          "text": [
            "You can vote!\n"
          ],
          "name": "stdout"
        }
      ]
    },
    {
      "cell_type": "markdown",
      "metadata": {
        "id": "2PtFYsxMvAHR",
        "colab_type": "text"
      },
      "source": [
        "If-elif-else statements"
      ]
    },
    {
      "cell_type": "code",
      "metadata": {
        "id": "Zpx9QExbuYhn",
        "colab_type": "code",
        "outputId": "831cb229-dbfe-4fca-e77f-e64bb2543cd5",
        "colab": {
          "base_uri": "https://localhost:8080/",
          "height": 34
        }
      },
      "source": [
        "if(age <4):\n",
        "  ticketprice=0\n",
        "elif(age, 18):\n",
        "  ticketprice=10\n",
        "else:\n",
        "  ticketprice=15\n",
        "ticketprice"
      ],
      "execution_count": 19,
      "outputs": [
        {
          "output_type": "execute_result",
          "data": {
            "text/plain": [
              "10"
            ]
          },
          "metadata": {
            "tags": []
          },
          "execution_count": 19
        }
      ]
    },
    {
      "cell_type": "markdown",
      "metadata": {
        "id": "eM6hZlP9vEFH",
        "colab_type": "text"
      },
      "source": [
        "Assigning boolean values"
      ]
    },
    {
      "cell_type": "code",
      "metadata": {
        "id": "kt4t2cYxuxAn",
        "colab_type": "code",
        "colab": {}
      },
      "source": [
        "game_active = True\n",
        "can_edit = False"
      ],
      "execution_count": 0,
      "outputs": []
    },
    {
      "cell_type": "markdown",
      "metadata": {
        "id": "eXHrD2-tvPJF",
        "colab_type": "text"
      },
      "source": [
        "Dictionaries store connections between pieces of information. Each item in a dictionary is a key-value pair."
      ]
    },
    {
      "cell_type": "markdown",
      "metadata": {
        "id": "rKJjixJCwso2",
        "colab_type": "text"
      },
      "source": [
        "A simple dictionary"
      ]
    },
    {
      "cell_type": "code",
      "metadata": {
        "id": "4SRocRA3vLCw",
        "colab_type": "code",
        "outputId": "b7ef73c4-8ff6-489f-9d48-7a3b42fd3598",
        "colab": {
          "base_uri": "https://localhost:8080/",
          "height": 34
        }
      },
      "source": [
        "alien= { 'color':'green','points':5}\n",
        "alien"
      ],
      "execution_count": 21,
      "outputs": [
        {
          "output_type": "execute_result",
          "data": {
            "text/plain": [
              "{'color': 'green', 'points': 5}"
            ]
          },
          "metadata": {
            "tags": []
          },
          "execution_count": 21
        }
      ]
    },
    {
      "cell_type": "markdown",
      "metadata": {
        "id": "pMTRUSgqwxuo",
        "colab_type": "text"
      },
      "source": [
        "Accessing a value"
      ]
    },
    {
      "cell_type": "code",
      "metadata": {
        "id": "Jh7c-6FWwoeY",
        "colab_type": "code",
        "outputId": "62f61520-63a3-4cd9-af67-82fbb1ff84cf",
        "colab": {
          "base_uri": "https://localhost:8080/",
          "height": 34
        }
      },
      "source": [
        "print(\"The alien's color is \" + alien['color'])"
      ],
      "execution_count": 22,
      "outputs": [
        {
          "output_type": "stream",
          "text": [
            "The alien's color is green\n"
          ],
          "name": "stdout"
        }
      ]
    },
    {
      "cell_type": "markdown",
      "metadata": {
        "id": "vWGgFHt9xYMc",
        "colab_type": "text"
      },
      "source": [
        "Adding a new key-value pair"
      ]
    },
    {
      "cell_type": "code",
      "metadata": {
        "id": "RF8slDgSwl_u",
        "colab_type": "code",
        "outputId": "5c503f5c-115d-4607-a714-915bb2199b6d",
        "colab": {
          "base_uri": "https://localhost:8080/",
          "height": 34
        }
      },
      "source": [
        "alien['xposition']=0\n",
        "alien"
      ],
      "execution_count": 23,
      "outputs": [
        {
          "output_type": "execute_result",
          "data": {
            "text/plain": [
              "{'color': 'green', 'points': 5, 'xposition': 0}"
            ]
          },
          "metadata": {
            "tags": []
          },
          "execution_count": 23
        }
      ]
    },
    {
      "cell_type": "markdown",
      "metadata": {
        "id": "qYX37XYlxj7V",
        "colab_type": "text"
      },
      "source": [
        "Looping through all key-value pairs"
      ]
    },
    {
      "cell_type": "code",
      "metadata": {
        "id": "AftOE-qtxeID",
        "colab_type": "code",
        "outputId": "48dc84c6-7d3b-40d9-eb4d-44610684645c",
        "colab": {
          "base_uri": "https://localhost:8080/",
          "height": 51
        }
      },
      "source": [
        "favnumbers = {'eric': 17, 'ever': 4}\n",
        "for name,number in favnumbers.items():\n",
        "  print(name + ' loves ' + str(number))"
      ],
      "execution_count": 24,
      "outputs": [
        {
          "output_type": "stream",
          "text": [
            "eric loves 17\n",
            "ever loves 4\n"
          ],
          "name": "stdout"
        }
      ]
    },
    {
      "cell_type": "markdown",
      "metadata": {
        "id": "uQRraA60zKL8",
        "colab_type": "text"
      },
      "source": [
        "Looping through all keys"
      ]
    },
    {
      "cell_type": "code",
      "metadata": {
        "id": "Ser2x5ENyXYP",
        "colab_type": "code",
        "outputId": "46774f03-fcb5-4ab4-ec48-935f0b192da8",
        "colab": {
          "base_uri": "https://localhost:8080/",
          "height": 51
        }
      },
      "source": [
        "favnumbers = {'eric': 17, 'ever': 4}\n",
        "for name in favnumbers.keys():\n",
        "  print(name + ' loves a number')"
      ],
      "execution_count": 25,
      "outputs": [
        {
          "output_type": "stream",
          "text": [
            "eric loves a number\n",
            "ever loves a number\n"
          ],
          "name": "stdout"
        }
      ]
    },
    {
      "cell_type": "markdown",
      "metadata": {
        "id": "2BxANAYEzl3_",
        "colab_type": "text"
      },
      "source": [
        "Looping through all the values"
      ]
    },
    {
      "cell_type": "code",
      "metadata": {
        "id": "pOYN9S-RzlEg",
        "colab_type": "code",
        "outputId": "21e5a177-67f4-4db6-df3b-ebacd3501b00",
        "colab": {
          "base_uri": "https://localhost:8080/",
          "height": 51
        }
      },
      "source": [
        "favnumbers = {'eric': 17, 'ever': 4}\n",
        "for number in favnumbers.values():\n",
        "  print(str(number) + ' is a favorite')"
      ],
      "execution_count": 26,
      "outputs": [
        {
          "output_type": "stream",
          "text": [
            "17 is a favorite\n",
            "4 is a favorite\n"
          ],
          "name": "stdout"
        }
      ]
    },
    {
      "cell_type": "markdown",
      "metadata": {
        "id": "_eFNenWo2YXD",
        "colab_type": "text"
      },
      "source": [
        "Your programs can prompt the user for input. All input is stored as a string.\n",
        "\n"
      ]
    },
    {
      "cell_type": "code",
      "metadata": {
        "id": "Bkii6ZSq2Oy_",
        "colab_type": "code",
        "outputId": "454e5cf9-92d3-4200-b361-f1b9437b2c0d",
        "colab": {
          "base_uri": "https://localhost:8080/",
          "height": 51
        }
      },
      "source": [
        "name = input(\"What's your name? \")\n",
        "print(\"Hello, \" + name + \"!\")"
      ],
      "execution_count": 27,
      "outputs": [
        {
          "output_type": "stream",
          "text": [
            "What's your name? thiyagu\n",
            "Hello, thiyagu!\n"
          ],
          "name": "stdout"
        }
      ]
    },
    {
      "cell_type": "markdown",
      "metadata": {
        "id": "SGJEWgLT3vLP",
        "colab_type": "text"
      },
      "source": [
        "Prompting for numerical input"
      ]
    },
    {
      "cell_type": "code",
      "metadata": {
        "id": "1HzAKAC-3W8j",
        "colab_type": "code",
        "outputId": "3d10175a-605a-4178-e301-8bd7d389da7a",
        "colab": {
          "base_uri": "https://localhost:8080/",
          "height": 51
        }
      },
      "source": [
        "age = input(\"How old are you? \")\n",
        "age=int(age)\n",
        "age"
      ],
      "execution_count": 28,
      "outputs": [
        {
          "output_type": "stream",
          "text": [
            "How old are you? 21\n"
          ],
          "name": "stdout"
        },
        {
          "output_type": "execute_result",
          "data": {
            "text/plain": [
              "21"
            ]
          },
          "metadata": {
            "tags": []
          },
          "execution_count": 28
        }
      ]
    },
    {
      "cell_type": "code",
      "metadata": {
        "id": "UMVdTh5632sE",
        "colab_type": "code",
        "outputId": "a20f0985-57f5-463a-d289-17ed52dbc757",
        "colab": {
          "base_uri": "https://localhost:8080/",
          "height": 51
        }
      },
      "source": [
        "pi = input(\"What's the value of pi? \")\n",
        "pi = float(pi)\n",
        "pi"
      ],
      "execution_count": 29,
      "outputs": [
        {
          "output_type": "stream",
          "text": [
            "What's the value of pi? 4\n"
          ],
          "name": "stdout"
        },
        {
          "output_type": "execute_result",
          "data": {
            "text/plain": [
              "4.0"
            ]
          },
          "metadata": {
            "tags": []
          },
          "execution_count": 29
        }
      ]
    },
    {
      "cell_type": "markdown",
      "metadata": {
        "id": "p3t_pq-LkH98",
        "colab_type": "text"
      },
      "source": [
        "A while loop repeats a block of code as long as a certain condition is true.\n"
      ]
    },
    {
      "cell_type": "code",
      "metadata": {
        "id": "HztHroCu4CoS",
        "colab_type": "code",
        "colab": {
          "base_uri": "https://localhost:8080/",
          "height": 102
        },
        "outputId": "1c12b591-b831-43e0-93aa-fe600cbb8b9e"
      },
      "source": [
        "currentvalue=1\n",
        "while(currentvalue <=5):\n",
        "  print(currentvalue)\n",
        "  currentvalue+=1\n"
      ],
      "execution_count": 30,
      "outputs": [
        {
          "output_type": "stream",
          "text": [
            "1\n",
            "2\n",
            "3\n",
            "4\n",
            "5\n"
          ],
          "name": "stdout"
        }
      ]
    },
    {
      "cell_type": "markdown",
      "metadata": {
        "id": "YuqTTJm1nLvM",
        "colab_type": "text"
      },
      "source": [
        "Letting the user choose when to quit\n"
      ]
    },
    {
      "cell_type": "code",
      "metadata": {
        "id": "SdWVOgO7387-",
        "colab_type": "code",
        "outputId": "17751932-ca2f-47d9-9318-530199ae7b93",
        "colab": {
          "base_uri": "https://localhost:8080/",
          "height": 51
        }
      },
      "source": [
        "msg=' '\n",
        "while(msg != 'quit'):\n",
        "  msg = input(\"What's your message? \")\n",
        "  print(msg)"
      ],
      "execution_count": 31,
      "outputs": [
        {
          "output_type": "stream",
          "text": [
            "What's your message? quit\n",
            "quit\n"
          ],
          "name": "stdout"
        }
      ]
    },
    {
      "cell_type": "markdown",
      "metadata": {
        "id": "ZyAbmMstnq8q",
        "colab_type": "text"
      },
      "source": [
        "Functions are named blocks of code, designed to do one specific job. Information passed to a function is called an argument, and information received by a function is called a parameter"
      ]
    },
    {
      "cell_type": "markdown",
      "metadata": {
        "id": "pLEom_uWn6uI",
        "colab_type": "text"
      },
      "source": [
        "A simple function"
      ]
    },
    {
      "cell_type": "code",
      "metadata": {
        "id": "3XCcNW6AneqA",
        "colab_type": "code",
        "outputId": "52d4c3bb-4d5e-46af-d5a2-3ea606831b15",
        "colab": {
          "base_uri": "https://localhost:8080/",
          "height": 34
        }
      },
      "source": [
        "def greetUser():\n",
        "  print(\"Hello!\")\n",
        "greetUser()"
      ],
      "execution_count": 32,
      "outputs": [
        {
          "output_type": "stream",
          "text": [
            "Hello!\n"
          ],
          "name": "stdout"
        }
      ]
    },
    {
      "cell_type": "markdown",
      "metadata": {
        "id": "xfYYIVZAoMDD",
        "colab_type": "text"
      },
      "source": [
        "Passing an argument"
      ]
    },
    {
      "cell_type": "code",
      "metadata": {
        "id": "yEreiPWVoFuh",
        "colab_type": "code",
        "outputId": "216befcf-a861-4411-aa70-74c1fcf70aeb",
        "colab": {
          "base_uri": "https://localhost:8080/",
          "height": 34
        }
      },
      "source": [
        "def greetUser(username):\n",
        "  print(\"Hello,\"+username+ '!')\n",
        "greetUser(\"Thiyagu\")"
      ],
      "execution_count": 33,
      "outputs": [
        {
          "output_type": "stream",
          "text": [
            "Hello,Thiyagu!\n"
          ],
          "name": "stdout"
        }
      ]
    },
    {
      "cell_type": "markdown",
      "metadata": {
        "id": "KdiFSb3Iosy_",
        "colab_type": "text"
      },
      "source": [
        "Default values for parameters"
      ]
    },
    {
      "cell_type": "code",
      "metadata": {
        "id": "8tqODCanokH8",
        "colab_type": "code",
        "outputId": "f3223031-d10a-4cd2-937c-0f77b8ad0b9d",
        "colab": {
          "base_uri": "https://localhost:8080/",
          "height": 51
        }
      },
      "source": [
        "def makePizza(topping='bacon'):\n",
        "  print(\"Have a  \" + topping + \"  Pizza!\")\n",
        "\n",
        "makePizza()\n",
        "makePizza('peporani')\n"
      ],
      "execution_count": 34,
      "outputs": [
        {
          "output_type": "stream",
          "text": [
            "Have a  bacon  Pizza!\n",
            "Have a  peporani  Pizza!\n"
          ],
          "name": "stdout"
        }
      ]
    },
    {
      "cell_type": "markdown",
      "metadata": {
        "id": "-nejBGQWqYXa",
        "colab_type": "text"
      },
      "source": [
        "Returning a value"
      ]
    },
    {
      "cell_type": "code",
      "metadata": {
        "id": "AByGEA4_oDRq",
        "colab_type": "code",
        "outputId": "cf908154-fdbe-44c4-cda3-654858978c35",
        "colab": {
          "base_uri": "https://localhost:8080/",
          "height": 34
        }
      },
      "source": [
        "def addNumbers(x:int, y:int)-> int:\n",
        "  return x+y\n",
        "\n",
        "sum=addNumbers(5,6)\n",
        "print(sum)\n"
      ],
      "execution_count": 35,
      "outputs": [
        {
          "output_type": "stream",
          "text": [
            "11\n"
          ],
          "name": "stdout"
        }
      ]
    },
    {
      "cell_type": "markdown",
      "metadata": {
        "id": "K2BjDQyatu5O",
        "colab_type": "text"
      },
      "source": [
        "A class defines the behavior of an object and the kind of information an object can store. The information in a class is stored in attributes, and functions that belong to a class are called methods. A child class inherits the attributes and methods from its parent class."
      ]
    },
    {
      "cell_type": "code",
      "metadata": {
        "id": "YqxI32qRtjg0",
        "colab_type": "code",
        "outputId": "41cebf58-6c2a-4fdb-ec35-fcd5cdf23010",
        "colab": {
          "base_uri": "https://localhost:8080/",
          "height": 51
        }
      },
      "source": [
        "class Dog:\n",
        "  def __init__(self,name):\n",
        "    self.name= name\n",
        "  def sit(self):\n",
        "    print(self.name+ \" is sitting\")\n",
        "\n",
        "my_dog = Dog('Peso')\n",
        "print(my_dog.name + \" is a great dog!\")\n",
        "my_dog.sit()\n"
      ],
      "execution_count": 36,
      "outputs": [
        {
          "output_type": "stream",
          "text": [
            "Peso is a great dog!\n",
            "Peso is sitting\n"
          ],
          "name": "stdout"
        }
      ]
    },
    {
      "cell_type": "markdown",
      "metadata": {
        "id": "9LTIwgeIu8Ao",
        "colab_type": "text"
      },
      "source": [
        "Inheritance"
      ]
    },
    {
      "cell_type": "code",
      "metadata": {
        "id": "gRqIZICouoqU",
        "colab_type": "code",
        "outputId": "777f1fc5-0982-408e-dde5-04961a79da06",
        "colab": {
          "base_uri": "https://localhost:8080/",
          "height": 51
        }
      },
      "source": [
        "class SARDog(Dog):\n",
        "  def __init(self, name):\n",
        "    super.__init__(name)\n",
        "\n",
        "  def search(self):\n",
        "    print(self.name + \"  is a search dog!\")\n",
        "\n",
        "mydog=SARDog('Willie')\n",
        "mydog.sit()\n",
        "mydog.search()\n"
      ],
      "execution_count": 37,
      "outputs": [
        {
          "output_type": "stream",
          "text": [
            "Willie is sitting\n",
            "Willie  is a search dog!\n"
          ],
          "name": "stdout"
        }
      ]
    },
    {
      "cell_type": "markdown",
      "metadata": {
        "id": "IAldRjsKv2mk",
        "colab_type": "text"
      },
      "source": [
        "Your programs can read from files and write to files. Files are opened in read mode ('r') by default, but can also be opened in write mode ('w') and append mode ('a')."
      ]
    },
    {
      "cell_type": "markdown",
      "metadata": {
        "id": "7DA6pasFxyIW",
        "colab_type": "text"
      },
      "source": [
        "Writing to a file"
      ]
    },
    {
      "cell_type": "code",
      "metadata": {
        "id": "Eoya5r4Uvu5J",
        "colab_type": "code",
        "colab": {}
      },
      "source": [
        "filename = 'thiyagu.txt'\n",
        "with open(filename,'w') as fileObject:\n",
        "  fileObject.write(\"Woops! I have deleted the content!\")\n",
        "  fileObject.write(\"Woops! I have deleted the content222!\")\n"
      ],
      "execution_count": 0,
      "outputs": []
    },
    {
      "cell_type": "markdown",
      "metadata": {
        "id": "9odoh5tqx38R",
        "colab_type": "text"
      },
      "source": [
        "Read lines in file"
      ]
    },
    {
      "cell_type": "code",
      "metadata": {
        "id": "lKLEx48_wdQI",
        "colab_type": "code",
        "outputId": "c48075eb-cd27-4c45-cb01-08751ca23882",
        "colab": {
          "base_uri": "https://localhost:8080/",
          "height": 34
        }
      },
      "source": [
        "with open(filename) as fileObject:\n",
        "  lines= fileObject.readlines()\n",
        "\n",
        "for line in lines:\n",
        "  print(line)"
      ],
      "execution_count": 39,
      "outputs": [
        {
          "output_type": "stream",
          "text": [
            "Woops! I have deleted the content!Woops! I have deleted the content222!\n"
          ],
          "name": "stdout"
        }
      ]
    },
    {
      "cell_type": "markdown",
      "metadata": {
        "id": "rOQKQ9cByBFm",
        "colab_type": "text"
      },
      "source": [
        "Appending to a file"
      ]
    },
    {
      "cell_type": "code",
      "metadata": {
        "id": "vccIrrcEyF3Q",
        "colab_type": "code",
        "outputId": "26815e2e-9469-484e-c3cd-1071ac375b04",
        "colab": {
          "base_uri": "https://localhost:8080/",
          "height": 68
        }
      },
      "source": [
        "filename = 'journal.txt'\n",
        "with open(filename,'a') as fileObject:\n",
        "  fileObject.write(\"\\nI love making games.\")\n",
        "\n",
        "with open(filename) as fileObject:\n",
        "  lines= fileObject.readlines()\n",
        "\n",
        "for line in lines:\n",
        "  print(line)"
      ],
      "execution_count": 40,
      "outputs": [
        {
          "output_type": "stream",
          "text": [
            "\n",
            "\n",
            "I love making games.\n"
          ],
          "name": "stdout"
        }
      ]
    },
    {
      "cell_type": "markdown",
      "metadata": {
        "id": "g3dsfqG0QuyK",
        "colab_type": "text"
      },
      "source": [
        "Exceptions help you respond appropriately to errors that are likely to occur. You place code that might cause an error in the try block. Code that should run in response to an error goes in the except block. Code that should run only \n",
        "if the try block was successful goes in the else block."
      ]
    },
    {
      "cell_type": "code",
      "metadata": {
        "id": "pv7LsPU8Q8EX",
        "colab_type": "code",
        "outputId": "5265df7f-6914-4631-e77a-4595f622b3f5",
        "colab": {
          "base_uri": "https://localhost:8080/",
          "height": 51
        }
      },
      "source": [
        "prompt = \"How many tickets do you need? \"\n",
        "num_tickets = input(prompt)\n",
        "\n",
        "\n",
        "try:\n",
        "  num_tickets=int(num_tickets)\n",
        "except ValueError:\n",
        "   print(\"Please try again.\")\n",
        "else:\n",
        "  print(\"Your tickets are printing\")"
      ],
      "execution_count": 41,
      "outputs": [
        {
          "output_type": "stream",
          "text": [
            "How many tickets do you need? 10\n",
            "Your tickets are printing\n"
          ],
          "name": "stdout"
        }
      ]
    },
    {
      "cell_type": "code",
      "metadata": {
        "id": "FnCBAGZ8Rb_M",
        "colab_type": "code",
        "colab": {}
      },
      "source": [
        "users = ['val', 'bob', 'mia', 'ron', 'ned']"
      ],
      "execution_count": 0,
      "outputs": []
    },
    {
      "cell_type": "markdown",
      "metadata": {
        "id": "Doqs6E_oRvCh",
        "colab_type": "text"
      },
      "source": [
        "Pop the last item from a list"
      ]
    },
    {
      "cell_type": "code",
      "metadata": {
        "id": "U9OgqignRt9o",
        "colab_type": "code",
        "outputId": "fd7a7bad-d845-4e87-84a7-71402a67a23c",
        "colab": {
          "base_uri": "https://localhost:8080/",
          "height": 34
        }
      },
      "source": [
        "most_recent_user = users.pop()\n",
        "most_recent_user"
      ],
      "execution_count": 43,
      "outputs": [
        {
          "output_type": "execute_result",
          "data": {
            "text/plain": [
              "'ned'"
            ]
          },
          "metadata": {
            "tags": []
          },
          "execution_count": 43
        }
      ]
    },
    {
      "cell_type": "markdown",
      "metadata": {
        "id": "l7iK8M9tR8kG",
        "colab_type": "text"
      },
      "source": [
        "Pop the first item in a list"
      ]
    },
    {
      "cell_type": "code",
      "metadata": {
        "id": "aNnpc2IWR11d",
        "colab_type": "code",
        "outputId": "6a3dd621-585b-494f-b64d-719cf4b82130",
        "colab": {
          "base_uri": "https://localhost:8080/",
          "height": 34
        }
      },
      "source": [
        "first_user = users.pop(0)\n",
        "first_user"
      ],
      "execution_count": 44,
      "outputs": [
        {
          "output_type": "execute_result",
          "data": {
            "text/plain": [
              "'val'"
            ]
          },
          "metadata": {
            "tags": []
          },
          "execution_count": 44
        }
      ]
    },
    {
      "cell_type": "markdown",
      "metadata": {
        "id": "zyvGZxSuSiN5",
        "colab_type": "text"
      },
      "source": [
        "Sorting a list permanently in reverse alphabetical order"
      ]
    },
    {
      "cell_type": "code",
      "metadata": {
        "id": "RaFng7sTSYUP",
        "colab_type": "code",
        "outputId": "a04213a3-aba5-47e3-96d9-5eacb093e72a",
        "colab": {
          "base_uri": "https://localhost:8080/",
          "height": 34
        }
      },
      "source": [
        "users.sort()\n",
        "users"
      ],
      "execution_count": 45,
      "outputs": [
        {
          "output_type": "execute_result",
          "data": {
            "text/plain": [
              "['bob', 'mia', 'ron']"
            ]
          },
          "metadata": {
            "tags": []
          },
          "execution_count": 45
        }
      ]
    },
    {
      "cell_type": "markdown",
      "metadata": {
        "id": "4G_xmZ-MSyg-",
        "colab_type": "text"
      },
      "source": [
        "Sorting a list temporarily"
      ]
    },
    {
      "cell_type": "code",
      "metadata": {
        "id": "o1kWh4sVSo5Q",
        "colab_type": "code",
        "outputId": "605f1dfd-733f-4456-cd1c-aa99d8536abf",
        "colab": {
          "base_uri": "https://localhost:8080/",
          "height": 51
        }
      },
      "source": [
        "print(sorted(users))\n",
        "print(sorted(users, reverse=True))"
      ],
      "execution_count": 46,
      "outputs": [
        {
          "output_type": "stream",
          "text": [
            "['bob', 'mia', 'ron']\n",
            "['ron', 'mia', 'bob']\n"
          ],
          "name": "stdout"
        }
      ]
    },
    {
      "cell_type": "markdown",
      "metadata": {
        "id": "LxRhuYyRS7j1",
        "colab_type": "text"
      },
      "source": [
        "Reversing the order of a list"
      ]
    },
    {
      "cell_type": "code",
      "metadata": {
        "id": "l7q5uhMSS4tH",
        "colab_type": "code",
        "outputId": "7cb57a28-d0a3-4bce-b8b6-d9abafdc9510",
        "colab": {
          "base_uri": "https://localhost:8080/",
          "height": 34
        }
      },
      "source": [
        "users.reverse()\n",
        "print(users)"
      ],
      "execution_count": 47,
      "outputs": [
        {
          "output_type": "stream",
          "text": [
            "['ron', 'mia', 'bob']\n"
          ],
          "name": "stdout"
        }
      ]
    },
    {
      "cell_type": "markdown",
      "metadata": {
        "id": "DElcy4wZTJ68",
        "colab_type": "text"
      },
      "source": [
        "Printing all items in a list\n"
      ]
    },
    {
      "cell_type": "code",
      "metadata": {
        "id": "w13f24ilTBIA",
        "colab_type": "code",
        "outputId": "435dde83-2a8e-436c-c53a-e3e8708422f1",
        "colab": {
          "base_uri": "https://localhost:8080/",
          "height": 68
        }
      },
      "source": [
        "for user in users:\n",
        "  print(user)"
      ],
      "execution_count": 48,
      "outputs": [
        {
          "output_type": "stream",
          "text": [
            "ron\n",
            "mia\n",
            "bob\n"
          ],
          "name": "stdout"
        }
      ]
    },
    {
      "cell_type": "markdown",
      "metadata": {
        "id": "3CIj_WX8TWAc",
        "colab_type": "text"
      },
      "source": [
        "Find the length of a list"
      ]
    },
    {
      "cell_type": "code",
      "metadata": {
        "id": "VIVmcNiITP96",
        "colab_type": "code",
        "outputId": "392d8d68-accd-4f0f-dbc7-49aa719441df",
        "colab": {
          "base_uri": "https://localhost:8080/",
          "height": 34
        }
      },
      "source": [
        "num_user= len(users)\n",
        "num_user"
      ],
      "execution_count": 49,
      "outputs": [
        {
          "output_type": "execute_result",
          "data": {
            "text/plain": [
              "3"
            ]
          },
          "metadata": {
            "tags": []
          },
          "execution_count": 49
        }
      ]
    },
    {
      "cell_type": "markdown",
      "metadata": {
        "id": "LEEj9ptSTk_5",
        "colab_type": "text"
      },
      "source": [
        "Inserting elements at a particular position"
      ]
    },
    {
      "cell_type": "code",
      "metadata": {
        "id": "l8d56S1QTcmt",
        "colab_type": "code",
        "outputId": "cb50bd76-edc4-4461-bbf0-674b4a0e26f6",
        "colab": {
          "base_uri": "https://localhost:8080/",
          "height": 34
        }
      },
      "source": [
        "users.insert(3, 'bea')\n",
        "users"
      ],
      "execution_count": 50,
      "outputs": [
        {
          "output_type": "execute_result",
          "data": {
            "text/plain": [
              "['ron', 'mia', 'bob', 'bea']"
            ]
          },
          "metadata": {
            "tags": []
          },
          "execution_count": 50
        }
      ]
    },
    {
      "cell_type": "code",
      "metadata": {
        "id": "gFe7uEd1Trm_",
        "colab_type": "code",
        "colab": {
          "base_uri": "https://localhost:8080/",
          "height": 34
        },
        "outputId": "173c4531-47f5-4658-83fb-09a69df84031"
      },
      "source": [
        "a = [1, 'x', 'y']\n",
        "b = [1, 2]\n",
        "a.extend(b)\n",
        "a"
      ],
      "execution_count": 51,
      "outputs": [
        {
          "output_type": "execute_result",
          "data": {
            "text/plain": [
              "[1, 'x', 'y', 1, 2]"
            ]
          },
          "metadata": {
            "tags": []
          },
          "execution_count": 51
        }
      ]
    },
    {
      "cell_type": "code",
      "metadata": {
        "id": "iwV-cPR2iBGI",
        "colab_type": "code",
        "colab": {}
      },
      "source": [
        "for i in range(1,1000):\n",
        "  print(i)"
      ],
      "execution_count": 0,
      "outputs": []
    },
    {
      "cell_type": "code",
      "metadata": {
        "id": "MgjEDz3sWlaL",
        "colab_type": "code",
        "colab": {}
      },
      "source": [
        "numbers = list(range(1, 1000001))"
      ],
      "execution_count": 0,
      "outputs": []
    },
    {
      "cell_type": "markdown",
      "metadata": {
        "id": "E_5Pi9NpY6it",
        "colab_type": "text"
      },
      "source": [
        "Use curly braces to define a dictionary. Use colons to connect keys and values, and use commas to separate individual key-value pairs.\n"
      ]
    },
    {
      "cell_type": "markdown",
      "metadata": {
        "id": "lZSBP1hZZDee",
        "colab_type": "text"
      },
      "source": [
        "Making a dictionary"
      ]
    },
    {
      "cell_type": "code",
      "metadata": {
        "id": "nvGGzUNCWp0s",
        "colab_type": "code",
        "colab": {}
      },
      "source": [
        "alien_0 = {'color': 'green', 'points': 5}"
      ],
      "execution_count": 0,
      "outputs": []
    },
    {
      "cell_type": "markdown",
      "metadata": {
        "id": "OwD00IVsZHkE",
        "colab_type": "text"
      },
      "source": [
        "To access the value associated with an individual key give the name of the dictionary and then place the key in a set of square brackets. If the key you're asking for is not in the dictionary, an error will occur.\n",
        "\n",
        " You can also use the get() method, which returns None instead of an error if the key doesn't exist. You can also specify a default value to use if the key is not in the dictonary"
      ]
    },
    {
      "cell_type": "markdown",
      "metadata": {
        "id": "5_Dp54N6ZnLp",
        "colab_type": "text"
      },
      "source": [
        "Getting the value associated with a key"
      ]
    },
    {
      "cell_type": "code",
      "metadata": {
        "id": "v5gfmqKVZGui",
        "colab_type": "code",
        "colab": {
          "base_uri": "https://localhost:8080/",
          "height": 34
        },
        "outputId": "60548f38-e717-43b7-868f-b916485f38fa"
      },
      "source": [
        "alien_0['color']"
      ],
      "execution_count": 56,
      "outputs": [
        {
          "output_type": "execute_result",
          "data": {
            "text/plain": [
              "'green'"
            ]
          },
          "metadata": {
            "tags": []
          },
          "execution_count": 56
        }
      ]
    },
    {
      "cell_type": "markdown",
      "metadata": {
        "id": "cNRw6JYXZpag",
        "colab_type": "text"
      },
      "source": [
        "Getting the value with get()"
      ]
    },
    {
      "cell_type": "code",
      "metadata": {
        "id": "ywmEC5qFZhKg",
        "colab_type": "code",
        "colab": {
          "base_uri": "https://localhost:8080/",
          "height": 34
        },
        "outputId": "50104525-f0e9-4e08-b277-99cac2ce9298"
      },
      "source": [
        "alien_color = alien_0.get('color')\n",
        "alien_color"
      ],
      "execution_count": 58,
      "outputs": [
        {
          "output_type": "execute_result",
          "data": {
            "text/plain": [
              "'green'"
            ]
          },
          "metadata": {
            "tags": []
          },
          "execution_count": 58
        }
      ]
    },
    {
      "cell_type": "code",
      "metadata": {
        "id": "mTxKVxUiZuUF",
        "colab_type": "code",
        "colab": {
          "base_uri": "https://localhost:8080/",
          "height": 34
        },
        "outputId": "59752ef9-7d66-47ca-a2de-22d1907d4eb4"
      },
      "source": [
        "alien_points = alien_0.get('points', 0)\n",
        "alien_points"
      ],
      "execution_count": 59,
      "outputs": [
        {
          "output_type": "execute_result",
          "data": {
            "text/plain": [
              "5"
            ]
          },
          "metadata": {
            "tags": []
          },
          "execution_count": 59
        }
      ]
    },
    {
      "cell_type": "code",
      "metadata": {
        "id": "Cb6TNPJpZ2li",
        "colab_type": "code",
        "colab": {}
      },
      "source": [
        ""
      ],
      "execution_count": 0,
      "outputs": []
    }
  ]
}