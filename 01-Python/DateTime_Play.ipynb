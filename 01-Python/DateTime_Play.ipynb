{
  "nbformat": 4,
  "nbformat_minor": 0,
  "metadata": {
    "colab": {
      "name": "DateTime Play.ipynb",
      "provenance": [],
      "collapsed_sections": [],
      "authorship_tag": "ABX9TyMoIh0vJ8dk9KgDWCrngBDW",
      "include_colab_link": true
    },
    "kernelspec": {
      "name": "python3",
      "display_name": "Python 3"
    }
  },
  "cells": [
    {
      "cell_type": "markdown",
      "metadata": {
        "id": "view-in-github",
        "colab_type": "text"
      },
      "source": [
        "<a href=\"https://colab.research.google.com/github/plthiyagu/Personnel/blob/master/DateTime_Play.ipynb\" target=\"_parent\"><img src=\"https://colab.research.google.com/assets/colab-badge.svg\" alt=\"Open In Colab\"/></a>"
      ]
    },
    {
      "cell_type": "code",
      "metadata": {
        "id": "3BKbT_Cn80Cj",
        "colab_type": "code",
        "colab": {}
      },
      "source": [
        "from datetime import date"
      ],
      "execution_count": 0,
      "outputs": []
    },
    {
      "cell_type": "code",
      "metadata": {
        "id": "9nIUrp8nDClv",
        "colab_type": "code",
        "colab": {}
      },
      "source": [
        "d1= date(2020,4,23)"
      ],
      "execution_count": 0,
      "outputs": []
    },
    {
      "cell_type": "code",
      "metadata": {
        "id": "bnCcpdQODIys",
        "colab_type": "code",
        "colab": {
          "base_uri": "https://localhost:8080/",
          "height": 34
        },
        "outputId": "ce3ae89a-ef2f-404d-a5f7-a5ae2b589055"
      },
      "source": [
        "d1"
      ],
      "execution_count": 6,
      "outputs": [
        {
          "output_type": "execute_result",
          "data": {
            "text/plain": [
              "datetime.date(2020, 4, 23)"
            ]
          },
          "metadata": {
            "tags": []
          },
          "execution_count": 6
        }
      ]
    },
    {
      "cell_type": "code",
      "metadata": {
        "id": "q--5jH6bDKjH",
        "colab_type": "code",
        "colab": {
          "base_uri": "https://localhost:8080/",
          "height": 34
        },
        "outputId": "c8f8bd61-55d7-4413-e8ab-ff95b21879da"
      },
      "source": [
        "type(d1)"
      ],
      "execution_count": 7,
      "outputs": [
        {
          "output_type": "execute_result",
          "data": {
            "text/plain": [
              "datetime.date"
            ]
          },
          "metadata": {
            "tags": []
          },
          "execution_count": 7
        }
      ]
    },
    {
      "cell_type": "code",
      "metadata": {
        "id": "W6weP7dfDMFw",
        "colab_type": "code",
        "colab": {}
      },
      "source": [
        "d2 = date.today()"
      ],
      "execution_count": 0,
      "outputs": []
    },
    {
      "cell_type": "code",
      "metadata": {
        "id": "7bMLDIY6DTdI",
        "colab_type": "code",
        "colab": {
          "base_uri": "https://localhost:8080/",
          "height": 34
        },
        "outputId": "9e25c438-111e-43d5-9a02-f1b8223be631"
      },
      "source": [
        "d2"
      ],
      "execution_count": 11,
      "outputs": [
        {
          "output_type": "execute_result",
          "data": {
            "text/plain": [
              "datetime.date(2020, 5, 7)"
            ]
          },
          "metadata": {
            "tags": []
          },
          "execution_count": 11
        }
      ]
    },
    {
      "cell_type": "code",
      "metadata": {
        "id": "YhuvW1r8GCP8",
        "colab_type": "code",
        "colab": {
          "base_uri": "https://localhost:8080/",
          "height": 34
        },
        "outputId": "5fb943a9-8217-4c24-f7d0-bd85053c37c1"
      },
      "source": [
        "# day\n",
        "print('Day :',d2.day)"
      ],
      "execution_count": 12,
      "outputs": [
        {
          "output_type": "stream",
          "text": [
            "Day : 7\n"
          ],
          "name": "stdout"
        }
      ]
    },
    {
      "cell_type": "code",
      "metadata": {
        "id": "id0rUQkmGInh",
        "colab_type": "code",
        "colab": {
          "base_uri": "https://localhost:8080/",
          "height": 34
        },
        "outputId": "ea58ee8a-e951-483e-9578-03dda904777a"
      },
      "source": [
        "# month\n",
        "print('Month :',d2.month)"
      ],
      "execution_count": 8,
      "outputs": [
        {
          "output_type": "stream",
          "text": [
            "Month : 5\n"
          ],
          "name": "stdout"
        }
      ]
    },
    {
      "cell_type": "code",
      "metadata": {
        "id": "2-uMesPIGNRe",
        "colab_type": "code",
        "colab": {
          "base_uri": "https://localhost:8080/",
          "height": 34
        },
        "outputId": "81921170-8f72-487d-f6ab-695c66d11dcc"
      },
      "source": [
        "# year\n",
        "print('Year :',d2.year)"
      ],
      "execution_count": 13,
      "outputs": [
        {
          "output_type": "stream",
          "text": [
            "Year : 2020\n"
          ],
          "name": "stdout"
        }
      ]
    },
    {
      "cell_type": "code",
      "metadata": {
        "id": "5X_gL30oGSCW",
        "colab_type": "code",
        "colab": {
          "base_uri": "https://localhost:8080/",
          "height": 51
        },
        "outputId": "4e3af54e-d1dc-4833-afcc-6fa744fbbd07"
      },
      "source": [
        "from datetime import time\n",
        "\n",
        "t1 = time(13,20,13,40)\n",
        "\n",
        "print(t1)\n",
        "\n",
        "print(type(t1))\n"
      ],
      "execution_count": 14,
      "outputs": [
        {
          "output_type": "stream",
          "text": [
            "13:20:13.000040\n",
            "<class 'datetime.time'>\n"
          ],
          "name": "stdout"
        }
      ]
    },
    {
      "cell_type": "code",
      "metadata": {
        "id": "jQfZNHKoGjKH",
        "colab_type": "code",
        "colab": {
          "base_uri": "https://localhost:8080/",
          "height": 85
        },
        "outputId": "22e5979b-8015-422d-aae7-590df8e5b186"
      },
      "source": [
        "# hour\n",
        "print('Hour :',t1.hour)\n",
        "# minute\n",
        "print('Minute :',t1.minute)\n",
        "# second\n",
        "print('Second :',t1.second)\n",
        "# microsecond\n",
        "print('Microsecond :',t1.microsecond)"
      ],
      "execution_count": 15,
      "outputs": [
        {
          "output_type": "stream",
          "text": [
            "Hour : 13\n",
            "Minute : 20\n",
            "Second : 13\n",
            "Microsecond : 40\n"
          ],
          "name": "stdout"
        }
      ]
    },
    {
      "cell_type": "code",
      "metadata": {
        "id": "wL4oxdEQGnxn",
        "colab_type": "code",
        "colab": {
          "base_uri": "https://localhost:8080/",
          "height": 51
        },
        "outputId": "41b5a590-3b20-434e-ea2f-dbba140b54af"
      },
      "source": [
        "from datetime import datetime\n",
        "d1 = datetime(2020,4,23,11,20,30,40)\n",
        "print(d1)\n",
        "print(type(d1))"
      ],
      "execution_count": 17,
      "outputs": [
        {
          "output_type": "stream",
          "text": [
            "2020-04-23 11:20:30.000040\n",
            "<class 'datetime.datetime'>\n"
          ],
          "name": "stdout"
        }
      ]
    },
    {
      "cell_type": "code",
      "metadata": {
        "id": "qSmdOiwiGtqW",
        "colab_type": "code",
        "colab": {
          "base_uri": "https://localhost:8080/",
          "height": 34
        },
        "outputId": "f27eef04-2265-4462-cb91-f2f86602fdbc"
      },
      "source": [
        "# local date-time\n",
        "d1 = datetime.now()\n",
        "d1"
      ],
      "execution_count": 18,
      "outputs": [
        {
          "output_type": "execute_result",
          "data": {
            "text/plain": [
              "datetime.datetime(2020, 5, 7, 18, 9, 26, 712386)"
            ]
          },
          "metadata": {
            "tags": []
          },
          "execution_count": 18
        }
      ]
    },
    {
      "cell_type": "code",
      "metadata": {
        "id": "wvL02b_eGxgm",
        "colab_type": "code",
        "colab": {
          "base_uri": "https://localhost:8080/",
          "height": 85
        },
        "outputId": "2e05ea52-52c7-4663-e262-774ea85cf2b4"
      },
      "source": [
        "print('Datetime :',d1)\n",
        "# date\n",
        "print('Date :',d1.date())\n",
        "# time\n",
        "print('Time :',d1.time())\n",
        "# new datetime\n",
        "print('New datetime :',d1.replace(day=24, hour=14))"
      ],
      "execution_count": 19,
      "outputs": [
        {
          "output_type": "stream",
          "text": [
            "Datetime : 2020-05-07 18:09:26.712386\n",
            "Date : 2020-05-07\n",
            "Time : 18:09:26.712386\n",
            "New datetime : 2020-05-24 14:09:26.712386\n"
          ],
          "name": "stdout"
        }
      ]
    },
    {
      "cell_type": "code",
      "metadata": {
        "id": "p7lZq5H4G2Fx",
        "colab_type": "code",
        "colab": {
          "base_uri": "https://localhost:8080/",
          "height": 51
        },
        "outputId": "833e3ffa-6af0-4f10-b17a-9f55380fd594"
      },
      "source": [
        "d1 = datetime.now()\n",
        "# week starts from 0\n",
        "print(d1.weekday()) # output 3 for Thurday\n",
        "# week starts with 1\n",
        "print(d1.isoweekday()) # output 4 in ISO format"
      ],
      "execution_count": 21,
      "outputs": [
        {
          "output_type": "stream",
          "text": [
            "3\n",
            "4\n"
          ],
          "name": "stdout"
        }
      ]
    },
    {
      "cell_type": "code",
      "metadata": {
        "id": "rn5_VwodG6XN",
        "colab_type": "code",
        "colab": {
          "base_uri": "https://localhost:8080/",
          "height": 51
        },
        "outputId": "848a8070-d723-4ace-ebe3-609af4f3af0b"
      },
      "source": [
        "d1 = datetime.now()\n",
        "# retuns year, week, month\n",
        "print(d1.isocalendar())\n",
        "print('Week :',d1.isocalendar()[1])"
      ],
      "execution_count": 22,
      "outputs": [
        {
          "output_type": "stream",
          "text": [
            "(2020, 19, 4)\n",
            "Week : 19\n"
          ],
          "name": "stdout"
        }
      ]
    },
    {
      "cell_type": "code",
      "metadata": {
        "id": "YXtKW7nrG_mu",
        "colab_type": "code",
        "colab": {
          "base_uri": "https://localhost:8080/",
          "height": 34
        },
        "outputId": "c968fca4-5909-49a6-ad76-91807b43dd55"
      },
      "source": [
        "import calendar\n",
        "d1 = datetime.now()\n",
        "# leap year or not\n",
        "calendar.isleap(d1.year) # Output True"
      ],
      "execution_count": 23,
      "outputs": [
        {
          "output_type": "execute_result",
          "data": {
            "text/plain": [
              "True"
            ]
          },
          "metadata": {
            "tags": []
          },
          "execution_count": 23
        }
      ]
    },
    {
      "cell_type": "code",
      "metadata": {
        "id": "c5R5JM0QHDzw",
        "colab_type": "code",
        "colab": {
          "base_uri": "https://localhost:8080/",
          "height": 153
        },
        "outputId": "21fcbaa1-d1e3-4e46-e5b4-ea7abf93bac2"
      },
      "source": [
        "# Its was April when I wrote this\n",
        "print(calendar.month(2020,4))"
      ],
      "execution_count": 24,
      "outputs": [
        {
          "output_type": "stream",
          "text": [
            "     April 2020\n",
            "Mo Tu We Th Fr Sa Su\n",
            "       1  2  3  4  5\n",
            " 6  7  8  9 10 11 12\n",
            "13 14 15 16 17 18 19\n",
            "20 21 22 23 24 25 26\n",
            "27 28 29 30\n",
            "\n"
          ],
          "name": "stdout"
        }
      ]
    },
    {
      "cell_type": "code",
      "metadata": {
        "id": "fWzM17yPHHb1",
        "colab_type": "code",
        "colab": {
          "base_uri": "https://localhost:8080/",
          "height": 646
        },
        "outputId": "51f03cf2-6f49-4040-faec-5e6d8967fce4"
      },
      "source": [
        "print(calendar.calendar(2020))"
      ],
      "execution_count": 25,
      "outputs": [
        {
          "output_type": "stream",
          "text": [
            "                                  2020\n",
            "\n",
            "      January                   February                   March\n",
            "Mo Tu We Th Fr Sa Su      Mo Tu We Th Fr Sa Su      Mo Tu We Th Fr Sa Su\n",
            "       1  2  3  4  5                      1  2                         1\n",
            " 6  7  8  9 10 11 12       3  4  5  6  7  8  9       2  3  4  5  6  7  8\n",
            "13 14 15 16 17 18 19      10 11 12 13 14 15 16       9 10 11 12 13 14 15\n",
            "20 21 22 23 24 25 26      17 18 19 20 21 22 23      16 17 18 19 20 21 22\n",
            "27 28 29 30 31            24 25 26 27 28 29         23 24 25 26 27 28 29\n",
            "                                                    30 31\n",
            "\n",
            "       April                      May                       June\n",
            "Mo Tu We Th Fr Sa Su      Mo Tu We Th Fr Sa Su      Mo Tu We Th Fr Sa Su\n",
            "       1  2  3  4  5                   1  2  3       1  2  3  4  5  6  7\n",
            " 6  7  8  9 10 11 12       4  5  6  7  8  9 10       8  9 10 11 12 13 14\n",
            "13 14 15 16 17 18 19      11 12 13 14 15 16 17      15 16 17 18 19 20 21\n",
            "20 21 22 23 24 25 26      18 19 20 21 22 23 24      22 23 24 25 26 27 28\n",
            "27 28 29 30               25 26 27 28 29 30 31      29 30\n",
            "\n",
            "        July                     August                  September\n",
            "Mo Tu We Th Fr Sa Su      Mo Tu We Th Fr Sa Su      Mo Tu We Th Fr Sa Su\n",
            "       1  2  3  4  5                      1  2          1  2  3  4  5  6\n",
            " 6  7  8  9 10 11 12       3  4  5  6  7  8  9       7  8  9 10 11 12 13\n",
            "13 14 15 16 17 18 19      10 11 12 13 14 15 16      14 15 16 17 18 19 20\n",
            "20 21 22 23 24 25 26      17 18 19 20 21 22 23      21 22 23 24 25 26 27\n",
            "27 28 29 30 31            24 25 26 27 28 29 30      28 29 30\n",
            "                          31\n",
            "\n",
            "      October                   November                  December\n",
            "Mo Tu We Th Fr Sa Su      Mo Tu We Th Fr Sa Su      Mo Tu We Th Fr Sa Su\n",
            "          1  2  3  4                         1          1  2  3  4  5  6\n",
            " 5  6  7  8  9 10 11       2  3  4  5  6  7  8       7  8  9 10 11 12 13\n",
            "12 13 14 15 16 17 18       9 10 11 12 13 14 15      14 15 16 17 18 19 20\n",
            "19 20 21 22 23 24 25      16 17 18 19 20 21 22      21 22 23 24 25 26 27\n",
            "26 27 28 29 30 31         23 24 25 26 27 28 29      28 29 30 31\n",
            "                          30\n",
            "\n"
          ],
          "name": "stdout"
        }
      ]
    },
    {
      "cell_type": "code",
      "metadata": {
        "id": "HcdKs-sDHLj3",
        "colab_type": "code",
        "colab": {
          "base_uri": "https://localhost:8080/",
          "height": 85
        },
        "outputId": "be514b62-db5a-4563-ee39-3b1aee35feca"
      },
      "source": [
        "d1_datetime = date(2020,4,23)\n",
        "print(d1_datetime)\n",
        "print(type(d1_datetime))\n",
        "d1_ISO = date(2020,4,23).isoformat()\n",
        "print(d1_ISO)\n",
        "print(type(d1_ISO))"
      ],
      "execution_count": 28,
      "outputs": [
        {
          "output_type": "stream",
          "text": [
            "2020-04-23\n",
            "<class 'datetime.date'>\n",
            "2020-04-23\n",
            "<class 'str'>\n"
          ],
          "name": "stdout"
        }
      ]
    },
    {
      "cell_type": "code",
      "metadata": {
        "id": "2U_MghSWHRe2",
        "colab_type": "code",
        "colab": {
          "base_uri": "https://localhost:8080/",
          "height": 51
        },
        "outputId": "cbb08bbe-1dc8-42f3-bfbf-10cdc219be8e"
      },
      "source": [
        "# date in string format\n",
        "d1 = datetime.now()\n",
        "# string format for date\n",
        "print(d1.ctime())\n",
        "# slicing to extract date\n",
        "print(d1.ctime()[:10])"
      ],
      "execution_count": 30,
      "outputs": [
        {
          "output_type": "stream",
          "text": [
            "Thu May  7 18:35:01 2020\n",
            "Thu May  7\n"
          ],
          "name": "stdout"
        }
      ]
    },
    {
      "cell_type": "code",
      "metadata": {
        "id": "HeyL9xZoITvp",
        "colab_type": "code",
        "colab": {
          "base_uri": "https://localhost:8080/",
          "height": 34
        },
        "outputId": "14006b49-efe6-4722-9a44-7ed8a1e44556"
      },
      "source": [
        "date(2020,4,23).__format__('%Y/%m/%d')"
      ],
      "execution_count": 31,
      "outputs": [
        {
          "output_type": "execute_result",
          "data": {
            "text/plain": [
              "'2020/04/23'"
            ]
          },
          "metadata": {
            "tags": []
          },
          "execution_count": 31
        }
      ]
    },
    {
      "cell_type": "code",
      "metadata": {
        "id": "NvwEGm6xIXi1",
        "colab_type": "code",
        "colab": {
          "base_uri": "https://localhost:8080/",
          "height": 51
        },
        "outputId": "f3b14dd0-17cb-4286-d727-c694ca07bd1e"
      },
      "source": [
        "# strptime\n",
        "date = '22 April, 2020 13:20:13'\n",
        "d1 = datetime.strptime(date,'%d %B, %Y %H:%M:%S')\n",
        "print(d1)\n",
        "print(type(d1))"
      ],
      "execution_count": 32,
      "outputs": [
        {
          "output_type": "stream",
          "text": [
            "2020-04-22 13:20:13\n",
            "<class 'datetime.datetime'>\n"
          ],
          "name": "stdout"
        }
      ]
    },
    {
      "cell_type": "code",
      "metadata": {
        "id": "s__RKnLuIb6x",
        "colab_type": "code",
        "colab": {
          "base_uri": "https://localhost:8080/",
          "height": 68
        },
        "outputId": "39f40ce5-a8d0-4251-c9ef-78d48082bfe0"
      },
      "source": [
        "# strftime\n",
        "d1 = datetime.now()\n",
        "print('Datetime object :',d1)\n",
        "new_date = d1.strftime('%d/%m/%Y %H:%M')\n",
        "print('Formatted date :',new_date)\n",
        "print(type(new_date))"
      ],
      "execution_count": 31,
      "outputs": [
        {
          "output_type": "stream",
          "text": [
            "Datetime object : 2020-05-07 03:16:03.455316\n",
            "Formatted date : 07/05/2020 03:16\n",
            "<class 'str'>\n"
          ],
          "name": "stdout"
        }
      ]
    },
    {
      "cell_type": "code",
      "metadata": {
        "id": "n3smF2RIIgeP",
        "colab_type": "code",
        "colab": {
          "base_uri": "https://localhost:8080/",
          "height": 85
        },
        "outputId": "3da76e9f-6583-4c46-8a8a-f45163f8686b"
      },
      "source": [
        "d1 = datetime.now()\n",
        "print('Weekday :',d1.strftime('%A'))\n",
        "print('Month :',d1.strftime('%B'))\n",
        "print('Week number :',d1.strftime('%W'))\n",
        "print(\"Locale's date and time representation :\",d1.strftime('%c'))"
      ],
      "execution_count": 32,
      "outputs": [
        {
          "output_type": "stream",
          "text": [
            "Weekday : Thursday\n",
            "Month : May\n",
            "Week number : 18\n",
            "Locale's date and time representation : Thu May  7 03:16:20 2020\n"
          ],
          "name": "stdout"
        }
      ]
    },
    {
      "cell_type": "code",
      "metadata": {
        "id": "0kEV7I8CIkkq",
        "colab_type": "code",
        "colab": {
          "base_uri": "https://localhost:8080/",
          "height": 51
        },
        "outputId": "5e765410-cfca-4608-9279-7f67a177140b"
      },
      "source": [
        "# timedelta : duration between dates\n",
        "d1 = datetime(2020,4,23,11,13,10)\n",
        "d2 = datetime(2021,4,23,12,13,10)\n",
        "duration = d2-d1\n",
        "print(type(duration))\n",
        "duration"
      ],
      "execution_count": 33,
      "outputs": [
        {
          "output_type": "stream",
          "text": [
            "<class 'datetime.timedelta'>\n"
          ],
          "name": "stdout"
        },
        {
          "output_type": "execute_result",
          "data": {
            "text/plain": [
              "datetime.timedelta(365, 3600)"
            ]
          },
          "metadata": {
            "tags": []
          },
          "execution_count": 33
        }
      ]
    },
    {
      "cell_type": "code",
      "metadata": {
        "id": "CUWs6AjRIpSt",
        "colab_type": "code",
        "colab": {
          "base_uri": "https://localhost:8080/",
          "height": 51
        },
        "outputId": "d7d808b0-68b8-47e5-dc3a-754f0e41a6e1"
      },
      "source": [
        "print(duration.days) # 365\n",
        "print(duration.seconds) # 3600"
      ],
      "execution_count": 34,
      "outputs": [
        {
          "output_type": "stream",
          "text": [
            "365\n",
            "3600\n"
          ],
          "name": "stdout"
        }
      ]
    },
    {
      "cell_type": "code",
      "metadata": {
        "id": "R9ZaMF8-Is9s",
        "colab_type": "code",
        "colab": {
          "base_uri": "https://localhost:8080/",
          "height": 68
        },
        "outputId": "285be1da-43e4-473a-d414-a4030ba5aed7"
      },
      "source": [
        "from datetime import timedelta\n",
        "# duration in hours\n",
        "print('Duration in hours :',duration/timedelta(hours=1))\n",
        "# duration in minutes\n",
        "print('Duration in minutes :',duration/timedelta(minutes=1))\n",
        "# duration in seconds\n",
        "print('Duration in seconds :',duration/timedelta(seconds=1))"
      ],
      "execution_count": 35,
      "outputs": [
        {
          "output_type": "stream",
          "text": [
            "Duration in hours : 8761.0\n",
            "Duration in minutes : 525660.0\n",
            "Duration in seconds : 31539600.0\n"
          ],
          "name": "stdout"
        }
      ]
    },
    {
      "cell_type": "code",
      "metadata": {
        "id": "2oTpzbrfIyga",
        "colab_type": "code",
        "colab": {
          "base_uri": "https://localhost:8080/",
          "height": 180
        },
        "outputId": "beaaea90-9866-4af0-b202-8bde16da7b78"
      },
      "source": [
        "d1 = datetime.now()\n",
        "d1+5"
      ],
      "execution_count": 36,
      "outputs": [
        {
          "output_type": "error",
          "ename": "TypeError",
          "evalue": "ignored",
          "traceback": [
            "\u001b[0;31m---------------------------------------------------------------------------\u001b[0m",
            "\u001b[0;31mTypeError\u001b[0m                                 Traceback (most recent call last)",
            "\u001b[0;32m<ipython-input-36-6399cec8b005>\u001b[0m in \u001b[0;36m<module>\u001b[0;34m()\u001b[0m\n\u001b[1;32m      1\u001b[0m \u001b[0md1\u001b[0m \u001b[0;34m=\u001b[0m \u001b[0mdatetime\u001b[0m\u001b[0;34m.\u001b[0m\u001b[0mnow\u001b[0m\u001b[0;34m(\u001b[0m\u001b[0;34m)\u001b[0m\u001b[0;34m\u001b[0m\u001b[0;34m\u001b[0m\u001b[0m\n\u001b[0;32m----> 2\u001b[0;31m \u001b[0md1\u001b[0m\u001b[0;34m+\u001b[0m\u001b[0;36m5\u001b[0m\u001b[0;34m\u001b[0m\u001b[0;34m\u001b[0m\u001b[0m\n\u001b[0m",
            "\u001b[0;31mTypeError\u001b[0m: unsupported operand type(s) for +: 'datetime.datetime' and 'int'"
          ]
        }
      ]
    },
    {
      "cell_type": "code",
      "metadata": {
        "id": "Lo5UnjYII3K6",
        "colab_type": "code",
        "colab": {
          "base_uri": "https://localhost:8080/",
          "height": 68
        },
        "outputId": "64d63f4f-180e-42ef-f972-1b9ef467ec72"
      },
      "source": [
        "d1 = datetime.now()\n",
        "print(\"Today's date :\",d1)\n",
        "\n",
        "d2 = d1+timedelta(days=2)\n",
        "print(\"Date 2 days from today :\",d2)\n",
        "\n",
        "d3 = d1+timedelta(weeks=2)\n",
        "print(\"Date 2 weeks from today :\",d3)"
      ],
      "execution_count": 37,
      "outputs": [
        {
          "output_type": "stream",
          "text": [
            "Today's date : 2020-05-07 18:35:49.500633\n",
            "Date 2 days from today : 2020-05-09 18:35:49.500633\n",
            "Date 2 weeks from today : 2020-05-21 18:35:49.500633\n"
          ],
          "name": "stdout"
        }
      ]
    },
    {
      "cell_type": "code",
      "metadata": {
        "id": "hYam0WXFI8ub",
        "colab_type": "code",
        "colab": {
          "base_uri": "https://localhost:8080/",
          "height": 51
        },
        "outputId": "fbde9ac2-db15-41b9-d5e3-40acad1b4be5"
      },
      "source": [
        "import pandas as pd\n",
        "# to_datetime\n",
        "date = pd.to_datetime('24th of April, 2020')\n",
        "print(date)\n",
        "print(type(date))"
      ],
      "execution_count": 38,
      "outputs": [
        {
          "output_type": "stream",
          "text": [
            "2020-04-24 00:00:00\n",
            "<class 'pandas._libs.tslibs.timestamps.Timestamp'>\n"
          ],
          "name": "stdout"
        }
      ]
    },
    {
      "cell_type": "code",
      "metadata": {
        "id": "oAz93SMLJFEM",
        "colab_type": "code",
        "colab": {
          "base_uri": "https://localhost:8080/",
          "height": 68
        },
        "outputId": "a8431a50-704d-48dc-d889-2e2fac33c620"
      },
      "source": [
        "# timedelta\n",
        "import numpy as np\n",
        "date = datetime.now()\n",
        "# present date\n",
        "print(date)\n",
        "# date after 1 day\n",
        "print(date+pd.to_timedelta(1,unit='d'))\n",
        "# date after 1 month\n",
        "print(date+pd.to_timedelta(1,unit='m'))"
      ],
      "execution_count": 45,
      "outputs": [
        {
          "output_type": "stream",
          "text": [
            "2020-05-07 18:50:57.334743\n",
            "2020-05-08 18:50:57.334743\n",
            "2020-05-07 18:51:57.334743\n"
          ],
          "name": "stdout"
        }
      ]
    },
    {
      "cell_type": "code",
      "metadata": {
        "id": "3idoY7dDJKIp",
        "colab_type": "code",
        "colab": {
          "base_uri": "https://localhost:8080/",
          "height": 51
        },
        "outputId": "d358fbd3-1f10-46e3-8e4f-f71f034d916e"
      },
      "source": [
        "import numpy as np\n",
        "date = datetime.now()\n",
        "# present date\n",
        "print(date)\n",
        "print(date+pd.to_timedelta(1,unit='m'))\n"
      ],
      "execution_count": 44,
      "outputs": [
        {
          "output_type": "stream",
          "text": [
            "2020-05-07 18:50:41.708964\n",
            "2020-05-07 18:51:41.708964\n"
          ],
          "name": "stdout"
        }
      ]
    },
    {
      "cell_type": "code",
      "metadata": {
        "id": "9D4ugOFDdI46",
        "colab_type": "code",
        "colab": {
          "base_uri": "https://localhost:8080/",
          "height": 170
        },
        "outputId": "be733818-60c1-4fd6-822c-bdf162329dd1"
      },
      "source": [
        "pd.date_range(start='24/4/2020', end='24/5/2020', freq='D')"
      ],
      "execution_count": 46,
      "outputs": [
        {
          "output_type": "execute_result",
          "data": {
            "text/plain": [
              "DatetimeIndex(['2020-04-24', '2020-04-25', '2020-04-26', '2020-04-27',\n",
              "               '2020-04-28', '2020-04-29', '2020-04-30', '2020-05-01',\n",
              "               '2020-05-02', '2020-05-03', '2020-05-04', '2020-05-05',\n",
              "               '2020-05-06', '2020-05-07', '2020-05-08', '2020-05-09',\n",
              "               '2020-05-10', '2020-05-11', '2020-05-12', '2020-05-13',\n",
              "               '2020-05-14', '2020-05-15', '2020-05-16', '2020-05-17',\n",
              "               '2020-05-18', '2020-05-19', '2020-05-20', '2020-05-21',\n",
              "               '2020-05-22', '2020-05-23', '2020-05-24'],\n",
              "              dtype='datetime64[ns]', freq='D')"
            ]
          },
          "metadata": {
            "tags": []
          },
          "execution_count": 46
        }
      ]
    },
    {
      "cell_type": "code",
      "metadata": {
        "id": "yILOU5XAekGS",
        "colab_type": "code",
        "colab": {
          "base_uri": "https://localhost:8080/",
          "height": 85
        },
        "outputId": "e01abc94-c7e5-4b9d-aaa3-0924c16b0114"
      },
      "source": [
        "from datetime import datetime\n",
        "start_date = datetime.today()\n",
        "dates_start = pd.date_range(start=start_date, periods=10, freq='T')\n",
        "dates_start[:5]"
      ],
      "execution_count": 47,
      "outputs": [
        {
          "output_type": "execute_result",
          "data": {
            "text/plain": [
              "DatetimeIndex(['2020-05-07 18:51:33.295305', '2020-05-07 18:52:33.295305',\n",
              "               '2020-05-07 18:53:33.295305', '2020-05-07 18:54:33.295305',\n",
              "               '2020-05-07 18:55:33.295305'],\n",
              "              dtype='datetime64[ns]', freq='T')"
            ]
          },
          "metadata": {
            "tags": []
          },
          "execution_count": 47
        }
      ]
    },
    {
      "cell_type": "code",
      "metadata": {
        "id": "RqdoY3bAeoKl",
        "colab_type": "code",
        "colab": {
          "base_uri": "https://localhost:8080/",
          "height": 85
        },
        "outputId": "2eeb3ccd-76e9-4890-cab8-e9ae308759fb"
      },
      "source": [
        "dates_end = pd.date_range(start=start_date, periods=10, freq='D')\n",
        "dates_end[:5]"
      ],
      "execution_count": 48,
      "outputs": [
        {
          "output_type": "execute_result",
          "data": {
            "text/plain": [
              "DatetimeIndex(['2020-05-07 18:51:33.295305', '2020-05-08 18:51:33.295305',\n",
              "               '2020-05-09 18:51:33.295305', '2020-05-10 18:51:33.295305',\n",
              "               '2020-05-11 18:51:33.295305'],\n",
              "              dtype='datetime64[ns]', freq='D')"
            ]
          },
          "metadata": {
            "tags": []
          },
          "execution_count": 48
        }
      ]
    },
    {
      "cell_type": "code",
      "metadata": {
        "id": "QzUv1TJuer35",
        "colab_type": "code",
        "colab": {
          "base_uri": "https://localhost:8080/",
          "height": 204
        },
        "outputId": "0cef28d8-c2da-4d9a-e934-31d84d066ee5"
      },
      "source": [
        "import random\n",
        "randomList = []\n",
        "for i in range(10):\n",
        "    randomList.append(random.randint(0,1))\n",
        "\n",
        "# dataframe\n",
        "df = pd.DataFrame()\n",
        "df['Start_date'] = dates_start\n",
        "df['End_date'] = dates_end\n",
        "df['Target'] = randomList\n",
        "\n",
        "df.head()\n"
      ],
      "execution_count": 49,
      "outputs": [
        {
          "output_type": "execute_result",
          "data": {
            "text/html": [
              "<div>\n",
              "<style scoped>\n",
              "    .dataframe tbody tr th:only-of-type {\n",
              "        vertical-align: middle;\n",
              "    }\n",
              "\n",
              "    .dataframe tbody tr th {\n",
              "        vertical-align: top;\n",
              "    }\n",
              "\n",
              "    .dataframe thead th {\n",
              "        text-align: right;\n",
              "    }\n",
              "</style>\n",
              "<table border=\"1\" class=\"dataframe\">\n",
              "  <thead>\n",
              "    <tr style=\"text-align: right;\">\n",
              "      <th></th>\n",
              "      <th>Start_date</th>\n",
              "      <th>End_date</th>\n",
              "      <th>Target</th>\n",
              "    </tr>\n",
              "  </thead>\n",
              "  <tbody>\n",
              "    <tr>\n",
              "      <th>0</th>\n",
              "      <td>2020-05-07 18:51:33.295305</td>\n",
              "      <td>2020-05-07 18:51:33.295305</td>\n",
              "      <td>0</td>\n",
              "    </tr>\n",
              "    <tr>\n",
              "      <th>1</th>\n",
              "      <td>2020-05-07 18:52:33.295305</td>\n",
              "      <td>2020-05-08 18:51:33.295305</td>\n",
              "      <td>0</td>\n",
              "    </tr>\n",
              "    <tr>\n",
              "      <th>2</th>\n",
              "      <td>2020-05-07 18:53:33.295305</td>\n",
              "      <td>2020-05-09 18:51:33.295305</td>\n",
              "      <td>1</td>\n",
              "    </tr>\n",
              "    <tr>\n",
              "      <th>3</th>\n",
              "      <td>2020-05-07 18:54:33.295305</td>\n",
              "      <td>2020-05-10 18:51:33.295305</td>\n",
              "      <td>0</td>\n",
              "    </tr>\n",
              "    <tr>\n",
              "      <th>4</th>\n",
              "      <td>2020-05-07 18:55:33.295305</td>\n",
              "      <td>2020-05-11 18:51:33.295305</td>\n",
              "      <td>1</td>\n",
              "    </tr>\n",
              "  </tbody>\n",
              "</table>\n",
              "</div>"
            ],
            "text/plain": [
              "                  Start_date                   End_date  Target\n",
              "0 2020-05-07 18:51:33.295305 2020-05-07 18:51:33.295305       0\n",
              "1 2020-05-07 18:52:33.295305 2020-05-08 18:51:33.295305       0\n",
              "2 2020-05-07 18:53:33.295305 2020-05-09 18:51:33.295305       1\n",
              "3 2020-05-07 18:54:33.295305 2020-05-10 18:51:33.295305       0\n",
              "4 2020-05-07 18:55:33.295305 2020-05-11 18:51:33.295305       1"
            ]
          },
          "metadata": {
            "tags": []
          },
          "execution_count": 49
        }
      ]
    },
    {
      "cell_type": "code",
      "metadata": {
        "id": "kt1Vo3bsez5l",
        "colab_type": "code",
        "colab": {}
      },
      "source": [
        "# day\n",
        "df['Day'] = df['Start_date'].dt.day\n",
        "# month\n",
        "df['Month'] = df['Start_date'].dt.month\n",
        "# year\n",
        "df['Year'] = df['Start_date'].dt.year\n",
        "# hour\n",
        "df['Start_hour'] = df['Start_date'].dt.hour\n",
        "# minute\n",
        "df['Start_minute'] = df['Start_date'].dt.minute\n",
        "# second\n",
        "df['Start_second'] = df['Start_date'].dt.second\n",
        "# Monday is 0 and Sunday is 6\n",
        "df['Start_weekday'] = df['Start_date'].dt.weekday\n",
        "# week of the year\n",
        "df['Start_week_of_year'] = df['Start_date'].dt.week\n",
        "# duration\n",
        "df['Duration'] = df['End_date']-df['Start_date']"
      ],
      "execution_count": 0,
      "outputs": []
    },
    {
      "cell_type": "code",
      "metadata": {
        "id": "I2ScpRfye6Tu",
        "colab_type": "code",
        "colab": {}
      },
      "source": [
        "df['Duration_days'] = df['Duration']/timedelta(days=1)\n",
        "df['Duration_minutes'] = df['Duration']/timedelta(minutes=1)\n",
        "df['Duration_seconds'] = df['Duration']/timedelta(seconds=1)"
      ],
      "execution_count": 0,
      "outputs": []
    },
    {
      "cell_type": "code",
      "metadata": {
        "id": "M9-7_rUOe--s",
        "colab_type": "code",
        "colab": {
          "base_uri": "https://localhost:8080/",
          "height": 549
        },
        "outputId": "6a91fe53-d577-4d51-86c2-86594d257ee8"
      },
      "source": [
        "df"
      ],
      "execution_count": 52,
      "outputs": [
        {
          "output_type": "execute_result",
          "data": {
            "text/html": [
              "<div>\n",
              "<style scoped>\n",
              "    .dataframe tbody tr th:only-of-type {\n",
              "        vertical-align: middle;\n",
              "    }\n",
              "\n",
              "    .dataframe tbody tr th {\n",
              "        vertical-align: top;\n",
              "    }\n",
              "\n",
              "    .dataframe thead th {\n",
              "        text-align: right;\n",
              "    }\n",
              "</style>\n",
              "<table border=\"1\" class=\"dataframe\">\n",
              "  <thead>\n",
              "    <tr style=\"text-align: right;\">\n",
              "      <th></th>\n",
              "      <th>Start_date</th>\n",
              "      <th>End_date</th>\n",
              "      <th>Target</th>\n",
              "      <th>Day</th>\n",
              "      <th>Month</th>\n",
              "      <th>Year</th>\n",
              "      <th>Start_hour</th>\n",
              "      <th>Start_minute</th>\n",
              "      <th>Start_second</th>\n",
              "      <th>Start_weekday</th>\n",
              "      <th>Start_week_of_year</th>\n",
              "      <th>Duration</th>\n",
              "      <th>Duration_days</th>\n",
              "      <th>Duration_minutes</th>\n",
              "      <th>Duration_seconds</th>\n",
              "    </tr>\n",
              "  </thead>\n",
              "  <tbody>\n",
              "    <tr>\n",
              "      <th>0</th>\n",
              "      <td>2020-05-07 18:51:33.295305</td>\n",
              "      <td>2020-05-07 18:51:33.295305</td>\n",
              "      <td>0</td>\n",
              "      <td>7</td>\n",
              "      <td>5</td>\n",
              "      <td>2020</td>\n",
              "      <td>18</td>\n",
              "      <td>51</td>\n",
              "      <td>33</td>\n",
              "      <td>3</td>\n",
              "      <td>19</td>\n",
              "      <td>0 days 00:00:00</td>\n",
              "      <td>0.000000</td>\n",
              "      <td>0.0</td>\n",
              "      <td>0.0</td>\n",
              "    </tr>\n",
              "    <tr>\n",
              "      <th>1</th>\n",
              "      <td>2020-05-07 18:52:33.295305</td>\n",
              "      <td>2020-05-08 18:51:33.295305</td>\n",
              "      <td>0</td>\n",
              "      <td>7</td>\n",
              "      <td>5</td>\n",
              "      <td>2020</td>\n",
              "      <td>18</td>\n",
              "      <td>52</td>\n",
              "      <td>33</td>\n",
              "      <td>3</td>\n",
              "      <td>19</td>\n",
              "      <td>0 days 23:59:00</td>\n",
              "      <td>0.999306</td>\n",
              "      <td>1439.0</td>\n",
              "      <td>86340.0</td>\n",
              "    </tr>\n",
              "    <tr>\n",
              "      <th>2</th>\n",
              "      <td>2020-05-07 18:53:33.295305</td>\n",
              "      <td>2020-05-09 18:51:33.295305</td>\n",
              "      <td>1</td>\n",
              "      <td>7</td>\n",
              "      <td>5</td>\n",
              "      <td>2020</td>\n",
              "      <td>18</td>\n",
              "      <td>53</td>\n",
              "      <td>33</td>\n",
              "      <td>3</td>\n",
              "      <td>19</td>\n",
              "      <td>1 days 23:58:00</td>\n",
              "      <td>1.998611</td>\n",
              "      <td>2878.0</td>\n",
              "      <td>172680.0</td>\n",
              "    </tr>\n",
              "    <tr>\n",
              "      <th>3</th>\n",
              "      <td>2020-05-07 18:54:33.295305</td>\n",
              "      <td>2020-05-10 18:51:33.295305</td>\n",
              "      <td>0</td>\n",
              "      <td>7</td>\n",
              "      <td>5</td>\n",
              "      <td>2020</td>\n",
              "      <td>18</td>\n",
              "      <td>54</td>\n",
              "      <td>33</td>\n",
              "      <td>3</td>\n",
              "      <td>19</td>\n",
              "      <td>2 days 23:57:00</td>\n",
              "      <td>2.997917</td>\n",
              "      <td>4317.0</td>\n",
              "      <td>259020.0</td>\n",
              "    </tr>\n",
              "    <tr>\n",
              "      <th>4</th>\n",
              "      <td>2020-05-07 18:55:33.295305</td>\n",
              "      <td>2020-05-11 18:51:33.295305</td>\n",
              "      <td>1</td>\n",
              "      <td>7</td>\n",
              "      <td>5</td>\n",
              "      <td>2020</td>\n",
              "      <td>18</td>\n",
              "      <td>55</td>\n",
              "      <td>33</td>\n",
              "      <td>3</td>\n",
              "      <td>19</td>\n",
              "      <td>3 days 23:56:00</td>\n",
              "      <td>3.997222</td>\n",
              "      <td>5756.0</td>\n",
              "      <td>345360.0</td>\n",
              "    </tr>\n",
              "    <tr>\n",
              "      <th>5</th>\n",
              "      <td>2020-05-07 18:56:33.295305</td>\n",
              "      <td>2020-05-12 18:51:33.295305</td>\n",
              "      <td>0</td>\n",
              "      <td>7</td>\n",
              "      <td>5</td>\n",
              "      <td>2020</td>\n",
              "      <td>18</td>\n",
              "      <td>56</td>\n",
              "      <td>33</td>\n",
              "      <td>3</td>\n",
              "      <td>19</td>\n",
              "      <td>4 days 23:55:00</td>\n",
              "      <td>4.996528</td>\n",
              "      <td>7195.0</td>\n",
              "      <td>431700.0</td>\n",
              "    </tr>\n",
              "    <tr>\n",
              "      <th>6</th>\n",
              "      <td>2020-05-07 18:57:33.295305</td>\n",
              "      <td>2020-05-13 18:51:33.295305</td>\n",
              "      <td>0</td>\n",
              "      <td>7</td>\n",
              "      <td>5</td>\n",
              "      <td>2020</td>\n",
              "      <td>18</td>\n",
              "      <td>57</td>\n",
              "      <td>33</td>\n",
              "      <td>3</td>\n",
              "      <td>19</td>\n",
              "      <td>5 days 23:54:00</td>\n",
              "      <td>5.995833</td>\n",
              "      <td>8634.0</td>\n",
              "      <td>518040.0</td>\n",
              "    </tr>\n",
              "    <tr>\n",
              "      <th>7</th>\n",
              "      <td>2020-05-07 18:58:33.295305</td>\n",
              "      <td>2020-05-14 18:51:33.295305</td>\n",
              "      <td>1</td>\n",
              "      <td>7</td>\n",
              "      <td>5</td>\n",
              "      <td>2020</td>\n",
              "      <td>18</td>\n",
              "      <td>58</td>\n",
              "      <td>33</td>\n",
              "      <td>3</td>\n",
              "      <td>19</td>\n",
              "      <td>6 days 23:53:00</td>\n",
              "      <td>6.995139</td>\n",
              "      <td>10073.0</td>\n",
              "      <td>604380.0</td>\n",
              "    </tr>\n",
              "    <tr>\n",
              "      <th>8</th>\n",
              "      <td>2020-05-07 18:59:33.295305</td>\n",
              "      <td>2020-05-15 18:51:33.295305</td>\n",
              "      <td>0</td>\n",
              "      <td>7</td>\n",
              "      <td>5</td>\n",
              "      <td>2020</td>\n",
              "      <td>18</td>\n",
              "      <td>59</td>\n",
              "      <td>33</td>\n",
              "      <td>3</td>\n",
              "      <td>19</td>\n",
              "      <td>7 days 23:52:00</td>\n",
              "      <td>7.994444</td>\n",
              "      <td>11512.0</td>\n",
              "      <td>690720.0</td>\n",
              "    </tr>\n",
              "    <tr>\n",
              "      <th>9</th>\n",
              "      <td>2020-05-07 19:00:33.295305</td>\n",
              "      <td>2020-05-16 18:51:33.295305</td>\n",
              "      <td>1</td>\n",
              "      <td>7</td>\n",
              "      <td>5</td>\n",
              "      <td>2020</td>\n",
              "      <td>19</td>\n",
              "      <td>0</td>\n",
              "      <td>33</td>\n",
              "      <td>3</td>\n",
              "      <td>19</td>\n",
              "      <td>8 days 23:51:00</td>\n",
              "      <td>8.993750</td>\n",
              "      <td>12951.0</td>\n",
              "      <td>777060.0</td>\n",
              "    </tr>\n",
              "  </tbody>\n",
              "</table>\n",
              "</div>"
            ],
            "text/plain": [
              "                  Start_date  ... Duration_seconds\n",
              "0 2020-05-07 18:51:33.295305  ...              0.0\n",
              "1 2020-05-07 18:52:33.295305  ...          86340.0\n",
              "2 2020-05-07 18:53:33.295305  ...         172680.0\n",
              "3 2020-05-07 18:54:33.295305  ...         259020.0\n",
              "4 2020-05-07 18:55:33.295305  ...         345360.0\n",
              "5 2020-05-07 18:56:33.295305  ...         431700.0\n",
              "6 2020-05-07 18:57:33.295305  ...         518040.0\n",
              "7 2020-05-07 18:58:33.295305  ...         604380.0\n",
              "8 2020-05-07 18:59:33.295305  ...         690720.0\n",
              "9 2020-05-07 19:00:33.295305  ...         777060.0\n",
              "\n",
              "[10 rows x 15 columns]"
            ]
          },
          "metadata": {
            "tags": []
          },
          "execution_count": 52
        }
      ]
    },
    {
      "cell_type": "code",
      "metadata": {
        "id": "k2ju21KNJBGm",
        "colab_type": "code",
        "colab": {
          "base_uri": "https://localhost:8080/",
          "height": 100
        },
        "outputId": "7c09fbf7-67a0-4c80-d7bc-e6407dee9d96"
      },
      "source": [
        "df.index=df['Start_date']\n",
        "df['2020-04-24':'2020-04-24'].head()"
      ],
      "execution_count": 53,
      "outputs": [
        {
          "output_type": "execute_result",
          "data": {
            "text/html": [
              "<div>\n",
              "<style scoped>\n",
              "    .dataframe tbody tr th:only-of-type {\n",
              "        vertical-align: middle;\n",
              "    }\n",
              "\n",
              "    .dataframe tbody tr th {\n",
              "        vertical-align: top;\n",
              "    }\n",
              "\n",
              "    .dataframe thead th {\n",
              "        text-align: right;\n",
              "    }\n",
              "</style>\n",
              "<table border=\"1\" class=\"dataframe\">\n",
              "  <thead>\n",
              "    <tr style=\"text-align: right;\">\n",
              "      <th></th>\n",
              "      <th>Start_date</th>\n",
              "      <th>End_date</th>\n",
              "      <th>Target</th>\n",
              "      <th>Day</th>\n",
              "      <th>Month</th>\n",
              "      <th>Year</th>\n",
              "      <th>Start_hour</th>\n",
              "      <th>Start_minute</th>\n",
              "      <th>Start_second</th>\n",
              "      <th>Start_weekday</th>\n",
              "      <th>Start_week_of_year</th>\n",
              "      <th>Duration</th>\n",
              "      <th>Duration_days</th>\n",
              "      <th>Duration_minutes</th>\n",
              "      <th>Duration_seconds</th>\n",
              "    </tr>\n",
              "    <tr>\n",
              "      <th>Start_date</th>\n",
              "      <th></th>\n",
              "      <th></th>\n",
              "      <th></th>\n",
              "      <th></th>\n",
              "      <th></th>\n",
              "      <th></th>\n",
              "      <th></th>\n",
              "      <th></th>\n",
              "      <th></th>\n",
              "      <th></th>\n",
              "      <th></th>\n",
              "      <th></th>\n",
              "      <th></th>\n",
              "      <th></th>\n",
              "      <th></th>\n",
              "    </tr>\n",
              "  </thead>\n",
              "  <tbody>\n",
              "  </tbody>\n",
              "</table>\n",
              "</div>"
            ],
            "text/plain": [
              "Empty DataFrame\n",
              "Columns: [Start_date, End_date, Target, Day, Month, Year, Start_hour, Start_minute, Start_second, Start_weekday, Start_week_of_year, Duration, Duration_days, Duration_minutes, Duration_seconds]\n",
              "Index: []"
            ]
          },
          "metadata": {
            "tags": []
          },
          "execution_count": 53
        }
      ]
    },
    {
      "cell_type": "code",
      "metadata": {
        "id": "998_2XRGfEz_",
        "colab_type": "code",
        "colab": {}
      },
      "source": [
        ""
      ],
      "execution_count": 0,
      "outputs": []
    }
  ]
}