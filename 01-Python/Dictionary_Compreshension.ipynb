{
  "nbformat": 4,
  "nbformat_minor": 0,
  "metadata": {
    "colab": {
      "name": "Dictionary Compreshension.ipynb",
      "provenance": [],
      "authorship_tag": "ABX9TyPdYbDAIp6RmqkHamWLzZ/H",
      "include_colab_link": true
    },
    "kernelspec": {
      "name": "python3",
      "display_name": "Python 3"
    },
    "language_info": {
      "name": "python"
    }
  },
  "cells": [
    {
      "cell_type": "markdown",
      "metadata": {
        "id": "view-in-github",
        "colab_type": "text"
      },
      "source": [
        "<a href=\"https://colab.research.google.com/github/plthiyagu/AI-Engineering/blob/master/01-Python/Dictionary_Compreshension.ipynb\" target=\"_parent\"><img src=\"https://colab.research.google.com/assets/colab-badge.svg\" alt=\"Open In Colab\"/></a>"
      ]
    },
    {
      "cell_type": "code",
      "metadata": {
        "colab": {
          "base_uri": "https://localhost:8080/"
        },
        "id": "Wt0KK7rQc8rC",
        "outputId": "2cc36558-0d1c-4a63-d7a7-d3c3acdfca98"
      },
      "source": [
        "keys=['a','b','c','d','e']\n",
        "values=[1,2,3,4,5]\n",
        "dictionary= {key:value for (key,value) in zip(keys,values)}\n",
        "print(dictionary)"
      ],
      "execution_count": 4,
      "outputs": [
        {
          "output_type": "stream",
          "text": [
            "{'a': 1, 'b': 2, 'c': 3, 'd': 4, 'e': 5}\n"
          ],
          "name": "stdout"
        }
      ]
    },
    {
      "cell_type": "code",
      "metadata": {
        "colab": {
          "base_uri": "https://localhost:8080/"
        },
        "id": "zp6VogXSdZRV",
        "outputId": "cd9570a7-f780-4b4c-cf0f-694f5c89c006"
      },
      "source": [
        "dictionary={x.upper():x*2 for x in 'hey'}\n",
        "print(dictionary)"
      ],
      "execution_count": 6,
      "outputs": [
        {
          "output_type": "stream",
          "text": [
            "{'H': 'hh', 'E': 'ee', 'Y': 'yy'}\n"
          ],
          "name": "stdout"
        }
      ]
    },
    {
      "cell_type": "code",
      "metadata": {
        "colab": {
          "base_uri": "https://localhost:8080/"
        },
        "id": "ScPI0CIBd8g5",
        "outputId": "3c18356f-5f35-45ee-cae5-dcdb3f43bcb1"
      },
      "source": [
        "dictionary={x:x**2 for x in [1,2,3,4,5]}\n",
        "print(dictionary)"
      ],
      "execution_count": 8,
      "outputs": [
        {
          "output_type": "stream",
          "text": [
            "{1: 1, 2: 4, 3: 9, 4: 16, 5: 25}\n"
          ],
          "name": "stdout"
        }
      ]
    },
    {
      "cell_type": "code",
      "metadata": {
        "id": "WA6PatjXeV09"
      },
      "source": [
        ""
      ],
      "execution_count": null,
      "outputs": []
    }
  ]
}