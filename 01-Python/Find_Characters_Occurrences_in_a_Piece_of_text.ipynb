{
  "nbformat": 4,
  "nbformat_minor": 0,
  "metadata": {
    "colab": {
      "name": "Find Characters Occurrences in a Piece of   text.ipynb",
      "provenance": [],
      "authorship_tag": "ABX9TyOzptjKrnaihkfZwB82xEjA",
      "include_colab_link": true
    },
    "kernelspec": {
      "name": "python3",
      "display_name": "Python 3"
    },
    "language_info": {
      "name": "python"
    }
  },
  "cells": [
    {
      "cell_type": "markdown",
      "metadata": {
        "id": "view-in-github",
        "colab_type": "text"
      },
      "source": [
        "<a href=\"https://colab.research.google.com/github/plthiyagu/AI-Engineering/blob/master/01-Python/Find_Characters_Occurrences_in_a_Piece_of_text.ipynb\" target=\"_parent\"><img src=\"https://colab.research.google.com/assets/colab-badge.svg\" alt=\"Open In Colab\"/></a>"
      ]
    },
    {
      "cell_type": "code",
      "metadata": {
        "id": "HuymUraSOkmd"
      },
      "source": [
        "def count_characters(s):\n",
        "  count={}\n",
        "  for i in s:\n",
        "    if i in count:\n",
        "      count[i] += 1\n",
        "    else:\n",
        "      count[i] =1\n",
        "  print(count)\n"
      ],
      "execution_count": 3,
      "outputs": []
    },
    {
      "cell_type": "code",
      "metadata": {
        "colab": {
          "base_uri": "https://localhost:8080/"
        },
        "id": "8Mig-rYgPIUE",
        "outputId": "e9a5ba7a-f0a5-41d5-be0f-c5ee6ab4fd43"
      },
      "source": [
        "count_characters(\"Thecleverprogrammer\")"
      ],
      "execution_count": 5,
      "outputs": [
        {
          "output_type": "stream",
          "text": [
            "{'T': 1, 'h': 1, 'e': 4, 'c': 1, 'l': 1, 'v': 1, 'r': 4, 'p': 1, 'o': 1, 'g': 1, 'a': 1, 'm': 2}\n"
          ],
          "name": "stdout"
        }
      ]
    },
    {
      "cell_type": "code",
      "metadata": {
        "id": "nU3_jl1GPKeD"
      },
      "source": [
        ""
      ],
      "execution_count": null,
      "outputs": []
    }
  ]
}