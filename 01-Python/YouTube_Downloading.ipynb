{
  "nbformat": 4,
  "nbformat_minor": 0,
  "metadata": {
    "colab": {
      "name": "YouTube Downloading.ipynb",
      "provenance": [],
      "collapsed_sections": [],
      "authorship_tag": "ABX9TyP2lD0N0tGqkffGdbQZaUEn",
      "include_colab_link": true
    },
    "kernelspec": {
      "name": "python3",
      "display_name": "Python 3"
    }
  },
  "cells": [
    {
      "cell_type": "markdown",
      "metadata": {
        "id": "view-in-github",
        "colab_type": "text"
      },
      "source": [
        "<a href=\"https://colab.research.google.com/github/plthiyagu/Personnel/blob/master/YouTube_Downloading.ipynb\" target=\"_parent\"><img src=\"https://colab.research.google.com/assets/colab-badge.svg\" alt=\"Open In Colab\"/></a>"
      ]
    },
    {
      "cell_type": "code",
      "metadata": {
        "id": "qYuznmxvkC2A",
        "colab_type": "code",
        "colab": {
          "base_uri": "https://localhost:8080/",
          "height": 122
        },
        "outputId": "88093774-2cbd-4794-824d-0d4d28cf2bc6"
      },
      "source": [
        "from google.colab import drive\n",
        "drive.mount('/content/drive')"
      ],
      "execution_count": 1,
      "outputs": [
        {
          "output_type": "stream",
          "text": [
            "Go to this URL in a browser: https://accounts.google.com/o/oauth2/auth?client_id=947318989803-6bn6qk8qdgf4n4g3pfee6491hc0brc4i.apps.googleusercontent.com&redirect_uri=urn%3aietf%3awg%3aoauth%3a2.0%3aoob&response_type=code&scope=email%20https%3a%2f%2fwww.googleapis.com%2fauth%2fdocs.test%20https%3a%2f%2fwww.googleapis.com%2fauth%2fdrive%20https%3a%2f%2fwww.googleapis.com%2fauth%2fdrive.photos.readonly%20https%3a%2f%2fwww.googleapis.com%2fauth%2fpeopleapi.readonly\n",
            "\n",
            "Enter your authorization code:\n",
            "··········\n",
            "Mounted at /content/drive\n"
          ],
          "name": "stdout"
        }
      ]
    },
    {
      "cell_type": "code",
      "metadata": {
        "id": "D6NScyWRkQK3",
        "colab_type": "code",
        "colab": {
          "base_uri": "https://localhost:8080/",
          "height": 85
        },
        "outputId": "a4775b47-5165-497f-fa0b-228017f60ae1"
      },
      "source": [
        "!ls -alrt '/content/drive/My Drive/Colab Notebooks/Dataset/'"
      ],
      "execution_count": 2,
      "outputs": [
        {
          "output_type": "stream",
          "text": [
            "total 1162157\n",
            "-rw------- 1 root root 1189395649 Sep 19  2019 loan.csv\n",
            "-rw------- 1 root root       3452 Apr 22 17:09 loan_analysis_summary.csv\n",
            "-rw------- 1 root root     648353 Apr 25 03:03 bike_sharing.csv\n"
          ],
          "name": "stdout"
        }
      ]
    },
    {
      "cell_type": "code",
      "metadata": {
        "id": "E05yjTFHkax0",
        "colab_type": "code",
        "colab": {
          "base_uri": "https://localhost:8080/",
          "height": 122
        },
        "outputId": "4f8bfb9f-2c82-4d45-8b1c-b2c719161cae"
      },
      "source": [
        "!pip install youtube_dl"
      ],
      "execution_count": 4,
      "outputs": [
        {
          "output_type": "stream",
          "text": [
            "Collecting youtube_dl\n",
            "\u001b[?25l  Downloading https://files.pythonhosted.org/packages/d0/b3/c3d42f6bbf91da104c272950d30923c222061d7323aa43dcf975a6e8e2c2/youtube_dl-2020.3.24-py2.py3-none-any.whl (1.8MB)\n",
            "\u001b[K     |████████████████████████████████| 1.8MB 2.8MB/s \n",
            "\u001b[?25hInstalling collected packages: youtube-dl\n",
            "Successfully installed youtube-dl-2020.3.24\n"
          ],
          "name": "stdout"
        }
      ]
    },
    {
      "cell_type": "code",
      "metadata": {
        "id": "b_-KrGwkkmAJ",
        "colab_type": "code",
        "colab": {
          "base_uri": "https://localhost:8080/",
          "height": 204
        },
        "outputId": "434c7448-f260-4120-b954-b1186ed7dcd8"
      },
      "source": [
        "import youtube_dl,os\n",
        "y={}\n",
        "path='/content/drive/My Drive/Colab Notebooks/Dataset/'\n",
        "os.chdir(path)\n",
        "#URL='https://youyu.be/g_IHBnpzr0'\n",
        "URL=\"https://www.youtube.com/watch?v=Oyw_xM4Gwrs\"\n",
        "with youtube_dl.YoutubeDL(y) as ydl:\n",
        "  print(\"Downloading....\"+URL)\n",
        "  ydl.download([URL])\n",
        "print(URL+ 'Downloaded')"
      ],
      "execution_count": 8,
      "outputs": [
        {
          "output_type": "stream",
          "text": [
            "Downloading....https://www.youtube.com/watch?v=Oyw_xM4Gwrs\n",
            "[youtube] Oyw_xM4Gwrs: Downloading webpage\n"
          ],
          "name": "stdout"
        },
        {
          "output_type": "stream",
          "text": [
            "WARNING: Requested formats are incompatible for merge and will be merged into mkv.\n"
          ],
          "name": "stderr"
        },
        {
          "output_type": "stream",
          "text": [
            "[download] Destination: Where is our Realestate market-Oyw_xM4Gwrs.f398.mp4\n",
            "[download] 100% of 45.29MiB in 00:04\n",
            "[download] Destination: Where is our Realestate market-Oyw_xM4Gwrs.f251.webm\n",
            "[download] 100% of 7.08MiB in 00:00\n",
            "[ffmpeg] Merging formats into \"Where is our Realestate market-Oyw_xM4Gwrs.mkv\"\n",
            "Deleting original file Where is our Realestate market-Oyw_xM4Gwrs.f398.mp4 (pass -k to keep)\n",
            "Deleting original file Where is our Realestate market-Oyw_xM4Gwrs.f251.webm (pass -k to keep)\n",
            "https://www.youtube.com/watch?v=Oyw_xM4GwrsDownloaded\n"
          ],
          "name": "stdout"
        }
      ]
    }
  ]
}