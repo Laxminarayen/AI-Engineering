{
  "nbformat": 4,
  "nbformat_minor": 0,
  "metadata": {
    "colab": {
      "name": "Collections Chainmap.ipynb",
      "provenance": [],
      "authorship_tag": "ABX9TyOJIdDKzrvqhzxjiTVvVgV2",
      "include_colab_link": true
    },
    "kernelspec": {
      "name": "python3",
      "display_name": "Python 3"
    },
    "language_info": {
      "name": "python"
    }
  },
  "cells": [
    {
      "cell_type": "markdown",
      "metadata": {
        "id": "view-in-github",
        "colab_type": "text"
      },
      "source": [
        "<a href=\"https://colab.research.google.com/github/plthiyagu/AI-Engineering/blob/master/01-Python/Collections_Chainmap.ipynb\" target=\"_parent\"><img src=\"https://colab.research.google.com/assets/colab-badge.svg\" alt=\"Open In Colab\"/></a>"
      ]
    },
    {
      "cell_type": "markdown",
      "metadata": {
        "id": "12Bb3PUGyNtH"
      },
      "source": [
        "https://www.analyticsvidhya.com/blog/2021/07/pythons-collections-module-every-developer-should-know/?utm_source=feedburner&utm_medium=email&utm_campaign=Feed%3A+AnalyticsVidhya+%28Analytics+Vidhya%29"
      ]
    },
    {
      "cell_type": "code",
      "metadata": {
        "id": "sPB7MpY4uRbc"
      },
      "source": [
        "from math import sqrt"
      ],
      "execution_count": 1,
      "outputs": []
    },
    {
      "cell_type": "code",
      "metadata": {
        "colab": {
          "base_uri": "https://localhost:8080/"
        },
        "id": "HSRNu1UhuU5h",
        "outputId": "b99462f8-8f59-4a6e-e6df-807faa202fa9"
      },
      "source": [
        "print(sqrt(4))"
      ],
      "execution_count": 2,
      "outputs": [
        {
          "output_type": "stream",
          "text": [
            "2.0\n"
          ],
          "name": "stdout"
        }
      ]
    },
    {
      "cell_type": "code",
      "metadata": {
        "id": "e_B382oiuYf6"
      },
      "source": [
        "from collections import Counter"
      ],
      "execution_count": 3,
      "outputs": []
    },
    {
      "cell_type": "code",
      "metadata": {
        "colab": {
          "base_uri": "https://localhost:8080/"
        },
        "id": "M2MuJoWIudeF",
        "outputId": "b062d305-26c7-4f72-9a56-20fbbd5294d4"
      },
      "source": [
        "random_list =[1,2,2,3,32,25,2,423,43,3432,3,52,54,5,5345,344,3344,5,54354,34,454]\n",
        "Counter(random_list)"
      ],
      "execution_count": 4,
      "outputs": [
        {
          "output_type": "execute_result",
          "data": {
            "text/plain": [
              "Counter({1: 1,\n",
              "         2: 3,\n",
              "         3: 2,\n",
              "         5: 2,\n",
              "         25: 1,\n",
              "         32: 1,\n",
              "         34: 1,\n",
              "         43: 1,\n",
              "         52: 1,\n",
              "         54: 1,\n",
              "         344: 1,\n",
              "         423: 1,\n",
              "         454: 1,\n",
              "         3344: 1,\n",
              "         3432: 1,\n",
              "         5345: 1,\n",
              "         54354: 1})"
            ]
          },
          "metadata": {
            "tags": []
          },
          "execution_count": 4
        }
      ]
    },
    {
      "cell_type": "code",
      "metadata": {
        "colab": {
          "base_uri": "https://localhost:8080/"
        },
        "id": "8tFaszEyuhnN",
        "outputId": "3a2c0df4-67de-49b5-a447-4d365f86341e"
      },
      "source": [
        "string = \"I am going to count the number of words in this sentence: Analytics Vidhya brings you the power of a community that comprises data practitioners, thought leaders, and corporates leveraging data to generate value for their businesses.\"\n",
        "word = string.split()\n",
        "Counter(word)"
      ],
      "execution_count": 5,
      "outputs": [
        {
          "output_type": "execute_result",
          "data": {
            "text/plain": [
              "Counter({'Analytics': 1,\n",
              "         'I': 1,\n",
              "         'Vidhya': 1,\n",
              "         'a': 1,\n",
              "         'am': 1,\n",
              "         'and': 1,\n",
              "         'brings': 1,\n",
              "         'businesses.': 1,\n",
              "         'community': 1,\n",
              "         'comprises': 1,\n",
              "         'corporates': 1,\n",
              "         'count': 1,\n",
              "         'data': 2,\n",
              "         'for': 1,\n",
              "         'generate': 1,\n",
              "         'going': 1,\n",
              "         'in': 1,\n",
              "         'leaders,': 1,\n",
              "         'leveraging': 1,\n",
              "         'number': 1,\n",
              "         'of': 2,\n",
              "         'power': 1,\n",
              "         'practitioners,': 1,\n",
              "         'sentence:': 1,\n",
              "         'that': 1,\n",
              "         'the': 2,\n",
              "         'their': 1,\n",
              "         'this': 1,\n",
              "         'thought': 1,\n",
              "         'to': 2,\n",
              "         'value': 1,\n",
              "         'words': 1,\n",
              "         'you': 1})"
            ]
          },
          "metadata": {
            "tags": []
          },
          "execution_count": 5
        }
      ]
    },
    {
      "cell_type": "code",
      "metadata": {
        "colab": {
          "base_uri": "https://localhost:8080/"
        },
        "id": "IQByAKtKunWg",
        "outputId": "9aa29e97-1ceb-43ba-c5c4-c9188312259c"
      },
      "source": [
        "normal_dict = {'A':1,'B':2,'C':3,'D':4,'E':5}\n",
        "normal_dict"
      ],
      "execution_count": 8,
      "outputs": [
        {
          "output_type": "execute_result",
          "data": {
            "text/plain": [
              "{'A': 1, 'B': 2, 'C': 3, 'D': 4, 'E': 5}"
            ]
          },
          "metadata": {
            "tags": []
          },
          "execution_count": 8
        }
      ]
    },
    {
      "cell_type": "code",
      "metadata": {
        "colab": {
          "base_uri": "https://localhost:8080/"
        },
        "id": "u2saiwcLw4NP",
        "outputId": "f47c80da-bcce-4747-91e7-ab328d63b6e7"
      },
      "source": [
        "normal_dict['A']"
      ],
      "execution_count": 9,
      "outputs": [
        {
          "output_type": "execute_result",
          "data": {
            "text/plain": [
              "1"
            ]
          },
          "metadata": {
            "tags": []
          },
          "execution_count": 9
        }
      ]
    },
    {
      "cell_type": "code",
      "metadata": {
        "colab": {
          "base_uri": "https://localhost:8080/",
          "height": 163
        },
        "id": "PVH492yCxIqX",
        "outputId": "5394b357-5809-4e39-8b19-1e1121d78c3f"
      },
      "source": [
        "normal_dict['F']"
      ],
      "execution_count": 10,
      "outputs": [
        {
          "output_type": "error",
          "ename": "KeyError",
          "evalue": "ignored",
          "traceback": [
            "\u001b[0;31m---------------------------------------------------------------------------\u001b[0m",
            "\u001b[0;31mKeyError\u001b[0m                                  Traceback (most recent call last)",
            "\u001b[0;32m<ipython-input-10-cdd42e52070a>\u001b[0m in \u001b[0;36m<module>\u001b[0;34m()\u001b[0m\n\u001b[0;32m----> 1\u001b[0;31m \u001b[0mnormal_dict\u001b[0m\u001b[0;34m[\u001b[0m\u001b[0;34m'F'\u001b[0m\u001b[0;34m]\u001b[0m\u001b[0;34m\u001b[0m\u001b[0;34m\u001b[0m\u001b[0m\n\u001b[0m",
            "\u001b[0;31mKeyError\u001b[0m: 'F'"
          ]
        }
      ]
    },
    {
      "cell_type": "code",
      "metadata": {
        "colab": {
          "base_uri": "https://localhost:8080/"
        },
        "id": "KsD8jQyvxMJE",
        "outputId": "a349d550-68d9-4465-9edc-51c788d281cb"
      },
      "source": [
        "from collections import defaultdict\n",
        "default_d={'A':1,'B':2,'C':3,'D':4,'E':5}\n",
        "default_d = defaultdict(lambda: 0)\n",
        "default_d['F']"
      ],
      "execution_count": 11,
      "outputs": [
        {
          "output_type": "execute_result",
          "data": {
            "text/plain": [
              "0"
            ]
          },
          "metadata": {
            "tags": []
          },
          "execution_count": 11
        }
      ]
    },
    {
      "cell_type": "code",
      "metadata": {
        "id": "PZMAhjwKxTKH"
      },
      "source": [
        "Pizza = {'Farmhouse': 300, 'Chessy-7': 250}\n",
        "Drinks = {'Coca-Cola':80,'Pepsi':80,'Red-bull':100}\n",
        "SideOrders= {'Garlic Bread':120,'Tacos':90}"
      ],
      "execution_count": 12,
      "outputs": []
    },
    {
      "cell_type": "code",
      "metadata": {
        "id": "3JBqnM20xb5N"
      },
      "source": [
        "from collections import ChainMap\n",
        "Menu = ChainMap(Pizza,Drinks,SideOrders)"
      ],
      "execution_count": 13,
      "outputs": []
    },
    {
      "cell_type": "code",
      "metadata": {
        "colab": {
          "base_uri": "https://localhost:8080/"
        },
        "id": "nUpu7p8OxebQ",
        "outputId": "3c4666f4-1542-45b1-fafa-eb80e2abab32"
      },
      "source": [
        "Menu['Pepsi']"
      ],
      "execution_count": 14,
      "outputs": [
        {
          "output_type": "execute_result",
          "data": {
            "text/plain": [
              "80"
            ]
          },
          "metadata": {
            "tags": []
          },
          "execution_count": 14
        }
      ]
    },
    {
      "cell_type": "code",
      "metadata": {
        "colab": {
          "base_uri": "https://localhost:8080/"
        },
        "id": "cayuoTeZxgm_",
        "outputId": "53b9001d-732f-46df-a154-860725ff31e4"
      },
      "source": [
        "Pizza['Margherita']=100\n",
        "Menu['Margherita']"
      ],
      "execution_count": 16,
      "outputs": [
        {
          "output_type": "execute_result",
          "data": {
            "text/plain": [
              "100"
            ]
          },
          "metadata": {
            "tags": []
          },
          "execution_count": 16
        }
      ]
    },
    {
      "cell_type": "code",
      "metadata": {
        "colab": {
          "base_uri": "https://localhost:8080/"
        },
        "id": "03VjdzyAxl-l",
        "outputId": "e0753198-3f63-4cf0-84d8-4c7acc276523"
      },
      "source": [
        "normal_tuple = (10,20,30)\n",
        "normal_tuple[1]"
      ],
      "execution_count": 17,
      "outputs": [
        {
          "output_type": "execute_result",
          "data": {
            "text/plain": [
              "20"
            ]
          },
          "metadata": {
            "tags": []
          },
          "execution_count": 17
        }
      ]
    },
    {
      "cell_type": "code",
      "metadata": {
        "id": "oIHdn2Qvx0Ii"
      },
      "source": [
        "from collections import namedtuple\n",
        "Article = namedtuple('Article',['title','domain','number_of_words'])"
      ],
      "execution_count": 18,
      "outputs": []
    },
    {
      "cell_type": "code",
      "metadata": {
        "colab": {
          "base_uri": "https://localhost:8080/"
        },
        "id": "WhNstzbxx6kc",
        "outputId": "50d158b6-2e68-4715-9246-e184e32690e4"
      },
      "source": [
        "Sentimental_analysis = Article('Sentimental_analysis','NLP','1000')\n",
        "Sentimental_analysis"
      ],
      "execution_count": 19,
      "outputs": [
        {
          "output_type": "execute_result",
          "data": {
            "text/plain": [
              "Article(title='Sentimental_analysis', domain='NLP', number_of_words='1000')"
            ]
          },
          "metadata": {
            "tags": []
          },
          "execution_count": 19
        }
      ]
    },
    {
      "cell_type": "code",
      "metadata": {
        "colab": {
          "base_uri": "https://localhost:8080/",
          "height": 35
        },
        "id": "pZcXoF-tx9Ia",
        "outputId": "568e9b4e-bde5-4e42-8dee-5693d2568203"
      },
      "source": [
        "Sentimental_analysis.domain"
      ],
      "execution_count": 20,
      "outputs": [
        {
          "output_type": "execute_result",
          "data": {
            "application/vnd.google.colaboratory.intrinsic+json": {
              "type": "string"
            },
            "text/plain": [
              "'NLP'"
            ]
          },
          "metadata": {
            "tags": []
          },
          "execution_count": 20
        }
      ]
    },
    {
      "cell_type": "code",
      "metadata": {
        "id": "bza5Baq6yF1c"
      },
      "source": [
        ""
      ],
      "execution_count": null,
      "outputs": []
    }
  ]
}