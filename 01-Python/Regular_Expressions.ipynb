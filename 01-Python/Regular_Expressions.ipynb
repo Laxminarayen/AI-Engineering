{
  "nbformat": 4,
  "nbformat_minor": 0,
  "metadata": {
    "colab": {
      "name": "Regular Expression.ipynb",
      "provenance": [],
      "authorship_tag": "ABX9TyNl2ri1bkv5yMmGAFF6Q2dx",
      "include_colab_link": true
    },
    "kernelspec": {
      "name": "python3",
      "display_name": "Python 3"
    }
  },
  "cells": [
    {
      "cell_type": "markdown",
      "metadata": {
        "id": "view-in-github",
        "colab_type": "text"
      },
      "source": [
        "<a href=\"https://colab.research.google.com/github/plthiyagu/Personnel/blob/master/Regular_Expression.ipynb\" target=\"_parent\"><img src=\"https://colab.research.google.com/assets/colab-badge.svg\" alt=\"Open In Colab\"/></a>"
      ]
    },
    {
      "cell_type": "code",
      "metadata": {
        "id": "kRjqXVQl1egu"
      },
      "source": [
        "import re"
      ],
      "execution_count": 1,
      "outputs": []
    },
    {
      "cell_type": "code",
      "metadata": {
        "id": "FoFUpKma1lPM",
        "outputId": "b7dd127d-27fb-4d28-8e11-83b6b61ca2dd",
        "colab": {
          "base_uri": "https://localhost:8080/",
          "height": 34
        }
      },
      "source": [
        "#genral case:\n",
        "text= 'my name is bob'\n",
        "\n",
        "print('bob' in text)"
      ],
      "execution_count": 2,
      "outputs": [
        {
          "output_type": "stream",
          "text": [
            "True\n"
          ],
          "name": "stdout"
        }
      ]
    },
    {
      "cell_type": "code",
      "metadata": {
        "id": "4qqB_fNP1pQ4"
      },
      "source": [
        "#with re module\n",
        "text=\"hello, your agent's num is 444-5544-5050. call his num soon!\"\n",
        "pattern = 'your'"
      ],
      "execution_count": 3,
      "outputs": []
    },
    {
      "cell_type": "code",
      "metadata": {
        "id": "usJBuWaR1w2_",
        "outputId": "e838121b-7ef4-461a-bde1-be0706d6bf6f",
        "colab": {
          "base_uri": "https://localhost:8080/",
          "height": 34
        }
      },
      "source": [
        "k1= re.search(pattern,text)\n",
        "print(k1) #returns span too"
      ],
      "execution_count": 4,
      "outputs": [
        {
          "output_type": "stream",
          "text": [
            "<_sre.SRE_Match object; span=(7, 11), match='your'>\n"
          ],
          "name": "stdout"
        }
      ]
    },
    {
      "cell_type": "code",
      "metadata": {
        "id": "zMycKVmX18hc",
        "outputId": "20479b13-f60f-48f2-bcc8-42e3ede8f095",
        "colab": {
          "base_uri": "https://localhost:8080/",
          "height": 34
        }
      },
      "source": [
        "#case when pattern is not found\n",
        "pattern='cat'\n",
        "k2 = re.search(pattern,text) #returns None\n",
        "print(k2)"
      ],
      "execution_count": 5,
      "outputs": [
        {
          "output_type": "stream",
          "text": [
            "None\n"
          ],
          "name": "stdout"
        }
      ]
    },
    {
      "cell_type": "code",
      "metadata": {
        "id": "Jz06TUcu2C_p",
        "outputId": "6395dd54-311a-41b5-e1c9-07a41464dd9c",
        "colab": {
          "base_uri": "https://localhost:8080/",
          "height": 68
        }
      },
      "source": [
        "print(k1.span())\n",
        "print(k1.start())\n",
        "print(k1.end())"
      ],
      "execution_count": 6,
      "outputs": [
        {
          "output_type": "stream",
          "text": [
            "(7, 11)\n",
            "7\n",
            "11\n"
          ],
          "name": "stdout"
        }
      ]
    },
    {
      "cell_type": "code",
      "metadata": {
        "id": "k-mrIMiu2KBl",
        "outputId": "1c47a51a-34b2-4365-b826-221087ad5fa7",
        "colab": {
          "base_uri": "https://localhost:8080/",
          "height": 34
        }
      },
      "source": [
        "pattern=\"num\"\n",
        "k2= re.search(pattern,text)\n",
        "print(k2)"
      ],
      "execution_count": 8,
      "outputs": [
        {
          "output_type": "stream",
          "text": [
            "<_sre.SRE_Match object; span=(20, 23), match='num'>\n"
          ],
          "name": "stdout"
        }
      ]
    },
    {
      "cell_type": "code",
      "metadata": {
        "id": "ykUBHS6t3-fL",
        "outputId": "752dc82d-92bb-4a80-de45-f67d0250fcc6",
        "colab": {
          "base_uri": "https://localhost:8080/",
          "height": 34
        }
      },
      "source": [
        "pattern = 'num'\n",
        "k2 = re.search(pattern,text)\n",
        "print(k2)\n"
      ],
      "execution_count": 9,
      "outputs": [
        {
          "output_type": "stream",
          "text": [
            "<_sre.SRE_Match object; span=(20, 23), match='num'>\n"
          ],
          "name": "stdout"
        }
      ]
    },
    {
      "cell_type": "code",
      "metadata": {
        "id": "KxJ7mrOG4Jtw",
        "outputId": "d7feca2d-23c4-48af-8142-99a6ad6f16c0",
        "colab": {
          "base_uri": "https://localhost:8080/",
          "height": 34
        }
      },
      "source": [
        "k2 = re.findall(pattern, text)\n",
        "print(k2)"
      ],
      "execution_count": 10,
      "outputs": [
        {
          "output_type": "stream",
          "text": [
            "['num', 'num']\n"
          ],
          "name": "stdout"
        }
      ]
    },
    {
      "cell_type": "code",
      "metadata": {
        "id": "sizUxD7T4NF1",
        "outputId": "b4e1053b-5839-4700-8d82-221035558d52",
        "colab": {
          "base_uri": "https://localhost:8080/",
          "height": 51
        }
      },
      "source": [
        "print(type(k2))\n",
        "print(len(k2))"
      ],
      "execution_count": 11,
      "outputs": [
        {
          "output_type": "stream",
          "text": [
            "<class 'list'>\n",
            "2\n"
          ],
          "name": "stdout"
        }
      ]
    },
    {
      "cell_type": "code",
      "metadata": {
        "id": "q7A_pX_r4RkJ",
        "outputId": "cf56e991-a96c-4037-b699-9ab6cd775c93",
        "colab": {
          "base_uri": "https://localhost:8080/",
          "height": 51
        }
      },
      "source": [
        "#using for loop\n",
        "for i in re.finditer(pattern,text):\n",
        "    print(i)\n"
      ],
      "execution_count": 12,
      "outputs": [
        {
          "output_type": "stream",
          "text": [
            "<_sre.SRE_Match object; span=(20, 23), match='num'>\n",
            "<_sre.SRE_Match object; span=(51, 54), match='num'>\n"
          ],
          "name": "stdout"
        }
      ]
    },
    {
      "cell_type": "code",
      "metadata": {
        "id": "PCwpanjR4VWF",
        "outputId": "74e87255-e760-47d3-99e1-8d0bfb68f656",
        "colab": {
          "base_uri": "https://localhost:8080/",
          "height": 51
        }
      },
      "source": [
        "for i in re.finditer(pattern,text):\n",
        "    print(i.span())"
      ],
      "execution_count": 13,
      "outputs": [
        {
          "output_type": "stream",
          "text": [
            "(20, 23)\n",
            "(51, 54)\n"
          ],
          "name": "stdout"
        }
      ]
    },
    {
      "cell_type": "code",
      "metadata": {
        "id": "1Aii_TL94awk",
        "outputId": "16b6ecc9-a613-4d91-ac25-b55994ace47a",
        "colab": {
          "base_uri": "https://localhost:8080/",
          "height": 51
        }
      },
      "source": [
        "for i in re.finditer(pattern,text): #return pattern that matched\n",
        "    print(i.group())"
      ],
      "execution_count": 14,
      "outputs": [
        {
          "output_type": "stream",
          "text": [
            "num\n",
            "num\n"
          ],
          "name": "stdout"
        }
      ]
    },
    {
      "cell_type": "markdown",
      "metadata": {
        "id": "StLV6SjM41OB"
      },
      "source": [
        "Character identifier"
      ]
    },
    {
      "cell_type": "code",
      "metadata": {
        "id": "bZbeSgOS4fjB",
        "outputId": "26bba8bb-fe5d-46c8-b873-70c0ab84a1e1",
        "colab": {
          "base_uri": "https://localhost:8080/",
          "height": 34
        }
      },
      "source": [
        "text=\"hello, your agent's num is 444-545-5050, call his num soon!\"\n",
        "k3 = re.search(r'\\d\\d\\d-\\d\\d\\d-\\d\\d\\d\\d',text)\n",
        "print(k3)"
      ],
      "execution_count": 15,
      "outputs": [
        {
          "output_type": "stream",
          "text": [
            "<_sre.SRE_Match object; span=(27, 39), match='444-545-5050'>\n"
          ],
          "name": "stdout"
        }
      ]
    },
    {
      "cell_type": "code",
      "metadata": {
        "id": "YqDSfJXs4tXe",
        "outputId": "2c9484c0-a435-4283-edb4-15e13a0c9f9f",
        "colab": {
          "base_uri": "https://localhost:8080/",
          "height": 35
        }
      },
      "source": [
        "k3.group()"
      ],
      "execution_count": 16,
      "outputs": [
        {
          "output_type": "execute_result",
          "data": {
            "application/vnd.google.colaboratory.intrinsic+json": {
              "type": "string"
            },
            "text/plain": [
              "'444-545-5050'"
            ]
          },
          "metadata": {
            "tags": []
          },
          "execution_count": 16
        }
      ]
    },
    {
      "cell_type": "markdown",
      "metadata": {
        "id": "aewyNt_l45Zy"
      },
      "source": [
        "Quantifier"
      ]
    },
    {
      "cell_type": "code",
      "metadata": {
        "id": "VC831Ntm4xDW",
        "outputId": "99905458-f7cc-4eb0-adaf-d277ccf81b29",
        "colab": {
          "base_uri": "https://localhost:8080/",
          "height": 34
        }
      },
      "source": [
        "k4= re.search(r'\\d{3}-\\d{3}-\\d{4}',text)\n",
        "print(k4)"
      ],
      "execution_count": 19,
      "outputs": [
        {
          "output_type": "stream",
          "text": [
            "<_sre.SRE_Match object; span=(27, 39), match='444-545-5050'>\n"
          ],
          "name": "stdout"
        }
      ]
    },
    {
      "cell_type": "code",
      "metadata": {
        "id": "K7RrRBUe5XF1",
        "outputId": "706ad2b3-430a-425d-b6b0-683441072d4b",
        "colab": {
          "base_uri": "https://localhost:8080/",
          "height": 35
        }
      },
      "source": [
        "k4.group()"
      ],
      "execution_count": 18,
      "outputs": [
        {
          "output_type": "execute_result",
          "data": {
            "application/vnd.google.colaboratory.intrinsic+json": {
              "type": "string"
            },
            "text/plain": [
              "'444-545-5050'"
            ]
          },
          "metadata": {
            "tags": []
          },
          "execution_count": 18
        }
      ]
    },
    {
      "cell_type": "markdown",
      "metadata": {
        "id": "hjZill4i5pjU"
      },
      "source": [
        "Compile\n",
        "\n",
        "here we creating 3 groups. we can fetch each group indivisually. And grouping starts at 1 unlike python starts at 0\n",
        "\n"
      ]
    },
    {
      "cell_type": "code",
      "metadata": {
        "id": "oKF47dFx5aU4",
        "outputId": "119887fd-116b-45fd-921e-c2db256230b5",
        "colab": {
          "base_uri": "https://localhost:8080/",
          "height": 34
        }
      },
      "source": [
        "result = re.compile(r'(\\d{3})-(\\d{3})-(\\d{4})')\n",
        "k4 = re.search(result,text)\n",
        "print(k4)"
      ],
      "execution_count": 20,
      "outputs": [
        {
          "output_type": "stream",
          "text": [
            "<_sre.SRE_Match object; span=(27, 39), match='444-545-5050'>\n"
          ],
          "name": "stdout"
        }
      ]
    },
    {
      "cell_type": "code",
      "metadata": {
        "id": "PU4JTdao5yEZ",
        "outputId": "f241968d-1c59-469d-fbe9-017edcc49878",
        "colab": {
          "base_uri": "https://localhost:8080/",
          "height": 68
        }
      },
      "source": [
        "print(k4.group())\n",
        "print(k4.group(1))\n",
        "print(k4.group(2))"
      ],
      "execution_count": 21,
      "outputs": [
        {
          "output_type": "stream",
          "text": [
            "444-545-5050\n",
            "444\n",
            "545\n"
          ],
          "name": "stdout"
        }
      ]
    }
  ]
}