{
  "nbformat": 4,
  "nbformat_minor": 0,
  "metadata": {
    "colab": {
      "name": "Program to find sum of digits until it is one digit number in Python without using loop.ipynb",
      "provenance": [],
      "authorship_tag": "ABX9TyMhSzjYhfDKZNSKxNmphEWF",
      "include_colab_link": true
    },
    "kernelspec": {
      "name": "python3",
      "display_name": "Python 3"
    },
    "language_info": {
      "name": "python"
    }
  },
  "cells": [
    {
      "cell_type": "markdown",
      "metadata": {
        "id": "view-in-github",
        "colab_type": "text"
      },
      "source": [
        "<a href=\"https://colab.research.google.com/github/plthiyagu/AI-Engineering/blob/master/01-Python/Program_to_find_sum_of_digits_until_it_is_one_digit_number_in_Python_without_using_loop.ipynb\" target=\"_parent\"><img src=\"https://colab.research.google.com/assets/colab-badge.svg\" alt=\"Open In Colab\"/></a>"
      ]
    },
    {
      "cell_type": "markdown",
      "metadata": {
        "id": "bfWvoCtziCLQ"
      },
      "source": [
        "given : [126,125,67,28, 658] expected: [9, 8, 13, 10, 19] without using a 2 loops\n",
        "**bold text**"
      ]
    },
    {
      "cell_type": "code",
      "metadata": {
        "id": "Gl0OtPM0h69y"
      },
      "source": [
        "number =[126,125,67,28, 658]"
      ],
      "execution_count": 10,
      "outputs": []
    },
    {
      "cell_type": "code",
      "metadata": {
        "id": "TQtriJkOlHbn"
      },
      "source": [
        "res = list(map(lambda ele: sum(int(sub) for sub in str(ele)), number))"
      ],
      "execution_count": 11,
      "outputs": []
    },
    {
      "cell_type": "code",
      "metadata": {
        "colab": {
          "base_uri": "https://localhost:8080/"
        },
        "id": "tPgpIWauk_I0",
        "outputId": "2bcc148b-1d73-4abc-9e34-6a538630d098"
      },
      "source": [
        "print(res)"
      ],
      "execution_count": 12,
      "outputs": [
        {
          "output_type": "stream",
          "text": [
            "[9, 8, 13, 10, 19]\n"
          ],
          "name": "stdout"
        }
      ]
    },
    {
      "cell_type": "code",
      "metadata": {
        "id": "5yBuQ0JglQMR"
      },
      "source": [
        ""
      ],
      "execution_count": null,
      "outputs": []
    },
    {
      "cell_type": "code",
      "metadata": {
        "id": "xOGhYq2WiKRD"
      },
      "source": [
        ""
      ],
      "execution_count": null,
      "outputs": []
    }
  ]
}