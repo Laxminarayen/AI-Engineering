{
  "nbformat": 4,
  "nbformat_minor": 0,
  "metadata": {
    "colab": {
      "name": "Playing with Json.ipynb",
      "provenance": [],
      "authorship_tag": "ABX9TyOC/AfM7iQoS4wo24BeGDWl",
      "include_colab_link": true
    },
    "kernelspec": {
      "name": "python3",
      "display_name": "Python 3"
    }
  },
  "cells": [
    {
      "cell_type": "markdown",
      "metadata": {
        "id": "view-in-github",
        "colab_type": "text"
      },
      "source": [
        "<a href=\"https://colab.research.google.com/github/plthiyagu/Personnel/blob/master/Playing_with_Json.ipynb\" target=\"_parent\"><img src=\"https://colab.research.google.com/assets/colab-badge.svg\" alt=\"Open In Colab\"/></a>"
      ]
    },
    {
      "cell_type": "code",
      "metadata": {
        "id": "rsLUhK9mLQih",
        "colab_type": "code",
        "colab": {}
      },
      "source": [
        "import pandas as pd\n",
        "import numpy as np\n",
        "import matplotlib.pyplot as plt\n",
        "import seaborn as sns"
      ],
      "execution_count": 12,
      "outputs": []
    },
    {
      "cell_type": "code",
      "metadata": {
        "id": "JNvI8j05LDPN",
        "colab_type": "code",
        "colab": {}
      },
      "source": [
        "import json"
      ],
      "execution_count": 13,
      "outputs": []
    },
    {
      "cell_type": "code",
      "metadata": {
        "id": "7LFJ_nuQLZ7k",
        "colab_type": "code",
        "colab": {}
      },
      "source": [
        "data = '{\"Name\":\"Bob\",\"languages\":[\"English\",\"French\"]}'"
      ],
      "execution_count": 14,
      "outputs": []
    },
    {
      "cell_type": "code",
      "metadata": {
        "id": "7Z6WVOjmLoSn",
        "colab_type": "code",
        "colab": {}
      },
      "source": [
        "person_dict = json.loads(data)"
      ],
      "execution_count": 15,
      "outputs": []
    },
    {
      "cell_type": "code",
      "metadata": {
        "id": "Mn5KVdk3MbO0",
        "colab_type": "code",
        "colab": {
          "base_uri": "https://localhost:8080/",
          "height": 34
        },
        "outputId": "25ce41cb-6866-4040-b70f-0d5df5a7e7b5"
      },
      "source": [
        "print(person_dict)"
      ],
      "execution_count": 16,
      "outputs": [
        {
          "output_type": "stream",
          "text": [
            "{'Name': 'Bob', 'languages': ['English', 'French']}\n"
          ],
          "name": "stdout"
        }
      ]
    },
    {
      "cell_type": "code",
      "metadata": {
        "id": "EMiWDfZIMdN3",
        "colab_type": "code",
        "colab": {}
      },
      "source": [
        "with open('/content/Json Sample.json') as f:\n",
        "  data = json.load(f)"
      ],
      "execution_count": 17,
      "outputs": []
    },
    {
      "cell_type": "code",
      "metadata": {
        "id": "yfRPFCwQL7uX",
        "colab_type": "code",
        "colab": {
          "base_uri": "https://localhost:8080/",
          "height": 34
        },
        "outputId": "4188b6af-663a-415e-dbfb-4546d3d4e950"
      },
      "source": [
        "data"
      ],
      "execution_count": 18,
      "outputs": [
        {
          "output_type": "execute_result",
          "data": {
            "text/plain": [
              "[['Desktop Computer', 700], ['Tablet', 250], ['iPhone', 800], ['Laptop', 1200]]"
            ]
          },
          "metadata": {
            "tags": []
          },
          "execution_count": 18
        }
      ]
    },
    {
      "cell_type": "code",
      "metadata": {
        "id": "CFwXZ0OWaP5e",
        "colab_type": "code",
        "colab": {}
      },
      "source": [
        "import requests\n",
        "import json\n",
        "response = json.loads(requests.get(\"https://jsonplaceholder.typicode.com/todos\").text)"
      ],
      "execution_count": 20,
      "outputs": []
    },
    {
      "cell_type": "markdown",
      "metadata": {
        "id": "RUCmq0lEZUww",
        "colab_type": "text"
      },
      "source": [
        "You can convert a dictionary to JSON string using json.dumps() method."
      ]
    },
    {
      "cell_type": "code",
      "metadata": {
        "id": "X_CGFQV3ZOJL",
        "colab_type": "code",
        "colab": {
          "base_uri": "https://localhost:8080/",
          "height": 35
        },
        "outputId": "9a1d70a1-2d7c-4ff1-8d68-6f0081aebe95"
      },
      "source": [
        "person_dict = {'name': 'Bob','age': 12,'children': None}\n",
        "person_json= json.dumps(person_dict)\n",
        "person_json"
      ],
      "execution_count": 30,
      "outputs": [
        {
          "output_type": "execute_result",
          "data": {
            "application/vnd.google.colaboratory.intrinsic+json": {
              "type": "string"
            },
            "text/plain": [
              "'{\"name\": \"Bob\", \"age\": 12, \"children\": null}'"
            ]
          },
          "metadata": {
            "tags": []
          },
          "execution_count": 30
        }
      ]
    },
    {
      "cell_type": "code",
      "metadata": {
        "id": "db5CBBnMLoO8",
        "colab_type": "code",
        "colab": {}
      },
      "source": [
        "person_dict = {\"name\": \"Bob\",\"languages\": [\"English\", \"Fench\"],\"married\": True,\"age\": 32}\n",
        "\n",
        "with open('person.txt','w') as json_file:\n",
        "  json.dump(person_dict,json_file)\n"
      ],
      "execution_count": 31,
      "outputs": []
    },
    {
      "cell_type": "code",
      "metadata": {
        "id": "agb32eJ0iAgb",
        "colab_type": "code",
        "colab": {}
      },
      "source": [
        ""
      ],
      "execution_count": null,
      "outputs": []
    }
  ]
}