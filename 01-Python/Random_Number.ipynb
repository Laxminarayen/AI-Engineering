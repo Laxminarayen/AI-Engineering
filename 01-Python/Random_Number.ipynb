{
  "nbformat": 4,
  "nbformat_minor": 0,
  "metadata": {
    "colab": {
      "name": "Random Number.ipynb",
      "provenance": [],
      "collapsed_sections": [],
      "authorship_tag": "ABX9TyNaFm+CndVo1/DzqCqkUkpC",
      "include_colab_link": true
    },
    "kernelspec": {
      "name": "python3",
      "display_name": "Python 3"
    }
  },
  "cells": [
    {
      "cell_type": "markdown",
      "metadata": {
        "id": "view-in-github",
        "colab_type": "text"
      },
      "source": [
        "<a href=\"https://colab.research.google.com/github/plthiyagu/AI-Engineering/blob/master/05-Python/Random_Number.ipynb\" target=\"_parent\"><img src=\"https://colab.research.google.com/assets/colab-badge.svg\" alt=\"Open In Colab\"/></a>"
      ]
    },
    {
      "cell_type": "code",
      "metadata": {
        "id": "3FpdB2nuQY0p"
      },
      "source": [
        "from random import seed\r\n",
        "from random import random"
      ],
      "execution_count": 1,
      "outputs": []
    },
    {
      "cell_type": "code",
      "metadata": {
        "colab": {
          "base_uri": "https://localhost:8080/"
        },
        "id": "cPXDoB-4QdjO",
        "outputId": "7821113e-cabf-4ad5-be94-65638414b5c6"
      },
      "source": [
        "seed(7)\r\n",
        "random(),random(),random(),random()"
      ],
      "execution_count": 2,
      "outputs": [
        {
          "output_type": "execute_result",
          "data": {
            "text/plain": [
              "(0.32383276483316237,\n",
              " 0.15084917392450192,\n",
              " 0.6509344730398537,\n",
              " 0.07243628666754276)"
            ]
          },
          "metadata": {
            "tags": []
          },
          "execution_count": 2
        }
      ]
    },
    {
      "cell_type": "code",
      "metadata": {
        "colab": {
          "base_uri": "https://localhost:8080/"
        },
        "id": "VQvmgGJ7QzK2",
        "outputId": "6605bc35-1006-42ba-86dc-695eb127d487"
      },
      "source": [
        "seed(7)\r\n",
        "2+10*random()"
      ],
      "execution_count": 4,
      "outputs": [
        {
          "output_type": "execute_result",
          "data": {
            "text/plain": [
              "5.238327648331624"
            ]
          },
          "metadata": {
            "tags": []
          },
          "execution_count": 4
        }
      ]
    },
    {
      "cell_type": "markdown",
      "metadata": {
        "id": "sHTTAO4XQ_dQ"
      },
      "source": [
        "Python Random Integers\r\n"
      ]
    },
    {
      "cell_type": "code",
      "metadata": {
        "colab": {
          "base_uri": "https://localhost:8080/"
        },
        "id": "IW25sLCsQnxC",
        "outputId": "00389883-9a52-4c62-d94a-c2955db08a0d"
      },
      "source": [
        "from random import randint\r\n",
        "seed(7)\r\n",
        "randint(0,9),randint(0,9),randint(0,9),randint(0,9)"
      ],
      "execution_count": 5,
      "outputs": [
        {
          "output_type": "execute_result",
          "data": {
            "text/plain": [
              "(5, 2, 6, 0)"
            ]
          },
          "metadata": {
            "tags": []
          },
          "execution_count": 5
        }
      ]
    },
    {
      "cell_type": "markdown",
      "metadata": {
        "id": "Xch6rxKJRBy4"
      },
      "source": [
        "Getting Integers Randomly from a Range\r\n"
      ]
    },
    {
      "cell_type": "code",
      "metadata": {
        "colab": {
          "base_uri": "https://localhost:8080/"
        },
        "id": "CiS3SIYhQvDF",
        "outputId": "56a9d2ab-c06b-4a26-d2a2-a9c81d6e3d14"
      },
      "source": [
        "from random import randrange\r\n",
        "randrange(-2,4)"
      ],
      "execution_count": 6,
      "outputs": [
        {
          "output_type": "execute_result",
          "data": {
            "text/plain": [
              "-2"
            ]
          },
          "metadata": {
            "tags": []
          },
          "execution_count": 6
        }
      ]
    },
    {
      "cell_type": "markdown",
      "metadata": {
        "id": "JK-THPjuRLZ4"
      },
      "source": [
        "Random Gaussian Values\r\n"
      ]
    },
    {
      "cell_type": "code",
      "metadata": {
        "colab": {
          "base_uri": "https://localhost:8080/"
        },
        "id": "6sx6MBEKRH4z",
        "outputId": "3fd727d9-f43a-4aa2-d1c7-b3562741af40"
      },
      "source": [
        "from random import gauss\r\n",
        "seed(7)\r\n",
        "gauss(0,1),gauss(0,1),gauss(0,1)"
      ],
      "execution_count": 7,
      "outputs": [
        {
          "output_type": "execute_result",
          "data": {
            "text/plain": [
              "(-0.2558802884476004, 0.511431512516514, -0.2260961647831047)"
            ]
          },
          "metadata": {
            "tags": []
          },
          "execution_count": 7
        }
      ]
    },
    {
      "cell_type": "markdown",
      "metadata": {
        "id": "P836bH4ARYy0"
      },
      "source": [
        "Choosing Randomly From Lists\r\n"
      ]
    },
    {
      "cell_type": "code",
      "metadata": {
        "colab": {
          "base_uri": "https://localhost:8080/"
        },
        "id": "ZAR-rFPZRWcA",
        "outputId": "16877c1a-0881-4752-b35d-e9af36534968"
      },
      "source": [
        "list1=[2,4,3,9,6,2,1,0,7,4,3,5,3,6,8]\r\n",
        "from random import choice\r\n",
        "seed(7)\r\n",
        "choice(list1),choice(list1),choice(list1),choice(list1),choice(list1),choice(list1)"
      ],
      "execution_count": 8,
      "outputs": [
        {
          "output_type": "execute_result",
          "data": {
            "text/plain": [
              "(2, 3, 1, 3, 2, 4)"
            ]
          },
          "metadata": {
            "tags": []
          },
          "execution_count": 8
        }
      ]
    },
    {
      "cell_type": "code",
      "metadata": {
        "colab": {
          "base_uri": "https://localhost:8080/"
        },
        "id": "8gUo4MsQTZmq",
        "outputId": "6a79753f-c84e-488e-d5cb-045ef7a83200"
      },
      "source": [
        "from random import choices\r\n",
        "choices(list1,k=4)"
      ],
      "execution_count": 9,
      "outputs": [
        {
          "output_type": "execute_result",
          "data": {
            "text/plain": [
              "[3, 4, 7, 6]"
            ]
          },
          "metadata": {
            "tags": []
          },
          "execution_count": 9
        }
      ]
    },
    {
      "cell_type": "markdown",
      "metadata": {
        "id": "sm87rhmKTjFk"
      },
      "source": [
        "Randomly Choosing a Subset from a List\r\n"
      ]
    },
    {
      "cell_type": "code",
      "metadata": {
        "colab": {
          "base_uri": "https://localhost:8080/"
        },
        "id": "-DPyikF5Tffe",
        "outputId": "ecb585f7-bca1-47fe-fd1b-5f7735fd9835"
      },
      "source": [
        "list1"
      ],
      "execution_count": 10,
      "outputs": [
        {
          "output_type": "execute_result",
          "data": {
            "text/plain": [
              "[2, 4, 3, 9, 6, 2, 1, 0, 7, 4, 3, 5, 3, 6, 8]"
            ]
          },
          "metadata": {
            "tags": []
          },
          "execution_count": 10
        }
      ]
    },
    {
      "cell_type": "code",
      "metadata": {
        "colab": {
          "base_uri": "https://localhost:8080/"
        },
        "id": "eJw-WWfITo3v",
        "outputId": "61d8f714-ec58-417c-b181-391d79d7adf1"
      },
      "source": [
        "from random import sample\r\n",
        "sample(list1,6)"
      ],
      "execution_count": 11,
      "outputs": [
        {
          "output_type": "execute_result",
          "data": {
            "text/plain": [
              "[9, 2, 4, 1, 5, 3]"
            ]
          },
          "metadata": {
            "tags": []
          },
          "execution_count": 11
        }
      ]
    },
    {
      "cell_type": "markdown",
      "metadata": {
        "id": "Gi1U3znKTxSC"
      },
      "source": [
        "Shuffling a List Randomly\r\n"
      ]
    },
    {
      "cell_type": "code",
      "metadata": {
        "colab": {
          "base_uri": "https://localhost:8080/"
        },
        "id": "8xPcCg6HTs6L",
        "outputId": "f8588c9c-f421-4f08-8f8b-17db444908c0"
      },
      "source": [
        "from random import shuffle\r\n",
        "shuffle(list1)\r\n",
        "list1"
      ],
      "execution_count": 13,
      "outputs": [
        {
          "output_type": "execute_result",
          "data": {
            "text/plain": [
              "[3, 5, 4, 8, 1, 7, 4, 2, 2, 6, 3, 6, 9, 3, 0]"
            ]
          },
          "metadata": {
            "tags": []
          },
          "execution_count": 13
        }
      ]
    },
    {
      "cell_type": "markdown",
      "metadata": {
        "id": "bqq6G0b3T-9L"
      },
      "source": [
        "How to Generate Python Random Number with NumPy?"
      ]
    },
    {
      "cell_type": "code",
      "metadata": {
        "colab": {
          "base_uri": "https://localhost:8080/"
        },
        "id": "qNNd73ZAT70W",
        "outputId": "4c63cb86-01e2-40e7-959d-86dd51a822bc"
      },
      "source": [
        "from numpy.random import seed\r\n",
        "from numpy.random import rand\r\n",
        "seed(7)\r\n",
        "rand(3)"
      ],
      "execution_count": 15,
      "outputs": [
        {
          "output_type": "execute_result",
          "data": {
            "text/plain": [
              "array([0.07630829, 0.77991879, 0.43840923])"
            ]
          },
          "metadata": {
            "tags": []
          },
          "execution_count": 15
        }
      ]
    },
    {
      "cell_type": "code",
      "metadata": {
        "id": "WU6xB3TeUGQN"
      },
      "source": [
        ""
      ],
      "execution_count": null,
      "outputs": []
    }
  ]
}