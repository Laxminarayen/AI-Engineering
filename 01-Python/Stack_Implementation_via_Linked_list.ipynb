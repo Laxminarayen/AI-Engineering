{
  "nbformat": 4,
  "nbformat_minor": 0,
  "metadata": {
    "colab": {
      "name": "Stack Implementation via Linked list.ipynb",
      "provenance": [],
      "collapsed_sections": [],
      "authorship_tag": "ABX9TyNI5qCGjGGr8MhxAH4l2hvx",
      "include_colab_link": true
    },
    "kernelspec": {
      "name": "python3",
      "display_name": "Python 3"
    },
    "language_info": {
      "name": "python"
    }
  },
  "cells": [
    {
      "cell_type": "markdown",
      "metadata": {
        "id": "view-in-github",
        "colab_type": "text"
      },
      "source": [
        "<a href=\"https://colab.research.google.com/github/plthiyagu/AI-Engineering/blob/master/01-Python/Stack_Implementation_via_Linked_list.ipynb\" target=\"_parent\"><img src=\"https://colab.research.google.com/assets/colab-badge.svg\" alt=\"Open In Colab\"/></a>"
      ]
    },
    {
      "cell_type": "code",
      "metadata": {
        "id": "3k6tFjLXSBby"
      },
      "source": [
        "class Node:\n",
        "  def __init__(self,value):\n",
        "    self.value= value\n",
        "    self.next=None"
      ],
      "execution_count": 1,
      "outputs": []
    },
    {
      "cell_type": "code",
      "metadata": {
        "id": "zqcM2Iv3SZce"
      },
      "source": [
        "class Stack:\n",
        "\n",
        "  def __init__(self):\n",
        "    self.head = None\n",
        "    self.tail = None\n",
        "    self.length =0\n",
        "\n",
        "  def isEmpty(self):\n",
        "    return self.length ==0\n",
        "\n",
        "  def push(self,value):\n",
        "    new_node= Node(value)\n",
        "\n",
        "    if self.length ==0:\n",
        "      self.head = new_node\n",
        "      self.tail = new_node\n",
        "      self.length += 1\n",
        "      return\n",
        "    #add node to tail\n",
        "    self.tail.next = new_node\n",
        "    #modify tail to latest node\n",
        "    self.tail = new_node\n",
        "    #increment length\n",
        "    self.length +=1\n",
        "    \n",
        "  def pop(self):\n",
        "    temp_head = self.head\n",
        "    for i in range(self.length -2):\n",
        "      temp_head = temp_head.next\n",
        "\n",
        "    val= temp_head.next.value\n",
        "    self.tail = temp_head\n",
        "    self.tail.next = None\n",
        "    self.length -= 1\n",
        "    return val\n",
        "\n",
        "  def display(self):\n",
        "\n",
        "    temp_head= self.head\n",
        "    while (temp_head):\n",
        "      print(temp_head.value)\n",
        "      temp_head= temp_head.next\n",
        "\n",
        "  def peek(self):\n",
        "    return self.tail.value\n",
        "\n",
        "  def size(self):\n",
        "    '''return size of stack'''\n",
        "    return self.length"
      ],
      "execution_count": 2,
      "outputs": []
    },
    {
      "cell_type": "code",
      "metadata": {
        "id": "Uevz34X_fH4m"
      },
      "source": [
        "s = Stack()"
      ],
      "execution_count": 3,
      "outputs": []
    },
    {
      "cell_type": "code",
      "metadata": {
        "colab": {
          "base_uri": "https://localhost:8080/"
        },
        "id": "2-bUXLMMe0-C",
        "outputId": "f5f5c53c-1964-4b77-a60f-62f5f8696ae8"
      },
      "source": [
        "s.push(1)\n",
        "s.push(2)\n",
        "s.push(111)\n",
        "s.push(4)\n",
        "s.push(5)\n",
        "s.pop()\n",
        "s.push(6)\n",
        "s.pop()\n",
        "s.pop()"
      ],
      "execution_count": 4,
      "outputs": [
        {
          "output_type": "execute_result",
          "data": {
            "text/plain": [
              "4"
            ]
          },
          "metadata": {
            "tags": []
          },
          "execution_count": 4
        }
      ]
    },
    {
      "cell_type": "code",
      "metadata": {
        "colab": {
          "base_uri": "https://localhost:8080/"
        },
        "id": "a-r5IezSfCkN",
        "outputId": "75e98bd9-0335-42ef-b251-699f8053d7c0"
      },
      "source": [
        "s.pop()"
      ],
      "execution_count": 5,
      "outputs": [
        {
          "output_type": "execute_result",
          "data": {
            "text/plain": [
              "111"
            ]
          },
          "metadata": {
            "tags": []
          },
          "execution_count": 5
        }
      ]
    },
    {
      "cell_type": "code",
      "metadata": {
        "colab": {
          "base_uri": "https://localhost:8080/"
        },
        "id": "tSMIVYjzf94d",
        "outputId": "43cc252a-14d4-40ab-b9b1-ddbaa0204a32"
      },
      "source": [
        "s.display()"
      ],
      "execution_count": 6,
      "outputs": [
        {
          "output_type": "stream",
          "text": [
            "1\n",
            "2\n"
          ],
          "name": "stdout"
        }
      ]
    },
    {
      "cell_type": "code",
      "metadata": {
        "id": "3_sN6v0vhRsz"
      },
      "source": [
        ""
      ],
      "execution_count": 6,
      "outputs": []
    }
  ]
}