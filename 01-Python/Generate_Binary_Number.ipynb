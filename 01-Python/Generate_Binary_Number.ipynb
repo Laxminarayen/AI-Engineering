{
  "nbformat": 4,
  "nbformat_minor": 0,
  "metadata": {
    "colab": {
      "name": "Generate Binary Number.ipynb",
      "provenance": [],
      "authorship_tag": "ABX9TyM++NTFbzj/cF5W7KVmhNMq",
      "include_colab_link": true
    },
    "kernelspec": {
      "name": "python3",
      "display_name": "Python 3"
    }
  },
  "cells": [
    {
      "cell_type": "markdown",
      "metadata": {
        "id": "view-in-github",
        "colab_type": "text"
      },
      "source": [
        "<a href=\"https://colab.research.google.com/github/plthiyagu/Personnel/blob/master/Generate_Binary_Number.ipynb\" target=\"_parent\"><img src=\"https://colab.research.google.com/assets/colab-badge.svg\" alt=\"Open In Colab\"/></a>"
      ]
    },
    {
      "cell_type": "code",
      "metadata": {
        "id": "MQN4XGvDceYz",
        "colab_type": "code",
        "colab": {}
      },
      "source": [
        "def bins(n,bin=\"\"):\n",
        "  if n==0:\n",
        "    return [bin]\n",
        "  else:\n",
        "    return bins(n-1,bin+\"0\") + bins(n-1,bin + \"1\")"
      ],
      "execution_count": 0,
      "outputs": []
    },
    {
      "cell_type": "code",
      "metadata": {
        "id": "bJVDMPX4cuHS",
        "colab_type": "code",
        "colab": {
          "base_uri": "https://localhost:8080/",
          "height": 561
        },
        "outputId": "b5a1fb36-30fc-4207-9b4a-a98b03cae220"
      },
      "source": [
        "bins(5)"
      ],
      "execution_count": 5,
      "outputs": [
        {
          "output_type": "execute_result",
          "data": {
            "text/plain": [
              "['00000',\n",
              " '00001',\n",
              " '00010',\n",
              " '00011',\n",
              " '00100',\n",
              " '00101',\n",
              " '00110',\n",
              " '00111',\n",
              " '01000',\n",
              " '01001',\n",
              " '01010',\n",
              " '01011',\n",
              " '01100',\n",
              " '01101',\n",
              " '01110',\n",
              " '01111',\n",
              " '10000',\n",
              " '10001',\n",
              " '10010',\n",
              " '10011',\n",
              " '10100',\n",
              " '10101',\n",
              " '10110',\n",
              " '10111',\n",
              " '11000',\n",
              " '11001',\n",
              " '11010',\n",
              " '11011',\n",
              " '11100',\n",
              " '11101',\n",
              " '11110',\n",
              " '11111']"
            ]
          },
          "metadata": {
            "tags": []
          },
          "execution_count": 5
        }
      ]
    },
    {
      "cell_type": "code",
      "metadata": {
        "id": "KsN47HBjcy3A",
        "colab_type": "code",
        "colab": {}
      },
      "source": [
        ""
      ],
      "execution_count": 0,
      "outputs": []
    }
  ]
}