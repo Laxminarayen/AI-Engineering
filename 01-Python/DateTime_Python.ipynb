{
  "nbformat": 4,
  "nbformat_minor": 0,
  "metadata": {
    "colab": {
      "name": "DateTime  Python.ipynb",
      "provenance": [],
      "authorship_tag": "ABX9TyM8jqQQgVffgzLZGAYJcG2d",
      "include_colab_link": true
    },
    "kernelspec": {
      "name": "python3",
      "display_name": "Python 3"
    },
    "language_info": {
      "name": "python"
    }
  },
  "cells": [
    {
      "cell_type": "markdown",
      "metadata": {
        "id": "view-in-github",
        "colab_type": "text"
      },
      "source": [
        "<a href=\"https://colab.research.google.com/github/plthiyagu/AI-Engineering/blob/master/01-Python/DateTime_Python.ipynb\" target=\"_parent\"><img src=\"https://colab.research.google.com/assets/colab-badge.svg\" alt=\"Open In Colab\"/></a>"
      ]
    },
    {
      "cell_type": "markdown",
      "metadata": {
        "id": "8DAagRV6yhNy"
      },
      "source": [
        "https://www.analyticsvidhya.com/blog/2021/05/making-programming-with-date-and-time-less-painless/?utm_source=feedburner&utm_medium=email&utm_campaign=Feed%3A+AnalyticsVidhya+%28Analytics+Vidhya%29\n",
        "\n",
        "\n",
        "https://www.analyticsvidhya.com/blog/2020/05/datetime-variables-python-pandas/#:~:text=datetime%20is%20a%20class%20and,year%20and%20ending%20in%20microseconds."
      ]
    },
    {
      "cell_type": "code",
      "metadata": {
        "id": "7guuEvTL-W5z"
      },
      "source": [
        "from datetime import datetime"
      ],
      "execution_count": 3,
      "outputs": []
    },
    {
      "cell_type": "code",
      "metadata": {
        "colab": {
          "base_uri": "https://localhost:8080/"
        },
        "id": "_REIfuI_-aDB",
        "outputId": "c460d962-c5dd-46c9-aa74-1ac107a7369b"
      },
      "source": [
        "current_time = datetime.now()\n",
        "a = datetime.timestamp(current_time)\n",
        "print(a)"
      ],
      "execution_count": 4,
      "outputs": [
        {
          "output_type": "stream",
          "text": [
            "1620776233.99857\n"
          ],
          "name": "stdout"
        }
      ]
    },
    {
      "cell_type": "code",
      "metadata": {
        "colab": {
          "base_uri": "https://localhost:8080/"
        },
        "id": "smh_cUH7-eAI",
        "outputId": "2b594774-82ef-4229-fbbc-11f818603535"
      },
      "source": [
        "a = datetime(2021, 5, 9, 13, 13, 6)\n",
        "print(a)"
      ],
      "execution_count": 5,
      "outputs": [
        {
          "output_type": "stream",
          "text": [
            "2021-05-09 13:13:06\n"
          ],
          "name": "stdout"
        }
      ]
    },
    {
      "cell_type": "code",
      "metadata": {
        "colab": {
          "base_uri": "https://localhost:8080/"
        },
        "id": "jBomNYDR-vV7",
        "outputId": "4de0a10e-ae8b-4fb5-99a1-5872e4d40190"
      },
      "source": [
        "today = datetime.now()\n",
        "print(today)"
      ],
      "execution_count": 6,
      "outputs": [
        {
          "output_type": "stream",
          "text": [
            "2021-05-11 23:37:14.031055\n"
          ],
          "name": "stdout"
        }
      ]
    },
    {
      "cell_type": "code",
      "metadata": {
        "colab": {
          "base_uri": "https://localhost:8080/"
        },
        "id": "z1TnmTH5_Cpn",
        "outputId": "c87caf6f-7b76-44bb-a89b-805fa46333d5"
      },
      "source": [
        "print(type(today))"
      ],
      "execution_count": 7,
      "outputs": [
        {
          "output_type": "stream",
          "text": [
            "<class 'datetime.datetime'>\n"
          ],
          "name": "stdout"
        }
      ]
    },
    {
      "cell_type": "code",
      "metadata": {
        "colab": {
          "base_uri": "https://localhost:8080/"
        },
        "id": "uTUKDbTZ_FF7",
        "outputId": "16af7432-90b0-42a5-b1d4-61df67321d6c"
      },
      "source": [
        "dt_nw = datetime.now()\n",
        "# to get hour from datetime\n",
        "print('Hour: ', dt_nw.hour)\n",
        "# to get minute from datetime\n",
        "print('Minute: ', dt_nw.minute)\n"
      ],
      "execution_count": 8,
      "outputs": [
        {
          "output_type": "stream",
          "text": [
            "Hour:  23\n",
            "Minute:  37\n"
          ],
          "name": "stdout"
        }
      ]
    },
    {
      "cell_type": "code",
      "metadata": {
        "colab": {
          "base_uri": "https://localhost:8080/"
        },
        "id": "EHSAUYyN_LOx",
        "outputId": "2a13dd9c-3468-4563-ab1f-a1b22150d78b"
      },
      "source": [
        "import calendar\n",
        "my_date= datetime.now()\n",
        "# To get month from date\n",
        "print('Month: ', my_date.month)\n",
        "# To get month from year\n",
        "print('Year: ', my_date.year)\n",
        "# To get day of the month\n",
        "print('Day of Month:', my_date.day)\n",
        "# to get name of day(in number) from date\n",
        "print('Day of Week (number): ', my_date.weekday())\n",
        "# to get name of day from date\n",
        "print('Day of Week (name): ', calendar.day_name[my_date.weekday()])"
      ],
      "execution_count": 9,
      "outputs": [
        {
          "output_type": "stream",
          "text": [
            "Month:  5\n",
            "Year:  2021\n",
            "Day of Month: 11\n",
            "Day of Week (number):  1\n",
            "Day of Week (name):  Tuesday\n"
          ],
          "name": "stdout"
        }
      ]
    },
    {
      "cell_type": "code",
      "metadata": {
        "id": "oPxXKw5B_Vqr"
      },
      "source": [
        "from pytz import timezone"
      ],
      "execution_count": 10,
      "outputs": []
    },
    {
      "cell_type": "code",
      "metadata": {
        "colab": {
          "base_uri": "https://localhost:8080/"
        },
        "id": "MRe0Zdh5_gbJ",
        "outputId": "0662da45-e3d7-4f22-8c4b-1b50578e1c64"
      },
      "source": [
        "# Create timezone UTC\n",
        "utc = timezone('UTC')\n",
        "# Localize date & time\n",
        "loc = utc.localize(datetime(2020, 5, 10, 17, 41, 0))\n",
        "print(loc)\n",
        "# Convert localized date & time into Asia/Dhaka timezone\n",
        "dhaka = timezone(\"Asia/Dhaka\")\n",
        "print(loc.astimezone(dhaka))\n",
        "# Convert localized date & time into Europe/Berlin timezone\n",
        "berlin = timezone('Europe/Berlin')\n",
        "print(loc.astimezone(berlin))"
      ],
      "execution_count": 11,
      "outputs": [
        {
          "output_type": "stream",
          "text": [
            "2020-05-10 17:41:00+00:00\n",
            "2020-05-10 23:41:00+06:00\n",
            "2020-05-10 19:41:00+02:00\n"
          ],
          "name": "stdout"
        }
      ]
    },
    {
      "cell_type": "code",
      "metadata": {
        "colab": {
          "base_uri": "https://localhost:8080/"
        },
        "id": "Y0-2_QTn_mtt",
        "outputId": "2ee49e1b-1e97-4e14-db93-6b411ea9c79f"
      },
      "source": [
        "from datetime import timedelta\n",
        "# get current time\n",
        "now = datetime.now()\n",
        "print (\"Today's date & time: \", str(now))\n",
        "#add 365 days to current date\n",
        "future_date_after_one_year = now + timedelta(days = 365)\n",
        "print('Date & time after one year: ', future_date_after_one_year)\n",
        "#subtract 7 days from current date\n",
        "seven_days_ago = now - timedelta(days = 7)\n",
        "print('Date & time seven days ago: ', seven_days_ago)"
      ],
      "execution_count": 12,
      "outputs": [
        {
          "output_type": "stream",
          "text": [
            "Today's date & time:  2021-05-11 23:37:14.209133\n",
            "Date & time after one year:  2022-05-11 23:37:14.209133\n",
            "Date & time seven days ago:  2021-05-04 23:37:14.209133\n"
          ],
          "name": "stdout"
        }
      ]
    },
    {
      "cell_type": "code",
      "metadata": {
        "colab": {
          "base_uri": "https://localhost:8080/"
        },
        "id": "hRR0pjyO_zaG",
        "outputId": "9a3571aa-9a9d-4fa6-b63b-751d2798726f"
      },
      "source": [
        "date_str = \"10 May, 2021\"\n",
        "# format date\n",
        "date_obj = datetime.strptime(date_str, \"%d %B, %Y\")\n",
        "print(\"Today's date is: \", date_obj)"
      ],
      "execution_count": 13,
      "outputs": [
        {
          "output_type": "stream",
          "text": [
            "Today's date is:  2021-05-10 00:00:00\n"
          ],
          "name": "stdout"
        }
      ]
    },
    {
      "cell_type": "code",
      "metadata": {
        "colab": {
          "base_uri": "https://localhost:8080/"
        },
        "id": "ybo4lty5AFXs",
        "outputId": "8c0cfa90-feec-4169-8653-c7f75fb66e34"
      },
      "source": [
        "# current date and time\n",
        "now = datetime.now()\n",
        "# format time in HH:MM:SS\n",
        "time = now.strftime(\"%H:%M:%S\")\n",
        "print(\"Time:\", time)\n",
        "# format date\n",
        "date_time = now.strftime(\"%m/%d/%Y, %H:%M:%S\")\n",
        "print(\"Date and Time:\",date_time)"
      ],
      "execution_count": 14,
      "outputs": [
        {
          "output_type": "stream",
          "text": [
            "Time: 23:37:14\n",
            "Date and Time: 05/11/2021, 23:37:14\n"
          ],
          "name": "stdout"
        }
      ]
    },
    {
      "cell_type": "code",
      "metadata": {
        "colab": {
          "base_uri": "https://localhost:8080/"
        },
        "id": "HVX1OmKNALyY",
        "outputId": "8a65f233-1497-47fc-a9d0-e81e31e3a514"
      },
      "source": [
        "# get current date\n",
        "now = datetime.now()\n",
        "# convert current date into timestamp\n",
        "timestamp = datetime.timestamp(now)\n",
        "print(\"Date and Time :\", now)\n",
        "print(\"Timestamp:\", timestamp)"
      ],
      "execution_count": 15,
      "outputs": [
        {
          "output_type": "stream",
          "text": [
            "Date and Time : 2021-05-11 23:37:14.256672\n",
            "Timestamp: 1620776234.256672\n"
          ],
          "name": "stdout"
        }
      ]
    },
    {
      "cell_type": "code",
      "metadata": {
        "colab": {
          "base_uri": "https://localhost:8080/"
        },
        "id": "QlPPbkpCASRF",
        "outputId": "8ec73d7b-061a-4371-9216-4130214ed7c9"
      },
      "source": [
        "timestamp = 1620656274.739358\n",
        "#convert timestamp to datetime object\n",
        "date_obj = datetime.fromtimestamp(timestamp)\n",
        "print(\"Today's date & time:\", date_obj)"
      ],
      "execution_count": 16,
      "outputs": [
        {
          "output_type": "stream",
          "text": [
            "Today's date & time: 2021-05-10 14:17:54.739358\n"
          ],
          "name": "stdout"
        }
      ]
    },
    {
      "cell_type": "code",
      "metadata": {
        "colab": {
          "base_uri": "https://localhost:8080/"
        },
        "id": "pEo-rwVDAaCe",
        "outputId": "efb6e0ec-aeb8-4945-9c98-773ce1f7e3cc"
      },
      "source": [
        "import pandas as pd\n",
        "# create date object using to_datetime() function\n",
        "date = pd.to_datetime(\"10th of May, 2021\")\n",
        "print(date)"
      ],
      "execution_count": 17,
      "outputs": [
        {
          "output_type": "stream",
          "text": [
            "2021-05-10 00:00:00\n"
          ],
          "name": "stdout"
        }
      ]
    },
    {
      "cell_type": "code",
      "metadata": {
        "colab": {
          "base_uri": "https://localhost:8080/"
        },
        "id": "k2dBYZwiAexK",
        "outputId": "87e7f08e-b16b-4759-de3d-50c13536aa4d"
      },
      "source": [
        "from datetime import date\n",
        "d1 = date(2020,4,23)\n",
        "print(d1)\n",
        "print(type(d1))"
      ],
      "execution_count": 18,
      "outputs": [
        {
          "output_type": "stream",
          "text": [
            "2020-04-23\n",
            "<class 'datetime.date'>\n"
          ],
          "name": "stdout"
        }
      ]
    },
    {
      "cell_type": "code",
      "metadata": {
        "colab": {
          "base_uri": "https://localhost:8080/"
        },
        "id": "LbSUvDELA5IC",
        "outputId": "7aa0677e-d5c0-4fc4-a158-9e203a41980e"
      },
      "source": [
        "# present day date\n",
        "d1 = date.today()\n",
        "print(d1)\n",
        "# day\n",
        "print('Day :',d1.day)\n",
        "# month\n",
        "print('Month :',d1.month)\n",
        "# year\n",
        "print('Year :',d1.year)"
      ],
      "execution_count": 19,
      "outputs": [
        {
          "output_type": "stream",
          "text": [
            "2021-05-11\n",
            "Day : 11\n",
            "Month : 5\n",
            "Year : 2021\n"
          ],
          "name": "stdout"
        }
      ]
    },
    {
      "cell_type": "code",
      "metadata": {
        "colab": {
          "base_uri": "https://localhost:8080/"
        },
        "id": "gEbkKHEPA_C0",
        "outputId": "3f7c0af7-66ab-4099-f6a7-a733252ae4f5"
      },
      "source": [
        "from datetime import time\n",
        "\n",
        "t1 = time(13,20,13,40)\n",
        "print(t1)\n",
        "print(type(t1))"
      ],
      "execution_count": 20,
      "outputs": [
        {
          "output_type": "stream",
          "text": [
            "13:20:13.000040\n",
            "<class 'datetime.time'>\n"
          ],
          "name": "stdout"
        }
      ]
    },
    {
      "cell_type": "code",
      "metadata": {
        "colab": {
          "base_uri": "https://localhost:8080/"
        },
        "id": "E9SozcJ2BNeo",
        "outputId": "20bd1191-eb97-450b-a630-025638dfa1e5"
      },
      "source": [
        "# hour\n",
        "print('Hour :',t1.hour)\n",
        "# minute\n",
        "print('Minute :',t1.minute)\n",
        "# second\n",
        "print('Second :',t1.second)\n",
        "# microsecond\n",
        "print('Microsecond :',t1.microsecond)"
      ],
      "execution_count": 21,
      "outputs": [
        {
          "output_type": "stream",
          "text": [
            "Hour : 13\n",
            "Minute : 20\n",
            "Second : 13\n",
            "Microsecond : 40\n"
          ],
          "name": "stdout"
        }
      ]
    },
    {
      "cell_type": "code",
      "metadata": {
        "colab": {
          "base_uri": "https://localhost:8080/"
        },
        "id": "xuIotFvpBTUD",
        "outputId": "8f6aeffb-129a-4378-e82c-f2238021f8a1"
      },
      "source": [
        "from datetime import datetime\n",
        "d1 = datetime(2020,4,23,11,20,30,40)\n",
        "print(d1)\n",
        "print(type(d1))"
      ],
      "execution_count": 22,
      "outputs": [
        {
          "output_type": "stream",
          "text": [
            "2020-04-23 11:20:30.000040\n",
            "<class 'datetime.datetime'>\n"
          ],
          "name": "stdout"
        }
      ]
    },
    {
      "cell_type": "code",
      "metadata": {
        "colab": {
          "base_uri": "https://localhost:8080/"
        },
        "id": "FTHMAsX_BazP",
        "outputId": "209805f0-2b00-4dec-d523-4a882df4c3d4"
      },
      "source": [
        "# local date-time\n",
        "d1 = datetime.now()\n",
        "d1"
      ],
      "execution_count": 23,
      "outputs": [
        {
          "output_type": "execute_result",
          "data": {
            "text/plain": [
              "datetime.datetime(2021, 5, 11, 23, 37, 14, 387527)"
            ]
          },
          "metadata": {
            "tags": []
          },
          "execution_count": 23
        }
      ]
    },
    {
      "cell_type": "code",
      "metadata": {
        "colab": {
          "base_uri": "https://localhost:8080/"
        },
        "id": "lHIk8gMhBebJ",
        "outputId": "d47a91f1-120a-478a-c539-4c2273b5c9a8"
      },
      "source": [
        "print('Datetime :',d1)\n",
        "# date\n",
        "print('Date :',d1.date())\n",
        "# time\n",
        "print('Time :',d1.time())\n",
        "# new datetime\n",
        "print('New datetime :',d1.replace(day=24, hour=14))"
      ],
      "execution_count": 24,
      "outputs": [
        {
          "output_type": "stream",
          "text": [
            "Datetime : 2021-05-11 23:37:14.387527\n",
            "Date : 2021-05-11\n",
            "Time : 23:37:14.387527\n",
            "New datetime : 2021-05-24 14:37:14.387527\n"
          ],
          "name": "stdout"
        }
      ]
    },
    {
      "cell_type": "code",
      "metadata": {
        "colab": {
          "base_uri": "https://localhost:8080/"
        },
        "id": "qfv8CY6gDLqZ",
        "outputId": "0abc78bd-08d3-497e-80a1-47d5212adc31"
      },
      "source": [
        "d1 = datetime.now()\n",
        "# week starts from 0\n",
        "print(d1.weekday()) # output 3 for Thurday\n",
        "# week starts with 1\n",
        "print(d1.isoweekday()) # output 4 in ISO format"
      ],
      "execution_count": 25,
      "outputs": [
        {
          "output_type": "stream",
          "text": [
            "1\n",
            "2\n"
          ],
          "name": "stdout"
        }
      ]
    },
    {
      "cell_type": "code",
      "metadata": {
        "colab": {
          "base_uri": "https://localhost:8080/"
        },
        "id": "JYytQFZyEG5t",
        "outputId": "5231d624-53b8-4fc6-a227-65e27a9d3809"
      },
      "source": [
        "d1 = datetime.now()\n",
        "# retuns year, week, month\n",
        "print(d1.isocalendar())\n",
        "print('Week :',d1.isocalendar()[1])"
      ],
      "execution_count": 26,
      "outputs": [
        {
          "output_type": "stream",
          "text": [
            "(2021, 19, 2)\n",
            "Week : 19\n"
          ],
          "name": "stdout"
        }
      ]
    },
    {
      "cell_type": "code",
      "metadata": {
        "colab": {
          "base_uri": "https://localhost:8080/"
        },
        "id": "bD0H34B6EMMq",
        "outputId": "1e795822-6059-4d0c-9198-010118df4f6e"
      },
      "source": [
        "import calendar\n",
        "d1 = datetime.now()\n",
        "# leap year or not\n",
        "calendar.isleap(d1.year) # Output True"
      ],
      "execution_count": 27,
      "outputs": [
        {
          "output_type": "execute_result",
          "data": {
            "text/plain": [
              "False"
            ]
          },
          "metadata": {
            "tags": []
          },
          "execution_count": 27
        }
      ]
    },
    {
      "cell_type": "code",
      "metadata": {
        "colab": {
          "base_uri": "https://localhost:8080/"
        },
        "id": "OlCTL7K_EQLM",
        "outputId": "ebc951c7-aa47-41fb-ea08-3f5288ff60ae"
      },
      "source": [
        "# Its was May when I wrote this\n",
        "print(calendar.month(2021,5))"
      ],
      "execution_count": 28,
      "outputs": [
        {
          "output_type": "stream",
          "text": [
            "      May 2021\n",
            "Mo Tu We Th Fr Sa Su\n",
            "                1  2\n",
            " 3  4  5  6  7  8  9\n",
            "10 11 12 13 14 15 16\n",
            "17 18 19 20 21 22 23\n",
            "24 25 26 27 28 29 30\n",
            "31\n",
            "\n"
          ],
          "name": "stdout"
        }
      ]
    },
    {
      "cell_type": "code",
      "metadata": {
        "colab": {
          "base_uri": "https://localhost:8080/"
        },
        "id": "0pfGowNtEYaB",
        "outputId": "5f4c9059-96a2-4700-e088-d1f5f0c28e8d"
      },
      "source": [
        "print(calendar.calendar(2021))"
      ],
      "execution_count": 29,
      "outputs": [
        {
          "output_type": "stream",
          "text": [
            "                                  2021\n",
            "\n",
            "      January                   February                   March\n",
            "Mo Tu We Th Fr Sa Su      Mo Tu We Th Fr Sa Su      Mo Tu We Th Fr Sa Su\n",
            "             1  2  3       1  2  3  4  5  6  7       1  2  3  4  5  6  7\n",
            " 4  5  6  7  8  9 10       8  9 10 11 12 13 14       8  9 10 11 12 13 14\n",
            "11 12 13 14 15 16 17      15 16 17 18 19 20 21      15 16 17 18 19 20 21\n",
            "18 19 20 21 22 23 24      22 23 24 25 26 27 28      22 23 24 25 26 27 28\n",
            "25 26 27 28 29 30 31                                29 30 31\n",
            "\n",
            "       April                      May                       June\n",
            "Mo Tu We Th Fr Sa Su      Mo Tu We Th Fr Sa Su      Mo Tu We Th Fr Sa Su\n",
            "          1  2  3  4                      1  2          1  2  3  4  5  6\n",
            " 5  6  7  8  9 10 11       3  4  5  6  7  8  9       7  8  9 10 11 12 13\n",
            "12 13 14 15 16 17 18      10 11 12 13 14 15 16      14 15 16 17 18 19 20\n",
            "19 20 21 22 23 24 25      17 18 19 20 21 22 23      21 22 23 24 25 26 27\n",
            "26 27 28 29 30            24 25 26 27 28 29 30      28 29 30\n",
            "                          31\n",
            "\n",
            "        July                     August                  September\n",
            "Mo Tu We Th Fr Sa Su      Mo Tu We Th Fr Sa Su      Mo Tu We Th Fr Sa Su\n",
            "          1  2  3  4                         1             1  2  3  4  5\n",
            " 5  6  7  8  9 10 11       2  3  4  5  6  7  8       6  7  8  9 10 11 12\n",
            "12 13 14 15 16 17 18       9 10 11 12 13 14 15      13 14 15 16 17 18 19\n",
            "19 20 21 22 23 24 25      16 17 18 19 20 21 22      20 21 22 23 24 25 26\n",
            "26 27 28 29 30 31         23 24 25 26 27 28 29      27 28 29 30\n",
            "                          30 31\n",
            "\n",
            "      October                   November                  December\n",
            "Mo Tu We Th Fr Sa Su      Mo Tu We Th Fr Sa Su      Mo Tu We Th Fr Sa Su\n",
            "             1  2  3       1  2  3  4  5  6  7             1  2  3  4  5\n",
            " 4  5  6  7  8  9 10       8  9 10 11 12 13 14       6  7  8  9 10 11 12\n",
            "11 12 13 14 15 16 17      15 16 17 18 19 20 21      13 14 15 16 17 18 19\n",
            "18 19 20 21 22 23 24      22 23 24 25 26 27 28      20 21 22 23 24 25 26\n",
            "25 26 27 28 29 30 31      29 30                     27 28 29 30 31\n",
            "\n"
          ],
          "name": "stdout"
        }
      ]
    },
    {
      "cell_type": "code",
      "metadata": {
        "colab": {
          "base_uri": "https://localhost:8080/"
        },
        "id": "k5tfZnVAEgMW",
        "outputId": "8a9b21d4-1c03-4432-c237-3f869fd439ca"
      },
      "source": [
        "# ISO format\n",
        "d1_datetime = date.fromisoformat('2020-04-23')\n",
        "print(d1_datetime)\n",
        "print(type(d1_datetime))\n",
        "d1_ISO = date(2020,4,23).isoformat()\n",
        "print(d1_ISO)\n",
        "print(type(d1_ISO))"
      ],
      "execution_count": 30,
      "outputs": [
        {
          "output_type": "stream",
          "text": [
            "2020-04-23\n",
            "<class 'datetime.date'>\n",
            "2020-04-23\n",
            "<class 'str'>\n"
          ],
          "name": "stdout"
        }
      ]
    },
    {
      "cell_type": "code",
      "metadata": {
        "colab": {
          "base_uri": "https://localhost:8080/"
        },
        "id": "G9aCdIjjEmD7",
        "outputId": "efe470ae-b3ce-46fe-a7b4-81f393b67dae"
      },
      "source": [
        "# date in string format\n",
        "d1 = datetime.now()\n",
        "# string format for date\n",
        "print(d1.ctime())\n",
        "# slicing to extract date\n",
        "print(d1.ctime()[:10])"
      ],
      "execution_count": 31,
      "outputs": [
        {
          "output_type": "stream",
          "text": [
            "Tue May 11 23:37:14 2021\n",
            "Tue May 11\n"
          ],
          "name": "stdout"
        }
      ]
    },
    {
      "cell_type": "code",
      "metadata": {
        "colab": {
          "base_uri": "https://localhost:8080/",
          "height": 35
        },
        "id": "Xi__MKMSErKo",
        "outputId": "a1c528f8-c566-497d-ab34-1ffb888fdfed"
      },
      "source": [
        "date(2020,4,23).__format__('%Y/%m/%d')"
      ],
      "execution_count": 32,
      "outputs": [
        {
          "output_type": "execute_result",
          "data": {
            "application/vnd.google.colaboratory.intrinsic+json": {
              "type": "string"
            },
            "text/plain": [
              "'2020/04/23'"
            ]
          },
          "metadata": {
            "tags": []
          },
          "execution_count": 32
        }
      ]
    },
    {
      "cell_type": "code",
      "metadata": {
        "colab": {
          "base_uri": "https://localhost:8080/"
        },
        "id": "o-q_q8EcEvXe",
        "outputId": "1aaa0714-ffa3-4df4-9828-6a8e2b796f87"
      },
      "source": [
        "# strptime\n",
        "date = '22 April, 2020 13:20:13'\n",
        "d1 = datetime.strptime(date,'%d %B, %Y %H:%M:%S')\n",
        "print(d1)\n",
        "print(type(d1))"
      ],
      "execution_count": 33,
      "outputs": [
        {
          "output_type": "stream",
          "text": [
            "2020-04-22 13:20:13\n",
            "<class 'datetime.datetime'>\n"
          ],
          "name": "stdout"
        }
      ]
    },
    {
      "cell_type": "code",
      "metadata": {
        "colab": {
          "base_uri": "https://localhost:8080/"
        },
        "id": "vB_WQZUCE16M",
        "outputId": "196cc7ac-7cc1-4c56-ba25-ef34ca11ac88"
      },
      "source": [
        "# strftime\n",
        "d1 = datetime.now()\n",
        "print('Datetime object :',d1)\n",
        "new_date = d1.strftime('%d/%m/%Y %H:%M')\n",
        "print('Formatted date :',new_date)\n",
        "print(type(new_date))"
      ],
      "execution_count": 34,
      "outputs": [
        {
          "output_type": "stream",
          "text": [
            "Datetime object : 2021-05-11 23:37:14.555199\n",
            "Formatted date : 11/05/2021 23:37\n",
            "<class 'str'>\n"
          ],
          "name": "stdout"
        }
      ]
    },
    {
      "cell_type": "code",
      "metadata": {
        "colab": {
          "base_uri": "https://localhost:8080/"
        },
        "id": "ZKLCmFlUE7Kj",
        "outputId": "b538c8e9-b1e7-481b-ad61-ca34e81f57f4"
      },
      "source": [
        "d1 = datetime.now()\n",
        "print('Weekday :',d1.strftime('%A'))\n",
        "print('Month :',d1.strftime('%B'))\n",
        "print('Week number :',d1.strftime('%W'))\n",
        "print(\"Locale's date and time representation :\",d1.strftime('%c'))"
      ],
      "execution_count": 35,
      "outputs": [
        {
          "output_type": "stream",
          "text": [
            "Weekday : Tuesday\n",
            "Month : May\n",
            "Week number : 19\n",
            "Locale's date and time representation : Tue May 11 23:37:14 2021\n"
          ],
          "name": "stdout"
        }
      ]
    },
    {
      "cell_type": "code",
      "metadata": {
        "colab": {
          "base_uri": "https://localhost:8080/"
        },
        "id": "zQe89OiOE_iT",
        "outputId": "4135df2e-a0b5-4959-eee6-848ce35c36d9"
      },
      "source": [
        "# timedelta : duration between dates\n",
        "d1 = datetime(2020,4,23,11,13,10)\n",
        "d2 = datetime(2021,4,23,12,13,10)\n",
        "duration = d2-d1\n",
        "print(type(duration))"
      ],
      "execution_count": 36,
      "outputs": [
        {
          "output_type": "stream",
          "text": [
            "<class 'datetime.timedelta'>\n"
          ],
          "name": "stdout"
        }
      ]
    },
    {
      "cell_type": "code",
      "metadata": {
        "colab": {
          "base_uri": "https://localhost:8080/"
        },
        "id": "EDcTJqToFE7y",
        "outputId": "ba0f583b-39d8-40bc-f68d-86030a506c31"
      },
      "source": [
        "print(duration.days) # 365\n",
        "print(duration.seconds) # 3600"
      ],
      "execution_count": 37,
      "outputs": [
        {
          "output_type": "stream",
          "text": [
            "365\n",
            "3600\n"
          ],
          "name": "stdout"
        }
      ]
    },
    {
      "cell_type": "code",
      "metadata": {
        "colab": {
          "base_uri": "https://localhost:8080/"
        },
        "id": "SklAba5LFI5p",
        "outputId": "17367382-7d8c-41d6-d900-7c383f4e3b75"
      },
      "source": [
        "from datetime import timedelta\n",
        "# duration in hours\n",
        "print('Duration in hours :',duration/timedelta(hours=1))\n",
        "# duration in minutes\n",
        "print('Duration in minutes :',duration/timedelta(minutes=1))\n",
        "# duration in seconds\n",
        "print('Duration in seconds :',duration/timedelta(seconds=1))"
      ],
      "execution_count": 38,
      "outputs": [
        {
          "output_type": "stream",
          "text": [
            "Duration in hours : 8761.0\n",
            "Duration in minutes : 525660.0\n",
            "Duration in seconds : 31539600.0\n"
          ],
          "name": "stdout"
        }
      ]
    },
    {
      "cell_type": "code",
      "metadata": {
        "colab": {
          "base_uri": "https://localhost:8080/",
          "height": 180
        },
        "id": "JH6_TenmFNNv",
        "outputId": "6a523a58-9340-4948-94de-fac9da831f16"
      },
      "source": [
        "d1 = datetime.now()\n",
        "d1+5"
      ],
      "execution_count": 39,
      "outputs": [
        {
          "output_type": "error",
          "ename": "TypeError",
          "evalue": "ignored",
          "traceback": [
            "\u001b[0;31m---------------------------------------------------------------------------\u001b[0m",
            "\u001b[0;31mTypeError\u001b[0m                                 Traceback (most recent call last)",
            "\u001b[0;32m<ipython-input-39-6399cec8b005>\u001b[0m in \u001b[0;36m<module>\u001b[0;34m()\u001b[0m\n\u001b[1;32m      1\u001b[0m \u001b[0md1\u001b[0m \u001b[0;34m=\u001b[0m \u001b[0mdatetime\u001b[0m\u001b[0;34m.\u001b[0m\u001b[0mnow\u001b[0m\u001b[0;34m(\u001b[0m\u001b[0;34m)\u001b[0m\u001b[0;34m\u001b[0m\u001b[0;34m\u001b[0m\u001b[0m\n\u001b[0;32m----> 2\u001b[0;31m \u001b[0md1\u001b[0m\u001b[0;34m+\u001b[0m\u001b[0;36m5\u001b[0m\u001b[0;34m\u001b[0m\u001b[0;34m\u001b[0m\u001b[0m\n\u001b[0m",
            "\u001b[0;31mTypeError\u001b[0m: unsupported operand type(s) for +: 'datetime.datetime' and 'int'"
          ]
        }
      ]
    },
    {
      "cell_type": "code",
      "metadata": {
        "colab": {
          "base_uri": "https://localhost:8080/"
        },
        "id": "q3OQ6YPQFQns",
        "outputId": "c4025101-c0f8-4c7c-b6ad-d8a107d1961e"
      },
      "source": [
        "d1 = datetime.now()\n",
        "print(\"Today's date :\",d1)\n",
        "\n",
        "d2 = d1+timedelta(days=2)\n",
        "print(\"Date 2 days from today :\",d2)\n",
        "\n",
        "d3 = d1+timedelta(weeks=2)\n",
        "print(\"Date 2 weeks from today :\",d3)"
      ],
      "execution_count": 40,
      "outputs": [
        {
          "output_type": "stream",
          "text": [
            "Today's date : 2021-05-11 23:37:20.155956\n",
            "Date 2 days from today : 2021-05-13 23:37:20.155956\n",
            "Date 2 weeks from today : 2021-05-25 23:37:20.155956\n"
          ],
          "name": "stdout"
        }
      ]
    },
    {
      "cell_type": "code",
      "metadata": {
        "colab": {
          "base_uri": "https://localhost:8080/"
        },
        "id": "6Hg-ibrSFWd5",
        "outputId": "99cdb558-0c18-4061-aab6-7007a952603b"
      },
      "source": [
        "# to_datetime\n",
        "date = pd.to_datetime('24th of April, 2020')\n",
        "print(date)\n",
        "print(type(date))"
      ],
      "execution_count": 41,
      "outputs": [
        {
          "output_type": "stream",
          "text": [
            "2020-04-24 00:00:00\n",
            "<class 'pandas._libs.tslibs.timestamps.Timestamp'>\n"
          ],
          "name": "stdout"
        }
      ]
    },
    {
      "cell_type": "code",
      "metadata": {
        "colab": {
          "base_uri": "https://localhost:8080/"
        },
        "id": "Sd_gGcmYFw5t",
        "outputId": "583fe860-bfeb-4ee3-94bb-ea06e304be4c"
      },
      "source": [
        "# timedelta\n",
        "import numpy as np\n",
        "date = datetime.now()\n",
        "# present date\n",
        "print(date)\n",
        "# date after 1 day\n",
        "print(date+pd.Timedelta(days=1))\n",
        "# date after 1 month\n",
        "#print(date+pd.Timedelta(1, unit='M'))"
      ],
      "execution_count": 42,
      "outputs": [
        {
          "output_type": "stream",
          "text": [
            "2021-05-11 23:37:28.612394\n",
            "2021-05-12 23:37:28.612394\n"
          ],
          "name": "stdout"
        }
      ]
    },
    {
      "cell_type": "code",
      "metadata": {
        "colab": {
          "base_uri": "https://localhost:8080/"
        },
        "id": "K0j6mEYSF0rV",
        "outputId": "e0565580-30d8-4890-bd00-e2a3a83933ee"
      },
      "source": [
        "pd.date_range(start='24/4/2020', end='24/5/2020', freq='D')"
      ],
      "execution_count": 43,
      "outputs": [
        {
          "output_type": "execute_result",
          "data": {
            "text/plain": [
              "DatetimeIndex(['2020-04-24', '2020-04-25', '2020-04-26', '2020-04-27',\n",
              "               '2020-04-28', '2020-04-29', '2020-04-30', '2020-05-01',\n",
              "               '2020-05-02', '2020-05-03', '2020-05-04', '2020-05-05',\n",
              "               '2020-05-06', '2020-05-07', '2020-05-08', '2020-05-09',\n",
              "               '2020-05-10', '2020-05-11', '2020-05-12', '2020-05-13',\n",
              "               '2020-05-14', '2020-05-15', '2020-05-16', '2020-05-17',\n",
              "               '2020-05-18', '2020-05-19', '2020-05-20', '2020-05-21',\n",
              "               '2020-05-22', '2020-05-23', '2020-05-24'],\n",
              "              dtype='datetime64[ns]', freq='D')"
            ]
          },
          "metadata": {
            "tags": []
          },
          "execution_count": 43
        }
      ]
    },
    {
      "cell_type": "code",
      "metadata": {
        "colab": {
          "base_uri": "https://localhost:8080/"
        },
        "id": "GDitgsNSI80h",
        "outputId": "bdc342e9-88c3-42e6-a2fe-d0cf71d428f1"
      },
      "source": [
        "from datetime import datetime\n",
        "start_date = datetime.today()\n",
        "dates_start = pd.date_range(start=start_date, periods=10, freq='T')\n",
        "dates_start[:5]"
      ],
      "execution_count": 44,
      "outputs": [
        {
          "output_type": "execute_result",
          "data": {
            "text/plain": [
              "DatetimeIndex(['2021-05-11 23:37:28.656658', '2021-05-11 23:38:28.656658',\n",
              "               '2021-05-11 23:39:28.656658', '2021-05-11 23:40:28.656658',\n",
              "               '2021-05-11 23:41:28.656658'],\n",
              "              dtype='datetime64[ns]', freq='T')"
            ]
          },
          "metadata": {
            "tags": []
          },
          "execution_count": 44
        }
      ]
    },
    {
      "cell_type": "code",
      "metadata": {
        "colab": {
          "base_uri": "https://localhost:8080/"
        },
        "id": "O9gElISmZFv6",
        "outputId": "d46bb26b-7593-4aba-e5db-077b03c94a80"
      },
      "source": [
        "dates_end = pd.date_range(start=start_date, periods=10, freq='D')\n",
        "dates_end[:5]"
      ],
      "execution_count": 45,
      "outputs": [
        {
          "output_type": "execute_result",
          "data": {
            "text/plain": [
              "DatetimeIndex(['2021-05-11 23:37:28.656658', '2021-05-12 23:37:28.656658',\n",
              "               '2021-05-13 23:37:28.656658', '2021-05-14 23:37:28.656658',\n",
              "               '2021-05-15 23:37:28.656658'],\n",
              "              dtype='datetime64[ns]', freq='D')"
            ]
          },
          "metadata": {
            "tags": []
          },
          "execution_count": 45
        }
      ]
    },
    {
      "cell_type": "code",
      "metadata": {
        "colab": {
          "base_uri": "https://localhost:8080/",
          "height": 204
        },
        "id": "7rtpc94XZM2x",
        "outputId": "e418a34b-17f0-4294-c495-a06ce3de1c27"
      },
      "source": [
        "import random\n",
        "randomList = []\n",
        "for i in range(10):\n",
        "    randomList.append(random.randint(0,1))\n",
        "\n",
        "# dataframe\n",
        "df = pd.DataFrame()\n",
        "df['Start_date'] = dates_start\n",
        "df['End_date'] = dates_end\n",
        "df['Target'] = randomList\n",
        "\n",
        "df.head()"
      ],
      "execution_count": 46,
      "outputs": [
        {
          "output_type": "execute_result",
          "data": {
            "text/html": [
              "<div>\n",
              "<style scoped>\n",
              "    .dataframe tbody tr th:only-of-type {\n",
              "        vertical-align: middle;\n",
              "    }\n",
              "\n",
              "    .dataframe tbody tr th {\n",
              "        vertical-align: top;\n",
              "    }\n",
              "\n",
              "    .dataframe thead th {\n",
              "        text-align: right;\n",
              "    }\n",
              "</style>\n",
              "<table border=\"1\" class=\"dataframe\">\n",
              "  <thead>\n",
              "    <tr style=\"text-align: right;\">\n",
              "      <th></th>\n",
              "      <th>Start_date</th>\n",
              "      <th>End_date</th>\n",
              "      <th>Target</th>\n",
              "    </tr>\n",
              "  </thead>\n",
              "  <tbody>\n",
              "    <tr>\n",
              "      <th>0</th>\n",
              "      <td>2021-05-11 23:37:28.656658</td>\n",
              "      <td>2021-05-11 23:37:28.656658</td>\n",
              "      <td>1</td>\n",
              "    </tr>\n",
              "    <tr>\n",
              "      <th>1</th>\n",
              "      <td>2021-05-11 23:38:28.656658</td>\n",
              "      <td>2021-05-12 23:37:28.656658</td>\n",
              "      <td>1</td>\n",
              "    </tr>\n",
              "    <tr>\n",
              "      <th>2</th>\n",
              "      <td>2021-05-11 23:39:28.656658</td>\n",
              "      <td>2021-05-13 23:37:28.656658</td>\n",
              "      <td>0</td>\n",
              "    </tr>\n",
              "    <tr>\n",
              "      <th>3</th>\n",
              "      <td>2021-05-11 23:40:28.656658</td>\n",
              "      <td>2021-05-14 23:37:28.656658</td>\n",
              "      <td>0</td>\n",
              "    </tr>\n",
              "    <tr>\n",
              "      <th>4</th>\n",
              "      <td>2021-05-11 23:41:28.656658</td>\n",
              "      <td>2021-05-15 23:37:28.656658</td>\n",
              "      <td>0</td>\n",
              "    </tr>\n",
              "  </tbody>\n",
              "</table>\n",
              "</div>"
            ],
            "text/plain": [
              "                  Start_date                   End_date  Target\n",
              "0 2021-05-11 23:37:28.656658 2021-05-11 23:37:28.656658       1\n",
              "1 2021-05-11 23:38:28.656658 2021-05-12 23:37:28.656658       1\n",
              "2 2021-05-11 23:39:28.656658 2021-05-13 23:37:28.656658       0\n",
              "3 2021-05-11 23:40:28.656658 2021-05-14 23:37:28.656658       0\n",
              "4 2021-05-11 23:41:28.656658 2021-05-15 23:37:28.656658       0"
            ]
          },
          "metadata": {
            "tags": []
          },
          "execution_count": 46
        }
      ]
    },
    {
      "cell_type": "code",
      "metadata": {
        "id": "bpwoyXHLZREt"
      },
      "source": [
        "# day\n",
        "df['Day'] = df['Start_date'].dt.day\n",
        "# month\n",
        "df['Month'] = df['Start_date'].dt.month\n",
        "# year\n",
        "df['Year'] = df['Start_date'].dt.year\n",
        "# hour\n",
        "df['Start_hour'] = df['Start_date'].dt.hour\n",
        "# minute\n",
        "df['Start_minute'] = df['Start_date'].dt.minute\n",
        "# second\n",
        "df['Start_second'] = df['Start_date'].dt.second\n",
        "# Monday is 0 and Sunday is 6\n",
        "df['Start_weekday'] = df['Start_date'].dt.weekday\n",
        "# week of the year\n",
        "df['Start_week_of_year'] = df['Start_date'].dt.isocalendar().week\n",
        "# duration\n",
        "df['Duration'] = df['End_date']-df['Start_date']\n"
      ],
      "execution_count": 49,
      "outputs": []
    },
    {
      "cell_type": "code",
      "metadata": {
        "id": "kNP4W96Sy2gf"
      },
      "source": [
        "df['Duration_days'] = df['Duration']/timedelta(days=1)\n",
        "df['Duration_minutes'] = df['Duration']/timedelta(minutes=1)\n",
        "df['Duration_seconds'] = df['Duration']/timedelta(seconds=1)"
      ],
      "execution_count": 50,
      "outputs": []
    },
    {
      "cell_type": "code",
      "metadata": {
        "colab": {
          "base_uri": "https://localhost:8080/",
          "height": 100
        },
        "id": "7JBPcmLszHcT",
        "outputId": "220613bf-4b79-4f6e-cdaf-fc7ecb125ec6"
      },
      "source": [
        "df.index=df['Start_date']\n",
        "df['2020-04-24':'2020-04-24'].head()"
      ],
      "execution_count": 51,
      "outputs": [
        {
          "output_type": "execute_result",
          "data": {
            "text/html": [
              "<div>\n",
              "<style scoped>\n",
              "    .dataframe tbody tr th:only-of-type {\n",
              "        vertical-align: middle;\n",
              "    }\n",
              "\n",
              "    .dataframe tbody tr th {\n",
              "        vertical-align: top;\n",
              "    }\n",
              "\n",
              "    .dataframe thead th {\n",
              "        text-align: right;\n",
              "    }\n",
              "</style>\n",
              "<table border=\"1\" class=\"dataframe\">\n",
              "  <thead>\n",
              "    <tr style=\"text-align: right;\">\n",
              "      <th></th>\n",
              "      <th>Start_date</th>\n",
              "      <th>End_date</th>\n",
              "      <th>Target</th>\n",
              "      <th>Day</th>\n",
              "      <th>Month</th>\n",
              "      <th>Year</th>\n",
              "      <th>Start_hour</th>\n",
              "      <th>Start_minute</th>\n",
              "      <th>Start_second</th>\n",
              "      <th>Start_weekday</th>\n",
              "      <th>Start_week_of_year</th>\n",
              "      <th>Duration</th>\n",
              "      <th>Duration_days</th>\n",
              "      <th>Duration_minutes</th>\n",
              "      <th>Duration_seconds</th>\n",
              "    </tr>\n",
              "    <tr>\n",
              "      <th>Start_date</th>\n",
              "      <th></th>\n",
              "      <th></th>\n",
              "      <th></th>\n",
              "      <th></th>\n",
              "      <th></th>\n",
              "      <th></th>\n",
              "      <th></th>\n",
              "      <th></th>\n",
              "      <th></th>\n",
              "      <th></th>\n",
              "      <th></th>\n",
              "      <th></th>\n",
              "      <th></th>\n",
              "      <th></th>\n",
              "      <th></th>\n",
              "    </tr>\n",
              "  </thead>\n",
              "  <tbody>\n",
              "  </tbody>\n",
              "</table>\n",
              "</div>"
            ],
            "text/plain": [
              "Empty DataFrame\n",
              "Columns: [Start_date, End_date, Target, Day, Month, Year, Start_hour, Start_minute, Start_second, Start_weekday, Start_week_of_year, Duration, Duration_days, Duration_minutes, Duration_seconds]\n",
              "Index: []"
            ]
          },
          "metadata": {
            "tags": []
          },
          "execution_count": 51
        }
      ]
    },
    {
      "cell_type": "code",
      "metadata": {
        "colab": {
          "base_uri": "https://localhost:8080/",
          "height": 580
        },
        "id": "HU6bmsyn0m4K",
        "outputId": "09c965e5-6122-4dd5-f6e4-423725ad0556"
      },
      "source": [
        "df"
      ],
      "execution_count": 52,
      "outputs": [
        {
          "output_type": "execute_result",
          "data": {
            "text/html": [
              "<div>\n",
              "<style scoped>\n",
              "    .dataframe tbody tr th:only-of-type {\n",
              "        vertical-align: middle;\n",
              "    }\n",
              "\n",
              "    .dataframe tbody tr th {\n",
              "        vertical-align: top;\n",
              "    }\n",
              "\n",
              "    .dataframe thead th {\n",
              "        text-align: right;\n",
              "    }\n",
              "</style>\n",
              "<table border=\"1\" class=\"dataframe\">\n",
              "  <thead>\n",
              "    <tr style=\"text-align: right;\">\n",
              "      <th></th>\n",
              "      <th>Start_date</th>\n",
              "      <th>End_date</th>\n",
              "      <th>Target</th>\n",
              "      <th>Day</th>\n",
              "      <th>Month</th>\n",
              "      <th>Year</th>\n",
              "      <th>Start_hour</th>\n",
              "      <th>Start_minute</th>\n",
              "      <th>Start_second</th>\n",
              "      <th>Start_weekday</th>\n",
              "      <th>Start_week_of_year</th>\n",
              "      <th>Duration</th>\n",
              "      <th>Duration_days</th>\n",
              "      <th>Duration_minutes</th>\n",
              "      <th>Duration_seconds</th>\n",
              "    </tr>\n",
              "    <tr>\n",
              "      <th>Start_date</th>\n",
              "      <th></th>\n",
              "      <th></th>\n",
              "      <th></th>\n",
              "      <th></th>\n",
              "      <th></th>\n",
              "      <th></th>\n",
              "      <th></th>\n",
              "      <th></th>\n",
              "      <th></th>\n",
              "      <th></th>\n",
              "      <th></th>\n",
              "      <th></th>\n",
              "      <th></th>\n",
              "      <th></th>\n",
              "      <th></th>\n",
              "    </tr>\n",
              "  </thead>\n",
              "  <tbody>\n",
              "    <tr>\n",
              "      <th>2021-05-11 23:37:28.656658</th>\n",
              "      <td>2021-05-11 23:37:28.656658</td>\n",
              "      <td>2021-05-11 23:37:28.656658</td>\n",
              "      <td>1</td>\n",
              "      <td>11</td>\n",
              "      <td>5</td>\n",
              "      <td>2021</td>\n",
              "      <td>23</td>\n",
              "      <td>37</td>\n",
              "      <td>28</td>\n",
              "      <td>1</td>\n",
              "      <td>19</td>\n",
              "      <td>0 days 00:00:00</td>\n",
              "      <td>0.000000</td>\n",
              "      <td>0.0</td>\n",
              "      <td>0.0</td>\n",
              "    </tr>\n",
              "    <tr>\n",
              "      <th>2021-05-11 23:38:28.656658</th>\n",
              "      <td>2021-05-11 23:38:28.656658</td>\n",
              "      <td>2021-05-12 23:37:28.656658</td>\n",
              "      <td>1</td>\n",
              "      <td>11</td>\n",
              "      <td>5</td>\n",
              "      <td>2021</td>\n",
              "      <td>23</td>\n",
              "      <td>38</td>\n",
              "      <td>28</td>\n",
              "      <td>1</td>\n",
              "      <td>19</td>\n",
              "      <td>0 days 23:59:00</td>\n",
              "      <td>0.999306</td>\n",
              "      <td>1439.0</td>\n",
              "      <td>86340.0</td>\n",
              "    </tr>\n",
              "    <tr>\n",
              "      <th>2021-05-11 23:39:28.656658</th>\n",
              "      <td>2021-05-11 23:39:28.656658</td>\n",
              "      <td>2021-05-13 23:37:28.656658</td>\n",
              "      <td>0</td>\n",
              "      <td>11</td>\n",
              "      <td>5</td>\n",
              "      <td>2021</td>\n",
              "      <td>23</td>\n",
              "      <td>39</td>\n",
              "      <td>28</td>\n",
              "      <td>1</td>\n",
              "      <td>19</td>\n",
              "      <td>1 days 23:58:00</td>\n",
              "      <td>1.998611</td>\n",
              "      <td>2878.0</td>\n",
              "      <td>172680.0</td>\n",
              "    </tr>\n",
              "    <tr>\n",
              "      <th>2021-05-11 23:40:28.656658</th>\n",
              "      <td>2021-05-11 23:40:28.656658</td>\n",
              "      <td>2021-05-14 23:37:28.656658</td>\n",
              "      <td>0</td>\n",
              "      <td>11</td>\n",
              "      <td>5</td>\n",
              "      <td>2021</td>\n",
              "      <td>23</td>\n",
              "      <td>40</td>\n",
              "      <td>28</td>\n",
              "      <td>1</td>\n",
              "      <td>19</td>\n",
              "      <td>2 days 23:57:00</td>\n",
              "      <td>2.997917</td>\n",
              "      <td>4317.0</td>\n",
              "      <td>259020.0</td>\n",
              "    </tr>\n",
              "    <tr>\n",
              "      <th>2021-05-11 23:41:28.656658</th>\n",
              "      <td>2021-05-11 23:41:28.656658</td>\n",
              "      <td>2021-05-15 23:37:28.656658</td>\n",
              "      <td>0</td>\n",
              "      <td>11</td>\n",
              "      <td>5</td>\n",
              "      <td>2021</td>\n",
              "      <td>23</td>\n",
              "      <td>41</td>\n",
              "      <td>28</td>\n",
              "      <td>1</td>\n",
              "      <td>19</td>\n",
              "      <td>3 days 23:56:00</td>\n",
              "      <td>3.997222</td>\n",
              "      <td>5756.0</td>\n",
              "      <td>345360.0</td>\n",
              "    </tr>\n",
              "    <tr>\n",
              "      <th>2021-05-11 23:42:28.656658</th>\n",
              "      <td>2021-05-11 23:42:28.656658</td>\n",
              "      <td>2021-05-16 23:37:28.656658</td>\n",
              "      <td>0</td>\n",
              "      <td>11</td>\n",
              "      <td>5</td>\n",
              "      <td>2021</td>\n",
              "      <td>23</td>\n",
              "      <td>42</td>\n",
              "      <td>28</td>\n",
              "      <td>1</td>\n",
              "      <td>19</td>\n",
              "      <td>4 days 23:55:00</td>\n",
              "      <td>4.996528</td>\n",
              "      <td>7195.0</td>\n",
              "      <td>431700.0</td>\n",
              "    </tr>\n",
              "    <tr>\n",
              "      <th>2021-05-11 23:43:28.656658</th>\n",
              "      <td>2021-05-11 23:43:28.656658</td>\n",
              "      <td>2021-05-17 23:37:28.656658</td>\n",
              "      <td>1</td>\n",
              "      <td>11</td>\n",
              "      <td>5</td>\n",
              "      <td>2021</td>\n",
              "      <td>23</td>\n",
              "      <td>43</td>\n",
              "      <td>28</td>\n",
              "      <td>1</td>\n",
              "      <td>19</td>\n",
              "      <td>5 days 23:54:00</td>\n",
              "      <td>5.995833</td>\n",
              "      <td>8634.0</td>\n",
              "      <td>518040.0</td>\n",
              "    </tr>\n",
              "    <tr>\n",
              "      <th>2021-05-11 23:44:28.656658</th>\n",
              "      <td>2021-05-11 23:44:28.656658</td>\n",
              "      <td>2021-05-18 23:37:28.656658</td>\n",
              "      <td>0</td>\n",
              "      <td>11</td>\n",
              "      <td>5</td>\n",
              "      <td>2021</td>\n",
              "      <td>23</td>\n",
              "      <td>44</td>\n",
              "      <td>28</td>\n",
              "      <td>1</td>\n",
              "      <td>19</td>\n",
              "      <td>6 days 23:53:00</td>\n",
              "      <td>6.995139</td>\n",
              "      <td>10073.0</td>\n",
              "      <td>604380.0</td>\n",
              "    </tr>\n",
              "    <tr>\n",
              "      <th>2021-05-11 23:45:28.656658</th>\n",
              "      <td>2021-05-11 23:45:28.656658</td>\n",
              "      <td>2021-05-19 23:37:28.656658</td>\n",
              "      <td>1</td>\n",
              "      <td>11</td>\n",
              "      <td>5</td>\n",
              "      <td>2021</td>\n",
              "      <td>23</td>\n",
              "      <td>45</td>\n",
              "      <td>28</td>\n",
              "      <td>1</td>\n",
              "      <td>19</td>\n",
              "      <td>7 days 23:52:00</td>\n",
              "      <td>7.994444</td>\n",
              "      <td>11512.0</td>\n",
              "      <td>690720.0</td>\n",
              "    </tr>\n",
              "    <tr>\n",
              "      <th>2021-05-11 23:46:28.656658</th>\n",
              "      <td>2021-05-11 23:46:28.656658</td>\n",
              "      <td>2021-05-20 23:37:28.656658</td>\n",
              "      <td>0</td>\n",
              "      <td>11</td>\n",
              "      <td>5</td>\n",
              "      <td>2021</td>\n",
              "      <td>23</td>\n",
              "      <td>46</td>\n",
              "      <td>28</td>\n",
              "      <td>1</td>\n",
              "      <td>19</td>\n",
              "      <td>8 days 23:51:00</td>\n",
              "      <td>8.993750</td>\n",
              "      <td>12951.0</td>\n",
              "      <td>777060.0</td>\n",
              "    </tr>\n",
              "  </tbody>\n",
              "</table>\n",
              "</div>"
            ],
            "text/plain": [
              "                                           Start_date  ... Duration_seconds\n",
              "Start_date                                             ...                 \n",
              "2021-05-11 23:37:28.656658 2021-05-11 23:37:28.656658  ...              0.0\n",
              "2021-05-11 23:38:28.656658 2021-05-11 23:38:28.656658  ...          86340.0\n",
              "2021-05-11 23:39:28.656658 2021-05-11 23:39:28.656658  ...         172680.0\n",
              "2021-05-11 23:40:28.656658 2021-05-11 23:40:28.656658  ...         259020.0\n",
              "2021-05-11 23:41:28.656658 2021-05-11 23:41:28.656658  ...         345360.0\n",
              "2021-05-11 23:42:28.656658 2021-05-11 23:42:28.656658  ...         431700.0\n",
              "2021-05-11 23:43:28.656658 2021-05-11 23:43:28.656658  ...         518040.0\n",
              "2021-05-11 23:44:28.656658 2021-05-11 23:44:28.656658  ...         604380.0\n",
              "2021-05-11 23:45:28.656658 2021-05-11 23:45:28.656658  ...         690720.0\n",
              "2021-05-11 23:46:28.656658 2021-05-11 23:46:28.656658  ...         777060.0\n",
              "\n",
              "[10 rows x 15 columns]"
            ]
          },
          "metadata": {
            "tags": []
          },
          "execution_count": 52
        }
      ]
    },
    {
      "cell_type": "code",
      "metadata": {
        "id": "iZPHluZ1AxNg"
      },
      "source": [
        ""
      ],
      "execution_count": 46,
      "outputs": []
    }
  ]
}