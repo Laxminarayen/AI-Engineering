{
  "nbformat": 4,
  "nbformat_minor": 0,
  "metadata": {
    "colab": {
      "name": "Dequeue Implementation via List.ipynb",
      "provenance": [],
      "collapsed_sections": [],
      "authorship_tag": "ABX9TyOzIlNSHAftJwG4eAKyuipb",
      "include_colab_link": true
    },
    "kernelspec": {
      "name": "python3",
      "display_name": "Python 3"
    },
    "language_info": {
      "name": "python"
    }
  },
  "cells": [
    {
      "cell_type": "markdown",
      "metadata": {
        "id": "view-in-github",
        "colab_type": "text"
      },
      "source": [
        "<a href=\"https://colab.research.google.com/github/plthiyagu/AI-Engineering/blob/master/01-Python/Dequeue_Implementation_via_List.ipynb\" target=\"_parent\"><img src=\"https://colab.research.google.com/assets/colab-badge.svg\" alt=\"Open In Colab\"/></a>"
      ]
    },
    {
      "cell_type": "code",
      "metadata": {
        "id": "VUhzEevKE_AJ"
      },
      "source": [
        "class  Deque:\n",
        "  def __init__(self):\n",
        "    self.items=[]\n",
        "  def isEmpty(self):\n",
        "    return self.items == []\n",
        "  \n",
        "  def addFront(self,item):\n",
        "    self.items.append(item)\n",
        "  \n",
        "  def addRear(self,item):\n",
        "    self.items.insert(0,item)\n",
        "\n",
        "  def removeFront(self):\n",
        "    return self.items.pop()\n",
        "\n",
        "  def removeRear(self):\n",
        "    return self.items.pop(0)\n",
        "\n",
        "  def size(self):\n",
        "    return len(self.items)"
      ],
      "execution_count": 7,
      "outputs": []
    },
    {
      "cell_type": "code",
      "metadata": {
        "id": "3_GkdNlNjosF"
      },
      "source": [
        "d = Deque()"
      ],
      "execution_count": 8,
      "outputs": []
    },
    {
      "cell_type": "code",
      "metadata": {
        "id": "_kiotH0Tj2zm"
      },
      "source": [
        "d.addFront('hello')"
      ],
      "execution_count": 9,
      "outputs": []
    },
    {
      "cell_type": "code",
      "metadata": {
        "id": "-lRbKivnj89K"
      },
      "source": [
        "d.addRear('world')"
      ],
      "execution_count": 10,
      "outputs": []
    },
    {
      "cell_type": "code",
      "metadata": {
        "colab": {
          "base_uri": "https://localhost:8080/"
        },
        "id": "zkthpti5j9ae",
        "outputId": "30f48cfb-42a5-4b11-80b2-bb3463bc68c9"
      },
      "source": [
        "d.size()"
      ],
      "execution_count": 11,
      "outputs": [
        {
          "output_type": "execute_result",
          "data": {
            "text/plain": [
              "2"
            ]
          },
          "metadata": {
            "tags": []
          },
          "execution_count": 11
        }
      ]
    },
    {
      "cell_type": "code",
      "metadata": {
        "colab": {
          "base_uri": "https://localhost:8080/"
        },
        "id": "PEktN7DNj_Af",
        "outputId": "9416d765-27c3-416a-de67-8716405b243f"
      },
      "source": [
        "print (d.removeFront() + ' ' +  d.removeRear())"
      ],
      "execution_count": 12,
      "outputs": [
        {
          "output_type": "stream",
          "text": [
            "hello world\n"
          ],
          "name": "stdout"
        }
      ]
    },
    {
      "cell_type": "code",
      "metadata": {
        "colab": {
          "base_uri": "https://localhost:8080/"
        },
        "id": "qwBnCkMykB2B",
        "outputId": "a60eae5c-d72d-47f0-f2bb-3401635d2a6d"
      },
      "source": [
        "d.size()"
      ],
      "execution_count": 13,
      "outputs": [
        {
          "output_type": "execute_result",
          "data": {
            "text/plain": [
              "0"
            ]
          },
          "metadata": {
            "tags": []
          },
          "execution_count": 13
        }
      ]
    },
    {
      "cell_type": "code",
      "metadata": {
        "id": "OtJVcEsljvOH"
      },
      "source": [
        ""
      ],
      "execution_count": null,
      "outputs": []
    },
    {
      "cell_type": "code",
      "metadata": {
        "id": "HJjNnwGBjpZ5"
      },
      "source": [
        ""
      ],
      "execution_count": null,
      "outputs": []
    }
  ]
}