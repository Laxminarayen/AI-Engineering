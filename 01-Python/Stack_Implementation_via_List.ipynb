{
  "nbformat": 4,
  "nbformat_minor": 0,
  "metadata": {
    "colab": {
      "name": "Stack Implementation via List.ipynb",
      "provenance": [],
      "collapsed_sections": [],
      "authorship_tag": "ABX9TyP3s7ziJbqB6pJkjY2TRuum",
      "include_colab_link": true
    },
    "kernelspec": {
      "name": "python3",
      "display_name": "Python 3"
    },
    "language_info": {
      "name": "python"
    }
  },
  "cells": [
    {
      "cell_type": "markdown",
      "metadata": {
        "id": "view-in-github",
        "colab_type": "text"
      },
      "source": [
        "<a href=\"https://colab.research.google.com/github/plthiyagu/AI-Engineering/blob/master/01-Python/Stack_Implementation_via_List.ipynb\" target=\"_parent\"><img src=\"https://colab.research.google.com/assets/colab-badge.svg\" alt=\"Open In Colab\"/></a>"
      ]
    },
    {
      "cell_type": "code",
      "metadata": {
        "id": "GAooWnscK5-m"
      },
      "source": [
        "class Stack:\n",
        "\n",
        "  def __init__(self):\n",
        "    self.items=[]\n",
        "  \n",
        "  def isEmpty(self):\n",
        "    return len(self.items)==0\n",
        "\n",
        "  def push(self,item):\n",
        "     self.items.append(item)\n",
        "\n",
        "  def pop(self):\n",
        "    if len(self.items) ==0:\n",
        "      return None\n",
        "    return self.items.pop()\n",
        "\n",
        "\n",
        "  def peek(self):\n",
        "    if len(self.items) == 0:\n",
        "      return None\n",
        "    return self.items[len(self.items)-1]\n",
        "\n",
        "  def size(self):\n",
        "    return len(self.items)\n"
      ],
      "execution_count": 20,
      "outputs": []
    },
    {
      "cell_type": "code",
      "metadata": {
        "id": "OTao-r4BMgT5"
      },
      "source": [
        "s= Stack()"
      ],
      "execution_count": 21,
      "outputs": []
    },
    {
      "cell_type": "code",
      "metadata": {
        "colab": {
          "base_uri": "https://localhost:8080/"
        },
        "id": "F4pIL9YQNjCY",
        "outputId": "f33b25ac-ba6f-4c0f-d051-6faaeb1e5918"
      },
      "source": [
        "print (s.isEmpty())"
      ],
      "execution_count": 22,
      "outputs": [
        {
          "output_type": "stream",
          "text": [
            "True\n"
          ],
          "name": "stdout"
        }
      ]
    },
    {
      "cell_type": "code",
      "metadata": {
        "id": "SanzdOCyNnrz"
      },
      "source": [
        "s.push(1)"
      ],
      "execution_count": 24,
      "outputs": []
    },
    {
      "cell_type": "code",
      "metadata": {
        "id": "QM-hA8MIN1tN"
      },
      "source": [
        "s.push('two')"
      ],
      "execution_count": 26,
      "outputs": []
    },
    {
      "cell_type": "code",
      "metadata": {
        "colab": {
          "base_uri": "https://localhost:8080/",
          "height": 35
        },
        "id": "V-pVL_EZN5Hq",
        "outputId": "3080f667-a619-4817-fd59-22fbc14ae12f"
      },
      "source": [
        "s.peek()"
      ],
      "execution_count": 27,
      "outputs": [
        {
          "output_type": "execute_result",
          "data": {
            "application/vnd.google.colaboratory.intrinsic+json": {
              "type": "string"
            },
            "text/plain": [
              "'two'"
            ]
          },
          "metadata": {
            "tags": []
          },
          "execution_count": 27
        }
      ]
    },
    {
      "cell_type": "code",
      "metadata": {
        "colab": {
          "base_uri": "https://localhost:8080/",
          "height": 35
        },
        "id": "4QMnubbtN6kt",
        "outputId": "79c2ce3a-8159-4f56-a48c-f05a0d97a11f"
      },
      "source": [
        "s.pop()"
      ],
      "execution_count": 28,
      "outputs": [
        {
          "output_type": "execute_result",
          "data": {
            "application/vnd.google.colaboratory.intrinsic+json": {
              "type": "string"
            },
            "text/plain": [
              "'two'"
            ]
          },
          "metadata": {
            "tags": []
          },
          "execution_count": 28
        }
      ]
    },
    {
      "cell_type": "code",
      "metadata": {
        "colab": {
          "base_uri": "https://localhost:8080/"
        },
        "id": "Vlo0hk0iOQTY",
        "outputId": "d8b45d65-0d55-4324-94ac-663faba4483d"
      },
      "source": [
        "s.size()"
      ],
      "execution_count": 29,
      "outputs": [
        {
          "output_type": "execute_result",
          "data": {
            "text/plain": [
              "2"
            ]
          },
          "metadata": {
            "tags": []
          },
          "execution_count": 29
        }
      ]
    },
    {
      "cell_type": "code",
      "metadata": {
        "id": "_BK6hMAWOTe5"
      },
      "source": [
        ""
      ],
      "execution_count": null,
      "outputs": []
    }
  ]
}