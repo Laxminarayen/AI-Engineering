{
  "nbformat": 4,
  "nbformat_minor": 0,
  "metadata": {
    "colab": {
      "name": "abc example.ipynb",
      "provenance": [],
      "collapsed_sections": [],
      "authorship_tag": "ABX9TyO40F/mGzJNPNPblGw3IFlF",
      "include_colab_link": true
    },
    "kernelspec": {
      "name": "python3",
      "display_name": "Python 3"
    },
    "language_info": {
      "name": "python"
    }
  },
  "cells": [
    {
      "cell_type": "markdown",
      "metadata": {
        "id": "view-in-github",
        "colab_type": "text"
      },
      "source": [
        "<a href=\"https://colab.research.google.com/github/plthiyagu/AI-Engineering/blob/master/01-Python/abc_example.ipynb\" target=\"_parent\"><img src=\"https://colab.research.google.com/assets/colab-badge.svg\" alt=\"Open In Colab\"/></a>"
      ]
    },
    {
      "cell_type": "code",
      "metadata": {
        "id": "djUf06hiDFGp",
        "colab": {
          "base_uri": "https://localhost:8080/"
        },
        "outputId": "35f285b4-b61d-4b5c-a3c7-5d466b93f9d1"
      },
      "source": [
        "from abc import ABC, abstractmethod \n",
        "\n",
        "class Animal(ABC):\n",
        "\n",
        "    def __init__(self, name: str):\n",
        "        self.name = name \n",
        "        super().__init__()\n",
        "\n",
        "    @abstractmethod \n",
        "    def make_sound(self):\n",
        "        pass \n",
        "\n",
        "class Dog(Animal):\n",
        "    def make_sound(self):\n",
        "        print(f'{self.name} says: Woof')\n",
        "\n",
        "class Cat(Animal):\n",
        "    def make_sound(self):\n",
        "        print(f'{self.name} says: Meows')\n",
        "\n",
        "Dog('Pepper').make_sound()\n",
        "Cat('Bella').make_sound()"
      ],
      "execution_count": 7,
      "outputs": [
        {
          "output_type": "stream",
          "name": "stdout",
          "text": [
            "Pepper says: Woof\n",
            "Bella says: Meows\n"
          ]
        }
      ]
    },
    {
      "cell_type": "code",
      "metadata": {
        "id": "zHDRxzasWWdc"
      },
      "source": [
        ""
      ],
      "execution_count": null,
      "outputs": []
    }
  ]
}