{
  "nbformat": 4,
  "nbformat_minor": 0,
  "metadata": {
    "colab": {
      "name": "Right rotate n-numbers by 1.ipynb",
      "provenance": [],
      "authorship_tag": "ABX9TyNtH4ydJxRuuNRMAC2obb7q",
      "include_colab_link": true
    },
    "kernelspec": {
      "name": "python3",
      "display_name": "Python 3"
    }
  },
  "cells": [
    {
      "cell_type": "markdown",
      "metadata": {
        "id": "view-in-github",
        "colab_type": "text"
      },
      "source": [
        "<a href=\"https://colab.research.google.com/github/plthiyagu/Personnel/blob/master/Right_rotate_n_numbers_by_1.ipynb\" target=\"_parent\"><img src=\"https://colab.research.google.com/assets/colab-badge.svg\" alt=\"Open In Colab\"/></a>"
      ]
    },
    {
      "cell_type": "code",
      "metadata": {
        "id": "DEBGPoDKTfyy",
        "colab_type": "code",
        "colab": {
          "base_uri": "https://localhost:8080/",
          "height": 71
        },
        "outputId": "94265319-6397-4f88-c3f3-fc5a3117fc2d"
      },
      "source": [
        "import pandas  as pd\n",
        "import numpy as np\n",
        "import seaborn as sns\n",
        "import matplotlib as mpl\n",
        "import matplotlib.pyplot as plt"
      ],
      "execution_count": 1,
      "outputs": [
        {
          "output_type": "stream",
          "text": [
            "/usr/local/lib/python3.6/dist-packages/statsmodels/tools/_testing.py:19: FutureWarning: pandas.util.testing is deprecated. Use the functions in the public API at pandas.testing instead.\n",
            "  import pandas.util.testing as tm\n"
          ],
          "name": "stderr"
        }
      ]
    },
    {
      "cell_type": "markdown",
      "metadata": {
        "id": "KZ5uLODepJX6",
        "colab_type": "text"
      },
      "source": [
        "Input : 6\n",
        "Output :\n",
        "\n",
        "1 2 3 4 5 6\n",
        "\n",
        "2 3 4 5 6 1\n",
        "\n",
        "3 4 5 6 1 2\n",
        "\n",
        "4 5 6 1 2 3\n",
        "\n",
        "5 6 1 2 3 4\n",
        "\n",
        "6 1 2 3 4 5\n"
      ]
    },
    {
      "cell_type": "code",
      "metadata": {
        "id": "vBZ09IhqpDPE",
        "colab_type": "code",
        "colab": {}
      },
      "source": [
        "def print_pattern(n):\n",
        "  for i in range(1, n+1 ,1):\n",
        "    for j in range(1, n+1, 1):\n",
        "      # check that if index i is \n",
        "      # equal to j \n",
        "      if i == j:\n",
        "        print(j, end=\" \")\n",
        "        # if index i is less than j\n",
        "        if i <= j:\n",
        "\n",
        "          for k in  range(j+1, n+1 ,1):\n",
        "            print(k, end=\" \")\n",
        "\n",
        "        for p in range(1,j, 1):\n",
        "          print(p, end= \" \")\n",
        "    print()\n"
      ],
      "execution_count": 6,
      "outputs": []
    },
    {
      "cell_type": "code",
      "metadata": {
        "id": "LktRTShq8jZw",
        "colab_type": "code",
        "colab": {
          "base_uri": "https://localhost:8080/",
          "height": 119
        },
        "outputId": "7c43ef0e-ddb8-4e79-aa64-811ef8f73907"
      },
      "source": [
        "# Driver's code \n",
        "print_pattern(6) \n"
      ],
      "execution_count": 8,
      "outputs": [
        {
          "output_type": "stream",
          "text": [
            "1 2 3 4 5 6 \n",
            "2 3 4 5 6 1 \n",
            "3 4 5 6 1 2 \n",
            "4 5 6 1 2 3 \n",
            "5 6 1 2 3 4 \n",
            "6 1 2 3 4 5 \n"
          ],
          "name": "stdout"
        }
      ]
    },
    {
      "cell_type": "code",
      "metadata": {
        "id": "-gcXulo78kp4",
        "colab_type": "code",
        "colab": {}
      },
      "source": [
        ""
      ],
      "execution_count": null,
      "outputs": []
    },
    {
      "cell_type": "code",
      "metadata": {
        "id": "iWwaTMtFTgev",
        "colab_type": "code",
        "colab": {}
      },
      "source": [
        ""
      ],
      "execution_count": null,
      "outputs": []
    }
  ]
}