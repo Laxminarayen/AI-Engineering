{
  "nbformat": 4,
  "nbformat_minor": 0,
  "metadata": {
    "colab": {
      "name": "Weighted Mean.ipynb",
      "provenance": [],
      "authorship_tag": "ABX9TyOezL8xjfN6wCgQCGMc15zK",
      "include_colab_link": true
    },
    "kernelspec": {
      "name": "python3",
      "display_name": "Python 3"
    }
  },
  "cells": [
    {
      "cell_type": "markdown",
      "metadata": {
        "id": "view-in-github",
        "colab_type": "text"
      },
      "source": [
        "<a href=\"https://colab.research.google.com/github/plthiyagu/AI-Engineering/blob/master/01-Python/Weighted_Mean.ipynb\" target=\"_parent\"><img src=\"https://colab.research.google.com/assets/colab-badge.svg\" alt=\"Open In Colab\"/></a>"
      ]
    },
    {
      "cell_type": "code",
      "metadata": {
        "colab": {
          "base_uri": "https://localhost:8080/"
        },
        "id": "dK_SwDjtHmSe",
        "outputId": "e956eb60-636e-4c68-dc67-9cae11458669"
      },
      "source": [
        "# Enter your code here. Read input from STDIN. Print output to STDOUT\r\n",
        "\r\n",
        "n= int(input())\r\n",
        "x=list(map(int,input().split()))\r\n",
        "w=list(map(int,input().split()))\r\n",
        "dividend, divisor = 0.0, 0\r\n",
        "for i in range(n):\r\n",
        "    dividend += x[i] * w[i]\r\n",
        "    divisor += w[i]\r\n",
        "print(\"%0.1f\" % (dividend/divisor))\r\n"
      ],
      "execution_count": 1,
      "outputs": [
        {
          "output_type": "stream",
          "text": [
            "5\n",
            "10 40 30 50 20\n",
            "1 2 3 4 5\n",
            "32.0\n"
          ],
          "name": "stdout"
        }
      ]
    },
    {
      "cell_type": "code",
      "metadata": {
        "id": "DqHrqbtcHnhk"
      },
      "source": [
        ""
      ],
      "execution_count": 1,
      "outputs": []
    },
    {
      "cell_type": "code",
      "metadata": {
        "id": "DZzOM6p-HvsZ"
      },
      "source": [
        ""
      ],
      "execution_count": null,
      "outputs": []
    }
  ]
}