{
  "nbformat": 4,
  "nbformat_minor": 0,
  "metadata": {
    "colab": {
      "name": "Mean_Median_Mode.ipynb",
      "provenance": [],
      "authorship_tag": "ABX9TyNKIoWWWWGULJFo2wMZkWBb",
      "include_colab_link": true
    },
    "kernelspec": {
      "name": "python3",
      "display_name": "Python 3"
    }
  },
  "cells": [
    {
      "cell_type": "markdown",
      "metadata": {
        "id": "view-in-github",
        "colab_type": "text"
      },
      "source": [
        "<a href=\"https://colab.research.google.com/github/plthiyagu/AI-Engineering/blob/master/01-Python/Mean_Median_Mode.ipynb\" target=\"_parent\"><img src=\"https://colab.research.google.com/assets/colab-badge.svg\" alt=\"Open In Colab\"/></a>"
      ]
    },
    {
      "cell_type": "code",
      "metadata": {
        "id": "J46hm14YEf3U"
      },
      "source": [
        "# Enter your code here. Read input from STDIN. Print output to STDOUT\r\n",
        "def getMean(list):\r\n",
        "    sum= 0\r\n",
        "    for i in list:\r\n",
        "        sum += i\r\n",
        "    mean= float(sum)/len(list)\r\n",
        "    return mean\r\n",
        "\r\n",
        "def getMedian(list):\r\n",
        "    median = 0.0\r\n",
        "    size=(len(list))\r\n",
        "    copy=list\r\n",
        "    copy.sort()\r\n",
        "    if size %2 ==0:\r\n",
        "        median= float(copy[size//2-1]+copy[size//2])/2\r\n",
        "    else:\r\n",
        "        median= copy[size-1]/2\r\n",
        "    return median\r\n",
        "\r\n",
        "def getMode(list):\r\n",
        "    mode= 0\r\n",
        "    size= len(list)\r\n",
        "    count,max=0,0\r\n",
        "    copy= list\r\n",
        "    copy.sort()\r\n",
        "    current=0\r\n",
        "    for i in copy:\r\n",
        "        if i==current:\r\n",
        "            count +=1\r\n",
        "        else:\r\n",
        "            count=1\r\n",
        "            current =i\r\n",
        "        if count > max:\r\n",
        "            max= count\r\n",
        "            mode = i\r\n",
        "    return mode\r\n",
        "\r\n"
      ],
      "execution_count": 1,
      "outputs": []
    },
    {
      "cell_type": "code",
      "metadata": {
        "colab": {
          "base_uri": "https://localhost:8080/"
        },
        "id": "aK4z-Ut2EiXX",
        "outputId": "2a173d0c-aa88-44fa-a533-6d321034e751"
      },
      "source": [
        "size = int(input())\r\n",
        "a = list(map(int, input().split()))\r\n",
        "print(getMean(a))\r\n",
        "print(getMedian(a))\r\n",
        "print(getMode(a))\r\n"
      ],
      "execution_count": 2,
      "outputs": [
        {
          "output_type": "stream",
          "text": [
            "10\n",
            "64630 11735 14216 99233 14470 4978 73429 38120 51135 67060\n",
            "43900.6\n",
            "44627.5\n",
            "4978\n"
          ],
          "name": "stdout"
        }
      ]
    },
    {
      "cell_type": "code",
      "metadata": {
        "id": "qYEMZT-tEyS4"
      },
      "source": [
        ""
      ],
      "execution_count": null,
      "outputs": []
    }
  ]
}