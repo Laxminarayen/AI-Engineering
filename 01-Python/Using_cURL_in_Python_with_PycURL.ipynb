{
  "nbformat": 4,
  "nbformat_minor": 0,
  "metadata": {
    "colab": {
      "name": "Using cURL in Python with PycURL.ipynb",
      "provenance": [],
      "authorship_tag": "ABX9TyOc/nu75d7tNwwObOfBb6ge",
      "include_colab_link": true
    },
    "kernelspec": {
      "name": "python3",
      "display_name": "Python 3"
    }
  },
  "cells": [
    {
      "cell_type": "markdown",
      "metadata": {
        "id": "view-in-github",
        "colab_type": "text"
      },
      "source": [
        "<a href=\"https://colab.research.google.com/github/plthiyagu/Personnel/blob/master/Using_cURL_in_Python_with_PycURL.ipynb\" target=\"_parent\"><img src=\"https://colab.research.google.com/assets/colab-badge.svg\" alt=\"Open In Colab\"/></a>"
      ]
    },
    {
      "cell_type": "code",
      "metadata": {
        "id": "hOuKvP0LQKRX",
        "outputId": "a0c646c0-dde1-4f3e-b4f4-d6f022ac44d7",
        "colab": {
          "base_uri": "https://localhost:8080/",
          "height": 207
        }
      },
      "source": [
        "!pip install pycurl"
      ],
      "execution_count": 1,
      "outputs": [
        {
          "output_type": "stream",
          "text": [
            "Collecting pycurl\n",
            "\u001b[?25l  Downloading https://files.pythonhosted.org/packages/50/1a/35b1d8b8e4e23a234f1b17a8a40299fd550940b16866c9a1f2d47a04b969/pycurl-7.43.0.6.tar.gz (222kB)\n",
            "\u001b[K     |████████████████████████████████| 225kB 2.7MB/s \n",
            "\u001b[?25hBuilding wheels for collected packages: pycurl\n",
            "  Building wheel for pycurl (setup.py) ... \u001b[?25l\u001b[?25hdone\n",
            "  Created wheel for pycurl: filename=pycurl-7.43.0.6-cp36-cp36m-linux_x86_64.whl size=284420 sha256=04438632143a27cd4d84fc681f2199c5a35d2f8f22b0ba998b38fff2c355cde5\n",
            "  Stored in directory: /root/.cache/pip/wheels/d9/a1/7b/2894883fd5c69a3ba684a49d255466d1e924b3cf58cedc1ade\n",
            "Successfully built pycurl\n",
            "Installing collected packages: pycurl\n",
            "Successfully installed pycurl-7.43.0.6\n"
          ],
          "name": "stdout"
        }
      ]
    },
    {
      "cell_type": "code",
      "metadata": {
        "id": "tkNciIq0QM3N",
        "outputId": "8a9a055b-ccb5-45ba-a7b9-5f5fcd767569",
        "colab": {
          "base_uri": "https://localhost:8080/",
          "height": 1000
        }
      },
      "source": [
        "import pycurl\n",
        "from io import BytesIO \n",
        "\n",
        "b_obj = BytesIO() \n",
        "crl = pycurl.Curl() \n",
        "\n",
        "# Set URL value\n",
        "crl.setopt(crl.URL, 'https://wiki.python.org/moin/BeginnersGuide')\n",
        "\n",
        "# Write bytes that are utf-8 encoded\n",
        "crl.setopt(crl.WRITEDATA, b_obj)\n",
        "\n",
        "# Perform a file transfer \n",
        "crl.perform() \n",
        "\n",
        "# End curl session\n",
        "crl.close()\n",
        "\n",
        "# Get the content stored in the BytesIO object (in byte characters) \n",
        "get_body = b_obj.getvalue()\n",
        "\n",
        "# Decode the bytes stored in get_body to HTML and print the result \n",
        "print('Output of GET request:\\n%s' % get_body.decode('utf8')) "
      ],
      "execution_count": 2,
      "outputs": [
        {
          "output_type": "stream",
          "text": [
            "Output of GET request:\n",
            "<!DOCTYPE HTML PUBLIC \"-//W3C//DTD HTML 4.01//EN\" \"http://www.w3.org/TR/html4/strict.dtd\">\n",
            "<html>\n",
            "<head>\n",
            "<meta http-equiv=\"X-UA-Compatible\" content=\"IE=Edge\">\n",
            "<meta name=\"viewport\" content=\"width=device-width, initial-scale=1\">\n",
            "<meta http-equiv=\"Content-Type\" content=\"text/html;charset=utf-8\">\n",
            "<meta name=\"robots\" content=\"index,nofollow\">\n",
            "\n",
            "<title>BeginnersGuide - Python Wiki</title>\n",
            "<script type=\"text/javascript\" src=\"/wiki/common/js/common.js\"></script>\n",
            "\n",
            "<script type=\"text/javascript\">\n",
            "<!--\n",
            "var search_hint = \"Search\";\n",
            "//-->\n",
            "</script>\n",
            "\n",
            "\n",
            "<link rel=\"stylesheet\" type=\"text/css\" charset=\"utf-8\" media=\"all\" href=\"/wiki/europython/css/common.css\">\n",
            "<link rel=\"stylesheet\" type=\"text/css\" charset=\"utf-8\" media=\"screen\" href=\"/wiki/europython/css/screen.css\">\n",
            "<link rel=\"stylesheet\" type=\"text/css\" charset=\"utf-8\" media=\"print\" href=\"/wiki/europython/css/print.css\">\n",
            "<link rel=\"stylesheet\" type=\"text/css\" charset=\"utf-8\" media=\"projection\" href=\"/wiki/europython/css/projection.css\">\n",
            "\n",
            "<!-- css only for MS IE6/IE7 browsers -->\n",
            "<!--[if lt IE 8]>\n",
            "   <link rel=\"stylesheet\" type=\"text/css\" charset=\"utf-8\" media=\"all\" href=\"/wiki/europython/css/msie.css\">\n",
            "<![endif]-->\n",
            "\n",
            "\n",
            "<link rel=\"alternate\" title=\"Python Wiki: BeginnersGuide\" href=\"/moin/BeginnersGuide?diffs=1&amp;show_att=1&amp;action=rss_rc&amp;unique=0&amp;page=BeginnersGuide&amp;ddiffs=1\" type=\"application/rss+xml\">\n",
            "\n",
            "\n",
            "<link rel=\"Start\" href=\"/moin/FrontPage\">\n",
            "<link rel=\"Alternate\" title=\"Wiki Markup\" href=\"/moin/BeginnersGuide?action=raw\">\n",
            "<link rel=\"Alternate\" media=\"print\" title=\"Print View\" href=\"/moin/BeginnersGuide?action=print\">\n",
            "<link rel=\"Search\" href=\"/moin/FindPage\">\n",
            "<link rel=\"Index\" href=\"/moin/TitleIndex\">\n",
            "<link rel=\"Glossary\" href=\"/moin/WordIndex\">\n",
            "<link rel=\"Help\" href=\"/moin/HelpOnFormatting\">\n",
            "</head>\n",
            "\n",
            "<body  lang=\"en\" dir=\"ltr\">\n",
            "\n",
            "<div id=\"header\">\n",
            "\n",
            "<form id=\"searchform\" method=\"get\" action=\"/moin/BeginnersGuide\">\n",
            "<div>\n",
            "<input type=\"hidden\" name=\"action\" value=\"fullsearch\">\n",
            "<input type=\"hidden\" name=\"context\" value=\"180\">\n",
            "<label for=\"searchinput\">Search:</label>\n",
            "<input id=\"searchinput\" type=\"text\" name=\"value\" value=\"\" size=\"20\"\n",
            "    onfocus=\"searchFocus(this)\" onblur=\"searchBlur(this)\"\n",
            "    onkeyup=\"searchChange(this)\" onchange=\"searchChange(this)\" alt=\"Search\">\n",
            "<input id=\"titlesearch\" name=\"titlesearch\" type=\"submit\"\n",
            "    value=\"Titles\" alt=\"Search Titles\">\n",
            "<input id=\"fullsearch\" name=\"fullsearch\" type=\"submit\"\n",
            "    value=\"Text\" alt=\"Search Full Text\">\n",
            "</div>\n",
            "</form>\n",
            "<script type=\"text/javascript\">\n",
            "<!--// Initialize search form\n",
            "var f = document.getElementById('searchform');\n",
            "f.getElementsByTagName('label')[0].style.display = 'none';\n",
            "var e = document.getElementById('searchinput');\n",
            "searchChange(e);\n",
            "searchBlur(e);\n",
            "//-->\n",
            "</script>\n",
            "\n",
            "<div id=\"logo\"><a href=\"/moin/FrontPage\"></a><a href=\"http://www.python.org\"><img src=\"/wiki/europython/img/python-logo.gif\" alt=\"Python\" ></a><a name=\"logo\"></a></div>\n",
            "<div id=\"locationline\">\n",
            "\n",
            "\n",
            "<ul id=\"pagelocation\">\n",
            "<li><a href=\"/moin/BeginnersGuide\">BeginnersGuide</a></li>\n",
            "</ul>\n",
            "\n",
            "</div>\n",
            "\n",
            "<ul id=\"pagetrail\">\n",
            "<li><a href=\"/moin/BeginnersGuide\">BeginnersGuide</a></li>\n",
            "</ul>\n",
            "</div>\n",
            "\n",
            "<div id=\"sidebar\">\n",
            "<div id=\"star\">\n",
            "\n",
            "</div>\n",
            "<div class=\"sidepanel\">\n",
            "\n",
            "<ul id=\"navibar\">\n",
            "<li class=\"wikilink\"><a href=\"/moin/FrontPage\">FrontPage</a></li><li class=\"wikilink\"><a href=\"/moin/RecentChanges\">RecentChanges</a></li><li class=\"wikilink\"><a href=\"/moin/FindPage\">FindPage</a></li><li class=\"wikilink\"><a href=\"/moin/HelpContents\">HelpContents</a></li><li class=\"current\"><a href=\"/moin/BeginnersGuide\">BeginnersGuide</a></li>\n",
            "</ul>\n",
            "\n",
            "</div>\n",
            "<div class=\"sidepanel\">\n",
            "<h1>Page</h1>\n",
            "<ul class=\"editbar\"><li><span class=\"disabled\">Immutable Page</span></li><li class=\"toggleCommentsButton\" style=\"display:none;\"><a href=\"#\" class=\"nbcomment\" onClick=\"toggleComments();return false;\">Comments</a></li><li><a class=\"nbinfo\" href=\"/moin/BeginnersGuide?action=info\" rel=\"nofollow\">Info</a></li><li><a class=\"nbattachments\" href=\"/moin/BeginnersGuide?action=AttachFile\" rel=\"nofollow\">Attachments</a></li><li>\n",
            "<form class=\"actionsmenu\" method=\"GET\" action=\"/moin/BeginnersGuide\">\n",
            "<div>\n",
            "    <label>More Actions:</label>\n",
            "    <select name=\"action\"\n",
            "        onchange=\"if ((this.selectedIndex != 0) &&\n",
            "                      (this.options[this.selectedIndex].disabled == false)) {\n",
            "                this.form.submit();\n",
            "            }\n",
            "            this.selectedIndex = 0;\">\n",
            "        <option value=\"raw\">Raw Text</option>\n",
            "<option value=\"print\">Print View</option>\n",
            "<option value=\"refresh\">Delete Cache</option>\n",
            "<option value=\"show\" disabled class=\"disabled\">------------------------</option>\n",
            "<option value=\"SpellCheck\">Check Spelling</option>\n",
            "<option value=\"LikePages\">Like Pages</option>\n",
            "<option value=\"LocalSiteMap\">Local Site Map</option>\n",
            "<option value=\"show\" disabled class=\"disabled\">------------------------</option>\n",
            "<option value=\"RenamePage\" disabled class=\"disabled\">Rename Page</option>\n",
            "<option value=\"DeletePage\" disabled class=\"disabled\">Delete Page</option>\n",
            "<option value=\"show\" disabled class=\"disabled\">------------------------</option>\n",
            "<option value=\"show\" disabled class=\"disabled\">------------------------</option>\n",
            "<option value=\"show\" disabled class=\"disabled\">Remove Spam</option>\n",
            "<option value=\"show\" disabled class=\"disabled\">Revert to this revision</option>\n",
            "<option value=\"show\" disabled class=\"disabled\">------------------------</option>\n",
            "<option value=\"SlideShow\">SlideShow</option>\n",
            "    </select>\n",
            "    <input type=\"submit\" value=\"Do\">\n",
            "    \n",
            "</div>\n",
            "<script type=\"text/javascript\">\n",
            "<!--// Init menu\n",
            "actionsMenuInit('More Actions:');\n",
            "//-->\n",
            "</script>\n",
            "</form>\n",
            "</li></ul>\n",
            "\n",
            "</div>\n",
            "<div class=\"sidepanel\">\n",
            "<h1>User</h1>\n",
            "<ul id=\"username\"><li><a href=\"/moin/BeginnersGuide?action=login\" id=\"login\" rel=\"nofollow\">Login</a></li></ul>\n",
            "</div>\n",
            "</div>\n",
            "\n",
            "<div id=\"page\" lang=\"en\" dir=\"ltr\">\n",
            "<div dir=\"ltr\" id=\"content\" lang=\"en\"><span class=\"anchor\" id=\"top\"></span>\n",
            "<span class=\"anchor\" id=\"line-1\"></span><p class=\"line867\">\n",
            "<h1 id=\"Beginner.27s_Guide_to_Python\">Beginner's Guide to Python</h1>\n",
            "<span class=\"anchor\" id=\"line-2\"></span><p class=\"line874\">New to programming? Python is free and easy to learn if you know where to start! This guide will help you to get started quickly. <span class=\"anchor\" id=\"line-3\"></span><span class=\"anchor\" id=\"line-4\"></span><p class=\"line867\"><a href=\"/moin/BeginnersGuideChinese\">Chinese Translation</a> <span class=\"anchor\" id=\"line-5\"></span><span class=\"anchor\" id=\"line-6\"></span><p class=\"line867\">\n",
            "<h2 id=\"New_to_Python.3F\">New to Python?</h2>\n",
            "<span class=\"anchor\" id=\"line-7\"></span><p class=\"line862\">Read <a href=\"/moin/BeginnersGuide/Overview\">BeginnersGuide/Overview</a> for a short explanation of what Python is. <span class=\"anchor\" id=\"line-8\"></span><span class=\"anchor\" id=\"line-9\"></span><p class=\"line867\">\n",
            "<h2 id=\"Getting_Python\">Getting Python</h2>\n",
            "<span class=\"anchor\" id=\"line-10\"></span><p class=\"line862\">Next, install the Python 3 interpreter on your computer. This is the program that reads Python programs and carries out their instructions; you need it before you can do any Python programming. Mac and Linux distributions may include an outdated version of Python (Python 2), but you should install an updated one (Python 3). See <a href=\"/moin/BeginnersGuide/Download\">BeginnersGuide/Download</a> for instructions to download the correct version of Python. <span class=\"anchor\" id=\"line-11\"></span><span class=\"anchor\" id=\"line-12\"></span><p class=\"line862\">There are also Python interpreter and IDE bundles available, such as <a class=\"http\" href=\"http://thonny.org\">Thonny</a>. Other options can be found at <a href=\"/moin/IntegratedDevelopmentEnvironments\">IntegratedDevelopmentEnvironments</a>. <span class=\"anchor\" id=\"line-13\"></span><span class=\"anchor\" id=\"line-14\"></span><p class=\"line862\">At some stage, you'll want to edit and save your program code. Take a look at <a href=\"/moin/HowToEditPythonCode\">HowToEditPythonCode</a> for some advice and recommendations. <span class=\"anchor\" id=\"line-15\"></span><span class=\"anchor\" id=\"line-16\"></span><p class=\"line867\">\n",
            "<h2 id=\"Learning_Python\">Learning Python</h2>\n",
            "<span class=\"anchor\" id=\"line-17\"></span><p class=\"line874\">Next, read a tutorial and try some simple experiments with your new Python interpreter. <span class=\"anchor\" id=\"line-18\"></span><span class=\"anchor\" id=\"line-19\"></span><ul><li><p class=\"line862\">If you have never programmed before, see <a href=\"/moin/BeginnersGuide/NonProgrammers\">BeginnersGuide/NonProgrammers</a> for a list of suitable tutorials. <span class=\"anchor\" id=\"line-20\"></span></li><li><p class=\"line862\">If you have previous programming experience, consult <a href=\"/moin/BeginnersGuide/Programmers\">BeginnersGuide/Programmers</a>, which lists more advanced tutorials. <span class=\"anchor\" id=\"line-21\"></span></li><li><p class=\"line862\">If English isn't your first language, you might be more comfortable with a tutorial that's been translated into your language. Consult python.org's <a href=\"/moin/Languages\">list of Non-English resources</a>. <span class=\"anchor\" id=\"line-22\"></span><span class=\"anchor\" id=\"line-23\"></span></li></ul><p class=\"line862\">Most tutorials assume that you know how to run a program on your computer. If you are using Windows and need help with this, see <a class=\"http\" href=\"http://www.python.org/doc/faq/windows/#how-do-i-run-a-python-program-under-windows\">How do I Run a Program Under Windows</a>. <span class=\"anchor\" id=\"line-24\"></span><span class=\"anchor\" id=\"line-25\"></span><p class=\"line874\">Some sites offer in-browser coding for those who want to learn Python: <span class=\"anchor\" id=\"line-26\"></span><span class=\"anchor\" id=\"line-27\"></span><p class=\"line867\"><span class=\"comment\" style=\"display:none\">please keep this list alphabetized</span> <span class=\"anchor\" id=\"line-28\"></span><span class=\"anchor\" id=\"line-29\"></span><ul><li><p class=\"line891\"><a class=\"https\" href=\"https://www.codecademy.com/learn/learn-python\">Codecademy</a> <span class=\"anchor\" id=\"line-30\"></span><span class=\"anchor\" id=\"line-31\"></span></li><li class=\"gap\"><p class=\"line891\"><a class=\"https\" href=\"https://coding-bootcamps.com\">Coding Bootcamps</a> <span class=\"anchor\" id=\"line-32\"></span><span class=\"anchor\" id=\"line-33\"></span></li><li class=\"gap\"><p class=\"line891\"><a class=\"http\" href=\"http://www.datacamp.com\">DataCamp</a> <span class=\"anchor\" id=\"line-34\"></span><span class=\"anchor\" id=\"line-35\"></span></li><li class=\"gap\"><p class=\"line891\"><a class=\"https\" href=\"https://www.dataquest.io\">Dataquest</a> for Python for data science. <span class=\"anchor\" id=\"line-36\"></span><span class=\"anchor\" id=\"line-37\"></span></li><li class=\"gap\"><p class=\"line891\"><a class=\"https\" href=\"https://hackinscience.org\">HackInScience</a> free and open source platform. <span class=\"anchor\" id=\"line-38\"></span><span class=\"anchor\" id=\"line-39\"></span></li><li class=\"gap\"><p class=\"line891\"><a class=\"https\" href=\"https://myhsts.org\">High School Technology Services</a> for general Python <span class=\"anchor\" id=\"line-40\"></span><span class=\"anchor\" id=\"line-41\"></span></li></ul><p class=\"line862\">Print a <a class=\"https\" href=\"https://blog.finxter.com/python-cheat-sheet/\">cheat sheet</a> of the most important Python features and post it to your office wall until you know the basics well. <span class=\"anchor\" id=\"line-42\"></span><span class=\"anchor\" id=\"line-43\"></span><p class=\"line862\">Once you have read a tutorial, you can browse through <a class=\"http\" href=\"http://docs.python.org\">Python's online documentation</a>. It includes <a class=\"http\" href=\"http://docs.python.org/tut/\">a tutorial</a> that might come in handy, <a class=\"http\" href=\"http://docs.python.org//lib/\">a Library Reference</a> that lists all of the modules that come standard with Python, and <a class=\"http\" href=\"http://docs.python.org/ref/\">the Language Reference</a> for a complete (if rather dry) explanation of Python's syntax. <span class=\"anchor\" id=\"line-44\"></span><span class=\"anchor\" id=\"line-45\"></span><p class=\"line862\">When you are ready to write your first program, you will need a <a href=\"/moin/PythonEditors\">text editor</a> or an <a href=\"/moin/IntegratedDevelopmentEnvironments\">IDE</a>. If you don't want to use Thonny or something more advanced, then you can use <a class=\"https\" href=\"https://docs.python.org/3/library/idle.html\">IDLE</a>, which is bundled with Python and supports <a class=\"http\" href=\"http://idlex.sourceforge.net\">extensions</a>. <span class=\"anchor\" id=\"line-46\"></span><span class=\"anchor\" id=\"line-47\"></span><p class=\"line862\">This Python wiki also contains a page about <a href=\"/moin/Powerful%20Python%20One-Liners\">Python One-Liners</a> -- an obscure but interesting subculture in Python. <span class=\"anchor\" id=\"line-48\"></span><span class=\"anchor\" id=\"line-49\"></span><p class=\"line867\">\n",
            "<h2 id=\"Need_Help.3F\">Need Help?</h2>\n",
            "<span class=\"anchor\" id=\"line-50\"></span><p class=\"line862\">Need help with any of this? Read <a href=\"/moin/BeginnersGuide/Help\">BeginnersGuide/Help</a> for mailing lists and newsgroups. <span class=\"anchor\" id=\"line-51\"></span><span class=\"anchor\" id=\"line-52\"></span><p class=\"line862\">Most Python books will include an introduction to the language; see <a href=\"/moin/IntroductoryBooks\">IntroductoryBooks</a> for suggested titles. <span class=\"anchor\" id=\"line-53\"></span><span class=\"anchor\" id=\"line-54\"></span><p class=\"line862\">Consult <a href=\"/moin/BeginnersGuide/Examples\">BeginnersGuide/Examples</a> for small programs and little snippets of code that can help you learn. <span class=\"anchor\" id=\"line-55\"></span><span class=\"anchor\" id=\"line-56\"></span><p class=\"line862\">Or, if you prefer to learn Python through listening to a lecture, you can attend a training course or even hire a trainer to come to your company. Consult the <a href=\"/moin/PythonEvents\">PythonEvents</a> page to see if any training courses are scheduled in your area and the <a href=\"/moin/PythonTraining\">PythonTraining</a> page for a list of trainers. <span class=\"anchor\" id=\"line-57\"></span><span class=\"anchor\" id=\"line-58\"></span><p class=\"line862\">Teachers can join the <a class=\"http\" href=\"http://www.python.org/sigs/edu-sig/\">EDU-SIG</a>, a mailing list for discussion of Python's use in teaching at any level ranging from K-12 up to university. <span class=\"anchor\" id=\"line-59\"></span><span class=\"anchor\" id=\"line-60\"></span><p class=\"line867\">\n",
            "<h2 id=\"Complete_list_of_Beginner.27s_Guide_pages\">Complete list of Beginner's Guide pages</h2>\n",
            "<span class=\"anchor\" id=\"line-61\"></span><p class=\"line867\"><div class=\"searchresults\">\n",
            "<ol start=\"1\"><li><a href=\"/moin/BeginnersGuide/Download\"><strong>BeginnersGuide/</strong>Download</a></li><li><a href=\"/moin/BeginnersGuide/Examples\"><strong>BeginnersGuide/</strong>Examples</a></li><li><a href=\"/moin/BeginnersGuide/Help\"><strong>BeginnersGuide/</strong>Help</a></li><li><a href=\"/moin/BeginnersGuide/Mathematics\"><strong>BeginnersGuide/</strong>Mathematics</a></li><li><a href=\"/moin/BeginnersGuide/NonProgrammers\"><strong>BeginnersGuide/</strong>NonProgrammers</a></li><li><a href=\"/moin/BeginnersGuide/Overview\"><strong>BeginnersGuide/</strong>Overview</a></li><li><a href=\"/moin/BeginnersGuide/Programmers\"><strong>BeginnersGuide/</strong>Programmers</a></li><li><a href=\"/moin/BeginnersGuide/Programmers?action=AttachFile&amp;do=view&amp;target=Cpp2Python.pdf\">BeginnersGuide/Programmers <strong>(Cpp2Python.pdf)</strong></a></li><li><a href=\"/moin/BeginnersGuide/Programmers/SimpleExamples\"><strong>BeginnersGuide/</strong>Programmers/SimpleExamples</a></li></ol>\n",
            "</div> <span class=\"anchor\" id=\"line-62\"></span><span class=\"anchor\" id=\"line-63\"></span><p class=\"line867\">\n",
            "<h2 id=\"Quiz_and_Exercises\">Quiz and Exercises</h2>\n",
            "<span class=\"anchor\" id=\"line-64\"></span><ul><li><p class=\"line862\">Finxter - <a class=\"https\" href=\"https://finxter.com\">How good are your Python skills? Test and Training with a Daily Python Puzzle</a> <span class=\"anchor\" id=\"line-65\"></span></li><li><p class=\"line862\">CheckIO - <a class=\"http\" href=\"http://www.checkio.org\">Online learning, testing and improving your python skills</a> <span class=\"anchor\" id=\"line-66\"></span></li><li><p class=\"line862\">After Hours Programming - <a class=\"http\" href=\"http://www.afterhoursprogramming.com/tutorial/Python/Python-Quiz/\">Python Quiz</a> <span class=\"anchor\" id=\"line-67\"></span></li><li><p class=\"line862\">Python Guru Quiz- <a class=\"http\" href=\"http://thepythonguru.com/python-guru-quiz/\">Python Quiz</a> <span class=\"anchor\" id=\"line-68\"></span></li><li><p class=\"line862\">Pyschools - <a class=\"http\" href=\"http://www.pyschools.com\">A Collection of Python Quiz and Exercise Questions</a> <span class=\"anchor\" id=\"line-69\"></span></li><li><p class=\"line862\">PyGUI - <a class=\"http\" href=\"http://www.pythongui.com\">Collection of python quiz answers, Examples And GUI Tkinter Tutorials For Beginners</a> <span class=\"anchor\" id=\"line-70\"></span></li><li><p class=\"line862\">Pythonspot - <a class=\"https\" href=\"https://pythonspot.com/python-tests-quizes/\">Python Quiz</a> <span class=\"anchor\" id=\"line-71\"></span></li><li><p class=\"line862\">Python Challenge - <a class=\"https\" href=\"https://play.google.com/store/apps/details?id=sg.apps.garden.pythonchallenge\">A Python Quiz App on Android Platform</a> <span class=\"anchor\" id=\"line-72\"></span></li><li><p class=\"line891\"><a class=\"http\" href=\"http://cscircles.cemc.uwaterloo.ca\">CS Circles - online lessons and graded exercises</a> <span class=\"anchor\" id=\"line-73\"></span><span class=\"anchor\" id=\"line-74\"></span></li></ul><p class=\"line867\">\n",
            "<h2 id=\"Python_Style_Checker\">Python Style Checker</h2>\n",
            "<span class=\"anchor\" id=\"line-75\"></span><ul><li><p class=\"line891\"><a class=\"http\" href=\"http://pythonchecker.com/\">Pythonchecker.com</a> - An educative online tool to rate your Python style (with dynamic score computation and hints) <span class=\"anchor\" id=\"line-76\"></span><span class=\"anchor\" id=\"line-77\"></span></li></ul><p class=\"line867\">\n",
            "<h2 id=\"Looking_for_a_particular_Python_module_or_application.3F\">Looking for a particular Python module or application?</h2>\n",
            "<span class=\"anchor\" id=\"line-78\"></span><ul><li><p class=\"line862\">The first place to look is the <a class=\"http\" href=\"http://pypi.python.org/pypi\">Python Package Index</a>. <span class=\"anchor\" id=\"line-79\"></span><span class=\"anchor\" id=\"line-80\"></span></li><li class=\"gap\">If you can't find anything relevant in the Package Index, <span class=\"anchor\" id=\"line-81\"></span><p class=\"line862\">try <a class=\"http\" href=\"http://www.python.org/search/\">searching python.org</a> - you can find anything mentioned on the Python site, in the <a class=\"http\" href=\"http://www.python.org/doc/faq/\">FAQs</a>, or in the newsgroup. More info: <a class=\"http\" href=\"http://www.python.org/search/\">where to search</a>. <span class=\"anchor\" id=\"line-82\"></span><span class=\"anchor\" id=\"line-83\"></span></li><li class=\"gap\"><p class=\"line862\">You may also try our external guest project, <a class=\"http\" href=\"http://pydoc.net/\">pydoc.net</a>, for advanced package and module search. <span class=\"anchor\" id=\"line-84\"></span><span class=\"anchor\" id=\"line-85\"></span></li><li class=\"gap\"><p class=\"line862\">Next, try <a class=\"http\" href=\"http://www.google.com\">Google</a> or another search engine of your choice. Searching for &quot;python&quot; and some relevant keywords will usually find something helpful. <span class=\"anchor\" id=\"line-86\"></span><span class=\"anchor\" id=\"line-87\"></span></li><li class=\"gap\">Finally, you can try posting a query to the comp.lang.python Usenet group. <span class=\"anchor\" id=\"line-88\"></span><span class=\"anchor\" id=\"line-89\"></span></li></ul><p class=\"line867\">\n",
            "<h2 id=\"Python-Related_Cheat_Sheets\">Python-Related Cheat Sheets</h2>\n",
            "<span class=\"anchor\" id=\"line-90\"></span><ul><li><p class=\"line862\">Python: <a class=\"https\" href=\"https://blog.finxter.com/collection-5-cheat-sheets-every-python-coder-must-own/\">Collection of 11 Best Python Cheat Sheets</a> <span class=\"anchor\" id=\"line-91\"></span><span class=\"anchor\" id=\"line-92\"></span></li><li class=\"gap\"><p class=\"line891\"><a href=\"/moin/NumPy\">NumPy</a>: <a class=\"https\" href=\"https://blog.finxter.com/collection-10-best-numpy-cheat-sheets-every-python-coder-must-own/\">Collection of 10 Best NumPy Cheat Sheets</a> <span class=\"anchor\" id=\"line-93\"></span><span class=\"anchor\" id=\"line-94\"></span></li><li class=\"gap\"><p class=\"line862\">Pandas: <a class=\"https\" href=\"https://blog.finxter.com/pandas-cheat-sheets/\">Collection of 7 Beautiful Pandas Cheat Sheets</a> <span class=\"anchor\" id=\"line-95\"></span><span class=\"anchor\" id=\"line-96\"></span></li><li class=\"gap\"><p class=\"line862\">Machine Learning: <a class=\"https\" href=\"https://blog.finxter.com/machine-learning-cheat-sheets/\">Collection of 15 Machine Learning Cheat Sheets</a> <span class=\"anchor\" id=\"line-97\"></span><span class=\"anchor\" id=\"line-98\"></span></li></ul><p class=\"line867\">\n",
            "<h2 id=\"Want_to_contribute.3F\">Want to contribute?</h2>\n",
            "<span class=\"anchor\" id=\"line-99\"></span><ul><li><p class=\"line862\">Python is a product of the <a class=\"http\" href=\"http://www.python.org/psf/\">Python Software Foundation</a>, a non-profit organization that holds the copyright. <a class=\"http\" href=\"http://www.python.org/psf/donations/\">Donations to the PSF</a> are tax-deductible in the USA, and you can donate via credit card or <a class=\"nonexistent\" href=\"/moin/PayPal\">PayPal</a>. <span class=\"anchor\" id=\"line-100\"></span><span class=\"anchor\" id=\"line-101\"></span></li><li class=\"gap\"><p class=\"line862\">To report a bug in the Python core, use the <a class=\"http\" href=\"http://bugs.python.org/\">Python Bug Tracker</a>. <span class=\"anchor\" id=\"line-102\"></span><span class=\"anchor\" id=\"line-103\"></span></li><li class=\"gap\"><p class=\"line862\">To contribute a bug fix or other patch to the Python core, read the <a class=\"http\" href=\"http://www.python.org/dev/\">Python Developer's Guide</a> for more information about Python's development process. <span class=\"anchor\" id=\"line-104\"></span><span class=\"anchor\" id=\"line-105\"></span></li><li class=\"gap\"><p class=\"line862\">To contribute to the official <a class=\"http\" href=\"http://www.python.org/doc/\">Python documentation</a>, join the <a class=\"http\" href=\"http://www.python.org/sigs/doc-sig/\">Documentation SIG</a>, write to <a class=\"mailto\" href=\"mailto:docs@python.org\">docs@python.org</a> , or use the <a class=\"http\" href=\"http://bugs.python.org/\">Issue Tracker</a> to contribute a documentation patch. <span class=\"anchor\" id=\"line-106\"></span><span class=\"anchor\" id=\"line-107\"></span></li><li class=\"gap\"><p class=\"line862\">To announce your module or application to the Python community, use <a class=\"news\" href=\"news:comp.lang.python.announce\">comp.lang.python.announce</a>. See <a class=\"http\" href=\"http://www.python.org/community/lists/#comp-lang-python-announce\">the guide to Python mailing lists</a> for more information. <span class=\"anchor\" id=\"line-108\"></span><span class=\"anchor\" id=\"line-109\"></span></li><li class=\"gap\"><p class=\"line862\">To propose changes to the Python core, post your thoughts to <a class=\"news\" href=\"news:comp.lang.python\">comp.lang.python</a>. If you have an implementation, follow the <a class=\"http\" href=\"http://www.python.org/patches/\">Python Patch Guidelines</a>. <span class=\"anchor\" id=\"line-110\"></span><span class=\"anchor\" id=\"line-111\"></span></li><li class=\"gap\"><p class=\"line862\">If you have a question are not sure where to report it, check out the <a href=\"/moin/WhereDoIReportThis%3F\">WhereDoIReportThis?</a> page. <span class=\"anchor\" id=\"line-112\"></span><span class=\"anchor\" id=\"line-113\"></span></li></ul><p class=\"line867\"><hr /><p class=\"line874\"> <span class=\"anchor\" id=\"line-114\"></span><a href=\"/moin/CategoryDocumentation\">CategoryDocumentation</a> <span class=\"anchor\" id=\"line-115\"></span><span class=\"anchor\" id=\"bottom\"></span></div><p id=\"pageinfo\" class=\"info\" lang=\"en\" dir=\"ltr\">BeginnersGuide  (last edited 2020-07-04 14:00:41 by <span title=\"ChrisM @ mue-88-130-62-169.dsl.tropolys.de[88.130.62.169]\"><a class=\"nonexistent\" href=\"/moin/ChrisM\" title=\"ChrisM @ mue-88-130-62-169.dsl.tropolys.de[88.130.62.169]\">ChrisM</a></span>)</p>\n",
            "\n",
            "<div id=\"pagebottom\"></div>\n",
            "</div>\n",
            "\n",
            "\n",
            "<div id=\"footer\">\n",
            "<ul id=\"credits\">\n",
            "<li><a href=\"http://moinmo.in/\" title=\"This site uses the MoinMoin Wiki software.\">MoinMoin Powered</a></li><li><a href=\"http://moinmo.in/Python\" title=\"MoinMoin is written in Python.\">Python Powered</a></li><li><a href=\"http://moinmo.in/GPL\" title=\"MoinMoin is GPL licensed.\">GPL licensed</a></li><li><a href=\"http://validator.w3.org/check?uri=referer\" title=\"Click here to validate this page.\">Valid HTML 4.01</a></li>\n",
            "</ul>\n",
            "\n",
            "\n",
            "</div>\n",
            "<p style=\"text-align: center; font-size: 85%\"><a href=\"/moin/FrontPage#use\">Unable to edit the page? See the FrontPage for instructions.</a></p></body>\n",
            "</html>\n",
            "\n",
            "\n"
          ],
          "name": "stdout"
        }
      ]
    },
    {
      "cell_type": "markdown",
      "metadata": {
        "id": "-Sux9Vg-USUc"
      },
      "source": [
        "Example 2: Examining GET Response Headers\n"
      ]
    },
    {
      "cell_type": "code",
      "metadata": {
        "id": "A4JZvoqNQUDa",
        "outputId": "2e132c2c-664a-4661-97de-ff81a386e9fa",
        "colab": {
          "base_uri": "https://localhost:8080/",
          "height": 105
        }
      },
      "source": [
        "from io import BytesIO\n",
        "import pycurl\n",
        "\n",
        "headers = {}\n",
        "\n",
        "def display_header(header_line):\n",
        "    header_line = header_line.decode('iso-8859-1')\n",
        "\n",
        "    # Ignore all lines without a colon\n",
        "    if ':' not in header_line:\n",
        "        return\n",
        "\n",
        "    # Break the header line into header name and value\n",
        "    h_name, h_value = header_line.split(':', 1)\n",
        "\n",
        "    # Remove whitespace that may be present\n",
        "    h_name = h_name.strip()\n",
        "    h_value = h_value.strip()\n",
        "    h_name = h_name.lower() # Convert header names to lowercase\n",
        "    headers[h_name] = h_value # Header name and value.\n",
        "\n",
        "def main():\n",
        "    print('**Using PycURL to get Twitter Headers**')\n",
        "    b_obj = BytesIO()\n",
        "    crl = pycurl.Curl()\n",
        "    crl.setopt(crl.URL, 'https://twitter.com')\n",
        "    crl.setopt(crl.HEADERFUNCTION, display_header)\n",
        "    crl.setopt(crl.WRITEDATA, b_obj)\n",
        "    crl.perform()\n",
        "    print('Header values:-')\n",
        "    print(headers)\n",
        "    print('-' * 20)\n",
        "    \n",
        "main()"
      ],
      "execution_count": 3,
      "outputs": [
        {
          "output_type": "stream",
          "text": [
            "**Using PycURL to get Twitter Headers**\n",
            "Header values:-\n",
            "{'cache-control': 'no-cache, no-store, must-revalidate, pre-check=0, post-check=0', 'content-security-policy': \"connect-src 'self' blob: https://*.giphy.com https://*.pscp.tv https://*.video.pscp.tv https://*.twimg.com https://api.twitter.com https://api-stream.twitter.com https://ads-api.twitter.com https://caps.twitter.com https://media.riffsy.com https://pay.twitter.com https://sentry.io https://ton.twitter.com https://twitter.com https://upload.twitter.com https://www.google-analytics.com https://app.link https://api2.branch.io https://bnc.lt https://vmap.snappytv.com https://vmapstage.snappytv.com https://vmaprel.snappytv.com https://vmap.grabyo.com https://dhdsnappytv-vh.akamaihd.net https://pdhdsnappytv-vh.akamaihd.net https://mdhdsnappytv-vh.akamaihd.net https://mdhdsnappytv-vh.akamaihd.net https://mpdhdsnappytv-vh.akamaihd.net https://mmdhdsnappytv-vh.akamaihd.net https://mdhdsnappytv-vh.akamaihd.net https://mpdhdsnappytv-vh.akamaihd.net https://mmdhdsnappytv-vh.akamaihd.net https://dwo3ckksxlb0v.cloudfront.net ; default-src 'self'; form-action 'self' https://twitter.com https://*.twitter.com; font-src 'self' https://*.twimg.com; frame-src 'self' https://twitter.com https://mobile.twitter.com https://pay.twitter.com https://cards-frame.twitter.com ; img-src 'self' blob: data: https://*.cdn.twitter.com https://ton.twitter.com https://*.twimg.com https://analytics.twitter.com https://cm.g.doubleclick.net https://www.google-analytics.com https://www.periscope.tv https://www.pscp.tv https://media.riffsy.com https://*.giphy.com https://*.pscp.tv; manifest-src 'self'; media-src 'self' blob: https://twitter.com https://*.twimg.com https://*.vine.co https://*.pscp.tv https://*.video.pscp.tv https://*.giphy.com https://media.riffsy.com https://dhdsnappytv-vh.akamaihd.net https://pdhdsnappytv-vh.akamaihd.net https://mdhdsnappytv-vh.akamaihd.net https://mdhdsnappytv-vh.akamaihd.net https://mpdhdsnappytv-vh.akamaihd.net https://mmdhdsnappytv-vh.akamaihd.net https://mdhdsnappytv-vh.akamaihd.net https://mpdhdsnappytv-vh.akamaihd.net https://mmdhdsnappytv-vh.akamaihd.net https://dwo3ckksxlb0v.cloudfront.net; object-src 'none'; script-src 'self' 'unsafe-inline' https://*.twimg.com   https://www.google-analytics.com https://twitter.com https://app.link  'nonce-MTFjMjMyN2YtZDJmNS00MzQ5LTg4NWYtZGE2MGE5NzQ0YTMy'; style-src 'self' 'unsafe-inline' https://*.twimg.com; worker-src 'self' blob:; report-uri https://twitter.com/i/csp_report?a=O5RXE%3D%3D%3D&ro=false\", 'content-type': 'text/html; charset=utf-8', 'cross-origin-opener-policy': 'same-origin', 'date': 'Sat, 03 Oct 2020 02:35:36 GMT', 'expiry': 'Tue, 31 Mar 1981 05:00:00 GMT', 'last-modified': 'Sat, 03 Oct 2020 02:35:36 GMT', 'pragma': 'no-cache', 'server': 'tsa_b', 'set-cookie': 'guest_id=v1%3A160169253638031173; Max-Age=63072000; Expires=Mon, 03 Oct 2022 02:35:36 GMT; Path=/; Domain=.twitter.com; Secure; SameSite=None', 'strict-transport-security': 'max-age=631138519', 'transfer-encoding': 'chunked', 'vary': 'Accept-Encoding', 'x-connection-hash': '3aa65886860bd0df37511de5669caeae', 'x-content-type-options': 'nosniff', 'x-frame-options': 'DENY', 'x-powered-by': 'Express', 'x-response-time': '54', 'x-xss-protection': '0'}\n",
            "--------------------\n"
          ],
          "name": "stdout"
        }
      ]
    },
    {
      "cell_type": "markdown",
      "metadata": {
        "id": "wFQN5xchUXst"
      },
      "source": [
        "Example 3: Sending Form Data via HTTP POST\n"
      ]
    },
    {
      "cell_type": "code",
      "metadata": {
        "id": "lkPEYvIHUI4o"
      },
      "source": [
        "from urllib.parse import urlencode\n",
        "import pycurl\n",
        "\n",
        "crl = pycurl.Curl()\n",
        "crl.setopt(crl.URL, 'https://www.code-learner.com/post/')\n",
        "data = {'field': 'value'}\n",
        "pf = urlencode(data)\n",
        "\n",
        "# Sets request method to POST,\n",
        "# Content-Type header to application/x-www-form-urlencoded\n",
        "# and data to send in request body.\n",
        "crl.setopt(crl.POSTFIELDS, pf)\n",
        "crl.perform()\n",
        "crl.close()"
      ],
      "execution_count": 4,
      "outputs": []
    },
    {
      "cell_type": "markdown",
      "metadata": {
        "id": "M9fVYupyUjYy"
      },
      "source": [
        "Example 4: Uploading Files with Multipart POST\n"
      ]
    },
    {
      "cell_type": "code",
      "metadata": {
        "id": "Y1dhi5lOUcuT"
      },
      "source": [
        "import pycurl\n",
        "\n",
        "crl = pycurl.Curl()\n",
        "crl.setopt(crl.URL, 'https://www.code-learner.com/post/')\n",
        "\n",
        "crl.setopt(crl.HTTPPOST, [\n",
        "    ('fileupload', (\n",
        "        # Upload the contents of the file\n",
        "        crl.FORM_FILE, 'sample.txt',\n",
        "    )),\n",
        "])\n",
        "\n",
        "crl.perform()\n",
        "crl.close()"
      ],
      "execution_count": 8,
      "outputs": []
    },
    {
      "cell_type": "code",
      "metadata": {
        "id": "gnot2pr-Uofe",
        "outputId": "d7219828-421e-464e-8be7-4c5b85f73332",
        "colab": {
          "base_uri": "https://localhost:8080/",
          "height": 231
        }
      },
      "source": [
        "crl.setopt(crl.HTTPPOST, [\n",
        "    ('fileupload', (\n",
        "        # Upload the contents of this file\n",
        "        crl.FORM_FILE, 'sample.doc',\n",
        "        # Specify a file name of your choice\n",
        "        crl.FORM_FILENAME, 'sample1.doc',\n",
        "        # Specify a different content type of upload\n",
        "        crl.FORM_CONTENTTYPE, 'application/msword',\n",
        "    )),\n",
        "])\n"
      ],
      "execution_count": 11,
      "outputs": [
        {
          "output_type": "error",
          "ename": "error",
          "evalue": "ignored",
          "traceback": [
            "\u001b[0;31m---------------------------------------------------------------------------\u001b[0m",
            "\u001b[0;31merror\u001b[0m                                     Traceback (most recent call last)",
            "\u001b[0;32m<ipython-input-11-8c055f2acad0>\u001b[0m in \u001b[0;36m<module>\u001b[0;34m()\u001b[0m\n\u001b[1;32m      6\u001b[0m         \u001b[0mcrl\u001b[0m\u001b[0;34m.\u001b[0m\u001b[0mFORM_FILENAME\u001b[0m\u001b[0;34m,\u001b[0m \u001b[0;34m'sample1.doc'\u001b[0m\u001b[0;34m,\u001b[0m\u001b[0;34m\u001b[0m\u001b[0;34m\u001b[0m\u001b[0m\n\u001b[1;32m      7\u001b[0m         \u001b[0;31m# Specify a different content type of upload\u001b[0m\u001b[0;34m\u001b[0m\u001b[0;34m\u001b[0m\u001b[0;34m\u001b[0m\u001b[0m\n\u001b[0;32m----> 8\u001b[0;31m         \u001b[0mcrl\u001b[0m\u001b[0;34m.\u001b[0m\u001b[0mFORM_CONTENTTYPE\u001b[0m\u001b[0;34m,\u001b[0m \u001b[0;34m'application/msword'\u001b[0m\u001b[0;34m,\u001b[0m\u001b[0;34m\u001b[0m\u001b[0;34m\u001b[0m\u001b[0m\n\u001b[0m\u001b[1;32m      9\u001b[0m     )),\n\u001b[1;32m     10\u001b[0m ])\n",
            "\u001b[0;31merror\u001b[0m: cannot invoke setopt() - no curl handle"
          ]
        }
      ]
    },
    {
      "cell_type": "code",
      "metadata": {
        "id": "rgjjm9zJVNAk"
      },
      "source": [
        "import pycurl\n",
        "\n",
        "crl = pycurl.Curl()\n",
        "crl.setopt(crl.URL, 'https://www.code-learner.com/post/')\n",
        "\n",
        "crl.setopt(crl.HTTPPOST, [\n",
        "    ('fileupload', (\n",
        "        crl.FORM_BUFFER, 'sample.txt',\n",
        "        crl.FORM_BUFFERPTR, 'You can reach me at billy@example.com',\n",
        "    )),\n",
        "])\n",
        "\n",
        "crl.perform()\n",
        "crl.close()\n"
      ],
      "execution_count": 12,
      "outputs": []
    },
    {
      "cell_type": "markdown",
      "metadata": {
        "id": "xSLth_2_VmXx"
      },
      "source": [
        "Example 5: Uploading a File with HTTP PUT"
      ]
    },
    {
      "cell_type": "code",
      "metadata": {
        "id": "oPfcN2k9Vj1q"
      },
      "source": [
        "import pycurl\n",
        "\n",
        "crl = pycurl.Curl()\n",
        "crl.setopt(crl.URL, 'https://www.code-learner.com/post/')\n",
        "\n",
        "dat_file = open('sample.txt')\n",
        "\n",
        "crl.setopt(crl.UPLOAD, 1)\n",
        "crl.setopt(crl.READDATA, dat_file)\n",
        "\n",
        "crl.perform()\n",
        "crl.close()\n",
        "dat_file.close()"
      ],
      "execution_count": null,
      "outputs": []
    },
    {
      "cell_type": "code",
      "metadata": {
        "id": "xrCtY0iQVqiY"
      },
      "source": [
        "import pycurl\n",
        "crl = pycurl.Curl()\n",
        "crl.setopt(crl.URL, 'https://www.code-learner.com/post/')\n",
        "\n",
        "data = '{\"person\":{\"name\":\"billy\",\"email\":\"billy@example.com\"}}'\n",
        "buffer = BytesIO(data.encode('utf-8'))\n",
        "\n",
        "crl.setopt(crl.UPLOAD, 1)\n",
        "crl.setopt(crl.READDATA, buffer)\n",
        "\n",
        "crl.perform()\n",
        "crl.close()"
      ],
      "execution_count": null,
      "outputs": []
    },
    {
      "cell_type": "markdown",
      "metadata": {
        "id": "I6lULYhXV86J"
      },
      "source": [
        "Example 6: Sending an HTTP DELETE Request\n"
      ]
    },
    {
      "cell_type": "code",
      "metadata": {
        "id": "8bbwVrQrUf_j",
        "outputId": "4041cfc5-94ce-4832-fce0-ddc7668a381a",
        "colab": {
          "base_uri": "https://localhost:8080/",
          "height": 214
        }
      },
      "source": [
        "import pycurl\n",
        "\n",
        "crl = pycurl.Curl()\n",
        "crl.setopt(crl.URL, \"http://api.example.com/user/148951\")\n",
        "crl.setopt(crl.CUSTOMREQUEST, \"DELETE\")\n",
        "crl.perform()\n",
        "crl.close()"
      ],
      "execution_count": 15,
      "outputs": [
        {
          "output_type": "error",
          "ename": "error",
          "evalue": "ignored",
          "traceback": [
            "\u001b[0;31m---------------------------------------------------------------------------\u001b[0m",
            "\u001b[0;31merror\u001b[0m                                     Traceback (most recent call last)",
            "\u001b[0;32m<ipython-input-15-9f6c77fdd6c4>\u001b[0m in \u001b[0;36m<module>\u001b[0;34m()\u001b[0m\n\u001b[1;32m      4\u001b[0m \u001b[0mcrl\u001b[0m\u001b[0;34m.\u001b[0m\u001b[0msetopt\u001b[0m\u001b[0;34m(\u001b[0m\u001b[0mcrl\u001b[0m\u001b[0;34m.\u001b[0m\u001b[0mURL\u001b[0m\u001b[0;34m,\u001b[0m \u001b[0;34m\"http://api.example.com/user/148951\"\u001b[0m\u001b[0;34m)\u001b[0m\u001b[0;34m\u001b[0m\u001b[0;34m\u001b[0m\u001b[0m\n\u001b[1;32m      5\u001b[0m \u001b[0mcrl\u001b[0m\u001b[0;34m.\u001b[0m\u001b[0msetopt\u001b[0m\u001b[0;34m(\u001b[0m\u001b[0mcrl\u001b[0m\u001b[0;34m.\u001b[0m\u001b[0mCUSTOMREQUEST\u001b[0m\u001b[0;34m,\u001b[0m \u001b[0;34m\"DELETE\"\u001b[0m\u001b[0;34m)\u001b[0m\u001b[0;34m\u001b[0m\u001b[0;34m\u001b[0m\u001b[0m\n\u001b[0;32m----> 6\u001b[0;31m \u001b[0mcrl\u001b[0m\u001b[0;34m.\u001b[0m\u001b[0mperform\u001b[0m\u001b[0;34m(\u001b[0m\u001b[0;34m)\u001b[0m\u001b[0;34m\u001b[0m\u001b[0;34m\u001b[0m\u001b[0m\n\u001b[0m\u001b[1;32m      7\u001b[0m \u001b[0mcrl\u001b[0m\u001b[0;34m.\u001b[0m\u001b[0mclose\u001b[0m\u001b[0;34m(\u001b[0m\u001b[0;34m)\u001b[0m\u001b[0;34m\u001b[0m\u001b[0;34m\u001b[0m\u001b[0m\n",
            "\u001b[0;31merror\u001b[0m: (6, 'Could not resolve host: api.example.com')"
          ]
        }
      ]
    },
    {
      "cell_type": "code",
      "metadata": {
        "id": "kRKywzKIWCID"
      },
      "source": [
        "import pycurl\n",
        "\n",
        "file = open('pycurl.md','wb')\n",
        "\n",
        "crl = pycurl.Curl()\n",
        "crl.setopt(crl.URL, 'https://wiki.python.org/moin/BeginnersGuide')\n",
        "crl.setopt(crl.WRITEDATA, file)\n",
        "crl.perform()\n",
        "crl.close()"
      ],
      "execution_count": 16,
      "outputs": []
    },
    {
      "cell_type": "code",
      "metadata": {
        "id": "A8ni1HX6WIoY"
      },
      "source": [
        ""
      ],
      "execution_count": null,
      "outputs": []
    }
  ]
}