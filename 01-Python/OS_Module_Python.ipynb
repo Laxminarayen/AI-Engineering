{
  "nbformat": 4,
  "nbformat_minor": 0,
  "metadata": {
    "colab": {
      "name": "OS Module Python.ipynb",
      "provenance": [],
      "authorship_tag": "ABX9TyPg4DWD+6/hVTgTiOhQZC85",
      "include_colab_link": true
    },
    "kernelspec": {
      "name": "python3",
      "display_name": "Python 3"
    },
    "language_info": {
      "name": "python"
    }
  },
  "cells": [
    {
      "cell_type": "markdown",
      "metadata": {
        "id": "view-in-github",
        "colab_type": "text"
      },
      "source": [
        "<a href=\"https://colab.research.google.com/github/plthiyagu/AI-Engineering/blob/master/01-Python/OS_Module_Python.ipynb\" target=\"_parent\"><img src=\"https://colab.research.google.com/assets/colab-badge.svg\" alt=\"Open In Colab\"/></a>"
      ]
    },
    {
      "cell_type": "markdown",
      "metadata": {
        "id": "zGxBBmqWipvD"
      },
      "source": [
        "https://www.analyticsvidhya.com/blog/2021/05/30-useful-methods-from-python-os-module/?utm_source=feedburner&utm_medium=email&utm_campaign=Feed%3A+AnalyticsVidhya+%28Analytics+Vidhya%29"
      ]
    },
    {
      "cell_type": "code",
      "metadata": {
        "id": "xxeElmBOiUJl"
      },
      "source": [
        "import os"
      ],
      "execution_count": 1,
      "outputs": []
    },
    {
      "cell_type": "markdown",
      "metadata": {
        "id": "i592xFDNkR7V"
      },
      "source": [
        "Gives the name of the imported operating system dependent module"
      ]
    },
    {
      "cell_type": "code",
      "metadata": {
        "colab": {
          "base_uri": "https://localhost:8080/",
          "height": 35
        },
        "id": "X1tMEU3fiXqc",
        "outputId": "2111d4cf-3a54-429b-f459-e0552731196c"
      },
      "source": [
        "os.name"
      ],
      "execution_count": 2,
      "outputs": [
        {
          "output_type": "execute_result",
          "data": {
            "application/vnd.google.colaboratory.intrinsic+json": {
              "type": "string"
            },
            "text/plain": [
              "'posix'"
            ]
          },
          "metadata": {
            "tags": []
          },
          "execution_count": 2
        }
      ]
    },
    {
      "cell_type": "markdown",
      "metadata": {
        "id": "IB-pc-k1kWmR"
      },
      "source": [
        "It is the environment error class for I/O and OSError. It is raised when any function returns any system related error\n"
      ]
    },
    {
      "cell_type": "code",
      "metadata": {
        "colab": {
          "base_uri": "https://localhost:8080/"
        },
        "id": "i4MGTZO3iY9k",
        "outputId": "7aa37409-a50c-41d0-c675-c0f7d079d6a0"
      },
      "source": [
        "os.error"
      ],
      "execution_count": 3,
      "outputs": [
        {
          "output_type": "execute_result",
          "data": {
            "text/plain": [
              "OSError"
            ]
          },
          "metadata": {
            "tags": []
          },
          "execution_count": 3
        }
      ]
    },
    {
      "cell_type": "markdown",
      "metadata": {
        "id": "Mb7hiIUekc5O"
      },
      "source": [
        "Gives the system dependent version information"
      ]
    },
    {
      "cell_type": "code",
      "metadata": {
        "colab": {
          "base_uri": "https://localhost:8080/"
        },
        "id": "9msCoNygiboU",
        "outputId": "57e539e4-1ca6-4990-b7d3-f45aeaeb5018"
      },
      "source": [
        "os.uname()"
      ],
      "execution_count": 4,
      "outputs": [
        {
          "output_type": "execute_result",
          "data": {
            "text/plain": [
              "posix.uname_result(sysname='Linux', nodename='28f7c1acc2bc', release='5.4.109+', version='#1 SMP Tue Apr 20 19:55:43 PDT 2021', machine='x86_64')"
            ]
          },
          "metadata": {
            "tags": []
          },
          "execution_count": 4
        }
      ]
    },
    {
      "cell_type": "markdown",
      "metadata": {
        "id": "fP-KvobMmAty"
      },
      "source": [
        "This method returns the filename corresponding to the controlling terminal of the process"
      ]
    },
    {
      "cell_type": "code",
      "metadata": {
        "colab": {
          "base_uri": "https://localhost:8080/",
          "height": 35
        },
        "id": "l8OMjcvxifpq",
        "outputId": "63bb0d9d-a630-4b28-b521-25ca41d16d97"
      },
      "source": [
        "os.ctermid()"
      ],
      "execution_count": 6,
      "outputs": [
        {
          "output_type": "execute_result",
          "data": {
            "application/vnd.google.colaboratory.intrinsic+json": {
              "type": "string"
            },
            "text/plain": [
              "'/dev/tty'"
            ]
          },
          "metadata": {
            "tags": []
          },
          "execution_count": 6
        }
      ]
    },
    {
      "cell_type": "markdown",
      "metadata": {
        "id": "X2FbM1rZnLwR"
      },
      "source": [
        "It is a mapping object that represents the string environment. This mapping is captured when the os module is initially imported and the changes made thereafter in the environment is not reflected except for the ones that are made by directly modifying os.environ .\n"
      ]
    },
    {
      "cell_type": "code",
      "metadata": {
        "colab": {
          "base_uri": "https://localhost:8080/"
        },
        "id": "Og24E6nZisHz",
        "outputId": "323c771d-985b-4375-9551-05f3a508dd47"
      },
      "source": [
        "os.environ"
      ],
      "execution_count": 15,
      "outputs": [
        {
          "output_type": "execute_result",
          "data": {
            "text/plain": [
              "environ({'NO_GCE_CHECK': 'True', 'GCS_READ_CACHE_BLOCK_SIZE_MB': '16', 'CLOUDSDK_CONFIG': '/content/.config', 'CUDA_VERSION': '11.0.3', 'PATH': '/usr/local/nvidia/bin:/usr/local/cuda/bin:/usr/local/sbin:/usr/local/bin:/usr/sbin:/usr/bin:/sbin:/bin:/tools/node/bin:/tools/google-cloud-sdk/bin:/opt/bin', 'HOME': '/root', 'LD_LIBRARY_PATH': '/usr/local/nvidia/lib:/usr/local/nvidia/lib64', 'LANG': 'en_US.UTF-8', 'SHELL': '/bin/bash', 'LIBRARY_PATH': '/usr/local/cuda/lib64/stubs', 'SHLVL': '0', 'GCE_METADATA_TIMEOUT': '0', 'NCCL_VERSION': '2.7.8', 'NVIDIA_VISIBLE_DEVICES': 'all', 'DEBIAN_FRONTEND': 'noninteractive', 'CUDNN_VERSION': '8.0.4.30', 'LAST_FORCED_REBUILD': '20210504', 'JPY_PARENT_PID': '46', 'PYTHONPATH': '/env/python', 'DATALAB_SETTINGS_OVERRIDES': '{\"kernelManagerProxyPort\":6000,\"kernelManagerProxyHost\":\"172.28.0.3\",\"jupyterArgs\":[\"--ip=\\\\\"172.28.0.2\\\\\"\"],\"debugAdapterMultiplexerPath\":\"/usr/local/bin/dap_multiplexer\"}', 'ENV': '/root/.bashrc', 'GLIBCXX_FORCE_NEW': '1', 'NVIDIA_DRIVER_CAPABILITIES': 'compute,utility', 'TF_FORCE_GPU_ALLOW_GROWTH': 'true', 'LD_PRELOAD': '/usr/lib/x86_64-linux-gnu/libtcmalloc.so.4', 'NVIDIA_REQUIRE_CUDA': 'cuda>=11.0 brand=tesla,driver>=418,driver<419 brand=tesla,driver>=440,driver<441 brand=tesla,driver>=450,driver<451', 'OLDPWD': '/', 'HOSTNAME': '28f7c1acc2bc', 'COLAB_GPU': '0', 'PWD': '/', 'CLOUDSDK_PYTHON': 'python3', 'GLIBCPP_FORCE_NEW': '1', 'PYTHONWARNINGS': 'ignore:::pip._internal.cli.base_command', 'TBE_CREDS_ADDR': '172.28.0.1:8008', 'TERM': 'xterm-color', 'CLICOLOR': '1', 'PAGER': 'cat', 'GIT_PAGER': 'cat', 'MPLBACKEND': 'module://ipykernel.pylab.backend_inline', 'PYDEVD_USE_FRAME_EVAL': 'NO'})"
            ]
          },
          "metadata": {
            "tags": []
          },
          "execution_count": 15
        }
      ]
    },
    {
      "cell_type": "code",
      "metadata": {
        "id": "o8cr07sJmRbV"
      },
      "source": [
        "os.environ.get('USER')"
      ],
      "execution_count": 17,
      "outputs": []
    },
    {
      "cell_type": "markdown",
      "metadata": {
        "id": "3tGrI6BnmdrS"
      },
      "source": [
        "If there isn’t an environment variable matching the key, it’ll return None:"
      ]
    },
    {
      "cell_type": "code",
      "metadata": {
        "id": "y0gBg_FTmZZR"
      },
      "source": [
        "os.environ.get('Nonexistent-variable')"
      ],
      "execution_count": 18,
      "outputs": []
    },
    {
      "cell_type": "markdown",
      "metadata": {
        "id": "YeqDJBy_mjoH"
      },
      "source": [
        "How to Set Environment Variables in Python?"
      ]
    },
    {
      "cell_type": "code",
      "metadata": {
        "id": "Hjfw2xmLml0G"
      },
      "source": [
        "os.environ['USER'] = 'Thiyagu'"
      ],
      "execution_count": 19,
      "outputs": []
    },
    {
      "cell_type": "markdown",
      "metadata": {
        "id": "HvVj15olnVzi"
      },
      "source": [
        "This method returns the value of the environment variable key if it exists and if it does not exist then the default value is returned.\n",
        "\n"
      ]
    },
    {
      "cell_type": "code",
      "metadata": {
        "colab": {
          "base_uri": "https://localhost:8080/",
          "height": 35
        },
        "id": "LHJvlJEWivEj",
        "outputId": "5edfd414-3d9f-47aa-efb2-b4876786693d"
      },
      "source": [
        "os.getenv('USER',default=None)"
      ],
      "execution_count": 21,
      "outputs": [
        {
          "output_type": "execute_result",
          "data": {
            "application/vnd.google.colaboratory.intrinsic+json": {
              "type": "string"
            },
            "text/plain": [
              "'Thiyagu'"
            ]
          },
          "metadata": {
            "tags": []
          },
          "execution_count": 21
        }
      ]
    },
    {
      "cell_type": "markdown",
      "metadata": {
        "id": "1V6s1foMm3eJ"
      },
      "source": [
        "If you need to clear a single environment variable in the session you can use os.environ.pop()  with the key and if you need to clear all environment variables you can use os.environ.clear()\n"
      ]
    },
    {
      "cell_type": "code",
      "metadata": {
        "id": "TlD0hI4um4c7"
      },
      "source": [
        "os.environ.pop('USER')\n",
        "os.environ.clear()"
      ],
      "execution_count": 22,
      "outputs": []
    },
    {
      "cell_type": "markdown",
      "metadata": {
        "id": "zt4qSX7knaUe"
      },
      "source": [
        "This method returns the location of the current working directory (CWD). The CWD is the folder in which the python script is operating.\n",
        "\n"
      ]
    },
    {
      "cell_type": "code",
      "metadata": {
        "colab": {
          "base_uri": "https://localhost:8080/",
          "height": 35
        },
        "id": "OztRsfEKi2aK",
        "outputId": "49c0f96d-b7cf-448e-87a6-da866f37dc85"
      },
      "source": [
        "os.getcwd()"
      ],
      "execution_count": 11,
      "outputs": [
        {
          "output_type": "execute_result",
          "data": {
            "application/vnd.google.colaboratory.intrinsic+json": {
              "type": "string"
            },
            "text/plain": [
              "'/content'"
            ]
          },
          "metadata": {
            "tags": []
          },
          "execution_count": 11
        }
      ]
    },
    {
      "cell_type": "markdown",
      "metadata": {
        "id": "P1qhGYkfncEa"
      },
      "source": [
        "This method returns a list of all the files and folders present inside the specified directory. If no directory is specified then the list of files and folders inside the CWD is returned.\n",
        "\n"
      ]
    },
    {
      "cell_type": "code",
      "metadata": {
        "colab": {
          "base_uri": "https://localhost:8080/"
        },
        "id": "0XrbLyZHjF8r",
        "outputId": "9d8b8477-d1ea-4ba4-c976-f09b6ab6ba9d"
      },
      "source": [
        "os.listdir()"
      ],
      "execution_count": 12,
      "outputs": [
        {
          "output_type": "execute_result",
          "data": {
            "text/plain": [
              "['.config', 'sample_data']"
            ]
          },
          "metadata": {
            "tags": []
          },
          "execution_count": 12
        }
      ]
    },
    {
      "cell_type": "markdown",
      "metadata": {
        "id": "7-uwC9M3ngdc"
      },
      "source": [
        "It is used for changing the CWD. It changes CWD to the specified path.\n",
        "\n"
      ]
    },
    {
      "cell_type": "code",
      "metadata": {
        "colab": {
          "base_uri": "https://localhost:8080/",
          "height": 163
        },
        "id": "IKJEnO9zj4FH",
        "outputId": "27454ad6-d0a2-4cf6-a155-715e0db2bbd3"
      },
      "source": [
        "os.chdir()"
      ],
      "execution_count": 13,
      "outputs": [
        {
          "output_type": "error",
          "ename": "TypeError",
          "evalue": "ignored",
          "traceback": [
            "\u001b[0;31m---------------------------------------------------------------------------\u001b[0m",
            "\u001b[0;31mTypeError\u001b[0m                                 Traceback (most recent call last)",
            "\u001b[0;32m<ipython-input-13-f96d23f60c03>\u001b[0m in \u001b[0;36m<module>\u001b[0;34m()\u001b[0m\n\u001b[0;32m----> 1\u001b[0;31m \u001b[0mos\u001b[0m\u001b[0;34m.\u001b[0m\u001b[0mchdir\u001b[0m\u001b[0;34m(\u001b[0m\u001b[0;34m)\u001b[0m\u001b[0;34m\u001b[0m\u001b[0;34m\u001b[0m\u001b[0m\n\u001b[0m",
            "\u001b[0;31mTypeError\u001b[0m: chdir() missing required argument 'path' (pos 1)"
          ]
        }
      ]
    },
    {
      "cell_type": "markdown",
      "metadata": {
        "id": "MO9ebBTWnkp9"
      },
      "source": [
        "This method creates a new directory according to the specified path. In case the specified directory already exists a FileExistsError is raised.\n"
      ]
    },
    {
      "cell_type": "code",
      "metadata": {
        "id": "dWVUZds5j7HN"
      },
      "source": [
        "os.mkdir('Thiyagu')"
      ],
      "execution_count": 26,
      "outputs": []
    },
    {
      "cell_type": "markdown",
      "metadata": {
        "id": "Arz8v1ypnrBH"
      },
      "source": [
        "This method creates a directory recursively. It means that while creating a leaf directory if any of the intermediate level directories specified in the path is missing then the method creates them all.\n",
        "\n"
      ]
    },
    {
      "cell_type": "code",
      "metadata": {
        "colab": {
          "base_uri": "https://localhost:8080/",
          "height": 163
        },
        "id": "YiJ9sXNFj-uC",
        "outputId": "eaa487db-ba68-4212-90f8-3746d4ad223c"
      },
      "source": [
        "os.makekdirs()"
      ],
      "execution_count": 24,
      "outputs": [
        {
          "output_type": "error",
          "ename": "AttributeError",
          "evalue": "ignored",
          "traceback": [
            "\u001b[0;31m---------------------------------------------------------------------------\u001b[0m",
            "\u001b[0;31mAttributeError\u001b[0m                            Traceback (most recent call last)",
            "\u001b[0;32m<ipython-input-24-74f526c4fa6a>\u001b[0m in \u001b[0;36m<module>\u001b[0;34m()\u001b[0m\n\u001b[0;32m----> 1\u001b[0;31m \u001b[0mos\u001b[0m\u001b[0;34m.\u001b[0m\u001b[0mmakekdirs\u001b[0m\u001b[0;34m(\u001b[0m\u001b[0;34m)\u001b[0m\u001b[0;34m\u001b[0m\u001b[0;34m\u001b[0m\u001b[0m\n\u001b[0m",
            "\u001b[0;31mAttributeError\u001b[0m: module 'os' has no attribute 'makekdirs'"
          ]
        }
      ]
    },
    {
      "cell_type": "markdown",
      "metadata": {
        "id": "xesAk-PBn26H"
      },
      "source": [
        "This method deletes a file path. It cannot delete a directory. In case the specified path is that of a directory then the OSError is raised.\n",
        "\n"
      ]
    },
    {
      "cell_type": "code",
      "metadata": {
        "colab": {
          "base_uri": "https://localhost:8080/",
          "height": 163
        },
        "id": "1KQsD_Xxn2On",
        "outputId": "71d6c1d2-c0ab-4d4e-aad5-aa52d9e6289e"
      },
      "source": [
        "os.remove()"
      ],
      "execution_count": 25,
      "outputs": [
        {
          "output_type": "error",
          "ename": "TypeError",
          "evalue": "ignored",
          "traceback": [
            "\u001b[0;31m---------------------------------------------------------------------------\u001b[0m",
            "\u001b[0;31mTypeError\u001b[0m                                 Traceback (most recent call last)",
            "\u001b[0;32m<ipython-input-25-0fc4b20047ac>\u001b[0m in \u001b[0;36m<module>\u001b[0;34m()\u001b[0m\n\u001b[0;32m----> 1\u001b[0;31m \u001b[0mos\u001b[0m\u001b[0;34m.\u001b[0m\u001b[0mremove\u001b[0m\u001b[0;34m(\u001b[0m\u001b[0;34m)\u001b[0m\u001b[0;34m\u001b[0m\u001b[0;34m\u001b[0m\u001b[0m\n\u001b[0m",
            "\u001b[0;31mTypeError\u001b[0m: remove() missing required argument 'path' (pos 1)"
          ]
        }
      ]
    },
    {
      "cell_type": "markdown",
      "metadata": {
        "id": "vuQ1YuBQtCuK"
      },
      "source": [
        "This method is used for deleting an empty directory. If the path does not correspond to an empty directory then OSError is raised.\n",
        "\n"
      ]
    },
    {
      "cell_type": "code",
      "metadata": {
        "id": "Hm2Aa8tli0nj"
      },
      "source": [
        "os.rmdir('Thiyagu')"
      ],
      "execution_count": 27,
      "outputs": []
    },
    {
      "cell_type": "markdown",
      "metadata": {
        "id": "799ppaJHtTqT"
      },
      "source": [
        "This method generates the filenames in a directory tree by walking the tree in either a top-down or bottom-up manner. os.walk returns a generator that creates a tuple of values (dirpath, dirnames, filenames)\n",
        "\n"
      ]
    },
    {
      "cell_type": "code",
      "metadata": {
        "colab": {
          "base_uri": "https://localhost:8080/"
        },
        "id": "MQCXYKh5ijlT",
        "outputId": "9e0945d8-4f3e-433e-84a9-79346df82ab0"
      },
      "source": [
        "for dirpath,dirnames,filepath in os.walk('/content'):\n",
        "  print(dirpath)\n",
        "  print(dirnames)\n",
        "  print(filepath)"
      ],
      "execution_count": 28,
      "outputs": [
        {
          "output_type": "stream",
          "text": [
            "/content\n",
            "['.config', 'sample_data']\n",
            "[]\n",
            "/content/.config\n",
            "['configurations', 'logs']\n",
            "['config_sentinel', '.last_survey_prompt.yaml', 'gce', '.last_opt_in_prompt.yaml', '.last_update_check.json', 'active_config']\n",
            "/content/.config/configurations\n",
            "[]\n",
            "['config_default']\n",
            "/content/.config/logs\n",
            "['2021.05.06']\n",
            "[]\n",
            "/content/.config/logs/2021.05.06\n",
            "[]\n",
            "['13.44.00.991142.log', '13.43.44.620859.log', '13.43.23.909017.log', '13.43.04.692209.log', '13.44.01.543195.log', '13.43.39.026092.log']\n",
            "/content/sample_data\n",
            "[]\n",
            "['README.md', 'anscombe.json', 'mnist_train_small.csv', 'california_housing_test.csv', 'mnist_test.csv', 'california_housing_train.csv']\n"
          ],
          "name": "stdout"
        }
      ]
    },
    {
      "cell_type": "markdown",
      "metadata": {
        "id": "6ISrLViqtrG_"
      },
      "source": [
        "This method joins various path components with exactly one directory separator (“/”) following each non-empty part except for the last path component. If the last path component is empty then a directory separator (“/”) is put at the end. This method returns a string with the concatenated path.\n",
        "\n"
      ]
    },
    {
      "cell_type": "code",
      "metadata": {
        "colab": {
          "base_uri": "https://localhost:8080/"
        },
        "id": "dHq5NUCBtk5Y",
        "outputId": "373446fe-f137-4371-a4bf-bd578b406a7a"
      },
      "source": [
        "base_path=\"/content\"\n",
        "print(base_path)\n",
        "new_path =os.path.join(base_path,\"Thiyagu\")\n",
        "print(new_path)"
      ],
      "execution_count": 30,
      "outputs": [
        {
          "output_type": "stream",
          "text": [
            "/content\n",
            "/content/Thiyagu\n"
          ],
          "name": "stdout"
        }
      ]
    },
    {
      "cell_type": "markdown",
      "metadata": {
        "id": "UXn7ZBlBusLi"
      },
      "source": [
        "This method is used to get the base name in a specified path. The method returns a string value that represents the base name of the specified path.\n",
        "\n"
      ]
    },
    {
      "cell_type": "code",
      "metadata": {
        "colab": {
          "base_uri": "https://localhost:8080/",
          "height": 35
        },
        "id": "ZNVkrmQHuB-W",
        "outputId": "a87c36d6-f78d-4182-ea98-e05152b98284"
      },
      "source": [
        "os.path.basename('/content/Thiyagu')"
      ],
      "execution_count": 31,
      "outputs": [
        {
          "output_type": "execute_result",
          "data": {
            "application/vnd.google.colaboratory.intrinsic+json": {
              "type": "string"
            },
            "text/plain": [
              "'Thiyagu'"
            ]
          },
          "metadata": {
            "tags": []
          },
          "execution_count": 31
        }
      ]
    },
    {
      "cell_type": "markdown",
      "metadata": {
        "id": "1FGHqR54vIcL"
      },
      "source": [
        "This method splits the pathname into a pair of head and tail. Here, the tail is the last pathname component and the head is everything that comes before it. The method returns a tuple of the head and tail of the specified path.\n"
      ]
    },
    {
      "cell_type": "code",
      "metadata": {
        "colab": {
          "base_uri": "https://localhost:8080/"
        },
        "id": "nkj_nmr0vDLN",
        "outputId": "23d5cfc3-6476-43b3-aca7-aacca0d2833b"
      },
      "source": [
        "os.path.split('/content/Thiyagu')"
      ],
      "execution_count": 32,
      "outputs": [
        {
          "output_type": "execute_result",
          "data": {
            "text/plain": [
              "('/content', 'Thiyagu')"
            ]
          },
          "metadata": {
            "tags": []
          },
          "execution_count": 32
        }
      ]
    },
    {
      "cell_type": "markdown",
      "metadata": {
        "id": "5p1UWcKyvWg-"
      },
      "source": [
        "This method returns the directory name from the path given.\n",
        "\n"
      ]
    },
    {
      "cell_type": "code",
      "metadata": {
        "colab": {
          "base_uri": "https://localhost:8080/",
          "height": 35
        },
        "id": "nn_xXkdOvQCK",
        "outputId": "50fed40d-556b-4214-d9aa-d38da50fb8e9"
      },
      "source": [
        "os.path.dirname(\"/content/Thiyagu\")"
      ],
      "execution_count": 33,
      "outputs": [
        {
          "output_type": "execute_result",
          "data": {
            "application/vnd.google.colaboratory.intrinsic+json": {
              "type": "string"
            },
            "text/plain": [
              "'/content'"
            ]
          },
          "metadata": {
            "tags": []
          },
          "execution_count": 33
        }
      ]
    },
    {
      "cell_type": "markdown",
      "metadata": {
        "id": "Q1Ac_URsxQ_w"
      },
      "source": [
        "This method returns the longest path prefix which is a prefix for all the paths in the specified list.\n",
        "\n"
      ]
    },
    {
      "cell_type": "code",
      "metadata": {
        "colab": {
          "base_uri": "https://localhost:8080/",
          "height": 35
        },
        "id": "Fex4pZievifI",
        "outputId": "24c0eacc-125b-47fc-8201-2d2b6e06eaa2"
      },
      "source": [
        "os.path.commonprefix(['/content','/content/Thiyagu','/content/Thiyagu/NewFolder'])"
      ],
      "execution_count": 36,
      "outputs": [
        {
          "output_type": "execute_result",
          "data": {
            "application/vnd.google.colaboratory.intrinsic+json": {
              "type": "string"
            },
            "text/plain": [
              "'/content'"
            ]
          },
          "metadata": {
            "tags": []
          },
          "execution_count": 36
        }
      ]
    },
    {
      "cell_type": "markdown",
      "metadata": {
        "id": "zV3MWQ8WxxuC"
      },
      "source": [
        "This method returns the time of the last modification of the path.\n",
        "\n"
      ]
    },
    {
      "cell_type": "code",
      "metadata": {
        "colab": {
          "base_uri": "https://localhost:8080/"
        },
        "id": "iWgft0zexnwY",
        "outputId": "c36689c6-a94d-4c0c-ab77-52fe47390600"
      },
      "source": [
        "os.path.getmtime(\"/content\")"
      ],
      "execution_count": 38,
      "outputs": [
        {
          "output_type": "execute_result",
          "data": {
            "text/plain": [
              "1621278129.3354576"
            ]
          },
          "metadata": {
            "tags": []
          },
          "execution_count": 38
        }
      ]
    },
    {
      "cell_type": "markdown",
      "metadata": {
        "id": "4VX_pSQayAPn"
      },
      "source": [
        "This method returns the time of the last access of the path.\n",
        "\n"
      ]
    },
    {
      "cell_type": "code",
      "metadata": {
        "colab": {
          "base_uri": "https://localhost:8080/"
        },
        "id": "P203DdDLx7-t",
        "outputId": "41f99ddf-1d06-4e0f-8635-cf061a4b7637"
      },
      "source": [
        "os.path.getatime(\"/content\")"
      ],
      "execution_count": 39,
      "outputs": [
        {
          "output_type": "execute_result",
          "data": {
            "text/plain": [
              "1621278156.58485"
            ]
          },
          "metadata": {
            "tags": []
          },
          "execution_count": 39
        }
      ]
    },
    {
      "cell_type": "markdown",
      "metadata": {
        "id": "otCy_vWzyDpp"
      },
      "source": [
        "This method returns the ctime which is the time of the last change(Unix) or time of creation(Windows) depending on the system.\n",
        "\n"
      ]
    },
    {
      "cell_type": "code",
      "metadata": {
        "colab": {
          "base_uri": "https://localhost:8080/"
        },
        "id": "qr_Im-fCx47d",
        "outputId": "21a3455e-4925-4ffa-9639-8ddee12af1e7"
      },
      "source": [
        "os.path.getctime(\"/content\")"
      ],
      "execution_count": 40,
      "outputs": [
        {
          "output_type": "execute_result",
          "data": {
            "text/plain": [
              "1621278129.3354576"
            ]
          },
          "metadata": {
            "tags": []
          },
          "execution_count": 40
        }
      ]
    },
    {
      "cell_type": "markdown",
      "metadata": {
        "id": "L4LRA0YwzABj"
      },
      "source": [
        "This method returns a normalised absolute version of the specified path.\n",
        "\n"
      ]
    },
    {
      "cell_type": "code",
      "metadata": {
        "colab": {
          "base_uri": "https://localhost:8080/",
          "height": 35
        },
        "id": "biJBY8LByJB9",
        "outputId": "adab7e0c-2fb3-4013-92b9-741afc7b8aab"
      },
      "source": [
        "os.path.abspath('/content')"
      ],
      "execution_count": 42,
      "outputs": [
        {
          "output_type": "execute_result",
          "data": {
            "application/vnd.google.colaboratory.intrinsic+json": {
              "type": "string"
            },
            "text/plain": [
              "'/content'"
            ]
          },
          "metadata": {
            "tags": []
          },
          "execution_count": 42
        }
      ]
    },
    {
      "cell_type": "markdown",
      "metadata": {
        "id": "6nTqMkOnzIQ1"
      },
      "source": [
        "This method normalises the specified path name by collapsing redundant separators and up-level references.\n",
        "\n"
      ]
    },
    {
      "cell_type": "code",
      "metadata": {
        "colab": {
          "base_uri": "https://localhost:8080/",
          "height": 35
        },
        "id": "ja-WNB9DzEKD",
        "outputId": "62249b60-4db5-469e-fdf1-30662445bed3"
      },
      "source": [
        "os.path.normpath('/content//thiyagu')"
      ],
      "execution_count": 44,
      "outputs": [
        {
          "output_type": "execute_result",
          "data": {
            "application/vnd.google.colaboratory.intrinsic+json": {
              "type": "string"
            },
            "text/plain": [
              "'/content/thiyagu'"
            ]
          },
          "metadata": {
            "tags": []
          },
          "execution_count": 44
        }
      ]
    },
    {
      "cell_type": "markdown",
      "metadata": {
        "id": "6pkomzEOzRcp"
      },
      "source": [
        "This method normalises the case of the specified pathname.\n",
        "\n"
      ]
    },
    {
      "cell_type": "markdown",
      "metadata": {
        "id": "uI_a0haDzXr9"
      },
      "source": [
        "This method checks whether the specified path corresponds to an existing file or not. This method returns a boolean value.\n",
        "\n"
      ]
    },
    {
      "cell_type": "code",
      "metadata": {
        "colab": {
          "base_uri": "https://localhost:8080/"
        },
        "id": "pdoufTpEzME3",
        "outputId": "1092a275-0108-418b-e927-921d95a80257"
      },
      "source": [
        "os.path.isfile('/content')"
      ],
      "execution_count": 45,
      "outputs": [
        {
          "output_type": "execute_result",
          "data": {
            "text/plain": [
              "False"
            ]
          },
          "metadata": {
            "tags": []
          },
          "execution_count": 45
        }
      ]
    },
    {
      "cell_type": "markdown",
      "metadata": {
        "id": "WxAgrDLxzgJX"
      },
      "source": [
        "This methods checks and reports whether the specified pathname corresponds to an existing directory or not. The method returns a boolean value."
      ]
    },
    {
      "cell_type": "code",
      "metadata": {
        "colab": {
          "base_uri": "https://localhost:8080/"
        },
        "id": "4qLuMOeXzdDS",
        "outputId": "fcefd0e2-ac7b-41d5-ad62-8e39a52a73db"
      },
      "source": [
        "os.path.isdir('/content')"
      ],
      "execution_count": 46,
      "outputs": [
        {
          "output_type": "execute_result",
          "data": {
            "text/plain": [
              "True"
            ]
          },
          "metadata": {
            "tags": []
          },
          "execution_count": 46
        }
      ]
    },
    {
      "cell_type": "markdown",
      "metadata": {
        "id": "xXYByV-00LWT"
      },
      "source": [
        "This method specifies whether the given path is absolute or not.\n",
        "\n"
      ]
    },
    {
      "cell_type": "code",
      "metadata": {
        "colab": {
          "base_uri": "https://localhost:8080/"
        },
        "id": "7p6smuXhzfLm",
        "outputId": "73a2e2d1-5c9b-438e-8419-7cc23a58e739"
      },
      "source": [
        "os.path.isabs('/content/')"
      ],
      "execution_count": 47,
      "outputs": [
        {
          "output_type": "execute_result",
          "data": {
            "text/plain": [
              "True"
            ]
          },
          "metadata": {
            "tags": []
          },
          "execution_count": 47
        }
      ]
    },
    {
      "cell_type": "markdown",
      "metadata": {
        "id": "yGeqVXVd0Xw5"
      },
      "source": [
        "This method returns True for existing paths. It returns False for broken symbolic links.\n",
        "\n"
      ]
    },
    {
      "cell_type": "code",
      "metadata": {
        "colab": {
          "base_uri": "https://localhost:8080/"
        },
        "id": "aLi0KSRn0Tln",
        "outputId": "4a262b53-befd-430a-f17b-2ac23bc5e5f0"
      },
      "source": [
        "os.path.exists('/content')"
      ],
      "execution_count": 48,
      "outputs": [
        {
          "output_type": "execute_result",
          "data": {
            "text/plain": [
              "True"
            ]
          },
          "metadata": {
            "tags": []
          },
          "execution_count": 48
        }
      ]
    },
    {
      "cell_type": "code",
      "metadata": {
        "id": "-iElr5jO0a7F"
      },
      "source": [
        ""
      ],
      "execution_count": null,
      "outputs": []
    },
    {
      "cell_type": "code",
      "metadata": {
        "id": "Gih5GF06zCgW"
      },
      "source": [
        ""
      ],
      "execution_count": null,
      "outputs": []
    },
    {
      "cell_type": "code",
      "metadata": {
        "id": "nPo1UtSLxd__"
      },
      "source": [
        ""
      ],
      "execution_count": null,
      "outputs": []
    }
  ]
}