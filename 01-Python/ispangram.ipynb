{
  "nbformat": 4,
  "nbformat_minor": 0,
  "metadata": {
    "colab": {
      "name": "ispangram.ipynb",
      "provenance": [],
      "authorship_tag": "ABX9TyOMFGHt94KAiDEKaq7FrgSW",
      "include_colab_link": true
    },
    "kernelspec": {
      "name": "python3",
      "display_name": "Python 3"
    }
  },
  "cells": [
    {
      "cell_type": "markdown",
      "metadata": {
        "id": "view-in-github",
        "colab_type": "text"
      },
      "source": [
        "<a href=\"https://colab.research.google.com/github/plthiyagu/Personnel/blob/master/ispangram.ipynb\" target=\"_parent\"><img src=\"https://colab.research.google.com/assets/colab-badge.svg\" alt=\"Open In Colab\"/></a>"
      ]
    },
    {
      "cell_type": "code",
      "metadata": {
        "id": "c2CXnhp46bh3"
      },
      "source": [
        "import string\n",
        "def ispangram(str1,alphabet=string.ascii_lowercase):\n",
        "    # Create a set of the alphabet\n",
        "    alphaset = set(alphabet)  \n",
        "\n",
        "    str1= str1.replace(' ','')\n",
        "\n",
        "    str1 = str1.lower()\n",
        "\n",
        "    str1= set(str1)\n",
        "\n",
        "    return str1 == alphaset"
      ],
      "execution_count": 1,
      "outputs": []
    },
    {
      "cell_type": "code",
      "metadata": {
        "id": "QToPxAvq8qHM",
        "outputId": "d7d9e92c-009d-4137-96b4-71dc41003e08",
        "colab": {
          "base_uri": "https://localhost:8080/",
          "height": 34
        }
      },
      "source": [
        "ispangram(\"The quick brown fox jumps over the lazy dog\")"
      ],
      "execution_count": 2,
      "outputs": [
        {
          "output_type": "execute_result",
          "data": {
            "text/plain": [
              "True"
            ]
          },
          "metadata": {
            "tags": []
          },
          "execution_count": 2
        }
      ]
    },
    {
      "cell_type": "code",
      "metadata": {
        "id": "YIJuSlbk8r9J"
      },
      "source": [
        ""
      ],
      "execution_count": null,
      "outputs": []
    }
  ]
}