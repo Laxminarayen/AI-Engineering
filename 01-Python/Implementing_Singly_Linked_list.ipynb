{
  "nbformat": 4,
  "nbformat_minor": 0,
  "metadata": {
    "colab": {
      "name": "Implementing Singly Linked list.ipynb",
      "provenance": [],
      "authorship_tag": "ABX9TyMiXdwm6NGPwReGzpEc2HQY",
      "include_colab_link": true
    },
    "kernelspec": {
      "name": "python3",
      "display_name": "Python 3"
    },
    "language_info": {
      "name": "python"
    }
  },
  "cells": [
    {
      "cell_type": "markdown",
      "metadata": {
        "id": "view-in-github",
        "colab_type": "text"
      },
      "source": [
        "<a href=\"https://colab.research.google.com/github/plthiyagu/AI-Engineering/blob/master/01-Python/Implementing_Singly_Linked_list.ipynb\" target=\"_parent\"><img src=\"https://colab.research.google.com/assets/colab-badge.svg\" alt=\"Open In Colab\"/></a>"
      ]
    },
    {
      "cell_type": "code",
      "metadata": {
        "id": "KL-V-BAvrDXM"
      },
      "source": [
        "class Node:\n",
        "  def __init__(self,value):\n",
        "    self.value= value\n",
        "    self.next =None"
      ],
      "execution_count": 1,
      "outputs": []
    },
    {
      "cell_type": "code",
      "metadata": {
        "id": "JmBhgPt5rYxR"
      },
      "source": [
        "node1 = Node(10)\n",
        "node2=Node(20)\n",
        "node3=Node(30)\n",
        "\n",
        "\n",
        "node1.next=node2\n",
        "node2.next=node3\n",
        "node3.next=None"
      ],
      "execution_count": 4,
      "outputs": []
    },
    {
      "cell_type": "code",
      "metadata": {
        "colab": {
          "base_uri": "https://localhost:8080/"
        },
        "id": "60bj5BFPrkKZ",
        "outputId": "370d09e8-25e9-475d-c3b4-6c071db4cc58"
      },
      "source": [
        "node1.next.value"
      ],
      "execution_count": 5,
      "outputs": [
        {
          "output_type": "execute_result",
          "data": {
            "text/plain": [
              "20"
            ]
          },
          "metadata": {
            "tags": []
          },
          "execution_count": 5
        }
      ]
    },
    {
      "cell_type": "markdown",
      "metadata": {
        "id": "fPcRzMhgvBj-"
      },
      "source": [
        "##Implementing Doubly Linked list"
      ]
    },
    {
      "cell_type": "code",
      "metadata": {
        "id": "8Q5XkVktrlxV"
      },
      "source": [
        "class Node():\n",
        "    def __init__(self,value):\n",
        "        self.prev=None\n",
        "        self.value=value\n",
        "        self.next=None"
      ],
      "execution_count": 6,
      "outputs": []
    },
    {
      "cell_type": "code",
      "metadata": {
        "id": "LqXHNZDQuxKm"
      },
      "source": [
        "node1=Node(10)\n",
        "node2=Node(20)\n",
        "node3=Node(30)"
      ],
      "execution_count": 7,
      "outputs": []
    },
    {
      "cell_type": "code",
      "metadata": {
        "id": "FzHWV5ExuzSs"
      },
      "source": [
        "node1.next = node2\n",
        "node2.next= None"
      ],
      "execution_count": 8,
      "outputs": []
    },
    {
      "cell_type": "code",
      "metadata": {
        "id": "FhhL_PJxu3Sg"
      },
      "source": [
        "node2.next=node3\n",
        "node2.prev=node1\n",
        "\n",
        "node3.next=None\n",
        "node3.prev=node2"
      ],
      "execution_count": 9,
      "outputs": []
    },
    {
      "cell_type": "code",
      "metadata": {
        "colab": {
          "base_uri": "https://localhost:8080/"
        },
        "id": "LVf4NRwlu5ik",
        "outputId": "0d766ac7-8213-4e3e-c009-41b0d7c97cd4"
      },
      "source": [
        "print(node2.prev.value)\n",
        "print(node2.value)\n",
        "print(node2.next.value)"
      ],
      "execution_count": 10,
      "outputs": [
        {
          "output_type": "stream",
          "text": [
            "10\n",
            "20\n",
            "30\n"
          ],
          "name": "stdout"
        }
      ]
    },
    {
      "cell_type": "markdown",
      "metadata": {
        "id": "hVSH7S0YvFU0"
      },
      "source": [
        "## Implementing Circular Linked list"
      ]
    },
    {
      "cell_type": "code",
      "metadata": {
        "id": "f_1UbFx4u75P"
      },
      "source": [
        "class Node():\n",
        "    def __init__(self,value):\n",
        "        self.value=value\n",
        "        self.next=None"
      ],
      "execution_count": 12,
      "outputs": []
    },
    {
      "cell_type": "code",
      "metadata": {
        "id": "Mvy9Y2I8xXMd"
      },
      "source": [
        "node1=Node(10)\n",
        "node2=Node(20)\n",
        "node3=Node(30)\n",
        "\n",
        "node1.next=node2\n",
        "node2.next=node3\n",
        "node3.next=node1"
      ],
      "execution_count": 13,
      "outputs": []
    },
    {
      "cell_type": "code",
      "metadata": {
        "colab": {
          "base_uri": "https://localhost:8080/"
        },
        "id": "8_e6boJBxwLk",
        "outputId": "c1914722-86fc-4587-a925-8e47bb1c5594"
      },
      "source": [
        "print(node3.next.value)\n",
        "print(node2.next.value)\n",
        "print(node1.next.value)"
      ],
      "execution_count": 14,
      "outputs": [
        {
          "output_type": "stream",
          "text": [
            "10\n",
            "30\n",
            "20\n"
          ],
          "name": "stdout"
        }
      ]
    },
    {
      "cell_type": "code",
      "metadata": {
        "id": "rK6cpmXvxyau"
      },
      "source": [
        "class Node():\n",
        "    def __init__(self,value):\n",
        "        self.prev=None\n",
        "        self.value=value\n",
        "        self.next=None"
      ],
      "execution_count": 15,
      "outputs": []
    },
    {
      "cell_type": "code",
      "metadata": {
        "id": "BFo29nz-x2Dk"
      },
      "source": [
        "node1.next=node2\n",
        "node1.prev=node3\n",
        "\n",
        "node2.next=node3\n",
        "node2.prev=node1\n",
        "\n",
        "node3.next=node1\n",
        "node3.prev=node2"
      ],
      "execution_count": 16,
      "outputs": []
    },
    {
      "cell_type": "code",
      "metadata": {
        "colab": {
          "base_uri": "https://localhost:8080/"
        },
        "id": "vczCObEMx4Zi",
        "outputId": "6d83e562-8025-471e-bb7d-e8a08389ef41"
      },
      "source": [
        "print(node3.next.value)\n",
        "print(node3.prev.value)\n",
        "print(node3.value)"
      ],
      "execution_count": 17,
      "outputs": [
        {
          "output_type": "stream",
          "text": [
            "10\n",
            "20\n",
            "30\n"
          ],
          "name": "stdout"
        }
      ]
    },
    {
      "cell_type": "code",
      "metadata": {
        "id": "ZyupI7WgrcGQ"
      },
      "source": [
        ""
      ],
      "execution_count": null,
      "outputs": []
    }
  ]
}