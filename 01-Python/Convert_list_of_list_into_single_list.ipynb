{
  "nbformat": 4,
  "nbformat_minor": 0,
  "metadata": {
    "colab": {
      "name": "Convert list of list into single list.ipynb",
      "provenance": [],
      "authorship_tag": "ABX9TyNoeGiq764AnjnIo+PMHD5z",
      "include_colab_link": true
    },
    "kernelspec": {
      "name": "python3",
      "display_name": "Python 3"
    }
  },
  "cells": [
    {
      "cell_type": "markdown",
      "metadata": {
        "id": "view-in-github",
        "colab_type": "text"
      },
      "source": [
        "<a href=\"https://colab.research.google.com/github/plthiyagu/Personnel/blob/master/Convert_list_of_list_into_single_list.ipynb\" target=\"_parent\"><img src=\"https://colab.research.google.com/assets/colab-badge.svg\" alt=\"Open In Colab\"/></a>"
      ]
    },
    {
      "cell_type": "code",
      "metadata": {
        "id": "T76QnWN1rm8D"
      },
      "source": [
        "import itertools"
      ],
      "execution_count": 1,
      "outputs": []
    },
    {
      "cell_type": "code",
      "metadata": {
        "id": "VkdUynjQrpQj",
        "outputId": "1d97960d-102a-40b3-83e7-690fd105d15e",
        "colab": {
          "base_uri": "https://localhost:8080/",
          "height": 34
        }
      },
      "source": [
        "list1= [[1,2],[3,4],[5,6]]\n",
        "lst= list(itertools.chain.from_iterable(list1))\n",
        "print(lst)"
      ],
      "execution_count": 2,
      "outputs": [
        {
          "output_type": "stream",
          "text": [
            "[1, 2, 3, 4, 5, 6]\n"
          ],
          "name": "stdout"
        }
      ]
    },
    {
      "cell_type": "code",
      "metadata": {
        "id": "7rchOsWqr48a",
        "outputId": "454acedc-844f-4bbd-edde-6372e23e151a",
        "colab": {
          "base_uri": "https://localhost:8080/",
          "height": 34
        }
      },
      "source": [
        "#Partitions a list into N Groups\n",
        "\n",
        "list1= ['Sum','Flowers','Peoples','Animals','Day','Night']\n",
        "partition=list(zip(*[iter(list1)]*2))\n",
        "print(partition)"
      ],
      "execution_count": 3,
      "outputs": [
        {
          "output_type": "stream",
          "text": [
            "[('Sum', 'Flowers'), ('Peoples', 'Animals'), ('Day', 'Night')]\n"
          ],
          "name": "stdout"
        }
      ]
    },
    {
      "cell_type": "code",
      "metadata": {
        "id": "TbiQ5UHgtKuj",
        "outputId": "b012cbce-81dd-475c-a4f1-1f06323fc0c5",
        "colab": {
          "base_uri": "https://localhost:8080/",
          "height": 51
        }
      },
      "source": [
        "#take the string as input and convert it into list\n",
        "formatted_list=list(map(int,input().split()))\n",
        "print(formatted_list)"
      ],
      "execution_count": 5,
      "outputs": [
        {
          "output_type": "stream",
          "text": [
            "1 2 3 4\n",
            "[1, 2, 3, 4]\n"
          ],
          "name": "stdout"
        }
      ]
    },
    {
      "cell_type": "code",
      "metadata": {
        "id": "SPD0DhlQtily",
        "outputId": "fe922ee0-f7be-460b-d7de-8b13a058c1bc",
        "colab": {
          "base_uri": "https://localhost:8080/",
          "height": 85
        }
      },
      "source": [
        "# printing more than one list simultaneously\n",
        "list1 =[1,3,5,7]\n",
        "list2 =[2,4,6,8]\n",
        "\n",
        "# here zip() function takes two equal length list and merges them\n",
        "#together in pairs\n",
        "for a ,b in zip(list1,list2):\n",
        "  print(a,b)"
      ],
      "execution_count": 6,
      "outputs": [
        {
          "output_type": "stream",
          "text": [
            "1 2\n",
            "3 4\n",
            "5 6\n",
            "7 8\n"
          ],
          "name": "stdout"
        }
      ]
    },
    {
      "cell_type": "code",
      "metadata": {
        "id": "ZoWhzr9Jztx9"
      },
      "source": [
        ""
      ],
      "execution_count": null,
      "outputs": []
    }
  ]
}