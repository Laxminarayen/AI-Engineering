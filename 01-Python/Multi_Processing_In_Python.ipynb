{
  "nbformat": 4,
  "nbformat_minor": 0,
  "metadata": {
    "colab": {
      "name": "Multi Processing In Python.ipynb",
      "provenance": [],
      "collapsed_sections": [],
      "authorship_tag": "ABX9TyNPt7GRvVX3AHsmJ0jC3Jla",
      "include_colab_link": true
    },
    "kernelspec": {
      "name": "python3",
      "display_name": "Python 3"
    },
    "language_info": {
      "name": "python"
    }
  },
  "cells": [
    {
      "cell_type": "markdown",
      "metadata": {
        "id": "view-in-github",
        "colab_type": "text"
      },
      "source": [
        "<a href=\"https://colab.research.google.com/github/plthiyagu/AI-Engineering/blob/master/01-Python/Multi_Processing_In_Python.ipynb\" target=\"_parent\"><img src=\"https://colab.research.google.com/assets/colab-badge.svg\" alt=\"Open In Colab\"/></a>"
      ]
    },
    {
      "cell_type": "markdown",
      "metadata": {
        "id": "DhO40mC_C3k0"
      },
      "source": [
        "https://www.analyticsvidhya.com/blog/2021/04/a-beginners-guide-to-multi-processing-in-python/?utm_source=feedburner&utm_medium=email&utm_campaign=Feed%3A+AnalyticsVidhya+%28Analytics+Vidhya%29"
      ]
    },
    {
      "cell_type": "code",
      "metadata": {
        "id": "8PEdQPAJl813"
      },
      "source": [
        "import multiprocessing\n",
        "import time"
      ],
      "execution_count": 2,
      "outputs": []
    },
    {
      "cell_type": "code",
      "metadata": {
        "id": "tMyT5OPwmF2n"
      },
      "source": [
        "def sleepy_man():\n",
        "    print('Starting to sleep')\n",
        "    time.sleep(1)\n",
        "    print('Done sleeping')"
      ],
      "execution_count": 3,
      "outputs": []
    },
    {
      "cell_type": "code",
      "metadata": {
        "colab": {
          "base_uri": "https://localhost:8080/"
        },
        "id": "UBA8LP9mnyxg",
        "outputId": "c59498a0-cdaf-41cc-b925-27f889e35186"
      },
      "source": [
        "tic = time.time()\n",
        "p1 =  multiprocessing.Process(target= sleepy_man)\n",
        "p2 =  multiprocessing.Process(target= sleepy_man)\n",
        "p1.start()\n",
        "p2.start()\n",
        "toc = time.time()\n",
        "\n",
        "print('Done in {:.4f} seconds'.format(toc-tic))"
      ],
      "execution_count": 4,
      "outputs": [
        {
          "output_type": "stream",
          "text": [
            "Done in 0.0176 seconds\n",
            "Starting to sleep\n",
            "Starting to sleep\n"
          ],
          "name": "stdout"
        }
      ]
    },
    {
      "cell_type": "code",
      "metadata": {
        "colab": {
          "base_uri": "https://localhost:8080/"
        },
        "id": "QRK6o2TBon-A",
        "outputId": "38b36677-c783-44a5-d4e8-718528df0c3d"
      },
      "source": [
        "tic = time.time()\n",
        "process_list =[]\n",
        "for i in range(10):\n",
        "  p= multiprocessing.Process(target= sleepy_man)\n",
        "  p.start()\n",
        "  process_list.append(p)\n",
        "for process in process_list:\n",
        "  process.join()\n",
        "\n",
        "toc = time.time()\n",
        "print('Done in {:.4f} seconds'.format(toc-tic))"
      ],
      "execution_count": 5,
      "outputs": [
        {
          "output_type": "stream",
          "text": [
            "Starting to sleep\n",
            "Starting to sleep\n",
            "Starting to sleep\n",
            "Starting to sleep\n",
            "Starting to sleep\n",
            "Starting to sleep\n",
            "Starting to sleep\n",
            "Starting to sleep\n",
            "Starting to sleep\n",
            "Starting to sleep\n",
            "Done sleeping\n",
            "Done sleeping\n",
            "Done sleeping\n",
            "Done sleeping\n",
            "Done sleeping\n",
            "Done sleeping\n",
            "Done sleeping\n",
            "Done sleeping\n",
            "Done sleeping\n",
            "Done sleeping\n",
            "Done in 1.1478 seconds\n"
          ],
          "name": "stdout"
        }
      ]
    },
    {
      "cell_type": "code",
      "metadata": {
        "colab": {
          "base_uri": "https://localhost:8080/"
        },
        "id": "bpmo-L70wq3E",
        "outputId": "75b3665c-5364-482b-ec1f-bb51cdfd3e27"
      },
      "source": [
        "def sleepy_man(sec):\n",
        "    print('Starting to sleep')\n",
        "    time.sleep(sec)\n",
        "    print('Done sleeping')\n",
        "\n",
        "\n",
        "tic = time.time()\n",
        "process_list =[]\n",
        "for i in range(10):\n",
        "  p= multiprocessing.Process(target= sleepy_man,args=[2])\n",
        "  p.start()\n",
        "  process_list.append(p)\n",
        "for process in process_list:\n",
        "  process.join()\n",
        "\n",
        "toc = time.time()\n",
        "print('Done in {:.4f} seconds'.format(toc-tic))"
      ],
      "execution_count": 8,
      "outputs": [
        {
          "output_type": "stream",
          "text": [
            "Starting to sleep\n",
            "Starting to sleep\n",
            "Starting to sleep\n",
            "Starting to sleep\n",
            "Starting to sleep\n",
            "Starting to sleep\n",
            "Starting to sleep\n",
            "Starting to sleep\n",
            "Starting to sleep\n",
            "Starting to sleep\n",
            "Done sleeping\n",
            "Done sleeping\n",
            "Done sleeping\n",
            "Done sleeping\n",
            "Done sleeping\n",
            "Done sleeping\n",
            "Done sleeping\n",
            "Done sleeping\n",
            "Done sleeping\n",
            "Done sleeping\n",
            "Done in 2.1458 seconds\n"
          ],
          "name": "stdout"
        }
      ]
    },
    {
      "cell_type": "code",
      "metadata": {
        "colab": {
          "base_uri": "https://localhost:8080/"
        },
        "id": "alKnhn_PxYIm",
        "outputId": "c4854935-5feb-4e24-816f-808539c731bc"
      },
      "source": [
        "def sleepy_man(sec):\n",
        "    print('Starting to sleep for {} seconds'.format(sec))\n",
        "    time.sleep(sec)\n",
        "    print('Done sleeping for {} seconds'.format(sec))\n",
        "\n",
        "\n",
        "tic = time.time()\n",
        "pool = multiprocessing.Pool(5)\n",
        "pool.map(sleepy_man, range(1,11))\n",
        "pool.close()\n",
        "\n",
        "toc = time.time()\n",
        "print('Done in {:.4f} seconds'.format(toc-tic))"
      ],
      "execution_count": 11,
      "outputs": [
        {
          "output_type": "stream",
          "text": [
            "Starting to sleep for 1 seconds\n",
            "Starting to sleep for 3 seconds\n",
            "Starting to sleep for 2 seconds\n",
            "Starting to sleep for 4 seconds\n",
            "Starting to sleep for 5 seconds\n",
            "Done sleeping for 1 seconds\n",
            "Starting to sleep for 6 seconds\n",
            "Done sleeping for 2 seconds\n",
            "Starting to sleep for 7 seconds\n",
            "Done sleeping for 3 seconds\n",
            "Starting to sleep for 8 seconds\n",
            "Done sleeping for 4 seconds\n",
            "Starting to sleep for 9 seconds\n",
            "Done sleeping for 5 seconds\n",
            "Starting to sleep for 10 seconds\n",
            "Done sleeping for 6 seconds\n",
            "Done sleeping for 7 seconds\n",
            "Done sleeping for 8 seconds\n",
            "Done sleeping for 9 seconds\n",
            "Done sleeping for 10 seconds\n",
            "Done in 15.0911 seconds\n"
          ],
          "name": "stdout"
        }
      ]
    },
    {
      "cell_type": "markdown",
      "metadata": {
        "id": "ZGISpqVdOLUl"
      },
      "source": [
        "Using a Process class"
      ]
    },
    {
      "cell_type": "code",
      "metadata": {
        "colab": {
          "base_uri": "https://localhost:8080/"
        },
        "id": "KkJblI55C_6B",
        "outputId": "9eccc6b6-0eb4-47a0-96f3-24c9b8f37754"
      },
      "source": [
        "import time\n",
        "\n",
        "def is_perfect(n):\n",
        "    sum_factors = 0\n",
        "    for i in range(1, n):\n",
        "        if (n % i == 0):\n",
        "            sum_factors = sum_factors + i\n",
        "    if (sum_factors == n):\n",
        "        print('{} is a Perfect number'.format(n))\n",
        "\n",
        "tic = time.time()\n",
        "for n in range(1,100000):\n",
        "    is_perfect(n)\n",
        "toc = time.time()\n",
        "\n",
        "print('Done in {:.4f} seconds'.format(toc-tic))\n"
      ],
      "execution_count": 12,
      "outputs": [
        {
          "output_type": "stream",
          "text": [
            "6 is a Perfect number\n",
            "28 is a Perfect number\n",
            "496 is a Perfect number\n",
            "8128 is a Perfect number\n",
            "Done in 427.1712 seconds\n"
          ],
          "name": "stdout"
        }
      ]
    },
    {
      "cell_type": "code",
      "metadata": {
        "colab": {
          "base_uri": "https://localhost:8080/"
        },
        "id": "4EWlCK_zDXXY",
        "outputId": "5b798837-2659-4927-a900-6e696752365f"
      },
      "source": [
        "import time\n",
        "import multiprocessing\n",
        "\n",
        "def is_perfect(n):\n",
        "    sum_factors = 0\n",
        "    for i in range(1, n):\n",
        "        if(n % i == 0):\n",
        "            sum_factors = sum_factors + i\n",
        "    if (sum_factors == n):\n",
        "        print('{} is a Perfect number'.format(n))\n",
        "\n",
        "tic = time.time()\n",
        "\n",
        "processes = []\n",
        "for i in range(1,100000):\n",
        "    p = multiprocessing.Process(target=is_perfect, args=(i,))\n",
        "    processes.append(p)\n",
        "    p.start()\n",
        "\n",
        "for process in processes:\n",
        "    process.join()\n",
        "\n",
        "toc = time.time()\n",
        "print('Done in {:.4f} seconds'.format(toc-tic))"
      ],
      "execution_count": null,
      "outputs": [
        {
          "output_type": "stream",
          "text": [
            "6 is a Perfect number\n",
            "28 is a Perfect number\n",
            "496 is a Perfect number\n",
            "8128 is a Perfect number\n"
          ],
          "name": "stdout"
        }
      ]
    },
    {
      "cell_type": "markdown",
      "metadata": {
        "id": "3H_QhTQIN_mc"
      },
      "source": [
        "Using Pool Class"
      ]
    },
    {
      "cell_type": "code",
      "metadata": {
        "id": "oUY1I-kWDjwO"
      },
      "source": [
        "import time\n",
        "import multiprocessing\n",
        "\n",
        "def is_perfect(n):\n",
        "    sum_factors = 0\n",
        "    for i in range(1, n):\n",
        "        if(n % i == 0):\n",
        "            sum_factors = sum_factors + i\n",
        "    if (sum_factors == n):\n",
        "        print('{} is a Perfect number'.format(n))\n",
        "\n",
        "tic = time.time()\n",
        "pool = multiprocessing.Pool()\n",
        "pool.map(is_perfect, range(1,100000))\n",
        "pool.close()\n",
        "toc = time.time()\n",
        "\n",
        "print('Done in {:.4f} seconds'.format(toc-tic))\n"
      ],
      "execution_count": null,
      "outputs": []
    }
  ]
}