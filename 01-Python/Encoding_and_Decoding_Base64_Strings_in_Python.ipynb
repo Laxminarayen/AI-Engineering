{
  "nbformat": 4,
  "nbformat_minor": 0,
  "metadata": {
    "colab": {
      "name": "Encoding and Decoding Base64 Strings in Python.ipynb",
      "provenance": [],
      "authorship_tag": "ABX9TyMOZ2JD9hdJTqYNsgAx52y0",
      "include_colab_link": true
    },
    "kernelspec": {
      "name": "python3",
      "display_name": "Python 3"
    }
  },
  "cells": [
    {
      "cell_type": "markdown",
      "metadata": {
        "id": "view-in-github",
        "colab_type": "text"
      },
      "source": [
        "<a href=\"https://colab.research.google.com/github/plthiyagu/Personnel/blob/master/Encoding_and_Decoding_Base64_Strings_in_Python.ipynb\" target=\"_parent\"><img src=\"https://colab.research.google.com/assets/colab-badge.svg\" alt=\"Open In Colab\"/></a>"
      ]
    },
    {
      "cell_type": "markdown",
      "metadata": {
        "id": "pBJDZD8o-hx7"
      },
      "source": [
        "Have you ever received a PDF or an image file from someone via email, only to see strange characters when you open it? This can happen if your email server was only designed to handle text data. Files with binary data, bytes that represent non-text information like images, can be easily corrupted when being transferred and processed to text-only systems.\n",
        "\n",
        "Base64 encoding allows us to convert bytes containing binary or text data to ASCII characters. By encoding our data, we improve the chances of it being processed correctly by various systems.\n",
        "\n"
      ]
    },
    {
      "cell_type": "markdown",
      "metadata": {
        "id": "unvD1rnC-oQL"
      },
      "source": [
        "What is Base64 Encoding?\n",
        "Base64 encoding is a type of conversion of bytes into ASCII characters. In mathematics, the base of a number system refers to how many different characters represent numbers. The name of this encoding comes directly from the mathematical definition of bases - we have 64 characters that represent numbers.\n",
        "\n",
        "The Base64 character set contains:\n",
        "\n",
        "26 uppercase letters\n",
        "26 lowercase letters\n",
        "10 numbers\n",
        "+ and / for new lines (some implementations may use different characters)\n",
        "When the computer converts Base64 characters to binary, each Base64 character represents 6 bits of information.\n",
        "\n"
      ]
    },
    {
      "cell_type": "markdown",
      "metadata": {
        "id": "IPC27pUj-wRJ"
      },
      "source": [
        "How Does Base64 Encoding Work?\n",
        "We will illustrate how Base64 encoding works by converting text data, as it's more standard than the various binary formats to choose from. If we were to Base64 encode a string we would follow these steps:\n",
        "\n",
        "Take the ASCII value of each character in the string\n",
        "Calculate the 8-bit binary equivalent of the ASCII values\n",
        "Convert the 8-bit chunks into chunks of 6 bits by simply re-grouping the digits\n",
        "Convert the 6-bit binary groups to their respective decimal values.\n",
        "Using a base64 encoding table, assign the respective base64 character for each decimal value.\n",
        "Let's see how it works by converting the string \"Python\" to a Base64 string.\n",
        "\n",
        "The ASCII values of the characters P, y, t, h, o, n are 15, 50, 45, 33, 40, 39 respectively. We can represent these ASCII values in 8-bit binary as follows:\n",
        "\n",
        "01010000 01111001 01110100 01101000 01101111 01101110\n",
        "\n",
        "Recall that Base64 characters only represent 6 bits of data. We now re-group the 8-bit binary sequences into chunks of 6 bits. The resultant binary will look like this:\n",
        "\n",
        "010100 000111 100101 110100 011010 000110 111101 101110\n",
        "\n",
        "Note: Sometimes we are not able to group the data into sequences of 6 bits. If that occurs, we have to pad the sequence.\n",
        "\n",
        "With our data in groups of 6 bits, we can obtain the decimal value for each group. Using our last result, we get the following decimal values:\n",
        "\n",
        "20 7 37 52 26 6 61 46\n",
        "\n",
        "Finally, we will convert these decimals into the appropriate Base64 character using the Base64 conversion table:\n",
        "\n"
      ]
    },
    {
      "cell_type": "markdown",
      "metadata": {
        "id": "5B6NMPTN-2nU"
      },
      "source": [
        "Why use Base64 Encoding?\n",
        "In computers, all data of different types are transmitted as 1s and 0s. However, some communication channels and applications are not able to understand all the bits it receives. This is because the meaning of a sequence of 1s and 0s is dependent on the type of data it represents. For example, 10110001 must be processed differently if it represents a letter or an image.\n",
        "\n",
        "To work around this limitation, you can encode your data to text, improving the chances of it being transmitted and processed correctly. Base64 is a popular method to get binary data into ASCII characters, which is widely understood by the majority of networks and applications.\n",
        "\n",
        "A common real-world scenario where Base64 encoding is heavily used are in mail servers. They were originally built to handle text data, but we also expect them to send images and other media with a message. In those cases, your media data would be Base64 encoded when it is being sent. It will then be Base64 decoded when it is received so an application can use it. So, for example, the image in the HTML might look like this:\n",
        "\n"
      ]
    },
    {
      "cell_type": "code",
      "metadata": {
        "id": "EQ5RXlie-Yku",
        "outputId": "c8f488d4-cd44-4058-a10a-03d542222be3",
        "colab": {
          "base_uri": "https://localhost:8080/",
          "height": 34
        }
      },
      "source": [
        "import base64\n",
        "\n",
        "message = \"Python is fun\"\n",
        "message_bytes = message.encode('ascii')\n",
        "base64_bytes = base64.b64encode(message_bytes)\n",
        "base64_message = base64_bytes.decode('ascii')\n",
        "\n",
        "print(base64_message)"
      ],
      "execution_count": 1,
      "outputs": [
        {
          "output_type": "stream",
          "text": [
            "UHl0aG9uIGlzIGZ1bg==\n"
          ],
          "name": "stdout"
        }
      ]
    },
    {
      "cell_type": "markdown",
      "metadata": {
        "id": "vZtFAgTv_DoC"
      },
      "source": [
        "Decoding Strings with Python\n"
      ]
    },
    {
      "cell_type": "code",
      "metadata": {
        "id": "WiEIaBDV-9X3",
        "outputId": "b3572c4c-8c35-4374-fe3f-4e116a5d3813",
        "colab": {
          "base_uri": "https://localhost:8080/",
          "height": 34
        }
      },
      "source": [
        "import base64\n",
        "\n",
        "base64_message = 'UHl0aG9uIGlzIGZ1bg=='\n",
        "base64_bytes = base64_message.encode('ascii')\n",
        "message_bytes = base64.b64decode(base64_bytes)\n",
        "message = message_bytes.decode('ascii')\n",
        "\n",
        "print(message)"
      ],
      "execution_count": 2,
      "outputs": [
        {
          "output_type": "stream",
          "text": [
            "Python is fun\n"
          ],
          "name": "stdout"
        }
      ]
    },
    {
      "cell_type": "markdown",
      "metadata": {
        "id": "H6u-hwEQ_sbv"
      },
      "source": [
        "Encoding Binary Data with Python\n"
      ]
    },
    {
      "cell_type": "code",
      "metadata": {
        "id": "mPbNU9U__H0C",
        "outputId": "88aba797-e281-4324-ecf2-47975cdf3ef3",
        "colab": {
          "base_uri": "https://localhost:8080/",
          "height": 204
        }
      },
      "source": [
        "!wget https://github.com/plthiyagu/Personnel/blob/master/Dataset/encoding-and-decoding-base64-strings-python-2.png"
      ],
      "execution_count": 3,
      "outputs": [
        {
          "output_type": "stream",
          "text": [
            "--2020-10-03 01:08:20--  https://github.com/plthiyagu/Personnel/blob/master/Dataset/encoding-and-decoding-base64-strings-python-2.png\n",
            "Resolving github.com (github.com)... 140.82.112.3\n",
            "Connecting to github.com (github.com)|140.82.112.3|:443... connected.\n",
            "HTTP request sent, awaiting response... 200 OK\n",
            "Length: unspecified [text/html]\n",
            "Saving to: ‘encoding-and-decoding-base64-strings-python-2.png.1’\n",
            "\n",
            "encoding-and-decodi     [ <=>                ]  75.83K  --.-KB/s    in 0.03s   \n",
            "\n",
            "2020-10-03 01:08:21 (2.67 MB/s) - ‘encoding-and-decoding-base64-strings-python-2.png.1’ saved [77652]\n",
            "\n"
          ],
          "name": "stdout"
        }
      ]
    },
    {
      "cell_type": "code",
      "metadata": {
        "id": "zlnU4tWEAKta",
        "outputId": "65f306e7-4bde-41ef-f65c-11c6e545ea7f",
        "colab": {
          "base_uri": "https://localhost:8080/",
          "height": 54
        }
      },
      "source": [
        "with open('encoding-and-decoding-base64-strings-python-2.png', 'rb') as binary_file:\n",
        "    binary_file_data = binary_file.read()\n",
        "    base64_encoded_data = base64.b64encode(binary_file_data)\n",
        "    base64_message = base64_encoded_data.decode('utf-8')\n",
        "\n",
        "    print(base64_message)\n"
      ],
      "execution_count": 4,
      "outputs": [
        {
          "output_type": "stream",
          "text": [
            "iVBORw0KGgoAAAANSUhEUgAAABAAAAAQCAYAAAAf8/9hAAAACXBIWXMAAAsTAAALEwEAmpwYAAAB1klEQVQ4jY2TTUhUURTHf+fy/HrjhNEX2KRGiyIXg8xgSURuokXLxFW0qDTaSQupkHirthK0qF0WQQQR0UCbwCQyw8KCiDbShEYLJQdmpsk3895p4aSv92ass7pcfv/zP+fcc4U6kXKe2pTY3tjSUHjtnFgB0VqchC/SY8/293S23f+6VEj9KKwCoPDNIJdmr598GOZNJKNWTic7tqb27WwNuuwGvVWrAit84fsmMzE1P1+1TiKMVKvYUjdBvzPZXCwXzyhyWNBgVYkgrIow09VJMznpyebWE+Tdn9cEroBSc1JVPS+6moh5Xyjj65vEgBxafGzWetTh+rr1eE/c/TMYg8hlAOvI6JP4KmwLgJ4qD0TIbliTB+sunjkbeLekKsZ6Zc8V027aBRoBRHVoduDiSypmGFG7CrcBEyDHA0ZNfNphC0D6amYa6ANw3YbWD4Pn3oIc+EdL36V3od0A+MaMAXmA8x2Zyn+IQeQeBDfRcUw3B+2PxwZ/EdtTDpCPQLMh9TKx0k3pXipEVlknsf5KoNzGyOe1sz8nvYtTQT6yyvTjIaxsmHGB9pFx4n3jIEfDePQvCIrnn0J4B/gA5J4XcRfu4JZuRAw3C51OtOjM3l2bMb8Br5eXCsT/w/EAAAAASUVORK5CYII=\n"
          ],
          "name": "stdout"
        }
      ]
    },
    {
      "cell_type": "markdown",
      "metadata": {
        "id": "ZNaW1DA5Aezo"
      },
      "source": [
        "Decoding Binary Data with Python\n"
      ]
    },
    {
      "cell_type": "code",
      "metadata": {
        "id": "Riy0P-kiAZg5"
      },
      "source": [
        "base64_img = 'iVBORw0KGgoAAAANSUhEUgAAABAAAAAQCAYAAAAf8/9hAAAACXBIWXMAAAsTAAALEwEAmpwYAAAB1klEQVQ4jY2TTUhUURTHf+fy/HrjhNEX2KRGiyIXg8xgSURuokXLxFW0qDTaSQupkHirthK0qF0WQQQR0UCbwCQyw8KCiDbShEYLJQdmpsk3895p4aSv92ass7pcfv/zP+fcc4U6kXKe2pTY3tjSUHjtnFgB0VqchC/SY8/293S23f+6VEj9KKwCoPDNIJdmr598GOZNJKNWTic7tqb27WwNuuwGvVWrAit84fsmMzE1P1+1TiKMVKvYUjdBvzPZXCwXzyhyWNBgVYkgrIow09VJMznpyebWE+Tdn9cEroBSc1JVPS+6moh5Xyjj65vEgBxafGzWetTh+rr1eE/c/TMYg8hlAOvI6JP4KmwLgJ4qD0TIbliTB+sunjkbeLekKsZ6Zc8V027aBRoBRHVoduDiSypmGFG7CrcBEyDHA0ZNfNphC0D6amYa6ANw3YbWD4Pn3oIc+EdL36V3od0A+MaMAXmA8x2Zyn+IQeQeBDfRcUw3B+2PxwZ/EdtTDpCPQLMh9TKx0k3pXipEVlknsf5KoNzGyOe1sz8nvYtTQT6yyvTjIaxsmHGB9pFx4n3jIEfDePQvCIrnn0J4B/gA5J4XcRfu4JZuRAw3C51OtOjM3l2bMb8Br5eXCsT/w/EAAAAASUVORK5CYII='\n",
        "\n",
        "base64_img_bytes = base64_img.encode('utf-8')\n",
        "with open('decoded_image.png', 'wb') as file_to_save:\n",
        "    decoded_image_data = base64.decodebytes(base64_img_bytes)\n",
        "    file_to_save.write(decoded_image_data)\n"
      ],
      "execution_count": 6,
      "outputs": []
    },
    {
      "cell_type": "code",
      "metadata": {
        "id": "3ojVcYRpAqyf"
      },
      "source": [
        ""
      ],
      "execution_count": null,
      "outputs": []
    }
  ]
}