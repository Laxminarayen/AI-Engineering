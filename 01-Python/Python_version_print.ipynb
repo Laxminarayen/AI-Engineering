{
  "nbformat": 4,
  "nbformat_minor": 0,
  "metadata": {
    "colab": {
      "name": "Python version print.ipynb",
      "provenance": [],
      "collapsed_sections": [],
      "authorship_tag": "ABX9TyNvjZsmod76y/bJ3zKPp5Cx",
      "include_colab_link": true
    },
    "kernelspec": {
      "name": "python3",
      "display_name": "Python 3"
    }
  },
  "cells": [
    {
      "cell_type": "markdown",
      "metadata": {
        "id": "view-in-github",
        "colab_type": "text"
      },
      "source": [
        "<a href=\"https://colab.research.google.com/github/plthiyagu/AI-Engineering/blob/master/Python_version_print.ipynb\" target=\"_parent\"><img src=\"https://colab.research.google.com/assets/colab-badge.svg\" alt=\"Open In Colab\"/></a>"
      ]
    },
    {
      "cell_type": "code",
      "metadata": {
        "id": "QOUfNGxD-d6O"
      },
      "source": [
        "!pip install glmnet"
      ],
      "execution_count": null,
      "outputs": []
    },
    {
      "cell_type": "code",
      "metadata": {
        "id": "y34iGtnr-WD3"
      },
      "source": [
        "# %load ../standard_import.txt\n",
        "import IPython as ipy\n",
        "import pandas as pd\n",
        "import numpy as np\n",
        "import matplotlib as mpl\n",
        "import seaborn as sns\n",
        "import sklearn as skl\n",
        "import statsmodels as sm\n",
        "import scipy as sp\n",
        "import pydot as pdt\n",
        "import patsy as pat\n",
        "import glmnet as gln"
      ],
      "execution_count": 3,
      "outputs": []
    },
    {
      "cell_type": "code",
      "metadata": {
        "colab": {
          "base_uri": "https://localhost:8080/"
        },
        "id": "-lAbQJLE-YoV",
        "outputId": "4829386d-1b8d-4724-b5fa-bca23378faec"
      },
      "source": [
        "print('IPython {}'.format(ipy.__version__))\n",
        "print('pandas {}'.format(pd.__version__))\n",
        "print('numpy {}'.format(np.__version__))\n",
        "print('scikit-learn {}'.format(skl.__version__))\n",
        "print('statsmodels {}'.format(sm.__version__))\n",
        "print('patsy {} (For regression splines)'.format(pat.__version__))\n",
        "print('matplotlib {}'.format(mpl.__version__))\n",
        "print('seaborn {}'.format(sns.__version__))\n",
        "print('scipy {}'.format(sp.__version__))\n",
        "print('pydot {} (For visualizing tree based models)'.format(pdt.__version__))\n",
        "print('python-glmnet {}'.format(gln.__version__))\n"
      ],
      "execution_count": 4,
      "outputs": [
        {
          "output_type": "stream",
          "text": [
            "IPython 5.5.0\n",
            "pandas 1.1.4\n",
            "numpy 1.18.5\n",
            "scikit-learn 0.22.2.post1\n",
            "statsmodels 0.10.2\n",
            "patsy 0.5.1 (For regression splines)\n",
            "matplotlib 3.2.2\n",
            "seaborn 0.11.0\n",
            "scipy 1.4.1\n",
            "pydot 1.3.0 (For visualizing tree based models)\n",
            "python-glmnet 2.2.1\n"
          ],
          "name": "stdout"
        }
      ]
    },
    {
      "cell_type": "code",
      "metadata": {
        "id": "qD4b6eiY-jnG"
      },
      "source": [
        ""
      ],
      "execution_count": null,
      "outputs": []
    }
  ]
}