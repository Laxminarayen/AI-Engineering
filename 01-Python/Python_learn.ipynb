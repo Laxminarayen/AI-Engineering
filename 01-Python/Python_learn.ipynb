{
  "nbformat": 4,
  "nbformat_minor": 0,
  "metadata": {
    "colab": {
      "name": "Python learn.ipynb",
      "provenance": [],
      "collapsed_sections": [],
      "authorship_tag": "ABX9TyPeSXBQLadVqoOOCrjSK7x1",
      "include_colab_link": true
    },
    "kernelspec": {
      "name": "python3",
      "display_name": "Python 3"
    }
  },
  "cells": [
    {
      "cell_type": "markdown",
      "metadata": {
        "id": "view-in-github",
        "colab_type": "text"
      },
      "source": [
        "<a href=\"https://colab.research.google.com/github/plthiyagu/Personnel/blob/master/Python_learn.ipynb\" target=\"_parent\"><img src=\"https://colab.research.google.com/assets/colab-badge.svg\" alt=\"Open In Colab\"/></a>"
      ]
    },
    {
      "cell_type": "code",
      "metadata": {
        "id": "ho3v6PSC1WMw",
        "colab_type": "code",
        "colab": {
          "base_uri": "https://localhost:8080/",
          "height": 34
        },
        "outputId": "743d3cf2-3736-4629-ec96-a3300a9a8f47"
      },
      "source": [
        "42"
      ],
      "execution_count": 1,
      "outputs": [
        {
          "output_type": "execute_result",
          "data": {
            "text/plain": [
              "42"
            ]
          },
          "metadata": {
            "tags": []
          },
          "execution_count": 1
        }
      ]
    },
    {
      "cell_type": "code",
      "metadata": {
        "id": "RPAdbgJ_sHYl",
        "colab_type": "code",
        "colab": {}
      },
      "source": [
        "42+4"
      ],
      "execution_count": 1,
      "outputs": [
        {
          "output_type": "execute_result",
          "data": {
            "text/plain": "46"
          },
          "metadata": {},
          "execution_count": 1
        }
      ]
    },
    {
      "cell_type": "code",
      "metadata": {
        "id": "huG5AouSsIyT",
        "colab_type": "code",
        "colab": {
          "base_uri": "https://localhost:8080/",
          "height": 34
        },
        "outputId": "b84ca479-4884-40af-b086-035cf422fd97",
        "tags": []
      },
      "source": [
        "print(\"Hello World\")"
      ],
      "execution_count": 2,
      "outputs": [
        {
          "output_type": "stream",
          "name": "stdout",
          "text": "Hello World\n"
        }
      ]
    },
    {
      "cell_type": "code",
      "metadata": {
        "id": "v_p5wvsDsL_l",
        "colab_type": "code",
        "colab": {
          "base_uri": "https://localhost:8080/",
          "height": 34
        },
        "outputId": "26a25901-a2da-4564-bbf3-d5f71bfc6900"
      },
      "source": [
        "a=\"thiyagu\"\n",
        "print(f\"Hellow {a}\")"
      ],
      "execution_count": 3,
      "outputs": [
        {
          "output_type": "stream",
          "text": [
            "Hellow thiyagu\n"
          ],
          "name": "stdout"
        }
      ]
    },
    {
      "cell_type": "code",
      "metadata": {
        "id": "V4Rp9PDFsSBp",
        "colab_type": "code",
        "colab": {
          "base_uri": "https://localhost:8080/",
          "height": 34
        },
        "outputId": "53dd3de7-417a-4b2e-ab29-9d9de6ad0669"
      },
      "source": [
        "x= 4\n",
        "x*x"
      ],
      "execution_count": 3,
      "outputs": [
        {
          "output_type": "execute_result",
          "data": {
            "text/plain": "16"
          },
          "metadata": {},
          "execution_count": 3
        }
      ]
    },
    {
      "cell_type": "code",
      "metadata": {
        "id": "IvR29OzrsYQB",
        "colab_type": "code",
        "colab": {
          "base_uri": "https://localhost:8080/",
          "height": 163
        },
        "outputId": "db9c92a8-f9c0-4060-e11d-235813671797"
      },
      "source": [
        "foo"
      ],
      "execution_count": 5,
      "outputs": [
        {
          "output_type": "error",
          "ename": "NameError",
          "evalue": "ignored",
          "traceback": [
            "\u001b[0;31m---------------------------------------------------------------------------\u001b[0m",
            "\u001b[0;31mNameError\u001b[0m                                 Traceback (most recent call last)",
            "\u001b[0;32m<ipython-input-5-f1d2d2f924e9>\u001b[0m in \u001b[0;36m<module>\u001b[0;34m()\u001b[0m\n\u001b[0;32m----> 1\u001b[0;31m \u001b[0mfoo\u001b[0m\u001b[0;34m\u001b[0m\u001b[0;34m\u001b[0m\u001b[0m\n\u001b[0m",
            "\u001b[0;31mNameError\u001b[0m: name 'foo' is not defined"
          ]
        }
      ]
    },
    {
      "cell_type": "code",
      "metadata": {
        "id": "8czZgynyL1lG",
        "colab_type": "code",
        "colab": {
          "base_uri": "https://localhost:8080/",
          "height": 34
        },
        "outputId": "214a850d-8075-444d-cb72-0649a90fc377"
      },
      "source": [
        "foo=4\n",
        "foo"
      ],
      "execution_count": 9,
      "outputs": [
        {
          "output_type": "execute_result",
          "data": {
            "text/plain": [
              "4"
            ]
          },
          "metadata": {
            "tags": []
          },
          "execution_count": 9
        }
      ]
    },
    {
      "cell_type": "code",
      "metadata": {
        "id": "QYKEky_KL4ZW",
        "colab_type": "code",
        "colab": {
          "base_uri": "https://localhost:8080/",
          "height": 34
        },
        "outputId": "5289c32e-de64-402d-ac40-a503348d723c"
      },
      "source": [
        "x=4\n",
        "x"
      ],
      "execution_count": 10,
      "outputs": [
        {
          "output_type": "execute_result",
          "data": {
            "text/plain": [
              "4"
            ]
          },
          "metadata": {
            "tags": []
          },
          "execution_count": 10
        }
      ]
    },
    {
      "cell_type": "code",
      "metadata": {
        "id": "8SZbsoQAL7_q",
        "colab_type": "code",
        "colab": {
          "base_uri": "https://localhost:8080/",
          "height": 35
        },
        "outputId": "65b36561-a49f-4791-d15e-8b80f59db693"
      },
      "source": [
        "x='hello'\n",
        "x"
      ],
      "execution_count": 11,
      "outputs": [
        {
          "output_type": "execute_result",
          "data": {
            "application/vnd.google.colaboratory.intrinsic+json": {
              "type": "string"
            },
            "text/plain": [
              "'hello'"
            ]
          },
          "metadata": {
            "tags": []
          },
          "execution_count": 11
        }
      ]
    },
    {
      "cell_type": "code",
      "metadata": {
        "id": "aBkr5_7iL_Lu",
        "colab_type": "code",
        "colab": {
          "base_uri": "https://localhost:8080/",
          "height": 34
        },
        "outputId": "6bf20aac-903a-45be-abe6-e9697e5f9e0e"
      },
      "source": [
        "a,b=1,2\n",
        "a,b=b,a\n",
        "a,b"
      ],
      "execution_count": 12,
      "outputs": [
        {
          "output_type": "execute_result",
          "data": {
            "text/plain": [
              "(2, 1)"
            ]
          },
          "metadata": {
            "tags": []
          },
          "execution_count": 12
        }
      ]
    },
    {
      "cell_type": "code",
      "metadata": {
        "id": "MJZG3I8kMDDp",
        "colab_type": "code",
        "colab": {
          "base_uri": "https://localhost:8080/",
          "height": 197
        },
        "outputId": "ce2154b1-711c-4d95-c061-f33302857560"
      },
      "source": [
        "a,b=2,3\n",
        "c,b=a,c+1\n",
        "a,b,c"
      ],
      "execution_count": 13,
      "outputs": [
        {
          "output_type": "error",
          "ename": "NameError",
          "evalue": "ignored",
          "traceback": [
            "\u001b[0;31m---------------------------------------------------------------------------\u001b[0m",
            "\u001b[0;31mNameError\u001b[0m                                 Traceback (most recent call last)",
            "\u001b[0;32m<ipython-input-13-5eb4a18e27fb>\u001b[0m in \u001b[0;36m<module>\u001b[0;34m()\u001b[0m\n\u001b[1;32m      1\u001b[0m \u001b[0ma\u001b[0m\u001b[0;34m,\u001b[0m\u001b[0mb\u001b[0m\u001b[0;34m=\u001b[0m\u001b[0;36m2\u001b[0m\u001b[0;34m,\u001b[0m\u001b[0;36m3\u001b[0m\u001b[0;34m\u001b[0m\u001b[0;34m\u001b[0m\u001b[0m\n\u001b[0;32m----> 2\u001b[0;31m \u001b[0mc\u001b[0m\u001b[0;34m,\u001b[0m\u001b[0mb\u001b[0m\u001b[0;34m=\u001b[0m\u001b[0ma\u001b[0m\u001b[0;34m,\u001b[0m\u001b[0mc\u001b[0m\u001b[0;34m+\u001b[0m\u001b[0;36m1\u001b[0m\u001b[0;34m\u001b[0m\u001b[0;34m\u001b[0m\u001b[0m\n\u001b[0m\u001b[1;32m      3\u001b[0m \u001b[0ma\u001b[0m\u001b[0;34m,\u001b[0m\u001b[0mb\u001b[0m\u001b[0;34m,\u001b[0m\u001b[0mc\u001b[0m\u001b[0;34m\u001b[0m\u001b[0;34m\u001b[0m\u001b[0m\n",
            "\u001b[0;31mNameError\u001b[0m: name 'c' is not defined"
          ]
        }
      ]
    },
    {
      "cell_type": "code",
      "metadata": {
        "id": "mGbXJFWeMho9",
        "colab_type": "code",
        "colab": {
          "base_uri": "https://localhost:8080/",
          "height": 34
        },
        "outputId": "f8c9a8a8-964c-481f-c106-cc1d428af1d2"
      },
      "source": [
        "4.2"
      ],
      "execution_count": 14,
      "outputs": [
        {
          "output_type": "execute_result",
          "data": {
            "text/plain": [
              "4.2"
            ]
          },
          "metadata": {
            "tags": []
          },
          "execution_count": 14
        }
      ]
    },
    {
      "cell_type": "code",
      "metadata": {
        "id": "SiTMvH6EOF1a",
        "colab_type": "code",
        "colab": {
          "base_uri": "https://localhost:8080/",
          "height": 34
        },
        "outputId": "1d5c103e-352e-4893-ee65-896cb8f3e0c3"
      },
      "source": [
        "4.2+3.3"
      ],
      "execution_count": 15,
      "outputs": [
        {
          "output_type": "execute_result",
          "data": {
            "text/plain": [
              "7.5"
            ]
          },
          "metadata": {
            "tags": []
          },
          "execution_count": 15
        }
      ]
    },
    {
      "cell_type": "code",
      "metadata": {
        "id": "YGiRZrwvOHZd",
        "colab_type": "code",
        "colab": {
          "base_uri": "https://localhost:8080/",
          "height": 34
        },
        "outputId": "e141e9b3-01a5-4f05-d8ca-3fe76837ac87"
      },
      "source": [
        "7+2"
      ],
      "execution_count": 16,
      "outputs": [
        {
          "output_type": "execute_result",
          "data": {
            "text/plain": [
              "9"
            ]
          },
          "metadata": {
            "tags": []
          },
          "execution_count": 16
        }
      ]
    },
    {
      "cell_type": "code",
      "metadata": {
        "id": "d9hgogczOL8a",
        "colab_type": "code",
        "colab": {
          "base_uri": "https://localhost:8080/",
          "height": 34
        },
        "outputId": "e20a1df5-1ae7-444d-9f4a-a95a592ff990"
      },
      "source": [
        "7-2"
      ],
      "execution_count": 17,
      "outputs": [
        {
          "output_type": "execute_result",
          "data": {
            "text/plain": [
              "5"
            ]
          },
          "metadata": {
            "tags": []
          },
          "execution_count": 17
        }
      ]
    },
    {
      "cell_type": "code",
      "metadata": {
        "id": "WSfclM_kOM7j",
        "colab_type": "code",
        "colab": {
          "base_uri": "https://localhost:8080/",
          "height": 34
        },
        "outputId": "478a535e-a81c-4da9-ec15-eb850db3172e"
      },
      "source": [
        "7 * 2"
      ],
      "execution_count": 18,
      "outputs": [
        {
          "output_type": "execute_result",
          "data": {
            "text/plain": [
              "14"
            ]
          },
          "metadata": {
            "tags": []
          },
          "execution_count": 18
        }
      ]
    },
    {
      "cell_type": "code",
      "metadata": {
        "id": "jmk3_8vhOONc",
        "colab_type": "code",
        "colab": {
          "base_uri": "https://localhost:8080/",
          "height": 34
        },
        "outputId": "6942cbee-cb20-42d5-82c9-d70704bd0f6e"
      },
      "source": [
        "7/2"
      ],
      "execution_count": 19,
      "outputs": [
        {
          "output_type": "execute_result",
          "data": {
            "text/plain": [
              "3.5"
            ]
          },
          "metadata": {
            "tags": []
          },
          "execution_count": 19
        }
      ]
    },
    {
      "cell_type": "code",
      "metadata": {
        "id": "hdRp7ZSEOPA3",
        "colab_type": "code",
        "colab": {
          "base_uri": "https://localhost:8080/",
          "height": 34
        },
        "outputId": "34ca04b5-c5f4-43f6-9f7d-faa977e89fde"
      },
      "source": [
        "7//2"
      ],
      "execution_count": 20,
      "outputs": [
        {
          "output_type": "execute_result",
          "data": {
            "text/plain": [
              "3"
            ]
          },
          "metadata": {
            "tags": []
          },
          "execution_count": 20
        }
      ]
    },
    {
      "cell_type": "code",
      "metadata": {
        "id": "GD4MYMAlOP_J",
        "colab_type": "code",
        "colab": {
          "base_uri": "https://localhost:8080/",
          "height": 34
        },
        "outputId": "c9fcedc5-6aeb-4f1b-e01a-3009062b4972"
      },
      "source": [
        "7 ** 2"
      ],
      "execution_count": 21,
      "outputs": [
        {
          "output_type": "execute_result",
          "data": {
            "text/plain": [
              "49"
            ]
          },
          "metadata": {
            "tags": []
          },
          "execution_count": 21
        }
      ]
    },
    {
      "cell_type": "code",
      "metadata": {
        "id": "tI66TKmcOTfd",
        "colab_type": "code",
        "colab": {
          "base_uri": "https://localhost:8080/",
          "height": 34
        },
        "outputId": "9e359b2c-0146-4a7a-edf5-d83390aeda3d"
      },
      "source": [
        "7 % 2"
      ],
      "execution_count": 22,
      "outputs": [
        {
          "output_type": "execute_result",
          "data": {
            "text/plain": [
              "1"
            ]
          },
          "metadata": {
            "tags": []
          },
          "execution_count": 22
        }
      ]
    },
    {
      "cell_type": "code",
      "metadata": {
        "id": "IK2vMQKBOVpw",
        "colab_type": "code",
        "colab": {
          "base_uri": "https://localhost:8080/",
          "height": 34
        },
        "outputId": "18557bcb-a19b-41fe-91ce-f8c4e7388716"
      },
      "source": [
        "7 + 2 + 5 -3"
      ],
      "execution_count": 23,
      "outputs": [
        {
          "output_type": "execute_result",
          "data": {
            "text/plain": [
              "11"
            ]
          },
          "metadata": {
            "tags": []
          },
          "execution_count": 23
        }
      ]
    },
    {
      "cell_type": "code",
      "metadata": {
        "id": "SiJGJjK2OcDI",
        "colab_type": "code",
        "colab": {
          "base_uri": "https://localhost:8080/",
          "height": 34
        },
        "outputId": "37292fb4-4abd-482a-9a89-fa082fea5f4e"
      },
      "source": [
        "2 * 3 + 4"
      ],
      "execution_count": 24,
      "outputs": [
        {
          "output_type": "execute_result",
          "data": {
            "text/plain": [
              "10"
            ]
          },
          "metadata": {
            "tags": []
          },
          "execution_count": 24
        }
      ]
    },
    {
      "cell_type": "code",
      "metadata": {
        "id": "wZQVLOV9Of-z",
        "colab_type": "code",
        "colab": {
          "base_uri": "https://localhost:8080/",
          "height": 34
        },
        "outputId": "76b8aefa-1432-4677-8108-8fa9a2aa5008"
      },
      "source": [
        "2+ 3 *4"
      ],
      "execution_count": null,
      "outputs": [
        {
          "output_type": "execute_result",
          "data": {
            "text/plain": [
              "14"
            ]
          },
          "metadata": {
            "tags": []
          },
          "execution_count": 19
        }
      ]
    },
    {
      "cell_type": "code",
      "metadata": {
        "id": "nms3a0FmOkpD",
        "colab_type": "code",
        "colab": {
          "base_uri": "https://localhost:8080/",
          "height": 34
        },
        "outputId": "fa3bb58f-859b-411a-c358-70ca28748414"
      },
      "source": [
        "(2+3) * 4"
      ],
      "execution_count": 25,
      "outputs": [
        {
          "output_type": "execute_result",
          "data": {
            "text/plain": [
              "20"
            ]
          },
          "metadata": {
            "tags": []
          },
          "execution_count": 25
        }
      ]
    },
    {
      "cell_type": "code",
      "metadata": {
        "id": "e7jm_cxrOqLS",
        "colab_type": "code",
        "colab": {
          "base_uri": "https://localhost:8080/",
          "height": 34
        },
        "outputId": "f95eab1c-cf9f-4e2c-f308-7c222e9950ae"
      },
      "source": [
        "x= 'hello'\n",
        "y='world'\n",
        "print(x,y)"
      ],
      "execution_count": 26,
      "outputs": [
        {
          "output_type": "stream",
          "text": [
            "hello world\n"
          ],
          "name": "stdout"
        }
      ]
    },
    {
      "cell_type": "code",
      "metadata": {
        "id": "mPAoJ86uOy6y",
        "colab_type": "code",
        "colab": {
          "base_uri": "https://localhost:8080/",
          "height": 35
        },
        "outputId": "5e0fa7b0-1106-45b6-a96f-c7811fd925ce"
      },
      "source": [
        "x = \"\"\"This is a multi-line string\n",
        "written in\n",
        "three lines.\"\"\"\n",
        "x"
      ],
      "execution_count": 27,
      "outputs": [
        {
          "output_type": "execute_result",
          "data": {
            "application/vnd.google.colaboratory.intrinsic+json": {
              "type": "string"
            },
            "text/plain": [
              "'This is a multi-line string\\nwritten in\\nthree lines.'"
            ]
          },
          "metadata": {
            "tags": []
          },
          "execution_count": 27
        }
      ]
    },
    {
      "cell_type": "code",
      "metadata": {
        "id": "8RRoMHKNQNo8",
        "colab_type": "code",
        "colab": {
          "base_uri": "https://localhost:8080/",
          "height": 35
        },
        "outputId": "5afd3d44-61db-44c9-bacf-38bababe8811"
      },
      "source": [
        "y = '''multi-line strings can be written\n",
        "using three single quote characters as well.\n",
        "The string can contain 'single quotes' or \"double quotes\"\n",
        "in side it.'''\n",
        "y"
      ],
      "execution_count": 28,
      "outputs": [
        {
          "output_type": "execute_result",
          "data": {
            "application/vnd.google.colaboratory.intrinsic+json": {
              "type": "string"
            },
            "text/plain": [
              "'multi-line strings can be written\\nusing three single quote characters as well.\\nThe string can contain \\'single quotes\\' or \"double quotes\"\\nin side it.'"
            ]
          },
          "metadata": {
            "tags": []
          },
          "execution_count": 28
        }
      ]
    },
    {
      "cell_type": "code",
      "metadata": {
        "id": "n1VdQpSbUN9a",
        "colab_type": "code",
        "colab": {}
      },
      "source": [
        "def square (x):\n",
        "  return x * x"
      ],
      "execution_count": 29,
      "outputs": []
    },
    {
      "cell_type": "code",
      "metadata": {
        "id": "Q4-S6n1YUY9q",
        "colab_type": "code",
        "colab": {
          "base_uri": "https://localhost:8080/",
          "height": 34
        },
        "outputId": "3ba3409b-a263-4b2d-b13a-d3263f97df8a"
      },
      "source": [
        "square(5)"
      ],
      "execution_count": 30,
      "outputs": [
        {
          "output_type": "execute_result",
          "data": {
            "text/plain": [
              "25"
            ]
          },
          "metadata": {
            "tags": []
          },
          "execution_count": 30
        }
      ]
    },
    {
      "cell_type": "code",
      "metadata": {
        "id": "_rMeWZTxUaYM",
        "colab_type": "code",
        "colab": {
          "base_uri": "https://localhost:8080/",
          "height": 34
        },
        "outputId": "be58213e-e46f-4f43-a3fa-8aeee162c217"
      },
      "source": [
        "square(3) + square(2)"
      ],
      "execution_count": 31,
      "outputs": [
        {
          "output_type": "execute_result",
          "data": {
            "text/plain": [
              "13"
            ]
          },
          "metadata": {
            "tags": []
          },
          "execution_count": 31
        }
      ]
    },
    {
      "cell_type": "code",
      "metadata": {
        "id": "uMuWPCjTUfeN",
        "colab_type": "code",
        "colab": {
          "base_uri": "https://localhost:8080/",
          "height": 34
        },
        "outputId": "880e9ee8-e534-4ae2-f713-132c11a416d2"
      },
      "source": [
        "square(square(3))"
      ],
      "execution_count": 32,
      "outputs": [
        {
          "output_type": "execute_result",
          "data": {
            "text/plain": [
              "81"
            ]
          },
          "metadata": {
            "tags": []
          },
          "execution_count": 32
        }
      ]
    },
    {
      "cell_type": "code",
      "metadata": {
        "id": "Udg1yJsAUi--",
        "colab_type": "code",
        "colab": {}
      },
      "source": [
        "def sum_of_squares(x,y):\n",
        "  return square(x) +square(y)"
      ],
      "execution_count": 34,
      "outputs": []
    },
    {
      "cell_type": "code",
      "metadata": {
        "id": "CCA2-BwdUtga",
        "colab_type": "code",
        "colab": {
          "base_uri": "https://localhost:8080/",
          "height": 34
        },
        "outputId": "a12a98c4-572c-48ee-c1a3-fe44bc9c062b"
      },
      "source": [
        "print(sum_of_squares(2,3))"
      ],
      "execution_count": 35,
      "outputs": [
        {
          "output_type": "stream",
          "text": [
            "13\n"
          ],
          "name": "stdout"
        }
      ]
    },
    {
      "cell_type": "code",
      "metadata": {
        "id": "v3sHpFVkUzfv",
        "colab_type": "code",
        "colab": {
          "base_uri": "https://localhost:8080/",
          "height": 34
        },
        "outputId": "3225d8c4-eca8-4068-bd8e-5bfa3fe4ccf5"
      },
      "source": [
        "f= square(4)\n",
        "f"
      ],
      "execution_count": 36,
      "outputs": [
        {
          "output_type": "execute_result",
          "data": {
            "text/plain": [
              "16"
            ]
          },
          "metadata": {
            "tags": []
          },
          "execution_count": 36
        }
      ]
    },
    {
      "cell_type": "code",
      "metadata": {
        "id": "C_RLJijlrPpo",
        "colab_type": "code",
        "colab": {}
      },
      "source": [
        "def fxy(f,x,y):\n",
        "  return f(x) + f(y)"
      ],
      "execution_count": 37,
      "outputs": []
    },
    {
      "cell_type": "code",
      "metadata": {
        "id": "vLoUukGhMkrY",
        "colab_type": "code",
        "colab": {
          "base_uri": "https://localhost:8080/",
          "height": 34
        },
        "outputId": "f6ce1e3b-ea9b-4e6c-c797-e82084abd1f5"
      },
      "source": [
        "fxy(square,2,3)"
      ],
      "execution_count": null,
      "outputs": [
        {
          "output_type": "execute_result",
          "data": {
            "text/plain": [
              "13"
            ]
          },
          "metadata": {
            "tags": []
          },
          "execution_count": 38
        }
      ]
    },
    {
      "cell_type": "code",
      "metadata": {
        "id": "m0yYvlHLMnzC",
        "colab_type": "code",
        "colab": {
          "base_uri": "https://localhost:8080/",
          "height": 34
        },
        "outputId": "ce340b1d-6047-451a-8342-5b0609218721"
      },
      "source": [
        "x=0\n",
        "y=0\n",
        "def decr(x):\n",
        "  y = x+1\n",
        "  return y\n",
        "decr(5)\n",
        "print(x,y)"
      ],
      "execution_count": 38,
      "outputs": [
        {
          "output_type": "stream",
          "text": [
            "0 0\n"
          ],
          "name": "stdout"
        }
      ]
    },
    {
      "cell_type": "code",
      "metadata": {
        "id": "cSYKjQg_N-Pf",
        "colab_type": "code",
        "colab": {
          "base_uri": "https://localhost:8080/",
          "height": 34
        },
        "outputId": "05dc2117-f9ce-4e38-fbcc-863ba43ea235"
      },
      "source": [
        "pi=3.14\n",
        "def area(r):\n",
        "  return pi * r * r\n",
        "f= area(20)\n",
        "f"
      ],
      "execution_count": 39,
      "outputs": [
        {
          "output_type": "execute_result",
          "data": {
            "text/plain": [
              "1256.0"
            ]
          },
          "metadata": {
            "tags": []
          },
          "execution_count": 39
        }
      ]
    },
    {
      "cell_type": "code",
      "metadata": {
        "id": "4EqB28kTOPbB",
        "colab_type": "code",
        "colab": {
          "base_uri": "https://localhost:8080/",
          "height": 68
        },
        "outputId": "b4f8bca7-e963-4397-dbb1-fa8fcd9959e1"
      },
      "source": [
        "numcalls =0\n",
        "def square(x):\n",
        "  global numcalls\n",
        "  numcalls = numcalls +1\n",
        "  return x * x\n",
        "print(square(5))\n",
        "print(square(2 * 5))\n",
        "print(numcalls)"
      ],
      "execution_count": 40,
      "outputs": [
        {
          "output_type": "stream",
          "text": [
            "25\n",
            "100\n",
            "2\n"
          ],
          "name": "stdout"
        }
      ]
    },
    {
      "cell_type": "code",
      "metadata": {
        "id": "W3zieSZ-PbM5",
        "colab_type": "code",
        "colab": {
          "base_uri": "https://localhost:8080/",
          "height": 51
        },
        "outputId": "5ef4627d-5e4c-4ab6-ff73-7e6b69c72a98"
      },
      "source": [
        "x= 1\n",
        "def f():\n",
        "  return x\n",
        "print(x)\n",
        "f()\n"
      ],
      "execution_count": 41,
      "outputs": [
        {
          "output_type": "stream",
          "text": [
            "1\n"
          ],
          "name": "stdout"
        },
        {
          "output_type": "execute_result",
          "data": {
            "text/plain": [
              "1"
            ]
          },
          "metadata": {
            "tags": []
          },
          "execution_count": 41
        }
      ]
    },
    {
      "cell_type": "code",
      "metadata": {
        "id": "-PuRgnOeQYtI",
        "colab_type": "code",
        "colab": {
          "base_uri": "https://localhost:8080/",
          "height": 68
        },
        "outputId": "e21a80c9-8920-4119-e4dd-766ab980b57c"
      },
      "source": [
        "x=1\n",
        "def f():\n",
        "  x=2\n",
        "  return x\n",
        "print(x)\n",
        "print(f())\n",
        "print(x)\n"
      ],
      "execution_count": 42,
      "outputs": [
        {
          "output_type": "stream",
          "text": [
            "1\n",
            "2\n",
            "1\n"
          ],
          "name": "stdout"
        }
      ]
    },
    {
      "cell_type": "code",
      "metadata": {
        "id": "9RZwNoruQoXA",
        "colab_type": "code",
        "colab": {
          "base_uri": "https://localhost:8080/",
          "height": 350
        },
        "outputId": "c0b01af3-3f2a-44c6-bd91-bac5f395920c"
      },
      "source": [
        "x=1\n",
        "def f():\n",
        "  y=x\n",
        "  x=2\n",
        "  return x + y\n",
        "print(x)\n",
        "print(f())\n",
        "print(x)"
      ],
      "execution_count": 43,
      "outputs": [
        {
          "output_type": "stream",
          "text": [
            "1\n"
          ],
          "name": "stdout"
        },
        {
          "output_type": "error",
          "ename": "UnboundLocalError",
          "evalue": "ignored",
          "traceback": [
            "\u001b[0;31m---------------------------------------------------------------------------\u001b[0m",
            "\u001b[0;31mUnboundLocalError\u001b[0m                         Traceback (most recent call last)",
            "\u001b[0;32m<ipython-input-43-b0ef11b0a967>\u001b[0m in \u001b[0;36m<module>\u001b[0;34m()\u001b[0m\n\u001b[1;32m      5\u001b[0m   \u001b[0;32mreturn\u001b[0m \u001b[0mx\u001b[0m \u001b[0;34m+\u001b[0m \u001b[0my\u001b[0m\u001b[0;34m\u001b[0m\u001b[0;34m\u001b[0m\u001b[0m\n\u001b[1;32m      6\u001b[0m \u001b[0mprint\u001b[0m\u001b[0;34m(\u001b[0m\u001b[0mx\u001b[0m\u001b[0;34m)\u001b[0m\u001b[0;34m\u001b[0m\u001b[0;34m\u001b[0m\u001b[0m\n\u001b[0;32m----> 7\u001b[0;31m \u001b[0mprint\u001b[0m\u001b[0;34m(\u001b[0m\u001b[0mf\u001b[0m\u001b[0;34m(\u001b[0m\u001b[0;34m)\u001b[0m\u001b[0;34m)\u001b[0m\u001b[0;34m\u001b[0m\u001b[0;34m\u001b[0m\u001b[0m\n\u001b[0m\u001b[1;32m      8\u001b[0m \u001b[0mprint\u001b[0m\u001b[0;34m(\u001b[0m\u001b[0mx\u001b[0m\u001b[0;34m)\u001b[0m\u001b[0;34m\u001b[0m\u001b[0;34m\u001b[0m\u001b[0m\n",
            "\u001b[0;32m<ipython-input-43-b0ef11b0a967>\u001b[0m in \u001b[0;36mf\u001b[0;34m()\u001b[0m\n\u001b[1;32m      1\u001b[0m \u001b[0mx\u001b[0m\u001b[0;34m=\u001b[0m\u001b[0;36m1\u001b[0m\u001b[0;34m\u001b[0m\u001b[0;34m\u001b[0m\u001b[0m\n\u001b[1;32m      2\u001b[0m \u001b[0;32mdef\u001b[0m \u001b[0mf\u001b[0m\u001b[0;34m(\u001b[0m\u001b[0;34m)\u001b[0m\u001b[0;34m:\u001b[0m\u001b[0;34m\u001b[0m\u001b[0;34m\u001b[0m\u001b[0m\n\u001b[0;32m----> 3\u001b[0;31m   \u001b[0my\u001b[0m\u001b[0;34m=\u001b[0m\u001b[0mx\u001b[0m\u001b[0;34m\u001b[0m\u001b[0;34m\u001b[0m\u001b[0m\n\u001b[0m\u001b[1;32m      4\u001b[0m   \u001b[0mx\u001b[0m\u001b[0;34m=\u001b[0m\u001b[0;36m2\u001b[0m\u001b[0;34m\u001b[0m\u001b[0;34m\u001b[0m\u001b[0m\n\u001b[1;32m      5\u001b[0m   \u001b[0;32mreturn\u001b[0m \u001b[0mx\u001b[0m \u001b[0;34m+\u001b[0m \u001b[0my\u001b[0m\u001b[0;34m\u001b[0m\u001b[0;34m\u001b[0m\u001b[0m\n",
            "\u001b[0;31mUnboundLocalError\u001b[0m: local variable 'x' referenced before assignment"
          ]
        }
      ]
    },
    {
      "cell_type": "code",
      "metadata": {
        "id": "5QuXqOKaRGRS",
        "colab_type": "code",
        "colab": {
          "base_uri": "https://localhost:8080/",
          "height": 34
        },
        "outputId": "18c2d939-d366-45b7-db18-de3213b2ba3f"
      },
      "source": [
        "x=2\n",
        "def f(a):\n",
        "  x= a * a\n",
        "  return x\n",
        "y=f(3)\n",
        "print(x,y)\n"
      ],
      "execution_count": 44,
      "outputs": [
        {
          "output_type": "stream",
          "text": [
            "2 9\n"
          ],
          "name": "stdout"
        }
      ]
    },
    {
      "cell_type": "code",
      "metadata": {
        "id": "EP_alJ2hRppW",
        "colab_type": "code",
        "colab": {
          "base_uri": "https://localhost:8080/",
          "height": 34
        },
        "outputId": "19143860-c634-4af0-b115-cde133519e87"
      },
      "source": [
        "def difference(x,y):\n",
        "  return x -y\n",
        "difference(5,2)"
      ],
      "execution_count": 45,
      "outputs": [
        {
          "output_type": "execute_result",
          "data": {
            "text/plain": [
              "3"
            ]
          },
          "metadata": {
            "tags": []
          },
          "execution_count": 45
        }
      ]
    },
    {
      "cell_type": "code",
      "metadata": {
        "id": "nIPcm8cvSQCw",
        "colab_type": "code",
        "colab": {
          "base_uri": "https://localhost:8080/",
          "height": 34
        },
        "outputId": "ce84a282-09c9-4d24-deab-9279be9c21f7"
      },
      "source": [
        "difference(x=2,y=2)"
      ],
      "execution_count": 46,
      "outputs": [
        {
          "output_type": "execute_result",
          "data": {
            "text/plain": [
              "0"
            ]
          },
          "metadata": {
            "tags": []
          },
          "execution_count": 46
        }
      ]
    },
    {
      "cell_type": "code",
      "metadata": {
        "id": "SPtEDtmmSUtf",
        "colab_type": "code",
        "colab": {
          "base_uri": "https://localhost:8080/",
          "height": 34
        },
        "outputId": "b9275569-fd4c-4d6e-b5d2-31c012a99f25"
      },
      "source": [
        "difference(5,y=2)"
      ],
      "execution_count": 47,
      "outputs": [
        {
          "output_type": "execute_result",
          "data": {
            "text/plain": [
              "3"
            ]
          },
          "metadata": {
            "tags": []
          },
          "execution_count": 47
        }
      ]
    },
    {
      "cell_type": "code",
      "metadata": {
        "id": "AQYFOSF_Se_k",
        "colab_type": "code",
        "colab": {
          "base_uri": "https://localhost:8080/",
          "height": 34
        },
        "outputId": "55ee2c2d-d732-49f4-8fe3-0f84edb8140e"
      },
      "source": [
        "difference(y=2,x=5)"
      ],
      "execution_count": null,
      "outputs": [
        {
          "output_type": "execute_result",
          "data": {
            "text/plain": [
              "3"
            ]
          },
          "metadata": {
            "tags": []
          },
          "execution_count": 55
        }
      ]
    },
    {
      "cell_type": "code",
      "metadata": {
        "id": "tV5IiMcXTHIu",
        "colab_type": "code",
        "colab": {
          "base_uri": "https://localhost:8080/",
          "height": 34
        },
        "outputId": "34628c19-4c04-48aa-df9d-96e330f81be2"
      },
      "source": [
        "cube = lambda x:x **3\n",
        "fxy(cube,2,3)"
      ],
      "execution_count": 48,
      "outputs": [
        {
          "output_type": "execute_result",
          "data": {
            "text/plain": [
              "35"
            ]
          },
          "metadata": {
            "tags": []
          },
          "execution_count": 48
        }
      ]
    },
    {
      "cell_type": "code",
      "metadata": {
        "id": "1j9mG6fGTPhI",
        "colab_type": "code",
        "colab": {
          "base_uri": "https://localhost:8080/",
          "height": 34
        },
        "outputId": "0e8cb7ce-7259-4aa3-ec1b-59b5d674d281"
      },
      "source": [
        "fxy(lambda x:x **3,2,3)"
      ],
      "execution_count": null,
      "outputs": [
        {
          "output_type": "execute_result",
          "data": {
            "text/plain": [
              "35"
            ]
          },
          "metadata": {
            "tags": []
          },
          "execution_count": 57
        }
      ]
    },
    {
      "cell_type": "code",
      "metadata": {
        "id": "AmBObcdcTV66",
        "colab_type": "code",
        "colab": {
          "base_uri": "https://localhost:8080/",
          "height": 34
        },
        "outputId": "7b04f16a-2f67-44a5-8409-5bde9e7336a6"
      },
      "source": [
        "3 ** 3"
      ],
      "execution_count": null,
      "outputs": [
        {
          "output_type": "execute_result",
          "data": {
            "text/plain": [
              "27"
            ]
          },
          "metadata": {
            "tags": []
          },
          "execution_count": 58
        }
      ]
    },
    {
      "cell_type": "code",
      "metadata": {
        "id": "cSduHx7uUGrY",
        "colab_type": "code",
        "colab": {
          "base_uri": "https://localhost:8080/",
          "height": 34
        },
        "outputId": "da5b81ab-8a79-491a-f650-f57a873f5fc6"
      },
      "source": [
        "min(2,3)"
      ],
      "execution_count": null,
      "outputs": [
        {
          "output_type": "execute_result",
          "data": {
            "text/plain": [
              "2"
            ]
          },
          "metadata": {
            "tags": []
          },
          "execution_count": 59
        }
      ]
    },
    {
      "cell_type": "code",
      "metadata": {
        "id": "46n4CI-3UZtr",
        "colab_type": "code",
        "colab": {
          "base_uri": "https://localhost:8080/",
          "height": 34
        },
        "outputId": "938ed691-e0a1-4c8d-f3f1-037bb74a3150"
      },
      "source": [
        "max(4,5)"
      ],
      "execution_count": null,
      "outputs": [
        {
          "output_type": "execute_result",
          "data": {
            "text/plain": [
              "5"
            ]
          },
          "metadata": {
            "tags": []
          },
          "execution_count": 60
        }
      ]
    },
    {
      "cell_type": "code",
      "metadata": {
        "id": "Zbf-0WvSUav_",
        "colab_type": "code",
        "colab": {
          "base_uri": "https://localhost:8080/",
          "height": 34
        },
        "outputId": "83f7a122-0902-4cee-ecc4-4e1711bec101"
      },
      "source": [
        "int(\"50\")"
      ],
      "execution_count": null,
      "outputs": [
        {
          "output_type": "execute_result",
          "data": {
            "text/plain": [
              "50"
            ]
          },
          "metadata": {
            "tags": []
          },
          "execution_count": 61
        }
      ]
    },
    {
      "cell_type": "code",
      "metadata": {
        "id": "yYFbAT64UcbN",
        "colab_type": "code",
        "colab": {
          "base_uri": "https://localhost:8080/",
          "height": 34
        },
        "outputId": "28900eb9-88a8-48eb-b8a8-feca83a4beab"
      },
      "source": [
        "len(\"helloworld\")"
      ],
      "execution_count": null,
      "outputs": [
        {
          "output_type": "execute_result",
          "data": {
            "text/plain": [
              "10"
            ]
          },
          "metadata": {
            "tags": []
          },
          "execution_count": 62
        }
      ]
    },
    {
      "cell_type": "code",
      "metadata": {
        "id": "lcPPtN0WUfFZ",
        "colab_type": "code",
        "colab": {
          "base_uri": "https://localhost:8080/",
          "height": 35
        },
        "outputId": "7465d794-73bf-43f1-9589-445a953105ed"
      },
      "source": [
        "str(123)"
      ],
      "execution_count": null,
      "outputs": [
        {
          "output_type": "execute_result",
          "data": {
            "application/vnd.google.colaboratory.intrinsic+json": {
              "type": "string"
            },
            "text/plain": [
              "'123'"
            ]
          },
          "metadata": {
            "tags": []
          },
          "execution_count": 63
        }
      ]
    },
    {
      "cell_type": "code",
      "metadata": {
        "id": "4FbsVo_9UkTp",
        "colab_type": "code",
        "colab": {
          "base_uri": "https://localhost:8080/",
          "height": 163
        },
        "outputId": "69f296cd-e73d-4ecf-ecf5-bb4f2b8b7336"
      },
      "source": [
        "count_digits(5)"
      ],
      "execution_count": null,
      "outputs": [
        {
          "output_type": "error",
          "ename": "NameError",
          "evalue": "ignored",
          "traceback": [
            "\u001b[0;31m---------------------------------------------------------------------------\u001b[0m",
            "\u001b[0;31mNameError\u001b[0m                                 Traceback (most recent call last)",
            "\u001b[0;32m<ipython-input-64-7b368b56a3c2>\u001b[0m in \u001b[0;36m<module>\u001b[0;34m()\u001b[0m\n\u001b[0;32m----> 1\u001b[0;31m \u001b[0mcount_digits\u001b[0m\u001b[0;34m(\u001b[0m\u001b[0;36m5\u001b[0m\u001b[0;34m)\u001b[0m\u001b[0;34m\u001b[0m\u001b[0;34m\u001b[0m\u001b[0m\n\u001b[0m",
            "\u001b[0;31mNameError\u001b[0m: name 'count_digits' is not defined"
          ]
        }
      ]
    },
    {
      "cell_type": "code",
      "metadata": {
        "id": "JnTcDY3AUmwj",
        "colab_type": "code",
        "colab": {
          "base_uri": "https://localhost:8080/",
          "height": 34
        },
        "outputId": "d87d9e95-dbc1-4c17-817c-2f043b42bf9a"
      },
      "source": [
        "x='hello'\n",
        "f=x.upper()\n",
        "print(f)"
      ],
      "execution_count": null,
      "outputs": [
        {
          "output_type": "stream",
          "text": [
            "HELLO\n"
          ],
          "name": "stdout"
        }
      ]
    },
    {
      "cell_type": "code",
      "metadata": {
        "id": "JHTqK7gwUtTi",
        "colab_type": "code",
        "colab": {
          "base_uri": "https://localhost:8080/",
          "height": 34
        },
        "outputId": "8cfb7d42-bc4b-43df-9e00-b6bedab7a4b3"
      },
      "source": [
        "2<3"
      ],
      "execution_count": null,
      "outputs": [
        {
          "output_type": "execute_result",
          "data": {
            "text/plain": [
              "True"
            ]
          },
          "metadata": {
            "tags": []
          },
          "execution_count": 67
        }
      ]
    },
    {
      "cell_type": "code",
      "metadata": {
        "id": "O6MozOGBUzBB",
        "colab_type": "code",
        "colab": {
          "base_uri": "https://localhost:8080/",
          "height": 34
        },
        "outputId": "a152ac77-b62a-4631-f9e7-1c599beb9098"
      },
      "source": [
        "3>2"
      ],
      "execution_count": null,
      "outputs": [
        {
          "output_type": "execute_result",
          "data": {
            "text/plain": [
              "True"
            ]
          },
          "metadata": {
            "tags": []
          },
          "execution_count": 68
        }
      ]
    },
    {
      "cell_type": "code",
      "metadata": {
        "id": "W5UbOJKbUz2v",
        "colab_type": "code",
        "colab": {
          "base_uri": "https://localhost:8080/",
          "height": 34
        },
        "outputId": "9d04883e-2fc7-4bd6-a36e-e6d22875cc51"
      },
      "source": [
        "3<2"
      ],
      "execution_count": null,
      "outputs": [
        {
          "output_type": "execute_result",
          "data": {
            "text/plain": [
              "False"
            ]
          },
          "metadata": {
            "tags": []
          },
          "execution_count": 69
        }
      ]
    },
    {
      "cell_type": "code",
      "metadata": {
        "id": "1CGhqBI0U0_v",
        "colab_type": "code",
        "colab": {
          "base_uri": "https://localhost:8080/",
          "height": 34
        },
        "outputId": "9edb9dc5-c7f4-4925-ae66-529c489e7ff7"
      },
      "source": [
        "x=5\n",
        "2<x<10"
      ],
      "execution_count": null,
      "outputs": [
        {
          "output_type": "execute_result",
          "data": {
            "text/plain": [
              "True"
            ]
          },
          "metadata": {
            "tags": []
          },
          "execution_count": 70
        }
      ]
    },
    {
      "cell_type": "code",
      "metadata": {
        "id": "3-z34rVoU5f1",
        "colab_type": "code",
        "colab": {
          "base_uri": "https://localhost:8080/",
          "height": 34
        },
        "outputId": "fcfac16a-06de-49bf-8c57-a7812079c9bd"
      },
      "source": [
        "2<3<4<5<6"
      ],
      "execution_count": null,
      "outputs": [
        {
          "output_type": "execute_result",
          "data": {
            "text/plain": [
              "True"
            ]
          },
          "metadata": {
            "tags": []
          },
          "execution_count": 71
        }
      ]
    },
    {
      "cell_type": "code",
      "metadata": {
        "id": "9jLOkNRHU8jV",
        "colab_type": "code",
        "colab": {
          "base_uri": "https://localhost:8080/",
          "height": 85
        },
        "outputId": "ab770df8-90cb-4776-c4ef-4f418d5e364d"
      },
      "source": [
        "print(2 <3 and 3>1)\n",
        "print(2<3 or 3>1)\n",
        "print(2<3 or not 3>1)\n",
        "print(2>3 and not 3 >1)"
      ],
      "execution_count": null,
      "outputs": [
        {
          "output_type": "stream",
          "text": [
            "True\n",
            "True\n",
            "True\n",
            "False\n"
          ],
          "name": "stdout"
        }
      ]
    },
    {
      "cell_type": "code",
      "metadata": {
        "id": "V8eUXE5hVPMw",
        "colab_type": "code",
        "colab": {
          "base_uri": "https://localhost:8080/",
          "height": 129
        },
        "outputId": "1c4e648d-9156-4005-8dbf-8eb316689741"
      },
      "source": [
        "True,False= False, True\n",
        "print(True,False)"
      ],
      "execution_count": null,
      "outputs": [
        {
          "output_type": "error",
          "ename": "SyntaxError",
          "evalue": "ignored",
          "traceback": [
            "\u001b[0;36m  File \u001b[0;32m\"<ipython-input-73-36df45bcb646>\"\u001b[0;36m, line \u001b[0;32m1\u001b[0m\n\u001b[0;31m    True,False= False, True\u001b[0m\n\u001b[0m                           ^\u001b[0m\n\u001b[0;31mSyntaxError\u001b[0m\u001b[0;31m:\u001b[0m can't assign to keyword\n"
          ]
        }
      ]
    },
    {
      "cell_type": "code",
      "metadata": {
        "id": "BswJlzUkVW9R",
        "colab_type": "code",
        "colab": {
          "base_uri": "https://localhost:8080/",
          "height": 34
        },
        "outputId": "83094959-b10d-4bf5-815a-8c78a20b0990"
      },
      "source": [
        "x=42\n",
        "if x % 2 ==0:\n",
        "  print(\"even\")"
      ],
      "execution_count": null,
      "outputs": [
        {
          "output_type": "stream",
          "text": [
            "even\n"
          ],
          "name": "stdout"
        }
      ]
    },
    {
      "cell_type": "code",
      "metadata": {
        "id": "wUhvMjgpWufE",
        "colab_type": "code",
        "colab": {
          "base_uri": "https://localhost:8080/",
          "height": 34
        },
        "outputId": "e99eb1c6-bf50-46f2-92e8-78c689ec4c2a"
      },
      "source": [
        "x= 3\n",
        "if x % 2 ==0:\n",
        "  print(\"even\")\n",
        "else:\n",
        "  print(\"odd\")"
      ],
      "execution_count": null,
      "outputs": [
        {
          "output_type": "stream",
          "text": [
            "odd\n"
          ],
          "name": "stdout"
        }
      ]
    },
    {
      "cell_type": "code",
      "metadata": {
        "id": "WKo2MCkxW7QC",
        "colab_type": "code",
        "colab": {
          "base_uri": "https://localhost:8080/",
          "height": 34
        },
        "outputId": "562383e1-2ad5-4c3f-ce8a-849dda5eaba8"
      },
      "source": [
        "x=2\n",
        "if x==2:\n",
        "  print(x)\n",
        "else:\n",
        "  print(y)"
      ],
      "execution_count": 49,
      "outputs": [
        {
          "output_type": "stream",
          "text": [
            "2\n"
          ],
          "name": "stdout"
        }
      ]
    },
    {
      "cell_type": "code",
      "metadata": {
        "id": "2QHtb8e2L5hh",
        "colab_type": "code",
        "colab": {
          "base_uri": "https://localhost:8080/",
          "height": 129
        },
        "outputId": "31c4d331-895c-4c11-b45c-580ec7567af8"
      },
      "source": [
        "x=2\n",
        "if x==2:\n",
        "  print(x)\n",
        "else:\n",
        "  x +"
      ],
      "execution_count": 50,
      "outputs": [
        {
          "output_type": "error",
          "ename": "SyntaxError",
          "evalue": "ignored",
          "traceback": [
            "\u001b[0;36m  File \u001b[0;32m\"<ipython-input-50-b2113b6be8fd>\"\u001b[0;36m, line \u001b[0;32m5\u001b[0m\n\u001b[0;31m    x +\u001b[0m\n\u001b[0m       ^\u001b[0m\n\u001b[0;31mSyntaxError\u001b[0m\u001b[0;31m:\u001b[0m invalid syntax\n"
          ]
        }
      ]
    },
    {
      "cell_type": "code",
      "metadata": {
        "id": "8RWYBpKbMn49",
        "colab_type": "code",
        "colab": {
          "base_uri": "https://localhost:8080/",
          "height": 34
        },
        "outputId": "6408b011-09d0-4c16-ed5e-9fee23b1e884"
      },
      "source": [
        "x=[1,2,3]\n",
        "x"
      ],
      "execution_count": 53,
      "outputs": [
        {
          "output_type": "execute_result",
          "data": {
            "text/plain": [
              "[1, 2, 3]"
            ]
          },
          "metadata": {
            "tags": []
          },
          "execution_count": 53
        }
      ]
    },
    {
      "cell_type": "code",
      "metadata": {
        "id": "RctSefcNNjop",
        "colab_type": "code",
        "colab": {
          "base_uri": "https://localhost:8080/",
          "height": 34
        },
        "outputId": "31aa2532-8858-4b53-9d8e-dc9be39668a0"
      },
      "source": [
        "x=[\"hello\",\"world\"]\n",
        "x"
      ],
      "execution_count": 54,
      "outputs": [
        {
          "output_type": "execute_result",
          "data": {
            "text/plain": [
              "['hello', 'world']"
            ]
          },
          "metadata": {
            "tags": []
          },
          "execution_count": 54
        }
      ]
    },
    {
      "cell_type": "code",
      "metadata": {
        "id": "dM-4oeuMNqFh",
        "colab_type": "code",
        "colab": {
          "base_uri": "https://localhost:8080/",
          "height": 34
        },
        "outputId": "3cd60673-7694-4615-8472-cf6551f85d19"
      },
      "source": [
        "x = [1, 2, \"hello\", \"world\", [\"another\", \"list\"]]\n",
        "x"
      ],
      "execution_count": 55,
      "outputs": [
        {
          "output_type": "execute_result",
          "data": {
            "text/plain": [
              "[1, 2, 'hello', 'world', ['another', 'list']]"
            ]
          },
          "metadata": {
            "tags": []
          },
          "execution_count": 55
        }
      ]
    },
    {
      "cell_type": "code",
      "metadata": {
        "id": "wW6mLT2SOhUS",
        "colab_type": "code",
        "colab": {
          "base_uri": "https://localhost:8080/",
          "height": 34
        },
        "outputId": "0d7b74ab-3eaf-4919-b7de-ddf6e21ed421"
      },
      "source": [
        "x=[1,2,3]\n",
        "len(x)"
      ],
      "execution_count": 56,
      "outputs": [
        {
          "output_type": "execute_result",
          "data": {
            "text/plain": [
              "3"
            ]
          },
          "metadata": {
            "tags": []
          },
          "execution_count": 56
        }
      ]
    },
    {
      "cell_type": "code",
      "metadata": {
        "id": "8cOshZ6LPiYL",
        "colab_type": "code",
        "colab": {
          "base_uri": "https://localhost:8080/",
          "height": 34
        },
        "outputId": "eff0d13e-766e-4b98-d098-30b49c448e8e"
      },
      "source": [
        "x=[1,2,3]\n",
        "x[1]"
      ],
      "execution_count": 57,
      "outputs": [
        {
          "output_type": "execute_result",
          "data": {
            "text/plain": [
              "2"
            ]
          },
          "metadata": {
            "tags": []
          },
          "execution_count": 57
        }
      ]
    },
    {
      "cell_type": "code",
      "metadata": {
        "id": "rV7c1_U4Pn3G",
        "colab_type": "code",
        "colab": {
          "base_uri": "https://localhost:8080/",
          "height": 34
        },
        "outputId": "bacc11df-aa27-4b52-b094-c48fce47888a"
      },
      "source": [
        "import time\n",
        "time.time()"
      ],
      "execution_count": 1,
      "outputs": [
        {
          "output_type": "execute_result",
          "data": {
            "text/plain": [
              "1599939008.5975661"
            ]
          },
          "metadata": {
            "tags": []
          },
          "execution_count": 1
        }
      ]
    },
    {
      "cell_type": "code",
      "metadata": {
        "id": "csBlN8yhy8Rr",
        "colab_type": "code",
        "colab": {
          "base_uri": "https://localhost:8080/",
          "height": 34
        },
        "outputId": "efe544c5-d483-47ab-9ea4-18157f423d0f"
      },
      "source": [
        "import sys\n",
        "print (sys.argv[1])"
      ],
      "execution_count": 2,
      "outputs": [
        {
          "output_type": "stream",
          "text": [
            "-f\n"
          ],
          "name": "stdout"
        }
      ]
    },
    {
      "cell_type": "code",
      "metadata": {
        "id": "rNwKOKxkz8O-",
        "colab_type": "code",
        "colab": {
          "base_uri": "https://localhost:8080/",
          "height": 34
        },
        "outputId": "147603df-d7dd-4514-c421-7947063df264"
      },
      "source": [
        "a=[1,2]\n",
        "b= [3,4,5,a]\n",
        "b\n"
      ],
      "execution_count": 3,
      "outputs": [
        {
          "output_type": "execute_result",
          "data": {
            "text/plain": [
              "[3, 4, 5, [1, 2]]"
            ]
          },
          "metadata": {
            "tags": []
          },
          "execution_count": 3
        }
      ]
    },
    {
      "cell_type": "code",
      "metadata": {
        "id": "y_VP5aLa0JpB",
        "colab_type": "code",
        "colab": {
          "base_uri": "https://localhost:8080/",
          "height": 34
        },
        "outputId": "7b602696-282e-4871-e3bc-08e0e8999cfa"
      },
      "source": [
        "range(4)"
      ],
      "execution_count": 1,
      "outputs": [
        {
          "output_type": "execute_result",
          "data": {
            "text/plain": [
              "range(0, 4)"
            ]
          },
          "metadata": {
            "tags": []
          },
          "execution_count": 1
        }
      ]
    },
    {
      "cell_type": "code",
      "metadata": {
        "id": "ifB2LQAIk2SH",
        "colab_type": "code",
        "colab": {
          "base_uri": "https://localhost:8080/",
          "height": 34
        },
        "outputId": "1f1dcc14-1c60-4bee-cfc0-4c2a49daf046"
      },
      "source": [
        "list(range(2,10,3))"
      ],
      "execution_count": 3,
      "outputs": [
        {
          "output_type": "execute_result",
          "data": {
            "text/plain": [
              "[2, 5, 8]"
            ]
          },
          "metadata": {
            "tags": []
          },
          "execution_count": 3
        }
      ]
    },
    {
      "cell_type": "code",
      "metadata": {
        "id": "OhIN9fJ4lBxn",
        "colab_type": "code",
        "colab": {
          "base_uri": "https://localhost:8080/",
          "height": 34
        },
        "outputId": "bd0d9d71-f126-46ca-c3a8-7a34f2feedbc"
      },
      "source": [
        "a=[1,2,3,4]\n",
        "len(a)"
      ],
      "execution_count": 5,
      "outputs": [
        {
          "output_type": "execute_result",
          "data": {
            "text/plain": [
              "4"
            ]
          },
          "metadata": {
            "tags": []
          },
          "execution_count": 5
        }
      ]
    },
    {
      "cell_type": "code",
      "metadata": {
        "id": "UjMhb_hDqiey",
        "colab_type": "code",
        "colab": {
          "base_uri": "https://localhost:8080/",
          "height": 34
        },
        "outputId": "5ef2d20d-8ce4-4f32-90a8-bbf1e2484078"
      },
      "source": [
        "x=[1,2,3,4]\n",
        "x[-1]"
      ],
      "execution_count": 6,
      "outputs": [
        {
          "output_type": "execute_result",
          "data": {
            "text/plain": [
              "4"
            ]
          },
          "metadata": {
            "tags": []
          },
          "execution_count": 6
        }
      ]
    },
    {
      "cell_type": "code",
      "metadata": {
        "id": "531Gfnacvo7_",
        "colab_type": "code",
        "colab": {
          "base_uri": "https://localhost:8080/",
          "height": 34
        },
        "outputId": "1305e79f-d2ea-484b-fa8f-2384036a44a1"
      },
      "source": [
        "x[0:2]"
      ],
      "execution_count": 7,
      "outputs": [
        {
          "output_type": "execute_result",
          "data": {
            "text/plain": [
              "[1, 2]"
            ]
          },
          "metadata": {
            "tags": []
          },
          "execution_count": 7
        }
      ]
    },
    {
      "cell_type": "code",
      "metadata": {
        "id": "8W14Jxh21DwD",
        "colab_type": "code",
        "colab": {
          "base_uri": "https://localhost:8080/",
          "height": 34
        },
        "outputId": "f93402fe-583c-4046-ed7e-ef6f1d4d00a2"
      },
      "source": [
        "x[1:4]"
      ],
      "execution_count": 8,
      "outputs": [
        {
          "output_type": "execute_result",
          "data": {
            "text/plain": [
              "[2, 3, 4]"
            ]
          },
          "metadata": {
            "tags": []
          },
          "execution_count": 8
        }
      ]
    },
    {
      "cell_type": "code",
      "metadata": {
        "id": "XXL0XnvG1HIf",
        "colab_type": "code",
        "colab": {
          "base_uri": "https://localhost:8080/",
          "height": 34
        },
        "outputId": "cf9fe968-e86d-4dd5-f453-e314cbfeaf44"
      },
      "source": [
        "x[0:-1]"
      ],
      "execution_count": 9,
      "outputs": [
        {
          "output_type": "execute_result",
          "data": {
            "text/plain": [
              "[1, 2, 3]"
            ]
          },
          "metadata": {
            "tags": []
          },
          "execution_count": 9
        }
      ]
    },
    {
      "cell_type": "code",
      "metadata": {
        "id": "3_F096881kTH",
        "colab_type": "code",
        "colab": {
          "base_uri": "https://localhost:8080/",
          "height": 34
        },
        "outputId": "8f62e825-a384-4d49-dd97-79bd979c667b"
      },
      "source": [
        "x[:2]"
      ],
      "execution_count": 10,
      "outputs": [
        {
          "output_type": "execute_result",
          "data": {
            "text/plain": [
              "[1, 2]"
            ]
          },
          "metadata": {
            "tags": []
          },
          "execution_count": 10
        }
      ]
    },
    {
      "cell_type": "code",
      "metadata": {
        "id": "AWP8go_x2LU5",
        "colab_type": "code",
        "colab": {
          "base_uri": "https://localhost:8080/",
          "height": 34
        },
        "outputId": "7b74f2d8-f201-439c-e8b2-f2ddbc837d5b"
      },
      "source": [
        "x[2:]"
      ],
      "execution_count": 11,
      "outputs": [
        {
          "output_type": "execute_result",
          "data": {
            "text/plain": [
              "[3, 4]"
            ]
          },
          "metadata": {
            "tags": []
          },
          "execution_count": 11
        }
      ]
    },
    {
      "cell_type": "code",
      "metadata": {
        "id": "7_uOETAh2Nfg",
        "colab_type": "code",
        "colab": {
          "base_uri": "https://localhost:8080/",
          "height": 34
        },
        "outputId": "57f94267-6d86-462b-f8c2-42efd897b677"
      },
      "source": [
        "x[:]"
      ],
      "execution_count": 12,
      "outputs": [
        {
          "output_type": "execute_result",
          "data": {
            "text/plain": [
              "[1, 2, 3, 4]"
            ]
          },
          "metadata": {
            "tags": []
          },
          "execution_count": 12
        }
      ]
    },
    {
      "cell_type": "code",
      "metadata": {
        "id": "jxi3bywE2PCQ",
        "colab_type": "code",
        "colab": {
          "base_uri": "https://localhost:8080/",
          "height": 34
        },
        "outputId": "d3ce49de-bfe9-4c64-e0ba-11c51084be27"
      },
      "source": [
        "x= range(10)\n",
        "x"
      ],
      "execution_count": 14,
      "outputs": [
        {
          "output_type": "execute_result",
          "data": {
            "text/plain": [
              "range(0, 10)"
            ]
          },
          "metadata": {
            "tags": []
          },
          "execution_count": 14
        }
      ]
    },
    {
      "cell_type": "code",
      "metadata": {
        "id": "_YY6LZht2YEr",
        "colab_type": "code",
        "colab": {
          "base_uri": "https://localhost:8080/",
          "height": 34
        },
        "outputId": "aca1b0f2-18c7-48ee-b73f-561e2dd0cd52"
      },
      "source": [
        "x=list(x)\n",
        "x"
      ],
      "execution_count": 17,
      "outputs": [
        {
          "output_type": "execute_result",
          "data": {
            "text/plain": [
              "[0, 1, 2, 3, 4, 5, 6, 7, 8, 9]"
            ]
          },
          "metadata": {
            "tags": []
          },
          "execution_count": 17
        }
      ]
    },
    {
      "cell_type": "code",
      "metadata": {
        "id": "d0a-Q4y-2gMz",
        "colab_type": "code",
        "colab": {
          "base_uri": "https://localhost:8080/",
          "height": 34
        },
        "outputId": "9b4d34d3-457c-4720-c924-ba271825c16c"
      },
      "source": [
        "x[0:6:2]"
      ],
      "execution_count": 18,
      "outputs": [
        {
          "output_type": "execute_result",
          "data": {
            "text/plain": [
              "[0, 2, 4]"
            ]
          },
          "metadata": {
            "tags": []
          },
          "execution_count": 18
        }
      ]
    },
    {
      "cell_type": "code",
      "metadata": {
        "id": "fe8Dpq3A2lec",
        "colab_type": "code",
        "colab": {
          "base_uri": "https://localhost:8080/",
          "height": 34
        },
        "outputId": "efbb33f9-d87e-494f-ef52-311472a74fa8"
      },
      "source": [
        "2 in x"
      ],
      "execution_count": 19,
      "outputs": [
        {
          "output_type": "execute_result",
          "data": {
            "text/plain": [
              "True"
            ]
          },
          "metadata": {
            "tags": []
          },
          "execution_count": 19
        }
      ]
    },
    {
      "cell_type": "code",
      "metadata": {
        "id": "PVuTrp4E3ruo",
        "colab_type": "code",
        "colab": {
          "base_uri": "https://localhost:8080/",
          "height": 34
        },
        "outputId": "7f163927-35c4-48cc-b901-66d2266d7ad2"
      },
      "source": [
        "a=[1,2]\n",
        "a.append(3)\n",
        "a"
      ],
      "execution_count": 20,
      "outputs": [
        {
          "output_type": "execute_result",
          "data": {
            "text/plain": [
              "[1, 2, 3]"
            ]
          },
          "metadata": {
            "tags": []
          },
          "execution_count": 20
        }
      ]
    },
    {
      "cell_type": "code",
      "metadata": {
        "id": "SVcLrIho31WY",
        "colab_type": "code",
        "colab": {
          "base_uri": "https://localhost:8080/",
          "height": 34
        },
        "outputId": "7fc20f09-7d23-4146-b695-8cfc059502e9"
      },
      "source": [
        "x = [0, 1, [2]]\n",
        "x[2][0] = 3\n",
        "print(x)"
      ],
      "execution_count": 21,
      "outputs": [
        {
          "output_type": "stream",
          "text": [
            "[0, 1, [3]]\n"
          ],
          "name": "stdout"
        }
      ]
    },
    {
      "cell_type": "code",
      "metadata": {
        "id": "6f8G3iCG3-uD",
        "colab_type": "code",
        "colab": {
          "base_uri": "https://localhost:8080/",
          "height": 34
        },
        "outputId": "4e6e72a7-8408-4639-a945-acb9aa58e5d7"
      },
      "source": [
        "x[2].append(4)\n",
        "x"
      ],
      "execution_count": 22,
      "outputs": [
        {
          "output_type": "execute_result",
          "data": {
            "text/plain": [
              "[0, 1, [3, 4]]"
            ]
          },
          "metadata": {
            "tags": []
          },
          "execution_count": 22
        }
      ]
    },
    {
      "cell_type": "code",
      "metadata": {
        "id": "QHYgRdTu4FuX",
        "colab_type": "code",
        "colab": {
          "base_uri": "https://localhost:8080/",
          "height": 85
        },
        "outputId": "3c2197ee-6a5b-4ddb-c76a-82c7217b6bf1"
      },
      "source": [
        "for x in [1,2,3,4]:\n",
        "  print(x)"
      ],
      "execution_count": 23,
      "outputs": [
        {
          "output_type": "stream",
          "text": [
            "1\n",
            "2\n",
            "3\n",
            "4\n"
          ],
          "name": "stdout"
        }
      ]
    },
    {
      "cell_type": "code",
      "metadata": {
        "id": "paNC8Q5548oX",
        "colab_type": "code",
        "colab": {
          "base_uri": "https://localhost:8080/",
          "height": 187
        },
        "outputId": "490092d2-4451-4cde-cf53-30e2e97bcd34"
      },
      "source": [
        "for i in range(10):\n",
        "  print(i,i*i,i*i*i)"
      ],
      "execution_count": 24,
      "outputs": [
        {
          "output_type": "stream",
          "text": [
            "0 0 0\n",
            "1 1 1\n",
            "2 4 8\n",
            "3 9 27\n",
            "4 16 64\n",
            "5 25 125\n",
            "6 36 216\n",
            "7 49 343\n",
            "8 64 512\n",
            "9 81 729\n"
          ],
          "name": "stdout"
        }
      ]
    },
    {
      "cell_type": "code",
      "metadata": {
        "id": "dgUh6-YH5FsQ",
        "colab_type": "code",
        "colab": {
          "base_uri": "https://localhost:8080/",
          "height": 34
        },
        "outputId": "68762159-f487-40bc-cb6f-ef9e3bd8190e"
      },
      "source": [
        "list(zip([\"a\",\"b\",\"c\"],[1,2,3]))"
      ],
      "execution_count": 28,
      "outputs": [
        {
          "output_type": "execute_result",
          "data": {
            "text/plain": [
              "[('a', 1), ('b', 2), ('c', 3)]"
            ]
          },
          "metadata": {
            "tags": []
          },
          "execution_count": 28
        }
      ]
    },
    {
      "cell_type": "code",
      "metadata": {
        "id": "tJ8OvsRS5bBS",
        "colab_type": "code",
        "colab": {
          "base_uri": "https://localhost:8080/",
          "height": 68
        },
        "outputId": "fff60f3b-0b46-44bb-d174-3ab5284fcf72"
      },
      "source": [
        "names=[\"a\",\"b\",\"c\"]\n",
        "values=[1,2,3]\n",
        "for name,value in zip(names,values):\n",
        "  print(name,value)"
      ],
      "execution_count": 30,
      "outputs": [
        {
          "output_type": "stream",
          "text": [
            "a 1\n",
            "b 2\n",
            "c 3\n"
          ],
          "name": "stdout"
        }
      ]
    },
    {
      "cell_type": "code",
      "metadata": {
        "id": "1D7kwcqG6SKt",
        "colab_type": "code",
        "colab": {
          "base_uri": "https://localhost:8080/",
          "height": 34
        },
        "outputId": "58470a57-eb18-4c31-9c18-d6d419ef2a94"
      },
      "source": [
        "a = [2, 10, 4, 3, 7]\n",
        "a.sort()\n",
        "a"
      ],
      "execution_count": 31,
      "outputs": [
        {
          "output_type": "execute_result",
          "data": {
            "text/plain": [
              "[2, 3, 4, 7, 10]"
            ]
          },
          "metadata": {
            "tags": []
          },
          "execution_count": 31
        }
      ]
    },
    {
      "cell_type": "code",
      "metadata": {
        "id": "OYzldkK-6lQo",
        "colab_type": "code",
        "colab": {
          "base_uri": "https://localhost:8080/",
          "height": 34
        },
        "outputId": "07640469-e55d-47ee-d490-7ece02024c4e"
      },
      "source": [
        "sorted(a)"
      ],
      "execution_count": 33,
      "outputs": [
        {
          "output_type": "execute_result",
          "data": {
            "text/plain": [
              "[2, 3, 4, 7, 10]"
            ]
          },
          "metadata": {
            "tags": []
          },
          "execution_count": 33
        }
      ]
    },
    {
      "cell_type": "markdown",
      "metadata": {
        "id": "UICppOrB9Kwb",
        "colab_type": "text"
      },
      "source": [
        "This sorts all the elements of the list based on the value of second element of each entry."
      ]
    },
    {
      "cell_type": "code",
      "metadata": {
        "id": "s8HTkFqK88hV",
        "colab_type": "code",
        "colab": {
          "base_uri": "https://localhost:8080/",
          "height": 34
        },
        "outputId": "30bcad2f-465b-4aae-a761-98ecdf610449"
      },
      "source": [
        "a = [[2, 3], [4, 6], [6, 1]]\n",
        "a.sort(key=lambda x: x[1])\n",
        "a"
      ],
      "execution_count": 34,
      "outputs": [
        {
          "output_type": "execute_result",
          "data": {
            "text/plain": [
              "[[6, 1], [2, 3], [4, 6]]"
            ]
          },
          "metadata": {
            "tags": []
          },
          "execution_count": 34
        }
      ]
    },
    {
      "cell_type": "code",
      "metadata": {
        "id": "fFwQPkGS9USA",
        "colab_type": "code",
        "colab": {}
      },
      "source": [
        "a=(1,2,3)"
      ],
      "execution_count": 1,
      "outputs": []
    },
    {
      "cell_type": "code",
      "metadata": {
        "id": "laXvo-DqWycW",
        "colab_type": "code",
        "colab": {
          "base_uri": "https://localhost:8080/",
          "height": 34
        },
        "outputId": "fd3119a2-56a6-4163-8a33-3bcdb4b494eb"
      },
      "source": [
        "a[0]"
      ],
      "execution_count": 2,
      "outputs": [
        {
          "output_type": "execute_result",
          "data": {
            "text/plain": [
              "1"
            ]
          },
          "metadata": {
            "tags": []
          },
          "execution_count": 2
        }
      ]
    },
    {
      "cell_type": "code",
      "metadata": {
        "id": "4UCa2Jw6W0pC",
        "colab_type": "code",
        "colab": {
          "base_uri": "https://localhost:8080/",
          "height": 34
        },
        "outputId": "2b64a113-b739-487a-d8fd-84d465ac85bb"
      },
      "source": [
        "len(a)"
      ],
      "execution_count": 3,
      "outputs": [
        {
          "output_type": "execute_result",
          "data": {
            "text/plain": [
              "3"
            ]
          },
          "metadata": {
            "tags": []
          },
          "execution_count": 3
        }
      ]
    },
    {
      "cell_type": "code",
      "metadata": {
        "id": "zmUIai4vW2_J",
        "colab_type": "code",
        "colab": {
          "base_uri": "https://localhost:8080/",
          "height": 34
        },
        "outputId": "56611dfc-8ccb-455a-b8c3-a0a0669298fd"
      },
      "source": [
        "a[1:]"
      ],
      "execution_count": 4,
      "outputs": [
        {
          "output_type": "execute_result",
          "data": {
            "text/plain": [
              "(2, 3)"
            ]
          },
          "metadata": {
            "tags": []
          },
          "execution_count": 4
        }
      ]
    },
    {
      "cell_type": "code",
      "metadata": {
        "id": "njtGuOTyW5hO",
        "colab_type": "code",
        "colab": {
          "base_uri": "https://localhost:8080/",
          "height": 34
        },
        "outputId": "ffdbbd8f-040a-40f4-c146-9a7a3603d136"
      },
      "source": [
        "a=(1)\n",
        "a"
      ],
      "execution_count": 5,
      "outputs": [
        {
          "output_type": "execute_result",
          "data": {
            "text/plain": [
              "1"
            ]
          },
          "metadata": {
            "tags": []
          },
          "execution_count": 5
        }
      ]
    },
    {
      "cell_type": "code",
      "metadata": {
        "id": "K8opNnw-XAg0",
        "colab_type": "code",
        "colab": {
          "base_uri": "https://localhost:8080/",
          "height": 34
        },
        "outputId": "3bc158ec-8ad8-40b1-e699-7cd1f89e619d"
      },
      "source": [
        "b=(1,)\n",
        "b"
      ],
      "execution_count": 6,
      "outputs": [
        {
          "output_type": "execute_result",
          "data": {
            "text/plain": [
              "(1,)"
            ]
          },
          "metadata": {
            "tags": []
          },
          "execution_count": 6
        }
      ]
    },
    {
      "cell_type": "code",
      "metadata": {
        "id": "XiJK1xl9XD7w",
        "colab_type": "code",
        "colab": {
          "base_uri": "https://localhost:8080/",
          "height": 34
        },
        "outputId": "8b747aed-0a0a-4b2e-f220-d2b57c6d5e27"
      },
      "source": [
        "b[0]"
      ],
      "execution_count": 7,
      "outputs": [
        {
          "output_type": "execute_result",
          "data": {
            "text/plain": [
              "1"
            ]
          },
          "metadata": {
            "tags": []
          },
          "execution_count": 7
        }
      ]
    },
    {
      "cell_type": "code",
      "metadata": {
        "id": "BSDcamZAYEbj",
        "colab_type": "code",
        "colab": {
          "base_uri": "https://localhost:8080/",
          "height": 34
        },
        "outputId": "9fb3ce4f-3f68-4dd7-eb43-244e151a5b2d"
      },
      "source": [
        "x=set([1,2,3,4])\n",
        "x"
      ],
      "execution_count": 9,
      "outputs": [
        {
          "output_type": "execute_result",
          "data": {
            "text/plain": [
              "{1, 2, 3, 4}"
            ]
          },
          "metadata": {
            "tags": []
          },
          "execution_count": 9
        }
      ]
    },
    {
      "cell_type": "code",
      "metadata": {
        "id": "98fQRHlJYMI8",
        "colab_type": "code",
        "colab": {
          "base_uri": "https://localhost:8080/",
          "height": 34
        },
        "outputId": "bf0c7c34-3284-44fc-b6e2-92b05babfdd6"
      },
      "source": [
        "x={3,1,2,1}\n",
        "x"
      ],
      "execution_count": 10,
      "outputs": [
        {
          "output_type": "execute_result",
          "data": {
            "text/plain": [
              "{1, 2, 3}"
            ]
          },
          "metadata": {
            "tags": []
          },
          "execution_count": 10
        }
      ]
    },
    {
      "cell_type": "code",
      "metadata": {
        "id": "5QOTTGZ5Yw5P",
        "colab_type": "code",
        "colab": {
          "base_uri": "https://localhost:8080/",
          "height": 34
        },
        "outputId": "1de00af5-e724-40f4-99f7-83a49ff3d24e"
      },
      "source": [
        "x=set([1,2,3])\n",
        "x.add(5)\n",
        "x"
      ],
      "execution_count": 13,
      "outputs": [
        {
          "output_type": "execute_result",
          "data": {
            "text/plain": [
              "{1, 2, 3, 5}"
            ]
          },
          "metadata": {
            "tags": []
          },
          "execution_count": 13
        }
      ]
    },
    {
      "cell_type": "code",
      "metadata": {
        "id": "2FatVAIFY5tv",
        "colab_type": "code",
        "colab": {
          "base_uri": "https://localhost:8080/",
          "height": 34
        },
        "outputId": "2d0d2432-e005-4372-bbf5-6c1e26b725f1"
      },
      "source": [
        "1 in x"
      ],
      "execution_count": 14,
      "outputs": [
        {
          "output_type": "execute_result",
          "data": {
            "text/plain": [
              "True"
            ]
          },
          "metadata": {
            "tags": []
          },
          "execution_count": 14
        }
      ]
    },
    {
      "cell_type": "code",
      "metadata": {
        "id": "vLhaHayPZBFI",
        "colab_type": "code",
        "colab": {
          "base_uri": "https://localhost:8080/",
          "height": 34
        },
        "outputId": "21ab603d-2ef7-47a6-b03b-9dfb4c0e6a98"
      },
      "source": [
        "5 in x"
      ],
      "execution_count": 15,
      "outputs": [
        {
          "output_type": "execute_result",
          "data": {
            "text/plain": [
              "True"
            ]
          },
          "metadata": {
            "tags": []
          },
          "execution_count": 15
        }
      ]
    },
    {
      "cell_type": "code",
      "metadata": {
        "id": "nPQC3SBrZCEl",
        "colab_type": "code",
        "colab": {
          "base_uri": "https://localhost:8080/",
          "height": 34
        },
        "outputId": "b8ea25d4-e142-4097-afe8-117a39aab4b1"
      },
      "source": [
        "6 in x"
      ],
      "execution_count": 16,
      "outputs": [
        {
          "output_type": "execute_result",
          "data": {
            "text/plain": [
              "False"
            ]
          },
          "metadata": {
            "tags": []
          },
          "execution_count": 16
        }
      ]
    },
    {
      "cell_type": "code",
      "metadata": {
        "id": "PS9Hw62wZC-g",
        "colab_type": "code",
        "colab": {
          "base_uri": "https://localhost:8080/",
          "height": 35
        },
        "outputId": "7cc6f44a-d76a-433d-82fb-4a792a29dfc7"
      },
      "source": [
        "a=\"helloworld\"\n",
        "a"
      ],
      "execution_count": 17,
      "outputs": [
        {
          "output_type": "execute_result",
          "data": {
            "application/vnd.google.colaboratory.intrinsic+json": {
              "type": "string"
            },
            "text/plain": [
              "'helloworld'"
            ]
          },
          "metadata": {
            "tags": []
          },
          "execution_count": 17
        }
      ]
    },
    {
      "cell_type": "code",
      "metadata": {
        "id": "IDPpZ257ZJ3l",
        "colab_type": "code",
        "colab": {
          "base_uri": "https://localhost:8080/",
          "height": 35
        },
        "outputId": "6886cab4-8904-451b-d7a8-724f6fc84221"
      },
      "source": [
        "a[:2]"
      ],
      "execution_count": 19,
      "outputs": [
        {
          "output_type": "execute_result",
          "data": {
            "application/vnd.google.colaboratory.intrinsic+json": {
              "type": "string"
            },
            "text/plain": [
              "'he'"
            ]
          },
          "metadata": {
            "tags": []
          },
          "execution_count": 19
        }
      ]
    },
    {
      "cell_type": "code",
      "metadata": {
        "id": "iY2LqGDDZM4o",
        "colab_type": "code",
        "colab": {
          "base_uri": "https://localhost:8080/",
          "height": 35
        },
        "outputId": "25e19da6-05d9-4f80-cf3a-3cf6e40c8eb3"
      },
      "source": [
        "a[-2]"
      ],
      "execution_count": 20,
      "outputs": [
        {
          "output_type": "execute_result",
          "data": {
            "application/vnd.google.colaboratory.intrinsic+json": {
              "type": "string"
            },
            "text/plain": [
              "'l'"
            ]
          },
          "metadata": {
            "tags": []
          },
          "execution_count": 20
        }
      ]
    },
    {
      "cell_type": "code",
      "metadata": {
        "id": "K0Hn66QuZQSh",
        "colab_type": "code",
        "colab": {
          "base_uri": "https://localhost:8080/",
          "height": 35
        },
        "outputId": "99622039-6ebd-45c1-dda7-4208ef32e382"
      },
      "source": [
        "a[:-2]"
      ],
      "execution_count": 21,
      "outputs": [
        {
          "output_type": "execute_result",
          "data": {
            "application/vnd.google.colaboratory.intrinsic+json": {
              "type": "string"
            },
            "text/plain": [
              "'hellowor'"
            ]
          },
          "metadata": {
            "tags": []
          },
          "execution_count": 21
        }
      ]
    },
    {
      "cell_type": "code",
      "metadata": {
        "id": "kZenX-1IZS5C",
        "colab_type": "code",
        "colab": {
          "base_uri": "https://localhost:8080/",
          "height": 35
        },
        "outputId": "2ee8813e-ff38-46b9-f779-648ff4e782c8"
      },
      "source": [
        "a[::-1]"
      ],
      "execution_count": 22,
      "outputs": [
        {
          "output_type": "execute_result",
          "data": {
            "application/vnd.google.colaboratory.intrinsic+json": {
              "type": "string"
            },
            "text/plain": [
              "'dlrowolleh'"
            ]
          },
          "metadata": {
            "tags": []
          },
          "execution_count": 22
        }
      ]
    },
    {
      "cell_type": "code",
      "metadata": {
        "id": "UEhi7mVdZW6-",
        "colab_type": "code",
        "colab": {
          "base_uri": "https://localhost:8080/",
          "height": 34
        },
        "outputId": "8e9376fb-f89c-4926-a174-5f37dc916403"
      },
      "source": [
        "'hell' in 'hello'"
      ],
      "execution_count": 23,
      "outputs": [
        {
          "output_type": "execute_result",
          "data": {
            "text/plain": [
              "True"
            ]
          },
          "metadata": {
            "tags": []
          },
          "execution_count": 23
        }
      ]
    },
    {
      "cell_type": "code",
      "metadata": {
        "id": "N2xeazm1axx-",
        "colab_type": "code",
        "colab": {
          "base_uri": "https://localhost:8080/",
          "height": 34
        },
        "outputId": "e72b4fe4-b5b4-46b3-c848-738983fa2011"
      },
      "source": [
        "\"hello world\".split()"
      ],
      "execution_count": 24,
      "outputs": [
        {
          "output_type": "execute_result",
          "data": {
            "text/plain": [
              "['hello', 'world']"
            ]
          },
          "metadata": {
            "tags": []
          },
          "execution_count": 24
        }
      ]
    },
    {
      "cell_type": "code",
      "metadata": {
        "id": "fJEYtjsDa_lY",
        "colab_type": "code",
        "colab": {
          "base_uri": "https://localhost:8080/",
          "height": 35
        },
        "outputId": "dd5eaf5b-8b0a-4efa-c9cd-e41560f0951f"
      },
      "source": [
        "\" \".join(['hello','world'])"
      ],
      "execution_count": 25,
      "outputs": [
        {
          "output_type": "execute_result",
          "data": {
            "application/vnd.google.colaboratory.intrinsic+json": {
              "type": "string"
            },
            "text/plain": [
              "'hello world'"
            ]
          },
          "metadata": {
            "tags": []
          },
          "execution_count": 25
        }
      ]
    },
    {
      "cell_type": "code",
      "metadata": {
        "id": "v50_t4PvbIsu",
        "colab_type": "code",
        "colab": {
          "base_uri": "https://localhost:8080/",
          "height": 35
        },
        "outputId": "3a79e7ff-1f85-4ad4-a0ba-ff8f0c4612b9"
      },
      "source": [
        "' hello world\\n'.strip()"
      ],
      "execution_count": 26,
      "outputs": [
        {
          "output_type": "execute_result",
          "data": {
            "application/vnd.google.colaboratory.intrinsic+json": {
              "type": "string"
            },
            "text/plain": [
              "'hello world'"
            ]
          },
          "metadata": {
            "tags": []
          },
          "execution_count": 26
        }
      ]
    },
    {
      "cell_type": "code",
      "metadata": {
        "id": "dL6mc5u7bTsp",
        "colab_type": "code",
        "colab": {
          "base_uri": "https://localhost:8080/",
          "height": 35
        },
        "outputId": "e069148c-dd02-4eec-d786-f194b8a139db"
      },
      "source": [
        "\"%s %s\" % (a,b)"
      ],
      "execution_count": 28,
      "outputs": [
        {
          "output_type": "execute_result",
          "data": {
            "application/vnd.google.colaboratory.intrinsic+json": {
              "type": "string"
            },
            "text/plain": [
              "'helloworld (1,)'"
            ]
          },
          "metadata": {
            "tags": []
          },
          "execution_count": 28
        }
      ]
    },
    {
      "cell_type": "code",
      "metadata": {
        "id": "hzynFntlbkBv",
        "colab_type": "code",
        "colab": {
          "base_uri": "https://localhost:8080/",
          "height": 163
        },
        "outputId": "47f2080f-e9cc-4e54-dc1b-99722c85d246"
      },
      "source": [
        "extsort(['a.c', 'a.py', 'b.py', 'bar.txt', 'foo.txt', 'x.c'])"
      ],
      "execution_count": 29,
      "outputs": [
        {
          "output_type": "error",
          "ename": "NameError",
          "evalue": "ignored",
          "traceback": [
            "\u001b[0;31m---------------------------------------------------------------------------\u001b[0m",
            "\u001b[0;31mNameError\u001b[0m                                 Traceback (most recent call last)",
            "\u001b[0;32m<ipython-input-29-261526f2da7a>\u001b[0m in \u001b[0;36m<module>\u001b[0;34m()\u001b[0m\n\u001b[0;32m----> 1\u001b[0;31m \u001b[0mextsort\u001b[0m\u001b[0;34m(\u001b[0m\u001b[0;34m[\u001b[0m\u001b[0;34m'a.c'\u001b[0m\u001b[0;34m,\u001b[0m \u001b[0;34m'a.py'\u001b[0m\u001b[0;34m,\u001b[0m \u001b[0;34m'b.py'\u001b[0m\u001b[0;34m,\u001b[0m \u001b[0;34m'bar.txt'\u001b[0m\u001b[0;34m,\u001b[0m \u001b[0;34m'foo.txt'\u001b[0m\u001b[0;34m,\u001b[0m \u001b[0;34m'x.c'\u001b[0m\u001b[0;34m]\u001b[0m\u001b[0;34m)\u001b[0m\u001b[0;34m\u001b[0m\u001b[0;34m\u001b[0m\u001b[0m\n\u001b[0m",
            "\u001b[0;31mNameError\u001b[0m: name 'extsort' is not defined"
          ]
        }
      ]
    },
    {
      "cell_type": "code",
      "metadata": {
        "id": "p18SsCFxbqhS",
        "colab_type": "code",
        "colab": {}
      },
      "source": [
        "f= open('poem.txt','r')"
      ],
      "execution_count": 30,
      "outputs": []
    },
    {
      "cell_type": "code",
      "metadata": {
        "id": "kgBYoN13cbDF",
        "colab_type": "code",
        "colab": {
          "base_uri": "https://localhost:8080/",
          "height": 663
        },
        "outputId": "2c00b485-2e2c-4548-cb5c-f45fd41dd480"
      },
      "source": [
        "with open('poem.txt') as f:\n",
        "  x=f.read()\n",
        "  print(x)"
      ],
      "execution_count": 33,
      "outputs": [
        {
          "output_type": "stream",
          "text": [
            "Unending Love\n",
            "I seem to have loved you in numberless forms, numberless times…\n",
            "In life after life, in age after age, forever.\n",
            "My spellbound heart has made and remade the necklace of songs,\n",
            "That you take as a gift, wear round your neck in your many forms,\n",
            "In life after life, in age after age, forever.\n",
            "\n",
            "Whenever I hear old chronicles of love, its age-old pain,\n",
            "Its ancient tale of being apart or together.\n",
            "As I stare on and on into the past, in the end you emerge,\n",
            "Clad in the light of a pole-star piercing the darkness of time:\n",
            "You become an image of what is remembered forever.\n",
            "\n",
            "You and I have floated here on the stream that brings from the fount.\n",
            "At the heart of time, love of one for another.\n",
            "We have played along side millions of lovers, shared in the same\n",
            "Shy sweetness of meeting, the same distressful tears of farewell-\n",
            "Old love but in shapes that renew and renew forever.\n",
            "\n",
            "Today it is heaped at your feet, it has found its end in you\n",
            "The love of all man’s days both past and forever:\n",
            "Universal joy, universal sorrow, universal life.\n",
            "The memories of all loves merging with this one love of ours –\n",
            "And the songs of every poet past and forever.\n",
            "\n",
            "\n",
            "aws ec2 instance supports decimal values\n",
            "Use the following monitor-instances command to enable detailed monitoring for the specified instances.\n",
            "aws ec2 monitor-instances --instance-ids i-1234567890abcdef0\n",
            "aws 10 gb file se bucket with chunk size update ?\n",
            "How to control the number of output part files created by Spark job upon writing?\n",
            "which of the following is not correct way to perform concatenation of two columns of dataframe\n",
            "for an 8 core executor with a 15 second micro batch duration for 100 rules\n",
            "if your rdd(spark) is so large that all of its elemets noy fit in memory the drive machine\n",
            "\n",
            "\n",
            "\n",
            "\n"
          ],
          "name": "stdout"
        }
      ]
    },
    {
      "cell_type": "code",
      "metadata": {
        "id": "dN7PNkcMcud2",
        "colab_type": "code",
        "colab": {}
      },
      "source": [
        "with open('poem.txt','w') as f:\n",
        "  f.write('a \\nb\\n')"
      ],
      "execution_count": 34,
      "outputs": []
    },
    {
      "cell_type": "code",
      "metadata": {
        "id": "y3dvPcGpdb02",
        "colab_type": "code",
        "colab": {
          "base_uri": "https://localhost:8080/",
          "height": 68
        },
        "outputId": "9dbe25b9-6b6f-4339-c0e6-71b6870a2951"
      },
      "source": [
        "with open('poem.txt','r') as f:\n",
        "  x=f.read()\n",
        "  print(x)"
      ],
      "execution_count": 36,
      "outputs": [
        {
          "output_type": "stream",
          "text": [
            "a \n",
            "b\n",
            "\n"
          ],
          "name": "stdout"
        }
      ]
    },
    {
      "cell_type": "markdown",
      "metadata": {
        "id": "u5kdHgRkhCjU",
        "colab_type": "text"
      },
      "source": [
        "Number of characters in a file is same as the length of its contents."
      ]
    },
    {
      "cell_type": "code",
      "metadata": {
        "id": "6PfVWhkgdlwB",
        "colab_type": "code",
        "colab": {}
      },
      "source": [
        "def charcount(filename):\n",
        "  return len(open(filename).read())"
      ],
      "execution_count": 39,
      "outputs": []
    },
    {
      "cell_type": "code",
      "metadata": {
        "id": "5ttIUtt9crZp",
        "colab_type": "code",
        "colab": {
          "base_uri": "https://localhost:8080/",
          "height": 34
        },
        "outputId": "f9e25aed-96c3-4f8c-aedd-d628f5468e21"
      },
      "source": [
        "charcount('poem.txt')"
      ],
      "execution_count": 40,
      "outputs": [
        {
          "output_type": "execute_result",
          "data": {
            "text/plain": [
              "1754"
            ]
          },
          "metadata": {
            "tags": []
          },
          "execution_count": 40
        }
      ]
    },
    {
      "cell_type": "code",
      "metadata": {
        "id": "-e2zv4LLhZtw",
        "colab_type": "code",
        "colab": {}
      },
      "source": [
        "def wordcount(filename):\n",
        "  return len(open(filename).read().split())"
      ],
      "execution_count": 42,
      "outputs": []
    },
    {
      "cell_type": "code",
      "metadata": {
        "id": "Lxdsq3GJFtLt",
        "colab_type": "code",
        "colab": {
          "base_uri": "https://localhost:8080/",
          "height": 34
        },
        "outputId": "d1e6df20-91df-4bdb-f33c-a36788e664c3"
      },
      "source": [
        "wordcount('poem.txt')"
      ],
      "execution_count": 43,
      "outputs": [
        {
          "output_type": "execute_result",
          "data": {
            "text/plain": [
              "316"
            ]
          },
          "metadata": {
            "tags": []
          },
          "execution_count": 43
        }
      ]
    },
    {
      "cell_type": "code",
      "metadata": {
        "id": "ORXpI4a_Fy8Y",
        "colab_type": "code",
        "colab": {}
      },
      "source": [
        "def linecount(filename):\n",
        "  return len(open(filename).readlines())"
      ],
      "execution_count": 45,
      "outputs": []
    },
    {
      "cell_type": "code",
      "metadata": {
        "id": "dBkxRQiUcpOi",
        "colab_type": "code",
        "colab": {
          "base_uri": "https://localhost:8080/",
          "height": 34
        },
        "outputId": "7cc02ea6-60ed-4ac0-ffc5-aca371c974db"
      },
      "source": [
        "linecount('poem.txt')"
      ],
      "execution_count": 46,
      "outputs": [
        {
          "output_type": "execute_result",
          "data": {
            "text/plain": [
              "37"
            ]
          },
          "metadata": {
            "tags": []
          },
          "execution_count": 46
        }
      ]
    },
    {
      "cell_type": "code",
      "metadata": {
        "id": "izptJRw_F7fN",
        "colab_type": "code",
        "colab": {}
      },
      "source": [
        "a= range(10)"
      ],
      "execution_count": 47,
      "outputs": []
    },
    {
      "cell_type": "code",
      "metadata": {
        "id": "V9heg3vWWBA_",
        "colab_type": "code",
        "colab": {
          "base_uri": "https://localhost:8080/",
          "height": 34
        },
        "outputId": "cec2d67b-86bf-4103-815d-1abfab599e9b"
      },
      "source": [
        "a"
      ],
      "execution_count": 48,
      "outputs": [
        {
          "output_type": "execute_result",
          "data": {
            "text/plain": [
              "range(0, 10)"
            ]
          },
          "metadata": {
            "tags": []
          },
          "execution_count": 48
        }
      ]
    },
    {
      "cell_type": "code",
      "metadata": {
        "id": "FJZ-H-Nvbf45",
        "colab_type": "code",
        "colab": {
          "base_uri": "https://localhost:8080/",
          "height": 34
        },
        "outputId": "5659d170-8657-442c-ca39-436a57bbaed1"
      },
      "source": [
        "list(a)"
      ],
      "execution_count": 49,
      "outputs": [
        {
          "output_type": "execute_result",
          "data": {
            "text/plain": [
              "[0, 1, 2, 3, 4, 5, 6, 7, 8, 9]"
            ]
          },
          "metadata": {
            "tags": []
          },
          "execution_count": 49
        }
      ]
    },
    {
      "cell_type": "code",
      "metadata": {
        "id": "sKGd-WaZWElg",
        "colab_type": "code",
        "colab": {
          "base_uri": "https://localhost:8080/",
          "height": 34
        },
        "outputId": "1084f13f-9134-4a72-a4ad-7901096270fd"
      },
      "source": [
        "[x for x in a]"
      ],
      "execution_count": 50,
      "outputs": [
        {
          "output_type": "execute_result",
          "data": {
            "text/plain": [
              "[0, 1, 2, 3, 4, 5, 6, 7, 8, 9]"
            ]
          },
          "metadata": {
            "tags": []
          },
          "execution_count": 50
        }
      ]
    },
    {
      "cell_type": "code",
      "metadata": {
        "id": "JWpE7moUWIj6",
        "colab_type": "code",
        "colab": {
          "base_uri": "https://localhost:8080/",
          "height": 34
        },
        "outputId": "9d52ebe7-48a2-469d-90e8-1c3ff8c3e4e6"
      },
      "source": [
        "[x*x for x in a]"
      ],
      "execution_count": 51,
      "outputs": [
        {
          "output_type": "execute_result",
          "data": {
            "text/plain": [
              "[0, 1, 4, 9, 16, 25, 36, 49, 64, 81]"
            ]
          },
          "metadata": {
            "tags": []
          },
          "execution_count": 51
        }
      ]
    },
    {
      "cell_type": "code",
      "metadata": {
        "id": "hdBt4qzYWMun",
        "colab_type": "code",
        "colab": {
          "base_uri": "https://localhost:8080/",
          "height": 34
        },
        "outputId": "89f1a235-1025-4c5c-da7f-40f56b84f219"
      },
      "source": [
        "[x+1 for x in a]"
      ],
      "execution_count": 52,
      "outputs": [
        {
          "output_type": "execute_result",
          "data": {
            "text/plain": [
              "[1, 2, 3, 4, 5, 6, 7, 8, 9, 10]"
            ]
          },
          "metadata": {
            "tags": []
          },
          "execution_count": 52
        }
      ]
    },
    {
      "cell_type": "code",
      "metadata": {
        "id": "vavRXcFhWOaD",
        "colab_type": "code",
        "colab": {
          "base_uri": "https://localhost:8080/",
          "height": 34
        },
        "outputId": "426de209-b5e3-4376-8bfa-3fa9cfdc8c29"
      },
      "source": [
        "a= range(10)\n",
        "[x for x in a if x%2==0 ]"
      ],
      "execution_count": 56,
      "outputs": [
        {
          "output_type": "execute_result",
          "data": {
            "text/plain": [
              "[0, 2, 4, 6, 8]"
            ]
          },
          "metadata": {
            "tags": []
          },
          "execution_count": 56
        }
      ]
    },
    {
      "cell_type": "code",
      "metadata": {
        "id": "DrgRjNSLWnSI",
        "colab_type": "code",
        "colab": {
          "base_uri": "https://localhost:8080/",
          "height": 34
        },
        "outputId": "4c1e3581-ac41-4dee-c999-827f0183e5f1"
      },
      "source": [
        "[x*x for x in a if x % 2==0]"
      ],
      "execution_count": 59,
      "outputs": [
        {
          "output_type": "execute_result",
          "data": {
            "text/plain": [
              "[0, 4, 16, 36, 64]"
            ]
          },
          "metadata": {
            "tags": []
          },
          "execution_count": 59
        }
      ]
    },
    {
      "cell_type": "code",
      "metadata": {
        "id": "68MYCBFvWsEG",
        "colab_type": "code",
        "colab": {
          "base_uri": "https://localhost:8080/",
          "height": 34
        },
        "outputId": "4135bad1-31a1-4b5b-f491-7a54322a71a8"
      },
      "source": [
        "a=[1,2,3,4]\n",
        "b=[2,3,5,7]\n",
        "list(zip(a,b))"
      ],
      "execution_count": 62,
      "outputs": [
        {
          "output_type": "execute_result",
          "data": {
            "text/plain": [
              "[(1, 2), (2, 3), (3, 5), (4, 7)]"
            ]
          },
          "metadata": {
            "tags": []
          },
          "execution_count": 62
        }
      ]
    },
    {
      "cell_type": "code",
      "metadata": {
        "id": "TM43Aeg9YoS5",
        "colab_type": "code",
        "colab": {
          "base_uri": "https://localhost:8080/",
          "height": 34
        },
        "outputId": "831ba7d4-78c8-487f-d5f0-b13db613404f"
      },
      "source": [
        "[x+y for x,y in zip(a,b)]"
      ],
      "execution_count": 63,
      "outputs": [
        {
          "output_type": "execute_result",
          "data": {
            "text/plain": [
              "[3, 5, 8, 11]"
            ]
          },
          "metadata": {
            "tags": []
          },
          "execution_count": 63
        }
      ]
    },
    {
      "cell_type": "code",
      "metadata": {
        "id": "edJEt7aVYyFt",
        "colab_type": "code",
        "colab": {
          "base_uri": "https://localhost:8080/",
          "height": 238
        },
        "outputId": "2096e3e1-d9a9-4709-c8a0-338ab2290e49"
      },
      "source": [
        "[(x,y) for x in range(5) for y in range(5) if (x+y) %2 ==0]"
      ],
      "execution_count": 65,
      "outputs": [
        {
          "output_type": "execute_result",
          "data": {
            "text/plain": [
              "[(0, 0),\n",
              " (0, 2),\n",
              " (0, 4),\n",
              " (1, 1),\n",
              " (1, 3),\n",
              " (2, 0),\n",
              " (2, 2),\n",
              " (2, 4),\n",
              " (3, 1),\n",
              " (3, 3),\n",
              " (4, 0),\n",
              " (4, 2),\n",
              " (4, 4)]"
            ]
          },
          "metadata": {
            "tags": []
          },
          "execution_count": 65
        }
      ]
    },
    {
      "cell_type": "code",
      "metadata": {
        "id": "MnouBiPsZE23",
        "colab_type": "code",
        "colab": {
          "base_uri": "https://localhost:8080/",
          "height": 34
        },
        "outputId": "b1768a5e-5481-4dff-ab36-e500a27ac6f3"
      },
      "source": [
        "[(x,y) for x in range(5) for y in range(5) if (x+y) %2 ==0 and x !=y]"
      ],
      "execution_count": 66,
      "outputs": [
        {
          "output_type": "execute_result",
          "data": {
            "text/plain": [
              "[(0, 2), (0, 4), (1, 3), (2, 0), (2, 4), (3, 1), (4, 0), (4, 2)]"
            ]
          },
          "metadata": {
            "tags": []
          },
          "execution_count": 66
        }
      ]
    },
    {
      "cell_type": "code",
      "metadata": {
        "id": "VTStuwI2bYF7",
        "colab_type": "code",
        "colab": {
          "base_uri": "https://localhost:8080/",
          "height": 34
        },
        "outputId": "6067c613-375b-4681-effc-81d231791b88"
      },
      "source": [
        "[(x, y) for x in range(5) for y in range(x) if (x+y)%2 == 0]"
      ],
      "execution_count": 67,
      "outputs": [
        {
          "output_type": "execute_result",
          "data": {
            "text/plain": [
              "[(2, 0), (3, 1), (4, 0), (4, 2)]"
            ]
          },
          "metadata": {
            "tags": []
          },
          "execution_count": 67
        }
      ]
    },
    {
      "cell_type": "code",
      "metadata": {
        "id": "rbLMMG61bdln",
        "colab_type": "code",
        "colab": {
          "base_uri": "https://localhost:8080/",
          "height": 34
        },
        "outputId": "eff103bb-86ff-4aed-a397-d47b6f7f6a6f"
      },
      "source": [
        "n=25\n",
        "[(x,y,z) for x in range(1,n) for y in range(x,n) for z in range(y,n) if x*x + y* y==z*z]"
      ],
      "execution_count": 68,
      "outputs": [
        {
          "output_type": "execute_result",
          "data": {
            "text/plain": [
              "[(3, 4, 5), (5, 12, 13), (6, 8, 10), (8, 15, 17), (9, 12, 15), (12, 16, 20)]"
            ]
          },
          "metadata": {
            "tags": []
          },
          "execution_count": 68
        }
      ]
    },
    {
      "cell_type": "code",
      "metadata": {
        "id": "OLAzfWHob4Fo",
        "colab_type": "code",
        "colab": {
          "base_uri": "https://localhost:8080/",
          "height": 34
        },
        "outputId": "67d77055-e8a1-4243-e600-2b7bcc5951a0"
      },
      "source": [
        "zip([1, 2, 3], [\"a\", \"b\", \"c\"])"
      ],
      "execution_count": 69,
      "outputs": [
        {
          "output_type": "execute_result",
          "data": {
            "text/plain": [
              "<zip at 0x7f666cf3b6c8>"
            ]
          },
          "metadata": {
            "tags": []
          },
          "execution_count": 69
        }
      ]
    },
    {
      "cell_type": "code",
      "metadata": {
        "id": "S2D5fjBOb9JD",
        "colab_type": "code",
        "colab": {
          "base_uri": "https://localhost:8080/",
          "height": 34
        },
        "outputId": "bbfbe51b-daad-4638-9f71-0c36a5a569cb"
      },
      "source": [
        "def square(x): return x * x \n",
        "list(map(square, range(5)))"
      ],
      "execution_count": 71,
      "outputs": [
        {
          "output_type": "execute_result",
          "data": {
            "text/plain": [
              "[0, 1, 4, 9, 16]"
            ]
          },
          "metadata": {
            "tags": []
          },
          "execution_count": 71
        }
      ]
    },
    {
      "cell_type": "code",
      "metadata": {
        "id": "rvb06b_icLm-",
        "colab_type": "code",
        "colab": {
          "base_uri": "https://localhost:8080/",
          "height": 34
        },
        "outputId": "f87ed44b-584d-4cec-b747-48ad00e4b303"
      },
      "source": [
        "def even(x): return x%2==0\n",
        "list(filter(even, range(10)))"
      ],
      "execution_count": 74,
      "outputs": [
        {
          "output_type": "execute_result",
          "data": {
            "text/plain": [
              "[0, 2, 4, 6, 8]"
            ]
          },
          "metadata": {
            "tags": []
          },
          "execution_count": 74
        }
      ]
    },
    {
      "cell_type": "code",
      "metadata": {
        "id": "v7C9C2vgnIXi",
        "colab_type": "code",
        "colab": {
          "base_uri": "https://localhost:8080/",
          "height": 34
        },
        "outputId": "611d55c2-1bce-4c9b-b8e5-f13af61ffd53"
      },
      "source": [
        "list(enumerate([\"a\", \"b\", \"c\"]))"
      ],
      "execution_count": 76,
      "outputs": [
        {
          "output_type": "execute_result",
          "data": {
            "text/plain": [
              "[(0, 'a'), (1, 'b'), (2, 'c')]"
            ]
          },
          "metadata": {
            "tags": []
          },
          "execution_count": 76
        }
      ]
    },
    {
      "cell_type": "code",
      "metadata": {
        "id": "q2UKgHsGqWge",
        "colab_type": "code",
        "colab": {
          "base_uri": "https://localhost:8080/",
          "height": 68
        },
        "outputId": "b7ae0822-fdd0-46fb-ecde-fe4f4ce1f78e"
      },
      "source": [
        "for index, value in enumerate([\"a\", \"b\", \"c\"]):\n",
        "  print (index, value)"
      ],
      "execution_count": 77,
      "outputs": [
        {
          "output_type": "stream",
          "text": [
            "0 a\n",
            "1 b\n",
            "2 c\n"
          ],
          "name": "stdout"
        }
      ]
    },
    {
      "cell_type": "code",
      "metadata": {
        "id": "IguxgvVZqgVH",
        "colab_type": "code",
        "colab": {
          "base_uri": "https://localhost:8080/",
          "height": 34
        },
        "outputId": "979f2c45-3789-4de7-c888-14055b9aeccc"
      },
      "source": [
        "import numpy as np\n",
        "a= np.array([2,3])\n",
        "a"
      ],
      "execution_count": 80,
      "outputs": [
        {
          "output_type": "execute_result",
          "data": {
            "text/plain": [
              "array([2, 3])"
            ]
          },
          "metadata": {
            "tags": []
          },
          "execution_count": 80
        }
      ]
    },
    {
      "cell_type": "code",
      "metadata": {
        "id": "-AGPklBoq0AT",
        "colab_type": "code",
        "colab": {
          "base_uri": "https://localhost:8080/",
          "height": 34
        },
        "outputId": "115798c5-8118-4148-f6a3-a4db50886d05"
      },
      "source": [
        "a = {'x': 1, 'y': 2, 'z': 3}\n",
        "a['x']"
      ],
      "execution_count": 81,
      "outputs": [
        {
          "output_type": "execute_result",
          "data": {
            "text/plain": [
              "1"
            ]
          },
          "metadata": {
            "tags": []
          },
          "execution_count": 81
        }
      ]
    },
    {
      "cell_type": "code",
      "metadata": {
        "id": "kwOSMq4ZAZc6",
        "colab_type": "code",
        "colab": {
          "base_uri": "https://localhost:8080/",
          "height": 34
        },
        "outputId": "a1bbf60e-1a2d-4d33-f279-4f5ac8be7248"
      },
      "source": [
        "b = {}\n",
        "b['x'] = 2\n",
        "b[2] = 'foo'\n",
        "b[(1, 2)] = 3\n",
        "b"
      ],
      "execution_count": 82,
      "outputs": [
        {
          "output_type": "execute_result",
          "data": {
            "text/plain": [
              "{(1, 2): 3, 2: 'foo', 'x': 2}"
            ]
          },
          "metadata": {
            "tags": []
          },
          "execution_count": 82
        }
      ]
    },
    {
      "cell_type": "code",
      "metadata": {
        "id": "BJouu2HHAkfb",
        "colab_type": "code",
        "colab": {
          "base_uri": "https://localhost:8080/",
          "height": 34
        },
        "outputId": "94d998c2-9246-4c26-b349-8f048783ff90"
      },
      "source": [
        "del a['x']\n",
        "a"
      ],
      "execution_count": 83,
      "outputs": [
        {
          "output_type": "execute_result",
          "data": {
            "text/plain": [
              "{'y': 2, 'z': 3}"
            ]
          },
          "metadata": {
            "tags": []
          },
          "execution_count": 83
        }
      ]
    },
    {
      "cell_type": "code",
      "metadata": {
        "id": "MImtF-QhAqJQ",
        "colab_type": "code",
        "colab": {
          "base_uri": "https://localhost:8080/",
          "height": 34
        },
        "outputId": "13dddda4-caf8-4a34-ab4f-e1bc08820ce1"
      },
      "source": [
        "a.keys()"
      ],
      "execution_count": 84,
      "outputs": [
        {
          "output_type": "execute_result",
          "data": {
            "text/plain": [
              "dict_keys(['y', 'z'])"
            ]
          },
          "metadata": {
            "tags": []
          },
          "execution_count": 84
        }
      ]
    },
    {
      "cell_type": "code",
      "metadata": {
        "id": "8RTWoUSTAt3J",
        "colab_type": "code",
        "colab": {
          "base_uri": "https://localhost:8080/",
          "height": 34
        },
        "outputId": "f56ce83b-b693-448c-88b6-45b3ae53bb8e"
      },
      "source": [
        "a.values()"
      ],
      "execution_count": 85,
      "outputs": [
        {
          "output_type": "execute_result",
          "data": {
            "text/plain": [
              "dict_values([2, 3])"
            ]
          },
          "metadata": {
            "tags": []
          },
          "execution_count": 85
        }
      ]
    },
    {
      "cell_type": "code",
      "metadata": {
        "id": "L6bLv8kYAwDT",
        "colab_type": "code",
        "colab": {
          "base_uri": "https://localhost:8080/",
          "height": 34
        },
        "outputId": "c96f3a4b-43ed-4005-a772-41d805fc4d15"
      },
      "source": [
        "a.items()"
      ],
      "execution_count": 86,
      "outputs": [
        {
          "output_type": "execute_result",
          "data": {
            "text/plain": [
              "dict_items([('y', 2), ('z', 3)])"
            ]
          },
          "metadata": {
            "tags": []
          },
          "execution_count": 86
        }
      ]
    },
    {
      "cell_type": "code",
      "metadata": {
        "id": "dFaRaMLkAyMl",
        "colab_type": "code",
        "colab": {
          "base_uri": "https://localhost:8080/",
          "height": 51
        },
        "outputId": "6f8c508f-adf8-44a0-f269-4aad8dfa76d2"
      },
      "source": [
        "for key in a:\n",
        "  print(key)"
      ],
      "execution_count": 87,
      "outputs": [
        {
          "output_type": "stream",
          "text": [
            "y\n",
            "z\n"
          ],
          "name": "stdout"
        }
      ]
    },
    {
      "cell_type": "code",
      "metadata": {
        "id": "sHMT5OQyA5n-",
        "colab_type": "code",
        "colab": {
          "base_uri": "https://localhost:8080/",
          "height": 51
        },
        "outputId": "12af7a6b-6c9f-4dd0-e42a-97f64b7beb16"
      },
      "source": [
        "for key,value in a.items():\n",
        "  print(key,value)"
      ],
      "execution_count": 93,
      "outputs": [
        {
          "output_type": "stream",
          "text": [
            "y 2\n",
            "z 3\n"
          ],
          "name": "stdout"
        }
      ]
    },
    {
      "cell_type": "code",
      "metadata": {
        "id": "VfTqGixTBR0l",
        "colab_type": "code",
        "colab": {
          "base_uri": "https://localhost:8080/",
          "height": 51
        },
        "outputId": "fbd702ae-6d23-4e30-d445-c3ea53b1e088"
      },
      "source": [
        "for value in a.values():\n",
        "  print(value)"
      ],
      "execution_count": 94,
      "outputs": [
        {
          "output_type": "stream",
          "text": [
            "2\n",
            "3\n"
          ],
          "name": "stdout"
        }
      ]
    },
    {
      "cell_type": "code",
      "metadata": {
        "id": "2Kz-T5iVBYZj",
        "colab_type": "code",
        "colab": {}
      },
      "source": [
        "def word_frequency(sentences):\n",
        "  words= sentences.split()\n",
        "  frequency={}\n",
        "  for w in words:\n",
        "    frequency[w]=frequency.get(w,0)+1\n",
        "  return frequency"
      ],
      "execution_count": 95,
      "outputs": []
    },
    {
      "cell_type": "code",
      "metadata": {
        "id": "GDM9G2M2CDOD",
        "colab_type": "code",
        "colab": {
          "base_uri": "https://localhost:8080/",
          "height": 34
        },
        "outputId": "81726bc8-c6ae-434a-ab4b-a58b82d507a8"
      },
      "source": [
        "word_frequency(\"hello hello welcome and and of of hello\")"
      ],
      "execution_count": 96,
      "outputs": [
        {
          "output_type": "execute_result",
          "data": {
            "text/plain": [
              "{'and': 2, 'hello': 3, 'of': 2, 'welcome': 1}"
            ]
          },
          "metadata": {
            "tags": []
          },
          "execution_count": 96
        }
      ]
    },
    {
      "cell_type": "code",
      "metadata": {
        "id": "jyRUAYQACJff",
        "colab_type": "code",
        "colab": {
          "base_uri": "https://localhost:8080/",
          "height": 34
        },
        "outputId": "67ddc64a-a7e4-485b-ec73-bc6e5e0f5b70"
      },
      "source": [
        "import os\n",
        "print (os.getcwd())"
      ],
      "execution_count": 97,
      "outputs": [
        {
          "output_type": "stream",
          "text": [
            "/content\n"
          ],
          "name": "stdout"
        }
      ]
    },
    {
      "cell_type": "code",
      "metadata": {
        "id": "uPeQvrcbFlb0",
        "colab_type": "code",
        "colab": {
          "base_uri": "https://localhost:8080/",
          "height": 340
        },
        "outputId": "132b8cc5-24bf-45e3-d189-79295cbd741e"
      },
      "source": [
        "import urllib\n",
        "response = urllib.request.urlopen(\"http://python.org/\")\n",
        "print(response.headers)"
      ],
      "execution_count": 99,
      "outputs": [
        {
          "output_type": "stream",
          "text": [
            "Connection: close\n",
            "Content-Length: 49199\n",
            "Server: nginx\n",
            "Content-Type: text/html; charset=utf-8\n",
            "X-Frame-Options: DENY\n",
            "Via: 1.1 vegur\n",
            "Via: 1.1 varnish\n",
            "Accept-Ranges: bytes\n",
            "Date: Sun, 13 Sep 2020 20:11:29 GMT\n",
            "Via: 1.1 varnish\n",
            "Age: 3426\n",
            "X-Served-By: cache-bwi5144-BWI, cache-hkg17928-HKG\n",
            "X-Cache: HIT, HIT\n",
            "X-Cache-Hits: 1, 9884\n",
            "X-Timer: S1600027889.349954,VS0,VE0\n",
            "Vary: Cookie\n",
            "Strict-Transport-Security: max-age=63072000; includeSubDomains\n",
            "\n",
            "\n"
          ],
          "name": "stdout"
        }
      ]
    },
    {
      "cell_type": "code",
      "metadata": {
        "id": "Z5vGeUFNF2gC",
        "colab_type": "code",
        "colab": {
          "base_uri": "https://localhost:8080/",
          "height": 54
        },
        "outputId": "a5eb1ddc-ea13-4ce0-f576-b58e84e9c5ab"
      },
      "source": [
        "response.read()"
      ],
      "execution_count": 101,
      "outputs": [
        {
          "output_type": "execute_result",
          "data": {
            "text/plain": [
              "b'<!doctype html>\\n<!--[if lt IE 7]>   <html class=\"no-js ie6 lt-ie7 lt-ie8 lt-ie9\">   <![endif]-->\\n<!--[if IE 7]>      <html class=\"no-js ie7 lt-ie8 lt-ie9\">          <![endif]-->\\n<!--[if IE 8]>      <html class=\"no-js ie8 lt-ie9\">                 <![endif]-->\\n<!--[if gt IE 8]><!--><html class=\"no-js\" lang=\"en\" dir=\"ltr\">  <!--<![endif]-->\\n\\n<head>\\n    <meta charset=\"utf-8\">\\n    <meta http-equiv=\"X-UA-Compatible\" content=\"IE=edge\">\\n\\n    <link rel=\"prefetch\" href=\"//ajax.googleapis.com/ajax/libs/jquery/1.8.2/jquery.min.js\">\\n\\n    <meta name=\"application-name\" content=\"Python.org\">\\n    <meta name=\"msapplication-tooltip\" content=\"The official home of the Python Programming Language\">\\n    <meta name=\"apple-mobile-web-app-title\" content=\"Python.org\">\\n    <meta name=\"apple-mobile-web-app-capable\" content=\"yes\">\\n    <meta name=\"apple-mobile-web-app-status-bar-style\" content=\"black\">\\n\\n    <meta name=\"viewport\" content=\"width=device-width, initial-scale=1.0\">\\n    <meta name=\"HandheldFriendly\" content=\"True\">\\n    <meta name=\"format-detection\" content=\"telephone=no\">\\n    <meta http-equiv=\"cleartype\" content=\"on\">\\n    <meta http-equiv=\"imagetoolbar\" content=\"false\">\\n\\n    <script src=\"/static/js/libs/modernizr.js\"></script>\\n\\n    <link href=\"/static/stylesheets/style.30afed881237.css\" rel=\"stylesheet\" type=\"text/css\" title=\"default\" />\\n    <link href=\"/static/stylesheets/mq.eef77a5d2257.css\" rel=\"stylesheet\" type=\"text/css\" media=\"not print, braille, embossed, speech, tty\" />\\n    \\n\\n    <!--[if (lte IE 8)&(!IEMobile)]>\\n    <link href=\"/static/stylesheets/no-mq.7946159eb289.css\" rel=\"stylesheet\" type=\"text/css\" media=\"screen\" />\\n    \\n    \\n    <![endif]-->\\n\\n    \\n    <link rel=\"icon\" type=\"image/x-icon\" href=\"/static/favicon.ico\">\\n    <link rel=\"apple-touch-icon-precomposed\" sizes=\"144x144\" href=\"/static/apple-touch-icon-144x144-precomposed.png\">\\n    <link rel=\"apple-touch-icon-precomposed\" sizes=\"114x114\" href=\"/static/apple-touch-icon-114x114-precomposed.png\">\\n    <link rel=\"apple-touch-icon-precomposed\" sizes=\"72x72\" href=\"/static/apple-touch-icon-72x72-precomposed.png\">\\n    <link rel=\"apple-touch-icon-precomposed\" href=\"/static/apple-touch-icon-precomposed.png\">\\n    <link rel=\"apple-touch-icon\" href=\"/static/apple-touch-icon-precomposed.png\">\\n\\n    \\n    <meta name=\"msapplication-TileImage\" content=\"/static/metro-icon-144x144-precomposed.png\"><!-- white shape -->\\n    <meta name=\"msapplication-TileColor\" content=\"#3673a5\"><!-- python blue -->\\n    <meta name=\"msapplication-navbutton-color\" content=\"#3673a5\">\\n\\n    <title>Welcome to Python.org</title>\\n\\n    <meta name=\"description\" content=\"The official home of the Python Programming Language\">\\n    <meta name=\"keywords\" content=\"Python programming language object oriented web free open source software license documentation download community\">\\n\\n    \\n    <meta property=\"og:type\" content=\"website\">\\n    <meta property=\"og:site_name\" content=\"Python.org\">\\n    <meta property=\"og:title\" content=\"Welcome to Python.org\">\\n    <meta property=\"og:description\" content=\"The official home of the Python Programming Language\">\\n    \\n    <meta property=\"og:image\" content=\"https://www.python.org/static/opengraph-icon-200x200.png\">\\n    <meta property=\"og:image:secure_url\" content=\"https://www.python.org/static/opengraph-icon-200x200.png\">\\n    \\n    <meta property=\"og:url\" content=\"https://www.python.org/\">\\n\\n    <link rel=\"author\" href=\"/static/humans.txt\">\\n\\n    <link rel=\"alternate\" type=\"application/rss+xml\" title=\"Python Enhancement Proposals\"\\n          href=\"https://www.python.org/dev/peps/peps.rss/\">\\n    <link rel=\"alternate\" type=\"application/rss+xml\" title=\"Python Job Opportunities\"\\n          href=\"https://www.python.org/jobs/feed/rss/\">\\n    <link rel=\"alternate\" type=\"application/rss+xml\" title=\"Python Software Foundation News\"\\n          href=\"https://feeds.feedburner.com/PythonSoftwareFoundationNews\">\\n    <link rel=\"alternate\" type=\"application/rss+xml\" title=\"Python Insider\"\\n          href=\"https://feeds.feedburner.com/PythonInsider\">\\n\\n    \\n\\n    \\n    <script type=\"application/ld+json\">\\n     {\\n       \"@context\": \"https://schema.org\",\\n       \"@type\": \"WebSite\",\\n       \"url\": \"https://www.python.org/\",\\n       \"potentialAction\": {\\n         \"@type\": \"SearchAction\",\\n         \"target\": \"https://www.python.org/search/?q={search_term_string}\",\\n         \"query-input\": \"required name=search_term_string\"\\n       }\\n     }\\n    </script>\\n\\n    \\n    <script type=\"text/javascript\">\\n    var _gaq = _gaq || [];\\n    _gaq.push([\\'_setAccount\\', \\'UA-39055973-1\\']);\\n    _gaq.push([\\'_trackPageview\\']);\\n\\n    (function() {\\n        var ga = document.createElement(\\'script\\'); ga.type = \\'text/javascript\\'; ga.async = true;\\n        ga.src = (\\'https:\\' == document.location.protocol ? \\'https://ssl\\' : \\'http://www\\') + \\'.google-analytics.com/ga.js\\';\\n        var s = document.getElementsByTagName(\\'script\\')[0]; s.parentNode.insertBefore(ga, s);\\n    })();\\n    </script>\\n    \\n</head>\\n\\n<body class=\"python home\" id=\"homepage\">\\n\\n    <div id=\"touchnav-wrapper\">\\n\\n        <div id=\"nojs\" class=\"do-not-print\">\\n            <p><strong>Notice:</strong> While Javascript is not essential for this website, your interaction with the content will be limited. Please turn Javascript on for the full experience. </p>\\n        </div>\\n\\n        <!--[if lte IE 8]>\\n        <div id=\"oldie-warning\" class=\"do-not-print\">\\n            <p>\\n                <strong>Notice:</strong> Your browser is <em>ancient</em>. Please\\n                <a href=\"http://browsehappy.com/\">upgrade to a different browser</a> to experience a better web.\\n            </p>\\n        </div>\\n        <![endif]-->\\n\\n        <!-- Sister Site Links -->\\n        <div id=\"top\" class=\"top-bar do-not-print\">\\n\\n            <nav class=\"meta-navigation container\" role=\"navigation\">\\n\\n                \\n                <div class=\"skip-link screen-reader-text\">\\n                    <a href=\"#content\" title=\"Skip to content\">Skip to content</a>\\n                </div>\\n\\n                \\n                <a id=\"close-python-network\" class=\"jump-link\" href=\"#python-network\" aria-hidden=\"true\">\\n                    <span aria-hidden=\"true\" class=\"icon-arrow-down\"><span>&#9660;</span></span> Close\\n                </a>\\n\\n                \\n\\n<ul class=\"menu\" role=\"tree\">\\n    \\n    <li class=\"python-meta current_item selectedcurrent_branch selected\">\\n        <a href=\"/\" title=\"The Python Programming Language\" class=\"current_item selectedcurrent_branch selected\">Python</a>\\n    </li>\\n    \\n    <li class=\"psf-meta \">\\n        <a href=\"/psf-landing/\" title=\"The Python Software Foundation\" >PSF</a>\\n    </li>\\n    \\n    <li class=\"docs-meta \">\\n        <a href=\"https://docs.python.org\" title=\"Python Documentation\" >Docs</a>\\n    </li>\\n    \\n    <li class=\"pypi-meta \">\\n        <a href=\"https://pypi.org/\" title=\"Python Package Index\" >PyPI</a>\\n    </li>\\n    \\n    <li class=\"jobs-meta \">\\n        <a href=\"/jobs/\" title=\"Python Job Board\" >Jobs</a>\\n    </li>\\n    \\n    <li class=\"shop-meta \">\\n        <a href=\"/community-landing/\"  >Community</a>\\n    </li>\\n    \\n</ul>\\n\\n\\n                <a id=\"python-network\" class=\"jump-link\" href=\"#top\" aria-hidden=\"true\">\\n                    <span aria-hidden=\"true\" class=\"icon-arrow-up\"><span>&#9650;</span></span> The Python Network\\n                </a>\\n\\n            </nav>\\n\\n        </div>\\n\\n        <!-- Header elements -->\\n        <header class=\"main-header\" role=\"banner\">\\n            <div class=\"container\">\\n\\n                <h1 class=\"site-headline\">\\n                    <a href=\"/\"><img class=\"python-logo\" src=\"/static/img/python-logo.png\" alt=\"python&trade;\"></a>\\n                </h1>\\n\\n                <div class=\"options-bar-container do-not-print\">\\n                    <a href=\"https://psfmember.org/civicrm/contribute/transact?reset=1&id=2\" class=\"donate-button\">Donate</a>\\n                    <div class=\"options-bar\">\\n                        \\n                        <a id=\"site-map-link\" class=\"jump-to-menu\" href=\"#site-map\"><span class=\"menu-icon\">&equiv;</span> Menu</a><form class=\"search-the-site\" action=\"/search/\" method=\"get\">\\n                            <fieldset title=\"Search Python.org\">\\n\\n                                <span aria-hidden=\"true\" class=\"icon-search\"></span>\\n\\n                                <label class=\"screen-reader-text\" for=\"id-search-field\">Search This Site</label>\\n                                <input id=\"id-search-field\" name=\"q\" type=\"search\" role=\"textbox\" class=\"search-field\" placeholder=\"Search\" value=\"\" tabindex=\"1\">\\n\\n                                <button type=\"submit\" name=\"submit\" id=\"submit\" class=\"search-button\" title=\"Submit this Search\" tabindex=\"3\">\\n                                    GO\\n                                </button>\\n\\n                                \\n                                <!--[if IE]><input type=\"text\" style=\"display: none;\" disabled=\"disabled\" size=\"1\" tabindex=\"4\"><![endif]-->\\n\\n                            </fieldset>\\n                        </form><span class=\"breaker\"></span><div class=\"adjust-font-size\" aria-hidden=\"true\">\\n                            <ul class=\"navigation menu\" aria-label=\"Adjust Text Size on Page\">\\n                                <li class=\"tier-1 last\" aria-haspopup=\"true\">\\n                                    <a href=\"#\" class=\"action-trigger\"><strong><small>A</small> A</strong></a>\\n                                    <ul class=\"subnav menu\">\\n                                        <li class=\"tier-2 element-1\" role=\"treeitem\"><a class=\"text-shrink\" title=\"Make Text Smaller\" href=\"javascript:;\">Smaller</a></li>\\n                                        <li class=\"tier-2 element-2\" role=\"treeitem\"><a class=\"text-grow\" title=\"Make Text Larger\" href=\"javascript:;\">Larger</a></li>\\n                                        <li class=\"tier-2 element-3\" role=\"treeitem\"><a class=\"text-reset\" title=\"Reset any font size changes I have made\" href=\"javascript:;\">Reset</a></li>\\n                                    </ul>\\n                                </li>\\n                            </ul>\\n                        </div><div class=\"winkwink-nudgenudge\">\\n                            <ul class=\"navigation menu\" aria-label=\"Social Media Navigation\">\\n                                <li class=\"tier-1 last\" aria-haspopup=\"true\">\\n                                    <a href=\"#\" class=\"action-trigger\">Socialize</a>\\n                                    <ul class=\"subnav menu\">\\n                                        <li class=\"tier-2 element-1\" role=\"treeitem\"><a href=\"https://www.facebook.com/pythonlang?fref=ts\"><span aria-hidden=\"true\" class=\"icon-facebook\"></span>Facebook</a></li>\\n                                        <li class=\"tier-2 element-2\" role=\"treeitem\"><a href=\"https://twitter.com/ThePSF\"><span aria-hidden=\"true\" class=\"icon-twitter\"></span>Twitter</a></li>\\n                                        <li class=\"tier-2 element-3\" role=\"treeitem\"><a href=\"/community/irc/\"><span aria-hidden=\"true\" class=\"icon-freenode\"></span>Chat on IRC</a></li>\\n                                    </ul>\\n                                </li>\\n                            </ul>\\n                        </div>\\n                        <span data-html-include=\"/authenticated\"></span>\\n                    </div><!-- end options-bar -->\\n                </div>\\n\\n                <nav id=\"mainnav\" class=\"python-navigation main-navigation do-not-print\" role=\"navigation\">\\n                    \\n                        \\n<ul class=\"navigation menu\" role=\"menubar\" aria-label=\"Main Navigation\">\\n  \\n    \\n    \\n    <li id=\"about\" class=\"tier-1 element-1  \" aria-haspopup=\"true\">\\n        <a href=\"/about/\" title=\"\" class=\"\">About</a>\\n        \\n            \\n\\n<ul class=\"subnav menu\" role=\"menu\" aria-hidden=\"true\">\\n    \\n        <li class=\"tier-2 element-1\" role=\"treeitem\"><a href=\"/about/apps/\" title=\"\">Applications</a></li>\\n    \\n        <li class=\"tier-2 element-2\" role=\"treeitem\"><a href=\"/about/quotes/\" title=\"\">Quotes</a></li>\\n    \\n        <li class=\"tier-2 element-3\" role=\"treeitem\"><a href=\"/about/gettingstarted/\" title=\"\">Getting Started</a></li>\\n    \\n        <li class=\"tier-2 element-4\" role=\"treeitem\"><a href=\"/about/help/\" title=\"\">Help</a></li>\\n    \\n        <li class=\"tier-2 element-5\" role=\"treeitem\"><a href=\"http://brochure.getpython.info/\" title=\"\">Python Brochure</a></li>\\n    \\n</ul>\\n\\n        \\n    </li>\\n    \\n    \\n    \\n    <li id=\"downloads\" class=\"tier-1 element-2  \" aria-haspopup=\"true\">\\n        <a href=\"/downloads/\" title=\"\" class=\"\">Downloads</a>\\n        \\n            \\n\\n<ul class=\"subnav menu\" role=\"menu\" aria-hidden=\"true\">\\n    \\n        <li class=\"tier-2 element-1\" role=\"treeitem\"><a href=\"/downloads/\" title=\"\">All releases</a></li>\\n    \\n        <li class=\"tier-2 element-2\" role=\"treeitem\"><a href=\"/downloads/source/\" title=\"\">Source code</a></li>\\n    \\n        <li class=\"tier-2 element-3\" role=\"treeitem\"><a href=\"/downloads/windows/\" title=\"\">Windows</a></li>\\n    \\n        <li class=\"tier-2 element-4\" role=\"treeitem\"><a href=\"/downloads/mac-osx/\" title=\"\">Mac OS X</a></li>\\n    \\n        <li class=\"tier-2 element-5\" role=\"treeitem\"><a href=\"/download/other/\" title=\"\">Other Platforms</a></li>\\n    \\n        <li class=\"tier-2 element-6\" role=\"treeitem\"><a href=\"https://docs.python.org/3/license.html\" title=\"\">License</a></li>\\n    \\n        <li class=\"tier-2 element-7\" role=\"treeitem\"><a href=\"/download/alternatives\" title=\"\">Alternative Implementations</a></li>\\n    \\n</ul>\\n\\n        \\n    </li>\\n    \\n    \\n    \\n    <li id=\"documentation\" class=\"tier-1 element-3  \" aria-haspopup=\"true\">\\n        <a href=\"/doc/\" title=\"\" class=\"\">Documentation</a>\\n        \\n            \\n\\n<ul class=\"subnav menu\" role=\"menu\" aria-hidden=\"true\">\\n    \\n        <li class=\"tier-2 element-1\" role=\"treeitem\"><a href=\"/doc/\" title=\"\">Docs</a></li>\\n    \\n        <li class=\"tier-2 element-2\" role=\"treeitem\"><a href=\"/doc/av\" title=\"\">Audio/Visual Talks</a></li>\\n    \\n        <li class=\"tier-2 element-3\" role=\"treeitem\"><a href=\"https://wiki.python.org/moin/BeginnersGuide\" title=\"\">Beginner&#39;s Guide</a></li>\\n    \\n        <li class=\"tier-2 element-4\" role=\"treeitem\"><a href=\"https://devguide.python.org/\" title=\"\">Developer&#39;s Guide</a></li>\\n    \\n        <li class=\"tier-2 element-5\" role=\"treeitem\"><a href=\"https://docs.python.org/faq/\" title=\"\">FAQ</a></li>\\n    \\n        <li class=\"tier-2 element-6\" role=\"treeitem\"><a href=\"http://wiki.python.org/moin/Languages\" title=\"\">Non-English Docs</a></li>\\n    \\n        <li class=\"tier-2 element-7\" role=\"treeitem\"><a href=\"http://python.org/dev/peps/\" title=\"\">PEP Index</a></li>\\n    \\n        <li class=\"tier-2 element-8\" role=\"treeitem\"><a href=\"https://wiki.python.org/moin/PythonBooks\" title=\"\">Python Books</a></li>\\n    \\n        <li class=\"tier-2 element-9\" role=\"treeitem\"><a href=\"/doc/essays/\" title=\"\">Python Essays</a></li>\\n    \\n</ul>\\n\\n        \\n    </li>\\n    \\n    \\n    \\n    <li id=\"community\" class=\"tier-1 element-4  \" aria-haspopup=\"true\">\\n        <a href=\"/community/\" title=\"\" class=\"\">Community</a>\\n        \\n            \\n\\n<ul class=\"subnav menu\" role=\"menu\" aria-hidden=\"true\">\\n    \\n        <li class=\"tier-2 element-1\" role=\"treeitem\"><a href=\"/community/survey\" title=\"\">Community Survey</a></li>\\n    \\n        <li class=\"tier-2 element-2\" role=\"treeitem\"><a href=\"/community/diversity/\" title=\"\">Diversity</a></li>\\n    \\n        <li class=\"tier-2 element-3\" role=\"treeitem\"><a href=\"/community/lists/\" title=\"\">Mailing Lists</a></li>\\n    \\n        <li class=\"tier-2 element-4\" role=\"treeitem\"><a href=\"/community/irc/\" title=\"\">IRC</a></li>\\n    \\n        <li class=\"tier-2 element-5\" role=\"treeitem\"><a href=\"/community/forums/\" title=\"\">Forums</a></li>\\n    \\n        <li class=\"tier-2 element-6\" role=\"treeitem\"><a href=\"/psf/annual-report/2020/\" title=\"\">PSF Annual Impact Report</a></li>\\n    \\n        <li class=\"tier-2 element-7\" role=\"treeitem\"><a href=\"/community/workshops/\" title=\"\">Python Conferences</a></li>\\n    \\n        <li class=\"tier-2 element-8\" role=\"treeitem\"><a href=\"/community/sigs/\" title=\"\">Special Interest Groups</a></li>\\n    \\n        <li class=\"tier-2 element-9\" role=\"treeitem\"><a href=\"/community/logos/\" title=\"\">Python Logo</a></li>\\n    \\n        <li class=\"tier-2 element-10\" role=\"treeitem\"><a href=\"https://wiki.python.org/moin/\" title=\"\">Python Wiki</a></li>\\n    \\n        <li class=\"tier-2 element-11\" role=\"treeitem\"><a href=\"/community/merchandise/\" title=\"\">Merchandise</a></li>\\n    \\n        <li class=\"tier-2 element-12\" role=\"treeitem\"><a href=\"/community/awards\" title=\"\">Community Awards</a></li>\\n    \\n        <li class=\"tier-2 element-13\" role=\"treeitem\"><a href=\"/psf/conduct/\" title=\"\">Code of Conduct</a></li>\\n    \\n        <li class=\"tier-2 element-14\" role=\"treeitem\"><a href=\"/psf/get-involved/\" title=\"\">Get Involved</a></li>\\n    \\n</ul>\\n\\n        \\n    </li>\\n    \\n    \\n    \\n    <li id=\"success-stories\" class=\"tier-1 element-5  \" aria-haspopup=\"true\">\\n        <a href=\"/success-stories/\" title=\"success-stories\" class=\"\">Success Stories</a>\\n        \\n            \\n\\n<ul class=\"subnav menu\" role=\"menu\" aria-hidden=\"true\">\\n    \\n        <li class=\"tier-2 element-1\" role=\"treeitem\"><a href=\"/success-stories/category/arts/\" title=\"\">Arts</a></li>\\n    \\n        <li class=\"tier-2 element-2\" role=\"treeitem\"><a href=\"/success-stories/category/business/\" title=\"\">Business</a></li>\\n    \\n        <li class=\"tier-2 element-3\" role=\"treeitem\"><a href=\"/success-stories/category/education/\" title=\"\">Education</a></li>\\n    \\n        <li class=\"tier-2 element-4\" role=\"treeitem\"><a href=\"/success-stories/category/engineering/\" title=\"\">Engineering</a></li>\\n    \\n        <li class=\"tier-2 element-5\" role=\"treeitem\"><a href=\"/success-stories/category/government/\" title=\"\">Government</a></li>\\n    \\n        <li class=\"tier-2 element-6\" role=\"treeitem\"><a href=\"/success-stories/category/scientific/\" title=\"\">Scientific</a></li>\\n    \\n        <li class=\"tier-2 element-7\" role=\"treeitem\"><a href=\"/success-stories/category/software-development/\" title=\"\">Software Development</a></li>\\n    \\n</ul>\\n\\n        \\n    </li>\\n    \\n    \\n    \\n    <li id=\"news\" class=\"tier-1 element-6  \" aria-haspopup=\"true\">\\n        <a href=\"/blogs/\" title=\"News from around the Python world\" class=\"\">News</a>\\n        \\n            \\n\\n<ul class=\"subnav menu\" role=\"menu\" aria-hidden=\"true\">\\n    \\n        <li class=\"tier-2 element-1\" role=\"treeitem\"><a href=\"/blogs/\" title=\"Python Insider Blog Posts\">Python News</a></li>\\n    \\n        <li class=\"tier-2 element-2\" role=\"treeitem\"><a href=\"/psf/newsletter/\" title=\"Python Software Foundation Newsletter\">PSF Newsletter</a></li>\\n    \\n        <li class=\"tier-2 element-3\" role=\"treeitem\"><a href=\"http://planetpython.org/\" title=\"Planet Python\">Community News</a></li>\\n    \\n        <li class=\"tier-2 element-4\" role=\"treeitem\"><a href=\"http://pyfound.blogspot.com/\" title=\"PSF Blog\">PSF News</a></li>\\n    \\n        <li class=\"tier-2 element-5\" role=\"treeitem\"><a href=\"http://pycon.blogspot.com/\" title=\"PyCon Blog\">PyCon News</a></li>\\n    \\n</ul>\\n\\n        \\n    </li>\\n    \\n    \\n    \\n    <li id=\"events\" class=\"tier-1 element-7  \" aria-haspopup=\"true\">\\n        <a href=\"/events/\" title=\"\" class=\"\">Events</a>\\n        \\n            \\n\\n<ul class=\"subnav menu\" role=\"menu\" aria-hidden=\"true\">\\n    \\n        <li class=\"tier-2 element-1\" role=\"treeitem\"><a href=\"/events/python-events\" title=\"\">Python Events</a></li>\\n    \\n        <li class=\"tier-2 element-2\" role=\"treeitem\"><a href=\"/events/python-user-group/\" title=\"\">User Group Events</a></li>\\n    \\n        <li class=\"tier-2 element-3\" role=\"treeitem\"><a href=\"/events/python-events/past/\" title=\"\">Python Events Archive</a></li>\\n    \\n        <li class=\"tier-2 element-4\" role=\"treeitem\"><a href=\"/events/python-user-group/past/\" title=\"\">User Group Events Archive</a></li>\\n    \\n        <li class=\"tier-2 element-5\" role=\"treeitem\"><a href=\"https://wiki.python.org/moin/PythonEventsCalendar#Submitting_an_Event\" title=\"\">Submit an Event</a></li>\\n    \\n</ul>\\n\\n        \\n    </li>\\n    \\n    \\n    \\n    \\n  \\n</ul>\\n\\n                    \\n                </nav>\\n\\n                <div class=\"header-banner \"> <!-- for optional \"do-not-print\" class -->\\n                    \\n        <div id=\"dive-into-python\" class=\"flex-slideshow slideshow\">\\n\\n            <ul class=\"launch-shell menu\" id=\"launch-shell\">\\n                <li>\\n                    <a class=\"button prompt\" id=\"start-shell\" data-shell-container=\"#dive-into-python\" href=\"/shell/\">&gt;_\\n                        <span class=\"message\">Launch Interactive Shell</span>\\n                    </a>\\n                </li>\\n            </ul>\\n\\n            <ul class=\"slides menu\">\\n                \\n                <li>\\n                    <div class=\"slide-code\"><pre><code><span class=\"comment\"># Python 3: Fibonacci series up to n</span>\\r\\n>>> def fib(n):\\r\\n>>>     a, b = 0, 1\\r\\n>>>     while a &lt; n:\\r\\n>>>         print(a, end=\\' \\')\\r\\n>>>         a, b = b, a+b\\r\\n>>>     print()\\r\\n>>> fib(1000)\\r\\n<span class=\"output\">0 1 1 2 3 5 8 13 21 34 55 89 144 233 377 610 987</span></code></pre></div>\\n                    <div class=\"slide-copy\"><h1>Functions Defined</h1>\\r\\n<p>The core of extensible programming is defining functions. Python allows mandatory and optional arguments, keyword arguments, and even arbitrary argument lists. <a href=\"//docs.python.org/3/tutorial/controlflow.html#defining-functions\">More about defining functions in Python&nbsp;3</a></p></div>\\n                </li>\\n                \\n                <li>\\n                    <div class=\"slide-code\"><pre><code><span class=\"comment\"># Python 3: List comprehensions</span>\\r\\n>>> fruits = [\\'Banana\\', \\'Apple\\', \\'Lime\\']\\r\\n>>> loud_fruits = [fruit.upper() for fruit in fruits]\\r\\n>>> print(loud_fruits)\\r\\n<span class=\"output\">[\\'BANANA\\', \\'APPLE\\', \\'LIME\\']</span>\\r\\n\\r\\n<span class=\"comment\"># List and the enumerate function</span>\\r\\n>>> list(enumerate(fruits))\\r\\n<span class=\"output\">[(0, \\'Banana\\'), (1, \\'Apple\\'), (2, \\'Lime\\')]</span></code></pre></div>\\n                    <div class=\"slide-copy\"><h1>Compound Data Types</h1>\\r\\n<p>Lists (known as arrays in other languages) are one of the compound data types that Python understands. Lists can be indexed, sliced and manipulated with other built-in functions. <a href=\"//docs.python.org/3/tutorial/introduction.html#lists\">More about lists in Python&nbsp;3</a></p></div>\\n                </li>\\n                \\n                <li>\\n                    <div class=\"slide-code\"><pre><code><span class=\"comment\"># Python 3: Simple arithmetic</span>\\r\\n>>> 1 / 2\\r\\n<span class=\"output\">0.5</span>\\r\\n>>> 2 ** 3\\r\\n<span class=\"output\">8</span>\\r\\n>>> 17 / 3  <span class=\"comment\"># classic division returns a float</span>\\r\\n<span class=\"output\">5.666666666666667</span>\\r\\n>>> 17 // 3  <span class=\"comment\"># floor division</span>\\r\\n<span class=\"output\">5</span></code></pre></div>\\n                    <div class=\"slide-copy\"><h1>Intuitive Interpretation</h1>\\r\\n<p>Calculations are simple with Python, and expression syntax is straightforward: the operators <code>+</code>, <code>-</code>, <code>*</code> and <code>/</code> work as expected; parentheses <code>()</code> can be used for grouping. <a href=\"http://docs.python.org/3/tutorial/introduction.html#using-python-as-a-calculator\">More about simple math functions in Python&nbsp;3</a>.</p></div>\\n                </li>\\n                \\n                <li>\\n                    <div class=\"slide-code\"><pre><code><span class=\"comment\"># Python 3: Simple output (with Unicode)</span>\\r\\n>>> print(\"Hello, I\\'m Python!\")\\r\\n<span class=\"output\">Hello, I\\'m Python!</span>\\r\\n\\r\\n<span class=\"comment\"># Input, assignment</span>\\r\\n>>> name = input(\\'What is your name?\\\\n\\')\\r\\n>>> print(\\'Hi, %s.\\' % name)\\r\\n<span class=\"output\">What is your name?\\r\\nPython\\r\\nHi, Python.</span></code></pre></div>\\n                    <div class=\"slide-copy\"><h1>Quick &amp; Easy to Learn</h1>\\r\\n<p>Experienced programmers in any other language can pick up Python very quickly, and beginners find the clean syntax and indentation structure easy to learn. <a href=\"//docs.python.org/3/tutorial/\">Whet your appetite</a> with our Python&nbsp;3 overview.</p>\\r\\n                   </div>\\n                </li>\\n                \\n                <li>\\n                    <div class=\"slide-code\"><pre><code><span class=\"comment\"># For loop on a list</span>\\r\\n>>> numbers = [2, 4, 6, 8]\\r\\n>>> product = 1\\r\\n>>> for number in numbers:\\r\\n...    product = product * number\\r\\n... \\r\\n>>> print(\\'The product is:\\', product)\\r\\n<span class=\"output\">The product is: 384</span></code></pre></div>\\n                    <div class=\"slide-copy\"><h1>All the Flow You&rsquo;d Expect</h1>\\r\\n<p>Python knows the usual control flow statements that other languages speak &mdash; <code>if</code>, <code>for</code>, <code>while</code> and <code>range</code> &mdash; with some of its own twists, of course. <a href=\"//docs.python.org/3/tutorial/controlflow.html\">More control flow tools in Python&nbsp;3</a></p></div>\\n                </li>\\n                \\n            </ul>\\n        </div>\\n\\n\\n                </div>\\n\\n                \\n        <div class=\"introduction\">\\n            <p>Python is a programming language that lets you work quickly <span class=\"breaker\"></span>and integrate systems more effectively. <a class=\"readmore\" href=\"/doc/\">Learn More</a></p>\\n        </div>\\n\\n\\n             </div><!-- end .container -->\\n        </header>\\n\\n        <div id=\"content\" class=\"content-wrapper\">\\n            <!-- Main Content Column -->\\n            <div class=\"container\">\\n\\n                <section class=\"main-content \" role=\"main\">\\n\\n                    \\n                    \\n\\n                    \\n\\n                    \\n\\n                \\n\\n                <div class=\"row\">\\n\\n                    <div class=\"small-widget get-started-widget\">\\n                        <h2 class=\"widget-title\"><span aria-hidden=\"true\" class=\"icon-get-started\"></span>Get Started</h2>\\r\\n<p>Whether you\\'re new to programming or an experienced developer, it\\'s easy to learn and use Python.</p>\\r\\n<p><a href=\"/about/gettingstarted/\">Start with our Beginner&rsquo;s Guide</a></p>\\n                    </div>\\n\\n                    <div class=\"small-widget download-widget\">\\n                        <h2 class=\"widget-title\"><span aria-hidden=\"true\" class=\"icon-download\"></span>Download</h2>\\n<p>Python source code and installers are available for download for all versions!</p>\\n<p>Latest: <a href=\"/downloads/release/python-385/\">Python 3.8.5</a></p>\\n                    </div>\\n\\n                    <div class=\"small-widget documentation-widget\">\\n                        <h2 class=\"widget-title\"><span aria-hidden=\"true\" class=\"icon-documentation\"></span>Docs</h2>\\r\\n<p>Documentation for Python\\'s standard library, along with tutorials and guides, are available online.</p>\\r\\n<p><a href=\"https://docs.python.org\">docs.python.org</a></p>\\n                    </div>\\n\\n                    <div class=\"small-widget jobs-widget last\">\\n                        <h2 class=\"widget-title\"><span aria-hidden=\"true\" class=\"icon-jobs\"></span>Jobs</h2>\\r\\n<p>Looking for work or have a Python related position that you\\'re trying to hire for? Our <strong>relaunched community-run job board</strong> is the place to go.</p>\\r\\n<p><a href=\"//jobs.python.org\">jobs.python.org</a></p>\\n                    </div>\\n\\n                </div>\\n\\n                <div class=\"list-widgets row\">\\n\\n                    <div class=\"medium-widget blog-widget\">\\n                        \\n                        <div class=\"shrubbery\">\\n                        \\n                            <h2 class=\"widget-title\"><span aria-hidden=\"true\" class=\"icon-news\"></span>Latest News</h2>\\n                            <p class=\"give-me-more\"><a href=\"https://blog.python.org\" title=\"More News\">More</a></p>\\n                            \\n                            <ul class=\"menu\">\\n                                \\n                                \\n                                <li>\\n<time datetime=\"2020-09-11T13:53:00.000004+00:00\"><span class=\"say-no-more\">2020-</span>09-11</time>\\n <a href=\"http://feedproxy.google.com/~r/PythonSoftwareFoundationNews/~3/4-1GEHINSMw/noah-alorwu-awarded-psf-community.html\">Noah Alorwu Awarded the PSF Community Service Award for Q2 2020</a></li>\\n                                \\n                                <li>\\n<time datetime=\"2020-09-05T08:54:00.000005+00:00\"><span class=\"say-no-more\">2020-</span>09-05</time>\\n <a href=\"http://feedproxy.google.com/~r/PythonInsider/~3/woP58GZXqxA/python-3510-is-now-available.html\">Python 3.5.10 is now available</a></li>\\n                                \\n                                <li>\\n<time datetime=\"2020-09-02T17:50:00.000002+00:00\"><span class=\"say-no-more\">2020-</span>09-02</time>\\n <a href=\"http://feedproxy.google.com/~r/PythonSoftwareFoundationNews/~3/lqD8wjLxcTQ/python-software-foundation-end-of-year.html\">Python Software Foundation End-of-the-Year Fundraiser</a></li>\\n                                \\n                                <li>\\n<time datetime=\"2020-08-22T03:25:00.000005+00:00\"><span class=\"say-no-more\">2020-</span>08-22</time>\\n <a href=\"http://feedproxy.google.com/~r/PythonInsider/~3/W5AUa26PlDY/python-3510rc1-is-now-available.html\">Python 3.5.10rc1 is now available</a></li>\\n                                \\n                                <li>\\n<time datetime=\"2020-08-17T23:38:00+00:00\"><span class=\"say-no-more\">2020-</span>08-17</time>\\n <a href=\"http://feedproxy.google.com/~r/PythonInsider/~3/yowZpdqeW1I/python-379-and-3612-security-updates.html\">Python 3.7.9 and 3.6.12 security updates now available</a></li>\\n                                \\n                            </ul>\\n                        </div><!-- end .shrubbery -->\\n\\n                    </div>\\n\\n                    <div class=\"medium-widget event-widget last\">\\n                        \\n                        <div class=\"shrubbery\">\\n                        \\n                            <h2 class=\"widget-title\"><span aria-hidden=\"true\" class=\"icon-calendar\"></span>Upcoming Events</h2>\\n                            <p class=\"give-me-more\"><a href=\"/events/calendars/\" title=\"More Events\">More</a></p>\\n                            \\n                            <ul class=\"menu\">\\n                                \\n                                \\n                                \\n                                <li>\\n<time datetime=\"2020-09-18T00:00:00+00:00\"><span class=\"say-no-more\">2020-</span>09-18</time>\\n <a href=\"/events/python-events/891/\">DjangoCon Europe 2020</a></li>\\n                                \\n                                \\n                                \\n                                <li>\\n<time datetime=\"2020-09-19T00:00:00+00:00\"><span class=\"say-no-more\">2020-</span>09-19</time>\\n <a href=\"/events/python-events/952/\">PyCon APAC 2020</a></li>\\n                                \\n                                \\n                                \\n                                <li>\\n<time datetime=\"2020-09-19T00:00:00+00:00\"><span class=\"say-no-more\">2020-</span>09-19</time>\\n <a href=\"/events/python-events/910/\">DragonPy 2020 (postponed)</a></li>\\n                                \\n                                \\n                                \\n                                <li>\\n<time datetime=\"2020-09-21T00:00:00+00:00\"><span class=\"say-no-more\">2020-</span>09-21</time>\\n <a href=\"/events/python-events/980/\">GeoPython 2020 &amp; PyML 2020</a></li>\\n                                \\n                                \\n                                \\n                                <li>\\n<time datetime=\"2020-09-25T00:00:00+00:00\"><span class=\"say-no-more\">2020-</span>09-25</time>\\n <a href=\"/events/python-events/881/\">Django Day Copenhagen</a></li>\\n                                \\n                                \\n                            </ul>\\n                        </div>\\n\\n                    </div>\\n\\n                </div>\\n\\n                <div class=\"row\">\\n\\n                    <div class=\"medium-widget success-stories-widget\">\\n                        \\n\\n\\n\\n                        <div class=\"shrubbery\">\\n                            \\n\\n                            <h2 class=\"widget-title\"><span aria-hidden=\"true\" class=\"icon-success-stories\"></span>Success Stories</h2>\\n                            <p class=\"give-me-more\"><a href=\"/success-stories/\" title=\"More Success Stories\">More</a></p>\\n\\n                            \\n                            <div class=\"success-story-item\" id=\"success-story-929\">\\n\\n                            <blockquote>\\n                                <a href=\"/success-stories/python-provides-convenience-and-flexibility-for-scalable-mlai/\">Python&#39;s convenience has made it the most popular language for machine learning and artificial intelligence. Python&#39;s flexibility has allowed Anyscale to make ML/AI scalable from laptops to clusters.</a>\\n                            </blockquote>\\n\\n                            <table cellpadding=\"0\" cellspacing=\"0\" border=\"0\" width=\"100%\" class=\"quote-from\">\\n                                <tbody>\\n                                    <tr>\\n                                        \\n                                        <td><p><a href=\"/success-stories/python-provides-convenience-and-flexibility-for-scalable-mlai/\">Python provides convenience and flexibility for scalable ML/AI</a> <em>by Dean Wampler</em></p></td>\\n                                    </tr>\\n                                </tbody>\\n                            </table>\\n                            </div>\\n                            \\n\\n                        </div><!-- end .shrubbery -->\\n\\n                    </div>\\n\\n                    <div class=\"medium-widget applications-widget last\">\\n                        <div class=\"shrubbery\">\\n                            <h2 class=\"widget-title\"><span aria-hidden=\"true\" class=\"icon-python\"></span>Use Python for&hellip;</h2>\\r\\n<p class=\"give-me-more\"><a href=\"/about/apps\" title=\"More Applications\">More</a></p>\\r\\n\\r\\n<ul class=\"menu\">\\r\\n    <li><b>Web Development</b>:\\r\\n        <span class=\"tag-wrapper\"><a class=\"tag\" href=\"http://www.djangoproject.com/\">Django</a>, <a class=\"tag\" href=\"http://www.pylonsproject.org/\">Pyramid</a>, <a class=\"tag\" href=\"http://bottlepy.org\">Bottle</a>, <a class=\"tag\" href=\"http://tornadoweb.org\">Tornado</a>, <a href=\"http://flask.pocoo.org/\" class=\"tag\">Flask</a>, <a class=\"tag\" href=\"http://www.web2py.com/\">web2py</a></span></li>\\r\\n    <li><b>GUI Development</b>:\\r\\n        <span class=\"tag-wrapper\"><a class=\"tag\" href=\"http://wiki.python.org/moin/TkInter\">tkInter</a>, <a class=\"tag\" href=\"https://wiki.gnome.org/Projects/PyGObject\">PyGObject</a>, <a class=\"tag\" href=\"http://www.riverbankcomputing.co.uk/software/pyqt/intro\">PyQt</a>, <a class=\"tag\" href=\"https://wiki.qt.io/PySide\">PySide</a>, <a class=\"tag\" href=\"https://kivy.org/\">Kivy</a>, <a class=\"tag\" href=\"http://www.wxpython.org/\">wxPython</a></span></li>\\r\\n    <li><b>Scientific and Numeric</b>:\\r\\n        <span class=\"tag-wrapper\">\\r\\n<a class=\"tag\" href=\"http://www.scipy.org\">SciPy</a>, <a class=\"tag\" href=\"http://pandas.pydata.org/\">Pandas</a>, <a href=\"http://ipython.org\" class=\"tag\">IPython</a></span></li>\\r\\n    <li><b>Software Development</b>:\\r\\n        <span class=\"tag-wrapper\"><a class=\"tag\" href=\"http://buildbot.net/\">Buildbot</a>, <a class=\"tag\" href=\"http://trac.edgewall.org/\">Trac</a>, <a class=\"tag\" href=\"http://roundup.sourceforge.net/\">Roundup</a></span></li>\\r\\n    <li><b>System Administration</b>:\\r\\n        <span class=\"tag-wrapper\"><a class=\"tag\" href=\"http://www.ansible.com\">Ansible</a>, <a class=\"tag\" href=\"http://www.saltstack.com\">Salt</a>, <a class=\"tag\" href=\"https://www.openstack.org\">OpenStack</a></span></li>\\r\\n</ul>\\r\\n\\n                        </div><!-- end .shrubbery -->\\n                    </div>\\n\\n                </div>\\n\\n                \\n                <div class=\"pep-widget\">\\n\\n                    <h2 class=\"widget-title\">\\n                        <span class=\"prompt\">&gt;&gt;&gt;</span> <a href=\"/dev/peps/\">Python Enhancement Proposals<span class=\"say-no-more\"> (PEPs)</span></a>: The future of Python<span class=\"say-no-more\"> is discussed here.</span>\\n                        <a aria-hidden=\"true\" class=\"rss-link\" href=\"/dev/peps/peps.rss\"><span class=\"icon-feed\"></span> RSS</a>\\n                    </h2>\\n\\n\\n                    \\n                    \\n                </div>\\n\\n                                <div class=\"psf-widget\">\\n\\n                    <div class=\"python-logo\"></div>\\n                    \\n                    <h2 class=\"widget-title\">\\r\\n    <span class=\"prompt\">&gt;&gt;&gt;</span> <a href=\"/psf/\">Python Software Foundation</a>\\r\\n</h2>\\r\\n<p>The mission of the Python Software Foundation is to promote, protect, and advance the Python programming language, and to support and facilitate the growth of a diverse and international community of Python programmers. <a class=\"readmore\" href=\"/psf/\">Learn more</a> </p>\\r\\n<p class=\"click-these\">\\r\\n    <a class=\"button\" href=\"/users/membership/\">Become a Member</a>\\r\\n    <a class=\"button\" href=\"/psf/donations/\">Donate to the PSF</a>\\r\\n</p>\\n                </div>\\n\\n\\n\\n\\n                </section>\\n\\n                \\n                \\n\\n                \\n                \\n\\n\\n            </div><!-- end .container -->\\n        </div><!-- end #content .content-wrapper -->\\n\\n        <!-- Footer and social media list -->\\n        <footer id=\"site-map\" class=\"main-footer\" role=\"contentinfo\">\\n            <div class=\"main-footer-links\">\\n                <div class=\"container\">\\n\\n                    \\n                    <a id=\"back-to-top-1\" class=\"jump-link\" href=\"#python-network\"><span aria-hidden=\"true\" class=\"icon-arrow-up\"><span>&#9650;</span></span> Back to Top</a>\\n\\n                    \\n\\n<ul class=\"sitemap navigation menu do-not-print\" role=\"tree\" id=\"container\">\\n    \\n    <li class=\"tier-1 element-1\">\\n        <a href=\"/about/\" >About</a>\\n        \\n            \\n\\n<ul class=\"subnav menu\">\\n    \\n        <li class=\"tier-2 element-1\" role=\"treeitem\"><a href=\"/about/apps/\" title=\"\">Applications</a></li>\\n    \\n        <li class=\"tier-2 element-2\" role=\"treeitem\"><a href=\"/about/quotes/\" title=\"\">Quotes</a></li>\\n    \\n        <li class=\"tier-2 element-3\" role=\"treeitem\"><a href=\"/about/gettingstarted/\" title=\"\">Getting Started</a></li>\\n    \\n        <li class=\"tier-2 element-4\" role=\"treeitem\"><a href=\"/about/help/\" title=\"\">Help</a></li>\\n    \\n        <li class=\"tier-2 element-5\" role=\"treeitem\"><a href=\"http://brochure.getpython.info/\" title=\"\">Python Brochure</a></li>\\n    \\n</ul>\\n\\n        \\n    </li>\\n    \\n    <li class=\"tier-1 element-2\">\\n        <a href=\"/downloads/\" >Downloads</a>\\n        \\n            \\n\\n<ul class=\"subnav menu\">\\n    \\n        <li class=\"tier-2 element-1\" role=\"treeitem\"><a href=\"/downloads/\" title=\"\">All releases</a></li>\\n    \\n        <li class=\"tier-2 element-2\" role=\"treeitem\"><a href=\"/downloads/source/\" title=\"\">Source code</a></li>\\n    \\n        <li class=\"tier-2 element-3\" role=\"treeitem\"><a href=\"/downloads/windows/\" title=\"\">Windows</a></li>\\n    \\n        <li class=\"tier-2 element-4\" role=\"treeitem\"><a href=\"/downloads/mac-osx/\" title=\"\">Mac OS X</a></li>\\n    \\n        <li class=\"tier-2 element-5\" role=\"treeitem\"><a href=\"/download/other/\" title=\"\">Other Platforms</a></li>\\n    \\n        <li class=\"tier-2 element-6\" role=\"treeitem\"><a href=\"https://docs.python.org/3/license.html\" title=\"\">License</a></li>\\n    \\n        <li class=\"tier-2 element-7\" role=\"treeitem\"><a href=\"/download/alternatives\" title=\"\">Alternative Implementations</a></li>\\n    \\n</ul>\\n\\n        \\n    </li>\\n    \\n    <li class=\"tier-1 element-3\">\\n        <a href=\"/doc/\" >Documentation</a>\\n        \\n            \\n\\n<ul class=\"subnav menu\">\\n    \\n        <li class=\"tier-2 element-1\" role=\"treeitem\"><a href=\"/doc/\" title=\"\">Docs</a></li>\\n    \\n        <li class=\"tier-2 element-2\" role=\"treeitem\"><a href=\"/doc/av\" title=\"\">Audio/Visual Talks</a></li>\\n    \\n        <li class=\"tier-2 element-3\" role=\"treeitem\"><a href=\"https://wiki.python.org/moin/BeginnersGuide\" title=\"\">Beginner&#39;s Guide</a></li>\\n    \\n        <li class=\"tier-2 element-4\" role=\"treeitem\"><a href=\"https://devguide.python.org/\" title=\"\">Developer&#39;s Guide</a></li>\\n    \\n        <li class=\"tier-2 element-5\" role=\"treeitem\"><a href=\"https://docs.python.org/faq/\" title=\"\">FAQ</a></li>\\n    \\n        <li class=\"tier-2 element-6\" role=\"treeitem\"><a href=\"http://wiki.python.org/moin/Languages\" title=\"\">Non-English Docs</a></li>\\n    \\n        <li class=\"tier-2 element-7\" role=\"treeitem\"><a href=\"http://python.org/dev/peps/\" title=\"\">PEP Index</a></li>\\n    \\n        <li class=\"tier-2 element-8\" role=\"treeitem\"><a href=\"https://wiki.python.org/moin/PythonBooks\" title=\"\">Python Books</a></li>\\n    \\n        <li class=\"tier-2 element-9\" role=\"treeitem\"><a href=\"/doc/essays/\" title=\"\">Python Essays</a></li>\\n    \\n</ul>\\n\\n        \\n    </li>\\n    \\n    <li class=\"tier-1 element-4\">\\n        <a href=\"/community/\" >Community</a>\\n        \\n            \\n\\n<ul class=\"subnav menu\">\\n    \\n        <li class=\"tier-2 element-1\" role=\"treeitem\"><a href=\"/community/survey\" title=\"\">Community Survey</a></li>\\n    \\n        <li class=\"tier-2 element-2\" role=\"treeitem\"><a href=\"/community/diversity/\" title=\"\">Diversity</a></li>\\n    \\n        <li class=\"tier-2 element-3\" role=\"treeitem\"><a href=\"/community/lists/\" title=\"\">Mailing Lists</a></li>\\n    \\n        <li class=\"tier-2 element-4\" role=\"treeitem\"><a href=\"/community/irc/\" title=\"\">IRC</a></li>\\n    \\n        <li class=\"tier-2 element-5\" role=\"treeitem\"><a href=\"/community/forums/\" title=\"\">Forums</a></li>\\n    \\n        <li class=\"tier-2 element-6\" role=\"treeitem\"><a href=\"/psf/annual-report/2020/\" title=\"\">PSF Annual Impact Report</a></li>\\n    \\n        <li class=\"tier-2 element-7\" role=\"treeitem\"><a href=\"/community/workshops/\" title=\"\">Python Conferences</a></li>\\n    \\n        <li class=\"tier-2 element-8\" role=\"treeitem\"><a href=\"/community/sigs/\" title=\"\">Special Interest Groups</a></li>\\n    \\n        <li class=\"tier-2 element-9\" role=\"treeitem\"><a href=\"/community/logos/\" title=\"\">Python Logo</a></li>\\n    \\n        <li class=\"tier-2 element-10\" role=\"treeitem\"><a href=\"https://wiki.python.org/moin/\" title=\"\">Python Wiki</a></li>\\n    \\n        <li class=\"tier-2 element-11\" role=\"treeitem\"><a href=\"/community/merchandise/\" title=\"\">Merchandise</a></li>\\n    \\n        <li class=\"tier-2 element-12\" role=\"treeitem\"><a href=\"/community/awards\" title=\"\">Community Awards</a></li>\\n    \\n        <li class=\"tier-2 element-13\" role=\"treeitem\"><a href=\"/psf/conduct/\" title=\"\">Code of Conduct</a></li>\\n    \\n        <li class=\"tier-2 element-14\" role=\"treeitem\"><a href=\"/psf/get-involved/\" title=\"\">Get Involved</a></li>\\n    \\n</ul>\\n\\n        \\n    </li>\\n    \\n    <li class=\"tier-1 element-5\">\\n        <a href=\"/success-stories/\" title=\"success-stories\">Success Stories</a>\\n        \\n            \\n\\n<ul class=\"subnav menu\">\\n    \\n        <li class=\"tier-2 element-1\" role=\"treeitem\"><a href=\"/success-stories/category/arts/\" title=\"\">Arts</a></li>\\n    \\n        <li class=\"tier-2 element-2\" role=\"treeitem\"><a href=\"/success-stories/category/business/\" title=\"\">Business</a></li>\\n    \\n        <li class=\"tier-2 element-3\" role=\"treeitem\"><a href=\"/success-stories/category/education/\" title=\"\">Education</a></li>\\n    \\n        <li class=\"tier-2 element-4\" role=\"treeitem\"><a href=\"/success-stories/category/engineering/\" title=\"\">Engineering</a></li>\\n    \\n        <li class=\"tier-2 element-5\" role=\"treeitem\"><a href=\"/success-stories/category/government/\" title=\"\">Government</a></li>\\n    \\n        <li class=\"tier-2 element-6\" role=\"treeitem\"><a href=\"/success-stories/category/scientific/\" title=\"\">Scientific</a></li>\\n    \\n        <li class=\"tier-2 element-7\" role=\"treeitem\"><a href=\"/success-stories/category/software-development/\" title=\"\">Software Development</a></li>\\n    \\n</ul>\\n\\n        \\n    </li>\\n    \\n    <li class=\"tier-1 element-6\">\\n        <a href=\"/blogs/\" title=\"News from around the Python world\">News</a>\\n        \\n            \\n\\n<ul class=\"subnav menu\">\\n    \\n        <li class=\"tier-2 element-1\" role=\"treeitem\"><a href=\"/blogs/\" title=\"Python Insider Blog Posts\">Python News</a></li>\\n    \\n        <li class=\"tier-2 element-2\" role=\"treeitem\"><a href=\"/psf/newsletter/\" title=\"Python Software Foundation Newsletter\">PSF Newsletter</a></li>\\n    \\n        <li class=\"tier-2 element-3\" role=\"treeitem\"><a href=\"http://planetpython.org/\" title=\"Planet Python\">Community News</a></li>\\n    \\n        <li class=\"tier-2 element-4\" role=\"treeitem\"><a href=\"http://pyfound.blogspot.com/\" title=\"PSF Blog\">PSF News</a></li>\\n    \\n        <li class=\"tier-2 element-5\" role=\"treeitem\"><a href=\"http://pycon.blogspot.com/\" title=\"PyCon Blog\">PyCon News</a></li>\\n    \\n</ul>\\n\\n        \\n    </li>\\n    \\n    <li class=\"tier-1 element-7\">\\n        <a href=\"/events/\" >Events</a>\\n        \\n            \\n\\n<ul class=\"subnav menu\">\\n    \\n        <li class=\"tier-2 element-1\" role=\"treeitem\"><a href=\"/events/python-events\" title=\"\">Python Events</a></li>\\n    \\n        <li class=\"tier-2 element-2\" role=\"treeitem\"><a href=\"/events/python-user-group/\" title=\"\">User Group Events</a></li>\\n    \\n        <li class=\"tier-2 element-3\" role=\"treeitem\"><a href=\"/events/python-events/past/\" title=\"\">Python Events Archive</a></li>\\n    \\n        <li class=\"tier-2 element-4\" role=\"treeitem\"><a href=\"/events/python-user-group/past/\" title=\"\">User Group Events Archive</a></li>\\n    \\n        <li class=\"tier-2 element-5\" role=\"treeitem\"><a href=\"https://wiki.python.org/moin/PythonEventsCalendar#Submitting_an_Event\" title=\"\">Submit an Event</a></li>\\n    \\n</ul>\\n\\n        \\n    </li>\\n    \\n    <li class=\"tier-1 element-8\">\\n        <a href=\"/dev/\" >Contributing</a>\\n        \\n            \\n\\n<ul class=\"subnav menu\">\\n    \\n        <li class=\"tier-2 element-1\" role=\"treeitem\"><a href=\"https://devguide.python.org/\" title=\"\">Developer&#39;s Guide</a></li>\\n    \\n        <li class=\"tier-2 element-2\" role=\"treeitem\"><a href=\"https://bugs.python.org/\" title=\"\">Issue Tracker</a></li>\\n    \\n        <li class=\"tier-2 element-3\" role=\"treeitem\"><a href=\"https://mail.python.org/mailman/listinfo/python-dev\" title=\"\">python-dev list</a></li>\\n    \\n        <li class=\"tier-2 element-4\" role=\"treeitem\"><a href=\"/dev/core-mentorship/\" title=\"\">Core Mentorship</a></li>\\n    \\n        <li class=\"tier-2 element-5\" role=\"treeitem\"><a href=\"/dev/security/\" title=\"\">Report a Security Issue</a></li>\\n    \\n</ul>\\n\\n        \\n    </li>\\n    \\n</ul>\\n\\n\\n                    <a id=\"back-to-top-2\" class=\"jump-link\" href=\"#python-network\"><span aria-hidden=\"true\" class=\"icon-arrow-up\"><span>&#9650;</span></span> Back to Top</a>\\n                    \\n\\n                </div><!-- end .container -->\\n            </div> <!-- end .main-footer-links -->\\n\\n            <div class=\"site-base\">\\n                <div class=\"container\">\\n                    \\n                    <ul class=\"footer-links navigation menu do-not-print\" role=\"tree\">\\n                        <li class=\"tier-1 element-1\"><a href=\"/about/help/\">Help &amp; <span class=\"say-no-more\">General</span> Contact</a></li>\\n                        <li class=\"tier-1 element-2\"><a href=\"/community/diversity/\">Diversity <span class=\"say-no-more\">Initiatives</span></a></li>\\n                        <li class=\"tier-1 element-3\"><a href=\"https://github.com/python/pythondotorg/issues\">Submit Website Bug</a></li>\\n                        <li class=\"tier-1 element-4\">\\n                            <a href=\"https://status.python.org/\">Status <span class=\"python-status-indicator-default\" id=\"python-status-indicator\"></span></a>\\n                        </li>\\n                    </ul>\\n\\n                    <div class=\"copyright\">\\n                        <p><small>\\n                            <span class=\"pre\">Copyright &copy;2001-2020.</span>\\n                            &nbsp;<span class=\"pre\"><a href=\"/psf-landing/\">Python Software Foundation</a></span>\\n                            &nbsp;<span class=\"pre\"><a href=\"/about/legal/\">Legal Statements</a></span>\\n                            &nbsp;<span class=\"pre\"><a href=\"/privacy/\">Privacy Policy</a></span>\\n                            &nbsp;<span class=\"pre\"><a href=\"/psf/sponsorship/sponsors/#heroku\">Powered by Heroku</a></span>\\n                        </small></p>\\n                    </div>\\n\\n                </div><!-- end .container -->\\n            </div><!-- end .site-base -->\\n\\n        </footer>\\n\\n    </div><!-- end #touchnav-wrapper -->\\n\\n    \\n    <script src=\"//ajax.googleapis.com/ajax/libs/jquery/1.8.2/jquery.min.js\"></script>\\n    <script>window.jQuery || document.write(\\'<script src=\"/static/js/libs/jquery-1.8.2.min.js\"><\\\\/script>\\')</script>\\n\\n    <script src=\"/static/js/libs/masonry.pkgd.min.js\"></script>\\n    <script src=\"/static/js/libs/html-includes.js\"></script>\\n\\n    <script type=\"text/javascript\" src=\"/static/js/main-min.a3326162e3f0.js\" charset=\"utf-8\"></script>\\n    \\n\\n    <!--[if lte IE 7]>\\n    <script type=\"text/javascript\" src=\"/static/js/plugins/IE8-min.98b6ab00aab8.js\" charset=\"utf-8\"></script>\\n    \\n    \\n    <![endif]-->\\n\\n    <!--[if lte IE 8]>\\n    <script type=\"text/javascript\" src=\"/static/js/plugins/getComputedStyle-min.c3860be1d290.js\" charset=\"utf-8\"></script>\\n    \\n    \\n    <![endif]-->\\n\\n    \\n\\n    \\n    \\n\\n</body>\\n</html>\\n'"
            ]
          },
          "metadata": {
            "tags": []
          },
          "execution_count": 101
        }
      ]
    },
    {
      "cell_type": "code",
      "metadata": {
        "id": "oXH_4eoeGMMU",
        "colab_type": "code",
        "colab": {}
      },
      "source": [
        "import zipfile\n",
        "z=zipfile.ZipFile(\"a.zip\")\n",
        "for name in z.namelist():\n",
        "  print(name)"
      ],
      "execution_count": null,
      "outputs": []
    },
    {
      "cell_type": "code",
      "metadata": {
        "id": "2PVl8a0jGhiP",
        "colab_type": "code",
        "colab": {}
      },
      "source": [
        "balance = 0\n",
        "def deposit(amount):\n",
        "  global balance\n",
        "  balance += amount\n",
        "  return balance\n",
        "def withdraw(amount):\n",
        "  global balance\n",
        "  balance -= amount\n",
        "  return balance"
      ],
      "execution_count": 104,
      "outputs": []
    },
    {
      "cell_type": "code",
      "metadata": {
        "id": "zE3M_OAqJ8dR",
        "colab_type": "code",
        "colab": {}
      },
      "source": [
        "def make_account():\n",
        "  return {'balance': 0}\n",
        "def deposit(account, amount):\n",
        "  account['balance'] += amount\n",
        "  return account['balance']\n",
        "def withdraw(account, amount):\n",
        "  account['balance'] -= amount\n",
        "  return account['balance']"
      ],
      "execution_count": 105,
      "outputs": []
    },
    {
      "cell_type": "code",
      "metadata": {
        "id": "1MA5Nd4BKH5V",
        "colab_type": "code",
        "colab": {
          "base_uri": "https://localhost:8080/",
          "height": 34
        },
        "outputId": "f50ae6d3-3aba-4864-8646-6f6914c1ce7a"
      },
      "source": [
        "a = make_account()\n",
        "b = make_account()\n",
        "deposit(a, 100)\n",
        "deposit(b, 50)\n",
        "withdraw(b, 10)\n",
        "withdraw(a, 10)"
      ],
      "execution_count": 106,
      "outputs": [
        {
          "output_type": "execute_result",
          "data": {
            "text/plain": [
              "90"
            ]
          },
          "metadata": {
            "tags": []
          },
          "execution_count": 106
        }
      ]
    },
    {
      "cell_type": "code",
      "metadata": {
        "id": "imiFJUlsKVgn",
        "colab_type": "code",
        "colab": {
          "base_uri": "https://localhost:8080/",
          "height": 51
        },
        "outputId": "5420f713-a2da-4f81-f54e-3e17d3b7d70c"
      },
      "source": [
        "class A:\n",
        "  def f(self):\n",
        "    return self.g()\n",
        "  def g(self):\n",
        "    return 'A'\n",
        "class B(A):\n",
        "  def g(self):\n",
        "    return 'B'\n",
        "a = A()\n",
        "b = B()\n",
        "print( a.f(), b.f())\n",
        "print (a.g(), b.g())"
      ],
      "execution_count": 107,
      "outputs": [
        {
          "output_type": "stream",
          "text": [
            "A B\n",
            "A B\n"
          ],
          "name": "stdout"
        }
      ]
    },
    {
      "cell_type": "code",
      "metadata": {
        "id": "REJ-bhD4KrDq",
        "colab_type": "code",
        "colab": {
          "base_uri": "https://localhost:8080/",
          "height": 68
        },
        "outputId": "d34d7d5a-0f82-4464-8039-a27939023e67"
      },
      "source": [
        "try:\n",
        "  print( \"a\")\n",
        "except:\n",
        "  print(\"b\")\n",
        "else:\n",
        "  print(\"c\")\n",
        "finally:\n",
        "  print(\"d\")"
      ],
      "execution_count": 108,
      "outputs": [
        {
          "output_type": "stream",
          "text": [
            "a\n",
            "c\n",
            "d\n"
          ],
          "name": "stdout"
        }
      ]
    },
    {
      "cell_type": "code",
      "metadata": {
        "id": "IYcaNtarLSU7",
        "colab_type": "code",
        "colab": {
          "base_uri": "https://localhost:8080/",
          "height": 51
        },
        "outputId": "9b1f51b6-718d-48f0-b8a9-c0ed308c43ec"
      },
      "source": [
        "def f():\n",
        "  try:\n",
        "    print(\"a\")\n",
        "    return\n",
        "  except:\n",
        "    print(\"b\")\n",
        "  else:\n",
        "    print(\"c\")\n",
        "  finally:\n",
        "    print (\"d\")\n",
        "f()"
      ],
      "execution_count": 109,
      "outputs": [
        {
          "output_type": "stream",
          "text": [
            "a\n",
            "d\n"
          ],
          "name": "stdout"
        }
      ]
    },
    {
      "cell_type": "code",
      "metadata": {
        "id": "G4INSzyzLo5E",
        "colab_type": "code",
        "colab": {}
      },
      "source": [
        "def flatten_list(a, result=None):\n",
        "  if result is None:\n",
        "    result=[]\n",
        "  for x in a:\n",
        "    if isinstance(x,list):\n",
        "      flatten_list(x, result)\n",
        "    else:\n",
        "      result.append(x)\n",
        "  return result"
      ],
      "execution_count": 110,
      "outputs": []
    },
    {
      "cell_type": "code",
      "metadata": {
        "id": "WpdF_nqoMweT",
        "colab_type": "code",
        "colab": {}
      },
      "source": [
        ""
      ],
      "execution_count": null,
      "outputs": []
    },
    {
      "cell_type": "code",
      "metadata": {
        "id": "Oy-SccaMBN2m",
        "colab_type": "code",
        "colab": {}
      },
      "source": [
        ""
      ],
      "execution_count": null,
      "outputs": []
    },
    {
      "cell_type": "code",
      "metadata": {
        "id": "OG02UdtCBFma",
        "colab_type": "code",
        "colab": {}
      },
      "source": [
        ""
      ],
      "execution_count": null,
      "outputs": []
    },
    {
      "cell_type": "code",
      "metadata": {
        "id": "_DEMONJ-BDSM",
        "colab_type": "code",
        "colab": {}
      },
      "source": [
        ""
      ],
      "execution_count": null,
      "outputs": []
    },
    {
      "cell_type": "code",
      "metadata": {
        "id": "Tco00VP3qpDo",
        "colab_type": "code",
        "colab": {}
      },
      "source": [
        ""
      ],
      "execution_count": null,
      "outputs": []
    },
    {
      "cell_type": "code",
      "metadata": {
        "id": "9rcdQvA7qUS-",
        "colab_type": "code",
        "colab": {}
      },
      "source": [
        ""
      ],
      "execution_count": null,
      "outputs": []
    },
    {
      "cell_type": "code",
      "metadata": {
        "id": "p7xAStzAnFtH",
        "colab_type": "code",
        "colab": {}
      },
      "source": [
        ""
      ],
      "execution_count": null,
      "outputs": []
    },
    {
      "cell_type": "code",
      "metadata": {
        "id": "qhPVoVDMnB1N",
        "colab_type": "code",
        "colab": {}
      },
      "source": [
        ""
      ],
      "execution_count": null,
      "outputs": []
    },
    {
      "cell_type": "code",
      "metadata": {
        "id": "CQUkmU1NZA-t",
        "colab_type": "code",
        "colab": {}
      },
      "source": [
        ""
      ],
      "execution_count": null,
      "outputs": []
    },
    {
      "cell_type": "code",
      "metadata": {
        "id": "JxOFM8bXYmYC",
        "colab_type": "code",
        "colab": {}
      },
      "source": [
        ""
      ],
      "execution_count": null,
      "outputs": []
    },
    {
      "cell_type": "code",
      "metadata": {
        "id": "gA34SnoJWqzz",
        "colab_type": "code",
        "colab": {}
      },
      "source": [
        ""
      ],
      "execution_count": null,
      "outputs": []
    },
    {
      "cell_type": "code",
      "metadata": {
        "id": "pHoju05bWoI9",
        "colab_type": "code",
        "colab": {}
      },
      "source": [
        ""
      ],
      "execution_count": null,
      "outputs": []
    },
    {
      "cell_type": "code",
      "metadata": {
        "id": "1Axrk1iUWgr1",
        "colab_type": "code",
        "colab": {}
      },
      "source": [
        ""
      ],
      "execution_count": null,
      "outputs": []
    },
    {
      "cell_type": "code",
      "metadata": {
        "id": "LHjaRzoqZLFI",
        "colab_type": "code",
        "colab": {}
      },
      "source": [
        ""
      ],
      "execution_count": null,
      "outputs": []
    },
    {
      "cell_type": "code",
      "metadata": {
        "id": "L0JDmKLRY1JT",
        "colab_type": "code",
        "colab": {}
      },
      "source": [
        ""
      ],
      "execution_count": null,
      "outputs": []
    },
    {
      "cell_type": "code",
      "metadata": {
        "id": "OttcqXzgYLJp",
        "colab_type": "code",
        "colab": {}
      },
      "source": [
        ""
      ],
      "execution_count": null,
      "outputs": []
    },
    {
      "cell_type": "code",
      "metadata": {
        "id": "YJgB_akS84Qs",
        "colab_type": "code",
        "colab": {}
      },
      "source": [
        ""
      ],
      "execution_count": null,
      "outputs": []
    },
    {
      "cell_type": "code",
      "metadata": {
        "id": "rO4TLD506PbW",
        "colab_type": "code",
        "colab": {}
      },
      "source": [
        ""
      ],
      "execution_count": null,
      "outputs": []
    },
    {
      "cell_type": "code",
      "metadata": {
        "id": "6Co1LyYa5YAa",
        "colab_type": "code",
        "colab": {}
      },
      "source": [
        ""
      ],
      "execution_count": null,
      "outputs": []
    },
    {
      "cell_type": "code",
      "metadata": {
        "id": "f4fMXnU-5PwC",
        "colab_type": "code",
        "colab": {}
      },
      "source": [
        ""
      ],
      "execution_count": null,
      "outputs": []
    },
    {
      "cell_type": "code",
      "metadata": {
        "id": "tOHbTGih5NwQ",
        "colab_type": "code",
        "colab": {}
      },
      "source": [
        ""
      ],
      "execution_count": null,
      "outputs": []
    },
    {
      "cell_type": "code",
      "metadata": {
        "id": "AP5rAW4s2fQW",
        "colab_type": "code",
        "colab": {}
      },
      "source": [
        ""
      ],
      "execution_count": null,
      "outputs": []
    },
    {
      "cell_type": "code",
      "metadata": {
        "id": "OqH_rxSg2Ztk",
        "colab_type": "code",
        "colab": {}
      },
      "source": [
        ""
      ],
      "execution_count": null,
      "outputs": []
    },
    {
      "cell_type": "code",
      "metadata": {
        "id": "dNSGF4Xf2Vva",
        "colab_type": "code",
        "colab": {}
      },
      "source": [
        ""
      ],
      "execution_count": null,
      "outputs": []
    },
    {
      "cell_type": "code",
      "metadata": {
        "id": "VjrWDDXLlKoe",
        "colab_type": "code",
        "colab": {}
      },
      "source": [
        ""
      ],
      "execution_count": null,
      "outputs": []
    },
    {
      "cell_type": "code",
      "metadata": {
        "id": "2tevEbg3k-EP",
        "colab_type": "code",
        "colab": {}
      },
      "source": [
        ""
      ],
      "execution_count": null,
      "outputs": []
    },
    {
      "cell_type": "code",
      "metadata": {
        "id": "CsRicv_XPXId",
        "colab_type": "code",
        "colab": {}
      },
      "source": [
        ""
      ],
      "execution_count": null,
      "outputs": []
    },
    {
      "cell_type": "code",
      "metadata": {
        "id": "YJPL9HcVPSm3",
        "colab_type": "code",
        "colab": {}
      },
      "source": [
        ""
      ],
      "execution_count": null,
      "outputs": []
    },
    {
      "cell_type": "code",
      "metadata": {
        "id": "7n6ex5WVOK2A",
        "colab_type": "code",
        "colab": {}
      },
      "source": [
        ""
      ],
      "execution_count": null,
      "outputs": []
    },
    {
      "cell_type": "code",
      "metadata": {
        "id": "PJEmOTOLrOlW",
        "colab_type": "code",
        "colab": {}
      },
      "source": [
        ""
      ],
      "execution_count": null,
      "outputs": []
    },
    {
      "cell_type": "code",
      "metadata": {
        "id": "w_AejPTLUxZM",
        "colab_type": "code",
        "colab": {}
      },
      "source": [
        ""
      ],
      "execution_count": null,
      "outputs": []
    }
  ]
}