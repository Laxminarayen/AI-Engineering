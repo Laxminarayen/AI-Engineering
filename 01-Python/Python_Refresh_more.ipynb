{
  "nbformat": 4,
  "nbformat_minor": 0,
  "metadata": {
    "colab": {
      "name": "Python Refresh more.ipynb",
      "provenance": [],
      "collapsed_sections": [],
      "authorship_tag": "ABX9TyOJbyzhKUU/gTMS+qrQV1pr",
      "include_colab_link": true
    },
    "kernelspec": {
      "name": "python3",
      "display_name": "Python 3"
    }
  },
  "cells": [
    {
      "cell_type": "markdown",
      "metadata": {
        "id": "view-in-github",
        "colab_type": "text"
      },
      "source": [
        "<a href=\"https://colab.research.google.com/github/plthiyagu/Personnel/blob/master/Python_Refresh_more.ipynb\" target=\"_parent\"><img src=\"https://colab.research.google.com/assets/colab-badge.svg\" alt=\"Open In Colab\"/></a>"
      ]
    },
    {
      "cell_type": "code",
      "metadata": {
        "id": "-vM54iw6czWS",
        "colab_type": "code",
        "colab": {}
      },
      "source": [
        "from random import seed\n",
        "from random import random"
      ],
      "execution_count": 0,
      "outputs": []
    },
    {
      "cell_type": "code",
      "metadata": {
        "id": "NAxyz0WMhPp_",
        "colab_type": "code",
        "colab": {
          "base_uri": "https://localhost:8080/",
          "height": 34
        },
        "outputId": "c37cf186-fc32-4e08-a9bd-8b9dbdd7afac"
      },
      "source": [
        "seed(7)\n",
        "random(),random()"
      ],
      "execution_count": 2,
      "outputs": [
        {
          "output_type": "execute_result",
          "data": {
            "text/plain": [
              "(0.32383276483316237, 0.15084917392450192)"
            ]
          },
          "metadata": {
            "tags": []
          },
          "execution_count": 2
        }
      ]
    },
    {
      "cell_type": "markdown",
      "metadata": {
        "id": "LwGDBOo1h66g",
        "colab_type": "text"
      },
      "source": [
        "We use the randint() function to get integers instead, randomly. It takes two arguments- the start and the top, and then draws a random value from a uniform distribution. Each value has an equal chance of being picked."
      ]
    },
    {
      "cell_type": "code",
      "metadata": {
        "id": "jX4LKIpVhY8L",
        "colab_type": "code",
        "colab": {
          "base_uri": "https://localhost:8080/",
          "height": 34
        },
        "outputId": "52d75dc1-a8e7-4c01-cb61-939ae21bb6cb"
      },
      "source": [
        "from random import randint\n",
        "seed(7)\n",
        "randint(0,9),randint(0,9)"
      ],
      "execution_count": 4,
      "outputs": [
        {
          "output_type": "execute_result",
          "data": {
            "text/plain": [
              "(5, 2)"
            ]
          },
          "metadata": {
            "tags": []
          },
          "execution_count": 4
        }
      ]
    },
    {
      "cell_type": "code",
      "metadata": {
        "id": "Felil4glhuCp",
        "colab_type": "code",
        "colab": {
          "base_uri": "https://localhost:8080/",
          "height": 34
        },
        "outputId": "d1376c3d-9ac2-4a51-9508-f401dfa3c6cb"
      },
      "source": [
        "from random import  randrange\n",
        "randrange(-2,4)"
      ],
      "execution_count": 6,
      "outputs": [
        {
          "output_type": "execute_result",
          "data": {
            "text/plain": [
              "3"
            ]
          },
          "metadata": {
            "tags": []
          },
          "execution_count": 6
        }
      ]
    },
    {
      "cell_type": "markdown",
      "metadata": {
        "id": "QA0ZXNWmiRtO",
        "colab_type": "text"
      },
      "source": [
        "The gauss() function takes in two arguments- the mean and the standard deviation. This gives us a real-valued distribution."
      ]
    },
    {
      "cell_type": "code",
      "metadata": {
        "id": "tA7UDIyIiMpp",
        "colab_type": "code",
        "colab": {
          "base_uri": "https://localhost:8080/",
          "height": 34
        },
        "outputId": "fd44d4b7-4066-47bd-aab2-90e4aa427234"
      },
      "source": [
        "from random import gauss\n",
        "seed(7)\n",
        "gauss(0,1)"
      ],
      "execution_count": 8,
      "outputs": [
        {
          "output_type": "execute_result",
          "data": {
            "text/plain": [
              "-0.2558802884476004"
            ]
          },
          "metadata": {
            "tags": []
          },
          "execution_count": 8
        }
      ]
    },
    {
      "cell_type": "markdown",
      "metadata": {
        "id": "svUISrGSihfv",
        "colab_type": "text"
      },
      "source": [
        "It is possible to randomly pick values from our own custom lists. We have the choice() function/method for this."
      ]
    },
    {
      "cell_type": "code",
      "metadata": {
        "id": "7mMhg-rcibmR",
        "colab_type": "code",
        "colab": {
          "base_uri": "https://localhost:8080/",
          "height": 34
        },
        "outputId": "e3508edd-b998-439e-ae5a-385c990f05b9"
      },
      "source": [
        "from random import choice\n",
        "list=[2,4,3,9,6,2,1,0,7,4,3,5,3,6,8]\n",
        "seed(7)\n",
        "choice(list),choice(list),choice(list),choice(list),choice(list),choice(list)\n"
      ],
      "execution_count": 9,
      "outputs": [
        {
          "output_type": "execute_result",
          "data": {
            "text/plain": [
              "(2, 3, 1, 3, 2, 4)"
            ]
          },
          "metadata": {
            "tags": []
          },
          "execution_count": 9
        }
      ]
    },
    {
      "cell_type": "code",
      "metadata": {
        "id": "O7qKIyhKiu9g",
        "colab_type": "code",
        "colab": {
          "base_uri": "https://localhost:8080/",
          "height": 34
        },
        "outputId": "bcf878e2-f793-44a7-c4b5-8d9b266a0998"
      },
      "source": [
        "from random import sample\n",
        "sample(list,6)"
      ],
      "execution_count": 10,
      "outputs": [
        {
          "output_type": "execute_result",
          "data": {
            "text/plain": [
              "[6, 7, 4, 2, 4, 2]"
            ]
          },
          "metadata": {
            "tags": []
          },
          "execution_count": 10
        }
      ]
    },
    {
      "cell_type": "code",
      "metadata": {
        "id": "zDHsoAhkn8YZ",
        "colab_type": "code",
        "colab": {}
      },
      "source": [
        "from random import shuffle\n",
        "shuffle(list)"
      ],
      "execution_count": 0,
      "outputs": []
    },
    {
      "cell_type": "code",
      "metadata": {
        "id": "77_xAEsLoErY",
        "colab_type": "code",
        "colab": {
          "base_uri": "https://localhost:8080/",
          "height": 34
        },
        "outputId": "4ba3ee25-19a4-4379-8195-88e5dc3122f6"
      },
      "source": [
        "list"
      ],
      "execution_count": 12,
      "outputs": [
        {
          "output_type": "execute_result",
          "data": {
            "text/plain": [
              "[6, 3, 2, 3, 6, 5, 0, 3, 4, 1, 4, 2, 9, 7, 8]"
            ]
          },
          "metadata": {
            "tags": []
          },
          "execution_count": 12
        }
      ]
    },
    {
      "cell_type": "markdown",
      "metadata": {
        "id": "xUvw-zKZoV7F",
        "colab_type": "text"
      },
      "source": [
        "String formatters allow us to print characters and values at once. You can use the % operator."
      ]
    },
    {
      "cell_type": "code",
      "metadata": {
        "id": "Kao8pHvJoW5_",
        "colab_type": "code",
        "colab": {
          "base_uri": "https://localhost:8080/",
          "height": 34
        },
        "outputId": "1486fdcc-b40b-4a88-a820-58fafd17d785"
      },
      "source": [
        "x=10;\n",
        "printer=\"Dell\"\n",
        "print(\"I just printed %s pages to the printer %s\" % (x, printer))\n"
      ],
      "execution_count": 13,
      "outputs": [
        {
          "output_type": "stream",
          "text": [
            "I just printed 10 pages to the printer Dell\n"
          ],
          "name": "stdout"
        }
      ]
    },
    {
      "cell_type": "code",
      "metadata": {
        "id": "pPP5vslZofWg",
        "colab_type": "code",
        "colab": {
          "base_uri": "https://localhost:8080/",
          "height": 51
        },
        "outputId": "55892319-4210-4623-cab1-1b9b0bd5e464"
      },
      "source": [
        "print(\"I just printed {0} pages to the printer {1}\".format(x, printer))\n",
        "print(\"I  just printed {x} pages to the printer {printer}\".format(x=7, printer=\"Dell\"))\n"
      ],
      "execution_count": 15,
      "outputs": [
        {
          "output_type": "stream",
          "text": [
            "I just printed 10 pages to the printer Dell\n",
            "I  just printed 7 pages to the printer Dell\n"
          ],
          "name": "stdout"
        }
      ]
    },
    {
      "cell_type": "code",
      "metadata": {
        "id": "ykXqRYI-p0G_",
        "colab_type": "code",
        "colab": {
          "base_uri": "https://localhost:8080/",
          "height": 34
        },
        "outputId": "2dbc0bb9-548d-4b92-ea2b-4e2d41be02ac"
      },
      "source": [
        "print(f\"I just printed {x} pages to the printer {printer}\")\n"
      ],
      "execution_count": 16,
      "outputs": [
        {
          "output_type": "stream",
          "text": [
            "I just printed 10 pages to the printer Dell\n"
          ],
          "name": "stdout"
        }
      ]
    },
    {
      "cell_type": "markdown",
      "metadata": {
        "id": "iS88tbx_uoLl",
        "colab_type": "text"
      },
      "source": [
        "Exponential numbers\n",
        "\n"
      ]
    },
    {
      "cell_type": "code",
      "metadata": {
        "id": "4bU0wb_Jp8xV",
        "colab_type": "code",
        "colab": {
          "base_uri": "https://localhost:8080/",
          "height": 34
        },
        "outputId": "d83ba55a-79a2-45f6-edda-eee655a01298"
      },
      "source": [
        "print(2e5)"
      ],
      "execution_count": 17,
      "outputs": [
        {
          "output_type": "stream",
          "text": [
            "200000.0\n"
          ],
          "name": "stdout"
        }
      ]
    },
    {
      "cell_type": "markdown",
      "metadata": {
        "id": "HYV0E6-avA1f",
        "colab_type": "text"
      },
      "source": [
        "When you want to write a binary number, use the prefix 0b or 0B.\n",
        "\n"
      ]
    },
    {
      "cell_type": "code",
      "metadata": {
        "id": "1yRnYTacutui",
        "colab_type": "code",
        "colab": {
          "base_uri": "https://localhost:8080/",
          "height": 34
        },
        "outputId": "22e30ca5-73aa-4b44-f7f2-9389f3900d6e"
      },
      "source": [
        "print(0b111)\n"
      ],
      "execution_count": 18,
      "outputs": [
        {
          "output_type": "stream",
          "text": [
            "7\n"
          ],
          "name": "stdout"
        }
      ]
    },
    {
      "cell_type": "markdown",
      "metadata": {
        "id": "dnFMXsEMxQqY",
        "colab_type": "text"
      },
      "source": [
        "The letter ‘f’ precedes the string, and the variables are mentioned in curly braces in their places."
      ]
    },
    {
      "cell_type": "code",
      "metadata": {
        "id": "qX9NJwI4vKGC",
        "colab_type": "code",
        "colab": {
          "base_uri": "https://localhost:8080/",
          "height": 34
        },
        "outputId": "48fdb6f7-4042-41c2-d5cc-e70af3d2bc6e"
      },
      "source": [
        "name='Ayushi'\n",
        "print(f\"It isn't {name}'s birthday\")\n"
      ],
      "execution_count": 19,
      "outputs": [
        {
          "output_type": "stream",
          "text": [
            "It isn't Ayushi's birthday\n"
          ],
          "name": "stdout"
        }
      ]
    },
    {
      "cell_type": "markdown",
      "metadata": {
        "id": "oCH7-ie9xlC2",
        "colab_type": "text"
      },
      "source": [
        "You can use the format() method to do the same. It succeeds the string, and has the variables as arguments separated by commas. In the string, use curly braces to posit the variables. Inside the curly braces, you can either put 0,1,.. or the variables. When doing the latter, you must assign values to them in the format method."
      ]
    },
    {
      "cell_type": "code",
      "metadata": {
        "id": "ckZR3zhOxWu8",
        "colab_type": "code",
        "colab": {
          "base_uri": "https://localhost:8080/",
          "height": 34
        },
        "outputId": "9fed91f6-855c-4464-b566-a4c4afa87fa5"
      },
      "source": [
        "print(\"I love {b}\".format(b='ferrets'))\n"
      ],
      "execution_count": 20,
      "outputs": [
        {
          "output_type": "stream",
          "text": [
            "I love ferrets\n"
          ],
          "name": "stdout"
        }
      ]
    },
    {
      "cell_type": "markdown",
      "metadata": {
        "id": "s1yOvX-sxv-d",
        "colab_type": "text"
      },
      "source": [
        "The % operator goes where the variables go in a string. %s is for string. What follows the string is the operator and variables in parentheses/in a tuple.\n",
        "%d – for integers\n",
        "\n",
        "%f – for floating-point numbers\n"
      ]
    },
    {
      "cell_type": "code",
      "metadata": {
        "id": "PMYYgTpMxqb8",
        "colab_type": "code",
        "colab": {
          "base_uri": "https://localhost:8080/",
          "height": 34
        },
        "outputId": "809788d7-882e-4ca7-c389-39575fbe5dc8"
      },
      "source": [
        "a=\"hi\"\n",
        "b='ferrets'\n",
        "print(\"I love %s and %s\" %(a,b))\n"
      ],
      "execution_count": 22,
      "outputs": [
        {
          "output_type": "stream",
          "text": [
            "I love hi and ferrets\n"
          ],
          "name": "stdout"
        }
      ]
    },
    {
      "cell_type": "markdown",
      "metadata": {
        "id": "CmgKOH2LyKmo",
        "colab_type": "text"
      },
      "source": [
        "Since a backslash may be a part of an escape sequence, so, a backslash must be escaped by a backslash too.\n",
        "\n",
        "\\’ – A single quote can be escaped by a backslash. This lets you use single quotes freely in a string.\n"
      ]
    },
    {
      "cell_type": "markdown",
      "metadata": {
        "id": "2glydjeNyimG",
        "colab_type": "text"
      },
      "source": [
        "How Does Python Interpreter Works?\n",
        "Well, internally, four things happen in a REPL:\n",
        "i. Lexing- The lexer breaks the line of code into tokens.\n",
        "ii. Parsing- The parser uses these tokens to generate a structure, here, an Abstract Syntax Tree, to depict the relationship between these tokens.\n",
        "iii. Compiling- The compiler turns this AST into code object(s).\n",
        "iv. Interpreting- The interpreter executes each code object.\n"
      ]
    },
    {
      "cell_type": "markdown",
      "metadata": {
        "id": "LvWuhUe2_RKY",
        "colab_type": "text"
      },
      "source": [
        "super() returns a proxy object to let you refer to the parent class."
      ]
    },
    {
      "cell_type": "code",
      "metadata": {
        "id": "ECy7swpux78v",
        "colab_type": "code",
        "colab": {
          "base_uri": "https://localhost:8080/",
          "height": 51
        },
        "outputId": "f998aef8-331a-448b-9230-1a2dc0714d90"
      },
      "source": [
        "class person:\n",
        "  def __init__(self):\n",
        "    print(\"A person\")\n",
        "class student(person):\n",
        "  def __init__(self):\n",
        "    super().__init__()\n",
        "    print(\"A student\")\n",
        "Avery=student()\n"
      ],
      "execution_count": 23,
      "outputs": [
        {
          "output_type": "stream",
          "text": [
            "A person\n",
            "A student\n"
          ],
          "name": "stdout"
        }
      ]
    },
    {
      "cell_type": "markdown",
      "metadata": {
        "id": "kUGG-OBxAUUI",
        "colab_type": "text"
      },
      "source": [
        "unzip"
      ]
    },
    {
      "cell_type": "code",
      "metadata": {
        "id": "LQdTmNLI_jZZ",
        "colab_type": "code",
        "colab": {
          "base_uri": "https://localhost:8080/",
          "height": 34
        },
        "outputId": "1e1a426e-5ae2-4a43-97be-bd69f61a7b50"
      },
      "source": [
        "z=zip([1,2,3],['a','b','c'],['#','*','$'])\n",
        "a,b,c=zip(*z)\n",
        "a,b,c\n"
      ],
      "execution_count": 24,
      "outputs": [
        {
          "output_type": "execute_result",
          "data": {
            "text/plain": [
              "((1, 2, 3), ('a', 'b', 'c'), ('#', '*', '$'))"
            ]
          },
          "metadata": {
            "tags": []
          },
          "execution_count": 24
        }
      ]
    },
    {
      "cell_type": "code",
      "metadata": {
        "id": "cKnRmGC7ASfK",
        "colab_type": "code",
        "colab": {
          "base_uri": "https://localhost:8080/",
          "height": 34
        },
        "outputId": "8e7c8480-a94b-44c5-c735-78c019962ee0"
      },
      "source": [
        "z=zip([1,2],[3,4,5])\n",
        "a,b=zip(*z)\n",
        "a,b\n"
      ],
      "execution_count": 25,
      "outputs": [
        {
          "output_type": "execute_result",
          "data": {
            "text/plain": [
              "((1, 2), (3, 4))"
            ]
          },
          "metadata": {
            "tags": []
          },
          "execution_count": 25
        }
      ]
    },
    {
      "cell_type": "code",
      "metadata": {
        "id": "S-PY69WtAgaC",
        "colab_type": "code",
        "colab": {}
      },
      "source": [
        "from collections import Counter,defaultdict,OrderedDict,namedtuple\n"
      ],
      "execution_count": 0,
      "outputs": []
    },
    {
      "cell_type": "markdown",
      "metadata": {
        "id": "K6f0K8D3BvKV",
        "colab_type": "text"
      },
      "source": [
        "A Python namedtuple lets us access elements in a tuple using names/labels.\n",
        "\n"
      ]
    },
    {
      "cell_type": "code",
      "metadata": {
        "id": "RIC15eQnop5Y",
        "colab_type": "code",
        "colab": {
          "base_uri": "https://localhost:8080/",
          "height": 34
        },
        "outputId": "cb3f660d-299a-4a34-e48b-df210a6fe90b"
      },
      "source": [
        "from collections import namedtuple\n",
        "Colors=namedtuple('Colors','red green blue')\n",
        "Colors"
      ],
      "execution_count": 27,
      "outputs": [
        {
          "output_type": "execute_result",
          "data": {
            "text/plain": [
              "__main__.Colors"
            ]
          },
          "metadata": {
            "tags": []
          },
          "execution_count": 27
        }
      ]
    },
    {
      "cell_type": "code",
      "metadata": {
        "id": "8XW8pFA0B5De",
        "colab_type": "code",
        "colab": {
          "base_uri": "https://localhost:8080/",
          "height": 34
        },
        "outputId": "d22d2c79-0b17-4a26-9e26-89367fd84f8e"
      },
      "source": [
        "red=Colors(red=255,green=0,blue=0)\n",
        "green=Colors(red=0,green=255,blue=0)\n",
        "blue=Colors(red=0,green=0,blue=255)\n",
        "red\n"
      ],
      "execution_count": 28,
      "outputs": [
        {
          "output_type": "execute_result",
          "data": {
            "text/plain": [
              "Colors(red=255, green=0, blue=0)"
            ]
          },
          "metadata": {
            "tags": []
          },
          "execution_count": 28
        }
      ]
    },
    {
      "cell_type": "code",
      "metadata": {
        "id": "iDk89HHBCLgJ",
        "colab_type": "code",
        "colab": {
          "base_uri": "https://localhost:8080/",
          "height": 34
        },
        "outputId": "78a0486f-7067-4981-c859-e094cee7bbe5"
      },
      "source": [
        "red.red"
      ],
      "execution_count": 29,
      "outputs": [
        {
          "output_type": "execute_result",
          "data": {
            "text/plain": [
              "255"
            ]
          },
          "metadata": {
            "tags": []
          },
          "execution_count": 29
        }
      ]
    },
    {
      "cell_type": "code",
      "metadata": {
        "id": "A2kXsvY4CS_t",
        "colab_type": "code",
        "colab": {
          "base_uri": "https://localhost:8080/",
          "height": 34
        },
        "outputId": "56f2ba3b-10fe-4c8b-c82e-b5d30824a53e"
      },
      "source": [
        "red.green"
      ],
      "execution_count": 30,
      "outputs": [
        {
          "output_type": "execute_result",
          "data": {
            "text/plain": [
              "0"
            ]
          },
          "metadata": {
            "tags": []
          },
          "execution_count": 30
        }
      ]
    },
    {
      "cell_type": "code",
      "metadata": {
        "id": "aT2RkhvzCUz7",
        "colab_type": "code",
        "colab": {
          "base_uri": "https://localhost:8080/",
          "height": 68
        },
        "outputId": "1d8e0e96-f2db-4911-a74d-e483c60c698b"
      },
      "source": [
        "from collections import defaultdict \n",
        "  \n",
        "  \n",
        "# Function to return a default \n",
        "# values for keys that is not \n",
        "# present \n",
        "def def_value(): \n",
        "    return \"Not Present\"\n",
        "      \n",
        "# Defining the dict \n",
        "d = defaultdict(def_value) \n",
        "d[\"a\"] = 1\n",
        "d[\"b\"] = 2\n",
        "  \n",
        "print(d[\"a\"]) \n",
        "print(d[\"b\"]) \n",
        "print(d[\"c\"]) \n"
      ],
      "execution_count": 31,
      "outputs": [
        {
          "output_type": "stream",
          "text": [
            "1\n",
            "2\n",
            "Not Present\n"
          ],
          "name": "stdout"
        }
      ]
    },
    {
      "cell_type": "code",
      "metadata": {
        "id": "4d8GZduSGeHG",
        "colab_type": "code",
        "colab": {
          "base_uri": "https://localhost:8080/",
          "height": 238
        },
        "outputId": "0ee1e83b-cb6b-4953-92ac-9fedbaa14d43"
      },
      "source": [
        "from collections import OrderedDict \n",
        "  \n",
        "print(\"This is a Dict:\\n\") \n",
        "d = {} \n",
        "d['a'] = 1\n",
        "d['b'] = 2\n",
        "d['c'] = 3\n",
        "d['d'] = 4\n",
        "  \n",
        "for key, value in d.items(): \n",
        "    print(key, value) \n",
        "  \n",
        "print(\"\\nThis is an Ordered Dict:\\n\") \n",
        "od = OrderedDict() \n",
        "od['a'] = 1\n",
        "od['b'] = 2\n",
        "od['c'] = 3\n",
        "od['d'] = 4\n",
        "  \n",
        "for key, value in od.items(): \n",
        "    print(key, value) "
      ],
      "execution_count": 32,
      "outputs": [
        {
          "output_type": "stream",
          "text": [
            "This is a Dict:\n",
            "\n",
            "a 1\n",
            "b 2\n",
            "c 3\n",
            "d 4\n",
            "\n",
            "This is an Ordered Dict:\n",
            "\n",
            "a 1\n",
            "b 2\n",
            "c 3\n",
            "d 4\n"
          ],
          "name": "stdout"
        }
      ]
    },
    {
      "cell_type": "code",
      "metadata": {
        "id": "8T_aZXmzGqbO",
        "colab_type": "code",
        "colab": {
          "base_uri": "https://localhost:8080/",
          "height": 34
        },
        "outputId": "25563974-ee4f-45cc-cb3e-82e295e2ac36"
      },
      "source": [
        "def even_squares(x):\n",
        "  for i in range(x):\n",
        "    if i**2%2==0:\n",
        "      yield i**2\n",
        "print(even_squares(10))\n"
      ],
      "execution_count": 34,
      "outputs": [
        {
          "output_type": "stream",
          "text": [
            "<generator object even_squares at 0x7f76676f0f10>\n"
          ],
          "name": "stdout"
        }
      ]
    },
    {
      "cell_type": "code",
      "metadata": {
        "id": "zJ2Yeqa3IzRW",
        "colab_type": "code",
        "colab": {}
      },
      "source": [
        ""
      ],
      "execution_count": 0,
      "outputs": []
    },
    {
      "cell_type": "code",
      "metadata": {
        "id": "vbEQUdNnoGsw",
        "colab_type": "code",
        "colab": {}
      },
      "source": [
        ""
      ],
      "execution_count": 0,
      "outputs": []
    },
    {
      "cell_type": "code",
      "metadata": {
        "id": "1RIJ9mBgiIyG",
        "colab_type": "code",
        "colab": {}
      },
      "source": [
        ""
      ],
      "execution_count": 0,
      "outputs": []
    },
    {
      "cell_type": "code",
      "metadata": {
        "id": "AhkgUcblhi4G",
        "colab_type": "code",
        "colab": {}
      },
      "source": [
        ""
      ],
      "execution_count": 0,
      "outputs": []
    }
  ]
}