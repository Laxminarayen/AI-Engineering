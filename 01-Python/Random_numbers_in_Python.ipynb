{
  "nbformat": 4,
  "nbformat_minor": 0,
  "metadata": {
    "colab": {
      "name": "Random numbers in Python.ipynb",
      "provenance": [],
      "authorship_tag": "ABX9TyOCWFHy87RyFH1I6U8jW2XH",
      "include_colab_link": true
    },
    "kernelspec": {
      "name": "python3",
      "display_name": "Python 3"
    }
  },
  "cells": [
    {
      "cell_type": "markdown",
      "metadata": {
        "id": "view-in-github",
        "colab_type": "text"
      },
      "source": [
        "<a href=\"https://colab.research.google.com/github/plthiyagu/Personnel/blob/master/Random_numbers_in_Python.ipynb\" target=\"_parent\"><img src=\"https://colab.research.google.com/assets/colab-badge.svg\" alt=\"Open In Colab\"/></a>"
      ]
    },
    {
      "cell_type": "code",
      "metadata": {
        "id": "GRyFO9MLmO8f",
        "colab_type": "code",
        "colab": {}
      },
      "source": [
        "from random import seed\n",
        "from random import random"
      ],
      "execution_count": 1,
      "outputs": []
    },
    {
      "cell_type": "markdown",
      "metadata": {
        "id": "ZS-wiVk8nJWK",
        "colab_type": "text"
      },
      "source": [
        "Random Floating Point Numbers"
      ]
    },
    {
      "cell_type": "code",
      "metadata": {
        "id": "NZJyV8JLmUWs",
        "colab_type": "code",
        "colab": {
          "base_uri": "https://localhost:8080/",
          "height": 34
        },
        "outputId": "c4170f09-0f5e-4786-d495-a6229e5ccb5a"
      },
      "source": [
        "seed(7)\n",
        "random(),random(),random()"
      ],
      "execution_count": 2,
      "outputs": [
        {
          "output_type": "execute_result",
          "data": {
            "text/plain": [
              "(0.32383276483316237, 0.15084917392450192, 0.6509344730398537)"
            ]
          },
          "metadata": {
            "tags": []
          },
          "execution_count": 2
        }
      ]
    },
    {
      "cell_type": "code",
      "metadata": {
        "id": "p6emzEiXmbkl",
        "colab_type": "code",
        "colab": {
          "base_uri": "https://localhost:8080/",
          "height": 34
        },
        "outputId": "c2e9b2f2-7b5b-4d16-8fd4-eca7f2a03383"
      },
      "source": [
        "seed(7)\n",
        "2+10*random()"
      ],
      "execution_count": 3,
      "outputs": [
        {
          "output_type": "execute_result",
          "data": {
            "text/plain": [
              "5.238327648331624"
            ]
          },
          "metadata": {
            "tags": []
          },
          "execution_count": 3
        }
      ]
    },
    {
      "cell_type": "markdown",
      "metadata": {
        "id": "rVoQap6VnD2I",
        "colab_type": "text"
      },
      "source": [
        "Python Random Integers"
      ]
    },
    {
      "cell_type": "code",
      "metadata": {
        "id": "C1tX5EN8mmCu",
        "colab_type": "code",
        "colab": {
          "base_uri": "https://localhost:8080/",
          "height": 34
        },
        "outputId": "329322be-d742-4a7b-cd06-957473cad534"
      },
      "source": [
        "from random import randint\n",
        "seed(7)\n",
        "\n",
        "randint(0,7),randint(0,9)"
      ],
      "execution_count": 5,
      "outputs": [
        {
          "output_type": "execute_result",
          "data": {
            "text/plain": [
              "(5, 2)"
            ]
          },
          "metadata": {
            "tags": []
          },
          "execution_count": 5
        }
      ]
    },
    {
      "cell_type": "markdown",
      "metadata": {
        "id": "kjoDy4ytm7O2",
        "colab_type": "text"
      },
      "source": [
        "Getting Integers Randomly from a Range\n"
      ]
    },
    {
      "cell_type": "code",
      "metadata": {
        "id": "oEq4nNSjmxHr",
        "colab_type": "code",
        "colab": {
          "base_uri": "https://localhost:8080/",
          "height": 34
        },
        "outputId": "2da1efc0-7aa8-469e-e6a6-cfc2f925ab5e"
      },
      "source": [
        "from random import randrange\n",
        "randrange(-2,4)"
      ],
      "execution_count": 6,
      "outputs": [
        {
          "output_type": "execute_result",
          "data": {
            "text/plain": [
              "1"
            ]
          },
          "metadata": {
            "tags": []
          },
          "execution_count": 6
        }
      ]
    },
    {
      "cell_type": "markdown",
      "metadata": {
        "id": "ps4vlijWnR0E",
        "colab_type": "text"
      },
      "source": [
        "Random Gaussian Values"
      ]
    },
    {
      "cell_type": "code",
      "metadata": {
        "id": "GjRzjZVNnAzj",
        "colab_type": "code",
        "colab": {
          "base_uri": "https://localhost:8080/",
          "height": 34
        },
        "outputId": "4363eac1-1a1a-4756-8767-5894f7ab2622"
      },
      "source": [
        "from random import gauss\n",
        "seed(7)\n",
        "gauss(0,1),gauss(0,1),gauss(0,1)\n"
      ],
      "execution_count": 7,
      "outputs": [
        {
          "output_type": "execute_result",
          "data": {
            "text/plain": [
              "(-0.2558802884476004, 0.511431512516514, -0.2260961647831047)"
            ]
          },
          "metadata": {
            "tags": []
          },
          "execution_count": 7
        }
      ]
    },
    {
      "cell_type": "markdown",
      "metadata": {
        "id": "GlIaoh6Snacv",
        "colab_type": "text"
      },
      "source": [
        "Choosing Randomly From Lists"
      ]
    },
    {
      "cell_type": "code",
      "metadata": {
        "id": "npq_BwTWnXAY",
        "colab_type": "code",
        "colab": {
          "base_uri": "https://localhost:8080/",
          "height": 34
        },
        "outputId": "1238cba5-961a-4561-f8d4-fe3e5edb50e7"
      },
      "source": [
        "list=[2,4,3,9,6,2,1,0,7,4,3,5,3,6,8]\n",
        "from random import choice\n",
        "seed(7)\n",
        "choice(list),choice(list),choice(list),choice(list),choice(list),choice(list)"
      ],
      "execution_count": 8,
      "outputs": [
        {
          "output_type": "execute_result",
          "data": {
            "text/plain": [
              "(2, 3, 1, 3, 2, 4)"
            ]
          },
          "metadata": {
            "tags": []
          },
          "execution_count": 8
        }
      ]
    },
    {
      "cell_type": "markdown",
      "metadata": {
        "id": "QD-ptDWUnkUj",
        "colab_type": "text"
      },
      "source": [
        "Randomly Choosing a Subset from a List"
      ]
    },
    {
      "cell_type": "code",
      "metadata": {
        "id": "0G0j7833nguz",
        "colab_type": "code",
        "colab": {
          "base_uri": "https://localhost:8080/",
          "height": 34
        },
        "outputId": "1fe91b25-51c8-4b31-99d1-25beedae23cb"
      },
      "source": [
        "list"
      ],
      "execution_count": 9,
      "outputs": [
        {
          "output_type": "execute_result",
          "data": {
            "text/plain": [
              "[2, 4, 3, 9, 6, 2, 1, 0, 7, 4, 3, 5, 3, 6, 8]"
            ]
          },
          "metadata": {
            "tags": []
          },
          "execution_count": 9
        }
      ]
    },
    {
      "cell_type": "code",
      "metadata": {
        "id": "9GKznDbanqur",
        "colab_type": "code",
        "colab": {
          "base_uri": "https://localhost:8080/",
          "height": 34
        },
        "outputId": "566791eb-2e77-4271-cb72-d2342047dd9c"
      },
      "source": [
        "from random import sample\n",
        "sample(list,6)"
      ],
      "execution_count": 10,
      "outputs": [
        {
          "output_type": "execute_result",
          "data": {
            "text/plain": [
              "[6, 7, 4, 2, 4, 2]"
            ]
          },
          "metadata": {
            "tags": []
          },
          "execution_count": 10
        }
      ]
    },
    {
      "cell_type": "markdown",
      "metadata": {
        "id": "MQ83uwoJnwXh",
        "colab_type": "text"
      },
      "source": [
        "Shuffling a List Randomly"
      ]
    },
    {
      "cell_type": "code",
      "metadata": {
        "id": "w0Max3Wxnsul",
        "colab_type": "code",
        "colab": {
          "base_uri": "https://localhost:8080/",
          "height": 34
        },
        "outputId": "6a1d29a8-f3bb-493f-f230-5a3643d89d61"
      },
      "source": [
        "list"
      ],
      "execution_count": 11,
      "outputs": [
        {
          "output_type": "execute_result",
          "data": {
            "text/plain": [
              "[2, 4, 3, 9, 6, 2, 1, 0, 7, 4, 3, 5, 3, 6, 8]"
            ]
          },
          "metadata": {
            "tags": []
          },
          "execution_count": 11
        }
      ]
    },
    {
      "cell_type": "code",
      "metadata": {
        "id": "MgLTTxPTnxWQ",
        "colab_type": "code",
        "colab": {
          "base_uri": "https://localhost:8080/",
          "height": 34
        },
        "outputId": "707b3f52-c721-4c08-85a7-5cb3e7b1c190"
      },
      "source": [
        "from random import shuffle\n",
        "shuffle(list)\n",
        "list"
      ],
      "execution_count": 13,
      "outputs": [
        {
          "output_type": "execute_result",
          "data": {
            "text/plain": [
              "[5, 2, 8, 4, 6, 3, 3, 9, 0, 2, 6, 1, 7, 4, 3]"
            ]
          },
          "metadata": {
            "tags": []
          },
          "execution_count": 13
        }
      ]
    },
    {
      "cell_type": "markdown",
      "metadata": {
        "id": "NsVDcp4xn-3Q",
        "colab_type": "text"
      },
      "source": [
        "How to Generate Python Random Number with NumPy?"
      ]
    },
    {
      "cell_type": "code",
      "metadata": {
        "id": "NfLHANain33L",
        "colab_type": "code",
        "colab": {
          "base_uri": "https://localhost:8080/",
          "height": 34
        },
        "outputId": "35adc797-6d08-4bff-cb99-eec33d4bc778"
      },
      "source": [
        "from numpy.random import seed\n",
        "from numpy.random import rand\n",
        "seed(7)\n",
        "rand(3)"
      ],
      "execution_count": 14,
      "outputs": [
        {
          "output_type": "execute_result",
          "data": {
            "text/plain": [
              "array([0.07630829, 0.77991879, 0.43840923])"
            ]
          },
          "metadata": {
            "tags": []
          },
          "execution_count": 14
        }
      ]
    },
    {
      "cell_type": "code",
      "metadata": {
        "id": "wAt_GXmuoFt4",
        "colab_type": "code",
        "colab": {}
      },
      "source": [
        ""
      ],
      "execution_count": null,
      "outputs": []
    }
  ]
}