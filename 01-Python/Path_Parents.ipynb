{
  "nbformat": 4,
  "nbformat_minor": 0,
  "metadata": {
    "colab": {
      "name": "Path Parents.ipynb",
      "provenance": [],
      "authorship_tag": "ABX9TyNl4o0v23ryV8KmHo8h8byB",
      "include_colab_link": true
    },
    "kernelspec": {
      "name": "python3",
      "display_name": "Python 3"
    },
    "language_info": {
      "name": "python"
    }
  },
  "cells": [
    {
      "cell_type": "markdown",
      "metadata": {
        "id": "view-in-github",
        "colab_type": "text"
      },
      "source": [
        "<a href=\"https://colab.research.google.com/github/plthiyagu/AI-Engineering/blob/master/01-Python/Path_Parents.ipynb\" target=\"_parent\"><img src=\"https://colab.research.google.com/assets/colab-badge.svg\" alt=\"Open In Colab\"/></a>"
      ]
    },
    {
      "cell_type": "code",
      "metadata": {
        "id": "5714fR3dPOgs"
      },
      "source": [
        "# Create a folder for checkpoints with weights.\n",
        "#! mkdir checkpoints\n",
        "# Download the file with weights for YOLOv3 from the official site.\n",
        "#! wget https://pjreddie.com/media/files/yolov3.weights"
      ],
      "execution_count": null,
      "outputs": []
    },
    {
      "cell_type": "code",
      "metadata": {
        "id": "HpOshXG7PbhW",
        "colab": {
          "base_uri": "https://localhost:8080/"
        },
        "outputId": "be716486-ed28-4b55-efcd-060a9d9201b5"
      },
      "source": [
        "from pathlib import Path \n",
        "\n",
        "file = 'test1/test2/test.txt'\n",
        "print(Path(file).parents[0])\n",
        "print(Path(file).parents[1])\n",
        "print(Path(file).parents[2])\n",
        "print(Path(file).parents[2].resolve())\n"
      ],
      "execution_count": 1,
      "outputs": [
        {
          "output_type": "stream",
          "name": "stdout",
          "text": [
            "test1/test2\n",
            "test1\n",
            ".\n",
            "/content\n"
          ]
        }
      ]
    },
    {
      "cell_type": "code",
      "metadata": {
        "id": "ahcpQXJkPmAS"
      },
      "source": [
        ""
      ],
      "execution_count": null,
      "outputs": []
    }
  ]
}