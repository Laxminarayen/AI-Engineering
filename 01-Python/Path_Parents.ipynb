{
  "nbformat": 4,
  "nbformat_minor": 0,
  "metadata": {
    "colab": {
      "name": "Path Parents.ipynb",
      "provenance": [],
      "authorship_tag": "ABX9TyNkG0D3y7IJfiRC/A+YgjpB",
      "include_colab_link": true
    },
    "kernelspec": {
      "name": "python3",
      "display_name": "Python 3"
    },
    "language_info": {
      "name": "python"
    }
  },
  "cells": [
    {
      "cell_type": "markdown",
      "metadata": {
        "id": "view-in-github",
        "colab_type": "text"
      },
      "source": [
        "<a href=\"https://colab.research.google.com/github/plthiyagu/AI-Engineering/blob/master/01-Python/Path_Parents.ipynb\" target=\"_parent\"><img src=\"https://colab.research.google.com/assets/colab-badge.svg\" alt=\"Open In Colab\"/></a>"
      ]
    },
    {
      "cell_type": "code",
      "metadata": {
        "id": "5714fR3dPOgs"
      },
      "source": [
        "# Create a folder for checkpoints with weights.\n",
        "#! mkdir checkpoints\n",
        "# Download the file with weights for YOLOv3 from the official site.\n",
        "#! wget https://pjreddie.com/media/files/yolov3.weights"
      ],
      "execution_count": null,
      "outputs": []
    },
    {
      "cell_type": "code",
      "metadata": {
        "id": "HpOshXG7PbhW",
        "colab": {
          "base_uri": "https://localhost:8080/"
        },
        "outputId": "be716486-ed28-4b55-efcd-060a9d9201b5"
      },
      "source": [
        "from pathlib import Path \n",
        "\n",
        "file = 'test1/test2/test.txt'\n",
        "print(Path(file).parents[0])\n",
        "print(Path(file).parents[1])\n",
        "print(Path(file).parents[2])\n",
        "print(Path(file).parents[2].resolve())\n"
      ],
      "execution_count": null,
      "outputs": [
        {
          "output_type": "stream",
          "name": "stdout",
          "text": [
            "test1/test2\n",
            "test1\n",
            ".\n",
            "/content\n"
          ]
        }
      ]
    },
    {
      "cell_type": "code",
      "metadata": {
        "id": "ahcpQXJkPmAS",
        "colab": {
          "base_uri": "https://localhost:8080/"
        },
        "outputId": "f9ffdd7d-8eda-452b-a823-3d679e2eb5c5"
      },
      "source": [
        "from pathlib import Path \n",
        "import pandas as pd\n",
        "\n",
        "DATA_DIR = Path('data', 'processed')\n",
        "\n",
        "print(DATA_DIR)"
      ],
      "execution_count": 3,
      "outputs": [
        {
          "output_type": "stream",
          "name": "stdout",
          "text": [
            "data/processed\n"
          ]
        }
      ]
    },
    {
      "cell_type": "code",
      "metadata": {
        "colab": {
          "base_uri": "https://localhost:8080/"
        },
        "id": "NdvCEJNBpmmM",
        "outputId": "c7ea5840-c5dd-40d6-fc19-3d78ac129863"
      },
      "source": [
        "import os\n",
        "print(os.getcwd())"
      ],
      "execution_count": 4,
      "outputs": [
        {
          "output_type": "stream",
          "name": "stdout",
          "text": [
            "/content\n"
          ]
        }
      ]
    },
    {
      "cell_type": "code",
      "metadata": {
        "colab": {
          "base_uri": "https://localhost:8080/"
        },
        "id": "epVsEvhApdv0",
        "outputId": "c5e4ecc1-c254-494a-f335-7789b0f62882"
      },
      "source": [
        "directory_name = '/content'\n",
        "\n",
        "# Loop files in a directory\n",
        "pathlist = Path(directory_name).rglob('*.csv')\n",
        "for path in pathlist:\n",
        "    print(str(path))\n"
      ],
      "execution_count": 5,
      "outputs": [
        {
          "output_type": "stream",
          "name": "stdout",
          "text": [
            "/content/sample_data/mnist_test.csv\n",
            "/content/sample_data/mnist_train_small.csv\n",
            "/content/sample_data/california_housing_train.csv\n",
            "/content/sample_data/california_housing_test.csv\n"
          ]
        }
      ]
    },
    {
      "cell_type": "code",
      "metadata": {
        "id": "2H3qEpcWpuY2"
      },
      "source": [
        "file = Path('content')\n",
        "file.open('w').write('Hello!')\n",
        "\n",
        "new_p = file.rename(Path(\"greeting.txt\"))\n",
        "\n"
      ],
      "execution_count": 9,
      "outputs": []
    },
    {
      "cell_type": "code",
      "metadata": {
        "id": "v4jH8_0HqApb"
      },
      "source": [
        ""
      ],
      "execution_count": null,
      "outputs": []
    },
    {
      "cell_type": "code",
      "metadata": {
        "id": "9EerXitlpYFE"
      },
      "source": [
        ""
      ],
      "execution_count": null,
      "outputs": []
    }
  ]
}