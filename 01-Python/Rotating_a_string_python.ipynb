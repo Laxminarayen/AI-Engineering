{
  "nbformat": 4,
  "nbformat_minor": 0,
  "metadata": {
    "colab": {
      "name": "Rotating a string python.ipynb",
      "provenance": [],
      "authorship_tag": "ABX9TyMpeDQt3k59YpiT/XufGvEZ",
      "include_colab_link": true
    },
    "kernelspec": {
      "name": "python3",
      "display_name": "Python 3"
    }
  },
  "cells": [
    {
      "cell_type": "markdown",
      "metadata": {
        "id": "view-in-github",
        "colab_type": "text"
      },
      "source": [
        "<a href=\"https://colab.research.google.com/github/plthiyagu/Personnel/blob/master/Rotating_a_string_python.ipynb\" target=\"_parent\"><img src=\"https://colab.research.google.com/assets/colab-badge.svg\" alt=\"Open In Colab\"/></a>"
      ]
    },
    {
      "cell_type": "code",
      "metadata": {
        "id": "ocpv90zuoUh2",
        "colab_type": "code",
        "colab": {
          "base_uri": "https://localhost:8080/",
          "height": 51
        },
        "outputId": "a344f93a-f599-4f89-a6c9-3bd309869cbb"
      },
      "source": [
        "def rotate(input,d):\n",
        "  #slice string in two parts for left and right\n",
        "\n",
        "  Lfirst= input[0: d]\n",
        "  Lsecond=input[d :]\n",
        "  Rfirst= input[0: len(input)-d]\n",
        "  Rsecond=input[len(input)-d : ]\n",
        "  #now concatenate two parts together\n",
        "  print(\"Left Rotation :\",(Lsecond + Lfirst))\n",
        "  print(\"Left Rotation :\",(Rsecond + Rfirst))\n",
        "\n",
        "input='copyassignment.com'\n",
        "d=2\n",
        "rotate(input,d)"
      ],
      "execution_count": 4,
      "outputs": [
        {
          "output_type": "stream",
          "text": [
            "Left Rotation : pyassignment.comco\n",
            "Left Rotation : omcopyassignment.c\n"
          ],
          "name": "stdout"
        }
      ]
    },
    {
      "cell_type": "code",
      "metadata": {
        "id": "9HDPVb7vptQE",
        "colab_type": "code",
        "colab": {}
      },
      "source": [
        ""
      ],
      "execution_count": null,
      "outputs": []
    }
  ]
}