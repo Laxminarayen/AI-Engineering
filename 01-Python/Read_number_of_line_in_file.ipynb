{
  "nbformat": 4,
  "nbformat_minor": 0,
  "metadata": {
    "colab": {
      "name": "Read number of line in file.ipynb",
      "provenance": [],
      "collapsed_sections": [],
      "authorship_tag": "ABX9TyObgKmlK57hn1xV0cy4DC9y",
      "include_colab_link": true
    },
    "kernelspec": {
      "name": "python3",
      "display_name": "Python 3"
    },
    "language_info": {
      "name": "python"
    }
  },
  "cells": [
    {
      "cell_type": "markdown",
      "metadata": {
        "id": "view-in-github",
        "colab_type": "text"
      },
      "source": [
        "<a href=\"https://colab.research.google.com/github/plthiyagu/AI-Engineering/blob/master/01-Python/Read_number_of_line_in_file.ipynb\" target=\"_parent\"><img src=\"https://colab.research.google.com/assets/colab-badge.svg\" alt=\"Open In Colab\"/></a>"
      ]
    },
    {
      "cell_type": "code",
      "metadata": {
        "id": "iw1yb7yHTk4M"
      },
      "source": [
        "with open('data.txt', 'r') as f: \n",
        "    lines = len(list(filter(lambda x: x.strip(), f)))"
      ],
      "execution_count": null,
      "outputs": []
    },
    {
      "cell_type": "code",
      "metadata": {
        "id": "cdyqhc2OTp9N"
      },
      "source": [
        "fname = \"data.txt\"\n",
        "\n",
        "num_lines = 0\n",
        "num_words = 0\n",
        "num_chars = 0\n",
        "\n",
        "with open(fname, 'r') as f:\n",
        "    for line in f:\n",
        "        words = line.split()\n",
        "\n",
        "        num_lines += 1\n",
        "        num_words += len(words)\n",
        "        num_chars += len(line)\n"
      ],
      "execution_count": null,
      "outputs": []
    },
    {
      "cell_type": "code",
      "metadata": {
        "id": "ZzMX_PRBTz_G"
      },
      "source": [
        "with open('data.txt', 'r') as f:\n",
        "    lines = f.readlines()\n",
        "    num_lines = len([l for l in lines if l.strip(' \\n') != ''])\n"
      ],
      "execution_count": null,
      "outputs": []
    },
    {
      "cell_type": "code",
      "metadata": {
        "id": "esLulFuZUYZL"
      },
      "source": [
        "from itertools import (takewhile,repeat)\n",
        "\n",
        "def rawbigcount(filename):\n",
        "    f = open(filename, 'rb')\n",
        "    bufgen = takewhile(lambda x: x, (f.raw.read(1024*1024) for _ in repeat(None)))\n",
        "    return sum( buf.count(b'\\n') for buf in bufgen if buf )\n"
      ],
      "execution_count": null,
      "outputs": []
    },
    {
      "cell_type": "code",
      "metadata": {
        "id": "MBbj7pQyUeHk"
      },
      "source": [
        "with open('text.txt') as myfile:\n",
        "    count = sum(1 for line in myfile if line.rstrip('\\n'))\n"
      ],
      "execution_count": null,
      "outputs": []
    }
  ]
}