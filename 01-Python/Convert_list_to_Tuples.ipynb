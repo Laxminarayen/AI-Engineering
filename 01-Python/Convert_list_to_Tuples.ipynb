{
  "nbformat": 4,
  "nbformat_minor": 0,
  "metadata": {
    "colab": {
      "name": "Convert list to Tuples.ipynb",
      "provenance": [],
      "authorship_tag": "ABX9TyMPBN/8f7UWomZMFcP22Yg/",
      "include_colab_link": true
    },
    "kernelspec": {
      "name": "python3",
      "display_name": "Python 3"
    }
  },
  "cells": [
    {
      "cell_type": "markdown",
      "metadata": {
        "id": "view-in-github",
        "colab_type": "text"
      },
      "source": [
        "<a href=\"https://colab.research.google.com/github/plthiyagu/AI-Engineering/blob/master/05-Python/Convert_list_to_Tuples.ipynb\" target=\"_parent\"><img src=\"https://colab.research.google.com/assets/colab-badge.svg\" alt=\"Open In Colab\"/></a>"
      ]
    },
    {
      "cell_type": "code",
      "metadata": {
        "colab": {
          "base_uri": "https://localhost:8080/"
        },
        "id": "Oli8tVNXqpYh",
        "outputId": "2baebf7b-6101-4c6c-dfd9-6542fc6798f5"
      },
      "source": [
        "mando = [\"Mandalorian\", \"Grogu\", \"Ahsoka Tano\", \"Bo Katan\", \"Boba Fett\"]\r\n",
        "print(mando)\r\n",
        "print(type(mando))\r\n",
        "\r\n",
        "mando_tuple = tuple(mando)\r\n",
        "print(mando_tuple)\r\n",
        "print(type(mando_tuple))\r\n"
      ],
      "execution_count": 1,
      "outputs": [
        {
          "output_type": "stream",
          "text": [
            "['Mandalorian', 'Grogu', 'Ahsoka Tano', 'Bo Katan', 'Boba Fett']\n",
            "<class 'list'>\n",
            "('Mandalorian', 'Grogu', 'Ahsoka Tano', 'Bo Katan', 'Boba Fett')\n",
            "<class 'tuple'>\n"
          ],
          "name": "stdout"
        }
      ]
    },
    {
      "cell_type": "code",
      "metadata": {
        "id": "Ni-yVlc4qqM-"
      },
      "source": [
        ""
      ],
      "execution_count": null,
      "outputs": []
    }
  ]
}