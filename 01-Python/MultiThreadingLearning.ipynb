{
  "nbformat": 4,
  "nbformat_minor": 0,
  "metadata": {
    "colab": {
      "name": "MultiThreadingLearning.ipynb",
      "provenance": []
    },
    "kernelspec": {
      "name": "python3",
      "display_name": "Python 3"
    }
  },
  "cells": [
    {
      "cell_type": "code",
      "metadata": {
        "id": "aq5CaCCZobli",
        "colab_type": "code",
        "colab": {}
      },
      "source": [
        "from threading import *"
      ],
      "execution_count": 0,
      "outputs": []
    },
    {
      "cell_type": "code",
      "metadata": {
        "id": "T1GSEMnGolpo",
        "colab_type": "code",
        "outputId": "e0d66a9a-709c-4641-8e91-06def30111d3",
        "colab": {
          "base_uri": "https://localhost:8080/",
          "height": 153
        }
      },
      "source": [
        "def new():\n",
        "  for x in range(6):\n",
        "    print(\"Child Executing\",current_thread().getName())\n",
        "t1=Thread(target=new)\n",
        "print(current_thread().getName())\n",
        "t1.start()\n",
        "t1.join()\n",
        "print(\"Bye\")"
      ],
      "execution_count": 0,
      "outputs": [
        {
          "output_type": "stream",
          "text": [
            "Child ExecutingMainThread Thread-8\n",
            "\n",
            "Child Executing Thread-8\n",
            "Child Executing Thread-8\n",
            "Child Executing Thread-8\n",
            "Child Executing Thread-8\n",
            "Child Executing Thread-8\n",
            "Bye\n"
          ],
          "name": "stdout"
        }
      ]
    },
    {
      "cell_type": "markdown",
      "metadata": {
        "id": "Op0GLQtLp3_B",
        "colab_type": "text"
      },
      "source": [
        "# New Section"
      ]
    },
    {
      "cell_type": "code",
      "metadata": {
        "id": "2GK15qENp5_h",
        "colab_type": "code",
        "colab": {}
      },
      "source": [
        "import threading"
      ],
      "execution_count": 0,
      "outputs": []
    },
    {
      "cell_type": "code",
      "metadata": {
        "id": "QRi7UYSep9-X",
        "colab_type": "code",
        "outputId": "391f5c5c-3159-4e52-8f7e-39b610dba796",
        "colab": {
          "base_uri": "https://localhost:8080/",
          "height": 153
        }
      },
      "source": [
        "class a(threading.Thread):\n",
        "  def run(self):\n",
        "    for x in range(7):\n",
        "      print(\"Child =\", current_thread().getName())\n",
        "      \n",
        "obj= a()\n",
        "obj.start()\n",
        "obj.join()\n",
        "print(\"Control return to\", current_thread().getName())"
      ],
      "execution_count": 0,
      "outputs": [
        {
          "output_type": "stream",
          "text": [
            "Child = Thread-11\n",
            "Child = Thread-11\n",
            "Child = Thread-11\n",
            "Child = Thread-11\n",
            "Child = Thread-11\n",
            "Child = Thread-11\n",
            "Child = Thread-11\n",
            "Control return to MainThread\n"
          ],
          "name": "stdout"
        }
      ]
    },
    {
      "cell_type": "code",
      "metadata": {
        "id": "BCFmCqGmrTfh",
        "colab_type": "code",
        "outputId": "1d17febc-bb1a-47ac-b70a-1151f169ad4c",
        "colab": {
          "base_uri": "https://localhost:8080/",
          "height": 119
        }
      },
      "source": [
        "class ex:\n",
        "  def B(self):\n",
        "    lst=[2,1,'w',8.7,'abc']\n",
        "    for x in lst:\n",
        "      print(\"Child Printing\",x)\n",
        "      \n",
        "myobj= ex()\n",
        "t1= Thread(target= myobj.B)\n",
        "t1.start()\n",
        "t1.join()\n",
        "print(\"done\")"
      ],
      "execution_count": 0,
      "outputs": [
        {
          "output_type": "stream",
          "text": [
            "Child Printing 2\n",
            "Child Printing 1\n",
            "Child Printing w\n",
            "Child Printing 8.7\n",
            "Child Printing abc\n",
            "done\n"
          ],
          "name": "stdout"
        }
      ]
    },
    {
      "cell_type": "code",
      "metadata": {
        "id": "s0RFS9Ntr-6z",
        "colab_type": "code",
        "outputId": "bb2c25db-5fd2-4541-b070-469124707316",
        "colab": {
          "base_uri": "https://localhost:8080/",
          "height": 204
        }
      },
      "source": [
        "import time\n",
        "def d2(n):\n",
        "  for x in n:\n",
        "    print(x%2)\n",
        "def d3(n):\n",
        "  for x in n:\n",
        "    print(x%3)\n",
        "    \n",
        "n = [2,4,3,6,7]\n",
        "s= time.time()\n",
        "d2(n)\n",
        "d3(n)\n",
        "e = time.time()\n",
        "print(e-s)\n",
        "  "
      ],
      "execution_count": 0,
      "outputs": [
        {
          "output_type": "stream",
          "text": [
            "0\n",
            "0\n",
            "1\n",
            "0\n",
            "1\n",
            "2\n",
            "1\n",
            "0\n",
            "0\n",
            "1\n",
            "0.0005030632019042969\n"
          ],
          "name": "stdout"
        }
      ]
    },
    {
      "cell_type": "code",
      "metadata": {
        "id": "ftJQqRfm8OJ1",
        "colab_type": "code",
        "colab": {}
      },
      "source": [
        "from _thread import start_new_thread\n",
        "from time import sleep"
      ],
      "execution_count": 0,
      "outputs": []
    },
    {
      "cell_type": "code",
      "metadata": {
        "id": "s__IQwGzr8e-",
        "colab_type": "code",
        "colab": {}
      },
      "source": [
        "threadId =1\n",
        "waiting = 2"
      ],
      "execution_count": 0,
      "outputs": []
    },
    {
      "cell_type": "code",
      "metadata": {
        "id": "YAEu_nf58iN6",
        "colab_type": "code",
        "outputId": "67647ad3-c71f-4188-80b1-0832f4aeaf53",
        "colab": {
          "base_uri": "https://localhost:8080/",
          "height": 231
        }
      },
      "source": [
        "def factorial(n):\n",
        "  global threadId\n",
        "  rc = 0\n",
        "  if n < 1:\n",
        "    print(\"{}: {}\".format('\\nThread', threadId))\n",
        "    threadId += 1\n",
        "    rc =1\n",
        "  else:\n",
        "    returnNumber = n *  factorial( n -1)\n",
        "    print(\"{} != {}\".format(str(n), str(returnNumber)))\n",
        "    rc= returnNumber\n",
        "    \n",
        "  return rc\n",
        "start_new_thread(factorial, (5, ))\n",
        "start_new_thread(factorial, (4, ))\n",
        "\n",
        "print(\"Waiting for threads to return...\")\n",
        "sleep(waiting)\n",
        "    \n",
        "    "
      ],
      "execution_count": 0,
      "outputs": [
        {
          "output_type": "error",
          "ename": "NameError",
          "evalue": "ignored",
          "traceback": [
            "\u001b[0;31m---------------------------------------------------------------------------\u001b[0m",
            "\u001b[0;31mNameError\u001b[0m                                 Traceback (most recent call last)",
            "\u001b[0;32m<ipython-input-1-74abbe449a1f>\u001b[0m in \u001b[0;36m<module>\u001b[0;34m()\u001b[0m\n\u001b[1;32m     12\u001b[0m \u001b[0;34m\u001b[0m\u001b[0m\n\u001b[1;32m     13\u001b[0m   \u001b[0;32mreturn\u001b[0m \u001b[0mrc\u001b[0m\u001b[0;34m\u001b[0m\u001b[0;34m\u001b[0m\u001b[0m\n\u001b[0;32m---> 14\u001b[0;31m \u001b[0mstart_new_thread\u001b[0m\u001b[0;34m(\u001b[0m\u001b[0mfactorial\u001b[0m\u001b[0;34m,\u001b[0m \u001b[0;34m(\u001b[0m\u001b[0;36m5\u001b[0m\u001b[0;34m,\u001b[0m \u001b[0;34m)\u001b[0m\u001b[0;34m)\u001b[0m\u001b[0;34m\u001b[0m\u001b[0;34m\u001b[0m\u001b[0m\n\u001b[0m\u001b[1;32m     15\u001b[0m \u001b[0mstart_new_thread\u001b[0m\u001b[0;34m(\u001b[0m\u001b[0mfactorial\u001b[0m\u001b[0;34m,\u001b[0m \u001b[0;34m(\u001b[0m\u001b[0;36m4\u001b[0m\u001b[0;34m,\u001b[0m \u001b[0;34m)\u001b[0m\u001b[0;34m)\u001b[0m\u001b[0;34m\u001b[0m\u001b[0;34m\u001b[0m\u001b[0m\n\u001b[1;32m     16\u001b[0m \u001b[0;34m\u001b[0m\u001b[0m\n",
            "\u001b[0;31mNameError\u001b[0m: name 'start_new_thread' is not defined"
          ]
        }
      ]
    },
    {
      "cell_type": "code",
      "metadata": {
        "id": "XLvFwIfpjswB",
        "colab_type": "code",
        "outputId": "61766672-eb81-41a1-acf9-b0dcf9c47f3f",
        "colab": {
          "base_uri": "https://localhost:8080/",
          "height": 561
        }
      },
      "source": [
        "import threading\n",
        "import datetime\n",
        "\n",
        "exitFlag = 0\n",
        "\n",
        "class myThread(threading.Thread):\n",
        "  def __init__(self,name,counter):\n",
        "    threading.Thread.__init__(self)\n",
        "    self.threadId = counter\n",
        "    self.name = name\n",
        "    self.counter = counter\n",
        "  def print_date(threadName, counter):\n",
        "    dateFields = []\n",
        "    today = datetime.date.today()\n",
        "    dateFields.append(today)\n",
        "    print(\"{}[{}]: {}\".format( threadName, counter, datefields[0] ))\n",
        "  \n",
        " def run(self):\n",
        "    print(\"\\nStarting \" + self.name)\n",
        "    threadLock.acquire()\n",
        "    print_date(self.name, self.counter)\n",
        "    threadLock.release()\n",
        "    print(\"Existing\", self.name)\n",
        "    \n",
        "  \n",
        "threadLock= threading.Lock()\n",
        "threads=[]\n",
        "thread1 = myThread(\"Thread\", 1)\n",
        "thread2 = myThread(\"Thread\", 2)\n",
        "\n",
        "thread1.start()\n",
        "thread2.start()\n",
        "\n",
        "threads.append(thread1)\n",
        "threads.append(thread2)\n",
        "\n",
        "\n",
        "for thread in threads:\n",
        "  thread.join()\n",
        "print(\"\\nExiting the Program!!!\")"
      ],
      "execution_count": 0,
      "outputs": [
        {
          "output_type": "stream",
          "text": [
            "\n",
            "Starting Thread\n",
            "\n",
            "Starting Thread\n"
          ],
          "name": "stdout"
        },
        {
          "output_type": "stream",
          "text": [
            "Exception in thread Thread:\n",
            "Traceback (most recent call last):\n",
            "  File \"/usr/lib/python3.6/threading.py\", line 916, in _bootstrap_inner\n",
            "    self.run()\n",
            "  File \"<ipython-input-9-f47df3b9a95c>\", line 24, in run\n",
            "    print_date(self.name, self.counter)\n",
            "NameError: name 'print_date' is not defined\n",
            "\n"
          ],
          "name": "stderr"
        },
        {
          "output_type": "error",
          "ename": "KeyboardInterrupt",
          "evalue": "ignored",
          "traceback": [
            "\u001b[0;31m---------------------------------------------------------------------------\u001b[0m",
            "\u001b[0;31mKeyboardInterrupt\u001b[0m                         Traceback (most recent call last)",
            "\u001b[0;32m<ipython-input-9-f47df3b9a95c>\u001b[0m in \u001b[0;36m<module>\u001b[0;34m()\u001b[0m\n\u001b[1;32m     40\u001b[0m \u001b[0;34m\u001b[0m\u001b[0m\n\u001b[1;32m     41\u001b[0m \u001b[0;32mfor\u001b[0m \u001b[0mthread\u001b[0m \u001b[0;32min\u001b[0m \u001b[0mthreads\u001b[0m\u001b[0;34m:\u001b[0m\u001b[0;34m\u001b[0m\u001b[0;34m\u001b[0m\u001b[0m\n\u001b[0;32m---> 42\u001b[0;31m   \u001b[0mthread\u001b[0m\u001b[0;34m.\u001b[0m\u001b[0mjoin\u001b[0m\u001b[0;34m(\u001b[0m\u001b[0;34m)\u001b[0m\u001b[0;34m\u001b[0m\u001b[0;34m\u001b[0m\u001b[0m\n\u001b[0m\u001b[1;32m     43\u001b[0m \u001b[0mprint\u001b[0m\u001b[0;34m(\u001b[0m\u001b[0;34m\"\\nExiting the Program!!!\"\u001b[0m\u001b[0;34m)\u001b[0m\u001b[0;34m\u001b[0m\u001b[0;34m\u001b[0m\u001b[0m\n",
            "\u001b[0;32m/usr/lib/python3.6/threading.py\u001b[0m in \u001b[0;36mjoin\u001b[0;34m(self, timeout)\u001b[0m\n\u001b[1;32m   1054\u001b[0m \u001b[0;34m\u001b[0m\u001b[0m\n\u001b[1;32m   1055\u001b[0m         \u001b[0;32mif\u001b[0m \u001b[0mtimeout\u001b[0m \u001b[0;32mis\u001b[0m \u001b[0;32mNone\u001b[0m\u001b[0;34m:\u001b[0m\u001b[0;34m\u001b[0m\u001b[0;34m\u001b[0m\u001b[0m\n\u001b[0;32m-> 1056\u001b[0;31m             \u001b[0mself\u001b[0m\u001b[0;34m.\u001b[0m\u001b[0m_wait_for_tstate_lock\u001b[0m\u001b[0;34m(\u001b[0m\u001b[0;34m)\u001b[0m\u001b[0;34m\u001b[0m\u001b[0;34m\u001b[0m\u001b[0m\n\u001b[0m\u001b[1;32m   1057\u001b[0m         \u001b[0;32melse\u001b[0m\u001b[0;34m:\u001b[0m\u001b[0;34m\u001b[0m\u001b[0;34m\u001b[0m\u001b[0m\n\u001b[1;32m   1058\u001b[0m             \u001b[0;31m# the behavior of a negative timeout isn't documented, but\u001b[0m\u001b[0;34m\u001b[0m\u001b[0;34m\u001b[0m\u001b[0;34m\u001b[0m\u001b[0m\n",
            "\u001b[0;32m/usr/lib/python3.6/threading.py\u001b[0m in \u001b[0;36m_wait_for_tstate_lock\u001b[0;34m(self, block, timeout)\u001b[0m\n\u001b[1;32m   1070\u001b[0m         \u001b[0;32mif\u001b[0m \u001b[0mlock\u001b[0m \u001b[0;32mis\u001b[0m \u001b[0;32mNone\u001b[0m\u001b[0;34m:\u001b[0m  \u001b[0;31m# already determined that the C code is done\u001b[0m\u001b[0;34m\u001b[0m\u001b[0;34m\u001b[0m\u001b[0m\n\u001b[1;32m   1071\u001b[0m             \u001b[0;32massert\u001b[0m \u001b[0mself\u001b[0m\u001b[0;34m.\u001b[0m\u001b[0m_is_stopped\u001b[0m\u001b[0;34m\u001b[0m\u001b[0;34m\u001b[0m\u001b[0m\n\u001b[0;32m-> 1072\u001b[0;31m         \u001b[0;32melif\u001b[0m \u001b[0mlock\u001b[0m\u001b[0;34m.\u001b[0m\u001b[0macquire\u001b[0m\u001b[0;34m(\u001b[0m\u001b[0mblock\u001b[0m\u001b[0;34m,\u001b[0m \u001b[0mtimeout\u001b[0m\u001b[0;34m)\u001b[0m\u001b[0;34m:\u001b[0m\u001b[0;34m\u001b[0m\u001b[0;34m\u001b[0m\u001b[0m\n\u001b[0m\u001b[1;32m   1073\u001b[0m             \u001b[0mlock\u001b[0m\u001b[0;34m.\u001b[0m\u001b[0mrelease\u001b[0m\u001b[0;34m(\u001b[0m\u001b[0;34m)\u001b[0m\u001b[0;34m\u001b[0m\u001b[0;34m\u001b[0m\u001b[0m\n\u001b[1;32m   1074\u001b[0m             \u001b[0mself\u001b[0m\u001b[0;34m.\u001b[0m\u001b[0m_stop\u001b[0m\u001b[0;34m(\u001b[0m\u001b[0;34m)\u001b[0m\u001b[0;34m\u001b[0m\u001b[0;34m\u001b[0m\u001b[0m\n",
            "\u001b[0;31mKeyboardInterrupt\u001b[0m: "
          ]
        }
      ]
    }
  ]
}