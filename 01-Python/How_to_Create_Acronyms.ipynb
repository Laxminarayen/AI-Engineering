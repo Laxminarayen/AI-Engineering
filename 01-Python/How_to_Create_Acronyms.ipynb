{
  "nbformat": 4,
  "nbformat_minor": 0,
  "metadata": {
    "colab": {
      "name": "How to Create Acronyms.ipynb",
      "provenance": [],
      "authorship_tag": "ABX9TyPlJsLCwxLDH9o//MnKesiY",
      "include_colab_link": true
    },
    "kernelspec": {
      "name": "python3",
      "display_name": "Python 3"
    },
    "language_info": {
      "name": "python"
    }
  },
  "cells": [
    {
      "cell_type": "markdown",
      "metadata": {
        "id": "view-in-github",
        "colab_type": "text"
      },
      "source": [
        "<a href=\"https://colab.research.google.com/github/plthiyagu/AI-Engineering/blob/master/01-Python/How_to_Create_Acronyms.ipynb\" target=\"_parent\"><img src=\"https://colab.research.google.com/assets/colab-badge.svg\" alt=\"Open In Colab\"/></a>"
      ]
    },
    {
      "cell_type": "code",
      "metadata": {
        "id": "71dEluzk94Pn"
      },
      "source": [
        "x=\"Coder\""
      ],
      "execution_count": null,
      "outputs": []
    },
    {
      "cell_type": "code",
      "metadata": {
        "id": "LDyh4gjO98on"
      },
      "source": [
        "y=x[-3:3]"
      ],
      "execution_count": null,
      "outputs": []
    },
    {
      "cell_type": "code",
      "metadata": {
        "id": "aYFjf7tE-BMI",
        "colab": {
          "base_uri": "https://localhost:8080/"
        },
        "outputId": "5a905c14-89a4-48bb-d02f-c1c509be2a7d"
      },
      "source": [
        "print(y)"
      ],
      "execution_count": null,
      "outputs": [
        {
          "output_type": "stream",
          "text": [
            "d\n"
          ],
          "name": "stdout"
        }
      ]
    },
    {
      "cell_type": "code",
      "metadata": {
        "id": "q1osjIEr-DEo",
        "colab": {
          "base_uri": "https://localhost:8080/"
        },
        "outputId": "306146df-7410-43a2-c3c8-ec62cad536a7"
      },
      "source": [
        "user_input=str(input(\"Enter a Phrase: \"))\n",
        "text= user_input.split()\n",
        "a=\" \"\n",
        "for i in text:\n",
        "  a= a+str(i[0]).upper()\n",
        "print(a)"
      ],
      "execution_count": 2,
      "outputs": [
        {
          "output_type": "stream",
          "text": [
            "Enter a Phrase: Artificial Intelligence\n",
            " AI\n"
          ],
          "name": "stdout"
        }
      ]
    },
    {
      "cell_type": "code",
      "metadata": {
        "id": "rZ0jBUvOKOwK"
      },
      "source": [
        ""
      ],
      "execution_count": null,
      "outputs": []
    }
  ]
}