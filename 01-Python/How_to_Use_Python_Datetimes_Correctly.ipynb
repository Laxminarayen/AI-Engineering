{
  "nbformat": 4,
  "nbformat_minor": 0,
  "metadata": {
    "colab": {
      "name": "How to Use Python Datetimes Correctly.ipynb",
      "provenance": [],
      "authorship_tag": "ABX9TyPybJHcV8bqwSEtvCNbgA6i",
      "include_colab_link": true
    },
    "kernelspec": {
      "name": "python3",
      "display_name": "Python 3"
    }
  },
  "cells": [
    {
      "cell_type": "markdown",
      "metadata": {
        "id": "view-in-github",
        "colab_type": "text"
      },
      "source": [
        "<a href=\"https://colab.research.google.com/github/plthiyagu/AI-Engineering/blob/master/05-Python/How_to_Use_Python_Datetimes_Correctly.ipynb\" target=\"_parent\"><img src=\"https://colab.research.google.com/assets/colab-badge.svg\" alt=\"Open In Colab\"/></a>"
      ]
    },
    {
      "cell_type": "markdown",
      "metadata": {
        "id": "qjQ1mAR3nbXJ"
      },
      "source": [
        "https://www.narrativetext.co/data-hub/how-to-use-python-datetimes-correctly"
      ]
    },
    {
      "cell_type": "code",
      "metadata": {
        "id": "e3jYyLg2nUmI"
      },
      "source": [
        "from datetime import datetime"
      ],
      "execution_count": 1,
      "outputs": []
    },
    {
      "cell_type": "markdown",
      "metadata": {
        "id": "3cSz8QwWnipA"
      },
      "source": [
        "datetime(year, month, day hour, minute, seconds)\r\n",
        "\r\n"
      ]
    },
    {
      "cell_type": "code",
      "metadata": {
        "id": "fOqM8AZ7nXZt"
      },
      "source": [
        "birthday = datetime(1994, 2, 15, 4, 25, 12)"
      ],
      "execution_count": 2,
      "outputs": []
    },
    {
      "cell_type": "code",
      "metadata": {
        "colab": {
          "base_uri": "https://localhost:8080/"
        },
        "id": "xq55UwJ8nlaF",
        "outputId": "eaf6d18c-ba31-477e-f6c6-e0c7e57cf7c1"
      },
      "source": [
        "birthday"
      ],
      "execution_count": 3,
      "outputs": [
        {
          "output_type": "execute_result",
          "data": {
            "text/plain": [
              "datetime.datetime(1994, 2, 15, 4, 25, 12)"
            ]
          },
          "metadata": {
            "tags": []
          },
          "execution_count": 3
        }
      ]
    },
    {
      "cell_type": "code",
      "metadata": {
        "colab": {
          "base_uri": "https://localhost:8080/"
        },
        "id": "eiKuwldJnm4v",
        "outputId": "9480249e-2672-4291-e6eb-822c0ab1d3bb"
      },
      "source": [
        "birthday.year"
      ],
      "execution_count": 4,
      "outputs": [
        {
          "output_type": "execute_result",
          "data": {
            "text/plain": [
              "1994"
            ]
          },
          "metadata": {
            "tags": []
          },
          "execution_count": 4
        }
      ]
    },
    {
      "cell_type": "code",
      "metadata": {
        "colab": {
          "base_uri": "https://localhost:8080/"
        },
        "id": "QctPQTr9npU_",
        "outputId": "b1679acc-9e00-4b8b-96d1-d63b5aa34db7"
      },
      "source": [
        "birthday.month"
      ],
      "execution_count": 5,
      "outputs": [
        {
          "output_type": "execute_result",
          "data": {
            "text/plain": [
              "2"
            ]
          },
          "metadata": {
            "tags": []
          },
          "execution_count": 5
        }
      ]
    },
    {
      "cell_type": "code",
      "metadata": {
        "colab": {
          "base_uri": "https://localhost:8080/"
        },
        "id": "iZRGLjT3nrJ2",
        "outputId": "e94086da-398a-4b07-cd5a-4212ceaaec77"
      },
      "source": [
        "birthday.day"
      ],
      "execution_count": 6,
      "outputs": [
        {
          "output_type": "execute_result",
          "data": {
            "text/plain": [
              "15"
            ]
          },
          "metadata": {
            "tags": []
          },
          "execution_count": 6
        }
      ]
    },
    {
      "cell_type": "code",
      "metadata": {
        "colab": {
          "base_uri": "https://localhost:8080/"
        },
        "id": "AZCNDlxBns2C",
        "outputId": "7f07958c-cdbe-4334-d51a-7c5ba711511f"
      },
      "source": [
        "birthday.hour"
      ],
      "execution_count": 7,
      "outputs": [
        {
          "output_type": "execute_result",
          "data": {
            "text/plain": [
              "4"
            ]
          },
          "metadata": {
            "tags": []
          },
          "execution_count": 7
        }
      ]
    },
    {
      "cell_type": "code",
      "metadata": {
        "colab": {
          "base_uri": "https://localhost:8080/"
        },
        "id": "aLojMK2UnuWU",
        "outputId": "c0904322-30ac-4a7e-f055-8c587478550b"
      },
      "source": [
        "birthday.hour"
      ],
      "execution_count": 8,
      "outputs": [
        {
          "output_type": "execute_result",
          "data": {
            "text/plain": [
              "4"
            ]
          },
          "metadata": {
            "tags": []
          },
          "execution_count": 8
        }
      ]
    },
    {
      "cell_type": "code",
      "metadata": {
        "colab": {
          "base_uri": "https://localhost:8080/"
        },
        "id": "ZiO9gjb4nwi1",
        "outputId": "902716d3-9e52-444d-ce1d-c7a281661812"
      },
      "source": [
        "birthday.minute"
      ],
      "execution_count": 9,
      "outputs": [
        {
          "output_type": "execute_result",
          "data": {
            "text/plain": [
              "25"
            ]
          },
          "metadata": {
            "tags": []
          },
          "execution_count": 9
        }
      ]
    },
    {
      "cell_type": "code",
      "metadata": {
        "colab": {
          "base_uri": "https://localhost:8080/"
        },
        "id": "qqtMggcYnyiP",
        "outputId": "a8df874c-16c3-42ee-e4e7-db0aa7ea623e"
      },
      "source": [
        "birthday.second"
      ],
      "execution_count": 10,
      "outputs": [
        {
          "output_type": "execute_result",
          "data": {
            "text/plain": [
              "12"
            ]
          },
          "metadata": {
            "tags": []
          },
          "execution_count": 10
        }
      ]
    },
    {
      "cell_type": "code",
      "metadata": {
        "colab": {
          "base_uri": "https://localhost:8080/"
        },
        "id": "ZcjV7lNin0Et",
        "outputId": "a42f1f3e-8a6c-48d7-9eab-1b17dcf3aa2d"
      },
      "source": [
        "birthday.microsecond"
      ],
      "execution_count": 11,
      "outputs": [
        {
          "output_type": "execute_result",
          "data": {
            "text/plain": [
              "0"
            ]
          },
          "metadata": {
            "tags": []
          },
          "execution_count": 11
        }
      ]
    },
    {
      "cell_type": "code",
      "metadata": {
        "colab": {
          "base_uri": "https://localhost:8080/"
        },
        "id": "jVGNrKfnn2MR",
        "outputId": "c9b68afc-f10c-470d-b6f0-38de92e18d4a"
      },
      "source": [
        "birthday.weekday()"
      ],
      "execution_count": 12,
      "outputs": [
        {
          "output_type": "execute_result",
          "data": {
            "text/plain": [
              "1"
            ]
          },
          "metadata": {
            "tags": []
          },
          "execution_count": 12
        }
      ]
    },
    {
      "cell_type": "code",
      "metadata": {
        "colab": {
          "base_uri": "https://localhost:8080/"
        },
        "id": "QbTkpHW5n7Zc",
        "outputId": "64327f69-1e2c-47bf-d5eb-635ef6d9726c"
      },
      "source": [
        "datetime.now()"
      ],
      "execution_count": 13,
      "outputs": [
        {
          "output_type": "execute_result",
          "data": {
            "text/plain": [
              "datetime.datetime(2020, 12, 25, 15, 58, 52, 388543)"
            ]
          },
          "metadata": {
            "tags": []
          },
          "execution_count": 13
        }
      ]
    },
    {
      "cell_type": "markdown",
      "metadata": {
        "id": "dLXL55yooIEI"
      },
      "source": [
        "how do I calculate the time from one date to another? That's called time tracking, let's see how it works\r\n",
        "\r\n"
      ]
    },
    {
      "cell_type": "code",
      "metadata": {
        "colab": {
          "base_uri": "https://localhost:8080/"
        },
        "id": "U1Xn8glYn86e",
        "outputId": "aacafc6c-4629-4a7e-d6c1-e417d53a3bb2"
      },
      "source": [
        "# time tracking operation\r\n",
        "datetime(2018, 1, 1) - datetime(2017, 1, 1)"
      ],
      "execution_count": 14,
      "outputs": [
        {
          "output_type": "execute_result",
          "data": {
            "text/plain": [
              "datetime.timedelta(365)"
            ]
          },
          "metadata": {
            "tags": []
          },
          "execution_count": 14
        }
      ]
    },
    {
      "cell_type": "code",
      "metadata": {
        "colab": {
          "base_uri": "https://localhost:8080/"
        },
        "id": "SczzAO6JoMXG",
        "outputId": "e83265f6-f1c0-45e5-c05f-8e7735f1fbba"
      },
      "source": [
        "datetime(2018, 1, 1) - datetime(2017, 1, 12)"
      ],
      "execution_count": 15,
      "outputs": [
        {
          "output_type": "execute_result",
          "data": {
            "text/plain": [
              "datetime.timedelta(354)"
            ]
          },
          "metadata": {
            "tags": []
          },
          "execution_count": 15
        }
      ]
    },
    {
      "cell_type": "markdown",
      "metadata": {
        "id": "pdhivQMUoaZ_"
      },
      "source": [
        "we can run arithmetic operations between dates, which is great! But what if now you want to know how much time has passed from a given date to today, at this very moment? How do you think that can be done? Think about it for a moment!\r\n",
        "\r\n"
      ]
    },
    {
      "cell_type": "code",
      "metadata": {
        "colab": {
          "base_uri": "https://localhost:8080/"
        },
        "id": "LEbXGdkuoW0f",
        "outputId": "0f976eb1-2540-4bf7-bc66-b22607332ba5"
      },
      "source": [
        "datetime.now() - datetime(2020,1,1)"
      ],
      "execution_count": 17,
      "outputs": [
        {
          "output_type": "execute_result",
          "data": {
            "text/plain": [
              "datetime.timedelta(359, 57677, 380459)"
            ]
          },
          "metadata": {
            "tags": []
          },
          "execution_count": 17
        }
      ]
    },
    {
      "cell_type": "markdown",
      "metadata": {
        "id": "dAIds3-1qSQG"
      },
      "source": [
        "Using strptime\r\n",
        "\r\n",
        "This method will help us to transform dates that are given in strings to a datetime format, which is quite useful!\r\n",
        "\r\n"
      ]
    },
    {
      "cell_type": "code",
      "metadata": {
        "id": "M_2e0LP7oe7s"
      },
      "source": [
        "parsed_date = datetime.strptime('Nov 15, 2020', '%b %d, %Y')\r\n"
      ],
      "execution_count": 18,
      "outputs": []
    },
    {
      "cell_type": "code",
      "metadata": {
        "colab": {
          "base_uri": "https://localhost:8080/"
        },
        "id": "tXI1VkxiqXH9",
        "outputId": "6448014b-c869-492b-cd82-794b38f60252"
      },
      "source": [
        "parsed_date"
      ],
      "execution_count": 19,
      "outputs": [
        {
          "output_type": "execute_result",
          "data": {
            "text/plain": [
              "datetime.datetime(2020, 11, 15, 0, 0)"
            ]
          },
          "metadata": {
            "tags": []
          },
          "execution_count": 19
        }
      ]
    },
    {
      "cell_type": "code",
      "metadata": {
        "colab": {
          "base_uri": "https://localhost:8080/"
        },
        "id": "yXdzw7E3qYSw",
        "outputId": "ff6a1ee5-cba7-4dec-cdc3-20cf94af1f9a"
      },
      "source": [
        "type(parsed_date)"
      ],
      "execution_count": 20,
      "outputs": [
        {
          "output_type": "execute_result",
          "data": {
            "text/plain": [
              "datetime.datetime"
            ]
          },
          "metadata": {
            "tags": []
          },
          "execution_count": 20
        }
      ]
    },
    {
      "cell_type": "code",
      "metadata": {
        "colab": {
          "base_uri": "https://localhost:8080/"
        },
        "id": "M0vsxvmfqhUz",
        "outputId": "8bd92b82-eb3f-435b-86d0-dfe9b7df9715"
      },
      "source": [
        "parsed_date.month"
      ],
      "execution_count": 21,
      "outputs": [
        {
          "output_type": "execute_result",
          "data": {
            "text/plain": [
              "11"
            ]
          },
          "metadata": {
            "tags": []
          },
          "execution_count": 21
        }
      ]
    },
    {
      "cell_type": "code",
      "metadata": {
        "colab": {
          "base_uri": "https://localhost:8080/"
        },
        "id": "8L0urMYiqkm3",
        "outputId": "52691536-3529-4446-9d4d-f8cc5ba5a791"
      },
      "source": [
        "parsed_date.year"
      ],
      "execution_count": 22,
      "outputs": [
        {
          "output_type": "execute_result",
          "data": {
            "text/plain": [
              "2020"
            ]
          },
          "metadata": {
            "tags": []
          },
          "execution_count": 22
        }
      ]
    },
    {
      "cell_type": "markdown",
      "metadata": {
        "id": "9Op4h7sPq2Mr"
      },
      "source": [
        "All right, now let's do the opposite operation, passing a datetime type as a parameter to the strftime function and converting it to a string. We do it like this:\r\n",
        "\r\n"
      ]
    },
    {
      "cell_type": "code",
      "metadata": {
        "id": "w_Bpm-Hhql3x"
      },
      "source": [
        "date_string = datetime.strftime(datetime.now(), '%b %d, %Y')"
      ],
      "execution_count": 23,
      "outputs": []
    },
    {
      "cell_type": "code",
      "metadata": {
        "colab": {
          "base_uri": "https://localhost:8080/",
          "height": 35
        },
        "id": "N4BnXOjGq5Lt",
        "outputId": "5749431c-5370-4f8d-dbc2-930912f467f4"
      },
      "source": [
        "date_string"
      ],
      "execution_count": 24,
      "outputs": [
        {
          "output_type": "execute_result",
          "data": {
            "application/vnd.google.colaboratory.intrinsic+json": {
              "type": "string"
            },
            "text/plain": [
              "'Dec 25, 2020'"
            ]
          },
          "metadata": {
            "tags": []
          },
          "execution_count": 24
        }
      ]
    },
    {
      "cell_type": "markdown",
      "metadata": {
        "id": "zMYJxZz1rAkf"
      },
      "source": [
        "Time object\r\n",
        "\r\n",
        "A time object represents a time of day (local), independent of any particular day, and subject to adjustment through a tzinfo object.\r\n",
        "\r\n"
      ]
    },
    {
      "cell_type": "code",
      "metadata": {
        "id": "SgT4b9jRq6rY"
      },
      "source": [
        "from datetime import time"
      ],
      "execution_count": 25,
      "outputs": []
    },
    {
      "cell_type": "code",
      "metadata": {
        "id": "qgL7ZkJQr-pa"
      },
      "source": [
        "my_time = time(hour=12, minute=34, second=56, microsecond=123456)"
      ],
      "execution_count": 26,
      "outputs": []
    },
    {
      "cell_type": "code",
      "metadata": {
        "colab": {
          "base_uri": "https://localhost:8080/"
        },
        "id": "Z7HunvsNsFr6",
        "outputId": "834ba95a-1f53-46a8-d658-10535c090424"
      },
      "source": [
        "my_time"
      ],
      "execution_count": 27,
      "outputs": [
        {
          "output_type": "execute_result",
          "data": {
            "text/plain": [
              "datetime.time(12, 34, 56, 123456)"
            ]
          },
          "metadata": {
            "tags": []
          },
          "execution_count": 27
        }
      ]
    },
    {
      "cell_type": "code",
      "metadata": {
        "colab": {
          "base_uri": "https://localhost:8080/",
          "height": 35
        },
        "id": "FsUyt-xWsGwg",
        "outputId": "aaae79dc-c78e-4827-ca8f-7f68013af2c6"
      },
      "source": [
        "my_time.isoformat(timespec='minutes')"
      ],
      "execution_count": 28,
      "outputs": [
        {
          "output_type": "execute_result",
          "data": {
            "application/vnd.google.colaboratory.intrinsic+json": {
              "type": "string"
            },
            "text/plain": [
              "'12:34'"
            ]
          },
          "metadata": {
            "tags": []
          },
          "execution_count": 28
        }
      ]
    },
    {
      "cell_type": "code",
      "metadata": {
        "colab": {
          "base_uri": "https://localhost:8080/",
          "height": 35
        },
        "id": "InbjPpd5sOsV",
        "outputId": "39076024-2a41-4166-c183-80fa4429c1ce"
      },
      "source": [
        "my_time.isoformat(timespec='microseconds')"
      ],
      "execution_count": 29,
      "outputs": [
        {
          "output_type": "execute_result",
          "data": {
            "application/vnd.google.colaboratory.intrinsic+json": {
              "type": "string"
            },
            "text/plain": [
              "'12:34:56.123456'"
            ]
          },
          "metadata": {
            "tags": []
          },
          "execution_count": 29
        }
      ]
    },
    {
      "cell_type": "code",
      "metadata": {
        "colab": {
          "base_uri": "https://localhost:8080/",
          "height": 35
        },
        "id": "xl3xuOFpsRGL",
        "outputId": "25a77694-28ce-4341-cd02-4cfe06b8ffdc"
      },
      "source": [
        "my_time.isoformat(timespec='auto')"
      ],
      "execution_count": 30,
      "outputs": [
        {
          "output_type": "execute_result",
          "data": {
            "application/vnd.google.colaboratory.intrinsic+json": {
              "type": "string"
            },
            "text/plain": [
              "'12:34:56.123456'"
            ]
          },
          "metadata": {
            "tags": []
          },
          "execution_count": 30
        }
      ]
    },
    {
      "cell_type": "code",
      "metadata": {
        "colab": {
          "base_uri": "https://localhost:8080/",
          "height": 35
        },
        "id": "J-PyyIbJsZAX",
        "outputId": "45b06070-1150-4039-f39a-7cbd750874ae"
      },
      "source": [
        "my_time.isoformat()"
      ],
      "execution_count": 31,
      "outputs": [
        {
          "output_type": "execute_result",
          "data": {
            "application/vnd.google.colaboratory.intrinsic+json": {
              "type": "string"
            },
            "text/plain": [
              "'12:34:56.123456'"
            ]
          },
          "metadata": {
            "tags": []
          },
          "execution_count": 31
        }
      ]
    },
    {
      "cell_type": "markdown",
      "metadata": {
        "id": "xiS9Bre6sfx8"
      },
      "source": [
        "timedelta object\r\n"
      ]
    },
    {
      "cell_type": "markdown",
      "metadata": {
        "id": "gGd1qLXDsjFk"
      },
      "source": [
        "A timedelta object represents a duration, the difference between two dates or times, which is quite useful! Let's look how it works. First we need to importa timedelta and then we need to call the different built-in functions\r\n",
        "\r\n"
      ]
    },
    {
      "cell_type": "code",
      "metadata": {
        "id": "DGWLxn2cscVE"
      },
      "source": [
        "from datetime import timedelta"
      ],
      "execution_count": 32,
      "outputs": []
    },
    {
      "cell_type": "code",
      "metadata": {
        "id": "jjGx0wfOslie"
      },
      "source": [
        "year = timedelta(days=365)"
      ],
      "execution_count": 33,
      "outputs": []
    },
    {
      "cell_type": "code",
      "metadata": {
        "colab": {
          "base_uri": "https://localhost:8080/"
        },
        "id": "7SHuB8masnfA",
        "outputId": "e1472ca3-e18c-4944-9e9c-9c667f99df0c"
      },
      "source": [
        "year"
      ],
      "execution_count": 34,
      "outputs": [
        {
          "output_type": "execute_result",
          "data": {
            "text/plain": [
              "datetime.timedelta(365)"
            ]
          },
          "metadata": {
            "tags": []
          },
          "execution_count": 34
        }
      ]
    },
    {
      "cell_type": "code",
      "metadata": {
        "colab": {
          "base_uri": "https://localhost:8080/"
        },
        "id": "EaEmVOjSspiY",
        "outputId": "72c20023-9cac-449c-92f9-42bb55fb1892"
      },
      "source": [
        "year.total_seconds()"
      ],
      "execution_count": 35,
      "outputs": [
        {
          "output_type": "execute_result",
          "data": {
            "text/plain": [
              "31536000.0"
            ]
          },
          "metadata": {
            "tags": []
          },
          "execution_count": 35
        }
      ]
    },
    {
      "cell_type": "code",
      "metadata": {
        "id": "5dZWvHyQsrwJ"
      },
      "source": [
        "ten_years = 10 * year"
      ],
      "execution_count": 36,
      "outputs": []
    },
    {
      "cell_type": "code",
      "metadata": {
        "colab": {
          "base_uri": "https://localhost:8080/"
        },
        "id": "CGeUe9fgsvxO",
        "outputId": "e5e2dddc-b07a-45cf-fb7c-f5ab339f458f"
      },
      "source": [
        "ten_years.total_seconds()"
      ],
      "execution_count": 37,
      "outputs": [
        {
          "output_type": "execute_result",
          "data": {
            "text/plain": [
              "315360000.0"
            ]
          },
          "metadata": {
            "tags": []
          },
          "execution_count": 37
        }
      ]
    },
    {
      "cell_type": "markdown",
      "metadata": {
        "id": "kQIPNvQ9s0jU"
      },
      "source": [
        "We've passed the parameter days = 365 to timedelta and then called two functions. One of them returns the total seconds that 365 days have.An the other one creates 10 years.\r\n",
        "\r\n"
      ]
    },
    {
      "cell_type": "code",
      "metadata": {
        "id": "-RbttjAvsx56"
      },
      "source": [
        "another_year = timedelta(weeks=40, days=84, hours=23,\r\n",
        "                         minutes=50, seconds=600)  # adds up to 365 days\r\n"
      ],
      "execution_count": 38,
      "outputs": []
    },
    {
      "cell_type": "markdown",
      "metadata": {
        "id": "_9dOpeFgtAnh"
      },
      "source": [
        "Naive & Aware methods\r\n",
        "There are two types of date and time objects: \"naive\" & \"aware\".\r\n",
        "\r\n",
        "An \"aware\" object has sufficient knowledge of the applicable algorithmic and political time settings, such as time zone and daylight savings information, to be able to position itself in relation to other \"aware\" objects.\r\n",
        "\r\n",
        "An \"aware\" object is used to represent a specific moment in time that is not open to interpretation. Ignore Relativity\r\n",
        "\r\n",
        "A \"naïve\" object does not contain enough information to place itself unambiguously in relation to other date/time objects\r\n",
        "\r\n",
        "Whether a \"ship\" object represents Coordinated Universal Time (UTC), local time or the time of some other time zone depends purely on the program, just as it depends on the program whether a given number represents meters, miles or mass\r\n",
        "\r\n",
        "The \"naive\" objects are easy to understand and work with, at the cost of ignoring some aspects of reality.\r\n",
        "\r\n",
        "This finally serves us to work time zones, and time changes (depending on summer-winter) and American zones as for example EST or EDT\r\n",
        "\r\n",
        "Supporting time zones at deeper levels of detail depends on the application.\r\n",
        "\r\n",
        "The rules for time adjustment worldwide are more political than rational, change frequently, and there is no standard suitable for every application other than UTC\r\n",
        "\r\n",
        "Objects of this type are immutable.\r\n",
        "\r\n",
        "Objects of the date type are always naive.\r\n",
        "\r\n"
      ]
    },
    {
      "cell_type": "code",
      "metadata": {
        "id": "DVrKa2XSs3o-"
      },
      "source": [
        ""
      ],
      "execution_count": null,
      "outputs": []
    }
  ]
}