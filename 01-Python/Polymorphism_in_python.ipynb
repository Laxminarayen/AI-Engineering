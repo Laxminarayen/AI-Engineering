{
  "nbformat": 4,
  "nbformat_minor": 0,
  "metadata": {
    "colab": {
      "name": "Polymorphism in python.ipynb",
      "provenance": [],
      "authorship_tag": "ABX9TyM6ZARbbhvKYq5LvFJwGLQ9",
      "include_colab_link": true
    },
    "kernelspec": {
      "name": "python3",
      "display_name": "Python 3"
    }
  },
  "cells": [
    {
      "cell_type": "markdown",
      "metadata": {
        "id": "view-in-github",
        "colab_type": "text"
      },
      "source": [
        "<a href=\"https://colab.research.google.com/github/plthiyagu/Personnel/blob/master/Polymorphism_in_python.ipynb\" target=\"_parent\"><img src=\"https://colab.research.google.com/assets/colab-badge.svg\" alt=\"Open In Colab\"/></a>"
      ]
    },
    {
      "cell_type": "code",
      "metadata": {
        "id": "DyyPgHMpwgOh",
        "colab_type": "code",
        "colab": {
          "base_uri": "https://localhost:8080/",
          "height": 51
        },
        "outputId": "e8d3576b-2df6-43cb-f87d-9a817d93174a"
      },
      "source": [
        "class Football():\n",
        "  def play(self):\n",
        "    print(\"Football is played with legs\")\n",
        "class Cricket():\n",
        "  def play(self):\n",
        "    print(\"Cricket is played with hands\")\n",
        "Ronaldo = Football()\n",
        "Sachin= Cricket()\n",
        "for game in (Ronaldo,Sachin):\n",
        "  game.play()\n"
      ],
      "execution_count": 2,
      "outputs": [
        {
          "output_type": "stream",
          "text": [
            "Football is played with legs\n",
            "Cricket is played with hands\n"
          ],
          "name": "stdout"
        }
      ]
    },
    {
      "cell_type": "code",
      "metadata": {
        "id": "FMkQnaqRxpzA",
        "colab_type": "code",
        "colab": {}
      },
      "source": [
        ""
      ],
      "execution_count": 0,
      "outputs": []
    }
  ]
}