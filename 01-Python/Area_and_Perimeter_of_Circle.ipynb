{
  "nbformat": 4,
  "nbformat_minor": 0,
  "metadata": {
    "colab": {
      "name": "Area and Perimeter of Circle.ipynb",
      "provenance": [],
      "authorship_tag": "ABX9TyP9Z5sfkD2zjwq3OYUS+zM8",
      "include_colab_link": true
    },
    "kernelspec": {
      "name": "python3",
      "display_name": "Python 3"
    }
  },
  "cells": [
    {
      "cell_type": "markdown",
      "metadata": {
        "id": "view-in-github",
        "colab_type": "text"
      },
      "source": [
        "<a href=\"https://colab.research.google.com/github/plthiyagu/Personnel/blob/master/Area_and_Perimeter_of_Circle.ipynb\" target=\"_parent\"><img src=\"https://colab.research.google.com/assets/colab-badge.svg\" alt=\"Open In Colab\"/></a>"
      ]
    },
    {
      "cell_type": "code",
      "metadata": {
        "id": "6jVGPO13I2Ti",
        "colab_type": "code",
        "colab": {}
      },
      "source": [
        "class Circle:\n",
        "  def __init__(self, r):\n",
        "    self.radius=r\n",
        "  def area(self):\n",
        "    return self.radius**2*3.14\n",
        "  def perimeter(self):\n",
        "    return 2 * self.radius*3.14"
      ],
      "execution_count": 1,
      "outputs": []
    },
    {
      "cell_type": "code",
      "metadata": {
        "id": "JaKkoPx6JpYc",
        "colab_type": "code",
        "colab": {
          "base_uri": "https://localhost:8080/",
          "height": 51
        },
        "outputId": "b8d76532-1d46-4768-f095-9cc70531cab7"
      },
      "source": [
        "NewCircle= Circle(8)\n",
        "print(\"Area of circle is\",NewCircle.area())\n",
        "print(\"Perimeter of circle is\",NewCircle.perimeter())"
      ],
      "execution_count": 2,
      "outputs": [
        {
          "output_type": "stream",
          "text": [
            "Area of circle is 200.96\n",
            "Perimeter of circle is 50.24\n"
          ],
          "name": "stdout"
        }
      ]
    },
    {
      "cell_type": "code",
      "metadata": {
        "id": "sl1YD0MJKN95",
        "colab_type": "code",
        "colab": {}
      },
      "source": [
        ""
      ],
      "execution_count": null,
      "outputs": []
    }
  ]
}