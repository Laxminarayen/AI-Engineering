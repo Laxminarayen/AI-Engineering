{
  "nbformat": 4,
  "nbformat_minor": 0,
  "metadata": {
    "colab": {
      "name": "Python running status bar.ipynb",
      "provenance": [],
      "authorship_tag": "ABX9TyMwJK/FCreSO+wU7Fpz3jZr",
      "include_colab_link": true
    },
    "kernelspec": {
      "name": "python3",
      "display_name": "Python 3"
    },
    "language_info": {
      "name": "python"
    }
  },
  "cells": [
    {
      "cell_type": "markdown",
      "metadata": {
        "id": "view-in-github",
        "colab_type": "text"
      },
      "source": [
        "<a href=\"https://colab.research.google.com/github/plthiyagu/AI-Engineering/blob/master/01-Python/Python_running_status_bar.ipynb\" target=\"_parent\"><img src=\"https://colab.research.google.com/assets/colab-badge.svg\" alt=\"Open In Colab\"/></a>"
      ]
    },
    {
      "cell_type": "markdown",
      "metadata": {
        "id": "7PzmNH6pyx4d"
      },
      "source": [
        "1. Try using tqdm when your code has for loops\n",
        "\n",
        "Looping over a small list might not be much but imagine when you have to loop over a large dataset. You will not be able to know if your code has finished or not, which is unfair right? Hence to save you the doubt of whether there is an infinite loop or just time taking the task, use tqdm to display a progress bar alongside your code.\n",
        "\n"
      ]
    },
    {
      "cell_type": "code",
      "metadata": {
        "id": "xEnVKC_Dy2N9"
      },
      "source": [
        "from tqdm import tqdm\n",
        "import pandas as pd\n",
        "from typing import List"
      ],
      "execution_count": 9,
      "outputs": []
    },
    {
      "cell_type": "code",
      "metadata": {
        "colab": {
          "base_uri": "https://localhost:8080/"
        },
        "id": "aISehtQ6ytGP",
        "outputId": "d8f80018-99ce-4bee-821b-5292f5b5fc55"
      },
      "source": [
        "for i in tqdm(range(100000000),desc=\"Looping through the loop\"):\n",
        "  pass"
      ],
      "execution_count": 5,
      "outputs": [
        {
          "output_type": "stream",
          "text": [
            "Looping through the loop: 100%|██████████| 100000000/100000000 [00:27<00:00, 3621634.56it/s]\n"
          ],
          "name": "stderr"
        }
      ]
    },
    {
      "cell_type": "markdown",
      "metadata": {
        "id": "-kwis3ubzhwA"
      },
      "source": [
        "2. Use Type hinting when writing any function\n",
        "\n",
        "Type hinting means that explicitly state all the arguments of a python function. These are very helpful for my day-to-day work and I almost always use them. Did you know that you can specify return types in the function definition of a python function? Well, we do not use it much but it exists and can be considered as a good coding standard. The following code demonstrates it :\n",
        "\n"
      ]
    },
    {
      "cell_type": "code",
      "metadata": {
        "colab": {
          "base_uri": "https://localhost:8080/",
          "height": 142
        },
        "id": "RvzBZH9DyuDk",
        "outputId": "0cea7f2c-b558-454e-ba66-e357dd53557f"
      },
      "source": [
        "def update_df(df: pd.DataFrame, classifier: str, accuracy: float, split_size:float = 0.5, remarks: List[str] = []) -> pd.DataFrame:\n",
        "  new_row = {'Classifier':classifier, 'Accuracy':accuracy, 'split_size':split_size, 'Remarks': remarks}\n",
        "  df = df.append(new_row, ignore_index=True)\n",
        "  return df\n",
        "df = pd.DataFrame(columns= [\"Classifier\", \"Accuracy\", \"split_size\", \"Remarks\"])\n",
        "df = update_df(df, \"KNN\", 88, 0.1)\n",
        "df = update_df(df, \"SVM\", 90, remarks=[\"Check again\"])\n",
        "df = update_df(df, \"LR\", 80, 0.8, remarks=[\"param tuning\", \"overfitting\"])\n",
        "df"
      ],
      "execution_count": 10,
      "outputs": [
        {
          "output_type": "execute_result",
          "data": {
            "text/html": [
              "<div>\n",
              "<style scoped>\n",
              "    .dataframe tbody tr th:only-of-type {\n",
              "        vertical-align: middle;\n",
              "    }\n",
              "\n",
              "    .dataframe tbody tr th {\n",
              "        vertical-align: top;\n",
              "    }\n",
              "\n",
              "    .dataframe thead th {\n",
              "        text-align: right;\n",
              "    }\n",
              "</style>\n",
              "<table border=\"1\" class=\"dataframe\">\n",
              "  <thead>\n",
              "    <tr style=\"text-align: right;\">\n",
              "      <th></th>\n",
              "      <th>Classifier</th>\n",
              "      <th>Accuracy</th>\n",
              "      <th>split_size</th>\n",
              "      <th>Remarks</th>\n",
              "    </tr>\n",
              "  </thead>\n",
              "  <tbody>\n",
              "    <tr>\n",
              "      <th>0</th>\n",
              "      <td>KNN</td>\n",
              "      <td>88</td>\n",
              "      <td>0.1</td>\n",
              "      <td>[]</td>\n",
              "    </tr>\n",
              "    <tr>\n",
              "      <th>1</th>\n",
              "      <td>SVM</td>\n",
              "      <td>90</td>\n",
              "      <td>0.5</td>\n",
              "      <td>[Check again]</td>\n",
              "    </tr>\n",
              "    <tr>\n",
              "      <th>2</th>\n",
              "      <td>LR</td>\n",
              "      <td>80</td>\n",
              "      <td>0.8</td>\n",
              "      <td>[param tuning, overfitting]</td>\n",
              "    </tr>\n",
              "  </tbody>\n",
              "</table>\n",
              "</div>"
            ],
            "text/plain": [
              "  Classifier Accuracy  split_size                      Remarks\n",
              "0        KNN       88         0.1                           []\n",
              "1        SVM       90         0.5                [Check again]\n",
              "2         LR       80         0.8  [param tuning, overfitting]"
            ]
          },
          "metadata": {
            "tags": []
          },
          "execution_count": 10
        }
      ]
    },
    {
      "cell_type": "code",
      "metadata": {
        "id": "d3Yg35qhzdRj"
      },
      "source": [
        ""
      ],
      "execution_count": null,
      "outputs": []
    },
    {
      "cell_type": "code",
      "metadata": {
        "id": "h1Y6nxNRzPQ-"
      },
      "source": [
        ""
      ],
      "execution_count": null,
      "outputs": []
    }
  ]
}