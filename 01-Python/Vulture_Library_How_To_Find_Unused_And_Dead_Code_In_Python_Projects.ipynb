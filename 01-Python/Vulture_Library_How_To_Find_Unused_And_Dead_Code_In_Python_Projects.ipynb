{
  "nbformat": 4,
  "nbformat_minor": 0,
  "metadata": {
    "colab": {
      "name": "Vulture Library- How To Find Unused And Dead Code In Python Projects.ipynb",
      "provenance": [],
      "collapsed_sections": [],
      "authorship_tag": "ABX9TyMu4xBJHfMTLwu6F7y5nL3F",
      "include_colab_link": true
    },
    "kernelspec": {
      "name": "python3",
      "display_name": "Python 3"
    }
  },
  "cells": [
    {
      "cell_type": "markdown",
      "metadata": {
        "id": "view-in-github",
        "colab_type": "text"
      },
      "source": [
        "<a href=\"https://colab.research.google.com/github/plthiyagu/AI-Engineering/blob/master/01-Python/Vulture_Library_How_To_Find_Unused_And_Dead_Code_In_Python_Projects.ipynb\" target=\"_parent\"><img src=\"https://colab.research.google.com/assets/colab-badge.svg\" alt=\"Open In Colab\"/></a>"
      ]
    },
    {
      "cell_type": "code",
      "metadata": {
        "colab": {
          "base_uri": "https://localhost:8080/"
        },
        "id": "boN6VByVlgY1",
        "outputId": "3f609cad-9097-4958-d4c8-d1e06d003d29"
      },
      "source": [
        "!pip install vulture"
      ],
      "execution_count": 1,
      "outputs": [
        {
          "output_type": "stream",
          "text": [
            "Collecting vulture\n",
            "  Downloading https://files.pythonhosted.org/packages/a9/68/6dd3fdcbf00a1ca3c74e6e0876cda6c36c27744a7cde3e3b9f95e908b7b5/vulture-2.3-py2.py3-none-any.whl\n",
            "Requirement already satisfied: toml in /usr/local/lib/python3.6/dist-packages (from vulture) (0.10.2)\n",
            "Installing collected packages: vulture\n",
            "Successfully installed vulture-2.3\n"
          ],
          "name": "stdout"
        }
      ]
    },
    {
      "cell_type": "code",
      "metadata": {
        "id": "u-zPlT-ZlzL-"
      },
      "source": [
        "import os"
      ],
      "execution_count": 2,
      "outputs": []
    },
    {
      "cell_type": "code",
      "metadata": {
        "id": "0bUh_aR6mIlc"
      },
      "source": [
        "class Greeter:\r\n",
        "  def greet(self):\r\n",
        "    print(\"Hi\")\r\n",
        "def hello_world():\r\n",
        "  message =\"Hello , World\"\r\n",
        "  greeter= Greeter()\r\n",
        "  greet_func = getattr(greeter,\"greet\")\r\n",
        "  greet_func()"
      ],
      "execution_count": 3,
      "outputs": []
    },
    {
      "cell_type": "code",
      "metadata": {
        "colab": {
          "base_uri": "https://localhost:8080/"
        },
        "id": "lmLOlFddmrrL",
        "outputId": "ee55e70c-631b-4bd5-e446-3e5f68775768"
      },
      "source": [
        "hello_world()"
      ],
      "execution_count": 4,
      "outputs": [
        {
          "output_type": "stream",
          "text": [
            "Hi\n"
          ],
          "name": "stdout"
        }
      ]
    },
    {
      "cell_type": "code",
      "metadata": {
        "colab": {
          "base_uri": "https://localhost:8080/"
        },
        "id": "qVNbu6F8mtle",
        "outputId": "4d64d865-60bb-4bfb-8737-05c8274e16e4"
      },
      "source": [
        "!vulture Vulture.ipynb"
      ],
      "execution_count": 5,
      "outputs": [
        {
          "output_type": "stream",
          "text": [
            "Error: /content/Vulture.ipynb could not be found.\n"
          ],
          "name": "stdout"
        }
      ]
    },
    {
      "cell_type": "code",
      "metadata": {
        "id": "QBGs6IQZnRFx"
      },
      "source": [
        ""
      ],
      "execution_count": null,
      "outputs": []
    }
  ]
}