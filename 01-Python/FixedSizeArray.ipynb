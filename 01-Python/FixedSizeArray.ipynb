{
  "nbformat": 4,
  "nbformat_minor": 0,
  "metadata": {
    "colab": {
      "name": "FixedSizeArray.ipynb",
      "provenance": [],
      "authorship_tag": "ABX9TyMixM0k9dbihp1Pcqo3wzhx",
      "include_colab_link": true
    },
    "kernelspec": {
      "name": "python3",
      "display_name": "Python 3"
    }
  },
  "cells": [
    {
      "cell_type": "markdown",
      "metadata": {
        "id": "view-in-github",
        "colab_type": "text"
      },
      "source": [
        "<a href=\"https://colab.research.google.com/github/plthiyagu/Personnel/blob/master/FixedSizeArray.ipynb\" target=\"_parent\"><img src=\"https://colab.research.google.com/assets/colab-badge.svg\" alt=\"Open In Colab\"/></a>"
      ]
    },
    {
      "cell_type": "code",
      "metadata": {
        "id": "shU-O8OIV5B-",
        "colab_type": "code",
        "colab": {
          "base_uri": "https://localhost:8080/",
          "height": 119
        },
        "outputId": "70f40a4f-e80d-4714-c426-71374201bde0"
      },
      "source": [
        "class fixedSizeArray(object):\n",
        "    def __init__(self, arraySize=5):\n",
        "        self.arraySize = arraySize\n",
        "        self.array = [None] * self.arraySize\n",
        "\n",
        "    def __repr__(self):\n",
        "        return str(self.array)\n",
        "\n",
        "    def __get__(self, instance, owner):\n",
        "        return self.array\n",
        "\n",
        "    def append(self, index=None, value=None):\n",
        "        print(\"Append Operation cannot be performed on fixed size array\")\n",
        "        return\n",
        "\n",
        "    def insert(self, index=None, value=None):\n",
        "        if not index and index - 1 not in xrange(self.arraySize):\n",
        "            print ('invalid Index or Array Size Exceeded')\n",
        "            return\n",
        "        try:\n",
        "            self.array[index] = value\n",
        "        except:\n",
        "            print ('This is Fixed Size Array: Please Use the available Indices')\n",
        "\n",
        "\n",
        "arr = fixedSizeArray(5)\n",
        "print(arr)\n",
        "arr.append(100)\n",
        "print(arr)\n",
        "arr.insert(1, 200)\n",
        "print(arr)\n",
        "arr.insert(5, 300)\n",
        "print(arr)\n"
      ],
      "execution_count": 4,
      "outputs": [
        {
          "output_type": "stream",
          "text": [
            "[None, None, None, None, None]\n",
            "Append Operation cannot be performed on fixed size array\n",
            "[None, None, None, None, None]\n",
            "[None, 200, None, None, None]\n",
            "This is Fixed Size Array: Please Use the available Indices\n",
            "[None, 200, None, None, None]\n"
          ],
          "name": "stdout"
        }
      ]
    },
    {
      "cell_type": "code",
      "metadata": {
        "id": "X5gpWjpmWHdz",
        "colab_type": "code",
        "colab": {}
      },
      "source": [
        ""
      ],
      "execution_count": null,
      "outputs": []
    },
    {
      "cell_type": "code",
      "metadata": {
        "id": "u6NOrhSqV_vu",
        "colab_type": "code",
        "colab": {}
      },
      "source": [
        ""
      ],
      "execution_count": null,
      "outputs": []
    }
  ]
}