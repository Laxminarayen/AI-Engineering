{
  "nbformat": 4,
  "nbformat_minor": 0,
  "metadata": {
    "colab": {
      "name": "Python Utilities debugginh.ipynb",
      "provenance": [],
      "authorship_tag": "ABX9TyObE6ovaHr3V2RxZAlv3IGI",
      "include_colab_link": true
    },
    "kernelspec": {
      "name": "python3",
      "display_name": "Python 3"
    }
  },
  "cells": [
    {
      "cell_type": "markdown",
      "metadata": {
        "id": "view-in-github",
        "colab_type": "text"
      },
      "source": [
        "<a href=\"https://colab.research.google.com/github/plthiyagu/Personnel/blob/master/Python_Utilities_debugginh.ipynb\" target=\"_parent\"><img src=\"https://colab.research.google.com/assets/colab-badge.svg\" alt=\"Open In Colab\"/></a>"
      ]
    },
    {
      "cell_type": "markdown",
      "metadata": {
        "id": "JL2OUChquUC5",
        "colab_type": "text"
      },
      "source": [
        "Python Dis Module\n",
        "\n",
        "\n",
        "```\n",
        "# This is formatted as code\n",
        "```\n",
        "\n"
      ]
    },
    {
      "cell_type": "code",
      "metadata": {
        "id": "Y086rvlLtiJu",
        "colab_type": "code",
        "colab": {
          "base_uri": "https://localhost:8080/",
          "height": 34
        },
        "outputId": "870f6050-141f-424e-ccff-faa9dba3213d"
      },
      "source": [
        "def add():\n",
        "  a=3\n",
        "  b=4\n",
        "  c =a + b\n",
        "  print(f\"{a}+{b}={c}\")\n",
        "\n",
        "add()\n"
      ],
      "execution_count": 1,
      "outputs": [
        {
          "output_type": "stream",
          "text": [
            "3+4=7\n"
          ],
          "name": "stdout"
        }
      ]
    },
    {
      "cell_type": "code",
      "metadata": {
        "id": "DkrbdFAltzUX",
        "colab_type": "code",
        "colab": {
          "base_uri": "https://localhost:8080/",
          "height": 442
        },
        "outputId": "dc1f481f-2c5a-4e81-9037-728886c7efda"
      },
      "source": [
        "import dis\n",
        "dis.dis(add)"
      ],
      "execution_count": 3,
      "outputs": [
        {
          "output_type": "stream",
          "text": [
            "  2           0 LOAD_CONST               1 (3)\n",
            "              2 STORE_FAST               0 (a)\n",
            "\n",
            "  3           4 LOAD_CONST               2 (4)\n",
            "              6 STORE_FAST               1 (b)\n",
            "\n",
            "  4           8 LOAD_FAST                0 (a)\n",
            "             10 LOAD_FAST                1 (b)\n",
            "             12 BINARY_ADD\n",
            "             14 STORE_FAST               2 (c)\n",
            "\n",
            "  5          16 LOAD_GLOBAL              0 (print)\n",
            "             18 LOAD_FAST                0 (a)\n",
            "             20 FORMAT_VALUE             0\n",
            "             22 LOAD_CONST               3 ('+')\n",
            "             24 LOAD_FAST                1 (b)\n",
            "             26 FORMAT_VALUE             0\n",
            "             28 LOAD_CONST               4 ('=')\n",
            "             30 LOAD_FAST                2 (c)\n",
            "             32 FORMAT_VALUE             0\n",
            "             34 BUILD_STRING             5\n",
            "             36 CALL_FUNCTION            1\n",
            "             38 POP_TOP\n",
            "             40 LOAD_CONST               0 (None)\n",
            "             42 RETURN_VALUE\n"
          ],
          "name": "stdout"
        }
      ]
    },
    {
      "cell_type": "markdown",
      "metadata": {
        "id": "f3sv9xpPua97",
        "colab_type": "text"
      },
      "source": [
        "Python Tabnanny Module\n",
        "Python tabnanny checks code for ambiguous indentation"
      ]
    },
    {
      "cell_type": "code",
      "metadata": {
        "id": "BvjbKwRTt3Jb",
        "colab_type": "code",
        "colab": {
          "base_uri": "https://localhost:8080/",
          "height": 122
        },
        "outputId": "48b54074-8c21-4e92-bf5d-f04f0f9d5f7a"
      },
      "source": [
        "from google.colab import drive\n",
        "drive.mount('/content/drive')"
      ],
      "execution_count": 5,
      "outputs": [
        {
          "output_type": "stream",
          "text": [
            "Go to this URL in a browser: https://accounts.google.com/o/oauth2/auth?client_id=947318989803-6bn6qk8qdgf4n4g3pfee6491hc0brc4i.apps.googleusercontent.com&redirect_uri=urn%3aietf%3awg%3aoauth%3a2.0%3aoob&response_type=code&scope=email%20https%3a%2f%2fwww.googleapis.com%2fauth%2fdocs.test%20https%3a%2f%2fwww.googleapis.com%2fauth%2fdrive%20https%3a%2f%2fwww.googleapis.com%2fauth%2fdrive.photos.readonly%20https%3a%2f%2fwww.googleapis.com%2fauth%2fpeopleapi.readonly\n",
            "\n",
            "Enter your authorization code:\n",
            "··········\n",
            "Mounted at /content/drive\n"
          ],
          "name": "stdout"
        }
      ]
    },
    {
      "cell_type": "code",
      "metadata": {
        "id": "imvxMo5iAZIk",
        "colab_type": "code",
        "colab": {
          "base_uri": "https://localhost:8080/",
          "height": 34
        },
        "outputId": "67e9a897-26d6-43f7-9cd3-59a236717c63"
      },
      "source": [
        "!ls /content/drive"
      ],
      "execution_count": 6,
      "outputs": [
        {
          "output_type": "stream",
          "text": [
            "'My Drive'\n"
          ],
          "name": "stdout"
        }
      ]
    },
    {
      "cell_type": "code",
      "metadata": {
        "id": "3yJfx1BJAyif",
        "colab_type": "code",
        "colab": {
          "base_uri": "https://localhost:8080/",
          "height": 1000
        },
        "outputId": "8f72485e-3160-48d6-bb07-8c5d2f77f5f0"
      },
      "source": [
        "!ls '/content/drive/My Drive/Colab Notebooks/Leap Year.ipynb'\n"
      ],
      "execution_count": 11,
      "outputs": [
        {
          "output_type": "stream",
          "text": [
            " 3sum.ipynb\n",
            "'Anagram Solution.ipynb'\n",
            " AutoGluon.ipynb\n",
            " AutoSklearn.ipynb\n",
            "'Bank Note Authentication.ipynb'\n",
            "'Bitwise Operators.ipynb'\n",
            "'Check Any City Waether using its name.ipynb'\n",
            " chi-squared-feature-selection-selectkbest.ipynb\n",
            "'Compare version numbers.ipynb'\n",
            "'Consecutive numbers sum.ipynb'\n",
            "'convert a list to string.ipynb'\n",
            " Corona_Bar_Race_chart.ipynb\n",
            " Coronavirus_Web_Scraping.ipynb\n",
            "'CoronoVirus Dataset Enrichment.ipynb'\n",
            "'count the number of occurrences.ipynb'\n",
            " Covid19Json.ipynb\n",
            " CreditScoreAnalysis.ipynb\n",
            "'Customer Life Time Value Analysis.ipynb'\n",
            " Dataset\n",
            "'DateTime Learning.ipynb'\n",
            "'DateTime Play.ipynb'\n",
            " detr_demo.ipynb\n",
            "'Dot product of two sparse vectors.ipynb'\n",
            "'Downloading Kaggle Datasets into Google Colab.ipynb'\n",
            " Factorial.ipynb\n",
            "'Find K Closest Points to the Origin.ipynb'\n",
            " first-order-model-demo.ipynb\n",
            "'Get Start with Colab.ipynb'\n",
            "'Hypothesis Testing.ipynb'\n",
            " Input\n",
            "'Instagram Scrap.ipynb'\n",
            "'Installing and Running Pyspark in Colab and Local.ipynb'\n",
            "'JupyterDash Tutorial.ipynb'\n",
            " kaggle.json\n",
            "' K-Prototypes for mixed datatypes.ipynb'\n",
            "'Leap Year.ipynb'\n",
            "'List File in Dir.ipynb'\n",
            "'Loading the data with Example.ipynb'\n",
            "'Longest path in a directed Acyclic graph.ipynb'\n",
            "'Longest String in list.ipynb'\n",
            "'Matplotlib Simple Excercises.ipynb'\n",
            "'Maximum Path Sum in a Binary Tree.ipynb'\n",
            " MultiThreadingLearning.ipynb\n",
            "'Normal Distribution Learning.ipynb'\n",
            "'Numpy Leaning.ipynb'\n",
            "'Odd or Even.ipynb'\n",
            " Palindrome.ipynb\n",
            "'Palindrome or not Number.ipynb'\n",
            " Pandas_loc_iloc.ipynb\n",
            "'Pandas Panel 3D.ipynb'\n",
            "'Predicting Black Friday Sales.ipynb'\n",
            "'Prime Number or Not.ipynb'\n",
            "'Prrinting Reverse Triangle.ipynb'\n",
            " PyCaret.ipynb\n",
            "'PyCaret NLP Learning.ipynb'\n",
            "'Python Basic Learning.ipynb'\n",
            "'Python Basics.ipynb'\n",
            "'Python Competitive Exam.ipynb'\n",
            "'Python OS Sys File Operation Learning.ipynb'\n",
            "'Python Refresh.ipynb'\n",
            "'Python Refresh more.ipynb'\n",
            "'Python Utilities debugginh.ipynb'\n",
            "'Random Number Generators.ipynb'\n",
            "'Regular Expression.ipynb'\n",
            "'Reverse String.ipynb'\n",
            "'Select the Right Built-In Function.ipynb'\n",
            "'Serialize and Deserialize Binary Tree.ipynb'\n",
            "'Simple Inheritance Exercise.ipynb'\n",
            "'Smallest subarray with sum greater than a given value.ipynb'\n",
            "'Spark Transformation and Actions.ipynb'\n",
            "'Stastical Thinking Correlation.ipynb'\n",
            " Statistical_Thinking_Categorical_Variables_Correlation.ipynb\n",
            "'Statistical Thinking- Feature Selection.ipynb'\n",
            " Statistical_Thinking_Imputing_Missing_Value.ipynb\n",
            "'Statistical Thinking Know your Data and Business.ipynb'\n",
            "'Stock Price Prediction Model for Netflix.ipynb'\n",
            "'Tensorflow Keras Tuner Demo.ipynb'\n",
            "'Text Summarization.ipynb'\n",
            "'Time Excercise.ipynb'\n",
            "'Twitter Analysis.ipynb'\n",
            " twitter.properties\n",
            "'UnitTest Learning.ipynb'\n",
            " Untitled0.ipynb\n",
            " Untitled1.ipynb\n",
            " Untitled2.ipynb\n",
            " Untitled3.ipynb\n",
            " Untitled4.ipynb\n",
            " Untitled5.ipynb\n",
            "'Visualize Geospatial Data.ipynb'\n",
            "'WebScraping Amazon books.ipynb'\n",
            "'Word lexographic order.ipynb'\n",
            " XGBoost_1_0_with_cuda_Dataframe.ipynb\n",
            "'YouTube Downloading.ipynb'\n"
          ],
          "name": "stdout"
        }
      ]
    },
    {
      "cell_type": "code",
      "metadata": {
        "id": "QYJV0rhZuvuX",
        "colab_type": "code",
        "colab": {}
      },
      "source": [
        "import os\n",
        "import tabnanny\n",
        "os.chdir('/content/drive/My Drive/Colab Notebooks/')\n",
        "tabnanny.check('Leap Year.ipynb')"
      ],
      "execution_count": 0,
      "outputs": []
    },
    {
      "cell_type": "markdown",
      "metadata": {
        "id": "Eggwd3M-B1YX",
        "colab_type": "text"
      },
      "source": [
        "Python Profile Module\n"
      ]
    },
    {
      "cell_type": "code",
      "metadata": {
        "id": "FwnSX7DRBkVL",
        "colab_type": "code",
        "colab": {
          "base_uri": "https://localhost:8080/",
          "height": 561
        },
        "outputId": "b8a83dcd-5031-4166-da0e-77fd3adb62f3"
      },
      "source": [
        "import hashlib\n",
        "import cProfile\n",
        "cProfile.run(\"hashlib.md5('abcdefghijkl').digest()\")"
      ],
      "execution_count": 16,
      "outputs": [
        {
          "output_type": "stream",
          "text": [
            "         4 function calls in 0.000 seconds\n",
            "\n",
            "   Ordered by: standard name\n",
            "\n",
            "   ncalls  tottime  percall  cumtime  percall filename:lineno(function)\n",
            "        1    0.000    0.000    0.000    0.000 <string>:1(<module>)\n",
            "        1    0.000    0.000    0.000    0.000 {built-in method _hashlib.openssl_md5}\n",
            "        1    0.000    0.000    0.000    0.000 {built-in method builtins.exec}\n",
            "        1    0.000    0.000    0.000    0.000 {method 'disable' of '_lsprof.Profiler' objects}\n",
            "\n",
            "\n"
          ],
          "name": "stdout"
        },
        {
          "output_type": "error",
          "ename": "TypeError",
          "evalue": "ignored",
          "traceback": [
            "\u001b[0;31m---------------------------------------------------------------------------\u001b[0m",
            "\u001b[0;31mTypeError\u001b[0m                                 Traceback (most recent call last)",
            "\u001b[0;32m<ipython-input-16-7ddeb8ddb577>\u001b[0m in \u001b[0;36m<module>\u001b[0;34m()\u001b[0m\n\u001b[1;32m      1\u001b[0m \u001b[0;32mimport\u001b[0m \u001b[0mhashlib\u001b[0m\u001b[0;34m\u001b[0m\u001b[0;34m\u001b[0m\u001b[0m\n\u001b[1;32m      2\u001b[0m \u001b[0;32mimport\u001b[0m \u001b[0mcProfile\u001b[0m\u001b[0;34m\u001b[0m\u001b[0;34m\u001b[0m\u001b[0m\n\u001b[0;32m----> 3\u001b[0;31m \u001b[0mcProfile\u001b[0m\u001b[0;34m.\u001b[0m\u001b[0mrun\u001b[0m\u001b[0;34m(\u001b[0m\u001b[0;34m\"hashlib.md5('abcdefghijkl').digest()\"\u001b[0m\u001b[0;34m)\u001b[0m\u001b[0;34m\u001b[0m\u001b[0;34m\u001b[0m\u001b[0m\n\u001b[0m",
            "\u001b[0;32m/usr/lib/python3.6/cProfile.py\u001b[0m in \u001b[0;36mrun\u001b[0;34m(statement, filename, sort)\u001b[0m\n\u001b[1;32m     14\u001b[0m \u001b[0;34m\u001b[0m\u001b[0m\n\u001b[1;32m     15\u001b[0m \u001b[0;32mdef\u001b[0m \u001b[0mrun\u001b[0m\u001b[0;34m(\u001b[0m\u001b[0mstatement\u001b[0m\u001b[0;34m,\u001b[0m \u001b[0mfilename\u001b[0m\u001b[0;34m=\u001b[0m\u001b[0;32mNone\u001b[0m\u001b[0;34m,\u001b[0m \u001b[0msort\u001b[0m\u001b[0;34m=\u001b[0m\u001b[0;34m-\u001b[0m\u001b[0;36m1\u001b[0m\u001b[0;34m)\u001b[0m\u001b[0;34m:\u001b[0m\u001b[0;34m\u001b[0m\u001b[0;34m\u001b[0m\u001b[0m\n\u001b[0;32m---> 16\u001b[0;31m     \u001b[0;32mreturn\u001b[0m \u001b[0m_pyprofile\u001b[0m\u001b[0;34m.\u001b[0m\u001b[0m_Utils\u001b[0m\u001b[0;34m(\u001b[0m\u001b[0mProfile\u001b[0m\u001b[0;34m)\u001b[0m\u001b[0;34m.\u001b[0m\u001b[0mrun\u001b[0m\u001b[0;34m(\u001b[0m\u001b[0mstatement\u001b[0m\u001b[0;34m,\u001b[0m \u001b[0mfilename\u001b[0m\u001b[0;34m,\u001b[0m \u001b[0msort\u001b[0m\u001b[0;34m)\u001b[0m\u001b[0;34m\u001b[0m\u001b[0;34m\u001b[0m\u001b[0m\n\u001b[0m\u001b[1;32m     17\u001b[0m \u001b[0;34m\u001b[0m\u001b[0m\n\u001b[1;32m     18\u001b[0m \u001b[0;32mdef\u001b[0m \u001b[0mrunctx\u001b[0m\u001b[0;34m(\u001b[0m\u001b[0mstatement\u001b[0m\u001b[0;34m,\u001b[0m \u001b[0mglobals\u001b[0m\u001b[0;34m,\u001b[0m \u001b[0mlocals\u001b[0m\u001b[0;34m,\u001b[0m \u001b[0mfilename\u001b[0m\u001b[0;34m=\u001b[0m\u001b[0;32mNone\u001b[0m\u001b[0;34m,\u001b[0m \u001b[0msort\u001b[0m\u001b[0;34m=\u001b[0m\u001b[0;34m-\u001b[0m\u001b[0;36m1\u001b[0m\u001b[0;34m)\u001b[0m\u001b[0;34m:\u001b[0m\u001b[0;34m\u001b[0m\u001b[0;34m\u001b[0m\u001b[0m\n",
            "\u001b[0;32m/usr/lib/python3.6/profile.py\u001b[0m in \u001b[0;36mrun\u001b[0;34m(self, statement, filename, sort)\u001b[0m\n\u001b[1;32m     53\u001b[0m         \u001b[0mprof\u001b[0m \u001b[0;34m=\u001b[0m \u001b[0mself\u001b[0m\u001b[0;34m.\u001b[0m\u001b[0mprofiler\u001b[0m\u001b[0;34m(\u001b[0m\u001b[0;34m)\u001b[0m\u001b[0;34m\u001b[0m\u001b[0;34m\u001b[0m\u001b[0m\n\u001b[1;32m     54\u001b[0m         \u001b[0;32mtry\u001b[0m\u001b[0;34m:\u001b[0m\u001b[0;34m\u001b[0m\u001b[0;34m\u001b[0m\u001b[0m\n\u001b[0;32m---> 55\u001b[0;31m             \u001b[0mprof\u001b[0m\u001b[0;34m.\u001b[0m\u001b[0mrun\u001b[0m\u001b[0;34m(\u001b[0m\u001b[0mstatement\u001b[0m\u001b[0;34m)\u001b[0m\u001b[0;34m\u001b[0m\u001b[0;34m\u001b[0m\u001b[0m\n\u001b[0m\u001b[1;32m     56\u001b[0m         \u001b[0;32mexcept\u001b[0m \u001b[0mSystemExit\u001b[0m\u001b[0;34m:\u001b[0m\u001b[0;34m\u001b[0m\u001b[0;34m\u001b[0m\u001b[0m\n\u001b[1;32m     57\u001b[0m             \u001b[0;32mpass\u001b[0m\u001b[0;34m\u001b[0m\u001b[0;34m\u001b[0m\u001b[0m\n",
            "\u001b[0;32m/usr/lib/python3.6/cProfile.py\u001b[0m in \u001b[0;36mrun\u001b[0;34m(self, cmd)\u001b[0m\n\u001b[1;32m     93\u001b[0m         \u001b[0;32mimport\u001b[0m \u001b[0m__main__\u001b[0m\u001b[0;34m\u001b[0m\u001b[0;34m\u001b[0m\u001b[0m\n\u001b[1;32m     94\u001b[0m         \u001b[0mdict\u001b[0m \u001b[0;34m=\u001b[0m \u001b[0m__main__\u001b[0m\u001b[0;34m.\u001b[0m\u001b[0m__dict__\u001b[0m\u001b[0;34m\u001b[0m\u001b[0;34m\u001b[0m\u001b[0m\n\u001b[0;32m---> 95\u001b[0;31m         \u001b[0;32mreturn\u001b[0m \u001b[0mself\u001b[0m\u001b[0;34m.\u001b[0m\u001b[0mrunctx\u001b[0m\u001b[0;34m(\u001b[0m\u001b[0mcmd\u001b[0m\u001b[0;34m,\u001b[0m \u001b[0mdict\u001b[0m\u001b[0;34m,\u001b[0m \u001b[0mdict\u001b[0m\u001b[0;34m)\u001b[0m\u001b[0;34m\u001b[0m\u001b[0;34m\u001b[0m\u001b[0m\n\u001b[0m\u001b[1;32m     96\u001b[0m \u001b[0;34m\u001b[0m\u001b[0m\n\u001b[1;32m     97\u001b[0m     \u001b[0;32mdef\u001b[0m \u001b[0mrunctx\u001b[0m\u001b[0;34m(\u001b[0m\u001b[0mself\u001b[0m\u001b[0;34m,\u001b[0m \u001b[0mcmd\u001b[0m\u001b[0;34m,\u001b[0m \u001b[0mglobals\u001b[0m\u001b[0;34m,\u001b[0m \u001b[0mlocals\u001b[0m\u001b[0;34m)\u001b[0m\u001b[0;34m:\u001b[0m\u001b[0;34m\u001b[0m\u001b[0;34m\u001b[0m\u001b[0m\n",
            "\u001b[0;32m/usr/lib/python3.6/cProfile.py\u001b[0m in \u001b[0;36mrunctx\u001b[0;34m(self, cmd, globals, locals)\u001b[0m\n\u001b[1;32m     98\u001b[0m         \u001b[0mself\u001b[0m\u001b[0;34m.\u001b[0m\u001b[0menable\u001b[0m\u001b[0;34m(\u001b[0m\u001b[0;34m)\u001b[0m\u001b[0;34m\u001b[0m\u001b[0;34m\u001b[0m\u001b[0m\n\u001b[1;32m     99\u001b[0m         \u001b[0;32mtry\u001b[0m\u001b[0;34m:\u001b[0m\u001b[0;34m\u001b[0m\u001b[0;34m\u001b[0m\u001b[0m\n\u001b[0;32m--> 100\u001b[0;31m             \u001b[0mexec\u001b[0m\u001b[0;34m(\u001b[0m\u001b[0mcmd\u001b[0m\u001b[0;34m,\u001b[0m \u001b[0mglobals\u001b[0m\u001b[0;34m,\u001b[0m \u001b[0mlocals\u001b[0m\u001b[0;34m)\u001b[0m\u001b[0;34m\u001b[0m\u001b[0;34m\u001b[0m\u001b[0m\n\u001b[0m\u001b[1;32m    101\u001b[0m         \u001b[0;32mfinally\u001b[0m\u001b[0;34m:\u001b[0m\u001b[0;34m\u001b[0m\u001b[0;34m\u001b[0m\u001b[0m\n\u001b[1;32m    102\u001b[0m             \u001b[0mself\u001b[0m\u001b[0;34m.\u001b[0m\u001b[0mdisable\u001b[0m\u001b[0;34m(\u001b[0m\u001b[0;34m)\u001b[0m\u001b[0;34m\u001b[0m\u001b[0;34m\u001b[0m\u001b[0m\n",
            "\u001b[0;32m<string>\u001b[0m in \u001b[0;36m<module>\u001b[0;34m()\u001b[0m\n",
            "\u001b[0;31mTypeError\u001b[0m: Unicode-objects must be encoded before hashing"
          ]
        }
      ]
    },
    {
      "cell_type": "markdown",
      "metadata": {
        "id": "xjFSp1xYCLi5",
        "colab_type": "text"
      },
      "source": [
        "Python PDB Module\n"
      ]
    },
    {
      "cell_type": "code",
      "metadata": {
        "id": "pOFE58O6CAzg",
        "colab_type": "code",
        "colab": {
          "base_uri": "https://localhost:8080/",
          "height": 195
        },
        "outputId": "2ef3bc70-9804-4f94-a3f9-79d26ddca716"
      },
      "source": [
        "import pdb\n",
        "n=4\n",
        "def raised(a):\n",
        "  return a**a\n",
        "pdb.set_trace()\n",
        "eight=raised(8)\n",
        "print(eight)\n",
        "two=raised(2)\n",
        "print(two)\n"
      ],
      "execution_count": 0,
      "outputs": [
        {
          "output_type": "stream",
          "text": [
            "--Return--\n",
            "> <ipython-input-17-abde64d18a95>(5)<module>()->None\n",
            "-> pdb.set_trace()\n",
            "--KeyboardInterrupt--\n",
            "--KeyboardInterrupt--\n",
            "--KeyboardInterrupt--\n"
          ],
          "name": "stdout"
        }
      ]
    }
  ]
}