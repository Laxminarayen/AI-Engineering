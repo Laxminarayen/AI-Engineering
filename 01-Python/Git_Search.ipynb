{
  "nbformat": 4,
  "nbformat_minor": 0,
  "metadata": {
    "colab": {
      "name": "Git Search.ipynb",
      "provenance": [],
      "authorship_tag": "ABX9TyPWlFc4I+d5VbyCkbd90Iek",
      "include_colab_link": true
    },
    "kernelspec": {
      "name": "python3",
      "display_name": "Python 3"
    },
    "language_info": {
      "name": "python"
    }
  },
  "cells": [
    {
      "cell_type": "markdown",
      "metadata": {
        "id": "view-in-github",
        "colab_type": "text"
      },
      "source": [
        "<a href=\"https://colab.research.google.com/github/plthiyagu/AI-Engineering/blob/master/01-Python/Git_Search.ipynb\" target=\"_parent\"><img src=\"https://colab.research.google.com/assets/colab-badge.svg\" alt=\"Open In Colab\"/></a>"
      ]
    },
    {
      "cell_type": "code",
      "metadata": {
        "id": "nUEtAJPDASYu"
      },
      "source": [
        "!pip install yarl\n",
        "from yarl import URL"
      ],
      "execution_count": 4,
      "outputs": []
    },
    {
      "cell_type": "code",
      "metadata": {
        "colab": {
          "base_uri": "https://localhost:8080/"
        },
        "id": "N4Fg-E7Dc-A_",
        "outputId": "a56b5cd1-ac97-48db-921d-e44e4bc1a4ed"
      },
      "source": [
        ""
      ],
      "execution_count": 3,
      "outputs": [
        {
          "output_type": "stream",
          "text": [
            "Collecting yarl\n",
            "  Downloading yarl-1.6.3-cp37-cp37m-manylinux2014_x86_64.whl (294 kB)\n",
            "\u001b[?25l\r\u001b[K     |█▏                              | 10 kB 19.4 MB/s eta 0:00:01\r\u001b[K     |██▎                             | 20 kB 9.2 MB/s eta 0:00:01\r\u001b[K     |███▍                            | 30 kB 7.5 MB/s eta 0:00:01\r\u001b[K     |████▌                           | 40 kB 6.9 MB/s eta 0:00:01\r\u001b[K     |█████▋                          | 51 kB 6.4 MB/s eta 0:00:01\r\u001b[K     |██████▊                         | 61 kB 6.4 MB/s eta 0:00:01\r\u001b[K     |███████▉                        | 71 kB 6.4 MB/s eta 0:00:01\r\u001b[K     |█████████                       | 81 kB 7.2 MB/s eta 0:00:01\r\u001b[K     |██████████                      | 92 kB 6.0 MB/s eta 0:00:01\r\u001b[K     |███████████▏                    | 102 kB 6.5 MB/s eta 0:00:01\r\u001b[K     |████████████▎                   | 112 kB 6.5 MB/s eta 0:00:01\r\u001b[K     |█████████████▍                  | 122 kB 6.5 MB/s eta 0:00:01\r\u001b[K     |██████████████▌                 | 133 kB 6.5 MB/s eta 0:00:01\r\u001b[K     |███████████████▋                | 143 kB 6.5 MB/s eta 0:00:01\r\u001b[K     |████████████████▊               | 153 kB 6.5 MB/s eta 0:00:01\r\u001b[K     |█████████████████▉              | 163 kB 6.5 MB/s eta 0:00:01\r\u001b[K     |███████████████████             | 174 kB 6.5 MB/s eta 0:00:01\r\u001b[K     |████████████████████            | 184 kB 6.5 MB/s eta 0:00:01\r\u001b[K     |█████████████████████▏          | 194 kB 6.5 MB/s eta 0:00:01\r\u001b[K     |██████████████████████▎         | 204 kB 6.5 MB/s eta 0:00:01\r\u001b[K     |███████████████████████▍        | 215 kB 6.5 MB/s eta 0:00:01\r\u001b[K     |████████████████████████▌       | 225 kB 6.5 MB/s eta 0:00:01\r\u001b[K     |█████████████████████████▋      | 235 kB 6.5 MB/s eta 0:00:01\r\u001b[K     |██████████████████████████▊     | 245 kB 6.5 MB/s eta 0:00:01\r\u001b[K     |███████████████████████████▉    | 256 kB 6.5 MB/s eta 0:00:01\r\u001b[K     |█████████████████████████████   | 266 kB 6.5 MB/s eta 0:00:01\r\u001b[K     |██████████████████████████████  | 276 kB 6.5 MB/s eta 0:00:01\r\u001b[K     |███████████████████████████████▏| 286 kB 6.5 MB/s eta 0:00:01\r\u001b[K     |████████████████████████████████| 294 kB 6.5 MB/s \n",
            "\u001b[?25hRequirement already satisfied: typing-extensions>=3.7.4 in /usr/local/lib/python3.7/dist-packages (from yarl) (3.7.4.3)\n",
            "Requirement already satisfied: idna>=2.0 in /usr/local/lib/python3.7/dist-packages (from yarl) (2.10)\n",
            "Collecting multidict>=4.0\n",
            "  Downloading multidict-5.1.0-cp37-cp37m-manylinux2014_x86_64.whl (142 kB)\n",
            "\u001b[K     |████████████████████████████████| 142 kB 56.2 MB/s \n",
            "\u001b[?25hInstalling collected packages: multidict, yarl\n",
            "Successfully installed multidict-5.1.0 yarl-1.6.3\n"
          ],
          "name": "stdout"
        }
      ]
    },
    {
      "cell_type": "code",
      "metadata": {
        "id": "4hq952EOARhe",
        "colab": {
          "base_uri": "https://localhost:8080/"
        },
        "outputId": "80f39161-f62a-47b2-ad47-e12bb79eae52"
      },
      "source": [
        "url = URL('https://github.com')\n",
        "new_url = url/ \"search\" % 'q=data+science'\n",
        "print(new_url) # https://github.com/search?q=data+science\n",
        "\n",
        "print(new_url.host) # github.com\n",
        "print(new_url.path) # /search\n",
        "print(new_url.query_string) # q=machine learning"
      ],
      "execution_count": 5,
      "outputs": [
        {
          "output_type": "stream",
          "text": [
            "https://github.com/search?q=data+science\n",
            "github.com\n",
            "/search\n",
            "q=data science\n"
          ],
          "name": "stdout"
        }
      ]
    },
    {
      "cell_type": "code",
      "metadata": {
        "id": "v1kehs9PdNj2"
      },
      "source": [
        ""
      ],
      "execution_count": null,
      "outputs": []
    }
  ]
}