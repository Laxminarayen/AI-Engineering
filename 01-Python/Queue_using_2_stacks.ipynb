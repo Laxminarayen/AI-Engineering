{
  "nbformat": 4,
  "nbformat_minor": 0,
  "metadata": {
    "colab": {
      "name": "Queue using 2 stacks.ipynb",
      "provenance": [],
      "authorship_tag": "ABX9TyNNJutOYRqb3AHpU6uHruK6",
      "include_colab_link": true
    },
    "kernelspec": {
      "name": "python3",
      "display_name": "Python 3"
    },
    "language_info": {
      "name": "python"
    }
  },
  "cells": [
    {
      "cell_type": "markdown",
      "metadata": {
        "id": "view-in-github",
        "colab_type": "text"
      },
      "source": [
        "<a href=\"https://colab.research.google.com/github/plthiyagu/AI-Engineering/blob/master/01-Python/Queue_using_2_stacks.ipynb\" target=\"_parent\"><img src=\"https://colab.research.google.com/assets/colab-badge.svg\" alt=\"Open In Colab\"/></a>"
      ]
    },
    {
      "cell_type": "code",
      "metadata": {
        "id": "DS84UAlkPyUA"
      },
      "source": [
        "class Queue2Stacks(object):\n",
        "  def __init__(self):\n",
        "    self.instack=[]\n",
        "    self.outstack =[]\n",
        "  def enqueue(self,element):\n",
        "    self.instack.append(element)\n",
        "  def dequeue(self):\n",
        "    #if outstack is empty then fill it\n",
        "    if len(self.outstack)==0:\n",
        "        #pop from in and push in instack\n",
        "        while len(self.instack):\n",
        "            self.outstack.append(self.instack.pop())\n",
        "    return self.outstack.pop()"
      ],
      "execution_count": 1,
      "outputs": []
    },
    {
      "cell_type": "code",
      "metadata": {
        "id": "GPabnXAoVvJf"
      },
      "source": [
        "q= Queue2Stacks()"
      ],
      "execution_count": 2,
      "outputs": []
    },
    {
      "cell_type": "code",
      "metadata": {
        "id": "s51l1L-SV14n"
      },
      "source": [
        "q.enqueue(1)"
      ],
      "execution_count": 3,
      "outputs": []
    },
    {
      "cell_type": "code",
      "metadata": {
        "colab": {
          "base_uri": "https://localhost:8080/"
        },
        "id": "WlcQhISwV38G",
        "outputId": "7cde38ca-2457-4d7c-f834-5b44f5163a4f"
      },
      "source": [
        "q.dequeue()"
      ],
      "execution_count": 5,
      "outputs": [
        {
          "output_type": "execute_result",
          "data": {
            "text/plain": [
              "1"
            ]
          },
          "metadata": {
            "tags": []
          },
          "execution_count": 5
        }
      ]
    },
    {
      "cell_type": "code",
      "metadata": {
        "id": "iAVSwpNHV52R"
      },
      "source": [
        ""
      ],
      "execution_count": null,
      "outputs": []
    }
  ]
}