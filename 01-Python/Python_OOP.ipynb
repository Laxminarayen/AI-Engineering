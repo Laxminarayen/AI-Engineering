{
  "nbformat": 4,
  "nbformat_minor": 0,
  "metadata": {
    "colab": {
      "name": "Python OOP.ipynb",
      "provenance": [],
      "authorship_tag": "ABX9TyMeqvMTxseIa4rM06E7/oMZ",
      "include_colab_link": true
    },
    "kernelspec": {
      "name": "python3",
      "display_name": "Python 3"
    },
    "language_info": {
      "name": "python"
    }
  },
  "cells": [
    {
      "cell_type": "markdown",
      "metadata": {
        "id": "view-in-github",
        "colab_type": "text"
      },
      "source": [
        "<a href=\"https://colab.research.google.com/github/plthiyagu/AI-Engineering/blob/master/01-Python/Python_OOP.ipynb\" target=\"_parent\"><img src=\"https://colab.research.google.com/assets/colab-badge.svg\" alt=\"Open In Colab\"/></a>"
      ]
    },
    {
      "cell_type": "code",
      "metadata": {
        "id": "Ycpmdo-Wxil5"
      },
      "source": [
        "class ClassA:\n",
        "  def __init__(self):\n",
        "    print(\"In class A init\")\n",
        "\n",
        "  def classA_method(self):\n",
        "    print(\"Class A method\")\n",
        "\n",
        "\n",
        "class ClassB(ClassA):\n",
        "\n",
        "  def classB_method(self):\n",
        "    print(\"Class B method\")"
      ],
      "execution_count": 1,
      "outputs": []
    },
    {
      "cell_type": "code",
      "metadata": {
        "colab": {
          "base_uri": "https://localhost:8080/",
          "height": 265
        },
        "id": "gpaYBovDxw8j",
        "outputId": "7401c985-c8f7-4f33-9629-25be0a0945a5"
      },
      "source": [
        "objA = ClassA()\n",
        "objA.classA_method()\n",
        "objA.classB_method()\n",
        "\n",
        "objB = ClassB()\n",
        "objB.classA_method()\n",
        "objB.classB_method()\n"
      ],
      "execution_count": 2,
      "outputs": [
        {
          "output_type": "stream",
          "text": [
            "In class A init\n",
            "Class A method\n"
          ],
          "name": "stdout"
        },
        {
          "output_type": "error",
          "ename": "AttributeError",
          "evalue": "ignored",
          "traceback": [
            "\u001b[0;31m---------------------------------------------------------------------------\u001b[0m",
            "\u001b[0;31mAttributeError\u001b[0m                            Traceback (most recent call last)",
            "\u001b[0;32m<ipython-input-2-2fb8afe35486>\u001b[0m in \u001b[0;36m<module>\u001b[0;34m()\u001b[0m\n\u001b[1;32m      1\u001b[0m \u001b[0mobjA\u001b[0m \u001b[0;34m=\u001b[0m \u001b[0mClassA\u001b[0m\u001b[0;34m(\u001b[0m\u001b[0;34m)\u001b[0m\u001b[0;34m\u001b[0m\u001b[0;34m\u001b[0m\u001b[0m\n\u001b[1;32m      2\u001b[0m \u001b[0mobjA\u001b[0m\u001b[0;34m.\u001b[0m\u001b[0mclassA_method\u001b[0m\u001b[0;34m(\u001b[0m\u001b[0;34m)\u001b[0m\u001b[0;34m\u001b[0m\u001b[0;34m\u001b[0m\u001b[0m\n\u001b[0;32m----> 3\u001b[0;31m \u001b[0mobjA\u001b[0m\u001b[0;34m.\u001b[0m\u001b[0mclassB_method\u001b[0m\u001b[0;34m(\u001b[0m\u001b[0;34m)\u001b[0m\u001b[0;34m\u001b[0m\u001b[0;34m\u001b[0m\u001b[0m\n\u001b[0m\u001b[1;32m      4\u001b[0m \u001b[0;34m\u001b[0m\u001b[0m\n\u001b[1;32m      5\u001b[0m \u001b[0mobjB\u001b[0m \u001b[0;34m=\u001b[0m \u001b[0mClassB\u001b[0m\u001b[0;34m(\u001b[0m\u001b[0;34m)\u001b[0m\u001b[0;34m\u001b[0m\u001b[0;34m\u001b[0m\u001b[0m\n",
            "\u001b[0;31mAttributeError\u001b[0m: 'ClassA' object has no attribute 'classB_method'"
          ]
        }
      ]
    },
    {
      "cell_type": "code",
      "metadata": {
        "id": "88m7NTnwx4Sv"
      },
      "source": [
        "class ClassA:\n",
        "  def __init__(self):\n",
        "    print(\"In class A init\")\n",
        "\n",
        "  def classA_method(self):\n",
        "    print(\"Class A method\")\n",
        "\n",
        "class ClassB(ClassA):\n",
        "  def __init__(self):\n",
        "    print(\"In class B init\")\n",
        "  def classB_method(self):\n",
        "    print(\"Class B method\")"
      ],
      "execution_count": 4,
      "outputs": []
    },
    {
      "cell_type": "code",
      "metadata": {
        "colab": {
          "base_uri": "https://localhost:8080/"
        },
        "id": "3sezKuHiyf3F",
        "outputId": "c0cf836a-876d-4660-cfe2-fe435b87f175"
      },
      "source": [
        "objB = ClassB()"
      ],
      "execution_count": 5,
      "outputs": [
        {
          "output_type": "stream",
          "text": [
            "In class B init\n"
          ],
          "name": "stdout"
        }
      ]
    },
    {
      "cell_type": "code",
      "metadata": {
        "colab": {
          "base_uri": "https://localhost:8080/"
        },
        "id": "aVRsl-R3yg91",
        "outputId": "dfbbc696-f70d-40a2-e0c9-5e37289ff03c"
      },
      "source": [
        "class ClassA:\n",
        "  def __init__(self):\n",
        "    print(\"In class A init\")\n",
        "  def classA_method(self):\n",
        "    print(\"Class A method\")\n",
        "\n",
        "\n",
        "class ClassB(ClassA):\n",
        "  def __init__(self):\n",
        "    print(\"In class B init\")\n",
        "    super().__init__()\n",
        "  def classB_method(self):\n",
        "    print(\"Class B method\")\n",
        "\n",
        "\n",
        "objB = ClassB()\n"
      ],
      "execution_count": 6,
      "outputs": [
        {
          "output_type": "stream",
          "text": [
            "In class B init\n",
            "In class A init\n"
          ],
          "name": "stdout"
        }
      ]
    },
    {
      "cell_type": "code",
      "metadata": {
        "id": "lIqQRJuxy6Fu"
      },
      "source": [
        "class ClassA:\n",
        "  def __init__(self):\n",
        "    print(\"In class A init\")\n",
        "  def classA_method(self):\n",
        "    print(\"Class A method\")\n",
        "class ClassB(ClassA):\n",
        "  def __init__(self):\n",
        "    print(\"In Class B init\")\n",
        "    super().__init__()\n",
        "  def classB_method(self):\n",
        "    print(\"Class B method\")\n",
        "class ClassC(ClassB):\n",
        "  def __init__(self):\n",
        "    print(\"In Class C init\")\n",
        "    super().__init__()\n",
        "  def classC_method(self):\n",
        "    print(\"Class C method\")"
      ],
      "execution_count": 8,
      "outputs": []
    },
    {
      "cell_type": "code",
      "metadata": {
        "colab": {
          "base_uri": "https://localhost:8080/"
        },
        "id": "A4Pb9W-uydEu",
        "outputId": "8ec03e92-b492-457d-c8b7-981d77744304"
      },
      "source": [
        "objectC = ClassC()"
      ],
      "execution_count": 9,
      "outputs": [
        {
          "output_type": "stream",
          "text": [
            "In Class C init\n",
            "In Class B init\n",
            "In class A init\n"
          ],
          "name": "stdout"
        }
      ]
    },
    {
      "cell_type": "code",
      "metadata": {
        "id": "1GlgGYFqz0fv"
      },
      "source": [
        "class A():\n",
        "    def detail(self):\n",
        "        print(\"I am a class A method\")\n",
        "class B(A):\n",
        "    def detail(self):\n",
        "        print(\"I overrode the detail method of Class A method\")"
      ],
      "execution_count": 10,
      "outputs": []
    },
    {
      "cell_type": "code",
      "metadata": {
        "id": "FubTIdsjz6Y5"
      },
      "source": [
        "class adder:\n",
        "  def __init__(self, x):\n",
        "    self.x = x\n"
      ],
      "execution_count": 11,
      "outputs": []
    },
    {
      "cell_type": "code",
      "metadata": {
        "id": "zlWDjHwiz-tH"
      },
      "source": [
        "a = adder(2)\n",
        "b = adder(3)"
      ],
      "execution_count": 12,
      "outputs": []
    },
    {
      "cell_type": "code",
      "metadata": {
        "colab": {
          "base_uri": "https://localhost:8080/",
          "height": 163
        },
        "id": "tuuw0zTu0Bup",
        "outputId": "2b7b135f-cd60-44aa-c9e0-f1ee8ffbd0d4"
      },
      "source": [
        "a+b"
      ],
      "execution_count": 13,
      "outputs": [
        {
          "output_type": "error",
          "ename": "TypeError",
          "evalue": "ignored",
          "traceback": [
            "\u001b[0;31m---------------------------------------------------------------------------\u001b[0m",
            "\u001b[0;31mTypeError\u001b[0m                                 Traceback (most recent call last)",
            "\u001b[0;32m<ipython-input-13-ca730b97bf8a>\u001b[0m in \u001b[0;36m<module>\u001b[0;34m()\u001b[0m\n\u001b[0;32m----> 1\u001b[0;31m \u001b[0ma\u001b[0m\u001b[0;34m+\u001b[0m\u001b[0mb\u001b[0m\u001b[0;34m\u001b[0m\u001b[0;34m\u001b[0m\u001b[0m\n\u001b[0m",
            "\u001b[0;31mTypeError\u001b[0m: unsupported operand type(s) for +: 'adder' and 'adder'"
          ]
        }
      ]
    },
    {
      "cell_type": "code",
      "metadata": {
        "id": "lXi2kHPp0CaS"
      },
      "source": [
        ""
      ],
      "execution_count": null,
      "outputs": []
    }
  ]
}