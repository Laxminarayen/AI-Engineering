{
  "nbformat": 4,
  "nbformat_minor": 0,
  "metadata": {
    "colab": {
      "name": "Just Pandas Things.ipynb",
      "provenance": [],
      "collapsed_sections": [],
      "authorship_tag": "ABX9TyPPu/kIFDyhTUoHdOCxAVzb",
      "include_colab_link": true
    },
    "kernelspec": {
      "name": "python3",
      "display_name": "Python 3"
    }
  },
  "cells": [
    {
      "cell_type": "markdown",
      "metadata": {
        "id": "view-in-github",
        "colab_type": "text"
      },
      "source": [
        "<a href=\"https://colab.research.google.com/github/plthiyagu/AI-Engineering/blob/master/Just_Pandas_Things.ipynb\" target=\"_parent\"><img src=\"https://colab.research.google.com/assets/colab-badge.svg\" alt=\"Open In Colab\"/></a>"
      ]
    },
    {
      "cell_type": "markdown",
      "metadata": {
        "id": "fSgCzBrYQ6iM"
      },
      "source": [
        "https://github.com/chiphuyen/just-pandas-things/blob/master/just-pandas-things.ipynb"
      ]
    },
    {
      "cell_type": "code",
      "metadata": {
        "id": "porSKCkqO0_1"
      },
      "source": [
        "import pandas as pd\n",
        "import numpy as np\n",
        "import matplotlib.pyplot as plt\n",
        "import matplotlib as mpl"
      ],
      "execution_count": 1,
      "outputs": []
    },
    {
      "cell_type": "code",
      "metadata": {
        "id": "gCEmPCstPUGZ"
      },
      "source": [
        "filepath='https://raw.githubusercontent.com/plthiyagu/Personnel/master/Dataset/interviews.csv'\n",
        "df= pd.read_csv(filepath)"
      ],
      "execution_count": 2,
      "outputs": []
    },
    {
      "cell_type": "code",
      "metadata": {
        "id": "3N0re2GwO423",
        "outputId": "8784229a-5d55-4293-d91f-167fa1ed85fb",
        "colab": {
          "base_uri": "https://localhost:8080/"
        }
      },
      "source": [
        "print(df.shape)"
      ],
      "execution_count": 4,
      "outputs": [
        {
          "output_type": "stream",
          "text": [
            "(17654, 10)\n"
          ],
          "name": "stdout"
        }
      ]
    },
    {
      "cell_type": "code",
      "metadata": {
        "id": "uPzehULPPtD9",
        "outputId": "2b496080-1f17-4d24-ab32-fe7b1aeb8d3e",
        "colab": {
          "base_uri": "https://localhost:8080/",
          "height": 204
        }
      },
      "source": [
        "df.head()"
      ],
      "execution_count": 5,
      "outputs": [
        {
          "output_type": "execute_result",
          "data": {
            "text/html": [
              "<div>\n",
              "<style scoped>\n",
              "    .dataframe tbody tr th:only-of-type {\n",
              "        vertical-align: middle;\n",
              "    }\n",
              "\n",
              "    .dataframe tbody tr th {\n",
              "        vertical-align: top;\n",
              "    }\n",
              "\n",
              "    .dataframe thead th {\n",
              "        text-align: right;\n",
              "    }\n",
              "</style>\n",
              "<table border=\"1\" class=\"dataframe\">\n",
              "  <thead>\n",
              "    <tr style=\"text-align: right;\">\n",
              "      <th></th>\n",
              "      <th>Company</th>\n",
              "      <th>Title</th>\n",
              "      <th>Job</th>\n",
              "      <th>Level</th>\n",
              "      <th>Date</th>\n",
              "      <th>Upvotes</th>\n",
              "      <th>Offer</th>\n",
              "      <th>Experience</th>\n",
              "      <th>Difficulty</th>\n",
              "      <th>Review</th>\n",
              "    </tr>\n",
              "  </thead>\n",
              "  <tbody>\n",
              "    <tr>\n",
              "      <th>0</th>\n",
              "      <td>Apple</td>\n",
              "      <td>Software Engineer</td>\n",
              "      <td>Software Engineer</td>\n",
              "      <td>Engineer</td>\n",
              "      <td>Aug 7, 2019</td>\n",
              "      <td>0</td>\n",
              "      <td>No offer</td>\n",
              "      <td>0.0</td>\n",
              "      <td>Medium</td>\n",
              "      <td>Application  I applied through a staffing agen...</td>\n",
              "    </tr>\n",
              "    <tr>\n",
              "      <th>1</th>\n",
              "      <td>Apple</td>\n",
              "      <td>Software Engineer</td>\n",
              "      <td>Software Engineer</td>\n",
              "      <td>Engineer</td>\n",
              "      <td>Aug 8, 2019</td>\n",
              "      <td>0</td>\n",
              "      <td>Accepted offer</td>\n",
              "      <td>1.0</td>\n",
              "      <td>Hard</td>\n",
              "      <td>Application  I applied online. The process too...</td>\n",
              "    </tr>\n",
              "    <tr>\n",
              "      <th>2</th>\n",
              "      <td>Apple</td>\n",
              "      <td>Software Engineer</td>\n",
              "      <td>Software Engineer</td>\n",
              "      <td>Engineer</td>\n",
              "      <td>NaN</td>\n",
              "      <td>0</td>\n",
              "      <td>Declined offer</td>\n",
              "      <td>0.0</td>\n",
              "      <td>Medium</td>\n",
              "      <td>Application  The process took 4 weeks. I inter...</td>\n",
              "    </tr>\n",
              "    <tr>\n",
              "      <th>3</th>\n",
              "      <td>Apple</td>\n",
              "      <td>Software Engineer</td>\n",
              "      <td>Software Engineer</td>\n",
              "      <td>Engineer</td>\n",
              "      <td>NaN</td>\n",
              "      <td>9</td>\n",
              "      <td>Declined offer</td>\n",
              "      <td>-1.0</td>\n",
              "      <td>Medium</td>\n",
              "      <td>Application  The process took a week. I interv...</td>\n",
              "    </tr>\n",
              "    <tr>\n",
              "      <th>4</th>\n",
              "      <td>Apple</td>\n",
              "      <td>Software Engineer</td>\n",
              "      <td>Software Engineer</td>\n",
              "      <td>Engineer</td>\n",
              "      <td>May 29, 2009</td>\n",
              "      <td>2</td>\n",
              "      <td>No offer</td>\n",
              "      <td>0.0</td>\n",
              "      <td>Medium</td>\n",
              "      <td>Application  I applied through an employee ref...</td>\n",
              "    </tr>\n",
              "  </tbody>\n",
              "</table>\n",
              "</div>"
            ],
            "text/plain": [
              "  Company  ...                                             Review\n",
              "0   Apple  ...  Application  I applied through a staffing agen...\n",
              "1   Apple  ...  Application  I applied online. The process too...\n",
              "2   Apple  ...  Application  The process took 4 weeks. I inter...\n",
              "3   Apple  ...  Application  The process took a week. I interv...\n",
              "4   Apple  ...  Application  I applied through an employee ref...\n",
              "\n",
              "[5 rows x 10 columns]"
            ]
          },
          "metadata": {
            "tags": []
          },
          "execution_count": 5
        }
      ]
    },
    {
      "cell_type": "markdown",
      "metadata": {
        "id": "3tMFQjB6P_g7"
      },
      "source": [
        "pandas is column-major\n",
        "Pandas is built around DataFrame, a concept inspired by R's Data Frame, which is, in turn, similar to tables in relational databases. A DataFrame is a two-dimentional table with rows and columns.\n",
        "\n",
        "One important thing to know about pandas is that it's column-major, which explains many of its quirks.\n",
        "\n",
        "Column-major means consecutive elements in a column are stored next to each other in memory. Row-major means the same but for elements in a row. Because modern computers process sequential data more efficiently than nonsequential data, if a table is row-major, accessing its rows will be much faster than accessing its columns.\n",
        "\n",
        "In NumPy, major order can be specified. When a ndarray is created, it's row-major by default if you don't specify the order.\n",
        "\n",
        "Like R's Data Frame, pandas' DataFrame is column-major. People coming to pandas from NumPy tend to treat DataFrame the way they would ndarray, e.g. trying to access data by rows, and find DataFrame slow.\n",
        "\n",
        "Note: A column in a DataFrame is a Series. You can think of a DataFrame as a bunch of Series being stored next to each other in memory"
      ]
    },
    {
      "cell_type": "code",
      "metadata": {
        "id": "yhN1XdrVPujC",
        "outputId": "84bd258b-a48b-4517-81e5-26fa3ee39a5e",
        "colab": {
          "base_uri": "https://localhost:8080/"
        }
      },
      "source": [
        "# Get the column `date`, 1000 loops\n",
        "%timeit -n1000 df[\"Date\"]\n",
        "\n",
        "# Get the first row, 1000 loops\n",
        "%timeit -n1000 df.iloc[0]"
      ],
      "execution_count": 6,
      "outputs": [
        {
          "output_type": "stream",
          "text": [
            "1000 loops, best of 3: 1.98 µs per loop\n",
            "1000 loops, best of 3: 145 µs per loop\n"
          ],
          "name": "stdout"
        }
      ]
    },
    {
      "cell_type": "markdown",
      "metadata": {
        "id": "LE8dBQLBQ3kO"
      },
      "source": [
        "1.1 Iterating over rows\n",
        "1.1.1 .apply()\n",
        "pandas documentation has a warning box that basically tells you not to iterate over rows because it's slow.\n",
        "\n",
        "Before iterating over rows, think about what you want to do with each row, pack that into a function and use methods like .apply() to apply the function to all rows.\n",
        "\n",
        "For example, to scale the \"Experience\" column by the number of \"Upvotes\" each review has, one way is to iteratate over rows and multiple the \"Upvotes\" value by the \"Experience\" value of that row. But you can also use .apply() with a lambda function.\n",
        "\n"
      ]
    },
    {
      "cell_type": "code",
      "metadata": {
        "id": "bGe1LSubQpTQ",
        "outputId": "cdbdea32-ec7b-4b1a-e38b-c802537fd1c8",
        "colab": {
          "base_uri": "https://localhost:8080/"
        }
      },
      "source": [
        "%timeit -n1 df.apply(lambda x :x[\"Experience\"]* x[\"Upvotes\"],axis=1)"
      ],
      "execution_count": 7,
      "outputs": [
        {
          "output_type": "stream",
          "text": [
            "1 loop, best of 3: 192 ms per loop\n"
          ],
          "name": "stdout"
        }
      ]
    },
    {
      "cell_type": "code",
      "metadata": {
        "id": "HvcVaMP1RKXg",
        "outputId": "b5e155fc-e3db-495e-d800-4ad545e145e6",
        "colab": {
          "base_uri": "https://localhost:8080/"
        }
      },
      "source": [
        "%timeit -n1 [row for index,row in df.iterrows()]"
      ],
      "execution_count": 8,
      "outputs": [
        {
          "output_type": "stream",
          "text": [
            "1 loop, best of 3: 1.34 s per loop\n"
          ],
          "name": "stdout"
        }
      ]
    },
    {
      "cell_type": "code",
      "metadata": {
        "id": "oROmcGw7RYMK",
        "outputId": "7a2f8c9c-2fef-4134-d7bd-9d12afc15092",
        "colab": {
          "base_uri": "https://localhost:8080/"
        }
      },
      "source": [
        "# This is what a row looks like as a pandas object\n",
        "for index,row in df.iterrows():\n",
        "  print(row)\n",
        "  break"
      ],
      "execution_count": 9,
      "outputs": [
        {
          "output_type": "stream",
          "text": [
            "Company                                                   Apple\n",
            "Title                                         Software Engineer\n",
            "Job                                           Software Engineer\n",
            "Level                                                  Engineer\n",
            "Date                                                Aug 7, 2019\n",
            "Upvotes                                                       0\n",
            "Offer                                                  No offer\n",
            "Experience                                                    0\n",
            "Difficulty                                               Medium\n",
            "Review        Application  I applied through a staffing agen...\n",
            "Name: 0, dtype: object\n"
          ],
          "name": "stdout"
        }
      ]
    },
    {
      "cell_type": "code",
      "metadata": {
        "id": "iUiy78wlRiV_",
        "outputId": "eb719dcb-459e-45f2-c384-eb57a7d86322",
        "colab": {
          "base_uri": "https://localhost:8080/"
        }
      },
      "source": [
        "%timeit -n1 [row for row in df.itertuples()]"
      ],
      "execution_count": 10,
      "outputs": [
        {
          "output_type": "stream",
          "text": [
            "1 loop, best of 3: 35.2 ms per loop\n"
          ],
          "name": "stdout"
        }
      ]
    },
    {
      "cell_type": "code",
      "metadata": {
        "id": "gjPKhhOjY5xE",
        "outputId": "93f18010-f83c-4083-bd4c-250268e34c2d",
        "colab": {
          "base_uri": "https://localhost:8080/"
        }
      },
      "source": [
        "for row in df.itertuples():\n",
        "  print(row)\n",
        "  break\n",
        "  "
      ],
      "execution_count": 14,
      "outputs": [
        {
          "output_type": "stream",
          "text": [
            "Pandas(Index=0, Company='Apple', Title='Software Engineer', Job='Software Engineer', Level='Engineer', Date='Aug 7, 2019', Upvotes=0, Offer='No offer', Experience=0.0, Difficulty='Medium', Review='Application  I applied through a staffing agency. I interviewed at Apple (Sunnyvale, CA) in March 2019.  Interview  The interviewer asked me about my background. Asked few questions from the resume. Asked about my proficiency on data structures. Asked me how do you sort hashmap keys based on values.  Interview Questions Write a program that uses two threads to print the numbers from 1 to n.')\n"
          ],
          "name": "stdout"
        }
      ]
    },
    {
      "cell_type": "markdown",
      "metadata": {
        "id": "BKquKUoraw8H"
      },
      "source": [
        "1.1.3 Converting DataFrame to row-major order\n",
        "If you need to do a lot of row operations, you might want to convert your DataFrame to a NumPy's row-major ndarray, then iterating through the rows.\n",
        "\n"
      ]
    },
    {
      "cell_type": "code",
      "metadata": {
        "id": "nNRVSkGKZmWb",
        "outputId": "fbc04bac-7d00-4b10-8811-991fc543a8b7",
        "colab": {
          "base_uri": "https://localhost:8080/"
        }
      },
      "source": [
        "# Now, iterating through our DataFrame is 100x faster.\n",
        "%timeit -n1 df_np= df.to_numpy(); rows = [row for row in df_np]"
      ],
      "execution_count": 17,
      "outputs": [
        {
          "output_type": "stream",
          "text": [
            "1 loop, best of 3: 5.27 ms per loop\n"
          ],
          "name": "stdout"
        }
      ]
    },
    {
      "cell_type": "code",
      "metadata": {
        "id": "k8uhKEkNbM-F",
        "outputId": "1f664a8d-502b-484b-b329-efb25b22b26e",
        "colab": {
          "base_uri": "https://localhost:8080/"
        }
      },
      "source": [
        "df_np = df.to_numpy()\n",
        "%timeit -n1000 df_np[0]\n",
        "%timeit -n1000 df_np[:,0]"
      ],
      "execution_count": 18,
      "outputs": [
        {
          "output_type": "stream",
          "text": [
            "1000 loops, best of 3: 347 ns per loop\n",
            "1000 loops, best of 3: 254 ns per loop\n"
          ],
          "name": "stdout"
        }
      ]
    },
    {
      "cell_type": "markdown",
      "metadata": {
        "id": "YH4ld4aub-59"
      },
      "source": [
        "Because pandas is column-major, if you want to do multiple slicing operations, always do the column-based slicing operations first.\n",
        "\n",
        "For example, if you want to get the review from the first row of the data, there are two slicing operations:\n",
        "\n",
        "get row (row-based operation)\n",
        "get review (column-based operation)\n",
        "Get row -> get review is 25x slower than get review -> get row.\n",
        "\n",
        "Note: You can also just use df.loc[0, \"Review\"] to calculate the memory address to retrieve the item. Its performance is comparable to get review then get row.\n",
        "\n"
      ]
    },
    {
      "cell_type": "code",
      "metadata": {
        "id": "ddPV4K9Zbza8",
        "outputId": "2c0bf53a-182b-4477-a060-56c867f3ba17",
        "colab": {
          "base_uri": "https://localhost:8080/"
        }
      },
      "source": [
        "%timeit -n1000 df[\"Review\"][0]\n",
        "%timeit -n1000 df.iloc[0][\"Review\"]\n",
        "%timeit -n1000 df.loc[0, \"Review\"]"
      ],
      "execution_count": 19,
      "outputs": [
        {
          "output_type": "stream",
          "text": [
            "1000 loops, best of 3: 5.53 µs per loop\n",
            "1000 loops, best of 3: 146 µs per loop\n",
            "1000 loops, best of 3: 6.99 µs per loop\n"
          ],
          "name": "stdout"
        }
      ]
    },
    {
      "cell_type": "code",
      "metadata": {
        "id": "ty9U_NqgcCbH",
        "outputId": "6ef5354f-c6df-4d7e-fd40-2e74745f0126",
        "colab": {
          "base_uri": "https://localhost:8080/",
          "height": 69
        }
      },
      "source": [
        "df[\"Review\"][0]"
      ],
      "execution_count": 20,
      "outputs": [
        {
          "output_type": "execute_result",
          "data": {
            "application/vnd.google.colaboratory.intrinsic+json": {
              "type": "string"
            },
            "text/plain": [
              "'Application  I applied through a staffing agency. I interviewed at Apple (Sunnyvale, CA) in March 2019.  Interview  The interviewer asked me about my background. Asked few questions from the resume. Asked about my proficiency on data structures. Asked me how do you sort hashmap keys based on values.  Interview Questions Write a program that uses two threads to print the numbers from 1 to n.'"
            ]
          },
          "metadata": {
            "tags": []
          },
          "execution_count": 20
        }
      ]
    },
    {
      "cell_type": "code",
      "metadata": {
        "id": "fza5LHtlcQfG",
        "outputId": "12551073-36e0-4696-859b-e93ba0647eb9",
        "colab": {
          "base_uri": "https://localhost:8080/",
          "height": 69
        }
      },
      "source": [
        "df.iloc[0][\"Review\"]"
      ],
      "execution_count": 21,
      "outputs": [
        {
          "output_type": "execute_result",
          "data": {
            "application/vnd.google.colaboratory.intrinsic+json": {
              "type": "string"
            },
            "text/plain": [
              "'Application  I applied through a staffing agency. I interviewed at Apple (Sunnyvale, CA) in March 2019.  Interview  The interviewer asked me about my background. Asked few questions from the resume. Asked about my proficiency on data structures. Asked me how do you sort hashmap keys based on values.  Interview Questions Write a program that uses two threads to print the numbers from 1 to n.'"
            ]
          },
          "metadata": {
            "tags": []
          },
          "execution_count": 21
        }
      ]
    },
    {
      "cell_type": "code",
      "metadata": {
        "id": "SaZ9kl-qcSsR",
        "outputId": "a9bedfc8-dff3-4477-ca74-4c3e856e205d",
        "colab": {
          "base_uri": "https://localhost:8080/",
          "height": 69
        }
      },
      "source": [
        "df.loc[0, \"Review\"]"
      ],
      "execution_count": 22,
      "outputs": [
        {
          "output_type": "execute_result",
          "data": {
            "application/vnd.google.colaboratory.intrinsic+json": {
              "type": "string"
            },
            "text/plain": [
              "'Application  I applied through a staffing agency. I interviewed at Apple (Sunnyvale, CA) in March 2019.  Interview  The interviewer asked me about my background. Asked few questions from the resume. Asked about my proficiency on data structures. Asked me how do you sort hashmap keys based on values.  Interview Questions Write a program that uses two threads to print the numbers from 1 to n.'"
            ]
          },
          "metadata": {
            "tags": []
          },
          "execution_count": 22
        }
      ]
    },
    {
      "cell_type": "markdown",
      "metadata": {
        "id": "TgubNC7Hdh_0"
      },
      "source": [
        "2. SettingWithCopyWarning¶\n",
        "Sometimes, when you try to assign values to a subset of data in a DataFrame, you get SettingWithCopyWarning. Don't ignore the warning because it means sometimes, the assignment works (example 1), but sometimes, it doesn't (example 2).\n",
        "\n"
      ]
    },
    {
      "cell_type": "code",
      "metadata": {
        "id": "UDLgf9A5cWtQ",
        "outputId": "950327a7-6b9d-46e4-f072-d7ad077b5e34",
        "colab": {
          "base_uri": "https://localhost:8080/",
          "height": 165
        }
      },
      "source": [
        "# Example 1: Changing the review of the first row.\n",
        "df[\"Review\"][0] = \"I like Orange better.\"\n",
        "# Even though with the warning, the assignment works. The review is updated.\n",
        "df.head(1)"
      ],
      "execution_count": 23,
      "outputs": [
        {
          "output_type": "stream",
          "text": [
            "/usr/local/lib/python3.6/dist-packages/ipykernel_launcher.py:2: SettingWithCopyWarning: \n",
            "A value is trying to be set on a copy of a slice from a DataFrame\n",
            "\n",
            "See the caveats in the documentation: https://pandas.pydata.org/pandas-docs/stable/user_guide/indexing.html#returning-a-view-versus-a-copy\n",
            "  \n"
          ],
          "name": "stderr"
        },
        {
          "output_type": "execute_result",
          "data": {
            "text/html": [
              "<div>\n",
              "<style scoped>\n",
              "    .dataframe tbody tr th:only-of-type {\n",
              "        vertical-align: middle;\n",
              "    }\n",
              "\n",
              "    .dataframe tbody tr th {\n",
              "        vertical-align: top;\n",
              "    }\n",
              "\n",
              "    .dataframe thead th {\n",
              "        text-align: right;\n",
              "    }\n",
              "</style>\n",
              "<table border=\"1\" class=\"dataframe\">\n",
              "  <thead>\n",
              "    <tr style=\"text-align: right;\">\n",
              "      <th></th>\n",
              "      <th>Company</th>\n",
              "      <th>Title</th>\n",
              "      <th>Job</th>\n",
              "      <th>Level</th>\n",
              "      <th>Date</th>\n",
              "      <th>Upvotes</th>\n",
              "      <th>Offer</th>\n",
              "      <th>Experience</th>\n",
              "      <th>Difficulty</th>\n",
              "      <th>Review</th>\n",
              "    </tr>\n",
              "  </thead>\n",
              "  <tbody>\n",
              "    <tr>\n",
              "      <th>0</th>\n",
              "      <td>Apple</td>\n",
              "      <td>Software Engineer</td>\n",
              "      <td>Software Engineer</td>\n",
              "      <td>Engineer</td>\n",
              "      <td>Aug 7, 2019</td>\n",
              "      <td>0</td>\n",
              "      <td>No offer</td>\n",
              "      <td>0.0</td>\n",
              "      <td>Medium</td>\n",
              "      <td>I like Orange better.</td>\n",
              "    </tr>\n",
              "  </tbody>\n",
              "</table>\n",
              "</div>"
            ],
            "text/plain": [
              "  Company              Title  ... Difficulty                 Review\n",
              "0   Apple  Software Engineer  ...     Medium  I like Orange better.\n",
              "\n",
              "[1 rows x 10 columns]"
            ]
          },
          "metadata": {
            "tags": []
          },
          "execution_count": 23
        }
      ]
    },
    {
      "cell_type": "code",
      "metadata": {
        "id": "lZYfK5pndl0F",
        "outputId": "f389bc08-683c-4252-8fd6-b047071106f7",
        "colab": {
          "base_uri": "https://localhost:8080/",
          "height": 182
        }
      },
      "source": [
        "# Example 2: Changing the company name Apple to Orange.\n",
        "df[df[\"Company\"] == \"Apple\"][\"Company\"] = \"Orange\"\n",
        "# With the warning, the assignment doesn't work. The company name is still Apple.\n",
        "df.head(1)"
      ],
      "execution_count": 24,
      "outputs": [
        {
          "output_type": "stream",
          "text": [
            "/usr/local/lib/python3.6/dist-packages/ipykernel_launcher.py:2: SettingWithCopyWarning: \n",
            "A value is trying to be set on a copy of a slice from a DataFrame.\n",
            "Try using .loc[row_indexer,col_indexer] = value instead\n",
            "\n",
            "See the caveats in the documentation: https://pandas.pydata.org/pandas-docs/stable/user_guide/indexing.html#returning-a-view-versus-a-copy\n",
            "  \n"
          ],
          "name": "stderr"
        },
        {
          "output_type": "execute_result",
          "data": {
            "text/html": [
              "<div>\n",
              "<style scoped>\n",
              "    .dataframe tbody tr th:only-of-type {\n",
              "        vertical-align: middle;\n",
              "    }\n",
              "\n",
              "    .dataframe tbody tr th {\n",
              "        vertical-align: top;\n",
              "    }\n",
              "\n",
              "    .dataframe thead th {\n",
              "        text-align: right;\n",
              "    }\n",
              "</style>\n",
              "<table border=\"1\" class=\"dataframe\">\n",
              "  <thead>\n",
              "    <tr style=\"text-align: right;\">\n",
              "      <th></th>\n",
              "      <th>Company</th>\n",
              "      <th>Title</th>\n",
              "      <th>Job</th>\n",
              "      <th>Level</th>\n",
              "      <th>Date</th>\n",
              "      <th>Upvotes</th>\n",
              "      <th>Offer</th>\n",
              "      <th>Experience</th>\n",
              "      <th>Difficulty</th>\n",
              "      <th>Review</th>\n",
              "    </tr>\n",
              "  </thead>\n",
              "  <tbody>\n",
              "    <tr>\n",
              "      <th>0</th>\n",
              "      <td>Apple</td>\n",
              "      <td>Software Engineer</td>\n",
              "      <td>Software Engineer</td>\n",
              "      <td>Engineer</td>\n",
              "      <td>Aug 7, 2019</td>\n",
              "      <td>0</td>\n",
              "      <td>No offer</td>\n",
              "      <td>0.0</td>\n",
              "      <td>Medium</td>\n",
              "      <td>I like Orange better.</td>\n",
              "    </tr>\n",
              "  </tbody>\n",
              "</table>\n",
              "</div>"
            ],
            "text/plain": [
              "  Company              Title  ... Difficulty                 Review\n",
              "0   Apple  Software Engineer  ...     Medium  I like Orange better.\n",
              "\n",
              "[1 rows x 10 columns]"
            ]
          },
          "metadata": {
            "tags": []
          },
          "execution_count": 24
        }
      ]
    },
    {
      "cell_type": "markdown",
      "metadata": {
        "id": "vgjEE3WMePN_"
      },
      "source": [
        "2.1. View vs. Copy\n",
        "To understand this weird behavior, we need to understand two concepts in pandas: View vs. Copy.\n",
        "\n",
        "View is the actual DataFrame you want to work with.\n",
        "Copy is a copy of that actual DataFrame, which will be thrown away as soon as the operation is done.\n",
        "So if you try to do an assignment on a Copy, the assignment won't work.\n",
        "\n",
        "SettingWithCopyWarning doesn't mean you're making changes to a Copy. It means that the thing you're making changes to might be a Copy or a View, and pandas can't tell you.\n",
        "\n",
        "The ambiguity happens because of __getitem__ operation. __getitem__ sometimes returns a Copy, sometimes a View, and pandas makes no guarantee.\n",
        "\n"
      ]
    },
    {
      "cell_type": "code",
      "metadata": {
        "id": "50UtYBnQdv6d"
      },
      "source": [
        "# df[\"Review\"][0] = \"I like Orange better.\"\n",
        "# can be understood as\n",
        "# `df.__getitem__(\"Review\").__setitem__(0, \"I like Orange better.\")`\n"
      ],
      "execution_count": null,
      "outputs": []
    },
    {
      "cell_type": "code",
      "metadata": {
        "id": "WuJ1JGwjZi6x"
      },
      "source": [
        "# df[df[\"Company\"] == \"Apple\"][\"Company\"] = \"Orange\"\n",
        "# can be understood as\n",
        "# df.__getitem__(where df[\"Company\"] == \"Apple\").__setitem__(\"Company\", \"Orange\")"
      ],
      "execution_count": null,
      "outputs": []
    },
    {
      "cell_type": "markdown",
      "metadata": {
        "id": "_bJutSlleci0"
      },
      "source": [
        "2.2 Solutions\n",
        "2.2.1 Combine all chained operations into one single operation\n",
        "To avoid __getitem__ ambiguity, you can combine all your operations into one single operation. .loc[] is usually great for that.\n",
        "\n"
      ]
    },
    {
      "cell_type": "code",
      "metadata": {
        "id": "wwhbqameZfcQ",
        "outputId": "04a8d77b-365e-432a-f9b5-5c594504baaa",
        "colab": {
          "base_uri": "https://localhost:8080/",
          "height": 204
        }
      },
      "source": [
        "# Changing the review of the first row.\n",
        "df.loc[0, \"Review\"] = \"Orange is love. Orange is life.\"\n",
        "df.head()"
      ],
      "execution_count": 25,
      "outputs": [
        {
          "output_type": "execute_result",
          "data": {
            "text/html": [
              "<div>\n",
              "<style scoped>\n",
              "    .dataframe tbody tr th:only-of-type {\n",
              "        vertical-align: middle;\n",
              "    }\n",
              "\n",
              "    .dataframe tbody tr th {\n",
              "        vertical-align: top;\n",
              "    }\n",
              "\n",
              "    .dataframe thead th {\n",
              "        text-align: right;\n",
              "    }\n",
              "</style>\n",
              "<table border=\"1\" class=\"dataframe\">\n",
              "  <thead>\n",
              "    <tr style=\"text-align: right;\">\n",
              "      <th></th>\n",
              "      <th>Company</th>\n",
              "      <th>Title</th>\n",
              "      <th>Job</th>\n",
              "      <th>Level</th>\n",
              "      <th>Date</th>\n",
              "      <th>Upvotes</th>\n",
              "      <th>Offer</th>\n",
              "      <th>Experience</th>\n",
              "      <th>Difficulty</th>\n",
              "      <th>Review</th>\n",
              "    </tr>\n",
              "  </thead>\n",
              "  <tbody>\n",
              "    <tr>\n",
              "      <th>0</th>\n",
              "      <td>Apple</td>\n",
              "      <td>Software Engineer</td>\n",
              "      <td>Software Engineer</td>\n",
              "      <td>Engineer</td>\n",
              "      <td>Aug 7, 2019</td>\n",
              "      <td>0</td>\n",
              "      <td>No offer</td>\n",
              "      <td>0.0</td>\n",
              "      <td>Medium</td>\n",
              "      <td>Orange is love. Orange is life.</td>\n",
              "    </tr>\n",
              "    <tr>\n",
              "      <th>1</th>\n",
              "      <td>Apple</td>\n",
              "      <td>Software Engineer</td>\n",
              "      <td>Software Engineer</td>\n",
              "      <td>Engineer</td>\n",
              "      <td>Aug 8, 2019</td>\n",
              "      <td>0</td>\n",
              "      <td>Accepted offer</td>\n",
              "      <td>1.0</td>\n",
              "      <td>Hard</td>\n",
              "      <td>Application  I applied online. The process too...</td>\n",
              "    </tr>\n",
              "    <tr>\n",
              "      <th>2</th>\n",
              "      <td>Apple</td>\n",
              "      <td>Software Engineer</td>\n",
              "      <td>Software Engineer</td>\n",
              "      <td>Engineer</td>\n",
              "      <td>NaN</td>\n",
              "      <td>0</td>\n",
              "      <td>Declined offer</td>\n",
              "      <td>0.0</td>\n",
              "      <td>Medium</td>\n",
              "      <td>Application  The process took 4 weeks. I inter...</td>\n",
              "    </tr>\n",
              "    <tr>\n",
              "      <th>3</th>\n",
              "      <td>Apple</td>\n",
              "      <td>Software Engineer</td>\n",
              "      <td>Software Engineer</td>\n",
              "      <td>Engineer</td>\n",
              "      <td>NaN</td>\n",
              "      <td>9</td>\n",
              "      <td>Declined offer</td>\n",
              "      <td>-1.0</td>\n",
              "      <td>Medium</td>\n",
              "      <td>Application  The process took a week. I interv...</td>\n",
              "    </tr>\n",
              "    <tr>\n",
              "      <th>4</th>\n",
              "      <td>Apple</td>\n",
              "      <td>Software Engineer</td>\n",
              "      <td>Software Engineer</td>\n",
              "      <td>Engineer</td>\n",
              "      <td>May 29, 2009</td>\n",
              "      <td>2</td>\n",
              "      <td>No offer</td>\n",
              "      <td>0.0</td>\n",
              "      <td>Medium</td>\n",
              "      <td>Application  I applied through an employee ref...</td>\n",
              "    </tr>\n",
              "  </tbody>\n",
              "</table>\n",
              "</div>"
            ],
            "text/plain": [
              "  Company  ...                                             Review\n",
              "0   Apple  ...                    Orange is love. Orange is life.\n",
              "1   Apple  ...  Application  I applied online. The process too...\n",
              "2   Apple  ...  Application  The process took 4 weeks. I inter...\n",
              "3   Apple  ...  Application  The process took a week. I interv...\n",
              "4   Apple  ...  Application  I applied through an employee ref...\n",
              "\n",
              "[5 rows x 10 columns]"
            ]
          },
          "metadata": {
            "tags": []
          },
          "execution_count": 25
        }
      ]
    },
    {
      "cell_type": "code",
      "metadata": {
        "id": "-GY9rsNIehzz",
        "outputId": "27568991-17b4-44bd-fda0-978e2f0b8762",
        "colab": {
          "base_uri": "https://localhost:8080/",
          "height": 204
        }
      },
      "source": [
        "# Changing the company name Apple to Orange.\n",
        "df.loc[df[\"Company\"] == \"Apple\", \"Company\"] = \"Orange\"\n",
        "df.head()"
      ],
      "execution_count": 26,
      "outputs": [
        {
          "output_type": "execute_result",
          "data": {
            "text/html": [
              "<div>\n",
              "<style scoped>\n",
              "    .dataframe tbody tr th:only-of-type {\n",
              "        vertical-align: middle;\n",
              "    }\n",
              "\n",
              "    .dataframe tbody tr th {\n",
              "        vertical-align: top;\n",
              "    }\n",
              "\n",
              "    .dataframe thead th {\n",
              "        text-align: right;\n",
              "    }\n",
              "</style>\n",
              "<table border=\"1\" class=\"dataframe\">\n",
              "  <thead>\n",
              "    <tr style=\"text-align: right;\">\n",
              "      <th></th>\n",
              "      <th>Company</th>\n",
              "      <th>Title</th>\n",
              "      <th>Job</th>\n",
              "      <th>Level</th>\n",
              "      <th>Date</th>\n",
              "      <th>Upvotes</th>\n",
              "      <th>Offer</th>\n",
              "      <th>Experience</th>\n",
              "      <th>Difficulty</th>\n",
              "      <th>Review</th>\n",
              "    </tr>\n",
              "  </thead>\n",
              "  <tbody>\n",
              "    <tr>\n",
              "      <th>0</th>\n",
              "      <td>Orange</td>\n",
              "      <td>Software Engineer</td>\n",
              "      <td>Software Engineer</td>\n",
              "      <td>Engineer</td>\n",
              "      <td>Aug 7, 2019</td>\n",
              "      <td>0</td>\n",
              "      <td>No offer</td>\n",
              "      <td>0.0</td>\n",
              "      <td>Medium</td>\n",
              "      <td>Orange is love. Orange is life.</td>\n",
              "    </tr>\n",
              "    <tr>\n",
              "      <th>1</th>\n",
              "      <td>Orange</td>\n",
              "      <td>Software Engineer</td>\n",
              "      <td>Software Engineer</td>\n",
              "      <td>Engineer</td>\n",
              "      <td>Aug 8, 2019</td>\n",
              "      <td>0</td>\n",
              "      <td>Accepted offer</td>\n",
              "      <td>1.0</td>\n",
              "      <td>Hard</td>\n",
              "      <td>Application  I applied online. The process too...</td>\n",
              "    </tr>\n",
              "    <tr>\n",
              "      <th>2</th>\n",
              "      <td>Orange</td>\n",
              "      <td>Software Engineer</td>\n",
              "      <td>Software Engineer</td>\n",
              "      <td>Engineer</td>\n",
              "      <td>NaN</td>\n",
              "      <td>0</td>\n",
              "      <td>Declined offer</td>\n",
              "      <td>0.0</td>\n",
              "      <td>Medium</td>\n",
              "      <td>Application  The process took 4 weeks. I inter...</td>\n",
              "    </tr>\n",
              "    <tr>\n",
              "      <th>3</th>\n",
              "      <td>Orange</td>\n",
              "      <td>Software Engineer</td>\n",
              "      <td>Software Engineer</td>\n",
              "      <td>Engineer</td>\n",
              "      <td>NaN</td>\n",
              "      <td>9</td>\n",
              "      <td>Declined offer</td>\n",
              "      <td>-1.0</td>\n",
              "      <td>Medium</td>\n",
              "      <td>Application  The process took a week. I interv...</td>\n",
              "    </tr>\n",
              "    <tr>\n",
              "      <th>4</th>\n",
              "      <td>Orange</td>\n",
              "      <td>Software Engineer</td>\n",
              "      <td>Software Engineer</td>\n",
              "      <td>Engineer</td>\n",
              "      <td>May 29, 2009</td>\n",
              "      <td>2</td>\n",
              "      <td>No offer</td>\n",
              "      <td>0.0</td>\n",
              "      <td>Medium</td>\n",
              "      <td>Application  I applied through an employee ref...</td>\n",
              "    </tr>\n",
              "  </tbody>\n",
              "</table>\n",
              "</div>"
            ],
            "text/plain": [
              "  Company  ...                                             Review\n",
              "0  Orange  ...                    Orange is love. Orange is life.\n",
              "1  Orange  ...  Application  I applied online. The process too...\n",
              "2  Orange  ...  Application  The process took 4 weeks. I inter...\n",
              "3  Orange  ...  Application  The process took a week. I interv...\n",
              "4  Orange  ...  Application  I applied through an employee ref...\n",
              "\n",
              "[5 rows x 10 columns]"
            ]
          },
          "metadata": {
            "tags": []
          },
          "execution_count": 26
        }
      ]
    },
    {
      "cell_type": "markdown",
      "metadata": {
        "id": "0fTFM63Aex2g"
      },
      "source": [
        "2.2.2 Raise an error\n",
        "I believe SettingWithCopyWarning should be an Exception instead of a warning. You can change this warning into an exception with pandas' magic set_option().\n",
        "\n"
      ]
    },
    {
      "cell_type": "code",
      "metadata": {
        "id": "zz03E6ECeta2"
      },
      "source": [
        "pd.set_option(\"mode.chained_assignment\", \"raise\")\n",
        "# Running this will show you an Exception\n",
        "# df[\"Review\"][0] = \"I like Orange better.\""
      ],
      "execution_count": 27,
      "outputs": []
    },
    {
      "cell_type": "markdown",
      "metadata": {
        "id": "VmF0qOHEgJSY"
      },
      "source": [
        "3. Indexing and slicing\n",
        "3.1 .iloc[]: selecting rows based on integer indices\n",
        ".iloc[] lets you select rows by integer indices.\n",
        "\n"
      ]
    },
    {
      "cell_type": "code",
      "metadata": {
        "id": "At4ta2fue1fJ",
        "outputId": "8a2df97c-2a52-43f6-eeb7-2b0bc4ed296d",
        "colab": {
          "base_uri": "https://localhost:8080/"
        }
      },
      "source": [
        "# Accessing the third row of a `DataFrame`.\n",
        "df.iloc[3]"
      ],
      "execution_count": 28,
      "outputs": [
        {
          "output_type": "execute_result",
          "data": {
            "text/plain": [
              "Company                                                  Orange\n",
              "Title                                         Software Engineer\n",
              "Job                                           Software Engineer\n",
              "Level                                                  Engineer\n",
              "Date                                                        NaN\n",
              "Upvotes                                                       9\n",
              "Offer                                            Declined offer\n",
              "Experience                                                   -1\n",
              "Difficulty                                               Medium\n",
              "Review        Application  The process took a week. I interv...\n",
              "Name: 3, dtype: object"
            ]
          },
          "metadata": {
            "tags": []
          },
          "execution_count": 28
        }
      ]
    },
    {
      "cell_type": "code",
      "metadata": {
        "id": "jrvCIIyGgMZB",
        "outputId": "7834290d-f631-4935-fb5f-8aa36336588b",
        "colab": {
          "base_uri": "https://localhost:8080/",
          "height": 235
        }
      },
      "source": [
        "# Selecting the last 6 rows\n",
        "df.iloc[-6:]"
      ],
      "execution_count": 29,
      "outputs": [
        {
          "output_type": "execute_result",
          "data": {
            "text/html": [
              "<div>\n",
              "<style scoped>\n",
              "    .dataframe tbody tr th:only-of-type {\n",
              "        vertical-align: middle;\n",
              "    }\n",
              "\n",
              "    .dataframe tbody tr th {\n",
              "        vertical-align: top;\n",
              "    }\n",
              "\n",
              "    .dataframe thead th {\n",
              "        text-align: right;\n",
              "    }\n",
              "</style>\n",
              "<table border=\"1\" class=\"dataframe\">\n",
              "  <thead>\n",
              "    <tr style=\"text-align: right;\">\n",
              "      <th></th>\n",
              "      <th>Company</th>\n",
              "      <th>Title</th>\n",
              "      <th>Job</th>\n",
              "      <th>Level</th>\n",
              "      <th>Date</th>\n",
              "      <th>Upvotes</th>\n",
              "      <th>Offer</th>\n",
              "      <th>Experience</th>\n",
              "      <th>Difficulty</th>\n",
              "      <th>Review</th>\n",
              "    </tr>\n",
              "  </thead>\n",
              "  <tbody>\n",
              "    <tr>\n",
              "      <th>17648</th>\n",
              "      <td>Tencent</td>\n",
              "      <td>Software Engineer</td>\n",
              "      <td>Software Engineer</td>\n",
              "      <td>Engineer</td>\n",
              "      <td>Nov 4, 2012</td>\n",
              "      <td>0</td>\n",
              "      <td>No offer</td>\n",
              "      <td>NaN</td>\n",
              "      <td>NaN</td>\n",
              "      <td>Application  I applied online. The process too...</td>\n",
              "    </tr>\n",
              "    <tr>\n",
              "      <th>17649</th>\n",
              "      <td>Tencent</td>\n",
              "      <td>Software Engineer</td>\n",
              "      <td>Software Engineer</td>\n",
              "      <td>Engineer</td>\n",
              "      <td>May 25, 2012</td>\n",
              "      <td>0</td>\n",
              "      <td>Declined offer</td>\n",
              "      <td>0.0</td>\n",
              "      <td>Medium</td>\n",
              "      <td>Application  I applied online. The process too...</td>\n",
              "    </tr>\n",
              "    <tr>\n",
              "      <th>17650</th>\n",
              "      <td>Tencent</td>\n",
              "      <td>Software Engineer</td>\n",
              "      <td>Software Engineer</td>\n",
              "      <td>Engineer</td>\n",
              "      <td>Mar 15, 2014</td>\n",
              "      <td>0</td>\n",
              "      <td>No offer</td>\n",
              "      <td>NaN</td>\n",
              "      <td>NaN</td>\n",
              "      <td>Application  I applied through college or univ...</td>\n",
              "    </tr>\n",
              "    <tr>\n",
              "      <th>17651</th>\n",
              "      <td>Tencent</td>\n",
              "      <td>Software Engineer</td>\n",
              "      <td>Software Engineer</td>\n",
              "      <td>Engineer</td>\n",
              "      <td>Sep 22, 2015</td>\n",
              "      <td>0</td>\n",
              "      <td>Accepted offer</td>\n",
              "      <td>1.0</td>\n",
              "      <td>Medium</td>\n",
              "      <td>Application  I applied through college or univ...</td>\n",
              "    </tr>\n",
              "    <tr>\n",
              "      <th>17652</th>\n",
              "      <td>Tencent</td>\n",
              "      <td>Software Engineer</td>\n",
              "      <td>Software Engineer</td>\n",
              "      <td>Engineer</td>\n",
              "      <td>Jul 4, 2017</td>\n",
              "      <td>0</td>\n",
              "      <td>Declined offer</td>\n",
              "      <td>1.0</td>\n",
              "      <td>Medium</td>\n",
              "      <td>Application  I applied through college or univ...</td>\n",
              "    </tr>\n",
              "    <tr>\n",
              "      <th>17653</th>\n",
              "      <td>Tencent</td>\n",
              "      <td>Software Engineer</td>\n",
              "      <td>Software Engineer</td>\n",
              "      <td>Engineer</td>\n",
              "      <td>Sep 30, 2016</td>\n",
              "      <td>0</td>\n",
              "      <td>Declined offer</td>\n",
              "      <td>0.0</td>\n",
              "      <td>Easy</td>\n",
              "      <td>Application  I applied online. The process too...</td>\n",
              "    </tr>\n",
              "  </tbody>\n",
              "</table>\n",
              "</div>"
            ],
            "text/plain": [
              "       Company  ...                                             Review\n",
              "17648  Tencent  ...  Application  I applied online. The process too...\n",
              "17649  Tencent  ...  Application  I applied online. The process too...\n",
              "17650  Tencent  ...  Application  I applied through college or univ...\n",
              "17651  Tencent  ...  Application  I applied through college or univ...\n",
              "17652  Tencent  ...  Application  I applied through college or univ...\n",
              "17653  Tencent  ...  Application  I applied online. The process too...\n",
              "\n",
              "[6 rows x 10 columns]"
            ]
          },
          "metadata": {
            "tags": []
          },
          "execution_count": 29
        }
      ]
    },
    {
      "cell_type": "code",
      "metadata": {
        "id": "q67mfeMpgPn_",
        "outputId": "d3e5d002-abd2-44d6-ddef-2c2680e8a78b",
        "colab": {
          "base_uri": "https://localhost:8080/",
          "height": 142
        }
      },
      "source": [
        "# Selecting the last 6 rows, skipping every other row\n",
        "df.iloc[-6::2]"
      ],
      "execution_count": 30,
      "outputs": [
        {
          "output_type": "execute_result",
          "data": {
            "text/html": [
              "<div>\n",
              "<style scoped>\n",
              "    .dataframe tbody tr th:only-of-type {\n",
              "        vertical-align: middle;\n",
              "    }\n",
              "\n",
              "    .dataframe tbody tr th {\n",
              "        vertical-align: top;\n",
              "    }\n",
              "\n",
              "    .dataframe thead th {\n",
              "        text-align: right;\n",
              "    }\n",
              "</style>\n",
              "<table border=\"1\" class=\"dataframe\">\n",
              "  <thead>\n",
              "    <tr style=\"text-align: right;\">\n",
              "      <th></th>\n",
              "      <th>Company</th>\n",
              "      <th>Title</th>\n",
              "      <th>Job</th>\n",
              "      <th>Level</th>\n",
              "      <th>Date</th>\n",
              "      <th>Upvotes</th>\n",
              "      <th>Offer</th>\n",
              "      <th>Experience</th>\n",
              "      <th>Difficulty</th>\n",
              "      <th>Review</th>\n",
              "    </tr>\n",
              "  </thead>\n",
              "  <tbody>\n",
              "    <tr>\n",
              "      <th>17648</th>\n",
              "      <td>Tencent</td>\n",
              "      <td>Software Engineer</td>\n",
              "      <td>Software Engineer</td>\n",
              "      <td>Engineer</td>\n",
              "      <td>Nov 4, 2012</td>\n",
              "      <td>0</td>\n",
              "      <td>No offer</td>\n",
              "      <td>NaN</td>\n",
              "      <td>NaN</td>\n",
              "      <td>Application  I applied online. The process too...</td>\n",
              "    </tr>\n",
              "    <tr>\n",
              "      <th>17650</th>\n",
              "      <td>Tencent</td>\n",
              "      <td>Software Engineer</td>\n",
              "      <td>Software Engineer</td>\n",
              "      <td>Engineer</td>\n",
              "      <td>Mar 15, 2014</td>\n",
              "      <td>0</td>\n",
              "      <td>No offer</td>\n",
              "      <td>NaN</td>\n",
              "      <td>NaN</td>\n",
              "      <td>Application  I applied through college or univ...</td>\n",
              "    </tr>\n",
              "    <tr>\n",
              "      <th>17652</th>\n",
              "      <td>Tencent</td>\n",
              "      <td>Software Engineer</td>\n",
              "      <td>Software Engineer</td>\n",
              "      <td>Engineer</td>\n",
              "      <td>Jul 4, 2017</td>\n",
              "      <td>0</td>\n",
              "      <td>Declined offer</td>\n",
              "      <td>1.0</td>\n",
              "      <td>Medium</td>\n",
              "      <td>Application  I applied through college or univ...</td>\n",
              "    </tr>\n",
              "  </tbody>\n",
              "</table>\n",
              "</div>"
            ],
            "text/plain": [
              "       Company  ...                                             Review\n",
              "17648  Tencent  ...  Application  I applied online. The process too...\n",
              "17650  Tencent  ...  Application  I applied through college or univ...\n",
              "17652  Tencent  ...  Application  I applied through college or univ...\n",
              "\n",
              "[3 rows x 10 columns]"
            ]
          },
          "metadata": {
            "tags": []
          },
          "execution_count": 30
        }
      ]
    },
    {
      "cell_type": "markdown",
      "metadata": {
        "id": "yTJN2tJZgYpT"
      },
      "source": [
        "3.2 .loc[]: selecting rows by labels or boolean masks\n",
        ".loc[] lets you select rows based on one of the two things:\n",
        "\n",
        "boolean masks\n",
        "labels\n",
        "3.2.1 Selecting rows by boolean masks\n",
        "If you want to select all the rows where candidates declined offer, you can do it with two steps:\n",
        "\n",
        "Create a boolean mask on whether the \"Offer\" column equals to \"Declined offer\"\n",
        "Use that mask to select rows\n"
      ]
    },
    {
      "cell_type": "code",
      "metadata": {
        "id": "2g_wf_GjgUX8",
        "outputId": "d458679d-4165-4175-942d-8df873539664",
        "colab": {
          "base_uri": "https://localhost:8080/",
          "height": 419
        }
      },
      "source": [
        "df.loc[df[\"Offer\"] == \"Declined offer\"]\n",
        "# This is equivalent to:\n",
        "# mask = df[\"Offer\"] == \"Declined offer\"\n",
        "# df.loc[mask]"
      ],
      "execution_count": 31,
      "outputs": [
        {
          "output_type": "execute_result",
          "data": {
            "text/html": [
              "<div>\n",
              "<style scoped>\n",
              "    .dataframe tbody tr th:only-of-type {\n",
              "        vertical-align: middle;\n",
              "    }\n",
              "\n",
              "    .dataframe tbody tr th {\n",
              "        vertical-align: top;\n",
              "    }\n",
              "\n",
              "    .dataframe thead th {\n",
              "        text-align: right;\n",
              "    }\n",
              "</style>\n",
              "<table border=\"1\" class=\"dataframe\">\n",
              "  <thead>\n",
              "    <tr style=\"text-align: right;\">\n",
              "      <th></th>\n",
              "      <th>Company</th>\n",
              "      <th>Title</th>\n",
              "      <th>Job</th>\n",
              "      <th>Level</th>\n",
              "      <th>Date</th>\n",
              "      <th>Upvotes</th>\n",
              "      <th>Offer</th>\n",
              "      <th>Experience</th>\n",
              "      <th>Difficulty</th>\n",
              "      <th>Review</th>\n",
              "    </tr>\n",
              "  </thead>\n",
              "  <tbody>\n",
              "    <tr>\n",
              "      <th>2</th>\n",
              "      <td>Orange</td>\n",
              "      <td>Software Engineer</td>\n",
              "      <td>Software Engineer</td>\n",
              "      <td>Engineer</td>\n",
              "      <td>NaN</td>\n",
              "      <td>0</td>\n",
              "      <td>Declined offer</td>\n",
              "      <td>0.0</td>\n",
              "      <td>Medium</td>\n",
              "      <td>Application  The process took 4 weeks. I inter...</td>\n",
              "    </tr>\n",
              "    <tr>\n",
              "      <th>3</th>\n",
              "      <td>Orange</td>\n",
              "      <td>Software Engineer</td>\n",
              "      <td>Software Engineer</td>\n",
              "      <td>Engineer</td>\n",
              "      <td>NaN</td>\n",
              "      <td>9</td>\n",
              "      <td>Declined offer</td>\n",
              "      <td>-1.0</td>\n",
              "      <td>Medium</td>\n",
              "      <td>Application  The process took a week. I interv...</td>\n",
              "    </tr>\n",
              "    <tr>\n",
              "      <th>7</th>\n",
              "      <td>Orange</td>\n",
              "      <td>Software Engineer</td>\n",
              "      <td>Software Engineer</td>\n",
              "      <td>Engineer</td>\n",
              "      <td>Jul 26, 2019</td>\n",
              "      <td>1</td>\n",
              "      <td>Declined offer</td>\n",
              "      <td>-1.0</td>\n",
              "      <td>Medium</td>\n",
              "      <td>Application  The process took 4+ weeks. I inte...</td>\n",
              "    </tr>\n",
              "    <tr>\n",
              "      <th>17</th>\n",
              "      <td>Orange</td>\n",
              "      <td>Software Engineer</td>\n",
              "      <td>Software Engineer</td>\n",
              "      <td>Engineer</td>\n",
              "      <td>Feb 27, 2010</td>\n",
              "      <td>7</td>\n",
              "      <td>Declined offer</td>\n",
              "      <td>-1.0</td>\n",
              "      <td>Medium</td>\n",
              "      <td>Application  The process took 1 day. I intervi...</td>\n",
              "    </tr>\n",
              "    <tr>\n",
              "      <th>65</th>\n",
              "      <td>Orange</td>\n",
              "      <td>Software Engineer</td>\n",
              "      <td>Software Engineer</td>\n",
              "      <td>Engineer</td>\n",
              "      <td>May 6, 2012</td>\n",
              "      <td>1</td>\n",
              "      <td>Declined offer</td>\n",
              "      <td>1.0</td>\n",
              "      <td>Easy</td>\n",
              "      <td>Application  The process took 2 days. I interv...</td>\n",
              "    </tr>\n",
              "    <tr>\n",
              "      <th>...</th>\n",
              "      <td>...</td>\n",
              "      <td>...</td>\n",
              "      <td>...</td>\n",
              "      <td>...</td>\n",
              "      <td>...</td>\n",
              "      <td>...</td>\n",
              "      <td>...</td>\n",
              "      <td>...</td>\n",
              "      <td>...</td>\n",
              "      <td>...</td>\n",
              "    </tr>\n",
              "    <tr>\n",
              "      <th>17643</th>\n",
              "      <td>Tencent</td>\n",
              "      <td>Software Engineer</td>\n",
              "      <td>Software Engineer</td>\n",
              "      <td>Engineer</td>\n",
              "      <td>Apr 9, 2016</td>\n",
              "      <td>0</td>\n",
              "      <td>Declined offer</td>\n",
              "      <td>1.0</td>\n",
              "      <td>Medium</td>\n",
              "      <td>Application  I applied online. I interviewed a...</td>\n",
              "    </tr>\n",
              "    <tr>\n",
              "      <th>17646</th>\n",
              "      <td>Tencent</td>\n",
              "      <td>Software Engineer</td>\n",
              "      <td>Software Engineer</td>\n",
              "      <td>Engineer</td>\n",
              "      <td>May 28, 2010</td>\n",
              "      <td>0</td>\n",
              "      <td>Declined offer</td>\n",
              "      <td>0.0</td>\n",
              "      <td>Easy</td>\n",
              "      <td>Application  I applied through an employee ref...</td>\n",
              "    </tr>\n",
              "    <tr>\n",
              "      <th>17649</th>\n",
              "      <td>Tencent</td>\n",
              "      <td>Software Engineer</td>\n",
              "      <td>Software Engineer</td>\n",
              "      <td>Engineer</td>\n",
              "      <td>May 25, 2012</td>\n",
              "      <td>0</td>\n",
              "      <td>Declined offer</td>\n",
              "      <td>0.0</td>\n",
              "      <td>Medium</td>\n",
              "      <td>Application  I applied online. The process too...</td>\n",
              "    </tr>\n",
              "    <tr>\n",
              "      <th>17652</th>\n",
              "      <td>Tencent</td>\n",
              "      <td>Software Engineer</td>\n",
              "      <td>Software Engineer</td>\n",
              "      <td>Engineer</td>\n",
              "      <td>Jul 4, 2017</td>\n",
              "      <td>0</td>\n",
              "      <td>Declined offer</td>\n",
              "      <td>1.0</td>\n",
              "      <td>Medium</td>\n",
              "      <td>Application  I applied through college or univ...</td>\n",
              "    </tr>\n",
              "    <tr>\n",
              "      <th>17653</th>\n",
              "      <td>Tencent</td>\n",
              "      <td>Software Engineer</td>\n",
              "      <td>Software Engineer</td>\n",
              "      <td>Engineer</td>\n",
              "      <td>Sep 30, 2016</td>\n",
              "      <td>0</td>\n",
              "      <td>Declined offer</td>\n",
              "      <td>0.0</td>\n",
              "      <td>Easy</td>\n",
              "      <td>Application  I applied online. The process too...</td>\n",
              "    </tr>\n",
              "  </tbody>\n",
              "</table>\n",
              "<p>1135 rows × 10 columns</p>\n",
              "</div>"
            ],
            "text/plain": [
              "       Company  ...                                             Review\n",
              "2       Orange  ...  Application  The process took 4 weeks. I inter...\n",
              "3       Orange  ...  Application  The process took a week. I interv...\n",
              "7       Orange  ...  Application  The process took 4+ weeks. I inte...\n",
              "17      Orange  ...  Application  The process took 1 day. I intervi...\n",
              "65      Orange  ...  Application  The process took 2 days. I interv...\n",
              "...        ...  ...                                                ...\n",
              "17643  Tencent  ...  Application  I applied online. I interviewed a...\n",
              "17646  Tencent  ...  Application  I applied through an employee ref...\n",
              "17649  Tencent  ...  Application  I applied online. The process too...\n",
              "17652  Tencent  ...  Application  I applied through college or univ...\n",
              "17653  Tencent  ...  Application  I applied online. The process too...\n",
              "\n",
              "[1135 rows x 10 columns]"
            ]
          },
          "metadata": {
            "tags": []
          },
          "execution_count": 31
        }
      ]
    },
    {
      "cell_type": "markdown",
      "metadata": {
        "id": "4FHaXVnehW1w"
      },
      "source": [
        "3.2.2 Selecting rows by labels\n",
        "3.2.2.1 Creating labels\n",
        "Currently, our DataFrame has no labels yet. To create labels, use .set_index().\n",
        "\n",
        "Labels can be integers or strings\n",
        "A DatamFrame can have multiple labels\n"
      ]
    },
    {
      "cell_type": "code",
      "metadata": {
        "id": "V_GGzP2ygdmm",
        "outputId": "fdf7545b-b175-4329-f16f-93f25c68ae31",
        "colab": {
          "base_uri": "https://localhost:8080/",
          "height": 450
        }
      },
      "source": [
        "# Adding label \"Hardware\" if the company name is \"Orange\", \"Dell\", \"IDM\", or \"Siemens\".\n",
        "# \"Orange\" because we changed \"Apple\" to \"Orange\" above.\n",
        "# Adding label \"Software\" otherwise.\n",
        "\n",
        "def company_type(x):\n",
        "    hardware_companies = set([\"Orange\", \"Dell\", \"IBM\", \"Siemens\"])\n",
        "    return \"Hardware\" if x[\"Company\"] in hardware_companies else \"Software\"\n",
        "df[\"Type\"] = df.apply(lambda x: company_type(x), axis=1)\n",
        "\n",
        "# Setting \"Type\" to be labels. We call \"\"\n",
        "df = df.set_index(\"Type\")\n",
        "df\n",
        "# Label columns aren't considered part of the DataFrame's content.\n",
        "# After adding labels to your DataFrame, it still has 10 columns, same as before."
      ],
      "execution_count": 32,
      "outputs": [
        {
          "output_type": "execute_result",
          "data": {
            "text/html": [
              "<div>\n",
              "<style scoped>\n",
              "    .dataframe tbody tr th:only-of-type {\n",
              "        vertical-align: middle;\n",
              "    }\n",
              "\n",
              "    .dataframe tbody tr th {\n",
              "        vertical-align: top;\n",
              "    }\n",
              "\n",
              "    .dataframe thead th {\n",
              "        text-align: right;\n",
              "    }\n",
              "</style>\n",
              "<table border=\"1\" class=\"dataframe\">\n",
              "  <thead>\n",
              "    <tr style=\"text-align: right;\">\n",
              "      <th></th>\n",
              "      <th>Company</th>\n",
              "      <th>Title</th>\n",
              "      <th>Job</th>\n",
              "      <th>Level</th>\n",
              "      <th>Date</th>\n",
              "      <th>Upvotes</th>\n",
              "      <th>Offer</th>\n",
              "      <th>Experience</th>\n",
              "      <th>Difficulty</th>\n",
              "      <th>Review</th>\n",
              "    </tr>\n",
              "    <tr>\n",
              "      <th>Type</th>\n",
              "      <th></th>\n",
              "      <th></th>\n",
              "      <th></th>\n",
              "      <th></th>\n",
              "      <th></th>\n",
              "      <th></th>\n",
              "      <th></th>\n",
              "      <th></th>\n",
              "      <th></th>\n",
              "      <th></th>\n",
              "    </tr>\n",
              "  </thead>\n",
              "  <tbody>\n",
              "    <tr>\n",
              "      <th>Hardware</th>\n",
              "      <td>Orange</td>\n",
              "      <td>Software Engineer</td>\n",
              "      <td>Software Engineer</td>\n",
              "      <td>Engineer</td>\n",
              "      <td>Aug 7, 2019</td>\n",
              "      <td>0</td>\n",
              "      <td>No offer</td>\n",
              "      <td>0.0</td>\n",
              "      <td>Medium</td>\n",
              "      <td>Orange is love. Orange is life.</td>\n",
              "    </tr>\n",
              "    <tr>\n",
              "      <th>Hardware</th>\n",
              "      <td>Orange</td>\n",
              "      <td>Software Engineer</td>\n",
              "      <td>Software Engineer</td>\n",
              "      <td>Engineer</td>\n",
              "      <td>Aug 8, 2019</td>\n",
              "      <td>0</td>\n",
              "      <td>Accepted offer</td>\n",
              "      <td>1.0</td>\n",
              "      <td>Hard</td>\n",
              "      <td>Application  I applied online. The process too...</td>\n",
              "    </tr>\n",
              "    <tr>\n",
              "      <th>Hardware</th>\n",
              "      <td>Orange</td>\n",
              "      <td>Software Engineer</td>\n",
              "      <td>Software Engineer</td>\n",
              "      <td>Engineer</td>\n",
              "      <td>NaN</td>\n",
              "      <td>0</td>\n",
              "      <td>Declined offer</td>\n",
              "      <td>0.0</td>\n",
              "      <td>Medium</td>\n",
              "      <td>Application  The process took 4 weeks. I inter...</td>\n",
              "    </tr>\n",
              "    <tr>\n",
              "      <th>Hardware</th>\n",
              "      <td>Orange</td>\n",
              "      <td>Software Engineer</td>\n",
              "      <td>Software Engineer</td>\n",
              "      <td>Engineer</td>\n",
              "      <td>NaN</td>\n",
              "      <td>9</td>\n",
              "      <td>Declined offer</td>\n",
              "      <td>-1.0</td>\n",
              "      <td>Medium</td>\n",
              "      <td>Application  The process took a week. I interv...</td>\n",
              "    </tr>\n",
              "    <tr>\n",
              "      <th>Hardware</th>\n",
              "      <td>Orange</td>\n",
              "      <td>Software Engineer</td>\n",
              "      <td>Software Engineer</td>\n",
              "      <td>Engineer</td>\n",
              "      <td>May 29, 2009</td>\n",
              "      <td>2</td>\n",
              "      <td>No offer</td>\n",
              "      <td>0.0</td>\n",
              "      <td>Medium</td>\n",
              "      <td>Application  I applied through an employee ref...</td>\n",
              "    </tr>\n",
              "    <tr>\n",
              "      <th>...</th>\n",
              "      <td>...</td>\n",
              "      <td>...</td>\n",
              "      <td>...</td>\n",
              "      <td>...</td>\n",
              "      <td>...</td>\n",
              "      <td>...</td>\n",
              "      <td>...</td>\n",
              "      <td>...</td>\n",
              "      <td>...</td>\n",
              "      <td>...</td>\n",
              "    </tr>\n",
              "    <tr>\n",
              "      <th>Software</th>\n",
              "      <td>Tencent</td>\n",
              "      <td>Software Engineer</td>\n",
              "      <td>Software Engineer</td>\n",
              "      <td>Engineer</td>\n",
              "      <td>May 25, 2012</td>\n",
              "      <td>0</td>\n",
              "      <td>Declined offer</td>\n",
              "      <td>0.0</td>\n",
              "      <td>Medium</td>\n",
              "      <td>Application  I applied online. The process too...</td>\n",
              "    </tr>\n",
              "    <tr>\n",
              "      <th>Software</th>\n",
              "      <td>Tencent</td>\n",
              "      <td>Software Engineer</td>\n",
              "      <td>Software Engineer</td>\n",
              "      <td>Engineer</td>\n",
              "      <td>Mar 15, 2014</td>\n",
              "      <td>0</td>\n",
              "      <td>No offer</td>\n",
              "      <td>NaN</td>\n",
              "      <td>NaN</td>\n",
              "      <td>Application  I applied through college or univ...</td>\n",
              "    </tr>\n",
              "    <tr>\n",
              "      <th>Software</th>\n",
              "      <td>Tencent</td>\n",
              "      <td>Software Engineer</td>\n",
              "      <td>Software Engineer</td>\n",
              "      <td>Engineer</td>\n",
              "      <td>Sep 22, 2015</td>\n",
              "      <td>0</td>\n",
              "      <td>Accepted offer</td>\n",
              "      <td>1.0</td>\n",
              "      <td>Medium</td>\n",
              "      <td>Application  I applied through college or univ...</td>\n",
              "    </tr>\n",
              "    <tr>\n",
              "      <th>Software</th>\n",
              "      <td>Tencent</td>\n",
              "      <td>Software Engineer</td>\n",
              "      <td>Software Engineer</td>\n",
              "      <td>Engineer</td>\n",
              "      <td>Jul 4, 2017</td>\n",
              "      <td>0</td>\n",
              "      <td>Declined offer</td>\n",
              "      <td>1.0</td>\n",
              "      <td>Medium</td>\n",
              "      <td>Application  I applied through college or univ...</td>\n",
              "    </tr>\n",
              "    <tr>\n",
              "      <th>Software</th>\n",
              "      <td>Tencent</td>\n",
              "      <td>Software Engineer</td>\n",
              "      <td>Software Engineer</td>\n",
              "      <td>Engineer</td>\n",
              "      <td>Sep 30, 2016</td>\n",
              "      <td>0</td>\n",
              "      <td>Declined offer</td>\n",
              "      <td>0.0</td>\n",
              "      <td>Easy</td>\n",
              "      <td>Application  I applied online. The process too...</td>\n",
              "    </tr>\n",
              "  </tbody>\n",
              "</table>\n",
              "<p>17654 rows × 10 columns</p>\n",
              "</div>"
            ],
            "text/plain": [
              "          Company  ...                                             Review\n",
              "Type               ...                                                   \n",
              "Hardware   Orange  ...                    Orange is love. Orange is life.\n",
              "Hardware   Orange  ...  Application  I applied online. The process too...\n",
              "Hardware   Orange  ...  Application  The process took 4 weeks. I inter...\n",
              "Hardware   Orange  ...  Application  The process took a week. I interv...\n",
              "Hardware   Orange  ...  Application  I applied through an employee ref...\n",
              "...           ...  ...                                                ...\n",
              "Software  Tencent  ...  Application  I applied online. The process too...\n",
              "Software  Tencent  ...  Application  I applied through college or univ...\n",
              "Software  Tencent  ...  Application  I applied through college or univ...\n",
              "Software  Tencent  ...  Application  I applied through college or univ...\n",
              "Software  Tencent  ...  Application  I applied online. The process too...\n",
              "\n",
              "[17654 rows x 10 columns]"
            ]
          },
          "metadata": {
            "tags": []
          },
          "execution_count": 32
        }
      ]
    },
    {
      "cell_type": "code",
      "metadata": {
        "id": "7f9l6EychdK2",
        "outputId": "2bc3fb9a-83e0-4167-c940-da21026c65a5",
        "colab": {
          "base_uri": "https://localhost:8080/",
          "height": 620
        }
      },
      "source": [
        "# Selecting rows with label \"Hardware\"\n",
        "df.loc[\"Hardware\"]"
      ],
      "execution_count": 33,
      "outputs": [
        {
          "output_type": "execute_result",
          "data": {
            "text/html": [
              "<div>\n",
              "<style scoped>\n",
              "    .dataframe tbody tr th:only-of-type {\n",
              "        vertical-align: middle;\n",
              "    }\n",
              "\n",
              "    .dataframe tbody tr th {\n",
              "        vertical-align: top;\n",
              "    }\n",
              "\n",
              "    .dataframe thead th {\n",
              "        text-align: right;\n",
              "    }\n",
              "</style>\n",
              "<table border=\"1\" class=\"dataframe\">\n",
              "  <thead>\n",
              "    <tr style=\"text-align: right;\">\n",
              "      <th></th>\n",
              "      <th>Company</th>\n",
              "      <th>Title</th>\n",
              "      <th>Job</th>\n",
              "      <th>Level</th>\n",
              "      <th>Date</th>\n",
              "      <th>Upvotes</th>\n",
              "      <th>Offer</th>\n",
              "      <th>Experience</th>\n",
              "      <th>Difficulty</th>\n",
              "      <th>Review</th>\n",
              "    </tr>\n",
              "    <tr>\n",
              "      <th>Type</th>\n",
              "      <th></th>\n",
              "      <th></th>\n",
              "      <th></th>\n",
              "      <th></th>\n",
              "      <th></th>\n",
              "      <th></th>\n",
              "      <th></th>\n",
              "      <th></th>\n",
              "      <th></th>\n",
              "      <th></th>\n",
              "    </tr>\n",
              "  </thead>\n",
              "  <tbody>\n",
              "    <tr>\n",
              "      <th>Hardware</th>\n",
              "      <td>Orange</td>\n",
              "      <td>Software Engineer</td>\n",
              "      <td>Software Engineer</td>\n",
              "      <td>Engineer</td>\n",
              "      <td>Aug 7, 2019</td>\n",
              "      <td>0</td>\n",
              "      <td>No offer</td>\n",
              "      <td>0.0</td>\n",
              "      <td>Medium</td>\n",
              "      <td>Orange is love. Orange is life.</td>\n",
              "    </tr>\n",
              "    <tr>\n",
              "      <th>Hardware</th>\n",
              "      <td>Orange</td>\n",
              "      <td>Software Engineer</td>\n",
              "      <td>Software Engineer</td>\n",
              "      <td>Engineer</td>\n",
              "      <td>Aug 8, 2019</td>\n",
              "      <td>0</td>\n",
              "      <td>Accepted offer</td>\n",
              "      <td>1.0</td>\n",
              "      <td>Hard</td>\n",
              "      <td>Application  I applied online. The process too...</td>\n",
              "    </tr>\n",
              "    <tr>\n",
              "      <th>Hardware</th>\n",
              "      <td>Orange</td>\n",
              "      <td>Software Engineer</td>\n",
              "      <td>Software Engineer</td>\n",
              "      <td>Engineer</td>\n",
              "      <td>NaN</td>\n",
              "      <td>0</td>\n",
              "      <td>Declined offer</td>\n",
              "      <td>0.0</td>\n",
              "      <td>Medium</td>\n",
              "      <td>Application  The process took 4 weeks. I inter...</td>\n",
              "    </tr>\n",
              "    <tr>\n",
              "      <th>Hardware</th>\n",
              "      <td>Orange</td>\n",
              "      <td>Software Engineer</td>\n",
              "      <td>Software Engineer</td>\n",
              "      <td>Engineer</td>\n",
              "      <td>NaN</td>\n",
              "      <td>9</td>\n",
              "      <td>Declined offer</td>\n",
              "      <td>-1.0</td>\n",
              "      <td>Medium</td>\n",
              "      <td>Application  The process took a week. I interv...</td>\n",
              "    </tr>\n",
              "    <tr>\n",
              "      <th>Hardware</th>\n",
              "      <td>Orange</td>\n",
              "      <td>Software Engineer</td>\n",
              "      <td>Software Engineer</td>\n",
              "      <td>Engineer</td>\n",
              "      <td>May 29, 2009</td>\n",
              "      <td>2</td>\n",
              "      <td>No offer</td>\n",
              "      <td>0.0</td>\n",
              "      <td>Medium</td>\n",
              "      <td>Application  I applied through an employee ref...</td>\n",
              "    </tr>\n",
              "    <tr>\n",
              "      <th>...</th>\n",
              "      <td>...</td>\n",
              "      <td>...</td>\n",
              "      <td>...</td>\n",
              "      <td>...</td>\n",
              "      <td>...</td>\n",
              "      <td>...</td>\n",
              "      <td>...</td>\n",
              "      <td>...</td>\n",
              "      <td>...</td>\n",
              "      <td>...</td>\n",
              "    </tr>\n",
              "    <tr>\n",
              "      <th>Hardware</th>\n",
              "      <td>IBM</td>\n",
              "      <td>Senior Software Engineer</td>\n",
              "      <td>Software Engineer</td>\n",
              "      <td>Senior</td>\n",
              "      <td>Sep 20, 2015</td>\n",
              "      <td>0</td>\n",
              "      <td>No offer</td>\n",
              "      <td>-1.0</td>\n",
              "      <td>Easy</td>\n",
              "      <td>Application  I applied through a recruiter. Th...</td>\n",
              "    </tr>\n",
              "    <tr>\n",
              "      <th>Hardware</th>\n",
              "      <td>IBM</td>\n",
              "      <td>Senior Software Engineer</td>\n",
              "      <td>Software Engineer</td>\n",
              "      <td>Senior</td>\n",
              "      <td>Sep 14, 2015</td>\n",
              "      <td>0</td>\n",
              "      <td>Accepted offer</td>\n",
              "      <td>-1.0</td>\n",
              "      <td>Medium</td>\n",
              "      <td>Application  I applied in-person. The process ...</td>\n",
              "    </tr>\n",
              "    <tr>\n",
              "      <th>Hardware</th>\n",
              "      <td>IBM</td>\n",
              "      <td>Senior Software Engineer</td>\n",
              "      <td>Software Engineer</td>\n",
              "      <td>Senior</td>\n",
              "      <td>Aug 6, 2015</td>\n",
              "      <td>0</td>\n",
              "      <td>Accepted offer</td>\n",
              "      <td>1.0</td>\n",
              "      <td>Hard</td>\n",
              "      <td>Application  I applied through a recruiter. Th...</td>\n",
              "    </tr>\n",
              "    <tr>\n",
              "      <th>Hardware</th>\n",
              "      <td>IBM</td>\n",
              "      <td>Senior Software Engineer</td>\n",
              "      <td>Software Engineer</td>\n",
              "      <td>Senior</td>\n",
              "      <td>Dec 13, 2015</td>\n",
              "      <td>0</td>\n",
              "      <td>Accepted offer</td>\n",
              "      <td>1.0</td>\n",
              "      <td>Medium</td>\n",
              "      <td>Application  I applied online. The process too...</td>\n",
              "    </tr>\n",
              "    <tr>\n",
              "      <th>Hardware</th>\n",
              "      <td>IBM</td>\n",
              "      <td>Senior Software Engineer</td>\n",
              "      <td>Software Engineer</td>\n",
              "      <td>Senior</td>\n",
              "      <td>Feb 15, 2016</td>\n",
              "      <td>11</td>\n",
              "      <td>Accepted offer</td>\n",
              "      <td>1.0</td>\n",
              "      <td>Easy</td>\n",
              "      <td>Application  I applied online. The process too...</td>\n",
              "    </tr>\n",
              "  </tbody>\n",
              "</table>\n",
              "<p>1676 rows × 10 columns</p>\n",
              "</div>"
            ],
            "text/plain": [
              "         Company  ...                                             Review\n",
              "Type              ...                                                   \n",
              "Hardware  Orange  ...                    Orange is love. Orange is life.\n",
              "Hardware  Orange  ...  Application  I applied online. The process too...\n",
              "Hardware  Orange  ...  Application  The process took 4 weeks. I inter...\n",
              "Hardware  Orange  ...  Application  The process took a week. I interv...\n",
              "Hardware  Orange  ...  Application  I applied through an employee ref...\n",
              "...          ...  ...                                                ...\n",
              "Hardware     IBM  ...  Application  I applied through a recruiter. Th...\n",
              "Hardware     IBM  ...  Application  I applied in-person. The process ...\n",
              "Hardware     IBM  ...  Application  I applied through a recruiter. Th...\n",
              "Hardware     IBM  ...  Application  I applied online. The process too...\n",
              "Hardware     IBM  ...  Application  I applied online. The process too...\n",
              "\n",
              "[1676 rows x 10 columns]"
            ]
          },
          "metadata": {
            "tags": []
          },
          "execution_count": 33
        }
      ]
    },
    {
      "cell_type": "code",
      "metadata": {
        "id": "pTB4bT7yiEI-",
        "outputId": "620c31fa-ea6f-4a3e-c0f3-00a1c13f3a3e",
        "colab": {
          "base_uri": "https://localhost:8080/",
          "height": 419
        }
      },
      "source": [
        "# To drop a label, you need to use reset_index with drop=True\n",
        "df.reset_index(drop=True, inplace=True)\n",
        "df"
      ],
      "execution_count": 34,
      "outputs": [
        {
          "output_type": "execute_result",
          "data": {
            "text/html": [
              "<div>\n",
              "<style scoped>\n",
              "    .dataframe tbody tr th:only-of-type {\n",
              "        vertical-align: middle;\n",
              "    }\n",
              "\n",
              "    .dataframe tbody tr th {\n",
              "        vertical-align: top;\n",
              "    }\n",
              "\n",
              "    .dataframe thead th {\n",
              "        text-align: right;\n",
              "    }\n",
              "</style>\n",
              "<table border=\"1\" class=\"dataframe\">\n",
              "  <thead>\n",
              "    <tr style=\"text-align: right;\">\n",
              "      <th></th>\n",
              "      <th>Company</th>\n",
              "      <th>Title</th>\n",
              "      <th>Job</th>\n",
              "      <th>Level</th>\n",
              "      <th>Date</th>\n",
              "      <th>Upvotes</th>\n",
              "      <th>Offer</th>\n",
              "      <th>Experience</th>\n",
              "      <th>Difficulty</th>\n",
              "      <th>Review</th>\n",
              "    </tr>\n",
              "  </thead>\n",
              "  <tbody>\n",
              "    <tr>\n",
              "      <th>0</th>\n",
              "      <td>Orange</td>\n",
              "      <td>Software Engineer</td>\n",
              "      <td>Software Engineer</td>\n",
              "      <td>Engineer</td>\n",
              "      <td>Aug 7, 2019</td>\n",
              "      <td>0</td>\n",
              "      <td>No offer</td>\n",
              "      <td>0.0</td>\n",
              "      <td>Medium</td>\n",
              "      <td>Orange is love. Orange is life.</td>\n",
              "    </tr>\n",
              "    <tr>\n",
              "      <th>1</th>\n",
              "      <td>Orange</td>\n",
              "      <td>Software Engineer</td>\n",
              "      <td>Software Engineer</td>\n",
              "      <td>Engineer</td>\n",
              "      <td>Aug 8, 2019</td>\n",
              "      <td>0</td>\n",
              "      <td>Accepted offer</td>\n",
              "      <td>1.0</td>\n",
              "      <td>Hard</td>\n",
              "      <td>Application  I applied online. The process too...</td>\n",
              "    </tr>\n",
              "    <tr>\n",
              "      <th>2</th>\n",
              "      <td>Orange</td>\n",
              "      <td>Software Engineer</td>\n",
              "      <td>Software Engineer</td>\n",
              "      <td>Engineer</td>\n",
              "      <td>NaN</td>\n",
              "      <td>0</td>\n",
              "      <td>Declined offer</td>\n",
              "      <td>0.0</td>\n",
              "      <td>Medium</td>\n",
              "      <td>Application  The process took 4 weeks. I inter...</td>\n",
              "    </tr>\n",
              "    <tr>\n",
              "      <th>3</th>\n",
              "      <td>Orange</td>\n",
              "      <td>Software Engineer</td>\n",
              "      <td>Software Engineer</td>\n",
              "      <td>Engineer</td>\n",
              "      <td>NaN</td>\n",
              "      <td>9</td>\n",
              "      <td>Declined offer</td>\n",
              "      <td>-1.0</td>\n",
              "      <td>Medium</td>\n",
              "      <td>Application  The process took a week. I interv...</td>\n",
              "    </tr>\n",
              "    <tr>\n",
              "      <th>4</th>\n",
              "      <td>Orange</td>\n",
              "      <td>Software Engineer</td>\n",
              "      <td>Software Engineer</td>\n",
              "      <td>Engineer</td>\n",
              "      <td>May 29, 2009</td>\n",
              "      <td>2</td>\n",
              "      <td>No offer</td>\n",
              "      <td>0.0</td>\n",
              "      <td>Medium</td>\n",
              "      <td>Application  I applied through an employee ref...</td>\n",
              "    </tr>\n",
              "    <tr>\n",
              "      <th>...</th>\n",
              "      <td>...</td>\n",
              "      <td>...</td>\n",
              "      <td>...</td>\n",
              "      <td>...</td>\n",
              "      <td>...</td>\n",
              "      <td>...</td>\n",
              "      <td>...</td>\n",
              "      <td>...</td>\n",
              "      <td>...</td>\n",
              "      <td>...</td>\n",
              "    </tr>\n",
              "    <tr>\n",
              "      <th>17649</th>\n",
              "      <td>Tencent</td>\n",
              "      <td>Software Engineer</td>\n",
              "      <td>Software Engineer</td>\n",
              "      <td>Engineer</td>\n",
              "      <td>May 25, 2012</td>\n",
              "      <td>0</td>\n",
              "      <td>Declined offer</td>\n",
              "      <td>0.0</td>\n",
              "      <td>Medium</td>\n",
              "      <td>Application  I applied online. The process too...</td>\n",
              "    </tr>\n",
              "    <tr>\n",
              "      <th>17650</th>\n",
              "      <td>Tencent</td>\n",
              "      <td>Software Engineer</td>\n",
              "      <td>Software Engineer</td>\n",
              "      <td>Engineer</td>\n",
              "      <td>Mar 15, 2014</td>\n",
              "      <td>0</td>\n",
              "      <td>No offer</td>\n",
              "      <td>NaN</td>\n",
              "      <td>NaN</td>\n",
              "      <td>Application  I applied through college or univ...</td>\n",
              "    </tr>\n",
              "    <tr>\n",
              "      <th>17651</th>\n",
              "      <td>Tencent</td>\n",
              "      <td>Software Engineer</td>\n",
              "      <td>Software Engineer</td>\n",
              "      <td>Engineer</td>\n",
              "      <td>Sep 22, 2015</td>\n",
              "      <td>0</td>\n",
              "      <td>Accepted offer</td>\n",
              "      <td>1.0</td>\n",
              "      <td>Medium</td>\n",
              "      <td>Application  I applied through college or univ...</td>\n",
              "    </tr>\n",
              "    <tr>\n",
              "      <th>17652</th>\n",
              "      <td>Tencent</td>\n",
              "      <td>Software Engineer</td>\n",
              "      <td>Software Engineer</td>\n",
              "      <td>Engineer</td>\n",
              "      <td>Jul 4, 2017</td>\n",
              "      <td>0</td>\n",
              "      <td>Declined offer</td>\n",
              "      <td>1.0</td>\n",
              "      <td>Medium</td>\n",
              "      <td>Application  I applied through college or univ...</td>\n",
              "    </tr>\n",
              "    <tr>\n",
              "      <th>17653</th>\n",
              "      <td>Tencent</td>\n",
              "      <td>Software Engineer</td>\n",
              "      <td>Software Engineer</td>\n",
              "      <td>Engineer</td>\n",
              "      <td>Sep 30, 2016</td>\n",
              "      <td>0</td>\n",
              "      <td>Declined offer</td>\n",
              "      <td>0.0</td>\n",
              "      <td>Easy</td>\n",
              "      <td>Application  I applied online. The process too...</td>\n",
              "    </tr>\n",
              "  </tbody>\n",
              "</table>\n",
              "<p>17654 rows × 10 columns</p>\n",
              "</div>"
            ],
            "text/plain": [
              "       Company  ...                                             Review\n",
              "0       Orange  ...                    Orange is love. Orange is life.\n",
              "1       Orange  ...  Application  I applied online. The process too...\n",
              "2       Orange  ...  Application  The process took 4 weeks. I inter...\n",
              "3       Orange  ...  Application  The process took a week. I interv...\n",
              "4       Orange  ...  Application  I applied through an employee ref...\n",
              "...        ...  ...                                                ...\n",
              "17649  Tencent  ...  Application  I applied online. The process too...\n",
              "17650  Tencent  ...  Application  I applied through college or univ...\n",
              "17651  Tencent  ...  Application  I applied through college or univ...\n",
              "17652  Tencent  ...  Application  I applied through college or univ...\n",
              "17653  Tencent  ...  Application  I applied online. The process too...\n",
              "\n",
              "[17654 rows x 10 columns]"
            ]
          },
          "metadata": {
            "tags": []
          },
          "execution_count": 34
        }
      ]
    },
    {
      "cell_type": "code",
      "metadata": {
        "id": "WrrXZCjYiKjp",
        "outputId": "8af6442a-422d-492c-f0ce-839d6befa783",
        "colab": {
          "base_uri": "https://localhost:8080/"
        }
      },
      "source": [
        "series = df.Company\n",
        "# The first 1000 companies, pikcing every 100th companies\n",
        "series[:1000:100]"
      ],
      "execution_count": 35,
      "outputs": [
        {
          "output_type": "execute_result",
          "data": {
            "text/plain": [
              "0      Orange\n",
              "100    Orange\n",
              "200    Orange\n",
              "300    Orange\n",
              "400     Intel\n",
              "500     Intel\n",
              "600     Intel\n",
              "700     Intel\n",
              "800      Uber\n",
              "900      Uber\n",
              "Name: Company, dtype: object"
            ]
          },
          "metadata": {
            "tags": []
          },
          "execution_count": 35
        }
      ]
    },
    {
      "cell_type": "markdown",
      "metadata": {
        "id": "VEAbf1zpiRa_"
      },
      "source": [
        "4. Accessors\n",
        "4.1 string accessor\n",
        ".str allows you to apply built-in string functions to all strings in a column (aka a pandas Series). These built-in functions come in handy when you want to do some basic string processing.\n",
        "\n"
      ]
    },
    {
      "cell_type": "code",
      "metadata": {
        "id": "eqnoKrdIiOWW",
        "outputId": "a66ff426-b29f-48c7-d73d-8caed2cfaefb",
        "colab": {
          "base_uri": "https://localhost:8080/"
        }
      },
      "source": [
        "# If you want to lowercase all the reviews in the `Reviews` column.\n",
        "df[\"Review\"].str.lower()# Or if you want to get the length of all the reviews"
      ],
      "execution_count": 3,
      "outputs": [
        {
          "output_type": "execute_result",
          "data": {
            "text/plain": [
              "0        application  i applied through a staffing agen...\n",
              "1        application  i applied online. the process too...\n",
              "2        application  the process took 4 weeks. i inter...\n",
              "3        application  the process took a week. i interv...\n",
              "4        application  i applied through an employee ref...\n",
              "                               ...                        \n",
              "17649    application  i applied online. the process too...\n",
              "17650    application  i applied through college or univ...\n",
              "17651    application  i applied through college or univ...\n",
              "17652    application  i applied through college or univ...\n",
              "17653    application  i applied online. the process too...\n",
              "Name: Review, Length: 17654, dtype: object"
            ]
          },
          "metadata": {
            "tags": []
          },
          "execution_count": 3
        }
      ]
    },
    {
      "cell_type": "code",
      "metadata": {
        "id": "JfbFlAImZbUc",
        "outputId": "021f0b3d-8d37-485d-8539-c1723009c65e",
        "colab": {
          "base_uri": "https://localhost:8080/"
        }
      },
      "source": [
        "df.Review.str.len()"
      ],
      "execution_count": 4,
      "outputs": [
        {
          "output_type": "execute_result",
          "data": {
            "text/plain": [
              "0        393\n",
              "1        670\n",
              "2        350\n",
              "3        807\n",
              "4        663\n",
              "        ... \n",
              "17649    470\n",
              "17650    394\n",
              "17651    524\n",
              "17652    391\n",
              "17653    784\n",
              "Name: Review, Length: 17654, dtype: int64"
            ]
          },
          "metadata": {
            "tags": []
          },
          "execution_count": 4
        }
      ]
    },
    {
      "cell_type": "markdown",
      "metadata": {
        "id": "qJ4TTdzQkAL8"
      },
      "source": [
        ".str can be very powerful if you use it with Regex. Imagine you want to get a sense of how long the interview process takes for each review. You notice that each review mentions how long it takes such as \"the process took 4 weeks\". So you use this heuristic:\n",
        "\n",
        "a process is short if it takes days\n",
        "a process is average is if it takes weeks\n",
        "a process is long if it takes at least 4 weeks\n"
      ]
    },
    {
      "cell_type": "code",
      "metadata": {
        "id": "tRTtliXnkQmm"
      },
      "source": [
        ""
      ],
      "execution_count": null,
      "outputs": []
    },
    {
      "cell_type": "code",
      "metadata": {
        "id": "PNokU8BIj85N",
        "outputId": "e5632179-1628-4542-92d3-c8f01b871b3a",
        "colab": {
          "base_uri": "https://localhost:8080/",
          "height": 419
        }
      },
      "source": [
        "df.loc[df['Review'].str.contains(\"days\"),\"Process\"]= \"Short\"\n",
        "df.loc[df[\"Review\"].str.contains(\"week\"), \"Process\"] = \"Average\"\n",
        "df.loc[df[\"Review\"].str.contains(\"months|[456789]+? weeks\", regex=True), \"Process\"] = \"Long\"\n",
        "df[~df.Process.isna()][[\"Review\", \"Process\"]]"
      ],
      "execution_count": 10,
      "outputs": [
        {
          "output_type": "execute_result",
          "data": {
            "text/html": [
              "<div>\n",
              "<style scoped>\n",
              "    .dataframe tbody tr th:only-of-type {\n",
              "        vertical-align: middle;\n",
              "    }\n",
              "\n",
              "    .dataframe tbody tr th {\n",
              "        vertical-align: top;\n",
              "    }\n",
              "\n",
              "    .dataframe thead th {\n",
              "        text-align: right;\n",
              "    }\n",
              "</style>\n",
              "<table border=\"1\" class=\"dataframe\">\n",
              "  <thead>\n",
              "    <tr style=\"text-align: right;\">\n",
              "      <th></th>\n",
              "      <th>Review</th>\n",
              "      <th>Process</th>\n",
              "    </tr>\n",
              "  </thead>\n",
              "  <tbody>\n",
              "    <tr>\n",
              "      <th>1</th>\n",
              "      <td>Application  I applied online. The process too...</td>\n",
              "      <td>Long</td>\n",
              "    </tr>\n",
              "    <tr>\n",
              "      <th>2</th>\n",
              "      <td>Application  The process took 4 weeks. I inter...</td>\n",
              "      <td>Long</td>\n",
              "    </tr>\n",
              "    <tr>\n",
              "      <th>3</th>\n",
              "      <td>Application  The process took a week. I interv...</td>\n",
              "      <td>Average</td>\n",
              "    </tr>\n",
              "    <tr>\n",
              "      <th>5</th>\n",
              "      <td>Application  I applied through college or univ...</td>\n",
              "      <td>Long</td>\n",
              "    </tr>\n",
              "    <tr>\n",
              "      <th>6</th>\n",
              "      <td>Application  The process took 2 days. I interv...</td>\n",
              "      <td>Short</td>\n",
              "    </tr>\n",
              "    <tr>\n",
              "      <th>...</th>\n",
              "      <td>...</td>\n",
              "      <td>...</td>\n",
              "    </tr>\n",
              "    <tr>\n",
              "      <th>17645</th>\n",
              "      <td>Application  I applied online. The process too...</td>\n",
              "      <td>Average</td>\n",
              "    </tr>\n",
              "    <tr>\n",
              "      <th>17647</th>\n",
              "      <td>Application  I applied through college or univ...</td>\n",
              "      <td>Average</td>\n",
              "    </tr>\n",
              "    <tr>\n",
              "      <th>17648</th>\n",
              "      <td>Application  I applied online. The process too...</td>\n",
              "      <td>Short</td>\n",
              "    </tr>\n",
              "    <tr>\n",
              "      <th>17649</th>\n",
              "      <td>Application  I applied online. The process too...</td>\n",
              "      <td>Average</td>\n",
              "    </tr>\n",
              "    <tr>\n",
              "      <th>17653</th>\n",
              "      <td>Application  I applied online. The process too...</td>\n",
              "      <td>Average</td>\n",
              "    </tr>\n",
              "  </tbody>\n",
              "</table>\n",
              "<p>12045 rows × 2 columns</p>\n",
              "</div>"
            ],
            "text/plain": [
              "                                                  Review  Process\n",
              "1      Application  I applied online. The process too...     Long\n",
              "2      Application  The process took 4 weeks. I inter...     Long\n",
              "3      Application  The process took a week. I interv...  Average\n",
              "5      Application  I applied through college or univ...     Long\n",
              "6      Application  The process took 2 days. I interv...    Short\n",
              "...                                                  ...      ...\n",
              "17645  Application  I applied online. The process too...  Average\n",
              "17647  Application  I applied through college or univ...  Average\n",
              "17648  Application  I applied online. The process too...    Short\n",
              "17649  Application  I applied online. The process too...  Average\n",
              "17653  Application  I applied online. The process too...  Average\n",
              "\n",
              "[12045 rows x 2 columns]"
            ]
          },
          "metadata": {
            "tags": []
          },
          "execution_count": 10
        }
      ]
    },
    {
      "cell_type": "markdown",
      "metadata": {
        "id": "yynfd7rSktHJ"
      },
      "source": [
        "We want to sanity check if Process corresponds to Review, but Review is cut off in the display above. To show longer columns, you can set display.max_colwidth to 100.\n",
        "\n",
        "Note: set_option has several great options you should check out.\n",
        "\n"
      ]
    },
    {
      "cell_type": "code",
      "metadata": {
        "id": "P5ltVPS4kbii",
        "outputId": "51d10a1c-c143-408f-97aa-470481842f9f",
        "colab": {
          "base_uri": "https://localhost:8080/",
          "height": 419
        }
      },
      "source": [
        "pd.set_option('display.max_colwidth',100)\n",
        "df[~df.Process.isna()][['Review','Process']]"
      ],
      "execution_count": 12,
      "outputs": [
        {
          "output_type": "execute_result",
          "data": {
            "text/html": [
              "<div>\n",
              "<style scoped>\n",
              "    .dataframe tbody tr th:only-of-type {\n",
              "        vertical-align: middle;\n",
              "    }\n",
              "\n",
              "    .dataframe tbody tr th {\n",
              "        vertical-align: top;\n",
              "    }\n",
              "\n",
              "    .dataframe thead th {\n",
              "        text-align: right;\n",
              "    }\n",
              "</style>\n",
              "<table border=\"1\" class=\"dataframe\">\n",
              "  <thead>\n",
              "    <tr style=\"text-align: right;\">\n",
              "      <th></th>\n",
              "      <th>Review</th>\n",
              "      <th>Process</th>\n",
              "    </tr>\n",
              "  </thead>\n",
              "  <tbody>\n",
              "    <tr>\n",
              "      <th>1</th>\n",
              "      <td>Application  I applied online. The process took 2+ months. I interviewed at Apple (San Jose, CA)...</td>\n",
              "      <td>Long</td>\n",
              "    </tr>\n",
              "    <tr>\n",
              "      <th>2</th>\n",
              "      <td>Application  The process took 4 weeks. I interviewed at Apple (San Antonio, TX) in February 2016...</td>\n",
              "      <td>Long</td>\n",
              "    </tr>\n",
              "    <tr>\n",
              "      <th>3</th>\n",
              "      <td>Application  The process took a week. I interviewed at Apple (Cupertino, CA) in December 2008.  ...</td>\n",
              "      <td>Average</td>\n",
              "    </tr>\n",
              "    <tr>\n",
              "      <th>5</th>\n",
              "      <td>Application  I applied through college or university. The process took 6 weeks. I interviewed at...</td>\n",
              "      <td>Long</td>\n",
              "    </tr>\n",
              "    <tr>\n",
              "      <th>6</th>\n",
              "      <td>Application  The process took 2 days. I interviewed at Apple (Cupertino, CA) in March 2009.  Int...</td>\n",
              "      <td>Short</td>\n",
              "    </tr>\n",
              "    <tr>\n",
              "      <th>...</th>\n",
              "      <td>...</td>\n",
              "      <td>...</td>\n",
              "    </tr>\n",
              "    <tr>\n",
              "      <th>17645</th>\n",
              "      <td>Application  I applied online. The process took a week. I interviewed at Tencent (Palo Alto, CA)...</td>\n",
              "      <td>Average</td>\n",
              "    </tr>\n",
              "    <tr>\n",
              "      <th>17647</th>\n",
              "      <td>Application  I applied through college or university. The process took 4+ weeks. I interviewed a...</td>\n",
              "      <td>Average</td>\n",
              "    </tr>\n",
              "    <tr>\n",
              "      <th>17648</th>\n",
              "      <td>Application  I applied online. The process took 2 days. I interviewed at Tencent.  Interview  I ...</td>\n",
              "      <td>Short</td>\n",
              "    </tr>\n",
              "    <tr>\n",
              "      <th>17649</th>\n",
              "      <td>Application  I applied online. The process took a week. I interviewed at Tencent (Beijing, Beiji...</td>\n",
              "      <td>Average</td>\n",
              "    </tr>\n",
              "    <tr>\n",
              "      <th>17653</th>\n",
              "      <td>Application  I applied online. The process took 3+ weeks. I interviewed at Tencent (Beijing, Bei...</td>\n",
              "      <td>Average</td>\n",
              "    </tr>\n",
              "  </tbody>\n",
              "</table>\n",
              "<p>12045 rows × 2 columns</p>\n",
              "</div>"
            ],
            "text/plain": [
              "                                                                                                    Review  Process\n",
              "1      Application  I applied online. The process took 2+ months. I interviewed at Apple (San Jose, CA)...     Long\n",
              "2      Application  The process took 4 weeks. I interviewed at Apple (San Antonio, TX) in February 2016...     Long\n",
              "3      Application  The process took a week. I interviewed at Apple (Cupertino, CA) in December 2008.  ...  Average\n",
              "5      Application  I applied through college or university. The process took 6 weeks. I interviewed at...     Long\n",
              "6      Application  The process took 2 days. I interviewed at Apple (Cupertino, CA) in March 2009.  Int...    Short\n",
              "...                                                                                                    ...      ...\n",
              "17645  Application  I applied online. The process took a week. I interviewed at Tencent (Palo Alto, CA)...  Average\n",
              "17647  Application  I applied through college or university. The process took 4+ weeks. I interviewed a...  Average\n",
              "17648  Application  I applied online. The process took 2 days. I interviewed at Tencent.  Interview  I ...    Short\n",
              "17649  Application  I applied online. The process took a week. I interviewed at Tencent (Beijing, Beiji...  Average\n",
              "17653  Application  I applied online. The process took 3+ weeks. I interviewed at Tencent (Beijing, Bei...  Average\n",
              "\n",
              "[12045 rows x 2 columns]"
            ]
          },
          "metadata": {
            "tags": []
          },
          "execution_count": 12
        }
      ]
    },
    {
      "cell_type": "code",
      "metadata": {
        "id": "FV9lQJo1kNmW",
        "outputId": "fe73ca95-ff11-4067-f990-3c5b3a4e501f",
        "colab": {
          "base_uri": "https://localhost:8080/"
        }
      },
      "source": [
        "# To see the built-in functions available for `.str`, use this\n",
        "pd.Series.str.__dict__.keys()"
      ],
      "execution_count": 13,
      "outputs": [
        {
          "output_type": "execute_result",
          "data": {
            "text/plain": [
              "dict_keys(['__module__', '__annotations__', '__doc__', '__init__', '_validate', '__getitem__', '__iter__', '_wrap_result', '_get_series_list', 'cat', 'split', 'rsplit', 'partition', 'rpartition', 'get', 'join', 'contains', 'match', 'fullmatch', 'replace', 'repeat', 'pad', 'center', 'ljust', 'rjust', 'zfill', 'slice', 'slice_replace', 'decode', 'encode', 'strip', 'lstrip', 'rstrip', 'wrap', 'get_dummies', 'translate', 'count', 'startswith', 'endswith', 'findall', 'extract', 'extractall', 'find', 'rfind', 'normalize', 'index', 'rindex', 'len', '_doc_args', 'lower', 'upper', 'title', 'capitalize', 'swapcase', 'casefold', 'isalnum', 'isalpha', 'isdigit', 'isspace', 'islower', 'isupper', 'istitle', 'isnumeric', 'isdecimal', '_make_accessor'])"
            ]
          },
          "metadata": {
            "tags": []
          },
          "execution_count": 13
        }
      ]
    },
    {
      "cell_type": "markdown",
      "metadata": {
        "id": "I9JwJRo2osd0"
      },
      "source": [
        "4.2 Other accessors\n",
        "pandas Series has 3 other accessors.\n",
        "\n",
        ".dt: handles date formats\n",
        ".cat: handles categorical data\n",
        ".sparse: handles sparse matrices\n"
      ]
    },
    {
      "cell_type": "code",
      "metadata": {
        "id": "pmviBaExonm0",
        "outputId": "801d70e5-d939-4a7a-f388-321cdb567a3e",
        "colab": {
          "base_uri": "https://localhost:8080/"
        }
      },
      "source": [
        "pd.Series._accessors"
      ],
      "execution_count": 14,
      "outputs": [
        {
          "output_type": "execute_result",
          "data": {
            "text/plain": [
              "{'cat', 'dt', 'sparse', 'str'}"
            ]
          },
          "metadata": {
            "tags": []
          },
          "execution_count": 14
        }
      ]
    },
    {
      "cell_type": "markdown",
      "metadata": {
        "id": "7GwZZ0XHozkg"
      },
      "source": [
        "5. Data exploration\n",
        "When analyzing data, you might want to take a look at the data. pandas has some great built-in functions for that.\n",
        "\n",
        "5.1 .head(), .tail(), .describe(), .info()\n",
        "You're probably familiar with .head() and .tail() methods for showing the first/last rows of DataFrame. By default, 5 rows are shown, but you can specify the exact number.\n",
        "\n"
      ]
    },
    {
      "cell_type": "code",
      "metadata": {
        "id": "rhCkRjlFovHW",
        "outputId": "fd1f4c23-cd09-4fb1-fd83-cccfd27dff48",
        "colab": {
          "base_uri": "https://localhost:8080/",
          "height": 433
        }
      },
      "source": [
        "df.tail(8)"
      ],
      "execution_count": 15,
      "outputs": [
        {
          "output_type": "execute_result",
          "data": {
            "text/html": [
              "<div>\n",
              "<style scoped>\n",
              "    .dataframe tbody tr th:only-of-type {\n",
              "        vertical-align: middle;\n",
              "    }\n",
              "\n",
              "    .dataframe tbody tr th {\n",
              "        vertical-align: top;\n",
              "    }\n",
              "\n",
              "    .dataframe thead th {\n",
              "        text-align: right;\n",
              "    }\n",
              "</style>\n",
              "<table border=\"1\" class=\"dataframe\">\n",
              "  <thead>\n",
              "    <tr style=\"text-align: right;\">\n",
              "      <th></th>\n",
              "      <th>Company</th>\n",
              "      <th>Title</th>\n",
              "      <th>Job</th>\n",
              "      <th>Level</th>\n",
              "      <th>Date</th>\n",
              "      <th>Upvotes</th>\n",
              "      <th>Offer</th>\n",
              "      <th>Experience</th>\n",
              "      <th>Difficulty</th>\n",
              "      <th>Review</th>\n",
              "      <th>Process</th>\n",
              "    </tr>\n",
              "  </thead>\n",
              "  <tbody>\n",
              "    <tr>\n",
              "      <th>17646</th>\n",
              "      <td>Tencent</td>\n",
              "      <td>Software Engineer</td>\n",
              "      <td>Software Engineer</td>\n",
              "      <td>Engineer</td>\n",
              "      <td>May 28, 2010</td>\n",
              "      <td>0</td>\n",
              "      <td>Declined offer</td>\n",
              "      <td>0.0</td>\n",
              "      <td>Easy</td>\n",
              "      <td>Application  I applied through an employee referral. The process took 1 day. I interviewed at Te...</td>\n",
              "      <td>NaN</td>\n",
              "    </tr>\n",
              "    <tr>\n",
              "      <th>17647</th>\n",
              "      <td>Tencent</td>\n",
              "      <td>Software Engineer</td>\n",
              "      <td>Software Engineer</td>\n",
              "      <td>Engineer</td>\n",
              "      <td>Apr 11, 2019</td>\n",
              "      <td>0</td>\n",
              "      <td>Accepted offer</td>\n",
              "      <td>1.0</td>\n",
              "      <td>Medium</td>\n",
              "      <td>Application  I applied through college or university. The process took 4+ weeks. I interviewed a...</td>\n",
              "      <td>Average</td>\n",
              "    </tr>\n",
              "    <tr>\n",
              "      <th>17648</th>\n",
              "      <td>Tencent</td>\n",
              "      <td>Software Engineer</td>\n",
              "      <td>Software Engineer</td>\n",
              "      <td>Engineer</td>\n",
              "      <td>Nov 4, 2012</td>\n",
              "      <td>0</td>\n",
              "      <td>No offer</td>\n",
              "      <td>NaN</td>\n",
              "      <td>NaN</td>\n",
              "      <td>Application  I applied online. The process took 2 days. I interviewed at Tencent.  Interview  I ...</td>\n",
              "      <td>Short</td>\n",
              "    </tr>\n",
              "    <tr>\n",
              "      <th>17649</th>\n",
              "      <td>Tencent</td>\n",
              "      <td>Software Engineer</td>\n",
              "      <td>Software Engineer</td>\n",
              "      <td>Engineer</td>\n",
              "      <td>May 25, 2012</td>\n",
              "      <td>0</td>\n",
              "      <td>Declined offer</td>\n",
              "      <td>0.0</td>\n",
              "      <td>Medium</td>\n",
              "      <td>Application  I applied online. The process took a week. I interviewed at Tencent (Beijing, Beiji...</td>\n",
              "      <td>Average</td>\n",
              "    </tr>\n",
              "    <tr>\n",
              "      <th>17650</th>\n",
              "      <td>Tencent</td>\n",
              "      <td>Software Engineer</td>\n",
              "      <td>Software Engineer</td>\n",
              "      <td>Engineer</td>\n",
              "      <td>Mar 15, 2014</td>\n",
              "      <td>0</td>\n",
              "      <td>No offer</td>\n",
              "      <td>NaN</td>\n",
              "      <td>NaN</td>\n",
              "      <td>Application  I applied through college or university. I interviewed at Tencent.  Interview  Prof...</td>\n",
              "      <td>NaN</td>\n",
              "    </tr>\n",
              "    <tr>\n",
              "      <th>17651</th>\n",
              "      <td>Tencent</td>\n",
              "      <td>Software Engineer</td>\n",
              "      <td>Software Engineer</td>\n",
              "      <td>Engineer</td>\n",
              "      <td>Sep 22, 2015</td>\n",
              "      <td>0</td>\n",
              "      <td>Accepted offer</td>\n",
              "      <td>1.0</td>\n",
              "      <td>Medium</td>\n",
              "      <td>Application  I applied through college or university. The process took 1 day. I interviewed at T...</td>\n",
              "      <td>NaN</td>\n",
              "    </tr>\n",
              "    <tr>\n",
              "      <th>17652</th>\n",
              "      <td>Tencent</td>\n",
              "      <td>Software Engineer</td>\n",
              "      <td>Software Engineer</td>\n",
              "      <td>Engineer</td>\n",
              "      <td>Jul 4, 2017</td>\n",
              "      <td>0</td>\n",
              "      <td>Declined offer</td>\n",
              "      <td>1.0</td>\n",
              "      <td>Medium</td>\n",
              "      <td>Application  I applied through college or university. I interviewed at Tencent (London, England ...</td>\n",
              "      <td>NaN</td>\n",
              "    </tr>\n",
              "    <tr>\n",
              "      <th>17653</th>\n",
              "      <td>Tencent</td>\n",
              "      <td>Software Engineer</td>\n",
              "      <td>Software Engineer</td>\n",
              "      <td>Engineer</td>\n",
              "      <td>Sep 30, 2016</td>\n",
              "      <td>0</td>\n",
              "      <td>Declined offer</td>\n",
              "      <td>0.0</td>\n",
              "      <td>Easy</td>\n",
              "      <td>Application  I applied online. The process took 3+ weeks. I interviewed at Tencent (Beijing, Bei...</td>\n",
              "      <td>Average</td>\n",
              "    </tr>\n",
              "  </tbody>\n",
              "</table>\n",
              "</div>"
            ],
            "text/plain": [
              "       Company  ...  Process\n",
              "17646  Tencent  ...      NaN\n",
              "17647  Tencent  ...  Average\n",
              "17648  Tencent  ...    Short\n",
              "17649  Tencent  ...  Average\n",
              "17650  Tencent  ...      NaN\n",
              "17651  Tencent  ...      NaN\n",
              "17652  Tencent  ...      NaN\n",
              "17653  Tencent  ...  Average\n",
              "\n",
              "[8 rows x 11 columns]"
            ]
          },
          "metadata": {
            "tags": []
          },
          "execution_count": 15
        }
      ]
    },
    {
      "cell_type": "code",
      "metadata": {
        "id": "Qa1MgqIjo2zS",
        "outputId": "b864b1fb-3dd9-4e27-e6c4-c14eb85fa857",
        "colab": {
          "base_uri": "https://localhost:8080/",
          "height": 297
        }
      },
      "source": [
        "# Gnerate statistics about numeric columns.\n",
        "df.describe()\n",
        "\n",
        "# Note:\n",
        "# 1. `.describe()` ignores all non-numeric columns.\n",
        "# 2. It doesn't take into account NaN values. So, the number shown in `count` below is the number of non-NaN entries."
      ],
      "execution_count": 16,
      "outputs": [
        {
          "output_type": "execute_result",
          "data": {
            "text/html": [
              "<div>\n",
              "<style scoped>\n",
              "    .dataframe tbody tr th:only-of-type {\n",
              "        vertical-align: middle;\n",
              "    }\n",
              "\n",
              "    .dataframe tbody tr th {\n",
              "        vertical-align: top;\n",
              "    }\n",
              "\n",
              "    .dataframe thead th {\n",
              "        text-align: right;\n",
              "    }\n",
              "</style>\n",
              "<table border=\"1\" class=\"dataframe\">\n",
              "  <thead>\n",
              "    <tr style=\"text-align: right;\">\n",
              "      <th></th>\n",
              "      <th>Upvotes</th>\n",
              "      <th>Experience</th>\n",
              "    </tr>\n",
              "  </thead>\n",
              "  <tbody>\n",
              "    <tr>\n",
              "      <th>count</th>\n",
              "      <td>17654.000000</td>\n",
              "      <td>16365.000000</td>\n",
              "    </tr>\n",
              "    <tr>\n",
              "      <th>mean</th>\n",
              "      <td>2.298459</td>\n",
              "      <td>0.431714</td>\n",
              "    </tr>\n",
              "    <tr>\n",
              "      <th>std</th>\n",
              "      <td>28.252562</td>\n",
              "      <td>0.759964</td>\n",
              "    </tr>\n",
              "    <tr>\n",
              "      <th>min</th>\n",
              "      <td>0.000000</td>\n",
              "      <td>-1.000000</td>\n",
              "    </tr>\n",
              "    <tr>\n",
              "      <th>25%</th>\n",
              "      <td>0.000000</td>\n",
              "      <td>0.000000</td>\n",
              "    </tr>\n",
              "    <tr>\n",
              "      <th>50%</th>\n",
              "      <td>0.000000</td>\n",
              "      <td>1.000000</td>\n",
              "    </tr>\n",
              "    <tr>\n",
              "      <th>75%</th>\n",
              "      <td>1.000000</td>\n",
              "      <td>1.000000</td>\n",
              "    </tr>\n",
              "    <tr>\n",
              "      <th>max</th>\n",
              "      <td>1916.000000</td>\n",
              "      <td>1.000000</td>\n",
              "    </tr>\n",
              "  </tbody>\n",
              "</table>\n",
              "</div>"
            ],
            "text/plain": [
              "            Upvotes    Experience\n",
              "count  17654.000000  16365.000000\n",
              "mean       2.298459      0.431714\n",
              "std       28.252562      0.759964\n",
              "min        0.000000     -1.000000\n",
              "25%        0.000000      0.000000\n",
              "50%        0.000000      1.000000\n",
              "75%        1.000000      1.000000\n",
              "max     1916.000000      1.000000"
            ]
          },
          "metadata": {
            "tags": []
          },
          "execution_count": 16
        }
      ]
    },
    {
      "cell_type": "code",
      "metadata": {
        "id": "Wy2A1jDTq00Y",
        "outputId": "2d9997c4-87b6-4bff-e4e5-332c3d0bc7d5",
        "colab": {
          "base_uri": "https://localhost:8080/"
        }
      },
      "source": [
        "# Show non-null count and types of all columns\n",
        "df.info()\n",
        "\n",
        "# Note: pandas treats string type as object\n"
      ],
      "execution_count": 17,
      "outputs": [
        {
          "output_type": "stream",
          "text": [
            "<class 'pandas.core.frame.DataFrame'>\n",
            "RangeIndex: 17654 entries, 0 to 17653\n",
            "Data columns (total 11 columns):\n",
            " #   Column      Non-Null Count  Dtype  \n",
            "---  ------      --------------  -----  \n",
            " 0   Company     17654 non-null  object \n",
            " 1   Title       17654 non-null  object \n",
            " 2   Job         17654 non-null  object \n",
            " 3   Level       17654 non-null  object \n",
            " 4   Date        17652 non-null  object \n",
            " 5   Upvotes     17654 non-null  int64  \n",
            " 6   Offer       17654 non-null  object \n",
            " 7   Experience  16365 non-null  float64\n",
            " 8   Difficulty  16376 non-null  object \n",
            " 9   Review      17654 non-null  object \n",
            " 10  Process     12045 non-null  object \n",
            "dtypes: float64(1), int64(1), object(9)\n",
            "memory usage: 1.5+ MB\n"
          ],
          "name": "stdout"
        }
      ]
    },
    {
      "cell_type": "code",
      "metadata": {
        "id": "ICwCttSPq3vv",
        "outputId": "cde36b19-2898-4476-f167-418f84364230",
        "colab": {
          "base_uri": "https://localhost:8080/"
        }
      },
      "source": [
        "# You can also see how much space your DataFrame is taking up\n",
        "import sys\n",
        "df.apply(sys.getsizeof)\n"
      ],
      "execution_count": 18,
      "outputs": [
        {
          "output_type": "execute_result",
          "data": {
            "text/plain": [
              "Company        1115747\n",
              "Title          1358305\n",
              "Job            1345085\n",
              "Level          1144784\n",
              "Date           1212964\n",
              "Upvotes         141384\n",
              "Offer          1184190\n",
              "Experience      141384\n",
              "Difficulty     1058008\n",
              "Review        20503701\n",
              "Process        1274180\n",
              "dtype: int64"
            ]
          },
          "metadata": {
            "tags": []
          },
          "execution_count": 18
        }
      ]
    },
    {
      "cell_type": "markdown",
      "metadata": {
        "id": "zCFB6UpHq-rJ"
      },
      "source": [
        "5.2 Count unique values\n",
        "You can get the number of unique values in a row (excluding NaN) with nunique().\n",
        "\n"
      ]
    },
    {
      "cell_type": "code",
      "metadata": {
        "id": "s8pmQwVKq6q_",
        "outputId": "2ac09c3a-28eb-40aa-e28e-61011c3726fa",
        "colab": {
          "base_uri": "https://localhost:8080/"
        }
      },
      "source": [
        "# Get the number of unique companies in our data\n",
        "df.Company.nunique()"
      ],
      "execution_count": 19,
      "outputs": [
        {
          "output_type": "execute_result",
          "data": {
            "text/plain": [
              "28"
            ]
          },
          "metadata": {
            "tags": []
          },
          "execution_count": 19
        }
      ]
    },
    {
      "cell_type": "code",
      "metadata": {
        "id": "PyJgM-0vrBij",
        "outputId": "b7980e4f-8b9b-485e-921b-7a46f89dedfd",
        "colab": {
          "base_uri": "https://localhost:8080/"
        }
      },
      "source": [
        "# You can also see how many reviews are for each company, sorted in a descending order.\n",
        "df.Company.value_counts()"
      ],
      "execution_count": 20,
      "outputs": [
        {
          "output_type": "execute_result",
          "data": {
            "text/plain": [
              "Amazon        3469\n",
              "Google        3445\n",
              "Facebook      1817\n",
              "Microsoft     1790\n",
              "IBM            873\n",
              "Cisco          787\n",
              "Oracle         701\n",
              "Uber           445\n",
              "Yelp           404\n",
              "Apple          363\n",
              "Intel          338\n",
              "Salesforce     313\n",
              "SAP            275\n",
              "Twitter        258\n",
              "Dell           258\n",
              "Airbnb         233\n",
              "NVIDIA         229\n",
              "Adobe          211\n",
              "Intuit         203\n",
              "PayPal         193\n",
              "Siemens        182\n",
              "Square         177\n",
              "Samsung        159\n",
              "eBay           148\n",
              "Symantec       147\n",
              "Snap           113\n",
              "Netflix        109\n",
              "Tencent         14\n",
              "Name: Company, dtype: int64"
            ]
          },
          "metadata": {
            "tags": []
          },
          "execution_count": 20
        }
      ]
    },
    {
      "cell_type": "markdown",
      "metadata": {
        "id": "wFrE_oZBrIhz"
      },
      "source": [
        "5.3 Plotting\n",
        "If you want to see the break down of process lengths for different companies, you can use .plot() with .groupby().\n",
        "\n",
        "Note: Plotting in pandas is both mind-boggling and mind-blowing. If you're not familiar, you might want to check out some tutorials, e.g. this simple tutorial or this saiyan-level pandas plotting with seaborn.\n",
        "\n"
      ]
    },
    {
      "cell_type": "code",
      "metadata": {
        "id": "TA0Hc5g9rDr8",
        "outputId": "7e4cb2c0-68ea-41af-bdbd-4b79074f9f05",
        "colab": {
          "base_uri": "https://localhost:8080/",
          "height": 556
        }
      },
      "source": [
        "# Group the DataFrame by \"Company\" and \"Process\", count the number of elements,\n",
        "# then unstack by \"Process\", then plot a bar chart\n",
        "df.groupby([\"Company\", \"Process\"]).size().unstack(level=1).plot(kind=\"bar\", figsize=(15, 8))"
      ],
      "execution_count": 21,
      "outputs": [
        {
          "output_type": "execute_result",
          "data": {
            "text/plain": [
              "<matplotlib.axes._subplots.AxesSubplot at 0x7fdd9d7b0be0>"
            ]
          },
          "metadata": {
            "tags": []
          },
          "execution_count": 21
        },
        {
          "output_type": "display_data",
          "data": {
            "image/png": "[encoded data removed]",
            "text/plain": [
              "<Figure size 1080x576 with 1 Axes>"
            ]
          },
          "metadata": {
            "tags": [],
            "needs_background": "light"
          }
        }
      ]
    },
    {
      "cell_type": "markdown",
      "metadata": {
        "id": "VTqL5nUJrbTr"
      },
      "source": [
        "6. Common pitfals\n",
        "pandas is great for most day-to-day data analysis. It's instrumental to my job and I'm grateful that the entire pandas community is actively developing it. However, I think some of pandas design decisions are a bit questionable.\n",
        "\n",
        "Some of the common pandas pitfalls:\n",
        "\n"
      ]
    },
    {
      "cell_type": "markdown",
      "metadata": {
        "id": "FCwbX79brjQF"
      },
      "source": [
        "6.1 NaNs\n",
        "NaNs are stored as floats in pandas, so when an operation fails because of NaNs, it doesn't say that there's a NaN but because that operation doesn't exist for floats.\n",
        "\n",
        "6.2 Changes not Inplace\n",
        "Most pandas operations aren't inplace by default, so if you make changes to your DataFrame, you need to assign the changes back to your DataFrame. You can make changes inplace by setting argument inplace=True.\n",
        "\n"
      ]
    },
    {
      "cell_type": "code",
      "metadata": {
        "id": "xGxa6IyerMVT",
        "outputId": "1f21541f-dc6e-4563-a1b9-de32efd42601",
        "colab": {
          "base_uri": "https://localhost:8080/"
        }
      },
      "source": [
        "# \"Process\" column is still in df\n",
        "df.drop(columns=[\"Process\"])\n",
        "df.columns"
      ],
      "execution_count": 22,
      "outputs": [
        {
          "output_type": "execute_result",
          "data": {
            "text/plain": [
              "Index(['Company', 'Title', 'Job', 'Level', 'Date', 'Upvotes', 'Offer',\n",
              "       'Experience', 'Difficulty', 'Review', 'Process'],\n",
              "      dtype='object')"
            ]
          },
          "metadata": {
            "tags": []
          },
          "execution_count": 22
        }
      ]
    },
    {
      "cell_type": "code",
      "metadata": {
        "id": "JtocvM2drmMO",
        "outputId": "19c4d61b-dd32-4a59-dd49-412d308040d2",
        "colab": {
          "base_uri": "https://localhost:8080/"
        }
      },
      "source": [
        "# To make changes to df, set `inplace=True`\n",
        "df.drop(columns=[\"Process\"], inplace=True)\n",
        "df.columns\n",
        "# This is equivalent to\n",
        "# df = df.drop(columns=[\"Process\"])"
      ],
      "execution_count": 23,
      "outputs": [
        {
          "output_type": "execute_result",
          "data": {
            "text/plain": [
              "Index(['Company', 'Title', 'Job', 'Level', 'Date', 'Upvotes', 'Offer',\n",
              "       'Experience', 'Difficulty', 'Review'],\n",
              "      dtype='object')"
            ]
          },
          "metadata": {
            "tags": []
          },
          "execution_count": 23
        }
      ]
    },
    {
      "cell_type": "markdown",
      "metadata": {
        "id": "ktQ2_z4wrs7w"
      },
      "source": [
        "6.3 Performance issues with very large datasets\n",
        "6.4 Reproducibility issues\n",
        "Especially with dumping and loading DataFrame to/from files. There are two main causes:\n",
        "\n",
        "Problem with labels (see the section about labels above).\n",
        "Weird rounding issues for floats.\n",
        "6.5 Not GPU compatible\n",
        "pandas can't take advantage of GPUs, so if your computations are on on GPUs and your feature engineering is on CPUs, it can become a time bottleneck to move data from CPUs to GPUs. If you want something like pandas but works on GPUs, check out dask and modin.\n",
        "\n",
        "Oh, and this is the analysis I did based on this data, in case you're interested!"
      ]
    },
    {
      "cell_type": "code",
      "metadata": {
        "id": "QVjMuchrrohh"
      },
      "source": [
        ""
      ],
      "execution_count": null,
      "outputs": []
    }
  ]
}