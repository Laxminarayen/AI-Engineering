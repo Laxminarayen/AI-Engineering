{
  "nbformat": 4,
  "nbformat_minor": 0,
  "metadata": {
    "colab": {
      "name": "Basic usage of beautifulsoup.ipynb",
      "provenance": [],
      "authorship_tag": "ABX9TyNjvIxF8KtlxtRBM4wkBdco",
      "include_colab_link": true
    },
    "kernelspec": {
      "name": "python3",
      "display_name": "Python 3"
    }
  },
  "cells": [
    {
      "cell_type": "markdown",
      "metadata": {
        "id": "view-in-github",
        "colab_type": "text"
      },
      "source": [
        "<a href=\"https://colab.research.google.com/github/plthiyagu/Personnel/blob/master/Basic_usage_of_beautifulsoup.ipynb\" target=\"_parent\"><img src=\"https://colab.research.google.com/assets/colab-badge.svg\" alt=\"Open In Colab\"/></a>"
      ]
    },
    {
      "cell_type": "markdown",
      "metadata": {
        "id": "dAPOyEAMMzH-",
        "colab_type": "text"
      },
      "source": [
        "Basic usage of beautifulsoup"
      ]
    },
    {
      "cell_type": "markdown",
      "metadata": {
        "id": "auYEwuJvNCUY",
        "colab_type": "text"
      },
      "source": [
        "First we still need to open a page, then we can apply beautifulsoup on this page's html.\n",
        "\n"
      ]
    },
    {
      "cell_type": "code",
      "metadata": {
        "id": "dV_IAtRhM1k6",
        "colab_type": "code",
        "colab": {}
      },
      "source": [
        "from bs4 import BeautifulSoup\n",
        "from urllib.request import urlopen"
      ],
      "execution_count": 5,
      "outputs": []
    },
    {
      "cell_type": "code",
      "metadata": {
        "id": "DKYbYAbQM_sd",
        "colab_type": "code",
        "colab": {
          "base_uri": "https://localhost:8080/",
          "height": 1000
        },
        "outputId": "d83d0d43-c1bb-409d-99fa-128c5da48f1b"
      },
      "source": [
        "html= urlopen(\"https://www.htmlquick.com/tutorials/document-structure.html\").read().decode('utf-8')\n",
        "print(html)"
      ],
      "execution_count": 3,
      "outputs": [
        {
          "output_type": "stream",
          "text": [
            "\r\n",
            "<!DOCTYPE html>\r\n",
            "<html>\r\n",
            "  <head>\r\n",
            "    <title>The document structure</title>\r\n",
            "    <meta charset=\"utf-8\">\r\n",
            "    <meta name=\"viewport\" content=\"width=device-width\">\r\n",
            "    <meta name=\"author\" content=\"Diego Ponce de León\">\r\n",
            "    <meta name=\"description\" content=\"Collection of HTML5 tutorials and reference. Simple, complete, accessible, easy to navigate and free.\">\r\n",
            "    <meta name=\"Keywords\" content=\"HTML5, tutorials, reference, tags, free, learn\">\r\n",
            "    <link rel=\"stylesheet\" type=\"text/css\" href=\"/css/d.css\">\r\n",
            "  </head>\r\n",
            "<!--[if lt IE 7 ]> <body class=\"ie6\"> <![endif]-->\r\n",
            "<!--[if IE 7 ]>    <body class=\"ie7\"> <![endif]-->\r\n",
            "<!--[if IE 8 ]>    <body class=\"ie8\"> <![endif]-->\r\n",
            "<!--[if IE 9 ]>    <body class=\"ie9\"> <![endif]-->\r\n",
            "<!--[if (gt IE 9)]><body class=\"modern\"> <![endif]-->\r\n",
            "<!--[!(IE)]><!-->  <body class=\"notIE modern\"> <!--<![endif]-->\r\n",
            "    <div id=\"ac\">\r\n",
            "      <header>\r\n",
            "        <div id=\"lgsm\"><div></div></div>\r\n",
            "        <nav id=\"tb\">\r\n",
            "          <div id=\"tbic\">&Xi;</div>\r\n",
            "          <ul id=\"tbul\">\r\n",
            "            \r\n",
            "<li><a href=\"/\">HOME</a></li><li><a href=\"/tutorials.html\">TUTORIALS</a></li><li><a href=\"/reference.html\">REFERENCE</a></li><li id=\"mmct\"><a href=\"/reference/tags.html\">ELEMENTS</a></li>\r\n",
            "          </ul>\r\n",
            "        </nav>\r\n",
            "        <div id=\"p\">\r\n",
            "          <div id=\"bkc\">\r\n",
            "            <div id=\"bk\"></div>\r\n",
            "            <div class=\"pics\">\r\n",
            "              <div id=\"pl\"></div>\r\n",
            "            </div>\r\n",
            "            <div id=\"plgc\" class=\"pics\">\r\n",
            "              <div id=\"lsl\"></div>\r\n",
            "              <div id=\"plg\"></div>\r\n",
            "              <div id=\"ls\"></div>\r\n",
            "            </div>\r\n",
            "            <div id=\"bkarc\">\r\n",
            "              <div id=\"bkar\"></div>\r\n",
            "            </div>\r\n",
            "          </div>\r\n",
            "          <div class=\"picr\">\r\n",
            "            <div id=\"shc\">\r\n",
            "              <div id=\"sh\"></div>\r\n",
            "              <div id=\"st\"></div>\r\n",
            "            </div>\r\n",
            "          </div>\r\n",
            "        </div>\r\n",
            "        <div id=\"cdiv\"></div>\r\n",
            "        <nav id=\"nlbc\">\r\n",
            "          <a id=\"chl\" class=\"es\" href=\"/es/tutorials/document-structure.html\" rel=\"alternate\" hreflang=\"es\" title=\"Cambiar a la versión en español\"><span></span></a>\r\n",
            "          <div id=\"nlb\">\r\n",
            "\r\n",
            "<a href=\"/\">Home</a>\r\n",
            " &rsaquo; The document structure\r\n",
            "\r\n",
            "          </div>\r\n",
            "        </nav>\r\n",
            "      </header>\r\n",
            "      <main id=\"c\">\r\n",
            "<article>\r\n",
            "  <header>\r\n",
            "    <h1>The document structure</h1>\r\n",
            "    <p>This tutorial studies the organization of information in an HTML document, analizing its basic structure, how it's divided and what type of content corresponds to each section.</p>\r\n",
            "    <div>\r\n",
            "      <div class=\"toc\">\r\n",
            "        <p>Table of contents</p>\r\n",
            "        <ul>\r\n",
            "          <li><a class=\"mn\" href=\"#the-basic-structure\"><span class=\"num\">01</span><span class=\"mul\">The basic structure</span></a></li>\r\n",
            "          <li><a class=\"mn\" href=\"#the-doctype-declaration\"><span class=\"num\">02</span><span class=\"mul\">The !DOCTYPE declaration</span></a></li>\r\n",
            "          <li><a class=\"mn\" href=\"#the-main-container-html-element\"><span class=\"num\">03</span><span class=\"mul\">The main container: html element</span></a></li>\r\n",
            "          <li><a class=\"mn\" href=\"#the-documents-head\"><span class=\"num\">04</span><span class=\"mul\">The document's head</span></a></li>\r\n",
            "          <li><a class=\"mn\" href=\"an-html-document-structure/2.html#the-documents-body\"><span class=\"num\">05</span><span class=\"mul\">The document's body</span></a></li>\r\n",
            "          <li><a class=\"mn\" href=\"an-html-document-structure/2.html#practice\"><span class=\"num\">06</span><span class=\"mul\">Practice</span></a></li>\r\n",
            "        </ul>\r\n",
            "      </div>\r\n",
            "    </div>\r\n",
            "  </header>\r\n",
            "  <section id=\"the-basic-structure\">\r\n",
            "    <h2>The basic structure</h2>\r\n",
            "    <p>Before you can start adding content to your document, there's a basic structure you need to set up in your file. This structure isn't only required for your document to be compliant but will also allow you to provide useful information about your document. The basic structure of any <abbr title=\"Hyper Text Markup Language\">HTML</abbr> document consists of the following sections or elements:</p>\r\n",
            "    <ul>\r\n",
            "      <li>The <abbr title=\"Document Type Declaration\">DTD</abbr> (<a href=\"../reference/tags/doctype.html\"><code class=\"elem\">!DOCTYPE</code> declaration</a>).</li>\r\n",
            "      <li>The main container (<a href=\"../reference/tags/html.html\"><code class=\"elem\">html</code> element</a>).</li>\r\n",
            "      <li>The head section (<a href=\"../reference/tags/head.html\"><code class=\"elem\">head</code> element</a>).</li>\r\n",
            "      <li>The body section (<a href=\"../reference/tags/body.html\"><code class=\"elem\">body</code> element</a>).</li>\r\n",
            "    </ul>\r\n",
            "  </section>\r\n",
            "  <section id=\"the-doctype-declaration\">\r\n",
            "    <h2>The !DOCTYPE declaration</h2>\r\n",
            "    <p>Every <abbr title=\"Hyper Text Markup Language\">HTML</abbr> document must begin with a basic declaration that identifies its type. This is a very useful measure that inform browsers beforehand, what type of document they are about to process, allowing them to adjust their processing mechanisms accordingly.</p>\r\n",
            "    <p>The <abbr title=\"Document Type Declaration\">DTD</abbr> is inserted usign a special tag (<a href=\"../reference/tags/doctype.html\"><code class=\"elem\">!DOCTYPE</code></a>) that takes a particular form for each document type. This declaration can only be present at the begining of the document. The following example shows the <abbr title=\"Document Type Declaration\">DTD</abbr> for an <abbr title=\"Hyper Text Markup Language\">HTML</abbr>5 document:</p>\r\n",
            "\r\n",
            "<pre class=\"cdv\"><code><span class=\"ln\"><span class=\"num\" data-num=\"1.\"></span><span class=\"ln1\">&lt;!DOCTYPE<span class=\"atn\"> html&gt;</span></span></span>\r\n",
            "</code></pre>\r\n",
            "\r\n",
            "    <p>Unless you're writing documents for a very particular scenario, this is the declaration you're going to use. With the arrival and establishment of <abbr title=\"Hyper Text Markup Language\">HTML</abbr>5 as the web standard, other <abbr title=\"Document Type Declarations\">DTDs</abbr> have lost importance and sunk into oblivion. To see other <abbr title=\"Document Type Declarations\">DTDs</abbr> go to the <a href=\"../reference/tags/doctype.html\"><code class=\"elem\">!DOCTYPE</code> declaration</a> reference.</p>\r\n",
            "  </section>\r\n",
            "  <section id=\"the-main-container-html-element\">\r\n",
            "    <h2>The main container: html element</h2>\r\n",
            "    <p>After having placed the <abbr title=\"Document Type Declaration\">DTD</abbr> right at the top of the document, it's time to create the main container: a place where the whole document (except the <abbr title=\"Document Type Declaration\">DTD</abbr>) will fall into. This container is inserted with the <a href=\"../reference/tags/html.html\"><code class=\"elem\">html</code> element</a>, and besides acting as a container, it provides a good chance to define the default language used by the document, through the <a href=\"../reference/attributes.html\">global attribute</a> <code class=\"attr\">lang</code>.</p>\r\n",
            "    <p class=\"inf msr\"><span class=\"img\"></span>Declaring the language used in a document is particulary important for users relying on speech synthesisers, as it provides key information for determining the correct pronunciation.</p>\r\n",
            "    <p>The following example shows the structure of the main container (including the language used in the document) and indicates where all the elements of the document should be placed.</p>\r\n",
            "\r\n",
            "<pre class=\"cdv\"><code><span class=\"ln\"><span class=\"num\" data-num=\"1.\"></span><span class=\"ln1\"><span class=\"tag\">&lt;html&gt;</span></span></span>\r\n",
            "<span class=\"ln\"><span class=\"num\" data-num=\"2.\"></span><span class=\"ln2\">  ...Document&#039;s elements...</span></span>\r\n",
            "<span class=\"ln\"><span class=\"num\" data-num=\"3.\"></span><span class=\"ln1\"><span class=\"tag\">&lt;/html&gt;</span></span></span>\r\n",
            "</code></pre>\r\n",
            "\r\n",
            "    <p>The content of this element can be further divided into two sections: the <a href=\"../reference/tags/head.html\"><code class=\"elem\">head</code></a> and the <a href=\"../reference/tags/body.html\"><code class=\"elem\">body</code></a>.</p>\r\n",
            "  </section>\r\n",
            "  <section id=\"the-documents-head\">\r\n",
            "    <h2>The document's head</h2>\r\n",
            "    <p>The <a href=\"../reference/tags/head.html\"><code class=\"elem\">head</code></a> section is a container for metadata about the document. This metadata can be classified in five categories according to the element used.</p>\r\n",
            "    <ul>\r\n",
            "      <li><b>The document's title</b>: describes briefly the subject treated in the document. This is a required item and is inserted with the <a href=\"../reference/tags/title.html\"><code class=\"elem\">title</code> element</a>.</li>\r\n",
            "      <li><b>Style declarations</b>: groups style definitions used to set presentational attributes for the elements in the document. It's inserted with the <a href=\"../reference/tags/style.html\"><code class=\"elem\">style</code> element</a>.</li>\r\n",
            "      <li><b>Client-side scripts</b>: inserts programs that provide functionality and interactivity. It's declared with the <a href=\"../reference/tags/script.html\"><code class=\"elem\">script</code> element</a>.</li>\r\n",
            "      <li><b>Meta statements</b>: define custom attributes and values. They're inserted with the <a href=\"../reference/tags/meta.html\"><code class=\"elem\">meta</code> element</a>.</li>\r\n",
            "      <li><b>Relational information</b>: indicates resources that are somehow related to the document. It's inserted with the <a href=\"../reference/tags/link.html\"><code class=\"elem\">link</code> element</a>.</li>\r\n",
            "    </ul>\r\n",
            "    <p>The following example shows the declaration of the <a href=\"../reference/tags/head.html\"><code class=\"elem\">head</code></a> block of a document with some of the elements described above.</p>\r\n",
            "\r\n",
            "<pre class=\"cdv\"><code><span class=\"ln\"><span class=\"num\" data-num=\"1.\"></span><span class=\"ln1\"><span class=\"tag\">&lt;head&gt;</span></span></span>\r\n",
            "<span class=\"ln\"><span class=\"num\" data-num=\"2.\"></span><span class=\"ln2\">  <span class=\"tag\">&lt;title&gt;</span>Eppur si muove<span class=\"tag\">&lt;/title&gt;</span></span></span>\r\n",
            "<span class=\"ln\"><span class=\"num\" data-num=\"3.\"></span><span class=\"ln1\">  <span class=\"tag\">&lt;meta<span class=\"atn\"> name=</span><span class=\"atv\">&quot;keywords&quot;</span><span class=\"atn\"> content=</span><span class=\"atv\">&quot;Galileo Galilei, heliocentrism, geocentrism&quot;</span>&gt;</span></span></span>\r\n",
            "<span class=\"ln\"><span class=\"num\" data-num=\"4.\"></span><span class=\"ln2\">  <span class=\"tag\">&lt;meta<span class=\"atn\"> name=</span><span class=\"atv\">&quot;description&quot;</span><span class=\"atn\"> content=</span><span class=\"atv\">&quot;This document approaches briefly the works of Galileo Galilei about the Heliocentrism...&quot;</span>&gt;</span></span></span>\r\n",
            "<span class=\"ln\"><span class=\"num\" data-num=\"5.\"></span><span class=\"ln1\">  <span class=\"tag\">&lt;meta<span class=\"atn\"> name=</span><span class=\"atv\">&quot;Author&quot;</span><span class=\"atn\"> content=</span><span class=\"atv\">&quot;Mark Rottenberg&quot;</span>&gt;</span></span></span>\r\n",
            "<span class=\"ln\"><span class=\"num\" data-num=\"6.\"></span><span class=\"ln2\">  <span class=\"tag\">&lt;style&gt;</span></span></span>\r\n",
            "<span class=\"ln\"><span class=\"num\" data-num=\"7.\"></span><span class=\"ln1\">    table {</span></span>\r\n",
            "<span class=\"ln\"><span class=\"num\" data-num=\"8.\"></span><span class=\"ln2\">      width: 100%;</span></span>\r\n",
            "<span class=\"ln\"><span class=\"num\" data-num=\"9.\"></span><span class=\"ln1\">      border-color: black;</span></span>\r\n",
            "<span class=\"ln\"><span class=\"num\" data-num=\"10.\"></span><span class=\"ln2\">    }</span></span>\r\n",
            "<span class=\"ln\"><span class=\"num\" data-num=\"11.\"></span><span class=\"ln1\">  <span class=\"tag\">&lt;/style&gt;</span></span></span>\r\n",
            "<span class=\"ln\"><span class=\"num\" data-num=\"12.\"></span><span class=\"ln2\">  <span class=\"tag\">&lt;script&gt;</span></span></span>\r\n",
            "<span class=\"ln\"><span class=\"num\" data-num=\"13.\"></span><span class=\"ln1\">    result = 0;</span></span>\r\n",
            "<span class=\"ln\"><span class=\"num\" data-num=\"14.\"></span><span class=\"ln2\">    function increment(amount) {</span></span>\r\n",
            "<span class=\"ln\"><span class=\"num\" data-num=\"15.\"></span><span class=\"ln1\">      result += amount;</span></span>\r\n",
            "<span class=\"ln\"><span class=\"num\" data-num=\"16.\"></span><span class=\"ln2\">    }</span></span>\r\n",
            "<span class=\"ln\"><span class=\"num\" data-num=\"17.\"></span><span class=\"ln1\">  <span class=\"tag\">&lt;/script&gt;</span></span></span>\r\n",
            "<span class=\"ln\"><span class=\"num\" data-num=\"18.\"></span><span class=\"ln2\">  <span class=\"tag\">&lt;link<span class=\"atn\"> rel=</span><span class=\"atv\">&quot;index&quot;</span><span class=\"atn\"> href=</span><span class=\"atv\">&quot;../index.html&quot;</span>&gt;</span></span></span>\r\n",
            "<span class=\"ln\"><span class=\"num\" data-num=\"19.\"></span><span class=\"ln1\">  <span class=\"tag\">&lt;link<span class=\"atn\"> rel=</span><span class=\"atv\">&quot;alternate&quot;</span><span class=\"atn\"> media=</span><span class=\"atv\">&quot;print&quot;</span><span class=\"atn\"> href=</span><span class=\"atv\">&quot;printer-version.html&quot;</span>&gt;</span></span></span>\r\n",
            "<span class=\"ln\"><span class=\"num\" data-num=\"20.\"></span><span class=\"ln2\"><span class=\"tag\">&lt;/head&gt;</span></span></span>\r\n",
            "</code></pre>\r\n",
            "\r\n",
            "    <p>It could be beneficial to consider that the information declared in this block will be loaded, because of the order of precedence, before the elements in the <a href=\"../reference/tags/body.html\"><code class=\"elem\">body</code></a>. This is a good opportunity (usually exploited) to pre-load elements like scripts or style definitions.</p>\r\n",
            "  </section>\r\n",
            "  <section class=\"pnav\">\r\n",
            "    <p><span>1</span><a href=\"an-html-document-structure/2.html\">2</a><a href=\"an-html-document-structure/2.html\">Next</a></p>\r\n",
            "  </section>\r\n",
            "</article>\r\n",
            "      </main>\r\n",
            "      <footer id=\"ft\">\r\n",
            "        <div id=\"ftln\"></div>\r\n",
            "        <div id=\"ftc\">\r\n",
            "          <div id=\"ftc1\">\r\n",
            "            <h1>Tutorials</h1>\r\n",
            "            <ul>\r\n",
            "              <li><a href=\"/tutorials/how-to-begin.html\"><span>How to begin</span></a>\r\n",
            "              <li><a href=\"/tutorials/tags-attributes.html\"><span><abbr title=\"Hyper Text Markup Language\">HTML</abbr> tags and attributes</span></a>\r\n",
            "              <li><a href=\"/tutorials/document-structure.html\"><span>The document structure</span></a>\r\n",
            "              <li><a href=\"/tutorials/content-grouping-and-structure.html\"><span>Content grouping and structure</span></a>\r\n",
            "              <li><a href=\"/tutorials/links.html\"><span>Links in <abbr title=\"Hyper Text Markup Language\">HTML</abbr></span></a>\r\n",
            "              <li><a href=\"/tutorials/organizing-website.html\"><span>Organizing a website</span></a>\r\n",
            "              <li><a href=\"/tutorials/tables.html\"><span>Tables in <abbr title=\"Hyper Text Markup Language\">HTML</abbr></span></a>\r\n",
            "              <li><a href=\"/tutorials/forms.html\"><span>Basic <abbr title=\"Hyper Text Markup Language\">HTML</abbr> forms</span></a>\r\n",
            "              <li><a href=\"/tutorials/css.html\"><span>Cascading Style Sheets (CSS)</span></a>\r\n",
            "            </ul>\r\n",
            "          </div>\r\n",
            "          <div id=\"ftc2\">\r\n",
            "            <h1>Reference</h1>\r\n",
            "            <ul>\r\n",
            "              <li><a href=\"/reference/tags.html\"><span><abbr title=\"Hyper Text Markup Language\">HTML</abbr> elements</span></a>\r\n",
            "              <li><a href=\"/reference/character-encoding.html\"><span>Character encoding</span></a>\r\n",
            "              <li><a href=\"/reference/character-entity-reference.html\"><span>Character entity reference</span></a>\r\n",
            "              <li><a href=\"/reference/events.html\"><span>Global events</span></a>\r\n",
            "              <li><a href=\"/reference/attributes.html\"><span>Global attributes</span></a>\r\n",
            "              <li><a href=\"/reference/color-codes.html\"><span>Color codes</span></a>\r\n",
            "              <li><a href=\"/reference/language-codes.html\"><span>Language tags</span></a>\r\n",
            "              <li><a href=\"/reference/mime-types.html\"><span>Internet media types</span></a>\r\n",
            "              <li><a href=\"/reference/uri-url.html\"><span><abbr title=\"Uniform Resource Identifier\">URIs</abbr> and <abbr title=\"Uniform Resource Locators\">URLs</abbr></span></a>\r\n",
            "            </ul>\r\n",
            "          </div>\r\n",
            "          <div id=\"ftc3\">\r\n",
            "            <h1>More</h1>\r\n",
            "            <ul>\r\n",
            "              <li><a href=\"/contactus.php\"><span>Contact me</span></a>\r\n",
            "              <li><a href=\"/beyond-html.html\"><span>Beyond <abbr title=\"Hyper Text Markup Language\">HTML</abbr></span></a>\r\n",
            "              <li><a href=\"/tools-resources.html\"><span>Tools and resources</span></a>\r\n",
            "              <li><a href=\"/webmaster.html\"><span>About me</span></a>\r\n",
            "            </ul>\r\n",
            "            <h1>Help me</h1>\r\n",
            "            <ul>\r\n",
            "              <li><a href=\"/contactus.php\"><span>Inform errors</span></a>\r\n",
            "              <li><a href=\"/donate.html\"><span>Donate</span></a>\r\n",
            "            </ul>\r\n",
            "          </div>\r\n",
            "          <div id=\"ftb\"></div>\r\n",
            "        </div>\r\n",
            "      </footer>\r\n",
            "    </div>\r\n",
            "\r\n",
            "\r\n",
            "    <script type=\"text/javascript\" src=\"/js/c.js\"></script>\r\n",
            "        <script type=\"text/javascript\">olTut()</script>    <script>\r\n",
            "      (function(i,s,o,g,r,a,m){i['GoogleAnalyticsObject']=r;i[r]=i[r]||function(){\r\n",
            "      (i[r].q=i[r].q||[]).push(arguments)},i[r].l=1*new Date();a=s.createElement(o),\r\n",
            "      m=s.getElementsByTagName(o)[0];a.async=1;a.src=g;m.parentNode.insertBefore(a,m)\r\n",
            "      })(window,document,'script','//www.google-analytics.com/analytics.js','ga');\r\n",
            "\r\n",
            "      ga('create', 'UA-420622-2', 'auto');\r\n",
            "      ga('send', 'pageview');\r\n",
            "    </script>\r\n",
            "  </body>\r\n",
            "</html>\r\n",
            "\n"
          ],
          "name": "stdout"
        }
      ]
    },
    {
      "cell_type": "markdown",
      "metadata": {
        "id": "mhjPyL_9TNzc",
        "colab_type": "text"
      },
      "source": [
        "Parsing this html using a method called lxml, create a soup object. You can simply \"h1\" or \"p\" to call the heading 1 and paragraph tag from soup.\n",
        "\n"
      ]
    },
    {
      "cell_type": "code",
      "metadata": {
        "id": "PnZfrc0LTPUZ",
        "colab_type": "code",
        "colab": {
          "base_uri": "https://localhost:8080/",
          "height": 88
        },
        "outputId": "1cba0515-1c51-46ed-e63f-b0ec006ee67a"
      },
      "source": [
        "soup= BeautifulSoup(html,features='lxml')\n",
        "print(soup.h1)\n",
        "print('\\n',soup.p)"
      ],
      "execution_count": 7,
      "outputs": [
        {
          "output_type": "stream",
          "text": [
            "<h1>The document structure</h1>\n",
            "\n",
            " <p>This tutorial studies the organization of information in an HTML document, analizing its basic structure, how it's divided and what type of content corresponds to each section.</p>\n"
          ],
          "name": "stdout"
        }
      ]
    },
    {
      "cell_type": "code",
      "metadata": {
        "id": "MZHLa20LR_uf",
        "colab_type": "code",
        "colab": {
          "base_uri": "https://localhost:8080/",
          "height": 71
        },
        "outputId": "9440f3ff-759e-488a-95ff-d93ed3a9cd57"
      },
      "source": [
        "all_href=soup.find_all('a')\n",
        "all_href=[l['href'] for l in all_href]\n",
        "print('\\n', all_href)"
      ],
      "execution_count": 9,
      "outputs": [
        {
          "output_type": "stream",
          "text": [
            "\n",
            " ['/', '/tutorials.html', '/reference.html', '/reference/tags.html', '/es/tutorials/document-structure.html', '/', '#the-basic-structure', '#the-doctype-declaration', '#the-main-container-html-element', '#the-documents-head', 'an-html-document-structure/2.html#the-documents-body', 'an-html-document-structure/2.html#practice', '../reference/tags/doctype.html', '../reference/tags/html.html', '../reference/tags/head.html', '../reference/tags/body.html', '../reference/tags/doctype.html', '../reference/tags/doctype.html', '../reference/tags/html.html', '../reference/attributes.html', '../reference/tags/head.html', '../reference/tags/body.html', '../reference/tags/head.html', '../reference/tags/title.html', '../reference/tags/style.html', '../reference/tags/script.html', '../reference/tags/meta.html', '../reference/tags/link.html', '../reference/tags/head.html', '../reference/tags/body.html', 'an-html-document-structure/2.html', 'an-html-document-structure/2.html', '/tutorials/how-to-begin.html', '/tutorials/tags-attributes.html', '/tutorials/document-structure.html', '/tutorials/content-grouping-and-structure.html', '/tutorials/links.html', '/tutorials/organizing-website.html', '/tutorials/tables.html', '/tutorials/forms.html', '/tutorials/css.html', '/reference/tags.html', '/reference/character-encoding.html', '/reference/character-entity-reference.html', '/reference/events.html', '/reference/attributes.html', '/reference/color-codes.html', '/reference/language-codes.html', '/reference/mime-types.html', '/reference/uri-url.html', '/contactus.php', '/beyond-html.html', '/tools-resources.html', '/webmaster.html', '/contactus.php', '/donate.html']\n"
          ],
          "name": "stdout"
        }
      ]
    },
    {
      "cell_type": "code",
      "metadata": {
        "id": "tJmFKvH_UHS0",
        "colab_type": "code",
        "colab": {}
      },
      "source": [
        ""
      ],
      "execution_count": null,
      "outputs": []
    },
    {
      "cell_type": "code",
      "metadata": {
        "id": "K1sKqjnMT_A8",
        "colab_type": "code",
        "colab": {}
      },
      "source": [
        ""
      ],
      "execution_count": null,
      "outputs": []
    },
    {
      "cell_type": "code",
      "metadata": {
        "id": "XkteMkZcTDPw",
        "colab_type": "code",
        "colab": {}
      },
      "source": [
        ""
      ],
      "execution_count": null,
      "outputs": []
    },
    {
      "cell_type": "code",
      "metadata": {
        "id": "4a3Y4NU7R5UZ",
        "colab_type": "code",
        "colab": {}
      },
      "source": [
        ""
      ],
      "execution_count": null,
      "outputs": []
    }
  ]
}