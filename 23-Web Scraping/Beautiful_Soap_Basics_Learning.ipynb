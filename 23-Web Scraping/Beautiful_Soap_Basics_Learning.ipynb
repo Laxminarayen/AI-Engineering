{
  "nbformat": 4,
  "nbformat_minor": 0,
  "metadata": {
    "colab": {
      "name": "Beautiful Soap Basics Learning.ipynb",
      "provenance": [],
      "authorship_tag": "ABX9TyPOGqPsN5Hkkj1umvd7Gj1o",
      "include_colab_link": true
    },
    "kernelspec": {
      "name": "python3",
      "display_name": "Python 3"
    }
  },
  "cells": [
    {
      "cell_type": "markdown",
      "metadata": {
        "id": "view-in-github",
        "colab_type": "text"
      },
      "source": [
        "<a href=\"https://colab.research.google.com/github/plthiyagu/Personnel/blob/master/Beautiful_Soap_Basics_Learning.ipynb\" target=\"_parent\"><img src=\"https://colab.research.google.com/assets/colab-badge.svg\" alt=\"Open In Colab\"/></a>"
      ]
    },
    {
      "cell_type": "code",
      "metadata": {
        "id": "TRlrI_4jZtQM",
        "colab_type": "code",
        "colab": {}
      },
      "source": [
        "from bs4 import BeautifulSoup\n",
        "from urllib.request import urlopen"
      ],
      "execution_count": 3,
      "outputs": []
    },
    {
      "cell_type": "code",
      "metadata": {
        "id": "jnnpuXgUZ4GO",
        "colab_type": "code",
        "colab": {
          "base_uri": "https://localhost:8080/",
          "height": 34
        },
        "outputId": "355ca6b3-eb01-4c54-f89c-5f3fb29cb206"
      },
      "source": [
        "import requests\n",
        "page = requests.get(\"http://dataquestio.github.io/web-scraping-pages/simple.html\")\n",
        "page\n"
      ],
      "execution_count": 8,
      "outputs": [
        {
          "output_type": "execute_result",
          "data": {
            "text/plain": [
              "<Response [200]>"
            ]
          },
          "metadata": {
            "tags": []
          },
          "execution_count": 8
        }
      ]
    },
    {
      "cell_type": "code",
      "metadata": {
        "id": "BPlWt86UaU5t",
        "colab_type": "code",
        "colab": {
          "base_uri": "https://localhost:8080/",
          "height": 34
        },
        "outputId": "aaa3f9b3-2162-4ed4-e084-54d3b56da2e3"
      },
      "source": [
        "page.status_code"
      ],
      "execution_count": 9,
      "outputs": [
        {
          "output_type": "execute_result",
          "data": {
            "text/plain": [
              "200"
            ]
          },
          "metadata": {
            "tags": []
          },
          "execution_count": 9
        }
      ]
    },
    {
      "cell_type": "code",
      "metadata": {
        "id": "bPEXNWJpaWXc",
        "colab_type": "code",
        "colab": {
          "base_uri": "https://localhost:8080/",
          "height": 54
        },
        "outputId": "bbb3e7d4-f463-40cc-b13f-60d7873b9007"
      },
      "source": [
        "page.content"
      ],
      "execution_count": 10,
      "outputs": [
        {
          "output_type": "execute_result",
          "data": {
            "text/plain": [
              "b'<!DOCTYPE html>\\n<html>\\n    <head>\\n        <title>A simple example page</title>\\n    </head>\\n    <body>\\n        <p>Here is some simple content for this page.</p>\\n    </body>\\n</html>'"
            ]
          },
          "metadata": {
            "tags": []
          },
          "execution_count": 10
        }
      ]
    },
    {
      "cell_type": "code",
      "metadata": {
        "id": "U4Juov63aDet",
        "colab_type": "code",
        "colab": {
          "base_uri": "https://localhost:8080/",
          "height": 170
        },
        "outputId": "bad12ab5-0bb7-41d9-a76c-f9ef6c345da6"
      },
      "source": [
        "html= urlopen(\"http://dataquestio.github.io/web-scraping-pages/simple.html\").read().decode('utf-8')\n",
        "print(html)"
      ],
      "execution_count": 7,
      "outputs": [
        {
          "output_type": "stream",
          "text": [
            "<!DOCTYPE html>\n",
            "<html>\n",
            "    <head>\n",
            "        <title>A simple example page</title>\n",
            "    </head>\n",
            "    <body>\n",
            "        <p>Here is some simple content for this page.</p>\n",
            "    </body>\n",
            "</html>\n"
          ],
          "name": "stdout"
        }
      ]
    },
    {
      "cell_type": "code",
      "metadata": {
        "id": "DK4tmVyBaK2Z",
        "colab_type": "code",
        "colab": {
          "base_uri": "https://localhost:8080/",
          "height": 238
        },
        "outputId": "29f87b1c-1062-4cce-fc16-61313b931f3a"
      },
      "source": [
        "soup= BeautifulSoup(page.content,'html.parser')\n",
        "print(soup.prettify())"
      ],
      "execution_count": 13,
      "outputs": [
        {
          "output_type": "stream",
          "text": [
            "<!DOCTYPE html>\n",
            "<html>\n",
            " <head>\n",
            "  <title>\n",
            "   A simple example page\n",
            "  </title>\n",
            " </head>\n",
            " <body>\n",
            "  <p>\n",
            "   Here is some simple content for this page.\n",
            "  </p>\n",
            " </body>\n",
            "</html>\n"
          ],
          "name": "stdout"
        }
      ]
    },
    {
      "cell_type": "code",
      "metadata": {
        "id": "ojYPyivNazMl",
        "colab_type": "code",
        "colab": {
          "base_uri": "https://localhost:8080/",
          "height": 153
        },
        "outputId": "544eb49d-8ed6-4fdb-8910-e784c1690962"
      },
      "source": [
        "list(soup.children)"
      ],
      "execution_count": 14,
      "outputs": [
        {
          "output_type": "execute_result",
          "data": {
            "text/plain": [
              "['html', '\\n', <html>\n",
              " <head>\n",
              " <title>A simple example page</title>\n",
              " </head>\n",
              " <body>\n",
              " <p>Here is some simple content for this page.</p>\n",
              " </body>\n",
              " </html>]"
            ]
          },
          "metadata": {
            "tags": []
          },
          "execution_count": 14
        }
      ]
    },
    {
      "cell_type": "code",
      "metadata": {
        "id": "uTXLn6E6a5eP",
        "colab_type": "code",
        "colab": {
          "base_uri": "https://localhost:8080/",
          "height": 34
        },
        "outputId": "3eccea7e-ed68-4e67-8254-5f16d29bf64f"
      },
      "source": [
        "[type(item) for item in list(soup.children)]"
      ],
      "execution_count": 26,
      "outputs": [
        {
          "output_type": "execute_result",
          "data": {
            "text/plain": [
              "[bs4.element.Doctype, bs4.element.NavigableString, bs4.element.Tag]"
            ]
          },
          "metadata": {
            "tags": []
          },
          "execution_count": 26
        }
      ]
    },
    {
      "cell_type": "code",
      "metadata": {
        "id": "tEe153yPbLcm",
        "colab_type": "code",
        "colab": {}
      },
      "source": [
        "html = list(soup.children)[2]"
      ],
      "execution_count": 24,
      "outputs": []
    },
    {
      "cell_type": "code",
      "metadata": {
        "id": "-1IvZxaFbYpR",
        "colab_type": "code",
        "colab": {
          "base_uri": "https://localhost:8080/",
          "height": 102
        },
        "outputId": "527b3ede-339b-48e6-a32f-594bee893337"
      },
      "source": [
        "list(html.children)"
      ],
      "execution_count": 25,
      "outputs": [
        {
          "output_type": "execute_result",
          "data": {
            "text/plain": [
              "['\\n', <head>\n",
              " <title>A simple example page</title>\n",
              " </head>, '\\n', <body>\n",
              " <p>Here is some simple content for this page.</p>\n",
              " </body>, '\\n']"
            ]
          },
          "metadata": {
            "tags": []
          },
          "execution_count": 25
        }
      ]
    },
    {
      "cell_type": "code",
      "metadata": {
        "id": "wurDAJgtdT8A",
        "colab_type": "code",
        "colab": {
          "base_uri": "https://localhost:8080/",
          "height": 34
        },
        "outputId": "3901403e-8f3d-4d25-bfa4-b4a588216629"
      },
      "source": [
        "body = list(html.children)[3]\n",
        "list(body.children)"
      ],
      "execution_count": 27,
      "outputs": [
        {
          "output_type": "execute_result",
          "data": {
            "text/plain": [
              "['\\n', <p>Here is some simple content for this page.</p>, '\\n']"
            ]
          },
          "metadata": {
            "tags": []
          },
          "execution_count": 27
        }
      ]
    },
    {
      "cell_type": "code",
      "metadata": {
        "id": "2us0r-iydlb2",
        "colab_type": "code",
        "colab": {}
      },
      "source": [
        "p = list(body.children)[1]"
      ],
      "execution_count": 28,
      "outputs": []
    },
    {
      "cell_type": "code",
      "metadata": {
        "id": "9zvV2vundwPE",
        "colab_type": "code",
        "colab": {
          "base_uri": "https://localhost:8080/",
          "height": 35
        },
        "outputId": "3986f28f-0775-4057-a7a9-f90105ff3e27"
      },
      "source": [
        "p.get_text()"
      ],
      "execution_count": 30,
      "outputs": [
        {
          "output_type": "execute_result",
          "data": {
            "application/vnd.google.colaboratory.intrinsic+json": {
              "type": "string"
            },
            "text/plain": [
              "'Here is some simple content for this page.'"
            ]
          },
          "metadata": {
            "tags": []
          },
          "execution_count": 30
        }
      ]
    },
    {
      "cell_type": "code",
      "metadata": {
        "id": "ACllwxFkdxHX",
        "colab_type": "code",
        "colab": {
          "base_uri": "https://localhost:8080/",
          "height": 34
        },
        "outputId": "af70da39-109c-4941-cd87-9d435f59384a"
      },
      "source": [
        "soup = BeautifulSoup(page.content, 'html.parser')\n",
        "soup.find_all('p')"
      ],
      "execution_count": 31,
      "outputs": [
        {
          "output_type": "execute_result",
          "data": {
            "text/plain": [
              "[<p>Here is some simple content for this page.</p>]"
            ]
          },
          "metadata": {
            "tags": []
          },
          "execution_count": 31
        }
      ]
    },
    {
      "cell_type": "code",
      "metadata": {
        "id": "Xuk3YnBJd6h3",
        "colab_type": "code",
        "colab": {
          "base_uri": "https://localhost:8080/",
          "height": 35
        },
        "outputId": "7a13bf1b-fb87-4579-97e5-0af7f9c92c9a"
      },
      "source": [
        "soup.find_all('p')[0].get_text()"
      ],
      "execution_count": 33,
      "outputs": [
        {
          "output_type": "execute_result",
          "data": {
            "application/vnd.google.colaboratory.intrinsic+json": {
              "type": "string"
            },
            "text/plain": [
              "'Here is some simple content for this page.'"
            ]
          },
          "metadata": {
            "tags": []
          },
          "execution_count": 33
        }
      ]
    },
    {
      "cell_type": "code",
      "metadata": {
        "id": "vWvJHSRud_wE",
        "colab_type": "code",
        "colab": {
          "base_uri": "https://localhost:8080/",
          "height": 35
        },
        "outputId": "9501f629-58fe-4f6c-84ff-a7d776075b57"
      },
      "source": [
        "soup.find('p').get_text()"
      ],
      "execution_count": 34,
      "outputs": [
        {
          "output_type": "execute_result",
          "data": {
            "application/vnd.google.colaboratory.intrinsic+json": {
              "type": "string"
            },
            "text/plain": [
              "'Here is some simple content for this page.'"
            ]
          },
          "metadata": {
            "tags": []
          },
          "execution_count": 34
        }
      ]
    },
    {
      "cell_type": "code",
      "metadata": {
        "id": "LIX828AGeJKS",
        "colab_type": "code",
        "colab": {
          "base_uri": "https://localhost:8080/",
          "height": 442
        },
        "outputId": "5288fba9-2b4f-46b4-ae69-ab0b73c1e137"
      },
      "source": [
        "page = requests.get(\"http://dataquestio.github.io/web-scraping-pages/ids_and_classes.html\")\n",
        "soup = BeautifulSoup(page.content, 'html.parser')\n",
        "soup"
      ],
      "execution_count": 35,
      "outputs": [
        {
          "output_type": "execute_result",
          "data": {
            "text/plain": [
              "<html>\n",
              "<head>\n",
              "<title>A simple example page</title>\n",
              "</head>\n",
              "<body>\n",
              "<div>\n",
              "<p class=\"inner-text first-item\" id=\"first\">\n",
              "                First paragraph.\n",
              "            </p>\n",
              "<p class=\"inner-text\">\n",
              "                Second paragraph.\n",
              "            </p>\n",
              "</div>\n",
              "<p class=\"outer-text first-item\" id=\"second\">\n",
              "<b>\n",
              "                First outer paragraph.\n",
              "            </b>\n",
              "</p>\n",
              "<p class=\"outer-text\">\n",
              "<b>\n",
              "                Second outer paragraph.\n",
              "            </b>\n",
              "</p>\n",
              "</body>\n",
              "</html>"
            ]
          },
          "metadata": {
            "tags": []
          },
          "execution_count": 35
        }
      ]
    },
    {
      "cell_type": "code",
      "metadata": {
        "id": "Q_uv3cTheRv9",
        "colab_type": "code",
        "colab": {
          "base_uri": "https://localhost:8080/",
          "height": 170
        },
        "outputId": "6f780895-b4b4-4b87-e9ea-9bdd8403a7e6"
      },
      "source": [
        "soup.find_all('p', class_='outer-text')"
      ],
      "execution_count": 36,
      "outputs": [
        {
          "output_type": "execute_result",
          "data": {
            "text/plain": [
              "[<p class=\"outer-text first-item\" id=\"second\">\n",
              " <b>\n",
              "                 First outer paragraph.\n",
              "             </b>\n",
              " </p>, <p class=\"outer-text\">\n",
              " <b>\n",
              "                 Second outer paragraph.\n",
              "             </b>\n",
              " </p>]"
            ]
          },
          "metadata": {
            "tags": []
          },
          "execution_count": 36
        }
      ]
    },
    {
      "cell_type": "code",
      "metadata": {
        "id": "vZ1C9VxMmlxr",
        "colab_type": "code",
        "colab": {
          "base_uri": "https://localhost:8080/",
          "height": 170
        },
        "outputId": "a8337820-379d-4996-f612-f7a2d182ab5a"
      },
      "source": [
        "soup.find_all(class_=\"outer-text\")"
      ],
      "execution_count": 37,
      "outputs": [
        {
          "output_type": "execute_result",
          "data": {
            "text/plain": [
              "[<p class=\"outer-text first-item\" id=\"second\">\n",
              " <b>\n",
              "                 First outer paragraph.\n",
              "             </b>\n",
              " </p>, <p class=\"outer-text\">\n",
              " <b>\n",
              "                 Second outer paragraph.\n",
              "             </b>\n",
              " </p>]"
            ]
          },
          "metadata": {
            "tags": []
          },
          "execution_count": 37
        }
      ]
    },
    {
      "cell_type": "code",
      "metadata": {
        "id": "l_GiGg2kmqIm",
        "colab_type": "code",
        "colab": {
          "base_uri": "https://localhost:8080/",
          "height": 68
        },
        "outputId": "c5c726c5-f7bf-47de-ca39-6b6510816dba"
      },
      "source": [
        "soup.find_all(id=\"first\")"
      ],
      "execution_count": 38,
      "outputs": [
        {
          "output_type": "execute_result",
          "data": {
            "text/plain": [
              "[<p class=\"inner-text first-item\" id=\"first\">\n",
              "                 First paragraph.\n",
              "             </p>]"
            ]
          },
          "metadata": {
            "tags": []
          },
          "execution_count": 38
        }
      ]
    },
    {
      "cell_type": "markdown",
      "metadata": {
        "id": "_iHeaP3xm2ap",
        "colab_type": "text"
      },
      "source": [
        "p a — finds all a tags inside of a p tag.\n",
        "\n",
        "body p a — finds all a tags inside of a p tag inside of a body tag.\n",
        "\n",
        "html body — finds all body tags inside of an html tag.\n",
        "\n",
        "p.outer-text — finds all p tags with a class of outer-text.\n",
        "\n",
        "p#first — finds all p tags with an id of first.\n",
        "\n",
        "body p.outer-text — finds any p tags with a class of outer-text inside of a body tag.\n"
      ]
    },
    {
      "cell_type": "code",
      "metadata": {
        "id": "278s3FlGmvHa",
        "colab_type": "code",
        "colab": {
          "base_uri": "https://localhost:8080/",
          "height": 102
        },
        "outputId": "4f80c385-35a9-4d46-903a-6d1437e3ba70"
      },
      "source": [
        "soup.select(\"div p\")"
      ],
      "execution_count": 39,
      "outputs": [
        {
          "output_type": "execute_result",
          "data": {
            "text/plain": [
              "[<p class=\"inner-text first-item\" id=\"first\">\n",
              "                 First paragraph.\n",
              "             </p>, <p class=\"inner-text\">\n",
              "                 Second paragraph.\n",
              "             </p>]"
            ]
          },
          "metadata": {
            "tags": []
          },
          "execution_count": 39
        }
      ]
    },
    {
      "cell_type": "code",
      "metadata": {
        "id": "pgHEfyldnCPw",
        "colab_type": "code",
        "colab": {
          "base_uri": "https://localhost:8080/",
          "height": 309
        },
        "outputId": "9a2cc8f9-f2bb-4a18-b8cb-ad14939694f4"
      },
      "source": [
        "page = requests.get(\"http://forecast.weather.gov/MapClick.php?lat=37.7772&lon=-122.4168\")\n",
        "soup= BeautifulSoup(page.content,'html.parser')\n",
        "seven_day= soup.find(id=\"seven-day-forecast\")\n",
        "forecast_items = seven_day.find_all(class_=\"tombstone-container\")\n",
        "tonight = forecast_items[0]\n",
        "print(tonight.prettify())\n"
      ],
      "execution_count": 41,
      "outputs": [
        {
          "output_type": "stream",
          "text": [
            "<div class=\"tombstone-container\">\n",
            " <p class=\"period-name\">\n",
            "  This\n",
            "  <br/>\n",
            "  Afternoon\n",
            " </p>\n",
            " <p>\n",
            "  <img alt=\"This Afternoon: Widespread haze before 2pm. Areas of smoke after 2pm. Mostly sunny, with a high near 75. West wind 10 to 15 mph, with gusts as high as 20 mph. \" class=\"forecast-icon\" src=\"newimages/medium/hz.png\" title=\"This Afternoon: Widespread haze before 2pm. Areas of smoke after 2pm. Mostly sunny, with a high near 75. West wind 10 to 15 mph, with gusts as high as 20 mph. \"/>\n",
            " </p>\n",
            " <p class=\"short-desc\">\n",
            "  Haze\n",
            " </p>\n",
            " <p class=\"temp temp-high\">\n",
            "  High: 75 °F\n",
            " </p>\n",
            "</div>\n"
          ],
          "name": "stdout"
        }
      ]
    },
    {
      "cell_type": "code",
      "metadata": {
        "id": "snPrftycnzbp",
        "colab_type": "code",
        "colab": {
          "base_uri": "https://localhost:8080/",
          "height": 68
        },
        "outputId": "cb701d1f-8291-4746-9d49-5c4d89c874d1"
      },
      "source": [
        "period = tonight.find(class_=\"period-name\").get_text()\n",
        "short_desc = tonight.find(class_=\"short-desc\").get_text()\n",
        "temp = tonight.find(class_=\"temp\").get_text()\n",
        "print(period)\n",
        "print(short_desc)\n",
        "print(temp)"
      ],
      "execution_count": 42,
      "outputs": [
        {
          "output_type": "stream",
          "text": [
            "ThisAfternoon\n",
            "Haze\n",
            "High: 75 °F\n"
          ],
          "name": "stdout"
        }
      ]
    },
    {
      "cell_type": "code",
      "metadata": {
        "id": "5O8XrdqvpJ_e",
        "colab_type": "code",
        "colab": {
          "base_uri": "https://localhost:8080/",
          "height": 34
        },
        "outputId": "b427f9d0-2d31-4830-904d-4e700774bc00"
      },
      "source": [
        "img = tonight.find(\"img\")\n",
        "desc = img['title']\n",
        "print(desc)\n"
      ],
      "execution_count": 43,
      "outputs": [
        {
          "output_type": "stream",
          "text": [
            "This Afternoon: Widespread haze before 2pm. Areas of smoke after 2pm. Mostly sunny, with a high near 75. West wind 10 to 15 mph, with gusts as high as 20 mph. \n"
          ],
          "name": "stdout"
        }
      ]
    },
    {
      "cell_type": "code",
      "metadata": {
        "id": "v8ZTLzk3r-KE",
        "colab_type": "code",
        "colab": {}
      },
      "source": [
        "import requests\n",
        "URL = 'https://www.monster.com/jobs/search/?q=Software-Developer&where=Australia'\n",
        "page = requests.get(URL)"
      ],
      "execution_count": 44,
      "outputs": []
    },
    {
      "cell_type": "code",
      "metadata": {
        "id": "Zfqo5ku2sDT0",
        "colab_type": "code",
        "colab": {
          "base_uri": "https://localhost:8080/",
          "height": 170
        },
        "outputId": "f0872a69-ec55-4c70-e1c4-b7507e090197"
      },
      "source": [
        "period_tags = seven_day.select(\".tombstone-container .period-name\")\n",
        "periods = [pt.get_text() for pt in period_tags]\n",
        "periods"
      ],
      "execution_count": 45,
      "outputs": [
        {
          "output_type": "execute_result",
          "data": {
            "text/plain": [
              "['ThisAfternoon',\n",
              " 'Tonight',\n",
              " 'Friday',\n",
              " 'FridayNight',\n",
              " 'Saturday',\n",
              " 'SaturdayNight',\n",
              " 'Sunday',\n",
              " 'SundayNight',\n",
              " 'Monday']"
            ]
          },
          "metadata": {
            "tags": []
          },
          "execution_count": 45
        }
      ]
    },
    {
      "cell_type": "code",
      "metadata": {
        "id": "FmaHMkUjsvEP",
        "colab_type": "code",
        "colab": {
          "base_uri": "https://localhost:8080/",
          "height": 88
        },
        "outputId": "96b80adb-17e7-4e10-83e0-9de323a6063a"
      },
      "source": [
        "short_descs = [sd.get_text() for sd in seven_day.select(\".tombstone-container .short-desc\")]\n",
        "temps = [t.get_text() for t in seven_day.select(\".tombstone-container .temp\")]\n",
        "descs = [d[\"title\"] for d in seven_day.select(\".tombstone-container img\")]\n",
        "print(short_descs)\n",
        "print(temps)\n",
        "print(descs)"
      ],
      "execution_count": 48,
      "outputs": [
        {
          "output_type": "stream",
          "text": [
            "['Haze', 'Areas Smokethen Haze', 'Partly Sunny', 'Partly Cloudy', 'Mostly Sunny', 'Mostly Cloudy', 'Mostly Sunny', 'Partly Cloudy', 'Mostly Sunny']\n",
            "['High: 75 °F', 'Low: 60 °F', 'High: 77 °F', 'Low: 60 °F', 'High: 74 °F', 'Low: 58 °F', 'High: 72 °F', 'Low: 60 °F', 'High: 76 °F']\n",
            "['This Afternoon: Widespread haze before 2pm. Areas of smoke after 2pm. Mostly sunny, with a high near 75. West wind 10 to 15 mph, with gusts as high as 20 mph. ', 'Tonight: Widespread haze between midnight and 4am. Areas of smoke before midnight. Mostly cloudy, with a low around 60. West wind 9 to 15 mph, with gusts as high as 20 mph. ', 'Friday: Partly sunny, with a high near 77. West wind 5 to 10 mph increasing to 12 to 17 mph in the afternoon. Winds could gust as high as 22 mph. ', 'Friday Night: Partly cloudy, with a low around 60. West wind 9 to 16 mph, with gusts as high as 21 mph. ', 'Saturday: Mostly sunny, with a high near 74. West southwest wind 6 to 11 mph. ', 'Saturday Night: Mostly cloudy, with a low around 58.', 'Sunday: Mostly sunny, with a high near 72.', 'Sunday Night: Partly cloudy, with a low around 60.', 'Monday: Mostly sunny, with a high near 76.']\n"
          ],
          "name": "stdout"
        }
      ]
    },
    {
      "cell_type": "code",
      "metadata": {
        "id": "ge6nEiHFnUMY",
        "colab_type": "code",
        "colab": {
          "base_uri": "https://localhost:8080/",
          "height": 328
        },
        "outputId": "b467c84c-771a-454c-8a6f-0e9802839837"
      },
      "source": [
        "import pandas as pd\n",
        "weather = pd.DataFrame({\n",
        "    \"period\": periods,\n",
        "    \"short_desc\": short_descs,\n",
        "    \"temp\": temps,\n",
        "    \"desc\":descs\n",
        "})\n",
        "weather\n"
      ],
      "execution_count": 49,
      "outputs": [
        {
          "output_type": "execute_result",
          "data": {
            "text/html": [
              "<div>\n",
              "<style scoped>\n",
              "    .dataframe tbody tr th:only-of-type {\n",
              "        vertical-align: middle;\n",
              "    }\n",
              "\n",
              "    .dataframe tbody tr th {\n",
              "        vertical-align: top;\n",
              "    }\n",
              "\n",
              "    .dataframe thead th {\n",
              "        text-align: right;\n",
              "    }\n",
              "</style>\n",
              "<table border=\"1\" class=\"dataframe\">\n",
              "  <thead>\n",
              "    <tr style=\"text-align: right;\">\n",
              "      <th></th>\n",
              "      <th>period</th>\n",
              "      <th>short_desc</th>\n",
              "      <th>temp</th>\n",
              "      <th>desc</th>\n",
              "    </tr>\n",
              "  </thead>\n",
              "  <tbody>\n",
              "    <tr>\n",
              "      <th>0</th>\n",
              "      <td>ThisAfternoon</td>\n",
              "      <td>Haze</td>\n",
              "      <td>High: 75 °F</td>\n",
              "      <td>This Afternoon: Widespread haze before 2pm. Ar...</td>\n",
              "    </tr>\n",
              "    <tr>\n",
              "      <th>1</th>\n",
              "      <td>Tonight</td>\n",
              "      <td>Areas Smokethen Haze</td>\n",
              "      <td>Low: 60 °F</td>\n",
              "      <td>Tonight: Widespread haze between midnight and ...</td>\n",
              "    </tr>\n",
              "    <tr>\n",
              "      <th>2</th>\n",
              "      <td>Friday</td>\n",
              "      <td>Partly Sunny</td>\n",
              "      <td>High: 77 °F</td>\n",
              "      <td>Friday: Partly sunny, with a high near 77. Wes...</td>\n",
              "    </tr>\n",
              "    <tr>\n",
              "      <th>3</th>\n",
              "      <td>FridayNight</td>\n",
              "      <td>Partly Cloudy</td>\n",
              "      <td>Low: 60 °F</td>\n",
              "      <td>Friday Night: Partly cloudy, with a low around...</td>\n",
              "    </tr>\n",
              "    <tr>\n",
              "      <th>4</th>\n",
              "      <td>Saturday</td>\n",
              "      <td>Mostly Sunny</td>\n",
              "      <td>High: 74 °F</td>\n",
              "      <td>Saturday: Mostly sunny, with a high near 74. W...</td>\n",
              "    </tr>\n",
              "    <tr>\n",
              "      <th>5</th>\n",
              "      <td>SaturdayNight</td>\n",
              "      <td>Mostly Cloudy</td>\n",
              "      <td>Low: 58 °F</td>\n",
              "      <td>Saturday Night: Mostly cloudy, with a low arou...</td>\n",
              "    </tr>\n",
              "    <tr>\n",
              "      <th>6</th>\n",
              "      <td>Sunday</td>\n",
              "      <td>Mostly Sunny</td>\n",
              "      <td>High: 72 °F</td>\n",
              "      <td>Sunday: Mostly sunny, with a high near 72.</td>\n",
              "    </tr>\n",
              "    <tr>\n",
              "      <th>7</th>\n",
              "      <td>SundayNight</td>\n",
              "      <td>Partly Cloudy</td>\n",
              "      <td>Low: 60 °F</td>\n",
              "      <td>Sunday Night: Partly cloudy, with a low around...</td>\n",
              "    </tr>\n",
              "    <tr>\n",
              "      <th>8</th>\n",
              "      <td>Monday</td>\n",
              "      <td>Mostly Sunny</td>\n",
              "      <td>High: 76 °F</td>\n",
              "      <td>Monday: Mostly sunny, with a high near 76.</td>\n",
              "    </tr>\n",
              "  </tbody>\n",
              "</table>\n",
              "</div>"
            ],
            "text/plain": [
              "          period  ...                                               desc\n",
              "0  ThisAfternoon  ...  This Afternoon: Widespread haze before 2pm. Ar...\n",
              "1        Tonight  ...  Tonight: Widespread haze between midnight and ...\n",
              "2         Friday  ...  Friday: Partly sunny, with a high near 77. Wes...\n",
              "3    FridayNight  ...  Friday Night: Partly cloudy, with a low around...\n",
              "4       Saturday  ...  Saturday: Mostly sunny, with a high near 74. W...\n",
              "5  SaturdayNight  ...  Saturday Night: Mostly cloudy, with a low arou...\n",
              "6         Sunday  ...         Sunday: Mostly sunny, with a high near 72.\n",
              "7    SundayNight  ...  Sunday Night: Partly cloudy, with a low around...\n",
              "8         Monday  ...         Monday: Mostly sunny, with a high near 76.\n",
              "\n",
              "[9 rows x 4 columns]"
            ]
          },
          "metadata": {
            "tags": []
          },
          "execution_count": 49
        }
      ]
    },
    {
      "cell_type": "code",
      "metadata": {
        "id": "C96OCjw-dQnF",
        "colab_type": "code",
        "colab": {
          "base_uri": "https://localhost:8080/",
          "height": 187
        },
        "outputId": "098517e2-7143-459b-f719-97b3c41bbb62"
      },
      "source": [
        "temp_nums = weather[\"temp\"].str.extract(\"(?P<temp_num>\\d+)\", expand=False)\n",
        "weather[\"temp_num\"] = temp_nums.astype('int')\n",
        "temp_nums"
      ],
      "execution_count": 50,
      "outputs": [
        {
          "output_type": "execute_result",
          "data": {
            "text/plain": [
              "0    75\n",
              "1    60\n",
              "2    77\n",
              "3    60\n",
              "4    74\n",
              "5    58\n",
              "6    72\n",
              "7    60\n",
              "8    76\n",
              "Name: temp_num, dtype: object"
            ]
          },
          "metadata": {
            "tags": []
          },
          "execution_count": 50
        }
      ]
    },
    {
      "cell_type": "code",
      "metadata": {
        "id": "Ce56fxbVtE_M",
        "colab_type": "code",
        "colab": {
          "base_uri": "https://localhost:8080/",
          "height": 34
        },
        "outputId": "40f74865-c8c3-405b-a7d7-0390e5449dc1"
      },
      "source": [
        "weather[\"temp_num\"].mean()"
      ],
      "execution_count": 51,
      "outputs": [
        {
          "output_type": "execute_result",
          "data": {
            "text/plain": [
              "68.0"
            ]
          },
          "metadata": {
            "tags": []
          },
          "execution_count": 51
        }
      ]
    },
    {
      "cell_type": "code",
      "metadata": {
        "id": "FWApxQSatHrc",
        "colab_type": "code",
        "colab": {
          "base_uri": "https://localhost:8080/",
          "height": 187
        },
        "outputId": "33d9633b-d9e8-4f91-e301-d406b8912d94"
      },
      "source": [
        "is_night = weather[\"temp\"].str.contains(\"Low\")\n",
        "weather[\"is_night\"] = is_night\n",
        "is_night"
      ],
      "execution_count": 52,
      "outputs": [
        {
          "output_type": "execute_result",
          "data": {
            "text/plain": [
              "0    False\n",
              "1     True\n",
              "2    False\n",
              "3     True\n",
              "4    False\n",
              "5     True\n",
              "6    False\n",
              "7     True\n",
              "8    False\n",
              "Name: temp, dtype: bool"
            ]
          },
          "metadata": {
            "tags": []
          },
          "execution_count": 52
        }
      ]
    },
    {
      "cell_type": "code",
      "metadata": {
        "id": "1i6jR27GtKQ2",
        "colab_type": "code",
        "colab": {
          "base_uri": "https://localhost:8080/",
          "height": 173
        },
        "outputId": "38595440-c4aa-4aa2-e5e7-1a7de5396758"
      },
      "source": [
        "weather[is_night]"
      ],
      "execution_count": 53,
      "outputs": [
        {
          "output_type": "execute_result",
          "data": {
            "text/html": [
              "<div>\n",
              "<style scoped>\n",
              "    .dataframe tbody tr th:only-of-type {\n",
              "        vertical-align: middle;\n",
              "    }\n",
              "\n",
              "    .dataframe tbody tr th {\n",
              "        vertical-align: top;\n",
              "    }\n",
              "\n",
              "    .dataframe thead th {\n",
              "        text-align: right;\n",
              "    }\n",
              "</style>\n",
              "<table border=\"1\" class=\"dataframe\">\n",
              "  <thead>\n",
              "    <tr style=\"text-align: right;\">\n",
              "      <th></th>\n",
              "      <th>period</th>\n",
              "      <th>short_desc</th>\n",
              "      <th>temp</th>\n",
              "      <th>desc</th>\n",
              "      <th>temp_num</th>\n",
              "      <th>is_night</th>\n",
              "    </tr>\n",
              "  </thead>\n",
              "  <tbody>\n",
              "    <tr>\n",
              "      <th>1</th>\n",
              "      <td>Tonight</td>\n",
              "      <td>Areas Smokethen Haze</td>\n",
              "      <td>Low: 60 °F</td>\n",
              "      <td>Tonight: Widespread haze between midnight and ...</td>\n",
              "      <td>60</td>\n",
              "      <td>True</td>\n",
              "    </tr>\n",
              "    <tr>\n",
              "      <th>3</th>\n",
              "      <td>FridayNight</td>\n",
              "      <td>Partly Cloudy</td>\n",
              "      <td>Low: 60 °F</td>\n",
              "      <td>Friday Night: Partly cloudy, with a low around...</td>\n",
              "      <td>60</td>\n",
              "      <td>True</td>\n",
              "    </tr>\n",
              "    <tr>\n",
              "      <th>5</th>\n",
              "      <td>SaturdayNight</td>\n",
              "      <td>Mostly Cloudy</td>\n",
              "      <td>Low: 58 °F</td>\n",
              "      <td>Saturday Night: Mostly cloudy, with a low arou...</td>\n",
              "      <td>58</td>\n",
              "      <td>True</td>\n",
              "    </tr>\n",
              "    <tr>\n",
              "      <th>7</th>\n",
              "      <td>SundayNight</td>\n",
              "      <td>Partly Cloudy</td>\n",
              "      <td>Low: 60 °F</td>\n",
              "      <td>Sunday Night: Partly cloudy, with a low around...</td>\n",
              "      <td>60</td>\n",
              "      <td>True</td>\n",
              "    </tr>\n",
              "  </tbody>\n",
              "</table>\n",
              "</div>"
            ],
            "text/plain": [
              "          period            short_desc  ... temp_num is_night\n",
              "1        Tonight  Areas Smokethen Haze  ...       60     True\n",
              "3    FridayNight         Partly Cloudy  ...       60     True\n",
              "5  SaturdayNight         Mostly Cloudy  ...       58     True\n",
              "7    SundayNight         Partly Cloudy  ...       60     True\n",
              "\n",
              "[4 rows x 6 columns]"
            ]
          },
          "metadata": {
            "tags": []
          },
          "execution_count": 53
        }
      ]
    },
    {
      "cell_type": "code",
      "metadata": {
        "id": "zQ2QuSEZtM4H",
        "colab_type": "code",
        "colab": {}
      },
      "source": [
        ""
      ],
      "execution_count": null,
      "outputs": []
    },
    {
      "cell_type": "code",
      "metadata": {
        "id": "Kd2dLyT_aqGO",
        "colab_type": "code",
        "colab": {}
      },
      "source": [
        ""
      ],
      "execution_count": null,
      "outputs": []
    }
  ]
}