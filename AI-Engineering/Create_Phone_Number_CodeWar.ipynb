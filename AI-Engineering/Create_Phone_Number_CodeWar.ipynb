{
  "nbformat": 4,
  "nbformat_minor": 0,
  "metadata": {
    "colab": {
      "name": "Create Phone Number CodeWar.ipynb",
      "provenance": [],
      "collapsed_sections": [],
      "authorship_tag": "ABX9TyP+M8zOa9oYELcQfrYDONpU",
      "include_colab_link": true
    },
    "kernelspec": {
      "name": "python3",
      "display_name": "Python 3"
    },
    "language_info": {
      "name": "python"
    }
  },
  "cells": [
    {
      "cell_type": "markdown",
      "metadata": {
        "id": "view-in-github",
        "colab_type": "text"
      },
      "source": [
        "<a href=\"https://colab.research.google.com/github/plthiyagu/AI-Engineering/blob/master/AI-Engineering/Create_Phone_Number_CodeWar.ipynb\" target=\"_parent\"><img src=\"https://colab.research.google.com/assets/colab-badge.svg\" alt=\"Open In Colab\"/></a>"
      ]
    },
    {
      "cell_type": "code",
      "metadata": {
        "id": "L9PjpNg3AGPI"
      },
      "source": [
        "def create_phone_number(n):\n",
        "    #your code here\n",
        "    s = \"\".join([str(i) for i in n])\n",
        "    return f\"({s[:3]}) {s[3:6]}-{s[6:]}\""
      ],
      "execution_count": 2,
      "outputs": []
    },
    {
      "cell_type": "code",
      "metadata": {
        "colab": {
          "base_uri": "https://localhost:8080/",
          "height": 35
        },
        "id": "9O244wd7C5h9",
        "outputId": "9f197d9b-8155-41b7-b086-5415eed53c43"
      },
      "source": [
        "create_phone_number([1, 2, 3, 4, 5, 6, 7, 8, 9, 0])"
      ],
      "execution_count": 3,
      "outputs": [
        {
          "output_type": "execute_result",
          "data": {
            "application/vnd.google.colaboratory.intrinsic+json": {
              "type": "string"
            },
            "text/plain": [
              "'(123) 456-7890'"
            ]
          },
          "metadata": {
            "tags": []
          },
          "execution_count": 3
        }
      ]
    },
    {
      "cell_type": "code",
      "metadata": {
        "id": "55Xjnsu8DCbj"
      },
      "source": [
        "def create_phone_number1(n):\n",
        "    #your code here\n",
        "    str1 = \"\"\n",
        "    str2 = \"\"\n",
        "    str3 = \"\"\n",
        "    for i in range(len(n)):\n",
        "        if 0 <= i < 3:\n",
        "            str1 += str(n[i])\n",
        "        elif 3 <= i < 6:\n",
        "            str2 += str(n[i])\n",
        "        else:\n",
        "            str3 += str(n[i])\n",
        "    return \"(\"+str1+\") \"+str2+\"-\"+str3\n"
      ],
      "execution_count": 4,
      "outputs": []
    },
    {
      "cell_type": "code",
      "metadata": {
        "colab": {
          "base_uri": "https://localhost:8080/",
          "height": 35
        },
        "id": "1IKfgG61DIVN",
        "outputId": "e07337ad-7508-4e24-a7f2-b40e4952ba66"
      },
      "source": [
        "create_phone_number1([1, 2, 3, 4, 5, 6, 7, 8, 9, 0])"
      ],
      "execution_count": 5,
      "outputs": [
        {
          "output_type": "execute_result",
          "data": {
            "application/vnd.google.colaboratory.intrinsic+json": {
              "type": "string"
            },
            "text/plain": [
              "'(123) 456-7890'"
            ]
          },
          "metadata": {
            "tags": []
          },
          "execution_count": 5
        }
      ]
    },
    {
      "cell_type": "code",
      "metadata": {
        "id": "mO_O9FZeDJft"
      },
      "source": [
        "def create_phone_number2(n):\n",
        "    return \"({}{}{} {}{}{}-{}{}{}{})\".format(*n)\n"
      ],
      "execution_count": 8,
      "outputs": []
    },
    {
      "cell_type": "code",
      "metadata": {
        "id": "TKIpCOmbDRcO"
      },
      "source": [
        ""
      ],
      "execution_count": null,
      "outputs": []
    },
    {
      "cell_type": "code",
      "metadata": {
        "id": "tPhImZNoANHr"
      },
      "source": [
        ""
      ],
      "execution_count": null,
      "outputs": []
    }
  ]
}