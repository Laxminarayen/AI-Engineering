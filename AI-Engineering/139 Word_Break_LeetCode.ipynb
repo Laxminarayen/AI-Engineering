{
  "nbformat": 4,
  "nbformat_minor": 0,
  "metadata": {
    "colab": {
      "name": "139 Word Break LeetCode.ipynb",
      "provenance": [],
      "authorship_tag": "ABX9TyN4qpag9wFKK44SdMSO61xK",
      "include_colab_link": true
    },
    "kernelspec": {
      "name": "python3",
      "display_name": "Python 3"
    },
    "language_info": {
      "name": "python"
    }
  },
  "cells": [
    {
      "cell_type": "markdown",
      "metadata": {
        "id": "view-in-github",
        "colab_type": "text"
      },
      "source": [
        "<a href=\"https://colab.research.google.com/github/plthiyagu/AI-Engineering/blob/master/AI-Engineering/139%20Word_Break_LeetCode.ipynb\" target=\"_parent\"><img src=\"https://colab.research.google.com/assets/colab-badge.svg\" alt=\"Open In Colab\"/></a>"
      ]
    },
    {
      "cell_type": "code",
      "metadata": {
        "id": "Sj-FDi2NBrKv"
      },
      "source": [
        "def wordBreak(s, wordDict):\n",
        "    \"\"\"\n",
        "    :type s: str\n",
        "    :type wordDict: List[str]\n",
        "    :rtype: bool\n",
        "    \"\"\"\n",
        "    L = len(s)\n",
        "    dp = [False]*(L+1)\n",
        "    dp[0]=True\n",
        "    for i in range(1,L+1):\n",
        "        for j in range(i):\n",
        "            if dp[j] and s[j:i] in wordDict:\n",
        "                print(s[j:i])\n",
        "                dp[i] = True\n",
        "    return dp[-1]"
      ],
      "execution_count": 1,
      "outputs": []
    },
    {
      "cell_type": "code",
      "metadata": {
        "colab": {
          "base_uri": "https://localhost:8080/"
        },
        "id": "mhcMz1OBB0c_",
        "outputId": "94b8f72c-3827-47a4-df94-71793bb65170"
      },
      "source": [
        "s = \"leetcode\"\n",
        "wordDict = [\"leet\",\"code\"]\n",
        "wordBreak(s, wordDict)"
      ],
      "execution_count": 2,
      "outputs": [
        {
          "output_type": "stream",
          "text": [
            "leet\n",
            "code\n"
          ],
          "name": "stdout"
        },
        {
          "output_type": "execute_result",
          "data": {
            "text/plain": [
              "True"
            ]
          },
          "metadata": {
            "tags": []
          },
          "execution_count": 2
        }
      ]
    },
    {
      "cell_type": "code",
      "metadata": {
        "id": "yVSVIZILB9oL"
      },
      "source": [
        ""
      ],
      "execution_count": null,
      "outputs": []
    }
  ]
}