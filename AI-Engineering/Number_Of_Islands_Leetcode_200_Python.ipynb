{
  "nbformat": 4,
  "nbformat_minor": 0,
  "metadata": {
    "colab": {
      "name": "Number Of Islands - Leetcode 200 - Python.ipynb",
      "provenance": [],
      "collapsed_sections": [],
      "authorship_tag": "ABX9TyMbGysHj0jhqf+pgt4CjjNa",
      "include_colab_link": true
    },
    "kernelspec": {
      "name": "python3",
      "display_name": "Python 3"
    },
    "language_info": {
      "name": "python"
    }
  },
  "cells": [
    {
      "cell_type": "markdown",
      "metadata": {
        "id": "view-in-github",
        "colab_type": "text"
      },
      "source": [
        "<a href=\"https://colab.research.google.com/github/plthiyagu/AI-Engineering/blob/master/AI-Engineering/Number_Of_Islands_Leetcode_200_Python.ipynb\" target=\"_parent\"><img src=\"https://colab.research.google.com/assets/colab-badge.svg\" alt=\"Open In Colab\"/></a>"
      ]
    },
    {
      "cell_type": "markdown",
      "metadata": {
        "id": "NNtaShBe9nNC"
      },
      "source": [
        "https://www.youtube.com/watch?v=pV2kpPD66n"
      ]
    },
    {
      "cell_type": "code",
      "metadata": {
        "id": "FJJuPWTd9mwS"
      },
      "source": [
        "from collections import deque \n",
        "def numIslands(grid):\n",
        "\n",
        "      \"\"\"\n",
        "      :type grid: List[List[str]]\n",
        "      :rtype: int\n",
        "      \"\"\"\n",
        "      \n",
        "      if not grid:\n",
        "          return 0\n",
        "      rows,cols= len(grid),len(grid[0])\n",
        "      visit= set()\n",
        "      islands=0\n",
        "      \n",
        "      def bfs(r,c):\n",
        "          q= deque()\n",
        "          visit.add((r,c))\n",
        "          q.append((r,c))\n",
        "          \n",
        "          while q:\n",
        "              row, col = q.popleft()\n",
        "              directions = [[1,0],[-1,0],[0,1],[0,-1]]\n",
        "              \n",
        "              for dr,dc in directions:\n",
        "                  r,c= row+dr, col+dc\n",
        "                  if (r in range(rows) and\n",
        "                      c in range(cols) and \n",
        "                      grid[r][c]==\"1\" and \n",
        "                      (r,c) not in visit):\n",
        "                      q.append((r, c))\n",
        "                      visit.add((r,c))\n",
        "                  \n",
        "                  \n",
        "      \n",
        "      for r in range(rows):\n",
        "          for c in range(cols):\n",
        "              if grid[r][c] ==\"1\" and (r,c) not in visit:\n",
        "                  bfs(r,c)\n",
        "                  islands += 1\n",
        "      return islands\n",
        "  "
      ],
      "execution_count": 9,
      "outputs": []
    },
    {
      "cell_type": "code",
      "metadata": {
        "colab": {
          "base_uri": "https://localhost:8080/"
        },
        "id": "-i7S7bhPrpuG",
        "outputId": "ad45a12c-4de1-4ee5-fa8c-2488561114ef"
      },
      "source": [
        "from collections import deque \n",
        "grid=[[\"1\",\"1\",\"1\",\"1\",\"0\"],[\"1\",\"1\",\"0\",\"1\",\"0\"],[\"1\",\"1\",\"0\",\"0\",\"0\"],[\"0\",\"0\",\"0\",\"0\",\"0\"]]\n",
        "numIslands(grid)"
      ],
      "execution_count": 10,
      "outputs": [
        {
          "output_type": "execute_result",
          "data": {
            "text/plain": [
              "1"
            ]
          },
          "metadata": {
            "tags": []
          },
          "execution_count": 10
        }
      ]
    },
    {
      "cell_type": "code",
      "metadata": {
        "id": "naS0Jg88r2L0"
      },
      "source": [
        ""
      ],
      "execution_count": null,
      "outputs": []
    }
  ]
}