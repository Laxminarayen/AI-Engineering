{
  "nbformat": 4,
  "nbformat_minor": 0,
  "metadata": {
    "colab": {
      "name": "Sort Numpy array without using np.sort.ipynb",
      "provenance": [],
      "authorship_tag": "ABX9TyN92OnEsvAnDMOVwqB6tzM9",
      "include_colab_link": true
    },
    "kernelspec": {
      "name": "python3",
      "display_name": "Python 3"
    },
    "language_info": {
      "name": "python"
    }
  },
  "cells": [
    {
      "cell_type": "markdown",
      "metadata": {
        "id": "view-in-github",
        "colab_type": "text"
      },
      "source": [
        "<a href=\"https://colab.research.google.com/github/plthiyagu/AI-Engineering/blob/master/02-Numpy/Sort_Numpy_array_without_using_np_sort.ipynb\" target=\"_parent\"><img src=\"https://colab.research.google.com/assets/colab-badge.svg\" alt=\"Open In Colab\"/></a>"
      ]
    },
    {
      "cell_type": "code",
      "metadata": {
        "id": "w1mb2_hFWnXE"
      },
      "source": [
        "import numpy as np"
      ],
      "execution_count": 1,
      "outputs": []
    },
    {
      "cell_type": "code",
      "metadata": {
        "id": "_kwsLFibW0xn"
      },
      "source": [
        "a=np.array([34,5,89,23,76])"
      ],
      "execution_count": 2,
      "outputs": []
    },
    {
      "cell_type": "code",
      "metadata": {
        "id": "-3_pf6JKW8Il"
      },
      "source": [
        "def sorting(x):\n",
        "  for i in range(len(x)):\n",
        "    swap= i +np.argmin(x[i:])\n",
        "    (x[i],x[swap])=(x[swap],x[i])\n",
        "  return x"
      ],
      "execution_count": 3,
      "outputs": []
    },
    {
      "cell_type": "code",
      "metadata": {
        "colab": {
          "base_uri": "https://localhost:8080/"
        },
        "id": "eY_COfuVZEll",
        "outputId": "33c8e6d1-a47c-47e9-c31f-1aa66bf86358"
      },
      "source": [
        "print(sorting(a))"
      ],
      "execution_count": 4,
      "outputs": [
        {
          "output_type": "stream",
          "text": [
            "[ 5 23 34 76 89]\n"
          ],
          "name": "stdout"
        }
      ]
    },
    {
      "cell_type": "code",
      "metadata": {
        "id": "gzonqEdVZI87"
      },
      "source": [
        ""
      ],
      "execution_count": null,
      "outputs": []
    }
  ]
}