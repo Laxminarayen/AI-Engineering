{
  "nbformat": 4,
  "nbformat_minor": 0,
  "metadata": {
    "colab": {
      "name": "Numpy Leaning.ipynb",
      "provenance": [],
      "authorship_tag": "ABX9TyPl+qE5e9J6AS0/83dDPpTl",
      "include_colab_link": true
    },
    "kernelspec": {
      "name": "python3",
      "display_name": "Python 3"
    }
  },
  "cells": [
    {
      "cell_type": "markdown",
      "metadata": {
        "id": "view-in-github",
        "colab_type": "text"
      },
      "source": [
        "<a href=\"https://colab.research.google.com/github/plthiyagu/Personnel/blob/master/Numpy_Leaning.ipynb\" target=\"_parent\"><img src=\"https://colab.research.google.com/assets/colab-badge.svg\" alt=\"Open In Colab\"/></a>"
      ]
    },
    {
      "cell_type": "code",
      "metadata": {
        "id": "eoXc723ncJKQ",
        "colab_type": "code",
        "colab": {}
      },
      "source": [
        "import numpy as np"
      ],
      "execution_count": 0,
      "outputs": []
    },
    {
      "cell_type": "code",
      "metadata": {
        "id": "XuKaTfMLcNaJ",
        "colab_type": "code",
        "colab": {
          "base_uri": "https://localhost:8080/",
          "height": 34
        },
        "outputId": "91727ca7-5190-4e34-b706-f2a355570a8a"
      },
      "source": [
        "np.array([1,2,3,4])"
      ],
      "execution_count": 2,
      "outputs": [
        {
          "output_type": "execute_result",
          "data": {
            "text/plain": [
              "array([1, 2, 3, 4])"
            ]
          },
          "metadata": {
            "tags": []
          },
          "execution_count": 2
        }
      ]
    },
    {
      "cell_type": "code",
      "metadata": {
        "id": "tC1lUGFKdh2Z",
        "colab_type": "code",
        "colab": {
          "base_uri": "https://localhost:8080/",
          "height": 34
        },
        "outputId": "8c46b136-4b8d-4ee3-ca1d-c18a6730a26d"
      },
      "source": [
        "np.array([1,2,3,4],dtype=np.float32)"
      ],
      "execution_count": 3,
      "outputs": [
        {
          "output_type": "execute_result",
          "data": {
            "text/plain": [
              "array([1., 2., 3., 4.], dtype=float32)"
            ]
          },
          "metadata": {
            "tags": []
          },
          "execution_count": 3
        }
      ]
    },
    {
      "cell_type": "code",
      "metadata": {
        "id": "qeXVhcagdlBI",
        "colab_type": "code",
        "colab": {
          "base_uri": "https://localhost:8080/",
          "height": 34
        },
        "outputId": "2bf50528-4453-4b01-db33-0052ad6a3961"
      },
      "source": [
        "np.array([1,2.0,3,4])"
      ],
      "execution_count": 4,
      "outputs": [
        {
          "output_type": "execute_result",
          "data": {
            "text/plain": [
              "array([1., 2., 3., 4.])"
            ]
          },
          "metadata": {
            "tags": []
          },
          "execution_count": 4
        }
      ]
    },
    {
      "cell_type": "code",
      "metadata": {
        "id": "t2_Cen7Gdpmp",
        "colab_type": "code",
        "colab": {
          "base_uri": "https://localhost:8080/",
          "height": 51
        },
        "outputId": "59622e8d-297e-44b7-d178-8738ca85195b"
      },
      "source": [
        "np.array([[1,2,3,4],[5,6,7,8]])"
      ],
      "execution_count": 6,
      "outputs": [
        {
          "output_type": "execute_result",
          "data": {
            "text/plain": [
              "array([[1, 2, 3, 4],\n",
              "       [5, 6, 7, 8]])"
            ]
          },
          "metadata": {
            "tags": []
          },
          "execution_count": 6
        }
      ]
    },
    {
      "cell_type": "code",
      "metadata": {
        "id": "qBTl3J6rdxX8",
        "colab_type": "code",
        "colab": {
          "base_uri": "https://localhost:8080/",
          "height": 34
        },
        "outputId": "f26003a8-0e44-4605-94a2-a495fd499a96"
      },
      "source": [
        "np.zeros(5)"
      ],
      "execution_count": 7,
      "outputs": [
        {
          "output_type": "execute_result",
          "data": {
            "text/plain": [
              "array([0., 0., 0., 0., 0.])"
            ]
          },
          "metadata": {
            "tags": []
          },
          "execution_count": 7
        }
      ]
    },
    {
      "cell_type": "code",
      "metadata": {
        "id": "bztBAsf9fN5z",
        "colab_type": "code",
        "colab": {
          "base_uri": "https://localhost:8080/",
          "height": 51
        },
        "outputId": "41239f5f-9994-48c1-e645-20fcde236c1c"
      },
      "source": [
        "np.zeros((2,3))"
      ],
      "execution_count": 9,
      "outputs": [
        {
          "output_type": "execute_result",
          "data": {
            "text/plain": [
              "array([[0., 0., 0.],\n",
              "       [0., 0., 0.]])"
            ]
          },
          "metadata": {
            "tags": []
          },
          "execution_count": 9
        }
      ]
    },
    {
      "cell_type": "code",
      "metadata": {
        "id": "CuU_bx3vfRwl",
        "colab_type": "code",
        "colab": {
          "base_uri": "https://localhost:8080/",
          "height": 34
        },
        "outputId": "74ed6970-4061-43bc-adef-d762695ce473"
      },
      "source": [
        "np.ones(5,dtype=np.int32)"
      ],
      "execution_count": 10,
      "outputs": [
        {
          "output_type": "execute_result",
          "data": {
            "text/plain": [
              "array([1, 1, 1, 1, 1], dtype=int32)"
            ]
          },
          "metadata": {
            "tags": []
          },
          "execution_count": 10
        }
      ]
    },
    {
      "cell_type": "code",
      "metadata": {
        "id": "lzKW2RQifZUL",
        "colab_type": "code",
        "colab": {
          "base_uri": "https://localhost:8080/",
          "height": 51
        },
        "outputId": "56cce6a4-ad76-440e-cf97-188cb444eb91"
      },
      "source": [
        "np.random.rand(2,3)"
      ],
      "execution_count": 11,
      "outputs": [
        {
          "output_type": "execute_result",
          "data": {
            "text/plain": [
              "array([[0.39523887, 0.91880192, 0.8998652 ],\n",
              "       [0.27305193, 0.46295866, 0.25966552]])"
            ]
          },
          "metadata": {
            "tags": []
          },
          "execution_count": 11
        }
      ]
    },
    {
      "cell_type": "code",
      "metadata": {
        "id": "qh9MHC9oftTS",
        "colab_type": "code",
        "colab": {
          "base_uri": "https://localhost:8080/",
          "height": 51
        },
        "outputId": "a1239947-7895-45b5-ecdd-1d6dde45ac3f"
      },
      "source": [
        "np.full((2,2),7)"
      ],
      "execution_count": 12,
      "outputs": [
        {
          "output_type": "execute_result",
          "data": {
            "text/plain": [
              "array([[7, 7],\n",
              "       [7, 7]])"
            ]
          },
          "metadata": {
            "tags": []
          },
          "execution_count": 12
        }
      ]
    },
    {
      "cell_type": "code",
      "metadata": {
        "id": "53U3l26_fyZB",
        "colab_type": "code",
        "colab": {
          "base_uri": "https://localhost:8080/",
          "height": 68
        },
        "outputId": "4a01c591-7a19-4ec4-f2d5-e911c1b22311"
      },
      "source": [
        "# identity matrix\n",
        "np.eye(3)"
      ],
      "execution_count": 13,
      "outputs": [
        {
          "output_type": "execute_result",
          "data": {
            "text/plain": [
              "array([[1., 0., 0.],\n",
              "       [0., 1., 0.],\n",
              "       [0., 0., 1.]])"
            ]
          },
          "metadata": {
            "tags": []
          },
          "execution_count": 13
        }
      ]
    },
    {
      "cell_type": "code",
      "metadata": {
        "id": "DaN8rmbQf576",
        "colab_type": "code",
        "colab": {
          "base_uri": "https://localhost:8080/",
          "height": 68
        },
        "outputId": "ba611dc4-48fa-4aa1-dd86-81e7ea174019"
      },
      "source": [
        "np.eye(3,k=1)"
      ],
      "execution_count": 14,
      "outputs": [
        {
          "output_type": "execute_result",
          "data": {
            "text/plain": [
              "array([[0., 1., 0.],\n",
              "       [0., 0., 1.],\n",
              "       [0., 0., 0.]])"
            ]
          },
          "metadata": {
            "tags": []
          },
          "execution_count": 14
        }
      ]
    },
    {
      "cell_type": "code",
      "metadata": {
        "id": "r6iChdxyf-Mv",
        "colab_type": "code",
        "colab": {
          "base_uri": "https://localhost:8080/",
          "height": 68
        },
        "outputId": "2e72a81b-3a86-4243-fd87-8dc3f50cec2e"
      },
      "source": [
        "np.eye(3,k=-2)"
      ],
      "execution_count": 15,
      "outputs": [
        {
          "output_type": "execute_result",
          "data": {
            "text/plain": [
              "array([[0., 0., 0.],\n",
              "       [0., 0., 0.],\n",
              "       [1., 0., 0.]])"
            ]
          },
          "metadata": {
            "tags": []
          },
          "execution_count": 15
        }
      ]
    },
    {
      "cell_type": "code",
      "metadata": {
        "id": "0Dl4AfNUgBHf",
        "colab_type": "code",
        "colab": {
          "base_uri": "https://localhost:8080/",
          "height": 34
        },
        "outputId": "e628ffc7-5b29-4cca-e064-e42007af7a7a"
      },
      "source": [
        "np.arange(5)"
      ],
      "execution_count": 16,
      "outputs": [
        {
          "output_type": "execute_result",
          "data": {
            "text/plain": [
              "array([0, 1, 2, 3, 4])"
            ]
          },
          "metadata": {
            "tags": []
          },
          "execution_count": 16
        }
      ]
    },
    {
      "cell_type": "code",
      "metadata": {
        "id": "FD83gMMtgGAb",
        "colab_type": "code",
        "colab": {
          "base_uri": "https://localhost:8080/",
          "height": 34
        },
        "outputId": "af9645da-9484-4477-8629-4c090680dc13"
      },
      "source": [
        "np.arange(2,10,2)"
      ],
      "execution_count": 17,
      "outputs": [
        {
          "output_type": "execute_result",
          "data": {
            "text/plain": [
              "array([2, 4, 6, 8])"
            ]
          },
          "metadata": {
            "tags": []
          },
          "execution_count": 17
        }
      ]
    },
    {
      "cell_type": "code",
      "metadata": {
        "id": "bhMFXA9rgIxM",
        "colab_type": "code",
        "colab": {
          "base_uri": "https://localhost:8080/",
          "height": 34
        },
        "outputId": "e507cf63-3da6-4ee5-cf11-d5d8353ec400"
      },
      "source": [
        "np.linspace(0,1,5)"
      ],
      "execution_count": 18,
      "outputs": [
        {
          "output_type": "execute_result",
          "data": {
            "text/plain": [
              "array([0.  , 0.25, 0.5 , 0.75, 1.  ])"
            ]
          },
          "metadata": {
            "tags": []
          },
          "execution_count": 18
        }
      ]
    },
    {
      "cell_type": "code",
      "metadata": {
        "id": "J7yRMylIgP0z",
        "colab_type": "code",
        "colab": {
          "base_uri": "https://localhost:8080/",
          "height": 102
        },
        "outputId": "2f6adeed-7f1d-4b35-e19a-58f3ea554dba"
      },
      "source": [
        "a = np.array([[5,10,15],[20,25,20]])\n",
        "print('Array :','\\n',a)\n",
        "print('Dimensions :','\\n',a.ndim)"
      ],
      "execution_count": 19,
      "outputs": [
        {
          "output_type": "stream",
          "text": [
            "Array : \n",
            " [[ 5 10 15]\n",
            " [20 25 20]]\n",
            "Dimensions : \n",
            " 2\n"
          ],
          "name": "stdout"
        }
      ]
    },
    {
      "cell_type": "code",
      "metadata": {
        "id": "j-26BXztgUDn",
        "colab_type": "code",
        "colab": {
          "base_uri": "https://localhost:8080/",
          "height": 136
        },
        "outputId": "126b5130-668e-4588-d2c6-82de90b55728"
      },
      "source": [
        "a = np.array([[1,2,3],[4,5,6]])\n",
        "print('Array :','\\n',a)\n",
        "print('Shape :','\\n',a.shape)\n",
        "print('Rows = ',a.shape[0])\n",
        "print('Columns = ',a.shape[1])"
      ],
      "execution_count": 20,
      "outputs": [
        {
          "output_type": "stream",
          "text": [
            "Array : \n",
            " [[1 2 3]\n",
            " [4 5 6]]\n",
            "Shape : \n",
            " (2, 3)\n",
            "Rows =  2\n",
            "Columns =  3\n"
          ],
          "name": "stdout"
        }
      ]
    },
    {
      "cell_type": "code",
      "metadata": {
        "id": "HeyRPZhPgYaS",
        "colab_type": "code",
        "colab": {
          "base_uri": "https://localhost:8080/",
          "height": 51
        },
        "outputId": "d8a1574f-9e7e-46d6-edf0-791950c81624"
      },
      "source": [
        "# size of array\n",
        "a = np.array([[5,10,15],[20,25,20]])\n",
        "print('Size of array :',a.size)\n",
        "print('Manual determination of size of array :',a.shape[0]*a.shape[1])"
      ],
      "execution_count": 21,
      "outputs": [
        {
          "output_type": "stream",
          "text": [
            "Size of array : 6\n",
            "Manual determination of size of array : 6\n"
          ],
          "name": "stdout"
        }
      ]
    },
    {
      "cell_type": "code",
      "metadata": {
        "id": "Fh3QP2kPgdzT",
        "colab_type": "code",
        "colab": {
          "base_uri": "https://localhost:8080/",
          "height": 51
        },
        "outputId": "9ec667f8-54d7-4a39-94e2-a493d331707e"
      },
      "source": [
        "# reshape\n",
        "a = np.array([3,6,9,12])\n",
        "np.reshape(a,(2,2))"
      ],
      "execution_count": 22,
      "outputs": [
        {
          "output_type": "execute_result",
          "data": {
            "text/plain": [
              "array([[ 3,  6],\n",
              "       [ 9, 12]])"
            ]
          },
          "metadata": {
            "tags": []
          },
          "execution_count": 22
        }
      ]
    },
    {
      "cell_type": "code",
      "metadata": {
        "id": "SIrjaQChgh6a",
        "colab_type": "code",
        "colab": {
          "base_uri": "https://localhost:8080/",
          "height": 136
        },
        "outputId": "bed7fa39-5311-4ba6-ae5c-6eaebe0321d2"
      },
      "source": [
        "a = np.array([3,6,9,12,18,24])\n",
        "print('Three rows :','\\n',np.reshape(a,(3,-1)))\n",
        "print('Three columns :','\\n',np.reshape(a,(-1,3)))"
      ],
      "execution_count": 27,
      "outputs": [
        {
          "output_type": "stream",
          "text": [
            "Three rows : \n",
            " [[ 3  6]\n",
            " [ 9 12]\n",
            " [18 24]]\n",
            "Three columns : \n",
            " [[ 3  6  9]\n",
            " [12 18 24]]\n"
          ],
          "name": "stdout"
        }
      ]
    },
    {
      "cell_type": "markdown",
      "metadata": {
        "id": "lpWWDjszhyM-",
        "colab_type": "text"
      },
      "source": [
        "Important difference between flatten() and ravel() is that the former returns a copy of the original array while the latter returns a reference to the original array. This means any changes made to the array returned from ravel() will also be reflected in the original array while this will not be the case with flatten().\n",
        "\n"
      ]
    },
    {
      "cell_type": "code",
      "metadata": {
        "id": "mMJrj033glsL",
        "colab_type": "code",
        "colab": {
          "base_uri": "https://localhost:8080/",
          "height": 187
        },
        "outputId": "b2a8da16-0075-445f-d34f-d86154d03814"
      },
      "source": [
        "a = np.ones((2,2))\n",
        "b = a.flatten()\n",
        "c = a.ravel()\n",
        "print('Original shape :', a.shape)\n",
        "print('Array :','\\n', a)\n",
        "print('Shape after flatten :',b.shape)\n",
        "print('Array :','\\n', b)\n",
        "print('Shape after ravel :',c.shape)\n",
        "print('Array :','\\n', c)"
      ],
      "execution_count": 24,
      "outputs": [
        {
          "output_type": "stream",
          "text": [
            "Original shape : (2, 2)\n",
            "Array : \n",
            " [[1. 1.]\n",
            " [1. 1.]]\n",
            "Shape after flatten : (4,)\n",
            "Array : \n",
            " [1. 1. 1. 1.]\n",
            "Shape after ravel : (4,)\n",
            "Array : \n",
            " [1. 1. 1. 1.]\n"
          ],
          "name": "stdout"
        }
      ]
    },
    {
      "cell_type": "code",
      "metadata": {
        "id": "UZktY_nLgsXB",
        "colab_type": "code",
        "colab": {
          "base_uri": "https://localhost:8080/",
          "height": 51
        },
        "outputId": "5243fb66-f3fe-4b24-d175-86708a862a2f"
      },
      "source": [
        "b[0] = 0\n",
        "print(a)"
      ],
      "execution_count": 25,
      "outputs": [
        {
          "output_type": "stream",
          "text": [
            "[[1. 1.]\n",
            " [1. 1.]]\n"
          ],
          "name": "stdout"
        }
      ]
    },
    {
      "cell_type": "code",
      "metadata": {
        "id": "crTbDigGhj0N",
        "colab_type": "code",
        "colab": {
          "base_uri": "https://localhost:8080/",
          "height": 51
        },
        "outputId": "705ff366-ddd0-4270-b7ae-caaa66919273"
      },
      "source": [
        "c[0] = 0\n",
        "print(a)"
      ],
      "execution_count": 26,
      "outputs": [
        {
          "output_type": "stream",
          "text": [
            "[[0. 1.]\n",
            " [1. 1.]]\n"
          ],
          "name": "stdout"
        }
      ]
    },
    {
      "cell_type": "code",
      "metadata": {
        "id": "9J0auRXihnFu",
        "colab_type": "code",
        "colab": {
          "base_uri": "https://localhost:8080/",
          "height": 170
        },
        "outputId": "02fb3b8b-584c-4c6b-fa93-d7f5981c177a"
      },
      "source": [
        "a = np.array([[1,2,3],\n",
        "[4,5,6]])\n",
        "b = np.transpose(a)\n",
        "print('Original','\\n','Shape',a.shape,'\\n',a)\n",
        "print('Expand along columns:','\\n','Shape',b.shape,'\\n',b)"
      ],
      "execution_count": 28,
      "outputs": [
        {
          "output_type": "stream",
          "text": [
            "Original \n",
            " Shape (2, 3) \n",
            " [[1 2 3]\n",
            " [4 5 6]]\n",
            "Expand along columns: \n",
            " Shape (3, 2) \n",
            " [[1 4]\n",
            " [2 5]\n",
            " [3 6]]\n"
          ],
          "name": "stdout"
        }
      ]
    },
    {
      "cell_type": "markdown",
      "metadata": {
        "id": "9lqbiQdFiaWO",
        "colab_type": "text"
      },
      "source": [
        "You can add a new axis to an array using the expand_dims() method by providing the array and the axis along which to expand:\n",
        "\n"
      ]
    },
    {
      "cell_type": "code",
      "metadata": {
        "id": "UvUS5FGdid7Q",
        "colab_type": "code",
        "colab": {
          "base_uri": "https://localhost:8080/",
          "height": 204
        },
        "outputId": "d487515f-1428-47c2-8501-fd237d8abd7f"
      },
      "source": [
        "# expand dimensions\n",
        "a = np.array([1,2,3])\n",
        "b = np.expand_dims(a,axis=0)\n",
        "c = np.expand_dims(a,axis=1)\n",
        "print('Original:','\\n','Shape',a.shape,'\\n',a)\n",
        "print('Expand along columns:','\\n','Shape',b.shape,'\\n',b)\n",
        "print('Expand along rows:','\\n','Shape',c.shape,'\\n',c)"
      ],
      "execution_count": 29,
      "outputs": [
        {
          "output_type": "stream",
          "text": [
            "Original: \n",
            " Shape (3,) \n",
            " [1 2 3]\n",
            "Expand along columns: \n",
            " Shape (1, 3) \n",
            " [[1 2 3]]\n",
            "Expand along rows: \n",
            " Shape (3, 1) \n",
            " [[1]\n",
            " [2]\n",
            " [3]]\n"
          ],
          "name": "stdout"
        }
      ]
    },
    {
      "cell_type": "markdown",
      "metadata": {
        "id": "NPbfLmQqirxC",
        "colab_type": "text"
      },
      "source": [
        "Squeezing a NumPy array\n",
        "On the other hand, if you instead want to reduce the axis of the array, use the squeeze() method. It removes the axis that has a single entry. This means if you have created a 2 x 2 x 1 matrix, squeeze() will remove the third dimension from the matrix:\n",
        "\n"
      ]
    },
    {
      "cell_type": "code",
      "metadata": {
        "id": "14iFy1sSijTB",
        "colab_type": "code",
        "colab": {
          "base_uri": "https://localhost:8080/",
          "height": 153
        },
        "outputId": "803ed4c0-01c3-42d0-87de-440eae5d3199"
      },
      "source": [
        "# squeeze\n",
        "a = np.array([[[1,2,3],\n",
        "[4,5,6]]])\n",
        "b = np.squeeze(a, axis=0)\n",
        "print('Original','\\n','Shape',a.shape,'\\n',a)\n",
        "print('Squeeze array:','\\n','Shape',b.shape,'\\n',b)"
      ],
      "execution_count": 30,
      "outputs": [
        {
          "output_type": "stream",
          "text": [
            "Original \n",
            " Shape (1, 2, 3) \n",
            " [[[1 2 3]\n",
            "  [4 5 6]]]\n",
            "Squeeze array: \n",
            " Shape (2, 3) \n",
            " [[1 2 3]\n",
            " [4 5 6]]\n"
          ],
          "name": "stdout"
        }
      ]
    },
    {
      "cell_type": "code",
      "metadata": {
        "id": "bB8sI5WtiwoX",
        "colab_type": "code",
        "colab": {
          "base_uri": "https://localhost:8080/",
          "height": 384
        },
        "outputId": "9af1b719-629b-41fd-c519-316b9d302318"
      },
      "source": [
        "# squeeze\n",
        "a = np.array([[1,2,3],\n",
        "[4,5,6]])\n",
        "b = np.squeeze(a, axis=0)\n",
        "print('Original','\\n','Shape',a.shape,'\\n',a)\n",
        "print('Squeeze array:','\\n','Shape',b.shape,'\\n',b)"
      ],
      "execution_count": 31,
      "outputs": [
        {
          "output_type": "error",
          "ename": "ValueError",
          "evalue": "ignored",
          "traceback": [
            "\u001b[0;31m---------------------------------------------------------------------------\u001b[0m",
            "\u001b[0;31mValueError\u001b[0m                                Traceback (most recent call last)",
            "\u001b[0;32m<ipython-input-31-9d05f15235fb>\u001b[0m in \u001b[0;36m<module>\u001b[0;34m()\u001b[0m\n\u001b[1;32m      1\u001b[0m a = np.array([[1,2,3],\n\u001b[1;32m      2\u001b[0m [4,5,6]])\n\u001b[0;32m----> 3\u001b[0;31m \u001b[0mb\u001b[0m \u001b[0;34m=\u001b[0m \u001b[0mnp\u001b[0m\u001b[0;34m.\u001b[0m\u001b[0msqueeze\u001b[0m\u001b[0;34m(\u001b[0m\u001b[0ma\u001b[0m\u001b[0;34m,\u001b[0m \u001b[0maxis\u001b[0m\u001b[0;34m=\u001b[0m\u001b[0;36m0\u001b[0m\u001b[0;34m)\u001b[0m\u001b[0;34m\u001b[0m\u001b[0;34m\u001b[0m\u001b[0m\n\u001b[0m\u001b[1;32m      4\u001b[0m \u001b[0mprint\u001b[0m\u001b[0;34m(\u001b[0m\u001b[0;34m'Original'\u001b[0m\u001b[0;34m,\u001b[0m\u001b[0;34m'\\n'\u001b[0m\u001b[0;34m,\u001b[0m\u001b[0;34m'Shape'\u001b[0m\u001b[0;34m,\u001b[0m\u001b[0ma\u001b[0m\u001b[0;34m.\u001b[0m\u001b[0mshape\u001b[0m\u001b[0;34m,\u001b[0m\u001b[0;34m'\\n'\u001b[0m\u001b[0;34m,\u001b[0m\u001b[0ma\u001b[0m\u001b[0;34m)\u001b[0m\u001b[0;34m\u001b[0m\u001b[0;34m\u001b[0m\u001b[0m\n\u001b[1;32m      5\u001b[0m \u001b[0mprint\u001b[0m\u001b[0;34m(\u001b[0m\u001b[0;34m'Squeeze array:'\u001b[0m\u001b[0;34m,\u001b[0m\u001b[0;34m'\\n'\u001b[0m\u001b[0;34m,\u001b[0m\u001b[0;34m'Shape'\u001b[0m\u001b[0;34m,\u001b[0m\u001b[0mb\u001b[0m\u001b[0;34m.\u001b[0m\u001b[0mshape\u001b[0m\u001b[0;34m,\u001b[0m\u001b[0;34m'\\n'\u001b[0m\u001b[0;34m,\u001b[0m\u001b[0mb\u001b[0m\u001b[0;34m)\u001b[0m\u001b[0;34m\u001b[0m\u001b[0;34m\u001b[0m\u001b[0m\n",
            "\u001b[0;32m<__array_function__ internals>\u001b[0m in \u001b[0;36msqueeze\u001b[0;34m(*args, **kwargs)\u001b[0m\n",
            "\u001b[0;32m/usr/local/lib/python3.6/dist-packages/numpy/core/fromnumeric.py\u001b[0m in \u001b[0;36msqueeze\u001b[0;34m(a, axis)\u001b[0m\n\u001b[1;32m   1481\u001b[0m         \u001b[0;32mreturn\u001b[0m \u001b[0msqueeze\u001b[0m\u001b[0;34m(\u001b[0m\u001b[0;34m)\u001b[0m\u001b[0;34m\u001b[0m\u001b[0;34m\u001b[0m\u001b[0m\n\u001b[1;32m   1482\u001b[0m     \u001b[0;32melse\u001b[0m\u001b[0;34m:\u001b[0m\u001b[0;34m\u001b[0m\u001b[0;34m\u001b[0m\u001b[0m\n\u001b[0;32m-> 1483\u001b[0;31m         \u001b[0;32mreturn\u001b[0m \u001b[0msqueeze\u001b[0m\u001b[0;34m(\u001b[0m\u001b[0maxis\u001b[0m\u001b[0;34m=\u001b[0m\u001b[0maxis\u001b[0m\u001b[0;34m)\u001b[0m\u001b[0;34m\u001b[0m\u001b[0;34m\u001b[0m\u001b[0m\n\u001b[0m\u001b[1;32m   1484\u001b[0m \u001b[0;34m\u001b[0m\u001b[0m\n\u001b[1;32m   1485\u001b[0m \u001b[0;34m\u001b[0m\u001b[0m\n",
            "\u001b[0;31mValueError\u001b[0m: cannot select an axis to squeeze out which has size not equal to one"
          ]
        }
      ]
    },
    {
      "cell_type": "code",
      "metadata": {
        "id": "G8j7CDNri15T",
        "colab_type": "code",
        "colab": {
          "base_uri": "https://localhost:8080/",
          "height": 34
        },
        "outputId": "5933b520-117f-4dc8-b06c-d31388ba264b"
      },
      "source": [
        "a = np.array([1,2,3,4,5,6])\n",
        "print(a[1:5:2])"
      ],
      "execution_count": 32,
      "outputs": [
        {
          "output_type": "stream",
          "text": [
            "[2 4]\n"
          ],
          "name": "stdout"
        }
      ]
    },
    {
      "cell_type": "code",
      "metadata": {
        "id": "7smcCN7KkrVm",
        "colab_type": "code",
        "colab": {
          "base_uri": "https://localhost:8080/",
          "height": 34
        },
        "outputId": "52e0f64b-a0c8-4768-e9af-279482c50be4"
      },
      "source": [
        "a = np.array([1,2,3,4,5,6])\n",
        "print(a[1:6:2])"
      ],
      "execution_count": 33,
      "outputs": [
        {
          "output_type": "stream",
          "text": [
            "[2 4 6]\n"
          ],
          "name": "stdout"
        }
      ]
    },
    {
      "cell_type": "code",
      "metadata": {
        "id": "R6XTa-0akxjj",
        "colab_type": "code",
        "colab": {
          "base_uri": "https://localhost:8080/",
          "height": 68
        },
        "outputId": "0a48c89a-d0e5-4ddd-fef8-857142ca8fb9"
      },
      "source": [
        "a = np.array([1,2,3,4,5,6])\n",
        "print(a[:6:2])\n",
        "print(a[1::2])\n",
        "print(a[1:6:])"
      ],
      "execution_count": 34,
      "outputs": [
        {
          "output_type": "stream",
          "text": [
            "[1 3 5]\n",
            "[2 4 6]\n",
            "[2 3 4 5 6]\n"
          ],
          "name": "stdout"
        }
      ]
    },
    {
      "cell_type": "code",
      "metadata": {
        "id": "nPCBpQH6k3FY",
        "colab_type": "code",
        "colab": {
          "base_uri": "https://localhost:8080/",
          "height": 68
        },
        "outputId": "b0aef230-52f5-4f42-b3a6-c055a45e7436"
      },
      "source": [
        "a = np.array([[1,2,3],\n",
        "[4,5,6]])\n",
        "print(a[0,0])\n",
        "print(a[1,2])\n",
        "print(a[1,0])"
      ],
      "execution_count": 35,
      "outputs": [
        {
          "output_type": "stream",
          "text": [
            "1\n",
            "6\n",
            "4\n"
          ],
          "name": "stdout"
        }
      ]
    },
    {
      "cell_type": "code",
      "metadata": {
        "id": "P1uLSsoVlZav",
        "colab_type": "code",
        "colab": {
          "base_uri": "https://localhost:8080/",
          "height": 170
        },
        "outputId": "eb24dbae-f4d5-48d8-9bce-d700b2d971fe"
      },
      "source": [
        "a = np.array([[1,2,3],[4,5,6]])\n",
        "# print first row values\n",
        "print('First row values :','\\n',a[0:1,:])\n",
        "# with step-size for columns\n",
        "print('Alternate values from first row:','\\n',a[0:1,::2])\n",
        "# \n",
        "print('Second column values :','\\n',a[:,1::2])\n",
        "print('Arbitrary values :','\\n',a[0:1,1:3])"
      ],
      "execution_count": 36,
      "outputs": [
        {
          "output_type": "stream",
          "text": [
            "First row values : \n",
            " [[1 2 3]]\n",
            "Alternate values from first row: \n",
            " [[1 3]]\n",
            "Second column values : \n",
            " [[2]\n",
            " [5]]\n",
            "Arbitrary values : \n",
            " [[2 3]]\n"
          ],
          "name": "stdout"
        }
      ]
    },
    {
      "cell_type": "code",
      "metadata": {
        "id": "bY3V33Zklf1f",
        "colab_type": "code",
        "colab": {
          "base_uri": "https://localhost:8080/",
          "height": 204
        },
        "outputId": "fcdd4780-2d5f-4e30-8805-111b38af518c"
      },
      "source": [
        "a = np.array([[[1,2],[3,4],[5,6]],# first axis array\n",
        "[[7,8],[9,10],[11,12]],# second axis array\n",
        "[[13,14],[15,16],[17,18]]])# third axis array\n",
        "# 3-D array\n",
        "print(a)\n"
      ],
      "execution_count": 37,
      "outputs": [
        {
          "output_type": "stream",
          "text": [
            "[[[ 1  2]\n",
            "  [ 3  4]\n",
            "  [ 5  6]]\n",
            "\n",
            " [[ 7  8]\n",
            "  [ 9 10]\n",
            "  [11 12]]\n",
            "\n",
            " [[13 14]\n",
            "  [15 16]\n",
            "  [17 18]]]\n"
          ],
          "name": "stdout"
        }
      ]
    },
    {
      "cell_type": "code",
      "metadata": {
        "id": "P1aCZ_DLl1wY",
        "colab_type": "code",
        "colab": {
          "base_uri": "https://localhost:8080/",
          "height": 187
        },
        "outputId": "053c471b-ebcd-4c36-d705-c26edc965885"
      },
      "source": [
        "# value\n",
        "print('First array, first row, first column value :','\\n',a[0,0,0])\n",
        "print('First array last column :','\\n',a[0,:,1])\n",
        "print('First two rows for second and third arrays :','\\n',a[1:,0:2,0:2])"
      ],
      "execution_count": 38,
      "outputs": [
        {
          "output_type": "stream",
          "text": [
            "First array, first row, first column value : \n",
            " 1\n",
            "First array last column : \n",
            " [2 4 6]\n",
            "First two rows for second and third arrays : \n",
            " [[[ 7  8]\n",
            "  [ 9 10]]\n",
            "\n",
            " [[13 14]\n",
            "  [15 16]]]\n"
          ],
          "name": "stdout"
        }
      ]
    },
    {
      "cell_type": "code",
      "metadata": {
        "id": "6zE98nlol8pn",
        "colab_type": "code",
        "colab": {
          "base_uri": "https://localhost:8080/",
          "height": 51
        },
        "outputId": "13d24826-ef37-4871-c969-9cda27218265"
      },
      "source": [
        "print('Printing as a single array :','\\n',a[1:,0:2,0:2].flatten())"
      ],
      "execution_count": 39,
      "outputs": [
        {
          "output_type": "stream",
          "text": [
            "Printing as a single array : \n",
            " [ 7  8  9 10 13 14 15 16]\n"
          ],
          "name": "stdout"
        }
      ]
    },
    {
      "cell_type": "code",
      "metadata": {
        "id": "HMFfpGexmMmm",
        "colab_type": "code",
        "colab": {
          "base_uri": "https://localhost:8080/",
          "height": 34
        },
        "outputId": "3a1255ba-2ea7-4582-bce3-37863954ec78"
      },
      "source": [
        "a = np.array([[1,2,3,4,5],\n",
        "[6,7,8,9,10]])\n",
        "print(a[:,-1])"
      ],
      "execution_count": 40,
      "outputs": [
        {
          "output_type": "stream",
          "text": [
            "[ 5 10]\n"
          ],
          "name": "stdout"
        }
      ]
    },
    {
      "cell_type": "code",
      "metadata": {
        "id": "-zm8cN8lmX3V",
        "colab_type": "code",
        "colab": {
          "base_uri": "https://localhost:8080/",
          "height": 51
        },
        "outputId": "3fc27a39-3daa-4288-a83f-d9861ec3e169"
      },
      "source": [
        "print(a[:,-1:-3:-1])"
      ],
      "execution_count": 41,
      "outputs": [
        {
          "output_type": "stream",
          "text": [
            "[[ 5  4]\n",
            " [10  9]]\n"
          ],
          "name": "stdout"
        }
      ]
    },
    {
      "cell_type": "code",
      "metadata": {
        "id": "z9608LWumf5X",
        "colab_type": "code",
        "colab": {
          "base_uri": "https://localhost:8080/",
          "height": 119
        },
        "outputId": "30f62db2-700b-4e33-bacc-ed685371e53e"
      },
      "source": [
        "a = np.array([[1,2,3,4,5],\n",
        "[6,7,8,9,10]])\n",
        "print('Original array :','\\n',a)\n",
        "print('Reversed array :','\\n',a[::-1,::-1])"
      ],
      "execution_count": 42,
      "outputs": [
        {
          "output_type": "stream",
          "text": [
            "Original array : \n",
            " [[ 1  2  3  4  5]\n",
            " [ 6  7  8  9 10]]\n",
            "Reversed array : \n",
            " [[10  9  8  7  6]\n",
            " [ 5  4  3  2  1]]\n"
          ],
          "name": "stdout"
        }
      ]
    },
    {
      "cell_type": "code",
      "metadata": {
        "id": "SsuLpQvVmkLx",
        "colab_type": "code",
        "colab": {
          "base_uri": "https://localhost:8080/",
          "height": 170
        },
        "outputId": "4c3968ac-4ada-4b8b-c261-b06077ea04cf"
      },
      "source": [
        "a = np.array([[1,2,3,4,5],\n",
        "[6,7,8,9,10]])\n",
        "print('Original array :','\\n',a)\n",
        "print('Reversed array vertically :','\\n',np.flip(a,axis=1))\n",
        "print('Reversed array horizontally :','\\n',np.flip(a,axis=0))"
      ],
      "execution_count": 43,
      "outputs": [
        {
          "output_type": "stream",
          "text": [
            "Original array : \n",
            " [[ 1  2  3  4  5]\n",
            " [ 6  7  8  9 10]]\n",
            "Reversed array vertically : \n",
            " [[ 5  4  3  2  1]\n",
            " [10  9  8  7  6]]\n",
            "Reversed array horizontally : \n",
            " [[ 6  7  8  9 10]\n",
            " [ 1  2  3  4  5]]\n"
          ],
          "name": "stdout"
        }
      ]
    },
    {
      "cell_type": "code",
      "metadata": {
        "id": "nyUeCnv4nAFT",
        "colab_type": "code",
        "colab": {
          "base_uri": "https://localhost:8080/",
          "height": 170
        },
        "outputId": "4fea9c4b-d7f5-473f-e984-de4a320715eb"
      },
      "source": [
        "a = np.arange(0,5)\n",
        "b = np.arange(5,10)\n",
        "print('Array 1 :','\\n',a)\n",
        "print('Array 2 :','\\n',b)\n",
        "print('Vertical stacking :','\\n',np.vstack((a,b)))\n",
        "print('Horizontal stacking :','\\n',np.hstack((a,b)))"
      ],
      "execution_count": 44,
      "outputs": [
        {
          "output_type": "stream",
          "text": [
            "Array 1 : \n",
            " [0 1 2 3 4]\n",
            "Array 2 : \n",
            " [5 6 7 8 9]\n",
            "Vertical stacking : \n",
            " [[0 1 2 3 4]\n",
            " [5 6 7 8 9]]\n",
            "Horizontal stacking : \n",
            " [0 1 2 3 4 5 6 7 8 9]\n"
          ],
          "name": "stdout"
        }
      ]
    },
    {
      "cell_type": "code",
      "metadata": {
        "id": "tRftIYsanHs4",
        "colab_type": "code",
        "colab": {
          "base_uri": "https://localhost:8080/",
          "height": 489
        },
        "outputId": "d94d1685-b8d8-4273-b9ac-5aa22c1c21e3"
      },
      "source": [
        "a = np.arange(0,5)\n",
        "b = np.arange(5,9)\n",
        "print('Array 1 :','\\n',a)\n",
        "print('Array 2 :','\\n',b)\n",
        "print('Vertical stacking :','\\n',np.vstack((a,b)))\n",
        "print('Horizontal stacking :','\\n',np.hstack((a,b)))"
      ],
      "execution_count": 45,
      "outputs": [
        {
          "output_type": "stream",
          "text": [
            "Array 1 : \n",
            " [0 1 2 3 4]\n",
            "Array 2 : \n",
            " [5 6 7 8]\n"
          ],
          "name": "stdout"
        },
        {
          "output_type": "error",
          "ename": "ValueError",
          "evalue": "ignored",
          "traceback": [
            "\u001b[0;31m---------------------------------------------------------------------------\u001b[0m",
            "\u001b[0;31mValueError\u001b[0m                                Traceback (most recent call last)",
            "\u001b[0;32m<ipython-input-45-b6a958ba57f9>\u001b[0m in \u001b[0;36m<module>\u001b[0;34m()\u001b[0m\n\u001b[1;32m      3\u001b[0m \u001b[0mprint\u001b[0m\u001b[0;34m(\u001b[0m\u001b[0;34m'Array 1 :'\u001b[0m\u001b[0;34m,\u001b[0m\u001b[0;34m'\\n'\u001b[0m\u001b[0;34m,\u001b[0m\u001b[0ma\u001b[0m\u001b[0;34m)\u001b[0m\u001b[0;34m\u001b[0m\u001b[0;34m\u001b[0m\u001b[0m\n\u001b[1;32m      4\u001b[0m \u001b[0mprint\u001b[0m\u001b[0;34m(\u001b[0m\u001b[0;34m'Array 2 :'\u001b[0m\u001b[0;34m,\u001b[0m\u001b[0;34m'\\n'\u001b[0m\u001b[0;34m,\u001b[0m\u001b[0mb\u001b[0m\u001b[0;34m)\u001b[0m\u001b[0;34m\u001b[0m\u001b[0;34m\u001b[0m\u001b[0m\n\u001b[0;32m----> 5\u001b[0;31m \u001b[0mprint\u001b[0m\u001b[0;34m(\u001b[0m\u001b[0;34m'Vertical stacking :'\u001b[0m\u001b[0;34m,\u001b[0m\u001b[0;34m'\\n'\u001b[0m\u001b[0;34m,\u001b[0m\u001b[0mnp\u001b[0m\u001b[0;34m.\u001b[0m\u001b[0mvstack\u001b[0m\u001b[0;34m(\u001b[0m\u001b[0;34m(\u001b[0m\u001b[0ma\u001b[0m\u001b[0;34m,\u001b[0m\u001b[0mb\u001b[0m\u001b[0;34m)\u001b[0m\u001b[0;34m)\u001b[0m\u001b[0;34m)\u001b[0m\u001b[0;34m\u001b[0m\u001b[0;34m\u001b[0m\u001b[0m\n\u001b[0m\u001b[1;32m      6\u001b[0m \u001b[0mprint\u001b[0m\u001b[0;34m(\u001b[0m\u001b[0;34m'Horizontal stacking :'\u001b[0m\u001b[0;34m,\u001b[0m\u001b[0;34m'\\n'\u001b[0m\u001b[0;34m,\u001b[0m\u001b[0mnp\u001b[0m\u001b[0;34m.\u001b[0m\u001b[0mhstack\u001b[0m\u001b[0;34m(\u001b[0m\u001b[0;34m(\u001b[0m\u001b[0ma\u001b[0m\u001b[0;34m,\u001b[0m\u001b[0mb\u001b[0m\u001b[0;34m)\u001b[0m\u001b[0;34m)\u001b[0m\u001b[0;34m)\u001b[0m\u001b[0;34m\u001b[0m\u001b[0;34m\u001b[0m\u001b[0m\n",
            "\u001b[0;32m<__array_function__ internals>\u001b[0m in \u001b[0;36mvstack\u001b[0;34m(*args, **kwargs)\u001b[0m\n",
            "\u001b[0;32m/usr/local/lib/python3.6/dist-packages/numpy/core/shape_base.py\u001b[0m in \u001b[0;36mvstack\u001b[0;34m(tup)\u001b[0m\n\u001b[1;32m    281\u001b[0m     \u001b[0;32mif\u001b[0m \u001b[0;32mnot\u001b[0m \u001b[0misinstance\u001b[0m\u001b[0;34m(\u001b[0m\u001b[0marrs\u001b[0m\u001b[0;34m,\u001b[0m \u001b[0mlist\u001b[0m\u001b[0;34m)\u001b[0m\u001b[0;34m:\u001b[0m\u001b[0;34m\u001b[0m\u001b[0;34m\u001b[0m\u001b[0m\n\u001b[1;32m    282\u001b[0m         \u001b[0marrs\u001b[0m \u001b[0;34m=\u001b[0m \u001b[0;34m[\u001b[0m\u001b[0marrs\u001b[0m\u001b[0;34m]\u001b[0m\u001b[0;34m\u001b[0m\u001b[0;34m\u001b[0m\u001b[0m\n\u001b[0;32m--> 283\u001b[0;31m     \u001b[0;32mreturn\u001b[0m \u001b[0m_nx\u001b[0m\u001b[0;34m.\u001b[0m\u001b[0mconcatenate\u001b[0m\u001b[0;34m(\u001b[0m\u001b[0marrs\u001b[0m\u001b[0;34m,\u001b[0m \u001b[0;36m0\u001b[0m\u001b[0;34m)\u001b[0m\u001b[0;34m\u001b[0m\u001b[0;34m\u001b[0m\u001b[0m\n\u001b[0m\u001b[1;32m    284\u001b[0m \u001b[0;34m\u001b[0m\u001b[0m\n\u001b[1;32m    285\u001b[0m \u001b[0;34m\u001b[0m\u001b[0m\n",
            "\u001b[0;32m<__array_function__ internals>\u001b[0m in \u001b[0;36mconcatenate\u001b[0;34m(*args, **kwargs)\u001b[0m\n",
            "\u001b[0;31mValueError\u001b[0m: all the input array dimensions for the concatenation axis must match exactly, but along dimension 1, the array at index 0 has size 5 and the array at index 1 has size 4"
          ]
        }
      ]
    },
    {
      "cell_type": "code",
      "metadata": {
        "id": "cCtfVTzVnOxu",
        "colab_type": "code",
        "colab": {
          "base_uri": "https://localhost:8080/",
          "height": 204
        },
        "outputId": "9a6203e0-3dcb-4cfc-eb0a-8817d54e46eb"
      },
      "source": [
        "a = [[1,2],[3,4]]\n",
        "b = [[5,6],[7,8]]\n",
        "c = np.dstack((a,b))\n",
        "print('Array 1 :','\\n',a)\n",
        "print('Array 2 :','\\n',b)\n",
        "print('Dstack :','\\n',c)\n",
        "print(c.shape)"
      ],
      "execution_count": 46,
      "outputs": [
        {
          "output_type": "stream",
          "text": [
            "Array 1 : \n",
            " [[1, 2], [3, 4]]\n",
            "Array 2 : \n",
            " [[5, 6], [7, 8]]\n",
            "Dstack : \n",
            " [[[1 5]\n",
            "  [2 6]]\n",
            "\n",
            " [[3 7]\n",
            "  [4 8]]]\n",
            "(2, 2, 2)\n"
          ],
          "name": "stdout"
        }
      ]
    },
    {
      "cell_type": "code",
      "metadata": {
        "id": "_Hruj1qAnTM4",
        "colab_type": "code",
        "colab": {
          "base_uri": "https://localhost:8080/",
          "height": 170
        },
        "outputId": "c6500ee1-16b6-4b31-9804-4c38e0174016"
      },
      "source": [
        "a = np.arange(0,5).reshape(1,5)\n",
        "b = np.arange(5,10).reshape(1,5)\n",
        "print('Array 1 :','\\n',a)\n",
        "print('Array 2 :','\\n',b)\n",
        "print('Concatenate along rows :','\\n',np.concatenate((a,b),axis=0))\n",
        "print('Concatenate along columns :','\\n',np.concatenate((a,b),axis=1))"
      ],
      "execution_count": 47,
      "outputs": [
        {
          "output_type": "stream",
          "text": [
            "Array 1 : \n",
            " [[0 1 2 3 4]]\n",
            "Array 2 : \n",
            " [[5 6 7 8 9]]\n",
            "Concatenate along rows : \n",
            " [[0 1 2 3 4]\n",
            " [5 6 7 8 9]]\n",
            "Concatenate along columns : \n",
            " [[0 1 2 3 4 5 6 7 8 9]]\n"
          ],
          "name": "stdout"
        }
      ]
    },
    {
      "cell_type": "code",
      "metadata": {
        "id": "SfePmntanZan",
        "colab_type": "code",
        "colab": {
          "base_uri": "https://localhost:8080/",
          "height": 85
        },
        "outputId": "730dffed-1aa3-4ddf-80f0-b647c84b9b6e"
      },
      "source": [
        "a = np.arange(10,20,2)\n",
        "b = np.array([[2],[2]])\n",
        "print('Adding two different size arrays :','\\n',a+b)\n",
        "print('Multiplying an ndarray and a number :',a*2)"
      ],
      "execution_count": 48,
      "outputs": [
        {
          "output_type": "stream",
          "text": [
            "Adding two different size arrays : \n",
            " [[12 14 16 18 20]\n",
            " [12 14 16 18 20]]\n",
            "Multiplying an ndarray and a number : [20 24 28 32 36]\n"
          ],
          "name": "stdout"
        }
      ]
    },
    {
      "cell_type": "code",
      "metadata": {
        "id": "qYl_kPCdnfj2",
        "colab_type": "code",
        "colab": {
          "base_uri": "https://localhost:8080/",
          "height": 68
        },
        "outputId": "10316372-7398-4cb1-9d71-94c1973ddfd1"
      },
      "source": [
        "a = np.ones((3,3))\n",
        "b = np.array([2])\n",
        "a+b"
      ],
      "execution_count": 49,
      "outputs": [
        {
          "output_type": "execute_result",
          "data": {
            "text/plain": [
              "array([[3., 3., 3.],\n",
              "       [3., 3., 3.],\n",
              "       [3., 3., 3.]])"
            ]
          },
          "metadata": {
            "tags": []
          },
          "execution_count": 49
        }
      ]
    },
    {
      "cell_type": "code",
      "metadata": {
        "id": "UWZemAU4njTn",
        "colab_type": "code",
        "colab": {
          "base_uri": "https://localhost:8080/",
          "height": 34
        },
        "outputId": "dc55e807-6c06-450b-fd83-6767e2c3b77d"
      },
      "source": [
        "a = [1,2,3,4,5]\n",
        "b = [6,7,8,9,10]\n",
        "%timeit a+b"
      ],
      "execution_count": 50,
      "outputs": [
        {
          "output_type": "stream",
          "text": [
            "10000000 loops, best of 3: 77.3 ns per loop\n"
          ],
          "name": "stdout"
        }
      ]
    },
    {
      "cell_type": "code",
      "metadata": {
        "id": "clYvNWQbn4-x",
        "colab_type": "code",
        "colab": {
          "base_uri": "https://localhost:8080/",
          "height": 51
        },
        "outputId": "d03b2bfa-f805-4a3b-f681-592702ac4b2c"
      },
      "source": [
        "a = np.arange(1,6)\n",
        "b = np.arange(6,11)\n",
        "%timeit a+b"
      ],
      "execution_count": 51,
      "outputs": [
        {
          "output_type": "stream",
          "text": [
            "The slowest run took 41.58 times longer than the fastest. This could mean that an intermediate result is being cached.\n",
            "1000000 loops, best of 3: 500 ns per loop\n"
          ],
          "name": "stdout"
        }
      ]
    },
    {
      "cell_type": "code",
      "metadata": {
        "id": "M_k3ZF5ln9r9",
        "colab_type": "code",
        "colab": {
          "base_uri": "https://localhost:8080/",
          "height": 102
        },
        "outputId": "9e180e40-4530-4784-a9d2-91123e5b8b02"
      },
      "source": [
        "print('Subtract :',a-5)\n",
        "print('Multiply :',a*5)\n",
        "print('Divide :',a/5)\n",
        "print('Power :',a**2)\n",
        "print('Remainder :',a%5)"
      ],
      "execution_count": 52,
      "outputs": [
        {
          "output_type": "stream",
          "text": [
            "Subtract : [-4 -3 -2 -1  0]\n",
            "Multiply : [ 5 10 15 20 25]\n",
            "Divide : [0.2 0.4 0.6 0.8 1. ]\n",
            "Power : [ 1  4  9 16 25]\n",
            "Remainder : [1 2 3 4 0]\n"
          ],
          "name": "stdout"
        }
      ]
    },
    {
      "cell_type": "code",
      "metadata": {
        "id": "xJ2T8WMJoEP_",
        "colab_type": "code",
        "colab": {
          "base_uri": "https://localhost:8080/",
          "height": 68
        },
        "outputId": "17a8d39c-1be7-4ada-a40c-93b97a20db56"
      },
      "source": [
        "a = np.arange(5,15,2)\n",
        "print('Mean :',np.mean(a))\n",
        "print('Standard deviation :',np.std(a))\n",
        "print('Median :',np.median(a))"
      ],
      "execution_count": 53,
      "outputs": [
        {
          "output_type": "stream",
          "text": [
            "Mean : 9.0\n",
            "Standard deviation : 2.8284271247461903\n",
            "Median : 9.0\n"
          ],
          "name": "stdout"
        }
      ]
    },
    {
      "cell_type": "code",
      "metadata": {
        "id": "UktOj8OzoIC3",
        "colab_type": "code",
        "colab": {
          "base_uri": "https://localhost:8080/",
          "height": 51
        },
        "outputId": "788c367d-893b-4b71-b0d2-be9de0afbba1"
      },
      "source": [
        "a = np.array([[1,6],\n",
        "[4,3]])\n",
        "# minimum along a column\n",
        "print('Min :',np.min(a,axis=0))\n",
        "# maximum along a row\n",
        "print('Max :',np.max(a,axis=1))"
      ],
      "execution_count": 54,
      "outputs": [
        {
          "output_type": "stream",
          "text": [
            "Min : [1 3]\n",
            "Max : [6 4]\n"
          ],
          "name": "stdout"
        }
      ]
    },
    {
      "cell_type": "code",
      "metadata": {
        "id": "_QcRWZFQoL5o",
        "colab_type": "code",
        "colab": {
          "base_uri": "https://localhost:8080/",
          "height": 51
        },
        "outputId": "a22acf83-d73c-497b-9cbf-6c426dc4c093"
      },
      "source": [
        "a = np.array([[1,6,5],\n",
        "[4,3,7]])\n",
        "# minimum along a column\n",
        "print('Min :',np.argmin(a,axis=0))\n",
        "# maximum along a row\n",
        "print('Max :',np.argmax(a,axis=1))\n"
      ],
      "execution_count": 55,
      "outputs": [
        {
          "output_type": "stream",
          "text": [
            "Min : [0 1 0]\n",
            "Max : [1 2]\n"
          ],
          "name": "stdout"
        }
      ]
    },
    {
      "cell_type": "code",
      "metadata": {
        "id": "Oj8CrWdioaes",
        "colab_type": "code",
        "colab": {
          "base_uri": "https://localhost:8080/",
          "height": 34
        },
        "outputId": "ac27c346-3cd8-45e7-8fc5-7257c97f172c"
      },
      "source": [
        "a = np.array([1,4,2,5,3,6,8,7,9])\n",
        "np.sort(a, kind='quicksort')\n"
      ],
      "execution_count": 56,
      "outputs": [
        {
          "output_type": "execute_result",
          "data": {
            "text/plain": [
              "array([1, 2, 3, 4, 5, 6, 7, 8, 9])"
            ]
          },
          "metadata": {
            "tags": []
          },
          "execution_count": 56
        }
      ]
    },
    {
      "cell_type": "code",
      "metadata": {
        "id": "-Wrl88Proefz",
        "colab_type": "code",
        "colab": {
          "base_uri": "https://localhost:8080/",
          "height": 119
        },
        "outputId": "0ff5d251-bfb0-49a9-8049-399c71ec8f63"
      },
      "source": [
        "a = np.array([[5,6,7,4],\n",
        "              [9,2,3,7]])# sort along the column\n",
        "print('Sort along column :','\\n',np.sort(a, kind='mergresort',axis=1))\n",
        "# sort along the row\n",
        "print('Sort along row :','\\n',np.sort(a, kind='mergresort',axis=0))\n"
      ],
      "execution_count": 57,
      "outputs": [
        {
          "output_type": "stream",
          "text": [
            "Sort along column : \n",
            " [[4 5 6 7]\n",
            " [2 3 7 9]]\n",
            "Sort along row : \n",
            " [[5 2 3 4]\n",
            " [9 6 7 7]]\n"
          ],
          "name": "stdout"
        }
      ]
    },
    {
      "cell_type": "code",
      "metadata": {
        "id": "hdXzpKh-oi8N",
        "colab_type": "code",
        "colab": {}
      },
      "source": [
        ""
      ],
      "execution_count": 0,
      "outputs": []
    }
  ]
}