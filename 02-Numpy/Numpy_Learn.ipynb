{
  "nbformat": 4,
  "nbformat_minor": 0,
  "metadata": {
    "colab": {
      "name": "Numpy Learn.ipynb",
      "provenance": [],
      "collapsed_sections": [],
      "authorship_tag": "ABX9TyPcT+lsqcABDdNt5Lgx68G3",
      "include_colab_link": true
    },
    "kernelspec": {
      "name": "python3",
      "display_name": "Python 3"
    }
  },
  "cells": [
    {
      "cell_type": "markdown",
      "metadata": {
        "id": "view-in-github",
        "colab_type": "text"
      },
      "source": [
        "<a href=\"https://colab.research.google.com/github/plthiyagu/Personnel/blob/master/Numpy_Learn.ipynb\" target=\"_parent\"><img src=\"https://colab.research.google.com/assets/colab-badge.svg\" alt=\"Open In Colab\"/></a>"
      ]
    },
    {
      "cell_type": "code",
      "metadata": {
        "id": "ouTBHDlTx0Y0"
      },
      "source": [
        "# Import Numpy Library\n",
        "import numpy as np\n",
        "import warnings\n",
        "warnings.filterwarnings(\"ignore\")\n",
        "from IPython.display import Image\n"
      ],
      "execution_count": 1,
      "outputs": []
    },
    {
      "cell_type": "code",
      "metadata": {
        "id": "J7sMMjUdRX12",
        "outputId": "2055057d-6674-42fb-f164-76763149e5c4",
        "colab": {
          "base_uri": "https://localhost:8080/",
          "height": 34
        }
      },
      "source": [
        "list1=[10,20,30,40,50,60]\n",
        "list1"
      ],
      "execution_count": 2,
      "outputs": [
        {
          "output_type": "execute_result",
          "data": {
            "text/plain": [
              "[10, 20, 30, 40, 50, 60]"
            ]
          },
          "metadata": {
            "tags": []
          },
          "execution_count": 2
        }
      ]
    },
    {
      "cell_type": "code",
      "metadata": {
        "id": "DTkyB0e0Rnoo",
        "outputId": "862ada6b-aa59-4c16-c17f-b2150579cb14",
        "colab": {
          "base_uri": "https://localhost:8080/",
          "height": 34
        }
      },
      "source": [
        "# Display the type of an object\n",
        "type(list1)"
      ],
      "execution_count": 3,
      "outputs": [
        {
          "output_type": "execute_result",
          "data": {
            "text/plain": [
              "list"
            ]
          },
          "metadata": {
            "tags": []
          },
          "execution_count": 3
        }
      ]
    },
    {
      "cell_type": "code",
      "metadata": {
        "id": "V6Qkona2Rq41",
        "outputId": "d57c6588-0e15-4cad-be4a-c2786d94af08",
        "colab": {
          "base_uri": "https://localhost:8080/",
          "height": 34
        }
      },
      "source": [
        "#Convert list to Numpy Array\n",
        "arr1= np.array(list1)\n",
        "arr1"
      ],
      "execution_count": 4,
      "outputs": [
        {
          "output_type": "execute_result",
          "data": {
            "text/plain": [
              "array([10, 20, 30, 40, 50, 60])"
            ]
          },
          "metadata": {
            "tags": []
          },
          "execution_count": 4
        }
      ]
    },
    {
      "cell_type": "code",
      "metadata": {
        "id": "6ZzgPJnjRxdd",
        "outputId": "bb441850-5434-459e-a0a1-3f09bed4593c",
        "colab": {
          "base_uri": "https://localhost:8080/",
          "height": 34
        }
      },
      "source": [
        "# Display type of an object\n",
        "\n",
        "type(arr1)"
      ],
      "execution_count": 7,
      "outputs": [
        {
          "output_type": "execute_result",
          "data": {
            "text/plain": [
              "numpy.ndarray"
            ]
          },
          "metadata": {
            "tags": []
          },
          "execution_count": 7
        }
      ]
    },
    {
      "cell_type": "code",
      "metadata": {
        "id": "n-g4AM7fRzJg",
        "outputId": "1b5316d8-1852-408d-8469-3c565485c616",
        "colab": {
          "base_uri": "https://localhost:8080/",
          "height": 34
        }
      },
      "source": [
        "#Memory address of an array object\n",
        "arr1.data"
      ],
      "execution_count": 6,
      "outputs": [
        {
          "output_type": "execute_result",
          "data": {
            "text/plain": [
              "<memory at 0x7f4ccde96ac8>"
            ]
          },
          "metadata": {
            "tags": []
          },
          "execution_count": 6
        }
      ]
    },
    {
      "cell_type": "code",
      "metadata": {
        "id": "1CqwRG_3R3pm",
        "outputId": "32254d52-539b-4f51-e782-3e7a902cf6ba",
        "colab": {
          "base_uri": "https://localhost:8080/",
          "height": 34
        }
      },
      "source": [
        "#Datatype of array\n",
        "arr1.dtype"
      ],
      "execution_count": 8,
      "outputs": [
        {
          "output_type": "execute_result",
          "data": {
            "text/plain": [
              "dtype('int64')"
            ]
          },
          "metadata": {
            "tags": []
          },
          "execution_count": 8
        }
      ]
    },
    {
      "cell_type": "code",
      "metadata": {
        "id": "8xB1zUdAV3fy",
        "outputId": "c728ca15-be79-471d-cc3d-27718715a68a",
        "colab": {
          "base_uri": "https://localhost:8080/",
          "height": 34
        }
      },
      "source": [
        "# Convert Integer Array to FLOAT\n",
        "arr1.astype(float)"
      ],
      "execution_count": 9,
      "outputs": [
        {
          "output_type": "execute_result",
          "data": {
            "text/plain": [
              "array([10., 20., 30., 40., 50., 60.])"
            ]
          },
          "metadata": {
            "tags": []
          },
          "execution_count": 9
        }
      ]
    },
    {
      "cell_type": "code",
      "metadata": {
        "id": "4uA8smTmV9rx",
        "outputId": "ab4e758d-5ddc-4fe7-e880-ec62cd7bfd87",
        "colab": {
          "base_uri": "https://localhost:8080/",
          "height": 34
        }
      },
      "source": [
        "# Generate evenly spaced numbers (space =1) between 0 to 10\n",
        "np.arange(0,10)"
      ],
      "execution_count": 10,
      "outputs": [
        {
          "output_type": "execute_result",
          "data": {
            "text/plain": [
              "array([0, 1, 2, 3, 4, 5, 6, 7, 8, 9])"
            ]
          },
          "metadata": {
            "tags": []
          },
          "execution_count": 10
        }
      ]
    },
    {
      "cell_type": "code",
      "metadata": {
        "id": "e0IVqKGFWGKg",
        "outputId": "d55f2fdf-0c3d-4a24-9047-a1d4c6d47836",
        "colab": {
          "base_uri": "https://localhost:8080/",
          "height": 34
        }
      },
      "source": [
        "# Generate numbers between 0 to 100 with a space of 10\n",
        "np.arange(0,100,10)"
      ],
      "execution_count": 11,
      "outputs": [
        {
          "output_type": "execute_result",
          "data": {
            "text/plain": [
              "array([ 0, 10, 20, 30, 40, 50, 60, 70, 80, 90])"
            ]
          },
          "metadata": {
            "tags": []
          },
          "execution_count": 11
        }
      ]
    },
    {
      "cell_type": "code",
      "metadata": {
        "id": "3Covl7b6WKze",
        "outputId": "cf4a7de6-68d7-460e-b843-746c5138f8c1",
        "colab": {
          "base_uri": "https://localhost:8080/",
          "height": 34
        }
      },
      "source": [
        "# Generate numbers between 10 to 100 with a space of 10 in descending order\n",
        "np.arange(100,0,-10)"
      ],
      "execution_count": 13,
      "outputs": [
        {
          "output_type": "execute_result",
          "data": {
            "text/plain": [
              "array([100,  90,  80,  70,  60,  50,  40,  30,  20,  10])"
            ]
          },
          "metadata": {
            "tags": []
          },
          "execution_count": 13
        }
      ]
    },
    {
      "cell_type": "code",
      "metadata": {
        "id": "Ek5hs89XWTik",
        "outputId": "0945cff0-6f33-4da7-a42c-aa305ed10b36",
        "colab": {
          "base_uri": "https://localhost:8080/",
          "height": 34
        }
      },
      "source": [
        "#Shape of Array\n",
        "arr3 = np.arange(0,10)\n",
        "arr3.shape"
      ],
      "execution_count": 14,
      "outputs": [
        {
          "output_type": "execute_result",
          "data": {
            "text/plain": [
              "(10,)"
            ]
          },
          "metadata": {
            "tags": []
          },
          "execution_count": 14
        }
      ]
    },
    {
      "cell_type": "code",
      "metadata": {
        "id": "7XA0ocNRWXzp",
        "outputId": "6969159f-cedf-4c59-a59e-c1f5719a2e5e",
        "colab": {
          "base_uri": "https://localhost:8080/",
          "height": 34
        }
      },
      "source": [
        "arr3"
      ],
      "execution_count": 15,
      "outputs": [
        {
          "output_type": "execute_result",
          "data": {
            "text/plain": [
              "array([0, 1, 2, 3, 4, 5, 6, 7, 8, 9])"
            ]
          },
          "metadata": {
            "tags": []
          },
          "execution_count": 15
        }
      ]
    },
    {
      "cell_type": "code",
      "metadata": {
        "id": "UEh-D8oUWYlZ",
        "outputId": "c4c66f77-2786-4fda-ccb4-24d1aed60c0a",
        "colab": {
          "base_uri": "https://localhost:8080/",
          "height": 34
        }
      },
      "source": [
        "# Size of array\n",
        "arr3.size"
      ],
      "execution_count": 16,
      "outputs": [
        {
          "output_type": "execute_result",
          "data": {
            "text/plain": [
              "10"
            ]
          },
          "metadata": {
            "tags": []
          },
          "execution_count": 16
        }
      ]
    },
    {
      "cell_type": "code",
      "metadata": {
        "id": "81Im4e2TYgDv",
        "outputId": "9624341b-643d-4341-e902-cdea7e7e614a",
        "colab": {
          "base_uri": "https://localhost:8080/",
          "height": 34
        }
      },
      "source": [
        "# Dimension \n",
        "arr3.ndim"
      ],
      "execution_count": 17,
      "outputs": [
        {
          "output_type": "execute_result",
          "data": {
            "text/plain": [
              "1"
            ]
          },
          "metadata": {
            "tags": []
          },
          "execution_count": 17
        }
      ]
    },
    {
      "cell_type": "code",
      "metadata": {
        "id": "qZFUUoNZYmWe",
        "outputId": "92b93f02-9003-4a4f-8e06-c25668b716f5",
        "colab": {
          "base_uri": "https://localhost:8080/",
          "height": 34
        }
      },
      "source": [
        "# Datatype of object\n",
        "arr3.dtype"
      ],
      "execution_count": 18,
      "outputs": [
        {
          "output_type": "execute_result",
          "data": {
            "text/plain": [
              "dtype('int64')"
            ]
          },
          "metadata": {
            "tags": []
          },
          "execution_count": 18
        }
      ]
    },
    {
      "cell_type": "code",
      "metadata": {
        "id": "j6RkJcIUYqQe",
        "outputId": "0f81b698-814c-4d89-87e8-3df454bba6f6",
        "colab": {
          "base_uri": "https://localhost:8080/",
          "height": 34
        }
      },
      "source": [
        "# Bytes consumed by one element of an array object\n",
        "arr3.itemsize"
      ],
      "execution_count": 19,
      "outputs": [
        {
          "output_type": "execute_result",
          "data": {
            "text/plain": [
              "8"
            ]
          },
          "metadata": {
            "tags": []
          },
          "execution_count": 19
        }
      ]
    },
    {
      "cell_type": "code",
      "metadata": {
        "id": "43hAVJ1WYs-d",
        "outputId": "01cde707-b9f3-42d6-b79e-01c4446816e6",
        "colab": {
          "base_uri": "https://localhost:8080/",
          "height": 34
        }
      },
      "source": [
        "# Bytes consumed by an array object\n",
        "arr3.nbytes"
      ],
      "execution_count": 20,
      "outputs": [
        {
          "output_type": "execute_result",
          "data": {
            "text/plain": [
              "80"
            ]
          },
          "metadata": {
            "tags": []
          },
          "execution_count": 20
        }
      ]
    },
    {
      "cell_type": "code",
      "metadata": {
        "id": "uvzHT7-tYvKM",
        "outputId": "58c4c2b1-2800-4018-a04c-601e5d0ae0c0",
        "colab": {
          "base_uri": "https://localhost:8080/",
          "height": 34
        }
      },
      "source": [
        "# Length of array\n",
        "len(arr3)"
      ],
      "execution_count": 21,
      "outputs": [
        {
          "output_type": "execute_result",
          "data": {
            "text/plain": [
              "10"
            ]
          },
          "metadata": {
            "tags": []
          },
          "execution_count": 21
        }
      ]
    },
    {
      "cell_type": "code",
      "metadata": {
        "id": "0v_5rLu7YxXN",
        "outputId": "a7e2dba8-c1a2-4d42-924a-ec9304d5fa27",
        "colab": {
          "base_uri": "https://localhost:8080/",
          "height": 34
        }
      },
      "source": [
        "# Generate an array of zeros\n",
        "np.zeros(10)"
      ],
      "execution_count": 22,
      "outputs": [
        {
          "output_type": "execute_result",
          "data": {
            "text/plain": [
              "array([0., 0., 0., 0., 0., 0., 0., 0., 0., 0.])"
            ]
          },
          "metadata": {
            "tags": []
          },
          "execution_count": 22
        }
      ]
    },
    {
      "cell_type": "code",
      "metadata": {
        "id": "UulLgKh_Yzc7",
        "outputId": "e2c23153-7fed-4800-c336-bef85e85dfdb",
        "colab": {
          "base_uri": "https://localhost:8080/",
          "height": 34
        }
      },
      "source": [
        "# Generate an array of ones with given shape\n",
        "np.ones(10)"
      ],
      "execution_count": 23,
      "outputs": [
        {
          "output_type": "execute_result",
          "data": {
            "text/plain": [
              "array([1., 1., 1., 1., 1., 1., 1., 1., 1., 1.])"
            ]
          },
          "metadata": {
            "tags": []
          },
          "execution_count": 23
        }
      ]
    },
    {
      "cell_type": "code",
      "metadata": {
        "id": "pjxnKfnwY2lP",
        "outputId": "59049e9f-a0f9-4f5d-d6ef-6be1b8487914",
        "colab": {
          "base_uri": "https://localhost:8080/",
          "height": 34
        }
      },
      "source": [
        "# Repeat 10 five times in an array\n",
        "np.repeat(10,5)"
      ],
      "execution_count": 24,
      "outputs": [
        {
          "output_type": "execute_result",
          "data": {
            "text/plain": [
              "array([10, 10, 10, 10, 10])"
            ]
          },
          "metadata": {
            "tags": []
          },
          "execution_count": 24
        }
      ]
    },
    {
      "cell_type": "code",
      "metadata": {
        "id": "1ZKH8EEEY4hm",
        "outputId": "e37e9c85-bb21-4f11-ccdb-9d498fbcb99e",
        "colab": {
          "base_uri": "https://localhost:8080/",
          "height": 34
        }
      },
      "source": [
        "# Repeat each element in array 'a' thrice\n",
        "a= np.array([10,20,30])\n",
        "np.repeat(a,3)"
      ],
      "execution_count": 25,
      "outputs": [
        {
          "output_type": "execute_result",
          "data": {
            "text/plain": [
              "array([10, 10, 10, 20, 20, 20, 30, 30, 30])"
            ]
          },
          "metadata": {
            "tags": []
          },
          "execution_count": 25
        }
      ]
    },
    {
      "cell_type": "code",
      "metadata": {
        "id": "dPsoStAAY7AA",
        "outputId": "95164905-f292-42ae-edb1-ca88d5cef80d",
        "colab": {
          "base_uri": "https://localhost:8080/",
          "height": 34
        }
      },
      "source": [
        "# Array of 10's\n",
        "np.full(5,10)"
      ],
      "execution_count": 26,
      "outputs": [
        {
          "output_type": "execute_result",
          "data": {
            "text/plain": [
              "array([10, 10, 10, 10, 10])"
            ]
          },
          "metadata": {
            "tags": []
          },
          "execution_count": 26
        }
      ]
    },
    {
      "cell_type": "code",
      "metadata": {
        "id": "hG-1pwJqY-gG",
        "outputId": "f39fa69d-623a-4107-c34e-4068cae97675",
        "colab": {
          "base_uri": "https://localhost:8080/",
          "height": 34
        }
      },
      "source": [
        "# Generate array of Odd numbers\n",
        "ar1 = np.arange(1,20)\n",
        "ar1[ar1%2 ==1]"
      ],
      "execution_count": 27,
      "outputs": [
        {
          "output_type": "execute_result",
          "data": {
            "text/plain": [
              "array([ 1,  3,  5,  7,  9, 11, 13, 15, 17, 19])"
            ]
          },
          "metadata": {
            "tags": []
          },
          "execution_count": 27
        }
      ]
    },
    {
      "cell_type": "code",
      "metadata": {
        "id": "kS-rcTITZBoJ",
        "outputId": "c0016164-dde0-4462-fd32-b1d649e3add6",
        "colab": {
          "base_uri": "https://localhost:8080/",
          "height": 34
        }
      },
      "source": [
        "# Generate array of even numbers\n",
        "ar1 = np.arange(1,20)\n",
        "ar1[ar1%2 == 0]"
      ],
      "execution_count": 28,
      "outputs": [
        {
          "output_type": "execute_result",
          "data": {
            "text/plain": [
              "array([ 2,  4,  6,  8, 10, 12, 14, 16, 18])"
            ]
          },
          "metadata": {
            "tags": []
          },
          "execution_count": 28
        }
      ]
    },
    {
      "cell_type": "code",
      "metadata": {
        "id": "a7L9kY75ZE9B",
        "outputId": "e0b337a4-0512-4b30-892a-551ff3d587b4",
        "colab": {
          "base_uri": "https://localhost:8080/",
          "height": 34
        }
      },
      "source": [
        "# Generate evenly spaced 4 numbers between 10 to 20.\n",
        "np.linspace(10,20,4)"
      ],
      "execution_count": 29,
      "outputs": [
        {
          "output_type": "execute_result",
          "data": {
            "text/plain": [
              "array([10.        , 13.33333333, 16.66666667, 20.        ])"
            ]
          },
          "metadata": {
            "tags": []
          },
          "execution_count": 29
        }
      ]
    },
    {
      "cell_type": "code",
      "metadata": {
        "id": "lu3L7HiNZIKU",
        "outputId": "6d9e856d-a2d0-4806-f46a-a71e7ec66e79",
        "colab": {
          "base_uri": "https://localhost:8080/",
          "height": 34
        }
      },
      "source": [
        "# Generate evenly spaced 11 numbers between 10 to 20.\n",
        "np.linspace(10,20,11)"
      ],
      "execution_count": 30,
      "outputs": [
        {
          "output_type": "execute_result",
          "data": {
            "text/plain": [
              "array([10., 11., 12., 13., 14., 15., 16., 17., 18., 19., 20.])"
            ]
          },
          "metadata": {
            "tags": []
          },
          "execution_count": 30
        }
      ]
    },
    {
      "cell_type": "code",
      "metadata": {
        "id": "JEeIWLHUZVeq",
        "outputId": "25f76f6d-9cf7-4fd4-9c8d-ae3c57a1a938",
        "colab": {
          "base_uri": "https://localhost:8080/",
          "height": 34
        }
      },
      "source": [
        "# Create an array of random values\n",
        "np.random.random(4)"
      ],
      "execution_count": 31,
      "outputs": [
        {
          "output_type": "execute_result",
          "data": {
            "text/plain": [
              "array([0.43732224, 0.01603872, 0.52214319, 0.04572257])"
            ]
          },
          "metadata": {
            "tags": []
          },
          "execution_count": 31
        }
      ]
    },
    {
      "cell_type": "code",
      "metadata": {
        "id": "NMHEqCMjZXw3",
        "outputId": "add90ab4-cbcd-481e-db1b-85c4930e386f",
        "colab": {
          "base_uri": "https://localhost:8080/",
          "height": 34
        }
      },
      "source": [
        "# Generate an array of Random Integer numbers\n",
        "np.random.randint(0,500,5)"
      ],
      "execution_count": 32,
      "outputs": [
        {
          "output_type": "execute_result",
          "data": {
            "text/plain": [
              "array([210, 198, 472, 295, 236])"
            ]
          },
          "metadata": {
            "tags": []
          },
          "execution_count": 32
        }
      ]
    },
    {
      "cell_type": "code",
      "metadata": {
        "id": "MJlZTkBWZaSX",
        "outputId": "aee42727-871c-4e25-eab9-33630e68aad7",
        "colab": {
          "base_uri": "https://localhost:8080/",
          "height": 34
        }
      },
      "source": [
        "# Generate an array of Random Integer numbers\n",
        "np.random.randint(0,500,10)"
      ],
      "execution_count": 33,
      "outputs": [
        {
          "output_type": "execute_result",
          "data": {
            "text/plain": [
              "array([395, 490, 445, 263, 357,  74, 217, 168, 209, 413])"
            ]
          },
          "metadata": {
            "tags": []
          },
          "execution_count": 33
        }
      ]
    },
    {
      "cell_type": "code",
      "metadata": {
        "id": "UXPjzJ2JZd07",
        "outputId": "d13e2240-eee0-477d-8537-fcbcdcf36625",
        "colab": {
          "base_uri": "https://localhost:8080/",
          "height": 34
        }
      },
      "source": [
        "# Using random.seed we can generate same number of Random numbers\n",
        "np.random.seed(123)\n",
        "np.random.randint(0,100,10)"
      ],
      "execution_count": 34,
      "outputs": [
        {
          "output_type": "execute_result",
          "data": {
            "text/plain": [
              "array([66, 92, 98, 17, 83, 57, 86, 97, 96, 47])"
            ]
          },
          "metadata": {
            "tags": []
          },
          "execution_count": 34
        }
      ]
    },
    {
      "cell_type": "code",
      "metadata": {
        "id": "8OwjsqI8Zhf4",
        "outputId": "aee7036e-c601-4bed-f9e4-25611d934b6e",
        "colab": {
          "base_uri": "https://localhost:8080/",
          "height": 34
        }
      },
      "source": [
        "# Using random.seed we can generate same number of Random numbers\n",
        "np.random.seed(123)\n",
        "np.random.randint(0,100,10)"
      ],
      "execution_count": 35,
      "outputs": [
        {
          "output_type": "execute_result",
          "data": {
            "text/plain": [
              "array([66, 92, 98, 17, 83, 57, 86, 97, 96, 47])"
            ]
          },
          "metadata": {
            "tags": []
          },
          "execution_count": 35
        }
      ]
    },
    {
      "cell_type": "code",
      "metadata": {
        "id": "lNKwPlAsZjp5",
        "outputId": "59bd441b-d652-444b-81e5-89fe3a71082a",
        "colab": {
          "base_uri": "https://localhost:8080/",
          "height": 34
        }
      },
      "source": [
        "# Using random.seed we can generate same number of Random numbers\n",
        "np.random.seed(101)\n",
        "np.random.randint(0,100,10)"
      ],
      "execution_count": 36,
      "outputs": [
        {
          "output_type": "execute_result",
          "data": {
            "text/plain": [
              "array([95, 11, 81, 70, 63, 87, 75,  9, 77, 40])"
            ]
          },
          "metadata": {
            "tags": []
          },
          "execution_count": 36
        }
      ]
    },
    {
      "cell_type": "code",
      "metadata": {
        "id": "L2-EwG57ZnXP",
        "outputId": "23135779-eef4-4eb9-c25b-07a19567949a",
        "colab": {
          "base_uri": "https://localhost:8080/",
          "height": 34
        }
      },
      "source": [
        "# Using random.seed we can generate same number of Random numbers\n",
        "np.random.seed(101)\n",
        "np.random.randint(0,100,10)"
      ],
      "execution_count": 37,
      "outputs": [
        {
          "output_type": "execute_result",
          "data": {
            "text/plain": [
              "array([95, 11, 81, 70, 63, 87, 75,  9, 77, 40])"
            ]
          },
          "metadata": {
            "tags": []
          },
          "execution_count": 37
        }
      ]
    },
    {
      "cell_type": "code",
      "metadata": {
        "id": "gDhEzVJFZpY2",
        "outputId": "952b8f9e-2665-41bb-eda8-a4997fa94f5d",
        "colab": {
          "base_uri": "https://localhost:8080/",
          "height": 51
        }
      },
      "source": [
        "# Generate array of Random float numbers\n",
        "f1 = np.random.uniform(5,10, size=(10))\n",
        "f1"
      ],
      "execution_count": 38,
      "outputs": [
        {
          "output_type": "execute_result",
          "data": {
            "text/plain": [
              "array([6.5348311 , 9.4680654 , 8.60771931, 5.94969477, 7.77113796,\n",
              "       6.76065977, 5.90946201, 8.92800881, 9.82741611, 6.16176831])"
            ]
          },
          "metadata": {
            "tags": []
          },
          "execution_count": 38
        }
      ]
    },
    {
      "cell_type": "code",
      "metadata": {
        "id": "ASoUV7C9Zrhy",
        "outputId": "f4ea23ca-43d9-4b76-c1d7-8a83fb97d475",
        "colab": {
          "base_uri": "https://localhost:8080/",
          "height": 34
        }
      },
      "source": [
        "# Extract Integer part\n",
        "np.floor(f1)"
      ],
      "execution_count": 39,
      "outputs": [
        {
          "output_type": "execute_result",
          "data": {
            "text/plain": [
              "array([6., 9., 8., 5., 7., 6., 5., 8., 9., 6.])"
            ]
          },
          "metadata": {
            "tags": []
          },
          "execution_count": 39
        }
      ]
    },
    {
      "cell_type": "code",
      "metadata": {
        "id": "yD4_x1QTZt4V",
        "outputId": "7f2185a7-6f49-4f96-a1d3-5b912cc60f9c",
        "colab": {
          "base_uri": "https://localhost:8080/",
          "height": 34
        }
      },
      "source": [
        "# Truncate decimal part\n",
        "np.trunc(f1)"
      ],
      "execution_count": 40,
      "outputs": [
        {
          "output_type": "execute_result",
          "data": {
            "text/plain": [
              "array([6., 9., 8., 5., 7., 6., 5., 8., 9., 6.])"
            ]
          },
          "metadata": {
            "tags": []
          },
          "execution_count": 40
        }
      ]
    },
    {
      "cell_type": "code",
      "metadata": {
        "id": "sVLTXstLZwde",
        "outputId": "198b32ee-9e21-46cf-d168-d2b9484fb034",
        "colab": {
          "base_uri": "https://localhost:8080/",
          "height": 34
        }
      },
      "source": [
        "# Convert Float Array to Integer array\n",
        "f1.astype(int)"
      ],
      "execution_count": 41,
      "outputs": [
        {
          "output_type": "execute_result",
          "data": {
            "text/plain": [
              "array([6, 9, 8, 5, 7, 6, 5, 8, 9, 6])"
            ]
          },
          "metadata": {
            "tags": []
          },
          "execution_count": 41
        }
      ]
    },
    {
      "cell_type": "code",
      "metadata": {
        "id": "ek-FeZrfZzoq",
        "outputId": "8e0f336f-0d83-43e6-f502-8ca374dc5ce0",
        "colab": {
          "base_uri": "https://localhost:8080/",
          "height": 51
        }
      },
      "source": [
        "# Normal distribution (mean=0 and variance=1)\n",
        "b2 =np.random.randn(10)\n",
        "b2"
      ],
      "execution_count": 42,
      "outputs": [
        {
          "output_type": "execute_result",
          "data": {
            "text/plain": [
              "array([ 0.18869531, -0.75887206, -0.93323722,  0.95505651,  0.19079432,\n",
              "        1.97875732,  2.60596728,  0.68350889,  0.30266545,  1.69372293])"
            ]
          },
          "metadata": {
            "tags": []
          },
          "execution_count": 42
        }
      ]
    },
    {
      "cell_type": "code",
      "metadata": {
        "id": "setFdTCiZ2GX",
        "outputId": "fde81b72-0e5d-4d7e-ea7e-72e4084a637a",
        "colab": {
          "base_uri": "https://localhost:8080/",
          "height": 34
        }
      },
      "source": [
        "arr1"
      ],
      "execution_count": 43,
      "outputs": [
        {
          "output_type": "execute_result",
          "data": {
            "text/plain": [
              "array([10, 20, 30, 40, 50, 60])"
            ]
          },
          "metadata": {
            "tags": []
          },
          "execution_count": 43
        }
      ]
    },
    {
      "cell_type": "code",
      "metadata": {
        "id": "7ni2kgLdZ3s0",
        "outputId": "baaf4815-4cea-41e0-9850-084b7dd53b78",
        "colab": {
          "base_uri": "https://localhost:8080/",
          "height": 119
        }
      },
      "source": [
        "# Enumerate for Numpy Arrays\n",
        "for index,value in np.ndenumerate(arr1):\n",
        "  print(index,value)"
      ],
      "execution_count": 45,
      "outputs": [
        {
          "output_type": "stream",
          "text": [
            "(0,) 10\n",
            "(1,) 20\n",
            "(2,) 30\n",
            "(3,) 40\n",
            "(4,) 50\n",
            "(5,) 60\n"
          ],
          "name": "stdout"
        }
      ]
    },
    {
      "cell_type": "code",
      "metadata": {
        "id": "HgK3SgNAaGju",
        "outputId": "22bd8797-83d8-4cda-fca9-4595dba3b78b",
        "colab": {
          "base_uri": "https://localhost:8080/",
          "height": 51
        }
      },
      "source": [
        "arr2 = np.arange(1,20)\n",
        "arr2"
      ],
      "execution_count": 46,
      "outputs": [
        {
          "output_type": "execute_result",
          "data": {
            "text/plain": [
              "array([ 1,  2,  3,  4,  5,  6,  7,  8,  9, 10, 11, 12, 13, 14, 15, 16, 17,\n",
              "       18, 19])"
            ]
          },
          "metadata": {
            "tags": []
          },
          "execution_count": 46
        }
      ]
    },
    {
      "cell_type": "code",
      "metadata": {
        "id": "4rshhz6PaM0l",
        "outputId": "220a43a7-84b9-4f98-b7dc-d340a9cbf6fc",
        "colab": {
          "base_uri": "https://localhost:8080/",
          "height": 34
        }
      },
      "source": [
        "# Sum of all elements in an array\n",
        "arr2.sum()"
      ],
      "execution_count": 47,
      "outputs": [
        {
          "output_type": "execute_result",
          "data": {
            "text/plain": [
              "190"
            ]
          },
          "metadata": {
            "tags": []
          },
          "execution_count": 47
        }
      ]
    },
    {
      "cell_type": "code",
      "metadata": {
        "id": "i_KLi5ohaQaR",
        "outputId": "7b66a18d-25b4-4cc6-c00a-f29f890c33cc",
        "colab": {
          "base_uri": "https://localhost:8080/",
          "height": 51
        }
      },
      "source": [
        "# Cumulative Sum\n",
        "np.cumsum(arr2)"
      ],
      "execution_count": 48,
      "outputs": [
        {
          "output_type": "execute_result",
          "data": {
            "text/plain": [
              "array([  1,   3,   6,  10,  15,  21,  28,  36,  45,  55,  66,  78,  91,\n",
              "       105, 120, 136, 153, 171, 190])"
            ]
          },
          "metadata": {
            "tags": []
          },
          "execution_count": 48
        }
      ]
    },
    {
      "cell_type": "code",
      "metadata": {
        "id": "43hCBYJvaSx4",
        "outputId": "fdcdb383-a5ec-4be6-d36c-db13903809f7",
        "colab": {
          "base_uri": "https://localhost:8080/",
          "height": 34
        }
      },
      "source": [
        "# Find Minimum number in an array\n",
        "arr2.min()"
      ],
      "execution_count": 49,
      "outputs": [
        {
          "output_type": "execute_result",
          "data": {
            "text/plain": [
              "1"
            ]
          },
          "metadata": {
            "tags": []
          },
          "execution_count": 49
        }
      ]
    },
    {
      "cell_type": "code",
      "metadata": {
        "id": "uWSt2rpZbQ7a",
        "outputId": "eee9496f-6ab9-4a36-e3b9-65aafa2c87c1",
        "colab": {
          "base_uri": "https://localhost:8080/",
          "height": 34
        }
      },
      "source": [
        "# Find MAX number in an array\n",
        "arr2.max()"
      ],
      "execution_count": 50,
      "outputs": [
        {
          "output_type": "execute_result",
          "data": {
            "text/plain": [
              "19"
            ]
          },
          "metadata": {
            "tags": []
          },
          "execution_count": 50
        }
      ]
    },
    {
      "cell_type": "code",
      "metadata": {
        "id": "u7Nn-MnVbS7p",
        "outputId": "013e0690-90f8-4f11-abb0-092b011b81c4",
        "colab": {
          "base_uri": "https://localhost:8080/",
          "height": 34
        }
      },
      "source": [
        "# Find INDEX of Minimum number in an array\n",
        "arr2.argmin()"
      ],
      "execution_count": 51,
      "outputs": [
        {
          "output_type": "execute_result",
          "data": {
            "text/plain": [
              "0"
            ]
          },
          "metadata": {
            "tags": []
          },
          "execution_count": 51
        }
      ]
    },
    {
      "cell_type": "code",
      "metadata": {
        "id": "Xi5p7KH6bVts",
        "outputId": "406f3a2b-22d9-4020-ad02-29e9448d3114",
        "colab": {
          "base_uri": "https://localhost:8080/",
          "height": 34
        }
      },
      "source": [
        "# Find INDEX of MAX number in an array\n",
        "arr2.argmax()"
      ],
      "execution_count": 52,
      "outputs": [
        {
          "output_type": "execute_result",
          "data": {
            "text/plain": [
              "18"
            ]
          },
          "metadata": {
            "tags": []
          },
          "execution_count": 52
        }
      ]
    },
    {
      "cell_type": "code",
      "metadata": {
        "id": "6IsMyMtdbXts",
        "outputId": "5b34609f-f721-44e1-b652-36f65db483db",
        "colab": {
          "base_uri": "https://localhost:8080/",
          "height": 34
        }
      },
      "source": [
        "# Find mean of all numbers in an array\n",
        "arr2.mean()"
      ],
      "execution_count": 53,
      "outputs": [
        {
          "output_type": "execute_result",
          "data": {
            "text/plain": [
              "10.0"
            ]
          },
          "metadata": {
            "tags": []
          },
          "execution_count": 53
        }
      ]
    },
    {
      "cell_type": "code",
      "metadata": {
        "id": "CRzN_iCDbZvm",
        "outputId": "542c3059-6f0f-46ce-a482-107a6f9073d9",
        "colab": {
          "base_uri": "https://localhost:8080/",
          "height": 34
        }
      },
      "source": [
        "# Find median of all numbers present in arr2\n",
        "np.median(arr2)"
      ],
      "execution_count": 54,
      "outputs": [
        {
          "output_type": "execute_result",
          "data": {
            "text/plain": [
              "10.0"
            ]
          },
          "metadata": {
            "tags": []
          },
          "execution_count": 54
        }
      ]
    },
    {
      "cell_type": "code",
      "metadata": {
        "id": "_Od_AmCqbdMz",
        "outputId": "05c91513-599e-4eab-ea9c-64715497b69e",
        "colab": {
          "base_uri": "https://localhost:8080/",
          "height": 34
        }
      },
      "source": [
        "# Variance\n",
        "np.var(arr2)"
      ],
      "execution_count": 55,
      "outputs": [
        {
          "output_type": "execute_result",
          "data": {
            "text/plain": [
              "30.0"
            ]
          },
          "metadata": {
            "tags": []
          },
          "execution_count": 55
        }
      ]
    },
    {
      "cell_type": "code",
      "metadata": {
        "id": "6j-VpvTAbfYC",
        "outputId": "8e243467-20af-4d36-ad48-65042fa38c43",
        "colab": {
          "base_uri": "https://localhost:8080/",
          "height": 34
        }
      },
      "source": [
        "# Standard deviation\n",
        "np.std(arr2)"
      ],
      "execution_count": 56,
      "outputs": [
        {
          "output_type": "execute_result",
          "data": {
            "text/plain": [
              "5.477225575051661"
            ]
          },
          "metadata": {
            "tags": []
          },
          "execution_count": 56
        }
      ]
    },
    {
      "cell_type": "code",
      "metadata": {
        "id": "mra0A8pbbhdo",
        "outputId": "29b05c52-ddaa-4cc7-b154-119794a28ecd",
        "colab": {
          "base_uri": "https://localhost:8080/",
          "height": 34
        }
      },
      "source": [
        "# Calculating percentiles\n",
        "np.percentile(arr2,70)"
      ],
      "execution_count": 57,
      "outputs": [
        {
          "output_type": "execute_result",
          "data": {
            "text/plain": [
              "13.6"
            ]
          },
          "metadata": {
            "tags": []
          },
          "execution_count": 57
        }
      ]
    },
    {
      "cell_type": "code",
      "metadata": {
        "id": "tY0nnCjXbjiO",
        "outputId": "7187963f-5ba7-49f9-c284-2dd852685381",
        "colab": {
          "base_uri": "https://localhost:8080/",
          "height": 34
        }
      },
      "source": [
        "# 10th & 70th percentile\n",
        "np.percentile(arr2,[10,70])"
      ],
      "execution_count": 58,
      "outputs": [
        {
          "output_type": "execute_result",
          "data": {
            "text/plain": [
              "array([ 2.8, 13.6])"
            ]
          },
          "metadata": {
            "tags": []
          },
          "execution_count": 58
        }
      ]
    },
    {
      "cell_type": "code",
      "metadata": {
        "id": "5Qe6yd0qbmgF",
        "outputId": "7b953330-0a69-4693-9a70-11dcc0d24cc8",
        "colab": {
          "base_uri": "https://localhost:8080/",
          "height": 85
        }
      },
      "source": [
        "A = np.array([[1,2,3,0] , [5,6,7,22] , [10 , 11 , 1 ,13] , [14,15,16,3]])\n",
        "A"
      ],
      "execution_count": 59,
      "outputs": [
        {
          "output_type": "execute_result",
          "data": {
            "text/plain": [
              "array([[ 1,  2,  3,  0],\n",
              "       [ 5,  6,  7, 22],\n",
              "       [10, 11,  1, 13],\n",
              "       [14, 15, 16,  3]])"
            ]
          },
          "metadata": {
            "tags": []
          },
          "execution_count": 59
        }
      ]
    },
    {
      "cell_type": "code",
      "metadata": {
        "id": "3Af9fqKlbpU6",
        "outputId": "a667ad8b-9864-4e57-f50f-4eea56474a1e",
        "colab": {
          "base_uri": "https://localhost:8080/",
          "height": 34
        }
      },
      "source": [
        "# SUM of all numbers in a 2D array\n",
        "A.sum()"
      ],
      "execution_count": 60,
      "outputs": [
        {
          "output_type": "execute_result",
          "data": {
            "text/plain": [
              "129"
            ]
          },
          "metadata": {
            "tags": []
          },
          "execution_count": 60
        }
      ]
    },
    {
      "cell_type": "code",
      "metadata": {
        "id": "BvEGPxUhbs19",
        "outputId": "3b7b6185-a2e7-4114-8213-5b2b7cb82ce4",
        "colab": {
          "base_uri": "https://localhost:8080/",
          "height": 34
        }
      },
      "source": [
        "# MAX number in a 2D array\n",
        "A.max()"
      ],
      "execution_count": 61,
      "outputs": [
        {
          "output_type": "execute_result",
          "data": {
            "text/plain": [
              "22"
            ]
          },
          "metadata": {
            "tags": []
          },
          "execution_count": 61
        }
      ]
    },
    {
      "cell_type": "code",
      "metadata": {
        "id": "9B9ZX4AHbu14",
        "outputId": "97a2f07a-99ad-485b-deb0-e1e4b55d3ee1",
        "colab": {
          "base_uri": "https://localhost:8080/",
          "height": 34
        }
      },
      "source": [
        "# Minimum\n",
        "A.min()"
      ],
      "execution_count": 62,
      "outputs": [
        {
          "output_type": "execute_result",
          "data": {
            "text/plain": [
              "0"
            ]
          },
          "metadata": {
            "tags": []
          },
          "execution_count": 62
        }
      ]
    },
    {
      "cell_type": "code",
      "metadata": {
        "id": "lvozeFHBbw69",
        "outputId": "4841299c-578f-4f7b-d7ad-3408ab8b4bd9",
        "colab": {
          "base_uri": "https://localhost:8080/",
          "height": 34
        }
      },
      "source": [
        "# Column wise mimimum value \n",
        "np.amin(A, axis=0)"
      ],
      "execution_count": 63,
      "outputs": [
        {
          "output_type": "execute_result",
          "data": {
            "text/plain": [
              "array([1, 2, 1, 0])"
            ]
          },
          "metadata": {
            "tags": []
          },
          "execution_count": 63
        }
      ]
    },
    {
      "cell_type": "code",
      "metadata": {
        "id": "_PPWcdHpbzCp",
        "outputId": "4472333c-baec-4fee-be85-f22b5b96d483",
        "colab": {
          "base_uri": "https://localhost:8080/",
          "height": 34
        }
      },
      "source": [
        "# Row wise mimimum value \n",
        "np.amin(A, axis=1)"
      ],
      "execution_count": 64,
      "outputs": [
        {
          "output_type": "execute_result",
          "data": {
            "text/plain": [
              "array([0, 5, 1, 3])"
            ]
          },
          "metadata": {
            "tags": []
          },
          "execution_count": 64
        }
      ]
    },
    {
      "cell_type": "code",
      "metadata": {
        "id": "sJlo9DUQb2dJ",
        "outputId": "8237fc90-6eff-455a-d414-a09412bda328",
        "colab": {
          "base_uri": "https://localhost:8080/",
          "height": 34
        }
      },
      "source": [
        "# Mean of all numbers in a 2D array\n",
        "A.mean()"
      ],
      "execution_count": 65,
      "outputs": [
        {
          "output_type": "execute_result",
          "data": {
            "text/plain": [
              "8.0625"
            ]
          },
          "metadata": {
            "tags": []
          },
          "execution_count": 65
        }
      ]
    },
    {
      "cell_type": "code",
      "metadata": {
        "id": "oFom_pfkb4vl",
        "outputId": "4fce4751-a5b0-471b-91b8-2324f0d2eb66",
        "colab": {
          "base_uri": "https://localhost:8080/",
          "height": 34
        }
      },
      "source": [
        "# Mean\n",
        "np.mean(A)"
      ],
      "execution_count": 66,
      "outputs": [
        {
          "output_type": "execute_result",
          "data": {
            "text/plain": [
              "8.0625"
            ]
          },
          "metadata": {
            "tags": []
          },
          "execution_count": 66
        }
      ]
    },
    {
      "cell_type": "code",
      "metadata": {
        "id": "BI-_UnMwb6qv",
        "outputId": "4d1f6cda-2c41-49ce-8a31-0a4564065233",
        "colab": {
          "base_uri": "https://localhost:8080/",
          "height": 34
        }
      },
      "source": [
        "# Median\n",
        "np.median(A)"
      ],
      "execution_count": 67,
      "outputs": [
        {
          "output_type": "execute_result",
          "data": {
            "text/plain": [
              "6.5"
            ]
          },
          "metadata": {
            "tags": []
          },
          "execution_count": 67
        }
      ]
    },
    {
      "cell_type": "code",
      "metadata": {
        "id": "X4rf3AtIb8iP",
        "outputId": "f09b0f0d-16e8-483a-d908-f16d02b2150e",
        "colab": {
          "base_uri": "https://localhost:8080/",
          "height": 34
        }
      },
      "source": [
        "# 50 percentile = Median\n",
        "np.percentile(A,50)"
      ],
      "execution_count": 68,
      "outputs": [
        {
          "output_type": "execute_result",
          "data": {
            "text/plain": [
              "6.5"
            ]
          },
          "metadata": {
            "tags": []
          },
          "execution_count": 68
        }
      ]
    },
    {
      "cell_type": "code",
      "metadata": {
        "id": "vMELp1sub_vM",
        "outputId": "bba33f66-a37e-4b5d-faa9-bd12794efcb6",
        "colab": {
          "base_uri": "https://localhost:8080/",
          "height": 34
        }
      },
      "source": [
        "np.var(A)"
      ],
      "execution_count": 69,
      "outputs": [
        {
          "output_type": "execute_result",
          "data": {
            "text/plain": [
              "40.30859375"
            ]
          },
          "metadata": {
            "tags": []
          },
          "execution_count": 69
        }
      ]
    },
    {
      "cell_type": "code",
      "metadata": {
        "id": "AZZv__9hcBZ5",
        "outputId": "4dcbbbd1-a8fe-4c36-ff2e-26da4a983327",
        "colab": {
          "base_uri": "https://localhost:8080/",
          "height": 34
        }
      },
      "source": [
        "np.std(A)"
      ],
      "execution_count": 70,
      "outputs": [
        {
          "output_type": "execute_result",
          "data": {
            "text/plain": [
              "6.348904925260734"
            ]
          },
          "metadata": {
            "tags": []
          },
          "execution_count": 70
        }
      ]
    },
    {
      "cell_type": "code",
      "metadata": {
        "id": "JSfC_TQucDDb",
        "outputId": "6d555e3a-fa75-452f-e6bc-f9aa1faaa5d6",
        "colab": {
          "base_uri": "https://localhost:8080/",
          "height": 34
        }
      },
      "source": [
        "np.percentile(arr2,70)"
      ],
      "execution_count": 71,
      "outputs": [
        {
          "output_type": "execute_result",
          "data": {
            "text/plain": [
              "13.6"
            ]
          },
          "metadata": {
            "tags": []
          },
          "execution_count": 71
        }
      ]
    },
    {
      "cell_type": "code",
      "metadata": {
        "id": "PDyhkr71cEui",
        "outputId": "9aa290dd-4fae-4bf4-f37e-5eb2670e791f",
        "colab": {
          "base_uri": "https://localhost:8080/",
          "height": 289
        }
      },
      "source": [
        "# Enumerate for Numpy 2D Arrays\n",
        "for index, value in np.ndenumerate(A):\n",
        "    print(index, value)"
      ],
      "execution_count": 72,
      "outputs": [
        {
          "output_type": "stream",
          "text": [
            "(0, 0) 1\n",
            "(0, 1) 2\n",
            "(0, 2) 3\n",
            "(0, 3) 0\n",
            "(1, 0) 5\n",
            "(1, 1) 6\n",
            "(1, 2) 7\n",
            "(1, 3) 22\n",
            "(2, 0) 10\n",
            "(2, 1) 11\n",
            "(2, 2) 1\n",
            "(2, 3) 13\n",
            "(3, 0) 14\n",
            "(3, 1) 15\n",
            "(3, 2) 16\n",
            "(3, 3) 3\n"
          ],
          "name": "stdout"
        }
      ]
    },
    {
      "cell_type": "code",
      "metadata": {
        "id": "IRvqncbXcG7k"
      },
      "source": [
        "a = np.array([7,5,3,9,0,2])"
      ],
      "execution_count": 73,
      "outputs": []
    },
    {
      "cell_type": "code",
      "metadata": {
        "id": "zctkM1V4cJ2d",
        "outputId": "a180970d-c435-40ac-ddd8-7969b2469c34",
        "colab": {
          "base_uri": "https://localhost:8080/",
          "height": 34
        }
      },
      "source": [
        "# Access first element of the array\n",
        "a[0]"
      ],
      "execution_count": 74,
      "outputs": [
        {
          "output_type": "execute_result",
          "data": {
            "text/plain": [
              "7"
            ]
          },
          "metadata": {
            "tags": []
          },
          "execution_count": 74
        }
      ]
    },
    {
      "cell_type": "code",
      "metadata": {
        "id": "jT2evWRCcL1b",
        "outputId": "8fbddaaf-5bb6-4cca-965f-06f310e16e02",
        "colab": {
          "base_uri": "https://localhost:8080/",
          "height": 34
        }
      },
      "source": [
        "# Access all elements of Array except first one.\n",
        "a[1:]"
      ],
      "execution_count": 75,
      "outputs": [
        {
          "output_type": "execute_result",
          "data": {
            "text/plain": [
              "array([5, 3, 9, 0, 2])"
            ]
          },
          "metadata": {
            "tags": []
          },
          "execution_count": 75
        }
      ]
    },
    {
      "cell_type": "code",
      "metadata": {
        "id": "kFAFbub9cOgX",
        "outputId": "e43e8266-06ce-4e7b-f6a1-e64a0c7af8f7",
        "colab": {
          "base_uri": "https://localhost:8080/",
          "height": 34
        }
      },
      "source": [
        "# Fetch 2nd , 3rd & 4th value from the Array\n",
        "a[1:4]"
      ],
      "execution_count": 76,
      "outputs": [
        {
          "output_type": "execute_result",
          "data": {
            "text/plain": [
              "array([5, 3, 9])"
            ]
          },
          "metadata": {
            "tags": []
          },
          "execution_count": 76
        }
      ]
    },
    {
      "cell_type": "code",
      "metadata": {
        "id": "xhfC9Q8zcQ3w",
        "outputId": "d414c000-4b77-4b70-cbfe-78a6657f4915",
        "colab": {
          "base_uri": "https://localhost:8080/",
          "height": 34
        }
      },
      "source": [
        "# Get last element of the array\n",
        "a[-1]"
      ],
      "execution_count": 77,
      "outputs": [
        {
          "output_type": "execute_result",
          "data": {
            "text/plain": [
              "2"
            ]
          },
          "metadata": {
            "tags": []
          },
          "execution_count": 77
        }
      ]
    },
    {
      "cell_type": "code",
      "metadata": {
        "id": "3eugU2HrcSyi",
        "outputId": "02dba422-afb3-4347-eee6-eb9b22d921ec",
        "colab": {
          "base_uri": "https://localhost:8080/",
          "height": 34
        }
      },
      "source": [
        "a[-3]"
      ],
      "execution_count": 78,
      "outputs": [
        {
          "output_type": "execute_result",
          "data": {
            "text/plain": [
              "9"
            ]
          },
          "metadata": {
            "tags": []
          },
          "execution_count": 78
        }
      ]
    },
    {
      "cell_type": "code",
      "metadata": {
        "id": "aPuw2vHUcVSk",
        "outputId": "0ab35e72-3753-4232-dbd9-8ba50f6da605",
        "colab": {
          "base_uri": "https://localhost:8080/",
          "height": 34
        }
      },
      "source": [
        "a[-6]"
      ],
      "execution_count": 79,
      "outputs": [
        {
          "output_type": "execute_result",
          "data": {
            "text/plain": [
              "7"
            ]
          },
          "metadata": {
            "tags": []
          },
          "execution_count": 79
        }
      ]
    },
    {
      "cell_type": "code",
      "metadata": {
        "id": "wWTfDUBBcW2c",
        "outputId": "9d2eea07-dc41-4a94-a7ed-1dda9273dad7",
        "colab": {
          "base_uri": "https://localhost:8080/",
          "height": 34
        }
      },
      "source": [
        "a[-3:-1]"
      ],
      "execution_count": 80,
      "outputs": [
        {
          "output_type": "execute_result",
          "data": {
            "text/plain": [
              "array([9, 0])"
            ]
          },
          "metadata": {
            "tags": []
          },
          "execution_count": 80
        }
      ]
    },
    {
      "cell_type": "code",
      "metadata": {
        "id": "A7Qj_x6rcYeA",
        "outputId": "739dcfa2-79c3-4d33-bc3e-1999c6f95cc4",
        "colab": {
          "base_uri": "https://localhost:8080/",
          "height": 51
        }
      },
      "source": [
        "ar = np.arange(1,20)\n",
        "ar"
      ],
      "execution_count": 81,
      "outputs": [
        {
          "output_type": "execute_result",
          "data": {
            "text/plain": [
              "array([ 1,  2,  3,  4,  5,  6,  7,  8,  9, 10, 11, 12, 13, 14, 15, 16, 17,\n",
              "       18, 19])"
            ]
          },
          "metadata": {
            "tags": []
          },
          "execution_count": 81
        }
      ]
    },
    {
      "cell_type": "code",
      "metadata": {
        "id": "g53zovrXc189",
        "outputId": "f28b084e-08e3-48fa-a48f-64c347f1603b",
        "colab": {
          "base_uri": "https://localhost:8080/",
          "height": 34
        }
      },
      "source": [
        "# Replace EVEN numbers with ZERO\n",
        "rep1 = np.where(ar % 2 == 0, 0 , ar)\n",
        "print(rep1)"
      ],
      "execution_count": 82,
      "outputs": [
        {
          "output_type": "stream",
          "text": [
            "[ 1  0  3  0  5  0  7  0  9  0 11  0 13  0 15  0 17  0 19]\n"
          ],
          "name": "stdout"
        }
      ]
    },
    {
      "cell_type": "code",
      "metadata": {
        "id": "-MhU-mmPc6dN",
        "outputId": "b73c0049-161f-4fd5-ce62-564830efb241",
        "colab": {
          "base_uri": "https://localhost:8080/",
          "height": 34
        }
      },
      "source": [
        "ar2 = np.array([10, 20 , 30 , 10 ,10 ,20, 20])\n",
        "ar2"
      ],
      "execution_count": 83,
      "outputs": [
        {
          "output_type": "execute_result",
          "data": {
            "text/plain": [
              "array([10, 20, 30, 10, 10, 20, 20])"
            ]
          },
          "metadata": {
            "tags": []
          },
          "execution_count": 83
        }
      ]
    },
    {
      "cell_type": "code",
      "metadata": {
        "id": "_-HEruRec9kw",
        "outputId": "c01c31a0-28f8-4c31-f858-ffeccba6e943",
        "colab": {
          "base_uri": "https://localhost:8080/",
          "height": 34
        }
      },
      "source": [
        "# Replace 10 with value 99\n",
        "rep2 = np.where(ar2 == 10, 99 , ar2)\n",
        "print(rep2)"
      ],
      "execution_count": 84,
      "outputs": [
        {
          "output_type": "stream",
          "text": [
            "[99 20 30 99 99 20 20]\n"
          ],
          "name": "stdout"
        }
      ]
    },
    {
      "cell_type": "code",
      "metadata": {
        "id": "R8jWpvsVc_zU",
        "outputId": "f7a4af3e-9c5c-425a-f2ff-7550bd6c61bb",
        "colab": {
          "base_uri": "https://localhost:8080/",
          "height": 34
        }
      },
      "source": [
        "p2 = np.arange(0,100,10)\n",
        "p2"
      ],
      "execution_count": 85,
      "outputs": [
        {
          "output_type": "execute_result",
          "data": {
            "text/plain": [
              "array([ 0, 10, 20, 30, 40, 50, 60, 70, 80, 90])"
            ]
          },
          "metadata": {
            "tags": []
          },
          "execution_count": 85
        }
      ]
    },
    {
      "cell_type": "code",
      "metadata": {
        "id": "f7MT4zyhdDQf",
        "outputId": "5b711600-d443-4677-a5de-dc603dcf7a8b",
        "colab": {
          "base_uri": "https://localhost:8080/",
          "height": 34
        }
      },
      "source": [
        "# Replace values at INDEX loc 0,3,5 with 33,55,99\n",
        "np.put(p2, [0, 3 , 5], [33, 55, 99])\n",
        "p2"
      ],
      "execution_count": 86,
      "outputs": [
        {
          "output_type": "execute_result",
          "data": {
            "text/plain": [
              "array([33, 10, 20, 55, 40, 99, 60, 70, 80, 90])"
            ]
          },
          "metadata": {
            "tags": []
          },
          "execution_count": 86
        }
      ]
    },
    {
      "cell_type": "code",
      "metadata": {
        "id": "AczFcvhhdMkI",
        "outputId": "9c305a37-64c9-4780-a18e-95b1b47ac002",
        "colab": {
          "base_uri": "https://localhost:8080/",
          "height": 34
        }
      },
      "source": [
        "a = np.array([10 ,np.nan,20,30,60,np.nan,90,np.inf])\n",
        "a"
      ],
      "execution_count": 87,
      "outputs": [
        {
          "output_type": "execute_result",
          "data": {
            "text/plain": [
              "array([10., nan, 20., 30., 60., nan, 90., inf])"
            ]
          },
          "metadata": {
            "tags": []
          },
          "execution_count": 87
        }
      ]
    },
    {
      "cell_type": "code",
      "metadata": {
        "id": "hLqk4heLdQvO",
        "outputId": "2fe3d72f-8a50-4fc0-983a-8b6073d2f817",
        "colab": {
          "base_uri": "https://localhost:8080/",
          "height": 34
        }
      },
      "source": [
        "# Search for missing values and return as a boolean array\n",
        "np.isnan(a)"
      ],
      "execution_count": 88,
      "outputs": [
        {
          "output_type": "execute_result",
          "data": {
            "text/plain": [
              "array([False,  True, False, False, False,  True, False, False])"
            ]
          },
          "metadata": {
            "tags": []
          },
          "execution_count": 88
        }
      ]
    },
    {
      "cell_type": "code",
      "metadata": {
        "id": "jYChMX3jdTQP",
        "outputId": "f5602b15-24fc-42b4-ad2d-2cc9c9d006fc",
        "colab": {
          "base_uri": "https://localhost:8080/",
          "height": 34
        }
      },
      "source": [
        "# Index of missing values in an array\n",
        "np.where(np.isnan(a))"
      ],
      "execution_count": 89,
      "outputs": [
        {
          "output_type": "execute_result",
          "data": {
            "text/plain": [
              "(array([1, 5]),)"
            ]
          },
          "metadata": {
            "tags": []
          },
          "execution_count": 89
        }
      ]
    },
    {
      "cell_type": "code",
      "metadata": {
        "id": "tnmiFfUldVnB",
        "outputId": "ae431e92-cbb7-4238-ea7d-fcbb59bb0004",
        "colab": {
          "base_uri": "https://localhost:8080/",
          "height": 34
        }
      },
      "source": [
        "# Replace all missing values with 99\n",
        "a[np.isnan(a)] = 99\n",
        "a"
      ],
      "execution_count": 90,
      "outputs": [
        {
          "output_type": "execute_result",
          "data": {
            "text/plain": [
              "array([10., 99., 20., 30., 60., 99., 90., inf])"
            ]
          },
          "metadata": {
            "tags": []
          },
          "execution_count": 90
        }
      ]
    },
    {
      "cell_type": "code",
      "metadata": {
        "id": "el0E5PSGdYmE",
        "outputId": "27810c9a-8571-4388-f496-ceae8be3ced6",
        "colab": {
          "base_uri": "https://localhost:8080/",
          "height": 34
        }
      },
      "source": [
        "# Check if array has any NULL value\n",
        "np.isnan(a).any()"
      ],
      "execution_count": 91,
      "outputs": [
        {
          "output_type": "execute_result",
          "data": {
            "text/plain": [
              "False"
            ]
          },
          "metadata": {
            "tags": []
          },
          "execution_count": 91
        }
      ]
    },
    {
      "cell_type": "code",
      "metadata": {
        "id": "jr-i9uVMdaWA",
        "outputId": "d5c61141-1209-4e5f-c84b-5769a4f2e472",
        "colab": {
          "base_uri": "https://localhost:8080/",
          "height": 85
        }
      },
      "source": [
        "A = np.array([[1,2,np.nan,4] , [np.nan,6,7,8] , [10 , np.nan , 12 ,13] , [14,15,16,17]])\n",
        "A"
      ],
      "execution_count": 92,
      "outputs": [
        {
          "output_type": "execute_result",
          "data": {
            "text/plain": [
              "array([[ 1.,  2., nan,  4.],\n",
              "       [nan,  6.,  7.,  8.],\n",
              "       [10., nan, 12., 13.],\n",
              "       [14., 15., 16., 17.]])"
            ]
          },
          "metadata": {
            "tags": []
          },
          "execution_count": 92
        }
      ]
    },
    {
      "cell_type": "code",
      "metadata": {
        "id": "lbfEiM4ddceA",
        "outputId": "fa79e359-51b9-483f-f3ab-acbf9ee430fc",
        "colab": {
          "base_uri": "https://localhost:8080/",
          "height": 85
        }
      },
      "source": [
        "# Search for missing values and return as a boolean array\n",
        "np.isnan(A)"
      ],
      "execution_count": 93,
      "outputs": [
        {
          "output_type": "execute_result",
          "data": {
            "text/plain": [
              "array([[False, False,  True, False],\n",
              "       [ True, False, False, False],\n",
              "       [False,  True, False, False],\n",
              "       [False, False, False, False]])"
            ]
          },
          "metadata": {
            "tags": []
          },
          "execution_count": 93
        }
      ]
    },
    {
      "cell_type": "code",
      "metadata": {
        "id": "5b2HQzuIeX0Y",
        "outputId": "30080ba0-6744-4e4c-9d06-1e1c75892d45",
        "colab": {
          "base_uri": "https://localhost:8080/",
          "height": 34
        }
      },
      "source": [
        "# Index of missing values in an array\n",
        "np.where(np.isnan(A))"
      ],
      "execution_count": 94,
      "outputs": [
        {
          "output_type": "execute_result",
          "data": {
            "text/plain": [
              "(array([0, 1, 2]), array([2, 0, 1]))"
            ]
          },
          "metadata": {
            "tags": []
          },
          "execution_count": 94
        }
      ]
    },
    {
      "cell_type": "code",
      "metadata": {
        "id": "-7u6JxqfeaLK",
        "outputId": "4f2122ce-2174-4515-bfa0-58df5d0b914c",
        "colab": {
          "base_uri": "https://localhost:8080/",
          "height": 51
        }
      },
      "source": [
        "a = np.zeros(20).reshape(2,-1)\n",
        "b = np.repeat(1, 20).reshape(2,-1)\n",
        "a"
      ],
      "execution_count": 95,
      "outputs": [
        {
          "output_type": "execute_result",
          "data": {
            "text/plain": [
              "array([[0., 0., 0., 0., 0., 0., 0., 0., 0., 0.],\n",
              "       [0., 0., 0., 0., 0., 0., 0., 0., 0., 0.]])"
            ]
          },
          "metadata": {
            "tags": []
          },
          "execution_count": 95
        }
      ]
    },
    {
      "cell_type": "code",
      "metadata": {
        "id": "-X5IkXHyeznM",
        "outputId": "a9ab32b3-4f22-478e-d33d-4d3eaff1de88",
        "colab": {
          "base_uri": "https://localhost:8080/",
          "height": 51
        }
      },
      "source": [
        "b"
      ],
      "execution_count": 96,
      "outputs": [
        {
          "output_type": "execute_result",
          "data": {
            "text/plain": [
              "array([[1, 1, 1, 1, 1, 1, 1, 1, 1, 1],\n",
              "       [1, 1, 1, 1, 1, 1, 1, 1, 1, 1]])"
            ]
          },
          "metadata": {
            "tags": []
          },
          "execution_count": 96
        }
      ]
    },
    {
      "cell_type": "code",
      "metadata": {
        "id": "xr3zQ2-xe1LK",
        "outputId": "c5ac390d-4c1f-41c6-b8f9-928a112c266b",
        "colab": {
          "base_uri": "https://localhost:8080/",
          "height": 85
        }
      },
      "source": [
        "np.vstack([a,b])"
      ],
      "execution_count": 97,
      "outputs": [
        {
          "output_type": "execute_result",
          "data": {
            "text/plain": [
              "array([[0., 0., 0., 0., 0., 0., 0., 0., 0., 0.],\n",
              "       [0., 0., 0., 0., 0., 0., 0., 0., 0., 0.],\n",
              "       [1., 1., 1., 1., 1., 1., 1., 1., 1., 1.],\n",
              "       [1., 1., 1., 1., 1., 1., 1., 1., 1., 1.]])"
            ]
          },
          "metadata": {
            "tags": []
          },
          "execution_count": 97
        }
      ]
    },
    {
      "cell_type": "code",
      "metadata": {
        "id": "l6W4G7v_e5h7"
      },
      "source": [
        "a1 = np.array([[1], [2], [3]])\n",
        "b1 = np.array([[4], [5], [6]])"
      ],
      "execution_count": 98,
      "outputs": []
    },
    {
      "cell_type": "code",
      "metadata": {
        "id": "4rMhpVFbe8HG",
        "outputId": "3581e6f9-2dc9-4a89-d765-5cfb0b785022",
        "colab": {
          "base_uri": "https://localhost:8080/",
          "height": 68
        }
      },
      "source": [
        "a1"
      ],
      "execution_count": 99,
      "outputs": [
        {
          "output_type": "execute_result",
          "data": {
            "text/plain": [
              "array([[1],\n",
              "       [2],\n",
              "       [3]])"
            ]
          },
          "metadata": {
            "tags": []
          },
          "execution_count": 99
        }
      ]
    },
    {
      "cell_type": "code",
      "metadata": {
        "id": "JRz9Qz4PfA10",
        "outputId": "9a0e296f-8d67-4d70-ebe1-ae0f3de3200e",
        "colab": {
          "base_uri": "https://localhost:8080/",
          "height": 68
        }
      },
      "source": [
        "b1"
      ],
      "execution_count": 100,
      "outputs": [
        {
          "output_type": "execute_result",
          "data": {
            "text/plain": [
              "array([[4],\n",
              "       [5],\n",
              "       [6]])"
            ]
          },
          "metadata": {
            "tags": []
          },
          "execution_count": 100
        }
      ]
    },
    {
      "cell_type": "code",
      "metadata": {
        "id": "YOVtTNspfBfA",
        "outputId": "08ef9df9-5e16-4a7d-eedf-f7153f247a84",
        "colab": {
          "base_uri": "https://localhost:8080/",
          "height": 119
        }
      },
      "source": [
        "np.vstack([a1,b1])"
      ],
      "execution_count": 102,
      "outputs": [
        {
          "output_type": "execute_result",
          "data": {
            "text/plain": [
              "array([[1],\n",
              "       [2],\n",
              "       [3],\n",
              "       [4],\n",
              "       [5],\n",
              "       [6]])"
            ]
          },
          "metadata": {
            "tags": []
          },
          "execution_count": 102
        }
      ]
    },
    {
      "cell_type": "code",
      "metadata": {
        "id": "uQrQkefifEDW",
        "outputId": "e869d8c6-049e-43f7-c399-4478add95537",
        "colab": {
          "base_uri": "https://localhost:8080/",
          "height": 85
        }
      },
      "source": [
        "np.hstack([a,b])"
      ],
      "execution_count": 103,
      "outputs": [
        {
          "output_type": "execute_result",
          "data": {
            "text/plain": [
              "array([[0., 0., 0., 0., 0., 0., 0., 0., 0., 0., 1., 1., 1., 1., 1., 1.,\n",
              "        1., 1., 1., 1.],\n",
              "       [0., 0., 0., 0., 0., 0., 0., 0., 0., 0., 1., 1., 1., 1., 1., 1.,\n",
              "        1., 1., 1., 1.]])"
            ]
          },
          "metadata": {
            "tags": []
          },
          "execution_count": 103
        }
      ]
    },
    {
      "cell_type": "code",
      "metadata": {
        "id": "BfxZx06efMmd",
        "outputId": "0eaf6f19-4f3f-467a-fe87-a7ff76c94829",
        "colab": {
          "base_uri": "https://localhost:8080/",
          "height": 68
        }
      },
      "source": [
        "np.hstack([a1,b1])\n"
      ],
      "execution_count": 104,
      "outputs": [
        {
          "output_type": "execute_result",
          "data": {
            "text/plain": [
              "array([[1, 4],\n",
              "       [2, 5],\n",
              "       [3, 6]])"
            ]
          },
          "metadata": {
            "tags": []
          },
          "execution_count": 104
        }
      ]
    },
    {
      "cell_type": "code",
      "metadata": {
        "id": "yaWw_O7mfOSu"
      },
      "source": [
        "c1 = np.array([10,20,30,40,50,60])\n",
        "c2 = np.array([12,20,33,40,55,60])"
      ],
      "execution_count": 105,
      "outputs": []
    },
    {
      "cell_type": "code",
      "metadata": {
        "id": "LQl_77QqfSbv",
        "outputId": "5b75d6d7-59d5-4e99-d884-75f73ff9715f",
        "colab": {
          "base_uri": "https://localhost:8080/",
          "height": 34
        }
      },
      "source": [
        "np.intersect1d(c1,c2)"
      ],
      "execution_count": 106,
      "outputs": [
        {
          "output_type": "execute_result",
          "data": {
            "text/plain": [
              "array([20, 40, 60])"
            ]
          },
          "metadata": {
            "tags": []
          },
          "execution_count": 106
        }
      ]
    },
    {
      "cell_type": "code",
      "metadata": {
        "id": "d2Tc2rPZfUNR",
        "outputId": "87dd7edb-8622-44a6-a533-ba70626b43b6",
        "colab": {
          "base_uri": "https://localhost:8080/",
          "height": 34
        }
      },
      "source": [
        "# Remove common elements of C1 & C2 array from C1\n",
        "\n",
        "np.setdiff1d(c1,c2)"
      ],
      "execution_count": 107,
      "outputs": [
        {
          "output_type": "execute_result",
          "data": {
            "text/plain": [
              "array([10, 30, 50])"
            ]
          },
          "metadata": {
            "tags": []
          },
          "execution_count": 107
        }
      ]
    },
    {
      "cell_type": "code",
      "metadata": {
        "id": "Wz2745i_fXp1",
        "outputId": "986f9ae1-f068-411d-fb65-0a67360842ce",
        "colab": {
          "base_uri": "https://localhost:8080/",
          "height": 34
        }
      },
      "source": [
        "a = np.array([1,2,3,6,8])\n",
        "b = np.array([10,2,30,60,8])\n",
        "\n",
        "np.where(a == b) # returns the indices of elements in an input array where the given condition is satisfied."
      ],
      "execution_count": 108,
      "outputs": [
        {
          "output_type": "execute_result",
          "data": {
            "text/plain": [
              "(array([1, 4]),)"
            ]
          },
          "metadata": {
            "tags": []
          },
          "execution_count": 108
        }
      ]
    },
    {
      "cell_type": "code",
      "metadata": {
        "id": "5pPL5jNrfap6",
        "outputId": "8410edb4-5ed6-4b52-e1e4-9427fb516043",
        "colab": {
          "base_uri": "https://localhost:8080/",
          "height": 34
        }
      },
      "source": [
        "# Return an array where condition is satisfied\n",
        "a[np.where(a == b)]"
      ],
      "execution_count": 109,
      "outputs": [
        {
          "output_type": "execute_result",
          "data": {
            "text/plain": [
              "array([2, 8])"
            ]
          },
          "metadata": {
            "tags": []
          },
          "execution_count": 109
        }
      ]
    },
    {
      "cell_type": "code",
      "metadata": {
        "id": "XZX75Nx1fdSC",
        "outputId": "14635042-294b-4df3-e647-0bc492e913f9",
        "colab": {
          "base_uri": "https://localhost:8080/",
          "height": 34
        }
      },
      "source": [
        "# Return all numbers betweeen 20 & 35\n",
        "a1 = np.arange(0,60)\n",
        "a1[np.where ((a1>20) & (a1<35))]"
      ],
      "execution_count": 110,
      "outputs": [
        {
          "output_type": "execute_result",
          "data": {
            "text/plain": [
              "array([21, 22, 23, 24, 25, 26, 27, 28, 29, 30, 31, 32, 33, 34])"
            ]
          },
          "metadata": {
            "tags": []
          },
          "execution_count": 110
        }
      ]
    },
    {
      "cell_type": "code",
      "metadata": {
        "id": "0-P2PxcCfgHV",
        "outputId": "ee62c555-484f-4943-cb80-1cc06b4f3f1b",
        "colab": {
          "base_uri": "https://localhost:8080/",
          "height": 51
        }
      },
      "source": [
        "# Return all numbers betweeen 20 & 35 OR numbers divisible by 10\n",
        "a1=np.arange(0,60)\n",
        "a1[np.where(((a1>20) & (a1<35)) | (a1 % 10 == 0))]"
      ],
      "execution_count": 113,
      "outputs": [
        {
          "output_type": "execute_result",
          "data": {
            "text/plain": [
              "array([ 0, 10, 20, 21, 22, 23, 24, 25, 26, 27, 28, 29, 30, 31, 32, 33, 34,\n",
              "       40, 50])"
            ]
          },
          "metadata": {
            "tags": []
          },
          "execution_count": 113
        }
      ]
    },
    {
      "cell_type": "code",
      "metadata": {
        "id": "WGcusQbdWPwr",
        "outputId": "0f258e31-2b5c-4290-903f-ee251571a744",
        "colab": {
          "base_uri": "https://localhost:8080/",
          "height": 34
        }
      },
      "source": [
        "# Return all numbers betweeen 20 & 35 using np.logical_and\n",
        "a1[np.where(np.logical_and(a1>20, a1<35))]"
      ],
      "execution_count": 114,
      "outputs": [
        {
          "output_type": "execute_result",
          "data": {
            "text/plain": [
              "array([21, 22, 23, 24, 25, 26, 27, 28, 29, 30, 31, 32, 33, 34])"
            ]
          },
          "metadata": {
            "tags": []
          },
          "execution_count": 114
        }
      ]
    },
    {
      "cell_type": "code",
      "metadata": {
        "id": "4vQCoEqpgSuM",
        "outputId": "3c4cc61c-34bc-40fb-efda-d14f9c942371",
        "colab": {
          "base_uri": "https://localhost:8080/",
          "height": 34
        }
      },
      "source": [
        "a = np.array([10,20,30,40,50,60,70])\n",
        "a"
      ],
      "execution_count": 115,
      "outputs": [
        {
          "output_type": "execute_result",
          "data": {
            "text/plain": [
              "array([10, 20, 30, 40, 50, 60, 70])"
            ]
          },
          "metadata": {
            "tags": []
          },
          "execution_count": 115
        }
      ]
    },
    {
      "cell_type": "code",
      "metadata": {
        "id": "ihcjkO6ngU2L",
        "outputId": "adb2a6b6-2a3b-4456-e4d0-1f42a540948a",
        "colab": {
          "base_uri": "https://localhost:8080/",
          "height": 34
        }
      },
      "source": [
        "# Check whether number 11 & 20 are present in an array\n",
        "np.isin(a, [11,20])"
      ],
      "execution_count": 116,
      "outputs": [
        {
          "output_type": "execute_result",
          "data": {
            "text/plain": [
              "array([False,  True, False, False, False, False, False])"
            ]
          },
          "metadata": {
            "tags": []
          },
          "execution_count": 116
        }
      ]
    },
    {
      "cell_type": "code",
      "metadata": {
        "id": "V7wFu4SigYMx",
        "outputId": "28fdfe07-a81d-4133-d0ad-79f12e9f0a97",
        "colab": {
          "base_uri": "https://localhost:8080/",
          "height": 34
        }
      },
      "source": [
        "#Display the matching numbers\n",
        "a[np.isin(a,20)]"
      ],
      "execution_count": 117,
      "outputs": [
        {
          "output_type": "execute_result",
          "data": {
            "text/plain": [
              "array([20])"
            ]
          },
          "metadata": {
            "tags": []
          },
          "execution_count": 117
        }
      ]
    },
    {
      "cell_type": "code",
      "metadata": {
        "id": "ebtA3jKXgagH",
        "outputId": "23fd60d8-16c1-4f52-c31d-47663326aa14",
        "colab": {
          "base_uri": "https://localhost:8080/",
          "height": 34
        }
      },
      "source": [
        "# Check whether number 33 is present in an array\n",
        "np.isin(a, 33)"
      ],
      "execution_count": 118,
      "outputs": [
        {
          "output_type": "execute_result",
          "data": {
            "text/plain": [
              "array([False, False, False, False, False, False, False])"
            ]
          },
          "metadata": {
            "tags": []
          },
          "execution_count": 118
        }
      ]
    },
    {
      "cell_type": "code",
      "metadata": {
        "id": "dsQBJkh-gcc5",
        "outputId": "6dc98a07-f751-4136-d9d9-542eaa448286",
        "colab": {
          "base_uri": "https://localhost:8080/",
          "height": 34
        }
      },
      "source": [
        "a[np.isin(a, 33)]"
      ],
      "execution_count": 119,
      "outputs": [
        {
          "output_type": "execute_result",
          "data": {
            "text/plain": [
              "array([], dtype=int64)"
            ]
          },
          "metadata": {
            "tags": []
          },
          "execution_count": 119
        }
      ]
    },
    {
      "cell_type": "code",
      "metadata": {
        "id": "EX6nROyAgeIW",
        "outputId": "5452a77b-2781-4f77-b64e-0b144d049bd5",
        "colab": {
          "base_uri": "https://localhost:8080/",
          "height": 34
        }
      },
      "source": [
        "b = np.array([10,20,30,40,10,10,70,80,70,90])\n",
        "b"
      ],
      "execution_count": 120,
      "outputs": [
        {
          "output_type": "execute_result",
          "data": {
            "text/plain": [
              "array([10, 20, 30, 40, 10, 10, 70, 80, 70, 90])"
            ]
          },
          "metadata": {
            "tags": []
          },
          "execution_count": 120
        }
      ]
    },
    {
      "cell_type": "code",
      "metadata": {
        "id": "_HJazsMrggoG",
        "outputId": "bde0da64-4f3e-4f4f-9530-8f2b99557293",
        "colab": {
          "base_uri": "https://localhost:8080/",
          "height": 51
        }
      },
      "source": [
        "# Check whether number 10 & 70 are present in an array\n",
        "np.isin(b, [10,70])"
      ],
      "execution_count": 121,
      "outputs": [
        {
          "output_type": "execute_result",
          "data": {
            "text/plain": [
              "array([ True, False, False, False,  True,  True,  True, False,  True,\n",
              "       False])"
            ]
          },
          "metadata": {
            "tags": []
          },
          "execution_count": 121
        }
      ]
    },
    {
      "cell_type": "code",
      "metadata": {
        "id": "0Mu_gBBcgkEX",
        "outputId": "21853a12-32a6-4f28-c346-ae7e1463abd0",
        "colab": {
          "base_uri": "https://localhost:8080/",
          "height": 34
        }
      },
      "source": [
        "# Display the indices where match occurred\n",
        "np.where(np.isin(b, [10,70]))"
      ],
      "execution_count": 122,
      "outputs": [
        {
          "output_type": "execute_result",
          "data": {
            "text/plain": [
              "(array([0, 4, 5, 6, 8]),)"
            ]
          },
          "metadata": {
            "tags": []
          },
          "execution_count": 122
        }
      ]
    },
    {
      "cell_type": "code",
      "metadata": {
        "id": "v3q3SV8ogm0V",
        "outputId": "9259bff3-c544-4d64-ddfd-f18112e9a56a",
        "colab": {
          "base_uri": "https://localhost:8080/",
          "height": 34
        }
      },
      "source": [
        "# Display the matching values\n",
        "b[np.where(np.isin(b, [10,70]))]"
      ],
      "execution_count": 123,
      "outputs": [
        {
          "output_type": "execute_result",
          "data": {
            "text/plain": [
              "array([10, 10, 10, 70, 70])"
            ]
          },
          "metadata": {
            "tags": []
          },
          "execution_count": 123
        }
      ]
    },
    {
      "cell_type": "code",
      "metadata": {
        "id": "d5Aof2u4gqhZ",
        "outputId": "866d7c89-57f3-4bc6-b9ba-1ad7a13aae6e",
        "colab": {
          "base_uri": "https://localhost:8080/",
          "height": 34
        }
      },
      "source": [
        "# Display the matching values\n",
        "b[np.isin(b, [10,70])]"
      ],
      "execution_count": 124,
      "outputs": [
        {
          "output_type": "execute_result",
          "data": {
            "text/plain": [
              "array([10, 10, 10, 70, 70])"
            ]
          },
          "metadata": {
            "tags": []
          },
          "execution_count": 124
        }
      ]
    },
    {
      "cell_type": "code",
      "metadata": {
        "id": "7oLuOgbAgtmS"
      },
      "source": [
        "a4 = np.arange(10,30)"
      ],
      "execution_count": 125,
      "outputs": []
    },
    {
      "cell_type": "code",
      "metadata": {
        "id": "ggiOUqyogwTk",
        "outputId": "83db0335-02b9-4424-8d88-ab1a3bd2b6c6",
        "colab": {
          "base_uri": "https://localhost:8080/",
          "height": 51
        }
      },
      "source": [
        "a4"
      ],
      "execution_count": 126,
      "outputs": [
        {
          "output_type": "execute_result",
          "data": {
            "text/plain": [
              "array([10, 11, 12, 13, 14, 15, 16, 17, 18, 19, 20, 21, 22, 23, 24, 25, 26,\n",
              "       27, 28, 29])"
            ]
          },
          "metadata": {
            "tags": []
          },
          "execution_count": 126
        }
      ]
    },
    {
      "cell_type": "code",
      "metadata": {
        "id": "OtQItp2lgwqb",
        "outputId": "9eb1278c-e000-4dbb-f7e4-72d7aa144348",
        "colab": {
          "base_uri": "https://localhost:8080/",
          "height": 51
        }
      },
      "source": [
        "# Reverse the array\n",
        "a4[::-1]"
      ],
      "execution_count": 127,
      "outputs": [
        {
          "output_type": "execute_result",
          "data": {
            "text/plain": [
              "array([29, 28, 27, 26, 25, 24, 23, 22, 21, 20, 19, 18, 17, 16, 15, 14, 13,\n",
              "       12, 11, 10])"
            ]
          },
          "metadata": {
            "tags": []
          },
          "execution_count": 127
        }
      ]
    },
    {
      "cell_type": "code",
      "metadata": {
        "id": "pwkqtOkigys_",
        "outputId": "94723a00-0bdc-46b2-acb2-28a3fc42a50e",
        "colab": {
          "base_uri": "https://localhost:8080/",
          "height": 51
        }
      },
      "source": [
        "# Reverse the array\n",
        "np.flip(a4)"
      ],
      "execution_count": 128,
      "outputs": [
        {
          "output_type": "execute_result",
          "data": {
            "text/plain": [
              "array([29, 28, 27, 26, 25, 24, 23, 22, 21, 20, 19, 18, 17, 16, 15, 14, 13,\n",
              "       12, 11, 10])"
            ]
          },
          "metadata": {
            "tags": []
          },
          "execution_count": 128
        }
      ]
    },
    {
      "cell_type": "code",
      "metadata": {
        "id": "6TEIznMOg0dm",
        "outputId": "64198bd4-9211-49c1-ff54-d45da0d0084a",
        "colab": {
          "base_uri": "https://localhost:8080/",
          "height": 85
        }
      },
      "source": [
        "a3 = np.array([[3,2,8,1] , [70,50,10,67] , [45,25,75,15] , [12,9,77,4]])\n",
        "a3"
      ],
      "execution_count": 129,
      "outputs": [
        {
          "output_type": "execute_result",
          "data": {
            "text/plain": [
              "array([[ 3,  2,  8,  1],\n",
              "       [70, 50, 10, 67],\n",
              "       [45, 25, 75, 15],\n",
              "       [12,  9, 77,  4]])"
            ]
          },
          "metadata": {
            "tags": []
          },
          "execution_count": 129
        }
      ]
    },
    {
      "cell_type": "code",
      "metadata": {
        "id": "DdUkq_Zeg2lQ",
        "outputId": "f3fd8629-0064-48e8-adfb-b52ef7ba20f1",
        "colab": {
          "base_uri": "https://localhost:8080/",
          "height": 85
        }
      },
      "source": [
        "# Reverse ROW positions\n",
        "a3[::-1,]"
      ],
      "execution_count": 130,
      "outputs": [
        {
          "output_type": "execute_result",
          "data": {
            "text/plain": [
              "array([[12,  9, 77,  4],\n",
              "       [45, 25, 75, 15],\n",
              "       [70, 50, 10, 67],\n",
              "       [ 3,  2,  8,  1]])"
            ]
          },
          "metadata": {
            "tags": []
          },
          "execution_count": 130
        }
      ]
    },
    {
      "cell_type": "code",
      "metadata": {
        "id": "k-uTjEOIg5MG",
        "outputId": "65fa956d-8221-4055-dea1-385174982954",
        "colab": {
          "base_uri": "https://localhost:8080/",
          "height": 85
        }
      },
      "source": [
        "# Reverse COLUMN positions\n",
        "a3[:,::-1]"
      ],
      "execution_count": 131,
      "outputs": [
        {
          "output_type": "execute_result",
          "data": {
            "text/plain": [
              "array([[ 1,  8,  2,  3],\n",
              "       [67, 10, 50, 70],\n",
              "       [15, 75, 25, 45],\n",
              "       [ 4, 77,  9, 12]])"
            ]
          },
          "metadata": {
            "tags": []
          },
          "execution_count": 131
        }
      ]
    },
    {
      "cell_type": "code",
      "metadata": {
        "id": "tIbGORSdg_Uv",
        "outputId": "435c39c7-137a-4461-ddc5-0177b2330d32",
        "colab": {
          "base_uri": "https://localhost:8080/",
          "height": 85
        }
      },
      "source": [
        "# Reverse both ROW & COLUMN positions\n",
        "a3[::-1,::-1]"
      ],
      "execution_count": 132,
      "outputs": [
        {
          "output_type": "execute_result",
          "data": {
            "text/plain": [
              "array([[ 4, 77,  9, 12],\n",
              "       [15, 75, 25, 45],\n",
              "       [67, 10, 50, 70],\n",
              "       [ 1,  8,  2,  3]])"
            ]
          },
          "metadata": {
            "tags": []
          },
          "execution_count": 132
        }
      ]
    },
    {
      "cell_type": "code",
      "metadata": {
        "id": "OvZ0dnR_hCCr"
      },
      "source": [
        "a = np.array([10,5,2,22,12,92,17,33])"
      ],
      "execution_count": 133,
      "outputs": []
    },
    {
      "cell_type": "code",
      "metadata": {
        "id": "FES-bi2GhE6F",
        "outputId": "fecc094f-9bfd-4e41-956a-15dc936dbab4",
        "colab": {
          "base_uri": "https://localhost:8080/",
          "height": 34
        }
      },
      "source": [
        "# Sort array in ascending order\n",
        "np.sort(a)"
      ],
      "execution_count": 134,
      "outputs": [
        {
          "output_type": "execute_result",
          "data": {
            "text/plain": [
              "array([ 2,  5, 10, 12, 17, 22, 33, 92])"
            ]
          },
          "metadata": {
            "tags": []
          },
          "execution_count": 134
        }
      ]
    },
    {
      "cell_type": "code",
      "metadata": {
        "id": "j8l65UFfhGzj",
        "outputId": "074b1ecc-ec17-4c15-ad8d-f0e8596ceeee",
        "colab": {
          "base_uri": "https://localhost:8080/",
          "height": 68
        }
      },
      "source": [
        "a3 = np.array([[3,2,8,1] , [70,50,10,67] , [45,25,75,15]])\n",
        "a3"
      ],
      "execution_count": 135,
      "outputs": [
        {
          "output_type": "execute_result",
          "data": {
            "text/plain": [
              "array([[ 3,  2,  8,  1],\n",
              "       [70, 50, 10, 67],\n",
              "       [45, 25, 75, 15]])"
            ]
          },
          "metadata": {
            "tags": []
          },
          "execution_count": 135
        }
      ]
    },
    {
      "cell_type": "code",
      "metadata": {
        "id": "dkPfDs61hIpi",
        "outputId": "ed6c4656-d42f-487c-ecff-c29bd6adbc56",
        "colab": {
          "base_uri": "https://localhost:8080/",
          "height": 68
        }
      },
      "source": [
        "# Sort along rows\n",
        "np.sort(a3)"
      ],
      "execution_count": 136,
      "outputs": [
        {
          "output_type": "execute_result",
          "data": {
            "text/plain": [
              "array([[ 1,  2,  3,  8],\n",
              "       [10, 50, 67, 70],\n",
              "       [15, 25, 45, 75]])"
            ]
          },
          "metadata": {
            "tags": []
          },
          "execution_count": 136
        }
      ]
    },
    {
      "cell_type": "code",
      "metadata": {
        "id": "4N1AWzmBhKa_",
        "outputId": "13c240b8-711f-42fb-df15-dbda78bd3a97",
        "colab": {
          "base_uri": "https://localhost:8080/",
          "height": 68
        }
      },
      "source": [
        "# Sort along rows\n",
        "np.sort(a3,axis =1)"
      ],
      "execution_count": 137,
      "outputs": [
        {
          "output_type": "execute_result",
          "data": {
            "text/plain": [
              "array([[ 1,  2,  3,  8],\n",
              "       [10, 50, 67, 70],\n",
              "       [15, 25, 45, 75]])"
            ]
          },
          "metadata": {
            "tags": []
          },
          "execution_count": 137
        }
      ]
    },
    {
      "cell_type": "code",
      "metadata": {
        "id": "AXMwGaENhMaF",
        "outputId": "6dd2c8f5-09e2-423e-d819-ceb2ab6a383f",
        "colab": {
          "base_uri": "https://localhost:8080/",
          "height": 68
        }
      },
      "source": [
        "# Sort along columns\n",
        "np.sort(a3,axis =0)"
      ],
      "execution_count": 138,
      "outputs": [
        {
          "output_type": "execute_result",
          "data": {
            "text/plain": [
              "array([[ 3,  2,  8,  1],\n",
              "       [45, 25, 10, 15],\n",
              "       [70, 50, 75, 67]])"
            ]
          },
          "metadata": {
            "tags": []
          },
          "execution_count": 138
        }
      ]
    },
    {
      "cell_type": "code",
      "metadata": {
        "id": "87Rhyl-rhSGw",
        "outputId": "752f2b98-ec63-4ee5-b0e5-d91cadd4d424",
        "colab": {
          "base_uri": "https://localhost:8080/",
          "height": 34
        }
      },
      "source": [
        "# Sort in descending order\n",
        "b = np.sort(a)\n",
        "b = b[::-1]\n",
        "b"
      ],
      "execution_count": 139,
      "outputs": [
        {
          "output_type": "execute_result",
          "data": {
            "text/plain": [
              "array([92, 33, 22, 17, 12, 10,  5,  2])"
            ]
          },
          "metadata": {
            "tags": []
          },
          "execution_count": 139
        }
      ]
    },
    {
      "cell_type": "code",
      "metadata": {
        "id": "z62jWMXHhV8L",
        "outputId": "2c89e5c6-a76f-4c5c-96b5-fce6ac774075",
        "colab": {
          "base_uri": "https://localhost:8080/",
          "height": 34
        }
      },
      "source": [
        "# Sort in descending order\n",
        "c = np.sort(a)\n",
        "np.flip(c)"
      ],
      "execution_count": 140,
      "outputs": [
        {
          "output_type": "execute_result",
          "data": {
            "text/plain": [
              "array([92, 33, 22, 17, 12, 10,  5,  2])"
            ]
          },
          "metadata": {
            "tags": []
          },
          "execution_count": 140
        }
      ]
    },
    {
      "cell_type": "code",
      "metadata": {
        "id": "ZFkch9iqhYj7",
        "outputId": "c65ffaac-1d5f-4296-e1d6-4aa7b756227f",
        "colab": {
          "base_uri": "https://localhost:8080/",
          "height": 34
        }
      },
      "source": [
        "# Sort in descending order\n",
        "a[::-1].sort()\n",
        "a"
      ],
      "execution_count": 141,
      "outputs": [
        {
          "output_type": "execute_result",
          "data": {
            "text/plain": [
              "array([92, 33, 22, 17, 12, 10,  5,  2])"
            ]
          },
          "metadata": {
            "tags": []
          },
          "execution_count": 141
        }
      ]
    },
    {
      "cell_type": "code",
      "metadata": {
        "id": "_5iIk969ha7r",
        "outputId": "8a159b19-c36c-421e-cc0f-daa6e5e33c53",
        "colab": {
          "base_uri": "https://localhost:8080/",
          "height": 68
        }
      },
      "source": [
        "p = np.arange(0,50)\n",
        "p"
      ],
      "execution_count": 142,
      "outputs": [
        {
          "output_type": "execute_result",
          "data": {
            "text/plain": [
              "array([ 0,  1,  2,  3,  4,  5,  6,  7,  8,  9, 10, 11, 12, 13, 14, 15, 16,\n",
              "       17, 18, 19, 20, 21, 22, 23, 24, 25, 26, 27, 28, 29, 30, 31, 32, 33,\n",
              "       34, 35, 36, 37, 38, 39, 40, 41, 42, 43, 44, 45, 46, 47, 48, 49])"
            ]
          },
          "metadata": {
            "tags": []
          },
          "execution_count": 142
        }
      ]
    },
    {
      "cell_type": "code",
      "metadata": {
        "id": "NW0zPuy_hd_y",
        "outputId": "0cba8f92-42a1-478c-e9ab-9c4184f9985b",
        "colab": {
          "base_uri": "https://localhost:8080/",
          "height": 68
        }
      },
      "source": [
        "np.random.shuffle(p)\n",
        "p"
      ],
      "execution_count": 143,
      "outputs": [
        {
          "output_type": "execute_result",
          "data": {
            "text/plain": [
              "array([27, 26, 35, 41, 45, 43,  6,  4, 34, 16,  3,  1, 31, 25, 48, 40, 21,\n",
              "        2, 13, 47,  5, 37, 14, 23, 32, 22,  8, 20, 44, 28, 36, 10, 30, 19,\n",
              "       24, 29, 33, 42, 11, 17, 12,  0, 15, 49,  7, 18,  9, 46, 38, 39])"
            ]
          },
          "metadata": {
            "tags": []
          },
          "execution_count": 143
        }
      ]
    },
    {
      "cell_type": "code",
      "metadata": {
        "id": "Htv1tKH1hmSB",
        "outputId": "0901803a-dfbe-4567-94c6-36b0769aa002",
        "colab": {
          "base_uri": "https://localhost:8080/",
          "height": 68
        }
      },
      "source": [
        "np.random.shuffle(p)\n",
        "p"
      ],
      "execution_count": 145,
      "outputs": [
        {
          "output_type": "execute_result",
          "data": {
            "text/plain": [
              "array([19, 36,  3, 44, 38, 35, 47, 16, 27, 31, 34, 21, 10, 22, 26, 12, 48,\n",
              "        0, 39, 33,  7, 46, 43, 20,  5, 18, 49,  1, 15,  2, 30,  8, 37, 14,\n",
              "       28, 11, 25, 13, 41, 24, 40, 29, 23, 45,  9,  4, 42, 17, 32,  6])"
            ]
          },
          "metadata": {
            "tags": []
          },
          "execution_count": 145
        }
      ]
    },
    {
      "cell_type": "code",
      "metadata": {
        "id": "O1SI_N7ThgDv",
        "outputId": "7ecc9009-3ce2-481b-c74f-b6e9eeec1311",
        "colab": {
          "base_uri": "https://localhost:8080/",
          "height": 34
        }
      },
      "source": [
        "# Return \"n\" largest numbers in an Array\n",
        "n = 4\n",
        "p[np.argsort(p)[-n:]]"
      ],
      "execution_count": 147,
      "outputs": [
        {
          "output_type": "execute_result",
          "data": {
            "text/plain": [
              "array([46, 47, 48, 49])"
            ]
          },
          "metadata": {
            "tags": []
          },
          "execution_count": 147
        }
      ]
    },
    {
      "cell_type": "code",
      "metadata": {
        "id": "H3KQm-81hiGi",
        "outputId": "852e7774-751b-48ed-c97f-d27c45e7c2b8",
        "colab": {
          "base_uri": "https://localhost:8080/",
          "height": 34
        }
      },
      "source": [
        "# Return \"n\" largest numbers in an Array\n",
        "p[np.argpartition(-p,n)[:n]]"
      ],
      "execution_count": 148,
      "outputs": [
        {
          "output_type": "execute_result",
          "data": {
            "text/plain": [
              "array([47, 46, 49, 48])"
            ]
          },
          "metadata": {
            "tags": []
          },
          "execution_count": 148
        }
      ]
    },
    {
      "cell_type": "code",
      "metadata": {
        "id": "jNCnJI5fhu1R",
        "outputId": "125b2ed8-504d-4e15-fdbd-d925c468bef9",
        "colab": {
          "base_uri": "https://localhost:8080/",
          "height": 34
        }
      },
      "source": [
        "# Return \"n\" smallest numbers in an Array\n",
        "p[np.argsort(-p)[-n:]]"
      ],
      "execution_count": 149,
      "outputs": [
        {
          "output_type": "execute_result",
          "data": {
            "text/plain": [
              "array([3, 2, 1, 0])"
            ]
          },
          "metadata": {
            "tags": []
          },
          "execution_count": 149
        }
      ]
    },
    {
      "cell_type": "code",
      "metadata": {
        "id": "5Hz4aq4xh187",
        "outputId": "2f4be7d7-2487-4bc4-c44a-32cd3b1ac223",
        "colab": {
          "base_uri": "https://localhost:8080/",
          "height": 34
        }
      },
      "source": [
        "# Return \"n\" smallest numbers in an Array\n",
        "p[np.argpartition(p,n)[:n]]"
      ],
      "execution_count": 150,
      "outputs": [
        {
          "output_type": "execute_result",
          "data": {
            "text/plain": [
              "array([0, 1, 2, 3])"
            ]
          },
          "metadata": {
            "tags": []
          },
          "execution_count": 150
        }
      ]
    },
    {
      "cell_type": "code",
      "metadata": {
        "id": "rl7BjfY3h4Uq",
        "outputId": "fbb12803-5dd1-4097-bc6f-83de33d18af6",
        "colab": {
          "base_uri": "https://localhost:8080/",
          "height": 34
        }
      },
      "source": [
        "a5 = [10,20,30] \n",
        "a5"
      ],
      "execution_count": 151,
      "outputs": [
        {
          "output_type": "execute_result",
          "data": {
            "text/plain": [
              "[10, 20, 30]"
            ]
          },
          "metadata": {
            "tags": []
          },
          "execution_count": 151
        }
      ]
    },
    {
      "cell_type": "code",
      "metadata": {
        "id": "C7bjfrYFh7cj",
        "outputId": "7ec8437f-a134-4609-e6a1-179b4a272ed5",
        "colab": {
          "base_uri": "https://localhost:8080/",
          "height": 34
        }
      },
      "source": [
        "# Repeat whole array twice\n",
        "np.tile(a5, 2)"
      ],
      "execution_count": 152,
      "outputs": [
        {
          "output_type": "execute_result",
          "data": {
            "text/plain": [
              "array([10, 20, 30, 10, 20, 30])"
            ]
          },
          "metadata": {
            "tags": []
          },
          "execution_count": 152
        }
      ]
    },
    {
      "cell_type": "code",
      "metadata": {
        "id": "Dqul0Q6Ph9Ux",
        "outputId": "bd1494af-1a1c-43f8-8090-c4a2d0cc9725",
        "colab": {
          "base_uri": "https://localhost:8080/",
          "height": 34
        }
      },
      "source": [
        "# Repeat each element in an array thrice\n",
        "np.repeat(a5, 3)"
      ],
      "execution_count": 153,
      "outputs": [
        {
          "output_type": "execute_result",
          "data": {
            "text/plain": [
              "array([10, 10, 10, 20, 20, 20, 30, 30, 30])"
            ]
          },
          "metadata": {
            "tags": []
          },
          "execution_count": 153
        }
      ]
    },
    {
      "cell_type": "code",
      "metadata": {
        "id": "Q0Kxq3ezh_KP",
        "outputId": "3ec8e753-2499-4ee0-ec96-5c8f44cdb1b0",
        "colab": {
          "base_uri": "https://localhost:8080/",
          "height": 34
        }
      },
      "source": [
        "d1 = np.arange(0,10)\n",
        "d1"
      ],
      "execution_count": 154,
      "outputs": [
        {
          "output_type": "execute_result",
          "data": {
            "text/plain": [
              "array([0, 1, 2, 3, 4, 5, 6, 7, 8, 9])"
            ]
          },
          "metadata": {
            "tags": []
          },
          "execution_count": 154
        }
      ]
    },
    {
      "cell_type": "code",
      "metadata": {
        "id": "nLUuPsToiB0v",
        "outputId": "0890b868-14e5-4d51-ebb9-2a9d000a25f5",
        "colab": {
          "base_uri": "https://localhost:8080/",
          "height": 34
        }
      },
      "source": [
        "d2 = np.arange(0,10)\n",
        "d2"
      ],
      "execution_count": 155,
      "outputs": [
        {
          "output_type": "execute_result",
          "data": {
            "text/plain": [
              "array([0, 1, 2, 3, 4, 5, 6, 7, 8, 9])"
            ]
          },
          "metadata": {
            "tags": []
          },
          "execution_count": 155
        }
      ]
    },
    {
      "cell_type": "code",
      "metadata": {
        "id": "JOco0V2hiDn3",
        "outputId": "4e525f04-d36f-4561-f47e-cc89e42780d6",
        "colab": {
          "base_uri": "https://localhost:8080/",
          "height": 34
        }
      },
      "source": [
        "d3 = np.arange(10,20)\n",
        "d3"
      ],
      "execution_count": 156,
      "outputs": [
        {
          "output_type": "execute_result",
          "data": {
            "text/plain": [
              "array([10, 11, 12, 13, 14, 15, 16, 17, 18, 19])"
            ]
          },
          "metadata": {
            "tags": []
          },
          "execution_count": 156
        }
      ]
    },
    {
      "cell_type": "code",
      "metadata": {
        "id": "fBbDchcYiGNt",
        "outputId": "d9639154-7dac-409f-e245-36f119157c35",
        "colab": {
          "base_uri": "https://localhost:8080/",
          "height": 34
        }
      },
      "source": [
        "d4 = d1[::-1]\n",
        "d4"
      ],
      "execution_count": 157,
      "outputs": [
        {
          "output_type": "execute_result",
          "data": {
            "text/plain": [
              "array([9, 8, 7, 6, 5, 4, 3, 2, 1, 0])"
            ]
          },
          "metadata": {
            "tags": []
          },
          "execution_count": 157
        }
      ]
    },
    {
      "cell_type": "code",
      "metadata": {
        "id": "yq2OEccGiJMj",
        "outputId": "8e7fdf15-0fca-47e9-a381-b740633a0336",
        "colab": {
          "base_uri": "https://localhost:8080/",
          "height": 34
        }
      },
      "source": [
        "# Compare arrays using \"allclose\" function. If this function returns True then Arrays are equal\n",
        "res1 = np.allclose(d1,d2)\n",
        "res1"
      ],
      "execution_count": 158,
      "outputs": [
        {
          "output_type": "execute_result",
          "data": {
            "text/plain": [
              "True"
            ]
          },
          "metadata": {
            "tags": []
          },
          "execution_count": 158
        }
      ]
    },
    {
      "cell_type": "code",
      "metadata": {
        "id": "Ie0k20HYiMFF",
        "outputId": "d07012ac-e375-4b27-db2f-9d3f1811df35",
        "colab": {
          "base_uri": "https://localhost:8080/",
          "height": 34
        }
      },
      "source": [
        "# Compare arrays using \"allclose\" function. If this function returns False then Arrays are not equal\n",
        "res2 = np.allclose(d1,d3)\n",
        "res2"
      ],
      "execution_count": 159,
      "outputs": [
        {
          "output_type": "execute_result",
          "data": {
            "text/plain": [
              "False"
            ]
          },
          "metadata": {
            "tags": []
          },
          "execution_count": 159
        }
      ]
    },
    {
      "cell_type": "code",
      "metadata": {
        "id": "fUdK9rGriOZO",
        "outputId": "6ba1d623-1f51-4f3e-919f-2b6a231f1598",
        "colab": {
          "base_uri": "https://localhost:8080/",
          "height": 34
        }
      },
      "source": [
        "# Compare arrays using \"allclose\" function.\n",
        "res3 = np.allclose(d1,d4)\n",
        "res3"
      ],
      "execution_count": 160,
      "outputs": [
        {
          "output_type": "execute_result",
          "data": {
            "text/plain": [
              "False"
            ]
          },
          "metadata": {
            "tags": []
          },
          "execution_count": 160
        }
      ]
    },
    {
      "cell_type": "code",
      "metadata": {
        "id": "v1YTeSnIiQoq",
        "outputId": "0830d6d5-b923-4c60-a2e1-40501b43b3be",
        "colab": {
          "base_uri": "https://localhost:8080/",
          "height": 34
        }
      },
      "source": [
        "# unique numbers in an array\n",
        "b = np.array([10,10,10,20,30,20,30,30,20,10,10,30,10])\n",
        "np.unique(b)"
      ],
      "execution_count": 161,
      "outputs": [
        {
          "output_type": "execute_result",
          "data": {
            "text/plain": [
              "array([10, 20, 30])"
            ]
          },
          "metadata": {
            "tags": []
          },
          "execution_count": 161
        }
      ]
    },
    {
      "cell_type": "code",
      "metadata": {
        "id": "GFRXypG9iXxJ",
        "outputId": "d8a36a77-f179-460d-b490-bdd0f3374dde",
        "colab": {
          "base_uri": "https://localhost:8080/",
          "height": 34
        }
      },
      "source": [
        "# unique numbers in an array along with the count E.g value 10 occurred maximum times (5 times) in an array \"b\"\n",
        "val , count = np.unique(b,return_counts=True)\n",
        "val,count"
      ],
      "execution_count": 162,
      "outputs": [
        {
          "output_type": "execute_result",
          "data": {
            "text/plain": [
              "(array([10, 20, 30]), array([6, 3, 4]))"
            ]
          },
          "metadata": {
            "tags": []
          },
          "execution_count": 162
        }
      ]
    },
    {
      "cell_type": "code",
      "metadata": {
        "id": "PexNVaoniZro",
        "outputId": "5fece4e2-bb4f-4594-f271-e51c2ae72077",
        "colab": {
          "base_uri": "https://localhost:8080/",
          "height": 34
        }
      },
      "source": [
        "# 10 is the most frequent value \n",
        "np.bincount(b).argmax()"
      ],
      "execution_count": 163,
      "outputs": [
        {
          "output_type": "execute_result",
          "data": {
            "text/plain": [
              "10"
            ]
          },
          "metadata": {
            "tags": []
          },
          "execution_count": 163
        }
      ]
    },
    {
      "cell_type": "code",
      "metadata": {
        "id": "2jbzEj_Pibv8",
        "outputId": "86dbfc2c-5d5f-4849-e5c5-06c3a9a73b31",
        "colab": {
          "base_uri": "https://localhost:8080/",
          "height": 34
        }
      },
      "source": [
        "d5 = np.arange(10,100,10)\n",
        "d5"
      ],
      "execution_count": 164,
      "outputs": [
        {
          "output_type": "execute_result",
          "data": {
            "text/plain": [
              "array([10, 20, 30, 40, 50, 60, 70, 80, 90])"
            ]
          },
          "metadata": {
            "tags": []
          },
          "execution_count": 164
        }
      ]
    },
    {
      "cell_type": "code",
      "metadata": {
        "id": "M7mkZNVoidv8"
      },
      "source": [
        "# Make arrays immutable  \n",
        "d5.flags.writeable = False"
      ],
      "execution_count": 165,
      "outputs": []
    },
    {
      "cell_type": "code",
      "metadata": {
        "id": "qpmAeZtEifuc",
        "outputId": "b04d89a2-54c6-4b0e-81a1-abb9c0fc10eb",
        "colab": {
          "base_uri": "https://localhost:8080/",
          "height": 163
        }
      },
      "source": [
        "d5[0]=99"
      ],
      "execution_count": 166,
      "outputs": [
        {
          "output_type": "error",
          "ename": "ValueError",
          "evalue": "ignored",
          "traceback": [
            "\u001b[0;31m---------------------------------------------------------------------------\u001b[0m",
            "\u001b[0;31mValueError\u001b[0m                                Traceback (most recent call last)",
            "\u001b[0;32m<ipython-input-166-ed3a8fc8d94c>\u001b[0m in \u001b[0;36m<module>\u001b[0;34m()\u001b[0m\n\u001b[0;32m----> 1\u001b[0;31m \u001b[0md5\u001b[0m\u001b[0;34m[\u001b[0m\u001b[0;36m0\u001b[0m\u001b[0;34m]\u001b[0m\u001b[0;34m=\u001b[0m\u001b[0;36m99\u001b[0m\u001b[0;34m\u001b[0m\u001b[0;34m\u001b[0m\u001b[0m\n\u001b[0m",
            "\u001b[0;31mValueError\u001b[0m: assignment destination is read-only"
          ]
        }
      ]
    },
    {
      "cell_type": "code",
      "metadata": {
        "id": "wrBwCvOPihSq",
        "outputId": "58a590db-325f-4b09-9433-4ba48a2b20bf",
        "colab": {
          "base_uri": "https://localhost:8080/",
          "height": 163
        }
      },
      "source": [
        "d5[2] = 11"
      ],
      "execution_count": 167,
      "outputs": [
        {
          "output_type": "error",
          "ename": "ValueError",
          "evalue": "ignored",
          "traceback": [
            "\u001b[0;31m---------------------------------------------------------------------------\u001b[0m",
            "\u001b[0;31mValueError\u001b[0m                                Traceback (most recent call last)",
            "\u001b[0;32m<ipython-input-167-a3b6c959d563>\u001b[0m in \u001b[0;36m<module>\u001b[0;34m()\u001b[0m\n\u001b[0;32m----> 1\u001b[0;31m \u001b[0md5\u001b[0m\u001b[0;34m[\u001b[0m\u001b[0;36m2\u001b[0m\u001b[0;34m]\u001b[0m \u001b[0;34m=\u001b[0m \u001b[0;36m11\u001b[0m\u001b[0;34m\u001b[0m\u001b[0;34m\u001b[0m\u001b[0m\n\u001b[0m",
            "\u001b[0;31mValueError\u001b[0m: assignment destination is read-only"
          ]
        }
      ]
    },
    {
      "cell_type": "code",
      "metadata": {
        "id": "36NmlhZ2ikCR",
        "outputId": "d7c580da-4b50-4bc9-e61d-86a647a4b26a",
        "colab": {
          "base_uri": "https://localhost:8080/",
          "height": 102
        }
      },
      "source": [
        "# Load data from a text file using loadtext\n",
        "p4 = np.loadtxt('sample.txt', \n",
        "                dtype = np.integer # Decides the datatype of resulting array\n",
        "               )\n",
        "p4"
      ],
      "execution_count": 168,
      "outputs": [
        {
          "output_type": "execute_result",
          "data": {
            "text/plain": [
              "array([[24, 29, 88],\n",
              "       [ 1,  0,  8],\n",
              "       [33,  7, 99],\n",
              "       [39, 11, 98],\n",
              "       [22, 76, 87]])"
            ]
          },
          "metadata": {
            "tags": []
          },
          "execution_count": 168
        }
      ]
    },
    {
      "cell_type": "code",
      "metadata": {
        "id": "K7lg6nW3kT9m",
        "outputId": "4e219fb5-6811-44f1-fa2a-882bc50c60b3",
        "colab": {
          "base_uri": "https://localhost:8080/",
          "height": 68
        }
      },
      "source": [
        "# Load data from a text file using genfromtxt\n",
        "p5 = np.genfromtxt('sample0.txt',dtype='str')\n",
        "p5"
      ],
      "execution_count": 169,
      "outputs": [
        {
          "output_type": "execute_result",
          "data": {
            "text/plain": [
              "array([['Asif', 'India', 'Cricket'],\n",
              "       ['John', 'USA', 'Hockey'],\n",
              "       ['Ramiro', 'Canada', 'Football']], dtype='<U8')"
            ]
          },
          "metadata": {
            "tags": []
          },
          "execution_count": 169
        }
      ]
    },
    {
      "cell_type": "code",
      "metadata": {
        "id": "wy2-6iP4kYyh",
        "outputId": "3c2a9abd-b84a-4c2b-bf21-548c7d846077",
        "colab": {
          "base_uri": "https://localhost:8080/",
          "height": 34
        }
      },
      "source": [
        "# Accessing specific rows\n",
        "p5[0]"
      ],
      "execution_count": 170,
      "outputs": [
        {
          "output_type": "execute_result",
          "data": {
            "text/plain": [
              "array(['Asif', 'India', 'Cricket'], dtype='<U8')"
            ]
          },
          "metadata": {
            "tags": []
          },
          "execution_count": 170
        }
      ]
    },
    {
      "cell_type": "code",
      "metadata": {
        "id": "Zm-iGIC9kcPR",
        "outputId": "1efb8b03-3fa0-4d6c-b744-1d285cb3ba69",
        "colab": {
          "base_uri": "https://localhost:8080/",
          "height": 102
        }
      },
      "source": [
        "p6 = np.genfromtxt('sample2.txt', \n",
        "                   delimiter=' ', \n",
        "                   dtype=None, \n",
        "                   names=('Name', 'ID', 'Age')\n",
        "                  )\n",
        "p6"
      ],
      "execution_count": 171,
      "outputs": [
        {
          "output_type": "execute_result",
          "data": {
            "text/plain": [
              "array([(b'Name', b'ID', b'Age'), (b'Asif', b'22', b'29'),\n",
              "       (b'John', b'45', b'33'), (b'Ramiro', b'55', b'67'),\n",
              "       (b'Michael', b'67', b'55'), (b'Klaus', b'44', b'32'),\n",
              "       (b'Sajad', b'23', b'53')],\n",
              "      dtype=[('Name', 'S7'), ('ID', 'S2'), ('Age', 'S3')])"
            ]
          },
          "metadata": {
            "tags": []
          },
          "execution_count": 171
        }
      ]
    },
    {
      "cell_type": "code",
      "metadata": {
        "id": "9u1TeqcekfD-",
        "outputId": "ebe4db3a-6abd-4bd6-bae5-c6998277a895",
        "colab": {
          "base_uri": "https://localhost:8080/",
          "height": 68
        }
      },
      "source": [
        "# Skip header using \"skiprows\" parameter\n",
        "p6 = np.loadtxt('sample2.txt', \n",
        "                   delimiter=' ', \n",
        "                   dtype=[('Name', str, 50), ('ID', np.integer), ('Age', np.integer)], \n",
        "                   skiprows=1\n",
        "                  )\n",
        "p6"
      ],
      "execution_count": 172,
      "outputs": [
        {
          "output_type": "execute_result",
          "data": {
            "text/plain": [
              "array([('Asif', 22, 29), ('John', 45, 33), ('Ramiro', 55, 67),\n",
              "       ('Michael', 67, 55), ('Klaus', 44, 32), ('Sajad', 23, 53)],\n",
              "      dtype=[('Name', '<U50'), ('ID', '<i8'), ('Age', '<i8')])"
            ]
          },
          "metadata": {
            "tags": []
          },
          "execution_count": 172
        }
      ]
    },
    {
      "cell_type": "code",
      "metadata": {
        "id": "H76_WxfBkjZn",
        "outputId": "229d52ed-6272-4e1b-ba75-e450431ba3a0",
        "colab": {
          "base_uri": "https://localhost:8080/",
          "height": 102
        }
      },
      "source": [
        "# Return only first & third column using \"usecols\" parameter\n",
        "np.loadtxt('sample.txt', delimiter =' ', usecols =(0, 2))"
      ],
      "execution_count": 173,
      "outputs": [
        {
          "output_type": "execute_result",
          "data": {
            "text/plain": [
              "array([[24., 88.],\n",
              "       [ 1.,  8.],\n",
              "       [33., 99.],\n",
              "       [39., 98.],\n",
              "       [22., 87.]])"
            ]
          },
          "metadata": {
            "tags": []
          },
          "execution_count": 173
        }
      ]
    },
    {
      "cell_type": "code",
      "metadata": {
        "id": "33U3wEtMkl0W",
        "outputId": "db12790d-9e47-4821-d478-72ddd9634cb1",
        "colab": {
          "base_uri": "https://localhost:8080/",
          "height": 51
        }
      },
      "source": [
        "# Return only three rows using \"max_rows\" parameter\n",
        "p6 = np.loadtxt('sample2.txt', \n",
        "                   delimiter=' ', \n",
        "                   dtype=[('Name', str, 50), ('ID', np.integer), ('Age', np.integer)], \n",
        "                   skiprows=1,\n",
        "                   max_rows = 3\n",
        "                  )\n",
        "p6"
      ],
      "execution_count": 174,
      "outputs": [
        {
          "output_type": "execute_result",
          "data": {
            "text/plain": [
              "array([('Asif', 22, 29), ('John', 45, 33), ('Ramiro', 55, 67)],\n",
              "      dtype=[('Name', '<U50'), ('ID', '<i8'), ('Age', '<i8')])"
            ]
          },
          "metadata": {
            "tags": []
          },
          "execution_count": 174
        }
      ]
    },
    {
      "cell_type": "code",
      "metadata": {
        "id": "b1AGvnmglpYD",
        "outputId": "14a95459-4230-4f4e-cfc5-2c35bdd368cc",
        "colab": {
          "base_uri": "https://localhost:8080/",
          "height": 68
        }
      },
      "source": [
        "# Skip header using \"skip_header\" parameter\n",
        "p6 = np.genfromtxt('sample2.txt', \n",
        "                   delimiter=' ', \n",
        "                   dtype=[('Name', str, 50), ('ID', np.integer), ('Age', np.float)], \n",
        "                   names=('Name', 'ID', 'Age'),\n",
        "                   skip_header=1\n",
        "                  )\n",
        "p6"
      ],
      "execution_count": 175,
      "outputs": [
        {
          "output_type": "execute_result",
          "data": {
            "text/plain": [
              "array([('Asif', 22, 29.), ('John', 45, 33.), ('Ramiro', 55, 67.),\n",
              "       ('Michael', 67, 55.), ('Klaus', 44, 32.), ('Sajad', 23, 53.)],\n",
              "      dtype=[('Name', '<U50'), ('ID', '<i8'), ('Age', '<f8')])"
            ]
          },
          "metadata": {
            "tags": []
          },
          "execution_count": 175
        }
      ]
    },
    {
      "cell_type": "code",
      "metadata": {
        "id": "yrS0D4Dyluv6",
        "outputId": "0e87023a-7940-4909-d7bd-a0dd804234a3",
        "colab": {
          "base_uri": "https://localhost:8080/",
          "height": 51
        }
      },
      "source": [
        "p7 = np.arange(10,200,11)\n",
        "p7"
      ],
      "execution_count": 176,
      "outputs": [
        {
          "output_type": "execute_result",
          "data": {
            "text/plain": [
              "array([ 10,  21,  32,  43,  54,  65,  76,  87,  98, 109, 120, 131, 142,\n",
              "       153, 164, 175, 186, 197])"
            ]
          },
          "metadata": {
            "tags": []
          },
          "execution_count": 176
        }
      ]
    },
    {
      "cell_type": "code",
      "metadata": {
        "id": "k23-EWJAl6Ij"
      },
      "source": [
        "np.savetxt('test3.csv', p7, delimiter=',')"
      ],
      "execution_count": 177,
      "outputs": []
    },
    {
      "cell_type": "code",
      "metadata": {
        "id": "QjOXkqAel8Mm",
        "outputId": "2c3091de-27e5-47ed-a4f3-283088b1f79e",
        "colab": {
          "base_uri": "https://localhost:8080/",
          "height": 204
        }
      },
      "source": [
        "p8 = np.arange(0,121).reshape(11,11)\n",
        "p8"
      ],
      "execution_count": 178,
      "outputs": [
        {
          "output_type": "execute_result",
          "data": {
            "text/plain": [
              "array([[  0,   1,   2,   3,   4,   5,   6,   7,   8,   9,  10],\n",
              "       [ 11,  12,  13,  14,  15,  16,  17,  18,  19,  20,  21],\n",
              "       [ 22,  23,  24,  25,  26,  27,  28,  29,  30,  31,  32],\n",
              "       [ 33,  34,  35,  36,  37,  38,  39,  40,  41,  42,  43],\n",
              "       [ 44,  45,  46,  47,  48,  49,  50,  51,  52,  53,  54],\n",
              "       [ 55,  56,  57,  58,  59,  60,  61,  62,  63,  64,  65],\n",
              "       [ 66,  67,  68,  69,  70,  71,  72,  73,  74,  75,  76],\n",
              "       [ 77,  78,  79,  80,  81,  82,  83,  84,  85,  86,  87],\n",
              "       [ 88,  89,  90,  91,  92,  93,  94,  95,  96,  97,  98],\n",
              "       [ 99, 100, 101, 102, 103, 104, 105, 106, 107, 108, 109],\n",
              "       [110, 111, 112, 113, 114, 115, 116, 117, 118, 119, 120]])"
            ]
          },
          "metadata": {
            "tags": []
          },
          "execution_count": 178
        }
      ]
    },
    {
      "cell_type": "code",
      "metadata": {
        "id": "4zVxYBCGmBYT"
      },
      "source": [
        "np.save('test4.npy', p8)"
      ],
      "execution_count": 179,
      "outputs": []
    },
    {
      "cell_type": "code",
      "metadata": {
        "id": "TnpuBbgqmDmC",
        "outputId": "6c254281-9380-4307-dc16-5e9dc178c23c",
        "colab": {
          "base_uri": "https://localhost:8080/",
          "height": 204
        }
      },
      "source": [
        "p9 = np.load('test4.npy')\n",
        "p9"
      ],
      "execution_count": 180,
      "outputs": [
        {
          "output_type": "execute_result",
          "data": {
            "text/plain": [
              "array([[  0,   1,   2,   3,   4,   5,   6,   7,   8,   9,  10],\n",
              "       [ 11,  12,  13,  14,  15,  16,  17,  18,  19,  20,  21],\n",
              "       [ 22,  23,  24,  25,  26,  27,  28,  29,  30,  31,  32],\n",
              "       [ 33,  34,  35,  36,  37,  38,  39,  40,  41,  42,  43],\n",
              "       [ 44,  45,  46,  47,  48,  49,  50,  51,  52,  53,  54],\n",
              "       [ 55,  56,  57,  58,  59,  60,  61,  62,  63,  64,  65],\n",
              "       [ 66,  67,  68,  69,  70,  71,  72,  73,  74,  75,  76],\n",
              "       [ 77,  78,  79,  80,  81,  82,  83,  84,  85,  86,  87],\n",
              "       [ 88,  89,  90,  91,  92,  93,  94,  95,  96,  97,  98],\n",
              "       [ 99, 100, 101, 102, 103, 104, 105, 106, 107, 108, 109],\n",
              "       [110, 111, 112, 113, 114, 115, 116, 117, 118, 119, 120]])"
            ]
          },
          "metadata": {
            "tags": []
          },
          "execution_count": 180
        }
      ]
    },
    {
      "cell_type": "code",
      "metadata": {
        "id": "_t_8I0yQmGwe"
      },
      "source": [
        "np.save('numpyfile', p8)"
      ],
      "execution_count": 181,
      "outputs": []
    },
    {
      "cell_type": "code",
      "metadata": {
        "id": "nDinAIwPmIkm",
        "outputId": "67dd2069-50d1-4bc7-dcef-6ed02a2aee5d",
        "colab": {
          "base_uri": "https://localhost:8080/",
          "height": 204
        }
      },
      "source": [
        "p10 = np.load('numpyfile.npy')\n",
        "p10"
      ],
      "execution_count": 182,
      "outputs": [
        {
          "output_type": "execute_result",
          "data": {
            "text/plain": [
              "array([[  0,   1,   2,   3,   4,   5,   6,   7,   8,   9,  10],\n",
              "       [ 11,  12,  13,  14,  15,  16,  17,  18,  19,  20,  21],\n",
              "       [ 22,  23,  24,  25,  26,  27,  28,  29,  30,  31,  32],\n",
              "       [ 33,  34,  35,  36,  37,  38,  39,  40,  41,  42,  43],\n",
              "       [ 44,  45,  46,  47,  48,  49,  50,  51,  52,  53,  54],\n",
              "       [ 55,  56,  57,  58,  59,  60,  61,  62,  63,  64,  65],\n",
              "       [ 66,  67,  68,  69,  70,  71,  72,  73,  74,  75,  76],\n",
              "       [ 77,  78,  79,  80,  81,  82,  83,  84,  85,  86,  87],\n",
              "       [ 88,  89,  90,  91,  92,  93,  94,  95,  96,  97,  98],\n",
              "       [ 99, 100, 101, 102, 103, 104, 105, 106, 107, 108, 109],\n",
              "       [110, 111, 112, 113, 114, 115, 116, 117, 118, 119, 120]])"
            ]
          },
          "metadata": {
            "tags": []
          },
          "execution_count": 182
        }
      ]
    },
    {
      "cell_type": "code",
      "metadata": {
        "id": "Yt6SWZDEmK2-",
        "outputId": "2baf72d5-f2a3-4229-b6fe-503e7cb49a96",
        "colab": {
          "base_uri": "https://localhost:8080/",
          "height": 136
        }
      },
      "source": [
        "p11 = np.arange(0,1000000).reshape(1000,1000)\n",
        "p11"
      ],
      "execution_count": 183,
      "outputs": [
        {
          "output_type": "execute_result",
          "data": {
            "text/plain": [
              "array([[     0,      1,      2, ...,    997,    998,    999],\n",
              "       [  1000,   1001,   1002, ...,   1997,   1998,   1999],\n",
              "       [  2000,   2001,   2002, ...,   2997,   2998,   2999],\n",
              "       ...,\n",
              "       [997000, 997001, 997002, ..., 997997, 997998, 997999],\n",
              "       [998000, 998001, 998002, ..., 998997, 998998, 998999],\n",
              "       [999000, 999001, 999002, ..., 999997, 999998, 999999]])"
            ]
          },
          "metadata": {
            "tags": []
          },
          "execution_count": 183
        }
      ]
    },
    {
      "cell_type": "code",
      "metadata": {
        "id": "06hHrwuVmOXh"
      },
      "source": [
        "# Save Numpy array to a compressed file\n",
        "np.savez_compressed('test6.npz', p11)"
      ],
      "execution_count": 184,
      "outputs": []
    },
    {
      "cell_type": "code",
      "metadata": {
        "id": "s2xR7613mQVw"
      },
      "source": [
        "# Save Numpy array to a npy file\n",
        "np.save('test7.npy', p11)"
      ],
      "execution_count": 185,
      "outputs": []
    },
    {
      "cell_type": "code",
      "metadata": {
        "id": "wgdcZr8JmScS",
        "outputId": "3037caa2-f395-460d-8ace-346c73c2623b",
        "colab": {
          "base_uri": "https://localhost:8080/",
          "height": 323
        }
      },
      "source": [
        "# Compressed file size is much lesser than normal npy file\n",
        "Image(filename='load_save.PNG')"
      ],
      "execution_count": 186,
      "outputs": [
        {
          "output_type": "error",
          "ename": "FileNotFoundError",
          "evalue": "ignored",
          "traceback": [
            "\u001b[0;31m---------------------------------------------------------------------------\u001b[0m",
            "\u001b[0;31mFileNotFoundError\u001b[0m                         Traceback (most recent call last)",
            "\u001b[0;32m<ipython-input-186-339a63e610f7>\u001b[0m in \u001b[0;36m<module>\u001b[0;34m()\u001b[0m\n\u001b[1;32m      1\u001b[0m \u001b[0;31m# Compressed file size is much lesser than normal npy file\u001b[0m\u001b[0;34m\u001b[0m\u001b[0;34m\u001b[0m\u001b[0;34m\u001b[0m\u001b[0m\n\u001b[0;32m----> 2\u001b[0;31m \u001b[0mImage\u001b[0m\u001b[0;34m(\u001b[0m\u001b[0mfilename\u001b[0m\u001b[0;34m=\u001b[0m\u001b[0;34m'load_save.PNG'\u001b[0m\u001b[0;34m)\u001b[0m\u001b[0;34m\u001b[0m\u001b[0;34m\u001b[0m\u001b[0m\n\u001b[0m",
            "\u001b[0;32m/usr/local/lib/python3.6/dist-packages/IPython/core/display.py\u001b[0m in \u001b[0;36m__init__\u001b[0;34m(self, data, url, filename, format, embed, width, height, retina, unconfined, metadata)\u001b[0m\n\u001b[1;32m   1019\u001b[0m         \u001b[0mself\u001b[0m\u001b[0;34m.\u001b[0m\u001b[0munconfined\u001b[0m \u001b[0;34m=\u001b[0m \u001b[0munconfined\u001b[0m\u001b[0;34m\u001b[0m\u001b[0;34m\u001b[0m\u001b[0m\n\u001b[1;32m   1020\u001b[0m         \u001b[0mself\u001b[0m\u001b[0;34m.\u001b[0m\u001b[0mmetadata\u001b[0m \u001b[0;34m=\u001b[0m \u001b[0mmetadata\u001b[0m\u001b[0;34m\u001b[0m\u001b[0;34m\u001b[0m\u001b[0m\n\u001b[0;32m-> 1021\u001b[0;31m         \u001b[0msuper\u001b[0m\u001b[0;34m(\u001b[0m\u001b[0mImage\u001b[0m\u001b[0;34m,\u001b[0m \u001b[0mself\u001b[0m\u001b[0;34m)\u001b[0m\u001b[0;34m.\u001b[0m\u001b[0m__init__\u001b[0m\u001b[0;34m(\u001b[0m\u001b[0mdata\u001b[0m\u001b[0;34m=\u001b[0m\u001b[0mdata\u001b[0m\u001b[0;34m,\u001b[0m \u001b[0murl\u001b[0m\u001b[0;34m=\u001b[0m\u001b[0murl\u001b[0m\u001b[0;34m,\u001b[0m \u001b[0mfilename\u001b[0m\u001b[0;34m=\u001b[0m\u001b[0mfilename\u001b[0m\u001b[0;34m)\u001b[0m\u001b[0;34m\u001b[0m\u001b[0;34m\u001b[0m\u001b[0m\n\u001b[0m\u001b[1;32m   1022\u001b[0m \u001b[0;34m\u001b[0m\u001b[0m\n\u001b[1;32m   1023\u001b[0m         \u001b[0;32mif\u001b[0m \u001b[0mretina\u001b[0m\u001b[0;34m:\u001b[0m\u001b[0;34m\u001b[0m\u001b[0;34m\u001b[0m\u001b[0m\n",
            "\u001b[0;32m/usr/local/lib/python3.6/dist-packages/IPython/core/display.py\u001b[0m in \u001b[0;36m__init__\u001b[0;34m(self, data, url, filename)\u001b[0m\n\u001b[1;32m    611\u001b[0m         \u001b[0mself\u001b[0m\u001b[0;34m.\u001b[0m\u001b[0mfilename\u001b[0m \u001b[0;34m=\u001b[0m \u001b[0;32mNone\u001b[0m \u001b[0;32mif\u001b[0m \u001b[0mfilename\u001b[0m \u001b[0;32mis\u001b[0m \u001b[0;32mNone\u001b[0m \u001b[0;32melse\u001b[0m \u001b[0municode_type\u001b[0m\u001b[0;34m(\u001b[0m\u001b[0mfilename\u001b[0m\u001b[0;34m)\u001b[0m\u001b[0;34m\u001b[0m\u001b[0;34m\u001b[0m\u001b[0m\n\u001b[1;32m    612\u001b[0m \u001b[0;34m\u001b[0m\u001b[0m\n\u001b[0;32m--> 613\u001b[0;31m         \u001b[0mself\u001b[0m\u001b[0;34m.\u001b[0m\u001b[0mreload\u001b[0m\u001b[0;34m(\u001b[0m\u001b[0;34m)\u001b[0m\u001b[0;34m\u001b[0m\u001b[0;34m\u001b[0m\u001b[0m\n\u001b[0m\u001b[1;32m    614\u001b[0m         \u001b[0mself\u001b[0m\u001b[0;34m.\u001b[0m\u001b[0m_check_data\u001b[0m\u001b[0;34m(\u001b[0m\u001b[0;34m)\u001b[0m\u001b[0;34m\u001b[0m\u001b[0;34m\u001b[0m\u001b[0m\n\u001b[1;32m    615\u001b[0m \u001b[0;34m\u001b[0m\u001b[0m\n",
            "\u001b[0;32m/usr/local/lib/python3.6/dist-packages/IPython/core/display.py\u001b[0m in \u001b[0;36mreload\u001b[0;34m(self)\u001b[0m\n\u001b[1;32m   1041\u001b[0m         \u001b[0;34m\"\"\"Reload the raw data from file or URL.\"\"\"\u001b[0m\u001b[0;34m\u001b[0m\u001b[0;34m\u001b[0m\u001b[0m\n\u001b[1;32m   1042\u001b[0m         \u001b[0;32mif\u001b[0m \u001b[0mself\u001b[0m\u001b[0;34m.\u001b[0m\u001b[0membed\u001b[0m\u001b[0;34m:\u001b[0m\u001b[0;34m\u001b[0m\u001b[0;34m\u001b[0m\u001b[0m\n\u001b[0;32m-> 1043\u001b[0;31m             \u001b[0msuper\u001b[0m\u001b[0;34m(\u001b[0m\u001b[0mImage\u001b[0m\u001b[0;34m,\u001b[0m\u001b[0mself\u001b[0m\u001b[0;34m)\u001b[0m\u001b[0;34m.\u001b[0m\u001b[0mreload\u001b[0m\u001b[0;34m(\u001b[0m\u001b[0;34m)\u001b[0m\u001b[0;34m\u001b[0m\u001b[0;34m\u001b[0m\u001b[0m\n\u001b[0m\u001b[1;32m   1044\u001b[0m             \u001b[0;32mif\u001b[0m \u001b[0mself\u001b[0m\u001b[0;34m.\u001b[0m\u001b[0mretina\u001b[0m\u001b[0;34m:\u001b[0m\u001b[0;34m\u001b[0m\u001b[0;34m\u001b[0m\u001b[0m\n\u001b[1;32m   1045\u001b[0m                 \u001b[0mself\u001b[0m\u001b[0;34m.\u001b[0m\u001b[0m_retina_shape\u001b[0m\u001b[0;34m(\u001b[0m\u001b[0;34m)\u001b[0m\u001b[0;34m\u001b[0m\u001b[0;34m\u001b[0m\u001b[0m\n",
            "\u001b[0;32m/usr/local/lib/python3.6/dist-packages/IPython/core/display.py\u001b[0m in \u001b[0;36mreload\u001b[0;34m(self)\u001b[0m\n\u001b[1;32m    629\u001b[0m         \u001b[0;34m\"\"\"Reload the raw data from file or URL.\"\"\"\u001b[0m\u001b[0;34m\u001b[0m\u001b[0;34m\u001b[0m\u001b[0m\n\u001b[1;32m    630\u001b[0m         \u001b[0;32mif\u001b[0m \u001b[0mself\u001b[0m\u001b[0;34m.\u001b[0m\u001b[0mfilename\u001b[0m \u001b[0;32mis\u001b[0m \u001b[0;32mnot\u001b[0m \u001b[0;32mNone\u001b[0m\u001b[0;34m:\u001b[0m\u001b[0;34m\u001b[0m\u001b[0;34m\u001b[0m\u001b[0m\n\u001b[0;32m--> 631\u001b[0;31m             \u001b[0;32mwith\u001b[0m \u001b[0mopen\u001b[0m\u001b[0;34m(\u001b[0m\u001b[0mself\u001b[0m\u001b[0;34m.\u001b[0m\u001b[0mfilename\u001b[0m\u001b[0;34m,\u001b[0m \u001b[0mself\u001b[0m\u001b[0;34m.\u001b[0m\u001b[0m_read_flags\u001b[0m\u001b[0;34m)\u001b[0m \u001b[0;32mas\u001b[0m \u001b[0mf\u001b[0m\u001b[0;34m:\u001b[0m\u001b[0;34m\u001b[0m\u001b[0;34m\u001b[0m\u001b[0m\n\u001b[0m\u001b[1;32m    632\u001b[0m                 \u001b[0mself\u001b[0m\u001b[0;34m.\u001b[0m\u001b[0mdata\u001b[0m \u001b[0;34m=\u001b[0m \u001b[0mf\u001b[0m\u001b[0;34m.\u001b[0m\u001b[0mread\u001b[0m\u001b[0;34m(\u001b[0m\u001b[0;34m)\u001b[0m\u001b[0;34m\u001b[0m\u001b[0;34m\u001b[0m\u001b[0m\n\u001b[1;32m    633\u001b[0m         \u001b[0;32melif\u001b[0m \u001b[0mself\u001b[0m\u001b[0;34m.\u001b[0m\u001b[0murl\u001b[0m \u001b[0;32mis\u001b[0m \u001b[0;32mnot\u001b[0m \u001b[0;32mNone\u001b[0m\u001b[0;34m:\u001b[0m\u001b[0;34m\u001b[0m\u001b[0;34m\u001b[0m\u001b[0m\n",
            "\u001b[0;31mFileNotFoundError\u001b[0m: [Errno 2] No such file or directory: 'load_save.PNG'"
          ]
        }
      ]
    },
    {
      "cell_type": "code",
      "metadata": {
        "id": "2LkK0-mymUOo",
        "outputId": "a7034208-0512-45eb-902e-e61c7094c11f",
        "colab": {
          "base_uri": "https://localhost:8080/",
          "height": 34
        }
      },
      "source": [
        "# Display values upto 4 decimal place\n",
        "np.set_printoptions(precision=4)\n",
        "a = np.array([12.654398765 , 90.7864098354674])\n",
        "a"
      ],
      "execution_count": 187,
      "outputs": [
        {
          "output_type": "execute_result",
          "data": {
            "text/plain": [
              "array([12.6544, 90.7864])"
            ]
          },
          "metadata": {
            "tags": []
          },
          "execution_count": 187
        }
      ]
    },
    {
      "cell_type": "code",
      "metadata": {
        "id": "Xy3-yNy9mdKP",
        "outputId": "dd218dcf-be6c-4bfe-93ac-2d50e6ce96a7",
        "colab": {
          "base_uri": "https://localhost:8080/",
          "height": 34
        }
      },
      "source": [
        "# Display values upto 2 decimal place\n",
        "np.set_printoptions(precision=2)\n",
        "a = np.array([12.654398765 , 90.7864098354674])\n",
        "a"
      ],
      "execution_count": 188,
      "outputs": [
        {
          "output_type": "execute_result",
          "data": {
            "text/plain": [
              "array([12.65, 90.79])"
            ]
          },
          "metadata": {
            "tags": []
          },
          "execution_count": 188
        }
      ]
    },
    {
      "cell_type": "code",
      "metadata": {
        "id": "BzYnj9LOmfMq",
        "outputId": "b7e9b72e-1f9a-44af-8351-8c011e5a69ed",
        "colab": {
          "base_uri": "https://localhost:8080/",
          "height": 34
        }
      },
      "source": [
        "# Array Summarization\n",
        "np.set_printoptions(threshold=3)\n",
        "np.arange(200)"
      ],
      "execution_count": 189,
      "outputs": [
        {
          "output_type": "execute_result",
          "data": {
            "text/plain": [
              "array([  0,   1,   2, ..., 197, 198, 199])"
            ]
          },
          "metadata": {
            "tags": []
          },
          "execution_count": 189
        }
      ]
    },
    {
      "cell_type": "code",
      "metadata": {
        "id": "KpqTNCKUmhfv",
        "outputId": "6a978c53-1a38-424f-a3ef-d7dc599525e2",
        "colab": {
          "base_uri": "https://localhost:8080/",
          "height": 34
        }
      },
      "source": [
        "# Reset Formatter\n",
        "np.set_printoptions(precision=8,suppress=False, threshold=1000, formatter=None)\n",
        "a = np.array([12.654398765 , 90.7864098354674])\n",
        "a"
      ],
      "execution_count": 190,
      "outputs": [
        {
          "output_type": "execute_result",
          "data": {
            "text/plain": [
              "array([12.65439876, 90.78640984])"
            ]
          },
          "metadata": {
            "tags": []
          },
          "execution_count": 190
        }
      ]
    },
    {
      "cell_type": "code",
      "metadata": {
        "id": "D8t00XgnnT2x",
        "outputId": "6c03f5e6-2808-49dd-c102-fffd79e337b2",
        "colab": {
          "base_uri": "https://localhost:8080/",
          "height": 34
        }
      },
      "source": [
        "np.arange(1,1100)"
      ],
      "execution_count": 191,
      "outputs": [
        {
          "output_type": "execute_result",
          "data": {
            "text/plain": [
              "array([   1,    2,    3, ..., 1097, 1098, 1099])"
            ]
          },
          "metadata": {
            "tags": []
          },
          "execution_count": 191
        }
      ]
    },
    {
      "cell_type": "code",
      "metadata": {
        "id": "reQgHjAlnYTU",
        "outputId": "ea79721e-037d-4113-b2ab-0a308c5537b0",
        "colab": {
          "base_uri": "https://localhost:8080/",
          "height": 1000
        }
      },
      "source": [
        "# Display all values\n",
        "np.set_printoptions(threshold=np.inf)\n",
        "np.arange(1,1100)"
      ],
      "execution_count": 192,
      "outputs": [
        {
          "output_type": "execute_result",
          "data": {
            "text/plain": [
              "array([   1,    2,    3,    4,    5,    6,    7,    8,    9,   10,   11,\n",
              "         12,   13,   14,   15,   16,   17,   18,   19,   20,   21,   22,\n",
              "         23,   24,   25,   26,   27,   28,   29,   30,   31,   32,   33,\n",
              "         34,   35,   36,   37,   38,   39,   40,   41,   42,   43,   44,\n",
              "         45,   46,   47,   48,   49,   50,   51,   52,   53,   54,   55,\n",
              "         56,   57,   58,   59,   60,   61,   62,   63,   64,   65,   66,\n",
              "         67,   68,   69,   70,   71,   72,   73,   74,   75,   76,   77,\n",
              "         78,   79,   80,   81,   82,   83,   84,   85,   86,   87,   88,\n",
              "         89,   90,   91,   92,   93,   94,   95,   96,   97,   98,   99,\n",
              "        100,  101,  102,  103,  104,  105,  106,  107,  108,  109,  110,\n",
              "        111,  112,  113,  114,  115,  116,  117,  118,  119,  120,  121,\n",
              "        122,  123,  124,  125,  126,  127,  128,  129,  130,  131,  132,\n",
              "        133,  134,  135,  136,  137,  138,  139,  140,  141,  142,  143,\n",
              "        144,  145,  146,  147,  148,  149,  150,  151,  152,  153,  154,\n",
              "        155,  156,  157,  158,  159,  160,  161,  162,  163,  164,  165,\n",
              "        166,  167,  168,  169,  170,  171,  172,  173,  174,  175,  176,\n",
              "        177,  178,  179,  180,  181,  182,  183,  184,  185,  186,  187,\n",
              "        188,  189,  190,  191,  192,  193,  194,  195,  196,  197,  198,\n",
              "        199,  200,  201,  202,  203,  204,  205,  206,  207,  208,  209,\n",
              "        210,  211,  212,  213,  214,  215,  216,  217,  218,  219,  220,\n",
              "        221,  222,  223,  224,  225,  226,  227,  228,  229,  230,  231,\n",
              "        232,  233,  234,  235,  236,  237,  238,  239,  240,  241,  242,\n",
              "        243,  244,  245,  246,  247,  248,  249,  250,  251,  252,  253,\n",
              "        254,  255,  256,  257,  258,  259,  260,  261,  262,  263,  264,\n",
              "        265,  266,  267,  268,  269,  270,  271,  272,  273,  274,  275,\n",
              "        276,  277,  278,  279,  280,  281,  282,  283,  284,  285,  286,\n",
              "        287,  288,  289,  290,  291,  292,  293,  294,  295,  296,  297,\n",
              "        298,  299,  300,  301,  302,  303,  304,  305,  306,  307,  308,\n",
              "        309,  310,  311,  312,  313,  314,  315,  316,  317,  318,  319,\n",
              "        320,  321,  322,  323,  324,  325,  326,  327,  328,  329,  330,\n",
              "        331,  332,  333,  334,  335,  336,  337,  338,  339,  340,  341,\n",
              "        342,  343,  344,  345,  346,  347,  348,  349,  350,  351,  352,\n",
              "        353,  354,  355,  356,  357,  358,  359,  360,  361,  362,  363,\n",
              "        364,  365,  366,  367,  368,  369,  370,  371,  372,  373,  374,\n",
              "        375,  376,  377,  378,  379,  380,  381,  382,  383,  384,  385,\n",
              "        386,  387,  388,  389,  390,  391,  392,  393,  394,  395,  396,\n",
              "        397,  398,  399,  400,  401,  402,  403,  404,  405,  406,  407,\n",
              "        408,  409,  410,  411,  412,  413,  414,  415,  416,  417,  418,\n",
              "        419,  420,  421,  422,  423,  424,  425,  426,  427,  428,  429,\n",
              "        430,  431,  432,  433,  434,  435,  436,  437,  438,  439,  440,\n",
              "        441,  442,  443,  444,  445,  446,  447,  448,  449,  450,  451,\n",
              "        452,  453,  454,  455,  456,  457,  458,  459,  460,  461,  462,\n",
              "        463,  464,  465,  466,  467,  468,  469,  470,  471,  472,  473,\n",
              "        474,  475,  476,  477,  478,  479,  480,  481,  482,  483,  484,\n",
              "        485,  486,  487,  488,  489,  490,  491,  492,  493,  494,  495,\n",
              "        496,  497,  498,  499,  500,  501,  502,  503,  504,  505,  506,\n",
              "        507,  508,  509,  510,  511,  512,  513,  514,  515,  516,  517,\n",
              "        518,  519,  520,  521,  522,  523,  524,  525,  526,  527,  528,\n",
              "        529,  530,  531,  532,  533,  534,  535,  536,  537,  538,  539,\n",
              "        540,  541,  542,  543,  544,  545,  546,  547,  548,  549,  550,\n",
              "        551,  552,  553,  554,  555,  556,  557,  558,  559,  560,  561,\n",
              "        562,  563,  564,  565,  566,  567,  568,  569,  570,  571,  572,\n",
              "        573,  574,  575,  576,  577,  578,  579,  580,  581,  582,  583,\n",
              "        584,  585,  586,  587,  588,  589,  590,  591,  592,  593,  594,\n",
              "        595,  596,  597,  598,  599,  600,  601,  602,  603,  604,  605,\n",
              "        606,  607,  608,  609,  610,  611,  612,  613,  614,  615,  616,\n",
              "        617,  618,  619,  620,  621,  622,  623,  624,  625,  626,  627,\n",
              "        628,  629,  630,  631,  632,  633,  634,  635,  636,  637,  638,\n",
              "        639,  640,  641,  642,  643,  644,  645,  646,  647,  648,  649,\n",
              "        650,  651,  652,  653,  654,  655,  656,  657,  658,  659,  660,\n",
              "        661,  662,  663,  664,  665,  666,  667,  668,  669,  670,  671,\n",
              "        672,  673,  674,  675,  676,  677,  678,  679,  680,  681,  682,\n",
              "        683,  684,  685,  686,  687,  688,  689,  690,  691,  692,  693,\n",
              "        694,  695,  696,  697,  698,  699,  700,  701,  702,  703,  704,\n",
              "        705,  706,  707,  708,  709,  710,  711,  712,  713,  714,  715,\n",
              "        716,  717,  718,  719,  720,  721,  722,  723,  724,  725,  726,\n",
              "        727,  728,  729,  730,  731,  732,  733,  734,  735,  736,  737,\n",
              "        738,  739,  740,  741,  742,  743,  744,  745,  746,  747,  748,\n",
              "        749,  750,  751,  752,  753,  754,  755,  756,  757,  758,  759,\n",
              "        760,  761,  762,  763,  764,  765,  766,  767,  768,  769,  770,\n",
              "        771,  772,  773,  774,  775,  776,  777,  778,  779,  780,  781,\n",
              "        782,  783,  784,  785,  786,  787,  788,  789,  790,  791,  792,\n",
              "        793,  794,  795,  796,  797,  798,  799,  800,  801,  802,  803,\n",
              "        804,  805,  806,  807,  808,  809,  810,  811,  812,  813,  814,\n",
              "        815,  816,  817,  818,  819,  820,  821,  822,  823,  824,  825,\n",
              "        826,  827,  828,  829,  830,  831,  832,  833,  834,  835,  836,\n",
              "        837,  838,  839,  840,  841,  842,  843,  844,  845,  846,  847,\n",
              "        848,  849,  850,  851,  852,  853,  854,  855,  856,  857,  858,\n",
              "        859,  860,  861,  862,  863,  864,  865,  866,  867,  868,  869,\n",
              "        870,  871,  872,  873,  874,  875,  876,  877,  878,  879,  880,\n",
              "        881,  882,  883,  884,  885,  886,  887,  888,  889,  890,  891,\n",
              "        892,  893,  894,  895,  896,  897,  898,  899,  900,  901,  902,\n",
              "        903,  904,  905,  906,  907,  908,  909,  910,  911,  912,  913,\n",
              "        914,  915,  916,  917,  918,  919,  920,  921,  922,  923,  924,\n",
              "        925,  926,  927,  928,  929,  930,  931,  932,  933,  934,  935,\n",
              "        936,  937,  938,  939,  940,  941,  942,  943,  944,  945,  946,\n",
              "        947,  948,  949,  950,  951,  952,  953,  954,  955,  956,  957,\n",
              "        958,  959,  960,  961,  962,  963,  964,  965,  966,  967,  968,\n",
              "        969,  970,  971,  972,  973,  974,  975,  976,  977,  978,  979,\n",
              "        980,  981,  982,  983,  984,  985,  986,  987,  988,  989,  990,\n",
              "        991,  992,  993,  994,  995,  996,  997,  998,  999, 1000, 1001,\n",
              "       1002, 1003, 1004, 1005, 1006, 1007, 1008, 1009, 1010, 1011, 1012,\n",
              "       1013, 1014, 1015, 1016, 1017, 1018, 1019, 1020, 1021, 1022, 1023,\n",
              "       1024, 1025, 1026, 1027, 1028, 1029, 1030, 1031, 1032, 1033, 1034,\n",
              "       1035, 1036, 1037, 1038, 1039, 1040, 1041, 1042, 1043, 1044, 1045,\n",
              "       1046, 1047, 1048, 1049, 1050, 1051, 1052, 1053, 1054, 1055, 1056,\n",
              "       1057, 1058, 1059, 1060, 1061, 1062, 1063, 1064, 1065, 1066, 1067,\n",
              "       1068, 1069, 1070, 1071, 1072, 1073, 1074, 1075, 1076, 1077, 1078,\n",
              "       1079, 1080, 1081, 1082, 1083, 1084, 1085, 1086, 1087, 1088, 1089,\n",
              "       1090, 1091, 1092, 1093, 1094, 1095, 1096, 1097, 1098, 1099])"
            ]
          },
          "metadata": {
            "tags": []
          },
          "execution_count": 192
        }
      ]
    },
    {
      "cell_type": "code",
      "metadata": {
        "id": "8ybwHlhvnaFo",
        "outputId": "877c6a44-cf52-4377-b3c7-b17efe1edea2",
        "colab": {
          "base_uri": "https://localhost:8080/",
          "height": 34
        }
      },
      "source": [
        "v1 = np.array([1,2])\n",
        "v2 = np.array([3,4])\n",
        "v3 = v1+v2\n",
        "v3 = np.add(v1,v2)\n",
        "print('V3 =' ,v3)"
      ],
      "execution_count": 193,
      "outputs": [
        {
          "output_type": "stream",
          "text": [
            "V3 = [4 6]\n"
          ],
          "name": "stdout"
        }
      ]
    },
    {
      "cell_type": "code",
      "metadata": {
        "id": "jWe6DEp8nc5G",
        "outputId": "7c945978-8ffc-421e-c749-43e706ee2264",
        "colab": {
          "base_uri": "https://localhost:8080/",
          "height": 34
        }
      },
      "source": [
        "a1 = [5 , 6 ,8]\n",
        "a2 = [4, 7 , 9]\n",
        "print(np.multiply(a1,a2))"
      ],
      "execution_count": 194,
      "outputs": [
        {
          "output_type": "stream",
          "text": [
            "[20 42 72]\n"
          ],
          "name": "stdout"
        }
      ]
    },
    {
      "cell_type": "code",
      "metadata": {
        "id": "UGxsrkQ7ng-3",
        "outputId": "7929d4c2-e7fb-4692-9b12-2fcaad32a805",
        "colab": {
          "base_uri": "https://localhost:8080/",
          "height": 119
        }
      },
      "source": [
        "a1 = np.array([1,2,3])\n",
        "a2 = np.array([4,5,6])\n",
        "\n",
        "dotp = a1@a2\n",
        "print(\" Dot product - \",dotp)\n",
        "\n",
        "dotp = np.dot(a1,a2)\n",
        "print(\" Dot product usign np.dot\",dotp)\n",
        "\n",
        "dotp = np.inner(a1,a2)\n",
        "print(\" Dot product usign np.inner\", dotp)\n",
        "\n",
        "dotp = sum(np.multiply(a1,a2))\n",
        "print(\" Dot product usign np.multiply & sum\",dotp)\n",
        "\n",
        "dotp = np.matmul(a1,a2)\n",
        "print(\" Dot product usign np.matmul\",dotp)\n",
        "\n",
        "dotp = 0\n",
        "for i in range(len(a1)):\n",
        "    dotp = dotp + a1[i]*a2[i]\n",
        "print(\" Dot product usign for loop\" , dotp)"
      ],
      "execution_count": 195,
      "outputs": [
        {
          "output_type": "stream",
          "text": [
            " Dot product -  32\n",
            " Dot product usign np.dot 32\n",
            " Dot product usign np.inner 32\n",
            " Dot product usign np.multiply & sum 32\n",
            " Dot product usign np.matmul 32\n",
            " Dot product usign for loop 32\n"
          ],
          "name": "stdout"
        }
      ]
    },
    {
      "cell_type": "code",
      "metadata": {
        "id": "AzHdwCA2nk_Y",
        "outputId": "c88552ce-6f6f-425a-c594-2ad3891bd2d7",
        "colab": {
          "base_uri": "https://localhost:8080/",
          "height": 34
        }
      },
      "source": [
        "v3 = np.array([1,2,3,4,5,6])\n",
        "length = np.sqrt(np.dot(v3,v3))\n",
        "length"
      ],
      "execution_count": 196,
      "outputs": [
        {
          "output_type": "execute_result",
          "data": {
            "text/plain": [
              "9.539392014169456"
            ]
          },
          "metadata": {
            "tags": []
          },
          "execution_count": 196
        }
      ]
    },
    {
      "cell_type": "code",
      "metadata": {
        "id": "IKTY1UZjno-x",
        "outputId": "0013b1cd-4491-477e-9fc9-0328a4600847",
        "colab": {
          "base_uri": "https://localhost:8080/",
          "height": 34
        }
      },
      "source": [
        "v3 = np.array([1,2,3,4,5,6])\n",
        "length = np.sqrt(sum(np.multiply(v3,v3)))\n",
        "length"
      ],
      "execution_count": 197,
      "outputs": [
        {
          "output_type": "execute_result",
          "data": {
            "text/plain": [
              "9.539392014169456"
            ]
          },
          "metadata": {
            "tags": []
          },
          "execution_count": 197
        }
      ]
    },
    {
      "cell_type": "code",
      "metadata": {
        "id": "ExVkkZQ4nq_T",
        "outputId": "fd16771c-e352-4492-89be-177dc0505868",
        "colab": {
          "base_uri": "https://localhost:8080/",
          "height": 34
        }
      },
      "source": [
        "v3 = np.array([1,2,3,4,5,6])\n",
        "length = np.sqrt(np.matmul(v3,v3))\n",
        "length"
      ],
      "execution_count": 198,
      "outputs": [
        {
          "output_type": "execute_result",
          "data": {
            "text/plain": [
              "9.539392014169456"
            ]
          },
          "metadata": {
            "tags": []
          },
          "execution_count": 198
        }
      ]
    },
    {
      "cell_type": "code",
      "metadata": {
        "id": "uaAUy04enszC",
        "outputId": "f9db5258-0f84-4687-9269-58d34062a364",
        "colab": {
          "base_uri": "https://localhost:8080/",
          "height": 34
        }
      },
      "source": [
        "#First Method\n",
        "v1 = [2,3]\n",
        "length_v1 = np.sqrt(np.dot(v1,v1))\n",
        "norm_v1 = v1/length_v1\n",
        "length_v1 , norm_v1"
      ],
      "execution_count": 199,
      "outputs": [
        {
          "output_type": "execute_result",
          "data": {
            "text/plain": [
              "(3.605551275463989, array([0.5547002 , 0.83205029]))"
            ]
          },
          "metadata": {
            "tags": []
          },
          "execution_count": 199
        }
      ]
    },
    {
      "cell_type": "code",
      "metadata": {
        "id": "CoB4X2ZRnw-3",
        "outputId": "14c3b5e2-a6ba-4248-8e17-a2dbd37ea11e",
        "colab": {
          "base_uri": "https://localhost:8080/",
          "height": 34
        }
      },
      "source": [
        "#Second Method\n",
        "v1 = np.array([4,3])\n",
        "v2 = np.array([-3,4])\n",
        "lengthV1 = np.sqrt(np.dot(v1,v1)) \n",
        "lengthV2  = np.sqrt(np.dot(v2,v2))\n",
        "ang = np.rad2deg(np.arccos( np.dot(v1,v2) / (lengthV1 * lengthV2)))\n",
        "print('Angle between Vectors - %s' %ang)"
      ],
      "execution_count": 200,
      "outputs": [
        {
          "output_type": "stream",
          "text": [
            "Angle between Vectors - 90.0\n"
          ],
          "name": "stdout"
        }
      ]
    },
    {
      "cell_type": "code",
      "metadata": {
        "id": "om34kBA9n2Hc",
        "outputId": "8e1d1b9e-3446-4167-de3d-09d49a5f9772",
        "colab": {
          "base_uri": "https://localhost:8080/",
          "height": 153
        }
      },
      "source": [
        "v1 = np.array([1,2,3])\n",
        "v2 = np.array([4,5,6])\n",
        "np.inner(v1,v2)\n",
        "\n",
        "print(\"\\n Inner Product ==>  \\n\", np.inner(v1,v2))\n",
        "print(\"\\n Outer Product ==>  \\n\", np.outer(v1,v2))"
      ],
      "execution_count": 201,
      "outputs": [
        {
          "output_type": "stream",
          "text": [
            "\n",
            " Inner Product ==>  \n",
            " 32\n",
            "\n",
            " Outer Product ==>  \n",
            " [[ 4  5  6]\n",
            " [ 8 10 12]\n",
            " [12 15 18]]\n"
          ],
          "name": "stdout"
        }
      ]
    },
    {
      "cell_type": "code",
      "metadata": {
        "id": "XugTpSzhn5y0",
        "outputId": "76a31377-ae59-4bce-d389-98bb71217165",
        "colab": {
          "base_uri": "https://localhost:8080/",
          "height": 68
        }
      },
      "source": [
        "v1 = np.array([1,2,3])\n",
        "v2 = np.array([4,5,6])\n",
        "print(\"\\nVector Cross Product ==>  \\n\", np.cross(v1,v2))"
      ],
      "execution_count": 202,
      "outputs": [
        {
          "output_type": "stream",
          "text": [
            "\n",
            "Vector Cross Product ==>  \n",
            " [-3  6 -3]\n"
          ],
          "name": "stdout"
        }
      ]
    },
    {
      "cell_type": "code",
      "metadata": {
        "id": "NOfi54Rcn8LF",
        "outputId": "05b21f4d-769c-49ad-c6be-5c42d8e30d88",
        "colab": {
          "base_uri": "https://localhost:8080/",
          "height": 85
        }
      },
      "source": [
        "# Create a 4x4 matrix\n",
        "A = np.array([[1,2,3,4] , [5,6,7,8] , [10 , 11 , 12 ,13] , [14,15,16,17]])\n",
        "A"
      ],
      "execution_count": 203,
      "outputs": [
        {
          "output_type": "execute_result",
          "data": {
            "text/plain": [
              "array([[ 1,  2,  3,  4],\n",
              "       [ 5,  6,  7,  8],\n",
              "       [10, 11, 12, 13],\n",
              "       [14, 15, 16, 17]])"
            ]
          },
          "metadata": {
            "tags": []
          },
          "execution_count": 203
        }
      ]
    },
    {
      "cell_type": "code",
      "metadata": {
        "id": "-VsCPKZJn_Mc",
        "outputId": "210b823d-1a9f-4528-ccb0-cda1c43d3f33",
        "colab": {
          "base_uri": "https://localhost:8080/",
          "height": 34
        }
      },
      "source": [
        "# Datatype of Matrix\n",
        "A.dtype"
      ],
      "execution_count": 204,
      "outputs": [
        {
          "output_type": "execute_result",
          "data": {
            "text/plain": [
              "dtype('int64')"
            ]
          },
          "metadata": {
            "tags": []
          },
          "execution_count": 204
        }
      ]
    },
    {
      "cell_type": "code",
      "metadata": {
        "id": "Kj_Rh5oHoBkU",
        "outputId": "25aebff9-ec97-4a48-942f-f0d2ae05d0dc",
        "colab": {
          "base_uri": "https://localhost:8080/",
          "height": 85
        }
      },
      "source": [
        "B = np.array([[1.5,2.07,3,4] , [5,6,7,8] , [10 , 11 , 12 ,13] , [14,15,16,17]])\n",
        "B"
      ],
      "execution_count": 205,
      "outputs": [
        {
          "output_type": "execute_result",
          "data": {
            "text/plain": [
              "array([[ 1.5 ,  2.07,  3.  ,  4.  ],\n",
              "       [ 5.  ,  6.  ,  7.  ,  8.  ],\n",
              "       [10.  , 11.  , 12.  , 13.  ],\n",
              "       [14.  , 15.  , 16.  , 17.  ]])"
            ]
          },
          "metadata": {
            "tags": []
          },
          "execution_count": 205
        }
      ]
    },
    {
      "cell_type": "code",
      "metadata": {
        "id": "_Kp8trNhoDqS",
        "outputId": "5be4cdc4-eff7-4f6e-c0f5-531b31471152",
        "colab": {
          "base_uri": "https://localhost:8080/",
          "height": 34
        }
      },
      "source": [
        "# Datatype of Matrix\n",
        "B.dtype\n"
      ],
      "execution_count": 206,
      "outputs": [
        {
          "output_type": "execute_result",
          "data": {
            "text/plain": [
              "dtype('float64')"
            ]
          },
          "metadata": {
            "tags": []
          },
          "execution_count": 206
        }
      ]
    },
    {
      "cell_type": "code",
      "metadata": {
        "id": "DKpJHAZDoGpA",
        "outputId": "c3002b47-9f1a-41f0-b803-f22c6583e781",
        "colab": {
          "base_uri": "https://localhost:8080/",
          "height": 34
        }
      },
      "source": [
        "A.shape"
      ],
      "execution_count": 207,
      "outputs": [
        {
          "output_type": "execute_result",
          "data": {
            "text/plain": [
              "(4, 4)"
            ]
          },
          "metadata": {
            "tags": []
          },
          "execution_count": 207
        }
      ]
    },
    {
      "cell_type": "code",
      "metadata": {
        "id": "TLNzcFtgoH5F",
        "outputId": "d764b5bb-cded-4731-9f85-d1aeb75bde26",
        "colab": {
          "base_uri": "https://localhost:8080/",
          "height": 85
        }
      },
      "source": [
        "# Generate a 4x4 zero matrix\n",
        "np.zeros((4,4))"
      ],
      "execution_count": 208,
      "outputs": [
        {
          "output_type": "execute_result",
          "data": {
            "text/plain": [
              "array([[0., 0., 0., 0.],\n",
              "       [0., 0., 0., 0.],\n",
              "       [0., 0., 0., 0.],\n",
              "       [0., 0., 0., 0.]])"
            ]
          },
          "metadata": {
            "tags": []
          },
          "execution_count": 208
        }
      ]
    },
    {
      "cell_type": "code",
      "metadata": {
        "id": "qSO-nB2xoKPa",
        "outputId": "bb21c783-d5ab-475c-aeab-01c043f29132",
        "colab": {
          "base_uri": "https://localhost:8080/",
          "height": 34
        }
      },
      "source": [
        "#Shape of Matrix\n",
        "z1 = np.zeros((4,4))\n",
        "z1.shape"
      ],
      "execution_count": 209,
      "outputs": [
        {
          "output_type": "execute_result",
          "data": {
            "text/plain": [
              "(4, 4)"
            ]
          },
          "metadata": {
            "tags": []
          },
          "execution_count": 209
        }
      ]
    },
    {
      "cell_type": "code",
      "metadata": {
        "id": "hEg-D9rPoMAl",
        "outputId": "f7c35de5-7017-4f09-abf7-a36123c17990",
        "colab": {
          "base_uri": "https://localhost:8080/",
          "height": 102
        }
      },
      "source": [
        "# Generate a 5x5 matrix filled with ones\n",
        "np.ones((5,5))"
      ],
      "execution_count": 210,
      "outputs": [
        {
          "output_type": "execute_result",
          "data": {
            "text/plain": [
              "array([[1., 1., 1., 1., 1.],\n",
              "       [1., 1., 1., 1., 1.],\n",
              "       [1., 1., 1., 1., 1.],\n",
              "       [1., 1., 1., 1., 1.],\n",
              "       [1., 1., 1., 1., 1.]])"
            ]
          },
          "metadata": {
            "tags": []
          },
          "execution_count": 210
        }
      ]
    },
    {
      "cell_type": "code",
      "metadata": {
        "id": "A0DtHL5moP_6",
        "outputId": "183b0f54-f2f5-41ed-e84e-f649baa8e3bd",
        "colab": {
          "base_uri": "https://localhost:8080/",
          "height": 187
        }
      },
      "source": [
        "# Return 10x10 matrix of random integer numbers between 0 to 500\n",
        "np.random.randint(0,500, (10,10))"
      ],
      "execution_count": 211,
      "outputs": [
        {
          "output_type": "execute_result",
          "data": {
            "text/plain": [
              "array([[301,  97, 408, 292, 166, 137, 125,  52,  67, 299],\n",
              "       [129,  79,  68, 196, 484,  61, 146, 307, 270, 412],\n",
              "       [401,  87,  46,  52, 144, 454, 455,  84,  10, 190],\n",
              "       [362,  96, 122, 235, 498, 487, 493, 185, 151, 470],\n",
              "       [469,  26,  76,  66, 232,  54, 145, 193, 185, 473],\n",
              "       [258,  80,  50, 322,  88,  79, 349,   6, 348,  42],\n",
              "       [ 22, 377, 244, 368, 404, 409, 383,  97, 110, 438],\n",
              "       [ 71, 456, 208, 221, 192, 364,  63, 488, 359, 208],\n",
              "       [422, 301, 359, 103, 372, 163,  25, 223,  75, 456],\n",
              "       [ 11, 332, 207, 369, 379, 306, 239, 150, 101,  59]])"
            ]
          },
          "metadata": {
            "tags": []
          },
          "execution_count": 211
        }
      ]
    },
    {
      "cell_type": "code",
      "metadata": {
        "id": "dmtDsLNwoSRk",
        "outputId": "72a51ac1-85a2-400a-a8d4-284f368fdb10",
        "colab": {
          "base_uri": "https://localhost:8080/",
          "height": 51
        }
      },
      "source": [
        "arr2"
      ],
      "execution_count": 212,
      "outputs": [
        {
          "output_type": "execute_result",
          "data": {
            "text/plain": [
              "array([ 1,  2,  3,  4,  5,  6,  7,  8,  9, 10, 11, 12, 13, 14, 15, 16, 17,\n",
              "       18, 19])"
            ]
          },
          "metadata": {
            "tags": []
          },
          "execution_count": 212
        }
      ]
    },
    {
      "cell_type": "code",
      "metadata": {
        "id": "Xm-6S6bUoT2z",
        "outputId": "fb47b313-549e-48d1-d2fc-d37433b4d1fc",
        "colab": {
          "base_uri": "https://localhost:8080/",
          "height": 163
        }
      },
      "source": [
        "arr2.reshape(5,4)"
      ],
      "execution_count": 213,
      "outputs": [
        {
          "output_type": "error",
          "ename": "ValueError",
          "evalue": "ignored",
          "traceback": [
            "\u001b[0;31m---------------------------------------------------------------------------\u001b[0m",
            "\u001b[0;31mValueError\u001b[0m                                Traceback (most recent call last)",
            "\u001b[0;32m<ipython-input-213-1b7967c7189d>\u001b[0m in \u001b[0;36m<module>\u001b[0;34m()\u001b[0m\n\u001b[0;32m----> 1\u001b[0;31m \u001b[0marr2\u001b[0m\u001b[0;34m.\u001b[0m\u001b[0mreshape\u001b[0m\u001b[0;34m(\u001b[0m\u001b[0;36m5\u001b[0m\u001b[0;34m,\u001b[0m\u001b[0;36m4\u001b[0m\u001b[0;34m)\u001b[0m\u001b[0;34m\u001b[0m\u001b[0;34m\u001b[0m\u001b[0m\n\u001b[0m",
            "\u001b[0;31mValueError\u001b[0m: cannot reshape array of size 19 into shape (5,4)"
          ]
        }
      ]
    },
    {
      "cell_type": "code",
      "metadata": {
        "id": "LTdWyJXmoXKT",
        "outputId": "eca7176e-c16b-4406-b639-2ae3250c80f2",
        "colab": {
          "base_uri": "https://localhost:8080/",
          "height": 187
        }
      },
      "source": [
        "mat1 = np.random.randint(0,1000,100).reshape(10,10)\n",
        "mat1"
      ],
      "execution_count": 214,
      "outputs": [
        {
          "output_type": "execute_result",
          "data": {
            "text/plain": [
              "array([[834, 358, 490, 634,   1, 546, 549, 441,  35, 810],\n",
              "       [115, 869, 684, 242, 108, 177, 671,  79,  85, 515],\n",
              "       [311, 841, 221, 478, 611,  40, 694, 984, 350, 871],\n",
              "       [982, 757, 145, 245, 759, 580, 401, 402, 444, 851],\n",
              "       [594, 647, 579, 764, 930, 251, 588, 895, 606, 119],\n",
              "       [788, 453, 841,  59, 546, 502, 453, 635, 376, 537],\n",
              "       [718, 988, 330, 587, 289, 905, 939,  20, 722, 158],\n",
              "       [771, 430, 797, 559, 539, 977, 967,  25, 238, 606],\n",
              "       [102, 697, 405, 541, 390, 310,  47,  47, 828, 646],\n",
              "       [971,  97, 437, 684, 738, 679, 380, 928, 983, 590]])"
            ]
          },
          "metadata": {
            "tags": []
          },
          "execution_count": 214
        }
      ]
    },
    {
      "cell_type": "code",
      "metadata": {
        "id": "ez3q2mEDojV-",
        "outputId": "8970ab6b-83f0-4524-f26b-f1c07222ce96",
        "colab": {
          "base_uri": "https://localhost:8080/",
          "height": 34
        }
      },
      "source": [
        "mat1[0,0]"
      ],
      "execution_count": 216,
      "outputs": [
        {
          "output_type": "execute_result",
          "data": {
            "text/plain": [
              "834"
            ]
          },
          "metadata": {
            "tags": []
          },
          "execution_count": 216
        }
      ]
    },
    {
      "cell_type": "code",
      "metadata": {
        "id": "nwkwzqB_oj9v",
        "outputId": "1f6a7f19-29da-4ad2-cec3-818ecfcb77dc",
        "colab": {
          "base_uri": "https://localhost:8080/",
          "height": 102
        }
      },
      "source": [
        "mat1[mat1 > 500]"
      ],
      "execution_count": 217,
      "outputs": [
        {
          "output_type": "execute_result",
          "data": {
            "text/plain": [
              "array([834, 634, 546, 549, 810, 869, 684, 671, 515, 841, 611, 694, 984,\n",
              "       871, 982, 757, 759, 580, 851, 594, 647, 579, 764, 930, 588, 895,\n",
              "       606, 788, 841, 546, 502, 635, 537, 718, 988, 587, 905, 939, 722,\n",
              "       771, 797, 559, 539, 977, 967, 606, 697, 541, 828, 646, 971, 684,\n",
              "       738, 679, 928, 983, 590])"
            ]
          },
          "metadata": {
            "tags": []
          },
          "execution_count": 217
        }
      ]
    },
    {
      "cell_type": "code",
      "metadata": {
        "id": "VsybGe-SopLM",
        "outputId": "70423a64-7510-4dd4-aaaf-c1a22fe49eb6",
        "colab": {
          "base_uri": "https://localhost:8080/",
          "height": 170
        }
      },
      "source": [
        "# Identity Matrix : https://en.wikipedia.org/wiki/Identity_matrix\n",
        "\n",
        "I = np.eye(9)\n",
        "I"
      ],
      "execution_count": 218,
      "outputs": [
        {
          "output_type": "execute_result",
          "data": {
            "text/plain": [
              "array([[1., 0., 0., 0., 0., 0., 0., 0., 0.],\n",
              "       [0., 1., 0., 0., 0., 0., 0., 0., 0.],\n",
              "       [0., 0., 1., 0., 0., 0., 0., 0., 0.],\n",
              "       [0., 0., 0., 1., 0., 0., 0., 0., 0.],\n",
              "       [0., 0., 0., 0., 1., 0., 0., 0., 0.],\n",
              "       [0., 0., 0., 0., 0., 1., 0., 0., 0.],\n",
              "       [0., 0., 0., 0., 0., 0., 1., 0., 0.],\n",
              "       [0., 0., 0., 0., 0., 0., 0., 1., 0.],\n",
              "       [0., 0., 0., 0., 0., 0., 0., 0., 1.]])"
            ]
          },
          "metadata": {
            "tags": []
          },
          "execution_count": 218
        }
      ]
    },
    {
      "cell_type": "code",
      "metadata": {
        "id": "ZgEi7t5lodPs",
        "outputId": "60a0c454-cd67-4697-b41f-4016e6b59f89",
        "colab": {
          "base_uri": "https://localhost:8080/",
          "height": 153
        }
      },
      "source": [
        "# Diagonal Matrix : https://en.wikipedia.org/wiki/Diagonal_matrix\n",
        "\n",
        "D = np.diag([1,2,3,4,5,6,7,8])\n",
        "D"
      ],
      "execution_count": 215,
      "outputs": [
        {
          "output_type": "execute_result",
          "data": {
            "text/plain": [
              "array([[1, 0, 0, 0, 0, 0, 0, 0],\n",
              "       [0, 2, 0, 0, 0, 0, 0, 0],\n",
              "       [0, 0, 3, 0, 0, 0, 0, 0],\n",
              "       [0, 0, 0, 4, 0, 0, 0, 0],\n",
              "       [0, 0, 0, 0, 5, 0, 0, 0],\n",
              "       [0, 0, 0, 0, 0, 6, 0, 0],\n",
              "       [0, 0, 0, 0, 0, 0, 7, 0],\n",
              "       [0, 0, 0, 0, 0, 0, 0, 8]])"
            ]
          },
          "metadata": {
            "tags": []
          },
          "execution_count": 215
        }
      ]
    },
    {
      "cell_type": "code",
      "metadata": {
        "id": "lk4uSpkfogp-",
        "outputId": "73813d46-2fbb-4015-fe0d-9bf76f004895",
        "colab": {
          "base_uri": "https://localhost:8080/",
          "height": 391
        }
      },
      "source": [
        "# Traingular Matrices (lower & Upper triangular matrix) : https://en.wikipedia.org/wiki/Triangular_matrix\n",
        "\n",
        "M = np.random.randn(5,5)\n",
        "U = np.triu(M)\n",
        "L = np.tril(M)\n",
        "print(\"lower triangular matrix - \\n\" , M)\n",
        "print(\"\\n\")\n",
        "\n",
        "\n",
        "print(\"lower triangular matrix - \\n\" , L)\n",
        "print(\"\\n\")\n",
        "\n",
        "print(\"Upper triangular matrix - \\n\" , U)"
      ],
      "execution_count": 219,
      "outputs": [
        {
          "output_type": "stream",
          "text": [
            "lower triangular matrix - \n",
            " [[-0.3801035  -1.66605918 -2.7369946   1.52256211  0.17800909]\n",
            " [-0.62680541 -0.39108897  1.74347695  1.13001805  0.89779631]\n",
            " [ 0.33086562 -1.06304889 -0.1253808  -0.94558812  2.02954418]\n",
            " [-1.04635839 -1.30648231 -1.632924    0.80212937 -1.66753678]\n",
            " [ 0.60885729  0.28647299 -0.2057923   2.49399019 -0.54725989]]\n",
            "\n",
            "\n",
            "lower triangular matrix - \n",
            " [[-0.3801035   0.          0.          0.          0.        ]\n",
            " [-0.62680541 -0.39108897  0.          0.          0.        ]\n",
            " [ 0.33086562 -1.06304889 -0.1253808   0.          0.        ]\n",
            " [-1.04635839 -1.30648231 -1.632924    0.80212937  0.        ]\n",
            " [ 0.60885729  0.28647299 -0.2057923   2.49399019 -0.54725989]]\n",
            "\n",
            "\n",
            "Upper triangular matrix - \n",
            " [[-0.3801035  -1.66605918 -2.7369946   1.52256211  0.17800909]\n",
            " [ 0.         -0.39108897  1.74347695  1.13001805  0.89779631]\n",
            " [ 0.          0.         -0.1253808  -0.94558812  2.02954418]\n",
            " [ 0.          0.          0.          0.80212937 -1.66753678]\n",
            " [ 0.          0.          0.          0.         -0.54725989]]\n"
          ],
          "name": "stdout"
        }
      ]
    },
    {
      "cell_type": "code",
      "metadata": {
        "id": "upohnogWouzm",
        "outputId": "0db69511-fe9b-4cc3-a5ac-6e2c2471b309",
        "colab": {
          "base_uri": "https://localhost:8080/",
          "height": 102
        }
      },
      "source": [
        "# Generate a 5X5 matrix with a given fill value of 8\n",
        "np.full((5,5) , 8)"
      ],
      "execution_count": 220,
      "outputs": [
        {
          "output_type": "execute_result",
          "data": {
            "text/plain": [
              "array([[8, 8, 8, 8, 8],\n",
              "       [8, 8, 8, 8, 8],\n",
              "       [8, 8, 8, 8, 8],\n",
              "       [8, 8, 8, 8, 8],\n",
              "       [8, 8, 8, 8, 8]])"
            ]
          },
          "metadata": {
            "tags": []
          },
          "execution_count": 220
        }
      ]
    },
    {
      "cell_type": "code",
      "metadata": {
        "id": "6SW79_txoyCb",
        "outputId": "9b7a27b2-9f8b-4b4e-d30b-f90a895495c4",
        "colab": {
          "base_uri": "https://localhost:8080/",
          "height": 102
        }
      },
      "source": [
        "# Generate 5X5 matrix of Random float numbers between 10 to 20\n",
        "np.random.uniform(10,20, size=(5,5))"
      ],
      "execution_count": 221,
      "outputs": [
        {
          "output_type": "execute_result",
          "data": {
            "text/plain": [
              "array([[13.42029574, 12.55531469, 12.32678496, 17.61116921, 19.43450384],\n",
              "       [14.77820256, 10.30843665, 15.92119504, 13.36773203, 15.04141144],\n",
              "       [10.23746007, 13.11636371, 18.57556494, 14.05956796, 15.75889026],\n",
              "       [16.91157062, 18.6385074 , 18.33513445, 17.68023158, 12.86670296],\n",
              "       [13.05824431, 18.25903961, 15.70742116, 12.48130321, 10.12546232]])"
            ]
          },
          "metadata": {
            "tags": []
          },
          "execution_count": 221
        }
      ]
    },
    {
      "cell_type": "code",
      "metadata": {
        "id": "fPtpiCex0ch2",
        "outputId": "ac4542b8-07eb-446e-daf3-80ff4385ffd3",
        "colab": {
          "base_uri": "https://localhost:8080/",
          "height": 85
        }
      },
      "source": [
        "A"
      ],
      "execution_count": 222,
      "outputs": [
        {
          "output_type": "execute_result",
          "data": {
            "text/plain": [
              "array([[ 1,  2,  3,  4],\n",
              "       [ 5,  6,  7,  8],\n",
              "       [10, 11, 12, 13],\n",
              "       [14, 15, 16, 17]])"
            ]
          },
          "metadata": {
            "tags": []
          },
          "execution_count": 222
        }
      ]
    },
    {
      "cell_type": "code",
      "metadata": {
        "id": "5YcgJG3B3Et_",
        "outputId": "0127319a-acfa-4656-d248-05fc6f59f149",
        "colab": {
          "base_uri": "https://localhost:8080/",
          "height": 34
        }
      },
      "source": [
        "# Collapse Matrix into one dimension array\n",
        "A.flatten()"
      ],
      "execution_count": 223,
      "outputs": [
        {
          "output_type": "execute_result",
          "data": {
            "text/plain": [
              "array([ 1,  2,  3,  4,  5,  6,  7,  8, 10, 11, 12, 13, 14, 15, 16, 17])"
            ]
          },
          "metadata": {
            "tags": []
          },
          "execution_count": 223
        }
      ]
    },
    {
      "cell_type": "code",
      "metadata": {
        "id": "TeaYPMUf3HXa",
        "outputId": "5d441c35-d89a-4eba-f501-0d070cbefdc5",
        "colab": {
          "base_uri": "https://localhost:8080/",
          "height": 34
        }
      },
      "source": [
        "# Collapse Matrix into one dimension array\n",
        "A.ravel()"
      ],
      "execution_count": 224,
      "outputs": [
        {
          "output_type": "execute_result",
          "data": {
            "text/plain": [
              "array([ 1,  2,  3,  4,  5,  6,  7,  8, 10, 11, 12, 13, 14, 15, 16, 17])"
            ]
          },
          "metadata": {
            "tags": []
          },
          "execution_count": 224
        }
      ]
    },
    {
      "cell_type": "code",
      "metadata": {
        "id": "wn9VVFJS3LQZ",
        "outputId": "432a8092-b096-49ce-de85-791adc0ca166",
        "colab": {
          "base_uri": "https://localhost:8080/",
          "height": 85
        }
      },
      "source": [
        "A"
      ],
      "execution_count": 225,
      "outputs": [
        {
          "output_type": "execute_result",
          "data": {
            "text/plain": [
              "array([[ 1,  2,  3,  4],\n",
              "       [ 5,  6,  7,  8],\n",
              "       [10, 11, 12, 13],\n",
              "       [14, 15, 16, 17]])"
            ]
          },
          "metadata": {
            "tags": []
          },
          "execution_count": 225
        }
      ]
    },
    {
      "cell_type": "code",
      "metadata": {
        "id": "mZecGr6W3NfN",
        "outputId": "1e7944a6-52d3-4886-a220-5ffe9176d0f9",
        "colab": {
          "base_uri": "https://localhost:8080/",
          "height": 34
        }
      },
      "source": [
        "# Fetch first row of matrix\n",
        "A[0,]"
      ],
      "execution_count": 226,
      "outputs": [
        {
          "output_type": "execute_result",
          "data": {
            "text/plain": [
              "array([1, 2, 3, 4])"
            ]
          },
          "metadata": {
            "tags": []
          },
          "execution_count": 226
        }
      ]
    },
    {
      "cell_type": "code",
      "metadata": {
        "id": "mekf2rjQ3P6d",
        "outputId": "9342f821-a1f8-45c5-e63f-abd2e4568ec1",
        "colab": {
          "base_uri": "https://localhost:8080/",
          "height": 34
        }
      },
      "source": [
        "# Fetch first column of matrix\n",
        "A[:,0]"
      ],
      "execution_count": 227,
      "outputs": [
        {
          "output_type": "execute_result",
          "data": {
            "text/plain": [
              "array([ 1,  5, 10, 14])"
            ]
          },
          "metadata": {
            "tags": []
          },
          "execution_count": 227
        }
      ]
    },
    {
      "cell_type": "code",
      "metadata": {
        "id": "sVWXDQnY3TGo",
        "outputId": "35a7c1ca-ea32-48a2-95c0-accba3782fdc",
        "colab": {
          "base_uri": "https://localhost:8080/",
          "height": 51
        }
      },
      "source": [
        "A[1:3 , 1:3]"
      ],
      "execution_count": 228,
      "outputs": [
        {
          "output_type": "execute_result",
          "data": {
            "text/plain": [
              "array([[ 6,  7],\n",
              "       [11, 12]])"
            ]
          },
          "metadata": {
            "tags": []
          },
          "execution_count": 228
        }
      ]
    },
    {
      "cell_type": "code",
      "metadata": {
        "id": "LjDKIvKW3VOq",
        "outputId": "a815cf2d-93e0-4f44-b137-e7d460763b6e",
        "colab": {
          "base_uri": "https://localhost:8080/",
          "height": 85
        }
      },
      "source": [
        "arr = np.arange(16).reshape(4,4)\n",
        "arr"
      ],
      "execution_count": 229,
      "outputs": [
        {
          "output_type": "execute_result",
          "data": {
            "text/plain": [
              "array([[ 0,  1,  2,  3],\n",
              "       [ 4,  5,  6,  7],\n",
              "       [ 8,  9, 10, 11],\n",
              "       [12, 13, 14, 15]])"
            ]
          },
          "metadata": {
            "tags": []
          },
          "execution_count": 229
        }
      ]
    },
    {
      "cell_type": "code",
      "metadata": {
        "id": "7lYWtSw33y_u",
        "outputId": "1431d441-21d8-4920-deda-c888c634f0c7",
        "colab": {
          "base_uri": "https://localhost:8080/",
          "height": 85
        }
      },
      "source": [
        "# Reverse rows\n",
        "arr[::-1]"
      ],
      "execution_count": 230,
      "outputs": [
        {
          "output_type": "execute_result",
          "data": {
            "text/plain": [
              "array([[12, 13, 14, 15],\n",
              "       [ 8,  9, 10, 11],\n",
              "       [ 4,  5,  6,  7],\n",
              "       [ 0,  1,  2,  3]])"
            ]
          },
          "metadata": {
            "tags": []
          },
          "execution_count": 230
        }
      ]
    },
    {
      "cell_type": "code",
      "metadata": {
        "id": "BgVqfsd731Nv",
        "outputId": "96792388-5290-4643-be60-d5375acb2ed9",
        "colab": {
          "base_uri": "https://localhost:8080/",
          "height": 85
        }
      },
      "source": [
        "#Reverse Columns\n",
        "arr[:, ::-1]"
      ],
      "execution_count": 231,
      "outputs": [
        {
          "output_type": "execute_result",
          "data": {
            "text/plain": [
              "array([[ 3,  2,  1,  0],\n",
              "       [ 7,  6,  5,  4],\n",
              "       [11, 10,  9,  8],\n",
              "       [15, 14, 13, 12]])"
            ]
          },
          "metadata": {
            "tags": []
          },
          "execution_count": 231
        }
      ]
    },
    {
      "cell_type": "code",
      "metadata": {
        "id": "gM2Ko-Ri33OT",
        "outputId": "c13ccf9d-6f9b-45df-e6d3-55e5a1398506",
        "colab": {
          "base_uri": "https://localhost:8080/",
          "height": 85
        }
      },
      "source": [
        "m1 = np.arange(0,16).reshape(4,4)\n",
        "m1"
      ],
      "execution_count": 232,
      "outputs": [
        {
          "output_type": "execute_result",
          "data": {
            "text/plain": [
              "array([[ 0,  1,  2,  3],\n",
              "       [ 4,  5,  6,  7],\n",
              "       [ 8,  9, 10, 11],\n",
              "       [12, 13, 14, 15]])"
            ]
          },
          "metadata": {
            "tags": []
          },
          "execution_count": 232
        }
      ]
    },
    {
      "cell_type": "code",
      "metadata": {
        "id": "gJVqa0wM36mw",
        "outputId": "46854817-d713-41e5-fbb4-608366a3468f",
        "colab": {
          "base_uri": "https://localhost:8080/",
          "height": 85
        }
      },
      "source": [
        "# SWAP rows 0 & 1\n",
        "m1[[0,1]] = m1[[1,0]]\n",
        "m1\n"
      ],
      "execution_count": 233,
      "outputs": [
        {
          "output_type": "execute_result",
          "data": {
            "text/plain": [
              "array([[ 4,  5,  6,  7],\n",
              "       [ 0,  1,  2,  3],\n",
              "       [ 8,  9, 10, 11],\n",
              "       [12, 13, 14, 15]])"
            ]
          },
          "metadata": {
            "tags": []
          },
          "execution_count": 233
        }
      ]
    },
    {
      "cell_type": "code",
      "metadata": {
        "id": "IFZUGQvU39pI",
        "outputId": "1aefa99c-4118-49d1-d0bb-0cd2cfef1046",
        "colab": {
          "base_uri": "https://localhost:8080/",
          "height": 85
        }
      },
      "source": [
        "# SWAP rows 2 & 3\n",
        "m1[[3,2]] = m1[[2,3]]\n",
        "m1\n"
      ],
      "execution_count": 234,
      "outputs": [
        {
          "output_type": "execute_result",
          "data": {
            "text/plain": [
              "array([[ 4,  5,  6,  7],\n",
              "       [ 0,  1,  2,  3],\n",
              "       [12, 13, 14, 15],\n",
              "       [ 8,  9, 10, 11]])"
            ]
          },
          "metadata": {
            "tags": []
          },
          "execution_count": 234
        }
      ]
    },
    {
      "cell_type": "code",
      "metadata": {
        "id": "4XBsW24j4J2E",
        "outputId": "d44a0fae-6886-4044-f7cd-6bd4d9954bb3",
        "colab": {
          "base_uri": "https://localhost:8080/",
          "height": 119
        }
      },
      "source": [
        "m2 = np.arange(0,36).reshape(6,6)\n",
        "m2"
      ],
      "execution_count": 235,
      "outputs": [
        {
          "output_type": "execute_result",
          "data": {
            "text/plain": [
              "array([[ 0,  1,  2,  3,  4,  5],\n",
              "       [ 6,  7,  8,  9, 10, 11],\n",
              "       [12, 13, 14, 15, 16, 17],\n",
              "       [18, 19, 20, 21, 22, 23],\n",
              "       [24, 25, 26, 27, 28, 29],\n",
              "       [30, 31, 32, 33, 34, 35]])"
            ]
          },
          "metadata": {
            "tags": []
          },
          "execution_count": 235
        }
      ]
    },
    {
      "cell_type": "code",
      "metadata": {
        "id": "kRQx9DTV4N-w",
        "outputId": "65d76ff7-02c8-4427-c368-4257ed23a37e",
        "colab": {
          "base_uri": "https://localhost:8080/",
          "height": 119
        }
      },
      "source": [
        "# Swap columns 0 & 1\n",
        "m2[:,[0, 1]] = m2[:,[1, 0]]\n",
        "m2"
      ],
      "execution_count": 236,
      "outputs": [
        {
          "output_type": "execute_result",
          "data": {
            "text/plain": [
              "array([[ 1,  0,  2,  3,  4,  5],\n",
              "       [ 7,  6,  8,  9, 10, 11],\n",
              "       [13, 12, 14, 15, 16, 17],\n",
              "       [19, 18, 20, 21, 22, 23],\n",
              "       [25, 24, 26, 27, 28, 29],\n",
              "       [31, 30, 32, 33, 34, 35]])"
            ]
          },
          "metadata": {
            "tags": []
          },
          "execution_count": 236
        }
      ]
    },
    {
      "cell_type": "code",
      "metadata": {
        "id": "tg4EHyku4QBf",
        "outputId": "60bb25e9-9231-4ce9-9fc6-45802c6e0b12",
        "colab": {
          "base_uri": "https://localhost:8080/",
          "height": 119
        }
      },
      "source": [
        "# Swap columns 2 & 3\n",
        "m2[:,[2, 3]] = m2[:,[3, 2]]\n",
        "m2"
      ],
      "execution_count": 237,
      "outputs": [
        {
          "output_type": "execute_result",
          "data": {
            "text/plain": [
              "array([[ 1,  0,  3,  2,  4,  5],\n",
              "       [ 7,  6,  9,  8, 10, 11],\n",
              "       [13, 12, 15, 14, 16, 17],\n",
              "       [19, 18, 21, 20, 22, 23],\n",
              "       [25, 24, 27, 26, 28, 29],\n",
              "       [31, 30, 33, 32, 34, 35]])"
            ]
          },
          "metadata": {
            "tags": []
          },
          "execution_count": 237
        }
      ]
    },
    {
      "cell_type": "code",
      "metadata": {
        "id": "vxL3CrWh4Svn",
        "outputId": "ab97ab8d-ebed-439f-c1b4-3b351bf93ac8",
        "colab": {
          "base_uri": "https://localhost:8080/",
          "height": 102
        }
      },
      "source": [
        "A = np.array([[1,2] , [3,4] ,[5,6]])\n",
        "B = np.array([[1,1] , [1,1]])\n",
        "C = np.concatenate((A,B))\n",
        "C"
      ],
      "execution_count": 238,
      "outputs": [
        {
          "output_type": "execute_result",
          "data": {
            "text/plain": [
              "array([[1, 2],\n",
              "       [3, 4],\n",
              "       [5, 6],\n",
              "       [1, 1],\n",
              "       [1, 1]])"
            ]
          },
          "metadata": {
            "tags": []
          },
          "execution_count": 238
        }
      ]
    },
    {
      "cell_type": "code",
      "metadata": {
        "id": "vFssLrxV4XOv",
        "outputId": "5f18836a-bf32-4c8c-b96a-48716ab0c8ff",
        "colab": {
          "base_uri": "https://localhost:8080/",
          "height": 357
        }
      },
      "source": [
        "#********************************************************#\n",
        "M = np.array([[1,2,3],[4,-3,6],[7,8,0]])\n",
        "N = np.array([[1,1,1],[2,2,2],[3,3,3]])\n",
        "\n",
        "print(\"\\n First Matrix (M)  ==>  \\n\", M)\n",
        "print(\"\\n Second Matrix (N)  ==>  \\n\", N)\n",
        "\n",
        "C = M+N\n",
        "print(\"\\n Matrix Addition (M+N)  ==>  \\n\", C)\n",
        "\n",
        "# OR\n",
        "\n",
        "C = np.add(M,N,dtype = np.float64)\n",
        "print(\"\\n Matrix Addition using np.add  ==>  \\n\", C)\n",
        "\n",
        "#********************************************************#\n"
      ],
      "execution_count": 239,
      "outputs": [
        {
          "output_type": "stream",
          "text": [
            "\n",
            " First Matrix (M)  ==>  \n",
            " [[ 1  2  3]\n",
            " [ 4 -3  6]\n",
            " [ 7  8  0]]\n",
            "\n",
            " Second Matrix (N)  ==>  \n",
            " [[1 1 1]\n",
            " [2 2 2]\n",
            " [3 3 3]]\n",
            "\n",
            " Matrix Addition (M+N)  ==>  \n",
            " [[ 2  3  4]\n",
            " [ 6 -1  8]\n",
            " [10 11  3]]\n",
            "\n",
            " Matrix Addition using np.add  ==>  \n",
            " [[ 2.  3.  4.]\n",
            " [ 6. -1.  8.]\n",
            " [10. 11.  3.]]\n"
          ],
          "name": "stdout"
        }
      ]
    },
    {
      "cell_type": "code",
      "metadata": {
        "id": "kiTbYKaF4ats",
        "outputId": "f1316ef7-e402-486b-b94e-5cac63153442",
        "colab": {
          "base_uri": "https://localhost:8080/",
          "height": 357
        }
      },
      "source": [
        "#********************************************************#\n",
        "M = np.array([[1,2,3],[4,-3,6],[7,8,0]])\n",
        "N = np.array([[1,1,1],[2,2,2],[3,3,3]])\n",
        "\n",
        "print(\"\\n First Matrix (M)  ==>  \\n\", M)\n",
        "print(\"\\n Second Matrix (N)  ==>  \\n\", N)\n",
        "\n",
        "C = M-N\n",
        "print(\"\\n Matrix Subtraction (M-N)  ==>  \\n\", C)\n",
        "\n",
        "# OR\n",
        "\n",
        "C = np.subtract(M,N,dtype = np.float64)\n",
        "print(\"\\n Matrix Subtraction using np.subtract  ==>  \\n\", C)\n",
        "\n",
        "#********************************************************#\n"
      ],
      "execution_count": 240,
      "outputs": [
        {
          "output_type": "stream",
          "text": [
            "\n",
            " First Matrix (M)  ==>  \n",
            " [[ 1  2  3]\n",
            " [ 4 -3  6]\n",
            " [ 7  8  0]]\n",
            "\n",
            " Second Matrix (N)  ==>  \n",
            " [[1 1 1]\n",
            " [2 2 2]\n",
            " [3 3 3]]\n",
            "\n",
            " Matrix Subtraction (M-N)  ==>  \n",
            " [[ 0  1  2]\n",
            " [ 2 -5  4]\n",
            " [ 4  5 -3]]\n",
            "\n",
            " Matrix Subtraction using np.subtract  ==>  \n",
            " [[ 0.  1.  2.]\n",
            " [ 2. -5.  4.]\n",
            " [ 4.  5. -3.]]\n"
          ],
          "name": "stdout"
        }
      ]
    },
    {
      "cell_type": "code",
      "metadata": {
        "id": "Ytx5d_3O4fpB",
        "outputId": "24154099-1dc5-49e7-9a5c-d9624fa6c7f3",
        "colab": {
          "base_uri": "https://localhost:8080/",
          "height": 272
        }
      },
      "source": [
        "M = np.array([[1,2,3],[4,-3,6],[7,8,0]])\n",
        "\n",
        "C = 10\n",
        "\n",
        "print(\"\\n Matrix (M)  ==>  \\n\", M)\n",
        "\n",
        "print(\"\\nMatrices Scalar Multiplication ==>  \\n\", C*M)\n",
        "\n",
        "# OR\n",
        "\n",
        "print(\"\\nMatrices Scalar Multiplication ==>  \\n\", np.multiply(C,M))\n"
      ],
      "execution_count": 241,
      "outputs": [
        {
          "output_type": "stream",
          "text": [
            "\n",
            " Matrix (M)  ==>  \n",
            " [[ 1  2  3]\n",
            " [ 4 -3  6]\n",
            " [ 7  8  0]]\n",
            "\n",
            "Matrices Scalar Multiplication ==>  \n",
            " [[ 10  20  30]\n",
            " [ 40 -30  60]\n",
            " [ 70  80   0]]\n",
            "\n",
            "Matrices Scalar Multiplication ==>  \n",
            " [[ 10  20  30]\n",
            " [ 40 -30  60]\n",
            " [ 70  80   0]]\n"
          ],
          "name": "stdout"
        }
      ]
    },
    {
      "cell_type": "code",
      "metadata": {
        "id": "HQTm31yd4kZt",
        "outputId": "601c66a2-385c-4e35-c99d-c486c2b921bb",
        "colab": {
          "base_uri": "https://localhost:8080/",
          "height": 272
        }
      },
      "source": [
        "M = np.array([[1,2,3],[4,-3,6],[7,8,0]])\n",
        "\n",
        "print(\"\\n Matrix (M)  ==>  \\n\", M)\n",
        "\n",
        "print(\"\\nTranspose of M ==>  \\n\", np.transpose(M))\n",
        "\n",
        "# OR\n",
        "\n",
        "print(\"\\nTranspose of M ==>  \\n\", M.T)\n"
      ],
      "execution_count": 242,
      "outputs": [
        {
          "output_type": "stream",
          "text": [
            "\n",
            " Matrix (M)  ==>  \n",
            " [[ 1  2  3]\n",
            " [ 4 -3  6]\n",
            " [ 7  8  0]]\n",
            "\n",
            "Transpose of M ==>  \n",
            " [[ 1  4  7]\n",
            " [ 2 -3  8]\n",
            " [ 3  6  0]]\n",
            "\n",
            "Transpose of M ==>  \n",
            " [[ 1  4  7]\n",
            " [ 2 -3  8]\n",
            " [ 3  6  0]]\n"
          ],
          "name": "stdout"
        }
      ]
    },
    {
      "cell_type": "code",
      "metadata": {
        "id": "gNL24f9Q4oLz",
        "outputId": "462c52af-e11c-404b-bb3b-30a437e760ec",
        "colab": {
          "base_uri": "https://localhost:8080/",
          "height": 136
        }
      },
      "source": [
        "M = np.array([[1,2,3],[4,-3,6],[7,8,0]])\n",
        "\n",
        "print(\"\\n Matrix (M)  ==>  \\n\", M)\n",
        "\n",
        "print(\"\\nDeterminant of M ==>  \", np.linalg.det(M))\n"
      ],
      "execution_count": 243,
      "outputs": [
        {
          "output_type": "stream",
          "text": [
            "\n",
            " Matrix (M)  ==>  \n",
            " [[ 1  2  3]\n",
            " [ 4 -3  6]\n",
            " [ 7  8  0]]\n",
            "\n",
            "Determinant of M ==>   195.0\n"
          ],
          "name": "stdout"
        }
      ]
    },
    {
      "cell_type": "code",
      "metadata": {
        "id": "qG0QkDQb4r1B",
        "outputId": "21f28503-379e-4a6c-fdf8-2f1c4b512c64",
        "colab": {
          "base_uri": "https://localhost:8080/",
          "height": 136
        }
      },
      "source": [
        "M = np.array([[1,2,3],[4,-3,6],[7,8,0]])\n",
        "\n",
        "print(\"\\n Matrix (M)  ==>  \\n\", M)\n",
        "\n",
        "print(\"\\nRank of M ==> \", np.linalg.matrix_rank(M))\n"
      ],
      "execution_count": 244,
      "outputs": [
        {
          "output_type": "stream",
          "text": [
            "\n",
            " Matrix (M)  ==>  \n",
            " [[ 1  2  3]\n",
            " [ 4 -3  6]\n",
            " [ 7  8  0]]\n",
            "\n",
            "Rank of M ==>  3\n"
          ],
          "name": "stdout"
        }
      ]
    },
    {
      "cell_type": "code",
      "metadata": {
        "id": "OnyGiCEs4uR9",
        "outputId": "8ad09cb2-de2a-407c-a467-0f1d346c5648",
        "colab": {
          "base_uri": "https://localhost:8080/",
          "height": 136
        }
      },
      "source": [
        "M = np.array([[1,2,3],[4,-3,6],[7,8,0]])\n",
        "\n",
        "print(\"\\n Matrix (M)  ==>  \\n\", M)\n",
        "\n",
        "print(\"\\nTrace of M ==> \", np.trace(M))\n"
      ],
      "execution_count": 245,
      "outputs": [
        {
          "output_type": "stream",
          "text": [
            "\n",
            " Matrix (M)  ==>  \n",
            " [[ 1  2  3]\n",
            " [ 4 -3  6]\n",
            " [ 7  8  0]]\n",
            "\n",
            "Trace of M ==>  -2\n"
          ],
          "name": "stdout"
        }
      ]
    },
    {
      "cell_type": "code",
      "metadata": {
        "id": "BXsLTbaK4x3_",
        "outputId": "80cb4c8c-33d9-4a96-eef6-3a73f13e078a",
        "colab": {
          "base_uri": "https://localhost:8080/",
          "height": 187
        }
      },
      "source": [
        "M = np.array([[1,2,3],[4,-3,6],[7,8,0]])\n",
        "\n",
        "print(\"\\n Matrix (M)  ==>  \\n\", M)\n",
        "\n",
        "print(\"\\nInverse of M ==> \\n\", np.linalg.inv(M))\n"
      ],
      "execution_count": 246,
      "outputs": [
        {
          "output_type": "stream",
          "text": [
            "\n",
            " Matrix (M)  ==>  \n",
            " [[ 1  2  3]\n",
            " [ 4 -3  6]\n",
            " [ 7  8  0]]\n",
            "\n",
            "Inverse of M ==> \n",
            " [[-0.24615385  0.12307692  0.10769231]\n",
            " [ 0.21538462 -0.10769231  0.03076923]\n",
            " [ 0.27179487  0.03076923 -0.05641026]]\n"
          ],
          "name": "stdout"
        }
      ]
    },
    {
      "cell_type": "code",
      "metadata": {
        "id": "qmd8cCrd41t2",
        "outputId": "71d89a64-5693-4868-eb1b-7dcc23eace88",
        "colab": {
          "base_uri": "https://localhost:8080/",
          "height": 357
        }
      },
      "source": [
        "M = np.array([[1,2,3],[4,-3,6],[7,8,0]])\n",
        "N = np.array([[1,1,1],[2,2,2],[3,3,3]])\n",
        "\n",
        "print(\"\\n First Matrix (M)  ==>  \\n\", M)\n",
        "print(\"\\n Second Matrix (N)  ==>  \\n\", N)\n",
        "\n",
        "print(\"\\n Point-Wise Multiplication of M & N  ==> \\n\", M*N)\n",
        "\n",
        "# OR\n",
        "\n",
        "print(\"\\n Point-Wise Multiplication of M & N  ==> \\n\", np.multiply(M,N))\n"
      ],
      "execution_count": 247,
      "outputs": [
        {
          "output_type": "stream",
          "text": [
            "\n",
            " First Matrix (M)  ==>  \n",
            " [[ 1  2  3]\n",
            " [ 4 -3  6]\n",
            " [ 7  8  0]]\n",
            "\n",
            " Second Matrix (N)  ==>  \n",
            " [[1 1 1]\n",
            " [2 2 2]\n",
            " [3 3 3]]\n",
            "\n",
            " Point-Wise Multiplication of M & N  ==> \n",
            " [[ 1  2  3]\n",
            " [ 8 -6 12]\n",
            " [21 24  0]]\n",
            "\n",
            " Point-Wise Multiplication of M & N  ==> \n",
            " [[ 1  2  3]\n",
            " [ 8 -6 12]\n",
            " [21 24  0]]\n"
          ],
          "name": "stdout"
        }
      ]
    },
    {
      "cell_type": "code",
      "metadata": {
        "id": "TaFC70wf45OW",
        "outputId": "84a92870-6855-47d7-d264-c79eb640120b",
        "colab": {
          "base_uri": "https://localhost:8080/",
          "height": 442
        }
      },
      "source": [
        "M = np.array([[1,2,3],[4,-3,6],[7,8,0]])\n",
        "N = np.array([[1,1,1],[2,2,2],[3,3,3]])\n",
        "\n",
        "print(\"\\n First Matrix (M)  ==>  \\n\", M)\n",
        "print(\"\\n Second Matrix (N)  ==>  \\n\", N)\n",
        "\n",
        "print(\"\\n Matrix Dot Product ==> \\n\", M@N)\n",
        "\n",
        "# OR\n",
        "\n",
        "print(\"\\n Matrix Dot Product using np.matmul ==> \\n\", np.matmul(M,N))\n",
        "\n",
        "# OR\n",
        "\n",
        "print(\"\\n Matrix Dot Product using np.dot ==> \\n\", np.dot(M,N))\n"
      ],
      "execution_count": 248,
      "outputs": [
        {
          "output_type": "stream",
          "text": [
            "\n",
            " First Matrix (M)  ==>  \n",
            " [[ 1  2  3]\n",
            " [ 4 -3  6]\n",
            " [ 7  8  0]]\n",
            "\n",
            " Second Matrix (N)  ==>  \n",
            " [[1 1 1]\n",
            " [2 2 2]\n",
            " [3 3 3]]\n",
            "\n",
            " Matrix Dot Product ==> \n",
            " [[14 14 14]\n",
            " [16 16 16]\n",
            " [23 23 23]]\n",
            "\n",
            " Matrix Dot Product using np.matmul ==> \n",
            " [[14 14 14]\n",
            " [16 16 16]\n",
            " [23 23 23]]\n",
            "\n",
            " Matrix Dot Product using np.dot ==> \n",
            " [[14 14 14]\n",
            " [16 16 16]\n",
            " [23 23 23]]\n"
          ],
          "name": "stdout"
        }
      ]
    },
    {
      "cell_type": "code",
      "metadata": {
        "id": "wR0SEDcD489C",
        "outputId": "7f7dc296-3a83-4d7c-ed02-dcb0e3e7f15c",
        "colab": {
          "base_uri": "https://localhost:8080/",
          "height": 357
        }
      },
      "source": [
        "M = np.array([[1,2,3],[4,-3,6],[7,8,0]])\n",
        "N = np.array([[1,1,1],[2,2,2],[3,3,3]])\n",
        "\n",
        "print(\"\\n First Matrix (M)  ==>  \\n\", M)\n",
        "print(\"\\n Second Matrix (N)  ==>  \\n\", N)\n",
        "\n",
        "\n",
        "print(\"\\n Matrix Division (M/N)   ==> \\n\", M/N)\n",
        "\n",
        "# OR\n",
        "\n",
        "print(\"\\n Matrix Division (M/N)   ==> \\n\", np.divide(M,N))\n"
      ],
      "execution_count": 249,
      "outputs": [
        {
          "output_type": "stream",
          "text": [
            "\n",
            " First Matrix (M)  ==>  \n",
            " [[ 1  2  3]\n",
            " [ 4 -3  6]\n",
            " [ 7  8  0]]\n",
            "\n",
            " Second Matrix (N)  ==>  \n",
            " [[1 1 1]\n",
            " [2 2 2]\n",
            " [3 3 3]]\n",
            "\n",
            " Matrix Division (M/N)   ==> \n",
            " [[ 1.          2.          3.        ]\n",
            " [ 2.         -1.5         3.        ]\n",
            " [ 2.33333333  2.66666667  0.        ]]\n",
            "\n",
            " Matrix Division (M/N)   ==> \n",
            " [[ 1.          2.          3.        ]\n",
            " [ 2.         -1.5         3.        ]\n",
            " [ 2.33333333  2.66666667  0.        ]]\n"
          ],
          "name": "stdout"
        }
      ]
    },
    {
      "cell_type": "code",
      "metadata": {
        "id": "FrDi0OZz5Abj",
        "outputId": "f18aa1d2-e19e-4dda-de50-e4d926888344",
        "colab": {
          "base_uri": "https://localhost:8080/",
          "height": 136
        }
      },
      "source": [
        "N = np.array([[1,1,1],[2,2,2],[3,3,3]])\n",
        "\n",
        "print(\"\\n Matrix (N)  ==>  \\n\", N)\n",
        "\n",
        "\n",
        "print (\"Sum of all elements in a Matrix  ==>\")\n",
        "print (np.sum(N))\n"
      ],
      "execution_count": 250,
      "outputs": [
        {
          "output_type": "stream",
          "text": [
            "\n",
            " Matrix (N)  ==>  \n",
            " [[1 1 1]\n",
            " [2 2 2]\n",
            " [3 3 3]]\n",
            "Sum of all elements in a Matrix  ==>\n",
            "18\n"
          ],
          "name": "stdout"
        }
      ]
    },
    {
      "cell_type": "code",
      "metadata": {
        "id": "feXk04GY5Esb",
        "outputId": "e95fc9cb-fff3-40e1-cfbb-43369e23baae",
        "colab": {
          "base_uri": "https://localhost:8080/",
          "height": 136
        }
      },
      "source": [
        "N = np.array([[1,1,1],[2,2,2],[3,3,3]])\n",
        "\n",
        "print(\"\\n Matrix (N)  ==>  \\n\", N)\n",
        "\n",
        "print (\"Column-Wise summation ==> \")\n",
        "print (np.sum(N,axis=0))\n"
      ],
      "execution_count": 251,
      "outputs": [
        {
          "output_type": "stream",
          "text": [
            "\n",
            " Matrix (N)  ==>  \n",
            " [[1 1 1]\n",
            " [2 2 2]\n",
            " [3 3 3]]\n",
            "Column-Wise summation ==> \n",
            "[6 6 6]\n"
          ],
          "name": "stdout"
        }
      ]
    },
    {
      "cell_type": "code",
      "metadata": {
        "id": "OyCUUkkl5Hf6",
        "outputId": "07e1a487-c22d-4c4d-8f11-c55546bca268",
        "colab": {
          "base_uri": "https://localhost:8080/",
          "height": 136
        }
      },
      "source": [
        "N = np.array([[1,1,1],[2,2,2],[3,3,3]])\n",
        "\n",
        "print(\"\\n Matrix (N)  ==>  \\n\", N)\n",
        "\n",
        "print (\"Row-Wise summation  ==>\")\n",
        "print (np.sum(N,axis=1))\n"
      ],
      "execution_count": 252,
      "outputs": [
        {
          "output_type": "stream",
          "text": [
            "\n",
            " Matrix (N)  ==>  \n",
            " [[1 1 1]\n",
            " [2 2 2]\n",
            " [3 3 3]]\n",
            "Row-Wise summation  ==>\n",
            "[3 6 9]\n"
          ],
          "name": "stdout"
        }
      ]
    },
    {
      "cell_type": "code",
      "metadata": {
        "id": "DFrIOGm_5Kmp",
        "outputId": "1cb5aafd-ead3-45c7-84d4-fb5a69378c18",
        "colab": {
          "base_uri": "https://localhost:8080/",
          "height": 51
        }
      },
      "source": [
        "M1 = np.array([[1,2,3] , [4,5,6]]) \n",
        "M1\n"
      ],
      "execution_count": 253,
      "outputs": [
        {
          "output_type": "execute_result",
          "data": {
            "text/plain": [
              "array([[1, 2, 3],\n",
              "       [4, 5, 6]])"
            ]
          },
          "metadata": {
            "tags": []
          },
          "execution_count": 253
        }
      ]
    },
    {
      "cell_type": "code",
      "metadata": {
        "id": "gY2gCuR55Nze",
        "outputId": "7be2f0ff-9b45-4b60-890e-7cd333ce99bb",
        "colab": {
          "base_uri": "https://localhost:8080/",
          "height": 51
        }
      },
      "source": [
        "M2 = np.array([[10,10,10],[10,10,10]])\n",
        "M2\n"
      ],
      "execution_count": 254,
      "outputs": [
        {
          "output_type": "execute_result",
          "data": {
            "text/plain": [
              "array([[10, 10, 10],\n",
              "       [10, 10, 10]])"
            ]
          },
          "metadata": {
            "tags": []
          },
          "execution_count": 254
        }
      ]
    },
    {
      "cell_type": "code",
      "metadata": {
        "id": "vo2sjL_m5PvE",
        "outputId": "ece44114-5217-4909-8c01-fcac9a53b554",
        "colab": {
          "base_uri": "https://localhost:8080/",
          "height": 85
        }
      },
      "source": [
        "np.kron(M1,M2)\n"
      ],
      "execution_count": 255,
      "outputs": [
        {
          "output_type": "execute_result",
          "data": {
            "text/plain": [
              "array([[10, 10, 10, 20, 20, 20, 30, 30, 30],\n",
              "       [10, 10, 10, 20, 20, 20, 30, 30, 30],\n",
              "       [40, 40, 40, 50, 50, 50, 60, 60, 60],\n",
              "       [40, 40, 40, 50, 50, 50, 60, 60, 60]])"
            ]
          },
          "metadata": {
            "tags": []
          },
          "execution_count": 255
        }
      ]
    },
    {
      "cell_type": "code",
      "metadata": {
        "id": "CfhRhRgM5RSD",
        "outputId": "2f8a2873-26a9-49ce-973a-f20fb0bbb9a5",
        "colab": {
          "base_uri": "https://localhost:8080/",
          "height": 51
        }
      },
      "source": [
        "M1 = np.array([[1,2],[4,5]])\n",
        "M1\n"
      ],
      "execution_count": 256,
      "outputs": [
        {
          "output_type": "execute_result",
          "data": {
            "text/plain": [
              "array([[1, 2],\n",
              "       [4, 5]])"
            ]
          },
          "metadata": {
            "tags": []
          },
          "execution_count": 256
        }
      ]
    },
    {
      "cell_type": "code",
      "metadata": {
        "id": "ns8CJkZf5Uxp",
        "outputId": "ef4bbd27-307b-4abc-a60f-6f20254a42d3",
        "colab": {
          "base_uri": "https://localhost:8080/",
          "height": 51
        }
      },
      "source": [
        "#Matrix to the power 3\n",
        "\n",
        "M1@M1@M1\n"
      ],
      "execution_count": 257,
      "outputs": [
        {
          "output_type": "execute_result",
          "data": {
            "text/plain": [
              "array([[ 57,  78],\n",
              "       [156, 213]])"
            ]
          },
          "metadata": {
            "tags": []
          },
          "execution_count": 257
        }
      ]
    },
    {
      "cell_type": "code",
      "metadata": {
        "id": "mLFXzjP_5W0G",
        "outputId": "15ef9d3d-704d-4fdb-c8b3-209fbe5f18f2",
        "colab": {
          "base_uri": "https://localhost:8080/",
          "height": 51
        }
      },
      "source": [
        "#Matrix to the power 3\n",
        "\n",
        "np.linalg.matrix_power(M1,3)\n"
      ],
      "execution_count": 258,
      "outputs": [
        {
          "output_type": "execute_result",
          "data": {
            "text/plain": [
              "array([[ 57,  78],\n",
              "       [156, 213]])"
            ]
          },
          "metadata": {
            "tags": []
          },
          "execution_count": 258
        }
      ]
    },
    {
      "cell_type": "code",
      "metadata": {
        "id": "JL8Mdqft5ZL-",
        "outputId": "5f4985fa-6323-4c60-c23f-9c1dc68d8302",
        "colab": {
          "base_uri": "https://localhost:8080/",
          "height": 204
        }
      },
      "source": [
        "# Create Tensor\n",
        "\n",
        "T1 = np.array([\n",
        "  [[1,2,3],    [4,5,6],    [7,8,9]],\n",
        "  [[10,20,30], [40,50,60], [70,80,90]],\n",
        "  [[100,200,300], [400,500,600], [700,800,900]],\n",
        "  ])\n",
        "\n",
        "T1\n"
      ],
      "execution_count": 259,
      "outputs": [
        {
          "output_type": "execute_result",
          "data": {
            "text/plain": [
              "array([[[  1,   2,   3],\n",
              "        [  4,   5,   6],\n",
              "        [  7,   8,   9]],\n",
              "\n",
              "       [[ 10,  20,  30],\n",
              "        [ 40,  50,  60],\n",
              "        [ 70,  80,  90]],\n",
              "\n",
              "       [[100, 200, 300],\n",
              "        [400, 500, 600],\n",
              "        [700, 800, 900]]])"
            ]
          },
          "metadata": {
            "tags": []
          },
          "execution_count": 259
        }
      ]
    },
    {
      "cell_type": "code",
      "metadata": {
        "id": "GHmb9X3V5cn6",
        "outputId": "caeab4b8-ebc6-4ff1-961a-985cfdb19bdb",
        "colab": {
          "base_uri": "https://localhost:8080/",
          "height": 204
        }
      },
      "source": [
        "T2 = np.array([\n",
        "  [[0,0,0] , [0,0,0] , [0,0,0]],\n",
        "  [[1,1,1] , [1,1,1] , [1,1,1]],\n",
        "  [[2,2,2] , [2,2,2] , [2,2,2]]\n",
        "    \n",
        "])\n",
        "\n",
        "T2\n"
      ],
      "execution_count": 260,
      "outputs": [
        {
          "output_type": "execute_result",
          "data": {
            "text/plain": [
              "array([[[0, 0, 0],\n",
              "        [0, 0, 0],\n",
              "        [0, 0, 0]],\n",
              "\n",
              "       [[1, 1, 1],\n",
              "        [1, 1, 1],\n",
              "        [1, 1, 1]],\n",
              "\n",
              "       [[2, 2, 2],\n",
              "        [2, 2, 2],\n",
              "        [2, 2, 2]]])"
            ]
          },
          "metadata": {
            "tags": []
          },
          "execution_count": 260
        }
      ]
    },
    {
      "cell_type": "code",
      "metadata": {
        "id": "z_y_ozMv5erb",
        "outputId": "31a331eb-58fa-488c-e6c5-7a804a6f2eb4",
        "colab": {
          "base_uri": "https://localhost:8080/",
          "height": 204
        }
      },
      "source": [
        "A = T1+T2\n",
        "A\n"
      ],
      "execution_count": 261,
      "outputs": [
        {
          "output_type": "execute_result",
          "data": {
            "text/plain": [
              "array([[[  1,   2,   3],\n",
              "        [  4,   5,   6],\n",
              "        [  7,   8,   9]],\n",
              "\n",
              "       [[ 11,  21,  31],\n",
              "        [ 41,  51,  61],\n",
              "        [ 71,  81,  91]],\n",
              "\n",
              "       [[102, 202, 302],\n",
              "        [402, 502, 602],\n",
              "        [702, 802, 902]]])"
            ]
          },
          "metadata": {
            "tags": []
          },
          "execution_count": 261
        }
      ]
    },
    {
      "cell_type": "code",
      "metadata": {
        "id": "ze9zyaTY5h7E",
        "outputId": "a1d64428-f5d6-4c29-a85f-47fa9dfef8db",
        "colab": {
          "base_uri": "https://localhost:8080/",
          "height": 204
        }
      },
      "source": [
        "np.add(T1,T2)\n"
      ],
      "execution_count": 262,
      "outputs": [
        {
          "output_type": "execute_result",
          "data": {
            "text/plain": [
              "array([[[  1,   2,   3],\n",
              "        [  4,   5,   6],\n",
              "        [  7,   8,   9]],\n",
              "\n",
              "       [[ 11,  21,  31],\n",
              "        [ 41,  51,  61],\n",
              "        [ 71,  81,  91]],\n",
              "\n",
              "       [[102, 202, 302],\n",
              "        [402, 502, 602],\n",
              "        [702, 802, 902]]])"
            ]
          },
          "metadata": {
            "tags": []
          },
          "execution_count": 262
        }
      ]
    },
    {
      "cell_type": "code",
      "metadata": {
        "id": "lCzAV5BQ5kfP",
        "outputId": "082a8221-f85d-4508-8083-9697ece0c33a",
        "colab": {
          "base_uri": "https://localhost:8080/",
          "height": 204
        }
      },
      "source": [
        "S = T1-T2\n",
        "S\n"
      ],
      "execution_count": 263,
      "outputs": [
        {
          "output_type": "execute_result",
          "data": {
            "text/plain": [
              "array([[[  1,   2,   3],\n",
              "        [  4,   5,   6],\n",
              "        [  7,   8,   9]],\n",
              "\n",
              "       [[  9,  19,  29],\n",
              "        [ 39,  49,  59],\n",
              "        [ 69,  79,  89]],\n",
              "\n",
              "       [[ 98, 198, 298],\n",
              "        [398, 498, 598],\n",
              "        [698, 798, 898]]])"
            ]
          },
          "metadata": {
            "tags": []
          },
          "execution_count": 263
        }
      ]
    },
    {
      "cell_type": "code",
      "metadata": {
        "id": "8RnzacCg5m18",
        "outputId": "d92bc4e1-3fa5-4d9b-ce08-3a8eac1e170d",
        "colab": {
          "base_uri": "https://localhost:8080/",
          "height": 204
        }
      },
      "source": [
        "np.subtract(T1,T2)\n"
      ],
      "execution_count": 264,
      "outputs": [
        {
          "output_type": "execute_result",
          "data": {
            "text/plain": [
              "array([[[  1,   2,   3],\n",
              "        [  4,   5,   6],\n",
              "        [  7,   8,   9]],\n",
              "\n",
              "       [[  9,  19,  29],\n",
              "        [ 39,  49,  59],\n",
              "        [ 69,  79,  89]],\n",
              "\n",
              "       [[ 98, 198, 298],\n",
              "        [398, 498, 598],\n",
              "        [698, 798, 898]]])"
            ]
          },
          "metadata": {
            "tags": []
          },
          "execution_count": 264
        }
      ]
    },
    {
      "cell_type": "code",
      "metadata": {
        "id": "uAh0lrRn5pj3",
        "outputId": "2baffe39-defc-425d-f250-082f3874f5d5",
        "colab": {
          "base_uri": "https://localhost:8080/",
          "height": 204
        }
      },
      "source": [
        "P = T1*T2\n",
        "P\n"
      ],
      "execution_count": 265,
      "outputs": [
        {
          "output_type": "execute_result",
          "data": {
            "text/plain": [
              "array([[[   0,    0,    0],\n",
              "        [   0,    0,    0],\n",
              "        [   0,    0,    0]],\n",
              "\n",
              "       [[  10,   20,   30],\n",
              "        [  40,   50,   60],\n",
              "        [  70,   80,   90]],\n",
              "\n",
              "       [[ 200,  400,  600],\n",
              "        [ 800, 1000, 1200],\n",
              "        [1400, 1600, 1800]]])"
            ]
          },
          "metadata": {
            "tags": []
          },
          "execution_count": 265
        }
      ]
    },
    {
      "cell_type": "code",
      "metadata": {
        "id": "I5Io2DpC5ra4",
        "outputId": "97c8c3aa-0dea-4ad7-8186-ead1fc6569d0",
        "colab": {
          "base_uri": "https://localhost:8080/",
          "height": 204
        }
      },
      "source": [
        "np.multiply(T1,T2)\n"
      ],
      "execution_count": 266,
      "outputs": [
        {
          "output_type": "execute_result",
          "data": {
            "text/plain": [
              "array([[[   0,    0,    0],\n",
              "        [   0,    0,    0],\n",
              "        [   0,    0,    0]],\n",
              "\n",
              "       [[  10,   20,   30],\n",
              "        [  40,   50,   60],\n",
              "        [  70,   80,   90]],\n",
              "\n",
              "       [[ 200,  400,  600],\n",
              "        [ 800, 1000, 1200],\n",
              "        [1400, 1600, 1800]]])"
            ]
          },
          "metadata": {
            "tags": []
          },
          "execution_count": 266
        }
      ]
    },
    {
      "cell_type": "code",
      "metadata": {
        "id": "MkOCcJgA5t8X",
        "outputId": "2561ba6e-536d-4cd4-9172-a1d15e210300",
        "colab": {
          "base_uri": "https://localhost:8080/",
          "height": 204
        }
      },
      "source": [
        "D = T1/T2\n",
        "D\n"
      ],
      "execution_count": 267,
      "outputs": [
        {
          "output_type": "execute_result",
          "data": {
            "text/plain": [
              "array([[[ inf,  inf,  inf],\n",
              "        [ inf,  inf,  inf],\n",
              "        [ inf,  inf,  inf]],\n",
              "\n",
              "       [[ 10.,  20.,  30.],\n",
              "        [ 40.,  50.,  60.],\n",
              "        [ 70.,  80.,  90.]],\n",
              "\n",
              "       [[ 50., 100., 150.],\n",
              "        [200., 250., 300.],\n",
              "        [350., 400., 450.]]])"
            ]
          },
          "metadata": {
            "tags": []
          },
          "execution_count": 267
        }
      ]
    },
    {
      "cell_type": "code",
      "metadata": {
        "id": "LipMFHps5wZ4",
        "outputId": "fafdba1a-e27b-460e-a980-969a7991540d",
        "colab": {
          "base_uri": "https://localhost:8080/",
          "height": 204
        }
      },
      "source": [
        "np.divide(T1,T2)\n"
      ],
      "execution_count": 268,
      "outputs": [
        {
          "output_type": "execute_result",
          "data": {
            "text/plain": [
              "array([[[ inf,  inf,  inf],\n",
              "        [ inf,  inf,  inf],\n",
              "        [ inf,  inf,  inf]],\n",
              "\n",
              "       [[ 10.,  20.,  30.],\n",
              "        [ 40.,  50.,  60.],\n",
              "        [ 70.,  80.,  90.]],\n",
              "\n",
              "       [[ 50., 100., 150.],\n",
              "        [200., 250., 300.],\n",
              "        [350., 400., 450.]]])"
            ]
          },
          "metadata": {
            "tags": []
          },
          "execution_count": 268
        }
      ]
    },
    {
      "cell_type": "code",
      "metadata": {
        "id": "HSm_t4p75y48",
        "outputId": "88b41237-b696-4a0f-8260-739ec6aec2d3",
        "colab": {
          "base_uri": "https://localhost:8080/",
          "height": 204
        }
      },
      "source": [
        "T1\n"
      ],
      "execution_count": 269,
      "outputs": [
        {
          "output_type": "execute_result",
          "data": {
            "text/plain": [
              "array([[[  1,   2,   3],\n",
              "        [  4,   5,   6],\n",
              "        [  7,   8,   9]],\n",
              "\n",
              "       [[ 10,  20,  30],\n",
              "        [ 40,  50,  60],\n",
              "        [ 70,  80,  90]],\n",
              "\n",
              "       [[100, 200, 300],\n",
              "        [400, 500, 600],\n",
              "        [700, 800, 900]]])"
            ]
          },
          "metadata": {
            "tags": []
          },
          "execution_count": 269
        }
      ]
    },
    {
      "cell_type": "code",
      "metadata": {
        "id": "L5z1np4a51PG",
        "outputId": "5194d067-5ab3-4bcb-db86-bb60bf5667f3",
        "colab": {
          "base_uri": "https://localhost:8080/",
          "height": 204
        }
      },
      "source": [
        "T2"
      ],
      "execution_count": 271,
      "outputs": [
        {
          "output_type": "execute_result",
          "data": {
            "text/plain": [
              "array([[[0, 0, 0],\n",
              "        [0, 0, 0],\n",
              "        [0, 0, 0]],\n",
              "\n",
              "       [[1, 1, 1],\n",
              "        [1, 1, 1],\n",
              "        [1, 1, 1]],\n",
              "\n",
              "       [[2, 2, 2],\n",
              "        [2, 2, 2],\n",
              "        [2, 2, 2]]])"
            ]
          },
          "metadata": {
            "tags": []
          },
          "execution_count": 271
        }
      ]
    },
    {
      "cell_type": "code",
      "metadata": {
        "id": "0bx5TWFy548l",
        "outputId": "56fdd430-d44d-49fd-e9e9-83c08a11c5ee",
        "colab": {
          "base_uri": "https://localhost:8080/",
          "height": 68
        }
      },
      "source": [
        "np.tensordot(T1,T2)"
      ],
      "execution_count": 272,
      "outputs": [
        {
          "output_type": "execute_result",
          "data": {
            "text/plain": [
              "array([[  63,   63,   63],\n",
              "       [ 630,  630,  630],\n",
              "       [6300, 6300, 6300]])"
            ]
          },
          "metadata": {
            "tags": []
          },
          "execution_count": 272
        }
      ]
    },
    {
      "cell_type": "code",
      "metadata": {
        "id": "mhQ_Ksly57-x",
        "outputId": "2729359e-2034-46fe-98a2-f2c183994d2e",
        "colab": {
          "base_uri": "https://localhost:8080/",
          "height": 68
        }
      },
      "source": [
        "A = np.array([[1,2,3] , [4,5,6] , [7,8,9]])\n",
        "A\n"
      ],
      "execution_count": 276,
      "outputs": [
        {
          "output_type": "execute_result",
          "data": {
            "text/plain": [
              "array([[1, 2, 3],\n",
              "       [4, 5, 6],\n",
              "       [7, 8, 9]])"
            ]
          },
          "metadata": {
            "tags": []
          },
          "execution_count": 276
        }
      ]
    },
    {
      "cell_type": "code",
      "metadata": {
        "id": "8CqWImWQ5-eP",
        "outputId": "cc5ac896-9b5a-4b3c-9178-a3e8f8fda22a",
        "colab": {
          "base_uri": "https://localhost:8080/",
          "height": 68
        }
      },
      "source": [
        "B = np.random.random((3,1))\n",
        "B\n"
      ],
      "execution_count": 277,
      "outputs": [
        {
          "output_type": "execute_result",
          "data": {
            "text/plain": [
              "array([[0.89556177],\n",
              "       [0.7552261 ],\n",
              "       [0.66903193]])"
            ]
          },
          "metadata": {
            "tags": []
          },
          "execution_count": 277
        }
      ]
    },
    {
      "cell_type": "code",
      "metadata": {
        "id": "cY0yuEMC6Bef"
      },
      "source": [
        "# Ist Method\n",
        "X = np.dot(np.linalg.inv(A) , B)\n",
        "X\n"
      ],
      "execution_count": null,
      "outputs": []
    },
    {
      "cell_type": "code",
      "metadata": {
        "id": "uzxWp7S_6DiL",
        "outputId": "db8192ef-b5dd-4f18-90e9-7f3913c97d93",
        "colab": {
          "base_uri": "https://localhost:8080/",
          "height": 374
        }
      },
      "source": [
        "# 2nd Method\n",
        "X = np.matmul(np.linalg.inv(A) , B)\n",
        "X"
      ],
      "execution_count": 279,
      "outputs": [
        {
          "output_type": "error",
          "ename": "LinAlgError",
          "evalue": "ignored",
          "traceback": [
            "\u001b[0;31m---------------------------------------------------------------------------\u001b[0m",
            "\u001b[0;31mLinAlgError\u001b[0m                               Traceback (most recent call last)",
            "\u001b[0;32m<ipython-input-279-47a93d824593>\u001b[0m in \u001b[0;36m<module>\u001b[0;34m()\u001b[0m\n\u001b[1;32m      1\u001b[0m \u001b[0;31m# 2nd Method\u001b[0m\u001b[0;34m\u001b[0m\u001b[0;34m\u001b[0m\u001b[0;34m\u001b[0m\u001b[0m\n\u001b[0;32m----> 2\u001b[0;31m \u001b[0mX\u001b[0m \u001b[0;34m=\u001b[0m \u001b[0mnp\u001b[0m\u001b[0;34m.\u001b[0m\u001b[0mmatmul\u001b[0m\u001b[0;34m(\u001b[0m\u001b[0mnp\u001b[0m\u001b[0;34m.\u001b[0m\u001b[0mlinalg\u001b[0m\u001b[0;34m.\u001b[0m\u001b[0minv\u001b[0m\u001b[0;34m(\u001b[0m\u001b[0mA\u001b[0m\u001b[0;34m)\u001b[0m \u001b[0;34m,\u001b[0m \u001b[0mB\u001b[0m\u001b[0;34m)\u001b[0m\u001b[0;34m\u001b[0m\u001b[0;34m\u001b[0m\u001b[0m\n\u001b[0m\u001b[1;32m      3\u001b[0m \u001b[0mX\u001b[0m\u001b[0;34m\u001b[0m\u001b[0;34m\u001b[0m\u001b[0m\n",
            "\u001b[0;32m<__array_function__ internals>\u001b[0m in \u001b[0;36minv\u001b[0;34m(*args, **kwargs)\u001b[0m\n",
            "\u001b[0;32m/usr/local/lib/python3.6/dist-packages/numpy/linalg/linalg.py\u001b[0m in \u001b[0;36minv\u001b[0;34m(a)\u001b[0m\n\u001b[1;32m    545\u001b[0m     \u001b[0msignature\u001b[0m \u001b[0;34m=\u001b[0m \u001b[0;34m'D->D'\u001b[0m \u001b[0;32mif\u001b[0m \u001b[0misComplexType\u001b[0m\u001b[0;34m(\u001b[0m\u001b[0mt\u001b[0m\u001b[0;34m)\u001b[0m \u001b[0;32melse\u001b[0m \u001b[0;34m'd->d'\u001b[0m\u001b[0;34m\u001b[0m\u001b[0;34m\u001b[0m\u001b[0m\n\u001b[1;32m    546\u001b[0m     \u001b[0mextobj\u001b[0m \u001b[0;34m=\u001b[0m \u001b[0mget_linalg_error_extobj\u001b[0m\u001b[0;34m(\u001b[0m\u001b[0m_raise_linalgerror_singular\u001b[0m\u001b[0;34m)\u001b[0m\u001b[0;34m\u001b[0m\u001b[0;34m\u001b[0m\u001b[0m\n\u001b[0;32m--> 547\u001b[0;31m     \u001b[0mainv\u001b[0m \u001b[0;34m=\u001b[0m \u001b[0m_umath_linalg\u001b[0m\u001b[0;34m.\u001b[0m\u001b[0minv\u001b[0m\u001b[0;34m(\u001b[0m\u001b[0ma\u001b[0m\u001b[0;34m,\u001b[0m \u001b[0msignature\u001b[0m\u001b[0;34m=\u001b[0m\u001b[0msignature\u001b[0m\u001b[0;34m,\u001b[0m \u001b[0mextobj\u001b[0m\u001b[0;34m=\u001b[0m\u001b[0mextobj\u001b[0m\u001b[0;34m)\u001b[0m\u001b[0;34m\u001b[0m\u001b[0;34m\u001b[0m\u001b[0m\n\u001b[0m\u001b[1;32m    548\u001b[0m     \u001b[0;32mreturn\u001b[0m \u001b[0mwrap\u001b[0m\u001b[0;34m(\u001b[0m\u001b[0mainv\u001b[0m\u001b[0;34m.\u001b[0m\u001b[0mastype\u001b[0m\u001b[0;34m(\u001b[0m\u001b[0mresult_t\u001b[0m\u001b[0;34m,\u001b[0m \u001b[0mcopy\u001b[0m\u001b[0;34m=\u001b[0m\u001b[0;32mFalse\u001b[0m\u001b[0;34m)\u001b[0m\u001b[0;34m)\u001b[0m\u001b[0;34m\u001b[0m\u001b[0;34m\u001b[0m\u001b[0m\n\u001b[1;32m    549\u001b[0m \u001b[0;34m\u001b[0m\u001b[0m\n",
            "\u001b[0;32m/usr/local/lib/python3.6/dist-packages/numpy/linalg/linalg.py\u001b[0m in \u001b[0;36m_raise_linalgerror_singular\u001b[0;34m(err, flag)\u001b[0m\n\u001b[1;32m     95\u001b[0m \u001b[0;34m\u001b[0m\u001b[0m\n\u001b[1;32m     96\u001b[0m \u001b[0;32mdef\u001b[0m \u001b[0m_raise_linalgerror_singular\u001b[0m\u001b[0;34m(\u001b[0m\u001b[0merr\u001b[0m\u001b[0;34m,\u001b[0m \u001b[0mflag\u001b[0m\u001b[0;34m)\u001b[0m\u001b[0;34m:\u001b[0m\u001b[0;34m\u001b[0m\u001b[0;34m\u001b[0m\u001b[0m\n\u001b[0;32m---> 97\u001b[0;31m     \u001b[0;32mraise\u001b[0m \u001b[0mLinAlgError\u001b[0m\u001b[0;34m(\u001b[0m\u001b[0;34m\"Singular matrix\"\u001b[0m\u001b[0;34m)\u001b[0m\u001b[0;34m\u001b[0m\u001b[0;34m\u001b[0m\u001b[0m\n\u001b[0m\u001b[1;32m     98\u001b[0m \u001b[0;34m\u001b[0m\u001b[0m\n\u001b[1;32m     99\u001b[0m \u001b[0;32mdef\u001b[0m \u001b[0m_raise_linalgerror_nonposdef\u001b[0m\u001b[0;34m(\u001b[0m\u001b[0merr\u001b[0m\u001b[0;34m,\u001b[0m \u001b[0mflag\u001b[0m\u001b[0;34m)\u001b[0m\u001b[0;34m:\u001b[0m\u001b[0;34m\u001b[0m\u001b[0;34m\u001b[0m\u001b[0m\n",
            "\u001b[0;31mLinAlgError\u001b[0m: Singular matrix"
          ]
        }
      ]
    },
    {
      "cell_type": "code",
      "metadata": {
        "id": "_e6hvwKj6Pzh"
      },
      "source": [
        ""
      ],
      "execution_count": null,
      "outputs": []
    },
    {
      "cell_type": "code",
      "metadata": {
        "id": "BDyw7wlk52Nx"
      },
      "source": [
        ""
      ],
      "execution_count": null,
      "outputs": []
    }
  ]
}