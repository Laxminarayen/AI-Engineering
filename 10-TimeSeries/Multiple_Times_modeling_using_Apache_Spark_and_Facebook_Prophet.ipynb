{
  "nbformat": 4,
  "nbformat_minor": 0,
  "metadata": {
    "colab": {
      "name": "Multiple Times modeling using Apache Spark and Facebook Prophet.ipynb",
      "provenance": [],
      "collapsed_sections": [],
      "authorship_tag": "ABX9TyMYw7RvIfASh3Z8/byMzpry",
      "include_colab_link": true
    },
    "kernelspec": {
      "name": "python3",
      "display_name": "Python 3"
    }
  },
  "cells": [
    {
      "cell_type": "markdown",
      "metadata": {
        "id": "view-in-github",
        "colab_type": "text"
      },
      "source": [
        "<a href=\"https://colab.research.google.com/github/plthiyagu/Personnel/blob/master/Multiple_Times_modeling_using_Apache_Spark_and_Facebook_Prophet.ipynb\" target=\"_parent\"><img src=\"https://colab.research.google.com/assets/colab-badge.svg\" alt=\"Open In Colab\"/></a>"
      ]
    },
    {
      "cell_type": "code",
      "metadata": {
        "id": "M1JSeuMu3m50",
        "outputId": "092b9f99-81e3-422f-d27e-b826217716b0",
        "colab": {
          "base_uri": "https://localhost:8080/",
          "height": 68
        }
      },
      "source": [
        "!apt-get install -y openjdk-8-jdk-headless -qq > /dev/null\n",
        "import os\n",
        "os.environ[\"JAVA_HOME\"] = \"/usr/lib/jvm/java-8-openjdk-amd64\"\n",
        "!update-alternatives --set java /usr/lib/jvm/java-8-openjdk-amd64/jre/bin/java\n",
        "!java -version"
      ],
      "execution_count": 1,
      "outputs": [
        {
          "output_type": "stream",
          "text": [
            "openjdk version \"1.8.0_265\"\n",
            "OpenJDK Runtime Environment (build 1.8.0_265-8u265-b01-0ubuntu2~18.04-b01)\n",
            "OpenJDK 64-Bit Server VM (build 25.265-b01, mixed mode)\n"
          ],
          "name": "stdout"
        }
      ]
    },
    {
      "cell_type": "code",
      "metadata": {
        "id": "eJNK-Tvk7VGv",
        "outputId": "64ea95d1-d70f-4e94-8bc6-82d3ab062480",
        "colab": {
          "base_uri": "https://localhost:8080/",
          "height": 51
        }
      },
      "source": [
        "!pip install pyspark"
      ],
      "execution_count": 2,
      "outputs": [
        {
          "output_type": "stream",
          "text": [
            "Requirement already satisfied: pyspark in /usr/local/lib/python3.6/dist-packages (3.0.1)\n",
            "Requirement already satisfied: py4j==0.10.9 in /usr/local/lib/python3.6/dist-packages (from pyspark) (0.10.9)\n"
          ],
          "name": "stdout"
        }
      ]
    },
    {
      "cell_type": "code",
      "metadata": {
        "id": "Mw5upIce27Kw",
        "outputId": "e8e7d57b-5a34-4809-8a70-5118aabcc93c",
        "colab": {
          "base_uri": "https://localhost:8080/",
          "height": 238
        }
      },
      "source": [
        "!pyspark --version"
      ],
      "execution_count": 3,
      "outputs": [
        {
          "output_type": "stream",
          "text": [
            "Welcome to\n",
            "      ____              __\n",
            "     / __/__  ___ _____/ /__\n",
            "    _\\ \\/ _ \\/ _ `/ __/  '_/\n",
            "   /___/ .__/\\_,_/_/ /_/\\_\\   version 3.0.1\n",
            "      /_/\n",
            "                        \n",
            "Using Scala version 2.12.10, OpenJDK 64-Bit Server VM, 1.8.0_265\n",
            "Branch HEAD\n",
            "Compiled by user ubuntu on 2020-08-28T07:36:48Z\n",
            "Revision 2b147c4cd50da32fe2b4167f97c8142102a0510d\n",
            "Url https://gitbox.apache.org/repos/asf/spark.git\n",
            "Type --help for more information.\n"
          ],
          "name": "stdout"
        }
      ]
    },
    {
      "cell_type": "code",
      "metadata": {
        "id": "ownIHTWX2wNF"
      },
      "source": [
        "!pip install -q findspark"
      ],
      "execution_count": 6,
      "outputs": []
    },
    {
      "cell_type": "code",
      "metadata": {
        "id": "fMPjeqVX7aGH",
        "outputId": "f8923fa7-9f7e-463b-e42c-79b853b50b84",
        "colab": {
          "base_uri": "https://localhost:8080/",
          "height": 68
        }
      },
      "source": [
        "!pip install pyarrow==0.15.1"
      ],
      "execution_count": 4,
      "outputs": [
        {
          "output_type": "stream",
          "text": [
            "Requirement already satisfied: pyarrow==0.15.1 in /usr/local/lib/python3.6/dist-packages (0.15.1)\n",
            "Requirement already satisfied: six>=1.0.0 in /usr/local/lib/python3.6/dist-packages (from pyarrow==0.15.1) (1.15.0)\n",
            "Requirement already satisfied: numpy>=1.14 in /usr/local/lib/python3.6/dist-packages (from pyarrow==0.15.1) (1.18.5)\n"
          ],
          "name": "stdout"
        }
      ]
    },
    {
      "cell_type": "code",
      "metadata": {
        "id": "bwFm8lyN7hHl",
        "outputId": "935e1009-1aac-487e-d823-77253a0bd860",
        "colab": {
          "base_uri": "https://localhost:8080/",
          "height": 374
        }
      },
      "source": [
        "!pip install fbprophet"
      ],
      "execution_count": 8,
      "outputs": [
        {
          "output_type": "stream",
          "text": [
            "Requirement already satisfied: fbprophet in /usr/local/lib/python3.6/dist-packages (0.7.1)\n",
            "Requirement already satisfied: Cython>=0.22 in /usr/local/lib/python3.6/dist-packages (from fbprophet) (0.29.21)\n",
            "Requirement already satisfied: cmdstanpy==0.9.5 in /usr/local/lib/python3.6/dist-packages (from fbprophet) (0.9.5)\n",
            "Requirement already satisfied: pystan>=2.14 in /usr/local/lib/python3.6/dist-packages (from fbprophet) (2.19.1.1)\n",
            "Requirement already satisfied: numpy>=1.15.4 in /usr/local/lib/python3.6/dist-packages (from fbprophet) (1.18.5)\n",
            "Requirement already satisfied: pandas>=1.0.4 in /usr/local/lib/python3.6/dist-packages (from fbprophet) (1.1.2)\n",
            "Requirement already satisfied: matplotlib>=2.0.0 in /usr/local/lib/python3.6/dist-packages (from fbprophet) (3.2.2)\n",
            "Requirement already satisfied: LunarCalendar>=0.0.9 in /usr/local/lib/python3.6/dist-packages (from fbprophet) (0.0.9)\n",
            "Requirement already satisfied: convertdate>=2.1.2 in /usr/local/lib/python3.6/dist-packages (from fbprophet) (2.2.2)\n",
            "Requirement already satisfied: holidays>=0.10.2 in /usr/local/lib/python3.6/dist-packages (from fbprophet) (0.10.3)\n",
            "Requirement already satisfied: setuptools-git>=1.2 in /usr/local/lib/python3.6/dist-packages (from fbprophet) (1.2)\n",
            "Requirement already satisfied: python-dateutil>=2.8.0 in /usr/local/lib/python3.6/dist-packages (from fbprophet) (2.8.1)\n",
            "Requirement already satisfied: tqdm>=4.36.1 in /usr/local/lib/python3.6/dist-packages (from fbprophet) (4.41.1)\n",
            "Requirement already satisfied: pytz>=2017.2 in /usr/local/lib/python3.6/dist-packages (from pandas>=1.0.4->fbprophet) (2018.9)\n",
            "Requirement already satisfied: kiwisolver>=1.0.1 in /usr/local/lib/python3.6/dist-packages (from matplotlib>=2.0.0->fbprophet) (1.2.0)\n",
            "Requirement already satisfied: cycler>=0.10 in /usr/local/lib/python3.6/dist-packages (from matplotlib>=2.0.0->fbprophet) (0.10.0)\n",
            "Requirement already satisfied: pyparsing!=2.0.4,!=2.1.2,!=2.1.6,>=2.0.1 in /usr/local/lib/python3.6/dist-packages (from matplotlib>=2.0.0->fbprophet) (2.4.7)\n",
            "Requirement already satisfied: ephem>=3.7.5.3 in /usr/local/lib/python3.6/dist-packages (from LunarCalendar>=0.0.9->fbprophet) (3.7.7.1)\n",
            "Requirement already satisfied: pymeeus<=1,>=0.3.6 in /usr/local/lib/python3.6/dist-packages (from convertdate>=2.1.2->fbprophet) (0.3.7)\n",
            "Requirement already satisfied: korean-lunar-calendar in /usr/local/lib/python3.6/dist-packages (from holidays>=0.10.2->fbprophet) (0.2.1)\n",
            "Requirement already satisfied: six in /usr/local/lib/python3.6/dist-packages (from holidays>=0.10.2->fbprophet) (1.15.0)\n"
          ],
          "name": "stdout"
        }
      ]
    },
    {
      "cell_type": "code",
      "metadata": {
        "id": "VtqMOnws7wxi"
      },
      "source": [
        "import matplotlib as mpl\n",
        "import matplotlib.pyplot as plt\n",
        "import numpy as np\n",
        "import pandas as pd\n",
        "import seaborn as sns\n",
        "\n",
        "from fbprophet import Prophet\n",
        "\n",
        "mpl.rcParams['figure.figsize'] = (10,8)\n",
        "mpl.rcParams['axes.grid'] = False"
      ],
      "execution_count": 6,
      "outputs": []
    },
    {
      "cell_type": "code",
      "metadata": {
        "id": "PIaHdfc08TuF"
      },
      "source": [
        "from pyspark.sql import SparkSession\n",
        "import pyspark\n",
        "spark = SparkSession.builder.master('local').getOrCreate()"
      ],
      "execution_count": 7,
      "outputs": []
    },
    {
      "cell_type": "code",
      "metadata": {
        "id": "CLFN2OWZ882K",
        "outputId": "bec7410f-708f-43b8-8f8f-1201ce208b92",
        "colab": {
          "base_uri": "https://localhost:8080/",
          "height": 204
        }
      },
      "source": [
        "df = pd.read_csv(\"https://raw.githubusercontent.com/srivatsan88/YouTubeLI/master/dataset/weekly_sales_data.csv\")\n",
        "df.head()"
      ],
      "execution_count": 8,
      "outputs": [
        {
          "output_type": "execute_result",
          "data": {
            "text/html": [
              "<div>\n",
              "<style scoped>\n",
              "    .dataframe tbody tr th:only-of-type {\n",
              "        vertical-align: middle;\n",
              "    }\n",
              "\n",
              "    .dataframe tbody tr th {\n",
              "        vertical-align: top;\n",
              "    }\n",
              "\n",
              "    .dataframe thead th {\n",
              "        text-align: right;\n",
              "    }\n",
              "</style>\n",
              "<table border=\"1\" class=\"dataframe\">\n",
              "  <thead>\n",
              "    <tr style=\"text-align: right;\">\n",
              "      <th></th>\n",
              "      <th>date</th>\n",
              "      <th>store_id</th>\n",
              "      <th>sales</th>\n",
              "    </tr>\n",
              "  </thead>\n",
              "  <tbody>\n",
              "    <tr>\n",
              "      <th>0</th>\n",
              "      <td>1/6/2019</td>\n",
              "      <td>25</td>\n",
              "      <td>736657.2267</td>\n",
              "    </tr>\n",
              "    <tr>\n",
              "      <th>1</th>\n",
              "      <td>1/6/2019</td>\n",
              "      <td>26</td>\n",
              "      <td>233711.0000</td>\n",
              "    </tr>\n",
              "    <tr>\n",
              "      <th>2</th>\n",
              "      <td>1/6/2019</td>\n",
              "      <td>28</td>\n",
              "      <td>692156.3794</td>\n",
              "    </tr>\n",
              "    <tr>\n",
              "      <th>3</th>\n",
              "      <td>1/6/2019</td>\n",
              "      <td>29</td>\n",
              "      <td>213706.8000</td>\n",
              "    </tr>\n",
              "    <tr>\n",
              "      <th>4</th>\n",
              "      <td>1/6/2019</td>\n",
              "      <td>30</td>\n",
              "      <td>266455.0000</td>\n",
              "    </tr>\n",
              "  </tbody>\n",
              "</table>\n",
              "</div>"
            ],
            "text/plain": [
              "       date  store_id        sales\n",
              "0  1/6/2019        25  736657.2267\n",
              "1  1/6/2019        26  233711.0000\n",
              "2  1/6/2019        28  692156.3794\n",
              "3  1/6/2019        29  213706.8000\n",
              "4  1/6/2019        30  266455.0000"
            ]
          },
          "metadata": {
            "tags": []
          },
          "execution_count": 8
        }
      ]
    },
    {
      "cell_type": "code",
      "metadata": {
        "id": "C1Z-uFCT9Tcj",
        "outputId": "0f3df604-e4d4-48e8-bd8a-bf7dacd06a6e",
        "colab": {
          "base_uri": "https://localhost:8080/",
          "height": 187
        }
      },
      "source": [
        "df.info()"
      ],
      "execution_count": 9,
      "outputs": [
        {
          "output_type": "stream",
          "text": [
            "<class 'pandas.core.frame.DataFrame'>\n",
            "RangeIndex: 500 entries, 0 to 499\n",
            "Data columns (total 3 columns):\n",
            " #   Column    Non-Null Count  Dtype  \n",
            "---  ------    --------------  -----  \n",
            " 0   date      500 non-null    object \n",
            " 1   store_id  500 non-null    int64  \n",
            " 2   sales     500 non-null    float64\n",
            "dtypes: float64(1), int64(1), object(1)\n",
            "memory usage: 11.8+ KB\n"
          ],
          "name": "stdout"
        }
      ]
    },
    {
      "cell_type": "code",
      "metadata": {
        "id": "dl3fZJLT-pCz"
      },
      "source": [
        "df['date']= pd.to_datetime(df['date'],infer_datetime_format=True)"
      ],
      "execution_count": 10,
      "outputs": []
    },
    {
      "cell_type": "code",
      "metadata": {
        "id": "SKHHkZ7P-0L8",
        "outputId": "11b35ef5-a4b2-4b02-a4fe-0e3db1d0be7e",
        "colab": {
          "base_uri": "https://localhost:8080/",
          "height": 187
        }
      },
      "source": [
        "df.info()"
      ],
      "execution_count": 11,
      "outputs": [
        {
          "output_type": "stream",
          "text": [
            "<class 'pandas.core.frame.DataFrame'>\n",
            "RangeIndex: 500 entries, 0 to 499\n",
            "Data columns (total 3 columns):\n",
            " #   Column    Non-Null Count  Dtype         \n",
            "---  ------    --------------  -----         \n",
            " 0   date      500 non-null    datetime64[ns]\n",
            " 1   store_id  500 non-null    int64         \n",
            " 2   sales     500 non-null    float64       \n",
            "dtypes: datetime64[ns](1), float64(1), int64(1)\n",
            "memory usage: 11.8 KB\n"
          ],
          "name": "stdout"
        }
      ]
    },
    {
      "cell_type": "code",
      "metadata": {
        "id": "UrrnqAs2-YC8",
        "outputId": "f78705ee-1f78-44f8-b037-2a2853918b72",
        "colab": {
          "base_uri": "https://localhost:8080/",
          "height": 255
        }
      },
      "source": [
        "print(\"\\nFeatures         :\\n\",df.columns.to_list())\n",
        "print(\"\\Missing Values    :\\n\",df.isnull().any())\n",
        "print(\"\\nUnique Values    :\\n\", df.nunique())"
      ],
      "execution_count": 12,
      "outputs": [
        {
          "output_type": "stream",
          "text": [
            "\n",
            "Features         :\n",
            " ['date', 'store_id', 'sales']\n",
            "\\Missing Values    :\n",
            " date        False\n",
            "store_id    False\n",
            "sales       False\n",
            "dtype: bool\n",
            "\n",
            "Unique Values    :\n",
            " date         50\n",
            "store_id     10\n",
            "sales       500\n",
            "dtype: int64\n"
          ],
          "name": "stdout"
        }
      ]
    },
    {
      "cell_type": "code",
      "metadata": {
        "id": "P8zdElpKSKOJ",
        "outputId": "c7804ce2-b955-40f2-f956-c2ce44e0f0d8",
        "colab": {
          "base_uri": "https://localhost:8080/",
          "height": 297
        }
      },
      "source": [
        "df.describe()"
      ],
      "execution_count": 13,
      "outputs": [
        {
          "output_type": "execute_result",
          "data": {
            "text/html": [
              "<div>\n",
              "<style scoped>\n",
              "    .dataframe tbody tr th:only-of-type {\n",
              "        vertical-align: middle;\n",
              "    }\n",
              "\n",
              "    .dataframe tbody tr th {\n",
              "        vertical-align: top;\n",
              "    }\n",
              "\n",
              "    .dataframe thead th {\n",
              "        text-align: right;\n",
              "    }\n",
              "</style>\n",
              "<table border=\"1\" class=\"dataframe\">\n",
              "  <thead>\n",
              "    <tr style=\"text-align: right;\">\n",
              "      <th></th>\n",
              "      <th>store_id</th>\n",
              "      <th>sales</th>\n",
              "    </tr>\n",
              "  </thead>\n",
              "  <tbody>\n",
              "    <tr>\n",
              "      <th>count</th>\n",
              "      <td>500.0000</td>\n",
              "      <td>5.000000e+02</td>\n",
              "    </tr>\n",
              "    <tr>\n",
              "      <th>mean</th>\n",
              "      <td>32.7000</td>\n",
              "      <td>4.470800e+05</td>\n",
              "    </tr>\n",
              "    <tr>\n",
              "      <th>std</th>\n",
              "      <td>6.1714</td>\n",
              "      <td>2.970660e+05</td>\n",
              "    </tr>\n",
              "    <tr>\n",
              "      <th>min</th>\n",
              "      <td>25.0000</td>\n",
              "      <td>1.278800e+04</td>\n",
              "    </tr>\n",
              "    <tr>\n",
              "      <th>25%</th>\n",
              "      <td>28.0000</td>\n",
              "      <td>2.526557e+05</td>\n",
              "    </tr>\n",
              "    <tr>\n",
              "      <th>50%</th>\n",
              "      <td>30.5000</td>\n",
              "      <td>3.150259e+05</td>\n",
              "    </tr>\n",
              "    <tr>\n",
              "      <th>75%</th>\n",
              "      <td>38.0000</td>\n",
              "      <td>6.845418e+05</td>\n",
              "    </tr>\n",
              "    <tr>\n",
              "      <th>max</th>\n",
              "      <td>44.0000</td>\n",
              "      <td>1.631585e+06</td>\n",
              "    </tr>\n",
              "  </tbody>\n",
              "</table>\n",
              "</div>"
            ],
            "text/plain": [
              "       store_id         sales\n",
              "count  500.0000  5.000000e+02\n",
              "mean    32.7000  4.470800e+05\n",
              "std      6.1714  2.970660e+05\n",
              "min     25.0000  1.278800e+04\n",
              "25%     28.0000  2.526557e+05\n",
              "50%     30.5000  3.150259e+05\n",
              "75%     38.0000  6.845418e+05\n",
              "max     44.0000  1.631585e+06"
            ]
          },
          "metadata": {
            "tags": []
          },
          "execution_count": 13
        }
      ]
    },
    {
      "cell_type": "code",
      "metadata": {
        "id": "OAoyXGqzddIS"
      },
      "source": [
        "df_base= df.copy()"
      ],
      "execution_count": 15,
      "outputs": []
    },
    {
      "cell_type": "code",
      "metadata": {
        "id": "6cYKqESFdgYr",
        "outputId": "786303f0-a0f4-486d-ab09-007dbb3d197a",
        "colab": {
          "base_uri": "https://localhost:8080/",
          "height": 204
        }
      },
      "source": [
        "df['store_id'].value_counts()"
      ],
      "execution_count": 16,
      "outputs": [
        {
          "output_type": "execute_result",
          "data": {
            "text/plain": [
              "44    50\n",
              "41    50\n",
              "38    50\n",
              "35    50\n",
              "31    50\n",
              "30    50\n",
              "29    50\n",
              "28    50\n",
              "26    50\n",
              "25    50\n",
              "Name: store_id, dtype: int64"
            ]
          },
          "metadata": {
            "tags": []
          },
          "execution_count": 16
        }
      ]
    },
    {
      "cell_type": "code",
      "metadata": {
        "id": "IU11_Y9BdoAV"
      },
      "source": [
        "item_df= df.set_index('date')"
      ],
      "execution_count": 17,
      "outputs": []
    },
    {
      "cell_type": "code",
      "metadata": {
        "id": "4D7LW4z0dvRg",
        "outputId": "af4d3be2-290a-4ac3-fe90-f7c86167cf40",
        "colab": {
          "base_uri": "https://localhost:8080/",
          "height": 508
        }
      },
      "source": [
        "item_df.query(\"store_id==41\")[['sales']].plot();"
      ],
      "execution_count": 18,
      "outputs": [
        {
          "output_type": "display_data",
          "data": {
            "image/png": "[encoded data removed]",
            "text/plain": [
              "<Figure size 720x576 with 1 Axes>"
            ]
          },
          "metadata": {
            "tags": [],
            "needs_background": "light"
          }
        }
      ]
    },
    {
      "cell_type": "code",
      "metadata": {
        "id": "k88jP-oQiQde",
        "outputId": "f1392627-697b-46f1-a46c-5bad6ea28dd4",
        "colab": {
          "base_uri": "https://localhost:8080/",
          "height": 519
        }
      },
      "source": [
        "item_df.query(\"store_id==25\")[['sales']].plot();"
      ],
      "execution_count": 19,
      "outputs": [
        {
          "output_type": "display_data",
          "data": {
            "image/png": "[encoded data removed]",
            "text/plain": [
              "<Figure size 720x576 with 1 Axes>"
            ]
          },
          "metadata": {
            "tags": [],
            "needs_background": "light"
          }
        }
      ]
    },
    {
      "cell_type": "code",
      "metadata": {
        "id": "xROraDMmiWaY",
        "outputId": "c0af9490-a987-4c87-c69d-3c6b20fa816b",
        "colab": {
          "base_uri": "https://localhost:8080/",
          "height": 508
        }
      },
      "source": [
        "item_df.query(\"store_id==29\")[['sales']].plot();"
      ],
      "execution_count": 20,
      "outputs": [
        {
          "output_type": "display_data",
          "data": {
            "image/png": "[encoded data removed]",
            "text/plain": [
              "<Figure size 720x576 with 1 Axes>"
            ]
          },
          "metadata": {
            "tags": [],
            "needs_background": "light"
          }
        }
      ]
    },
    {
      "cell_type": "code",
      "metadata": {
        "id": "sCAYEyUDkE2h"
      },
      "source": [
        "sdf=spark.createDataFrame(df)"
      ],
      "execution_count": 106,
      "outputs": []
    },
    {
      "cell_type": "code",
      "metadata": {
        "id": "VRIOvikEkM2v",
        "outputId": "3953a583-2317-47a4-9e4d-d1312191e5ae",
        "colab": {
          "base_uri": "https://localhost:8080/",
          "height": 204
        }
      },
      "source": [
        "sdf.show(5)"
      ],
      "execution_count": 107,
      "outputs": [
        {
          "output_type": "stream",
          "text": [
            "+-------------------+--------+-----------+\n",
            "|               date|store_id|      sales|\n",
            "+-------------------+--------+-----------+\n",
            "|2019-01-06 00:00:00|      25|736657.2267|\n",
            "|2019-01-06 00:00:00|      26|   233711.0|\n",
            "|2019-01-06 00:00:00|      28|692156.3794|\n",
            "|2019-01-06 00:00:00|      29|   213706.8|\n",
            "|2019-01-06 00:00:00|      30|   266455.0|\n",
            "+-------------------+--------+-----------+\n",
            "only showing top 5 rows\n",
            "\n"
          ],
          "name": "stdout"
        }
      ]
    },
    {
      "cell_type": "code",
      "metadata": {
        "id": "GBhCSifxkOs8",
        "outputId": "ec6f4bd4-5174-4b8f-eee7-019c81a5dacf",
        "colab": {
          "base_uri": "https://localhost:8080/",
          "height": 102
        }
      },
      "source": [
        "sdf.printSchema()"
      ],
      "execution_count": 74,
      "outputs": [
        {
          "output_type": "stream",
          "text": [
            "root\n",
            " |-- date: timestamp (nullable = true)\n",
            " |-- store_id: long (nullable = true)\n",
            " |-- sales: double (nullable = true)\n",
            "\n"
          ],
          "name": "stdout"
        }
      ]
    },
    {
      "cell_type": "code",
      "metadata": {
        "id": "Z-f0tedCkrUt",
        "outputId": "0c0b255b-cbd3-48b3-d1f0-4be7cf20f1f7",
        "colab": {
          "base_uri": "https://localhost:8080/",
          "height": 34
        }
      },
      "source": [
        "sdf.count()"
      ],
      "execution_count": 108,
      "outputs": [
        {
          "output_type": "execute_result",
          "data": {
            "text/plain": [
              "500"
            ]
          },
          "metadata": {
            "tags": []
          },
          "execution_count": 108
        }
      ]
    },
    {
      "cell_type": "code",
      "metadata": {
        "id": "tPclMiF-kt6B"
      },
      "source": [
        "sdf.createOrReplaceTempView(\"sales\")"
      ],
      "execution_count": 109,
      "outputs": []
    },
    {
      "cell_type": "code",
      "metadata": {
        "id": "00QZg2SXkzln",
        "outputId": "80b49f55-2c5f-49f5-f01b-a4d66f276a00",
        "colab": {
          "base_uri": "https://localhost:8080/",
          "height": 272
        }
      },
      "source": [
        "spark.sql(\"select store_id,count(*) from sales group by store_id order by store_id\").show()"
      ],
      "execution_count": 110,
      "outputs": [
        {
          "output_type": "stream",
          "text": [
            "+--------+--------+\n",
            "|store_id|count(1)|\n",
            "+--------+--------+\n",
            "|      25|      50|\n",
            "|      26|      50|\n",
            "|      28|      50|\n",
            "|      29|      50|\n",
            "|      30|      50|\n",
            "|      31|      50|\n",
            "|      35|      50|\n",
            "|      38|      50|\n",
            "|      41|      50|\n",
            "|      44|      50|\n",
            "+--------+--------+\n",
            "\n"
          ],
          "name": "stdout"
        }
      ]
    },
    {
      "cell_type": "code",
      "metadata": {
        "id": "RAJQAQvqrbCN"
      },
      "source": [
        "sql = 'SELECT store_id, date as ds, sum(sales) as y FROM  sales GROUP BY store_id, ds ORDER BY store_id, ds'"
      ],
      "execution_count": 111,
      "outputs": []
    },
    {
      "cell_type": "code",
      "metadata": {
        "id": "Sv_JPgalr6l9",
        "outputId": "2fc0a782-2ea9-4031-eeac-c224d10dbe05",
        "colab": {
          "base_uri": "https://localhost:8080/",
          "height": 459
        }
      },
      "source": [
        "spark.sql(sql).show()"
      ],
      "execution_count": 112,
      "outputs": [
        {
          "output_type": "stream",
          "text": [
            "+--------+-------------------+------------------+\n",
            "|store_id|                 ds|                 y|\n",
            "+--------+-------------------+------------------+\n",
            "|      25|2019-01-06 00:00:00|       736657.2267|\n",
            "|      25|2019-01-13 00:00:00|       696457.1717|\n",
            "|      25|2019-01-20 00:00:00|        996876.875|\n",
            "|      25|2019-01-27 00:00:00|        1029737.05|\n",
            "|      25|2019-02-03 00:00:00|       1072873.705|\n",
            "|      25|2019-02-10 00:00:00|       880462.4681|\n",
            "|      25|2019-02-17 00:00:00|        1088756.78|\n",
            "|      25|2019-02-24 00:00:00|       1266928.313|\n",
            "|      25|2019-03-03 00:00:00|       907510.1217|\n",
            "|      25|2019-03-10 00:00:00|       747920.9824|\n",
            "|      25|2019-03-17 00:00:00|       904750.3158|\n",
            "|      25|2019-03-24 00:00:00|1069857.5890000002|\n",
            "|      25|2019-03-31 00:00:00|       1195574.314|\n",
            "|      25|2019-04-07 00:00:00|       834911.3333|\n",
            "|      25|2019-04-14 00:00:00|       788777.4167|\n",
            "|      25|2019-04-21 00:00:00|       849603.4333|\n",
            "|      25|2019-04-28 00:00:00|        965521.165|\n",
            "|      25|2019-05-05 00:00:00|       1045632.688|\n",
            "|      25|2019-05-12 00:00:00|        587768.245|\n",
            "|      25|2019-05-19 00:00:00|       806767.5946|\n",
            "+--------+-------------------+------------------+\n",
            "only showing top 20 rows\n",
            "\n"
          ],
          "name": "stdout"
        }
      ]
    },
    {
      "cell_type": "code",
      "metadata": {
        "id": "FWbUmv_Hr-vJ",
        "outputId": "b5192352-357b-4dcf-c2b9-7c12084f05b5",
        "colab": {
          "base_uri": "https://localhost:8080/",
          "height": 85
        }
      },
      "source": [
        "sdf.explain()"
      ],
      "execution_count": 113,
      "outputs": [
        {
          "output_type": "stream",
          "text": [
            "== Physical Plan ==\n",
            "*(1) Scan ExistingRDD[date#1995,store_id#1996L,sales#1997]\n",
            "\n",
            "\n"
          ],
          "name": "stdout"
        }
      ]
    },
    {
      "cell_type": "code",
      "metadata": {
        "id": "WOPlqVevsB2t",
        "outputId": "7840a36f-ec19-4650-fb47-6ccc8a9faa03",
        "colab": {
          "base_uri": "https://localhost:8080/",
          "height": 34
        }
      },
      "source": [
        "sdf.rdd.getNumPartitions()"
      ],
      "execution_count": 114,
      "outputs": [
        {
          "output_type": "execute_result",
          "data": {
            "text/plain": [
              "1"
            ]
          },
          "metadata": {
            "tags": []
          },
          "execution_count": 114
        }
      ]
    },
    {
      "cell_type": "code",
      "metadata": {
        "id": "Dr1tzO-UtX9r"
      },
      "source": [
        "store_part=(spark.sql(sql).repartition(spark.sparkContext.defaultParallelism,['store_id'])).cache()"
      ],
      "execution_count": 115,
      "outputs": []
    },
    {
      "cell_type": "code",
      "metadata": {
        "id": "o815TOmCt1K_",
        "outputId": "42f4111d-ea85-4d32-b216-1a0198c9ff06",
        "colab": {
          "base_uri": "https://localhost:8080/",
          "height": 34
        }
      },
      "source": [
        "store_part"
      ],
      "execution_count": 116,
      "outputs": [
        {
          "output_type": "execute_result",
          "data": {
            "text/plain": [
              "DataFrame[store_id: bigint, ds: timestamp, y: double]"
            ]
          },
          "metadata": {
            "tags": []
          },
          "execution_count": 116
        }
      ]
    },
    {
      "cell_type": "code",
      "metadata": {
        "id": "S6I6Xr2St4JQ",
        "outputId": "ccf0c947-8049-4f4f-c4b5-d43d60d86477",
        "colab": {
          "base_uri": "https://localhost:8080/",
          "height": 221
        }
      },
      "source": [
        "store_part.explain()"
      ],
      "execution_count": 117,
      "outputs": [
        {
          "output_type": "stream",
          "text": [
            "== Physical Plan ==\n",
            "InMemoryTableScan [store_id#1996L, ds#2081, y#2082]\n",
            "   +- InMemoryRelation [store_id#1996L, ds#2081, y#2082], StorageLevel(disk, memory, deserialized, 1 replicas)\n",
            "         +- Exchange hashpartitioning(store_id#1996L, 1), false, [id=#976]\n",
            "            +- *(3) Sort [store_id#1996L ASC NULLS FIRST, ds#2081 ASC NULLS FIRST], true, 0\n",
            "               +- Exchange rangepartitioning(store_id#1996L ASC NULLS FIRST, ds#2081 ASC NULLS FIRST, 200), true, [id=#972]\n",
            "                  +- *(2) HashAggregate(keys=[store_id#1996L, date#1995], functions=[sum(sales#1997)])\n",
            "                     +- Exchange hashpartitioning(store_id#1996L, date#1995, 200), true, [id=#968]\n",
            "                        +- *(1) HashAggregate(keys=[store_id#1996L, date#1995], functions=[partial_sum(sales#1997)])\n",
            "                           +- *(1) Scan ExistingRDD[date#1995,store_id#1996L,sales#1997]\n",
            "\n",
            "\n"
          ],
          "name": "stdout"
        }
      ]
    },
    {
      "cell_type": "code",
      "metadata": {
        "id": "eh_0EWSat78D"
      },
      "source": [
        "from pyspark.sql.types import *\n",
        "\n",
        "result_schema =StructType([\n",
        "                           StructField('ds',TimestampType()),\n",
        "                           StructField('store_id',IntegerType()),\n",
        "                           StructField('y',DoubleType()),\n",
        "                           StructField('yhat',DoubleType()),\n",
        "                           StructField('yhat_upper',DoubleType()),\n",
        "                           StructField('yhat_lower',DoubleType())\n",
        "])"
      ],
      "execution_count": 118,
      "outputs": []
    },
    {
      "cell_type": "code",
      "metadata": {
        "id": "kEjOia3TwJ8p"
      },
      "source": [
        "from pyspark.sql.functions import pandas_udf,PandasUDFType\n",
        "\n",
        "@pandas_udf(result_schema,PandasUDFType.GROUPED_MAP)\n",
        "\n",
        "def forecast_sales(store_pd):\n",
        "  model =Prophet(interval_width=0.95,seasonality_mode='multiplicative',weekly_seasonality=True,yearly_seasonality=True)\n",
        "  model.fit(store_pd)\n",
        "\n",
        "  future_pd = model.make_future_dataframe(\n",
        "      periods=5,\n",
        "      freq='w'\n",
        "  )\n",
        "  forecast_pd = model.predict(future_pd)\n",
        "\n",
        "  f_pd =forecast_pd[['ds','yhat','yhat_upper','yhat_lower']].set_index('ds')\n",
        "  st_pd = store_pd[['ds','store_id','y']].set_index('ds')\n",
        "\n",
        "  result_pd =f_pd.join(st_pd,how='left')\n",
        "  result_pd.reset_index(level=0, inplace=True)\n",
        "  result_pd['store_id']= store_pd['store_id'].iloc[0]\n",
        "\n",
        "  return result_pd [['ds','store_id','y','yhat','yhat_upper','yhat_lower']]\n",
        "\n"
      ],
      "execution_count": 119,
      "outputs": []
    },
    {
      "cell_type": "code",
      "metadata": {
        "id": "ro55Uw6nz9lA",
        "outputId": "054871e3-c263-44b6-9542-756c11bffdcf",
        "colab": {
          "base_uri": "https://localhost:8080/",
          "height": 85
        }
      },
      "source": [
        "from pyspark.sql.functions import current_date\n",
        "\n",
        "results=(\n",
        "    store_part\n",
        "    .groupBy('store_id')\n",
        "    .apply(forecast_sales)\n",
        "    .withColumn('training_date',current_date())\n",
        "\n",
        ")"
      ],
      "execution_count": 120,
      "outputs": [
        {
          "output_type": "stream",
          "text": [
            "/usr/local/lib/python3.6/dist-packages/pyspark/sql/pandas/group_ops.py:76: UserWarning:\n",
            "\n",
            "It is preferred to use 'applyInPandas' over this API. This API will be deprecated in the future releases. See SPARK-28264 for more details.\n",
            "\n"
          ],
          "name": "stderr"
        }
      ]
    },
    {
      "cell_type": "code",
      "metadata": {
        "id": "U6fGyxTX0w67",
        "outputId": "cc48e514-337e-4f11-eae3-3648dfc308f1",
        "colab": {
          "base_uri": "https://localhost:8080/",
          "height": 34
        }
      },
      "source": [
        "results.cache()"
      ],
      "execution_count": 121,
      "outputs": [
        {
          "output_type": "execute_result",
          "data": {
            "text/plain": [
              "DataFrame[ds: timestamp, store_id: int, y: double, yhat: double, yhat_upper: double, yhat_lower: double, training_date: date]"
            ]
          },
          "metadata": {
            "tags": []
          },
          "execution_count": 121
        }
      ]
    },
    {
      "cell_type": "code",
      "metadata": {
        "id": "v7vYg52x00-z",
        "outputId": "ab45d909-b250-4f49-df2d-bbdd68907fde",
        "colab": {
          "base_uri": "https://localhost:8080/",
          "height": 459
        }
      },
      "source": [
        "results.show()"
      ],
      "execution_count": 122,
      "outputs": [
        {
          "output_type": "stream",
          "text": [
            "+-------------------+--------+------------------+------------------+------------------+------------------+-------------+\n",
            "|                 ds|store_id|                 y|              yhat|        yhat_upper|        yhat_lower|training_date|\n",
            "+-------------------+--------+------------------+------------------+------------------+------------------+-------------+\n",
            "|2019-01-06 00:00:00|      25|       736657.2267| 712575.0694095818| 944247.8848601249| 490541.2203680857|   2020-10-08|\n",
            "|2019-01-13 00:00:00|      25|       696457.1717| 743751.7568979745| 963987.3859748896|512388.47554873675|   2020-10-08|\n",
            "|2019-01-20 00:00:00|      25|        996876.875| 972909.8778074606|1201136.7201516894| 750703.9986539291|   2020-10-08|\n",
            "|2019-01-27 00:00:00|      25|        1029737.05|1034447.5557655566|1281710.3248981189| 796029.1203476639|   2020-10-08|\n",
            "|2019-02-03 00:00:00|      25|       1072873.705| 986365.7266813249|1230485.5075665866| 755821.1736624571|   2020-10-08|\n",
            "|2019-02-10 00:00:00|      25|       880462.4681|1016291.0609378252|1250318.6654916278|  798249.579629274|   2020-10-08|\n",
            "|2019-02-17 00:00:00|      25|        1088756.78|1108793.2648377852|1323568.9474293496| 854035.5493905949|   2020-10-08|\n",
            "|2019-02-24 00:00:00|      25|       1266928.313| 1099825.778191229|1351493.6976418982| 847742.3545814962|   2020-10-08|\n",
            "|2019-03-03 00:00:00|      25|       907510.1217| 954930.7385069402|1183285.2516584373| 703005.4296487657|   2020-10-08|\n",
            "|2019-03-10 00:00:00|      25|       747920.9824| 840307.5565039386|1071382.1728822577| 624692.3161927373|   2020-10-08|\n",
            "|2019-03-17 00:00:00|      25|       904750.3158| 895698.5219485628|1117168.4395428053| 655856.0684058025|   2020-10-08|\n",
            "|2019-03-24 00:00:00|      25|1069857.5890000002|1040022.5385733753|1262896.5289694928| 809005.4326238843|   2020-10-08|\n",
            "|2019-03-31 00:00:00|      25|       1195574.314|1078329.0328818252|1300391.1861826286| 852678.9238058643|   2020-10-08|\n",
            "|2019-04-07 00:00:00|      25|       834911.3333| 957531.8584538421|1194538.6462818547| 729598.0498887976|   2020-10-08|\n",
            "|2019-04-14 00:00:00|      25|       788777.4167| 825594.4716870873| 1066155.934816222| 578771.6596098875|   2020-10-08|\n",
            "|2019-04-21 00:00:00|      25|       849603.4333|  826255.107714139|1053486.9484718805| 595685.0577486122|   2020-10-08|\n",
            "|2019-04-28 00:00:00|      25|        965521.165| 913980.6218906845|1155705.5528546749| 694380.7268116015|   2020-10-08|\n",
            "|2019-05-05 00:00:00|      25|       1045632.688|  931383.522344465|1170599.0874260901| 696779.1485787127|   2020-10-08|\n",
            "|2019-05-12 00:00:00|      25|        587768.245| 831326.9849957973|1054954.2674090937| 598163.1155960406|   2020-10-08|\n",
            "|2019-05-19 00:00:00|      25|       806767.5946| 740232.6751864685| 981255.1294516118| 531207.5326333401|   2020-10-08|\n",
            "+-------------------+--------+------------------+------------------+------------------+------------------+-------------+\n",
            "only showing top 20 rows\n",
            "\n"
          ],
          "name": "stdout"
        }
      ]
    },
    {
      "cell_type": "code",
      "metadata": {
        "id": "2NA1JSjG05g_",
        "outputId": "3dcc7cde-f9e9-4e57-d4a4-46d4f93ab807",
        "colab": {
          "base_uri": "https://localhost:8080/",
          "height": 326
        }
      },
      "source": [
        "results.explain()"
      ],
      "execution_count": 123,
      "outputs": [
        {
          "output_type": "stream",
          "text": [
            "== Physical Plan ==\n",
            "InMemoryTableScan [ds#2157, store_id#2158, y#2159, yhat#2160, yhat_upper#2161, yhat_lower#2162, training_date#2169]\n",
            "   +- InMemoryRelation [ds#2157, store_id#2158, y#2159, yhat#2160, yhat_upper#2161, yhat_lower#2162, training_date#2169], StorageLevel(disk, memory, deserialized, 1 replicas)\n",
            "         +- *(2) Project [ds#2157, store_id#2158, y#2159, yhat#2160, yhat_upper#2161, yhat_lower#2162, 18543 AS training_date#2169]\n",
            "            +- FlatMapGroupsInPandas [store_id#1996L], forecast_sales(store_id#1996L, ds#2081, y#2082), [ds#2157, store_id#2158, y#2159, yhat#2160, yhat_upper#2161, yhat_lower#2162]\n",
            "               +- *(1) Sort [store_id#1996L ASC NULLS FIRST], false, 0\n",
            "                  +- InMemoryTableScan [store_id#1996L, store_id#1996L, ds#2081, y#2082]\n",
            "                        +- InMemoryRelation [store_id#1996L, ds#2081, y#2082], StorageLevel(disk, memory, deserialized, 1 replicas)\n",
            "                              +- Exchange hashpartitioning(store_id#1996L, 1), false, [id=#976]\n",
            "                                 +- *(3) Sort [store_id#1996L ASC NULLS FIRST, ds#2081 ASC NULLS FIRST], true, 0\n",
            "                                    +- Exchange rangepartitioning(store_id#1996L ASC NULLS FIRST, ds#2081 ASC NULLS FIRST, 200), true, [id=#972]\n",
            "                                       +- *(2) HashAggregate(keys=[store_id#1996L, date#1995], functions=[sum(sales#1997)])\n",
            "                                          +- Exchange hashpartitioning(store_id#1996L, date#1995, 200), true, [id=#968]\n",
            "                                             +- *(1) HashAggregate(keys=[store_id#1996L, date#1995], functions=[partial_sum(sales#1997)])\n",
            "                                                +- *(1) Scan ExistingRDD[date#1995,store_id#1996L,sales#1997]\n",
            "\n",
            "\n"
          ],
          "name": "stdout"
        }
      ]
    },
    {
      "cell_type": "code",
      "metadata": {
        "id": "rBI__xSB1L1A",
        "outputId": "3743343f-9096-440d-8fcf-eaa060774c11",
        "colab": {
          "base_uri": "https://localhost:8080/",
          "height": 34
        }
      },
      "source": [
        "results.coalesce(1)"
      ],
      "execution_count": 124,
      "outputs": [
        {
          "output_type": "execute_result",
          "data": {
            "text/plain": [
              "DataFrame[ds: timestamp, store_id: int, y: double, yhat: double, yhat_upper: double, yhat_lower: double, training_date: date]"
            ]
          },
          "metadata": {
            "tags": []
          },
          "execution_count": 124
        }
      ]
    },
    {
      "cell_type": "code",
      "metadata": {
        "id": "zHoHWqHJ3CgK"
      },
      "source": [
        "results.createOrReplaceTempView('forcasted')"
      ],
      "execution_count": 125,
      "outputs": []
    },
    {
      "cell_type": "code",
      "metadata": {
        "id": "a_KSg9q33M6b",
        "outputId": "09027496-47eb-42b4-91c4-55d1ad79d372",
        "colab": {
          "base_uri": "https://localhost:8080/",
          "height": 272
        }
      },
      "source": [
        "spark.sql('select store_id,count(*) from forcasted group by store_id').show()"
      ],
      "execution_count": 127,
      "outputs": [
        {
          "output_type": "stream",
          "text": [
            "+--------+--------+\n",
            "|store_id|count(1)|\n",
            "+--------+--------+\n",
            "|      31|      55|\n",
            "|      28|      55|\n",
            "|      26|      55|\n",
            "|      44|      55|\n",
            "|      41|      55|\n",
            "|      35|      55|\n",
            "|      38|      55|\n",
            "|      25|      55|\n",
            "|      29|      55|\n",
            "|      30|      55|\n",
            "+--------+--------+\n",
            "\n"
          ],
          "name": "stdout"
        }
      ]
    },
    {
      "cell_type": "code",
      "metadata": {
        "id": "u28g0SFi3bzw"
      },
      "source": [
        "final_df= results.toPandas()"
      ],
      "execution_count": 128,
      "outputs": []
    },
    {
      "cell_type": "code",
      "metadata": {
        "id": "NdLoiEK03nlv",
        "outputId": "f438bf04-30b3-4ef6-b706-415fea3bae2a",
        "colab": {
          "base_uri": "https://localhost:8080/",
          "height": 419
        }
      },
      "source": [
        "final_df"
      ],
      "execution_count": 129,
      "outputs": [
        {
          "output_type": "execute_result",
          "data": {
            "text/html": [
              "<div>\n",
              "<style scoped>\n",
              "    .dataframe tbody tr th:only-of-type {\n",
              "        vertical-align: middle;\n",
              "    }\n",
              "\n",
              "    .dataframe tbody tr th {\n",
              "        vertical-align: top;\n",
              "    }\n",
              "\n",
              "    .dataframe thead th {\n",
              "        text-align: right;\n",
              "    }\n",
              "</style>\n",
              "<table border=\"1\" class=\"dataframe\">\n",
              "  <thead>\n",
              "    <tr style=\"text-align: right;\">\n",
              "      <th></th>\n",
              "      <th>ds</th>\n",
              "      <th>store_id</th>\n",
              "      <th>y</th>\n",
              "      <th>yhat</th>\n",
              "      <th>yhat_upper</th>\n",
              "      <th>yhat_lower</th>\n",
              "      <th>training_date</th>\n",
              "    </tr>\n",
              "  </thead>\n",
              "  <tbody>\n",
              "    <tr>\n",
              "      <th>0</th>\n",
              "      <td>2019-01-06</td>\n",
              "      <td>25</td>\n",
              "      <td>7.366572e+05</td>\n",
              "      <td>7.125751e+05</td>\n",
              "      <td>9.442479e+05</td>\n",
              "      <td>490541.220368</td>\n",
              "      <td>2020-10-08</td>\n",
              "    </tr>\n",
              "    <tr>\n",
              "      <th>1</th>\n",
              "      <td>2019-01-13</td>\n",
              "      <td>25</td>\n",
              "      <td>6.964572e+05</td>\n",
              "      <td>7.437518e+05</td>\n",
              "      <td>9.639874e+05</td>\n",
              "      <td>512388.475549</td>\n",
              "      <td>2020-10-08</td>\n",
              "    </tr>\n",
              "    <tr>\n",
              "      <th>2</th>\n",
              "      <td>2019-01-20</td>\n",
              "      <td>25</td>\n",
              "      <td>9.968769e+05</td>\n",
              "      <td>9.729099e+05</td>\n",
              "      <td>1.201137e+06</td>\n",
              "      <td>750703.998654</td>\n",
              "      <td>2020-10-08</td>\n",
              "    </tr>\n",
              "    <tr>\n",
              "      <th>3</th>\n",
              "      <td>2019-01-27</td>\n",
              "      <td>25</td>\n",
              "      <td>1.029737e+06</td>\n",
              "      <td>1.034448e+06</td>\n",
              "      <td>1.281710e+06</td>\n",
              "      <td>796029.120348</td>\n",
              "      <td>2020-10-08</td>\n",
              "    </tr>\n",
              "    <tr>\n",
              "      <th>4</th>\n",
              "      <td>2019-02-03</td>\n",
              "      <td>25</td>\n",
              "      <td>1.072874e+06</td>\n",
              "      <td>9.863657e+05</td>\n",
              "      <td>1.230486e+06</td>\n",
              "      <td>755821.173662</td>\n",
              "      <td>2020-10-08</td>\n",
              "    </tr>\n",
              "    <tr>\n",
              "      <th>...</th>\n",
              "      <td>...</td>\n",
              "      <td>...</td>\n",
              "      <td>...</td>\n",
              "      <td>...</td>\n",
              "      <td>...</td>\n",
              "      <td>...</td>\n",
              "      <td>...</td>\n",
              "    </tr>\n",
              "    <tr>\n",
              "      <th>545</th>\n",
              "      <td>2019-12-22</td>\n",
              "      <td>44</td>\n",
              "      <td>NaN</td>\n",
              "      <td>6.265474e+04</td>\n",
              "      <td>1.260991e+05</td>\n",
              "      <td>-2244.195694</td>\n",
              "      <td>2020-10-08</td>\n",
              "    </tr>\n",
              "    <tr>\n",
              "      <th>546</th>\n",
              "      <td>2019-12-29</td>\n",
              "      <td>44</td>\n",
              "      <td>NaN</td>\n",
              "      <td>2.657442e+04</td>\n",
              "      <td>9.121606e+04</td>\n",
              "      <td>-37149.123517</td>\n",
              "      <td>2020-10-08</td>\n",
              "    </tr>\n",
              "    <tr>\n",
              "      <th>547</th>\n",
              "      <td>2020-01-05</td>\n",
              "      <td>44</td>\n",
              "      <td>NaN</td>\n",
              "      <td>8.801264e+03</td>\n",
              "      <td>7.096872e+04</td>\n",
              "      <td>-54174.654845</td>\n",
              "      <td>2020-10-08</td>\n",
              "    </tr>\n",
              "    <tr>\n",
              "      <th>548</th>\n",
              "      <td>2020-01-12</td>\n",
              "      <td>44</td>\n",
              "      <td>NaN</td>\n",
              "      <td>4.665900e+03</td>\n",
              "      <td>7.064309e+04</td>\n",
              "      <td>-60507.848185</td>\n",
              "      <td>2020-10-08</td>\n",
              "    </tr>\n",
              "    <tr>\n",
              "      <th>549</th>\n",
              "      <td>2020-01-19</td>\n",
              "      <td>44</td>\n",
              "      <td>NaN</td>\n",
              "      <td>2.708830e+03</td>\n",
              "      <td>6.522113e+04</td>\n",
              "      <td>-59055.690354</td>\n",
              "      <td>2020-10-08</td>\n",
              "    </tr>\n",
              "  </tbody>\n",
              "</table>\n",
              "<p>550 rows × 7 columns</p>\n",
              "</div>"
            ],
            "text/plain": [
              "            ds  store_id  ...     yhat_lower  training_date\n",
              "0   2019-01-06        25  ...  490541.220368     2020-10-08\n",
              "1   2019-01-13        25  ...  512388.475549     2020-10-08\n",
              "2   2019-01-20        25  ...  750703.998654     2020-10-08\n",
              "3   2019-01-27        25  ...  796029.120348     2020-10-08\n",
              "4   2019-02-03        25  ...  755821.173662     2020-10-08\n",
              "..         ...       ...  ...            ...            ...\n",
              "545 2019-12-22        44  ...   -2244.195694     2020-10-08\n",
              "546 2019-12-29        44  ...  -37149.123517     2020-10-08\n",
              "547 2020-01-05        44  ...  -54174.654845     2020-10-08\n",
              "548 2020-01-12        44  ...  -60507.848185     2020-10-08\n",
              "549 2020-01-19        44  ...  -59055.690354     2020-10-08\n",
              "\n",
              "[550 rows x 7 columns]"
            ]
          },
          "metadata": {
            "tags": []
          },
          "execution_count": 129
        }
      ]
    },
    {
      "cell_type": "code",
      "metadata": {
        "id": "5xUXRaYf3o9e",
        "outputId": "1dfb820b-0a34-4228-e3fe-801cc67b3915",
        "colab": {
          "base_uri": "https://localhost:8080/",
          "height": 450
        }
      },
      "source": [
        "final_df.set_index('ds')"
      ],
      "execution_count": 131,
      "outputs": [
        {
          "output_type": "execute_result",
          "data": {
            "text/html": [
              "<div>\n",
              "<style scoped>\n",
              "    .dataframe tbody tr th:only-of-type {\n",
              "        vertical-align: middle;\n",
              "    }\n",
              "\n",
              "    .dataframe tbody tr th {\n",
              "        vertical-align: top;\n",
              "    }\n",
              "\n",
              "    .dataframe thead th {\n",
              "        text-align: right;\n",
              "    }\n",
              "</style>\n",
              "<table border=\"1\" class=\"dataframe\">\n",
              "  <thead>\n",
              "    <tr style=\"text-align: right;\">\n",
              "      <th></th>\n",
              "      <th>store_id</th>\n",
              "      <th>y</th>\n",
              "      <th>yhat</th>\n",
              "      <th>yhat_upper</th>\n",
              "      <th>yhat_lower</th>\n",
              "      <th>training_date</th>\n",
              "    </tr>\n",
              "    <tr>\n",
              "      <th>ds</th>\n",
              "      <th></th>\n",
              "      <th></th>\n",
              "      <th></th>\n",
              "      <th></th>\n",
              "      <th></th>\n",
              "      <th></th>\n",
              "    </tr>\n",
              "  </thead>\n",
              "  <tbody>\n",
              "    <tr>\n",
              "      <th>2019-01-06</th>\n",
              "      <td>25</td>\n",
              "      <td>7.366572e+05</td>\n",
              "      <td>7.125751e+05</td>\n",
              "      <td>9.442479e+05</td>\n",
              "      <td>490541.220368</td>\n",
              "      <td>2020-10-08</td>\n",
              "    </tr>\n",
              "    <tr>\n",
              "      <th>2019-01-13</th>\n",
              "      <td>25</td>\n",
              "      <td>6.964572e+05</td>\n",
              "      <td>7.437518e+05</td>\n",
              "      <td>9.639874e+05</td>\n",
              "      <td>512388.475549</td>\n",
              "      <td>2020-10-08</td>\n",
              "    </tr>\n",
              "    <tr>\n",
              "      <th>2019-01-20</th>\n",
              "      <td>25</td>\n",
              "      <td>9.968769e+05</td>\n",
              "      <td>9.729099e+05</td>\n",
              "      <td>1.201137e+06</td>\n",
              "      <td>750703.998654</td>\n",
              "      <td>2020-10-08</td>\n",
              "    </tr>\n",
              "    <tr>\n",
              "      <th>2019-01-27</th>\n",
              "      <td>25</td>\n",
              "      <td>1.029737e+06</td>\n",
              "      <td>1.034448e+06</td>\n",
              "      <td>1.281710e+06</td>\n",
              "      <td>796029.120348</td>\n",
              "      <td>2020-10-08</td>\n",
              "    </tr>\n",
              "    <tr>\n",
              "      <th>2019-02-03</th>\n",
              "      <td>25</td>\n",
              "      <td>1.072874e+06</td>\n",
              "      <td>9.863657e+05</td>\n",
              "      <td>1.230486e+06</td>\n",
              "      <td>755821.173662</td>\n",
              "      <td>2020-10-08</td>\n",
              "    </tr>\n",
              "    <tr>\n",
              "      <th>...</th>\n",
              "      <td>...</td>\n",
              "      <td>...</td>\n",
              "      <td>...</td>\n",
              "      <td>...</td>\n",
              "      <td>...</td>\n",
              "      <td>...</td>\n",
              "    </tr>\n",
              "    <tr>\n",
              "      <th>2019-12-22</th>\n",
              "      <td>44</td>\n",
              "      <td>NaN</td>\n",
              "      <td>6.265474e+04</td>\n",
              "      <td>1.260991e+05</td>\n",
              "      <td>-2244.195694</td>\n",
              "      <td>2020-10-08</td>\n",
              "    </tr>\n",
              "    <tr>\n",
              "      <th>2019-12-29</th>\n",
              "      <td>44</td>\n",
              "      <td>NaN</td>\n",
              "      <td>2.657442e+04</td>\n",
              "      <td>9.121606e+04</td>\n",
              "      <td>-37149.123517</td>\n",
              "      <td>2020-10-08</td>\n",
              "    </tr>\n",
              "    <tr>\n",
              "      <th>2020-01-05</th>\n",
              "      <td>44</td>\n",
              "      <td>NaN</td>\n",
              "      <td>8.801264e+03</td>\n",
              "      <td>7.096872e+04</td>\n",
              "      <td>-54174.654845</td>\n",
              "      <td>2020-10-08</td>\n",
              "    </tr>\n",
              "    <tr>\n",
              "      <th>2020-01-12</th>\n",
              "      <td>44</td>\n",
              "      <td>NaN</td>\n",
              "      <td>4.665900e+03</td>\n",
              "      <td>7.064309e+04</td>\n",
              "      <td>-60507.848185</td>\n",
              "      <td>2020-10-08</td>\n",
              "    </tr>\n",
              "    <tr>\n",
              "      <th>2020-01-19</th>\n",
              "      <td>44</td>\n",
              "      <td>NaN</td>\n",
              "      <td>2.708830e+03</td>\n",
              "      <td>6.522113e+04</td>\n",
              "      <td>-59055.690354</td>\n",
              "      <td>2020-10-08</td>\n",
              "    </tr>\n",
              "  </tbody>\n",
              "</table>\n",
              "<p>550 rows × 6 columns</p>\n",
              "</div>"
            ],
            "text/plain": [
              "            store_id             y  ...     yhat_lower  training_date\n",
              "ds                                  ...                              \n",
              "2019-01-06        25  7.366572e+05  ...  490541.220368     2020-10-08\n",
              "2019-01-13        25  6.964572e+05  ...  512388.475549     2020-10-08\n",
              "2019-01-20        25  9.968769e+05  ...  750703.998654     2020-10-08\n",
              "2019-01-27        25  1.029737e+06  ...  796029.120348     2020-10-08\n",
              "2019-02-03        25  1.072874e+06  ...  755821.173662     2020-10-08\n",
              "...              ...           ...  ...            ...            ...\n",
              "2019-12-22        44           NaN  ...   -2244.195694     2020-10-08\n",
              "2019-12-29        44           NaN  ...  -37149.123517     2020-10-08\n",
              "2020-01-05        44           NaN  ...  -54174.654845     2020-10-08\n",
              "2020-01-12        44           NaN  ...  -60507.848185     2020-10-08\n",
              "2020-01-19        44           NaN  ...  -59055.690354     2020-10-08\n",
              "\n",
              "[550 rows x 6 columns]"
            ]
          },
          "metadata": {
            "tags": []
          },
          "execution_count": 131
        }
      ]
    },
    {
      "cell_type": "code",
      "metadata": {
        "id": "U8bx2kjy3rYR",
        "outputId": "f844bd2d-80e8-41bd-cffb-e62851c58fbb",
        "colab": {
          "base_uri": "https://localhost:8080/",
          "height": 500
        }
      },
      "source": [
        "final_df.query('store_id == 44')[['y','yhat']].plot()"
      ],
      "execution_count": 132,
      "outputs": [
        {
          "output_type": "execute_result",
          "data": {
            "text/plain": [
              "<matplotlib.axes._subplots.AxesSubplot at 0x7fdefff27390>"
            ]
          },
          "metadata": {
            "tags": []
          },
          "execution_count": 132
        },
        {
          "output_type": "display_data",
          "data": {
            "image/png": "[encoded data removed]",
            "text/plain": [
              "<Figure size 720x576 with 1 Axes>"
            ]
          },
          "metadata": {
            "tags": [],
            "needs_background": "light"
          }
        }
      ]
    }
  ]
}