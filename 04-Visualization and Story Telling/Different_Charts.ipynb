{
  "nbformat": 4,
  "nbformat_minor": 0,
  "metadata": {
    "colab": {
      "name": "Different Charts.ipynb",
      "provenance": [],
      "authorship_tag": "ABX9TyPUInJhqHo6RpIiG5NHodsJ",
      "include_colab_link": true
    },
    "kernelspec": {
      "name": "python3",
      "display_name": "Python 3"
    },
    "language_info": {
      "name": "python"
    }
  },
  "cells": [
    {
      "cell_type": "markdown",
      "metadata": {
        "id": "view-in-github",
        "colab_type": "text"
      },
      "source": [
        "<a href=\"https://colab.research.google.com/github/plthiyagu/AI-Engineering/blob/master/04-Visualization%20and%20Story%20Telling/Different_Charts.ipynb\" target=\"_parent\"><img src=\"https://colab.research.google.com/assets/colab-badge.svg\" alt=\"Open In Colab\"/></a>"
      ]
    },
    {
      "cell_type": "code",
      "metadata": {
        "id": "EMN5_SRr9n5O"
      },
      "source": [
        ""
      ],
      "execution_count": null,
      "outputs": []
    },
    {
      "cell_type": "markdown",
      "metadata": {
        "id": "Efuf-wPX9oWQ"
      },
      "source": [
        "1. Bar and Column Charts\n",
        "\n",
        "It’s one of the simplest graphs to understand how our quantitative field is performing across various categories. It is used for comparison.\n",
        "\n"
      ]
    },
    {
      "cell_type": "markdown",
      "metadata": {
        "id": "DhODgfdC9zsW"
      },
      "source": [
        "Scatter and bubble plots help us to understand how variables are spread across the range considered. It can be used to identify the patterns, the presence of outliers and the relationship between the two variables.\n",
        "\n"
      ]
    },
    {
      "cell_type": "markdown",
      "metadata": {
        "id": "uW6rcCxF9514"
      },
      "source": [
        "3. Line Graph\n",
        "\n",
        "It is preferred when time-dependent data has to be presented. It is best suited to analyse the trend"
      ]
    },
    {
      "cell_type": "markdown",
      "metadata": {
        "id": "7NpIcav39-pA"
      },
      "source": [
        "4. Histogram\n",
        "\n",
        "A histogram is a frequency chart that records the number of occurrences of an entry in a data set. It is useful when you want to understand the distribution of a series.\n",
        "\n"
      ]
    },
    {
      "cell_type": "markdown",
      "metadata": {
        "id": "qvgFuVbw-Dhe"
      },
      "source": [
        "5. Box Plot\n",
        "\n",
        "Box plots are effective in summarizing the spread of large data. They use percentile to divide the data range. This helps us to understand data point which falls below or above a chosen data point. It helps us to identify outliers in the data.\n",
        "\n"
      ]
    },
    {
      "cell_type": "markdown",
      "metadata": {
        "id": "iyRjvBHM-Itx"
      },
      "source": [
        "6.  Subplots\n",
        "\n",
        "Sometimes it’s better to plot different plots in the same grid to understand and compare the data better.\n",
        "\n"
      ]
    },
    {
      "cell_type": "markdown",
      "metadata": {
        "id": "eL2T2ql7-M_k"
      },
      "source": [
        "7. Donut, Pie charts and stacked column charts\n",
        "\n",
        "When we want to find the composition of data above-mentioned charts is the best.\n",
        "\n"
      ]
    },
    {
      "cell_type": "markdown",
      "metadata": {
        "id": "NuxcE0zz-Q_K"
      },
      "source": [
        "8. Heatmaps\n",
        "\n",
        "It is the most preferred chart when we want to check if any correlation between variables.\n",
        "\n"
      ]
    },
    {
      "cell_type": "code",
      "metadata": {
        "id": "DVByBufO9tbr"
      },
      "source": [
        "import numpy as np\n",
        "import pandas as pd\n",
        "import matplotlib.pyplot as plt\n",
        "import seaborn as sns"
      ],
      "execution_count": 1,
      "outputs": []
    },
    {
      "cell_type": "code",
      "metadata": {
        "id": "bu0jmE4B-Vb2"
      },
      "source": [
        ""
      ],
      "execution_count": null,
      "outputs": []
    }
  ]
}