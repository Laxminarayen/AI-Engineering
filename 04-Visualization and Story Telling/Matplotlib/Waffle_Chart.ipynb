{
  "nbformat": 4,
  "nbformat_minor": 0,
  "metadata": {
    "colab": {
      "name": "Waffle Chart.ipynb",
      "provenance": [],
      "authorship_tag": "ABX9TyNiJztHuxAVo5+S4bnp2yhr",
      "include_colab_link": true
    },
    "kernelspec": {
      "name": "python3",
      "display_name": "Python 3"
    },
    "language_info": {
      "name": "python"
    }
  },
  "cells": [
    {
      "cell_type": "markdown",
      "metadata": {
        "id": "view-in-github",
        "colab_type": "text"
      },
      "source": [
        "<a href=\"https://colab.research.google.com/github/plthiyagu/AI-Engineering/blob/master/04-Visualization%20and%20Story%20Telling/Matplotlib/Waffle_Chart.ipynb\" target=\"_parent\"><img src=\"https://colab.research.google.com/assets/colab-badge.svg\" alt=\"Open In Colab\"/></a>"
      ]
    },
    {
      "cell_type": "code",
      "metadata": {
        "id": "STeb7DeZQnjI",
        "colab": {
          "base_uri": "https://localhost:8080/",
          "height": 414
        },
        "outputId": "9d7f9ac0-938f-47fd-8673-81277b413bc1"
      },
      "source": [
        "import numpy as np\n",
        "import pandas as pd\n",
        "import matplotlib.pyplot as plt\n",
        "import matplotlib.patches as mpatches\n",
        "import matplotlib.font_manager as font_manager\n",
        "\n",
        "'''\n",
        "Step 1. Setting up the data\n",
        "           categories  values\n",
        "0            Facebook    2701\n",
        "1             YouTube    2000\n",
        "2            WhatsApp    2000\n",
        "3  Facebook Messenger    1300\n",
        "'''\n",
        "\n",
        "data = {\n",
        "    'categories': ['YouTube', 'Facebook', 'WhatsApp', 'Facebook Messenger'],\n",
        "    'values': [2000, 2701, 2000, 1300]\n",
        "}\n",
        "\n",
        "df = pd.DataFrame(data)\n",
        "df.sort_values(by=['values'], axis=0, ascending=False, inplace=True)\n",
        "df.reset_index(drop=True, inplace=True)\n",
        "\n",
        "\n",
        "'''\n",
        "Step 2. set waffle size\n",
        "'''\n",
        "waffle_width = 20 # column number\n",
        "waffle_height = 7 # row number\n",
        "\n",
        "companies = df['categories']\n",
        "values = df['values']\n",
        "\n",
        "\n",
        "'''\n",
        "Step 3.1 Calculuate item proportion\n",
        "'''\n",
        "proportions = [value/sum(values) for value in values]\n",
        "\n",
        "'''\n",
        "Step 3.2 Calculuate total blocks/chunks\n",
        "'''\n",
        "total_blocks = waffle_width * waffle_height\n",
        "\n",
        "'''\n",
        "Step 3.3 Calculate chunk blocks\n",
        "'''\n",
        "blocks_per_chunk = [round(proportion * total_blocks) for proportion in proportions]\n",
        "\n",
        "\n",
        "'''\n",
        "Step 4. Generate matrix table\n",
        "20 * 7\n",
        "[[0. 0. 0. 0. 0. 0. 0. 0. 0. 0. 0. 0. 0. 0. 0. 0. 0. 0. 0. 0.]\n",
        " [0. 0. 0. 0. 0. 0. 0. 0. 0. 0. 0. 0. 0. 0. 0. 0. 0. 0. 0. 0.]\n",
        " [0. 0. 0. 0. 0. 0. 0. 0. 0. 0. 0. 0. 0. 0. 0. 0. 0. 0. 0. 0.]\n",
        " [0. 0. 0. 0. 0. 0. 0. 0. 0. 0. 0. 0. 0. 0. 0. 0. 0. 0. 0. 0.]\n",
        " [0. 0. 0. 0. 0. 0. 0. 0. 0. 0. 0. 0. 0. 0. 0. 0. 0. 0. 0. 0.]\n",
        " [0. 0. 0. 0. 0. 0. 0. 0. 0. 0. 0. 0. 0. 0. 0. 0. 0. 0. 0. 0.]\n",
        " [0. 0. 0. 0. 0. 0. 0. 0. 0. 0. 0. 0. 0. 0. 0. 0. 0. 0. 0. 0.]]\n",
        "'''\n",
        "\n",
        "matrix_table = np.zeros((waffle_height, waffle_width))\n",
        "\n",
        "# 1, 2, 3, 4\n",
        "'''\n",
        "[[1. 1. 1. 1. 1. 1. 1. 2. 2. 2. 2. 2. 3. 3. 3. 3. 3. 4. 4. 4.]\n",
        " [1. 1. 1. 1. 1. 1. 1. 2. 2. 2. 2. 2. 3. 3. 3. 3. 3. 4. 4. 4.]\n",
        " [1. 1. 1. 1. 1. 1. 1. 2. 2. 2. 2. 2. 3. 3. 3. 3. 3. 4. 4. 4.]\n",
        " [1. 1. 1. 1. 1. 1. 1. 2. 2. 2. 2. 2. 3. 3. 3. 3. 3. 4. 4. 4.]\n",
        " [1. 1. 1. 1. 1. 1. 1. 2. 2. 2. 2. 2. 3. 3. 3. 3. 3. 4. 4. 4.]\n",
        " [1. 1. 1. 1. 1. 1. 2. 2. 2. 2. 2. 3. 3. 3. 3. 3. 4. 4. 4. 4.]\n",
        " [1. 1. 1. 1. 1. 1. 2. 2. 2. 2. 2. 3. 3. 3. 3. 3. 4. 4. 4. 4.]]\n",
        "'''\n",
        "company_identifier = 0\n",
        "block_index = 0\n",
        "\n",
        "for col in range(waffle_width):\n",
        "    for row in range(waffle_height):\n",
        "        block_index += 1\n",
        "\n",
        "        if block_index > sum(blocks_per_chunk[0:company_identifier]):\n",
        "            company_identifier += 1\n",
        "\n",
        "        matrix_table[row, col] = company_identifier\n",
        "\n",
        "'''\n",
        "Step 5. Graph the waffle chart\n",
        "'''\n",
        "fig, axes = plt.subplots(figsize=(15, 7)) # width, height\n",
        "\n",
        "color_map_style = plt.cm.summer\n",
        "matshow = axes.matshow(matrix_table, cmap=color_map_style)\n",
        "\n",
        "# graph axes object\n",
        "ax = plt.gca()\n",
        "\n",
        "# inserting the minor ticks\n",
        "ax.set_xticks(np.arange(-.5, waffle_width, 1), minor=True)\n",
        "ax.set_yticks(np.arange(-.5, waffle_height, 1), minor=True)\n",
        "\n",
        "# apply gridlines\n",
        "ax.grid(which='minor', color='w', linestyle='-', linewidth=2)\n",
        "ax.set_title('My Waffle Chart', fontdict={'fontsize': 22, 'fontweight': 'medium'})\n",
        "\n",
        "plt.xticks([])\n",
        "plt.yticks([])\n",
        "\n",
        "\n",
        "'''\n",
        "Step 6. Insert a legend\n",
        "'''\n",
        "legend = []\n",
        "for indx, company_name in enumerate(companies):\n",
        "    label_text = '{1}: ({0})'.format(values[indx], company_name)\n",
        "    color_value = color_map_style(int(indx+1)/len(companies))\n",
        "    legend.append(mpatches.Patch(color=color_value, label=label_text))\n",
        "\n",
        "font = font_manager.FontProperties(\n",
        "    family='Comic Sans MS',\n",
        "    weight='bold',\n",
        "    style='normal',\n",
        "    size=14\n",
        ")\n",
        "\n",
        "plt.legend(\n",
        "    handles=legend,\n",
        "    loc='lower center',\n",
        "    ncol=len(companies),\n",
        "    prop=font,\n",
        "    bbox_to_anchor=(0.02, -.15, 0.95, 0.7) # x, y, width, height\n",
        ")   \n",
        "\n",
        "plt.show()"
      ],
      "execution_count": null,
      "outputs": [
        {
          "output_type": "stream",
          "text": [
            "findfont: Font family ['Comic Sans MS'] not found. Falling back to DejaVu Sans.\n"
          ],
          "name": "stderr"
        },
        {
          "output_type": "display_data",
          "data": {
            "image/png": "[encoded data removed]",
            "text/plain": [
              "<Figure size 1080x504 with 1 Axes>"
            ]
          },
          "metadata": {
            "tags": []
          }
        }
      ]
    },
    {
      "cell_type": "code",
      "metadata": {
        "id": "w-ER3UgEQpPC"
      },
      "source": [
        ""
      ],
      "execution_count": null,
      "outputs": []
    }
  ]
}