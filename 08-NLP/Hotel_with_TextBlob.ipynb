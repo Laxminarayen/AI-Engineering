{
  "nbformat": 4,
  "nbformat_minor": 0,
  "metadata": {
    "colab": {
      "name": "Hotel_with_TextBlob.ipynb",
      "provenance": [],
      "authorship_tag": "ABX9TyP56I+iKa0i9Fe03PZogCiK",
      "include_colab_link": true
    },
    "kernelspec": {
      "name": "python3",
      "display_name": "Python 3"
    }
  },
  "cells": [
    {
      "cell_type": "markdown",
      "metadata": {
        "id": "view-in-github",
        "colab_type": "text"
      },
      "source": [
        "<a href=\"https://colab.research.google.com/github/plthiyagu/AI-Engineering/blob/master/08-NLP/Hotel_with_TextBlob.ipynb\" target=\"_parent\"><img src=\"https://colab.research.google.com/assets/colab-badge.svg\" alt=\"Open In Colab\"/></a>"
      ]
    },
    {
      "cell_type": "code",
      "metadata": {
        "colab": {
          "base_uri": "https://localhost:8080/"
        },
        "id": "1Kmnhx6QIZ95",
        "outputId": "75e70c1f-850d-4c6a-c93c-2eca47ea5e1b"
      },
      "source": [
        "!pip install lime"
      ],
      "execution_count": 2,
      "outputs": [
        {
          "output_type": "stream",
          "text": [
            "Collecting lime\n",
            "\u001b[?25l  Downloading https://files.pythonhosted.org/packages/f5/86/91a13127d83d793ecb50eb75e716f76e6eda809b6803c5a4ff462339789e/lime-0.2.0.1.tar.gz (275kB)\n",
            "\r\u001b[K     |█▏                              | 10kB 16.9MB/s eta 0:00:01\r\u001b[K     |██▍                             | 20kB 12.3MB/s eta 0:00:01\r\u001b[K     |███▋                            | 30kB 8.2MB/s eta 0:00:01\r\u001b[K     |████▊                           | 40kB 7.2MB/s eta 0:00:01\r\u001b[K     |██████                          | 51kB 4.5MB/s eta 0:00:01\r\u001b[K     |███████▏                        | 61kB 5.1MB/s eta 0:00:01\r\u001b[K     |████████▎                       | 71kB 5.1MB/s eta 0:00:01\r\u001b[K     |█████████▌                      | 81kB 5.4MB/s eta 0:00:01\r\u001b[K     |██████████▊                     | 92kB 5.4MB/s eta 0:00:01\r\u001b[K     |███████████▉                    | 102kB 5.7MB/s eta 0:00:01\r\u001b[K     |█████████████                   | 112kB 5.7MB/s eta 0:00:01\r\u001b[K     |██████████████▎                 | 122kB 5.7MB/s eta 0:00:01\r\u001b[K     |███████████████▌                | 133kB 5.7MB/s eta 0:00:01\r\u001b[K     |████████████████▋               | 143kB 5.7MB/s eta 0:00:01\r\u001b[K     |█████████████████▉              | 153kB 5.7MB/s eta 0:00:01\r\u001b[K     |███████████████████             | 163kB 5.7MB/s eta 0:00:01\r\u001b[K     |████████████████████▏           | 174kB 5.7MB/s eta 0:00:01\r\u001b[K     |█████████████████████▍          | 184kB 5.7MB/s eta 0:00:01\r\u001b[K     |██████████████████████▋         | 194kB 5.7MB/s eta 0:00:01\r\u001b[K     |███████████████████████▊        | 204kB 5.7MB/s eta 0:00:01\r\u001b[K     |█████████████████████████       | 215kB 5.7MB/s eta 0:00:01\r\u001b[K     |██████████████████████████▏     | 225kB 5.7MB/s eta 0:00:01\r\u001b[K     |███████████████████████████▍    | 235kB 5.7MB/s eta 0:00:01\r\u001b[K     |████████████████████████████▌   | 245kB 5.7MB/s eta 0:00:01\r\u001b[K     |█████████████████████████████▊  | 256kB 5.7MB/s eta 0:00:01\r\u001b[K     |███████████████████████████████ | 266kB 5.7MB/s eta 0:00:01\r\u001b[K     |████████████████████████████████| 276kB 5.7MB/s \n",
            "\u001b[?25hRequirement already satisfied: matplotlib in /usr/local/lib/python3.6/dist-packages (from lime) (3.2.2)\n",
            "Requirement already satisfied: numpy in /usr/local/lib/python3.6/dist-packages (from lime) (1.19.4)\n",
            "Requirement already satisfied: scipy in /usr/local/lib/python3.6/dist-packages (from lime) (1.4.1)\n",
            "Requirement already satisfied: tqdm in /usr/local/lib/python3.6/dist-packages (from lime) (4.41.1)\n",
            "Requirement already satisfied: scikit-learn>=0.18 in /usr/local/lib/python3.6/dist-packages (from lime) (0.22.2.post1)\n",
            "Requirement already satisfied: scikit-image>=0.12 in /usr/local/lib/python3.6/dist-packages (from lime) (0.16.2)\n",
            "Requirement already satisfied: python-dateutil>=2.1 in /usr/local/lib/python3.6/dist-packages (from matplotlib->lime) (2.8.1)\n",
            "Requirement already satisfied: pyparsing!=2.0.4,!=2.1.2,!=2.1.6,>=2.0.1 in /usr/local/lib/python3.6/dist-packages (from matplotlib->lime) (2.4.7)\n",
            "Requirement already satisfied: cycler>=0.10 in /usr/local/lib/python3.6/dist-packages (from matplotlib->lime) (0.10.0)\n",
            "Requirement already satisfied: kiwisolver>=1.0.1 in /usr/local/lib/python3.6/dist-packages (from matplotlib->lime) (1.3.1)\n",
            "Requirement already satisfied: joblib>=0.11 in /usr/local/lib/python3.6/dist-packages (from scikit-learn>=0.18->lime) (1.0.0)\n",
            "Requirement already satisfied: networkx>=2.0 in /usr/local/lib/python3.6/dist-packages (from scikit-image>=0.12->lime) (2.5)\n",
            "Requirement already satisfied: PyWavelets>=0.4.0 in /usr/local/lib/python3.6/dist-packages (from scikit-image>=0.12->lime) (1.1.1)\n",
            "Requirement already satisfied: pillow>=4.3.0 in /usr/local/lib/python3.6/dist-packages (from scikit-image>=0.12->lime) (7.0.0)\n",
            "Requirement already satisfied: imageio>=2.3.0 in /usr/local/lib/python3.6/dist-packages (from scikit-image>=0.12->lime) (2.4.1)\n",
            "Requirement already satisfied: six>=1.5 in /usr/local/lib/python3.6/dist-packages (from python-dateutil>=2.1->matplotlib->lime) (1.15.0)\n",
            "Requirement already satisfied: decorator>=4.3.0 in /usr/local/lib/python3.6/dist-packages (from networkx>=2.0->scikit-image>=0.12->lime) (4.4.2)\n",
            "Building wheels for collected packages: lime\n",
            "  Building wheel for lime (setup.py) ... \u001b[?25l\u001b[?25hdone\n",
            "  Created wheel for lime: filename=lime-0.2.0.1-cp36-none-any.whl size=283846 sha256=0873fb0f69c7175dbc2870affa67d10dd7aaaaa8254c30f8c949929e47216e99\n",
            "  Stored in directory: /root/.cache/pip/wheels/4c/4f/a5/0bc765457bd41378bf3ce8d17d7495369d6e7ca3b712c60c89\n",
            "Successfully built lime\n",
            "Installing collected packages: lime\n",
            "Successfully installed lime-0.2.0.1\n"
          ],
          "name": "stdout"
        }
      ]
    },
    {
      "cell_type": "code",
      "metadata": {
        "id": "FI8AeXUqIPFI"
      },
      "source": [
        "import pandas as pd\r\n",
        "import numpy as np\r\n",
        "import sklearn\r\n",
        "import sklearn.ensemble\r\n",
        "import sklearn.metrics\r\n",
        "from sklearn.utils import shuffle\r\n",
        "\r\n",
        "import re\r\n",
        "\r\n",
        "from nltk.corpus import stopwords\r\n",
        "from sklearn.model_selection import train_test_split\r\n",
        "from sklearn.feature_extraction.text import CountVectorizer\r\n",
        "from sklearn.linear_model import LogisticRegression\r\n",
        "from sklearn.metrics import accuracy_score, f1_score, precision_score, recall_score\r\n",
        "import lime\r\n",
        "from lime import lime_text\r\n",
        "from lime.lime_text import LimeTextExplainer\r\n",
        "from sklearn.pipeline import make_pipeline"
      ],
      "execution_count": 3,
      "outputs": []
    },
    {
      "cell_type": "code",
      "metadata": {
        "id": "tc9AbTo7IPdU"
      },
      "source": [
        "filepath='https://raw.githubusercontent.com/plthiyagu/Personnel/master/Dataset/hotel-reviews.csv'\r\n",
        "df= pd.read_csv(filepath)"
      ],
      "execution_count": 6,
      "outputs": []
    },
    {
      "cell_type": "code",
      "metadata": {
        "colab": {
          "base_uri": "https://localhost:8080/"
        },
        "id": "DIq3XGJDJR7r",
        "outputId": "4d4402e2-946c-4659-e20d-76445956a134"
      },
      "source": [
        "from nltk.sentiment.vader import SentimentIntensityAnalyzer\r\n",
        "from nltk.sentiment.util import *\r\n",
        "from textblob import TextBlob\r\n",
        "from nltk import tokenize"
      ],
      "execution_count": 7,
      "outputs": [
        {
          "output_type": "stream",
          "text": [
            "/usr/local/lib/python3.6/dist-packages/nltk/twitter/__init__.py:20: UserWarning: The twython library has not been installed. Some functionality from the twitter package will not be available.\n",
            "  warnings.warn(\"The twython library has not been installed. \"\n"
          ],
          "name": "stderr"
        }
      ]
    },
    {
      "cell_type": "code",
      "metadata": {
        "colab": {
          "base_uri": "https://localhost:8080/"
        },
        "id": "Xbr4zL-iJTDs",
        "outputId": "88efa118-27cd-4251-9c11-c2475100d58d"
      },
      "source": [
        "nltk.download('punkt')\r\n",
        "nltk.download('averaged_perceptron_tagger')\r\n",
        "nltk.download('wordnet')\r\n",
        "nltk.download('vader_lexicon')"
      ],
      "execution_count": 8,
      "outputs": [
        {
          "output_type": "stream",
          "text": [
            "[nltk_data] Downloading package punkt to /root/nltk_data...\n",
            "[nltk_data]   Unzipping tokenizers/punkt.zip.\n",
            "[nltk_data] Downloading package averaged_perceptron_tagger to\n",
            "[nltk_data]     /root/nltk_data...\n",
            "[nltk_data]   Unzipping taggers/averaged_perceptron_tagger.zip.\n",
            "[nltk_data] Downloading package wordnet to /root/nltk_data...\n",
            "[nltk_data]   Unzipping corpora/wordnet.zip.\n",
            "[nltk_data] Downloading package vader_lexicon to /root/nltk_data...\n"
          ],
          "name": "stdout"
        },
        {
          "output_type": "execute_result",
          "data": {
            "text/plain": [
              "True"
            ]
          },
          "metadata": {
            "tags": []
          },
          "execution_count": 8
        }
      ]
    },
    {
      "cell_type": "code",
      "metadata": {
        "id": "EAL8iZRaJWQz"
      },
      "source": [
        "df.drop_duplicates(subset =\"Description\", keep = \"first\", inplace = True)"
      ],
      "execution_count": 9,
      "outputs": []
    },
    {
      "cell_type": "code",
      "metadata": {
        "colab": {
          "base_uri": "https://localhost:8080/"
        },
        "id": "JhvcjiHPJbsK",
        "outputId": "fec1ddab-b5f1-43eb-b76a-5bdac4ca4616"
      },
      "source": [
        "df.shape"
      ],
      "execution_count": 10,
      "outputs": [
        {
          "output_type": "execute_result",
          "data": {
            "text/plain": [
              "(38919, 5)"
            ]
          },
          "metadata": {
            "tags": []
          },
          "execution_count": 10
        }
      ]
    },
    {
      "cell_type": "code",
      "metadata": {
        "id": "y5yFN-BHJeAq"
      },
      "source": [
        "df['Description'] = df['Description'].astype('str')"
      ],
      "execution_count": 11,
      "outputs": []
    },
    {
      "cell_type": "code",
      "metadata": {
        "id": "-9IXWtUYJgjD"
      },
      "source": [
        "def get_polarity(text):\r\n",
        "    return TextBlob(text).sentiment.polarity\r\n",
        "\r\n",
        "\r\n",
        "df['Polarity'] = df['Description'].apply(get_polarity)"
      ],
      "execution_count": 12,
      "outputs": []
    },
    {
      "cell_type": "code",
      "metadata": {
        "id": "iCxn4TVTJlo3"
      },
      "source": [
        "df['Sentiment_Type']=''\r\n",
        "df.loc[df.Polarity>0,'Sentiment_Type']='POSITIVE'\r\n",
        "df.loc[df.Polarity==0,'Sentiment_Type']='NEUTRAL'\r\n",
        "df.loc[df.Polarity<0,'Sentiment_Type']='NEGATIVE'"
      ],
      "execution_count": 13,
      "outputs": []
    },
    {
      "cell_type": "code",
      "metadata": {
        "colab": {
          "base_uri": "https://localhost:8080/"
        },
        "id": "72qHcm2CKH4n",
        "outputId": "a05e6c1b-c511-40b0-d5c4-e1f2d9827f20"
      },
      "source": [
        "df['Sentiment_Type'].value_counts()"
      ],
      "execution_count": 14,
      "outputs": [
        {
          "output_type": "execute_result",
          "data": {
            "text/plain": [
              "POSITIVE    35989\n",
              "NEGATIVE     2848\n",
              "NEUTRAL        82\n",
              "Name: Sentiment_Type, dtype: int64"
            ]
          },
          "metadata": {
            "tags": []
          },
          "execution_count": 14
        }
      ]
    },
    {
      "cell_type": "code",
      "metadata": {
        "colab": {
          "base_uri": "https://localhost:8080/",
          "height": 338
        },
        "id": "faPmf-ZDKKoN",
        "outputId": "cca27ee4-df86-420b-8e97-405236af4d0b"
      },
      "source": [
        "df.Sentiment_Type.value_counts().plot(kind='bar',title=\"Sentiment Analysis\")"
      ],
      "execution_count": 15,
      "outputs": [
        {
          "output_type": "execute_result",
          "data": {
            "text/plain": [
              "<matplotlib.axes._subplots.AxesSubplot at 0x7fd2535cf6d8>"
            ]
          },
          "metadata": {
            "tags": []
          },
          "execution_count": 15
        },
        {
          "output_type": "display_data",
          "data": {
            "image/png": "[encoded data removed]",
            "text/plain": [
              "<Figure size 432x288 with 1 Axes>"
            ]
          },
          "metadata": {
            "tags": [],
            "needs_background": "light"
          }
        }
      ]
    },
    {
      "cell_type": "code",
      "metadata": {
        "id": "aAIbJbzvKZBL"
      },
      "source": [
        "# Apply first level cleaning\r\n",
        "import re\r\n",
        "import string\r\n",
        "\r\n",
        "#This function converts to lower-case, removes square bracket, removes numbers and punctuation\r\n",
        "def text_clean(text):\r\n",
        "    text = text.lower()\r\n",
        "    text = re.sub('\\[.*?\\]', '', text)\r\n",
        "    text = re.sub('[%s]' % re.escape(string.punctuation), '', text)\r\n",
        "    text = re.sub('\\w*\\d\\w*', '', text)\r\n",
        "    return text\r\n",
        "\r\n",
        "cleaned = lambda x: text_clean(x)"
      ],
      "execution_count": 17,
      "outputs": []
    },
    {
      "cell_type": "code",
      "metadata": {
        "colab": {
          "base_uri": "https://localhost:8080/",
          "height": 359
        },
        "id": "DRw3QYxoKd98",
        "outputId": "c773fced-d26d-4f6b-a7d9-a1a94145bb08"
      },
      "source": [
        "# Let's take a look at the updated text\r\n",
        "df['Description'] = pd.DataFrame(df.Description.apply(cleaned))\r\n",
        "df.head(10)"
      ],
      "execution_count": 18,
      "outputs": [
        {
          "output_type": "execute_result",
          "data": {
            "text/html": [
              "<div>\n",
              "<style scoped>\n",
              "    .dataframe tbody tr th:only-of-type {\n",
              "        vertical-align: middle;\n",
              "    }\n",
              "\n",
              "    .dataframe tbody tr th {\n",
              "        vertical-align: top;\n",
              "    }\n",
              "\n",
              "    .dataframe thead th {\n",
              "        text-align: right;\n",
              "    }\n",
              "</style>\n",
              "<table border=\"1\" class=\"dataframe\">\n",
              "  <thead>\n",
              "    <tr style=\"text-align: right;\">\n",
              "      <th></th>\n",
              "      <th>User_ID</th>\n",
              "      <th>Description</th>\n",
              "      <th>Browser_Used</th>\n",
              "      <th>Device_Used</th>\n",
              "      <th>Is_Response</th>\n",
              "      <th>Polarity</th>\n",
              "      <th>Sentiment_Type</th>\n",
              "    </tr>\n",
              "  </thead>\n",
              "  <tbody>\n",
              "    <tr>\n",
              "      <th>0</th>\n",
              "      <td>id10326</td>\n",
              "      <td>the room was kind of clean but had a very stro...</td>\n",
              "      <td>Edge</td>\n",
              "      <td>Mobile</td>\n",
              "      <td>not happy</td>\n",
              "      <td>0.346190</td>\n",
              "      <td>POSITIVE</td>\n",
              "    </tr>\n",
              "    <tr>\n",
              "      <th>1</th>\n",
              "      <td>id10327</td>\n",
              "      <td>i stayed at the crown plaza april   april   th...</td>\n",
              "      <td>Internet Explorer</td>\n",
              "      <td>Mobile</td>\n",
              "      <td>not happy</td>\n",
              "      <td>0.042363</td>\n",
              "      <td>POSITIVE</td>\n",
              "    </tr>\n",
              "    <tr>\n",
              "      <th>2</th>\n",
              "      <td>id10328</td>\n",
              "      <td>i booked this hotel through hotwire at the low...</td>\n",
              "      <td>Mozilla</td>\n",
              "      <td>Tablet</td>\n",
              "      <td>not happy</td>\n",
              "      <td>0.124969</td>\n",
              "      <td>POSITIVE</td>\n",
              "    </tr>\n",
              "    <tr>\n",
              "      <th>3</th>\n",
              "      <td>id10329</td>\n",
              "      <td>stayed here with husband and sons on the way t...</td>\n",
              "      <td>InternetExplorer</td>\n",
              "      <td>Desktop</td>\n",
              "      <td>happy</td>\n",
              "      <td>0.718500</td>\n",
              "      <td>POSITIVE</td>\n",
              "    </tr>\n",
              "    <tr>\n",
              "      <th>4</th>\n",
              "      <td>id10330</td>\n",
              "      <td>my girlfriends and i stayed here to celebrate ...</td>\n",
              "      <td>Edge</td>\n",
              "      <td>Tablet</td>\n",
              "      <td>not happy</td>\n",
              "      <td>0.117192</td>\n",
              "      <td>POSITIVE</td>\n",
              "    </tr>\n",
              "    <tr>\n",
              "      <th>5</th>\n",
              "      <td>id10331</td>\n",
              "      <td>we had  rooms one was very nice and clearly ha...</td>\n",
              "      <td>InternetExplorer</td>\n",
              "      <td>Desktop</td>\n",
              "      <td>happy</td>\n",
              "      <td>0.205686</td>\n",
              "      <td>POSITIVE</td>\n",
              "    </tr>\n",
              "    <tr>\n",
              "      <th>6</th>\n",
              "      <td>id10332</td>\n",
              "      <td>my husband and i have stayed in this hotel a f...</td>\n",
              "      <td>Firefox</td>\n",
              "      <td>Tablet</td>\n",
              "      <td>not happy</td>\n",
              "      <td>0.151852</td>\n",
              "      <td>POSITIVE</td>\n",
              "    </tr>\n",
              "    <tr>\n",
              "      <th>7</th>\n",
              "      <td>id10333</td>\n",
              "      <td>my wife  i stayed in this glorious city a whil...</td>\n",
              "      <td>Google Chrome</td>\n",
              "      <td>Mobile</td>\n",
              "      <td>happy</td>\n",
              "      <td>0.217632</td>\n",
              "      <td>POSITIVE</td>\n",
              "    </tr>\n",
              "    <tr>\n",
              "      <th>8</th>\n",
              "      <td>id10334</td>\n",
              "      <td>my boyfriend and i stayed at the fairmont on a...</td>\n",
              "      <td>Internet Explorer</td>\n",
              "      <td>Desktop</td>\n",
              "      <td>happy</td>\n",
              "      <td>0.333836</td>\n",
              "      <td>POSITIVE</td>\n",
              "    </tr>\n",
              "    <tr>\n",
              "      <th>9</th>\n",
              "      <td>id10335</td>\n",
              "      <td>wonderful staff great location but it was defi...</td>\n",
              "      <td>Chrome</td>\n",
              "      <td>Tablet</td>\n",
              "      <td>not happy</td>\n",
              "      <td>0.234167</td>\n",
              "      <td>POSITIVE</td>\n",
              "    </tr>\n",
              "  </tbody>\n",
              "</table>\n",
              "</div>"
            ],
            "text/plain": [
              "   User_ID  ... Sentiment_Type\n",
              "0  id10326  ...       POSITIVE\n",
              "1  id10327  ...       POSITIVE\n",
              "2  id10328  ...       POSITIVE\n",
              "3  id10329  ...       POSITIVE\n",
              "4  id10330  ...       POSITIVE\n",
              "5  id10331  ...       POSITIVE\n",
              "6  id10332  ...       POSITIVE\n",
              "7  id10333  ...       POSITIVE\n",
              "8  id10334  ...       POSITIVE\n",
              "9  id10335  ...       POSITIVE\n",
              "\n",
              "[10 rows x 7 columns]"
            ]
          },
          "metadata": {
            "tags": []
          },
          "execution_count": 18
        }
      ]
    },
    {
      "cell_type": "code",
      "metadata": {
        "id": "g9zyTY92Kj0N"
      },
      "source": [
        ""
      ],
      "execution_count": null,
      "outputs": []
    }
  ]
}