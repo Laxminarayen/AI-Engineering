{
  "nbformat": 4,
  "nbformat_minor": 0,
  "metadata": {
    "colab": {
      "name": "How To Create A Powerful TF-IDF Keyword Research Tool.ipynb",
      "provenance": [],
      "authorship_tag": "ABX9TyOjsEDOIRdCGeZ2dPptqQ/W",
      "include_colab_link": true
    },
    "kernelspec": {
      "name": "python3",
      "display_name": "Python 3"
    }
  },
  "cells": [
    {
      "cell_type": "markdown",
      "metadata": {
        "id": "view-in-github",
        "colab_type": "text"
      },
      "source": [
        "<a href=\"https://colab.research.google.com/github/plthiyagu/AI-Engineering/blob/master/08-NLP/How_To_Create_A_Powerful_TF_IDF_Keyword_Research_Tool.ipynb\" target=\"_parent\"><img src=\"https://colab.research.google.com/assets/colab-badge.svg\" alt=\"Open In Colab\"/></a>"
      ]
    },
    {
      "cell_type": "code",
      "metadata": {
        "id": "llcoQhIkicmJ"
      },
      "source": [
        "!pip install fake-useragent"
      ],
      "execution_count": null,
      "outputs": []
    },
    {
      "cell_type": "code",
      "metadata": {
        "colab": {
          "base_uri": "https://localhost:8080/"
        },
        "id": "uiBa3AjniWeW",
        "outputId": "b8992bad-e1c5-485e-afdd-12e3c7faab10"
      },
      "source": [
        "import pandas as pd\r\n",
        "import numpy as np\r\n",
        "import urllib\r\n",
        "from fake_useragent import UserAgent\r\n",
        "import requests\r\n",
        "import re\r\n",
        "from urllib.request import Request, urlopen\r\n",
        "from sklearn.feature_extraction.text import TfidfVectorizer\r\n",
        "from sklearn.feature_extraction.text import CountVectorizer\r\n",
        "import math\r\n",
        "import nltk\r\n",
        "from nltk.corpus import stopwords\r\n",
        "nltk.download('stopwords')\r\n",
        "stopWords = list(set(stopwords.words('english')))\r\n",
        "from bs4 import BeautifulSoup\r\n",
        "def get_text(url):\r\n",
        "    try:\r\n",
        "        req = Request(url , headers={'User-Agent': 'Mozilla/5.0'})\r\n",
        "        webpage = urlopen(req,timeout=5).read()\r\n",
        "        soup = BeautifulSoup(webpage, \"html.parser\")\r\n",
        "        texts = soup.findAll(text=True)\r\n",
        "        res=u\" \".join(t.strip() for t in texts if t.parent.name not in ['style', 'script', 'head', 'title', 'meta', '[document]'])\r\n",
        "        return(res)\r\n",
        "    except:\r\n",
        "        return False\r\n"
      ],
      "execution_count": 7,
      "outputs": [
        {
          "output_type": "stream",
          "text": [
            "[nltk_data] Downloading package stopwords to /root/nltk_data...\n",
            "[nltk_data]   Unzipping corpora/stopwords.zip.\n"
          ],
          "name": "stdout"
        }
      ]
    },
    {
      "cell_type": "code",
      "metadata": {
        "colab": {
          "base_uri": "https://localhost:8080/",
          "height": 86
        },
        "id": "0kc6_xceiXGH",
        "outputId": "a92666d7-39b8-4a45-e3dd-2595caff79cb"
      },
      "source": [
        "get_text('https://en.wikipedia.org/wiki/Machine_learning')[0:500]\r\n",
        "#I will return the first 500 characters\r\n"
      ],
      "execution_count": 8,
      "outputs": [
        {
          "output_type": "execute_result",
          "data": {
            "application/vnd.google.colaboratory.intrinsic+json": {
              "type": "string"
            },
            "text/plain": [
              "'      CentralNotice    Machine learning   From Wikipedia, the free encyclopedia     Jump to navigation  Jump to search  For the journal, see Machine Learning (journal) .  \"Statistical learning\" redirects here. For statistical learning in linguistics, see statistical learning in language acquisition .  Scientific study of algorithms and statistical models that computer systems use to perform tasks without explicit instructions  Part of a series on Machine learning and data mining  Problems  Class'"
            ]
          },
          "metadata": {
            "tags": []
          },
          "execution_count": 8
        }
      ]
    },
    {
      "cell_type": "markdown",
      "metadata": {
        "id": "KBhwyf1njCGh"
      },
      "source": [
        "Step 2: Get the URLs from competitors\r\n"
      ]
    },
    {
      "cell_type": "code",
      "metadata": {
        "id": "zGGvuyWgi9OV"
      },
      "source": [
        "def google_results(keyword, n_results):\r\n",
        "    query = keyword\r\n",
        "    query = urllib.parse.quote_plus(query) # Format into URL encoding\r\n",
        "    number_result = n_results\r\n",
        "    ua = UserAgent()\r\n",
        "    google_url = \"https://www.google.com/search?q=\" + query + \"&num=\" + str(number_result)\r\n",
        "    response = requests.get(google_url, {\"User-Agent\": ua.random})\r\n",
        "    soup = BeautifulSoup(response.text, \"html.parser\")\r\n",
        "    result_div = soup.find_all('div', attrs = {'class': 'ZINbbc'})\r\n",
        "    results=[re.search('\\/url\\?q\\=(.*)\\&sa',str(i.find('a', href = True)['href'])) for i in result_div]\r\n",
        "    links=[i.group(1) for i in results if i != None]\r\n",
        "    return (links)"
      ],
      "execution_count": 26,
      "outputs": []
    },
    {
      "cell_type": "code",
      "metadata": {
        "colab": {
          "base_uri": "https://localhost:8080/"
        },
        "id": "Nec9kSl5jJUE",
        "outputId": "b552c80e-dbc9-4a3a-97ae-f83745f8e4e3"
      },
      "source": [
        "google_results('machine learning blog',10)"
      ],
      "execution_count": 27,
      "outputs": [
        {
          "output_type": "execute_result",
          "data": {
            "text/plain": [
              "['https://towardsai.net/p/machine-learning/best-machine-learning-blogs-6730ea2df3bd',\n",
              " 'https://machinelearningmastery.com/blog/',\n",
              " 'https://blog.ml.cmu.edu/',\n",
              " 'https://www.springboard.com/blog/machine-learning-blog/',\n",
              " 'http://ai.googleblog.com/',\n",
              " 'https://blog.feedspot.com/machine_learning_blogs/',\n",
              " 'https://towardsdatascience.com/how-to-start-a-machine-learning-blog-in-a-month-7eaf84692df9',\n",
              " 'https://deepmind.com/blog',\n",
              " 'https://www.quora.com/What-are-the-best-regularly-updated-machine-learning-blogs-or-resources-available',\n",
              " 'https://lionbridge.ai/articles/best-20-ai-and-machine-learning-blogs-to-follow-religiously/']"
            ]
          },
          "metadata": {
            "tags": []
          },
          "execution_count": 27
        }
      ]
    },
    {
      "cell_type": "markdown",
      "metadata": {
        "id": "7Ywfldc4jOmM"
      },
      "source": [
        "Step 3: Analyse the text and get the most important words.\r\n",
        "\r\n"
      ]
    },
    {
      "cell_type": "code",
      "metadata": {
        "id": "sJ7mBfUCjLgL"
      },
      "source": [
        "def tf_idf_analysis(keyword_text):\r\n",
        "  print(keyword_text)\r\n",
        "  links=google_results(keyword_text,12)\r\n",
        "  print(links)\r\n",
        "  text=[]\r\n",
        "  for i in links:\r\n",
        "    t=get_text(i)\r\n",
        "    if t:\r\n",
        "      text.append(t)\r\n",
        "    print(text)\r\n",
        "            \r\n",
        "  v = TfidfVectorizer(min_df=2,analyzer='word',ngram_range=(1,5),stop_words=stopWords)\r\n",
        "  x = v.fit_transform(text)\r\n",
        "  f = pd.DataFrame(x.toarray(), columns = v.get_feature_names())\r\n",
        "  d=pd.concat([pd.DataFrame(f.mean(axis=0)),pd.DataFrame(f.max(axis=0))],axis=1)\r\n",
        "    \r\n",
        "    \r\n",
        "  tf=pd.DataFrame((f>0).sum(axis=0))\r\n",
        "  d=d.reset_index().merge(tf.reset_index(),on='index',how='left')\r\n",
        "  d.columns=['word','average_tfidf','max_tfidf','frequency']\r\n",
        "  #you can comment the following part if you want the number of URLs that the word occurs. The percentage makes sense\r\n",
        "  #when we have a lot of URLs to check\r\n",
        "  d['frequency']=round((d['frequency']/len(text))*100)\r\n",
        "  return(d)\r\n"
      ],
      "execution_count": 28,
      "outputs": []
    },
    {
      "cell_type": "code",
      "metadata": {
        "id": "SxK1iKsBjWwD"
      },
      "source": [
        "x= tf_idf_analysis('machine learning blog')\r\n",
        "#remove the numbers and sort by max tfidf and get the top20 words\r\n",
        "x[x['word'].str.isalpha()].sort_values('max_tfidf',ascending=False).head(20)\r\n"
      ],
      "execution_count": null,
      "outputs": []
    },
    {
      "cell_type": "code",
      "metadata": {
        "id": "4P7o7H_Bjacb"
      },
      "source": [
        ""
      ],
      "execution_count": null,
      "outputs": []
    }
  ]
}